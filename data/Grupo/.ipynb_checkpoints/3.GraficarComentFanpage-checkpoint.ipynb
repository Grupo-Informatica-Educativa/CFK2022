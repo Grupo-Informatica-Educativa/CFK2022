{
 "cells": [
  {
   "cell_type": "code",
   "execution_count": 2,
   "id": "b124be85-8136-4125-ac68-c899151918ce",
   "metadata": {},
   "outputs": [],
   "source": [
    "import pandas as pd\n",
    "import plotly.express as px"
   ]
  },
  {
   "cell_type": "code",
   "execution_count": 38,
   "id": "64ee78e2-9c76-4e0e-aae1-caeabb35c3cf",
   "metadata": {},
   "outputs": [],
   "source": [
    "config_chart = {\n",
    "        'scrollZoom': True,\n",
    "        'displaylogo': True,\n",
    "        'responsive': True,\n",
    "        'editable': True,\n",
    "        'toImageButtonOptions': {\n",
    "            'format': 'png',  # one of png, svg, jpeg, webp\n",
    "            'filename': 'grafica_CAP',\n",
    "            'height': None,\n",
    "            'width': None,\n",
    "            'scale': True  # Multiply title/legend/axis/canvas sizes by this factor\n",
    "        }}"
   ]
  },
  {
   "cell_type": "markdown",
   "id": "42cdf92a-a07a-4091-bb78-669060d2f1b5",
   "metadata": {
    "jp-MarkdownHeadingCollapsed": true,
    "tags": []
   },
   "source": [
    "# Fanpage Comentarios"
   ]
  },
  {
   "cell_type": "code",
   "execution_count": 24,
   "id": "648edfab-c923-4f40-8b47-3e82440ea9f0",
   "metadata": {},
   "outputs": [],
   "source": [
    "comentariosfp=pd.read_excel('Acumulado Fanpage 2022.xlsx')\n",
    "# comentariosfp"
   ]
  },
  {
   "cell_type": "markdown",
   "id": "132e3001-0aa9-422b-af86-53412a4c95df",
   "metadata": {
    "jp-MarkdownHeadingCollapsed": true,
    "tags": []
   },
   "source": [
    "## Fanpage Comentarios = Genero x CAP"
   ]
  },
  {
   "cell_type": "code",
   "execution_count": 4,
   "id": "edc03897-4e97-4034-a1c1-0211b5d833e7",
   "metadata": {},
   "outputs": [
    {
     "data": {
      "text/plain": [
       "['Positivo para comunidad de práctica',\n",
       " 'Participa en una discusión grupal con dos o más docentes',\n",
       " 'Comparte su experiencia frente a la actividad',\n",
       " 'Ayuda a otros docentes a resolver dudas/ dificultades. Realiza sugerencias',\n",
       " 'Solicita apoyo a otros docentes para resolver sus dudas/ dificultades',\n",
       " 'Tendencia a trabajo individual',\n",
       " 'NA']"
      ]
     },
     "execution_count": 4,
     "metadata": {},
     "output_type": "execute_result"
    }
   ],
   "source": [
    "tipo='''Positivo para comunidad de práctica\tParticipa en una discusión grupal con dos o más docentes\tComparte su experiencia frente a la actividad\tAyuda a otros docentes a resolver dudas/ dificultades. Realiza sugerencias\tSolicita apoyo a otros docentes para resolver sus dudas/ dificultades\tTendencia a trabajo individual\tNA'''\n",
    "tipos = tipo.split('\t')\n",
    "tipos"
   ]
  },
  {
   "cell_type": "code",
   "execution_count": 5,
   "id": "c07d4e68-102c-4a48-99eb-43ffdf2773ef",
   "metadata": {},
   "outputs": [],
   "source": [
    "nuevost= ['Positivo para comunidad de práctica',\n",
    " 'Participa en una discusión grupal',\n",
    " 'Comparte su experiencia frente a la actividad',\n",
    " 'Ayuda a resolver dudas y realiza sugerencias',\n",
    " 'Solicita apoyo para resolver sus dudas',\n",
    " 'Tendencia a trabajo individual',\n",
    " 'No indica consolidación de CAP']\n",
    "\n",
    "etiquetas = dict(zip(tipos,nuevost))"
   ]
  },
  {
   "cell_type": "code",
   "execution_count": 6,
   "id": "54dc890d-b7d0-4e4d-97f2-f14dc45ba868",
   "metadata": {},
   "outputs": [
    {
     "data": {
      "text/html": [
       "<div>\n",
       "<style scoped>\n",
       "    .dataframe tbody tr th:only-of-type {\n",
       "        vertical-align: middle;\n",
       "    }\n",
       "\n",
       "    .dataframe tbody tr th {\n",
       "        vertical-align: top;\n",
       "    }\n",
       "\n",
       "    .dataframe thead th {\n",
       "        text-align: right;\n",
       "    }\n",
       "</style>\n",
       "<table border=\"1\" class=\"dataframe\">\n",
       "  <thead>\n",
       "    <tr style=\"text-align: right;\">\n",
       "      <th></th>\n",
       "      <th>Género</th>\n",
       "      <th>Positivo para comunidad de práctica</th>\n",
       "      <th>Participa en una discusión grupal</th>\n",
       "      <th>Comparte su experiencia frente a la actividad</th>\n",
       "      <th>Ayuda a resolver dudas y realiza sugerencias</th>\n",
       "      <th>Solicita apoyo para resolver sus dudas</th>\n",
       "      <th>Tendencia a trabajo individual</th>\n",
       "      <th>No indica consolidación de CAP</th>\n",
       "    </tr>\n",
       "  </thead>\n",
       "  <tbody>\n",
       "    <tr>\n",
       "      <th>0</th>\n",
       "      <td>Mujer</td>\n",
       "      <td>NaN</td>\n",
       "      <td>NaN</td>\n",
       "      <td>NaN</td>\n",
       "      <td>NaN</td>\n",
       "      <td>NaN</td>\n",
       "      <td>NaN</td>\n",
       "      <td>1.0</td>\n",
       "    </tr>\n",
       "    <tr>\n",
       "      <th>1</th>\n",
       "      <td>No especificado</td>\n",
       "      <td>NaN</td>\n",
       "      <td>NaN</td>\n",
       "      <td>NaN</td>\n",
       "      <td>NaN</td>\n",
       "      <td>NaN</td>\n",
       "      <td>NaN</td>\n",
       "      <td>NaN</td>\n",
       "    </tr>\n",
       "    <tr>\n",
       "      <th>2</th>\n",
       "      <td>Mujer</td>\n",
       "      <td>NaN</td>\n",
       "      <td>NaN</td>\n",
       "      <td>NaN</td>\n",
       "      <td>NaN</td>\n",
       "      <td>NaN</td>\n",
       "      <td>NaN</td>\n",
       "      <td>1.0</td>\n",
       "    </tr>\n",
       "    <tr>\n",
       "      <th>3</th>\n",
       "      <td>No especificado</td>\n",
       "      <td>NaN</td>\n",
       "      <td>NaN</td>\n",
       "      <td>NaN</td>\n",
       "      <td>NaN</td>\n",
       "      <td>NaN</td>\n",
       "      <td>NaN</td>\n",
       "      <td>1.0</td>\n",
       "    </tr>\n",
       "    <tr>\n",
       "      <th>4</th>\n",
       "      <td>Hombre</td>\n",
       "      <td>NaN</td>\n",
       "      <td>NaN</td>\n",
       "      <td>NaN</td>\n",
       "      <td>NaN</td>\n",
       "      <td>NaN</td>\n",
       "      <td>NaN</td>\n",
       "      <td>1.0</td>\n",
       "    </tr>\n",
       "    <tr>\n",
       "      <th>...</th>\n",
       "      <td>...</td>\n",
       "      <td>...</td>\n",
       "      <td>...</td>\n",
       "      <td>...</td>\n",
       "      <td>...</td>\n",
       "      <td>...</td>\n",
       "      <td>...</td>\n",
       "      <td>...</td>\n",
       "    </tr>\n",
       "    <tr>\n",
       "      <th>280</th>\n",
       "      <td>Mujer</td>\n",
       "      <td>NaN</td>\n",
       "      <td>NaN</td>\n",
       "      <td>NaN</td>\n",
       "      <td>NaN</td>\n",
       "      <td>NaN</td>\n",
       "      <td>NaN</td>\n",
       "      <td>1.0</td>\n",
       "    </tr>\n",
       "    <tr>\n",
       "      <th>281</th>\n",
       "      <td>No especificado</td>\n",
       "      <td>NaN</td>\n",
       "      <td>NaN</td>\n",
       "      <td>NaN</td>\n",
       "      <td>NaN</td>\n",
       "      <td>NaN</td>\n",
       "      <td>NaN</td>\n",
       "      <td>NaN</td>\n",
       "    </tr>\n",
       "    <tr>\n",
       "      <th>282</th>\n",
       "      <td>Hombre</td>\n",
       "      <td>NaN</td>\n",
       "      <td>NaN</td>\n",
       "      <td>NaN</td>\n",
       "      <td>NaN</td>\n",
       "      <td>NaN</td>\n",
       "      <td>NaN</td>\n",
       "      <td>1.0</td>\n",
       "    </tr>\n",
       "    <tr>\n",
       "      <th>283</th>\n",
       "      <td>Mujer</td>\n",
       "      <td>NaN</td>\n",
       "      <td>NaN</td>\n",
       "      <td>NaN</td>\n",
       "      <td>NaN</td>\n",
       "      <td>NaN</td>\n",
       "      <td>NaN</td>\n",
       "      <td>1.0</td>\n",
       "    </tr>\n",
       "    <tr>\n",
       "      <th>284</th>\n",
       "      <td>Mujer</td>\n",
       "      <td>NaN</td>\n",
       "      <td>NaN</td>\n",
       "      <td>NaN</td>\n",
       "      <td>NaN</td>\n",
       "      <td>NaN</td>\n",
       "      <td>NaN</td>\n",
       "      <td>1.0</td>\n",
       "    </tr>\n",
       "  </tbody>\n",
       "</table>\n",
       "<p>285 rows × 8 columns</p>\n",
       "</div>"
      ],
      "text/plain": [
       "              Género  Positivo para comunidad de práctica  \\\n",
       "0              Mujer                                  NaN   \n",
       "1    No especificado                                  NaN   \n",
       "2              Mujer                                  NaN   \n",
       "3    No especificado                                  NaN   \n",
       "4             Hombre                                  NaN   \n",
       "..               ...                                  ...   \n",
       "280            Mujer                                  NaN   \n",
       "281  No especificado                                  NaN   \n",
       "282           Hombre                                  NaN   \n",
       "283            Mujer                                  NaN   \n",
       "284            Mujer                                  NaN   \n",
       "\n",
       "     Participa en una discusión grupal  \\\n",
       "0                                  NaN   \n",
       "1                                  NaN   \n",
       "2                                  NaN   \n",
       "3                                  NaN   \n",
       "4                                  NaN   \n",
       "..                                 ...   \n",
       "280                                NaN   \n",
       "281                                NaN   \n",
       "282                                NaN   \n",
       "283                                NaN   \n",
       "284                                NaN   \n",
       "\n",
       "     Comparte su experiencia frente a la actividad  \\\n",
       "0                                              NaN   \n",
       "1                                              NaN   \n",
       "2                                              NaN   \n",
       "3                                              NaN   \n",
       "4                                              NaN   \n",
       "..                                             ...   \n",
       "280                                            NaN   \n",
       "281                                            NaN   \n",
       "282                                            NaN   \n",
       "283                                            NaN   \n",
       "284                                            NaN   \n",
       "\n",
       "     Ayuda a resolver dudas y realiza sugerencias  \\\n",
       "0                                             NaN   \n",
       "1                                             NaN   \n",
       "2                                             NaN   \n",
       "3                                             NaN   \n",
       "4                                             NaN   \n",
       "..                                            ...   \n",
       "280                                           NaN   \n",
       "281                                           NaN   \n",
       "282                                           NaN   \n",
       "283                                           NaN   \n",
       "284                                           NaN   \n",
       "\n",
       "     Solicita apoyo para resolver sus dudas  Tendencia a trabajo individual  \\\n",
       "0                                       NaN                             NaN   \n",
       "1                                       NaN                             NaN   \n",
       "2                                       NaN                             NaN   \n",
       "3                                       NaN                             NaN   \n",
       "4                                       NaN                             NaN   \n",
       "..                                      ...                             ...   \n",
       "280                                     NaN                             NaN   \n",
       "281                                     NaN                             NaN   \n",
       "282                                     NaN                             NaN   \n",
       "283                                     NaN                             NaN   \n",
       "284                                     NaN                             NaN   \n",
       "\n",
       "     No indica consolidación de CAP  \n",
       "0                               1.0  \n",
       "1                               NaN  \n",
       "2                               1.0  \n",
       "3                               1.0  \n",
       "4                               1.0  \n",
       "..                              ...  \n",
       "280                             1.0  \n",
       "281                             NaN  \n",
       "282                             1.0  \n",
       "283                             1.0  \n",
       "284                             1.0  \n",
       "\n",
       "[285 rows x 8 columns]"
      ]
     },
     "execution_count": 6,
     "metadata": {},
     "output_type": "execute_result"
    }
   ],
   "source": [
    "genero_tipos=comentariosfp.loc[:,['Género']+tipos]\n",
    "genero_tipos = genero_tipos.rename(columns=etiquetas)\n",
    "genero_tipos"
   ]
  },
  {
   "cell_type": "code",
   "execution_count": 7,
   "id": "b7fa7a4f-7e84-4e21-aa12-7c9e58e3db51",
   "metadata": {},
   "outputs": [
    {
     "data": {
      "text/html": [
       "<div>\n",
       "<style scoped>\n",
       "    .dataframe tbody tr th:only-of-type {\n",
       "        vertical-align: middle;\n",
       "    }\n",
       "\n",
       "    .dataframe tbody tr th {\n",
       "        vertical-align: top;\n",
       "    }\n",
       "\n",
       "    .dataframe thead th {\n",
       "        text-align: right;\n",
       "    }\n",
       "</style>\n",
       "<table border=\"1\" class=\"dataframe\">\n",
       "  <thead>\n",
       "    <tr style=\"text-align: right;\">\n",
       "      <th></th>\n",
       "      <th>Género</th>\n",
       "      <th>variable</th>\n",
       "      <th>value</th>\n",
       "    </tr>\n",
       "  </thead>\n",
       "  <tbody>\n",
       "    <tr>\n",
       "      <th>0</th>\n",
       "      <td>Mujer</td>\n",
       "      <td>Positivo para comunidad de práctica</td>\n",
       "      <td>NaN</td>\n",
       "    </tr>\n",
       "    <tr>\n",
       "      <th>1</th>\n",
       "      <td>No especificado</td>\n",
       "      <td>Positivo para comunidad de práctica</td>\n",
       "      <td>NaN</td>\n",
       "    </tr>\n",
       "    <tr>\n",
       "      <th>2</th>\n",
       "      <td>Mujer</td>\n",
       "      <td>Positivo para comunidad de práctica</td>\n",
       "      <td>NaN</td>\n",
       "    </tr>\n",
       "    <tr>\n",
       "      <th>3</th>\n",
       "      <td>No especificado</td>\n",
       "      <td>Positivo para comunidad de práctica</td>\n",
       "      <td>NaN</td>\n",
       "    </tr>\n",
       "    <tr>\n",
       "      <th>4</th>\n",
       "      <td>Hombre</td>\n",
       "      <td>Positivo para comunidad de práctica</td>\n",
       "      <td>NaN</td>\n",
       "    </tr>\n",
       "    <tr>\n",
       "      <th>...</th>\n",
       "      <td>...</td>\n",
       "      <td>...</td>\n",
       "      <td>...</td>\n",
       "    </tr>\n",
       "    <tr>\n",
       "      <th>1990</th>\n",
       "      <td>Mujer</td>\n",
       "      <td>No indica consolidación de CAP</td>\n",
       "      <td>1.0</td>\n",
       "    </tr>\n",
       "    <tr>\n",
       "      <th>1991</th>\n",
       "      <td>No especificado</td>\n",
       "      <td>No indica consolidación de CAP</td>\n",
       "      <td>NaN</td>\n",
       "    </tr>\n",
       "    <tr>\n",
       "      <th>1992</th>\n",
       "      <td>Hombre</td>\n",
       "      <td>No indica consolidación de CAP</td>\n",
       "      <td>1.0</td>\n",
       "    </tr>\n",
       "    <tr>\n",
       "      <th>1993</th>\n",
       "      <td>Mujer</td>\n",
       "      <td>No indica consolidación de CAP</td>\n",
       "      <td>1.0</td>\n",
       "    </tr>\n",
       "    <tr>\n",
       "      <th>1994</th>\n",
       "      <td>Mujer</td>\n",
       "      <td>No indica consolidación de CAP</td>\n",
       "      <td>1.0</td>\n",
       "    </tr>\n",
       "  </tbody>\n",
       "</table>\n",
       "<p>1995 rows × 3 columns</p>\n",
       "</div>"
      ],
      "text/plain": [
       "               Género                             variable  value\n",
       "0               Mujer  Positivo para comunidad de práctica    NaN\n",
       "1     No especificado  Positivo para comunidad de práctica    NaN\n",
       "2               Mujer  Positivo para comunidad de práctica    NaN\n",
       "3     No especificado  Positivo para comunidad de práctica    NaN\n",
       "4              Hombre  Positivo para comunidad de práctica    NaN\n",
       "...               ...                                  ...    ...\n",
       "1990            Mujer       No indica consolidación de CAP    1.0\n",
       "1991  No especificado       No indica consolidación de CAP    NaN\n",
       "1992           Hombre       No indica consolidación de CAP    1.0\n",
       "1993            Mujer       No indica consolidación de CAP    1.0\n",
       "1994            Mujer       No indica consolidación de CAP    1.0\n",
       "\n",
       "[1995 rows x 3 columns]"
      ]
     },
     "execution_count": 7,
     "metadata": {},
     "output_type": "execute_result"
    }
   ],
   "source": [
    "genero_tipos=genero_tipos.melt(id_vars='Género')\n",
    "genero_tipos"
   ]
  },
  {
   "cell_type": "code",
   "execution_count": 8,
   "id": "2dcc7a1b-0f92-4dbe-84d4-88af54205c67",
   "metadata": {},
   "outputs": [
    {
     "data": {
      "text/html": [
       "<div>\n",
       "<style scoped>\n",
       "    .dataframe tbody tr th:only-of-type {\n",
       "        vertical-align: middle;\n",
       "    }\n",
       "\n",
       "    .dataframe tbody tr th {\n",
       "        vertical-align: top;\n",
       "    }\n",
       "\n",
       "    .dataframe thead th {\n",
       "        text-align: right;\n",
       "    }\n",
       "</style>\n",
       "<table border=\"1\" class=\"dataframe\">\n",
       "  <thead>\n",
       "    <tr style=\"text-align: right;\">\n",
       "      <th></th>\n",
       "      <th>Género</th>\n",
       "      <th>Tipo de interacción</th>\n",
       "      <th>Cant</th>\n",
       "    </tr>\n",
       "  </thead>\n",
       "  <tbody>\n",
       "    <tr>\n",
       "      <th>0</th>\n",
       "      <td>Hombre</td>\n",
       "      <td>Ayuda a resolver dudas y realiza sugerencias</td>\n",
       "      <td>0.0</td>\n",
       "    </tr>\n",
       "    <tr>\n",
       "      <th>1</th>\n",
       "      <td>Hombre</td>\n",
       "      <td>Comparte su experiencia frente a la actividad</td>\n",
       "      <td>1.0</td>\n",
       "    </tr>\n",
       "    <tr>\n",
       "      <th>2</th>\n",
       "      <td>Hombre</td>\n",
       "      <td>No indica consolidación de CAP</td>\n",
       "      <td>42.0</td>\n",
       "    </tr>\n",
       "    <tr>\n",
       "      <th>3</th>\n",
       "      <td>Hombre</td>\n",
       "      <td>Participa en una discusión grupal</td>\n",
       "      <td>0.0</td>\n",
       "    </tr>\n",
       "    <tr>\n",
       "      <th>4</th>\n",
       "      <td>Hombre</td>\n",
       "      <td>Positivo para comunidad de práctica</td>\n",
       "      <td>12.0</td>\n",
       "    </tr>\n",
       "    <tr>\n",
       "      <th>5</th>\n",
       "      <td>Hombre</td>\n",
       "      <td>Solicita apoyo para resolver sus dudas</td>\n",
       "      <td>19.0</td>\n",
       "    </tr>\n",
       "    <tr>\n",
       "      <th>6</th>\n",
       "      <td>Hombre</td>\n",
       "      <td>Tendencia a trabajo individual</td>\n",
       "      <td>0.0</td>\n",
       "    </tr>\n",
       "    <tr>\n",
       "      <th>7</th>\n",
       "      <td>Mujer</td>\n",
       "      <td>Ayuda a resolver dudas y realiza sugerencias</td>\n",
       "      <td>0.0</td>\n",
       "    </tr>\n",
       "    <tr>\n",
       "      <th>8</th>\n",
       "      <td>Mujer</td>\n",
       "      <td>Comparte su experiencia frente a la actividad</td>\n",
       "      <td>5.0</td>\n",
       "    </tr>\n",
       "    <tr>\n",
       "      <th>9</th>\n",
       "      <td>Mujer</td>\n",
       "      <td>No indica consolidación de CAP</td>\n",
       "      <td>63.0</td>\n",
       "    </tr>\n",
       "    <tr>\n",
       "      <th>10</th>\n",
       "      <td>Mujer</td>\n",
       "      <td>Participa en una discusión grupal</td>\n",
       "      <td>0.0</td>\n",
       "    </tr>\n",
       "    <tr>\n",
       "      <th>11</th>\n",
       "      <td>Mujer</td>\n",
       "      <td>Positivo para comunidad de práctica</td>\n",
       "      <td>31.0</td>\n",
       "    </tr>\n",
       "    <tr>\n",
       "      <th>12</th>\n",
       "      <td>Mujer</td>\n",
       "      <td>Solicita apoyo para resolver sus dudas</td>\n",
       "      <td>24.0</td>\n",
       "    </tr>\n",
       "    <tr>\n",
       "      <th>13</th>\n",
       "      <td>Mujer</td>\n",
       "      <td>Tendencia a trabajo individual</td>\n",
       "      <td>0.0</td>\n",
       "    </tr>\n",
       "    <tr>\n",
       "      <th>14</th>\n",
       "      <td>No especificado</td>\n",
       "      <td>Ayuda a resolver dudas y realiza sugerencias</td>\n",
       "      <td>0.0</td>\n",
       "    </tr>\n",
       "    <tr>\n",
       "      <th>15</th>\n",
       "      <td>No especificado</td>\n",
       "      <td>Comparte su experiencia frente a la actividad</td>\n",
       "      <td>0.0</td>\n",
       "    </tr>\n",
       "    <tr>\n",
       "      <th>16</th>\n",
       "      <td>No especificado</td>\n",
       "      <td>No indica consolidación de CAP</td>\n",
       "      <td>2.0</td>\n",
       "    </tr>\n",
       "    <tr>\n",
       "      <th>17</th>\n",
       "      <td>No especificado</td>\n",
       "      <td>Participa en una discusión grupal</td>\n",
       "      <td>0.0</td>\n",
       "    </tr>\n",
       "    <tr>\n",
       "      <th>18</th>\n",
       "      <td>No especificado</td>\n",
       "      <td>Positivo para comunidad de práctica</td>\n",
       "      <td>2.0</td>\n",
       "    </tr>\n",
       "    <tr>\n",
       "      <th>19</th>\n",
       "      <td>No especificado</td>\n",
       "      <td>Solicita apoyo para resolver sus dudas</td>\n",
       "      <td>0.0</td>\n",
       "    </tr>\n",
       "    <tr>\n",
       "      <th>20</th>\n",
       "      <td>No especificado</td>\n",
       "      <td>Tendencia a trabajo individual</td>\n",
       "      <td>0.0</td>\n",
       "    </tr>\n",
       "  </tbody>\n",
       "</table>\n",
       "</div>"
      ],
      "text/plain": [
       "             Género                            Tipo de interacción  Cant\n",
       "0            Hombre   Ayuda a resolver dudas y realiza sugerencias   0.0\n",
       "1            Hombre  Comparte su experiencia frente a la actividad   1.0\n",
       "2            Hombre                 No indica consolidación de CAP  42.0\n",
       "3            Hombre              Participa en una discusión grupal   0.0\n",
       "4            Hombre            Positivo para comunidad de práctica  12.0\n",
       "5            Hombre         Solicita apoyo para resolver sus dudas  19.0\n",
       "6            Hombre                 Tendencia a trabajo individual   0.0\n",
       "7             Mujer   Ayuda a resolver dudas y realiza sugerencias   0.0\n",
       "8             Mujer  Comparte su experiencia frente a la actividad   5.0\n",
       "9             Mujer                 No indica consolidación de CAP  63.0\n",
       "10            Mujer              Participa en una discusión grupal   0.0\n",
       "11            Mujer            Positivo para comunidad de práctica  31.0\n",
       "12            Mujer         Solicita apoyo para resolver sus dudas  24.0\n",
       "13            Mujer                 Tendencia a trabajo individual   0.0\n",
       "14  No especificado   Ayuda a resolver dudas y realiza sugerencias   0.0\n",
       "15  No especificado  Comparte su experiencia frente a la actividad   0.0\n",
       "16  No especificado                 No indica consolidación de CAP   2.0\n",
       "17  No especificado              Participa en una discusión grupal   0.0\n",
       "18  No especificado            Positivo para comunidad de práctica   2.0\n",
       "19  No especificado         Solicita apoyo para resolver sus dudas   0.0\n",
       "20  No especificado                 Tendencia a trabajo individual   0.0"
      ]
     },
     "execution_count": 8,
     "metadata": {},
     "output_type": "execute_result"
    }
   ],
   "source": [
    "pivot=genero_tipos.pivot_table(index=['Género', 'variable'],values='value', aggfunc='sum').reset_index()\n",
    "pivot=pivot.rename(columns={'value':'Cant', 'variable':'Tipo de interacción'})\n",
    "pivot"
   ]
  },
  {
   "cell_type": "code",
   "execution_count": 40,
   "id": "d3d8227b-8415-4d1d-b46a-09e1ff241ca8",
   "metadata": {},
   "outputs": [
    {
     "data": {
      "application/vnd.plotly.v1+json": {
       "config": {
        "displaylogo": true,
        "editable": true,
        "plotlyServerURL": "https://plot.ly",
        "responsive": true,
        "scrollZoom": true,
        "toImageButtonOptions": {
         "filename": "grafica_CAP",
         "format": "png",
         "height": null,
         "scale": true,
         "width": null
        }
       },
       "data": [
        {
         "alignmentgroup": "True",
         "hovertemplate": "Tipo de interacción=%{x}<br>Género=Hombre<br>Cant=%{y}<extra></extra>",
         "legendgroup": "Ayuda a resolver dudas y realiza sugerencias",
         "marker": {
          "color": "rgb(102,194,165)",
          "pattern": {
           "shape": ""
          }
         },
         "name": "Ayuda a resolver dudas y realiza sugerencias",
         "offsetgroup": "Ayuda a resolver dudas y realiza sugerencias",
         "orientation": "v",
         "showlegend": true,
         "textposition": "auto",
         "type": "bar",
         "x": [
          "Ayuda a resolver dudas y realiza sugerencias"
         ],
         "xaxis": "x",
         "y": [
          0
         ],
         "yaxis": "y"
        },
        {
         "alignmentgroup": "True",
         "hovertemplate": "Tipo de interacción=%{x}<br>Género=Mujer<br>Cant=%{y}<extra></extra>",
         "legendgroup": "Ayuda a resolver dudas y realiza sugerencias",
         "marker": {
          "color": "rgb(102,194,165)",
          "pattern": {
           "shape": ""
          }
         },
         "name": "Ayuda a resolver dudas y realiza sugerencias",
         "offsetgroup": "Ayuda a resolver dudas y realiza sugerencias",
         "orientation": "v",
         "showlegend": false,
         "textposition": "auto",
         "type": "bar",
         "x": [
          "Ayuda a resolver dudas y realiza sugerencias"
         ],
         "xaxis": "x2",
         "y": [
          0
         ],
         "yaxis": "y2"
        },
        {
         "alignmentgroup": "True",
         "hovertemplate": "Tipo de interacción=%{x}<br>Género=No especificado<br>Cant=%{y}<extra></extra>",
         "legendgroup": "Ayuda a resolver dudas y realiza sugerencias",
         "marker": {
          "color": "rgb(102,194,165)",
          "pattern": {
           "shape": ""
          }
         },
         "name": "Ayuda a resolver dudas y realiza sugerencias",
         "offsetgroup": "Ayuda a resolver dudas y realiza sugerencias",
         "orientation": "v",
         "showlegend": false,
         "textposition": "auto",
         "type": "bar",
         "x": [
          "Ayuda a resolver dudas y realiza sugerencias"
         ],
         "xaxis": "x3",
         "y": [
          0
         ],
         "yaxis": "y3"
        },
        {
         "alignmentgroup": "True",
         "hovertemplate": "Tipo de interacción=%{x}<br>Género=Hombre<br>Cant=%{y}<extra></extra>",
         "legendgroup": "Comparte su experiencia frente a la actividad",
         "marker": {
          "color": "rgb(252,141,98)",
          "pattern": {
           "shape": ""
          }
         },
         "name": "Comparte su experiencia frente a la actividad",
         "offsetgroup": "Comparte su experiencia frente a la actividad",
         "orientation": "v",
         "showlegend": true,
         "textposition": "auto",
         "type": "bar",
         "x": [
          "Comparte su experiencia frente a la actividad"
         ],
         "xaxis": "x",
         "y": [
          1
         ],
         "yaxis": "y"
        },
        {
         "alignmentgroup": "True",
         "hovertemplate": "Tipo de interacción=%{x}<br>Género=Mujer<br>Cant=%{y}<extra></extra>",
         "legendgroup": "Comparte su experiencia frente a la actividad",
         "marker": {
          "color": "rgb(252,141,98)",
          "pattern": {
           "shape": ""
          }
         },
         "name": "Comparte su experiencia frente a la actividad",
         "offsetgroup": "Comparte su experiencia frente a la actividad",
         "orientation": "v",
         "showlegend": false,
         "textposition": "auto",
         "type": "bar",
         "x": [
          "Comparte su experiencia frente a la actividad"
         ],
         "xaxis": "x2",
         "y": [
          5
         ],
         "yaxis": "y2"
        },
        {
         "alignmentgroup": "True",
         "hovertemplate": "Tipo de interacción=%{x}<br>Género=No especificado<br>Cant=%{y}<extra></extra>",
         "legendgroup": "Comparte su experiencia frente a la actividad",
         "marker": {
          "color": "rgb(252,141,98)",
          "pattern": {
           "shape": ""
          }
         },
         "name": "Comparte su experiencia frente a la actividad",
         "offsetgroup": "Comparte su experiencia frente a la actividad",
         "orientation": "v",
         "showlegend": false,
         "textposition": "auto",
         "type": "bar",
         "x": [
          "Comparte su experiencia frente a la actividad"
         ],
         "xaxis": "x3",
         "y": [
          0
         ],
         "yaxis": "y3"
        },
        {
         "alignmentgroup": "True",
         "hovertemplate": "Tipo de interacción=%{x}<br>Género=Hombre<br>Cant=%{y}<extra></extra>",
         "legendgroup": "No indica consolidación de CAP",
         "marker": {
          "color": "rgb(141,160,203)",
          "pattern": {
           "shape": ""
          }
         },
         "name": "No indica consolidación de CAP",
         "offsetgroup": "No indica consolidación de CAP",
         "orientation": "v",
         "showlegend": true,
         "textposition": "auto",
         "type": "bar",
         "x": [
          "No indica consolidación de CAP"
         ],
         "xaxis": "x",
         "y": [
          42
         ],
         "yaxis": "y"
        },
        {
         "alignmentgroup": "True",
         "hovertemplate": "Tipo de interacción=%{x}<br>Género=Mujer<br>Cant=%{y}<extra></extra>",
         "legendgroup": "No indica consolidación de CAP",
         "marker": {
          "color": "rgb(141,160,203)",
          "pattern": {
           "shape": ""
          }
         },
         "name": "No indica consolidación de CAP",
         "offsetgroup": "No indica consolidación de CAP",
         "orientation": "v",
         "showlegend": false,
         "textposition": "auto",
         "type": "bar",
         "x": [
          "No indica consolidación de CAP"
         ],
         "xaxis": "x2",
         "y": [
          63
         ],
         "yaxis": "y2"
        },
        {
         "alignmentgroup": "True",
         "hovertemplate": "Tipo de interacción=%{x}<br>Género=No especificado<br>Cant=%{y}<extra></extra>",
         "legendgroup": "No indica consolidación de CAP",
         "marker": {
          "color": "rgb(141,160,203)",
          "pattern": {
           "shape": ""
          }
         },
         "name": "No indica consolidación de CAP",
         "offsetgroup": "No indica consolidación de CAP",
         "orientation": "v",
         "showlegend": false,
         "textposition": "auto",
         "type": "bar",
         "x": [
          "No indica consolidación de CAP"
         ],
         "xaxis": "x3",
         "y": [
          2
         ],
         "yaxis": "y3"
        },
        {
         "alignmentgroup": "True",
         "hovertemplate": "Tipo de interacción=%{x}<br>Género=Hombre<br>Cant=%{y}<extra></extra>",
         "legendgroup": "Participa en una discusión grupal",
         "marker": {
          "color": "rgb(231,138,195)",
          "pattern": {
           "shape": ""
          }
         },
         "name": "Participa en una discusión grupal",
         "offsetgroup": "Participa en una discusión grupal",
         "orientation": "v",
         "showlegend": true,
         "textposition": "auto",
         "type": "bar",
         "x": [
          "Participa en una discusión grupal"
         ],
         "xaxis": "x",
         "y": [
          0
         ],
         "yaxis": "y"
        },
        {
         "alignmentgroup": "True",
         "hovertemplate": "Tipo de interacción=%{x}<br>Género=Mujer<br>Cant=%{y}<extra></extra>",
         "legendgroup": "Participa en una discusión grupal",
         "marker": {
          "color": "rgb(231,138,195)",
          "pattern": {
           "shape": ""
          }
         },
         "name": "Participa en una discusión grupal",
         "offsetgroup": "Participa en una discusión grupal",
         "orientation": "v",
         "showlegend": false,
         "textposition": "auto",
         "type": "bar",
         "x": [
          "Participa en una discusión grupal"
         ],
         "xaxis": "x2",
         "y": [
          0
         ],
         "yaxis": "y2"
        },
        {
         "alignmentgroup": "True",
         "hovertemplate": "Tipo de interacción=%{x}<br>Género=No especificado<br>Cant=%{y}<extra></extra>",
         "legendgroup": "Participa en una discusión grupal",
         "marker": {
          "color": "rgb(231,138,195)",
          "pattern": {
           "shape": ""
          }
         },
         "name": "Participa en una discusión grupal",
         "offsetgroup": "Participa en una discusión grupal",
         "orientation": "v",
         "showlegend": false,
         "textposition": "auto",
         "type": "bar",
         "x": [
          "Participa en una discusión grupal"
         ],
         "xaxis": "x3",
         "y": [
          0
         ],
         "yaxis": "y3"
        },
        {
         "alignmentgroup": "True",
         "hovertemplate": "Tipo de interacción=%{x}<br>Género=Hombre<br>Cant=%{y}<extra></extra>",
         "legendgroup": "Positivo para comunidad de práctica",
         "marker": {
          "color": "rgb(166,216,84)",
          "pattern": {
           "shape": ""
          }
         },
         "name": "Positivo para comunidad de práctica",
         "offsetgroup": "Positivo para comunidad de práctica",
         "orientation": "v",
         "showlegend": true,
         "textposition": "auto",
         "type": "bar",
         "x": [
          "Positivo para comunidad de práctica"
         ],
         "xaxis": "x",
         "y": [
          12
         ],
         "yaxis": "y"
        },
        {
         "alignmentgroup": "True",
         "hovertemplate": "Tipo de interacción=%{x}<br>Género=Mujer<br>Cant=%{y}<extra></extra>",
         "legendgroup": "Positivo para comunidad de práctica",
         "marker": {
          "color": "rgb(166,216,84)",
          "pattern": {
           "shape": ""
          }
         },
         "name": "Positivo para comunidad de práctica",
         "offsetgroup": "Positivo para comunidad de práctica",
         "orientation": "v",
         "showlegend": false,
         "textposition": "auto",
         "type": "bar",
         "x": [
          "Positivo para comunidad de práctica"
         ],
         "xaxis": "x2",
         "y": [
          31
         ],
         "yaxis": "y2"
        },
        {
         "alignmentgroup": "True",
         "hovertemplate": "Tipo de interacción=%{x}<br>Género=No especificado<br>Cant=%{y}<extra></extra>",
         "legendgroup": "Positivo para comunidad de práctica",
         "marker": {
          "color": "rgb(166,216,84)",
          "pattern": {
           "shape": ""
          }
         },
         "name": "Positivo para comunidad de práctica",
         "offsetgroup": "Positivo para comunidad de práctica",
         "orientation": "v",
         "showlegend": false,
         "textposition": "auto",
         "type": "bar",
         "x": [
          "Positivo para comunidad de práctica"
         ],
         "xaxis": "x3",
         "y": [
          2
         ],
         "yaxis": "y3"
        },
        {
         "alignmentgroup": "True",
         "hovertemplate": "Tipo de interacción=%{x}<br>Género=Hombre<br>Cant=%{y}<extra></extra>",
         "legendgroup": "Solicita apoyo para resolver sus dudas",
         "marker": {
          "color": "rgb(255,217,47)",
          "pattern": {
           "shape": ""
          }
         },
         "name": "Solicita apoyo para resolver sus dudas",
         "offsetgroup": "Solicita apoyo para resolver sus dudas",
         "orientation": "v",
         "showlegend": true,
         "textposition": "auto",
         "type": "bar",
         "x": [
          "Solicita apoyo para resolver sus dudas"
         ],
         "xaxis": "x",
         "y": [
          19
         ],
         "yaxis": "y"
        },
        {
         "alignmentgroup": "True",
         "hovertemplate": "Tipo de interacción=%{x}<br>Género=Mujer<br>Cant=%{y}<extra></extra>",
         "legendgroup": "Solicita apoyo para resolver sus dudas",
         "marker": {
          "color": "rgb(255,217,47)",
          "pattern": {
           "shape": ""
          }
         },
         "name": "Solicita apoyo para resolver sus dudas",
         "offsetgroup": "Solicita apoyo para resolver sus dudas",
         "orientation": "v",
         "showlegend": false,
         "textposition": "auto",
         "type": "bar",
         "x": [
          "Solicita apoyo para resolver sus dudas"
         ],
         "xaxis": "x2",
         "y": [
          24
         ],
         "yaxis": "y2"
        },
        {
         "alignmentgroup": "True",
         "hovertemplate": "Tipo de interacción=%{x}<br>Género=No especificado<br>Cant=%{y}<extra></extra>",
         "legendgroup": "Solicita apoyo para resolver sus dudas",
         "marker": {
          "color": "rgb(255,217,47)",
          "pattern": {
           "shape": ""
          }
         },
         "name": "Solicita apoyo para resolver sus dudas",
         "offsetgroup": "Solicita apoyo para resolver sus dudas",
         "orientation": "v",
         "showlegend": false,
         "textposition": "auto",
         "type": "bar",
         "x": [
          "Solicita apoyo para resolver sus dudas"
         ],
         "xaxis": "x3",
         "y": [
          0
         ],
         "yaxis": "y3"
        },
        {
         "alignmentgroup": "True",
         "hovertemplate": "Tipo de interacción=%{x}<br>Género=Hombre<br>Cant=%{y}<extra></extra>",
         "legendgroup": "Tendencia a trabajo individual",
         "marker": {
          "color": "rgb(229,196,148)",
          "pattern": {
           "shape": ""
          }
         },
         "name": "Tendencia a trabajo individual",
         "offsetgroup": "Tendencia a trabajo individual",
         "orientation": "v",
         "showlegend": true,
         "textposition": "auto",
         "type": "bar",
         "x": [
          "Tendencia a trabajo individual"
         ],
         "xaxis": "x",
         "y": [
          0
         ],
         "yaxis": "y"
        },
        {
         "alignmentgroup": "True",
         "hovertemplate": "Tipo de interacción=%{x}<br>Género=Mujer<br>Cant=%{y}<extra></extra>",
         "legendgroup": "Tendencia a trabajo individual",
         "marker": {
          "color": "rgb(229,196,148)",
          "pattern": {
           "shape": ""
          }
         },
         "name": "Tendencia a trabajo individual",
         "offsetgroup": "Tendencia a trabajo individual",
         "orientation": "v",
         "showlegend": false,
         "textposition": "auto",
         "type": "bar",
         "x": [
          "Tendencia a trabajo individual"
         ],
         "xaxis": "x2",
         "y": [
          0
         ],
         "yaxis": "y2"
        },
        {
         "alignmentgroup": "True",
         "hovertemplate": "Tipo de interacción=%{x}<br>Género=No especificado<br>Cant=%{y}<extra></extra>",
         "legendgroup": "Tendencia a trabajo individual",
         "marker": {
          "color": "rgb(229,196,148)",
          "pattern": {
           "shape": ""
          }
         },
         "name": "Tendencia a trabajo individual",
         "offsetgroup": "Tendencia a trabajo individual",
         "orientation": "v",
         "showlegend": false,
         "textposition": "auto",
         "type": "bar",
         "x": [
          "Tendencia a trabajo individual"
         ],
         "xaxis": "x3",
         "y": [
          0
         ],
         "yaxis": "y3"
        }
       ],
       "layout": {
        "annotations": [
         {
          "font": {},
          "showarrow": false,
          "text": "Hombre",
          "x": 0.15999999999999998,
          "xanchor": "center",
          "xref": "paper",
          "y": -0.1499999999999999,
          "yanchor": "bottom",
          "yref": "paper"
         },
         {
          "font": {},
          "showarrow": false,
          "text": "Mujer",
          "x": 0.5,
          "xanchor": "center",
          "xref": "paper",
          "y": -0.1454545454545455,
          "yanchor": "bottom",
          "yref": "paper"
         },
         {
          "font": {},
          "showarrow": false,
          "text": "No especificado",
          "x": 0.8399999999999999,
          "xanchor": "center",
          "xref": "paper",
          "y": -0.1272727272727272,
          "yanchor": "bottom",
          "yref": "paper"
         }
        ],
        "autosize": true,
        "barmode": "relative",
        "legend": {
         "title": {
          "text": "Tipo de interacción"
         },
         "tracegroupgap": 0,
         "x": 0.8915675025030093,
         "y": 1
        },
        "margin": {
         "t": 60
        },
        "template": {
         "data": {
          "bar": [
           {
            "error_x": {
             "color": "#2a3f5f"
            },
            "error_y": {
             "color": "#2a3f5f"
            },
            "marker": {
             "line": {
              "color": "white",
              "width": 0.5
             },
             "pattern": {
              "fillmode": "overlay",
              "size": 10,
              "solidity": 0.2
             }
            },
            "type": "bar"
           }
          ],
          "barpolar": [
           {
            "marker": {
             "line": {
              "color": "white",
              "width": 0.5
             },
             "pattern": {
              "fillmode": "overlay",
              "size": 10,
              "solidity": 0.2
             }
            },
            "type": "barpolar"
           }
          ],
          "carpet": [
           {
            "aaxis": {
             "endlinecolor": "#2a3f5f",
             "gridcolor": "#C8D4E3",
             "linecolor": "#C8D4E3",
             "minorgridcolor": "#C8D4E3",
             "startlinecolor": "#2a3f5f"
            },
            "baxis": {
             "endlinecolor": "#2a3f5f",
             "gridcolor": "#C8D4E3",
             "linecolor": "#C8D4E3",
             "minorgridcolor": "#C8D4E3",
             "startlinecolor": "#2a3f5f"
            },
            "type": "carpet"
           }
          ],
          "choropleth": [
           {
            "colorbar": {
             "outlinewidth": 0,
             "ticks": ""
            },
            "type": "choropleth"
           }
          ],
          "contour": [
           {
            "colorbar": {
             "outlinewidth": 0,
             "ticks": ""
            },
            "colorscale": [
             [
              0,
              "#0d0887"
             ],
             [
              0.1111111111111111,
              "#46039f"
             ],
             [
              0.2222222222222222,
              "#7201a8"
             ],
             [
              0.3333333333333333,
              "#9c179e"
             ],
             [
              0.4444444444444444,
              "#bd3786"
             ],
             [
              0.5555555555555556,
              "#d8576b"
             ],
             [
              0.6666666666666666,
              "#ed7953"
             ],
             [
              0.7777777777777778,
              "#fb9f3a"
             ],
             [
              0.8888888888888888,
              "#fdca26"
             ],
             [
              1,
              "#f0f921"
             ]
            ],
            "type": "contour"
           }
          ],
          "contourcarpet": [
           {
            "colorbar": {
             "outlinewidth": 0,
             "ticks": ""
            },
            "type": "contourcarpet"
           }
          ],
          "heatmap": [
           {
            "colorbar": {
             "outlinewidth": 0,
             "ticks": ""
            },
            "colorscale": [
             [
              0,
              "#0d0887"
             ],
             [
              0.1111111111111111,
              "#46039f"
             ],
             [
              0.2222222222222222,
              "#7201a8"
             ],
             [
              0.3333333333333333,
              "#9c179e"
             ],
             [
              0.4444444444444444,
              "#bd3786"
             ],
             [
              0.5555555555555556,
              "#d8576b"
             ],
             [
              0.6666666666666666,
              "#ed7953"
             ],
             [
              0.7777777777777778,
              "#fb9f3a"
             ],
             [
              0.8888888888888888,
              "#fdca26"
             ],
             [
              1,
              "#f0f921"
             ]
            ],
            "type": "heatmap"
           }
          ],
          "heatmapgl": [
           {
            "colorbar": {
             "outlinewidth": 0,
             "ticks": ""
            },
            "colorscale": [
             [
              0,
              "#0d0887"
             ],
             [
              0.1111111111111111,
              "#46039f"
             ],
             [
              0.2222222222222222,
              "#7201a8"
             ],
             [
              0.3333333333333333,
              "#9c179e"
             ],
             [
              0.4444444444444444,
              "#bd3786"
             ],
             [
              0.5555555555555556,
              "#d8576b"
             ],
             [
              0.6666666666666666,
              "#ed7953"
             ],
             [
              0.7777777777777778,
              "#fb9f3a"
             ],
             [
              0.8888888888888888,
              "#fdca26"
             ],
             [
              1,
              "#f0f921"
             ]
            ],
            "type": "heatmapgl"
           }
          ],
          "histogram": [
           {
            "marker": {
             "pattern": {
              "fillmode": "overlay",
              "size": 10,
              "solidity": 0.2
             }
            },
            "type": "histogram"
           }
          ],
          "histogram2d": [
           {
            "colorbar": {
             "outlinewidth": 0,
             "ticks": ""
            },
            "colorscale": [
             [
              0,
              "#0d0887"
             ],
             [
              0.1111111111111111,
              "#46039f"
             ],
             [
              0.2222222222222222,
              "#7201a8"
             ],
             [
              0.3333333333333333,
              "#9c179e"
             ],
             [
              0.4444444444444444,
              "#bd3786"
             ],
             [
              0.5555555555555556,
              "#d8576b"
             ],
             [
              0.6666666666666666,
              "#ed7953"
             ],
             [
              0.7777777777777778,
              "#fb9f3a"
             ],
             [
              0.8888888888888888,
              "#fdca26"
             ],
             [
              1,
              "#f0f921"
             ]
            ],
            "type": "histogram2d"
           }
          ],
          "histogram2dcontour": [
           {
            "colorbar": {
             "outlinewidth": 0,
             "ticks": ""
            },
            "colorscale": [
             [
              0,
              "#0d0887"
             ],
             [
              0.1111111111111111,
              "#46039f"
             ],
             [
              0.2222222222222222,
              "#7201a8"
             ],
             [
              0.3333333333333333,
              "#9c179e"
             ],
             [
              0.4444444444444444,
              "#bd3786"
             ],
             [
              0.5555555555555556,
              "#d8576b"
             ],
             [
              0.6666666666666666,
              "#ed7953"
             ],
             [
              0.7777777777777778,
              "#fb9f3a"
             ],
             [
              0.8888888888888888,
              "#fdca26"
             ],
             [
              1,
              "#f0f921"
             ]
            ],
            "type": "histogram2dcontour"
           }
          ],
          "mesh3d": [
           {
            "colorbar": {
             "outlinewidth": 0,
             "ticks": ""
            },
            "type": "mesh3d"
           }
          ],
          "parcoords": [
           {
            "line": {
             "colorbar": {
              "outlinewidth": 0,
              "ticks": ""
             }
            },
            "type": "parcoords"
           }
          ],
          "pie": [
           {
            "automargin": true,
            "type": "pie"
           }
          ],
          "scatter": [
           {
            "marker": {
             "colorbar": {
              "outlinewidth": 0,
              "ticks": ""
             }
            },
            "type": "scatter"
           }
          ],
          "scatter3d": [
           {
            "line": {
             "colorbar": {
              "outlinewidth": 0,
              "ticks": ""
             }
            },
            "marker": {
             "colorbar": {
              "outlinewidth": 0,
              "ticks": ""
             }
            },
            "type": "scatter3d"
           }
          ],
          "scattercarpet": [
           {
            "marker": {
             "colorbar": {
              "outlinewidth": 0,
              "ticks": ""
             }
            },
            "type": "scattercarpet"
           }
          ],
          "scattergeo": [
           {
            "marker": {
             "colorbar": {
              "outlinewidth": 0,
              "ticks": ""
             }
            },
            "type": "scattergeo"
           }
          ],
          "scattergl": [
           {
            "marker": {
             "colorbar": {
              "outlinewidth": 0,
              "ticks": ""
             }
            },
            "type": "scattergl"
           }
          ],
          "scattermapbox": [
           {
            "marker": {
             "colorbar": {
              "outlinewidth": 0,
              "ticks": ""
             }
            },
            "type": "scattermapbox"
           }
          ],
          "scatterpolar": [
           {
            "marker": {
             "colorbar": {
              "outlinewidth": 0,
              "ticks": ""
             }
            },
            "type": "scatterpolar"
           }
          ],
          "scatterpolargl": [
           {
            "marker": {
             "colorbar": {
              "outlinewidth": 0,
              "ticks": ""
             }
            },
            "type": "scatterpolargl"
           }
          ],
          "scatterternary": [
           {
            "marker": {
             "colorbar": {
              "outlinewidth": 0,
              "ticks": ""
             }
            },
            "type": "scatterternary"
           }
          ],
          "surface": [
           {
            "colorbar": {
             "outlinewidth": 0,
             "ticks": ""
            },
            "colorscale": [
             [
              0,
              "#0d0887"
             ],
             [
              0.1111111111111111,
              "#46039f"
             ],
             [
              0.2222222222222222,
              "#7201a8"
             ],
             [
              0.3333333333333333,
              "#9c179e"
             ],
             [
              0.4444444444444444,
              "#bd3786"
             ],
             [
              0.5555555555555556,
              "#d8576b"
             ],
             [
              0.6666666666666666,
              "#ed7953"
             ],
             [
              0.7777777777777778,
              "#fb9f3a"
             ],
             [
              0.8888888888888888,
              "#fdca26"
             ],
             [
              1,
              "#f0f921"
             ]
            ],
            "type": "surface"
           }
          ],
          "table": [
           {
            "cells": {
             "fill": {
              "color": "#EBF0F8"
             },
             "line": {
              "color": "white"
             }
            },
            "header": {
             "fill": {
              "color": "#C8D4E3"
             },
             "line": {
              "color": "white"
             }
            },
            "type": "table"
           }
          ]
         },
         "layout": {
          "annotationdefaults": {
           "arrowcolor": "#2a3f5f",
           "arrowhead": 0,
           "arrowwidth": 1
          },
          "autotypenumbers": "strict",
          "coloraxis": {
           "colorbar": {
            "outlinewidth": 0,
            "ticks": ""
           }
          },
          "colorscale": {
           "diverging": [
            [
             0,
             "#8e0152"
            ],
            [
             0.1,
             "#c51b7d"
            ],
            [
             0.2,
             "#de77ae"
            ],
            [
             0.3,
             "#f1b6da"
            ],
            [
             0.4,
             "#fde0ef"
            ],
            [
             0.5,
             "#f7f7f7"
            ],
            [
             0.6,
             "#e6f5d0"
            ],
            [
             0.7,
             "#b8e186"
            ],
            [
             0.8,
             "#7fbc41"
            ],
            [
             0.9,
             "#4d9221"
            ],
            [
             1,
             "#276419"
            ]
           ],
           "sequential": [
            [
             0,
             "#0d0887"
            ],
            [
             0.1111111111111111,
             "#46039f"
            ],
            [
             0.2222222222222222,
             "#7201a8"
            ],
            [
             0.3333333333333333,
             "#9c179e"
            ],
            [
             0.4444444444444444,
             "#bd3786"
            ],
            [
             0.5555555555555556,
             "#d8576b"
            ],
            [
             0.6666666666666666,
             "#ed7953"
            ],
            [
             0.7777777777777778,
             "#fb9f3a"
            ],
            [
             0.8888888888888888,
             "#fdca26"
            ],
            [
             1,
             "#f0f921"
            ]
           ],
           "sequentialminus": [
            [
             0,
             "#0d0887"
            ],
            [
             0.1111111111111111,
             "#46039f"
            ],
            [
             0.2222222222222222,
             "#7201a8"
            ],
            [
             0.3333333333333333,
             "#9c179e"
            ],
            [
             0.4444444444444444,
             "#bd3786"
            ],
            [
             0.5555555555555556,
             "#d8576b"
            ],
            [
             0.6666666666666666,
             "#ed7953"
            ],
            [
             0.7777777777777778,
             "#fb9f3a"
            ],
            [
             0.8888888888888888,
             "#fdca26"
            ],
            [
             1,
             "#f0f921"
            ]
           ]
          },
          "colorway": [
           "#636efa",
           "#EF553B",
           "#00cc96",
           "#ab63fa",
           "#FFA15A",
           "#19d3f3",
           "#FF6692",
           "#B6E880",
           "#FF97FF",
           "#FECB52"
          ],
          "font": {
           "color": "#2a3f5f"
          },
          "geo": {
           "bgcolor": "white",
           "lakecolor": "white",
           "landcolor": "white",
           "showlakes": true,
           "showland": true,
           "subunitcolor": "#C8D4E3"
          },
          "hoverlabel": {
           "align": "left"
          },
          "hovermode": "closest",
          "mapbox": {
           "style": "light"
          },
          "paper_bgcolor": "white",
          "plot_bgcolor": "white",
          "polar": {
           "angularaxis": {
            "gridcolor": "#EBF0F8",
            "linecolor": "#EBF0F8",
            "ticks": ""
           },
           "bgcolor": "white",
           "radialaxis": {
            "gridcolor": "#EBF0F8",
            "linecolor": "#EBF0F8",
            "ticks": ""
           }
          },
          "scene": {
           "xaxis": {
            "backgroundcolor": "white",
            "gridcolor": "#DFE8F3",
            "gridwidth": 2,
            "linecolor": "#EBF0F8",
            "showbackground": true,
            "ticks": "",
            "zerolinecolor": "#EBF0F8"
           },
           "yaxis": {
            "backgroundcolor": "white",
            "gridcolor": "#DFE8F3",
            "gridwidth": 2,
            "linecolor": "#EBF0F8",
            "showbackground": true,
            "ticks": "",
            "zerolinecolor": "#EBF0F8"
           },
           "zaxis": {
            "backgroundcolor": "white",
            "gridcolor": "#DFE8F3",
            "gridwidth": 2,
            "linecolor": "#EBF0F8",
            "showbackground": true,
            "ticks": "",
            "zerolinecolor": "#EBF0F8"
           }
          },
          "shapedefaults": {
           "line": {
            "color": "#2a3f5f"
           }
          },
          "ternary": {
           "aaxis": {
            "gridcolor": "#DFE8F3",
            "linecolor": "#A2B1C6",
            "ticks": ""
           },
           "baxis": {
            "gridcolor": "#DFE8F3",
            "linecolor": "#A2B1C6",
            "ticks": ""
           },
           "bgcolor": "white",
           "caxis": {
            "gridcolor": "#DFE8F3",
            "linecolor": "#A2B1C6",
            "ticks": ""
           }
          },
          "title": {
           "x": 0.05
          },
          "xaxis": {
           "automargin": true,
           "gridcolor": "#EBF0F8",
           "linecolor": "#EBF0F8",
           "ticks": "",
           "title": {
            "standoff": 15
           },
           "zerolinecolor": "#EBF0F8",
           "zerolinewidth": 2
          },
          "yaxis": {
           "automargin": true,
           "gridcolor": "#EBF0F8",
           "linecolor": "#EBF0F8",
           "ticks": "",
           "title": {
            "standoff": 15
           },
           "zerolinecolor": "#EBF0F8",
           "zerolinewidth": 2
          }
         }
        },
        "xaxis": {
         "anchor": "y",
         "autorange": true,
         "categoryarray": [
          "Ayuda a resolver dudas y realiza sugerencias",
          "Comparte su experiencia frente a la actividad",
          "No indica consolidación de CAP",
          "Participa en una discusión grupal",
          "Positivo para comunidad de práctica",
          "Solicita apoyo para resolver sus dudas",
          "Tendencia a trabajo individual"
         ],
         "categoryorder": "array",
         "domain": [
          0,
          0.31999999999999995
         ],
         "range": [
          -0.5,
          6.5
         ],
         "showticklabels": false,
         "title": {
          "text": "Tipo de interacción"
         },
         "type": "category",
         "visible": false
        },
        "xaxis2": {
         "anchor": "y2",
         "autorange": true,
         "categoryarray": [
          "Ayuda a resolver dudas y realiza sugerencias",
          "Comparte su experiencia frente a la actividad",
          "No indica consolidación de CAP",
          "Participa en una discusión grupal",
          "Positivo para comunidad de práctica",
          "Solicita apoyo para resolver sus dudas",
          "Tendencia a trabajo individual"
         ],
         "categoryorder": "array",
         "domain": [
          0.33999999999999997,
          0.6599999999999999
         ],
         "matches": "x",
         "range": [
          -0.5,
          6.5
         ],
         "showticklabels": false,
         "title": {
          "text": "Tipo de interacción"
         },
         "type": "category",
         "visible": false
        },
        "xaxis3": {
         "anchor": "y3",
         "autorange": true,
         "categoryarray": [
          "Ayuda a resolver dudas y realiza sugerencias",
          "Comparte su experiencia frente a la actividad",
          "No indica consolidación de CAP",
          "Participa en una discusión grupal",
          "Positivo para comunidad de práctica",
          "Solicita apoyo para resolver sus dudas",
          "Tendencia a trabajo individual"
         ],
         "categoryorder": "array",
         "domain": [
          0.6799999999999999,
          0.9999999999999999
         ],
         "matches": "x",
         "range": [
          -0.5,
          6.5
         ],
         "showticklabels": false,
         "title": {
          "text": "Tipo de interacción"
         },
         "type": "category",
         "visible": false
        },
        "yaxis": {
         "anchor": "x",
         "autorange": true,
         "domain": [
          0,
          1
         ],
         "range": [
          0,
          66.3157894736842
         ],
         "title": {
          "text": "Cant"
         },
         "type": "linear"
        },
        "yaxis2": {
         "anchor": "x2",
         "autorange": true,
         "domain": [
          0,
          1
         ],
         "matches": "y",
         "range": [
          0,
          66.3157894736842
         ],
         "showticklabels": false,
         "type": "linear"
        },
        "yaxis3": {
         "anchor": "x3",
         "autorange": true,
         "domain": [
          0,
          1
         ],
         "matches": "y",
         "range": [
          0,
          66.3157894736842
         ],
         "showticklabels": false,
         "type": "linear"
        }
       }
      },
      "image/png": "[encoded data removed]",
      "text/html": [
       "<div>                            <div id=\"5899e381-74c9-4787-bb49-fa73001d0013\" class=\"plotly-graph-div\" style=\"height:525px; width:100%;\"></div>            <script type=\"text/javascript\">                require([\"plotly\"], function(Plotly) {                    window.PLOTLYENV=window.PLOTLYENV || {};                                    if (document.getElementById(\"5899e381-74c9-4787-bb49-fa73001d0013\")) {                    Plotly.newPlot(                        \"5899e381-74c9-4787-bb49-fa73001d0013\",                        [{\"alignmentgroup\":\"True\",\"hovertemplate\":\"Tipo de interacci\\u00f3n=%{x}<br>G\\u00e9nero=Hombre<br>Cant=%{y}<extra></extra>\",\"legendgroup\":\"Ayuda a resolver dudas y realiza sugerencias\",\"marker\":{\"color\":\"rgb(102,194,165)\",\"pattern\":{\"shape\":\"\"}},\"name\":\"Ayuda a resolver dudas y realiza sugerencias\",\"offsetgroup\":\"Ayuda a resolver dudas y realiza sugerencias\",\"orientation\":\"v\",\"showlegend\":true,\"textposition\":\"auto\",\"x\":[\"Ayuda a resolver dudas y realiza sugerencias\"],\"xaxis\":\"x\",\"y\":[0.0],\"yaxis\":\"y\",\"type\":\"bar\"},{\"alignmentgroup\":\"True\",\"hovertemplate\":\"Tipo de interacci\\u00f3n=%{x}<br>G\\u00e9nero=Mujer<br>Cant=%{y}<extra></extra>\",\"legendgroup\":\"Ayuda a resolver dudas y realiza sugerencias\",\"marker\":{\"color\":\"rgb(102,194,165)\",\"pattern\":{\"shape\":\"\"}},\"name\":\"Ayuda a resolver dudas y realiza sugerencias\",\"offsetgroup\":\"Ayuda a resolver dudas y realiza sugerencias\",\"orientation\":\"v\",\"showlegend\":false,\"textposition\":\"auto\",\"x\":[\"Ayuda a resolver dudas y realiza sugerencias\"],\"xaxis\":\"x2\",\"y\":[0.0],\"yaxis\":\"y2\",\"type\":\"bar\"},{\"alignmentgroup\":\"True\",\"hovertemplate\":\"Tipo de interacci\\u00f3n=%{x}<br>G\\u00e9nero=No especificado<br>Cant=%{y}<extra></extra>\",\"legendgroup\":\"Ayuda a resolver dudas y realiza sugerencias\",\"marker\":{\"color\":\"rgb(102,194,165)\",\"pattern\":{\"shape\":\"\"}},\"name\":\"Ayuda a resolver dudas y realiza sugerencias\",\"offsetgroup\":\"Ayuda a resolver dudas y realiza sugerencias\",\"orientation\":\"v\",\"showlegend\":false,\"textposition\":\"auto\",\"x\":[\"Ayuda a resolver dudas y realiza sugerencias\"],\"xaxis\":\"x3\",\"y\":[0.0],\"yaxis\":\"y3\",\"type\":\"bar\"},{\"alignmentgroup\":\"True\",\"hovertemplate\":\"Tipo de interacci\\u00f3n=%{x}<br>G\\u00e9nero=Hombre<br>Cant=%{y}<extra></extra>\",\"legendgroup\":\"Comparte su experiencia frente a la actividad\",\"marker\":{\"color\":\"rgb(252,141,98)\",\"pattern\":{\"shape\":\"\"}},\"name\":\"Comparte su experiencia frente a la actividad\",\"offsetgroup\":\"Comparte su experiencia frente a la actividad\",\"orientation\":\"v\",\"showlegend\":true,\"textposition\":\"auto\",\"x\":[\"Comparte su experiencia frente a la actividad\"],\"xaxis\":\"x\",\"y\":[1.0],\"yaxis\":\"y\",\"type\":\"bar\"},{\"alignmentgroup\":\"True\",\"hovertemplate\":\"Tipo de interacci\\u00f3n=%{x}<br>G\\u00e9nero=Mujer<br>Cant=%{y}<extra></extra>\",\"legendgroup\":\"Comparte su experiencia frente a la actividad\",\"marker\":{\"color\":\"rgb(252,141,98)\",\"pattern\":{\"shape\":\"\"}},\"name\":\"Comparte su experiencia frente a la actividad\",\"offsetgroup\":\"Comparte su experiencia frente a la actividad\",\"orientation\":\"v\",\"showlegend\":false,\"textposition\":\"auto\",\"x\":[\"Comparte su experiencia frente a la actividad\"],\"xaxis\":\"x2\",\"y\":[5.0],\"yaxis\":\"y2\",\"type\":\"bar\"},{\"alignmentgroup\":\"True\",\"hovertemplate\":\"Tipo de interacci\\u00f3n=%{x}<br>G\\u00e9nero=No especificado<br>Cant=%{y}<extra></extra>\",\"legendgroup\":\"Comparte su experiencia frente a la actividad\",\"marker\":{\"color\":\"rgb(252,141,98)\",\"pattern\":{\"shape\":\"\"}},\"name\":\"Comparte su experiencia frente a la actividad\",\"offsetgroup\":\"Comparte su experiencia frente a la actividad\",\"orientation\":\"v\",\"showlegend\":false,\"textposition\":\"auto\",\"x\":[\"Comparte su experiencia frente a la actividad\"],\"xaxis\":\"x3\",\"y\":[0.0],\"yaxis\":\"y3\",\"type\":\"bar\"},{\"alignmentgroup\":\"True\",\"hovertemplate\":\"Tipo de interacci\\u00f3n=%{x}<br>G\\u00e9nero=Hombre<br>Cant=%{y}<extra></extra>\",\"legendgroup\":\"No indica consolidaci\\u00f3n de CAP\",\"marker\":{\"color\":\"rgb(141,160,203)\",\"pattern\":{\"shape\":\"\"}},\"name\":\"No indica consolidaci\\u00f3n de CAP\",\"offsetgroup\":\"No indica consolidaci\\u00f3n de CAP\",\"orientation\":\"v\",\"showlegend\":true,\"textposition\":\"auto\",\"x\":[\"No indica consolidaci\\u00f3n de CAP\"],\"xaxis\":\"x\",\"y\":[42.0],\"yaxis\":\"y\",\"type\":\"bar\"},{\"alignmentgroup\":\"True\",\"hovertemplate\":\"Tipo de interacci\\u00f3n=%{x}<br>G\\u00e9nero=Mujer<br>Cant=%{y}<extra></extra>\",\"legendgroup\":\"No indica consolidaci\\u00f3n de CAP\",\"marker\":{\"color\":\"rgb(141,160,203)\",\"pattern\":{\"shape\":\"\"}},\"name\":\"No indica consolidaci\\u00f3n de CAP\",\"offsetgroup\":\"No indica consolidaci\\u00f3n de CAP\",\"orientation\":\"v\",\"showlegend\":false,\"textposition\":\"auto\",\"x\":[\"No indica consolidaci\\u00f3n de CAP\"],\"xaxis\":\"x2\",\"y\":[63.0],\"yaxis\":\"y2\",\"type\":\"bar\"},{\"alignmentgroup\":\"True\",\"hovertemplate\":\"Tipo de interacci\\u00f3n=%{x}<br>G\\u00e9nero=No especificado<br>Cant=%{y}<extra></extra>\",\"legendgroup\":\"No indica consolidaci\\u00f3n de CAP\",\"marker\":{\"color\":\"rgb(141,160,203)\",\"pattern\":{\"shape\":\"\"}},\"name\":\"No indica consolidaci\\u00f3n de CAP\",\"offsetgroup\":\"No indica consolidaci\\u00f3n de CAP\",\"orientation\":\"v\",\"showlegend\":false,\"textposition\":\"auto\",\"x\":[\"No indica consolidaci\\u00f3n de CAP\"],\"xaxis\":\"x3\",\"y\":[2.0],\"yaxis\":\"y3\",\"type\":\"bar\"},{\"alignmentgroup\":\"True\",\"hovertemplate\":\"Tipo de interacci\\u00f3n=%{x}<br>G\\u00e9nero=Hombre<br>Cant=%{y}<extra></extra>\",\"legendgroup\":\"Participa en una discusi\\u00f3n grupal\",\"marker\":{\"color\":\"rgb(231,138,195)\",\"pattern\":{\"shape\":\"\"}},\"name\":\"Participa en una discusi\\u00f3n grupal\",\"offsetgroup\":\"Participa en una discusi\\u00f3n grupal\",\"orientation\":\"v\",\"showlegend\":true,\"textposition\":\"auto\",\"x\":[\"Participa en una discusi\\u00f3n grupal\"],\"xaxis\":\"x\",\"y\":[0.0],\"yaxis\":\"y\",\"type\":\"bar\"},{\"alignmentgroup\":\"True\",\"hovertemplate\":\"Tipo de interacci\\u00f3n=%{x}<br>G\\u00e9nero=Mujer<br>Cant=%{y}<extra></extra>\",\"legendgroup\":\"Participa en una discusi\\u00f3n grupal\",\"marker\":{\"color\":\"rgb(231,138,195)\",\"pattern\":{\"shape\":\"\"}},\"name\":\"Participa en una discusi\\u00f3n grupal\",\"offsetgroup\":\"Participa en una discusi\\u00f3n grupal\",\"orientation\":\"v\",\"showlegend\":false,\"textposition\":\"auto\",\"x\":[\"Participa en una discusi\\u00f3n grupal\"],\"xaxis\":\"x2\",\"y\":[0.0],\"yaxis\":\"y2\",\"type\":\"bar\"},{\"alignmentgroup\":\"True\",\"hovertemplate\":\"Tipo de interacci\\u00f3n=%{x}<br>G\\u00e9nero=No especificado<br>Cant=%{y}<extra></extra>\",\"legendgroup\":\"Participa en una discusi\\u00f3n grupal\",\"marker\":{\"color\":\"rgb(231,138,195)\",\"pattern\":{\"shape\":\"\"}},\"name\":\"Participa en una discusi\\u00f3n grupal\",\"offsetgroup\":\"Participa en una discusi\\u00f3n grupal\",\"orientation\":\"v\",\"showlegend\":false,\"textposition\":\"auto\",\"x\":[\"Participa en una discusi\\u00f3n grupal\"],\"xaxis\":\"x3\",\"y\":[0.0],\"yaxis\":\"y3\",\"type\":\"bar\"},{\"alignmentgroup\":\"True\",\"hovertemplate\":\"Tipo de interacci\\u00f3n=%{x}<br>G\\u00e9nero=Hombre<br>Cant=%{y}<extra></extra>\",\"legendgroup\":\"Positivo para comunidad de pr\\u00e1ctica\",\"marker\":{\"color\":\"rgb(166,216,84)\",\"pattern\":{\"shape\":\"\"}},\"name\":\"Positivo para comunidad de pr\\u00e1ctica\",\"offsetgroup\":\"Positivo para comunidad de pr\\u00e1ctica\",\"orientation\":\"v\",\"showlegend\":true,\"textposition\":\"auto\",\"x\":[\"Positivo para comunidad de pr\\u00e1ctica\"],\"xaxis\":\"x\",\"y\":[12.0],\"yaxis\":\"y\",\"type\":\"bar\"},{\"alignmentgroup\":\"True\",\"hovertemplate\":\"Tipo de interacci\\u00f3n=%{x}<br>G\\u00e9nero=Mujer<br>Cant=%{y}<extra></extra>\",\"legendgroup\":\"Positivo para comunidad de pr\\u00e1ctica\",\"marker\":{\"color\":\"rgb(166,216,84)\",\"pattern\":{\"shape\":\"\"}},\"name\":\"Positivo para comunidad de pr\\u00e1ctica\",\"offsetgroup\":\"Positivo para comunidad de pr\\u00e1ctica\",\"orientation\":\"v\",\"showlegend\":false,\"textposition\":\"auto\",\"x\":[\"Positivo para comunidad de pr\\u00e1ctica\"],\"xaxis\":\"x2\",\"y\":[31.0],\"yaxis\":\"y2\",\"type\":\"bar\"},{\"alignmentgroup\":\"True\",\"hovertemplate\":\"Tipo de interacci\\u00f3n=%{x}<br>G\\u00e9nero=No especificado<br>Cant=%{y}<extra></extra>\",\"legendgroup\":\"Positivo para comunidad de pr\\u00e1ctica\",\"marker\":{\"color\":\"rgb(166,216,84)\",\"pattern\":{\"shape\":\"\"}},\"name\":\"Positivo para comunidad de pr\\u00e1ctica\",\"offsetgroup\":\"Positivo para comunidad de pr\\u00e1ctica\",\"orientation\":\"v\",\"showlegend\":false,\"textposition\":\"auto\",\"x\":[\"Positivo para comunidad de pr\\u00e1ctica\"],\"xaxis\":\"x3\",\"y\":[2.0],\"yaxis\":\"y3\",\"type\":\"bar\"},{\"alignmentgroup\":\"True\",\"hovertemplate\":\"Tipo de interacci\\u00f3n=%{x}<br>G\\u00e9nero=Hombre<br>Cant=%{y}<extra></extra>\",\"legendgroup\":\"Solicita apoyo para resolver sus dudas\",\"marker\":{\"color\":\"rgb(255,217,47)\",\"pattern\":{\"shape\":\"\"}},\"name\":\"Solicita apoyo para resolver sus dudas\",\"offsetgroup\":\"Solicita apoyo para resolver sus dudas\",\"orientation\":\"v\",\"showlegend\":true,\"textposition\":\"auto\",\"x\":[\"Solicita apoyo para resolver sus dudas\"],\"xaxis\":\"x\",\"y\":[19.0],\"yaxis\":\"y\",\"type\":\"bar\"},{\"alignmentgroup\":\"True\",\"hovertemplate\":\"Tipo de interacci\\u00f3n=%{x}<br>G\\u00e9nero=Mujer<br>Cant=%{y}<extra></extra>\",\"legendgroup\":\"Solicita apoyo para resolver sus dudas\",\"marker\":{\"color\":\"rgb(255,217,47)\",\"pattern\":{\"shape\":\"\"}},\"name\":\"Solicita apoyo para resolver sus dudas\",\"offsetgroup\":\"Solicita apoyo para resolver sus dudas\",\"orientation\":\"v\",\"showlegend\":false,\"textposition\":\"auto\",\"x\":[\"Solicita apoyo para resolver sus dudas\"],\"xaxis\":\"x2\",\"y\":[24.0],\"yaxis\":\"y2\",\"type\":\"bar\"},{\"alignmentgroup\":\"True\",\"hovertemplate\":\"Tipo de interacci\\u00f3n=%{x}<br>G\\u00e9nero=No especificado<br>Cant=%{y}<extra></extra>\",\"legendgroup\":\"Solicita apoyo para resolver sus dudas\",\"marker\":{\"color\":\"rgb(255,217,47)\",\"pattern\":{\"shape\":\"\"}},\"name\":\"Solicita apoyo para resolver sus dudas\",\"offsetgroup\":\"Solicita apoyo para resolver sus dudas\",\"orientation\":\"v\",\"showlegend\":false,\"textposition\":\"auto\",\"x\":[\"Solicita apoyo para resolver sus dudas\"],\"xaxis\":\"x3\",\"y\":[0.0],\"yaxis\":\"y3\",\"type\":\"bar\"},{\"alignmentgroup\":\"True\",\"hovertemplate\":\"Tipo de interacci\\u00f3n=%{x}<br>G\\u00e9nero=Hombre<br>Cant=%{y}<extra></extra>\",\"legendgroup\":\"Tendencia a trabajo individual\",\"marker\":{\"color\":\"rgb(229,196,148)\",\"pattern\":{\"shape\":\"\"}},\"name\":\"Tendencia a trabajo individual\",\"offsetgroup\":\"Tendencia a trabajo individual\",\"orientation\":\"v\",\"showlegend\":true,\"textposition\":\"auto\",\"x\":[\"Tendencia a trabajo individual\"],\"xaxis\":\"x\",\"y\":[0.0],\"yaxis\":\"y\",\"type\":\"bar\"},{\"alignmentgroup\":\"True\",\"hovertemplate\":\"Tipo de interacci\\u00f3n=%{x}<br>G\\u00e9nero=Mujer<br>Cant=%{y}<extra></extra>\",\"legendgroup\":\"Tendencia a trabajo individual\",\"marker\":{\"color\":\"rgb(229,196,148)\",\"pattern\":{\"shape\":\"\"}},\"name\":\"Tendencia a trabajo individual\",\"offsetgroup\":\"Tendencia a trabajo individual\",\"orientation\":\"v\",\"showlegend\":false,\"textposition\":\"auto\",\"x\":[\"Tendencia a trabajo individual\"],\"xaxis\":\"x2\",\"y\":[0.0],\"yaxis\":\"y2\",\"type\":\"bar\"},{\"alignmentgroup\":\"True\",\"hovertemplate\":\"Tipo de interacci\\u00f3n=%{x}<br>G\\u00e9nero=No especificado<br>Cant=%{y}<extra></extra>\",\"legendgroup\":\"Tendencia a trabajo individual\",\"marker\":{\"color\":\"rgb(229,196,148)\",\"pattern\":{\"shape\":\"\"}},\"name\":\"Tendencia a trabajo individual\",\"offsetgroup\":\"Tendencia a trabajo individual\",\"orientation\":\"v\",\"showlegend\":false,\"textposition\":\"auto\",\"x\":[\"Tendencia a trabajo individual\"],\"xaxis\":\"x3\",\"y\":[0.0],\"yaxis\":\"y3\",\"type\":\"bar\"}],                        {\"template\":{\"data\":{\"barpolar\":[{\"marker\":{\"line\":{\"color\":\"white\",\"width\":0.5},\"pattern\":{\"fillmode\":\"overlay\",\"size\":10,\"solidity\":0.2}},\"type\":\"barpolar\"}],\"bar\":[{\"error_x\":{\"color\":\"#2a3f5f\"},\"error_y\":{\"color\":\"#2a3f5f\"},\"marker\":{\"line\":{\"color\":\"white\",\"width\":0.5},\"pattern\":{\"fillmode\":\"overlay\",\"size\":10,\"solidity\":0.2}},\"type\":\"bar\"}],\"carpet\":[{\"aaxis\":{\"endlinecolor\":\"#2a3f5f\",\"gridcolor\":\"#C8D4E3\",\"linecolor\":\"#C8D4E3\",\"minorgridcolor\":\"#C8D4E3\",\"startlinecolor\":\"#2a3f5f\"},\"baxis\":{\"endlinecolor\":\"#2a3f5f\",\"gridcolor\":\"#C8D4E3\",\"linecolor\":\"#C8D4E3\",\"minorgridcolor\":\"#C8D4E3\",\"startlinecolor\":\"#2a3f5f\"},\"type\":\"carpet\"}],\"choropleth\":[{\"colorbar\":{\"outlinewidth\":0,\"ticks\":\"\"},\"type\":\"choropleth\"}],\"contourcarpet\":[{\"colorbar\":{\"outlinewidth\":0,\"ticks\":\"\"},\"type\":\"contourcarpet\"}],\"contour\":[{\"colorbar\":{\"outlinewidth\":0,\"ticks\":\"\"},\"colorscale\":[[0.0,\"#0d0887\"],[0.1111111111111111,\"#46039f\"],[0.2222222222222222,\"#7201a8\"],[0.3333333333333333,\"#9c179e\"],[0.4444444444444444,\"#bd3786\"],[0.5555555555555556,\"#d8576b\"],[0.6666666666666666,\"#ed7953\"],[0.7777777777777778,\"#fb9f3a\"],[0.8888888888888888,\"#fdca26\"],[1.0,\"#f0f921\"]],\"type\":\"contour\"}],\"heatmapgl\":[{\"colorbar\":{\"outlinewidth\":0,\"ticks\":\"\"},\"colorscale\":[[0.0,\"#0d0887\"],[0.1111111111111111,\"#46039f\"],[0.2222222222222222,\"#7201a8\"],[0.3333333333333333,\"#9c179e\"],[0.4444444444444444,\"#bd3786\"],[0.5555555555555556,\"#d8576b\"],[0.6666666666666666,\"#ed7953\"],[0.7777777777777778,\"#fb9f3a\"],[0.8888888888888888,\"#fdca26\"],[1.0,\"#f0f921\"]],\"type\":\"heatmapgl\"}],\"heatmap\":[{\"colorbar\":{\"outlinewidth\":0,\"ticks\":\"\"},\"colorscale\":[[0.0,\"#0d0887\"],[0.1111111111111111,\"#46039f\"],[0.2222222222222222,\"#7201a8\"],[0.3333333333333333,\"#9c179e\"],[0.4444444444444444,\"#bd3786\"],[0.5555555555555556,\"#d8576b\"],[0.6666666666666666,\"#ed7953\"],[0.7777777777777778,\"#fb9f3a\"],[0.8888888888888888,\"#fdca26\"],[1.0,\"#f0f921\"]],\"type\":\"heatmap\"}],\"histogram2dcontour\":[{\"colorbar\":{\"outlinewidth\":0,\"ticks\":\"\"},\"colorscale\":[[0.0,\"#0d0887\"],[0.1111111111111111,\"#46039f\"],[0.2222222222222222,\"#7201a8\"],[0.3333333333333333,\"#9c179e\"],[0.4444444444444444,\"#bd3786\"],[0.5555555555555556,\"#d8576b\"],[0.6666666666666666,\"#ed7953\"],[0.7777777777777778,\"#fb9f3a\"],[0.8888888888888888,\"#fdca26\"],[1.0,\"#f0f921\"]],\"type\":\"histogram2dcontour\"}],\"histogram2d\":[{\"colorbar\":{\"outlinewidth\":0,\"ticks\":\"\"},\"colorscale\":[[0.0,\"#0d0887\"],[0.1111111111111111,\"#46039f\"],[0.2222222222222222,\"#7201a8\"],[0.3333333333333333,\"#9c179e\"],[0.4444444444444444,\"#bd3786\"],[0.5555555555555556,\"#d8576b\"],[0.6666666666666666,\"#ed7953\"],[0.7777777777777778,\"#fb9f3a\"],[0.8888888888888888,\"#fdca26\"],[1.0,\"#f0f921\"]],\"type\":\"histogram2d\"}],\"histogram\":[{\"marker\":{\"pattern\":{\"fillmode\":\"overlay\",\"size\":10,\"solidity\":0.2}},\"type\":\"histogram\"}],\"mesh3d\":[{\"colorbar\":{\"outlinewidth\":0,\"ticks\":\"\"},\"type\":\"mesh3d\"}],\"parcoords\":[{\"line\":{\"colorbar\":{\"outlinewidth\":0,\"ticks\":\"\"}},\"type\":\"parcoords\"}],\"pie\":[{\"automargin\":true,\"type\":\"pie\"}],\"scatter3d\":[{\"line\":{\"colorbar\":{\"outlinewidth\":0,\"ticks\":\"\"}},\"marker\":{\"colorbar\":{\"outlinewidth\":0,\"ticks\":\"\"}},\"type\":\"scatter3d\"}],\"scattercarpet\":[{\"marker\":{\"colorbar\":{\"outlinewidth\":0,\"ticks\":\"\"}},\"type\":\"scattercarpet\"}],\"scattergeo\":[{\"marker\":{\"colorbar\":{\"outlinewidth\":0,\"ticks\":\"\"}},\"type\":\"scattergeo\"}],\"scattergl\":[{\"marker\":{\"colorbar\":{\"outlinewidth\":0,\"ticks\":\"\"}},\"type\":\"scattergl\"}],\"scattermapbox\":[{\"marker\":{\"colorbar\":{\"outlinewidth\":0,\"ticks\":\"\"}},\"type\":\"scattermapbox\"}],\"scatterpolargl\":[{\"marker\":{\"colorbar\":{\"outlinewidth\":0,\"ticks\":\"\"}},\"type\":\"scatterpolargl\"}],\"scatterpolar\":[{\"marker\":{\"colorbar\":{\"outlinewidth\":0,\"ticks\":\"\"}},\"type\":\"scatterpolar\"}],\"scatter\":[{\"marker\":{\"colorbar\":{\"outlinewidth\":0,\"ticks\":\"\"}},\"type\":\"scatter\"}],\"scatterternary\":[{\"marker\":{\"colorbar\":{\"outlinewidth\":0,\"ticks\":\"\"}},\"type\":\"scatterternary\"}],\"surface\":[{\"colorbar\":{\"outlinewidth\":0,\"ticks\":\"\"},\"colorscale\":[[0.0,\"#0d0887\"],[0.1111111111111111,\"#46039f\"],[0.2222222222222222,\"#7201a8\"],[0.3333333333333333,\"#9c179e\"],[0.4444444444444444,\"#bd3786\"],[0.5555555555555556,\"#d8576b\"],[0.6666666666666666,\"#ed7953\"],[0.7777777777777778,\"#fb9f3a\"],[0.8888888888888888,\"#fdca26\"],[1.0,\"#f0f921\"]],\"type\":\"surface\"}],\"table\":[{\"cells\":{\"fill\":{\"color\":\"#EBF0F8\"},\"line\":{\"color\":\"white\"}},\"header\":{\"fill\":{\"color\":\"#C8D4E3\"},\"line\":{\"color\":\"white\"}},\"type\":\"table\"}]},\"layout\":{\"annotationdefaults\":{\"arrowcolor\":\"#2a3f5f\",\"arrowhead\":0,\"arrowwidth\":1},\"autotypenumbers\":\"strict\",\"coloraxis\":{\"colorbar\":{\"outlinewidth\":0,\"ticks\":\"\"}},\"colorscale\":{\"diverging\":[[0,\"#8e0152\"],[0.1,\"#c51b7d\"],[0.2,\"#de77ae\"],[0.3,\"#f1b6da\"],[0.4,\"#fde0ef\"],[0.5,\"#f7f7f7\"],[0.6,\"#e6f5d0\"],[0.7,\"#b8e186\"],[0.8,\"#7fbc41\"],[0.9,\"#4d9221\"],[1,\"#276419\"]],\"sequential\":[[0.0,\"#0d0887\"],[0.1111111111111111,\"#46039f\"],[0.2222222222222222,\"#7201a8\"],[0.3333333333333333,\"#9c179e\"],[0.4444444444444444,\"#bd3786\"],[0.5555555555555556,\"#d8576b\"],[0.6666666666666666,\"#ed7953\"],[0.7777777777777778,\"#fb9f3a\"],[0.8888888888888888,\"#fdca26\"],[1.0,\"#f0f921\"]],\"sequentialminus\":[[0.0,\"#0d0887\"],[0.1111111111111111,\"#46039f\"],[0.2222222222222222,\"#7201a8\"],[0.3333333333333333,\"#9c179e\"],[0.4444444444444444,\"#bd3786\"],[0.5555555555555556,\"#d8576b\"],[0.6666666666666666,\"#ed7953\"],[0.7777777777777778,\"#fb9f3a\"],[0.8888888888888888,\"#fdca26\"],[1.0,\"#f0f921\"]]},\"colorway\":[\"#636efa\",\"#EF553B\",\"#00cc96\",\"#ab63fa\",\"#FFA15A\",\"#19d3f3\",\"#FF6692\",\"#B6E880\",\"#FF97FF\",\"#FECB52\"],\"font\":{\"color\":\"#2a3f5f\"},\"geo\":{\"bgcolor\":\"white\",\"lakecolor\":\"white\",\"landcolor\":\"white\",\"showlakes\":true,\"showland\":true,\"subunitcolor\":\"#C8D4E3\"},\"hoverlabel\":{\"align\":\"left\"},\"hovermode\":\"closest\",\"mapbox\":{\"style\":\"light\"},\"paper_bgcolor\":\"white\",\"plot_bgcolor\":\"white\",\"polar\":{\"angularaxis\":{\"gridcolor\":\"#EBF0F8\",\"linecolor\":\"#EBF0F8\",\"ticks\":\"\"},\"bgcolor\":\"white\",\"radialaxis\":{\"gridcolor\":\"#EBF0F8\",\"linecolor\":\"#EBF0F8\",\"ticks\":\"\"}},\"scene\":{\"xaxis\":{\"backgroundcolor\":\"white\",\"gridcolor\":\"#DFE8F3\",\"gridwidth\":2,\"linecolor\":\"#EBF0F8\",\"showbackground\":true,\"ticks\":\"\",\"zerolinecolor\":\"#EBF0F8\"},\"yaxis\":{\"backgroundcolor\":\"white\",\"gridcolor\":\"#DFE8F3\",\"gridwidth\":2,\"linecolor\":\"#EBF0F8\",\"showbackground\":true,\"ticks\":\"\",\"zerolinecolor\":\"#EBF0F8\"},\"zaxis\":{\"backgroundcolor\":\"white\",\"gridcolor\":\"#DFE8F3\",\"gridwidth\":2,\"linecolor\":\"#EBF0F8\",\"showbackground\":true,\"ticks\":\"\",\"zerolinecolor\":\"#EBF0F8\"}},\"shapedefaults\":{\"line\":{\"color\":\"#2a3f5f\"}},\"ternary\":{\"aaxis\":{\"gridcolor\":\"#DFE8F3\",\"linecolor\":\"#A2B1C6\",\"ticks\":\"\"},\"baxis\":{\"gridcolor\":\"#DFE8F3\",\"linecolor\":\"#A2B1C6\",\"ticks\":\"\"},\"bgcolor\":\"white\",\"caxis\":{\"gridcolor\":\"#DFE8F3\",\"linecolor\":\"#A2B1C6\",\"ticks\":\"\"}},\"title\":{\"x\":0.05},\"xaxis\":{\"automargin\":true,\"gridcolor\":\"#EBF0F8\",\"linecolor\":\"#EBF0F8\",\"ticks\":\"\",\"title\":{\"standoff\":15},\"zerolinecolor\":\"#EBF0F8\",\"zerolinewidth\":2},\"yaxis\":{\"automargin\":true,\"gridcolor\":\"#EBF0F8\",\"linecolor\":\"#EBF0F8\",\"ticks\":\"\",\"title\":{\"standoff\":15},\"zerolinecolor\":\"#EBF0F8\",\"zerolinewidth\":2}}},\"xaxis\":{\"anchor\":\"y\",\"domain\":[0.0,0.31999999999999995],\"title\":{\"text\":\"Tipo de interacci\\u00f3n\"},\"categoryorder\":\"array\",\"categoryarray\":[\"Ayuda a resolver dudas y realiza sugerencias\",\"Comparte su experiencia frente a la actividad\",\"No indica consolidaci\\u00f3n de CAP\",\"Participa en una discusi\\u00f3n grupal\",\"Positivo para comunidad de pr\\u00e1ctica\",\"Solicita apoyo para resolver sus dudas\",\"Tendencia a trabajo individual\"],\"visible\":false,\"showticklabels\":false},\"yaxis\":{\"anchor\":\"x\",\"domain\":[0.0,1.0],\"title\":{\"text\":\"Cant\"}},\"xaxis2\":{\"anchor\":\"y2\",\"domain\":[0.33999999999999997,0.6599999999999999],\"matches\":\"x\",\"title\":{\"text\":\"Tipo de interacci\\u00f3n\"},\"categoryorder\":\"array\",\"categoryarray\":[\"Ayuda a resolver dudas y realiza sugerencias\",\"Comparte su experiencia frente a la actividad\",\"No indica consolidaci\\u00f3n de CAP\",\"Participa en una discusi\\u00f3n grupal\",\"Positivo para comunidad de pr\\u00e1ctica\",\"Solicita apoyo para resolver sus dudas\",\"Tendencia a trabajo individual\"],\"visible\":false,\"showticklabels\":false},\"yaxis2\":{\"anchor\":\"x2\",\"domain\":[0.0,1.0],\"matches\":\"y\",\"showticklabels\":false},\"xaxis3\":{\"anchor\":\"y3\",\"domain\":[0.6799999999999999,0.9999999999999999],\"matches\":\"x\",\"title\":{\"text\":\"Tipo de interacci\\u00f3n\"},\"categoryorder\":\"array\",\"categoryarray\":[\"Ayuda a resolver dudas y realiza sugerencias\",\"Comparte su experiencia frente a la actividad\",\"No indica consolidaci\\u00f3n de CAP\",\"Participa en una discusi\\u00f3n grupal\",\"Positivo para comunidad de pr\\u00e1ctica\",\"Solicita apoyo para resolver sus dudas\",\"Tendencia a trabajo individual\"],\"visible\":false,\"showticklabels\":false},\"yaxis3\":{\"anchor\":\"x3\",\"domain\":[0.0,1.0],\"matches\":\"y\",\"showticklabels\":false},\"annotations\":[{\"font\":{},\"showarrow\":false,\"text\":\"Hombre\",\"x\":0.15999999999999998,\"xanchor\":\"center\",\"xref\":\"paper\",\"y\":1.0,\"yanchor\":\"bottom\",\"yref\":\"paper\"},{\"font\":{},\"showarrow\":false,\"text\":\"Mujer\",\"x\":0.49999999999999994,\"xanchor\":\"center\",\"xref\":\"paper\",\"y\":1.0,\"yanchor\":\"bottom\",\"yref\":\"paper\"},{\"font\":{},\"showarrow\":false,\"text\":\"No especificado\",\"x\":0.8399999999999999,\"xanchor\":\"center\",\"xref\":\"paper\",\"y\":1.0,\"yanchor\":\"bottom\",\"yref\":\"paper\"}],\"legend\":{\"title\":{\"text\":\"Tipo de interacci\\u00f3n\"},\"tracegroupgap\":0},\"margin\":{\"t\":60},\"barmode\":\"relative\"},                        {\"scrollZoom\": true, \"displaylogo\": true, \"responsive\": true, \"editable\": true, \"toImageButtonOptions\": {\"format\": \"png\", \"filename\": \"grafica_CAP\", \"height\": null, \"width\": null, \"scale\": true}}                    ).then(function(){\n",
       "                            \n",
       "var gd = document.getElementById('5899e381-74c9-4787-bb49-fa73001d0013');\n",
       "var x = new MutationObserver(function (mutations, observer) {{\n",
       "        var display = window.getComputedStyle(gd).display;\n",
       "        if (!display || display === 'none') {{\n",
       "            console.log([gd, 'removed!']);\n",
       "            Plotly.purge(gd);\n",
       "            observer.disconnect();\n",
       "        }}\n",
       "}});\n",
       "\n",
       "// Listen for the removal of the full notebook cells\n",
       "var notebookContainer = gd.closest('#notebook-container');\n",
       "if (notebookContainer) {{\n",
       "    x.observe(notebookContainer, {childList: true});\n",
       "}}\n",
       "\n",
       "// Listen for the clearing of the current output cell\n",
       "var outputEl = gd.closest('.output');\n",
       "if (outputEl) {{\n",
       "    x.observe(outputEl, {childList: true});\n",
       "}}\n",
       "\n",
       "                        })                };                });            </script>        </div>"
      ]
     },
     "metadata": {},
     "output_type": "display_data"
    }
   ],
   "source": [
    "figc=px.bar(pivot,x='Tipo de interacción', y='Cant', color='Tipo de interacción', facet_col='Género', template=\"plotly_white\",color_discrete_sequence=px.colors.qualitative.Set2)\n",
    "figc.update_xaxes(visible=False, showticklabels=False)\n",
    "figc.for_each_annotation(lambda a: a.update(text=a.text.split(\"=\")[-1]))\n",
    "figc.show(config=config_chart)"
   ]
  },
  {
   "cell_type": "markdown",
   "id": "f18de6d6-20e6-47f8-bd97-cc2454d20cfc",
   "metadata": {
    "jp-MarkdownHeadingCollapsed": true,
    "tags": []
   },
   "source": [
    "## Fanpage Comentarios = Genero x Genero"
   ]
  },
  {
   "cell_type": "code",
   "execution_count": 10,
   "id": "2b5957ed-3bce-4088-8472-779b4a4dd1ce",
   "metadata": {},
   "outputs": [
    {
     "data": {
      "text/plain": [
       "['Lenguaje Inclusivo',\n",
       " 'Comentario Sexista',\n",
       " 'Lenguaje No Inclusivo',\n",
       " 'Empoderamiento Femenino o en Pro de Género',\n",
       " 'NA']"
      ]
     },
     "execution_count": 10,
     "metadata": {},
     "output_type": "execute_result"
    }
   ],
   "source": [
    "tipogen='''Lenguaje Inclusivo\tComentario Sexista\tLenguaje No Inclusivo\tEmpoderamiento Femenino o en Pro de Género\tNA'''\n",
    "tiposgen = tipogen.split('\t')\n",
    "tiposgen"
   ]
  },
  {
   "cell_type": "code",
   "execution_count": 11,
   "id": "6f854ac3-1a93-49c2-94ea-28f1ab500835",
   "metadata": {},
   "outputs": [],
   "source": [
    "nuevostgen = ['Lenguaje Inclusivo',\n",
    " 'Comentario sexista',\n",
    " 'Uso de lenguaje no inclusivo',\n",
    " 'En pro de la equidad de Género',\n",
    " 'No relevante en perspectiva de género']\n",
    "\n",
    "etiquetas2 = dict(zip(tiposgen,nuevostgen))"
   ]
  },
  {
   "cell_type": "code",
   "execution_count": 12,
   "id": "134ca8fc-3cd4-4af9-b67b-676231bfb65a",
   "metadata": {},
   "outputs": [
    {
     "data": {
      "text/html": [
       "<div>\n",
       "<style scoped>\n",
       "    .dataframe tbody tr th:only-of-type {\n",
       "        vertical-align: middle;\n",
       "    }\n",
       "\n",
       "    .dataframe tbody tr th {\n",
       "        vertical-align: top;\n",
       "    }\n",
       "\n",
       "    .dataframe thead th {\n",
       "        text-align: right;\n",
       "    }\n",
       "</style>\n",
       "<table border=\"1\" class=\"dataframe\">\n",
       "  <thead>\n",
       "    <tr style=\"text-align: right;\">\n",
       "      <th></th>\n",
       "      <th>Género</th>\n",
       "      <th>Lenguaje Inclusivo</th>\n",
       "      <th>Comentario sexista</th>\n",
       "      <th>Uso de lenguaje no inclusivo</th>\n",
       "      <th>En pro de la equidad de Género</th>\n",
       "      <th>No relevante en perspectiva de género</th>\n",
       "    </tr>\n",
       "  </thead>\n",
       "  <tbody>\n",
       "    <tr>\n",
       "      <th>0</th>\n",
       "      <td>Mujer</td>\n",
       "      <td>NaN</td>\n",
       "      <td>NaN</td>\n",
       "      <td>NaN</td>\n",
       "      <td>NaN</td>\n",
       "      <td>1.0</td>\n",
       "    </tr>\n",
       "    <tr>\n",
       "      <th>1</th>\n",
       "      <td>No especificado</td>\n",
       "      <td>NaN</td>\n",
       "      <td>NaN</td>\n",
       "      <td>NaN</td>\n",
       "      <td>NaN</td>\n",
       "      <td>NaN</td>\n",
       "    </tr>\n",
       "    <tr>\n",
       "      <th>2</th>\n",
       "      <td>Mujer</td>\n",
       "      <td>NaN</td>\n",
       "      <td>NaN</td>\n",
       "      <td>NaN</td>\n",
       "      <td>NaN</td>\n",
       "      <td>1.0</td>\n",
       "    </tr>\n",
       "    <tr>\n",
       "      <th>3</th>\n",
       "      <td>No especificado</td>\n",
       "      <td>NaN</td>\n",
       "      <td>NaN</td>\n",
       "      <td>NaN</td>\n",
       "      <td>NaN</td>\n",
       "      <td>1.0</td>\n",
       "    </tr>\n",
       "    <tr>\n",
       "      <th>4</th>\n",
       "      <td>Hombre</td>\n",
       "      <td>NaN</td>\n",
       "      <td>NaN</td>\n",
       "      <td>NaN</td>\n",
       "      <td>NaN</td>\n",
       "      <td>1.0</td>\n",
       "    </tr>\n",
       "    <tr>\n",
       "      <th>...</th>\n",
       "      <td>...</td>\n",
       "      <td>...</td>\n",
       "      <td>...</td>\n",
       "      <td>...</td>\n",
       "      <td>...</td>\n",
       "      <td>...</td>\n",
       "    </tr>\n",
       "    <tr>\n",
       "      <th>280</th>\n",
       "      <td>Mujer</td>\n",
       "      <td>NaN</td>\n",
       "      <td>NaN</td>\n",
       "      <td>1.0</td>\n",
       "      <td>NaN</td>\n",
       "      <td>1.0</td>\n",
       "    </tr>\n",
       "    <tr>\n",
       "      <th>281</th>\n",
       "      <td>No especificado</td>\n",
       "      <td>NaN</td>\n",
       "      <td>NaN</td>\n",
       "      <td>NaN</td>\n",
       "      <td>NaN</td>\n",
       "      <td>NaN</td>\n",
       "    </tr>\n",
       "    <tr>\n",
       "      <th>282</th>\n",
       "      <td>Hombre</td>\n",
       "      <td>NaN</td>\n",
       "      <td>NaN</td>\n",
       "      <td>NaN</td>\n",
       "      <td>NaN</td>\n",
       "      <td>1.0</td>\n",
       "    </tr>\n",
       "    <tr>\n",
       "      <th>283</th>\n",
       "      <td>Mujer</td>\n",
       "      <td>NaN</td>\n",
       "      <td>NaN</td>\n",
       "      <td>NaN</td>\n",
       "      <td>NaN</td>\n",
       "      <td>1.0</td>\n",
       "    </tr>\n",
       "    <tr>\n",
       "      <th>284</th>\n",
       "      <td>Mujer</td>\n",
       "      <td>NaN</td>\n",
       "      <td>NaN</td>\n",
       "      <td>NaN</td>\n",
       "      <td>NaN</td>\n",
       "      <td>1.0</td>\n",
       "    </tr>\n",
       "  </tbody>\n",
       "</table>\n",
       "<p>285 rows × 6 columns</p>\n",
       "</div>"
      ],
      "text/plain": [
       "              Género  Lenguaje Inclusivo  Comentario sexista  \\\n",
       "0              Mujer                 NaN                 NaN   \n",
       "1    No especificado                 NaN                 NaN   \n",
       "2              Mujer                 NaN                 NaN   \n",
       "3    No especificado                 NaN                 NaN   \n",
       "4             Hombre                 NaN                 NaN   \n",
       "..               ...                 ...                 ...   \n",
       "280            Mujer                 NaN                 NaN   \n",
       "281  No especificado                 NaN                 NaN   \n",
       "282           Hombre                 NaN                 NaN   \n",
       "283            Mujer                 NaN                 NaN   \n",
       "284            Mujer                 NaN                 NaN   \n",
       "\n",
       "     Uso de lenguaje no inclusivo  En pro de la equidad de Género  \\\n",
       "0                             NaN                             NaN   \n",
       "1                             NaN                             NaN   \n",
       "2                             NaN                             NaN   \n",
       "3                             NaN                             NaN   \n",
       "4                             NaN                             NaN   \n",
       "..                            ...                             ...   \n",
       "280                           1.0                             NaN   \n",
       "281                           NaN                             NaN   \n",
       "282                           NaN                             NaN   \n",
       "283                           NaN                             NaN   \n",
       "284                           NaN                             NaN   \n",
       "\n",
       "     No relevante en perspectiva de género  \n",
       "0                                      1.0  \n",
       "1                                      NaN  \n",
       "2                                      1.0  \n",
       "3                                      1.0  \n",
       "4                                      1.0  \n",
       "..                                     ...  \n",
       "280                                    1.0  \n",
       "281                                    NaN  \n",
       "282                                    1.0  \n",
       "283                                    1.0  \n",
       "284                                    1.0  \n",
       "\n",
       "[285 rows x 6 columns]"
      ]
     },
     "execution_count": 12,
     "metadata": {},
     "output_type": "execute_result"
    }
   ],
   "source": [
    "genero_tiposgen=comentariosfp.loc[:,['Género']+tiposgen]\n",
    "genero_tiposgen = genero_tiposgen.rename(columns=etiquetas2)\n",
    "genero_tiposgen"
   ]
  },
  {
   "cell_type": "code",
   "execution_count": 13,
   "id": "c2aa7c5c-fe63-416c-88d9-0144e9313776",
   "metadata": {},
   "outputs": [
    {
     "data": {
      "text/html": [
       "<div>\n",
       "<style scoped>\n",
       "    .dataframe tbody tr th:only-of-type {\n",
       "        vertical-align: middle;\n",
       "    }\n",
       "\n",
       "    .dataframe tbody tr th {\n",
       "        vertical-align: top;\n",
       "    }\n",
       "\n",
       "    .dataframe thead th {\n",
       "        text-align: right;\n",
       "    }\n",
       "</style>\n",
       "<table border=\"1\" class=\"dataframe\">\n",
       "  <thead>\n",
       "    <tr style=\"text-align: right;\">\n",
       "      <th></th>\n",
       "      <th>Género</th>\n",
       "      <th>variable</th>\n",
       "      <th>value</th>\n",
       "    </tr>\n",
       "  </thead>\n",
       "  <tbody>\n",
       "    <tr>\n",
       "      <th>0</th>\n",
       "      <td>Mujer</td>\n",
       "      <td>Lenguaje Inclusivo</td>\n",
       "      <td>NaN</td>\n",
       "    </tr>\n",
       "    <tr>\n",
       "      <th>1</th>\n",
       "      <td>No especificado</td>\n",
       "      <td>Lenguaje Inclusivo</td>\n",
       "      <td>NaN</td>\n",
       "    </tr>\n",
       "    <tr>\n",
       "      <th>2</th>\n",
       "      <td>Mujer</td>\n",
       "      <td>Lenguaje Inclusivo</td>\n",
       "      <td>NaN</td>\n",
       "    </tr>\n",
       "    <tr>\n",
       "      <th>3</th>\n",
       "      <td>No especificado</td>\n",
       "      <td>Lenguaje Inclusivo</td>\n",
       "      <td>NaN</td>\n",
       "    </tr>\n",
       "    <tr>\n",
       "      <th>4</th>\n",
       "      <td>Hombre</td>\n",
       "      <td>Lenguaje Inclusivo</td>\n",
       "      <td>NaN</td>\n",
       "    </tr>\n",
       "    <tr>\n",
       "      <th>...</th>\n",
       "      <td>...</td>\n",
       "      <td>...</td>\n",
       "      <td>...</td>\n",
       "    </tr>\n",
       "    <tr>\n",
       "      <th>1420</th>\n",
       "      <td>Mujer</td>\n",
       "      <td>No relevante en perspectiva de género</td>\n",
       "      <td>1.0</td>\n",
       "    </tr>\n",
       "    <tr>\n",
       "      <th>1421</th>\n",
       "      <td>No especificado</td>\n",
       "      <td>No relevante en perspectiva de género</td>\n",
       "      <td>NaN</td>\n",
       "    </tr>\n",
       "    <tr>\n",
       "      <th>1422</th>\n",
       "      <td>Hombre</td>\n",
       "      <td>No relevante en perspectiva de género</td>\n",
       "      <td>1.0</td>\n",
       "    </tr>\n",
       "    <tr>\n",
       "      <th>1423</th>\n",
       "      <td>Mujer</td>\n",
       "      <td>No relevante en perspectiva de género</td>\n",
       "      <td>1.0</td>\n",
       "    </tr>\n",
       "    <tr>\n",
       "      <th>1424</th>\n",
       "      <td>Mujer</td>\n",
       "      <td>No relevante en perspectiva de género</td>\n",
       "      <td>1.0</td>\n",
       "    </tr>\n",
       "  </tbody>\n",
       "</table>\n",
       "<p>1425 rows × 3 columns</p>\n",
       "</div>"
      ],
      "text/plain": [
       "               Género                               variable  value\n",
       "0               Mujer                     Lenguaje Inclusivo    NaN\n",
       "1     No especificado                     Lenguaje Inclusivo    NaN\n",
       "2               Mujer                     Lenguaje Inclusivo    NaN\n",
       "3     No especificado                     Lenguaje Inclusivo    NaN\n",
       "4              Hombre                     Lenguaje Inclusivo    NaN\n",
       "...               ...                                    ...    ...\n",
       "1420            Mujer  No relevante en perspectiva de género    1.0\n",
       "1421  No especificado  No relevante en perspectiva de género    NaN\n",
       "1422           Hombre  No relevante en perspectiva de género    1.0\n",
       "1423            Mujer  No relevante en perspectiva de género    1.0\n",
       "1424            Mujer  No relevante en perspectiva de género    1.0\n",
       "\n",
       "[1425 rows x 3 columns]"
      ]
     },
     "execution_count": 13,
     "metadata": {},
     "output_type": "execute_result"
    }
   ],
   "source": [
    "genero_tiposgen=genero_tiposgen.melt(id_vars='Género')\n",
    "genero_tiposgen"
   ]
  },
  {
   "cell_type": "code",
   "execution_count": 14,
   "id": "5076e554-5361-4f9c-af0e-68a4302a2b0b",
   "metadata": {},
   "outputs": [
    {
     "data": {
      "text/html": [
       "<div>\n",
       "<style scoped>\n",
       "    .dataframe tbody tr th:only-of-type {\n",
       "        vertical-align: middle;\n",
       "    }\n",
       "\n",
       "    .dataframe tbody tr th {\n",
       "        vertical-align: top;\n",
       "    }\n",
       "\n",
       "    .dataframe thead th {\n",
       "        text-align: right;\n",
       "    }\n",
       "</style>\n",
       "<table border=\"1\" class=\"dataframe\">\n",
       "  <thead>\n",
       "    <tr style=\"text-align: right;\">\n",
       "      <th></th>\n",
       "      <th>Género</th>\n",
       "      <th>Tipo de interacción</th>\n",
       "      <th>Cant</th>\n",
       "    </tr>\n",
       "  </thead>\n",
       "  <tbody>\n",
       "    <tr>\n",
       "      <th>0</th>\n",
       "      <td>Hombre</td>\n",
       "      <td>Comentario sexista</td>\n",
       "      <td>0.0</td>\n",
       "    </tr>\n",
       "    <tr>\n",
       "      <th>1</th>\n",
       "      <td>Hombre</td>\n",
       "      <td>En pro de la equidad de Género</td>\n",
       "      <td>0.0</td>\n",
       "    </tr>\n",
       "    <tr>\n",
       "      <th>2</th>\n",
       "      <td>Hombre</td>\n",
       "      <td>Lenguaje Inclusivo</td>\n",
       "      <td>1.0</td>\n",
       "    </tr>\n",
       "    <tr>\n",
       "      <th>3</th>\n",
       "      <td>Hombre</td>\n",
       "      <td>No relevante en perspectiva de género</td>\n",
       "      <td>42.0</td>\n",
       "    </tr>\n",
       "    <tr>\n",
       "      <th>4</th>\n",
       "      <td>Hombre</td>\n",
       "      <td>Uso de lenguaje no inclusivo</td>\n",
       "      <td>5.0</td>\n",
       "    </tr>\n",
       "    <tr>\n",
       "      <th>5</th>\n",
       "      <td>Mujer</td>\n",
       "      <td>Comentario sexista</td>\n",
       "      <td>0.0</td>\n",
       "    </tr>\n",
       "    <tr>\n",
       "      <th>6</th>\n",
       "      <td>Mujer</td>\n",
       "      <td>En pro de la equidad de Género</td>\n",
       "      <td>1.0</td>\n",
       "    </tr>\n",
       "    <tr>\n",
       "      <th>7</th>\n",
       "      <td>Mujer</td>\n",
       "      <td>Lenguaje Inclusivo</td>\n",
       "      <td>3.0</td>\n",
       "    </tr>\n",
       "    <tr>\n",
       "      <th>8</th>\n",
       "      <td>Mujer</td>\n",
       "      <td>No relevante en perspectiva de género</td>\n",
       "      <td>63.0</td>\n",
       "    </tr>\n",
       "    <tr>\n",
       "      <th>9</th>\n",
       "      <td>Mujer</td>\n",
       "      <td>Uso de lenguaje no inclusivo</td>\n",
       "      <td>9.0</td>\n",
       "    </tr>\n",
       "    <tr>\n",
       "      <th>10</th>\n",
       "      <td>No especificado</td>\n",
       "      <td>Comentario sexista</td>\n",
       "      <td>0.0</td>\n",
       "    </tr>\n",
       "    <tr>\n",
       "      <th>11</th>\n",
       "      <td>No especificado</td>\n",
       "      <td>En pro de la equidad de Género</td>\n",
       "      <td>0.0</td>\n",
       "    </tr>\n",
       "    <tr>\n",
       "      <th>12</th>\n",
       "      <td>No especificado</td>\n",
       "      <td>Lenguaje Inclusivo</td>\n",
       "      <td>0.0</td>\n",
       "    </tr>\n",
       "    <tr>\n",
       "      <th>13</th>\n",
       "      <td>No especificado</td>\n",
       "      <td>No relevante en perspectiva de género</td>\n",
       "      <td>2.0</td>\n",
       "    </tr>\n",
       "    <tr>\n",
       "      <th>14</th>\n",
       "      <td>No especificado</td>\n",
       "      <td>Uso de lenguaje no inclusivo</td>\n",
       "      <td>0.0</td>\n",
       "    </tr>\n",
       "  </tbody>\n",
       "</table>\n",
       "</div>"
      ],
      "text/plain": [
       "             Género                    Tipo de interacción  Cant\n",
       "0            Hombre                     Comentario sexista   0.0\n",
       "1            Hombre         En pro de la equidad de Género   0.0\n",
       "2            Hombre                     Lenguaje Inclusivo   1.0\n",
       "3            Hombre  No relevante en perspectiva de género  42.0\n",
       "4            Hombre           Uso de lenguaje no inclusivo   5.0\n",
       "5             Mujer                     Comentario sexista   0.0\n",
       "6             Mujer         En pro de la equidad de Género   1.0\n",
       "7             Mujer                     Lenguaje Inclusivo   3.0\n",
       "8             Mujer  No relevante en perspectiva de género  63.0\n",
       "9             Mujer           Uso de lenguaje no inclusivo   9.0\n",
       "10  No especificado                     Comentario sexista   0.0\n",
       "11  No especificado         En pro de la equidad de Género   0.0\n",
       "12  No especificado                     Lenguaje Inclusivo   0.0\n",
       "13  No especificado  No relevante en perspectiva de género   2.0\n",
       "14  No especificado           Uso de lenguaje no inclusivo   0.0"
      ]
     },
     "execution_count": 14,
     "metadata": {},
     "output_type": "execute_result"
    }
   ],
   "source": [
    "pivotgen=genero_tiposgen.pivot_table(index=['Género', 'variable'],values='value', aggfunc='sum').reset_index()\n",
    "pivotgen=pivotgen.rename(columns={'value':'Cant', 'variable':'Tipo de interacción'})\n",
    "pivotgen"
   ]
  },
  {
   "cell_type": "code",
   "execution_count": 43,
   "id": "884aa17f-117a-464d-9adf-436ef6cd134d",
   "metadata": {},
   "outputs": [
    {
     "data": {
      "application/vnd.plotly.v1+json": {
       "config": {
        "displaylogo": true,
        "editable": true,
        "plotlyServerURL": "https://plot.ly",
        "responsive": true,
        "scrollZoom": true,
        "toImageButtonOptions": {
         "filename": "grafica_CAP",
         "format": "png",
         "height": null,
         "scale": true,
         "width": null
        }
       },
       "data": [
        {
         "alignmentgroup": "True",
         "hovertemplate": "Tipo de interacción=%{x}<br>Género=Hombre<br>Cant=%{y}<extra></extra>",
         "legendgroup": "Comentario sexista",
         "marker": {
          "color": "rgb(102,194,165)",
          "pattern": {
           "shape": ""
          }
         },
         "name": "Comentario sexista",
         "offsetgroup": "Comentario sexista",
         "orientation": "v",
         "showlegend": true,
         "textposition": "auto",
         "type": "bar",
         "x": [
          "Comentario sexista"
         ],
         "xaxis": "x",
         "y": [
          0
         ],
         "yaxis": "y"
        },
        {
         "alignmentgroup": "True",
         "hovertemplate": "Tipo de interacción=%{x}<br>Género=Mujer<br>Cant=%{y}<extra></extra>",
         "legendgroup": "Comentario sexista",
         "marker": {
          "color": "rgb(102,194,165)",
          "pattern": {
           "shape": ""
          }
         },
         "name": "Comentario sexista",
         "offsetgroup": "Comentario sexista",
         "orientation": "v",
         "showlegend": false,
         "textposition": "auto",
         "type": "bar",
         "x": [
          "Comentario sexista"
         ],
         "xaxis": "x2",
         "y": [
          0
         ],
         "yaxis": "y2"
        },
        {
         "alignmentgroup": "True",
         "hovertemplate": "Tipo de interacción=%{x}<br>Género=No especificado<br>Cant=%{y}<extra></extra>",
         "legendgroup": "Comentario sexista",
         "marker": {
          "color": "rgb(102,194,165)",
          "pattern": {
           "shape": ""
          }
         },
         "name": "Comentario sexista",
         "offsetgroup": "Comentario sexista",
         "orientation": "v",
         "showlegend": false,
         "textposition": "auto",
         "type": "bar",
         "x": [
          "Comentario sexista"
         ],
         "xaxis": "x3",
         "y": [
          0
         ],
         "yaxis": "y3"
        },
        {
         "alignmentgroup": "True",
         "hovertemplate": "Tipo de interacción=%{x}<br>Género=Hombre<br>Cant=%{y}<extra></extra>",
         "legendgroup": "En pro de la equidad de Género",
         "marker": {
          "color": "rgb(252,141,98)",
          "pattern": {
           "shape": ""
          }
         },
         "name": "En pro de la equidad de Género",
         "offsetgroup": "En pro de la equidad de Género",
         "orientation": "v",
         "showlegend": true,
         "textposition": "auto",
         "type": "bar",
         "x": [
          "En pro de la equidad de Género"
         ],
         "xaxis": "x",
         "y": [
          0
         ],
         "yaxis": "y"
        },
        {
         "alignmentgroup": "True",
         "hovertemplate": "Tipo de interacción=%{x}<br>Género=Mujer<br>Cant=%{y}<extra></extra>",
         "legendgroup": "En pro de la equidad de Género",
         "marker": {
          "color": "rgb(252,141,98)",
          "pattern": {
           "shape": ""
          }
         },
         "name": "En pro de la equidad de Género",
         "offsetgroup": "En pro de la equidad de Género",
         "orientation": "v",
         "showlegend": false,
         "textposition": "auto",
         "type": "bar",
         "x": [
          "En pro de la equidad de Género"
         ],
         "xaxis": "x2",
         "y": [
          1
         ],
         "yaxis": "y2"
        },
        {
         "alignmentgroup": "True",
         "hovertemplate": "Tipo de interacción=%{x}<br>Género=No especificado<br>Cant=%{y}<extra></extra>",
         "legendgroup": "En pro de la equidad de Género",
         "marker": {
          "color": "rgb(252,141,98)",
          "pattern": {
           "shape": ""
          }
         },
         "name": "En pro de la equidad de Género",
         "offsetgroup": "En pro de la equidad de Género",
         "orientation": "v",
         "showlegend": false,
         "textposition": "auto",
         "type": "bar",
         "x": [
          "En pro de la equidad de Género"
         ],
         "xaxis": "x3",
         "y": [
          0
         ],
         "yaxis": "y3"
        },
        {
         "alignmentgroup": "True",
         "hovertemplate": "Tipo de interacción=%{x}<br>Género=Hombre<br>Cant=%{y}<extra></extra>",
         "legendgroup": "Lenguaje Inclusivo",
         "marker": {
          "color": "rgb(141,160,203)",
          "pattern": {
           "shape": ""
          }
         },
         "name": "Lenguaje Inclusivo",
         "offsetgroup": "Lenguaje Inclusivo",
         "orientation": "v",
         "showlegend": true,
         "textposition": "auto",
         "type": "bar",
         "x": [
          "Lenguaje Inclusivo"
         ],
         "xaxis": "x",
         "y": [
          1
         ],
         "yaxis": "y"
        },
        {
         "alignmentgroup": "True",
         "hovertemplate": "Tipo de interacción=%{x}<br>Género=Mujer<br>Cant=%{y}<extra></extra>",
         "legendgroup": "Lenguaje Inclusivo",
         "marker": {
          "color": "rgb(141,160,203)",
          "pattern": {
           "shape": ""
          }
         },
         "name": "Lenguaje Inclusivo",
         "offsetgroup": "Lenguaje Inclusivo",
         "orientation": "v",
         "showlegend": false,
         "textposition": "auto",
         "type": "bar",
         "x": [
          "Lenguaje Inclusivo"
         ],
         "xaxis": "x2",
         "y": [
          3
         ],
         "yaxis": "y2"
        },
        {
         "alignmentgroup": "True",
         "hovertemplate": "Tipo de interacción=%{x}<br>Género=No especificado<br>Cant=%{y}<extra></extra>",
         "legendgroup": "Lenguaje Inclusivo",
         "marker": {
          "color": "rgb(141,160,203)",
          "pattern": {
           "shape": ""
          }
         },
         "name": "Lenguaje Inclusivo",
         "offsetgroup": "Lenguaje Inclusivo",
         "orientation": "v",
         "showlegend": false,
         "textposition": "auto",
         "type": "bar",
         "x": [
          "Lenguaje Inclusivo"
         ],
         "xaxis": "x3",
         "y": [
          0
         ],
         "yaxis": "y3"
        },
        {
         "alignmentgroup": "True",
         "hovertemplate": "Tipo de interacción=%{x}<br>Género=Hombre<br>Cant=%{y}<extra></extra>",
         "legendgroup": "No relevante en perspectiva de género",
         "marker": {
          "color": "rgb(231,138,195)",
          "pattern": {
           "shape": ""
          }
         },
         "name": "No relevante en perspectiva de género",
         "offsetgroup": "No relevante en perspectiva de género",
         "orientation": "v",
         "showlegend": true,
         "textposition": "auto",
         "type": "bar",
         "x": [
          "No relevante en perspectiva de género"
         ],
         "xaxis": "x",
         "y": [
          42
         ],
         "yaxis": "y"
        },
        {
         "alignmentgroup": "True",
         "hovertemplate": "Tipo de interacción=%{x}<br>Género=Mujer<br>Cant=%{y}<extra></extra>",
         "legendgroup": "No relevante en perspectiva de género",
         "marker": {
          "color": "rgb(231,138,195)",
          "pattern": {
           "shape": ""
          }
         },
         "name": "No relevante en perspectiva de género",
         "offsetgroup": "No relevante en perspectiva de género",
         "orientation": "v",
         "showlegend": false,
         "textposition": "auto",
         "type": "bar",
         "x": [
          "No relevante en perspectiva de género"
         ],
         "xaxis": "x2",
         "y": [
          63
         ],
         "yaxis": "y2"
        },
        {
         "alignmentgroup": "True",
         "hovertemplate": "Tipo de interacción=%{x}<br>Género=No especificado<br>Cant=%{y}<extra></extra>",
         "legendgroup": "No relevante en perspectiva de género",
         "marker": {
          "color": "rgb(231,138,195)",
          "pattern": {
           "shape": ""
          }
         },
         "name": "No relevante en perspectiva de género",
         "offsetgroup": "No relevante en perspectiva de género",
         "orientation": "v",
         "showlegend": false,
         "textposition": "auto",
         "type": "bar",
         "x": [
          "No relevante en perspectiva de género"
         ],
         "xaxis": "x3",
         "y": [
          2
         ],
         "yaxis": "y3"
        },
        {
         "alignmentgroup": "True",
         "hovertemplate": "Tipo de interacción=%{x}<br>Género=Hombre<br>Cant=%{y}<extra></extra>",
         "legendgroup": "Uso de lenguaje no inclusivo",
         "marker": {
          "color": "rgb(166,216,84)",
          "pattern": {
           "shape": ""
          }
         },
         "name": "Uso de lenguaje no inclusivo",
         "offsetgroup": "Uso de lenguaje no inclusivo",
         "orientation": "v",
         "showlegend": true,
         "textposition": "auto",
         "type": "bar",
         "x": [
          "Uso de lenguaje no inclusivo"
         ],
         "xaxis": "x",
         "y": [
          5
         ],
         "yaxis": "y"
        },
        {
         "alignmentgroup": "True",
         "hovertemplate": "Tipo de interacción=%{x}<br>Género=Mujer<br>Cant=%{y}<extra></extra>",
         "legendgroup": "Uso de lenguaje no inclusivo",
         "marker": {
          "color": "rgb(166,216,84)",
          "pattern": {
           "shape": ""
          }
         },
         "name": "Uso de lenguaje no inclusivo",
         "offsetgroup": "Uso de lenguaje no inclusivo",
         "orientation": "v",
         "showlegend": false,
         "textposition": "auto",
         "type": "bar",
         "x": [
          "Uso de lenguaje no inclusivo"
         ],
         "xaxis": "x2",
         "y": [
          9
         ],
         "yaxis": "y2"
        },
        {
         "alignmentgroup": "True",
         "hovertemplate": "Tipo de interacción=%{x}<br>Género=No especificado<br>Cant=%{y}<extra></extra>",
         "legendgroup": "Uso de lenguaje no inclusivo",
         "marker": {
          "color": "rgb(166,216,84)",
          "pattern": {
           "shape": ""
          }
         },
         "name": "Uso de lenguaje no inclusivo",
         "offsetgroup": "Uso de lenguaje no inclusivo",
         "orientation": "v",
         "showlegend": false,
         "textposition": "auto",
         "type": "bar",
         "x": [
          "Uso de lenguaje no inclusivo"
         ],
         "xaxis": "x3",
         "y": [
          0
         ],
         "yaxis": "y3"
        }
       ],
       "layout": {
        "annotations": [
         {
          "font": {},
          "showarrow": false,
          "text": "Hombre",
          "x": 0.15999999999999998,
          "xanchor": "center",
          "xref": "paper",
          "y": -0.15909090909090917,
          "yanchor": "bottom",
          "yref": "paper"
         },
         {
          "font": {},
          "showarrow": false,
          "text": "Mujer",
          "x": 0.49999999999999994,
          "xanchor": "center",
          "xref": "paper",
          "y": -0.14090909090909087,
          "yanchor": "bottom",
          "yref": "paper"
         },
         {
          "font": {},
          "showarrow": false,
          "text": "No especificado",
          "x": 0.8399999999999999,
          "xanchor": "center",
          "xref": "paper",
          "y": -0.14090909090909087,
          "yanchor": "bottom",
          "yref": "paper"
         }
        ],
        "autosize": true,
        "barmode": "relative",
        "legend": {
         "title": {
          "text": "Tipo de interacción"
         },
         "tracegroupgap": 0,
         "x": 0.8865056360708534,
         "y": 1
        },
        "margin": {
         "t": 60
        },
        "template": {
         "data": {
          "bar": [
           {
            "error_x": {
             "color": "#2a3f5f"
            },
            "error_y": {
             "color": "#2a3f5f"
            },
            "marker": {
             "line": {
              "color": "white",
              "width": 0.5
             },
             "pattern": {
              "fillmode": "overlay",
              "size": 10,
              "solidity": 0.2
             }
            },
            "type": "bar"
           }
          ],
          "barpolar": [
           {
            "marker": {
             "line": {
              "color": "white",
              "width": 0.5
             },
             "pattern": {
              "fillmode": "overlay",
              "size": 10,
              "solidity": 0.2
             }
            },
            "type": "barpolar"
           }
          ],
          "carpet": [
           {
            "aaxis": {
             "endlinecolor": "#2a3f5f",
             "gridcolor": "#C8D4E3",
             "linecolor": "#C8D4E3",
             "minorgridcolor": "#C8D4E3",
             "startlinecolor": "#2a3f5f"
            },
            "baxis": {
             "endlinecolor": "#2a3f5f",
             "gridcolor": "#C8D4E3",
             "linecolor": "#C8D4E3",
             "minorgridcolor": "#C8D4E3",
             "startlinecolor": "#2a3f5f"
            },
            "type": "carpet"
           }
          ],
          "choropleth": [
           {
            "colorbar": {
             "outlinewidth": 0,
             "ticks": ""
            },
            "type": "choropleth"
           }
          ],
          "contour": [
           {
            "colorbar": {
             "outlinewidth": 0,
             "ticks": ""
            },
            "colorscale": [
             [
              0,
              "#0d0887"
             ],
             [
              0.1111111111111111,
              "#46039f"
             ],
             [
              0.2222222222222222,
              "#7201a8"
             ],
             [
              0.3333333333333333,
              "#9c179e"
             ],
             [
              0.4444444444444444,
              "#bd3786"
             ],
             [
              0.5555555555555556,
              "#d8576b"
             ],
             [
              0.6666666666666666,
              "#ed7953"
             ],
             [
              0.7777777777777778,
              "#fb9f3a"
             ],
             [
              0.8888888888888888,
              "#fdca26"
             ],
             [
              1,
              "#f0f921"
             ]
            ],
            "type": "contour"
           }
          ],
          "contourcarpet": [
           {
            "colorbar": {
             "outlinewidth": 0,
             "ticks": ""
            },
            "type": "contourcarpet"
           }
          ],
          "heatmap": [
           {
            "colorbar": {
             "outlinewidth": 0,
             "ticks": ""
            },
            "colorscale": [
             [
              0,
              "#0d0887"
             ],
             [
              0.1111111111111111,
              "#46039f"
             ],
             [
              0.2222222222222222,
              "#7201a8"
             ],
             [
              0.3333333333333333,
              "#9c179e"
             ],
             [
              0.4444444444444444,
              "#bd3786"
             ],
             [
              0.5555555555555556,
              "#d8576b"
             ],
             [
              0.6666666666666666,
              "#ed7953"
             ],
             [
              0.7777777777777778,
              "#fb9f3a"
             ],
             [
              0.8888888888888888,
              "#fdca26"
             ],
             [
              1,
              "#f0f921"
             ]
            ],
            "type": "heatmap"
           }
          ],
          "heatmapgl": [
           {
            "colorbar": {
             "outlinewidth": 0,
             "ticks": ""
            },
            "colorscale": [
             [
              0,
              "#0d0887"
             ],
             [
              0.1111111111111111,
              "#46039f"
             ],
             [
              0.2222222222222222,
              "#7201a8"
             ],
             [
              0.3333333333333333,
              "#9c179e"
             ],
             [
              0.4444444444444444,
              "#bd3786"
             ],
             [
              0.5555555555555556,
              "#d8576b"
             ],
             [
              0.6666666666666666,
              "#ed7953"
             ],
             [
              0.7777777777777778,
              "#fb9f3a"
             ],
             [
              0.8888888888888888,
              "#fdca26"
             ],
             [
              1,
              "#f0f921"
             ]
            ],
            "type": "heatmapgl"
           }
          ],
          "histogram": [
           {
            "marker": {
             "pattern": {
              "fillmode": "overlay",
              "size": 10,
              "solidity": 0.2
             }
            },
            "type": "histogram"
           }
          ],
          "histogram2d": [
           {
            "colorbar": {
             "outlinewidth": 0,
             "ticks": ""
            },
            "colorscale": [
             [
              0,
              "#0d0887"
             ],
             [
              0.1111111111111111,
              "#46039f"
             ],
             [
              0.2222222222222222,
              "#7201a8"
             ],
             [
              0.3333333333333333,
              "#9c179e"
             ],
             [
              0.4444444444444444,
              "#bd3786"
             ],
             [
              0.5555555555555556,
              "#d8576b"
             ],
             [
              0.6666666666666666,
              "#ed7953"
             ],
             [
              0.7777777777777778,
              "#fb9f3a"
             ],
             [
              0.8888888888888888,
              "#fdca26"
             ],
             [
              1,
              "#f0f921"
             ]
            ],
            "type": "histogram2d"
           }
          ],
          "histogram2dcontour": [
           {
            "colorbar": {
             "outlinewidth": 0,
             "ticks": ""
            },
            "colorscale": [
             [
              0,
              "#0d0887"
             ],
             [
              0.1111111111111111,
              "#46039f"
             ],
             [
              0.2222222222222222,
              "#7201a8"
             ],
             [
              0.3333333333333333,
              "#9c179e"
             ],
             [
              0.4444444444444444,
              "#bd3786"
             ],
             [
              0.5555555555555556,
              "#d8576b"
             ],
             [
              0.6666666666666666,
              "#ed7953"
             ],
             [
              0.7777777777777778,
              "#fb9f3a"
             ],
             [
              0.8888888888888888,
              "#fdca26"
             ],
             [
              1,
              "#f0f921"
             ]
            ],
            "type": "histogram2dcontour"
           }
          ],
          "mesh3d": [
           {
            "colorbar": {
             "outlinewidth": 0,
             "ticks": ""
            },
            "type": "mesh3d"
           }
          ],
          "parcoords": [
           {
            "line": {
             "colorbar": {
              "outlinewidth": 0,
              "ticks": ""
             }
            },
            "type": "parcoords"
           }
          ],
          "pie": [
           {
            "automargin": true,
            "type": "pie"
           }
          ],
          "scatter": [
           {
            "marker": {
             "colorbar": {
              "outlinewidth": 0,
              "ticks": ""
             }
            },
            "type": "scatter"
           }
          ],
          "scatter3d": [
           {
            "line": {
             "colorbar": {
              "outlinewidth": 0,
              "ticks": ""
             }
            },
            "marker": {
             "colorbar": {
              "outlinewidth": 0,
              "ticks": ""
             }
            },
            "type": "scatter3d"
           }
          ],
          "scattercarpet": [
           {
            "marker": {
             "colorbar": {
              "outlinewidth": 0,
              "ticks": ""
             }
            },
            "type": "scattercarpet"
           }
          ],
          "scattergeo": [
           {
            "marker": {
             "colorbar": {
              "outlinewidth": 0,
              "ticks": ""
             }
            },
            "type": "scattergeo"
           }
          ],
          "scattergl": [
           {
            "marker": {
             "colorbar": {
              "outlinewidth": 0,
              "ticks": ""
             }
            },
            "type": "scattergl"
           }
          ],
          "scattermapbox": [
           {
            "marker": {
             "colorbar": {
              "outlinewidth": 0,
              "ticks": ""
             }
            },
            "type": "scattermapbox"
           }
          ],
          "scatterpolar": [
           {
            "marker": {
             "colorbar": {
              "outlinewidth": 0,
              "ticks": ""
             }
            },
            "type": "scatterpolar"
           }
          ],
          "scatterpolargl": [
           {
            "marker": {
             "colorbar": {
              "outlinewidth": 0,
              "ticks": ""
             }
            },
            "type": "scatterpolargl"
           }
          ],
          "scatterternary": [
           {
            "marker": {
             "colorbar": {
              "outlinewidth": 0,
              "ticks": ""
             }
            },
            "type": "scatterternary"
           }
          ],
          "surface": [
           {
            "colorbar": {
             "outlinewidth": 0,
             "ticks": ""
            },
            "colorscale": [
             [
              0,
              "#0d0887"
             ],
             [
              0.1111111111111111,
              "#46039f"
             ],
             [
              0.2222222222222222,
              "#7201a8"
             ],
             [
              0.3333333333333333,
              "#9c179e"
             ],
             [
              0.4444444444444444,
              "#bd3786"
             ],
             [
              0.5555555555555556,
              "#d8576b"
             ],
             [
              0.6666666666666666,
              "#ed7953"
             ],
             [
              0.7777777777777778,
              "#fb9f3a"
             ],
             [
              0.8888888888888888,
              "#fdca26"
             ],
             [
              1,
              "#f0f921"
             ]
            ],
            "type": "surface"
           }
          ],
          "table": [
           {
            "cells": {
             "fill": {
              "color": "#EBF0F8"
             },
             "line": {
              "color": "white"
             }
            },
            "header": {
             "fill": {
              "color": "#C8D4E3"
             },
             "line": {
              "color": "white"
             }
            },
            "type": "table"
           }
          ]
         },
         "layout": {
          "annotationdefaults": {
           "arrowcolor": "#2a3f5f",
           "arrowhead": 0,
           "arrowwidth": 1
          },
          "autotypenumbers": "strict",
          "coloraxis": {
           "colorbar": {
            "outlinewidth": 0,
            "ticks": ""
           }
          },
          "colorscale": {
           "diverging": [
            [
             0,
             "#8e0152"
            ],
            [
             0.1,
             "#c51b7d"
            ],
            [
             0.2,
             "#de77ae"
            ],
            [
             0.3,
             "#f1b6da"
            ],
            [
             0.4,
             "#fde0ef"
            ],
            [
             0.5,
             "#f7f7f7"
            ],
            [
             0.6,
             "#e6f5d0"
            ],
            [
             0.7,
             "#b8e186"
            ],
            [
             0.8,
             "#7fbc41"
            ],
            [
             0.9,
             "#4d9221"
            ],
            [
             1,
             "#276419"
            ]
           ],
           "sequential": [
            [
             0,
             "#0d0887"
            ],
            [
             0.1111111111111111,
             "#46039f"
            ],
            [
             0.2222222222222222,
             "#7201a8"
            ],
            [
             0.3333333333333333,
             "#9c179e"
            ],
            [
             0.4444444444444444,
             "#bd3786"
            ],
            [
             0.5555555555555556,
             "#d8576b"
            ],
            [
             0.6666666666666666,
             "#ed7953"
            ],
            [
             0.7777777777777778,
             "#fb9f3a"
            ],
            [
             0.8888888888888888,
             "#fdca26"
            ],
            [
             1,
             "#f0f921"
            ]
           ],
           "sequentialminus": [
            [
             0,
             "#0d0887"
            ],
            [
             0.1111111111111111,
             "#46039f"
            ],
            [
             0.2222222222222222,
             "#7201a8"
            ],
            [
             0.3333333333333333,
             "#9c179e"
            ],
            [
             0.4444444444444444,
             "#bd3786"
            ],
            [
             0.5555555555555556,
             "#d8576b"
            ],
            [
             0.6666666666666666,
             "#ed7953"
            ],
            [
             0.7777777777777778,
             "#fb9f3a"
            ],
            [
             0.8888888888888888,
             "#fdca26"
            ],
            [
             1,
             "#f0f921"
            ]
           ]
          },
          "colorway": [
           "#636efa",
           "#EF553B",
           "#00cc96",
           "#ab63fa",
           "#FFA15A",
           "#19d3f3",
           "#FF6692",
           "#B6E880",
           "#FF97FF",
           "#FECB52"
          ],
          "font": {
           "color": "#2a3f5f"
          },
          "geo": {
           "bgcolor": "white",
           "lakecolor": "white",
           "landcolor": "white",
           "showlakes": true,
           "showland": true,
           "subunitcolor": "#C8D4E3"
          },
          "hoverlabel": {
           "align": "left"
          },
          "hovermode": "closest",
          "mapbox": {
           "style": "light"
          },
          "paper_bgcolor": "white",
          "plot_bgcolor": "white",
          "polar": {
           "angularaxis": {
            "gridcolor": "#EBF0F8",
            "linecolor": "#EBF0F8",
            "ticks": ""
           },
           "bgcolor": "white",
           "radialaxis": {
            "gridcolor": "#EBF0F8",
            "linecolor": "#EBF0F8",
            "ticks": ""
           }
          },
          "scene": {
           "xaxis": {
            "backgroundcolor": "white",
            "gridcolor": "#DFE8F3",
            "gridwidth": 2,
            "linecolor": "#EBF0F8",
            "showbackground": true,
            "ticks": "",
            "zerolinecolor": "#EBF0F8"
           },
           "yaxis": {
            "backgroundcolor": "white",
            "gridcolor": "#DFE8F3",
            "gridwidth": 2,
            "linecolor": "#EBF0F8",
            "showbackground": true,
            "ticks": "",
            "zerolinecolor": "#EBF0F8"
           },
           "zaxis": {
            "backgroundcolor": "white",
            "gridcolor": "#DFE8F3",
            "gridwidth": 2,
            "linecolor": "#EBF0F8",
            "showbackground": true,
            "ticks": "",
            "zerolinecolor": "#EBF0F8"
           }
          },
          "shapedefaults": {
           "line": {
            "color": "#2a3f5f"
           }
          },
          "ternary": {
           "aaxis": {
            "gridcolor": "#DFE8F3",
            "linecolor": "#A2B1C6",
            "ticks": ""
           },
           "baxis": {
            "gridcolor": "#DFE8F3",
            "linecolor": "#A2B1C6",
            "ticks": ""
           },
           "bgcolor": "white",
           "caxis": {
            "gridcolor": "#DFE8F3",
            "linecolor": "#A2B1C6",
            "ticks": ""
           }
          },
          "title": {
           "x": 0.05
          },
          "xaxis": {
           "automargin": true,
           "gridcolor": "#EBF0F8",
           "linecolor": "#EBF0F8",
           "ticks": "",
           "title": {
            "standoff": 15
           },
           "zerolinecolor": "#EBF0F8",
           "zerolinewidth": 2
          },
          "yaxis": {
           "automargin": true,
           "gridcolor": "#EBF0F8",
           "linecolor": "#EBF0F8",
           "ticks": "",
           "title": {
            "standoff": 15
           },
           "zerolinecolor": "#EBF0F8",
           "zerolinewidth": 2
          }
         }
        },
        "xaxis": {
         "anchor": "y",
         "autorange": true,
         "categoryarray": [
          "Comentario sexista",
          "En pro de la equidad de Género",
          "Lenguaje Inclusivo",
          "No relevante en perspectiva de género",
          "Uso de lenguaje no inclusivo"
         ],
         "categoryorder": "array",
         "domain": [
          0,
          0.31999999999999995
         ],
         "range": [
          -0.5,
          4.5
         ],
         "showticklabels": false,
         "title": {
          "text": "Tipo de interacción"
         },
         "type": "category",
         "visible": false
        },
        "xaxis2": {
         "anchor": "y2",
         "autorange": true,
         "categoryarray": [
          "Comentario sexista",
          "En pro de la equidad de Género",
          "Lenguaje Inclusivo",
          "No relevante en perspectiva de género",
          "Uso de lenguaje no inclusivo"
         ],
         "categoryorder": "array",
         "domain": [
          0.33999999999999997,
          0.6599999999999999
         ],
         "matches": "x",
         "range": [
          -0.5,
          4.5
         ],
         "showticklabels": false,
         "title": {
          "text": "Tipo de interacción"
         },
         "type": "category",
         "visible": false
        },
        "xaxis3": {
         "anchor": "y3",
         "autorange": true,
         "categoryarray": [
          "Comentario sexista",
          "En pro de la equidad de Género",
          "Lenguaje Inclusivo",
          "No relevante en perspectiva de género",
          "Uso de lenguaje no inclusivo"
         ],
         "categoryorder": "array",
         "domain": [
          0.6799999999999999,
          0.9999999999999999
         ],
         "matches": "x",
         "range": [
          -0.5,
          4.5
         ],
         "showticklabels": false,
         "title": {
          "text": "Tipo de interacción"
         },
         "type": "category",
         "visible": false
        },
        "yaxis": {
         "anchor": "x",
         "autorange": true,
         "domain": [
          0,
          1
         ],
         "range": [
          0,
          66.3157894736842
         ],
         "title": {
          "text": "Cant"
         },
         "type": "linear"
        },
        "yaxis2": {
         "anchor": "x2",
         "autorange": true,
         "domain": [
          0,
          1
         ],
         "matches": "y",
         "range": [
          0,
          66.3157894736842
         ],
         "showticklabels": false,
         "type": "linear"
        },
        "yaxis3": {
         "anchor": "x3",
         "autorange": true,
         "domain": [
          0,
          1
         ],
         "matches": "y",
         "range": [
          0,
          66.3157894736842
         ],
         "showticklabels": false,
         "type": "linear"
        }
       }
      },
      "image/png": "[encoded data removed]",
      "text/html": [
       "<div>                            <div id=\"ef709d40-a398-4bc2-b22b-023711028e30\" class=\"plotly-graph-div\" style=\"height:525px; width:100%;\"></div>            <script type=\"text/javascript\">                require([\"plotly\"], function(Plotly) {                    window.PLOTLYENV=window.PLOTLYENV || {};                                    if (document.getElementById(\"ef709d40-a398-4bc2-b22b-023711028e30\")) {                    Plotly.newPlot(                        \"ef709d40-a398-4bc2-b22b-023711028e30\",                        [{\"alignmentgroup\":\"True\",\"hovertemplate\":\"Tipo de interacci\\u00f3n=%{x}<br>G\\u00e9nero=Hombre<br>Cant=%{y}<extra></extra>\",\"legendgroup\":\"Comentario sexista\",\"marker\":{\"color\":\"rgb(102,194,165)\",\"pattern\":{\"shape\":\"\"}},\"name\":\"Comentario sexista\",\"offsetgroup\":\"Comentario sexista\",\"orientation\":\"v\",\"showlegend\":true,\"textposition\":\"auto\",\"x\":[\"Comentario sexista\"],\"xaxis\":\"x\",\"y\":[0.0],\"yaxis\":\"y\",\"type\":\"bar\"},{\"alignmentgroup\":\"True\",\"hovertemplate\":\"Tipo de interacci\\u00f3n=%{x}<br>G\\u00e9nero=Mujer<br>Cant=%{y}<extra></extra>\",\"legendgroup\":\"Comentario sexista\",\"marker\":{\"color\":\"rgb(102,194,165)\",\"pattern\":{\"shape\":\"\"}},\"name\":\"Comentario sexista\",\"offsetgroup\":\"Comentario sexista\",\"orientation\":\"v\",\"showlegend\":false,\"textposition\":\"auto\",\"x\":[\"Comentario sexista\"],\"xaxis\":\"x2\",\"y\":[0.0],\"yaxis\":\"y2\",\"type\":\"bar\"},{\"alignmentgroup\":\"True\",\"hovertemplate\":\"Tipo de interacci\\u00f3n=%{x}<br>G\\u00e9nero=No especificado<br>Cant=%{y}<extra></extra>\",\"legendgroup\":\"Comentario sexista\",\"marker\":{\"color\":\"rgb(102,194,165)\",\"pattern\":{\"shape\":\"\"}},\"name\":\"Comentario sexista\",\"offsetgroup\":\"Comentario sexista\",\"orientation\":\"v\",\"showlegend\":false,\"textposition\":\"auto\",\"x\":[\"Comentario sexista\"],\"xaxis\":\"x3\",\"y\":[0.0],\"yaxis\":\"y3\",\"type\":\"bar\"},{\"alignmentgroup\":\"True\",\"hovertemplate\":\"Tipo de interacci\\u00f3n=%{x}<br>G\\u00e9nero=Hombre<br>Cant=%{y}<extra></extra>\",\"legendgroup\":\"En pro de la equidad de G\\u00e9nero\",\"marker\":{\"color\":\"rgb(252,141,98)\",\"pattern\":{\"shape\":\"\"}},\"name\":\"En pro de la equidad de G\\u00e9nero\",\"offsetgroup\":\"En pro de la equidad de G\\u00e9nero\",\"orientation\":\"v\",\"showlegend\":true,\"textposition\":\"auto\",\"x\":[\"En pro de la equidad de G\\u00e9nero\"],\"xaxis\":\"x\",\"y\":[0.0],\"yaxis\":\"y\",\"type\":\"bar\"},{\"alignmentgroup\":\"True\",\"hovertemplate\":\"Tipo de interacci\\u00f3n=%{x}<br>G\\u00e9nero=Mujer<br>Cant=%{y}<extra></extra>\",\"legendgroup\":\"En pro de la equidad de G\\u00e9nero\",\"marker\":{\"color\":\"rgb(252,141,98)\",\"pattern\":{\"shape\":\"\"}},\"name\":\"En pro de la equidad de G\\u00e9nero\",\"offsetgroup\":\"En pro de la equidad de G\\u00e9nero\",\"orientation\":\"v\",\"showlegend\":false,\"textposition\":\"auto\",\"x\":[\"En pro de la equidad de G\\u00e9nero\"],\"xaxis\":\"x2\",\"y\":[1.0],\"yaxis\":\"y2\",\"type\":\"bar\"},{\"alignmentgroup\":\"True\",\"hovertemplate\":\"Tipo de interacci\\u00f3n=%{x}<br>G\\u00e9nero=No especificado<br>Cant=%{y}<extra></extra>\",\"legendgroup\":\"En pro de la equidad de G\\u00e9nero\",\"marker\":{\"color\":\"rgb(252,141,98)\",\"pattern\":{\"shape\":\"\"}},\"name\":\"En pro de la equidad de G\\u00e9nero\",\"offsetgroup\":\"En pro de la equidad de G\\u00e9nero\",\"orientation\":\"v\",\"showlegend\":false,\"textposition\":\"auto\",\"x\":[\"En pro de la equidad de G\\u00e9nero\"],\"xaxis\":\"x3\",\"y\":[0.0],\"yaxis\":\"y3\",\"type\":\"bar\"},{\"alignmentgroup\":\"True\",\"hovertemplate\":\"Tipo de interacci\\u00f3n=%{x}<br>G\\u00e9nero=Hombre<br>Cant=%{y}<extra></extra>\",\"legendgroup\":\"Lenguaje Inclusivo\",\"marker\":{\"color\":\"rgb(141,160,203)\",\"pattern\":{\"shape\":\"\"}},\"name\":\"Lenguaje Inclusivo\",\"offsetgroup\":\"Lenguaje Inclusivo\",\"orientation\":\"v\",\"showlegend\":true,\"textposition\":\"auto\",\"x\":[\"Lenguaje Inclusivo\"],\"xaxis\":\"x\",\"y\":[1.0],\"yaxis\":\"y\",\"type\":\"bar\"},{\"alignmentgroup\":\"True\",\"hovertemplate\":\"Tipo de interacci\\u00f3n=%{x}<br>G\\u00e9nero=Mujer<br>Cant=%{y}<extra></extra>\",\"legendgroup\":\"Lenguaje Inclusivo\",\"marker\":{\"color\":\"rgb(141,160,203)\",\"pattern\":{\"shape\":\"\"}},\"name\":\"Lenguaje Inclusivo\",\"offsetgroup\":\"Lenguaje Inclusivo\",\"orientation\":\"v\",\"showlegend\":false,\"textposition\":\"auto\",\"x\":[\"Lenguaje Inclusivo\"],\"xaxis\":\"x2\",\"y\":[3.0],\"yaxis\":\"y2\",\"type\":\"bar\"},{\"alignmentgroup\":\"True\",\"hovertemplate\":\"Tipo de interacci\\u00f3n=%{x}<br>G\\u00e9nero=No especificado<br>Cant=%{y}<extra></extra>\",\"legendgroup\":\"Lenguaje Inclusivo\",\"marker\":{\"color\":\"rgb(141,160,203)\",\"pattern\":{\"shape\":\"\"}},\"name\":\"Lenguaje Inclusivo\",\"offsetgroup\":\"Lenguaje Inclusivo\",\"orientation\":\"v\",\"showlegend\":false,\"textposition\":\"auto\",\"x\":[\"Lenguaje Inclusivo\"],\"xaxis\":\"x3\",\"y\":[0.0],\"yaxis\":\"y3\",\"type\":\"bar\"},{\"alignmentgroup\":\"True\",\"hovertemplate\":\"Tipo de interacci\\u00f3n=%{x}<br>G\\u00e9nero=Hombre<br>Cant=%{y}<extra></extra>\",\"legendgroup\":\"No relevante en perspectiva de g\\u00e9nero\",\"marker\":{\"color\":\"rgb(231,138,195)\",\"pattern\":{\"shape\":\"\"}},\"name\":\"No relevante en perspectiva de g\\u00e9nero\",\"offsetgroup\":\"No relevante en perspectiva de g\\u00e9nero\",\"orientation\":\"v\",\"showlegend\":true,\"textposition\":\"auto\",\"x\":[\"No relevante en perspectiva de g\\u00e9nero\"],\"xaxis\":\"x\",\"y\":[42.0],\"yaxis\":\"y\",\"type\":\"bar\"},{\"alignmentgroup\":\"True\",\"hovertemplate\":\"Tipo de interacci\\u00f3n=%{x}<br>G\\u00e9nero=Mujer<br>Cant=%{y}<extra></extra>\",\"legendgroup\":\"No relevante en perspectiva de g\\u00e9nero\",\"marker\":{\"color\":\"rgb(231,138,195)\",\"pattern\":{\"shape\":\"\"}},\"name\":\"No relevante en perspectiva de g\\u00e9nero\",\"offsetgroup\":\"No relevante en perspectiva de g\\u00e9nero\",\"orientation\":\"v\",\"showlegend\":false,\"textposition\":\"auto\",\"x\":[\"No relevante en perspectiva de g\\u00e9nero\"],\"xaxis\":\"x2\",\"y\":[63.0],\"yaxis\":\"y2\",\"type\":\"bar\"},{\"alignmentgroup\":\"True\",\"hovertemplate\":\"Tipo de interacci\\u00f3n=%{x}<br>G\\u00e9nero=No especificado<br>Cant=%{y}<extra></extra>\",\"legendgroup\":\"No relevante en perspectiva de g\\u00e9nero\",\"marker\":{\"color\":\"rgb(231,138,195)\",\"pattern\":{\"shape\":\"\"}},\"name\":\"No relevante en perspectiva de g\\u00e9nero\",\"offsetgroup\":\"No relevante en perspectiva de g\\u00e9nero\",\"orientation\":\"v\",\"showlegend\":false,\"textposition\":\"auto\",\"x\":[\"No relevante en perspectiva de g\\u00e9nero\"],\"xaxis\":\"x3\",\"y\":[2.0],\"yaxis\":\"y3\",\"type\":\"bar\"},{\"alignmentgroup\":\"True\",\"hovertemplate\":\"Tipo de interacci\\u00f3n=%{x}<br>G\\u00e9nero=Hombre<br>Cant=%{y}<extra></extra>\",\"legendgroup\":\"Uso de lenguaje no inclusivo\",\"marker\":{\"color\":\"rgb(166,216,84)\",\"pattern\":{\"shape\":\"\"}},\"name\":\"Uso de lenguaje no inclusivo\",\"offsetgroup\":\"Uso de lenguaje no inclusivo\",\"orientation\":\"v\",\"showlegend\":true,\"textposition\":\"auto\",\"x\":[\"Uso de lenguaje no inclusivo\"],\"xaxis\":\"x\",\"y\":[5.0],\"yaxis\":\"y\",\"type\":\"bar\"},{\"alignmentgroup\":\"True\",\"hovertemplate\":\"Tipo de interacci\\u00f3n=%{x}<br>G\\u00e9nero=Mujer<br>Cant=%{y}<extra></extra>\",\"legendgroup\":\"Uso de lenguaje no inclusivo\",\"marker\":{\"color\":\"rgb(166,216,84)\",\"pattern\":{\"shape\":\"\"}},\"name\":\"Uso de lenguaje no inclusivo\",\"offsetgroup\":\"Uso de lenguaje no inclusivo\",\"orientation\":\"v\",\"showlegend\":false,\"textposition\":\"auto\",\"x\":[\"Uso de lenguaje no inclusivo\"],\"xaxis\":\"x2\",\"y\":[9.0],\"yaxis\":\"y2\",\"type\":\"bar\"},{\"alignmentgroup\":\"True\",\"hovertemplate\":\"Tipo de interacci\\u00f3n=%{x}<br>G\\u00e9nero=No especificado<br>Cant=%{y}<extra></extra>\",\"legendgroup\":\"Uso de lenguaje no inclusivo\",\"marker\":{\"color\":\"rgb(166,216,84)\",\"pattern\":{\"shape\":\"\"}},\"name\":\"Uso de lenguaje no inclusivo\",\"offsetgroup\":\"Uso de lenguaje no inclusivo\",\"orientation\":\"v\",\"showlegend\":false,\"textposition\":\"auto\",\"x\":[\"Uso de lenguaje no inclusivo\"],\"xaxis\":\"x3\",\"y\":[0.0],\"yaxis\":\"y3\",\"type\":\"bar\"}],                        {\"template\":{\"data\":{\"barpolar\":[{\"marker\":{\"line\":{\"color\":\"white\",\"width\":0.5},\"pattern\":{\"fillmode\":\"overlay\",\"size\":10,\"solidity\":0.2}},\"type\":\"barpolar\"}],\"bar\":[{\"error_x\":{\"color\":\"#2a3f5f\"},\"error_y\":{\"color\":\"#2a3f5f\"},\"marker\":{\"line\":{\"color\":\"white\",\"width\":0.5},\"pattern\":{\"fillmode\":\"overlay\",\"size\":10,\"solidity\":0.2}},\"type\":\"bar\"}],\"carpet\":[{\"aaxis\":{\"endlinecolor\":\"#2a3f5f\",\"gridcolor\":\"#C8D4E3\",\"linecolor\":\"#C8D4E3\",\"minorgridcolor\":\"#C8D4E3\",\"startlinecolor\":\"#2a3f5f\"},\"baxis\":{\"endlinecolor\":\"#2a3f5f\",\"gridcolor\":\"#C8D4E3\",\"linecolor\":\"#C8D4E3\",\"minorgridcolor\":\"#C8D4E3\",\"startlinecolor\":\"#2a3f5f\"},\"type\":\"carpet\"}],\"choropleth\":[{\"colorbar\":{\"outlinewidth\":0,\"ticks\":\"\"},\"type\":\"choropleth\"}],\"contourcarpet\":[{\"colorbar\":{\"outlinewidth\":0,\"ticks\":\"\"},\"type\":\"contourcarpet\"}],\"contour\":[{\"colorbar\":{\"outlinewidth\":0,\"ticks\":\"\"},\"colorscale\":[[0.0,\"#0d0887\"],[0.1111111111111111,\"#46039f\"],[0.2222222222222222,\"#7201a8\"],[0.3333333333333333,\"#9c179e\"],[0.4444444444444444,\"#bd3786\"],[0.5555555555555556,\"#d8576b\"],[0.6666666666666666,\"#ed7953\"],[0.7777777777777778,\"#fb9f3a\"],[0.8888888888888888,\"#fdca26\"],[1.0,\"#f0f921\"]],\"type\":\"contour\"}],\"heatmapgl\":[{\"colorbar\":{\"outlinewidth\":0,\"ticks\":\"\"},\"colorscale\":[[0.0,\"#0d0887\"],[0.1111111111111111,\"#46039f\"],[0.2222222222222222,\"#7201a8\"],[0.3333333333333333,\"#9c179e\"],[0.4444444444444444,\"#bd3786\"],[0.5555555555555556,\"#d8576b\"],[0.6666666666666666,\"#ed7953\"],[0.7777777777777778,\"#fb9f3a\"],[0.8888888888888888,\"#fdca26\"],[1.0,\"#f0f921\"]],\"type\":\"heatmapgl\"}],\"heatmap\":[{\"colorbar\":{\"outlinewidth\":0,\"ticks\":\"\"},\"colorscale\":[[0.0,\"#0d0887\"],[0.1111111111111111,\"#46039f\"],[0.2222222222222222,\"#7201a8\"],[0.3333333333333333,\"#9c179e\"],[0.4444444444444444,\"#bd3786\"],[0.5555555555555556,\"#d8576b\"],[0.6666666666666666,\"#ed7953\"],[0.7777777777777778,\"#fb9f3a\"],[0.8888888888888888,\"#fdca26\"],[1.0,\"#f0f921\"]],\"type\":\"heatmap\"}],\"histogram2dcontour\":[{\"colorbar\":{\"outlinewidth\":0,\"ticks\":\"\"},\"colorscale\":[[0.0,\"#0d0887\"],[0.1111111111111111,\"#46039f\"],[0.2222222222222222,\"#7201a8\"],[0.3333333333333333,\"#9c179e\"],[0.4444444444444444,\"#bd3786\"],[0.5555555555555556,\"#d8576b\"],[0.6666666666666666,\"#ed7953\"],[0.7777777777777778,\"#fb9f3a\"],[0.8888888888888888,\"#fdca26\"],[1.0,\"#f0f921\"]],\"type\":\"histogram2dcontour\"}],\"histogram2d\":[{\"colorbar\":{\"outlinewidth\":0,\"ticks\":\"\"},\"colorscale\":[[0.0,\"#0d0887\"],[0.1111111111111111,\"#46039f\"],[0.2222222222222222,\"#7201a8\"],[0.3333333333333333,\"#9c179e\"],[0.4444444444444444,\"#bd3786\"],[0.5555555555555556,\"#d8576b\"],[0.6666666666666666,\"#ed7953\"],[0.7777777777777778,\"#fb9f3a\"],[0.8888888888888888,\"#fdca26\"],[1.0,\"#f0f921\"]],\"type\":\"histogram2d\"}],\"histogram\":[{\"marker\":{\"pattern\":{\"fillmode\":\"overlay\",\"size\":10,\"solidity\":0.2}},\"type\":\"histogram\"}],\"mesh3d\":[{\"colorbar\":{\"outlinewidth\":0,\"ticks\":\"\"},\"type\":\"mesh3d\"}],\"parcoords\":[{\"line\":{\"colorbar\":{\"outlinewidth\":0,\"ticks\":\"\"}},\"type\":\"parcoords\"}],\"pie\":[{\"automargin\":true,\"type\":\"pie\"}],\"scatter3d\":[{\"line\":{\"colorbar\":{\"outlinewidth\":0,\"ticks\":\"\"}},\"marker\":{\"colorbar\":{\"outlinewidth\":0,\"ticks\":\"\"}},\"type\":\"scatter3d\"}],\"scattercarpet\":[{\"marker\":{\"colorbar\":{\"outlinewidth\":0,\"ticks\":\"\"}},\"type\":\"scattercarpet\"}],\"scattergeo\":[{\"marker\":{\"colorbar\":{\"outlinewidth\":0,\"ticks\":\"\"}},\"type\":\"scattergeo\"}],\"scattergl\":[{\"marker\":{\"colorbar\":{\"outlinewidth\":0,\"ticks\":\"\"}},\"type\":\"scattergl\"}],\"scattermapbox\":[{\"marker\":{\"colorbar\":{\"outlinewidth\":0,\"ticks\":\"\"}},\"type\":\"scattermapbox\"}],\"scatterpolargl\":[{\"marker\":{\"colorbar\":{\"outlinewidth\":0,\"ticks\":\"\"}},\"type\":\"scatterpolargl\"}],\"scatterpolar\":[{\"marker\":{\"colorbar\":{\"outlinewidth\":0,\"ticks\":\"\"}},\"type\":\"scatterpolar\"}],\"scatter\":[{\"marker\":{\"colorbar\":{\"outlinewidth\":0,\"ticks\":\"\"}},\"type\":\"scatter\"}],\"scatterternary\":[{\"marker\":{\"colorbar\":{\"outlinewidth\":0,\"ticks\":\"\"}},\"type\":\"scatterternary\"}],\"surface\":[{\"colorbar\":{\"outlinewidth\":0,\"ticks\":\"\"},\"colorscale\":[[0.0,\"#0d0887\"],[0.1111111111111111,\"#46039f\"],[0.2222222222222222,\"#7201a8\"],[0.3333333333333333,\"#9c179e\"],[0.4444444444444444,\"#bd3786\"],[0.5555555555555556,\"#d8576b\"],[0.6666666666666666,\"#ed7953\"],[0.7777777777777778,\"#fb9f3a\"],[0.8888888888888888,\"#fdca26\"],[1.0,\"#f0f921\"]],\"type\":\"surface\"}],\"table\":[{\"cells\":{\"fill\":{\"color\":\"#EBF0F8\"},\"line\":{\"color\":\"white\"}},\"header\":{\"fill\":{\"color\":\"#C8D4E3\"},\"line\":{\"color\":\"white\"}},\"type\":\"table\"}]},\"layout\":{\"annotationdefaults\":{\"arrowcolor\":\"#2a3f5f\",\"arrowhead\":0,\"arrowwidth\":1},\"autotypenumbers\":\"strict\",\"coloraxis\":{\"colorbar\":{\"outlinewidth\":0,\"ticks\":\"\"}},\"colorscale\":{\"diverging\":[[0,\"#8e0152\"],[0.1,\"#c51b7d\"],[0.2,\"#de77ae\"],[0.3,\"#f1b6da\"],[0.4,\"#fde0ef\"],[0.5,\"#f7f7f7\"],[0.6,\"#e6f5d0\"],[0.7,\"#b8e186\"],[0.8,\"#7fbc41\"],[0.9,\"#4d9221\"],[1,\"#276419\"]],\"sequential\":[[0.0,\"#0d0887\"],[0.1111111111111111,\"#46039f\"],[0.2222222222222222,\"#7201a8\"],[0.3333333333333333,\"#9c179e\"],[0.4444444444444444,\"#bd3786\"],[0.5555555555555556,\"#d8576b\"],[0.6666666666666666,\"#ed7953\"],[0.7777777777777778,\"#fb9f3a\"],[0.8888888888888888,\"#fdca26\"],[1.0,\"#f0f921\"]],\"sequentialminus\":[[0.0,\"#0d0887\"],[0.1111111111111111,\"#46039f\"],[0.2222222222222222,\"#7201a8\"],[0.3333333333333333,\"#9c179e\"],[0.4444444444444444,\"#bd3786\"],[0.5555555555555556,\"#d8576b\"],[0.6666666666666666,\"#ed7953\"],[0.7777777777777778,\"#fb9f3a\"],[0.8888888888888888,\"#fdca26\"],[1.0,\"#f0f921\"]]},\"colorway\":[\"#636efa\",\"#EF553B\",\"#00cc96\",\"#ab63fa\",\"#FFA15A\",\"#19d3f3\",\"#FF6692\",\"#B6E880\",\"#FF97FF\",\"#FECB52\"],\"font\":{\"color\":\"#2a3f5f\"},\"geo\":{\"bgcolor\":\"white\",\"lakecolor\":\"white\",\"landcolor\":\"white\",\"showlakes\":true,\"showland\":true,\"subunitcolor\":\"#C8D4E3\"},\"hoverlabel\":{\"align\":\"left\"},\"hovermode\":\"closest\",\"mapbox\":{\"style\":\"light\"},\"paper_bgcolor\":\"white\",\"plot_bgcolor\":\"white\",\"polar\":{\"angularaxis\":{\"gridcolor\":\"#EBF0F8\",\"linecolor\":\"#EBF0F8\",\"ticks\":\"\"},\"bgcolor\":\"white\",\"radialaxis\":{\"gridcolor\":\"#EBF0F8\",\"linecolor\":\"#EBF0F8\",\"ticks\":\"\"}},\"scene\":{\"xaxis\":{\"backgroundcolor\":\"white\",\"gridcolor\":\"#DFE8F3\",\"gridwidth\":2,\"linecolor\":\"#EBF0F8\",\"showbackground\":true,\"ticks\":\"\",\"zerolinecolor\":\"#EBF0F8\"},\"yaxis\":{\"backgroundcolor\":\"white\",\"gridcolor\":\"#DFE8F3\",\"gridwidth\":2,\"linecolor\":\"#EBF0F8\",\"showbackground\":true,\"ticks\":\"\",\"zerolinecolor\":\"#EBF0F8\"},\"zaxis\":{\"backgroundcolor\":\"white\",\"gridcolor\":\"#DFE8F3\",\"gridwidth\":2,\"linecolor\":\"#EBF0F8\",\"showbackground\":true,\"ticks\":\"\",\"zerolinecolor\":\"#EBF0F8\"}},\"shapedefaults\":{\"line\":{\"color\":\"#2a3f5f\"}},\"ternary\":{\"aaxis\":{\"gridcolor\":\"#DFE8F3\",\"linecolor\":\"#A2B1C6\",\"ticks\":\"\"},\"baxis\":{\"gridcolor\":\"#DFE8F3\",\"linecolor\":\"#A2B1C6\",\"ticks\":\"\"},\"bgcolor\":\"white\",\"caxis\":{\"gridcolor\":\"#DFE8F3\",\"linecolor\":\"#A2B1C6\",\"ticks\":\"\"}},\"title\":{\"x\":0.05},\"xaxis\":{\"automargin\":true,\"gridcolor\":\"#EBF0F8\",\"linecolor\":\"#EBF0F8\",\"ticks\":\"\",\"title\":{\"standoff\":15},\"zerolinecolor\":\"#EBF0F8\",\"zerolinewidth\":2},\"yaxis\":{\"automargin\":true,\"gridcolor\":\"#EBF0F8\",\"linecolor\":\"#EBF0F8\",\"ticks\":\"\",\"title\":{\"standoff\":15},\"zerolinecolor\":\"#EBF0F8\",\"zerolinewidth\":2}}},\"xaxis\":{\"anchor\":\"y\",\"domain\":[0.0,0.31999999999999995],\"title\":{\"text\":\"Tipo de interacci\\u00f3n\"},\"categoryorder\":\"array\",\"categoryarray\":[\"Comentario sexista\",\"En pro de la equidad de G\\u00e9nero\",\"Lenguaje Inclusivo\",\"No relevante en perspectiva de g\\u00e9nero\",\"Uso de lenguaje no inclusivo\"],\"visible\":false,\"showticklabels\":false},\"yaxis\":{\"anchor\":\"x\",\"domain\":[0.0,1.0],\"title\":{\"text\":\"Cant\"}},\"xaxis2\":{\"anchor\":\"y2\",\"domain\":[0.33999999999999997,0.6599999999999999],\"matches\":\"x\",\"title\":{\"text\":\"Tipo de interacci\\u00f3n\"},\"categoryorder\":\"array\",\"categoryarray\":[\"Comentario sexista\",\"En pro de la equidad de G\\u00e9nero\",\"Lenguaje Inclusivo\",\"No relevante en perspectiva de g\\u00e9nero\",\"Uso de lenguaje no inclusivo\"],\"visible\":false,\"showticklabels\":false},\"yaxis2\":{\"anchor\":\"x2\",\"domain\":[0.0,1.0],\"matches\":\"y\",\"showticklabels\":false},\"xaxis3\":{\"anchor\":\"y3\",\"domain\":[0.6799999999999999,0.9999999999999999],\"matches\":\"x\",\"title\":{\"text\":\"Tipo de interacci\\u00f3n\"},\"categoryorder\":\"array\",\"categoryarray\":[\"Comentario sexista\",\"En pro de la equidad de G\\u00e9nero\",\"Lenguaje Inclusivo\",\"No relevante en perspectiva de g\\u00e9nero\",\"Uso de lenguaje no inclusivo\"],\"visible\":false,\"showticklabels\":false},\"yaxis3\":{\"anchor\":\"x3\",\"domain\":[0.0,1.0],\"matches\":\"y\",\"showticklabels\":false},\"annotations\":[{\"font\":{},\"showarrow\":false,\"text\":\"Hombre\",\"x\":0.15999999999999998,\"xanchor\":\"center\",\"xref\":\"paper\",\"y\":1.0,\"yanchor\":\"bottom\",\"yref\":\"paper\"},{\"font\":{},\"showarrow\":false,\"text\":\"Mujer\",\"x\":0.49999999999999994,\"xanchor\":\"center\",\"xref\":\"paper\",\"y\":1.0,\"yanchor\":\"bottom\",\"yref\":\"paper\"},{\"font\":{},\"showarrow\":false,\"text\":\"No especificado\",\"x\":0.8399999999999999,\"xanchor\":\"center\",\"xref\":\"paper\",\"y\":1.0,\"yanchor\":\"bottom\",\"yref\":\"paper\"}],\"legend\":{\"title\":{\"text\":\"Tipo de interacci\\u00f3n\"},\"tracegroupgap\":0},\"margin\":{\"t\":60},\"barmode\":\"relative\"},                        {\"scrollZoom\": true, \"displaylogo\": true, \"responsive\": true, \"editable\": true, \"toImageButtonOptions\": {\"format\": \"png\", \"filename\": \"grafica_CAP\", \"height\": null, \"width\": null, \"scale\": true}}                    ).then(function(){\n",
       "                            \n",
       "var gd = document.getElementById('ef709d40-a398-4bc2-b22b-023711028e30');\n",
       "var x = new MutationObserver(function (mutations, observer) {{\n",
       "        var display = window.getComputedStyle(gd).display;\n",
       "        if (!display || display === 'none') {{\n",
       "            console.log([gd, 'removed!']);\n",
       "            Plotly.purge(gd);\n",
       "            observer.disconnect();\n",
       "        }}\n",
       "}});\n",
       "\n",
       "// Listen for the removal of the full notebook cells\n",
       "var notebookContainer = gd.closest('#notebook-container');\n",
       "if (notebookContainer) {{\n",
       "    x.observe(notebookContainer, {childList: true});\n",
       "}}\n",
       "\n",
       "// Listen for the clearing of the current output cell\n",
       "var outputEl = gd.closest('.output');\n",
       "if (outputEl) {{\n",
       "    x.observe(outputEl, {childList: true});\n",
       "}}\n",
       "\n",
       "                        })                };                });            </script>        </div>"
      ]
     },
     "metadata": {},
     "output_type": "display_data"
    }
   ],
   "source": [
    "figcg=px.bar(pivotgen,x='Tipo de interacción', y='Cant', color='Tipo de interacción', facet_col='Género', template=\"plotly_white\",color_discrete_sequence=px.colors.qualitative.Set2)\n",
    "figcg.update_xaxes(visible=False, showticklabels=False)\n",
    "figcg.for_each_annotation(lambda a: a.update(text=a.text.split(\"=\")[-1]))\n",
    "figcg.show(config=config_chart)"
   ]
  },
  {
   "cell_type": "markdown",
   "id": "cb673360-e65e-4ca3-8e0d-587611131696",
   "metadata": {
    "jp-MarkdownHeadingCollapsed": true,
    "tags": []
   },
   "source": [
    "## Fanpage Comentarios = Publicaciones x CAP"
   ]
  },
  {
   "cell_type": "code",
   "execution_count": 16,
   "id": "cf37e988-fbf9-4e2e-9be1-cfbc83cdf30c",
   "metadata": {},
   "outputs": [
    {
     "data": {
      "text/html": [
       "<div>\n",
       "<style scoped>\n",
       "    .dataframe tbody tr th:only-of-type {\n",
       "        vertical-align: middle;\n",
       "    }\n",
       "\n",
       "    .dataframe tbody tr th {\n",
       "        vertical-align: top;\n",
       "    }\n",
       "\n",
       "    .dataframe thead th {\n",
       "        text-align: right;\n",
       "    }\n",
       "</style>\n",
       "<table border=\"1\" class=\"dataframe\">\n",
       "  <thead>\n",
       "    <tr style=\"text-align: right;\">\n",
       "      <th></th>\n",
       "      <th>Tipo_post</th>\n",
       "      <th>Positivo para comunidad de práctica</th>\n",
       "      <th>Participa en una discusión grupal</th>\n",
       "      <th>Comparte su experiencia frente a la actividad</th>\n",
       "      <th>Ayuda a resolver dudas y realiza sugerencias</th>\n",
       "      <th>Solicita apoyo para resolver sus dudas</th>\n",
       "      <th>Tendencia a trabajo individual</th>\n",
       "      <th>No indica consolidación de CAP</th>\n",
       "    </tr>\n",
       "  </thead>\n",
       "  <tbody>\n",
       "    <tr>\n",
       "      <th>0</th>\n",
       "      <td>Recursos</td>\n",
       "      <td>NaN</td>\n",
       "      <td>NaN</td>\n",
       "      <td>NaN</td>\n",
       "      <td>NaN</td>\n",
       "      <td>NaN</td>\n",
       "      <td>NaN</td>\n",
       "      <td>1.0</td>\n",
       "    </tr>\n",
       "    <tr>\n",
       "      <th>1</th>\n",
       "      <td>Recursos</td>\n",
       "      <td>NaN</td>\n",
       "      <td>NaN</td>\n",
       "      <td>NaN</td>\n",
       "      <td>NaN</td>\n",
       "      <td>NaN</td>\n",
       "      <td>NaN</td>\n",
       "      <td>NaN</td>\n",
       "    </tr>\n",
       "    <tr>\n",
       "      <th>2</th>\n",
       "      <td>Recursos</td>\n",
       "      <td>NaN</td>\n",
       "      <td>NaN</td>\n",
       "      <td>NaN</td>\n",
       "      <td>NaN</td>\n",
       "      <td>NaN</td>\n",
       "      <td>NaN</td>\n",
       "      <td>1.0</td>\n",
       "    </tr>\n",
       "    <tr>\n",
       "      <th>3</th>\n",
       "      <td>Recursos</td>\n",
       "      <td>NaN</td>\n",
       "      <td>NaN</td>\n",
       "      <td>NaN</td>\n",
       "      <td>NaN</td>\n",
       "      <td>NaN</td>\n",
       "      <td>NaN</td>\n",
       "      <td>1.0</td>\n",
       "    </tr>\n",
       "    <tr>\n",
       "      <th>4</th>\n",
       "      <td>Recursos</td>\n",
       "      <td>NaN</td>\n",
       "      <td>NaN</td>\n",
       "      <td>NaN</td>\n",
       "      <td>NaN</td>\n",
       "      <td>NaN</td>\n",
       "      <td>NaN</td>\n",
       "      <td>1.0</td>\n",
       "    </tr>\n",
       "    <tr>\n",
       "      <th>...</th>\n",
       "      <td>...</td>\n",
       "      <td>...</td>\n",
       "      <td>...</td>\n",
       "      <td>...</td>\n",
       "      <td>...</td>\n",
       "      <td>...</td>\n",
       "      <td>...</td>\n",
       "      <td>...</td>\n",
       "    </tr>\n",
       "    <tr>\n",
       "      <th>280</th>\n",
       "      <td>Personas Inspiradoras</td>\n",
       "      <td>NaN</td>\n",
       "      <td>NaN</td>\n",
       "      <td>NaN</td>\n",
       "      <td>NaN</td>\n",
       "      <td>NaN</td>\n",
       "      <td>NaN</td>\n",
       "      <td>1.0</td>\n",
       "    </tr>\n",
       "    <tr>\n",
       "      <th>281</th>\n",
       "      <td>Personas Inspiradoras</td>\n",
       "      <td>NaN</td>\n",
       "      <td>NaN</td>\n",
       "      <td>NaN</td>\n",
       "      <td>NaN</td>\n",
       "      <td>NaN</td>\n",
       "      <td>NaN</td>\n",
       "      <td>NaN</td>\n",
       "    </tr>\n",
       "    <tr>\n",
       "      <th>282</th>\n",
       "      <td>Personas Inspiradoras</td>\n",
       "      <td>NaN</td>\n",
       "      <td>NaN</td>\n",
       "      <td>NaN</td>\n",
       "      <td>NaN</td>\n",
       "      <td>NaN</td>\n",
       "      <td>NaN</td>\n",
       "      <td>1.0</td>\n",
       "    </tr>\n",
       "    <tr>\n",
       "      <th>283</th>\n",
       "      <td>Personas Inspiradoras</td>\n",
       "      <td>NaN</td>\n",
       "      <td>NaN</td>\n",
       "      <td>NaN</td>\n",
       "      <td>NaN</td>\n",
       "      <td>NaN</td>\n",
       "      <td>NaN</td>\n",
       "      <td>1.0</td>\n",
       "    </tr>\n",
       "    <tr>\n",
       "      <th>284</th>\n",
       "      <td>Personas Inspiradoras</td>\n",
       "      <td>NaN</td>\n",
       "      <td>NaN</td>\n",
       "      <td>NaN</td>\n",
       "      <td>NaN</td>\n",
       "      <td>NaN</td>\n",
       "      <td>NaN</td>\n",
       "      <td>1.0</td>\n",
       "    </tr>\n",
       "  </tbody>\n",
       "</table>\n",
       "<p>285 rows × 8 columns</p>\n",
       "</div>"
      ],
      "text/plain": [
       "                 Tipo_post  Positivo para comunidad de práctica  \\\n",
       "0                 Recursos                                  NaN   \n",
       "1                 Recursos                                  NaN   \n",
       "2                 Recursos                                  NaN   \n",
       "3                 Recursos                                  NaN   \n",
       "4                 Recursos                                  NaN   \n",
       "..                     ...                                  ...   \n",
       "280  Personas Inspiradoras                                  NaN   \n",
       "281  Personas Inspiradoras                                  NaN   \n",
       "282  Personas Inspiradoras                                  NaN   \n",
       "283  Personas Inspiradoras                                  NaN   \n",
       "284  Personas Inspiradoras                                  NaN   \n",
       "\n",
       "     Participa en una discusión grupal  \\\n",
       "0                                  NaN   \n",
       "1                                  NaN   \n",
       "2                                  NaN   \n",
       "3                                  NaN   \n",
       "4                                  NaN   \n",
       "..                                 ...   \n",
       "280                                NaN   \n",
       "281                                NaN   \n",
       "282                                NaN   \n",
       "283                                NaN   \n",
       "284                                NaN   \n",
       "\n",
       "     Comparte su experiencia frente a la actividad  \\\n",
       "0                                              NaN   \n",
       "1                                              NaN   \n",
       "2                                              NaN   \n",
       "3                                              NaN   \n",
       "4                                              NaN   \n",
       "..                                             ...   \n",
       "280                                            NaN   \n",
       "281                                            NaN   \n",
       "282                                            NaN   \n",
       "283                                            NaN   \n",
       "284                                            NaN   \n",
       "\n",
       "     Ayuda a resolver dudas y realiza sugerencias  \\\n",
       "0                                             NaN   \n",
       "1                                             NaN   \n",
       "2                                             NaN   \n",
       "3                                             NaN   \n",
       "4                                             NaN   \n",
       "..                                            ...   \n",
       "280                                           NaN   \n",
       "281                                           NaN   \n",
       "282                                           NaN   \n",
       "283                                           NaN   \n",
       "284                                           NaN   \n",
       "\n",
       "     Solicita apoyo para resolver sus dudas  Tendencia a trabajo individual  \\\n",
       "0                                       NaN                             NaN   \n",
       "1                                       NaN                             NaN   \n",
       "2                                       NaN                             NaN   \n",
       "3                                       NaN                             NaN   \n",
       "4                                       NaN                             NaN   \n",
       "..                                      ...                             ...   \n",
       "280                                     NaN                             NaN   \n",
       "281                                     NaN                             NaN   \n",
       "282                                     NaN                             NaN   \n",
       "283                                     NaN                             NaN   \n",
       "284                                     NaN                             NaN   \n",
       "\n",
       "     No indica consolidación de CAP  \n",
       "0                               1.0  \n",
       "1                               NaN  \n",
       "2                               1.0  \n",
       "3                               1.0  \n",
       "4                               1.0  \n",
       "..                              ...  \n",
       "280                             1.0  \n",
       "281                             NaN  \n",
       "282                             1.0  \n",
       "283                             1.0  \n",
       "284                             1.0  \n",
       "\n",
       "[285 rows x 8 columns]"
      ]
     },
     "execution_count": 16,
     "metadata": {},
     "output_type": "execute_result"
    }
   ],
   "source": [
    "public_tipos=comentariosfp.loc[:,['Tipo_post']+tipos]\n",
    "public_tipos = public_tipos.rename(columns=etiquetas)\n",
    "public_tipos"
   ]
  },
  {
   "cell_type": "code",
   "execution_count": 17,
   "id": "e4e5ae45-fb7b-452a-b822-fe507cb10914",
   "metadata": {},
   "outputs": [
    {
     "data": {
      "text/html": [
       "<div>\n",
       "<style scoped>\n",
       "    .dataframe tbody tr th:only-of-type {\n",
       "        vertical-align: middle;\n",
       "    }\n",
       "\n",
       "    .dataframe tbody tr th {\n",
       "        vertical-align: top;\n",
       "    }\n",
       "\n",
       "    .dataframe thead th {\n",
       "        text-align: right;\n",
       "    }\n",
       "</style>\n",
       "<table border=\"1\" class=\"dataframe\">\n",
       "  <thead>\n",
       "    <tr style=\"text-align: right;\">\n",
       "      <th></th>\n",
       "      <th>Tipo_post</th>\n",
       "      <th>variable</th>\n",
       "      <th>value</th>\n",
       "    </tr>\n",
       "  </thead>\n",
       "  <tbody>\n",
       "    <tr>\n",
       "      <th>0</th>\n",
       "      <td>Recursos</td>\n",
       "      <td>Positivo para comunidad de práctica</td>\n",
       "      <td>NaN</td>\n",
       "    </tr>\n",
       "    <tr>\n",
       "      <th>1</th>\n",
       "      <td>Recursos</td>\n",
       "      <td>Positivo para comunidad de práctica</td>\n",
       "      <td>NaN</td>\n",
       "    </tr>\n",
       "    <tr>\n",
       "      <th>2</th>\n",
       "      <td>Recursos</td>\n",
       "      <td>Positivo para comunidad de práctica</td>\n",
       "      <td>NaN</td>\n",
       "    </tr>\n",
       "    <tr>\n",
       "      <th>3</th>\n",
       "      <td>Recursos</td>\n",
       "      <td>Positivo para comunidad de práctica</td>\n",
       "      <td>NaN</td>\n",
       "    </tr>\n",
       "    <tr>\n",
       "      <th>4</th>\n",
       "      <td>Recursos</td>\n",
       "      <td>Positivo para comunidad de práctica</td>\n",
       "      <td>NaN</td>\n",
       "    </tr>\n",
       "    <tr>\n",
       "      <th>...</th>\n",
       "      <td>...</td>\n",
       "      <td>...</td>\n",
       "      <td>...</td>\n",
       "    </tr>\n",
       "    <tr>\n",
       "      <th>1990</th>\n",
       "      <td>Personas Inspiradoras</td>\n",
       "      <td>No indica consolidación de CAP</td>\n",
       "      <td>1.0</td>\n",
       "    </tr>\n",
       "    <tr>\n",
       "      <th>1991</th>\n",
       "      <td>Personas Inspiradoras</td>\n",
       "      <td>No indica consolidación de CAP</td>\n",
       "      <td>NaN</td>\n",
       "    </tr>\n",
       "    <tr>\n",
       "      <th>1992</th>\n",
       "      <td>Personas Inspiradoras</td>\n",
       "      <td>No indica consolidación de CAP</td>\n",
       "      <td>1.0</td>\n",
       "    </tr>\n",
       "    <tr>\n",
       "      <th>1993</th>\n",
       "      <td>Personas Inspiradoras</td>\n",
       "      <td>No indica consolidación de CAP</td>\n",
       "      <td>1.0</td>\n",
       "    </tr>\n",
       "    <tr>\n",
       "      <th>1994</th>\n",
       "      <td>Personas Inspiradoras</td>\n",
       "      <td>No indica consolidación de CAP</td>\n",
       "      <td>1.0</td>\n",
       "    </tr>\n",
       "  </tbody>\n",
       "</table>\n",
       "<p>1995 rows × 3 columns</p>\n",
       "</div>"
      ],
      "text/plain": [
       "                  Tipo_post                             variable  value\n",
       "0                  Recursos  Positivo para comunidad de práctica    NaN\n",
       "1                  Recursos  Positivo para comunidad de práctica    NaN\n",
       "2                  Recursos  Positivo para comunidad de práctica    NaN\n",
       "3                  Recursos  Positivo para comunidad de práctica    NaN\n",
       "4                  Recursos  Positivo para comunidad de práctica    NaN\n",
       "...                     ...                                  ...    ...\n",
       "1990  Personas Inspiradoras       No indica consolidación de CAP    1.0\n",
       "1991  Personas Inspiradoras       No indica consolidación de CAP    NaN\n",
       "1992  Personas Inspiradoras       No indica consolidación de CAP    1.0\n",
       "1993  Personas Inspiradoras       No indica consolidación de CAP    1.0\n",
       "1994  Personas Inspiradoras       No indica consolidación de CAP    1.0\n",
       "\n",
       "[1995 rows x 3 columns]"
      ]
     },
     "execution_count": 17,
     "metadata": {},
     "output_type": "execute_result"
    }
   ],
   "source": [
    "public_tipos=public_tipos.melt(id_vars='Tipo_post')\n",
    "public_tipos"
   ]
  },
  {
   "cell_type": "code",
   "execution_count": 18,
   "id": "a5b7cbd4-deb9-4ead-9b8f-a46347b86c12",
   "metadata": {},
   "outputs": [
    {
     "data": {
      "text/html": [
       "<div>\n",
       "<style scoped>\n",
       "    .dataframe tbody tr th:only-of-type {\n",
       "        vertical-align: middle;\n",
       "    }\n",
       "\n",
       "    .dataframe tbody tr th {\n",
       "        vertical-align: top;\n",
       "    }\n",
       "\n",
       "    .dataframe thead th {\n",
       "        text-align: right;\n",
       "    }\n",
       "</style>\n",
       "<table border=\"1\" class=\"dataframe\">\n",
       "  <thead>\n",
       "    <tr style=\"text-align: right;\">\n",
       "      <th></th>\n",
       "      <th>Tipo_post</th>\n",
       "      <th>Tipo de interacción</th>\n",
       "      <th>Cant</th>\n",
       "    </tr>\n",
       "  </thead>\n",
       "  <tbody>\n",
       "    <tr>\n",
       "      <th>0</th>\n",
       "      <td>Cápsula</td>\n",
       "      <td>Ayuda a resolver dudas y realiza sugerencias</td>\n",
       "      <td>0.0</td>\n",
       "    </tr>\n",
       "    <tr>\n",
       "      <th>1</th>\n",
       "      <td>Cápsula</td>\n",
       "      <td>Comparte su experiencia frente a la actividad</td>\n",
       "      <td>0.0</td>\n",
       "    </tr>\n",
       "    <tr>\n",
       "      <th>2</th>\n",
       "      <td>Cápsula</td>\n",
       "      <td>No indica consolidación de CAP</td>\n",
       "      <td>2.0</td>\n",
       "    </tr>\n",
       "    <tr>\n",
       "      <th>3</th>\n",
       "      <td>Cápsula</td>\n",
       "      <td>Participa en una discusión grupal</td>\n",
       "      <td>0.0</td>\n",
       "    </tr>\n",
       "    <tr>\n",
       "      <th>4</th>\n",
       "      <td>Cápsula</td>\n",
       "      <td>Positivo para comunidad de práctica</td>\n",
       "      <td>2.0</td>\n",
       "    </tr>\n",
       "    <tr>\n",
       "      <th>...</th>\n",
       "      <td>...</td>\n",
       "      <td>...</td>\n",
       "      <td>...</td>\n",
       "    </tr>\n",
       "    <tr>\n",
       "      <th>58</th>\n",
       "      <td>Temas transversales</td>\n",
       "      <td>No indica consolidación de CAP</td>\n",
       "      <td>3.0</td>\n",
       "    </tr>\n",
       "    <tr>\n",
       "      <th>59</th>\n",
       "      <td>Temas transversales</td>\n",
       "      <td>Participa en una discusión grupal</td>\n",
       "      <td>0.0</td>\n",
       "    </tr>\n",
       "    <tr>\n",
       "      <th>60</th>\n",
       "      <td>Temas transversales</td>\n",
       "      <td>Positivo para comunidad de práctica</td>\n",
       "      <td>2.0</td>\n",
       "    </tr>\n",
       "    <tr>\n",
       "      <th>61</th>\n",
       "      <td>Temas transversales</td>\n",
       "      <td>Solicita apoyo para resolver sus dudas</td>\n",
       "      <td>0.0</td>\n",
       "    </tr>\n",
       "    <tr>\n",
       "      <th>62</th>\n",
       "      <td>Temas transversales</td>\n",
       "      <td>Tendencia a trabajo individual</td>\n",
       "      <td>0.0</td>\n",
       "    </tr>\n",
       "  </tbody>\n",
       "</table>\n",
       "<p>63 rows × 3 columns</p>\n",
       "</div>"
      ],
      "text/plain": [
       "              Tipo_post                            Tipo de interacción  Cant\n",
       "0               Cápsula   Ayuda a resolver dudas y realiza sugerencias   0.0\n",
       "1               Cápsula  Comparte su experiencia frente a la actividad   0.0\n",
       "2               Cápsula                 No indica consolidación de CAP   2.0\n",
       "3               Cápsula              Participa en una discusión grupal   0.0\n",
       "4               Cápsula            Positivo para comunidad de práctica   2.0\n",
       "..                  ...                                            ...   ...\n",
       "58  Temas transversales                 No indica consolidación de CAP   3.0\n",
       "59  Temas transversales              Participa en una discusión grupal   0.0\n",
       "60  Temas transversales            Positivo para comunidad de práctica   2.0\n",
       "61  Temas transversales         Solicita apoyo para resolver sus dudas   0.0\n",
       "62  Temas transversales                 Tendencia a trabajo individual   0.0\n",
       "\n",
       "[63 rows x 3 columns]"
      ]
     },
     "execution_count": 18,
     "metadata": {},
     "output_type": "execute_result"
    }
   ],
   "source": [
    "pivotpub=public_tipos.pivot_table(index=['Tipo_post', 'variable'],values='value', aggfunc='sum').reset_index()\n",
    "pivotpub=pivotpub.rename(columns={'value':'Cant', 'variable':'Tipo de interacción'})\n",
    "pivotpub"
   ]
  },
  {
   "cell_type": "code",
   "execution_count": 44,
   "id": "c6ac6400-a98a-41e0-a6c3-e7f3d79df9dc",
   "metadata": {},
   "outputs": [
    {
     "data": {
      "application/vnd.plotly.v1+json": {
       "config": {
        "displaylogo": true,
        "editable": true,
        "plotlyServerURL": "https://plot.ly",
        "responsive": true,
        "scrollZoom": true,
        "toImageButtonOptions": {
         "filename": "grafica_CAP",
         "format": "png",
         "height": null,
         "scale": true,
         "width": null
        }
       },
       "data": [
        {
         "alignmentgroup": "True",
         "hovertemplate": "Tipo de interacción=%{x}<br>Tipo_post=Cápsula<br>Cant=%{y}<extra></extra>",
         "legendgroup": "Ayuda a resolver dudas y realiza sugerencias",
         "marker": {
          "color": "rgb(102,194,165)",
          "pattern": {
           "shape": ""
          }
         },
         "name": "Ayuda a resolver dudas y realiza sugerencias",
         "offsetgroup": "Ayuda a resolver dudas y realiza sugerencias",
         "orientation": "v",
         "showlegend": true,
         "textposition": "auto",
         "type": "bar",
         "x": [
          "Ayuda a resolver dudas y realiza sugerencias"
         ],
         "xaxis": "x6",
         "y": [
          0
         ],
         "yaxis": "y6"
        },
        {
         "alignmentgroup": "True",
         "hovertemplate": "Tipo de interacción=%{x}<br>Tipo_post=Encuentros educativos<br>Cant=%{y}<extra></extra>",
         "legendgroup": "Ayuda a resolver dudas y realiza sugerencias",
         "marker": {
          "color": "rgb(102,194,165)",
          "pattern": {
           "shape": ""
          }
         },
         "name": "Ayuda a resolver dudas y realiza sugerencias",
         "offsetgroup": "Ayuda a resolver dudas y realiza sugerencias",
         "orientation": "v",
         "showlegend": false,
         "textposition": "auto",
         "type": "bar",
         "x": [
          "Ayuda a resolver dudas y realiza sugerencias"
         ],
         "xaxis": "x7",
         "y": [
          0
         ],
         "yaxis": "y7"
        },
        {
         "alignmentgroup": "True",
         "hovertemplate": "Tipo de interacción=%{x}<br>Tipo_post=Experiencia<br>Cant=%{y}<extra></extra>",
         "legendgroup": "Ayuda a resolver dudas y realiza sugerencias",
         "marker": {
          "color": "rgb(102,194,165)",
          "pattern": {
           "shape": ""
          }
         },
         "name": "Ayuda a resolver dudas y realiza sugerencias",
         "offsetgroup": "Ayuda a resolver dudas y realiza sugerencias",
         "orientation": "v",
         "showlegend": false,
         "textposition": "auto",
         "type": "bar",
         "x": [
          "Ayuda a resolver dudas y realiza sugerencias"
         ],
         "xaxis": "x8",
         "y": [
          0
         ],
         "yaxis": "y8"
        },
        {
         "alignmentgroup": "True",
         "hovertemplate": "Tipo de interacción=%{x}<br>Tipo_post=Invitación<br>Cant=%{y}<extra></extra>",
         "legendgroup": "Ayuda a resolver dudas y realiza sugerencias",
         "marker": {
          "color": "rgb(102,194,165)",
          "pattern": {
           "shape": ""
          }
         },
         "name": "Ayuda a resolver dudas y realiza sugerencias",
         "offsetgroup": "Ayuda a resolver dudas y realiza sugerencias",
         "orientation": "v",
         "showlegend": false,
         "textposition": "auto",
         "type": "bar",
         "x": [
          "Ayuda a resolver dudas y realiza sugerencias"
         ],
         "xaxis": "x9",
         "y": [
          0
         ],
         "yaxis": "y9"
        },
        {
         "alignmentgroup": "True",
         "hovertemplate": "Tipo de interacción=%{x}<br>Tipo_post=Personas Inspiradoras<br>Cant=%{y}<extra></extra>",
         "legendgroup": "Ayuda a resolver dudas y realiza sugerencias",
         "marker": {
          "color": "rgb(102,194,165)",
          "pattern": {
           "shape": ""
          }
         },
         "name": "Ayuda a resolver dudas y realiza sugerencias",
         "offsetgroup": "Ayuda a resolver dudas y realiza sugerencias",
         "orientation": "v",
         "showlegend": false,
         "textposition": "auto",
         "type": "bar",
         "x": [
          "Ayuda a resolver dudas y realiza sugerencias"
         ],
         "xaxis": "x10",
         "y": [
          0
         ],
         "yaxis": "y10"
        },
        {
         "alignmentgroup": "True",
         "hovertemplate": "Tipo de interacción=%{x}<br>Tipo_post=Recursos<br>Cant=%{y}<extra></extra>",
         "legendgroup": "Ayuda a resolver dudas y realiza sugerencias",
         "marker": {
          "color": "rgb(102,194,165)",
          "pattern": {
           "shape": ""
          }
         },
         "name": "Ayuda a resolver dudas y realiza sugerencias",
         "offsetgroup": "Ayuda a resolver dudas y realiza sugerencias",
         "orientation": "v",
         "showlegend": false,
         "textposition": "auto",
         "type": "bar",
         "x": [
          "Ayuda a resolver dudas y realiza sugerencias"
         ],
         "xaxis": "x",
         "y": [
          0
         ],
         "yaxis": "y"
        },
        {
         "alignmentgroup": "True",
         "hovertemplate": "Tipo de interacción=%{x}<br>Tipo_post=TBT<br>Cant=%{y}<extra></extra>",
         "legendgroup": "Ayuda a resolver dudas y realiza sugerencias",
         "marker": {
          "color": "rgb(102,194,165)",
          "pattern": {
           "shape": ""
          }
         },
         "name": "Ayuda a resolver dudas y realiza sugerencias",
         "offsetgroup": "Ayuda a resolver dudas y realiza sugerencias",
         "orientation": "v",
         "showlegend": false,
         "textposition": "auto",
         "type": "bar",
         "x": [
          "Ayuda a resolver dudas y realiza sugerencias"
         ],
         "xaxis": "x2",
         "y": [
          0
         ],
         "yaxis": "y2"
        },
        {
         "alignmentgroup": "True",
         "hovertemplate": "Tipo de interacción=%{x}<br>Tipo_post=Temas Transversales<br>Cant=%{y}<extra></extra>",
         "legendgroup": "Ayuda a resolver dudas y realiza sugerencias",
         "marker": {
          "color": "rgb(102,194,165)",
          "pattern": {
           "shape": ""
          }
         },
         "name": "Ayuda a resolver dudas y realiza sugerencias",
         "offsetgroup": "Ayuda a resolver dudas y realiza sugerencias",
         "orientation": "v",
         "showlegend": false,
         "textposition": "auto",
         "type": "bar",
         "x": [
          "Ayuda a resolver dudas y realiza sugerencias"
         ],
         "xaxis": "x3",
         "y": [
          0
         ],
         "yaxis": "y3"
        },
        {
         "alignmentgroup": "True",
         "hovertemplate": "Tipo de interacción=%{x}<br>Tipo_post=Temas transversales<br>Cant=%{y}<extra></extra>",
         "legendgroup": "Ayuda a resolver dudas y realiza sugerencias",
         "marker": {
          "color": "rgb(102,194,165)",
          "pattern": {
           "shape": ""
          }
         },
         "name": "Ayuda a resolver dudas y realiza sugerencias",
         "offsetgroup": "Ayuda a resolver dudas y realiza sugerencias",
         "orientation": "v",
         "showlegend": false,
         "textposition": "auto",
         "type": "bar",
         "x": [
          "Ayuda a resolver dudas y realiza sugerencias"
         ],
         "xaxis": "x4",
         "y": [
          0
         ],
         "yaxis": "y4"
        },
        {
         "alignmentgroup": "True",
         "hovertemplate": "Tipo de interacción=%{x}<br>Tipo_post=Cápsula<br>Cant=%{y}<extra></extra>",
         "legendgroup": "Comparte su experiencia frente a la actividad",
         "marker": {
          "color": "rgb(252,141,98)",
          "pattern": {
           "shape": ""
          }
         },
         "name": "Comparte su experiencia frente a la actividad",
         "offsetgroup": "Comparte su experiencia frente a la actividad",
         "orientation": "v",
         "showlegend": true,
         "textposition": "auto",
         "type": "bar",
         "x": [
          "Comparte su experiencia frente a la actividad"
         ],
         "xaxis": "x6",
         "y": [
          0
         ],
         "yaxis": "y6"
        },
        {
         "alignmentgroup": "True",
         "hovertemplate": "Tipo de interacción=%{x}<br>Tipo_post=Encuentros educativos<br>Cant=%{y}<extra></extra>",
         "legendgroup": "Comparte su experiencia frente a la actividad",
         "marker": {
          "color": "rgb(252,141,98)",
          "pattern": {
           "shape": ""
          }
         },
         "name": "Comparte su experiencia frente a la actividad",
         "offsetgroup": "Comparte su experiencia frente a la actividad",
         "orientation": "v",
         "showlegend": false,
         "textposition": "auto",
         "type": "bar",
         "x": [
          "Comparte su experiencia frente a la actividad"
         ],
         "xaxis": "x7",
         "y": [
          4
         ],
         "yaxis": "y7"
        },
        {
         "alignmentgroup": "True",
         "hovertemplate": "Tipo de interacción=%{x}<br>Tipo_post=Experiencia<br>Cant=%{y}<extra></extra>",
         "legendgroup": "Comparte su experiencia frente a la actividad",
         "marker": {
          "color": "rgb(252,141,98)",
          "pattern": {
           "shape": ""
          }
         },
         "name": "Comparte su experiencia frente a la actividad",
         "offsetgroup": "Comparte su experiencia frente a la actividad",
         "orientation": "v",
         "showlegend": false,
         "textposition": "auto",
         "type": "bar",
         "x": [
          "Comparte su experiencia frente a la actividad"
         ],
         "xaxis": "x8",
         "y": [
          0
         ],
         "yaxis": "y8"
        },
        {
         "alignmentgroup": "True",
         "hovertemplate": "Tipo de interacción=%{x}<br>Tipo_post=Invitación<br>Cant=%{y}<extra></extra>",
         "legendgroup": "Comparte su experiencia frente a la actividad",
         "marker": {
          "color": "rgb(252,141,98)",
          "pattern": {
           "shape": ""
          }
         },
         "name": "Comparte su experiencia frente a la actividad",
         "offsetgroup": "Comparte su experiencia frente a la actividad",
         "orientation": "v",
         "showlegend": false,
         "textposition": "auto",
         "type": "bar",
         "x": [
          "Comparte su experiencia frente a la actividad"
         ],
         "xaxis": "x9",
         "y": [
          1
         ],
         "yaxis": "y9"
        },
        {
         "alignmentgroup": "True",
         "hovertemplate": "Tipo de interacción=%{x}<br>Tipo_post=Personas Inspiradoras<br>Cant=%{y}<extra></extra>",
         "legendgroup": "Comparte su experiencia frente a la actividad",
         "marker": {
          "color": "rgb(252,141,98)",
          "pattern": {
           "shape": ""
          }
         },
         "name": "Comparte su experiencia frente a la actividad",
         "offsetgroup": "Comparte su experiencia frente a la actividad",
         "orientation": "v",
         "showlegend": false,
         "textposition": "auto",
         "type": "bar",
         "x": [
          "Comparte su experiencia frente a la actividad"
         ],
         "xaxis": "x10",
         "y": [
          1
         ],
         "yaxis": "y10"
        },
        {
         "alignmentgroup": "True",
         "hovertemplate": "Tipo de interacción=%{x}<br>Tipo_post=Recursos<br>Cant=%{y}<extra></extra>",
         "legendgroup": "Comparte su experiencia frente a la actividad",
         "marker": {
          "color": "rgb(252,141,98)",
          "pattern": {
           "shape": ""
          }
         },
         "name": "Comparte su experiencia frente a la actividad",
         "offsetgroup": "Comparte su experiencia frente a la actividad",
         "orientation": "v",
         "showlegend": false,
         "textposition": "auto",
         "type": "bar",
         "x": [
          "Comparte su experiencia frente a la actividad"
         ],
         "xaxis": "x",
         "y": [
          0
         ],
         "yaxis": "y"
        },
        {
         "alignmentgroup": "True",
         "hovertemplate": "Tipo de interacción=%{x}<br>Tipo_post=TBT<br>Cant=%{y}<extra></extra>",
         "legendgroup": "Comparte su experiencia frente a la actividad",
         "marker": {
          "color": "rgb(252,141,98)",
          "pattern": {
           "shape": ""
          }
         },
         "name": "Comparte su experiencia frente a la actividad",
         "offsetgroup": "Comparte su experiencia frente a la actividad",
         "orientation": "v",
         "showlegend": false,
         "textposition": "auto",
         "type": "bar",
         "x": [
          "Comparte su experiencia frente a la actividad"
         ],
         "xaxis": "x2",
         "y": [
          0
         ],
         "yaxis": "y2"
        },
        {
         "alignmentgroup": "True",
         "hovertemplate": "Tipo de interacción=%{x}<br>Tipo_post=Temas Transversales<br>Cant=%{y}<extra></extra>",
         "legendgroup": "Comparte su experiencia frente a la actividad",
         "marker": {
          "color": "rgb(252,141,98)",
          "pattern": {
           "shape": ""
          }
         },
         "name": "Comparte su experiencia frente a la actividad",
         "offsetgroup": "Comparte su experiencia frente a la actividad",
         "orientation": "v",
         "showlegend": false,
         "textposition": "auto",
         "type": "bar",
         "x": [
          "Comparte su experiencia frente a la actividad"
         ],
         "xaxis": "x3",
         "y": [
          0
         ],
         "yaxis": "y3"
        },
        {
         "alignmentgroup": "True",
         "hovertemplate": "Tipo de interacción=%{x}<br>Tipo_post=Temas transversales<br>Cant=%{y}<extra></extra>",
         "legendgroup": "Comparte su experiencia frente a la actividad",
         "marker": {
          "color": "rgb(252,141,98)",
          "pattern": {
           "shape": ""
          }
         },
         "name": "Comparte su experiencia frente a la actividad",
         "offsetgroup": "Comparte su experiencia frente a la actividad",
         "orientation": "v",
         "showlegend": false,
         "textposition": "auto",
         "type": "bar",
         "x": [
          "Comparte su experiencia frente a la actividad"
         ],
         "xaxis": "x4",
         "y": [
          0
         ],
         "yaxis": "y4"
        },
        {
         "alignmentgroup": "True",
         "hovertemplate": "Tipo de interacción=%{x}<br>Tipo_post=Cápsula<br>Cant=%{y}<extra></extra>",
         "legendgroup": "No indica consolidación de CAP",
         "marker": {
          "color": "rgb(141,160,203)",
          "pattern": {
           "shape": ""
          }
         },
         "name": "No indica consolidación de CAP",
         "offsetgroup": "No indica consolidación de CAP",
         "orientation": "v",
         "showlegend": true,
         "textposition": "auto",
         "type": "bar",
         "x": [
          "No indica consolidación de CAP"
         ],
         "xaxis": "x6",
         "y": [
          2
         ],
         "yaxis": "y6"
        },
        {
         "alignmentgroup": "True",
         "hovertemplate": "Tipo de interacción=%{x}<br>Tipo_post=Encuentros educativos<br>Cant=%{y}<extra></extra>",
         "legendgroup": "No indica consolidación de CAP",
         "marker": {
          "color": "rgb(141,160,203)",
          "pattern": {
           "shape": ""
          }
         },
         "name": "No indica consolidación de CAP",
         "offsetgroup": "No indica consolidación de CAP",
         "orientation": "v",
         "showlegend": false,
         "textposition": "auto",
         "type": "bar",
         "x": [
          "No indica consolidación de CAP"
         ],
         "xaxis": "x7",
         "y": [
          44
         ],
         "yaxis": "y7"
        },
        {
         "alignmentgroup": "True",
         "hovertemplate": "Tipo de interacción=%{x}<br>Tipo_post=Experiencia<br>Cant=%{y}<extra></extra>",
         "legendgroup": "No indica consolidación de CAP",
         "marker": {
          "color": "rgb(141,160,203)",
          "pattern": {
           "shape": ""
          }
         },
         "name": "No indica consolidación de CAP",
         "offsetgroup": "No indica consolidación de CAP",
         "orientation": "v",
         "showlegend": false,
         "textposition": "auto",
         "type": "bar",
         "x": [
          "No indica consolidación de CAP"
         ],
         "xaxis": "x8",
         "y": [
          15
         ],
         "yaxis": "y8"
        },
        {
         "alignmentgroup": "True",
         "hovertemplate": "Tipo de interacción=%{x}<br>Tipo_post=Invitación<br>Cant=%{y}<extra></extra>",
         "legendgroup": "No indica consolidación de CAP",
         "marker": {
          "color": "rgb(141,160,203)",
          "pattern": {
           "shape": ""
          }
         },
         "name": "No indica consolidación de CAP",
         "offsetgroup": "No indica consolidación de CAP",
         "orientation": "v",
         "showlegend": false,
         "textposition": "auto",
         "type": "bar",
         "x": [
          "No indica consolidación de CAP"
         ],
         "xaxis": "x9",
         "y": [
          16
         ],
         "yaxis": "y9"
        },
        {
         "alignmentgroup": "True",
         "hovertemplate": "Tipo de interacción=%{x}<br>Tipo_post=Personas Inspiradoras<br>Cant=%{y}<extra></extra>",
         "legendgroup": "No indica consolidación de CAP",
         "marker": {
          "color": "rgb(141,160,203)",
          "pattern": {
           "shape": ""
          }
         },
         "name": "No indica consolidación de CAP",
         "offsetgroup": "No indica consolidación de CAP",
         "orientation": "v",
         "showlegend": false,
         "textposition": "auto",
         "type": "bar",
         "x": [
          "No indica consolidación de CAP"
         ],
         "xaxis": "x10",
         "y": [
          8
         ],
         "yaxis": "y10"
        },
        {
         "alignmentgroup": "True",
         "hovertemplate": "Tipo de interacción=%{x}<br>Tipo_post=Recursos<br>Cant=%{y}<extra></extra>",
         "legendgroup": "No indica consolidación de CAP",
         "marker": {
          "color": "rgb(141,160,203)",
          "pattern": {
           "shape": ""
          }
         },
         "name": "No indica consolidación de CAP",
         "offsetgroup": "No indica consolidación de CAP",
         "orientation": "v",
         "showlegend": false,
         "textposition": "auto",
         "type": "bar",
         "x": [
          "No indica consolidación de CAP"
         ],
         "xaxis": "x",
         "y": [
          6
         ],
         "yaxis": "y"
        },
        {
         "alignmentgroup": "True",
         "hovertemplate": "Tipo de interacción=%{x}<br>Tipo_post=TBT<br>Cant=%{y}<extra></extra>",
         "legendgroup": "No indica consolidación de CAP",
         "marker": {
          "color": "rgb(141,160,203)",
          "pattern": {
           "shape": ""
          }
         },
         "name": "No indica consolidación de CAP",
         "offsetgroup": "No indica consolidación de CAP",
         "orientation": "v",
         "showlegend": false,
         "textposition": "auto",
         "type": "bar",
         "x": [
          "No indica consolidación de CAP"
         ],
         "xaxis": "x2",
         "y": [
          12
         ],
         "yaxis": "y2"
        },
        {
         "alignmentgroup": "True",
         "hovertemplate": "Tipo de interacción=%{x}<br>Tipo_post=Temas Transversales<br>Cant=%{y}<extra></extra>",
         "legendgroup": "No indica consolidación de CAP",
         "marker": {
          "color": "rgb(141,160,203)",
          "pattern": {
           "shape": ""
          }
         },
         "name": "No indica consolidación de CAP",
         "offsetgroup": "No indica consolidación de CAP",
         "orientation": "v",
         "showlegend": false,
         "textposition": "auto",
         "type": "bar",
         "x": [
          "No indica consolidación de CAP"
         ],
         "xaxis": "x3",
         "y": [
          1
         ],
         "yaxis": "y3"
        },
        {
         "alignmentgroup": "True",
         "hovertemplate": "Tipo de interacción=%{x}<br>Tipo_post=Temas transversales<br>Cant=%{y}<extra></extra>",
         "legendgroup": "No indica consolidación de CAP",
         "marker": {
          "color": "rgb(141,160,203)",
          "pattern": {
           "shape": ""
          }
         },
         "name": "No indica consolidación de CAP",
         "offsetgroup": "No indica consolidación de CAP",
         "orientation": "v",
         "showlegend": false,
         "textposition": "auto",
         "type": "bar",
         "x": [
          "No indica consolidación de CAP"
         ],
         "xaxis": "x4",
         "y": [
          3
         ],
         "yaxis": "y4"
        },
        {
         "alignmentgroup": "True",
         "hovertemplate": "Tipo de interacción=%{x}<br>Tipo_post=Cápsula<br>Cant=%{y}<extra></extra>",
         "legendgroup": "Participa en una discusión grupal",
         "marker": {
          "color": "rgb(231,138,195)",
          "pattern": {
           "shape": ""
          }
         },
         "name": "Participa en una discusión grupal",
         "offsetgroup": "Participa en una discusión grupal",
         "orientation": "v",
         "showlegend": true,
         "textposition": "auto",
         "type": "bar",
         "x": [
          "Participa en una discusión grupal"
         ],
         "xaxis": "x6",
         "y": [
          0
         ],
         "yaxis": "y6"
        },
        {
         "alignmentgroup": "True",
         "hovertemplate": "Tipo de interacción=%{x}<br>Tipo_post=Encuentros educativos<br>Cant=%{y}<extra></extra>",
         "legendgroup": "Participa en una discusión grupal",
         "marker": {
          "color": "rgb(231,138,195)",
          "pattern": {
           "shape": ""
          }
         },
         "name": "Participa en una discusión grupal",
         "offsetgroup": "Participa en una discusión grupal",
         "orientation": "v",
         "showlegend": false,
         "textposition": "auto",
         "type": "bar",
         "x": [
          "Participa en una discusión grupal"
         ],
         "xaxis": "x7",
         "y": [
          0
         ],
         "yaxis": "y7"
        },
        {
         "alignmentgroup": "True",
         "hovertemplate": "Tipo de interacción=%{x}<br>Tipo_post=Experiencia<br>Cant=%{y}<extra></extra>",
         "legendgroup": "Participa en una discusión grupal",
         "marker": {
          "color": "rgb(231,138,195)",
          "pattern": {
           "shape": ""
          }
         },
         "name": "Participa en una discusión grupal",
         "offsetgroup": "Participa en una discusión grupal",
         "orientation": "v",
         "showlegend": false,
         "textposition": "auto",
         "type": "bar",
         "x": [
          "Participa en una discusión grupal"
         ],
         "xaxis": "x8",
         "y": [
          0
         ],
         "yaxis": "y8"
        },
        {
         "alignmentgroup": "True",
         "hovertemplate": "Tipo de interacción=%{x}<br>Tipo_post=Invitación<br>Cant=%{y}<extra></extra>",
         "legendgroup": "Participa en una discusión grupal",
         "marker": {
          "color": "rgb(231,138,195)",
          "pattern": {
           "shape": ""
          }
         },
         "name": "Participa en una discusión grupal",
         "offsetgroup": "Participa en una discusión grupal",
         "orientation": "v",
         "showlegend": false,
         "textposition": "auto",
         "type": "bar",
         "x": [
          "Participa en una discusión grupal"
         ],
         "xaxis": "x9",
         "y": [
          0
         ],
         "yaxis": "y9"
        },
        {
         "alignmentgroup": "True",
         "hovertemplate": "Tipo de interacción=%{x}<br>Tipo_post=Personas Inspiradoras<br>Cant=%{y}<extra></extra>",
         "legendgroup": "Participa en una discusión grupal",
         "marker": {
          "color": "rgb(231,138,195)",
          "pattern": {
           "shape": ""
          }
         },
         "name": "Participa en una discusión grupal",
         "offsetgroup": "Participa en una discusión grupal",
         "orientation": "v",
         "showlegend": false,
         "textposition": "auto",
         "type": "bar",
         "x": [
          "Participa en una discusión grupal"
         ],
         "xaxis": "x10",
         "y": [
          0
         ],
         "yaxis": "y10"
        },
        {
         "alignmentgroup": "True",
         "hovertemplate": "Tipo de interacción=%{x}<br>Tipo_post=Recursos<br>Cant=%{y}<extra></extra>",
         "legendgroup": "Participa en una discusión grupal",
         "marker": {
          "color": "rgb(231,138,195)",
          "pattern": {
           "shape": ""
          }
         },
         "name": "Participa en una discusión grupal",
         "offsetgroup": "Participa en una discusión grupal",
         "orientation": "v",
         "showlegend": false,
         "textposition": "auto",
         "type": "bar",
         "x": [
          "Participa en una discusión grupal"
         ],
         "xaxis": "x",
         "y": [
          0
         ],
         "yaxis": "y"
        },
        {
         "alignmentgroup": "True",
         "hovertemplate": "Tipo de interacción=%{x}<br>Tipo_post=TBT<br>Cant=%{y}<extra></extra>",
         "legendgroup": "Participa en una discusión grupal",
         "marker": {
          "color": "rgb(231,138,195)",
          "pattern": {
           "shape": ""
          }
         },
         "name": "Participa en una discusión grupal",
         "offsetgroup": "Participa en una discusión grupal",
         "orientation": "v",
         "showlegend": false,
         "textposition": "auto",
         "type": "bar",
         "x": [
          "Participa en una discusión grupal"
         ],
         "xaxis": "x2",
         "y": [
          0
         ],
         "yaxis": "y2"
        },
        {
         "alignmentgroup": "True",
         "hovertemplate": "Tipo de interacción=%{x}<br>Tipo_post=Temas Transversales<br>Cant=%{y}<extra></extra>",
         "legendgroup": "Participa en una discusión grupal",
         "marker": {
          "color": "rgb(231,138,195)",
          "pattern": {
           "shape": ""
          }
         },
         "name": "Participa en una discusión grupal",
         "offsetgroup": "Participa en una discusión grupal",
         "orientation": "v",
         "showlegend": false,
         "textposition": "auto",
         "type": "bar",
         "x": [
          "Participa en una discusión grupal"
         ],
         "xaxis": "x3",
         "y": [
          0
         ],
         "yaxis": "y3"
        },
        {
         "alignmentgroup": "True",
         "hovertemplate": "Tipo de interacción=%{x}<br>Tipo_post=Temas transversales<br>Cant=%{y}<extra></extra>",
         "legendgroup": "Participa en una discusión grupal",
         "marker": {
          "color": "rgb(231,138,195)",
          "pattern": {
           "shape": ""
          }
         },
         "name": "Participa en una discusión grupal",
         "offsetgroup": "Participa en una discusión grupal",
         "orientation": "v",
         "showlegend": false,
         "textposition": "auto",
         "type": "bar",
         "x": [
          "Participa en una discusión grupal"
         ],
         "xaxis": "x4",
         "y": [
          0
         ],
         "yaxis": "y4"
        },
        {
         "alignmentgroup": "True",
         "hovertemplate": "Tipo de interacción=%{x}<br>Tipo_post=Cápsula<br>Cant=%{y}<extra></extra>",
         "legendgroup": "Positivo para comunidad de práctica",
         "marker": {
          "color": "rgb(166,216,84)",
          "pattern": {
           "shape": ""
          }
         },
         "name": "Positivo para comunidad de práctica",
         "offsetgroup": "Positivo para comunidad de práctica",
         "orientation": "v",
         "showlegend": true,
         "textposition": "auto",
         "type": "bar",
         "x": [
          "Positivo para comunidad de práctica"
         ],
         "xaxis": "x6",
         "y": [
          2
         ],
         "yaxis": "y6"
        },
        {
         "alignmentgroup": "True",
         "hovertemplate": "Tipo de interacción=%{x}<br>Tipo_post=Encuentros educativos<br>Cant=%{y}<extra></extra>",
         "legendgroup": "Positivo para comunidad de práctica",
         "marker": {
          "color": "rgb(166,216,84)",
          "pattern": {
           "shape": ""
          }
         },
         "name": "Positivo para comunidad de práctica",
         "offsetgroup": "Positivo para comunidad de práctica",
         "orientation": "v",
         "showlegend": false,
         "textposition": "auto",
         "type": "bar",
         "x": [
          "Positivo para comunidad de práctica"
         ],
         "xaxis": "x7",
         "y": [
          13
         ],
         "yaxis": "y7"
        },
        {
         "alignmentgroup": "True",
         "hovertemplate": "Tipo de interacción=%{x}<br>Tipo_post=Experiencia<br>Cant=%{y}<extra></extra>",
         "legendgroup": "Positivo para comunidad de práctica",
         "marker": {
          "color": "rgb(166,216,84)",
          "pattern": {
           "shape": ""
          }
         },
         "name": "Positivo para comunidad de práctica",
         "offsetgroup": "Positivo para comunidad de práctica",
         "orientation": "v",
         "showlegend": false,
         "textposition": "auto",
         "type": "bar",
         "x": [
          "Positivo para comunidad de práctica"
         ],
         "xaxis": "x8",
         "y": [
          5
         ],
         "yaxis": "y8"
        },
        {
         "alignmentgroup": "True",
         "hovertemplate": "Tipo de interacción=%{x}<br>Tipo_post=Invitación<br>Cant=%{y}<extra></extra>",
         "legendgroup": "Positivo para comunidad de práctica",
         "marker": {
          "color": "rgb(166,216,84)",
          "pattern": {
           "shape": ""
          }
         },
         "name": "Positivo para comunidad de práctica",
         "offsetgroup": "Positivo para comunidad de práctica",
         "orientation": "v",
         "showlegend": false,
         "textposition": "auto",
         "type": "bar",
         "x": [
          "Positivo para comunidad de práctica"
         ],
         "xaxis": "x9",
         "y": [
          8
         ],
         "yaxis": "y9"
        },
        {
         "alignmentgroup": "True",
         "hovertemplate": "Tipo de interacción=%{x}<br>Tipo_post=Personas Inspiradoras<br>Cant=%{y}<extra></extra>",
         "legendgroup": "Positivo para comunidad de práctica",
         "marker": {
          "color": "rgb(166,216,84)",
          "pattern": {
           "shape": ""
          }
         },
         "name": "Positivo para comunidad de práctica",
         "offsetgroup": "Positivo para comunidad de práctica",
         "orientation": "v",
         "showlegend": false,
         "textposition": "auto",
         "type": "bar",
         "x": [
          "Positivo para comunidad de práctica"
         ],
         "xaxis": "x10",
         "y": [
          0
         ],
         "yaxis": "y10"
        },
        {
         "alignmentgroup": "True",
         "hovertemplate": "Tipo de interacción=%{x}<br>Tipo_post=Recursos<br>Cant=%{y}<extra></extra>",
         "legendgroup": "Positivo para comunidad de práctica",
         "marker": {
          "color": "rgb(166,216,84)",
          "pattern": {
           "shape": ""
          }
         },
         "name": "Positivo para comunidad de práctica",
         "offsetgroup": "Positivo para comunidad de práctica",
         "orientation": "v",
         "showlegend": false,
         "textposition": "auto",
         "type": "bar",
         "x": [
          "Positivo para comunidad de práctica"
         ],
         "xaxis": "x",
         "y": [
          2
         ],
         "yaxis": "y"
        },
        {
         "alignmentgroup": "True",
         "hovertemplate": "Tipo de interacción=%{x}<br>Tipo_post=TBT<br>Cant=%{y}<extra></extra>",
         "legendgroup": "Positivo para comunidad de práctica",
         "marker": {
          "color": "rgb(166,216,84)",
          "pattern": {
           "shape": ""
          }
         },
         "name": "Positivo para comunidad de práctica",
         "offsetgroup": "Positivo para comunidad de práctica",
         "orientation": "v",
         "showlegend": false,
         "textposition": "auto",
         "type": "bar",
         "x": [
          "Positivo para comunidad de práctica"
         ],
         "xaxis": "x2",
         "y": [
          11
         ],
         "yaxis": "y2"
        },
        {
         "alignmentgroup": "True",
         "hovertemplate": "Tipo de interacción=%{x}<br>Tipo_post=Temas Transversales<br>Cant=%{y}<extra></extra>",
         "legendgroup": "Positivo para comunidad de práctica",
         "marker": {
          "color": "rgb(166,216,84)",
          "pattern": {
           "shape": ""
          }
         },
         "name": "Positivo para comunidad de práctica",
         "offsetgroup": "Positivo para comunidad de práctica",
         "orientation": "v",
         "showlegend": false,
         "textposition": "auto",
         "type": "bar",
         "x": [
          "Positivo para comunidad de práctica"
         ],
         "xaxis": "x3",
         "y": [
          2
         ],
         "yaxis": "y3"
        },
        {
         "alignmentgroup": "True",
         "hovertemplate": "Tipo de interacción=%{x}<br>Tipo_post=Temas transversales<br>Cant=%{y}<extra></extra>",
         "legendgroup": "Positivo para comunidad de práctica",
         "marker": {
          "color": "rgb(166,216,84)",
          "pattern": {
           "shape": ""
          }
         },
         "name": "Positivo para comunidad de práctica",
         "offsetgroup": "Positivo para comunidad de práctica",
         "orientation": "v",
         "showlegend": false,
         "textposition": "auto",
         "type": "bar",
         "x": [
          "Positivo para comunidad de práctica"
         ],
         "xaxis": "x4",
         "y": [
          2
         ],
         "yaxis": "y4"
        },
        {
         "alignmentgroup": "True",
         "hovertemplate": "Tipo de interacción=%{x}<br>Tipo_post=Cápsula<br>Cant=%{y}<extra></extra>",
         "legendgroup": "Solicita apoyo para resolver sus dudas",
         "marker": {
          "color": "rgb(255,217,47)",
          "pattern": {
           "shape": ""
          }
         },
         "name": "Solicita apoyo para resolver sus dudas",
         "offsetgroup": "Solicita apoyo para resolver sus dudas",
         "orientation": "v",
         "showlegend": true,
         "textposition": "auto",
         "type": "bar",
         "x": [
          "Solicita apoyo para resolver sus dudas"
         ],
         "xaxis": "x6",
         "y": [
          1
         ],
         "yaxis": "y6"
        },
        {
         "alignmentgroup": "True",
         "hovertemplate": "Tipo de interacción=%{x}<br>Tipo_post=Encuentros educativos<br>Cant=%{y}<extra></extra>",
         "legendgroup": "Solicita apoyo para resolver sus dudas",
         "marker": {
          "color": "rgb(255,217,47)",
          "pattern": {
           "shape": ""
          }
         },
         "name": "Solicita apoyo para resolver sus dudas",
         "offsetgroup": "Solicita apoyo para resolver sus dudas",
         "orientation": "v",
         "showlegend": false,
         "textposition": "auto",
         "type": "bar",
         "x": [
          "Solicita apoyo para resolver sus dudas"
         ],
         "xaxis": "x7",
         "y": [
          19
         ],
         "yaxis": "y7"
        },
        {
         "alignmentgroup": "True",
         "hovertemplate": "Tipo de interacción=%{x}<br>Tipo_post=Experiencia<br>Cant=%{y}<extra></extra>",
         "legendgroup": "Solicita apoyo para resolver sus dudas",
         "marker": {
          "color": "rgb(255,217,47)",
          "pattern": {
           "shape": ""
          }
         },
         "name": "Solicita apoyo para resolver sus dudas",
         "offsetgroup": "Solicita apoyo para resolver sus dudas",
         "orientation": "v",
         "showlegend": false,
         "textposition": "auto",
         "type": "bar",
         "x": [
          "Solicita apoyo para resolver sus dudas"
         ],
         "xaxis": "x8",
         "y": [
          0
         ],
         "yaxis": "y8"
        },
        {
         "alignmentgroup": "True",
         "hovertemplate": "Tipo de interacción=%{x}<br>Tipo_post=Invitación<br>Cant=%{y}<extra></extra>",
         "legendgroup": "Solicita apoyo para resolver sus dudas",
         "marker": {
          "color": "rgb(255,217,47)",
          "pattern": {
           "shape": ""
          }
         },
         "name": "Solicita apoyo para resolver sus dudas",
         "offsetgroup": "Solicita apoyo para resolver sus dudas",
         "orientation": "v",
         "showlegend": false,
         "textposition": "auto",
         "type": "bar",
         "x": [
          "Solicita apoyo para resolver sus dudas"
         ],
         "xaxis": "x9",
         "y": [
          22
         ],
         "yaxis": "y9"
        },
        {
         "alignmentgroup": "True",
         "hovertemplate": "Tipo de interacción=%{x}<br>Tipo_post=Personas Inspiradoras<br>Cant=%{y}<extra></extra>",
         "legendgroup": "Solicita apoyo para resolver sus dudas",
         "marker": {
          "color": "rgb(255,217,47)",
          "pattern": {
           "shape": ""
          }
         },
         "name": "Solicita apoyo para resolver sus dudas",
         "offsetgroup": "Solicita apoyo para resolver sus dudas",
         "orientation": "v",
         "showlegend": false,
         "textposition": "auto",
         "type": "bar",
         "x": [
          "Solicita apoyo para resolver sus dudas"
         ],
         "xaxis": "x10",
         "y": [
          0
         ],
         "yaxis": "y10"
        },
        {
         "alignmentgroup": "True",
         "hovertemplate": "Tipo de interacción=%{x}<br>Tipo_post=Recursos<br>Cant=%{y}<extra></extra>",
         "legendgroup": "Solicita apoyo para resolver sus dudas",
         "marker": {
          "color": "rgb(255,217,47)",
          "pattern": {
           "shape": ""
          }
         },
         "name": "Solicita apoyo para resolver sus dudas",
         "offsetgroup": "Solicita apoyo para resolver sus dudas",
         "orientation": "v",
         "showlegend": false,
         "textposition": "auto",
         "type": "bar",
         "x": [
          "Solicita apoyo para resolver sus dudas"
         ],
         "xaxis": "x",
         "y": [
          0
         ],
         "yaxis": "y"
        },
        {
         "alignmentgroup": "True",
         "hovertemplate": "Tipo de interacción=%{x}<br>Tipo_post=TBT<br>Cant=%{y}<extra></extra>",
         "legendgroup": "Solicita apoyo para resolver sus dudas",
         "marker": {
          "color": "rgb(255,217,47)",
          "pattern": {
           "shape": ""
          }
         },
         "name": "Solicita apoyo para resolver sus dudas",
         "offsetgroup": "Solicita apoyo para resolver sus dudas",
         "orientation": "v",
         "showlegend": false,
         "textposition": "auto",
         "type": "bar",
         "x": [
          "Solicita apoyo para resolver sus dudas"
         ],
         "xaxis": "x2",
         "y": [
          1
         ],
         "yaxis": "y2"
        },
        {
         "alignmentgroup": "True",
         "hovertemplate": "Tipo de interacción=%{x}<br>Tipo_post=Temas Transversales<br>Cant=%{y}<extra></extra>",
         "legendgroup": "Solicita apoyo para resolver sus dudas",
         "marker": {
          "color": "rgb(255,217,47)",
          "pattern": {
           "shape": ""
          }
         },
         "name": "Solicita apoyo para resolver sus dudas",
         "offsetgroup": "Solicita apoyo para resolver sus dudas",
         "orientation": "v",
         "showlegend": false,
         "textposition": "auto",
         "type": "bar",
         "x": [
          "Solicita apoyo para resolver sus dudas"
         ],
         "xaxis": "x3",
         "y": [
          0
         ],
         "yaxis": "y3"
        },
        {
         "alignmentgroup": "True",
         "hovertemplate": "Tipo de interacción=%{x}<br>Tipo_post=Temas transversales<br>Cant=%{y}<extra></extra>",
         "legendgroup": "Solicita apoyo para resolver sus dudas",
         "marker": {
          "color": "rgb(255,217,47)",
          "pattern": {
           "shape": ""
          }
         },
         "name": "Solicita apoyo para resolver sus dudas",
         "offsetgroup": "Solicita apoyo para resolver sus dudas",
         "orientation": "v",
         "showlegend": false,
         "textposition": "auto",
         "type": "bar",
         "x": [
          "Solicita apoyo para resolver sus dudas"
         ],
         "xaxis": "x4",
         "y": [
          0
         ],
         "yaxis": "y4"
        },
        {
         "alignmentgroup": "True",
         "hovertemplate": "Tipo de interacción=%{x}<br>Tipo_post=Cápsula<br>Cant=%{y}<extra></extra>",
         "legendgroup": "Tendencia a trabajo individual",
         "marker": {
          "color": "rgb(229,196,148)",
          "pattern": {
           "shape": ""
          }
         },
         "name": "Tendencia a trabajo individual",
         "offsetgroup": "Tendencia a trabajo individual",
         "orientation": "v",
         "showlegend": true,
         "textposition": "auto",
         "type": "bar",
         "x": [
          "Tendencia a trabajo individual"
         ],
         "xaxis": "x6",
         "y": [
          0
         ],
         "yaxis": "y6"
        },
        {
         "alignmentgroup": "True",
         "hovertemplate": "Tipo de interacción=%{x}<br>Tipo_post=Encuentros educativos<br>Cant=%{y}<extra></extra>",
         "legendgroup": "Tendencia a trabajo individual",
         "marker": {
          "color": "rgb(229,196,148)",
          "pattern": {
           "shape": ""
          }
         },
         "name": "Tendencia a trabajo individual",
         "offsetgroup": "Tendencia a trabajo individual",
         "orientation": "v",
         "showlegend": false,
         "textposition": "auto",
         "type": "bar",
         "x": [
          "Tendencia a trabajo individual"
         ],
         "xaxis": "x7",
         "y": [
          0
         ],
         "yaxis": "y7"
        },
        {
         "alignmentgroup": "True",
         "hovertemplate": "Tipo de interacción=%{x}<br>Tipo_post=Experiencia<br>Cant=%{y}<extra></extra>",
         "legendgroup": "Tendencia a trabajo individual",
         "marker": {
          "color": "rgb(229,196,148)",
          "pattern": {
           "shape": ""
          }
         },
         "name": "Tendencia a trabajo individual",
         "offsetgroup": "Tendencia a trabajo individual",
         "orientation": "v",
         "showlegend": false,
         "textposition": "auto",
         "type": "bar",
         "x": [
          "Tendencia a trabajo individual"
         ],
         "xaxis": "x8",
         "y": [
          0
         ],
         "yaxis": "y8"
        },
        {
         "alignmentgroup": "True",
         "hovertemplate": "Tipo de interacción=%{x}<br>Tipo_post=Invitación<br>Cant=%{y}<extra></extra>",
         "legendgroup": "Tendencia a trabajo individual",
         "marker": {
          "color": "rgb(229,196,148)",
          "pattern": {
           "shape": ""
          }
         },
         "name": "Tendencia a trabajo individual",
         "offsetgroup": "Tendencia a trabajo individual",
         "orientation": "v",
         "showlegend": false,
         "textposition": "auto",
         "type": "bar",
         "x": [
          "Tendencia a trabajo individual"
         ],
         "xaxis": "x9",
         "y": [
          0
         ],
         "yaxis": "y9"
        },
        {
         "alignmentgroup": "True",
         "hovertemplate": "Tipo de interacción=%{x}<br>Tipo_post=Personas Inspiradoras<br>Cant=%{y}<extra></extra>",
         "legendgroup": "Tendencia a trabajo individual",
         "marker": {
          "color": "rgb(229,196,148)",
          "pattern": {
           "shape": ""
          }
         },
         "name": "Tendencia a trabajo individual",
         "offsetgroup": "Tendencia a trabajo individual",
         "orientation": "v",
         "showlegend": false,
         "textposition": "auto",
         "type": "bar",
         "x": [
          "Tendencia a trabajo individual"
         ],
         "xaxis": "x10",
         "y": [
          0
         ],
         "yaxis": "y10"
        },
        {
         "alignmentgroup": "True",
         "hovertemplate": "Tipo de interacción=%{x}<br>Tipo_post=Recursos<br>Cant=%{y}<extra></extra>",
         "legendgroup": "Tendencia a trabajo individual",
         "marker": {
          "color": "rgb(229,196,148)",
          "pattern": {
           "shape": ""
          }
         },
         "name": "Tendencia a trabajo individual",
         "offsetgroup": "Tendencia a trabajo individual",
         "orientation": "v",
         "showlegend": false,
         "textposition": "auto",
         "type": "bar",
         "x": [
          "Tendencia a trabajo individual"
         ],
         "xaxis": "x",
         "y": [
          0
         ],
         "yaxis": "y"
        },
        {
         "alignmentgroup": "True",
         "hovertemplate": "Tipo de interacción=%{x}<br>Tipo_post=TBT<br>Cant=%{y}<extra></extra>",
         "legendgroup": "Tendencia a trabajo individual",
         "marker": {
          "color": "rgb(229,196,148)",
          "pattern": {
           "shape": ""
          }
         },
         "name": "Tendencia a trabajo individual",
         "offsetgroup": "Tendencia a trabajo individual",
         "orientation": "v",
         "showlegend": false,
         "textposition": "auto",
         "type": "bar",
         "x": [
          "Tendencia a trabajo individual"
         ],
         "xaxis": "x2",
         "y": [
          0
         ],
         "yaxis": "y2"
        },
        {
         "alignmentgroup": "True",
         "hovertemplate": "Tipo de interacción=%{x}<br>Tipo_post=Temas Transversales<br>Cant=%{y}<extra></extra>",
         "legendgroup": "Tendencia a trabajo individual",
         "marker": {
          "color": "rgb(229,196,148)",
          "pattern": {
           "shape": ""
          }
         },
         "name": "Tendencia a trabajo individual",
         "offsetgroup": "Tendencia a trabajo individual",
         "orientation": "v",
         "showlegend": false,
         "textposition": "auto",
         "type": "bar",
         "x": [
          "Tendencia a trabajo individual"
         ],
         "xaxis": "x3",
         "y": [
          0
         ],
         "yaxis": "y3"
        },
        {
         "alignmentgroup": "True",
         "hovertemplate": "Tipo de interacción=%{x}<br>Tipo_post=Temas transversales<br>Cant=%{y}<extra></extra>",
         "legendgroup": "Tendencia a trabajo individual",
         "marker": {
          "color": "rgb(229,196,148)",
          "pattern": {
           "shape": ""
          }
         },
         "name": "Tendencia a trabajo individual",
         "offsetgroup": "Tendencia a trabajo individual",
         "orientation": "v",
         "showlegend": false,
         "textposition": "auto",
         "type": "bar",
         "x": [
          "Tendencia a trabajo individual"
         ],
         "xaxis": "x4",
         "y": [
          0
         ],
         "yaxis": "y4"
        }
       ],
       "layout": {
        "annotations": [
         {
          "font": {},
          "showarrow": false,
          "text": "Recursos",
          "x": 0.09200000000000001,
          "xanchor": "center",
          "xref": "paper",
          "y": 0.46499999999999997,
          "yanchor": "bottom",
          "yref": "paper"
         },
         {
          "font": {},
          "showarrow": false,
          "text": "TBT",
          "x": 0.29600000000000004,
          "xanchor": "center",
          "xref": "paper",
          "y": 0.46499999999999997,
          "yanchor": "bottom",
          "yref": "paper"
         },
         {
          "font": {},
          "showarrow": false,
          "text": "Temas Transversales",
          "x": 0.5,
          "xanchor": "center",
          "xref": "paper",
          "y": 0.46499999999999997,
          "yanchor": "bottom",
          "yref": "paper"
         },
         {
          "font": {},
          "showarrow": false,
          "text": "Temas transversales",
          "x": 0.7040000000000002,
          "xanchor": "center",
          "xref": "paper",
          "y": 0.46499999999999997,
          "yanchor": "bottom",
          "yref": "paper"
         },
         {
          "font": {},
          "showarrow": false,
          "text": "Cápsula",
          "x": 0.09200000000000001,
          "xanchor": "center",
          "xref": "paper",
          "y": 0.9999999999999999,
          "yanchor": "bottom",
          "yref": "paper"
         },
         {
          "font": {},
          "showarrow": false,
          "text": "Encuentros educativos",
          "x": 0.29600000000000004,
          "xanchor": "center",
          "xref": "paper",
          "y": 0.9999999999999999,
          "yanchor": "bottom",
          "yref": "paper"
         },
         {
          "font": {},
          "showarrow": false,
          "text": "Experiencia",
          "x": 0.5,
          "xanchor": "center",
          "xref": "paper",
          "y": 0.9999999999999999,
          "yanchor": "bottom",
          "yref": "paper"
         },
         {
          "font": {},
          "showarrow": false,
          "text": "Invitación",
          "x": 0.7040000000000002,
          "xanchor": "center",
          "xref": "paper",
          "y": 0.9999999999999999,
          "yanchor": "bottom",
          "yref": "paper"
         },
         {
          "font": {},
          "showarrow": false,
          "text": "Personas Inspiradoras",
          "x": 0.908,
          "xanchor": "center",
          "xref": "paper",
          "y": 0.9999999999999999,
          "yanchor": "bottom",
          "yref": "paper"
         }
        ],
        "autosize": true,
        "barmode": "relative",
        "legend": {
         "title": {
          "text": "Tipo de interacción"
         },
         "tracegroupgap": 0,
         "x": 0.9298437578885034,
         "y": 0.9045454545454547
        },
        "margin": {
         "t": 60
        },
        "template": {
         "data": {
          "bar": [
           {
            "error_x": {
             "color": "#2a3f5f"
            },
            "error_y": {
             "color": "#2a3f5f"
            },
            "marker": {
             "line": {
              "color": "white",
              "width": 0.5
             },
             "pattern": {
              "fillmode": "overlay",
              "size": 10,
              "solidity": 0.2
             }
            },
            "type": "bar"
           }
          ],
          "barpolar": [
           {
            "marker": {
             "line": {
              "color": "white",
              "width": 0.5
             },
             "pattern": {
              "fillmode": "overlay",
              "size": 10,
              "solidity": 0.2
             }
            },
            "type": "barpolar"
           }
          ],
          "carpet": [
           {
            "aaxis": {
             "endlinecolor": "#2a3f5f",
             "gridcolor": "#C8D4E3",
             "linecolor": "#C8D4E3",
             "minorgridcolor": "#C8D4E3",
             "startlinecolor": "#2a3f5f"
            },
            "baxis": {
             "endlinecolor": "#2a3f5f",
             "gridcolor": "#C8D4E3",
             "linecolor": "#C8D4E3",
             "minorgridcolor": "#C8D4E3",
             "startlinecolor": "#2a3f5f"
            },
            "type": "carpet"
           }
          ],
          "choropleth": [
           {
            "colorbar": {
             "outlinewidth": 0,
             "ticks": ""
            },
            "type": "choropleth"
           }
          ],
          "contour": [
           {
            "colorbar": {
             "outlinewidth": 0,
             "ticks": ""
            },
            "colorscale": [
             [
              0,
              "#0d0887"
             ],
             [
              0.1111111111111111,
              "#46039f"
             ],
             [
              0.2222222222222222,
              "#7201a8"
             ],
             [
              0.3333333333333333,
              "#9c179e"
             ],
             [
              0.4444444444444444,
              "#bd3786"
             ],
             [
              0.5555555555555556,
              "#d8576b"
             ],
             [
              0.6666666666666666,
              "#ed7953"
             ],
             [
              0.7777777777777778,
              "#fb9f3a"
             ],
             [
              0.8888888888888888,
              "#fdca26"
             ],
             [
              1,
              "#f0f921"
             ]
            ],
            "type": "contour"
           }
          ],
          "contourcarpet": [
           {
            "colorbar": {
             "outlinewidth": 0,
             "ticks": ""
            },
            "type": "contourcarpet"
           }
          ],
          "heatmap": [
           {
            "colorbar": {
             "outlinewidth": 0,
             "ticks": ""
            },
            "colorscale": [
             [
              0,
              "#0d0887"
             ],
             [
              0.1111111111111111,
              "#46039f"
             ],
             [
              0.2222222222222222,
              "#7201a8"
             ],
             [
              0.3333333333333333,
              "#9c179e"
             ],
             [
              0.4444444444444444,
              "#bd3786"
             ],
             [
              0.5555555555555556,
              "#d8576b"
             ],
             [
              0.6666666666666666,
              "#ed7953"
             ],
             [
              0.7777777777777778,
              "#fb9f3a"
             ],
             [
              0.8888888888888888,
              "#fdca26"
             ],
             [
              1,
              "#f0f921"
             ]
            ],
            "type": "heatmap"
           }
          ],
          "heatmapgl": [
           {
            "colorbar": {
             "outlinewidth": 0,
             "ticks": ""
            },
            "colorscale": [
             [
              0,
              "#0d0887"
             ],
             [
              0.1111111111111111,
              "#46039f"
             ],
             [
              0.2222222222222222,
              "#7201a8"
             ],
             [
              0.3333333333333333,
              "#9c179e"
             ],
             [
              0.4444444444444444,
              "#bd3786"
             ],
             [
              0.5555555555555556,
              "#d8576b"
             ],
             [
              0.6666666666666666,
              "#ed7953"
             ],
             [
              0.7777777777777778,
              "#fb9f3a"
             ],
             [
              0.8888888888888888,
              "#fdca26"
             ],
             [
              1,
              "#f0f921"
             ]
            ],
            "type": "heatmapgl"
           }
          ],
          "histogram": [
           {
            "marker": {
             "pattern": {
              "fillmode": "overlay",
              "size": 10,
              "solidity": 0.2
             }
            },
            "type": "histogram"
           }
          ],
          "histogram2d": [
           {
            "colorbar": {
             "outlinewidth": 0,
             "ticks": ""
            },
            "colorscale": [
             [
              0,
              "#0d0887"
             ],
             [
              0.1111111111111111,
              "#46039f"
             ],
             [
              0.2222222222222222,
              "#7201a8"
             ],
             [
              0.3333333333333333,
              "#9c179e"
             ],
             [
              0.4444444444444444,
              "#bd3786"
             ],
             [
              0.5555555555555556,
              "#d8576b"
             ],
             [
              0.6666666666666666,
              "#ed7953"
             ],
             [
              0.7777777777777778,
              "#fb9f3a"
             ],
             [
              0.8888888888888888,
              "#fdca26"
             ],
             [
              1,
              "#f0f921"
             ]
            ],
            "type": "histogram2d"
           }
          ],
          "histogram2dcontour": [
           {
            "colorbar": {
             "outlinewidth": 0,
             "ticks": ""
            },
            "colorscale": [
             [
              0,
              "#0d0887"
             ],
             [
              0.1111111111111111,
              "#46039f"
             ],
             [
              0.2222222222222222,
              "#7201a8"
             ],
             [
              0.3333333333333333,
              "#9c179e"
             ],
             [
              0.4444444444444444,
              "#bd3786"
             ],
             [
              0.5555555555555556,
              "#d8576b"
             ],
             [
              0.6666666666666666,
              "#ed7953"
             ],
             [
              0.7777777777777778,
              "#fb9f3a"
             ],
             [
              0.8888888888888888,
              "#fdca26"
             ],
             [
              1,
              "#f0f921"
             ]
            ],
            "type": "histogram2dcontour"
           }
          ],
          "mesh3d": [
           {
            "colorbar": {
             "outlinewidth": 0,
             "ticks": ""
            },
            "type": "mesh3d"
           }
          ],
          "parcoords": [
           {
            "line": {
             "colorbar": {
              "outlinewidth": 0,
              "ticks": ""
             }
            },
            "type": "parcoords"
           }
          ],
          "pie": [
           {
            "automargin": true,
            "type": "pie"
           }
          ],
          "scatter": [
           {
            "marker": {
             "colorbar": {
              "outlinewidth": 0,
              "ticks": ""
             }
            },
            "type": "scatter"
           }
          ],
          "scatter3d": [
           {
            "line": {
             "colorbar": {
              "outlinewidth": 0,
              "ticks": ""
             }
            },
            "marker": {
             "colorbar": {
              "outlinewidth": 0,
              "ticks": ""
             }
            },
            "type": "scatter3d"
           }
          ],
          "scattercarpet": [
           {
            "marker": {
             "colorbar": {
              "outlinewidth": 0,
              "ticks": ""
             }
            },
            "type": "scattercarpet"
           }
          ],
          "scattergeo": [
           {
            "marker": {
             "colorbar": {
              "outlinewidth": 0,
              "ticks": ""
             }
            },
            "type": "scattergeo"
           }
          ],
          "scattergl": [
           {
            "marker": {
             "colorbar": {
              "outlinewidth": 0,
              "ticks": ""
             }
            },
            "type": "scattergl"
           }
          ],
          "scattermapbox": [
           {
            "marker": {
             "colorbar": {
              "outlinewidth": 0,
              "ticks": ""
             }
            },
            "type": "scattermapbox"
           }
          ],
          "scatterpolar": [
           {
            "marker": {
             "colorbar": {
              "outlinewidth": 0,
              "ticks": ""
             }
            },
            "type": "scatterpolar"
           }
          ],
          "scatterpolargl": [
           {
            "marker": {
             "colorbar": {
              "outlinewidth": 0,
              "ticks": ""
             }
            },
            "type": "scatterpolargl"
           }
          ],
          "scatterternary": [
           {
            "marker": {
             "colorbar": {
              "outlinewidth": 0,
              "ticks": ""
             }
            },
            "type": "scatterternary"
           }
          ],
          "surface": [
           {
            "colorbar": {
             "outlinewidth": 0,
             "ticks": ""
            },
            "colorscale": [
             [
              0,
              "#0d0887"
             ],
             [
              0.1111111111111111,
              "#46039f"
             ],
             [
              0.2222222222222222,
              "#7201a8"
             ],
             [
              0.3333333333333333,
              "#9c179e"
             ],
             [
              0.4444444444444444,
              "#bd3786"
             ],
             [
              0.5555555555555556,
              "#d8576b"
             ],
             [
              0.6666666666666666,
              "#ed7953"
             ],
             [
              0.7777777777777778,
              "#fb9f3a"
             ],
             [
              0.8888888888888888,
              "#fdca26"
             ],
             [
              1,
              "#f0f921"
             ]
            ],
            "type": "surface"
           }
          ],
          "table": [
           {
            "cells": {
             "fill": {
              "color": "#EBF0F8"
             },
             "line": {
              "color": "white"
             }
            },
            "header": {
             "fill": {
              "color": "#C8D4E3"
             },
             "line": {
              "color": "white"
             }
            },
            "type": "table"
           }
          ]
         },
         "layout": {
          "annotationdefaults": {
           "arrowcolor": "#2a3f5f",
           "arrowhead": 0,
           "arrowwidth": 1
          },
          "autotypenumbers": "strict",
          "coloraxis": {
           "colorbar": {
            "outlinewidth": 0,
            "ticks": ""
           }
          },
          "colorscale": {
           "diverging": [
            [
             0,
             "#8e0152"
            ],
            [
             0.1,
             "#c51b7d"
            ],
            [
             0.2,
             "#de77ae"
            ],
            [
             0.3,
             "#f1b6da"
            ],
            [
             0.4,
             "#fde0ef"
            ],
            [
             0.5,
             "#f7f7f7"
            ],
            [
             0.6,
             "#e6f5d0"
            ],
            [
             0.7,
             "#b8e186"
            ],
            [
             0.8,
             "#7fbc41"
            ],
            [
             0.9,
             "#4d9221"
            ],
            [
             1,
             "#276419"
            ]
           ],
           "sequential": [
            [
             0,
             "#0d0887"
            ],
            [
             0.1111111111111111,
             "#46039f"
            ],
            [
             0.2222222222222222,
             "#7201a8"
            ],
            [
             0.3333333333333333,
             "#9c179e"
            ],
            [
             0.4444444444444444,
             "#bd3786"
            ],
            [
             0.5555555555555556,
             "#d8576b"
            ],
            [
             0.6666666666666666,
             "#ed7953"
            ],
            [
             0.7777777777777778,
             "#fb9f3a"
            ],
            [
             0.8888888888888888,
             "#fdca26"
            ],
            [
             1,
             "#f0f921"
            ]
           ],
           "sequentialminus": [
            [
             0,
             "#0d0887"
            ],
            [
             0.1111111111111111,
             "#46039f"
            ],
            [
             0.2222222222222222,
             "#7201a8"
            ],
            [
             0.3333333333333333,
             "#9c179e"
            ],
            [
             0.4444444444444444,
             "#bd3786"
            ],
            [
             0.5555555555555556,
             "#d8576b"
            ],
            [
             0.6666666666666666,
             "#ed7953"
            ],
            [
             0.7777777777777778,
             "#fb9f3a"
            ],
            [
             0.8888888888888888,
             "#fdca26"
            ],
            [
             1,
             "#f0f921"
            ]
           ]
          },
          "colorway": [
           "#636efa",
           "#EF553B",
           "#00cc96",
           "#ab63fa",
           "#FFA15A",
           "#19d3f3",
           "#FF6692",
           "#B6E880",
           "#FF97FF",
           "#FECB52"
          ],
          "font": {
           "color": "#2a3f5f"
          },
          "geo": {
           "bgcolor": "white",
           "lakecolor": "white",
           "landcolor": "white",
           "showlakes": true,
           "showland": true,
           "subunitcolor": "#C8D4E3"
          },
          "hoverlabel": {
           "align": "left"
          },
          "hovermode": "closest",
          "mapbox": {
           "style": "light"
          },
          "paper_bgcolor": "white",
          "plot_bgcolor": "white",
          "polar": {
           "angularaxis": {
            "gridcolor": "#EBF0F8",
            "linecolor": "#EBF0F8",
            "ticks": ""
           },
           "bgcolor": "white",
           "radialaxis": {
            "gridcolor": "#EBF0F8",
            "linecolor": "#EBF0F8",
            "ticks": ""
           }
          },
          "scene": {
           "xaxis": {
            "backgroundcolor": "white",
            "gridcolor": "#DFE8F3",
            "gridwidth": 2,
            "linecolor": "#EBF0F8",
            "showbackground": true,
            "ticks": "",
            "zerolinecolor": "#EBF0F8"
           },
           "yaxis": {
            "backgroundcolor": "white",
            "gridcolor": "#DFE8F3",
            "gridwidth": 2,
            "linecolor": "#EBF0F8",
            "showbackground": true,
            "ticks": "",
            "zerolinecolor": "#EBF0F8"
           },
           "zaxis": {
            "backgroundcolor": "white",
            "gridcolor": "#DFE8F3",
            "gridwidth": 2,
            "linecolor": "#EBF0F8",
            "showbackground": true,
            "ticks": "",
            "zerolinecolor": "#EBF0F8"
           }
          },
          "shapedefaults": {
           "line": {
            "color": "#2a3f5f"
           }
          },
          "ternary": {
           "aaxis": {
            "gridcolor": "#DFE8F3",
            "linecolor": "#A2B1C6",
            "ticks": ""
           },
           "baxis": {
            "gridcolor": "#DFE8F3",
            "linecolor": "#A2B1C6",
            "ticks": ""
           },
           "bgcolor": "white",
           "caxis": {
            "gridcolor": "#DFE8F3",
            "linecolor": "#A2B1C6",
            "ticks": ""
           }
          },
          "title": {
           "x": 0.05
          },
          "xaxis": {
           "automargin": true,
           "gridcolor": "#EBF0F8",
           "linecolor": "#EBF0F8",
           "ticks": "",
           "title": {
            "standoff": 15
           },
           "zerolinecolor": "#EBF0F8",
           "zerolinewidth": 2
          },
          "yaxis": {
           "automargin": true,
           "gridcolor": "#EBF0F8",
           "linecolor": "#EBF0F8",
           "ticks": "",
           "title": {
            "standoff": 15
           },
           "zerolinecolor": "#EBF0F8",
           "zerolinewidth": 2
          }
         }
        },
        "xaxis": {
         "anchor": "y",
         "autorange": false,
         "categoryarray": [
          "Ayuda a resolver dudas y realiza sugerencias",
          "Comparte su experiencia frente a la actividad",
          "No indica consolidación de CAP",
          "Participa en una discusión grupal",
          "Positivo para comunidad de práctica",
          "Solicita apoyo para resolver sus dudas",
          "Tendencia a trabajo individual"
         ],
         "categoryorder": "array",
         "domain": [
          0,
          0.18400000000000002
         ],
         "range": [
          -0.4999999999999911,
          6.5
         ],
         "showticklabels": false,
         "title": {
          "text": "Tipo de interacción"
         },
         "type": "category",
         "visible": false
        },
        "xaxis10": {
         "anchor": "y10",
         "autorange": false,
         "domain": [
          0.8160000000000001,
          1
         ],
         "matches": "x",
         "range": [
          -0.4999999999999911,
          6.5
         ],
         "showticklabels": false,
         "type": "category",
         "visible": false
        },
        "xaxis2": {
         "anchor": "y2",
         "autorange": false,
         "categoryarray": [
          "Ayuda a resolver dudas y realiza sugerencias",
          "Comparte su experiencia frente a la actividad",
          "No indica consolidación de CAP",
          "Participa en una discusión grupal",
          "Positivo para comunidad de práctica",
          "Solicita apoyo para resolver sus dudas",
          "Tendencia a trabajo individual"
         ],
         "categoryorder": "array",
         "domain": [
          0.20400000000000001,
          0.388
         ],
         "matches": "x",
         "range": [
          -0.4999999999999911,
          6.5
         ],
         "showticklabels": false,
         "title": {
          "text": "Tipo de interacción"
         },
         "type": "category",
         "visible": false
        },
        "xaxis3": {
         "anchor": "y3",
         "autorange": false,
         "categoryarray": [
          "Ayuda a resolver dudas y realiza sugerencias",
          "Comparte su experiencia frente a la actividad",
          "No indica consolidación de CAP",
          "Participa en una discusión grupal",
          "Positivo para comunidad de práctica",
          "Solicita apoyo para resolver sus dudas",
          "Tendencia a trabajo individual"
         ],
         "categoryorder": "array",
         "domain": [
          0.40800000000000003,
          0.5920000000000001
         ],
         "matches": "x",
         "range": [
          -0.4999999999999911,
          6.5
         ],
         "showticklabels": false,
         "title": {
          "text": "Tipo de interacción"
         },
         "type": "category",
         "visible": false
        },
        "xaxis4": {
         "anchor": "y4",
         "autorange": false,
         "categoryarray": [
          "Ayuda a resolver dudas y realiza sugerencias",
          "Comparte su experiencia frente a la actividad",
          "No indica consolidación de CAP",
          "Participa en una discusión grupal",
          "Positivo para comunidad de práctica",
          "Solicita apoyo para resolver sus dudas",
          "Tendencia a trabajo individual"
         ],
         "categoryorder": "array",
         "domain": [
          0.6120000000000001,
          0.7960000000000002
         ],
         "matches": "x",
         "range": [
          -0.4999999999999911,
          6.5
         ],
         "showticklabels": false,
         "title": {
          "text": "Tipo de interacción"
         },
         "type": "category",
         "visible": false
        },
        "xaxis5": {
         "anchor": "y5",
         "categoryarray": [
          "Ayuda a resolver dudas y realiza sugerencias",
          "Comparte su experiencia frente a la actividad",
          "No indica consolidación de CAP",
          "Participa en una discusión grupal",
          "Positivo para comunidad de práctica",
          "Solicita apoyo para resolver sus dudas",
          "Tendencia a trabajo individual"
         ],
         "categoryorder": "array",
         "domain": [
          0.8160000000000001,
          1
         ],
         "matches": "x",
         "showticklabels": false,
         "title": {
          "text": "Tipo de interacción"
         },
         "visible": false
        },
        "xaxis6": {
         "anchor": "y6",
         "autorange": false,
         "domain": [
          0,
          0.18400000000000002
         ],
         "matches": "x",
         "range": [
          -0.4999999999999911,
          6.5
         ],
         "showticklabels": false,
         "type": "category",
         "visible": false
        },
        "xaxis7": {
         "anchor": "y7",
         "autorange": false,
         "domain": [
          0.20400000000000001,
          0.388
         ],
         "matches": "x",
         "range": [
          -0.4999999999999911,
          6.5
         ],
         "showticklabels": false,
         "type": "category",
         "visible": false
        },
        "xaxis8": {
         "anchor": "y8",
         "autorange": false,
         "domain": [
          0.40800000000000003,
          0.5920000000000001
         ],
         "matches": "x",
         "range": [
          -0.4999999999999911,
          6.5
         ],
         "showticklabels": false,
         "type": "category",
         "visible": false
        },
        "xaxis9": {
         "anchor": "y9",
         "autorange": false,
         "domain": [
          0.6120000000000001,
          0.7960000000000002
         ],
         "matches": "x",
         "range": [
          -0.4999999999999911,
          6.5
         ],
         "showticklabels": false,
         "type": "category",
         "visible": false
        },
        "yaxis": {
         "anchor": "x",
         "autorange": false,
         "domain": [
          0,
          0.46499999999999997
         ],
         "range": [
          6.394884621840902e-14,
          46.31578947368422
         ],
         "title": {
          "text": "Cant"
         },
         "type": "linear"
        },
        "yaxis10": {
         "anchor": "x10",
         "autorange": false,
         "domain": [
          0.5349999999999999,
          0.9999999999999999
         ],
         "matches": "y",
         "range": [
          6.394884621840902e-14,
          46.31578947368422
         ],
         "showticklabels": false,
         "type": "linear"
        },
        "yaxis2": {
         "anchor": "x2",
         "autorange": false,
         "domain": [
          0,
          0.46499999999999997
         ],
         "matches": "y",
         "range": [
          6.394884621840902e-14,
          46.31578947368422
         ],
         "showticklabels": false,
         "type": "linear"
        },
        "yaxis3": {
         "anchor": "x3",
         "autorange": false,
         "domain": [
          0,
          0.46499999999999997
         ],
         "matches": "y",
         "range": [
          6.394884621840902e-14,
          46.31578947368422
         ],
         "showticklabels": false,
         "type": "linear"
        },
        "yaxis4": {
         "anchor": "x4",
         "autorange": false,
         "domain": [
          0,
          0.46499999999999997
         ],
         "matches": "y",
         "range": [
          6.394884621840902e-14,
          46.31578947368422
         ],
         "showticklabels": false,
         "type": "linear"
        },
        "yaxis5": {
         "anchor": "x5",
         "domain": [
          0,
          0.46499999999999997
         ],
         "matches": "y",
         "showticklabels": false
        },
        "yaxis6": {
         "anchor": "x6",
         "autorange": false,
         "domain": [
          0.5349999999999999,
          0.9999999999999999
         ],
         "matches": "y",
         "range": [
          6.394884621840902e-14,
          46.31578947368422
         ],
         "title": {
          "text": "Cant"
         },
         "type": "linear"
        },
        "yaxis7": {
         "anchor": "x7",
         "autorange": false,
         "domain": [
          0.5349999999999999,
          0.9999999999999999
         ],
         "matches": "y",
         "range": [
          6.394884621840902e-14,
          46.31578947368422
         ],
         "showticklabels": false,
         "type": "linear"
        },
        "yaxis8": {
         "anchor": "x8",
         "autorange": false,
         "domain": [
          0.5349999999999999,
          0.9999999999999999
         ],
         "matches": "y",
         "range": [
          6.394884621840902e-14,
          46.31578947368422
         ],
         "showticklabels": false,
         "type": "linear"
        },
        "yaxis9": {
         "anchor": "x9",
         "autorange": false,
         "domain": [
          0.5349999999999999,
          0.9999999999999999
         ],
         "matches": "y",
         "range": [
          6.394884621840902e-14,
          46.31578947368422
         ],
         "showticklabels": false,
         "type": "linear"
        }
       }
      },
      "image/png": "[encoded data removed]",
      "text/html": [
       "<div>                            <div id=\"f46563c5-14d3-4125-b7cb-5855a1f14426\" class=\"plotly-graph-div\" style=\"height:525px; width:100%;\"></div>            <script type=\"text/javascript\">                require([\"plotly\"], function(Plotly) {                    window.PLOTLYENV=window.PLOTLYENV || {};                                    if (document.getElementById(\"f46563c5-14d3-4125-b7cb-5855a1f14426\")) {                    Plotly.newPlot(                        \"f46563c5-14d3-4125-b7cb-5855a1f14426\",                        [{\"alignmentgroup\":\"True\",\"hovertemplate\":\"Tipo de interacci\\u00f3n=%{x}<br>Tipo_post=C\\u00e1psula<br>Cant=%{y}<extra></extra>\",\"legendgroup\":\"Ayuda a resolver dudas y realiza sugerencias\",\"marker\":{\"color\":\"rgb(102,194,165)\",\"pattern\":{\"shape\":\"\"}},\"name\":\"Ayuda a resolver dudas y realiza sugerencias\",\"offsetgroup\":\"Ayuda a resolver dudas y realiza sugerencias\",\"orientation\":\"v\",\"showlegend\":true,\"textposition\":\"auto\",\"x\":[\"Ayuda a resolver dudas y realiza sugerencias\"],\"xaxis\":\"x6\",\"y\":[0.0],\"yaxis\":\"y6\",\"type\":\"bar\"},{\"alignmentgroup\":\"True\",\"hovertemplate\":\"Tipo de interacci\\u00f3n=%{x}<br>Tipo_post=Encuentros educativos<br>Cant=%{y}<extra></extra>\",\"legendgroup\":\"Ayuda a resolver dudas y realiza sugerencias\",\"marker\":{\"color\":\"rgb(102,194,165)\",\"pattern\":{\"shape\":\"\"}},\"name\":\"Ayuda a resolver dudas y realiza sugerencias\",\"offsetgroup\":\"Ayuda a resolver dudas y realiza sugerencias\",\"orientation\":\"v\",\"showlegend\":false,\"textposition\":\"auto\",\"x\":[\"Ayuda a resolver dudas y realiza sugerencias\"],\"xaxis\":\"x7\",\"y\":[0.0],\"yaxis\":\"y7\",\"type\":\"bar\"},{\"alignmentgroup\":\"True\",\"hovertemplate\":\"Tipo de interacci\\u00f3n=%{x}<br>Tipo_post=Experiencia<br>Cant=%{y}<extra></extra>\",\"legendgroup\":\"Ayuda a resolver dudas y realiza sugerencias\",\"marker\":{\"color\":\"rgb(102,194,165)\",\"pattern\":{\"shape\":\"\"}},\"name\":\"Ayuda a resolver dudas y realiza sugerencias\",\"offsetgroup\":\"Ayuda a resolver dudas y realiza sugerencias\",\"orientation\":\"v\",\"showlegend\":false,\"textposition\":\"auto\",\"x\":[\"Ayuda a resolver dudas y realiza sugerencias\"],\"xaxis\":\"x8\",\"y\":[0.0],\"yaxis\":\"y8\",\"type\":\"bar\"},{\"alignmentgroup\":\"True\",\"hovertemplate\":\"Tipo de interacci\\u00f3n=%{x}<br>Tipo_post=Invitaci\\u00f3n<br>Cant=%{y}<extra></extra>\",\"legendgroup\":\"Ayuda a resolver dudas y realiza sugerencias\",\"marker\":{\"color\":\"rgb(102,194,165)\",\"pattern\":{\"shape\":\"\"}},\"name\":\"Ayuda a resolver dudas y realiza sugerencias\",\"offsetgroup\":\"Ayuda a resolver dudas y realiza sugerencias\",\"orientation\":\"v\",\"showlegend\":false,\"textposition\":\"auto\",\"x\":[\"Ayuda a resolver dudas y realiza sugerencias\"],\"xaxis\":\"x9\",\"y\":[0.0],\"yaxis\":\"y9\",\"type\":\"bar\"},{\"alignmentgroup\":\"True\",\"hovertemplate\":\"Tipo de interacci\\u00f3n=%{x}<br>Tipo_post=Personas Inspiradoras<br>Cant=%{y}<extra></extra>\",\"legendgroup\":\"Ayuda a resolver dudas y realiza sugerencias\",\"marker\":{\"color\":\"rgb(102,194,165)\",\"pattern\":{\"shape\":\"\"}},\"name\":\"Ayuda a resolver dudas y realiza sugerencias\",\"offsetgroup\":\"Ayuda a resolver dudas y realiza sugerencias\",\"orientation\":\"v\",\"showlegend\":false,\"textposition\":\"auto\",\"x\":[\"Ayuda a resolver dudas y realiza sugerencias\"],\"xaxis\":\"x10\",\"y\":[0.0],\"yaxis\":\"y10\",\"type\":\"bar\"},{\"alignmentgroup\":\"True\",\"hovertemplate\":\"Tipo de interacci\\u00f3n=%{x}<br>Tipo_post=Recursos<br>Cant=%{y}<extra></extra>\",\"legendgroup\":\"Ayuda a resolver dudas y realiza sugerencias\",\"marker\":{\"color\":\"rgb(102,194,165)\",\"pattern\":{\"shape\":\"\"}},\"name\":\"Ayuda a resolver dudas y realiza sugerencias\",\"offsetgroup\":\"Ayuda a resolver dudas y realiza sugerencias\",\"orientation\":\"v\",\"showlegend\":false,\"textposition\":\"auto\",\"x\":[\"Ayuda a resolver dudas y realiza sugerencias\"],\"xaxis\":\"x\",\"y\":[0.0],\"yaxis\":\"y\",\"type\":\"bar\"},{\"alignmentgroup\":\"True\",\"hovertemplate\":\"Tipo de interacci\\u00f3n=%{x}<br>Tipo_post=TBT<br>Cant=%{y}<extra></extra>\",\"legendgroup\":\"Ayuda a resolver dudas y realiza sugerencias\",\"marker\":{\"color\":\"rgb(102,194,165)\",\"pattern\":{\"shape\":\"\"}},\"name\":\"Ayuda a resolver dudas y realiza sugerencias\",\"offsetgroup\":\"Ayuda a resolver dudas y realiza sugerencias\",\"orientation\":\"v\",\"showlegend\":false,\"textposition\":\"auto\",\"x\":[\"Ayuda a resolver dudas y realiza sugerencias\"],\"xaxis\":\"x2\",\"y\":[0.0],\"yaxis\":\"y2\",\"type\":\"bar\"},{\"alignmentgroup\":\"True\",\"hovertemplate\":\"Tipo de interacci\\u00f3n=%{x}<br>Tipo_post=Temas Transversales<br>Cant=%{y}<extra></extra>\",\"legendgroup\":\"Ayuda a resolver dudas y realiza sugerencias\",\"marker\":{\"color\":\"rgb(102,194,165)\",\"pattern\":{\"shape\":\"\"}},\"name\":\"Ayuda a resolver dudas y realiza sugerencias\",\"offsetgroup\":\"Ayuda a resolver dudas y realiza sugerencias\",\"orientation\":\"v\",\"showlegend\":false,\"textposition\":\"auto\",\"x\":[\"Ayuda a resolver dudas y realiza sugerencias\"],\"xaxis\":\"x3\",\"y\":[0.0],\"yaxis\":\"y3\",\"type\":\"bar\"},{\"alignmentgroup\":\"True\",\"hovertemplate\":\"Tipo de interacci\\u00f3n=%{x}<br>Tipo_post=Temas transversales<br>Cant=%{y}<extra></extra>\",\"legendgroup\":\"Ayuda a resolver dudas y realiza sugerencias\",\"marker\":{\"color\":\"rgb(102,194,165)\",\"pattern\":{\"shape\":\"\"}},\"name\":\"Ayuda a resolver dudas y realiza sugerencias\",\"offsetgroup\":\"Ayuda a resolver dudas y realiza sugerencias\",\"orientation\":\"v\",\"showlegend\":false,\"textposition\":\"auto\",\"x\":[\"Ayuda a resolver dudas y realiza sugerencias\"],\"xaxis\":\"x4\",\"y\":[0.0],\"yaxis\":\"y4\",\"type\":\"bar\"},{\"alignmentgroup\":\"True\",\"hovertemplate\":\"Tipo de interacci\\u00f3n=%{x}<br>Tipo_post=C\\u00e1psula<br>Cant=%{y}<extra></extra>\",\"legendgroup\":\"Comparte su experiencia frente a la actividad\",\"marker\":{\"color\":\"rgb(252,141,98)\",\"pattern\":{\"shape\":\"\"}},\"name\":\"Comparte su experiencia frente a la actividad\",\"offsetgroup\":\"Comparte su experiencia frente a la actividad\",\"orientation\":\"v\",\"showlegend\":true,\"textposition\":\"auto\",\"x\":[\"Comparte su experiencia frente a la actividad\"],\"xaxis\":\"x6\",\"y\":[0.0],\"yaxis\":\"y6\",\"type\":\"bar\"},{\"alignmentgroup\":\"True\",\"hovertemplate\":\"Tipo de interacci\\u00f3n=%{x}<br>Tipo_post=Encuentros educativos<br>Cant=%{y}<extra></extra>\",\"legendgroup\":\"Comparte su experiencia frente a la actividad\",\"marker\":{\"color\":\"rgb(252,141,98)\",\"pattern\":{\"shape\":\"\"}},\"name\":\"Comparte su experiencia frente a la actividad\",\"offsetgroup\":\"Comparte su experiencia frente a la actividad\",\"orientation\":\"v\",\"showlegend\":false,\"textposition\":\"auto\",\"x\":[\"Comparte su experiencia frente a la actividad\"],\"xaxis\":\"x7\",\"y\":[4.0],\"yaxis\":\"y7\",\"type\":\"bar\"},{\"alignmentgroup\":\"True\",\"hovertemplate\":\"Tipo de interacci\\u00f3n=%{x}<br>Tipo_post=Experiencia<br>Cant=%{y}<extra></extra>\",\"legendgroup\":\"Comparte su experiencia frente a la actividad\",\"marker\":{\"color\":\"rgb(252,141,98)\",\"pattern\":{\"shape\":\"\"}},\"name\":\"Comparte su experiencia frente a la actividad\",\"offsetgroup\":\"Comparte su experiencia frente a la actividad\",\"orientation\":\"v\",\"showlegend\":false,\"textposition\":\"auto\",\"x\":[\"Comparte su experiencia frente a la actividad\"],\"xaxis\":\"x8\",\"y\":[0.0],\"yaxis\":\"y8\",\"type\":\"bar\"},{\"alignmentgroup\":\"True\",\"hovertemplate\":\"Tipo de interacci\\u00f3n=%{x}<br>Tipo_post=Invitaci\\u00f3n<br>Cant=%{y}<extra></extra>\",\"legendgroup\":\"Comparte su experiencia frente a la actividad\",\"marker\":{\"color\":\"rgb(252,141,98)\",\"pattern\":{\"shape\":\"\"}},\"name\":\"Comparte su experiencia frente a la actividad\",\"offsetgroup\":\"Comparte su experiencia frente a la actividad\",\"orientation\":\"v\",\"showlegend\":false,\"textposition\":\"auto\",\"x\":[\"Comparte su experiencia frente a la actividad\"],\"xaxis\":\"x9\",\"y\":[1.0],\"yaxis\":\"y9\",\"type\":\"bar\"},{\"alignmentgroup\":\"True\",\"hovertemplate\":\"Tipo de interacci\\u00f3n=%{x}<br>Tipo_post=Personas Inspiradoras<br>Cant=%{y}<extra></extra>\",\"legendgroup\":\"Comparte su experiencia frente a la actividad\",\"marker\":{\"color\":\"rgb(252,141,98)\",\"pattern\":{\"shape\":\"\"}},\"name\":\"Comparte su experiencia frente a la actividad\",\"offsetgroup\":\"Comparte su experiencia frente a la actividad\",\"orientation\":\"v\",\"showlegend\":false,\"textposition\":\"auto\",\"x\":[\"Comparte su experiencia frente a la actividad\"],\"xaxis\":\"x10\",\"y\":[1.0],\"yaxis\":\"y10\",\"type\":\"bar\"},{\"alignmentgroup\":\"True\",\"hovertemplate\":\"Tipo de interacci\\u00f3n=%{x}<br>Tipo_post=Recursos<br>Cant=%{y}<extra></extra>\",\"legendgroup\":\"Comparte su experiencia frente a la actividad\",\"marker\":{\"color\":\"rgb(252,141,98)\",\"pattern\":{\"shape\":\"\"}},\"name\":\"Comparte su experiencia frente a la actividad\",\"offsetgroup\":\"Comparte su experiencia frente a la actividad\",\"orientation\":\"v\",\"showlegend\":false,\"textposition\":\"auto\",\"x\":[\"Comparte su experiencia frente a la actividad\"],\"xaxis\":\"x\",\"y\":[0.0],\"yaxis\":\"y\",\"type\":\"bar\"},{\"alignmentgroup\":\"True\",\"hovertemplate\":\"Tipo de interacci\\u00f3n=%{x}<br>Tipo_post=TBT<br>Cant=%{y}<extra></extra>\",\"legendgroup\":\"Comparte su experiencia frente a la actividad\",\"marker\":{\"color\":\"rgb(252,141,98)\",\"pattern\":{\"shape\":\"\"}},\"name\":\"Comparte su experiencia frente a la actividad\",\"offsetgroup\":\"Comparte su experiencia frente a la actividad\",\"orientation\":\"v\",\"showlegend\":false,\"textposition\":\"auto\",\"x\":[\"Comparte su experiencia frente a la actividad\"],\"xaxis\":\"x2\",\"y\":[0.0],\"yaxis\":\"y2\",\"type\":\"bar\"},{\"alignmentgroup\":\"True\",\"hovertemplate\":\"Tipo de interacci\\u00f3n=%{x}<br>Tipo_post=Temas Transversales<br>Cant=%{y}<extra></extra>\",\"legendgroup\":\"Comparte su experiencia frente a la actividad\",\"marker\":{\"color\":\"rgb(252,141,98)\",\"pattern\":{\"shape\":\"\"}},\"name\":\"Comparte su experiencia frente a la actividad\",\"offsetgroup\":\"Comparte su experiencia frente a la actividad\",\"orientation\":\"v\",\"showlegend\":false,\"textposition\":\"auto\",\"x\":[\"Comparte su experiencia frente a la actividad\"],\"xaxis\":\"x3\",\"y\":[0.0],\"yaxis\":\"y3\",\"type\":\"bar\"},{\"alignmentgroup\":\"True\",\"hovertemplate\":\"Tipo de interacci\\u00f3n=%{x}<br>Tipo_post=Temas transversales<br>Cant=%{y}<extra></extra>\",\"legendgroup\":\"Comparte su experiencia frente a la actividad\",\"marker\":{\"color\":\"rgb(252,141,98)\",\"pattern\":{\"shape\":\"\"}},\"name\":\"Comparte su experiencia frente a la actividad\",\"offsetgroup\":\"Comparte su experiencia frente a la actividad\",\"orientation\":\"v\",\"showlegend\":false,\"textposition\":\"auto\",\"x\":[\"Comparte su experiencia frente a la actividad\"],\"xaxis\":\"x4\",\"y\":[0.0],\"yaxis\":\"y4\",\"type\":\"bar\"},{\"alignmentgroup\":\"True\",\"hovertemplate\":\"Tipo de interacci\\u00f3n=%{x}<br>Tipo_post=C\\u00e1psula<br>Cant=%{y}<extra></extra>\",\"legendgroup\":\"No indica consolidaci\\u00f3n de CAP\",\"marker\":{\"color\":\"rgb(141,160,203)\",\"pattern\":{\"shape\":\"\"}},\"name\":\"No indica consolidaci\\u00f3n de CAP\",\"offsetgroup\":\"No indica consolidaci\\u00f3n de CAP\",\"orientation\":\"v\",\"showlegend\":true,\"textposition\":\"auto\",\"x\":[\"No indica consolidaci\\u00f3n de CAP\"],\"xaxis\":\"x6\",\"y\":[2.0],\"yaxis\":\"y6\",\"type\":\"bar\"},{\"alignmentgroup\":\"True\",\"hovertemplate\":\"Tipo de interacci\\u00f3n=%{x}<br>Tipo_post=Encuentros educativos<br>Cant=%{y}<extra></extra>\",\"legendgroup\":\"No indica consolidaci\\u00f3n de CAP\",\"marker\":{\"color\":\"rgb(141,160,203)\",\"pattern\":{\"shape\":\"\"}},\"name\":\"No indica consolidaci\\u00f3n de CAP\",\"offsetgroup\":\"No indica consolidaci\\u00f3n de CAP\",\"orientation\":\"v\",\"showlegend\":false,\"textposition\":\"auto\",\"x\":[\"No indica consolidaci\\u00f3n de CAP\"],\"xaxis\":\"x7\",\"y\":[44.0],\"yaxis\":\"y7\",\"type\":\"bar\"},{\"alignmentgroup\":\"True\",\"hovertemplate\":\"Tipo de interacci\\u00f3n=%{x}<br>Tipo_post=Experiencia<br>Cant=%{y}<extra></extra>\",\"legendgroup\":\"No indica consolidaci\\u00f3n de CAP\",\"marker\":{\"color\":\"rgb(141,160,203)\",\"pattern\":{\"shape\":\"\"}},\"name\":\"No indica consolidaci\\u00f3n de CAP\",\"offsetgroup\":\"No indica consolidaci\\u00f3n de CAP\",\"orientation\":\"v\",\"showlegend\":false,\"textposition\":\"auto\",\"x\":[\"No indica consolidaci\\u00f3n de CAP\"],\"xaxis\":\"x8\",\"y\":[15.0],\"yaxis\":\"y8\",\"type\":\"bar\"},{\"alignmentgroup\":\"True\",\"hovertemplate\":\"Tipo de interacci\\u00f3n=%{x}<br>Tipo_post=Invitaci\\u00f3n<br>Cant=%{y}<extra></extra>\",\"legendgroup\":\"No indica consolidaci\\u00f3n de CAP\",\"marker\":{\"color\":\"rgb(141,160,203)\",\"pattern\":{\"shape\":\"\"}},\"name\":\"No indica consolidaci\\u00f3n de CAP\",\"offsetgroup\":\"No indica consolidaci\\u00f3n de CAP\",\"orientation\":\"v\",\"showlegend\":false,\"textposition\":\"auto\",\"x\":[\"No indica consolidaci\\u00f3n de CAP\"],\"xaxis\":\"x9\",\"y\":[16.0],\"yaxis\":\"y9\",\"type\":\"bar\"},{\"alignmentgroup\":\"True\",\"hovertemplate\":\"Tipo de interacci\\u00f3n=%{x}<br>Tipo_post=Personas Inspiradoras<br>Cant=%{y}<extra></extra>\",\"legendgroup\":\"No indica consolidaci\\u00f3n de CAP\",\"marker\":{\"color\":\"rgb(141,160,203)\",\"pattern\":{\"shape\":\"\"}},\"name\":\"No indica consolidaci\\u00f3n de CAP\",\"offsetgroup\":\"No indica consolidaci\\u00f3n de CAP\",\"orientation\":\"v\",\"showlegend\":false,\"textposition\":\"auto\",\"x\":[\"No indica consolidaci\\u00f3n de CAP\"],\"xaxis\":\"x10\",\"y\":[8.0],\"yaxis\":\"y10\",\"type\":\"bar\"},{\"alignmentgroup\":\"True\",\"hovertemplate\":\"Tipo de interacci\\u00f3n=%{x}<br>Tipo_post=Recursos<br>Cant=%{y}<extra></extra>\",\"legendgroup\":\"No indica consolidaci\\u00f3n de CAP\",\"marker\":{\"color\":\"rgb(141,160,203)\",\"pattern\":{\"shape\":\"\"}},\"name\":\"No indica consolidaci\\u00f3n de CAP\",\"offsetgroup\":\"No indica consolidaci\\u00f3n de CAP\",\"orientation\":\"v\",\"showlegend\":false,\"textposition\":\"auto\",\"x\":[\"No indica consolidaci\\u00f3n de CAP\"],\"xaxis\":\"x\",\"y\":[6.0],\"yaxis\":\"y\",\"type\":\"bar\"},{\"alignmentgroup\":\"True\",\"hovertemplate\":\"Tipo de interacci\\u00f3n=%{x}<br>Tipo_post=TBT<br>Cant=%{y}<extra></extra>\",\"legendgroup\":\"No indica consolidaci\\u00f3n de CAP\",\"marker\":{\"color\":\"rgb(141,160,203)\",\"pattern\":{\"shape\":\"\"}},\"name\":\"No indica consolidaci\\u00f3n de CAP\",\"offsetgroup\":\"No indica consolidaci\\u00f3n de CAP\",\"orientation\":\"v\",\"showlegend\":false,\"textposition\":\"auto\",\"x\":[\"No indica consolidaci\\u00f3n de CAP\"],\"xaxis\":\"x2\",\"y\":[12.0],\"yaxis\":\"y2\",\"type\":\"bar\"},{\"alignmentgroup\":\"True\",\"hovertemplate\":\"Tipo de interacci\\u00f3n=%{x}<br>Tipo_post=Temas Transversales<br>Cant=%{y}<extra></extra>\",\"legendgroup\":\"No indica consolidaci\\u00f3n de CAP\",\"marker\":{\"color\":\"rgb(141,160,203)\",\"pattern\":{\"shape\":\"\"}},\"name\":\"No indica consolidaci\\u00f3n de CAP\",\"offsetgroup\":\"No indica consolidaci\\u00f3n de CAP\",\"orientation\":\"v\",\"showlegend\":false,\"textposition\":\"auto\",\"x\":[\"No indica consolidaci\\u00f3n de CAP\"],\"xaxis\":\"x3\",\"y\":[1.0],\"yaxis\":\"y3\",\"type\":\"bar\"},{\"alignmentgroup\":\"True\",\"hovertemplate\":\"Tipo de interacci\\u00f3n=%{x}<br>Tipo_post=Temas transversales<br>Cant=%{y}<extra></extra>\",\"legendgroup\":\"No indica consolidaci\\u00f3n de CAP\",\"marker\":{\"color\":\"rgb(141,160,203)\",\"pattern\":{\"shape\":\"\"}},\"name\":\"No indica consolidaci\\u00f3n de CAP\",\"offsetgroup\":\"No indica consolidaci\\u00f3n de CAP\",\"orientation\":\"v\",\"showlegend\":false,\"textposition\":\"auto\",\"x\":[\"No indica consolidaci\\u00f3n de CAP\"],\"xaxis\":\"x4\",\"y\":[3.0],\"yaxis\":\"y4\",\"type\":\"bar\"},{\"alignmentgroup\":\"True\",\"hovertemplate\":\"Tipo de interacci\\u00f3n=%{x}<br>Tipo_post=C\\u00e1psula<br>Cant=%{y}<extra></extra>\",\"legendgroup\":\"Participa en una discusi\\u00f3n grupal\",\"marker\":{\"color\":\"rgb(231,138,195)\",\"pattern\":{\"shape\":\"\"}},\"name\":\"Participa en una discusi\\u00f3n grupal\",\"offsetgroup\":\"Participa en una discusi\\u00f3n grupal\",\"orientation\":\"v\",\"showlegend\":true,\"textposition\":\"auto\",\"x\":[\"Participa en una discusi\\u00f3n grupal\"],\"xaxis\":\"x6\",\"y\":[0.0],\"yaxis\":\"y6\",\"type\":\"bar\"},{\"alignmentgroup\":\"True\",\"hovertemplate\":\"Tipo de interacci\\u00f3n=%{x}<br>Tipo_post=Encuentros educativos<br>Cant=%{y}<extra></extra>\",\"legendgroup\":\"Participa en una discusi\\u00f3n grupal\",\"marker\":{\"color\":\"rgb(231,138,195)\",\"pattern\":{\"shape\":\"\"}},\"name\":\"Participa en una discusi\\u00f3n grupal\",\"offsetgroup\":\"Participa en una discusi\\u00f3n grupal\",\"orientation\":\"v\",\"showlegend\":false,\"textposition\":\"auto\",\"x\":[\"Participa en una discusi\\u00f3n grupal\"],\"xaxis\":\"x7\",\"y\":[0.0],\"yaxis\":\"y7\",\"type\":\"bar\"},{\"alignmentgroup\":\"True\",\"hovertemplate\":\"Tipo de interacci\\u00f3n=%{x}<br>Tipo_post=Experiencia<br>Cant=%{y}<extra></extra>\",\"legendgroup\":\"Participa en una discusi\\u00f3n grupal\",\"marker\":{\"color\":\"rgb(231,138,195)\",\"pattern\":{\"shape\":\"\"}},\"name\":\"Participa en una discusi\\u00f3n grupal\",\"offsetgroup\":\"Participa en una discusi\\u00f3n grupal\",\"orientation\":\"v\",\"showlegend\":false,\"textposition\":\"auto\",\"x\":[\"Participa en una discusi\\u00f3n grupal\"],\"xaxis\":\"x8\",\"y\":[0.0],\"yaxis\":\"y8\",\"type\":\"bar\"},{\"alignmentgroup\":\"True\",\"hovertemplate\":\"Tipo de interacci\\u00f3n=%{x}<br>Tipo_post=Invitaci\\u00f3n<br>Cant=%{y}<extra></extra>\",\"legendgroup\":\"Participa en una discusi\\u00f3n grupal\",\"marker\":{\"color\":\"rgb(231,138,195)\",\"pattern\":{\"shape\":\"\"}},\"name\":\"Participa en una discusi\\u00f3n grupal\",\"offsetgroup\":\"Participa en una discusi\\u00f3n grupal\",\"orientation\":\"v\",\"showlegend\":false,\"textposition\":\"auto\",\"x\":[\"Participa en una discusi\\u00f3n grupal\"],\"xaxis\":\"x9\",\"y\":[0.0],\"yaxis\":\"y9\",\"type\":\"bar\"},{\"alignmentgroup\":\"True\",\"hovertemplate\":\"Tipo de interacci\\u00f3n=%{x}<br>Tipo_post=Personas Inspiradoras<br>Cant=%{y}<extra></extra>\",\"legendgroup\":\"Participa en una discusi\\u00f3n grupal\",\"marker\":{\"color\":\"rgb(231,138,195)\",\"pattern\":{\"shape\":\"\"}},\"name\":\"Participa en una discusi\\u00f3n grupal\",\"offsetgroup\":\"Participa en una discusi\\u00f3n grupal\",\"orientation\":\"v\",\"showlegend\":false,\"textposition\":\"auto\",\"x\":[\"Participa en una discusi\\u00f3n grupal\"],\"xaxis\":\"x10\",\"y\":[0.0],\"yaxis\":\"y10\",\"type\":\"bar\"},{\"alignmentgroup\":\"True\",\"hovertemplate\":\"Tipo de interacci\\u00f3n=%{x}<br>Tipo_post=Recursos<br>Cant=%{y}<extra></extra>\",\"legendgroup\":\"Participa en una discusi\\u00f3n grupal\",\"marker\":{\"color\":\"rgb(231,138,195)\",\"pattern\":{\"shape\":\"\"}},\"name\":\"Participa en una discusi\\u00f3n grupal\",\"offsetgroup\":\"Participa en una discusi\\u00f3n grupal\",\"orientation\":\"v\",\"showlegend\":false,\"textposition\":\"auto\",\"x\":[\"Participa en una discusi\\u00f3n grupal\"],\"xaxis\":\"x\",\"y\":[0.0],\"yaxis\":\"y\",\"type\":\"bar\"},{\"alignmentgroup\":\"True\",\"hovertemplate\":\"Tipo de interacci\\u00f3n=%{x}<br>Tipo_post=TBT<br>Cant=%{y}<extra></extra>\",\"legendgroup\":\"Participa en una discusi\\u00f3n grupal\",\"marker\":{\"color\":\"rgb(231,138,195)\",\"pattern\":{\"shape\":\"\"}},\"name\":\"Participa en una discusi\\u00f3n grupal\",\"offsetgroup\":\"Participa en una discusi\\u00f3n grupal\",\"orientation\":\"v\",\"showlegend\":false,\"textposition\":\"auto\",\"x\":[\"Participa en una discusi\\u00f3n grupal\"],\"xaxis\":\"x2\",\"y\":[0.0],\"yaxis\":\"y2\",\"type\":\"bar\"},{\"alignmentgroup\":\"True\",\"hovertemplate\":\"Tipo de interacci\\u00f3n=%{x}<br>Tipo_post=Temas Transversales<br>Cant=%{y}<extra></extra>\",\"legendgroup\":\"Participa en una discusi\\u00f3n grupal\",\"marker\":{\"color\":\"rgb(231,138,195)\",\"pattern\":{\"shape\":\"\"}},\"name\":\"Participa en una discusi\\u00f3n grupal\",\"offsetgroup\":\"Participa en una discusi\\u00f3n grupal\",\"orientation\":\"v\",\"showlegend\":false,\"textposition\":\"auto\",\"x\":[\"Participa en una discusi\\u00f3n grupal\"],\"xaxis\":\"x3\",\"y\":[0.0],\"yaxis\":\"y3\",\"type\":\"bar\"},{\"alignmentgroup\":\"True\",\"hovertemplate\":\"Tipo de interacci\\u00f3n=%{x}<br>Tipo_post=Temas transversales<br>Cant=%{y}<extra></extra>\",\"legendgroup\":\"Participa en una discusi\\u00f3n grupal\",\"marker\":{\"color\":\"rgb(231,138,195)\",\"pattern\":{\"shape\":\"\"}},\"name\":\"Participa en una discusi\\u00f3n grupal\",\"offsetgroup\":\"Participa en una discusi\\u00f3n grupal\",\"orientation\":\"v\",\"showlegend\":false,\"textposition\":\"auto\",\"x\":[\"Participa en una discusi\\u00f3n grupal\"],\"xaxis\":\"x4\",\"y\":[0.0],\"yaxis\":\"y4\",\"type\":\"bar\"},{\"alignmentgroup\":\"True\",\"hovertemplate\":\"Tipo de interacci\\u00f3n=%{x}<br>Tipo_post=C\\u00e1psula<br>Cant=%{y}<extra></extra>\",\"legendgroup\":\"Positivo para comunidad de pr\\u00e1ctica\",\"marker\":{\"color\":\"rgb(166,216,84)\",\"pattern\":{\"shape\":\"\"}},\"name\":\"Positivo para comunidad de pr\\u00e1ctica\",\"offsetgroup\":\"Positivo para comunidad de pr\\u00e1ctica\",\"orientation\":\"v\",\"showlegend\":true,\"textposition\":\"auto\",\"x\":[\"Positivo para comunidad de pr\\u00e1ctica\"],\"xaxis\":\"x6\",\"y\":[2.0],\"yaxis\":\"y6\",\"type\":\"bar\"},{\"alignmentgroup\":\"True\",\"hovertemplate\":\"Tipo de interacci\\u00f3n=%{x}<br>Tipo_post=Encuentros educativos<br>Cant=%{y}<extra></extra>\",\"legendgroup\":\"Positivo para comunidad de pr\\u00e1ctica\",\"marker\":{\"color\":\"rgb(166,216,84)\",\"pattern\":{\"shape\":\"\"}},\"name\":\"Positivo para comunidad de pr\\u00e1ctica\",\"offsetgroup\":\"Positivo para comunidad de pr\\u00e1ctica\",\"orientation\":\"v\",\"showlegend\":false,\"textposition\":\"auto\",\"x\":[\"Positivo para comunidad de pr\\u00e1ctica\"],\"xaxis\":\"x7\",\"y\":[13.0],\"yaxis\":\"y7\",\"type\":\"bar\"},{\"alignmentgroup\":\"True\",\"hovertemplate\":\"Tipo de interacci\\u00f3n=%{x}<br>Tipo_post=Experiencia<br>Cant=%{y}<extra></extra>\",\"legendgroup\":\"Positivo para comunidad de pr\\u00e1ctica\",\"marker\":{\"color\":\"rgb(166,216,84)\",\"pattern\":{\"shape\":\"\"}},\"name\":\"Positivo para comunidad de pr\\u00e1ctica\",\"offsetgroup\":\"Positivo para comunidad de pr\\u00e1ctica\",\"orientation\":\"v\",\"showlegend\":false,\"textposition\":\"auto\",\"x\":[\"Positivo para comunidad de pr\\u00e1ctica\"],\"xaxis\":\"x8\",\"y\":[5.0],\"yaxis\":\"y8\",\"type\":\"bar\"},{\"alignmentgroup\":\"True\",\"hovertemplate\":\"Tipo de interacci\\u00f3n=%{x}<br>Tipo_post=Invitaci\\u00f3n<br>Cant=%{y}<extra></extra>\",\"legendgroup\":\"Positivo para comunidad de pr\\u00e1ctica\",\"marker\":{\"color\":\"rgb(166,216,84)\",\"pattern\":{\"shape\":\"\"}},\"name\":\"Positivo para comunidad de pr\\u00e1ctica\",\"offsetgroup\":\"Positivo para comunidad de pr\\u00e1ctica\",\"orientation\":\"v\",\"showlegend\":false,\"textposition\":\"auto\",\"x\":[\"Positivo para comunidad de pr\\u00e1ctica\"],\"xaxis\":\"x9\",\"y\":[8.0],\"yaxis\":\"y9\",\"type\":\"bar\"},{\"alignmentgroup\":\"True\",\"hovertemplate\":\"Tipo de interacci\\u00f3n=%{x}<br>Tipo_post=Personas Inspiradoras<br>Cant=%{y}<extra></extra>\",\"legendgroup\":\"Positivo para comunidad de pr\\u00e1ctica\",\"marker\":{\"color\":\"rgb(166,216,84)\",\"pattern\":{\"shape\":\"\"}},\"name\":\"Positivo para comunidad de pr\\u00e1ctica\",\"offsetgroup\":\"Positivo para comunidad de pr\\u00e1ctica\",\"orientation\":\"v\",\"showlegend\":false,\"textposition\":\"auto\",\"x\":[\"Positivo para comunidad de pr\\u00e1ctica\"],\"xaxis\":\"x10\",\"y\":[0.0],\"yaxis\":\"y10\",\"type\":\"bar\"},{\"alignmentgroup\":\"True\",\"hovertemplate\":\"Tipo de interacci\\u00f3n=%{x}<br>Tipo_post=Recursos<br>Cant=%{y}<extra></extra>\",\"legendgroup\":\"Positivo para comunidad de pr\\u00e1ctica\",\"marker\":{\"color\":\"rgb(166,216,84)\",\"pattern\":{\"shape\":\"\"}},\"name\":\"Positivo para comunidad de pr\\u00e1ctica\",\"offsetgroup\":\"Positivo para comunidad de pr\\u00e1ctica\",\"orientation\":\"v\",\"showlegend\":false,\"textposition\":\"auto\",\"x\":[\"Positivo para comunidad de pr\\u00e1ctica\"],\"xaxis\":\"x\",\"y\":[2.0],\"yaxis\":\"y\",\"type\":\"bar\"},{\"alignmentgroup\":\"True\",\"hovertemplate\":\"Tipo de interacci\\u00f3n=%{x}<br>Tipo_post=TBT<br>Cant=%{y}<extra></extra>\",\"legendgroup\":\"Positivo para comunidad de pr\\u00e1ctica\",\"marker\":{\"color\":\"rgb(166,216,84)\",\"pattern\":{\"shape\":\"\"}},\"name\":\"Positivo para comunidad de pr\\u00e1ctica\",\"offsetgroup\":\"Positivo para comunidad de pr\\u00e1ctica\",\"orientation\":\"v\",\"showlegend\":false,\"textposition\":\"auto\",\"x\":[\"Positivo para comunidad de pr\\u00e1ctica\"],\"xaxis\":\"x2\",\"y\":[11.0],\"yaxis\":\"y2\",\"type\":\"bar\"},{\"alignmentgroup\":\"True\",\"hovertemplate\":\"Tipo de interacci\\u00f3n=%{x}<br>Tipo_post=Temas Transversales<br>Cant=%{y}<extra></extra>\",\"legendgroup\":\"Positivo para comunidad de pr\\u00e1ctica\",\"marker\":{\"color\":\"rgb(166,216,84)\",\"pattern\":{\"shape\":\"\"}},\"name\":\"Positivo para comunidad de pr\\u00e1ctica\",\"offsetgroup\":\"Positivo para comunidad de pr\\u00e1ctica\",\"orientation\":\"v\",\"showlegend\":false,\"textposition\":\"auto\",\"x\":[\"Positivo para comunidad de pr\\u00e1ctica\"],\"xaxis\":\"x3\",\"y\":[2.0],\"yaxis\":\"y3\",\"type\":\"bar\"},{\"alignmentgroup\":\"True\",\"hovertemplate\":\"Tipo de interacci\\u00f3n=%{x}<br>Tipo_post=Temas transversales<br>Cant=%{y}<extra></extra>\",\"legendgroup\":\"Positivo para comunidad de pr\\u00e1ctica\",\"marker\":{\"color\":\"rgb(166,216,84)\",\"pattern\":{\"shape\":\"\"}},\"name\":\"Positivo para comunidad de pr\\u00e1ctica\",\"offsetgroup\":\"Positivo para comunidad de pr\\u00e1ctica\",\"orientation\":\"v\",\"showlegend\":false,\"textposition\":\"auto\",\"x\":[\"Positivo para comunidad de pr\\u00e1ctica\"],\"xaxis\":\"x4\",\"y\":[2.0],\"yaxis\":\"y4\",\"type\":\"bar\"},{\"alignmentgroup\":\"True\",\"hovertemplate\":\"Tipo de interacci\\u00f3n=%{x}<br>Tipo_post=C\\u00e1psula<br>Cant=%{y}<extra></extra>\",\"legendgroup\":\"Solicita apoyo para resolver sus dudas\",\"marker\":{\"color\":\"rgb(255,217,47)\",\"pattern\":{\"shape\":\"\"}},\"name\":\"Solicita apoyo para resolver sus dudas\",\"offsetgroup\":\"Solicita apoyo para resolver sus dudas\",\"orientation\":\"v\",\"showlegend\":true,\"textposition\":\"auto\",\"x\":[\"Solicita apoyo para resolver sus dudas\"],\"xaxis\":\"x6\",\"y\":[1.0],\"yaxis\":\"y6\",\"type\":\"bar\"},{\"alignmentgroup\":\"True\",\"hovertemplate\":\"Tipo de interacci\\u00f3n=%{x}<br>Tipo_post=Encuentros educativos<br>Cant=%{y}<extra></extra>\",\"legendgroup\":\"Solicita apoyo para resolver sus dudas\",\"marker\":{\"color\":\"rgb(255,217,47)\",\"pattern\":{\"shape\":\"\"}},\"name\":\"Solicita apoyo para resolver sus dudas\",\"offsetgroup\":\"Solicita apoyo para resolver sus dudas\",\"orientation\":\"v\",\"showlegend\":false,\"textposition\":\"auto\",\"x\":[\"Solicita apoyo para resolver sus dudas\"],\"xaxis\":\"x7\",\"y\":[19.0],\"yaxis\":\"y7\",\"type\":\"bar\"},{\"alignmentgroup\":\"True\",\"hovertemplate\":\"Tipo de interacci\\u00f3n=%{x}<br>Tipo_post=Experiencia<br>Cant=%{y}<extra></extra>\",\"legendgroup\":\"Solicita apoyo para resolver sus dudas\",\"marker\":{\"color\":\"rgb(255,217,47)\",\"pattern\":{\"shape\":\"\"}},\"name\":\"Solicita apoyo para resolver sus dudas\",\"offsetgroup\":\"Solicita apoyo para resolver sus dudas\",\"orientation\":\"v\",\"showlegend\":false,\"textposition\":\"auto\",\"x\":[\"Solicita apoyo para resolver sus dudas\"],\"xaxis\":\"x8\",\"y\":[0.0],\"yaxis\":\"y8\",\"type\":\"bar\"},{\"alignmentgroup\":\"True\",\"hovertemplate\":\"Tipo de interacci\\u00f3n=%{x}<br>Tipo_post=Invitaci\\u00f3n<br>Cant=%{y}<extra></extra>\",\"legendgroup\":\"Solicita apoyo para resolver sus dudas\",\"marker\":{\"color\":\"rgb(255,217,47)\",\"pattern\":{\"shape\":\"\"}},\"name\":\"Solicita apoyo para resolver sus dudas\",\"offsetgroup\":\"Solicita apoyo para resolver sus dudas\",\"orientation\":\"v\",\"showlegend\":false,\"textposition\":\"auto\",\"x\":[\"Solicita apoyo para resolver sus dudas\"],\"xaxis\":\"x9\",\"y\":[22.0],\"yaxis\":\"y9\",\"type\":\"bar\"},{\"alignmentgroup\":\"True\",\"hovertemplate\":\"Tipo de interacci\\u00f3n=%{x}<br>Tipo_post=Personas Inspiradoras<br>Cant=%{y}<extra></extra>\",\"legendgroup\":\"Solicita apoyo para resolver sus dudas\",\"marker\":{\"color\":\"rgb(255,217,47)\",\"pattern\":{\"shape\":\"\"}},\"name\":\"Solicita apoyo para resolver sus dudas\",\"offsetgroup\":\"Solicita apoyo para resolver sus dudas\",\"orientation\":\"v\",\"showlegend\":false,\"textposition\":\"auto\",\"x\":[\"Solicita apoyo para resolver sus dudas\"],\"xaxis\":\"x10\",\"y\":[0.0],\"yaxis\":\"y10\",\"type\":\"bar\"},{\"alignmentgroup\":\"True\",\"hovertemplate\":\"Tipo de interacci\\u00f3n=%{x}<br>Tipo_post=Recursos<br>Cant=%{y}<extra></extra>\",\"legendgroup\":\"Solicita apoyo para resolver sus dudas\",\"marker\":{\"color\":\"rgb(255,217,47)\",\"pattern\":{\"shape\":\"\"}},\"name\":\"Solicita apoyo para resolver sus dudas\",\"offsetgroup\":\"Solicita apoyo para resolver sus dudas\",\"orientation\":\"v\",\"showlegend\":false,\"textposition\":\"auto\",\"x\":[\"Solicita apoyo para resolver sus dudas\"],\"xaxis\":\"x\",\"y\":[0.0],\"yaxis\":\"y\",\"type\":\"bar\"},{\"alignmentgroup\":\"True\",\"hovertemplate\":\"Tipo de interacci\\u00f3n=%{x}<br>Tipo_post=TBT<br>Cant=%{y}<extra></extra>\",\"legendgroup\":\"Solicita apoyo para resolver sus dudas\",\"marker\":{\"color\":\"rgb(255,217,47)\",\"pattern\":{\"shape\":\"\"}},\"name\":\"Solicita apoyo para resolver sus dudas\",\"offsetgroup\":\"Solicita apoyo para resolver sus dudas\",\"orientation\":\"v\",\"showlegend\":false,\"textposition\":\"auto\",\"x\":[\"Solicita apoyo para resolver sus dudas\"],\"xaxis\":\"x2\",\"y\":[1.0],\"yaxis\":\"y2\",\"type\":\"bar\"},{\"alignmentgroup\":\"True\",\"hovertemplate\":\"Tipo de interacci\\u00f3n=%{x}<br>Tipo_post=Temas Transversales<br>Cant=%{y}<extra></extra>\",\"legendgroup\":\"Solicita apoyo para resolver sus dudas\",\"marker\":{\"color\":\"rgb(255,217,47)\",\"pattern\":{\"shape\":\"\"}},\"name\":\"Solicita apoyo para resolver sus dudas\",\"offsetgroup\":\"Solicita apoyo para resolver sus dudas\",\"orientation\":\"v\",\"showlegend\":false,\"textposition\":\"auto\",\"x\":[\"Solicita apoyo para resolver sus dudas\"],\"xaxis\":\"x3\",\"y\":[0.0],\"yaxis\":\"y3\",\"type\":\"bar\"},{\"alignmentgroup\":\"True\",\"hovertemplate\":\"Tipo de interacci\\u00f3n=%{x}<br>Tipo_post=Temas transversales<br>Cant=%{y}<extra></extra>\",\"legendgroup\":\"Solicita apoyo para resolver sus dudas\",\"marker\":{\"color\":\"rgb(255,217,47)\",\"pattern\":{\"shape\":\"\"}},\"name\":\"Solicita apoyo para resolver sus dudas\",\"offsetgroup\":\"Solicita apoyo para resolver sus dudas\",\"orientation\":\"v\",\"showlegend\":false,\"textposition\":\"auto\",\"x\":[\"Solicita apoyo para resolver sus dudas\"],\"xaxis\":\"x4\",\"y\":[0.0],\"yaxis\":\"y4\",\"type\":\"bar\"},{\"alignmentgroup\":\"True\",\"hovertemplate\":\"Tipo de interacci\\u00f3n=%{x}<br>Tipo_post=C\\u00e1psula<br>Cant=%{y}<extra></extra>\",\"legendgroup\":\"Tendencia a trabajo individual\",\"marker\":{\"color\":\"rgb(229,196,148)\",\"pattern\":{\"shape\":\"\"}},\"name\":\"Tendencia a trabajo individual\",\"offsetgroup\":\"Tendencia a trabajo individual\",\"orientation\":\"v\",\"showlegend\":true,\"textposition\":\"auto\",\"x\":[\"Tendencia a trabajo individual\"],\"xaxis\":\"x6\",\"y\":[0.0],\"yaxis\":\"y6\",\"type\":\"bar\"},{\"alignmentgroup\":\"True\",\"hovertemplate\":\"Tipo de interacci\\u00f3n=%{x}<br>Tipo_post=Encuentros educativos<br>Cant=%{y}<extra></extra>\",\"legendgroup\":\"Tendencia a trabajo individual\",\"marker\":{\"color\":\"rgb(229,196,148)\",\"pattern\":{\"shape\":\"\"}},\"name\":\"Tendencia a trabajo individual\",\"offsetgroup\":\"Tendencia a trabajo individual\",\"orientation\":\"v\",\"showlegend\":false,\"textposition\":\"auto\",\"x\":[\"Tendencia a trabajo individual\"],\"xaxis\":\"x7\",\"y\":[0.0],\"yaxis\":\"y7\",\"type\":\"bar\"},{\"alignmentgroup\":\"True\",\"hovertemplate\":\"Tipo de interacci\\u00f3n=%{x}<br>Tipo_post=Experiencia<br>Cant=%{y}<extra></extra>\",\"legendgroup\":\"Tendencia a trabajo individual\",\"marker\":{\"color\":\"rgb(229,196,148)\",\"pattern\":{\"shape\":\"\"}},\"name\":\"Tendencia a trabajo individual\",\"offsetgroup\":\"Tendencia a trabajo individual\",\"orientation\":\"v\",\"showlegend\":false,\"textposition\":\"auto\",\"x\":[\"Tendencia a trabajo individual\"],\"xaxis\":\"x8\",\"y\":[0.0],\"yaxis\":\"y8\",\"type\":\"bar\"},{\"alignmentgroup\":\"True\",\"hovertemplate\":\"Tipo de interacci\\u00f3n=%{x}<br>Tipo_post=Invitaci\\u00f3n<br>Cant=%{y}<extra></extra>\",\"legendgroup\":\"Tendencia a trabajo individual\",\"marker\":{\"color\":\"rgb(229,196,148)\",\"pattern\":{\"shape\":\"\"}},\"name\":\"Tendencia a trabajo individual\",\"offsetgroup\":\"Tendencia a trabajo individual\",\"orientation\":\"v\",\"showlegend\":false,\"textposition\":\"auto\",\"x\":[\"Tendencia a trabajo individual\"],\"xaxis\":\"x9\",\"y\":[0.0],\"yaxis\":\"y9\",\"type\":\"bar\"},{\"alignmentgroup\":\"True\",\"hovertemplate\":\"Tipo de interacci\\u00f3n=%{x}<br>Tipo_post=Personas Inspiradoras<br>Cant=%{y}<extra></extra>\",\"legendgroup\":\"Tendencia a trabajo individual\",\"marker\":{\"color\":\"rgb(229,196,148)\",\"pattern\":{\"shape\":\"\"}},\"name\":\"Tendencia a trabajo individual\",\"offsetgroup\":\"Tendencia a trabajo individual\",\"orientation\":\"v\",\"showlegend\":false,\"textposition\":\"auto\",\"x\":[\"Tendencia a trabajo individual\"],\"xaxis\":\"x10\",\"y\":[0.0],\"yaxis\":\"y10\",\"type\":\"bar\"},{\"alignmentgroup\":\"True\",\"hovertemplate\":\"Tipo de interacci\\u00f3n=%{x}<br>Tipo_post=Recursos<br>Cant=%{y}<extra></extra>\",\"legendgroup\":\"Tendencia a trabajo individual\",\"marker\":{\"color\":\"rgb(229,196,148)\",\"pattern\":{\"shape\":\"\"}},\"name\":\"Tendencia a trabajo individual\",\"offsetgroup\":\"Tendencia a trabajo individual\",\"orientation\":\"v\",\"showlegend\":false,\"textposition\":\"auto\",\"x\":[\"Tendencia a trabajo individual\"],\"xaxis\":\"x\",\"y\":[0.0],\"yaxis\":\"y\",\"type\":\"bar\"},{\"alignmentgroup\":\"True\",\"hovertemplate\":\"Tipo de interacci\\u00f3n=%{x}<br>Tipo_post=TBT<br>Cant=%{y}<extra></extra>\",\"legendgroup\":\"Tendencia a trabajo individual\",\"marker\":{\"color\":\"rgb(229,196,148)\",\"pattern\":{\"shape\":\"\"}},\"name\":\"Tendencia a trabajo individual\",\"offsetgroup\":\"Tendencia a trabajo individual\",\"orientation\":\"v\",\"showlegend\":false,\"textposition\":\"auto\",\"x\":[\"Tendencia a trabajo individual\"],\"xaxis\":\"x2\",\"y\":[0.0],\"yaxis\":\"y2\",\"type\":\"bar\"},{\"alignmentgroup\":\"True\",\"hovertemplate\":\"Tipo de interacci\\u00f3n=%{x}<br>Tipo_post=Temas Transversales<br>Cant=%{y}<extra></extra>\",\"legendgroup\":\"Tendencia a trabajo individual\",\"marker\":{\"color\":\"rgb(229,196,148)\",\"pattern\":{\"shape\":\"\"}},\"name\":\"Tendencia a trabajo individual\",\"offsetgroup\":\"Tendencia a trabajo individual\",\"orientation\":\"v\",\"showlegend\":false,\"textposition\":\"auto\",\"x\":[\"Tendencia a trabajo individual\"],\"xaxis\":\"x3\",\"y\":[0.0],\"yaxis\":\"y3\",\"type\":\"bar\"},{\"alignmentgroup\":\"True\",\"hovertemplate\":\"Tipo de interacci\\u00f3n=%{x}<br>Tipo_post=Temas transversales<br>Cant=%{y}<extra></extra>\",\"legendgroup\":\"Tendencia a trabajo individual\",\"marker\":{\"color\":\"rgb(229,196,148)\",\"pattern\":{\"shape\":\"\"}},\"name\":\"Tendencia a trabajo individual\",\"offsetgroup\":\"Tendencia a trabajo individual\",\"orientation\":\"v\",\"showlegend\":false,\"textposition\":\"auto\",\"x\":[\"Tendencia a trabajo individual\"],\"xaxis\":\"x4\",\"y\":[0.0],\"yaxis\":\"y4\",\"type\":\"bar\"}],                        {\"template\":{\"data\":{\"barpolar\":[{\"marker\":{\"line\":{\"color\":\"white\",\"width\":0.5},\"pattern\":{\"fillmode\":\"overlay\",\"size\":10,\"solidity\":0.2}},\"type\":\"barpolar\"}],\"bar\":[{\"error_x\":{\"color\":\"#2a3f5f\"},\"error_y\":{\"color\":\"#2a3f5f\"},\"marker\":{\"line\":{\"color\":\"white\",\"width\":0.5},\"pattern\":{\"fillmode\":\"overlay\",\"size\":10,\"solidity\":0.2}},\"type\":\"bar\"}],\"carpet\":[{\"aaxis\":{\"endlinecolor\":\"#2a3f5f\",\"gridcolor\":\"#C8D4E3\",\"linecolor\":\"#C8D4E3\",\"minorgridcolor\":\"#C8D4E3\",\"startlinecolor\":\"#2a3f5f\"},\"baxis\":{\"endlinecolor\":\"#2a3f5f\",\"gridcolor\":\"#C8D4E3\",\"linecolor\":\"#C8D4E3\",\"minorgridcolor\":\"#C8D4E3\",\"startlinecolor\":\"#2a3f5f\"},\"type\":\"carpet\"}],\"choropleth\":[{\"colorbar\":{\"outlinewidth\":0,\"ticks\":\"\"},\"type\":\"choropleth\"}],\"contourcarpet\":[{\"colorbar\":{\"outlinewidth\":0,\"ticks\":\"\"},\"type\":\"contourcarpet\"}],\"contour\":[{\"colorbar\":{\"outlinewidth\":0,\"ticks\":\"\"},\"colorscale\":[[0.0,\"#0d0887\"],[0.1111111111111111,\"#46039f\"],[0.2222222222222222,\"#7201a8\"],[0.3333333333333333,\"#9c179e\"],[0.4444444444444444,\"#bd3786\"],[0.5555555555555556,\"#d8576b\"],[0.6666666666666666,\"#ed7953\"],[0.7777777777777778,\"#fb9f3a\"],[0.8888888888888888,\"#fdca26\"],[1.0,\"#f0f921\"]],\"type\":\"contour\"}],\"heatmapgl\":[{\"colorbar\":{\"outlinewidth\":0,\"ticks\":\"\"},\"colorscale\":[[0.0,\"#0d0887\"],[0.1111111111111111,\"#46039f\"],[0.2222222222222222,\"#7201a8\"],[0.3333333333333333,\"#9c179e\"],[0.4444444444444444,\"#bd3786\"],[0.5555555555555556,\"#d8576b\"],[0.6666666666666666,\"#ed7953\"],[0.7777777777777778,\"#fb9f3a\"],[0.8888888888888888,\"#fdca26\"],[1.0,\"#f0f921\"]],\"type\":\"heatmapgl\"}],\"heatmap\":[{\"colorbar\":{\"outlinewidth\":0,\"ticks\":\"\"},\"colorscale\":[[0.0,\"#0d0887\"],[0.1111111111111111,\"#46039f\"],[0.2222222222222222,\"#7201a8\"],[0.3333333333333333,\"#9c179e\"],[0.4444444444444444,\"#bd3786\"],[0.5555555555555556,\"#d8576b\"],[0.6666666666666666,\"#ed7953\"],[0.7777777777777778,\"#fb9f3a\"],[0.8888888888888888,\"#fdca26\"],[1.0,\"#f0f921\"]],\"type\":\"heatmap\"}],\"histogram2dcontour\":[{\"colorbar\":{\"outlinewidth\":0,\"ticks\":\"\"},\"colorscale\":[[0.0,\"#0d0887\"],[0.1111111111111111,\"#46039f\"],[0.2222222222222222,\"#7201a8\"],[0.3333333333333333,\"#9c179e\"],[0.4444444444444444,\"#bd3786\"],[0.5555555555555556,\"#d8576b\"],[0.6666666666666666,\"#ed7953\"],[0.7777777777777778,\"#fb9f3a\"],[0.8888888888888888,\"#fdca26\"],[1.0,\"#f0f921\"]],\"type\":\"histogram2dcontour\"}],\"histogram2d\":[{\"colorbar\":{\"outlinewidth\":0,\"ticks\":\"\"},\"colorscale\":[[0.0,\"#0d0887\"],[0.1111111111111111,\"#46039f\"],[0.2222222222222222,\"#7201a8\"],[0.3333333333333333,\"#9c179e\"],[0.4444444444444444,\"#bd3786\"],[0.5555555555555556,\"#d8576b\"],[0.6666666666666666,\"#ed7953\"],[0.7777777777777778,\"#fb9f3a\"],[0.8888888888888888,\"#fdca26\"],[1.0,\"#f0f921\"]],\"type\":\"histogram2d\"}],\"histogram\":[{\"marker\":{\"pattern\":{\"fillmode\":\"overlay\",\"size\":10,\"solidity\":0.2}},\"type\":\"histogram\"}],\"mesh3d\":[{\"colorbar\":{\"outlinewidth\":0,\"ticks\":\"\"},\"type\":\"mesh3d\"}],\"parcoords\":[{\"line\":{\"colorbar\":{\"outlinewidth\":0,\"ticks\":\"\"}},\"type\":\"parcoords\"}],\"pie\":[{\"automargin\":true,\"type\":\"pie\"}],\"scatter3d\":[{\"line\":{\"colorbar\":{\"outlinewidth\":0,\"ticks\":\"\"}},\"marker\":{\"colorbar\":{\"outlinewidth\":0,\"ticks\":\"\"}},\"type\":\"scatter3d\"}],\"scattercarpet\":[{\"marker\":{\"colorbar\":{\"outlinewidth\":0,\"ticks\":\"\"}},\"type\":\"scattercarpet\"}],\"scattergeo\":[{\"marker\":{\"colorbar\":{\"outlinewidth\":0,\"ticks\":\"\"}},\"type\":\"scattergeo\"}],\"scattergl\":[{\"marker\":{\"colorbar\":{\"outlinewidth\":0,\"ticks\":\"\"}},\"type\":\"scattergl\"}],\"scattermapbox\":[{\"marker\":{\"colorbar\":{\"outlinewidth\":0,\"ticks\":\"\"}},\"type\":\"scattermapbox\"}],\"scatterpolargl\":[{\"marker\":{\"colorbar\":{\"outlinewidth\":0,\"ticks\":\"\"}},\"type\":\"scatterpolargl\"}],\"scatterpolar\":[{\"marker\":{\"colorbar\":{\"outlinewidth\":0,\"ticks\":\"\"}},\"type\":\"scatterpolar\"}],\"scatter\":[{\"marker\":{\"colorbar\":{\"outlinewidth\":0,\"ticks\":\"\"}},\"type\":\"scatter\"}],\"scatterternary\":[{\"marker\":{\"colorbar\":{\"outlinewidth\":0,\"ticks\":\"\"}},\"type\":\"scatterternary\"}],\"surface\":[{\"colorbar\":{\"outlinewidth\":0,\"ticks\":\"\"},\"colorscale\":[[0.0,\"#0d0887\"],[0.1111111111111111,\"#46039f\"],[0.2222222222222222,\"#7201a8\"],[0.3333333333333333,\"#9c179e\"],[0.4444444444444444,\"#bd3786\"],[0.5555555555555556,\"#d8576b\"],[0.6666666666666666,\"#ed7953\"],[0.7777777777777778,\"#fb9f3a\"],[0.8888888888888888,\"#fdca26\"],[1.0,\"#f0f921\"]],\"type\":\"surface\"}],\"table\":[{\"cells\":{\"fill\":{\"color\":\"#EBF0F8\"},\"line\":{\"color\":\"white\"}},\"header\":{\"fill\":{\"color\":\"#C8D4E3\"},\"line\":{\"color\":\"white\"}},\"type\":\"table\"}]},\"layout\":{\"annotationdefaults\":{\"arrowcolor\":\"#2a3f5f\",\"arrowhead\":0,\"arrowwidth\":1},\"autotypenumbers\":\"strict\",\"coloraxis\":{\"colorbar\":{\"outlinewidth\":0,\"ticks\":\"\"}},\"colorscale\":{\"diverging\":[[0,\"#8e0152\"],[0.1,\"#c51b7d\"],[0.2,\"#de77ae\"],[0.3,\"#f1b6da\"],[0.4,\"#fde0ef\"],[0.5,\"#f7f7f7\"],[0.6,\"#e6f5d0\"],[0.7,\"#b8e186\"],[0.8,\"#7fbc41\"],[0.9,\"#4d9221\"],[1,\"#276419\"]],\"sequential\":[[0.0,\"#0d0887\"],[0.1111111111111111,\"#46039f\"],[0.2222222222222222,\"#7201a8\"],[0.3333333333333333,\"#9c179e\"],[0.4444444444444444,\"#bd3786\"],[0.5555555555555556,\"#d8576b\"],[0.6666666666666666,\"#ed7953\"],[0.7777777777777778,\"#fb9f3a\"],[0.8888888888888888,\"#fdca26\"],[1.0,\"#f0f921\"]],\"sequentialminus\":[[0.0,\"#0d0887\"],[0.1111111111111111,\"#46039f\"],[0.2222222222222222,\"#7201a8\"],[0.3333333333333333,\"#9c179e\"],[0.4444444444444444,\"#bd3786\"],[0.5555555555555556,\"#d8576b\"],[0.6666666666666666,\"#ed7953\"],[0.7777777777777778,\"#fb9f3a\"],[0.8888888888888888,\"#fdca26\"],[1.0,\"#f0f921\"]]},\"colorway\":[\"#636efa\",\"#EF553B\",\"#00cc96\",\"#ab63fa\",\"#FFA15A\",\"#19d3f3\",\"#FF6692\",\"#B6E880\",\"#FF97FF\",\"#FECB52\"],\"font\":{\"color\":\"#2a3f5f\"},\"geo\":{\"bgcolor\":\"white\",\"lakecolor\":\"white\",\"landcolor\":\"white\",\"showlakes\":true,\"showland\":true,\"subunitcolor\":\"#C8D4E3\"},\"hoverlabel\":{\"align\":\"left\"},\"hovermode\":\"closest\",\"mapbox\":{\"style\":\"light\"},\"paper_bgcolor\":\"white\",\"plot_bgcolor\":\"white\",\"polar\":{\"angularaxis\":{\"gridcolor\":\"#EBF0F8\",\"linecolor\":\"#EBF0F8\",\"ticks\":\"\"},\"bgcolor\":\"white\",\"radialaxis\":{\"gridcolor\":\"#EBF0F8\",\"linecolor\":\"#EBF0F8\",\"ticks\":\"\"}},\"scene\":{\"xaxis\":{\"backgroundcolor\":\"white\",\"gridcolor\":\"#DFE8F3\",\"gridwidth\":2,\"linecolor\":\"#EBF0F8\",\"showbackground\":true,\"ticks\":\"\",\"zerolinecolor\":\"#EBF0F8\"},\"yaxis\":{\"backgroundcolor\":\"white\",\"gridcolor\":\"#DFE8F3\",\"gridwidth\":2,\"linecolor\":\"#EBF0F8\",\"showbackground\":true,\"ticks\":\"\",\"zerolinecolor\":\"#EBF0F8\"},\"zaxis\":{\"backgroundcolor\":\"white\",\"gridcolor\":\"#DFE8F3\",\"gridwidth\":2,\"linecolor\":\"#EBF0F8\",\"showbackground\":true,\"ticks\":\"\",\"zerolinecolor\":\"#EBF0F8\"}},\"shapedefaults\":{\"line\":{\"color\":\"#2a3f5f\"}},\"ternary\":{\"aaxis\":{\"gridcolor\":\"#DFE8F3\",\"linecolor\":\"#A2B1C6\",\"ticks\":\"\"},\"baxis\":{\"gridcolor\":\"#DFE8F3\",\"linecolor\":\"#A2B1C6\",\"ticks\":\"\"},\"bgcolor\":\"white\",\"caxis\":{\"gridcolor\":\"#DFE8F3\",\"linecolor\":\"#A2B1C6\",\"ticks\":\"\"}},\"title\":{\"x\":0.05},\"xaxis\":{\"automargin\":true,\"gridcolor\":\"#EBF0F8\",\"linecolor\":\"#EBF0F8\",\"ticks\":\"\",\"title\":{\"standoff\":15},\"zerolinecolor\":\"#EBF0F8\",\"zerolinewidth\":2},\"yaxis\":{\"automargin\":true,\"gridcolor\":\"#EBF0F8\",\"linecolor\":\"#EBF0F8\",\"ticks\":\"\",\"title\":{\"standoff\":15},\"zerolinecolor\":\"#EBF0F8\",\"zerolinewidth\":2}}},\"xaxis\":{\"anchor\":\"y\",\"domain\":[0.0,0.18400000000000002],\"title\":{\"text\":\"Tipo de interacci\\u00f3n\"},\"categoryorder\":\"array\",\"categoryarray\":[\"Ayuda a resolver dudas y realiza sugerencias\",\"Comparte su experiencia frente a la actividad\",\"No indica consolidaci\\u00f3n de CAP\",\"Participa en una discusi\\u00f3n grupal\",\"Positivo para comunidad de pr\\u00e1ctica\",\"Solicita apoyo para resolver sus dudas\",\"Tendencia a trabajo individual\"],\"visible\":false,\"showticklabels\":false},\"yaxis\":{\"anchor\":\"x\",\"domain\":[0.0,0.46499999999999997],\"title\":{\"text\":\"Cant\"}},\"xaxis2\":{\"anchor\":\"y2\",\"domain\":[0.20400000000000001,0.388],\"matches\":\"x\",\"title\":{\"text\":\"Tipo de interacci\\u00f3n\"},\"categoryorder\":\"array\",\"categoryarray\":[\"Ayuda a resolver dudas y realiza sugerencias\",\"Comparte su experiencia frente a la actividad\",\"No indica consolidaci\\u00f3n de CAP\",\"Participa en una discusi\\u00f3n grupal\",\"Positivo para comunidad de pr\\u00e1ctica\",\"Solicita apoyo para resolver sus dudas\",\"Tendencia a trabajo individual\"],\"visible\":false,\"showticklabels\":false},\"yaxis2\":{\"anchor\":\"x2\",\"domain\":[0.0,0.46499999999999997],\"matches\":\"y\",\"showticklabels\":false},\"xaxis3\":{\"anchor\":\"y3\",\"domain\":[0.40800000000000003,0.5920000000000001],\"matches\":\"x\",\"title\":{\"text\":\"Tipo de interacci\\u00f3n\"},\"categoryorder\":\"array\",\"categoryarray\":[\"Ayuda a resolver dudas y realiza sugerencias\",\"Comparte su experiencia frente a la actividad\",\"No indica consolidaci\\u00f3n de CAP\",\"Participa en una discusi\\u00f3n grupal\",\"Positivo para comunidad de pr\\u00e1ctica\",\"Solicita apoyo para resolver sus dudas\",\"Tendencia a trabajo individual\"],\"visible\":false,\"showticklabels\":false},\"yaxis3\":{\"anchor\":\"x3\",\"domain\":[0.0,0.46499999999999997],\"matches\":\"y\",\"showticklabels\":false},\"xaxis4\":{\"anchor\":\"y4\",\"domain\":[0.6120000000000001,0.7960000000000002],\"matches\":\"x\",\"title\":{\"text\":\"Tipo de interacci\\u00f3n\"},\"categoryorder\":\"array\",\"categoryarray\":[\"Ayuda a resolver dudas y realiza sugerencias\",\"Comparte su experiencia frente a la actividad\",\"No indica consolidaci\\u00f3n de CAP\",\"Participa en una discusi\\u00f3n grupal\",\"Positivo para comunidad de pr\\u00e1ctica\",\"Solicita apoyo para resolver sus dudas\",\"Tendencia a trabajo individual\"],\"visible\":false,\"showticklabels\":false},\"yaxis4\":{\"anchor\":\"x4\",\"domain\":[0.0,0.46499999999999997],\"matches\":\"y\",\"showticklabels\":false},\"xaxis5\":{\"anchor\":\"y5\",\"domain\":[0.8160000000000001,1.0],\"matches\":\"x\",\"title\":{\"text\":\"Tipo de interacci\\u00f3n\"},\"categoryorder\":\"array\",\"categoryarray\":[\"Ayuda a resolver dudas y realiza sugerencias\",\"Comparte su experiencia frente a la actividad\",\"No indica consolidaci\\u00f3n de CAP\",\"Participa en una discusi\\u00f3n grupal\",\"Positivo para comunidad de pr\\u00e1ctica\",\"Solicita apoyo para resolver sus dudas\",\"Tendencia a trabajo individual\"],\"visible\":false,\"showticklabels\":false},\"yaxis5\":{\"anchor\":\"x5\",\"domain\":[0.0,0.46499999999999997],\"matches\":\"y\",\"showticklabels\":false},\"xaxis6\":{\"anchor\":\"y6\",\"domain\":[0.0,0.18400000000000002],\"matches\":\"x\",\"showticklabels\":false,\"visible\":false},\"yaxis6\":{\"anchor\":\"x6\",\"domain\":[0.5349999999999999,0.9999999999999999],\"matches\":\"y\",\"title\":{\"text\":\"Cant\"}},\"xaxis7\":{\"anchor\":\"y7\",\"domain\":[0.20400000000000001,0.388],\"matches\":\"x\",\"showticklabels\":false,\"visible\":false},\"yaxis7\":{\"anchor\":\"x7\",\"domain\":[0.5349999999999999,0.9999999999999999],\"matches\":\"y\",\"showticklabels\":false},\"xaxis8\":{\"anchor\":\"y8\",\"domain\":[0.40800000000000003,0.5920000000000001],\"matches\":\"x\",\"showticklabels\":false,\"visible\":false},\"yaxis8\":{\"anchor\":\"x8\",\"domain\":[0.5349999999999999,0.9999999999999999],\"matches\":\"y\",\"showticklabels\":false},\"xaxis9\":{\"anchor\":\"y9\",\"domain\":[0.6120000000000001,0.7960000000000002],\"matches\":\"x\",\"showticklabels\":false,\"visible\":false},\"yaxis9\":{\"anchor\":\"x9\",\"domain\":[0.5349999999999999,0.9999999999999999],\"matches\":\"y\",\"showticklabels\":false},\"xaxis10\":{\"anchor\":\"y10\",\"domain\":[0.8160000000000001,1.0],\"matches\":\"x\",\"showticklabels\":false,\"visible\":false},\"yaxis10\":{\"anchor\":\"x10\",\"domain\":[0.5349999999999999,0.9999999999999999],\"matches\":\"y\",\"showticklabels\":false},\"annotations\":[{\"font\":{},\"showarrow\":false,\"text\":\"Recursos\",\"x\":0.09200000000000001,\"xanchor\":\"center\",\"xref\":\"paper\",\"y\":0.46499999999999997,\"yanchor\":\"bottom\",\"yref\":\"paper\"},{\"font\":{},\"showarrow\":false,\"text\":\"TBT\",\"x\":0.29600000000000004,\"xanchor\":\"center\",\"xref\":\"paper\",\"y\":0.46499999999999997,\"yanchor\":\"bottom\",\"yref\":\"paper\"},{\"font\":{},\"showarrow\":false,\"text\":\"Temas Transversales\",\"x\":0.5,\"xanchor\":\"center\",\"xref\":\"paper\",\"y\":0.46499999999999997,\"yanchor\":\"bottom\",\"yref\":\"paper\"},{\"font\":{},\"showarrow\":false,\"text\":\"Temas transversales\",\"x\":0.7040000000000002,\"xanchor\":\"center\",\"xref\":\"paper\",\"y\":0.46499999999999997,\"yanchor\":\"bottom\",\"yref\":\"paper\"},{\"font\":{},\"showarrow\":false,\"text\":\"C\\u00e1psula\",\"x\":0.09200000000000001,\"xanchor\":\"center\",\"xref\":\"paper\",\"y\":0.9999999999999999,\"yanchor\":\"bottom\",\"yref\":\"paper\"},{\"font\":{},\"showarrow\":false,\"text\":\"Encuentros educativos\",\"x\":0.29600000000000004,\"xanchor\":\"center\",\"xref\":\"paper\",\"y\":0.9999999999999999,\"yanchor\":\"bottom\",\"yref\":\"paper\"},{\"font\":{},\"showarrow\":false,\"text\":\"Experiencia\",\"x\":0.5,\"xanchor\":\"center\",\"xref\":\"paper\",\"y\":0.9999999999999999,\"yanchor\":\"bottom\",\"yref\":\"paper\"},{\"font\":{},\"showarrow\":false,\"text\":\"Invitaci\\u00f3n\",\"x\":0.7040000000000002,\"xanchor\":\"center\",\"xref\":\"paper\",\"y\":0.9999999999999999,\"yanchor\":\"bottom\",\"yref\":\"paper\"},{\"font\":{},\"showarrow\":false,\"text\":\"Personas Inspiradoras\",\"x\":0.908,\"xanchor\":\"center\",\"xref\":\"paper\",\"y\":0.9999999999999999,\"yanchor\":\"bottom\",\"yref\":\"paper\"}],\"legend\":{\"title\":{\"text\":\"Tipo de interacci\\u00f3n\"},\"tracegroupgap\":0},\"margin\":{\"t\":60},\"barmode\":\"relative\"},                        {\"scrollZoom\": true, \"displaylogo\": true, \"responsive\": true, \"editable\": true, \"toImageButtonOptions\": {\"format\": \"png\", \"filename\": \"grafica_CAP\", \"height\": null, \"width\": null, \"scale\": true}}                    ).then(function(){\n",
       "                            \n",
       "var gd = document.getElementById('f46563c5-14d3-4125-b7cb-5855a1f14426');\n",
       "var x = new MutationObserver(function (mutations, observer) {{\n",
       "        var display = window.getComputedStyle(gd).display;\n",
       "        if (!display || display === 'none') {{\n",
       "            console.log([gd, 'removed!']);\n",
       "            Plotly.purge(gd);\n",
       "            observer.disconnect();\n",
       "        }}\n",
       "}});\n",
       "\n",
       "// Listen for the removal of the full notebook cells\n",
       "var notebookContainer = gd.closest('#notebook-container');\n",
       "if (notebookContainer) {{\n",
       "    x.observe(notebookContainer, {childList: true});\n",
       "}}\n",
       "\n",
       "// Listen for the clearing of the current output cell\n",
       "var outputEl = gd.closest('.output');\n",
       "if (outputEl) {{\n",
       "    x.observe(outputEl, {childList: true});\n",
       "}}\n",
       "\n",
       "                        })                };                });            </script>        </div>"
      ]
     },
     "metadata": {},
     "output_type": "display_data"
    }
   ],
   "source": [
    "figpub=px.bar(pivotpub,x='Tipo de interacción', y='Cant', color='Tipo de interacción', facet_col='Tipo_post', template=\"plotly_white\",color_discrete_sequence=px.colors.qualitative.Set2, facet_col_wrap=5)\n",
    "figpub.update_xaxes(visible=False, showticklabels=False)\n",
    "figpub.for_each_annotation(lambda a: a.update(text=a.text.split(\"=\")[-1]))\n",
    "figpub.show(config=config_chart)"
   ]
  },
  {
   "cell_type": "markdown",
   "id": "c04d0c7c-5af2-434b-8f8b-8bd8af9f844d",
   "metadata": {
    "jp-MarkdownHeadingCollapsed": true,
    "tags": []
   },
   "source": [
    "## Fanpage Comentarios = Publicaciones x Género"
   ]
  },
  {
   "cell_type": "code",
   "execution_count": 20,
   "id": "b3724099-1f2b-4fc5-b104-08eed0cc5ba1",
   "metadata": {},
   "outputs": [
    {
     "data": {
      "text/html": [
       "<div>\n",
       "<style scoped>\n",
       "    .dataframe tbody tr th:only-of-type {\n",
       "        vertical-align: middle;\n",
       "    }\n",
       "\n",
       "    .dataframe tbody tr th {\n",
       "        vertical-align: top;\n",
       "    }\n",
       "\n",
       "    .dataframe thead th {\n",
       "        text-align: right;\n",
       "    }\n",
       "</style>\n",
       "<table border=\"1\" class=\"dataframe\">\n",
       "  <thead>\n",
       "    <tr style=\"text-align: right;\">\n",
       "      <th></th>\n",
       "      <th>Tipo_post</th>\n",
       "      <th>Lenguaje Inclusivo</th>\n",
       "      <th>Comentario sexista</th>\n",
       "      <th>Uso de lenguaje no inclusivo</th>\n",
       "      <th>En pro de la equidad de Género</th>\n",
       "      <th>No relevante en perspectiva de género</th>\n",
       "    </tr>\n",
       "  </thead>\n",
       "  <tbody>\n",
       "    <tr>\n",
       "      <th>0</th>\n",
       "      <td>Recursos</td>\n",
       "      <td>NaN</td>\n",
       "      <td>NaN</td>\n",
       "      <td>NaN</td>\n",
       "      <td>NaN</td>\n",
       "      <td>1.0</td>\n",
       "    </tr>\n",
       "    <tr>\n",
       "      <th>1</th>\n",
       "      <td>Recursos</td>\n",
       "      <td>NaN</td>\n",
       "      <td>NaN</td>\n",
       "      <td>NaN</td>\n",
       "      <td>NaN</td>\n",
       "      <td>NaN</td>\n",
       "    </tr>\n",
       "    <tr>\n",
       "      <th>2</th>\n",
       "      <td>Recursos</td>\n",
       "      <td>NaN</td>\n",
       "      <td>NaN</td>\n",
       "      <td>NaN</td>\n",
       "      <td>NaN</td>\n",
       "      <td>1.0</td>\n",
       "    </tr>\n",
       "    <tr>\n",
       "      <th>3</th>\n",
       "      <td>Recursos</td>\n",
       "      <td>NaN</td>\n",
       "      <td>NaN</td>\n",
       "      <td>NaN</td>\n",
       "      <td>NaN</td>\n",
       "      <td>1.0</td>\n",
       "    </tr>\n",
       "    <tr>\n",
       "      <th>4</th>\n",
       "      <td>Recursos</td>\n",
       "      <td>NaN</td>\n",
       "      <td>NaN</td>\n",
       "      <td>NaN</td>\n",
       "      <td>NaN</td>\n",
       "      <td>1.0</td>\n",
       "    </tr>\n",
       "    <tr>\n",
       "      <th>...</th>\n",
       "      <td>...</td>\n",
       "      <td>...</td>\n",
       "      <td>...</td>\n",
       "      <td>...</td>\n",
       "      <td>...</td>\n",
       "      <td>...</td>\n",
       "    </tr>\n",
       "    <tr>\n",
       "      <th>280</th>\n",
       "      <td>Personas Inspiradoras</td>\n",
       "      <td>NaN</td>\n",
       "      <td>NaN</td>\n",
       "      <td>1.0</td>\n",
       "      <td>NaN</td>\n",
       "      <td>1.0</td>\n",
       "    </tr>\n",
       "    <tr>\n",
       "      <th>281</th>\n",
       "      <td>Personas Inspiradoras</td>\n",
       "      <td>NaN</td>\n",
       "      <td>NaN</td>\n",
       "      <td>NaN</td>\n",
       "      <td>NaN</td>\n",
       "      <td>NaN</td>\n",
       "    </tr>\n",
       "    <tr>\n",
       "      <th>282</th>\n",
       "      <td>Personas Inspiradoras</td>\n",
       "      <td>NaN</td>\n",
       "      <td>NaN</td>\n",
       "      <td>NaN</td>\n",
       "      <td>NaN</td>\n",
       "      <td>1.0</td>\n",
       "    </tr>\n",
       "    <tr>\n",
       "      <th>283</th>\n",
       "      <td>Personas Inspiradoras</td>\n",
       "      <td>NaN</td>\n",
       "      <td>NaN</td>\n",
       "      <td>NaN</td>\n",
       "      <td>NaN</td>\n",
       "      <td>1.0</td>\n",
       "    </tr>\n",
       "    <tr>\n",
       "      <th>284</th>\n",
       "      <td>Personas Inspiradoras</td>\n",
       "      <td>NaN</td>\n",
       "      <td>NaN</td>\n",
       "      <td>NaN</td>\n",
       "      <td>NaN</td>\n",
       "      <td>1.0</td>\n",
       "    </tr>\n",
       "  </tbody>\n",
       "</table>\n",
       "<p>285 rows × 6 columns</p>\n",
       "</div>"
      ],
      "text/plain": [
       "                 Tipo_post  Lenguaje Inclusivo  Comentario sexista  \\\n",
       "0                 Recursos                 NaN                 NaN   \n",
       "1                 Recursos                 NaN                 NaN   \n",
       "2                 Recursos                 NaN                 NaN   \n",
       "3                 Recursos                 NaN                 NaN   \n",
       "4                 Recursos                 NaN                 NaN   \n",
       "..                     ...                 ...                 ...   \n",
       "280  Personas Inspiradoras                 NaN                 NaN   \n",
       "281  Personas Inspiradoras                 NaN                 NaN   \n",
       "282  Personas Inspiradoras                 NaN                 NaN   \n",
       "283  Personas Inspiradoras                 NaN                 NaN   \n",
       "284  Personas Inspiradoras                 NaN                 NaN   \n",
       "\n",
       "     Uso de lenguaje no inclusivo  En pro de la equidad de Género  \\\n",
       "0                             NaN                             NaN   \n",
       "1                             NaN                             NaN   \n",
       "2                             NaN                             NaN   \n",
       "3                             NaN                             NaN   \n",
       "4                             NaN                             NaN   \n",
       "..                            ...                             ...   \n",
       "280                           1.0                             NaN   \n",
       "281                           NaN                             NaN   \n",
       "282                           NaN                             NaN   \n",
       "283                           NaN                             NaN   \n",
       "284                           NaN                             NaN   \n",
       "\n",
       "     No relevante en perspectiva de género  \n",
       "0                                      1.0  \n",
       "1                                      NaN  \n",
       "2                                      1.0  \n",
       "3                                      1.0  \n",
       "4                                      1.0  \n",
       "..                                     ...  \n",
       "280                                    1.0  \n",
       "281                                    NaN  \n",
       "282                                    1.0  \n",
       "283                                    1.0  \n",
       "284                                    1.0  \n",
       "\n",
       "[285 rows x 6 columns]"
      ]
     },
     "execution_count": 20,
     "metadata": {},
     "output_type": "execute_result"
    }
   ],
   "source": [
    "public_tiposgen = comentariosfp.loc[:,['Tipo_post']+tiposgen]\n",
    "public_tiposgen = public_tiposgen.rename(columns=etiquetas2)\n",
    "public_tiposgen"
   ]
  },
  {
   "cell_type": "code",
   "execution_count": 21,
   "id": "8fa152b0-350e-4d24-b8d1-5aab2ed0d105",
   "metadata": {},
   "outputs": [
    {
     "data": {
      "text/html": [
       "<div>\n",
       "<style scoped>\n",
       "    .dataframe tbody tr th:only-of-type {\n",
       "        vertical-align: middle;\n",
       "    }\n",
       "\n",
       "    .dataframe tbody tr th {\n",
       "        vertical-align: top;\n",
       "    }\n",
       "\n",
       "    .dataframe thead th {\n",
       "        text-align: right;\n",
       "    }\n",
       "</style>\n",
       "<table border=\"1\" class=\"dataframe\">\n",
       "  <thead>\n",
       "    <tr style=\"text-align: right;\">\n",
       "      <th></th>\n",
       "      <th>Tipo_post</th>\n",
       "      <th>variable</th>\n",
       "      <th>value</th>\n",
       "    </tr>\n",
       "  </thead>\n",
       "  <tbody>\n",
       "    <tr>\n",
       "      <th>0</th>\n",
       "      <td>Recursos</td>\n",
       "      <td>Lenguaje Inclusivo</td>\n",
       "      <td>NaN</td>\n",
       "    </tr>\n",
       "    <tr>\n",
       "      <th>1</th>\n",
       "      <td>Recursos</td>\n",
       "      <td>Lenguaje Inclusivo</td>\n",
       "      <td>NaN</td>\n",
       "    </tr>\n",
       "    <tr>\n",
       "      <th>2</th>\n",
       "      <td>Recursos</td>\n",
       "      <td>Lenguaje Inclusivo</td>\n",
       "      <td>NaN</td>\n",
       "    </tr>\n",
       "    <tr>\n",
       "      <th>3</th>\n",
       "      <td>Recursos</td>\n",
       "      <td>Lenguaje Inclusivo</td>\n",
       "      <td>NaN</td>\n",
       "    </tr>\n",
       "    <tr>\n",
       "      <th>4</th>\n",
       "      <td>Recursos</td>\n",
       "      <td>Lenguaje Inclusivo</td>\n",
       "      <td>NaN</td>\n",
       "    </tr>\n",
       "    <tr>\n",
       "      <th>...</th>\n",
       "      <td>...</td>\n",
       "      <td>...</td>\n",
       "      <td>...</td>\n",
       "    </tr>\n",
       "    <tr>\n",
       "      <th>1420</th>\n",
       "      <td>Personas Inspiradoras</td>\n",
       "      <td>No relevante en perspectiva de género</td>\n",
       "      <td>1.0</td>\n",
       "    </tr>\n",
       "    <tr>\n",
       "      <th>1421</th>\n",
       "      <td>Personas Inspiradoras</td>\n",
       "      <td>No relevante en perspectiva de género</td>\n",
       "      <td>NaN</td>\n",
       "    </tr>\n",
       "    <tr>\n",
       "      <th>1422</th>\n",
       "      <td>Personas Inspiradoras</td>\n",
       "      <td>No relevante en perspectiva de género</td>\n",
       "      <td>1.0</td>\n",
       "    </tr>\n",
       "    <tr>\n",
       "      <th>1423</th>\n",
       "      <td>Personas Inspiradoras</td>\n",
       "      <td>No relevante en perspectiva de género</td>\n",
       "      <td>1.0</td>\n",
       "    </tr>\n",
       "    <tr>\n",
       "      <th>1424</th>\n",
       "      <td>Personas Inspiradoras</td>\n",
       "      <td>No relevante en perspectiva de género</td>\n",
       "      <td>1.0</td>\n",
       "    </tr>\n",
       "  </tbody>\n",
       "</table>\n",
       "<p>1425 rows × 3 columns</p>\n",
       "</div>"
      ],
      "text/plain": [
       "                  Tipo_post                               variable  value\n",
       "0                  Recursos                     Lenguaje Inclusivo    NaN\n",
       "1                  Recursos                     Lenguaje Inclusivo    NaN\n",
       "2                  Recursos                     Lenguaje Inclusivo    NaN\n",
       "3                  Recursos                     Lenguaje Inclusivo    NaN\n",
       "4                  Recursos                     Lenguaje Inclusivo    NaN\n",
       "...                     ...                                    ...    ...\n",
       "1420  Personas Inspiradoras  No relevante en perspectiva de género    1.0\n",
       "1421  Personas Inspiradoras  No relevante en perspectiva de género    NaN\n",
       "1422  Personas Inspiradoras  No relevante en perspectiva de género    1.0\n",
       "1423  Personas Inspiradoras  No relevante en perspectiva de género    1.0\n",
       "1424  Personas Inspiradoras  No relevante en perspectiva de género    1.0\n",
       "\n",
       "[1425 rows x 3 columns]"
      ]
     },
     "execution_count": 21,
     "metadata": {},
     "output_type": "execute_result"
    }
   ],
   "source": [
    "public_tiposgen=public_tiposgen.melt(id_vars='Tipo_post')\n",
    "public_tiposgen"
   ]
  },
  {
   "cell_type": "code",
   "execution_count": 22,
   "id": "bfb53733-bf6e-4fe8-872d-11f6c25f65cf",
   "metadata": {},
   "outputs": [
    {
     "data": {
      "text/html": [
       "<div>\n",
       "<style scoped>\n",
       "    .dataframe tbody tr th:only-of-type {\n",
       "        vertical-align: middle;\n",
       "    }\n",
       "\n",
       "    .dataframe tbody tr th {\n",
       "        vertical-align: top;\n",
       "    }\n",
       "\n",
       "    .dataframe thead th {\n",
       "        text-align: right;\n",
       "    }\n",
       "</style>\n",
       "<table border=\"1\" class=\"dataframe\">\n",
       "  <thead>\n",
       "    <tr style=\"text-align: right;\">\n",
       "      <th></th>\n",
       "      <th>Tipo_post</th>\n",
       "      <th>Tipo de interacción</th>\n",
       "      <th>Cant</th>\n",
       "    </tr>\n",
       "  </thead>\n",
       "  <tbody>\n",
       "    <tr>\n",
       "      <th>0</th>\n",
       "      <td>Cápsula</td>\n",
       "      <td>Comentario sexista</td>\n",
       "      <td>0.0</td>\n",
       "    </tr>\n",
       "    <tr>\n",
       "      <th>1</th>\n",
       "      <td>Cápsula</td>\n",
       "      <td>En pro de la equidad de Género</td>\n",
       "      <td>0.0</td>\n",
       "    </tr>\n",
       "    <tr>\n",
       "      <th>2</th>\n",
       "      <td>Cápsula</td>\n",
       "      <td>Lenguaje Inclusivo</td>\n",
       "      <td>0.0</td>\n",
       "    </tr>\n",
       "    <tr>\n",
       "      <th>3</th>\n",
       "      <td>Cápsula</td>\n",
       "      <td>No relevante en perspectiva de género</td>\n",
       "      <td>2.0</td>\n",
       "    </tr>\n",
       "    <tr>\n",
       "      <th>4</th>\n",
       "      <td>Cápsula</td>\n",
       "      <td>Uso de lenguaje no inclusivo</td>\n",
       "      <td>0.0</td>\n",
       "    </tr>\n",
       "    <tr>\n",
       "      <th>5</th>\n",
       "      <td>Encuentros educativos</td>\n",
       "      <td>Comentario sexista</td>\n",
       "      <td>0.0</td>\n",
       "    </tr>\n",
       "    <tr>\n",
       "      <th>6</th>\n",
       "      <td>Encuentros educativos</td>\n",
       "      <td>En pro de la equidad de Género</td>\n",
       "      <td>0.0</td>\n",
       "    </tr>\n",
       "    <tr>\n",
       "      <th>7</th>\n",
       "      <td>Encuentros educativos</td>\n",
       "      <td>Lenguaje Inclusivo</td>\n",
       "      <td>1.0</td>\n",
       "    </tr>\n",
       "    <tr>\n",
       "      <th>8</th>\n",
       "      <td>Encuentros educativos</td>\n",
       "      <td>No relevante en perspectiva de género</td>\n",
       "      <td>44.0</td>\n",
       "    </tr>\n",
       "    <tr>\n",
       "      <th>9</th>\n",
       "      <td>Encuentros educativos</td>\n",
       "      <td>Uso de lenguaje no inclusivo</td>\n",
       "      <td>10.0</td>\n",
       "    </tr>\n",
       "    <tr>\n",
       "      <th>10</th>\n",
       "      <td>Experiencia</td>\n",
       "      <td>Comentario sexista</td>\n",
       "      <td>0.0</td>\n",
       "    </tr>\n",
       "    <tr>\n",
       "      <th>11</th>\n",
       "      <td>Experiencia</td>\n",
       "      <td>En pro de la equidad de Género</td>\n",
       "      <td>0.0</td>\n",
       "    </tr>\n",
       "    <tr>\n",
       "      <th>12</th>\n",
       "      <td>Experiencia</td>\n",
       "      <td>Lenguaje Inclusivo</td>\n",
       "      <td>2.0</td>\n",
       "    </tr>\n",
       "    <tr>\n",
       "      <th>13</th>\n",
       "      <td>Experiencia</td>\n",
       "      <td>No relevante en perspectiva de género</td>\n",
       "      <td>15.0</td>\n",
       "    </tr>\n",
       "    <tr>\n",
       "      <th>14</th>\n",
       "      <td>Experiencia</td>\n",
       "      <td>Uso de lenguaje no inclusivo</td>\n",
       "      <td>0.0</td>\n",
       "    </tr>\n",
       "    <tr>\n",
       "      <th>15</th>\n",
       "      <td>Invitación</td>\n",
       "      <td>Comentario sexista</td>\n",
       "      <td>0.0</td>\n",
       "    </tr>\n",
       "    <tr>\n",
       "      <th>16</th>\n",
       "      <td>Invitación</td>\n",
       "      <td>En pro de la equidad de Género</td>\n",
       "      <td>0.0</td>\n",
       "    </tr>\n",
       "    <tr>\n",
       "      <th>17</th>\n",
       "      <td>Invitación</td>\n",
       "      <td>Lenguaje Inclusivo</td>\n",
       "      <td>0.0</td>\n",
       "    </tr>\n",
       "    <tr>\n",
       "      <th>18</th>\n",
       "      <td>Invitación</td>\n",
       "      <td>No relevante en perspectiva de género</td>\n",
       "      <td>16.0</td>\n",
       "    </tr>\n",
       "    <tr>\n",
       "      <th>19</th>\n",
       "      <td>Invitación</td>\n",
       "      <td>Uso de lenguaje no inclusivo</td>\n",
       "      <td>1.0</td>\n",
       "    </tr>\n",
       "    <tr>\n",
       "      <th>20</th>\n",
       "      <td>Personas Inspiradoras</td>\n",
       "      <td>Comentario sexista</td>\n",
       "      <td>0.0</td>\n",
       "    </tr>\n",
       "    <tr>\n",
       "      <th>21</th>\n",
       "      <td>Personas Inspiradoras</td>\n",
       "      <td>En pro de la equidad de Género</td>\n",
       "      <td>1.0</td>\n",
       "    </tr>\n",
       "    <tr>\n",
       "      <th>22</th>\n",
       "      <td>Personas Inspiradoras</td>\n",
       "      <td>Lenguaje Inclusivo</td>\n",
       "      <td>1.0</td>\n",
       "    </tr>\n",
       "    <tr>\n",
       "      <th>23</th>\n",
       "      <td>Personas Inspiradoras</td>\n",
       "      <td>No relevante en perspectiva de género</td>\n",
       "      <td>8.0</td>\n",
       "    </tr>\n",
       "    <tr>\n",
       "      <th>24</th>\n",
       "      <td>Personas Inspiradoras</td>\n",
       "      <td>Uso de lenguaje no inclusivo</td>\n",
       "      <td>1.0</td>\n",
       "    </tr>\n",
       "    <tr>\n",
       "      <th>25</th>\n",
       "      <td>Recursos</td>\n",
       "      <td>Comentario sexista</td>\n",
       "      <td>0.0</td>\n",
       "    </tr>\n",
       "    <tr>\n",
       "      <th>26</th>\n",
       "      <td>Recursos</td>\n",
       "      <td>En pro de la equidad de Género</td>\n",
       "      <td>0.0</td>\n",
       "    </tr>\n",
       "    <tr>\n",
       "      <th>27</th>\n",
       "      <td>Recursos</td>\n",
       "      <td>Lenguaje Inclusivo</td>\n",
       "      <td>0.0</td>\n",
       "    </tr>\n",
       "    <tr>\n",
       "      <th>28</th>\n",
       "      <td>Recursos</td>\n",
       "      <td>No relevante en perspectiva de género</td>\n",
       "      <td>6.0</td>\n",
       "    </tr>\n",
       "    <tr>\n",
       "      <th>29</th>\n",
       "      <td>Recursos</td>\n",
       "      <td>Uso de lenguaje no inclusivo</td>\n",
       "      <td>1.0</td>\n",
       "    </tr>\n",
       "    <tr>\n",
       "      <th>30</th>\n",
       "      <td>TBT</td>\n",
       "      <td>Comentario sexista</td>\n",
       "      <td>0.0</td>\n",
       "    </tr>\n",
       "    <tr>\n",
       "      <th>31</th>\n",
       "      <td>TBT</td>\n",
       "      <td>En pro de la equidad de Género</td>\n",
       "      <td>0.0</td>\n",
       "    </tr>\n",
       "    <tr>\n",
       "      <th>32</th>\n",
       "      <td>TBT</td>\n",
       "      <td>Lenguaje Inclusivo</td>\n",
       "      <td>0.0</td>\n",
       "    </tr>\n",
       "    <tr>\n",
       "      <th>33</th>\n",
       "      <td>TBT</td>\n",
       "      <td>No relevante en perspectiva de género</td>\n",
       "      <td>12.0</td>\n",
       "    </tr>\n",
       "    <tr>\n",
       "      <th>34</th>\n",
       "      <td>TBT</td>\n",
       "      <td>Uso de lenguaje no inclusivo</td>\n",
       "      <td>1.0</td>\n",
       "    </tr>\n",
       "    <tr>\n",
       "      <th>35</th>\n",
       "      <td>Temas Transversales</td>\n",
       "      <td>Comentario sexista</td>\n",
       "      <td>0.0</td>\n",
       "    </tr>\n",
       "    <tr>\n",
       "      <th>36</th>\n",
       "      <td>Temas Transversales</td>\n",
       "      <td>En pro de la equidad de Género</td>\n",
       "      <td>0.0</td>\n",
       "    </tr>\n",
       "    <tr>\n",
       "      <th>37</th>\n",
       "      <td>Temas Transversales</td>\n",
       "      <td>Lenguaje Inclusivo</td>\n",
       "      <td>0.0</td>\n",
       "    </tr>\n",
       "    <tr>\n",
       "      <th>38</th>\n",
       "      <td>Temas Transversales</td>\n",
       "      <td>No relevante en perspectiva de género</td>\n",
       "      <td>1.0</td>\n",
       "    </tr>\n",
       "    <tr>\n",
       "      <th>39</th>\n",
       "      <td>Temas Transversales</td>\n",
       "      <td>Uso de lenguaje no inclusivo</td>\n",
       "      <td>0.0</td>\n",
       "    </tr>\n",
       "    <tr>\n",
       "      <th>40</th>\n",
       "      <td>Temas transversales</td>\n",
       "      <td>Comentario sexista</td>\n",
       "      <td>0.0</td>\n",
       "    </tr>\n",
       "    <tr>\n",
       "      <th>41</th>\n",
       "      <td>Temas transversales</td>\n",
       "      <td>En pro de la equidad de Género</td>\n",
       "      <td>0.0</td>\n",
       "    </tr>\n",
       "    <tr>\n",
       "      <th>42</th>\n",
       "      <td>Temas transversales</td>\n",
       "      <td>Lenguaje Inclusivo</td>\n",
       "      <td>0.0</td>\n",
       "    </tr>\n",
       "    <tr>\n",
       "      <th>43</th>\n",
       "      <td>Temas transversales</td>\n",
       "      <td>No relevante en perspectiva de género</td>\n",
       "      <td>3.0</td>\n",
       "    </tr>\n",
       "    <tr>\n",
       "      <th>44</th>\n",
       "      <td>Temas transversales</td>\n",
       "      <td>Uso de lenguaje no inclusivo</td>\n",
       "      <td>0.0</td>\n",
       "    </tr>\n",
       "  </tbody>\n",
       "</table>\n",
       "</div>"
      ],
      "text/plain": [
       "                Tipo_post                    Tipo de interacción  Cant\n",
       "0                 Cápsula                     Comentario sexista   0.0\n",
       "1                 Cápsula         En pro de la equidad de Género   0.0\n",
       "2                 Cápsula                     Lenguaje Inclusivo   0.0\n",
       "3                 Cápsula  No relevante en perspectiva de género   2.0\n",
       "4                 Cápsula           Uso de lenguaje no inclusivo   0.0\n",
       "5   Encuentros educativos                     Comentario sexista   0.0\n",
       "6   Encuentros educativos         En pro de la equidad de Género   0.0\n",
       "7   Encuentros educativos                     Lenguaje Inclusivo   1.0\n",
       "8   Encuentros educativos  No relevante en perspectiva de género  44.0\n",
       "9   Encuentros educativos           Uso de lenguaje no inclusivo  10.0\n",
       "10            Experiencia                     Comentario sexista   0.0\n",
       "11            Experiencia         En pro de la equidad de Género   0.0\n",
       "12            Experiencia                     Lenguaje Inclusivo   2.0\n",
       "13            Experiencia  No relevante en perspectiva de género  15.0\n",
       "14            Experiencia           Uso de lenguaje no inclusivo   0.0\n",
       "15             Invitación                     Comentario sexista   0.0\n",
       "16             Invitación         En pro de la equidad de Género   0.0\n",
       "17             Invitación                     Lenguaje Inclusivo   0.0\n",
       "18             Invitación  No relevante en perspectiva de género  16.0\n",
       "19             Invitación           Uso de lenguaje no inclusivo   1.0\n",
       "20  Personas Inspiradoras                     Comentario sexista   0.0\n",
       "21  Personas Inspiradoras         En pro de la equidad de Género   1.0\n",
       "22  Personas Inspiradoras                     Lenguaje Inclusivo   1.0\n",
       "23  Personas Inspiradoras  No relevante en perspectiva de género   8.0\n",
       "24  Personas Inspiradoras           Uso de lenguaje no inclusivo   1.0\n",
       "25               Recursos                     Comentario sexista   0.0\n",
       "26               Recursos         En pro de la equidad de Género   0.0\n",
       "27               Recursos                     Lenguaje Inclusivo   0.0\n",
       "28               Recursos  No relevante en perspectiva de género   6.0\n",
       "29               Recursos           Uso de lenguaje no inclusivo   1.0\n",
       "30                    TBT                     Comentario sexista   0.0\n",
       "31                    TBT         En pro de la equidad de Género   0.0\n",
       "32                    TBT                     Lenguaje Inclusivo   0.0\n",
       "33                    TBT  No relevante en perspectiva de género  12.0\n",
       "34                    TBT           Uso de lenguaje no inclusivo   1.0\n",
       "35    Temas Transversales                     Comentario sexista   0.0\n",
       "36    Temas Transversales         En pro de la equidad de Género   0.0\n",
       "37    Temas Transversales                     Lenguaje Inclusivo   0.0\n",
       "38    Temas Transversales  No relevante en perspectiva de género   1.0\n",
       "39    Temas Transversales           Uso de lenguaje no inclusivo   0.0\n",
       "40    Temas transversales                     Comentario sexista   0.0\n",
       "41    Temas transversales         En pro de la equidad de Género   0.0\n",
       "42    Temas transversales                     Lenguaje Inclusivo   0.0\n",
       "43    Temas transversales  No relevante en perspectiva de género   3.0\n",
       "44    Temas transversales           Uso de lenguaje no inclusivo   0.0"
      ]
     },
     "execution_count": 22,
     "metadata": {},
     "output_type": "execute_result"
    }
   ],
   "source": [
    "pivotpublicgen=public_tiposgen.pivot_table(index=['Tipo_post', 'variable'],values='value', aggfunc='sum').reset_index()\n",
    "pivotpublicgen=pivotpublicgen.rename(columns={'value':'Cant', 'variable':'Tipo de interacción'})\n",
    "pivotpublicgen"
   ]
  },
  {
   "cell_type": "code",
   "execution_count": 45,
   "id": "7bf0bfe2-4597-4802-bd4e-73123410a0e2",
   "metadata": {},
   "outputs": [
    {
     "data": {
      "application/vnd.plotly.v1+json": {
       "config": {
        "displaylogo": true,
        "editable": true,
        "plotlyServerURL": "https://plot.ly",
        "responsive": true,
        "scrollZoom": true,
        "toImageButtonOptions": {
         "filename": "grafica_CAP",
         "format": "png",
         "height": null,
         "scale": true,
         "width": null
        }
       },
       "data": [
        {
         "alignmentgroup": "True",
         "hovertemplate": "Tipo de interacción=%{x}<br>Tipo_post=Cápsula<br>Cant=%{y}<extra></extra>",
         "legendgroup": "Comentario sexista",
         "marker": {
          "color": "rgb(102,194,165)",
          "pattern": {
           "shape": ""
          }
         },
         "name": "Comentario sexista",
         "offsetgroup": "Comentario sexista",
         "orientation": "v",
         "showlegend": true,
         "textposition": "auto",
         "type": "bar",
         "x": [
          "Comentario sexista"
         ],
         "xaxis": "x7",
         "y": [
          0
         ],
         "yaxis": "y7"
        },
        {
         "alignmentgroup": "True",
         "hovertemplate": "Tipo de interacción=%{x}<br>Tipo_post=Encuentros educativos<br>Cant=%{y}<extra></extra>",
         "legendgroup": "Comentario sexista",
         "marker": {
          "color": "rgb(102,194,165)",
          "pattern": {
           "shape": ""
          }
         },
         "name": "Comentario sexista",
         "offsetgroup": "Comentario sexista",
         "orientation": "v",
         "showlegend": false,
         "textposition": "auto",
         "type": "bar",
         "x": [
          "Comentario sexista"
         ],
         "xaxis": "x8",
         "y": [
          0
         ],
         "yaxis": "y8"
        },
        {
         "alignmentgroup": "True",
         "hovertemplate": "Tipo de interacción=%{x}<br>Tipo_post=Experiencia<br>Cant=%{y}<extra></extra>",
         "legendgroup": "Comentario sexista",
         "marker": {
          "color": "rgb(102,194,165)",
          "pattern": {
           "shape": ""
          }
         },
         "name": "Comentario sexista",
         "offsetgroup": "Comentario sexista",
         "orientation": "v",
         "showlegend": false,
         "textposition": "auto",
         "type": "bar",
         "x": [
          "Comentario sexista"
         ],
         "xaxis": "x9",
         "y": [
          0
         ],
         "yaxis": "y9"
        },
        {
         "alignmentgroup": "True",
         "hovertemplate": "Tipo de interacción=%{x}<br>Tipo_post=Invitación<br>Cant=%{y}<extra></extra>",
         "legendgroup": "Comentario sexista",
         "marker": {
          "color": "rgb(102,194,165)",
          "pattern": {
           "shape": ""
          }
         },
         "name": "Comentario sexista",
         "offsetgroup": "Comentario sexista",
         "orientation": "v",
         "showlegend": false,
         "textposition": "auto",
         "type": "bar",
         "x": [
          "Comentario sexista"
         ],
         "xaxis": "x4",
         "y": [
          0
         ],
         "yaxis": "y4"
        },
        {
         "alignmentgroup": "True",
         "hovertemplate": "Tipo de interacción=%{x}<br>Tipo_post=Personas Inspiradoras<br>Cant=%{y}<extra></extra>",
         "legendgroup": "Comentario sexista",
         "marker": {
          "color": "rgb(102,194,165)",
          "pattern": {
           "shape": ""
          }
         },
         "name": "Comentario sexista",
         "offsetgroup": "Comentario sexista",
         "orientation": "v",
         "showlegend": false,
         "textposition": "auto",
         "type": "bar",
         "x": [
          "Comentario sexista"
         ],
         "xaxis": "x5",
         "y": [
          0
         ],
         "yaxis": "y5"
        },
        {
         "alignmentgroup": "True",
         "hovertemplate": "Tipo de interacción=%{x}<br>Tipo_post=Recursos<br>Cant=%{y}<extra></extra>",
         "legendgroup": "Comentario sexista",
         "marker": {
          "color": "rgb(102,194,165)",
          "pattern": {
           "shape": ""
          }
         },
         "name": "Comentario sexista",
         "offsetgroup": "Comentario sexista",
         "orientation": "v",
         "showlegend": false,
         "textposition": "auto",
         "type": "bar",
         "x": [
          "Comentario sexista"
         ],
         "xaxis": "x6",
         "y": [
          0
         ],
         "yaxis": "y6"
        },
        {
         "alignmentgroup": "True",
         "hovertemplate": "Tipo de interacción=%{x}<br>Tipo_post=TBT<br>Cant=%{y}<extra></extra>",
         "legendgroup": "Comentario sexista",
         "marker": {
          "color": "rgb(102,194,165)",
          "pattern": {
           "shape": ""
          }
         },
         "name": "Comentario sexista",
         "offsetgroup": "Comentario sexista",
         "orientation": "v",
         "showlegend": false,
         "textposition": "auto",
         "type": "bar",
         "x": [
          "Comentario sexista"
         ],
         "xaxis": "x",
         "y": [
          0
         ],
         "yaxis": "y"
        },
        {
         "alignmentgroup": "True",
         "hovertemplate": "Tipo de interacción=%{x}<br>Tipo_post=Temas Transversales<br>Cant=%{y}<extra></extra>",
         "legendgroup": "Comentario sexista",
         "marker": {
          "color": "rgb(102,194,165)",
          "pattern": {
           "shape": ""
          }
         },
         "name": "Comentario sexista",
         "offsetgroup": "Comentario sexista",
         "orientation": "v",
         "showlegend": false,
         "textposition": "auto",
         "type": "bar",
         "x": [
          "Comentario sexista"
         ],
         "xaxis": "x2",
         "y": [
          0
         ],
         "yaxis": "y2"
        },
        {
         "alignmentgroup": "True",
         "hovertemplate": "Tipo de interacción=%{x}<br>Tipo_post=Temas transversales<br>Cant=%{y}<extra></extra>",
         "legendgroup": "Comentario sexista",
         "marker": {
          "color": "rgb(102,194,165)",
          "pattern": {
           "shape": ""
          }
         },
         "name": "Comentario sexista",
         "offsetgroup": "Comentario sexista",
         "orientation": "v",
         "showlegend": false,
         "textposition": "auto",
         "type": "bar",
         "x": [
          "Comentario sexista"
         ],
         "xaxis": "x3",
         "y": [
          0
         ],
         "yaxis": "y3"
        },
        {
         "alignmentgroup": "True",
         "hovertemplate": "Tipo de interacción=%{x}<br>Tipo_post=Cápsula<br>Cant=%{y}<extra></extra>",
         "legendgroup": "En pro de la equidad de Género",
         "marker": {
          "color": "rgb(252,141,98)",
          "pattern": {
           "shape": ""
          }
         },
         "name": "En pro de la equidad de Género",
         "offsetgroup": "En pro de la equidad de Género",
         "orientation": "v",
         "showlegend": true,
         "textposition": "auto",
         "type": "bar",
         "x": [
          "En pro de la equidad de Género"
         ],
         "xaxis": "x7",
         "y": [
          0
         ],
         "yaxis": "y7"
        },
        {
         "alignmentgroup": "True",
         "hovertemplate": "Tipo de interacción=%{x}<br>Tipo_post=Encuentros educativos<br>Cant=%{y}<extra></extra>",
         "legendgroup": "En pro de la equidad de Género",
         "marker": {
          "color": "rgb(252,141,98)",
          "pattern": {
           "shape": ""
          }
         },
         "name": "En pro de la equidad de Género",
         "offsetgroup": "En pro de la equidad de Género",
         "orientation": "v",
         "showlegend": false,
         "textposition": "auto",
         "type": "bar",
         "x": [
          "En pro de la equidad de Género"
         ],
         "xaxis": "x8",
         "y": [
          0
         ],
         "yaxis": "y8"
        },
        {
         "alignmentgroup": "True",
         "hovertemplate": "Tipo de interacción=%{x}<br>Tipo_post=Experiencia<br>Cant=%{y}<extra></extra>",
         "legendgroup": "En pro de la equidad de Género",
         "marker": {
          "color": "rgb(252,141,98)",
          "pattern": {
           "shape": ""
          }
         },
         "name": "En pro de la equidad de Género",
         "offsetgroup": "En pro de la equidad de Género",
         "orientation": "v",
         "showlegend": false,
         "textposition": "auto",
         "type": "bar",
         "x": [
          "En pro de la equidad de Género"
         ],
         "xaxis": "x9",
         "y": [
          0
         ],
         "yaxis": "y9"
        },
        {
         "alignmentgroup": "True",
         "hovertemplate": "Tipo de interacción=%{x}<br>Tipo_post=Invitación<br>Cant=%{y}<extra></extra>",
         "legendgroup": "En pro de la equidad de Género",
         "marker": {
          "color": "rgb(252,141,98)",
          "pattern": {
           "shape": ""
          }
         },
         "name": "En pro de la equidad de Género",
         "offsetgroup": "En pro de la equidad de Género",
         "orientation": "v",
         "showlegend": false,
         "textposition": "auto",
         "type": "bar",
         "x": [
          "En pro de la equidad de Género"
         ],
         "xaxis": "x4",
         "y": [
          0
         ],
         "yaxis": "y4"
        },
        {
         "alignmentgroup": "True",
         "hovertemplate": "Tipo de interacción=%{x}<br>Tipo_post=Personas Inspiradoras<br>Cant=%{y}<extra></extra>",
         "legendgroup": "En pro de la equidad de Género",
         "marker": {
          "color": "rgb(252,141,98)",
          "pattern": {
           "shape": ""
          }
         },
         "name": "En pro de la equidad de Género",
         "offsetgroup": "En pro de la equidad de Género",
         "orientation": "v",
         "showlegend": false,
         "textposition": "auto",
         "type": "bar",
         "x": [
          "En pro de la equidad de Género"
         ],
         "xaxis": "x5",
         "y": [
          1
         ],
         "yaxis": "y5"
        },
        {
         "alignmentgroup": "True",
         "hovertemplate": "Tipo de interacción=%{x}<br>Tipo_post=Recursos<br>Cant=%{y}<extra></extra>",
         "legendgroup": "En pro de la equidad de Género",
         "marker": {
          "color": "rgb(252,141,98)",
          "pattern": {
           "shape": ""
          }
         },
         "name": "En pro de la equidad de Género",
         "offsetgroup": "En pro de la equidad de Género",
         "orientation": "v",
         "showlegend": false,
         "textposition": "auto",
         "type": "bar",
         "x": [
          "En pro de la equidad de Género"
         ],
         "xaxis": "x6",
         "y": [
          0
         ],
         "yaxis": "y6"
        },
        {
         "alignmentgroup": "True",
         "hovertemplate": "Tipo de interacción=%{x}<br>Tipo_post=TBT<br>Cant=%{y}<extra></extra>",
         "legendgroup": "En pro de la equidad de Género",
         "marker": {
          "color": "rgb(252,141,98)",
          "pattern": {
           "shape": ""
          }
         },
         "name": "En pro de la equidad de Género",
         "offsetgroup": "En pro de la equidad de Género",
         "orientation": "v",
         "showlegend": false,
         "textposition": "auto",
         "type": "bar",
         "x": [
          "En pro de la equidad de Género"
         ],
         "xaxis": "x",
         "y": [
          0
         ],
         "yaxis": "y"
        },
        {
         "alignmentgroup": "True",
         "hovertemplate": "Tipo de interacción=%{x}<br>Tipo_post=Temas Transversales<br>Cant=%{y}<extra></extra>",
         "legendgroup": "En pro de la equidad de Género",
         "marker": {
          "color": "rgb(252,141,98)",
          "pattern": {
           "shape": ""
          }
         },
         "name": "En pro de la equidad de Género",
         "offsetgroup": "En pro de la equidad de Género",
         "orientation": "v",
         "showlegend": false,
         "textposition": "auto",
         "type": "bar",
         "x": [
          "En pro de la equidad de Género"
         ],
         "xaxis": "x2",
         "y": [
          0
         ],
         "yaxis": "y2"
        },
        {
         "alignmentgroup": "True",
         "hovertemplate": "Tipo de interacción=%{x}<br>Tipo_post=Temas transversales<br>Cant=%{y}<extra></extra>",
         "legendgroup": "En pro de la equidad de Género",
         "marker": {
          "color": "rgb(252,141,98)",
          "pattern": {
           "shape": ""
          }
         },
         "name": "En pro de la equidad de Género",
         "offsetgroup": "En pro de la equidad de Género",
         "orientation": "v",
         "showlegend": false,
         "textposition": "auto",
         "type": "bar",
         "x": [
          "En pro de la equidad de Género"
         ],
         "xaxis": "x3",
         "y": [
          0
         ],
         "yaxis": "y3"
        },
        {
         "alignmentgroup": "True",
         "hovertemplate": "Tipo de interacción=%{x}<br>Tipo_post=Cápsula<br>Cant=%{y}<extra></extra>",
         "legendgroup": "Lenguaje Inclusivo",
         "marker": {
          "color": "rgb(141,160,203)",
          "pattern": {
           "shape": ""
          }
         },
         "name": "Lenguaje Inclusivo",
         "offsetgroup": "Lenguaje Inclusivo",
         "orientation": "v",
         "showlegend": true,
         "textposition": "auto",
         "type": "bar",
         "x": [
          "Lenguaje Inclusivo"
         ],
         "xaxis": "x7",
         "y": [
          0
         ],
         "yaxis": "y7"
        },
        {
         "alignmentgroup": "True",
         "hovertemplate": "Tipo de interacción=%{x}<br>Tipo_post=Encuentros educativos<br>Cant=%{y}<extra></extra>",
         "legendgroup": "Lenguaje Inclusivo",
         "marker": {
          "color": "rgb(141,160,203)",
          "pattern": {
           "shape": ""
          }
         },
         "name": "Lenguaje Inclusivo",
         "offsetgroup": "Lenguaje Inclusivo",
         "orientation": "v",
         "showlegend": false,
         "textposition": "auto",
         "type": "bar",
         "x": [
          "Lenguaje Inclusivo"
         ],
         "xaxis": "x8",
         "y": [
          1
         ],
         "yaxis": "y8"
        },
        {
         "alignmentgroup": "True",
         "hovertemplate": "Tipo de interacción=%{x}<br>Tipo_post=Experiencia<br>Cant=%{y}<extra></extra>",
         "legendgroup": "Lenguaje Inclusivo",
         "marker": {
          "color": "rgb(141,160,203)",
          "pattern": {
           "shape": ""
          }
         },
         "name": "Lenguaje Inclusivo",
         "offsetgroup": "Lenguaje Inclusivo",
         "orientation": "v",
         "showlegend": false,
         "textposition": "auto",
         "type": "bar",
         "x": [
          "Lenguaje Inclusivo"
         ],
         "xaxis": "x9",
         "y": [
          2
         ],
         "yaxis": "y9"
        },
        {
         "alignmentgroup": "True",
         "hovertemplate": "Tipo de interacción=%{x}<br>Tipo_post=Invitación<br>Cant=%{y}<extra></extra>",
         "legendgroup": "Lenguaje Inclusivo",
         "marker": {
          "color": "rgb(141,160,203)",
          "pattern": {
           "shape": ""
          }
         },
         "name": "Lenguaje Inclusivo",
         "offsetgroup": "Lenguaje Inclusivo",
         "orientation": "v",
         "showlegend": false,
         "textposition": "auto",
         "type": "bar",
         "x": [
          "Lenguaje Inclusivo"
         ],
         "xaxis": "x4",
         "y": [
          0
         ],
         "yaxis": "y4"
        },
        {
         "alignmentgroup": "True",
         "hovertemplate": "Tipo de interacción=%{x}<br>Tipo_post=Personas Inspiradoras<br>Cant=%{y}<extra></extra>",
         "legendgroup": "Lenguaje Inclusivo",
         "marker": {
          "color": "rgb(141,160,203)",
          "pattern": {
           "shape": ""
          }
         },
         "name": "Lenguaje Inclusivo",
         "offsetgroup": "Lenguaje Inclusivo",
         "orientation": "v",
         "showlegend": false,
         "textposition": "auto",
         "type": "bar",
         "x": [
          "Lenguaje Inclusivo"
         ],
         "xaxis": "x5",
         "y": [
          1
         ],
         "yaxis": "y5"
        },
        {
         "alignmentgroup": "True",
         "hovertemplate": "Tipo de interacción=%{x}<br>Tipo_post=Recursos<br>Cant=%{y}<extra></extra>",
         "legendgroup": "Lenguaje Inclusivo",
         "marker": {
          "color": "rgb(141,160,203)",
          "pattern": {
           "shape": ""
          }
         },
         "name": "Lenguaje Inclusivo",
         "offsetgroup": "Lenguaje Inclusivo",
         "orientation": "v",
         "showlegend": false,
         "textposition": "auto",
         "type": "bar",
         "x": [
          "Lenguaje Inclusivo"
         ],
         "xaxis": "x6",
         "y": [
          0
         ],
         "yaxis": "y6"
        },
        {
         "alignmentgroup": "True",
         "hovertemplate": "Tipo de interacción=%{x}<br>Tipo_post=TBT<br>Cant=%{y}<extra></extra>",
         "legendgroup": "Lenguaje Inclusivo",
         "marker": {
          "color": "rgb(141,160,203)",
          "pattern": {
           "shape": ""
          }
         },
         "name": "Lenguaje Inclusivo",
         "offsetgroup": "Lenguaje Inclusivo",
         "orientation": "v",
         "showlegend": false,
         "textposition": "auto",
         "type": "bar",
         "x": [
          "Lenguaje Inclusivo"
         ],
         "xaxis": "x",
         "y": [
          0
         ],
         "yaxis": "y"
        },
        {
         "alignmentgroup": "True",
         "hovertemplate": "Tipo de interacción=%{x}<br>Tipo_post=Temas Transversales<br>Cant=%{y}<extra></extra>",
         "legendgroup": "Lenguaje Inclusivo",
         "marker": {
          "color": "rgb(141,160,203)",
          "pattern": {
           "shape": ""
          }
         },
         "name": "Lenguaje Inclusivo",
         "offsetgroup": "Lenguaje Inclusivo",
         "orientation": "v",
         "showlegend": false,
         "textposition": "auto",
         "type": "bar",
         "x": [
          "Lenguaje Inclusivo"
         ],
         "xaxis": "x2",
         "y": [
          0
         ],
         "yaxis": "y2"
        },
        {
         "alignmentgroup": "True",
         "hovertemplate": "Tipo de interacción=%{x}<br>Tipo_post=Temas transversales<br>Cant=%{y}<extra></extra>",
         "legendgroup": "Lenguaje Inclusivo",
         "marker": {
          "color": "rgb(141,160,203)",
          "pattern": {
           "shape": ""
          }
         },
         "name": "Lenguaje Inclusivo",
         "offsetgroup": "Lenguaje Inclusivo",
         "orientation": "v",
         "showlegend": false,
         "textposition": "auto",
         "type": "bar",
         "x": [
          "Lenguaje Inclusivo"
         ],
         "xaxis": "x3",
         "y": [
          0
         ],
         "yaxis": "y3"
        },
        {
         "alignmentgroup": "True",
         "hovertemplate": "Tipo de interacción=%{x}<br>Tipo_post=Cápsula<br>Cant=%{y}<extra></extra>",
         "legendgroup": "No relevante en perspectiva de género",
         "marker": {
          "color": "rgb(231,138,195)",
          "pattern": {
           "shape": ""
          }
         },
         "name": "No relevante en perspectiva de género",
         "offsetgroup": "No relevante en perspectiva de género",
         "orientation": "v",
         "showlegend": true,
         "textposition": "auto",
         "type": "bar",
         "x": [
          "No relevante en perspectiva de género"
         ],
         "xaxis": "x7",
         "y": [
          2
         ],
         "yaxis": "y7"
        },
        {
         "alignmentgroup": "True",
         "hovertemplate": "Tipo de interacción=%{x}<br>Tipo_post=Encuentros educativos<br>Cant=%{y}<extra></extra>",
         "legendgroup": "No relevante en perspectiva de género",
         "marker": {
          "color": "rgb(231,138,195)",
          "pattern": {
           "shape": ""
          }
         },
         "name": "No relevante en perspectiva de género",
         "offsetgroup": "No relevante en perspectiva de género",
         "orientation": "v",
         "showlegend": false,
         "textposition": "auto",
         "type": "bar",
         "x": [
          "No relevante en perspectiva de género"
         ],
         "xaxis": "x8",
         "y": [
          44
         ],
         "yaxis": "y8"
        },
        {
         "alignmentgroup": "True",
         "hovertemplate": "Tipo de interacción=%{x}<br>Tipo_post=Experiencia<br>Cant=%{y}<extra></extra>",
         "legendgroup": "No relevante en perspectiva de género",
         "marker": {
          "color": "rgb(231,138,195)",
          "pattern": {
           "shape": ""
          }
         },
         "name": "No relevante en perspectiva de género",
         "offsetgroup": "No relevante en perspectiva de género",
         "orientation": "v",
         "showlegend": false,
         "textposition": "auto",
         "type": "bar",
         "x": [
          "No relevante en perspectiva de género"
         ],
         "xaxis": "x9",
         "y": [
          15
         ],
         "yaxis": "y9"
        },
        {
         "alignmentgroup": "True",
         "hovertemplate": "Tipo de interacción=%{x}<br>Tipo_post=Invitación<br>Cant=%{y}<extra></extra>",
         "legendgroup": "No relevante en perspectiva de género",
         "marker": {
          "color": "rgb(231,138,195)",
          "pattern": {
           "shape": ""
          }
         },
         "name": "No relevante en perspectiva de género",
         "offsetgroup": "No relevante en perspectiva de género",
         "orientation": "v",
         "showlegend": false,
         "textposition": "auto",
         "type": "bar",
         "x": [
          "No relevante en perspectiva de género"
         ],
         "xaxis": "x4",
         "y": [
          16
         ],
         "yaxis": "y4"
        },
        {
         "alignmentgroup": "True",
         "hovertemplate": "Tipo de interacción=%{x}<br>Tipo_post=Personas Inspiradoras<br>Cant=%{y}<extra></extra>",
         "legendgroup": "No relevante en perspectiva de género",
         "marker": {
          "color": "rgb(231,138,195)",
          "pattern": {
           "shape": ""
          }
         },
         "name": "No relevante en perspectiva de género",
         "offsetgroup": "No relevante en perspectiva de género",
         "orientation": "v",
         "showlegend": false,
         "textposition": "auto",
         "type": "bar",
         "x": [
          "No relevante en perspectiva de género"
         ],
         "xaxis": "x5",
         "y": [
          8
         ],
         "yaxis": "y5"
        },
        {
         "alignmentgroup": "True",
         "hovertemplate": "Tipo de interacción=%{x}<br>Tipo_post=Recursos<br>Cant=%{y}<extra></extra>",
         "legendgroup": "No relevante en perspectiva de género",
         "marker": {
          "color": "rgb(231,138,195)",
          "pattern": {
           "shape": ""
          }
         },
         "name": "No relevante en perspectiva de género",
         "offsetgroup": "No relevante en perspectiva de género",
         "orientation": "v",
         "showlegend": false,
         "textposition": "auto",
         "type": "bar",
         "x": [
          "No relevante en perspectiva de género"
         ],
         "xaxis": "x6",
         "y": [
          6
         ],
         "yaxis": "y6"
        },
        {
         "alignmentgroup": "True",
         "hovertemplate": "Tipo de interacción=%{x}<br>Tipo_post=TBT<br>Cant=%{y}<extra></extra>",
         "legendgroup": "No relevante en perspectiva de género",
         "marker": {
          "color": "rgb(231,138,195)",
          "pattern": {
           "shape": ""
          }
         },
         "name": "No relevante en perspectiva de género",
         "offsetgroup": "No relevante en perspectiva de género",
         "orientation": "v",
         "showlegend": false,
         "textposition": "auto",
         "type": "bar",
         "x": [
          "No relevante en perspectiva de género"
         ],
         "xaxis": "x",
         "y": [
          12
         ],
         "yaxis": "y"
        },
        {
         "alignmentgroup": "True",
         "hovertemplate": "Tipo de interacción=%{x}<br>Tipo_post=Temas Transversales<br>Cant=%{y}<extra></extra>",
         "legendgroup": "No relevante en perspectiva de género",
         "marker": {
          "color": "rgb(231,138,195)",
          "pattern": {
           "shape": ""
          }
         },
         "name": "No relevante en perspectiva de género",
         "offsetgroup": "No relevante en perspectiva de género",
         "orientation": "v",
         "showlegend": false,
         "textposition": "auto",
         "type": "bar",
         "x": [
          "No relevante en perspectiva de género"
         ],
         "xaxis": "x2",
         "y": [
          1
         ],
         "yaxis": "y2"
        },
        {
         "alignmentgroup": "True",
         "hovertemplate": "Tipo de interacción=%{x}<br>Tipo_post=Temas transversales<br>Cant=%{y}<extra></extra>",
         "legendgroup": "No relevante en perspectiva de género",
         "marker": {
          "color": "rgb(231,138,195)",
          "pattern": {
           "shape": ""
          }
         },
         "name": "No relevante en perspectiva de género",
         "offsetgroup": "No relevante en perspectiva de género",
         "orientation": "v",
         "showlegend": false,
         "textposition": "auto",
         "type": "bar",
         "x": [
          "No relevante en perspectiva de género"
         ],
         "xaxis": "x3",
         "y": [
          3
         ],
         "yaxis": "y3"
        },
        {
         "alignmentgroup": "True",
         "hovertemplate": "Tipo de interacción=%{x}<br>Tipo_post=Cápsula<br>Cant=%{y}<extra></extra>",
         "legendgroup": "Uso de lenguaje no inclusivo",
         "marker": {
          "color": "rgb(166,216,84)",
          "pattern": {
           "shape": ""
          }
         },
         "name": "Uso de lenguaje no inclusivo",
         "offsetgroup": "Uso de lenguaje no inclusivo",
         "orientation": "v",
         "showlegend": true,
         "textposition": "auto",
         "type": "bar",
         "x": [
          "Uso de lenguaje no inclusivo"
         ],
         "xaxis": "x7",
         "y": [
          0
         ],
         "yaxis": "y7"
        },
        {
         "alignmentgroup": "True",
         "hovertemplate": "Tipo de interacción=%{x}<br>Tipo_post=Encuentros educativos<br>Cant=%{y}<extra></extra>",
         "legendgroup": "Uso de lenguaje no inclusivo",
         "marker": {
          "color": "rgb(166,216,84)",
          "pattern": {
           "shape": ""
          }
         },
         "name": "Uso de lenguaje no inclusivo",
         "offsetgroup": "Uso de lenguaje no inclusivo",
         "orientation": "v",
         "showlegend": false,
         "textposition": "auto",
         "type": "bar",
         "x": [
          "Uso de lenguaje no inclusivo"
         ],
         "xaxis": "x8",
         "y": [
          10
         ],
         "yaxis": "y8"
        },
        {
         "alignmentgroup": "True",
         "hovertemplate": "Tipo de interacción=%{x}<br>Tipo_post=Experiencia<br>Cant=%{y}<extra></extra>",
         "legendgroup": "Uso de lenguaje no inclusivo",
         "marker": {
          "color": "rgb(166,216,84)",
          "pattern": {
           "shape": ""
          }
         },
         "name": "Uso de lenguaje no inclusivo",
         "offsetgroup": "Uso de lenguaje no inclusivo",
         "orientation": "v",
         "showlegend": false,
         "textposition": "auto",
         "type": "bar",
         "x": [
          "Uso de lenguaje no inclusivo"
         ],
         "xaxis": "x9",
         "y": [
          0
         ],
         "yaxis": "y9"
        },
        {
         "alignmentgroup": "True",
         "hovertemplate": "Tipo de interacción=%{x}<br>Tipo_post=Invitación<br>Cant=%{y}<extra></extra>",
         "legendgroup": "Uso de lenguaje no inclusivo",
         "marker": {
          "color": "rgb(166,216,84)",
          "pattern": {
           "shape": ""
          }
         },
         "name": "Uso de lenguaje no inclusivo",
         "offsetgroup": "Uso de lenguaje no inclusivo",
         "orientation": "v",
         "showlegend": false,
         "textposition": "auto",
         "type": "bar",
         "x": [
          "Uso de lenguaje no inclusivo"
         ],
         "xaxis": "x4",
         "y": [
          1
         ],
         "yaxis": "y4"
        },
        {
         "alignmentgroup": "True",
         "hovertemplate": "Tipo de interacción=%{x}<br>Tipo_post=Personas Inspiradoras<br>Cant=%{y}<extra></extra>",
         "legendgroup": "Uso de lenguaje no inclusivo",
         "marker": {
          "color": "rgb(166,216,84)",
          "pattern": {
           "shape": ""
          }
         },
         "name": "Uso de lenguaje no inclusivo",
         "offsetgroup": "Uso de lenguaje no inclusivo",
         "orientation": "v",
         "showlegend": false,
         "textposition": "auto",
         "type": "bar",
         "x": [
          "Uso de lenguaje no inclusivo"
         ],
         "xaxis": "x5",
         "y": [
          1
         ],
         "yaxis": "y5"
        },
        {
         "alignmentgroup": "True",
         "hovertemplate": "Tipo de interacción=%{x}<br>Tipo_post=Recursos<br>Cant=%{y}<extra></extra>",
         "legendgroup": "Uso de lenguaje no inclusivo",
         "marker": {
          "color": "rgb(166,216,84)",
          "pattern": {
           "shape": ""
          }
         },
         "name": "Uso de lenguaje no inclusivo",
         "offsetgroup": "Uso de lenguaje no inclusivo",
         "orientation": "v",
         "showlegend": false,
         "textposition": "auto",
         "type": "bar",
         "x": [
          "Uso de lenguaje no inclusivo"
         ],
         "xaxis": "x6",
         "y": [
          1
         ],
         "yaxis": "y6"
        },
        {
         "alignmentgroup": "True",
         "hovertemplate": "Tipo de interacción=%{x}<br>Tipo_post=TBT<br>Cant=%{y}<extra></extra>",
         "legendgroup": "Uso de lenguaje no inclusivo",
         "marker": {
          "color": "rgb(166,216,84)",
          "pattern": {
           "shape": ""
          }
         },
         "name": "Uso de lenguaje no inclusivo",
         "offsetgroup": "Uso de lenguaje no inclusivo",
         "orientation": "v",
         "showlegend": false,
         "textposition": "auto",
         "type": "bar",
         "x": [
          "Uso de lenguaje no inclusivo"
         ],
         "xaxis": "x",
         "y": [
          1
         ],
         "yaxis": "y"
        },
        {
         "alignmentgroup": "True",
         "hovertemplate": "Tipo de interacción=%{x}<br>Tipo_post=Temas Transversales<br>Cant=%{y}<extra></extra>",
         "legendgroup": "Uso de lenguaje no inclusivo",
         "marker": {
          "color": "rgb(166,216,84)",
          "pattern": {
           "shape": ""
          }
         },
         "name": "Uso de lenguaje no inclusivo",
         "offsetgroup": "Uso de lenguaje no inclusivo",
         "orientation": "v",
         "showlegend": false,
         "textposition": "auto",
         "type": "bar",
         "x": [
          "Uso de lenguaje no inclusivo"
         ],
         "xaxis": "x2",
         "y": [
          0
         ],
         "yaxis": "y2"
        },
        {
         "alignmentgroup": "True",
         "hovertemplate": "Tipo de interacción=%{x}<br>Tipo_post=Temas transversales<br>Cant=%{y}<extra></extra>",
         "legendgroup": "Uso de lenguaje no inclusivo",
         "marker": {
          "color": "rgb(166,216,84)",
          "pattern": {
           "shape": ""
          }
         },
         "name": "Uso de lenguaje no inclusivo",
         "offsetgroup": "Uso de lenguaje no inclusivo",
         "orientation": "v",
         "showlegend": false,
         "textposition": "auto",
         "type": "bar",
         "x": [
          "Uso de lenguaje no inclusivo"
         ],
         "xaxis": "x3",
         "y": [
          0
         ],
         "yaxis": "y3"
        }
       ],
       "layout": {
        "annotations": [
         {
          "font": {},
          "showarrow": false,
          "text": "TBT",
          "x": 0.15999999999999998,
          "xanchor": "center",
          "xref": "paper",
          "y": 0.2866666666666666,
          "yanchor": "bottom",
          "yref": "paper"
         },
         {
          "font": {},
          "showarrow": false,
          "text": "Temas Transversales",
          "x": 0.49999999999999994,
          "xanchor": "center",
          "xref": "paper",
          "y": 0.2866666666666666,
          "yanchor": "bottom",
          "yref": "paper"
         },
         {
          "font": {},
          "showarrow": false,
          "text": "Temas transversales",
          "x": 0.8399999999999999,
          "xanchor": "center",
          "xref": "paper",
          "y": 0.2866666666666666,
          "yanchor": "bottom",
          "yref": "paper"
         },
         {
          "font": {},
          "showarrow": false,
          "text": "Invitación",
          "x": 0.15999999999999998,
          "xanchor": "center",
          "xref": "paper",
          "y": 0.6433333333333333,
          "yanchor": "bottom",
          "yref": "paper"
         },
         {
          "font": {},
          "showarrow": false,
          "text": "Personas Inspiradoras",
          "x": 0.49999999999999994,
          "xanchor": "center",
          "xref": "paper",
          "y": 0.6433333333333333,
          "yanchor": "bottom",
          "yref": "paper"
         },
         {
          "font": {},
          "showarrow": false,
          "text": "Recursos",
          "x": 0.8399999999999999,
          "xanchor": "center",
          "xref": "paper",
          "y": 0.6433333333333333,
          "yanchor": "bottom",
          "yref": "paper"
         },
         {
          "font": {},
          "showarrow": false,
          "text": "Cápsula",
          "x": 0.15999999999999998,
          "xanchor": "center",
          "xref": "paper",
          "y": 0.9999999999999999,
          "yanchor": "bottom",
          "yref": "paper"
         },
         {
          "font": {},
          "showarrow": false,
          "text": "Encuentros educativos",
          "x": 0.49999999999999994,
          "xanchor": "center",
          "xref": "paper",
          "y": 0.9999999999999999,
          "yanchor": "bottom",
          "yref": "paper"
         },
         {
          "font": {},
          "showarrow": false,
          "text": "Experiencia",
          "x": 0.8399999999999999,
          "xanchor": "center",
          "xref": "paper",
          "y": 0.9999999999999999,
          "yanchor": "bottom",
          "yref": "paper"
         }
        ],
        "autosize": true,
        "barmode": "relative",
        "legend": {
         "title": {
          "text": "Tipo de interacción"
         },
         "tracegroupgap": 0,
         "x": 0.9583802816901409,
         "y": 1
        },
        "margin": {
         "t": 60
        },
        "template": {
         "data": {
          "bar": [
           {
            "error_x": {
             "color": "#2a3f5f"
            },
            "error_y": {
             "color": "#2a3f5f"
            },
            "marker": {
             "line": {
              "color": "white",
              "width": 0.5
             },
             "pattern": {
              "fillmode": "overlay",
              "size": 10,
              "solidity": 0.2
             }
            },
            "type": "bar"
           }
          ],
          "barpolar": [
           {
            "marker": {
             "line": {
              "color": "white",
              "width": 0.5
             },
             "pattern": {
              "fillmode": "overlay",
              "size": 10,
              "solidity": 0.2
             }
            },
            "type": "barpolar"
           }
          ],
          "carpet": [
           {
            "aaxis": {
             "endlinecolor": "#2a3f5f",
             "gridcolor": "#C8D4E3",
             "linecolor": "#C8D4E3",
             "minorgridcolor": "#C8D4E3",
             "startlinecolor": "#2a3f5f"
            },
            "baxis": {
             "endlinecolor": "#2a3f5f",
             "gridcolor": "#C8D4E3",
             "linecolor": "#C8D4E3",
             "minorgridcolor": "#C8D4E3",
             "startlinecolor": "#2a3f5f"
            },
            "type": "carpet"
           }
          ],
          "choropleth": [
           {
            "colorbar": {
             "outlinewidth": 0,
             "ticks": ""
            },
            "type": "choropleth"
           }
          ],
          "contour": [
           {
            "colorbar": {
             "outlinewidth": 0,
             "ticks": ""
            },
            "colorscale": [
             [
              0,
              "#0d0887"
             ],
             [
              0.1111111111111111,
              "#46039f"
             ],
             [
              0.2222222222222222,
              "#7201a8"
             ],
             [
              0.3333333333333333,
              "#9c179e"
             ],
             [
              0.4444444444444444,
              "#bd3786"
             ],
             [
              0.5555555555555556,
              "#d8576b"
             ],
             [
              0.6666666666666666,
              "#ed7953"
             ],
             [
              0.7777777777777778,
              "#fb9f3a"
             ],
             [
              0.8888888888888888,
              "#fdca26"
             ],
             [
              1,
              "#f0f921"
             ]
            ],
            "type": "contour"
           }
          ],
          "contourcarpet": [
           {
            "colorbar": {
             "outlinewidth": 0,
             "ticks": ""
            },
            "type": "contourcarpet"
           }
          ],
          "heatmap": [
           {
            "colorbar": {
             "outlinewidth": 0,
             "ticks": ""
            },
            "colorscale": [
             [
              0,
              "#0d0887"
             ],
             [
              0.1111111111111111,
              "#46039f"
             ],
             [
              0.2222222222222222,
              "#7201a8"
             ],
             [
              0.3333333333333333,
              "#9c179e"
             ],
             [
              0.4444444444444444,
              "#bd3786"
             ],
             [
              0.5555555555555556,
              "#d8576b"
             ],
             [
              0.6666666666666666,
              "#ed7953"
             ],
             [
              0.7777777777777778,
              "#fb9f3a"
             ],
             [
              0.8888888888888888,
              "#fdca26"
             ],
             [
              1,
              "#f0f921"
             ]
            ],
            "type": "heatmap"
           }
          ],
          "heatmapgl": [
           {
            "colorbar": {
             "outlinewidth": 0,
             "ticks": ""
            },
            "colorscale": [
             [
              0,
              "#0d0887"
             ],
             [
              0.1111111111111111,
              "#46039f"
             ],
             [
              0.2222222222222222,
              "#7201a8"
             ],
             [
              0.3333333333333333,
              "#9c179e"
             ],
             [
              0.4444444444444444,
              "#bd3786"
             ],
             [
              0.5555555555555556,
              "#d8576b"
             ],
             [
              0.6666666666666666,
              "#ed7953"
             ],
             [
              0.7777777777777778,
              "#fb9f3a"
             ],
             [
              0.8888888888888888,
              "#fdca26"
             ],
             [
              1,
              "#f0f921"
             ]
            ],
            "type": "heatmapgl"
           }
          ],
          "histogram": [
           {
            "marker": {
             "pattern": {
              "fillmode": "overlay",
              "size": 10,
              "solidity": 0.2
             }
            },
            "type": "histogram"
           }
          ],
          "histogram2d": [
           {
            "colorbar": {
             "outlinewidth": 0,
             "ticks": ""
            },
            "colorscale": [
             [
              0,
              "#0d0887"
             ],
             [
              0.1111111111111111,
              "#46039f"
             ],
             [
              0.2222222222222222,
              "#7201a8"
             ],
             [
              0.3333333333333333,
              "#9c179e"
             ],
             [
              0.4444444444444444,
              "#bd3786"
             ],
             [
              0.5555555555555556,
              "#d8576b"
             ],
             [
              0.6666666666666666,
              "#ed7953"
             ],
             [
              0.7777777777777778,
              "#fb9f3a"
             ],
             [
              0.8888888888888888,
              "#fdca26"
             ],
             [
              1,
              "#f0f921"
             ]
            ],
            "type": "histogram2d"
           }
          ],
          "histogram2dcontour": [
           {
            "colorbar": {
             "outlinewidth": 0,
             "ticks": ""
            },
            "colorscale": [
             [
              0,
              "#0d0887"
             ],
             [
              0.1111111111111111,
              "#46039f"
             ],
             [
              0.2222222222222222,
              "#7201a8"
             ],
             [
              0.3333333333333333,
              "#9c179e"
             ],
             [
              0.4444444444444444,
              "#bd3786"
             ],
             [
              0.5555555555555556,
              "#d8576b"
             ],
             [
              0.6666666666666666,
              "#ed7953"
             ],
             [
              0.7777777777777778,
              "#fb9f3a"
             ],
             [
              0.8888888888888888,
              "#fdca26"
             ],
             [
              1,
              "#f0f921"
             ]
            ],
            "type": "histogram2dcontour"
           }
          ],
          "mesh3d": [
           {
            "colorbar": {
             "outlinewidth": 0,
             "ticks": ""
            },
            "type": "mesh3d"
           }
          ],
          "parcoords": [
           {
            "line": {
             "colorbar": {
              "outlinewidth": 0,
              "ticks": ""
             }
            },
            "type": "parcoords"
           }
          ],
          "pie": [
           {
            "automargin": true,
            "type": "pie"
           }
          ],
          "scatter": [
           {
            "marker": {
             "colorbar": {
              "outlinewidth": 0,
              "ticks": ""
             }
            },
            "type": "scatter"
           }
          ],
          "scatter3d": [
           {
            "line": {
             "colorbar": {
              "outlinewidth": 0,
              "ticks": ""
             }
            },
            "marker": {
             "colorbar": {
              "outlinewidth": 0,
              "ticks": ""
             }
            },
            "type": "scatter3d"
           }
          ],
          "scattercarpet": [
           {
            "marker": {
             "colorbar": {
              "outlinewidth": 0,
              "ticks": ""
             }
            },
            "type": "scattercarpet"
           }
          ],
          "scattergeo": [
           {
            "marker": {
             "colorbar": {
              "outlinewidth": 0,
              "ticks": ""
             }
            },
            "type": "scattergeo"
           }
          ],
          "scattergl": [
           {
            "marker": {
             "colorbar": {
              "outlinewidth": 0,
              "ticks": ""
             }
            },
            "type": "scattergl"
           }
          ],
          "scattermapbox": [
           {
            "marker": {
             "colorbar": {
              "outlinewidth": 0,
              "ticks": ""
             }
            },
            "type": "scattermapbox"
           }
          ],
          "scatterpolar": [
           {
            "marker": {
             "colorbar": {
              "outlinewidth": 0,
              "ticks": ""
             }
            },
            "type": "scatterpolar"
           }
          ],
          "scatterpolargl": [
           {
            "marker": {
             "colorbar": {
              "outlinewidth": 0,
              "ticks": ""
             }
            },
            "type": "scatterpolargl"
           }
          ],
          "scatterternary": [
           {
            "marker": {
             "colorbar": {
              "outlinewidth": 0,
              "ticks": ""
             }
            },
            "type": "scatterternary"
           }
          ],
          "surface": [
           {
            "colorbar": {
             "outlinewidth": 0,
             "ticks": ""
            },
            "colorscale": [
             [
              0,
              "#0d0887"
             ],
             [
              0.1111111111111111,
              "#46039f"
             ],
             [
              0.2222222222222222,
              "#7201a8"
             ],
             [
              0.3333333333333333,
              "#9c179e"
             ],
             [
              0.4444444444444444,
              "#bd3786"
             ],
             [
              0.5555555555555556,
              "#d8576b"
             ],
             [
              0.6666666666666666,
              "#ed7953"
             ],
             [
              0.7777777777777778,
              "#fb9f3a"
             ],
             [
              0.8888888888888888,
              "#fdca26"
             ],
             [
              1,
              "#f0f921"
             ]
            ],
            "type": "surface"
           }
          ],
          "table": [
           {
            "cells": {
             "fill": {
              "color": "#EBF0F8"
             },
             "line": {
              "color": "white"
             }
            },
            "header": {
             "fill": {
              "color": "#C8D4E3"
             },
             "line": {
              "color": "white"
             }
            },
            "type": "table"
           }
          ]
         },
         "layout": {
          "annotationdefaults": {
           "arrowcolor": "#2a3f5f",
           "arrowhead": 0,
           "arrowwidth": 1
          },
          "autotypenumbers": "strict",
          "coloraxis": {
           "colorbar": {
            "outlinewidth": 0,
            "ticks": ""
           }
          },
          "colorscale": {
           "diverging": [
            [
             0,
             "#8e0152"
            ],
            [
             0.1,
             "#c51b7d"
            ],
            [
             0.2,
             "#de77ae"
            ],
            [
             0.3,
             "#f1b6da"
            ],
            [
             0.4,
             "#fde0ef"
            ],
            [
             0.5,
             "#f7f7f7"
            ],
            [
             0.6,
             "#e6f5d0"
            ],
            [
             0.7,
             "#b8e186"
            ],
            [
             0.8,
             "#7fbc41"
            ],
            [
             0.9,
             "#4d9221"
            ],
            [
             1,
             "#276419"
            ]
           ],
           "sequential": [
            [
             0,
             "#0d0887"
            ],
            [
             0.1111111111111111,
             "#46039f"
            ],
            [
             0.2222222222222222,
             "#7201a8"
            ],
            [
             0.3333333333333333,
             "#9c179e"
            ],
            [
             0.4444444444444444,
             "#bd3786"
            ],
            [
             0.5555555555555556,
             "#d8576b"
            ],
            [
             0.6666666666666666,
             "#ed7953"
            ],
            [
             0.7777777777777778,
             "#fb9f3a"
            ],
            [
             0.8888888888888888,
             "#fdca26"
            ],
            [
             1,
             "#f0f921"
            ]
           ],
           "sequentialminus": [
            [
             0,
             "#0d0887"
            ],
            [
             0.1111111111111111,
             "#46039f"
            ],
            [
             0.2222222222222222,
             "#7201a8"
            ],
            [
             0.3333333333333333,
             "#9c179e"
            ],
            [
             0.4444444444444444,
             "#bd3786"
            ],
            [
             0.5555555555555556,
             "#d8576b"
            ],
            [
             0.6666666666666666,
             "#ed7953"
            ],
            [
             0.7777777777777778,
             "#fb9f3a"
            ],
            [
             0.8888888888888888,
             "#fdca26"
            ],
            [
             1,
             "#f0f921"
            ]
           ]
          },
          "colorway": [
           "#636efa",
           "#EF553B",
           "#00cc96",
           "#ab63fa",
           "#FFA15A",
           "#19d3f3",
           "#FF6692",
           "#B6E880",
           "#FF97FF",
           "#FECB52"
          ],
          "font": {
           "color": "#2a3f5f"
          },
          "geo": {
           "bgcolor": "white",
           "lakecolor": "white",
           "landcolor": "white",
           "showlakes": true,
           "showland": true,
           "subunitcolor": "#C8D4E3"
          },
          "hoverlabel": {
           "align": "left"
          },
          "hovermode": "closest",
          "mapbox": {
           "style": "light"
          },
          "paper_bgcolor": "white",
          "plot_bgcolor": "white",
          "polar": {
           "angularaxis": {
            "gridcolor": "#EBF0F8",
            "linecolor": "#EBF0F8",
            "ticks": ""
           },
           "bgcolor": "white",
           "radialaxis": {
            "gridcolor": "#EBF0F8",
            "linecolor": "#EBF0F8",
            "ticks": ""
           }
          },
          "scene": {
           "xaxis": {
            "backgroundcolor": "white",
            "gridcolor": "#DFE8F3",
            "gridwidth": 2,
            "linecolor": "#EBF0F8",
            "showbackground": true,
            "ticks": "",
            "zerolinecolor": "#EBF0F8"
           },
           "yaxis": {
            "backgroundcolor": "white",
            "gridcolor": "#DFE8F3",
            "gridwidth": 2,
            "linecolor": "#EBF0F8",
            "showbackground": true,
            "ticks": "",
            "zerolinecolor": "#EBF0F8"
           },
           "zaxis": {
            "backgroundcolor": "white",
            "gridcolor": "#DFE8F3",
            "gridwidth": 2,
            "linecolor": "#EBF0F8",
            "showbackground": true,
            "ticks": "",
            "zerolinecolor": "#EBF0F8"
           }
          },
          "shapedefaults": {
           "line": {
            "color": "#2a3f5f"
           }
          },
          "ternary": {
           "aaxis": {
            "gridcolor": "#DFE8F3",
            "linecolor": "#A2B1C6",
            "ticks": ""
           },
           "baxis": {
            "gridcolor": "#DFE8F3",
            "linecolor": "#A2B1C6",
            "ticks": ""
           },
           "bgcolor": "white",
           "caxis": {
            "gridcolor": "#DFE8F3",
            "linecolor": "#A2B1C6",
            "ticks": ""
           }
          },
          "title": {
           "x": 0.05
          },
          "xaxis": {
           "automargin": true,
           "gridcolor": "#EBF0F8",
           "linecolor": "#EBF0F8",
           "ticks": "",
           "title": {
            "standoff": 15
           },
           "zerolinecolor": "#EBF0F8",
           "zerolinewidth": 2
          },
          "yaxis": {
           "automargin": true,
           "gridcolor": "#EBF0F8",
           "linecolor": "#EBF0F8",
           "ticks": "",
           "title": {
            "standoff": 15
           },
           "zerolinecolor": "#EBF0F8",
           "zerolinewidth": 2
          }
         }
        },
        "xaxis": {
         "anchor": "y",
         "autorange": false,
         "categoryarray": [
          "Comentario sexista",
          "En pro de la equidad de Género",
          "Lenguaje Inclusivo",
          "No relevante en perspectiva de género",
          "Uso de lenguaje no inclusivo"
         ],
         "categoryorder": "array",
         "domain": [
          0,
          0.31999999999999995
         ],
         "range": [
          -0.21657440458288257,
          5.0727361764682275
         ],
         "showticklabels": false,
         "title": {
          "text": "Tipo de interacción"
         },
         "type": "category",
         "visible": false
        },
        "xaxis2": {
         "anchor": "y2",
         "autorange": false,
         "categoryarray": [
          "Comentario sexista",
          "En pro de la equidad de Género",
          "Lenguaje Inclusivo",
          "No relevante en perspectiva de género",
          "Uso de lenguaje no inclusivo"
         ],
         "categoryorder": "array",
         "domain": [
          0.33999999999999997,
          0.6599999999999999
         ],
         "matches": "x",
         "range": [
          -0.21657440458288257,
          5.0727361764682275
         ],
         "showticklabels": false,
         "title": {
          "text": "Tipo de interacción"
         },
         "type": "category",
         "visible": false
        },
        "xaxis3": {
         "anchor": "y3",
         "autorange": false,
         "categoryarray": [
          "Comentario sexista",
          "En pro de la equidad de Género",
          "Lenguaje Inclusivo",
          "No relevante en perspectiva de género",
          "Uso de lenguaje no inclusivo"
         ],
         "categoryorder": "array",
         "domain": [
          0.6799999999999999,
          0.9999999999999999
         ],
         "matches": "x",
         "range": [
          -0.21657440458288257,
          5.0727361764682275
         ],
         "showticklabels": false,
         "title": {
          "text": "Tipo de interacción"
         },
         "type": "category",
         "visible": false
        },
        "xaxis4": {
         "anchor": "y4",
         "autorange": false,
         "domain": [
          0,
          0.31999999999999995
         ],
         "matches": "x",
         "range": [
          -0.21657440458288257,
          5.0727361764682275
         ],
         "showticklabels": false,
         "type": "category",
         "visible": false
        },
        "xaxis5": {
         "anchor": "y5",
         "autorange": false,
         "domain": [
          0.33999999999999997,
          0.6599999999999999
         ],
         "matches": "x",
         "range": [
          -0.21657440458288257,
          5.0727361764682275
         ],
         "showticklabels": false,
         "type": "category",
         "visible": false
        },
        "xaxis6": {
         "anchor": "y6",
         "autorange": false,
         "domain": [
          0.6799999999999999,
          0.9999999999999999
         ],
         "matches": "x",
         "range": [
          -0.21657440458288257,
          5.0727361764682275
         ],
         "showticklabels": false,
         "type": "category",
         "visible": false
        },
        "xaxis7": {
         "anchor": "y7",
         "autorange": false,
         "domain": [
          0,
          0.31999999999999995
         ],
         "matches": "x",
         "range": [
          -0.21657440458288257,
          5.0727361764682275
         ],
         "showticklabels": false,
         "type": "category",
         "visible": false
        },
        "xaxis8": {
         "anchor": "y8",
         "autorange": false,
         "domain": [
          0.33999999999999997,
          0.6599999999999999
         ],
         "matches": "x",
         "range": [
          -0.21657440458288257,
          5.0727361764682275
         ],
         "showticklabels": false,
         "type": "category",
         "visible": false
        },
        "xaxis9": {
         "anchor": "y9",
         "autorange": false,
         "domain": [
          0.6799999999999999,
          0.9999999999999999
         ],
         "matches": "x",
         "range": [
          -0.21657440458288257,
          5.0727361764682275
         ],
         "showticklabels": false,
         "type": "category",
         "visible": false
        },
        "yaxis": {
         "anchor": "x",
         "autorange": false,
         "domain": [
          0,
          0.2866666666666666
         ],
         "range": [
          -0.5534164432363973,
          45.473802069847096
         ],
         "title": {
          "text": "Cant"
         },
         "type": "linear"
        },
        "yaxis2": {
         "anchor": "x2",
         "autorange": false,
         "domain": [
          0,
          0.2866666666666666
         ],
         "matches": "y",
         "range": [
          -0.5534164432363973,
          45.473802069847096
         ],
         "showticklabels": false,
         "type": "linear"
        },
        "yaxis3": {
         "anchor": "x3",
         "autorange": false,
         "domain": [
          0,
          0.2866666666666666
         ],
         "matches": "y",
         "range": [
          -0.5534164432363973,
          45.473802069847096
         ],
         "showticklabels": false,
         "type": "linear"
        },
        "yaxis4": {
         "anchor": "x4",
         "autorange": false,
         "domain": [
          0.35666666666666663,
          0.6433333333333333
         ],
         "matches": "y",
         "range": [
          -0.5534164432363973,
          45.473802069847096
         ],
         "title": {
          "text": "Cant"
         },
         "type": "linear"
        },
        "yaxis5": {
         "anchor": "x5",
         "autorange": false,
         "domain": [
          0.35666666666666663,
          0.6433333333333333
         ],
         "matches": "y",
         "range": [
          -0.5534164432363973,
          45.473802069847096
         ],
         "showticklabels": false,
         "type": "linear"
        },
        "yaxis6": {
         "anchor": "x6",
         "autorange": false,
         "domain": [
          0.35666666666666663,
          0.6433333333333333
         ],
         "matches": "y",
         "range": [
          -0.5534164432363973,
          45.473802069847096
         ],
         "showticklabels": false,
         "type": "linear"
        },
        "yaxis7": {
         "anchor": "x7",
         "autorange": false,
         "domain": [
          0.7133333333333333,
          0.9999999999999999
         ],
         "matches": "y",
         "range": [
          -0.5534164432363973,
          45.473802069847096
         ],
         "title": {
          "text": "Cant"
         },
         "type": "linear"
        },
        "yaxis8": {
         "anchor": "x8",
         "autorange": false,
         "domain": [
          0.7133333333333333,
          0.9999999999999999
         ],
         "matches": "y",
         "range": [
          -0.5534164432363973,
          45.473802069847096
         ],
         "showticklabels": false,
         "type": "linear"
        },
        "yaxis9": {
         "anchor": "x9",
         "autorange": false,
         "domain": [
          0.7133333333333333,
          0.9999999999999999
         ],
         "matches": "y",
         "range": [
          -0.5534164432363973,
          45.473802069847096
         ],
         "showticklabels": false,
         "type": "linear"
        }
       }
      },
      "image/png": "[encoded data removed]",
      "text/html": [
       "<div>                            <div id=\"bb9b1543-cbb5-46dc-8c9c-57fb741f1248\" class=\"plotly-graph-div\" style=\"height:525px; width:100%;\"></div>            <script type=\"text/javascript\">                require([\"plotly\"], function(Plotly) {                    window.PLOTLYENV=window.PLOTLYENV || {};                                    if (document.getElementById(\"bb9b1543-cbb5-46dc-8c9c-57fb741f1248\")) {                    Plotly.newPlot(                        \"bb9b1543-cbb5-46dc-8c9c-57fb741f1248\",                        [{\"alignmentgroup\":\"True\",\"hovertemplate\":\"Tipo de interacci\\u00f3n=%{x}<br>Tipo_post=C\\u00e1psula<br>Cant=%{y}<extra></extra>\",\"legendgroup\":\"Comentario sexista\",\"marker\":{\"color\":\"rgb(102,194,165)\",\"pattern\":{\"shape\":\"\"}},\"name\":\"Comentario sexista\",\"offsetgroup\":\"Comentario sexista\",\"orientation\":\"v\",\"showlegend\":true,\"textposition\":\"auto\",\"x\":[\"Comentario sexista\"],\"xaxis\":\"x7\",\"y\":[0.0],\"yaxis\":\"y7\",\"type\":\"bar\"},{\"alignmentgroup\":\"True\",\"hovertemplate\":\"Tipo de interacci\\u00f3n=%{x}<br>Tipo_post=Encuentros educativos<br>Cant=%{y}<extra></extra>\",\"legendgroup\":\"Comentario sexista\",\"marker\":{\"color\":\"rgb(102,194,165)\",\"pattern\":{\"shape\":\"\"}},\"name\":\"Comentario sexista\",\"offsetgroup\":\"Comentario sexista\",\"orientation\":\"v\",\"showlegend\":false,\"textposition\":\"auto\",\"x\":[\"Comentario sexista\"],\"xaxis\":\"x8\",\"y\":[0.0],\"yaxis\":\"y8\",\"type\":\"bar\"},{\"alignmentgroup\":\"True\",\"hovertemplate\":\"Tipo de interacci\\u00f3n=%{x}<br>Tipo_post=Experiencia<br>Cant=%{y}<extra></extra>\",\"legendgroup\":\"Comentario sexista\",\"marker\":{\"color\":\"rgb(102,194,165)\",\"pattern\":{\"shape\":\"\"}},\"name\":\"Comentario sexista\",\"offsetgroup\":\"Comentario sexista\",\"orientation\":\"v\",\"showlegend\":false,\"textposition\":\"auto\",\"x\":[\"Comentario sexista\"],\"xaxis\":\"x9\",\"y\":[0.0],\"yaxis\":\"y9\",\"type\":\"bar\"},{\"alignmentgroup\":\"True\",\"hovertemplate\":\"Tipo de interacci\\u00f3n=%{x}<br>Tipo_post=Invitaci\\u00f3n<br>Cant=%{y}<extra></extra>\",\"legendgroup\":\"Comentario sexista\",\"marker\":{\"color\":\"rgb(102,194,165)\",\"pattern\":{\"shape\":\"\"}},\"name\":\"Comentario sexista\",\"offsetgroup\":\"Comentario sexista\",\"orientation\":\"v\",\"showlegend\":false,\"textposition\":\"auto\",\"x\":[\"Comentario sexista\"],\"xaxis\":\"x4\",\"y\":[0.0],\"yaxis\":\"y4\",\"type\":\"bar\"},{\"alignmentgroup\":\"True\",\"hovertemplate\":\"Tipo de interacci\\u00f3n=%{x}<br>Tipo_post=Personas Inspiradoras<br>Cant=%{y}<extra></extra>\",\"legendgroup\":\"Comentario sexista\",\"marker\":{\"color\":\"rgb(102,194,165)\",\"pattern\":{\"shape\":\"\"}},\"name\":\"Comentario sexista\",\"offsetgroup\":\"Comentario sexista\",\"orientation\":\"v\",\"showlegend\":false,\"textposition\":\"auto\",\"x\":[\"Comentario sexista\"],\"xaxis\":\"x5\",\"y\":[0.0],\"yaxis\":\"y5\",\"type\":\"bar\"},{\"alignmentgroup\":\"True\",\"hovertemplate\":\"Tipo de interacci\\u00f3n=%{x}<br>Tipo_post=Recursos<br>Cant=%{y}<extra></extra>\",\"legendgroup\":\"Comentario sexista\",\"marker\":{\"color\":\"rgb(102,194,165)\",\"pattern\":{\"shape\":\"\"}},\"name\":\"Comentario sexista\",\"offsetgroup\":\"Comentario sexista\",\"orientation\":\"v\",\"showlegend\":false,\"textposition\":\"auto\",\"x\":[\"Comentario sexista\"],\"xaxis\":\"x6\",\"y\":[0.0],\"yaxis\":\"y6\",\"type\":\"bar\"},{\"alignmentgroup\":\"True\",\"hovertemplate\":\"Tipo de interacci\\u00f3n=%{x}<br>Tipo_post=TBT<br>Cant=%{y}<extra></extra>\",\"legendgroup\":\"Comentario sexista\",\"marker\":{\"color\":\"rgb(102,194,165)\",\"pattern\":{\"shape\":\"\"}},\"name\":\"Comentario sexista\",\"offsetgroup\":\"Comentario sexista\",\"orientation\":\"v\",\"showlegend\":false,\"textposition\":\"auto\",\"x\":[\"Comentario sexista\"],\"xaxis\":\"x\",\"y\":[0.0],\"yaxis\":\"y\",\"type\":\"bar\"},{\"alignmentgroup\":\"True\",\"hovertemplate\":\"Tipo de interacci\\u00f3n=%{x}<br>Tipo_post=Temas Transversales<br>Cant=%{y}<extra></extra>\",\"legendgroup\":\"Comentario sexista\",\"marker\":{\"color\":\"rgb(102,194,165)\",\"pattern\":{\"shape\":\"\"}},\"name\":\"Comentario sexista\",\"offsetgroup\":\"Comentario sexista\",\"orientation\":\"v\",\"showlegend\":false,\"textposition\":\"auto\",\"x\":[\"Comentario sexista\"],\"xaxis\":\"x2\",\"y\":[0.0],\"yaxis\":\"y2\",\"type\":\"bar\"},{\"alignmentgroup\":\"True\",\"hovertemplate\":\"Tipo de interacci\\u00f3n=%{x}<br>Tipo_post=Temas transversales<br>Cant=%{y}<extra></extra>\",\"legendgroup\":\"Comentario sexista\",\"marker\":{\"color\":\"rgb(102,194,165)\",\"pattern\":{\"shape\":\"\"}},\"name\":\"Comentario sexista\",\"offsetgroup\":\"Comentario sexista\",\"orientation\":\"v\",\"showlegend\":false,\"textposition\":\"auto\",\"x\":[\"Comentario sexista\"],\"xaxis\":\"x3\",\"y\":[0.0],\"yaxis\":\"y3\",\"type\":\"bar\"},{\"alignmentgroup\":\"True\",\"hovertemplate\":\"Tipo de interacci\\u00f3n=%{x}<br>Tipo_post=C\\u00e1psula<br>Cant=%{y}<extra></extra>\",\"legendgroup\":\"En pro de la equidad de G\\u00e9nero\",\"marker\":{\"color\":\"rgb(252,141,98)\",\"pattern\":{\"shape\":\"\"}},\"name\":\"En pro de la equidad de G\\u00e9nero\",\"offsetgroup\":\"En pro de la equidad de G\\u00e9nero\",\"orientation\":\"v\",\"showlegend\":true,\"textposition\":\"auto\",\"x\":[\"En pro de la equidad de G\\u00e9nero\"],\"xaxis\":\"x7\",\"y\":[0.0],\"yaxis\":\"y7\",\"type\":\"bar\"},{\"alignmentgroup\":\"True\",\"hovertemplate\":\"Tipo de interacci\\u00f3n=%{x}<br>Tipo_post=Encuentros educativos<br>Cant=%{y}<extra></extra>\",\"legendgroup\":\"En pro de la equidad de G\\u00e9nero\",\"marker\":{\"color\":\"rgb(252,141,98)\",\"pattern\":{\"shape\":\"\"}},\"name\":\"En pro de la equidad de G\\u00e9nero\",\"offsetgroup\":\"En pro de la equidad de G\\u00e9nero\",\"orientation\":\"v\",\"showlegend\":false,\"textposition\":\"auto\",\"x\":[\"En pro de la equidad de G\\u00e9nero\"],\"xaxis\":\"x8\",\"y\":[0.0],\"yaxis\":\"y8\",\"type\":\"bar\"},{\"alignmentgroup\":\"True\",\"hovertemplate\":\"Tipo de interacci\\u00f3n=%{x}<br>Tipo_post=Experiencia<br>Cant=%{y}<extra></extra>\",\"legendgroup\":\"En pro de la equidad de G\\u00e9nero\",\"marker\":{\"color\":\"rgb(252,141,98)\",\"pattern\":{\"shape\":\"\"}},\"name\":\"En pro de la equidad de G\\u00e9nero\",\"offsetgroup\":\"En pro de la equidad de G\\u00e9nero\",\"orientation\":\"v\",\"showlegend\":false,\"textposition\":\"auto\",\"x\":[\"En pro de la equidad de G\\u00e9nero\"],\"xaxis\":\"x9\",\"y\":[0.0],\"yaxis\":\"y9\",\"type\":\"bar\"},{\"alignmentgroup\":\"True\",\"hovertemplate\":\"Tipo de interacci\\u00f3n=%{x}<br>Tipo_post=Invitaci\\u00f3n<br>Cant=%{y}<extra></extra>\",\"legendgroup\":\"En pro de la equidad de G\\u00e9nero\",\"marker\":{\"color\":\"rgb(252,141,98)\",\"pattern\":{\"shape\":\"\"}},\"name\":\"En pro de la equidad de G\\u00e9nero\",\"offsetgroup\":\"En pro de la equidad de G\\u00e9nero\",\"orientation\":\"v\",\"showlegend\":false,\"textposition\":\"auto\",\"x\":[\"En pro de la equidad de G\\u00e9nero\"],\"xaxis\":\"x4\",\"y\":[0.0],\"yaxis\":\"y4\",\"type\":\"bar\"},{\"alignmentgroup\":\"True\",\"hovertemplate\":\"Tipo de interacci\\u00f3n=%{x}<br>Tipo_post=Personas Inspiradoras<br>Cant=%{y}<extra></extra>\",\"legendgroup\":\"En pro de la equidad de G\\u00e9nero\",\"marker\":{\"color\":\"rgb(252,141,98)\",\"pattern\":{\"shape\":\"\"}},\"name\":\"En pro de la equidad de G\\u00e9nero\",\"offsetgroup\":\"En pro de la equidad de G\\u00e9nero\",\"orientation\":\"v\",\"showlegend\":false,\"textposition\":\"auto\",\"x\":[\"En pro de la equidad de G\\u00e9nero\"],\"xaxis\":\"x5\",\"y\":[1.0],\"yaxis\":\"y5\",\"type\":\"bar\"},{\"alignmentgroup\":\"True\",\"hovertemplate\":\"Tipo de interacci\\u00f3n=%{x}<br>Tipo_post=Recursos<br>Cant=%{y}<extra></extra>\",\"legendgroup\":\"En pro de la equidad de G\\u00e9nero\",\"marker\":{\"color\":\"rgb(252,141,98)\",\"pattern\":{\"shape\":\"\"}},\"name\":\"En pro de la equidad de G\\u00e9nero\",\"offsetgroup\":\"En pro de la equidad de G\\u00e9nero\",\"orientation\":\"v\",\"showlegend\":false,\"textposition\":\"auto\",\"x\":[\"En pro de la equidad de G\\u00e9nero\"],\"xaxis\":\"x6\",\"y\":[0.0],\"yaxis\":\"y6\",\"type\":\"bar\"},{\"alignmentgroup\":\"True\",\"hovertemplate\":\"Tipo de interacci\\u00f3n=%{x}<br>Tipo_post=TBT<br>Cant=%{y}<extra></extra>\",\"legendgroup\":\"En pro de la equidad de G\\u00e9nero\",\"marker\":{\"color\":\"rgb(252,141,98)\",\"pattern\":{\"shape\":\"\"}},\"name\":\"En pro de la equidad de G\\u00e9nero\",\"offsetgroup\":\"En pro de la equidad de G\\u00e9nero\",\"orientation\":\"v\",\"showlegend\":false,\"textposition\":\"auto\",\"x\":[\"En pro de la equidad de G\\u00e9nero\"],\"xaxis\":\"x\",\"y\":[0.0],\"yaxis\":\"y\",\"type\":\"bar\"},{\"alignmentgroup\":\"True\",\"hovertemplate\":\"Tipo de interacci\\u00f3n=%{x}<br>Tipo_post=Temas Transversales<br>Cant=%{y}<extra></extra>\",\"legendgroup\":\"En pro de la equidad de G\\u00e9nero\",\"marker\":{\"color\":\"rgb(252,141,98)\",\"pattern\":{\"shape\":\"\"}},\"name\":\"En pro de la equidad de G\\u00e9nero\",\"offsetgroup\":\"En pro de la equidad de G\\u00e9nero\",\"orientation\":\"v\",\"showlegend\":false,\"textposition\":\"auto\",\"x\":[\"En pro de la equidad de G\\u00e9nero\"],\"xaxis\":\"x2\",\"y\":[0.0],\"yaxis\":\"y2\",\"type\":\"bar\"},{\"alignmentgroup\":\"True\",\"hovertemplate\":\"Tipo de interacci\\u00f3n=%{x}<br>Tipo_post=Temas transversales<br>Cant=%{y}<extra></extra>\",\"legendgroup\":\"En pro de la equidad de G\\u00e9nero\",\"marker\":{\"color\":\"rgb(252,141,98)\",\"pattern\":{\"shape\":\"\"}},\"name\":\"En pro de la equidad de G\\u00e9nero\",\"offsetgroup\":\"En pro de la equidad de G\\u00e9nero\",\"orientation\":\"v\",\"showlegend\":false,\"textposition\":\"auto\",\"x\":[\"En pro de la equidad de G\\u00e9nero\"],\"xaxis\":\"x3\",\"y\":[0.0],\"yaxis\":\"y3\",\"type\":\"bar\"},{\"alignmentgroup\":\"True\",\"hovertemplate\":\"Tipo de interacci\\u00f3n=%{x}<br>Tipo_post=C\\u00e1psula<br>Cant=%{y}<extra></extra>\",\"legendgroup\":\"Lenguaje Inclusivo\",\"marker\":{\"color\":\"rgb(141,160,203)\",\"pattern\":{\"shape\":\"\"}},\"name\":\"Lenguaje Inclusivo\",\"offsetgroup\":\"Lenguaje Inclusivo\",\"orientation\":\"v\",\"showlegend\":true,\"textposition\":\"auto\",\"x\":[\"Lenguaje Inclusivo\"],\"xaxis\":\"x7\",\"y\":[0.0],\"yaxis\":\"y7\",\"type\":\"bar\"},{\"alignmentgroup\":\"True\",\"hovertemplate\":\"Tipo de interacci\\u00f3n=%{x}<br>Tipo_post=Encuentros educativos<br>Cant=%{y}<extra></extra>\",\"legendgroup\":\"Lenguaje Inclusivo\",\"marker\":{\"color\":\"rgb(141,160,203)\",\"pattern\":{\"shape\":\"\"}},\"name\":\"Lenguaje Inclusivo\",\"offsetgroup\":\"Lenguaje Inclusivo\",\"orientation\":\"v\",\"showlegend\":false,\"textposition\":\"auto\",\"x\":[\"Lenguaje Inclusivo\"],\"xaxis\":\"x8\",\"y\":[1.0],\"yaxis\":\"y8\",\"type\":\"bar\"},{\"alignmentgroup\":\"True\",\"hovertemplate\":\"Tipo de interacci\\u00f3n=%{x}<br>Tipo_post=Experiencia<br>Cant=%{y}<extra></extra>\",\"legendgroup\":\"Lenguaje Inclusivo\",\"marker\":{\"color\":\"rgb(141,160,203)\",\"pattern\":{\"shape\":\"\"}},\"name\":\"Lenguaje Inclusivo\",\"offsetgroup\":\"Lenguaje Inclusivo\",\"orientation\":\"v\",\"showlegend\":false,\"textposition\":\"auto\",\"x\":[\"Lenguaje Inclusivo\"],\"xaxis\":\"x9\",\"y\":[2.0],\"yaxis\":\"y9\",\"type\":\"bar\"},{\"alignmentgroup\":\"True\",\"hovertemplate\":\"Tipo de interacci\\u00f3n=%{x}<br>Tipo_post=Invitaci\\u00f3n<br>Cant=%{y}<extra></extra>\",\"legendgroup\":\"Lenguaje Inclusivo\",\"marker\":{\"color\":\"rgb(141,160,203)\",\"pattern\":{\"shape\":\"\"}},\"name\":\"Lenguaje Inclusivo\",\"offsetgroup\":\"Lenguaje Inclusivo\",\"orientation\":\"v\",\"showlegend\":false,\"textposition\":\"auto\",\"x\":[\"Lenguaje Inclusivo\"],\"xaxis\":\"x4\",\"y\":[0.0],\"yaxis\":\"y4\",\"type\":\"bar\"},{\"alignmentgroup\":\"True\",\"hovertemplate\":\"Tipo de interacci\\u00f3n=%{x}<br>Tipo_post=Personas Inspiradoras<br>Cant=%{y}<extra></extra>\",\"legendgroup\":\"Lenguaje Inclusivo\",\"marker\":{\"color\":\"rgb(141,160,203)\",\"pattern\":{\"shape\":\"\"}},\"name\":\"Lenguaje Inclusivo\",\"offsetgroup\":\"Lenguaje Inclusivo\",\"orientation\":\"v\",\"showlegend\":false,\"textposition\":\"auto\",\"x\":[\"Lenguaje Inclusivo\"],\"xaxis\":\"x5\",\"y\":[1.0],\"yaxis\":\"y5\",\"type\":\"bar\"},{\"alignmentgroup\":\"True\",\"hovertemplate\":\"Tipo de interacci\\u00f3n=%{x}<br>Tipo_post=Recursos<br>Cant=%{y}<extra></extra>\",\"legendgroup\":\"Lenguaje Inclusivo\",\"marker\":{\"color\":\"rgb(141,160,203)\",\"pattern\":{\"shape\":\"\"}},\"name\":\"Lenguaje Inclusivo\",\"offsetgroup\":\"Lenguaje Inclusivo\",\"orientation\":\"v\",\"showlegend\":false,\"textposition\":\"auto\",\"x\":[\"Lenguaje Inclusivo\"],\"xaxis\":\"x6\",\"y\":[0.0],\"yaxis\":\"y6\",\"type\":\"bar\"},{\"alignmentgroup\":\"True\",\"hovertemplate\":\"Tipo de interacci\\u00f3n=%{x}<br>Tipo_post=TBT<br>Cant=%{y}<extra></extra>\",\"legendgroup\":\"Lenguaje Inclusivo\",\"marker\":{\"color\":\"rgb(141,160,203)\",\"pattern\":{\"shape\":\"\"}},\"name\":\"Lenguaje Inclusivo\",\"offsetgroup\":\"Lenguaje Inclusivo\",\"orientation\":\"v\",\"showlegend\":false,\"textposition\":\"auto\",\"x\":[\"Lenguaje Inclusivo\"],\"xaxis\":\"x\",\"y\":[0.0],\"yaxis\":\"y\",\"type\":\"bar\"},{\"alignmentgroup\":\"True\",\"hovertemplate\":\"Tipo de interacci\\u00f3n=%{x}<br>Tipo_post=Temas Transversales<br>Cant=%{y}<extra></extra>\",\"legendgroup\":\"Lenguaje Inclusivo\",\"marker\":{\"color\":\"rgb(141,160,203)\",\"pattern\":{\"shape\":\"\"}},\"name\":\"Lenguaje Inclusivo\",\"offsetgroup\":\"Lenguaje Inclusivo\",\"orientation\":\"v\",\"showlegend\":false,\"textposition\":\"auto\",\"x\":[\"Lenguaje Inclusivo\"],\"xaxis\":\"x2\",\"y\":[0.0],\"yaxis\":\"y2\",\"type\":\"bar\"},{\"alignmentgroup\":\"True\",\"hovertemplate\":\"Tipo de interacci\\u00f3n=%{x}<br>Tipo_post=Temas transversales<br>Cant=%{y}<extra></extra>\",\"legendgroup\":\"Lenguaje Inclusivo\",\"marker\":{\"color\":\"rgb(141,160,203)\",\"pattern\":{\"shape\":\"\"}},\"name\":\"Lenguaje Inclusivo\",\"offsetgroup\":\"Lenguaje Inclusivo\",\"orientation\":\"v\",\"showlegend\":false,\"textposition\":\"auto\",\"x\":[\"Lenguaje Inclusivo\"],\"xaxis\":\"x3\",\"y\":[0.0],\"yaxis\":\"y3\",\"type\":\"bar\"},{\"alignmentgroup\":\"True\",\"hovertemplate\":\"Tipo de interacci\\u00f3n=%{x}<br>Tipo_post=C\\u00e1psula<br>Cant=%{y}<extra></extra>\",\"legendgroup\":\"No relevante en perspectiva de g\\u00e9nero\",\"marker\":{\"color\":\"rgb(231,138,195)\",\"pattern\":{\"shape\":\"\"}},\"name\":\"No relevante en perspectiva de g\\u00e9nero\",\"offsetgroup\":\"No relevante en perspectiva de g\\u00e9nero\",\"orientation\":\"v\",\"showlegend\":true,\"textposition\":\"auto\",\"x\":[\"No relevante en perspectiva de g\\u00e9nero\"],\"xaxis\":\"x7\",\"y\":[2.0],\"yaxis\":\"y7\",\"type\":\"bar\"},{\"alignmentgroup\":\"True\",\"hovertemplate\":\"Tipo de interacci\\u00f3n=%{x}<br>Tipo_post=Encuentros educativos<br>Cant=%{y}<extra></extra>\",\"legendgroup\":\"No relevante en perspectiva de g\\u00e9nero\",\"marker\":{\"color\":\"rgb(231,138,195)\",\"pattern\":{\"shape\":\"\"}},\"name\":\"No relevante en perspectiva de g\\u00e9nero\",\"offsetgroup\":\"No relevante en perspectiva de g\\u00e9nero\",\"orientation\":\"v\",\"showlegend\":false,\"textposition\":\"auto\",\"x\":[\"No relevante en perspectiva de g\\u00e9nero\"],\"xaxis\":\"x8\",\"y\":[44.0],\"yaxis\":\"y8\",\"type\":\"bar\"},{\"alignmentgroup\":\"True\",\"hovertemplate\":\"Tipo de interacci\\u00f3n=%{x}<br>Tipo_post=Experiencia<br>Cant=%{y}<extra></extra>\",\"legendgroup\":\"No relevante en perspectiva de g\\u00e9nero\",\"marker\":{\"color\":\"rgb(231,138,195)\",\"pattern\":{\"shape\":\"\"}},\"name\":\"No relevante en perspectiva de g\\u00e9nero\",\"offsetgroup\":\"No relevante en perspectiva de g\\u00e9nero\",\"orientation\":\"v\",\"showlegend\":false,\"textposition\":\"auto\",\"x\":[\"No relevante en perspectiva de g\\u00e9nero\"],\"xaxis\":\"x9\",\"y\":[15.0],\"yaxis\":\"y9\",\"type\":\"bar\"},{\"alignmentgroup\":\"True\",\"hovertemplate\":\"Tipo de interacci\\u00f3n=%{x}<br>Tipo_post=Invitaci\\u00f3n<br>Cant=%{y}<extra></extra>\",\"legendgroup\":\"No relevante en perspectiva de g\\u00e9nero\",\"marker\":{\"color\":\"rgb(231,138,195)\",\"pattern\":{\"shape\":\"\"}},\"name\":\"No relevante en perspectiva de g\\u00e9nero\",\"offsetgroup\":\"No relevante en perspectiva de g\\u00e9nero\",\"orientation\":\"v\",\"showlegend\":false,\"textposition\":\"auto\",\"x\":[\"No relevante en perspectiva de g\\u00e9nero\"],\"xaxis\":\"x4\",\"y\":[16.0],\"yaxis\":\"y4\",\"type\":\"bar\"},{\"alignmentgroup\":\"True\",\"hovertemplate\":\"Tipo de interacci\\u00f3n=%{x}<br>Tipo_post=Personas Inspiradoras<br>Cant=%{y}<extra></extra>\",\"legendgroup\":\"No relevante en perspectiva de g\\u00e9nero\",\"marker\":{\"color\":\"rgb(231,138,195)\",\"pattern\":{\"shape\":\"\"}},\"name\":\"No relevante en perspectiva de g\\u00e9nero\",\"offsetgroup\":\"No relevante en perspectiva de g\\u00e9nero\",\"orientation\":\"v\",\"showlegend\":false,\"textposition\":\"auto\",\"x\":[\"No relevante en perspectiva de g\\u00e9nero\"],\"xaxis\":\"x5\",\"y\":[8.0],\"yaxis\":\"y5\",\"type\":\"bar\"},{\"alignmentgroup\":\"True\",\"hovertemplate\":\"Tipo de interacci\\u00f3n=%{x}<br>Tipo_post=Recursos<br>Cant=%{y}<extra></extra>\",\"legendgroup\":\"No relevante en perspectiva de g\\u00e9nero\",\"marker\":{\"color\":\"rgb(231,138,195)\",\"pattern\":{\"shape\":\"\"}},\"name\":\"No relevante en perspectiva de g\\u00e9nero\",\"offsetgroup\":\"No relevante en perspectiva de g\\u00e9nero\",\"orientation\":\"v\",\"showlegend\":false,\"textposition\":\"auto\",\"x\":[\"No relevante en perspectiva de g\\u00e9nero\"],\"xaxis\":\"x6\",\"y\":[6.0],\"yaxis\":\"y6\",\"type\":\"bar\"},{\"alignmentgroup\":\"True\",\"hovertemplate\":\"Tipo de interacci\\u00f3n=%{x}<br>Tipo_post=TBT<br>Cant=%{y}<extra></extra>\",\"legendgroup\":\"No relevante en perspectiva de g\\u00e9nero\",\"marker\":{\"color\":\"rgb(231,138,195)\",\"pattern\":{\"shape\":\"\"}},\"name\":\"No relevante en perspectiva de g\\u00e9nero\",\"offsetgroup\":\"No relevante en perspectiva de g\\u00e9nero\",\"orientation\":\"v\",\"showlegend\":false,\"textposition\":\"auto\",\"x\":[\"No relevante en perspectiva de g\\u00e9nero\"],\"xaxis\":\"x\",\"y\":[12.0],\"yaxis\":\"y\",\"type\":\"bar\"},{\"alignmentgroup\":\"True\",\"hovertemplate\":\"Tipo de interacci\\u00f3n=%{x}<br>Tipo_post=Temas Transversales<br>Cant=%{y}<extra></extra>\",\"legendgroup\":\"No relevante en perspectiva de g\\u00e9nero\",\"marker\":{\"color\":\"rgb(231,138,195)\",\"pattern\":{\"shape\":\"\"}},\"name\":\"No relevante en perspectiva de g\\u00e9nero\",\"offsetgroup\":\"No relevante en perspectiva de g\\u00e9nero\",\"orientation\":\"v\",\"showlegend\":false,\"textposition\":\"auto\",\"x\":[\"No relevante en perspectiva de g\\u00e9nero\"],\"xaxis\":\"x2\",\"y\":[1.0],\"yaxis\":\"y2\",\"type\":\"bar\"},{\"alignmentgroup\":\"True\",\"hovertemplate\":\"Tipo de interacci\\u00f3n=%{x}<br>Tipo_post=Temas transversales<br>Cant=%{y}<extra></extra>\",\"legendgroup\":\"No relevante en perspectiva de g\\u00e9nero\",\"marker\":{\"color\":\"rgb(231,138,195)\",\"pattern\":{\"shape\":\"\"}},\"name\":\"No relevante en perspectiva de g\\u00e9nero\",\"offsetgroup\":\"No relevante en perspectiva de g\\u00e9nero\",\"orientation\":\"v\",\"showlegend\":false,\"textposition\":\"auto\",\"x\":[\"No relevante en perspectiva de g\\u00e9nero\"],\"xaxis\":\"x3\",\"y\":[3.0],\"yaxis\":\"y3\",\"type\":\"bar\"},{\"alignmentgroup\":\"True\",\"hovertemplate\":\"Tipo de interacci\\u00f3n=%{x}<br>Tipo_post=C\\u00e1psula<br>Cant=%{y}<extra></extra>\",\"legendgroup\":\"Uso de lenguaje no inclusivo\",\"marker\":{\"color\":\"rgb(166,216,84)\",\"pattern\":{\"shape\":\"\"}},\"name\":\"Uso de lenguaje no inclusivo\",\"offsetgroup\":\"Uso de lenguaje no inclusivo\",\"orientation\":\"v\",\"showlegend\":true,\"textposition\":\"auto\",\"x\":[\"Uso de lenguaje no inclusivo\"],\"xaxis\":\"x7\",\"y\":[0.0],\"yaxis\":\"y7\",\"type\":\"bar\"},{\"alignmentgroup\":\"True\",\"hovertemplate\":\"Tipo de interacci\\u00f3n=%{x}<br>Tipo_post=Encuentros educativos<br>Cant=%{y}<extra></extra>\",\"legendgroup\":\"Uso de lenguaje no inclusivo\",\"marker\":{\"color\":\"rgb(166,216,84)\",\"pattern\":{\"shape\":\"\"}},\"name\":\"Uso de lenguaje no inclusivo\",\"offsetgroup\":\"Uso de lenguaje no inclusivo\",\"orientation\":\"v\",\"showlegend\":false,\"textposition\":\"auto\",\"x\":[\"Uso de lenguaje no inclusivo\"],\"xaxis\":\"x8\",\"y\":[10.0],\"yaxis\":\"y8\",\"type\":\"bar\"},{\"alignmentgroup\":\"True\",\"hovertemplate\":\"Tipo de interacci\\u00f3n=%{x}<br>Tipo_post=Experiencia<br>Cant=%{y}<extra></extra>\",\"legendgroup\":\"Uso de lenguaje no inclusivo\",\"marker\":{\"color\":\"rgb(166,216,84)\",\"pattern\":{\"shape\":\"\"}},\"name\":\"Uso de lenguaje no inclusivo\",\"offsetgroup\":\"Uso de lenguaje no inclusivo\",\"orientation\":\"v\",\"showlegend\":false,\"textposition\":\"auto\",\"x\":[\"Uso de lenguaje no inclusivo\"],\"xaxis\":\"x9\",\"y\":[0.0],\"yaxis\":\"y9\",\"type\":\"bar\"},{\"alignmentgroup\":\"True\",\"hovertemplate\":\"Tipo de interacci\\u00f3n=%{x}<br>Tipo_post=Invitaci\\u00f3n<br>Cant=%{y}<extra></extra>\",\"legendgroup\":\"Uso de lenguaje no inclusivo\",\"marker\":{\"color\":\"rgb(166,216,84)\",\"pattern\":{\"shape\":\"\"}},\"name\":\"Uso de lenguaje no inclusivo\",\"offsetgroup\":\"Uso de lenguaje no inclusivo\",\"orientation\":\"v\",\"showlegend\":false,\"textposition\":\"auto\",\"x\":[\"Uso de lenguaje no inclusivo\"],\"xaxis\":\"x4\",\"y\":[1.0],\"yaxis\":\"y4\",\"type\":\"bar\"},{\"alignmentgroup\":\"True\",\"hovertemplate\":\"Tipo de interacci\\u00f3n=%{x}<br>Tipo_post=Personas Inspiradoras<br>Cant=%{y}<extra></extra>\",\"legendgroup\":\"Uso de lenguaje no inclusivo\",\"marker\":{\"color\":\"rgb(166,216,84)\",\"pattern\":{\"shape\":\"\"}},\"name\":\"Uso de lenguaje no inclusivo\",\"offsetgroup\":\"Uso de lenguaje no inclusivo\",\"orientation\":\"v\",\"showlegend\":false,\"textposition\":\"auto\",\"x\":[\"Uso de lenguaje no inclusivo\"],\"xaxis\":\"x5\",\"y\":[1.0],\"yaxis\":\"y5\",\"type\":\"bar\"},{\"alignmentgroup\":\"True\",\"hovertemplate\":\"Tipo de interacci\\u00f3n=%{x}<br>Tipo_post=Recursos<br>Cant=%{y}<extra></extra>\",\"legendgroup\":\"Uso de lenguaje no inclusivo\",\"marker\":{\"color\":\"rgb(166,216,84)\",\"pattern\":{\"shape\":\"\"}},\"name\":\"Uso de lenguaje no inclusivo\",\"offsetgroup\":\"Uso de lenguaje no inclusivo\",\"orientation\":\"v\",\"showlegend\":false,\"textposition\":\"auto\",\"x\":[\"Uso de lenguaje no inclusivo\"],\"xaxis\":\"x6\",\"y\":[1.0],\"yaxis\":\"y6\",\"type\":\"bar\"},{\"alignmentgroup\":\"True\",\"hovertemplate\":\"Tipo de interacci\\u00f3n=%{x}<br>Tipo_post=TBT<br>Cant=%{y}<extra></extra>\",\"legendgroup\":\"Uso de lenguaje no inclusivo\",\"marker\":{\"color\":\"rgb(166,216,84)\",\"pattern\":{\"shape\":\"\"}},\"name\":\"Uso de lenguaje no inclusivo\",\"offsetgroup\":\"Uso de lenguaje no inclusivo\",\"orientation\":\"v\",\"showlegend\":false,\"textposition\":\"auto\",\"x\":[\"Uso de lenguaje no inclusivo\"],\"xaxis\":\"x\",\"y\":[1.0],\"yaxis\":\"y\",\"type\":\"bar\"},{\"alignmentgroup\":\"True\",\"hovertemplate\":\"Tipo de interacci\\u00f3n=%{x}<br>Tipo_post=Temas Transversales<br>Cant=%{y}<extra></extra>\",\"legendgroup\":\"Uso de lenguaje no inclusivo\",\"marker\":{\"color\":\"rgb(166,216,84)\",\"pattern\":{\"shape\":\"\"}},\"name\":\"Uso de lenguaje no inclusivo\",\"offsetgroup\":\"Uso de lenguaje no inclusivo\",\"orientation\":\"v\",\"showlegend\":false,\"textposition\":\"auto\",\"x\":[\"Uso de lenguaje no inclusivo\"],\"xaxis\":\"x2\",\"y\":[0.0],\"yaxis\":\"y2\",\"type\":\"bar\"},{\"alignmentgroup\":\"True\",\"hovertemplate\":\"Tipo de interacci\\u00f3n=%{x}<br>Tipo_post=Temas transversales<br>Cant=%{y}<extra></extra>\",\"legendgroup\":\"Uso de lenguaje no inclusivo\",\"marker\":{\"color\":\"rgb(166,216,84)\",\"pattern\":{\"shape\":\"\"}},\"name\":\"Uso de lenguaje no inclusivo\",\"offsetgroup\":\"Uso de lenguaje no inclusivo\",\"orientation\":\"v\",\"showlegend\":false,\"textposition\":\"auto\",\"x\":[\"Uso de lenguaje no inclusivo\"],\"xaxis\":\"x3\",\"y\":[0.0],\"yaxis\":\"y3\",\"type\":\"bar\"}],                        {\"template\":{\"data\":{\"barpolar\":[{\"marker\":{\"line\":{\"color\":\"white\",\"width\":0.5},\"pattern\":{\"fillmode\":\"overlay\",\"size\":10,\"solidity\":0.2}},\"type\":\"barpolar\"}],\"bar\":[{\"error_x\":{\"color\":\"#2a3f5f\"},\"error_y\":{\"color\":\"#2a3f5f\"},\"marker\":{\"line\":{\"color\":\"white\",\"width\":0.5},\"pattern\":{\"fillmode\":\"overlay\",\"size\":10,\"solidity\":0.2}},\"type\":\"bar\"}],\"carpet\":[{\"aaxis\":{\"endlinecolor\":\"#2a3f5f\",\"gridcolor\":\"#C8D4E3\",\"linecolor\":\"#C8D4E3\",\"minorgridcolor\":\"#C8D4E3\",\"startlinecolor\":\"#2a3f5f\"},\"baxis\":{\"endlinecolor\":\"#2a3f5f\",\"gridcolor\":\"#C8D4E3\",\"linecolor\":\"#C8D4E3\",\"minorgridcolor\":\"#C8D4E3\",\"startlinecolor\":\"#2a3f5f\"},\"type\":\"carpet\"}],\"choropleth\":[{\"colorbar\":{\"outlinewidth\":0,\"ticks\":\"\"},\"type\":\"choropleth\"}],\"contourcarpet\":[{\"colorbar\":{\"outlinewidth\":0,\"ticks\":\"\"},\"type\":\"contourcarpet\"}],\"contour\":[{\"colorbar\":{\"outlinewidth\":0,\"ticks\":\"\"},\"colorscale\":[[0.0,\"#0d0887\"],[0.1111111111111111,\"#46039f\"],[0.2222222222222222,\"#7201a8\"],[0.3333333333333333,\"#9c179e\"],[0.4444444444444444,\"#bd3786\"],[0.5555555555555556,\"#d8576b\"],[0.6666666666666666,\"#ed7953\"],[0.7777777777777778,\"#fb9f3a\"],[0.8888888888888888,\"#fdca26\"],[1.0,\"#f0f921\"]],\"type\":\"contour\"}],\"heatmapgl\":[{\"colorbar\":{\"outlinewidth\":0,\"ticks\":\"\"},\"colorscale\":[[0.0,\"#0d0887\"],[0.1111111111111111,\"#46039f\"],[0.2222222222222222,\"#7201a8\"],[0.3333333333333333,\"#9c179e\"],[0.4444444444444444,\"#bd3786\"],[0.5555555555555556,\"#d8576b\"],[0.6666666666666666,\"#ed7953\"],[0.7777777777777778,\"#fb9f3a\"],[0.8888888888888888,\"#fdca26\"],[1.0,\"#f0f921\"]],\"type\":\"heatmapgl\"}],\"heatmap\":[{\"colorbar\":{\"outlinewidth\":0,\"ticks\":\"\"},\"colorscale\":[[0.0,\"#0d0887\"],[0.1111111111111111,\"#46039f\"],[0.2222222222222222,\"#7201a8\"],[0.3333333333333333,\"#9c179e\"],[0.4444444444444444,\"#bd3786\"],[0.5555555555555556,\"#d8576b\"],[0.6666666666666666,\"#ed7953\"],[0.7777777777777778,\"#fb9f3a\"],[0.8888888888888888,\"#fdca26\"],[1.0,\"#f0f921\"]],\"type\":\"heatmap\"}],\"histogram2dcontour\":[{\"colorbar\":{\"outlinewidth\":0,\"ticks\":\"\"},\"colorscale\":[[0.0,\"#0d0887\"],[0.1111111111111111,\"#46039f\"],[0.2222222222222222,\"#7201a8\"],[0.3333333333333333,\"#9c179e\"],[0.4444444444444444,\"#bd3786\"],[0.5555555555555556,\"#d8576b\"],[0.6666666666666666,\"#ed7953\"],[0.7777777777777778,\"#fb9f3a\"],[0.8888888888888888,\"#fdca26\"],[1.0,\"#f0f921\"]],\"type\":\"histogram2dcontour\"}],\"histogram2d\":[{\"colorbar\":{\"outlinewidth\":0,\"ticks\":\"\"},\"colorscale\":[[0.0,\"#0d0887\"],[0.1111111111111111,\"#46039f\"],[0.2222222222222222,\"#7201a8\"],[0.3333333333333333,\"#9c179e\"],[0.4444444444444444,\"#bd3786\"],[0.5555555555555556,\"#d8576b\"],[0.6666666666666666,\"#ed7953\"],[0.7777777777777778,\"#fb9f3a\"],[0.8888888888888888,\"#fdca26\"],[1.0,\"#f0f921\"]],\"type\":\"histogram2d\"}],\"histogram\":[{\"marker\":{\"pattern\":{\"fillmode\":\"overlay\",\"size\":10,\"solidity\":0.2}},\"type\":\"histogram\"}],\"mesh3d\":[{\"colorbar\":{\"outlinewidth\":0,\"ticks\":\"\"},\"type\":\"mesh3d\"}],\"parcoords\":[{\"line\":{\"colorbar\":{\"outlinewidth\":0,\"ticks\":\"\"}},\"type\":\"parcoords\"}],\"pie\":[{\"automargin\":true,\"type\":\"pie\"}],\"scatter3d\":[{\"line\":{\"colorbar\":{\"outlinewidth\":0,\"ticks\":\"\"}},\"marker\":{\"colorbar\":{\"outlinewidth\":0,\"ticks\":\"\"}},\"type\":\"scatter3d\"}],\"scattercarpet\":[{\"marker\":{\"colorbar\":{\"outlinewidth\":0,\"ticks\":\"\"}},\"type\":\"scattercarpet\"}],\"scattergeo\":[{\"marker\":{\"colorbar\":{\"outlinewidth\":0,\"ticks\":\"\"}},\"type\":\"scattergeo\"}],\"scattergl\":[{\"marker\":{\"colorbar\":{\"outlinewidth\":0,\"ticks\":\"\"}},\"type\":\"scattergl\"}],\"scattermapbox\":[{\"marker\":{\"colorbar\":{\"outlinewidth\":0,\"ticks\":\"\"}},\"type\":\"scattermapbox\"}],\"scatterpolargl\":[{\"marker\":{\"colorbar\":{\"outlinewidth\":0,\"ticks\":\"\"}},\"type\":\"scatterpolargl\"}],\"scatterpolar\":[{\"marker\":{\"colorbar\":{\"outlinewidth\":0,\"ticks\":\"\"}},\"type\":\"scatterpolar\"}],\"scatter\":[{\"marker\":{\"colorbar\":{\"outlinewidth\":0,\"ticks\":\"\"}},\"type\":\"scatter\"}],\"scatterternary\":[{\"marker\":{\"colorbar\":{\"outlinewidth\":0,\"ticks\":\"\"}},\"type\":\"scatterternary\"}],\"surface\":[{\"colorbar\":{\"outlinewidth\":0,\"ticks\":\"\"},\"colorscale\":[[0.0,\"#0d0887\"],[0.1111111111111111,\"#46039f\"],[0.2222222222222222,\"#7201a8\"],[0.3333333333333333,\"#9c179e\"],[0.4444444444444444,\"#bd3786\"],[0.5555555555555556,\"#d8576b\"],[0.6666666666666666,\"#ed7953\"],[0.7777777777777778,\"#fb9f3a\"],[0.8888888888888888,\"#fdca26\"],[1.0,\"#f0f921\"]],\"type\":\"surface\"}],\"table\":[{\"cells\":{\"fill\":{\"color\":\"#EBF0F8\"},\"line\":{\"color\":\"white\"}},\"header\":{\"fill\":{\"color\":\"#C8D4E3\"},\"line\":{\"color\":\"white\"}},\"type\":\"table\"}]},\"layout\":{\"annotationdefaults\":{\"arrowcolor\":\"#2a3f5f\",\"arrowhead\":0,\"arrowwidth\":1},\"autotypenumbers\":\"strict\",\"coloraxis\":{\"colorbar\":{\"outlinewidth\":0,\"ticks\":\"\"}},\"colorscale\":{\"diverging\":[[0,\"#8e0152\"],[0.1,\"#c51b7d\"],[0.2,\"#de77ae\"],[0.3,\"#f1b6da\"],[0.4,\"#fde0ef\"],[0.5,\"#f7f7f7\"],[0.6,\"#e6f5d0\"],[0.7,\"#b8e186\"],[0.8,\"#7fbc41\"],[0.9,\"#4d9221\"],[1,\"#276419\"]],\"sequential\":[[0.0,\"#0d0887\"],[0.1111111111111111,\"#46039f\"],[0.2222222222222222,\"#7201a8\"],[0.3333333333333333,\"#9c179e\"],[0.4444444444444444,\"#bd3786\"],[0.5555555555555556,\"#d8576b\"],[0.6666666666666666,\"#ed7953\"],[0.7777777777777778,\"#fb9f3a\"],[0.8888888888888888,\"#fdca26\"],[1.0,\"#f0f921\"]],\"sequentialminus\":[[0.0,\"#0d0887\"],[0.1111111111111111,\"#46039f\"],[0.2222222222222222,\"#7201a8\"],[0.3333333333333333,\"#9c179e\"],[0.4444444444444444,\"#bd3786\"],[0.5555555555555556,\"#d8576b\"],[0.6666666666666666,\"#ed7953\"],[0.7777777777777778,\"#fb9f3a\"],[0.8888888888888888,\"#fdca26\"],[1.0,\"#f0f921\"]]},\"colorway\":[\"#636efa\",\"#EF553B\",\"#00cc96\",\"#ab63fa\",\"#FFA15A\",\"#19d3f3\",\"#FF6692\",\"#B6E880\",\"#FF97FF\",\"#FECB52\"],\"font\":{\"color\":\"#2a3f5f\"},\"geo\":{\"bgcolor\":\"white\",\"lakecolor\":\"white\",\"landcolor\":\"white\",\"showlakes\":true,\"showland\":true,\"subunitcolor\":\"#C8D4E3\"},\"hoverlabel\":{\"align\":\"left\"},\"hovermode\":\"closest\",\"mapbox\":{\"style\":\"light\"},\"paper_bgcolor\":\"white\",\"plot_bgcolor\":\"white\",\"polar\":{\"angularaxis\":{\"gridcolor\":\"#EBF0F8\",\"linecolor\":\"#EBF0F8\",\"ticks\":\"\"},\"bgcolor\":\"white\",\"radialaxis\":{\"gridcolor\":\"#EBF0F8\",\"linecolor\":\"#EBF0F8\",\"ticks\":\"\"}},\"scene\":{\"xaxis\":{\"backgroundcolor\":\"white\",\"gridcolor\":\"#DFE8F3\",\"gridwidth\":2,\"linecolor\":\"#EBF0F8\",\"showbackground\":true,\"ticks\":\"\",\"zerolinecolor\":\"#EBF0F8\"},\"yaxis\":{\"backgroundcolor\":\"white\",\"gridcolor\":\"#DFE8F3\",\"gridwidth\":2,\"linecolor\":\"#EBF0F8\",\"showbackground\":true,\"ticks\":\"\",\"zerolinecolor\":\"#EBF0F8\"},\"zaxis\":{\"backgroundcolor\":\"white\",\"gridcolor\":\"#DFE8F3\",\"gridwidth\":2,\"linecolor\":\"#EBF0F8\",\"showbackground\":true,\"ticks\":\"\",\"zerolinecolor\":\"#EBF0F8\"}},\"shapedefaults\":{\"line\":{\"color\":\"#2a3f5f\"}},\"ternary\":{\"aaxis\":{\"gridcolor\":\"#DFE8F3\",\"linecolor\":\"#A2B1C6\",\"ticks\":\"\"},\"baxis\":{\"gridcolor\":\"#DFE8F3\",\"linecolor\":\"#A2B1C6\",\"ticks\":\"\"},\"bgcolor\":\"white\",\"caxis\":{\"gridcolor\":\"#DFE8F3\",\"linecolor\":\"#A2B1C6\",\"ticks\":\"\"}},\"title\":{\"x\":0.05},\"xaxis\":{\"automargin\":true,\"gridcolor\":\"#EBF0F8\",\"linecolor\":\"#EBF0F8\",\"ticks\":\"\",\"title\":{\"standoff\":15},\"zerolinecolor\":\"#EBF0F8\",\"zerolinewidth\":2},\"yaxis\":{\"automargin\":true,\"gridcolor\":\"#EBF0F8\",\"linecolor\":\"#EBF0F8\",\"ticks\":\"\",\"title\":{\"standoff\":15},\"zerolinecolor\":\"#EBF0F8\",\"zerolinewidth\":2}}},\"xaxis\":{\"anchor\":\"y\",\"domain\":[0.0,0.31999999999999995],\"title\":{\"text\":\"Tipo de interacci\\u00f3n\"},\"categoryorder\":\"array\",\"categoryarray\":[\"Comentario sexista\",\"En pro de la equidad de G\\u00e9nero\",\"Lenguaje Inclusivo\",\"No relevante en perspectiva de g\\u00e9nero\",\"Uso de lenguaje no inclusivo\"],\"visible\":false,\"showticklabels\":false},\"yaxis\":{\"anchor\":\"x\",\"domain\":[0.0,0.2866666666666666],\"title\":{\"text\":\"Cant\"}},\"xaxis2\":{\"anchor\":\"y2\",\"domain\":[0.33999999999999997,0.6599999999999999],\"matches\":\"x\",\"title\":{\"text\":\"Tipo de interacci\\u00f3n\"},\"categoryorder\":\"array\",\"categoryarray\":[\"Comentario sexista\",\"En pro de la equidad de G\\u00e9nero\",\"Lenguaje Inclusivo\",\"No relevante en perspectiva de g\\u00e9nero\",\"Uso de lenguaje no inclusivo\"],\"visible\":false,\"showticklabels\":false},\"yaxis2\":{\"anchor\":\"x2\",\"domain\":[0.0,0.2866666666666666],\"matches\":\"y\",\"showticklabels\":false},\"xaxis3\":{\"anchor\":\"y3\",\"domain\":[0.6799999999999999,0.9999999999999999],\"matches\":\"x\",\"title\":{\"text\":\"Tipo de interacci\\u00f3n\"},\"categoryorder\":\"array\",\"categoryarray\":[\"Comentario sexista\",\"En pro de la equidad de G\\u00e9nero\",\"Lenguaje Inclusivo\",\"No relevante en perspectiva de g\\u00e9nero\",\"Uso de lenguaje no inclusivo\"],\"visible\":false,\"showticklabels\":false},\"yaxis3\":{\"anchor\":\"x3\",\"domain\":[0.0,0.2866666666666666],\"matches\":\"y\",\"showticklabels\":false},\"xaxis4\":{\"anchor\":\"y4\",\"domain\":[0.0,0.31999999999999995],\"matches\":\"x\",\"showticklabels\":false,\"visible\":false},\"yaxis4\":{\"anchor\":\"x4\",\"domain\":[0.35666666666666663,0.6433333333333333],\"matches\":\"y\",\"title\":{\"text\":\"Cant\"}},\"xaxis5\":{\"anchor\":\"y5\",\"domain\":[0.33999999999999997,0.6599999999999999],\"matches\":\"x\",\"showticklabels\":false,\"visible\":false},\"yaxis5\":{\"anchor\":\"x5\",\"domain\":[0.35666666666666663,0.6433333333333333],\"matches\":\"y\",\"showticklabels\":false},\"xaxis6\":{\"anchor\":\"y6\",\"domain\":[0.6799999999999999,0.9999999999999999],\"matches\":\"x\",\"showticklabels\":false,\"visible\":false},\"yaxis6\":{\"anchor\":\"x6\",\"domain\":[0.35666666666666663,0.6433333333333333],\"matches\":\"y\",\"showticklabels\":false},\"xaxis7\":{\"anchor\":\"y7\",\"domain\":[0.0,0.31999999999999995],\"matches\":\"x\",\"showticklabels\":false,\"visible\":false},\"yaxis7\":{\"anchor\":\"x7\",\"domain\":[0.7133333333333333,0.9999999999999999],\"matches\":\"y\",\"title\":{\"text\":\"Cant\"}},\"xaxis8\":{\"anchor\":\"y8\",\"domain\":[0.33999999999999997,0.6599999999999999],\"matches\":\"x\",\"showticklabels\":false,\"visible\":false},\"yaxis8\":{\"anchor\":\"x8\",\"domain\":[0.7133333333333333,0.9999999999999999],\"matches\":\"y\",\"showticklabels\":false},\"xaxis9\":{\"anchor\":\"y9\",\"domain\":[0.6799999999999999,0.9999999999999999],\"matches\":\"x\",\"showticklabels\":false,\"visible\":false},\"yaxis9\":{\"anchor\":\"x9\",\"domain\":[0.7133333333333333,0.9999999999999999],\"matches\":\"y\",\"showticklabels\":false},\"annotations\":[{\"font\":{},\"showarrow\":false,\"text\":\"TBT\",\"x\":0.15999999999999998,\"xanchor\":\"center\",\"xref\":\"paper\",\"y\":0.2866666666666666,\"yanchor\":\"bottom\",\"yref\":\"paper\"},{\"font\":{},\"showarrow\":false,\"text\":\"Temas Transversales\",\"x\":0.49999999999999994,\"xanchor\":\"center\",\"xref\":\"paper\",\"y\":0.2866666666666666,\"yanchor\":\"bottom\",\"yref\":\"paper\"},{\"font\":{},\"showarrow\":false,\"text\":\"Temas transversales\",\"x\":0.8399999999999999,\"xanchor\":\"center\",\"xref\":\"paper\",\"y\":0.2866666666666666,\"yanchor\":\"bottom\",\"yref\":\"paper\"},{\"font\":{},\"showarrow\":false,\"text\":\"Invitaci\\u00f3n\",\"x\":0.15999999999999998,\"xanchor\":\"center\",\"xref\":\"paper\",\"y\":0.6433333333333333,\"yanchor\":\"bottom\",\"yref\":\"paper\"},{\"font\":{},\"showarrow\":false,\"text\":\"Personas Inspiradoras\",\"x\":0.49999999999999994,\"xanchor\":\"center\",\"xref\":\"paper\",\"y\":0.6433333333333333,\"yanchor\":\"bottom\",\"yref\":\"paper\"},{\"font\":{},\"showarrow\":false,\"text\":\"Recursos\",\"x\":0.8399999999999999,\"xanchor\":\"center\",\"xref\":\"paper\",\"y\":0.6433333333333333,\"yanchor\":\"bottom\",\"yref\":\"paper\"},{\"font\":{},\"showarrow\":false,\"text\":\"C\\u00e1psula\",\"x\":0.15999999999999998,\"xanchor\":\"center\",\"xref\":\"paper\",\"y\":0.9999999999999999,\"yanchor\":\"bottom\",\"yref\":\"paper\"},{\"font\":{},\"showarrow\":false,\"text\":\"Encuentros educativos\",\"x\":0.49999999999999994,\"xanchor\":\"center\",\"xref\":\"paper\",\"y\":0.9999999999999999,\"yanchor\":\"bottom\",\"yref\":\"paper\"},{\"font\":{},\"showarrow\":false,\"text\":\"Experiencia\",\"x\":0.8399999999999999,\"xanchor\":\"center\",\"xref\":\"paper\",\"y\":0.9999999999999999,\"yanchor\":\"bottom\",\"yref\":\"paper\"}],\"legend\":{\"title\":{\"text\":\"Tipo de interacci\\u00f3n\"},\"tracegroupgap\":0},\"margin\":{\"t\":60},\"barmode\":\"relative\"},                        {\"scrollZoom\": true, \"displaylogo\": true, \"responsive\": true, \"editable\": true, \"toImageButtonOptions\": {\"format\": \"png\", \"filename\": \"grafica_CAP\", \"height\": null, \"width\": null, \"scale\": true}}                    ).then(function(){\n",
       "                            \n",
       "var gd = document.getElementById('bb9b1543-cbb5-46dc-8c9c-57fb741f1248');\n",
       "var x = new MutationObserver(function (mutations, observer) {{\n",
       "        var display = window.getComputedStyle(gd).display;\n",
       "        if (!display || display === 'none') {{\n",
       "            console.log([gd, 'removed!']);\n",
       "            Plotly.purge(gd);\n",
       "            observer.disconnect();\n",
       "        }}\n",
       "}});\n",
       "\n",
       "// Listen for the removal of the full notebook cells\n",
       "var notebookContainer = gd.closest('#notebook-container');\n",
       "if (notebookContainer) {{\n",
       "    x.observe(notebookContainer, {childList: true});\n",
       "}}\n",
       "\n",
       "// Listen for the clearing of the current output cell\n",
       "var outputEl = gd.closest('.output');\n",
       "if (outputEl) {{\n",
       "    x.observe(outputEl, {childList: true});\n",
       "}}\n",
       "\n",
       "                        })                };                });            </script>        </div>"
      ]
     },
     "metadata": {},
     "output_type": "display_data"
    }
   ],
   "source": [
    "figcpubg=px.bar(pivotpublicgen,x='Tipo de interacción', y='Cant', color='Tipo de interacción', facet_col='Tipo_post', template=\"plotly_white\",color_discrete_sequence=px.colors.qualitative.Set2, facet_col_wrap=3)\n",
    "figcpubg.update_xaxes(visible=False, showticklabels=False)\n",
    "figcpubg.for_each_annotation(lambda a: a.update(text=a.text.split(\"=\")[-1]))\n",
    "figcpubg.show(config=config_chart)"
   ]
  },
  {
   "cell_type": "code",
   "execution_count": null,
   "id": "5dda6be9-75a1-452b-bac2-6506c2f61d65",
   "metadata": {},
   "outputs": [],
   "source": []
  }
 ],
 "metadata": {
  "kernelspec": {
   "display_name": "Python 3 (ipykernel)",
   "language": "python",
   "name": "python3"
  },
  "language_info": {
   "codemirror_mode": {
    "name": "ipython",
    "version": 3
   },
   "file_extension": ".py",
   "mimetype": "text/x-python",
   "name": "python",
   "nbconvert_exporter": "python",
   "pygments_lexer": "ipython3",
   "version": "3.9.12"
  }
 },
 "nbformat": 4,
 "nbformat_minor": 5
}
