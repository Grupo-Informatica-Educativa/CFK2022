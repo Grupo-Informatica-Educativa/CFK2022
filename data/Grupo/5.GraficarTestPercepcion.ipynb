{
 "cells": [
  {
   "cell_type": "code",
   "execution_count": 1,
   "id": "a57b1eee-ab2f-4d5b-8f43-30c5d4094f95",
   "metadata": {},
   "outputs": [],
   "source": [
    "import pandas as pd\n",
    "import plotly.express as px"
   ]
  },
  {
   "cell_type": "code",
   "execution_count": 10,
   "id": "a1468889-4ee6-4458-8045-a139769d7066",
   "metadata": {},
   "outputs": [
    {
     "data": {
      "text/html": [
       "<div>\n",
       "<style scoped>\n",
       "    .dataframe tbody tr th:only-of-type {\n",
       "        vertical-align: middle;\n",
       "    }\n",
       "\n",
       "    .dataframe tbody tr th {\n",
       "        vertical-align: top;\n",
       "    }\n",
       "\n",
       "    .dataframe thead th {\n",
       "        text-align: right;\n",
       "    }\n",
       "</style>\n",
       "<table border=\"1\" class=\"dataframe\">\n",
       "  <thead>\n",
       "    <tr style=\"text-align: right;\">\n",
       "      <th></th>\n",
       "      <th>Vigencia CFK</th>\n",
       "      <th>Autoeficacia en Conocimiento Pedagógico</th>\n",
       "      <th>Autoeficacia en Pensamiento Computacional</th>\n",
       "      <th>Autoeficacia Tecnológica</th>\n",
       "    </tr>\n",
       "  </thead>\n",
       "  <tbody>\n",
       "    <tr>\n",
       "      <th>0</th>\n",
       "      <td>CFK Vigencia 2021</td>\n",
       "      <td>79.992087</td>\n",
       "      <td>83.375354</td>\n",
       "      <td>91.696500</td>\n",
       "    </tr>\n",
       "    <tr>\n",
       "      <th>1</th>\n",
       "      <td>CFK Vigencia 2021</td>\n",
       "      <td>97.323969</td>\n",
       "      <td>100.000000</td>\n",
       "      <td>80.930875</td>\n",
       "    </tr>\n",
       "    <tr>\n",
       "      <th>2</th>\n",
       "      <td>CFK Vigencia 2021</td>\n",
       "      <td>75.000000</td>\n",
       "      <td>75.000000</td>\n",
       "      <td>75.000000</td>\n",
       "    </tr>\n",
       "    <tr>\n",
       "      <th>3</th>\n",
       "      <td>CFK Vigencia 2021</td>\n",
       "      <td>75.000000</td>\n",
       "      <td>75.000000</td>\n",
       "      <td>75.000000</td>\n",
       "    </tr>\n",
       "    <tr>\n",
       "      <th>4</th>\n",
       "      <td>CFK Vigencia 2021</td>\n",
       "      <td>75.000000</td>\n",
       "      <td>100.000000</td>\n",
       "      <td>100.000000</td>\n",
       "    </tr>\n",
       "    <tr>\n",
       "      <th>...</th>\n",
       "      <td>...</td>\n",
       "      <td>...</td>\n",
       "      <td>...</td>\n",
       "      <td>...</td>\n",
       "    </tr>\n",
       "    <tr>\n",
       "      <th>393</th>\n",
       "      <td>CFK Vigencia 2022</td>\n",
       "      <td>95.732943</td>\n",
       "      <td>100.000000</td>\n",
       "      <td>91.706789</td>\n",
       "    </tr>\n",
       "    <tr>\n",
       "      <th>394</th>\n",
       "      <td>CFK Vigencia 2022</td>\n",
       "      <td>75.000000</td>\n",
       "      <td>63.709257</td>\n",
       "      <td>75.000000</td>\n",
       "    </tr>\n",
       "    <tr>\n",
       "      <th>395</th>\n",
       "      <td>CFK Vigencia 2022</td>\n",
       "      <td>94.816481</td>\n",
       "      <td>82.868318</td>\n",
       "      <td>100.000000</td>\n",
       "    </tr>\n",
       "    <tr>\n",
       "      <th>396</th>\n",
       "      <td>CFK Vigencia 2022</td>\n",
       "      <td>91.350281</td>\n",
       "      <td>100.000000</td>\n",
       "      <td>85.676456</td>\n",
       "    </tr>\n",
       "    <tr>\n",
       "      <th>397</th>\n",
       "      <td>CFK Vigencia 2022</td>\n",
       "      <td>58.649719</td>\n",
       "      <td>66.385267</td>\n",
       "      <td>75.000000</td>\n",
       "    </tr>\n",
       "  </tbody>\n",
       "</table>\n",
       "<p>398 rows × 4 columns</p>\n",
       "</div>"
      ],
      "text/plain": [
       "          Vigencia CFK  Autoeficacia en Conocimiento Pedagógico  \\\n",
       "0    CFK Vigencia 2021                                79.992087   \n",
       "1    CFK Vigencia 2021                                97.323969   \n",
       "2    CFK Vigencia 2021                                75.000000   \n",
       "3    CFK Vigencia 2021                                75.000000   \n",
       "4    CFK Vigencia 2021                                75.000000   \n",
       "..                 ...                                      ...   \n",
       "393  CFK Vigencia 2022                                95.732943   \n",
       "394  CFK Vigencia 2022                                75.000000   \n",
       "395  CFK Vigencia 2022                                94.816481   \n",
       "396  CFK Vigencia 2022                                91.350281   \n",
       "397  CFK Vigencia 2022                                58.649719   \n",
       "\n",
       "     Autoeficacia en Pensamiento Computacional  Autoeficacia Tecnológica  \n",
       "0                                    83.375354                 91.696500  \n",
       "1                                   100.000000                 80.930875  \n",
       "2                                    75.000000                 75.000000  \n",
       "3                                    75.000000                 75.000000  \n",
       "4                                   100.000000                100.000000  \n",
       "..                                         ...                       ...  \n",
       "393                                 100.000000                 91.706789  \n",
       "394                                  63.709257                 75.000000  \n",
       "395                                  82.868318                100.000000  \n",
       "396                                 100.000000                 85.676456  \n",
       "397                                  66.385267                 75.000000  \n",
       "\n",
       "[398 rows x 4 columns]"
      ]
     },
     "execution_count": 10,
     "metadata": {},
     "output_type": "execute_result"
    }
   ],
   "source": [
    "autoefic = pd.read_excel('Autoeficacia.xlsx')\n",
    "autoefic = autoefic.rename(columns={'Unnamed: 0':'Vigencia CFK'})\n",
    "autoefic"
   ]
  },
  {
   "cell_type": "code",
   "execution_count": 11,
   "id": "17df092f-e98a-4ae6-8b45-c53bdcc3348b",
   "metadata": {},
   "outputs": [
    {
     "data": {
      "application/vnd.plotly.v1+json": {
       "config": {
        "plotlyServerURL": "https://plot.ly"
       },
       "data": [
        {
         "alignmentgroup": "True",
         "hovertemplate": "Vigencia CFK=CFK Vigencia 2021<br>Autoeficacia en Pensamiento Computacional=%{y}<extra></extra>",
         "legendgroup": "CFK Vigencia 2021",
         "marker": {
          "color": "rgb(102,194,165)"
         },
         "name": "CFK Vigencia 2021",
         "notched": false,
         "offsetgroup": "CFK Vigencia 2021",
         "orientation": "v",
         "showlegend": true,
         "type": "box",
         "x0": " ",
         "xaxis": "x",
         "y": [
          83.37535375,
          100,
          75,
          75,
          100,
          100,
          100,
          88.86235058,
          82.55747987,
          100,
          100,
          100,
          81.33830662,
          100,
          100,
          95.63936997,
          100,
          100,
          100,
          100,
          100,
          95.63936997,
          100,
          75,
          100,
          90.22322242,
          100,
          100,
          61.13764942,
          100,
          80.21193981,
          100,
          75,
          100,
          50,
          100,
          95.71021926,
          75,
          95.63936997,
          69.51300316,
          94.51300316,
          100,
          100,
          100,
          15.42743016,
          100,
          100,
          95.71021926,
          100,
          100,
          100,
          100,
          75,
          83.37535375,
          63.86235058,
          79.085573,
          80.14109052,
          90.22322242,
          100,
          90.42743016,
          91.42043851,
          86.13764942,
          75,
          75,
          100,
          75,
          100,
          100,
          82.55747987,
          100,
          100,
          70.78106854,
          75,
          100,
          100,
          100,
          58.65041078,
          58.65041078,
          100,
          75,
          75,
          75,
          90.49827945,
          75,
          75,
          75,
          100,
          87.13065777,
          100,
          100,
          75,
          95.63936997,
          100,
          100,
          100,
          100,
          100,
          100,
          100,
          95.63936997,
          0,
          89.30106335,
          91.34958922,
          0,
          100,
          88.86235058,
          100,
          100,
          100,
          100,
          100,
          75,
          75,
          100,
          100,
          94.78806019,
          100,
          100,
          100,
          91.27873994,
          100,
          100,
          100,
          80.48699684,
          50,
          91.34958922,
          95.71021926,
          100,
          100,
          76.56507958,
          100,
          58.65041078,
          58.65041078,
          100,
          89.02600632,
          100,
          100,
          100,
          63.86235058,
          63.86235058,
          86.13764942,
          53.50516166,
          56.33830662,
          56.33830662,
          64.02600632,
          75,
          75.92215906,
          100,
          100,
          100,
          35.42387962,
          95.63936997,
          86.13764942,
          87.05980848,
          79.36063003,
          44.78806019,
          100,
          100,
          75,
          100,
          95.71021926,
          100,
          95.63936997,
          100,
          100,
          100,
          95.71021926,
          94.51300316,
          100,
          75,
          100,
          73.87363319,
          94.51300316,
          75,
          95.63936997,
          54.28978074,
          100,
          41.42043851,
          100,
          100,
          100,
          100,
          100,
          86.13764942,
          63.86235058,
          100,
          100,
          100,
          58.57956149,
          100,
          100,
          95.71021926,
          100,
          95.63936997,
          100,
          82.55747987,
          100,
          95.63936997,
          100,
          100,
          100,
          58.81406651,
          100,
          57.52404397,
          91.42043851,
          100,
          100,
          82.69917845,
          90.49827945,
          54.36063003,
          100,
          44.69525374,
          100,
          85.01128261,
          75,
          100,
          100,
          100,
          75,
          100,
          65.49827945,
          75,
          75,
          70.71021926,
          100,
          86.2084987,
          100,
          100,
          75,
          84.50172055,
          70.63936997
         ],
         "y0": " ",
         "yaxis": "y"
        },
        {
         "alignmentgroup": "True",
         "hovertemplate": "Vigencia CFK=CFK Vigencia 2022<br>Autoeficacia en Pensamiento Computacional=%{y}<extra></extra>",
         "legendgroup": "CFK Vigencia 2022",
         "marker": {
          "color": "rgb(252,141,98)"
         },
         "name": "CFK Vigencia 2022",
         "notched": false,
         "offsetgroup": "CFK Vigencia 2022",
         "orientation": "v",
         "showlegend": true,
         "type": "box",
         "x0": " ",
         "xaxis": "x",
         "y": [
          100,
          89.0254237288136,
          97.2620599739244,
          100,
          66.7894393741851,
          75,
          75,
          100,
          100,
          100,
          75,
          75,
          75,
          100,
          100,
          75,
          91.893741851369,
          75,
          57.9302477183833,
          75,
          83.0019556714472,
          100,
          69.4198174706649,
          46.893741851369,
          74.7001303780965,
          94.6316818774446,
          100,
          69.5893089960886,
          100,
          77.9726205997392,
          75,
          75,
          80.8800521512386,
          89.0547588005215,
          64.0547588005215,
          100,
          100,
          100,
          75,
          100,
          75,
          75,
          100,
          100,
          0,
          100,
          0,
          86.0136897001304,
          80.609517601043,
          100,
          75,
          74.8924380704042,
          75,
          75,
          72.2653194263364,
          100,
          60.9517601043025,
          100,
          100,
          75,
          75,
          97.1284224250326,
          100,
          83.4745762711864,
          88.4093872229465,
          100,
          77.6303780964798,
          0,
          88.8168187744459,
          0,
          100,
          77.5,
          72.2620599739244,
          69.2926988265971,
          100,
          75,
          100,
          75,
          77.5,
          100,
          72.3696219035202,
          97.3696219035202,
          100,
          75,
          83.3376792698826,
          100,
          66.3168187744459,
          100,
          85.7366362451108,
          100,
          60.5410691003911,
          100,
          91.867666232073,
          72.0925684485006,
          80.5019556714472,
          0,
          77.6303780964798,
          0,
          77.6303780964798,
          22.2620599739244,
          100,
          86.254889178618,
          97.0273794002608,
          100,
          75,
          91.893741851369,
          75,
          100,
          100,
          100,
          100,
          100,
          75,
          85.7366362451108,
          86.4830508474576,
          72.0273794002608,
          97.0925684485006,
          75,
          88.751629726206,
          66.7177314211213,
          86.1799217731421,
          75,
          69.0547588005215,
          97.0273794002608,
          97.5,
          75,
          100,
          75,
          97.2620599739244,
          75,
          75,
          75,
          100,
          89.2633637548892,
          97.5,
          100,
          75,
          75,
          91.6558018252934,
          75,
          77.6303780964798,
          49.2209908735332,
          97.0925684485006,
          83.2822685788787,
          66.6818774445893,
          69.357887874837,
          75,
          60.8376792698827,
          75,
          100,
          66.7926988265971,
          47.7803129074316,
          55.602998696219,
          61.5906127770535,
          75,
          75,
          72.2620599739244,
          75,
          0,
          75,
          77.6303780964798,
          100,
          100,
          63.7092568448501,
          82.8683181225554,
          100,
          66.3852672750978
         ],
         "y0": " ",
         "yaxis": "y"
        }
       ],
       "layout": {
        "autosize": true,
        "boxmode": "group",
        "legend": {
         "title": {
          "text": "Vigencia CFK"
         },
         "tracegroupgap": 0
        },
        "margin": {
         "t": 60
        },
        "template": {
         "data": {
          "bar": [
           {
            "error_x": {
             "color": "#2a3f5f"
            },
            "error_y": {
             "color": "#2a3f5f"
            },
            "marker": {
             "line": {
              "color": "white",
              "width": 0.5
             },
             "pattern": {
              "fillmode": "overlay",
              "size": 10,
              "solidity": 0.2
             }
            },
            "type": "bar"
           }
          ],
          "barpolar": [
           {
            "marker": {
             "line": {
              "color": "white",
              "width": 0.5
             },
             "pattern": {
              "fillmode": "overlay",
              "size": 10,
              "solidity": 0.2
             }
            },
            "type": "barpolar"
           }
          ],
          "carpet": [
           {
            "aaxis": {
             "endlinecolor": "#2a3f5f",
             "gridcolor": "#C8D4E3",
             "linecolor": "#C8D4E3",
             "minorgridcolor": "#C8D4E3",
             "startlinecolor": "#2a3f5f"
            },
            "baxis": {
             "endlinecolor": "#2a3f5f",
             "gridcolor": "#C8D4E3",
             "linecolor": "#C8D4E3",
             "minorgridcolor": "#C8D4E3",
             "startlinecolor": "#2a3f5f"
            },
            "type": "carpet"
           }
          ],
          "choropleth": [
           {
            "colorbar": {
             "outlinewidth": 0,
             "ticks": ""
            },
            "type": "choropleth"
           }
          ],
          "contour": [
           {
            "colorbar": {
             "outlinewidth": 0,
             "ticks": ""
            },
            "colorscale": [
             [
              0,
              "#0d0887"
             ],
             [
              0.1111111111111111,
              "#46039f"
             ],
             [
              0.2222222222222222,
              "#7201a8"
             ],
             [
              0.3333333333333333,
              "#9c179e"
             ],
             [
              0.4444444444444444,
              "#bd3786"
             ],
             [
              0.5555555555555556,
              "#d8576b"
             ],
             [
              0.6666666666666666,
              "#ed7953"
             ],
             [
              0.7777777777777778,
              "#fb9f3a"
             ],
             [
              0.8888888888888888,
              "#fdca26"
             ],
             [
              1,
              "#f0f921"
             ]
            ],
            "type": "contour"
           }
          ],
          "contourcarpet": [
           {
            "colorbar": {
             "outlinewidth": 0,
             "ticks": ""
            },
            "type": "contourcarpet"
           }
          ],
          "heatmap": [
           {
            "colorbar": {
             "outlinewidth": 0,
             "ticks": ""
            },
            "colorscale": [
             [
              0,
              "#0d0887"
             ],
             [
              0.1111111111111111,
              "#46039f"
             ],
             [
              0.2222222222222222,
              "#7201a8"
             ],
             [
              0.3333333333333333,
              "#9c179e"
             ],
             [
              0.4444444444444444,
              "#bd3786"
             ],
             [
              0.5555555555555556,
              "#d8576b"
             ],
             [
              0.6666666666666666,
              "#ed7953"
             ],
             [
              0.7777777777777778,
              "#fb9f3a"
             ],
             [
              0.8888888888888888,
              "#fdca26"
             ],
             [
              1,
              "#f0f921"
             ]
            ],
            "type": "heatmap"
           }
          ],
          "heatmapgl": [
           {
            "colorbar": {
             "outlinewidth": 0,
             "ticks": ""
            },
            "colorscale": [
             [
              0,
              "#0d0887"
             ],
             [
              0.1111111111111111,
              "#46039f"
             ],
             [
              0.2222222222222222,
              "#7201a8"
             ],
             [
              0.3333333333333333,
              "#9c179e"
             ],
             [
              0.4444444444444444,
              "#bd3786"
             ],
             [
              0.5555555555555556,
              "#d8576b"
             ],
             [
              0.6666666666666666,
              "#ed7953"
             ],
             [
              0.7777777777777778,
              "#fb9f3a"
             ],
             [
              0.8888888888888888,
              "#fdca26"
             ],
             [
              1,
              "#f0f921"
             ]
            ],
            "type": "heatmapgl"
           }
          ],
          "histogram": [
           {
            "marker": {
             "pattern": {
              "fillmode": "overlay",
              "size": 10,
              "solidity": 0.2
             }
            },
            "type": "histogram"
           }
          ],
          "histogram2d": [
           {
            "colorbar": {
             "outlinewidth": 0,
             "ticks": ""
            },
            "colorscale": [
             [
              0,
              "#0d0887"
             ],
             [
              0.1111111111111111,
              "#46039f"
             ],
             [
              0.2222222222222222,
              "#7201a8"
             ],
             [
              0.3333333333333333,
              "#9c179e"
             ],
             [
              0.4444444444444444,
              "#bd3786"
             ],
             [
              0.5555555555555556,
              "#d8576b"
             ],
             [
              0.6666666666666666,
              "#ed7953"
             ],
             [
              0.7777777777777778,
              "#fb9f3a"
             ],
             [
              0.8888888888888888,
              "#fdca26"
             ],
             [
              1,
              "#f0f921"
             ]
            ],
            "type": "histogram2d"
           }
          ],
          "histogram2dcontour": [
           {
            "colorbar": {
             "outlinewidth": 0,
             "ticks": ""
            },
            "colorscale": [
             [
              0,
              "#0d0887"
             ],
             [
              0.1111111111111111,
              "#46039f"
             ],
             [
              0.2222222222222222,
              "#7201a8"
             ],
             [
              0.3333333333333333,
              "#9c179e"
             ],
             [
              0.4444444444444444,
              "#bd3786"
             ],
             [
              0.5555555555555556,
              "#d8576b"
             ],
             [
              0.6666666666666666,
              "#ed7953"
             ],
             [
              0.7777777777777778,
              "#fb9f3a"
             ],
             [
              0.8888888888888888,
              "#fdca26"
             ],
             [
              1,
              "#f0f921"
             ]
            ],
            "type": "histogram2dcontour"
           }
          ],
          "mesh3d": [
           {
            "colorbar": {
             "outlinewidth": 0,
             "ticks": ""
            },
            "type": "mesh3d"
           }
          ],
          "parcoords": [
           {
            "line": {
             "colorbar": {
              "outlinewidth": 0,
              "ticks": ""
             }
            },
            "type": "parcoords"
           }
          ],
          "pie": [
           {
            "automargin": true,
            "type": "pie"
           }
          ],
          "scatter": [
           {
            "marker": {
             "colorbar": {
              "outlinewidth": 0,
              "ticks": ""
             }
            },
            "type": "scatter"
           }
          ],
          "scatter3d": [
           {
            "line": {
             "colorbar": {
              "outlinewidth": 0,
              "ticks": ""
             }
            },
            "marker": {
             "colorbar": {
              "outlinewidth": 0,
              "ticks": ""
             }
            },
            "type": "scatter3d"
           }
          ],
          "scattercarpet": [
           {
            "marker": {
             "colorbar": {
              "outlinewidth": 0,
              "ticks": ""
             }
            },
            "type": "scattercarpet"
           }
          ],
          "scattergeo": [
           {
            "marker": {
             "colorbar": {
              "outlinewidth": 0,
              "ticks": ""
             }
            },
            "type": "scattergeo"
           }
          ],
          "scattergl": [
           {
            "marker": {
             "colorbar": {
              "outlinewidth": 0,
              "ticks": ""
             }
            },
            "type": "scattergl"
           }
          ],
          "scattermapbox": [
           {
            "marker": {
             "colorbar": {
              "outlinewidth": 0,
              "ticks": ""
             }
            },
            "type": "scattermapbox"
           }
          ],
          "scatterpolar": [
           {
            "marker": {
             "colorbar": {
              "outlinewidth": 0,
              "ticks": ""
             }
            },
            "type": "scatterpolar"
           }
          ],
          "scatterpolargl": [
           {
            "marker": {
             "colorbar": {
              "outlinewidth": 0,
              "ticks": ""
             }
            },
            "type": "scatterpolargl"
           }
          ],
          "scatterternary": [
           {
            "marker": {
             "colorbar": {
              "outlinewidth": 0,
              "ticks": ""
             }
            },
            "type": "scatterternary"
           }
          ],
          "surface": [
           {
            "colorbar": {
             "outlinewidth": 0,
             "ticks": ""
            },
            "colorscale": [
             [
              0,
              "#0d0887"
             ],
             [
              0.1111111111111111,
              "#46039f"
             ],
             [
              0.2222222222222222,
              "#7201a8"
             ],
             [
              0.3333333333333333,
              "#9c179e"
             ],
             [
              0.4444444444444444,
              "#bd3786"
             ],
             [
              0.5555555555555556,
              "#d8576b"
             ],
             [
              0.6666666666666666,
              "#ed7953"
             ],
             [
              0.7777777777777778,
              "#fb9f3a"
             ],
             [
              0.8888888888888888,
              "#fdca26"
             ],
             [
              1,
              "#f0f921"
             ]
            ],
            "type": "surface"
           }
          ],
          "table": [
           {
            "cells": {
             "fill": {
              "color": "#EBF0F8"
             },
             "line": {
              "color": "white"
             }
            },
            "header": {
             "fill": {
              "color": "#C8D4E3"
             },
             "line": {
              "color": "white"
             }
            },
            "type": "table"
           }
          ]
         },
         "layout": {
          "annotationdefaults": {
           "arrowcolor": "#2a3f5f",
           "arrowhead": 0,
           "arrowwidth": 1
          },
          "autotypenumbers": "strict",
          "coloraxis": {
           "colorbar": {
            "outlinewidth": 0,
            "ticks": ""
           }
          },
          "colorscale": {
           "diverging": [
            [
             0,
             "#8e0152"
            ],
            [
             0.1,
             "#c51b7d"
            ],
            [
             0.2,
             "#de77ae"
            ],
            [
             0.3,
             "#f1b6da"
            ],
            [
             0.4,
             "#fde0ef"
            ],
            [
             0.5,
             "#f7f7f7"
            ],
            [
             0.6,
             "#e6f5d0"
            ],
            [
             0.7,
             "#b8e186"
            ],
            [
             0.8,
             "#7fbc41"
            ],
            [
             0.9,
             "#4d9221"
            ],
            [
             1,
             "#276419"
            ]
           ],
           "sequential": [
            [
             0,
             "#0d0887"
            ],
            [
             0.1111111111111111,
             "#46039f"
            ],
            [
             0.2222222222222222,
             "#7201a8"
            ],
            [
             0.3333333333333333,
             "#9c179e"
            ],
            [
             0.4444444444444444,
             "#bd3786"
            ],
            [
             0.5555555555555556,
             "#d8576b"
            ],
            [
             0.6666666666666666,
             "#ed7953"
            ],
            [
             0.7777777777777778,
             "#fb9f3a"
            ],
            [
             0.8888888888888888,
             "#fdca26"
            ],
            [
             1,
             "#f0f921"
            ]
           ],
           "sequentialminus": [
            [
             0,
             "#0d0887"
            ],
            [
             0.1111111111111111,
             "#46039f"
            ],
            [
             0.2222222222222222,
             "#7201a8"
            ],
            [
             0.3333333333333333,
             "#9c179e"
            ],
            [
             0.4444444444444444,
             "#bd3786"
            ],
            [
             0.5555555555555556,
             "#d8576b"
            ],
            [
             0.6666666666666666,
             "#ed7953"
            ],
            [
             0.7777777777777778,
             "#fb9f3a"
            ],
            [
             0.8888888888888888,
             "#fdca26"
            ],
            [
             1,
             "#f0f921"
            ]
           ]
          },
          "colorway": [
           "#636efa",
           "#EF553B",
           "#00cc96",
           "#ab63fa",
           "#FFA15A",
           "#19d3f3",
           "#FF6692",
           "#B6E880",
           "#FF97FF",
           "#FECB52"
          ],
          "font": {
           "color": "#2a3f5f"
          },
          "geo": {
           "bgcolor": "white",
           "lakecolor": "white",
           "landcolor": "white",
           "showlakes": true,
           "showland": true,
           "subunitcolor": "#C8D4E3"
          },
          "hoverlabel": {
           "align": "left"
          },
          "hovermode": "closest",
          "mapbox": {
           "style": "light"
          },
          "paper_bgcolor": "white",
          "plot_bgcolor": "white",
          "polar": {
           "angularaxis": {
            "gridcolor": "#EBF0F8",
            "linecolor": "#EBF0F8",
            "ticks": ""
           },
           "bgcolor": "white",
           "radialaxis": {
            "gridcolor": "#EBF0F8",
            "linecolor": "#EBF0F8",
            "ticks": ""
           }
          },
          "scene": {
           "xaxis": {
            "backgroundcolor": "white",
            "gridcolor": "#DFE8F3",
            "gridwidth": 2,
            "linecolor": "#EBF0F8",
            "showbackground": true,
            "ticks": "",
            "zerolinecolor": "#EBF0F8"
           },
           "yaxis": {
            "backgroundcolor": "white",
            "gridcolor": "#DFE8F3",
            "gridwidth": 2,
            "linecolor": "#EBF0F8",
            "showbackground": true,
            "ticks": "",
            "zerolinecolor": "#EBF0F8"
           },
           "zaxis": {
            "backgroundcolor": "white",
            "gridcolor": "#DFE8F3",
            "gridwidth": 2,
            "linecolor": "#EBF0F8",
            "showbackground": true,
            "ticks": "",
            "zerolinecolor": "#EBF0F8"
           }
          },
          "shapedefaults": {
           "line": {
            "color": "#2a3f5f"
           }
          },
          "ternary": {
           "aaxis": {
            "gridcolor": "#DFE8F3",
            "linecolor": "#A2B1C6",
            "ticks": ""
           },
           "baxis": {
            "gridcolor": "#DFE8F3",
            "linecolor": "#A2B1C6",
            "ticks": ""
           },
           "bgcolor": "white",
           "caxis": {
            "gridcolor": "#DFE8F3",
            "linecolor": "#A2B1C6",
            "ticks": ""
           }
          },
          "title": {
           "x": 0.05
          },
          "xaxis": {
           "automargin": true,
           "gridcolor": "#EBF0F8",
           "linecolor": "#EBF0F8",
           "ticks": "",
           "title": {
            "standoff": 15
           },
           "zerolinecolor": "#EBF0F8",
           "zerolinewidth": 2
          },
          "yaxis": {
           "automargin": true,
           "gridcolor": "#EBF0F8",
           "linecolor": "#EBF0F8",
           "ticks": "",
           "title": {
            "standoff": 15
           },
           "zerolinecolor": "#EBF0F8",
           "zerolinewidth": 2
          }
         }
        },
        "xaxis": {
         "anchor": "y",
         "autorange": true,
         "domain": [
          0,
          1
         ],
         "range": [
          -0.5041551246537396,
          0.5041551246537396
         ],
         "type": "category"
        },
        "yaxis": {
         "anchor": "x",
         "autorange": true,
         "domain": [
          0,
          1
         ],
         "range": [
          -5.555555555555556,
          105.55555555555556
         ],
         "title": {
          "text": "Autoeficacia en Pensamiento Computacional"
         },
         "type": "linear"
        }
       }
      },
      "image/png": "[encoded data removed]",
      "text/html": [
       "<div>                            <div id=\"dcbd1fc9-b7c3-4182-9660-f8c6dc3403f8\" class=\"plotly-graph-div\" style=\"height:525px; width:100%;\"></div>            <script type=\"text/javascript\">                require([\"plotly\"], function(Plotly) {                    window.PLOTLYENV=window.PLOTLYENV || {};                                    if (document.getElementById(\"dcbd1fc9-b7c3-4182-9660-f8c6dc3403f8\")) {                    Plotly.newPlot(                        \"dcbd1fc9-b7c3-4182-9660-f8c6dc3403f8\",                        [{\"alignmentgroup\":\"True\",\"hovertemplate\":\"Vigencia CFK=CFK Vigencia 2021<br>Autoeficacia en Pensamiento Computacional=%{y}<extra></extra>\",\"legendgroup\":\"CFK Vigencia 2021\",\"marker\":{\"color\":\"rgb(102,194,165)\"},\"name\":\"CFK Vigencia 2021\",\"notched\":false,\"offsetgroup\":\"CFK Vigencia 2021\",\"orientation\":\"v\",\"showlegend\":true,\"x0\":\" \",\"xaxis\":\"x\",\"y\":[83.37535375,100.0,75.0,75.0,100.0,100.0,100.0,88.86235058,82.55747987,100.0,100.0,100.0,81.33830662,100.0,100.0,95.63936997,100.0,100.0,100.0,100.0,100.0,95.63936997,100.0,75.0,100.0,90.22322242,100.0,100.0,61.13764942,100.0,80.21193981,100.0,75.0,100.0,50.0,100.0,95.71021926,75.0,95.63936997,69.51300316,94.51300316,100.0,100.0,100.0,15.42743016,100.0,100.0,95.71021926,100.0,100.0,100.0,100.0,75.0,83.37535375,63.86235058,79.085573,80.14109052,90.22322242,100.0,90.42743016,91.42043851,86.13764942,75.0,75.0,100.0,75.0,100.0,100.0,82.55747987,100.0,100.0,70.78106854,75.0,100.0,100.0,100.0,58.65041078,58.65041078,100.0,75.0,75.0,75.0,90.49827945,75.0,75.0,75.0,100.0,87.13065777,100.0,100.0,75.0,95.63936997,100.0,100.0,100.0,100.0,100.0,100.0,100.0,95.63936997,0.0,89.30106335,91.34958922,0.0,100.0,88.86235058,100.0,100.0,100.0,100.0,100.0,75.0,75.0,100.0,100.0,94.78806019,100.0,100.0,100.0,91.27873994,100.0,100.0,100.0,80.48699684,50.0,91.34958922,95.71021926,100.0,100.0,76.56507958,100.0,58.65041078,58.65041078,100.0,89.02600632,100.0,100.0,100.0,63.86235058,63.86235058,86.13764942,53.50516166,56.33830662,56.33830662,64.02600632,75.0,75.92215906,100.0,100.0,100.0,35.42387962,95.63936997,86.13764942,87.05980848,79.36063003,44.78806019,100.0,100.0,75.0,100.0,95.71021926,100.0,95.63936997,100.0,100.0,100.0,95.71021926,94.51300316,100.0,75.0,100.0,73.87363319,94.51300316,75.0,95.63936997,54.28978074,100.0,41.42043851,100.0,100.0,100.0,100.0,100.0,86.13764942,63.86235058,100.0,100.0,100.0,58.57956149,100.0,100.0,95.71021926,100.0,95.63936997,100.0,82.55747987,100.0,95.63936997,100.0,100.0,100.0,58.81406651,100.0,57.52404397,91.42043851,100.0,100.0,82.69917845,90.49827945,54.36063003,100.0,44.69525374,100.0,85.01128261,75.0,100.0,100.0,100.0,75.0,100.0,65.49827945,75.0,75.0,70.71021926,100.0,86.2084987,100.0,100.0,75.0,84.50172055,70.63936997],\"y0\":\" \",\"yaxis\":\"y\",\"type\":\"box\"},{\"alignmentgroup\":\"True\",\"hovertemplate\":\"Vigencia CFK=CFK Vigencia 2022<br>Autoeficacia en Pensamiento Computacional=%{y}<extra></extra>\",\"legendgroup\":\"CFK Vigencia 2022\",\"marker\":{\"color\":\"rgb(252,141,98)\"},\"name\":\"CFK Vigencia 2022\",\"notched\":false,\"offsetgroup\":\"CFK Vigencia 2022\",\"orientation\":\"v\",\"showlegend\":true,\"x0\":\" \",\"xaxis\":\"x\",\"y\":[100.0,89.0254237288136,97.2620599739244,100.0,66.7894393741851,75.0,75.0,100.0,100.0,100.0,75.0,75.0,75.0,100.0,100.0,75.0,91.893741851369,75.0,57.9302477183833,75.0,83.0019556714472,100.0,69.4198174706649,46.893741851369,74.7001303780965,94.6316818774446,100.0,69.5893089960886,100.0,77.9726205997392,75.0,75.0,80.8800521512386,89.0547588005215,64.0547588005215,100.0,100.0,100.0,75.0,100.0,75.0,75.0,100.0,100.0,0.0,100.0,0.0,86.0136897001304,80.609517601043,100.0,75.0,74.8924380704042,75.0,75.0,72.2653194263364,100.0,60.9517601043025,100.0,100.0,75.0,75.0,97.1284224250326,100.0,83.4745762711864,88.4093872229465,100.0,77.6303780964798,0.0,88.8168187744459,0.0,100.0,77.5,72.2620599739244,69.2926988265971,100.0,75.0,100.0,75.0,77.5,100.0,72.3696219035202,97.3696219035202,100.0,75.0,83.3376792698826,100.0,66.3168187744459,100.0,85.7366362451108,100.0,60.5410691003911,100.0,91.867666232073,72.0925684485006,80.5019556714472,0.0,77.6303780964798,0.0,77.6303780964798,22.2620599739244,100.0,86.254889178618,97.0273794002608,100.0,75.0,91.893741851369,75.0,100.0,100.0,100.0,100.0,100.0,75.0,85.7366362451108,86.4830508474576,72.0273794002608,97.0925684485006,75.0,88.751629726206,66.7177314211213,86.1799217731421,75.0,69.0547588005215,97.0273794002608,97.5,75.0,100.0,75.0,97.2620599739244,75.0,75.0,75.0,100.0,89.2633637548892,97.5,100.0,75.0,75.0,91.6558018252934,75.0,77.6303780964798,49.2209908735332,97.0925684485006,83.2822685788787,66.6818774445893,69.357887874837,75.0,60.8376792698827,75.0,100.0,66.7926988265971,47.7803129074316,55.602998696219,61.5906127770535,75.0,75.0,72.2620599739244,75.0,0.0,75.0,77.6303780964798,100.0,100.0,63.7092568448501,82.8683181225554,100.0,66.3852672750978],\"y0\":\" \",\"yaxis\":\"y\",\"type\":\"box\"}],                        {\"template\":{\"data\":{\"barpolar\":[{\"marker\":{\"line\":{\"color\":\"white\",\"width\":0.5},\"pattern\":{\"fillmode\":\"overlay\",\"size\":10,\"solidity\":0.2}},\"type\":\"barpolar\"}],\"bar\":[{\"error_x\":{\"color\":\"#2a3f5f\"},\"error_y\":{\"color\":\"#2a3f5f\"},\"marker\":{\"line\":{\"color\":\"white\",\"width\":0.5},\"pattern\":{\"fillmode\":\"overlay\",\"size\":10,\"solidity\":0.2}},\"type\":\"bar\"}],\"carpet\":[{\"aaxis\":{\"endlinecolor\":\"#2a3f5f\",\"gridcolor\":\"#C8D4E3\",\"linecolor\":\"#C8D4E3\",\"minorgridcolor\":\"#C8D4E3\",\"startlinecolor\":\"#2a3f5f\"},\"baxis\":{\"endlinecolor\":\"#2a3f5f\",\"gridcolor\":\"#C8D4E3\",\"linecolor\":\"#C8D4E3\",\"minorgridcolor\":\"#C8D4E3\",\"startlinecolor\":\"#2a3f5f\"},\"type\":\"carpet\"}],\"choropleth\":[{\"colorbar\":{\"outlinewidth\":0,\"ticks\":\"\"},\"type\":\"choropleth\"}],\"contourcarpet\":[{\"colorbar\":{\"outlinewidth\":0,\"ticks\":\"\"},\"type\":\"contourcarpet\"}],\"contour\":[{\"colorbar\":{\"outlinewidth\":0,\"ticks\":\"\"},\"colorscale\":[[0.0,\"#0d0887\"],[0.1111111111111111,\"#46039f\"],[0.2222222222222222,\"#7201a8\"],[0.3333333333333333,\"#9c179e\"],[0.4444444444444444,\"#bd3786\"],[0.5555555555555556,\"#d8576b\"],[0.6666666666666666,\"#ed7953\"],[0.7777777777777778,\"#fb9f3a\"],[0.8888888888888888,\"#fdca26\"],[1.0,\"#f0f921\"]],\"type\":\"contour\"}],\"heatmapgl\":[{\"colorbar\":{\"outlinewidth\":0,\"ticks\":\"\"},\"colorscale\":[[0.0,\"#0d0887\"],[0.1111111111111111,\"#46039f\"],[0.2222222222222222,\"#7201a8\"],[0.3333333333333333,\"#9c179e\"],[0.4444444444444444,\"#bd3786\"],[0.5555555555555556,\"#d8576b\"],[0.6666666666666666,\"#ed7953\"],[0.7777777777777778,\"#fb9f3a\"],[0.8888888888888888,\"#fdca26\"],[1.0,\"#f0f921\"]],\"type\":\"heatmapgl\"}],\"heatmap\":[{\"colorbar\":{\"outlinewidth\":0,\"ticks\":\"\"},\"colorscale\":[[0.0,\"#0d0887\"],[0.1111111111111111,\"#46039f\"],[0.2222222222222222,\"#7201a8\"],[0.3333333333333333,\"#9c179e\"],[0.4444444444444444,\"#bd3786\"],[0.5555555555555556,\"#d8576b\"],[0.6666666666666666,\"#ed7953\"],[0.7777777777777778,\"#fb9f3a\"],[0.8888888888888888,\"#fdca26\"],[1.0,\"#f0f921\"]],\"type\":\"heatmap\"}],\"histogram2dcontour\":[{\"colorbar\":{\"outlinewidth\":0,\"ticks\":\"\"},\"colorscale\":[[0.0,\"#0d0887\"],[0.1111111111111111,\"#46039f\"],[0.2222222222222222,\"#7201a8\"],[0.3333333333333333,\"#9c179e\"],[0.4444444444444444,\"#bd3786\"],[0.5555555555555556,\"#d8576b\"],[0.6666666666666666,\"#ed7953\"],[0.7777777777777778,\"#fb9f3a\"],[0.8888888888888888,\"#fdca26\"],[1.0,\"#f0f921\"]],\"type\":\"histogram2dcontour\"}],\"histogram2d\":[{\"colorbar\":{\"outlinewidth\":0,\"ticks\":\"\"},\"colorscale\":[[0.0,\"#0d0887\"],[0.1111111111111111,\"#46039f\"],[0.2222222222222222,\"#7201a8\"],[0.3333333333333333,\"#9c179e\"],[0.4444444444444444,\"#bd3786\"],[0.5555555555555556,\"#d8576b\"],[0.6666666666666666,\"#ed7953\"],[0.7777777777777778,\"#fb9f3a\"],[0.8888888888888888,\"#fdca26\"],[1.0,\"#f0f921\"]],\"type\":\"histogram2d\"}],\"histogram\":[{\"marker\":{\"pattern\":{\"fillmode\":\"overlay\",\"size\":10,\"solidity\":0.2}},\"type\":\"histogram\"}],\"mesh3d\":[{\"colorbar\":{\"outlinewidth\":0,\"ticks\":\"\"},\"type\":\"mesh3d\"}],\"parcoords\":[{\"line\":{\"colorbar\":{\"outlinewidth\":0,\"ticks\":\"\"}},\"type\":\"parcoords\"}],\"pie\":[{\"automargin\":true,\"type\":\"pie\"}],\"scatter3d\":[{\"line\":{\"colorbar\":{\"outlinewidth\":0,\"ticks\":\"\"}},\"marker\":{\"colorbar\":{\"outlinewidth\":0,\"ticks\":\"\"}},\"type\":\"scatter3d\"}],\"scattercarpet\":[{\"marker\":{\"colorbar\":{\"outlinewidth\":0,\"ticks\":\"\"}},\"type\":\"scattercarpet\"}],\"scattergeo\":[{\"marker\":{\"colorbar\":{\"outlinewidth\":0,\"ticks\":\"\"}},\"type\":\"scattergeo\"}],\"scattergl\":[{\"marker\":{\"colorbar\":{\"outlinewidth\":0,\"ticks\":\"\"}},\"type\":\"scattergl\"}],\"scattermapbox\":[{\"marker\":{\"colorbar\":{\"outlinewidth\":0,\"ticks\":\"\"}},\"type\":\"scattermapbox\"}],\"scatterpolargl\":[{\"marker\":{\"colorbar\":{\"outlinewidth\":0,\"ticks\":\"\"}},\"type\":\"scatterpolargl\"}],\"scatterpolar\":[{\"marker\":{\"colorbar\":{\"outlinewidth\":0,\"ticks\":\"\"}},\"type\":\"scatterpolar\"}],\"scatter\":[{\"marker\":{\"colorbar\":{\"outlinewidth\":0,\"ticks\":\"\"}},\"type\":\"scatter\"}],\"scatterternary\":[{\"marker\":{\"colorbar\":{\"outlinewidth\":0,\"ticks\":\"\"}},\"type\":\"scatterternary\"}],\"surface\":[{\"colorbar\":{\"outlinewidth\":0,\"ticks\":\"\"},\"colorscale\":[[0.0,\"#0d0887\"],[0.1111111111111111,\"#46039f\"],[0.2222222222222222,\"#7201a8\"],[0.3333333333333333,\"#9c179e\"],[0.4444444444444444,\"#bd3786\"],[0.5555555555555556,\"#d8576b\"],[0.6666666666666666,\"#ed7953\"],[0.7777777777777778,\"#fb9f3a\"],[0.8888888888888888,\"#fdca26\"],[1.0,\"#f0f921\"]],\"type\":\"surface\"}],\"table\":[{\"cells\":{\"fill\":{\"color\":\"#EBF0F8\"},\"line\":{\"color\":\"white\"}},\"header\":{\"fill\":{\"color\":\"#C8D4E3\"},\"line\":{\"color\":\"white\"}},\"type\":\"table\"}]},\"layout\":{\"annotationdefaults\":{\"arrowcolor\":\"#2a3f5f\",\"arrowhead\":0,\"arrowwidth\":1},\"autotypenumbers\":\"strict\",\"coloraxis\":{\"colorbar\":{\"outlinewidth\":0,\"ticks\":\"\"}},\"colorscale\":{\"diverging\":[[0,\"#8e0152\"],[0.1,\"#c51b7d\"],[0.2,\"#de77ae\"],[0.3,\"#f1b6da\"],[0.4,\"#fde0ef\"],[0.5,\"#f7f7f7\"],[0.6,\"#e6f5d0\"],[0.7,\"#b8e186\"],[0.8,\"#7fbc41\"],[0.9,\"#4d9221\"],[1,\"#276419\"]],\"sequential\":[[0.0,\"#0d0887\"],[0.1111111111111111,\"#46039f\"],[0.2222222222222222,\"#7201a8\"],[0.3333333333333333,\"#9c179e\"],[0.4444444444444444,\"#bd3786\"],[0.5555555555555556,\"#d8576b\"],[0.6666666666666666,\"#ed7953\"],[0.7777777777777778,\"#fb9f3a\"],[0.8888888888888888,\"#fdca26\"],[1.0,\"#f0f921\"]],\"sequentialminus\":[[0.0,\"#0d0887\"],[0.1111111111111111,\"#46039f\"],[0.2222222222222222,\"#7201a8\"],[0.3333333333333333,\"#9c179e\"],[0.4444444444444444,\"#bd3786\"],[0.5555555555555556,\"#d8576b\"],[0.6666666666666666,\"#ed7953\"],[0.7777777777777778,\"#fb9f3a\"],[0.8888888888888888,\"#fdca26\"],[1.0,\"#f0f921\"]]},\"colorway\":[\"#636efa\",\"#EF553B\",\"#00cc96\",\"#ab63fa\",\"#FFA15A\",\"#19d3f3\",\"#FF6692\",\"#B6E880\",\"#FF97FF\",\"#FECB52\"],\"font\":{\"color\":\"#2a3f5f\"},\"geo\":{\"bgcolor\":\"white\",\"lakecolor\":\"white\",\"landcolor\":\"white\",\"showlakes\":true,\"showland\":true,\"subunitcolor\":\"#C8D4E3\"},\"hoverlabel\":{\"align\":\"left\"},\"hovermode\":\"closest\",\"mapbox\":{\"style\":\"light\"},\"paper_bgcolor\":\"white\",\"plot_bgcolor\":\"white\",\"polar\":{\"angularaxis\":{\"gridcolor\":\"#EBF0F8\",\"linecolor\":\"#EBF0F8\",\"ticks\":\"\"},\"bgcolor\":\"white\",\"radialaxis\":{\"gridcolor\":\"#EBF0F8\",\"linecolor\":\"#EBF0F8\",\"ticks\":\"\"}},\"scene\":{\"xaxis\":{\"backgroundcolor\":\"white\",\"gridcolor\":\"#DFE8F3\",\"gridwidth\":2,\"linecolor\":\"#EBF0F8\",\"showbackground\":true,\"ticks\":\"\",\"zerolinecolor\":\"#EBF0F8\"},\"yaxis\":{\"backgroundcolor\":\"white\",\"gridcolor\":\"#DFE8F3\",\"gridwidth\":2,\"linecolor\":\"#EBF0F8\",\"showbackground\":true,\"ticks\":\"\",\"zerolinecolor\":\"#EBF0F8\"},\"zaxis\":{\"backgroundcolor\":\"white\",\"gridcolor\":\"#DFE8F3\",\"gridwidth\":2,\"linecolor\":\"#EBF0F8\",\"showbackground\":true,\"ticks\":\"\",\"zerolinecolor\":\"#EBF0F8\"}},\"shapedefaults\":{\"line\":{\"color\":\"#2a3f5f\"}},\"ternary\":{\"aaxis\":{\"gridcolor\":\"#DFE8F3\",\"linecolor\":\"#A2B1C6\",\"ticks\":\"\"},\"baxis\":{\"gridcolor\":\"#DFE8F3\",\"linecolor\":\"#A2B1C6\",\"ticks\":\"\"},\"bgcolor\":\"white\",\"caxis\":{\"gridcolor\":\"#DFE8F3\",\"linecolor\":\"#A2B1C6\",\"ticks\":\"\"}},\"title\":{\"x\":0.05},\"xaxis\":{\"automargin\":true,\"gridcolor\":\"#EBF0F8\",\"linecolor\":\"#EBF0F8\",\"ticks\":\"\",\"title\":{\"standoff\":15},\"zerolinecolor\":\"#EBF0F8\",\"zerolinewidth\":2},\"yaxis\":{\"automargin\":true,\"gridcolor\":\"#EBF0F8\",\"linecolor\":\"#EBF0F8\",\"ticks\":\"\",\"title\":{\"standoff\":15},\"zerolinecolor\":\"#EBF0F8\",\"zerolinewidth\":2}}},\"xaxis\":{\"anchor\":\"y\",\"domain\":[0.0,1.0]},\"yaxis\":{\"anchor\":\"x\",\"domain\":[0.0,1.0],\"title\":{\"text\":\"Autoeficacia en Pensamiento Computacional\"}},\"legend\":{\"title\":{\"text\":\"Vigencia CFK\"},\"tracegroupgap\":0},\"margin\":{\"t\":60},\"boxmode\":\"group\"},                        {\"responsive\": true}                    ).then(function(){\n",
       "                            \n",
       "var gd = document.getElementById('dcbd1fc9-b7c3-4182-9660-f8c6dc3403f8');\n",
       "var x = new MutationObserver(function (mutations, observer) {{\n",
       "        var display = window.getComputedStyle(gd).display;\n",
       "        if (!display || display === 'none') {{\n",
       "            console.log([gd, 'removed!']);\n",
       "            Plotly.purge(gd);\n",
       "            observer.disconnect();\n",
       "        }}\n",
       "}});\n",
       "\n",
       "// Listen for the removal of the full notebook cells\n",
       "var notebookContainer = gd.closest('#notebook-container');\n",
       "if (notebookContainer) {{\n",
       "    x.observe(notebookContainer, {childList: true});\n",
       "}}\n",
       "\n",
       "// Listen for the clearing of the current output cell\n",
       "var outputEl = gd.closest('.output');\n",
       "if (outputEl) {{\n",
       "    x.observe(outputEl, {childList: true});\n",
       "}}\n",
       "\n",
       "                        })                };                });            </script>        </div>"
      ]
     },
     "metadata": {},
     "output_type": "display_data"
    }
   ],
   "source": [
    "fig = px.box(autoefic, y='Autoeficacia en Pensamiento Computacional', color='Vigencia CFK', template=\"plotly_white\",color_discrete_sequence=px.colors.qualitative.Set2)\n",
    "fig"
   ]
  },
  {
   "cell_type": "code",
   "execution_count": 12,
   "id": "9eaf3058-0346-434b-a059-79cc414fb38c",
   "metadata": {},
   "outputs": [
    {
     "data": {
      "application/vnd.plotly.v1+json": {
       "config": {
        "plotlyServerURL": "https://plot.ly"
       },
       "data": [
        {
         "alignmentgroup": "True",
         "hovertemplate": "Vigencia CFK=CFK Vigencia 2021<br>Autoeficacia Tecnológica=%{y}<extra></extra>",
         "legendgroup": "CFK Vigencia 2021",
         "marker": {
          "color": "rgb(102,194,165)"
         },
         "name": "CFK Vigencia 2021",
         "notched": false,
         "offsetgroup": "CFK Vigencia 2021",
         "orientation": "v",
         "showlegend": true,
         "type": "box",
         "x0": " ",
         "xaxis": "x",
         "y": [
          91.69649996,
          80.93087495,
          75,
          75,
          100,
          100,
          100,
          83.39299992,
          80.93087495,
          100,
          100,
          100,
          75,
          66.69649996,
          100,
          100,
          75,
          100,
          100,
          91.69649996,
          91.69649996,
          91.69649996,
          91.69649996,
          100,
          80.93087495,
          75,
          83.39299992,
          100,
          52.46212497,
          100,
          51.00662502,
          100,
          91.69649996,
          100,
          50,
          91.69649996,
          89.23437499,
          69.15862493,
          91.69649996,
          75,
          100,
          75,
          75,
          100,
          58.30350004,
          100,
          100,
          66.69649996,
          85.76562501,
          85.76562501,
          100,
          100,
          80.93087495,
          91.69649996,
          58.39299992,
          91.69649996,
          100,
          80.93087495,
          80.93087495,
          59.39962493,
          100,
          91.69649996,
          75,
          75,
          80.93087495,
          75,
          80.93087495,
          100,
          91.69649996,
          75,
          75,
          91.69649996,
          75,
          16.69649996,
          75,
          75,
          75,
          75,
          75,
          55.93087495,
          55.93087495,
          50,
          100,
          75,
          75,
          75,
          83.39299992,
          100,
          91.69649996,
          91.69649996,
          72.62737491,
          75,
          91.69649996,
          91.69649996,
          91.69649996,
          66.78599984,
          100,
          75,
          75,
          66.69649996,
          91.69649996,
          100,
          29.83475006,
          0,
          100,
          75,
          75,
          100,
          75,
          91.69649996,
          91.69649996,
          50.08949988,
          83.30350004,
          91.69649996,
          100,
          75,
          100,
          100,
          100,
          78.46874998,
          100,
          58.39299992,
          58.39299992,
          75,
          66.69649996,
          80.93087495,
          66.69649996,
          100,
          91.69649996,
          89.23437499,
          80.93087495,
          75,
          75,
          75,
          91.69649996,
          100,
          100,
          61.8617499,
          75,
          75,
          75,
          8.303500041,
          100,
          100,
          50,
          64.23437499,
          75,
          91.69649996,
          91.69649996,
          100,
          36.8617499,
          100,
          75,
          85.76562501,
          89.23437499,
          75,
          100,
          100,
          66.69649996,
          80.93087495,
          75,
          91.69649996,
          91.69649996,
          75,
          66.69649996,
          91.69649996,
          55.93087495,
          75,
          75,
          75,
          80.93087495,
          91.69649996,
          85.76562501,
          80.93087495,
          85.76562501,
          75,
          100,
          61.8617499,
          100,
          75,
          75,
          100,
          64.32387487,
          89.23437499,
          89.23437499,
          100,
          100,
          75,
          55.93087495,
          75,
          75,
          77.46212497,
          100,
          100,
          66.69649996,
          100,
          100,
          91.69649996,
          75,
          75.08949988,
          91.69649996,
          75,
          100,
          64.23437499,
          66.69649996,
          83.30350004,
          69.06912505,
          70.16524994,
          75,
          66.69649996,
          100,
          75,
          80.93087495,
          100,
          75,
          75,
          72.62737491,
          100,
          75,
          78.46874998,
          50,
          75,
          47.62737491,
          41.69649996,
          100,
          80.93087495,
          91.69649996,
          75,
          66.69649996,
          91.69649996,
          58.30350004
         ],
         "y0": " ",
         "yaxis": "y"
        },
        {
         "alignmentgroup": "True",
         "hovertemplate": "Vigencia CFK=CFK Vigencia 2022<br>Autoeficacia Tecnológica=%{y}<extra></extra>",
         "legendgroup": "CFK Vigencia 2022",
         "marker": {
          "color": "rgb(252,141,98)"
         },
         "name": "CFK Vigencia 2022",
         "notched": false,
         "offsetgroup": "CFK Vigencia 2022",
         "orientation": "v",
         "showlegend": true,
         "type": "box",
         "x0": " ",
         "xaxis": "x",
         "y": [
          100,
          100,
          89.3235435724603,
          100,
          91.7067886374579,
          75,
          75,
          100,
          85.6764564275397,
          14.3235435724603,
          75,
          75,
          75,
          100,
          75,
          100,
          91.7067886374579,
          81.0303322099181,
          61.9402985074627,
          100,
          89.3235435724603,
          91.7067886374579,
          89.3235435724603,
          69.0900337024555,
          85.6764564275397,
          85.6764564275397,
          100,
          75,
          91.7067886374579,
          100,
          58.4135772749157,
          64.4439094848339,
          91.7067886374579,
          83.2932113625421,
          89.3235435724603,
          100,
          100,
          0,
          75,
          100,
          100,
          100,
          100,
          100,
          0,
          8.29321136254213,
          100,
          81.0303322099181,
          75,
          100,
          75,
          83.2932113625421,
          100,
          75,
          75,
          100,
          75,
          75,
          0,
          83.2932113625421,
          75,
          42.7058257101589,
          100,
          100,
          91.7067886374579,
          100,
          81.0303322099181,
          0,
          81.0303322099181,
          0,
          75,
          83.2932113625421,
          75,
          100,
          100,
          75,
          0,
          75,
          83.2932113625421,
          100,
          93.9696677900819,
          58.4135772749157,
          100,
          81.0303322099181,
          75,
          100,
          75,
          100,
          91.7067886374579,
          100,
          83.2932113625421,
          100,
          100,
          75,
          81.0303322099181,
          0,
          75,
          0,
          91.7067886374579,
          100,
          100,
          100,
          100,
          100,
          83.2932113625421,
          85.6764564275397,
          75,
          100,
          91.7067886374579,
          100,
          100,
          100,
          83.2932113625421,
          100,
          100,
          100,
          100,
          81.0303322099181,
          91.7067886374579,
          58.4135772749157,
          85.6764564275397,
          75,
          91.7067886374579,
          100,
          0,
          58.4135772749157,
          91.7067886374579,
          91.7067886374579,
          100,
          100,
          81.0303322099181,
          75,
          100,
          100,
          81.0303322099181,
          100,
          75,
          81.0303322099181,
          100,
          75,
          75.1203659123736,
          43.0909966297545,
          100,
          91.7067886374579,
          60.7968223399133,
          75,
          75,
          83.2932113625421,
          75,
          91.7067886374579,
          8.29321136254213,
          67.9706307173808,
          81.0303322099181,
          83.2932113625421,
          75,
          75,
          93.9696677900819,
          75,
          0,
          81.0303322099181,
          100,
          100,
          91.7067886374579,
          75,
          100,
          85.6764564275397,
          75
         ],
         "y0": " ",
         "yaxis": "y"
        }
       ],
       "layout": {
        "autosize": true,
        "boxmode": "group",
        "legend": {
         "title": {
          "text": "Vigencia CFK"
         },
         "tracegroupgap": 0
        },
        "margin": {
         "t": 60
        },
        "template": {
         "data": {
          "bar": [
           {
            "error_x": {
             "color": "#2a3f5f"
            },
            "error_y": {
             "color": "#2a3f5f"
            },
            "marker": {
             "line": {
              "color": "white",
              "width": 0.5
             },
             "pattern": {
              "fillmode": "overlay",
              "size": 10,
              "solidity": 0.2
             }
            },
            "type": "bar"
           }
          ],
          "barpolar": [
           {
            "marker": {
             "line": {
              "color": "white",
              "width": 0.5
             },
             "pattern": {
              "fillmode": "overlay",
              "size": 10,
              "solidity": 0.2
             }
            },
            "type": "barpolar"
           }
          ],
          "carpet": [
           {
            "aaxis": {
             "endlinecolor": "#2a3f5f",
             "gridcolor": "#C8D4E3",
             "linecolor": "#C8D4E3",
             "minorgridcolor": "#C8D4E3",
             "startlinecolor": "#2a3f5f"
            },
            "baxis": {
             "endlinecolor": "#2a3f5f",
             "gridcolor": "#C8D4E3",
             "linecolor": "#C8D4E3",
             "minorgridcolor": "#C8D4E3",
             "startlinecolor": "#2a3f5f"
            },
            "type": "carpet"
           }
          ],
          "choropleth": [
           {
            "colorbar": {
             "outlinewidth": 0,
             "ticks": ""
            },
            "type": "choropleth"
           }
          ],
          "contour": [
           {
            "colorbar": {
             "outlinewidth": 0,
             "ticks": ""
            },
            "colorscale": [
             [
              0,
              "#0d0887"
             ],
             [
              0.1111111111111111,
              "#46039f"
             ],
             [
              0.2222222222222222,
              "#7201a8"
             ],
             [
              0.3333333333333333,
              "#9c179e"
             ],
             [
              0.4444444444444444,
              "#bd3786"
             ],
             [
              0.5555555555555556,
              "#d8576b"
             ],
             [
              0.6666666666666666,
              "#ed7953"
             ],
             [
              0.7777777777777778,
              "#fb9f3a"
             ],
             [
              0.8888888888888888,
              "#fdca26"
             ],
             [
              1,
              "#f0f921"
             ]
            ],
            "type": "contour"
           }
          ],
          "contourcarpet": [
           {
            "colorbar": {
             "outlinewidth": 0,
             "ticks": ""
            },
            "type": "contourcarpet"
           }
          ],
          "heatmap": [
           {
            "colorbar": {
             "outlinewidth": 0,
             "ticks": ""
            },
            "colorscale": [
             [
              0,
              "#0d0887"
             ],
             [
              0.1111111111111111,
              "#46039f"
             ],
             [
              0.2222222222222222,
              "#7201a8"
             ],
             [
              0.3333333333333333,
              "#9c179e"
             ],
             [
              0.4444444444444444,
              "#bd3786"
             ],
             [
              0.5555555555555556,
              "#d8576b"
             ],
             [
              0.6666666666666666,
              "#ed7953"
             ],
             [
              0.7777777777777778,
              "#fb9f3a"
             ],
             [
              0.8888888888888888,
              "#fdca26"
             ],
             [
              1,
              "#f0f921"
             ]
            ],
            "type": "heatmap"
           }
          ],
          "heatmapgl": [
           {
            "colorbar": {
             "outlinewidth": 0,
             "ticks": ""
            },
            "colorscale": [
             [
              0,
              "#0d0887"
             ],
             [
              0.1111111111111111,
              "#46039f"
             ],
             [
              0.2222222222222222,
              "#7201a8"
             ],
             [
              0.3333333333333333,
              "#9c179e"
             ],
             [
              0.4444444444444444,
              "#bd3786"
             ],
             [
              0.5555555555555556,
              "#d8576b"
             ],
             [
              0.6666666666666666,
              "#ed7953"
             ],
             [
              0.7777777777777778,
              "#fb9f3a"
             ],
             [
              0.8888888888888888,
              "#fdca26"
             ],
             [
              1,
              "#f0f921"
             ]
            ],
            "type": "heatmapgl"
           }
          ],
          "histogram": [
           {
            "marker": {
             "pattern": {
              "fillmode": "overlay",
              "size": 10,
              "solidity": 0.2
             }
            },
            "type": "histogram"
           }
          ],
          "histogram2d": [
           {
            "colorbar": {
             "outlinewidth": 0,
             "ticks": ""
            },
            "colorscale": [
             [
              0,
              "#0d0887"
             ],
             [
              0.1111111111111111,
              "#46039f"
             ],
             [
              0.2222222222222222,
              "#7201a8"
             ],
             [
              0.3333333333333333,
              "#9c179e"
             ],
             [
              0.4444444444444444,
              "#bd3786"
             ],
             [
              0.5555555555555556,
              "#d8576b"
             ],
             [
              0.6666666666666666,
              "#ed7953"
             ],
             [
              0.7777777777777778,
              "#fb9f3a"
             ],
             [
              0.8888888888888888,
              "#fdca26"
             ],
             [
              1,
              "#f0f921"
             ]
            ],
            "type": "histogram2d"
           }
          ],
          "histogram2dcontour": [
           {
            "colorbar": {
             "outlinewidth": 0,
             "ticks": ""
            },
            "colorscale": [
             [
              0,
              "#0d0887"
             ],
             [
              0.1111111111111111,
              "#46039f"
             ],
             [
              0.2222222222222222,
              "#7201a8"
             ],
             [
              0.3333333333333333,
              "#9c179e"
             ],
             [
              0.4444444444444444,
              "#bd3786"
             ],
             [
              0.5555555555555556,
              "#d8576b"
             ],
             [
              0.6666666666666666,
              "#ed7953"
             ],
             [
              0.7777777777777778,
              "#fb9f3a"
             ],
             [
              0.8888888888888888,
              "#fdca26"
             ],
             [
              1,
              "#f0f921"
             ]
            ],
            "type": "histogram2dcontour"
           }
          ],
          "mesh3d": [
           {
            "colorbar": {
             "outlinewidth": 0,
             "ticks": ""
            },
            "type": "mesh3d"
           }
          ],
          "parcoords": [
           {
            "line": {
             "colorbar": {
              "outlinewidth": 0,
              "ticks": ""
             }
            },
            "type": "parcoords"
           }
          ],
          "pie": [
           {
            "automargin": true,
            "type": "pie"
           }
          ],
          "scatter": [
           {
            "marker": {
             "colorbar": {
              "outlinewidth": 0,
              "ticks": ""
             }
            },
            "type": "scatter"
           }
          ],
          "scatter3d": [
           {
            "line": {
             "colorbar": {
              "outlinewidth": 0,
              "ticks": ""
             }
            },
            "marker": {
             "colorbar": {
              "outlinewidth": 0,
              "ticks": ""
             }
            },
            "type": "scatter3d"
           }
          ],
          "scattercarpet": [
           {
            "marker": {
             "colorbar": {
              "outlinewidth": 0,
              "ticks": ""
             }
            },
            "type": "scattercarpet"
           }
          ],
          "scattergeo": [
           {
            "marker": {
             "colorbar": {
              "outlinewidth": 0,
              "ticks": ""
             }
            },
            "type": "scattergeo"
           }
          ],
          "scattergl": [
           {
            "marker": {
             "colorbar": {
              "outlinewidth": 0,
              "ticks": ""
             }
            },
            "type": "scattergl"
           }
          ],
          "scattermapbox": [
           {
            "marker": {
             "colorbar": {
              "outlinewidth": 0,
              "ticks": ""
             }
            },
            "type": "scattermapbox"
           }
          ],
          "scatterpolar": [
           {
            "marker": {
             "colorbar": {
              "outlinewidth": 0,
              "ticks": ""
             }
            },
            "type": "scatterpolar"
           }
          ],
          "scatterpolargl": [
           {
            "marker": {
             "colorbar": {
              "outlinewidth": 0,
              "ticks": ""
             }
            },
            "type": "scatterpolargl"
           }
          ],
          "scatterternary": [
           {
            "marker": {
             "colorbar": {
              "outlinewidth": 0,
              "ticks": ""
             }
            },
            "type": "scatterternary"
           }
          ],
          "surface": [
           {
            "colorbar": {
             "outlinewidth": 0,
             "ticks": ""
            },
            "colorscale": [
             [
              0,
              "#0d0887"
             ],
             [
              0.1111111111111111,
              "#46039f"
             ],
             [
              0.2222222222222222,
              "#7201a8"
             ],
             [
              0.3333333333333333,
              "#9c179e"
             ],
             [
              0.4444444444444444,
              "#bd3786"
             ],
             [
              0.5555555555555556,
              "#d8576b"
             ],
             [
              0.6666666666666666,
              "#ed7953"
             ],
             [
              0.7777777777777778,
              "#fb9f3a"
             ],
             [
              0.8888888888888888,
              "#fdca26"
             ],
             [
              1,
              "#f0f921"
             ]
            ],
            "type": "surface"
           }
          ],
          "table": [
           {
            "cells": {
             "fill": {
              "color": "#EBF0F8"
             },
             "line": {
              "color": "white"
             }
            },
            "header": {
             "fill": {
              "color": "#C8D4E3"
             },
             "line": {
              "color": "white"
             }
            },
            "type": "table"
           }
          ]
         },
         "layout": {
          "annotationdefaults": {
           "arrowcolor": "#2a3f5f",
           "arrowhead": 0,
           "arrowwidth": 1
          },
          "autotypenumbers": "strict",
          "coloraxis": {
           "colorbar": {
            "outlinewidth": 0,
            "ticks": ""
           }
          },
          "colorscale": {
           "diverging": [
            [
             0,
             "#8e0152"
            ],
            [
             0.1,
             "#c51b7d"
            ],
            [
             0.2,
             "#de77ae"
            ],
            [
             0.3,
             "#f1b6da"
            ],
            [
             0.4,
             "#fde0ef"
            ],
            [
             0.5,
             "#f7f7f7"
            ],
            [
             0.6,
             "#e6f5d0"
            ],
            [
             0.7,
             "#b8e186"
            ],
            [
             0.8,
             "#7fbc41"
            ],
            [
             0.9,
             "#4d9221"
            ],
            [
             1,
             "#276419"
            ]
           ],
           "sequential": [
            [
             0,
             "#0d0887"
            ],
            [
             0.1111111111111111,
             "#46039f"
            ],
            [
             0.2222222222222222,
             "#7201a8"
            ],
            [
             0.3333333333333333,
             "#9c179e"
            ],
            [
             0.4444444444444444,
             "#bd3786"
            ],
            [
             0.5555555555555556,
             "#d8576b"
            ],
            [
             0.6666666666666666,
             "#ed7953"
            ],
            [
             0.7777777777777778,
             "#fb9f3a"
            ],
            [
             0.8888888888888888,
             "#fdca26"
            ],
            [
             1,
             "#f0f921"
            ]
           ],
           "sequentialminus": [
            [
             0,
             "#0d0887"
            ],
            [
             0.1111111111111111,
             "#46039f"
            ],
            [
             0.2222222222222222,
             "#7201a8"
            ],
            [
             0.3333333333333333,
             "#9c179e"
            ],
            [
             0.4444444444444444,
             "#bd3786"
            ],
            [
             0.5555555555555556,
             "#d8576b"
            ],
            [
             0.6666666666666666,
             "#ed7953"
            ],
            [
             0.7777777777777778,
             "#fb9f3a"
            ],
            [
             0.8888888888888888,
             "#fdca26"
            ],
            [
             1,
             "#f0f921"
            ]
           ]
          },
          "colorway": [
           "#636efa",
           "#EF553B",
           "#00cc96",
           "#ab63fa",
           "#FFA15A",
           "#19d3f3",
           "#FF6692",
           "#B6E880",
           "#FF97FF",
           "#FECB52"
          ],
          "font": {
           "color": "#2a3f5f"
          },
          "geo": {
           "bgcolor": "white",
           "lakecolor": "white",
           "landcolor": "white",
           "showlakes": true,
           "showland": true,
           "subunitcolor": "#C8D4E3"
          },
          "hoverlabel": {
           "align": "left"
          },
          "hovermode": "closest",
          "mapbox": {
           "style": "light"
          },
          "paper_bgcolor": "white",
          "plot_bgcolor": "white",
          "polar": {
           "angularaxis": {
            "gridcolor": "#EBF0F8",
            "linecolor": "#EBF0F8",
            "ticks": ""
           },
           "bgcolor": "white",
           "radialaxis": {
            "gridcolor": "#EBF0F8",
            "linecolor": "#EBF0F8",
            "ticks": ""
           }
          },
          "scene": {
           "xaxis": {
            "backgroundcolor": "white",
            "gridcolor": "#DFE8F3",
            "gridwidth": 2,
            "linecolor": "#EBF0F8",
            "showbackground": true,
            "ticks": "",
            "zerolinecolor": "#EBF0F8"
           },
           "yaxis": {
            "backgroundcolor": "white",
            "gridcolor": "#DFE8F3",
            "gridwidth": 2,
            "linecolor": "#EBF0F8",
            "showbackground": true,
            "ticks": "",
            "zerolinecolor": "#EBF0F8"
           },
           "zaxis": {
            "backgroundcolor": "white",
            "gridcolor": "#DFE8F3",
            "gridwidth": 2,
            "linecolor": "#EBF0F8",
            "showbackground": true,
            "ticks": "",
            "zerolinecolor": "#EBF0F8"
           }
          },
          "shapedefaults": {
           "line": {
            "color": "#2a3f5f"
           }
          },
          "ternary": {
           "aaxis": {
            "gridcolor": "#DFE8F3",
            "linecolor": "#A2B1C6",
            "ticks": ""
           },
           "baxis": {
            "gridcolor": "#DFE8F3",
            "linecolor": "#A2B1C6",
            "ticks": ""
           },
           "bgcolor": "white",
           "caxis": {
            "gridcolor": "#DFE8F3",
            "linecolor": "#A2B1C6",
            "ticks": ""
           }
          },
          "title": {
           "x": 0.05
          },
          "xaxis": {
           "automargin": true,
           "gridcolor": "#EBF0F8",
           "linecolor": "#EBF0F8",
           "ticks": "",
           "title": {
            "standoff": 15
           },
           "zerolinecolor": "#EBF0F8",
           "zerolinewidth": 2
          },
          "yaxis": {
           "automargin": true,
           "gridcolor": "#EBF0F8",
           "linecolor": "#EBF0F8",
           "ticks": "",
           "title": {
            "standoff": 15
           },
           "zerolinecolor": "#EBF0F8",
           "zerolinewidth": 2
          }
         }
        },
        "xaxis": {
         "anchor": "y",
         "autorange": true,
         "domain": [
          0,
          1
         ],
         "range": [
          -0.5041551246537396,
          0.5041551246537396
         ],
         "type": "category"
        },
        "yaxis": {
         "anchor": "x",
         "autorange": true,
         "domain": [
          0,
          1
         ],
         "range": [
          -5.555555555555556,
          105.55555555555556
         ],
         "title": {
          "text": "Autoeficacia Tecnológica"
         },
         "type": "linear"
        }
       }
      },
      "image/png": "[encoded data removed]",
      "text/html": [
       "<div>                            <div id=\"c83fa9e3-7115-47c6-b406-b2e95ccbdfe5\" class=\"plotly-graph-div\" style=\"height:525px; width:100%;\"></div>            <script type=\"text/javascript\">                require([\"plotly\"], function(Plotly) {                    window.PLOTLYENV=window.PLOTLYENV || {};                                    if (document.getElementById(\"c83fa9e3-7115-47c6-b406-b2e95ccbdfe5\")) {                    Plotly.newPlot(                        \"c83fa9e3-7115-47c6-b406-b2e95ccbdfe5\",                        [{\"alignmentgroup\":\"True\",\"hovertemplate\":\"Vigencia CFK=CFK Vigencia 2021<br>Autoeficacia Tecnol\\u00f3gica=%{y}<extra></extra>\",\"legendgroup\":\"CFK Vigencia 2021\",\"marker\":{\"color\":\"rgb(102,194,165)\"},\"name\":\"CFK Vigencia 2021\",\"notched\":false,\"offsetgroup\":\"CFK Vigencia 2021\",\"orientation\":\"v\",\"showlegend\":true,\"x0\":\" \",\"xaxis\":\"x\",\"y\":[91.69649996,80.93087495,75.0,75.0,100.0,100.0,100.0,83.39299992,80.93087495,100.0,100.0,100.0,75.0,66.69649996,100.0,100.0,75.0,100.0,100.0,91.69649996,91.69649996,91.69649996,91.69649996,100.0,80.93087495,75.0,83.39299992,100.0,52.46212497,100.0,51.00662502,100.0,91.69649996,100.0,50.0,91.69649996,89.23437499,69.15862493,91.69649996,75.0,100.0,75.0,75.0,100.0,58.30350004,100.0,100.0,66.69649996,85.76562501,85.76562501,100.0,100.0,80.93087495,91.69649996,58.39299992,91.69649996,100.0,80.93087495,80.93087495,59.39962493,100.0,91.69649996,75.0,75.0,80.93087495,75.0,80.93087495,100.0,91.69649996,75.0,75.0,91.69649996,75.0,16.69649996,75.0,75.0,75.0,75.0,75.0,55.93087495,55.93087495,50.0,100.0,75.0,75.0,75.0,83.39299992,100.0,91.69649996,91.69649996,72.62737491,75.0,91.69649996,91.69649996,91.69649996,66.78599984,100.0,75.0,75.0,66.69649996,91.69649996,100.0,29.83475006,0.0,100.0,75.0,75.0,100.0,75.0,91.69649996,91.69649996,50.08949988,83.30350004,91.69649996,100.0,75.0,100.0,100.0,100.0,78.46874998,100.0,58.39299992,58.39299992,75.0,66.69649996,80.93087495,66.69649996,100.0,91.69649996,89.23437499,80.93087495,75.0,75.0,75.0,91.69649996,100.0,100.0,61.8617499,75.0,75.0,75.0,8.303500041,100.0,100.0,50.0,64.23437499,75.0,91.69649996,91.69649996,100.0,36.8617499,100.0,75.0,85.76562501,89.23437499,75.0,100.0,100.0,66.69649996,80.93087495,75.0,91.69649996,91.69649996,75.0,66.69649996,91.69649996,55.93087495,75.0,75.0,75.0,80.93087495,91.69649996,85.76562501,80.93087495,85.76562501,75.0,100.0,61.8617499,100.0,75.0,75.0,100.0,64.32387487,89.23437499,89.23437499,100.0,100.0,75.0,55.93087495,75.0,75.0,77.46212497,100.0,100.0,66.69649996,100.0,100.0,91.69649996,75.0,75.08949988,91.69649996,75.0,100.0,64.23437499,66.69649996,83.30350004,69.06912505,70.16524994,75.0,66.69649996,100.0,75.0,80.93087495,100.0,75.0,75.0,72.62737491,100.0,75.0,78.46874998,50.0,75.0,47.62737491,41.69649996,100.0,80.93087495,91.69649996,75.0,66.69649996,91.69649996,58.30350004],\"y0\":\" \",\"yaxis\":\"y\",\"type\":\"box\"},{\"alignmentgroup\":\"True\",\"hovertemplate\":\"Vigencia CFK=CFK Vigencia 2022<br>Autoeficacia Tecnol\\u00f3gica=%{y}<extra></extra>\",\"legendgroup\":\"CFK Vigencia 2022\",\"marker\":{\"color\":\"rgb(252,141,98)\"},\"name\":\"CFK Vigencia 2022\",\"notched\":false,\"offsetgroup\":\"CFK Vigencia 2022\",\"orientation\":\"v\",\"showlegend\":true,\"x0\":\" \",\"xaxis\":\"x\",\"y\":[100.0,100.0,89.3235435724603,100.0,91.7067886374579,75.0,75.0,100.0,85.6764564275397,14.3235435724603,75.0,75.0,75.0,100.0,75.0,100.0,91.7067886374579,81.0303322099181,61.9402985074627,100.0,89.3235435724603,91.7067886374579,89.3235435724603,69.0900337024555,85.6764564275397,85.6764564275397,100.0,75.0,91.7067886374579,100.0,58.4135772749157,64.4439094848339,91.7067886374579,83.2932113625421,89.3235435724603,100.0,100.0,0.0,75.0,100.0,100.0,100.0,100.0,100.0,0.0,8.29321136254213,100.0,81.0303322099181,75.0,100.0,75.0,83.2932113625421,100.0,75.0,75.0,100.0,75.0,75.0,0.0,83.2932113625421,75.0,42.7058257101589,100.0,100.0,91.7067886374579,100.0,81.0303322099181,0.0,81.0303322099181,0.0,75.0,83.2932113625421,75.0,100.0,100.0,75.0,0.0,75.0,83.2932113625421,100.0,93.9696677900819,58.4135772749157,100.0,81.0303322099181,75.0,100.0,75.0,100.0,91.7067886374579,100.0,83.2932113625421,100.0,100.0,75.0,81.0303322099181,0.0,75.0,0.0,91.7067886374579,100.0,100.0,100.0,100.0,100.0,83.2932113625421,85.6764564275397,75.0,100.0,91.7067886374579,100.0,100.0,100.0,83.2932113625421,100.0,100.0,100.0,100.0,81.0303322099181,91.7067886374579,58.4135772749157,85.6764564275397,75.0,91.7067886374579,100.0,0.0,58.4135772749157,91.7067886374579,91.7067886374579,100.0,100.0,81.0303322099181,75.0,100.0,100.0,81.0303322099181,100.0,75.0,81.0303322099181,100.0,75.0,75.1203659123736,43.0909966297545,100.0,91.7067886374579,60.7968223399133,75.0,75.0,83.2932113625421,75.0,91.7067886374579,8.29321136254213,67.9706307173808,81.0303322099181,83.2932113625421,75.0,75.0,93.9696677900819,75.0,0.0,81.0303322099181,100.0,100.0,91.7067886374579,75.0,100.0,85.6764564275397,75.0],\"y0\":\" \",\"yaxis\":\"y\",\"type\":\"box\"}],                        {\"template\":{\"data\":{\"barpolar\":[{\"marker\":{\"line\":{\"color\":\"white\",\"width\":0.5},\"pattern\":{\"fillmode\":\"overlay\",\"size\":10,\"solidity\":0.2}},\"type\":\"barpolar\"}],\"bar\":[{\"error_x\":{\"color\":\"#2a3f5f\"},\"error_y\":{\"color\":\"#2a3f5f\"},\"marker\":{\"line\":{\"color\":\"white\",\"width\":0.5},\"pattern\":{\"fillmode\":\"overlay\",\"size\":10,\"solidity\":0.2}},\"type\":\"bar\"}],\"carpet\":[{\"aaxis\":{\"endlinecolor\":\"#2a3f5f\",\"gridcolor\":\"#C8D4E3\",\"linecolor\":\"#C8D4E3\",\"minorgridcolor\":\"#C8D4E3\",\"startlinecolor\":\"#2a3f5f\"},\"baxis\":{\"endlinecolor\":\"#2a3f5f\",\"gridcolor\":\"#C8D4E3\",\"linecolor\":\"#C8D4E3\",\"minorgridcolor\":\"#C8D4E3\",\"startlinecolor\":\"#2a3f5f\"},\"type\":\"carpet\"}],\"choropleth\":[{\"colorbar\":{\"outlinewidth\":0,\"ticks\":\"\"},\"type\":\"choropleth\"}],\"contourcarpet\":[{\"colorbar\":{\"outlinewidth\":0,\"ticks\":\"\"},\"type\":\"contourcarpet\"}],\"contour\":[{\"colorbar\":{\"outlinewidth\":0,\"ticks\":\"\"},\"colorscale\":[[0.0,\"#0d0887\"],[0.1111111111111111,\"#46039f\"],[0.2222222222222222,\"#7201a8\"],[0.3333333333333333,\"#9c179e\"],[0.4444444444444444,\"#bd3786\"],[0.5555555555555556,\"#d8576b\"],[0.6666666666666666,\"#ed7953\"],[0.7777777777777778,\"#fb9f3a\"],[0.8888888888888888,\"#fdca26\"],[1.0,\"#f0f921\"]],\"type\":\"contour\"}],\"heatmapgl\":[{\"colorbar\":{\"outlinewidth\":0,\"ticks\":\"\"},\"colorscale\":[[0.0,\"#0d0887\"],[0.1111111111111111,\"#46039f\"],[0.2222222222222222,\"#7201a8\"],[0.3333333333333333,\"#9c179e\"],[0.4444444444444444,\"#bd3786\"],[0.5555555555555556,\"#d8576b\"],[0.6666666666666666,\"#ed7953\"],[0.7777777777777778,\"#fb9f3a\"],[0.8888888888888888,\"#fdca26\"],[1.0,\"#f0f921\"]],\"type\":\"heatmapgl\"}],\"heatmap\":[{\"colorbar\":{\"outlinewidth\":0,\"ticks\":\"\"},\"colorscale\":[[0.0,\"#0d0887\"],[0.1111111111111111,\"#46039f\"],[0.2222222222222222,\"#7201a8\"],[0.3333333333333333,\"#9c179e\"],[0.4444444444444444,\"#bd3786\"],[0.5555555555555556,\"#d8576b\"],[0.6666666666666666,\"#ed7953\"],[0.7777777777777778,\"#fb9f3a\"],[0.8888888888888888,\"#fdca26\"],[1.0,\"#f0f921\"]],\"type\":\"heatmap\"}],\"histogram2dcontour\":[{\"colorbar\":{\"outlinewidth\":0,\"ticks\":\"\"},\"colorscale\":[[0.0,\"#0d0887\"],[0.1111111111111111,\"#46039f\"],[0.2222222222222222,\"#7201a8\"],[0.3333333333333333,\"#9c179e\"],[0.4444444444444444,\"#bd3786\"],[0.5555555555555556,\"#d8576b\"],[0.6666666666666666,\"#ed7953\"],[0.7777777777777778,\"#fb9f3a\"],[0.8888888888888888,\"#fdca26\"],[1.0,\"#f0f921\"]],\"type\":\"histogram2dcontour\"}],\"histogram2d\":[{\"colorbar\":{\"outlinewidth\":0,\"ticks\":\"\"},\"colorscale\":[[0.0,\"#0d0887\"],[0.1111111111111111,\"#46039f\"],[0.2222222222222222,\"#7201a8\"],[0.3333333333333333,\"#9c179e\"],[0.4444444444444444,\"#bd3786\"],[0.5555555555555556,\"#d8576b\"],[0.6666666666666666,\"#ed7953\"],[0.7777777777777778,\"#fb9f3a\"],[0.8888888888888888,\"#fdca26\"],[1.0,\"#f0f921\"]],\"type\":\"histogram2d\"}],\"histogram\":[{\"marker\":{\"pattern\":{\"fillmode\":\"overlay\",\"size\":10,\"solidity\":0.2}},\"type\":\"histogram\"}],\"mesh3d\":[{\"colorbar\":{\"outlinewidth\":0,\"ticks\":\"\"},\"type\":\"mesh3d\"}],\"parcoords\":[{\"line\":{\"colorbar\":{\"outlinewidth\":0,\"ticks\":\"\"}},\"type\":\"parcoords\"}],\"pie\":[{\"automargin\":true,\"type\":\"pie\"}],\"scatter3d\":[{\"line\":{\"colorbar\":{\"outlinewidth\":0,\"ticks\":\"\"}},\"marker\":{\"colorbar\":{\"outlinewidth\":0,\"ticks\":\"\"}},\"type\":\"scatter3d\"}],\"scattercarpet\":[{\"marker\":{\"colorbar\":{\"outlinewidth\":0,\"ticks\":\"\"}},\"type\":\"scattercarpet\"}],\"scattergeo\":[{\"marker\":{\"colorbar\":{\"outlinewidth\":0,\"ticks\":\"\"}},\"type\":\"scattergeo\"}],\"scattergl\":[{\"marker\":{\"colorbar\":{\"outlinewidth\":0,\"ticks\":\"\"}},\"type\":\"scattergl\"}],\"scattermapbox\":[{\"marker\":{\"colorbar\":{\"outlinewidth\":0,\"ticks\":\"\"}},\"type\":\"scattermapbox\"}],\"scatterpolargl\":[{\"marker\":{\"colorbar\":{\"outlinewidth\":0,\"ticks\":\"\"}},\"type\":\"scatterpolargl\"}],\"scatterpolar\":[{\"marker\":{\"colorbar\":{\"outlinewidth\":0,\"ticks\":\"\"}},\"type\":\"scatterpolar\"}],\"scatter\":[{\"marker\":{\"colorbar\":{\"outlinewidth\":0,\"ticks\":\"\"}},\"type\":\"scatter\"}],\"scatterternary\":[{\"marker\":{\"colorbar\":{\"outlinewidth\":0,\"ticks\":\"\"}},\"type\":\"scatterternary\"}],\"surface\":[{\"colorbar\":{\"outlinewidth\":0,\"ticks\":\"\"},\"colorscale\":[[0.0,\"#0d0887\"],[0.1111111111111111,\"#46039f\"],[0.2222222222222222,\"#7201a8\"],[0.3333333333333333,\"#9c179e\"],[0.4444444444444444,\"#bd3786\"],[0.5555555555555556,\"#d8576b\"],[0.6666666666666666,\"#ed7953\"],[0.7777777777777778,\"#fb9f3a\"],[0.8888888888888888,\"#fdca26\"],[1.0,\"#f0f921\"]],\"type\":\"surface\"}],\"table\":[{\"cells\":{\"fill\":{\"color\":\"#EBF0F8\"},\"line\":{\"color\":\"white\"}},\"header\":{\"fill\":{\"color\":\"#C8D4E3\"},\"line\":{\"color\":\"white\"}},\"type\":\"table\"}]},\"layout\":{\"annotationdefaults\":{\"arrowcolor\":\"#2a3f5f\",\"arrowhead\":0,\"arrowwidth\":1},\"autotypenumbers\":\"strict\",\"coloraxis\":{\"colorbar\":{\"outlinewidth\":0,\"ticks\":\"\"}},\"colorscale\":{\"diverging\":[[0,\"#8e0152\"],[0.1,\"#c51b7d\"],[0.2,\"#de77ae\"],[0.3,\"#f1b6da\"],[0.4,\"#fde0ef\"],[0.5,\"#f7f7f7\"],[0.6,\"#e6f5d0\"],[0.7,\"#b8e186\"],[0.8,\"#7fbc41\"],[0.9,\"#4d9221\"],[1,\"#276419\"]],\"sequential\":[[0.0,\"#0d0887\"],[0.1111111111111111,\"#46039f\"],[0.2222222222222222,\"#7201a8\"],[0.3333333333333333,\"#9c179e\"],[0.4444444444444444,\"#bd3786\"],[0.5555555555555556,\"#d8576b\"],[0.6666666666666666,\"#ed7953\"],[0.7777777777777778,\"#fb9f3a\"],[0.8888888888888888,\"#fdca26\"],[1.0,\"#f0f921\"]],\"sequentialminus\":[[0.0,\"#0d0887\"],[0.1111111111111111,\"#46039f\"],[0.2222222222222222,\"#7201a8\"],[0.3333333333333333,\"#9c179e\"],[0.4444444444444444,\"#bd3786\"],[0.5555555555555556,\"#d8576b\"],[0.6666666666666666,\"#ed7953\"],[0.7777777777777778,\"#fb9f3a\"],[0.8888888888888888,\"#fdca26\"],[1.0,\"#f0f921\"]]},\"colorway\":[\"#636efa\",\"#EF553B\",\"#00cc96\",\"#ab63fa\",\"#FFA15A\",\"#19d3f3\",\"#FF6692\",\"#B6E880\",\"#FF97FF\",\"#FECB52\"],\"font\":{\"color\":\"#2a3f5f\"},\"geo\":{\"bgcolor\":\"white\",\"lakecolor\":\"white\",\"landcolor\":\"white\",\"showlakes\":true,\"showland\":true,\"subunitcolor\":\"#C8D4E3\"},\"hoverlabel\":{\"align\":\"left\"},\"hovermode\":\"closest\",\"mapbox\":{\"style\":\"light\"},\"paper_bgcolor\":\"white\",\"plot_bgcolor\":\"white\",\"polar\":{\"angularaxis\":{\"gridcolor\":\"#EBF0F8\",\"linecolor\":\"#EBF0F8\",\"ticks\":\"\"},\"bgcolor\":\"white\",\"radialaxis\":{\"gridcolor\":\"#EBF0F8\",\"linecolor\":\"#EBF0F8\",\"ticks\":\"\"}},\"scene\":{\"xaxis\":{\"backgroundcolor\":\"white\",\"gridcolor\":\"#DFE8F3\",\"gridwidth\":2,\"linecolor\":\"#EBF0F8\",\"showbackground\":true,\"ticks\":\"\",\"zerolinecolor\":\"#EBF0F8\"},\"yaxis\":{\"backgroundcolor\":\"white\",\"gridcolor\":\"#DFE8F3\",\"gridwidth\":2,\"linecolor\":\"#EBF0F8\",\"showbackground\":true,\"ticks\":\"\",\"zerolinecolor\":\"#EBF0F8\"},\"zaxis\":{\"backgroundcolor\":\"white\",\"gridcolor\":\"#DFE8F3\",\"gridwidth\":2,\"linecolor\":\"#EBF0F8\",\"showbackground\":true,\"ticks\":\"\",\"zerolinecolor\":\"#EBF0F8\"}},\"shapedefaults\":{\"line\":{\"color\":\"#2a3f5f\"}},\"ternary\":{\"aaxis\":{\"gridcolor\":\"#DFE8F3\",\"linecolor\":\"#A2B1C6\",\"ticks\":\"\"},\"baxis\":{\"gridcolor\":\"#DFE8F3\",\"linecolor\":\"#A2B1C6\",\"ticks\":\"\"},\"bgcolor\":\"white\",\"caxis\":{\"gridcolor\":\"#DFE8F3\",\"linecolor\":\"#A2B1C6\",\"ticks\":\"\"}},\"title\":{\"x\":0.05},\"xaxis\":{\"automargin\":true,\"gridcolor\":\"#EBF0F8\",\"linecolor\":\"#EBF0F8\",\"ticks\":\"\",\"title\":{\"standoff\":15},\"zerolinecolor\":\"#EBF0F8\",\"zerolinewidth\":2},\"yaxis\":{\"automargin\":true,\"gridcolor\":\"#EBF0F8\",\"linecolor\":\"#EBF0F8\",\"ticks\":\"\",\"title\":{\"standoff\":15},\"zerolinecolor\":\"#EBF0F8\",\"zerolinewidth\":2}}},\"xaxis\":{\"anchor\":\"y\",\"domain\":[0.0,1.0]},\"yaxis\":{\"anchor\":\"x\",\"domain\":[0.0,1.0],\"title\":{\"text\":\"Autoeficacia Tecnol\\u00f3gica\"}},\"legend\":{\"title\":{\"text\":\"Vigencia CFK\"},\"tracegroupgap\":0},\"margin\":{\"t\":60},\"boxmode\":\"group\"},                        {\"responsive\": true}                    ).then(function(){\n",
       "                            \n",
       "var gd = document.getElementById('c83fa9e3-7115-47c6-b406-b2e95ccbdfe5');\n",
       "var x = new MutationObserver(function (mutations, observer) {{\n",
       "        var display = window.getComputedStyle(gd).display;\n",
       "        if (!display || display === 'none') {{\n",
       "            console.log([gd, 'removed!']);\n",
       "            Plotly.purge(gd);\n",
       "            observer.disconnect();\n",
       "        }}\n",
       "}});\n",
       "\n",
       "// Listen for the removal of the full notebook cells\n",
       "var notebookContainer = gd.closest('#notebook-container');\n",
       "if (notebookContainer) {{\n",
       "    x.observe(notebookContainer, {childList: true});\n",
       "}}\n",
       "\n",
       "// Listen for the clearing of the current output cell\n",
       "var outputEl = gd.closest('.output');\n",
       "if (outputEl) {{\n",
       "    x.observe(outputEl, {childList: true});\n",
       "}}\n",
       "\n",
       "                        })                };                });            </script>        </div>"
      ]
     },
     "metadata": {},
     "output_type": "display_data"
    }
   ],
   "source": [
    "fig2 = px.box(autoefic, y='Autoeficacia Tecnológica', color='Vigencia CFK', template=\"plotly_white\",color_discrete_sequence=px.colors.qualitative.Set2)\n",
    "fig2"
   ]
  },
  {
   "cell_type": "code",
   "execution_count": 13,
   "id": "dd115390-0d52-4b73-a65a-b4095154224a",
   "metadata": {},
   "outputs": [
    {
     "data": {
      "application/vnd.plotly.v1+json": {
       "config": {
        "plotlyServerURL": "https://plot.ly"
       },
       "data": [
        {
         "alignmentgroup": "True",
         "hovertemplate": "Vigencia CFK=CFK Vigencia 2021<br>Autoeficacia en Conocimiento Pedagógico=%{y}<extra></extra>",
         "legendgroup": "CFK Vigencia 2021",
         "marker": {
          "color": "rgb(102,194,165)"
         },
         "name": "CFK Vigencia 2021",
         "notched": false,
         "offsetgroup": "CFK Vigencia 2021",
         "orientation": "v",
         "showlegend": true,
         "type": "box",
         "x0": " ",
         "xaxis": "x",
         "y": [
          79.99208683,
          97.32396905,
          75,
          75,
          75,
          87.58691531,
          100,
          100,
          67.45515011,
          84.48947798,
          70.13531613,
          100,
          100,
          77.15729074,
          100,
          100,
          75.12326789,
          100,
          90.08516222,
          94.86060074,
          95.28780359,
          82.14843696,
          100,
          54.93010008,
          94.79735863,
          75,
          100,
          100,
          2.369012772,
          100,
          77.36901277,
          75,
          74.90705355,
          100,
          50,
          100,
          64.77712671,
          100,
          100,
          57.57405872,
          100,
          72.53663169,
          100,
          100,
          50,
          100,
          100,
          75,
          100,
          100,
          100,
          100,
          72.50672384,
          79.99208683,
          69.95281366,
          75,
          65.42551466,
          70.07373186,
          97.32396905,
          75,
          75,
          79.83238108,
          75,
          75,
          75,
          72.50672384,
          92.58380089,
          100,
          87.19330868,
          84.64352393,
          84.64352393,
          75,
          67.27678271,
          79.61924996,
          84.64352393,
          84.64352393,
          69.95281366,
          69.95281366,
          67.67038934,
          37.31832744,
          37.31832744,
          29.61924996,
          100,
          62.31575085,
          72.32396905,
          72.32396905,
          100,
          100,
          79.87022802,
          100,
          82.57405872,
          87.16199174,
          79.83238108,
          62.10548315,
          79.83238108,
          72.74976281,
          100,
          65.3335637,
          65.3335637,
          77.36901277,
          0,
          100,
          57.48822564,
          0,
          100,
          75,
          30.54228065,
          94.83010953,
          100,
          72.31860654,
          89.60172765,
          29.73802554,
          74.87673211,
          100,
          100,
          75,
          100,
          100,
          100,
          69.64188322,
          100,
          25,
          25,
          79.61924996,
          67.24318649,
          78.04379138,
          29.81371943,
          72.65681636,
          100,
          74.48778979,
          62.61968581,
          69.95281366,
          69.95281366,
          82.08120918,
          75,
          100,
          100,
          62.71474036,
          72.32396905,
          72.32396905,
          100,
          90.08399472,
          75,
          75,
          52.36901277,
          25,
          75,
          100,
          100,
          100,
          25,
          92.61118928,
          62.07329601,
          79.61924996,
          89.96187395,
          75,
          100,
          67.46097146,
          47.80779538,
          75,
          75,
          82.6377348,
          79.87022802,
          84.88109139,
          58.00043585,
          100,
          64.56798126,
          100,
          62.07329601,
          75,
          84.428582,
          100,
          70.0471692,
          75,
          77.61741425,
          77.25023719,
          100,
          54.95423989,
          97.74976281,
          72.83518376,
          100,
          100,
          37.98918105,
          100,
          95.13118106,
          100,
          100,
          87.95561635,
          12.62534561,
          65.3335637,
          65.3335637,
          57.82656076,
          100,
          92.29969508,
          75,
          0,
          95.28780359,
          84.98091844,
          72.53804078,
          37.23630879,
          100,
          72.32338569,
          100,
          60.1563175,
          75,
          77.49327616,
          67.36732458,
          77.58522712,
          49.11814515,
          54.71219641,
          100,
          75,
          100,
          100,
          75,
          100,
          29.61924996,
          95.28780359,
          70.28780359,
          42.58397289,
          67.91879082,
          100,
          59.79863878,
          27.25023719,
          100,
          77.36901277,
          100,
          75,
          69.95495628,
          100,
          50
         ],
         "y0": " ",
         "yaxis": "y"
        },
        {
         "alignmentgroup": "True",
         "hovertemplate": "Vigencia CFK=CFK Vigencia 2022<br>Autoeficacia en Conocimiento Pedagógico=%{y}<extra></extra>",
         "legendgroup": "CFK Vigencia 2022",
         "marker": {
          "color": "rgb(252,141,98)"
         },
         "name": "CFK Vigencia 2022",
         "notched": false,
         "offsetgroup": "CFK Vigencia 2022",
         "orientation": "v",
         "showlegend": true,
         "type": "box",
         "x0": " ",
         "xaxis": "x",
         "y": [
          100,
          100,
          73.9758732992154,
          100,
          100,
          75,
          100,
          100,
          100,
          100,
          75,
          84.6738459242646,
          70.7329428310718,
          100,
          91.35028077652,
          80.1835188300104,
          82.9317713242873,
          75,
          75,
          84.5661808845623,
          63.8332380534905,
          100,
          75,
          42.2994384469601,
          75,
          89.3447351593978,
          100,
          77.5170427230295,
          86.1667619465095,
          100,
          66.4658856621437,
          75,
          83.64971922348,
          95.6173379454481,
          64.6329623399791,
          100,
          95.6173379454481,
          100,
          75,
          100,
          75,
          75,
          100,
          100,
          0,
          75,
          4.26705716892817,
          95.7329428310718,
          95.6173379454481,
          100,
          75,
          91.4658856621437,
          100,
          75,
          95.7329428310718,
          100,
          56.8997047775813,
          91.35028077652,
          100,
          75,
          70.7329428310718,
          90.5494240010614,
          89.0565079788165,
          70.6173379454481,
          100,
          100,
          75,
          0,
          100,
          0,
          58.7653241091037,
          68.2159001080423,
          95.7329428310718,
          88.8332380534905,
          100,
          75,
          100,
          75,
          100,
          100,
          61.1667619465095,
          100,
          100,
          80.6950159359178,
          79.3826620545519,
          100,
          61.1667619465095,
          100,
          86.1667619465095,
          100,
          75,
          94.8164811699895,
          85.7708697262259,
          75,
          84.7388031795199,
          0,
          69.8164811699895,
          0,
          100,
          100,
          100,
          100,
          80.4717460105917,
          100,
          100,
          95.7329428310718,
          75,
          100,
          95.6173379454481,
          100,
          94.8164811699895,
          100,
          81.8997047775813,
          80.1835188300104,
          84.4505759989386,
          100,
          100,
          75,
          100,
          59.7388031795199,
          59.7388031795199,
          75,
          69.5282539894082,
          100,
          100,
          69.5282539894082,
          75,
          85.8785347659282,
          100,
          100,
          100,
          75,
          95.6173379454481,
          100,
          75,
          100,
          60.6552648406022,
          75,
          100,
          75,
          75,
          34.7894508098883,
          100,
          80.4717460105917,
          56.7270824826238,
          70.7329428310718,
          70.7329428310718,
          39.2370701196955,
          75,
          100,
          86.1667619465095,
          70.7329428310718,
          50.223269925326,
          100,
          89.0565079788165,
          100,
          68.5041272886236,
          75,
          0,
          65.1455919348564,
          100,
          100,
          95.7329428310718,
          75,
          94.8164811699895,
          91.35028077652,
          58.64971922348
         ],
         "y0": " ",
         "yaxis": "y"
        }
       ],
       "layout": {
        "autosize": true,
        "boxmode": "group",
        "legend": {
         "title": {
          "text": "Vigencia CFK"
         },
         "tracegroupgap": 0
        },
        "margin": {
         "t": 60
        },
        "template": {
         "data": {
          "bar": [
           {
            "error_x": {
             "color": "#2a3f5f"
            },
            "error_y": {
             "color": "#2a3f5f"
            },
            "marker": {
             "line": {
              "color": "white",
              "width": 0.5
             },
             "pattern": {
              "fillmode": "overlay",
              "size": 10,
              "solidity": 0.2
             }
            },
            "type": "bar"
           }
          ],
          "barpolar": [
           {
            "marker": {
             "line": {
              "color": "white",
              "width": 0.5
             },
             "pattern": {
              "fillmode": "overlay",
              "size": 10,
              "solidity": 0.2
             }
            },
            "type": "barpolar"
           }
          ],
          "carpet": [
           {
            "aaxis": {
             "endlinecolor": "#2a3f5f",
             "gridcolor": "#C8D4E3",
             "linecolor": "#C8D4E3",
             "minorgridcolor": "#C8D4E3",
             "startlinecolor": "#2a3f5f"
            },
            "baxis": {
             "endlinecolor": "#2a3f5f",
             "gridcolor": "#C8D4E3",
             "linecolor": "#C8D4E3",
             "minorgridcolor": "#C8D4E3",
             "startlinecolor": "#2a3f5f"
            },
            "type": "carpet"
           }
          ],
          "choropleth": [
           {
            "colorbar": {
             "outlinewidth": 0,
             "ticks": ""
            },
            "type": "choropleth"
           }
          ],
          "contour": [
           {
            "colorbar": {
             "outlinewidth": 0,
             "ticks": ""
            },
            "colorscale": [
             [
              0,
              "#0d0887"
             ],
             [
              0.1111111111111111,
              "#46039f"
             ],
             [
              0.2222222222222222,
              "#7201a8"
             ],
             [
              0.3333333333333333,
              "#9c179e"
             ],
             [
              0.4444444444444444,
              "#bd3786"
             ],
             [
              0.5555555555555556,
              "#d8576b"
             ],
             [
              0.6666666666666666,
              "#ed7953"
             ],
             [
              0.7777777777777778,
              "#fb9f3a"
             ],
             [
              0.8888888888888888,
              "#fdca26"
             ],
             [
              1,
              "#f0f921"
             ]
            ],
            "type": "contour"
           }
          ],
          "contourcarpet": [
           {
            "colorbar": {
             "outlinewidth": 0,
             "ticks": ""
            },
            "type": "contourcarpet"
           }
          ],
          "heatmap": [
           {
            "colorbar": {
             "outlinewidth": 0,
             "ticks": ""
            },
            "colorscale": [
             [
              0,
              "#0d0887"
             ],
             [
              0.1111111111111111,
              "#46039f"
             ],
             [
              0.2222222222222222,
              "#7201a8"
             ],
             [
              0.3333333333333333,
              "#9c179e"
             ],
             [
              0.4444444444444444,
              "#bd3786"
             ],
             [
              0.5555555555555556,
              "#d8576b"
             ],
             [
              0.6666666666666666,
              "#ed7953"
             ],
             [
              0.7777777777777778,
              "#fb9f3a"
             ],
             [
              0.8888888888888888,
              "#fdca26"
             ],
             [
              1,
              "#f0f921"
             ]
            ],
            "type": "heatmap"
           }
          ],
          "heatmapgl": [
           {
            "colorbar": {
             "outlinewidth": 0,
             "ticks": ""
            },
            "colorscale": [
             [
              0,
              "#0d0887"
             ],
             [
              0.1111111111111111,
              "#46039f"
             ],
             [
              0.2222222222222222,
              "#7201a8"
             ],
             [
              0.3333333333333333,
              "#9c179e"
             ],
             [
              0.4444444444444444,
              "#bd3786"
             ],
             [
              0.5555555555555556,
              "#d8576b"
             ],
             [
              0.6666666666666666,
              "#ed7953"
             ],
             [
              0.7777777777777778,
              "#fb9f3a"
             ],
             [
              0.8888888888888888,
              "#fdca26"
             ],
             [
              1,
              "#f0f921"
             ]
            ],
            "type": "heatmapgl"
           }
          ],
          "histogram": [
           {
            "marker": {
             "pattern": {
              "fillmode": "overlay",
              "size": 10,
              "solidity": 0.2
             }
            },
            "type": "histogram"
           }
          ],
          "histogram2d": [
           {
            "colorbar": {
             "outlinewidth": 0,
             "ticks": ""
            },
            "colorscale": [
             [
              0,
              "#0d0887"
             ],
             [
              0.1111111111111111,
              "#46039f"
             ],
             [
              0.2222222222222222,
              "#7201a8"
             ],
             [
              0.3333333333333333,
              "#9c179e"
             ],
             [
              0.4444444444444444,
              "#bd3786"
             ],
             [
              0.5555555555555556,
              "#d8576b"
             ],
             [
              0.6666666666666666,
              "#ed7953"
             ],
             [
              0.7777777777777778,
              "#fb9f3a"
             ],
             [
              0.8888888888888888,
              "#fdca26"
             ],
             [
              1,
              "#f0f921"
             ]
            ],
            "type": "histogram2d"
           }
          ],
          "histogram2dcontour": [
           {
            "colorbar": {
             "outlinewidth": 0,
             "ticks": ""
            },
            "colorscale": [
             [
              0,
              "#0d0887"
             ],
             [
              0.1111111111111111,
              "#46039f"
             ],
             [
              0.2222222222222222,
              "#7201a8"
             ],
             [
              0.3333333333333333,
              "#9c179e"
             ],
             [
              0.4444444444444444,
              "#bd3786"
             ],
             [
              0.5555555555555556,
              "#d8576b"
             ],
             [
              0.6666666666666666,
              "#ed7953"
             ],
             [
              0.7777777777777778,
              "#fb9f3a"
             ],
             [
              0.8888888888888888,
              "#fdca26"
             ],
             [
              1,
              "#f0f921"
             ]
            ],
            "type": "histogram2dcontour"
           }
          ],
          "mesh3d": [
           {
            "colorbar": {
             "outlinewidth": 0,
             "ticks": ""
            },
            "type": "mesh3d"
           }
          ],
          "parcoords": [
           {
            "line": {
             "colorbar": {
              "outlinewidth": 0,
              "ticks": ""
             }
            },
            "type": "parcoords"
           }
          ],
          "pie": [
           {
            "automargin": true,
            "type": "pie"
           }
          ],
          "scatter": [
           {
            "marker": {
             "colorbar": {
              "outlinewidth": 0,
              "ticks": ""
             }
            },
            "type": "scatter"
           }
          ],
          "scatter3d": [
           {
            "line": {
             "colorbar": {
              "outlinewidth": 0,
              "ticks": ""
             }
            },
            "marker": {
             "colorbar": {
              "outlinewidth": 0,
              "ticks": ""
             }
            },
            "type": "scatter3d"
           }
          ],
          "scattercarpet": [
           {
            "marker": {
             "colorbar": {
              "outlinewidth": 0,
              "ticks": ""
             }
            },
            "type": "scattercarpet"
           }
          ],
          "scattergeo": [
           {
            "marker": {
             "colorbar": {
              "outlinewidth": 0,
              "ticks": ""
             }
            },
            "type": "scattergeo"
           }
          ],
          "scattergl": [
           {
            "marker": {
             "colorbar": {
              "outlinewidth": 0,
              "ticks": ""
             }
            },
            "type": "scattergl"
           }
          ],
          "scattermapbox": [
           {
            "marker": {
             "colorbar": {
              "outlinewidth": 0,
              "ticks": ""
             }
            },
            "type": "scattermapbox"
           }
          ],
          "scatterpolar": [
           {
            "marker": {
             "colorbar": {
              "outlinewidth": 0,
              "ticks": ""
             }
            },
            "type": "scatterpolar"
           }
          ],
          "scatterpolargl": [
           {
            "marker": {
             "colorbar": {
              "outlinewidth": 0,
              "ticks": ""
             }
            },
            "type": "scatterpolargl"
           }
          ],
          "scatterternary": [
           {
            "marker": {
             "colorbar": {
              "outlinewidth": 0,
              "ticks": ""
             }
            },
            "type": "scatterternary"
           }
          ],
          "surface": [
           {
            "colorbar": {
             "outlinewidth": 0,
             "ticks": ""
            },
            "colorscale": [
             [
              0,
              "#0d0887"
             ],
             [
              0.1111111111111111,
              "#46039f"
             ],
             [
              0.2222222222222222,
              "#7201a8"
             ],
             [
              0.3333333333333333,
              "#9c179e"
             ],
             [
              0.4444444444444444,
              "#bd3786"
             ],
             [
              0.5555555555555556,
              "#d8576b"
             ],
             [
              0.6666666666666666,
              "#ed7953"
             ],
             [
              0.7777777777777778,
              "#fb9f3a"
             ],
             [
              0.8888888888888888,
              "#fdca26"
             ],
             [
              1,
              "#f0f921"
             ]
            ],
            "type": "surface"
           }
          ],
          "table": [
           {
            "cells": {
             "fill": {
              "color": "#EBF0F8"
             },
             "line": {
              "color": "white"
             }
            },
            "header": {
             "fill": {
              "color": "#C8D4E3"
             },
             "line": {
              "color": "white"
             }
            },
            "type": "table"
           }
          ]
         },
         "layout": {
          "annotationdefaults": {
           "arrowcolor": "#2a3f5f",
           "arrowhead": 0,
           "arrowwidth": 1
          },
          "autotypenumbers": "strict",
          "coloraxis": {
           "colorbar": {
            "outlinewidth": 0,
            "ticks": ""
           }
          },
          "colorscale": {
           "diverging": [
            [
             0,
             "#8e0152"
            ],
            [
             0.1,
             "#c51b7d"
            ],
            [
             0.2,
             "#de77ae"
            ],
            [
             0.3,
             "#f1b6da"
            ],
            [
             0.4,
             "#fde0ef"
            ],
            [
             0.5,
             "#f7f7f7"
            ],
            [
             0.6,
             "#e6f5d0"
            ],
            [
             0.7,
             "#b8e186"
            ],
            [
             0.8,
             "#7fbc41"
            ],
            [
             0.9,
             "#4d9221"
            ],
            [
             1,
             "#276419"
            ]
           ],
           "sequential": [
            [
             0,
             "#0d0887"
            ],
            [
             0.1111111111111111,
             "#46039f"
            ],
            [
             0.2222222222222222,
             "#7201a8"
            ],
            [
             0.3333333333333333,
             "#9c179e"
            ],
            [
             0.4444444444444444,
             "#bd3786"
            ],
            [
             0.5555555555555556,
             "#d8576b"
            ],
            [
             0.6666666666666666,
             "#ed7953"
            ],
            [
             0.7777777777777778,
             "#fb9f3a"
            ],
            [
             0.8888888888888888,
             "#fdca26"
            ],
            [
             1,
             "#f0f921"
            ]
           ],
           "sequentialminus": [
            [
             0,
             "#0d0887"
            ],
            [
             0.1111111111111111,
             "#46039f"
            ],
            [
             0.2222222222222222,
             "#7201a8"
            ],
            [
             0.3333333333333333,
             "#9c179e"
            ],
            [
             0.4444444444444444,
             "#bd3786"
            ],
            [
             0.5555555555555556,
             "#d8576b"
            ],
            [
             0.6666666666666666,
             "#ed7953"
            ],
            [
             0.7777777777777778,
             "#fb9f3a"
            ],
            [
             0.8888888888888888,
             "#fdca26"
            ],
            [
             1,
             "#f0f921"
            ]
           ]
          },
          "colorway": [
           "#636efa",
           "#EF553B",
           "#00cc96",
           "#ab63fa",
           "#FFA15A",
           "#19d3f3",
           "#FF6692",
           "#B6E880",
           "#FF97FF",
           "#FECB52"
          ],
          "font": {
           "color": "#2a3f5f"
          },
          "geo": {
           "bgcolor": "white",
           "lakecolor": "white",
           "landcolor": "white",
           "showlakes": true,
           "showland": true,
           "subunitcolor": "#C8D4E3"
          },
          "hoverlabel": {
           "align": "left"
          },
          "hovermode": "closest",
          "mapbox": {
           "style": "light"
          },
          "paper_bgcolor": "white",
          "plot_bgcolor": "white",
          "polar": {
           "angularaxis": {
            "gridcolor": "#EBF0F8",
            "linecolor": "#EBF0F8",
            "ticks": ""
           },
           "bgcolor": "white",
           "radialaxis": {
            "gridcolor": "#EBF0F8",
            "linecolor": "#EBF0F8",
            "ticks": ""
           }
          },
          "scene": {
           "xaxis": {
            "backgroundcolor": "white",
            "gridcolor": "#DFE8F3",
            "gridwidth": 2,
            "linecolor": "#EBF0F8",
            "showbackground": true,
            "ticks": "",
            "zerolinecolor": "#EBF0F8"
           },
           "yaxis": {
            "backgroundcolor": "white",
            "gridcolor": "#DFE8F3",
            "gridwidth": 2,
            "linecolor": "#EBF0F8",
            "showbackground": true,
            "ticks": "",
            "zerolinecolor": "#EBF0F8"
           },
           "zaxis": {
            "backgroundcolor": "white",
            "gridcolor": "#DFE8F3",
            "gridwidth": 2,
            "linecolor": "#EBF0F8",
            "showbackground": true,
            "ticks": "",
            "zerolinecolor": "#EBF0F8"
           }
          },
          "shapedefaults": {
           "line": {
            "color": "#2a3f5f"
           }
          },
          "ternary": {
           "aaxis": {
            "gridcolor": "#DFE8F3",
            "linecolor": "#A2B1C6",
            "ticks": ""
           },
           "baxis": {
            "gridcolor": "#DFE8F3",
            "linecolor": "#A2B1C6",
            "ticks": ""
           },
           "bgcolor": "white",
           "caxis": {
            "gridcolor": "#DFE8F3",
            "linecolor": "#A2B1C6",
            "ticks": ""
           }
          },
          "title": {
           "x": 0.05
          },
          "xaxis": {
           "automargin": true,
           "gridcolor": "#EBF0F8",
           "linecolor": "#EBF0F8",
           "ticks": "",
           "title": {
            "standoff": 15
           },
           "zerolinecolor": "#EBF0F8",
           "zerolinewidth": 2
          },
          "yaxis": {
           "automargin": true,
           "gridcolor": "#EBF0F8",
           "linecolor": "#EBF0F8",
           "ticks": "",
           "title": {
            "standoff": 15
           },
           "zerolinecolor": "#EBF0F8",
           "zerolinewidth": 2
          }
         }
        },
        "xaxis": {
         "anchor": "y",
         "autorange": true,
         "domain": [
          0,
          1
         ],
         "range": [
          -0.5041551246537396,
          0.5041551246537396
         ],
         "type": "category"
        },
        "yaxis": {
         "anchor": "x",
         "autorange": true,
         "domain": [
          0,
          1
         ],
         "range": [
          -5.555555555555556,
          105.55555555555556
         ],
         "title": {
          "text": "Autoeficacia en Conocimiento Pedagógico"
         },
         "type": "linear"
        }
       }
      },
      "image/png": "[encoded data removed]",
      "text/html": [
       "<div>                            <div id=\"e60e6763-5057-4f6e-8155-18936b98221a\" class=\"plotly-graph-div\" style=\"height:525px; width:100%;\"></div>            <script type=\"text/javascript\">                require([\"plotly\"], function(Plotly) {                    window.PLOTLYENV=window.PLOTLYENV || {};                                    if (document.getElementById(\"e60e6763-5057-4f6e-8155-18936b98221a\")) {                    Plotly.newPlot(                        \"e60e6763-5057-4f6e-8155-18936b98221a\",                        [{\"alignmentgroup\":\"True\",\"hovertemplate\":\"Vigencia CFK=CFK Vigencia 2021<br>Autoeficacia en Conocimiento Pedag\\u00f3gico=%{y}<extra></extra>\",\"legendgroup\":\"CFK Vigencia 2021\",\"marker\":{\"color\":\"rgb(102,194,165)\"},\"name\":\"CFK Vigencia 2021\",\"notched\":false,\"offsetgroup\":\"CFK Vigencia 2021\",\"orientation\":\"v\",\"showlegend\":true,\"x0\":\" \",\"xaxis\":\"x\",\"y\":[79.99208683,97.32396905,75.0,75.0,75.0,87.58691531,100.0,100.0,67.45515011,84.48947798,70.13531613,100.0,100.0,77.15729074,100.0,100.0,75.12326789,100.0,90.08516222,94.86060074,95.28780359,82.14843696,100.0,54.93010008,94.79735863,75.0,100.0,100.0,2.369012772,100.0,77.36901277,75.0,74.90705355,100.0,50.0,100.0,64.77712671,100.0,100.0,57.57405872,100.0,72.53663169,100.0,100.0,50.0,100.0,100.0,75.0,100.0,100.0,100.0,100.0,72.50672384,79.99208683,69.95281366,75.0,65.42551466,70.07373186,97.32396905,75.0,75.0,79.83238108,75.0,75.0,75.0,72.50672384,92.58380089,100.0,87.19330868,84.64352393,84.64352393,75.0,67.27678271,79.61924996,84.64352393,84.64352393,69.95281366,69.95281366,67.67038934,37.31832744,37.31832744,29.61924996,100.0,62.31575085,72.32396905,72.32396905,100.0,100.0,79.87022802,100.0,82.57405872,87.16199174,79.83238108,62.10548315,79.83238108,72.74976281,100.0,65.3335637,65.3335637,77.36901277,0.0,100.0,57.48822564,0.0,100.0,75.0,30.54228065,94.83010953,100.0,72.31860654,89.60172765,29.73802554,74.87673211,100.0,100.0,75.0,100.0,100.0,100.0,69.64188322,100.0,25.0,25.0,79.61924996,67.24318649,78.04379138,29.81371943,72.65681636,100.0,74.48778979,62.61968581,69.95281366,69.95281366,82.08120918,75.0,100.0,100.0,62.71474036,72.32396905,72.32396905,100.0,90.08399472,75.0,75.0,52.36901277,25.0,75.0,100.0,100.0,100.0,25.0,92.61118928,62.07329601,79.61924996,89.96187395,75.0,100.0,67.46097146,47.80779538,75.0,75.0,82.6377348,79.87022802,84.88109139,58.00043585,100.0,64.56798126,100.0,62.07329601,75.0,84.428582,100.0,70.0471692,75.0,77.61741425,77.25023719,100.0,54.95423989,97.74976281,72.83518376,100.0,100.0,37.98918105,100.0,95.13118106,100.0,100.0,87.95561635,12.62534561,65.3335637,65.3335637,57.82656076,100.0,92.29969508,75.0,0.0,95.28780359,84.98091844,72.53804078,37.23630879,100.0,72.32338569,100.0,60.1563175,75.0,77.49327616,67.36732458,77.58522712,49.11814515,54.71219641,100.0,75.0,100.0,100.0,75.0,100.0,29.61924996,95.28780359,70.28780359,42.58397289,67.91879082,100.0,59.79863878,27.25023719,100.0,77.36901277,100.0,75.0,69.95495628,100.0,50.0],\"y0\":\" \",\"yaxis\":\"y\",\"type\":\"box\"},{\"alignmentgroup\":\"True\",\"hovertemplate\":\"Vigencia CFK=CFK Vigencia 2022<br>Autoeficacia en Conocimiento Pedag\\u00f3gico=%{y}<extra></extra>\",\"legendgroup\":\"CFK Vigencia 2022\",\"marker\":{\"color\":\"rgb(252,141,98)\"},\"name\":\"CFK Vigencia 2022\",\"notched\":false,\"offsetgroup\":\"CFK Vigencia 2022\",\"orientation\":\"v\",\"showlegend\":true,\"x0\":\" \",\"xaxis\":\"x\",\"y\":[100.0,100.0,73.9758732992154,100.0,100.0,75.0,100.0,100.0,100.0,100.0,75.0,84.6738459242646,70.7329428310718,100.0,91.35028077652,80.1835188300104,82.9317713242873,75.0,75.0,84.5661808845623,63.8332380534905,100.0,75.0,42.2994384469601,75.0,89.3447351593978,100.0,77.5170427230295,86.1667619465095,100.0,66.4658856621437,75.0,83.64971922348,95.6173379454481,64.6329623399791,100.0,95.6173379454481,100.0,75.0,100.0,75.0,75.0,100.0,100.0,0.0,75.0,4.26705716892817,95.7329428310718,95.6173379454481,100.0,75.0,91.4658856621437,100.0,75.0,95.7329428310718,100.0,56.8997047775813,91.35028077652,100.0,75.0,70.7329428310718,90.5494240010614,89.0565079788165,70.6173379454481,100.0,100.0,75.0,0.0,100.0,0.0,58.7653241091037,68.2159001080423,95.7329428310718,88.8332380534905,100.0,75.0,100.0,75.0,100.0,100.0,61.1667619465095,100.0,100.0,80.6950159359178,79.3826620545519,100.0,61.1667619465095,100.0,86.1667619465095,100.0,75.0,94.8164811699895,85.7708697262259,75.0,84.7388031795199,0.0,69.8164811699895,0.0,100.0,100.0,100.0,100.0,80.4717460105917,100.0,100.0,95.7329428310718,75.0,100.0,95.6173379454481,100.0,94.8164811699895,100.0,81.8997047775813,80.1835188300104,84.4505759989386,100.0,100.0,75.0,100.0,59.7388031795199,59.7388031795199,75.0,69.5282539894082,100.0,100.0,69.5282539894082,75.0,85.8785347659282,100.0,100.0,100.0,75.0,95.6173379454481,100.0,75.0,100.0,60.6552648406022,75.0,100.0,75.0,75.0,34.7894508098883,100.0,80.4717460105917,56.7270824826238,70.7329428310718,70.7329428310718,39.2370701196955,75.0,100.0,86.1667619465095,70.7329428310718,50.223269925326,100.0,89.0565079788165,100.0,68.5041272886236,75.0,0.0,65.1455919348564,100.0,100.0,95.7329428310718,75.0,94.8164811699895,91.35028077652,58.64971922348],\"y0\":\" \",\"yaxis\":\"y\",\"type\":\"box\"}],                        {\"template\":{\"data\":{\"barpolar\":[{\"marker\":{\"line\":{\"color\":\"white\",\"width\":0.5},\"pattern\":{\"fillmode\":\"overlay\",\"size\":10,\"solidity\":0.2}},\"type\":\"barpolar\"}],\"bar\":[{\"error_x\":{\"color\":\"#2a3f5f\"},\"error_y\":{\"color\":\"#2a3f5f\"},\"marker\":{\"line\":{\"color\":\"white\",\"width\":0.5},\"pattern\":{\"fillmode\":\"overlay\",\"size\":10,\"solidity\":0.2}},\"type\":\"bar\"}],\"carpet\":[{\"aaxis\":{\"endlinecolor\":\"#2a3f5f\",\"gridcolor\":\"#C8D4E3\",\"linecolor\":\"#C8D4E3\",\"minorgridcolor\":\"#C8D4E3\",\"startlinecolor\":\"#2a3f5f\"},\"baxis\":{\"endlinecolor\":\"#2a3f5f\",\"gridcolor\":\"#C8D4E3\",\"linecolor\":\"#C8D4E3\",\"minorgridcolor\":\"#C8D4E3\",\"startlinecolor\":\"#2a3f5f\"},\"type\":\"carpet\"}],\"choropleth\":[{\"colorbar\":{\"outlinewidth\":0,\"ticks\":\"\"},\"type\":\"choropleth\"}],\"contourcarpet\":[{\"colorbar\":{\"outlinewidth\":0,\"ticks\":\"\"},\"type\":\"contourcarpet\"}],\"contour\":[{\"colorbar\":{\"outlinewidth\":0,\"ticks\":\"\"},\"colorscale\":[[0.0,\"#0d0887\"],[0.1111111111111111,\"#46039f\"],[0.2222222222222222,\"#7201a8\"],[0.3333333333333333,\"#9c179e\"],[0.4444444444444444,\"#bd3786\"],[0.5555555555555556,\"#d8576b\"],[0.6666666666666666,\"#ed7953\"],[0.7777777777777778,\"#fb9f3a\"],[0.8888888888888888,\"#fdca26\"],[1.0,\"#f0f921\"]],\"type\":\"contour\"}],\"heatmapgl\":[{\"colorbar\":{\"outlinewidth\":0,\"ticks\":\"\"},\"colorscale\":[[0.0,\"#0d0887\"],[0.1111111111111111,\"#46039f\"],[0.2222222222222222,\"#7201a8\"],[0.3333333333333333,\"#9c179e\"],[0.4444444444444444,\"#bd3786\"],[0.5555555555555556,\"#d8576b\"],[0.6666666666666666,\"#ed7953\"],[0.7777777777777778,\"#fb9f3a\"],[0.8888888888888888,\"#fdca26\"],[1.0,\"#f0f921\"]],\"type\":\"heatmapgl\"}],\"heatmap\":[{\"colorbar\":{\"outlinewidth\":0,\"ticks\":\"\"},\"colorscale\":[[0.0,\"#0d0887\"],[0.1111111111111111,\"#46039f\"],[0.2222222222222222,\"#7201a8\"],[0.3333333333333333,\"#9c179e\"],[0.4444444444444444,\"#bd3786\"],[0.5555555555555556,\"#d8576b\"],[0.6666666666666666,\"#ed7953\"],[0.7777777777777778,\"#fb9f3a\"],[0.8888888888888888,\"#fdca26\"],[1.0,\"#f0f921\"]],\"type\":\"heatmap\"}],\"histogram2dcontour\":[{\"colorbar\":{\"outlinewidth\":0,\"ticks\":\"\"},\"colorscale\":[[0.0,\"#0d0887\"],[0.1111111111111111,\"#46039f\"],[0.2222222222222222,\"#7201a8\"],[0.3333333333333333,\"#9c179e\"],[0.4444444444444444,\"#bd3786\"],[0.5555555555555556,\"#d8576b\"],[0.6666666666666666,\"#ed7953\"],[0.7777777777777778,\"#fb9f3a\"],[0.8888888888888888,\"#fdca26\"],[1.0,\"#f0f921\"]],\"type\":\"histogram2dcontour\"}],\"histogram2d\":[{\"colorbar\":{\"outlinewidth\":0,\"ticks\":\"\"},\"colorscale\":[[0.0,\"#0d0887\"],[0.1111111111111111,\"#46039f\"],[0.2222222222222222,\"#7201a8\"],[0.3333333333333333,\"#9c179e\"],[0.4444444444444444,\"#bd3786\"],[0.5555555555555556,\"#d8576b\"],[0.6666666666666666,\"#ed7953\"],[0.7777777777777778,\"#fb9f3a\"],[0.8888888888888888,\"#fdca26\"],[1.0,\"#f0f921\"]],\"type\":\"histogram2d\"}],\"histogram\":[{\"marker\":{\"pattern\":{\"fillmode\":\"overlay\",\"size\":10,\"solidity\":0.2}},\"type\":\"histogram\"}],\"mesh3d\":[{\"colorbar\":{\"outlinewidth\":0,\"ticks\":\"\"},\"type\":\"mesh3d\"}],\"parcoords\":[{\"line\":{\"colorbar\":{\"outlinewidth\":0,\"ticks\":\"\"}},\"type\":\"parcoords\"}],\"pie\":[{\"automargin\":true,\"type\":\"pie\"}],\"scatter3d\":[{\"line\":{\"colorbar\":{\"outlinewidth\":0,\"ticks\":\"\"}},\"marker\":{\"colorbar\":{\"outlinewidth\":0,\"ticks\":\"\"}},\"type\":\"scatter3d\"}],\"scattercarpet\":[{\"marker\":{\"colorbar\":{\"outlinewidth\":0,\"ticks\":\"\"}},\"type\":\"scattercarpet\"}],\"scattergeo\":[{\"marker\":{\"colorbar\":{\"outlinewidth\":0,\"ticks\":\"\"}},\"type\":\"scattergeo\"}],\"scattergl\":[{\"marker\":{\"colorbar\":{\"outlinewidth\":0,\"ticks\":\"\"}},\"type\":\"scattergl\"}],\"scattermapbox\":[{\"marker\":{\"colorbar\":{\"outlinewidth\":0,\"ticks\":\"\"}},\"type\":\"scattermapbox\"}],\"scatterpolargl\":[{\"marker\":{\"colorbar\":{\"outlinewidth\":0,\"ticks\":\"\"}},\"type\":\"scatterpolargl\"}],\"scatterpolar\":[{\"marker\":{\"colorbar\":{\"outlinewidth\":0,\"ticks\":\"\"}},\"type\":\"scatterpolar\"}],\"scatter\":[{\"marker\":{\"colorbar\":{\"outlinewidth\":0,\"ticks\":\"\"}},\"type\":\"scatter\"}],\"scatterternary\":[{\"marker\":{\"colorbar\":{\"outlinewidth\":0,\"ticks\":\"\"}},\"type\":\"scatterternary\"}],\"surface\":[{\"colorbar\":{\"outlinewidth\":0,\"ticks\":\"\"},\"colorscale\":[[0.0,\"#0d0887\"],[0.1111111111111111,\"#46039f\"],[0.2222222222222222,\"#7201a8\"],[0.3333333333333333,\"#9c179e\"],[0.4444444444444444,\"#bd3786\"],[0.5555555555555556,\"#d8576b\"],[0.6666666666666666,\"#ed7953\"],[0.7777777777777778,\"#fb9f3a\"],[0.8888888888888888,\"#fdca26\"],[1.0,\"#f0f921\"]],\"type\":\"surface\"}],\"table\":[{\"cells\":{\"fill\":{\"color\":\"#EBF0F8\"},\"line\":{\"color\":\"white\"}},\"header\":{\"fill\":{\"color\":\"#C8D4E3\"},\"line\":{\"color\":\"white\"}},\"type\":\"table\"}]},\"layout\":{\"annotationdefaults\":{\"arrowcolor\":\"#2a3f5f\",\"arrowhead\":0,\"arrowwidth\":1},\"autotypenumbers\":\"strict\",\"coloraxis\":{\"colorbar\":{\"outlinewidth\":0,\"ticks\":\"\"}},\"colorscale\":{\"diverging\":[[0,\"#8e0152\"],[0.1,\"#c51b7d\"],[0.2,\"#de77ae\"],[0.3,\"#f1b6da\"],[0.4,\"#fde0ef\"],[0.5,\"#f7f7f7\"],[0.6,\"#e6f5d0\"],[0.7,\"#b8e186\"],[0.8,\"#7fbc41\"],[0.9,\"#4d9221\"],[1,\"#276419\"]],\"sequential\":[[0.0,\"#0d0887\"],[0.1111111111111111,\"#46039f\"],[0.2222222222222222,\"#7201a8\"],[0.3333333333333333,\"#9c179e\"],[0.4444444444444444,\"#bd3786\"],[0.5555555555555556,\"#d8576b\"],[0.6666666666666666,\"#ed7953\"],[0.7777777777777778,\"#fb9f3a\"],[0.8888888888888888,\"#fdca26\"],[1.0,\"#f0f921\"]],\"sequentialminus\":[[0.0,\"#0d0887\"],[0.1111111111111111,\"#46039f\"],[0.2222222222222222,\"#7201a8\"],[0.3333333333333333,\"#9c179e\"],[0.4444444444444444,\"#bd3786\"],[0.5555555555555556,\"#d8576b\"],[0.6666666666666666,\"#ed7953\"],[0.7777777777777778,\"#fb9f3a\"],[0.8888888888888888,\"#fdca26\"],[1.0,\"#f0f921\"]]},\"colorway\":[\"#636efa\",\"#EF553B\",\"#00cc96\",\"#ab63fa\",\"#FFA15A\",\"#19d3f3\",\"#FF6692\",\"#B6E880\",\"#FF97FF\",\"#FECB52\"],\"font\":{\"color\":\"#2a3f5f\"},\"geo\":{\"bgcolor\":\"white\",\"lakecolor\":\"white\",\"landcolor\":\"white\",\"showlakes\":true,\"showland\":true,\"subunitcolor\":\"#C8D4E3\"},\"hoverlabel\":{\"align\":\"left\"},\"hovermode\":\"closest\",\"mapbox\":{\"style\":\"light\"},\"paper_bgcolor\":\"white\",\"plot_bgcolor\":\"white\",\"polar\":{\"angularaxis\":{\"gridcolor\":\"#EBF0F8\",\"linecolor\":\"#EBF0F8\",\"ticks\":\"\"},\"bgcolor\":\"white\",\"radialaxis\":{\"gridcolor\":\"#EBF0F8\",\"linecolor\":\"#EBF0F8\",\"ticks\":\"\"}},\"scene\":{\"xaxis\":{\"backgroundcolor\":\"white\",\"gridcolor\":\"#DFE8F3\",\"gridwidth\":2,\"linecolor\":\"#EBF0F8\",\"showbackground\":true,\"ticks\":\"\",\"zerolinecolor\":\"#EBF0F8\"},\"yaxis\":{\"backgroundcolor\":\"white\",\"gridcolor\":\"#DFE8F3\",\"gridwidth\":2,\"linecolor\":\"#EBF0F8\",\"showbackground\":true,\"ticks\":\"\",\"zerolinecolor\":\"#EBF0F8\"},\"zaxis\":{\"backgroundcolor\":\"white\",\"gridcolor\":\"#DFE8F3\",\"gridwidth\":2,\"linecolor\":\"#EBF0F8\",\"showbackground\":true,\"ticks\":\"\",\"zerolinecolor\":\"#EBF0F8\"}},\"shapedefaults\":{\"line\":{\"color\":\"#2a3f5f\"}},\"ternary\":{\"aaxis\":{\"gridcolor\":\"#DFE8F3\",\"linecolor\":\"#A2B1C6\",\"ticks\":\"\"},\"baxis\":{\"gridcolor\":\"#DFE8F3\",\"linecolor\":\"#A2B1C6\",\"ticks\":\"\"},\"bgcolor\":\"white\",\"caxis\":{\"gridcolor\":\"#DFE8F3\",\"linecolor\":\"#A2B1C6\",\"ticks\":\"\"}},\"title\":{\"x\":0.05},\"xaxis\":{\"automargin\":true,\"gridcolor\":\"#EBF0F8\",\"linecolor\":\"#EBF0F8\",\"ticks\":\"\",\"title\":{\"standoff\":15},\"zerolinecolor\":\"#EBF0F8\",\"zerolinewidth\":2},\"yaxis\":{\"automargin\":true,\"gridcolor\":\"#EBF0F8\",\"linecolor\":\"#EBF0F8\",\"ticks\":\"\",\"title\":{\"standoff\":15},\"zerolinecolor\":\"#EBF0F8\",\"zerolinewidth\":2}}},\"xaxis\":{\"anchor\":\"y\",\"domain\":[0.0,1.0]},\"yaxis\":{\"anchor\":\"x\",\"domain\":[0.0,1.0],\"title\":{\"text\":\"Autoeficacia en Conocimiento Pedag\\u00f3gico\"}},\"legend\":{\"title\":{\"text\":\"Vigencia CFK\"},\"tracegroupgap\":0},\"margin\":{\"t\":60},\"boxmode\":\"group\"},                        {\"responsive\": true}                    ).then(function(){\n",
       "                            \n",
       "var gd = document.getElementById('e60e6763-5057-4f6e-8155-18936b98221a');\n",
       "var x = new MutationObserver(function (mutations, observer) {{\n",
       "        var display = window.getComputedStyle(gd).display;\n",
       "        if (!display || display === 'none') {{\n",
       "            console.log([gd, 'removed!']);\n",
       "            Plotly.purge(gd);\n",
       "            observer.disconnect();\n",
       "        }}\n",
       "}});\n",
       "\n",
       "// Listen for the removal of the full notebook cells\n",
       "var notebookContainer = gd.closest('#notebook-container');\n",
       "if (notebookContainer) {{\n",
       "    x.observe(notebookContainer, {childList: true});\n",
       "}}\n",
       "\n",
       "// Listen for the clearing of the current output cell\n",
       "var outputEl = gd.closest('.output');\n",
       "if (outputEl) {{\n",
       "    x.observe(outputEl, {childList: true});\n",
       "}}\n",
       "\n",
       "                        })                };                });            </script>        </div>"
      ]
     },
     "metadata": {},
     "output_type": "display_data"
    }
   ],
   "source": [
    "fig3 = px.box(autoefic, y='Autoeficacia en Conocimiento Pedagógico', color='Vigencia CFK', template=\"plotly_white\",color_discrete_sequence=px.colors.qualitative.Set2)\n",
    "fig3"
   ]
  },
  {
   "cell_type": "code",
   "execution_count": 4,
   "id": "401764e3-7cfe-47f8-9b6a-4096b5739e46",
   "metadata": {},
   "outputs": [],
   "source": [
    "config_chart = {\n",
    "        'scrollZoom': True,\n",
    "        'displaylogo': True,\n",
    "        'responsive': True,\n",
    "        'editable': True,\n",
    "        'toImageButtonOptions': {\n",
    "            'format': 'png',  # one of png, svg, jpeg, webp\n",
    "            'filename': 'grafica_CAP',\n",
    "            'height': None,\n",
    "            'width': None,\n",
    "            'scale': True  # Multiply title/legend/axis/canvas sizes by this factor\n",
    "        }}"
   ]
  },
  {
   "cell_type": "code",
   "execution_count": 17,
   "id": "b4817b9b-6a6e-4346-a162-97f48b4826cf",
   "metadata": {},
   "outputs": [
    {
     "data": {
      "text/html": [
       "<div>\n",
       "<style scoped>\n",
       "    .dataframe tbody tr th:only-of-type {\n",
       "        vertical-align: middle;\n",
       "    }\n",
       "\n",
       "    .dataframe tbody tr th {\n",
       "        vertical-align: top;\n",
       "    }\n",
       "\n",
       "    .dataframe thead th {\n",
       "        text-align: right;\n",
       "    }\n",
       "</style>\n",
       "<table border=\"1\" class=\"dataframe\">\n",
       "  <thead>\n",
       "    <tr style=\"text-align: right;\">\n",
       "      <th></th>\n",
       "      <th>Vigencia CAP</th>\n",
       "      <th>Percepción de CAP</th>\n",
       "      <th>Cant</th>\n",
       "      <th>Proporción</th>\n",
       "    </tr>\n",
       "  </thead>\n",
       "  <tbody>\n",
       "    <tr>\n",
       "      <th>0</th>\n",
       "      <td>Vigencia 2022</td>\n",
       "      <td>Encontrar apoyo para resolver problemas sobre ...</td>\n",
       "      <td>117.0</td>\n",
       "      <td>0.745223</td>\n",
       "    </tr>\n",
       "    <tr>\n",
       "      <th>1</th>\n",
       "      <td>Vigencia 2022</td>\n",
       "      <td>Hablar con otros docentes sobre el diseño de c...</td>\n",
       "      <td>85.0</td>\n",
       "      <td>0.541401</td>\n",
       "    </tr>\n",
       "    <tr>\n",
       "      <th>2</th>\n",
       "      <td>Vigencia 2022</td>\n",
       "      <td>Encontrar apoyo para el diseño de mis cursos</td>\n",
       "      <td>91.0</td>\n",
       "      <td>0.579618</td>\n",
       "    </tr>\n",
       "    <tr>\n",
       "      <th>3</th>\n",
       "      <td>Vigencia 2022</td>\n",
       "      <td>Aprender sobre nuevos temas en comunidad</td>\n",
       "      <td>119.0</td>\n",
       "      <td>0.757962</td>\n",
       "    </tr>\n",
       "    <tr>\n",
       "      <th>4</th>\n",
       "      <td>Vigencia 2022</td>\n",
       "      <td>Mejorar mis prácticas pedagógicas por la comun...</td>\n",
       "      <td>121.0</td>\n",
       "      <td>0.770701</td>\n",
       "    </tr>\n",
       "    <tr>\n",
       "      <th>5</th>\n",
       "      <td>Vigencia 2022</td>\n",
       "      <td>Recibir retroalimentación de mis prácticas ped...</td>\n",
       "      <td>105.0</td>\n",
       "      <td>0.668790</td>\n",
       "    </tr>\n",
       "    <tr>\n",
       "      <th>6</th>\n",
       "      <td>Vigencia 2022</td>\n",
       "      <td>Formar e integrar redes de trabajo, estudio o ...</td>\n",
       "      <td>103.0</td>\n",
       "      <td>0.656051</td>\n",
       "    </tr>\n",
       "    <tr>\n",
       "      <th>7</th>\n",
       "      <td>Vigencia 2022</td>\n",
       "      <td>Aprender a ser líder en comunidades de aprendi...</td>\n",
       "      <td>79.0</td>\n",
       "      <td>0.503185</td>\n",
       "    </tr>\n",
       "    <tr>\n",
       "      <th>8</th>\n",
       "      <td>Vigencia 2022</td>\n",
       "      <td>Encontrar motivación para seguir aprendiendo</td>\n",
       "      <td>112.0</td>\n",
       "      <td>0.713376</td>\n",
       "    </tr>\n",
       "    <tr>\n",
       "      <th>9</th>\n",
       "      <td>Vigencia 2022</td>\n",
       "      <td>Aprender a evaluar mis vacíos y fortalezas con...</td>\n",
       "      <td>92.0</td>\n",
       "      <td>0.585987</td>\n",
       "    </tr>\n",
       "    <tr>\n",
       "      <th>10</th>\n",
       "      <td>Vigencia 2022</td>\n",
       "      <td>Evidenciar capacidades intelectuales similares...</td>\n",
       "      <td>81.0</td>\n",
       "      <td>0.515924</td>\n",
       "    </tr>\n",
       "    <tr>\n",
       "      <th>11</th>\n",
       "      <td>Vigencia 2022</td>\n",
       "      <td>Evidenciar habilidades y destrezas de las muje...</td>\n",
       "      <td>104.0</td>\n",
       "      <td>0.662420</td>\n",
       "    </tr>\n",
       "    <tr>\n",
       "      <th>12</th>\n",
       "      <td>Vigencia 2022</td>\n",
       "      <td>Conocer plataformas de comunicación y establec...</td>\n",
       "      <td>102.0</td>\n",
       "      <td>0.649682</td>\n",
       "    </tr>\n",
       "    <tr>\n",
       "      <th>13</th>\n",
       "      <td>Vigencia 2022</td>\n",
       "      <td>Las CAP no aportan significativamente a mi lab...</td>\n",
       "      <td>28.0</td>\n",
       "      <td>0.178344</td>\n",
       "    </tr>\n",
       "    <tr>\n",
       "      <th>14</th>\n",
       "      <td>Vigencia 2021</td>\n",
       "      <td>Encontrar apoyo para resolver problemas sobre ...</td>\n",
       "      <td>128.0</td>\n",
       "      <td>0.615385</td>\n",
       "    </tr>\n",
       "    <tr>\n",
       "      <th>15</th>\n",
       "      <td>Vigencia 2021</td>\n",
       "      <td>Hablar con otros docentes sobre el diseño de c...</td>\n",
       "      <td>122.0</td>\n",
       "      <td>0.586538</td>\n",
       "    </tr>\n",
       "    <tr>\n",
       "      <th>16</th>\n",
       "      <td>Vigencia 2021</td>\n",
       "      <td>Encontrar apoyo para el diseño de mis cursos</td>\n",
       "      <td>103.0</td>\n",
       "      <td>0.495192</td>\n",
       "    </tr>\n",
       "    <tr>\n",
       "      <th>17</th>\n",
       "      <td>Vigencia 2021</td>\n",
       "      <td>Aprender sobre nuevos temas en comunidad</td>\n",
       "      <td>139.0</td>\n",
       "      <td>0.668269</td>\n",
       "    </tr>\n",
       "    <tr>\n",
       "      <th>18</th>\n",
       "      <td>Vigencia 2021</td>\n",
       "      <td>Mejorar mis prácticas pedagógicas por la comun...</td>\n",
       "      <td>129.0</td>\n",
       "      <td>0.620192</td>\n",
       "    </tr>\n",
       "    <tr>\n",
       "      <th>19</th>\n",
       "      <td>Vigencia 2021</td>\n",
       "      <td>Recibir retroalimentación de mis prácticas ped...</td>\n",
       "      <td>122.0</td>\n",
       "      <td>0.586538</td>\n",
       "    </tr>\n",
       "    <tr>\n",
       "      <th>20</th>\n",
       "      <td>Vigencia 2021</td>\n",
       "      <td>Formar e integrar redes de trabajo, estudio o ...</td>\n",
       "      <td>136.0</td>\n",
       "      <td>0.653846</td>\n",
       "    </tr>\n",
       "    <tr>\n",
       "      <th>21</th>\n",
       "      <td>Vigencia 2021</td>\n",
       "      <td>Aprender a ser líder en comunidades de aprendi...</td>\n",
       "      <td>91.0</td>\n",
       "      <td>0.437500</td>\n",
       "    </tr>\n",
       "    <tr>\n",
       "      <th>22</th>\n",
       "      <td>Vigencia 2021</td>\n",
       "      <td>Encontrar motivación para seguir aprendiendo</td>\n",
       "      <td>116.0</td>\n",
       "      <td>0.557692</td>\n",
       "    </tr>\n",
       "    <tr>\n",
       "      <th>23</th>\n",
       "      <td>Vigencia 2021</td>\n",
       "      <td>Aprender a evaluar mis vacíos y fortalezas con...</td>\n",
       "      <td>109.0</td>\n",
       "      <td>0.524038</td>\n",
       "    </tr>\n",
       "    <tr>\n",
       "      <th>24</th>\n",
       "      <td>Vigencia 2021</td>\n",
       "      <td>Evidenciar capacidades intelectuales similares...</td>\n",
       "      <td>88.0</td>\n",
       "      <td>0.423077</td>\n",
       "    </tr>\n",
       "    <tr>\n",
       "      <th>25</th>\n",
       "      <td>Vigencia 2021</td>\n",
       "      <td>Evidenciar habilidades y destrezas de las muje...</td>\n",
       "      <td>111.0</td>\n",
       "      <td>0.533654</td>\n",
       "    </tr>\n",
       "    <tr>\n",
       "      <th>26</th>\n",
       "      <td>Vigencia 2021</td>\n",
       "      <td>Conocer plataformas de comunicación y establec...</td>\n",
       "      <td>130.0</td>\n",
       "      <td>0.625000</td>\n",
       "    </tr>\n",
       "    <tr>\n",
       "      <th>27</th>\n",
       "      <td>Vigencia 2021</td>\n",
       "      <td>Las CAP no aportan significativamente a mi lab...</td>\n",
       "      <td>30.0</td>\n",
       "      <td>0.144231</td>\n",
       "    </tr>\n",
       "  </tbody>\n",
       "</table>\n",
       "</div>"
      ],
      "text/plain": [
       "     Vigencia CAP                                  Percepción de CAP   Cant  \\\n",
       "0   Vigencia 2022  Encontrar apoyo para resolver problemas sobre ...  117.0   \n",
       "1   Vigencia 2022  Hablar con otros docentes sobre el diseño de c...   85.0   \n",
       "2   Vigencia 2022       Encontrar apoyo para el diseño de mis cursos   91.0   \n",
       "3   Vigencia 2022           Aprender sobre nuevos temas en comunidad  119.0   \n",
       "4   Vigencia 2022  Mejorar mis prácticas pedagógicas por la comun...  121.0   \n",
       "5   Vigencia 2022  Recibir retroalimentación de mis prácticas ped...  105.0   \n",
       "6   Vigencia 2022  Formar e integrar redes de trabajo, estudio o ...  103.0   \n",
       "7   Vigencia 2022  Aprender a ser líder en comunidades de aprendi...   79.0   \n",
       "8   Vigencia 2022       Encontrar motivación para seguir aprendiendo  112.0   \n",
       "9   Vigencia 2022  Aprender a evaluar mis vacíos y fortalezas con...   92.0   \n",
       "10  Vigencia 2022  Evidenciar capacidades intelectuales similares...   81.0   \n",
       "11  Vigencia 2022  Evidenciar habilidades y destrezas de las muje...  104.0   \n",
       "12  Vigencia 2022  Conocer plataformas de comunicación y establec...  102.0   \n",
       "13  Vigencia 2022  Las CAP no aportan significativamente a mi lab...   28.0   \n",
       "14  Vigencia 2021  Encontrar apoyo para resolver problemas sobre ...  128.0   \n",
       "15  Vigencia 2021  Hablar con otros docentes sobre el diseño de c...  122.0   \n",
       "16  Vigencia 2021       Encontrar apoyo para el diseño de mis cursos  103.0   \n",
       "17  Vigencia 2021           Aprender sobre nuevos temas en comunidad  139.0   \n",
       "18  Vigencia 2021  Mejorar mis prácticas pedagógicas por la comun...  129.0   \n",
       "19  Vigencia 2021  Recibir retroalimentación de mis prácticas ped...  122.0   \n",
       "20  Vigencia 2021  Formar e integrar redes de trabajo, estudio o ...  136.0   \n",
       "21  Vigencia 2021  Aprender a ser líder en comunidades de aprendi...   91.0   \n",
       "22  Vigencia 2021       Encontrar motivación para seguir aprendiendo  116.0   \n",
       "23  Vigencia 2021  Aprender a evaluar mis vacíos y fortalezas con...  109.0   \n",
       "24  Vigencia 2021  Evidenciar capacidades intelectuales similares...   88.0   \n",
       "25  Vigencia 2021  Evidenciar habilidades y destrezas de las muje...  111.0   \n",
       "26  Vigencia 2021  Conocer plataformas de comunicación y establec...  130.0   \n",
       "27  Vigencia 2021  Las CAP no aportan significativamente a mi lab...   30.0   \n",
       "\n",
       "    Proporción  \n",
       "0     0.745223  \n",
       "1     0.541401  \n",
       "2     0.579618  \n",
       "3     0.757962  \n",
       "4     0.770701  \n",
       "5     0.668790  \n",
       "6     0.656051  \n",
       "7     0.503185  \n",
       "8     0.713376  \n",
       "9     0.585987  \n",
       "10    0.515924  \n",
       "11    0.662420  \n",
       "12    0.649682  \n",
       "13    0.178344  \n",
       "14    0.615385  \n",
       "15    0.586538  \n",
       "16    0.495192  \n",
       "17    0.668269  \n",
       "18    0.620192  \n",
       "19    0.586538  \n",
       "20    0.653846  \n",
       "21    0.437500  \n",
       "22    0.557692  \n",
       "23    0.524038  \n",
       "24    0.423077  \n",
       "25    0.533654  \n",
       "26    0.625000  \n",
       "27    0.144231  "
      ]
     },
     "execution_count": 17,
     "metadata": {},
     "output_type": "execute_result"
    }
   ],
   "source": [
    "percep = pd.read_excel('CAP_percepcion_inicial.xlsx')\n",
    "percep"
   ]
  },
  {
   "cell_type": "code",
   "execution_count": 18,
   "id": "69732843-30c7-42f1-ac2f-935589759e8f",
   "metadata": {},
   "outputs": [
    {
     "data": {
      "application/vnd.plotly.v1+json": {
       "config": {
        "displaylogo": true,
        "editable": true,
        "plotlyServerURL": "https://plot.ly",
        "responsive": true,
        "scrollZoom": true,
        "toImageButtonOptions": {
         "filename": "grafica_CAP",
         "format": "png",
         "height": null,
         "scale": true,
         "width": null
        }
       },
       "data": [
        {
         "alignmentgroup": "True",
         "hovertemplate": "Vigencia CAP=Vigencia 2022<br>Proporción=%{x}<br>Percepción de CAP=%{y}<extra></extra>",
         "legendgroup": "Vigencia 2022",
         "marker": {
          "color": "rgb(102,194,165)",
          "pattern": {
           "shape": ""
          }
         },
         "name": "Vigencia 2022",
         "offsetgroup": "Vigencia 2022",
         "orientation": "h",
         "showlegend": true,
         "textposition": "auto",
         "type": "bar",
         "x": [
          0.7452229299363057,
          0.5414012738853503,
          0.5796178343949044,
          0.7579617834394905,
          0.7707006369426752,
          0.6687898089171974,
          0.6560509554140127,
          0.5031847133757962,
          0.7133757961783439,
          0.5859872611464968,
          0.5159235668789809,
          0.6624203821656051,
          0.6496815286624203,
          0.17834394904458598
         ],
         "xaxis": "x",
         "y": [
          "Encontrar apoyo para resolver problemas sobre un tema",
          "Hablar con otros docentes sobre el diseño de cursos",
          "Encontrar apoyo para el diseño de mis cursos",
          "Aprender sobre nuevos temas en comunidad",
          "Mejorar mis prácticas pedagógicas por la comunidad",
          "Recibir retroalimentación de mis prácticas pedagógicas",
          "Formar e integrar redes de trabajo, estudio o investigación",
          "Aprender a ser líder en comunidades de aprendizaje",
          "Encontrar motivación para seguir aprendiendo",
          "Aprender a evaluar mis vacíos y fortalezas conceptuales",
          "Evidenciar capacidades intelectuales similares en hombres y mujeres",
          "Evidenciar habilidades y destrezas de las mujeres en áreas STEM",
          "Conocer plataformas de comunicación y establecer redes de trabajo",
          "Las CAP no aportan significativamente a mi labor docente"
         ],
         "yaxis": "y"
        },
        {
         "alignmentgroup": "True",
         "hovertemplate": "Vigencia CAP=Vigencia 2021<br>Proporción=%{x}<br>Percepción de CAP=%{y}<extra></extra>",
         "legendgroup": "Vigencia 2021",
         "marker": {
          "color": "rgb(252,141,98)",
          "pattern": {
           "shape": ""
          }
         },
         "name": "Vigencia 2021",
         "offsetgroup": "Vigencia 2021",
         "orientation": "h",
         "showlegend": true,
         "textposition": "auto",
         "type": "bar",
         "x": [
          0.6153846153846154,
          0.5865384615384616,
          0.4951923076923077,
          0.6682692307692307,
          0.6201923076923077,
          0.5865384615384616,
          0.6538461538461539,
          0.4375,
          0.5576923076923077,
          0.5240384615384616,
          0.4230769230769231,
          0.5336538461538461,
          0.625,
          0.14423076923076922
         ],
         "xaxis": "x",
         "y": [
          "Encontrar apoyo para resolver problemas sobre un tema",
          "Hablar con otros docentes sobre el diseño de cursos",
          "Encontrar apoyo para el diseño de mis cursos",
          "Aprender sobre nuevos temas en comunidad",
          "Mejorar mis prácticas pedagógicas por la comunidad",
          "Recibir retroalimentación de mis prácticas pedagógicas",
          "Formar e integrar redes de trabajo, estudio o investigación",
          "Aprender a ser líder en comunidades de aprendizaje",
          "Encontrar motivación para seguir aprendiendo",
          "Aprender a evaluar mis vacíos y fortalezas conceptuales",
          "Evidenciar capacidades intelectuales similares en hombres y mujeres",
          "Evidenciar habilidades y destrezas de las mujeres en áreas STEM",
          "Conocer plataformas de comunicación y establecer redes de trabajo",
          "Las CAP no aportan significativamente a mi labor docente"
         ],
         "yaxis": "y"
        }
       ],
       "layout": {
        "autosize": true,
        "barmode": "group",
        "dragmode": "pan",
        "legend": {
         "title": {
          "text": "Vigencia CAP"
         },
         "tracegroupgap": 0,
         "x": 0.836546853549528,
         "y": 1.0272727272727273
        },
        "margin": {
         "t": 60
        },
        "template": {
         "data": {
          "bar": [
           {
            "error_x": {
             "color": "#2a3f5f"
            },
            "error_y": {
             "color": "#2a3f5f"
            },
            "marker": {
             "line": {
              "color": "white",
              "width": 0.5
             },
             "pattern": {
              "fillmode": "overlay",
              "size": 10,
              "solidity": 0.2
             }
            },
            "type": "bar"
           }
          ],
          "barpolar": [
           {
            "marker": {
             "line": {
              "color": "white",
              "width": 0.5
             },
             "pattern": {
              "fillmode": "overlay",
              "size": 10,
              "solidity": 0.2
             }
            },
            "type": "barpolar"
           }
          ],
          "carpet": [
           {
            "aaxis": {
             "endlinecolor": "#2a3f5f",
             "gridcolor": "#C8D4E3",
             "linecolor": "#C8D4E3",
             "minorgridcolor": "#C8D4E3",
             "startlinecolor": "#2a3f5f"
            },
            "baxis": {
             "endlinecolor": "#2a3f5f",
             "gridcolor": "#C8D4E3",
             "linecolor": "#C8D4E3",
             "minorgridcolor": "#C8D4E3",
             "startlinecolor": "#2a3f5f"
            },
            "type": "carpet"
           }
          ],
          "choropleth": [
           {
            "colorbar": {
             "outlinewidth": 0,
             "ticks": ""
            },
            "type": "choropleth"
           }
          ],
          "contour": [
           {
            "colorbar": {
             "outlinewidth": 0,
             "ticks": ""
            },
            "colorscale": [
             [
              0,
              "#0d0887"
             ],
             [
              0.1111111111111111,
              "#46039f"
             ],
             [
              0.2222222222222222,
              "#7201a8"
             ],
             [
              0.3333333333333333,
              "#9c179e"
             ],
             [
              0.4444444444444444,
              "#bd3786"
             ],
             [
              0.5555555555555556,
              "#d8576b"
             ],
             [
              0.6666666666666666,
              "#ed7953"
             ],
             [
              0.7777777777777778,
              "#fb9f3a"
             ],
             [
              0.8888888888888888,
              "#fdca26"
             ],
             [
              1,
              "#f0f921"
             ]
            ],
            "type": "contour"
           }
          ],
          "contourcarpet": [
           {
            "colorbar": {
             "outlinewidth": 0,
             "ticks": ""
            },
            "type": "contourcarpet"
           }
          ],
          "heatmap": [
           {
            "colorbar": {
             "outlinewidth": 0,
             "ticks": ""
            },
            "colorscale": [
             [
              0,
              "#0d0887"
             ],
             [
              0.1111111111111111,
              "#46039f"
             ],
             [
              0.2222222222222222,
              "#7201a8"
             ],
             [
              0.3333333333333333,
              "#9c179e"
             ],
             [
              0.4444444444444444,
              "#bd3786"
             ],
             [
              0.5555555555555556,
              "#d8576b"
             ],
             [
              0.6666666666666666,
              "#ed7953"
             ],
             [
              0.7777777777777778,
              "#fb9f3a"
             ],
             [
              0.8888888888888888,
              "#fdca26"
             ],
             [
              1,
              "#f0f921"
             ]
            ],
            "type": "heatmap"
           }
          ],
          "heatmapgl": [
           {
            "colorbar": {
             "outlinewidth": 0,
             "ticks": ""
            },
            "colorscale": [
             [
              0,
              "#0d0887"
             ],
             [
              0.1111111111111111,
              "#46039f"
             ],
             [
              0.2222222222222222,
              "#7201a8"
             ],
             [
              0.3333333333333333,
              "#9c179e"
             ],
             [
              0.4444444444444444,
              "#bd3786"
             ],
             [
              0.5555555555555556,
              "#d8576b"
             ],
             [
              0.6666666666666666,
              "#ed7953"
             ],
             [
              0.7777777777777778,
              "#fb9f3a"
             ],
             [
              0.8888888888888888,
              "#fdca26"
             ],
             [
              1,
              "#f0f921"
             ]
            ],
            "type": "heatmapgl"
           }
          ],
          "histogram": [
           {
            "marker": {
             "pattern": {
              "fillmode": "overlay",
              "size": 10,
              "solidity": 0.2
             }
            },
            "type": "histogram"
           }
          ],
          "histogram2d": [
           {
            "colorbar": {
             "outlinewidth": 0,
             "ticks": ""
            },
            "colorscale": [
             [
              0,
              "#0d0887"
             ],
             [
              0.1111111111111111,
              "#46039f"
             ],
             [
              0.2222222222222222,
              "#7201a8"
             ],
             [
              0.3333333333333333,
              "#9c179e"
             ],
             [
              0.4444444444444444,
              "#bd3786"
             ],
             [
              0.5555555555555556,
              "#d8576b"
             ],
             [
              0.6666666666666666,
              "#ed7953"
             ],
             [
              0.7777777777777778,
              "#fb9f3a"
             ],
             [
              0.8888888888888888,
              "#fdca26"
             ],
             [
              1,
              "#f0f921"
             ]
            ],
            "type": "histogram2d"
           }
          ],
          "histogram2dcontour": [
           {
            "colorbar": {
             "outlinewidth": 0,
             "ticks": ""
            },
            "colorscale": [
             [
              0,
              "#0d0887"
             ],
             [
              0.1111111111111111,
              "#46039f"
             ],
             [
              0.2222222222222222,
              "#7201a8"
             ],
             [
              0.3333333333333333,
              "#9c179e"
             ],
             [
              0.4444444444444444,
              "#bd3786"
             ],
             [
              0.5555555555555556,
              "#d8576b"
             ],
             [
              0.6666666666666666,
              "#ed7953"
             ],
             [
              0.7777777777777778,
              "#fb9f3a"
             ],
             [
              0.8888888888888888,
              "#fdca26"
             ],
             [
              1,
              "#f0f921"
             ]
            ],
            "type": "histogram2dcontour"
           }
          ],
          "mesh3d": [
           {
            "colorbar": {
             "outlinewidth": 0,
             "ticks": ""
            },
            "type": "mesh3d"
           }
          ],
          "parcoords": [
           {
            "line": {
             "colorbar": {
              "outlinewidth": 0,
              "ticks": ""
             }
            },
            "type": "parcoords"
           }
          ],
          "pie": [
           {
            "automargin": true,
            "type": "pie"
           }
          ],
          "scatter": [
           {
            "marker": {
             "colorbar": {
              "outlinewidth": 0,
              "ticks": ""
             }
            },
            "type": "scatter"
           }
          ],
          "scatter3d": [
           {
            "line": {
             "colorbar": {
              "outlinewidth": 0,
              "ticks": ""
             }
            },
            "marker": {
             "colorbar": {
              "outlinewidth": 0,
              "ticks": ""
             }
            },
            "type": "scatter3d"
           }
          ],
          "scattercarpet": [
           {
            "marker": {
             "colorbar": {
              "outlinewidth": 0,
              "ticks": ""
             }
            },
            "type": "scattercarpet"
           }
          ],
          "scattergeo": [
           {
            "marker": {
             "colorbar": {
              "outlinewidth": 0,
              "ticks": ""
             }
            },
            "type": "scattergeo"
           }
          ],
          "scattergl": [
           {
            "marker": {
             "colorbar": {
              "outlinewidth": 0,
              "ticks": ""
             }
            },
            "type": "scattergl"
           }
          ],
          "scattermapbox": [
           {
            "marker": {
             "colorbar": {
              "outlinewidth": 0,
              "ticks": ""
             }
            },
            "type": "scattermapbox"
           }
          ],
          "scatterpolar": [
           {
            "marker": {
             "colorbar": {
              "outlinewidth": 0,
              "ticks": ""
             }
            },
            "type": "scatterpolar"
           }
          ],
          "scatterpolargl": [
           {
            "marker": {
             "colorbar": {
              "outlinewidth": 0,
              "ticks": ""
             }
            },
            "type": "scatterpolargl"
           }
          ],
          "scatterternary": [
           {
            "marker": {
             "colorbar": {
              "outlinewidth": 0,
              "ticks": ""
             }
            },
            "type": "scatterternary"
           }
          ],
          "surface": [
           {
            "colorbar": {
             "outlinewidth": 0,
             "ticks": ""
            },
            "colorscale": [
             [
              0,
              "#0d0887"
             ],
             [
              0.1111111111111111,
              "#46039f"
             ],
             [
              0.2222222222222222,
              "#7201a8"
             ],
             [
              0.3333333333333333,
              "#9c179e"
             ],
             [
              0.4444444444444444,
              "#bd3786"
             ],
             [
              0.5555555555555556,
              "#d8576b"
             ],
             [
              0.6666666666666666,
              "#ed7953"
             ],
             [
              0.7777777777777778,
              "#fb9f3a"
             ],
             [
              0.8888888888888888,
              "#fdca26"
             ],
             [
              1,
              "#f0f921"
             ]
            ],
            "type": "surface"
           }
          ],
          "table": [
           {
            "cells": {
             "fill": {
              "color": "#EBF0F8"
             },
             "line": {
              "color": "white"
             }
            },
            "header": {
             "fill": {
              "color": "#C8D4E3"
             },
             "line": {
              "color": "white"
             }
            },
            "type": "table"
           }
          ]
         },
         "layout": {
          "annotationdefaults": {
           "arrowcolor": "#2a3f5f",
           "arrowhead": 0,
           "arrowwidth": 1
          },
          "autotypenumbers": "strict",
          "coloraxis": {
           "colorbar": {
            "outlinewidth": 0,
            "ticks": ""
           }
          },
          "colorscale": {
           "diverging": [
            [
             0,
             "#8e0152"
            ],
            [
             0.1,
             "#c51b7d"
            ],
            [
             0.2,
             "#de77ae"
            ],
            [
             0.3,
             "#f1b6da"
            ],
            [
             0.4,
             "#fde0ef"
            ],
            [
             0.5,
             "#f7f7f7"
            ],
            [
             0.6,
             "#e6f5d0"
            ],
            [
             0.7,
             "#b8e186"
            ],
            [
             0.8,
             "#7fbc41"
            ],
            [
             0.9,
             "#4d9221"
            ],
            [
             1,
             "#276419"
            ]
           ],
           "sequential": [
            [
             0,
             "#0d0887"
            ],
            [
             0.1111111111111111,
             "#46039f"
            ],
            [
             0.2222222222222222,
             "#7201a8"
            ],
            [
             0.3333333333333333,
             "#9c179e"
            ],
            [
             0.4444444444444444,
             "#bd3786"
            ],
            [
             0.5555555555555556,
             "#d8576b"
            ],
            [
             0.6666666666666666,
             "#ed7953"
            ],
            [
             0.7777777777777778,
             "#fb9f3a"
            ],
            [
             0.8888888888888888,
             "#fdca26"
            ],
            [
             1,
             "#f0f921"
            ]
           ],
           "sequentialminus": [
            [
             0,
             "#0d0887"
            ],
            [
             0.1111111111111111,
             "#46039f"
            ],
            [
             0.2222222222222222,
             "#7201a8"
            ],
            [
             0.3333333333333333,
             "#9c179e"
            ],
            [
             0.4444444444444444,
             "#bd3786"
            ],
            [
             0.5555555555555556,
             "#d8576b"
            ],
            [
             0.6666666666666666,
             "#ed7953"
            ],
            [
             0.7777777777777778,
             "#fb9f3a"
            ],
            [
             0.8888888888888888,
             "#fdca26"
            ],
            [
             1,
             "#f0f921"
            ]
           ]
          },
          "colorway": [
           "#636efa",
           "#EF553B",
           "#00cc96",
           "#ab63fa",
           "#FFA15A",
           "#19d3f3",
           "#FF6692",
           "#B6E880",
           "#FF97FF",
           "#FECB52"
          ],
          "font": {
           "color": "#2a3f5f"
          },
          "geo": {
           "bgcolor": "white",
           "lakecolor": "white",
           "landcolor": "white",
           "showlakes": true,
           "showland": true,
           "subunitcolor": "#C8D4E3"
          },
          "hoverlabel": {
           "align": "left"
          },
          "hovermode": "closest",
          "mapbox": {
           "style": "light"
          },
          "paper_bgcolor": "white",
          "plot_bgcolor": "white",
          "polar": {
           "angularaxis": {
            "gridcolor": "#EBF0F8",
            "linecolor": "#EBF0F8",
            "ticks": ""
           },
           "bgcolor": "white",
           "radialaxis": {
            "gridcolor": "#EBF0F8",
            "linecolor": "#EBF0F8",
            "ticks": ""
           }
          },
          "scene": {
           "xaxis": {
            "backgroundcolor": "white",
            "gridcolor": "#DFE8F3",
            "gridwidth": 2,
            "linecolor": "#EBF0F8",
            "showbackground": true,
            "ticks": "",
            "zerolinecolor": "#EBF0F8"
           },
           "yaxis": {
            "backgroundcolor": "white",
            "gridcolor": "#DFE8F3",
            "gridwidth": 2,
            "linecolor": "#EBF0F8",
            "showbackground": true,
            "ticks": "",
            "zerolinecolor": "#EBF0F8"
           },
           "zaxis": {
            "backgroundcolor": "white",
            "gridcolor": "#DFE8F3",
            "gridwidth": 2,
            "linecolor": "#EBF0F8",
            "showbackground": true,
            "ticks": "",
            "zerolinecolor": "#EBF0F8"
           }
          },
          "shapedefaults": {
           "line": {
            "color": "#2a3f5f"
           }
          },
          "ternary": {
           "aaxis": {
            "gridcolor": "#DFE8F3",
            "linecolor": "#A2B1C6",
            "ticks": ""
           },
           "baxis": {
            "gridcolor": "#DFE8F3",
            "linecolor": "#A2B1C6",
            "ticks": ""
           },
           "bgcolor": "white",
           "caxis": {
            "gridcolor": "#DFE8F3",
            "linecolor": "#A2B1C6",
            "ticks": ""
           }
          },
          "title": {
           "x": 0.05
          },
          "xaxis": {
           "automargin": true,
           "gridcolor": "#EBF0F8",
           "linecolor": "#EBF0F8",
           "ticks": "",
           "title": {
            "standoff": 15
           },
           "zerolinecolor": "#EBF0F8",
           "zerolinewidth": 2
          },
          "yaxis": {
           "automargin": true,
           "gridcolor": "#EBF0F8",
           "linecolor": "#EBF0F8",
           "ticks": "",
           "title": {
            "standoff": 15
           },
           "zerolinecolor": "#EBF0F8",
           "zerolinewidth": 2
          }
         }
        },
        "xaxis": {
         "anchor": "y",
         "autorange": false,
         "domain": [
          0,
          1
         ],
         "range": [
          -0.0035232162912300358,
          0.8126545228843064
         ],
         "showticklabels": true,
         "title": {
          "text": "Proporción"
         },
         "type": "linear",
         "visible": true
        },
        "yaxis": {
         "anchor": "x",
         "autorange": false,
         "domain": [
          0,
          1
         ],
         "range": [
          -0.5295907369238249,
          13.555208743840119
         ],
         "title": {
          "text": "Percepción de CAP"
         },
         "type": "category"
        }
       }
      },
      "image/png": "[encoded data removed]",
      "text/html": [
       "<div>                            <div id=\"2b9c1038-861c-465b-8c30-2520b1f372c4\" class=\"plotly-graph-div\" style=\"height:525px; width:100%;\"></div>            <script type=\"text/javascript\">                require([\"plotly\"], function(Plotly) {                    window.PLOTLYENV=window.PLOTLYENV || {};                                    if (document.getElementById(\"2b9c1038-861c-465b-8c30-2520b1f372c4\")) {                    Plotly.newPlot(                        \"2b9c1038-861c-465b-8c30-2520b1f372c4\",                        [{\"alignmentgroup\":\"True\",\"hovertemplate\":\"Vigencia CAP=Vigencia 2022<br>Proporci\\u00f3n=%{x}<br>Percepci\\u00f3n de CAP=%{y}<extra></extra>\",\"legendgroup\":\"Vigencia 2022\",\"marker\":{\"color\":\"rgb(102,194,165)\",\"pattern\":{\"shape\":\"\"}},\"name\":\"Vigencia 2022\",\"offsetgroup\":\"Vigencia 2022\",\"orientation\":\"h\",\"showlegend\":true,\"textposition\":\"auto\",\"x\":[0.7452229299363057,0.5414012738853503,0.5796178343949044,0.7579617834394905,0.7707006369426752,0.6687898089171974,0.6560509554140127,0.5031847133757962,0.7133757961783439,0.5859872611464968,0.5159235668789809,0.6624203821656051,0.6496815286624203,0.17834394904458598],\"xaxis\":\"x\",\"y\":[\"Encontrar apoyo para resolver problemas sobre un tema\",\"Hablar con otros docentes sobre el dise\\u00f1o de cursos\",\"Encontrar apoyo para el dise\\u00f1o de mis cursos\",\"Aprender sobre nuevos temas en comunidad\",\"Mejorar mis pr\\u00e1cticas pedag\\u00f3gicas por la comunidad\",\"Recibir retroalimentaci\\u00f3n de mis pr\\u00e1cticas pedag\\u00f3gicas\",\"Formar e integrar redes de trabajo, estudio o investigaci\\u00f3n\",\"Aprender a ser l\\u00edder en comunidades de aprendizaje\",\"Encontrar motivaci\\u00f3n para seguir aprendiendo\",\"Aprender a evaluar mis vac\\u00edos y fortalezas conceptuales\",\"Evidenciar capacidades intelectuales similares en hombres y mujeres\",\"Evidenciar habilidades y destrezas de las mujeres en \\u00e1reas STEM\",\"Conocer plataformas de comunicaci\\u00f3n y establecer redes de trabajo\",\"Las CAP no aportan significativamente a mi labor docente\"],\"yaxis\":\"y\",\"type\":\"bar\"},{\"alignmentgroup\":\"True\",\"hovertemplate\":\"Vigencia CAP=Vigencia 2021<br>Proporci\\u00f3n=%{x}<br>Percepci\\u00f3n de CAP=%{y}<extra></extra>\",\"legendgroup\":\"Vigencia 2021\",\"marker\":{\"color\":\"rgb(252,141,98)\",\"pattern\":{\"shape\":\"\"}},\"name\":\"Vigencia 2021\",\"offsetgroup\":\"Vigencia 2021\",\"orientation\":\"h\",\"showlegend\":true,\"textposition\":\"auto\",\"x\":[0.6153846153846154,0.5865384615384616,0.4951923076923077,0.6682692307692307,0.6201923076923077,0.5865384615384616,0.6538461538461539,0.4375,0.5576923076923077,0.5240384615384616,0.4230769230769231,0.5336538461538461,0.625,0.14423076923076922],\"xaxis\":\"x\",\"y\":[\"Encontrar apoyo para resolver problemas sobre un tema\",\"Hablar con otros docentes sobre el dise\\u00f1o de cursos\",\"Encontrar apoyo para el dise\\u00f1o de mis cursos\",\"Aprender sobre nuevos temas en comunidad\",\"Mejorar mis pr\\u00e1cticas pedag\\u00f3gicas por la comunidad\",\"Recibir retroalimentaci\\u00f3n de mis pr\\u00e1cticas pedag\\u00f3gicas\",\"Formar e integrar redes de trabajo, estudio o investigaci\\u00f3n\",\"Aprender a ser l\\u00edder en comunidades de aprendizaje\",\"Encontrar motivaci\\u00f3n para seguir aprendiendo\",\"Aprender a evaluar mis vac\\u00edos y fortalezas conceptuales\",\"Evidenciar capacidades intelectuales similares en hombres y mujeres\",\"Evidenciar habilidades y destrezas de las mujeres en \\u00e1reas STEM\",\"Conocer plataformas de comunicaci\\u00f3n y establecer redes de trabajo\",\"Las CAP no aportan significativamente a mi labor docente\"],\"yaxis\":\"y\",\"type\":\"bar\"}],                        {\"template\":{\"data\":{\"barpolar\":[{\"marker\":{\"line\":{\"color\":\"white\",\"width\":0.5},\"pattern\":{\"fillmode\":\"overlay\",\"size\":10,\"solidity\":0.2}},\"type\":\"barpolar\"}],\"bar\":[{\"error_x\":{\"color\":\"#2a3f5f\"},\"error_y\":{\"color\":\"#2a3f5f\"},\"marker\":{\"line\":{\"color\":\"white\",\"width\":0.5},\"pattern\":{\"fillmode\":\"overlay\",\"size\":10,\"solidity\":0.2}},\"type\":\"bar\"}],\"carpet\":[{\"aaxis\":{\"endlinecolor\":\"#2a3f5f\",\"gridcolor\":\"#C8D4E3\",\"linecolor\":\"#C8D4E3\",\"minorgridcolor\":\"#C8D4E3\",\"startlinecolor\":\"#2a3f5f\"},\"baxis\":{\"endlinecolor\":\"#2a3f5f\",\"gridcolor\":\"#C8D4E3\",\"linecolor\":\"#C8D4E3\",\"minorgridcolor\":\"#C8D4E3\",\"startlinecolor\":\"#2a3f5f\"},\"type\":\"carpet\"}],\"choropleth\":[{\"colorbar\":{\"outlinewidth\":0,\"ticks\":\"\"},\"type\":\"choropleth\"}],\"contourcarpet\":[{\"colorbar\":{\"outlinewidth\":0,\"ticks\":\"\"},\"type\":\"contourcarpet\"}],\"contour\":[{\"colorbar\":{\"outlinewidth\":0,\"ticks\":\"\"},\"colorscale\":[[0.0,\"#0d0887\"],[0.1111111111111111,\"#46039f\"],[0.2222222222222222,\"#7201a8\"],[0.3333333333333333,\"#9c179e\"],[0.4444444444444444,\"#bd3786\"],[0.5555555555555556,\"#d8576b\"],[0.6666666666666666,\"#ed7953\"],[0.7777777777777778,\"#fb9f3a\"],[0.8888888888888888,\"#fdca26\"],[1.0,\"#f0f921\"]],\"type\":\"contour\"}],\"heatmapgl\":[{\"colorbar\":{\"outlinewidth\":0,\"ticks\":\"\"},\"colorscale\":[[0.0,\"#0d0887\"],[0.1111111111111111,\"#46039f\"],[0.2222222222222222,\"#7201a8\"],[0.3333333333333333,\"#9c179e\"],[0.4444444444444444,\"#bd3786\"],[0.5555555555555556,\"#d8576b\"],[0.6666666666666666,\"#ed7953\"],[0.7777777777777778,\"#fb9f3a\"],[0.8888888888888888,\"#fdca26\"],[1.0,\"#f0f921\"]],\"type\":\"heatmapgl\"}],\"heatmap\":[{\"colorbar\":{\"outlinewidth\":0,\"ticks\":\"\"},\"colorscale\":[[0.0,\"#0d0887\"],[0.1111111111111111,\"#46039f\"],[0.2222222222222222,\"#7201a8\"],[0.3333333333333333,\"#9c179e\"],[0.4444444444444444,\"#bd3786\"],[0.5555555555555556,\"#d8576b\"],[0.6666666666666666,\"#ed7953\"],[0.7777777777777778,\"#fb9f3a\"],[0.8888888888888888,\"#fdca26\"],[1.0,\"#f0f921\"]],\"type\":\"heatmap\"}],\"histogram2dcontour\":[{\"colorbar\":{\"outlinewidth\":0,\"ticks\":\"\"},\"colorscale\":[[0.0,\"#0d0887\"],[0.1111111111111111,\"#46039f\"],[0.2222222222222222,\"#7201a8\"],[0.3333333333333333,\"#9c179e\"],[0.4444444444444444,\"#bd3786\"],[0.5555555555555556,\"#d8576b\"],[0.6666666666666666,\"#ed7953\"],[0.7777777777777778,\"#fb9f3a\"],[0.8888888888888888,\"#fdca26\"],[1.0,\"#f0f921\"]],\"type\":\"histogram2dcontour\"}],\"histogram2d\":[{\"colorbar\":{\"outlinewidth\":0,\"ticks\":\"\"},\"colorscale\":[[0.0,\"#0d0887\"],[0.1111111111111111,\"#46039f\"],[0.2222222222222222,\"#7201a8\"],[0.3333333333333333,\"#9c179e\"],[0.4444444444444444,\"#bd3786\"],[0.5555555555555556,\"#d8576b\"],[0.6666666666666666,\"#ed7953\"],[0.7777777777777778,\"#fb9f3a\"],[0.8888888888888888,\"#fdca26\"],[1.0,\"#f0f921\"]],\"type\":\"histogram2d\"}],\"histogram\":[{\"marker\":{\"pattern\":{\"fillmode\":\"overlay\",\"size\":10,\"solidity\":0.2}},\"type\":\"histogram\"}],\"mesh3d\":[{\"colorbar\":{\"outlinewidth\":0,\"ticks\":\"\"},\"type\":\"mesh3d\"}],\"parcoords\":[{\"line\":{\"colorbar\":{\"outlinewidth\":0,\"ticks\":\"\"}},\"type\":\"parcoords\"}],\"pie\":[{\"automargin\":true,\"type\":\"pie\"}],\"scatter3d\":[{\"line\":{\"colorbar\":{\"outlinewidth\":0,\"ticks\":\"\"}},\"marker\":{\"colorbar\":{\"outlinewidth\":0,\"ticks\":\"\"}},\"type\":\"scatter3d\"}],\"scattercarpet\":[{\"marker\":{\"colorbar\":{\"outlinewidth\":0,\"ticks\":\"\"}},\"type\":\"scattercarpet\"}],\"scattergeo\":[{\"marker\":{\"colorbar\":{\"outlinewidth\":0,\"ticks\":\"\"}},\"type\":\"scattergeo\"}],\"scattergl\":[{\"marker\":{\"colorbar\":{\"outlinewidth\":0,\"ticks\":\"\"}},\"type\":\"scattergl\"}],\"scattermapbox\":[{\"marker\":{\"colorbar\":{\"outlinewidth\":0,\"ticks\":\"\"}},\"type\":\"scattermapbox\"}],\"scatterpolargl\":[{\"marker\":{\"colorbar\":{\"outlinewidth\":0,\"ticks\":\"\"}},\"type\":\"scatterpolargl\"}],\"scatterpolar\":[{\"marker\":{\"colorbar\":{\"outlinewidth\":0,\"ticks\":\"\"}},\"type\":\"scatterpolar\"}],\"scatter\":[{\"marker\":{\"colorbar\":{\"outlinewidth\":0,\"ticks\":\"\"}},\"type\":\"scatter\"}],\"scatterternary\":[{\"marker\":{\"colorbar\":{\"outlinewidth\":0,\"ticks\":\"\"}},\"type\":\"scatterternary\"}],\"surface\":[{\"colorbar\":{\"outlinewidth\":0,\"ticks\":\"\"},\"colorscale\":[[0.0,\"#0d0887\"],[0.1111111111111111,\"#46039f\"],[0.2222222222222222,\"#7201a8\"],[0.3333333333333333,\"#9c179e\"],[0.4444444444444444,\"#bd3786\"],[0.5555555555555556,\"#d8576b\"],[0.6666666666666666,\"#ed7953\"],[0.7777777777777778,\"#fb9f3a\"],[0.8888888888888888,\"#fdca26\"],[1.0,\"#f0f921\"]],\"type\":\"surface\"}],\"table\":[{\"cells\":{\"fill\":{\"color\":\"#EBF0F8\"},\"line\":{\"color\":\"white\"}},\"header\":{\"fill\":{\"color\":\"#C8D4E3\"},\"line\":{\"color\":\"white\"}},\"type\":\"table\"}]},\"layout\":{\"annotationdefaults\":{\"arrowcolor\":\"#2a3f5f\",\"arrowhead\":0,\"arrowwidth\":1},\"autotypenumbers\":\"strict\",\"coloraxis\":{\"colorbar\":{\"outlinewidth\":0,\"ticks\":\"\"}},\"colorscale\":{\"diverging\":[[0,\"#8e0152\"],[0.1,\"#c51b7d\"],[0.2,\"#de77ae\"],[0.3,\"#f1b6da\"],[0.4,\"#fde0ef\"],[0.5,\"#f7f7f7\"],[0.6,\"#e6f5d0\"],[0.7,\"#b8e186\"],[0.8,\"#7fbc41\"],[0.9,\"#4d9221\"],[1,\"#276419\"]],\"sequential\":[[0.0,\"#0d0887\"],[0.1111111111111111,\"#46039f\"],[0.2222222222222222,\"#7201a8\"],[0.3333333333333333,\"#9c179e\"],[0.4444444444444444,\"#bd3786\"],[0.5555555555555556,\"#d8576b\"],[0.6666666666666666,\"#ed7953\"],[0.7777777777777778,\"#fb9f3a\"],[0.8888888888888888,\"#fdca26\"],[1.0,\"#f0f921\"]],\"sequentialminus\":[[0.0,\"#0d0887\"],[0.1111111111111111,\"#46039f\"],[0.2222222222222222,\"#7201a8\"],[0.3333333333333333,\"#9c179e\"],[0.4444444444444444,\"#bd3786\"],[0.5555555555555556,\"#d8576b\"],[0.6666666666666666,\"#ed7953\"],[0.7777777777777778,\"#fb9f3a\"],[0.8888888888888888,\"#fdca26\"],[1.0,\"#f0f921\"]]},\"colorway\":[\"#636efa\",\"#EF553B\",\"#00cc96\",\"#ab63fa\",\"#FFA15A\",\"#19d3f3\",\"#FF6692\",\"#B6E880\",\"#FF97FF\",\"#FECB52\"],\"font\":{\"color\":\"#2a3f5f\"},\"geo\":{\"bgcolor\":\"white\",\"lakecolor\":\"white\",\"landcolor\":\"white\",\"showlakes\":true,\"showland\":true,\"subunitcolor\":\"#C8D4E3\"},\"hoverlabel\":{\"align\":\"left\"},\"hovermode\":\"closest\",\"mapbox\":{\"style\":\"light\"},\"paper_bgcolor\":\"white\",\"plot_bgcolor\":\"white\",\"polar\":{\"angularaxis\":{\"gridcolor\":\"#EBF0F8\",\"linecolor\":\"#EBF0F8\",\"ticks\":\"\"},\"bgcolor\":\"white\",\"radialaxis\":{\"gridcolor\":\"#EBF0F8\",\"linecolor\":\"#EBF0F8\",\"ticks\":\"\"}},\"scene\":{\"xaxis\":{\"backgroundcolor\":\"white\",\"gridcolor\":\"#DFE8F3\",\"gridwidth\":2,\"linecolor\":\"#EBF0F8\",\"showbackground\":true,\"ticks\":\"\",\"zerolinecolor\":\"#EBF0F8\"},\"yaxis\":{\"backgroundcolor\":\"white\",\"gridcolor\":\"#DFE8F3\",\"gridwidth\":2,\"linecolor\":\"#EBF0F8\",\"showbackground\":true,\"ticks\":\"\",\"zerolinecolor\":\"#EBF0F8\"},\"zaxis\":{\"backgroundcolor\":\"white\",\"gridcolor\":\"#DFE8F3\",\"gridwidth\":2,\"linecolor\":\"#EBF0F8\",\"showbackground\":true,\"ticks\":\"\",\"zerolinecolor\":\"#EBF0F8\"}},\"shapedefaults\":{\"line\":{\"color\":\"#2a3f5f\"}},\"ternary\":{\"aaxis\":{\"gridcolor\":\"#DFE8F3\",\"linecolor\":\"#A2B1C6\",\"ticks\":\"\"},\"baxis\":{\"gridcolor\":\"#DFE8F3\",\"linecolor\":\"#A2B1C6\",\"ticks\":\"\"},\"bgcolor\":\"white\",\"caxis\":{\"gridcolor\":\"#DFE8F3\",\"linecolor\":\"#A2B1C6\",\"ticks\":\"\"}},\"title\":{\"x\":0.05},\"xaxis\":{\"automargin\":true,\"gridcolor\":\"#EBF0F8\",\"linecolor\":\"#EBF0F8\",\"ticks\":\"\",\"title\":{\"standoff\":15},\"zerolinecolor\":\"#EBF0F8\",\"zerolinewidth\":2},\"yaxis\":{\"automargin\":true,\"gridcolor\":\"#EBF0F8\",\"linecolor\":\"#EBF0F8\",\"ticks\":\"\",\"title\":{\"standoff\":15},\"zerolinecolor\":\"#EBF0F8\",\"zerolinewidth\":2}}},\"xaxis\":{\"anchor\":\"y\",\"domain\":[0.0,1.0],\"title\":{\"text\":\"Proporci\\u00f3n\"},\"visible\":true,\"showticklabels\":true},\"yaxis\":{\"anchor\":\"x\",\"domain\":[0.0,1.0],\"title\":{\"text\":\"Percepci\\u00f3n de CAP\"}},\"legend\":{\"title\":{\"text\":\"Vigencia CAP\"},\"tracegroupgap\":0},\"margin\":{\"t\":60},\"barmode\":\"group\"},                        {\"scrollZoom\": true, \"displaylogo\": true, \"responsive\": true, \"editable\": true, \"toImageButtonOptions\": {\"format\": \"png\", \"filename\": \"grafica_CAP\", \"height\": null, \"width\": null, \"scale\": true}}                    ).then(function(){\n",
       "                            \n",
       "var gd = document.getElementById('2b9c1038-861c-465b-8c30-2520b1f372c4');\n",
       "var x = new MutationObserver(function (mutations, observer) {{\n",
       "        var display = window.getComputedStyle(gd).display;\n",
       "        if (!display || display === 'none') {{\n",
       "            console.log([gd, 'removed!']);\n",
       "            Plotly.purge(gd);\n",
       "            observer.disconnect();\n",
       "        }}\n",
       "}});\n",
       "\n",
       "// Listen for the removal of the full notebook cells\n",
       "var notebookContainer = gd.closest('#notebook-container');\n",
       "if (notebookContainer) {{\n",
       "    x.observe(notebookContainer, {childList: true});\n",
       "}}\n",
       "\n",
       "// Listen for the clearing of the current output cell\n",
       "var outputEl = gd.closest('.output');\n",
       "if (outputEl) {{\n",
       "    x.observe(outputEl, {childList: true});\n",
       "}}\n",
       "\n",
       "                        })                };                });            </script>        </div>"
      ]
     },
     "metadata": {},
     "output_type": "display_data"
    }
   ],
   "source": [
    "fig_percep = px.bar(percep,x='Proporción', y='Percepción de CAP', color='Vigencia CAP',  barmode='group', template=\"plotly_white\",color_discrete_sequence=px.colors.qualitative.Set2)\n",
    "fig_percep.update_xaxes(visible=True, showticklabels=True)\n",
    "fig_percep.for_each_annotation(lambda a: a.update(text=a.text.split(\"=\")[-1]))\n",
    "fig_percep.show(config=config_chart)"
   ]
  },
  {
   "cell_type": "code",
   "execution_count": null,
   "id": "4c996f34-6a8c-498a-b492-73e2100143fd",
   "metadata": {},
   "outputs": [],
   "source": []
  }
 ],
 "metadata": {
  "kernelspec": {
   "display_name": "Python 3 (ipykernel)",
   "language": "python",
   "name": "python3"
  },
  "language_info": {
   "codemirror_mode": {
    "name": "ipython",
    "version": 3
   },
   "file_extension": ".py",
   "mimetype": "text/x-python",
   "name": "python",
   "nbconvert_exporter": "python",
   "pygments_lexer": "ipython3",
   "version": "3.9.12"
  }
 },
 "nbformat": 4,
 "nbformat_minor": 5
}
