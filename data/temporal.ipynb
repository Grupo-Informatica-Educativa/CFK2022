{
 "cells": [
  {
   "cell_type": "code",
   "execution_count": 5,
   "metadata": {
    "collapsed": true
   },
   "outputs": [],
   "source": [
    "import pandas as pd"
   ]
  },
  {
   "cell_type": "code",
   "execution_count": 6,
   "outputs": [
    {
     "data": {
      "text/plain": "               CC Intrumento Formación   Año     Género  Autoeficacia PC  \\\n0        10002898    Pretest   Inicial  2020   Femenino        67.390650   \n1        10008569    Pretest   Inicial  2020   Femenino        78.980053   \n2      1001778033    Pretest   Inicial  2020   Femenino        85.965909   \n3      1002377303    Pretest   Inicial  2020  Masculino        92.390650   \n4      1002423089    Pretest   Inicial  2020  Masculino        75.000000   \n...           ...        ...       ...   ...        ...              ...   \n27105    52802070   Posttest  Avanzado  2021   Femenino        95.710219   \n27106    52781728   Posttest  Avanzado  2021   Femenino       100.000000   \n27107    79397172   Posttest  Avanzado  2021  Masculino        90.498279   \n27108    79471287   Posttest  Avanzado  2021  Masculino        80.211940   \n27109    26330772   Posttest  Avanzado  2021   Femenino        75.000000   \n\n       A. conocimiento Pedagógico  Autoeficacia Tecnológica  \\\n0                       75.000000                 75.000000   \n1                      100.000000                 81.632520   \n2                       95.202615                100.000000   \n3                      100.000000                 90.279515   \n4                       70.692037                 75.000000   \n...                           ...                       ...   \n27105                   97.323969                100.000000   \n27106                  100.000000                100.000000   \n27107                   82.363504                 85.765625   \n27108                   75.000000                 89.234375   \n27109                   75.000000                 75.000000   \n\n       Conocimiento Técnico de Contenido  \n0                              28.110871  \n1                              32.015451  \n2                              43.729192  \n3                              35.920032  \n4                              59.347512  \n...                                  ...  \n27105                          45.481731  \n27106                          39.930003  \n27107                          56.585185  \n27108                          51.033458  \n27109                          51.033458  \n\n[27110 rows x 9 columns]",
      "text/html": "<div>\n<style scoped>\n    .dataframe tbody tr th:only-of-type {\n        vertical-align: middle;\n    }\n\n    .dataframe tbody tr th {\n        vertical-align: top;\n    }\n\n    .dataframe thead th {\n        text-align: right;\n    }\n</style>\n<table border=\"1\" class=\"dataframe\">\n  <thead>\n    <tr style=\"text-align: right;\">\n      <th></th>\n      <th>CC</th>\n      <th>Intrumento</th>\n      <th>Formación</th>\n      <th>Año</th>\n      <th>Género</th>\n      <th>Autoeficacia PC</th>\n      <th>A. conocimiento Pedagógico</th>\n      <th>Autoeficacia Tecnológica</th>\n      <th>Conocimiento Técnico de Contenido</th>\n    </tr>\n  </thead>\n  <tbody>\n    <tr>\n      <th>0</th>\n      <td>10002898</td>\n      <td>Pretest</td>\n      <td>Inicial</td>\n      <td>2020</td>\n      <td>Femenino</td>\n      <td>67.390650</td>\n      <td>75.000000</td>\n      <td>75.000000</td>\n      <td>28.110871</td>\n    </tr>\n    <tr>\n      <th>1</th>\n      <td>10008569</td>\n      <td>Pretest</td>\n      <td>Inicial</td>\n      <td>2020</td>\n      <td>Femenino</td>\n      <td>78.980053</td>\n      <td>100.000000</td>\n      <td>81.632520</td>\n      <td>32.015451</td>\n    </tr>\n    <tr>\n      <th>2</th>\n      <td>1001778033</td>\n      <td>Pretest</td>\n      <td>Inicial</td>\n      <td>2020</td>\n      <td>Femenino</td>\n      <td>85.965909</td>\n      <td>95.202615</td>\n      <td>100.000000</td>\n      <td>43.729192</td>\n    </tr>\n    <tr>\n      <th>3</th>\n      <td>1002377303</td>\n      <td>Pretest</td>\n      <td>Inicial</td>\n      <td>2020</td>\n      <td>Masculino</td>\n      <td>92.390650</td>\n      <td>100.000000</td>\n      <td>90.279515</td>\n      <td>35.920032</td>\n    </tr>\n    <tr>\n      <th>4</th>\n      <td>1002423089</td>\n      <td>Pretest</td>\n      <td>Inicial</td>\n      <td>2020</td>\n      <td>Masculino</td>\n      <td>75.000000</td>\n      <td>70.692037</td>\n      <td>75.000000</td>\n      <td>59.347512</td>\n    </tr>\n    <tr>\n      <th>...</th>\n      <td>...</td>\n      <td>...</td>\n      <td>...</td>\n      <td>...</td>\n      <td>...</td>\n      <td>...</td>\n      <td>...</td>\n      <td>...</td>\n      <td>...</td>\n    </tr>\n    <tr>\n      <th>27105</th>\n      <td>52802070</td>\n      <td>Posttest</td>\n      <td>Avanzado</td>\n      <td>2021</td>\n      <td>Femenino</td>\n      <td>95.710219</td>\n      <td>97.323969</td>\n      <td>100.000000</td>\n      <td>45.481731</td>\n    </tr>\n    <tr>\n      <th>27106</th>\n      <td>52781728</td>\n      <td>Posttest</td>\n      <td>Avanzado</td>\n      <td>2021</td>\n      <td>Femenino</td>\n      <td>100.000000</td>\n      <td>100.000000</td>\n      <td>100.000000</td>\n      <td>39.930003</td>\n    </tr>\n    <tr>\n      <th>27107</th>\n      <td>79397172</td>\n      <td>Posttest</td>\n      <td>Avanzado</td>\n      <td>2021</td>\n      <td>Masculino</td>\n      <td>90.498279</td>\n      <td>82.363504</td>\n      <td>85.765625</td>\n      <td>56.585185</td>\n    </tr>\n    <tr>\n      <th>27108</th>\n      <td>79471287</td>\n      <td>Posttest</td>\n      <td>Avanzado</td>\n      <td>2021</td>\n      <td>Masculino</td>\n      <td>80.211940</td>\n      <td>75.000000</td>\n      <td>89.234375</td>\n      <td>51.033458</td>\n    </tr>\n    <tr>\n      <th>27109</th>\n      <td>26330772</td>\n      <td>Posttest</td>\n      <td>Avanzado</td>\n      <td>2021</td>\n      <td>Femenino</td>\n      <td>75.000000</td>\n      <td>75.000000</td>\n      <td>75.000000</td>\n      <td>51.033458</td>\n    </tr>\n  </tbody>\n</table>\n<p>27110 rows × 9 columns</p>\n</div>"
     },
     "execution_count": 6,
     "metadata": {},
     "output_type": "execute_result"
    }
   ],
   "source": [
    "df = pd.read_excel('integradosFormacion.xlsx')\n",
    "df"
   ],
   "metadata": {
    "collapsed": false,
    "pycharm": {
     "name": "#%%\n"
    }
   }
  },
  {
   "cell_type": "code",
   "execution_count": 7,
   "outputs": [],
   "source": [
    "df.to_feather('integradosFormacion.feather')"
   ],
   "metadata": {
    "collapsed": false,
    "pycharm": {
     "name": "#%%\n"
    }
   }
  },
  {
   "cell_type": "code",
   "execution_count": null,
   "outputs": [],
   "source": [],
   "metadata": {
    "collapsed": false,
    "pycharm": {
     "name": "#%%\n"
    }
   }
  }
 ],
 "metadata": {
  "kernelspec": {
   "display_name": "Python 3",
   "language": "python",
   "name": "python3"
  },
  "language_info": {
   "codemirror_mode": {
    "name": "ipython",
    "version": 2
   },
   "file_extension": ".py",
   "mimetype": "text/x-python",
   "name": "python",
   "nbconvert_exporter": "python",
   "pygments_lexer": "ipython2",
   "version": "2.7.6"
  }
 },
 "nbformat": 4,
 "nbformat_minor": 0
}