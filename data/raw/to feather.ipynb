{
 "cells": [
  {
   "cell_type": "code",
   "execution_count": 17,
   "outputs": [],
   "source": [
    "import pandas as pd"
   ],
   "metadata": {
    "collapsed": false,
    "pycharm": {
     "name": "#%%\n"
    }
   }
  },
  {
   "cell_type": "code",
   "execution_count": 18,
   "outputs": [],
   "source": [
    "integrados = pd.read_excel('integradosGlobal (1).xlsx', index_col=0)"
   ],
   "metadata": {
    "collapsed": false,
    "pycharm": {
     "name": "#%%\n"
    }
   }
  },
  {
   "cell_type": "code",
   "execution_count": 24,
   "outputs": [
    {
     "data": {
      "text/plain": "       index          CC  Género   Año Formación Instrumento  \\\n0          1    10002898     2.0  2020   inicial     Pretest   \n1          2    10008569     2.0  2020   inicial     Pretest   \n2          3  1001778033     2.0  2020   inicial     Pretest   \n3          4  1002377303     1.0  2020   inicial     Pretest   \n4          5  1002423089     1.0  2020   inicial     Pretest   \n...      ...         ...     ...   ...       ...         ...   \n27105  27106    52802070     2.0  2021  avanzado    Posttest   \n27106  27107    52781728     2.0  2021  avanzado    Posttest   \n27107  27108    79397172     1.0  2021  avanzado    Posttest   \n27108  27109    79471287     1.0  2021  avanzado    Posttest   \n27109  27110    26330772     2.0  2021  avanzado    Posttest   \n\n       Autoeficacia Pensamiento Computacional  \\\n0                                   75.000000   \n1                                  100.000000   \n2                                   95.202615   \n3                                  100.000000   \n4                                   70.692037   \n...                                       ...   \n27105                               95.710219   \n27106                              100.000000   \n27107                               90.498279   \n27108                               80.211940   \n27109                               75.000000   \n\n       Autoeficacia Conocimiento Pedagógico  Autoeficacia Tecnológica  \\\n0                                 67.390650                 75.000000   \n1                                 78.980053                 81.632520   \n2                                 85.965909                100.000000   \n3                                 92.390650                 90.279515   \n4                                 75.000000                 75.000000   \n...                                     ...                       ...   \n27105                             97.323969                100.000000   \n27106                            100.000000                100.000000   \n27107                             82.363504                 85.765625   \n27108                             75.000000                 89.234375   \n27109                             75.000000                 75.000000   \n\n       Conocimiento técnico de contenido   \n0                               28.110871  \n1                               32.015451  \n2                               43.729192  \n3                               35.920032  \n4                               59.347512  \n...                                   ...  \n27105                           45.481731  \n27106                           39.930003  \n27107                           56.585185  \n27108                           51.033458  \n27109                           51.033458  \n\n[27110 rows x 10 columns]",
      "text/html": "<div>\n<style scoped>\n    .dataframe tbody tr th:only-of-type {\n        vertical-align: middle;\n    }\n\n    .dataframe tbody tr th {\n        vertical-align: top;\n    }\n\n    .dataframe thead th {\n        text-align: right;\n    }\n</style>\n<table border=\"1\" class=\"dataframe\">\n  <thead>\n    <tr style=\"text-align: right;\">\n      <th></th>\n      <th>index</th>\n      <th>CC</th>\n      <th>Género</th>\n      <th>Año</th>\n      <th>Formación</th>\n      <th>Instrumento</th>\n      <th>Autoeficacia Pensamiento Computacional</th>\n      <th>Autoeficacia Conocimiento Pedagógico</th>\n      <th>Autoeficacia Tecnológica</th>\n      <th>Conocimiento técnico de contenido</th>\n    </tr>\n  </thead>\n  <tbody>\n    <tr>\n      <th>0</th>\n      <td>1</td>\n      <td>10002898</td>\n      <td>2.0</td>\n      <td>2020</td>\n      <td>inicial</td>\n      <td>Pretest</td>\n      <td>75.000000</td>\n      <td>67.390650</td>\n      <td>75.000000</td>\n      <td>28.110871</td>\n    </tr>\n    <tr>\n      <th>1</th>\n      <td>2</td>\n      <td>10008569</td>\n      <td>2.0</td>\n      <td>2020</td>\n      <td>inicial</td>\n      <td>Pretest</td>\n      <td>100.000000</td>\n      <td>78.980053</td>\n      <td>81.632520</td>\n      <td>32.015451</td>\n    </tr>\n    <tr>\n      <th>2</th>\n      <td>3</td>\n      <td>1001778033</td>\n      <td>2.0</td>\n      <td>2020</td>\n      <td>inicial</td>\n      <td>Pretest</td>\n      <td>95.202615</td>\n      <td>85.965909</td>\n      <td>100.000000</td>\n      <td>43.729192</td>\n    </tr>\n    <tr>\n      <th>3</th>\n      <td>4</td>\n      <td>1002377303</td>\n      <td>1.0</td>\n      <td>2020</td>\n      <td>inicial</td>\n      <td>Pretest</td>\n      <td>100.000000</td>\n      <td>92.390650</td>\n      <td>90.279515</td>\n      <td>35.920032</td>\n    </tr>\n    <tr>\n      <th>4</th>\n      <td>5</td>\n      <td>1002423089</td>\n      <td>1.0</td>\n      <td>2020</td>\n      <td>inicial</td>\n      <td>Pretest</td>\n      <td>70.692037</td>\n      <td>75.000000</td>\n      <td>75.000000</td>\n      <td>59.347512</td>\n    </tr>\n    <tr>\n      <th>...</th>\n      <td>...</td>\n      <td>...</td>\n      <td>...</td>\n      <td>...</td>\n      <td>...</td>\n      <td>...</td>\n      <td>...</td>\n      <td>...</td>\n      <td>...</td>\n      <td>...</td>\n    </tr>\n    <tr>\n      <th>27105</th>\n      <td>27106</td>\n      <td>52802070</td>\n      <td>2.0</td>\n      <td>2021</td>\n      <td>avanzado</td>\n      <td>Posttest</td>\n      <td>95.710219</td>\n      <td>97.323969</td>\n      <td>100.000000</td>\n      <td>45.481731</td>\n    </tr>\n    <tr>\n      <th>27106</th>\n      <td>27107</td>\n      <td>52781728</td>\n      <td>2.0</td>\n      <td>2021</td>\n      <td>avanzado</td>\n      <td>Posttest</td>\n      <td>100.000000</td>\n      <td>100.000000</td>\n      <td>100.000000</td>\n      <td>39.930003</td>\n    </tr>\n    <tr>\n      <th>27107</th>\n      <td>27108</td>\n      <td>79397172</td>\n      <td>1.0</td>\n      <td>2021</td>\n      <td>avanzado</td>\n      <td>Posttest</td>\n      <td>90.498279</td>\n      <td>82.363504</td>\n      <td>85.765625</td>\n      <td>56.585185</td>\n    </tr>\n    <tr>\n      <th>27108</th>\n      <td>27109</td>\n      <td>79471287</td>\n      <td>1.0</td>\n      <td>2021</td>\n      <td>avanzado</td>\n      <td>Posttest</td>\n      <td>80.211940</td>\n      <td>75.000000</td>\n      <td>89.234375</td>\n      <td>51.033458</td>\n    </tr>\n    <tr>\n      <th>27109</th>\n      <td>27110</td>\n      <td>26330772</td>\n      <td>2.0</td>\n      <td>2021</td>\n      <td>avanzado</td>\n      <td>Posttest</td>\n      <td>75.000000</td>\n      <td>75.000000</td>\n      <td>75.000000</td>\n      <td>51.033458</td>\n    </tr>\n  </tbody>\n</table>\n<p>27110 rows × 10 columns</p>\n</div>"
     },
     "execution_count": 24,
     "metadata": {},
     "output_type": "execute_result"
    }
   ],
   "source": [
    "integrados = integrados.reset_index()\n",
    "integrados"
   ],
   "metadata": {
    "collapsed": false,
    "pycharm": {
     "name": "#%%\n"
    }
   }
  },
  {
   "cell_type": "code",
   "execution_count": 25,
   "outputs": [],
   "source": [
    "integrados.to_feather('integradosFormacion.feather')"
   ],
   "metadata": {
    "collapsed": false,
    "pycharm": {
     "name": "#%%\n"
    }
   }
  },
  {
   "cell_type": "code",
   "execution_count": 26,
   "outputs": [
    {
     "name": "stdout",
     "output_type": "stream",
     "text": [
      "^C\n"
     ]
    }
   ],
   "source": [
    "!pip uninstall pyarrow"
   ],
   "metadata": {
    "collapsed": false,
    "pycharm": {
     "name": "#%%\n"
    }
   }
  },
  {
   "cell_type": "code",
   "execution_count": null,
   "outputs": [],
   "source": [],
   "metadata": {
    "collapsed": false,
    "pycharm": {
     "name": "#%%\n"
    }
   }
  }
 ],
 "metadata": {
  "kernelspec": {
   "display_name": "Python 3",
   "language": "python",
   "name": "python3"
  },
  "language_info": {
   "codemirror_mode": {
    "name": "ipython",
    "version": 2
   },
   "file_extension": ".py",
   "mimetype": "text/x-python",
   "name": "python",
   "nbconvert_exporter": "python",
   "pygments_lexer": "ipython2",
   "version": "2.7.6"
  }
 },
 "nbformat": 4,
 "nbformat_minor": 0
}