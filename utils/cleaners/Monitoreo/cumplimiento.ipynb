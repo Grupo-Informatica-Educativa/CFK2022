{
 "cells": [
  {
   "cell_type": "markdown",
   "source": [
    "### Monitoreo Consolidación:\n",
    "1. Porcentaje de cumplimiento de las actividades programadas para cada institución en el marco del proyecto"
   ],
   "metadata": {
    "collapsed": false,
    "pycharm": {
     "name": "#%% md\n"
    }
   }
  },
  {
   "cell_type": "code",
   "execution_count": 43,
   "outputs": [],
   "source": [
    "import pandas as pd\n",
    "import plotly.express as px"
   ],
   "metadata": {
    "collapsed": false,
    "pycharm": {
     "name": "#%%\n"
    }
   }
  },
  {
   "cell_type": "code",
   "execution_count": 81,
   "outputs": [
    {
     "data": {
      "text/plain": "                                    Source.Name Nombre Coordinadora  \\\n0    Reporte Coordinadora Fernanda Salcedo.xlsx    Fernanda Salcedo   \n1    Reporte Coordinadora Fernanda Salcedo.xlsx    Fernanda Salcedo   \n2    Reporte Coordinadora Fernanda Salcedo.xlsx    Fernanda Salcedo   \n3    Reporte Coordinadora Fernanda Salcedo.xlsx    Fernanda Salcedo   \n4    Reporte Coordinadora Fernanda Salcedo.xlsx    Fernanda Salcedo   \n..                                          ...                 ...   \n247   Reporte Coordinadora Viviana Verdeza.xlsx     Viviana Verdeza   \n248   Reporte Coordinadora Viviana Verdeza.xlsx     Viviana Verdeza   \n249   Reporte Coordinadora Viviana Verdeza.xlsx     Viviana Verdeza   \n250   Reporte Coordinadora Viviana Verdeza.xlsx     Viviana Verdeza   \n251   Reporte Coordinadora Viviana Verdeza.xlsx     Viviana Verdeza   \n\n                      Nombre mentor  Departamento IE  Municipio IE  \\\n0    Alejandra María Narváez Camayo  Valle del Cauca          CALI   \n1    Alejandra María Narváez Camayo  Valle del Cauca          CALI   \n2    Alejandra María Narváez Camayo  Valle del Cauca          CALI   \n3    Alejandra María Narváez Camayo  Valle del Cauca          CALI   \n4    Alejandra María Narváez Camayo  Valle del Cauca          CALI   \n..                              ...              ...           ...   \n247      Vilda Margarita Gómez Ruiz        Atlántico  BARRANQUILLA   \n248      Vilda Margarita Gómez Ruiz        Atlántico  BARRANQUILLA   \n249      Vilda Margarita Gómez Ruiz        Atlántico  BARRANQUILLA   \n250      Vilda Margarita Gómez Ruiz        Atlántico  BARRANQUILLA   \n251      Vilda Margarita Gómez Ruiz        Atlántico  BARRANQUILLA   \n\n                          Nombre Institución Educativa  Código DANE IE  \\\n0    INSTITUCION EDUCATIVA TECNICO INDUSTRIAL DONAL...    176001028970   \n1                 INSTITUCION ETNOEDUCATIVA SANTA ROSA    176001025946   \n2       INSTITUCION EDUCATIVA JUANA DE CAICEDO Y CUERO    176001004485   \n3                    INSTITUCION EDUCATIVA LA BUITRERA    276001005184   \n4              INSTITUCION EDUCATIVA INEM JORGE ISAACS    176001005813   \n..                                                 ...             ...   \n247  INSTITUCION EDUCATIVA ACADEMICA Y TECNICA - TU...    108372000169   \n248                ESCUELA NORMAL SUPERIOR LA HACIENDA    108001001821   \n249  INSTITUCION EDUCATIVA DISTRITAL SANTA MARIA - ...    108001078998   \n250  INSTITUCION EDUCATIVA DISTRITAL VILLAS DE SAN ...    108001800065   \n251  INSTITUCION EDUCATIVA DISTRITAL DE BARRANQUILL...    108001000824   \n\n     Código CFK IE Fecha de llamada inicial Hora primera llamada  ...  \\\n0                1               2022-04-05             08:58:00  ...   \n1                2               2022-04-05             09:01:00  ...   \n2                3               2022-04-05             09:17:00  ...   \n3                4               2022-04-05             09:20:00  ...   \n4                5               2022-04-05             03:30:00  ...   \n..             ...                      ...                  ...  ...   \n247            248               2022-05-10             03:26:00  ...   \n248            249               2022-04-11             09:31:00  ...   \n249            250               2022-04-12             11:57:00  ...   \n250            251               2022-04-11             10:12:00  ...   \n251            252               2022-04-11             09:24:00  ...   \n\n    Estado encuesta est avance tutor Estado Inv Infraes avance tutor  \\\n0                                  1                               1   \n1                                  1                               1   \n2                                  1                               1   \n3                                  1                               1   \n4                                  1                               1   \n..                               ...                             ...   \n247                                1                               1   \n248                                1                               1   \n249                                1                               1   \n250                                1                               1   \n251                                1                               1   \n\n    Estado entrev lider infor avance tutor Estado Obs aula avance tutor  \\\n0                                        1                            1   \n1                                        1                            1   \n2                                        1                            1   \n3                                        1                            1   \n4                                        1                            1   \n..                                     ...                          ...   \n247                                      1                            1   \n248                                      1                            1   \n249                                      1                            1   \n250                                      1                            1   \n251                                      1                            1   \n\n    Estado recolec doc avance tutor Unnamed: 74 Conteo Act. Realizadas  \\\n0                                 1         NaN                     11   \n1                                 1         NaN                     11   \n2                                 1         NaN                     11   \n3                                 1         NaN                     11   \n4                                 1         NaN                     11   \n..                              ...         ...                    ...   \n247                               1         NaN                     11   \n248                               1         NaN                     11   \n249                               1         NaN                     11   \n250                               1         NaN                     11   \n251                               1         NaN                     11   \n\n    M1 % de avance Visita 1 Visita 2  \n0         0.916667        0        0  \n1         0.916667        0        0  \n2         0.916667        0        0  \n3         0.916667        0        0  \n4         0.916667        0        0  \n..             ...      ...      ...  \n247       0.916667        0        0  \n248       0.916667        0        0  \n249       0.916667        0        0  \n250       0.916667        0        0  \n251       0.916667        0        0  \n\n[252 rows x 79 columns]",
      "text/html": "<div>\n<style scoped>\n    .dataframe tbody tr th:only-of-type {\n        vertical-align: middle;\n    }\n\n    .dataframe tbody tr th {\n        vertical-align: top;\n    }\n\n    .dataframe thead th {\n        text-align: right;\n    }\n</style>\n<table border=\"1\" class=\"dataframe\">\n  <thead>\n    <tr style=\"text-align: right;\">\n      <th></th>\n      <th>Source.Name</th>\n      <th>Nombre Coordinadora</th>\n      <th>Nombre mentor</th>\n      <th>Departamento IE</th>\n      <th>Municipio IE</th>\n      <th>Nombre Institución Educativa</th>\n      <th>Código DANE IE</th>\n      <th>Código CFK IE</th>\n      <th>Fecha de llamada inicial</th>\n      <th>Hora primera llamada</th>\n      <th>...</th>\n      <th>Estado encuesta est avance tutor</th>\n      <th>Estado Inv Infraes avance tutor</th>\n      <th>Estado entrev lider infor avance tutor</th>\n      <th>Estado Obs aula avance tutor</th>\n      <th>Estado recolec doc avance tutor</th>\n      <th>Unnamed: 74</th>\n      <th>Conteo Act. Realizadas</th>\n      <th>M1 % de avance</th>\n      <th>Visita 1</th>\n      <th>Visita 2</th>\n    </tr>\n  </thead>\n  <tbody>\n    <tr>\n      <th>0</th>\n      <td>Reporte Coordinadora Fernanda Salcedo.xlsx</td>\n      <td>Fernanda Salcedo</td>\n      <td>Alejandra María Narváez Camayo</td>\n      <td>Valle del Cauca</td>\n      <td>CALI</td>\n      <td>INSTITUCION EDUCATIVA TECNICO INDUSTRIAL DONAL...</td>\n      <td>176001028970</td>\n      <td>1</td>\n      <td>2022-04-05</td>\n      <td>08:58:00</td>\n      <td>...</td>\n      <td>1</td>\n      <td>1</td>\n      <td>1</td>\n      <td>1</td>\n      <td>1</td>\n      <td>NaN</td>\n      <td>11</td>\n      <td>0.916667</td>\n      <td>0</td>\n      <td>0</td>\n    </tr>\n    <tr>\n      <th>1</th>\n      <td>Reporte Coordinadora Fernanda Salcedo.xlsx</td>\n      <td>Fernanda Salcedo</td>\n      <td>Alejandra María Narváez Camayo</td>\n      <td>Valle del Cauca</td>\n      <td>CALI</td>\n      <td>INSTITUCION ETNOEDUCATIVA SANTA ROSA</td>\n      <td>176001025946</td>\n      <td>2</td>\n      <td>2022-04-05</td>\n      <td>09:01:00</td>\n      <td>...</td>\n      <td>1</td>\n      <td>1</td>\n      <td>1</td>\n      <td>1</td>\n      <td>1</td>\n      <td>NaN</td>\n      <td>11</td>\n      <td>0.916667</td>\n      <td>0</td>\n      <td>0</td>\n    </tr>\n    <tr>\n      <th>2</th>\n      <td>Reporte Coordinadora Fernanda Salcedo.xlsx</td>\n      <td>Fernanda Salcedo</td>\n      <td>Alejandra María Narváez Camayo</td>\n      <td>Valle del Cauca</td>\n      <td>CALI</td>\n      <td>INSTITUCION EDUCATIVA JUANA DE CAICEDO Y CUERO</td>\n      <td>176001004485</td>\n      <td>3</td>\n      <td>2022-04-05</td>\n      <td>09:17:00</td>\n      <td>...</td>\n      <td>1</td>\n      <td>1</td>\n      <td>1</td>\n      <td>1</td>\n      <td>1</td>\n      <td>NaN</td>\n      <td>11</td>\n      <td>0.916667</td>\n      <td>0</td>\n      <td>0</td>\n    </tr>\n    <tr>\n      <th>3</th>\n      <td>Reporte Coordinadora Fernanda Salcedo.xlsx</td>\n      <td>Fernanda Salcedo</td>\n      <td>Alejandra María Narváez Camayo</td>\n      <td>Valle del Cauca</td>\n      <td>CALI</td>\n      <td>INSTITUCION EDUCATIVA LA BUITRERA</td>\n      <td>276001005184</td>\n      <td>4</td>\n      <td>2022-04-05</td>\n      <td>09:20:00</td>\n      <td>...</td>\n      <td>1</td>\n      <td>1</td>\n      <td>1</td>\n      <td>1</td>\n      <td>1</td>\n      <td>NaN</td>\n      <td>11</td>\n      <td>0.916667</td>\n      <td>0</td>\n      <td>0</td>\n    </tr>\n    <tr>\n      <th>4</th>\n      <td>Reporte Coordinadora Fernanda Salcedo.xlsx</td>\n      <td>Fernanda Salcedo</td>\n      <td>Alejandra María Narváez Camayo</td>\n      <td>Valle del Cauca</td>\n      <td>CALI</td>\n      <td>INSTITUCION EDUCATIVA INEM JORGE ISAACS</td>\n      <td>176001005813</td>\n      <td>5</td>\n      <td>2022-04-05</td>\n      <td>03:30:00</td>\n      <td>...</td>\n      <td>1</td>\n      <td>1</td>\n      <td>1</td>\n      <td>1</td>\n      <td>1</td>\n      <td>NaN</td>\n      <td>11</td>\n      <td>0.916667</td>\n      <td>0</td>\n      <td>0</td>\n    </tr>\n    <tr>\n      <th>...</th>\n      <td>...</td>\n      <td>...</td>\n      <td>...</td>\n      <td>...</td>\n      <td>...</td>\n      <td>...</td>\n      <td>...</td>\n      <td>...</td>\n      <td>...</td>\n      <td>...</td>\n      <td>...</td>\n      <td>...</td>\n      <td>...</td>\n      <td>...</td>\n      <td>...</td>\n      <td>...</td>\n      <td>...</td>\n      <td>...</td>\n      <td>...</td>\n      <td>...</td>\n      <td>...</td>\n    </tr>\n    <tr>\n      <th>247</th>\n      <td>Reporte Coordinadora Viviana Verdeza.xlsx</td>\n      <td>Viviana Verdeza</td>\n      <td>Vilda Margarita Gómez Ruiz</td>\n      <td>Atlántico</td>\n      <td>BARRANQUILLA</td>\n      <td>INSTITUCION EDUCATIVA ACADEMICA Y TECNICA - TU...</td>\n      <td>108372000169</td>\n      <td>248</td>\n      <td>2022-05-10</td>\n      <td>03:26:00</td>\n      <td>...</td>\n      <td>1</td>\n      <td>1</td>\n      <td>1</td>\n      <td>1</td>\n      <td>1</td>\n      <td>NaN</td>\n      <td>11</td>\n      <td>0.916667</td>\n      <td>0</td>\n      <td>0</td>\n    </tr>\n    <tr>\n      <th>248</th>\n      <td>Reporte Coordinadora Viviana Verdeza.xlsx</td>\n      <td>Viviana Verdeza</td>\n      <td>Vilda Margarita Gómez Ruiz</td>\n      <td>Atlántico</td>\n      <td>BARRANQUILLA</td>\n      <td>ESCUELA NORMAL SUPERIOR LA HACIENDA</td>\n      <td>108001001821</td>\n      <td>249</td>\n      <td>2022-04-11</td>\n      <td>09:31:00</td>\n      <td>...</td>\n      <td>1</td>\n      <td>1</td>\n      <td>1</td>\n      <td>1</td>\n      <td>1</td>\n      <td>NaN</td>\n      <td>11</td>\n      <td>0.916667</td>\n      <td>0</td>\n      <td>0</td>\n    </tr>\n    <tr>\n      <th>249</th>\n      <td>Reporte Coordinadora Viviana Verdeza.xlsx</td>\n      <td>Viviana Verdeza</td>\n      <td>Vilda Margarita Gómez Ruiz</td>\n      <td>Atlántico</td>\n      <td>BARRANQUILLA</td>\n      <td>INSTITUCION EDUCATIVA DISTRITAL SANTA MARIA - ...</td>\n      <td>108001078998</td>\n      <td>250</td>\n      <td>2022-04-12</td>\n      <td>11:57:00</td>\n      <td>...</td>\n      <td>1</td>\n      <td>1</td>\n      <td>1</td>\n      <td>1</td>\n      <td>1</td>\n      <td>NaN</td>\n      <td>11</td>\n      <td>0.916667</td>\n      <td>0</td>\n      <td>0</td>\n    </tr>\n    <tr>\n      <th>250</th>\n      <td>Reporte Coordinadora Viviana Verdeza.xlsx</td>\n      <td>Viviana Verdeza</td>\n      <td>Vilda Margarita Gómez Ruiz</td>\n      <td>Atlántico</td>\n      <td>BARRANQUILLA</td>\n      <td>INSTITUCION EDUCATIVA DISTRITAL VILLAS DE SAN ...</td>\n      <td>108001800065</td>\n      <td>251</td>\n      <td>2022-04-11</td>\n      <td>10:12:00</td>\n      <td>...</td>\n      <td>1</td>\n      <td>1</td>\n      <td>1</td>\n      <td>1</td>\n      <td>1</td>\n      <td>NaN</td>\n      <td>11</td>\n      <td>0.916667</td>\n      <td>0</td>\n      <td>0</td>\n    </tr>\n    <tr>\n      <th>251</th>\n      <td>Reporte Coordinadora Viviana Verdeza.xlsx</td>\n      <td>Viviana Verdeza</td>\n      <td>Vilda Margarita Gómez Ruiz</td>\n      <td>Atlántico</td>\n      <td>BARRANQUILLA</td>\n      <td>INSTITUCION EDUCATIVA DISTRITAL DE BARRANQUILL...</td>\n      <td>108001000824</td>\n      <td>252</td>\n      <td>2022-04-11</td>\n      <td>09:24:00</td>\n      <td>...</td>\n      <td>1</td>\n      <td>1</td>\n      <td>1</td>\n      <td>1</td>\n      <td>1</td>\n      <td>NaN</td>\n      <td>11</td>\n      <td>0.916667</td>\n      <td>0</td>\n      <td>0</td>\n    </tr>\n  </tbody>\n</table>\n<p>252 rows × 79 columns</p>\n</div>"
     },
     "execution_count": 81,
     "metadata": {},
     "output_type": "execute_result"
    }
   ],
   "source": [
    "tablero = pd.read_excel(\"Tablero de control Consolidación CFK 22-06-2022.xlsx\")\n",
    "tablero"
   ],
   "metadata": {
    "collapsed": false,
    "pycharm": {
     "name": "#%%\n"
    }
   }
  },
  {
   "cell_type": "code",
   "execution_count": 82,
   "outputs": [
    {
     "data": {
      "text/plain": "['Source.Name',\n 'Nombre Coordinadora',\n 'Nombre mentor',\n 'Departamento IE',\n 'Municipio IE',\n 'Nombre Institución Educativa',\n 'Código DANE IE',\n 'Código CFK IE',\n 'Fecha de llamada inicial',\n 'Hora primera llamada',\n 'Estado llamada',\n 'Observaciones Llamada',\n 'Fecha Visita Día 1',\n 'Fecha Visita Día 2',\n 'Observaciones Días de Visita',\n 'Fecha Reu Inicial Directivos',\n 'Estado RID',\n 'Encuesta Directivos',\n 'Estado Encuesta Directivos',\n 'PPT Programa a Directivos',\n 'Estado PPT Programa Directivos',\n 'PPT Programa Docentes',\n 'Estado PPT Programa Docentes',\n 'Encuesta Docentes',\n 'Estado Encuesta Docentes',\n 'Taller PC Docentes',\n 'Estado Taller PC Docentes',\n 'Encuesta Estudiantes',\n 'Estado Encuesta Estudiantes',\n 'Inventario Infraestructura Tecnológica',\n 'Estado Infraestructura',\n 'Entrevista Líder de Área Informática',\n 'Estado Entrevista Líder Área Informática',\n 'Observación de Aula',\n 'Estado Obs Aula',\n 'Recolección Documental',\n 'Estado Recolección Documental',\n 'Estado Informe Final E27',\n 'Last Modified By',\n 'Last Modified',\n 'Enlace Drive Evidencias MI',\n '4. Acta de visita 1',\n 'Vo Coor. 4. Acta Visita 1',\n '4.1 Registro Fotográfico',\n 'Vo Coor. 4.1 Registro Foto',\n '5. Entrevista Líder',\n 'Vo Coor. 5. Entrevista Líder',\n '6. N° Aplicación Cuestionario Estudiantes',\n 'Vo Coor. 6. N° Aplicación Cuestionario Estudiantes',\n '8. N° Aplicación Cuestionario Docentes',\n 'Vo Coor. 8. N° Aplicación Cuestionario Docentes',\n '11. Aplicación Encuesta Directivos',\n 'Vo Coor. 11. Aplicación Encuesta Directivos',\n 'Registro Plan de Área',\n 'Vo Coor. Registro Plan de Área',\n 'Informe Final Visita E27',\n 'Vo Coor. Informe E27',\n 'Observaciones Coord.',\n 'Check Mentores',\n 'Fecha Check Mentor',\n 'Check Coord',\n 'Fecha Check coor',\n 'Estado llamada avance tutor',\n 'Estado RID avance tutor',\n 'Estado Encuesta direc avance tutor',\n 'Estado PPT prog a dir avance tutor',\n 'Estado PPT prog a docen avance tutor2',\n 'Estado encuesta docentes avance tutor',\n 'Estado Taller PC Doc avance tutor',\n 'Estado encuesta est avance tutor',\n 'Estado Inv Infraes avance tutor',\n 'Estado entrev lider infor avance tutor',\n 'Estado Obs aula avance tutor',\n 'Estado recolec doc avance tutor',\n 'Unnamed: 74',\n 'Conteo Act. Realizadas',\n 'M1 % de avance',\n 'Visita 1',\n 'Visita 2']"
     },
     "execution_count": 82,
     "metadata": {},
     "output_type": "execute_result"
    }
   ],
   "source": [
    "tablero.columns.tolist()"
   ],
   "metadata": {
    "collapsed": false,
    "pycharm": {
     "name": "#%%\n"
    }
   }
  },
  {
   "cell_type": "code",
   "execution_count": 83,
   "outputs": [
    {
     "name": "stdout",
     "output_type": "stream",
     "text": [
      "25\n"
     ]
    },
    {
     "data": {
      "text/plain": "['Estado llamada',\n 'Estado RID',\n 'Estado Encuesta Directivos',\n 'Estado PPT Programa Directivos',\n 'Estado PPT Programa Docentes',\n 'Estado Encuesta Docentes',\n 'Estado Taller PC Docentes',\n 'Estado Encuesta Estudiantes',\n 'Estado Infraestructura',\n 'Estado Entrevista Líder Área Informática',\n 'Estado Obs Aula',\n 'Estado Recolección Documental',\n 'Estado Informe Final E27']"
     },
     "execution_count": 83,
     "metadata": {},
     "output_type": "execute_result"
    }
   ],
   "source": [
    "print(len(tablero.filter(regex=\"^Estado*\").columns.tolist()))\n",
    "tablero.filter(regex=\"^Estado ((?!tutor).)*$\").columns.tolist()"
   ],
   "metadata": {
    "collapsed": false,
    "pycharm": {
     "name": "#%%\n"
    }
   }
  },
  {
   "cell_type": "code",
   "execution_count": 84,
   "outputs": [],
   "source": [
    "cols_ie = ['Departamento IE', 'Municipio IE', 'Nombre Institución Educativa', 'Código DANE IE', 'Código CFK IE']\n",
    "cols_visitas = ['Fecha Visita Día 1', 'Fecha Visita Día 2']\n",
    "cols_act = [ 'Estado RID', 'Estado Encuesta Directivos', 'Estado PPT Programa Directivos', 'Estado PPT Programa Docentes', 'Estado Encuesta Docentes', 'Estado Taller PC Docentes', 'Estado Encuesta Estudiantes', 'Estado Infraestructura', 'Estado Entrevista Líder Área Informática', 'Estado Obs Aula', 'Estado Recolección Documental']\n"
   ],
   "metadata": {
    "collapsed": false,
    "pycharm": {
     "name": "#%%\n"
    }
   }
  },
  {
   "cell_type": "code",
   "execution_count": 85,
   "outputs": [
    {
     "data": {
      "text/plain": "     Departamento IE  Municipio IE  \\\n0    Valle del Cauca          CALI   \n1    Valle del Cauca          CALI   \n2    Valle del Cauca          CALI   \n3    Valle del Cauca          CALI   \n4    Valle del Cauca          CALI   \n..               ...           ...   \n247        Atlántico  BARRANQUILLA   \n248        Atlántico  BARRANQUILLA   \n249        Atlántico  BARRANQUILLA   \n250        Atlántico  BARRANQUILLA   \n251        Atlántico  BARRANQUILLA   \n\n                          Nombre Institución Educativa  Código DANE IE  \\\n0    INSTITUCION EDUCATIVA TECNICO INDUSTRIAL DONAL...    176001028970   \n1                 INSTITUCION ETNOEDUCATIVA SANTA ROSA    176001025946   \n2       INSTITUCION EDUCATIVA JUANA DE CAICEDO Y CUERO    176001004485   \n3                    INSTITUCION EDUCATIVA LA BUITRERA    276001005184   \n4              INSTITUCION EDUCATIVA INEM JORGE ISAACS    176001005813   \n..                                                 ...             ...   \n247  INSTITUCION EDUCATIVA ACADEMICA Y TECNICA - TU...    108372000169   \n248                ESCUELA NORMAL SUPERIOR LA HACIENDA    108001001821   \n249  INSTITUCION EDUCATIVA DISTRITAL SANTA MARIA - ...    108001078998   \n250  INSTITUCION EDUCATIVA DISTRITAL VILLAS DE SAN ...    108001800065   \n251  INSTITUCION EDUCATIVA DISTRITAL DE BARRANQUILL...    108001000824   \n\n     Código CFK IE  Fecha Visita Día 1  Fecha Visita Día 2 Estado RID  \\\n0                1                   1                   1  Realizada   \n1                2                   1                   1  Realizada   \n2                3                   1                   1  Realizada   \n3                4                   1                   1  Realizada   \n4                5                   1                   1  Realizada   \n..             ...                 ...                 ...        ...   \n247            248                   1                   1  Realizada   \n248            249                   1                   1  Realizada   \n249            250                   1                   1  Realizada   \n250            251                   1                   1  Realizada   \n251            252                   1                   1  Realizada   \n\n    Estado Encuesta Directivos Estado PPT Programa Directivos  \\\n0                    Realizada                      Realizada   \n1                    Realizada                      Realizada   \n2                    Realizada                      Realizada   \n3                    Realizada                      Realizada   \n4                    Realizada                      Realizada   \n..                         ...                            ...   \n247                  Realizada                      Realizada   \n248                  Realizada                      Realizada   \n249                  Realizada                      Realizada   \n250                  Realizada                      Realizada   \n251                  Realizada                      Realizada   \n\n    Estado PPT Programa Docentes Estado Encuesta Docentes  \\\n0                      Realizada                Realizada   \n1                      Realizada                Realizada   \n2                      Realizada                Realizada   \n3                      Realizada                Realizada   \n4                      Realizada                Realizada   \n..                           ...                      ...   \n247                    Realizada                Realizada   \n248                    Realizada                Realizada   \n249                    Realizada                Realizada   \n250                    Realizada                Realizada   \n251                    Realizada                Realizada   \n\n    Estado Taller PC Docentes Estado Encuesta Estudiantes  \\\n0                   Realizada                   Realizada   \n1                   Realizada                   Realizada   \n2                   Realizada                   Realizada   \n3                   Realizada                   Realizada   \n4                   Realizada                   Realizada   \n..                        ...                         ...   \n247                 Realizada                   Realizada   \n248                 Realizada                   Realizada   \n249                 Realizada                   Realizada   \n250                 Realizada                   Realizada   \n251                 Realizada                   Realizada   \n\n    Estado Infraestructura Estado Entrevista Líder Área Informática  \\\n0                Realizada                                Realizada   \n1                Realizada                                Realizada   \n2                Realizada                                Realizada   \n3                Realizada                                Realizada   \n4                Realizada                                Realizada   \n..                     ...                                      ...   \n247              Realizada                                Realizada   \n248              Realizada                                Realizada   \n249              Realizada                                Realizada   \n250              Realizada                                Realizada   \n251              Realizada                                Realizada   \n\n      Estado Obs Aula Estado Recolección Documental  Cantidad visitas  \n0    No aplica fichas                     Realizada                 2  \n1    No aplica fichas                     Realizada                 2  \n2    No aplica fichas                     Realizada                 2  \n3    No aplica fichas                     Realizada                 2  \n4    No aplica fichas                     Realizada                 2  \n..                ...                           ...               ...  \n247  No aplica fichas                     Realizada                 2  \n248  No aplica fichas                     Realizada                 2  \n249  No aplica fichas                     Realizada                 2  \n250  No aplica fichas                     Realizada                 2  \n251  No aplica fichas                     Realizada                 2  \n\n[252 rows x 19 columns]",
      "text/html": "<div>\n<style scoped>\n    .dataframe tbody tr th:only-of-type {\n        vertical-align: middle;\n    }\n\n    .dataframe tbody tr th {\n        vertical-align: top;\n    }\n\n    .dataframe thead th {\n        text-align: right;\n    }\n</style>\n<table border=\"1\" class=\"dataframe\">\n  <thead>\n    <tr style=\"text-align: right;\">\n      <th></th>\n      <th>Departamento IE</th>\n      <th>Municipio IE</th>\n      <th>Nombre Institución Educativa</th>\n      <th>Código DANE IE</th>\n      <th>Código CFK IE</th>\n      <th>Fecha Visita Día 1</th>\n      <th>Fecha Visita Día 2</th>\n      <th>Estado RID</th>\n      <th>Estado Encuesta Directivos</th>\n      <th>Estado PPT Programa Directivos</th>\n      <th>Estado PPT Programa Docentes</th>\n      <th>Estado Encuesta Docentes</th>\n      <th>Estado Taller PC Docentes</th>\n      <th>Estado Encuesta Estudiantes</th>\n      <th>Estado Infraestructura</th>\n      <th>Estado Entrevista Líder Área Informática</th>\n      <th>Estado Obs Aula</th>\n      <th>Estado Recolección Documental</th>\n      <th>Cantidad visitas</th>\n    </tr>\n  </thead>\n  <tbody>\n    <tr>\n      <th>0</th>\n      <td>Valle del Cauca</td>\n      <td>CALI</td>\n      <td>INSTITUCION EDUCATIVA TECNICO INDUSTRIAL DONAL...</td>\n      <td>176001028970</td>\n      <td>1</td>\n      <td>1</td>\n      <td>1</td>\n      <td>Realizada</td>\n      <td>Realizada</td>\n      <td>Realizada</td>\n      <td>Realizada</td>\n      <td>Realizada</td>\n      <td>Realizada</td>\n      <td>Realizada</td>\n      <td>Realizada</td>\n      <td>Realizada</td>\n      <td>No aplica fichas</td>\n      <td>Realizada</td>\n      <td>2</td>\n    </tr>\n    <tr>\n      <th>1</th>\n      <td>Valle del Cauca</td>\n      <td>CALI</td>\n      <td>INSTITUCION ETNOEDUCATIVA SANTA ROSA</td>\n      <td>176001025946</td>\n      <td>2</td>\n      <td>1</td>\n      <td>1</td>\n      <td>Realizada</td>\n      <td>Realizada</td>\n      <td>Realizada</td>\n      <td>Realizada</td>\n      <td>Realizada</td>\n      <td>Realizada</td>\n      <td>Realizada</td>\n      <td>Realizada</td>\n      <td>Realizada</td>\n      <td>No aplica fichas</td>\n      <td>Realizada</td>\n      <td>2</td>\n    </tr>\n    <tr>\n      <th>2</th>\n      <td>Valle del Cauca</td>\n      <td>CALI</td>\n      <td>INSTITUCION EDUCATIVA JUANA DE CAICEDO Y CUERO</td>\n      <td>176001004485</td>\n      <td>3</td>\n      <td>1</td>\n      <td>1</td>\n      <td>Realizada</td>\n      <td>Realizada</td>\n      <td>Realizada</td>\n      <td>Realizada</td>\n      <td>Realizada</td>\n      <td>Realizada</td>\n      <td>Realizada</td>\n      <td>Realizada</td>\n      <td>Realizada</td>\n      <td>No aplica fichas</td>\n      <td>Realizada</td>\n      <td>2</td>\n    </tr>\n    <tr>\n      <th>3</th>\n      <td>Valle del Cauca</td>\n      <td>CALI</td>\n      <td>INSTITUCION EDUCATIVA LA BUITRERA</td>\n      <td>276001005184</td>\n      <td>4</td>\n      <td>1</td>\n      <td>1</td>\n      <td>Realizada</td>\n      <td>Realizada</td>\n      <td>Realizada</td>\n      <td>Realizada</td>\n      <td>Realizada</td>\n      <td>Realizada</td>\n      <td>Realizada</td>\n      <td>Realizada</td>\n      <td>Realizada</td>\n      <td>No aplica fichas</td>\n      <td>Realizada</td>\n      <td>2</td>\n    </tr>\n    <tr>\n      <th>4</th>\n      <td>Valle del Cauca</td>\n      <td>CALI</td>\n      <td>INSTITUCION EDUCATIVA INEM JORGE ISAACS</td>\n      <td>176001005813</td>\n      <td>5</td>\n      <td>1</td>\n      <td>1</td>\n      <td>Realizada</td>\n      <td>Realizada</td>\n      <td>Realizada</td>\n      <td>Realizada</td>\n      <td>Realizada</td>\n      <td>Realizada</td>\n      <td>Realizada</td>\n      <td>Realizada</td>\n      <td>Realizada</td>\n      <td>No aplica fichas</td>\n      <td>Realizada</td>\n      <td>2</td>\n    </tr>\n    <tr>\n      <th>...</th>\n      <td>...</td>\n      <td>...</td>\n      <td>...</td>\n      <td>...</td>\n      <td>...</td>\n      <td>...</td>\n      <td>...</td>\n      <td>...</td>\n      <td>...</td>\n      <td>...</td>\n      <td>...</td>\n      <td>...</td>\n      <td>...</td>\n      <td>...</td>\n      <td>...</td>\n      <td>...</td>\n      <td>...</td>\n      <td>...</td>\n      <td>...</td>\n    </tr>\n    <tr>\n      <th>247</th>\n      <td>Atlántico</td>\n      <td>BARRANQUILLA</td>\n      <td>INSTITUCION EDUCATIVA ACADEMICA Y TECNICA - TU...</td>\n      <td>108372000169</td>\n      <td>248</td>\n      <td>1</td>\n      <td>1</td>\n      <td>Realizada</td>\n      <td>Realizada</td>\n      <td>Realizada</td>\n      <td>Realizada</td>\n      <td>Realizada</td>\n      <td>Realizada</td>\n      <td>Realizada</td>\n      <td>Realizada</td>\n      <td>Realizada</td>\n      <td>No aplica fichas</td>\n      <td>Realizada</td>\n      <td>2</td>\n    </tr>\n    <tr>\n      <th>248</th>\n      <td>Atlántico</td>\n      <td>BARRANQUILLA</td>\n      <td>ESCUELA NORMAL SUPERIOR LA HACIENDA</td>\n      <td>108001001821</td>\n      <td>249</td>\n      <td>1</td>\n      <td>1</td>\n      <td>Realizada</td>\n      <td>Realizada</td>\n      <td>Realizada</td>\n      <td>Realizada</td>\n      <td>Realizada</td>\n      <td>Realizada</td>\n      <td>Realizada</td>\n      <td>Realizada</td>\n      <td>Realizada</td>\n      <td>No aplica fichas</td>\n      <td>Realizada</td>\n      <td>2</td>\n    </tr>\n    <tr>\n      <th>249</th>\n      <td>Atlántico</td>\n      <td>BARRANQUILLA</td>\n      <td>INSTITUCION EDUCATIVA DISTRITAL SANTA MARIA - ...</td>\n      <td>108001078998</td>\n      <td>250</td>\n      <td>1</td>\n      <td>1</td>\n      <td>Realizada</td>\n      <td>Realizada</td>\n      <td>Realizada</td>\n      <td>Realizada</td>\n      <td>Realizada</td>\n      <td>Realizada</td>\n      <td>Realizada</td>\n      <td>Realizada</td>\n      <td>Realizada</td>\n      <td>No aplica fichas</td>\n      <td>Realizada</td>\n      <td>2</td>\n    </tr>\n    <tr>\n      <th>250</th>\n      <td>Atlántico</td>\n      <td>BARRANQUILLA</td>\n      <td>INSTITUCION EDUCATIVA DISTRITAL VILLAS DE SAN ...</td>\n      <td>108001800065</td>\n      <td>251</td>\n      <td>1</td>\n      <td>1</td>\n      <td>Realizada</td>\n      <td>Realizada</td>\n      <td>Realizada</td>\n      <td>Realizada</td>\n      <td>Realizada</td>\n      <td>Realizada</td>\n      <td>Realizada</td>\n      <td>Realizada</td>\n      <td>Realizada</td>\n      <td>No aplica fichas</td>\n      <td>Realizada</td>\n      <td>2</td>\n    </tr>\n    <tr>\n      <th>251</th>\n      <td>Atlántico</td>\n      <td>BARRANQUILLA</td>\n      <td>INSTITUCION EDUCATIVA DISTRITAL DE BARRANQUILL...</td>\n      <td>108001000824</td>\n      <td>252</td>\n      <td>1</td>\n      <td>1</td>\n      <td>Realizada</td>\n      <td>Realizada</td>\n      <td>Realizada</td>\n      <td>Realizada</td>\n      <td>Realizada</td>\n      <td>Realizada</td>\n      <td>Realizada</td>\n      <td>Realizada</td>\n      <td>Realizada</td>\n      <td>No aplica fichas</td>\n      <td>Realizada</td>\n      <td>2</td>\n    </tr>\n  </tbody>\n</table>\n<p>252 rows × 19 columns</p>\n</div>"
     },
     "execution_count": 85,
     "metadata": {},
     "output_type": "execute_result"
    }
   ],
   "source": [
    "visitas = tablero.loc[:,cols_ie+cols_visitas+cols_act].copy()\n",
    "visitas[cols_visitas] = 1*(~visitas[cols_visitas].isna())\n",
    "visitas['Cantidad visitas'] = visitas[cols_visitas].sum(axis=1)\n",
    "\n",
    "visitas['Estado Obs Aula'] = visitas['Estado Obs Aula'].str.capitalize()\n",
    "visitas"
   ],
   "metadata": {
    "collapsed": false,
    "pycharm": {
     "name": "#%%\n"
    }
   }
  },
  {
   "cell_type": "code",
   "execution_count": 86,
   "outputs": [
    {
     "data": {
      "application/vnd.plotly.v1+json": {
       "data": [
        {
         "alignmentgroup": "True",
         "hovertemplate": "Cantidad visitas=%{x}<br>Frecuencia=%{y}<extra></extra>",
         "legendgroup": "",
         "marker": {
          "color": "#636efa",
          "pattern": {
           "shape": ""
          }
         },
         "name": "",
         "offsetgroup": "",
         "orientation": "v",
         "showlegend": false,
         "textposition": "auto",
         "x": [
          0,
          1,
          2
         ],
         "xaxis": "x",
         "y": [
          0.003968253968253968,
          0.03571428571428571,
          0.9603174603174603
         ],
         "yaxis": "y",
         "type": "bar"
        }
       ],
       "layout": {
        "template": {
         "data": {
          "histogram2dcontour": [
           {
            "type": "histogram2dcontour",
            "colorbar": {
             "outlinewidth": 0,
             "ticks": ""
            },
            "colorscale": [
             [
              0.0,
              "#0d0887"
             ],
             [
              0.1111111111111111,
              "#46039f"
             ],
             [
              0.2222222222222222,
              "#7201a8"
             ],
             [
              0.3333333333333333,
              "#9c179e"
             ],
             [
              0.4444444444444444,
              "#bd3786"
             ],
             [
              0.5555555555555556,
              "#d8576b"
             ],
             [
              0.6666666666666666,
              "#ed7953"
             ],
             [
              0.7777777777777778,
              "#fb9f3a"
             ],
             [
              0.8888888888888888,
              "#fdca26"
             ],
             [
              1.0,
              "#f0f921"
             ]
            ]
           }
          ],
          "choropleth": [
           {
            "type": "choropleth",
            "colorbar": {
             "outlinewidth": 0,
             "ticks": ""
            }
           }
          ],
          "histogram2d": [
           {
            "type": "histogram2d",
            "colorbar": {
             "outlinewidth": 0,
             "ticks": ""
            },
            "colorscale": [
             [
              0.0,
              "#0d0887"
             ],
             [
              0.1111111111111111,
              "#46039f"
             ],
             [
              0.2222222222222222,
              "#7201a8"
             ],
             [
              0.3333333333333333,
              "#9c179e"
             ],
             [
              0.4444444444444444,
              "#bd3786"
             ],
             [
              0.5555555555555556,
              "#d8576b"
             ],
             [
              0.6666666666666666,
              "#ed7953"
             ],
             [
              0.7777777777777778,
              "#fb9f3a"
             ],
             [
              0.8888888888888888,
              "#fdca26"
             ],
             [
              1.0,
              "#f0f921"
             ]
            ]
           }
          ],
          "heatmap": [
           {
            "type": "heatmap",
            "colorbar": {
             "outlinewidth": 0,
             "ticks": ""
            },
            "colorscale": [
             [
              0.0,
              "#0d0887"
             ],
             [
              0.1111111111111111,
              "#46039f"
             ],
             [
              0.2222222222222222,
              "#7201a8"
             ],
             [
              0.3333333333333333,
              "#9c179e"
             ],
             [
              0.4444444444444444,
              "#bd3786"
             ],
             [
              0.5555555555555556,
              "#d8576b"
             ],
             [
              0.6666666666666666,
              "#ed7953"
             ],
             [
              0.7777777777777778,
              "#fb9f3a"
             ],
             [
              0.8888888888888888,
              "#fdca26"
             ],
             [
              1.0,
              "#f0f921"
             ]
            ]
           }
          ],
          "heatmapgl": [
           {
            "type": "heatmapgl",
            "colorbar": {
             "outlinewidth": 0,
             "ticks": ""
            },
            "colorscale": [
             [
              0.0,
              "#0d0887"
             ],
             [
              0.1111111111111111,
              "#46039f"
             ],
             [
              0.2222222222222222,
              "#7201a8"
             ],
             [
              0.3333333333333333,
              "#9c179e"
             ],
             [
              0.4444444444444444,
              "#bd3786"
             ],
             [
              0.5555555555555556,
              "#d8576b"
             ],
             [
              0.6666666666666666,
              "#ed7953"
             ],
             [
              0.7777777777777778,
              "#fb9f3a"
             ],
             [
              0.8888888888888888,
              "#fdca26"
             ],
             [
              1.0,
              "#f0f921"
             ]
            ]
           }
          ],
          "contourcarpet": [
           {
            "type": "contourcarpet",
            "colorbar": {
             "outlinewidth": 0,
             "ticks": ""
            }
           }
          ],
          "contour": [
           {
            "type": "contour",
            "colorbar": {
             "outlinewidth": 0,
             "ticks": ""
            },
            "colorscale": [
             [
              0.0,
              "#0d0887"
             ],
             [
              0.1111111111111111,
              "#46039f"
             ],
             [
              0.2222222222222222,
              "#7201a8"
             ],
             [
              0.3333333333333333,
              "#9c179e"
             ],
             [
              0.4444444444444444,
              "#bd3786"
             ],
             [
              0.5555555555555556,
              "#d8576b"
             ],
             [
              0.6666666666666666,
              "#ed7953"
             ],
             [
              0.7777777777777778,
              "#fb9f3a"
             ],
             [
              0.8888888888888888,
              "#fdca26"
             ],
             [
              1.0,
              "#f0f921"
             ]
            ]
           }
          ],
          "surface": [
           {
            "type": "surface",
            "colorbar": {
             "outlinewidth": 0,
             "ticks": ""
            },
            "colorscale": [
             [
              0.0,
              "#0d0887"
             ],
             [
              0.1111111111111111,
              "#46039f"
             ],
             [
              0.2222222222222222,
              "#7201a8"
             ],
             [
              0.3333333333333333,
              "#9c179e"
             ],
             [
              0.4444444444444444,
              "#bd3786"
             ],
             [
              0.5555555555555556,
              "#d8576b"
             ],
             [
              0.6666666666666666,
              "#ed7953"
             ],
             [
              0.7777777777777778,
              "#fb9f3a"
             ],
             [
              0.8888888888888888,
              "#fdca26"
             ],
             [
              1.0,
              "#f0f921"
             ]
            ]
           }
          ],
          "mesh3d": [
           {
            "type": "mesh3d",
            "colorbar": {
             "outlinewidth": 0,
             "ticks": ""
            }
           }
          ],
          "scatter": [
           {
            "marker": {
             "line": {
              "color": "#283442"
             }
            },
            "type": "scatter"
           }
          ],
          "parcoords": [
           {
            "type": "parcoords",
            "line": {
             "colorbar": {
              "outlinewidth": 0,
              "ticks": ""
             }
            }
           }
          ],
          "scatterpolargl": [
           {
            "type": "scatterpolargl",
            "marker": {
             "colorbar": {
              "outlinewidth": 0,
              "ticks": ""
             }
            }
           }
          ],
          "bar": [
           {
            "error_x": {
             "color": "#f2f5fa"
            },
            "error_y": {
             "color": "#f2f5fa"
            },
            "marker": {
             "line": {
              "color": "rgb(17,17,17)",
              "width": 0.5
             },
             "pattern": {
              "fillmode": "overlay",
              "size": 10,
              "solidity": 0.2
             }
            },
            "type": "bar"
           }
          ],
          "scattergeo": [
           {
            "type": "scattergeo",
            "marker": {
             "colorbar": {
              "outlinewidth": 0,
              "ticks": ""
             }
            }
           }
          ],
          "scatterpolar": [
           {
            "type": "scatterpolar",
            "marker": {
             "colorbar": {
              "outlinewidth": 0,
              "ticks": ""
             }
            }
           }
          ],
          "histogram": [
           {
            "marker": {
             "pattern": {
              "fillmode": "overlay",
              "size": 10,
              "solidity": 0.2
             }
            },
            "type": "histogram"
           }
          ],
          "scattergl": [
           {
            "marker": {
             "line": {
              "color": "#283442"
             }
            },
            "type": "scattergl"
           }
          ],
          "scatter3d": [
           {
            "type": "scatter3d",
            "line": {
             "colorbar": {
              "outlinewidth": 0,
              "ticks": ""
             }
            },
            "marker": {
             "colorbar": {
              "outlinewidth": 0,
              "ticks": ""
             }
            }
           }
          ],
          "scattermapbox": [
           {
            "type": "scattermapbox",
            "marker": {
             "colorbar": {
              "outlinewidth": 0,
              "ticks": ""
             }
            }
           }
          ],
          "scatterternary": [
           {
            "type": "scatterternary",
            "marker": {
             "colorbar": {
              "outlinewidth": 0,
              "ticks": ""
             }
            }
           }
          ],
          "scattercarpet": [
           {
            "type": "scattercarpet",
            "marker": {
             "colorbar": {
              "outlinewidth": 0,
              "ticks": ""
             }
            }
           }
          ],
          "carpet": [
           {
            "aaxis": {
             "endlinecolor": "#A2B1C6",
             "gridcolor": "#506784",
             "linecolor": "#506784",
             "minorgridcolor": "#506784",
             "startlinecolor": "#A2B1C6"
            },
            "baxis": {
             "endlinecolor": "#A2B1C6",
             "gridcolor": "#506784",
             "linecolor": "#506784",
             "minorgridcolor": "#506784",
             "startlinecolor": "#A2B1C6"
            },
            "type": "carpet"
           }
          ],
          "table": [
           {
            "cells": {
             "fill": {
              "color": "#506784"
             },
             "line": {
              "color": "rgb(17,17,17)"
             }
            },
            "header": {
             "fill": {
              "color": "#2a3f5f"
             },
             "line": {
              "color": "rgb(17,17,17)"
             }
            },
            "type": "table"
           }
          ],
          "barpolar": [
           {
            "marker": {
             "line": {
              "color": "rgb(17,17,17)",
              "width": 0.5
             },
             "pattern": {
              "fillmode": "overlay",
              "size": 10,
              "solidity": 0.2
             }
            },
            "type": "barpolar"
           }
          ],
          "pie": [
           {
            "automargin": true,
            "type": "pie"
           }
          ]
         },
         "layout": {
          "autotypenumbers": "strict",
          "colorway": [
           "#636efa",
           "#EF553B",
           "#00cc96",
           "#ab63fa",
           "#FFA15A",
           "#19d3f3",
           "#FF6692",
           "#B6E880",
           "#FF97FF",
           "#FECB52"
          ],
          "font": {
           "color": "#f2f5fa"
          },
          "hovermode": "closest",
          "hoverlabel": {
           "align": "left"
          },
          "paper_bgcolor": "rgb(17,17,17)",
          "plot_bgcolor": "rgb(17,17,17)",
          "polar": {
           "bgcolor": "rgb(17,17,17)",
           "angularaxis": {
            "gridcolor": "#506784",
            "linecolor": "#506784",
            "ticks": ""
           },
           "radialaxis": {
            "gridcolor": "#506784",
            "linecolor": "#506784",
            "ticks": ""
           }
          },
          "ternary": {
           "bgcolor": "rgb(17,17,17)",
           "aaxis": {
            "gridcolor": "#506784",
            "linecolor": "#506784",
            "ticks": ""
           },
           "baxis": {
            "gridcolor": "#506784",
            "linecolor": "#506784",
            "ticks": ""
           },
           "caxis": {
            "gridcolor": "#506784",
            "linecolor": "#506784",
            "ticks": ""
           }
          },
          "coloraxis": {
           "colorbar": {
            "outlinewidth": 0,
            "ticks": ""
           }
          },
          "colorscale": {
           "sequential": [
            [
             0.0,
             "#0d0887"
            ],
            [
             0.1111111111111111,
             "#46039f"
            ],
            [
             0.2222222222222222,
             "#7201a8"
            ],
            [
             0.3333333333333333,
             "#9c179e"
            ],
            [
             0.4444444444444444,
             "#bd3786"
            ],
            [
             0.5555555555555556,
             "#d8576b"
            ],
            [
             0.6666666666666666,
             "#ed7953"
            ],
            [
             0.7777777777777778,
             "#fb9f3a"
            ],
            [
             0.8888888888888888,
             "#fdca26"
            ],
            [
             1.0,
             "#f0f921"
            ]
           ],
           "sequentialminus": [
            [
             0.0,
             "#0d0887"
            ],
            [
             0.1111111111111111,
             "#46039f"
            ],
            [
             0.2222222222222222,
             "#7201a8"
            ],
            [
             0.3333333333333333,
             "#9c179e"
            ],
            [
             0.4444444444444444,
             "#bd3786"
            ],
            [
             0.5555555555555556,
             "#d8576b"
            ],
            [
             0.6666666666666666,
             "#ed7953"
            ],
            [
             0.7777777777777778,
             "#fb9f3a"
            ],
            [
             0.8888888888888888,
             "#fdca26"
            ],
            [
             1.0,
             "#f0f921"
            ]
           ],
           "diverging": [
            [
             0,
             "#8e0152"
            ],
            [
             0.1,
             "#c51b7d"
            ],
            [
             0.2,
             "#de77ae"
            ],
            [
             0.3,
             "#f1b6da"
            ],
            [
             0.4,
             "#fde0ef"
            ],
            [
             0.5,
             "#f7f7f7"
            ],
            [
             0.6,
             "#e6f5d0"
            ],
            [
             0.7,
             "#b8e186"
            ],
            [
             0.8,
             "#7fbc41"
            ],
            [
             0.9,
             "#4d9221"
            ],
            [
             1,
             "#276419"
            ]
           ]
          },
          "xaxis": {
           "gridcolor": "#283442",
           "linecolor": "#506784",
           "ticks": "",
           "title": {
            "standoff": 15
           },
           "zerolinecolor": "#283442",
           "automargin": true,
           "zerolinewidth": 2
          },
          "yaxis": {
           "gridcolor": "#283442",
           "linecolor": "#506784",
           "ticks": "",
           "title": {
            "standoff": 15
           },
           "zerolinecolor": "#283442",
           "automargin": true,
           "zerolinewidth": 2
          },
          "scene": {
           "xaxis": {
            "backgroundcolor": "rgb(17,17,17)",
            "gridcolor": "#506784",
            "linecolor": "#506784",
            "showbackground": true,
            "ticks": "",
            "zerolinecolor": "#C8D4E3",
            "gridwidth": 2
           },
           "yaxis": {
            "backgroundcolor": "rgb(17,17,17)",
            "gridcolor": "#506784",
            "linecolor": "#506784",
            "showbackground": true,
            "ticks": "",
            "zerolinecolor": "#C8D4E3",
            "gridwidth": 2
           },
           "zaxis": {
            "backgroundcolor": "rgb(17,17,17)",
            "gridcolor": "#506784",
            "linecolor": "#506784",
            "showbackground": true,
            "ticks": "",
            "zerolinecolor": "#C8D4E3",
            "gridwidth": 2
           }
          },
          "shapedefaults": {
           "line": {
            "color": "#f2f5fa"
           }
          },
          "annotationdefaults": {
           "arrowcolor": "#f2f5fa",
           "arrowhead": 0,
           "arrowwidth": 1
          },
          "geo": {
           "bgcolor": "rgb(17,17,17)",
           "landcolor": "rgb(17,17,17)",
           "subunitcolor": "#506784",
           "showland": true,
           "showlakes": true,
           "lakecolor": "rgb(17,17,17)"
          },
          "title": {
           "x": 0.05
          },
          "updatemenudefaults": {
           "bgcolor": "#506784",
           "borderwidth": 0
          },
          "sliderdefaults": {
           "bgcolor": "#C8D4E3",
           "borderwidth": 1,
           "bordercolor": "rgb(17,17,17)",
           "tickwidth": 0
          },
          "mapbox": {
           "style": "dark"
          }
         }
        },
        "xaxis": {
         "anchor": "y",
         "domain": [
          0.0,
          1.0
         ],
         "title": {
          "text": "Cantidad visitas"
         }
        },
        "yaxis": {
         "anchor": "x",
         "domain": [
          0.0,
          1.0
         ],
         "title": {
          "text": "Frecuencia"
         }
        },
        "legend": {
         "tracegroupgap": 0
        },
        "margin": {
         "t": 60
        },
        "barmode": "relative"
       },
       "config": {
        "plotlyServerURL": "https://plot.ly"
       }
      },
      "text/html": "<div>                            <div id=\"3946e51d-a397-4b12-8ffa-1fb79a2cb62f\" class=\"plotly-graph-div\" style=\"height:525px; width:100%;\"></div>            <script type=\"text/javascript\">                require([\"plotly\"], function(Plotly) {                    window.PLOTLYENV=window.PLOTLYENV || {};                                    if (document.getElementById(\"3946e51d-a397-4b12-8ffa-1fb79a2cb62f\")) {                    Plotly.newPlot(                        \"3946e51d-a397-4b12-8ffa-1fb79a2cb62f\",                        [{\"alignmentgroup\":\"True\",\"hovertemplate\":\"Cantidad visitas=%{x}<br>Frecuencia=%{y}<extra></extra>\",\"legendgroup\":\"\",\"marker\":{\"color\":\"#636efa\",\"pattern\":{\"shape\":\"\"}},\"name\":\"\",\"offsetgroup\":\"\",\"orientation\":\"v\",\"showlegend\":false,\"textposition\":\"auto\",\"x\":[0,1,2],\"xaxis\":\"x\",\"y\":[0.003968253968253968,0.03571428571428571,0.9603174603174603],\"yaxis\":\"y\",\"type\":\"bar\"}],                        {\"template\":{\"data\":{\"histogram2dcontour\":[{\"type\":\"histogram2dcontour\",\"colorbar\":{\"outlinewidth\":0,\"ticks\":\"\"},\"colorscale\":[[0.0,\"#0d0887\"],[0.1111111111111111,\"#46039f\"],[0.2222222222222222,\"#7201a8\"],[0.3333333333333333,\"#9c179e\"],[0.4444444444444444,\"#bd3786\"],[0.5555555555555556,\"#d8576b\"],[0.6666666666666666,\"#ed7953\"],[0.7777777777777778,\"#fb9f3a\"],[0.8888888888888888,\"#fdca26\"],[1.0,\"#f0f921\"]]}],\"choropleth\":[{\"type\":\"choropleth\",\"colorbar\":{\"outlinewidth\":0,\"ticks\":\"\"}}],\"histogram2d\":[{\"type\":\"histogram2d\",\"colorbar\":{\"outlinewidth\":0,\"ticks\":\"\"},\"colorscale\":[[0.0,\"#0d0887\"],[0.1111111111111111,\"#46039f\"],[0.2222222222222222,\"#7201a8\"],[0.3333333333333333,\"#9c179e\"],[0.4444444444444444,\"#bd3786\"],[0.5555555555555556,\"#d8576b\"],[0.6666666666666666,\"#ed7953\"],[0.7777777777777778,\"#fb9f3a\"],[0.8888888888888888,\"#fdca26\"],[1.0,\"#f0f921\"]]}],\"heatmap\":[{\"type\":\"heatmap\",\"colorbar\":{\"outlinewidth\":0,\"ticks\":\"\"},\"colorscale\":[[0.0,\"#0d0887\"],[0.1111111111111111,\"#46039f\"],[0.2222222222222222,\"#7201a8\"],[0.3333333333333333,\"#9c179e\"],[0.4444444444444444,\"#bd3786\"],[0.5555555555555556,\"#d8576b\"],[0.6666666666666666,\"#ed7953\"],[0.7777777777777778,\"#fb9f3a\"],[0.8888888888888888,\"#fdca26\"],[1.0,\"#f0f921\"]]}],\"heatmapgl\":[{\"type\":\"heatmapgl\",\"colorbar\":{\"outlinewidth\":0,\"ticks\":\"\"},\"colorscale\":[[0.0,\"#0d0887\"],[0.1111111111111111,\"#46039f\"],[0.2222222222222222,\"#7201a8\"],[0.3333333333333333,\"#9c179e\"],[0.4444444444444444,\"#bd3786\"],[0.5555555555555556,\"#d8576b\"],[0.6666666666666666,\"#ed7953\"],[0.7777777777777778,\"#fb9f3a\"],[0.8888888888888888,\"#fdca26\"],[1.0,\"#f0f921\"]]}],\"contourcarpet\":[{\"type\":\"contourcarpet\",\"colorbar\":{\"outlinewidth\":0,\"ticks\":\"\"}}],\"contour\":[{\"type\":\"contour\",\"colorbar\":{\"outlinewidth\":0,\"ticks\":\"\"},\"colorscale\":[[0.0,\"#0d0887\"],[0.1111111111111111,\"#46039f\"],[0.2222222222222222,\"#7201a8\"],[0.3333333333333333,\"#9c179e\"],[0.4444444444444444,\"#bd3786\"],[0.5555555555555556,\"#d8576b\"],[0.6666666666666666,\"#ed7953\"],[0.7777777777777778,\"#fb9f3a\"],[0.8888888888888888,\"#fdca26\"],[1.0,\"#f0f921\"]]}],\"surface\":[{\"type\":\"surface\",\"colorbar\":{\"outlinewidth\":0,\"ticks\":\"\"},\"colorscale\":[[0.0,\"#0d0887\"],[0.1111111111111111,\"#46039f\"],[0.2222222222222222,\"#7201a8\"],[0.3333333333333333,\"#9c179e\"],[0.4444444444444444,\"#bd3786\"],[0.5555555555555556,\"#d8576b\"],[0.6666666666666666,\"#ed7953\"],[0.7777777777777778,\"#fb9f3a\"],[0.8888888888888888,\"#fdca26\"],[1.0,\"#f0f921\"]]}],\"mesh3d\":[{\"type\":\"mesh3d\",\"colorbar\":{\"outlinewidth\":0,\"ticks\":\"\"}}],\"scatter\":[{\"marker\":{\"line\":{\"color\":\"#283442\"}},\"type\":\"scatter\"}],\"parcoords\":[{\"type\":\"parcoords\",\"line\":{\"colorbar\":{\"outlinewidth\":0,\"ticks\":\"\"}}}],\"scatterpolargl\":[{\"type\":\"scatterpolargl\",\"marker\":{\"colorbar\":{\"outlinewidth\":0,\"ticks\":\"\"}}}],\"bar\":[{\"error_x\":{\"color\":\"#f2f5fa\"},\"error_y\":{\"color\":\"#f2f5fa\"},\"marker\":{\"line\":{\"color\":\"rgb(17,17,17)\",\"width\":0.5},\"pattern\":{\"fillmode\":\"overlay\",\"size\":10,\"solidity\":0.2}},\"type\":\"bar\"}],\"scattergeo\":[{\"type\":\"scattergeo\",\"marker\":{\"colorbar\":{\"outlinewidth\":0,\"ticks\":\"\"}}}],\"scatterpolar\":[{\"type\":\"scatterpolar\",\"marker\":{\"colorbar\":{\"outlinewidth\":0,\"ticks\":\"\"}}}],\"histogram\":[{\"marker\":{\"pattern\":{\"fillmode\":\"overlay\",\"size\":10,\"solidity\":0.2}},\"type\":\"histogram\"}],\"scattergl\":[{\"marker\":{\"line\":{\"color\":\"#283442\"}},\"type\":\"scattergl\"}],\"scatter3d\":[{\"type\":\"scatter3d\",\"line\":{\"colorbar\":{\"outlinewidth\":0,\"ticks\":\"\"}},\"marker\":{\"colorbar\":{\"outlinewidth\":0,\"ticks\":\"\"}}}],\"scattermapbox\":[{\"type\":\"scattermapbox\",\"marker\":{\"colorbar\":{\"outlinewidth\":0,\"ticks\":\"\"}}}],\"scatterternary\":[{\"type\":\"scatterternary\",\"marker\":{\"colorbar\":{\"outlinewidth\":0,\"ticks\":\"\"}}}],\"scattercarpet\":[{\"type\":\"scattercarpet\",\"marker\":{\"colorbar\":{\"outlinewidth\":0,\"ticks\":\"\"}}}],\"carpet\":[{\"aaxis\":{\"endlinecolor\":\"#A2B1C6\",\"gridcolor\":\"#506784\",\"linecolor\":\"#506784\",\"minorgridcolor\":\"#506784\",\"startlinecolor\":\"#A2B1C6\"},\"baxis\":{\"endlinecolor\":\"#A2B1C6\",\"gridcolor\":\"#506784\",\"linecolor\":\"#506784\",\"minorgridcolor\":\"#506784\",\"startlinecolor\":\"#A2B1C6\"},\"type\":\"carpet\"}],\"table\":[{\"cells\":{\"fill\":{\"color\":\"#506784\"},\"line\":{\"color\":\"rgb(17,17,17)\"}},\"header\":{\"fill\":{\"color\":\"#2a3f5f\"},\"line\":{\"color\":\"rgb(17,17,17)\"}},\"type\":\"table\"}],\"barpolar\":[{\"marker\":{\"line\":{\"color\":\"rgb(17,17,17)\",\"width\":0.5},\"pattern\":{\"fillmode\":\"overlay\",\"size\":10,\"solidity\":0.2}},\"type\":\"barpolar\"}],\"pie\":[{\"automargin\":true,\"type\":\"pie\"}]},\"layout\":{\"autotypenumbers\":\"strict\",\"colorway\":[\"#636efa\",\"#EF553B\",\"#00cc96\",\"#ab63fa\",\"#FFA15A\",\"#19d3f3\",\"#FF6692\",\"#B6E880\",\"#FF97FF\",\"#FECB52\"],\"font\":{\"color\":\"#f2f5fa\"},\"hovermode\":\"closest\",\"hoverlabel\":{\"align\":\"left\"},\"paper_bgcolor\":\"rgb(17,17,17)\",\"plot_bgcolor\":\"rgb(17,17,17)\",\"polar\":{\"bgcolor\":\"rgb(17,17,17)\",\"angularaxis\":{\"gridcolor\":\"#506784\",\"linecolor\":\"#506784\",\"ticks\":\"\"},\"radialaxis\":{\"gridcolor\":\"#506784\",\"linecolor\":\"#506784\",\"ticks\":\"\"}},\"ternary\":{\"bgcolor\":\"rgb(17,17,17)\",\"aaxis\":{\"gridcolor\":\"#506784\",\"linecolor\":\"#506784\",\"ticks\":\"\"},\"baxis\":{\"gridcolor\":\"#506784\",\"linecolor\":\"#506784\",\"ticks\":\"\"},\"caxis\":{\"gridcolor\":\"#506784\",\"linecolor\":\"#506784\",\"ticks\":\"\"}},\"coloraxis\":{\"colorbar\":{\"outlinewidth\":0,\"ticks\":\"\"}},\"colorscale\":{\"sequential\":[[0.0,\"#0d0887\"],[0.1111111111111111,\"#46039f\"],[0.2222222222222222,\"#7201a8\"],[0.3333333333333333,\"#9c179e\"],[0.4444444444444444,\"#bd3786\"],[0.5555555555555556,\"#d8576b\"],[0.6666666666666666,\"#ed7953\"],[0.7777777777777778,\"#fb9f3a\"],[0.8888888888888888,\"#fdca26\"],[1.0,\"#f0f921\"]],\"sequentialminus\":[[0.0,\"#0d0887\"],[0.1111111111111111,\"#46039f\"],[0.2222222222222222,\"#7201a8\"],[0.3333333333333333,\"#9c179e\"],[0.4444444444444444,\"#bd3786\"],[0.5555555555555556,\"#d8576b\"],[0.6666666666666666,\"#ed7953\"],[0.7777777777777778,\"#fb9f3a\"],[0.8888888888888888,\"#fdca26\"],[1.0,\"#f0f921\"]],\"diverging\":[[0,\"#8e0152\"],[0.1,\"#c51b7d\"],[0.2,\"#de77ae\"],[0.3,\"#f1b6da\"],[0.4,\"#fde0ef\"],[0.5,\"#f7f7f7\"],[0.6,\"#e6f5d0\"],[0.7,\"#b8e186\"],[0.8,\"#7fbc41\"],[0.9,\"#4d9221\"],[1,\"#276419\"]]},\"xaxis\":{\"gridcolor\":\"#283442\",\"linecolor\":\"#506784\",\"ticks\":\"\",\"title\":{\"standoff\":15},\"zerolinecolor\":\"#283442\",\"automargin\":true,\"zerolinewidth\":2},\"yaxis\":{\"gridcolor\":\"#283442\",\"linecolor\":\"#506784\",\"ticks\":\"\",\"title\":{\"standoff\":15},\"zerolinecolor\":\"#283442\",\"automargin\":true,\"zerolinewidth\":2},\"scene\":{\"xaxis\":{\"backgroundcolor\":\"rgb(17,17,17)\",\"gridcolor\":\"#506784\",\"linecolor\":\"#506784\",\"showbackground\":true,\"ticks\":\"\",\"zerolinecolor\":\"#C8D4E3\",\"gridwidth\":2},\"yaxis\":{\"backgroundcolor\":\"rgb(17,17,17)\",\"gridcolor\":\"#506784\",\"linecolor\":\"#506784\",\"showbackground\":true,\"ticks\":\"\",\"zerolinecolor\":\"#C8D4E3\",\"gridwidth\":2},\"zaxis\":{\"backgroundcolor\":\"rgb(17,17,17)\",\"gridcolor\":\"#506784\",\"linecolor\":\"#506784\",\"showbackground\":true,\"ticks\":\"\",\"zerolinecolor\":\"#C8D4E3\",\"gridwidth\":2}},\"shapedefaults\":{\"line\":{\"color\":\"#f2f5fa\"}},\"annotationdefaults\":{\"arrowcolor\":\"#f2f5fa\",\"arrowhead\":0,\"arrowwidth\":1},\"geo\":{\"bgcolor\":\"rgb(17,17,17)\",\"landcolor\":\"rgb(17,17,17)\",\"subunitcolor\":\"#506784\",\"showland\":true,\"showlakes\":true,\"lakecolor\":\"rgb(17,17,17)\"},\"title\":{\"x\":0.05},\"updatemenudefaults\":{\"bgcolor\":\"#506784\",\"borderwidth\":0},\"sliderdefaults\":{\"bgcolor\":\"#C8D4E3\",\"borderwidth\":1,\"bordercolor\":\"rgb(17,17,17)\",\"tickwidth\":0},\"mapbox\":{\"style\":\"dark\"}}},\"xaxis\":{\"anchor\":\"y\",\"domain\":[0.0,1.0],\"title\":{\"text\":\"Cantidad visitas\"}},\"yaxis\":{\"anchor\":\"x\",\"domain\":[0.0,1.0],\"title\":{\"text\":\"Frecuencia\"}},\"legend\":{\"tracegroupgap\":0},\"margin\":{\"t\":60},\"barmode\":\"relative\"},                        {\"responsive\": true}                    ).then(function(){\n                            \nvar gd = document.getElementById('3946e51d-a397-4b12-8ffa-1fb79a2cb62f');\nvar x = new MutationObserver(function (mutations, observer) {{\n        var display = window.getComputedStyle(gd).display;\n        if (!display || display === 'none') {{\n            console.log([gd, 'removed!']);\n            Plotly.purge(gd);\n            observer.disconnect();\n        }}\n}});\n\n// Listen for the removal of the full notebook cells\nvar notebookContainer = gd.closest('#notebook-container');\nif (notebookContainer) {{\n    x.observe(notebookContainer, {childList: true});\n}}\n\n// Listen for the clearing of the current output cell\nvar outputEl = gd.closest('.output');\nif (outputEl) {{\n    x.observe(outputEl, {childList: true});\n}}\n\n                        })                };                });            </script>        </div>"
     },
     "metadata": {},
     "output_type": "display_data"
    }
   ],
   "source": [
    "piv_v = visitas.pivot_table(index='Cantidad visitas', values='Código CFK IE', aggfunc='nunique').rename(columns={'Código CFK IE':'Cant IE'}).reset_index()\n",
    "piv_v['Frecuencia'] = piv_v['Cant IE']/252\n",
    "piv_v.to_feather('../../../data/c_pages/monitoreo/mon_cons1.feather')\n",
    "fig = px.bar(piv_v, x='Cantidad visitas', y='Frecuencia')\n",
    "fig"
   ],
   "metadata": {
    "collapsed": false,
    "pycharm": {
     "name": "#%%\n"
    }
   }
  },
  {
   "cell_type": "code",
   "execution_count": 87,
   "outputs": [
    {
     "data": {
      "text/plain": "No aplica fichas    226\nRealizada            23\nEn gestión            2\nSin programar         1\nName: Estado Obs Aula, dtype: int64"
     },
     "execution_count": 87,
     "metadata": {},
     "output_type": "execute_result"
    }
   ],
   "source": [
    "visitas['Estado Obs Aula'].value_counts()"
   ],
   "metadata": {
    "collapsed": false,
    "pycharm": {
     "name": "#%%\n"
    }
   }
  },
  {
   "cell_type": "code",
   "execution_count": 88,
   "outputs": [
    {
     "data": {
      "text/plain": "     Departamento IE  Municipio IE  \\\n0    Valle del Cauca          CALI   \n1    Valle del Cauca          CALI   \n2    Valle del Cauca          CALI   \n3    Valle del Cauca          CALI   \n4    Valle del Cauca          CALI   \n..               ...           ...   \n247        Atlántico  BARRANQUILLA   \n248        Atlántico  BARRANQUILLA   \n249        Atlántico  BARRANQUILLA   \n250        Atlántico  BARRANQUILLA   \n251        Atlántico  BARRANQUILLA   \n\n                          Nombre Institución Educativa  Código DANE IE  \\\n0    INSTITUCION EDUCATIVA TECNICO INDUSTRIAL DONAL...    176001028970   \n1                 INSTITUCION ETNOEDUCATIVA SANTA ROSA    176001025946   \n2       INSTITUCION EDUCATIVA JUANA DE CAICEDO Y CUERO    176001004485   \n3                    INSTITUCION EDUCATIVA LA BUITRERA    276001005184   \n4              INSTITUCION EDUCATIVA INEM JORGE ISAACS    176001005813   \n..                                                 ...             ...   \n247  INSTITUCION EDUCATIVA ACADEMICA Y TECNICA - TU...    108372000169   \n248                ESCUELA NORMAL SUPERIOR LA HACIENDA    108001001821   \n249  INSTITUCION EDUCATIVA DISTRITAL SANTA MARIA - ...    108001078998   \n250  INSTITUCION EDUCATIVA DISTRITAL VILLAS DE SAN ...    108001800065   \n251  INSTITUCION EDUCATIVA DISTRITAL DE BARRANQUILL...    108001000824   \n\n     Código CFK IE  Fecha Visita Día 1  Fecha Visita Día 2  Estado RID  \\\n0                1                   1                   1           1   \n1                2                   1                   1           1   \n2                3                   1                   1           1   \n3                4                   1                   1           1   \n4                5                   1                   1           1   \n..             ...                 ...                 ...         ...   \n247            248                   1                   1           1   \n248            249                   1                   1           1   \n249            250                   1                   1           1   \n250            251                   1                   1           1   \n251            252                   1                   1           1   \n\n     Estado Encuesta Directivos  Estado PPT Programa Directivos  \\\n0                             1                               1   \n1                             1                               1   \n2                             1                               1   \n3                             1                               1   \n4                             1                               1   \n..                          ...                             ...   \n247                           1                               1   \n248                           1                               1   \n249                           1                               1   \n250                           1                               1   \n251                           1                               1   \n\n     Estado PPT Programa Docentes  Estado Encuesta Docentes  \\\n0                               1                         1   \n1                               1                         1   \n2                               1                         1   \n3                               1                         1   \n4                               1                         1   \n..                            ...                       ...   \n247                             1                         1   \n248                             1                         1   \n249                             1                         1   \n250                             1                         1   \n251                             1                         1   \n\n     Estado Taller PC Docentes  Estado Encuesta Estudiantes  \\\n0                            1                            1   \n1                            1                            1   \n2                            1                            1   \n3                            1                            1   \n4                            1                            1   \n..                         ...                          ...   \n247                          1                            1   \n248                          1                            1   \n249                          1                            1   \n250                          1                            1   \n251                          1                            1   \n\n     Estado Infraestructura  Estado Entrevista Líder Área Informática  \\\n0                         1                                         1   \n1                         1                                         1   \n2                         1                                         1   \n3                         1                                         1   \n4                         1                                         1   \n..                      ...                                       ...   \n247                       1                                         1   \n248                       1                                         1   \n249                       1                                         1   \n250                       1                                         1   \n251                       1                                         1   \n\n     Estado Obs Aula  Estado Recolección Documental  Cantidad  % Cumplimiento  \n0                  1                              1        11             1.0  \n1                  1                              1        11             1.0  \n2                  1                              1        11             1.0  \n3                  1                              1        11             1.0  \n4                  1                              1        11             1.0  \n..               ...                            ...       ...             ...  \n247                1                              1        11             1.0  \n248                1                              1        11             1.0  \n249                1                              1        11             1.0  \n250                1                              1        11             1.0  \n251                1                              1        11             1.0  \n\n[248 rows x 20 columns]",
      "text/html": "<div>\n<style scoped>\n    .dataframe tbody tr th:only-of-type {\n        vertical-align: middle;\n    }\n\n    .dataframe tbody tr th {\n        vertical-align: top;\n    }\n\n    .dataframe thead th {\n        text-align: right;\n    }\n</style>\n<table border=\"1\" class=\"dataframe\">\n  <thead>\n    <tr style=\"text-align: right;\">\n      <th></th>\n      <th>Departamento IE</th>\n      <th>Municipio IE</th>\n      <th>Nombre Institución Educativa</th>\n      <th>Código DANE IE</th>\n      <th>Código CFK IE</th>\n      <th>Fecha Visita Día 1</th>\n      <th>Fecha Visita Día 2</th>\n      <th>Estado RID</th>\n      <th>Estado Encuesta Directivos</th>\n      <th>Estado PPT Programa Directivos</th>\n      <th>Estado PPT Programa Docentes</th>\n      <th>Estado Encuesta Docentes</th>\n      <th>Estado Taller PC Docentes</th>\n      <th>Estado Encuesta Estudiantes</th>\n      <th>Estado Infraestructura</th>\n      <th>Estado Entrevista Líder Área Informática</th>\n      <th>Estado Obs Aula</th>\n      <th>Estado Recolección Documental</th>\n      <th>Cantidad</th>\n      <th>% Cumplimiento</th>\n    </tr>\n  </thead>\n  <tbody>\n    <tr>\n      <th>0</th>\n      <td>Valle del Cauca</td>\n      <td>CALI</td>\n      <td>INSTITUCION EDUCATIVA TECNICO INDUSTRIAL DONAL...</td>\n      <td>176001028970</td>\n      <td>1</td>\n      <td>1</td>\n      <td>1</td>\n      <td>1</td>\n      <td>1</td>\n      <td>1</td>\n      <td>1</td>\n      <td>1</td>\n      <td>1</td>\n      <td>1</td>\n      <td>1</td>\n      <td>1</td>\n      <td>1</td>\n      <td>1</td>\n      <td>11</td>\n      <td>1.0</td>\n    </tr>\n    <tr>\n      <th>1</th>\n      <td>Valle del Cauca</td>\n      <td>CALI</td>\n      <td>INSTITUCION ETNOEDUCATIVA SANTA ROSA</td>\n      <td>176001025946</td>\n      <td>2</td>\n      <td>1</td>\n      <td>1</td>\n      <td>1</td>\n      <td>1</td>\n      <td>1</td>\n      <td>1</td>\n      <td>1</td>\n      <td>1</td>\n      <td>1</td>\n      <td>1</td>\n      <td>1</td>\n      <td>1</td>\n      <td>1</td>\n      <td>11</td>\n      <td>1.0</td>\n    </tr>\n    <tr>\n      <th>2</th>\n      <td>Valle del Cauca</td>\n      <td>CALI</td>\n      <td>INSTITUCION EDUCATIVA JUANA DE CAICEDO Y CUERO</td>\n      <td>176001004485</td>\n      <td>3</td>\n      <td>1</td>\n      <td>1</td>\n      <td>1</td>\n      <td>1</td>\n      <td>1</td>\n      <td>1</td>\n      <td>1</td>\n      <td>1</td>\n      <td>1</td>\n      <td>1</td>\n      <td>1</td>\n      <td>1</td>\n      <td>1</td>\n      <td>11</td>\n      <td>1.0</td>\n    </tr>\n    <tr>\n      <th>3</th>\n      <td>Valle del Cauca</td>\n      <td>CALI</td>\n      <td>INSTITUCION EDUCATIVA LA BUITRERA</td>\n      <td>276001005184</td>\n      <td>4</td>\n      <td>1</td>\n      <td>1</td>\n      <td>1</td>\n      <td>1</td>\n      <td>1</td>\n      <td>1</td>\n      <td>1</td>\n      <td>1</td>\n      <td>1</td>\n      <td>1</td>\n      <td>1</td>\n      <td>1</td>\n      <td>1</td>\n      <td>11</td>\n      <td>1.0</td>\n    </tr>\n    <tr>\n      <th>4</th>\n      <td>Valle del Cauca</td>\n      <td>CALI</td>\n      <td>INSTITUCION EDUCATIVA INEM JORGE ISAACS</td>\n      <td>176001005813</td>\n      <td>5</td>\n      <td>1</td>\n      <td>1</td>\n      <td>1</td>\n      <td>1</td>\n      <td>1</td>\n      <td>1</td>\n      <td>1</td>\n      <td>1</td>\n      <td>1</td>\n      <td>1</td>\n      <td>1</td>\n      <td>1</td>\n      <td>1</td>\n      <td>11</td>\n      <td>1.0</td>\n    </tr>\n    <tr>\n      <th>...</th>\n      <td>...</td>\n      <td>...</td>\n      <td>...</td>\n      <td>...</td>\n      <td>...</td>\n      <td>...</td>\n      <td>...</td>\n      <td>...</td>\n      <td>...</td>\n      <td>...</td>\n      <td>...</td>\n      <td>...</td>\n      <td>...</td>\n      <td>...</td>\n      <td>...</td>\n      <td>...</td>\n      <td>...</td>\n      <td>...</td>\n      <td>...</td>\n      <td>...</td>\n    </tr>\n    <tr>\n      <th>247</th>\n      <td>Atlántico</td>\n      <td>BARRANQUILLA</td>\n      <td>INSTITUCION EDUCATIVA ACADEMICA Y TECNICA - TU...</td>\n      <td>108372000169</td>\n      <td>248</td>\n      <td>1</td>\n      <td>1</td>\n      <td>1</td>\n      <td>1</td>\n      <td>1</td>\n      <td>1</td>\n      <td>1</td>\n      <td>1</td>\n      <td>1</td>\n      <td>1</td>\n      <td>1</td>\n      <td>1</td>\n      <td>1</td>\n      <td>11</td>\n      <td>1.0</td>\n    </tr>\n    <tr>\n      <th>248</th>\n      <td>Atlántico</td>\n      <td>BARRANQUILLA</td>\n      <td>ESCUELA NORMAL SUPERIOR LA HACIENDA</td>\n      <td>108001001821</td>\n      <td>249</td>\n      <td>1</td>\n      <td>1</td>\n      <td>1</td>\n      <td>1</td>\n      <td>1</td>\n      <td>1</td>\n      <td>1</td>\n      <td>1</td>\n      <td>1</td>\n      <td>1</td>\n      <td>1</td>\n      <td>1</td>\n      <td>1</td>\n      <td>11</td>\n      <td>1.0</td>\n    </tr>\n    <tr>\n      <th>249</th>\n      <td>Atlántico</td>\n      <td>BARRANQUILLA</td>\n      <td>INSTITUCION EDUCATIVA DISTRITAL SANTA MARIA - ...</td>\n      <td>108001078998</td>\n      <td>250</td>\n      <td>1</td>\n      <td>1</td>\n      <td>1</td>\n      <td>1</td>\n      <td>1</td>\n      <td>1</td>\n      <td>1</td>\n      <td>1</td>\n      <td>1</td>\n      <td>1</td>\n      <td>1</td>\n      <td>1</td>\n      <td>1</td>\n      <td>11</td>\n      <td>1.0</td>\n    </tr>\n    <tr>\n      <th>250</th>\n      <td>Atlántico</td>\n      <td>BARRANQUILLA</td>\n      <td>INSTITUCION EDUCATIVA DISTRITAL VILLAS DE SAN ...</td>\n      <td>108001800065</td>\n      <td>251</td>\n      <td>1</td>\n      <td>1</td>\n      <td>1</td>\n      <td>1</td>\n      <td>1</td>\n      <td>1</td>\n      <td>1</td>\n      <td>1</td>\n      <td>1</td>\n      <td>1</td>\n      <td>1</td>\n      <td>1</td>\n      <td>1</td>\n      <td>11</td>\n      <td>1.0</td>\n    </tr>\n    <tr>\n      <th>251</th>\n      <td>Atlántico</td>\n      <td>BARRANQUILLA</td>\n      <td>INSTITUCION EDUCATIVA DISTRITAL DE BARRANQUILL...</td>\n      <td>108001000824</td>\n      <td>252</td>\n      <td>1</td>\n      <td>1</td>\n      <td>1</td>\n      <td>1</td>\n      <td>1</td>\n      <td>1</td>\n      <td>1</td>\n      <td>1</td>\n      <td>1</td>\n      <td>1</td>\n      <td>1</td>\n      <td>1</td>\n      <td>1</td>\n      <td>11</td>\n      <td>1.0</td>\n    </tr>\n  </tbody>\n</table>\n<p>248 rows × 20 columns</p>\n</div>"
     },
     "execution_count": 88,
     "metadata": {},
     "output_type": "execute_result"
    }
   ],
   "source": [
    "actividades = visitas.loc[:,cols_ie+cols_visitas+cols_act].copy()\n",
    "\n",
    "actividades[cols_act] = actividades[cols_act].replace({'Realizada':1, 'No aplica fichas':1,\n",
    "                                                         'Sin programar': 0, 'Programada':0, 'En gestión':0})\n",
    "actividades['Cantidad'] = actividades[cols_act].sum(axis=1)\n",
    "actividades['% Cumplimiento'] = round(actividades['Cantidad']/11,2)\n",
    "actividades[actividades['% Cumplimiento']==1]"
   ],
   "metadata": {
    "collapsed": false,
    "pycharm": {
     "name": "#%%\n"
    }
   }
  },
  {
   "cell_type": "code",
   "execution_count": 89,
   "outputs": [],
   "source": [
    "piv_a = actividades.pivot_table(index=['% Cumplimiento'], values='Código CFK IE', aggfunc='count').rename(columns={'Código CFK IE':'Cant IE'}).reset_index()\n",
    "piv_a['Frecuencia'] = piv_a['Cant IE']/252\n",
    "piv_a.to_feather('../../../data/c_pages/monitoreo/mon_cons2.feather')"
   ],
   "metadata": {
    "collapsed": false,
    "pycharm": {
     "name": "#%%\n"
    }
   }
  },
  {
   "cell_type": "code",
   "execution_count": 90,
   "outputs": [
    {
     "data": {
      "text/plain": "        Departamento IE Municipio IE  \\\n183           Magdalena  SANTA MARTA   \n228  Norte de Santander       Cúcuta   \n230  Norte de Santander       Cúcuta   \n241           Antioquia     MEDELLÍN   \n\n                         Nombre Institución Educativa  Código DANE IE  \\\n183              ESCUELA NORMAL SAN PEDRO ALEJANDRINO    247001001791   \n228        I.E. CARLOS RAMIREZ PARIS - SEDE PRINCIPAL    154001004333   \n230        I.E. SAN JOSÉ - EL TRIGAL - SEDE PRINCIPAL    154001011470   \n241  \\tINSTITUCION EDUCATIVA JOAQUIN VALLEJO ARBELAEZ    105001025771   \n\n     Código CFK IE  Fecha Visita Día 1  Fecha Visita Día 2  Estado RID  \\\n183            128                   0                   0           0   \n228            229                   1                   1           1   \n230            231                   1                   1           1   \n241            242                   1                   0           1   \n\n     Estado Encuesta Directivos  Estado PPT Programa Directivos  \\\n183                           0                               0   \n228                           1                               1   \n230                           1                               1   \n241                           1                               1   \n\n     Estado PPT Programa Docentes  Estado Encuesta Docentes  \\\n183                             0                         0   \n228                             1                         1   \n230                             1                         1   \n241                             1                         1   \n\n     Estado Taller PC Docentes  Estado Encuesta Estudiantes  \\\n183                          0                            0   \n228                          1                            1   \n230                          1                            1   \n241                          0                            0   \n\n     Estado Infraestructura  Estado Entrevista Líder Área Informática  \\\n183                       0                                         0   \n228                       1                                         1   \n230                       1                                         1   \n241                       1                                         1   \n\n     Estado Obs Aula  Estado Recolección Documental  Cantidad  % Cumplimiento  \n183                0                              0         0            0.00  \n228                0                              1        10            0.91  \n230                0                              1        10            0.91  \n241                1                              1         9            0.82  ",
      "text/html": "<div>\n<style scoped>\n    .dataframe tbody tr th:only-of-type {\n        vertical-align: middle;\n    }\n\n    .dataframe tbody tr th {\n        vertical-align: top;\n    }\n\n    .dataframe thead th {\n        text-align: right;\n    }\n</style>\n<table border=\"1\" class=\"dataframe\">\n  <thead>\n    <tr style=\"text-align: right;\">\n      <th></th>\n      <th>Departamento IE</th>\n      <th>Municipio IE</th>\n      <th>Nombre Institución Educativa</th>\n      <th>Código DANE IE</th>\n      <th>Código CFK IE</th>\n      <th>Fecha Visita Día 1</th>\n      <th>Fecha Visita Día 2</th>\n      <th>Estado RID</th>\n      <th>Estado Encuesta Directivos</th>\n      <th>Estado PPT Programa Directivos</th>\n      <th>Estado PPT Programa Docentes</th>\n      <th>Estado Encuesta Docentes</th>\n      <th>Estado Taller PC Docentes</th>\n      <th>Estado Encuesta Estudiantes</th>\n      <th>Estado Infraestructura</th>\n      <th>Estado Entrevista Líder Área Informática</th>\n      <th>Estado Obs Aula</th>\n      <th>Estado Recolección Documental</th>\n      <th>Cantidad</th>\n      <th>% Cumplimiento</th>\n    </tr>\n  </thead>\n  <tbody>\n    <tr>\n      <th>183</th>\n      <td>Magdalena</td>\n      <td>SANTA MARTA</td>\n      <td>ESCUELA NORMAL SAN PEDRO ALEJANDRINO</td>\n      <td>247001001791</td>\n      <td>128</td>\n      <td>0</td>\n      <td>0</td>\n      <td>0</td>\n      <td>0</td>\n      <td>0</td>\n      <td>0</td>\n      <td>0</td>\n      <td>0</td>\n      <td>0</td>\n      <td>0</td>\n      <td>0</td>\n      <td>0</td>\n      <td>0</td>\n      <td>0</td>\n      <td>0.00</td>\n    </tr>\n    <tr>\n      <th>228</th>\n      <td>Norte de Santander</td>\n      <td>Cúcuta</td>\n      <td>I.E. CARLOS RAMIREZ PARIS - SEDE PRINCIPAL</td>\n      <td>154001004333</td>\n      <td>229</td>\n      <td>1</td>\n      <td>1</td>\n      <td>1</td>\n      <td>1</td>\n      <td>1</td>\n      <td>1</td>\n      <td>1</td>\n      <td>1</td>\n      <td>1</td>\n      <td>1</td>\n      <td>1</td>\n      <td>0</td>\n      <td>1</td>\n      <td>10</td>\n      <td>0.91</td>\n    </tr>\n    <tr>\n      <th>230</th>\n      <td>Norte de Santander</td>\n      <td>Cúcuta</td>\n      <td>I.E. SAN JOSÉ - EL TRIGAL - SEDE PRINCIPAL</td>\n      <td>154001011470</td>\n      <td>231</td>\n      <td>1</td>\n      <td>1</td>\n      <td>1</td>\n      <td>1</td>\n      <td>1</td>\n      <td>1</td>\n      <td>1</td>\n      <td>1</td>\n      <td>1</td>\n      <td>1</td>\n      <td>1</td>\n      <td>0</td>\n      <td>1</td>\n      <td>10</td>\n      <td>0.91</td>\n    </tr>\n    <tr>\n      <th>241</th>\n      <td>Antioquia</td>\n      <td>MEDELLÍN</td>\n      <td>\\tINSTITUCION EDUCATIVA JOAQUIN VALLEJO ARBELAEZ</td>\n      <td>105001025771</td>\n      <td>242</td>\n      <td>1</td>\n      <td>0</td>\n      <td>1</td>\n      <td>1</td>\n      <td>1</td>\n      <td>1</td>\n      <td>1</td>\n      <td>0</td>\n      <td>0</td>\n      <td>1</td>\n      <td>1</td>\n      <td>1</td>\n      <td>1</td>\n      <td>9</td>\n      <td>0.82</td>\n    </tr>\n  </tbody>\n</table>\n</div>"
     },
     "execution_count": 90,
     "metadata": {},
     "output_type": "execute_result"
    }
   ],
   "source": [
    "actividades[actividades['% Cumplimiento']!=1]"
   ],
   "metadata": {
    "collapsed": false,
    "pycharm": {
     "name": "#%%\n"
    }
   }
  },
  {
   "cell_type": "code",
   "execution_count": 102,
   "outputs": [
    {
     "data": {
      "text/plain": "     Departamento IE  Municipio IE  \\\n0    Valle del Cauca          CALI   \n1    Valle del Cauca          CALI   \n2    Valle del Cauca          CALI   \n3    Valle del Cauca          CALI   \n4    Valle del Cauca          CALI   \n..               ...           ...   \n247        Atlántico  BARRANQUILLA   \n248        Atlántico  BARRANQUILLA   \n249        Atlántico  BARRANQUILLA   \n250        Atlántico  BARRANQUILLA   \n251        Atlántico  BARRANQUILLA   \n\n                          Nombre Institución Educativa  Código DANE IE  \\\n0    INSTITUCION EDUCATIVA TECNICO INDUSTRIAL DONAL...    176001028970   \n1                 INSTITUCION ETNOEDUCATIVA SANTA ROSA    176001025946   \n2       INSTITUCION EDUCATIVA JUANA DE CAICEDO Y CUERO    176001004485   \n3                    INSTITUCION EDUCATIVA LA BUITRERA    276001005184   \n4              INSTITUCION EDUCATIVA INEM JORGE ISAACS    176001005813   \n..                                                 ...             ...   \n247  INSTITUCION EDUCATIVA ACADEMICA Y TECNICA - TU...    108372000169   \n248                ESCUELA NORMAL SUPERIOR LA HACIENDA    108001001821   \n249  INSTITUCION EDUCATIVA DISTRITAL SANTA MARIA - ...    108001078998   \n250  INSTITUCION EDUCATIVA DISTRITAL VILLAS DE SAN ...    108001800065   \n251  INSTITUCION EDUCATIVA DISTRITAL DE BARRANQUILL...    108001000824   \n\n     Código CFK IE  Fecha Visita Día 1  Fecha Visita Día 2  RID  \\\n0                1                   1                   1    1   \n1                2                   1                   1    1   \n2                3                   1                   1    1   \n3                4                   1                   1    1   \n4                5                   1                   1    1   \n..             ...                 ...                 ...  ...   \n247            248                   1                   1    1   \n248            249                   1                   1    1   \n249            250                   1                   1    1   \n250            251                   1                   1    1   \n251            252                   1                   1    1   \n\n     Encuesta Directivos  PPT Programa Directivos  PPT Programa Docentes  \\\n0                      1                        1                      1   \n1                      1                        1                      1   \n2                      1                        1                      1   \n3                      1                        1                      1   \n4                      1                        1                      1   \n..                   ...                      ...                    ...   \n247                    1                        1                      1   \n248                    1                        1                      1   \n249                    1                        1                      1   \n250                    1                        1                      1   \n251                    1                        1                      1   \n\n     Encuesta Docentes  Taller PC Docentes  Encuesta Estudiantes  \\\n0                    1                   1                     1   \n1                    1                   1                     1   \n2                    1                   1                     1   \n3                    1                   1                     1   \n4                    1                   1                     1   \n..                 ...                 ...                   ...   \n247                  1                   1                     1   \n248                  1                   1                     1   \n249                  1                   1                     1   \n250                  1                   1                     1   \n251                  1                   1                     1   \n\n     Infraestructura  Entrevista Líder Área Informática  Obs Aula  \\\n0                  1                                  1         1   \n1                  1                                  1         1   \n2                  1                                  1         1   \n3                  1                                  1         1   \n4                  1                                  1         1   \n..               ...                                ...       ...   \n247                1                                  1         1   \n248                1                                  1         1   \n249                1                                  1         1   \n250                1                                  1         1   \n251                1                                  1         1   \n\n     Recolección Documental  Cantidad  % Cumplimiento  \n0                         1        11             1.0  \n1                         1        11             1.0  \n2                         1        11             1.0  \n3                         1        11             1.0  \n4                         1        11             1.0  \n..                      ...       ...             ...  \n247                       1        11             1.0  \n248                       1        11             1.0  \n249                       1        11             1.0  \n250                       1        11             1.0  \n251                       1        11             1.0  \n\n[252 rows x 20 columns]",
      "text/html": "<div>\n<style scoped>\n    .dataframe tbody tr th:only-of-type {\n        vertical-align: middle;\n    }\n\n    .dataframe tbody tr th {\n        vertical-align: top;\n    }\n\n    .dataframe thead th {\n        text-align: right;\n    }\n</style>\n<table border=\"1\" class=\"dataframe\">\n  <thead>\n    <tr style=\"text-align: right;\">\n      <th></th>\n      <th>Departamento IE</th>\n      <th>Municipio IE</th>\n      <th>Nombre Institución Educativa</th>\n      <th>Código DANE IE</th>\n      <th>Código CFK IE</th>\n      <th>Fecha Visita Día 1</th>\n      <th>Fecha Visita Día 2</th>\n      <th>RID</th>\n      <th>Encuesta Directivos</th>\n      <th>PPT Programa Directivos</th>\n      <th>PPT Programa Docentes</th>\n      <th>Encuesta Docentes</th>\n      <th>Taller PC Docentes</th>\n      <th>Encuesta Estudiantes</th>\n      <th>Infraestructura</th>\n      <th>Entrevista Líder Área Informática</th>\n      <th>Obs Aula</th>\n      <th>Recolección Documental</th>\n      <th>Cantidad</th>\n      <th>% Cumplimiento</th>\n    </tr>\n  </thead>\n  <tbody>\n    <tr>\n      <th>0</th>\n      <td>Valle del Cauca</td>\n      <td>CALI</td>\n      <td>INSTITUCION EDUCATIVA TECNICO INDUSTRIAL DONAL...</td>\n      <td>176001028970</td>\n      <td>1</td>\n      <td>1</td>\n      <td>1</td>\n      <td>1</td>\n      <td>1</td>\n      <td>1</td>\n      <td>1</td>\n      <td>1</td>\n      <td>1</td>\n      <td>1</td>\n      <td>1</td>\n      <td>1</td>\n      <td>1</td>\n      <td>1</td>\n      <td>11</td>\n      <td>1.0</td>\n    </tr>\n    <tr>\n      <th>1</th>\n      <td>Valle del Cauca</td>\n      <td>CALI</td>\n      <td>INSTITUCION ETNOEDUCATIVA SANTA ROSA</td>\n      <td>176001025946</td>\n      <td>2</td>\n      <td>1</td>\n      <td>1</td>\n      <td>1</td>\n      <td>1</td>\n      <td>1</td>\n      <td>1</td>\n      <td>1</td>\n      <td>1</td>\n      <td>1</td>\n      <td>1</td>\n      <td>1</td>\n      <td>1</td>\n      <td>1</td>\n      <td>11</td>\n      <td>1.0</td>\n    </tr>\n    <tr>\n      <th>2</th>\n      <td>Valle del Cauca</td>\n      <td>CALI</td>\n      <td>INSTITUCION EDUCATIVA JUANA DE CAICEDO Y CUERO</td>\n      <td>176001004485</td>\n      <td>3</td>\n      <td>1</td>\n      <td>1</td>\n      <td>1</td>\n      <td>1</td>\n      <td>1</td>\n      <td>1</td>\n      <td>1</td>\n      <td>1</td>\n      <td>1</td>\n      <td>1</td>\n      <td>1</td>\n      <td>1</td>\n      <td>1</td>\n      <td>11</td>\n      <td>1.0</td>\n    </tr>\n    <tr>\n      <th>3</th>\n      <td>Valle del Cauca</td>\n      <td>CALI</td>\n      <td>INSTITUCION EDUCATIVA LA BUITRERA</td>\n      <td>276001005184</td>\n      <td>4</td>\n      <td>1</td>\n      <td>1</td>\n      <td>1</td>\n      <td>1</td>\n      <td>1</td>\n      <td>1</td>\n      <td>1</td>\n      <td>1</td>\n      <td>1</td>\n      <td>1</td>\n      <td>1</td>\n      <td>1</td>\n      <td>1</td>\n      <td>11</td>\n      <td>1.0</td>\n    </tr>\n    <tr>\n      <th>4</th>\n      <td>Valle del Cauca</td>\n      <td>CALI</td>\n      <td>INSTITUCION EDUCATIVA INEM JORGE ISAACS</td>\n      <td>176001005813</td>\n      <td>5</td>\n      <td>1</td>\n      <td>1</td>\n      <td>1</td>\n      <td>1</td>\n      <td>1</td>\n      <td>1</td>\n      <td>1</td>\n      <td>1</td>\n      <td>1</td>\n      <td>1</td>\n      <td>1</td>\n      <td>1</td>\n      <td>1</td>\n      <td>11</td>\n      <td>1.0</td>\n    </tr>\n    <tr>\n      <th>...</th>\n      <td>...</td>\n      <td>...</td>\n      <td>...</td>\n      <td>...</td>\n      <td>...</td>\n      <td>...</td>\n      <td>...</td>\n      <td>...</td>\n      <td>...</td>\n      <td>...</td>\n      <td>...</td>\n      <td>...</td>\n      <td>...</td>\n      <td>...</td>\n      <td>...</td>\n      <td>...</td>\n      <td>...</td>\n      <td>...</td>\n      <td>...</td>\n      <td>...</td>\n    </tr>\n    <tr>\n      <th>247</th>\n      <td>Atlántico</td>\n      <td>BARRANQUILLA</td>\n      <td>INSTITUCION EDUCATIVA ACADEMICA Y TECNICA - TU...</td>\n      <td>108372000169</td>\n      <td>248</td>\n      <td>1</td>\n      <td>1</td>\n      <td>1</td>\n      <td>1</td>\n      <td>1</td>\n      <td>1</td>\n      <td>1</td>\n      <td>1</td>\n      <td>1</td>\n      <td>1</td>\n      <td>1</td>\n      <td>1</td>\n      <td>1</td>\n      <td>11</td>\n      <td>1.0</td>\n    </tr>\n    <tr>\n      <th>248</th>\n      <td>Atlántico</td>\n      <td>BARRANQUILLA</td>\n      <td>ESCUELA NORMAL SUPERIOR LA HACIENDA</td>\n      <td>108001001821</td>\n      <td>249</td>\n      <td>1</td>\n      <td>1</td>\n      <td>1</td>\n      <td>1</td>\n      <td>1</td>\n      <td>1</td>\n      <td>1</td>\n      <td>1</td>\n      <td>1</td>\n      <td>1</td>\n      <td>1</td>\n      <td>1</td>\n      <td>1</td>\n      <td>11</td>\n      <td>1.0</td>\n    </tr>\n    <tr>\n      <th>249</th>\n      <td>Atlántico</td>\n      <td>BARRANQUILLA</td>\n      <td>INSTITUCION EDUCATIVA DISTRITAL SANTA MARIA - ...</td>\n      <td>108001078998</td>\n      <td>250</td>\n      <td>1</td>\n      <td>1</td>\n      <td>1</td>\n      <td>1</td>\n      <td>1</td>\n      <td>1</td>\n      <td>1</td>\n      <td>1</td>\n      <td>1</td>\n      <td>1</td>\n      <td>1</td>\n      <td>1</td>\n      <td>1</td>\n      <td>11</td>\n      <td>1.0</td>\n    </tr>\n    <tr>\n      <th>250</th>\n      <td>Atlántico</td>\n      <td>BARRANQUILLA</td>\n      <td>INSTITUCION EDUCATIVA DISTRITAL VILLAS DE SAN ...</td>\n      <td>108001800065</td>\n      <td>251</td>\n      <td>1</td>\n      <td>1</td>\n      <td>1</td>\n      <td>1</td>\n      <td>1</td>\n      <td>1</td>\n      <td>1</td>\n      <td>1</td>\n      <td>1</td>\n      <td>1</td>\n      <td>1</td>\n      <td>1</td>\n      <td>1</td>\n      <td>11</td>\n      <td>1.0</td>\n    </tr>\n    <tr>\n      <th>251</th>\n      <td>Atlántico</td>\n      <td>BARRANQUILLA</td>\n      <td>INSTITUCION EDUCATIVA DISTRITAL DE BARRANQUILL...</td>\n      <td>108001000824</td>\n      <td>252</td>\n      <td>1</td>\n      <td>1</td>\n      <td>1</td>\n      <td>1</td>\n      <td>1</td>\n      <td>1</td>\n      <td>1</td>\n      <td>1</td>\n      <td>1</td>\n      <td>1</td>\n      <td>1</td>\n      <td>1</td>\n      <td>1</td>\n      <td>11</td>\n      <td>1.0</td>\n    </tr>\n  </tbody>\n</table>\n<p>252 rows × 20 columns</p>\n</div>"
     },
     "execution_count": 102,
     "metadata": {},
     "output_type": "execute_result"
    }
   ],
   "source": [
    "names_act = [x[7:] for x in cols_act]\n",
    "dict_act = dict(zip(cols_act,names_act))\n",
    "actividades = actividades.rename(columns=dict_act)\n",
    "actividades"
   ],
   "metadata": {
    "collapsed": false,
    "pycharm": {
     "name": "#%%\n"
    }
   }
  },
  {
   "cell_type": "code",
   "execution_count": 103,
   "outputs": [],
   "source": [
    "piv_c = actividades[names_act].sum(axis=0).reset_index().rename(columns={0:'Cant IE', 'index':'Actividad'})\n",
    "piv_c['Frecuencia'] = piv_c['Cant IE']/252\n",
    "piv_c.to_feather('../../../data/c_pages/monitoreo/mon_cons3.feather')"
   ],
   "metadata": {
    "collapsed": false,
    "pycharm": {
     "name": "#%%\n"
    }
   }
  },
  {
   "cell_type": "code",
   "execution_count": 92,
   "outputs": [
    {
     "data": {
      "text/plain": "                                   Actividad  Cant IE  Frecuencia\n0                                 Estado RID      251    0.996032\n1                 Estado Encuesta Directivos      251    0.996032\n2             Estado PPT Programa Directivos      251    0.996032\n3               Estado PPT Programa Docentes      251    0.996032\n4                   Estado Encuesta Docentes      251    0.996032\n5                  Estado Taller PC Docentes      250    0.992063\n6                Estado Encuesta Estudiantes      250    0.992063\n7                     Estado Infraestructura      251    0.996032\n8   Estado Entrevista Líder Área Informática      251    0.996032\n9                            Estado Obs Aula      249    0.988095\n10             Estado Recolección Documental      251    0.996032",
      "text/html": "<div>\n<style scoped>\n    .dataframe tbody tr th:only-of-type {\n        vertical-align: middle;\n    }\n\n    .dataframe tbody tr th {\n        vertical-align: top;\n    }\n\n    .dataframe thead th {\n        text-align: right;\n    }\n</style>\n<table border=\"1\" class=\"dataframe\">\n  <thead>\n    <tr style=\"text-align: right;\">\n      <th></th>\n      <th>Actividad</th>\n      <th>Cant IE</th>\n      <th>Frecuencia</th>\n    </tr>\n  </thead>\n  <tbody>\n    <tr>\n      <th>0</th>\n      <td>Estado RID</td>\n      <td>251</td>\n      <td>0.996032</td>\n    </tr>\n    <tr>\n      <th>1</th>\n      <td>Estado Encuesta Directivos</td>\n      <td>251</td>\n      <td>0.996032</td>\n    </tr>\n    <tr>\n      <th>2</th>\n      <td>Estado PPT Programa Directivos</td>\n      <td>251</td>\n      <td>0.996032</td>\n    </tr>\n    <tr>\n      <th>3</th>\n      <td>Estado PPT Programa Docentes</td>\n      <td>251</td>\n      <td>0.996032</td>\n    </tr>\n    <tr>\n      <th>4</th>\n      <td>Estado Encuesta Docentes</td>\n      <td>251</td>\n      <td>0.996032</td>\n    </tr>\n    <tr>\n      <th>5</th>\n      <td>Estado Taller PC Docentes</td>\n      <td>250</td>\n      <td>0.992063</td>\n    </tr>\n    <tr>\n      <th>6</th>\n      <td>Estado Encuesta Estudiantes</td>\n      <td>250</td>\n      <td>0.992063</td>\n    </tr>\n    <tr>\n      <th>7</th>\n      <td>Estado Infraestructura</td>\n      <td>251</td>\n      <td>0.996032</td>\n    </tr>\n    <tr>\n      <th>8</th>\n      <td>Estado Entrevista Líder Área Informática</td>\n      <td>251</td>\n      <td>0.996032</td>\n    </tr>\n    <tr>\n      <th>9</th>\n      <td>Estado Obs Aula</td>\n      <td>249</td>\n      <td>0.988095</td>\n    </tr>\n    <tr>\n      <th>10</th>\n      <td>Estado Recolección Documental</td>\n      <td>251</td>\n      <td>0.996032</td>\n    </tr>\n  </tbody>\n</table>\n</div>"
     },
     "execution_count": 92,
     "metadata": {},
     "output_type": "execute_result"
    }
   ],
   "source": [
    "piv_c"
   ],
   "metadata": {
    "collapsed": false,
    "pycharm": {
     "name": "#%%\n"
    }
   }
  },
  {
   "cell_type": "code",
   "execution_count": null,
   "outputs": [],
   "source": [],
   "metadata": {
    "collapsed": false,
    "pycharm": {
     "name": "#%%\n"
    }
   }
  }
 ],
 "metadata": {
  "kernelspec": {
   "display_name": "Python 3",
   "language": "python",
   "name": "python3"
  },
  "language_info": {
   "codemirror_mode": {
    "name": "ipython",
    "version": 2
   },
   "file_extension": ".py",
   "mimetype": "text/x-python",
   "name": "python",
   "nbconvert_exporter": "python",
   "pygments_lexer": "ipython2",
   "version": "2.7.6"
  }
 },
 "nbformat": 4,
 "nbformat_minor": 0
}