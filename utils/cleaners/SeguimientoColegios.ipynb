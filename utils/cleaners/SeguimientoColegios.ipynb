{
 "cells": [
  {
   "cell_type": "code",
   "execution_count": 1,
   "id": "21cda7ec",
   "metadata": {},
   "outputs": [],
   "source": [
    "import pandas as pd\n",
    "import numpy as np\n",
    "from apply import apply"
   ]
  },
  {
   "cell_type": "code",
   "execution_count": 181,
   "id": "36f0e598",
   "metadata": {
    "tags": []
   },
   "outputs": [],
   "source": [
    "df1= pd.read_excel(\"Estudiantes.xlsx\")\n",
    "\n",
    "## Seleccionar solo las columnas que vamos a usar, para no tener tanta cosa.\n",
    "## y botar los nulos\n",
    "\n",
    "df1 = df1.loc[:,[ 'Código de la institución educativa','Grado', 'Grupo',\n",
    "                 'Número de lista', 'Edad', 'Sexo']]\n",
    "\n",
    "diccionariogrados={'Noveno':\"09\", 'Octavo':\"08\", 'Sexto':\"06\", 'Décimo':\"10\", 'Séptimo':\"07\", 'Once':\"11\", 'Quinto':\"05\"}\n",
    "df1[\"Grado\"]=df1[\"Grado\"].replace(diccionariogrados)\n",
    "#id-> códigoinst+Grado+Grupo+númerodelista\n",
    "\n",
    "df1.loc[(df1.index.isin(range(9024,9123)))&(df1['Código de la institución educativa']==105),'Código de la institución educativa'] = 103"
   ]
  },
  {
   "cell_type": "code",
   "execution_count": 182,
   "id": "9f710b79-42a8-41ce-95f8-ae82a7b110e2",
   "metadata": {},
   "outputs": [
    {
     "data": {
      "text/plain": [
       "array(['B o 02', 'A o 01', 'D o 04', 'E o 05', '9-F', '9f', 'f', 'f o 06',\n",
       "       'F', 'f o 06 ', '9.f', '6g', '6G', '6 g', '6 G', 'G o 06', '6-G',\n",
       "       'Noveno E', '16.0', '11-16', '1116.0', '906.0', '0 o 6', 'f o 6',\n",
       "       '06', '6 seis', '6.0', 'C o 03', '6 C', '6 c', '07', '607.0',\n",
       "       '7.0', '15.0', '9-1', 'No 1', 'noveno 1', '9.1', '9-2', '902.0',\n",
       "       '9_2', '2.0', 'b_2', '6-3', '603.0', '604.0', '9.0', '905.0',\n",
       "       '95.0', '6-8', '608.0', 'H O 608', '08', '6-08', '6 o 08', '9-5',\n",
       "       'f o 08', '6 08', '0 8', '606.0', '9-6', '96.0', '09', '6`-7',\n",
       "       '6-7', '605.0', '9-4', 'sexto tres', 'Seis 3', 'sexto 3',\n",
       "       'sexto  tres', '6.3', 'sexto   tres', '6-1', 'G o 07', '6.7',\n",
       "       '809.0', '71.0', '6a', 'o7', '0 7', 'g o 07', 'G O 07', 'G o 7',\n",
       "       'g o7', '6 o 07', 'g o  07', 'G 07', 'G 0 07', 'G 07 ', '07+',\n",
       "       'g  07', 'G o  07', 'SEXTO G O7', '6-07', 'g', \"9'07\", \"9'07´\",\n",
       "       ' G-07', 'G - 07', 'g 06', '9 07', 'g° 07', 'co06', '6-2', '62.0',\n",
       "       '901.0', '9.4', '6-4', '602.0', '9-3', '3.0', '9.3', '903.0',\n",
       "       '8-1', '11.0', '6.4', '6 B', '6c', 'F o 06', 'I o 09', 'J o 10',\n",
       "       'k11', 'k o 11', '6:11', '9 - 6', '702.0', '904.0',\n",
       "       'jornada tarde 03', 'H o 08', 'Jornada tarde 603', '6.5',\n",
       "       '6-5 colegio san simon ', '6-5', '611.0', '601.0', '601 o a',\n",
       "       'urbano', '12.0', '9-12', 'L o 12', '9_12', '14.0', '6-6 ', '9-7',\n",
       "       '6-6', 'no se que significa lo de grupo ', '9 A', 'no conozco',\n",
       "       'nose'], dtype=object)"
      ]
     },
     "execution_count": 182,
     "metadata": {},
     "output_type": "execute_result"
    }
   ],
   "source": [
    "df1=df1.dropna(subset=[\"Grupo\"], inplace=False) #para eliminar filas con valores nan\n",
    "df1['Grupo']=df1['Grupo'].astype(str) #volver todo una cadena\n",
    "df1['Grupo'].unique()"
   ]
  },
  {
   "cell_type": "code",
   "execution_count": 183,
   "id": "4de820b6-9a8a-4a5e-ba88-acecd58c9bc5",
   "metadata": {},
   "outputs": [
    {
     "data": {
      "text/plain": [
       "array(['Bo02', 'Ao01', 'Do04', 'Eo05', '9-f', '9f', 'F', 'Fo06', '9.f',\n",
       "       '6g', 'Go06', '6-g', 'e', '16.0', '11-16', '1116.0', '906.0',\n",
       "       '0o6', 'Fo6', '06', '6', '6.0', 'Co03', '6c', '07', '607.0', '7.0',\n",
       "       '15.0', '9-1', 'No1', '1', '9.1', '9-2', '902.0', '9_2', '2.0',\n",
       "       'B_2', '6-3', '603.0', '604.0', '9.0', '905.0', '95.0', '6-8',\n",
       "       '608.0', 'Ho608', '08', '6-08', '6o08', '9-5', 'Fo08', '608',\n",
       "       '606.0', '9-6', '96.0', '09', '6`-7', '6-7', '605.0', '9-4',\n",
       "       'tres', 'Seis3', '3', '6.3', '6-1', 'Go07', '6.7', '809.0', '71.0',\n",
       "       '6a', 'O7', 'Go7', '6o07', 'G07', 'G007', '07+', 'go7', '6-07',\n",
       "       'G', \"9'07\", \"9'07´\", 'G-07', 'G06', '907', 'G°07', 'Co06', '6-2',\n",
       "       '62.0', '901.0', '9.4', '6-4', '602.0', '9-3', '3.0', '9.3',\n",
       "       '903.0', '8-1', '11.0', '6.4', '6b', 'Io09', 'Jo10', 'K11', 'Ko11',\n",
       "       '6:11', '702.0', '904.0', '03', 'Ho08', '603', '6.5', '6-5',\n",
       "       '611.0', '601.0', '601oa', 'Urbano', '12.0', '9-12', 'Lo12',\n",
       "       '9_12', '14.0', '6-6', '9-7', 'Nosequesignificalodegrupo', '9a',\n",
       "       'Noconozco', 'Nose'], dtype=object)"
      ]
     },
     "execution_count": 183,
     "metadata": {},
     "output_type": "execute_result"
    }
   ],
   "source": [
    "df1[\"Grupo\"]=df1[\"Grupo\"].str.replace(\" \",\"\")\n",
    "df1[\"Grupo\"]=df1[\"Grupo\"].str.capitalize().str.replace(\"Sexto\",\"\").str.replace(\"Noveno\",\"\").str.replace(\"seis\",\"\")\n",
    "df1['Grupo']=df1['Grupo'].str.replace(\"Jornadatarde\",\"\")\n",
    "df1['Grupo']=df1['Grupo'].str.replace(\"colegiosansimon\",\"\")\n",
    "df1['Grupo'].unique()"
   ]
  },
  {
   "cell_type": "code",
   "execution_count": 184,
   "id": "8fa3e993-138c-487e-9708-b4561d26a1ac",
   "metadata": {},
   "outputs": [
    {
     "data": {
      "text/plain": [
       "array(['02', '01', '04', '05', '9-f', '9f', 'F', '06', '9.f', '6g',\n",
       "       'Go06', '6-g', 'e', '16.0', '11-16', '1116.0', '906.0', '0o6',\n",
       "       'Fo6', '6', '6.0', '03', '6c', '07', '607.0', '7.0', '15.0', '9-1',\n",
       "       'No1', '1', '9.1', '9-2', '902.0', '9_2', '2.0', 'B_2', '6-3',\n",
       "       '603.0', '604.0', '9.0', '905.0', '95.0', '6-8', '608.0', 'Ho608',\n",
       "       '08', '6-08', '6o08', '9-5', 'Fo08', '608', '606.0', '9-6', '96.0',\n",
       "       '09', '6`-7', '6-7', '605.0', '9-4', 'tres', 'Seis3', '3', '6.3',\n",
       "       '6-1', '6.7', '809.0', '71.0', '6a', 'O7', 'Go7', '6o07', 'G07',\n",
       "       'G007', '07+', 'go7', '6-07', 'G', \"9'07\", \"9'07´\", 'G-07', 'G06',\n",
       "       '907', 'G°07', 'Co06', '6-2', '62.0', '901.0', '9.4', '6-4',\n",
       "       '602.0', '9-3', '3.0', '9.3', '903.0', '8-1', '11.0', '6.4', '6b',\n",
       "       '10', 'K11', '11', '6:11', '702.0', '904.0', '603', '6.5', '6-5',\n",
       "       '611.0', '601.0', '601oa', '12.0', '9-12', '12', '9_12', '14.0',\n",
       "       '6-6', '9-7', '9a'], dtype=object)"
      ]
     },
     "execution_count": 184,
     "metadata": {},
     "output_type": "execute_result"
    }
   ],
   "source": [
    "#Respuesta de las encuestas\n",
    "diccionariogrupos1={'Bo02':\"02\", 'Ao01':\"01\",'Co03':\"03\", 'Do04':\"04\", 'Eo05':\"05\", 'Fo06':\"06\", 'Go07':\"07\", 'Ho08':\"08\", 'Io09':\"09\", 'Jo10':\"10\", 'Ko11':\"11\", 'Lo12':\"12\", \"Urbano\":None, \"Nosequesignificalodegrupo\":None, \"Noconozco\":None, \"Nose\":None} #valor exactamente igual\n",
    "df1[\"Grupo\"]=df1[\"Grupo\"].replace(diccionariogrupos1)\n",
    "df1=df1.dropna(subset=[\"Grupo\"], inplace=False)\n",
    "df1['Grupo'].unique()"
   ]
  },
  {
   "cell_type": "code",
   "execution_count": 185,
   "id": "9350fbc2-2695-45f9-b1fe-f826c4a01d40",
   "metadata": {},
   "outputs": [
    {
     "name": "stderr",
     "output_type": "stream",
     "text": [
      "C:\\Users\\cvieira\\AppData\\Local\\Temp\\ipykernel_1400\\2118063359.py:7: FutureWarning: The default value of regex will change from True to False in a future version. In addition, single character regular expressions will *not* be treated as literal strings when regex=True.\n",
      "  df1[\"Grupo\"]=df1[\"Grupo\"].str.replace(\"+\",\"\")\n"
     ]
    },
    {
     "data": {
      "text/plain": [
       "array(['02', '01', '04', '05', '9f', 'F', '06', '9.f', '6g', 'Go06', 'e',\n",
       "       '16.0', '1116', '1116.0', '906.0', '0o6', 'Fo6', '6', '6.0', '03',\n",
       "       '6c', '07', '607.0', '7.0', '15.0', '91', 'No1', '1', '9.1', '92',\n",
       "       '902.0', '2.0', 'B2', '63', '603.0', '604.0', '9.0', '905.0',\n",
       "       '95.0', '68', '608.0', 'Ho608', '08', '608', '6o08', '95', 'Fo08',\n",
       "       '606.0', '96', '96.0', '09', '67', '605.0', '94', 'tres', 'Seis3',\n",
       "       '3', '6.3', '61', '6.7', '809.0', '71.0', '6a', 'O7', 'Go7',\n",
       "       '6o07', 'G07', 'G007', 'go7', '607', 'G', '907', 'G06', 'G°07',\n",
       "       'Co06', '62', '62.0', '901.0', '9.4', '64', '602.0', '93', '3.0',\n",
       "       '9.3', '903.0', '81', '11.0', '6.4', '6b', '10', 'K11', '11',\n",
       "       '611', '702.0', '904.0', '603', '6.5', '65', '611.0', '601.0',\n",
       "       '601oa', '12.0', '912', '12', '14.0', '66', '97', '9a'],\n",
       "      dtype=object)"
      ]
     },
     "execution_count": 185,
     "metadata": {},
     "output_type": "execute_result"
    }
   ],
   "source": [
    "df1[\"Grupo\"]=df1[\"Grupo\"].str.replace(\"_\",\"\")\n",
    "df1[\"Grupo\"]=df1[\"Grupo\"].str.replace(\"`\",\"\")\n",
    "df1[\"Grupo\"]=df1[\"Grupo\"].str.replace(\"´\",\"\")\n",
    "df1[\"Grupo\"]=df1[\"Grupo\"].str.replace(\":\",\"\")\n",
    "df1[\"Grupo\"]=df1[\"Grupo\"].str.replace(\"-\",\"\")\n",
    "df1[\"Grupo\"]=df1[\"Grupo\"].str.replace(\"'\",\"\")\n",
    "df1[\"Grupo\"]=df1[\"Grupo\"].str.replace(\"+\",\"\")\n",
    "df1['Grupo'].unique()"
   ]
  },
  {
   "cell_type": "code",
   "execution_count": 186,
   "id": "09e0aef1-0fac-4c1f-bf94-36ad00514dd1",
   "metadata": {},
   "outputs": [
    {
     "data": {
      "text/plain": [
       "array(['02', '01', '04', '05', '906', '06', '9.06', '607', '07', 'e',\n",
       "       '16.0', '1116', '1116.0', '906.0', '0o6', '6', '6.0', '03', '6c',\n",
       "       '607.0', '7.0', '15.0', '91', '1', '9.1', '92', '902.0', '2.0',\n",
       "       'B2', '63', '603.0', '604.0', '9.0', '905.0', '95.0', '68',\n",
       "       '608.0', '08', '608', '6o08', '95', '606.0', '96', '96.0', '09',\n",
       "       '67', '605.0', '94', 'tres', 'Seis3', '3', '6.3', '61', '6.7',\n",
       "       '809.0', '71.0', '6a', 'O7', '6o07', '907', 'Co06', '62', '62.0',\n",
       "       '901.0', '9.4', '64', '602.0', '93', '3.0', '9.3', '903.0', '81',\n",
       "       '11.0', '6.4', '6b', '10', '11', '611', '702.0', '904.0', '603',\n",
       "       '6.5', '65', '611.0', '601.0', '601oa', '12.0', '912', '12',\n",
       "       '14.0', '66', '97', '9a'], dtype=object)"
      ]
     },
     "execution_count": 186,
     "metadata": {},
     "output_type": "execute_result"
    }
   ],
   "source": [
    "df1[\"Grupo\"]=df1[\"Grupo\"].replace(r'[Gg](.*)',\"07\",regex=True)\n",
    "df1[\"Grupo\"]=df1[\"Grupo\"].replace(r'[Ff](.*)',\"06\",regex=True) #regex buscador\n",
    "df1[\"Grupo\"]=df1[\"Grupo\"].replace(r'[Hh](.*)',\"08\",regex=True)\n",
    "df1[\"Grupo\"]=df1[\"Grupo\"].replace(r'[Kk](.*)',\"11\",regex=True)\n",
    "df1[\"Grupo\"]=df1[\"Grupo\"].str.replace(\"No\",\"\")\n",
    "df1['Grupo'].unique()"
   ]
  },
  {
   "cell_type": "code",
   "execution_count": 187,
   "id": "965c6bc2-c1e4-4e81-99ef-f7304de26af3",
   "metadata": {},
   "outputs": [
    {
     "data": {
      "text/plain": [
       "array(['02', '01', '04', '05', '906', '06', '9.06', '607', '07', 'e',\n",
       "       '16.0', '1116', '1116.0', '906.0', '0o6', '6', '6.0', '03', '6c',\n",
       "       '607.0', '7.0', '15.0', '91', '1', '9.1', '92', '902.0', '2.0',\n",
       "       'B2', '63', '603.0', '604.0', '9.0', '905.0', '95.0', '68',\n",
       "       '608.0', '08', '608', '6o08', '95', '606.0', '96', '96.0', '09',\n",
       "       '67', '605.0', '94', '3', '6.3', '61', '6.7', '809.0', '71.0',\n",
       "       '6a', 'O7', '6o07', '907', 'Co06', '62', '62.0', '901.0', '9.4',\n",
       "       '64', '602.0', '93', '3.0', '9.3', '903.0', '81', '11.0', '6.4',\n",
       "       '6b', '10', '11', '611', '702.0', '904.0', '603', '6.5', '65',\n",
       "       '611.0', '601.0', '601oa', '12.0', '912', '12', '14.0', '66', '97',\n",
       "       '9a'], dtype=object)"
      ]
     },
     "execution_count": 187,
     "metadata": {},
     "output_type": "execute_result"
    }
   ],
   "source": [
    "#cambiando letras por números\n",
    "diccionariogrupos1={'Tres':\"03\",'tres':\"03\",'Seis3':\"03\",'6seis':\"06\"}\n",
    "df1[\"Grupo\"]=df1[\"Grupo\"].replace(diccionariogrupos1)\n",
    "df1=df1.dropna(subset=[\"Grupo\"], inplace=False)\n",
    "df1['Grupo'].unique()"
   ]
  },
  {
   "cell_type": "code",
   "execution_count": 188,
   "id": "6e42a842-1f71-4c00-8c41-b928009cd035",
   "metadata": {},
   "outputs": [
    {
     "data": {
      "text/plain": [
       "array(['02', '01', '04', '05', '906', '06', '9.06', '607', '07', '16.0',\n",
       "       '1116', '1116.0', '906.0', '6', '6.0', '03', '603', '607.0', '7.0',\n",
       "       '15.0', '91', '1', '9.1', '92', '902.0', '2.0', '63', '603.0',\n",
       "       '604.0', '9.0', '905.0', '95.0', '68', '608.0', '08', '608', '95',\n",
       "       '606.0', '96', '96.0', '09', '67', '605.0', '94', '3', '6.3', '61',\n",
       "       '6.7', '809.0', '71.0', '601', 'O7', '907', '62', '62.0', '901.0',\n",
       "       '9.4', '64', '602.0', '93', '3.0', '9.3', '903.0', '81', '11.0',\n",
       "       '6.4', '602', '10', '11', '611', '702.0', '904.0', '6.5', '65',\n",
       "       '611.0', '601.0', '60101', '12.0', '912', '12', '14.0', '66', '97',\n",
       "       '901'], dtype=object)"
      ]
     },
     "execution_count": 188,
     "metadata": {},
     "output_type": "execute_result"
    }
   ],
   "source": [
    "df1[\"Grupo\"]=df1[\"Grupo\"].replace(r'[Aa](.*)',\"01\",regex=True)\n",
    "df1[\"Grupo\"]=df1[\"Grupo\"].replace(r'[Bb](.*)',\"02\",regex=True) #regex buscador\n",
    "df1[\"Grupo\"]=df1[\"Grupo\"].replace(r'[Cc](.*)',\"03\",regex=True)\n",
    "df1[\"Grupo\"]=df1[\"Grupo\"].replace(r'[Ee](.*)',\"04\",regex=True)\n",
    "df1[\"Grupo\"]=df1[\"Grupo\"].str.replace(\"o\",\"\")\n",
    "df1[\"Grupo\"].unique()"
   ]
  },
  {
   "cell_type": "code",
   "execution_count": 189,
   "id": "becf2767-861e-4bb3-828d-9902b5cb8e20",
   "metadata": {},
   "outputs": [
    {
     "name": "stderr",
     "output_type": "stream",
     "text": [
      "C:\\Users\\cvieira\\AppData\\Local\\Temp\\ipykernel_1400\\2981865898.py:3: FutureWarning: The default value of regex will change from True to False in a future version. In addition, single character regular expressions will *not* be treated as literal strings when regex=True.\n",
      "  df1[\"Grupo\"]=df1[\"Grupo\"].str.replace(\".\",\"\")\n"
     ]
    },
    {
     "data": {
      "text/plain": [
       "array(['02', '01', '04', '05', '906', '06', '96', '607', '07', '16',\n",
       "       '1116', '6', '03', '603', '7', '15', '91', '1', '92', '902', '2',\n",
       "       '63', '604', '9', '905', '95', '68', '608', '08', '606', '09',\n",
       "       '67', '605', '94', '3', '61', '809', '71', '601', '907', '62',\n",
       "       '901', '64', '602', '93', '903', '81', '11', '10', '611', '702',\n",
       "       '904', '65', '60101', '12', '912', '14', '66', '97'], dtype=object)"
      ]
     },
     "execution_count": 189,
     "metadata": {},
     "output_type": "execute_result"
    }
   ],
   "source": [
    "df1[\"Grupo\"]=df1[\"Grupo\"].str.replace(\"O\",\"\")\n",
    "df1[\"Grupo\"]=df1[\"Grupo\"].str.replace(\".0\",\"\", regex=False)\n",
    "df1[\"Grupo\"]=df1[\"Grupo\"].str.replace(\".\",\"\")\n",
    "df1['Grupo'].unique()"
   ]
  },
  {
   "cell_type": "code",
   "execution_count": 190,
   "id": "d63ea694-1beb-4567-8d9f-49a7bdda58f7",
   "metadata": {},
   "outputs": [
    {
     "data": {
      "text/plain": [
       "array(['02', '01', '04', '05', '06', '07', '16', '03', '15', '09', '08',\n",
       "       '11', '10', '12', '14'], dtype=object)"
      ]
     },
     "execution_count": 190,
     "metadata": {},
     "output_type": "execute_result"
    }
   ],
   "source": [
    "df1['Grupo']=[x[-2:] if int(x[-2:])<20 else x[-1] for x in df1[\"Grupo\"]]\n",
    "df1['Grupo']=df1['Grupo'].str.zfill(2)\n",
    "df1['Grupo'].unique()"
   ]
  },
  {
   "cell_type": "code",
   "execution_count": 191,
   "id": "ff2637e8-4a6e-4b06-b85c-e9d7fed5471d",
   "metadata": {},
   "outputs": [
    {
     "data": {
      "text/plain": [
       "array(['03', '07', '30', '06', '10', '09', '02', '29', '19', '12', '22',\n",
       "       '04', '16', '15', '11', '24', '18', '23', '08', '21', '27', '13',\n",
       "       '17', '28', '01', '14', '05', '20', '31', '26', '34', '36', '32',\n",
       "       '33', '25', '37', '35', '40', '39', '38', '41', '44', '43', '42',\n",
       "       '45', '50', '49', '46', '47', '52', '48', '54', '57', '55'],\n",
       "      dtype=object)"
      ]
     },
     "execution_count": 191,
     "metadata": {},
     "output_type": "execute_result"
    }
   ],
   "source": [
    "df1= df1[df1['Número de lista'] < 60]\n",
    "df1['Número de lista']=df1['Número de lista'].astype(int)\n",
    "df1['Número de lista']=df1['Número de lista'].astype(str)\n",
    "df1['Número de lista']=df1['Número de lista'].str.zfill(2)\n",
    "df1['Número de lista'].unique()"
   ]
  },
  {
   "cell_type": "code",
   "execution_count": 192,
   "id": "a758e3d0-d8cb-4cab-8cff-4ee09affa421",
   "metadata": {},
   "outputs": [
    {
     "data": {
      "text/plain": [
       "array(['166', '247', '116', '107', '092', '211', '122', '046', '036',\n",
       "       '027', '152', '231', '102', '235', '002', '001', '213', '130',\n",
       "       '172', '252', '103', '072', '019', '026', '098', '022', '020',\n",
       "       '043', '075', '110', '042', '045', '123', '017', '218', '034',\n",
       "       '011', '033', '006', '018', '226', '023', '181', '032', '012',\n",
       "       '058', '167', '038', '100', '183', '176', '182', '179', '240',\n",
       "       '165', '153', '128', '021', '074', '028', '029', '180', '003',\n",
       "       '228', '007', '016', '162', '010', '170', '059', '053', '178',\n",
       "       '227', '185', '177', '248', '030', '168', '222', '132', '175',\n",
       "       '097', '035', '048', '106', '241', '024', '004', '079', '114',\n",
       "       '071', '230', '040', '163', '093', '224', '073', '082', '080',\n",
       "       '061', '083', '015', '173', '031', '069', '229', '244', '005',\n",
       "       '014', '025', '225', '095', '204', '209', '057', '009', '250',\n",
       "       '077', '131', '067', '041', '094', '223', '233', '259', '171',\n",
       "       '251', '089', '117', '184', '169', '112', '208', '099', '054',\n",
       "       '013', '236', '008', '129', '189', '246', '139', '039', '108',\n",
       "       '190', '121', '055', '115', '105', '051', '219', '202', '200',\n",
       "       '056', '249', '037'], dtype=object)"
      ]
     },
     "execution_count": 192,
     "metadata": {},
     "output_type": "execute_result"
    }
   ],
   "source": [
    "df1= df1[df1['Código de la institución educativa'] > 0]\n",
    "df1= df1[df1['Código de la institución educativa'] < 271]\n",
    "df1['Código de la institución educativa']=df1['Código de la institución educativa'].astype(int)\n",
    "df1['Código de la institución educativa']=df1['Código de la institución educativa'].astype(str)\n",
    "df1['Código de la institución educativa']=df1['Código de la institución educativa'].str.zfill(3)\n",
    "df1['Código de la institución educativa'].unique()"
   ]
  },
  {
   "cell_type": "code",
   "execution_count": 193,
   "id": "0c16fd86-a433-4a2e-9b05-c4cd3b3d55f9",
   "metadata": {
    "tags": []
   },
   "outputs": [
    {
     "data": {
      "text/html": [
       "<div>\n",
       "<style scoped>\n",
       "    .dataframe tbody tr th:only-of-type {\n",
       "        vertical-align: middle;\n",
       "    }\n",
       "\n",
       "    .dataframe tbody tr th {\n",
       "        vertical-align: top;\n",
       "    }\n",
       "\n",
       "    .dataframe thead th {\n",
       "        text-align: right;\n",
       "    }\n",
       "</style>\n",
       "<table border=\"1\" class=\"dataframe\">\n",
       "  <thead>\n",
       "    <tr style=\"text-align: right;\">\n",
       "      <th></th>\n",
       "      <th>Código de la institución educativa</th>\n",
       "      <th>Grado</th>\n",
       "      <th>Grupo</th>\n",
       "      <th>Número de lista</th>\n",
       "      <th>Edad</th>\n",
       "      <th>Sexo</th>\n",
       "      <th>ID</th>\n",
       "    </tr>\n",
       "  </thead>\n",
       "  <tbody>\n",
       "    <tr>\n",
       "      <th>1</th>\n",
       "      <td>166</td>\n",
       "      <td>09</td>\n",
       "      <td>02</td>\n",
       "      <td>03</td>\n",
       "      <td>14.0</td>\n",
       "      <td>Masculino</td>\n",
       "      <td>166090203</td>\n",
       "    </tr>\n",
       "    <tr>\n",
       "      <th>2</th>\n",
       "      <td>166</td>\n",
       "      <td>09</td>\n",
       "      <td>02</td>\n",
       "      <td>07</td>\n",
       "      <td>16.0</td>\n",
       "      <td>Masculino</td>\n",
       "      <td>166090207</td>\n",
       "    </tr>\n",
       "    <tr>\n",
       "      <th>3</th>\n",
       "      <td>166</td>\n",
       "      <td>09</td>\n",
       "      <td>02</td>\n",
       "      <td>30</td>\n",
       "      <td>14.0</td>\n",
       "      <td>Femenino</td>\n",
       "      <td>166090230</td>\n",
       "    </tr>\n",
       "    <tr>\n",
       "      <th>4</th>\n",
       "      <td>166</td>\n",
       "      <td>09</td>\n",
       "      <td>02</td>\n",
       "      <td>06</td>\n",
       "      <td>15.0</td>\n",
       "      <td>Masculino</td>\n",
       "      <td>166090206</td>\n",
       "    </tr>\n",
       "    <tr>\n",
       "      <th>5</th>\n",
       "      <td>166</td>\n",
       "      <td>09</td>\n",
       "      <td>02</td>\n",
       "      <td>10</td>\n",
       "      <td>14.0</td>\n",
       "      <td>Femenino</td>\n",
       "      <td>166090210</td>\n",
       "    </tr>\n",
       "  </tbody>\n",
       "</table>\n",
       "</div>"
      ],
      "text/plain": [
       "  Código de la institución educativa Grado Grupo Número de lista  Edad  \\\n",
       "1                                166    09    02              03  14.0   \n",
       "2                                166    09    02              07  16.0   \n",
       "3                                166    09    02              30  14.0   \n",
       "4                                166    09    02              06  15.0   \n",
       "5                                166    09    02              10  14.0   \n",
       "\n",
       "        Sexo         ID  \n",
       "1  Masculino  166090203  \n",
       "2  Masculino  166090207  \n",
       "3   Femenino  166090230  \n",
       "4  Masculino  166090206  \n",
       "5   Femenino  166090210  "
      ]
     },
     "execution_count": 193,
     "metadata": {},
     "output_type": "execute_result"
    }
   ],
   "source": [
    "df1['ID']=df1['Código de la institución educativa']+df1['Grado']+df1['Grupo']+df1['Número de lista']\n",
    "df1['ID'].unique()\n",
    "df1.head()"
   ]
  },
  {
   "cell_type": "code",
   "execution_count": 231,
   "id": "9a3f2529-dce9-4906-8577-f5dfae37342e",
   "metadata": {},
   "outputs": [],
   "source": [
    "df2= df1.loc[:,[ 'Código de la institución educativa','ID']]\n",
    "df2['Instrumento']=\"Encuesta estudiantes\"\n",
    "#en columna de instrumento, colocar encuesta estudiantes\n",
    "    \n",
    "df2=df2.rename(columns={'Código de la institución educativa':'Código IE'})"
   ]
  },
  {
   "cell_type": "code",
   "execution_count": 258,
   "id": "9f76ae48-0111-4a2a-bd95-f7b0359b82fb",
   "metadata": {},
   "outputs": [],
   "source": [
    "df3=pd.read_excel(\"Docentes.xlsx\") #1461 datos\n",
    "df3['Instrumento']=\"Encuesta docentes\"\n",
    "df3=df3.rename(columns={'Código de la institución educativa suministrado por el proyecto ':'Código IE' , 'Número de documento':'ID'})\n",
    "df3=df3.dropna(subset=[\"Código IE\"], inplace=False) #se borran 37 datos, quedan 1424"
   ]
  },
  {
   "cell_type": "code",
   "execution_count": 259,
   "id": "880162e2-a27d-4267-a4cc-22a11caf0aa1",
   "metadata": {},
   "outputs": [
    {
     "name": "stderr",
     "output_type": "stream",
     "text": [
      "C:\\Users\\cvieira\\AppData\\Local\\Temp\\ipykernel_1400\\3082214720.py:5: FutureWarning: The default value of regex will change from True to False in a future version. In addition, single character regular expressions will *not* be treated as literal strings when regex=True.\n",
      "  df3[\"Código IE\"]=df3[\"Código IE\"].str.replace(\".\",\"\")\n"
     ]
    },
    {
     "data": {
      "text/plain": [
       "array(['163', '150', '206', '231', '176', '129', '166', '55', '151',\n",
       "       '176109000311', '211', '000', '92', '166001006008', '21', '107',\n",
       "       '76', '198', '199', '7', '247', '183', '07', '67', '66', '152',\n",
       "       '186', '5', '128', '218', '8', '205', '179', '185', '213', '88',\n",
       "       '203', '2', '159', '212', '123', '72', '46', '98', '0000', '1',\n",
       "       '52', '54', '57', '110', '64', '189', '62', '130', '32', '47',\n",
       "       '252', '226', '93', '227', '235', '35', '20', '167', '121', '10',\n",
       "       '27', '142', '43', '39', '178', '6', '63', '26', '96', '30', '99',\n",
       "       '103', '00', '74', '153', '165', '53', '210', '71', '119', '13',\n",
       "       '238', '229', '230', '59', '109', '215', '90', '148', '237', '240',\n",
       "       '187', '69', '145', '208', '70', '184', '168', '105', '97', '114',\n",
       "       '89', '180', '34', '132', '29', '214', '01', '162', '51', '48',\n",
       "       '3', '177', '201', '244', '241', '49', '242', '255', '22', '100',\n",
       "       '232', '56', '224', '94', '133', '217', '122', '0207', '116',\n",
       "       '228', '36', '288', '14', '73', '68', '181', '61', '75', '169',\n",
       "       '11', '23', '4', '15', '250', '127', '03', '95', '243', '45',\n",
       "       '112', '195', '117', '131', '79', '77', '149', '155', '115', '111',\n",
       "       '12', '233', '41', '91', '154', '204', '50', '223', '197', '216',\n",
       "       '057', '188', '174', '19', '161', '251', '9', '120', '113', '221',\n",
       "       '0', '191', '83', '65', '42', '28', '146', '31', '171', '200',\n",
       "       '141', '220', '118', '246', '225', '24', '193', '125', '44', '38',\n",
       "       '16', '190', '160', '236', '136', '126', '58', '80', '101', '05',\n",
       "       '108', '222', '82', '172', '156', '157', '182', '173', '170',\n",
       "       '209', '245', '104', '219'], dtype=object)"
      ]
     },
     "execution_count": 259,
     "metadata": {},
     "output_type": "execute_result"
    }
   ],
   "source": [
    "diccionariodocentes={'Nueva Esperanza La Palma ':150}\n",
    "df3[\"Código IE\"]=df3[\"Código IE\"].replace(diccionariodocentes)\n",
    "df3[\"Código IE\"]=df3[\"Código IE\"].astype(str)\n",
    "df3[\"Código IE\"]=df3[\"Código IE\"].str.replace(\".0\",\"\", regex=False)\n",
    "df3[\"Código IE\"]=df3[\"Código IE\"].str.replace(\".\",\"\")\n",
    "df3[\"Código IE\"].unique()"
   ]
  },
  {
   "cell_type": "code",
   "execution_count": 262,
   "id": "2c118968-2607-4294-a21c-593d58c229ba",
   "metadata": {},
   "outputs": [
    {
     "data": {
      "text/plain": [
       "array(['163', '150', '206', '231', '176', '129', '166', '055', '151',\n",
       "       '211', '092', '021', '107', '076', '198', '199', '007', '247',\n",
       "       '183', '067', '066', '152', '186', '005', '128', '218', '008',\n",
       "       '205', '179', '185', '213', '088', '203', '002', '159', '212',\n",
       "       '123', '072', '046', '098', '001', '052', '054', '057', '110',\n",
       "       '064', '189', '062', '130', '032', '047', '252', '226', '093',\n",
       "       '227', '235', '035', '020', '167', '121', '010', '027', '142',\n",
       "       '043', '039', '178', '006', '063', '026', '096', '030', '099',\n",
       "       '103', '074', '153', '165', '053', '210', '071', '119', '013',\n",
       "       '238', '229', '230', '059', '109', '215', '090', '148', '237',\n",
       "       '240', '187', '069', '145', '208', '070', '184', '168', '105',\n",
       "       '097', '114', '089', '180', '034', '132', '029', '214', '162',\n",
       "       '051', '048', '003', '177', '201', '244', '241', '049', '242',\n",
       "       '255', '022', '100', '232', '056', '224', '094', '133', '217',\n",
       "       '122', '207', '116', '228', '036', '014', '073', '068', '181',\n",
       "       '061', '075', '169', '011', '023', '004', '015', '250', '127',\n",
       "       '095', '243', '045', '112', '195', '117', '131', '079', '077',\n",
       "       '149', '155', '115', '111', '012', '233', '041', '091', '154',\n",
       "       '204', '050', '223', '197', '216', '188', '174', '019', '161',\n",
       "       '251', '009', '120', '113', '221', '191', '083', '065', '042',\n",
       "       '028', '146', '031', '171', '200', '141', '220', '118', '246',\n",
       "       '225', '024', '193', '125', '044', '038', '016', '190', '160',\n",
       "       '236', '136', '126', '058', '080', '101', '108', '222', '082',\n",
       "       '172', '156', '157', '182', '173', '170', '209', '245', '104',\n",
       "       '219'], dtype=object)"
      ]
     },
     "execution_count": 262,
     "metadata": {},
     "output_type": "execute_result"
    }
   ],
   "source": [
    "df3['Código IE']=df3['Código IE'].astype(float)\n",
    "df3['Código IE']=df3['Código IE'].astype(int)\n",
    "df3= df3[df3['Código IE'] > 0]\n",
    "df3=df3[df3['Código IE']<271]\n",
    "df3['Código IE']=df3['Código IE'].astype(str)\n",
    "df3['Código IE']=df3['Código IE'].str.zfill(3)\n",
    "df3['Código IE'].unique()"
   ]
  },
  {
   "cell_type": "code",
   "execution_count": 263,
   "id": "30f1806f-5522-42c1-940f-484442b95108",
   "metadata": {},
   "outputs": [],
   "source": [
    "df3['ID']=df3['ID'].astype(int) #empezamos con 1416\n",
    "df3= df3[df3['ID'] >= 1000000] #perdemos 12 datos\n",
    "df3= df3[df3['ID'] < 3000000000] #no hay datos con más de 10 cifras, quedan 1404 datos\n",
    "df3=df3.dropna(subset=[\"Código IE\"], inplace=False)"
   ]
  },
  {
   "cell_type": "code",
   "execution_count": 264,
   "id": "9b0437ea-bc20-4949-8356-024939296dbd",
   "metadata": {},
   "outputs": [],
   "source": [
    "df2=pd.concat([df2,df3],ignore_index=True,join=\"inner\")\n",
    "#pd.concat([df1, df3], join=\"inner\")"
   ]
  },
  {
   "cell_type": "code",
   "execution_count": 265,
   "id": "2c2f44fe-63d3-404b-a3fb-f7e55b406f40",
   "metadata": {},
   "outputs": [],
   "source": [
    "df4=pd.read_excel(\"Directivos.xlsx\")\n",
    "df4['Instrumento']=\"Encuesta directivos\"\n",
    "df4=df4.rename(columns={'Código CFK (Código de la institución educativa suministrado por el proyecto)':'Código IE' , 'Número de identificación':'ID'})\n",
    "df4=df4.dropna(subset=['Código IE'],inplace=False)\n",
    "df4=df4.dropna(subset=['ID'],inplace=False) #iniciamos con 158 datos no nulos"
   ]
  },
  {
   "cell_type": "code",
   "execution_count": 266,
   "id": "1eb171cd-3dd8-41f0-9c59-a5bd62a2c8a0",
   "metadata": {},
   "outputs": [
    {
     "data": {
      "text/plain": [
       "array(['090', '206', '235', '032', '211', '021', '198', '166', '092',\n",
       "       '066', '004', '231', '151', '247', '007', '076', '183', '205',\n",
       "       '186', '176', '129', '152', '062', '088', '098', '174', '236',\n",
       "       '145', '185', '213', '144', '179', '055', '043', '228', '002',\n",
       "       '107', '150', '054', '218', '064', '072', '226', '046', '238',\n",
       "       '110', '130', '189', '172', '252', '200', '197', '199', '035',\n",
       "       '169', '020', '167', '142', '217', '063', '121', '210', '153',\n",
       "       '119', '096', '089', '099', '103', '074', '003', '165', '053',\n",
       "       '222', '148', '069', '010', '237', '071', '170', '027', '162',\n",
       "       '070', '114', '106', '034', '097', '084', '132', '080', '051',\n",
       "       '214', '212', '188', '202', '244', '248', '157', '049', '048',\n",
       "       '175', '163', '116', '224', '005', '187', '001', '109', '133',\n",
       "       '177', '091', '223', '149', '093', '241', '036', '056', '082',\n",
       "       '014', '229', '015', '233', '094', '075', '117', '087', '112',\n",
       "       '250', '216', '120', '127', '155', '215', '168', '225', '045',\n",
       "       '147', '061', '073', '057', '065', '077', '041', '203', '086',\n",
       "       '012', '050', '251', '131', '104', '111', '113', '184', '009',\n",
       "       '022', '011', '230', '016', '161', '042', '178', '058', '052',\n",
       "       '059', '220', '221', '118', '160', '208', '136', '181', '024',\n",
       "       '234', '204', '019', '171', '180', '232', '246', '108', '085',\n",
       "       '028', '030', '067', '101', '100', '115', '138', '039', '095',\n",
       "       '123', '164', '154', '026', '006', '128', '146', '240', '126',\n",
       "       '083'], dtype=object)"
      ]
     },
     "execution_count": 266,
     "metadata": {},
     "output_type": "execute_result"
    }
   ],
   "source": [
    "df4['Código IE']=df4['Código IE'].astype(int)\n",
    "df4=df4[df4['Código IE'] > 0]\n",
    "df4=df4[df4['Código IE']<271]\n",
    "df4['Código IE']=df4['Código IE'].astype(str)\n",
    "df4['Código IE']=df4['Código IE'].str.zfill(3)\n",
    "df4['Código IE'].unique() #se mantienen 158 datos"
   ]
  },
  {
   "cell_type": "code",
   "execution_count": 267,
   "id": "f1f88370-42a7-4ecd-8eb8-50ca9f8da15d",
   "metadata": {},
   "outputs": [],
   "source": [
    "df4= df4[df4['ID'] >= 1000000] \n",
    "df4= df4[df4['ID'] < 3000000000] #quedan 156\n",
    "df4=df4.dropna(subset=['ID'],inplace=False)"
   ]
  },
  {
   "cell_type": "code",
   "execution_count": 268,
   "id": "6f10a0f4-9f6b-4545-9e1c-c11789b4f95f",
   "metadata": {},
   "outputs": [],
   "source": [
    "df2=pd.concat([df2,df4],ignore_index=True,join=\"inner\") #4565 datos"
   ]
  },
  {
   "cell_type": "code",
   "execution_count": 269,
   "id": "aef84f7e-3e35-43c2-b736-6c3b9b25976a",
   "metadata": {},
   "outputs": [],
   "source": [
    "df5=pd.read_excel(\"Líderes.xlsx\") #19 datos\n",
    "df5['Instrumento']=\"Encuesta Líderes\"\n",
    "df5=df5.rename(columns={'Código de la institución educativa asignado por el proyecto':'Código IE'})\n",
    "df5=df5.dropna(subset=['Código IE'],inplace=False)"
   ]
  },
  {
   "cell_type": "code",
   "execution_count": 270,
   "id": "16b17127-bd4c-41f2-96b8-764a9c53bf73",
   "metadata": {},
   "outputs": [
    {
     "data": {
      "text/plain": [
       "array(['001', '033', '004', '129', '007', '231', '092', '063', '166',\n",
       "       '055', '213', '211', '151', '186', '107', '152', '066', '206',\n",
       "       '123', '176', '235', '185', '002', '226', '098', '062', '130',\n",
       "       '054', '252', '150', '183', '064', '218', '046', '043', '110',\n",
       "       '167', '006', '182', '237', '121', '072', '165', '228', '096',\n",
       "       '003', '053', '067', '162', '227', '170', '216', '148', '074',\n",
       "       '179', '109', '047', '177', '230', '097', '248', '132', '149',\n",
       "       '214', '168', '051', '027', '059', '069', '071', '222', '163',\n",
       "       '026', '229', '056', '093', '133', '108', '147', '079', '088',\n",
       "       '090', '080', '005', '036', '181', '178', '217', '188', '122',\n",
       "       '155', '095', '225', '061', '112', '023', '070', '180', '083',\n",
       "       '082', '189', '203', '041', '086', '050', '161', '068', '094',\n",
       "       '052', '131', '065', '015', '111', '057', '238', '019', '128',\n",
       "       '042', '154', '250', '184', '187', '077', '076', '075', '020',\n",
       "       '021', '116', '251', '114', '117', '119', '136', '118', '160',\n",
       "       '073', '010', '011', '012', '048', '049', '045', '028', '039',\n",
       "       '008', '044', '013', '124', '058', '210', '205', '220', '221',\n",
       "       '224', '101', '100', '105', '099', '103', '104', '035', '204',\n",
       "       '115', '164', '138', '190', '249', '009', '239', '241', '243'],\n",
       "      dtype=object)"
      ]
     },
     "execution_count": 270,
     "metadata": {},
     "output_type": "execute_result"
    }
   ],
   "source": [
    "df5['Código IE']=df5['Código IE'].astype(int)\n",
    "df5=df5[df5['Código IE'] > 0]\n",
    "df5=df5[df5['Código IE']<271]\n",
    "df5['Código IE']=df5['Código IE'].astype(str)\n",
    "df5['Código IE']=df5['Código IE'].str.zfill(3)\n",
    "df5['Código IE'].unique() #se mantienen 158 datos"
   ]
  },
  {
   "cell_type": "code",
   "execution_count": 271,
   "id": "884ca4b1-693b-4afb-ba34-9c4e22131402",
   "metadata": {},
   "outputs": [],
   "source": [
    "df5['ID']=df5.index\n",
    "df2=pd.concat([df2,df5],ignore_index=True,join=\"inner\") #4584 datos"
   ]
  },
  {
   "cell_type": "code",
   "execution_count": 272,
   "id": "38cf6fef-2dc2-457a-841b-f25385141396",
   "metadata": {},
   "outputs": [],
   "source": [
    "df6=pd.read_excel(\"Equipos.xlsx\") #19 datos\n",
    "df6['Instrumento']=\"Encuesta Equipos\"\n",
    "df6=df6.rename(columns={'Código de la Institución Educativa, provisto por el proyecto':'Código IE'})\n",
    "df6=df6.dropna(subset=['Código IE'],inplace=False)\n",
    "\n",
    "df6['Código IE']=df6['Código IE'].astype(int)\n",
    "df6=df6[df6['Código IE']<271]\n",
    "df6=df6[df6['Código IE'] > 0]\n",
    "df6['Código IE']=df6['Código IE'].astype(str)\n",
    "df6['Código IE']=df6['Código IE'].str.zfill(3)\n",
    "\n",
    "df6['ID']=df6.index\n",
    "df2=pd.concat([df2,df6],ignore_index=True,join=\"inner\") #4584 datos\n",
    "#ID"
   ]
  },
  {
   "cell_type": "code",
   "execution_count": 273,
   "id": "61a99827-53b3-4121-84d1-9f78752adac0",
   "metadata": {},
   "outputs": [],
   "source": [
    "df7=pd.read_excel(\"PlanesEstudio.xlsx\")\n",
    "df7['Instrumento']=\"Encuesta Planes de estudio\"\n",
    "df7=df7.rename(columns={'Código de la institución educativa asignado por el proyecto':'Código IE'})\n",
    "df7=df7.dropna(subset=['Código IE'],inplace=False)\n",
    "\n",
    "df7['Código IE']=df7['Código IE'].astype(int)\n",
    "df7=df7[df7['Código IE']<271]\n",
    "df7=df7[df7['Código IE'] > 0]\n",
    "df7['Código IE']=df7['Código IE'].astype(str)\n",
    "df7['Código IE']=df7['Código IE'].str.zfill(3)\n",
    "\n",
    "df7['ID']=df7.index\n",
    "df2=pd.concat([df2,df7],ignore_index=True,join=\"inner\")\n",
    "#ID"
   ]
  },
  {
   "cell_type": "code",
   "execution_count": 287,
   "id": "8c0292bf-5a59-4304-8d73-141494ec9050",
   "metadata": {},
   "outputs": [
    {
     "data": {
      "text/html": [
       "<div>\n",
       "<style scoped>\n",
       "    .dataframe tbody tr th:only-of-type {\n",
       "        vertical-align: middle;\n",
       "    }\n",
       "\n",
       "    .dataframe tbody tr th {\n",
       "        vertical-align: top;\n",
       "    }\n",
       "\n",
       "    .dataframe thead th {\n",
       "        text-align: right;\n",
       "    }\n",
       "</style>\n",
       "<table border=\"1\" class=\"dataframe\">\n",
       "  <thead>\n",
       "    <tr style=\"text-align: right;\">\n",
       "      <th>Instrumento</th>\n",
       "      <th>Código IE</th>\n",
       "      <th>Encuesta Equipos</th>\n",
       "      <th>Encuesta Líderes</th>\n",
       "      <th>Encuesta Planes de estudio</th>\n",
       "      <th>Encuesta directivos</th>\n",
       "      <th>Encuesta docentes</th>\n",
       "      <th>Encuesta estudiantes</th>\n",
       "    </tr>\n",
       "  </thead>\n",
       "  <tbody>\n",
       "    <tr>\n",
       "      <th>0</th>\n",
       "      <td>001</td>\n",
       "      <td>1.0</td>\n",
       "      <td>1.0</td>\n",
       "      <td>1.0</td>\n",
       "      <td>1.0</td>\n",
       "      <td>48.0</td>\n",
       "      <td>122.0</td>\n",
       "    </tr>\n",
       "    <tr>\n",
       "      <th>1</th>\n",
       "      <td>002</td>\n",
       "      <td>1.0</td>\n",
       "      <td>1.0</td>\n",
       "      <td>1.0</td>\n",
       "      <td>3.0</td>\n",
       "      <td>15.0</td>\n",
       "      <td>38.0</td>\n",
       "    </tr>\n",
       "    <tr>\n",
       "      <th>2</th>\n",
       "      <td>003</td>\n",
       "      <td>1.0</td>\n",
       "      <td>1.0</td>\n",
       "      <td>1.0</td>\n",
       "      <td>2.0</td>\n",
       "      <td>23.0</td>\n",
       "      <td>58.0</td>\n",
       "    </tr>\n",
       "    <tr>\n",
       "      <th>3</th>\n",
       "      <td>004</td>\n",
       "      <td>1.0</td>\n",
       "      <td>1.0</td>\n",
       "      <td>1.0</td>\n",
       "      <td>2.0</td>\n",
       "      <td>12.0</td>\n",
       "      <td>46.0</td>\n",
       "    </tr>\n",
       "    <tr>\n",
       "      <th>4</th>\n",
       "      <td>005</td>\n",
       "      <td>1.0</td>\n",
       "      <td>1.0</td>\n",
       "      <td>1.0</td>\n",
       "      <td>2.0</td>\n",
       "      <td>51.0</td>\n",
       "      <td>109.0</td>\n",
       "    </tr>\n",
       "    <tr>\n",
       "      <th>...</th>\n",
       "      <td>...</td>\n",
       "      <td>...</td>\n",
       "      <td>...</td>\n",
       "      <td>...</td>\n",
       "      <td>...</td>\n",
       "      <td>...</td>\n",
       "      <td>...</td>\n",
       "    </tr>\n",
       "    <tr>\n",
       "      <th>238</th>\n",
       "      <td>250</td>\n",
       "      <td>1.0</td>\n",
       "      <td>1.0</td>\n",
       "      <td>1.0</td>\n",
       "      <td>3.0</td>\n",
       "      <td>43.0</td>\n",
       "      <td>83.0</td>\n",
       "    </tr>\n",
       "    <tr>\n",
       "      <th>239</th>\n",
       "      <td>251</td>\n",
       "      <td>1.0</td>\n",
       "      <td>1.0</td>\n",
       "      <td>1.0</td>\n",
       "      <td>5.0</td>\n",
       "      <td>52.0</td>\n",
       "      <td>121.0</td>\n",
       "    </tr>\n",
       "    <tr>\n",
       "      <th>240</th>\n",
       "      <td>252</td>\n",
       "      <td>1.0</td>\n",
       "      <td>2.0</td>\n",
       "      <td>1.0</td>\n",
       "      <td>1.0</td>\n",
       "      <td>22.0</td>\n",
       "      <td>56.0</td>\n",
       "    </tr>\n",
       "    <tr>\n",
       "      <th>241</th>\n",
       "      <td>255</td>\n",
       "      <td>NaN</td>\n",
       "      <td>NaN</td>\n",
       "      <td>NaN</td>\n",
       "      <td>NaN</td>\n",
       "      <td>4.0</td>\n",
       "      <td>NaN</td>\n",
       "    </tr>\n",
       "    <tr>\n",
       "      <th>242</th>\n",
       "      <td>259</td>\n",
       "      <td>NaN</td>\n",
       "      <td>NaN</td>\n",
       "      <td>NaN</td>\n",
       "      <td>NaN</td>\n",
       "      <td>NaN</td>\n",
       "      <td>1.0</td>\n",
       "    </tr>\n",
       "  </tbody>\n",
       "</table>\n",
       "<p>243 rows × 7 columns</p>\n",
       "</div>"
      ],
      "text/plain": [
       "Instrumento Código IE  Encuesta Equipos  Encuesta Líderes  \\\n",
       "0                 001               1.0               1.0   \n",
       "1                 002               1.0               1.0   \n",
       "2                 003               1.0               1.0   \n",
       "3                 004               1.0               1.0   \n",
       "4                 005               1.0               1.0   \n",
       "..                ...               ...               ...   \n",
       "238               250               1.0               1.0   \n",
       "239               251               1.0               1.0   \n",
       "240               252               1.0               2.0   \n",
       "241               255               NaN               NaN   \n",
       "242               259               NaN               NaN   \n",
       "\n",
       "Instrumento  Encuesta Planes de estudio  Encuesta directivos  \\\n",
       "0                                   1.0                  1.0   \n",
       "1                                   1.0                  3.0   \n",
       "2                                   1.0                  2.0   \n",
       "3                                   1.0                  2.0   \n",
       "4                                   1.0                  2.0   \n",
       "..                                  ...                  ...   \n",
       "238                                 1.0                  3.0   \n",
       "239                                 1.0                  5.0   \n",
       "240                                 1.0                  1.0   \n",
       "241                                 NaN                  NaN   \n",
       "242                                 NaN                  NaN   \n",
       "\n",
       "Instrumento  Encuesta docentes  Encuesta estudiantes  \n",
       "0                         48.0                 122.0  \n",
       "1                         15.0                  38.0  \n",
       "2                         23.0                  58.0  \n",
       "3                         12.0                  46.0  \n",
       "4                         51.0                 109.0  \n",
       "..                         ...                   ...  \n",
       "238                       43.0                  83.0  \n",
       "239                       52.0                 121.0  \n",
       "240                       22.0                  56.0  \n",
       "241                        4.0                   NaN  \n",
       "242                        NaN                   1.0  \n",
       "\n",
       "[243 rows x 7 columns]"
      ]
     },
     "execution_count": 287,
     "metadata": {},
     "output_type": "execute_result"
    }
   ],
   "source": [
    "pivot=df2.pivot_table(index='Código IE',columns='Instrumento', values='ID', aggfunc= 'count')\n",
    "pivot=pivot.reset_index()\n",
    "pivot\n",
    "#plan de estudio, equipos\n",
    "#excel"
   ]
  },
  {
   "cell_type": "code",
   "execution_count": 288,
   "id": "297d441a-41be-4565-a03c-50c60c60190e",
   "metadata": {},
   "outputs": [
    {
     "data": {
      "text/html": [
       "<div>\n",
       "<style scoped>\n",
       "    .dataframe tbody tr th:only-of-type {\n",
       "        vertical-align: middle;\n",
       "    }\n",
       "\n",
       "    .dataframe tbody tr th {\n",
       "        vertical-align: top;\n",
       "    }\n",
       "\n",
       "    .dataframe thead th {\n",
       "        text-align: right;\n",
       "    }\n",
       "</style>\n",
       "<table border=\"1\" class=\"dataframe\">\n",
       "  <thead>\n",
       "    <tr style=\"text-align: right;\">\n",
       "      <th>Instrumento</th>\n",
       "      <th>Código IE</th>\n",
       "      <th>Encuesta Equipos</th>\n",
       "      <th>Encuesta Líderes</th>\n",
       "      <th>Encuesta Planes de estudio</th>\n",
       "      <th>Encuesta directivos</th>\n",
       "      <th>Encuesta docentes</th>\n",
       "      <th>Encuesta estudiantes</th>\n",
       "      <th>Fecha</th>\n",
       "    </tr>\n",
       "  </thead>\n",
       "  <tbody>\n",
       "    <tr>\n",
       "      <th>0</th>\n",
       "      <td>001</td>\n",
       "      <td>1.0</td>\n",
       "      <td>1.0</td>\n",
       "      <td>1.0</td>\n",
       "      <td>1.0</td>\n",
       "      <td>48.0</td>\n",
       "      <td>122.0</td>\n",
       "      <td>12-05-2022</td>\n",
       "    </tr>\n",
       "    <tr>\n",
       "      <th>1</th>\n",
       "      <td>002</td>\n",
       "      <td>1.0</td>\n",
       "      <td>1.0</td>\n",
       "      <td>1.0</td>\n",
       "      <td>3.0</td>\n",
       "      <td>15.0</td>\n",
       "      <td>38.0</td>\n",
       "      <td>12-05-2022</td>\n",
       "    </tr>\n",
       "    <tr>\n",
       "      <th>2</th>\n",
       "      <td>003</td>\n",
       "      <td>1.0</td>\n",
       "      <td>1.0</td>\n",
       "      <td>1.0</td>\n",
       "      <td>2.0</td>\n",
       "      <td>23.0</td>\n",
       "      <td>58.0</td>\n",
       "      <td>12-05-2022</td>\n",
       "    </tr>\n",
       "    <tr>\n",
       "      <th>3</th>\n",
       "      <td>004</td>\n",
       "      <td>1.0</td>\n",
       "      <td>1.0</td>\n",
       "      <td>1.0</td>\n",
       "      <td>2.0</td>\n",
       "      <td>12.0</td>\n",
       "      <td>46.0</td>\n",
       "      <td>12-05-2022</td>\n",
       "    </tr>\n",
       "    <tr>\n",
       "      <th>4</th>\n",
       "      <td>005</td>\n",
       "      <td>1.0</td>\n",
       "      <td>1.0</td>\n",
       "      <td>1.0</td>\n",
       "      <td>2.0</td>\n",
       "      <td>51.0</td>\n",
       "      <td>109.0</td>\n",
       "      <td>12-05-2022</td>\n",
       "    </tr>\n",
       "    <tr>\n",
       "      <th>...</th>\n",
       "      <td>...</td>\n",
       "      <td>...</td>\n",
       "      <td>...</td>\n",
       "      <td>...</td>\n",
       "      <td>...</td>\n",
       "      <td>...</td>\n",
       "      <td>...</td>\n",
       "      <td>...</td>\n",
       "    </tr>\n",
       "    <tr>\n",
       "      <th>238</th>\n",
       "      <td>250</td>\n",
       "      <td>1.0</td>\n",
       "      <td>1.0</td>\n",
       "      <td>1.0</td>\n",
       "      <td>3.0</td>\n",
       "      <td>43.0</td>\n",
       "      <td>83.0</td>\n",
       "      <td>12-05-2022</td>\n",
       "    </tr>\n",
       "    <tr>\n",
       "      <th>239</th>\n",
       "      <td>251</td>\n",
       "      <td>1.0</td>\n",
       "      <td>1.0</td>\n",
       "      <td>1.0</td>\n",
       "      <td>5.0</td>\n",
       "      <td>52.0</td>\n",
       "      <td>121.0</td>\n",
       "      <td>12-05-2022</td>\n",
       "    </tr>\n",
       "    <tr>\n",
       "      <th>240</th>\n",
       "      <td>252</td>\n",
       "      <td>1.0</td>\n",
       "      <td>2.0</td>\n",
       "      <td>1.0</td>\n",
       "      <td>1.0</td>\n",
       "      <td>22.0</td>\n",
       "      <td>56.0</td>\n",
       "      <td>12-05-2022</td>\n",
       "    </tr>\n",
       "    <tr>\n",
       "      <th>241</th>\n",
       "      <td>255</td>\n",
       "      <td>0.0</td>\n",
       "      <td>0.0</td>\n",
       "      <td>0.0</td>\n",
       "      <td>0.0</td>\n",
       "      <td>4.0</td>\n",
       "      <td>0.0</td>\n",
       "      <td>12-05-2022</td>\n",
       "    </tr>\n",
       "    <tr>\n",
       "      <th>242</th>\n",
       "      <td>259</td>\n",
       "      <td>0.0</td>\n",
       "      <td>0.0</td>\n",
       "      <td>0.0</td>\n",
       "      <td>0.0</td>\n",
       "      <td>0.0</td>\n",
       "      <td>1.0</td>\n",
       "      <td>12-05-2022</td>\n",
       "    </tr>\n",
       "  </tbody>\n",
       "</table>\n",
       "<p>243 rows × 8 columns</p>\n",
       "</div>"
      ],
      "text/plain": [
       "Instrumento Código IE  Encuesta Equipos  Encuesta Líderes  \\\n",
       "0                 001               1.0               1.0   \n",
       "1                 002               1.0               1.0   \n",
       "2                 003               1.0               1.0   \n",
       "3                 004               1.0               1.0   \n",
       "4                 005               1.0               1.0   \n",
       "..                ...               ...               ...   \n",
       "238               250               1.0               1.0   \n",
       "239               251               1.0               1.0   \n",
       "240               252               1.0               2.0   \n",
       "241               255               0.0               0.0   \n",
       "242               259               0.0               0.0   \n",
       "\n",
       "Instrumento  Encuesta Planes de estudio  Encuesta directivos  \\\n",
       "0                                   1.0                  1.0   \n",
       "1                                   1.0                  3.0   \n",
       "2                                   1.0                  2.0   \n",
       "3                                   1.0                  2.0   \n",
       "4                                   1.0                  2.0   \n",
       "..                                  ...                  ...   \n",
       "238                                 1.0                  3.0   \n",
       "239                                 1.0                  5.0   \n",
       "240                                 1.0                  1.0   \n",
       "241                                 0.0                  0.0   \n",
       "242                                 0.0                  0.0   \n",
       "\n",
       "Instrumento  Encuesta docentes  Encuesta estudiantes       Fecha  \n",
       "0                         48.0                 122.0  12-05-2022  \n",
       "1                         15.0                  38.0  12-05-2022  \n",
       "2                         23.0                  58.0  12-05-2022  \n",
       "3                         12.0                  46.0  12-05-2022  \n",
       "4                         51.0                 109.0  12-05-2022  \n",
       "..                         ...                   ...         ...  \n",
       "238                       43.0                  83.0  12-05-2022  \n",
       "239                       52.0                 121.0  12-05-2022  \n",
       "240                       22.0                  56.0  12-05-2022  \n",
       "241                        4.0                   0.0  12-05-2022  \n",
       "242                        0.0                   1.0  12-05-2022  \n",
       "\n",
       "[243 rows x 8 columns]"
      ]
     },
     "execution_count": 288,
     "metadata": {},
     "output_type": "execute_result"
    }
   ],
   "source": [
    "pivot=pivot.fillna(0)\n",
    "pivot['Fecha'] =pd.Timestamp.today()\n",
    "pivot['Fecha']=pivot['Fecha'].dt.strftime(\"%d-%m-%Y\")\n",
    "pivot"
   ]
  },
  {
   "cell_type": "code",
   "execution_count": 289,
   "id": "615dee4b-ae80-4868-a5f8-edfa00da5b97",
   "metadata": {},
   "outputs": [],
   "source": [
    "Instrumentos = '../../data/InstrumentosCFK.xlsx'\n",
    "\n",
    "# saving the excelsheet\n",
    "pivot.to_excel(Instrumentos)"
   ]
  },
  {
   "cell_type": "code",
   "execution_count": null,
   "id": "4a6304e0-a28e-4c78-9cfb-85c3de7101ab",
   "metadata": {},
   "outputs": [],
   "source": []
  }
 ],
 "metadata": {
  "kernelspec": {
   "display_name": "Python 3 (ipykernel)",
   "language": "python",
   "name": "python3"
  },
  "language_info": {
   "codemirror_mode": {
    "name": "ipython",
    "version": 3
   },
   "file_extension": ".py",
   "mimetype": "text/x-python",
   "name": "python",
   "nbconvert_exporter": "python",
   "pygments_lexer": "ipython3",
   "version": "3.10.4"
  }
 },
 "nbformat": 4,
 "nbformat_minor": 5
}