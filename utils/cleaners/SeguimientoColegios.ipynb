{
 "cells": [
  {
   "cell_type": "code",
   "execution_count": 2,
   "id": "21cda7ec",
   "metadata": {},
   "outputs": [],
   "source": [
    "import pandas as pd\n",
    "import numpy as np\n",
    "#from apply import apply\n",
    "import pathlib\n",
    "from pathlib import Path\n",
    "#subir nuevos documentos"
   ]
  },
  {
   "cell_type": "code",
   "execution_count": 6,
   "outputs": [],
   "source": [
    "sheet_id = \"1Zt6ykNc0nc1BxZbodcw9yk1RC-gGQ4Knw4hLjFO0F1E\"\n",
    "sheet_name = \"Respuestas de formulario 1\"\n",
    "url = f\"https://docs.google.com/spreadsheets/d/{sheet_id}/gviz/tq?tqx=out:csv&sheet={sheet_name}\"\n",
    "url = url.replace(\" \", \"%20\")"
   ],
   "metadata": {
    "collapsed": false,
    "pycharm": {
     "name": "#%%\n"
    }
   }
  },
  {
   "cell_type": "code",
   "execution_count": 48,
   "id": "afa26567-bce3-43df-9bbc-f22e03e81ecf",
   "metadata": {},
   "outputs": [],
   "source": [
    "p_data = Path('../../data')"
   ]
  },
  {
   "cell_type": "code",
   "execution_count": 22,
   "id": "d215fb8d-2332-4c29-afb7-9db4a03b91e0",
   "metadata": {},
   "outputs": [
    {
     "data": {
      "text/plain": "['pandas read excel from url',\n 'Número de lista',\n 'Edad',\n 'Sexo',\n '¿En qué sector se ubica tu vivienda?',\n '¿Cuentas con internet en tu casa?',\n '¿Cuál es el uso del dispositivo tecnológico (celular, computador o tablet) al que tienes acceso en tu casa?',\n 'Nivel de escolaridad de tu mamá ',\n 'Nivel de escolaridad de tu papá',\n '¿A qué se dedica tu mamá?',\n '¿A qué se dedica tu papá?',\n '¿Con quién vives?',\n 'Grado',\n '¿En qué departamento está tu colegio?',\n 'Nombre de tu colegio ',\n 'Nombre de tu colegio .1',\n 'Nombre de tu colegio .2',\n 'Nombre de tu colegio .3',\n 'Nombre de tu colegio .4',\n 'Nombre de tu colegio .5',\n 'Nombre de tu colegio .6',\n 'Nombre de tu colegio .7',\n 'Nombre de tu colegio .8',\n 'Nombre de tu colegio .9',\n 'Nombre de tu colegio .10',\n 'Nombre de tu colegio .11',\n 'Nombre de tu colegio .12',\n 'Nombre de tu colegio .13',\n 'Nombre de tu colegio .14',\n 'Nombre de tu colegio .15',\n 'Nombre de tu colegio .16',\n 'Nombre de tu colegio .17',\n '¿Qué opinas de cada una de estas carreras? [Ingeniería]',\n '¿Qué opinas de cada una de estas carreras? [Matemáticas]',\n '¿Qué opinas de cada una de estas carreras? [Medicina]',\n '¿Qué opinas de cada una de estas carreras? [Enfermería]',\n '¿Qué opinas de cada una de estas carreras? [Educación]',\n '¿Qué opinas de cada una de estas carreras? [Diseño gráfico]',\n '¿Qué opinas de cada una de estas carreras? [Ciencias naturales]',\n 'Lee cada una de estas afirmaciones. ¿Con cuáles de las asignaturas se cumplen para tu caso? [Soy capaz de sacar buenas notas en esta asignatura]',\n 'Lee cada una de estas afirmaciones. ¿Con cuáles de las asignaturas se cumplen para tu caso? [Si me va bien en esta asignatura, me ayudará en mi futura ocupación]',\n 'Lee cada una de estas afirmaciones. ¿Con cuáles de las asignaturas se cumplen para tu caso? [A mis padres les gustaría que eligiera un futuro profesional relacionado a esta asignatura]',\n 'Lee cada una de estas afirmaciones. ¿Con cuáles de las asignaturas se cumplen para tu caso? [Sé de alguien en mi familia que utiliza conocimientos relacionados a esta asignatura en su ocupación]',\n 'Agrega cualquier comentario o clarificación sobre las preguntas anteriores.',\n 'Un algoritmo es:',\n '¿Para qué sirven los algoritmos?',\n 'Un bucle es:',\n 'Por favor selecciona la opción que más se ajuste a tu caso, para cada actividad. Donde 5 es que te sientes capaz y 1 es que NO te sientes capaz. [Siento que soy capaz de explicar lo que es el pensamiento computacional]',\n 'Por favor selecciona la opción que más se ajuste a tu caso, para cada actividad. Donde 5 es que te sientes capaz y 1 es que NO te sientes capaz. [Siento que puedo enumerar las sub-habilidades que componen el pensamiento computacional]',\n 'Por favor selecciona la opción que más se ajuste a tu caso, para cada actividad. Donde 5 es que te sientes capaz y 1 es que NO te sientes capaz. [Siento que soy capaz de dar ejemplos para explicar las sub-habilidades del pensamiento computacional]',\n 'Por favor selecciona la opción que más se ajuste a tu caso, para cada actividad. Donde 5 es que te sientes capaz y 1 es que NO te sientes capaz. [Siento que puedo explicar la forma en que las sub-habilidades del pensamiento computacional se correlacionan con la programación]',\n 'Por favor selecciona la opción que más se ajuste a tu caso, para cada actividad. Donde 5 es que te sientes capaz y 1 es que NO te sientes capaz. [Siento que puedo analizar un ejercicio y determinar qué sub-habilidades de pensamiento computacional busca desarrollar]',\n 'Por favor selecciona la opción que más se ajuste a tu caso, para cada actividad. Donde 5 es que te sientes capaz y 1 es que NO te sientes capaz. [Siento que puedo resolver problemas a través de programación]',\n 'Por favor selecciona la opción que más se ajuste a tu caso, para cada actividad. Donde 5 es que te sientes capaz y 1 es que NO te sientes capaz. [Siento que puedo implementar algoritmos]',\n 'Por favor selecciona la opción que más se ajuste a tu caso, para cada actividad. Donde 5 es que te sientes capaz y 1 es que NO te sientes capaz. [Siento que puedo crear un programa de computador]',\n 'Por favor selecciona la opción que más se ajuste a tu caso, para cada actividad. Donde 5 es que te sientes capaz y 1 es que NO te sientes capaz. [Siento que puedo automatizar tareas a través de la programación]',\n 'Por favor selecciona la opción que más se ajuste a tu caso, para cada actividad. Donde 5 es que te sientes capaz y 1 es que NO te sientes capaz. [Siento que puedo utilizar la computación para resolver problemas simples]',\n 'Agrega cualquier comentario o clarificación sobre las preguntas anteriores..1',\n 'Un robot que sale desde la casita marrón debe tomar una fotografía de cada tortuga, pero las instrucciones con las que lo programaron  (que aparecen en la barra de color rojo), no están funcionando correctamente. ¿Cuál de las siguientes opciones sí le permite al robot completar la misión?',\n 'La líder de la tribu Wayuú utiliza señales de humo para enviar mensajes desde la cima de una montaña a los demás integrantes de la tribu. Ella utiliza nubes de humo pequeñas y grandes, y el siguiente código, para enviar sus mensajes:',\n 'Un robot (ubicado donde está la señal de color rojo) está ayudando con la siembra de café. Estos deben plantarse en terrenos que tengan un alto nivel de humedad y que sean montañosos.  Los terrenos con alto nivel de humedad son los que están demarcados en el cuadro azul. Los terrenos montañosos están demarcados en el cuadro rojo. La laguna está demarcada en el cuadro de color amarillo. ¿Cuál de los siguientes códigos permite que el robot complete su misión?',\n 'Siete iguanas están en una red social llamada Iguanistagram. Esta red social sólo les permite ver las fotos de su propia cuenta y las de sus amigas. En este diagrama, si dos iguanas son amigas, están unidas por una línea. Después de las vacaciones, todas publican una foto de sí mismas en todos los perfiles de sus amigas. ¿Cuál será la foto con más vistas?',\n 'Ayuda al robot  verde a salir del laberinto utilizando uno de los conjuntos de instrucciones que hay abajo. Ten en cuenta que el número de veces que se repite (3 o 4 veces) ocurrirá luego de ejecutar una vez\\tel conjunto de instrucciones. Es\\tdecir, si por ejemplo dice que se repite 4 veces,\\ten total\\tse ejecutará 5 veces. ',\n 'Óscar lleva 2 loncheras a la escuela todos los días: una para la merienda y la otra para el almuerzo. Óscar se despertó tarde y solo tiene 30 minutos para preparar ambas loncheras. A continuación, encontrarás todas las comidas disponibles para las loncheras y el tiempo de preparación en minutos que necesita cada una. Teniendo en cuenta la siguiente información responde ¿Cuál de las siguientes afirmaciones es falsa? ',\n 'En la hamburguesería \"Pepe\" utilizan seis tipos de ingredientes (A, B, C, D, E, y F) para hacer las hamburguesas. La siguiente tabla muestra algunos ejemplos de sus hamburguesas y sus ingredientes. Los ingredientes no están ubicados en ningún orden en particular.',\n 'Hay 10 estudiantes trabajando en el periódico de la escuela. Todos los viernes escriben o editan sus propios artículos. Los cuadros rojos en la siguiente tabla, muestran los horarios en que los estudiantes necesitan una computadora. Las computadoras son todas iguales. Durante una hora, un solo estudiante a la vez puede trabajar en una computadora. ¿Cuál es el número mínimo de computadores que se necesitan para que los estudiantes trabajen según el plan?',\n '¿Qué botella debe cambiarse de color para que el resultado final sea una botella de color blanco?  Tenga en cuenta lo que hace cada máquina recicladora que se usa en este sistema.',\n 'Agrega cualquier comentario o clarificación sobre las preguntas anteriores..2',\n 'En una escuela se ha organizado un concurso para que personas inteligentes resuelvan problemas matemáticos difíciles. ¿Quién crees que ganará el concurso?',\n 'Un grupo de estudiantes juega a ser la tripulación de un barco. La persona que toma las decisiones importantes se llama capitán. ¿Quién crees que es capitán del barco?',\n 'Un grupo de niños y niñas construyen una casa de madera. Una persona quiere ayudar a construirla, pero las otras personas dicen que le es muy difícil. ¿Quién es la persona excluida de la construcción de la casa de madera?',\n 'En esta película, hay un personaje que se sienta todos los días junto a la ventana, soñando y esperando a una persona que haga un gran esfuerzo para ganarse su corazón y casarse con este personaje. ¿Quién crees que es el personaje que está sentado y esperando junto a la ventana?',\n 'Una pareja al llegar del trabajo está conversando sobre su día. Una de las personas trabaja en enseñanza, mientras que la otra persona trabaja en matemáticas. ¿Quién es la persona que trabaja en educación?',\n 'En un salón de clases hay dos personas conversando sobre su futuro y la carrera profesional que les gustaría estudiar. Una de las personas menciona que quiere estudiar ingeniería y la otra expresa que prefiere las ciencias sociales. ¿Quién crees que es la persona que prefiere estudiar ingeniería?',\n 'Dos personas conversan sobre sus experiencias en la universidad. Una de las personas dice que para su clase de álgebra lineal tienen que resolver 10 ejercicios, la otra persona comenta que en su curso de historia del arte debe leer y preparar una exposición. ¿Quién crees que toma el curso de historia del arte?',\n 'Agrega cualquier comentario o clarificación sobre las preguntas anteriores..3',\n 'Indica qué tanto estás de acuerdo con las siguientes afirmaciones:  Totalmente de acuerdo, de acuerdo, neutro, en desacuerdo o totalmente en desacuerdo. No hay respuestas correctas. [Es alarmante que el ritmo de desaparición de especies en la Amazonia Colombiana sea cada vez mayor.]',\n 'Indica qué tanto estás de acuerdo con las siguientes afirmaciones:  Totalmente de acuerdo, de acuerdo, neutro, en desacuerdo o totalmente en desacuerdo. No hay respuestas correctas. [El aumento de la temperatura atmosférica se debe al uso creciente y continuado de combustibles fósiles (carbón, petróleo…).]',\n 'Indica qué tanto estás de acuerdo con las siguientes afirmaciones:  Totalmente de acuerdo, de acuerdo, neutro, en desacuerdo o totalmente en desacuerdo. No hay respuestas correctas. [La acumulación de basura procedente de las ciudades es un problema realmente grave.]',\n 'Indica qué tanto estás de acuerdo con las siguientes afirmaciones:  Totalmente de acuerdo, de acuerdo, neutro, en desacuerdo o totalmente en desacuerdo. No hay respuestas correctas. [Hay una disminución de la superficie forestal y de áreas naturales en el país.]',\n 'Indica qué tanto estás de acuerdo con las siguientes afirmaciones:  Totalmente de acuerdo, de acuerdo, neutro, en desacuerdo o totalmente en desacuerdo. No hay respuestas correctas. [El planeta está tan contaminado por productos químicos que ya supone un problema para la salud.]',\n 'Indica qué tanto estás de acuerdo con las siguientes afirmaciones:  Totalmente de acuerdo, de acuerdo, neutro, en desacuerdo o totalmente en desacuerdo. No hay respuestas correctas. [Conozco los riesgos que representa para la vida humana la desaparición de especies animales y vegetales.]',\n 'Indica qué tanto estás de acuerdo con las siguientes afirmaciones:  Totalmente de acuerdo, de acuerdo, neutro, en desacuerdo o totalmente en desacuerdo. No hay respuestas correctas. [Me preocupa lo que sucede con la tala de árboles.]',\n 'Agrega cualquier comentario o clarificación sobre las preguntas anteriores..4',\n 'Deseo participar en el estudio',\n 'Nombre de tu colegio .18',\n '¿Qué opinas de cada una de estas carreras? [Matemáticas ]',\n '¿Qué opinas de cada una de estas carreras? [Educación].1',\n '¿Qué opinas de cada una de estas carreras? [Medicina].1',\n '¿Qué opinas de cada una de estas carreras? [Diseño gráfico].1',\n '¿Qué opinas de cada una de estas carreras? [Química]',\n '¿Qué opinas de cada una de estas carreras? [Enfermería].1',\n 'Selecciona el tipo de discapacidad o habilidades especiales que posees',\n '¿Te reconoces como una persona con algún tipo de discapacidad? (por ejemplo, eres usuario de braille, lengua de señas, silla de ruedas, o tecon otro tipo de discapacidad). Recuerda que puedes preguntarle a tu docente si tienes dudas.',\n '¿Qué opinas de cada una de estas carreras? [Desarrollo de software]',\n '¿Conoces y has jugado con la APP GreenTIC?',\n 'Código de la institución educativa',\n 'Grupo',\n '¿Cómo te llamas?',\n '¿Qué opinas de cada una de estas carreras? [Fila 8]',\n '¿Qué opinas de cada una de estas carreras? [Fila 7]',\n '¿Qué opinas de cada una de estas carreras? [0,/]',\n '¿Qué opinas de cada una de estas carreras? [Fila 3]']"
     },
     "execution_count": 22,
     "metadata": {},
     "output_type": "execute_result"
    }
   ],
   "source": [
    "#df0= pd.read_excel(p_data/\"raw/Est_Con_Pre_200522.xlsx\")\n",
    "df0=pd.read_csv(url)\n",
    "df0.columns.tolist()"
   ]
  },
  {
   "cell_type": "code",
   "execution_count": 11,
   "outputs": [
    {
     "data": {
      "text/plain": "  pandas read excel from url  Número de lista  Edad       Sexo  \\\n0         19/04/2022 9:31:17              NaN   NaN        NaN   \n1         19/04/2022 9:43:26              3.0  14.0  Masculino   \n2         19/04/2022 9:43:27              7.0  16.0  Masculino   \n3         19/04/2022 9:43:39             30.0  14.0   Femenino   \n4         19/04/2022 9:45:49              6.0  15.0  Masculino   \n\n  ¿En qué sector se ubica tu vivienda? ¿Cuentas con internet en tu casa?  \\\n0                                  NaN                               NaN   \n1                               Urbana                                Sí   \n2                               Urbana                                Sí   \n3                               Urbana                                Sí   \n4                               Urbana                                No   \n\n  ¿Cuál es el uso del dispositivo tecnológico (celular, computador o tablet) al que tienes acceso en tu casa?  \\\n0                                                NaN                                                            \n1                       Uso propio (solo lo usas tú)                                                            \n2                       Uso propio (solo lo usas tú)                                                            \n3                  Uso compartido con otras personas                                                            \n4   No tengo acceso a ningún dispositivo electrónico                                                            \n\n  Nivel de escolaridad de tu mamá  Nivel de escolaridad de tu papá  \\\n0                              NaN                             NaN   \n1              Técnico o tecnólogo            Titulo universitario   \n2             Titulo universitario             Técnico o tecnólogo   \n3                       Secundaría                      Secundaría   \n4                            No sé                           No sé   \n\n  ¿A qué se dedica tu mamá?  ...  \\\n0                       NaN  ...   \n1                   Trabaja  ...   \n2                   Trabaja  ...   \n3                   Trabaja  ...   \n4                   Trabaja  ...   \n\n  ¿Te reconoces como una persona con algún tipo de discapacidad? (por ejemplo, eres usuario de braille, lengua de señas, silla de ruedas, o tecon otro tipo de discapacidad). Recuerda que puedes preguntarle a tu docente si tienes dudas.  \\\n0                                                NaN                                                                                                                                                                                          \n1                                                 No                                                                                                                                                                                          \n2                                                 No                                                                                                                                                                                          \n3                                                 No                                                                                                                                                                                          \n4                                                 No                                                                                                                                                                                          \n\n  ¿Qué opinas de cada una de estas carreras? [Desarrollo de software]  \\\n0                                                NaN                    \n1                                   Me interesa poco                    \n2                          Está entre mis preferidas                    \n3                                   Me interesa poco                    \n4                          Está entre mis preferidas                    \n\n  ¿Conoces y has jugado con la APP GreenTIC?  \\\n0                                        NaN   \n1                                         No   \n2                                         No   \n3                                         No   \n4                                         No   \n\n   Código de la institución educativa   Grupo  ¿Cómo te llamas?  \\\n0                                 NaN     NaN               NaN   \n1                               166.0  B o 02               NaN   \n2                               166.0  B o 02               NaN   \n3                               166.0  B o 02               NaN   \n4                               166.0  B o 02               NaN   \n\n   ¿Qué opinas de cada una de estas carreras? [Fila 8]  \\\n0                                                NaN     \n1                                                NaN     \n2                                                NaN     \n3                                                NaN     \n4                                                NaN     \n\n   ¿Qué opinas de cada una de estas carreras? [Fila 7]  \\\n0                                                NaN     \n1                                                NaN     \n2                                                NaN     \n3                                                NaN     \n4                                                NaN     \n\n   ¿Qué opinas de cada una de estas carreras? [0,/]  \\\n0                                               NaN   \n1                                               NaN   \n2                                               NaN   \n3                                               NaN   \n4                                               NaN   \n\n   ¿Qué opinas de cada una de estas carreras? [Fila 3]  \n0                                                NaN    \n1                                                NaN    \n2                                                NaN    \n3                                                NaN    \n4                                                NaN    \n\n[5 rows x 103 columns]",
      "text/html": "<div>\n<style scoped>\n    .dataframe tbody tr th:only-of-type {\n        vertical-align: middle;\n    }\n\n    .dataframe tbody tr th {\n        vertical-align: top;\n    }\n\n    .dataframe thead th {\n        text-align: right;\n    }\n</style>\n<table border=\"1\" class=\"dataframe\">\n  <thead>\n    <tr style=\"text-align: right;\">\n      <th></th>\n      <th>pandas read excel from url</th>\n      <th>Número de lista</th>\n      <th>Edad</th>\n      <th>Sexo</th>\n      <th>¿En qué sector se ubica tu vivienda?</th>\n      <th>¿Cuentas con internet en tu casa?</th>\n      <th>¿Cuál es el uso del dispositivo tecnológico (celular, computador o tablet) al que tienes acceso en tu casa?</th>\n      <th>Nivel de escolaridad de tu mamá</th>\n      <th>Nivel de escolaridad de tu papá</th>\n      <th>¿A qué se dedica tu mamá?</th>\n      <th>...</th>\n      <th>¿Te reconoces como una persona con algún tipo de discapacidad? (por ejemplo, eres usuario de braille, lengua de señas, silla de ruedas, o tecon otro tipo de discapacidad). Recuerda que puedes preguntarle a tu docente si tienes dudas.</th>\n      <th>¿Qué opinas de cada una de estas carreras? [Desarrollo de software]</th>\n      <th>¿Conoces y has jugado con la APP GreenTIC?</th>\n      <th>Código de la institución educativa</th>\n      <th>Grupo</th>\n      <th>¿Cómo te llamas?</th>\n      <th>¿Qué opinas de cada una de estas carreras? [Fila 8]</th>\n      <th>¿Qué opinas de cada una de estas carreras? [Fila 7]</th>\n      <th>¿Qué opinas de cada una de estas carreras? [0,/]</th>\n      <th>¿Qué opinas de cada una de estas carreras? [Fila 3]</th>\n    </tr>\n  </thead>\n  <tbody>\n    <tr>\n      <th>0</th>\n      <td>19/04/2022 9:31:17</td>\n      <td>NaN</td>\n      <td>NaN</td>\n      <td>NaN</td>\n      <td>NaN</td>\n      <td>NaN</td>\n      <td>NaN</td>\n      <td>NaN</td>\n      <td>NaN</td>\n      <td>NaN</td>\n      <td>...</td>\n      <td>NaN</td>\n      <td>NaN</td>\n      <td>NaN</td>\n      <td>NaN</td>\n      <td>NaN</td>\n      <td>NaN</td>\n      <td>NaN</td>\n      <td>NaN</td>\n      <td>NaN</td>\n      <td>NaN</td>\n    </tr>\n    <tr>\n      <th>1</th>\n      <td>19/04/2022 9:43:26</td>\n      <td>3.0</td>\n      <td>14.0</td>\n      <td>Masculino</td>\n      <td>Urbana</td>\n      <td>Sí</td>\n      <td>Uso propio (solo lo usas tú)</td>\n      <td>Técnico o tecnólogo</td>\n      <td>Titulo universitario</td>\n      <td>Trabaja</td>\n      <td>...</td>\n      <td>No</td>\n      <td>Me interesa poco</td>\n      <td>No</td>\n      <td>166.0</td>\n      <td>B o 02</td>\n      <td>NaN</td>\n      <td>NaN</td>\n      <td>NaN</td>\n      <td>NaN</td>\n      <td>NaN</td>\n    </tr>\n    <tr>\n      <th>2</th>\n      <td>19/04/2022 9:43:27</td>\n      <td>7.0</td>\n      <td>16.0</td>\n      <td>Masculino</td>\n      <td>Urbana</td>\n      <td>Sí</td>\n      <td>Uso propio (solo lo usas tú)</td>\n      <td>Titulo universitario</td>\n      <td>Técnico o tecnólogo</td>\n      <td>Trabaja</td>\n      <td>...</td>\n      <td>No</td>\n      <td>Está entre mis preferidas</td>\n      <td>No</td>\n      <td>166.0</td>\n      <td>B o 02</td>\n      <td>NaN</td>\n      <td>NaN</td>\n      <td>NaN</td>\n      <td>NaN</td>\n      <td>NaN</td>\n    </tr>\n    <tr>\n      <th>3</th>\n      <td>19/04/2022 9:43:39</td>\n      <td>30.0</td>\n      <td>14.0</td>\n      <td>Femenino</td>\n      <td>Urbana</td>\n      <td>Sí</td>\n      <td>Uso compartido con otras personas</td>\n      <td>Secundaría</td>\n      <td>Secundaría</td>\n      <td>Trabaja</td>\n      <td>...</td>\n      <td>No</td>\n      <td>Me interesa poco</td>\n      <td>No</td>\n      <td>166.0</td>\n      <td>B o 02</td>\n      <td>NaN</td>\n      <td>NaN</td>\n      <td>NaN</td>\n      <td>NaN</td>\n      <td>NaN</td>\n    </tr>\n    <tr>\n      <th>4</th>\n      <td>19/04/2022 9:45:49</td>\n      <td>6.0</td>\n      <td>15.0</td>\n      <td>Masculino</td>\n      <td>Urbana</td>\n      <td>No</td>\n      <td>No tengo acceso a ningún dispositivo electrónico</td>\n      <td>No sé</td>\n      <td>No sé</td>\n      <td>Trabaja</td>\n      <td>...</td>\n      <td>No</td>\n      <td>Está entre mis preferidas</td>\n      <td>No</td>\n      <td>166.0</td>\n      <td>B o 02</td>\n      <td>NaN</td>\n      <td>NaN</td>\n      <td>NaN</td>\n      <td>NaN</td>\n      <td>NaN</td>\n    </tr>\n  </tbody>\n</table>\n<p>5 rows × 103 columns</p>\n</div>"
     },
     "execution_count": 11,
     "metadata": {},
     "output_type": "execute_result"
    }
   ],
   "source": [
    "df0.head()"
   ],
   "metadata": {
    "collapsed": false,
    "pycharm": {
     "name": "#%%\n"
    }
   }
  },
  {
   "cell_type": "code",
   "execution_count": 45,
   "outputs": [],
   "source": [
    "col_est_og = ['pandas read excel from url',\n",
    " 'Número de lista',\n",
    " 'Edad',\n",
    " 'Sexo',\n",
    " '¿En qué sector se ubica tu vivienda?',\n",
    " '¿Cuentas con internet en tu casa?',\n",
    " '¿Cuál es el uso del dispositivo tecnológico (celular, computador o tablet) al que tienes acceso en tu casa?',\n",
    " 'Nivel de escolaridad de tu mamá ',\n",
    " 'Nivel de escolaridad de tu papá',\n",
    " '¿A qué se dedica tu mamá?',\n",
    " '¿A qué se dedica tu papá?',\n",
    " '¿Con quién vives?',\n",
    " 'Grado',\n",
    " '¿En qué departamento está tu colegio?',\n",
    " 'Nombre de tu colegio ',\n",
    " 'Nombre de tu colegio .1',\n",
    " 'Nombre de tu colegio .2',\n",
    " 'Nombre de tu colegio .3',\n",
    " 'Nombre de tu colegio .4',\n",
    " 'Nombre de tu colegio .5',\n",
    " 'Nombre de tu colegio .6',\n",
    " 'Nombre de tu colegio .7',\n",
    " 'Nombre de tu colegio .8',\n",
    " 'Nombre de tu colegio .9',\n",
    " 'Nombre de tu colegio .10',\n",
    " 'Nombre de tu colegio .11',\n",
    " 'Nombre de tu colegio .12',\n",
    " 'Nombre de tu colegio .13',\n",
    " 'Nombre de tu colegio .14',\n",
    " 'Nombre de tu colegio .15',\n",
    " 'Nombre de tu colegio .16',\n",
    " 'Nombre de tu colegio .17',\n",
    " '¿Qué opinas de cada una de estas carreras? [Ingeniería]',\n",
    " '¿Qué opinas de cada una de estas carreras? [Matemáticas]',\n",
    " '¿Qué opinas de cada una de estas carreras? [Medicina]',\n",
    " '¿Qué opinas de cada una de estas carreras? [Enfermería]',\n",
    " '¿Qué opinas de cada una de estas carreras? [Educación]',\n",
    " '¿Qué opinas de cada una de estas carreras? [Diseño gráfico]',\n",
    " '¿Qué opinas de cada una de estas carreras? [Ciencias naturales]',\n",
    " 'Lee cada una de estas afirmaciones. ¿Con cuáles de las asignaturas se cumplen para tu caso? [Soy capaz de sacar buenas notas en esta asignatura]',\n",
    " 'Lee cada una de estas afirmaciones. ¿Con cuáles de las asignaturas se cumplen para tu caso? [Si me va bien en esta asignatura, me ayudará en mi futura ocupación]',\n",
    " 'Lee cada una de estas afirmaciones. ¿Con cuáles de las asignaturas se cumplen para tu caso? [A mis padres les gustaría que eligiera un futuro profesional relacionado a esta asignatura]',\n",
    " 'Lee cada una de estas afirmaciones. ¿Con cuáles de las asignaturas se cumplen para tu caso? [Sé de alguien en mi familia que utiliza conocimientos relacionados a esta asignatura en su ocupación]',\n",
    " 'Agrega cualquier comentario o clarificación sobre las preguntas anteriores.',\n",
    " 'Un algoritmo es:',\n",
    " '¿Para qué sirven los algoritmos?',\n",
    " 'Un bucle es:',\n",
    " 'Por favor selecciona la opción que más se ajuste a tu caso, para cada actividad. Donde 5 es que te sientes capaz y 1 es que NO te sientes capaz. [Siento que soy capaz de explicar lo que es el pensamiento computacional]',\n",
    " 'Por favor selecciona la opción que más se ajuste a tu caso, para cada actividad. Donde 5 es que te sientes capaz y 1 es que NO te sientes capaz. [Siento que puedo enumerar las sub-habilidades que componen el pensamiento computacional]',\n",
    " 'Por favor selecciona la opción que más se ajuste a tu caso, para cada actividad. Donde 5 es que te sientes capaz y 1 es que NO te sientes capaz. [Siento que soy capaz de dar ejemplos para explicar las sub-habilidades del pensamiento computacional]',\n",
    " 'Por favor selecciona la opción que más se ajuste a tu caso, para cada actividad. Donde 5 es que te sientes capaz y 1 es que NO te sientes capaz. [Siento que puedo explicar la forma en que las sub-habilidades del pensamiento computacional se correlacionan con la programación]',\n",
    " 'Por favor selecciona la opción que más se ajuste a tu caso, para cada actividad. Donde 5 es que te sientes capaz y 1 es que NO te sientes capaz. [Siento que puedo analizar un ejercicio y determinar qué sub-habilidades de pensamiento computacional busca desarrollar]',\n",
    " 'Por favor selecciona la opción que más se ajuste a tu caso, para cada actividad. Donde 5 es que te sientes capaz y 1 es que NO te sientes capaz. [Siento que puedo resolver problemas a través de programación]',\n",
    " 'Por favor selecciona la opción que más se ajuste a tu caso, para cada actividad. Donde 5 es que te sientes capaz y 1 es que NO te sientes capaz. [Siento que puedo implementar algoritmos]',\n",
    " 'Por favor selecciona la opción que más se ajuste a tu caso, para cada actividad. Donde 5 es que te sientes capaz y 1 es que NO te sientes capaz. [Siento que puedo crear un programa de computador]',\n",
    " 'Por favor selecciona la opción que más se ajuste a tu caso, para cada actividad. Donde 5 es que te sientes capaz y 1 es que NO te sientes capaz. [Siento que puedo automatizar tareas a través de la programación]',\n",
    " 'Por favor selecciona la opción que más se ajuste a tu caso, para cada actividad. Donde 5 es que te sientes capaz y 1 es que NO te sientes capaz. [Siento que puedo utilizar la computación para resolver problemas simples]',\n",
    " 'Agrega cualquier comentario o clarificación sobre las preguntas anteriores..1',\n",
    " 'Un robot que sale desde la casita marrón debe tomar una fotografía de cada tortuga, pero las instrucciones con las que lo programaron  (que aparecen en la barra de color rojo), no están funcionando correctamente. ¿Cuál de las siguientes opciones sí le permite al robot completar la misión?',\n",
    " 'La líder de la tribu Wayuú utiliza señales de humo para enviar mensajes desde la cima de una montaña a los demás integrantes de la tribu. Ella utiliza nubes de humo pequeñas y grandes, y el siguiente código, para enviar sus mensajes:',\n",
    " 'Un robot (ubicado donde está la señal de color rojo) está ayudando con la siembra de café. Estos deben plantarse en terrenos que tengan un alto nivel de humedad y que sean montañosos.  Los terrenos con alto nivel de humedad son los que están demarcados en el cuadro azul. Los terrenos montañosos están demarcados en el cuadro rojo. La laguna está demarcada en el cuadro de color amarillo. ¿Cuál de los siguientes códigos permite que el robot complete su misión?',\n",
    " 'Siete iguanas están en una red social llamada Iguanistagram. Esta red social sólo les permite ver las fotos de su propia cuenta y las de sus amigas. En este diagrama, si dos iguanas son amigas, están unidas por una línea. Después de las vacaciones, todas publican una foto de sí mismas en todos los perfiles de sus amigas. ¿Cuál será la foto con más vistas?',\n",
    " 'Ayuda al robot  verde a salir del laberinto utilizando uno de los conjuntos de instrucciones que hay abajo. Ten en cuenta que el número de veces que se repite (3 o 4 veces) ocurrirá luego de ejecutar una vez\\tel conjunto de instrucciones. Es\\tdecir, si por ejemplo dice que se repite 4 veces,\\ten total\\tse ejecutará 5 veces. ',\n",
    " 'Óscar lleva 2 loncheras a la escuela todos los días: una para la merienda y la otra para el almuerzo. Óscar se despertó tarde y solo tiene 30 minutos para preparar ambas loncheras. A continuación, encontrarás todas las comidas disponibles para las loncheras y el tiempo de preparación en minutos que necesita cada una. Teniendo en cuenta la siguiente información responde ¿Cuál de las siguientes afirmaciones es falsa? ',\n",
    " 'En la hamburguesería \"Pepe\" utilizan seis tipos de ingredientes (A, B, C, D, E, y F) para hacer las hamburguesas. La siguiente tabla muestra algunos ejemplos de sus hamburguesas y sus ingredientes. Los ingredientes no están ubicados en ningún orden en particular.',\n",
    " 'Hay 10 estudiantes trabajando en el periódico de la escuela. Todos los viernes escriben o editan sus propios artículos. Los cuadros rojos en la siguiente tabla, muestran los horarios en que los estudiantes necesitan una computadora. Las computadoras son todas iguales. Durante una hora, un solo estudiante a la vez puede trabajar en una computadora. ¿Cuál es el número mínimo de computadores que se necesitan para que los estudiantes trabajen según el plan?',\n",
    " '¿Qué botella debe cambiarse de color para que el resultado final sea una botella de color blanco?  Tenga en cuenta lo que hace cada máquina recicladora que se usa en este sistema.',\n",
    " 'Agrega cualquier comentario o clarificación sobre las preguntas anteriores..2',\n",
    " 'En una escuela se ha organizado un concurso para que personas inteligentes resuelvan problemas matemáticos difíciles. ¿Quién crees que ganará el concurso?',\n",
    " 'Un grupo de estudiantes juega a ser la tripulación de un barco. La persona que toma las decisiones importantes se llama capitán. ¿Quién crees que es capitán del barco?',\n",
    " 'Un grupo de niños y niñas construyen una casa de madera. Una persona quiere ayudar a construirla, pero las otras personas dicen que le es muy difícil. ¿Quién es la persona excluida de la construcción de la casa de madera?',\n",
    " 'En esta película, hay un personaje que se sienta todos los días junto a la ventana, soñando y esperando a una persona que haga un gran esfuerzo para ganarse su corazón y casarse con este personaje. ¿Quién crees que es el personaje que está sentado y esperando junto a la ventana?',\n",
    " 'Una pareja al llegar del trabajo está conversando sobre su día. Una de las personas trabaja en enseñanza, mientras que la otra persona trabaja en matemáticas. ¿Quién es la persona que trabaja en educación?',\n",
    " 'En un salón de clases hay dos personas conversando sobre su futuro y la carrera profesional que les gustaría estudiar. Una de las personas menciona que quiere estudiar ingeniería y la otra expresa que prefiere las ciencias sociales. ¿Quién crees que es la persona que prefiere estudiar ingeniería?',\n",
    " 'Dos personas conversan sobre sus experiencias en la universidad. Una de las personas dice que para su clase de álgebra lineal tienen que resolver 10 ejercicios, la otra persona comenta que en su curso de historia del arte debe leer y preparar una exposición. ¿Quién crees que toma el curso de historia del arte?',\n",
    " 'Agrega cualquier comentario o clarificación sobre las preguntas anteriores..3',\n",
    " 'Indica qué tanto estás de acuerdo con las siguientes afirmaciones:  Totalmente de acuerdo, de acuerdo, neutro, en desacuerdo o totalmente en desacuerdo. No hay respuestas correctas. [Es alarmante que el ritmo de desaparición de especies en la Amazonia Colombiana sea cada vez mayor.]',\n",
    " 'Indica qué tanto estás de acuerdo con las siguientes afirmaciones:  Totalmente de acuerdo, de acuerdo, neutro, en desacuerdo o totalmente en desacuerdo. No hay respuestas correctas. [El aumento de la temperatura atmosférica se debe al uso creciente y continuado de combustibles fósiles (carbón, petróleo…).]',\n",
    " 'Indica qué tanto estás de acuerdo con las siguientes afirmaciones:  Totalmente de acuerdo, de acuerdo, neutro, en desacuerdo o totalmente en desacuerdo. No hay respuestas correctas. [La acumulación de basura procedente de las ciudades es un problema realmente grave.]',\n",
    " 'Indica qué tanto estás de acuerdo con las siguientes afirmaciones:  Totalmente de acuerdo, de acuerdo, neutro, en desacuerdo o totalmente en desacuerdo. No hay respuestas correctas. [Hay una disminución de la superficie forestal y de áreas naturales en el país.]',\n",
    " 'Indica qué tanto estás de acuerdo con las siguientes afirmaciones:  Totalmente de acuerdo, de acuerdo, neutro, en desacuerdo o totalmente en desacuerdo. No hay respuestas correctas. [El planeta está tan contaminado por productos químicos que ya supone un problema para la salud.]',\n",
    " 'Indica qué tanto estás de acuerdo con las siguientes afirmaciones:  Totalmente de acuerdo, de acuerdo, neutro, en desacuerdo o totalmente en desacuerdo. No hay respuestas correctas. [Conozco los riesgos que representa para la vida humana la desaparición de especies animales y vegetales.]',\n",
    " 'Indica qué tanto estás de acuerdo con las siguientes afirmaciones:  Totalmente de acuerdo, de acuerdo, neutro, en desacuerdo o totalmente en desacuerdo. No hay respuestas correctas. [Me preocupa lo que sucede con la tala de árboles.]',\n",
    " 'Agrega cualquier comentario o clarificación sobre las preguntas anteriores..4',\n",
    " 'Deseo participar en el estudio',\n",
    " 'Nombre de tu colegio .18',\n",
    " '¿Qué opinas de cada una de estas carreras? [Matemáticas ]',\n",
    " '¿Qué opinas de cada una de estas carreras? [Educación].1',\n",
    " '¿Qué opinas de cada una de estas carreras? [Medicina].1',\n",
    " '¿Qué opinas de cada una de estas carreras? [Diseño gráfico].1',\n",
    " '¿Qué opinas de cada una de estas carreras? [Química]',\n",
    " '¿Qué opinas de cada una de estas carreras? [Enfermería].1',\n",
    " 'Selecciona el tipo de discapacidad o habilidades especiales que posees',\n",
    " '¿Te reconoces como una persona con algún tipo de discapacidad? (por ejemplo, eres usuario de braille, lengua de señas, silla de ruedas, o tecon otro tipo de discapacidad). Recuerda que puedes preguntarle a tu docente si tienes dudas.',\n",
    " '¿Qué opinas de cada una de estas carreras? [Desarrollo de software]',\n",
    " '¿Conoces y has jugado con la APP GreenTIC?',\n",
    " 'Código de la institución educativa',\n",
    " 'Grupo',\n",
    " '¿Cómo te llamas?',\n",
    " '¿Qué opinas de cada una de estas carreras? [Fila 8]',\n",
    " '¿Qué opinas de cada una de estas carreras? [Fila 7]',\n",
    " '¿Qué opinas de cada una de estas carreras? [0,/]',\n",
    " '¿Qué opinas de cada una de estas carreras? [Fila 3]']\n",
    "\n",
    "col_est_new_str = '''Timestamp;\tNúmero de lista;\tEdad;\tSexo;\tSector vivienda\t;Internet;\tUso del dispositivo móvil;\tNivel escolaridad madre;\tNivel escolaridad padre;\tOcupación madre;\tOcupación padre;\t¿Con quién vives?;\tGrado;\teliminar - ¿En qué departamento está tu colegio?;\teliminar - Nombre de tu colegio;\teliminar - Nombre de tu colegio;\teliminar -Nombre de tu colegio;\teliminar - Nombre de tu colegio;\teliminar - Nombre de tu colegio;\teliminar - Nombre de tu colegio;\teliminar - Nombre de tu colegio;\teliminar - Nombre de tu colegio\t;eliminar - Nombre de tu colegio;\teliminar - Nombre de tu colegio;\teliminar - Nombre de tu colegio;\teliminar - Nombre de tu colegio;\teliminar - Nombre de tu colegio;\teliminar - Nombre de tu colegio\t;eliminar - Nombre de tu colegio;\teliminar - Nombre de tu colegio;\teliminar - Nombre de tu colegio;\teliminar - Nombre de tu colegio;\t1.1. Ingeniería;\teliminar - ¿Qué opinas de cada una de estas carreras? [Matemáticas];\teliminar - ¿Qué opinas de cada una de estas carreras? [Medicina]\t;eliminar - ¿Qué opinas de cada una de estas carreras? [Enfermería];\teliminar - ¿Qué opinas de cada una de estas carreras? [Educación];\teliminar - ¿Qué opinas de cada una de estas carreras? [Diseño gráfico]\t;eliminar - ¿Qué opinas de cada una de estas carreras? [Ciencias naturales]\t;2.1 Soy capaz de sacar buenas notas en esta asignatura;\t2.2 Si me va bien en esta asignatura, me ayudará en mi futura ocupación\t;2.3 A mis padres les gustaría que eligiera un futuro profesional relacionado a esta asignatura;\t2.4 Sé de alguien en mi familia que utiliza conocimientos relacionados a esta asignatura en su ocupación\t;Comentarios 1-2\t;Un algoritmo es:\t;¿Para qué sirven los algoritmos?\t;Un bucle es:\t;3.1 Siento que soy capaz de explicar lo que es el pensamiento computacional\t;3.2 Siento que puedo enumerar las sub-habilidades que componen el pensamiento computacional;\t3.3 Siento que soy capaz de dar ejemplos para explicar las sub-habilidades del pensamiento computacional\t;3.4 Siento que puedo explicar la forma en que las sub-habilidades del pensamiento computacional se correlacionan con la programación\t;3.5 Siento que puedo analizar un ejercicio y determinar qué sub-habilidades de pensamiento computacional busca desarrollar\t;3.6 Siento que puedo resolver problemas a través de programación\t;3.7 Siento que puedo implementar algoritmos;\t3.8 Siento que puedo crear un programa de computador\t ;3.9 Siento que puedo automatizar tareas a través de la programación\t;3.10 Siento que puedo utilizar la computación para resolver problemas simples;\tComentarios P3\t;¿Cuál de las siguientes opciones sí le permite al robot completar la misión de fotografiar cada tortuga?\t;¿Qué mensaje deseaba enviar la líder Wayuú?\t;¿Cuál de los siguientes códigos permite que el robot complete su misión sembrando café?;\t¿Cuál será la foto con más vistas?\t;Ayuda al robot verde a salir del laberinto;\tÓscar lleva 2 loncheras a la escuela todos los días ¿Cuál de las siguientes afirmaciones es falsa?\t;¿Cuál de las siguientes hamburguesas tiene los ingredientes A, E y F?;\teliminar - Hay 10 estudiantes trabajando en el periódico de la escuela. Todos los viernes escriben o editan sus propios artículos. Los cuadros rojos en la siguiente tabla, muestran los horarios en que los estudiantes necesitan una computadora. Las computadoras son todas iguales. Durante una hora, un solo estudiante a la vez puede trabajar en una computadora. ¿Cuál es el número mínimo de computadores que se necesitan para que los estudiantes trabajen según el plan?\t;¿Qué botella debe cambiarse de color para que el resultado final sea una botella de color blanco?;\tComentarios conocimiento\t   ;5.1 ¿Quién crees que ganará el concurso de matemáticas?\t;5.2 ¿Quién crees que es capitán del barco?\t;5.3 ¿Quién es la persona excluida de la construcción de la casa de madera?\t;5.4 ¿Quién crees que es el personaje que está sentado y esperando junto a la ventana?\t;5.5 ¿Quién es la persona que trabaja en educación?\t;5.6 ¿Quién crees que es la persona que prefiere estudiar ingeniería?\t;eliminar - ¿Quién crees que toma el curso de historia del arte?\t;Comentarios género\t;4.1 Es alarmante que el ritmo de desaparición de especies en la Amazonia Colombiana sea cada vez mayor.\t;4.2 El aumento de la temperatura atmosférica se debe al uso creciente y continuado de combustibles fósiles (carbón, petróleo…).\t;4.3 La acumulación de basura procedente de las ciudades es un problema realmente grave.\t;4.4 Hay una disminución de la superficie forestal y de áreas naturales en el país.\t;4.5 El planeta está tan contaminado por productos químicos que ya supone un problema para la salud.\t;4.6 Conozco los riesgos que representa para la vida humana la desaparición de especies animales y vegetales.\t;4.7 Me preocupa lo que sucede con la tala de árboles.\t;Comentarios medioambiente;\tDeseo participar en el estudio\t;eliminar - Nombre de tu colegio\t;1.2 Matemáticas\t;1.3 Educación\t;1.4 Medicina\t;1.5 Diseño gráfico\t;1.6 Química\t;1.7 Enfermería\t;Tipo de discapacidad\t;¿Te reconoces como una persona con algún tipo de discapacidad?\t;1.8 Desarrollo de software\t;Conoce GreenTIC\t;Código IE;\tGrupo; Nombre\t;eliminar - ¿Qué opinas de cada una de estas carreras? [Fila 8]\t;eliminar - ¿Qué opinas de cada una de estas carreras? [Fila 7]\t;eliminar - ¿Qué opinas de cada una de estas carreras? [0,/];\teliminar - ¿Qué opinas de cada una de estas carreras? [Fila 3]\n",
    "'''\n"
   ],
   "metadata": {
    "collapsed": false,
    "pycharm": {
     "name": "#%%\n"
    }
   }
  },
  {
   "cell_type": "code",
   "execution_count": 46,
   "outputs": [],
   "source": [
    "col_est_new = col_est_new_str.split(sep=';')\n",
    "col_est_new = [x.strip() for x in col_est_new]"
   ],
   "metadata": {
    "collapsed": false,
    "pycharm": {
     "name": "#%%\n"
    }
   }
  },
  {
   "cell_type": "code",
   "execution_count": 47,
   "outputs": [
    {
     "data": {
      "text/plain": "103"
     },
     "execution_count": 47,
     "metadata": {},
     "output_type": "execute_result"
    }
   ],
   "source": [
    "len(col_est_og)"
   ],
   "metadata": {
    "collapsed": false,
    "pycharm": {
     "name": "#%%\n"
    }
   }
  },
  {
   "cell_type": "code",
   "execution_count": 48,
   "outputs": [
    {
     "data": {
      "text/plain": "103"
     },
     "execution_count": 48,
     "metadata": {},
     "output_type": "execute_result"
    }
   ],
   "source": [
    "len(col_est_new)"
   ],
   "metadata": {
    "collapsed": false,
    "pycharm": {
     "name": "#%%\n"
    }
   }
  },
  {
   "cell_type": "code",
   "execution_count": 49,
   "outputs": [],
   "source": [
    "col_est_new = col_est_new_str.split(sep=';')\n",
    "col_est_new = [x.strip() for x in col_est_new]"
   ],
   "metadata": {
    "collapsed": false,
    "pycharm": {
     "name": "#%%\n"
    }
   }
  },
  {
   "cell_type": "code",
   "execution_count": 50,
   "outputs": [
    {
     "data": {
      "text/plain": "{'pandas read excel from url': 'Timestamp',\n 'Número de lista': 'Número de lista',\n 'Edad': 'Edad',\n 'Sexo': 'Sexo',\n '¿En qué sector se ubica tu vivienda?': 'Sector vivienda',\n '¿Cuentas con internet en tu casa?': 'Internet',\n '¿Cuál es el uso del dispositivo tecnológico (celular, computador o tablet) al que tienes acceso en tu casa?': 'Uso del dispositivo móvil',\n 'Nivel de escolaridad de tu mamá ': 'Nivel escolaridad madre',\n 'Nivel de escolaridad de tu papá': 'Nivel escolaridad padre',\n '¿A qué se dedica tu mamá?': 'Ocupación madre',\n '¿A qué se dedica tu papá?': 'Ocupación padre',\n '¿Con quién vives?': '¿Con quién vives?',\n 'Grado': 'Grado',\n '¿En qué departamento está tu colegio?': 'eliminar - ¿En qué departamento está tu colegio?',\n 'Nombre de tu colegio ': 'eliminar - Nombre de tu colegio',\n 'Nombre de tu colegio .1': 'eliminar - Nombre de tu colegio',\n 'Nombre de tu colegio .2': 'eliminar -Nombre de tu colegio',\n 'Nombre de tu colegio .3': 'eliminar - Nombre de tu colegio',\n 'Nombre de tu colegio .4': 'eliminar - Nombre de tu colegio',\n 'Nombre de tu colegio .5': 'eliminar - Nombre de tu colegio',\n 'Nombre de tu colegio .6': 'eliminar - Nombre de tu colegio',\n 'Nombre de tu colegio .7': 'eliminar - Nombre de tu colegio',\n 'Nombre de tu colegio .8': 'eliminar - Nombre de tu colegio',\n 'Nombre de tu colegio .9': 'eliminar - Nombre de tu colegio',\n 'Nombre de tu colegio .10': 'eliminar - Nombre de tu colegio',\n 'Nombre de tu colegio .11': 'eliminar - Nombre de tu colegio',\n 'Nombre de tu colegio .12': 'eliminar - Nombre de tu colegio',\n 'Nombre de tu colegio .13': 'eliminar - Nombre de tu colegio',\n 'Nombre de tu colegio .14': 'eliminar - Nombre de tu colegio',\n 'Nombre de tu colegio .15': 'eliminar - Nombre de tu colegio',\n 'Nombre de tu colegio .16': 'eliminar - Nombre de tu colegio',\n 'Nombre de tu colegio .17': 'eliminar - Nombre de tu colegio',\n '¿Qué opinas de cada una de estas carreras? [Ingeniería]': '1.1. Ingeniería',\n '¿Qué opinas de cada una de estas carreras? [Matemáticas]': 'eliminar - ¿Qué opinas de cada una de estas carreras? [Matemáticas]',\n '¿Qué opinas de cada una de estas carreras? [Medicina]': 'eliminar - ¿Qué opinas de cada una de estas carreras? [Medicina]',\n '¿Qué opinas de cada una de estas carreras? [Enfermería]': 'eliminar - ¿Qué opinas de cada una de estas carreras? [Enfermería]',\n '¿Qué opinas de cada una de estas carreras? [Educación]': 'eliminar - ¿Qué opinas de cada una de estas carreras? [Educación]',\n '¿Qué opinas de cada una de estas carreras? [Diseño gráfico]': 'eliminar - ¿Qué opinas de cada una de estas carreras? [Diseño gráfico]',\n '¿Qué opinas de cada una de estas carreras? [Ciencias naturales]': 'eliminar - ¿Qué opinas de cada una de estas carreras? [Ciencias naturales]',\n 'Lee cada una de estas afirmaciones. ¿Con cuáles de las asignaturas se cumplen para tu caso? [Soy capaz de sacar buenas notas en esta asignatura]': '2.1 Soy capaz de sacar buenas notas en esta asignatura',\n 'Lee cada una de estas afirmaciones. ¿Con cuáles de las asignaturas se cumplen para tu caso? [Si me va bien en esta asignatura, me ayudará en mi futura ocupación]': '2.2 Si me va bien en esta asignatura, me ayudará en mi futura ocupación',\n 'Lee cada una de estas afirmaciones. ¿Con cuáles de las asignaturas se cumplen para tu caso? [A mis padres les gustaría que eligiera un futuro profesional relacionado a esta asignatura]': '2.3 A mis padres les gustaría que eligiera un futuro profesional relacionado a esta asignatura',\n 'Lee cada una de estas afirmaciones. ¿Con cuáles de las asignaturas se cumplen para tu caso? [Sé de alguien en mi familia que utiliza conocimientos relacionados a esta asignatura en su ocupación]': '2.4 Sé de alguien en mi familia que utiliza conocimientos relacionados a esta asignatura en su ocupación',\n 'Agrega cualquier comentario o clarificación sobre las preguntas anteriores.': 'Comentarios 1-2',\n 'Un algoritmo es:': 'Un algoritmo es:',\n '¿Para qué sirven los algoritmos?': '¿Para qué sirven los algoritmos?',\n 'Un bucle es:': 'Un bucle es:',\n 'Por favor selecciona la opción que más se ajuste a tu caso, para cada actividad. Donde 5 es que te sientes capaz y 1 es que NO te sientes capaz. [Siento que soy capaz de explicar lo que es el pensamiento computacional]': '3.1 Siento que soy capaz de explicar lo que es el pensamiento computacional',\n 'Por favor selecciona la opción que más se ajuste a tu caso, para cada actividad. Donde 5 es que te sientes capaz y 1 es que NO te sientes capaz. [Siento que puedo enumerar las sub-habilidades que componen el pensamiento computacional]': '3.2 Siento que puedo enumerar las sub-habilidades que componen el pensamiento computacional',\n 'Por favor selecciona la opción que más se ajuste a tu caso, para cada actividad. Donde 5 es que te sientes capaz y 1 es que NO te sientes capaz. [Siento que soy capaz de dar ejemplos para explicar las sub-habilidades del pensamiento computacional]': '3.3 Siento que soy capaz de dar ejemplos para explicar las sub-habilidades del pensamiento computacional',\n 'Por favor selecciona la opción que más se ajuste a tu caso, para cada actividad. Donde 5 es que te sientes capaz y 1 es que NO te sientes capaz. [Siento que puedo explicar la forma en que las sub-habilidades del pensamiento computacional se correlacionan con la programación]': '3.4 Siento que puedo explicar la forma en que las sub-habilidades del pensamiento computacional se correlacionan con la programación',\n 'Por favor selecciona la opción que más se ajuste a tu caso, para cada actividad. Donde 5 es que te sientes capaz y 1 es que NO te sientes capaz. [Siento que puedo analizar un ejercicio y determinar qué sub-habilidades de pensamiento computacional busca desarrollar]': '3.5 Siento que puedo analizar un ejercicio y determinar qué sub-habilidades de pensamiento computacional busca desarrollar',\n 'Por favor selecciona la opción que más se ajuste a tu caso, para cada actividad. Donde 5 es que te sientes capaz y 1 es que NO te sientes capaz. [Siento que puedo resolver problemas a través de programación]': '3.6 Siento que puedo resolver problemas a través de programación',\n 'Por favor selecciona la opción que más se ajuste a tu caso, para cada actividad. Donde 5 es que te sientes capaz y 1 es que NO te sientes capaz. [Siento que puedo implementar algoritmos]': '3.7 Siento que puedo implementar algoritmos',\n 'Por favor selecciona la opción que más se ajuste a tu caso, para cada actividad. Donde 5 es que te sientes capaz y 1 es que NO te sientes capaz. [Siento que puedo crear un programa de computador]': '3.8 Siento que puedo crear un programa de computador',\n 'Por favor selecciona la opción que más se ajuste a tu caso, para cada actividad. Donde 5 es que te sientes capaz y 1 es que NO te sientes capaz. [Siento que puedo automatizar tareas a través de la programación]': '3.9 Siento que puedo automatizar tareas a través de la programación',\n 'Por favor selecciona la opción que más se ajuste a tu caso, para cada actividad. Donde 5 es que te sientes capaz y 1 es que NO te sientes capaz. [Siento que puedo utilizar la computación para resolver problemas simples]': '3.10 Siento que puedo utilizar la computación para resolver problemas simples',\n 'Agrega cualquier comentario o clarificación sobre las preguntas anteriores..1': 'Comentarios P3',\n 'Un robot que sale desde la casita marrón debe tomar una fotografía de cada tortuga, pero las instrucciones con las que lo programaron  (que aparecen en la barra de color rojo), no están funcionando correctamente. ¿Cuál de las siguientes opciones sí le permite al robot completar la misión?': '¿Cuál de las siguientes opciones sí le permite al robot completar la misión de fotografiar cada tortuga?',\n 'La líder de la tribu Wayuú utiliza señales de humo para enviar mensajes desde la cima de una montaña a los demás integrantes de la tribu. Ella utiliza nubes de humo pequeñas y grandes, y el siguiente código, para enviar sus mensajes:': '¿Qué mensaje deseaba enviar la líder Wayuú?',\n 'Un robot (ubicado donde está la señal de color rojo) está ayudando con la siembra de café. Estos deben plantarse en terrenos que tengan un alto nivel de humedad y que sean montañosos.  Los terrenos con alto nivel de humedad son los que están demarcados en el cuadro azul. Los terrenos montañosos están demarcados en el cuadro rojo. La laguna está demarcada en el cuadro de color amarillo. ¿Cuál de los siguientes códigos permite que el robot complete su misión?': '¿Cuál de los siguientes códigos permite que el robot complete su misión sembrando café?',\n 'Siete iguanas están en una red social llamada Iguanistagram. Esta red social sólo les permite ver las fotos de su propia cuenta y las de sus amigas. En este diagrama, si dos iguanas son amigas, están unidas por una línea. Después de las vacaciones, todas publican una foto de sí mismas en todos los perfiles de sus amigas. ¿Cuál será la foto con más vistas?': '¿Cuál será la foto con más vistas?',\n 'Ayuda al robot  verde a salir del laberinto utilizando uno de los conjuntos de instrucciones que hay abajo. Ten en cuenta que el número de veces que se repite (3 o 4 veces) ocurrirá luego de ejecutar una vez\\tel conjunto de instrucciones. Es\\tdecir, si por ejemplo dice que se repite 4 veces,\\ten total\\tse ejecutará 5 veces. ': 'Ayuda al robot verde a salir del laberinto',\n 'Óscar lleva 2 loncheras a la escuela todos los días: una para la merienda y la otra para el almuerzo. Óscar se despertó tarde y solo tiene 30 minutos para preparar ambas loncheras. A continuación, encontrarás todas las comidas disponibles para las loncheras y el tiempo de preparación en minutos que necesita cada una. Teniendo en cuenta la siguiente información responde ¿Cuál de las siguientes afirmaciones es falsa? ': 'Óscar lleva 2 loncheras a la escuela todos los días ¿Cuál de las siguientes afirmaciones es falsa?',\n 'En la hamburguesería \"Pepe\" utilizan seis tipos de ingredientes (A, B, C, D, E, y F) para hacer las hamburguesas. La siguiente tabla muestra algunos ejemplos de sus hamburguesas y sus ingredientes. Los ingredientes no están ubicados en ningún orden en particular.': '¿Cuál de las siguientes hamburguesas tiene los ingredientes A, E y F?',\n 'Hay 10 estudiantes trabajando en el periódico de la escuela. Todos los viernes escriben o editan sus propios artículos. Los cuadros rojos en la siguiente tabla, muestran los horarios en que los estudiantes necesitan una computadora. Las computadoras son todas iguales. Durante una hora, un solo estudiante a la vez puede trabajar en una computadora. ¿Cuál es el número mínimo de computadores que se necesitan para que los estudiantes trabajen según el plan?': 'eliminar - Hay 10 estudiantes trabajando en el periódico de la escuela. Todos los viernes escriben o editan sus propios artículos. Los cuadros rojos en la siguiente tabla, muestran los horarios en que los estudiantes necesitan una computadora. Las computadoras son todas iguales. Durante una hora, un solo estudiante a la vez puede trabajar en una computadora. ¿Cuál es el número mínimo de computadores que se necesitan para que los estudiantes trabajen según el plan?',\n '¿Qué botella debe cambiarse de color para que el resultado final sea una botella de color blanco?  Tenga en cuenta lo que hace cada máquina recicladora que se usa en este sistema.': '¿Qué botella debe cambiarse de color para que el resultado final sea una botella de color blanco?',\n 'Agrega cualquier comentario o clarificación sobre las preguntas anteriores..2': 'Comentarios conocimiento',\n 'En una escuela se ha organizado un concurso para que personas inteligentes resuelvan problemas matemáticos difíciles. ¿Quién crees que ganará el concurso?': '5.1 ¿Quién crees que ganará el concurso de matemáticas?',\n 'Un grupo de estudiantes juega a ser la tripulación de un barco. La persona que toma las decisiones importantes se llama capitán. ¿Quién crees que es capitán del barco?': '5.2 ¿Quién crees que es capitán del barco?',\n 'Un grupo de niños y niñas construyen una casa de madera. Una persona quiere ayudar a construirla, pero las otras personas dicen que le es muy difícil. ¿Quién es la persona excluida de la construcción de la casa de madera?': '5.3 ¿Quién es la persona excluida de la construcción de la casa de madera?',\n 'En esta película, hay un personaje que se sienta todos los días junto a la ventana, soñando y esperando a una persona que haga un gran esfuerzo para ganarse su corazón y casarse con este personaje. ¿Quién crees que es el personaje que está sentado y esperando junto a la ventana?': '5.4 ¿Quién crees que es el personaje que está sentado y esperando junto a la ventana?',\n 'Una pareja al llegar del trabajo está conversando sobre su día. Una de las personas trabaja en enseñanza, mientras que la otra persona trabaja en matemáticas. ¿Quién es la persona que trabaja en educación?': '5.5 ¿Quién es la persona que trabaja en educación?',\n 'En un salón de clases hay dos personas conversando sobre su futuro y la carrera profesional que les gustaría estudiar. Una de las personas menciona que quiere estudiar ingeniería y la otra expresa que prefiere las ciencias sociales. ¿Quién crees que es la persona que prefiere estudiar ingeniería?': '5.6 ¿Quién crees que es la persona que prefiere estudiar ingeniería?',\n 'Dos personas conversan sobre sus experiencias en la universidad. Una de las personas dice que para su clase de álgebra lineal tienen que resolver 10 ejercicios, la otra persona comenta que en su curso de historia del arte debe leer y preparar una exposición. ¿Quién crees que toma el curso de historia del arte?': 'eliminar - ¿Quién crees que toma el curso de historia del arte?',\n 'Agrega cualquier comentario o clarificación sobre las preguntas anteriores..3': 'Comentarios género',\n 'Indica qué tanto estás de acuerdo con las siguientes afirmaciones:  Totalmente de acuerdo, de acuerdo, neutro, en desacuerdo o totalmente en desacuerdo. No hay respuestas correctas. [Es alarmante que el ritmo de desaparición de especies en la Amazonia Colombiana sea cada vez mayor.]': '4.1 Es alarmante que el ritmo de desaparición de especies en la Amazonia Colombiana sea cada vez mayor.',\n 'Indica qué tanto estás de acuerdo con las siguientes afirmaciones:  Totalmente de acuerdo, de acuerdo, neutro, en desacuerdo o totalmente en desacuerdo. No hay respuestas correctas. [El aumento de la temperatura atmosférica se debe al uso creciente y continuado de combustibles fósiles (carbón, petróleo…).]': '4.2 El aumento de la temperatura atmosférica se debe al uso creciente y continuado de combustibles fósiles (carbón, petróleo…).',\n 'Indica qué tanto estás de acuerdo con las siguientes afirmaciones:  Totalmente de acuerdo, de acuerdo, neutro, en desacuerdo o totalmente en desacuerdo. No hay respuestas correctas. [La acumulación de basura procedente de las ciudades es un problema realmente grave.]': '4.3 La acumulación de basura procedente de las ciudades es un problema realmente grave.',\n 'Indica qué tanto estás de acuerdo con las siguientes afirmaciones:  Totalmente de acuerdo, de acuerdo, neutro, en desacuerdo o totalmente en desacuerdo. No hay respuestas correctas. [Hay una disminución de la superficie forestal y de áreas naturales en el país.]': '4.4 Hay una disminución de la superficie forestal y de áreas naturales en el país.',\n 'Indica qué tanto estás de acuerdo con las siguientes afirmaciones:  Totalmente de acuerdo, de acuerdo, neutro, en desacuerdo o totalmente en desacuerdo. No hay respuestas correctas. [El planeta está tan contaminado por productos químicos que ya supone un problema para la salud.]': '4.5 El planeta está tan contaminado por productos químicos que ya supone un problema para la salud.',\n 'Indica qué tanto estás de acuerdo con las siguientes afirmaciones:  Totalmente de acuerdo, de acuerdo, neutro, en desacuerdo o totalmente en desacuerdo. No hay respuestas correctas. [Conozco los riesgos que representa para la vida humana la desaparición de especies animales y vegetales.]': '4.6 Conozco los riesgos que representa para la vida humana la desaparición de especies animales y vegetales.',\n 'Indica qué tanto estás de acuerdo con las siguientes afirmaciones:  Totalmente de acuerdo, de acuerdo, neutro, en desacuerdo o totalmente en desacuerdo. No hay respuestas correctas. [Me preocupa lo que sucede con la tala de árboles.]': '4.7 Me preocupa lo que sucede con la tala de árboles.',\n 'Agrega cualquier comentario o clarificación sobre las preguntas anteriores..4': 'Comentarios medioambiente',\n 'Deseo participar en el estudio': 'Deseo participar en el estudio',\n 'Nombre de tu colegio .18': 'eliminar - Nombre de tu colegio',\n '¿Qué opinas de cada una de estas carreras? [Matemáticas ]': '1.2 Matemáticas',\n '¿Qué opinas de cada una de estas carreras? [Educación].1': '1.3 Educación',\n '¿Qué opinas de cada una de estas carreras? [Medicina].1': '1.4 Medicina',\n '¿Qué opinas de cada una de estas carreras? [Diseño gráfico].1': '1.5 Diseño gráfico',\n '¿Qué opinas de cada una de estas carreras? [Química]': '1.6 Química',\n '¿Qué opinas de cada una de estas carreras? [Enfermería].1': '1.7 Enfermería',\n 'Selecciona el tipo de discapacidad o habilidades especiales que posees': 'Tipo de discapacidad',\n '¿Te reconoces como una persona con algún tipo de discapacidad? (por ejemplo, eres usuario de braille, lengua de señas, silla de ruedas, o tecon otro tipo de discapacidad). Recuerda que puedes preguntarle a tu docente si tienes dudas.': '¿Te reconoces como una persona con algún tipo de discapacidad?',\n '¿Qué opinas de cada una de estas carreras? [Desarrollo de software]': '1.8 Desarrollo de software',\n '¿Conoces y has jugado con la APP GreenTIC?': 'Conoce GreenTIC',\n 'Código de la institución educativa': 'Código IE',\n 'Grupo': 'Grupo',\n '¿Cómo te llamas?': 'Nombre',\n '¿Qué opinas de cada una de estas carreras? [Fila 8]': 'eliminar - ¿Qué opinas de cada una de estas carreras? [Fila 8]',\n '¿Qué opinas de cada una de estas carreras? [Fila 7]': 'eliminar - ¿Qué opinas de cada una de estas carreras? [Fila 7]',\n '¿Qué opinas de cada una de estas carreras? [0,/]': 'eliminar - ¿Qué opinas de cada una de estas carreras? [0,/]',\n '¿Qué opinas de cada una de estas carreras? [Fila 3]': 'eliminar - ¿Qué opinas de cada una de estas carreras? [Fila 3]'}"
     },
     "execution_count": 50,
     "metadata": {},
     "output_type": "execute_result"
    }
   ],
   "source": [
    "dict_col_est = dict(zip(col_est_og, col_est_new))\n",
    "dict_col_est"
   ],
   "metadata": {
    "collapsed": false,
    "pycharm": {
     "name": "#%%\n"
    }
   }
  },
  {
   "cell_type": "code",
   "execution_count": 17,
   "outputs": [],
   "source": [
    "df0 = df0.rename(columns=dict_col_est)"
   ],
   "metadata": {
    "collapsed": false,
    "pycharm": {
     "name": "#%%\n"
    }
   }
  },
  {
   "cell_type": "code",
   "execution_count": 51,
   "outputs": [],
   "source": [
    "import pickle"
   ],
   "metadata": {
    "collapsed": false,
    "pycharm": {
     "name": "#%%\n"
    }
   }
  },
  {
   "cell_type": "code",
   "execution_count": 52,
   "outputs": [],
   "source": [
    "# create a binary pickle file\n",
    "f = open(\"columnas_estudiantes.pkl\",\"wb\")\n",
    "\n",
    "# write the python object (dict) to pickle file\n",
    "pickle.dump(dict_col_est,f)"
   ],
   "metadata": {
    "collapsed": false,
    "pycharm": {
     "name": "#%%\n"
    }
   }
  },
  {
   "cell_type": "code",
   "execution_count": 24,
   "outputs": [],
   "source": [
    "with open('columnas_estudiantes.pkl', 'rb') as handle:\n",
    "    b = pickle.load(handle)\n"
   ],
   "metadata": {
    "collapsed": false,
    "pycharm": {
     "name": "#%%\n"
    }
   }
  },
  {
   "cell_type": "code",
   "execution_count": 26,
   "outputs": [
    {
     "data": {
      "text/plain": "            Timestamp  Número de lista  Edad       Sexo Sector vivienda  \\\n0  19/04/2022 9:31:17              NaN   NaN        NaN             NaN   \n1  19/04/2022 9:43:26              3.0  14.0  Masculino          Urbana   \n2  19/04/2022 9:43:27              7.0  16.0  Masculino          Urbana   \n3  19/04/2022 9:43:39             30.0  14.0   Femenino          Urbana   \n4  19/04/2022 9:45:49              6.0  15.0  Masculino          Urbana   \n\n  Internet                         Uso del dispositivo móvil  \\\n0      NaN                                               NaN   \n1       Sí                      Uso propio (solo lo usas tú)   \n2       Sí                      Uso propio (solo lo usas tú)   \n3       Sí                 Uso compartido con otras personas   \n4       No  No tengo acceso a ningún dispositivo electrónico   \n\n  Nivel escolaridad madre Nivel escolaridad padre Ocupación madre  ...  \\\n0                     NaN                     NaN             NaN  ...   \n1     Técnico o tecnólogo    Titulo universitario         Trabaja  ...   \n2    Titulo universitario     Técnico o tecnólogo         Trabaja  ...   \n3              Secundaría              Secundaría         Trabaja  ...   \n4                   No sé                   No sé         Trabaja  ...   \n\n  1.8 Desarrollo de software            Conoce GreenTIC Código IE  Grupo  \\\n0                        NaN                        NaN       NaN    NaN   \n1                         No           Me interesa poco        No  166.0   \n2                         No  Está entre mis preferidas        No  166.0   \n3                         No           Me interesa poco        No  166.0   \n4                         No  Está entre mis preferidas        No  166.0   \n\n   eliminar - ¿Qué opinas de cada una de estas carreras? [Fila 8]  \\\n0                                                NaN                \n1                                             B o 02                \n2                                             B o 02                \n3                                             B o 02                \n4                                             B o 02                \n\n   eliminar - ¿Qué opinas de cada una de estas carreras? [Fila 7]  \\\n0                                                NaN                \n1                                                NaN                \n2                                                NaN                \n3                                                NaN                \n4                                                NaN                \n\n   eliminar - ¿Qué opinas de cada una de estas carreras? [0,/]  \\\n0                                                NaN             \n1                                                NaN             \n2                                                NaN             \n3                                                NaN             \n4                                                NaN             \n\n   eliminar - ¿Qué opinas de cada una de estas carreras? [Fila 3]  \\\n0                                                NaN                \n1                                                NaN                \n2                                                NaN                \n3                                                NaN                \n4                                                NaN                \n\n   ¿Qué opinas de cada una de estas carreras? [0,/]  \\\n0                                               NaN   \n1                                               NaN   \n2                                               NaN   \n3                                               NaN   \n4                                               NaN   \n\n   ¿Qué opinas de cada una de estas carreras? [Fila 3]  \n0                                                NaN    \n1                                                NaN    \n2                                                NaN    \n3                                                NaN    \n4                                                NaN    \n\n[5 rows x 103 columns]",
      "text/html": "<div>\n<style scoped>\n    .dataframe tbody tr th:only-of-type {\n        vertical-align: middle;\n    }\n\n    .dataframe tbody tr th {\n        vertical-align: top;\n    }\n\n    .dataframe thead th {\n        text-align: right;\n    }\n</style>\n<table border=\"1\" class=\"dataframe\">\n  <thead>\n    <tr style=\"text-align: right;\">\n      <th></th>\n      <th>Timestamp</th>\n      <th>Número de lista</th>\n      <th>Edad</th>\n      <th>Sexo</th>\n      <th>Sector vivienda</th>\n      <th>Internet</th>\n      <th>Uso del dispositivo móvil</th>\n      <th>Nivel escolaridad madre</th>\n      <th>Nivel escolaridad padre</th>\n      <th>Ocupación madre</th>\n      <th>...</th>\n      <th>1.8 Desarrollo de software</th>\n      <th>Conoce GreenTIC</th>\n      <th>Código IE</th>\n      <th>Grupo</th>\n      <th>eliminar - ¿Qué opinas de cada una de estas carreras? [Fila 8]</th>\n      <th>eliminar - ¿Qué opinas de cada una de estas carreras? [Fila 7]</th>\n      <th>eliminar - ¿Qué opinas de cada una de estas carreras? [0,/]</th>\n      <th>eliminar - ¿Qué opinas de cada una de estas carreras? [Fila 3]</th>\n      <th>¿Qué opinas de cada una de estas carreras? [0,/]</th>\n      <th>¿Qué opinas de cada una de estas carreras? [Fila 3]</th>\n    </tr>\n  </thead>\n  <tbody>\n    <tr>\n      <th>0</th>\n      <td>19/04/2022 9:31:17</td>\n      <td>NaN</td>\n      <td>NaN</td>\n      <td>NaN</td>\n      <td>NaN</td>\n      <td>NaN</td>\n      <td>NaN</td>\n      <td>NaN</td>\n      <td>NaN</td>\n      <td>NaN</td>\n      <td>...</td>\n      <td>NaN</td>\n      <td>NaN</td>\n      <td>NaN</td>\n      <td>NaN</td>\n      <td>NaN</td>\n      <td>NaN</td>\n      <td>NaN</td>\n      <td>NaN</td>\n      <td>NaN</td>\n      <td>NaN</td>\n    </tr>\n    <tr>\n      <th>1</th>\n      <td>19/04/2022 9:43:26</td>\n      <td>3.0</td>\n      <td>14.0</td>\n      <td>Masculino</td>\n      <td>Urbana</td>\n      <td>Sí</td>\n      <td>Uso propio (solo lo usas tú)</td>\n      <td>Técnico o tecnólogo</td>\n      <td>Titulo universitario</td>\n      <td>Trabaja</td>\n      <td>...</td>\n      <td>No</td>\n      <td>Me interesa poco</td>\n      <td>No</td>\n      <td>166.0</td>\n      <td>B o 02</td>\n      <td>NaN</td>\n      <td>NaN</td>\n      <td>NaN</td>\n      <td>NaN</td>\n      <td>NaN</td>\n    </tr>\n    <tr>\n      <th>2</th>\n      <td>19/04/2022 9:43:27</td>\n      <td>7.0</td>\n      <td>16.0</td>\n      <td>Masculino</td>\n      <td>Urbana</td>\n      <td>Sí</td>\n      <td>Uso propio (solo lo usas tú)</td>\n      <td>Titulo universitario</td>\n      <td>Técnico o tecnólogo</td>\n      <td>Trabaja</td>\n      <td>...</td>\n      <td>No</td>\n      <td>Está entre mis preferidas</td>\n      <td>No</td>\n      <td>166.0</td>\n      <td>B o 02</td>\n      <td>NaN</td>\n      <td>NaN</td>\n      <td>NaN</td>\n      <td>NaN</td>\n      <td>NaN</td>\n    </tr>\n    <tr>\n      <th>3</th>\n      <td>19/04/2022 9:43:39</td>\n      <td>30.0</td>\n      <td>14.0</td>\n      <td>Femenino</td>\n      <td>Urbana</td>\n      <td>Sí</td>\n      <td>Uso compartido con otras personas</td>\n      <td>Secundaría</td>\n      <td>Secundaría</td>\n      <td>Trabaja</td>\n      <td>...</td>\n      <td>No</td>\n      <td>Me interesa poco</td>\n      <td>No</td>\n      <td>166.0</td>\n      <td>B o 02</td>\n      <td>NaN</td>\n      <td>NaN</td>\n      <td>NaN</td>\n      <td>NaN</td>\n      <td>NaN</td>\n    </tr>\n    <tr>\n      <th>4</th>\n      <td>19/04/2022 9:45:49</td>\n      <td>6.0</td>\n      <td>15.0</td>\n      <td>Masculino</td>\n      <td>Urbana</td>\n      <td>No</td>\n      <td>No tengo acceso a ningún dispositivo electrónico</td>\n      <td>No sé</td>\n      <td>No sé</td>\n      <td>Trabaja</td>\n      <td>...</td>\n      <td>No</td>\n      <td>Está entre mis preferidas</td>\n      <td>No</td>\n      <td>166.0</td>\n      <td>B o 02</td>\n      <td>NaN</td>\n      <td>NaN</td>\n      <td>NaN</td>\n      <td>NaN</td>\n      <td>NaN</td>\n    </tr>\n  </tbody>\n</table>\n<p>5 rows × 103 columns</p>\n</div>"
     },
     "execution_count": 26,
     "metadata": {},
     "output_type": "execute_result"
    }
   ],
   "source": [
    "df0 = df0.rename(columns=b)\n",
    "df0.head()"
   ],
   "metadata": {
    "collapsed": false,
    "pycharm": {
     "name": "#%%\n"
    }
   }
  },
  {
   "cell_type": "code",
   "execution_count": 19,
   "id": "36f0e598",
   "metadata": {
    "tags": []
   },
   "outputs": [],
   "source": [
    "\n",
    "df0['N registro']=df0.index\n",
    "\n",
    "## Seleccionar solo las columnas que vamos a usar, para no tener tanta cosa.\n",
    "## y botar los nulos\n",
    "\n",
    "df1= df0.copy()\n",
    "\n",
    "#df1 = df1.loc[:,['Código IE','Grado', 'Grupo',\n",
    "#                 'Número de lista', 'Edad', 'Sexo','N registro']]\n",
    "diccionariogrados={'Noveno':\"09\", 'Octavo':\"08\", 'Sexto':\"06\", 'Décimo':\"10\", 'Séptimo':\"07\", 'Once':\"11\", 'Quinto':\"05\"}\n",
    "df1[\"Grado\"]=df1[\"Grado\"].replace(diccionariogrados)\n",
    "#id-> códigoinst+Grado+Grupo+númerodelista\n",
    "\n",
    "df1.loc[(df1.index.isin(range(9022,9123)))&(df1['Código IE']==105),'Código IE'] = 103"
   ]
  },
  {
   "cell_type": "code",
   "execution_count": 58,
   "id": "ce199b7d-aab0-4317-8ce4-de4e83fd6260",
   "metadata": {},
   "outputs": [
    {
     "data": {
      "text/plain": [
       "0    19/04\n",
       "1    19/04\n",
       "2    19/04\n",
       "3    19/04\n",
       "4    19/04\n",
       "Name: Fecha, dtype: object"
      ]
     },
     "execution_count": 58,
     "metadata": {},
     "output_type": "execute_result"
    }
   ],
   "source": [
    "df1['Timestamp'] = pd.to_datetime(df1['Timestamp'])\n",
    "df1 = df1[df1.Timestamp>'2022-04-14']\n",
    "df1['Fecha'] = df1.Timestamp.dt.strftime('%d/%m')\n",
    "df1['Fecha'][:5]"
   ]
  },
  {
   "cell_type": "code",
   "execution_count": 59,
   "id": "4a601d77-9235-4243-ab16-a6ba77a04415",
   "metadata": {},
   "outputs": [],
   "source": [
    "df1 = df1.drop(columns=df1.filter(regex=r'eliminar').columns)\n",
    "df1 = df1.drop(columns='Timestamp')"
   ]
  },
  {
   "cell_type": "code",
   "execution_count": 61,
   "id": "ddfccb06-5ee4-4f83-abd0-6e9a63d28319",
   "metadata": {},
   "outputs": [],
   "source": [
    "df1.loc[(df1.index.isin(range(1928,1987)))&(df1['Código IE']==6),'Código IE'] = None\n",
    "df1=df1.dropna(subset=[\"Código IE\"], inplace=False) "
   ]
  },
  {
   "cell_type": "code",
   "execution_count": 62,
   "id": "9f710b79-42a8-41ce-95f8-ae82a7b110e2",
   "metadata": {},
   "outputs": [
    {
     "data": {
      "text/plain": [
       "array(['B o 02', 'A o 01', 'D o 04', 'E o 05', '9-F', '9f', 'f', 'f o 06',\n",
       "       'F', 'f o 06 ', '9.f', '6g', '6G', '6 g', '6 G', 'G o 06', '6-G',\n",
       "       'Noveno E', '16', '11-16', '1116', '906', '0 o 6', 'f o 6', '06',\n",
       "       '6 seis', '6', 'C o 03', '6 C', '6 c', '07', '607', '7', '15',\n",
       "       '9-1', 'No 1', 'noveno 1', '9.1', '9-2', '902', '9_2', '2', 'b_2',\n",
       "       '6-3', '603', '604', '9', '905', '95', '6-8', '608', 'H O 608',\n",
       "       '08', '6-08', '6 o 08', '9-5', 'f o 08', '6 08', '0 8', '606',\n",
       "       '9-6', '96', '09', '6`-7', '6-7', '605', '9-4', 'sexto tres',\n",
       "       'Seis 3', 'sexto 3', 'sexto  tres', '6.3', 'sexto   tres', '6-1',\n",
       "       '809', '6a', 'o7', '0 7', 'g o 07', 'G o 07', 'G O 07', 'G o 7',\n",
       "       'g o7', '6 o 07', 'g o  07', 'G 07', 'G 0 07', 'G 07 ', '07+',\n",
       "       'g  07', 'G o  07', 'SEXTO G O7', '6-07', 'g', \"9'07\", \"9'07´\",\n",
       "       ' G-07', 'G - 07', 'g 06', '9 07', 'g° 07', 'co06', '6-2', '62',\n",
       "       '901', '9.4', '6-4', '602', '9-3', '3', '9.3', '903', '8-1', '11',\n",
       "       '6.4', '6 B', '6c', 'F o 06', 'I o 09', 'J o 10', 'k11', 'k o 11',\n",
       "       '6:11', '9 - 6', '702', '904', 'jornada tarde 03', 'H o 08',\n",
       "       'Jornada tarde 603', '6.5', '6-5 colegio san simon ', '6-5', '611',\n",
       "       '601', '601 o a', 'urbano', '12', '9-12', 'L o 12', '9_12', '14',\n",
       "       '6-6 ', '9-7', '6-6', 'no se que significa lo de grupo ', '9 A',\n",
       "       'no conozco', 'nose', 'no se', '.', 'no  se', 'M 29', '704',\n",
       "       '9-02', 'Do04', '6 o 05'], dtype=object)"
      ]
     },
     "execution_count": 62,
     "metadata": {},
     "output_type": "execute_result"
    }
   ],
   "source": [
    "df1=df1.dropna(subset=[\"Grupo\"], inplace=False) #para eliminar filas con valores nan\n",
    "df1['Grupo']=df1['Grupo'].astype(str) #volver todo una cadena\n",
    "df1['Grupo'].unique()"
   ]
  },
  {
   "cell_type": "code",
   "execution_count": 63,
   "id": "4de820b6-9a8a-4a5e-ba88-acecd58c9bc5",
   "metadata": {},
   "outputs": [
    {
     "data": {
      "text/plain": [
       "array(['Bo02', 'Ao01', 'Do04', 'Eo05', '9-f', '9f', 'F', 'Fo06', '9.f',\n",
       "       '6g', 'Go06', '6-g', 'e', '16', '11-16', '1116', '906', '0o6',\n",
       "       'Fo6', '06', '6', 'Co03', '6c', '07', '607', '7', '15', '9-1',\n",
       "       'No1', '1', '9.1', '9-2', '902', '9_2', '2', 'B_2', '6-3', '603',\n",
       "       '604', '9', '905', '95', '6-8', '608', 'Ho608', '08', '6-08',\n",
       "       '6o08', '9-5', 'Fo08', '606', '9-6', '96', '09', '6`-7', '6-7',\n",
       "       '605', '9-4', 'tres', 'Seis3', '3', '6.3', '6-1', '809', '6a',\n",
       "       'O7', 'Go07', 'Go7', '6o07', 'G07', 'G007', '07+', 'go7', '6-07',\n",
       "       'G', \"9'07\", \"9'07´\", 'G-07', 'G06', '907', 'G°07', 'Co06', '6-2',\n",
       "       '62', '901', '9.4', '6-4', '602', '9-3', '9.3', '903', '8-1', '11',\n",
       "       '6.4', '6b', 'Io09', 'Jo10', 'K11', 'Ko11', '6:11', '702', '904',\n",
       "       '03', 'Ho08', '6.5', '6-5', '611', '601', '601oa', 'Urbano', '12',\n",
       "       '9-12', 'Lo12', '9_12', '14', '6-6', '9-7',\n",
       "       'Nosequesignificalodegrupo', '9a', 'Noconozco', 'Nose', '.', 'M29',\n",
       "       '704', '9-02', '6o05'], dtype=object)"
      ]
     },
     "execution_count": 63,
     "metadata": {},
     "output_type": "execute_result"
    }
   ],
   "source": [
    "df1[\"Grupo\"]=df1[\"Grupo\"].str.replace(\" \",\"\")\n",
    "df1[\"Grupo\"]=df1[\"Grupo\"].str.capitalize().str.replace(\"Sexto\",\"\").str.replace(\"Noveno\",\"\").str.replace(\"seis\",\"\")\n",
    "df1['Grupo']=df1['Grupo'].str.replace(\"Jornadatarde\",\"\")\n",
    "df1['Grupo']=df1['Grupo'].str.replace(\"colegiosansimon\",\"\")\n",
    "df1['Grupo'].unique()"
   ]
  },
  {
   "cell_type": "code",
   "execution_count": 64,
   "id": "8fa3e993-138c-487e-9708-b4561d26a1ac",
   "metadata": {},
   "outputs": [
    {
     "data": {
      "text/plain": [
       "array(['02', '01', '04', '05', '9-f', '9f', 'F', '06', '9.f', '6g',\n",
       "       'Go06', '6-g', 'e', '16', '11-16', '1116', '906', '0o6', 'Fo6',\n",
       "       '6', '03', '6c', '07', '607', '7', '15', '9-1', 'No1', '1', '9.1',\n",
       "       '9-2', '902', '9_2', '2', 'B_2', '6-3', '603', '604', '9', '905',\n",
       "       '95', '6-8', '608', 'Ho608', '08', '6-08', '6o08', '9-5', 'Fo08',\n",
       "       '606', '9-6', '96', '09', '6`-7', '6-7', '605', '9-4', 'tres',\n",
       "       'Seis3', '3', '6.3', '6-1', '809', '6a', 'O7', 'Go7', '6o07',\n",
       "       'G07', 'G007', '07+', 'go7', '6-07', 'G', \"9'07\", \"9'07´\", 'G-07',\n",
       "       'G06', '907', 'G°07', 'Co06', '6-2', '62', '901', '9.4', '6-4',\n",
       "       '602', '9-3', '9.3', '903', '8-1', '11', '6.4', '6b', '10', 'K11',\n",
       "       '6:11', '702', '904', '6.5', '6-5', '611', '601', '601oa', '12',\n",
       "       '9-12', '9_12', '14', '6-6', '9-7', '9a', 'M29', '704', '9-02',\n",
       "       '6o05'], dtype=object)"
      ]
     },
     "execution_count": 64,
     "metadata": {},
     "output_type": "execute_result"
    }
   ],
   "source": [
    "#Respuesta de las encuestas\n",
    "diccionariogrupos1={'Bo02':\"02\", 'Ao01':\"01\",'Co03':\"03\", 'Do04':\"04\", 'Eo05':\"05\", 'Fo06':\"06\", 'Go07':\"07\", 'Ho08':\"08\", 'Io09':\"09\", 'Jo10':\"10\", 'Ko11':\"11\", 'Lo12':\"12\", \"Urbano\":None, \"Nosequesignificalodegrupo\":None, \"Noconozco\":None, \"Nose\":None, \".\":None} #valor exactamente igual\n",
    "df1[\"Grupo\"]=df1[\"Grupo\"].replace(diccionariogrupos1)\n",
    "df1=df1.dropna(subset=[\"Grupo\"], inplace=False)\n",
    "df1['Grupo'].unique()"
   ]
  },
  {
   "cell_type": "code",
   "execution_count": 65,
   "id": "9350fbc2-2695-45f9-b1fe-f826c4a01d40",
   "metadata": {},
   "outputs": [
    {
     "name": "stderr",
     "output_type": "stream",
     "text": [
      "C:\\Users\\cvieira\\AppData\\Local\\Temp\\ipykernel_17324\\2118063359.py:7: FutureWarning: The default value of regex will change from True to False in a future version. In addition, single character regular expressions will *not* be treated as literal strings when regex=True.\n",
      "  df1[\"Grupo\"]=df1[\"Grupo\"].str.replace(\"+\",\"\")\n"
     ]
    },
    {
     "data": {
      "text/plain": [
       "array(['02', '01', '04', '05', '9f', 'F', '06', '9.f', '6g', 'Go06', 'e',\n",
       "       '16', '1116', '906', '0o6', 'Fo6', '6', '03', '6c', '07', '607',\n",
       "       '7', '15', '91', 'No1', '1', '9.1', '92', '902', '2', 'B2', '63',\n",
       "       '603', '604', '9', '905', '95', '68', '608', 'Ho608', '08', '6o08',\n",
       "       'Fo08', '606', '96', '09', '67', '605', '94', 'tres', 'Seis3', '3',\n",
       "       '6.3', '61', '809', '6a', 'O7', 'Go7', '6o07', 'G07', 'G007',\n",
       "       'go7', 'G', '907', 'G06', 'G°07', 'Co06', '62', '901', '9.4', '64',\n",
       "       '602', '93', '9.3', '903', '81', '11', '6.4', '6b', '10', 'K11',\n",
       "       '611', '702', '904', '6.5', '65', '601', '601oa', '12', '912',\n",
       "       '14', '66', '97', '9a', 'M29', '704', '6o05'], dtype=object)"
      ]
     },
     "execution_count": 65,
     "metadata": {},
     "output_type": "execute_result"
    }
   ],
   "source": [
    "df1[\"Grupo\"]=df1[\"Grupo\"].str.replace(\"_\",\"\")\n",
    "df1[\"Grupo\"]=df1[\"Grupo\"].str.replace(\"`\",\"\")\n",
    "df1[\"Grupo\"]=df1[\"Grupo\"].str.replace(\"´\",\"\")\n",
    "df1[\"Grupo\"]=df1[\"Grupo\"].str.replace(\":\",\"\")\n",
    "df1[\"Grupo\"]=df1[\"Grupo\"].str.replace(\"-\",\"\")\n",
    "df1[\"Grupo\"]=df1[\"Grupo\"].str.replace(\"'\",\"\")\n",
    "df1[\"Grupo\"]=df1[\"Grupo\"].str.replace(\"+\",\"\")\n",
    "df1['Grupo'].unique()"
   ]
  },
  {
   "cell_type": "code",
   "execution_count": 66,
   "id": "09e0aef1-0fac-4c1f-bf94-36ad00514dd1",
   "metadata": {},
   "outputs": [
    {
     "data": {
      "text/plain": [
       "array(['02', '01', '04', '05', '906', '06', '9.06', '607', '07', 'e',\n",
       "       '16', '1116', '0o6', '6', '03', '6c', '7', '15', '91', '1', '9.1',\n",
       "       '92', '902', '2', 'B2', '63', '603', '604', '9', '905', '95', '68',\n",
       "       '608', '08', '6o08', '606', '96', '09', '67', '605', '94', 'tres',\n",
       "       'Seis3', '3', '6.3', '61', '809', '6a', 'O7', '6o07', '907',\n",
       "       'Co06', '62', '901', '9.4', '64', '602', '93', '9.3', '903', '81',\n",
       "       '11', '6.4', '6b', '10', '611', '702', '904', '6.5', '65', '601',\n",
       "       '601oa', '12', '912', '14', '66', '97', '9a', 'M29', '704', '6o05'],\n",
       "      dtype=object)"
      ]
     },
     "execution_count": 66,
     "metadata": {},
     "output_type": "execute_result"
    }
   ],
   "source": [
    "df1[\"Grupo\"]=df1[\"Grupo\"].replace(r'[Gg](.*)',\"07\",regex=True)\n",
    "df1[\"Grupo\"]=df1[\"Grupo\"].replace(r'[Ff](.*)',\"06\",regex=True) #regex buscador\n",
    "df1[\"Grupo\"]=df1[\"Grupo\"].replace(r'[Hh](.*)',\"08\",regex=True)\n",
    "df1[\"Grupo\"]=df1[\"Grupo\"].replace(r'[Kk](.*)',\"11\",regex=True)\n",
    "df1[\"Grupo\"]=df1[\"Grupo\"].str.replace(\"No\",\"\")\n",
    "df1['Grupo'].unique()"
   ]
  },
  {
   "cell_type": "code",
   "execution_count": 67,
   "id": "965c6bc2-c1e4-4e81-99ef-f7304de26af3",
   "metadata": {},
   "outputs": [
    {
     "data": {
      "text/plain": [
       "array(['02', '01', '04', '05', '906', '06', '9.06', '607', '07', 'e',\n",
       "       '16', '1116', '0o6', '6', '03', '6c', '7', '15', '91', '1', '9.1',\n",
       "       '92', '902', '2', 'B2', '63', '603', '604', '9', '905', '95', '68',\n",
       "       '608', '08', '6o08', '606', '96', '09', '67', '605', '94', '3',\n",
       "       '6.3', '61', '809', '6a', 'O7', '6o07', '907', 'Co06', '62', '901',\n",
       "       '9.4', '64', '602', '93', '9.3', '903', '81', '11', '6.4', '6b',\n",
       "       '10', '611', '702', '904', '6.5', '65', '601', '601oa', '12',\n",
       "       '912', '14', '66', '97', '9a', 'M29', '704', '6o05'], dtype=object)"
      ]
     },
     "execution_count": 67,
     "metadata": {},
     "output_type": "execute_result"
    }
   ],
   "source": [
    "#cambiando letras por números\n",
    "diccionariogrupos1={'Tres':\"03\",'tres':\"03\",'Seis3':\"03\",'6seis':\"06\"}\n",
    "df1[\"Grupo\"]=df1[\"Grupo\"].replace(diccionariogrupos1)\n",
    "df1=df1.dropna(subset=[\"Grupo\"], inplace=False)\n",
    "df1['Grupo'].unique()"
   ]
  },
  {
   "cell_type": "code",
   "execution_count": 68,
   "id": "6e42a842-1f71-4c00-8c41-b928009cd035",
   "metadata": {},
   "outputs": [
    {
     "data": {
      "text/plain": [
       "array(['02', '01', '04', '05', '906', '06', '9.06', '607', '07', '16',\n",
       "       '1116', '6', '03', '603', '7', '15', '91', '1', '9.1', '92', '902',\n",
       "       '2', '63', '604', '9', '905', '95', '68', '608', '08', '606', '96',\n",
       "       '09', '67', '605', '94', '3', '6.3', '61', '809', '601', 'O7',\n",
       "       '907', '62', '901', '9.4', '64', '602', '93', '9.3', '903', '81',\n",
       "       '11', '6.4', '10', '611', '702', '904', '6.5', '65', '60101', '12',\n",
       "       '912', '14', '66', '97', 'M29', '704'], dtype=object)"
      ]
     },
     "execution_count": 68,
     "metadata": {},
     "output_type": "execute_result"
    }
   ],
   "source": [
    "df1[\"Grupo\"]=df1[\"Grupo\"].replace(r'[Aa](.*)',\"01\",regex=True)\n",
    "df1[\"Grupo\"]=df1[\"Grupo\"].replace(r'[Bb](.*)',\"02\",regex=True) #regex buscador\n",
    "df1[\"Grupo\"]=df1[\"Grupo\"].replace(r'[Cc](.*)',\"03\",regex=True)\n",
    "df1[\"Grupo\"]=df1[\"Grupo\"].replace(r'[Ee](.*)',\"04\",regex=True)\n",
    "df1[\"Grupo\"]=df1[\"Grupo\"].str.replace(\"o\",\"\")\n",
    "df1[\"Grupo\"].unique()"
   ]
  },
  {
   "cell_type": "code",
   "execution_count": 69,
   "id": "becf2767-861e-4bb3-828d-9902b5cb8e20",
   "metadata": {},
   "outputs": [
    {
     "name": "stderr",
     "output_type": "stream",
     "text": [
      "C:\\Users\\cvieira\\AppData\\Local\\Temp\\ipykernel_17324\\2981865898.py:3: FutureWarning: The default value of regex will change from True to False in a future version. In addition, single character regular expressions will *not* be treated as literal strings when regex=True.\n",
      "  df1[\"Grupo\"]=df1[\"Grupo\"].str.replace(\".\",\"\")\n"
     ]
    },
    {
     "data": {
      "text/plain": [
       "array(['02', '01', '04', '05', '906', '06', '96', '607', '07', '16',\n",
       "       '1116', '6', '03', '603', '7', '15', '91', '1', '92', '902', '2',\n",
       "       '63', '604', '9', '905', '95', '68', '608', '08', '606', '09',\n",
       "       '67', '605', '94', '3', '61', '809', '601', '907', '62', '901',\n",
       "       '64', '602', '93', '903', '81', '11', '10', '611', '702', '904',\n",
       "       '65', '60101', '12', '912', '14', '66', '97', 'M29', '704'],\n",
       "      dtype=object)"
      ]
     },
     "execution_count": 69,
     "metadata": {},
     "output_type": "execute_result"
    }
   ],
   "source": [
    "df1[\"Grupo\"]=df1[\"Grupo\"].str.replace(\"O\",\"\")\n",
    "df1[\"Grupo\"]=df1[\"Grupo\"].str.replace(\".0\",\"\", regex=False)\n",
    "df1[\"Grupo\"]=df1[\"Grupo\"].str.replace(\".\",\"\")\n",
    "df1['Grupo'].unique()"
   ]
  },
  {
   "cell_type": "code",
   "execution_count": 70,
   "id": "d63ea694-1beb-4567-8d9f-49a7bdda58f7",
   "metadata": {},
   "outputs": [
    {
     "data": {
      "text/plain": [
       "array(['02', '01', '04', '05', '06', '07', '16', '03', '15', '09', '08',\n",
       "       '11', '10', '12', '14'], dtype=object)"
      ]
     },
     "execution_count": 70,
     "metadata": {},
     "output_type": "execute_result"
    }
   ],
   "source": [
    "df1['Grupo']=[x[-2:] if int(x[-2:])<20 else x[-1] for x in df1[\"Grupo\"]]\n",
    "df1['Grupo']=df1['Grupo'].str.zfill(2)\n",
    "df1['Grupo'].unique()"
   ]
  },
  {
   "cell_type": "code",
   "execution_count": 71,
   "id": "ff2637e8-4a6e-4b06-b85c-e9d7fed5471d",
   "metadata": {},
   "outputs": [
    {
     "data": {
      "text/plain": [
       "array(['03', '07', '30', '06', '10', '09', '02', '29', '19', '12', '22',\n",
       "       '04', '16', '15', '11', '24', '18', '23', '08', '21', '27', '13',\n",
       "       '17', '28', '01', '14', '05', '20', '31', '26', '34', '36', '32',\n",
       "       '33', '25', '37', '35', '40', '39', '38', '41', '44', '43', '42',\n",
       "       '45', '50', '49', '46', '47', '52', '48', '54', '57', '55'],\n",
       "      dtype=object)"
      ]
     },
     "execution_count": 71,
     "metadata": {},
     "output_type": "execute_result"
    }
   ],
   "source": [
    "df1= df1[df1['Número de lista'] < 60]\n",
    "df1['Número de lista']=df1['Número de lista'].astype(int)\n",
    "df1['Número de lista']=df1['Número de lista'].astype(str)\n",
    "df1['Número de lista']=df1['Número de lista'].str.zfill(2)\n",
    "df1['Número de lista'].unique()"
   ]
  },
  {
   "cell_type": "code",
   "execution_count": 36,
   "id": "a758e3d0-d8cb-4cab-8cff-4ee09affa421",
   "metadata": {},
   "outputs": [],
   "source": [
    "df1[\"Código IE\"]=df1[\"Código IE\"].astype(str)\n",
    "df1[\"Código IE\"]=df1[\"Código IE\"].str.replace(\".0\",\"\", regex=False)"
   ]
  },
  {
   "cell_type": "code",
   "execution_count": 72,
   "id": "37fc9e86-26f5-442e-973b-88d33a58ee3a",
   "metadata": {},
   "outputs": [],
   "source": [
    "diccionarioIE={'176109002977':\"64\", '176109000311':\"66\", '276109005806':\"69\", '176109002802':\"70\"}\n",
    "df1[\"Código IE\"]=df1[\"Código IE\"].replace(diccionarioIE)\n",
    "df1[\"Código IE\"]=df1[\"Código IE\"].astype(float)\n",
    "df1[\"Código IE\"]=df1[\"Código IE\"].astype(int)\n",
    "df1= df1[df1['Código IE'] > 0]\n",
    "df1= df1[df1['Código IE'] < 271]\n",
    "df1['Código IE']=df1['Código IE'].astype(int)\n",
    "df1['Código IE']=df1['Código IE'].astype(str)\n",
    "df1['Código IE']=df1['Código IE'].str.zfill(3)"
   ]
  },
  {
   "cell_type": "code",
   "execution_count": 73,
   "id": "0c16fd86-a433-4a2e-9b05-c4cd3b3d55f9",
   "metadata": {
    "tags": []
   },
   "outputs": [
    {
     "data": {
      "text/html": [
       "<div>\n",
       "<style scoped>\n",
       "    .dataframe tbody tr th:only-of-type {\n",
       "        vertical-align: middle;\n",
       "    }\n",
       "\n",
       "    .dataframe tbody tr th {\n",
       "        vertical-align: top;\n",
       "    }\n",
       "\n",
       "    .dataframe thead th {\n",
       "        text-align: right;\n",
       "    }\n",
       "</style>\n",
       "<table border=\"1\" class=\"dataframe\">\n",
       "  <thead>\n",
       "    <tr style=\"text-align: right;\">\n",
       "      <th></th>\n",
       "      <th>Número de lista</th>\n",
       "      <th>Edad</th>\n",
       "      <th>Sexo</th>\n",
       "      <th>Sector vivienda</th>\n",
       "      <th>Internet</th>\n",
       "      <th>Uso del dispositivo móvil</th>\n",
       "      <th>Nivel escolaridad madre</th>\n",
       "      <th>Nivel escolaridad padre</th>\n",
       "      <th>Ocupación madre</th>\n",
       "      <th>Ocupación padre</th>\n",
       "      <th>...</th>\n",
       "      <th>1.7 Enfermería</th>\n",
       "      <th>Tipo de discapacidad</th>\n",
       "      <th>¿Te reconoces como una persona con algún tipo de discapacidad?</th>\n",
       "      <th>1.8 Desarrollo de software</th>\n",
       "      <th>Conoce GreenTIC</th>\n",
       "      <th>Código IE</th>\n",
       "      <th>Grupo</th>\n",
       "      <th>N registro</th>\n",
       "      <th>Fecha</th>\n",
       "      <th>ID</th>\n",
       "    </tr>\n",
       "  </thead>\n",
       "  <tbody>\n",
       "    <tr>\n",
       "      <th>1</th>\n",
       "      <td>03</td>\n",
       "      <td>14.0</td>\n",
       "      <td>Masculino</td>\n",
       "      <td>Urbana</td>\n",
       "      <td>Sí</td>\n",
       "      <td>Uso propio (solo lo usas tú)</td>\n",
       "      <td>Técnico o tecnólogo</td>\n",
       "      <td>Titulo universitario</td>\n",
       "      <td>Trabaja</td>\n",
       "      <td>Trabaja</td>\n",
       "      <td>...</td>\n",
       "      <td>La evitaría</td>\n",
       "      <td>NaN</td>\n",
       "      <td>No</td>\n",
       "      <td>Me interesa poco</td>\n",
       "      <td>No</td>\n",
       "      <td>166</td>\n",
       "      <td>02</td>\n",
       "      <td>1</td>\n",
       "      <td>19/04</td>\n",
       "      <td>166090203</td>\n",
       "    </tr>\n",
       "    <tr>\n",
       "      <th>2</th>\n",
       "      <td>07</td>\n",
       "      <td>16.0</td>\n",
       "      <td>Masculino</td>\n",
       "      <td>Urbana</td>\n",
       "      <td>Sí</td>\n",
       "      <td>Uso propio (solo lo usas tú)</td>\n",
       "      <td>Titulo universitario</td>\n",
       "      <td>Técnico o tecnólogo</td>\n",
       "      <td>Trabaja</td>\n",
       "      <td>Trabaja</td>\n",
       "      <td>...</td>\n",
       "      <td>Me interesa poco</td>\n",
       "      <td>NaN</td>\n",
       "      <td>No</td>\n",
       "      <td>Está entre mis preferidas</td>\n",
       "      <td>No</td>\n",
       "      <td>166</td>\n",
       "      <td>02</td>\n",
       "      <td>2</td>\n",
       "      <td>19/04</td>\n",
       "      <td>166090207</td>\n",
       "    </tr>\n",
       "    <tr>\n",
       "      <th>3</th>\n",
       "      <td>30</td>\n",
       "      <td>14.0</td>\n",
       "      <td>Femenino</td>\n",
       "      <td>Urbana</td>\n",
       "      <td>Sí</td>\n",
       "      <td>Uso compartido con otras personas</td>\n",
       "      <td>Secundaría</td>\n",
       "      <td>Secundaría</td>\n",
       "      <td>Trabaja</td>\n",
       "      <td>Trabaja</td>\n",
       "      <td>...</td>\n",
       "      <td>Me interesa poco</td>\n",
       "      <td>NaN</td>\n",
       "      <td>No</td>\n",
       "      <td>Me interesa poco</td>\n",
       "      <td>No</td>\n",
       "      <td>166</td>\n",
       "      <td>02</td>\n",
       "      <td>3</td>\n",
       "      <td>19/04</td>\n",
       "      <td>166090230</td>\n",
       "    </tr>\n",
       "    <tr>\n",
       "      <th>4</th>\n",
       "      <td>06</td>\n",
       "      <td>15.0</td>\n",
       "      <td>Masculino</td>\n",
       "      <td>Urbana</td>\n",
       "      <td>No</td>\n",
       "      <td>No tengo acceso a ningún dispositivo electrónico</td>\n",
       "      <td>No sé</td>\n",
       "      <td>No sé</td>\n",
       "      <td>Trabaja</td>\n",
       "      <td>Trabaja</td>\n",
       "      <td>...</td>\n",
       "      <td>La evitaría</td>\n",
       "      <td>NaN</td>\n",
       "      <td>No</td>\n",
       "      <td>Está entre mis preferidas</td>\n",
       "      <td>No</td>\n",
       "      <td>166</td>\n",
       "      <td>02</td>\n",
       "      <td>4</td>\n",
       "      <td>19/04</td>\n",
       "      <td>166090206</td>\n",
       "    </tr>\n",
       "    <tr>\n",
       "      <th>5</th>\n",
       "      <td>10</td>\n",
       "      <td>14.0</td>\n",
       "      <td>Femenino</td>\n",
       "      <td>Urbana</td>\n",
       "      <td>Sí</td>\n",
       "      <td>Uso compartido con otras personas</td>\n",
       "      <td>Titulo universitario</td>\n",
       "      <td>Secundaría</td>\n",
       "      <td>Trabaja</td>\n",
       "      <td>Trabaja</td>\n",
       "      <td>...</td>\n",
       "      <td>Está entre mis preferidas</td>\n",
       "      <td>NaN</td>\n",
       "      <td>No</td>\n",
       "      <td>La evitaría</td>\n",
       "      <td>No</td>\n",
       "      <td>166</td>\n",
       "      <td>02</td>\n",
       "      <td>5</td>\n",
       "      <td>19/04</td>\n",
       "      <td>166090210</td>\n",
       "    </tr>\n",
       "  </tbody>\n",
       "</table>\n",
       "<p>5 rows × 72 columns</p>\n",
       "</div>"
      ],
      "text/plain": [
       "  Número de lista  Edad       Sexo Sector vivienda Internet  \\\n",
       "1              03  14.0  Masculino          Urbana       Sí   \n",
       "2              07  16.0  Masculino          Urbana       Sí   \n",
       "3              30  14.0   Femenino          Urbana       Sí   \n",
       "4              06  15.0  Masculino          Urbana       No   \n",
       "5              10  14.0   Femenino          Urbana       Sí   \n",
       "\n",
       "                          Uso del dispositivo móvil Nivel escolaridad madre  \\\n",
       "1                      Uso propio (solo lo usas tú)     Técnico o tecnólogo   \n",
       "2                      Uso propio (solo lo usas tú)    Titulo universitario   \n",
       "3                 Uso compartido con otras personas              Secundaría   \n",
       "4  No tengo acceso a ningún dispositivo electrónico                   No sé   \n",
       "5                 Uso compartido con otras personas    Titulo universitario   \n",
       "\n",
       "  Nivel escolaridad padre Ocupación madre Ocupación padre  ...  \\\n",
       "1    Titulo universitario         Trabaja         Trabaja  ...   \n",
       "2     Técnico o tecnólogo         Trabaja         Trabaja  ...   \n",
       "3              Secundaría         Trabaja         Trabaja  ...   \n",
       "4                   No sé         Trabaja         Trabaja  ...   \n",
       "5              Secundaría         Trabaja         Trabaja  ...   \n",
       "\n",
       "              1.7 Enfermería Tipo de discapacidad  \\\n",
       "1                La evitaría                  NaN   \n",
       "2           Me interesa poco                  NaN   \n",
       "3           Me interesa poco                  NaN   \n",
       "4                La evitaría                  NaN   \n",
       "5  Está entre mis preferidas                  NaN   \n",
       "\n",
       "  ¿Te reconoces como una persona con algún tipo de discapacidad?  \\\n",
       "1                                                 No               \n",
       "2                                                 No               \n",
       "3                                                 No               \n",
       "4                                                 No               \n",
       "5                                                 No               \n",
       "\n",
       "  1.8 Desarrollo de software Conoce GreenTIC Código IE Grupo N registro  \\\n",
       "1           Me interesa poco              No       166    02          1   \n",
       "2  Está entre mis preferidas              No       166    02          2   \n",
       "3           Me interesa poco              No       166    02          3   \n",
       "4  Está entre mis preferidas              No       166    02          4   \n",
       "5                La evitaría              No       166    02          5   \n",
       "\n",
       "   Fecha         ID  \n",
       "1  19/04  166090203  \n",
       "2  19/04  166090207  \n",
       "3  19/04  166090230  \n",
       "4  19/04  166090206  \n",
       "5  19/04  166090210  \n",
       "\n",
       "[5 rows x 72 columns]"
      ]
     },
     "execution_count": 73,
     "metadata": {},
     "output_type": "execute_result"
    }
   ],
   "source": [
    "df1['ID']=df1['Código IE']+df1['Grado']+df1['Grupo']+df1['Número de lista']\n",
    "df1.head()"
   ]
  },
  {
   "cell_type": "code",
   "execution_count": 74,
   "id": "41a9e392-281d-44e3-bbe2-f948b67750ad",
   "metadata": {},
   "outputs": [
    {
     "data": {
      "text/plain": [
       "Index(['Número de lista', 'Edad', 'Sexo', 'Sector vivienda', 'Internet',\n",
       "       'Uso del dispositivo móvil', 'Nivel escolaridad madre',\n",
       "       'Nivel escolaridad padre', 'Ocupación madre', 'Ocupación padre',\n",
       "       '¿Con quién vives?', 'Grado', '1.1. Ingeniería',\n",
       "       '2.1 Soy capaz de sacar buenas notas en esta asignatura',\n",
       "       '2.2 Si me va bien en esta asignatura, me ayudará en mi futura ocupación',\n",
       "       '2.3 A mis padres les gustaría que eligiera un futuro profesional relacionado a esta asignatura',\n",
       "       '2.4 Sé de alguien en mi familia que utiliza conocimientos relacionados a esta asignatura en su ocupación',\n",
       "       'Comentarios 1-2', 'Un algoritmo es:',\n",
       "       '¿Para qué sirven los algoritmos?', 'Un bucle es:',\n",
       "       '3.1 Siento que soy capaz de explicar lo que es el pensamiento computacional',\n",
       "       '3.2 Siento que puedo enumerar las sub-habilidades que componen el pensamiento computacional',\n",
       "       '3.3 Siento que soy capaz de dar ejemplos para explicar las sub-habilidades del pensamiento computacional',\n",
       "       '3.4 Siento que puedo explicar la forma en que las sub-habilidades del pensamiento computacional se correlacionan con la programación',\n",
       "       '3.5 Siento que puedo analizar un ejercicio y determinar qué sub-habilidades de pensamiento computacional busca desarrollar',\n",
       "       '3.6 Siento que puedo resolver problemas a través de programación',\n",
       "       '3.7 Siento que puedo implementar algoritmos',\n",
       "       '3.8 Siento que puedo crear un programa de computador',\n",
       "       '3.9 Siento que puedo automatizar tareas a través de la programación',\n",
       "       '3.10 Siento que puedo utilizar la computación para resolver problemas simples',\n",
       "       'Comentarios P3',\n",
       "       '¿Cuál de las siguientes opciones sí le permite al robot completar la misión de fotografiar cada tortuga?',\n",
       "       '¿Qué mensaje deseaba enviar la líder Wayuú?',\n",
       "       '¿Cuál de los siguientes códigos permite que el robot complete su misión sembrando café?',\n",
       "       '¿Cuál será la foto con más vistas?',\n",
       "       'Ayuda al robot verde a salir del laberinto',\n",
       "       'Óscar lleva 2 loncheras a la escuela todos los días ¿Cuál de las siguientes afirmaciones es falsa?',\n",
       "       '¿Cuál de las siguientes hamburguesas tiene los ingredientes A, E y F?',\n",
       "       '¿Qué botella debe cambiarse de color para que el resultado final sea una botella de color blanco?',\n",
       "       'Comentarios conocimiento',\n",
       "       '5.1 ¿Quién crees que ganará el concurso de matemáticas?',\n",
       "       '5.2 ¿Quién crees que es capitán del barco?',\n",
       "       '5.3 ¿Quién es la persona excluida de la construcción de la casa de madera?',\n",
       "       '5.4 ¿Quién crees que es el personaje que está sentado y esperando junto a la ventana?',\n",
       "       '5.5 ¿Quién es la persona que trabaja en educación?',\n",
       "       '5.6 ¿Quién crees que es la persona que prefiere estudiar ingeniería?',\n",
       "       'Comentarios género',\n",
       "       '4.1 Es alarmante que el ritmo de desaparición de especies en la Amazonia Colombiana sea cada vez mayor.',\n",
       "       '4.2 El aumento de la temperatura atmosférica se debe al uso creciente y continuado de combustibles fósiles (carbón, petróleo…).',\n",
       "       '4.3 La acumulación de basura procedente de las ciudades es un problema realmente grave.',\n",
       "       '4.4 Hay una disminución de la superficie forestal y de áreas naturales en el país.',\n",
       "       '4.5 El planeta está tan contaminado por productos químicos que ya supone un problema para la salud.',\n",
       "       '4.6 Conozco los riesgos que representa para la vida humana la desaparición de especies animales y vegetales.',\n",
       "       '4.7 Me preocupa lo que sucede con la tala de árboles.',\n",
       "       'Comentarios medioambiente', 'Deseo participar en el estudio',\n",
       "       '1.2 Matemáticas', '1.3 Educación', '1.4 Medicina',\n",
       "       '1.5 Diseño gráfico', '1.6 Química', '1.7 Enfermería',\n",
       "       'Tipo de discapacidad',\n",
       "       '¿Te reconoces como una persona con algún tipo de discapacidad?',\n",
       "       '1.8 Desarrollo de software', 'Conoce GreenTIC', 'Código IE', 'Grupo',\n",
       "       'N registro', 'Fecha', 'ID'],\n",
       "      dtype='object')"
      ]
     },
     "execution_count": 74,
     "metadata": {},
     "output_type": "execute_result"
    }
   ],
   "source": [
    "df1.columns"
   ]
  },
  {
   "cell_type": "code",
   "execution_count": 77,
   "id": "b048f5a6-dcb8-4238-8b86-2233020ed513",
   "metadata": {},
   "outputs": [],
   "source": [
    "registroseliminados=set(df0['N registro']).difference(set(df1['N registro']))\n",
    "dfe=df0[df0['N registro'].isin(registroseliminados)]\n",
    "new_index=['N registro','Deseo participar en el estudio','Fecha','Código IE', 'Grupo','Grado',\n",
    "        'ID','Número de lista', 'Edad', 'Sexo', 'Sector vivienda', 'Internet',\n",
    "       'Uso del dispositivo móvil', 'Nivel escolaridad madre',\n",
    "       'Nivel escolaridad padre', 'Ocupación madre', 'Ocupación padre',\n",
    "       '¿Con quién vives?',  '1.1. Ingeniería',\n",
    "       '2.1 Soy capaz de sacar buenas notas en esta asignatura',\n",
    "       '2.2 Si me va bien en esta asignatura, me ayudará en mi futura ocupación',\n",
    "       '2.3 A mis padres les gustaría que eligiera un futuro profesional relacionado a esta asignatura',\n",
    "       '2.4 Sé de alguien en mi familia que utiliza conocimientos relacionados a esta asignatura en su ocupación',\n",
    "       'Comentarios 1-2', 'Un algoritmo es:',\n",
    "       '¿Para qué sirven los algoritmos?', 'Un bucle es:',\n",
    "       '3.1 Siento que soy capaz de explicar lo que es el pensamiento computacional',\n",
    "       '3.2 Siento que puedo enumerar las sub-habilidades que componen el pensamiento computacional',\n",
    "       '3.3 Siento que soy capaz de dar ejemplos para explicar las sub-habilidades del pensamiento computacional',\n",
    "       '3.4 Siento que puedo explicar la forma en que las sub-habilidades del pensamiento computacional se correlacionan con la programación',\n",
    "       '3.5 Siento que puedo analizar un ejercicio y determinar qué sub-habilidades de pensamiento computacional busca desarrollar',\n",
    "       '3.6 Siento que puedo resolver problemas a través de programación',\n",
    "       '3.7 Siento que puedo implementar algoritmos',\n",
    "       '3.8 Siento que puedo crear un programa de computador',\n",
    "       '3.9 Siento que puedo automatizar tareas a través de la programación',\n",
    "       '3.10 Siento que puedo utilizar la computación para resolver problemas simples',\n",
    "       'Comentarios P3',\n",
    "       '¿Cuál de las siguientes opciones sí le permite al robot completar la misión de fotografiar cada tortuga?',\n",
    "       '¿Qué mensaje deseaba enviar la líder Wayuú?',\n",
    "       '¿Cuál de los siguientes códigos permite que el robot complete su misión sembrando café?',\n",
    "       '¿Cuál será la foto con más vistas?',\n",
    "       'Ayuda al robot verde a salir del laberinto',\n",
    "       'Óscar lleva 2 loncheras a la escuela todos los días ¿Cuál de las siguientes afirmaciones es falsa?',\n",
    "       '¿Cuál de las siguientes hamburguesas tiene los ingredientes A, E y F?',\n",
    "       '¿Qué botella debe cambiarse de color para que el resultado final sea una botella de color blanco?',\n",
    "       'Comentarios conocimiento',\n",
    "       '5.1 ¿Quién crees que ganará el concurso de matemáticas?',\n",
    "       '5.2 ¿Quién crees que es capitán del barco?',\n",
    "       '5.3 ¿Quién es la persona excluida de la construcción de la casa de madera?',\n",
    "       '5.4 ¿Quién crees que es el personaje que está sentado y esperando junto a la ventana?',\n",
    "       '5.5 ¿Quién es la persona que trabaja en educación?',\n",
    "       '5.6 ¿Quién crees que es la persona que prefiere estudiar ingeniería?',\n",
    "       'Comentarios género',\n",
    "       '4.1 Es alarmante que el ritmo de desaparición de especies en la Amazonia Colombiana sea cada vez mayor.',\n",
    "       '4.2 El aumento de la temperatura atmosférica se debe al uso creciente y continuado de combustibles fósiles (carbón, petróleo…).',\n",
    "       '4.3 La acumulación de basura procedente de las ciudades es un problema realmente grave.',\n",
    "       '4.4 Hay una disminución de la superficie forestal y de áreas naturales en el país.',\n",
    "       '4.5 El planeta está tan contaminado por productos químicos que ya supone un problema para la salud.',\n",
    "       '4.6 Conozco los riesgos que representa para la vida humana la desaparición de especies animales y vegetales.',\n",
    "       '4.7 Me preocupa lo que sucede con la tala de árboles.',\n",
    "       'Comentarios medioambiente', \n",
    "       '1.2 Matemáticas', '1.3 Educación', '1.4 Medicina',\n",
    "       '1.5 Diseño gráfico', '1.6 Química', '1.7 Enfermería',\n",
    "       'Tipo de discapacidad',\n",
    "       '¿Te reconoces como una persona con algún tipo de discapacidad?',\n",
    "       '1.8 Desarrollo de software', 'Conoce GreenTIC']\n",
    "\n",
    "dfe=dfe.reindex(new_index, axis='columns')\n",
    "dfe.to_excel(\"Registros Eliminados Estudiantes 20052022.xlsx\", index=False)"
   ]
  },
  {
   "cell_type": "code",
   "execution_count": 79,
   "id": "8f3a8cad-56c0-4f14-bac3-e4c225f55fcf",
   "metadata": {},
   "outputs": [
    {
     "data": {
      "text/plain": [
       "(411, 72)"
      ]
     },
     "execution_count": 79,
     "metadata": {},
     "output_type": "execute_result"
    }
   ],
   "source": [
    "dfe.shape"
   ]
  },
  {
   "cell_type": "code",
   "execution_count": 78,
   "id": "4605a713-fb02-4d86-a8bd-1fa7e344cc45",
   "metadata": {},
   "outputs": [
    {
     "data": {
      "text/plain": [
       "(16214, 72)"
      ]
     },
     "execution_count": 78,
     "metadata": {},
     "output_type": "execute_result"
    }
   ],
   "source": [
    "df1.shape"
   ]
  },
  {
   "cell_type": "code",
   "execution_count": 80,
   "id": "22cd2848-4d8b-4256-acd0-3254fe7db8c9",
   "metadata": {},
   "outputs": [],
   "source": [
    "df1.to_excel('Estudiantes 20052022.xlsx',index=False)"
   ]
  },
  {
   "cell_type": "code",
   "execution_count": 84,
   "id": "9a3f2529-dce9-4906-8577-f5dfae37342e",
   "metadata": {
    "tags": []
   },
   "outputs": [],
   "source": [
    "df2= df1.loc[:,[ 'Código IE','ID']]\n",
    "df2['Instrumento']=\"Encuesta estudiantes\"\n",
    "#en columna de instrumento, colocar encuesta estudiantes\n",
    "    \n",
    "#df2=df2.rename(columns={'Código de la institución educativa':'Código IE'})"
   ]
  },
  {
   "cell_type": "code",
   "execution_count": 85,
   "id": "9f76ae48-0111-4a2a-bd95-f7b0359b82fb",
   "metadata": {},
   "outputs": [],
   "source": [
    "df30=pd.read_excel(p_data/\"raw/Doc_Con_Pre_200522.xlsx\") #1461 datos\n",
    "df30['N registro']=df30.index\n",
    "df3=df30.copy()\n",
    "df3['Instrumento']=\"Encuesta docentes\"\n",
    "#df3=df3.rename(columns={'Código de la institución educativa suministrado por el proyecto ':'Código IE' , 'Número de documento':'ID'})"
   ]
  },
  {
   "cell_type": "code",
   "execution_count": 87,
   "id": "baefd827-0ce9-4a4a-b0f3-3ff9a50d655f",
   "metadata": {},
   "outputs": [
    {
     "data": {
      "text/plain": [
       "3    18/04\n",
       "4    18/04\n",
       "5    18/04\n",
       "6    18/04\n",
       "7    18/04\n",
       "Name: Fecha, dtype: object"
      ]
     },
     "execution_count": 87,
     "metadata": {},
     "output_type": "execute_result"
    }
   ],
   "source": [
    "df3['Timestamp'] = pd.to_datetime(df3['Timestamp'])\n",
    "df3 = df3[df3.Timestamp>'2022-04-14']\n",
    "df3['Fecha'] = df3.Timestamp.dt.strftime('%d/%m')\n",
    "df3['Fecha'][:5]"
   ]
  },
  {
   "cell_type": "code",
   "execution_count": 96,
   "id": "b7d225ba-d255-4262-acab-9c2f13cd8585",
   "metadata": {},
   "outputs": [],
   "source": [
    "df3 = df3.drop(columns='Timestamp')"
   ]
  },
  {
   "cell_type": "code",
   "execution_count": 88,
   "id": "3a08e0ff-05cd-49c0-9732-895be9b2c68a",
   "metadata": {},
   "outputs": [],
   "source": [
    "df3['Implementa fichas'] = df3['Implementa fichas'].fillna(\"No\")\n",
    "df3[df3.filter(regex='^1.*').columns] = df3[df3.filter(regex='^1.*').columns].fillna(\"Totalmente en Desacuerdo\")\n",
    "df3[df3.filter(regex='^2.*').columns] = df3[df3.filter(regex='^2.*').columns].fillna(\"Totalmente en Desacuerdo\")\n",
    "df3[df3.filter(regex='^Comentarios*').columns] = df3[df3.filter(regex='^Comentarios*').columns].fillna(\"\")"
   ]
  },
  {
   "cell_type": "code",
   "execution_count": 90,
   "id": "a548fbc7-910d-467b-b004-05c5bd6a5ede",
   "metadata": {},
   "outputs": [],
   "source": [
    "df3.loc[(df3.index.isin(range(170,1799)))&(df3['Código IE']==247),'Código IE'] = None\n",
    "#173-1798, escuela código 247 fue reemplazada"
   ]
  },
  {
   "cell_type": "code",
   "execution_count": 91,
   "id": "880162e2-a27d-4267-a4cc-22a11caf0aa1",
   "metadata": {},
   "outputs": [
    {
     "name": "stderr",
     "output_type": "stream",
     "text": [
      "C:\\Users\\cvieira\\AppData\\Local\\Temp\\ipykernel_17324\\3361601242.py:6: FutureWarning: The default value of regex will change from True to False in a future version. In addition, single character regular expressions will *not* be treated as literal strings when regex=True.\n",
      "  df3[\"Código IE\"]=df3[\"Código IE\"].str.replace(\".\",\"\")\n"
     ]
    },
    {
     "data": {
      "text/plain": [
       "array(['150', '206', '231', '176', '129', '166', '55', '151',\n",
       "       '176109000311', '211', '000', '92', '166001006008', '21', '107',\n",
       "       '76', '198', '199', '7', '183', '07', '67', '66', '152', '186',\n",
       "       '5', '128', '218', '8', '205', '179', '185', '213', '88', '203',\n",
       "       '2', '159', '212', '123', '72', '46', '98', '0000', '1', '52',\n",
       "       '54', '57', '110', '64', '189', '62', '130', '32', '47', '252',\n",
       "       '226', '93', '227', '235', '35', '20', '167', '121', '10', '27',\n",
       "       '142', '43', '39', '178', '6', '63', '26', '96', '30', '99', '103',\n",
       "       '00', '74', '153', '165', '53', '210', '71', '119', '13', '238',\n",
       "       '229', '230', '59', '109', '215', '90', '148', '237', '240', '187',\n",
       "       '69', '145', '208', '70', '184', '168', '163', '105', '97', '114',\n",
       "       '89', '180', '34', '132', '29', '214', '01', '162', '51', '48',\n",
       "       '3', '177', '201', '244', '241', '49', '242', '255', '22', '100',\n",
       "       '232', '56', '224', '94', '133', '217', '122', '0207', '116',\n",
       "       '228', '36', '288', '14', '73', '68', '181', '61', '75', '169',\n",
       "       '11', '23', '4', '15', '250', '127', '03', '95', '243', '45',\n",
       "       '112', '195', '117', '131', '79', '77', '149', '155', '115', '111',\n",
       "       '12', '233', '41', '91', '154', '204', '50', '223', '197', '216',\n",
       "       '057', '188', '174', '19', '161', '251', '9', '120', '113', '221',\n",
       "       '0', '191', '83', '65', '42', '28', '146', '31', '171', '200',\n",
       "       '141', '220', '118', '246', '225', '24', '193', '125', '44', '38',\n",
       "       '16', '190', '160', '236', '136', '126', '58', '80', '101', '05',\n",
       "       '108', '222', '82', '172', '156', '157', '182', '173', '170',\n",
       "       '209', '245', '104', '219', '138', '164', '196', '37', '247',\n",
       "       '140', '175', '257', '25', '106', '239', '207', '40', '158', '249',\n",
       "       '17', '259', '102', '124', '194', '135', '60', '18', '137', '85'],\n",
       "      dtype=object)"
      ]
     },
     "execution_count": 91,
     "metadata": {},
     "output_type": "execute_result"
    }
   ],
   "source": [
    "df3=df3.dropna(subset=[\"Código IE\"], inplace=False) #se borran 37 datos, quedan 1424\n",
    "diccionariodocentes={'Nueva Esperanza La Palma ':150}\n",
    "df3[\"Código IE\"]=df3[\"Código IE\"].replace(diccionariodocentes)\n",
    "df3[\"Código IE\"]=df3[\"Código IE\"].astype(str)\n",
    "df3[\"Código IE\"]=df3[\"Código IE\"].str.replace(\".0\",\"\", regex=False)\n",
    "df3[\"Código IE\"]=df3[\"Código IE\"].str.replace(\".\",\"\")\n",
    "df3[\"Código IE\"].unique()"
   ]
  },
  {
   "cell_type": "code",
   "execution_count": 93,
   "id": "2c118968-2607-4294-a21c-593d58c229ba",
   "metadata": {},
   "outputs": [],
   "source": [
    "df3['Código IE']=df3['Código IE'].astype(float)\n",
    "df3['Código IE']=df3['Código IE'].astype(int)\n",
    "df3= df3[df3['Código IE'] > 0]\n",
    "df3=df3[df3['Código IE']<253]\n",
    "df3['Código IE']=df3['Código IE'].astype(str)\n",
    "df3['Código IE']=df3['Código IE'].str.zfill(3)"
   ]
  },
  {
   "cell_type": "code",
   "execution_count": 94,
   "id": "30f1806f-5522-42c1-940f-484442b95108",
   "metadata": {},
   "outputs": [],
   "source": [
    "df3['ID']=df3['ID'].astype(int) #empezamos con 1416\n",
    "df3= df3[df3['ID'] >= 1000000] #perdemos 12 datos\n",
    "df3= df3[df3['ID'] < 3000000000] #no hay datos con más de 10 cifras, quedan 1404 datos\n",
    "df3=df3.dropna(subset=[\"Código IE\"], inplace=False)"
   ]
  },
  {
   "cell_type": "code",
   "execution_count": 97,
   "id": "18fa3dcf-8886-4229-89ec-88d80fc83b08",
   "metadata": {},
   "outputs": [
    {
     "data": {
      "text/plain": [
       "Index(['Política de datos', 'Código IE', 'Tipo ID', 'ID', 'Email', 'Edad',\n",
       "       'Sexo', 'Cabeza de hogar', 'Estado civil', 'Líder comunitario',\n",
       "       'Formado CFK', 'Implementa fichas', 'Formado tecnología e informática',\n",
       "       '¿Cuáles de las siguientes áreas enseña y en qué grado? [Ciencias naturales y educación ambiental.]',\n",
       "       '¿Cuáles de las siguientes áreas enseña y en qué grado? [Ciencias sociales, historia, geografía, constitución política y democracia.]',\n",
       "       '¿Cuáles de las siguientes áreas enseña y en qué grado? [Educación artística.]',\n",
       "       '¿Cuáles de las siguientes áreas enseña y en qué grado? [Educación ética y en valores humanos.]',\n",
       "       '¿Cuáles de las siguientes áreas enseña y en qué grado? [Educación física, recreación y deportes.]',\n",
       "       '¿Cuáles de las siguientes áreas enseña y en qué grado? [Educación religiosa.]',\n",
       "       '¿Cuáles de las siguientes áreas enseña y en qué grado? [Humanidades, lengua castellana e idiomas extranjeros.]',\n",
       "       '¿Cuáles de las siguientes áreas enseña y en qué grado? [Matemáticas.]',\n",
       "       '¿Cuáles de las siguientes áreas enseña y en qué grado? [Tecnología e informática.]',\n",
       "       '¿Cuáles de las siguientes áreas enseña y en qué grado? [Otro]',\n",
       "       'Enseña STEM', 'Formado STEM',\n",
       "       'Considera importante enseñar el pensamiento computacional desde los primeros niveles educativos',\n",
       "       '1.1 Siento que puedo aplicar las prácticas y habilidades del pensamiento computacional a mi trabajo',\n",
       "       '1.2 Siento que puedo definir el pensamiento computacional',\n",
       "       '1.3 Siento que puedo describir las prácticas y habilidades que componen el pensamiento computacional a mis estudiantes',\n",
       "       '1.4 Siento que puedo aplicar las prácticas y habilidades del pensamiento computacional a mi vida diaria',\n",
       "       '2.1 Creo que tengo las habilidades para desarrollar el pensamiento computacional en mis estudiantes',\n",
       "       '2.2 Siento que puedo enseñar fácilmente sobre nuevas prácticas computacionales',\n",
       "       '2.3 Siento que puedo diseñar una clase que desarrolle el pensamiento computacional en los estudiantes',\n",
       "       '2.4 Siento que puedo aplicar mis habilidades en pensamiento computacional para ayudar a los estudiantes a perseguir sus intereses individuales',\n",
       "       '2.5 Siento que puedo evaluar la idoneidad de una estrategia pedagógica para desarrollar pensamiento computacional',\n",
       "       '3.1 El colegio ofrece espacios adicionales para fomentar el pensamiento computacional',\n",
       "       '3.2 En la programación anual del colegio existen actividades asociadas al pensamiento computacional',\n",
       "       '3.3 Cuando he intentado enseñar pensamiento computacional me he encontrado con obstáculos para gestionar espacios y materiales en el colegio.',\n",
       "       '3.4 Recibo apoyo del colegio cuando propongo nuevas ideas y temáticas afines al pensamiento computacional',\n",
       "       '3.5 Siento que por más que lo he intentado mis esfuerzos por incluir pensamiento computacional en las clases no han sido efectivos por la rigidez del plan de estudio',\n",
       "       '3.6 Los directivos incentivan la implementación de nuevas prácticas pedagógicas sobre pensamiento computacional en el aula',\n",
       "       '3.7 Puedo incluir espacios en mis clases para implementar actividades sobre el pensamiento computacional',\n",
       "       '3.8 Me siento frustrado porque la programación de las clases y compromisos institucionales no me permite incluir actividades de pensamiento computacional',\n",
       "       '3.9 Tener educación en pensamiento computacional mejoraría significativamente las futuras opciones de ocupación para los estudiantes de mi escuela.',\n",
       "       '4.1 Creo que sé cómo resolver los problemas técnicos cuando fallan las TIC',\n",
       "       '4.2 Siento que puedo aprender sobre nuevas tecnologías fácilmente',\n",
       "       '4.3 Creo que sé cómo usar las TIC con los estudiantes en clase',\n",
       "       '5.1 Me apoyo en mis colegas para resolver problemas sobre cómo trabajar algún tema',\n",
       "       '5.2 Puedo hablar con otros docentes sobre el diseño de cursos',\n",
       "       '5.3 Siento que tengo apoyo de otros docentes para el diseño de mis cursos',\n",
       "       '5.4 Siento que no tengo con quién conversar sobre el diseño de mis cursos',\n",
       "       '6.1 Actividades desconectadas', '6.2 Usa-Modifica-Crea',\n",
       "       '6.3 Clase magistral', '6.4 Programación en pares',\n",
       "       '6.5 Lectura del código', '6.6 Le explicaría la respuesta correcta',\n",
       "       '6.7 Le sugeriría ir paso a paso por el programa simulando su ejecución',\n",
       "       '6.8 Le diría que revise sus notas',\n",
       "       '6.9 Le sugeriría que revise las memorias colectivas',\n",
       "       '7.1 Le sugeriría volver a leer el problema',\n",
       "       '7.2 Le sugeriría intentar con varios valores para evaluar el programa',\n",
       "       '7.3 Le explicaría el problema nuevamente', 'Comentarios P1-7',\n",
       "       'Un algoritmo es:', '¿Para qué sirven los algoritmos?', 'Un bucle es:',\n",
       "       '¿Cuál es el error conceptual de Tim?',\n",
       "       '¿Cuál es el error conceptual de Ana?', 'Comentarios Conocimientos',\n",
       "       '¿Cuáles de las siguientes estrategias usted ha usado en sus clases?',\n",
       "       '8.1 Es preferible que las mujeres enseñen ciencias sociales y los hombres ciencias exactas.',\n",
       "       '8.2 Es normal que la mayoría de ingenieros mecánicos sean varones porque los hombres son mejores para los números.',\n",
       "       '8.3 Por su esencia una mujer tiene mejor desempeño en un proyecto de alto impacto social que en un proyecto de robótica industrial.',\n",
       "       '8.4 Los hombres son mejores para la tecnología que las mujeres.',\n",
       "       '8.5 Las mujeres tienen mayores habilidades para proyectos sociales que tecnológicos.',\n",
       "       '8.6 Los grandes aportes en la computación han sido hechos por hombres.',\n",
       "       '8.7 Que la mayoría de mujeres no opte por áreas exactas es simplemente una cuestión de preferencias.',\n",
       "       '8.8 Que la mayoría de personas en artes y humanidades sean mujeres es muestra de su sensibilidad.',\n",
       "       '8.9 Es natural que los hombres sean buenos para los números y las mujeres para las letras.',\n",
       "       '8.10 Los hombres son muy ágiles tomando decisiones importantes.',\n",
       "       '8.11 Las niñas son más ordenadas que los niños.',\n",
       "       '8.12 Muchas mujeres se caracterizan por una pureza que pocos hombres poseen.',\n",
       "       '8.13 Las mujeres deben ser queridas y protegidas por los hombres.',\n",
       "       '8.14 Todo hombre debe tener una mujer a quien amar.',\n",
       "       '8.15 El hombre está incompleto sin la mujer.',\n",
       "       '8.16 Las mujeres en comparación con los hombres, tienden a tener un sentido más refinado de la cultura y el buen gusto.',\n",
       "       'Comentarios género', 'N registro', 'Instrumento', 'Fecha'],\n",
       "      dtype='object')"
      ]
     },
     "execution_count": 97,
     "metadata": {},
     "output_type": "execute_result"
    }
   ],
   "source": [
    "df3.columns"
   ]
  },
  {
   "cell_type": "code",
   "execution_count": 99,
   "id": "15254709-853f-45bc-8a81-5b31cd6913cc",
   "metadata": {},
   "outputs": [],
   "source": [
    "registroseliminados=set(df30['N registro']).difference(set(df3['N registro']))\n",
    "dfe=df30[df30['N registro'].isin(registroseliminados)]\n",
    "new_index=[ 'N registro', 'Instrumento', 'Fecha', 'Política de datos', 'Código IE', 'Tipo ID', 'ID', 'Email',\n",
    "       'Edad', 'Sexo', 'Cabeza de hogar', 'Estado civil', 'Líder comunitario',\n",
    "       'Formado CFK', 'Implementa fichas', 'Formado tecnología e informática',\n",
    "       '¿Cuáles de las siguientes áreas enseña y en qué grado? [Ciencias naturales y educación ambiental.]',\n",
    "       '¿Cuáles de las siguientes áreas enseña y en qué grado? [Ciencias sociales, historia, geografía, constitución política y democracia.]',\n",
    "       '¿Cuáles de las siguientes áreas enseña y en qué grado? [Educación artística.]',\n",
    "       '¿Cuáles de las siguientes áreas enseña y en qué grado? [Educación ética y en valores humanos.]',\n",
    "       '¿Cuáles de las siguientes áreas enseña y en qué grado? [Educación física, recreación y deportes.]',\n",
    "       '¿Cuáles de las siguientes áreas enseña y en qué grado? [Educación religiosa.]',\n",
    "       '¿Cuáles de las siguientes áreas enseña y en qué grado? [Humanidades, lengua castellana e idiomas extranjeros.]',\n",
    "       '¿Cuáles de las siguientes áreas enseña y en qué grado? [Matemáticas.]',\n",
    "       '¿Cuáles de las siguientes áreas enseña y en qué grado? [Tecnología e informática.]',\n",
    "       '¿Cuáles de las siguientes áreas enseña y en qué grado? [Otro]',\n",
    "       'Enseña STEM', 'Formado STEM',\n",
    "       'Considera importante enseñar el pensamiento computacional desde los primeros niveles educativos',\n",
    "       '1.1 Siento que puedo aplicar las prácticas y habilidades del pensamiento computacional a mi trabajo',\n",
    "       '1.2 Siento que puedo definir el pensamiento computacional',\n",
    "       '1.3 Siento que puedo describir las prácticas y habilidades que componen el pensamiento computacional a mis estudiantes',\n",
    "       '1.4 Siento que puedo aplicar las prácticas y habilidades del pensamiento computacional a mi vida diaria',\n",
    "       '2.1 Creo que tengo las habilidades para desarrollar el pensamiento computacional en mis estudiantes',\n",
    "       '2.2 Siento que puedo enseñar fácilmente sobre nuevas prácticas computacionales',\n",
    "       '2.3 Siento que puedo diseñar una clase que desarrolle el pensamiento computacional en los estudiantes',\n",
    "       '2.4 Siento que puedo aplicar mis habilidades en pensamiento computacional para ayudar a los estudiantes a perseguir sus intereses individuales',\n",
    "       '2.5 Siento que puedo evaluar la idoneidad de una estrategia pedagógica para desarrollar pensamiento computacional',\n",
    "       '3.1 El colegio ofrece espacios adicionales para fomentar el pensamiento computacional',\n",
    "       '3.2 En la programación anual del colegio existen actividades asociadas al pensamiento computacional',\n",
    "       '3.3 Cuando he intentado enseñar pensamiento computacional me he encontrado con obstáculos para gestionar espacios y materiales en el colegio.',\n",
    "       '3.4 Recibo apoyo del colegio cuando propongo nuevas ideas y temáticas afines al pensamiento computacional',\n",
    "       '3.5 Siento que por más que lo he intentado mis esfuerzos por incluir pensamiento computacional en las clases no han sido efectivos por la rigidez del plan de estudio',\n",
    "       '3.6 Los directivos incentivan la implementación de nuevas prácticas pedagógicas sobre pensamiento computacional en el aula',\n",
    "       '3.7 Puedo incluir espacios en mis clases para implementar actividades sobre el pensamiento computacional',\n",
    "       '3.8 Me siento frustrado porque la programación de las clases y compromisos institucionales no me permite incluir actividades de pensamiento computacional',\n",
    "       '3.9 Tener educación en pensamiento computacional mejoraría significativamente las futuras opciones de ocupación para los estudiantes de mi escuela.',\n",
    "       '4.1 Creo que sé cómo resolver los problemas técnicos cuando fallan las TIC',\n",
    "       '4.2 Siento que puedo aprender sobre nuevas tecnologías fácilmente',\n",
    "       '4.3 Creo que sé cómo usar las TIC con los estudiantes en clase',\n",
    "       '5.1 Me apoyo en mis colegas para resolver problemas sobre cómo trabajar algún tema',\n",
    "       '5.2 Puedo hablar con otros docentes sobre el diseño de cursos',\n",
    "       '5.3 Siento que tengo apoyo de otros docentes para el diseño de mis cursos',\n",
    "       '5.4 Siento que no tengo con quién conversar sobre el diseño de mis cursos',\n",
    "       '6.1 Actividades desconectadas', '6.2 Usa-Modifica-Crea',\n",
    "       '6.3 Clase magistral', '6.4 Programación en pares',\n",
    "       '6.5 Lectura del código', '6.6 Le explicaría la respuesta correcta',\n",
    "       '6.7 Le sugeriría ir paso a paso por el programa simulando su ejecución',\n",
    "       '6.8 Le diría que revise sus notas',\n",
    "       '6.9 Le sugeriría que revise las memorias colectivas',\n",
    "       '7.1 Le sugeriría volver a leer el problema',\n",
    "       '7.2 Le sugeriría intentar con varios valores para evaluar el programa',\n",
    "       '7.3 Le explicaría el problema nuevamente', 'Comentarios P1-7',\n",
    "       'Un algoritmo es:', '¿Para qué sirven los algoritmos?', 'Un bucle es:',\n",
    "       '¿Cuál es el error conceptual de Tim?',\n",
    "       '¿Cuál es el error conceptual de Ana?', 'Comentarios Conocimientos',\n",
    "       '¿Cuáles de las siguientes estrategias usted ha usado en sus clases?',\n",
    "       '8.1 Es preferible que las mujeres enseñen ciencias sociales y los hombres ciencias exactas.',\n",
    "       '8.2 Es normal que la mayoría de ingenieros mecánicos sean varones porque los hombres son mejores para los números.',\n",
    "       '8.3 Por su esencia una mujer tiene mejor desempeño en un proyecto de alto impacto social que en un proyecto de robótica industrial.',\n",
    "       '8.4 Los hombres son mejores para la tecnología que las mujeres.',\n",
    "       '8.5 Las mujeres tienen mayores habilidades para proyectos sociales que tecnológicos.',\n",
    "       '8.6 Los grandes aportes en la computación han sido hechos por hombres.',\n",
    "       '8.7 Que la mayoría de mujeres no opte por áreas exactas es simplemente una cuestión de preferencias.',\n",
    "       '8.8 Que la mayoría de personas en artes y humanidades sean mujeres es muestra de su sensibilidad.',\n",
    "       '8.9 Es natural que los hombres sean buenos para los números y las mujeres para las letras.',\n",
    "       '8.10 Los hombres son muy ágiles tomando decisiones importantes.',\n",
    "       '8.11 Las niñas son más ordenadas que los niños.',\n",
    "       '8.12 Muchas mujeres se caracterizan por una pureza que pocos hombres poseen.',\n",
    "       '8.13 Las mujeres deben ser queridas y protegidas por los hombres.',\n",
    "       '8.14 Todo hombre debe tener una mujer a quien amar.',\n",
    "       '8.15 El hombre está incompleto sin la mujer.',\n",
    "       '8.16 Las mujeres en comparación con los hombres, tienden a tener un sentido más refinado de la cultura y el buen gusto.',\n",
    "       'Comentarios género']\n",
    "dfe=dfe.reindex(new_index, axis='columns')\n",
    "dfe.to_excel(\"Registros Eliminados Docentes 20052022.xlsx\", index=False)"
   ]
  },
  {
   "cell_type": "code",
   "execution_count": 102,
   "id": "b0400b8d-2962-4a17-accf-5e022799b070",
   "metadata": {},
   "outputs": [],
   "source": [
    "df3.to_excel(p_data/\"descargables/DocentesCFK.xlsx\")"
   ]
  },
  {
   "cell_type": "code",
   "execution_count": 100,
   "id": "9b0437ea-bc20-4949-8356-024939296dbd",
   "metadata": {},
   "outputs": [],
   "source": [
    "df2=pd.concat([df2,df3],ignore_index=True, join=\"inner\")\n",
    "#pd.concat([df1, df3], join=\"inner\")"
   ]
  },
  {
   "cell_type": "code",
   "execution_count": 101,
   "id": "3009c6ae-fd2c-49e7-9578-f75970fe5b68",
   "metadata": {},
   "outputs": [
    {
     "data": {
      "text/html": [
       "<div>\n",
       "<style scoped>\n",
       "    .dataframe tbody tr th:only-of-type {\n",
       "        vertical-align: middle;\n",
       "    }\n",
       "\n",
       "    .dataframe tbody tr th {\n",
       "        vertical-align: top;\n",
       "    }\n",
       "\n",
       "    .dataframe thead th {\n",
       "        text-align: right;\n",
       "    }\n",
       "</style>\n",
       "<table border=\"1\" class=\"dataframe\">\n",
       "  <thead>\n",
       "    <tr style=\"text-align: right;\">\n",
       "      <th></th>\n",
       "      <th>Código IE</th>\n",
       "      <th>ID</th>\n",
       "      <th>Instrumento</th>\n",
       "    </tr>\n",
       "  </thead>\n",
       "  <tbody>\n",
       "    <tr>\n",
       "      <th>0</th>\n",
       "      <td>166</td>\n",
       "      <td>166090203</td>\n",
       "      <td>Encuesta estudiantes</td>\n",
       "    </tr>\n",
       "    <tr>\n",
       "      <th>1</th>\n",
       "      <td>166</td>\n",
       "      <td>166090207</td>\n",
       "      <td>Encuesta estudiantes</td>\n",
       "    </tr>\n",
       "    <tr>\n",
       "      <th>2</th>\n",
       "      <td>166</td>\n",
       "      <td>166090230</td>\n",
       "      <td>Encuesta estudiantes</td>\n",
       "    </tr>\n",
       "    <tr>\n",
       "      <th>3</th>\n",
       "      <td>166</td>\n",
       "      <td>166090206</td>\n",
       "      <td>Encuesta estudiantes</td>\n",
       "    </tr>\n",
       "    <tr>\n",
       "      <th>4</th>\n",
       "      <td>166</td>\n",
       "      <td>166090210</td>\n",
       "      <td>Encuesta estudiantes</td>\n",
       "    </tr>\n",
       "    <tr>\n",
       "      <th>...</th>\n",
       "      <td>...</td>\n",
       "      <td>...</td>\n",
       "      <td>...</td>\n",
       "    </tr>\n",
       "    <tr>\n",
       "      <th>22392</th>\n",
       "      <td>175</td>\n",
       "      <td>19271621</td>\n",
       "      <td>Encuesta docentes</td>\n",
       "    </tr>\n",
       "    <tr>\n",
       "      <th>22393</th>\n",
       "      <td>175</td>\n",
       "      <td>52332751</td>\n",
       "      <td>Encuesta docentes</td>\n",
       "    </tr>\n",
       "    <tr>\n",
       "      <th>22394</th>\n",
       "      <td>175</td>\n",
       "      <td>53890463</td>\n",
       "      <td>Encuesta docentes</td>\n",
       "    </tr>\n",
       "    <tr>\n",
       "      <th>22395</th>\n",
       "      <td>175</td>\n",
       "      <td>52179756</td>\n",
       "      <td>Encuesta docentes</td>\n",
       "    </tr>\n",
       "    <tr>\n",
       "      <th>22396</th>\n",
       "      <td>245</td>\n",
       "      <td>22173329</td>\n",
       "      <td>Encuesta docentes</td>\n",
       "    </tr>\n",
       "  </tbody>\n",
       "</table>\n",
       "<p>22397 rows × 3 columns</p>\n",
       "</div>"
      ],
      "text/plain": [
       "      Código IE         ID           Instrumento\n",
       "0           166  166090203  Encuesta estudiantes\n",
       "1           166  166090207  Encuesta estudiantes\n",
       "2           166  166090230  Encuesta estudiantes\n",
       "3           166  166090206  Encuesta estudiantes\n",
       "4           166  166090210  Encuesta estudiantes\n",
       "...         ...        ...                   ...\n",
       "22392       175   19271621     Encuesta docentes\n",
       "22393       175   52332751     Encuesta docentes\n",
       "22394       175   53890463     Encuesta docentes\n",
       "22395       175   52179756     Encuesta docentes\n",
       "22396       245   22173329     Encuesta docentes\n",
       "\n",
       "[22397 rows x 3 columns]"
      ]
     },
     "execution_count": 101,
     "metadata": {},
     "output_type": "execute_result"
    }
   ],
   "source": [
    "df2"
   ]
  },
  {
   "cell_type": "code",
   "execution_count": 104,
   "id": "a1930a79-77c9-4cff-aede-951d1e3ecf62",
   "metadata": {},
   "outputs": [],
   "source": [
    "df40=pd.read_excel(p_data/\"raw/Dir_Con_Pre_200522.xlsx\")"
   ]
  },
  {
   "cell_type": "code",
   "execution_count": 113,
   "id": "03b95051-4544-472d-a87e-8ea62cacaf46",
   "metadata": {},
   "outputs": [],
   "source": [
    "df40 = df40.drop(columns=df40.filter(regex=r'eliminar').columns)"
   ]
  },
  {
   "cell_type": "code",
   "execution_count": 114,
   "id": "db88833d-a071-4164-9aec-523c3d72fddd",
   "metadata": {},
   "outputs": [],
   "source": [
    "\n",
    "df40['N registro']=df40.index\n",
    "df4=df40.copy()\n",
    "df4['Instrumento']=\"Encuesta Directivos\"\n",
    "#df4=df4.rename(columns={'Código CFK (Código de la institución educativa suministrado por el proyecto)':'Código IE', \n",
    "#\"Número de identificación\":\"ID\"})\n",
    "df4=df4.dropna(subset=['Código IE'],inplace=False)\n",
    "df4=df4.dropna(subset=['ID'],inplace=False)"
   ]
  },
  {
   "cell_type": "code",
   "execution_count": 115,
   "id": "c6254e35-468a-48b6-9ac3-d0392f9d6d36",
   "metadata": {},
   "outputs": [],
   "source": [
    "df4['Timestamp'] = pd.to_datetime(df4['Timestamp'])\n",
    "df4 = df4[df4.Timestamp>'2022-04-14']\n",
    "df4['Fecha'] = df4.Timestamp.dt.strftime('%d/%m')\n",
    "df4['Fecha'][:5]\n",
    "\n",
    "df4 = df4.drop(columns='Timestamp')"
   ]
  },
  {
   "cell_type": "code",
   "execution_count": null,
   "id": "697c40bb-58a3-44c3-a187-edfbea3397d1",
   "metadata": {},
   "outputs": [],
   "source": []
  },
  {
   "cell_type": "code",
   "execution_count": 116,
   "id": "1eb171cd-3dd8-41f0-9c59-a5bd62a2c8a0",
   "metadata": {},
   "outputs": [
    {
     "data": {
      "text/plain": [
       "array(['206', '235', '032', '211', '021', '198', '166', '092', '066',\n",
       "       '004', '231', '151', '247', '007', '076', '183', '205', '186',\n",
       "       '176', '129', '152', '062', '088', '098', '174', '236', '145',\n",
       "       '185', '213', '144', '179', '055', '043', '228', '002', '107',\n",
       "       '150', '054', '218', '064', '072', '226', '046', '238', '110',\n",
       "       '130', '189', '172', '252', '200', '197', '199', '035', '090',\n",
       "       '169', '020', '167', '142', '217', '063', '121', '210', '153',\n",
       "       '119', '096', '089', '099', '103', '074', '003', '165', '053',\n",
       "       '222', '148', '069', '010', '237', '071', '170', '027', '162',\n",
       "       '070', '114', '106', '034', '097', '084', '132', '080', '051',\n",
       "       '214', '212', '188', '202', '244', '248', '157', '049', '048',\n",
       "       '175', '163', '116', '224', '005', '187', '001', '109', '133',\n",
       "       '177', '091', '223', '149', '093', '241', '036', '056', '082',\n",
       "       '014', '229', '015', '233', '094', '075', '117', '087', '112',\n",
       "       '250', '216', '120', '127', '155', '215', '168', '225', '045',\n",
       "       '147', '061', '073', '057', '065', '077', '041', '203', '086',\n",
       "       '012', '050', '251', '131', '104', '111', '113', '184', '009',\n",
       "       '022', '011', '230', '016', '161', '042', '178', '058', '052',\n",
       "       '059', '220', '221', '118', '160', '208', '136', '181', '024',\n",
       "       '234', '204', '019', '171', '180', '232', '246', '108', '085',\n",
       "       '028', '030', '067', '101', '100', '115', '138', '039', '095',\n",
       "       '123', '164', '154', '026', '006', '128', '146', '240', '126',\n",
       "       '083', '023', '156', '141', '044', '037', '008', '158', '031',\n",
       "       '017', '227', '140', '173', '068', '209', '081', '239', '105',\n",
       "       '196', '060', '193', '159', '201', '079', '135', '102', '219',\n",
       "       '194', '243', '249', '029', '047', '245', '242', '190', '013',\n",
       "       '191', '207', '018', '182', '137'], dtype=object)"
      ]
     },
     "execution_count": 116,
     "metadata": {},
     "output_type": "execute_result"
    }
   ],
   "source": [
    "df4['Código IE']=df4['Código IE'].astype(int)\n",
    "df4=df4[df4['Código IE'] > 0]\n",
    "df4=df4[df4['Código IE']<253]\n",
    "df4['Código IE']=df4['Código IE'].astype(str)\n",
    "df4['Código IE']=df4['Código IE'].str.zfill(3)\n",
    "df4['Código IE'].unique() #se mantienen 158 datos"
   ]
  },
  {
   "cell_type": "code",
   "execution_count": 117,
   "id": "f1f88370-42a7-4ecd-8eb8-50ca9f8da15d",
   "metadata": {},
   "outputs": [],
   "source": [
    "df4= df4[df4['ID'] >= 1000000] \n",
    "df4= df4[df4['ID'] < 3000000000] #quedan 156\n",
    "df4=df4.dropna(subset=['ID'],inplace=False)"
   ]
  },
  {
   "cell_type": "code",
   "execution_count": 118,
   "id": "c606d47e-a7de-4bd5-9aa7-02234fba691f",
   "metadata": {},
   "outputs": [
    {
     "data": {
      "text/plain": [
       "Index(['Política de datos', 'ID', 'Edad', 'Sexo', 'Cabeza de hogar',\n",
       "       'Estado civil', 'Líder comunitario', 'Formación STEM', 'Rol en IE',\n",
       "       '¿En su institución hay estudiantes con algún tipo de discapacidad?',\n",
       "       'Estudiantes  con discapacidad intelectual',\n",
       "       'Estudiantes con Discapacidad física o motora',\n",
       "       'Estudiantes con Discapacidad auditiva',\n",
       "       'Estudiantes con Discapacidad visual',\n",
       "       'Estudiantes con Discapacidad psicosocial',\n",
       "       'Estudiantes con Discapacidad múltiple',\n",
       "       'Estudiante con Trastornos Específicos del Aprendizaje',\n",
       "       'Considera importante enseñar el pensamiento computacional desde los primeros niveles educativos',\n",
       "       'Conceptos que deben incluirse en la clase de tecnología e informática',\n",
       "       'Comentarios autorreporte',\n",
       "       '1.1 Los maestros de esta Institución educativa incorporan el pensamiento computacional en sus clases',\n",
       "       '1.2 Los esfuerzos de los maestros para enseñar conceptos de pensamiento computacional son muy valorados en esta institución educativa',\n",
       "       '1.3 Animo a los maestros de otras disciplinas a asistir a oportunidades de desarrollo profesional enfocadas en pensamiento computacional.',\n",
       "       '1.4 Hay alguien en mi colegio que puede asesorar a los estudiantes sobre los caminos hacia una carrera en STEM',\n",
       "       '1.5 En los próximos tres años, espero que la cantidad de oportunidades para aprender sobre pensamiento computacional en este colegio aumenten',\n",
       "       '1.6 Es extremadamente importante que todos los estudiantes aprendan pensamiento computacional.',\n",
       "       '1.7 Tener educación en pensamiento computacional mejoraría significativamente las futuras opciones de carrera para los estudiantes de mi escuela.',\n",
       "       '1.8 El pensamiento computacional se utiliza en muchos tipos diferentes de trabajos.',\n",
       "       '1.9 Ofrecer oportunidades para aprender de pensamiento computacional tiene el mismo valor o más para el éxito futuro de un estudiante que otros cursos obligatorios como matemáticas, biología, ciencias sociales, historia e inglés',\n",
       "       '1.10 Conozco y puedo recomendar a mis estudiantes diferentes programas de formación relacionadas al pensamiento computacional y/o ciencias de la computación',\n",
       "       '1.11 Los estudiantes reciben asesoría vocacional sobre alternativas u oportunidades relacionadas a carreras STEM',\n",
       "       '1.12 Informo a mis estudiantes sobre oportunidades que existen para continuar los estudios en áreas relacionadas al pensamiento computacional y/o ciencias de la computación',\n",
       "       'Comentarios autodiagnóstico',\n",
       "       'Actividades que se promueven en esta institución educativa para apoyar la formación docente enfocadas en pensamiento computacional',\n",
       "       '¿La rotación de los docentes de tecnología e informática influye sobre la calidad y el aprendizaje del área de los estudiantes en los diferentes grados?',\n",
       "       'Código IE', 'Tipo de ID', 'Número de estudiantes matriculados',\n",
       "       'Unnamed: 61', 'N registro', 'Instrumento', 'Fecha'],\n",
       "      dtype='object')"
      ]
     },
     "execution_count": 118,
     "metadata": {},
     "output_type": "execute_result"
    }
   ],
   "source": [
    "df4.columns"
   ]
  },
  {
   "cell_type": "code",
   "execution_count": 132,
   "id": "2ac56d94-bf8e-49e2-9f26-9bc4a17ec1b7",
   "metadata": {},
   "outputs": [],
   "source": [
    "registroseliminados=set(df40['N registro']).difference(set(df4['N registro']))\n",
    "dfe=df40[df40['N registro'].isin(registroseliminados)]\n",
    "new_index=['N registro',  'Fecha','Política de datos', 'Código IE', 'Tipo de ID','ID', 'Edad', 'Sexo', 'Cabeza de hogar',\n",
    "       'Estado civil', 'Líder comunitario', 'Formación STEM', 'Rol en IE',\n",
    "       '¿En su institución hay estudiantes con algún tipo de discapacidad?',\n",
    "       'Estudiantes  con discapacidad intelectual',\n",
    "       'Estudiantes con Discapacidad física o motora',\n",
    "       'Estudiantes con Discapacidad auditiva',\n",
    "       'Estudiantes con Discapacidad visual',\n",
    "       'Estudiantes con Discapacidad psicosocial',\n",
    "       'Estudiantes con Discapacidad múltiple',\n",
    "       'Estudiante con Trastornos Específicos del Aprendizaje','Número de estudiantes matriculados',\n",
    "       'Considera importante enseñar el pensamiento computacional desde los primeros niveles educativos',\n",
    "       'Conceptos que deben incluirse en la clase de tecnología e informática',\n",
    "       'Comentarios autorreporte',\n",
    "       '1.1 Los maestros de esta Institución educativa incorporan el pensamiento computacional en sus clases',\n",
    "       '1.2 Los esfuerzos de los maestros para enseñar conceptos de pensamiento computacional son muy valorados en esta institución educativa',\n",
    "       '1.3 Animo a los maestros de otras disciplinas a asistir a oportunidades de desarrollo profesional enfocadas en pensamiento computacional.',\n",
    "       '1.4 Hay alguien en mi colegio que puede asesorar a los estudiantes sobre los caminos hacia una carrera en STEM',\n",
    "       '1.5 En los próximos tres años, espero que la cantidad de oportunidades para aprender sobre pensamiento computacional en este colegio aumenten',\n",
    "       '1.6 Es extremadamente importante que todos los estudiantes aprendan pensamiento computacional.',\n",
    "       '1.7 Tener educación en pensamiento computacional mejoraría significativamente las futuras opciones de carrera para los estudiantes de mi escuela.',\n",
    "       '1.8 El pensamiento computacional se utiliza en muchos tipos diferentes de trabajos.',\n",
    "       '1.9 Ofrecer oportunidades para aprender de pensamiento computacional tiene el mismo valor o más para el éxito futuro de un estudiante que otros cursos obligatorios como matemáticas, biología, ciencias sociales, historia e inglés',\n",
    "       '1.10 Conozco y puedo recomendar a mis estudiantes diferentes programas de formación relacionadas al pensamiento computacional y/o ciencias de la computación',\n",
    "       '1.11 Los estudiantes reciben asesoría vocacional sobre alternativas u oportunidades relacionadas a carreras STEM',\n",
    "       '1.12 Informo a mis estudiantes sobre oportunidades que existen para continuar los estudios en áreas relacionadas al pensamiento computacional y/o ciencias de la computación',\n",
    "       'Comentarios autodiagnóstico',\n",
    "       'Actividades que se promueven en esta institución educativa para apoyar la formación docente enfocadas en pensamiento computacional',\n",
    "       '¿La rotación de los docentes de tecnología e informática influye sobre la calidad y el aprendizaje del área de los estudiantes en los diferentes grados?',\n",
    "        'Instrumento',\n",
    "       'Unnamed: 61' ]\n",
    "\n",
    "dfe=dfe.reindex(new_index, axis='columns')\n",
    "\n",
    "df4 = df4.reindex(new_index, axis='columns')\n",
    "dfe.to_excel(\"Registros Eliminados Directivos - 20052022.xlsx\")"
   ]
  },
  {
   "cell_type": "code",
   "execution_count": 133,
   "id": "6058b035-91b3-463e-82d2-19645dc3e87c",
   "metadata": {},
   "outputs": [],
   "source": [
    "df4.to_excel(p_data/\"descargables/DirectivosCFK.xlsx\")"
   ]
  },
  {
   "cell_type": "code",
   "execution_count": 122,
   "id": "6f10a0f4-9f6b-4545-9e1c-c11789b4f95f",
   "metadata": {},
   "outputs": [],
   "source": [
    "df2=pd.concat([df2,df4],ignore_index=True,join=\"inner\") #4565 datos"
   ]
  },
  {
   "cell_type": "code",
   "execution_count": 123,
   "id": "d2816013-ffbc-4ea2-ac2c-187eaab44275",
   "metadata": {},
   "outputs": [],
   "source": [
    "df50=pd.read_excel(p_data/\"raw/Lid_Con_Pre_200522.xlsx\") #19 datos"
   ]
  },
  {
   "cell_type": "code",
   "execution_count": 124,
   "id": "a5776314-de41-4dd8-9651-f8dabce51fd8",
   "metadata": {},
   "outputs": [],
   "source": [
    "df50['Timestamp'] = pd.to_datetime(df50['Timestamp'])\n",
    "df50 = df50[df50.Timestamp>'2022-04-14']\n",
    "df50['Fecha'] = df50.Timestamp.dt.strftime('%d/%m')\n",
    "df50['Fecha'][:5]\n",
    "\n",
    "df50 = df50.drop(columns='Timestamp')"
   ]
  },
  {
   "cell_type": "code",
   "execution_count": 125,
   "id": "bafabaf1-1dce-4a9e-9caa-d3d3012ef719",
   "metadata": {},
   "outputs": [],
   "source": [
    "\n",
    "df50['N registro']=df50.index\n",
    "df5=df50.copy()\n",
    "df5['Instrumento']=\"Encuesta Líderes\"\n",
    "#df5=df5.rename(columns={'Código de la institución educativa asignado por el proyecto':'Código IE'})\n",
    "df5=df5.dropna(subset=['Código IE'],inplace=False)\n",
    "df5=df5.drop([34],axis=0)"
   ]
  },
  {
   "cell_type": "code",
   "execution_count": 126,
   "id": "16b17127-bd4c-41f2-96b8-764a9c53bf73",
   "metadata": {},
   "outputs": [
    {
     "data": {
      "text/plain": [
       "array(['001', '033', '004', '129', '007', '231', '092', '063', '166',\n",
       "       '055', '213', '211', '151', '186', '107', '152', '066', '206',\n",
       "       '123', '176', '235', '185', '002', '226', '098', '062', '130',\n",
       "       '054', '150', '183', '064', '218', '046', '043', '110', '167',\n",
       "       '006', '182', '237', '121', '072', '165', '228', '096', '003',\n",
       "       '053', '067', '162', '227', '170', '216', '148', '074', '179',\n",
       "       '109', '047', '177', '230', '097', '248', '132', '149', '214',\n",
       "       '168', '051', '027', '059', '069', '071', '222', '163', '026',\n",
       "       '229', '056', '093', '133', '108', '147', '252', '079', '088',\n",
       "       '090', '080', '005', '036', '181', '178', '217', '188', '122',\n",
       "       '155', '095', '225', '061', '112', '023', '070', '180', '083',\n",
       "       '082', '189', '203', '041', '086', '050', '161', '068', '094',\n",
       "       '052', '131', '065', '015', '111', '057', '238', '019', '128',\n",
       "       '042', '154', '250', '184', '187', '077', '076', '075', '020',\n",
       "       '021', '116', '251', '114', '117', '119', '136', '118', '160',\n",
       "       '073', '010', '011', '012', '048', '049', '045', '028', '039',\n",
       "       '008', '044', '013', '124', '058', '210', '205', '220', '221',\n",
       "       '224', '101', '100', '105', '099', '103', '104', '035', '204',\n",
       "       '115', '164', '138', '190', '249', '009', '239', '241', '243',\n",
       "       '091', '156', '196', '120', '022', '106', '240', '219', '223',\n",
       "       '089', '102', '032', '037', '153', '087', '127', '140', '158',\n",
       "       '173', '030', '169', '171', '172', '174', '175', '016', '126',\n",
       "       '244', '017', '024', '247', '040', '233', '159', '135', '246',\n",
       "       '085', '212', '215', '141', '060', '142', '144', '145', '146',\n",
       "       '209', '197', '198', '199', '200', '201', '202', '208', '137',\n",
       "       '018', '029', '236'], dtype=object)"
      ]
     },
     "execution_count": 126,
     "metadata": {},
     "output_type": "execute_result"
    }
   ],
   "source": [
    "df5['Código IE']=df5['Código IE'].astype(int)\n",
    "df5=df5[df5['Código IE'] > 0]\n",
    "df5=df5[df5['Código IE']<253]\n",
    "df5['Código IE']=df5['Código IE'].astype(str)\n",
    "df5['Código IE']=df5['Código IE'].str.zfill(3)\n",
    "df5['Código IE'].unique() #se mantienen 158 datos"
   ]
  },
  {
   "cell_type": "code",
   "execution_count": 127,
   "id": "884ca4b1-693b-4afb-ba34-9c4e22131402",
   "metadata": {},
   "outputs": [],
   "source": [
    "df5['ID']=df5.index\n",
    "df2=pd.concat([df2,df5],ignore_index=True,join=\"inner\") #4584 datos"
   ]
  },
  {
   "cell_type": "code",
   "execution_count": 128,
   "id": "1c4234c5-f06a-4aad-a3f8-97a4f4af972e",
   "metadata": {},
   "outputs": [
    {
     "data": {
      "text/plain": [
       "Index(['Código IE',\n",
       "       '1.1 Los docentes encargados del área son los responsables de definir lo que se enseña',\n",
       "       '1.2 El plan de estudios del área cuenta con mejoras realizadas por los docentes de la IE gracias a espacios colaborativos',\n",
       "       '1.3 El plan de estudio incluye actividades básicas de ofimática y/o alfabetización digital, programación y/o desarrollo del pensamiento computacional.',\n",
       "       '1.4 En el plan de estudio se da mayor relevancia al pensamiento computacional',\n",
       "       '1.5 El plan de estudio del área promueve la transición desde la alfabetización digital a las ciencias de la computación',\n",
       "       '1.6 El plan de estudios del área comprende el pensamiento computacional y su impacto dentro del proceso enseñanza-aprendizaje',\n",
       "       '1.7 El plan de estudios del área es coherente con la transición de un grado a otro y permite al estudiante desarrollar conocimientos, habilidades y comprensión del pensamiento computacional',\n",
       "       '1.8 El plan de estudios del área incluye trabajo práctico para el desarrollo del pensamiento computacional.',\n",
       "       '1.9 El plan de estudio del área cuenta con espacios de socialización a los estudiantes de personas que trabajan en ocupaciones relacionadas al área STEM',\n",
       "       '1.10 El plan de estudio de las asignaturas No-STEM integran eficientemente los aprendizajes adquiridos por sus estudiantes sobre pensamiento computacional',\n",
       "       '1.11 La visión institucional menciona el impacto y lugar de la enseñanza del desarrollo del pensamiento computacional dentro del plan de estudios.',\n",
       "       'Comentarios P1',\n",
       "       '2.1 La IE identifica a los estudiantes que cuentan con necesidades educativas especiales',\n",
       "       '2.2 La IE implementa algunas acciones para brindar apoyo a los estudiantes con necesidades educativas especiales en su participación en el área',\n",
       "       '2.3 La IE establece un plan para la atención de estudiantes con necesidades educativas especiales para su participación en actividades asociadas al pensamiento computacional',\n",
       "       '2.4 La IE promueve la participación de personas con necesidades educativas especiales en actividades extracurricules para garantiza la inclusión y participación en áreas STEM',\n",
       "       '2.5 La IE genera estrategias que visibilizan modelos a seguir en carreras en áreas STEM en estudiantes con necesidades educativas especiales',\n",
       "       '2.6 Los docentes del área que incluyen pensamiento computacional y/o ciencias de la computación muestran la asignatura como accesible para todos(as)',\n",
       "       '2.7 La IE promueve al trabajo conjunto entre los docente y profesionales externos para impulsar prácticas inclusivas en la enseñanza de la computación y/o pensamiento computacional',\n",
       "       '2.8 El plan de estudio considera aspectos para la inclusión de estudiantes con trastornos de aprendizaje y/o discapacidad',\n",
       "       '2.9 El plan de estudios del área incluye acciones de apoyo y adecuaciones a los materiales educativos articuladas con las estrategias de atención de estudiantes con necesidades educativas especiales',\n",
       "       '2.10  El plan de estudios del área y los recursos educativos se revisan con apoyo de personal experto en la atención a estudiantes con necesidades educativas especiales',\n",
       "       '2.11 El plan de estudios del área hace explícita la pedagogía a utilizar que incluye adaptaciones para estudiantes con necesidades educativas especiales',\n",
       "       'Comentarios P2',\n",
       "       '3.1 La IE hace seguimiento de las diferencias de género en los resultados y el desempeño académico de niños y niñas en áreas STEM',\n",
       "       '3.2 La IE crea espacios de reflexión sobre las causas y orígenes de las diferencias entre niños y niñas',\n",
       "       '3.3 La IE realiza iniciativas cívicas y campañas comunicativas con estudiantes para visibilizar las diferencias de género en áreas STEM',\n",
       "       '3.4 La IE toma acciones concretas para disminuir la diferencias de resultados entre niños y niñas Por ejemplo: organizar competencias diferenciadas entre niños y niñas en áreas STEM',\n",
       "       '3.5 La IE tiene alianzas con entidades externas que promuevan la equidad género en las áreas STEM',\n",
       "       '3.6 La institución posee una propuesta estructurada donde garantiza que los niños y niñas continúen su trayectoria de formación educativa en pensamiento computacional y/o ciencias de la computación.',\n",
       "       '3.7 El plan de estudios del área promueve en niños y niñas el desarrollo de sus conocimientos, habilidades y actitudes',\n",
       "       '3.8 El plan de estudio del área cuentan con una estructura clara que permite disminuir las diferencias en el desempeño de niños y niñas',\n",
       "       '3.9 El plan de estudio del área se encuentran en constante revisión e incorporan nuevas estrategias para promover la igualdad en el desempeño de niños y niñas',\n",
       "       '3.10 El plan de estudio considera aspectos para disminuir las diferencias entre niños y niñas y la inclusión de estudiantes con trastornos de aprendizaje y/o discapacidad',\n",
       "       'Comentarios P3',\n",
       "       '4.1 La IE tiene en cuenta el plan de estudios para determinar las actividades de desarrollo profesional',\n",
       "       '4.2 La IE identifica las necesidades de los docentes para determinar actividades de desarrollo profesional',\n",
       "       '4.3 La IE cuenta con espacios de discusión y planeación para actividades de desarrollo profesional',\n",
       "       '4.4 La IE capacita a los docentes en temas de equidad de género y apoya la implementación de acciones afirmativas en el aula de clases',\n",
       "       '4.5 La IE lleva un registro formal de las necesidades y participación de los docentes en actividades de desarrollo profesional',\n",
       "       '4.6 Los docentes de otras áreas se interesan por el área de tecnología e informática y la integran a su enseñanza',\n",
       "       '4.7 La IE incentiva el trabajo coordinado entre los/las responsables del área',\n",
       "       '4.8 La IE tiene en cuenta los conocimientos del personal docente para enriquecer la visión institucional sobre la enseñanza de la computación y potenciar la comprensión de las/los estudiantes y desarrollo',\n",
       "       '4.9 La IE promueve al trabajo conjunto entre los docente y profesionales líderes externos para impulsar prácticas inclusivas en la enseñanza de la computación y/o pensamiento computacional',\n",
       "       '4.10 El Consejo Directivo del colegio está al tanto de que en la institución se está enseñando ciencias de la computación, y se encuentran involucrados en el proceso.',\n",
       "       '4.11 Las directivas y el Consejo Directivo participan y evalúan la implementación de sistemas eficientes del plan de estudios del área.]',\n",
       "       'Comentarios P4', 'Fecha', 'N registro', 'Instrumento', 'ID'],\n",
       "      dtype='object')"
      ]
     },
     "execution_count": 128,
     "metadata": {},
     "output_type": "execute_result"
    }
   ],
   "source": [
    "df5.columns"
   ]
  },
  {
   "cell_type": "code",
   "execution_count": 131,
   "id": "a13e1149-8c85-4143-bf26-badfcc8f92ae",
   "metadata": {},
   "outputs": [],
   "source": [
    "registroseliminados=set(df50['N registro']).difference(set(df5['N registro']))\n",
    "dfe=df50[df50['N registro'].isin(registroseliminados)]\n",
    "new_index= [ 'N registro','Fecha',  'Instrumento', 'ID','Código IE',\n",
    "       '1.1 Los docentes encargados del área son los responsables de definir lo que se enseña',\n",
    "       '1.2 El plan de estudios del área cuenta con mejoras realizadas por los docentes de la IE gracias a espacios colaborativos',\n",
    "       '1.3 El plan de estudio incluye actividades básicas de ofimática y/o alfabetización digital, programación y/o desarrollo del pensamiento computacional.',\n",
    "       '1.4 En el plan de estudio se da mayor relevancia al pensamiento computacional',\n",
    "       '1.5 El plan de estudio del área promueve la transición desde la alfabetización digital a las ciencias de la computación',\n",
    "       '1.6 El plan de estudios del área comprende el pensamiento computacional y su impacto dentro del proceso enseñanza-aprendizaje',\n",
    "       '1.7 El plan de estudios del área es coherente con la transición de un grado a otro y permite al estudiante desarrollar conocimientos, habilidades y comprensión del pensamiento computacional',\n",
    "       '1.8 El plan de estudios del área incluye trabajo práctico para el desarrollo del pensamiento computacional.',\n",
    "       '1.9 El plan de estudio del área cuenta con espacios de socialización a los estudiantes de personas que trabajan en ocupaciones relacionadas al área STEM',\n",
    "       '1.10 El plan de estudio de las asignaturas No-STEM integran eficientemente los aprendizajes adquiridos por sus estudiantes sobre pensamiento computacional',\n",
    "       '1.11 La visión institucional menciona el impacto y lugar de la enseñanza del desarrollo del pensamiento computacional dentro del plan de estudios.',\n",
    "       'Comentarios P1',\n",
    "       '2.1 La IE identifica a los estudiantes que cuentan con necesidades educativas especiales',\n",
    "       '2.2 La IE implementa algunas acciones para brindar apoyo a los estudiantes con necesidades educativas especiales en su participación en el área',\n",
    "       '2.3 La IE establece un plan para la atención de estudiantes con necesidades educativas especiales para su participación en actividades asociadas al pensamiento computacional',\n",
    "       '2.4 La IE promueve la participación de personas con necesidades educativas especiales en actividades extracurricules para garantiza la inclusión y participación en áreas STEM',\n",
    "       '2.5 La IE genera estrategias que visibilizan modelos a seguir en carreras en áreas STEM en estudiantes con necesidades educativas especiales',\n",
    "       '2.6 Los docentes del área que incluyen pensamiento computacional y/o ciencias de la computación muestran la asignatura como accesible para todos(as)',\n",
    "       '2.7 La IE promueve al trabajo conjunto entre los docente y profesionales externos para impulsar prácticas inclusivas en la enseñanza de la computación y/o pensamiento computacional',\n",
    "       '2.8 El plan de estudio considera aspectos para la inclusión de estudiantes con trastornos de aprendizaje y/o discapacidad',\n",
    "       '2.9 El plan de estudios del área incluye acciones de apoyo y adecuaciones a los materiales educativos articuladas con las estrategias de atención de estudiantes con necesidades educativas especiales',\n",
    "       '2.10  El plan de estudios del área y los recursos educativos se revisan con apoyo de personal experto en la atención a estudiantes con necesidades educativas especiales',\n",
    "       '2.11 El plan de estudios del área hace explícita la pedagogía a utilizar que incluye adaptaciones para estudiantes con necesidades educativas especiales',\n",
    "       'Comentarios P2',\n",
    "       '3.1 La IE hace seguimiento de las diferencias de género en los resultados y el desempeño académico de niños y niñas en áreas STEM',\n",
    "       '3.2 La IE crea espacios de reflexión sobre las causas y orígenes de las diferencias entre niños y niñas',\n",
    "       '3.3 La IE realiza iniciativas cívicas y campañas comunicativas con estudiantes para visibilizar las diferencias de género en áreas STEM',\n",
    "       '3.4 La IE toma acciones concretas para disminuir la diferencias de resultados entre niños y niñas Por ejemplo: organizar competencias diferenciadas entre niños y niñas en áreas STEM',\n",
    "       '3.5 La IE tiene alianzas con entidades externas que promuevan la equidad género en las áreas STEM',\n",
    "       '3.6 La institución posee una propuesta estructurada donde garantiza que los niños y niñas continúen su trayectoria de formación educativa en pensamiento computacional y/o ciencias de la computación.',\n",
    "       '3.7 El plan de estudios del área promueve en niños y niñas el desarrollo de sus conocimientos, habilidades y actitudes',\n",
    "       '3.8 El plan de estudio del área cuentan con una estructura clara que permite disminuir las diferencias en el desempeño de niños y niñas',\n",
    "       '3.9 El plan de estudio del área se encuentran en constante revisión e incorporan nuevas estrategias para promover la igualdad en el desempeño de niños y niñas',\n",
    "       '3.10 El plan de estudio considera aspectos para disminuir las diferencias entre niños y niñas y la inclusión de estudiantes con trastornos de aprendizaje y/o discapacidad',\n",
    "       'Comentarios P3',\n",
    "       '4.1 La IE tiene en cuenta el plan de estudios para determinar las actividades de desarrollo profesional',\n",
    "       '4.2 La IE identifica las necesidades de los docentes para determinar actividades de desarrollo profesional',\n",
    "       '4.3 La IE cuenta con espacios de discusión y planeación para actividades de desarrollo profesional',\n",
    "       '4.4 La IE capacita a los docentes en temas de equidad de género y apoya la implementación de acciones afirmativas en el aula de clases',\n",
    "       '4.5 La IE lleva un registro formal de las necesidades y participación de los docentes en actividades de desarrollo profesional',\n",
    "       '4.6 Los docentes de otras áreas se interesan por el área de tecnología e informática y la integran a su enseñanza',\n",
    "       '4.7 La IE incentiva el trabajo coordinado entre los/las responsables del área',\n",
    "       '4.8 La IE tiene en cuenta los conocimientos del personal docente para enriquecer la visión institucional sobre la enseñanza de la computación y potenciar la comprensión de las/los estudiantes y desarrollo',\n",
    "       '4.9 La IE promueve al trabajo conjunto entre los docente y profesionales líderes externos para impulsar prácticas inclusivas en la enseñanza de la computación y/o pensamiento computacional',\n",
    "       '4.10 El Consejo Directivo del colegio está al tanto de que en la institución se está enseñando ciencias de la computación, y se encuentran involucrados en el proceso.',\n",
    "       '4.11 Las directivas y el Consejo Directivo participan y evalúan la implementación de sistemas eficientes del plan de estudios del área.]',\n",
    "       'Comentarios P4']\n",
    "dfe=dfe.reindex(new_index, axis='columns')\n",
    "\n",
    "df5 = df5.reindex(new_index, axis='columns')\n",
    "dfe.to_excel(\"Registros Eliminados Líderes de Área 20052022.xlsx\")"
   ]
  },
  {
   "cell_type": "code",
   "execution_count": 135,
   "id": "0e767081-68e8-4247-9f87-cf826751fffe",
   "metadata": {},
   "outputs": [],
   "source": [
    "df5.to_excel(p_data/\"descargables/LiderCFK.xlsx\")"
   ]
  },
  {
   "cell_type": "code",
   "execution_count": 136,
   "id": "e5e8a445-1dc6-4e62-84d4-b969987961dc",
   "metadata": {},
   "outputs": [],
   "source": [
    "df60=pd.read_excel(p_data/\"raw/Equ_Con_Pre_200522.xlsx\") #19 datos\n",
    "df60['N registro']=df60.index"
   ]
  },
  {
   "cell_type": "code",
   "execution_count": 138,
   "id": "14cd686a-3925-4326-9218-8816bf95c98f",
   "metadata": {},
   "outputs": [],
   "source": [
    "df60['Timestamp'] = pd.to_datetime(df60['Timestamp'])\n",
    "df60 = df60[df60.Timestamp>'2022-04-14']\n",
    "df60['Fecha'] = df60.Timestamp.dt.strftime('%d/%m')\n",
    "df60['Fecha'][:5]\n",
    "\n",
    "df60 = df60.drop(columns='Timestamp')"
   ]
  },
  {
   "cell_type": "code",
   "execution_count": 139,
   "id": "ecc6014d-7bac-4fab-a735-365d91b34b6e",
   "metadata": {},
   "outputs": [],
   "source": [
    "\n",
    "\n",
    "df6=df60.copy()\n",
    "df6['Instrumento']=\"Encuesta Equipos\"\n",
    "df6=df6.rename(columns={'Código de la Institución Educativa, provisto por el proyecto':'Código IE'})\n",
    "\n",
    "df6=df6.drop([125,72,204,206,153,208,134,36,147,16,18,15],axis=0)"
   ]
  },
  {
   "cell_type": "code",
   "execution_count": 140,
   "id": "38cf6fef-2dc2-457a-841b-f25385141396",
   "metadata": {},
   "outputs": [],
   "source": [
    "df6=df6.dropna(subset=['Código IE'],inplace=False)\n",
    "\n",
    "df6['Código IE']=df6['Código IE'].astype(int)\n",
    "df6=df6[df6['Código IE']<271]\n",
    "df6=df6[df6['Código IE'] > 0]\n",
    "df6['Código IE']=df6['Código IE'].astype(str)\n",
    "df6['Código IE']=df6['Código IE'].str.zfill(3)\n",
    "\n",
    "df6['ID']=df6.index\n",
    "df2=pd.concat([df2,df6],ignore_index=True,join=\"inner\") #4584 datos\n",
    "#ID"
   ]
  },
  {
   "cell_type": "code",
   "execution_count": 141,
   "id": "0cdacf13-7479-404b-b21c-512e60b33ba1",
   "metadata": {},
   "outputs": [
    {
     "data": {
      "text/plain": [
       "Index(['Email Address', 'Código IE',\n",
       "       '¿Cuántas aulas de informática tiene la sede?',\n",
       "       'Además de los equipos de cómputo en aulas de informática, ¿hay computadores en las aulas de clase?',\n",
       "       '¿Cuántas de las aulas de clase, diferentes al aula de informática, cuentan con al menos un computador?',\n",
       "       '¿Hay algún otro tipo de dispositivos en las aulas de clase? Marque todas las opciones que apliquen',\n",
       "       '¿Hay algún tipo de infraestructura de telecomunicaciones? Marque todas las opciones que apliquen',\n",
       "       'Agregue cualquier comentario u observación adicional que tenga sobre las preguntas anteriores',\n",
       "       '¿Cuántos computadores portátiles y/o de escritorio hay, en total, en las aulas de informática?',\n",
       "       '¿Cuántos de los computadores portátiles y/o de escritorio son funcionales?',\n",
       "       '¿Cuántos de estos computadores tienen instalado el MakeCode?',\n",
       "       '¿Tienen acceso a internet los computadores portátiles y/o de escritorio de la sala?',\n",
       "       '¿Qué sistema operativo tienen instalado los equipos portátiles y/o de escritorio de la sala?',\n",
       "       '¿Cuántos de los equipos portátiles y/o de escritorio tienen instalada la aplicación GreenTIC?',\n",
       "       '¿Qué tipos de programas se encuentran instalados en los computadores de la sala? (Marque todas las opciones que cuenten con, al menos, un programa instalado en la mayoría de los equipos de cómputo)',\n",
       "       '¿Tiene comentarios adicionales sobre los equipos portátiles y/o de escritorio, o del software disponibles en la sede?',\n",
       "       '¿Hay tabletas disponibles para uso de los estudiantes, en el aula?',\n",
       "       '¿Cuántas tabletas funcionales hay en el aula?',\n",
       "       '¿Las tabletas se pueden conectar a internet?',\n",
       "       '¿Cuántas tabletas tienen instalada la aplicación GreenTIC?',\n",
       "       'Indique los diferentes tipos de microprocesadores que hay disponibles para el desarrollo de proyectos de computación física.',\n",
       "       '¿Cuántas tarjetas micro:bit funcionales hay en la sede?',\n",
       "       'Indique los elementos para desarrollo de proyectos de computación física que hay disponibles en la sede.',\n",
       "       'Amplíe sus comentarios sobre elementos disponibles en la sede, para el desarrollo de proyectos de computación física.',\n",
       "       '¿Se cuenta al menos con una impresión de la versión desconectada de GreenTIC?',\n",
       "       '¿Hay, al menos, un kit de Ruta STEM disponible en la sede?',\n",
       "       '¿Hay algún otro tipo de materiales desconectados para promover el pensamiento computacional?',\n",
       "       'Amplíe sus comentarios sobre los elementos desconectados disponibles en la sede.',\n",
       "       'N registro', 'Fecha', 'Instrumento', 'ID'],\n",
       "      dtype='object')"
      ]
     },
     "execution_count": 141,
     "metadata": {},
     "output_type": "execute_result"
    }
   ],
   "source": [
    "df6.columns"
   ]
  },
  {
   "cell_type": "code",
   "execution_count": 142,
   "id": "8bd746a4-e269-4e94-8a07-e85a9416509b",
   "metadata": {
    "tags": []
   },
   "outputs": [],
   "source": [
    "registroseliminados=set(df60['N registro']).difference(set(df6['N registro']))\n",
    "dfe=df60[df60['N registro'].isin(registroseliminados)]\n",
    "new_index=['N registro', 'Fecha',  'Código IE','Instrumento', 'ID','Email Address',\n",
    "       '¿Cuántas aulas de informática tiene la sede?',\n",
    "       'Además de los equipos de cómputo en aulas de informática, ¿hay computadores en las aulas de clase?',\n",
    "       '¿Cuántas de las aulas de clase, diferentes al aula de informática, cuentan con al menos un computador?',\n",
    "       '¿Hay algún otro tipo de dispositivos en las aulas de clase? Marque todas las opciones que apliquen',\n",
    "       '¿Hay algún tipo de infraestructura de telecomunicaciones? Marque todas las opciones que apliquen',\n",
    "       'Agregue cualquier comentario u observación adicional que tenga sobre las preguntas anteriores',\n",
    "       '¿Cuántos computadores portátiles y/o de escritorio hay, en total, en las aulas de informática?',\n",
    "       '¿Cuántos de los computadores portátiles y/o de escritorio son funcionales?',\n",
    "       '¿Cuántos de estos computadores tienen instalado el MakeCode?',\n",
    "       '¿Tienen acceso a internet los computadores portátiles y/o de escritorio de la sala?',\n",
    "       '¿Qué sistema operativo tienen instalado los equipos portátiles y/o de escritorio de la sala?',\n",
    "       '¿Cuántos de los equipos portátiles y/o de escritorio tienen instalada la aplicación GreenTIC?',\n",
    "       '¿Qué tipos de programas se encuentran instalados en los computadores de la sala? (Marque todas las opciones que cuenten con, al menos, un programa instalado en la mayoría de los equipos de cómputo)',\n",
    "       '¿Tiene comentarios adicionales sobre los equipos portátiles y/o de escritorio, o del software disponibles en la sede?',\n",
    "       '¿Hay tabletas disponibles para uso de los estudiantes, en el aula?',\n",
    "       '¿Cuántas tabletas funcionales hay en el aula?',\n",
    "       '¿Las tabletas se pueden conectar a internet?',\n",
    "       '¿Cuántas tabletas tienen instalada la aplicación GreenTIC?',\n",
    "       'Indique los diferentes tipos de microprocesadores que hay disponibles para el desarrollo de proyectos de computación física.',\n",
    "       '¿Cuántas tarjetas micro:bit funcionales hay en la sede?',\n",
    "       'Indique los elementos para desarrollo de proyectos de computación física que hay disponibles en la sede.',\n",
    "       'Amplíe sus comentarios sobre elementos disponibles en la sede, para el desarrollo de proyectos de computación física.',\n",
    "       '¿Se cuenta al menos con una impresión de la versión desconectada de GreenTIC?',\n",
    "       '¿Hay, al menos, un kit de Ruta STEM disponible en la sede?',\n",
    "       '¿Hay algún otro tipo de materiales desconectados para promover el pensamiento computacional?',\n",
    "       'Amplíe sus comentarios sobre los elementos desconectados disponibles en la sede.']\n",
    "dfe=dfe.reindex(new_index, axis='columns')\n",
    "df6 = df6.reindex(new_index, axis='columns')\n",
    "dfe.to_excel(\"Registros Eliminados Equipos y Recursos 20052022.xlsx\")"
   ]
  },
  {
   "cell_type": "code",
   "execution_count": 143,
   "id": "e52ee3cd-3e13-41f3-a56f-d22f2ebe033e",
   "metadata": {},
   "outputs": [],
   "source": [
    "df6.to_excel(p_data/\"descargables/RecursosCFK.xlsx\")"
   ]
  },
  {
   "cell_type": "code",
   "execution_count": 144,
   "id": "05af5c09-c1c2-407a-af3b-8862536fbf94",
   "metadata": {},
   "outputs": [],
   "source": [
    "df70=pd.read_excel(p_data/\"raw/Plan_Con_Pre_200522.xlsx\")"
   ]
  },
  {
   "cell_type": "code",
   "execution_count": 145,
   "id": "61a99827-53b3-4121-84d1-9f78752adac0",
   "metadata": {},
   "outputs": [],
   "source": [
    "df70['N registro']=df70.index\n",
    "df7=df70.copy()\n",
    "df7['Instrumento']=\"Encuesta Planes de estudio\"\n",
    "#df7=df7.rename(columns={'Código de la institución educativa asignado por el proyecto':'Código IE'})\n",
    "df7=df7.dropna(subset=['Código IE'],inplace=False)\n",
    "\n",
    "df7['Código IE']=df7['Código IE'].astype(int)\n",
    "df7=df7[df7['Código IE']<253]\n",
    "df7=df7[df7['Código IE'] > 0]\n",
    "df7['Código IE']=df7['Código IE'].astype(str)\n",
    "df7['Código IE']=df7['Código IE'].str.zfill(3)\n",
    "\n",
    "df7['ID']=df7.index\n",
    "df2=pd.concat([df2,df7],ignore_index=True,join=\"inner\")\n",
    "#ID"
   ]
  },
  {
   "cell_type": "code",
   "execution_count": 147,
   "id": "71e2d662-2497-4b9f-a608-95cc95759f17",
   "metadata": {},
   "outputs": [
    {
     "data": {
      "text/plain": [
       "Index(['Timestamp', 'Código IE',\n",
       "       '1.1 En el plan de estudios se especifica como responsables de su elaboración a los docentes encargados del área',\n",
       "       '1.2 El plan de estudio incluye actividades básicas de ofimática y/o alfabetización digital, y de programación y/o desarrollo del pensamiento computacional.',\n",
       "       '1.3 En el plan de estudio se da mayor relevancia al pensamiento computacional',\n",
       "       '1.4 El plan de estudio del área promueve la transición desde la alfabetización digital a las ciencias de la computación.',\n",
       "       '1.5 El plan de estudios del área le permite al docente destacar la importancia del pensamiento computacional y su influencia en la formación de los estudiantes',\n",
       "       '1.6 El plan de estudios del área es coherente con la transición de un grado a otro y permite al estudiante desarrollar conocimientos, habilidades y comprensión del pensamiento computacional',\n",
       "       '1.7 El plan de estudios del área incluye trabajo práctico para el desarrollo del pensamiento computacional.',\n",
       "       '1.8 El plan de estudio del área plantea espacios en los que personas que trabajan en ocupaciones relacionadas con áreas STEM socialicen sus experiencias con los/las estudiantes',\n",
       "       '1.9 El plan de estudio incluye actividades transversales con áreas No-STEM, para el desarrollo del pensamiento computacional',\n",
       "       '1.10 El plan de estudio considera aspectos para la inclusión de estudiantes con trastornos de aprendizaje y/o discapacidad',\n",
       "       '1.11 Entre los responsables del plan de estudios del área y los recursos educativos se incluye personal experto en la atención a estudiantes con necesidades educativas especiales',\n",
       "       '1.12 El plan de estudios del área hace explícita la pedagogía a utilizar y las adaptaciones para estudiantes con trastornos del aprendizaje y/o con discapacidad',\n",
       "       '1.13 El plan de estudio del área cuenta con una estructura clara que permite disminuir las diferencias en el desempeño de niños y niñas',\n",
       "       'Comentarios P1', 'Información otro plan de estudios',\n",
       "       'Misión de la institución educativa',\n",
       "       'Visión de la institución educativa', 'N registro', 'Instrumento',\n",
       "       'ID'],\n",
       "      dtype='object')"
      ]
     },
     "execution_count": 147,
     "metadata": {},
     "output_type": "execute_result"
    }
   ],
   "source": [
    "df7.columns"
   ]
  },
  {
   "cell_type": "code",
   "execution_count": 148,
   "id": "90af7032-bfdf-45ea-bd27-4b677ea3be22",
   "metadata": {},
   "outputs": [],
   "source": [
    "registroseliminados=set(df70['N registro']).difference(set(df7['N registro']))\n",
    "dfe=df70[df70['N registro'].isin(registroseliminados)]\n",
    "new_index=[ 'N registro', 'Instrumento',\n",
    "       'ID','Timestamp', 'Código IE',\n",
    "       '1.1 En el plan de estudios se especifica como responsables de su elaboración a los docentes encargados del área',\n",
    "       '1.2 El plan de estudio incluye actividades básicas de ofimática y/o alfabetización digital, y de programación y/o desarrollo del pensamiento computacional.',\n",
    "       '1.3 En el plan de estudio se da mayor relevancia al pensamiento computacional',\n",
    "       '1.4 El plan de estudio del área promueve la transición desde la alfabetización digital a las ciencias de la computación.',\n",
    "       '1.5 El plan de estudios del área le permite al docente destacar la importancia del pensamiento computacional y su influencia en la formación de los estudiantes',\n",
    "       '1.6 El plan de estudios del área es coherente con la transición de un grado a otro y permite al estudiante desarrollar conocimientos, habilidades y comprensión del pensamiento computacional',\n",
    "       '1.7 El plan de estudios del área incluye trabajo práctico para el desarrollo del pensamiento computacional.',\n",
    "       '1.8 El plan de estudio del área plantea espacios en los que personas que trabajan en ocupaciones relacionadas con áreas STEM socialicen sus experiencias con los/las estudiantes',\n",
    "       '1.9 El plan de estudio incluye actividades transversales con áreas No-STEM, para el desarrollo del pensamiento computacional',\n",
    "       '1.10 El plan de estudio considera aspectos para la inclusión de estudiantes con trastornos de aprendizaje y/o discapacidad',\n",
    "       '1.11 Entre los responsables del plan de estudios del área y los recursos educativos se incluye personal experto en la atención a estudiantes con necesidades educativas especiales',\n",
    "       '1.12 El plan de estudios del área hace explícita la pedagogía a utilizar y las adaptaciones para estudiantes con trastornos del aprendizaje y/o con discapacidad',\n",
    "       '1.13 El plan de estudio del área cuenta con una estructura clara que permite disminuir las diferencias en el desempeño de niños y niñas',\n",
    "       'Comentarios P1', 'Información otro plan de estudios',\n",
    "       'Misión de la institución educativa',\n",
    "       'Visión de la institución educativa']\n",
    "dfe=dfe.reindex(new_index, axis='columns')\n",
    "df7 = df7.reindex(new_index, axis='columns')\n",
    "dfe.to_excel(\"Registros Eliminados Plan de área 20052022.xlsx\")"
   ]
  },
  {
   "cell_type": "code",
   "execution_count": 149,
   "id": "1914e40e-8f3d-45ec-b66b-3dd4a48eb493",
   "metadata": {},
   "outputs": [],
   "source": [
    "df7.to_excel(p_data/\"descargables/PlanCFK.xlsx\")"
   ]
  },
  {
   "cell_type": "code",
   "execution_count": 150,
   "id": "8c0292bf-5a59-4304-8d73-141494ec9050",
   "metadata": {},
   "outputs": [
    {
     "data": {
      "text/html": [
       "<div>\n",
       "<style scoped>\n",
       "    .dataframe tbody tr th:only-of-type {\n",
       "        vertical-align: middle;\n",
       "    }\n",
       "\n",
       "    .dataframe tbody tr th {\n",
       "        vertical-align: top;\n",
       "    }\n",
       "\n",
       "    .dataframe thead th {\n",
       "        text-align: right;\n",
       "    }\n",
       "</style>\n",
       "<table border=\"1\" class=\"dataframe\">\n",
       "  <thead>\n",
       "    <tr style=\"text-align: right;\">\n",
       "      <th>Instrumento</th>\n",
       "      <th>Código IE</th>\n",
       "      <th>Encuesta Directivos</th>\n",
       "      <th>Encuesta Equipos</th>\n",
       "      <th>Encuesta Líderes</th>\n",
       "      <th>Encuesta Planes de estudio</th>\n",
       "      <th>Encuesta docentes</th>\n",
       "      <th>Encuesta estudiantes</th>\n",
       "    </tr>\n",
       "  </thead>\n",
       "  <tbody>\n",
       "    <tr>\n",
       "      <th>0</th>\n",
       "      <td>001</td>\n",
       "      <td>2.0</td>\n",
       "      <td>1.0</td>\n",
       "      <td>1.0</td>\n",
       "      <td>1.0</td>\n",
       "      <td>48.0</td>\n",
       "      <td>123.0</td>\n",
       "    </tr>\n",
       "    <tr>\n",
       "      <th>1</th>\n",
       "      <td>002</td>\n",
       "      <td>3.0</td>\n",
       "      <td>1.0</td>\n",
       "      <td>1.0</td>\n",
       "      <td>1.0</td>\n",
       "      <td>15.0</td>\n",
       "      <td>38.0</td>\n",
       "    </tr>\n",
       "    <tr>\n",
       "      <th>2</th>\n",
       "      <td>003</td>\n",
       "      <td>2.0</td>\n",
       "      <td>1.0</td>\n",
       "      <td>1.0</td>\n",
       "      <td>1.0</td>\n",
       "      <td>23.0</td>\n",
       "      <td>58.0</td>\n",
       "    </tr>\n",
       "    <tr>\n",
       "      <th>3</th>\n",
       "      <td>004</td>\n",
       "      <td>2.0</td>\n",
       "      <td>1.0</td>\n",
       "      <td>1.0</td>\n",
       "      <td>1.0</td>\n",
       "      <td>12.0</td>\n",
       "      <td>46.0</td>\n",
       "    </tr>\n",
       "    <tr>\n",
       "      <th>4</th>\n",
       "      <td>005</td>\n",
       "      <td>2.0</td>\n",
       "      <td>1.0</td>\n",
       "      <td>1.0</td>\n",
       "      <td>1.0</td>\n",
       "      <td>51.0</td>\n",
       "      <td>109.0</td>\n",
       "    </tr>\n",
       "    <tr>\n",
       "      <th>...</th>\n",
       "      <td>...</td>\n",
       "      <td>...</td>\n",
       "      <td>...</td>\n",
       "      <td>...</td>\n",
       "      <td>...</td>\n",
       "      <td>...</td>\n",
       "      <td>...</td>\n",
       "    </tr>\n",
       "    <tr>\n",
       "      <th>246</th>\n",
       "      <td>249</td>\n",
       "      <td>1.0</td>\n",
       "      <td>1.0</td>\n",
       "      <td>1.0</td>\n",
       "      <td>1.0</td>\n",
       "      <td>18.0</td>\n",
       "      <td>149.0</td>\n",
       "    </tr>\n",
       "    <tr>\n",
       "      <th>247</th>\n",
       "      <td>250</td>\n",
       "      <td>3.0</td>\n",
       "      <td>1.0</td>\n",
       "      <td>1.0</td>\n",
       "      <td>1.0</td>\n",
       "      <td>43.0</td>\n",
       "      <td>83.0</td>\n",
       "    </tr>\n",
       "    <tr>\n",
       "      <th>248</th>\n",
       "      <td>251</td>\n",
       "      <td>5.0</td>\n",
       "      <td>1.0</td>\n",
       "      <td>1.0</td>\n",
       "      <td>1.0</td>\n",
       "      <td>52.0</td>\n",
       "      <td>121.0</td>\n",
       "    </tr>\n",
       "    <tr>\n",
       "      <th>249</th>\n",
       "      <td>252</td>\n",
       "      <td>1.0</td>\n",
       "      <td>1.0</td>\n",
       "      <td>1.0</td>\n",
       "      <td>1.0</td>\n",
       "      <td>22.0</td>\n",
       "      <td>56.0</td>\n",
       "    </tr>\n",
       "    <tr>\n",
       "      <th>250</th>\n",
       "      <td>259</td>\n",
       "      <td>NaN</td>\n",
       "      <td>NaN</td>\n",
       "      <td>NaN</td>\n",
       "      <td>NaN</td>\n",
       "      <td>NaN</td>\n",
       "      <td>1.0</td>\n",
       "    </tr>\n",
       "  </tbody>\n",
       "</table>\n",
       "<p>251 rows × 7 columns</p>\n",
       "</div>"
      ],
      "text/plain": [
       "Instrumento Código IE  Encuesta Directivos  Encuesta Equipos  \\\n",
       "0                 001                  2.0               1.0   \n",
       "1                 002                  3.0               1.0   \n",
       "2                 003                  2.0               1.0   \n",
       "3                 004                  2.0               1.0   \n",
       "4                 005                  2.0               1.0   \n",
       "..                ...                  ...               ...   \n",
       "246               249                  1.0               1.0   \n",
       "247               250                  3.0               1.0   \n",
       "248               251                  5.0               1.0   \n",
       "249               252                  1.0               1.0   \n",
       "250               259                  NaN               NaN   \n",
       "\n",
       "Instrumento  Encuesta Líderes  Encuesta Planes de estudio  Encuesta docentes  \\\n",
       "0                         1.0                         1.0               48.0   \n",
       "1                         1.0                         1.0               15.0   \n",
       "2                         1.0                         1.0               23.0   \n",
       "3                         1.0                         1.0               12.0   \n",
       "4                         1.0                         1.0               51.0   \n",
       "..                        ...                         ...                ...   \n",
       "246                       1.0                         1.0               18.0   \n",
       "247                       1.0                         1.0               43.0   \n",
       "248                       1.0                         1.0               52.0   \n",
       "249                       1.0                         1.0               22.0   \n",
       "250                       NaN                         NaN                NaN   \n",
       "\n",
       "Instrumento  Encuesta estudiantes  \n",
       "0                           123.0  \n",
       "1                            38.0  \n",
       "2                            58.0  \n",
       "3                            46.0  \n",
       "4                           109.0  \n",
       "..                            ...  \n",
       "246                         149.0  \n",
       "247                          83.0  \n",
       "248                         121.0  \n",
       "249                          56.0  \n",
       "250                           1.0  \n",
       "\n",
       "[251 rows x 7 columns]"
      ]
     },
     "execution_count": 150,
     "metadata": {},
     "output_type": "execute_result"
    }
   ],
   "source": [
    "pivot=df2.pivot_table(index='Código IE',columns='Instrumento', values='ID', aggfunc= 'count')\n",
    "pivot=pivot.reset_index()\n",
    "pivot\n",
    "#plan de estudio, equipos\n",
    "#excel"
   ]
  },
  {
   "cell_type": "code",
   "execution_count": 151,
   "id": "297d441a-41be-4565-a03c-50c60c60190e",
   "metadata": {},
   "outputs": [
    {
     "data": {
      "text/html": [
       "<div>\n",
       "<style scoped>\n",
       "    .dataframe tbody tr th:only-of-type {\n",
       "        vertical-align: middle;\n",
       "    }\n",
       "\n",
       "    .dataframe tbody tr th {\n",
       "        vertical-align: top;\n",
       "    }\n",
       "\n",
       "    .dataframe thead th {\n",
       "        text-align: right;\n",
       "    }\n",
       "</style>\n",
       "<table border=\"1\" class=\"dataframe\">\n",
       "  <thead>\n",
       "    <tr style=\"text-align: right;\">\n",
       "      <th>Instrumento</th>\n",
       "      <th>Código IE</th>\n",
       "      <th>Encuesta Directivos</th>\n",
       "      <th>Encuesta Equipos</th>\n",
       "      <th>Encuesta Líderes</th>\n",
       "      <th>Encuesta Planes de estudio</th>\n",
       "      <th>Encuesta docentes</th>\n",
       "      <th>Encuesta estudiantes</th>\n",
       "      <th>Fecha</th>\n",
       "    </tr>\n",
       "  </thead>\n",
       "  <tbody>\n",
       "    <tr>\n",
       "      <th>0</th>\n",
       "      <td>001</td>\n",
       "      <td>2.0</td>\n",
       "      <td>1.0</td>\n",
       "      <td>1.0</td>\n",
       "      <td>1.0</td>\n",
       "      <td>48.0</td>\n",
       "      <td>123.0</td>\n",
       "      <td>20-05-2022</td>\n",
       "    </tr>\n",
       "    <tr>\n",
       "      <th>1</th>\n",
       "      <td>002</td>\n",
       "      <td>3.0</td>\n",
       "      <td>1.0</td>\n",
       "      <td>1.0</td>\n",
       "      <td>1.0</td>\n",
       "      <td>15.0</td>\n",
       "      <td>38.0</td>\n",
       "      <td>20-05-2022</td>\n",
       "    </tr>\n",
       "    <tr>\n",
       "      <th>2</th>\n",
       "      <td>003</td>\n",
       "      <td>2.0</td>\n",
       "      <td>1.0</td>\n",
       "      <td>1.0</td>\n",
       "      <td>1.0</td>\n",
       "      <td>23.0</td>\n",
       "      <td>58.0</td>\n",
       "      <td>20-05-2022</td>\n",
       "    </tr>\n",
       "    <tr>\n",
       "      <th>3</th>\n",
       "      <td>004</td>\n",
       "      <td>2.0</td>\n",
       "      <td>1.0</td>\n",
       "      <td>1.0</td>\n",
       "      <td>1.0</td>\n",
       "      <td>12.0</td>\n",
       "      <td>46.0</td>\n",
       "      <td>20-05-2022</td>\n",
       "    </tr>\n",
       "    <tr>\n",
       "      <th>4</th>\n",
       "      <td>005</td>\n",
       "      <td>2.0</td>\n",
       "      <td>1.0</td>\n",
       "      <td>1.0</td>\n",
       "      <td>1.0</td>\n",
       "      <td>51.0</td>\n",
       "      <td>109.0</td>\n",
       "      <td>20-05-2022</td>\n",
       "    </tr>\n",
       "    <tr>\n",
       "      <th>...</th>\n",
       "      <td>...</td>\n",
       "      <td>...</td>\n",
       "      <td>...</td>\n",
       "      <td>...</td>\n",
       "      <td>...</td>\n",
       "      <td>...</td>\n",
       "      <td>...</td>\n",
       "      <td>...</td>\n",
       "    </tr>\n",
       "    <tr>\n",
       "      <th>246</th>\n",
       "      <td>249</td>\n",
       "      <td>1.0</td>\n",
       "      <td>1.0</td>\n",
       "      <td>1.0</td>\n",
       "      <td>1.0</td>\n",
       "      <td>18.0</td>\n",
       "      <td>149.0</td>\n",
       "      <td>20-05-2022</td>\n",
       "    </tr>\n",
       "    <tr>\n",
       "      <th>247</th>\n",
       "      <td>250</td>\n",
       "      <td>3.0</td>\n",
       "      <td>1.0</td>\n",
       "      <td>1.0</td>\n",
       "      <td>1.0</td>\n",
       "      <td>43.0</td>\n",
       "      <td>83.0</td>\n",
       "      <td>20-05-2022</td>\n",
       "    </tr>\n",
       "    <tr>\n",
       "      <th>248</th>\n",
       "      <td>251</td>\n",
       "      <td>5.0</td>\n",
       "      <td>1.0</td>\n",
       "      <td>1.0</td>\n",
       "      <td>1.0</td>\n",
       "      <td>52.0</td>\n",
       "      <td>121.0</td>\n",
       "      <td>20-05-2022</td>\n",
       "    </tr>\n",
       "    <tr>\n",
       "      <th>249</th>\n",
       "      <td>252</td>\n",
       "      <td>1.0</td>\n",
       "      <td>1.0</td>\n",
       "      <td>1.0</td>\n",
       "      <td>1.0</td>\n",
       "      <td>22.0</td>\n",
       "      <td>56.0</td>\n",
       "      <td>20-05-2022</td>\n",
       "    </tr>\n",
       "    <tr>\n",
       "      <th>250</th>\n",
       "      <td>259</td>\n",
       "      <td>0.0</td>\n",
       "      <td>0.0</td>\n",
       "      <td>0.0</td>\n",
       "      <td>0.0</td>\n",
       "      <td>0.0</td>\n",
       "      <td>1.0</td>\n",
       "      <td>20-05-2022</td>\n",
       "    </tr>\n",
       "  </tbody>\n",
       "</table>\n",
       "<p>251 rows × 8 columns</p>\n",
       "</div>"
      ],
      "text/plain": [
       "Instrumento Código IE  Encuesta Directivos  Encuesta Equipos  \\\n",
       "0                 001                  2.0               1.0   \n",
       "1                 002                  3.0               1.0   \n",
       "2                 003                  2.0               1.0   \n",
       "3                 004                  2.0               1.0   \n",
       "4                 005                  2.0               1.0   \n",
       "..                ...                  ...               ...   \n",
       "246               249                  1.0               1.0   \n",
       "247               250                  3.0               1.0   \n",
       "248               251                  5.0               1.0   \n",
       "249               252                  1.0               1.0   \n",
       "250               259                  0.0               0.0   \n",
       "\n",
       "Instrumento  Encuesta Líderes  Encuesta Planes de estudio  Encuesta docentes  \\\n",
       "0                         1.0                         1.0               48.0   \n",
       "1                         1.0                         1.0               15.0   \n",
       "2                         1.0                         1.0               23.0   \n",
       "3                         1.0                         1.0               12.0   \n",
       "4                         1.0                         1.0               51.0   \n",
       "..                        ...                         ...                ...   \n",
       "246                       1.0                         1.0               18.0   \n",
       "247                       1.0                         1.0               43.0   \n",
       "248                       1.0                         1.0               52.0   \n",
       "249                       1.0                         1.0               22.0   \n",
       "250                       0.0                         0.0                0.0   \n",
       "\n",
       "Instrumento  Encuesta estudiantes       Fecha  \n",
       "0                           123.0  20-05-2022  \n",
       "1                            38.0  20-05-2022  \n",
       "2                            58.0  20-05-2022  \n",
       "3                            46.0  20-05-2022  \n",
       "4                           109.0  20-05-2022  \n",
       "..                            ...         ...  \n",
       "246                         149.0  20-05-2022  \n",
       "247                          83.0  20-05-2022  \n",
       "248                         121.0  20-05-2022  \n",
       "249                          56.0  20-05-2022  \n",
       "250                           1.0  20-05-2022  \n",
       "\n",
       "[251 rows x 8 columns]"
      ]
     },
     "execution_count": 151,
     "metadata": {},
     "output_type": "execute_result"
    }
   ],
   "source": [
    "pivot=pivot.fillna(0)\n",
    "pivot['Fecha'] =pd.Timestamp.today()\n",
    "pivot['Fecha']=pivot['Fecha'].dt.strftime(\"%d-%m-%Y\")\n",
    "pivot"
   ]
  },
  {
   "cell_type": "code",
   "execution_count": 152,
   "id": "615dee4b-ae80-4868-a5f8-edfa00da5b97",
   "metadata": {},
   "outputs": [],
   "source": [
    "Instrumentos = '../../data/InstrumentosCFK.xlsx'\n",
    "\n",
    "# saving the excelsheet\n",
    "pivot.to_excel(Instrumentos)"
   ]
  },
  {
   "cell_type": "code",
   "execution_count": null,
   "outputs": [],
   "source": [],
   "metadata": {
    "collapsed": false,
    "pycharm": {
     "name": "#%%\n"
    }
   }
  },
  {
   "cell_type": "code",
   "execution_count": 78,
   "id": "507fbb90-413d-43cc-89ab-c6ad9949dc8d",
   "metadata": {},
   "outputs": [
    {
     "data": {
      "text/plain": "PosixPath('/home/mariana/Documents/GitHub/CFK2022/data/descargables')"
     },
     "execution_count": 78,
     "metadata": {},
     "output_type": "execute_result"
    }
   ],
   "source": [
    "prueba = Path().cwd()\n",
    "prueba.parent.parent/'data/descargables'"
   ]
  },
  {
   "cell_type": "code",
   "execution_count": 69,
   "outputs": [],
   "source": [
    "for txt_path in Path(\"data/descargables\").glob(\"**/*.xlsx\"):\n",
    "    print(txt_path)"
   ],
   "metadata": {
    "collapsed": false,
    "pycharm": {
     "name": "#%%\n"
    }
   }
  },
  {
   "cell_type": "code",
   "execution_count": 71,
   "outputs": [
    {
     "data": {
      "text/plain": "PosixPath('/home/mariana/Documents/GitHub/CFK2022/utils/cleaners/data/descargables')"
     },
     "execution_count": 71,
     "metadata": {},
     "output_type": "execute_result"
    }
   ],
   "source": [
    "path = pathlib.Path('data/descargables')\n",
    "path.resolve()"
   ],
   "metadata": {
    "collapsed": false,
    "pycharm": {
     "name": "#%%\n"
    }
   }
  },
  {
   "cell_type": "code",
   "execution_count": null,
   "outputs": [],
   "source": [],
   "metadata": {
    "collapsed": false,
    "pycharm": {
     "name": "#%%\n"
    }
   }
  }
 ],
 "metadata": {
  "kernelspec": {
   "display_name": "Python 3 (ipykernel)",
   "language": "python",
   "name": "python3"
  },
  "language_info": {
   "codemirror_mode": {
    "name": "ipython",
    "version": 3
   },
   "file_extension": ".py",
   "mimetype": "text/x-python",
   "name": "python",
   "nbconvert_exporter": "python",
   "pygments_lexer": "ipython3",
   "version": "3.10.4"
  }
 },
 "nbformat": 4,
 "nbformat_minor": 5
}