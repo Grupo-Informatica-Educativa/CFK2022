{
 "cells": [
  {
   "cell_type": "code",
   "execution_count": 2,
   "id": "21cda7ec",
   "metadata": {},
   "outputs": [],
   "source": [
    "import pandas as pd"
   ]
  },
  {
   "cell_type": "code",
   "execution_count": 74,
   "id": "36f0e598",
   "metadata": {
    "tags": []
   },
   "outputs": [
    {
     "data": {
      "text/plain": [
       "array(['B o 02', 'A o 01', 'D o 04', 'E o 05', '9-F', '9f', 'f', 'f o 06',\n",
       "       'F', 'f o 06 ', '9.f', '6g', '6G', '6 g', '6 G', 'G o 06', '6-G',\n",
       "       'Noveno E', '16.0', '11-16', '1116.0', '906.0', '0 o 6', 'f o 6',\n",
       "       '06', '6 seis', '6.0', 'C o 03', '6 C', '6 c', '07', '607.0',\n",
       "       '7.0', '15.0', '9-1', 'No 1', 'noveno 1', '9.1', '9-2', '902.0',\n",
       "       '9_2', '2.0', 'b_2', '6-3', '603.0', '604.0', '9.0', '905.0',\n",
       "       '95.0', '6-8', '608.0', 'H O 608', '08', '6-08', '6 o 08', '9-5',\n",
       "       'f o 08', '6 08', '0 8', '606.0', '9-6', '96.0', '09', '6`-7',\n",
       "       '6-7', '605.0', '9-4', 'sexto tres', 'Seis 3', 'sexto 3',\n",
       "       'sexto  tres', '6.3', 'sexto   tres', '6-1', 'G o 07', '6.7',\n",
       "       '809.0', '71.0', '6a', 'o7', '0 7', 'g o 07', 'G O 07', 'G o 7',\n",
       "       'g o7', '6 o 07', 'g o  07', 'G 07', 'G 0 07', 'G 07 ', '07+',\n",
       "       'g  07', 'G o  07', 'SEXTO G O7', '6-07', 'g', \"9'07\", \"9'07´\",\n",
       "       ' G-07', 'G - 07', 'g 06', '9 07', 'g° 07', 'co06', '6-2', '62.0',\n",
       "       '901.0', '9.4'], dtype=object)"
      ]
     },
     "execution_count": 74,
     "metadata": {},
     "output_type": "execute_result"
    }
   ],
   "source": [
    "df1= pd.read_excel(\"Estudiantes.xlsx\")\n",
    "\n",
    "## Seleccionar solo las columnas que vamos a usar, para no tener tanta cosa.\n",
    "## y botar los nulos\n",
    "\n",
    "df1 = df1.loc[:,[ 'Código de la institución educativa','Grado', 'Grupo',\n",
    "                 'Número de lista', 'Edad', 'Sexo']]\n",
    "\n",
    "diccionariogrados={'Noveno':\"09\", 'Octavo':\"08\", 'Sexto':\"06\", 'Décimo':\"10\", 'Séptimo':\"07\", 'Once':\"11\", 'Quinto':\"05\"}\n",
    "df1[\"Grado\"]=df1[\"Grado\"].replace(diccionariogrados)\n",
    "#id-> códigoinst+Grado+Grupo+númerodelista\n",
    "\n",
    "df1=df1.dropna(subset=[\"Grupo\"], inplace=False) #para eliminar filas con valores nan\n",
    "df1['Grupo']=df1['Grupo'].astype(str)\n",
    "df1['Grupo'].unique()"
   ]
  },
  {
   "cell_type": "code",
   "execution_count": 75,
   "id": "4de820b6-9a8a-4a5e-ba88-acecd58c9bc5",
   "metadata": {},
   "outputs": [
    {
     "data": {
      "text/plain": [
       "array(['Bo02', 'Ao01', 'Do04', 'Eo05', '9-f', '9f', 'F', 'Fo06', '9.f',\n",
       "       '6g', 'Go06', '6-g', 'e', '16.0', '11-16', '1116.0', '906.0',\n",
       "       '0o6', 'Fo6', '06', '6seis', '6.0', 'Co03', '6c', '07', '607.0',\n",
       "       '7.0', '15.0', '9-1', 'No1', '1', '9.1', '9-2', '902.0', '9_2',\n",
       "       '2.0', 'B_2', '6-3', '603.0', '604.0', '9.0', '905.0', '95.0',\n",
       "       '6-8', '608.0', 'Ho608', '08', '6-08', '6o08', '9-5', 'Fo08',\n",
       "       '608', '606.0', '9-6', '96.0', '09', '6`-7', '6-7', '605.0', '9-4',\n",
       "       'tres', 'Seis3', '3', '6.3', '6-1', 'Go07', '6.7', '809.0', '71.0',\n",
       "       '6a', 'O7', 'Go7', '6o07', 'G07', 'G007', '07+', 'go7', '6-07',\n",
       "       'G', \"9'07\", \"9'07´\", 'g-07', 'G-07', 'G06', '907', 'G°07', 'Co06',\n",
       "       '6-2', '62.0', '901.0', '9.4'], dtype=object)"
      ]
     },
     "execution_count": 75,
     "metadata": {},
     "output_type": "execute_result"
    }
   ],
   "source": [
    "df1[\"Grupo\"]=df1[\"Grupo\"].str.capitalize().str.replace(\"Sexto\",\"\").str.replace(\"Noveno\",\"\")\n",
    "df1[\"Grupo\"]=df1[\"Grupo\"].str.replace(\" \",\"\")\n",
    "df1['Grupo'].unique()"
   ]
  },
  {
   "cell_type": "code",
   "execution_count": 76,
   "id": "8fa3e993-138c-487e-9708-b4561d26a1ac",
   "metadata": {},
   "outputs": [
    {
     "data": {
      "text/plain": [
       "array(['Bo02', 'Ao01', 'Do04', 'Eo05', '9-f', '9f', 'F', 'Fo06', '9.f',\n",
       "       '6g', 'Go06', '6-g', 'e', '16.0', '11-16', '1116.0', '906.0',\n",
       "       '0o6', 'Fo6', '06', '6seis', '6.0', 'Co03', '6c', '07', '607.0',\n",
       "       '7.0', '15.0', '9-1', 'No1', '1', '9.1', '9-2', '902.0', '9_2',\n",
       "       '2.0', 'B_2', '6-3', '603.0', '604.0', '9.0', '905.0', '95.0',\n",
       "       '6-8', '608.0', 'Ho608', '08', '6-08', '6o08', '9-5', 'Fo08',\n",
       "       '608', '606.0', '9-6', '96.0', '09', '6`-7', '6-7', '605.0', '9-4',\n",
       "       'tres', 'Seis3', '3', '6.3', '6-1', 'Go07', '6.7', '809.0', '71.0',\n",
       "       '6a', 'O7', 'Go7', '6o07', 'G07', 'G007', '07+', 'go7', '6-07',\n",
       "       'G', \"9'07\", \"9'07´\", 'g-07', 'G-07', 'G06', '907', 'G°07', 'Co06',\n",
       "       '6-2', '62.0', '901.0', '9.4'], dtype=object)"
      ]
     },
     "execution_count": 76,
     "metadata": {},
     "output_type": "execute_result"
    }
   ],
   "source": [
    "#Respuesta de las encuestas\n",
    "diccionariogrupos1={'Bo02':\"02\", 'Ao01':\"01\",'Co03':\"03\", 'Do04':\"04\", 'Eo05':\"05\", 'Fo06':\"06\", 'Go07':\"07\"} #valor exactamente igual\n",
    "df1['Grupo'].unique()"
   ]
  },
  {
   "cell_type": "code",
   "execution_count": 77,
   "id": "965c6bc2-c1e4-4e81-99ef-f7304de26af3",
   "metadata": {},
   "outputs": [
    {
     "name": "stderr",
     "output_type": "stream",
     "text": [
      "C:\\Users\\cvieira\\AppData\\Local\\Temp\\ipykernel_14748\\2564138105.py:5: FutureWarning: The default value of regex will change from True to False in a future version.\n",
      "  df1['Grupo']=df1['Grupo'].str.replace(\".0\",\"\")\n",
      "C:\\Users\\cvieira\\AppData\\Local\\Temp\\ipykernel_14748\\2564138105.py:9: FutureWarning: The default value of regex will change from True to False in a future version. In addition, single character regular expressions will *not* be treated as literal strings when regex=True.\n",
      "  df1[\"Grupo\"]=df1[\"Grupo\"].str.replace(\"+\",\"\")\n"
     ]
    },
    {
     "data": {
      "text/plain": [
       "array(['B2', 'A1', 'D4', 'E5', '96', '6', '06', '7', '07', '67', 'e',\n",
       "       '16', '11-16', '1116', '0o6', 'C3', '6c', '15', '9-1', '1', '9.1',\n",
       "       '9-2', '2', '9_2', 'B_2', '6-3', '3', '4', '9', '5', '95', '6-8',\n",
       "       '8', '08', '68', '9-5', '9-6', '09', '6`-7', '6-7', '9-4', '03',\n",
       "       '6.3', '6-1', '6.7', '71', '6a', 'O7', '97', '97´', 'C6', '6-2',\n",
       "       '62', '9.4'], dtype=object)"
      ]
     },
     "execution_count": 77,
     "metadata": {},
     "output_type": "execute_result"
    }
   ],
   "source": [
    "#cambiando letras por números\n",
    "df1[\"Grupo\"]=df1[\"Grupo\"].replace(r'[Gg](.*)',\"07\",regex=True)\n",
    "df1[\"Grupo\"]=df1[\"Grupo\"].replace(r'[Ff](.*)',\"06\",regex=True) #regex buscador\n",
    "df1[\"Grupo\"]=df1[\"Grupo\"].replace(r'[Hh](.*)',\"08\",regex=True)\n",
    "df1['Grupo']=df1['Grupo'].str.replace(\".0\",\"\")\n",
    "df1['Grupo']=df1['Grupo'].str.replace(\"No\",\"\")\n",
    "diccionariogrupos1={'tres':\"03\",'Seis3':\"03\",'6seis':\"06\"}\n",
    "df1[\"Grupo\"]=df1[\"Grupo\"].replace(diccionariogrupos1)\n",
    "df1[\"Grupo\"]=df1[\"Grupo\"].str.replace(\"+\",\"\")\n",
    "df1['Grupo'].unique()"
   ]
  },
  {
   "cell_type": "code",
   "execution_count": 78,
   "id": "6e42a842-1f71-4c00-8c41-b928009cd035",
   "metadata": {},
   "outputs": [
    {
     "data": {
      "text/plain": [
       "array(['02', '01', 'D4', '04', '96', '6', '06', '7', '07', '67', '16',\n",
       "       '11-16', '1116', '0o6', '03', '603', '15', '9-1', '1', '9.1',\n",
       "       '9-2', '2', '9_2', '6-3', '3', '4', '9', '5', '95', '6-8', '8',\n",
       "       '08', '68', '9-5', '9-6', '09', '6`-7', '6-7', '9-4', '6.3', '6-1',\n",
       "       '6.7', '71', '601', 'O7', '97', '6-2', '62', '9.4'], dtype=object)"
      ]
     },
     "execution_count": 78,
     "metadata": {},
     "output_type": "execute_result"
    }
   ],
   "source": [
    "df1[\"Grupo\"]=df1[\"Grupo\"].replace(r'[Aa](.*)',\"01\",regex=True)\n",
    "df1[\"Grupo\"]=df1[\"Grupo\"].replace(r'[Bb](.*)',\"02\",regex=True) #regex buscador\n",
    "df1[\"Grupo\"]=df1[\"Grupo\"].replace(r'[Cc](.*)',\"03\",regex=True)\n",
    "df1[\"Grupo\"]=df1[\"Grupo\"].replace(r'[Ee](.*)',\"04\",regex=True)\n",
    "df1[\"Grupo\"]=df1[\"Grupo\"].str.replace(\"´\",\"\")\n",
    "df1[\"Grupo\"].unique()"
   ]
  },
  {
   "cell_type": "code",
   "execution_count": 82,
   "id": "c8aa2b8c-b460-494d-ad28-9fbeba38f9c5",
   "metadata": {},
   "outputs": [
    {
     "data": {
      "text/plain": [
       "array(['02', '01', '04', '06', '07', '03', '05', '09', '08'], dtype=object)"
      ]
     },
     "execution_count": 82,
     "metadata": {},
     "output_type": "execute_result"
    }
   ],
   "source": [
    "df1[\"Grupo\"]=df1['Grupo'].apply(lambda x: \"0\"+x[-1])\n",
    "df1['Grupo'].unique()"
   ]
  },
  {
   "cell_type": "code",
   "execution_count": 83,
   "id": "616f1276-8b55-41ee-a00b-de26cc9152dd",
   "metadata": {},
   "outputs": [
    {
     "data": {
      "text/plain": [
       "array([3.00000000e+00, 7.00000000e+00, 3.00000000e+01, 6.00000000e+00,\n",
       "       1.00000000e+01, 9.00000000e+00, 2.00000000e+00, 2.90000000e+01,\n",
       "       1.90000000e+01, 1.20000000e+01, 2.20000000e+01, 4.00000000e+00,\n",
       "       1.60000000e+01, 1.50000000e+01, 1.10000000e+01, 2.40000000e+01,\n",
       "       1.80000000e+01, 2.30000000e+01, 8.00000000e+00, 2.10000000e+01,\n",
       "       2.70000000e+01, 1.30000000e+01, 1.70000000e+01, 2.80000000e+01,\n",
       "       1.00000000e+00, 1.40000000e+01, 5.00000000e+00, 2.00000000e+01,\n",
       "       3.10000000e+01, 2.60000000e+01, 3.40000000e+01, 3.60000000e+01,\n",
       "       3.20000000e+01, 3.30000000e+01, 2.50000000e+01, 3.70000000e+01,\n",
       "       3.50000000e+01, 4.00000000e+01, 3.90000000e+01, 3.80000000e+01,\n",
       "       2.35000000e+02, 4.10000000e+01, 1.98900222e+09, 1.02960022e+09,\n",
       "       1.11166792e+09, 3.05354470e+09, 1.11167089e+09, 1.08954184e+09,\n",
       "       1.10705988e+09, 1.11336370e+09, 1.11166544e+09, 1.11166628e+09,\n",
       "       3.12253304e+09, 1.11166513e+09, 3.19271210e+09, 1.12884698e+09,\n",
       "       1.11167469e+09, 1.06634990e+09, 3.22620415e+09, 1.10705933e+09,\n",
       "       1.10536853e+09, 1.08718615e+09, 1.10785620e+09, 1.11542045e+09,\n",
       "       3.11396342e+09, 3.24739787e+08, 1.11167421e+09, 3.22610258e+09,\n",
       "       1.11165999e+09, 1.11176287e+09, 3.12441612e+09, 1.08719592e+09,\n",
       "       7.45300000e+03, 1.23000000e+02, 6.96800000e+03, 4.40000000e+01,\n",
       "       2.02208977e+09, 2.02102800e+09, 2.02209131e+09, 1.10000000e+02,\n",
       "       1.14421320e+07, 1.14523810e+07, 1.00002460e+09, 1.05028510e+07,\n",
       "       1.04792830e+07, 4.30000000e+01, 4.20000000e+01, 1.22000000e+02,\n",
       "       4.50000000e+01, 8.30000000e+01, 5.00000000e+01, 4.90000000e+01,\n",
       "       1.82000000e+02, 4.60000000e+01, 2.01807977e+09, 4.70000000e+01,\n",
       "       1.02042253e+09, 4.59163000e+05])"
      ]
     },
     "execution_count": 83,
     "metadata": {},
     "output_type": "execute_result"
    }
   ],
   "source": [
    "df1['Número de lista'].unique()"
   ]
  },
  {
   "cell_type": "code",
   "execution_count": 28,
   "id": "a2f27cdb-2da6-43f3-a1ae-6958b55257e3",
   "metadata": {
    "collapsed": true,
    "jupyter": {
     "outputs_hidden": true,
     "source_hidden": true
    },
    "tags": []
   },
   "outputs": [
    {
     "name": "stderr",
     "output_type": "stream",
     "text": [
      "C:\\Users\\cvieira\\AppData\\Local\\Temp\\ipykernel_14748\\3959078681.py:18: FutureWarning: The default value of regex will change from True to False in a future version. In addition, single character regular expressions will *not* be treated as literal strings when regex=True.\n",
      "  df1[\"Grupo\"]=df1[\"Grupo\"].str.replace(\".\",\"\")\n",
      "C:\\Users\\cvieira\\AppData\\Local\\Temp\\ipykernel_14748\\3959078681.py:20: FutureWarning: The default value of regex will change from True to False in a future version. In addition, single character regular expressions will *not* be treated as literal strings when regex=True.\n",
      "  df1[\"Grupo\"]=df1[\"Grupo\"].str.replace(\"+\",\"\")\n"
     ]
    },
    {
     "data": {
      "text/plain": [
       "array(['02', '01', '04', '05', '906', '06', '607', '07', 'e', nan, '1116',\n",
       "       '6seis', '03', '6c', '91', 'N1', '1', '92', 'B2', '63', '68', '08',\n",
       "       '608', '95', '96', '09', '67', '94', 'tres', 'Seis3', '3', '61',\n",
       "       '6a', 'O7', '907', 'C06', '62'], dtype=object)"
      ]
     },
     "execution_count": 28,
     "metadata": {},
     "output_type": "execute_result"
    }
   ],
   "source": [
    "\n",
    "\n",
    "\n",
    "\n",
    "#eliminando signos\n",
    "df1[\"Grupo\"]=df1[\"Grupo\"].str.replace(\"_\",\"\")\n",
    "df1[\"Grupo\"]=df1[\"Grupo\"].str.replace(\"`\",\"\")\n",
    "df1[\"Grupo\"]=df1[\"Grupo\"].str.replace(\"´\",\"\")\n",
    "df1[\"Grupo\"]=df1[\"Grupo\"].str.replace(\"-\",\"\")\n",
    "df1[\"Grupo\"]=df1[\"Grupo\"].str.replace(\".\",\"\")\n",
    "df1[\"Grupo\"]=df1[\"Grupo\"].str.replace(\"'\",\"\")\n",
    "df1[\"Grupo\"]=df1[\"Grupo\"].str.replace(\"+\",\"\")\n",
    "df1[\"Grupo\"]=df1[\"Grupo\"].str.replace(\"o\",\"\")\n",
    "df1[\"Grupo\"]=df1[\"Grupo\"].str.replace(\"No\",\"\") #3177 clases\n",
    "\n",
    "\n",
    "#df[column_name].replace([old_value1, old_value2, old_value3], new_value)\n",
    "\n",
    "#diccionario=(['a','b','c'],\"\") #hacer cambios de uno solo\n",
    "#valor = diccionariogrupo1.setdefault(‘e’,5) para agregar nuevo dato al diccionario\n",
    "#df1[\"Grupo\"]=df1[\"Grupo\"].replace(['_','-','.','+','o','No'],[\"\",\"\",\"\",\"\",\"\",\"\"],regex=True) para hacer los\n",
    "#cambios anteriores al mismo o cambiar todos los valores anteriores por uno solo\n",
    "\n",
    "df1[\"Grupo\"].unique()"
   ]
  },
  {
   "cell_type": "code",
   "execution_count": null,
   "id": "53c9d8bb-12c8-4306-ac22-2288f0e37877",
   "metadata": {
    "jupyter": {
     "source_hidden": true
    },
    "tags": []
   },
   "outputs": [],
   "source": [
    "#df1[\"Grupo\"]=df1[\"Grupo\"].replace(r'[eE](.*)',\"07\",regex=True)\n",
    "df1[\"Grupo\"]=df1[\"Grupo\"].replace(r'[Bb](.*)',\"02\",regex=True)\n",
    "df1[\"Grupo\"]=df1[\"Grupo\"].replace(r'[Aa](.*)',\"01\",regex=True)\n",
    "df1[\"Grupo\"]=df1[\"Grupo\"].replace(r'[Cc](.*)',\"03\",regex=True) #código que permita hacer cambio de una\n",
    "df1[\"Grupo\"].unique()"
   ]
  },
  {
   "cell_type": "code",
   "execution_count": 14,
   "id": "36c08e05",
   "metadata": {
    "collapsed": true,
    "jupyter": {
     "outputs_hidden": true,
     "source_hidden": true
    },
    "tags": []
   },
   "outputs": [
    {
     "data": {
      "text/plain": [
       "array([nan, '000002', '000001', '000004', '000005', '906', '06', '607',\n",
       "       '07', '00001', '6s07', '000003', '6000003', '900001', 'N00001',\n",
       "       '900002', '600003', '08', '608', '900005', '09', '900004', 'tr07',\n",
       "       'S07', '00003', '600001', '6000001', '907', '600002'], dtype=object)"
      ]
     },
     "execution_count": 14,
     "metadata": {},
     "output_type": "execute_result"
    }
   ],
   "source": [
    "#df1[\"Grupo\"]=df1[\"Grupo\"].replace(['tres','3'],[\"03\",\"03\"],regex=True)\n",
    "#df1[\"Grupo\"]=df1[\"Grupo\"].replace(r'[03](.*)',\"03\",regex=True)\n",
    "#df1[\"Grupo\"]=df1[\"Grupo\"].replace(r'[08](.*)',\"08\",regex=True)\n",
    "#df1[\"Grupo\"]=df1[\"Grupo\"].replace(r'[07](.*)',\"07\",regex=True)\n",
    "#df1[\"Grupo\"]=df1[\"Grupo\"].replace(r'[B2](.*)',\"02\",regex=True)\n",
    "#eliminar valores por uno solo\n",
    "\n",
    "diccionariogrupos1={'67':\"07\", '68':\"08\",'96':\"06\"}\n",
    "df1[\"Grupo\"]=df1[\"Grupo\"].replace(diccionariogrupos1)\n",
    "\n",
    "diccionariogrupos1={'Tres':\"03\",'tres':\"03\", 'O7':\"07\",'6seis':\"06\"}\n",
    "df1[\"Grupo\"]=df1[\"Grupo\"].replace(diccionariogrupos1)\n",
    "df1[\"Grupo\"].unique()\n",
    "\n",
    "#for i in len(df1['Grupo']):\n",
    "    #if df1.loc[i,'Grupo']\n",
    "        #df1[i,'Grupo']=\n",
    "        #i=i+1\n",
    "        \n",
    "#print(i)\n",
    "\n",
    "#len(df1[\"Grupo\"]) #para saber si no se han perdido datos\n",
    "\n",
    "#df['city']=df['city'].map('I am from {}'.format, na_action = 'ignore')\n",
    "#df_updated = df.replace(to_replace ='[nN]ew', value = 'New_', regex = True)\n",
    "#df.replace(['↑\\s*', '↓\\s*'], ['+', '-'], regex=True)\n",
    "\n",
    "#df1.dropna(subset=[\"Grado\"], inplace=True) para eliminar filas con valores nan\n",
    "#df.loc[df.grades>50,'result']='success'"
   ]
  }
 ],
 "metadata": {
  "kernelspec": {
   "display_name": "Python 3 (ipykernel)",
   "language": "python",
   "name": "python3"
  },
  "language_info": {
   "codemirror_mode": {
    "name": "ipython",
    "version": 3
   },
   "file_extension": ".py",
   "mimetype": "text/x-python",
   "name": "python",
   "nbconvert_exporter": "python",
   "pygments_lexer": "ipython3",
   "version": "3.10.4"
  }
 },
 "nbformat": 4,
 "nbformat_minor": 5
}
