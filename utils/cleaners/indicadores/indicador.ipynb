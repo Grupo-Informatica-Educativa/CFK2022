{
 "cells": [
  {
   "cell_type": "code",
   "execution_count": 2,
   "id": "0c799296-93f7-4633-a32a-0f48ea7c0555",
   "metadata": {},
   "outputs": [],
   "source": [
    "import pandas as pd"
   ]
  },
  {
   "cell_type": "code",
   "execution_count": 3,
   "id": "a54816e6-31aa-4a0a-a19d-f5fe1600861b",
   "metadata": {},
   "outputs": [],
   "source": [
    "indtransversal={'TT11':'Desempeño de los estudiantes en pruebas estandarizadas (Saber 11 y PISA) en áreas STEM', 'TT21':'El Proyecto Educativo Institucional (PEI) y el Modelo de Evaluación Institucional integran el pensamiento computacional a sus currículos',             'TT31':'Número de estudiantes mujeres que buscan estudiar un programa STEM',             'TT41':'Indicadores de autonomía económica, física y de decisión propuestos por la CEPAL',             'TB51':'Nuevos proyectos reconocen la experiencia del Reino Unido y el British Council como actores importantes en la promoción de la alfabetización digital en Colombia',             'TC61':'# de docentes/institución que lideran y conforman grupos/redes sobre el proceso enseñanza-aprendizaje del pensamiento computacional',             'TC71':'% de instituciones que definen y realizan evaluaciones formativas a sus procesos y actualizan sus curriculos institucionales',             'TA81':'% de publicaciones realizadas por docentes de las vigencias previas',             'TA82':'% de publicaciones que evidencian dinamización por parte de embajadores o docentes de vigencias previas.','TA83':'Analíticas de participación en Facebook'}       \n",
    "indmediano={'MA11':'# de docentes aprendiendo de sus colegas sobre pensamiento computacional','MA12':'% de docentes aprendiendo de sus colegas sobre pensamiento computacional','MA13':'% de instituciones que realizan procesos de seguimiento para actualizan su currículo institucional a partir de la','MC21':'% de instituciones que cuentan con un sistema de monitoreo y lo utilizan para su  planeación estretagica','MC31':'% de instituciones que implementan estrategias para la continuidad de la formación y reconocimiento de oportunidades laborales relacionadas con ciencias de la computación y áreas afines a sus estudiantes en comparación con su nivel inicial','MC41':'% de instituciones que implementan estrategias en pro de la igualdad de oportunidades a niños y niñas en comparación con su nivel inicial','MC51':'% de instituciones que implementan estrategias inclusivas en comparación con su nivel inicial','MC61':'% de docentes del área de tecnología e informática que tienen acceso, participan y apoyan la formación profesional docente','MB71':'% de instituciones que ajustan sus planes de estudio y los articulan con su visión institucional','MF81':'Número de alumnos y alumnas que muestran actitudes que permiten la participación a mujeres y niñas en varios contextos.','MG91':'# de docentes utilizando la App y el dashboard','MG92':'% de docentes utilizando la App y el dashboard','MG93':'# de estudiantes utilizando la App'}\n",
    "indcorto={'CF11':'Cambios en los conocimientos técnicos de contenido de los tutores y las creencias sobre la relación género-profesión (estereotipos) después de participar en el programa','CF21':'Cambios en los conocimientos técnicos de contenido de los docentes','CF22':'Cambios en los conocimientos pedagógicos de contenido de los docentes','CF23':'Cambios en la autoeficacia sobre el pensamiento computacional de los docentes','CF24':'Desempeño de los docente en las actividades de evaluación del curso','CF25':'Desempeño de los docente en las actividades de evaluación del programa dado su tiempo de conexión y frecuencia','CF31':'% de docentes que cambian sus creencias sobre la relación género-profesión (estereotipos en áreas STEM) después de participar en el programa','CF32':'# de docentes que cambian sus creencias sobre la relación género-profesión (estereotipos en áreas STEM) después de participar en el programa','CF33':'# de docentes que consideran implementar nuevas estrategias en el aula para promover la igualdad de género después de participar en el programa',             'CF34':'% de docentes que consideran implementar nuevas estrategias en el aula para promover la igualdad de género después de participar en el programa','CF41':'% de docentes participante usan prácticas pedagógicas basadas en evidencia','CF51':'% de docentes participantes que muestran un menor sesgo de género en comparación con su nivel inicial','CA61':'% de docentes compartiendo su conocimiento y capacidades con otros colegas del programa','CA71':'Cambios en el conocimiento tecnológico, pedagógico y técnico','CC81':'Experiencia de los y las estudiantes sobre la estrategia diferenciada en los Code Fest realizados','CA91':'Experiencia de los y las docentes sobre la estrategia diferenciada teacher challenge','CA101':'Cambios en la autoeficacia tecnológica y del Pensamiento computacional de los docentes desagregado por género','CC111':'Cambios en los conocimientos técnicos de contenido de los mentores y las creencias sobre la relación género-profesión (estereotipos) después de participar en el programa','CG121':'% de estudiantes que mejoran su desempeño en actividades del pensamiento computacional','CC131':'% de estudiantes que mejoran su desempeño en actividades del pensamiento computacional','CG141':'Interés de las estudiantes en perseguir carreras en áreas STEM','CG151':'Desempeño en la aplicación desagregado por género','CG161':'% de estudiantes que reportan mayor consciencia ambiental en el instrumento de medición','CG171':'# de niñas y niños que acceden a la app','CG181':'# de docentes utilizando el dashboard','CG182':'% de docentes utilizando el dashboard'}\n",
    "indsalida={'SF11':'Número de profesores participantes en el nivel inicial / Número de profesores participantes esperados en el nivel inicial','SF12':'% de participación','SF13':'% de aprobación','SF14':'% de aprobación por nivel','SF15':'# de avance los profesores en las actividades del curso','SF16':'% de avance los profesores en las actividades del curso','SF17':'# de actividades aprobadas','SF18':'% de actividades aprobadas','SF19':'# de actividades aprobadas relacionadas con la perspectiva de género','SF110':'% de actividades aprobadas relacionadas con la perspectiva de género','SF111':'# actividades de evaluación completadas por los profesores','SF112':'% actividades de evaluación completadas por los profesores','SF21':'Número de profesores participantes en el nivel inicial / Número de profesores participantes esperados en el nivel inicial','SF22':'% de participación','SF23':'% de aprobación','SF24':'% de aprobación por nivel','SF25':'% de avance los profesores en las actividades del curso','SF26':'# de avance los profesores en las actividades del curso','SF27':'% de actividades aprobadas','SF28':'# de actividades aprobadas','SF29':'% de actividades aprobadas relacionadas con la perspectiva de género','SF210':'# de actividades aprobadas relacionadas con la perspectiva de género','SF211':'% actividades de evaluación completadas por los profesores','SF212':'# actividades de evaluación completadas por los profesores','SF31':'# de docentes participantes que muestran evidencia de implementación con sus estudiantes','SF41':'# de docentes asignados por mentor','SF42':'% de docentes asignados por mentor','SF51':'# de docentes visitados para observación de clases y tutoría durante la implementación','SF52':'% de docentes que mejoran su práctica pedagógica posterior a la observación-retroalimentacíón','SF53':'% de docentes que promueven el aprendizaje independiente entre sus estudiantes y consideran sus conocimientos previos','SC61':'# de planes de acompañamiento entregados a los colegios CFK','SC71':'# visitas realizadas por colegio CFK, diagnóstico, formación situada y cierre','SC81':'# de Colegios CFK que realizan su propio Micro:bit Challenge','SC91':'# de colegios CFK que participan en el CodeFest Regional','SC101':'# de docentes que participan en el CodeFest Regional','SC111':'# de niños y niñas que participan en el CodeFest Nacional','SA121':'# de seguidores nuevos(as) en la fanpage de Facebook','SA131':'% de los docentes interactúan con las publicaciones del grupo','SG141':'# de aplicaciones para el desarrollo de las habilidades del pensamiento computacional que incluyen actividades para estudiantes mujeres','SG151':'# de descargas','SG161':'# de usuarios que completan al menos una actividad en la aplicación'}\n",
    "indactividad={'AF11':'# implemented program components / # of designed components','AF12':'% implemented program components / of designed components','AF13':'% de sesiones programadas por tutores, módulos y actividades para los docentes participantes, discriminando el componente de género.','AF14':'# de sesiones programadas por tutores, módulos y actividades para los docentes participantes, discriminando el componente de género.','AF15':'#  de participantes que completan las actividades semanales del programa','AF16':'%  de participantes que completan las actividades semanales del programa','AF17':'Participación de los docentes en los foros de discusión','AF18':'# de sesiones virtuales y presenciales dirigidas por los tutores','AF19':'# de docentes que participan en las sesiones guiadas por los tutores','AF110':'% de docentes que participan en las sesiones guiadas por los tutores','AF21':'# implemented program components / # of designed components','AF22':'% implemented program components /  designed components','AF23':'# de sesiones programadas por tutores, módulos y actividades para los docentes participantes, discriminando el componente de género.',           'AF24':'% de sesiones programadas por tutores, módulos y actividades para los docentes participantes, discriminando el componente de género.','AF25':'#  de participantes que completan las actividades semanales del programa','AF26':'%  de participantes que completan las actividades semanales del programa','AF27':'Participación de los docentes en los foros de discusión','AF28':'# de sesiones virtuales y presenciales dirigidas por los tutores','AF29':'# de docentes que participan en las sesiones guiadas por los tutores','AF210':'% de docentes que participan en las sesiones guiadas por los tutores',          'AF31':'# de materiales educativos para promover el desarrollo del pensamiento computacional','AF41':'Número de protocolos de lenguaje inclusivo','AF51':'# de mentores capacitados en pensamiento computacional, el dispositivo micro:bit y la brecha de género en áreas STEM','AF61':'# de dispositivos micro:bit por docente que culmine el curso','AF71':'# de modelos a seguir colombianos de las áreas STEM presentados en el programa','AF81':'# de materiales de aprendizaje que discuten la brecha de género en áreas STEM','AF91':'# de sesiones de práctica y retroalimentación dirigidas por los tutores del programa','AF101':'# de docentes que implementan los materiales de aprendizaje con sus estudiantes','AF111':'# de docentes visitados para observación de aula y mentoría','AF112':'# de colegios CFK visitados para observación con aula y retroalimentación','AA121':'La estrategia para consolidar la comunidad de aprendizaje','AA131':'# de publicaciones','AA141':'#  de insignias asignadas','AA142':'# de embajadores seleccionados','AA151':'Diseño de sistema de incentivos','AA161':'# de experiencias publicadas','AG171':'La APP GreenTIC para el desarrollo de las habilidades del pensamiento computacional está disponible en las tiendas de aplicaciones y se encuentra actualizada','AG181':'Evidencia de la estrategia de difusión','AG191':'Casos reportados a los canales de soporte y soluciones implementadas','AG201':'# de instituciones visitadas','AG211':'Campaña de incentivos dirigida a estudiantes, docentes e instituciones oficiales','AC221':'# de sesiones de capacitación a mentores de la estrategia de consolidación','AC231':'# de visitas por institución','AC232':'# de sesiones sincrónicas de apoyo por institución','AC233':'% de completitud de las actividades que conforman cada momento','AC241':'planes de acompañamiento institucional / 250 planes propuestos','AC251':'Sección disponible en la página web dedicada a la estrategia de consolidación','AC252':'Contenido de apoyo al desarrollo del pensamiento computacional que incluya actividades desconectadas, información sobre proyectos y orientaciones','AC261':'# de eventos virtuales organizados','AC262':'# de estudiantes que participan en los eventos virtuales','AC271':'Evento presencial'}"
   ]
  },
  {
   "cell_type": "code",
   "execution_count": 5,
   "id": "01b134b6-d0c5-4d9b-85d8-1799e806ff61",
   "metadata": {},
   "outputs": [
    {
     "name": "stderr",
     "output_type": "stream",
     "text": [
      "C:\\Users\\cvieira\\Anaconda3\\envs\\cfk2022_env\\lib\\site-packages\\openpyxl\\worksheet\\_reader.py:312: UserWarning: Data Validation extension is not supported and will be removed\n",
      "  warn(msg)\n"
     ]
    }
   ],
   "source": [
    "dfe=pd.read_excel(\"indicador.xlsx\",sheet_name=1)"
   ]
  },
  {
   "cell_type": "code",
   "execution_count": 10,
   "id": "62a92448-6d51-430c-92cd-2da2d967f38b",
   "metadata": {},
   "outputs": [
    {
     "data": {
      "text/plain": [
       "['Evento',\n",
       " 'Componente',\n",
       " 'Objetivo',\n",
       " 'Indicador',\n",
       " 'Valor actual',\n",
       " 'Meta',\n",
       " 'Porcentaje',\n",
       " 'Fecha de corte',\n",
       " 'Unnamed: 8']"
      ]
     },
     "execution_count": 10,
     "metadata": {},
     "output_type": "execute_result"
    }
   ],
   "source": [
    "dfe.columns.tolist()"
   ]
  },
  {
   "cell_type": "code",
   "execution_count": 11,
   "id": "34338784-46e5-4ce4-b2e2-ef2c5d03db79",
   "metadata": {},
   "outputs": [],
   "source": [
    "dfe=dfe.drop('Unnamed: 8',axis=1)"
   ]
  },
  {
   "cell_type": "code",
   "execution_count": 12,
   "id": "b7b4c5f8-599b-45cf-a511-00cc564e41ca",
   "metadata": {},
   "outputs": [
    {
     "data": {
      "text/html": [
       "<div>\n",
       "<style scoped>\n",
       "    .dataframe tbody tr th:only-of-type {\n",
       "        vertical-align: middle;\n",
       "    }\n",
       "\n",
       "    .dataframe tbody tr th {\n",
       "        vertical-align: top;\n",
       "    }\n",
       "\n",
       "    .dataframe thead th {\n",
       "        text-align: right;\n",
       "    }\n",
       "</style>\n",
       "<table border=\"1\" class=\"dataframe\">\n",
       "  <thead>\n",
       "    <tr style=\"text-align: right;\">\n",
       "      <th></th>\n",
       "      <th>Evento</th>\n",
       "      <th>Componente</th>\n",
       "      <th>Objetivo</th>\n",
       "      <th>Indicador</th>\n",
       "      <th>Valor actual</th>\n",
       "      <th>Meta</th>\n",
       "      <th>Porcentaje</th>\n",
       "      <th>Fecha de corte</th>\n",
       "    </tr>\n",
       "  </thead>\n",
       "  <tbody>\n",
       "    <tr>\n",
       "      <th>0</th>\n",
       "      <td>Transversal</td>\n",
       "      <td>Transversal</td>\n",
       "      <td>Los egresados de las instituciones educativas ...</td>\n",
       "      <td>TT11</td>\n",
       "      <td></td>\n",
       "      <td>NaN</td>\n",
       "      <td>NaN</td>\n",
       "      <td>NaN</td>\n",
       "    </tr>\n",
       "    <tr>\n",
       "      <th>1</th>\n",
       "      <td>Transversal</td>\n",
       "      <td>Transversal</td>\n",
       "      <td>Un sistema educativo con un currículo y un con...</td>\n",
       "      <td>TT21</td>\n",
       "      <td></td>\n",
       "      <td>NaN</td>\n",
       "      <td>NaN</td>\n",
       "      <td>NaN</td>\n",
       "    </tr>\n",
       "    <tr>\n",
       "      <th>2</th>\n",
       "      <td>Transversal</td>\n",
       "      <td>Transversal</td>\n",
       "      <td>Más mujeres estudian y se nteresan en programa...</td>\n",
       "      <td>TT31</td>\n",
       "      <td></td>\n",
       "      <td>NaN</td>\n",
       "      <td>NaN</td>\n",
       "      <td>NaN</td>\n",
       "    </tr>\n",
       "    <tr>\n",
       "      <th>3</th>\n",
       "      <td>Transversal</td>\n",
       "      <td>Transversal</td>\n",
       "      <td>Las mujeres y las niñas poseen la conciencia, ...</td>\n",
       "      <td>TT41</td>\n",
       "      <td></td>\n",
       "      <td>NaN</td>\n",
       "      <td>NaN</td>\n",
       "      <td>NaN</td>\n",
       "    </tr>\n",
       "    <tr>\n",
       "      <th>4</th>\n",
       "      <td>Transversal</td>\n",
       "      <td>Valor del British Council</td>\n",
       "      <td>Posicionar la experiencia y la tecnología del ...</td>\n",
       "      <td>TB51</td>\n",
       "      <td></td>\n",
       "      <td>NaN</td>\n",
       "      <td>NaN</td>\n",
       "      <td>NaN</td>\n",
       "    </tr>\n",
       "  </tbody>\n",
       "</table>\n",
       "</div>"
      ],
      "text/plain": [
       "        Evento                 Componente  \\\n",
       "0  Transversal                Transversal   \n",
       "1  Transversal                Transversal   \n",
       "2  Transversal                Transversal   \n",
       "3  Transversal                Transversal   \n",
       "4  Transversal  Valor del British Council   \n",
       "\n",
       "                                            Objetivo Indicador Valor actual  \\\n",
       "0  Los egresados de las instituciones educativas ...      TT11                \n",
       "1  Un sistema educativo con un currículo y un con...      TT21                \n",
       "2  Más mujeres estudian y se nteresan en programa...      TT31                \n",
       "3  Las mujeres y las niñas poseen la conciencia, ...      TT41                \n",
       "4  Posicionar la experiencia y la tecnología del ...      TB51                \n",
       "\n",
       "   Meta  Porcentaje  Fecha de corte  \n",
       "0   NaN         NaN             NaN  \n",
       "1   NaN         NaN             NaN  \n",
       "2   NaN         NaN             NaN  \n",
       "3   NaN         NaN             NaN  \n",
       "4   NaN         NaN             NaN  "
      ]
     },
     "execution_count": 12,
     "metadata": {},
     "output_type": "execute_result"
    }
   ],
   "source": [
    "dfe.head()"
   ]
  },
  {
   "cell_type": "code",
   "execution_count": 13,
   "id": "8b289000-d559-4dcc-8794-dc9da00a3d72",
   "metadata": {},
   "outputs": [],
   "source": [
    "dfe['Indicador']=dfe['Indicador'].replace(indtransversal)\n",
    "dfe['Indicador']=dfe['Indicador'].replace(indcorto)\n",
    "dfe['Indicador']=dfe['Indicador'].replace(indmediano)\n",
    "dfe['Indicador']=dfe['Indicador'].replace(indsalida)\n",
    "dfe['Indicador']=dfe['Indicador'].replace(indactividad)"
   ]
  }
 ],
 "metadata": {
  "kernelspec": {
   "display_name": "Python 3 (ipykernel)",
   "language": "python",
   "name": "python3"
  },
  "language_info": {
   "codemirror_mode": {
    "name": "ipython",
    "version": 3
   },
   "file_extension": ".py",
   "mimetype": "text/x-python",
   "name": "python",
   "nbconvert_exporter": "python",
   "pygments_lexer": "ipython3",
   "version": "3.10.4"
  }
 },
 "nbformat": 4,
 "nbformat_minor": 5
}
