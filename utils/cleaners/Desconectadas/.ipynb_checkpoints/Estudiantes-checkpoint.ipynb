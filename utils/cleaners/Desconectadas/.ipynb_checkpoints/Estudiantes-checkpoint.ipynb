{
 "cells": [
  {
   "cell_type": "code",
   "execution_count": 1,
   "id": "908950da-f6b4-4155-b4b6-4eec722ee5e9",
   "metadata": {},
   "outputs": [],
   "source": [
    "import pandas as pd"
   ]
  },
  {
   "cell_type": "code",
   "execution_count": 397,
   "id": "710ee0c5-21c6-42e2-82cf-a1e0e8f90fae",
   "metadata": {
    "tags": []
   },
   "outputs": [
    {
     "name": "stderr",
     "output_type": "stream",
     "text": [
      "C:\\Users\\cvieira\\Anaconda3\\envs\\cfk2022_env\\lib\\site-packages\\openpyxl\\worksheet\\_reader.py:312: UserWarning: Data Validation extension is not supported and will be removed\n",
      "  warn(msg)\n",
      "C:\\Users\\cvieira\\Anaconda3\\envs\\cfk2022_env\\lib\\site-packages\\openpyxl\\worksheet\\_reader.py:312: UserWarning: Data Validation extension is not supported and will be removed\n",
      "  warn(msg)\n",
      "C:\\Users\\cvieira\\Anaconda3\\envs\\cfk2022_env\\lib\\site-packages\\openpyxl\\worksheet\\_reader.py:312: UserWarning: Data Validation extension is not supported and will be removed\n",
      "  warn(msg)\n",
      "C:\\Users\\cvieira\\Anaconda3\\envs\\cfk2022_env\\lib\\site-packages\\openpyxl\\worksheet\\_reader.py:312: UserWarning: Data Validation extension is not supported and will be removed\n",
      "  warn(msg)\n",
      "C:\\Users\\cvieira\\Anaconda3\\envs\\cfk2022_env\\lib\\site-packages\\openpyxl\\worksheet\\_reader.py:312: UserWarning: Data Validation extension is not supported and will be removed\n",
      "  warn(msg)\n",
      "C:\\Users\\cvieira\\Anaconda3\\envs\\cfk2022_env\\lib\\site-packages\\openpyxl\\worksheet\\_reader.py:312: UserWarning: Data Validation extension is not supported and will be removed\n",
      "  warn(msg)\n",
      "C:\\Users\\cvieira\\Anaconda3\\envs\\cfk2022_env\\lib\\site-packages\\openpyxl\\worksheet\\_reader.py:312: UserWarning: Data Validation extension is not supported and will be removed\n",
      "  warn(msg)\n",
      "C:\\Users\\cvieira\\Anaconda3\\envs\\cfk2022_env\\lib\\site-packages\\openpyxl\\worksheet\\_reader.py:312: UserWarning: Data Validation extension is not supported and will be removed\n",
      "  warn(msg)\n",
      "C:\\Users\\cvieira\\Anaconda3\\envs\\cfk2022_env\\lib\\site-packages\\openpyxl\\worksheet\\_reader.py:312: UserWarning: Data Validation extension is not supported and will be removed\n",
      "  warn(msg)\n",
      "C:\\Users\\cvieira\\Anaconda3\\envs\\cfk2022_env\\lib\\site-packages\\openpyxl\\worksheet\\_reader.py:312: UserWarning: Data Validation extension is not supported and will be removed\n",
      "  warn(msg)\n",
      "C:\\Users\\cvieira\\Anaconda3\\envs\\cfk2022_env\\lib\\site-packages\\openpyxl\\worksheet\\_reader.py:312: UserWarning: Data Validation extension is not supported and will be removed\n",
      "  warn(msg)\n",
      "C:\\Users\\cvieira\\Anaconda3\\envs\\cfk2022_env\\lib\\site-packages\\openpyxl\\worksheet\\_reader.py:312: UserWarning: Data Validation extension is not supported and will be removed\n",
      "  warn(msg)\n",
      "C:\\Users\\cvieira\\Anaconda3\\envs\\cfk2022_env\\lib\\site-packages\\openpyxl\\worksheet\\_reader.py:312: UserWarning: Data Validation extension is not supported and will be removed\n",
      "  warn(msg)\n",
      "C:\\Users\\cvieira\\Anaconda3\\envs\\cfk2022_env\\lib\\site-packages\\openpyxl\\worksheet\\_reader.py:312: UserWarning: Data Validation extension is not supported and will be removed\n",
      "  warn(msg)\n",
      "C:\\Users\\cvieira\\Anaconda3\\envs\\cfk2022_env\\lib\\site-packages\\openpyxl\\worksheet\\_reader.py:312: UserWarning: Data Validation extension is not supported and will be removed\n",
      "  warn(msg)\n"
     ]
    }
   ],
   "source": [
    "df1= pd.read_excel('65.xlsx')\n",
    "df2=pd.read_excel('70.xlsx')\n",
    "df3=pd.read_excel('111.xlsx')\n",
    "df4=pd.read_excel('122.xlsx')\n",
    "df5=pd.read_excel('101.xlsx')\n",
    "df6=pd.read_excel('155.xlsx')\n",
    "df7=pd.read_excel('156.xlsx')\n",
    "df8=pd.read_excel('157.xlsx')\n",
    "df9=pd.read_excel('158.xlsx')\n",
    "df10=pd.read_excel('159.xlsx')\n",
    "df11=pd.read_excel('160.xlsx')\n",
    "df12=pd.read_excel('161.xlsx')\n",
    "df13=pd.read_excel('214.xlsx')\n",
    "df14=pd.read_excel('215.xlsx')\n",
    "df15=pd.read_excel('139.xlsx')\n",
    "df16=pd.read_excel('138.xlsx')\n",
    "df17=pd.read_excel('137.xlsx')\n",
    "df18=pd.read_excel('136.xlsx')\n",
    "df19=pd.read_excel('135.xlsx')\n",
    "df20=pd.read_excel('140.xlsx')\n",
    "df21=pd.read_excel('134.xlsx')\n",
    "\n",
    "\n",
    "dataframe=[df1,df2,df3,df4,df5,df6,df7,df8,df9,df10,df11,df12,df13,df14,df15,df16,df17,df18,df19,df20,df21]\n",
    "df=pd.concat(dataframe)"
   ]
  },
  {
   "cell_type": "code",
   "execution_count": 398,
   "id": "4fad5e93-f6e5-4cf5-a5c9-22e0f8d363fa",
   "metadata": {},
   "outputs": [],
   "source": [
    "df=df.drop(df.columns[[6, 7]], axis=1)\n",
    "df=df.set_axis(range(0,69), axis=1)\n",
    "df=df.drop([0], axis=0)\n",
    "df=df.reset_index()\n",
    "\n",
    "df['N registro']=df.index\n",
    "df['N registro'] = \"D\"+df['N registro'].astype(str)\n",
    "df['Instrumento'] = 'Encuesta estudiantes'\n",
    "df['Tipo de discapacidad']=None\n",
    "df['Fecha']='01/06'\n",
    "df['ID']=0"
   ]
  },
  {
   "cell_type": "code",
   "execution_count": 399,
   "id": "afcdf91b-b98d-4090-93eb-aa5b2dfd9cba",
   "metadata": {},
   "outputs": [],
   "source": [
    "dict_col={0:'Nombre',\n",
    " 1:'Código IE',\n",
    " 2:'Grado',3:'Grupo',\n",
    " 4:'Número de lista',\n",
    " 5:'Edad',\n",
    " 6:'Deseo participar en el estudio',7:'Sexo',8:'¿Te reconoces como una persona con algún tipo de discapacidad?',\n",
    " 9:'Sector vivienda',\n",
    " 10:'Internet',\n",
    " 11:'Uso del dispositivo móvil',12:'Conoce GreenTIC',\n",
    " 13:'Nivel escolaridad madre',\n",
    " 14:'Nivel escolaridad padre',\n",
    " 15:'Ocupación madre',\n",
    " 16:'Ocupación padre',\n",
    " 17:'¿Con quién vives?',18:'1.1. Ingeniería',19:'1.2 Matemáticas',20:'1.3 Educación',21:'1.4 Medicina',22:'1.5 Diseño gráfico',\n",
    " 23:'1.6 Química',24:'1.7 Enfermería',25: '1.8 Desarrollo de software',26: '2.1 Soy capaz de sacar buenas notas en esta asignatura',\n",
    " 27:'2.2 Si me va bien en esta asignatura, me ayudará en mi futura ocupación',\n",
    " 28:'2.3 A mis padres les gustaría que eligiera un futuro profesional relacionado a esta asignatura',\n",
    "29:'2.4 Sé de alguien en mi familia que utiliza conocimientos relacionados a esta asignatura en su ocupación',\n",
    "30:'Comentarios 1-2',31: 'Un algoritmo es:',32: '¿Para qué sirven los algoritmos?',33: 'Un bucle es:',34:'3.1 Siento que soy capaz de explicar lo que es el pensamiento computacional',\n",
    " 35:'3.2 Siento que puedo enumerar las sub-habilidades que componen el pensamiento computacional',\n",
    " 36:'3.3 Siento que soy capaz de dar ejemplos para explicar las sub-habilidades del pensamiento computacional',\n",
    " 37:'3.4 Siento que puedo explicar la forma en que las sub-habilidades del pensamiento computacional se correlacionan con la programación',\n",
    " 38:'3.5 Siento que puedo analizar un ejercicio y determinar qué sub-habilidades de pensamiento computacional busca desarrollar',\n",
    " 39:'3.6 Siento que puedo resolver problemas a través de programación',\n",
    " 40:'3.7 Siento que puedo implementar algoritmos',\n",
    " 41:'3.8 Siento que puedo crear un programa de computador',\n",
    " 42:'3.9 Siento que puedo automatizar tareas a través de la programación',\n",
    " 43:'3.10 Siento que puedo utilizar la computación para resolver problemas simples',44:'Comentarios P3',\n",
    "45:'¿Cuál de las siguientes opciones sí le permite al robot completar la misión de fotografiar cada tortuga?',46:'¿Qué mensaje deseaba enviar la líder Wayuú?',\n",
    " 47:'¿Cuál de los siguientes códigos permite que el robot complete su misión sembrando café?', 48: '¿Cuál será la foto con más vistas?',\n",
    " 49:'Ayuda al robot verde a salir del laberinto', \n",
    "50: 'Óscar lleva 2 loncheras a la escuela todos los días ¿Cuál de las siguientes afirmaciones es falsa?',\n",
    " 51:'¿Cuál de las siguientes hamburguesas tiene los ingredientes A, E y F?', 52:'¿Qué botella debe cambiarse de color para que el resultado final sea una botella de color blanco?',\n",
    " 53:'Comentarios conocimiento', 54:'5.1 ¿Quién crees que ganará el concurso de matemáticas?', 55:'5.2 ¿Quién crees que es capitán del barco?',56:'5.3 ¿Quién es la persona excluida de la construcción de la casa de madera?',\n",
    " 57: '5.4 ¿Quién crees que es el personaje que está sentado y esperando junto a la ventana?',\n",
    " 58:'5.5 ¿Quién es la persona que trabaja en educación?',\n",
    " 59:'5.6 ¿Quién crees que es la persona que prefiere estudiar ingeniería?',\n",
    " 60:'Comentarios género',        \n",
    " 61:'4.1 Es alarmante que el ritmo de desaparición de especies en la Amazonia Colombiana sea cada vez mayor.',\n",
    " 62:'4.2 El aumento de la temperatura atmosférica se debe al uso creciente y continuado de combustibles fósiles (carbón, petróleo…).',\n",
    " 63: '4.3 La acumulación de basura procedente de las ciudades es un problema realmente grave.',\n",
    " 64: '4.4 Hay una disminución de la superficie forestal y de áreas naturales en el país.',\n",
    " 65: '4.5 El planeta está tan contaminado por productos químicos que ya supone un problema para la salud.',\n",
    " 66: '4.6 Conozco los riesgos que representa para la vida humana la desaparición de especies animales y vegetales.',\n",
    " 67: '4.7 Me preocupa lo que sucede con la tala de árboles.',\n",
    " 68:'Comentarios medioambiente'}\n",
    "df= df.rename(columns=dict_col)"
   ]
  },
  {
   "cell_type": "code",
   "execution_count": 400,
   "id": "6a171913-6dc1-4795-b05d-716d4db4db54",
   "metadata": {},
   "outputs": [],
   "source": [
    "df1=df.copy()\n",
    "df1.loc[(df1['N registro']=='D0'),'Número de lista'] =9\n",
    "df1.loc[(df1['N registro']=='D3'),'Número de lista'] =27\n",
    "df1.loc[(df1['N registro']=='D13'),'Número de lista'] =24\n",
    "df1.loc[(df1['N registro']=='D17'),'Número de lista'] =14\n",
    "df1.loc[(df1['N registro']=='D24'),'Número de lista'] =17\n",
    "df1.loc[(df1['N registro']=='D46'),'Número de lista'] =28\n",
    "df1.loc[(df1['N registro']=='D47'),'Número de lista'] =32\n",
    "df1.loc[(df1['N registro']=='D56'),'Número de lista'] =27\n",
    "df1.loc[(df1['N registro']=='D65'),'Número de lista'] =4\n",
    "df1.loc[(df1['N registro']=='D70'),'Número de lista'] =28\n",
    "df1.loc[(df1['N registro']=='D75'),'Número de lista'] =26\n",
    "df1.loc[(df1['N registro']=='D87'),'Número de lista'] =8\n",
    "df1.loc[(df1['N registro']=='D106'),'Número de lista'] =19\n",
    "df1= df1[df1['Número de lista'] > 0]\n",
    "df1= df1[df1['Número de lista'] < 101]"
   ]
  },
  {
   "cell_type": "code",
   "execution_count": 401,
   "id": "2513ae39-2c96-47bc-801f-635c614f1b0f",
   "metadata": {},
   "outputs": [],
   "source": [
    "df1.loc[(df1['N registro']=='D375'),'Sexo']='B'\n",
    "df1.loc[(df1['N registro']=='D383'),'Sexo']='B'\n",
    "df1.loc[(df1['N registro']=='D395'),'Sexo']='B'\n",
    "df1.loc[(df1['N registro']=='D652'),'Sexo']='B'\n",
    "df1.loc[(df1['N registro']=='D412'),'Sexo']='B'\n",
    "df1.loc[(df1['N registro']=='D197'),'Sexo']='B'"
   ]
  },
  {
   "cell_type": "code",
   "execution_count": 402,
   "id": "23232a0b-b133-41e4-8401-dc62d5cb0e22",
   "metadata": {},
   "outputs": [],
   "source": [
    "df1=df1.dropna(subset=[\"Grupo\"],inplace=False)\n",
    "df1=df1.dropna(subset=[\"Número de lista\"],inplace=False)\n",
    "df1=df1.dropna(subset=[\"Grado\"],inplace=False)\n",
    "df1=df1.dropna(subset=[\"Código IE\"],inplace=False)\n",
    "df1[\"Grupo\"]=df1[\"Grupo\"].replace(r'[Aa](.*)',\"01\",regex=True)\n",
    "df1[\"Grupo\"]=df1[\"Grupo\"].replace(r'[Bb](.*)',\"02\",regex=True) #regex buscador\n",
    "df1[\"Grupo\"]=df1[\"Grupo\"].replace(r'[Cc](.*)',\"03\",regex=True)\n",
    "df1[\"Grupo\"]=df1[\"Grupo\"].replace(r'[Dd](.*)',\"04\",regex=True)\n",
    "df1[\"Grupo\"]=df1[\"Grupo\"].replace(r'[Ff](.*)',\"06\",regex=True)\n",
    "df1[\"Grupo\"]=df1[\"Grupo\"].replace(r'[Gg](.*)',\"07\",regex=True)\n",
    "df1[\"Grupo\"]=df1[\"Grupo\"].replace(r'[Hh](.*)',\"08\",regex=True)\n",
    "df1[\"Grupo\"]=df1[\"Grupo\"].astype(float).astype(int)"
   ]
  },
  {
   "cell_type": "code",
   "execution_count": 403,
   "id": "d00f2ac6-3b4e-4d85-8240-dfda00110a37",
   "metadata": {},
   "outputs": [],
   "source": [
    "df1[\"Número de lista\"]=df1[\"Número de lista\"].astype(float).astype(int)\n",
    "df1[\"Código IE\"]=df1[\"Código IE\"].astype(float).astype(int)"
   ]
  },
  {
   "cell_type": "code",
   "execution_count": 404,
   "id": "65c2bee0-13b7-490f-a8ce-2a1d92cf18cb",
   "metadata": {},
   "outputs": [],
   "source": [
    "diccionariogrados={'Noveno ':\"09\",'Noveno':\"09\", 'Octavo':\"08\", 'Sexto ':\"06\",'Sexto':\"06\", 'Décimo':\"10\", 'Séptimo':\"07\", 'Once':\"11\", 'Quinto':\"05\"}\n",
    "df1[\"Grado\"]=df1[\"Grado\"].replace(diccionariogrados)\n",
    "df1[\"Grado\"]=df1[\"Grado\"].astype(float).astype(int)"
   ]
  },
  {
   "cell_type": "code",
   "execution_count": 405,
   "id": "2ad18c75-e6ae-44a1-b191-c61f9b100da0",
   "metadata": {
    "tags": []
   },
   "outputs": [],
   "source": [
    "df1['Número de lista']=df1['Número de lista'].astype(str).str.zfill(2)\n",
    "df1['Grupo']=df1['Grupo'].astype(str).str.zfill(2)\n",
    "df1['Código IE']=df1['Código IE'].astype(str).str.zfill(3)\n",
    "df1['Grado']=df1['Grado'].astype(str).str.zfill(2)\n",
    "df1['ID']=df1['Código IE']+df1['Grado']+df1['Grupo']+df1['Número de lista']"
   ]
  },
  {
   "cell_type": "code",
   "execution_count": 406,
   "id": "62355ac1",
   "metadata": {
    "collapsed": false,
    "jupyter": {
     "outputs_hidden": false
    },
    "pycharm": {
     "name": "#%%\n"
    }
   },
   "outputs": [],
   "source": [
    "df1['¿Con quién vives?'] = df1['¿Con quién vives?'].str[0]\n",
    "df1['2.1 Soy capaz de sacar buenas notas en esta asignatura']=df1['2.1 Soy capaz de sacar buenas notas en esta asignatura'].str[0]\n",
    "df1['Ocupación padre']= df1['Ocupación padre'].str[0]\n",
    "df1['¿Cuál de los siguientes códigos permite que el robot complete su misión sembrando café?'] = df1['¿Cuál de los siguientes códigos permite que el robot complete su misión sembrando café?'].str[0]"
   ]
  },
  {
   "cell_type": "code",
   "execution_count": 407,
   "id": "af99ed42-3aae-497a-8734-62cad8b18f6f",
   "metadata": {},
   "outputs": [],
   "source": [
    "df1['2.1 Soy capaz de sacar buenas notas en esta asignatura']=df1['2.1 Soy capaz de sacar buenas notas en esta asignatura'].str.capitalize()\n",
    "df1['2.1 Soy capaz de sacar buenas notas en esta asignatura']=df1['2.1 Soy capaz de sacar buenas notas en esta asignatura'].str.replace('H','B')"
   ]
  },
  {
   "cell_type": "code",
   "execution_count": 408,
   "id": "67bd2b0a-8ac5-4fc5-8459-d6923f6549c4",
   "metadata": {},
   "outputs": [],
   "source": [
    "df1['1.2 Matemáticas']=df1['1.2 Matemáticas'].str.replace(\" \",\"\")\n",
    "df1['1.2 Matemáticas']=df1['1.2 Matemáticas'].str.replace(\"Sinrespuesta\",\"D\")\n",
    "df1['1.2 Matemáticas']=df1['1.2 Matemáticas'].str[0]"
   ]
  },
  {
   "cell_type": "code",
   "execution_count": 409,
   "id": "4f46f65a-5dbb-49fc-a2b1-9f3f05cb90b5",
   "metadata": {},
   "outputs": [],
   "source": [
    "df1['¿Para qué sirven los algoritmos?']=df1['¿Para qué sirven los algoritmos?'].str.replace('Sin respuesta','E')\n",
    "df1['Un bucle es:']=df1['Un bucle es:'].str.replace('Sin respuesta','E')"
   ]
  },
  {
   "cell_type": "code",
   "execution_count": 410,
   "id": "4b64ff9d-9718-436c-b520-9c2fa9486568",
   "metadata": {},
   "outputs": [],
   "source": [
    "df1['¿Cuál de los siguientes códigos permite que el robot complete su misión sembrando café?']=df1['¿Cuál de los siguientes códigos permite que el robot complete su misión sembrando café?'].fillna('E')"
   ]
  },
  {
   "cell_type": "code",
   "execution_count": 411,
   "id": "fcc2c3e4-ef3f-41ab-86bc-89434424a013",
   "metadata": {},
   "outputs": [
    {
     "data": {
      "text/plain": [
       "array(['A', 'B', 'D', 'C', 'E', 'F', nan], dtype=object)"
      ]
     },
     "execution_count": 411,
     "metadata": {},
     "output_type": "execute_result"
    }
   ],
   "source": [
    "df1['¿Con quién vives?']=df1['¿Con quién vives?'].str.capitalize()\n",
    "df1['¿Con quién vives?']=df1['¿Con quién vives?'].str.replace('H','B')\n",
    "df1['¿Con quién vives?']=df1['¿Con quién vives?'].str.replace(',','B')\n",
    "df1['¿Con quién vives?']=df1['¿Con quién vives?'].str.replace(' ','B')\n",
    "df1['¿Con quién vives?']=df1['¿Con quién vives?'].str.replace('S','A')\n",
    "df1['¿Con quién vives?']=df1['¿Con quién vives?'].str.replace('N','B')\n",
    "df1['¿Con quién vives?']=df1['¿Con quién vives?'].str.replace('Y','F')\n",
    "df1['¿Con quién vives?']=df1['¿Con quién vives?'].str.replace('V','B')\n",
    "df1['¿Con quién vives?'].unique()"
   ]
  },
  {
   "cell_type": "code",
   "execution_count": 412,
   "id": "37a456cd-e8cb-42b8-acf9-afb0df5bfacf",
   "metadata": {},
   "outputs": [
    {
     "data": {
      "text/plain": [
       "array(['C', 'A', 'D', 'B', 'E', nan], dtype=object)"
      ]
     },
     "execution_count": 412,
     "metadata": {},
     "output_type": "execute_result"
    }
   ],
   "source": [
    "df1['Ayuda al robot verde a salir del laberinto']=df1['Ayuda al robot verde a salir del laberinto'].str.replace(' ','')\n",
    "df1['Ayuda al robot verde a salir del laberinto']=df1['Ayuda al robot verde a salir del laberinto'].str.replace('Sinrespuesta','E')\n",
    "df1['Ayuda al robot verde a salir del laberinto']=df1['Ayuda al robot verde a salir del laberinto'].str[0]\n",
    "df1['Ayuda al robot verde a salir del laberinto']=df1['Ayuda al robot verde a salir del laberinto'].str.replace('S','A')\n",
    "df1['Ayuda al robot verde a salir del laberinto']=df1['Ayuda al robot verde a salir del laberinto'].str.replace('H','B')\n",
    "df1['Ayuda al robot verde a salir del laberinto']=df1['Ayuda al robot verde a salir del laberinto'].str.replace('G','B')\n",
    "df1['Ayuda al robot verde a salir del laberinto']=df1['Ayuda al robot verde a salir del laberinto'].str.replace('F','D')\n",
    "df1['Ayuda al robot verde a salir del laberinto'].unique()"
   ]
  },
  {
   "cell_type": "code",
   "execution_count": 413,
   "id": "cac21253-8e1d-452e-bc50-68b62bad6fff",
   "metadata": {},
   "outputs": [
    {
     "data": {
      "text/plain": [
       "array(['A', 'H', 'B', 'G', 'D', 'E', 'C', 'F', nan], dtype=object)"
      ]
     },
     "execution_count": 413,
     "metadata": {},
     "output_type": "execute_result"
    }
   ],
   "source": [
    "df1['¿Cuál será la foto con más vistas?']=df1['¿Cuál será la foto con más vistas?'].str.capitalize()\n",
    "df1['¿Cuál será la foto con más vistas?']=df1['¿Cuál será la foto con más vistas?'].str.replace(' ','')\n",
    "df1['¿Cuál será la foto con más vistas?'].unique()"
   ]
  },
  {
   "cell_type": "code",
   "execution_count": 414,
   "id": "6cfcf1be-cc28-4bbc-9ed3-a907bed30e5a",
   "metadata": {},
   "outputs": [
    {
     "data": {
      "text/plain": [
       "array(['C', 'E', 'B', 'D', 'A', 'H', nan, 'F', 'S'], dtype=object)"
      ]
     },
     "execution_count": 414,
     "metadata": {},
     "output_type": "execute_result"
    }
   ],
   "source": [
    "df1['¿Qué botella debe cambiarse de color para que el resultado final sea una botella de color blanco?']=df1['¿Qué botella debe cambiarse de color para que el resultado final sea una botella de color blanco?'].str.replace(\" \",\"\")\n",
    "df1['¿Qué botella debe cambiarse de color para que el resultado final sea una botella de color blanco?']=df1['¿Qué botella debe cambiarse de color para que el resultado final sea una botella de color blanco?'].str.replace(\"Sinrespuesta\",\"E\")\n",
    "df1['¿Qué botella debe cambiarse de color para que el resultado final sea una botella de color blanco?']=df1['¿Qué botella debe cambiarse de color para que el resultado final sea una botella de color blanco?'].str[0]\n",
    "df1['¿Qué botella debe cambiarse de color para que el resultado final sea una botella de color blanco?'].unique()"
   ]
  },
  {
   "cell_type": "code",
   "execution_count": 415,
   "id": "d2687883-a329-4878-a5a4-7e2f38ff1297",
   "metadata": {},
   "outputs": [],
   "source": [
    "df1['¿Cuál de las siguientes opciones sí le permite al robot completar la misión de fotografiar cada tortuga?']=df1['¿Cuál de las siguientes opciones sí le permite al robot completar la misión de fotografiar cada tortuga?'].str.replace(\"H\",\"B\")\n",
    "df1['¿Cuál de las siguientes opciones sí le permite al robot completar la misión de fotografiar cada tortuga?']=df1['¿Cuál de las siguientes opciones sí le permite al robot completar la misión de fotografiar cada tortuga?'].str.replace(\"G\",\"B\")\n",
    "df1['¿Cuál de las siguientes opciones sí le permite al robot completar la misión de fotografiar cada tortuga?']=df1['¿Cuál de las siguientes opciones sí le permite al robot completar la misión de fotografiar cada tortuga?'].str.replace(\" \",\"\")\n",
    "df1['¿Cuál de las siguientes opciones sí le permite al robot completar la misión de fotografiar cada tortuga?']=df1['¿Cuál de las siguientes opciones sí le permite al robot completar la misión de fotografiar cada tortuga?'].fillna('Sinrespuesta')\n",
    "df1['¿Cuál de las siguientes opciones sí le permite al robot completar la misión de fotografiar cada tortuga?']=df1['¿Cuál de las siguientes opciones sí le permite al robot completar la misión de fotografiar cada tortuga?'].str.replace(\"Sinrespuesta\",\"E\")"
   ]
  },
  {
   "cell_type": "code",
   "execution_count": 416,
   "id": "81add936-1343-40fc-bc6d-5cc73e4fef1b",
   "metadata": {},
   "outputs": [
    {
     "data": {
      "text/plain": [
       "array(['E', 'B', 'C', 'D', 'A', nan], dtype=object)"
      ]
     },
     "execution_count": 416,
     "metadata": {},
     "output_type": "execute_result"
    }
   ],
   "source": [
    "df1['Óscar lleva 2 loncheras a la escuela todos los días ¿Cuál de las siguientes afirmaciones es falsa?']=df1['Óscar lleva 2 loncheras a la escuela todos los días ¿Cuál de las siguientes afirmaciones es falsa?'].str.replace('Sin respuesta','E')\n",
    "df1['Óscar lleva 2 loncheras a la escuela todos los días ¿Cuál de las siguientes afirmaciones es falsa?']=df1['Óscar lleva 2 loncheras a la escuela todos los días ¿Cuál de las siguientes afirmaciones es falsa?'].str[0]\n",
    "df1['Óscar lleva 2 loncheras a la escuela todos los días ¿Cuál de las siguientes afirmaciones es falsa?']=df1['Óscar lleva 2 loncheras a la escuela todos los días ¿Cuál de las siguientes afirmaciones es falsa?'].str.replace('S','A')\n",
    "df1['Óscar lleva 2 loncheras a la escuela todos los días ¿Cuál de las siguientes afirmaciones es falsa?']=df1['Óscar lleva 2 loncheras a la escuela todos los días ¿Cuál de las siguientes afirmaciones es falsa?'].str.replace('V','C')\n",
    "df1['Óscar lleva 2 loncheras a la escuela todos los días ¿Cuál de las siguientes afirmaciones es falsa?']=df1['Óscar lleva 2 loncheras a la escuela todos los días ¿Cuál de las siguientes afirmaciones es falsa?'].str.replace('H','B')\n",
    "df1['Óscar lleva 2 loncheras a la escuela todos los días ¿Cuál de las siguientes afirmaciones es falsa?']=df1['Óscar lleva 2 loncheras a la escuela todos los días ¿Cuál de las siguientes afirmaciones es falsa?'].str.replace('G','B')\n",
    "df1['Óscar lleva 2 loncheras a la escuela todos los días ¿Cuál de las siguientes afirmaciones es falsa?'].unique()"
   ]
  },
  {
   "cell_type": "code",
   "execution_count": 417,
   "id": "0e4ae668-a802-402f-907f-8c1bce26bbda",
   "metadata": {},
   "outputs": [
    {
     "data": {
      "text/plain": [
       "array(['A', 'E', 'C', 'B', 'D', nan], dtype=object)"
      ]
     },
     "execution_count": 417,
     "metadata": {},
     "output_type": "execute_result"
    }
   ],
   "source": [
    "df1['¿Cuál de las siguientes hamburguesas tiene los ingredientes A, E y F?']=df1['¿Cuál de las siguientes hamburguesas tiene los ingredientes A, E y F?'].str.replace('Sin respuesta','E')\n",
    "df1['¿Cuál de las siguientes hamburguesas tiene los ingredientes A, E y F?']=df1['¿Cuál de las siguientes hamburguesas tiene los ingredientes A, E y F?'].str.replace(' ','')\n",
    "df1['¿Cuál de las siguientes hamburguesas tiene los ingredientes A, E y F?']=df1['¿Cuál de las siguientes hamburguesas tiene los ingredientes A, E y F?'].str.replace('F','D')\n",
    "df1['¿Cuál de las siguientes hamburguesas tiene los ingredientes A, E y F?']=df1['¿Cuál de las siguientes hamburguesas tiene los ingredientes A, E y F?'].str.replace('H','B')\n",
    "df1['¿Cuál de las siguientes hamburguesas tiene los ingredientes A, E y F?']=df1['¿Cuál de las siguientes hamburguesas tiene los ingredientes A, E y F?'].str.replace('V','C')\n",
    "df1['¿Cuál de las siguientes hamburguesas tiene los ingredientes A, E y F?'].unique()"
   ]
  },
  {
   "cell_type": "code",
   "execution_count": 418,
   "id": "050fcb7f-9507-443e-8473-3898beea3f91",
   "metadata": {},
   "outputs": [],
   "source": [
    "df1['1.4 Medicina']=df1['1.4 Medicina'].str.replace('BD','B')\n",
    "df1['1.8 Desarrollo de software']=df1['1.8 Desarrollo de software'].str.replace('V','C')"
   ]
  },
  {
   "cell_type": "code",
   "execution_count": 419,
   "id": "463b1dbe-35c3-435f-9824-1145795d58f4",
   "metadata": {},
   "outputs": [],
   "source": [
    "df1['2.2 Si me va bien en esta asignatura, me ayudará en mi futura ocupación']=df1['2.2 Si me va bien en esta asignatura, me ayudará en mi futura ocupación'].str.capitalize()\n",
    "df1['2.2 Si me va bien en esta asignatura, me ayudará en mi futura ocupación']=df1['2.2 Si me va bien en esta asignatura, me ayudará en mi futura ocupación'].str[0]\n",
    "\n",
    "df1['2.3 A mis padres les gustaría que eligiera un futuro profesional relacionado a esta asignatura']=df1['2.3 A mis padres les gustaría que eligiera un futuro profesional relacionado a esta asignatura'].str.capitalize()\n",
    "df1['2.3 A mis padres les gustaría que eligiera un futuro profesional relacionado a esta asignatura']=df1['2.3 A mis padres les gustaría que eligiera un futuro profesional relacionado a esta asignatura'].str[0]\n",
    "\n",
    "df1['2.4 Sé de alguien en mi familia que utiliza conocimientos relacionados a esta asignatura en su ocupación']=df1['2.4 Sé de alguien en mi familia que utiliza conocimientos relacionados a esta asignatura en su ocupación'].str.capitalize()\n",
    "df1['2.4 Sé de alguien en mi familia que utiliza conocimientos relacionados a esta asignatura en su ocupación']=df1['2.4 Sé de alguien en mi familia que utiliza conocimientos relacionados a esta asignatura en su ocupación'].str[0]\n",
    "\n",
    "df1['3.1 Siento que soy capaz de explicar lo que es el pensamiento computacional']=df1['3.1 Siento que soy capaz de explicar lo que es el pensamiento computacional'].str.capitalize()\n",
    "df1['3.1 Siento que soy capaz de explicar lo que es el pensamiento computacional']=df1['3.1 Siento que soy capaz de explicar lo que es el pensamiento computacional'].str[0]\n",
    "\n",
    "df1['3.2 Siento que puedo enumerar las sub-habilidades que componen el pensamiento computacional']=df1['3.2 Siento que puedo enumerar las sub-habilidades que componen el pensamiento computacional'].str.capitalize()\n",
    "df1['3.2 Siento que puedo enumerar las sub-habilidades que componen el pensamiento computacional']=df1['3.2 Siento que puedo enumerar las sub-habilidades que componen el pensamiento computacional'].str.replace(\" \",\"\")\n",
    "df1['3.2 Siento que puedo enumerar las sub-habilidades que componen el pensamiento computacional']=df1['3.2 Siento que puedo enumerar las sub-habilidades que componen el pensamiento computacional'].str.replace('Sinrespuesta','E')"
   ]
  },
  {
   "cell_type": "code",
   "execution_count": 420,
   "id": "556f4d5d-3d12-40da-9464-2a42314ec9e5",
   "metadata": {},
   "outputs": [],
   "source": [
    "df1['3.3 Siento que soy capaz de dar ejemplos para explicar las sub-habilidades del pensamiento computacional']=df1['3.3 Siento que soy capaz de dar ejemplos para explicar las sub-habilidades del pensamiento computacional'].str.capitalize()\n",
    "df1['3.10 Siento que puedo utilizar la computación para resolver problemas simples']=df1['3.10 Siento que puedo utilizar la computación para resolver problemas simples'].str.replace(\" \",\"\")\n",
    "df1['3.10 Siento que puedo utilizar la computación para resolver problemas simples']=df1['3.10 Siento que puedo utilizar la computación para resolver problemas simples'].str.replace(\"Sinrespuesta\",\"1\")"
   ]
  },
  {
   "cell_type": "code",
   "execution_count": 421,
   "id": "75837c6b-37e9-4fee-a7b7-bd6d02aa747d",
   "metadata": {},
   "outputs": [],
   "source": [
    "df1['3.7 Siento que puedo implementar algoritmos']=df1['3.7 Siento que puedo implementar algoritmos'].str.replace(\" \",\"\")\n",
    "df1['3.7 Siento que puedo implementar algoritmos']=df1['3.7 Siento que puedo implementar algoritmos'].str.replace(\"Nose\",\"1\")\n",
    "df1['3.7 Siento que puedo implementar algoritmos']=df1['3.7 Siento que puedo implementar algoritmos'].str.replace(\"Sinrespuesta\",\"1\")"
   ]
  },
  {
   "cell_type": "code",
   "execution_count": 422,
   "id": "481e601e-2253-4412-9328-f3acae2c6f08",
   "metadata": {},
   "outputs": [],
   "source": [
    "df1['5.1 ¿Quién crees que ganará el concurso de matemáticas?']=df1['5.1 ¿Quién crees que ganará el concurso de matemáticas?'].str.replace(\" \",\"\")\n",
    "df1['5.2 ¿Quién crees que es capitán del barco?']=df1['5.2 ¿Quién crees que es capitán del barco?'].str.replace(\" \",\"\")"
   ]
  },
  {
   "cell_type": "code",
   "execution_count": 423,
   "id": "dddc9179-c5ee-4f50-a447-1b3787e8df32",
   "metadata": {},
   "outputs": [],
   "source": [
    "df1['4.1 Es alarmante que el ritmo de desaparición de especies en la Amazonia Colombiana sea cada vez mayor.']=df1['4.1 Es alarmante que el ritmo de desaparición de especies en la Amazonia Colombiana sea cada vez mayor.'].str.capitalize()\n",
    "df1['4.1 Es alarmante que el ritmo de desaparición de especies en la Amazonia Colombiana sea cada vez mayor.']=df1['4.1 Es alarmante que el ritmo de desaparición de especies en la Amazonia Colombiana sea cada vez mayor.'].str.replace(\" \",\"\")\n",
    "df1['4.3 La acumulación de basura procedente de las ciudades es un problema realmente grave.']=df1['4.3 La acumulación de basura procedente de las ciudades es un problema realmente grave.'].str.replace(\" \",\"\")\n",
    "df1['4.4 Hay una disminución de la superficie forestal y de áreas naturales en el país.']=df1['4.4 Hay una disminución de la superficie forestal y de áreas naturales en el país.'].str.replace(\" \",\"\")\n",
    "df1['4.2 El aumento de la temperatura atmosférica se debe al uso creciente y continuado de combustibles fósiles (carbón, petróleo…).']=df1['4.2 El aumento de la temperatura atmosférica se debe al uso creciente y continuado de combustibles fósiles (carbón, petróleo…).'].str.replace(\" \",\"\")\n",
    "df1['4.5 El planeta está tan contaminado por productos químicos que ya supone un problema para la salud.']=df1['4.5 El planeta está tan contaminado por productos químicos que ya supone un problema para la salud.'].str.replace(\" \",\"\")\n",
    "df1['4.5 El planeta está tan contaminado por productos químicos que ya supone un problema para la salud.']=df1['4.5 El planeta está tan contaminado por productos químicos que ya supone un problema para la salud.'].str.replace(\"Sinrespuesta\",\"E\")\n",
    "df1['4.5 El planeta está tan contaminado por productos químicos que ya supone un problema para la salud.']=df1['4.5 El planeta está tan contaminado por productos químicos que ya supone un problema para la salud.'].str[0]\n",
    "df1['4.6 Conozco los riesgos que representa para la vida humana la desaparición de especies animales y vegetales.']=df1['4.6 Conozco los riesgos que representa para la vida humana la desaparición de especies animales y vegetales.'].str.replace(\" \",\"\")\n",
    "df1['4.7 Me preocupa lo que sucede con la tala de árboles.']=df1['4.7 Me preocupa lo que sucede con la tala de árboles.'].str.capitalize()\n",
    "df1['4.7 Me preocupa lo que sucede con la tala de árboles.']=df1['4.7 Me preocupa lo que sucede con la tala de árboles.'].str.replace(\" \",\"\")\n",
    "df1['4.7 Me preocupa lo que sucede con la tala de árboles.']=df1['4.7 Me preocupa lo que sucede con la tala de árboles.'].str.replace(\"Sinrespuesta\",\"E\")"
   ]
  },
  {
   "cell_type": "code",
   "execution_count": 424,
   "id": "7d3d8240-4eeb-4364-a03c-e8b43e11bfc6",
   "metadata": {},
   "outputs": [],
   "source": [
    "#PREGUNTAS PERSONALES\n",
    "\n",
    "dict0= {'A':'Sí','B':'No','C':'No','H':'No','D':'Sí','H ':'No','E':'Sí'}\n",
    "sexo= {'A': 'Masculino','A ':'Masculino', 'B':'Femenino', 'C': 'Prefiero no decirlo'}\n",
    "sectorvivienda= {'A': 'Urbana' , 'B': 'Rural', 'C':'Rural', 'H':'Rural'} \n",
    "usodispositivo= {'A': 'Uso propio (solo lo usas tú)' , 'B': 'Uso compartido con otras personas', 'C': 'No tengo acceso a ningún dispositivo electrónico','H':'Uso compartido con otras personas','H ':'Uso compartido con otras personas', 'E':'Uso propio (solo lo usas tú)','D':'No tengo acceso a ningún dispositivo electrónico'}\n",
    "escolaridad={'A':'Ninguno', 'B': 'Primaria', 'C': 'Secundaría','b': 'Primaria', 'c': 'Secundaría', 'D': 'Técnico o tecnólogo', 'E': 'Titulo universitario', 'F':'Maestría', 'G':'Doctorado', 'H':'No sé','H ':'No sé','I':'No sé'}\n",
    "ocupación= {'A': 'Trabaja','A/C': 'Trabaja', 'B':'Cuida el hogar', 'C': 'No sé','E':'Trabaja', 'D':'No sé', 'H':'Cuida el hogar', 'F':'No sé', 'b':'Cuida el hogar'}\n",
    "vives= {'A': 'Mamá', 'B': 'Papá', 'C': 'Hermano/a', 'D' :'Abuela/o', 'E': 'Tío/a(s)', 'F': 'Otro adulto'}\n",
    "\n",
    "#preguntas intereses\n",
    "\n",
    "dictcarrera={'A': 'Está entre mis preferidas', 'B': 'Me interesa poco', 'C': 'La evitaría', 'D': 'No la conozco', 'E':'No la conozco', 'F':'La evitaría','H':'Me interesa poco', 'Sin respuesta ':'No la conozco', 'Sin respuesta':'No la conozco'} \n",
    "dict1={'A': 'Ciencias naturales', 'B': 'Matemática', 'C': 'Tecnología', 'D': 'Lenguaje', 'E': 'Artística','H':'Matemática','F':'Tecnología','S':'Ciencias naturales','V':'Tecnología'}\n",
    "dict2= {'A':'5', 'B':'4', 'C':'3', 'D':'2', 'E':'1', 'F':'3','G':'4','H':'4','S':'5'}\n",
    "\n",
    "#PREGUNTAS CONOCIMIENTOS\n",
    "\n",
    "dict3={'A':'a. Tormenta', 'B':'b. Lluvia', 'C':'c. Nublado', 'D':'d. Soleado', 'E':'e. No sé','H':'b. Lluvia'}\n",
    "dict4= {'A':'a) Martha', 'B':'b) Andrés', 'C':'c) Julio', 'D':'d) María', 'E':'e) Laura', 'F':'f) José', 'G':'g) Luisa', 'H':'h) No sé'}\n",
    "dict5= {'A':'a) Si Óscar hace Arepa para almorzar, él no puede hacer Sandwich para merendar', 'B':'b) Si Óscar empaca Pancakes para merendar, solo puede empacar Pastas para almorzar','C':'c) Si Óscar empaca Deditos para merendar, puede hacer Arroz de pollo para almorzar', 'D':'d) Si Óscar empaca Deditos para merendar, también puede empacar un Sandwich para almorzar','E':'e) No sé'}\n",
    "dict6= {'A':'a) La botella B debe ser verde', 'B':'b) La botella C debe ser verde', 'C':'c) La botella D debe ser verde', 'D':'d) Ninguna botella debe cambiar de color', 'E':'e) No sé','S':'a) La botella B debe ser verde','H':'b) La botella C debe ser verde','F':'c) La botella D debe ser verde'}\n",
    "algoritmo= {'A':'Una secuencia lógica de pasos para realizar una tarea', 'B': 'Es una función matemática que depende de una base y un argumento', 'C': 'La parte del programa que valida las instrucciones.', 'D': 'Una máquina que ejecuta instrucciones.', 'E': 'No sé','F':'Una máquina que ejecuta instrucciones.','H':'Es una función matemática que depende de una base y un argumento','Sin respuesta':'No sé'}\n",
    "algoritmosirve= {'A': 'Para planificar la solución a un problema', 'B': 'Como plataforma para programar una solución', 'C': 'Para probar una solución a un problema', 'D': 'Para comprar cosas en línea', 'E': 'No sé','H': 'Como plataforma para programar una solución'} \n",
    "bucle= {'A': 'Una instrucción que termina la ejecución de un programa', 'B': 'Un bloque que se ejecuta una vez si se cumple una condición', 'C': 'Un conjunto de instrucciones que se ejecuta mientras se cumpla una condición', 'D': 'Un conjunto de instrucciones que reciben cero, uno o más parámetros y retorna un valor', 'E':'No sé', 'F': 'Un conjunto de instrucciones que reciben cero, uno o más parámetros y retorna un valor', 'G': 'Un bloque que se ejecuta una vez si se cumple una condición', 'H': 'Un bloque que se ejecuta una vez si se cumple una condición'}\n",
    "robot={'A':'a.','B':'b.','C':'c.', 'D':'d.','E':'e. No sé','F':'d.','H':'b.','H ':'b.','G':'b.'}\n",
    "\n",
    "#PREGUNTAS GENERO\n",
    "dict7= {'A': 'a. Seguramente un hombre', 'B': 'b. Quizás un hombre','B ': 'b. Quizás un hombre', 'C': 'c. Creo que puede ser un hombre o una mujer', 'D': 'd. Quizás una mujer', 'E': 'e. Seguramente una mujer','Sinrespuesta':'c. Creo que puede ser un hombre o una mujer','V':'c. Creo que puede ser un hombre o una mujer','H':'b. Quizás un hombre','F':'d. Quizás una mujer','G':'b. Quizás un hombre'} \n",
    "\n",
    "#preguntas medio ambiente\n",
    "dict8={'A':'Totalmente de acuerdo','S':'Totalmente de acuerdo','B':'De acuerdo','C':'Neutro','D':'En desacuerdo','E':'Totalmente en desacuerdo','Sinrespuesta':'Totalmente en desacuerdo','H':'De acuerdo','F':'Neutro','G':'De acuerdo'}\n",
    "\n",
    "df[\"Grado\"]=df[\"Grado\"].replace(diccionariogrados)\n",
    "\n",
    "df1=df1.replace({'Deseo participar en el estudio':dict0,'Sexo':sexo,'¿Te reconoces como una persona con algún tipo de discapacidad?':dict0,'Sector vivienda':sectorvivienda,\n",
    "'Internet':dict0,'Uso del dispositivo móvil':usodispositivo,'Conoce GreenTIC':dict0,'Nivel escolaridad madre':escolaridad,\n",
    "'Nivel escolaridad padre':escolaridad,'Ocupación madre':ocupación,'Ocupación padre':ocupación,'¿Con quién vives?':vives,\n",
    "'1.1. Ingeniería':dictcarrera,'1.2 Matemáticas':dictcarrera,'1.3 Educación':dictcarrera,'1.4 Medicina':dictcarrera,\n",
    "'1.5 Diseño gráfico':dictcarrera,'1.6 Química':dictcarrera,'1.7 Enfermería':dictcarrera,'1.8 Desarrollo de software':dictcarrera,\n",
    "'2.1 Soy capaz de sacar buenas notas en esta asignatura':dict1,'2.2 Si me va bien en esta asignatura, me ayudará en mi futura ocupación':dict1,\n",
    "'2.3 A mis padres les gustaría que eligiera un futuro profesional relacionado a esta asignatura':dict1,\n",
    "'2.4 Sé de alguien en mi familia que utiliza conocimientos relacionados a esta asignatura en su ocupación':dict1,\n",
    "'Un algoritmo es:':algoritmo,'¿Para qué sirven los algoritmos?':algoritmosirve,'Un bucle es:':bucle,'3.1 Siento que soy capaz de explicar lo que es el pensamiento computacional':dict2,\n",
    "'3.2 Siento que puedo enumerar las sub-habilidades que componen el pensamiento computacional':dict2,\n",
    "'3.3 Siento que soy capaz de dar ejemplos para explicar las sub-habilidades del pensamiento computacional':dict2,\n",
    "'3.4 Siento que puedo explicar la forma en que las sub-habilidades del pensamiento computacional se correlacionan con la programación':dict2,'3.5 Siento que puedo analizar un ejercicio y determinar qué sub-habilidades de pensamiento computacional busca desarrollar':dict2,\n",
    "'3.6 Siento que puedo resolver problemas a través de programación':dict2,\n",
    "'3.7 Siento que puedo implementar algoritmos':dict2,\n",
    "'3.8 Siento que puedo crear un programa de computador':dict2,\n",
    "'3.9 Siento que puedo automatizar tareas a través de la programación':dict2,\n",
    "'3.10 Siento que puedo utilizar la computación para resolver problemas simples':dict2,\n",
    "'¿Qué mensaje deseaba enviar la líder Wayuú?':dict3,\n",
    "'¿Cuál será la foto con más vistas?':dict4,\n",
    "'Óscar lleva 2 loncheras a la escuela todos los días ¿Cuál de las siguientes afirmaciones es falsa?':dict5,\n",
    "'¿Qué botella debe cambiarse de color para que el resultado final sea una botella de color blanco?':dict6,\n",
    "'5.1 ¿Quién crees que ganará el concurso de matemáticas?':dict7,\n",
    "'5.2 ¿Quién crees que es capitán del barco?':dict7,\n",
    "'5.3 ¿Quién es la persona excluida de la construcción de la casa de madera?':dict7,\n",
    "'5.4 ¿Quién crees que es el personaje que está sentado y esperando junto a la ventana?':dict7,'5.5 ¿Quién es la persona que trabaja en educación?':dict7,\n",
    "'5.6 ¿Quién crees que es la persona que prefiere estudiar ingeniería?':dict7,\n",
    "'4.1 Es alarmante que el ritmo de desaparición de especies en la Amazonia Colombiana sea cada vez mayor.':dict8,\n",
    "'4.2 El aumento de la temperatura atmosférica se debe al uso creciente y continuado de combustibles fósiles (carbón, petróleo…).':dict8,\n",
    "'4.3 La acumulación de basura procedente de las ciudades es un problema realmente grave.':dict8,\n",
    "'4.4 Hay una disminución de la superficie forestal y de áreas naturales en el país.':dict8,\n",
    "'4.5 El planeta está tan contaminado por productos químicos que ya supone un problema para la salud.':dict8,\n",
    "'4.6 Conozco los riesgos que representa para la vida humana la desaparición de especies animales y vegetales.':dict8,\n",
    "'4.7 Me preocupa lo que sucede con la tala de árboles.':dict8,'¿Cuál de las siguientes opciones sí le permite al robot completar la misión de fotografiar cada tortuga?':robot,'¿Cuál de los siguientes códigos permite que el robot complete su misión sembrando café?':robot,'Ayuda al robot verde a salir del laberinto':robot,'¿Cuál de las siguientes hamburguesas tiene los ingredientes A, E y F?':robot})"
   ]
  },
  {
   "cell_type": "code",
   "execution_count": 425,
   "id": "1207ab63-f3d9-4db1-a37f-d2ba41db0634",
   "metadata": {},
   "outputs": [],
   "source": [
    "new_index=['N registro','Deseo participar en el estudio', 'Código IE', 'Grupo',\n",
    "'Nombre',  'Fecha', 'ID','Número de lista', 'Edad', 'Sexo', 'Sector vivienda', 'Internet',\n",
    "       'Uso del dispositivo móvil', 'Nivel escolaridad madre',\n",
    "       'Nivel escolaridad padre', 'Ocupación madre', 'Ocupación padre',\n",
    "       '¿Con quién vives?', 'Grado', '1.1. Ingeniería', '1.2 Matemáticas', '1.3 Educación', '1.4 Medicina',\n",
    "        '1.5 Diseño gráfico', '1.6 Química', '1.7 Enfermería',\n",
    " '1.8 Desarrollo de software',\n",
    "       '2.1 Soy capaz de sacar buenas notas en esta asignatura',\n",
    "       '2.2 Si me va bien en esta asignatura, me ayudará en mi futura ocupación',\n",
    "       '2.3 A mis padres les gustaría que eligiera un futuro profesional relacionado a esta asignatura',\n",
    "       '2.4 Sé de alguien en mi familia que utiliza conocimientos relacionados a esta asignatura en su ocupación',\n",
    "       'Comentarios 1-2', 'Un algoritmo es:',\n",
    "       '¿Para qué sirven los algoritmos?', 'Un bucle es:',\n",
    "       '3.1 Siento que soy capaz de explicar lo que es el pensamiento computacional',\n",
    "       '3.2 Siento que puedo enumerar las sub-habilidades que componen el pensamiento computacional',\n",
    "       '3.3 Siento que soy capaz de dar ejemplos para explicar las sub-habilidades del pensamiento computacional',\n",
    "       '3.4 Siento que puedo explicar la forma en que las sub-habilidades del pensamiento computacional se correlacionan con la programación',\n",
    "       '3.5 Siento que puedo analizar un ejercicio y determinar qué sub-habilidades de pensamiento computacional busca desarrollar',\n",
    "       '3.6 Siento que puedo resolver problemas a través de programación',\n",
    "       '3.7 Siento que puedo implementar algoritmos',\n",
    "       '3.8 Siento que puedo crear un programa de computador',\n",
    "       '3.9 Siento que puedo automatizar tareas a través de la programación',\n",
    "       '3.10 Siento que puedo utilizar la computación para resolver problemas simples',\n",
    "       'Comentarios P3',\n",
    "       '¿Cuál de las siguientes opciones sí le permite al robot completar la misión de fotografiar cada tortuga?',\n",
    "       '¿Qué mensaje deseaba enviar la líder Wayuú?',\n",
    "       '¿Cuál de los siguientes códigos permite que el robot complete su misión sembrando café?',\n",
    "       '¿Cuál será la foto con más vistas?',\n",
    "       'Ayuda al robot verde a salir del laberinto',\n",
    "       'Óscar lleva 2 loncheras a la escuela todos los días ¿Cuál de las siguientes afirmaciones es falsa?',\n",
    "       '¿Cuál de las siguientes hamburguesas tiene los ingredientes A, E y F?',\n",
    "       '¿Qué botella debe cambiarse de color para que el resultado final sea una botella de color blanco?',\n",
    "       'Comentarios conocimiento',\n",
    "       '5.1 ¿Quién crees que ganará el concurso de matemáticas?',\n",
    "       '5.2 ¿Quién crees que es capitán del barco?',\n",
    "       '5.3 ¿Quién es la persona excluida de la construcción de la casa de madera?',\n",
    "       '5.4 ¿Quién crees que es el personaje que está sentado y esperando junto a la ventana?',\n",
    "       '5.5 ¿Quién es la persona que trabaja en educación?',\n",
    "       '5.6 ¿Quién crees que es la persona que prefiere estudiar ingeniería?',\n",
    "       'Comentarios género',\n",
    "       '4.1 Es alarmante que el ritmo de desaparición de especies en la Amazonia Colombiana sea cada vez mayor.',\n",
    "       '4.2 El aumento de la temperatura atmosférica se debe al uso creciente y continuado de combustibles fósiles (carbón, petróleo…).',\n",
    "       '4.3 La acumulación de basura procedente de las ciudades es un problema realmente grave.',\n",
    "       '4.4 Hay una disminución de la superficie forestal y de áreas naturales en el país.',\n",
    "       '4.5 El planeta está tan contaminado por productos químicos que ya supone un problema para la salud.',\n",
    "       '4.6 Conozco los riesgos que representa para la vida humana la desaparición de especies animales y vegetales.',\n",
    "       '4.7 Me preocupa lo que sucede con la tala de árboles.',\n",
    "       'Comentarios medioambiente',\n",
    "       'Tipo de discapacidad',\n",
    "       '¿Te reconoces como una persona con algún tipo de discapacidad?',\n",
    "       'Conoce GreenTIC', 'Instrumento']\n",
    "df=df.reindex(new_index, axis='columns')\n",
    "df1=df1.reindex(new_index, axis='columns')"
   ]
  },
  {
   "cell_type": "code",
   "execution_count": 426,
   "id": "b6d0a3ac-c6ed-4f4a-8c3f-7e83a630f2ed",
   "metadata": {},
   "outputs": [],
   "source": [
    "df1['3.3 Siento que soy capaz de dar ejemplos para explicar las sub-habilidades del pensamiento computacional']=df1['3.3 Siento que soy capaz de dar ejemplos para explicar las sub-habilidades del pensamiento computacional'].fillna('1')\n",
    "df1['3.3 Siento que soy capaz de dar ejemplos para explicar las sub-habilidades del pensamiento computacional']=df1['3.3 Siento que soy capaz de dar ejemplos para explicar las sub-habilidades del pensamiento computacional'].astype(int).astype(str)"
   ]
  },
  {
   "cell_type": "code",
   "execution_count": 427,
   "id": "cb6c7008-7339-4386-bee8-27ad3a16ea7f",
   "metadata": {},
   "outputs": [],
   "source": [
    "df1['¿Te reconoces como una persona con algún tipo de discapacidad?']=df1['¿Te reconoces como una persona con algún tipo de discapacidad?'].str.replace(\" \",\"\")\n",
    "df1['¿Te reconoces como una persona con algún tipo de discapacidad?']=df1['¿Te reconoces como una persona con algún tipo de discapacidad?'].str.replace(\"Nose\",\"No\")"
   ]
  },
  {
   "cell_type": "code",
   "execution_count": 428,
   "id": "7bae812a-a2b5-4454-a864-1830dae3411d",
   "metadata": {},
   "outputs": [],
   "source": [
    "df1['Sexo']=df1['Sexo'].fillna('Prefiero no decirlo')\n",
    "df1['Nivel escolaridad madre']=df1['Nivel escolaridad madre'].fillna('No sé')\n",
    "df1['Sector vivienda']=df1['Sector vivienda'].fillna('Rural')\n",
    "df1['Uso del dispositivo móvil']=df1['Uso del dispositivo móvil'].fillna('Uso compartido con otras personas')\n",
    "df1['Ocupación padre']=df1['Ocupación padre'].fillna('No sé')"
   ]
  },
  {
   "cell_type": "code",
   "execution_count": 429,
   "id": "3e1167c1-2b34-453e-9197-0b719605e077",
   "metadata": {},
   "outputs": [],
   "source": [
    "registroseliminados=set(df['N registro']).difference(set(df1['N registro']))\n",
    "dfe=df[df['N registro'].isin(registroseliminados)]\n",
    "dfe.to_excel(\"Eliminados_Estudiantes_Desconectadas.xlsx\", index=False)\n",
    "df1.to_excel(\"Estudiantes desconectadas.xlsx\",index=False)"
   ]
  }
 ],
 "metadata": {
  "kernelspec": {
   "display_name": "Python 3 (ipykernel)",
   "language": "python",
   "name": "python3"
  },
  "language_info": {
   "codemirror_mode": {
    "name": "ipython",
    "version": 3
   },
   "file_extension": ".py",
   "mimetype": "text/x-python",
   "name": "python",
   "nbconvert_exporter": "python",
   "pygments_lexer": "ipython3",
   "version": "3.10.4"
  }
 },
 "nbformat": 4,
 "nbformat_minor": 5
}
