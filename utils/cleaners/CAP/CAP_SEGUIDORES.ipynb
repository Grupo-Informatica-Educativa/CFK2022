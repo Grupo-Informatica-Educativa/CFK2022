{
 "cells": [
  {
   "cell_type": "markdown",
   "source": [
    "Esto es para ver quien de los que respondieron una encuesta de CAP son estudiantes de este año"
   ],
   "metadata": {
    "collapsed": false,
    "pycharm": {
     "name": "#%% md\n"
    }
   }
  },
  {
   "cell_type": "code",
   "execution_count": 1,
   "outputs": [],
   "source": [
    "import pandas as pd"
   ],
   "metadata": {
    "collapsed": false,
    "pycharm": {
     "name": "#%%\n"
    }
   }
  },
  {
   "cell_type": "code",
   "execution_count": 30,
   "outputs": [
    {
     "data": {
      "text/plain": "     Unnamed: 0                               p1          p2  \\\n0             1   2022/06/14 5:51:02 p. m. GMT-5    43626114   \n1             2   2022/06/14 6:00:12 p. m. GMT-5    80196138   \n2             3   2022/06/14 6:02:47 p. m. GMT-5    45564671   \n3             4   2022/06/14 7:12:36 p. m. GMT-5    63457133   \n4             5   2022/06/14 7:50:57 p. m. GMT-5    40444572   \n..          ...                              ...         ...   \n162         163   2022/06/17 7:57:31 a. m. GMT-5  1073238433   \n163         164   2022/06/17 8:11:59 a. m. GMT-5    78732082   \n164         165   2022/06/17 8:32:32 a. m. GMT-5    91111243   \n165         166   2022/06/17 9:30:55 a. m. GMT-5  1077432939   \n166         167  2022/06/17 10:44:16 a. m. GMT-5    33102129   \n\n                                                    p3  \\\n0    Puedo encontrar apoyo de mis colegas para reso...   \n1    Puedo encontrar apoyo de mis colegas para reso...   \n2    Aprendo sobre nuevos temas en comunidad;Permit...   \n3    Puedo encontrar apoyo de mis colegas para reso...   \n4    Puedo encontrar apoyo de mis colegas para reso...   \n..                                                 ...   \n162  Puedo encontrar apoyo de mis colegas para reso...   \n163  Puedo encontrar apoyo de mis colegas para reso...   \n164  Puedo encontrar apoyo de mis colegas para reso...   \n165  Puedo encontrar apoyo de mis colegas para reso...   \n166  Permiten mejorar mis prácticas pedagógicas por...   \n\n                                                    p4  p5  \\\n0                                                  NaN  Si   \n1    La red de aprendizaje comparte experiencias pe...  Si   \n2                                                  NaN  No   \n3                      Mejorar cada dia como docentes.  No   \n4                                                  NaN  No   \n..                                                 ...  ..   \n162  Es una gran oportunidad para conocer proyectos...  Si   \n163                Todo ayuda a mejorar mi añrendizaje  No   \n164  Es importante también aprender a conectar con ...  No   \n165                                                NaN  Si   \n166                                                NaN  Si   \n\n                                                    p6  p7  p8  p9  ...  p42  \\\n0                           Niños y niñas programación   5   5   5  ...    8   \n1    Comunidad IB bachillerato internacional y la c...   5   5   5  ...   10   \n2                                                  NaN   5   5   4  ...   10   \n3                                                  NaN   5   5   5  ...   10   \n4                                                  NaN   4   5   5  ...    7   \n..                                                 ...  ..  ..  ..  ...  ...   \n162                                            NC-arte   4   5   5  ...    3   \n163                                                NaN   4   4   4  ...   10   \n164                                                NaN   5   5   5  ...    7   \n165                                      Platzi, UNIR.   4   4   5  ...    9   \n166  actualmente este año con la red de grado en la...   4   4   4  ...    6   \n\n     p43  p44  p45  p46                                                p47  \\\n0      8    8    8    8                                                NaN   \n1     10    9   10   10  Atendería sus preguntas o sus propuestas para ...   \n2     10   10   10    8                                                NaN   \n3     10   10   10   10                                                NaN   \n4      7    8    8    7                                                NaN   \n..   ...  ...  ...  ...                                                ...   \n162    9    9    8    6                                                NaN   \n163   10   10   10   10  No se le debe dar la respuesta, no aprendería ...   \n164    5    7    7    6                                                NaN   \n165    9   10   10   10                                                NaN   \n166    6    6    6    6                                                NaN   \n\n       autoeficaciaPC  autoeficaciaTecno     sentidoComuni   conocimie_pedag  \n0                 100                100               100               100  \n1    89,0254237288136                100  86,7576540022132               100  \n2    97,2620599739244   89,3235435724603  93,6646993729251  73,9758732992154  \n3                 100                100  92,3091110291405               100  \n4    66,7894393741851   91,7067886374579  95,9332349686463               100  \n..                ...                ...               ...               ...  \n162               100   91,7067886374579  81,4644042788639  95,7329428310718  \n163  63,7092568448501                 75  66,8664699372925                75  \n164  82,8683181225554                100  64,7270379933604  94,8164811699895  \n165               100   85,6764564275397  79,0667650313538    91,35028077652  \n166  66,3852672750978                 75  79,0667650313538    58,64971922348  \n\n[167 rows x 52 columns]",
      "text/html": "<div>\n<style scoped>\n    .dataframe tbody tr th:only-of-type {\n        vertical-align: middle;\n    }\n\n    .dataframe tbody tr th {\n        vertical-align: top;\n    }\n\n    .dataframe thead th {\n        text-align: right;\n    }\n</style>\n<table border=\"1\" class=\"dataframe\">\n  <thead>\n    <tr style=\"text-align: right;\">\n      <th></th>\n      <th>Unnamed: 0</th>\n      <th>p1</th>\n      <th>p2</th>\n      <th>p3</th>\n      <th>p4</th>\n      <th>p5</th>\n      <th>p6</th>\n      <th>p7</th>\n      <th>p8</th>\n      <th>p9</th>\n      <th>...</th>\n      <th>p42</th>\n      <th>p43</th>\n      <th>p44</th>\n      <th>p45</th>\n      <th>p46</th>\n      <th>p47</th>\n      <th>autoeficaciaPC</th>\n      <th>autoeficaciaTecno</th>\n      <th>sentidoComuni</th>\n      <th>conocimie_pedag</th>\n    </tr>\n  </thead>\n  <tbody>\n    <tr>\n      <th>0</th>\n      <td>1</td>\n      <td>2022/06/14 5:51:02 p. m. GMT-5</td>\n      <td>43626114</td>\n      <td>Puedo encontrar apoyo de mis colegas para reso...</td>\n      <td>NaN</td>\n      <td>Si</td>\n      <td>Niños y niñas programación</td>\n      <td>5</td>\n      <td>5</td>\n      <td>5</td>\n      <td>...</td>\n      <td>8</td>\n      <td>8</td>\n      <td>8</td>\n      <td>8</td>\n      <td>8</td>\n      <td>NaN</td>\n      <td>100</td>\n      <td>100</td>\n      <td>100</td>\n      <td>100</td>\n    </tr>\n    <tr>\n      <th>1</th>\n      <td>2</td>\n      <td>2022/06/14 6:00:12 p. m. GMT-5</td>\n      <td>80196138</td>\n      <td>Puedo encontrar apoyo de mis colegas para reso...</td>\n      <td>La red de aprendizaje comparte experiencias pe...</td>\n      <td>Si</td>\n      <td>Comunidad IB bachillerato internacional y la c...</td>\n      <td>5</td>\n      <td>5</td>\n      <td>5</td>\n      <td>...</td>\n      <td>10</td>\n      <td>10</td>\n      <td>9</td>\n      <td>10</td>\n      <td>10</td>\n      <td>Atendería sus preguntas o sus propuestas para ...</td>\n      <td>89,0254237288136</td>\n      <td>100</td>\n      <td>86,7576540022132</td>\n      <td>100</td>\n    </tr>\n    <tr>\n      <th>2</th>\n      <td>3</td>\n      <td>2022/06/14 6:02:47 p. m. GMT-5</td>\n      <td>45564671</td>\n      <td>Aprendo sobre nuevos temas en comunidad;Permit...</td>\n      <td>NaN</td>\n      <td>No</td>\n      <td>NaN</td>\n      <td>5</td>\n      <td>5</td>\n      <td>4</td>\n      <td>...</td>\n      <td>10</td>\n      <td>10</td>\n      <td>10</td>\n      <td>10</td>\n      <td>8</td>\n      <td>NaN</td>\n      <td>97,2620599739244</td>\n      <td>89,3235435724603</td>\n      <td>93,6646993729251</td>\n      <td>73,9758732992154</td>\n    </tr>\n    <tr>\n      <th>3</th>\n      <td>4</td>\n      <td>2022/06/14 7:12:36 p. m. GMT-5</td>\n      <td>63457133</td>\n      <td>Puedo encontrar apoyo de mis colegas para reso...</td>\n      <td>Mejorar cada dia como docentes.</td>\n      <td>No</td>\n      <td>NaN</td>\n      <td>5</td>\n      <td>5</td>\n      <td>5</td>\n      <td>...</td>\n      <td>10</td>\n      <td>10</td>\n      <td>10</td>\n      <td>10</td>\n      <td>10</td>\n      <td>NaN</td>\n      <td>100</td>\n      <td>100</td>\n      <td>92,3091110291405</td>\n      <td>100</td>\n    </tr>\n    <tr>\n      <th>4</th>\n      <td>5</td>\n      <td>2022/06/14 7:50:57 p. m. GMT-5</td>\n      <td>40444572</td>\n      <td>Puedo encontrar apoyo de mis colegas para reso...</td>\n      <td>NaN</td>\n      <td>No</td>\n      <td>NaN</td>\n      <td>4</td>\n      <td>5</td>\n      <td>5</td>\n      <td>...</td>\n      <td>7</td>\n      <td>7</td>\n      <td>8</td>\n      <td>8</td>\n      <td>7</td>\n      <td>NaN</td>\n      <td>66,7894393741851</td>\n      <td>91,7067886374579</td>\n      <td>95,9332349686463</td>\n      <td>100</td>\n    </tr>\n    <tr>\n      <th>...</th>\n      <td>...</td>\n      <td>...</td>\n      <td>...</td>\n      <td>...</td>\n      <td>...</td>\n      <td>...</td>\n      <td>...</td>\n      <td>...</td>\n      <td>...</td>\n      <td>...</td>\n      <td>...</td>\n      <td>...</td>\n      <td>...</td>\n      <td>...</td>\n      <td>...</td>\n      <td>...</td>\n      <td>...</td>\n      <td>...</td>\n      <td>...</td>\n      <td>...</td>\n      <td>...</td>\n    </tr>\n    <tr>\n      <th>162</th>\n      <td>163</td>\n      <td>2022/06/17 7:57:31 a. m. GMT-5</td>\n      <td>1073238433</td>\n      <td>Puedo encontrar apoyo de mis colegas para reso...</td>\n      <td>Es una gran oportunidad para conocer proyectos...</td>\n      <td>Si</td>\n      <td>NC-arte</td>\n      <td>4</td>\n      <td>5</td>\n      <td>5</td>\n      <td>...</td>\n      <td>3</td>\n      <td>9</td>\n      <td>9</td>\n      <td>8</td>\n      <td>6</td>\n      <td>NaN</td>\n      <td>100</td>\n      <td>91,7067886374579</td>\n      <td>81,4644042788639</td>\n      <td>95,7329428310718</td>\n    </tr>\n    <tr>\n      <th>163</th>\n      <td>164</td>\n      <td>2022/06/17 8:11:59 a. m. GMT-5</td>\n      <td>78732082</td>\n      <td>Puedo encontrar apoyo de mis colegas para reso...</td>\n      <td>Todo ayuda a mejorar mi añrendizaje</td>\n      <td>No</td>\n      <td>NaN</td>\n      <td>4</td>\n      <td>4</td>\n      <td>4</td>\n      <td>...</td>\n      <td>10</td>\n      <td>10</td>\n      <td>10</td>\n      <td>10</td>\n      <td>10</td>\n      <td>No se le debe dar la respuesta, no aprendería ...</td>\n      <td>63,7092568448501</td>\n      <td>75</td>\n      <td>66,8664699372925</td>\n      <td>75</td>\n    </tr>\n    <tr>\n      <th>164</th>\n      <td>165</td>\n      <td>2022/06/17 8:32:32 a. m. GMT-5</td>\n      <td>91111243</td>\n      <td>Puedo encontrar apoyo de mis colegas para reso...</td>\n      <td>Es importante también aprender a conectar con ...</td>\n      <td>No</td>\n      <td>NaN</td>\n      <td>5</td>\n      <td>5</td>\n      <td>5</td>\n      <td>...</td>\n      <td>7</td>\n      <td>5</td>\n      <td>7</td>\n      <td>7</td>\n      <td>6</td>\n      <td>NaN</td>\n      <td>82,8683181225554</td>\n      <td>100</td>\n      <td>64,7270379933604</td>\n      <td>94,8164811699895</td>\n    </tr>\n    <tr>\n      <th>165</th>\n      <td>166</td>\n      <td>2022/06/17 9:30:55 a. m. GMT-5</td>\n      <td>1077432939</td>\n      <td>Puedo encontrar apoyo de mis colegas para reso...</td>\n      <td>NaN</td>\n      <td>Si</td>\n      <td>Platzi, UNIR.</td>\n      <td>4</td>\n      <td>4</td>\n      <td>5</td>\n      <td>...</td>\n      <td>9</td>\n      <td>9</td>\n      <td>10</td>\n      <td>10</td>\n      <td>10</td>\n      <td>NaN</td>\n      <td>100</td>\n      <td>85,6764564275397</td>\n      <td>79,0667650313538</td>\n      <td>91,35028077652</td>\n    </tr>\n    <tr>\n      <th>166</th>\n      <td>167</td>\n      <td>2022/06/17 10:44:16 a. m. GMT-5</td>\n      <td>33102129</td>\n      <td>Permiten mejorar mis prácticas pedagógicas por...</td>\n      <td>NaN</td>\n      <td>Si</td>\n      <td>actualmente este año con la red de grado en la...</td>\n      <td>4</td>\n      <td>4</td>\n      <td>4</td>\n      <td>...</td>\n      <td>6</td>\n      <td>6</td>\n      <td>6</td>\n      <td>6</td>\n      <td>6</td>\n      <td>NaN</td>\n      <td>66,3852672750978</td>\n      <td>75</td>\n      <td>79,0667650313538</td>\n      <td>58,64971922348</td>\n    </tr>\n  </tbody>\n</table>\n<p>167 rows × 52 columns</p>\n</div>"
     },
     "execution_count": 30,
     "metadata": {},
     "output_type": "execute_result"
    }
   ],
   "source": [
    "cap = pd.read_csv('Calificados_incogni_jun17.csv', sep=\";\")\n",
    "cap"
   ],
   "metadata": {
    "collapsed": false,
    "pycharm": {
     "name": "#%%\n"
    }
   }
  },
  {
   "cell_type": "code",
   "execution_count": 4,
   "outputs": [],
   "source": [
    "form = pd.read_excel('Inicial 2022-06-15.xlsx', sheet_name=0)"
   ],
   "metadata": {
    "collapsed": false,
    "pycharm": {
     "name": "#%%\n"
    }
   }
  },
  {
   "cell_type": "code",
   "execution_count": 39,
   "outputs": [],
   "source": [
    "cap['p2'] = cap['p2'].astype(float).astype(int)"
   ],
   "metadata": {
    "collapsed": false,
    "pycharm": {
     "name": "#%%\n"
    }
   }
  },
  {
   "cell_type": "code",
   "execution_count": 40,
   "outputs": [
    {
     "name": "stderr",
     "output_type": "stream",
     "text": [
      "C:\\Users\\marianaarboleda\\AppData\\Local\\Temp\\ipykernel_8304\\3820134593.py:1: SettingWithCopyWarning: \n",
      "A value is trying to be set on a copy of a slice from a DataFrame.\n",
      "Try using .loc[row_indexer,col_indexer] = value instead\n",
      "\n",
      "See the caveats in the documentation: https://pandas.pydata.org/pandas-docs/stable/user_guide/indexing.html#returning-a-view-versus-a-copy\n",
      "  form['No. de documento del estudiante']=form['No. de documento del estudiante'].apply(pd.to_numeric, errors='coerce')\n"
     ]
    }
   ],
   "source": [
    "form['No. de documento del estudiante']=form['No. de documento del estudiante'].apply(pd.to_numeric, errors='coerce')\n",
    "form = form.dropna(subset='No. de documento del estudiante')\n",
    "form['No. de documento del estudiante'] = form['No. de documento del estudiante'].astype(float).astype(int)"
   ],
   "metadata": {
    "collapsed": false,
    "pycharm": {
     "name": "#%%\n"
    }
   }
  },
  {
   "cell_type": "code",
   "execution_count": 41,
   "outputs": [],
   "source": [
    "cedulas_coinciden = set(cap.p2).intersection(set(form['No. de documento del estudiante']))"
   ],
   "metadata": {
    "collapsed": false,
    "pycharm": {
     "name": "#%%\n"
    }
   }
  },
  {
   "cell_type": "code",
   "execution_count": 42,
   "outputs": [
    {
     "data": {
      "text/plain": "{-2147483648,\n 912502,\n 7231619,\n 7368829,\n 7641859,\n 8541072,\n 8568755,\n 8775554,\n 9103348,\n 9298233,\n 9434086,\n 9658619,\n 9693332,\n 10965255,\n 11811212,\n 15045613,\n 15646704,\n 17656460,\n 18129404,\n 20888370,\n 21243896,\n 22467411,\n 22493003,\n 22605233,\n 24030950,\n 25280181,\n 26202775,\n 28437401,\n 30322043,\n 30777625,\n 32107513,\n 32654711,\n 33102129,\n 33355212,\n 33916121,\n 34558233,\n 35393485,\n 36665248,\n 36725526,\n 36759720,\n 37294417,\n 38263640,\n 39535361,\n 39679490,\n 39767109,\n 40432313,\n 40444572,\n 43267672,\n 43517894,\n 43532825,\n 43590823,\n 43626114,\n 43718435,\n 43752887,\n 45526975,\n 45564671,\n 45857106,\n 50913437,\n 51639675,\n 51801208,\n 52090158,\n 52168777,\n 52298396,\n 52306946,\n 52309820,\n 52428801,\n 52696007,\n 52745094,\n 52764951,\n 52868219,\n 52985660,\n 53066057,\n 53166061,\n 55304388,\n 56055008,\n 56083142,\n 63457133,\n 63505007,\n 63507784,\n 66741561,\n 66860000,\n 71452226,\n 71741342,\n 71785349,\n 71943698,\n 72001532,\n 72179174,\n 72251087,\n 73162539,\n 73572371,\n 77174534,\n 78732082,\n 79252779,\n 79493539,\n 79496859,\n 79513391,\n 79613195,\n 79632199,\n 79684799,\n 79790570,\n 79860650,\n 79878910,\n 79988931,\n 80010324,\n 80018662,\n 80196138,\n 80217443,\n 80255652,\n 80433984,\n 80901949,\n 84091747,\n 84451439,\n 85127472,\n 87217006,\n 88160890,\n 91111243,\n 98383396,\n 98392483,\n 98568469,\n 111869256,\n 1001914429,\n 1010021603,\n 1010161833,\n 1010205414,\n 1013599640,\n 1013628799,\n 1015436026,\n 1019055730,\n 1020483395,\n 1023874189,\n 1024499642,\n 1024506063,\n 1038107642,\n 1039452847,\n 1039455456,\n 1042997550,\n 1043842420,\n 1048274756,\n 1052401028,\n 1052544069,\n 1052942469,\n 1067845915,\n 1067883005,\n 1067891598,\n 1072466102,\n 1073238433,\n 1077432939,\n 1081401441,\n 1082854912,\n 1083560840,\n 1084735373,\n 1085255165,\n 1085911797,\n 1093750482,\n 1100969013,\n 1104016307,\n 1110489139,\n 1113620830,\n 1116807609,\n 1118166882,\n 1124060890,\n 1129579660,\n 1140416558,\n 1143128496,\n 1143458255}"
     },
     "execution_count": 42,
     "metadata": {},
     "output_type": "execute_result"
    }
   ],
   "source": [
    " set(cap.p2)"
   ],
   "metadata": {
    "collapsed": false,
    "pycharm": {
     "name": "#%%\n"
    }
   }
  },
  {
   "cell_type": "code",
   "execution_count": 43,
   "outputs": [
    {
     "data": {
      "text/plain": "{912502,\n 7231619,\n 7368829,\n 7641859,\n 8541072,\n 8568755,\n 8775554,\n 9103348,\n 9298233,\n 9434086,\n 9658619,\n 9693332,\n 10965255,\n 11811212,\n 15646704,\n 17656460,\n 18129404,\n 20888370,\n 21243896,\n 22467411,\n 22493003,\n 22605233,\n 24030950,\n 25280181,\n 26202775,\n 28437401,\n 30322043,\n 30777625,\n 32107513,\n 32654711,\n 33102129,\n 33355212,\n 33916121,\n 34558233,\n 35393485,\n 36665248,\n 36725526,\n 36759720,\n 37294417,\n 38263640,\n 39535361,\n 39679490,\n 39767109,\n 40432313,\n 40444572,\n 43267672,\n 43517894,\n 43532825,\n 43626114,\n 43718435,\n 43752887,\n 45526975,\n 45564671,\n 50913437,\n 51639675,\n 51801208,\n 52090158,\n 52168777,\n 52298396,\n 52309820,\n 52428801,\n 52696007,\n 52745094,\n 52764951,\n 52868219,\n 52985660,\n 53066057,\n 53166061,\n 55304388,\n 56055008,\n 56083142,\n 63457133,\n 63505007,\n 63507784,\n 66741561,\n 66860000,\n 71452226,\n 71741342,\n 71785349,\n 71943698,\n 72001532,\n 72179174,\n 72251087,\n 73162539,\n 73572371,\n 77174534,\n 78732082,\n 79252779,\n 79493539,\n 79513391,\n 79613195,\n 79632199,\n 79684799,\n 79790570,\n 79860650,\n 79878910,\n 79988931,\n 80018662,\n 80196138,\n 80217443,\n 80255652,\n 80433984,\n 80901949,\n 84091747,\n 84451439,\n 85127472,\n 87217006,\n 88160890,\n 91111243,\n 98383396,\n 98568469,\n 1001914429,\n 1010021603,\n 1010161833,\n 1010205414,\n 1013599640,\n 1013628799,\n 1015436026,\n 1019055730,\n 1020483395,\n 1023874189,\n 1024499642,\n 1024506063,\n 1038107642,\n 1039452847,\n 1039455456,\n 1042997550,\n 1043842420,\n 1048274756,\n 1052401028,\n 1052544069,\n 1052942469,\n 1067845915,\n 1067883005,\n 1067891598,\n 1072466102,\n 1073238433,\n 1077432939,\n 1081401441,\n 1082854912,\n 1083560840,\n 1084735373,\n 1085255165,\n 1085911797,\n 1093750482,\n 1100969013,\n 1104016307,\n 1113620830,\n 1116807609,\n 1118166882,\n 1124060890,\n 1129579660,\n 1140416558,\n 1143128496,\n 1143458255}"
     },
     "execution_count": 43,
     "metadata": {},
     "output_type": "execute_result"
    }
   ],
   "source": [
    "cedulas_coinciden"
   ],
   "metadata": {
    "collapsed": false,
    "pycharm": {
     "name": "#%%\n"
    }
   }
  },
  {
   "cell_type": "code",
   "execution_count": 44,
   "outputs": [
    {
     "data": {
      "text/plain": "155"
     },
     "execution_count": 44,
     "metadata": {},
     "output_type": "execute_result"
    }
   ],
   "source": [
    "len(cedulas_coinciden)"
   ],
   "metadata": {
    "collapsed": false,
    "pycharm": {
     "name": "#%%\n"
    }
   }
  },
  {
   "cell_type": "code",
   "execution_count": 45,
   "outputs": [],
   "source": [
    "cap['Año'] = \"Otro\"\n",
    "cap.loc[cap.p2.isin(cedulas_coinciden),'Año'] = '2022'"
   ],
   "metadata": {
    "collapsed": false,
    "pycharm": {
     "name": "#%%\n"
    }
   }
  },
  {
   "cell_type": "code",
   "execution_count": 46,
   "outputs": [
    {
     "data": {
      "text/plain": "     Unnamed: 0                               p1          p2  \\\n0             1   2022/06/14 5:51:02 p. m. GMT-5    43626114   \n1             2   2022/06/14 6:00:12 p. m. GMT-5    80196138   \n2             3   2022/06/14 6:02:47 p. m. GMT-5    45564671   \n3             4   2022/06/14 7:12:36 p. m. GMT-5    63457133   \n4             5   2022/06/14 7:50:57 p. m. GMT-5    40444572   \n..          ...                              ...         ...   \n162         163   2022/06/17 7:57:31 a. m. GMT-5  1073238433   \n163         164   2022/06/17 8:11:59 a. m. GMT-5    78732082   \n164         165   2022/06/17 8:32:32 a. m. GMT-5    91111243   \n165         166   2022/06/17 9:30:55 a. m. GMT-5  1077432939   \n166         167  2022/06/17 10:44:16 a. m. GMT-5    33102129   \n\n                                                    p3  \\\n0    Puedo encontrar apoyo de mis colegas para reso...   \n1    Puedo encontrar apoyo de mis colegas para reso...   \n2    Aprendo sobre nuevos temas en comunidad;Permit...   \n3    Puedo encontrar apoyo de mis colegas para reso...   \n4    Puedo encontrar apoyo de mis colegas para reso...   \n..                                                 ...   \n162  Puedo encontrar apoyo de mis colegas para reso...   \n163  Puedo encontrar apoyo de mis colegas para reso...   \n164  Puedo encontrar apoyo de mis colegas para reso...   \n165  Puedo encontrar apoyo de mis colegas para reso...   \n166  Permiten mejorar mis prácticas pedagógicas por...   \n\n                                                    p4  p5  \\\n0                                                   ND  Si   \n1    La red de aprendizaje comparte experiencias pe...  Si   \n2                                                   ND  No   \n3                      Mejorar cada dia como docentes.  No   \n4                                                   ND  No   \n..                                                 ...  ..   \n162  Es una gran oportunidad para conocer proyectos...  Si   \n163                Todo ayuda a mejorar mi añrendizaje  No   \n164  Es importante también aprender a conectar con ...  No   \n165                                                 ND  Si   \n166                                                 ND  Si   \n\n                                                    p6  p7  p8  p9  ...  p46  \\\n0                           Niños y niñas programación   5   5   5  ...    8   \n1    Comunidad IB bachillerato internacional y la c...   5   5   5  ...   10   \n2                                                   ND   5   5   4  ...    8   \n3                                                   ND   5   5   5  ...   10   \n4                                                   ND   4   5   5  ...    7   \n..                                                 ...  ..  ..  ..  ...  ...   \n162                                            NC-arte   4   5   5  ...    6   \n163                                                 ND   4   4   4  ...   10   \n164                                                 ND   5   5   5  ...    6   \n165                                      Platzi, UNIR.   4   4   5  ...   10   \n166  actualmente este año con la red de grado en la...   4   4   4  ...    6   \n\n                                                   p47    autoeficaciaPC  \\\n0                                                   ND               100   \n1    Atendería sus preguntas o sus propuestas para ...  89,0254237288136   \n2                                                   ND  97,2620599739244   \n3                                                   ND               100   \n4                                                   ND  66,7894393741851   \n..                                                 ...               ...   \n162                                                 ND               100   \n163  No se le debe dar la respuesta, no aprendería ...  63,7092568448501   \n164                                                 ND  82,8683181225554   \n165                                                 ND               100   \n166                                                 ND  66,3852672750978   \n\n     autoeficaciaTecno     sentidoComuni   conocimie_pedag   Año  \\\n0                  100               100               100  2022   \n1                  100  86,7576540022132               100  2022   \n2     89,3235435724603  93,6646993729251  73,9758732992154  2022   \n3                  100  92,3091110291405               100  2022   \n4     91,7067886374579  95,9332349686463               100  2022   \n..                 ...               ...               ...   ...   \n162   91,7067886374579  81,4644042788639  95,7329428310718  2022   \n163                 75  66,8664699372925                75  2022   \n164                100  64,7270379933604  94,8164811699895  2022   \n165   85,6764564275397  79,0667650313538    91,35028077652  2022   \n166                 75  79,0667650313538    58,64971922348  2022   \n\n     No. de documento del estudiante  Grupo                             Tutor  \n0                         43626114.0    I07  Fredy Alexander Cordoba Palacios  \n1                         80196138.0    I13        Juan Dario Timaran Jimenez  \n2                         45564671.0    I16       Marlon Cardenas Castellanos  \n3                         63457133.0    I18               Napoleón Roca Pérez  \n4                         40444572.0    I01            Vladimir Ortiz Herrera  \n..                               ...    ...                               ...  \n162                     1073238433.0    I10      Diana Carolina Ortega Orozco  \n163                       78732082.0    I03     Sirly Isabel Florez Benavides  \n164                       91111243.0    I03     Sirly Isabel Florez Benavides  \n165                     1077432939.0    I01            Vladimir Ortiz Herrera  \n166                       33102129.0    I16       Marlon Cardenas Castellanos  \n\n[167 rows x 56 columns]",
      "text/html": "<div>\n<style scoped>\n    .dataframe tbody tr th:only-of-type {\n        vertical-align: middle;\n    }\n\n    .dataframe tbody tr th {\n        vertical-align: top;\n    }\n\n    .dataframe thead th {\n        text-align: right;\n    }\n</style>\n<table border=\"1\" class=\"dataframe\">\n  <thead>\n    <tr style=\"text-align: right;\">\n      <th></th>\n      <th>Unnamed: 0</th>\n      <th>p1</th>\n      <th>p2</th>\n      <th>p3</th>\n      <th>p4</th>\n      <th>p5</th>\n      <th>p6</th>\n      <th>p7</th>\n      <th>p8</th>\n      <th>p9</th>\n      <th>...</th>\n      <th>p46</th>\n      <th>p47</th>\n      <th>autoeficaciaPC</th>\n      <th>autoeficaciaTecno</th>\n      <th>sentidoComuni</th>\n      <th>conocimie_pedag</th>\n      <th>Año</th>\n      <th>No. de documento del estudiante</th>\n      <th>Grupo</th>\n      <th>Tutor</th>\n    </tr>\n  </thead>\n  <tbody>\n    <tr>\n      <th>0</th>\n      <td>1</td>\n      <td>2022/06/14 5:51:02 p. m. GMT-5</td>\n      <td>43626114</td>\n      <td>Puedo encontrar apoyo de mis colegas para reso...</td>\n      <td>ND</td>\n      <td>Si</td>\n      <td>Niños y niñas programación</td>\n      <td>5</td>\n      <td>5</td>\n      <td>5</td>\n      <td>...</td>\n      <td>8</td>\n      <td>ND</td>\n      <td>100</td>\n      <td>100</td>\n      <td>100</td>\n      <td>100</td>\n      <td>2022</td>\n      <td>43626114.0</td>\n      <td>I07</td>\n      <td>Fredy Alexander Cordoba Palacios</td>\n    </tr>\n    <tr>\n      <th>1</th>\n      <td>2</td>\n      <td>2022/06/14 6:00:12 p. m. GMT-5</td>\n      <td>80196138</td>\n      <td>Puedo encontrar apoyo de mis colegas para reso...</td>\n      <td>La red de aprendizaje comparte experiencias pe...</td>\n      <td>Si</td>\n      <td>Comunidad IB bachillerato internacional y la c...</td>\n      <td>5</td>\n      <td>5</td>\n      <td>5</td>\n      <td>...</td>\n      <td>10</td>\n      <td>Atendería sus preguntas o sus propuestas para ...</td>\n      <td>89,0254237288136</td>\n      <td>100</td>\n      <td>86,7576540022132</td>\n      <td>100</td>\n      <td>2022</td>\n      <td>80196138.0</td>\n      <td>I13</td>\n      <td>Juan Dario Timaran Jimenez</td>\n    </tr>\n    <tr>\n      <th>2</th>\n      <td>3</td>\n      <td>2022/06/14 6:02:47 p. m. GMT-5</td>\n      <td>45564671</td>\n      <td>Aprendo sobre nuevos temas en comunidad;Permit...</td>\n      <td>ND</td>\n      <td>No</td>\n      <td>ND</td>\n      <td>5</td>\n      <td>5</td>\n      <td>4</td>\n      <td>...</td>\n      <td>8</td>\n      <td>ND</td>\n      <td>97,2620599739244</td>\n      <td>89,3235435724603</td>\n      <td>93,6646993729251</td>\n      <td>73,9758732992154</td>\n      <td>2022</td>\n      <td>45564671.0</td>\n      <td>I16</td>\n      <td>Marlon Cardenas Castellanos</td>\n    </tr>\n    <tr>\n      <th>3</th>\n      <td>4</td>\n      <td>2022/06/14 7:12:36 p. m. GMT-5</td>\n      <td>63457133</td>\n      <td>Puedo encontrar apoyo de mis colegas para reso...</td>\n      <td>Mejorar cada dia como docentes.</td>\n      <td>No</td>\n      <td>ND</td>\n      <td>5</td>\n      <td>5</td>\n      <td>5</td>\n      <td>...</td>\n      <td>10</td>\n      <td>ND</td>\n      <td>100</td>\n      <td>100</td>\n      <td>92,3091110291405</td>\n      <td>100</td>\n      <td>2022</td>\n      <td>63457133.0</td>\n      <td>I18</td>\n      <td>Napoleón Roca Pérez</td>\n    </tr>\n    <tr>\n      <th>4</th>\n      <td>5</td>\n      <td>2022/06/14 7:50:57 p. m. GMT-5</td>\n      <td>40444572</td>\n      <td>Puedo encontrar apoyo de mis colegas para reso...</td>\n      <td>ND</td>\n      <td>No</td>\n      <td>ND</td>\n      <td>4</td>\n      <td>5</td>\n      <td>5</td>\n      <td>...</td>\n      <td>7</td>\n      <td>ND</td>\n      <td>66,7894393741851</td>\n      <td>91,7067886374579</td>\n      <td>95,9332349686463</td>\n      <td>100</td>\n      <td>2022</td>\n      <td>40444572.0</td>\n      <td>I01</td>\n      <td>Vladimir Ortiz Herrera</td>\n    </tr>\n    <tr>\n      <th>...</th>\n      <td>...</td>\n      <td>...</td>\n      <td>...</td>\n      <td>...</td>\n      <td>...</td>\n      <td>...</td>\n      <td>...</td>\n      <td>...</td>\n      <td>...</td>\n      <td>...</td>\n      <td>...</td>\n      <td>...</td>\n      <td>...</td>\n      <td>...</td>\n      <td>...</td>\n      <td>...</td>\n      <td>...</td>\n      <td>...</td>\n      <td>...</td>\n      <td>...</td>\n      <td>...</td>\n    </tr>\n    <tr>\n      <th>162</th>\n      <td>163</td>\n      <td>2022/06/17 7:57:31 a. m. GMT-5</td>\n      <td>1073238433</td>\n      <td>Puedo encontrar apoyo de mis colegas para reso...</td>\n      <td>Es una gran oportunidad para conocer proyectos...</td>\n      <td>Si</td>\n      <td>NC-arte</td>\n      <td>4</td>\n      <td>5</td>\n      <td>5</td>\n      <td>...</td>\n      <td>6</td>\n      <td>ND</td>\n      <td>100</td>\n      <td>91,7067886374579</td>\n      <td>81,4644042788639</td>\n      <td>95,7329428310718</td>\n      <td>2022</td>\n      <td>1073238433.0</td>\n      <td>I10</td>\n      <td>Diana Carolina Ortega Orozco</td>\n    </tr>\n    <tr>\n      <th>163</th>\n      <td>164</td>\n      <td>2022/06/17 8:11:59 a. m. GMT-5</td>\n      <td>78732082</td>\n      <td>Puedo encontrar apoyo de mis colegas para reso...</td>\n      <td>Todo ayuda a mejorar mi añrendizaje</td>\n      <td>No</td>\n      <td>ND</td>\n      <td>4</td>\n      <td>4</td>\n      <td>4</td>\n      <td>...</td>\n      <td>10</td>\n      <td>No se le debe dar la respuesta, no aprendería ...</td>\n      <td>63,7092568448501</td>\n      <td>75</td>\n      <td>66,8664699372925</td>\n      <td>75</td>\n      <td>2022</td>\n      <td>78732082.0</td>\n      <td>I03</td>\n      <td>Sirly Isabel Florez Benavides</td>\n    </tr>\n    <tr>\n      <th>164</th>\n      <td>165</td>\n      <td>2022/06/17 8:32:32 a. m. GMT-5</td>\n      <td>91111243</td>\n      <td>Puedo encontrar apoyo de mis colegas para reso...</td>\n      <td>Es importante también aprender a conectar con ...</td>\n      <td>No</td>\n      <td>ND</td>\n      <td>5</td>\n      <td>5</td>\n      <td>5</td>\n      <td>...</td>\n      <td>6</td>\n      <td>ND</td>\n      <td>82,8683181225554</td>\n      <td>100</td>\n      <td>64,7270379933604</td>\n      <td>94,8164811699895</td>\n      <td>2022</td>\n      <td>91111243.0</td>\n      <td>I03</td>\n      <td>Sirly Isabel Florez Benavides</td>\n    </tr>\n    <tr>\n      <th>165</th>\n      <td>166</td>\n      <td>2022/06/17 9:30:55 a. m. GMT-5</td>\n      <td>1077432939</td>\n      <td>Puedo encontrar apoyo de mis colegas para reso...</td>\n      <td>ND</td>\n      <td>Si</td>\n      <td>Platzi, UNIR.</td>\n      <td>4</td>\n      <td>4</td>\n      <td>5</td>\n      <td>...</td>\n      <td>10</td>\n      <td>ND</td>\n      <td>100</td>\n      <td>85,6764564275397</td>\n      <td>79,0667650313538</td>\n      <td>91,35028077652</td>\n      <td>2022</td>\n      <td>1077432939.0</td>\n      <td>I01</td>\n      <td>Vladimir Ortiz Herrera</td>\n    </tr>\n    <tr>\n      <th>166</th>\n      <td>167</td>\n      <td>2022/06/17 10:44:16 a. m. GMT-5</td>\n      <td>33102129</td>\n      <td>Permiten mejorar mis prácticas pedagógicas por...</td>\n      <td>ND</td>\n      <td>Si</td>\n      <td>actualmente este año con la red de grado en la...</td>\n      <td>4</td>\n      <td>4</td>\n      <td>4</td>\n      <td>...</td>\n      <td>6</td>\n      <td>ND</td>\n      <td>66,3852672750978</td>\n      <td>75</td>\n      <td>79,0667650313538</td>\n      <td>58,64971922348</td>\n      <td>2022</td>\n      <td>33102129.0</td>\n      <td>I16</td>\n      <td>Marlon Cardenas Castellanos</td>\n    </tr>\n  </tbody>\n</table>\n<p>167 rows × 56 columns</p>\n</div>"
     },
     "execution_count": 46,
     "metadata": {},
     "output_type": "execute_result"
    }
   ],
   "source": [
    "cap_datos = cap.merge(form.loc[:,['No. de documento del estudiante', 'Grupo','Tutor']], left_on='p2', right_on='No. de documento del estudiante', how='left').fillna('ND')\n",
    "cap_datos"
   ],
   "metadata": {
    "collapsed": false,
    "pycharm": {
     "name": "#%%\n"
    }
   }
  },
  {
   "cell_type": "code",
   "execution_count": 47,
   "outputs": [],
   "source": [
    "cap_datos.to_excel('CAP_coninfo_jun17.xlsx',index=False)"
   ],
   "metadata": {
    "collapsed": false,
    "pycharm": {
     "name": "#%%\n"
    }
   }
  }
 ],
 "metadata": {
  "kernelspec": {
   "display_name": "Python 3",
   "language": "python",
   "name": "python3"
  },
  "language_info": {
   "codemirror_mode": {
    "name": "ipython",
    "version": 2
   },
   "file_extension": ".py",
   "mimetype": "text/x-python",
   "name": "python",
   "nbconvert_exporter": "python",
   "pygments_lexer": "ipython2",
   "version": "2.7.6"
  }
 },
 "nbformat": 4,
 "nbformat_minor": 0
}