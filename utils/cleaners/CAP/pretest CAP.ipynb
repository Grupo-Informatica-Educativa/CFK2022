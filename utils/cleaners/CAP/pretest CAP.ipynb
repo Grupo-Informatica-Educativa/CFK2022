{
 "cells": [
  {
   "cell_type": "markdown",
   "source": [
    "## Limpieza de datos pretest CAP"
   ],
   "metadata": {
    "collapsed": false,
    "pycharm": {
     "name": "#%% md\n"
    }
   }
  },
  {
   "cell_type": "code",
   "execution_count": 1,
   "outputs": [],
   "source": [
    "import pickle\n",
    "import re\n",
    "import pandas as pd\n",
    "import numpy as np\n",
    "\n",
    "from pathlib import Path\n",
    "from datetime import datetime\n",
    "\n",
    "import sys\n",
    "# temp = sys.stdout                 # store original stdout object for later\n",
    "# sys.stdout = open('log_directivos.txt', 'w') # redirect all prints to this log file\n",
    "\n",
    "## Estudiantes\n",
    "\n",
    "ruta =Path().cwd()\n",
    "\n",
    "with open(ruta/'columnas_pre_CAP.pickle', 'rb') as handle:\n",
    "    dict_cap = pickle.load(handle)\n",
    "\n",
    "sheet_id = \"1cgtlX-mHsUYBux4oPUL3TTaPhdEWXF2V3qG2_t9_E7Q\"\n",
    "sheet_name = \"Respuestas de formulario 1\"\n",
    "url = f\"https://docs.google.com/spreadsheets/d/{sheet_id}/gviz/tq?tqx=out:csv&sheet={sheet_name}\"\n",
    "url = url.replace(\" \", \"%20\")\n",
    "\n"
   ],
   "metadata": {
    "collapsed": false,
    "pycharm": {
     "name": "#%%\n"
    }
   }
  },
  {
   "cell_type": "code",
   "execution_count": 2,
   "outputs": [
    {
     "data": {
      "text/plain": "{'Marca temporal': 'Marca temporal',\n 'Digita tu número de cédula': 'CC',\n '¿Cómo considera usted que las comunidades de aprendizaje pueden contribuir a su labor docente? ': '1. Cómo pueden las comunidades de aprendizaje contribuir a su labor',\n 'Agregue comentarios que considere importantes para complementar su respuesta anterior.': 'Comentarios contribución a su labor',\n '¿Ha estado involucrado previamente en comunidades de aprendizaje?': '2.1 Involucrado previamente en comunidades de aprendizaje',\n '¿En cuál comunidad ha estado involucrado previamente?': '2.2 Comunidad de aprendizaje previa',\n 'Por favor evalúe los siguientes enunciados de acuerdo con su experiencia:  [Sé cómo resolver los problemas técnicos cuando fallan las TIC]': '3.01 Sé cómo resolver los problemas técnicos cuando fallan las TIC',\n 'Por favor evalúe los siguientes enunciados de acuerdo con su experiencia:  [Puedo aprender sobre nuevas tecnologías fácilmente]': '3.02 Puedo aprender sobre nuevas tecnologías fácilmente',\n 'Por favor evalúe los siguientes enunciados de acuerdo con su experiencia:  [Sé cómo usar las TIC con los estudiantes en clase]': '3.03 Sé cómo usar las TIC con los estudiantes en clase',\n 'Por favor evalúe los siguientes enunciados de acuerdo con su experiencia:  [Me apoyo en mis colegas para resolver problemas sobre cómo trabajar algún tema]': '4. Comentarios primera sección',\n 'Por favor evalúe los siguientes enunciados de acuerdo con su experiencia:  [Puedo hablar con otros docentes sobre el diseño de cursos]': '3.04 Usar el correo electrónico',\n 'Por favor evalúe los siguientes enunciados de acuerdo con su experiencia:  [Siento que tengo apoyo de otros docentes para el diseño de mis cursos]': '3.05 Crear y usar de modelos y simulaciones',\n 'Por favor evalúe los siguientes enunciados de acuerdo con su experiencia:  [No tengo con quién conversar sobre el diseño de mis cursos]': '3.06 Automatizar tareas',\n 'Agregue cualquier comentario o aclaración sobre los anteriores enunciados.': '3.07 Usar Word',\n 'Por favor evalúe de  las siguientes afirmaciones según qué tan de acuerdo está usted con enseñar las siguientes prácticas como objetivos de aprendizaje relacionados con el pensamiento computacional: [Usar el correo electrónico]': '3.08 Procesar Datos',\n 'Por favor evalúe de  las siguientes afirmaciones según qué tan de acuerdo está usted con enseñar las siguientes prácticas como objetivos de aprendizaje relacionados con el pensamiento computacional: [Crear y usar de modelos y simulaciones]': '3.09 Resolver problemas a través de herramientas computacionales (como simulaciones)',\n 'Por favor evalúe de  las siguientes afirmaciones según qué tan de acuerdo está usted con enseñar las siguientes prácticas como objetivos de aprendizaje relacionados con el pensamiento computacional: [Automatizar tareas]': '3.10 Resolver problemas a través de herramientas computacionales (como lenguajes de programación)',\n 'Por favor evalúe de  las siguientes afirmaciones según qué tan de acuerdo está usted con enseñar las siguientes prácticas como objetivos de aprendizaje relacionados con el pensamiento computacional: [Usar Word]': '5.01 Me apoyo en mis colegas para resolver problemas sobre cómo trabajar algún tema',\n 'Por favor evalúe de  las siguientes afirmaciones según qué tan de acuerdo está usted con enseñar las siguientes prácticas como objetivos de aprendizaje relacionados con el pensamiento computacional: [Procesar Datos]': '5.02 Puedo hablar con otros docentes sobre el diseño de cursos',\n 'Por favor evalúe de  las siguientes afirmaciones según qué tan de acuerdo está usted con enseñar las siguientes prácticas como objetivos de aprendizaje relacionados con el pensamiento computacional: [Resolver problemas a través de herramientas computacionales (como simulaciones)]': '5.03 Siento que tengo apoyo de otros docentes para el diseño de mis cursos',\n 'Por favor evalúe de  las siguientes afirmaciones según qué tan de acuerdo está usted con enseñar las siguientes prácticas como objetivos de aprendizaje relacionados con el pensamiento computacional: [Resolver problemas a través de herramientas computacionales (como lenguajes de programación)]': '5.04 No tengo con quién conversar sobre el diseño de mis cursos',\n 'Por favor evalúe los siguientes enunciados de acuerdo con qué tan preparado(a) se siente para integrar el pensamiento computacional en sus cursos. [Puedo aplicar las prácticas y habilidades del pensamiento computacional a mi trabajo]': '6.01 Puedo aplicar las prácticas y habilidades del pensamiento computacional a mi trabajo',\n 'Por favor evalúe los siguientes enunciados de acuerdo con qué tan preparado(a) se siente para integrar el pensamiento computacional en sus cursos. [Puedo definir el pensamiento computacional]': '6.02 Puedo definir el pensamiento computacional',\n 'Por favor evalúe los siguientes enunciados de acuerdo con qué tan preparado(a) se siente para integrar el pensamiento computacional en sus cursos. [Puedo describir las prácticas y habilidades que componen el pensamiento computacional a mis estudiantes]': '6.03 Puedo describir las prácticas y habilidades que componen el pensamiento computacional a mis estudiantes',\n 'Por favor evalúe los siguientes enunciados de acuerdo con qué tan preparado(a) se siente para integrar el pensamiento computacional en sus cursos. [Puedo aplicar las prácticas y habilidades del pensamiento computacional a mi vida diaria]': '6.04 Puedo aplicar las prácticas y habilidades del pensamiento computacional a mi vida diaria',\n 'Por favor evalúe los siguientes enunciados de acuerdo con qué tan preparado(a) se siente para integrar el pensamiento computacional en sus cursos. [Creo que tengo las habilidades para desarrollar el pensamiento computacional en mis estudiantes]': '6.05 Creo que tengo las habilidades para desarrollar el pensamiento computacional en mis estudiantes',\n 'Por favor evalúe los siguientes enunciados de acuerdo con qué tan preparado(a) se siente para integrar el pensamiento computacional en sus cursos. [Puedo enseñar fácilmente sobre nuevas prácticas computacionales]': '6.06 Puedo enseñar fácilmente sobre nuevas prácticas computacionales',\n 'Por favor evalúe los siguientes enunciados de acuerdo con qué tan preparado(a) se siente para integrar el pensamiento computacional en sus cursos. [Puedo diseñar una clase que desarrolle el pensamiento computacional en los estudiantes]': '6.07 Puedo diseñar una clase que desarrolle el pensamiento computacional en los estudiantes',\n 'Por favor evalúe los siguientes enunciados de acuerdo con qué tan preparado(a) se siente para integrar el pensamiento computacional en sus cursos. [Puedo seleccionar tecnologías para usar en mi salón de clases, que me permitan mejorar qué enseño y cómo enseño pensamiento computacional.]': '6.08 Puedo seleccionar tecnologías para usar en mi salón de clases, que me permitan mejorar qué enseño y cómo enseño pensamiento computacional.',\n 'Por favor evalúe los siguientes enunciados de acuerdo con qué tan preparado(a) se siente para integrar el pensamiento computacional en sus cursos. [Puedo aplicar mis habilidades en pensamiento computacional para ayudar a los estudiantes a perseguir sus intereses individuales]': '6.09 Puedo aplicar mis habilidades en pensamiento computacional para ayudar a los estudiantes a perseguir sus intereses individuales',\n 'Por favor evalúe los siguientes enunciados de acuerdo con qué tan preparado(a) se siente para integrar el pensamiento computacional en sus cursos. [Puedo implementar y evaluar la idoneidad de una estrategia pedagógica que le permita a los estudiantes desarrollar pensamiento computacional]': '6.10 Puedo implementar y evaluar la idoneidad de una estrategia pedagógica que le permita a los estudiantes desarrollar pensamiento computacional',\n 'Agregue cualquier comentario o aclaración sobre los anteriores enunciados..1': '7. Comentarios enunciados pensamiento computacional',\n 'En una escala de 1 a 10 (donde 10 es muy a menudo), con qué frecuencia utilizarías las siguientes prácticas pedagógicas para enseñar pensamiento computacional.  [Actividades desconectadas]': '8.01 Actividades desconectadas',\n 'En una escala de 1 a 10 (donde 10 es muy a menudo), con qué frecuencia utilizarías las siguientes prácticas pedagógicas para enseñar pensamiento computacional.  [Usa-Modifica-Crea]': '8.02 Usa-Modifica-Crea',\n 'En una escala de 1 a 10 (donde 10 es muy a menudo), con qué frecuencia utilizarías las siguientes prácticas pedagógicas para enseñar pensamiento computacional.  [Clase magistral]': '8.03 Clase magistral',\n 'En una escala de 1 a 10 (donde 10 es muy a menudo), con qué frecuencia utilizarías las siguientes prácticas pedagógicas para enseñar pensamiento computacional.  [Enseñanza explícita y sin ambigüedades]': '8.04 Enseñanza explícita y sin ambigüedades',\n 'En una escala de 1 a 10 (donde 10 es muy a menudo), con qué frecuencia utilizarías las siguientes prácticas pedagógicas para enseñar pensamiento computacional.  [Marcha Silenciosa]': '8.05 Marcha Silenciosa',\n 'En una escala de 1 a 10 (donde 10 es muy a menudo), con qué frecuencia utilizarías las siguientes prácticas pedagógicas para enseñar pensamiento computacional.  [Aprendizaje basado en proyectos]': '8.06 Aprendizaje basado en proyectos',\n 'Agregue cualquier comentario o aclaración adicional sobre las estrategias de enseñanza.': '9. Comentarios sobre las estrategias de enseñanza.',\n 'Cuando un estudiante se enfrenta a una dificultad creando un programa y no sabe si está correcto, qué tan a menudo, en una escala de 1-10 (donde 10 es siempre), usted:  [Le explicaría la respuesta correcta]': '10.01 Le explicaría la respuesta correcta',\n 'Cuando un estudiante se enfrenta a una dificultad creando un programa y no sabe si está correcto, qué tan a menudo, en una escala de 1-10 (donde 10 es siempre), usted:  [Le sugeriría ir paso a paso por el programa simulando su ejecución]': '10.02 Le sugeriría ir paso a paso por el programa simulando su ejecución',\n 'Cuando un estudiante se enfrenta a una dificultad creando un programa y no sabe si está correcto, qué tan a menudo, en una escala de 1-10 (donde 10 es siempre), usted:  [Le diría que revise sus notas]': '10.03 Le diría que revise sus notas',\n 'Cuando un estudiante se enfrenta a una dificultad creando un programa y no sabe si está correcto, qué tan a menudo, en una escala de 1-10 (donde 10 es siempre), usted:  [Le sugeriría que revise las memorias colectivas]': '10.04 Le sugeriría que revise las memorias colectivas',\n 'Cuando un estudiante se enfrenta a una dificultad creando un programa y no sabe si está correcto, qué tan a menudo, en una escala de 1-10 (donde 10 es siempre), usted:  [Le sugeriría volver a leer el problema]': '10.05 Le sugeriría volver a leer el problema',\n 'Cuando un estudiante se enfrenta a una dificultad creando un programa y no sabe si está correcto, qué tan a menudo, en una escala de 1-10 (donde 10 es siempre), usted:  [Le sugeriría intentar con varios valores para evaluar el programa]': '10.06 Le sugeriría intentar con varios valores para evaluar el programa',\n 'Cuando un estudiante se enfrenta a una dificultad creando un programa y no sabe si está correcto, qué tan a menudo, en una escala de 1-10 (donde 10 es siempre), usted:  [Le explicaría el problema nuevamente]': '10.07 Le explicaría el problema nuevamente',\n 'Agregue cualquier comentario o aclaración adicional sobre las estrategias de enseñanza..1': '11. Comentarios sobre las estrategias de corrección'}"
     },
     "execution_count": 2,
     "metadata": {},
     "output_type": "execute_result"
    }
   ],
   "source": [
    "dict_cap"
   ],
   "metadata": {
    "collapsed": false,
    "pycharm": {
     "name": "#%%\n"
    }
   }
  },
  {
   "cell_type": "markdown",
   "source": [
    "dict_cap['¿Ha estado involucrado previamente en comunidades de aprendizaje?'] = '2.1 Involucrado previamente en comunidades de aprendizaje'\n",
    "dict_cap['¿En cuál comunidad ha estado involucrado previamente?']='2.2 Comunidad de aprendizaje previa'\n",
    "with open(ruta/'columnas_pre_CAP.pickle', 'wb') as handle:\n",
    "    pickle.dump(dict_cap,handle)\n"
   ],
   "metadata": {
    "collapsed": false,
    "pycharm": {
     "name": "#%% md\n"
    }
   }
  },
  {
   "cell_type": "code",
   "execution_count": 3,
   "outputs": [],
   "source": [
    "def divide_question_YES_NO(num_col, str_col, opciones, df):\n",
    "    for i, op in enumerate(opciones):\n",
    "        #print(num_col, i)\n",
    "        subpreg = f'{num_col}.{i+1} {op}'\n",
    "        mask = df[str_col].str.contains(op, na=False)\n",
    "        df[subpreg] = mask.copy()\n",
    "        df.loc[:, subpreg] = df.loc[:, subpreg].replace({True: 'SI', False: 'NO'}).copy()\n"
   ],
   "metadata": {
    "collapsed": false,
    "pycharm": {
     "name": "#%%\n"
    }
   }
  },
  {
   "cell_type": "code",
   "execution_count": 4,
   "outputs": [],
   "source": [
    "cap=pd.read_csv(url)\n",
    "cap = cap.rename(columns=dict_cap)\n",
    "cap = cap.dropna(subset='CC')\n"
   ],
   "metadata": {
    "collapsed": false,
    "pycharm": {
     "name": "#%%\n"
    }
   }
  },
  {
   "cell_type": "code",
   "execution_count": 5,
   "outputs": [
    {
     "data": {
      "text/plain": "Index(['Marca temporal', 'CC',\n       '1. Cómo pueden las comunidades de aprendizaje contribuir a su labor',\n       'Comentarios contribución a su labor',\n       '2.1 Involucrado previamente en comunidades de aprendizaje',\n       '2.2 Comunidad de aprendizaje previa',\n       '3.01 Sé cómo resolver los problemas técnicos cuando fallan las TIC',\n       '3.02 Puedo aprender sobre nuevas tecnologías fácilmente',\n       '3.03 Sé cómo usar las TIC con los estudiantes en clase',\n       '4. Comentarios primera sección', '3.04 Usar el correo electrónico',\n       '3.05 Crear y usar de modelos y simulaciones',\n       '3.06 Automatizar tareas', '3.07 Usar Word', '3.08 Procesar Datos',\n       '3.09 Resolver problemas a través de herramientas computacionales (como simulaciones)',\n       '3.10 Resolver problemas a través de herramientas computacionales (como lenguajes de programación)',\n       '5.01 Me apoyo en mis colegas para resolver problemas sobre cómo trabajar algún tema',\n       '5.02 Puedo hablar con otros docentes sobre el diseño de cursos',\n       '5.03 Siento que tengo apoyo de otros docentes para el diseño de mis cursos',\n       '5.04 No tengo con quién conversar sobre el diseño de mis cursos',\n       '6.01 Puedo aplicar las prácticas y habilidades del pensamiento computacional a mi trabajo',\n       '6.02 Puedo definir el pensamiento computacional',\n       '6.03 Puedo describir las prácticas y habilidades que componen el pensamiento computacional a mis estudiantes',\n       '6.04 Puedo aplicar las prácticas y habilidades del pensamiento computacional a mi vida diaria',\n       '6.05 Creo que tengo las habilidades para desarrollar el pensamiento computacional en mis estudiantes',\n       '6.06 Puedo enseñar fácilmente sobre nuevas prácticas computacionales',\n       '6.07 Puedo diseñar una clase que desarrolle el pensamiento computacional en los estudiantes',\n       '6.08 Puedo seleccionar tecnologías para usar en mi salón de clases, que me permitan mejorar qué enseño y cómo enseño pensamiento computacional.',\n       '6.09 Puedo aplicar mis habilidades en pensamiento computacional para ayudar a los estudiantes a perseguir sus intereses individuales',\n       '6.10 Puedo implementar y evaluar la idoneidad de una estrategia pedagógica que le permita a los estudiantes desarrollar pensamiento computacional',\n       '7. Comentarios enunciados pensamiento computacional',\n       '8.01 Actividades desconectadas', '8.02 Usa-Modifica-Crea',\n       '8.03 Clase magistral', '8.04 Enseñanza explícita y sin ambigüedades',\n       '8.05 Marcha Silenciosa', '8.06 Aprendizaje basado en proyectos',\n       '9. Comentarios sobre las estrategias de enseñanza.',\n       '10.01 Le explicaría la respuesta correcta',\n       '10.02 Le sugeriría ir paso a paso por el programa simulando su ejecución',\n       '10.03 Le diría que revise sus notas',\n       '10.04 Le sugeriría que revise las memorias colectivas',\n       '10.05 Le sugeriría volver a leer el problema',\n       '10.06 Le sugeriría intentar con varios valores para evaluar el programa',\n       '10.07 Le explicaría el problema nuevamente',\n       '11. Comentarios sobre las estrategias de corrección'],\n      dtype='object')"
     },
     "execution_count": 5,
     "metadata": {},
     "output_type": "execute_result"
    }
   ],
   "source": [
    "cap.columns"
   ],
   "metadata": {
    "collapsed": false,
    "pycharm": {
     "name": "#%%\n"
    }
   }
  },
  {
   "cell_type": "code",
   "execution_count": 6,
   "outputs": [],
   "source": [
    "cap['1. Cómo pueden las comunidades de aprendizaje contribuir a su labor'] = cap['1. Cómo pueden las comunidades de aprendizaje contribuir a su labor'].str.replace('STEM','stem')\n",
    "cap['1. Cómo pueden las comunidades de aprendizaje contribuir a su labor'] = cap['1. Cómo pueden las comunidades de aprendizaje contribuir a su labor'].str.replace('Comunidades de Aprendizaje','comunidades de aprendizaje')"
   ],
   "metadata": {
    "collapsed": false,
    "pycharm": {
     "name": "#%%\n"
    }
   }
  },
  {
   "cell_type": "code",
   "execution_count": 7,
   "outputs": [],
   "source": [
    "respuestas = list(set(cap['1. Cómo pueden las comunidades de aprendizaje contribuir a su labor']))\n"
   ],
   "metadata": {
    "collapsed": false,
    "pycharm": {
     "name": "#%%\n"
    }
   }
  },
  {
   "cell_type": "code",
   "execution_count": 8,
   "outputs": [
    {
     "data": {
      "text/plain": "14"
     },
     "execution_count": 8,
     "metadata": {},
     "output_type": "execute_result"
    }
   ],
   "source": [
    "op_1 = []\n",
    "for r in respuestas:\n",
    "    r_2 = re.findall('[A-Z][^A-Z]*', r)\n",
    "    for x in r_2:\n",
    "        x_2 = x.strip(\" ,\")\n",
    "        if x_2 not in op_1:\n",
    "            op_1.append(x_2)\n",
    "len(op_1)\n",
    "\n",
    "\n"
   ],
   "metadata": {
    "collapsed": false,
    "pycharm": {
     "name": "#%%\n"
    }
   }
  },
  {
   "cell_type": "code",
   "execution_count": 9,
   "outputs": [],
   "source": [
    "opciones =op_1\n",
    "col = '1. Cómo pueden las comunidades de aprendizaje contribuir a su labor'\n",
    "\n",
    "divide_question_YES_NO(1, col, opciones, cap)"
   ],
   "metadata": {
    "collapsed": false,
    "pycharm": {
     "name": "#%%\n"
    }
   }
  },
  {
   "cell_type": "code",
   "execution_count": 10,
   "outputs": [
    {
     "data": {
      "text/plain": "          Marca temporal            CC  \\\n1    14/06/2022 17:51:03  4.362611e+07   \n2    14/06/2022 18:00:12  8.019614e+07   \n3    14/06/2022 18:02:47  4.556467e+07   \n4    14/06/2022 19:12:37  6.345713e+07   \n5    14/06/2022 19:50:57  4.044457e+07   \n..                   ...           ...   \n197  22/06/2022 16:36:21  5.293052e+07   \n198   24/06/2022 8:11:14  7.170453e+07   \n199  26/06/2022 22:19:19  1.035233e+09   \n200  27/06/2022 19:20:01  4.562300e+07   \n201  28/06/2022 12:11:28  3.774890e+07   \n\n    1. Cómo pueden las comunidades de aprendizaje contribuir a su labor  \\\n1    Puedo encontrar apoyo de mis colegas para reso...                    \n2    Puedo encontrar apoyo de mis colegas para reso...                    \n3    Aprendo sobre nuevos temas en comunidad, Permi...                    \n4    Puedo encontrar apoyo de mis colegas para reso...                    \n5    Puedo encontrar apoyo de mis colegas para reso...                    \n..                                                 ...                    \n197  Puedo encontrar apoyo de mis colegas para reso...                    \n198  Permiten mejorar mis prácticas pedagógicas por...                    \n199  Puedo encontrar apoyo de mis colegas para reso...                    \n200  Aprendo sobre nuevos temas en comunidad, Permi...                    \n201  Puedo encontrar apoyo de mis colegas para reso...                    \n\n                   Comentarios contribución a su labor  \\\n1                                                  NaN   \n2    La red de aprendizaje comparte experiencias pe...   \n3                                                  NaN   \n4                     Mejorar cada dia como docentes.    \n5                                                  NaN   \n..                                                 ...   \n197  Es importante mantener la motivación y las opo...   \n198                         Intercambiar conocimientos   \n199  Considero que las comunidades de aprendizaje s...   \n200                                                NaN   \n201  Las comunidades de aprendizaje las considero d...   \n\n    2.1 Involucrado previamente en comunidades de aprendizaje  \\\n1                                                   Si          \n2                                                   Si          \n3                                                   No          \n4                                                   No          \n5                                                   No          \n..                                                 ...          \n197                                                 No          \n198                                                 No          \n199                                                 No          \n200                                                 Si          \n201                                                 Si          \n\n                   2.2 Comunidad de aprendizaje previa  \\\n1                          Niños y niñas programación    \n2    Comunidad IB bachillerato internacional y la c...   \n3                                                  NaN   \n4                                                  NaN   \n5                                                  NaN   \n..                                                 ...   \n197                                                NaN   \n198                                                NaN   \n199                                                NaN   \n200                                   en areas básicas   \n201                                            scratch   \n\n    3.01 Sé cómo resolver los problemas técnicos cuando fallan las TIC  \\\n1                                Totalmente de acuerdo                   \n2                                Totalmente de acuerdo                   \n3                                Totalmente de acuerdo                   \n4                                Totalmente de acuerdo                   \n5                                           De acuerdo                   \n..                                                 ...                   \n197                                         De acuerdo                   \n198                              Totalmente de acuerdo                   \n199                                         De acuerdo                   \n200                           Totalmente en desacuerdo                   \n201                                         De acuerdo                   \n\n    3.02 Puedo aprender sobre nuevas tecnologías fácilmente  \\\n1                                Totalmente de acuerdo        \n2                                Totalmente de acuerdo        \n3                                Totalmente de acuerdo        \n4                                Totalmente de acuerdo        \n5                                Totalmente de acuerdo        \n..                                                 ...        \n197                                         De acuerdo        \n198                              Totalmente de acuerdo        \n199                              Totalmente de acuerdo        \n200                                              Netro        \n201                                         De acuerdo        \n\n    3.03 Sé cómo usar las TIC con los estudiantes en clase  \\\n1                                Totalmente de acuerdo       \n2                                Totalmente de acuerdo       \n3                                           De acuerdo       \n4                                Totalmente de acuerdo       \n5                                Totalmente de acuerdo       \n..                                                 ...       \n197                                         De acuerdo       \n198                              Totalmente de acuerdo       \n199                              Totalmente de acuerdo       \n200                                              Netro       \n201                                         De acuerdo       \n\n    4. Comentarios primera sección  ...  \\\n1            Totalmente de acuerdo  ...   \n2                       De acuerdo  ...   \n3                       De acuerdo  ...   \n4            Totalmente de acuerdo  ...   \n5                            Netro  ...   \n..                             ...  ...   \n197          Totalmente de acuerdo  ...   \n198          Totalmente de acuerdo  ...   \n199                     De acuerdo  ...   \n200                     De acuerdo  ...   \n201                     De acuerdo  ...   \n\n    1.5 Puedo evidenciar que hombres y mujeres poseemos capacidades intelectuales semejantes  \\\n1                                                   SI                                         \n2                                                   NO                                         \n3                                                   NO                                         \n4                                                   SI                                         \n5                                                   NO                                         \n..                                                 ...                                         \n197                                                 SI                                         \n198                                                 SI                                         \n199                                                 SI                                         \n200                                                 NO                                         \n201                                                 SI                                         \n\n    1.6 Puedo encontrar apoyo de otros y otras docentes para el diseño de mis cursos  \\\n1                                                   SI                                 \n2                                                   SI                                 \n3                                                   NO                                 \n4                                                   SI                                 \n5                                                   SI                                 \n..                                                 ...                                 \n197                                                 NO                                 \n198                                                 NO                                 \n199                                                 SI                                 \n200                                                 NO                                 \n201                                                 SI                                 \n\n    1.7 Puedo recibir retroalimentación de mis prácticas pedagógicas  \\\n1                                                   SI                 \n2                                                   SI                 \n3                                                   SI                 \n4                                                   SI                 \n5                                                   NO                 \n..                                                 ...                 \n197                                                 NO                 \n198                                                 SI                 \n199                                                 SI                 \n200                                                 SI                 \n201                                                 SI                 \n\n    1.8 Aprendo a evaluar mis vacíos y fortalezas conceptuales  \\\n1                                                   SI           \n2                                                   NO           \n3                                                   NO           \n4                                                   SI           \n5                                                   NO           \n..                                                 ...           \n197                                                 SI           \n198                                                 NO           \n199                                                 SI           \n200                                                 NO           \n201                                                 SI           \n\n    1.9 Puedo evidenciar habilidades y destrezas de las mujeres en áreas stem  \\\n1                                                   SI                          \n2                                                   NO                          \n3                                                   NO                          \n4                                                   SI                          \n5                                                   SI                          \n..                                                 ...                          \n197                                                 NO                          \n198                                                 SI                          \n199                                                 SI                          \n200                                                 NO                          \n201                                                 SI                          \n\n    1.10 Puedo hablar con otros y otras docentes sobre el diseño de cursos  \\\n1                                                   SI                       \n2                                                   NO                       \n3                                                   NO                       \n4                                                   SI                       \n5                                                   NO                       \n..                                                 ...                       \n197                                                 NO                       \n198                                                 NO                       \n199                                                 SI                       \n200                                                 NO                       \n201                                                 SI                       \n\n    1.11 Aprendo sobre nuevos temas en comunidad  \\\n1                                             SI   \n2                                             NO   \n3                                             SI   \n4                                             SI   \n5                                             NO   \n..                                           ...   \n197                                           NO   \n198                                           NO   \n199                                           SI   \n200                                           SI   \n201                                           SI   \n\n    1.12 Puedo conocer diversas plataformas de comunicación para establecer redes de trabajo  \\\n1                                                   SI                                         \n2                                                   NO                                         \n3                                                   NO                                         \n4                                                   SI                                         \n5                                                   NO                                         \n..                                                 ...                                         \n197                                                 NO                                         \n198                                                 NO                                         \n199                                                 SI                                         \n200                                                 NO                                         \n201                                                 SI                                         \n\n    1.13 Puedo aprender a ser líder en comunidades de aprendizaje  \\\n1                                                   SI              \n2                                                   NO              \n3                                                   NO              \n4                                                   SI              \n5                                                   NO              \n..                                                 ...              \n197                                                 NO              \n198                                                 NO              \n199                                                 SI              \n200                                                 NO              \n201                                                 SI              \n\n    1.14 Las comunidades de aprendizaje no aportan significativamente a mi labor docente  \n1                                                   SI                                    \n2                                                   NO                                    \n3                                                   NO                                    \n4                                                   NO                                    \n5                                                   NO                                    \n..                                                 ...                                    \n197                                                 NO                                    \n198                                                 NO                                    \n199                                                 NO                                    \n200                                                 NO                                    \n201                                                 SI                                    \n\n[201 rows x 61 columns]",
      "text/html": "<div>\n<style scoped>\n    .dataframe tbody tr th:only-of-type {\n        vertical-align: middle;\n    }\n\n    .dataframe tbody tr th {\n        vertical-align: top;\n    }\n\n    .dataframe thead th {\n        text-align: right;\n    }\n</style>\n<table border=\"1\" class=\"dataframe\">\n  <thead>\n    <tr style=\"text-align: right;\">\n      <th></th>\n      <th>Marca temporal</th>\n      <th>CC</th>\n      <th>1. Cómo pueden las comunidades de aprendizaje contribuir a su labor</th>\n      <th>Comentarios contribución a su labor</th>\n      <th>2.1 Involucrado previamente en comunidades de aprendizaje</th>\n      <th>2.2 Comunidad de aprendizaje previa</th>\n      <th>3.01 Sé cómo resolver los problemas técnicos cuando fallan las TIC</th>\n      <th>3.02 Puedo aprender sobre nuevas tecnologías fácilmente</th>\n      <th>3.03 Sé cómo usar las TIC con los estudiantes en clase</th>\n      <th>4. Comentarios primera sección</th>\n      <th>...</th>\n      <th>1.5 Puedo evidenciar que hombres y mujeres poseemos capacidades intelectuales semejantes</th>\n      <th>1.6 Puedo encontrar apoyo de otros y otras docentes para el diseño de mis cursos</th>\n      <th>1.7 Puedo recibir retroalimentación de mis prácticas pedagógicas</th>\n      <th>1.8 Aprendo a evaluar mis vacíos y fortalezas conceptuales</th>\n      <th>1.9 Puedo evidenciar habilidades y destrezas de las mujeres en áreas stem</th>\n      <th>1.10 Puedo hablar con otros y otras docentes sobre el diseño de cursos</th>\n      <th>1.11 Aprendo sobre nuevos temas en comunidad</th>\n      <th>1.12 Puedo conocer diversas plataformas de comunicación para establecer redes de trabajo</th>\n      <th>1.13 Puedo aprender a ser líder en comunidades de aprendizaje</th>\n      <th>1.14 Las comunidades de aprendizaje no aportan significativamente a mi labor docente</th>\n    </tr>\n  </thead>\n  <tbody>\n    <tr>\n      <th>1</th>\n      <td>14/06/2022 17:51:03</td>\n      <td>4.362611e+07</td>\n      <td>Puedo encontrar apoyo de mis colegas para reso...</td>\n      <td>NaN</td>\n      <td>Si</td>\n      <td>Niños y niñas programación</td>\n      <td>Totalmente de acuerdo</td>\n      <td>Totalmente de acuerdo</td>\n      <td>Totalmente de acuerdo</td>\n      <td>Totalmente de acuerdo</td>\n      <td>...</td>\n      <td>SI</td>\n      <td>SI</td>\n      <td>SI</td>\n      <td>SI</td>\n      <td>SI</td>\n      <td>SI</td>\n      <td>SI</td>\n      <td>SI</td>\n      <td>SI</td>\n      <td>SI</td>\n    </tr>\n    <tr>\n      <th>2</th>\n      <td>14/06/2022 18:00:12</td>\n      <td>8.019614e+07</td>\n      <td>Puedo encontrar apoyo de mis colegas para reso...</td>\n      <td>La red de aprendizaje comparte experiencias pe...</td>\n      <td>Si</td>\n      <td>Comunidad IB bachillerato internacional y la c...</td>\n      <td>Totalmente de acuerdo</td>\n      <td>Totalmente de acuerdo</td>\n      <td>Totalmente de acuerdo</td>\n      <td>De acuerdo</td>\n      <td>...</td>\n      <td>NO</td>\n      <td>SI</td>\n      <td>SI</td>\n      <td>NO</td>\n      <td>NO</td>\n      <td>NO</td>\n      <td>NO</td>\n      <td>NO</td>\n      <td>NO</td>\n      <td>NO</td>\n    </tr>\n    <tr>\n      <th>3</th>\n      <td>14/06/2022 18:02:47</td>\n      <td>4.556467e+07</td>\n      <td>Aprendo sobre nuevos temas en comunidad, Permi...</td>\n      <td>NaN</td>\n      <td>No</td>\n      <td>NaN</td>\n      <td>Totalmente de acuerdo</td>\n      <td>Totalmente de acuerdo</td>\n      <td>De acuerdo</td>\n      <td>De acuerdo</td>\n      <td>...</td>\n      <td>NO</td>\n      <td>NO</td>\n      <td>SI</td>\n      <td>NO</td>\n      <td>NO</td>\n      <td>NO</td>\n      <td>SI</td>\n      <td>NO</td>\n      <td>NO</td>\n      <td>NO</td>\n    </tr>\n    <tr>\n      <th>4</th>\n      <td>14/06/2022 19:12:37</td>\n      <td>6.345713e+07</td>\n      <td>Puedo encontrar apoyo de mis colegas para reso...</td>\n      <td>Mejorar cada dia como docentes.</td>\n      <td>No</td>\n      <td>NaN</td>\n      <td>Totalmente de acuerdo</td>\n      <td>Totalmente de acuerdo</td>\n      <td>Totalmente de acuerdo</td>\n      <td>Totalmente de acuerdo</td>\n      <td>...</td>\n      <td>SI</td>\n      <td>SI</td>\n      <td>SI</td>\n      <td>SI</td>\n      <td>SI</td>\n      <td>SI</td>\n      <td>SI</td>\n      <td>SI</td>\n      <td>SI</td>\n      <td>NO</td>\n    </tr>\n    <tr>\n      <th>5</th>\n      <td>14/06/2022 19:50:57</td>\n      <td>4.044457e+07</td>\n      <td>Puedo encontrar apoyo de mis colegas para reso...</td>\n      <td>NaN</td>\n      <td>No</td>\n      <td>NaN</td>\n      <td>De acuerdo</td>\n      <td>Totalmente de acuerdo</td>\n      <td>Totalmente de acuerdo</td>\n      <td>Netro</td>\n      <td>...</td>\n      <td>NO</td>\n      <td>SI</td>\n      <td>NO</td>\n      <td>NO</td>\n      <td>SI</td>\n      <td>NO</td>\n      <td>NO</td>\n      <td>NO</td>\n      <td>NO</td>\n      <td>NO</td>\n    </tr>\n    <tr>\n      <th>...</th>\n      <td>...</td>\n      <td>...</td>\n      <td>...</td>\n      <td>...</td>\n      <td>...</td>\n      <td>...</td>\n      <td>...</td>\n      <td>...</td>\n      <td>...</td>\n      <td>...</td>\n      <td>...</td>\n      <td>...</td>\n      <td>...</td>\n      <td>...</td>\n      <td>...</td>\n      <td>...</td>\n      <td>...</td>\n      <td>...</td>\n      <td>...</td>\n      <td>...</td>\n      <td>...</td>\n    </tr>\n    <tr>\n      <th>197</th>\n      <td>22/06/2022 16:36:21</td>\n      <td>5.293052e+07</td>\n      <td>Puedo encontrar apoyo de mis colegas para reso...</td>\n      <td>Es importante mantener la motivación y las opo...</td>\n      <td>No</td>\n      <td>NaN</td>\n      <td>De acuerdo</td>\n      <td>De acuerdo</td>\n      <td>De acuerdo</td>\n      <td>Totalmente de acuerdo</td>\n      <td>...</td>\n      <td>SI</td>\n      <td>NO</td>\n      <td>NO</td>\n      <td>SI</td>\n      <td>NO</td>\n      <td>NO</td>\n      <td>NO</td>\n      <td>NO</td>\n      <td>NO</td>\n      <td>NO</td>\n    </tr>\n    <tr>\n      <th>198</th>\n      <td>24/06/2022 8:11:14</td>\n      <td>7.170453e+07</td>\n      <td>Permiten mejorar mis prácticas pedagógicas por...</td>\n      <td>Intercambiar conocimientos</td>\n      <td>No</td>\n      <td>NaN</td>\n      <td>Totalmente de acuerdo</td>\n      <td>Totalmente de acuerdo</td>\n      <td>Totalmente de acuerdo</td>\n      <td>Totalmente de acuerdo</td>\n      <td>...</td>\n      <td>SI</td>\n      <td>NO</td>\n      <td>SI</td>\n      <td>NO</td>\n      <td>SI</td>\n      <td>NO</td>\n      <td>NO</td>\n      <td>NO</td>\n      <td>NO</td>\n      <td>NO</td>\n    </tr>\n    <tr>\n      <th>199</th>\n      <td>26/06/2022 22:19:19</td>\n      <td>1.035233e+09</td>\n      <td>Puedo encontrar apoyo de mis colegas para reso...</td>\n      <td>Considero que las comunidades de aprendizaje s...</td>\n      <td>No</td>\n      <td>NaN</td>\n      <td>De acuerdo</td>\n      <td>Totalmente de acuerdo</td>\n      <td>Totalmente de acuerdo</td>\n      <td>De acuerdo</td>\n      <td>...</td>\n      <td>SI</td>\n      <td>SI</td>\n      <td>SI</td>\n      <td>SI</td>\n      <td>SI</td>\n      <td>SI</td>\n      <td>SI</td>\n      <td>SI</td>\n      <td>SI</td>\n      <td>NO</td>\n    </tr>\n    <tr>\n      <th>200</th>\n      <td>27/06/2022 19:20:01</td>\n      <td>4.562300e+07</td>\n      <td>Aprendo sobre nuevos temas en comunidad, Permi...</td>\n      <td>NaN</td>\n      <td>Si</td>\n      <td>en areas básicas</td>\n      <td>Totalmente en desacuerdo</td>\n      <td>Netro</td>\n      <td>Netro</td>\n      <td>De acuerdo</td>\n      <td>...</td>\n      <td>NO</td>\n      <td>NO</td>\n      <td>SI</td>\n      <td>NO</td>\n      <td>NO</td>\n      <td>NO</td>\n      <td>SI</td>\n      <td>NO</td>\n      <td>NO</td>\n      <td>NO</td>\n    </tr>\n    <tr>\n      <th>201</th>\n      <td>28/06/2022 12:11:28</td>\n      <td>3.774890e+07</td>\n      <td>Puedo encontrar apoyo de mis colegas para reso...</td>\n      <td>Las comunidades de aprendizaje las considero d...</td>\n      <td>Si</td>\n      <td>scratch</td>\n      <td>De acuerdo</td>\n      <td>De acuerdo</td>\n      <td>De acuerdo</td>\n      <td>De acuerdo</td>\n      <td>...</td>\n      <td>SI</td>\n      <td>SI</td>\n      <td>SI</td>\n      <td>SI</td>\n      <td>SI</td>\n      <td>SI</td>\n      <td>SI</td>\n      <td>SI</td>\n      <td>SI</td>\n      <td>SI</td>\n    </tr>\n  </tbody>\n</table>\n<p>201 rows × 61 columns</p>\n</div>"
     },
     "execution_count": 10,
     "metadata": {},
     "output_type": "execute_result"
    }
   ],
   "source": [
    "cap"
   ],
   "metadata": {
    "collapsed": false,
    "pycharm": {
     "name": "#%%\n"
    }
   }
  },
  {
   "cell_type": "code",
   "execution_count": 11,
   "outputs": [],
   "source": [
    "cap.to_excel(\"Pretest_CAP.xlsx\")"
   ],
   "metadata": {
    "collapsed": false,
    "pycharm": {
     "name": "#%%\n"
    }
   }
  },
  {
   "cell_type": "code",
   "execution_count": null,
   "outputs": [],
   "source": [],
   "metadata": {
    "collapsed": false,
    "pycharm": {
     "name": "#%%\n"
    }
   }
  }
 ],
 "metadata": {
  "kernelspec": {
   "display_name": "Python 3",
   "language": "python",
   "name": "python3"
  },
  "language_info": {
   "codemirror_mode": {
    "name": "ipython",
    "version": 2
   },
   "file_extension": ".py",
   "mimetype": "text/x-python",
   "name": "python",
   "nbconvert_exporter": "python",
   "pygments_lexer": "ipython2",
   "version": "2.7.6"
  }
 },
 "nbformat": 4,
 "nbformat_minor": 0
}