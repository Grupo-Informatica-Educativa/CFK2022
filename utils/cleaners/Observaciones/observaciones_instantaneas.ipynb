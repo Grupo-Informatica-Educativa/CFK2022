{
 "cells": [
  {
   "cell_type": "code",
   "execution_count": 44,
   "metadata": {
    "collapsed": true,
    "pycharm": {
     "name": "#%%\n"
    }
   },
   "outputs": [],
   "source": [
    "import pandas as pd\n",
    "\n",
    "import pathlib\n",
    "\n",
    "import xlrd"
   ]
  },
  {
   "cell_type": "code",
   "execution_count": 46,
   "outputs": [
    {
     "data": {
      "text/plain": "True"
     },
     "execution_count": 46,
     "metadata": {},
     "output_type": "execute_result"
    }
   ],
   "source": [
    "ruta_git = pathlib.Path().cwd().parent.parent.parent\n",
    "\n",
    "obs_0 = pd.read_excel(ruta_git/'data/raw/obs_1006.xlsx')\n",
    "obs = pd.read_excel(ruta_git/'data/raw/obs_1306.xlsx')\n",
    "obs.shape == obs_0.shape"
   ],
   "metadata": {
    "collapsed": false,
    "pycharm": {
     "name": "#%%\n"
    }
   }
  },
  {
   "cell_type": "code",
   "execution_count": 47,
   "outputs": [
    {
     "ename": "KeyError",
     "evalue": "['Fecha']",
     "output_type": "error",
     "traceback": [
      "\u001B[0;31m---------------------------------------------------------------------------\u001B[0m",
      "\u001B[0;31mKeyError\u001B[0m                                  Traceback (most recent call last)",
      "Input \u001B[0;32mIn [47]\u001B[0m, in \u001B[0;36m<cell line: 3>\u001B[0;34m()\u001B[0m\n\u001B[1;32m      1\u001B[0m obs \u001B[38;5;241m=\u001B[39m obs\u001B[38;5;241m.\u001B[39mdropna(how\u001B[38;5;241m=\u001B[39m\u001B[38;5;124m'\u001B[39m\u001B[38;5;124mall\u001B[39m\u001B[38;5;124m'\u001B[39m)\n\u001B[1;32m      2\u001B[0m \u001B[38;5;66;03m# parece que corrigieron cuando se arregló el campo Fecha\u001B[39;00m\n\u001B[0;32m----> 3\u001B[0m obs \u001B[38;5;241m=\u001B[39m \u001B[43mobs\u001B[49m\u001B[38;5;241;43m.\u001B[39;49m\u001B[43mdropna\u001B[49m\u001B[43m(\u001B[49m\u001B[43msubset\u001B[49m\u001B[38;5;241;43m=\u001B[39;49m\u001B[38;5;124;43m'\u001B[39;49m\u001B[38;5;124;43mFecha\u001B[39;49m\u001B[38;5;124;43m'\u001B[39;49m\u001B[43m)\u001B[49m\n\u001B[1;32m      4\u001B[0m \u001B[38;5;66;03m#pero me quedan faltando 4\u001B[39;00m\n\u001B[1;32m      5\u001B[0m obs\u001B[38;5;241m.\u001B[39mtail(\u001B[38;5;241m20\u001B[39m)\n",
      "File \u001B[0;32m~/anaconda3/envs/cfk2022/lib/python3.10/site-packages/pandas/util/_decorators.py:311\u001B[0m, in \u001B[0;36mdeprecate_nonkeyword_arguments.<locals>.decorate.<locals>.wrapper\u001B[0;34m(*args, **kwargs)\u001B[0m\n\u001B[1;32m    305\u001B[0m \u001B[38;5;28;01mif\u001B[39;00m \u001B[38;5;28mlen\u001B[39m(args) \u001B[38;5;241m>\u001B[39m num_allow_args:\n\u001B[1;32m    306\u001B[0m     warnings\u001B[38;5;241m.\u001B[39mwarn(\n\u001B[1;32m    307\u001B[0m         msg\u001B[38;5;241m.\u001B[39mformat(arguments\u001B[38;5;241m=\u001B[39marguments),\n\u001B[1;32m    308\u001B[0m         \u001B[38;5;167;01mFutureWarning\u001B[39;00m,\n\u001B[1;32m    309\u001B[0m         stacklevel\u001B[38;5;241m=\u001B[39mstacklevel,\n\u001B[1;32m    310\u001B[0m     )\n\u001B[0;32m--> 311\u001B[0m \u001B[38;5;28;01mreturn\u001B[39;00m \u001B[43mfunc\u001B[49m\u001B[43m(\u001B[49m\u001B[38;5;241;43m*\u001B[39;49m\u001B[43margs\u001B[49m\u001B[43m,\u001B[49m\u001B[43m \u001B[49m\u001B[38;5;241;43m*\u001B[39;49m\u001B[38;5;241;43m*\u001B[39;49m\u001B[43mkwargs\u001B[49m\u001B[43m)\u001B[49m\n",
      "File \u001B[0;32m~/anaconda3/envs/cfk2022/lib/python3.10/site-packages/pandas/core/frame.py:6002\u001B[0m, in \u001B[0;36mDataFrame.dropna\u001B[0;34m(self, axis, how, thresh, subset, inplace)\u001B[0m\n\u001B[1;32m   6000\u001B[0m     check \u001B[38;5;241m=\u001B[39m indices \u001B[38;5;241m==\u001B[39m \u001B[38;5;241m-\u001B[39m\u001B[38;5;241m1\u001B[39m\n\u001B[1;32m   6001\u001B[0m     \u001B[38;5;28;01mif\u001B[39;00m check\u001B[38;5;241m.\u001B[39many():\n\u001B[0;32m-> 6002\u001B[0m         \u001B[38;5;28;01mraise\u001B[39;00m \u001B[38;5;167;01mKeyError\u001B[39;00m(np\u001B[38;5;241m.\u001B[39marray(subset)[check]\u001B[38;5;241m.\u001B[39mtolist())\n\u001B[1;32m   6003\u001B[0m     agg_obj \u001B[38;5;241m=\u001B[39m \u001B[38;5;28mself\u001B[39m\u001B[38;5;241m.\u001B[39mtake(indices, axis\u001B[38;5;241m=\u001B[39magg_axis)\n\u001B[1;32m   6005\u001B[0m \u001B[38;5;28;01mif\u001B[39;00m thresh \u001B[38;5;129;01mis\u001B[39;00m \u001B[38;5;129;01mnot\u001B[39;00m \u001B[38;5;28;01mNone\u001B[39;00m:\n",
      "\u001B[0;31mKeyError\u001B[0m: ['Fecha']"
     ]
    }
   ],
   "source": [
    "obs = obs.dropna(how='all')\n",
    "# parece que corrigieron cuando se arregló el campo Fecha\n",
    "obs = obs.dropna(subset='Fecha')\n",
    "#pero me quedan faltando 4\n",
    "obs.tail(20)"
   ],
   "metadata": {
    "collapsed": false,
    "pycharm": {
     "name": "#%%\n"
    }
   }
  },
  {
   "cell_type": "code",
   "execution_count": 48,
   "outputs": [
    {
     "data": {
      "text/plain": "Index(['t\"Enviar\"', 't\"File\"', 't\"x_1\"', 't\"x_2\"', 't\"x_3\"', 't\"x_4\"',\n       't\"x_5\"', 't\"x_6\"', 't\"x_7\"', 't\"x_8\"', 't\"x_9\"', 't\"x_10\"', 't\"x_11\"',\n       't\"x_12\"', 't\"x_13\"', 't\"x_14\"', 't\"x_15\"', 't\"x_16\"', 't\"x_17\"',\n       't\"x_18\"', 't\"x_19\"', 't\"x_20\"', 't\"x_21\"', 't\"x_22\"', 't\"x_23\"',\n       't\"x_24\"', 't\"x_25\"', 't\"x_26\"', 't\"x_27\"', 't\"x_28\"', 't\"x_29\"',\n       't\"x_30\"', 't\"x_31\"', 't\"x_32\"', 't\"x_33\"', 't\"x_34\"', 't\"x_35\"',\n       't\"x_36\"', 't\"x_37\"', 't\"x_38\"', 't\"x_39\"', 't\"x_40\"', 't\"x_41\"',\n       't\"x_42\"', 't\"x_43\"', 't\"x_44\"', 't\"x_45\"', 't\"x_9_cual\"',\n       't\"x_10_nino\"', 't\"x_10_nina\"', 't\"x_28_1\"', 't\"x_28_2\"', 't\"x_28_3\"',\n       't\"x_28_4\"', 't\"x_28_5\"', 't\"x_28_cual\"', 't\"x_29_1\"', 't\"x_29_2\"',\n       't\"x_29_3\"', 't\"x_40_1\"', 't\"x_40_2\"', 't\"x_40_3\"', 't\"x_40_4\"',\n       't\"x_40_5\"', 't\"x_40_6\"', 't\"IdEncuesta\"', 't\"Usuario\"', 't\"Fecha\"'],\n      dtype='object')"
     },
     "execution_count": 48,
     "metadata": {},
     "output_type": "execute_result"
    }
   ],
   "source": [
    "obs.columns"
   ],
   "metadata": {
    "collapsed": false,
    "pycharm": {
     "name": "#%%\n"
    }
   }
  },
  {
   "cell_type": "code",
   "execution_count": 49,
   "outputs": [],
   "source": [
    "col_observaciones = ['Enviar', 'File', 'Nombre del observador(a)', 'Fecha de la observación', 'Nombre de docente', 'Número de cédula del docente', 'Asignatura en la que se hace la observación (implementa fichas)', 'Asignatura(s) que orienta regularmente el docente al grupo con el que dará la clase', 'Grado',\n",
    "       'Número de ficha observada', 'Sesión', 'x_10', 'Internet Institucional.', 'N portatiles', 'N computadores de escritorio', 'N tablets', 'N celulares', 'N micro:bits',\n",
    "       '¿Cuántos minutos transcurren entre el inicio de la clase estipulada y el inicio de la primera actividad?', '¿Se presentan los objetivos de aprendizaje de la lección?', '¿Se exploran los conocimientos previos de los estudiantes y su conexión con los temas de la lección?', '¿Se presentan y explican los conceptos claves que serán usados en la lección?', '¿Se preparó de forma previa el material requerido para la lección?', '¿Se gestionan correctamente los materiales e instrumentos para el desarrollo de la actividad?', '¿Cuántos estudiantes logran empezar la actividad sin requerir nuevas aclaraciones de las instrucciones?', '¿Cuántos estudiantes llevan a cabo la actividad desconectada según las instrucciones dadas?', '¿Cuántos estudiantes completan la actividad desconectada?',\n",
    "       '¿Se invita a los estudiantes a compartir la solución que dieron a la actividad desconectada y reflexionar sobre otras posibles soluciones?', '¿Se hace un cierre formal de la actividad desconectada para destacar la relación entre ésta y el concepto de pensamiento computacional y/o programación de la clase?', 'x_28', 'x_29', '¿Cuántos estudiantes logran solucionar el reto de codificación propuesto con lo aprendido en la lección (Ej. el reto “Manos a la micro:bit” o “Para ir más lejos”)?', '¿Se usa el vocabulario adecuado para la enseñanza del pensamiento computacional (terminología correcta)?', '¿Se conectan los temas presentados con la vida diaria?', '¿Se presentaron problemas técnicos durante la clase?', '¿Estos problemas son resultado de falta de preparación?',\n",
    "       '¿Se pudieron resolver oportunamente los problemas técnicos?', '¿Se siguen fielmente las actividades de la ficha?', '¿Se promueve la idea de que todos y todas pueden desarrollar su pensamiento computacional y habilidades de programación?', '¿Se valora el esfuerzo de los estudiantes para desarrollar las actividades propuestas?', '¿Se observa acompañamiento con estrategias de apoyo (aclaración de dudas, explicaciones, ejemplos adicionales, invitación a revisar partes específicas de las fichas, etc) a los estudiantes durante el desarrollo de las actividades?', 'x_40', '¿Se hace uso de la memoria colectiva?', '¿Se promueven los procesos de metacognición y reflexión?', 'Observaciones generales',\n",
    "       'x_44', 'Nombre de la Institución Educativa', 'Otra sesión, ¿cuál?', 'Cantidad de estudiantes en el salón: Niños', 'Cantidad de estudiantes en el salón: Niñas', 'Se usan los dispositivos de computo',\n",
    "       'Se usan las tarjetas micro:bit', 'Se cuenta con acceso a MakeCode', 'Se usa el acceso a internet', 'Se utilizan herramientas tecnológicas adicionales para apoyar el desarrollo de la sesión', 'Se usa otra herramienta. Cuál?', 'Momentos Usa que suceden en la sesión y la forma como se orientan', 'Momentos Modifica que suceden en la sesión y la forma como se orientan',\n",
    "       'Momentos Crea que suceden en la sesión y la forma como se orientan', 'Se corrigen comentarios y comportamientos sexistas', ' Se estimula el liderazgo femenino', 'Se realizan acciones afirmativas en términos de género', 'Los retos de programación se enmarcan en una narrativa', 'Se dedica tiempo de la clase a hacer reflexiones sobre equidad de género, por ejemplo, aprovechando las historias que se encuentran en las fichas o reiterando normas de aula para evitar comentarios sexistas, entre otros.', 'observaciones',\n",
    "       'IdEncuesta', 'Usuario', 'Fecha']\n",
    "\n",
    "renombrar_columnas = dict(zip(obs.columns,col_observaciones))\n",
    "\n",
    "renombrar = {}\n",
    "\n",
    "renombrar['Sesión'] = {1:\"Conectada\",2:\"Desconectada\",\n",
    "          3:\"Ambas conectada y desconectada\",\n",
    "          4:\"No sé\"}\n",
    "\n",
    "renombrar['¿Se presentan los objetivos de aprendizaje de la lección?'] = {1:\"Sí, se presentan aprendizajes esperados relacionados con pensamiento computacional\",\n",
    "                  2:\"Parcialmente. Se presentan objetivos, pero estos no están relacionados con pensamiento computacional. Ej. El objetivo presentado por el/la docente es que los estudiantes estén callados y trabajen juiciosos\",\n",
    "                  3:\"No se presentan los objetivos que se espera lograr\"}\n",
    "renombrar['¿Se exploran los conocimientos previos de los estudiantes y su conexión con los temas de la lección?']={1:\"Sí\", 2:\"Parcialmente. Se hace exploración de conocimientos previos, pero no se conectan claramente con el tema que se presenta\",\n",
    "          3:\"No\"}\n",
    "\n",
    "renombrar[\"¿Se presentan y explican los conceptos claves que serán usados en la lección?\"] = { 1:\"Sí\",\n",
    "                                       2:\"Parcialmente. Se hace una explicación, pero no es clara.\", 3:\"Parcialmente. Sólo se presenta, pero no se explica.\",\n",
    "                                        4:\"No se hace una presentación, ni explicación de conceptos.\"}\n",
    "renombrar[\"¿Se preparó de forma previa el material requerido para la lección?\"] = {1:'Sí', 2:'Parcialmente', 3:\"No\", 4:\"No aplica, no se requieren materiales para el desarrollo de las actividades\"}\n",
    "\n",
    "renombrar['¿Se gestionan correctamente los materiales e instrumentos para el desarrollo de la actividad?'] = {\n",
    "    1:\"Sí, se entregan los materiales requeridos de manera eficiente\",\n",
    "    2:\"Parcialmente, se entregan los materiales requeridos pero el proceso es desordenado o toma mucho tiempo\",\n",
    "    3:\"Parcialmente pues no se entregan materiales para el desarrollo de la actividad, pero se indica cómo diseñarlos o conseguirlos rápidamente\",\n",
    "    4:\"No, no se entregan materiales ni se dan indicaciones sobre cómo gestionarlos\",\n",
    "    5:\"No aplica, no se requieren materiales para el desarrollo de las actividades\"\n",
    "}\n",
    "cuantos_est = {1:\"Todo(a)s\", 2:\"La mayoría, pero no todo(a)s\", 3:\"Más de dos, pero menos de la mayoría\",4:\"Uno o dos\"}\n",
    "renombrar['¿Cuántos estudiantes logran empezar la actividad sin requerir nuevas aclaraciones de las instrucciones?']=cuantos_est\n",
    "renombrar['¿Cuántos estudiantes llevan a cabo la actividad desconectada según las instrucciones dadas?'] = cuantos_est\n",
    "renombrar['¿Cuántos estudiantes completan la actividad desconectada?'] = cuantos_est\n",
    "renombrar['¿Se invita a los estudiantes a compartir la solución que dieron a la actividad desconectada y reflexionar sobre otras posibles soluciones?']={1:'Sí', 2:\"Parcialmente, no se invita a los estudiantes a compartir verbalmente sus soluciones, pero sí se les invita a movilizarse y observar las soluciones planteadas por otros grupos\", 3:\"Parcialmente, se permite a los estudiantes participar, pero se destaca una única solución posible\", 4:\"No\"}\n",
    "\n",
    "renombrar['¿Se hace un cierre formal de la actividad desconectada para destacar la relación entre ésta y el concepto de pensamiento computacional y/o programación de la clase?'] = {1:\"Sí, se hacen preguntas que permiten a los estudiantes conectar la actividad desarrollada con el concepto clave de la lección\", 2:\"Parcialmente, se indica la finalización de la actividad y el/la docente es quien explica la relación entre la actividad y el concepto clave de la lección\", 3:\"Parcialmente, se da cierre a la actividad, pero no se destaca su relación con el concepto clave de la lección\", 4:\"No se hace cierre formal de la actividad\"}\n",
    "\n",
    "renombrar['Momentos Usa que suceden en la sesión y la forma como se orientan'] = {'USA1':\"Liderado y realizado por el/la docente, sin participación de los estudiantes\", 'USA2':'Trabajo conjunto de Docente y Estudiantes', 'USA3':'Estudiantes desarrollan el trabajo de forma autónoma'}\n",
    "\n",
    "renombrar['Momentos Modifica que suceden en la sesión y la forma como se orientan'] = {'MOD1':'Liderado y realizado por el/la docente, sin participación de los estudiantes', 'MOD2':'Trabajo conjunto de Docente y Estudiantes', 'MOD3':'Estudiantes desarrollan el trabajo de forma autónoma'}\n",
    "renombrar['Momentos Crea que suceden en la sesión y la forma como se orientan']={'CRE1':\"Liderado y realizado por el/la docente, sin participación de los estudiantes\",'CRE2':'Trabajo conjunto de Docente y Estudiantes',\"CRE3\":\"Estudiantes desarrollan el trabajo de forma autónoma\"}\n",
    "renombrar['¿Cuántos estudiantes logran solucionar el reto de codificación propuesto con lo aprendido en la lección (Ej. el reto “Manos a la micro:bit” o “Para ir más lejos”)?'] = cuantos_est|{5:\"No aplica. No se presentó un reto de codificación\"}\n",
    "\n",
    "renombrar['¿Se usa el vocabulario adecuado para la enseñanza del pensamiento computacional (terminología correcta)?'] = {1:'Sí, durante toda la clase',2:\"Parcialmente, durante la mayor parte de la clase\",3:\"Parcialmente, durante la mitad de la clase\",4:\"Parcialmente, durante la menor parte de la clase\",5:\"No\"}\n",
    "\n",
    "renombrar['¿Se conectan los temas presentados con la vida diaria?'] = {1:'Sí, se hace uso de analogías y/o ejemplos de la vida cotidiana para aclarar conceptos nuevos (ej. Bucles, variables, condicionales).',2:'Parcialmente, se hace uso de analogías y/o ejemplos que son apropiados para los conceptos, pero no se hace clara la conexión entre estos',3:'Parcialmente, se hace uso de analogías y/o ejemplos de la vida cotidiana, pero estos no son apropiados para ilustrar los conceptos nuevos',4:'No se hace uso de analogías ni de ejemplos, se centra en lo técnico únicamente'}\n",
    "\n",
    "renombrar[\"¿Se siguen fielmente las actividades de la ficha?\"]={1:\"Sí, durante toda la clase\"\n",
    "    ,2:\"Parcialmente, durante la mayor parte de la clase\",3:\"Parcialmente, durante la mitad de la clase\",4:\"Parcialmente, durante la menor parte de la clase\",5:\"No\"}\n",
    "\n",
    "renombrar['¿Se promueve la idea de que todos y todas pueden desarrollar su pensamiento computacional y habilidades de programación?'] = {1:\"Sí, durante toda la clase\",2:\"Parcialmente, durante la mayor parte de la clase\",3:\"Parcialmente, durante la mitad de la clase\",4:\"Parcialmente, durante la menor parte de la clase\",5:\"No\"}\n",
    "\n",
    "renombrar['¿Se valora el esfuerzo de los estudiantes para desarrollar las actividades propuestas?'] = {1:\"Sí, se valora el esfuerzo de todos los estudiantes, independientemente de si lograron completar los retos planteados de forma exitosa.\",2:\"Parcialmente, pues sólo se valoran los resultados de los estudiantes que completan exitosamente las tareas o retos planteados\",3:\"Parcialmente, pues sólo se valora el esfuerzo de quienes no lograron completar exitosamente la tarea o reto planteado\",4:\"No, no se reconoce ni el esfuerzo, ni el resultado exitoso del trabajo desarrollado por los estudiantes\",5:\"No, no se valora el esfuerzo sino únicamente el resultado\"}\n",
    "\n",
    "renombrar[\"¿Se observa acompañamiento con estrategias de apoyo (aclaración de dudas, explicaciones, ejemplos adicionales, invitación a revisar partes específicas de las fichas, etc) a los estudiantes durante el desarrollo de las actividades?\"] ={1:\"Sí, se verifica el trabajo el trabajo de los y las estudiantes y se acompaña con estrategias de apoyo\",2:\"Parcialmente, se verifica el trabajo de los y las estudiantes, pero se acompaña con estrategias de apoyo sólo a quienes lo solicitan\",3:\"Parcialmente, el acompañamiento se limita a hacer preguntas sobre el avance y cumplimiento de las tareas y no se brindan estrategias de apoyo\",4:\"No, no se hace ningún tipo de acompañamiento, ni se brinda apoyo a los estudiantes que tienen dificultades\"}\n",
    "\n",
    "renombrar['¿Se hace uso de la memoria colectiva?'] = {1:\"Sí, se construye desde cero un gráfico tipo mapa mental con la ayuda de los estudiantes\",2:\"Sí, el docente presenta una estructura inicial de temas y construye el resto de la memoria colectiva con los aportes de los estudiantes\",3:\"Parcialmente, se hace sólo un listado de términos claves, con la ayuda de los estudiantes\",4:\"Parcialmente, el docente presenta una memoria colectiva previamente hecha sin apoyo de los estudiantes\",5:\"No, no se hace uso de esta estrategia\"}\n",
    "\n",
    "renombrar['¿Se promueven los procesos de metacognición y reflexión?'] = {1:\"Sí, se pide a los estudiantes que reflexionen sobre lo aprendido y auto evalúen su alcance parcial o total de los objetivos\",2:\"Parcialmente, se hacen preguntas conceptuales, pero no se hacen preguntas para promover la reflexión ni la metacognición\",3:\"No se hace ningún tipo de preguntas ni de reflexión al cierre\"}"
   ],
   "metadata": {
    "collapsed": false,
    "pycharm": {
     "name": "#%%\n"
    }
   }
  },
  {
   "cell_type": "code",
   "execution_count": 50,
   "outputs": [
    {
     "data": {
      "text/plain": "{'Sesión': {1: 'Conectada',\n  2: 'Desconectada',\n  3: 'Ambas conectada y desconectada',\n  4: 'No sé'},\n '¿Se presentan los objetivos de aprendizaje de la lección?': {1: 'Sí, se presentan aprendizajes esperados relacionados con pensamiento computacional',\n  2: 'Parcialmente. Se presentan objetivos, pero estos no están relacionados con pensamiento computacional. Ej. El objetivo presentado por el/la docente es que los estudiantes estén callados y trabajen juiciosos',\n  3: 'No se presentan los objetivos que se espera lograr'},\n '¿Se exploran los conocimientos previos de los estudiantes y su conexión con los temas de la lección?': {1: 'Sí',\n  2: 'Parcialmente. Se hace exploración de conocimientos previos, pero no se conectan claramente con el tema que se presenta',\n  3: 'No'},\n '¿Se presentan y explican los conceptos claves que serán usados en la lección?': {1: 'Sí',\n  2: 'Parcialmente. Se hace una explicación, pero no es clara.',\n  3: 'Parcialmente. Sólo se presenta, pero no se explica.',\n  4: 'No se hace una presentación, ni explicación de conceptos.'},\n '¿Se preparó de forma previa el material requerido para la lección?': {1: 'Sí',\n  2: 'Parcialmente',\n  3: 'No',\n  4: 'No aplica, no se requieren materiales para el desarrollo de las actividades'},\n '¿Se gestionan correctamente los materiales e instrumentos para el desarrollo de la actividad?': {1: 'Sí, se entregan los materiales requeridos de manera eficiente',\n  2: 'Parcialmente, se entregan los materiales requeridos pero el proceso es desordenado o toma mucho tiempo',\n  3: 'Parcialmente pues no se entregan materiales para el desarrollo de la actividad, pero se indica cómo diseñarlos o conseguirlos rápidamente',\n  4: 'No, no se entregan materiales ni se dan indicaciones sobre cómo gestionarlos',\n  5: 'No aplica, no se requieren materiales para el desarrollo de las actividades'},\n '¿Cuántos estudiantes logran empezar la actividad sin requerir nuevas aclaraciones de las instrucciones?': {1: 'Todo(a)s',\n  2: 'La mayoría, pero no todo(a)s',\n  3: 'Más de dos, pero menos de la mayoría',\n  4: 'Uno o dos'},\n '¿Cuántos estudiantes llevan a cabo la actividad desconectada según las instrucciones dadas?': {1: 'Todo(a)s',\n  2: 'La mayoría, pero no todo(a)s',\n  3: 'Más de dos, pero menos de la mayoría',\n  4: 'Uno o dos'},\n '¿Cuántos estudiantes completan la actividad desconectada?': {1: 'Todo(a)s',\n  2: 'La mayoría, pero no todo(a)s',\n  3: 'Más de dos, pero menos de la mayoría',\n  4: 'Uno o dos'},\n '¿Se invita a los estudiantes a compartir la solución que dieron a la actividad desconectada y reflexionar sobre otras posibles soluciones?': {1: 'Sí',\n  2: 'Parcialmente, no se invita a los estudiantes a compartir verbalmente sus soluciones, pero sí se les invita a movilizarse y observar las soluciones planteadas por otros grupos',\n  3: 'Parcialmente, se permite a los estudiantes participar, pero se destaca una única solución posible',\n  4: 'No'},\n '¿Se hace un cierre formal de la actividad desconectada para destacar la relación entre ésta y el concepto de pensamiento computacional y/o programación de la clase?': {1: 'Sí, se hacen preguntas que permiten a los estudiantes conectar la actividad desarrollada con el concepto clave de la lección',\n  2: 'Parcialmente, se indica la finalización de la actividad y el/la docente es quien explica la relación entre la actividad y el concepto clave de la lección',\n  3: 'Parcialmente, se da cierre a la actividad, pero no se destaca su relación con el concepto clave de la lección',\n  4: 'No se hace cierre formal de la actividad'},\n 'Momentos Usa que suceden en la sesión y la forma como se orientan': {'USA1': 'Liderado y realizado por el/la docente, sin participación de los estudiantes',\n  'USA2': 'Trabajo conjunto de Docente y Estudiantes',\n  'USA3': 'Estudiantes desarrollan el trabajo de forma autónoma'},\n 'Momentos Modifica que suceden en la sesión y la forma como se orientan': {'MOD1': 'Liderado y realizado por el/la docente, sin participación de los estudiantes',\n  'MOD2': 'Trabajo conjunto de Docente y Estudiantes',\n  'MOD3': 'Estudiantes desarrollan el trabajo de forma autónoma'},\n 'Momentos Crea que suceden en la sesión y la forma como se orientan': {'CRE1': 'Liderado y realizado por el/la docente, sin participación de los estudiantes',\n  'CRE2': 'Trabajo conjunto de Docente y Estudiantes',\n  'CRE3': 'Estudiantes desarrollan el trabajo de forma autónoma'},\n '¿Cuántos estudiantes logran solucionar el reto de codificación propuesto con lo aprendido en la lección (Ej. el reto “Manos a la micro:bit” o “Para ir más lejos”)?': {1: 'Todo(a)s',\n  2: 'La mayoría, pero no todo(a)s',\n  3: 'Más de dos, pero menos de la mayoría',\n  4: 'Uno o dos',\n  5: 'No aplica. No se presentó un reto de codificación'},\n '¿Se usa el vocabulario adecuado para la enseñanza del pensamiento computacional (terminología correcta)?': {1: 'Sí, durante toda la clase',\n  2: 'Parcialmente, durante la mayor parte de la clase',\n  3: 'Parcialmente, durante la mitad de la clase',\n  4: 'Parcialmente, durante la menor parte de la clase',\n  5: 'No'},\n '¿Se conectan los temas presentados con la vida diaria?': {1: 'Sí, se hace uso de analogías y/o ejemplos de la vida cotidiana para aclarar conceptos nuevos (ej. Bucles, variables, condicionales).',\n  2: 'Parcialmente, se hace uso de analogías y/o ejemplos que son apropiados para los conceptos, pero no se hace clara la conexión entre estos',\n  3: 'Parcialmente, se hace uso de analogías y/o ejemplos de la vida cotidiana, pero estos no son apropiados para ilustrar los conceptos nuevos',\n  4: 'No se hace uso de analogías ni de ejemplos, se centra en lo técnico únicamente'},\n '¿Se siguen fielmente las actividades de la ficha?': {1: 'Sí, durante toda la clase',\n  2: 'Parcialmente, durante la mayor parte de la clase',\n  3: 'Parcialmente, durante la mitad de la clase',\n  4: 'Parcialmente, durante la menor parte de la clase',\n  5: 'No'},\n '¿Se promueve la idea de que todos y todas pueden desarrollar su pensamiento computacional y habilidades de programación?': {1: 'Sí, durante toda la clase',\n  2: 'Parcialmente, durante la mayor parte de la clase',\n  3: 'Parcialmente, durante la mitad de la clase',\n  4: 'Parcialmente, durante la menor parte de la clase',\n  5: 'No'},\n '¿Se valora el esfuerzo de los estudiantes para desarrollar las actividades propuestas?': {1: 'Sí, se valora el esfuerzo de todos los estudiantes, independientemente de si lograron completar los retos planteados de forma exitosa.',\n  2: 'Parcialmente, pues sólo se valoran los resultados de los estudiantes que completan exitosamente las tareas o retos planteados',\n  3: 'Parcialmente, pues sólo se valora el esfuerzo de quienes no lograron completar exitosamente la tarea o reto planteado',\n  4: 'No, no se reconoce ni el esfuerzo, ni el resultado exitoso del trabajo desarrollado por los estudiantes',\n  5: 'No, no se valora el esfuerzo sino únicamente el resultado'},\n '¿Se observa acompañamiento con estrategias de apoyo (aclaración de dudas, explicaciones, ejemplos adicionales, invitación a revisar partes específicas de las fichas, etc) a los estudiantes durante el desarrollo de las actividades?': {1: 'Sí, se verifica el trabajo el trabajo de los y las estudiantes y se acompaña con estrategias de apoyo',\n  2: 'Parcialmente, se verifica el trabajo de los y las estudiantes, pero se acompaña con estrategias de apoyo sólo a quienes lo solicitan',\n  3: 'Parcialmente, el acompañamiento se limita a hacer preguntas sobre el avance y cumplimiento de las tareas y no se brindan estrategias de apoyo',\n  4: 'No, no se hace ningún tipo de acompañamiento, ni se brinda apoyo a los estudiantes que tienen dificultades'},\n '¿Se hace uso de la memoria colectiva?': {1: 'Sí, se construye desde cero un gráfico tipo mapa mental con la ayuda de los estudiantes',\n  2: 'Sí, el docente presenta una estructura inicial de temas y construye el resto de la memoria colectiva con los aportes de los estudiantes',\n  3: 'Parcialmente, se hace sólo un listado de términos claves, con la ayuda de los estudiantes',\n  4: 'Parcialmente, el docente presenta una memoria colectiva previamente hecha sin apoyo de los estudiantes',\n  5: 'No, no se hace uso de esta estrategia'},\n '¿Se promueven los procesos de metacognición y reflexión?': {1: 'Sí, se pide a los estudiantes que reflexionen sobre lo aprendido y auto evalúen su alcance parcial o total de los objetivos',\n  2: 'Parcialmente, se hacen preguntas conceptuales, pero no se hacen preguntas para promover la reflexión ni la metacognición',\n  3: 'No se hace ningún tipo de preguntas ni de reflexión al cierre'}}"
     },
     "execution_count": 50,
     "metadata": {},
     "output_type": "execute_result"
    }
   ],
   "source": [
    "renombrar"
   ],
   "metadata": {
    "collapsed": false,
    "pycharm": {
     "name": "#%%\n"
    }
   }
  },
  {
   "cell_type": "code",
   "execution_count": 51,
   "outputs": [
    {
     "data": {
      "text/plain": "                     Enviar           File       Nombre del observador(a)  \\\n1    Iniciar Encuesta Ahora  EnvioEncuesta                            DSD   \n2    Iniciar Encuesta Ahora  EnvioEncuesta                           TESR   \n16   Iniciar Encuesta Ahora  EnvioEncuesta       MIRYAM VIVIANA RODRÍGUEZ   \n30   Iniciar Encuesta Ahora  EnvioEncuesta                CRISTIAN AVELLA   \n34   Iniciar Encuesta Ahora  EnvioEncuesta   MÓNICA YAZMÍN GIRALDO OSORIO   \n..                      ...            ...                            ...   \n206  Iniciar Encuesta Ahora  EnvioEncuesta  CÉSAR AUGUSTO GAVIRIA HERRERA   \n207  Iniciar Encuesta Ahora  EnvioEncuesta               JOHANA DE HOYOS    \n208  Iniciar Encuesta Ahora  EnvioEncuesta   MÓNICA YAZMÍN GIRALDO OSORIO   \n209  Iniciar Encuesta Ahora  EnvioEncuesta               JOHANA DE HOYOS    \n211  Iniciar Encuesta Ahora  EnvioEncuesta      JOHNY ALEXANDER CARLOSAMA   \n\n    Fecha de la observación                  Nombre de docente  \\\n1                2021-12-31                               SDSD   \n2                2021-12-31                  JONATHAN RAMÍREZ    \n16               2022-03-24          JAVIER BUSTAMANTE HERRERA   \n30               2022-03-23        JUAN CARLOS SANABRIA ROMERO   \n34               24/03/2022  CAMILO JAVIER BUSTAMANTE HEREDIA    \n..                      ...                                ...   \n206              2022-04-26        JOSÉ RICARDO PÉREZ CANTILLO   \n207              2022-05-17                   IVÁN RÍOS BLANCO   \n208              20/05/2022             LUIS GUILLERMO ZULETA    \n209              2022-05-18      GUILLERMO HERNANDEZ HERNANDEZ   \n211              2022-06-03                        OLGER ERAZO   \n\n     Número de cédula del docente  \\\n1                             1.0   \n2                        101010.0   \n16                     75102867.0   \n30                    104977766.0   \n34                     75102867.0   \n..                            ...   \n206                    77165032.0   \n207                    92539680.0   \n208                    71773232.0   \n209                    92529908.0   \n211                    98395231.0   \n\n    Asignatura en la que se hace la observación (implementa fichas)  \\\n1                                                DDSDS                \n2                                         PROCUREMENT                 \n16                                         INFORMÁTICA                \n30                                              INGLÉS                \n34                           TECNOLOGÍA E INFORMÁTICA                 \n..                                                 ...                \n206                           TECNOLOGÍA E INFORMÁTICA                \n207                           TECNOLOGÍA E INFORMÁTICA                \n208                          TECNOLOGÍA E INFORMÁTICA                 \n209                           TECNOLOGÍA E INFORMÁTICA                \n211                           TECNOLOGÍA E INFORMÁTICA                \n\n    Asignatura(s) que orienta regularmente el docente al grupo con el que dará la clase  \\\n1                                                 DSDS                                    \n2                                         MATEMÁTICAS                                     \n16                            TECNOLOGÍA E INFORMÁTICA                                    \n30                                   LENGUA EXTRANJERA                                    \n34                                                 NaN                                    \n..                                                 ...                                    \n206                           TECNOLOGÍA E INFORMÁTICA                                    \n207                           TECNOLOGÍA E INFORMÁTICA                                    \n208                          TECNOLOGÍA E INFORMÁTICA                                     \n209                           TECNOLOGÍA E INFORMÁTICA                                    \n211                           TECNOLOGÍA E INFORMÁTICA                                    \n\n    Grado Número de ficha observada  ...  \\\n1       6                         1  ...   \n2      11                         2  ...   \n16     11                         1  ...   \n30      4                         5  ...   \n34     11                         1  ...   \n..    ...                       ...  ...   \n206     8                         1  ...   \n207     9                         2  ...   \n208    10                         3  ...   \n209    11                         4  ...   \n211    11                 NO APLICA  ...   \n\n    Momentos Crea que suceden en la sesión y la forma como se orientan  \\\n1    Liderado y realizado por el/la docente, sin pa...                   \n2    Estudiantes desarrollan el trabajo de forma au...                   \n16           Trabajo conjunto de Docente y Estudiantes                   \n30   Estudiantes desarrollan el trabajo de forma au...                   \n34           Trabajo conjunto de Docente y Estudiantes                   \n..                                                 ...                   \n206                                                  0                   \n207                                                  0                   \n208                                                  0                   \n209                                                  0                   \n211                                                  0                   \n\n     Se corrigen comentarios y comportamientos sexistas  \\\n1                                                    0    \n2                                                    1    \n16                                                   0    \n30                                                   0    \n34                                                   0    \n..                                                 ...    \n206                                                  0    \n207                                                  0    \n208                                                  0    \n209                                                  0    \n211                                                  0    \n\n     Se estimula el liderazgo femenino  \\\n1                                    0   \n2                                    0   \n16                                   0   \n30                                   2   \n34                                   0   \n..                                 ...   \n206                                  0   \n207                                  0   \n208                                  0   \n209                                  0   \n211                                  0   \n\n     Se realizan acciones afirmativas en términos de género  \\\n1                                                    3        \n2                                                    0        \n16                                                   0        \n30                                                   0        \n34                                                   0        \n..                                                 ...        \n206                                                  0        \n207                                                  0        \n208                                                  0        \n209                                                  0        \n211                                                  0        \n\n     Los retos de programación se enmarcan en una narrativa  \\\n1                                                    0        \n2                                                    4        \n16                                                   0        \n30                                                   0        \n34                                                   4        \n..                                                 ...        \n206                                                  0        \n207                                                  0        \n208                                                  0        \n209                                                  0        \n211                                                  0        \n\n     Se dedica tiempo de la clase a hacer reflexiones sobre equidad de género, por ejemplo, aprovechando las historias que se encuentran en las fichas o reiterando normas de aula para evitar comentarios sexistas, entre otros.  \\\n1                                                    5                                                                                                                                                                              \n2                                                    0                                                                                                                                                                              \n16                                                   0                                                                                                                                                                              \n30                                                   0                                                                                                                                                                              \n34                                                   0                                                                                                                                                                              \n..                                                 ...                                                                                                                                                                              \n206                                                  0                                                                                                                                                                              \n207                                                  0                                                                                                                                                                              \n208                                                  0                                                                                                                                                                              \n209                                                  0                                                                                                                                                                              \n211                                                  0                                                                                                                                                                              \n\n                                         observaciones  IdEncuesta  \\\n1                                               dsdsds         2.0   \n2                                     Prueba de cierre         3.0   \n16   No se habló de equidad de género, ni se foment...        21.0   \n30                                                 NaN        35.0   \n34                                                 NaN        39.0   \n..                                                 ...         ...   \n206                 No se hace uso de esta estrategia.       225.0   \n207  No se realiza ninguna acción sobre equidad de ...       226.0   \n208  En la pregunta 40, no se da ninguna de las opc...       227.0   \n209             No se hace ningún comentario del tema.       228.0   \n211  No se realiza ningún tipo de estrategia pedagó...       230.0   \n\n                          Usuario                Fecha  \n1                  cristianavella  2022-03-08 16:36:06  \n2                    lorenamolina  2022-03-08 16:19:31  \n16     vivirodriguezv16@gmail.com  2022-03-24 20:27:31  \n30       jhon.balcarcel@gmail.com  2022-03-23 11:49:42  \n34      mkgiraldoosorio@gmail.com  2022-03-24 18:42:49  \n..                            ...                  ...  \n206         gaviriace16@gmail.com  2022-05-18 12:55:15  \n207   ing.johanadehoyos@gmail.com  2022-05-20 06:25:58  \n208     mkgiraldoosorio@gmail.com  2022-05-20 13:10:53  \n209   ing.johanadehoyos@gmail.com  2022-05-20 19:17:48  \n211  alexandercarlosama@gmail.com  2022-06-03 08:24:35  \n\n[116 rows x 68 columns]",
      "text/html": "<div>\n<style scoped>\n    .dataframe tbody tr th:only-of-type {\n        vertical-align: middle;\n    }\n\n    .dataframe tbody tr th {\n        vertical-align: top;\n    }\n\n    .dataframe thead th {\n        text-align: right;\n    }\n</style>\n<table border=\"1\" class=\"dataframe\">\n  <thead>\n    <tr style=\"text-align: right;\">\n      <th></th>\n      <th>Enviar</th>\n      <th>File</th>\n      <th>Nombre del observador(a)</th>\n      <th>Fecha de la observación</th>\n      <th>Nombre de docente</th>\n      <th>Número de cédula del docente</th>\n      <th>Asignatura en la que se hace la observación (implementa fichas)</th>\n      <th>Asignatura(s) que orienta regularmente el docente al grupo con el que dará la clase</th>\n      <th>Grado</th>\n      <th>Número de ficha observada</th>\n      <th>...</th>\n      <th>Momentos Crea que suceden en la sesión y la forma como se orientan</th>\n      <th>Se corrigen comentarios y comportamientos sexistas</th>\n      <th>Se estimula el liderazgo femenino</th>\n      <th>Se realizan acciones afirmativas en términos de género</th>\n      <th>Los retos de programación se enmarcan en una narrativa</th>\n      <th>Se dedica tiempo de la clase a hacer reflexiones sobre equidad de género, por ejemplo, aprovechando las historias que se encuentran en las fichas o reiterando normas de aula para evitar comentarios sexistas, entre otros.</th>\n      <th>observaciones</th>\n      <th>IdEncuesta</th>\n      <th>Usuario</th>\n      <th>Fecha</th>\n    </tr>\n  </thead>\n  <tbody>\n    <tr>\n      <th>1</th>\n      <td>Iniciar Encuesta Ahora</td>\n      <td>EnvioEncuesta</td>\n      <td>DSD</td>\n      <td>2021-12-31</td>\n      <td>SDSD</td>\n      <td>1.0</td>\n      <td>DDSDS</td>\n      <td>DSDS</td>\n      <td>6</td>\n      <td>1</td>\n      <td>...</td>\n      <td>Liderado y realizado por el/la docente, sin pa...</td>\n      <td>0</td>\n      <td>0</td>\n      <td>3</td>\n      <td>0</td>\n      <td>5</td>\n      <td>dsdsds</td>\n      <td>2.0</td>\n      <td>cristianavella</td>\n      <td>2022-03-08 16:36:06</td>\n    </tr>\n    <tr>\n      <th>2</th>\n      <td>Iniciar Encuesta Ahora</td>\n      <td>EnvioEncuesta</td>\n      <td>TESR</td>\n      <td>2021-12-31</td>\n      <td>JONATHAN RAMÍREZ</td>\n      <td>101010.0</td>\n      <td>PROCUREMENT</td>\n      <td>MATEMÁTICAS</td>\n      <td>11</td>\n      <td>2</td>\n      <td>...</td>\n      <td>Estudiantes desarrollan el trabajo de forma au...</td>\n      <td>1</td>\n      <td>0</td>\n      <td>0</td>\n      <td>4</td>\n      <td>0</td>\n      <td>Prueba de cierre</td>\n      <td>3.0</td>\n      <td>lorenamolina</td>\n      <td>2022-03-08 16:19:31</td>\n    </tr>\n    <tr>\n      <th>16</th>\n      <td>Iniciar Encuesta Ahora</td>\n      <td>EnvioEncuesta</td>\n      <td>MIRYAM VIVIANA RODRÍGUEZ</td>\n      <td>2022-03-24</td>\n      <td>JAVIER BUSTAMANTE HERRERA</td>\n      <td>75102867.0</td>\n      <td>INFORMÁTICA</td>\n      <td>TECNOLOGÍA E INFORMÁTICA</td>\n      <td>11</td>\n      <td>1</td>\n      <td>...</td>\n      <td>Trabajo conjunto de Docente y Estudiantes</td>\n      <td>0</td>\n      <td>0</td>\n      <td>0</td>\n      <td>0</td>\n      <td>0</td>\n      <td>No se habló de equidad de género, ni se foment...</td>\n      <td>21.0</td>\n      <td>vivirodriguezv16@gmail.com</td>\n      <td>2022-03-24 20:27:31</td>\n    </tr>\n    <tr>\n      <th>30</th>\n      <td>Iniciar Encuesta Ahora</td>\n      <td>EnvioEncuesta</td>\n      <td>CRISTIAN AVELLA</td>\n      <td>2022-03-23</td>\n      <td>JUAN CARLOS SANABRIA ROMERO</td>\n      <td>104977766.0</td>\n      <td>INGLÉS</td>\n      <td>LENGUA EXTRANJERA</td>\n      <td>4</td>\n      <td>5</td>\n      <td>...</td>\n      <td>Estudiantes desarrollan el trabajo de forma au...</td>\n      <td>0</td>\n      <td>2</td>\n      <td>0</td>\n      <td>0</td>\n      <td>0</td>\n      <td>NaN</td>\n      <td>35.0</td>\n      <td>jhon.balcarcel@gmail.com</td>\n      <td>2022-03-23 11:49:42</td>\n    </tr>\n    <tr>\n      <th>34</th>\n      <td>Iniciar Encuesta Ahora</td>\n      <td>EnvioEncuesta</td>\n      <td>MÓNICA YAZMÍN GIRALDO OSORIO</td>\n      <td>24/03/2022</td>\n      <td>CAMILO JAVIER BUSTAMANTE HEREDIA</td>\n      <td>75102867.0</td>\n      <td>TECNOLOGÍA E INFORMÁTICA</td>\n      <td>NaN</td>\n      <td>11</td>\n      <td>1</td>\n      <td>...</td>\n      <td>Trabajo conjunto de Docente y Estudiantes</td>\n      <td>0</td>\n      <td>0</td>\n      <td>0</td>\n      <td>4</td>\n      <td>0</td>\n      <td>NaN</td>\n      <td>39.0</td>\n      <td>mkgiraldoosorio@gmail.com</td>\n      <td>2022-03-24 18:42:49</td>\n    </tr>\n    <tr>\n      <th>...</th>\n      <td>...</td>\n      <td>...</td>\n      <td>...</td>\n      <td>...</td>\n      <td>...</td>\n      <td>...</td>\n      <td>...</td>\n      <td>...</td>\n      <td>...</td>\n      <td>...</td>\n      <td>...</td>\n      <td>...</td>\n      <td>...</td>\n      <td>...</td>\n      <td>...</td>\n      <td>...</td>\n      <td>...</td>\n      <td>...</td>\n      <td>...</td>\n      <td>...</td>\n      <td>...</td>\n    </tr>\n    <tr>\n      <th>206</th>\n      <td>Iniciar Encuesta Ahora</td>\n      <td>EnvioEncuesta</td>\n      <td>CÉSAR AUGUSTO GAVIRIA HERRERA</td>\n      <td>2022-04-26</td>\n      <td>JOSÉ RICARDO PÉREZ CANTILLO</td>\n      <td>77165032.0</td>\n      <td>TECNOLOGÍA E INFORMÁTICA</td>\n      <td>TECNOLOGÍA E INFORMÁTICA</td>\n      <td>8</td>\n      <td>1</td>\n      <td>...</td>\n      <td>0</td>\n      <td>0</td>\n      <td>0</td>\n      <td>0</td>\n      <td>0</td>\n      <td>0</td>\n      <td>No se hace uso de esta estrategia.</td>\n      <td>225.0</td>\n      <td>gaviriace16@gmail.com</td>\n      <td>2022-05-18 12:55:15</td>\n    </tr>\n    <tr>\n      <th>207</th>\n      <td>Iniciar Encuesta Ahora</td>\n      <td>EnvioEncuesta</td>\n      <td>JOHANA DE HOYOS</td>\n      <td>2022-05-17</td>\n      <td>IVÁN RÍOS BLANCO</td>\n      <td>92539680.0</td>\n      <td>TECNOLOGÍA E INFORMÁTICA</td>\n      <td>TECNOLOGÍA E INFORMÁTICA</td>\n      <td>9</td>\n      <td>2</td>\n      <td>...</td>\n      <td>0</td>\n      <td>0</td>\n      <td>0</td>\n      <td>0</td>\n      <td>0</td>\n      <td>0</td>\n      <td>No se realiza ninguna acción sobre equidad de ...</td>\n      <td>226.0</td>\n      <td>ing.johanadehoyos@gmail.com</td>\n      <td>2022-05-20 06:25:58</td>\n    </tr>\n    <tr>\n      <th>208</th>\n      <td>Iniciar Encuesta Ahora</td>\n      <td>EnvioEncuesta</td>\n      <td>MÓNICA YAZMÍN GIRALDO OSORIO</td>\n      <td>20/05/2022</td>\n      <td>LUIS GUILLERMO ZULETA</td>\n      <td>71773232.0</td>\n      <td>TECNOLOGÍA E INFORMÁTICA</td>\n      <td>TECNOLOGÍA E INFORMÁTICA</td>\n      <td>10</td>\n      <td>3</td>\n      <td>...</td>\n      <td>0</td>\n      <td>0</td>\n      <td>0</td>\n      <td>0</td>\n      <td>0</td>\n      <td>0</td>\n      <td>En la pregunta 40, no se da ninguna de las opc...</td>\n      <td>227.0</td>\n      <td>mkgiraldoosorio@gmail.com</td>\n      <td>2022-05-20 13:10:53</td>\n    </tr>\n    <tr>\n      <th>209</th>\n      <td>Iniciar Encuesta Ahora</td>\n      <td>EnvioEncuesta</td>\n      <td>JOHANA DE HOYOS</td>\n      <td>2022-05-18</td>\n      <td>GUILLERMO HERNANDEZ HERNANDEZ</td>\n      <td>92529908.0</td>\n      <td>TECNOLOGÍA E INFORMÁTICA</td>\n      <td>TECNOLOGÍA E INFORMÁTICA</td>\n      <td>11</td>\n      <td>4</td>\n      <td>...</td>\n      <td>0</td>\n      <td>0</td>\n      <td>0</td>\n      <td>0</td>\n      <td>0</td>\n      <td>0</td>\n      <td>No se hace ningún comentario del tema.</td>\n      <td>228.0</td>\n      <td>ing.johanadehoyos@gmail.com</td>\n      <td>2022-05-20 19:17:48</td>\n    </tr>\n    <tr>\n      <th>211</th>\n      <td>Iniciar Encuesta Ahora</td>\n      <td>EnvioEncuesta</td>\n      <td>JOHNY ALEXANDER CARLOSAMA</td>\n      <td>2022-06-03</td>\n      <td>OLGER ERAZO</td>\n      <td>98395231.0</td>\n      <td>TECNOLOGÍA E INFORMÁTICA</td>\n      <td>TECNOLOGÍA E INFORMÁTICA</td>\n      <td>11</td>\n      <td>NO APLICA</td>\n      <td>...</td>\n      <td>0</td>\n      <td>0</td>\n      <td>0</td>\n      <td>0</td>\n      <td>0</td>\n      <td>0</td>\n      <td>No se realiza ningún tipo de estrategia pedagó...</td>\n      <td>230.0</td>\n      <td>alexandercarlosama@gmail.com</td>\n      <td>2022-06-03 08:24:35</td>\n    </tr>\n  </tbody>\n</table>\n<p>116 rows × 68 columns</p>\n</div>"
     },
     "execution_count": 51,
     "metadata": {},
     "output_type": "execute_result"
    }
   ],
   "source": [
    "obs_r = obs.rename(columns=renombrar_columnas)\n",
    "obs_r = obs_r.replace(renombrar)\n",
    "obs_r = obs_r.replace(\"NOO\",\"NO\")\n",
    "obs_r = obs_r.replace(\"--\",\"0\")\n",
    "obs_r"
   ],
   "metadata": {
    "collapsed": false,
    "pycharm": {
     "name": "#%%\n"
    }
   }
  },
  {
   "cell_type": "code",
   "execution_count": 52,
   "outputs": [
    {
     "data": {
      "text/plain": "                     Enviar           File       Nombre del observador(a)  \\\n16   Iniciar Encuesta Ahora  EnvioEncuesta       MIRYAM VIVIANA RODRÍGUEZ   \n30   Iniciar Encuesta Ahora  EnvioEncuesta                CRISTIAN AVELLA   \n34   Iniciar Encuesta Ahora  EnvioEncuesta   MÓNICA YAZMÍN GIRALDO OSORIO   \n37   Iniciar Encuesta Ahora  EnvioEncuesta                  ANGELICA MORA   \n38   Iniciar Encuesta Ahora  EnvioEncuesta      LUZ ADRIANA MEDINA DUSSAN   \n..                      ...            ...                            ...   \n206  Iniciar Encuesta Ahora  EnvioEncuesta  CÉSAR AUGUSTO GAVIRIA HERRERA   \n207  Iniciar Encuesta Ahora  EnvioEncuesta               JOHANA DE HOYOS    \n208  Iniciar Encuesta Ahora  EnvioEncuesta   MÓNICA YAZMÍN GIRALDO OSORIO   \n209  Iniciar Encuesta Ahora  EnvioEncuesta               JOHANA DE HOYOS    \n211  Iniciar Encuesta Ahora  EnvioEncuesta      JOHNY ALEXANDER CARLOSAMA   \n\n    Fecha de la observación                  Nombre de docente  \\\n16               2022-03-24          JAVIER BUSTAMANTE HERRERA   \n30               2022-03-23        JUAN CARLOS SANABRIA ROMERO   \n34               24/03/2022  CAMILO JAVIER BUSTAMANTE HEREDIA    \n37               2022-03-25   CAMILO JAVIER BUSTAMANTE HEREDIA   \n38               2022-03-24   CAMILO JAVIER BUSTAMANTE HEREDIA   \n..                      ...                                ...   \n206              2022-04-26        JOSÉ RICARDO PÉREZ CANTILLO   \n207              2022-05-17                   IVÁN RÍOS BLANCO   \n208              20/05/2022             LUIS GUILLERMO ZULETA    \n209              2022-05-18      GUILLERMO HERNANDEZ HERNANDEZ   \n211              2022-06-03                        OLGER ERAZO   \n\n     Número de cédula del docente  \\\n16                     75102867.0   \n30                    104977766.0   \n34                     75102867.0   \n37                     75102867.0   \n38                     75102867.0   \n..                            ...   \n206                    77165032.0   \n207                    92539680.0   \n208                    71773232.0   \n209                    92529908.0   \n211                    98395231.0   \n\n    Asignatura en la que se hace la observación (implementa fichas)  \\\n16                                         INFORMÁTICA                \n30                                              INGLÉS                \n34                           TECNOLOGÍA E INFORMÁTICA                 \n37                            TECNOLOGÍA E INFORMATICA                \n38                            TECNOLOGÍA E INFORMÁTICA                \n..                                                 ...                \n206                           TECNOLOGÍA E INFORMÁTICA                \n207                           TECNOLOGÍA E INFORMÁTICA                \n208                          TECNOLOGÍA E INFORMÁTICA                 \n209                           TECNOLOGÍA E INFORMÁTICA                \n211                           TECNOLOGÍA E INFORMÁTICA                \n\n    Asignatura(s) que orienta regularmente el docente al grupo con el que dará la clase  \\\n16                            TECNOLOGÍA E INFORMÁTICA                                    \n30                                   LENGUA EXTRANJERA                                    \n34                                                 NaN                                    \n37                           TECNOLOGÍA E INFORMÁTICA                                     \n38                            TECNOLOGÍA E INFORMÁTICA                                    \n..                                                 ...                                    \n206                           TECNOLOGÍA E INFORMÁTICA                                    \n207                           TECNOLOGÍA E INFORMÁTICA                                    \n208                          TECNOLOGÍA E INFORMÁTICA                                     \n209                           TECNOLOGÍA E INFORMÁTICA                                    \n211                           TECNOLOGÍA E INFORMÁTICA                                    \n\n    Grado Número de ficha observada  ...  \\\n16     11                         1  ...   \n30      4                         5  ...   \n34     11                         1  ...   \n37     11                         1  ...   \n38     11                         1  ...   \n..    ...                       ...  ...   \n206     8                         1  ...   \n207     9                         2  ...   \n208    10                         3  ...   \n209    11                         4  ...   \n211    11                 NO APLICA  ...   \n\n    Momentos Crea que suceden en la sesión y la forma como se orientan  \\\n16           Trabajo conjunto de Docente y Estudiantes                   \n30   Estudiantes desarrollan el trabajo de forma au...                   \n34           Trabajo conjunto de Docente y Estudiantes                   \n37           Trabajo conjunto de Docente y Estudiantes                   \n38   Estudiantes desarrollan el trabajo de forma au...                   \n..                                                 ...                   \n206                                                  0                   \n207                                                  0                   \n208                                                  0                   \n209                                                  0                   \n211                                                  0                   \n\n    Se corrigen comentarios y comportamientos sexistas  \\\n16                                                   0   \n30                                                   0   \n34                                                   0   \n37                                                   0   \n38                                                   0   \n..                                                 ...   \n206                                                  0   \n207                                                  0   \n208                                                  0   \n209                                                  0   \n211                                                  0   \n\n      Se estimula el liderazgo femenino  \\\n16                                    0   \n30                                    2   \n34                                    0   \n37                                    0   \n38                                    0   \n..                                  ...   \n206                                   0   \n207                                   0   \n208                                   0   \n209                                   0   \n211                                   0   \n\n     Se realizan acciones afirmativas en términos de género  \\\n16                                                   0        \n30                                                   0        \n34                                                   0        \n37                                                   0        \n38                                                   0        \n..                                                 ...        \n206                                                  0        \n207                                                  0        \n208                                                  0        \n209                                                  0        \n211                                                  0        \n\n     Los retos de programación se enmarcan en una narrativa  \\\n16                                                   0        \n30                                                   0        \n34                                                   4        \n37                                                   0        \n38                                                   0        \n..                                                 ...        \n206                                                  0        \n207                                                  0        \n208                                                  0        \n209                                                  0        \n211                                                  0        \n\n     Se dedica tiempo de la clase a hacer reflexiones sobre equidad de género, por ejemplo, aprovechando las historias que se encuentran en las fichas o reiterando normas de aula para evitar comentarios sexistas, entre otros.  \\\n16                                                   0                                                                                                                                                                              \n30                                                   0                                                                                                                                                                              \n34                                                   0                                                                                                                                                                              \n37                                                   0                                                                                                                                                                              \n38                                                   0                                                                                                                                                                              \n..                                                 ...                                                                                                                                                                              \n206                                                  0                                                                                                                                                                              \n207                                                  0                                                                                                                                                                              \n208                                                  0                                                                                                                                                                              \n209                                                  0                                                                                                                                                                              \n211                                                  0                                                                                                                                                                              \n\n                                         observaciones  IdEncuesta  \\\n16   No se habló de equidad de género, ni se foment...        21.0   \n30                                                 NaN        35.0   \n34                                                 NaN        39.0   \n37   No se hace énfasis en las estrategias pedagógi...        42.0   \n38   No se presentaron ninguna de las acciones menc...        43.0   \n..                                                 ...         ...   \n206                 No se hace uso de esta estrategia.       225.0   \n207  No se realiza ninguna acción sobre equidad de ...       226.0   \n208  En la pregunta 40, no se da ninguna de las opc...       227.0   \n209             No se hace ningún comentario del tema.       228.0   \n211  No se realiza ningún tipo de estrategia pedagó...       230.0   \n\n                          Usuario                Fecha  \n16     vivirodriguezv16@gmail.com  2022-03-24 20:27:31  \n30       jhon.balcarcel@gmail.com  2022-03-23 11:49:42  \n34      mkgiraldoosorio@gmail.com  2022-03-24 18:42:49  \n37      angelicamoracsp@gmail.com  2022-03-25 20:55:35  \n38         luz.educatic@gmail.com  2022-03-25 22:13:48  \n..                            ...                  ...  \n206         gaviriace16@gmail.com  2022-05-18 12:55:15  \n207   ing.johanadehoyos@gmail.com  2022-05-20 06:25:58  \n208     mkgiraldoosorio@gmail.com  2022-05-20 13:10:53  \n209   ing.johanadehoyos@gmail.com  2022-05-20 19:17:48  \n211  alexandercarlosama@gmail.com  2022-06-03 08:24:35  \n\n[62 rows x 63 columns]",
      "text/html": "<div>\n<style scoped>\n    .dataframe tbody tr th:only-of-type {\n        vertical-align: middle;\n    }\n\n    .dataframe tbody tr th {\n        vertical-align: top;\n    }\n\n    .dataframe thead th {\n        text-align: right;\n    }\n</style>\n<table border=\"1\" class=\"dataframe\">\n  <thead>\n    <tr style=\"text-align: right;\">\n      <th></th>\n      <th>Enviar</th>\n      <th>File</th>\n      <th>Nombre del observador(a)</th>\n      <th>Fecha de la observación</th>\n      <th>Nombre de docente</th>\n      <th>Número de cédula del docente</th>\n      <th>Asignatura en la que se hace la observación (implementa fichas)</th>\n      <th>Asignatura(s) que orienta regularmente el docente al grupo con el que dará la clase</th>\n      <th>Grado</th>\n      <th>Número de ficha observada</th>\n      <th>...</th>\n      <th>Momentos Crea que suceden en la sesión y la forma como se orientan</th>\n      <th>Se corrigen comentarios y comportamientos sexistas</th>\n      <th>Se estimula el liderazgo femenino</th>\n      <th>Se realizan acciones afirmativas en términos de género</th>\n      <th>Los retos de programación se enmarcan en una narrativa</th>\n      <th>Se dedica tiempo de la clase a hacer reflexiones sobre equidad de género, por ejemplo, aprovechando las historias que se encuentran en las fichas o reiterando normas de aula para evitar comentarios sexistas, entre otros.</th>\n      <th>observaciones</th>\n      <th>IdEncuesta</th>\n      <th>Usuario</th>\n      <th>Fecha</th>\n    </tr>\n  </thead>\n  <tbody>\n    <tr>\n      <th>16</th>\n      <td>Iniciar Encuesta Ahora</td>\n      <td>EnvioEncuesta</td>\n      <td>MIRYAM VIVIANA RODRÍGUEZ</td>\n      <td>2022-03-24</td>\n      <td>JAVIER BUSTAMANTE HERRERA</td>\n      <td>75102867.0</td>\n      <td>INFORMÁTICA</td>\n      <td>TECNOLOGÍA E INFORMÁTICA</td>\n      <td>11</td>\n      <td>1</td>\n      <td>...</td>\n      <td>Trabajo conjunto de Docente y Estudiantes</td>\n      <td>0</td>\n      <td>0</td>\n      <td>0</td>\n      <td>0</td>\n      <td>0</td>\n      <td>No se habló de equidad de género, ni se foment...</td>\n      <td>21.0</td>\n      <td>vivirodriguezv16@gmail.com</td>\n      <td>2022-03-24 20:27:31</td>\n    </tr>\n    <tr>\n      <th>30</th>\n      <td>Iniciar Encuesta Ahora</td>\n      <td>EnvioEncuesta</td>\n      <td>CRISTIAN AVELLA</td>\n      <td>2022-03-23</td>\n      <td>JUAN CARLOS SANABRIA ROMERO</td>\n      <td>104977766.0</td>\n      <td>INGLÉS</td>\n      <td>LENGUA EXTRANJERA</td>\n      <td>4</td>\n      <td>5</td>\n      <td>...</td>\n      <td>Estudiantes desarrollan el trabajo de forma au...</td>\n      <td>0</td>\n      <td>2</td>\n      <td>0</td>\n      <td>0</td>\n      <td>0</td>\n      <td>NaN</td>\n      <td>35.0</td>\n      <td>jhon.balcarcel@gmail.com</td>\n      <td>2022-03-23 11:49:42</td>\n    </tr>\n    <tr>\n      <th>34</th>\n      <td>Iniciar Encuesta Ahora</td>\n      <td>EnvioEncuesta</td>\n      <td>MÓNICA YAZMÍN GIRALDO OSORIO</td>\n      <td>24/03/2022</td>\n      <td>CAMILO JAVIER BUSTAMANTE HEREDIA</td>\n      <td>75102867.0</td>\n      <td>TECNOLOGÍA E INFORMÁTICA</td>\n      <td>NaN</td>\n      <td>11</td>\n      <td>1</td>\n      <td>...</td>\n      <td>Trabajo conjunto de Docente y Estudiantes</td>\n      <td>0</td>\n      <td>0</td>\n      <td>0</td>\n      <td>4</td>\n      <td>0</td>\n      <td>NaN</td>\n      <td>39.0</td>\n      <td>mkgiraldoosorio@gmail.com</td>\n      <td>2022-03-24 18:42:49</td>\n    </tr>\n    <tr>\n      <th>37</th>\n      <td>Iniciar Encuesta Ahora</td>\n      <td>EnvioEncuesta</td>\n      <td>ANGELICA MORA</td>\n      <td>2022-03-25</td>\n      <td>CAMILO JAVIER BUSTAMANTE HEREDIA</td>\n      <td>75102867.0</td>\n      <td>TECNOLOGÍA E INFORMATICA</td>\n      <td>TECNOLOGÍA E INFORMÁTICA</td>\n      <td>11</td>\n      <td>1</td>\n      <td>...</td>\n      <td>Trabajo conjunto de Docente y Estudiantes</td>\n      <td>0</td>\n      <td>0</td>\n      <td>0</td>\n      <td>0</td>\n      <td>0</td>\n      <td>No se hace énfasis en las estrategias pedagógi...</td>\n      <td>42.0</td>\n      <td>angelicamoracsp@gmail.com</td>\n      <td>2022-03-25 20:55:35</td>\n    </tr>\n    <tr>\n      <th>38</th>\n      <td>Iniciar Encuesta Ahora</td>\n      <td>EnvioEncuesta</td>\n      <td>LUZ ADRIANA MEDINA DUSSAN</td>\n      <td>2022-03-24</td>\n      <td>CAMILO JAVIER BUSTAMANTE HEREDIA</td>\n      <td>75102867.0</td>\n      <td>TECNOLOGÍA E INFORMÁTICA</td>\n      <td>TECNOLOGÍA E INFORMÁTICA</td>\n      <td>11</td>\n      <td>1</td>\n      <td>...</td>\n      <td>Estudiantes desarrollan el trabajo de forma au...</td>\n      <td>0</td>\n      <td>0</td>\n      <td>0</td>\n      <td>0</td>\n      <td>0</td>\n      <td>No se presentaron ninguna de las acciones menc...</td>\n      <td>43.0</td>\n      <td>luz.educatic@gmail.com</td>\n      <td>2022-03-25 22:13:48</td>\n    </tr>\n    <tr>\n      <th>...</th>\n      <td>...</td>\n      <td>...</td>\n      <td>...</td>\n      <td>...</td>\n      <td>...</td>\n      <td>...</td>\n      <td>...</td>\n      <td>...</td>\n      <td>...</td>\n      <td>...</td>\n      <td>...</td>\n      <td>...</td>\n      <td>...</td>\n      <td>...</td>\n      <td>...</td>\n      <td>...</td>\n      <td>...</td>\n      <td>...</td>\n      <td>...</td>\n      <td>...</td>\n      <td>...</td>\n    </tr>\n    <tr>\n      <th>206</th>\n      <td>Iniciar Encuesta Ahora</td>\n      <td>EnvioEncuesta</td>\n      <td>CÉSAR AUGUSTO GAVIRIA HERRERA</td>\n      <td>2022-04-26</td>\n      <td>JOSÉ RICARDO PÉREZ CANTILLO</td>\n      <td>77165032.0</td>\n      <td>TECNOLOGÍA E INFORMÁTICA</td>\n      <td>TECNOLOGÍA E INFORMÁTICA</td>\n      <td>8</td>\n      <td>1</td>\n      <td>...</td>\n      <td>0</td>\n      <td>0</td>\n      <td>0</td>\n      <td>0</td>\n      <td>0</td>\n      <td>0</td>\n      <td>No se hace uso de esta estrategia.</td>\n      <td>225.0</td>\n      <td>gaviriace16@gmail.com</td>\n      <td>2022-05-18 12:55:15</td>\n    </tr>\n    <tr>\n      <th>207</th>\n      <td>Iniciar Encuesta Ahora</td>\n      <td>EnvioEncuesta</td>\n      <td>JOHANA DE HOYOS</td>\n      <td>2022-05-17</td>\n      <td>IVÁN RÍOS BLANCO</td>\n      <td>92539680.0</td>\n      <td>TECNOLOGÍA E INFORMÁTICA</td>\n      <td>TECNOLOGÍA E INFORMÁTICA</td>\n      <td>9</td>\n      <td>2</td>\n      <td>...</td>\n      <td>0</td>\n      <td>0</td>\n      <td>0</td>\n      <td>0</td>\n      <td>0</td>\n      <td>0</td>\n      <td>No se realiza ninguna acción sobre equidad de ...</td>\n      <td>226.0</td>\n      <td>ing.johanadehoyos@gmail.com</td>\n      <td>2022-05-20 06:25:58</td>\n    </tr>\n    <tr>\n      <th>208</th>\n      <td>Iniciar Encuesta Ahora</td>\n      <td>EnvioEncuesta</td>\n      <td>MÓNICA YAZMÍN GIRALDO OSORIO</td>\n      <td>20/05/2022</td>\n      <td>LUIS GUILLERMO ZULETA</td>\n      <td>71773232.0</td>\n      <td>TECNOLOGÍA E INFORMÁTICA</td>\n      <td>TECNOLOGÍA E INFORMÁTICA</td>\n      <td>10</td>\n      <td>3</td>\n      <td>...</td>\n      <td>0</td>\n      <td>0</td>\n      <td>0</td>\n      <td>0</td>\n      <td>0</td>\n      <td>0</td>\n      <td>En la pregunta 40, no se da ninguna de las opc...</td>\n      <td>227.0</td>\n      <td>mkgiraldoosorio@gmail.com</td>\n      <td>2022-05-20 13:10:53</td>\n    </tr>\n    <tr>\n      <th>209</th>\n      <td>Iniciar Encuesta Ahora</td>\n      <td>EnvioEncuesta</td>\n      <td>JOHANA DE HOYOS</td>\n      <td>2022-05-18</td>\n      <td>GUILLERMO HERNANDEZ HERNANDEZ</td>\n      <td>92529908.0</td>\n      <td>TECNOLOGÍA E INFORMÁTICA</td>\n      <td>TECNOLOGÍA E INFORMÁTICA</td>\n      <td>11</td>\n      <td>4</td>\n      <td>...</td>\n      <td>0</td>\n      <td>0</td>\n      <td>0</td>\n      <td>0</td>\n      <td>0</td>\n      <td>0</td>\n      <td>No se hace ningún comentario del tema.</td>\n      <td>228.0</td>\n      <td>ing.johanadehoyos@gmail.com</td>\n      <td>2022-05-20 19:17:48</td>\n    </tr>\n    <tr>\n      <th>211</th>\n      <td>Iniciar Encuesta Ahora</td>\n      <td>EnvioEncuesta</td>\n      <td>JOHNY ALEXANDER CARLOSAMA</td>\n      <td>2022-06-03</td>\n      <td>OLGER ERAZO</td>\n      <td>98395231.0</td>\n      <td>TECNOLOGÍA E INFORMÁTICA</td>\n      <td>TECNOLOGÍA E INFORMÁTICA</td>\n      <td>11</td>\n      <td>NO APLICA</td>\n      <td>...</td>\n      <td>0</td>\n      <td>0</td>\n      <td>0</td>\n      <td>0</td>\n      <td>0</td>\n      <td>0</td>\n      <td>No se realiza ningún tipo de estrategia pedagó...</td>\n      <td>230.0</td>\n      <td>alexandercarlosama@gmail.com</td>\n      <td>2022-06-03 08:24:35</td>\n    </tr>\n  </tbody>\n</table>\n<p>62 rows × 63 columns</p>\n</div>"
     },
     "execution_count": 52,
     "metadata": {},
     "output_type": "execute_result"
    }
   ],
   "source": [
    "obs_r = obs_r[~obs_r['Usuario'].isin(['cristianavella','lorenamolina'])]\n",
    "obs_r = obs_r[obs_r['Nombre del observador(a)'].str.len()>6]\n",
    "obs_r = obs_r[~obs_r['Número de cédula del docente'].isna()]\n",
    "obs_r = obs_r[obs_r['Número de cédula del docente'] > 10000000]\n",
    "obs_r = obs_r[~obs_r['Nombre de docente'].isin([\"PEPITO PEREZ\"])]\n",
    "obs_r = obs_r.filter(regex=\"^(?!.*x_).\")\n",
    "obs_r"
   ],
   "metadata": {
    "collapsed": false,
    "pycharm": {
     "name": "#%%\n"
    }
   }
  },
  {
   "cell_type": "code",
   "execution_count": 54,
   "outputs": [],
   "source": [
    "obs_r.to_excel(\"Observaciones_1306.xlsx\")"
   ],
   "metadata": {
    "collapsed": false,
    "pycharm": {
     "name": "#%%\n"
    }
   }
  },
  {
   "cell_type": "code",
   "execution_count": 56,
   "outputs": [
    {
     "data": {
      "text/plain": "array(['MIRYAM VIVIANA RODRÍGUEZ', 'CRISTIAN AVELLA',\n       'MÓNICA YAZMÍN GIRALDO OSORIO', 'ANGELICA MORA',\n       'LUZ ADRIANA MEDINA DUSSAN', 'DANIEL FIDENCIO CORTES MORA',\n       'FREDY ALEXANDER CASTELLANOS AVILA', 'ANA ELVIRA  VENTÉ MANCILLA ',\n       'DAYANA VANESA ABAD RENDÓN', 'IRIAM VIVIANA GANEM LÓPEZ',\n       'MARIA CAROLINA DOMINGUEZ', 'LADY MORA PINEDA',\n       'LINA FERNANDA ORTEGA BERMÓN', 'JOHANA DE HOYOS GUZMÁN',\n       'GILBERTO ARTURO LUNA B', 'CAMILO JR TORRES QUIÑONES',\n       'CAMILO HERNÁN VILLOTA IBARRA', 'MARIO ALEJANDRO RINCON GUZMAN',\n       'JHON JAIRO BALCARCER GARCES', 'ALEJANDRA MARÍA NARVÁEZ CAMAYO',\n       'DIANA ALEJANDRA WILCHES SILVA', 'ALEXANDER CARLOSAMA',\n       'MONICA COTE', 'HERNANDO MANRIQUE', 'DIANA PAOLA GONZALEZ CAMPOS',\n       'VERUSKA ARTEAGA CABRALES', 'ERIKA NELA MIRANDA MARTÍNEZ',\n       'CESAR GAVIRIA HERRERA', 'JAIRO DAVID CABARCAS ESCOBAR',\n       'JENNY CAROLINA ROJAS LEÓN', 'VILDA GOMEZ',\n       'ANABELL ZZÚÑIGA AHUMADA', 'JUAN DIEGO BOTERO MARÍN',\n       'FRANCY LILIANA SEGURA JIMÉNEZ ', 'CÉSAR AUGUSTO GAVIRIA HERRERA',\n       'OSCAR BARRIOS', 'DIANA WILCHES', 'ANGELICA MARIA MORA GUERRERO',\n       'JOHNY ALEXANDER CARLOSAMA', 'JOHANA DE HOYOS '], dtype=object)"
     },
     "execution_count": 56,
     "metadata": {},
     "output_type": "execute_result"
    }
   ],
   "source": [
    "obs_r['Nombre del observador(a)'].unique()"
   ],
   "metadata": {
    "collapsed": false,
    "pycharm": {
     "name": "#%%\n"
    }
   }
  },
  {
   "cell_type": "markdown",
   "source": [
    "# Instantaneas"
   ],
   "metadata": {
    "collapsed": false,
    "pycharm": {
     "name": "#%% md\n"
    }
   }
  },
  {
   "cell_type": "code",
   "execution_count": 83,
   "outputs": [],
   "source": [
    "instantaneas = pd.read_excel(ruta_git/'data/raw/inst_1006.xlsx')"
   ],
   "metadata": {
    "collapsed": false,
    "pycharm": {
     "name": "#%%\n"
    }
   }
  },
  {
   "cell_type": "code",
   "execution_count": 85,
   "outputs": [
    {
     "data": {
      "text/plain": "Index(['id', 'inst_1', 'inst_2', 'inst_3', 'inst_4', 'inst_5', 'inst_6',\n       'inst_7', 'inst_8', 'inst_9', 'inst_10', 'inst_11', 'inst_12',\n       'inst_13', 'inst_14', 'inst_15', 'inst_16', 'inst_17', 'inst_18',\n       'inst_19', 'inst_20', 'inst_21', 'inst_22', 'IdEncuesta', 'Usuario',\n       'Fecha'],\n      dtype='object')"
     },
     "execution_count": 85,
     "metadata": {},
     "output_type": "execute_result"
    }
   ],
   "source": [
    "instantaneas.columns"
   ],
   "metadata": {
    "collapsed": false,
    "pycharm": {
     "name": "#%%\n"
    }
   }
  },
  {
   "cell_type": "code",
   "execution_count": null,
   "outputs": [],
   "source": [],
   "metadata": {
    "collapsed": false,
    "pycharm": {
     "name": "#%%\n"
    }
   }
  },
  {
   "cell_type": "code",
   "execution_count": null,
   "outputs": [],
   "source": [
    "inst_cols = ['id', 'inst_1', 'inst_2', 'inst_3', 'inst_4', 'inst_5', 'inst_6',\n",
    "       'inst_7', 'inst_8', 'inst_9', 'inst_10', 'inst_11', 'inst_12',\n",
    "       'inst_13', 'inst_14', 'inst_15', 'inst_16', 'inst_17', 'inst_18',\n",
    "       'inst_19', 'inst_20', 'inst_21', 'inst_22', 'IdEncuesta', 'Usuario',\n",
    "       'Fecha']"
   ],
   "metadata": {
    "collapsed": false,
    "pycharm": {
     "name": "#%%\n"
    }
   }
  }
 ],
 "metadata": {
  "kernelspec": {
   "display_name": "Python 3",
   "language": "python",
   "name": "python3"
  },
  "language_info": {
   "codemirror_mode": {
    "name": "ipython",
    "version": 2
   },
   "file_extension": ".py",
   "mimetype": "text/x-python",
   "name": "python",
   "nbconvert_exporter": "python",
   "pygments_lexer": "ipython2",
   "version": "2.7.6"
  }
 },
 "nbformat": 4,
 "nbformat_minor": 0
}