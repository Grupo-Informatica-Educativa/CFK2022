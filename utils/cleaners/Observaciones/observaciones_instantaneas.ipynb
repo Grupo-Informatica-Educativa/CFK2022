{
 "cells": [
  {
   "cell_type": "code",
   "execution_count": 1,
   "metadata": {
    "collapsed": true,
    "pycharm": {
     "name": "#%%\n"
    }
   },
   "outputs": [],
   "source": [
    "import pandas as pd\n",
    "import plotly.express as px\n",
    "import pathlib\n",
    "\n",
    "import xlrd"
   ]
  },
  {
   "cell_type": "code",
   "execution_count": 32,
   "outputs": [
    {
     "data": {
      "text/plain": "True"
     },
     "execution_count": 32,
     "metadata": {},
     "output_type": "execute_result"
    }
   ],
   "source": [
    "ruta_git = pathlib.Path().cwd().parent.parent.parent\n",
    "\n",
    "obs_0 = pd.read_excel(ruta_git/'data/raw/obs_1006.xlsx')\n",
    "obs = pd.read_excel(ruta_git/'data/raw/obs_1306.xlsx')\n",
    "obs.shape == obs_0.shape"
   ],
   "metadata": {
    "collapsed": false,
    "pycharm": {
     "name": "#%%\n"
    }
   }
  },
  {
   "cell_type": "code",
   "execution_count": 33,
   "outputs": [
    {
     "ename": "KeyError",
     "evalue": "['Fecha']",
     "output_type": "error",
     "traceback": [
      "\u001B[1;31m---------------------------------------------------------------------------\u001B[0m",
      "\u001B[1;31mKeyError\u001B[0m                                  Traceback (most recent call last)",
      "Input \u001B[1;32mIn [33]\u001B[0m, in \u001B[0;36m<cell line: 3>\u001B[1;34m()\u001B[0m\n\u001B[0;32m      1\u001B[0m obs \u001B[38;5;241m=\u001B[39m obs\u001B[38;5;241m.\u001B[39mdropna(how\u001B[38;5;241m=\u001B[39m\u001B[38;5;124m'\u001B[39m\u001B[38;5;124mall\u001B[39m\u001B[38;5;124m'\u001B[39m)\n\u001B[0;32m      2\u001B[0m \u001B[38;5;66;03m# parece que corrigieron cuando se arregló el campo Fecha\u001B[39;00m\n\u001B[1;32m----> 3\u001B[0m obs \u001B[38;5;241m=\u001B[39m \u001B[43mobs\u001B[49m\u001B[38;5;241;43m.\u001B[39;49m\u001B[43mdropna\u001B[49m\u001B[43m(\u001B[49m\u001B[43msubset\u001B[49m\u001B[38;5;241;43m=\u001B[39;49m\u001B[38;5;124;43m'\u001B[39;49m\u001B[38;5;124;43mFecha\u001B[39;49m\u001B[38;5;124;43m'\u001B[39;49m\u001B[43m)\u001B[49m\n\u001B[0;32m      4\u001B[0m \u001B[38;5;66;03m#pero me quedan faltando 4\u001B[39;00m\n\u001B[0;32m      5\u001B[0m obs\u001B[38;5;241m.\u001B[39mtail(\u001B[38;5;241m20\u001B[39m)\n",
      "File \u001B[1;32m~\\DataspellProjects\\CFK2022\\venv\\lib\\site-packages\\pandas\\util\\_decorators.py:311\u001B[0m, in \u001B[0;36mdeprecate_nonkeyword_arguments.<locals>.decorate.<locals>.wrapper\u001B[1;34m(*args, **kwargs)\u001B[0m\n\u001B[0;32m    305\u001B[0m \u001B[38;5;28;01mif\u001B[39;00m \u001B[38;5;28mlen\u001B[39m(args) \u001B[38;5;241m>\u001B[39m num_allow_args:\n\u001B[0;32m    306\u001B[0m     warnings\u001B[38;5;241m.\u001B[39mwarn(\n\u001B[0;32m    307\u001B[0m         msg\u001B[38;5;241m.\u001B[39mformat(arguments\u001B[38;5;241m=\u001B[39marguments),\n\u001B[0;32m    308\u001B[0m         \u001B[38;5;167;01mFutureWarning\u001B[39;00m,\n\u001B[0;32m    309\u001B[0m         stacklevel\u001B[38;5;241m=\u001B[39mstacklevel,\n\u001B[0;32m    310\u001B[0m     )\n\u001B[1;32m--> 311\u001B[0m \u001B[38;5;28;01mreturn\u001B[39;00m func(\u001B[38;5;241m*\u001B[39margs, \u001B[38;5;241m*\u001B[39m\u001B[38;5;241m*\u001B[39mkwargs)\n",
      "File \u001B[1;32m~\\DataspellProjects\\CFK2022\\venv\\lib\\site-packages\\pandas\\core\\frame.py:6002\u001B[0m, in \u001B[0;36mDataFrame.dropna\u001B[1;34m(self, axis, how, thresh, subset, inplace)\u001B[0m\n\u001B[0;32m   6000\u001B[0m     check \u001B[38;5;241m=\u001B[39m indices \u001B[38;5;241m==\u001B[39m \u001B[38;5;241m-\u001B[39m\u001B[38;5;241m1\u001B[39m\n\u001B[0;32m   6001\u001B[0m     \u001B[38;5;28;01mif\u001B[39;00m check\u001B[38;5;241m.\u001B[39many():\n\u001B[1;32m-> 6002\u001B[0m         \u001B[38;5;28;01mraise\u001B[39;00m \u001B[38;5;167;01mKeyError\u001B[39;00m(np\u001B[38;5;241m.\u001B[39marray(subset)[check]\u001B[38;5;241m.\u001B[39mtolist())\n\u001B[0;32m   6003\u001B[0m     agg_obj \u001B[38;5;241m=\u001B[39m \u001B[38;5;28mself\u001B[39m\u001B[38;5;241m.\u001B[39mtake(indices, axis\u001B[38;5;241m=\u001B[39magg_axis)\n\u001B[0;32m   6005\u001B[0m \u001B[38;5;28;01mif\u001B[39;00m thresh \u001B[38;5;129;01mis\u001B[39;00m \u001B[38;5;129;01mnot\u001B[39;00m \u001B[38;5;28;01mNone\u001B[39;00m:\n",
      "\u001B[1;31mKeyError\u001B[0m: ['Fecha']"
     ]
    }
   ],
   "source": [
    "obs = obs.dropna(how='all')\n",
    "# parece que corrigieron cuando se arregló el campo Fecha\n",
    "obs = obs.dropna(subset='Fecha')\n",
    "#pero me quedan faltando 4\n",
    "obs.tail(20)"
   ],
   "metadata": {
    "collapsed": false,
    "pycharm": {
     "name": "#%%\n"
    }
   }
  },
  {
   "cell_type": "code",
   "execution_count": null,
   "outputs": [],
   "source": [
    "obs.columns"
   ],
   "metadata": {
    "collapsed": false,
    "pycharm": {
     "name": "#%%\n"
    }
   }
  },
  {
   "cell_type": "code",
   "execution_count": null,
   "outputs": [],
   "source": [
    "col_observaciones = ['Enviar', 'File', 'Nombre del observador(a)', 'Fecha de la observación', 'Nombre de docente', 'Número de cédula del docente', 'Asignatura en la que se hace la observación (implementa fichas)', 'Asignatura(s) que orienta regularmente el docente al grupo con el que dará la clase', 'Grado',\n",
    "       'Número de ficha observada', 'Sesión', 'x_10', 'Internet Institucional.', 'N portatiles', 'N computadores de escritorio', 'N tablets', 'N celulares', 'N micro:bits',\n",
    "       '¿Cuántos minutos transcurren entre el inicio de la clase estipulada y el inicio de la primera actividad?', '¿Se presentan los objetivos de aprendizaje de la lección?', '¿Se exploran los conocimientos previos de los estudiantes y su conexión con los temas de la lección?', '¿Se presentan y explican los conceptos claves que serán usados en la lección?', '¿Se preparó de forma previa el material requerido para la lección?', '¿Se gestionan correctamente los materiales e instrumentos para el desarrollo de la actividad?', '¿Cuántos estudiantes logran empezar la actividad sin requerir nuevas aclaraciones de las instrucciones?', '¿Cuántos estudiantes llevan a cabo la actividad desconectada según las instrucciones dadas?', '¿Cuántos estudiantes completan la actividad desconectada?',\n",
    "       '¿Se invita a los estudiantes a compartir la solución que dieron a la actividad desconectada y reflexionar sobre otras posibles soluciones?', '¿Se hace un cierre formal de la actividad desconectada para destacar la relación entre ésta y el concepto de pensamiento computacional y/o programación de la clase?', 'x_28', 'x_29', '¿Cuántos estudiantes logran solucionar el reto de codificación propuesto con lo aprendido en la lección (Ej. el reto “Manos a la micro:bit” o “Para ir más lejos”)?', '¿Se usa el vocabulario adecuado para la enseñanza del pensamiento computacional (terminología correcta)?', '¿Se conectan los temas presentados con la vida diaria?', '¿Se presentaron problemas técnicos durante la clase?', '¿Estos problemas son resultado de falta de preparación?',\n",
    "       '¿Se pudieron resolver oportunamente los problemas técnicos?', '¿Se siguen fielmente las actividades de la ficha?', '¿Se promueve la idea de que todos y todas pueden desarrollar su pensamiento computacional y habilidades de programación?', '¿Se valora el esfuerzo de los estudiantes para desarrollar las actividades propuestas?', '¿Se observa acompañamiento con estrategias de apoyo (aclaración de dudas, explicaciones, ejemplos adicionales, invitación a revisar partes específicas de las fichas, etc) a los estudiantes durante el desarrollo de las actividades?', 'x_40', '¿Se hace uso de la memoria colectiva?', '¿Se promueven los procesos de metacognición y reflexión?', 'Observaciones generales',\n",
    "       'x_44', 'Nombre de la Institución Educativa', 'Otra sesión, ¿cuál?', 'Cantidad de estudiantes en el salón: Niños', 'Cantidad de estudiantes en el salón: Niñas', 'Se usan los dispositivos de computo',\n",
    "       'Se usan las tarjetas micro:bit', 'Se cuenta con acceso a MakeCode', 'Se usa el acceso a internet', 'Se utilizan herramientas tecnológicas adicionales para apoyar el desarrollo de la sesión', 'Se usa otra herramienta. Cuál?', 'Momentos Usa que suceden en la sesión y la forma como se orientan', 'Momentos Modifica que suceden en la sesión y la forma como se orientan',\n",
    "       'Momentos Crea que suceden en la sesión y la forma como se orientan', 'Se corrigen comentarios y comportamientos sexistas', ' Se estimula el liderazgo femenino', 'Se realizan acciones afirmativas en términos de género', 'Los retos de programación se enmarcan en una narrativa', 'Se dedica tiempo de la clase a hacer reflexiones sobre equidad de género, por ejemplo, aprovechando las historias que se encuentran en las fichas o reiterando normas de aula para evitar comentarios sexistas, entre otros.', 'observaciones',\n",
    "       'IdEncuesta', 'Usuario', 'Fecha']\n",
    "\n",
    "renombrar_columnas = dict(zip(obs.columns,col_observaciones))\n",
    "\n",
    "renombrar = {}\n",
    "\n",
    "renombrar['Sesión'] = {1:\"Conectada\",2:\"Desconectada\",\n",
    "          3:\"Ambas conectada y desconectada\",\n",
    "          4:\"No sé\"}\n",
    "\n",
    "renombrar['¿Se presentan los objetivos de aprendizaje de la lección?'] = {1:\"Sí, se presentan aprendizajes esperados relacionados con pensamiento computacional\",\n",
    "                  2:\"Parcialmente. Se presentan objetivos, pero estos no están relacionados con pensamiento computacional. Ej. El objetivo presentado por el/la docente es que los estudiantes estén callados y trabajen juiciosos\",\n",
    "                  3:\"No se presentan los objetivos que se espera lograr\"}\n",
    "renombrar['¿Se exploran los conocimientos previos de los estudiantes y su conexión con los temas de la lección?']={1:\"Sí\", 2:\"Parcialmente. Se hace exploración de conocimientos previos, pero no se conectan claramente con el tema que se presenta\",\n",
    "          3:\"No\"}\n",
    "\n",
    "renombrar[\"¿Se presentan y explican los conceptos claves que serán usados en la lección?\"] = { 1:\"Sí\",\n",
    "                                       2:\"Parcialmente. Se hace una explicación, pero no es clara.\", 3:\"Parcialmente. Sólo se presenta, pero no se explica.\",\n",
    "                                        4:\"No se hace una presentación, ni explicación de conceptos.\"}\n",
    "renombrar[\"¿Se preparó de forma previa el material requerido para la lección?\"] = {1:'Sí', 2:'Parcialmente', 3:\"No\", 4:\"No aplica, no se requieren materiales para el desarrollo de las actividades\"}\n",
    "\n",
    "renombrar['¿Se gestionan correctamente los materiales e instrumentos para el desarrollo de la actividad?'] = {\n",
    "    1:\"Sí, se entregan los materiales requeridos de manera eficiente\",\n",
    "    2:\"Parcialmente, se entregan los materiales requeridos pero el proceso es desordenado o toma mucho tiempo\",\n",
    "    3:\"Parcialmente pues no se entregan materiales para el desarrollo de la actividad, pero se indica cómo diseñarlos o conseguirlos rápidamente\",\n",
    "    4:\"No, no se entregan materiales ni se dan indicaciones sobre cómo gestionarlos\",\n",
    "    5:\"No aplica, no se requieren materiales para el desarrollo de las actividades\"\n",
    "}\n",
    "cuantos_est = {1:\"Todo(a)s\", 2:\"La mayoría, pero no todo(a)s\", 3:\"Más de dos, pero menos de la mayoría\",4:\"Uno o dos\"}\n",
    "renombrar['¿Cuántos estudiantes logran empezar la actividad sin requerir nuevas aclaraciones de las instrucciones?']=cuantos_est\n",
    "renombrar['¿Cuántos estudiantes llevan a cabo la actividad desconectada según las instrucciones dadas?'] = cuantos_est\n",
    "renombrar['¿Cuántos estudiantes completan la actividad desconectada?'] = cuantos_est\n",
    "renombrar['¿Se invita a los estudiantes a compartir la solución que dieron a la actividad desconectada y reflexionar sobre otras posibles soluciones?']={1:'Sí', 2:\"Parcialmente, no se invita a los estudiantes a compartir verbalmente sus soluciones, pero sí se les invita a movilizarse y observar las soluciones planteadas por otros grupos\", 3:\"Parcialmente, se permite a los estudiantes participar, pero se destaca una única solución posible\", 4:\"No\"}\n",
    "\n",
    "renombrar['¿Se hace un cierre formal de la actividad desconectada para destacar la relación entre ésta y el concepto de pensamiento computacional y/o programación de la clase?'] = {1:\"Sí, se hacen preguntas que permiten a los estudiantes conectar la actividad desarrollada con el concepto clave de la lección\", 2:\"Parcialmente, se indica la finalización de la actividad y el/la docente es quien explica la relación entre la actividad y el concepto clave de la lección\", 3:\"Parcialmente, se da cierre a la actividad, pero no se destaca su relación con el concepto clave de la lección\", 4:\"No se hace cierre formal de la actividad\"}\n",
    "\n",
    "renombrar['Momentos Usa que suceden en la sesión y la forma como se orientan'] = {'USA1':\"Liderado y realizado por el/la docente, sin participación de los estudiantes\", 'USA2':'Trabajo conjunto de Docente y Estudiantes', 'USA3':'Estudiantes desarrollan el trabajo de forma autónoma'}\n",
    "\n",
    "renombrar['Momentos Modifica que suceden en la sesión y la forma como se orientan'] = {'MOD1':'Liderado y realizado por el/la docente, sin participación de los estudiantes', 'MOD2':'Trabajo conjunto de Docente y Estudiantes', 'MOD3':'Estudiantes desarrollan el trabajo de forma autónoma'}\n",
    "renombrar['Momentos Crea que suceden en la sesión y la forma como se orientan']={'CRE1':\"Liderado y realizado por el/la docente, sin participación de los estudiantes\",'CRE2':'Trabajo conjunto de Docente y Estudiantes',\"CRE3\":\"Estudiantes desarrollan el trabajo de forma autónoma\"}\n",
    "renombrar['¿Cuántos estudiantes logran solucionar el reto de codificación propuesto con lo aprendido en la lección (Ej. el reto “Manos a la micro:bit” o “Para ir más lejos”)?'] = cuantos_est|{5:\"No aplica. No se presentó un reto de codificación\"}\n",
    "\n",
    "renombrar['¿Se usa el vocabulario adecuado para la enseñanza del pensamiento computacional (terminología correcta)?'] = {1:'Sí, durante toda la clase',2:\"Parcialmente, durante la mayor parte de la clase\",3:\"Parcialmente, durante la mitad de la clase\",4:\"Parcialmente, durante la menor parte de la clase\",5:\"No\"}\n",
    "\n",
    "renombrar['¿Se conectan los temas presentados con la vida diaria?'] = {1:'Sí, se hace uso de analogías y/o ejemplos de la vida cotidiana para aclarar conceptos nuevos (ej. Bucles, variables, condicionales).',2:'Parcialmente, se hace uso de analogías y/o ejemplos que son apropiados para los conceptos, pero no se hace clara la conexión entre estos',3:'Parcialmente, se hace uso de analogías y/o ejemplos de la vida cotidiana, pero estos no son apropiados para ilustrar los conceptos nuevos',4:'No se hace uso de analogías ni de ejemplos, se centra en lo técnico únicamente'}\n",
    "\n",
    "renombrar[\"¿Se siguen fielmente las actividades de la ficha?\"]={1:\"Sí, durante toda la clase\"\n",
    "    ,2:\"Parcialmente, durante la mayor parte de la clase\",3:\"Parcialmente, durante la mitad de la clase\",4:\"Parcialmente, durante la menor parte de la clase\",5:\"No\"}\n",
    "\n",
    "renombrar['¿Se promueve la idea de que todos y todas pueden desarrollar su pensamiento computacional y habilidades de programación?'] = {1:\"Sí, durante toda la clase\",2:\"Parcialmente, durante la mayor parte de la clase\",3:\"Parcialmente, durante la mitad de la clase\",4:\"Parcialmente, durante la menor parte de la clase\",5:\"No\"}\n",
    "\n",
    "renombrar['¿Se valora el esfuerzo de los estudiantes para desarrollar las actividades propuestas?'] = {1:\"Sí, se valora el esfuerzo de todos los estudiantes, independientemente de si lograron completar los retos planteados de forma exitosa.\",2:\"Parcialmente, pues sólo se valoran los resultados de los estudiantes que completan exitosamente las tareas o retos planteados\",3:\"Parcialmente, pues sólo se valora el esfuerzo de quienes no lograron completar exitosamente la tarea o reto planteado\",4:\"No, no se reconoce ni el esfuerzo, ni el resultado exitoso del trabajo desarrollado por los estudiantes\",5:\"No, no se valora el esfuerzo sino únicamente el resultado\"}\n",
    "\n",
    "renombrar[\"¿Se observa acompañamiento con estrategias de apoyo (aclaración de dudas, explicaciones, ejemplos adicionales, invitación a revisar partes específicas de las fichas, etc) a los estudiantes durante el desarrollo de las actividades?\"] ={1:\"Sí, se verifica el trabajo el trabajo de los y las estudiantes y se acompaña con estrategias de apoyo\",2:\"Parcialmente, se verifica el trabajo de los y las estudiantes, pero se acompaña con estrategias de apoyo sólo a quienes lo solicitan\",3:\"Parcialmente, el acompañamiento se limita a hacer preguntas sobre el avance y cumplimiento de las tareas y no se brindan estrategias de apoyo\",4:\"No, no se hace ningún tipo de acompañamiento, ni se brinda apoyo a los estudiantes que tienen dificultades\"}\n",
    "\n",
    "renombrar['¿Se hace uso de la memoria colectiva?'] = {1:\"Sí, se construye desde cero un gráfico tipo mapa mental con la ayuda de los estudiantes\",2:\"Sí, el docente presenta una estructura inicial de temas y construye el resto de la memoria colectiva con los aportes de los estudiantes\",3:\"Parcialmente, se hace sólo un listado de términos claves, con la ayuda de los estudiantes\",4:\"Parcialmente, el docente presenta una memoria colectiva previamente hecha sin apoyo de los estudiantes\",5:\"No, no se hace uso de esta estrategia\"}\n",
    "\n",
    "renombrar['¿Se promueven los procesos de metacognición y reflexión?'] = {1:\"Sí, se pide a los estudiantes que reflexionen sobre lo aprendido y auto evalúen su alcance parcial o total de los objetivos\",2:\"Parcialmente, se hacen preguntas conceptuales, pero no se hacen preguntas para promover la reflexión ni la metacognición\",3:\"No se hace ningún tipo de preguntas ni de reflexión al cierre\"}"
   ],
   "metadata": {
    "collapsed": false,
    "pycharm": {
     "name": "#%%\n"
    }
   }
  },
  {
   "cell_type": "code",
   "execution_count": null,
   "outputs": [],
   "source": [
    "renombrar"
   ],
   "metadata": {
    "collapsed": false,
    "pycharm": {
     "name": "#%%\n"
    }
   }
  },
  {
   "cell_type": "code",
   "execution_count": null,
   "outputs": [],
   "source": [
    "obs_r = obs.rename(columns=renombrar_columnas)\n",
    "obs_r = obs_r.replace(renombrar)\n",
    "obs_r = obs_r.replace(\"NOO\",\"NO\")\n",
    "obs_r = obs_r.replace(\"--\",\"0\")\n",
    "obs_r"
   ],
   "metadata": {
    "collapsed": false,
    "pycharm": {
     "name": "#%%\n"
    }
   }
  },
  {
   "cell_type": "code",
   "execution_count": null,
   "outputs": [],
   "source": [
    "obs_r = obs_r[~obs_r['Usuario'].isin(['cristianavella','lorenamolina'])]\n",
    "obs_r = obs_r[obs_r['Nombre del observador(a)'].str.len()>6]\n",
    "obs_r = obs_r[~obs_r['Número de cédula del docente'].isna()]\n",
    "obs_r = obs_r[obs_r['Número de cédula del docente'] > 10000000]\n",
    "obs_r = obs_r[~obs_r['Nombre de docente'].isin([\"PEPITO PEREZ\"])]\n",
    "obs_r = obs_r.filter(regex=\"^(?!.*x_).\")\n",
    "obs_r"
   ],
   "metadata": {
    "collapsed": false,
    "pycharm": {
     "name": "#%%\n"
    }
   }
  },
  {
   "cell_type": "code",
   "execution_count": 34,
   "outputs": [
    {
     "ename": "NameError",
     "evalue": "name 'obs_r' is not defined",
     "output_type": "error",
     "traceback": [
      "\u001B[1;31m---------------------------------------------------------------------------\u001B[0m",
      "\u001B[1;31mNameError\u001B[0m                                 Traceback (most recent call last)",
      "Input \u001B[1;32mIn [34]\u001B[0m, in \u001B[0;36m<cell line: 1>\u001B[1;34m()\u001B[0m\n\u001B[1;32m----> 1\u001B[0m \u001B[43mobs_r\u001B[49m\u001B[38;5;241m.\u001B[39mto_excel(\u001B[38;5;124m\"\u001B[39m\u001B[38;5;124mObservaciones_1306.xlsx\u001B[39m\u001B[38;5;124m\"\u001B[39m)\n",
      "\u001B[1;31mNameError\u001B[0m: name 'obs_r' is not defined"
     ]
    }
   ],
   "source": [
    "obs_r.to_excel(\"Observaciones_1306.xlsx\")"
   ],
   "metadata": {
    "collapsed": false,
    "pycharm": {
     "name": "#%%\n"
    }
   }
  },
  {
   "cell_type": "code",
   "execution_count": 35,
   "outputs": [
    {
     "ename": "NameError",
     "evalue": "name 'obs_r' is not defined",
     "output_type": "error",
     "traceback": [
      "\u001B[1;31m---------------------------------------------------------------------------\u001B[0m",
      "\u001B[1;31mNameError\u001B[0m                                 Traceback (most recent call last)",
      "Input \u001B[1;32mIn [35]\u001B[0m, in \u001B[0;36m<cell line: 1>\u001B[1;34m()\u001B[0m\n\u001B[1;32m----> 1\u001B[0m \u001B[43mobs_r\u001B[49m[\u001B[38;5;124m'\u001B[39m\u001B[38;5;124mNombre del observador(a)\u001B[39m\u001B[38;5;124m'\u001B[39m]\u001B[38;5;241m.\u001B[39munique()\n",
      "\u001B[1;31mNameError\u001B[0m: name 'obs_r' is not defined"
     ]
    }
   ],
   "source": [
    "obs_r['Nombre del observador(a)'].unique()"
   ],
   "metadata": {
    "collapsed": false,
    "pycharm": {
     "name": "#%%\n"
    }
   }
  },
  {
   "cell_type": "markdown",
   "source": [
    "# Instantaneas"
   ],
   "metadata": {
    "collapsed": false,
    "pycharm": {
     "name": "#%% md\n"
    }
   }
  },
  {
   "cell_type": "code",
   "execution_count": 83,
   "outputs": [],
   "source": [
    "instantaneas = pd.read_excel(ruta_git/'data/raw/inst_1006.xlsx')"
   ],
   "metadata": {
    "collapsed": false,
    "pycharm": {
     "name": "#%%\n"
    }
   }
  },
  {
   "cell_type": "code",
   "execution_count": 85,
   "outputs": [
    {
     "data": {
      "text/plain": "Index(['id', 'inst_1', 'inst_2', 'inst_3', 'inst_4', 'inst_5', 'inst_6',\n       'inst_7', 'inst_8', 'inst_9', 'inst_10', 'inst_11', 'inst_12',\n       'inst_13', 'inst_14', 'inst_15', 'inst_16', 'inst_17', 'inst_18',\n       'inst_19', 'inst_20', 'inst_21', 'inst_22', 'IdEncuesta', 'Usuario',\n       'Fecha'],\n      dtype='object')"
     },
     "execution_count": 85,
     "metadata": {},
     "output_type": "execute_result"
    }
   ],
   "source": [
    "instantaneas.columns"
   ],
   "metadata": {
    "collapsed": false,
    "pycharm": {
     "name": "#%%\n"
    }
   }
  },
  {
   "cell_type": "code",
   "execution_count": null,
   "outputs": [],
   "source": [],
   "metadata": {
    "collapsed": false,
    "pycharm": {
     "name": "#%%\n"
    }
   }
  },
  {
   "cell_type": "code",
   "execution_count": null,
   "outputs": [],
   "source": [
    "inst_cols = ['id', 'inst_1', 'inst_2', 'inst_3', 'inst_4', 'inst_5', 'inst_6',\n",
    "       'inst_7', 'inst_8', 'inst_9', 'inst_10', 'inst_11', 'inst_12',\n",
    "       'inst_13', 'inst_14', 'inst_15', 'inst_16', 'inst_17', 'inst_18',\n",
    "       'inst_19', 'inst_20', 'inst_21', 'inst_22', 'IdEncuesta', 'Usuario',\n",
    "       'Fecha']"
   ],
   "metadata": {
    "collapsed": false,
    "pycharm": {
     "name": "#%%\n"
    }
   }
  },
  {
   "cell_type": "markdown",
   "source": [
    "## Gráfica Jose"
   ],
   "metadata": {
    "collapsed": false,
    "pycharm": {
     "name": "#%% md\n"
    }
   }
  },
  {
   "cell_type": "code",
   "execution_count": 8,
   "outputs": [
    {
     "data": {
      "text/plain": "            Ficha   Presenta Ob Conocimientos previos Conceptos claves  \\\n0         Ficha 1            Si                    Si               Si   \n1   Sin respuesta            Si                    Si               Si   \n2         Ficha 3            Si                    Si               Si   \n3         Ficha 1            Si                    Si               Si   \n4         Ficha 2            Si                    Si               Si   \n5   Sin respuesta            Si                    Si               Si   \n6   Sin respuesta            No                    No     Parcialmente   \n7         Ficha 2            Si                    Si               Si   \n8         Ficha 1            Si                    Si               Si   \n9         Ficha 2            Si                    Si               Si   \n10        Ficha 1            Si                    Si     Parcialmente   \n11        Ficha 1            No                    No     Parcialmente   \n12        Ficha 2            Si                    Si               Si   \n13        Ficha 2  Parcialmente                    Si               Si   \n14        Ficha 2            Si                    Si               Si   \n15        Ficha 1            Si                    Si               Si   \n16        Ficha 2            Si                    No               No   \n17        Ficha 3            No                    No     Parcialmente   \n18        Ficha 4            No                    No               No   \n19  Sin respuesta            Si          Parcialmente     Parcialmente   \n\n   Preparación de material Gestión de materiales Comparte solución  \\\n0                       Si                    Si                Si   \n1                       Si                    Si                No   \n2                       Si                    Si                Si   \n3                       Si                    Si                Si   \n4                       Si                    Si                No   \n5                       Si                    Si                Si   \n6                       Si                    Si                No   \n7                       Si                    Si                Si   \n8                       Si                    Si      Parcialmente   \n9                       Si                    Si                No   \n10                      Si                    Si                No   \n11                      Si                    Si                No   \n12                      Si                    Si                Si   \n13            Parcialmente                    No                Si   \n14                      Si                    Si      Parcialmente   \n15                      Si                    Si      Parcialmente   \n16                      Si                    Si                No   \n17                      No                    No                No   \n18                      Si                    Si                No   \n19                      Si                    Si                No   \n\n   Cierre formal Lenguaje técnico Conexión vida diaria Metacognición  \n0   Parcialmente               Si         Parcialmente            Si  \n1   Parcialmente     Parcialmente                   No  Parcialmente  \n2             No               Si                   Si            Si  \n3   Parcialmente     Parcialmente         Parcialmente            No  \n4             No               Si                   No  Parcialmente  \n5             Si     Parcialmente                   Si            Si  \n6             No     Parcialmente                   No            No  \n7   Parcialmente               Si                   Si  Parcialmente  \n8   Parcialmente               Si         Parcialmente            No  \n9             No               Si                   Si            Si  \n10            No               Si                   Si            No  \n11            No               Si                   No  Parcialmente  \n12            No               Si                   Si            No  \n13            No               Si                   Si  Parcialmente  \n14            Si     Parcialmente                   Si            Si  \n15            No     Parcialmente         Parcialmente            No  \n16            No               Si                   No            No  \n17  Parcialmente     Parcialmente                   No            No  \n18            No               Si                   No            No  \n19            No               Si         Parcialmente  Parcialmente  ",
      "text/html": "<div>\n<style scoped>\n    .dataframe tbody tr th:only-of-type {\n        vertical-align: middle;\n    }\n\n    .dataframe tbody tr th {\n        vertical-align: top;\n    }\n\n    .dataframe thead th {\n        text-align: right;\n    }\n</style>\n<table border=\"1\" class=\"dataframe\">\n  <thead>\n    <tr style=\"text-align: right;\">\n      <th></th>\n      <th>Ficha</th>\n      <th>Presenta Ob</th>\n      <th>Conocimientos previos</th>\n      <th>Conceptos claves</th>\n      <th>Preparación de material</th>\n      <th>Gestión de materiales</th>\n      <th>Comparte solución</th>\n      <th>Cierre formal</th>\n      <th>Lenguaje técnico</th>\n      <th>Conexión vida diaria</th>\n      <th>Metacognición</th>\n    </tr>\n  </thead>\n  <tbody>\n    <tr>\n      <th>0</th>\n      <td>Ficha 1</td>\n      <td>Si</td>\n      <td>Si</td>\n      <td>Si</td>\n      <td>Si</td>\n      <td>Si</td>\n      <td>Si</td>\n      <td>Parcialmente</td>\n      <td>Si</td>\n      <td>Parcialmente</td>\n      <td>Si</td>\n    </tr>\n    <tr>\n      <th>1</th>\n      <td>Sin respuesta</td>\n      <td>Si</td>\n      <td>Si</td>\n      <td>Si</td>\n      <td>Si</td>\n      <td>Si</td>\n      <td>No</td>\n      <td>Parcialmente</td>\n      <td>Parcialmente</td>\n      <td>No</td>\n      <td>Parcialmente</td>\n    </tr>\n    <tr>\n      <th>2</th>\n      <td>Ficha 3</td>\n      <td>Si</td>\n      <td>Si</td>\n      <td>Si</td>\n      <td>Si</td>\n      <td>Si</td>\n      <td>Si</td>\n      <td>No</td>\n      <td>Si</td>\n      <td>Si</td>\n      <td>Si</td>\n    </tr>\n    <tr>\n      <th>3</th>\n      <td>Ficha 1</td>\n      <td>Si</td>\n      <td>Si</td>\n      <td>Si</td>\n      <td>Si</td>\n      <td>Si</td>\n      <td>Si</td>\n      <td>Parcialmente</td>\n      <td>Parcialmente</td>\n      <td>Parcialmente</td>\n      <td>No</td>\n    </tr>\n    <tr>\n      <th>4</th>\n      <td>Ficha 2</td>\n      <td>Si</td>\n      <td>Si</td>\n      <td>Si</td>\n      <td>Si</td>\n      <td>Si</td>\n      <td>No</td>\n      <td>No</td>\n      <td>Si</td>\n      <td>No</td>\n      <td>Parcialmente</td>\n    </tr>\n    <tr>\n      <th>5</th>\n      <td>Sin respuesta</td>\n      <td>Si</td>\n      <td>Si</td>\n      <td>Si</td>\n      <td>Si</td>\n      <td>Si</td>\n      <td>Si</td>\n      <td>Si</td>\n      <td>Parcialmente</td>\n      <td>Si</td>\n      <td>Si</td>\n    </tr>\n    <tr>\n      <th>6</th>\n      <td>Sin respuesta</td>\n      <td>No</td>\n      <td>No</td>\n      <td>Parcialmente</td>\n      <td>Si</td>\n      <td>Si</td>\n      <td>No</td>\n      <td>No</td>\n      <td>Parcialmente</td>\n      <td>No</td>\n      <td>No</td>\n    </tr>\n    <tr>\n      <th>7</th>\n      <td>Ficha 2</td>\n      <td>Si</td>\n      <td>Si</td>\n      <td>Si</td>\n      <td>Si</td>\n      <td>Si</td>\n      <td>Si</td>\n      <td>Parcialmente</td>\n      <td>Si</td>\n      <td>Si</td>\n      <td>Parcialmente</td>\n    </tr>\n    <tr>\n      <th>8</th>\n      <td>Ficha 1</td>\n      <td>Si</td>\n      <td>Si</td>\n      <td>Si</td>\n      <td>Si</td>\n      <td>Si</td>\n      <td>Parcialmente</td>\n      <td>Parcialmente</td>\n      <td>Si</td>\n      <td>Parcialmente</td>\n      <td>No</td>\n    </tr>\n    <tr>\n      <th>9</th>\n      <td>Ficha 2</td>\n      <td>Si</td>\n      <td>Si</td>\n      <td>Si</td>\n      <td>Si</td>\n      <td>Si</td>\n      <td>No</td>\n      <td>No</td>\n      <td>Si</td>\n      <td>Si</td>\n      <td>Si</td>\n    </tr>\n    <tr>\n      <th>10</th>\n      <td>Ficha 1</td>\n      <td>Si</td>\n      <td>Si</td>\n      <td>Parcialmente</td>\n      <td>Si</td>\n      <td>Si</td>\n      <td>No</td>\n      <td>No</td>\n      <td>Si</td>\n      <td>Si</td>\n      <td>No</td>\n    </tr>\n    <tr>\n      <th>11</th>\n      <td>Ficha 1</td>\n      <td>No</td>\n      <td>No</td>\n      <td>Parcialmente</td>\n      <td>Si</td>\n      <td>Si</td>\n      <td>No</td>\n      <td>No</td>\n      <td>Si</td>\n      <td>No</td>\n      <td>Parcialmente</td>\n    </tr>\n    <tr>\n      <th>12</th>\n      <td>Ficha 2</td>\n      <td>Si</td>\n      <td>Si</td>\n      <td>Si</td>\n      <td>Si</td>\n      <td>Si</td>\n      <td>Si</td>\n      <td>No</td>\n      <td>Si</td>\n      <td>Si</td>\n      <td>No</td>\n    </tr>\n    <tr>\n      <th>13</th>\n      <td>Ficha 2</td>\n      <td>Parcialmente</td>\n      <td>Si</td>\n      <td>Si</td>\n      <td>Parcialmente</td>\n      <td>No</td>\n      <td>Si</td>\n      <td>No</td>\n      <td>Si</td>\n      <td>Si</td>\n      <td>Parcialmente</td>\n    </tr>\n    <tr>\n      <th>14</th>\n      <td>Ficha 2</td>\n      <td>Si</td>\n      <td>Si</td>\n      <td>Si</td>\n      <td>Si</td>\n      <td>Si</td>\n      <td>Parcialmente</td>\n      <td>Si</td>\n      <td>Parcialmente</td>\n      <td>Si</td>\n      <td>Si</td>\n    </tr>\n    <tr>\n      <th>15</th>\n      <td>Ficha 1</td>\n      <td>Si</td>\n      <td>Si</td>\n      <td>Si</td>\n      <td>Si</td>\n      <td>Si</td>\n      <td>Parcialmente</td>\n      <td>No</td>\n      <td>Parcialmente</td>\n      <td>Parcialmente</td>\n      <td>No</td>\n    </tr>\n    <tr>\n      <th>16</th>\n      <td>Ficha 2</td>\n      <td>Si</td>\n      <td>No</td>\n      <td>No</td>\n      <td>Si</td>\n      <td>Si</td>\n      <td>No</td>\n      <td>No</td>\n      <td>Si</td>\n      <td>No</td>\n      <td>No</td>\n    </tr>\n    <tr>\n      <th>17</th>\n      <td>Ficha 3</td>\n      <td>No</td>\n      <td>No</td>\n      <td>Parcialmente</td>\n      <td>No</td>\n      <td>No</td>\n      <td>No</td>\n      <td>Parcialmente</td>\n      <td>Parcialmente</td>\n      <td>No</td>\n      <td>No</td>\n    </tr>\n    <tr>\n      <th>18</th>\n      <td>Ficha 4</td>\n      <td>No</td>\n      <td>No</td>\n      <td>No</td>\n      <td>Si</td>\n      <td>Si</td>\n      <td>No</td>\n      <td>No</td>\n      <td>Si</td>\n      <td>No</td>\n      <td>No</td>\n    </tr>\n    <tr>\n      <th>19</th>\n      <td>Sin respuesta</td>\n      <td>Si</td>\n      <td>Parcialmente</td>\n      <td>Parcialmente</td>\n      <td>Si</td>\n      <td>Si</td>\n      <td>No</td>\n      <td>No</td>\n      <td>Si</td>\n      <td>Parcialmente</td>\n      <td>Parcialmente</td>\n    </tr>\n  </tbody>\n</table>\n</div>"
     },
     "execution_count": 8,
     "metadata": {},
     "output_type": "execute_result"
    }
   ],
   "source": [
    "datos = pd.read_excel('grafica1.xlsx', sheet_name='grafica')\n",
    "datos"
   ],
   "metadata": {
    "collapsed": false,
    "pycharm": {
     "name": "#%%\n"
    }
   }
  },
  {
   "cell_type": "code",
   "execution_count": 9,
   "outputs": [
    {
     "data": {
      "text/plain": "Index(['Ficha', 'Presenta Ob', 'Conocimientos previos', 'Conceptos claves',\n       'Preparación de material', 'Gestión de materiales', 'Comparte solución',\n       'Cierre formal', 'Lenguaje técnico', 'Conexión vida diaria',\n       'Metacognición'],\n      dtype='object')"
     },
     "execution_count": 9,
     "metadata": {},
     "output_type": "execute_result"
    }
   ],
   "source": [
    "datos.columns"
   ],
   "metadata": {
    "collapsed": false,
    "pycharm": {
     "name": "#%%\n"
    }
   }
  },
  {
   "cell_type": "code",
   "execution_count": 10,
   "outputs": [],
   "source": [
    "dat = datos.melt(id_vars='Ficha', value_name='Implementación', var_name='Concepto')\n",
    "dat = dat.reset_index()"
   ],
   "metadata": {
    "collapsed": false,
    "pycharm": {
     "name": "#%%\n"
    }
   }
  },
  {
   "cell_type": "code",
   "execution_count": 11,
   "outputs": [],
   "source": [
    "datp = dat.pivot_table(index=['Ficha','Concepto', 'Implementación'], values='index', aggfunc='count').reset_index()\n",
    "total = dat.pivot_table(index=['Ficha','Concepto'], values='index', aggfunc='count').reset_index().rename(columns={'index':'Total'})\n",
    "\n",
    "datp = datp.merge(total)\n",
    "datp['Frecuencia'] = datp['index']/datp['Total']\n",
    "datp.to_feather('graficajose.feather')"
   ],
   "metadata": {
    "collapsed": false,
    "pycharm": {
     "name": "#%%\n"
    }
   }
  },
  {
   "cell_type": "code",
   "execution_count": 15,
   "outputs": [
    {
     "data": {
      "text/plain": "['Ficha 1', 'Ficha 2', 'Ficha 3', 'Ficha 4', 'Sin respuesta']"
     },
     "execution_count": 15,
     "metadata": {},
     "output_type": "execute_result"
    }
   ],
   "source": [
    "list(datp.Ficha.unique())"
   ],
   "metadata": {
    "collapsed": false,
    "pycharm": {
     "name": "#%%\n"
    }
   }
  },
  {
   "cell_type": "code",
   "execution_count": 12,
   "outputs": [
    {
     "data": {
      "application/vnd.plotly.v1+json": {
       "data": [
        {
         "alignmentgroup": "True",
         "hovertemplate": "Implementación=Si<br>Ficha=Ficha 1<br>Concepto=%{x}<br>Frecuencia=%{y}<extra></extra>",
         "legendgroup": "Si",
         "marker": {
          "color": "rgb(102, 197, 204)",
          "pattern": {
           "shape": ""
          }
         },
         "name": "Si",
         "offsetgroup": "Si",
         "orientation": "v",
         "showlegend": true,
         "textposition": "auto",
         "x": [
          "Comparte solución",
          "Conceptos claves",
          "Conexión vida diaria",
          "Conocimientos previos",
          "Gestión de materiales",
          "Lenguaje técnico",
          "Metacognición",
          "Preparación de material",
          "Presenta Ob"
         ],
         "xaxis": "x",
         "y": [
          0.3333333333333333,
          0.6666666666666666,
          0.16666666666666666,
          0.8333333333333334,
          1.0,
          0.6666666666666666,
          0.16666666666666666,
          1.0,
          0.8333333333333334
         ],
         "yaxis": "y",
         "type": "bar"
        },
        {
         "alignmentgroup": "True",
         "hovertemplate": "Implementación=Si<br>Ficha=Ficha 2<br>Concepto=%{x}<br>Frecuencia=%{y}<extra></extra>",
         "legendgroup": "Si",
         "marker": {
          "color": "rgb(102, 197, 204)",
          "pattern": {
           "shape": ""
          }
         },
         "name": "Si",
         "offsetgroup": "Si",
         "orientation": "v",
         "showlegend": false,
         "textposition": "auto",
         "x": [
          "Cierre formal",
          "Comparte solución",
          "Conceptos claves",
          "Conexión vida diaria",
          "Conocimientos previos",
          "Gestión de materiales",
          "Lenguaje técnico",
          "Metacognición",
          "Preparación de material",
          "Presenta Ob"
         ],
         "xaxis": "x2",
         "y": [
          0.14285714285714285,
          0.42857142857142855,
          0.8571428571428571,
          0.7142857142857143,
          0.8571428571428571,
          0.8571428571428571,
          0.8571428571428571,
          0.2857142857142857,
          0.8571428571428571,
          0.8571428571428571
         ],
         "yaxis": "y2",
         "type": "bar"
        },
        {
         "alignmentgroup": "True",
         "hovertemplate": "Implementación=Si<br>Ficha=Ficha 3<br>Concepto=%{x}<br>Frecuencia=%{y}<extra></extra>",
         "legendgroup": "Si",
         "marker": {
          "color": "rgb(102, 197, 204)",
          "pattern": {
           "shape": ""
          }
         },
         "name": "Si",
         "offsetgroup": "Si",
         "orientation": "v",
         "showlegend": false,
         "textposition": "auto",
         "x": [
          "Comparte solución",
          "Conceptos claves",
          "Conexión vida diaria",
          "Conocimientos previos",
          "Gestión de materiales",
          "Lenguaje técnico",
          "Metacognición",
          "Preparación de material",
          "Presenta Ob"
         ],
         "xaxis": "x3",
         "y": [
          0.5,
          0.5,
          0.5,
          0.5,
          0.5,
          0.5,
          0.5,
          0.5,
          0.5
         ],
         "yaxis": "y3",
         "type": "bar"
        },
        {
         "alignmentgroup": "True",
         "hovertemplate": "Implementación=Si<br>Ficha=Ficha 4<br>Concepto=%{x}<br>Frecuencia=%{y}<extra></extra>",
         "legendgroup": "Si",
         "marker": {
          "color": "rgb(102, 197, 204)",
          "pattern": {
           "shape": ""
          }
         },
         "name": "Si",
         "offsetgroup": "Si",
         "orientation": "v",
         "showlegend": false,
         "textposition": "auto",
         "x": [
          "Gestión de materiales",
          "Lenguaje técnico",
          "Preparación de material"
         ],
         "xaxis": "x4",
         "y": [
          1.0,
          1.0,
          1.0
         ],
         "yaxis": "y4",
         "type": "bar"
        },
        {
         "alignmentgroup": "True",
         "hovertemplate": "Implementación=Si<br>Ficha=Sin respuesta<br>Concepto=%{x}<br>Frecuencia=%{y}<extra></extra>",
         "legendgroup": "Si",
         "marker": {
          "color": "rgb(102, 197, 204)",
          "pattern": {
           "shape": ""
          }
         },
         "name": "Si",
         "offsetgroup": "Si",
         "orientation": "v",
         "showlegend": false,
         "textposition": "auto",
         "x": [
          "Cierre formal",
          "Comparte solución",
          "Conceptos claves",
          "Conexión vida diaria",
          "Conocimientos previos",
          "Gestión de materiales",
          "Lenguaje técnico",
          "Metacognición",
          "Preparación de material",
          "Presenta Ob"
         ],
         "xaxis": "x5",
         "y": [
          0.25,
          0.25,
          0.5,
          0.25,
          0.5,
          1.0,
          0.25,
          0.25,
          1.0,
          0.75
         ],
         "yaxis": "y5",
         "type": "bar"
        },
        {
         "alignmentgroup": "True",
         "hovertemplate": "Implementación=Parcialmente<br>Ficha=Ficha 1<br>Concepto=%{x}<br>Frecuencia=%{y}<extra></extra>",
         "legendgroup": "Parcialmente",
         "marker": {
          "color": "rgb(246, 207, 113)",
          "pattern": {
           "shape": ""
          }
         },
         "name": "Parcialmente",
         "offsetgroup": "Parcialmente",
         "orientation": "v",
         "showlegend": true,
         "textposition": "auto",
         "x": [
          "Cierre formal",
          "Comparte solución",
          "Conceptos claves",
          "Conexión vida diaria",
          "Lenguaje técnico",
          "Metacognición"
         ],
         "xaxis": "x",
         "y": [
          0.5,
          0.3333333333333333,
          0.3333333333333333,
          0.6666666666666666,
          0.3333333333333333,
          0.16666666666666666
         ],
         "yaxis": "y",
         "type": "bar"
        },
        {
         "alignmentgroup": "True",
         "hovertemplate": "Implementación=Parcialmente<br>Ficha=Ficha 2<br>Concepto=%{x}<br>Frecuencia=%{y}<extra></extra>",
         "legendgroup": "Parcialmente",
         "marker": {
          "color": "rgb(246, 207, 113)",
          "pattern": {
           "shape": ""
          }
         },
         "name": "Parcialmente",
         "offsetgroup": "Parcialmente",
         "orientation": "v",
         "showlegend": false,
         "textposition": "auto",
         "x": [
          "Cierre formal",
          "Comparte solución",
          "Lenguaje técnico",
          "Metacognición",
          "Preparación de material",
          "Presenta Ob"
         ],
         "xaxis": "x2",
         "y": [
          0.14285714285714285,
          0.14285714285714285,
          0.14285714285714285,
          0.42857142857142855,
          0.14285714285714285,
          0.14285714285714285
         ],
         "yaxis": "y2",
         "type": "bar"
        },
        {
         "alignmentgroup": "True",
         "hovertemplate": "Implementación=Parcialmente<br>Ficha=Ficha 3<br>Concepto=%{x}<br>Frecuencia=%{y}<extra></extra>",
         "legendgroup": "Parcialmente",
         "marker": {
          "color": "rgb(246, 207, 113)",
          "pattern": {
           "shape": ""
          }
         },
         "name": "Parcialmente",
         "offsetgroup": "Parcialmente",
         "orientation": "v",
         "showlegend": false,
         "textposition": "auto",
         "x": [
          "Cierre formal",
          "Conceptos claves",
          "Lenguaje técnico"
         ],
         "xaxis": "x3",
         "y": [
          0.5,
          0.5,
          0.5
         ],
         "yaxis": "y3",
         "type": "bar"
        },
        {
         "alignmentgroup": "True",
         "hovertemplate": "Implementación=Parcialmente<br>Ficha=Sin respuesta<br>Concepto=%{x}<br>Frecuencia=%{y}<extra></extra>",
         "legendgroup": "Parcialmente",
         "marker": {
          "color": "rgb(246, 207, 113)",
          "pattern": {
           "shape": ""
          }
         },
         "name": "Parcialmente",
         "offsetgroup": "Parcialmente",
         "orientation": "v",
         "showlegend": false,
         "textposition": "auto",
         "x": [
          "Cierre formal",
          "Conceptos claves",
          "Conexión vida diaria",
          "Conocimientos previos",
          "Lenguaje técnico",
          "Metacognición"
         ],
         "xaxis": "x5",
         "y": [
          0.25,
          0.5,
          0.25,
          0.25,
          0.75,
          0.5
         ],
         "yaxis": "y5",
         "type": "bar"
        },
        {
         "alignmentgroup": "True",
         "hovertemplate": "Implementación=No<br>Ficha=Ficha 1<br>Concepto=%{x}<br>Frecuencia=%{y}<extra></extra>",
         "legendgroup": "No",
         "marker": {
          "color": "rgb(248, 156, 116)",
          "pattern": {
           "shape": ""
          }
         },
         "name": "No",
         "offsetgroup": "No",
         "orientation": "v",
         "showlegend": true,
         "textposition": "auto",
         "x": [
          "Cierre formal",
          "Comparte solución",
          "Conexión vida diaria",
          "Conocimientos previos",
          "Metacognición",
          "Presenta Ob"
         ],
         "xaxis": "x",
         "y": [
          0.5,
          0.3333333333333333,
          0.16666666666666666,
          0.16666666666666666,
          0.6666666666666666,
          0.16666666666666666
         ],
         "yaxis": "y",
         "type": "bar"
        },
        {
         "alignmentgroup": "True",
         "hovertemplate": "Implementación=No<br>Ficha=Ficha 2<br>Concepto=%{x}<br>Frecuencia=%{y}<extra></extra>",
         "legendgroup": "No",
         "marker": {
          "color": "rgb(248, 156, 116)",
          "pattern": {
           "shape": ""
          }
         },
         "name": "No",
         "offsetgroup": "No",
         "orientation": "v",
         "showlegend": false,
         "textposition": "auto",
         "x": [
          "Cierre formal",
          "Comparte solución",
          "Conceptos claves",
          "Conexión vida diaria",
          "Conocimientos previos",
          "Gestión de materiales",
          "Metacognición"
         ],
         "xaxis": "x2",
         "y": [
          0.7142857142857143,
          0.42857142857142855,
          0.14285714285714285,
          0.2857142857142857,
          0.14285714285714285,
          0.14285714285714285,
          0.2857142857142857
         ],
         "yaxis": "y2",
         "type": "bar"
        },
        {
         "alignmentgroup": "True",
         "hovertemplate": "Implementación=No<br>Ficha=Ficha 3<br>Concepto=%{x}<br>Frecuencia=%{y}<extra></extra>",
         "legendgroup": "No",
         "marker": {
          "color": "rgb(248, 156, 116)",
          "pattern": {
           "shape": ""
          }
         },
         "name": "No",
         "offsetgroup": "No",
         "orientation": "v",
         "showlegend": false,
         "textposition": "auto",
         "x": [
          "Cierre formal",
          "Comparte solución",
          "Conexión vida diaria",
          "Conocimientos previos",
          "Gestión de materiales",
          "Metacognición",
          "Preparación de material",
          "Presenta Ob"
         ],
         "xaxis": "x3",
         "y": [
          0.5,
          0.5,
          0.5,
          0.5,
          0.5,
          0.5,
          0.5,
          0.5
         ],
         "yaxis": "y3",
         "type": "bar"
        },
        {
         "alignmentgroup": "True",
         "hovertemplate": "Implementación=No<br>Ficha=Ficha 4<br>Concepto=%{x}<br>Frecuencia=%{y}<extra></extra>",
         "legendgroup": "No",
         "marker": {
          "color": "rgb(248, 156, 116)",
          "pattern": {
           "shape": ""
          }
         },
         "name": "No",
         "offsetgroup": "No",
         "orientation": "v",
         "showlegend": false,
         "textposition": "auto",
         "x": [
          "Cierre formal",
          "Comparte solución",
          "Conceptos claves",
          "Conexión vida diaria",
          "Conocimientos previos",
          "Metacognición",
          "Presenta Ob"
         ],
         "xaxis": "x4",
         "y": [
          1.0,
          1.0,
          1.0,
          1.0,
          1.0,
          1.0,
          1.0
         ],
         "yaxis": "y4",
         "type": "bar"
        },
        {
         "alignmentgroup": "True",
         "hovertemplate": "Implementación=No<br>Ficha=Sin respuesta<br>Concepto=%{x}<br>Frecuencia=%{y}<extra></extra>",
         "legendgroup": "No",
         "marker": {
          "color": "rgb(248, 156, 116)",
          "pattern": {
           "shape": ""
          }
         },
         "name": "No",
         "offsetgroup": "No",
         "orientation": "v",
         "showlegend": false,
         "textposition": "auto",
         "x": [
          "Cierre formal",
          "Comparte solución",
          "Conexión vida diaria",
          "Conocimientos previos",
          "Metacognición",
          "Presenta Ob"
         ],
         "xaxis": "x5",
         "y": [
          0.5,
          0.75,
          0.5,
          0.25,
          0.25,
          0.25
         ],
         "yaxis": "y5",
         "type": "bar"
        }
       ],
       "layout": {
        "template": {
         "data": {
          "barpolar": [
           {
            "marker": {
             "line": {
              "color": "white",
              "width": 0.5
             },
             "pattern": {
              "fillmode": "overlay",
              "size": 10,
              "solidity": 0.2
             }
            },
            "type": "barpolar"
           }
          ],
          "bar": [
           {
            "error_x": {
             "color": "#2a3f5f"
            },
            "error_y": {
             "color": "#2a3f5f"
            },
            "marker": {
             "line": {
              "color": "white",
              "width": 0.5
             },
             "pattern": {
              "fillmode": "overlay",
              "size": 10,
              "solidity": 0.2
             }
            },
            "type": "bar"
           }
          ],
          "carpet": [
           {
            "aaxis": {
             "endlinecolor": "#2a3f5f",
             "gridcolor": "#C8D4E3",
             "linecolor": "#C8D4E3",
             "minorgridcolor": "#C8D4E3",
             "startlinecolor": "#2a3f5f"
            },
            "baxis": {
             "endlinecolor": "#2a3f5f",
             "gridcolor": "#C8D4E3",
             "linecolor": "#C8D4E3",
             "minorgridcolor": "#C8D4E3",
             "startlinecolor": "#2a3f5f"
            },
            "type": "carpet"
           }
          ],
          "choropleth": [
           {
            "colorbar": {
             "outlinewidth": 0,
             "ticks": ""
            },
            "type": "choropleth"
           }
          ],
          "contourcarpet": [
           {
            "colorbar": {
             "outlinewidth": 0,
             "ticks": ""
            },
            "type": "contourcarpet"
           }
          ],
          "contour": [
           {
            "colorbar": {
             "outlinewidth": 0,
             "ticks": ""
            },
            "colorscale": [
             [
              0.0,
              "#0d0887"
             ],
             [
              0.1111111111111111,
              "#46039f"
             ],
             [
              0.2222222222222222,
              "#7201a8"
             ],
             [
              0.3333333333333333,
              "#9c179e"
             ],
             [
              0.4444444444444444,
              "#bd3786"
             ],
             [
              0.5555555555555556,
              "#d8576b"
             ],
             [
              0.6666666666666666,
              "#ed7953"
             ],
             [
              0.7777777777777778,
              "#fb9f3a"
             ],
             [
              0.8888888888888888,
              "#fdca26"
             ],
             [
              1.0,
              "#f0f921"
             ]
            ],
            "type": "contour"
           }
          ],
          "heatmapgl": [
           {
            "colorbar": {
             "outlinewidth": 0,
             "ticks": ""
            },
            "colorscale": [
             [
              0.0,
              "#0d0887"
             ],
             [
              0.1111111111111111,
              "#46039f"
             ],
             [
              0.2222222222222222,
              "#7201a8"
             ],
             [
              0.3333333333333333,
              "#9c179e"
             ],
             [
              0.4444444444444444,
              "#bd3786"
             ],
             [
              0.5555555555555556,
              "#d8576b"
             ],
             [
              0.6666666666666666,
              "#ed7953"
             ],
             [
              0.7777777777777778,
              "#fb9f3a"
             ],
             [
              0.8888888888888888,
              "#fdca26"
             ],
             [
              1.0,
              "#f0f921"
             ]
            ],
            "type": "heatmapgl"
           }
          ],
          "heatmap": [
           {
            "colorbar": {
             "outlinewidth": 0,
             "ticks": ""
            },
            "colorscale": [
             [
              0.0,
              "#0d0887"
             ],
             [
              0.1111111111111111,
              "#46039f"
             ],
             [
              0.2222222222222222,
              "#7201a8"
             ],
             [
              0.3333333333333333,
              "#9c179e"
             ],
             [
              0.4444444444444444,
              "#bd3786"
             ],
             [
              0.5555555555555556,
              "#d8576b"
             ],
             [
              0.6666666666666666,
              "#ed7953"
             ],
             [
              0.7777777777777778,
              "#fb9f3a"
             ],
             [
              0.8888888888888888,
              "#fdca26"
             ],
             [
              1.0,
              "#f0f921"
             ]
            ],
            "type": "heatmap"
           }
          ],
          "histogram2dcontour": [
           {
            "colorbar": {
             "outlinewidth": 0,
             "ticks": ""
            },
            "colorscale": [
             [
              0.0,
              "#0d0887"
             ],
             [
              0.1111111111111111,
              "#46039f"
             ],
             [
              0.2222222222222222,
              "#7201a8"
             ],
             [
              0.3333333333333333,
              "#9c179e"
             ],
             [
              0.4444444444444444,
              "#bd3786"
             ],
             [
              0.5555555555555556,
              "#d8576b"
             ],
             [
              0.6666666666666666,
              "#ed7953"
             ],
             [
              0.7777777777777778,
              "#fb9f3a"
             ],
             [
              0.8888888888888888,
              "#fdca26"
             ],
             [
              1.0,
              "#f0f921"
             ]
            ],
            "type": "histogram2dcontour"
           }
          ],
          "histogram2d": [
           {
            "colorbar": {
             "outlinewidth": 0,
             "ticks": ""
            },
            "colorscale": [
             [
              0.0,
              "#0d0887"
             ],
             [
              0.1111111111111111,
              "#46039f"
             ],
             [
              0.2222222222222222,
              "#7201a8"
             ],
             [
              0.3333333333333333,
              "#9c179e"
             ],
             [
              0.4444444444444444,
              "#bd3786"
             ],
             [
              0.5555555555555556,
              "#d8576b"
             ],
             [
              0.6666666666666666,
              "#ed7953"
             ],
             [
              0.7777777777777778,
              "#fb9f3a"
             ],
             [
              0.8888888888888888,
              "#fdca26"
             ],
             [
              1.0,
              "#f0f921"
             ]
            ],
            "type": "histogram2d"
           }
          ],
          "histogram": [
           {
            "marker": {
             "pattern": {
              "fillmode": "overlay",
              "size": 10,
              "solidity": 0.2
             }
            },
            "type": "histogram"
           }
          ],
          "mesh3d": [
           {
            "colorbar": {
             "outlinewidth": 0,
             "ticks": ""
            },
            "type": "mesh3d"
           }
          ],
          "parcoords": [
           {
            "line": {
             "colorbar": {
              "outlinewidth": 0,
              "ticks": ""
             }
            },
            "type": "parcoords"
           }
          ],
          "pie": [
           {
            "automargin": true,
            "type": "pie"
           }
          ],
          "scatter3d": [
           {
            "line": {
             "colorbar": {
              "outlinewidth": 0,
              "ticks": ""
             }
            },
            "marker": {
             "colorbar": {
              "outlinewidth": 0,
              "ticks": ""
             }
            },
            "type": "scatter3d"
           }
          ],
          "scattercarpet": [
           {
            "marker": {
             "colorbar": {
              "outlinewidth": 0,
              "ticks": ""
             }
            },
            "type": "scattercarpet"
           }
          ],
          "scattergeo": [
           {
            "marker": {
             "colorbar": {
              "outlinewidth": 0,
              "ticks": ""
             }
            },
            "type": "scattergeo"
           }
          ],
          "scattergl": [
           {
            "marker": {
             "colorbar": {
              "outlinewidth": 0,
              "ticks": ""
             }
            },
            "type": "scattergl"
           }
          ],
          "scattermapbox": [
           {
            "marker": {
             "colorbar": {
              "outlinewidth": 0,
              "ticks": ""
             }
            },
            "type": "scattermapbox"
           }
          ],
          "scatterpolargl": [
           {
            "marker": {
             "colorbar": {
              "outlinewidth": 0,
              "ticks": ""
             }
            },
            "type": "scatterpolargl"
           }
          ],
          "scatterpolar": [
           {
            "marker": {
             "colorbar": {
              "outlinewidth": 0,
              "ticks": ""
             }
            },
            "type": "scatterpolar"
           }
          ],
          "scatter": [
           {
            "fillpattern": {
             "fillmode": "overlay",
             "size": 10,
             "solidity": 0.2
            },
            "type": "scatter"
           }
          ],
          "scatterternary": [
           {
            "marker": {
             "colorbar": {
              "outlinewidth": 0,
              "ticks": ""
             }
            },
            "type": "scatterternary"
           }
          ],
          "surface": [
           {
            "colorbar": {
             "outlinewidth": 0,
             "ticks": ""
            },
            "colorscale": [
             [
              0.0,
              "#0d0887"
             ],
             [
              0.1111111111111111,
              "#46039f"
             ],
             [
              0.2222222222222222,
              "#7201a8"
             ],
             [
              0.3333333333333333,
              "#9c179e"
             ],
             [
              0.4444444444444444,
              "#bd3786"
             ],
             [
              0.5555555555555556,
              "#d8576b"
             ],
             [
              0.6666666666666666,
              "#ed7953"
             ],
             [
              0.7777777777777778,
              "#fb9f3a"
             ],
             [
              0.8888888888888888,
              "#fdca26"
             ],
             [
              1.0,
              "#f0f921"
             ]
            ],
            "type": "surface"
           }
          ],
          "table": [
           {
            "cells": {
             "fill": {
              "color": "#EBF0F8"
             },
             "line": {
              "color": "white"
             }
            },
            "header": {
             "fill": {
              "color": "#C8D4E3"
             },
             "line": {
              "color": "white"
             }
            },
            "type": "table"
           }
          ]
         },
         "layout": {
          "annotationdefaults": {
           "arrowcolor": "#2a3f5f",
           "arrowhead": 0,
           "arrowwidth": 1
          },
          "autotypenumbers": "strict",
          "coloraxis": {
           "colorbar": {
            "outlinewidth": 0,
            "ticks": ""
           }
          },
          "colorscale": {
           "diverging": [
            [
             0,
             "#8e0152"
            ],
            [
             0.1,
             "#c51b7d"
            ],
            [
             0.2,
             "#de77ae"
            ],
            [
             0.3,
             "#f1b6da"
            ],
            [
             0.4,
             "#fde0ef"
            ],
            [
             0.5,
             "#f7f7f7"
            ],
            [
             0.6,
             "#e6f5d0"
            ],
            [
             0.7,
             "#b8e186"
            ],
            [
             0.8,
             "#7fbc41"
            ],
            [
             0.9,
             "#4d9221"
            ],
            [
             1,
             "#276419"
            ]
           ],
           "sequential": [
            [
             0.0,
             "#0d0887"
            ],
            [
             0.1111111111111111,
             "#46039f"
            ],
            [
             0.2222222222222222,
             "#7201a8"
            ],
            [
             0.3333333333333333,
             "#9c179e"
            ],
            [
             0.4444444444444444,
             "#bd3786"
            ],
            [
             0.5555555555555556,
             "#d8576b"
            ],
            [
             0.6666666666666666,
             "#ed7953"
            ],
            [
             0.7777777777777778,
             "#fb9f3a"
            ],
            [
             0.8888888888888888,
             "#fdca26"
            ],
            [
             1.0,
             "#f0f921"
            ]
           ],
           "sequentialminus": [
            [
             0.0,
             "#0d0887"
            ],
            [
             0.1111111111111111,
             "#46039f"
            ],
            [
             0.2222222222222222,
             "#7201a8"
            ],
            [
             0.3333333333333333,
             "#9c179e"
            ],
            [
             0.4444444444444444,
             "#bd3786"
            ],
            [
             0.5555555555555556,
             "#d8576b"
            ],
            [
             0.6666666666666666,
             "#ed7953"
            ],
            [
             0.7777777777777778,
             "#fb9f3a"
            ],
            [
             0.8888888888888888,
             "#fdca26"
            ],
            [
             1.0,
             "#f0f921"
            ]
           ]
          },
          "colorway": [
           "#636efa",
           "#EF553B",
           "#00cc96",
           "#ab63fa",
           "#FFA15A",
           "#19d3f3",
           "#FF6692",
           "#B6E880",
           "#FF97FF",
           "#FECB52"
          ],
          "font": {
           "color": "#2a3f5f"
          },
          "geo": {
           "bgcolor": "white",
           "lakecolor": "white",
           "landcolor": "white",
           "showlakes": true,
           "showland": true,
           "subunitcolor": "#C8D4E3"
          },
          "hoverlabel": {
           "align": "left"
          },
          "hovermode": "closest",
          "mapbox": {
           "style": "light"
          },
          "paper_bgcolor": "white",
          "plot_bgcolor": "white",
          "polar": {
           "angularaxis": {
            "gridcolor": "#EBF0F8",
            "linecolor": "#EBF0F8",
            "ticks": ""
           },
           "bgcolor": "white",
           "radialaxis": {
            "gridcolor": "#EBF0F8",
            "linecolor": "#EBF0F8",
            "ticks": ""
           }
          },
          "scene": {
           "xaxis": {
            "backgroundcolor": "white",
            "gridcolor": "#DFE8F3",
            "gridwidth": 2,
            "linecolor": "#EBF0F8",
            "showbackground": true,
            "ticks": "",
            "zerolinecolor": "#EBF0F8"
           },
           "yaxis": {
            "backgroundcolor": "white",
            "gridcolor": "#DFE8F3",
            "gridwidth": 2,
            "linecolor": "#EBF0F8",
            "showbackground": true,
            "ticks": "",
            "zerolinecolor": "#EBF0F8"
           },
           "zaxis": {
            "backgroundcolor": "white",
            "gridcolor": "#DFE8F3",
            "gridwidth": 2,
            "linecolor": "#EBF0F8",
            "showbackground": true,
            "ticks": "",
            "zerolinecolor": "#EBF0F8"
           }
          },
          "shapedefaults": {
           "line": {
            "color": "#2a3f5f"
           }
          },
          "ternary": {
           "aaxis": {
            "gridcolor": "#DFE8F3",
            "linecolor": "#A2B1C6",
            "ticks": ""
           },
           "baxis": {
            "gridcolor": "#DFE8F3",
            "linecolor": "#A2B1C6",
            "ticks": ""
           },
           "bgcolor": "white",
           "caxis": {
            "gridcolor": "#DFE8F3",
            "linecolor": "#A2B1C6",
            "ticks": ""
           }
          },
          "title": {
           "x": 0.05
          },
          "xaxis": {
           "automargin": true,
           "gridcolor": "#EBF0F8",
           "linecolor": "#EBF0F8",
           "ticks": "",
           "title": {
            "standoff": 15
           },
           "zerolinecolor": "#EBF0F8",
           "zerolinewidth": 2
          },
          "yaxis": {
           "automargin": true,
           "gridcolor": "#EBF0F8",
           "linecolor": "#EBF0F8",
           "ticks": "",
           "title": {
            "standoff": 15
           },
           "zerolinecolor": "#EBF0F8",
           "zerolinewidth": 2
          }
         }
        },
        "xaxis": {
         "anchor": "y",
         "domain": [
          0.0,
          0.18400000000000002
         ],
         "title": {
          "text": "Concepto"
         },
         "categoryorder": "array",
         "categoryarray": [
          "Presenta Ob",
          "Conocimientos previos",
          "Conceptos claves",
          "Preparación de material",
          "Gestión de materiales",
          "Comparte solución",
          "Cierre formal",
          "Lenguaje técnico",
          "Conexión vida diaria",
          "Metacognición"
         ]
        },
        "yaxis": {
         "anchor": "x",
         "domain": [
          0.0,
          1.0
         ],
         "title": {
          "text": "Frecuencia"
         }
        },
        "xaxis2": {
         "anchor": "y2",
         "domain": [
          0.20400000000000001,
          0.388
         ],
         "matches": "x",
         "title": {
          "text": "Concepto"
         },
         "categoryorder": "array",
         "categoryarray": [
          "Presenta Ob",
          "Conocimientos previos",
          "Conceptos claves",
          "Preparación de material",
          "Gestión de materiales",
          "Comparte solución",
          "Cierre formal",
          "Lenguaje técnico",
          "Conexión vida diaria",
          "Metacognición"
         ]
        },
        "yaxis2": {
         "anchor": "x2",
         "domain": [
          0.0,
          1.0
         ],
         "matches": "y",
         "showticklabels": false
        },
        "xaxis3": {
         "anchor": "y3",
         "domain": [
          0.40800000000000003,
          0.5920000000000001
         ],
         "matches": "x",
         "title": {
          "text": "Concepto"
         },
         "categoryorder": "array",
         "categoryarray": [
          "Presenta Ob",
          "Conocimientos previos",
          "Conceptos claves",
          "Preparación de material",
          "Gestión de materiales",
          "Comparte solución",
          "Cierre formal",
          "Lenguaje técnico",
          "Conexión vida diaria",
          "Metacognición"
         ]
        },
        "yaxis3": {
         "anchor": "x3",
         "domain": [
          0.0,
          1.0
         ],
         "matches": "y",
         "showticklabels": false
        },
        "xaxis4": {
         "anchor": "y4",
         "domain": [
          0.6120000000000001,
          0.7960000000000002
         ],
         "matches": "x",
         "title": {
          "text": "Concepto"
         },
         "categoryorder": "array",
         "categoryarray": [
          "Presenta Ob",
          "Conocimientos previos",
          "Conceptos claves",
          "Preparación de material",
          "Gestión de materiales",
          "Comparte solución",
          "Cierre formal",
          "Lenguaje técnico",
          "Conexión vida diaria",
          "Metacognición"
         ]
        },
        "yaxis4": {
         "anchor": "x4",
         "domain": [
          0.0,
          1.0
         ],
         "matches": "y",
         "showticklabels": false
        },
        "xaxis5": {
         "anchor": "y5",
         "domain": [
          0.8160000000000001,
          1.0
         ],
         "matches": "x",
         "title": {
          "text": "Concepto"
         },
         "categoryorder": "array",
         "categoryarray": [
          "Presenta Ob",
          "Conocimientos previos",
          "Conceptos claves",
          "Preparación de material",
          "Gestión de materiales",
          "Comparte solución",
          "Cierre formal",
          "Lenguaje técnico",
          "Conexión vida diaria",
          "Metacognición"
         ]
        },
        "yaxis5": {
         "anchor": "x5",
         "domain": [
          0.0,
          1.0
         ],
         "matches": "y",
         "showticklabels": false
        },
        "annotations": [
         {
          "font": {},
          "showarrow": false,
          "text": "Ficha=Ficha 1",
          "x": 0.09200000000000001,
          "xanchor": "center",
          "xref": "paper",
          "y": 1.0,
          "yanchor": "bottom",
          "yref": "paper"
         },
         {
          "font": {},
          "showarrow": false,
          "text": "Ficha=Ficha 2",
          "x": 0.29600000000000004,
          "xanchor": "center",
          "xref": "paper",
          "y": 1.0,
          "yanchor": "bottom",
          "yref": "paper"
         },
         {
          "font": {},
          "showarrow": false,
          "text": "Ficha=Ficha 3",
          "x": 0.5,
          "xanchor": "center",
          "xref": "paper",
          "y": 1.0,
          "yanchor": "bottom",
          "yref": "paper"
         },
         {
          "font": {},
          "showarrow": false,
          "text": "Ficha=Ficha 4",
          "x": 0.7040000000000002,
          "xanchor": "center",
          "xref": "paper",
          "y": 1.0,
          "yanchor": "bottom",
          "yref": "paper"
         },
         {
          "font": {},
          "showarrow": false,
          "text": "Ficha=Sin respuesta",
          "x": 0.908,
          "xanchor": "center",
          "xref": "paper",
          "y": 1.0,
          "yanchor": "bottom",
          "yref": "paper"
         }
        ],
        "legend": {
         "title": {
          "text": "Implementación"
         },
         "tracegroupgap": 0
        },
        "margin": {
         "t": 60
        },
        "barmode": "relative"
       },
       "config": {
        "plotlyServerURL": "https://plot.ly"
       }
      },
      "text/html": "<div>                            <div id=\"fb7b3a16-7310-4587-96a6-cb7def451229\" class=\"plotly-graph-div\" style=\"height:525px; width:100%;\"></div>            <script type=\"text/javascript\">                require([\"plotly\"], function(Plotly) {                    window.PLOTLYENV=window.PLOTLYENV || {};                                    if (document.getElementById(\"fb7b3a16-7310-4587-96a6-cb7def451229\")) {                    Plotly.newPlot(                        \"fb7b3a16-7310-4587-96a6-cb7def451229\",                        [{\"alignmentgroup\":\"True\",\"hovertemplate\":\"Implementaci\\u00f3n=Si<br>Ficha=Ficha 1<br>Concepto=%{x}<br>Frecuencia=%{y}<extra></extra>\",\"legendgroup\":\"Si\",\"marker\":{\"color\":\"rgb(102, 197, 204)\",\"pattern\":{\"shape\":\"\"}},\"name\":\"Si\",\"offsetgroup\":\"Si\",\"orientation\":\"v\",\"showlegend\":true,\"textposition\":\"auto\",\"x\":[\"Comparte soluci\\u00f3n\",\"Conceptos claves\",\"Conexi\\u00f3n vida diaria\",\"Conocimientos previos\",\"Gesti\\u00f3n de materiales\",\"Lenguaje t\\u00e9cnico\",\"Metacognici\\u00f3n\",\"Preparaci\\u00f3n de material\",\"Presenta Ob\"],\"xaxis\":\"x\",\"y\":[0.3333333333333333,0.6666666666666666,0.16666666666666666,0.8333333333333334,1.0,0.6666666666666666,0.16666666666666666,1.0,0.8333333333333334],\"yaxis\":\"y\",\"type\":\"bar\"},{\"alignmentgroup\":\"True\",\"hovertemplate\":\"Implementaci\\u00f3n=Si<br>Ficha=Ficha 2<br>Concepto=%{x}<br>Frecuencia=%{y}<extra></extra>\",\"legendgroup\":\"Si\",\"marker\":{\"color\":\"rgb(102, 197, 204)\",\"pattern\":{\"shape\":\"\"}},\"name\":\"Si\",\"offsetgroup\":\"Si\",\"orientation\":\"v\",\"showlegend\":false,\"textposition\":\"auto\",\"x\":[\"Cierre formal\",\"Comparte soluci\\u00f3n\",\"Conceptos claves\",\"Conexi\\u00f3n vida diaria\",\"Conocimientos previos\",\"Gesti\\u00f3n de materiales\",\"Lenguaje t\\u00e9cnico\",\"Metacognici\\u00f3n\",\"Preparaci\\u00f3n de material\",\"Presenta Ob\"],\"xaxis\":\"x2\",\"y\":[0.14285714285714285,0.42857142857142855,0.8571428571428571,0.7142857142857143,0.8571428571428571,0.8571428571428571,0.8571428571428571,0.2857142857142857,0.8571428571428571,0.8571428571428571],\"yaxis\":\"y2\",\"type\":\"bar\"},{\"alignmentgroup\":\"True\",\"hovertemplate\":\"Implementaci\\u00f3n=Si<br>Ficha=Ficha 3<br>Concepto=%{x}<br>Frecuencia=%{y}<extra></extra>\",\"legendgroup\":\"Si\",\"marker\":{\"color\":\"rgb(102, 197, 204)\",\"pattern\":{\"shape\":\"\"}},\"name\":\"Si\",\"offsetgroup\":\"Si\",\"orientation\":\"v\",\"showlegend\":false,\"textposition\":\"auto\",\"x\":[\"Comparte soluci\\u00f3n\",\"Conceptos claves\",\"Conexi\\u00f3n vida diaria\",\"Conocimientos previos\",\"Gesti\\u00f3n de materiales\",\"Lenguaje t\\u00e9cnico\",\"Metacognici\\u00f3n\",\"Preparaci\\u00f3n de material\",\"Presenta Ob\"],\"xaxis\":\"x3\",\"y\":[0.5,0.5,0.5,0.5,0.5,0.5,0.5,0.5,0.5],\"yaxis\":\"y3\",\"type\":\"bar\"},{\"alignmentgroup\":\"True\",\"hovertemplate\":\"Implementaci\\u00f3n=Si<br>Ficha=Ficha 4<br>Concepto=%{x}<br>Frecuencia=%{y}<extra></extra>\",\"legendgroup\":\"Si\",\"marker\":{\"color\":\"rgb(102, 197, 204)\",\"pattern\":{\"shape\":\"\"}},\"name\":\"Si\",\"offsetgroup\":\"Si\",\"orientation\":\"v\",\"showlegend\":false,\"textposition\":\"auto\",\"x\":[\"Gesti\\u00f3n de materiales\",\"Lenguaje t\\u00e9cnico\",\"Preparaci\\u00f3n de material\"],\"xaxis\":\"x4\",\"y\":[1.0,1.0,1.0],\"yaxis\":\"y4\",\"type\":\"bar\"},{\"alignmentgroup\":\"True\",\"hovertemplate\":\"Implementaci\\u00f3n=Si<br>Ficha=Sin respuesta<br>Concepto=%{x}<br>Frecuencia=%{y}<extra></extra>\",\"legendgroup\":\"Si\",\"marker\":{\"color\":\"rgb(102, 197, 204)\",\"pattern\":{\"shape\":\"\"}},\"name\":\"Si\",\"offsetgroup\":\"Si\",\"orientation\":\"v\",\"showlegend\":false,\"textposition\":\"auto\",\"x\":[\"Cierre formal\",\"Comparte soluci\\u00f3n\",\"Conceptos claves\",\"Conexi\\u00f3n vida diaria\",\"Conocimientos previos\",\"Gesti\\u00f3n de materiales\",\"Lenguaje t\\u00e9cnico\",\"Metacognici\\u00f3n\",\"Preparaci\\u00f3n de material\",\"Presenta Ob\"],\"xaxis\":\"x5\",\"y\":[0.25,0.25,0.5,0.25,0.5,1.0,0.25,0.25,1.0,0.75],\"yaxis\":\"y5\",\"type\":\"bar\"},{\"alignmentgroup\":\"True\",\"hovertemplate\":\"Implementaci\\u00f3n=Parcialmente<br>Ficha=Ficha 1<br>Concepto=%{x}<br>Frecuencia=%{y}<extra></extra>\",\"legendgroup\":\"Parcialmente\",\"marker\":{\"color\":\"rgb(246, 207, 113)\",\"pattern\":{\"shape\":\"\"}},\"name\":\"Parcialmente\",\"offsetgroup\":\"Parcialmente\",\"orientation\":\"v\",\"showlegend\":true,\"textposition\":\"auto\",\"x\":[\"Cierre formal\",\"Comparte soluci\\u00f3n\",\"Conceptos claves\",\"Conexi\\u00f3n vida diaria\",\"Lenguaje t\\u00e9cnico\",\"Metacognici\\u00f3n\"],\"xaxis\":\"x\",\"y\":[0.5,0.3333333333333333,0.3333333333333333,0.6666666666666666,0.3333333333333333,0.16666666666666666],\"yaxis\":\"y\",\"type\":\"bar\"},{\"alignmentgroup\":\"True\",\"hovertemplate\":\"Implementaci\\u00f3n=Parcialmente<br>Ficha=Ficha 2<br>Concepto=%{x}<br>Frecuencia=%{y}<extra></extra>\",\"legendgroup\":\"Parcialmente\",\"marker\":{\"color\":\"rgb(246, 207, 113)\",\"pattern\":{\"shape\":\"\"}},\"name\":\"Parcialmente\",\"offsetgroup\":\"Parcialmente\",\"orientation\":\"v\",\"showlegend\":false,\"textposition\":\"auto\",\"x\":[\"Cierre formal\",\"Comparte soluci\\u00f3n\",\"Lenguaje t\\u00e9cnico\",\"Metacognici\\u00f3n\",\"Preparaci\\u00f3n de material\",\"Presenta Ob\"],\"xaxis\":\"x2\",\"y\":[0.14285714285714285,0.14285714285714285,0.14285714285714285,0.42857142857142855,0.14285714285714285,0.14285714285714285],\"yaxis\":\"y2\",\"type\":\"bar\"},{\"alignmentgroup\":\"True\",\"hovertemplate\":\"Implementaci\\u00f3n=Parcialmente<br>Ficha=Ficha 3<br>Concepto=%{x}<br>Frecuencia=%{y}<extra></extra>\",\"legendgroup\":\"Parcialmente\",\"marker\":{\"color\":\"rgb(246, 207, 113)\",\"pattern\":{\"shape\":\"\"}},\"name\":\"Parcialmente\",\"offsetgroup\":\"Parcialmente\",\"orientation\":\"v\",\"showlegend\":false,\"textposition\":\"auto\",\"x\":[\"Cierre formal\",\"Conceptos claves\",\"Lenguaje t\\u00e9cnico\"],\"xaxis\":\"x3\",\"y\":[0.5,0.5,0.5],\"yaxis\":\"y3\",\"type\":\"bar\"},{\"alignmentgroup\":\"True\",\"hovertemplate\":\"Implementaci\\u00f3n=Parcialmente<br>Ficha=Sin respuesta<br>Concepto=%{x}<br>Frecuencia=%{y}<extra></extra>\",\"legendgroup\":\"Parcialmente\",\"marker\":{\"color\":\"rgb(246, 207, 113)\",\"pattern\":{\"shape\":\"\"}},\"name\":\"Parcialmente\",\"offsetgroup\":\"Parcialmente\",\"orientation\":\"v\",\"showlegend\":false,\"textposition\":\"auto\",\"x\":[\"Cierre formal\",\"Conceptos claves\",\"Conexi\\u00f3n vida diaria\",\"Conocimientos previos\",\"Lenguaje t\\u00e9cnico\",\"Metacognici\\u00f3n\"],\"xaxis\":\"x5\",\"y\":[0.25,0.5,0.25,0.25,0.75,0.5],\"yaxis\":\"y5\",\"type\":\"bar\"},{\"alignmentgroup\":\"True\",\"hovertemplate\":\"Implementaci\\u00f3n=No<br>Ficha=Ficha 1<br>Concepto=%{x}<br>Frecuencia=%{y}<extra></extra>\",\"legendgroup\":\"No\",\"marker\":{\"color\":\"rgb(248, 156, 116)\",\"pattern\":{\"shape\":\"\"}},\"name\":\"No\",\"offsetgroup\":\"No\",\"orientation\":\"v\",\"showlegend\":true,\"textposition\":\"auto\",\"x\":[\"Cierre formal\",\"Comparte soluci\\u00f3n\",\"Conexi\\u00f3n vida diaria\",\"Conocimientos previos\",\"Metacognici\\u00f3n\",\"Presenta Ob\"],\"xaxis\":\"x\",\"y\":[0.5,0.3333333333333333,0.16666666666666666,0.16666666666666666,0.6666666666666666,0.16666666666666666],\"yaxis\":\"y\",\"type\":\"bar\"},{\"alignmentgroup\":\"True\",\"hovertemplate\":\"Implementaci\\u00f3n=No<br>Ficha=Ficha 2<br>Concepto=%{x}<br>Frecuencia=%{y}<extra></extra>\",\"legendgroup\":\"No\",\"marker\":{\"color\":\"rgb(248, 156, 116)\",\"pattern\":{\"shape\":\"\"}},\"name\":\"No\",\"offsetgroup\":\"No\",\"orientation\":\"v\",\"showlegend\":false,\"textposition\":\"auto\",\"x\":[\"Cierre formal\",\"Comparte soluci\\u00f3n\",\"Conceptos claves\",\"Conexi\\u00f3n vida diaria\",\"Conocimientos previos\",\"Gesti\\u00f3n de materiales\",\"Metacognici\\u00f3n\"],\"xaxis\":\"x2\",\"y\":[0.7142857142857143,0.42857142857142855,0.14285714285714285,0.2857142857142857,0.14285714285714285,0.14285714285714285,0.2857142857142857],\"yaxis\":\"y2\",\"type\":\"bar\"},{\"alignmentgroup\":\"True\",\"hovertemplate\":\"Implementaci\\u00f3n=No<br>Ficha=Ficha 3<br>Concepto=%{x}<br>Frecuencia=%{y}<extra></extra>\",\"legendgroup\":\"No\",\"marker\":{\"color\":\"rgb(248, 156, 116)\",\"pattern\":{\"shape\":\"\"}},\"name\":\"No\",\"offsetgroup\":\"No\",\"orientation\":\"v\",\"showlegend\":false,\"textposition\":\"auto\",\"x\":[\"Cierre formal\",\"Comparte soluci\\u00f3n\",\"Conexi\\u00f3n vida diaria\",\"Conocimientos previos\",\"Gesti\\u00f3n de materiales\",\"Metacognici\\u00f3n\",\"Preparaci\\u00f3n de material\",\"Presenta Ob\"],\"xaxis\":\"x3\",\"y\":[0.5,0.5,0.5,0.5,0.5,0.5,0.5,0.5],\"yaxis\":\"y3\",\"type\":\"bar\"},{\"alignmentgroup\":\"True\",\"hovertemplate\":\"Implementaci\\u00f3n=No<br>Ficha=Ficha 4<br>Concepto=%{x}<br>Frecuencia=%{y}<extra></extra>\",\"legendgroup\":\"No\",\"marker\":{\"color\":\"rgb(248, 156, 116)\",\"pattern\":{\"shape\":\"\"}},\"name\":\"No\",\"offsetgroup\":\"No\",\"orientation\":\"v\",\"showlegend\":false,\"textposition\":\"auto\",\"x\":[\"Cierre formal\",\"Comparte soluci\\u00f3n\",\"Conceptos claves\",\"Conexi\\u00f3n vida diaria\",\"Conocimientos previos\",\"Metacognici\\u00f3n\",\"Presenta Ob\"],\"xaxis\":\"x4\",\"y\":[1.0,1.0,1.0,1.0,1.0,1.0,1.0],\"yaxis\":\"y4\",\"type\":\"bar\"},{\"alignmentgroup\":\"True\",\"hovertemplate\":\"Implementaci\\u00f3n=No<br>Ficha=Sin respuesta<br>Concepto=%{x}<br>Frecuencia=%{y}<extra></extra>\",\"legendgroup\":\"No\",\"marker\":{\"color\":\"rgb(248, 156, 116)\",\"pattern\":{\"shape\":\"\"}},\"name\":\"No\",\"offsetgroup\":\"No\",\"orientation\":\"v\",\"showlegend\":false,\"textposition\":\"auto\",\"x\":[\"Cierre formal\",\"Comparte soluci\\u00f3n\",\"Conexi\\u00f3n vida diaria\",\"Conocimientos previos\",\"Metacognici\\u00f3n\",\"Presenta Ob\"],\"xaxis\":\"x5\",\"y\":[0.5,0.75,0.5,0.25,0.25,0.25],\"yaxis\":\"y5\",\"type\":\"bar\"}],                        {\"template\":{\"data\":{\"barpolar\":[{\"marker\":{\"line\":{\"color\":\"white\",\"width\":0.5},\"pattern\":{\"fillmode\":\"overlay\",\"size\":10,\"solidity\":0.2}},\"type\":\"barpolar\"}],\"bar\":[{\"error_x\":{\"color\":\"#2a3f5f\"},\"error_y\":{\"color\":\"#2a3f5f\"},\"marker\":{\"line\":{\"color\":\"white\",\"width\":0.5},\"pattern\":{\"fillmode\":\"overlay\",\"size\":10,\"solidity\":0.2}},\"type\":\"bar\"}],\"carpet\":[{\"aaxis\":{\"endlinecolor\":\"#2a3f5f\",\"gridcolor\":\"#C8D4E3\",\"linecolor\":\"#C8D4E3\",\"minorgridcolor\":\"#C8D4E3\",\"startlinecolor\":\"#2a3f5f\"},\"baxis\":{\"endlinecolor\":\"#2a3f5f\",\"gridcolor\":\"#C8D4E3\",\"linecolor\":\"#C8D4E3\",\"minorgridcolor\":\"#C8D4E3\",\"startlinecolor\":\"#2a3f5f\"},\"type\":\"carpet\"}],\"choropleth\":[{\"colorbar\":{\"outlinewidth\":0,\"ticks\":\"\"},\"type\":\"choropleth\"}],\"contourcarpet\":[{\"colorbar\":{\"outlinewidth\":0,\"ticks\":\"\"},\"type\":\"contourcarpet\"}],\"contour\":[{\"colorbar\":{\"outlinewidth\":0,\"ticks\":\"\"},\"colorscale\":[[0.0,\"#0d0887\"],[0.1111111111111111,\"#46039f\"],[0.2222222222222222,\"#7201a8\"],[0.3333333333333333,\"#9c179e\"],[0.4444444444444444,\"#bd3786\"],[0.5555555555555556,\"#d8576b\"],[0.6666666666666666,\"#ed7953\"],[0.7777777777777778,\"#fb9f3a\"],[0.8888888888888888,\"#fdca26\"],[1.0,\"#f0f921\"]],\"type\":\"contour\"}],\"heatmapgl\":[{\"colorbar\":{\"outlinewidth\":0,\"ticks\":\"\"},\"colorscale\":[[0.0,\"#0d0887\"],[0.1111111111111111,\"#46039f\"],[0.2222222222222222,\"#7201a8\"],[0.3333333333333333,\"#9c179e\"],[0.4444444444444444,\"#bd3786\"],[0.5555555555555556,\"#d8576b\"],[0.6666666666666666,\"#ed7953\"],[0.7777777777777778,\"#fb9f3a\"],[0.8888888888888888,\"#fdca26\"],[1.0,\"#f0f921\"]],\"type\":\"heatmapgl\"}],\"heatmap\":[{\"colorbar\":{\"outlinewidth\":0,\"ticks\":\"\"},\"colorscale\":[[0.0,\"#0d0887\"],[0.1111111111111111,\"#46039f\"],[0.2222222222222222,\"#7201a8\"],[0.3333333333333333,\"#9c179e\"],[0.4444444444444444,\"#bd3786\"],[0.5555555555555556,\"#d8576b\"],[0.6666666666666666,\"#ed7953\"],[0.7777777777777778,\"#fb9f3a\"],[0.8888888888888888,\"#fdca26\"],[1.0,\"#f0f921\"]],\"type\":\"heatmap\"}],\"histogram2dcontour\":[{\"colorbar\":{\"outlinewidth\":0,\"ticks\":\"\"},\"colorscale\":[[0.0,\"#0d0887\"],[0.1111111111111111,\"#46039f\"],[0.2222222222222222,\"#7201a8\"],[0.3333333333333333,\"#9c179e\"],[0.4444444444444444,\"#bd3786\"],[0.5555555555555556,\"#d8576b\"],[0.6666666666666666,\"#ed7953\"],[0.7777777777777778,\"#fb9f3a\"],[0.8888888888888888,\"#fdca26\"],[1.0,\"#f0f921\"]],\"type\":\"histogram2dcontour\"}],\"histogram2d\":[{\"colorbar\":{\"outlinewidth\":0,\"ticks\":\"\"},\"colorscale\":[[0.0,\"#0d0887\"],[0.1111111111111111,\"#46039f\"],[0.2222222222222222,\"#7201a8\"],[0.3333333333333333,\"#9c179e\"],[0.4444444444444444,\"#bd3786\"],[0.5555555555555556,\"#d8576b\"],[0.6666666666666666,\"#ed7953\"],[0.7777777777777778,\"#fb9f3a\"],[0.8888888888888888,\"#fdca26\"],[1.0,\"#f0f921\"]],\"type\":\"histogram2d\"}],\"histogram\":[{\"marker\":{\"pattern\":{\"fillmode\":\"overlay\",\"size\":10,\"solidity\":0.2}},\"type\":\"histogram\"}],\"mesh3d\":[{\"colorbar\":{\"outlinewidth\":0,\"ticks\":\"\"},\"type\":\"mesh3d\"}],\"parcoords\":[{\"line\":{\"colorbar\":{\"outlinewidth\":0,\"ticks\":\"\"}},\"type\":\"parcoords\"}],\"pie\":[{\"automargin\":true,\"type\":\"pie\"}],\"scatter3d\":[{\"line\":{\"colorbar\":{\"outlinewidth\":0,\"ticks\":\"\"}},\"marker\":{\"colorbar\":{\"outlinewidth\":0,\"ticks\":\"\"}},\"type\":\"scatter3d\"}],\"scattercarpet\":[{\"marker\":{\"colorbar\":{\"outlinewidth\":0,\"ticks\":\"\"}},\"type\":\"scattercarpet\"}],\"scattergeo\":[{\"marker\":{\"colorbar\":{\"outlinewidth\":0,\"ticks\":\"\"}},\"type\":\"scattergeo\"}],\"scattergl\":[{\"marker\":{\"colorbar\":{\"outlinewidth\":0,\"ticks\":\"\"}},\"type\":\"scattergl\"}],\"scattermapbox\":[{\"marker\":{\"colorbar\":{\"outlinewidth\":0,\"ticks\":\"\"}},\"type\":\"scattermapbox\"}],\"scatterpolargl\":[{\"marker\":{\"colorbar\":{\"outlinewidth\":0,\"ticks\":\"\"}},\"type\":\"scatterpolargl\"}],\"scatterpolar\":[{\"marker\":{\"colorbar\":{\"outlinewidth\":0,\"ticks\":\"\"}},\"type\":\"scatterpolar\"}],\"scatter\":[{\"fillpattern\":{\"fillmode\":\"overlay\",\"size\":10,\"solidity\":0.2},\"type\":\"scatter\"}],\"scatterternary\":[{\"marker\":{\"colorbar\":{\"outlinewidth\":0,\"ticks\":\"\"}},\"type\":\"scatterternary\"}],\"surface\":[{\"colorbar\":{\"outlinewidth\":0,\"ticks\":\"\"},\"colorscale\":[[0.0,\"#0d0887\"],[0.1111111111111111,\"#46039f\"],[0.2222222222222222,\"#7201a8\"],[0.3333333333333333,\"#9c179e\"],[0.4444444444444444,\"#bd3786\"],[0.5555555555555556,\"#d8576b\"],[0.6666666666666666,\"#ed7953\"],[0.7777777777777778,\"#fb9f3a\"],[0.8888888888888888,\"#fdca26\"],[1.0,\"#f0f921\"]],\"type\":\"surface\"}],\"table\":[{\"cells\":{\"fill\":{\"color\":\"#EBF0F8\"},\"line\":{\"color\":\"white\"}},\"header\":{\"fill\":{\"color\":\"#C8D4E3\"},\"line\":{\"color\":\"white\"}},\"type\":\"table\"}]},\"layout\":{\"annotationdefaults\":{\"arrowcolor\":\"#2a3f5f\",\"arrowhead\":0,\"arrowwidth\":1},\"autotypenumbers\":\"strict\",\"coloraxis\":{\"colorbar\":{\"outlinewidth\":0,\"ticks\":\"\"}},\"colorscale\":{\"diverging\":[[0,\"#8e0152\"],[0.1,\"#c51b7d\"],[0.2,\"#de77ae\"],[0.3,\"#f1b6da\"],[0.4,\"#fde0ef\"],[0.5,\"#f7f7f7\"],[0.6,\"#e6f5d0\"],[0.7,\"#b8e186\"],[0.8,\"#7fbc41\"],[0.9,\"#4d9221\"],[1,\"#276419\"]],\"sequential\":[[0.0,\"#0d0887\"],[0.1111111111111111,\"#46039f\"],[0.2222222222222222,\"#7201a8\"],[0.3333333333333333,\"#9c179e\"],[0.4444444444444444,\"#bd3786\"],[0.5555555555555556,\"#d8576b\"],[0.6666666666666666,\"#ed7953\"],[0.7777777777777778,\"#fb9f3a\"],[0.8888888888888888,\"#fdca26\"],[1.0,\"#f0f921\"]],\"sequentialminus\":[[0.0,\"#0d0887\"],[0.1111111111111111,\"#46039f\"],[0.2222222222222222,\"#7201a8\"],[0.3333333333333333,\"#9c179e\"],[0.4444444444444444,\"#bd3786\"],[0.5555555555555556,\"#d8576b\"],[0.6666666666666666,\"#ed7953\"],[0.7777777777777778,\"#fb9f3a\"],[0.8888888888888888,\"#fdca26\"],[1.0,\"#f0f921\"]]},\"colorway\":[\"#636efa\",\"#EF553B\",\"#00cc96\",\"#ab63fa\",\"#FFA15A\",\"#19d3f3\",\"#FF6692\",\"#B6E880\",\"#FF97FF\",\"#FECB52\"],\"font\":{\"color\":\"#2a3f5f\"},\"geo\":{\"bgcolor\":\"white\",\"lakecolor\":\"white\",\"landcolor\":\"white\",\"showlakes\":true,\"showland\":true,\"subunitcolor\":\"#C8D4E3\"},\"hoverlabel\":{\"align\":\"left\"},\"hovermode\":\"closest\",\"mapbox\":{\"style\":\"light\"},\"paper_bgcolor\":\"white\",\"plot_bgcolor\":\"white\",\"polar\":{\"angularaxis\":{\"gridcolor\":\"#EBF0F8\",\"linecolor\":\"#EBF0F8\",\"ticks\":\"\"},\"bgcolor\":\"white\",\"radialaxis\":{\"gridcolor\":\"#EBF0F8\",\"linecolor\":\"#EBF0F8\",\"ticks\":\"\"}},\"scene\":{\"xaxis\":{\"backgroundcolor\":\"white\",\"gridcolor\":\"#DFE8F3\",\"gridwidth\":2,\"linecolor\":\"#EBF0F8\",\"showbackground\":true,\"ticks\":\"\",\"zerolinecolor\":\"#EBF0F8\"},\"yaxis\":{\"backgroundcolor\":\"white\",\"gridcolor\":\"#DFE8F3\",\"gridwidth\":2,\"linecolor\":\"#EBF0F8\",\"showbackground\":true,\"ticks\":\"\",\"zerolinecolor\":\"#EBF0F8\"},\"zaxis\":{\"backgroundcolor\":\"white\",\"gridcolor\":\"#DFE8F3\",\"gridwidth\":2,\"linecolor\":\"#EBF0F8\",\"showbackground\":true,\"ticks\":\"\",\"zerolinecolor\":\"#EBF0F8\"}},\"shapedefaults\":{\"line\":{\"color\":\"#2a3f5f\"}},\"ternary\":{\"aaxis\":{\"gridcolor\":\"#DFE8F3\",\"linecolor\":\"#A2B1C6\",\"ticks\":\"\"},\"baxis\":{\"gridcolor\":\"#DFE8F3\",\"linecolor\":\"#A2B1C6\",\"ticks\":\"\"},\"bgcolor\":\"white\",\"caxis\":{\"gridcolor\":\"#DFE8F3\",\"linecolor\":\"#A2B1C6\",\"ticks\":\"\"}},\"title\":{\"x\":0.05},\"xaxis\":{\"automargin\":true,\"gridcolor\":\"#EBF0F8\",\"linecolor\":\"#EBF0F8\",\"ticks\":\"\",\"title\":{\"standoff\":15},\"zerolinecolor\":\"#EBF0F8\",\"zerolinewidth\":2},\"yaxis\":{\"automargin\":true,\"gridcolor\":\"#EBF0F8\",\"linecolor\":\"#EBF0F8\",\"ticks\":\"\",\"title\":{\"standoff\":15},\"zerolinecolor\":\"#EBF0F8\",\"zerolinewidth\":2}}},\"xaxis\":{\"anchor\":\"y\",\"domain\":[0.0,0.18400000000000002],\"title\":{\"text\":\"Concepto\"},\"categoryorder\":\"array\",\"categoryarray\":[\"Presenta Ob\",\"Conocimientos previos\",\"Conceptos claves\",\"Preparaci\\u00f3n de material\",\"Gesti\\u00f3n de materiales\",\"Comparte soluci\\u00f3n\",\"Cierre formal\",\"Lenguaje t\\u00e9cnico\",\"Conexi\\u00f3n vida diaria\",\"Metacognici\\u00f3n\"]},\"yaxis\":{\"anchor\":\"x\",\"domain\":[0.0,1.0],\"title\":{\"text\":\"Frecuencia\"}},\"xaxis2\":{\"anchor\":\"y2\",\"domain\":[0.20400000000000001,0.388],\"matches\":\"x\",\"title\":{\"text\":\"Concepto\"},\"categoryorder\":\"array\",\"categoryarray\":[\"Presenta Ob\",\"Conocimientos previos\",\"Conceptos claves\",\"Preparaci\\u00f3n de material\",\"Gesti\\u00f3n de materiales\",\"Comparte soluci\\u00f3n\",\"Cierre formal\",\"Lenguaje t\\u00e9cnico\",\"Conexi\\u00f3n vida diaria\",\"Metacognici\\u00f3n\"]},\"yaxis2\":{\"anchor\":\"x2\",\"domain\":[0.0,1.0],\"matches\":\"y\",\"showticklabels\":false},\"xaxis3\":{\"anchor\":\"y3\",\"domain\":[0.40800000000000003,0.5920000000000001],\"matches\":\"x\",\"title\":{\"text\":\"Concepto\"},\"categoryorder\":\"array\",\"categoryarray\":[\"Presenta Ob\",\"Conocimientos previos\",\"Conceptos claves\",\"Preparaci\\u00f3n de material\",\"Gesti\\u00f3n de materiales\",\"Comparte soluci\\u00f3n\",\"Cierre formal\",\"Lenguaje t\\u00e9cnico\",\"Conexi\\u00f3n vida diaria\",\"Metacognici\\u00f3n\"]},\"yaxis3\":{\"anchor\":\"x3\",\"domain\":[0.0,1.0],\"matches\":\"y\",\"showticklabels\":false},\"xaxis4\":{\"anchor\":\"y4\",\"domain\":[0.6120000000000001,0.7960000000000002],\"matches\":\"x\",\"title\":{\"text\":\"Concepto\"},\"categoryorder\":\"array\",\"categoryarray\":[\"Presenta Ob\",\"Conocimientos previos\",\"Conceptos claves\",\"Preparaci\\u00f3n de material\",\"Gesti\\u00f3n de materiales\",\"Comparte soluci\\u00f3n\",\"Cierre formal\",\"Lenguaje t\\u00e9cnico\",\"Conexi\\u00f3n vida diaria\",\"Metacognici\\u00f3n\"]},\"yaxis4\":{\"anchor\":\"x4\",\"domain\":[0.0,1.0],\"matches\":\"y\",\"showticklabels\":false},\"xaxis5\":{\"anchor\":\"y5\",\"domain\":[0.8160000000000001,1.0],\"matches\":\"x\",\"title\":{\"text\":\"Concepto\"},\"categoryorder\":\"array\",\"categoryarray\":[\"Presenta Ob\",\"Conocimientos previos\",\"Conceptos claves\",\"Preparaci\\u00f3n de material\",\"Gesti\\u00f3n de materiales\",\"Comparte soluci\\u00f3n\",\"Cierre formal\",\"Lenguaje t\\u00e9cnico\",\"Conexi\\u00f3n vida diaria\",\"Metacognici\\u00f3n\"]},\"yaxis5\":{\"anchor\":\"x5\",\"domain\":[0.0,1.0],\"matches\":\"y\",\"showticklabels\":false},\"annotations\":[{\"font\":{},\"showarrow\":false,\"text\":\"Ficha=Ficha 1\",\"x\":0.09200000000000001,\"xanchor\":\"center\",\"xref\":\"paper\",\"y\":1.0,\"yanchor\":\"bottom\",\"yref\":\"paper\"},{\"font\":{},\"showarrow\":false,\"text\":\"Ficha=Ficha 2\",\"x\":0.29600000000000004,\"xanchor\":\"center\",\"xref\":\"paper\",\"y\":1.0,\"yanchor\":\"bottom\",\"yref\":\"paper\"},{\"font\":{},\"showarrow\":false,\"text\":\"Ficha=Ficha 3\",\"x\":0.5,\"xanchor\":\"center\",\"xref\":\"paper\",\"y\":1.0,\"yanchor\":\"bottom\",\"yref\":\"paper\"},{\"font\":{},\"showarrow\":false,\"text\":\"Ficha=Ficha 4\",\"x\":0.7040000000000002,\"xanchor\":\"center\",\"xref\":\"paper\",\"y\":1.0,\"yanchor\":\"bottom\",\"yref\":\"paper\"},{\"font\":{},\"showarrow\":false,\"text\":\"Ficha=Sin respuesta\",\"x\":0.908,\"xanchor\":\"center\",\"xref\":\"paper\",\"y\":1.0,\"yanchor\":\"bottom\",\"yref\":\"paper\"}],\"legend\":{\"title\":{\"text\":\"Implementaci\\u00f3n\"},\"tracegroupgap\":0},\"margin\":{\"t\":60},\"barmode\":\"relative\"},                        {\"responsive\": true}                    ).then(function(){\n                            \nvar gd = document.getElementById('fb7b3a16-7310-4587-96a6-cb7def451229');\nvar x = new MutationObserver(function (mutations, observer) {{\n        var display = window.getComputedStyle(gd).display;\n        if (!display || display === 'none') {{\n            console.log([gd, 'removed!']);\n            Plotly.purge(gd);\n            observer.disconnect();\n        }}\n}});\n\n// Listen for the removal of the full notebook cells\nvar notebookContainer = gd.closest('#notebook-container');\nif (notebookContainer) {{\n    x.observe(notebookContainer, {childList: true});\n}}\n\n// Listen for the clearing of the current output cell\nvar outputEl = gd.closest('.output');\nif (outputEl) {{\n    x.observe(outputEl, {childList: true});\n}}\n\n                        })                };                });            </script>        </div>"
     },
     "metadata": {},
     "output_type": "display_data"
    }
   ],
   "source": [
    "fig1= px.bar(datp, x='Concepto',y='Frecuencia', color='Implementación', facet_col='Ficha',  color_discrete_sequence=px.colors.qualitative.Pastel,\n",
    "                 template=\"plotly_white\", category_orders={'Implementación':['Si','Parcialmente','No'],\n",
    "                                                           'Concepto' : ['Presenta Ob', 'Conocimientos previos', 'Conceptos claves',\n",
    "       'Preparación de material', 'Gestión de materiales', 'Comparte solución',\n",
    "       'Cierre formal', 'Lenguaje técnico', 'Conexión vida diaria',\n",
    "       'Metacognición']})\n",
    "fig1"
   ],
   "metadata": {
    "collapsed": false,
    "pycharm": {
     "name": "#%%\n"
    }
   }
  },
  {
   "cell_type": "code",
   "execution_count": 13,
   "outputs": [
    {
     "data": {
      "application/vnd.plotly.v1+json": {
       "data": [
        {
         "alignmentgroup": "True",
         "hovertemplate": "Implementación=Si<br>Ficha=Ficha 1<br>Frecuencia=%{x}<br>Concepto=%{y}<extra></extra>",
         "legendgroup": "Si",
         "marker": {
          "color": "rgb(102, 197, 204)",
          "pattern": {
           "shape": ""
          }
         },
         "name": "Si",
         "offsetgroup": "Si",
         "orientation": "h",
         "showlegend": true,
         "textposition": "auto",
         "x": [
          0.3333333333333333,
          0.6666666666666666,
          0.16666666666666666,
          0.8333333333333334,
          1.0,
          0.6666666666666666,
          0.16666666666666666,
          1.0,
          0.8333333333333334
         ],
         "xaxis": "x5",
         "y": [
          "Comparte solución",
          "Conceptos claves",
          "Conexión vida diaria",
          "Conocimientos previos",
          "Gestión de materiales",
          "Lenguaje técnico",
          "Metacognición",
          "Preparación de material",
          "Presenta Ob"
         ],
         "yaxis": "y5",
         "type": "bar"
        },
        {
         "alignmentgroup": "True",
         "hovertemplate": "Implementación=Si<br>Ficha=Ficha 2<br>Frecuencia=%{x}<br>Concepto=%{y}<extra></extra>",
         "legendgroup": "Si",
         "marker": {
          "color": "rgb(102, 197, 204)",
          "pattern": {
           "shape": ""
          }
         },
         "name": "Si",
         "offsetgroup": "Si",
         "orientation": "h",
         "showlegend": false,
         "textposition": "auto",
         "x": [
          0.14285714285714285,
          0.42857142857142855,
          0.8571428571428571,
          0.7142857142857143,
          0.8571428571428571,
          0.8571428571428571,
          0.8571428571428571,
          0.2857142857142857,
          0.8571428571428571,
          0.8571428571428571
         ],
         "xaxis": "x4",
         "y": [
          "Cierre formal",
          "Comparte solución",
          "Conceptos claves",
          "Conexión vida diaria",
          "Conocimientos previos",
          "Gestión de materiales",
          "Lenguaje técnico",
          "Metacognición",
          "Preparación de material",
          "Presenta Ob"
         ],
         "yaxis": "y4",
         "type": "bar"
        },
        {
         "alignmentgroup": "True",
         "hovertemplate": "Implementación=Si<br>Ficha=Ficha 3<br>Frecuencia=%{x}<br>Concepto=%{y}<extra></extra>",
         "legendgroup": "Si",
         "marker": {
          "color": "rgb(102, 197, 204)",
          "pattern": {
           "shape": ""
          }
         },
         "name": "Si",
         "offsetgroup": "Si",
         "orientation": "h",
         "showlegend": false,
         "textposition": "auto",
         "x": [
          0.5,
          0.5,
          0.5,
          0.5,
          0.5,
          0.5,
          0.5,
          0.5,
          0.5
         ],
         "xaxis": "x3",
         "y": [
          "Comparte solución",
          "Conceptos claves",
          "Conexión vida diaria",
          "Conocimientos previos",
          "Gestión de materiales",
          "Lenguaje técnico",
          "Metacognición",
          "Preparación de material",
          "Presenta Ob"
         ],
         "yaxis": "y3",
         "type": "bar"
        },
        {
         "alignmentgroup": "True",
         "hovertemplate": "Implementación=Si<br>Ficha=Ficha 4<br>Frecuencia=%{x}<br>Concepto=%{y}<extra></extra>",
         "legendgroup": "Si",
         "marker": {
          "color": "rgb(102, 197, 204)",
          "pattern": {
           "shape": ""
          }
         },
         "name": "Si",
         "offsetgroup": "Si",
         "orientation": "h",
         "showlegend": false,
         "textposition": "auto",
         "x": [
          1.0,
          1.0,
          1.0
         ],
         "xaxis": "x2",
         "y": [
          "Gestión de materiales",
          "Lenguaje técnico",
          "Preparación de material"
         ],
         "yaxis": "y2",
         "type": "bar"
        },
        {
         "alignmentgroup": "True",
         "hovertemplate": "Implementación=Si<br>Ficha=Sin respuesta<br>Frecuencia=%{x}<br>Concepto=%{y}<extra></extra>",
         "legendgroup": "Si",
         "marker": {
          "color": "rgb(102, 197, 204)",
          "pattern": {
           "shape": ""
          }
         },
         "name": "Si",
         "offsetgroup": "Si",
         "orientation": "h",
         "showlegend": false,
         "textposition": "auto",
         "x": [
          0.25,
          0.25,
          0.5,
          0.25,
          0.5,
          1.0,
          0.25,
          0.25,
          1.0,
          0.75
         ],
         "xaxis": "x",
         "y": [
          "Cierre formal",
          "Comparte solución",
          "Conceptos claves",
          "Conexión vida diaria",
          "Conocimientos previos",
          "Gestión de materiales",
          "Lenguaje técnico",
          "Metacognición",
          "Preparación de material",
          "Presenta Ob"
         ],
         "yaxis": "y",
         "type": "bar"
        },
        {
         "alignmentgroup": "True",
         "hovertemplate": "Implementación=Parcialmente<br>Ficha=Ficha 1<br>Frecuencia=%{x}<br>Concepto=%{y}<extra></extra>",
         "legendgroup": "Parcialmente",
         "marker": {
          "color": "rgb(246, 207, 113)",
          "pattern": {
           "shape": ""
          }
         },
         "name": "Parcialmente",
         "offsetgroup": "Parcialmente",
         "orientation": "h",
         "showlegend": true,
         "textposition": "auto",
         "x": [
          0.5,
          0.3333333333333333,
          0.3333333333333333,
          0.6666666666666666,
          0.3333333333333333,
          0.16666666666666666
         ],
         "xaxis": "x5",
         "y": [
          "Cierre formal",
          "Comparte solución",
          "Conceptos claves",
          "Conexión vida diaria",
          "Lenguaje técnico",
          "Metacognición"
         ],
         "yaxis": "y5",
         "type": "bar"
        },
        {
         "alignmentgroup": "True",
         "hovertemplate": "Implementación=Parcialmente<br>Ficha=Ficha 2<br>Frecuencia=%{x}<br>Concepto=%{y}<extra></extra>",
         "legendgroup": "Parcialmente",
         "marker": {
          "color": "rgb(246, 207, 113)",
          "pattern": {
           "shape": ""
          }
         },
         "name": "Parcialmente",
         "offsetgroup": "Parcialmente",
         "orientation": "h",
         "showlegend": false,
         "textposition": "auto",
         "x": [
          0.14285714285714285,
          0.14285714285714285,
          0.14285714285714285,
          0.42857142857142855,
          0.14285714285714285,
          0.14285714285714285
         ],
         "xaxis": "x4",
         "y": [
          "Cierre formal",
          "Comparte solución",
          "Lenguaje técnico",
          "Metacognición",
          "Preparación de material",
          "Presenta Ob"
         ],
         "yaxis": "y4",
         "type": "bar"
        },
        {
         "alignmentgroup": "True",
         "hovertemplate": "Implementación=Parcialmente<br>Ficha=Ficha 3<br>Frecuencia=%{x}<br>Concepto=%{y}<extra></extra>",
         "legendgroup": "Parcialmente",
         "marker": {
          "color": "rgb(246, 207, 113)",
          "pattern": {
           "shape": ""
          }
         },
         "name": "Parcialmente",
         "offsetgroup": "Parcialmente",
         "orientation": "h",
         "showlegend": false,
         "textposition": "auto",
         "x": [
          0.5,
          0.5,
          0.5
         ],
         "xaxis": "x3",
         "y": [
          "Cierre formal",
          "Conceptos claves",
          "Lenguaje técnico"
         ],
         "yaxis": "y3",
         "type": "bar"
        },
        {
         "alignmentgroup": "True",
         "hovertemplate": "Implementación=Parcialmente<br>Ficha=Sin respuesta<br>Frecuencia=%{x}<br>Concepto=%{y}<extra></extra>",
         "legendgroup": "Parcialmente",
         "marker": {
          "color": "rgb(246, 207, 113)",
          "pattern": {
           "shape": ""
          }
         },
         "name": "Parcialmente",
         "offsetgroup": "Parcialmente",
         "orientation": "h",
         "showlegend": false,
         "textposition": "auto",
         "x": [
          0.25,
          0.5,
          0.25,
          0.25,
          0.75,
          0.5
         ],
         "xaxis": "x",
         "y": [
          "Cierre formal",
          "Conceptos claves",
          "Conexión vida diaria",
          "Conocimientos previos",
          "Lenguaje técnico",
          "Metacognición"
         ],
         "yaxis": "y",
         "type": "bar"
        },
        {
         "alignmentgroup": "True",
         "hovertemplate": "Implementación=No<br>Ficha=Ficha 1<br>Frecuencia=%{x}<br>Concepto=%{y}<extra></extra>",
         "legendgroup": "No",
         "marker": {
          "color": "rgb(248, 156, 116)",
          "pattern": {
           "shape": ""
          }
         },
         "name": "No",
         "offsetgroup": "No",
         "orientation": "h",
         "showlegend": true,
         "textposition": "auto",
         "x": [
          0.5,
          0.3333333333333333,
          0.16666666666666666,
          0.16666666666666666,
          0.6666666666666666,
          0.16666666666666666
         ],
         "xaxis": "x5",
         "y": [
          "Cierre formal",
          "Comparte solución",
          "Conexión vida diaria",
          "Conocimientos previos",
          "Metacognición",
          "Presenta Ob"
         ],
         "yaxis": "y5",
         "type": "bar"
        },
        {
         "alignmentgroup": "True",
         "hovertemplate": "Implementación=No<br>Ficha=Ficha 2<br>Frecuencia=%{x}<br>Concepto=%{y}<extra></extra>",
         "legendgroup": "No",
         "marker": {
          "color": "rgb(248, 156, 116)",
          "pattern": {
           "shape": ""
          }
         },
         "name": "No",
         "offsetgroup": "No",
         "orientation": "h",
         "showlegend": false,
         "textposition": "auto",
         "x": [
          0.7142857142857143,
          0.42857142857142855,
          0.14285714285714285,
          0.2857142857142857,
          0.14285714285714285,
          0.14285714285714285,
          0.2857142857142857
         ],
         "xaxis": "x4",
         "y": [
          "Cierre formal",
          "Comparte solución",
          "Conceptos claves",
          "Conexión vida diaria",
          "Conocimientos previos",
          "Gestión de materiales",
          "Metacognición"
         ],
         "yaxis": "y4",
         "type": "bar"
        },
        {
         "alignmentgroup": "True",
         "hovertemplate": "Implementación=No<br>Ficha=Ficha 3<br>Frecuencia=%{x}<br>Concepto=%{y}<extra></extra>",
         "legendgroup": "No",
         "marker": {
          "color": "rgb(248, 156, 116)",
          "pattern": {
           "shape": ""
          }
         },
         "name": "No",
         "offsetgroup": "No",
         "orientation": "h",
         "showlegend": false,
         "textposition": "auto",
         "x": [
          0.5,
          0.5,
          0.5,
          0.5,
          0.5,
          0.5,
          0.5,
          0.5
         ],
         "xaxis": "x3",
         "y": [
          "Cierre formal",
          "Comparte solución",
          "Conexión vida diaria",
          "Conocimientos previos",
          "Gestión de materiales",
          "Metacognición",
          "Preparación de material",
          "Presenta Ob"
         ],
         "yaxis": "y3",
         "type": "bar"
        },
        {
         "alignmentgroup": "True",
         "hovertemplate": "Implementación=No<br>Ficha=Ficha 4<br>Frecuencia=%{x}<br>Concepto=%{y}<extra></extra>",
         "legendgroup": "No",
         "marker": {
          "color": "rgb(248, 156, 116)",
          "pattern": {
           "shape": ""
          }
         },
         "name": "No",
         "offsetgroup": "No",
         "orientation": "h",
         "showlegend": false,
         "textposition": "auto",
         "x": [
          1.0,
          1.0,
          1.0,
          1.0,
          1.0,
          1.0,
          1.0
         ],
         "xaxis": "x2",
         "y": [
          "Cierre formal",
          "Comparte solución",
          "Conceptos claves",
          "Conexión vida diaria",
          "Conocimientos previos",
          "Metacognición",
          "Presenta Ob"
         ],
         "yaxis": "y2",
         "type": "bar"
        },
        {
         "alignmentgroup": "True",
         "hovertemplate": "Implementación=No<br>Ficha=Sin respuesta<br>Frecuencia=%{x}<br>Concepto=%{y}<extra></extra>",
         "legendgroup": "No",
         "marker": {
          "color": "rgb(248, 156, 116)",
          "pattern": {
           "shape": ""
          }
         },
         "name": "No",
         "offsetgroup": "No",
         "orientation": "h",
         "showlegend": false,
         "textposition": "auto",
         "x": [
          0.5,
          0.75,
          0.5,
          0.25,
          0.25,
          0.25
         ],
         "xaxis": "x",
         "y": [
          "Cierre formal",
          "Comparte solución",
          "Conexión vida diaria",
          "Conocimientos previos",
          "Metacognición",
          "Presenta Ob"
         ],
         "yaxis": "y",
         "type": "bar"
        }
       ],
       "layout": {
        "template": {
         "data": {
          "barpolar": [
           {
            "marker": {
             "line": {
              "color": "white",
              "width": 0.5
             },
             "pattern": {
              "fillmode": "overlay",
              "size": 10,
              "solidity": 0.2
             }
            },
            "type": "barpolar"
           }
          ],
          "bar": [
           {
            "error_x": {
             "color": "#2a3f5f"
            },
            "error_y": {
             "color": "#2a3f5f"
            },
            "marker": {
             "line": {
              "color": "white",
              "width": 0.5
             },
             "pattern": {
              "fillmode": "overlay",
              "size": 10,
              "solidity": 0.2
             }
            },
            "type": "bar"
           }
          ],
          "carpet": [
           {
            "aaxis": {
             "endlinecolor": "#2a3f5f",
             "gridcolor": "#C8D4E3",
             "linecolor": "#C8D4E3",
             "minorgridcolor": "#C8D4E3",
             "startlinecolor": "#2a3f5f"
            },
            "baxis": {
             "endlinecolor": "#2a3f5f",
             "gridcolor": "#C8D4E3",
             "linecolor": "#C8D4E3",
             "minorgridcolor": "#C8D4E3",
             "startlinecolor": "#2a3f5f"
            },
            "type": "carpet"
           }
          ],
          "choropleth": [
           {
            "colorbar": {
             "outlinewidth": 0,
             "ticks": ""
            },
            "type": "choropleth"
           }
          ],
          "contourcarpet": [
           {
            "colorbar": {
             "outlinewidth": 0,
             "ticks": ""
            },
            "type": "contourcarpet"
           }
          ],
          "contour": [
           {
            "colorbar": {
             "outlinewidth": 0,
             "ticks": ""
            },
            "colorscale": [
             [
              0.0,
              "#0d0887"
             ],
             [
              0.1111111111111111,
              "#46039f"
             ],
             [
              0.2222222222222222,
              "#7201a8"
             ],
             [
              0.3333333333333333,
              "#9c179e"
             ],
             [
              0.4444444444444444,
              "#bd3786"
             ],
             [
              0.5555555555555556,
              "#d8576b"
             ],
             [
              0.6666666666666666,
              "#ed7953"
             ],
             [
              0.7777777777777778,
              "#fb9f3a"
             ],
             [
              0.8888888888888888,
              "#fdca26"
             ],
             [
              1.0,
              "#f0f921"
             ]
            ],
            "type": "contour"
           }
          ],
          "heatmapgl": [
           {
            "colorbar": {
             "outlinewidth": 0,
             "ticks": ""
            },
            "colorscale": [
             [
              0.0,
              "#0d0887"
             ],
             [
              0.1111111111111111,
              "#46039f"
             ],
             [
              0.2222222222222222,
              "#7201a8"
             ],
             [
              0.3333333333333333,
              "#9c179e"
             ],
             [
              0.4444444444444444,
              "#bd3786"
             ],
             [
              0.5555555555555556,
              "#d8576b"
             ],
             [
              0.6666666666666666,
              "#ed7953"
             ],
             [
              0.7777777777777778,
              "#fb9f3a"
             ],
             [
              0.8888888888888888,
              "#fdca26"
             ],
             [
              1.0,
              "#f0f921"
             ]
            ],
            "type": "heatmapgl"
           }
          ],
          "heatmap": [
           {
            "colorbar": {
             "outlinewidth": 0,
             "ticks": ""
            },
            "colorscale": [
             [
              0.0,
              "#0d0887"
             ],
             [
              0.1111111111111111,
              "#46039f"
             ],
             [
              0.2222222222222222,
              "#7201a8"
             ],
             [
              0.3333333333333333,
              "#9c179e"
             ],
             [
              0.4444444444444444,
              "#bd3786"
             ],
             [
              0.5555555555555556,
              "#d8576b"
             ],
             [
              0.6666666666666666,
              "#ed7953"
             ],
             [
              0.7777777777777778,
              "#fb9f3a"
             ],
             [
              0.8888888888888888,
              "#fdca26"
             ],
             [
              1.0,
              "#f0f921"
             ]
            ],
            "type": "heatmap"
           }
          ],
          "histogram2dcontour": [
           {
            "colorbar": {
             "outlinewidth": 0,
             "ticks": ""
            },
            "colorscale": [
             [
              0.0,
              "#0d0887"
             ],
             [
              0.1111111111111111,
              "#46039f"
             ],
             [
              0.2222222222222222,
              "#7201a8"
             ],
             [
              0.3333333333333333,
              "#9c179e"
             ],
             [
              0.4444444444444444,
              "#bd3786"
             ],
             [
              0.5555555555555556,
              "#d8576b"
             ],
             [
              0.6666666666666666,
              "#ed7953"
             ],
             [
              0.7777777777777778,
              "#fb9f3a"
             ],
             [
              0.8888888888888888,
              "#fdca26"
             ],
             [
              1.0,
              "#f0f921"
             ]
            ],
            "type": "histogram2dcontour"
           }
          ],
          "histogram2d": [
           {
            "colorbar": {
             "outlinewidth": 0,
             "ticks": ""
            },
            "colorscale": [
             [
              0.0,
              "#0d0887"
             ],
             [
              0.1111111111111111,
              "#46039f"
             ],
             [
              0.2222222222222222,
              "#7201a8"
             ],
             [
              0.3333333333333333,
              "#9c179e"
             ],
             [
              0.4444444444444444,
              "#bd3786"
             ],
             [
              0.5555555555555556,
              "#d8576b"
             ],
             [
              0.6666666666666666,
              "#ed7953"
             ],
             [
              0.7777777777777778,
              "#fb9f3a"
             ],
             [
              0.8888888888888888,
              "#fdca26"
             ],
             [
              1.0,
              "#f0f921"
             ]
            ],
            "type": "histogram2d"
           }
          ],
          "histogram": [
           {
            "marker": {
             "pattern": {
              "fillmode": "overlay",
              "size": 10,
              "solidity": 0.2
             }
            },
            "type": "histogram"
           }
          ],
          "mesh3d": [
           {
            "colorbar": {
             "outlinewidth": 0,
             "ticks": ""
            },
            "type": "mesh3d"
           }
          ],
          "parcoords": [
           {
            "line": {
             "colorbar": {
              "outlinewidth": 0,
              "ticks": ""
             }
            },
            "type": "parcoords"
           }
          ],
          "pie": [
           {
            "automargin": true,
            "type": "pie"
           }
          ],
          "scatter3d": [
           {
            "line": {
             "colorbar": {
              "outlinewidth": 0,
              "ticks": ""
             }
            },
            "marker": {
             "colorbar": {
              "outlinewidth": 0,
              "ticks": ""
             }
            },
            "type": "scatter3d"
           }
          ],
          "scattercarpet": [
           {
            "marker": {
             "colorbar": {
              "outlinewidth": 0,
              "ticks": ""
             }
            },
            "type": "scattercarpet"
           }
          ],
          "scattergeo": [
           {
            "marker": {
             "colorbar": {
              "outlinewidth": 0,
              "ticks": ""
             }
            },
            "type": "scattergeo"
           }
          ],
          "scattergl": [
           {
            "marker": {
             "colorbar": {
              "outlinewidth": 0,
              "ticks": ""
             }
            },
            "type": "scattergl"
           }
          ],
          "scattermapbox": [
           {
            "marker": {
             "colorbar": {
              "outlinewidth": 0,
              "ticks": ""
             }
            },
            "type": "scattermapbox"
           }
          ],
          "scatterpolargl": [
           {
            "marker": {
             "colorbar": {
              "outlinewidth": 0,
              "ticks": ""
             }
            },
            "type": "scatterpolargl"
           }
          ],
          "scatterpolar": [
           {
            "marker": {
             "colorbar": {
              "outlinewidth": 0,
              "ticks": ""
             }
            },
            "type": "scatterpolar"
           }
          ],
          "scatter": [
           {
            "fillpattern": {
             "fillmode": "overlay",
             "size": 10,
             "solidity": 0.2
            },
            "type": "scatter"
           }
          ],
          "scatterternary": [
           {
            "marker": {
             "colorbar": {
              "outlinewidth": 0,
              "ticks": ""
             }
            },
            "type": "scatterternary"
           }
          ],
          "surface": [
           {
            "colorbar": {
             "outlinewidth": 0,
             "ticks": ""
            },
            "colorscale": [
             [
              0.0,
              "#0d0887"
             ],
             [
              0.1111111111111111,
              "#46039f"
             ],
             [
              0.2222222222222222,
              "#7201a8"
             ],
             [
              0.3333333333333333,
              "#9c179e"
             ],
             [
              0.4444444444444444,
              "#bd3786"
             ],
             [
              0.5555555555555556,
              "#d8576b"
             ],
             [
              0.6666666666666666,
              "#ed7953"
             ],
             [
              0.7777777777777778,
              "#fb9f3a"
             ],
             [
              0.8888888888888888,
              "#fdca26"
             ],
             [
              1.0,
              "#f0f921"
             ]
            ],
            "type": "surface"
           }
          ],
          "table": [
           {
            "cells": {
             "fill": {
              "color": "#EBF0F8"
             },
             "line": {
              "color": "white"
             }
            },
            "header": {
             "fill": {
              "color": "#C8D4E3"
             },
             "line": {
              "color": "white"
             }
            },
            "type": "table"
           }
          ]
         },
         "layout": {
          "annotationdefaults": {
           "arrowcolor": "#2a3f5f",
           "arrowhead": 0,
           "arrowwidth": 1
          },
          "autotypenumbers": "strict",
          "coloraxis": {
           "colorbar": {
            "outlinewidth": 0,
            "ticks": ""
           }
          },
          "colorscale": {
           "diverging": [
            [
             0,
             "#8e0152"
            ],
            [
             0.1,
             "#c51b7d"
            ],
            [
             0.2,
             "#de77ae"
            ],
            [
             0.3,
             "#f1b6da"
            ],
            [
             0.4,
             "#fde0ef"
            ],
            [
             0.5,
             "#f7f7f7"
            ],
            [
             0.6,
             "#e6f5d0"
            ],
            [
             0.7,
             "#b8e186"
            ],
            [
             0.8,
             "#7fbc41"
            ],
            [
             0.9,
             "#4d9221"
            ],
            [
             1,
             "#276419"
            ]
           ],
           "sequential": [
            [
             0.0,
             "#0d0887"
            ],
            [
             0.1111111111111111,
             "#46039f"
            ],
            [
             0.2222222222222222,
             "#7201a8"
            ],
            [
             0.3333333333333333,
             "#9c179e"
            ],
            [
             0.4444444444444444,
             "#bd3786"
            ],
            [
             0.5555555555555556,
             "#d8576b"
            ],
            [
             0.6666666666666666,
             "#ed7953"
            ],
            [
             0.7777777777777778,
             "#fb9f3a"
            ],
            [
             0.8888888888888888,
             "#fdca26"
            ],
            [
             1.0,
             "#f0f921"
            ]
           ],
           "sequentialminus": [
            [
             0.0,
             "#0d0887"
            ],
            [
             0.1111111111111111,
             "#46039f"
            ],
            [
             0.2222222222222222,
             "#7201a8"
            ],
            [
             0.3333333333333333,
             "#9c179e"
            ],
            [
             0.4444444444444444,
             "#bd3786"
            ],
            [
             0.5555555555555556,
             "#d8576b"
            ],
            [
             0.6666666666666666,
             "#ed7953"
            ],
            [
             0.7777777777777778,
             "#fb9f3a"
            ],
            [
             0.8888888888888888,
             "#fdca26"
            ],
            [
             1.0,
             "#f0f921"
            ]
           ]
          },
          "colorway": [
           "#636efa",
           "#EF553B",
           "#00cc96",
           "#ab63fa",
           "#FFA15A",
           "#19d3f3",
           "#FF6692",
           "#B6E880",
           "#FF97FF",
           "#FECB52"
          ],
          "font": {
           "color": "#2a3f5f"
          },
          "geo": {
           "bgcolor": "white",
           "lakecolor": "white",
           "landcolor": "white",
           "showlakes": true,
           "showland": true,
           "subunitcolor": "#C8D4E3"
          },
          "hoverlabel": {
           "align": "left"
          },
          "hovermode": "closest",
          "mapbox": {
           "style": "light"
          },
          "paper_bgcolor": "white",
          "plot_bgcolor": "white",
          "polar": {
           "angularaxis": {
            "gridcolor": "#EBF0F8",
            "linecolor": "#EBF0F8",
            "ticks": ""
           },
           "bgcolor": "white",
           "radialaxis": {
            "gridcolor": "#EBF0F8",
            "linecolor": "#EBF0F8",
            "ticks": ""
           }
          },
          "scene": {
           "xaxis": {
            "backgroundcolor": "white",
            "gridcolor": "#DFE8F3",
            "gridwidth": 2,
            "linecolor": "#EBF0F8",
            "showbackground": true,
            "ticks": "",
            "zerolinecolor": "#EBF0F8"
           },
           "yaxis": {
            "backgroundcolor": "white",
            "gridcolor": "#DFE8F3",
            "gridwidth": 2,
            "linecolor": "#EBF0F8",
            "showbackground": true,
            "ticks": "",
            "zerolinecolor": "#EBF0F8"
           },
           "zaxis": {
            "backgroundcolor": "white",
            "gridcolor": "#DFE8F3",
            "gridwidth": 2,
            "linecolor": "#EBF0F8",
            "showbackground": true,
            "ticks": "",
            "zerolinecolor": "#EBF0F8"
           }
          },
          "shapedefaults": {
           "line": {
            "color": "#2a3f5f"
           }
          },
          "ternary": {
           "aaxis": {
            "gridcolor": "#DFE8F3",
            "linecolor": "#A2B1C6",
            "ticks": ""
           },
           "baxis": {
            "gridcolor": "#DFE8F3",
            "linecolor": "#A2B1C6",
            "ticks": ""
           },
           "bgcolor": "white",
           "caxis": {
            "gridcolor": "#DFE8F3",
            "linecolor": "#A2B1C6",
            "ticks": ""
           }
          },
          "title": {
           "x": 0.05
          },
          "xaxis": {
           "automargin": true,
           "gridcolor": "#EBF0F8",
           "linecolor": "#EBF0F8",
           "ticks": "",
           "title": {
            "standoff": 15
           },
           "zerolinecolor": "#EBF0F8",
           "zerolinewidth": 2
          },
          "yaxis": {
           "automargin": true,
           "gridcolor": "#EBF0F8",
           "linecolor": "#EBF0F8",
           "ticks": "",
           "title": {
            "standoff": 15
           },
           "zerolinecolor": "#EBF0F8",
           "zerolinewidth": 2
          }
         }
        },
        "xaxis": {
         "anchor": "y",
         "domain": [
          0.0,
          0.98
         ],
         "title": {
          "text": "Frecuencia"
         }
        },
        "yaxis": {
         "anchor": "x",
         "domain": [
          0.0,
          0.17600000000000002
         ],
         "title": {
          "text": "Concepto"
         },
         "categoryorder": "array",
         "categoryarray": [
          "Metacognición",
          "Conexión vida diaria",
          "Lenguaje técnico",
          "Cierre formal",
          "Comparte solución",
          "Gestión de materiales",
          "Preparación de material",
          "Conceptos claves",
          "Conocimientos previos",
          "Presenta Ob"
         ]
        },
        "xaxis2": {
         "anchor": "y2",
         "domain": [
          0.0,
          0.98
         ],
         "matches": "x",
         "showticklabels": false
        },
        "yaxis2": {
         "anchor": "x2",
         "domain": [
          0.20600000000000002,
          0.382
         ],
         "matches": "y",
         "title": {
          "text": "Concepto"
         },
         "categoryorder": "array",
         "categoryarray": [
          "Metacognición",
          "Conexión vida diaria",
          "Lenguaje técnico",
          "Cierre formal",
          "Comparte solución",
          "Gestión de materiales",
          "Preparación de material",
          "Conceptos claves",
          "Conocimientos previos",
          "Presenta Ob"
         ]
        },
        "xaxis3": {
         "anchor": "y3",
         "domain": [
          0.0,
          0.98
         ],
         "matches": "x",
         "showticklabels": false
        },
        "yaxis3": {
         "anchor": "x3",
         "domain": [
          0.41200000000000003,
          0.5880000000000001
         ],
         "matches": "y",
         "title": {
          "text": "Concepto"
         },
         "categoryorder": "array",
         "categoryarray": [
          "Metacognición",
          "Conexión vida diaria",
          "Lenguaje técnico",
          "Cierre formal",
          "Comparte solución",
          "Gestión de materiales",
          "Preparación de material",
          "Conceptos claves",
          "Conocimientos previos",
          "Presenta Ob"
         ]
        },
        "xaxis4": {
         "anchor": "y4",
         "domain": [
          0.0,
          0.98
         ],
         "matches": "x",
         "showticklabels": false
        },
        "yaxis4": {
         "anchor": "x4",
         "domain": [
          0.618,
          0.794
         ],
         "matches": "y",
         "title": {
          "text": "Concepto"
         },
         "categoryorder": "array",
         "categoryarray": [
          "Metacognición",
          "Conexión vida diaria",
          "Lenguaje técnico",
          "Cierre formal",
          "Comparte solución",
          "Gestión de materiales",
          "Preparación de material",
          "Conceptos claves",
          "Conocimientos previos",
          "Presenta Ob"
         ]
        },
        "xaxis5": {
         "anchor": "y5",
         "domain": [
          0.0,
          0.98
         ],
         "matches": "x",
         "showticklabels": false
        },
        "yaxis5": {
         "anchor": "x5",
         "domain": [
          0.8240000000000001,
          1.0
         ],
         "matches": "y",
         "title": {
          "text": "Concepto"
         },
         "categoryorder": "array",
         "categoryarray": [
          "Metacognición",
          "Conexión vida diaria",
          "Lenguaje técnico",
          "Cierre formal",
          "Comparte solución",
          "Gestión de materiales",
          "Preparación de material",
          "Conceptos claves",
          "Conocimientos previos",
          "Presenta Ob"
         ]
        },
        "annotations": [
         {
          "font": {},
          "showarrow": false,
          "text": "Ficha=Sin respuesta",
          "textangle": 90,
          "x": 0.98,
          "xanchor": "left",
          "xref": "paper",
          "y": 0.08800000000000001,
          "yanchor": "middle",
          "yref": "paper"
         },
         {
          "font": {},
          "showarrow": false,
          "text": "Ficha=Ficha 4",
          "textangle": 90,
          "x": 0.98,
          "xanchor": "left",
          "xref": "paper",
          "y": 0.29400000000000004,
          "yanchor": "middle",
          "yref": "paper"
         },
         {
          "font": {},
          "showarrow": false,
          "text": "Ficha=Ficha 3",
          "textangle": 90,
          "x": 0.98,
          "xanchor": "left",
          "xref": "paper",
          "y": 0.5,
          "yanchor": "middle",
          "yref": "paper"
         },
         {
          "font": {},
          "showarrow": false,
          "text": "Ficha=Ficha 2",
          "textangle": 90,
          "x": 0.98,
          "xanchor": "left",
          "xref": "paper",
          "y": 0.706,
          "yanchor": "middle",
          "yref": "paper"
         },
         {
          "font": {},
          "showarrow": false,
          "text": "Ficha=Ficha 1",
          "textangle": 90,
          "x": 0.98,
          "xanchor": "left",
          "xref": "paper",
          "y": 0.912,
          "yanchor": "middle",
          "yref": "paper"
         }
        ],
        "legend": {
         "title": {
          "text": "Implementación"
         },
         "tracegroupgap": 0
        },
        "margin": {
         "t": 60
        },
        "barmode": "relative",
        "height": 1500,
        "width": 700
       },
       "config": {
        "plotlyServerURL": "https://plot.ly"
       }
      },
      "text/html": "<div>                            <div id=\"747d5570-3a39-4763-afc0-64cd3fd7bdc8\" class=\"plotly-graph-div\" style=\"height:1500px; width:700px;\"></div>            <script type=\"text/javascript\">                require([\"plotly\"], function(Plotly) {                    window.PLOTLYENV=window.PLOTLYENV || {};                                    if (document.getElementById(\"747d5570-3a39-4763-afc0-64cd3fd7bdc8\")) {                    Plotly.newPlot(                        \"747d5570-3a39-4763-afc0-64cd3fd7bdc8\",                        [{\"alignmentgroup\":\"True\",\"hovertemplate\":\"Implementaci\\u00f3n=Si<br>Ficha=Ficha 1<br>Frecuencia=%{x}<br>Concepto=%{y}<extra></extra>\",\"legendgroup\":\"Si\",\"marker\":{\"color\":\"rgb(102, 197, 204)\",\"pattern\":{\"shape\":\"\"}},\"name\":\"Si\",\"offsetgroup\":\"Si\",\"orientation\":\"h\",\"showlegend\":true,\"textposition\":\"auto\",\"x\":[0.3333333333333333,0.6666666666666666,0.16666666666666666,0.8333333333333334,1.0,0.6666666666666666,0.16666666666666666,1.0,0.8333333333333334],\"xaxis\":\"x5\",\"y\":[\"Comparte soluci\\u00f3n\",\"Conceptos claves\",\"Conexi\\u00f3n vida diaria\",\"Conocimientos previos\",\"Gesti\\u00f3n de materiales\",\"Lenguaje t\\u00e9cnico\",\"Metacognici\\u00f3n\",\"Preparaci\\u00f3n de material\",\"Presenta Ob\"],\"yaxis\":\"y5\",\"type\":\"bar\"},{\"alignmentgroup\":\"True\",\"hovertemplate\":\"Implementaci\\u00f3n=Si<br>Ficha=Ficha 2<br>Frecuencia=%{x}<br>Concepto=%{y}<extra></extra>\",\"legendgroup\":\"Si\",\"marker\":{\"color\":\"rgb(102, 197, 204)\",\"pattern\":{\"shape\":\"\"}},\"name\":\"Si\",\"offsetgroup\":\"Si\",\"orientation\":\"h\",\"showlegend\":false,\"textposition\":\"auto\",\"x\":[0.14285714285714285,0.42857142857142855,0.8571428571428571,0.7142857142857143,0.8571428571428571,0.8571428571428571,0.8571428571428571,0.2857142857142857,0.8571428571428571,0.8571428571428571],\"xaxis\":\"x4\",\"y\":[\"Cierre formal\",\"Comparte soluci\\u00f3n\",\"Conceptos claves\",\"Conexi\\u00f3n vida diaria\",\"Conocimientos previos\",\"Gesti\\u00f3n de materiales\",\"Lenguaje t\\u00e9cnico\",\"Metacognici\\u00f3n\",\"Preparaci\\u00f3n de material\",\"Presenta Ob\"],\"yaxis\":\"y4\",\"type\":\"bar\"},{\"alignmentgroup\":\"True\",\"hovertemplate\":\"Implementaci\\u00f3n=Si<br>Ficha=Ficha 3<br>Frecuencia=%{x}<br>Concepto=%{y}<extra></extra>\",\"legendgroup\":\"Si\",\"marker\":{\"color\":\"rgb(102, 197, 204)\",\"pattern\":{\"shape\":\"\"}},\"name\":\"Si\",\"offsetgroup\":\"Si\",\"orientation\":\"h\",\"showlegend\":false,\"textposition\":\"auto\",\"x\":[0.5,0.5,0.5,0.5,0.5,0.5,0.5,0.5,0.5],\"xaxis\":\"x3\",\"y\":[\"Comparte soluci\\u00f3n\",\"Conceptos claves\",\"Conexi\\u00f3n vida diaria\",\"Conocimientos previos\",\"Gesti\\u00f3n de materiales\",\"Lenguaje t\\u00e9cnico\",\"Metacognici\\u00f3n\",\"Preparaci\\u00f3n de material\",\"Presenta Ob\"],\"yaxis\":\"y3\",\"type\":\"bar\"},{\"alignmentgroup\":\"True\",\"hovertemplate\":\"Implementaci\\u00f3n=Si<br>Ficha=Ficha 4<br>Frecuencia=%{x}<br>Concepto=%{y}<extra></extra>\",\"legendgroup\":\"Si\",\"marker\":{\"color\":\"rgb(102, 197, 204)\",\"pattern\":{\"shape\":\"\"}},\"name\":\"Si\",\"offsetgroup\":\"Si\",\"orientation\":\"h\",\"showlegend\":false,\"textposition\":\"auto\",\"x\":[1.0,1.0,1.0],\"xaxis\":\"x2\",\"y\":[\"Gesti\\u00f3n de materiales\",\"Lenguaje t\\u00e9cnico\",\"Preparaci\\u00f3n de material\"],\"yaxis\":\"y2\",\"type\":\"bar\"},{\"alignmentgroup\":\"True\",\"hovertemplate\":\"Implementaci\\u00f3n=Si<br>Ficha=Sin respuesta<br>Frecuencia=%{x}<br>Concepto=%{y}<extra></extra>\",\"legendgroup\":\"Si\",\"marker\":{\"color\":\"rgb(102, 197, 204)\",\"pattern\":{\"shape\":\"\"}},\"name\":\"Si\",\"offsetgroup\":\"Si\",\"orientation\":\"h\",\"showlegend\":false,\"textposition\":\"auto\",\"x\":[0.25,0.25,0.5,0.25,0.5,1.0,0.25,0.25,1.0,0.75],\"xaxis\":\"x\",\"y\":[\"Cierre formal\",\"Comparte soluci\\u00f3n\",\"Conceptos claves\",\"Conexi\\u00f3n vida diaria\",\"Conocimientos previos\",\"Gesti\\u00f3n de materiales\",\"Lenguaje t\\u00e9cnico\",\"Metacognici\\u00f3n\",\"Preparaci\\u00f3n de material\",\"Presenta Ob\"],\"yaxis\":\"y\",\"type\":\"bar\"},{\"alignmentgroup\":\"True\",\"hovertemplate\":\"Implementaci\\u00f3n=Parcialmente<br>Ficha=Ficha 1<br>Frecuencia=%{x}<br>Concepto=%{y}<extra></extra>\",\"legendgroup\":\"Parcialmente\",\"marker\":{\"color\":\"rgb(246, 207, 113)\",\"pattern\":{\"shape\":\"\"}},\"name\":\"Parcialmente\",\"offsetgroup\":\"Parcialmente\",\"orientation\":\"h\",\"showlegend\":true,\"textposition\":\"auto\",\"x\":[0.5,0.3333333333333333,0.3333333333333333,0.6666666666666666,0.3333333333333333,0.16666666666666666],\"xaxis\":\"x5\",\"y\":[\"Cierre formal\",\"Comparte soluci\\u00f3n\",\"Conceptos claves\",\"Conexi\\u00f3n vida diaria\",\"Lenguaje t\\u00e9cnico\",\"Metacognici\\u00f3n\"],\"yaxis\":\"y5\",\"type\":\"bar\"},{\"alignmentgroup\":\"True\",\"hovertemplate\":\"Implementaci\\u00f3n=Parcialmente<br>Ficha=Ficha 2<br>Frecuencia=%{x}<br>Concepto=%{y}<extra></extra>\",\"legendgroup\":\"Parcialmente\",\"marker\":{\"color\":\"rgb(246, 207, 113)\",\"pattern\":{\"shape\":\"\"}},\"name\":\"Parcialmente\",\"offsetgroup\":\"Parcialmente\",\"orientation\":\"h\",\"showlegend\":false,\"textposition\":\"auto\",\"x\":[0.14285714285714285,0.14285714285714285,0.14285714285714285,0.42857142857142855,0.14285714285714285,0.14285714285714285],\"xaxis\":\"x4\",\"y\":[\"Cierre formal\",\"Comparte soluci\\u00f3n\",\"Lenguaje t\\u00e9cnico\",\"Metacognici\\u00f3n\",\"Preparaci\\u00f3n de material\",\"Presenta Ob\"],\"yaxis\":\"y4\",\"type\":\"bar\"},{\"alignmentgroup\":\"True\",\"hovertemplate\":\"Implementaci\\u00f3n=Parcialmente<br>Ficha=Ficha 3<br>Frecuencia=%{x}<br>Concepto=%{y}<extra></extra>\",\"legendgroup\":\"Parcialmente\",\"marker\":{\"color\":\"rgb(246, 207, 113)\",\"pattern\":{\"shape\":\"\"}},\"name\":\"Parcialmente\",\"offsetgroup\":\"Parcialmente\",\"orientation\":\"h\",\"showlegend\":false,\"textposition\":\"auto\",\"x\":[0.5,0.5,0.5],\"xaxis\":\"x3\",\"y\":[\"Cierre formal\",\"Conceptos claves\",\"Lenguaje t\\u00e9cnico\"],\"yaxis\":\"y3\",\"type\":\"bar\"},{\"alignmentgroup\":\"True\",\"hovertemplate\":\"Implementaci\\u00f3n=Parcialmente<br>Ficha=Sin respuesta<br>Frecuencia=%{x}<br>Concepto=%{y}<extra></extra>\",\"legendgroup\":\"Parcialmente\",\"marker\":{\"color\":\"rgb(246, 207, 113)\",\"pattern\":{\"shape\":\"\"}},\"name\":\"Parcialmente\",\"offsetgroup\":\"Parcialmente\",\"orientation\":\"h\",\"showlegend\":false,\"textposition\":\"auto\",\"x\":[0.25,0.5,0.25,0.25,0.75,0.5],\"xaxis\":\"x\",\"y\":[\"Cierre formal\",\"Conceptos claves\",\"Conexi\\u00f3n vida diaria\",\"Conocimientos previos\",\"Lenguaje t\\u00e9cnico\",\"Metacognici\\u00f3n\"],\"yaxis\":\"y\",\"type\":\"bar\"},{\"alignmentgroup\":\"True\",\"hovertemplate\":\"Implementaci\\u00f3n=No<br>Ficha=Ficha 1<br>Frecuencia=%{x}<br>Concepto=%{y}<extra></extra>\",\"legendgroup\":\"No\",\"marker\":{\"color\":\"rgb(248, 156, 116)\",\"pattern\":{\"shape\":\"\"}},\"name\":\"No\",\"offsetgroup\":\"No\",\"orientation\":\"h\",\"showlegend\":true,\"textposition\":\"auto\",\"x\":[0.5,0.3333333333333333,0.16666666666666666,0.16666666666666666,0.6666666666666666,0.16666666666666666],\"xaxis\":\"x5\",\"y\":[\"Cierre formal\",\"Comparte soluci\\u00f3n\",\"Conexi\\u00f3n vida diaria\",\"Conocimientos previos\",\"Metacognici\\u00f3n\",\"Presenta Ob\"],\"yaxis\":\"y5\",\"type\":\"bar\"},{\"alignmentgroup\":\"True\",\"hovertemplate\":\"Implementaci\\u00f3n=No<br>Ficha=Ficha 2<br>Frecuencia=%{x}<br>Concepto=%{y}<extra></extra>\",\"legendgroup\":\"No\",\"marker\":{\"color\":\"rgb(248, 156, 116)\",\"pattern\":{\"shape\":\"\"}},\"name\":\"No\",\"offsetgroup\":\"No\",\"orientation\":\"h\",\"showlegend\":false,\"textposition\":\"auto\",\"x\":[0.7142857142857143,0.42857142857142855,0.14285714285714285,0.2857142857142857,0.14285714285714285,0.14285714285714285,0.2857142857142857],\"xaxis\":\"x4\",\"y\":[\"Cierre formal\",\"Comparte soluci\\u00f3n\",\"Conceptos claves\",\"Conexi\\u00f3n vida diaria\",\"Conocimientos previos\",\"Gesti\\u00f3n de materiales\",\"Metacognici\\u00f3n\"],\"yaxis\":\"y4\",\"type\":\"bar\"},{\"alignmentgroup\":\"True\",\"hovertemplate\":\"Implementaci\\u00f3n=No<br>Ficha=Ficha 3<br>Frecuencia=%{x}<br>Concepto=%{y}<extra></extra>\",\"legendgroup\":\"No\",\"marker\":{\"color\":\"rgb(248, 156, 116)\",\"pattern\":{\"shape\":\"\"}},\"name\":\"No\",\"offsetgroup\":\"No\",\"orientation\":\"h\",\"showlegend\":false,\"textposition\":\"auto\",\"x\":[0.5,0.5,0.5,0.5,0.5,0.5,0.5,0.5],\"xaxis\":\"x3\",\"y\":[\"Cierre formal\",\"Comparte soluci\\u00f3n\",\"Conexi\\u00f3n vida diaria\",\"Conocimientos previos\",\"Gesti\\u00f3n de materiales\",\"Metacognici\\u00f3n\",\"Preparaci\\u00f3n de material\",\"Presenta Ob\"],\"yaxis\":\"y3\",\"type\":\"bar\"},{\"alignmentgroup\":\"True\",\"hovertemplate\":\"Implementaci\\u00f3n=No<br>Ficha=Ficha 4<br>Frecuencia=%{x}<br>Concepto=%{y}<extra></extra>\",\"legendgroup\":\"No\",\"marker\":{\"color\":\"rgb(248, 156, 116)\",\"pattern\":{\"shape\":\"\"}},\"name\":\"No\",\"offsetgroup\":\"No\",\"orientation\":\"h\",\"showlegend\":false,\"textposition\":\"auto\",\"x\":[1.0,1.0,1.0,1.0,1.0,1.0,1.0],\"xaxis\":\"x2\",\"y\":[\"Cierre formal\",\"Comparte soluci\\u00f3n\",\"Conceptos claves\",\"Conexi\\u00f3n vida diaria\",\"Conocimientos previos\",\"Metacognici\\u00f3n\",\"Presenta Ob\"],\"yaxis\":\"y2\",\"type\":\"bar\"},{\"alignmentgroup\":\"True\",\"hovertemplate\":\"Implementaci\\u00f3n=No<br>Ficha=Sin respuesta<br>Frecuencia=%{x}<br>Concepto=%{y}<extra></extra>\",\"legendgroup\":\"No\",\"marker\":{\"color\":\"rgb(248, 156, 116)\",\"pattern\":{\"shape\":\"\"}},\"name\":\"No\",\"offsetgroup\":\"No\",\"orientation\":\"h\",\"showlegend\":false,\"textposition\":\"auto\",\"x\":[0.5,0.75,0.5,0.25,0.25,0.25],\"xaxis\":\"x\",\"y\":[\"Cierre formal\",\"Comparte soluci\\u00f3n\",\"Conexi\\u00f3n vida diaria\",\"Conocimientos previos\",\"Metacognici\\u00f3n\",\"Presenta Ob\"],\"yaxis\":\"y\",\"type\":\"bar\"}],                        {\"template\":{\"data\":{\"barpolar\":[{\"marker\":{\"line\":{\"color\":\"white\",\"width\":0.5},\"pattern\":{\"fillmode\":\"overlay\",\"size\":10,\"solidity\":0.2}},\"type\":\"barpolar\"}],\"bar\":[{\"error_x\":{\"color\":\"#2a3f5f\"},\"error_y\":{\"color\":\"#2a3f5f\"},\"marker\":{\"line\":{\"color\":\"white\",\"width\":0.5},\"pattern\":{\"fillmode\":\"overlay\",\"size\":10,\"solidity\":0.2}},\"type\":\"bar\"}],\"carpet\":[{\"aaxis\":{\"endlinecolor\":\"#2a3f5f\",\"gridcolor\":\"#C8D4E3\",\"linecolor\":\"#C8D4E3\",\"minorgridcolor\":\"#C8D4E3\",\"startlinecolor\":\"#2a3f5f\"},\"baxis\":{\"endlinecolor\":\"#2a3f5f\",\"gridcolor\":\"#C8D4E3\",\"linecolor\":\"#C8D4E3\",\"minorgridcolor\":\"#C8D4E3\",\"startlinecolor\":\"#2a3f5f\"},\"type\":\"carpet\"}],\"choropleth\":[{\"colorbar\":{\"outlinewidth\":0,\"ticks\":\"\"},\"type\":\"choropleth\"}],\"contourcarpet\":[{\"colorbar\":{\"outlinewidth\":0,\"ticks\":\"\"},\"type\":\"contourcarpet\"}],\"contour\":[{\"colorbar\":{\"outlinewidth\":0,\"ticks\":\"\"},\"colorscale\":[[0.0,\"#0d0887\"],[0.1111111111111111,\"#46039f\"],[0.2222222222222222,\"#7201a8\"],[0.3333333333333333,\"#9c179e\"],[0.4444444444444444,\"#bd3786\"],[0.5555555555555556,\"#d8576b\"],[0.6666666666666666,\"#ed7953\"],[0.7777777777777778,\"#fb9f3a\"],[0.8888888888888888,\"#fdca26\"],[1.0,\"#f0f921\"]],\"type\":\"contour\"}],\"heatmapgl\":[{\"colorbar\":{\"outlinewidth\":0,\"ticks\":\"\"},\"colorscale\":[[0.0,\"#0d0887\"],[0.1111111111111111,\"#46039f\"],[0.2222222222222222,\"#7201a8\"],[0.3333333333333333,\"#9c179e\"],[0.4444444444444444,\"#bd3786\"],[0.5555555555555556,\"#d8576b\"],[0.6666666666666666,\"#ed7953\"],[0.7777777777777778,\"#fb9f3a\"],[0.8888888888888888,\"#fdca26\"],[1.0,\"#f0f921\"]],\"type\":\"heatmapgl\"}],\"heatmap\":[{\"colorbar\":{\"outlinewidth\":0,\"ticks\":\"\"},\"colorscale\":[[0.0,\"#0d0887\"],[0.1111111111111111,\"#46039f\"],[0.2222222222222222,\"#7201a8\"],[0.3333333333333333,\"#9c179e\"],[0.4444444444444444,\"#bd3786\"],[0.5555555555555556,\"#d8576b\"],[0.6666666666666666,\"#ed7953\"],[0.7777777777777778,\"#fb9f3a\"],[0.8888888888888888,\"#fdca26\"],[1.0,\"#f0f921\"]],\"type\":\"heatmap\"}],\"histogram2dcontour\":[{\"colorbar\":{\"outlinewidth\":0,\"ticks\":\"\"},\"colorscale\":[[0.0,\"#0d0887\"],[0.1111111111111111,\"#46039f\"],[0.2222222222222222,\"#7201a8\"],[0.3333333333333333,\"#9c179e\"],[0.4444444444444444,\"#bd3786\"],[0.5555555555555556,\"#d8576b\"],[0.6666666666666666,\"#ed7953\"],[0.7777777777777778,\"#fb9f3a\"],[0.8888888888888888,\"#fdca26\"],[1.0,\"#f0f921\"]],\"type\":\"histogram2dcontour\"}],\"histogram2d\":[{\"colorbar\":{\"outlinewidth\":0,\"ticks\":\"\"},\"colorscale\":[[0.0,\"#0d0887\"],[0.1111111111111111,\"#46039f\"],[0.2222222222222222,\"#7201a8\"],[0.3333333333333333,\"#9c179e\"],[0.4444444444444444,\"#bd3786\"],[0.5555555555555556,\"#d8576b\"],[0.6666666666666666,\"#ed7953\"],[0.7777777777777778,\"#fb9f3a\"],[0.8888888888888888,\"#fdca26\"],[1.0,\"#f0f921\"]],\"type\":\"histogram2d\"}],\"histogram\":[{\"marker\":{\"pattern\":{\"fillmode\":\"overlay\",\"size\":10,\"solidity\":0.2}},\"type\":\"histogram\"}],\"mesh3d\":[{\"colorbar\":{\"outlinewidth\":0,\"ticks\":\"\"},\"type\":\"mesh3d\"}],\"parcoords\":[{\"line\":{\"colorbar\":{\"outlinewidth\":0,\"ticks\":\"\"}},\"type\":\"parcoords\"}],\"pie\":[{\"automargin\":true,\"type\":\"pie\"}],\"scatter3d\":[{\"line\":{\"colorbar\":{\"outlinewidth\":0,\"ticks\":\"\"}},\"marker\":{\"colorbar\":{\"outlinewidth\":0,\"ticks\":\"\"}},\"type\":\"scatter3d\"}],\"scattercarpet\":[{\"marker\":{\"colorbar\":{\"outlinewidth\":0,\"ticks\":\"\"}},\"type\":\"scattercarpet\"}],\"scattergeo\":[{\"marker\":{\"colorbar\":{\"outlinewidth\":0,\"ticks\":\"\"}},\"type\":\"scattergeo\"}],\"scattergl\":[{\"marker\":{\"colorbar\":{\"outlinewidth\":0,\"ticks\":\"\"}},\"type\":\"scattergl\"}],\"scattermapbox\":[{\"marker\":{\"colorbar\":{\"outlinewidth\":0,\"ticks\":\"\"}},\"type\":\"scattermapbox\"}],\"scatterpolargl\":[{\"marker\":{\"colorbar\":{\"outlinewidth\":0,\"ticks\":\"\"}},\"type\":\"scatterpolargl\"}],\"scatterpolar\":[{\"marker\":{\"colorbar\":{\"outlinewidth\":0,\"ticks\":\"\"}},\"type\":\"scatterpolar\"}],\"scatter\":[{\"fillpattern\":{\"fillmode\":\"overlay\",\"size\":10,\"solidity\":0.2},\"type\":\"scatter\"}],\"scatterternary\":[{\"marker\":{\"colorbar\":{\"outlinewidth\":0,\"ticks\":\"\"}},\"type\":\"scatterternary\"}],\"surface\":[{\"colorbar\":{\"outlinewidth\":0,\"ticks\":\"\"},\"colorscale\":[[0.0,\"#0d0887\"],[0.1111111111111111,\"#46039f\"],[0.2222222222222222,\"#7201a8\"],[0.3333333333333333,\"#9c179e\"],[0.4444444444444444,\"#bd3786\"],[0.5555555555555556,\"#d8576b\"],[0.6666666666666666,\"#ed7953\"],[0.7777777777777778,\"#fb9f3a\"],[0.8888888888888888,\"#fdca26\"],[1.0,\"#f0f921\"]],\"type\":\"surface\"}],\"table\":[{\"cells\":{\"fill\":{\"color\":\"#EBF0F8\"},\"line\":{\"color\":\"white\"}},\"header\":{\"fill\":{\"color\":\"#C8D4E3\"},\"line\":{\"color\":\"white\"}},\"type\":\"table\"}]},\"layout\":{\"annotationdefaults\":{\"arrowcolor\":\"#2a3f5f\",\"arrowhead\":0,\"arrowwidth\":1},\"autotypenumbers\":\"strict\",\"coloraxis\":{\"colorbar\":{\"outlinewidth\":0,\"ticks\":\"\"}},\"colorscale\":{\"diverging\":[[0,\"#8e0152\"],[0.1,\"#c51b7d\"],[0.2,\"#de77ae\"],[0.3,\"#f1b6da\"],[0.4,\"#fde0ef\"],[0.5,\"#f7f7f7\"],[0.6,\"#e6f5d0\"],[0.7,\"#b8e186\"],[0.8,\"#7fbc41\"],[0.9,\"#4d9221\"],[1,\"#276419\"]],\"sequential\":[[0.0,\"#0d0887\"],[0.1111111111111111,\"#46039f\"],[0.2222222222222222,\"#7201a8\"],[0.3333333333333333,\"#9c179e\"],[0.4444444444444444,\"#bd3786\"],[0.5555555555555556,\"#d8576b\"],[0.6666666666666666,\"#ed7953\"],[0.7777777777777778,\"#fb9f3a\"],[0.8888888888888888,\"#fdca26\"],[1.0,\"#f0f921\"]],\"sequentialminus\":[[0.0,\"#0d0887\"],[0.1111111111111111,\"#46039f\"],[0.2222222222222222,\"#7201a8\"],[0.3333333333333333,\"#9c179e\"],[0.4444444444444444,\"#bd3786\"],[0.5555555555555556,\"#d8576b\"],[0.6666666666666666,\"#ed7953\"],[0.7777777777777778,\"#fb9f3a\"],[0.8888888888888888,\"#fdca26\"],[1.0,\"#f0f921\"]]},\"colorway\":[\"#636efa\",\"#EF553B\",\"#00cc96\",\"#ab63fa\",\"#FFA15A\",\"#19d3f3\",\"#FF6692\",\"#B6E880\",\"#FF97FF\",\"#FECB52\"],\"font\":{\"color\":\"#2a3f5f\"},\"geo\":{\"bgcolor\":\"white\",\"lakecolor\":\"white\",\"landcolor\":\"white\",\"showlakes\":true,\"showland\":true,\"subunitcolor\":\"#C8D4E3\"},\"hoverlabel\":{\"align\":\"left\"},\"hovermode\":\"closest\",\"mapbox\":{\"style\":\"light\"},\"paper_bgcolor\":\"white\",\"plot_bgcolor\":\"white\",\"polar\":{\"angularaxis\":{\"gridcolor\":\"#EBF0F8\",\"linecolor\":\"#EBF0F8\",\"ticks\":\"\"},\"bgcolor\":\"white\",\"radialaxis\":{\"gridcolor\":\"#EBF0F8\",\"linecolor\":\"#EBF0F8\",\"ticks\":\"\"}},\"scene\":{\"xaxis\":{\"backgroundcolor\":\"white\",\"gridcolor\":\"#DFE8F3\",\"gridwidth\":2,\"linecolor\":\"#EBF0F8\",\"showbackground\":true,\"ticks\":\"\",\"zerolinecolor\":\"#EBF0F8\"},\"yaxis\":{\"backgroundcolor\":\"white\",\"gridcolor\":\"#DFE8F3\",\"gridwidth\":2,\"linecolor\":\"#EBF0F8\",\"showbackground\":true,\"ticks\":\"\",\"zerolinecolor\":\"#EBF0F8\"},\"zaxis\":{\"backgroundcolor\":\"white\",\"gridcolor\":\"#DFE8F3\",\"gridwidth\":2,\"linecolor\":\"#EBF0F8\",\"showbackground\":true,\"ticks\":\"\",\"zerolinecolor\":\"#EBF0F8\"}},\"shapedefaults\":{\"line\":{\"color\":\"#2a3f5f\"}},\"ternary\":{\"aaxis\":{\"gridcolor\":\"#DFE8F3\",\"linecolor\":\"#A2B1C6\",\"ticks\":\"\"},\"baxis\":{\"gridcolor\":\"#DFE8F3\",\"linecolor\":\"#A2B1C6\",\"ticks\":\"\"},\"bgcolor\":\"white\",\"caxis\":{\"gridcolor\":\"#DFE8F3\",\"linecolor\":\"#A2B1C6\",\"ticks\":\"\"}},\"title\":{\"x\":0.05},\"xaxis\":{\"automargin\":true,\"gridcolor\":\"#EBF0F8\",\"linecolor\":\"#EBF0F8\",\"ticks\":\"\",\"title\":{\"standoff\":15},\"zerolinecolor\":\"#EBF0F8\",\"zerolinewidth\":2},\"yaxis\":{\"automargin\":true,\"gridcolor\":\"#EBF0F8\",\"linecolor\":\"#EBF0F8\",\"ticks\":\"\",\"title\":{\"standoff\":15},\"zerolinecolor\":\"#EBF0F8\",\"zerolinewidth\":2}}},\"xaxis\":{\"anchor\":\"y\",\"domain\":[0.0,0.98],\"title\":{\"text\":\"Frecuencia\"}},\"yaxis\":{\"anchor\":\"x\",\"domain\":[0.0,0.17600000000000002],\"title\":{\"text\":\"Concepto\"},\"categoryorder\":\"array\",\"categoryarray\":[\"Metacognici\\u00f3n\",\"Conexi\\u00f3n vida diaria\",\"Lenguaje t\\u00e9cnico\",\"Cierre formal\",\"Comparte soluci\\u00f3n\",\"Gesti\\u00f3n de materiales\",\"Preparaci\\u00f3n de material\",\"Conceptos claves\",\"Conocimientos previos\",\"Presenta Ob\"]},\"xaxis2\":{\"anchor\":\"y2\",\"domain\":[0.0,0.98],\"matches\":\"x\",\"showticklabels\":false},\"yaxis2\":{\"anchor\":\"x2\",\"domain\":[0.20600000000000002,0.382],\"matches\":\"y\",\"title\":{\"text\":\"Concepto\"},\"categoryorder\":\"array\",\"categoryarray\":[\"Metacognici\\u00f3n\",\"Conexi\\u00f3n vida diaria\",\"Lenguaje t\\u00e9cnico\",\"Cierre formal\",\"Comparte soluci\\u00f3n\",\"Gesti\\u00f3n de materiales\",\"Preparaci\\u00f3n de material\",\"Conceptos claves\",\"Conocimientos previos\",\"Presenta Ob\"]},\"xaxis3\":{\"anchor\":\"y3\",\"domain\":[0.0,0.98],\"matches\":\"x\",\"showticklabels\":false},\"yaxis3\":{\"anchor\":\"x3\",\"domain\":[0.41200000000000003,0.5880000000000001],\"matches\":\"y\",\"title\":{\"text\":\"Concepto\"},\"categoryorder\":\"array\",\"categoryarray\":[\"Metacognici\\u00f3n\",\"Conexi\\u00f3n vida diaria\",\"Lenguaje t\\u00e9cnico\",\"Cierre formal\",\"Comparte soluci\\u00f3n\",\"Gesti\\u00f3n de materiales\",\"Preparaci\\u00f3n de material\",\"Conceptos claves\",\"Conocimientos previos\",\"Presenta Ob\"]},\"xaxis4\":{\"anchor\":\"y4\",\"domain\":[0.0,0.98],\"matches\":\"x\",\"showticklabels\":false},\"yaxis4\":{\"anchor\":\"x4\",\"domain\":[0.618,0.794],\"matches\":\"y\",\"title\":{\"text\":\"Concepto\"},\"categoryorder\":\"array\",\"categoryarray\":[\"Metacognici\\u00f3n\",\"Conexi\\u00f3n vida diaria\",\"Lenguaje t\\u00e9cnico\",\"Cierre formal\",\"Comparte soluci\\u00f3n\",\"Gesti\\u00f3n de materiales\",\"Preparaci\\u00f3n de material\",\"Conceptos claves\",\"Conocimientos previos\",\"Presenta Ob\"]},\"xaxis5\":{\"anchor\":\"y5\",\"domain\":[0.0,0.98],\"matches\":\"x\",\"showticklabels\":false},\"yaxis5\":{\"anchor\":\"x5\",\"domain\":[0.8240000000000001,1.0],\"matches\":\"y\",\"title\":{\"text\":\"Concepto\"},\"categoryorder\":\"array\",\"categoryarray\":[\"Metacognici\\u00f3n\",\"Conexi\\u00f3n vida diaria\",\"Lenguaje t\\u00e9cnico\",\"Cierre formal\",\"Comparte soluci\\u00f3n\",\"Gesti\\u00f3n de materiales\",\"Preparaci\\u00f3n de material\",\"Conceptos claves\",\"Conocimientos previos\",\"Presenta Ob\"]},\"annotations\":[{\"font\":{},\"showarrow\":false,\"text\":\"Ficha=Sin respuesta\",\"textangle\":90,\"x\":0.98,\"xanchor\":\"left\",\"xref\":\"paper\",\"y\":0.08800000000000001,\"yanchor\":\"middle\",\"yref\":\"paper\"},{\"font\":{},\"showarrow\":false,\"text\":\"Ficha=Ficha 4\",\"textangle\":90,\"x\":0.98,\"xanchor\":\"left\",\"xref\":\"paper\",\"y\":0.29400000000000004,\"yanchor\":\"middle\",\"yref\":\"paper\"},{\"font\":{},\"showarrow\":false,\"text\":\"Ficha=Ficha 3\",\"textangle\":90,\"x\":0.98,\"xanchor\":\"left\",\"xref\":\"paper\",\"y\":0.5,\"yanchor\":\"middle\",\"yref\":\"paper\"},{\"font\":{},\"showarrow\":false,\"text\":\"Ficha=Ficha 2\",\"textangle\":90,\"x\":0.98,\"xanchor\":\"left\",\"xref\":\"paper\",\"y\":0.706,\"yanchor\":\"middle\",\"yref\":\"paper\"},{\"font\":{},\"showarrow\":false,\"text\":\"Ficha=Ficha 1\",\"textangle\":90,\"x\":0.98,\"xanchor\":\"left\",\"xref\":\"paper\",\"y\":0.912,\"yanchor\":\"middle\",\"yref\":\"paper\"}],\"legend\":{\"title\":{\"text\":\"Implementaci\\u00f3n\"},\"tracegroupgap\":0},\"margin\":{\"t\":60},\"barmode\":\"relative\",\"height\":1500,\"width\":700},                        {\"responsive\": true}                    ).then(function(){\n                            \nvar gd = document.getElementById('747d5570-3a39-4763-afc0-64cd3fd7bdc8');\nvar x = new MutationObserver(function (mutations, observer) {{\n        var display = window.getComputedStyle(gd).display;\n        if (!display || display === 'none') {{\n            console.log([gd, 'removed!']);\n            Plotly.purge(gd);\n            observer.disconnect();\n        }}\n}});\n\n// Listen for the removal of the full notebook cells\nvar notebookContainer = gd.closest('#notebook-container');\nif (notebookContainer) {{\n    x.observe(notebookContainer, {childList: true});\n}}\n\n// Listen for the clearing of the current output cell\nvar outputEl = gd.closest('.output');\nif (outputEl) {{\n    x.observe(outputEl, {childList: true});\n}}\n\n                        })                };                });            </script>        </div>"
     },
     "metadata": {},
     "output_type": "display_data"
    }
   ],
   "source": [
    "fig2 = px.bar(datp, y='Concepto',x='Frecuencia', color='Implementación', facet_row='Ficha', orientation='h', color_discrete_sequence=px.colors.qualitative.Pastel,\n",
    "                 template=\"plotly_white\", category_orders={'Implementación':['Si','Parcialmente','No'],\n",
    "                                                           'Concepto' : ['Presenta Ob', 'Conocimientos previos', 'Conceptos claves',\n",
    "       'Preparación de material', 'Gestión de materiales', 'Comparte solución',\n",
    "       'Cierre formal', 'Lenguaje técnico', 'Conexión vida diaria',\n",
    "       'Metacognición']}, height=1500, width=700)\n",
    "\n",
    "fig2"
   ],
   "metadata": {
    "collapsed": false,
    "pycharm": {
     "name": "#%%\n"
    }
   }
  },
  {
   "cell_type": "code",
   "execution_count": null,
   "outputs": [],
   "source": [],
   "metadata": {
    "collapsed": false,
    "pycharm": {
     "name": "#%%\n"
    }
   }
  }
 ],
 "metadata": {
  "kernelspec": {
   "display_name": "Python 3",
   "language": "python",
   "name": "python3"
  },
  "language_info": {
   "codemirror_mode": {
    "name": "ipython",
    "version": 2
   },
   "file_extension": ".py",
   "mimetype": "text/x-python",
   "name": "python",
   "nbconvert_exporter": "python",
   "pygments_lexer": "ipython2",
   "version": "2.7.6"
  }
 },
 "nbformat": 4,
 "nbformat_minor": 0
}