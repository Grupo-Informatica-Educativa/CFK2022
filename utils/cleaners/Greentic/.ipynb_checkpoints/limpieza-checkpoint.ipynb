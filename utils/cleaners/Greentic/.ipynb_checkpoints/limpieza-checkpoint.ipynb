{
 "cells": [
  {
   "cell_type": "code",
   "execution_count": 55,
   "id": "50bf8704-030f-477d-8e1b-d15dca7b8409",
   "metadata": {},
   "outputs": [],
   "source": [
    "import pandas as pd"
   ]
  },
  {
   "cell_type": "code",
   "execution_count": 105,
   "id": "e9bbb5cf-de19-4476-a037-b72488f296d0",
   "metadata": {},
   "outputs": [],
   "source": [
    "df= pd.read_excel(\"Encuesta GreenTIC (respuestas).xlsx\",sheet_name=1)"
   ]
  },
  {
   "cell_type": "code",
   "execution_count": 106,
   "id": "28a815be-e117-4093-9262-6a977a6821ab",
   "metadata": {},
   "outputs": [],
   "source": [
    "df['Marca temporal'] = pd.to_datetime(df['Marca temporal'])\n",
    "#df['Fecha'] = df['Marca temporal'].Timestamp.dt.strftime('%d/%m')\n",
    "#df=df.drop([0], axis=0)\n",
    "\n",
    "df['N registro']=df.index\n",
    "df['N registro'] = \"GT\"+df['N registro'].astype(str)\n",
    "df['Instrumento'] = 'Encuesta estudiantes'\n",
    "df['ID']=0\n",
    "\n",
    "df=df.set_axis(range(0,73), axis=1)"
   ]
  },
  {
   "cell_type": "code",
   "execution_count": 107,
   "id": "18cd4803-3699-4529-bce1-70e9ee6da62e",
   "metadata": {},
   "outputs": [],
   "source": [
    "dict_col={0:'Fecha',2:'Nombre',\n",
    " 3:'Código IE',\n",
    " 5:'Grado',6:'Grupo',\n",
    " 4:'Número de lista',\n",
    " 7:'Edad',\n",
    " 1:'Deseo participar en el estudio',8:'Sexo',9:'¿Te reconoces como una persona con algún tipo de discapacidad?',\n",
    " 10:'Sector vivienda',\n",
    " 11:'Internet',\n",
    " 12:'Uso del dispositivo móvil',13:'Conoce GreenTIC',\n",
    " 14:'Nivel escolaridad madre',\n",
    " 15:'Nivel escolaridad padre',\n",
    " 16:'Ocupación madre',\n",
    " 17:'Ocupación padre', \n",
    " 18:'¿Con quién vives?',19:'1.1. Ingeniería',21:'1.2 Matemáticas',22:'1.3 Educación',23:'1.4 Medicina',24:'1.5 Diseño gráfico',\n",
    " 25:'1.6 Química',26:'1.7 Enfermería',20: '1.8 Desarrollo de software',27: '2.1 Soy capaz de sacar buenas notas en esta asignatura',\n",
    " 28:'2.2 Si me va bien en esta asignatura, me ayudará en mi futura ocupación',\n",
    " 29:'2.3 A mis padres les gustaría que eligiera un futuro profesional relacionado a esta asignatura',\n",
    "30:'2.4 Sé de alguien en mi familia que utiliza conocimientos relacionados a esta asignatura en su ocupación',\n",
    "31:'Comentarios 1-2',32: 'Un algoritmo es:',33: '¿Para qué sirven los algoritmos?',34: 'Un bucle es:',35:'3.1 Siento que soy capaz de explicar lo que es el pensamiento computacional',\n",
    " 36:'3.2 Siento que puedo enumerar las sub-habilidades que componen el pensamiento computacional',\n",
    " 37:'3.3 Siento que soy capaz de dar ejemplos para explicar las sub-habilidades del pensamiento computacional',\n",
    " 38:'3.4 Siento que puedo explicar la forma en que las sub-habilidades del pensamiento computacional se correlacionan con la programación',\n",
    " 39:'3.5 Siento que puedo analizar un ejercicio y determinar qué sub-habilidades de pensamiento computacional busca desarrollar',\n",
    " 40:'3.6 Siento que puedo resolver problemas a través de programación',\n",
    " 41:'3.7 Siento que puedo implementar algoritmos',\n",
    " 42:'3.8 Siento que puedo crear un programa de computador',\n",
    " 43:'3.9 Siento que puedo automatizar tareas a través de la programación',\n",
    " 44:'3.10 Siento que puedo utilizar la computación para resolver problemas simples',45:'Comentarios P3',\n",
    "46:'¿Cuál de las siguientes opciones sí le permite al robot completar la misión de fotografiar cada tortuga?',47:'¿Qué mensaje deseaba enviar la líder Wayuú?',\n",
    " 48:'¿Cuál de los siguientes códigos permite que el robot complete su misión sembrando café?', 49: '¿Cuál será la foto con más vistas?',\n",
    " 50:'Ayuda al robot verde a salir del laberinto', \n",
    "51: 'Óscar lleva 2 loncheras a la escuela todos los días ¿Cuál de las siguientes afirmaciones es falsa?',\n",
    " 52:'¿Cuál de las siguientes hamburguesas tiene los ingredientes A, E y F?', 53:'¿Qué botella debe cambiarse de color para que el resultado final sea una botella de color blanco?',\n",
    " 54:'Comentarios conocimiento', 55:'5.1 ¿Quién crees que ganará el concurso de matemáticas?', 56:'5.2 ¿Quién crees que es capitán del barco?',57:'5.3 ¿Quién es la persona excluida de la construcción de la casa de madera?',\n",
    " 58: '5.4 ¿Quién crees que es el personaje que está sentado y esperando junto a la ventana?',\n",
    " 59:'5.5 ¿Quién es la persona que trabaja en educación?',\n",
    " 60:'5.6 ¿Quién crees que es la persona que prefiere estudiar ingeniería?',\n",
    " 61:'Comentarios género',        \n",
    " 62:'4.1 Es alarmante que el ritmo de desaparición de especies en la Amazonia Colombiana sea cada vez mayor.',\n",
    " 63:'4.2 El aumento de la temperatura atmosférica se debe al uso creciente y continuado de combustibles fósiles (carbón, petróleo…).',\n",
    " 64: '4.3 La acumulación de basura procedente de las ciudades es un problema realmente grave.',\n",
    " 65: '4.4 Hay una disminución de la superficie forestal y de áreas naturales en el país.',\n",
    " 66: '4.5 El planeta está tan contaminado por productos químicos que ya supone un problema para la salud.',\n",
    " 67: '4.6 Conozco los riesgos que representa para la vida humana la desaparición de especies animales y vegetales.',\n",
    " 68: '4.7 Me preocupa lo que sucede con la tala de árboles.',\n",
    " 69:'Comentarios medioambiente',70:'N registro',71:'Instrumento',72:'ID'}\n",
    "df= df.rename(columns=dict_col)"
   ]
  },
  {
   "cell_type": "code",
   "execution_count": 108,
   "id": "8f38fcd3-b764-4fb1-aa57-9f0067f94094",
   "metadata": {},
   "outputs": [],
   "source": [
    "new_index=['N registro','Deseo participar en el estudio', 'Código IE', 'Grupo',\n",
    "'Nombre',  'Fecha', 'ID','Número de lista', 'Edad', 'Sexo', 'Sector vivienda', 'Internet',\n",
    "       'Uso del dispositivo móvil', 'Nivel escolaridad madre',\n",
    "       'Nivel escolaridad padre', 'Ocupación madre', 'Ocupación padre',\n",
    "       '¿Con quién vives?', 'Grado', '1.1. Ingeniería', '1.2 Matemáticas', '1.3 Educación', '1.4 Medicina',\n",
    "        '1.5 Diseño gráfico', '1.6 Química', '1.7 Enfermería',\n",
    " '1.8 Desarrollo de software',\n",
    "       '2.1 Soy capaz de sacar buenas notas en esta asignatura',\n",
    "       '2.2 Si me va bien en esta asignatura, me ayudará en mi futura ocupación',\n",
    "       '2.3 A mis padres les gustaría que eligiera un futuro profesional relacionado a esta asignatura',\n",
    "       '2.4 Sé de alguien en mi familia que utiliza conocimientos relacionados a esta asignatura en su ocupación',\n",
    "       'Comentarios 1-2', 'Un algoritmo es:',\n",
    "       '¿Para qué sirven los algoritmos?', 'Un bucle es:',\n",
    "       '3.1 Siento que soy capaz de explicar lo que es el pensamiento computacional',\n",
    "       '3.2 Siento que puedo enumerar las sub-habilidades que componen el pensamiento computacional',\n",
    "       '3.3 Siento que soy capaz de dar ejemplos para explicar las sub-habilidades del pensamiento computacional',\n",
    "       '3.4 Siento que puedo explicar la forma en que las sub-habilidades del pensamiento computacional se correlacionan con la programación',\n",
    "       '3.5 Siento que puedo analizar un ejercicio y determinar qué sub-habilidades de pensamiento computacional busca desarrollar',\n",
    "       '3.6 Siento que puedo resolver problemas a través de programación',\n",
    "       '3.7 Siento que puedo implementar algoritmos',\n",
    "       '3.8 Siento que puedo crear un programa de computador',\n",
    "       '3.9 Siento que puedo automatizar tareas a través de la programación',\n",
    "       '3.10 Siento que puedo utilizar la computación para resolver problemas simples',\n",
    "       'Comentarios P3',\n",
    "       '¿Cuál de las siguientes opciones sí le permite al robot completar la misión de fotografiar cada tortuga?',\n",
    "       '¿Qué mensaje deseaba enviar la líder Wayuú?',\n",
    "       '¿Cuál de los siguientes códigos permite que el robot complete su misión sembrando café?',\n",
    "       '¿Cuál será la foto con más vistas?',\n",
    "       'Ayuda al robot verde a salir del laberinto',\n",
    "       'Óscar lleva 2 loncheras a la escuela todos los días ¿Cuál de las siguientes afirmaciones es falsa?',\n",
    "       '¿Cuál de las siguientes hamburguesas tiene los ingredientes A, E y F?',\n",
    "       '¿Qué botella debe cambiarse de color para que el resultado final sea una botella de color blanco?',\n",
    "       'Comentarios conocimiento',\n",
    "       '5.1 ¿Quién crees que ganará el concurso de matemáticas?',\n",
    "       '5.2 ¿Quién crees que es capitán del barco?',\n",
    "       '5.3 ¿Quién es la persona excluida de la construcción de la casa de madera?',\n",
    "       '5.4 ¿Quién crees que es el personaje que está sentado y esperando junto a la ventana?',\n",
    "       '5.5 ¿Quién es la persona que trabaja en educación?',\n",
    "       '5.6 ¿Quién crees que es la persona que prefiere estudiar ingeniería?',\n",
    "       'Comentarios género',\n",
    "       '4.1 Es alarmante que el ritmo de desaparición de especies en la Amazonia Colombiana sea cada vez mayor.',\n",
    "       '4.2 El aumento de la temperatura atmosférica se debe al uso creciente y continuado de combustibles fósiles (carbón, petróleo…).',\n",
    "       '4.3 La acumulación de basura procedente de las ciudades es un problema realmente grave.',\n",
    "       '4.4 Hay una disminución de la superficie forestal y de áreas naturales en el país.',\n",
    "       '4.5 El planeta está tan contaminado por productos químicos que ya supone un problema para la salud.',\n",
    "       '4.6 Conozco los riesgos que representa para la vida humana la desaparición de especies animales y vegetales.',\n",
    "       '4.7 Me preocupa lo que sucede con la tala de árboles.',\n",
    "       'Comentarios medioambiente',\n",
    "       'Tipo de discapacidad',\n",
    "       '¿Te reconoces como una persona con algún tipo de discapacidad?',\n",
    "       'Conoce GreenTIC', 'Instrumento']\n",
    "df=df.reindex(new_index, axis='columns')\n",
    "df1=df1.reindex(new_index, axis='columns')"
   ]
  },
  {
   "cell_type": "code",
   "execution_count": 109,
   "id": "eec2d79c-e22e-476d-b2bf-3c3c4a30fca3",
   "metadata": {},
   "outputs": [],
   "source": [
    "df1=df.copy()\n",
    "diccionariogrados={'Noveno':\"09\", 'Octavo':\"08\", 'Sexto':\"06\", 'Décimo':\"10\", 'Séptimo':\"07\", 'Once':\"11\", 'Quinto':\"05\"}\n",
    "df1['Grado']=df1['Grado'].replace(diccionariogrados)"
   ]
  },
  {
   "cell_type": "code",
   "execution_count": 110,
   "id": "37eecc75-295a-4316-a361-c292c1ee7c6f",
   "metadata": {},
   "outputs": [],
   "source": [
    "df1['Número de lista']=df1['Número de lista'].astype(float).astype(int)\n",
    "df1=df1[df1['Número de lista']<100]\n",
    "df1=df1[df1['Número de lista']>0]\n",
    "df1['Número de lista']=df1['Número de lista'].astype(str)"
   ]
  },
  {
   "cell_type": "code",
   "execution_count": 111,
   "id": "4f4d844a-928d-4b52-a98e-6d80eba48786",
   "metadata": {},
   "outputs": [],
   "source": [
    "df1['Grupo']=df1['Grupo'].str.capitalize()\n",
    "df1['Grupo']=df1['Grupo'].str.replace(\"í\",\"i\")\n",
    "df1['Grupo']=df1['Grupo'].str.replace(\" \",\"\")\n",
    "diccionariogrupos1={'Bo02':\"02\", 'Ao01':\"01\",'Co03':\"03\", 'Do04':\"04\", 'Eo05':\"05\", 'Fo06':\"06\", 'Go07':\"07\", 'Ho08':\"08\", 'Io09':\"09\", 'Jo10':\"10\", 'Ko11':\"11\", 'Lo12':\"12\"}\n",
    "df1['Grupo']=df1['Grupo'].replace(diccionariogrupos1)"
   ]
  },
  {
   "cell_type": "code",
   "execution_count": 112,
   "id": "b7f8e18e-e7db-497c-914a-ec0a5cc54eff",
   "metadata": {},
   "outputs": [
    {
     "data": {
      "text/plain": [
       "array(['MD', '01', '10', '02', '03'], dtype=object)"
      ]
     },
     "execution_count": 112,
     "metadata": {},
     "output_type": "execute_result"
    }
   ],
   "source": [
    "df1[\"Grupo\"]=df1[\"Grupo\"].replace(r'[M](.*)',\"MD\",regex=True)\n",
    "df1=df1.dropna(subset=[\"Grupo\"], inplace=False)\n",
    "df1['Grupo'].unique()"
   ]
  },
  {
   "cell_type": "code",
   "execution_count": 113,
   "id": "16cdd076-4c83-425d-9469-1b158cdacc77",
   "metadata": {},
   "outputs": [
    {
     "data": {
      "text/plain": [
       "array(['3360', '3060', '3368', '7778', '7878'], dtype=object)"
      ]
     },
     "execution_count": 113,
     "metadata": {},
     "output_type": "execute_result"
    }
   ],
   "source": [
    "df1['Código IE']=df1['Código IE'].astype(int).astype(str)\n",
    "df1['Código IE'].unique()"
   ]
  },
  {
   "cell_type": "code",
   "execution_count": 114,
   "id": "1cdf06c0-9261-4d35-b4c3-08502cec08b2",
   "metadata": {},
   "outputs": [],
   "source": [
    "df1['Número de lista']=df1['Número de lista'].astype(str).str.zfill(2)\n",
    "df1['Grupo']=df1['Grupo'].astype(str).str.zfill(2)\n",
    "df1['Código IE']=df1['Código IE'].astype(str).str.zfill(3)\n",
    "df1['Grado']=df1['Grado'].astype(str).str.zfill(2)\n",
    "df1['ID']=df1['Código IE']+df1['Grado']+df1['Grupo']+df1['Número de lista']"
   ]
  },
  {
   "cell_type": "code",
   "execution_count": 116,
   "id": "7aafff34-5895-4c5b-afa9-523d4a0464d0",
   "metadata": {},
   "outputs": [],
   "source": [
    "registroseliminados=set(df['N registro']).difference(set(df1['N registro']))\n",
    "dfe=df[df['N registro'].isin(registroseliminados)]\n",
    "dfe.to_excel(\"Eliminados_Estudiantes_Desconectadas.xlsx\", index=False)\n",
    "df1.to_excel(\"Estudiantes desconectadas.xlsx\",index=False)"
   ]
  }
 ],
 "metadata": {
  "kernelspec": {
   "display_name": "Python 3 (ipykernel)",
   "language": "python",
   "name": "python3"
  },
  "language_info": {
   "codemirror_mode": {
    "name": "ipython",
    "version": 3
   },
   "file_extension": ".py",
   "mimetype": "text/x-python",
   "name": "python",
   "nbconvert_exporter": "python",
   "pygments_lexer": "ipython3",
   "version": "3.10.4"
  }
 },
 "nbformat": 4,
 "nbformat_minor": 5
}
