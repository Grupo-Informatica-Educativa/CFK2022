{
 "cells": [
  {
   "cell_type": "code",
   "execution_count": 2,
   "id": "50bf8704-030f-477d-8e1b-d15dca7b8409",
   "metadata": {},
   "outputs": [],
   "source": [
    "import pandas as pd"
   ]
  },
  {
   "cell_type": "code",
   "execution_count": 114,
   "id": "e9bbb5cf-de19-4476-a037-b72488f296d0",
   "metadata": {},
   "outputs": [],
   "source": [
    "df0= pd.read_excel(\"Encuesta GreenTIC (respuestas).xlsx\",sheet_name=1)\n",
    "df0['n registro']=df0.index\n",
    "df0['Número de lista'] = df0['Número de lista'].astype(str)"
   ]
  },
  {
   "cell_type": "code",
   "execution_count": 115,
   "id": "eec2d79c-e22e-476d-b2bf-3c3c4a30fca3",
   "metadata": {},
   "outputs": [],
   "source": [
    "df1=df0.copy()\n",
    "diccionariogrados={'Noveno':\"09\", 'Octavo':\"08\", 'Sexto':\"06\", 'Décimo':\"10\", 'Séptimo':\"07\", 'Once':\"11\", 'Quinto':\"05\"}\n",
    "df1['Grado']=df1['Grado'].replace(diccionariogrados)"
   ]
  },
  {
   "cell_type": "code",
   "execution_count": 116,
   "id": "37eecc75-295a-4316-a361-c292c1ee7c6f",
   "metadata": {},
   "outputs": [],
   "source": [
    "df1['Número de lista']=df1['Número de lista'].astype(float).astype(int)\n",
    "df1=df1[df1['Número de lista']<100]\n",
    "df1=df1[df1['Número de lista']>0]\n",
    "df1['Número de lista']=df1['Número de lista'].astype(str)"
   ]
  },
  {
   "cell_type": "code",
   "execution_count": 117,
   "id": "4f4d844a-928d-4b52-a98e-6d80eba48786",
   "metadata": {},
   "outputs": [
    {
     "data": {
      "text/plain": [
       "array(['Mediadanza', 'Mediadanzas', '01', 'Media', 'Mediadedanzas', '10',\n",
       "       '02', '03', nan], dtype=object)"
      ]
     },
     "execution_count": 117,
     "metadata": {},
     "output_type": "execute_result"
    }
   ],
   "source": [
    "df1['Grupo']=df1['Grupo'].str.capitalize()\n",
    "df1['Grupo']=df1['Grupo'].str.replace(\"í\",\"i\")\n",
    "df1['Grupo']=df1['Grupo'].str.replace(\" \",\"\")\n",
    "diccionariogrupos1={'Bo02':\"02\", 'Ao01':\"01\",'Co03':\"03\", 'Do04':\"04\", 'Eo05':\"05\", 'Fo06':\"06\", 'Go07':\"07\", 'Ho08':\"08\", 'Io09':\"09\", 'Jo10':\"10\", 'Ko11':\"11\", 'Lo12':\"12\"}\n",
    "df1['Grupo']=df1['Grupo'].replace(diccionariogrupos1)\n",
    "df1['Grupo'].unique()"
   ]
  },
  {
   "cell_type": "code",
   "execution_count": 121,
   "id": "16cdd076-4c83-425d-9469-1b158cdacc77",
   "metadata": {},
   "outputs": [
    {
     "data": {
      "text/plain": [
       "array(['3360', '3060', '3368', '7778', '7878'], dtype=object)"
      ]
     },
     "execution_count": 121,
     "metadata": {},
     "output_type": "execute_result"
    }
   ],
   "source": [
    "df1['Código de tu colegio']=df1['Código de tu colegio'].astype(int).astype(str)\n",
    "df1['Código de tu colegio'].unique()"
   ]
  }
 ],
 "metadata": {
  "kernelspec": {
   "display_name": "Python 3 (ipykernel)",
   "language": "python",
   "name": "python3"
  },
  "language_info": {
   "codemirror_mode": {
    "name": "ipython",
    "version": 3
   },
   "file_extension": ".py",
   "mimetype": "text/x-python",
   "name": "python",
   "nbconvert_exporter": "python",
   "pygments_lexer": "ipython3",
   "version": "3.10.4"
  }
 },
 "nbformat": 4,
 "nbformat_minor": 5
}
