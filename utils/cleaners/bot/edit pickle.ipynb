{
 "cells": [
  {
   "cell_type": "code",
   "execution_count": 1,
   "metadata": {
    "collapsed": true
   },
   "outputs": [],
   "source": [
    "import pandas as pd\n",
    "import pickle"
   ]
  },
  {
   "cell_type": "code",
   "execution_count": 26,
   "outputs": [],
   "source": [
    "with open('columnas_docentes.pkl', 'rb') as handle:\n",
    "    dict_col_est = pickle.load(handle)"
   ],
   "metadata": {
    "collapsed": false,
    "pycharm": {
     "name": "#%%\n"
    }
   }
  },
  {
   "cell_type": "code",
   "execution_count": 27,
   "outputs": [
    {
     "data": {
      "text/plain": "{'Timestamp': 'Timestamp',\n 'Acepta la política de tratamiento de datos': 'Política de datos',\n 'Código de la institución educativa suministrado por el proyecto ': 'Código IE',\n 'Tipo de documento': 'Tipo ID',\n 'Número de documento': 'ID',\n 'Correo electrónico ': 'Email',\n 'Edad (años)': 'Edad',\n 'Sexo': 'Sexo',\n '¿Es usted cabeza de hogar?': 'Cabeza de hogar',\n '¿Cuál es su estado civil?': 'Estado civil',\n '¿Es usted líder comunitario?': 'Líder comunitario',\n '¿Ha recibido formación en Pensamiento Computacional dentro del programa Programación para Niños y Niñas?': 'Formado CFK',\n '¿Está implementando alguna de las fichas que hacen parte del programa Programación para Niños y Niñas?': 'Implementa fichas',\n '¿Ha recibido formación profesional y/o continua en tecnología e informática?': 'Formado tecnología e informática',\n '¿Cuáles de las siguientes áreas enseña y en qué grado? [Ciencias naturales y educación ambiental.]': '¿Cuáles de las siguientes áreas enseña y en qué grado? [Ciencias naturales y educación ambiental.]',\n '¿Cuáles de las siguientes áreas enseña y en qué grado? [Ciencias sociales, historia, geografía, constitución política y democracia.]': '¿Cuáles de las siguientes áreas enseña y en qué grado? [Ciencias sociales, historia, geografía, constitución política y democracia.]',\n '¿Cuáles de las siguientes áreas enseña y en qué grado? [Educación artística.]': '¿Cuáles de las siguientes áreas enseña y en qué grado? [Educación artística.]',\n '¿Cuáles de las siguientes áreas enseña y en qué grado? [Educación ética y en valores humanos.]': '¿Cuáles de las siguientes áreas enseña y en qué grado? [Educación ética y en valores humanos.]',\n '¿Cuáles de las siguientes áreas enseña y en qué grado? [Educación física, recreación y deportes.]': '¿Cuáles de las siguientes áreas enseña y en qué grado? [Educación física, recreación y deportes.]',\n '¿Cuáles de las siguientes áreas enseña y en qué grado? [Educación religiosa.]': '¿Cuáles de las siguientes áreas enseña y en qué grado? [Educación religiosa.]',\n '¿Cuáles de las siguientes áreas enseña y en qué grado? [Humanidades, lengua castellana e idiomas extranjeros.]': '¿Cuáles de las siguientes áreas enseña y en qué grado? [Humanidades, lengua castellana e idiomas extranjeros.]',\n '¿Cuáles de las siguientes áreas enseña y en qué grado? [Matemáticas.]': '¿Cuáles de las siguientes áreas enseña y en qué grado? [Matemáticas.]',\n '¿Cuáles de las siguientes áreas enseña y en qué grado? [Tecnología e informática.]': '¿Cuáles de las siguientes áreas enseña y en qué grado? [Tecnología e informática.]',\n '¿Cuáles de las siguientes áreas enseña y en qué grado? [Otro]': '¿Cuáles de las siguientes áreas enseña y en qué grado? [Otro]',\n '¿De acuerdo con lo anterior, usted es docente de áreas STEM (ciencias naturales, matemática, tecnología e informática) o No STEM (ciencias sociales, artística, educación física, educación religiosa, humanidades e idiomas extranjeros)?': 'Enseña STEM',\n '¿Su formación básica es en áreas STEM (ciencias naturales, matemática, tecnología e informática) o No STEM (ciencias sociales, artística, educación física, educación religiosa, humanidades e idiomas extranjeros)?': 'Formado STEM',\n '¿En qué medida considera usted que es importante enseñar el pensamiento computacional desde los primeros niveles educativos?': 'Considera importante enseñar el pensamiento computacional desde los primeros niveles educativos',\n 'Por favor evalúe los siguientes enunciados de acuerdo con su experiencia [Siento que puedo aplicar las prácticas y habilidades del pensamiento computacional a mi trabajo]': '1.1 Siento que puedo aplicar las prácticas y habilidades del pensamiento computacional a mi trabajo',\n 'Por favor evalúe los siguientes enunciados de acuerdo con su experiencia [Siento que puedo definir el pensamiento computacional]': '1.2 Siento que puedo definir el pensamiento computacional',\n 'Por favor evalúe los siguientes enunciados de acuerdo con su experiencia [Siento que puedo describir las prácticas y habilidades que componen el pensamiento computacional a mis estudiantes]': '1.3 Siento que puedo describir las prácticas y habilidades que componen el pensamiento computacional a mis estudiantes',\n 'Por favor evalúe los siguientes enunciados de acuerdo con su experiencia [Siento que puedo aplicar las prácticas y habilidades del pensamiento computacional a mi vida diaria]': '1.4 Siento que puedo aplicar las prácticas y habilidades del pensamiento computacional a mi vida diaria',\n 'Por favor evalúe los siguientes enunciados de acuerdo con su experiencia [Creo que tengo las habilidades para desarrollar el pensamiento computacional en mis estudiantes]': '2.1 Creo que tengo las habilidades para desarrollar el pensamiento computacional en mis estudiantes',\n 'Por favor evalúe los siguientes enunciados de acuerdo con su experiencia [Siento que puedo enseñar fácilmente sobre nuevas prácticas computacionales]': '2.2 Siento que puedo enseñar fácilmente sobre nuevas prácticas computacionales',\n 'Por favor evalúe los siguientes enunciados de acuerdo con su experiencia [Siento que puedo diseñar una clase que desarrolle el pensamiento computacional en los estudiantes]': '2.3 Siento que puedo diseñar una clase que desarrolle el pensamiento computacional en los estudiantes',\n 'Por favor evalúe los siguientes enunciados de acuerdo con su experiencia [Siento que puedo aplicar mis habilidades en pensamiento computacional para ayudar a los estudiantes a perseguir sus intereses individuales]': '2.4 Siento que puedo aplicar mis habilidades en pensamiento computacional para ayudar a los estudiantes a perseguir sus intereses individuales',\n 'Por favor evalúe los siguientes enunciados de acuerdo con su experiencia [Siento que puedo evaluar la idoneidad de una estrategia pedagógica para desarrollar pensamiento computacional]': '2.5 Siento que puedo evaluar la idoneidad de una estrategia pedagógica para desarrollar pensamiento computacional',\n 'Por favor evalúe las siguientes afirmaciones según su experiencia [El colegio ofrece espacios adicionales para fomentar el pensamiento computacional]': '3.1 El colegio ofrece espacios adicionales para fomentar el pensamiento computacional',\n 'Por favor evalúe las siguientes afirmaciones según su experiencia [En la programación anual del colegio existen actividades asociadas al pensamiento computacional]': '3.2 En la programación anual del colegio existen actividades asociadas al pensamiento computacional',\n 'Por favor evalúe las siguientes afirmaciones según su experiencia [Cuando he intentado enseñar pensamiento computacional me he encontrado con obstáculos para gestionar espacios y materiales en el colegio.]': '3.3 Cuando he intentado enseñar pensamiento computacional me he encontrado con obstáculos para gestionar espacios y materiales en el colegio.',\n 'Por favor evalúe las siguientes afirmaciones según su experiencia [Recibo apoyo del colegio cuando propongo nuevas ideas y temáticas afines al pensamiento computacional]': '3.4 Recibo apoyo del colegio cuando propongo nuevas ideas y temáticas afines al pensamiento computacional',\n 'Por favor evalúe las siguientes afirmaciones según su experiencia [Siento que por más que lo he intentado mis esfuerzos por incluir pensamiento computacional en las clases no han sido efectivos por la rigidez del plan de estudio]': '3.5 Siento que por más que lo he intentado mis esfuerzos por incluir pensamiento computacional en las clases no han sido efectivos por la rigidez del plan de estudio',\n 'Por favor evalúe las siguientes afirmaciones según su experiencia [Los directivos incentivan la implementación de nuevas prácticas pedagógicas sobre pensamiento computacional en el aula]': '3.6 Los directivos incentivan la implementación de nuevas prácticas pedagógicas sobre pensamiento computacional en el aula',\n 'Por favor evalúe las siguientes afirmaciones según su experiencia [Puedo incluir espacios en mis clases para implementar actividades sobre el pensamiento computacional]': '3.7 Puedo incluir espacios en mis clases para implementar actividades sobre el pensamiento computacional',\n 'Por favor evalúe las siguientes afirmaciones según su experiencia [Me siento frustrado porque la programación de las clases y compromisos institucionales no me permite incluir actividades de pensamiento computacional]': '3.8 Me siento frustrado porque la programación de las clases y compromisos institucionales no me permite incluir actividades de pensamiento computacional',\n 'Por favor evalúe las siguientes afirmaciones según su experiencia [Tener educación en pensamiento computacional mejoraría significativamente las futuras opciones de ocupación para los estudiantes de mi escuela.]': '3.9 Tener educación en pensamiento computacional mejoraría significativamente las futuras opciones de ocupación para los estudiantes de mi escuela.',\n 'Por favor evalúe los siguientes enunciados de acuerdo con su experiencia [Creo que sé cómo resolver los problemas técnicos cuando fallan las TIC]': '4.1 Creo que sé cómo resolver los problemas técnicos cuando fallan las TIC',\n 'Por favor evalúe los siguientes enunciados de acuerdo con su experiencia [Siendo que puedo aprender sobre nuevas tecnologías fácilmente]': '4.2 Siento que puedo aprender sobre nuevas tecnologías fácilmente',\n 'Por favor evalúe los siguientes enunciados de acuerdo con su experiencia [Creo que sé cómo usar las TIC con los estudiantes en clase]': '4.3 Creo que sé cómo usar las TIC con los estudiantes en clase',\n 'Por favor evalúe los siguientes enunciados de acuerdo con su experiencia [Me apoyo en mis colegas para resolver problemas sobre cómo trabajar algún tema]': '5.1 Me apoyo en mis colegas para resolver problemas sobre cómo trabajar algún tema',\n 'Por favor evalúe los siguientes enunciados de acuerdo con su experiencia [Puedo hablar con otros docentes sobre el diseño de cursos]': '5.2 Puedo hablar con otros docentes sobre el diseño de cursos',\n 'Por favor evalúe los siguientes enunciados de acuerdo con su experiencia [Siento que tengo apoyo de otros docentes para el diseño de mis cursos]': '5.3 Siento que tengo apoyo de otros docentes para el diseño de mis cursos',\n 'Por favor evalúe los siguientes enunciados de acuerdo con su experiencia [Siento que no tengo con quién conversar sobre el diseño de mis cursos]': '5.4 Siento que no tengo con quién conversar sobre el diseño de mis cursos',\n 'En una escala de 1 a 10 (donde 10 es muy a menudo), con qué frecuencia utilizaría las siguientes prácticas pedagógicas para enseñar pensamiento computacional.   [Actividades desconectadas]': '6.1 Actividades desconectadas',\n 'En una escala de 1 a 10 (donde 10 es muy a menudo), con qué frecuencia utilizaría las siguientes prácticas pedagógicas para enseñar pensamiento computacional.   [Usa-Modifica-Crea]': '6.2 Usa-Modifica-Crea',\n 'En una escala de 1 a 10 (donde 10 es muy a menudo), con qué frecuencia utilizaría las siguientes prácticas pedagógicas para enseñar pensamiento computacional.   [Clase magistral]': '6.3 Clase magistral',\n 'En una escala de 1 a 10 (donde 10 es muy a menudo), con qué frecuencia utilizaría las siguientes prácticas pedagógicas para enseñar pensamiento computacional.   [Programación en pares]': '6.4 Programación en pares',\n 'En una escala de 1 a 10 (donde 10 es muy a menudo), con qué frecuencia utilizaría las siguientes prácticas pedagógicas para enseñar pensamiento computacional.   [Lectura del código]': '6.5 Lectura del código',\n 'Cuando un estudiante se enfrenta a una dificultad creando un programa y no sabe si está correcto, qué tan a menudo, en una escala de 1-10 (donde 10 es siempre), usted:  [Le explicaría la respuesta correcta]': '7.1 Le explicaría la respuesta correcta',\n 'Cuando un estudiante se enfrenta a una dificultad creando un programa y no sabe si está correcto, qué tan a menudo, en una escala de 1-10 (donde 10 es siempre), usted:  [Le sugeriría ir paso a paso por el programa simulando su ejecución]': '7.2 Le sugeriría ir paso a paso por el programa simulando su ejecución',\n 'Cuando un estudiante se enfrenta a una dificultad creando un programa y no sabe si está correcto, qué tan a menudo, en una escala de 1-10 (donde 10 es siempre), usted:  [Le diría que revise sus notas]': '7.3 Le diría que revise sus notas',\n 'Cuando un estudiante se enfrenta a una dificultad creando un programa y no sabe si está correcto, qué tan a menudo, en una escala de 1-10 (donde 10 es siempre), usted:  [Le sugeriría que revise las memorias colectivas]': '7.4 Le sugeriría que revise las memorias colectivas',\n 'Cuando un estudiante se enfrenta a una dificultad creando un programa y no sabe si está correcto, qué tan a menudo, en una escala de 1-10 (donde 10 es siempre), usted:  [Le sugeriría volver a leer el problema]': '7.5 Le sugeriría volver a leer el problema',\n 'Cuando un estudiante se enfrenta a una dificultad creando un programa y no sabe si está correcto, qué tan a menudo, en una escala de 1-10 (donde 10 es siempre), usted:  [Le sugeriría intentar con varios valores para evaluar el programa]': '7.6 Le sugeriría intentar con varios valores para evaluar el programa',\n 'Cuando un estudiante se enfrenta a una dificultad creando un programa y no sabe si está correcto, qué tan a menudo, en una escala de 1-10 (donde 10 es siempre), usted:  [Le explicaría el problema nuevamente]': '7.7 Le explicaría el problema nuevamente',\n 'Agrega cualquier comentario o clarificación sobre las preguntas ': 'Comentarios P1-7',\n 'Un algoritmo es:': 'Un algoritmo es:',\n '¿Para qué sirven los algoritmos?': '¿Para qué sirven los algoritmos?',\n 'Un bucle es:': 'Un bucle es:',\n 'Tim examina cada una de las siguientes piezas de código y responde que la primera termina con X siendo igual a 5, y la segunda con X siendo igual a 16. ¿Cuál es el error conceptual de Tim?': '¿Cuál es el error conceptual de Tim?',\n 'Ana elaboró tres bloques de código y cree que ninguno de estos hace exactamente lo mismo ¿Cuál es el error conceptual de Ana?': '¿Cuál es el error conceptual de Ana?',\n 'Agrega cualquier comentario o clarificación sobre las preguntas anteriores': 'Comentarios Conocimientos',\n '¿Cuáles de las siguientes estrategias usted ha usado en sus clases?': '¿Cuáles de las siguientes estrategias usted ha usado en sus clases?',\n 'Por favor evalúe los siguientes enunciados de acuerdo con su experiencia: [Es preferible que las mujeres enseñen ciencias sociales y los hombres ciencias exactas.]': '8.1 Es preferible que las mujeres enseñen ciencias sociales y los hombres ciencias exactas.',\n 'Por favor evalúe los siguientes enunciados de acuerdo con su experiencia: [Es normal que la mayoría de ingenieros mecánicos sean varones porque los hombres son mejores para los números.]': '8.2 Es normal que la mayoría de ingenieros mecánicos sean varones porque los hombres son mejores para los números.',\n 'Por favor evalúe los siguientes enunciados de acuerdo con su experiencia: [Por su esencia una mujer tiene mejor desempeño en un proyecto de alto impacto social que en un proyecto de robótica industrial.]': '8.3 Por su esencia una mujer tiene mejor desempeño en un proyecto de alto impacto social que en un proyecto de robótica industrial.',\n 'Por favor evalúe los siguientes enunciados de acuerdo con su experiencia: [Los hombres son mejores para la tecnología que las mujeres.]': '8.4 Los hombres son mejores para la tecnología que las mujeres.',\n 'Por favor evalúe los siguientes enunciados de acuerdo con su experiencia: [Las mujeres tienen mayores habilidades para proyectos sociales que tecnológicos.]': '8.5 Las mujeres tienen mayores habilidades para proyectos sociales que tecnológicos.',\n 'Por favor evalúe los siguientes enunciados de acuerdo con su experiencia: [Los grandes aportes en la computación han sido hechos por hombres.]': '8.6 Los grandes aportes en la computación han sido hechos por hombres.',\n 'Por favor evalúe los siguientes enunciados de acuerdo con su experiencia: [Que la mayoría de mujeres no opte por áreas exactas es simplemente una cuestión de preferencias.]': '8.7 Que la mayoría de mujeres no opte por áreas exactas es simplemente una cuestión de preferencias.',\n 'Por favor evalúe los siguientes enunciados de acuerdo con su experiencia: [Que la mayoría de personas en artes y humanidades sean mujeres es muestra de su sensibilidad.]': '8.8 Que la mayoría de personas en artes y humanidades sean mujeres es muestra de su sensibilidad.',\n 'Por favor evalúe los siguientes enunciados de acuerdo con su experiencia: [Es natural que los hombres sean buenos para los números y las mujeres para las letras.]': '8.9 Es natural que los hombres sean buenos para los números y las mujeres para las letras.',\n 'Por favor evalúe los siguientes enunciados de acuerdo con su experiencia: [Los hombres son muy ágiles tomando decisiones importantes.]': '8.10 Los hombres son muy ágiles tomando decisiones importantes.',\n 'Por favor evalúe los siguientes enunciados de acuerdo con su experiencia: [Las niñas son más ordenadas que los niños.]': '8.11 Las niñas son más ordenadas que los niños.',\n 'Por favor evalúe los siguientes enunciados de acuerdo con su experiencia: [Muchas mujeres se caracterizan por una pureza que pocos hombres poseen.]': '8.12 Muchas mujeres se caracterizan por una pureza que pocos hombres poseen.',\n 'Por favor evalúe los siguientes enunciados de acuerdo con su experiencia: [Las mujeres deben ser queridas y protegidas por los hombres.]': '8.13 Las mujeres deben ser queridas y protegidas por los hombres.',\n 'Por favor evalúe los siguientes enunciados de acuerdo con su experiencia: [Todo hombre debe tener una mujer a quien amar.]': '8.14 Todo hombre debe tener una mujer a quien amar.',\n 'Por favor evalúe los siguientes enunciados de acuerdo con su experiencia: [El hombre está incompleto sin la mujer.]': '8.15 El hombre está incompleto sin la mujer.',\n 'Por favor evalúe los siguientes enunciados de acuerdo con su experiencia: [Las mujeres en comparación con los hombres, tienden a tener un sentido más refinado de la cultura y el buen gusto.]': '8.16 Las mujeres en comparación con los hombres, tienden a tener un sentido más refinado de la cultura y el buen gusto.',\n 'Agrega cualquier comentario o clarificación sobre las preguntas anteriores.1': 'Comentarios género'}"
     },
     "execution_count": 27,
     "metadata": {},
     "output_type": "execute_result"
    }
   ],
   "source": [
    "dict_col_est"
   ],
   "metadata": {
    "collapsed": false,
    "pycharm": {
     "name": "#%%\n"
    }
   }
  },
  {
   "cell_type": "code",
   "execution_count": 28,
   "outputs": [
    {
     "data": {
      "text/plain": "'7.5 Le sugeriría volver a leer el problema'"
     },
     "execution_count": 28,
     "metadata": {},
     "output_type": "execute_result"
    }
   ],
   "source": [
    "dict_col_est['Cuando un estudiante se enfrenta a una dificultad creando un programa y no sabe si está correcto, qué tan a menudo, en una escala de 1-10 (donde 10 es siempre), usted:  [Le sugeriría volver a leer el problema]']"
   ],
   "metadata": {
    "collapsed": false,
    "pycharm": {
     "name": "#%%\n"
    }
   }
  },
  {
   "cell_type": "code",
   "execution_count": 14,
   "outputs": [
    {
     "name": "stdout",
     "output_type": "stream",
     "text": [
      "Cuando un estudiante se enfrenta a una dificultad creando un programa y no sabe si está correcto, qué tan a menudo, en una escala de 1-10 (donde 10 es siempre), usted:  [Le explicaría la respuesta correcta] Le explicaría la respuesta correcta\n",
      "Cuando un estudiante se enfrenta a una dificultad creando un programa y no sabe si está correcto, qué tan a menudo, en una escala de 1-10 (donde 10 es siempre), usted:  [Le sugeriría ir paso a paso por el programa simulando su ejecución] Le sugeriría ir paso a paso por el programa simulando su ejecución\n",
      "Cuando un estudiante se enfrenta a una dificultad creando un programa y no sabe si está correcto, qué tan a menudo, en una escala de 1-10 (donde 10 es siempre), usted:  [Le diría que revise sus notas] Le diría que revise sus notas\n",
      "Cuando un estudiante se enfrenta a una dificultad creando un programa y no sabe si está correcto, qué tan a menudo, en una escala de 1-10 (donde 10 es siempre), usted:  [Le sugeriría que revise las memorias colectivas] Le sugeriría que revise las memorias colectivas\n",
      "Cuando un estudiante se enfrenta a una dificultad creando un programa y no sabe si está correcto, qué tan a menudo, en una escala de 1-10 (donde 10 es siempre), usted:  [Le sugeriría volver a leer el problema] Le sugeriría volver a leer el problema\n",
      "Cuando un estudiante se enfrenta a una dificultad creando un programa y no sabe si está correcto, qué tan a menudo, en una escala de 1-10 (donde 10 es siempre), usted:  [Le sugeriría intentar con varios valores para evaluar el programa] Le sugeriría intentar con varios valores para evaluar el programa\n",
      "Cuando un estudiante se enfrenta a una dificultad creando un programa y no sabe si está correcto, qué tan a menudo, en una escala de 1-10 (donde 10 es siempre), usted:  [Le explicaría el problema nuevamente] Le explicaría el problema nuevamente\n"
     ]
    }
   ],
   "source": [
    "i = 1\n",
    "for key, value in dict_col_est.items():\n",
    "    # iter on both keys and values\n",
    "        if key.startswith(\"Cuando un estudiante se enfrenta a una dificultad creando un programa y no sabe si está correcto, qué tan a menudo, en una escala de 1-10 (donde 10 es siempre), usted:\"):\n",
    "            print(key, value[4:])\n",
    "            dict_col_est[key] = \"7.\"+str(i)+value[3:]\n",
    "            i+=1"
   ],
   "metadata": {
    "collapsed": false,
    "pycharm": {
     "name": "#%%\n"
    }
   }
  },
  {
   "cell_type": "code",
   "execution_count": 20,
   "outputs": [],
   "source": [
    "\n",
    "filehandler = open('columnas_docentes.pkl',\"wb\")\n",
    "pickle.dump(dict_col_est,filehandler)"
   ],
   "metadata": {
    "collapsed": false,
    "pycharm": {
     "name": "#%%\n"
    }
   }
  },
  {
   "cell_type": "code",
   "execution_count": null,
   "outputs": [],
   "source": [],
   "metadata": {
    "collapsed": false,
    "pycharm": {
     "name": "#%%\n"
    }
   }
  }
 ],
 "metadata": {
  "kernelspec": {
   "display_name": "Python 3",
   "language": "python",
   "name": "python3"
  },
  "language_info": {
   "codemirror_mode": {
    "name": "ipython",
    "version": 2
   },
   "file_extension": ".py",
   "mimetype": "text/x-python",
   "name": "python",
   "nbconvert_exporter": "python",
   "pygments_lexer": "ipython2",
   "version": "2.7.6"
  }
 },
 "nbformat": 4,
 "nbformat_minor": 0
}