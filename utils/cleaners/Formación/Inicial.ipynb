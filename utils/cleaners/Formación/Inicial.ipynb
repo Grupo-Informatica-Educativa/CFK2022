{
 "cells": [
  {
   "cell_type": "code",
   "execution_count": 16,
   "id": "68dfd8aa-6857-4e74-9367-87fdda36d01c",
   "metadata": {},
   "outputs": [],
   "source": [
    "import pandas as pd"
   ]
  },
  {
   "cell_type": "code",
   "execution_count": 46,
   "id": "0b6d85cf-96c5-4b4d-a4e2-5cc3eac91a7b",
   "metadata": {},
   "outputs": [],
   "source": [
    "df=pd.read_excel(\"cuestionarioinicial.xlsx\")"
   ]
  },
  {
   "cell_type": "code",
   "execution_count": 47,
   "id": "0ecfa4f9-ae13-4297-84c2-4865b494a3c5",
   "metadata": {},
   "outputs": [
    {
     "data": {
      "text/plain": [
       "['Nombre',\n",
       " 'Apellido',\n",
       " 'Correo Electrónico',\n",
       " 'Encuesta',\n",
       " 'Pregunta',\n",
       " 'Respuesta',\n",
       " 'Hora',\n",
       " 'Curso',\n",
       " 'ID Asignado Por Moodle',\n",
       " 'Número De Identificación']"
      ]
     },
     "execution_count": 47,
     "metadata": {},
     "output_type": "execute_result"
    }
   ],
   "source": [
    "df.columns.tolist()"
   ]
  },
  {
   "cell_type": "code",
   "execution_count": 48,
   "id": "4fd6cc9a-82c9-4da9-af22-3080f56a40e8",
   "metadata": {},
   "outputs": [
    {
     "data": {
      "text/plain": [
       "array(['En una escala de 1 a 10 (donde 10 es muy a menudo), con qué frecuencia utilizarías las siguientes prácticas pedagógicas para enseñar pensamiento computacional.',\n",
       "       'Cuando un estudiante se enfrenta a una dificultad creando un programa y no sabe si está correcto, qué tan a menudo, en una escala de 1-10 (donde 10 es siempre), usted:',\n",
       "       'Por favor evalúe los siguientes enunciados de acuerdo con su experiencia: ',\n",
       "       'Por favor evalúe las siguientes afirmaciones según qué tan de acuerdo está usted con enseñar las siguientes prácticas como objetivos de aprendizaje relacionados con el pensamiento computacional: ',\n",
       "       'Por favor evalúe los siguientes enunciados de acuerdo con qué tan preparado(a) se siente para integrar el pensamiento computacional en sus cursos: ',\n",
       "       'Número de Cédula',\n",
       "       'Agregue cualquier comentario o aclaración sobre las preguntas anteriores.',\n",
       "       '¿Cuáles de las siguientes estrategias ha usado usted en sus clases? (Opción múltiple)',\n",
       "       'Agregue cualquier comentario o aclaración adicional sobre las estrategias de enseñanza de la pregunta anterior.'],\n",
       "      dtype=object)"
      ]
     },
     "execution_count": 48,
     "metadata": {},
     "output_type": "execute_result"
    }
   ],
   "source": [
    "df['Pregunta']=df['Pregunta'].str.replace(\"\\n\",\" \")\n",
    "df['Pregunta']=df['Pregunta'].str.replace(\"\\xa0\",\"\")\n",
    "df['Pregunta'].unique()"
   ]
  },
  {
   "cell_type": "code",
   "execution_count": 49,
   "id": "df16bcf6-5e55-4a02-bedd-e9fc64a59fcc",
   "metadata": {},
   "outputs": [],
   "source": [
    "df['Nombre Completo']=df['Nombre']+\" \"+df['Apellido']\n",
    "df=df.drop(['Nombre','Apellido'],axis=1)"
   ]
  },
  {
   "cell_type": "code",
   "execution_count": 51,
   "id": "7491a1ef-91e1-4482-9d84-4ced3ff408fc",
   "metadata": {},
   "outputs": [],
   "source": [
    "df=df.sort_values(by=['Nombre Completo'],ignore_index=True)"
   ]
  },
  {
   "cell_type": "code",
   "execution_count": 55,
   "id": "f128e515-1424-4939-a8b9-563671ee715c",
   "metadata": {},
   "outputs": [
    {
     "data": {
      "text/html": [
       "<div>\n",
       "<style scoped>\n",
       "    .dataframe tbody tr th:only-of-type {\n",
       "        vertical-align: middle;\n",
       "    }\n",
       "\n",
       "    .dataframe tbody tr th {\n",
       "        vertical-align: top;\n",
       "    }\n",
       "\n",
       "    .dataframe thead th {\n",
       "        text-align: right;\n",
       "    }\n",
       "</style>\n",
       "<table border=\"1\" class=\"dataframe\">\n",
       "  <thead>\n",
       "    <tr style=\"text-align: right;\">\n",
       "      <th></th>\n",
       "      <th>Hora</th>\n",
       "      <th>Nombre Completo</th>\n",
       "      <th>Correo Electrónico</th>\n",
       "      <th>Encuesta</th>\n",
       "      <th>Pregunta</th>\n",
       "      <th>Respuesta</th>\n",
       "      <th>Curso</th>\n",
       "      <th>ID Asignado Por Moodle</th>\n",
       "      <th>Número De Identificación</th>\n",
       "    </tr>\n",
       "  </thead>\n",
       "  <tbody>\n",
       "    <tr>\n",
       "      <th>0</th>\n",
       "      <td>18/03/2022 09:45:49</td>\n",
       "      <td>Alexandra Valencia Bermudez</td>\n",
       "      <td>alexandravalencia1719@gmail.com</td>\n",
       "      <td>Prueba Inicial (13 puntos)</td>\n",
       "      <td>Por favor evalúe las siguientes afirmaciones s...</td>\n",
       "      <td>Usar el correo electrónico - 5, Crear y usar d...</td>\n",
       "      <td>Curso Inicial 2022 Mentores</td>\n",
       "      <td>29</td>\n",
       "      <td>NaN</td>\n",
       "    </tr>\n",
       "    <tr>\n",
       "      <th>1</th>\n",
       "      <td>18/03/2022 09:45:49</td>\n",
       "      <td>Alexandra Valencia Bermudez</td>\n",
       "      <td>alexandravalencia1719@gmail.com</td>\n",
       "      <td>Prueba Inicial (13 puntos)</td>\n",
       "      <td>Agregue cualquier comentario o aclaración sobr...</td>\n",
       "      <td>Poseo amplia disposición de aprender</td>\n",
       "      <td>Curso Inicial 2022 Mentores</td>\n",
       "      <td>29</td>\n",
       "      <td>NaN</td>\n",
       "    </tr>\n",
       "    <tr>\n",
       "      <th>2</th>\n",
       "      <td>18/03/2022 09:45:49</td>\n",
       "      <td>Alexandra Valencia Bermudez</td>\n",
       "      <td>alexandravalencia1719@gmail.com</td>\n",
       "      <td>Prueba Inicial (13 puntos)</td>\n",
       "      <td>Cuando un estudiante se enfrenta a una dificul...</td>\n",
       "      <td>Le explicaría la respuesta correcta - 8, Le su...</td>\n",
       "      <td>Curso Inicial 2022 Mentores</td>\n",
       "      <td>29</td>\n",
       "      <td>NaN</td>\n",
       "    </tr>\n",
       "    <tr>\n",
       "      <th>3</th>\n",
       "      <td>18/03/2022 09:45:49</td>\n",
       "      <td>Alexandra Valencia Bermudez</td>\n",
       "      <td>alexandravalencia1719@gmail.com</td>\n",
       "      <td>Prueba Inicial (13 puntos)</td>\n",
       "      <td>Por favor evalúe los siguientes enunciados de ...</td>\n",
       "      <td>Es preferible que las mujeres enseñen ciencias...</td>\n",
       "      <td>Curso Inicial 2022 Mentores</td>\n",
       "      <td>29</td>\n",
       "      <td>NaN</td>\n",
       "    </tr>\n",
       "    <tr>\n",
       "      <th>4</th>\n",
       "      <td>18/03/2022 09:45:49</td>\n",
       "      <td>Alexandra Valencia Bermudez</td>\n",
       "      <td>alexandravalencia1719@gmail.com</td>\n",
       "      <td>Prueba Inicial (13 puntos)</td>\n",
       "      <td>Agregue cualquier comentario o aclaración sobr...</td>\n",
       "      <td>Cada ser humano es independiente y su cosmovis...</td>\n",
       "      <td>Curso Inicial 2022 Mentores</td>\n",
       "      <td>29</td>\n",
       "      <td>NaN</td>\n",
       "    </tr>\n",
       "  </tbody>\n",
       "</table>\n",
       "</div>"
      ],
      "text/plain": [
       "                  Hora              Nombre Completo  \\\n",
       "0  18/03/2022 09:45:49  Alexandra Valencia Bermudez   \n",
       "1  18/03/2022 09:45:49  Alexandra Valencia Bermudez   \n",
       "2  18/03/2022 09:45:49  Alexandra Valencia Bermudez   \n",
       "3  18/03/2022 09:45:49  Alexandra Valencia Bermudez   \n",
       "4  18/03/2022 09:45:49  Alexandra Valencia Bermudez   \n",
       "\n",
       "                Correo Electrónico                    Encuesta  \\\n",
       "0  alexandravalencia1719@gmail.com  Prueba Inicial (13 puntos)   \n",
       "1  alexandravalencia1719@gmail.com  Prueba Inicial (13 puntos)   \n",
       "2  alexandravalencia1719@gmail.com  Prueba Inicial (13 puntos)   \n",
       "3  alexandravalencia1719@gmail.com  Prueba Inicial (13 puntos)   \n",
       "4  alexandravalencia1719@gmail.com  Prueba Inicial (13 puntos)   \n",
       "\n",
       "                                            Pregunta  \\\n",
       "0  Por favor evalúe las siguientes afirmaciones s...   \n",
       "1  Agregue cualquier comentario o aclaración sobr...   \n",
       "2  Cuando un estudiante se enfrenta a una dificul...   \n",
       "3  Por favor evalúe los siguientes enunciados de ...   \n",
       "4  Agregue cualquier comentario o aclaración sobr...   \n",
       "\n",
       "                                           Respuesta  \\\n",
       "0  Usar el correo electrónico - 5, Crear y usar d...   \n",
       "1              Poseo amplia disposición de aprender    \n",
       "2  Le explicaría la respuesta correcta - 8, Le su...   \n",
       "3  Es preferible que las mujeres enseñen ciencias...   \n",
       "4  Cada ser humano es independiente y su cosmovis...   \n",
       "\n",
       "                         Curso  ID Asignado Por Moodle  \\\n",
       "0  Curso Inicial 2022 Mentores                      29   \n",
       "1  Curso Inicial 2022 Mentores                      29   \n",
       "2  Curso Inicial 2022 Mentores                      29   \n",
       "3  Curso Inicial 2022 Mentores                      29   \n",
       "4  Curso Inicial 2022 Mentores                      29   \n",
       "\n",
       "   Número De Identificación  \n",
       "0                       NaN  \n",
       "1                       NaN  \n",
       "2                       NaN  \n",
       "3                       NaN  \n",
       "4                       NaN  "
      ]
     },
     "execution_count": 55,
     "metadata": {},
     "output_type": "execute_result"
    }
   ],
   "source": [
    "df.head()"
   ]
  },
  {
   "cell_type": "code",
   "execution_count": 54,
   "id": "d11f7750-d7c7-4874-b9f5-d3ae3a93aee1",
   "metadata": {},
   "outputs": [],
   "source": [
    "newindex=['Hora','Nombre Completo','Correo Electrónico',\n",
    " 'Encuesta',\n",
    " 'Pregunta',\n",
    " 'Respuesta',\n",
    " 'Curso',\n",
    " 'ID Asignado Por Moodle',\n",
    " 'Número De Identificación']\n",
    "df=df.reindex(newindex,axis=1)"
   ]
  }
 ],
 "metadata": {
  "kernelspec": {
   "display_name": "Python 3 (ipykernel)",
   "language": "python",
   "name": "python3"
  },
  "language_info": {
   "codemirror_mode": {
    "name": "ipython",
    "version": 3
   },
   "file_extension": ".py",
   "mimetype": "text/x-python",
   "name": "python",
   "nbconvert_exporter": "python",
   "pygments_lexer": "ipython3",
   "version": "3.10.4"
  }
 },
 "nbformat": 4,
 "nbformat_minor": 5
}
