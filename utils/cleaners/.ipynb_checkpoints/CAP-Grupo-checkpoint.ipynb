{
 "cells": [
  {
   "cell_type": "code",
   "execution_count": 1,
   "metadata": {
    "tags": []
   },
   "outputs": [],
   "source": [
    "import pandas as pd\n",
    "import pathlib\n",
    "\n",
    "import os\n",
    "import glob"
   ]
  },
  {
   "cell_type": "code",
   "execution_count": 2,
   "metadata": {
    "collapsed": false,
    "jupyter": {
     "outputs_hidden": false
    },
    "pycharm": {
     "name": "#%%\n"
    }
   },
   "outputs": [],
   "source": [
    "ruta_git = pathlib.Path().cwd().parent.parent"
   ]
  },
  {
   "cell_type": "code",
   "execution_count": 3,
   "metadata": {
    "collapsed": false,
    "jupyter": {
     "outputs_hidden": false
    },
    "pycharm": {
     "name": "#%%\n"
    }
   },
   "outputs": [],
   "source": [
    "ruta_metricas = ruta_git/\"data/raw/Group Metrics/\""
   ]
  },
  {
   "cell_type": "code",
   "execution_count": 31,
   "metadata": {
    "collapsed": false,
    "jupyter": {
     "outputs_hidden": false
    },
    "pycharm": {
     "name": "#%%\n"
    }
   },
   "outputs": [],
   "source": [
    "# use glob to get all the csv files\n",
    "# in the folder\n",
    "\n",
    "csv_files = glob.glob(os.path.join(ruta_metricas, \"*.xlsx\"))\n",
    "\n",
    "miembros = pd.DataFrame()\n",
    "dias_act = pd.DataFrame()\n",
    "horas_act = pd.DataFrame()\n",
    "pub_destacadas = pd.DataFrame()\n",
    "edad_sexo_miembros = pd.DataFrame()\n",
    "ciudad_miembros = pd.DataFrame()\n",
    "pais_miembros = pd.DataFrame()\n",
    "colaboradores = pd.DataFrame()\n",
    "\n",
    "nombres_bases = ['miembros','dias_act','horas_act','pub_destacadas',\n",
    "              'edad_sexo_miembros','ciudad_miembros','pais_miembros', 'colaboradores']\n",
    "hojas = ['Totales diarios', 'Días con más actividad', \"Horas con más actividad\",'Publicaciones destacadas', \"Miembros por edad y sexo\", \"Miembros por ciudad\", 'Miembros por país', 'Colaboradores']\n",
    "\n",
    "dataframes = dict(zip(nombres_bases,[pd.DataFrame()]*8))"
   ]
  },
  {
   "cell_type": "code",
   "execution_count": 35,
   "metadata": {},
   "outputs": [
    {
     "data": {
      "text/plain": [
       "True"
      ]
     },
     "execution_count": 35,
     "metadata": {},
     "output_type": "execute_result"
    }
   ],
   "source": [
    "len(dataframes['miembros'])==0"
   ]
  },
  {
   "cell_type": "code",
   "execution_count": 83,
   "metadata": {
    "collapsed": false,
    "jupyter": {
     "outputs_hidden": false
    },
    "pycharm": {
     "name": "#%%\n"
    }
   },
   "outputs": [
    {
     "data": {
      "text/plain": [
       "'040722'"
      ]
     },
     "execution_count": 83,
     "metadata": {},
     "output_type": "execute_result"
    }
   ],
   "source": [
    "f = csv_files[0]\n",
    "f.split(\"\\\\\")[-1][-11:-5]"
   ]
  },
  {
   "cell_type": "code",
   "execution_count": 36,
   "metadata": {
    "collapsed": false,
    "jupyter": {
     "outputs_hidden": false
    },
    "pycharm": {
     "name": "#%%\n"
    }
   },
   "outputs": [
    {
     "data": {
      "text/plain": [
       "0"
      ]
     },
     "metadata": {},
     "output_type": "display_data"
    },
    {
     "name": "stdout",
     "output_type": "stream",
     "text": [
      " hoja:  Totales diarios\n",
      "estoy en el if\n"
     ]
    },
    {
     "data": {
      "text/plain": [
       "1"
      ]
     },
     "metadata": {},
     "output_type": "display_data"
    },
    {
     "name": "stdout",
     "output_type": "stream",
     "text": [
      " hoja:  Días con más actividad\n",
      "estoy en el if\n"
     ]
    },
    {
     "data": {
      "text/plain": [
       "2"
      ]
     },
     "metadata": {},
     "output_type": "display_data"
    },
    {
     "name": "stdout",
     "output_type": "stream",
     "text": [
      " hoja:  Horas con más actividad\n",
      "estoy en el if\n"
     ]
    },
    {
     "data": {
      "text/plain": [
       "3"
      ]
     },
     "metadata": {},
     "output_type": "display_data"
    },
    {
     "name": "stdout",
     "output_type": "stream",
     "text": [
      " hoja:  Publicaciones destacadas\n",
      "estoy en el if\n"
     ]
    },
    {
     "data": {
      "text/plain": [
       "4"
      ]
     },
     "metadata": {},
     "output_type": "display_data"
    },
    {
     "name": "stdout",
     "output_type": "stream",
     "text": [
      " hoja:  Miembros por edad y sexo\n",
      "estoy en el if\n"
     ]
    },
    {
     "data": {
      "text/plain": [
       "5"
      ]
     },
     "metadata": {},
     "output_type": "display_data"
    },
    {
     "name": "stdout",
     "output_type": "stream",
     "text": [
      " hoja:  Miembros por ciudad\n",
      "estoy en el if\n"
     ]
    },
    {
     "data": {
      "text/plain": [
       "6"
      ]
     },
     "metadata": {},
     "output_type": "display_data"
    },
    {
     "name": "stdout",
     "output_type": "stream",
     "text": [
      " hoja:  Miembros por país\n",
      "estoy en el if\n"
     ]
    },
    {
     "data": {
      "text/plain": [
       "7"
      ]
     },
     "metadata": {},
     "output_type": "display_data"
    },
    {
     "name": "stdout",
     "output_type": "stream",
     "text": [
      " hoja:  Colaboradores\n",
      "estoy en el if\n"
     ]
    }
   ],
   "source": [
    "\n",
    "dataframes = dict(zip(nombres_bases,[pd.DataFrame()]*8))\n",
    "\n",
    "# loop over the list of csv files\n",
    "for s,llave in enumerate(nombres_bases):\n",
    "    #display(\"Llave \", llave )\n",
    "    display(s)\n",
    "    hoja = hojas[s]\n",
    "    print(' hoja: ' ,hoja)\n",
    "    for f in csv_files:\n",
    "        fecha = f.split(\"\\\\\")[-1][-11:-5]\n",
    "        # read the csv file\n",
    "        df = pd.read_excel(f, sheet_name=hoja)\n",
    "        df['Fecha de corte'] = str(fecha)\n",
    "        #print(df['Fecha de corte'])\n",
    "        #display(df.columns)\n",
    "        if len(dataframes[llave])==0:\n",
    "            print('estoy en el if')\n",
    "            dataframes[llave] = df\n",
    "        else:\n",
    "            dataframes[llave] = pd.concat([dataframes[llave],df], ignore_index=True)\n",
    "\n",
    "    dataframes[llave] = dataframes[llave].dropna(subset='Fecha de corte')\n",
    "    #segunda_columna = dataframes[llave].columns[1]\n",
    "    #dataframes[llave] = dataframes[llave].drop_duplicates(subset=['Fecha de corte',segunda_columna])\n",
    "    archivo =\"data/Grupo/\"+llave+\".xlsx\"\n",
    "    dataframes[llave].to_excel(ruta_git/archivo)\n",
    "    # print the content\n",
    "    #print('Content:')\n",
    "    #display(df.shape)\n",
    "   #print()"
   ]
  },
  {
   "cell_type": "markdown",
   "metadata": {},
   "source": []
  },
  {
   "cell_type": "code",
   "execution_count": 37,
   "metadata": {
    "collapsed": false,
    "jupyter": {
     "outputs_hidden": false
    },
    "pycharm": {
     "name": "#%%\n"
    }
   },
   "outputs": [
    {
     "data": {
      "text/plain": [
       "030322    7\n",
       "031022    7\n",
       "031722    7\n",
       "032422    7\n",
       "033122    7\n",
       "040722    7\n",
       "041422    7\n",
       "042122    7\n",
       "042822    7\n",
       "050522    7\n",
       "051222    7\n",
       "051922    7\n",
       "052622    7\n",
       "060222    7\n",
       "060922    7\n",
       "Name: Fecha de corte, dtype: int64"
      ]
     },
     "execution_count": 37,
     "metadata": {},
     "output_type": "execute_result"
    }
   ],
   "source": [
    "dataframes['miembros']['Fecha de corte'].value_counts()"
   ]
  },
  {
   "cell_type": "code",
   "execution_count": 38,
   "metadata": {
    "collapsed": false,
    "jupyter": {
     "outputs_hidden": false
    },
    "pycharm": {
     "name": "#%%\n"
    }
   },
   "outputs": [
    {
     "data": {
      "text/plain": [
       "105"
      ]
     },
     "execution_count": 38,
     "metadata": {},
     "output_type": "execute_result"
    }
   ],
   "source": [
    "len(dataframes['miembros'])"
   ]
  },
  {
   "cell_type": "code",
   "execution_count": null,
   "metadata": {},
   "outputs": [],
   "source": []
  }
 ],
 "metadata": {
  "kernelspec": {
   "display_name": "Python 3 (ipykernel)",
   "language": "python",
   "name": "python3"
  },
  "language_info": {
   "codemirror_mode": {
    "name": "ipython",
    "version": 3
   },
   "file_extension": ".py",
   "mimetype": "text/x-python",
   "name": "python",
   "nbconvert_exporter": "python",
   "pygments_lexer": "ipython3",
   "version": "3.9.12"
  }
 },
 "nbformat": 4,
 "nbformat_minor": 4
}
