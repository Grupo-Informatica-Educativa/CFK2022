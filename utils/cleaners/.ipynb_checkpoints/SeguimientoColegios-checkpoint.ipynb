{
 "cells": [
  {
   "cell_type": "code",
   "execution_count": 1,
   "id": "21cda7ec",
   "metadata": {},
   "outputs": [],
   "source": [
    "import pandas as pd"
   ]
  },
  {
   "cell_type": "code",
   "execution_count": 35,
   "id": "36f0e598",
   "metadata": {
    "tags": []
   },
   "outputs": [
    {
     "data": {
      "text/plain": [
       "array([nan, 'B o 02', 'A o 01', 'D o 04', 'E o 05', '9-F', '9f', 'f',\n",
       "       'f o 06', 'F', 'f o 06 ', '9.f', '6g', '6G', '6 g', '6 G',\n",
       "       'G o 06', '6-G', 'Noveno E', 16.0, '11-16', 1116.0, 906.0, '0 o 6',\n",
       "       'f o 6', '06', '6 seis', 6.0, 'C o 03', '6 C', '6 c', '07', 607.0,\n",
       "       7.0, 15.0, '9-1', 'No 1', 'noveno 1', '9.1', '9-2', 902.0, '9_2',\n",
       "       2.0, 'b_2', '6-3', 603.0, 604.0, 9.0, 905.0, 95.0, '6-8', 608.0,\n",
       "       'H O 608', '08', '6-08', '6 o 08', '9-5', 'f o 08', '6 08', '0 8',\n",
       "       606.0, '9-6', 96.0, '09', '6`-7', '6-7', 605.0, '9-4',\n",
       "       'sexto tres', 'Seis 3', 'sexto 3', 'sexto  tres', '6.3',\n",
       "       'sexto   tres', '6-1', 'G o 07', '6.7', 809.0, 71.0, '6a', 'o7',\n",
       "       '0 7', 'g o 07', 'G O 07', 'G o 7', 'g o7', '6 o 07', 'g o  07',\n",
       "       'G 07', 'G 0 07', 'G 07 ', '07+', 'g  07', 'G o  07', 'SEXTO G O7',\n",
       "       '6-07', 'g', \"9'07\", \"9'07´\", ' G-07', 'G - 07', 'g 06', '9 07',\n",
       "       'g° 07', 'co06', '6-2', 62.0, 901.0, '9.4'], dtype=object)"
      ]
     },
     "execution_count": 35,
     "metadata": {},
     "output_type": "execute_result"
    }
   ],
   "source": [
    "df1= pd.read_excel(\"Estudiantes.xlsx\")\n",
    "\n",
    "## Seleccionar solo las columnas que vamos a usar, para no tener tanta cosa.\n",
    "## y botar los nulos\n",
    "\n",
    "df1 = df1.loc[:,[ 'Código de la institución educativa','Grado', 'Grupo',\n",
    "                 'Número de lista', 'Edad', 'Sexo']]\n",
    "\n",
    "diccionariogrados={'Noveno':\"09\", 'Octavo':\"08\", 'Sexto':\"06\", 'Décimo':\"10\", 'Séptimo':\"07\", 'Once':\"11\", 'Quinto':\"05\"}\n",
    "df1[\"Grado\"]=df1[\"Grado\"].replace(diccionariogrados)\n",
    "df1[\"Grupo\"].unique()\n",
    "#id-> códigoinst+Grado+Grupo+númerodelista"
   ]
  },
  {
   "cell_type": "code",
   "execution_count": 36,
   "id": "a2f27cdb-2da6-43f3-a1ae-6958b55257e3",
   "metadata": {},
   "outputs": [
    {
     "name": "stderr",
     "output_type": "stream",
     "text": [
      "C:\\Users\\cvieira\\AppData\\Local\\Temp\\ipykernel_19288\\3616830737.py:22: FutureWarning: The default value of regex will change from True to False in a future version. In addition, single character regular expressions will *not* be treated as literal strings when regex=True.\n",
      "  df1[\"Grupo\"]=df1[\"Grupo\"].str.replace(\".\",\"\")\n",
      "C:\\Users\\cvieira\\AppData\\Local\\Temp\\ipykernel_19288\\3616830737.py:24: FutureWarning: The default value of regex will change from True to False in a future version. In addition, single character regular expressions will *not* be treated as literal strings when regex=True.\n",
      "  df1[\"Grupo\"]=df1[\"Grupo\"].str.replace(\"+\",\"\")\n"
     ]
    },
    {
     "data": {
      "text/plain": [
       "array([nan, '02', '01', '04', '05', '906', '06', '607', '07', '1116',\n",
       "       '6s07', '03', '603', '91', 'N1', '1', '92', '63', '68', '08',\n",
       "       '608', '95', '96', '09', '67', '94', 'tr07', 'S07', '3', '61',\n",
       "       '601', 'O7', '907', '62'], dtype=object)"
      ]
     },
     "execution_count": 36,
     "metadata": {},
     "output_type": "execute_result"
    }
   ],
   "source": [
    "df1[\"Grupo\"]=df1[\"Grupo\"].str.capitalize().str.replace(\"Sexto\",\"\").str.replace(\"Noveno\",\"\")\n",
    "df1[\"Grupo\"]=df1[\"Grupo\"].str.replace(\" \",\"\")\n",
    "\n",
    "#Respuesta de las encuestas\n",
    "diccionariogrupos1={'Bo02':\"02\", 'Ao01':\"01\",'Co03':\"03\", 'Do04':\"04\", 'Eo05':\"05\"} #valor exactamente igual\n",
    "df1[\"Grupo\"]=df1[\"Grupo\"].replace(diccionariogrupos1)\n",
    "\n",
    "#cambiando letras por números\n",
    "df1[\"Grupo\"]=df1[\"Grupo\"].replace(r'[Gg](.*)',\"07\",regex=True)\n",
    "df1[\"Grupo\"]=df1[\"Grupo\"].replace(r'[eE](.*)',\"07\",regex=True)\n",
    "df1[\"Grupo\"]=df1[\"Grupo\"].replace(r'[Ff](.*)',\"06\",regex=True) #regex buscador\n",
    "df1[\"Grupo\"]=df1[\"Grupo\"].replace(r'[Hh](.*)',\"08\",regex=True)\n",
    "df1[\"Grupo\"]=df1[\"Grupo\"].replace(r'[Bb](.*)',\"02\",regex=True)\n",
    "df1[\"Grupo\"]=df1[\"Grupo\"].replace(r'[Aa](.*)',\"01\",regex=True)\n",
    "df1[\"Grupo\"]=df1[\"Grupo\"].replace(r'[Cc](.*)',\"03\",regex=True) #código que permita hacer cambio de una\n",
    "\n",
    "#eliminando signos\n",
    "df1[\"Grupo\"]=df1[\"Grupo\"].str.replace(\"_\",\"\")\n",
    "df1[\"Grupo\"]=df1[\"Grupo\"].str.replace(\"`\",\"\")\n",
    "df1[\"Grupo\"]=df1[\"Grupo\"].str.replace(\"´\",\"\")\n",
    "df1[\"Grupo\"]=df1[\"Grupo\"].str.replace(\"-\",\"\")\n",
    "df1[\"Grupo\"]=df1[\"Grupo\"].str.replace(\".\",\"\")\n",
    "df1[\"Grupo\"]=df1[\"Grupo\"].str.replace(\"'\",\"\")\n",
    "df1[\"Grupo\"]=df1[\"Grupo\"].str.replace(\"+\",\"\")\n",
    "df1[\"Grupo\"]=df1[\"Grupo\"].str.replace(\"o\",\"\")\n",
    "df1[\"Grupo\"]=df1[\"Grupo\"].str.replace(\"No\",\"\") #3177 clases\n",
    "\n",
    "#df[column_name].replace([old_value1, old_value2, old_value3], new_value)\n",
    "\n",
    "#diccionario=(['a','b','c'],\"\") #hacer cambios de uno solo\n",
    "#valor = diccionariogrupo1.setdefault(‘e’,5) para agregar nuevo dato al diccionario\n",
    "#df1[\"Grupo\"]=df1[\"Grupo\"].replace(['_','-','.','+','o','No'],[\"\",\"\",\"\",\"\",\"\",\"\"],regex=True) para hacer los\n",
    "#cambios anteriores al mismo o cambiar todos los valores anteriores por uno solo\n",
    "\n",
    "df1[\"Grupo\"].unique()"
   ]
  },
  {
   "cell_type": "code",
   "execution_count": 37,
   "id": "b44f03d6-114b-46f1-8713-500028aed48a",
   "metadata": {},
   "outputs": [
    {
     "data": {
      "text/plain": [
       "array([nan, '02', '01', '04', '05', '906', '06', '607', '07', '03', '603',\n",
       "       '91', 'N1', '1', '92', '63', '68', '08', '608', '95', '96', '09',\n",
       "       '67', '94', '3', '61', '601', '907', '62'], dtype=object)"
      ]
     },
     "execution_count": 37,
     "metadata": {},
     "output_type": "execute_result"
    }
   ],
   "source": [
    "#reemplazando valores random\n",
    "diccionariogrupos1={'Tres':\"03\",'tres':\"03\", 'O7':\"07\",'6seis':\"06\",'1116':\"06\"}\n",
    "df1[\"Grupo\"]=df1[\"Grupo\"].replace(diccionariogrupos1)\n",
    "df1[\"Grupo\"]=df1[\"Grupo\"].str.replace(\"S\",\"\").str.replace(\"s\",\"\").str.replace(\"tr\",\"\")\n",
    "df1[\"Grupo\"].unique()"
   ]
  },
  {
   "cell_type": "code",
   "execution_count": 18,
   "id": "7454d64b-7e69-408e-bafd-6e069d31cedf",
   "metadata": {},
   "outputs": [
    {
     "data": {
      "text/plain": [
       "array([nan, '002', '001', '004', '005', '906', '06', '607', '07', '01',\n",
       "       '6s07', '003', '6003', '901', 'N01', '902', '603', '68', '08',\n",
       "       '608', '905', '96', '09', '67', '904', 'tr07', 'S07', '03', '601',\n",
       "       '6001', 'O7', '907', '602'], dtype=object)"
      ]
     },
     "execution_count": 18,
     "metadata": {},
     "output_type": "execute_result"
    }
   ],
   "source": [
    "#Suponiendo que solo hay cursos de sexto en adelante\n",
    "df1[\"Grupo\"]=df1[\"Grupo\"].replace(r'[1](.*)',\"01\",regex=True) #regex busca los valores que se coloque en to replace\n",
    "df1[\"Grupo\"]=df1[\"Grupo\"].replace(r'[2](.*)',\"02\",regex=True)\n",
    "df1[\"Grupo\"]=df1[\"Grupo\"].replace(r'[3](.*)',\"03\",regex=True)\n",
    "df1[\"Grupo\"]=df1[\"Grupo\"].replace(r'[4](.*)',\"04\",regex=True)\n",
    "df1[\"Grupo\"]=df1[\"Grupo\"].replace(r'[5](.*)',\"05\",regex=True) #La idea es que lo cambie directamente\n",
    "\n",
    "df1[\"Grupo\"]=df1[\"Grupo\"].replace(r'[Ss](.*)',\"\",regex=True)\n",
    "df1[\"Grupo\"].unique()"
   ]
  },
  {
   "cell_type": "code",
   "execution_count": 14,
   "id": "36c08e05",
   "metadata": {},
   "outputs": [
    {
     "data": {
      "text/plain": [
       "array([nan, '000002', '000001', '000004', '000005', '906', '06', '607',\n",
       "       '07', '00001', '6s07', '000003', '6000003', '900001', 'N00001',\n",
       "       '900002', '600003', '08', '608', '900005', '09', '900004', 'tr07',\n",
       "       'S07', '00003', '600001', '6000001', '907', '600002'], dtype=object)"
      ]
     },
     "execution_count": 14,
     "metadata": {},
     "output_type": "execute_result"
    }
   ],
   "source": [
    "#df1[\"Grupo\"]=df1[\"Grupo\"].replace(['tres','3'],[\"03\",\"03\"],regex=True)\n",
    "#df1[\"Grupo\"]=df1[\"Grupo\"].replace(r'[03](.*)',\"03\",regex=True)\n",
    "#df1[\"Grupo\"]=df1[\"Grupo\"].replace(r'[08](.*)',\"08\",regex=True)\n",
    "#df1[\"Grupo\"]=df1[\"Grupo\"].replace(r'[07](.*)',\"07\",regex=True)\n",
    "#df1[\"Grupo\"]=df1[\"Grupo\"].replace(r'[B2](.*)',\"02\",regex=True)\n",
    "#eliminar valores por uno solo\n",
    "\n",
    "diccionariogrupos1={'67':\"07\", '68':\"08\",'96':\"06\"}\n",
    "df1[\"Grupo\"]=df1[\"Grupo\"].replace(diccionariogrupos1)\n",
    "\n",
    "diccionariogrupos1={'Tres':\"03\",'tres':\"03\", 'O7':\"07\",'6seis':\"06\"}\n",
    "df1[\"Grupo\"]=df1[\"Grupo\"].replace(diccionariogrupos1)\n",
    "df1[\"Grupo\"].unique()\n",
    "\n",
    "#for i in len(df1['Grupo']):\n",
    "    #if df1.loc[i,'Grupo']\n",
    "        #df1[i,'Grupo']=\n",
    "        #i=i+1\n",
    "        \n",
    "#print(i)\n",
    "\n",
    "#len(df1[\"Grupo\"]) #para saber si no se han perdido datos\n",
    "\n",
    "#df['city']=df['city'].map('I am from {}'.format, na_action = 'ignore')\n",
    "#df_updated = df.replace(to_replace ='[nN]ew', value = 'New_', regex = True)\n",
    "#df.replace(['↑\\s*', '↓\\s*'], ['+', '-'], regex=True)\n",
    "\n",
    "#df1.dropna(subset=[\"Grado\"], inplace=True) para eliminar filas con valores nan\n",
    "#df.loc[df.grades>50,'result']='success'"
   ]
  },
  {
   "cell_type": "code",
   "execution_count": null,
   "id": "94b3aed7-34b1-4abb-9dd1-249b2ca5e3a3",
   "metadata": {},
   "outputs": [],
   "source": []
  }
 ],
 "metadata": {
  "kernelspec": {
   "display_name": "Python 3 (ipykernel)",
   "language": "python",
   "name": "python3"
  },
  "language_info": {
   "codemirror_mode": {
    "name": "ipython",
    "version": 3
   },
   "file_extension": ".py",
   "mimetype": "text/x-python",
   "name": "python",
   "nbconvert_exporter": "python",
   "pygments_lexer": "ipython3",
   "version": "3.10.4"
  }
 },
 "nbformat": 4,
 "nbformat_minor": 5
}
