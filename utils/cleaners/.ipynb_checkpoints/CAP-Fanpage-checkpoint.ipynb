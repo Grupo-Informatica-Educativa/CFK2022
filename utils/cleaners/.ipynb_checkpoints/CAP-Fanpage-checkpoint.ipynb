{
 "cells": [
  {
   "cell_type": "code",
   "execution_count": 2,
   "metadata": {
    "tags": []
   },
   "outputs": [],
   "source": [
    "import pandas as pd\n",
    "import pathlib\n",
    "\n",
    "import os\n",
    "import glob"
   ]
  },
  {
   "cell_type": "code",
   "execution_count": 3,
   "metadata": {},
   "outputs": [
    {
     "name": "stdout",
     "output_type": "stream",
     "text": [
      "Requirement already satisfied: xlrd in c:\\users\\majo_\\anaconda3\\lib\\site-packages (2.0.1)\n"
     ]
    }
   ],
   "source": [
    "!pip install xlrd"
   ]
  },
  {
   "cell_type": "code",
   "execution_count": 4,
   "metadata": {
    "collapsed": false,
    "jupyter": {
     "outputs_hidden": false
    },
    "pycharm": {
     "name": "#%%\n"
    }
   },
   "outputs": [],
   "source": [
    "ruta_git = pathlib.Path().cwd().parent.parent"
   ]
  },
  {
   "cell_type": "code",
   "execution_count": 5,
   "metadata": {
    "collapsed": false,
    "jupyter": {
     "outputs_hidden": false
    },
    "pycharm": {
     "name": "#%%\n"
    }
   },
   "outputs": [],
   "source": [
    "ruta_metricas = ruta_git/\"data/raw/Fanpage/\""
   ]
  },
  {
   "cell_type": "code",
   "execution_count": 6,
   "metadata": {
    "collapsed": false,
    "jupyter": {
     "outputs_hidden": false
    },
    "pycharm": {
     "name": "#%%\n"
    }
   },
   "outputs": [],
   "source": [
    "# use glob to get all the csv files\n",
    "# in the folder\n",
    "\n",
    "csv_files = glob.glob(os.path.join(ruta_metricas, \"*.xlsx\"))\n",
    "\n",
    "columnas = ['Fecha', 'Daily New Likes', 'Daily Unlikes', 'Daily Page Engaged Users', 'Daily Total Reach', 'Daily Organic Reach', 'Daily Paid Reach', 'Daily Total Impressions', 'Daily Reach Of Page Posts', 'Daily Total Organic Views', 'Daily Total Organic 30-Second Views', ]"
   ]
  },
  {
   "cell_type": "code",
   "execution_count": 7,
   "metadata": {
    "collapsed": false,
    "jupyter": {
     "outputs_hidden": false
    },
    "pycharm": {
     "name": "#%%\n"
    }
   },
   "outputs": [
    {
     "data": {
      "text/plain": [
       "'22.xls'"
      ]
     },
     "execution_count": 7,
     "metadata": {},
     "output_type": "execute_result"
    }
   ],
   "source": [
    "f = csv_files[0]\n",
    "f.split(\"\\\\\")[-1][-11:-5]"
   ]
  },
  {
   "cell_type": "code",
   "execution_count": 8,
   "metadata": {
    "collapsed": false,
    "jupyter": {
     "outputs_hidden": false
    },
    "pycharm": {
     "name": "#%%\n"
    }
   },
   "outputs": [
    {
     "name": "stdout",
     "output_type": "stream",
     "text": [
      "estoy en el if\n"
     ]
    }
   ],
   "source": [
    "\n",
    "keymetrics = pd.DataFrame()\n",
    "\n",
    "# loop over the list of csv files\n",
    "for f in csv_files:\n",
    "    fecha = f.split(\"\\\\\")[-1][-15:-9]\n",
    "    # read the csv file\n",
    "    df = pd.read_excel(f, sheet_name=\"Key Metrics\")\n",
    "    df=df.loc[1:,columnas]\n",
    "    df['Fecha de corte'] = str(fecha)\n",
    "    #print(df['Fecha de corte'])\n",
    "    #display(df.columns)\n",
    "    if len(keymetrics)==0:\n",
    "        print('estoy en el if')\n",
    "        keymetrics = df\n",
    "    else:\n",
    "        keymetrics = pd.concat([keymetrics,df], ignore_index=True)\n",
    "\n",
    "\n",
    "# print the content\n",
    "#print('Content:')\n",
    "#display(df.shape)\n",
    "   #print()"
   ]
  },
  {
   "cell_type": "code",
   "execution_count": 9,
   "metadata": {},
   "outputs": [],
   "source": [
    "keymetrics=keymetrics.fillna(0)"
   ]
  },
  {
   "cell_type": "code",
   "execution_count": 10,
   "metadata": {
    "collapsed": false,
    "jupyter": {
     "outputs_hidden": false
    },
    "pycharm": {
     "name": "#%%\n"
    }
   },
   "outputs": [
    {
     "data": {
      "text/html": [
       "<div>\n",
       "<style scoped>\n",
       "    .dataframe tbody tr th:only-of-type {\n",
       "        vertical-align: middle;\n",
       "    }\n",
       "\n",
       "    .dataframe tbody tr th {\n",
       "        vertical-align: top;\n",
       "    }\n",
       "\n",
       "    .dataframe thead th {\n",
       "        text-align: right;\n",
       "    }\n",
       "</style>\n",
       "<table border=\"1\" class=\"dataframe\">\n",
       "  <thead>\n",
       "    <tr style=\"text-align: right;\">\n",
       "      <th></th>\n",
       "      <th>Fecha</th>\n",
       "      <th>Daily New Likes</th>\n",
       "      <th>Daily Unlikes</th>\n",
       "      <th>Daily Page Engaged Users</th>\n",
       "      <th>Daily Total Reach</th>\n",
       "      <th>Daily Organic Reach</th>\n",
       "      <th>Daily Paid Reach</th>\n",
       "      <th>Daily Total Impressions</th>\n",
       "      <th>Daily Reach Of Page Posts</th>\n",
       "      <th>Daily Total Organic Views</th>\n",
       "      <th>Daily Total Organic 30-Second Views</th>\n",
       "      <th>Fecha de corte</th>\n",
       "    </tr>\n",
       "  </thead>\n",
       "  <tbody>\n",
       "    <tr>\n",
       "      <th>0</th>\n",
       "      <td>2022-02-25</td>\n",
       "      <td>0</td>\n",
       "      <td>0</td>\n",
       "      <td>11</td>\n",
       "      <td>179</td>\n",
       "      <td>176</td>\n",
       "      <td>0</td>\n",
       "      <td>243</td>\n",
       "      <td>176</td>\n",
       "      <td>53</td>\n",
       "      <td>20</td>\n",
       "      <td>030322</td>\n",
       "    </tr>\n",
       "    <tr>\n",
       "      <th>1</th>\n",
       "      <td>2022-02-26</td>\n",
       "      <td>0</td>\n",
       "      <td>0</td>\n",
       "      <td>6</td>\n",
       "      <td>115</td>\n",
       "      <td>112</td>\n",
       "      <td>0</td>\n",
       "      <td>230</td>\n",
       "      <td>112</td>\n",
       "      <td>33</td>\n",
       "      <td>7</td>\n",
       "      <td>030322</td>\n",
       "    </tr>\n",
       "    <tr>\n",
       "      <th>2</th>\n",
       "      <td>2022-02-27</td>\n",
       "      <td>0</td>\n",
       "      <td>0</td>\n",
       "      <td>7</td>\n",
       "      <td>88</td>\n",
       "      <td>87</td>\n",
       "      <td>0</td>\n",
       "      <td>184</td>\n",
       "      <td>87</td>\n",
       "      <td>48</td>\n",
       "      <td>13</td>\n",
       "      <td>030322</td>\n",
       "    </tr>\n",
       "    <tr>\n",
       "      <th>3</th>\n",
       "      <td>2022-02-28</td>\n",
       "      <td>3</td>\n",
       "      <td>2</td>\n",
       "      <td>69</td>\n",
       "      <td>852</td>\n",
       "      <td>852</td>\n",
       "      <td>0</td>\n",
       "      <td>1279</td>\n",
       "      <td>852</td>\n",
       "      <td>60</td>\n",
       "      <td>13</td>\n",
       "      <td>030322</td>\n",
       "    </tr>\n",
       "    <tr>\n",
       "      <th>4</th>\n",
       "      <td>2022-03-01</td>\n",
       "      <td>8</td>\n",
       "      <td>0</td>\n",
       "      <td>347</td>\n",
       "      <td>3612</td>\n",
       "      <td>3612</td>\n",
       "      <td>0</td>\n",
       "      <td>7281</td>\n",
       "      <td>3612</td>\n",
       "      <td>134</td>\n",
       "      <td>26</td>\n",
       "      <td>030322</td>\n",
       "    </tr>\n",
       "    <tr>\n",
       "      <th>...</th>\n",
       "      <td>...</td>\n",
       "      <td>...</td>\n",
       "      <td>...</td>\n",
       "      <td>...</td>\n",
       "      <td>...</td>\n",
       "      <td>...</td>\n",
       "      <td>...</td>\n",
       "      <td>...</td>\n",
       "      <td>...</td>\n",
       "      <td>...</td>\n",
       "      <td>...</td>\n",
       "      <td>...</td>\n",
       "    </tr>\n",
       "    <tr>\n",
       "      <th>100</th>\n",
       "      <td>2022-06-05</td>\n",
       "      <td>0</td>\n",
       "      <td>0</td>\n",
       "      <td>0</td>\n",
       "      <td>0</td>\n",
       "      <td>0</td>\n",
       "      <td>0</td>\n",
       "      <td>0</td>\n",
       "      <td>0</td>\n",
       "      <td>150</td>\n",
       "      <td>37</td>\n",
       "      <td>060922</td>\n",
       "    </tr>\n",
       "    <tr>\n",
       "      <th>101</th>\n",
       "      <td>2022-06-06</td>\n",
       "      <td>47</td>\n",
       "      <td>0</td>\n",
       "      <td>0</td>\n",
       "      <td>0</td>\n",
       "      <td>0</td>\n",
       "      <td>0</td>\n",
       "      <td>0</td>\n",
       "      <td>15609</td>\n",
       "      <td>304</td>\n",
       "      <td>58</td>\n",
       "      <td>060922</td>\n",
       "    </tr>\n",
       "    <tr>\n",
       "      <th>102</th>\n",
       "      <td>2022-06-07</td>\n",
       "      <td>38</td>\n",
       "      <td>0</td>\n",
       "      <td>0</td>\n",
       "      <td>0</td>\n",
       "      <td>0</td>\n",
       "      <td>0</td>\n",
       "      <td>0</td>\n",
       "      <td>17516</td>\n",
       "      <td>742</td>\n",
       "      <td>221</td>\n",
       "      <td>060922</td>\n",
       "    </tr>\n",
       "    <tr>\n",
       "      <th>103</th>\n",
       "      <td>2022-06-08</td>\n",
       "      <td>73</td>\n",
       "      <td>0</td>\n",
       "      <td>0</td>\n",
       "      <td>0</td>\n",
       "      <td>0</td>\n",
       "      <td>0</td>\n",
       "      <td>0</td>\n",
       "      <td>11318</td>\n",
       "      <td>596</td>\n",
       "      <td>110</td>\n",
       "      <td>060922</td>\n",
       "    </tr>\n",
       "    <tr>\n",
       "      <th>104</th>\n",
       "      <td>2022-06-09</td>\n",
       "      <td>48</td>\n",
       "      <td>0</td>\n",
       "      <td>0</td>\n",
       "      <td>0</td>\n",
       "      <td>0</td>\n",
       "      <td>0</td>\n",
       "      <td>0</td>\n",
       "      <td>10908</td>\n",
       "      <td>270</td>\n",
       "      <td>61</td>\n",
       "      <td>060922</td>\n",
       "    </tr>\n",
       "  </tbody>\n",
       "</table>\n",
       "<p>105 rows × 12 columns</p>\n",
       "</div>"
      ],
      "text/plain": [
       "         Fecha  Daily New Likes  Daily Unlikes  Daily Page Engaged Users  \\\n",
       "0   2022-02-25                0              0                        11   \n",
       "1   2022-02-26                0              0                         6   \n",
       "2   2022-02-27                0              0                         7   \n",
       "3   2022-02-28                3              2                        69   \n",
       "4   2022-03-01                8              0                       347   \n",
       "..         ...              ...            ...                       ...   \n",
       "100 2022-06-05                0              0                         0   \n",
       "101 2022-06-06               47              0                         0   \n",
       "102 2022-06-07               38              0                         0   \n",
       "103 2022-06-08               73              0                         0   \n",
       "104 2022-06-09               48              0                         0   \n",
       "\n",
       "     Daily Total Reach  Daily Organic Reach  Daily Paid Reach  \\\n",
       "0                  179                  176                 0   \n",
       "1                  115                  112                 0   \n",
       "2                   88                   87                 0   \n",
       "3                  852                  852                 0   \n",
       "4                 3612                 3612                 0   \n",
       "..                 ...                  ...               ...   \n",
       "100                  0                    0                 0   \n",
       "101                  0                    0                 0   \n",
       "102                  0                    0                 0   \n",
       "103                  0                    0                 0   \n",
       "104                  0                    0                 0   \n",
       "\n",
       "     Daily Total Impressions  Daily Reach Of Page Posts  \\\n",
       "0                        243                        176   \n",
       "1                        230                        112   \n",
       "2                        184                         87   \n",
       "3                       1279                        852   \n",
       "4                       7281                       3612   \n",
       "..                       ...                        ...   \n",
       "100                        0                          0   \n",
       "101                        0                      15609   \n",
       "102                        0                      17516   \n",
       "103                        0                      11318   \n",
       "104                        0                      10908   \n",
       "\n",
       "     Daily Total Organic Views  Daily Total Organic 30-Second Views  \\\n",
       "0                           53                                   20   \n",
       "1                           33                                    7   \n",
       "2                           48                                   13   \n",
       "3                           60                                   13   \n",
       "4                          134                                   26   \n",
       "..                         ...                                  ...   \n",
       "100                        150                                   37   \n",
       "101                        304                                   58   \n",
       "102                        742                                  221   \n",
       "103                        596                                  110   \n",
       "104                        270                                   61   \n",
       "\n",
       "    Fecha de corte  \n",
       "0           030322  \n",
       "1           030322  \n",
       "2           030322  \n",
       "3           030322  \n",
       "4           030322  \n",
       "..             ...  \n",
       "100         060922  \n",
       "101         060922  \n",
       "102         060922  \n",
       "103         060922  \n",
       "104         060922  \n",
       "\n",
       "[105 rows x 12 columns]"
      ]
     },
     "execution_count": 10,
     "metadata": {},
     "output_type": "execute_result"
    }
   ],
   "source": [
    "keymetrics"
   ]
  },
  {
   "cell_type": "code",
   "execution_count": 11,
   "metadata": {},
   "outputs": [],
   "source": [
    "archivo =\"data/Grupo/FanPage.xlsx\"\n",
    "keymetrics.to_excel(ruta_git/archivo)"
   ]
  },
  {
   "cell_type": "code",
   "execution_count": null,
   "metadata": {},
   "outputs": [],
   "source": []
  }
 ],
 "metadata": {
  "kernelspec": {
   "display_name": "Python 3 (ipykernel)",
   "language": "python",
   "name": "python3"
  },
  "language_info": {
   "codemirror_mode": {
    "name": "ipython",
    "version": 3
   },
   "file_extension": ".py",
   "mimetype": "text/x-python",
   "name": "python",
   "nbconvert_exporter": "python",
   "pygments_lexer": "ipython3",
   "version": "3.9.12"
  }
 },
 "nbformat": 4,
 "nbformat_minor": 4
}
