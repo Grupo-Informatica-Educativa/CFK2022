{
 "cells": [
  {
   "cell_type": "code",
   "execution_count": 1,
   "metadata": {
    "collapsed": true
   },
   "outputs": [],
   "source": [
    "import pandas as pd\n",
    "import plotly.express as px"
   ]
  },
  {
   "cell_type": "code",
   "execution_count": 43,
   "metadata": {
    "pycharm": {
     "name": "#%%\n"
    }
   },
   "outputs": [
    {
     "data": {
      "text/html": [
       "<div>\n",
       "<style scoped>\n",
       "    .dataframe tbody tr th:only-of-type {\n",
       "        vertical-align: middle;\n",
       "    }\n",
       "\n",
       "    .dataframe tbody tr th {\n",
       "        vertical-align: top;\n",
       "    }\n",
       "\n",
       "    .dataframe thead th {\n",
       "        text-align: right;\n",
       "    }\n",
       "</style>\n",
       "<table border=\"1\" class=\"dataframe\">\n",
       "  <thead>\n",
       "    <tr style=\"text-align: right;\">\n",
       "      <th></th>\n",
       "      <th>ID</th>\n",
       "      <th>Clases</th>\n",
       "      <th>Grados</th>\n",
       "      <th>Nivel_x</th>\n",
       "      <th>Nivel_y</th>\n",
       "      <th>Fecha</th>\n",
       "      <th>Política de datos</th>\n",
       "      <th>Código IE</th>\n",
       "      <th>Tipo ID</th>\n",
       "      <th>Edad</th>\n",
       "      <th>Sexo</th>\n",
       "      <th>Cabeza de hogar</th>\n",
       "      <th>Estado civil</th>\n",
       "      <th>Líder comunitario</th>\n",
       "      <th>Formado CFK</th>\n",
       "      <th>Implementa fichas</th>\n",
       "      <th>Enseña STEM</th>\n",
       "      <th>Formado STEM</th>\n",
       "      <th>Formado tecnología e informática</th>\n",
       "    </tr>\n",
       "  </thead>\n",
       "  <tbody>\n",
       "    <tr>\n",
       "      <th>0</th>\n",
       "      <td>57440504.0</td>\n",
       "      <td>Ciencias naturales y educación ambiental.</td>\n",
       "      <td>10°</td>\n",
       "      <td>Secundaria</td>\n",
       "      <td>Secundaria</td>\n",
       "      <td>19/04</td>\n",
       "      <td>Sí</td>\n",
       "      <td>129</td>\n",
       "      <td>Cédula de ciudadanía</td>\n",
       "      <td>48.0</td>\n",
       "      <td>Femenino</td>\n",
       "      <td>Sí</td>\n",
       "      <td>Separado/a o Divorciado/a</td>\n",
       "      <td>No</td>\n",
       "      <td>No</td>\n",
       "      <td>No</td>\n",
       "      <td>STEM</td>\n",
       "      <td>STEM</td>\n",
       "      <td>No</td>\n",
       "    </tr>\n",
       "    <tr>\n",
       "      <th>1</th>\n",
       "      <td>57440504.0</td>\n",
       "      <td>Ciencias naturales y educación ambiental.</td>\n",
       "      <td>11°</td>\n",
       "      <td>Secundaria</td>\n",
       "      <td>Secundaria</td>\n",
       "      <td>19/04</td>\n",
       "      <td>Sí</td>\n",
       "      <td>129</td>\n",
       "      <td>Cédula de ciudadanía</td>\n",
       "      <td>48.0</td>\n",
       "      <td>Femenino</td>\n",
       "      <td>Sí</td>\n",
       "      <td>Separado/a o Divorciado/a</td>\n",
       "      <td>No</td>\n",
       "      <td>No</td>\n",
       "      <td>No</td>\n",
       "      <td>STEM</td>\n",
       "      <td>STEM</td>\n",
       "      <td>No</td>\n",
       "    </tr>\n",
       "    <tr>\n",
       "      <th>2</th>\n",
       "      <td>57440504.0</td>\n",
       "      <td>Ciencias naturales y educación ambiental.</td>\n",
       "      <td>9°</td>\n",
       "      <td>Secundaria</td>\n",
       "      <td>Secundaria</td>\n",
       "      <td>19/04</td>\n",
       "      <td>Sí</td>\n",
       "      <td>129</td>\n",
       "      <td>Cédula de ciudadanía</td>\n",
       "      <td>48.0</td>\n",
       "      <td>Femenino</td>\n",
       "      <td>Sí</td>\n",
       "      <td>Separado/a o Divorciado/a</td>\n",
       "      <td>No</td>\n",
       "      <td>No</td>\n",
       "      <td>No</td>\n",
       "      <td>STEM</td>\n",
       "      <td>STEM</td>\n",
       "      <td>No</td>\n",
       "    </tr>\n",
       "    <tr>\n",
       "      <th>3</th>\n",
       "      <td>35895805.0</td>\n",
       "      <td>Ciencias naturales y educación ambiental.</td>\n",
       "      <td>10°</td>\n",
       "      <td>Secundaria</td>\n",
       "      <td>Secundaria</td>\n",
       "      <td>19/04</td>\n",
       "      <td>Sí</td>\n",
       "      <td>7</td>\n",
       "      <td>Cédula de ciudadanía</td>\n",
       "      <td>37.0</td>\n",
       "      <td>Femenino</td>\n",
       "      <td>Sí</td>\n",
       "      <td>Casado/a o  En unión libre</td>\n",
       "      <td>No</td>\n",
       "      <td>No</td>\n",
       "      <td>No</td>\n",
       "      <td>STEM</td>\n",
       "      <td>STEM</td>\n",
       "      <td>No</td>\n",
       "    </tr>\n",
       "    <tr>\n",
       "      <th>4</th>\n",
       "      <td>35895805.0</td>\n",
       "      <td>Ciencias naturales y educación ambiental.</td>\n",
       "      <td>11°</td>\n",
       "      <td>Secundaria</td>\n",
       "      <td>Secundaria</td>\n",
       "      <td>19/04</td>\n",
       "      <td>Sí</td>\n",
       "      <td>7</td>\n",
       "      <td>Cédula de ciudadanía</td>\n",
       "      <td>37.0</td>\n",
       "      <td>Femenino</td>\n",
       "      <td>Sí</td>\n",
       "      <td>Casado/a o  En unión libre</td>\n",
       "      <td>No</td>\n",
       "      <td>No</td>\n",
       "      <td>No</td>\n",
       "      <td>STEM</td>\n",
       "      <td>STEM</td>\n",
       "      <td>No</td>\n",
       "    </tr>\n",
       "  </tbody>\n",
       "</table>\n",
       "</div>"
      ],
      "text/plain": [
       "           ID                                     Clases Grados     Nivel_x  \\\n",
       "0  57440504.0  Ciencias naturales y educación ambiental.    10°  Secundaria   \n",
       "1  57440504.0  Ciencias naturales y educación ambiental.    11°  Secundaria   \n",
       "2  57440504.0  Ciencias naturales y educación ambiental.     9°  Secundaria   \n",
       "3  35895805.0  Ciencias naturales y educación ambiental.    10°  Secundaria   \n",
       "4  35895805.0  Ciencias naturales y educación ambiental.    11°  Secundaria   \n",
       "\n",
       "      Nivel_y  Fecha Política de datos  Código IE               Tipo ID  Edad  \\\n",
       "0  Secundaria  19/04                Sí        129  Cédula de ciudadanía  48.0   \n",
       "1  Secundaria  19/04                Sí        129  Cédula de ciudadanía  48.0   \n",
       "2  Secundaria  19/04                Sí        129  Cédula de ciudadanía  48.0   \n",
       "3  Secundaria  19/04                Sí          7  Cédula de ciudadanía  37.0   \n",
       "4  Secundaria  19/04                Sí          7  Cédula de ciudadanía  37.0   \n",
       "\n",
       "       Sexo Cabeza de hogar                Estado civil Líder comunitario  \\\n",
       "0  Femenino              Sí   Separado/a o Divorciado/a                No   \n",
       "1  Femenino              Sí   Separado/a o Divorciado/a                No   \n",
       "2  Femenino              Sí   Separado/a o Divorciado/a                No   \n",
       "3  Femenino              Sí  Casado/a o  En unión libre                No   \n",
       "4  Femenino              Sí  Casado/a o  En unión libre                No   \n",
       "\n",
       "  Formado CFK Implementa fichas Enseña STEM Formado STEM  \\\n",
       "0          No                No        STEM         STEM   \n",
       "1          No                No        STEM         STEM   \n",
       "2          No                No        STEM         STEM   \n",
       "3          No                No        STEM         STEM   \n",
       "4          No                No        STEM         STEM   \n",
       "\n",
       "  Formado tecnología e informática  \n",
       "0                               No  \n",
       "1                               No  \n",
       "2                               No  \n",
       "3                               No  \n",
       "4                               No  "
      ]
     },
     "execution_count": 43,
     "metadata": {},
     "output_type": "execute_result"
    }
   ],
   "source": [
    "df = pd.read_feather('../../data/Doc_Con_Pre_sociodemo.feather')\n",
    "df.head()"
   ]
  },
  {
   "cell_type": "code",
   "execution_count": 44,
   "metadata": {
    "pycharm": {
     "name": "#%%\n"
    }
   },
   "outputs": [
    {
     "data": {
      "application/vnd.plotly.v1+json": {
       "config": {
        "plotlyServerURL": "https://plot.ly"
       },
       "data": [
        {
         "alignmentgroup": "True",
         "hovertemplate": "Sexo=%{x}<br>ID=%{text}<extra></extra>",
         "legendgroup": "Femenino",
         "marker": {
          "color": "rgb(102,194,165)",
          "pattern": {
           "shape": ""
          }
         },
         "name": "Femenino",
         "offsetgroup": "Femenino",
         "orientation": "v",
         "showlegend": true,
         "text": [
          613
         ],
         "textposition": "outside",
         "texttemplate": "%{text}",
         "type": "bar",
         "x": [
          "Femenino"
         ],
         "xaxis": "x",
         "y": [
          613
         ],
         "yaxis": "y"
        },
        {
         "alignmentgroup": "True",
         "hovertemplate": "Sexo=%{x}<br>ID=%{text}<extra></extra>",
         "legendgroup": "Masculino",
         "marker": {
          "color": "rgb(252,141,98)",
          "pattern": {
           "shape": ""
          }
         },
         "name": "Masculino",
         "offsetgroup": "Masculino",
         "orientation": "v",
         "showlegend": true,
         "text": [
          363
         ],
         "textposition": "outside",
         "texttemplate": "%{text}",
         "type": "bar",
         "x": [
          "Masculino"
         ],
         "xaxis": "x",
         "y": [
          363
         ],
         "yaxis": "y"
        },
        {
         "alignmentgroup": "True",
         "hovertemplate": "Sexo=%{x}<br>ID=%{text}<extra></extra>",
         "legendgroup": "Prefiero no responder",
         "marker": {
          "color": "rgb(141,160,203)",
          "pattern": {
           "shape": ""
          }
         },
         "name": "Prefiero no responder",
         "offsetgroup": "Prefiero no responder",
         "orientation": "v",
         "showlegend": true,
         "text": [
          3
         ],
         "textposition": "outside",
         "texttemplate": "%{text}",
         "type": "bar",
         "x": [
          "Prefiero no responder"
         ],
         "xaxis": "x",
         "y": [
          3
         ],
         "yaxis": "y"
        }
       ],
       "layout": {
        "barmode": "relative",
        "legend": {
         "title": {
          "text": "Sexo"
         },
         "tracegroupgap": 0
        },
        "template": {
         "data": {
          "bar": [
           {
            "error_x": {
             "color": "#2a3f5f"
            },
            "error_y": {
             "color": "#2a3f5f"
            },
            "marker": {
             "line": {
              "color": "#E5ECF6",
              "width": 0.5
             },
             "pattern": {
              "fillmode": "overlay",
              "size": 10,
              "solidity": 0.2
             }
            },
            "type": "bar"
           }
          ],
          "barpolar": [
           {
            "marker": {
             "line": {
              "color": "#E5ECF6",
              "width": 0.5
             },
             "pattern": {
              "fillmode": "overlay",
              "size": 10,
              "solidity": 0.2
             }
            },
            "type": "barpolar"
           }
          ],
          "carpet": [
           {
            "aaxis": {
             "endlinecolor": "#2a3f5f",
             "gridcolor": "white",
             "linecolor": "white",
             "minorgridcolor": "white",
             "startlinecolor": "#2a3f5f"
            },
            "baxis": {
             "endlinecolor": "#2a3f5f",
             "gridcolor": "white",
             "linecolor": "white",
             "minorgridcolor": "white",
             "startlinecolor": "#2a3f5f"
            },
            "type": "carpet"
           }
          ],
          "choropleth": [
           {
            "colorbar": {
             "outlinewidth": 0,
             "ticks": ""
            },
            "type": "choropleth"
           }
          ],
          "contour": [
           {
            "colorbar": {
             "outlinewidth": 0,
             "ticks": ""
            },
            "colorscale": [
             [
              0,
              "#0d0887"
             ],
             [
              0.1111111111111111,
              "#46039f"
             ],
             [
              0.2222222222222222,
              "#7201a8"
             ],
             [
              0.3333333333333333,
              "#9c179e"
             ],
             [
              0.4444444444444444,
              "#bd3786"
             ],
             [
              0.5555555555555556,
              "#d8576b"
             ],
             [
              0.6666666666666666,
              "#ed7953"
             ],
             [
              0.7777777777777778,
              "#fb9f3a"
             ],
             [
              0.8888888888888888,
              "#fdca26"
             ],
             [
              1,
              "#f0f921"
             ]
            ],
            "type": "contour"
           }
          ],
          "contourcarpet": [
           {
            "colorbar": {
             "outlinewidth": 0,
             "ticks": ""
            },
            "type": "contourcarpet"
           }
          ],
          "heatmap": [
           {
            "colorbar": {
             "outlinewidth": 0,
             "ticks": ""
            },
            "colorscale": [
             [
              0,
              "#0d0887"
             ],
             [
              0.1111111111111111,
              "#46039f"
             ],
             [
              0.2222222222222222,
              "#7201a8"
             ],
             [
              0.3333333333333333,
              "#9c179e"
             ],
             [
              0.4444444444444444,
              "#bd3786"
             ],
             [
              0.5555555555555556,
              "#d8576b"
             ],
             [
              0.6666666666666666,
              "#ed7953"
             ],
             [
              0.7777777777777778,
              "#fb9f3a"
             ],
             [
              0.8888888888888888,
              "#fdca26"
             ],
             [
              1,
              "#f0f921"
             ]
            ],
            "type": "heatmap"
           }
          ],
          "heatmapgl": [
           {
            "colorbar": {
             "outlinewidth": 0,
             "ticks": ""
            },
            "colorscale": [
             [
              0,
              "#0d0887"
             ],
             [
              0.1111111111111111,
              "#46039f"
             ],
             [
              0.2222222222222222,
              "#7201a8"
             ],
             [
              0.3333333333333333,
              "#9c179e"
             ],
             [
              0.4444444444444444,
              "#bd3786"
             ],
             [
              0.5555555555555556,
              "#d8576b"
             ],
             [
              0.6666666666666666,
              "#ed7953"
             ],
             [
              0.7777777777777778,
              "#fb9f3a"
             ],
             [
              0.8888888888888888,
              "#fdca26"
             ],
             [
              1,
              "#f0f921"
             ]
            ],
            "type": "heatmapgl"
           }
          ],
          "histogram": [
           {
            "marker": {
             "pattern": {
              "fillmode": "overlay",
              "size": 10,
              "solidity": 0.2
             }
            },
            "type": "histogram"
           }
          ],
          "histogram2d": [
           {
            "colorbar": {
             "outlinewidth": 0,
             "ticks": ""
            },
            "colorscale": [
             [
              0,
              "#0d0887"
             ],
             [
              0.1111111111111111,
              "#46039f"
             ],
             [
              0.2222222222222222,
              "#7201a8"
             ],
             [
              0.3333333333333333,
              "#9c179e"
             ],
             [
              0.4444444444444444,
              "#bd3786"
             ],
             [
              0.5555555555555556,
              "#d8576b"
             ],
             [
              0.6666666666666666,
              "#ed7953"
             ],
             [
              0.7777777777777778,
              "#fb9f3a"
             ],
             [
              0.8888888888888888,
              "#fdca26"
             ],
             [
              1,
              "#f0f921"
             ]
            ],
            "type": "histogram2d"
           }
          ],
          "histogram2dcontour": [
           {
            "colorbar": {
             "outlinewidth": 0,
             "ticks": ""
            },
            "colorscale": [
             [
              0,
              "#0d0887"
             ],
             [
              0.1111111111111111,
              "#46039f"
             ],
             [
              0.2222222222222222,
              "#7201a8"
             ],
             [
              0.3333333333333333,
              "#9c179e"
             ],
             [
              0.4444444444444444,
              "#bd3786"
             ],
             [
              0.5555555555555556,
              "#d8576b"
             ],
             [
              0.6666666666666666,
              "#ed7953"
             ],
             [
              0.7777777777777778,
              "#fb9f3a"
             ],
             [
              0.8888888888888888,
              "#fdca26"
             ],
             [
              1,
              "#f0f921"
             ]
            ],
            "type": "histogram2dcontour"
           }
          ],
          "mesh3d": [
           {
            "colorbar": {
             "outlinewidth": 0,
             "ticks": ""
            },
            "type": "mesh3d"
           }
          ],
          "parcoords": [
           {
            "line": {
             "colorbar": {
              "outlinewidth": 0,
              "ticks": ""
             }
            },
            "type": "parcoords"
           }
          ],
          "pie": [
           {
            "automargin": true,
            "type": "pie"
           }
          ],
          "scatter": [
           {
            "fillpattern": {
             "fillmode": "overlay",
             "size": 10,
             "solidity": 0.2
            },
            "type": "scatter"
           }
          ],
          "scatter3d": [
           {
            "line": {
             "colorbar": {
              "outlinewidth": 0,
              "ticks": ""
             }
            },
            "marker": {
             "colorbar": {
              "outlinewidth": 0,
              "ticks": ""
             }
            },
            "type": "scatter3d"
           }
          ],
          "scattercarpet": [
           {
            "marker": {
             "colorbar": {
              "outlinewidth": 0,
              "ticks": ""
             }
            },
            "type": "scattercarpet"
           }
          ],
          "scattergeo": [
           {
            "marker": {
             "colorbar": {
              "outlinewidth": 0,
              "ticks": ""
             }
            },
            "type": "scattergeo"
           }
          ],
          "scattergl": [
           {
            "marker": {
             "colorbar": {
              "outlinewidth": 0,
              "ticks": ""
             }
            },
            "type": "scattergl"
           }
          ],
          "scattermapbox": [
           {
            "marker": {
             "colorbar": {
              "outlinewidth": 0,
              "ticks": ""
             }
            },
            "type": "scattermapbox"
           }
          ],
          "scatterpolar": [
           {
            "marker": {
             "colorbar": {
              "outlinewidth": 0,
              "ticks": ""
             }
            },
            "type": "scatterpolar"
           }
          ],
          "scatterpolargl": [
           {
            "marker": {
             "colorbar": {
              "outlinewidth": 0,
              "ticks": ""
             }
            },
            "type": "scatterpolargl"
           }
          ],
          "scatterternary": [
           {
            "marker": {
             "colorbar": {
              "outlinewidth": 0,
              "ticks": ""
             }
            },
            "type": "scatterternary"
           }
          ],
          "surface": [
           {
            "colorbar": {
             "outlinewidth": 0,
             "ticks": ""
            },
            "colorscale": [
             [
              0,
              "#0d0887"
             ],
             [
              0.1111111111111111,
              "#46039f"
             ],
             [
              0.2222222222222222,
              "#7201a8"
             ],
             [
              0.3333333333333333,
              "#9c179e"
             ],
             [
              0.4444444444444444,
              "#bd3786"
             ],
             [
              0.5555555555555556,
              "#d8576b"
             ],
             [
              0.6666666666666666,
              "#ed7953"
             ],
             [
              0.7777777777777778,
              "#fb9f3a"
             ],
             [
              0.8888888888888888,
              "#fdca26"
             ],
             [
              1,
              "#f0f921"
             ]
            ],
            "type": "surface"
           }
          ],
          "table": [
           {
            "cells": {
             "fill": {
              "color": "#EBF0F8"
             },
             "line": {
              "color": "white"
             }
            },
            "header": {
             "fill": {
              "color": "#C8D4E3"
             },
             "line": {
              "color": "white"
             }
            },
            "type": "table"
           }
          ]
         },
         "layout": {
          "annotationdefaults": {
           "arrowcolor": "#2a3f5f",
           "arrowhead": 0,
           "arrowwidth": 1
          },
          "autotypenumbers": "strict",
          "coloraxis": {
           "colorbar": {
            "outlinewidth": 0,
            "ticks": ""
           }
          },
          "colorscale": {
           "diverging": [
            [
             0,
             "#8e0152"
            ],
            [
             0.1,
             "#c51b7d"
            ],
            [
             0.2,
             "#de77ae"
            ],
            [
             0.3,
             "#f1b6da"
            ],
            [
             0.4,
             "#fde0ef"
            ],
            [
             0.5,
             "#f7f7f7"
            ],
            [
             0.6,
             "#e6f5d0"
            ],
            [
             0.7,
             "#b8e186"
            ],
            [
             0.8,
             "#7fbc41"
            ],
            [
             0.9,
             "#4d9221"
            ],
            [
             1,
             "#276419"
            ]
           ],
           "sequential": [
            [
             0,
             "#0d0887"
            ],
            [
             0.1111111111111111,
             "#46039f"
            ],
            [
             0.2222222222222222,
             "#7201a8"
            ],
            [
             0.3333333333333333,
             "#9c179e"
            ],
            [
             0.4444444444444444,
             "#bd3786"
            ],
            [
             0.5555555555555556,
             "#d8576b"
            ],
            [
             0.6666666666666666,
             "#ed7953"
            ],
            [
             0.7777777777777778,
             "#fb9f3a"
            ],
            [
             0.8888888888888888,
             "#fdca26"
            ],
            [
             1,
             "#f0f921"
            ]
           ],
           "sequentialminus": [
            [
             0,
             "#0d0887"
            ],
            [
             0.1111111111111111,
             "#46039f"
            ],
            [
             0.2222222222222222,
             "#7201a8"
            ],
            [
             0.3333333333333333,
             "#9c179e"
            ],
            [
             0.4444444444444444,
             "#bd3786"
            ],
            [
             0.5555555555555556,
             "#d8576b"
            ],
            [
             0.6666666666666666,
             "#ed7953"
            ],
            [
             0.7777777777777778,
             "#fb9f3a"
            ],
            [
             0.8888888888888888,
             "#fdca26"
            ],
            [
             1,
             "#f0f921"
            ]
           ]
          },
          "colorway": [
           "#636efa",
           "#EF553B",
           "#00cc96",
           "#ab63fa",
           "#FFA15A",
           "#19d3f3",
           "#FF6692",
           "#B6E880",
           "#FF97FF",
           "#FECB52"
          ],
          "font": {
           "color": "#2a3f5f"
          },
          "geo": {
           "bgcolor": "white",
           "lakecolor": "white",
           "landcolor": "#E5ECF6",
           "showlakes": true,
           "showland": true,
           "subunitcolor": "white"
          },
          "hoverlabel": {
           "align": "left"
          },
          "hovermode": "closest",
          "mapbox": {
           "style": "light"
          },
          "paper_bgcolor": "white",
          "plot_bgcolor": "#E5ECF6",
          "polar": {
           "angularaxis": {
            "gridcolor": "white",
            "linecolor": "white",
            "ticks": ""
           },
           "bgcolor": "#E5ECF6",
           "radialaxis": {
            "gridcolor": "white",
            "linecolor": "white",
            "ticks": ""
           }
          },
          "scene": {
           "xaxis": {
            "backgroundcolor": "#E5ECF6",
            "gridcolor": "white",
            "gridwidth": 2,
            "linecolor": "white",
            "showbackground": true,
            "ticks": "",
            "zerolinecolor": "white"
           },
           "yaxis": {
            "backgroundcolor": "#E5ECF6",
            "gridcolor": "white",
            "gridwidth": 2,
            "linecolor": "white",
            "showbackground": true,
            "ticks": "",
            "zerolinecolor": "white"
           },
           "zaxis": {
            "backgroundcolor": "#E5ECF6",
            "gridcolor": "white",
            "gridwidth": 2,
            "linecolor": "white",
            "showbackground": true,
            "ticks": "",
            "zerolinecolor": "white"
           }
          },
          "shapedefaults": {
           "line": {
            "color": "#2a3f5f"
           }
          },
          "ternary": {
           "aaxis": {
            "gridcolor": "white",
            "linecolor": "white",
            "ticks": ""
           },
           "baxis": {
            "gridcolor": "white",
            "linecolor": "white",
            "ticks": ""
           },
           "bgcolor": "#E5ECF6",
           "caxis": {
            "gridcolor": "white",
            "linecolor": "white",
            "ticks": ""
           }
          },
          "title": {
           "x": 0.05
          },
          "xaxis": {
           "automargin": true,
           "gridcolor": "white",
           "linecolor": "white",
           "ticks": "",
           "title": {
            "standoff": 15
           },
           "zerolinecolor": "white",
           "zerolinewidth": 2
          },
          "yaxis": {
           "automargin": true,
           "gridcolor": "white",
           "linecolor": "white",
           "ticks": "",
           "title": {
            "standoff": 15
           },
           "zerolinecolor": "white",
           "zerolinewidth": 2
          }
         }
        },
        "title": {
         "text": "Docentes participantes"
        },
        "xaxis": {
         "anchor": "y",
         "categoryarray": [
          "Femenino",
          "Masculino",
          "Prefiero no responder"
         ],
         "categoryorder": "array",
         "domain": [
          0,
          1
         ],
         "title": {
          "text": "Sexo"
         }
        },
        "yaxis": {
         "anchor": "x",
         "domain": [
          0,
          1
         ],
         "title": {
          "text": "ID"
         }
        }
       }
      },
      "text/html": [
       "<div>                            <div id=\"2ad3b2df-9cc7-4bcc-9c2c-49902b052414\" class=\"plotly-graph-div\" style=\"height:525px; width:100%;\"></div>            <script type=\"text/javascript\">                require([\"plotly\"], function(Plotly) {                    window.PLOTLYENV=window.PLOTLYENV || {};                                    if (document.getElementById(\"2ad3b2df-9cc7-4bcc-9c2c-49902b052414\")) {                    Plotly.newPlot(                        \"2ad3b2df-9cc7-4bcc-9c2c-49902b052414\",                        [{\"alignmentgroup\":\"True\",\"hovertemplate\":\"Sexo=%{x}<br>ID=%{text}<extra></extra>\",\"legendgroup\":\"Femenino\",\"marker\":{\"color\":\"rgb(102,194,165)\",\"pattern\":{\"shape\":\"\"}},\"name\":\"Femenino\",\"offsetgroup\":\"Femenino\",\"orientation\":\"v\",\"showlegend\":true,\"text\":[613.0],\"textposition\":\"outside\",\"x\":[\"Femenino\"],\"xaxis\":\"x\",\"y\":[613],\"yaxis\":\"y\",\"type\":\"bar\",\"texttemplate\":\"%{text}\"},{\"alignmentgroup\":\"True\",\"hovertemplate\":\"Sexo=%{x}<br>ID=%{text}<extra></extra>\",\"legendgroup\":\"Masculino\",\"marker\":{\"color\":\"rgb(252,141,98)\",\"pattern\":{\"shape\":\"\"}},\"name\":\"Masculino\",\"offsetgroup\":\"Masculino\",\"orientation\":\"v\",\"showlegend\":true,\"text\":[363.0],\"textposition\":\"outside\",\"x\":[\"Masculino\"],\"xaxis\":\"x\",\"y\":[363],\"yaxis\":\"y\",\"type\":\"bar\",\"texttemplate\":\"%{text}\"},{\"alignmentgroup\":\"True\",\"hovertemplate\":\"Sexo=%{x}<br>ID=%{text}<extra></extra>\",\"legendgroup\":\"Prefiero no responder\",\"marker\":{\"color\":\"rgb(141,160,203)\",\"pattern\":{\"shape\":\"\"}},\"name\":\"Prefiero no responder\",\"offsetgroup\":\"Prefiero no responder\",\"orientation\":\"v\",\"showlegend\":true,\"text\":[3.0],\"textposition\":\"outside\",\"x\":[\"Prefiero no responder\"],\"xaxis\":\"x\",\"y\":[3],\"yaxis\":\"y\",\"type\":\"bar\",\"texttemplate\":\"%{text}\"}],                        {\"template\":{\"data\":{\"histogram2dcontour\":[{\"type\":\"histogram2dcontour\",\"colorbar\":{\"outlinewidth\":0,\"ticks\":\"\"},\"colorscale\":[[0.0,\"#0d0887\"],[0.1111111111111111,\"#46039f\"],[0.2222222222222222,\"#7201a8\"],[0.3333333333333333,\"#9c179e\"],[0.4444444444444444,\"#bd3786\"],[0.5555555555555556,\"#d8576b\"],[0.6666666666666666,\"#ed7953\"],[0.7777777777777778,\"#fb9f3a\"],[0.8888888888888888,\"#fdca26\"],[1.0,\"#f0f921\"]]}],\"choropleth\":[{\"type\":\"choropleth\",\"colorbar\":{\"outlinewidth\":0,\"ticks\":\"\"}}],\"histogram2d\":[{\"type\":\"histogram2d\",\"colorbar\":{\"outlinewidth\":0,\"ticks\":\"\"},\"colorscale\":[[0.0,\"#0d0887\"],[0.1111111111111111,\"#46039f\"],[0.2222222222222222,\"#7201a8\"],[0.3333333333333333,\"#9c179e\"],[0.4444444444444444,\"#bd3786\"],[0.5555555555555556,\"#d8576b\"],[0.6666666666666666,\"#ed7953\"],[0.7777777777777778,\"#fb9f3a\"],[0.8888888888888888,\"#fdca26\"],[1.0,\"#f0f921\"]]}],\"heatmap\":[{\"type\":\"heatmap\",\"colorbar\":{\"outlinewidth\":0,\"ticks\":\"\"},\"colorscale\":[[0.0,\"#0d0887\"],[0.1111111111111111,\"#46039f\"],[0.2222222222222222,\"#7201a8\"],[0.3333333333333333,\"#9c179e\"],[0.4444444444444444,\"#bd3786\"],[0.5555555555555556,\"#d8576b\"],[0.6666666666666666,\"#ed7953\"],[0.7777777777777778,\"#fb9f3a\"],[0.8888888888888888,\"#fdca26\"],[1.0,\"#f0f921\"]]}],\"heatmapgl\":[{\"type\":\"heatmapgl\",\"colorbar\":{\"outlinewidth\":0,\"ticks\":\"\"},\"colorscale\":[[0.0,\"#0d0887\"],[0.1111111111111111,\"#46039f\"],[0.2222222222222222,\"#7201a8\"],[0.3333333333333333,\"#9c179e\"],[0.4444444444444444,\"#bd3786\"],[0.5555555555555556,\"#d8576b\"],[0.6666666666666666,\"#ed7953\"],[0.7777777777777778,\"#fb9f3a\"],[0.8888888888888888,\"#fdca26\"],[1.0,\"#f0f921\"]]}],\"contourcarpet\":[{\"type\":\"contourcarpet\",\"colorbar\":{\"outlinewidth\":0,\"ticks\":\"\"}}],\"contour\":[{\"type\":\"contour\",\"colorbar\":{\"outlinewidth\":0,\"ticks\":\"\"},\"colorscale\":[[0.0,\"#0d0887\"],[0.1111111111111111,\"#46039f\"],[0.2222222222222222,\"#7201a8\"],[0.3333333333333333,\"#9c179e\"],[0.4444444444444444,\"#bd3786\"],[0.5555555555555556,\"#d8576b\"],[0.6666666666666666,\"#ed7953\"],[0.7777777777777778,\"#fb9f3a\"],[0.8888888888888888,\"#fdca26\"],[1.0,\"#f0f921\"]]}],\"surface\":[{\"type\":\"surface\",\"colorbar\":{\"outlinewidth\":0,\"ticks\":\"\"},\"colorscale\":[[0.0,\"#0d0887\"],[0.1111111111111111,\"#46039f\"],[0.2222222222222222,\"#7201a8\"],[0.3333333333333333,\"#9c179e\"],[0.4444444444444444,\"#bd3786\"],[0.5555555555555556,\"#d8576b\"],[0.6666666666666666,\"#ed7953\"],[0.7777777777777778,\"#fb9f3a\"],[0.8888888888888888,\"#fdca26\"],[1.0,\"#f0f921\"]]}],\"mesh3d\":[{\"type\":\"mesh3d\",\"colorbar\":{\"outlinewidth\":0,\"ticks\":\"\"}}],\"scatter\":[{\"fillpattern\":{\"fillmode\":\"overlay\",\"size\":10,\"solidity\":0.2},\"type\":\"scatter\"}],\"parcoords\":[{\"type\":\"parcoords\",\"line\":{\"colorbar\":{\"outlinewidth\":0,\"ticks\":\"\"}}}],\"scatterpolargl\":[{\"type\":\"scatterpolargl\",\"marker\":{\"colorbar\":{\"outlinewidth\":0,\"ticks\":\"\"}}}],\"bar\":[{\"error_x\":{\"color\":\"#2a3f5f\"},\"error_y\":{\"color\":\"#2a3f5f\"},\"marker\":{\"line\":{\"color\":\"#E5ECF6\",\"width\":0.5},\"pattern\":{\"fillmode\":\"overlay\",\"size\":10,\"solidity\":0.2}},\"type\":\"bar\"}],\"scattergeo\":[{\"type\":\"scattergeo\",\"marker\":{\"colorbar\":{\"outlinewidth\":0,\"ticks\":\"\"}}}],\"scatterpolar\":[{\"type\":\"scatterpolar\",\"marker\":{\"colorbar\":{\"outlinewidth\":0,\"ticks\":\"\"}}}],\"histogram\":[{\"marker\":{\"pattern\":{\"fillmode\":\"overlay\",\"size\":10,\"solidity\":0.2}},\"type\":\"histogram\"}],\"scattergl\":[{\"type\":\"scattergl\",\"marker\":{\"colorbar\":{\"outlinewidth\":0,\"ticks\":\"\"}}}],\"scatter3d\":[{\"type\":\"scatter3d\",\"line\":{\"colorbar\":{\"outlinewidth\":0,\"ticks\":\"\"}},\"marker\":{\"colorbar\":{\"outlinewidth\":0,\"ticks\":\"\"}}}],\"scattermapbox\":[{\"type\":\"scattermapbox\",\"marker\":{\"colorbar\":{\"outlinewidth\":0,\"ticks\":\"\"}}}],\"scatterternary\":[{\"type\":\"scatterternary\",\"marker\":{\"colorbar\":{\"outlinewidth\":0,\"ticks\":\"\"}}}],\"scattercarpet\":[{\"type\":\"scattercarpet\",\"marker\":{\"colorbar\":{\"outlinewidth\":0,\"ticks\":\"\"}}}],\"carpet\":[{\"aaxis\":{\"endlinecolor\":\"#2a3f5f\",\"gridcolor\":\"white\",\"linecolor\":\"white\",\"minorgridcolor\":\"white\",\"startlinecolor\":\"#2a3f5f\"},\"baxis\":{\"endlinecolor\":\"#2a3f5f\",\"gridcolor\":\"white\",\"linecolor\":\"white\",\"minorgridcolor\":\"white\",\"startlinecolor\":\"#2a3f5f\"},\"type\":\"carpet\"}],\"table\":[{\"cells\":{\"fill\":{\"color\":\"#EBF0F8\"},\"line\":{\"color\":\"white\"}},\"header\":{\"fill\":{\"color\":\"#C8D4E3\"},\"line\":{\"color\":\"white\"}},\"type\":\"table\"}],\"barpolar\":[{\"marker\":{\"line\":{\"color\":\"#E5ECF6\",\"width\":0.5},\"pattern\":{\"fillmode\":\"overlay\",\"size\":10,\"solidity\":0.2}},\"type\":\"barpolar\"}],\"pie\":[{\"automargin\":true,\"type\":\"pie\"}]},\"layout\":{\"autotypenumbers\":\"strict\",\"colorway\":[\"#636efa\",\"#EF553B\",\"#00cc96\",\"#ab63fa\",\"#FFA15A\",\"#19d3f3\",\"#FF6692\",\"#B6E880\",\"#FF97FF\",\"#FECB52\"],\"font\":{\"color\":\"#2a3f5f\"},\"hovermode\":\"closest\",\"hoverlabel\":{\"align\":\"left\"},\"paper_bgcolor\":\"white\",\"plot_bgcolor\":\"#E5ECF6\",\"polar\":{\"bgcolor\":\"#E5ECF6\",\"angularaxis\":{\"gridcolor\":\"white\",\"linecolor\":\"white\",\"ticks\":\"\"},\"radialaxis\":{\"gridcolor\":\"white\",\"linecolor\":\"white\",\"ticks\":\"\"}},\"ternary\":{\"bgcolor\":\"#E5ECF6\",\"aaxis\":{\"gridcolor\":\"white\",\"linecolor\":\"white\",\"ticks\":\"\"},\"baxis\":{\"gridcolor\":\"white\",\"linecolor\":\"white\",\"ticks\":\"\"},\"caxis\":{\"gridcolor\":\"white\",\"linecolor\":\"white\",\"ticks\":\"\"}},\"coloraxis\":{\"colorbar\":{\"outlinewidth\":0,\"ticks\":\"\"}},\"colorscale\":{\"sequential\":[[0.0,\"#0d0887\"],[0.1111111111111111,\"#46039f\"],[0.2222222222222222,\"#7201a8\"],[0.3333333333333333,\"#9c179e\"],[0.4444444444444444,\"#bd3786\"],[0.5555555555555556,\"#d8576b\"],[0.6666666666666666,\"#ed7953\"],[0.7777777777777778,\"#fb9f3a\"],[0.8888888888888888,\"#fdca26\"],[1.0,\"#f0f921\"]],\"sequentialminus\":[[0.0,\"#0d0887\"],[0.1111111111111111,\"#46039f\"],[0.2222222222222222,\"#7201a8\"],[0.3333333333333333,\"#9c179e\"],[0.4444444444444444,\"#bd3786\"],[0.5555555555555556,\"#d8576b\"],[0.6666666666666666,\"#ed7953\"],[0.7777777777777778,\"#fb9f3a\"],[0.8888888888888888,\"#fdca26\"],[1.0,\"#f0f921\"]],\"diverging\":[[0,\"#8e0152\"],[0.1,\"#c51b7d\"],[0.2,\"#de77ae\"],[0.3,\"#f1b6da\"],[0.4,\"#fde0ef\"],[0.5,\"#f7f7f7\"],[0.6,\"#e6f5d0\"],[0.7,\"#b8e186\"],[0.8,\"#7fbc41\"],[0.9,\"#4d9221\"],[1,\"#276419\"]]},\"xaxis\":{\"gridcolor\":\"white\",\"linecolor\":\"white\",\"ticks\":\"\",\"title\":{\"standoff\":15},\"zerolinecolor\":\"white\",\"automargin\":true,\"zerolinewidth\":2},\"yaxis\":{\"gridcolor\":\"white\",\"linecolor\":\"white\",\"ticks\":\"\",\"title\":{\"standoff\":15},\"zerolinecolor\":\"white\",\"automargin\":true,\"zerolinewidth\":2},\"scene\":{\"xaxis\":{\"backgroundcolor\":\"#E5ECF6\",\"gridcolor\":\"white\",\"linecolor\":\"white\",\"showbackground\":true,\"ticks\":\"\",\"zerolinecolor\":\"white\",\"gridwidth\":2},\"yaxis\":{\"backgroundcolor\":\"#E5ECF6\",\"gridcolor\":\"white\",\"linecolor\":\"white\",\"showbackground\":true,\"ticks\":\"\",\"zerolinecolor\":\"white\",\"gridwidth\":2},\"zaxis\":{\"backgroundcolor\":\"#E5ECF6\",\"gridcolor\":\"white\",\"linecolor\":\"white\",\"showbackground\":true,\"ticks\":\"\",\"zerolinecolor\":\"white\",\"gridwidth\":2}},\"shapedefaults\":{\"line\":{\"color\":\"#2a3f5f\"}},\"annotationdefaults\":{\"arrowcolor\":\"#2a3f5f\",\"arrowhead\":0,\"arrowwidth\":1},\"geo\":{\"bgcolor\":\"white\",\"landcolor\":\"#E5ECF6\",\"subunitcolor\":\"white\",\"showland\":true,\"showlakes\":true,\"lakecolor\":\"white\"},\"title\":{\"x\":0.05},\"mapbox\":{\"style\":\"light\"}}},\"xaxis\":{\"anchor\":\"y\",\"domain\":[0.0,1.0],\"title\":{\"text\":\"Sexo\"},\"categoryorder\":\"array\",\"categoryarray\":[\"Femenino\",\"Masculino\",\"Prefiero no responder\"]},\"yaxis\":{\"anchor\":\"x\",\"domain\":[0.0,1.0],\"title\":{\"text\":\"ID\"}},\"legend\":{\"title\":{\"text\":\"Sexo\"},\"tracegroupgap\":0},\"title\":{\"text\":\"Docentes participantes\"},\"barmode\":\"relative\"},                        {\"responsive\": true}                    ).then(function(){\n",
       "                            \n",
       "var gd = document.getElementById('2ad3b2df-9cc7-4bcc-9c2c-49902b052414');\n",
       "var x = new MutationObserver(function (mutations, observer) {{\n",
       "        var display = window.getComputedStyle(gd).display;\n",
       "        if (!display || display === 'none') {{\n",
       "            console.log([gd, 'removed!']);\n",
       "            Plotly.purge(gd);\n",
       "            observer.disconnect();\n",
       "        }}\n",
       "}});\n",
       "\n",
       "// Listen for the removal of the full notebook cells\n",
       "var notebookContainer = gd.closest('#notebook-container');\n",
       "if (notebookContainer) {{\n",
       "    x.observe(notebookContainer, {childList: true});\n",
       "}}\n",
       "\n",
       "// Listen for the clearing of the current output cell\n",
       "var outputEl = gd.closest('.output');\n",
       "if (outputEl) {{\n",
       "    x.observe(outputEl, {childList: true});\n",
       "}}\n",
       "\n",
       "                        })                };                });            </script>        </div>"
      ]
     },
     "metadata": {},
     "output_type": "display_data"
    }
   ],
   "source": [
    "pivot_1 = pd.pivot_table(df, index='Sexo', values='ID', aggfunc='nunique').reset_index()\n",
    "fig_1 = px.bar(pivot_1, x='Sexo', y ='ID',  color='Sexo', text='ID', color_discrete_sequence= px.colors.qualitative.Set2, title='Docentes participantes')\n",
    "fig_1.update_traces(textposition='outside',\n",
    "                    texttemplate='%{text}')\n",
    "fig_1.show()"
   ]
  },
  {
   "cell_type": "code",
   "execution_count": 45,
   "metadata": {
    "pycharm": {
     "name": "#%%\n"
    }
   },
   "outputs": [
    {
     "data": {
      "text/html": [
       "<div>\n",
       "<style scoped>\n",
       "    .dataframe tbody tr th:only-of-type {\n",
       "        vertical-align: middle;\n",
       "    }\n",
       "\n",
       "    .dataframe tbody tr th {\n",
       "        vertical-align: top;\n",
       "    }\n",
       "\n",
       "    .dataframe thead th {\n",
       "        text-align: right;\n",
       "    }\n",
       "</style>\n",
       "<table border=\"1\" class=\"dataframe\">\n",
       "  <thead>\n",
       "    <tr style=\"text-align: right;\">\n",
       "      <th></th>\n",
       "      <th>ID</th>\n",
       "      <th>Clases</th>\n",
       "      <th>Grados</th>\n",
       "      <th>Nivel_x</th>\n",
       "      <th>Nivel_y</th>\n",
       "      <th>Fecha</th>\n",
       "      <th>Política de datos</th>\n",
       "      <th>Código IE</th>\n",
       "      <th>Tipo ID</th>\n",
       "      <th>Edad</th>\n",
       "      <th>Sexo</th>\n",
       "      <th>Cabeza de hogar</th>\n",
       "      <th>Estado civil</th>\n",
       "      <th>Líder comunitario</th>\n",
       "      <th>Formado CFK</th>\n",
       "      <th>Implementa fichas</th>\n",
       "      <th>Enseña STEM</th>\n",
       "      <th>Formado STEM</th>\n",
       "      <th>Formado tecnología e informática</th>\n",
       "    </tr>\n",
       "  </thead>\n",
       "  <tbody>\n",
       "    <tr>\n",
       "      <th>1046</th>\n",
       "      <td>66.0</td>\n",
       "      <td>Ciencias naturales y educación ambiental.</td>\n",
       "      <td>2°</td>\n",
       "      <td>Primaria</td>\n",
       "      <td>Primaria</td>\n",
       "      <td>22/04</td>\n",
       "      <td>Sí</td>\n",
       "      <td>67</td>\n",
       "      <td>Cédula de ciudadanía</td>\n",
       "      <td>51.0</td>\n",
       "      <td>Femenino</td>\n",
       "      <td>Sí</td>\n",
       "      <td>Casado/a o  En unión libre</td>\n",
       "      <td>No</td>\n",
       "      <td>No</td>\n",
       "      <td>No</td>\n",
       "      <td>No STEM</td>\n",
       "      <td>No STEM</td>\n",
       "      <td>No</td>\n",
       "    </tr>\n",
       "    <tr>\n",
       "      <th>1047</th>\n",
       "      <td>66.0</td>\n",
       "      <td>Ciencias sociales, historia, geografía, consti...</td>\n",
       "      <td>2°</td>\n",
       "      <td>Primaria</td>\n",
       "      <td>Primaria</td>\n",
       "      <td>22/04</td>\n",
       "      <td>Sí</td>\n",
       "      <td>67</td>\n",
       "      <td>Cédula de ciudadanía</td>\n",
       "      <td>51.0</td>\n",
       "      <td>Femenino</td>\n",
       "      <td>Sí</td>\n",
       "      <td>Casado/a o  En unión libre</td>\n",
       "      <td>No</td>\n",
       "      <td>No</td>\n",
       "      <td>No</td>\n",
       "      <td>No STEM</td>\n",
       "      <td>No STEM</td>\n",
       "      <td>No</td>\n",
       "    </tr>\n",
       "    <tr>\n",
       "      <th>1048</th>\n",
       "      <td>66.0</td>\n",
       "      <td>Educación artística.</td>\n",
       "      <td>2°</td>\n",
       "      <td>Primaria</td>\n",
       "      <td>Primaria</td>\n",
       "      <td>22/04</td>\n",
       "      <td>Sí</td>\n",
       "      <td>67</td>\n",
       "      <td>Cédula de ciudadanía</td>\n",
       "      <td>51.0</td>\n",
       "      <td>Femenino</td>\n",
       "      <td>Sí</td>\n",
       "      <td>Casado/a o  En unión libre</td>\n",
       "      <td>No</td>\n",
       "      <td>No</td>\n",
       "      <td>No</td>\n",
       "      <td>No STEM</td>\n",
       "      <td>No STEM</td>\n",
       "      <td>No</td>\n",
       "    </tr>\n",
       "    <tr>\n",
       "      <th>1049</th>\n",
       "      <td>66.0</td>\n",
       "      <td>Educación ética y en valores humanos.</td>\n",
       "      <td>2°</td>\n",
       "      <td>Primaria</td>\n",
       "      <td>Primaria</td>\n",
       "      <td>22/04</td>\n",
       "      <td>Sí</td>\n",
       "      <td>67</td>\n",
       "      <td>Cédula de ciudadanía</td>\n",
       "      <td>51.0</td>\n",
       "      <td>Femenino</td>\n",
       "      <td>Sí</td>\n",
       "      <td>Casado/a o  En unión libre</td>\n",
       "      <td>No</td>\n",
       "      <td>No</td>\n",
       "      <td>No</td>\n",
       "      <td>No STEM</td>\n",
       "      <td>No STEM</td>\n",
       "      <td>No</td>\n",
       "    </tr>\n",
       "    <tr>\n",
       "      <th>1050</th>\n",
       "      <td>66.0</td>\n",
       "      <td>Educación física, recreación y deportes.</td>\n",
       "      <td>2°</td>\n",
       "      <td>Primaria</td>\n",
       "      <td>Primaria</td>\n",
       "      <td>22/04</td>\n",
       "      <td>Sí</td>\n",
       "      <td>67</td>\n",
       "      <td>Cédula de ciudadanía</td>\n",
       "      <td>51.0</td>\n",
       "      <td>Femenino</td>\n",
       "      <td>Sí</td>\n",
       "      <td>Casado/a o  En unión libre</td>\n",
       "      <td>No</td>\n",
       "      <td>No</td>\n",
       "      <td>No</td>\n",
       "      <td>No STEM</td>\n",
       "      <td>No STEM</td>\n",
       "      <td>No</td>\n",
       "    </tr>\n",
       "    <tr>\n",
       "      <th>1051</th>\n",
       "      <td>66.0</td>\n",
       "      <td>Educación religiosa.</td>\n",
       "      <td>2°</td>\n",
       "      <td>Primaria</td>\n",
       "      <td>Primaria</td>\n",
       "      <td>22/04</td>\n",
       "      <td>Sí</td>\n",
       "      <td>67</td>\n",
       "      <td>Cédula de ciudadanía</td>\n",
       "      <td>51.0</td>\n",
       "      <td>Femenino</td>\n",
       "      <td>Sí</td>\n",
       "      <td>Casado/a o  En unión libre</td>\n",
       "      <td>No</td>\n",
       "      <td>No</td>\n",
       "      <td>No</td>\n",
       "      <td>No STEM</td>\n",
       "      <td>No STEM</td>\n",
       "      <td>No</td>\n",
       "    </tr>\n",
       "    <tr>\n",
       "      <th>1052</th>\n",
       "      <td>66.0</td>\n",
       "      <td>Educación religiosa.</td>\n",
       "      <td>2°</td>\n",
       "      <td>Primaria</td>\n",
       "      <td>Primaria</td>\n",
       "      <td>22/04</td>\n",
       "      <td>Sí</td>\n",
       "      <td>67</td>\n",
       "      <td>Cédula de ciudadanía</td>\n",
       "      <td>51.0</td>\n",
       "      <td>Femenino</td>\n",
       "      <td>Sí</td>\n",
       "      <td>Casado/a o  En unión libre</td>\n",
       "      <td>No</td>\n",
       "      <td>No</td>\n",
       "      <td>No</td>\n",
       "      <td>No STEM</td>\n",
       "      <td>No STEM</td>\n",
       "      <td>No</td>\n",
       "    </tr>\n",
       "    <tr>\n",
       "      <th>1053</th>\n",
       "      <td>66.0</td>\n",
       "      <td>Humanidades, lengua castellana e idiomas extra...</td>\n",
       "      <td>2°</td>\n",
       "      <td>Primaria</td>\n",
       "      <td>Primaria</td>\n",
       "      <td>22/04</td>\n",
       "      <td>Sí</td>\n",
       "      <td>67</td>\n",
       "      <td>Cédula de ciudadanía</td>\n",
       "      <td>51.0</td>\n",
       "      <td>Femenino</td>\n",
       "      <td>Sí</td>\n",
       "      <td>Casado/a o  En unión libre</td>\n",
       "      <td>No</td>\n",
       "      <td>No</td>\n",
       "      <td>No</td>\n",
       "      <td>No STEM</td>\n",
       "      <td>No STEM</td>\n",
       "      <td>No</td>\n",
       "    </tr>\n",
       "    <tr>\n",
       "      <th>1054</th>\n",
       "      <td>66.0</td>\n",
       "      <td>Matemáticas.</td>\n",
       "      <td>2°</td>\n",
       "      <td>Primaria</td>\n",
       "      <td>Primaria</td>\n",
       "      <td>22/04</td>\n",
       "      <td>Sí</td>\n",
       "      <td>67</td>\n",
       "      <td>Cédula de ciudadanía</td>\n",
       "      <td>51.0</td>\n",
       "      <td>Femenino</td>\n",
       "      <td>Sí</td>\n",
       "      <td>Casado/a o  En unión libre</td>\n",
       "      <td>No</td>\n",
       "      <td>No</td>\n",
       "      <td>No</td>\n",
       "      <td>No STEM</td>\n",
       "      <td>No STEM</td>\n",
       "      <td>No</td>\n",
       "    </tr>\n",
       "  </tbody>\n",
       "</table>\n",
       "</div>"
      ],
      "text/plain": [
       "        ID                                             Clases Grados  \\\n",
       "1046  66.0          Ciencias naturales y educación ambiental.     2°   \n",
       "1047  66.0  Ciencias sociales, historia, geografía, consti...     2°   \n",
       "1048  66.0                               Educación artística.     2°   \n",
       "1049  66.0              Educación ética y en valores humanos.     2°   \n",
       "1050  66.0           Educación física, recreación y deportes.     2°   \n",
       "1051  66.0                               Educación religiosa.     2°   \n",
       "1052  66.0                               Educación religiosa.     2°   \n",
       "1053  66.0  Humanidades, lengua castellana e idiomas extra...     2°   \n",
       "1054  66.0                                       Matemáticas.     2°   \n",
       "\n",
       "       Nivel_x   Nivel_y  Fecha Política de datos  Código IE  \\\n",
       "1046  Primaria  Primaria  22/04                Sí         67   \n",
       "1047  Primaria  Primaria  22/04                Sí         67   \n",
       "1048  Primaria  Primaria  22/04                Sí         67   \n",
       "1049  Primaria  Primaria  22/04                Sí         67   \n",
       "1050  Primaria  Primaria  22/04                Sí         67   \n",
       "1051  Primaria  Primaria  22/04                Sí         67   \n",
       "1052  Primaria  Primaria  22/04                Sí         67   \n",
       "1053  Primaria  Primaria  22/04                Sí         67   \n",
       "1054  Primaria  Primaria  22/04                Sí         67   \n",
       "\n",
       "                   Tipo ID  Edad      Sexo Cabeza de hogar  \\\n",
       "1046  Cédula de ciudadanía  51.0  Femenino              Sí   \n",
       "1047  Cédula de ciudadanía  51.0  Femenino              Sí   \n",
       "1048  Cédula de ciudadanía  51.0  Femenino              Sí   \n",
       "1049  Cédula de ciudadanía  51.0  Femenino              Sí   \n",
       "1050  Cédula de ciudadanía  51.0  Femenino              Sí   \n",
       "1051  Cédula de ciudadanía  51.0  Femenino              Sí   \n",
       "1052  Cédula de ciudadanía  51.0  Femenino              Sí   \n",
       "1053  Cédula de ciudadanía  51.0  Femenino              Sí   \n",
       "1054  Cédula de ciudadanía  51.0  Femenino              Sí   \n",
       "\n",
       "                    Estado civil Líder comunitario Formado CFK  \\\n",
       "1046  Casado/a o  En unión libre                No          No   \n",
       "1047  Casado/a o  En unión libre                No          No   \n",
       "1048  Casado/a o  En unión libre                No          No   \n",
       "1049  Casado/a o  En unión libre                No          No   \n",
       "1050  Casado/a o  En unión libre                No          No   \n",
       "1051  Casado/a o  En unión libre                No          No   \n",
       "1052  Casado/a o  En unión libre                No          No   \n",
       "1053  Casado/a o  En unión libre                No          No   \n",
       "1054  Casado/a o  En unión libre                No          No   \n",
       "\n",
       "     Implementa fichas Enseña STEM Formado STEM  \\\n",
       "1046                No     No STEM      No STEM   \n",
       "1047                No     No STEM      No STEM   \n",
       "1048                No     No STEM      No STEM   \n",
       "1049                No     No STEM      No STEM   \n",
       "1050                No     No STEM      No STEM   \n",
       "1051                No     No STEM      No STEM   \n",
       "1052                No     No STEM      No STEM   \n",
       "1053                No     No STEM      No STEM   \n",
       "1054                No     No STEM      No STEM   \n",
       "\n",
       "     Formado tecnología e informática  \n",
       "1046                               No  \n",
       "1047                               No  \n",
       "1048                               No  \n",
       "1049                               No  \n",
       "1050                               No  \n",
       "1051                               No  \n",
       "1052                               No  \n",
       "1053                               No  \n",
       "1054                               No  "
      ]
     },
     "execution_count": 45,
     "metadata": {},
     "output_type": "execute_result"
    }
   ],
   "source": [
    "df[df.ID == 66]"
   ]
  },
  {
   "cell_type": "code",
   "execution_count": 46,
   "metadata": {
    "pycharm": {
     "name": "#%%\n"
    }
   },
   "outputs": [
    {
     "data": {
      "text/html": [
       "<div>\n",
       "<style scoped>\n",
       "    .dataframe tbody tr th:only-of-type {\n",
       "        vertical-align: middle;\n",
       "    }\n",
       "\n",
       "    .dataframe tbody tr th {\n",
       "        vertical-align: top;\n",
       "    }\n",
       "\n",
       "    .dataframe thead th {\n",
       "        text-align: right;\n",
       "    }\n",
       "</style>\n",
       "<table border=\"1\" class=\"dataframe\">\n",
       "  <thead>\n",
       "    <tr style=\"text-align: right;\">\n",
       "      <th></th>\n",
       "      <th>ID</th>\n",
       "      <th>Clases</th>\n",
       "      <th>Grados</th>\n",
       "      <th>Nivel_x</th>\n",
       "      <th>Nivel_y</th>\n",
       "      <th>Fecha</th>\n",
       "      <th>Política de datos</th>\n",
       "      <th>Código IE</th>\n",
       "      <th>Tipo ID</th>\n",
       "      <th>Edad</th>\n",
       "      <th>Sexo</th>\n",
       "      <th>Cabeza de hogar</th>\n",
       "      <th>Estado civil</th>\n",
       "      <th>Líder comunitario</th>\n",
       "      <th>Formado CFK</th>\n",
       "      <th>Implementa fichas</th>\n",
       "      <th>Enseña STEM</th>\n",
       "      <th>Formado STEM</th>\n",
       "      <th>Formado tecnología e informática</th>\n",
       "    </tr>\n",
       "  </thead>\n",
       "  <tbody>\n",
       "    <tr>\n",
       "      <th>17</th>\n",
       "      <td>1.741525e+07</td>\n",
       "      <td>Tecnología e informática.</td>\n",
       "      <td>10°</td>\n",
       "      <td>Secundaria</td>\n",
       "      <td>Secundaria</td>\n",
       "      <td>19/04</td>\n",
       "      <td>Sí</td>\n",
       "      <td>107</td>\n",
       "      <td>Cédula de ciudadanía</td>\n",
       "      <td>51.0</td>\n",
       "      <td>Masculino</td>\n",
       "      <td>Sí</td>\n",
       "      <td>Casado/a o  En unión libre</td>\n",
       "      <td>No</td>\n",
       "      <td>Sí</td>\n",
       "      <td>No</td>\n",
       "      <td>STEM</td>\n",
       "      <td>STEM</td>\n",
       "      <td>No</td>\n",
       "    </tr>\n",
       "    <tr>\n",
       "      <th>20</th>\n",
       "      <td>1.741525e+07</td>\n",
       "      <td>Tecnología e informática.</td>\n",
       "      <td>11°</td>\n",
       "      <td>Secundaria</td>\n",
       "      <td>Secundaria</td>\n",
       "      <td>19/04</td>\n",
       "      <td>Sí</td>\n",
       "      <td>107</td>\n",
       "      <td>Cédula de ciudadanía</td>\n",
       "      <td>51.0</td>\n",
       "      <td>Masculino</td>\n",
       "      <td>Sí</td>\n",
       "      <td>Casado/a o  En unión libre</td>\n",
       "      <td>No</td>\n",
       "      <td>Sí</td>\n",
       "      <td>No</td>\n",
       "      <td>STEM</td>\n",
       "      <td>STEM</td>\n",
       "      <td>No</td>\n",
       "    </tr>\n",
       "    <tr>\n",
       "      <th>140</th>\n",
       "      <td>9.855474e+07</td>\n",
       "      <td>Tecnología e informática.</td>\n",
       "      <td>10°</td>\n",
       "      <td>Secundaria</td>\n",
       "      <td>Ambos</td>\n",
       "      <td>22/04</td>\n",
       "      <td>Sí</td>\n",
       "      <td>235</td>\n",
       "      <td>Cédula de ciudadanía</td>\n",
       "      <td>51.0</td>\n",
       "      <td>Masculino</td>\n",
       "      <td>Sí</td>\n",
       "      <td>Separado/a o Divorciado/a</td>\n",
       "      <td>No</td>\n",
       "      <td>No</td>\n",
       "      <td>No</td>\n",
       "      <td>No STEM</td>\n",
       "      <td>No STEM</td>\n",
       "      <td>No</td>\n",
       "    </tr>\n",
       "    <tr>\n",
       "      <th>141</th>\n",
       "      <td>9.855474e+07</td>\n",
       "      <td>Tecnología e informática.</td>\n",
       "      <td>11°</td>\n",
       "      <td>Secundaria</td>\n",
       "      <td>Ambos</td>\n",
       "      <td>22/04</td>\n",
       "      <td>Sí</td>\n",
       "      <td>235</td>\n",
       "      <td>Cédula de ciudadanía</td>\n",
       "      <td>51.0</td>\n",
       "      <td>Masculino</td>\n",
       "      <td>Sí</td>\n",
       "      <td>Separado/a o Divorciado/a</td>\n",
       "      <td>No</td>\n",
       "      <td>No</td>\n",
       "      <td>No</td>\n",
       "      <td>No STEM</td>\n",
       "      <td>No STEM</td>\n",
       "      <td>No</td>\n",
       "    </tr>\n",
       "    <tr>\n",
       "      <th>142</th>\n",
       "      <td>9.855474e+07</td>\n",
       "      <td>Tecnología e informática.</td>\n",
       "      <td>3°</td>\n",
       "      <td>Secundaria</td>\n",
       "      <td>Ambos</td>\n",
       "      <td>22/04</td>\n",
       "      <td>Sí</td>\n",
       "      <td>235</td>\n",
       "      <td>Cédula de ciudadanía</td>\n",
       "      <td>51.0</td>\n",
       "      <td>Masculino</td>\n",
       "      <td>Sí</td>\n",
       "      <td>Separado/a o Divorciado/a</td>\n",
       "      <td>No</td>\n",
       "      <td>No</td>\n",
       "      <td>No</td>\n",
       "      <td>No STEM</td>\n",
       "      <td>No STEM</td>\n",
       "      <td>No</td>\n",
       "    </tr>\n",
       "    <tr>\n",
       "      <th>...</th>\n",
       "      <td>...</td>\n",
       "      <td>...</td>\n",
       "      <td>...</td>\n",
       "      <td>...</td>\n",
       "      <td>...</td>\n",
       "      <td>...</td>\n",
       "      <td>...</td>\n",
       "      <td>...</td>\n",
       "      <td>...</td>\n",
       "      <td>...</td>\n",
       "      <td>...</td>\n",
       "      <td>...</td>\n",
       "      <td>...</td>\n",
       "      <td>...</td>\n",
       "      <td>...</td>\n",
       "      <td>...</td>\n",
       "      <td>...</td>\n",
       "      <td>...</td>\n",
       "      <td>...</td>\n",
       "    </tr>\n",
       "    <tr>\n",
       "      <th>4706</th>\n",
       "      <td>1.033782e+09</td>\n",
       "      <td>Tecnología e informática.</td>\n",
       "      <td>Prescolar</td>\n",
       "      <td>Primaria</td>\n",
       "      <td>Primaria</td>\n",
       "      <td>21/04</td>\n",
       "      <td>Sí</td>\n",
       "      <td>107</td>\n",
       "      <td>Cédula de ciudadanía</td>\n",
       "      <td>26.0</td>\n",
       "      <td>Femenino</td>\n",
       "      <td>No</td>\n",
       "      <td>Soltero/a</td>\n",
       "      <td>No</td>\n",
       "      <td>No</td>\n",
       "      <td>No</td>\n",
       "      <td>No STEM</td>\n",
       "      <td>No STEM</td>\n",
       "      <td>Sí, otro</td>\n",
       "    </tr>\n",
       "    <tr>\n",
       "      <th>4707</th>\n",
       "      <td>4.288423e+07</td>\n",
       "      <td>Tecnología e informática.</td>\n",
       "      <td>Prescolar</td>\n",
       "      <td>Primaria</td>\n",
       "      <td>Primaria</td>\n",
       "      <td>22/04</td>\n",
       "      <td>Sí</td>\n",
       "      <td>235</td>\n",
       "      <td>Cédula de ciudadanía</td>\n",
       "      <td>57.0</td>\n",
       "      <td>Femenino</td>\n",
       "      <td>Sí</td>\n",
       "      <td>Soltero/a</td>\n",
       "      <td>No</td>\n",
       "      <td>No</td>\n",
       "      <td>No</td>\n",
       "      <td>STEM</td>\n",
       "      <td>STEM</td>\n",
       "      <td>Sí, otro</td>\n",
       "    </tr>\n",
       "    <tr>\n",
       "      <th>4708</th>\n",
       "      <td>4.076487e+07</td>\n",
       "      <td>Tecnología e informática.</td>\n",
       "      <td>Prescolar</td>\n",
       "      <td>Primaria</td>\n",
       "      <td>Primaria</td>\n",
       "      <td>22/04</td>\n",
       "      <td>Sí</td>\n",
       "      <td>47</td>\n",
       "      <td>Cédula de ciudadanía</td>\n",
       "      <td>56.0</td>\n",
       "      <td>Femenino</td>\n",
       "      <td>No</td>\n",
       "      <td>Casado/a o  En unión libre</td>\n",
       "      <td>No</td>\n",
       "      <td>Sí</td>\n",
       "      <td>No</td>\n",
       "      <td>Enseña ambos</td>\n",
       "      <td>No STEM</td>\n",
       "      <td>Sí, otro</td>\n",
       "    </tr>\n",
       "    <tr>\n",
       "      <th>4709</th>\n",
       "      <td>5.157516e+07</td>\n",
       "      <td>Tecnología e informática.</td>\n",
       "      <td>Prescolar</td>\n",
       "      <td>Primaria</td>\n",
       "      <td>Primaria</td>\n",
       "      <td>22/04</td>\n",
       "      <td>Sí</td>\n",
       "      <td>10</td>\n",
       "      <td>Cédula de ciudadanía</td>\n",
       "      <td>64.0</td>\n",
       "      <td>Femenino</td>\n",
       "      <td>No</td>\n",
       "      <td>Casado/a o  En unión libre</td>\n",
       "      <td>Sí</td>\n",
       "      <td>Sí</td>\n",
       "      <td>No</td>\n",
       "      <td>Enseña ambos</td>\n",
       "      <td>No STEM</td>\n",
       "      <td>Sí, otro</td>\n",
       "    </tr>\n",
       "    <tr>\n",
       "      <th>4710</th>\n",
       "      <td>4.192372e+07</td>\n",
       "      <td>Tecnología e informática.</td>\n",
       "      <td>Prescolar</td>\n",
       "      <td>Primaria</td>\n",
       "      <td>Primaria</td>\n",
       "      <td>22/04</td>\n",
       "      <td>Sí</td>\n",
       "      <td>110</td>\n",
       "      <td>Cédula de ciudadanía</td>\n",
       "      <td>45.0</td>\n",
       "      <td>Femenino</td>\n",
       "      <td>Sí</td>\n",
       "      <td>Separado/a o Divorciado/a</td>\n",
       "      <td>No</td>\n",
       "      <td>No</td>\n",
       "      <td>No</td>\n",
       "      <td>No STEM</td>\n",
       "      <td>No STEM</td>\n",
       "      <td>Sí, otro</td>\n",
       "    </tr>\n",
       "  </tbody>\n",
       "</table>\n",
       "<p>291 rows × 19 columns</p>\n",
       "</div>"
      ],
      "text/plain": [
       "                ID                     Clases     Grados     Nivel_x  \\\n",
       "17    1.741525e+07  Tecnología e informática.        10°  Secundaria   \n",
       "20    1.741525e+07  Tecnología e informática.        11°  Secundaria   \n",
       "140   9.855474e+07  Tecnología e informática.        10°  Secundaria   \n",
       "141   9.855474e+07  Tecnología e informática.        11°  Secundaria   \n",
       "142   9.855474e+07  Tecnología e informática.         3°  Secundaria   \n",
       "...            ...                        ...        ...         ...   \n",
       "4706  1.033782e+09  Tecnología e informática.  Prescolar    Primaria   \n",
       "4707  4.288423e+07  Tecnología e informática.  Prescolar    Primaria   \n",
       "4708  4.076487e+07  Tecnología e informática.  Prescolar    Primaria   \n",
       "4709  5.157516e+07  Tecnología e informática.  Prescolar    Primaria   \n",
       "4710  4.192372e+07  Tecnología e informática.  Prescolar    Primaria   \n",
       "\n",
       "         Nivel_y  Fecha Política de datos  Código IE               Tipo ID  \\\n",
       "17    Secundaria  19/04                Sí        107  Cédula de ciudadanía   \n",
       "20    Secundaria  19/04                Sí        107  Cédula de ciudadanía   \n",
       "140        Ambos  22/04                Sí        235  Cédula de ciudadanía   \n",
       "141        Ambos  22/04                Sí        235  Cédula de ciudadanía   \n",
       "142        Ambos  22/04                Sí        235  Cédula de ciudadanía   \n",
       "...          ...    ...               ...        ...                   ...   \n",
       "4706    Primaria  21/04                Sí        107  Cédula de ciudadanía   \n",
       "4707    Primaria  22/04                Sí        235  Cédula de ciudadanía   \n",
       "4708    Primaria  22/04                Sí         47  Cédula de ciudadanía   \n",
       "4709    Primaria  22/04                Sí         10  Cédula de ciudadanía   \n",
       "4710    Primaria  22/04                Sí        110  Cédula de ciudadanía   \n",
       "\n",
       "      Edad       Sexo Cabeza de hogar                Estado civil  \\\n",
       "17    51.0  Masculino              Sí  Casado/a o  En unión libre   \n",
       "20    51.0  Masculino              Sí  Casado/a o  En unión libre   \n",
       "140   51.0  Masculino              Sí   Separado/a o Divorciado/a   \n",
       "141   51.0  Masculino              Sí   Separado/a o Divorciado/a   \n",
       "142   51.0  Masculino              Sí   Separado/a o Divorciado/a   \n",
       "...    ...        ...             ...                         ...   \n",
       "4706  26.0   Femenino              No                   Soltero/a   \n",
       "4707  57.0   Femenino              Sí                   Soltero/a   \n",
       "4708  56.0   Femenino              No  Casado/a o  En unión libre   \n",
       "4709  64.0   Femenino              No  Casado/a o  En unión libre   \n",
       "4710  45.0   Femenino              Sí   Separado/a o Divorciado/a   \n",
       "\n",
       "     Líder comunitario Formado CFK Implementa fichas   Enseña STEM  \\\n",
       "17                  No          Sí                No          STEM   \n",
       "20                  No          Sí                No          STEM   \n",
       "140                 No          No                No       No STEM   \n",
       "141                 No          No                No       No STEM   \n",
       "142                 No          No                No       No STEM   \n",
       "...                ...         ...               ...           ...   \n",
       "4706                No          No                No       No STEM   \n",
       "4707                No          No                No          STEM   \n",
       "4708                No          Sí                No  Enseña ambos   \n",
       "4709                Sí          Sí                No  Enseña ambos   \n",
       "4710                No          No                No       No STEM   \n",
       "\n",
       "     Formado STEM Formado tecnología e informática  \n",
       "17           STEM                               No  \n",
       "20           STEM                               No  \n",
       "140       No STEM                               No  \n",
       "141       No STEM                               No  \n",
       "142       No STEM                               No  \n",
       "...           ...                              ...  \n",
       "4706      No STEM                         Sí, otro  \n",
       "4707         STEM                         Sí, otro  \n",
       "4708      No STEM                         Sí, otro  \n",
       "4709      No STEM                         Sí, otro  \n",
       "4710      No STEM                         Sí, otro  \n",
       "\n",
       "[291 rows x 19 columns]"
      ]
     },
     "execution_count": 46,
     "metadata": {},
     "output_type": "execute_result"
    }
   ],
   "source": [
    "df[df.Clases == 'Tecnología e informática.']"
   ]
  },
  {
   "cell_type": "code",
   "execution_count": null,
   "metadata": {
    "pycharm": {
     "name": "#%%\n"
    }
   },
   "outputs": [],
   "source": []
  }
 ],
 "metadata": {
  "kernelspec": {
   "display_name": "Python 3 (ipykernel)",
   "language": "python",
   "name": "python3"
  },
  "language_info": {
   "codemirror_mode": {
    "name": "ipython",
    "version": 3
   },
   "file_extension": ".py",
   "mimetype": "text/x-python",
   "name": "python",
   "nbconvert_exporter": "python",
   "pygments_lexer": "ipython3",
   "version": "3.10.2"
  }
 },
 "nbformat": 4,
 "nbformat_minor": 1
}
