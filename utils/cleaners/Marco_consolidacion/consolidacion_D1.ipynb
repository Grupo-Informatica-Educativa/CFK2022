{
 "cells": [
  {
   "cell_type": "code",
   "execution_count": 4,
   "metadata": {
    "collapsed": true
   },
   "outputs": [],
   "source": [
    "import pandas as pd\n",
    "import pathlib\n",
    "import plotly.express as px"
   ]
  },
  {
   "cell_type": "code",
   "execution_count": 5,
   "outputs": [],
   "source": [
    "from pandas.api.types import CategoricalDtype\n",
    "cat_type = CategoricalDtype(categories=['1A', '1B', '2A', '2B', '3','4', '5'],\n",
    "               ordered=True)"
   ],
   "metadata": {
    "collapsed": false,
    "pycharm": {
     "name": "#%%\n"
    }
   }
  },
  {
   "cell_type": "markdown",
   "source": [
    "## Liderazgo y visión: Dimensión 1"
   ],
   "metadata": {
    "collapsed": false,
    "pycharm": {
     "name": "#%% md\n"
    }
   }
  },
  {
   "cell_type": "code",
   "source": [
    "#### Directivos\n",
    "ruta_git = pathlib.Path().cwd().parent.parent.parent"
   ],
   "metadata": {
    "collapsed": false,
    "pycharm": {
     "name": "#%%\n"
    }
   },
   "execution_count": 9,
   "outputs": []
  },
  {
   "cell_type": "code",
   "execution_count": 12,
   "outputs": [
    {
     "name": "stdout",
     "output_type": "stream",
     "text": [
      "(649, 42)\n"
     ]
    }
   ],
   "source": [
    "dir = pd.read_excel(ruta_git/'data/descargables/DirectivosCFK.xlsx')\n",
    "\n",
    "print(dir.shape)"
   ],
   "metadata": {
    "collapsed": false,
    "pycharm": {
     "name": "#%%\n"
    }
   }
  },
  {
   "cell_type": "code",
   "execution_count": 14,
   "outputs": [
    {
     "data": {
      "text/plain": "['N registro',\n 'Instrumento',\n 'Fecha',\n 'Política de datos',\n 'ID',\n 'Edad',\n 'Sexo',\n 'Cabeza de hogar',\n 'Estado civil',\n 'Líder comunitario',\n 'Formación STEM',\n 'Rol en IE',\n '¿En su institución hay estudiantes con algún tipo de discapacidad?',\n 'Estudiantes  con discapacidad intelectual',\n 'Estudiantes con Discapacidad física o motora',\n 'Estudiantes con Discapacidad auditiva',\n 'Estudiantes con Discapacidad visual',\n 'Estudiantes con Discapacidad psicosocial',\n 'Estudiantes con Discapacidad múltiple',\n 'Estudiante con Trastornos Específicos del Aprendizaje',\n 'Considera importante enseñar el pensamiento computacional desde los primeros niveles educativos',\n 'Conceptos que deben incluirse en la clase de tecnología e informática',\n 'Comentarios autorreporte',\n '1.1 Los maestros de esta Institución educativa incorporan el pensamiento computacional en sus clases',\n '1.2 Los esfuerzos de los maestros para enseñar conceptos de pensamiento computacional son muy valorados en esta institución educativa',\n '1.3 Animo a los maestros de otras disciplinas a asistir a oportunidades de desarrollo profesional enfocadas en pensamiento computacional.',\n '1.4 Hay alguien en mi colegio que puede asesorar a los estudiantes sobre los caminos hacia una carrera en STEM',\n '1.5 En los próximos tres años, espero que la cantidad de oportunidades para aprender sobre pensamiento computacional en este colegio aumenten',\n '1.6 Es extremadamente importante que todos los estudiantes aprendan pensamiento computacional.',\n '1.7 Tener educación en pensamiento computacional mejoraría significativamente las futuras opciones de carrera para los estudiantes de mi escuela.',\n '1.8 El pensamiento computacional se utiliza en muchos tipos diferentes de trabajos.',\n '1.9 Ofrecer oportunidades para aprender de pensamiento computacional tiene el mismo valor o más para el éxito futuro de un estudiante que otros cursos obligatorios como matemáticas, biología, ciencias sociales, historia e inglés',\n '1.10 Conozco y puedo recomendar a mis estudiantes diferentes programas de formación relacionadas al pensamiento computacional y/o ciencias de la computación',\n '1.11 Los estudiantes reciben asesoría vocacional sobre alternativas u oportunidades relacionadas a carreras STEM',\n '1.12 Informo a mis estudiantes sobre oportunidades que existen para continuar los estudios en áreas relacionadas al pensamiento computacional y/o ciencias de la computación',\n 'Comentarios autodiagnóstico',\n 'Actividades que se promueven en esta institución educativa para apoyar la formación docente enfocadas en pensamiento computacional',\n '¿La rotación de los docentes de tecnología e informática influye sobre la calidad y el aprendizaje del área de los estudiantes en los diferentes grados?',\n 'Código IE',\n 'Tipo de ID',\n 'Número de estudiantes matriculados',\n 'Número de docentes que laboran']"
     },
     "execution_count": 14,
     "metadata": {},
     "output_type": "execute_result"
    }
   ],
   "source": [
    "dir.columns.tolist()"
   ],
   "metadata": {
    "collapsed": false,
    "pycharm": {
     "name": "#%%\n"
    }
   }
  },
  {
   "cell_type": "code",
   "execution_count": 15,
   "outputs": [
    {
     "data": {
      "text/plain": "0                                          Programación \n1      El uso de este pensamiento en los problemas de...\n2                         Lls lineamientos de tecnologia\n3      Como buscar fuentes bibliográficas confiables ...\n4                            Académicos y de convivencia\n                             ...                        \n644    Seguridad ante el manejo de las redes sociales...\n645                                         programacion\n646    Experiencias STEM experimentos y cuidado del m...\n647    Manejo de los programas básicos. Word, excell,...\n648                     no aplica \"dependen del enfoque\"\nName: Conceptos que deben incluirse en la clase de tecnología e informática, Length: 649, dtype: object"
     },
     "execution_count": 15,
     "metadata": {},
     "output_type": "execute_result"
    }
   ],
   "source": [
    "dir['Conceptos que deben incluirse en la clase de tecnología e informática']"
   ],
   "metadata": {
    "collapsed": false,
    "pycharm": {
     "name": "#%%\n"
    }
   }
  },
  {
   "cell_type": "code",
   "execution_count": null,
   "outputs": [],
   "source": [
    "dir_d1 = {'Conceptos que deben incluirse en la clase de tecnología e informática':}"
   ],
   "metadata": {
    "collapsed": false,
    "pycharm": {
     "name": "#%%\n"
    }
   }
  },
  {
   "cell_type": "markdown",
   "source": [
    "#### Revisión plan de estudios"
   ],
   "metadata": {
    "collapsed": false,
    "pycharm": {
     "name": "#%% md\n"
    }
   }
  },
  {
   "cell_type": "code",
   "execution_count": 38,
   "outputs": [
    {
     "name": "stdout",
     "output_type": "stream",
     "text": [
      "(141, 19)\n"
     ]
    },
    {
     "data": {
      "text/plain": "Index(['Timestamp', 'Código IE',\n       '1.1 En el plan de estudios se especifica como responsables de su elaboración a los docentes encargados del área',\n       '1.2 El plan de estudio incluye actividades básicas de ofimática y/o alfabetización digital, y de programación y/o desarrollo del pensamiento computacional.',\n       '1.3 En el plan de estudio se da mayor relevancia al pensamiento computacional',\n       '1.4 El plan de estudio del área promueve la transición desde la alfabetización digital a las ciencias de la computación.',\n       '1.5 El plan de estudios del área le permite al docente destacar la importancia del pensamiento computacional y su influencia en la formación de los estudiantes',\n       '1.6 El plan de estudios del área es coherente con la transición de un grado a otro y permite al estudiante desarrollar conocimientos, habilidades y comprensión del pensamiento computacional',\n       '1.7 El plan de estudios del área incluye trabajo práctico para el desarrollo del pensamiento computacional.',\n       '1.8 El plan de estudio del área plantea espacios en los que personas que trabajan en ocupaciones relacionadas con áreas STEM socialicen sus experiencias con los/las estudiantes',\n       '1.9 El plan de estudio incluye actividades transversales con áreas No-STEM, para el desarrollo del pensamiento computacional',\n       '1.10 El plan de estudio considera aspectos para la inclusión de estudiantes con trastornos de aprendizaje y/o discapacidad',\n       '1.11 Entre los responsables del plan de estudios del área y los recursos educativos se incluye personal experto en la atención a estudiantes con necesidades educativas especiales',\n       '1.12 El plan de estudios del área hace explícita la pedagogía a utilizar y las adaptaciones para estudiantes con trastornos del aprendizaje y/o con discapacidad',\n       '1.13 El plan de estudio del área cuenta con una estructura clara que permite disminuir las diferencias en el desempeño de niños y niñas',\n       'Comentarios P1', 'Información otro plan de estudios',\n       'Misión de la institución educativa',\n       'Visión de la institución educativa'],\n      dtype='object')"
     },
     "execution_count": 38,
     "metadata": {},
     "output_type": "execute_result"
    }
   ],
   "source": [
    "plan1 = pd.read_excel('../../../data/raw/plan_Con_Pre_130522.xlsx')\n",
    "print(plan1.shape)|\n",
    "plan1.columns"
   ],
   "metadata": {
    "collapsed": false,
    "pycharm": {
     "name": "#%%\n"
    }
   }
  },
  {
   "cell_type": "code",
   "execution_count": 39,
   "outputs": [
    {
     "data": {
      "text/plain": "0    19/04\n1    19/04\n2    20/04\n3    20/04\n4    21/04\nName: Fecha, dtype: object"
     },
     "execution_count": 39,
     "metadata": {},
     "output_type": "execute_result"
    }
   ],
   "source": [
    "plan1['Timestamp'] = pd.to_datetime(plan1['Timestamp'])\n",
    "plan1 = plan1[plan1.Timestamp>'2022-04-14']\n",
    "plan1['Fecha'] = plan1.Timestamp.dt.strftime('%d/%m')\n",
    "plan1['Fecha'][:5]"
   ],
   "metadata": {
    "collapsed": false,
    "pycharm": {
     "name": "#%%\n"
    }
   }
  },
  {
   "cell_type": "code",
   "execution_count": 40,
   "outputs": [
    {
     "data": {
      "text/plain": "(141, 19)"
     },
     "execution_count": 40,
     "metadata": {},
     "output_type": "execute_result"
    }
   ],
   "source": [
    "plan1 = plan1.drop(columns='Timestamp')\n",
    "plan1 = plan1[plan1['Código IE']<300]\n",
    "plan1.shape"
   ],
   "metadata": {
    "collapsed": false,
    "pycharm": {
     "name": "#%%\n"
    }
   }
  },
  {
   "cell_type": "code",
   "execution_count": 41,
   "outputs": [
    {
     "data": {
      "text/plain": "Index(['1.1 En el plan de estudios se especifica como responsables de su elaboración a los docentes encargados del área',\n       '1.2 El plan de estudio incluye actividades básicas de ofimática y/o alfabetización digital, y de programación y/o desarrollo del pensamiento computacional.',\n       '1.3 En el plan de estudio se da mayor relevancia al pensamiento computacional',\n       '1.4 El plan de estudio del área promueve la transición desde la alfabetización digital a las ciencias de la computación.',\n       '1.5 El plan de estudios del área le permite al docente destacar la importancia del pensamiento computacional y su influencia en la formación de los estudiantes',\n       '1.6 El plan de estudios del área es coherente con la transición de un grado a otro y permite al estudiante desarrollar conocimientos, habilidades y comprensión del pensamiento computacional',\n       '1.7 El plan de estudios del área incluye trabajo práctico para el desarrollo del pensamiento computacional.',\n       '1.8 El plan de estudio del área plantea espacios en los que personas que trabajan en ocupaciones relacionadas con áreas STEM socialicen sus experiencias con los/las estudiantes',\n       '1.9 El plan de estudio incluye actividades transversales con áreas No-STEM, para el desarrollo del pensamiento computacional',\n       '1.10 El plan de estudio considera aspectos para la inclusión de estudiantes con trastornos de aprendizaje y/o discapacidad',\n       '1.11 Entre los responsables del plan de estudios del área y los recursos educativos se incluye personal experto en la atención a estudiantes con necesidades educativas especiales',\n       '1.12 El plan de estudios del área hace explícita la pedagogía a utilizar y las adaptaciones para estudiantes con trastornos del aprendizaje y/o con discapacidad',\n       '1.13 El plan de estudio del área cuenta con una estructura clara que permite disminuir las diferencias en el desempeño de niños y niñas'],\n      dtype='object')"
     },
     "execution_count": 41,
     "metadata": {},
     "output_type": "execute_result"
    }
   ],
   "source": [
    "plan1.filter(regex=r'^1.').columns"
   ],
   "metadata": {
    "collapsed": false,
    "pycharm": {
     "name": "#%%\n"
    }
   }
  },
  {
   "cell_type": "markdown",
   "source": [],
   "metadata": {
    "collapsed": false
   }
  },
  {
   "cell_type": "code",
   "execution_count": 42,
   "outputs": [],
   "source": [
    "col_index = ['Código IE']"
   ],
   "metadata": {
    "collapsed": false,
    "pycharm": {
     "name": "#%%\n"
    }
   }
  },
  {
   "cell_type": "code",
   "execution_count": 43,
   "outputs": [],
   "source": [
    "cols_plan1_dx = {    '1.5 El plan de estudios del área le permite al docente destacar la importancia del pensamiento computacional y su influencia en la formación de los estudiantes': {\n",
    "       \"Sí\":1,\"No\":0    },       '1.8 El plan de estudio del área plantea espacios en los que personas que trabajan en ocupaciones relacionadas con áreas STEM socialicen sus experiencias con los/las estudiantes': {\n",
    "       \"Sí\":1,\"No\":0    }}"
   ],
   "metadata": {
    "collapsed": false,
    "pycharm": {
     "name": "#%%\n"
    }
   }
  },
  {
   "cell_type": "code",
   "execution_count": 44,
   "outputs": [],
   "source": [
    "cols_plan1_d2 = {\n",
    "    '1.2 El plan de estudio incluye actividades básicas de ofimática y/o alfabetización digital, y de programación y/o desarrollo del pensamiento computacional.': {\n",
    "        \"Sí\":\"4\",\"No\": \"1B\"   },\n",
    "    '1.3 En el plan de estudio se da mayor relevancia al pensamiento computacional': {\n",
    "        \"Sí\":\"3\",\"No\": \"1B\"   },\n",
    "   '1.4 El plan de estudio del área promueve la transición desde la alfabetización digital a las ciencias de la computación.': {\n",
    "       \"Sí\":\"4\",\"No\":\"3\"    },\n",
    "       '1.6 El plan de estudios del área es coherente con la transición de un grado a otro y permite al estudiante desarrollar conocimientos, habilidades y comprensión del pensamiento computacional': {\n",
    "       \"Sí\":\"4\",\"No\":\"2B\"    },\n",
    "       '1.7 El plan de estudios del área incluye trabajo práctico para el desarrollo del pensamiento computacional.': {\n",
    "       \"Sí\":\"4\",\"No\":\"2B\"    },\n",
    "       '1.9 El plan de estudio incluye actividades transversales con áreas No-STEM, para el desarrollo del pensamiento computacional': {\n",
    "       \"Sí\":\"4\",\"No\":\"2A\"    }}"
   ],
   "metadata": {
    "collapsed": false,
    "pycharm": {
     "name": "#%%\n"
    }
   }
  },
  {
   "cell_type": "code",
   "execution_count": 124,
   "outputs": [
    {
     "data": {
      "text/plain": "     Código IE  \\\n0            1   \n1            2   \n2            3   \n3            4   \n4            5   \n..         ...   \n132        243   \n133        249   \n134        250   \n135        251   \n136        252   \n\n    1.2 El plan de estudio incluye actividades básicas de ofimática y/o alfabetización digital, y de programación y/o desarrollo del pensamiento computacional.  \\\n0                                                   1B                                                                                                            \n1                                                    4                                                                                                            \n2                                                    4                                                                                                            \n3                                                    4                                                                                                            \n4                                                    4                                                                                                            \n..                                                 ...                                                                                                            \n132                                                  4                                                                                                            \n133                                                  4                                                                                                            \n134                                                  4                                                                                                            \n135                                                 1B                                                                                                            \n136                                                  4                                                                                                            \n\n    1.3 En el plan de estudio se da mayor relevancia al pensamiento computacional  \\\n0                                                   1B                              \n1                                                   1B                              \n2                                                   1B                              \n3                                                   1B                              \n4                                                   1B                              \n..                                                 ...                              \n132                                                  3                              \n133                                                 1B                              \n134                                                 1B                              \n135                                                 1B                              \n136                                                 1B                              \n\n    1.4 El plan de estudio del área promueve la transición desde la alfabetización digital a las ciencias de la computación.  \\\n0                                                    3                                                                         \n1                                                    3                                                                         \n2                                                    3                                                                         \n3                                                    3                                                                         \n4                                                    3                                                                         \n..                                                 ...                                                                         \n132                                                  4                                                                         \n133                                                  4                                                                         \n134                                                  4                                                                         \n135                                                  4                                                                         \n136                                                  4                                                                         \n\n    1.6 El plan de estudios del área es coherente con la transición de un grado a otro y permite al estudiante desarrollar conocimientos, habilidades y comprensión del pensamiento computacional  \\\n0                                                   2B                                                                                                                                              \n1                                                   2B                                                                                                                                              \n2                                                   2B                                                                                                                                              \n3                                                   2B                                                                                                                                              \n4                                                   2B                                                                                                                                              \n..                                                 ...                                                                                                                                              \n132                                                  4                                                                                                                                              \n133                                                  4                                                                                                                                              \n134                                                  4                                                                                                                                              \n135                                                 2B                                                                                                                                              \n136                                                  4                                                                                                                                              \n\n    1.7 El plan de estudios del área incluye trabajo práctico para el desarrollo del pensamiento computacional.  \\\n0                                                   2B                                                            \n1                                                   2B                                                            \n2                                                   2B                                                            \n3                                                   2B                                                            \n4                                                   2B                                                            \n..                                                 ...                                                            \n132                                                  4                                                            \n133                                                  4                                                            \n134                                                  4                                                            \n135                                                 2B                                                            \n136                                                  4                                                            \n\n    1.9 El plan de estudio incluye actividades transversales con áreas No-STEM, para el desarrollo del pensamiento computacional  \\\n0                                                   2A                                                                             \n1                                                   2A                                                                             \n2                                                   2A                                                                             \n3                                                   2A                                                                             \n4                                                   2A                                                                             \n..                                                 ...                                                                             \n132                                                  4                                                                             \n133                                                  4                                                                             \n134                                                 2A                                                                             \n135                                                 2A                                                                             \n136                                                 2A                                                                             \n\n    Nivel Revision Plan  \n0                    1B  \n1                    1B  \n2                    1B  \n3                    1B  \n4                    1B  \n..                  ...  \n132                   3  \n133                  1B  \n134                  1B  \n135                  1B  \n136                  1B  \n\n[137 rows x 8 columns]",
      "text/html": "<div>\n<style scoped>\n    .dataframe tbody tr th:only-of-type {\n        vertical-align: middle;\n    }\n\n    .dataframe tbody tr th {\n        vertical-align: top;\n    }\n\n    .dataframe thead th {\n        text-align: right;\n    }\n</style>\n<table border=\"1\" class=\"dataframe\">\n  <thead>\n    <tr style=\"text-align: right;\">\n      <th></th>\n      <th>Código IE</th>\n      <th>1.2 El plan de estudio incluye actividades básicas de ofimática y/o alfabetización digital, y de programación y/o desarrollo del pensamiento computacional.</th>\n      <th>1.3 En el plan de estudio se da mayor relevancia al pensamiento computacional</th>\n      <th>1.4 El plan de estudio del área promueve la transición desde la alfabetización digital a las ciencias de la computación.</th>\n      <th>1.6 El plan de estudios del área es coherente con la transición de un grado a otro y permite al estudiante desarrollar conocimientos, habilidades y comprensión del pensamiento computacional</th>\n      <th>1.7 El plan de estudios del área incluye trabajo práctico para el desarrollo del pensamiento computacional.</th>\n      <th>1.9 El plan de estudio incluye actividades transversales con áreas No-STEM, para el desarrollo del pensamiento computacional</th>\n      <th>Nivel Revision Plan</th>\n    </tr>\n  </thead>\n  <tbody>\n    <tr>\n      <th>0</th>\n      <td>1</td>\n      <td>1B</td>\n      <td>1B</td>\n      <td>3</td>\n      <td>2B</td>\n      <td>2B</td>\n      <td>2A</td>\n      <td>1B</td>\n    </tr>\n    <tr>\n      <th>1</th>\n      <td>2</td>\n      <td>4</td>\n      <td>1B</td>\n      <td>3</td>\n      <td>2B</td>\n      <td>2B</td>\n      <td>2A</td>\n      <td>1B</td>\n    </tr>\n    <tr>\n      <th>2</th>\n      <td>3</td>\n      <td>4</td>\n      <td>1B</td>\n      <td>3</td>\n      <td>2B</td>\n      <td>2B</td>\n      <td>2A</td>\n      <td>1B</td>\n    </tr>\n    <tr>\n      <th>3</th>\n      <td>4</td>\n      <td>4</td>\n      <td>1B</td>\n      <td>3</td>\n      <td>2B</td>\n      <td>2B</td>\n      <td>2A</td>\n      <td>1B</td>\n    </tr>\n    <tr>\n      <th>4</th>\n      <td>5</td>\n      <td>4</td>\n      <td>1B</td>\n      <td>3</td>\n      <td>2B</td>\n      <td>2B</td>\n      <td>2A</td>\n      <td>1B</td>\n    </tr>\n    <tr>\n      <th>...</th>\n      <td>...</td>\n      <td>...</td>\n      <td>...</td>\n      <td>...</td>\n      <td>...</td>\n      <td>...</td>\n      <td>...</td>\n      <td>...</td>\n    </tr>\n    <tr>\n      <th>132</th>\n      <td>243</td>\n      <td>4</td>\n      <td>3</td>\n      <td>4</td>\n      <td>4</td>\n      <td>4</td>\n      <td>4</td>\n      <td>3</td>\n    </tr>\n    <tr>\n      <th>133</th>\n      <td>249</td>\n      <td>4</td>\n      <td>1B</td>\n      <td>4</td>\n      <td>4</td>\n      <td>4</td>\n      <td>4</td>\n      <td>1B</td>\n    </tr>\n    <tr>\n      <th>134</th>\n      <td>250</td>\n      <td>4</td>\n      <td>1B</td>\n      <td>4</td>\n      <td>4</td>\n      <td>4</td>\n      <td>2A</td>\n      <td>1B</td>\n    </tr>\n    <tr>\n      <th>135</th>\n      <td>251</td>\n      <td>1B</td>\n      <td>1B</td>\n      <td>4</td>\n      <td>2B</td>\n      <td>2B</td>\n      <td>2A</td>\n      <td>1B</td>\n    </tr>\n    <tr>\n      <th>136</th>\n      <td>252</td>\n      <td>4</td>\n      <td>1B</td>\n      <td>4</td>\n      <td>4</td>\n      <td>4</td>\n      <td>2A</td>\n      <td>1B</td>\n    </tr>\n  </tbody>\n</table>\n<p>137 rows × 8 columns</p>\n</div>"
     },
     "execution_count": 124,
     "metadata": {},
     "output_type": "execute_result"
    }
   ],
   "source": [
    "plan1_d2 = plan1[['Código IE']+list(cols_plan1_d2.keys())]\n",
    "plan1_d2 = plan1_d2.replace(cols_plan1_d2)\n",
    "plan1_d2 = plan1_d2.groupby('Código IE').max().reset_index()\n",
    "plan1_d2['Nivel Revision Plan'] = plan1_d2.iloc[:,1:].min(axis=1)\n",
    "plan1_d2"
   ],
   "metadata": {
    "collapsed": false,
    "pycharm": {
     "name": "#%%\n"
    }
   }
  },
  {
   "cell_type": "markdown",
   "source": [
    "#### Líder del área"
   ],
   "metadata": {
    "collapsed": false,
    "pycharm": {
     "name": "#%% md\n"
    }
   }
  },
  {
   "cell_type": "code",
   "execution_count": 105,
   "outputs": [
    {
     "name": "stdout",
     "output_type": "stream",
     "text": [
      "(202, 49)\n"
     ]
    },
    {
     "data": {
      "text/plain": "                Timestamp  Código IE  \\\n5 2022-04-18 11:11:59.558         33   \n6 2022-04-18 20:19:15.745          4   \n7 2022-04-19 08:27:12.584        129   \n8 2022-04-19 08:59:47.986          7   \n9 2022-04-19 09:02:25.808        231   \n\n  1.1 Los docentes encargados del área son los responsables de definir lo que se enseña  \\\n5                                                 Sí                                      \n6                                                 No                                      \n7                                                 Sí                                      \n8                                                 Sí                                      \n9                                                 Sí                                      \n\n  1.2 El plan de estudios del área cuenta con mejoras realizadas por los docentes de la IE gracias a espacios colaborativos  \\\n5                                                 Sí                                                                          \n6                                                 No                                                                          \n7                                                 Sí                                                                          \n8                                                 Sí                                                                          \n9                                                 Sí                                                                          \n\n  1.3 El plan de estudio incluye actividades básicas de ofimática y/o alfabetización digital, programación y/o desarrollo del pensamiento computacional.  \\\n5                                                 Sí                                                                                                       \n6                                                 Sí                                                                                                       \n7                                                 Sí                                                                                                       \n8                                                 Sí                                                                                                       \n9                                                 Sí                                                                                                       \n\n  1.4 En el plan de estudio se da mayor relevancia al pensamiento computacional  \\\n5                                                 Sí                              \n6                                                 No                              \n7                                                 No                              \n8                                                 No                              \n9                                                 No                              \n\n  1.5 El plan de estudio del área promueve la transición desde la alfabetización digital a las ciencias de la computación  \\\n5                                                 Sí                                                                        \n6                                                 No                                                                        \n7                                                 Sí                                                                        \n8                                                 Sí                                                                        \n9                                                 No                                                                        \n\n  1.6 El plan de estudios del área comprende el pensamiento computacional y su impacto dentro del proceso enseñanza-aprendizaje  \\\n5                                                 Sí                                                                              \n6                                                 No                                                                              \n7                                                 Sí                                                                              \n8                                                 No                                                                              \n9                                                 No                                                                              \n\n  1.7 El plan de estudios del área es coherente con la transición de un grado a otro y permite al estudiante desarrollar conocimientos, habilidades y comprensión del pensamiento computacional  \\\n5                                                 Sí                                                                                                                                              \n6                                                 No                                                                                                                                              \n7                                                 No                                                                                                                                              \n8                                                 Sí                                                                                                                                              \n9                                                 No                                                                                                                                              \n\n  1.8 El plan de estudios del área incluye trabajo práctico para el desarrollo del pensamiento computacional.  \\\n5                                                 Sí                                                            \n6                                                 No                                                            \n7                                                 No                                                            \n8                                                 Sí                                                            \n9                                                 No                                                            \n\n   ...  \\\n5  ...   \n6  ...   \n7  ...   \n8  ...   \n9  ...   \n\n  4.3 La IE cuenta con espacios de discusión y planeación para actividades de desarrollo profesional  \\\n5                                                 Sí                                                   \n6                                                 No                                                   \n7                                                 Sí                                                   \n8                                                 Sí                                                   \n9                                                 No                                                   \n\n  4.4 La IE capacita a los docentes en temas de equidad de género y apoya la implementación de acciones afirmativas en el aula de clases  \\\n5                                                 Sí                                                                                       \n6                                                 No                                                                                       \n7                                                 No                                                                                       \n8                                                 Sí                                                                                       \n9                                                 No                                                                                       \n\n  4.5 La IE lleva un registro formal de las necesidades y participación de los docentes en actividades de desarrollo profesional  \\\n5                                                 Sí                                                                               \n6                                                 No                                                                               \n7                                                 Sí                                                                               \n8                                                 Sí                                                                               \n9                                                 No                                                                               \n\n  4.6 Los docentes de otras áreas se interesan por el área de tecnología e informática y la integran a su enseñanza  \\\n5                                                 Sí                                                                  \n6                                                 No                                                                  \n7                                                 Sí                                                                  \n8                                                 Sí                                                                  \n9                                                 No                                                                  \n\n  4.7 La IE incentiva el trabajo coordinado entre los/las responsables del área  \\\n5                                                 Sí                              \n6                                                 No                              \n7                                                 Sí                              \n8                                                 Sí                              \n9                                                 Sí                              \n\n  4.8 La IE tiene en cuenta los conocimientos del personal docente para enriquecer la visión institucional sobre la enseñanza de la computación y potenciar la comprensión de las/los estudiantes y desarrollo  \\\n5                                                 Sí                                                                                                                                                             \n6                                                 No                                                                                                                                                             \n7                                                 Sí                                                                                                                                                             \n8                                                 Sí                                                                                                                                                             \n9                                                 No                                                                                                                                                             \n\n  4.9 La IE promueve al trabajo conjunto entre los docente y profesionales líderes externos para impulsar prácticas inclusivas en la enseñanza de la computación y/o pensamiento computacional  \\\n5                                                 Sí                                                                                                                                             \n6                                                 No                                                                                                                                             \n7                                                 Sí                                                                                                                                             \n8                                                 Sí                                                                                                                                             \n9                                                 No                                                                                                                                             \n\n  4.10 El Consejo Directivo del colegio está al tanto de que en la institución se está enseñando ciencias de la computación, y se encuentran involucrados en el proceso.  \\\n5                                                 Sí                                                                                                                       \n6                                                 No                                                                                                                       \n7                                                 Sí                                                                                                                       \n8                                                 Sí                                                                                                                       \n9                                                 No                                                                                                                       \n\n  4.11 Las directivas y el Consejo Directivo participan y evalúan la implementación de sistemas eficientes del plan de estudios del área.]  \\\n5                                                 Sí                                                                                         \n6                                                 Sí                                                                                         \n7                                                 Sí                                                                                         \n8                                                 Sí                                                                                         \n9                                                 No                                                                                         \n\n                                      Comentarios P4  \n5                                                NaN  \n6                                                NaN  \n7                                           Ninguna   \n8                                                NaN  \n9  La institución esta presta a las capacitacione...  \n\n[5 rows x 49 columns]",
      "text/html": "<div>\n<style scoped>\n    .dataframe tbody tr th:only-of-type {\n        vertical-align: middle;\n    }\n\n    .dataframe tbody tr th {\n        vertical-align: top;\n    }\n\n    .dataframe thead th {\n        text-align: right;\n    }\n</style>\n<table border=\"1\" class=\"dataframe\">\n  <thead>\n    <tr style=\"text-align: right;\">\n      <th></th>\n      <th>Timestamp</th>\n      <th>Código IE</th>\n      <th>1.1 Los docentes encargados del área son los responsables de definir lo que se enseña</th>\n      <th>1.2 El plan de estudios del área cuenta con mejoras realizadas por los docentes de la IE gracias a espacios colaborativos</th>\n      <th>1.3 El plan de estudio incluye actividades básicas de ofimática y/o alfabetización digital, programación y/o desarrollo del pensamiento computacional.</th>\n      <th>1.4 En el plan de estudio se da mayor relevancia al pensamiento computacional</th>\n      <th>1.5 El plan de estudio del área promueve la transición desde la alfabetización digital a las ciencias de la computación</th>\n      <th>1.6 El plan de estudios del área comprende el pensamiento computacional y su impacto dentro del proceso enseñanza-aprendizaje</th>\n      <th>1.7 El plan de estudios del área es coherente con la transición de un grado a otro y permite al estudiante desarrollar conocimientos, habilidades y comprensión del pensamiento computacional</th>\n      <th>1.8 El plan de estudios del área incluye trabajo práctico para el desarrollo del pensamiento computacional.</th>\n      <th>...</th>\n      <th>4.3 La IE cuenta con espacios de discusión y planeación para actividades de desarrollo profesional</th>\n      <th>4.4 La IE capacita a los docentes en temas de equidad de género y apoya la implementación de acciones afirmativas en el aula de clases</th>\n      <th>4.5 La IE lleva un registro formal de las necesidades y participación de los docentes en actividades de desarrollo profesional</th>\n      <th>4.6 Los docentes de otras áreas se interesan por el área de tecnología e informática y la integran a su enseñanza</th>\n      <th>4.7 La IE incentiva el trabajo coordinado entre los/las responsables del área</th>\n      <th>4.8 La IE tiene en cuenta los conocimientos del personal docente para enriquecer la visión institucional sobre la enseñanza de la computación y potenciar la comprensión de las/los estudiantes y desarrollo</th>\n      <th>4.9 La IE promueve al trabajo conjunto entre los docente y profesionales líderes externos para impulsar prácticas inclusivas en la enseñanza de la computación y/o pensamiento computacional</th>\n      <th>4.10 El Consejo Directivo del colegio está al tanto de que en la institución se está enseñando ciencias de la computación, y se encuentran involucrados en el proceso.</th>\n      <th>4.11 Las directivas y el Consejo Directivo participan y evalúan la implementación de sistemas eficientes del plan de estudios del área.]</th>\n      <th>Comentarios P4</th>\n    </tr>\n  </thead>\n  <tbody>\n    <tr>\n      <th>5</th>\n      <td>2022-04-18 11:11:59.558</td>\n      <td>33</td>\n      <td>Sí</td>\n      <td>Sí</td>\n      <td>Sí</td>\n      <td>Sí</td>\n      <td>Sí</td>\n      <td>Sí</td>\n      <td>Sí</td>\n      <td>Sí</td>\n      <td>...</td>\n      <td>Sí</td>\n      <td>Sí</td>\n      <td>Sí</td>\n      <td>Sí</td>\n      <td>Sí</td>\n      <td>Sí</td>\n      <td>Sí</td>\n      <td>Sí</td>\n      <td>Sí</td>\n      <td>NaN</td>\n    </tr>\n    <tr>\n      <th>6</th>\n      <td>2022-04-18 20:19:15.745</td>\n      <td>4</td>\n      <td>No</td>\n      <td>No</td>\n      <td>Sí</td>\n      <td>No</td>\n      <td>No</td>\n      <td>No</td>\n      <td>No</td>\n      <td>No</td>\n      <td>...</td>\n      <td>No</td>\n      <td>No</td>\n      <td>No</td>\n      <td>No</td>\n      <td>No</td>\n      <td>No</td>\n      <td>No</td>\n      <td>No</td>\n      <td>Sí</td>\n      <td>NaN</td>\n    </tr>\n    <tr>\n      <th>7</th>\n      <td>2022-04-19 08:27:12.584</td>\n      <td>129</td>\n      <td>Sí</td>\n      <td>Sí</td>\n      <td>Sí</td>\n      <td>No</td>\n      <td>Sí</td>\n      <td>Sí</td>\n      <td>No</td>\n      <td>No</td>\n      <td>...</td>\n      <td>Sí</td>\n      <td>No</td>\n      <td>Sí</td>\n      <td>Sí</td>\n      <td>Sí</td>\n      <td>Sí</td>\n      <td>Sí</td>\n      <td>Sí</td>\n      <td>Sí</td>\n      <td>Ninguna</td>\n    </tr>\n    <tr>\n      <th>8</th>\n      <td>2022-04-19 08:59:47.986</td>\n      <td>7</td>\n      <td>Sí</td>\n      <td>Sí</td>\n      <td>Sí</td>\n      <td>No</td>\n      <td>Sí</td>\n      <td>No</td>\n      <td>Sí</td>\n      <td>Sí</td>\n      <td>...</td>\n      <td>Sí</td>\n      <td>Sí</td>\n      <td>Sí</td>\n      <td>Sí</td>\n      <td>Sí</td>\n      <td>Sí</td>\n      <td>Sí</td>\n      <td>Sí</td>\n      <td>Sí</td>\n      <td>NaN</td>\n    </tr>\n    <tr>\n      <th>9</th>\n      <td>2022-04-19 09:02:25.808</td>\n      <td>231</td>\n      <td>Sí</td>\n      <td>Sí</td>\n      <td>Sí</td>\n      <td>No</td>\n      <td>No</td>\n      <td>No</td>\n      <td>No</td>\n      <td>No</td>\n      <td>...</td>\n      <td>No</td>\n      <td>No</td>\n      <td>No</td>\n      <td>No</td>\n      <td>Sí</td>\n      <td>No</td>\n      <td>No</td>\n      <td>No</td>\n      <td>No</td>\n      <td>La institución esta presta a las capacitacione...</td>\n    </tr>\n  </tbody>\n</table>\n<p>5 rows × 49 columns</p>\n</div>"
     },
     "execution_count": 105,
     "metadata": {},
     "output_type": "execute_result"
    }
   ],
   "source": [
    "plan2 = pd.read_excel('../../../data/raw/Lid_Con_Pre_130522.xlsx')\n",
    "plan2 = plan2.dropna(subset='1.1 Los docentes encargados del área son los responsables de definir lo que se enseña')\n",
    "plan2 = plan2[plan2['Código IE']<300]\n",
    "plan2[plan2.filter(regex=r'^1.').columns.tolist()] = plan2[plan2.filter(regex=r'^1.').columns.tolist()].fillna(\"No\")\n",
    "print(plan2.shape)\n",
    "plan2.head()"
   ],
   "metadata": {
    "collapsed": false,
    "pycharm": {
     "name": "#%%\n"
    }
   }
  },
  {
   "cell_type": "code",
   "execution_count": 106,
   "outputs": [
    {
     "data": {
      "text/plain": "                  Timestamp  Código IE  \\\n113 2022-05-03 22:31:14.149         82   \n\n    1.1 Los docentes encargados del área son los responsables de definir lo que se enseña  \\\n113                                                 Sí                                      \n\n    1.2 El plan de estudios del área cuenta con mejoras realizadas por los docentes de la IE gracias a espacios colaborativos  \\\n113                                                 Sí                                                                          \n\n    1.3 El plan de estudio incluye actividades básicas de ofimática y/o alfabetización digital, programación y/o desarrollo del pensamiento computacional.  \\\n113                                                 Sí                                                                                                       \n\n    1.4 En el plan de estudio se da mayor relevancia al pensamiento computacional  \\\n113                                                 No                              \n\n    1.5 El plan de estudio del área promueve la transición desde la alfabetización digital a las ciencias de la computación  \\\n113                                                 No                                                                        \n\n    1.6 El plan de estudios del área comprende el pensamiento computacional y su impacto dentro del proceso enseñanza-aprendizaje  \\\n113                                                 Sí                                                                              \n\n    1.7 El plan de estudios del área es coherente con la transición de un grado a otro y permite al estudiante desarrollar conocimientos, habilidades y comprensión del pensamiento computacional  \\\n113                                                 Sí                                                                                                                                              \n\n    1.8 El plan de estudios del área incluye trabajo práctico para el desarrollo del pensamiento computacional.  \\\n113                                                 Sí                                                            \n\n     ...  \\\n113  ...   \n\n    4.3 La IE cuenta con espacios de discusión y planeación para actividades de desarrollo profesional  \\\n113                                                 Sí                                                   \n\n    4.4 La IE capacita a los docentes en temas de equidad de género y apoya la implementación de acciones afirmativas en el aula de clases  \\\n113                                                 Sí                                                                                       \n\n    4.5 La IE lleva un registro formal de las necesidades y participación de los docentes en actividades de desarrollo profesional  \\\n113                                                 No                                                                               \n\n    4.6 Los docentes de otras áreas se interesan por el área de tecnología e informática y la integran a su enseñanza  \\\n113                                                 Sí                                                                  \n\n    4.7 La IE incentiva el trabajo coordinado entre los/las responsables del área  \\\n113                                                 Sí                              \n\n    4.8 La IE tiene en cuenta los conocimientos del personal docente para enriquecer la visión institucional sobre la enseñanza de la computación y potenciar la comprensión de las/los estudiantes y desarrollo  \\\n113                                                 No                                                                                                                                                             \n\n    4.9 La IE promueve al trabajo conjunto entre los docente y profesionales líderes externos para impulsar prácticas inclusivas en la enseñanza de la computación y/o pensamiento computacional  \\\n113                                                 Sí                                                                                                                                             \n\n    4.10 El Consejo Directivo del colegio está al tanto de que en la institución se está enseñando ciencias de la computación, y se encuentran involucrados en el proceso.  \\\n113                                                 Sí                                                                                                                       \n\n    4.11 Las directivas y el Consejo Directivo participan y evalúan la implementación de sistemas eficientes del plan de estudios del área.]  \\\n113                                                 Sí                                                                                         \n\n    Comentarios P4  \n113            NaN  \n\n[1 rows x 49 columns]",
      "text/html": "<div>\n<style scoped>\n    .dataframe tbody tr th:only-of-type {\n        vertical-align: middle;\n    }\n\n    .dataframe tbody tr th {\n        vertical-align: top;\n    }\n\n    .dataframe thead th {\n        text-align: right;\n    }\n</style>\n<table border=\"1\" class=\"dataframe\">\n  <thead>\n    <tr style=\"text-align: right;\">\n      <th></th>\n      <th>Timestamp</th>\n      <th>Código IE</th>\n      <th>1.1 Los docentes encargados del área son los responsables de definir lo que se enseña</th>\n      <th>1.2 El plan de estudios del área cuenta con mejoras realizadas por los docentes de la IE gracias a espacios colaborativos</th>\n      <th>1.3 El plan de estudio incluye actividades básicas de ofimática y/o alfabetización digital, programación y/o desarrollo del pensamiento computacional.</th>\n      <th>1.4 En el plan de estudio se da mayor relevancia al pensamiento computacional</th>\n      <th>1.5 El plan de estudio del área promueve la transición desde la alfabetización digital a las ciencias de la computación</th>\n      <th>1.6 El plan de estudios del área comprende el pensamiento computacional y su impacto dentro del proceso enseñanza-aprendizaje</th>\n      <th>1.7 El plan de estudios del área es coherente con la transición de un grado a otro y permite al estudiante desarrollar conocimientos, habilidades y comprensión del pensamiento computacional</th>\n      <th>1.8 El plan de estudios del área incluye trabajo práctico para el desarrollo del pensamiento computacional.</th>\n      <th>...</th>\n      <th>4.3 La IE cuenta con espacios de discusión y planeación para actividades de desarrollo profesional</th>\n      <th>4.4 La IE capacita a los docentes en temas de equidad de género y apoya la implementación de acciones afirmativas en el aula de clases</th>\n      <th>4.5 La IE lleva un registro formal de las necesidades y participación de los docentes en actividades de desarrollo profesional</th>\n      <th>4.6 Los docentes de otras áreas se interesan por el área de tecnología e informática y la integran a su enseñanza</th>\n      <th>4.7 La IE incentiva el trabajo coordinado entre los/las responsables del área</th>\n      <th>4.8 La IE tiene en cuenta los conocimientos del personal docente para enriquecer la visión institucional sobre la enseñanza de la computación y potenciar la comprensión de las/los estudiantes y desarrollo</th>\n      <th>4.9 La IE promueve al trabajo conjunto entre los docente y profesionales líderes externos para impulsar prácticas inclusivas en la enseñanza de la computación y/o pensamiento computacional</th>\n      <th>4.10 El Consejo Directivo del colegio está al tanto de que en la institución se está enseñando ciencias de la computación, y se encuentran involucrados en el proceso.</th>\n      <th>4.11 Las directivas y el Consejo Directivo participan y evalúan la implementación de sistemas eficientes del plan de estudios del área.]</th>\n      <th>Comentarios P4</th>\n    </tr>\n  </thead>\n  <tbody>\n    <tr>\n      <th>113</th>\n      <td>2022-05-03 22:31:14.149</td>\n      <td>82</td>\n      <td>Sí</td>\n      <td>Sí</td>\n      <td>Sí</td>\n      <td>No</td>\n      <td>No</td>\n      <td>Sí</td>\n      <td>Sí</td>\n      <td>Sí</td>\n      <td>...</td>\n      <td>Sí</td>\n      <td>Sí</td>\n      <td>No</td>\n      <td>Sí</td>\n      <td>Sí</td>\n      <td>No</td>\n      <td>Sí</td>\n      <td>Sí</td>\n      <td>Sí</td>\n      <td>NaN</td>\n    </tr>\n  </tbody>\n</table>\n<p>1 rows × 49 columns</p>\n</div>"
     },
     "execution_count": 106,
     "metadata": {},
     "output_type": "execute_result"
    }
   ],
   "source": [
    "plan2[plan2['Código IE']==82]"
   ],
   "metadata": {
    "collapsed": false,
    "pycharm": {
     "name": "#%%\n"
    }
   }
  },
  {
   "cell_type": "code",
   "execution_count": 107,
   "outputs": [
    {
     "data": {
      "text/plain": "Index(['1.1 Los docentes encargados del área son los responsables de definir lo que se enseña',\n       '1.2 El plan de estudios del área cuenta con mejoras realizadas por los docentes de la IE gracias a espacios colaborativos',\n       '1.3 El plan de estudio incluye actividades básicas de ofimática y/o alfabetización digital, programación y/o desarrollo del pensamiento computacional.',\n       '1.4 En el plan de estudio se da mayor relevancia al pensamiento computacional',\n       '1.5 El plan de estudio del área promueve la transición desde la alfabetización digital a las ciencias de la computación',\n       '1.6 El plan de estudios del área comprende el pensamiento computacional y su impacto dentro del proceso enseñanza-aprendizaje',\n       '1.7 El plan de estudios del área es coherente con la transición de un grado a otro y permite al estudiante desarrollar conocimientos, habilidades y comprensión del pensamiento computacional',\n       '1.8 El plan de estudios del área incluye trabajo práctico para el desarrollo del pensamiento computacional.',\n       '1.9 El plan de estudio del área cuenta con espacios de socialización a los estudiantes de personas que trabajan en ocupaciones relacionadas al área STEM',\n       '1.10 El plan de estudio de las asignaturas No-STEM integran eficientemente los aprendizajes adquiridos por sus estudiantes sobre pensamiento computacional',\n       '1.11 La visión institucional menciona el impacto y lugar de la enseñanza del desarrollo del pensamiento computacional dentro del plan de estudios.'],\n      dtype='object')"
     },
     "execution_count": 107,
     "metadata": {},
     "output_type": "execute_result"
    }
   ],
   "source": [
    "plan2.filter(regex=r'^1.').columns"
   ],
   "metadata": {
    "collapsed": false,
    "pycharm": {
     "name": "#%%\n"
    }
   }
  },
  {
   "cell_type": "code",
   "execution_count": 108,
   "outputs": [],
   "source": [
    "cols_plan2_dx = {\n",
    "    '1.1 Los docentes encargados del área son los responsables de definir lo que se enseña':{\n",
    "        \"Sí\":1, \"No\":0, \"No aplica\":0\n",
    "    },\n",
    "    '1.9 El plan de estudio del área cuenta con espacios de socialización a los estudiantes de personas que trabajan en ocupaciones relacionadas al área STEM':{\n",
    "        \"Sí\":1, \"No\":0, \"No aplica\":0\n",
    "    }}"
   ],
   "metadata": {
    "collapsed": false,
    "pycharm": {
     "name": "#%%\n"
    }
   }
  },
  {
   "cell_type": "code",
   "execution_count": 109,
   "outputs": [],
   "source": [
    "cols_plan2_d2 = {\n",
    "    '1.2 El plan de estudios del área cuenta con mejoras realizadas por los docentes de la IE gracias a espacios colaborativos':{\n",
    "        \"Sí\":\"4\", \"No\":\"2B\", \"No aplica\":\"2B\"\n",
    "    },\n",
    "    '1.3 El plan de estudio incluye actividades básicas de ofimática y/o alfabetización digital, programación y/o desarrollo del pensamiento computacional.':{\n",
    "        \"Sí\":\"4\", \"No\":\"1B\", \"No aplica\":\"1A\"\n",
    "    },\n",
    "    '1.4 En el plan de estudio se da mayor relevancia al pensamiento computacional':{\n",
    "        \"Sí\":\"4\", \"No\":\"3\", \"No aplica\":\"3\"\n",
    "    },\n",
    "    '1.5 El plan de estudio del área promueve la transición desde la alfabetización digital a las ciencias de la computación':{\n",
    "        \"Sí\":\"4\", \"No\":\"3\", \"No aplica\":\"3\"\n",
    "    },\n",
    "    '1.6 El plan de estudios del área comprende el pensamiento computacional y su impacto dentro del proceso enseñanza-aprendizaje':{\n",
    "        \"Sí\":\"4\", \"No\":\"2A\", \"No aplica\":\"2A\"\n",
    "    },\n",
    "    '1.7 El plan de estudios del área es coherente con la transición de un grado a otro y permite al estudiante desarrollar conocimientos, habilidades y comprensión del pensamiento computacional':{\n",
    "        \"Sí\":\"4\", \"No\":\"2B\", \"No aplica\":\"2B\"\n",
    "    },\n",
    "    '1.8 El plan de estudios del área incluye trabajo práctico para el desarrollo del pensamiento computacional.':{\n",
    "        \"Sí\":\"4\", \"No\":\"2B\", \"No aplica\":\"2B\"\n",
    "    },\n",
    "\n",
    "    '1.10 El plan de estudio de las asignaturas No-STEM integran eficientemente los aprendizajes adquiridos por sus estudiantes sobre pensamiento computacional':{\n",
    "        \"Sí\":\"4\", \"No\":\"2A\", \"No aplica\":\"2A\"\n",
    "    }\n",
    "}"
   ],
   "metadata": {
    "collapsed": false,
    "pycharm": {
     "name": "#%%\n"
    }
   }
  },
  {
   "cell_type": "code",
   "execution_count": 125,
   "outputs": [
    {
     "data": {
      "text/plain": "     Código IE  \\\n0            2   \n1            3   \n2            4   \n3            5   \n4            6   \n..         ...   \n182        248   \n183        249   \n184        250   \n185        251   \n186        252   \n\n    1.2 El plan de estudios del área cuenta con mejoras realizadas por los docentes de la IE gracias a espacios colaborativos  \\\n0                                                    4                                                                          \n1                                                    4                                                                          \n2                                                   2B                                                                          \n3                                                    4                                                                          \n4                                                    4                                                                          \n..                                                 ...                                                                          \n182                                                  4                                                                          \n183                                                  4                                                                          \n184                                                  4                                                                          \n185                                                  4                                                                          \n186                                                  4                                                                          \n\n    1.3 El plan de estudio incluye actividades básicas de ofimática y/o alfabetización digital, programación y/o desarrollo del pensamiento computacional.  \\\n0                                                    4                                                                                                       \n1                                                    4                                                                                                       \n2                                                    4                                                                                                       \n3                                                    4                                                                                                       \n4                                                    4                                                                                                       \n..                                                 ...                                                                                                       \n182                                                  4                                                                                                       \n183                                                  4                                                                                                       \n184                                                  4                                                                                                       \n185                                                  4                                                                                                       \n186                                                  4                                                                                                       \n\n    1.4 En el plan de estudio se da mayor relevancia al pensamiento computacional  \\\n0                                                    3                              \n1                                                    3                              \n2                                                    3                              \n3                                                    4                              \n4                                                    3                              \n..                                                 ...                              \n182                                                  3                              \n183                                                  4                              \n184                                                  3                              \n185                                                  3                              \n186                                                  3                              \n\n    1.5 El plan de estudio del área promueve la transición desde la alfabetización digital a las ciencias de la computación  \\\n0                                                    3                                                                        \n1                                                    3                                                                        \n2                                                    3                                                                        \n3                                                    4                                                                        \n4                                                    4                                                                        \n..                                                 ...                                                                        \n182                                                  3                                                                        \n183                                                  4                                                                        \n184                                                  4                                                                        \n185                                                  4                                                                        \n186                                                  4                                                                        \n\n    1.6 El plan de estudios del área comprende el pensamiento computacional y su impacto dentro del proceso enseñanza-aprendizaje  \\\n0                                                    4                                                                              \n1                                                    4                                                                              \n2                                                   2A                                                                              \n3                                                    4                                                                              \n4                                                    4                                                                              \n..                                                 ...                                                                              \n182                                                 2A                                                                              \n183                                                  4                                                                              \n184                                                 2A                                                                              \n185                                                 2A                                                                              \n186                                                  4                                                                              \n\n    1.7 El plan de estudios del área es coherente con la transición de un grado a otro y permite al estudiante desarrollar conocimientos, habilidades y comprensión del pensamiento computacional  \\\n0                                                   2B                                                                                                                                              \n1                                                    4                                                                                                                                              \n2                                                   2B                                                                                                                                              \n3                                                    4                                                                                                                                              \n4                                                    4                                                                                                                                              \n..                                                 ...                                                                                                                                              \n182                                                 2B                                                                                                                                              \n183                                                  4                                                                                                                                              \n184                                                  4                                                                                                                                              \n185                                                  4                                                                                                                                              \n186                                                  4                                                                                                                                              \n\n    1.8 El plan de estudios del área incluye trabajo práctico para el desarrollo del pensamiento computacional.  \\\n0                                                   2B                                                            \n1                                                    4                                                            \n2                                                   2B                                                            \n3                                                    4                                                            \n4                                                    4                                                            \n..                                                 ...                                                            \n182                                                 2B                                                            \n183                                                  4                                                            \n184                                                  4                                                            \n185                                                  4                                                            \n186                                                  4                                                            \n\n    1.10 El plan de estudio de las asignaturas No-STEM integran eficientemente los aprendizajes adquiridos por sus estudiantes sobre pensamiento computacional  \\\n0                                                   2A                                                                                                           \n1                                                   2A                                                                                                           \n2                                                   2A                                                                                                           \n3                                                    4                                                                                                           \n4                                                   2A                                                                                                           \n..                                                 ...                                                                                                           \n182                                                 2A                                                                                                           \n183                                                  4                                                                                                           \n184                                                 2A                                                                                                           \n185                                                 2A                                                                                                           \n186                                                 2A                                                                                                           \n\n    Nivel lider  \n0            2A  \n1            2A  \n2            2A  \n3             4  \n4            2A  \n..          ...  \n182          2A  \n183           4  \n184          2A  \n185          2A  \n186          2A  \n\n[187 rows x 10 columns]",
      "text/html": "<div>\n<style scoped>\n    .dataframe tbody tr th:only-of-type {\n        vertical-align: middle;\n    }\n\n    .dataframe tbody tr th {\n        vertical-align: top;\n    }\n\n    .dataframe thead th {\n        text-align: right;\n    }\n</style>\n<table border=\"1\" class=\"dataframe\">\n  <thead>\n    <tr style=\"text-align: right;\">\n      <th></th>\n      <th>Código IE</th>\n      <th>1.2 El plan de estudios del área cuenta con mejoras realizadas por los docentes de la IE gracias a espacios colaborativos</th>\n      <th>1.3 El plan de estudio incluye actividades básicas de ofimática y/o alfabetización digital, programación y/o desarrollo del pensamiento computacional.</th>\n      <th>1.4 En el plan de estudio se da mayor relevancia al pensamiento computacional</th>\n      <th>1.5 El plan de estudio del área promueve la transición desde la alfabetización digital a las ciencias de la computación</th>\n      <th>1.6 El plan de estudios del área comprende el pensamiento computacional y su impacto dentro del proceso enseñanza-aprendizaje</th>\n      <th>1.7 El plan de estudios del área es coherente con la transición de un grado a otro y permite al estudiante desarrollar conocimientos, habilidades y comprensión del pensamiento computacional</th>\n      <th>1.8 El plan de estudios del área incluye trabajo práctico para el desarrollo del pensamiento computacional.</th>\n      <th>1.10 El plan de estudio de las asignaturas No-STEM integran eficientemente los aprendizajes adquiridos por sus estudiantes sobre pensamiento computacional</th>\n      <th>Nivel lider</th>\n    </tr>\n  </thead>\n  <tbody>\n    <tr>\n      <th>0</th>\n      <td>2</td>\n      <td>4</td>\n      <td>4</td>\n      <td>3</td>\n      <td>3</td>\n      <td>4</td>\n      <td>2B</td>\n      <td>2B</td>\n      <td>2A</td>\n      <td>2A</td>\n    </tr>\n    <tr>\n      <th>1</th>\n      <td>3</td>\n      <td>4</td>\n      <td>4</td>\n      <td>3</td>\n      <td>3</td>\n      <td>4</td>\n      <td>4</td>\n      <td>4</td>\n      <td>2A</td>\n      <td>2A</td>\n    </tr>\n    <tr>\n      <th>2</th>\n      <td>4</td>\n      <td>2B</td>\n      <td>4</td>\n      <td>3</td>\n      <td>3</td>\n      <td>2A</td>\n      <td>2B</td>\n      <td>2B</td>\n      <td>2A</td>\n      <td>2A</td>\n    </tr>\n    <tr>\n      <th>3</th>\n      <td>5</td>\n      <td>4</td>\n      <td>4</td>\n      <td>4</td>\n      <td>4</td>\n      <td>4</td>\n      <td>4</td>\n      <td>4</td>\n      <td>4</td>\n      <td>4</td>\n    </tr>\n    <tr>\n      <th>4</th>\n      <td>6</td>\n      <td>4</td>\n      <td>4</td>\n      <td>3</td>\n      <td>4</td>\n      <td>4</td>\n      <td>4</td>\n      <td>4</td>\n      <td>2A</td>\n      <td>2A</td>\n    </tr>\n    <tr>\n      <th>...</th>\n      <td>...</td>\n      <td>...</td>\n      <td>...</td>\n      <td>...</td>\n      <td>...</td>\n      <td>...</td>\n      <td>...</td>\n      <td>...</td>\n      <td>...</td>\n      <td>...</td>\n    </tr>\n    <tr>\n      <th>182</th>\n      <td>248</td>\n      <td>4</td>\n      <td>4</td>\n      <td>3</td>\n      <td>3</td>\n      <td>2A</td>\n      <td>2B</td>\n      <td>2B</td>\n      <td>2A</td>\n      <td>2A</td>\n    </tr>\n    <tr>\n      <th>183</th>\n      <td>249</td>\n      <td>4</td>\n      <td>4</td>\n      <td>4</td>\n      <td>4</td>\n      <td>4</td>\n      <td>4</td>\n      <td>4</td>\n      <td>4</td>\n      <td>4</td>\n    </tr>\n    <tr>\n      <th>184</th>\n      <td>250</td>\n      <td>4</td>\n      <td>4</td>\n      <td>3</td>\n      <td>4</td>\n      <td>2A</td>\n      <td>4</td>\n      <td>4</td>\n      <td>2A</td>\n      <td>2A</td>\n    </tr>\n    <tr>\n      <th>185</th>\n      <td>251</td>\n      <td>4</td>\n      <td>4</td>\n      <td>3</td>\n      <td>4</td>\n      <td>2A</td>\n      <td>4</td>\n      <td>4</td>\n      <td>2A</td>\n      <td>2A</td>\n    </tr>\n    <tr>\n      <th>186</th>\n      <td>252</td>\n      <td>4</td>\n      <td>4</td>\n      <td>3</td>\n      <td>4</td>\n      <td>4</td>\n      <td>4</td>\n      <td>4</td>\n      <td>2A</td>\n      <td>2A</td>\n    </tr>\n  </tbody>\n</table>\n<p>187 rows × 10 columns</p>\n</div>"
     },
     "execution_count": 125,
     "metadata": {},
     "output_type": "execute_result"
    }
   ],
   "source": [
    "plan2_d2 = plan2[['Código IE']+list(cols_plan2_d2.keys())]\n",
    "plan2_d2 = plan2_d2.replace(cols_plan2_d2)\n",
    "plan2_d2 = plan2_d2.groupby('Código IE').max().reset_index()\n",
    "plan2_d2['Nivel lider'] = plan2_d2.iloc[:,1:].min(axis=1)\n",
    "plan2_d2"
   ],
   "metadata": {
    "collapsed": false,
    "pycharm": {
     "name": "#%%\n"
    }
   }
  },
  {
   "cell_type": "code",
   "execution_count": 129,
   "outputs": [
    {
     "data": {
      "text/plain": "     Código IE  \\\n0            2   \n1            3   \n2            4   \n3            5   \n4            6   \n..         ...   \n120        243   \n121        249   \n122        250   \n123        251   \n124        252   \n\n    1.2 El plan de estudio incluye actividades básicas de ofimática y/o alfabetización digital, y de programación y/o desarrollo del pensamiento computacional.  \\\n0                                                    4                                                                                                            \n1                                                    4                                                                                                            \n2                                                    4                                                                                                            \n3                                                    4                                                                                                            \n4                                                    4                                                                                                            \n..                                                 ...                                                                                                            \n120                                                  4                                                                                                            \n121                                                  4                                                                                                            \n122                                                  4                                                                                                            \n123                                                 1B                                                                                                            \n124                                                  4                                                                                                            \n\n    1.3 En el plan de estudio se da mayor relevancia al pensamiento computacional  \\\n0                                                   1B                              \n1                                                   1B                              \n2                                                   1B                              \n3                                                   1B                              \n4                                                   1B                              \n..                                                 ...                              \n120                                                  3                              \n121                                                 1B                              \n122                                                 1B                              \n123                                                 1B                              \n124                                                 1B                              \n\n    1.4 El plan de estudio del área promueve la transición desde la alfabetización digital a las ciencias de la computación.  \\\n0                                                    3                                                                         \n1                                                    3                                                                         \n2                                                    3                                                                         \n3                                                    3                                                                         \n4                                                    3                                                                         \n..                                                 ...                                                                         \n120                                                  4                                                                         \n121                                                  4                                                                         \n122                                                  4                                                                         \n123                                                  4                                                                         \n124                                                  4                                                                         \n\n    1.6 El plan de estudios del área es coherente con la transición de un grado a otro y permite al estudiante desarrollar conocimientos, habilidades y comprensión del pensamiento computacional  \\\n0                                                   2B                                                                                                                                              \n1                                                   2B                                                                                                                                              \n2                                                   2B                                                                                                                                              \n3                                                   2B                                                                                                                                              \n4                                                   2B                                                                                                                                              \n..                                                 ...                                                                                                                                              \n120                                                  4                                                                                                                                              \n121                                                  4                                                                                                                                              \n122                                                  4                                                                                                                                              \n123                                                 2B                                                                                                                                              \n124                                                  4                                                                                                                                              \n\n    1.7 El plan de estudios del área incluye trabajo práctico para el desarrollo del pensamiento computacional.  \\\n0                                                   2B                                                            \n1                                                   2B                                                            \n2                                                   2B                                                            \n3                                                   2B                                                            \n4                                                   2B                                                            \n..                                                 ...                                                            \n120                                                  4                                                            \n121                                                  4                                                            \n122                                                  4                                                            \n123                                                 2B                                                            \n124                                                  4                                                            \n\n    1.9 El plan de estudio incluye actividades transversales con áreas No-STEM, para el desarrollo del pensamiento computacional  \\\n0                                                   2A                                                                             \n1                                                   2A                                                                             \n2                                                   2A                                                                             \n3                                                   2A                                                                             \n4                                                   2A                                                                             \n..                                                 ...                                                                             \n120                                                  4                                                                             \n121                                                  4                                                                             \n122                                                 2A                                                                             \n123                                                 2A                                                                             \n124                                                 2A                                                                             \n\n    Nivel Revision Plan  \\\n0                    1B   \n1                    1B   \n2                    1B   \n3                    1B   \n4                    1B   \n..                  ...   \n120                   3   \n121                  1B   \n122                  1B   \n123                  1B   \n124                  1B   \n\n    1.2 El plan de estudios del área cuenta con mejoras realizadas por los docentes de la IE gracias a espacios colaborativos  \\\n0                                                    4                                                                          \n1                                                    4                                                                          \n2                                                   2B                                                                          \n3                                                    4                                                                          \n4                                                    4                                                                          \n..                                                 ...                                                                          \n120                                                  4                                                                          \n121                                                  4                                                                          \n122                                                  4                                                                          \n123                                                  4                                                                          \n124                                                  4                                                                          \n\n    1.3 El plan de estudio incluye actividades básicas de ofimática y/o alfabetización digital, programación y/o desarrollo del pensamiento computacional.  \\\n0                                                    4                                                                                                       \n1                                                    4                                                                                                       \n2                                                    4                                                                                                       \n3                                                    4                                                                                                       \n4                                                    4                                                                                                       \n..                                                 ...                                                                                                       \n120                                                  4                                                                                                       \n121                                                  4                                                                                                       \n122                                                  4                                                                                                       \n123                                                  4                                                                                                       \n124                                                  4                                                                                                       \n\n    1.4 En el plan de estudio se da mayor relevancia al pensamiento computacional  \\\n0                                                    3                              \n1                                                    3                              \n2                                                    3                              \n3                                                    4                              \n4                                                    3                              \n..                                                 ...                              \n120                                                  4                              \n121                                                  4                              \n122                                                  3                              \n123                                                  3                              \n124                                                  3                              \n\n    1.5 El plan de estudio del área promueve la transición desde la alfabetización digital a las ciencias de la computación  \\\n0                                                    3                                                                        \n1                                                    3                                                                        \n2                                                    3                                                                        \n3                                                    4                                                                        \n4                                                    4                                                                        \n..                                                 ...                                                                        \n120                                                  4                                                                        \n121                                                  4                                                                        \n122                                                  4                                                                        \n123                                                  4                                                                        \n124                                                  4                                                                        \n\n    1.6 El plan de estudios del área comprende el pensamiento computacional y su impacto dentro del proceso enseñanza-aprendizaje  \\\n0                                                    4                                                                              \n1                                                    4                                                                              \n2                                                   2A                                                                              \n3                                                    4                                                                              \n4                                                    4                                                                              \n..                                                 ...                                                                              \n120                                                  4                                                                              \n121                                                  4                                                                              \n122                                                 2A                                                                              \n123                                                 2A                                                                              \n124                                                  4                                                                              \n\n    1.7 El plan de estudios del área es coherente con la transición de un grado a otro y permite al estudiante desarrollar conocimientos, habilidades y comprensión del pensamiento computacional  \\\n0                                                   2B                                                                                                                                              \n1                                                    4                                                                                                                                              \n2                                                   2B                                                                                                                                              \n3                                                    4                                                                                                                                              \n4                                                    4                                                                                                                                              \n..                                                 ...                                                                                                                                              \n120                                                  4                                                                                                                                              \n121                                                  4                                                                                                                                              \n122                                                  4                                                                                                                                              \n123                                                  4                                                                                                                                              \n124                                                  4                                                                                                                                              \n\n    1.8 El plan de estudios del área incluye trabajo práctico para el desarrollo del pensamiento computacional.  \\\n0                                                   2B                                                            \n1                                                    4                                                            \n2                                                   2B                                                            \n3                                                    4                                                            \n4                                                    4                                                            \n..                                                 ...                                                            \n120                                                  4                                                            \n121                                                  4                                                            \n122                                                  4                                                            \n123                                                  4                                                            \n124                                                  4                                                            \n\n    1.10 El plan de estudio de las asignaturas No-STEM integran eficientemente los aprendizajes adquiridos por sus estudiantes sobre pensamiento computacional  \\\n0                                                   2A                                                                                                           \n1                                                   2A                                                                                                           \n2                                                   2A                                                                                                           \n3                                                    4                                                                                                           \n4                                                   2A                                                                                                           \n..                                                 ...                                                                                                           \n120                                                  4                                                                                                           \n121                                                  4                                                                                                           \n122                                                 2A                                                                                                           \n123                                                 2A                                                                                                           \n124                                                 2A                                                                                                           \n\n    Nivel lider Dimensión 2  \n0            2A          1B  \n1            2A          1B  \n2            2A          1B  \n3             4          1B  \n4            2A          1B  \n..          ...         ...  \n120           4           3  \n121           4          1B  \n122          2A          1B  \n123          2A          1B  \n124          2A          1B  \n\n[125 rows x 18 columns]",
      "text/html": "<div>\n<style scoped>\n    .dataframe tbody tr th:only-of-type {\n        vertical-align: middle;\n    }\n\n    .dataframe tbody tr th {\n        vertical-align: top;\n    }\n\n    .dataframe thead th {\n        text-align: right;\n    }\n</style>\n<table border=\"1\" class=\"dataframe\">\n  <thead>\n    <tr style=\"text-align: right;\">\n      <th></th>\n      <th>Código IE</th>\n      <th>1.2 El plan de estudio incluye actividades básicas de ofimática y/o alfabetización digital, y de programación y/o desarrollo del pensamiento computacional.</th>\n      <th>1.3 En el plan de estudio se da mayor relevancia al pensamiento computacional</th>\n      <th>1.4 El plan de estudio del área promueve la transición desde la alfabetización digital a las ciencias de la computación.</th>\n      <th>1.6 El plan de estudios del área es coherente con la transición de un grado a otro y permite al estudiante desarrollar conocimientos, habilidades y comprensión del pensamiento computacional</th>\n      <th>1.7 El plan de estudios del área incluye trabajo práctico para el desarrollo del pensamiento computacional.</th>\n      <th>1.9 El plan de estudio incluye actividades transversales con áreas No-STEM, para el desarrollo del pensamiento computacional</th>\n      <th>Nivel Revision Plan</th>\n      <th>1.2 El plan de estudios del área cuenta con mejoras realizadas por los docentes de la IE gracias a espacios colaborativos</th>\n      <th>1.3 El plan de estudio incluye actividades básicas de ofimática y/o alfabetización digital, programación y/o desarrollo del pensamiento computacional.</th>\n      <th>1.4 En el plan de estudio se da mayor relevancia al pensamiento computacional</th>\n      <th>1.5 El plan de estudio del área promueve la transición desde la alfabetización digital a las ciencias de la computación</th>\n      <th>1.6 El plan de estudios del área comprende el pensamiento computacional y su impacto dentro del proceso enseñanza-aprendizaje</th>\n      <th>1.7 El plan de estudios del área es coherente con la transición de un grado a otro y permite al estudiante desarrollar conocimientos, habilidades y comprensión del pensamiento computacional</th>\n      <th>1.8 El plan de estudios del área incluye trabajo práctico para el desarrollo del pensamiento computacional.</th>\n      <th>1.10 El plan de estudio de las asignaturas No-STEM integran eficientemente los aprendizajes adquiridos por sus estudiantes sobre pensamiento computacional</th>\n      <th>Nivel lider</th>\n      <th>Dimensión 2</th>\n    </tr>\n  </thead>\n  <tbody>\n    <tr>\n      <th>0</th>\n      <td>2</td>\n      <td>4</td>\n      <td>1B</td>\n      <td>3</td>\n      <td>2B</td>\n      <td>2B</td>\n      <td>2A</td>\n      <td>1B</td>\n      <td>4</td>\n      <td>4</td>\n      <td>3</td>\n      <td>3</td>\n      <td>4</td>\n      <td>2B</td>\n      <td>2B</td>\n      <td>2A</td>\n      <td>2A</td>\n      <td>1B</td>\n    </tr>\n    <tr>\n      <th>1</th>\n      <td>3</td>\n      <td>4</td>\n      <td>1B</td>\n      <td>3</td>\n      <td>2B</td>\n      <td>2B</td>\n      <td>2A</td>\n      <td>1B</td>\n      <td>4</td>\n      <td>4</td>\n      <td>3</td>\n      <td>3</td>\n      <td>4</td>\n      <td>4</td>\n      <td>4</td>\n      <td>2A</td>\n      <td>2A</td>\n      <td>1B</td>\n    </tr>\n    <tr>\n      <th>2</th>\n      <td>4</td>\n      <td>4</td>\n      <td>1B</td>\n      <td>3</td>\n      <td>2B</td>\n      <td>2B</td>\n      <td>2A</td>\n      <td>1B</td>\n      <td>2B</td>\n      <td>4</td>\n      <td>3</td>\n      <td>3</td>\n      <td>2A</td>\n      <td>2B</td>\n      <td>2B</td>\n      <td>2A</td>\n      <td>2A</td>\n      <td>1B</td>\n    </tr>\n    <tr>\n      <th>3</th>\n      <td>5</td>\n      <td>4</td>\n      <td>1B</td>\n      <td>3</td>\n      <td>2B</td>\n      <td>2B</td>\n      <td>2A</td>\n      <td>1B</td>\n      <td>4</td>\n      <td>4</td>\n      <td>4</td>\n      <td>4</td>\n      <td>4</td>\n      <td>4</td>\n      <td>4</td>\n      <td>4</td>\n      <td>4</td>\n      <td>1B</td>\n    </tr>\n    <tr>\n      <th>4</th>\n      <td>6</td>\n      <td>4</td>\n      <td>1B</td>\n      <td>3</td>\n      <td>2B</td>\n      <td>2B</td>\n      <td>2A</td>\n      <td>1B</td>\n      <td>4</td>\n      <td>4</td>\n      <td>3</td>\n      <td>4</td>\n      <td>4</td>\n      <td>4</td>\n      <td>4</td>\n      <td>2A</td>\n      <td>2A</td>\n      <td>1B</td>\n    </tr>\n    <tr>\n      <th>...</th>\n      <td>...</td>\n      <td>...</td>\n      <td>...</td>\n      <td>...</td>\n      <td>...</td>\n      <td>...</td>\n      <td>...</td>\n      <td>...</td>\n      <td>...</td>\n      <td>...</td>\n      <td>...</td>\n      <td>...</td>\n      <td>...</td>\n      <td>...</td>\n      <td>...</td>\n      <td>...</td>\n      <td>...</td>\n      <td>...</td>\n    </tr>\n    <tr>\n      <th>120</th>\n      <td>243</td>\n      <td>4</td>\n      <td>3</td>\n      <td>4</td>\n      <td>4</td>\n      <td>4</td>\n      <td>4</td>\n      <td>3</td>\n      <td>4</td>\n      <td>4</td>\n      <td>4</td>\n      <td>4</td>\n      <td>4</td>\n      <td>4</td>\n      <td>4</td>\n      <td>4</td>\n      <td>4</td>\n      <td>3</td>\n    </tr>\n    <tr>\n      <th>121</th>\n      <td>249</td>\n      <td>4</td>\n      <td>1B</td>\n      <td>4</td>\n      <td>4</td>\n      <td>4</td>\n      <td>4</td>\n      <td>1B</td>\n      <td>4</td>\n      <td>4</td>\n      <td>4</td>\n      <td>4</td>\n      <td>4</td>\n      <td>4</td>\n      <td>4</td>\n      <td>4</td>\n      <td>4</td>\n      <td>1B</td>\n    </tr>\n    <tr>\n      <th>122</th>\n      <td>250</td>\n      <td>4</td>\n      <td>1B</td>\n      <td>4</td>\n      <td>4</td>\n      <td>4</td>\n      <td>2A</td>\n      <td>1B</td>\n      <td>4</td>\n      <td>4</td>\n      <td>3</td>\n      <td>4</td>\n      <td>2A</td>\n      <td>4</td>\n      <td>4</td>\n      <td>2A</td>\n      <td>2A</td>\n      <td>1B</td>\n    </tr>\n    <tr>\n      <th>123</th>\n      <td>251</td>\n      <td>1B</td>\n      <td>1B</td>\n      <td>4</td>\n      <td>2B</td>\n      <td>2B</td>\n      <td>2A</td>\n      <td>1B</td>\n      <td>4</td>\n      <td>4</td>\n      <td>3</td>\n      <td>4</td>\n      <td>2A</td>\n      <td>4</td>\n      <td>4</td>\n      <td>2A</td>\n      <td>2A</td>\n      <td>1B</td>\n    </tr>\n    <tr>\n      <th>124</th>\n      <td>252</td>\n      <td>4</td>\n      <td>1B</td>\n      <td>4</td>\n      <td>4</td>\n      <td>4</td>\n      <td>2A</td>\n      <td>1B</td>\n      <td>4</td>\n      <td>4</td>\n      <td>3</td>\n      <td>4</td>\n      <td>4</td>\n      <td>4</td>\n      <td>4</td>\n      <td>2A</td>\n      <td>2A</td>\n      <td>1B</td>\n    </tr>\n  </tbody>\n</table>\n<p>125 rows × 18 columns</p>\n</div>"
     },
     "execution_count": 129,
     "metadata": {},
     "output_type": "execute_result"
    }
   ],
   "source": [
    "df_institucion = pd.merge(plan1_d2, plan2_d2, on='Código IE', how='inner')\n",
    "df_institucion['Dimensión 2'] = df_institucion.filter(regex='Nivel', axis=1).min(axis=1)\n",
    "df_institucion"
   ],
   "metadata": {
    "collapsed": false,
    "pycharm": {
     "name": "#%%\n"
    }
   }
  },
  {
   "cell_type": "code",
   "execution_count": 130,
   "outputs": [],
   "source": [
    "df_institucion.to_excel('Dimensión 2.xlsx', index=False)"
   ],
   "metadata": {
    "collapsed": false,
    "pycharm": {
     "name": "#%%\n"
    }
   }
  },
  {
   "cell_type": "markdown",
   "source": [
    "## Docentes"
   ],
   "metadata": {
    "collapsed": false,
    "pycharm": {
     "name": "#%% md\n"
    }
   }
  },
  {
   "cell_type": "code",
   "execution_count": 20,
   "outputs": [],
   "source": [
    "doc = pd.read_excel('Docentes_numerico_11052022.xlsx')"
   ],
   "metadata": {
    "collapsed": false,
    "pycharm": {
     "name": "#%%\n"
    }
   }
  },
  {
   "cell_type": "code",
   "execution_count": 21,
   "outputs": [
    {
     "data": {
      "text/plain": "      3.3 Cuando he intentado enseñar pensamiento computacional me he encontrado con obstáculos para gestionar espacios y materiales en el colegio.  \\\n0                                                     3                                                                                               \n1                                                     3                                                                                               \n2                                                     2                                                                                               \n3                                                     2                                                                                               \n4                                                     4                                                                                               \n...                                                 ...                                                                                               \n4880                                                  4                                                                                               \n4881                                                  3                                                                                               \n4882                                                  4                                                                                               \n4883                                                  4                                                                                               \n4884                                                  3                                                                                               \n\n      3.5 Siento que por más que lo he intentado mis esfuerzos por incluir pensamiento computacional en las clases no han sido efectivos por la rigidez del plan de estudio  \\\n0                                                     3                                                                                                                       \n1                                                     3                                                                                                                       \n2                                                     3                                                                                                                       \n3                                                     2                                                                                                                       \n4                                                     3                                                                                                                       \n...                                                 ...                                                                                                                       \n4880                                                  2                                                                                                                       \n4881                                                  3                                                                                                                       \n4882                                                  4                                                                                                                       \n4883                                                  4                                                                                                                       \n4884                                                  3                                                                                                                       \n\n      3.8 Me siento frustrado porque la programación de las clases y compromisos institucionales no me permite incluir actividades de pensamiento computacional  \n0                                                     3                                                                                                          \n1                                                     3                                                                                                          \n2                                                     2                                                                                                          \n3                                                     2                                                                                                          \n4                                                     2                                                                                                          \n...                                                 ...                                                                                                          \n4880                                                  2                                                                                                          \n4881                                                  3                                                                                                          \n4882                                                  2                                                                                                          \n4883                                                  4                                                                                                          \n4884                                                  4                                                                                                          \n\n[4885 rows x 3 columns]",
      "text/html": "<div>\n<style scoped>\n    .dataframe tbody tr th:only-of-type {\n        vertical-align: middle;\n    }\n\n    .dataframe tbody tr th {\n        vertical-align: top;\n    }\n\n    .dataframe thead th {\n        text-align: right;\n    }\n</style>\n<table border=\"1\" class=\"dataframe\">\n  <thead>\n    <tr style=\"text-align: right;\">\n      <th></th>\n      <th>3.3 Cuando he intentado enseñar pensamiento computacional me he encontrado con obstáculos para gestionar espacios y materiales en el colegio.</th>\n      <th>3.5 Siento que por más que lo he intentado mis esfuerzos por incluir pensamiento computacional en las clases no han sido efectivos por la rigidez del plan de estudio</th>\n      <th>3.8 Me siento frustrado porque la programación de las clases y compromisos institucionales no me permite incluir actividades de pensamiento computacional</th>\n    </tr>\n  </thead>\n  <tbody>\n    <tr>\n      <th>0</th>\n      <td>3</td>\n      <td>3</td>\n      <td>3</td>\n    </tr>\n    <tr>\n      <th>1</th>\n      <td>3</td>\n      <td>3</td>\n      <td>3</td>\n    </tr>\n    <tr>\n      <th>2</th>\n      <td>2</td>\n      <td>3</td>\n      <td>2</td>\n    </tr>\n    <tr>\n      <th>3</th>\n      <td>2</td>\n      <td>2</td>\n      <td>2</td>\n    </tr>\n    <tr>\n      <th>4</th>\n      <td>4</td>\n      <td>3</td>\n      <td>2</td>\n    </tr>\n    <tr>\n      <th>...</th>\n      <td>...</td>\n      <td>...</td>\n      <td>...</td>\n    </tr>\n    <tr>\n      <th>4880</th>\n      <td>4</td>\n      <td>2</td>\n      <td>2</td>\n    </tr>\n    <tr>\n      <th>4881</th>\n      <td>3</td>\n      <td>3</td>\n      <td>3</td>\n    </tr>\n    <tr>\n      <th>4882</th>\n      <td>4</td>\n      <td>4</td>\n      <td>2</td>\n    </tr>\n    <tr>\n      <th>4883</th>\n      <td>4</td>\n      <td>4</td>\n      <td>4</td>\n    </tr>\n    <tr>\n      <th>4884</th>\n      <td>3</td>\n      <td>3</td>\n      <td>4</td>\n    </tr>\n  </tbody>\n</table>\n<p>4885 rows × 3 columns</p>\n</div>"
     },
     "execution_count": 21,
     "metadata": {},
     "output_type": "execute_result"
    }
   ],
   "source": [
    "intentos = doc.filter(regex=r'^3.3|^3.5|^3.8').columns.tolist()\n",
    "doc[intentos]"
   ],
   "metadata": {
    "collapsed": false,
    "pycharm": {
     "name": "#%%\n"
    }
   }
  },
  {
   "cell_type": "code",
   "execution_count": 35,
   "outputs": [
    {
     "data": {
      "text/plain": "      Código IE          ID  Intentos esporadicos\n0             0  18602976.0              4.666667\n1             0  27790212.0              2.000000\n2             0  42139821.0              2.666667\n3             0  43033443.0              1.000000\n4             0  84077316.0              3.000000\n...         ...         ...                   ...\n4849        255  37313938.0              2.000000\n4850        255  43013238.0              3.666667\n4851        255  65779248.0              4.666667\n4852        255  88157249.0              3.333333\n4853        288  28782550.0              4.000000\n\n[4854 rows x 3 columns]",
      "text/html": "<div>\n<style scoped>\n    .dataframe tbody tr th:only-of-type {\n        vertical-align: middle;\n    }\n\n    .dataframe tbody tr th {\n        vertical-align: top;\n    }\n\n    .dataframe thead th {\n        text-align: right;\n    }\n</style>\n<table border=\"1\" class=\"dataframe\">\n  <thead>\n    <tr style=\"text-align: right;\">\n      <th></th>\n      <th>Código IE</th>\n      <th>ID</th>\n      <th>Intentos esporadicos</th>\n    </tr>\n  </thead>\n  <tbody>\n    <tr>\n      <th>0</th>\n      <td>0</td>\n      <td>18602976.0</td>\n      <td>4.666667</td>\n    </tr>\n    <tr>\n      <th>1</th>\n      <td>0</td>\n      <td>27790212.0</td>\n      <td>2.000000</td>\n    </tr>\n    <tr>\n      <th>2</th>\n      <td>0</td>\n      <td>42139821.0</td>\n      <td>2.666667</td>\n    </tr>\n    <tr>\n      <th>3</th>\n      <td>0</td>\n      <td>43033443.0</td>\n      <td>1.000000</td>\n    </tr>\n    <tr>\n      <th>4</th>\n      <td>0</td>\n      <td>84077316.0</td>\n      <td>3.000000</td>\n    </tr>\n    <tr>\n      <th>...</th>\n      <td>...</td>\n      <td>...</td>\n      <td>...</td>\n    </tr>\n    <tr>\n      <th>4849</th>\n      <td>255</td>\n      <td>37313938.0</td>\n      <td>2.000000</td>\n    </tr>\n    <tr>\n      <th>4850</th>\n      <td>255</td>\n      <td>43013238.0</td>\n      <td>3.666667</td>\n    </tr>\n    <tr>\n      <th>4851</th>\n      <td>255</td>\n      <td>65779248.0</td>\n      <td>4.666667</td>\n    </tr>\n    <tr>\n      <th>4852</th>\n      <td>255</td>\n      <td>88157249.0</td>\n      <td>3.333333</td>\n    </tr>\n    <tr>\n      <th>4853</th>\n      <td>288</td>\n      <td>28782550.0</td>\n      <td>4.000000</td>\n    </tr>\n  </tbody>\n</table>\n<p>4854 rows × 3 columns</p>\n</div>"
     },
     "execution_count": 35,
     "metadata": {},
     "output_type": "execute_result"
    }
   ],
   "source": [
    "intentos_df = doc[['Código IE','ID']+intentos].groupby(['Código IE','ID'])[intentos].mean().mean(axis=1)\n",
    "intentos_df = intentos_df.reset_index()\n",
    "intentos_df.columns=['Código IE','ID','Intentos esporadicos']\n",
    "intentos_df"
   ],
   "metadata": {
    "collapsed": false,
    "pycharm": {
     "name": "#%%\n"
    }
   }
  },
  {
   "cell_type": "code",
   "execution_count": 36,
   "outputs": [
    {
     "data": {
      "text/plain": "           ID  Intentos esporadicos\nCódigo IE                          \n0           6              2.555556\n1          45              2.703704\n2          16              2.750000\n3          23              2.782609\n4          13              2.589744\n...        ..                   ...\n250        43              2.813953\n251        53              2.767296\n252        22              2.803030\n255         4              3.416667\n288         1              4.000000\n\n[218 rows x 2 columns]",
      "text/html": "<div>\n<style scoped>\n    .dataframe tbody tr th:only-of-type {\n        vertical-align: middle;\n    }\n\n    .dataframe tbody tr th {\n        vertical-align: top;\n    }\n\n    .dataframe thead th {\n        text-align: right;\n    }\n</style>\n<table border=\"1\" class=\"dataframe\">\n  <thead>\n    <tr style=\"text-align: right;\">\n      <th></th>\n      <th>ID</th>\n      <th>Intentos esporadicos</th>\n    </tr>\n    <tr>\n      <th>Código IE</th>\n      <th></th>\n      <th></th>\n    </tr>\n  </thead>\n  <tbody>\n    <tr>\n      <th>0</th>\n      <td>6</td>\n      <td>2.555556</td>\n    </tr>\n    <tr>\n      <th>1</th>\n      <td>45</td>\n      <td>2.703704</td>\n    </tr>\n    <tr>\n      <th>2</th>\n      <td>16</td>\n      <td>2.750000</td>\n    </tr>\n    <tr>\n      <th>3</th>\n      <td>23</td>\n      <td>2.782609</td>\n    </tr>\n    <tr>\n      <th>4</th>\n      <td>13</td>\n      <td>2.589744</td>\n    </tr>\n    <tr>\n      <th>...</th>\n      <td>...</td>\n      <td>...</td>\n    </tr>\n    <tr>\n      <th>250</th>\n      <td>43</td>\n      <td>2.813953</td>\n    </tr>\n    <tr>\n      <th>251</th>\n      <td>53</td>\n      <td>2.767296</td>\n    </tr>\n    <tr>\n      <th>252</th>\n      <td>22</td>\n      <td>2.803030</td>\n    </tr>\n    <tr>\n      <th>255</th>\n      <td>4</td>\n      <td>3.416667</td>\n    </tr>\n    <tr>\n      <th>288</th>\n      <td>1</td>\n      <td>4.000000</td>\n    </tr>\n  </tbody>\n</table>\n<p>218 rows × 2 columns</p>\n</div>"
     },
     "execution_count": 36,
     "metadata": {},
     "output_type": "execute_result"
    }
   ],
   "source": [
    "intentos_df.pivot_table(index='Código IE', values=['ID', \"Intentos esporadicos\"],\n",
    "                        aggfunc={'ID':'count', \"Intentos esporadicos\":'mean'})"
   ],
   "metadata": {
    "collapsed": false,
    "pycharm": {
     "name": "#%%\n"
    }
   }
  },
  {
   "cell_type": "code",
   "execution_count": null,
   "outputs": [],
   "source": [],
   "metadata": {
    "collapsed": false,
    "pycharm": {
     "name": "#%%\n"
    }
   }
  }
 ],
 "metadata": {
  "kernelspec": {
   "display_name": "Python 3",
   "language": "python",
   "name": "python3"
  },
  "language_info": {
   "codemirror_mode": {
    "name": "ipython",
    "version": 2
   },
   "file_extension": ".py",
   "mimetype": "text/x-python",
   "name": "python",
   "nbconvert_exporter": "python",
   "pygments_lexer": "ipython2",
   "version": "2.7.6"
  }
 },
 "nbformat": 4,
 "nbformat_minor": 0
}