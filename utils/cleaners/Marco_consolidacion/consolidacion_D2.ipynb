{
 "cells": [
  {
   "cell_type": "code",
   "execution_count": 1,
   "metadata": {
    "collapsed": true
   },
   "outputs": [],
   "source": [
    "import pandas as pd\n",
    "import pathlib\n",
    "import plotly.express as px"
   ]
  },
  {
   "cell_type": "code",
   "execution_count": 2,
   "outputs": [],
   "source": [
    "from pandas.api.types import CategoricalDtype\n",
    "cat_type = CategoricalDtype(categories=['1A', '1B', '2A', '2B', '3','4', '5'],\n",
    "               ordered=True)"
   ],
   "metadata": {
    "collapsed": false,
    "pycharm": {
     "name": "#%%\n"
    }
   }
  },
  {
   "cell_type": "markdown",
   "source": [
    "## Currículo y calificaciones: Dimensión 2"
   ],
   "metadata": {
    "collapsed": false,
    "pycharm": {
     "name": "#%% md\n"
    }
   }
  },
  {
   "cell_type": "markdown",
   "source": [
    "#### Revisión plan de estudios"
   ],
   "metadata": {
    "collapsed": false,
    "pycharm": {
     "name": "#%% md\n"
    }
   }
  },
  {
   "cell_type": "code",
   "execution_count": 3,
   "outputs": [],
   "source": [
    "ruta_git = pathlib.Path().cwd().parent.parent.parent"
   ],
   "metadata": {
    "collapsed": false,
    "pycharm": {
     "name": "#%%\n"
    }
   }
  },
  {
   "cell_type": "code",
   "execution_count": 4,
   "outputs": [
    {
     "name": "stdout",
     "output_type": "stream",
     "text": [
      "(238, 22)\n"
     ]
    },
    {
     "data": {
      "text/plain": "Index(['N registro', 'Instrumento', 'Fecha', 'Código IE', 'ID',\n       '1.1 En el plan de estudios se especifica como responsables de su elaboración a los docentes encargados del área',\n       '1.2 El plan de estudio incluye actividades básicas de ofimática y/o alfabetización digital, y de programación y/o desarrollo del pensamiento computacional.',\n       '1.3 En el plan de estudio se da mayor relevancia al pensamiento computacional',\n       '1.4 El plan de estudio del área promueve la transición desde la alfabetización digital a las ciencias de la computación.',\n       '1.5 El plan de estudios del área le permite al docente destacar la importancia del pensamiento computacional y su influencia en la formación de los estudiantes',\n       '1.6 El plan de estudios del área es coherente con la transición de un grado a otro y permite al estudiante desarrollar conocimientos, habilidades y comprensión del pensamiento computacional',\n       '1.7 El plan de estudios del área incluye trabajo práctico para el desarrollo del pensamiento computacional.',\n       '1.8 El plan de estudio del área plantea espacios en los que personas que trabajan en ocupaciones relacionadas con áreas STEM socialicen sus experiencias con los/las estudiantes',\n       '1.9 El plan de estudio incluye actividades transversales con áreas No-STEM, para el desarrollo del pensamiento computacional',\n       '1.10 El plan de estudio considera aspectos para la inclusión de estudiantes con trastornos de aprendizaje y/o discapacidad',\n       '1.11 Entre los responsables del plan de estudios del área y los recursos educativos se incluye personal experto en la atención a estudiantes con necesidades educativas especiales',\n       '1.12 El plan de estudios del área hace explícita la pedagogía a utilizar y las adaptaciones para estudiantes con trastornos del aprendizaje y/o con discapacidad',\n       '1.13 El plan de estudio del área cuenta con una estructura clara que permite disminuir las diferencias en el desempeño de niños y niñas',\n       'Comentarios P1', 'Información otro plan de estudios',\n       'Misión de la institución educativa',\n       'Visión de la institución educativa'],\n      dtype='object')"
     },
     "execution_count": 4,
     "metadata": {},
     "output_type": "execute_result"
    }
   ],
   "source": [
    "plan1 = pd.read_excel(ruta_git/'data/descargables/PlanCFK.xlsx')\n",
    "\n",
    "print(plan1.shape)\n",
    "plan1.columns"
   ],
   "metadata": {
    "collapsed": false,
    "pycharm": {
     "name": "#%%\n"
    }
   }
  },
  {
   "cell_type": "code",
   "execution_count": 5,
   "outputs": [
    {
     "data": {
      "text/plain": "Index(['1.1 En el plan de estudios se especifica como responsables de su elaboración a los docentes encargados del área',\n       '1.2 El plan de estudio incluye actividades básicas de ofimática y/o alfabetización digital, y de programación y/o desarrollo del pensamiento computacional.',\n       '1.3 En el plan de estudio se da mayor relevancia al pensamiento computacional',\n       '1.4 El plan de estudio del área promueve la transición desde la alfabetización digital a las ciencias de la computación.',\n       '1.5 El plan de estudios del área le permite al docente destacar la importancia del pensamiento computacional y su influencia en la formación de los estudiantes',\n       '1.6 El plan de estudios del área es coherente con la transición de un grado a otro y permite al estudiante desarrollar conocimientos, habilidades y comprensión del pensamiento computacional',\n       '1.7 El plan de estudios del área incluye trabajo práctico para el desarrollo del pensamiento computacional.',\n       '1.8 El plan de estudio del área plantea espacios en los que personas que trabajan en ocupaciones relacionadas con áreas STEM socialicen sus experiencias con los/las estudiantes',\n       '1.9 El plan de estudio incluye actividades transversales con áreas No-STEM, para el desarrollo del pensamiento computacional',\n       '1.10 El plan de estudio considera aspectos para la inclusión de estudiantes con trastornos de aprendizaje y/o discapacidad',\n       '1.11 Entre los responsables del plan de estudios del área y los recursos educativos se incluye personal experto en la atención a estudiantes con necesidades educativas especiales',\n       '1.12 El plan de estudios del área hace explícita la pedagogía a utilizar y las adaptaciones para estudiantes con trastornos del aprendizaje y/o con discapacidad',\n       '1.13 El plan de estudio del área cuenta con una estructura clara que permite disminuir las diferencias en el desempeño de niños y niñas'],\n      dtype='object')"
     },
     "execution_count": 5,
     "metadata": {},
     "output_type": "execute_result"
    }
   ],
   "source": [
    "plan1.filter(regex=r'^1.').columns"
   ],
   "metadata": {
    "collapsed": false,
    "pycharm": {
     "name": "#%%\n"
    }
   }
  },
  {
   "cell_type": "markdown",
   "source": [],
   "metadata": {
    "collapsed": false
   }
  },
  {
   "cell_type": "code",
   "execution_count": 6,
   "outputs": [],
   "source": [
    "col_index = ['Código IE']"
   ],
   "metadata": {
    "collapsed": false,
    "pycharm": {
     "name": "#%%\n"
    }
   }
  },
  {
   "cell_type": "code",
   "execution_count": 7,
   "outputs": [],
   "source": [
    "cols_plan1_dx = {    '1.5 El plan de estudios del área le permite al docente destacar la importancia del pensamiento computacional y su influencia en la formación de los estudiantes': {\n",
    "       \"Sí\":1,\"No\":0    },       '1.8 El plan de estudio del área plantea espacios en los que personas que trabajan en ocupaciones relacionadas con áreas STEM socialicen sus experiencias con los/las estudiantes': {\n",
    "       \"Sí\":1,\"No\":0    }}"
   ],
   "metadata": {
    "collapsed": false,
    "pycharm": {
     "name": "#%%\n"
    }
   }
  },
  {
   "cell_type": "code",
   "execution_count": 8,
   "outputs": [],
   "source": [
    "cols_plan1_d2 = {\n",
    "    '1.2 El plan de estudio incluye actividades básicas de ofimática y/o alfabetización digital, y de programación y/o desarrollo del pensamiento computacional.': {\n",
    "        \"Sí\":\"4\",\"No\": \"1B\"   },\n",
    "    '1.3 En el plan de estudio se da mayor relevancia al pensamiento computacional': {\n",
    "        \"Sí\":\"3\",\"No\": \"1B\"   },\n",
    "   '1.4 El plan de estudio del área promueve la transición desde la alfabetización digital a las ciencias de la computación.': {\n",
    "       \"Sí\":\"4\",\"No\":\"3\"    },\n",
    "       '1.6 El plan de estudios del área es coherente con la transición de un grado a otro y permite al estudiante desarrollar conocimientos, habilidades y comprensión del pensamiento computacional': {\n",
    "       \"Sí\":\"4\",\"No\":\"2B\"    },\n",
    "       '1.7 El plan de estudios del área incluye trabajo práctico para el desarrollo del pensamiento computacional.': {\n",
    "       \"Sí\":\"4\",\"No\":\"2B\"    },\n",
    "       '1.9 El plan de estudio incluye actividades transversales con áreas No-STEM, para el desarrollo del pensamiento computacional': {\n",
    "       \"Sí\":\"4\",\"No\":\"2A\"    }}"
   ],
   "metadata": {
    "collapsed": false,
    "pycharm": {
     "name": "#%%\n"
    }
   }
  },
  {
   "cell_type": "code",
   "execution_count": 9,
   "outputs": [
    {
     "data": {
      "text/plain": "     Código IE  \\\n0            1   \n1            2   \n2            3   \n3            4   \n4            5   \n..         ...   \n223        248   \n224        249   \n225        250   \n226        251   \n227        252   \n\n    1.2 El plan de estudio incluye actividades básicas de ofimática y/o alfabetización digital, y de programación y/o desarrollo del pensamiento computacional.  \\\n0                                                   1B                                                                                                            \n1                                                    4                                                                                                            \n2                                                    4                                                                                                            \n3                                                    4                                                                                                            \n4                                                    4                                                                                                            \n..                                                 ...                                                                                                            \n223                                                  4                                                                                                            \n224                                                  4                                                                                                            \n225                                                  4                                                                                                            \n226                                                 1B                                                                                                            \n227                                                  4                                                                                                            \n\n    1.3 En el plan de estudio se da mayor relevancia al pensamiento computacional  \\\n0                                                   1B                              \n1                                                   1B                              \n2                                                   1B                              \n3                                                   1B                              \n4                                                   1B                              \n..                                                 ...                              \n223                                                 1B                              \n224                                                 1B                              \n225                                                 1B                              \n226                                                 1B                              \n227                                                 1B                              \n\n    1.4 El plan de estudio del área promueve la transición desde la alfabetización digital a las ciencias de la computación.  \\\n0                                                    3                                                                         \n1                                                    3                                                                         \n2                                                    3                                                                         \n3                                                    3                                                                         \n4                                                    3                                                                         \n..                                                 ...                                                                         \n223                                                  3                                                                         \n224                                                  4                                                                         \n225                                                  4                                                                         \n226                                                  4                                                                         \n227                                                  4                                                                         \n\n    1.6 El plan de estudios del área es coherente con la transición de un grado a otro y permite al estudiante desarrollar conocimientos, habilidades y comprensión del pensamiento computacional  \\\n0                                                   2B                                                                                                                                              \n1                                                   2B                                                                                                                                              \n2                                                   2B                                                                                                                                              \n3                                                   2B                                                                                                                                              \n4                                                   2B                                                                                                                                              \n..                                                 ...                                                                                                                                              \n223                                                  4                                                                                                                                              \n224                                                  4                                                                                                                                              \n225                                                  4                                                                                                                                              \n226                                                 2B                                                                                                                                              \n227                                                  4                                                                                                                                              \n\n    1.7 El plan de estudios del área incluye trabajo práctico para el desarrollo del pensamiento computacional.  \\\n0                                                   2B                                                            \n1                                                   2B                                                            \n2                                                   2B                                                            \n3                                                   2B                                                            \n4                                                   2B                                                            \n..                                                 ...                                                            \n223                                                 2B                                                            \n224                                                  4                                                            \n225                                                  4                                                            \n226                                                 2B                                                            \n227                                                  4                                                            \n\n    1.9 El plan de estudio incluye actividades transversales con áreas No-STEM, para el desarrollo del pensamiento computacional  \\\n0                                                   2A                                                                             \n1                                                   2A                                                                             \n2                                                   2A                                                                             \n3                                                   2A                                                                             \n4                                                   2A                                                                             \n..                                                 ...                                                                             \n223                                                 2A                                                                             \n224                                                  4                                                                             \n225                                                 2A                                                                             \n226                                                 2A                                                                             \n227                                                 2A                                                                             \n\n    Nivel Revision Plan  \n0                    1B  \n1                    1B  \n2                    1B  \n3                    1B  \n4                    1B  \n..                  ...  \n223                  1B  \n224                  1B  \n225                  1B  \n226                  1B  \n227                  1B  \n\n[228 rows x 8 columns]",
      "text/html": "<div>\n<style scoped>\n    .dataframe tbody tr th:only-of-type {\n        vertical-align: middle;\n    }\n\n    .dataframe tbody tr th {\n        vertical-align: top;\n    }\n\n    .dataframe thead th {\n        text-align: right;\n    }\n</style>\n<table border=\"1\" class=\"dataframe\">\n  <thead>\n    <tr style=\"text-align: right;\">\n      <th></th>\n      <th>Código IE</th>\n      <th>1.2 El plan de estudio incluye actividades básicas de ofimática y/o alfabetización digital, y de programación y/o desarrollo del pensamiento computacional.</th>\n      <th>1.3 En el plan de estudio se da mayor relevancia al pensamiento computacional</th>\n      <th>1.4 El plan de estudio del área promueve la transición desde la alfabetización digital a las ciencias de la computación.</th>\n      <th>1.6 El plan de estudios del área es coherente con la transición de un grado a otro y permite al estudiante desarrollar conocimientos, habilidades y comprensión del pensamiento computacional</th>\n      <th>1.7 El plan de estudios del área incluye trabajo práctico para el desarrollo del pensamiento computacional.</th>\n      <th>1.9 El plan de estudio incluye actividades transversales con áreas No-STEM, para el desarrollo del pensamiento computacional</th>\n      <th>Nivel Revision Plan</th>\n    </tr>\n  </thead>\n  <tbody>\n    <tr>\n      <th>0</th>\n      <td>1</td>\n      <td>1B</td>\n      <td>1B</td>\n      <td>3</td>\n      <td>2B</td>\n      <td>2B</td>\n      <td>2A</td>\n      <td>1B</td>\n    </tr>\n    <tr>\n      <th>1</th>\n      <td>2</td>\n      <td>4</td>\n      <td>1B</td>\n      <td>3</td>\n      <td>2B</td>\n      <td>2B</td>\n      <td>2A</td>\n      <td>1B</td>\n    </tr>\n    <tr>\n      <th>2</th>\n      <td>3</td>\n      <td>4</td>\n      <td>1B</td>\n      <td>3</td>\n      <td>2B</td>\n      <td>2B</td>\n      <td>2A</td>\n      <td>1B</td>\n    </tr>\n    <tr>\n      <th>3</th>\n      <td>4</td>\n      <td>4</td>\n      <td>1B</td>\n      <td>3</td>\n      <td>2B</td>\n      <td>2B</td>\n      <td>2A</td>\n      <td>1B</td>\n    </tr>\n    <tr>\n      <th>4</th>\n      <td>5</td>\n      <td>4</td>\n      <td>1B</td>\n      <td>3</td>\n      <td>2B</td>\n      <td>2B</td>\n      <td>2A</td>\n      <td>1B</td>\n    </tr>\n    <tr>\n      <th>...</th>\n      <td>...</td>\n      <td>...</td>\n      <td>...</td>\n      <td>...</td>\n      <td>...</td>\n      <td>...</td>\n      <td>...</td>\n      <td>...</td>\n    </tr>\n    <tr>\n      <th>223</th>\n      <td>248</td>\n      <td>4</td>\n      <td>1B</td>\n      <td>3</td>\n      <td>4</td>\n      <td>2B</td>\n      <td>2A</td>\n      <td>1B</td>\n    </tr>\n    <tr>\n      <th>224</th>\n      <td>249</td>\n      <td>4</td>\n      <td>1B</td>\n      <td>4</td>\n      <td>4</td>\n      <td>4</td>\n      <td>4</td>\n      <td>1B</td>\n    </tr>\n    <tr>\n      <th>225</th>\n      <td>250</td>\n      <td>4</td>\n      <td>1B</td>\n      <td>4</td>\n      <td>4</td>\n      <td>4</td>\n      <td>2A</td>\n      <td>1B</td>\n    </tr>\n    <tr>\n      <th>226</th>\n      <td>251</td>\n      <td>1B</td>\n      <td>1B</td>\n      <td>4</td>\n      <td>2B</td>\n      <td>2B</td>\n      <td>2A</td>\n      <td>1B</td>\n    </tr>\n    <tr>\n      <th>227</th>\n      <td>252</td>\n      <td>4</td>\n      <td>1B</td>\n      <td>4</td>\n      <td>4</td>\n      <td>4</td>\n      <td>2A</td>\n      <td>1B</td>\n    </tr>\n  </tbody>\n</table>\n<p>228 rows × 8 columns</p>\n</div>"
     },
     "execution_count": 9,
     "metadata": {},
     "output_type": "execute_result"
    }
   ],
   "source": [
    "plan1_d2 = plan1[['Código IE']+list(cols_plan1_d2.keys())]\n",
    "plan1_d2 = plan1_d2.replace(cols_plan1_d2)\n",
    "plan1_d2 = plan1_d2.groupby('Código IE').max().reset_index()\n",
    "plan1_d2['Nivel Revision Plan'] = plan1_d2.iloc[:,1:].min(axis=1)\n",
    "plan1_d2"
   ],
   "metadata": {
    "collapsed": false,
    "pycharm": {
     "name": "#%%\n"
    }
   }
  },
  {
   "cell_type": "markdown",
   "source": [
    "#### Líder del área"
   ],
   "metadata": {
    "collapsed": false,
    "pycharm": {
     "name": "#%% md\n"
    }
   }
  },
  {
   "cell_type": "code",
   "execution_count": 10,
   "outputs": [
    {
     "name": "stdout",
     "output_type": "stream",
     "text": [
      "(244, 52)\n"
     ]
    },
    {
     "data": {
      "text/plain": "   N registro  Fecha       Instrumento  ID  Código IE  \\\n5           5  18/04  Encuesta Líderes   5         33   \n6           6  18/04  Encuesta Líderes   6          4   \n7           7  19/04  Encuesta Líderes   7        129   \n8           8  19/04  Encuesta Líderes   8          7   \n9           9  19/04  Encuesta Líderes   9        231   \n\n  1.1 Los docentes encargados del área son los responsables de definir lo que se enseña  \\\n5                                                 Sí                                      \n6                                                 No                                      \n7                                                 Sí                                      \n8                                                 Sí                                      \n9                                                 Sí                                      \n\n  1.2 El plan de estudios del área cuenta con mejoras realizadas por los docentes de la IE gracias a espacios colaborativos  \\\n5                                                 Sí                                                                          \n6                                                 No                                                                          \n7                                                 Sí                                                                          \n8                                                 Sí                                                                          \n9                                                 Sí                                                                          \n\n  1.3 El plan de estudio incluye actividades básicas de ofimática y/o alfabetización digital, programación y/o desarrollo del pensamiento computacional.  \\\n5                                                 Sí                                                                                                       \n6                                                 Sí                                                                                                       \n7                                                 Sí                                                                                                       \n8                                                 Sí                                                                                                       \n9                                                 Sí                                                                                                       \n\n  1.4 En el plan de estudio se da mayor relevancia al pensamiento computacional  \\\n5                                                 Sí                              \n6                                                 No                              \n7                                                 No                              \n8                                                 No                              \n9                                                 No                              \n\n  1.5 El plan de estudio del área promueve la transición desde la alfabetización digital a las ciencias de la computación  \\\n5                                                 Sí                                                                        \n6                                                 No                                                                        \n7                                                 Sí                                                                        \n8                                                 Sí                                                                        \n9                                                 No                                                                        \n\n   ...  \\\n5  ...   \n6  ...   \n7  ...   \n8  ...   \n9  ...   \n\n  4.3 La IE cuenta con espacios de discusión y planeación para actividades de desarrollo profesional  \\\n5                                                 Sí                                                   \n6                                                 No                                                   \n7                                                 Sí                                                   \n8                                                 Sí                                                   \n9                                                 No                                                   \n\n  4.4 La IE capacita a los docentes en temas de equidad de género y apoya la implementación de acciones afirmativas en el aula de clases  \\\n5                                                 Sí                                                                                       \n6                                                 No                                                                                       \n7                                                 No                                                                                       \n8                                                 Sí                                                                                       \n9                                                 No                                                                                       \n\n  4.5 La IE lleva un registro formal de las necesidades y participación de los docentes en actividades de desarrollo profesional  \\\n5                                                 Sí                                                                               \n6                                                 No                                                                               \n7                                                 Sí                                                                               \n8                                                 Sí                                                                               \n9                                                 No                                                                               \n\n  4.6 Los docentes de otras áreas se interesan por el área de tecnología e informática y la integran a su enseñanza  \\\n5                                                 Sí                                                                  \n6                                                 No                                                                  \n7                                                 Sí                                                                  \n8                                                 Sí                                                                  \n9                                                 No                                                                  \n\n  4.7 La IE incentiva el trabajo coordinado entre los/las responsables del área  \\\n5                                                 Sí                              \n6                                                 No                              \n7                                                 Sí                              \n8                                                 Sí                              \n9                                                 Sí                              \n\n  4.8 La IE tiene en cuenta los conocimientos del personal docente para enriquecer la visión institucional sobre la enseñanza de la computación y potenciar la comprensión de las/los estudiantes y desarrollo  \\\n5                                                 Sí                                                                                                                                                             \n6                                                 No                                                                                                                                                             \n7                                                 Sí                                                                                                                                                             \n8                                                 Sí                                                                                                                                                             \n9                                                 No                                                                                                                                                             \n\n  4.9 La IE promueve al trabajo conjunto entre los docente y profesionales líderes externos para impulsar prácticas inclusivas en la enseñanza de la computación y/o pensamiento computacional  \\\n5                                                 Sí                                                                                                                                             \n6                                                 No                                                                                                                                             \n7                                                 Sí                                                                                                                                             \n8                                                 Sí                                                                                                                                             \n9                                                 No                                                                                                                                             \n\n  4.10 El Consejo Directivo del colegio está al tanto de que en la institución se está enseñando ciencias de la computación, y se encuentran involucrados en el proceso.  \\\n5                                                 Sí                                                                                                                       \n6                                                 No                                                                                                                       \n7                                                 Sí                                                                                                                       \n8                                                 Sí                                                                                                                       \n9                                                 No                                                                                                                       \n\n  4.11 Las directivas y el Consejo Directivo participan y evalúan la implementación de sistemas eficientes del plan de estudios del área.]  \\\n5                                                 Sí                                                                                         \n6                                                 Sí                                                                                         \n7                                                 Sí                                                                                         \n8                                                 Sí                                                                                         \n9                                                 No                                                                                         \n\n                                      Comentarios P4  \n5                                                NaN  \n6                                                NaN  \n7                                           Ninguna   \n8                                                NaN  \n9  La institución esta presta a las capacitacione...  \n\n[5 rows x 52 columns]",
      "text/html": "<div>\n<style scoped>\n    .dataframe tbody tr th:only-of-type {\n        vertical-align: middle;\n    }\n\n    .dataframe tbody tr th {\n        vertical-align: top;\n    }\n\n    .dataframe thead th {\n        text-align: right;\n    }\n</style>\n<table border=\"1\" class=\"dataframe\">\n  <thead>\n    <tr style=\"text-align: right;\">\n      <th></th>\n      <th>N registro</th>\n      <th>Fecha</th>\n      <th>Instrumento</th>\n      <th>ID</th>\n      <th>Código IE</th>\n      <th>1.1 Los docentes encargados del área son los responsables de definir lo que se enseña</th>\n      <th>1.2 El plan de estudios del área cuenta con mejoras realizadas por los docentes de la IE gracias a espacios colaborativos</th>\n      <th>1.3 El plan de estudio incluye actividades básicas de ofimática y/o alfabetización digital, programación y/o desarrollo del pensamiento computacional.</th>\n      <th>1.4 En el plan de estudio se da mayor relevancia al pensamiento computacional</th>\n      <th>1.5 El plan de estudio del área promueve la transición desde la alfabetización digital a las ciencias de la computación</th>\n      <th>...</th>\n      <th>4.3 La IE cuenta con espacios de discusión y planeación para actividades de desarrollo profesional</th>\n      <th>4.4 La IE capacita a los docentes en temas de equidad de género y apoya la implementación de acciones afirmativas en el aula de clases</th>\n      <th>4.5 La IE lleva un registro formal de las necesidades y participación de los docentes en actividades de desarrollo profesional</th>\n      <th>4.6 Los docentes de otras áreas se interesan por el área de tecnología e informática y la integran a su enseñanza</th>\n      <th>4.7 La IE incentiva el trabajo coordinado entre los/las responsables del área</th>\n      <th>4.8 La IE tiene en cuenta los conocimientos del personal docente para enriquecer la visión institucional sobre la enseñanza de la computación y potenciar la comprensión de las/los estudiantes y desarrollo</th>\n      <th>4.9 La IE promueve al trabajo conjunto entre los docente y profesionales líderes externos para impulsar prácticas inclusivas en la enseñanza de la computación y/o pensamiento computacional</th>\n      <th>4.10 El Consejo Directivo del colegio está al tanto de que en la institución se está enseñando ciencias de la computación, y se encuentran involucrados en el proceso.</th>\n      <th>4.11 Las directivas y el Consejo Directivo participan y evalúan la implementación de sistemas eficientes del plan de estudios del área.]</th>\n      <th>Comentarios P4</th>\n    </tr>\n  </thead>\n  <tbody>\n    <tr>\n      <th>5</th>\n      <td>5</td>\n      <td>18/04</td>\n      <td>Encuesta Líderes</td>\n      <td>5</td>\n      <td>33</td>\n      <td>Sí</td>\n      <td>Sí</td>\n      <td>Sí</td>\n      <td>Sí</td>\n      <td>Sí</td>\n      <td>...</td>\n      <td>Sí</td>\n      <td>Sí</td>\n      <td>Sí</td>\n      <td>Sí</td>\n      <td>Sí</td>\n      <td>Sí</td>\n      <td>Sí</td>\n      <td>Sí</td>\n      <td>Sí</td>\n      <td>NaN</td>\n    </tr>\n    <tr>\n      <th>6</th>\n      <td>6</td>\n      <td>18/04</td>\n      <td>Encuesta Líderes</td>\n      <td>6</td>\n      <td>4</td>\n      <td>No</td>\n      <td>No</td>\n      <td>Sí</td>\n      <td>No</td>\n      <td>No</td>\n      <td>...</td>\n      <td>No</td>\n      <td>No</td>\n      <td>No</td>\n      <td>No</td>\n      <td>No</td>\n      <td>No</td>\n      <td>No</td>\n      <td>No</td>\n      <td>Sí</td>\n      <td>NaN</td>\n    </tr>\n    <tr>\n      <th>7</th>\n      <td>7</td>\n      <td>19/04</td>\n      <td>Encuesta Líderes</td>\n      <td>7</td>\n      <td>129</td>\n      <td>Sí</td>\n      <td>Sí</td>\n      <td>Sí</td>\n      <td>No</td>\n      <td>Sí</td>\n      <td>...</td>\n      <td>Sí</td>\n      <td>No</td>\n      <td>Sí</td>\n      <td>Sí</td>\n      <td>Sí</td>\n      <td>Sí</td>\n      <td>Sí</td>\n      <td>Sí</td>\n      <td>Sí</td>\n      <td>Ninguna</td>\n    </tr>\n    <tr>\n      <th>8</th>\n      <td>8</td>\n      <td>19/04</td>\n      <td>Encuesta Líderes</td>\n      <td>8</td>\n      <td>7</td>\n      <td>Sí</td>\n      <td>Sí</td>\n      <td>Sí</td>\n      <td>No</td>\n      <td>Sí</td>\n      <td>...</td>\n      <td>Sí</td>\n      <td>Sí</td>\n      <td>Sí</td>\n      <td>Sí</td>\n      <td>Sí</td>\n      <td>Sí</td>\n      <td>Sí</td>\n      <td>Sí</td>\n      <td>Sí</td>\n      <td>NaN</td>\n    </tr>\n    <tr>\n      <th>9</th>\n      <td>9</td>\n      <td>19/04</td>\n      <td>Encuesta Líderes</td>\n      <td>9</td>\n      <td>231</td>\n      <td>Sí</td>\n      <td>Sí</td>\n      <td>Sí</td>\n      <td>No</td>\n      <td>No</td>\n      <td>...</td>\n      <td>No</td>\n      <td>No</td>\n      <td>No</td>\n      <td>No</td>\n      <td>Sí</td>\n      <td>No</td>\n      <td>No</td>\n      <td>No</td>\n      <td>No</td>\n      <td>La institución esta presta a las capacitacione...</td>\n    </tr>\n  </tbody>\n</table>\n<p>5 rows × 52 columns</p>\n</div>"
     },
     "execution_count": 10,
     "metadata": {},
     "output_type": "execute_result"
    }
   ],
   "source": [
    "plan2 = pd.read_excel(ruta_git/'data/descargables/LiderCFK.xlsx', index_col=0)\n",
    "plan2 = plan2.dropna(subset='1.1 Los docentes encargados del área son los responsables de definir lo que se enseña')\n",
    "\n",
    "plan2[plan2.filter(regex=r'^1.').columns.tolist()] = plan2[plan2.filter(regex=r'^1.').columns.tolist()].fillna(\"No\")\n",
    "print(plan2.shape)\n",
    "plan2.head()"
   ],
   "metadata": {
    "collapsed": false,
    "pycharm": {
     "name": "#%%\n"
    }
   }
  },
  {
   "cell_type": "code",
   "execution_count": 11,
   "outputs": [
    {
     "data": {
      "text/plain": "     N registro  Fecha       Instrumento   ID  Código IE  \\\n113         113  03/05  Encuesta Líderes  113         82   \n\n    1.1 Los docentes encargados del área son los responsables de definir lo que se enseña  \\\n113                                                 Sí                                      \n\n    1.2 El plan de estudios del área cuenta con mejoras realizadas por los docentes de la IE gracias a espacios colaborativos  \\\n113                                                 Sí                                                                          \n\n    1.3 El plan de estudio incluye actividades básicas de ofimática y/o alfabetización digital, programación y/o desarrollo del pensamiento computacional.  \\\n113                                                 Sí                                                                                                       \n\n    1.4 En el plan de estudio se da mayor relevancia al pensamiento computacional  \\\n113                                                 No                              \n\n    1.5 El plan de estudio del área promueve la transición desde la alfabetización digital a las ciencias de la computación  \\\n113                                                 No                                                                        \n\n     ...  \\\n113  ...   \n\n    4.3 La IE cuenta con espacios de discusión y planeación para actividades de desarrollo profesional  \\\n113                                                 Sí                                                   \n\n    4.4 La IE capacita a los docentes en temas de equidad de género y apoya la implementación de acciones afirmativas en el aula de clases  \\\n113                                                 Sí                                                                                       \n\n    4.5 La IE lleva un registro formal de las necesidades y participación de los docentes en actividades de desarrollo profesional  \\\n113                                                 No                                                                               \n\n    4.6 Los docentes de otras áreas se interesan por el área de tecnología e informática y la integran a su enseñanza  \\\n113                                                 Sí                                                                  \n\n    4.7 La IE incentiva el trabajo coordinado entre los/las responsables del área  \\\n113                                                 Sí                              \n\n    4.8 La IE tiene en cuenta los conocimientos del personal docente para enriquecer la visión institucional sobre la enseñanza de la computación y potenciar la comprensión de las/los estudiantes y desarrollo  \\\n113                                                 No                                                                                                                                                             \n\n    4.9 La IE promueve al trabajo conjunto entre los docente y profesionales líderes externos para impulsar prácticas inclusivas en la enseñanza de la computación y/o pensamiento computacional  \\\n113                                                 Sí                                                                                                                                             \n\n    4.10 El Consejo Directivo del colegio está al tanto de que en la institución se está enseñando ciencias de la computación, y se encuentran involucrados en el proceso.  \\\n113                                                 Sí                                                                                                                       \n\n    4.11 Las directivas y el Consejo Directivo participan y evalúan la implementación de sistemas eficientes del plan de estudios del área.]  \\\n113                                                 Sí                                                                                         \n\n    Comentarios P4  \n113            NaN  \n\n[1 rows x 52 columns]",
      "text/html": "<div>\n<style scoped>\n    .dataframe tbody tr th:only-of-type {\n        vertical-align: middle;\n    }\n\n    .dataframe tbody tr th {\n        vertical-align: top;\n    }\n\n    .dataframe thead th {\n        text-align: right;\n    }\n</style>\n<table border=\"1\" class=\"dataframe\">\n  <thead>\n    <tr style=\"text-align: right;\">\n      <th></th>\n      <th>N registro</th>\n      <th>Fecha</th>\n      <th>Instrumento</th>\n      <th>ID</th>\n      <th>Código IE</th>\n      <th>1.1 Los docentes encargados del área son los responsables de definir lo que se enseña</th>\n      <th>1.2 El plan de estudios del área cuenta con mejoras realizadas por los docentes de la IE gracias a espacios colaborativos</th>\n      <th>1.3 El plan de estudio incluye actividades básicas de ofimática y/o alfabetización digital, programación y/o desarrollo del pensamiento computacional.</th>\n      <th>1.4 En el plan de estudio se da mayor relevancia al pensamiento computacional</th>\n      <th>1.5 El plan de estudio del área promueve la transición desde la alfabetización digital a las ciencias de la computación</th>\n      <th>...</th>\n      <th>4.3 La IE cuenta con espacios de discusión y planeación para actividades de desarrollo profesional</th>\n      <th>4.4 La IE capacita a los docentes en temas de equidad de género y apoya la implementación de acciones afirmativas en el aula de clases</th>\n      <th>4.5 La IE lleva un registro formal de las necesidades y participación de los docentes en actividades de desarrollo profesional</th>\n      <th>4.6 Los docentes de otras áreas se interesan por el área de tecnología e informática y la integran a su enseñanza</th>\n      <th>4.7 La IE incentiva el trabajo coordinado entre los/las responsables del área</th>\n      <th>4.8 La IE tiene en cuenta los conocimientos del personal docente para enriquecer la visión institucional sobre la enseñanza de la computación y potenciar la comprensión de las/los estudiantes y desarrollo</th>\n      <th>4.9 La IE promueve al trabajo conjunto entre los docente y profesionales líderes externos para impulsar prácticas inclusivas en la enseñanza de la computación y/o pensamiento computacional</th>\n      <th>4.10 El Consejo Directivo del colegio está al tanto de que en la institución se está enseñando ciencias de la computación, y se encuentran involucrados en el proceso.</th>\n      <th>4.11 Las directivas y el Consejo Directivo participan y evalúan la implementación de sistemas eficientes del plan de estudios del área.]</th>\n      <th>Comentarios P4</th>\n    </tr>\n  </thead>\n  <tbody>\n    <tr>\n      <th>113</th>\n      <td>113</td>\n      <td>03/05</td>\n      <td>Encuesta Líderes</td>\n      <td>113</td>\n      <td>82</td>\n      <td>Sí</td>\n      <td>Sí</td>\n      <td>Sí</td>\n      <td>No</td>\n      <td>No</td>\n      <td>...</td>\n      <td>Sí</td>\n      <td>Sí</td>\n      <td>No</td>\n      <td>Sí</td>\n      <td>Sí</td>\n      <td>No</td>\n      <td>Sí</td>\n      <td>Sí</td>\n      <td>Sí</td>\n      <td>NaN</td>\n    </tr>\n  </tbody>\n</table>\n<p>1 rows × 52 columns</p>\n</div>"
     },
     "execution_count": 11,
     "metadata": {},
     "output_type": "execute_result"
    }
   ],
   "source": [
    "plan2[plan2['Código IE']==82]"
   ],
   "metadata": {
    "collapsed": false,
    "pycharm": {
     "name": "#%%\n"
    }
   }
  },
  {
   "cell_type": "code",
   "execution_count": 12,
   "outputs": [
    {
     "data": {
      "text/plain": "Index(['1.1 Los docentes encargados del área son los responsables de definir lo que se enseña',\n       '1.2 El plan de estudios del área cuenta con mejoras realizadas por los docentes de la IE gracias a espacios colaborativos',\n       '1.3 El plan de estudio incluye actividades básicas de ofimática y/o alfabetización digital, programación y/o desarrollo del pensamiento computacional.',\n       '1.4 En el plan de estudio se da mayor relevancia al pensamiento computacional',\n       '1.5 El plan de estudio del área promueve la transición desde la alfabetización digital a las ciencias de la computación',\n       '1.6 El plan de estudios del área comprende el pensamiento computacional y su impacto dentro del proceso enseñanza-aprendizaje',\n       '1.7 El plan de estudios del área es coherente con la transición de un grado a otro y permite al estudiante desarrollar conocimientos, habilidades y comprensión del pensamiento computacional',\n       '1.8 El plan de estudios del área incluye trabajo práctico para el desarrollo del pensamiento computacional.',\n       '1.9 El plan de estudio del área cuenta con espacios de socialización a los estudiantes de personas que trabajan en ocupaciones relacionadas al área STEM',\n       '1.10 El plan de estudio de las asignaturas No-STEM integran eficientemente los aprendizajes adquiridos por sus estudiantes sobre pensamiento computacional',\n       '1.11 La visión institucional menciona el impacto y lugar de la enseñanza del desarrollo del pensamiento computacional dentro del plan de estudios.'],\n      dtype='object')"
     },
     "execution_count": 12,
     "metadata": {},
     "output_type": "execute_result"
    }
   ],
   "source": [
    "plan2.filter(regex=r'^1.').columns"
   ],
   "metadata": {
    "collapsed": false,
    "pycharm": {
     "name": "#%%\n"
    }
   }
  },
  {
   "cell_type": "code",
   "execution_count": 13,
   "outputs": [],
   "source": [
    "cols_plan2_dx = {\n",
    "    '1.1 Los docentes encargados del área son los responsables de definir lo que se enseña':{\n",
    "        \"Sí\":1, \"No\":0, \"No aplica\":0\n",
    "    },\n",
    "    '1.9 El plan de estudio del área cuenta con espacios de socialización a los estudiantes de personas que trabajan en ocupaciones relacionadas al área STEM':{\n",
    "        \"Sí\":1, \"No\":0, \"No aplica\":0\n",
    "    }}"
   ],
   "metadata": {
    "collapsed": false,
    "pycharm": {
     "name": "#%%\n"
    }
   }
  },
  {
   "cell_type": "code",
   "execution_count": 14,
   "outputs": [],
   "source": [
    "cols_plan2_d2 = {\n",
    "    '1.2 El plan de estudios del área cuenta con mejoras realizadas por los docentes de la IE gracias a espacios colaborativos':{\n",
    "        \"Sí\":\"4\", \"No\":\"2B\", \"No aplica\":\"2B\"\n",
    "    },\n",
    "    '1.3 El plan de estudio incluye actividades básicas de ofimática y/o alfabetización digital, programación y/o desarrollo del pensamiento computacional.':{\n",
    "        \"Sí\":\"4\", \"No\":\"1B\", \"No aplica\":\"1A\"\n",
    "    },\n",
    "    '1.4 En el plan de estudio se da mayor relevancia al pensamiento computacional':{\n",
    "        \"Sí\":\"4\", \"No\":\"3\", \"No aplica\":\"3\"\n",
    "    },\n",
    "    '1.5 El plan de estudio del área promueve la transición desde la alfabetización digital a las ciencias de la computación':{\n",
    "        \"Sí\":\"4\", \"No\":\"3\", \"No aplica\":\"3\"\n",
    "    },\n",
    "    '1.6 El plan de estudios del área comprende el pensamiento computacional y su impacto dentro del proceso enseñanza-aprendizaje':{\n",
    "        \"Sí\":\"4\", \"No\":\"2A\", \"No aplica\":\"2A\"\n",
    "    },\n",
    "    '1.7 El plan de estudios del área es coherente con la transición de un grado a otro y permite al estudiante desarrollar conocimientos, habilidades y comprensión del pensamiento computacional':{\n",
    "        \"Sí\":\"4\", \"No\":\"2B\", \"No aplica\":\"2B\"\n",
    "    },\n",
    "    '1.8 El plan de estudios del área incluye trabajo práctico para el desarrollo del pensamiento computacional.':{\n",
    "        \"Sí\":\"4\", \"No\":\"2B\", \"No aplica\":\"2B\"\n",
    "    },\n",
    "\n",
    "    '1.10 El plan de estudio de las asignaturas No-STEM integran eficientemente los aprendizajes adquiridos por sus estudiantes sobre pensamiento computacional':{\n",
    "        \"Sí\":\"4\", \"No\":\"2A\", \"No aplica\":\"2A\"\n",
    "    }\n",
    "}"
   ],
   "metadata": {
    "collapsed": false,
    "pycharm": {
     "name": "#%%\n"
    }
   }
  },
  {
   "cell_type": "code",
   "execution_count": 15,
   "outputs": [
    {
     "data": {
      "text/plain": "     Código IE  \\\n0            2   \n1            3   \n2            4   \n3            5   \n4            6   \n..         ...   \n222        248   \n223        249   \n224        250   \n225        251   \n226        252   \n\n    1.2 El plan de estudios del área cuenta con mejoras realizadas por los docentes de la IE gracias a espacios colaborativos  \\\n0                                                    4                                                                          \n1                                                    4                                                                          \n2                                                   2B                                                                          \n3                                                    4                                                                          \n4                                                    4                                                                          \n..                                                 ...                                                                          \n222                                                  4                                                                          \n223                                                  4                                                                          \n224                                                  4                                                                          \n225                                                  4                                                                          \n226                                                  4                                                                          \n\n    1.3 El plan de estudio incluye actividades básicas de ofimática y/o alfabetización digital, programación y/o desarrollo del pensamiento computacional.  \\\n0                                                    4                                                                                                       \n1                                                    4                                                                                                       \n2                                                    4                                                                                                       \n3                                                    4                                                                                                       \n4                                                    4                                                                                                       \n..                                                 ...                                                                                                       \n222                                                  4                                                                                                       \n223                                                  4                                                                                                       \n224                                                  4                                                                                                       \n225                                                  4                                                                                                       \n226                                                  4                                                                                                       \n\n    1.4 En el plan de estudio se da mayor relevancia al pensamiento computacional  \\\n0                                                    3                              \n1                                                    3                              \n2                                                    3                              \n3                                                    4                              \n4                                                    3                              \n..                                                 ...                              \n222                                                  3                              \n223                                                  4                              \n224                                                  3                              \n225                                                  3                              \n226                                                  3                              \n\n    1.5 El plan de estudio del área promueve la transición desde la alfabetización digital a las ciencias de la computación  \\\n0                                                    3                                                                        \n1                                                    3                                                                        \n2                                                    3                                                                        \n3                                                    4                                                                        \n4                                                    4                                                                        \n..                                                 ...                                                                        \n222                                                  3                                                                        \n223                                                  4                                                                        \n224                                                  4                                                                        \n225                                                  4                                                                        \n226                                                  4                                                                        \n\n    1.6 El plan de estudios del área comprende el pensamiento computacional y su impacto dentro del proceso enseñanza-aprendizaje  \\\n0                                                    4                                                                              \n1                                                    4                                                                              \n2                                                   2A                                                                              \n3                                                    4                                                                              \n4                                                    4                                                                              \n..                                                 ...                                                                              \n222                                                 2A                                                                              \n223                                                  4                                                                              \n224                                                 2A                                                                              \n225                                                 2A                                                                              \n226                                                 2A                                                                              \n\n    1.7 El plan de estudios del área es coherente con la transición de un grado a otro y permite al estudiante desarrollar conocimientos, habilidades y comprensión del pensamiento computacional  \\\n0                                                   2B                                                                                                                                              \n1                                                    4                                                                                                                                              \n2                                                   2B                                                                                                                                              \n3                                                    4                                                                                                                                              \n4                                                    4                                                                                                                                              \n..                                                 ...                                                                                                                                              \n222                                                 2B                                                                                                                                              \n223                                                  4                                                                                                                                              \n224                                                  4                                                                                                                                              \n225                                                  4                                                                                                                                              \n226                                                  4                                                                                                                                              \n\n    1.8 El plan de estudios del área incluye trabajo práctico para el desarrollo del pensamiento computacional.  \\\n0                                                   2B                                                            \n1                                                    4                                                            \n2                                                   2B                                                            \n3                                                    4                                                            \n4                                                    4                                                            \n..                                                 ...                                                            \n222                                                 2B                                                            \n223                                                  4                                                            \n224                                                  4                                                            \n225                                                  4                                                            \n226                                                  4                                                            \n\n    1.10 El plan de estudio de las asignaturas No-STEM integran eficientemente los aprendizajes adquiridos por sus estudiantes sobre pensamiento computacional  \\\n0                                                   2A                                                                                                           \n1                                                   2A                                                                                                           \n2                                                   2A                                                                                                           \n3                                                    4                                                                                                           \n4                                                   2A                                                                                                           \n..                                                 ...                                                                                                           \n222                                                 2A                                                                                                           \n223                                                  4                                                                                                           \n224                                                 2A                                                                                                           \n225                                                 2A                                                                                                           \n226                                                 2A                                                                                                           \n\n    Nivel lider  \n0            2A  \n1            2A  \n2            2A  \n3             4  \n4            2A  \n..          ...  \n222          2A  \n223           4  \n224          2A  \n225          2A  \n226          2A  \n\n[227 rows x 10 columns]",
      "text/html": "<div>\n<style scoped>\n    .dataframe tbody tr th:only-of-type {\n        vertical-align: middle;\n    }\n\n    .dataframe tbody tr th {\n        vertical-align: top;\n    }\n\n    .dataframe thead th {\n        text-align: right;\n    }\n</style>\n<table border=\"1\" class=\"dataframe\">\n  <thead>\n    <tr style=\"text-align: right;\">\n      <th></th>\n      <th>Código IE</th>\n      <th>1.2 El plan de estudios del área cuenta con mejoras realizadas por los docentes de la IE gracias a espacios colaborativos</th>\n      <th>1.3 El plan de estudio incluye actividades básicas de ofimática y/o alfabetización digital, programación y/o desarrollo del pensamiento computacional.</th>\n      <th>1.4 En el plan de estudio se da mayor relevancia al pensamiento computacional</th>\n      <th>1.5 El plan de estudio del área promueve la transición desde la alfabetización digital a las ciencias de la computación</th>\n      <th>1.6 El plan de estudios del área comprende el pensamiento computacional y su impacto dentro del proceso enseñanza-aprendizaje</th>\n      <th>1.7 El plan de estudios del área es coherente con la transición de un grado a otro y permite al estudiante desarrollar conocimientos, habilidades y comprensión del pensamiento computacional</th>\n      <th>1.8 El plan de estudios del área incluye trabajo práctico para el desarrollo del pensamiento computacional.</th>\n      <th>1.10 El plan de estudio de las asignaturas No-STEM integran eficientemente los aprendizajes adquiridos por sus estudiantes sobre pensamiento computacional</th>\n      <th>Nivel lider</th>\n    </tr>\n  </thead>\n  <tbody>\n    <tr>\n      <th>0</th>\n      <td>2</td>\n      <td>4</td>\n      <td>4</td>\n      <td>3</td>\n      <td>3</td>\n      <td>4</td>\n      <td>2B</td>\n      <td>2B</td>\n      <td>2A</td>\n      <td>2A</td>\n    </tr>\n    <tr>\n      <th>1</th>\n      <td>3</td>\n      <td>4</td>\n      <td>4</td>\n      <td>3</td>\n      <td>3</td>\n      <td>4</td>\n      <td>4</td>\n      <td>4</td>\n      <td>2A</td>\n      <td>2A</td>\n    </tr>\n    <tr>\n      <th>2</th>\n      <td>4</td>\n      <td>2B</td>\n      <td>4</td>\n      <td>3</td>\n      <td>3</td>\n      <td>2A</td>\n      <td>2B</td>\n      <td>2B</td>\n      <td>2A</td>\n      <td>2A</td>\n    </tr>\n    <tr>\n      <th>3</th>\n      <td>5</td>\n      <td>4</td>\n      <td>4</td>\n      <td>4</td>\n      <td>4</td>\n      <td>4</td>\n      <td>4</td>\n      <td>4</td>\n      <td>4</td>\n      <td>4</td>\n    </tr>\n    <tr>\n      <th>4</th>\n      <td>6</td>\n      <td>4</td>\n      <td>4</td>\n      <td>3</td>\n      <td>4</td>\n      <td>4</td>\n      <td>4</td>\n      <td>4</td>\n      <td>2A</td>\n      <td>2A</td>\n    </tr>\n    <tr>\n      <th>...</th>\n      <td>...</td>\n      <td>...</td>\n      <td>...</td>\n      <td>...</td>\n      <td>...</td>\n      <td>...</td>\n      <td>...</td>\n      <td>...</td>\n      <td>...</td>\n      <td>...</td>\n    </tr>\n    <tr>\n      <th>222</th>\n      <td>248</td>\n      <td>4</td>\n      <td>4</td>\n      <td>3</td>\n      <td>3</td>\n      <td>2A</td>\n      <td>2B</td>\n      <td>2B</td>\n      <td>2A</td>\n      <td>2A</td>\n    </tr>\n    <tr>\n      <th>223</th>\n      <td>249</td>\n      <td>4</td>\n      <td>4</td>\n      <td>4</td>\n      <td>4</td>\n      <td>4</td>\n      <td>4</td>\n      <td>4</td>\n      <td>4</td>\n      <td>4</td>\n    </tr>\n    <tr>\n      <th>224</th>\n      <td>250</td>\n      <td>4</td>\n      <td>4</td>\n      <td>3</td>\n      <td>4</td>\n      <td>2A</td>\n      <td>4</td>\n      <td>4</td>\n      <td>2A</td>\n      <td>2A</td>\n    </tr>\n    <tr>\n      <th>225</th>\n      <td>251</td>\n      <td>4</td>\n      <td>4</td>\n      <td>3</td>\n      <td>4</td>\n      <td>2A</td>\n      <td>4</td>\n      <td>4</td>\n      <td>2A</td>\n      <td>2A</td>\n    </tr>\n    <tr>\n      <th>226</th>\n      <td>252</td>\n      <td>4</td>\n      <td>4</td>\n      <td>3</td>\n      <td>4</td>\n      <td>2A</td>\n      <td>4</td>\n      <td>4</td>\n      <td>2A</td>\n      <td>2A</td>\n    </tr>\n  </tbody>\n</table>\n<p>227 rows × 10 columns</p>\n</div>"
     },
     "execution_count": 15,
     "metadata": {},
     "output_type": "execute_result"
    }
   ],
   "source": [
    "plan2_d2 = plan2[['Código IE']+list(cols_plan2_d2.keys())]\n",
    "plan2_d2 = plan2_d2.replace(cols_plan2_d2)\n",
    "plan2_d2 = plan2_d2.groupby('Código IE').max().reset_index()\n",
    "plan2_d2['Nivel lider'] = plan2_d2.iloc[:,1:].min(axis=1)\n",
    "plan2_d2"
   ],
   "metadata": {
    "collapsed": false,
    "pycharm": {
     "name": "#%%\n"
    }
   }
  },
  {
   "cell_type": "code",
   "execution_count": 16,
   "outputs": [
    {
     "data": {
      "text/plain": "     Código IE  \\\n0            2   \n1            3   \n2            4   \n3            5   \n4            6   \n..         ...   \n208        248   \n209        249   \n210        250   \n211        251   \n212        252   \n\n    1.2 El plan de estudio incluye actividades básicas de ofimática y/o alfabetización digital, y de programación y/o desarrollo del pensamiento computacional.  \\\n0                                                    4                                                                                                            \n1                                                    4                                                                                                            \n2                                                    4                                                                                                            \n3                                                    4                                                                                                            \n4                                                    4                                                                                                            \n..                                                 ...                                                                                                            \n208                                                  4                                                                                                            \n209                                                  4                                                                                                            \n210                                                  4                                                                                                            \n211                                                 1B                                                                                                            \n212                                                  4                                                                                                            \n\n    1.3 En el plan de estudio se da mayor relevancia al pensamiento computacional  \\\n0                                                   1B                              \n1                                                   1B                              \n2                                                   1B                              \n3                                                   1B                              \n4                                                   1B                              \n..                                                 ...                              \n208                                                 1B                              \n209                                                 1B                              \n210                                                 1B                              \n211                                                 1B                              \n212                                                 1B                              \n\n    1.4 El plan de estudio del área promueve la transición desde la alfabetización digital a las ciencias de la computación.  \\\n0                                                    3                                                                         \n1                                                    3                                                                         \n2                                                    3                                                                         \n3                                                    3                                                                         \n4                                                    3                                                                         \n..                                                 ...                                                                         \n208                                                  3                                                                         \n209                                                  4                                                                         \n210                                                  4                                                                         \n211                                                  4                                                                         \n212                                                  4                                                                         \n\n    1.6 El plan de estudios del área es coherente con la transición de un grado a otro y permite al estudiante desarrollar conocimientos, habilidades y comprensión del pensamiento computacional  \\\n0                                                   2B                                                                                                                                              \n1                                                   2B                                                                                                                                              \n2                                                   2B                                                                                                                                              \n3                                                   2B                                                                                                                                              \n4                                                   2B                                                                                                                                              \n..                                                 ...                                                                                                                                              \n208                                                  4                                                                                                                                              \n209                                                  4                                                                                                                                              \n210                                                  4                                                                                                                                              \n211                                                 2B                                                                                                                                              \n212                                                  4                                                                                                                                              \n\n    1.7 El plan de estudios del área incluye trabajo práctico para el desarrollo del pensamiento computacional.  \\\n0                                                   2B                                                            \n1                                                   2B                                                            \n2                                                   2B                                                            \n3                                                   2B                                                            \n4                                                   2B                                                            \n..                                                 ...                                                            \n208                                                 2B                                                            \n209                                                  4                                                            \n210                                                  4                                                            \n211                                                 2B                                                            \n212                                                  4                                                            \n\n    1.9 El plan de estudio incluye actividades transversales con áreas No-STEM, para el desarrollo del pensamiento computacional  \\\n0                                                   2A                                                                             \n1                                                   2A                                                                             \n2                                                   2A                                                                             \n3                                                   2A                                                                             \n4                                                   2A                                                                             \n..                                                 ...                                                                             \n208                                                 2A                                                                             \n209                                                  4                                                                             \n210                                                 2A                                                                             \n211                                                 2A                                                                             \n212                                                 2A                                                                             \n\n    Nivel Revision Plan  \\\n0                    1B   \n1                    1B   \n2                    1B   \n3                    1B   \n4                    1B   \n..                  ...   \n208                  1B   \n209                  1B   \n210                  1B   \n211                  1B   \n212                  1B   \n\n    1.2 El plan de estudios del área cuenta con mejoras realizadas por los docentes de la IE gracias a espacios colaborativos  \\\n0                                                    4                                                                          \n1                                                    4                                                                          \n2                                                   2B                                                                          \n3                                                    4                                                                          \n4                                                    4                                                                          \n..                                                 ...                                                                          \n208                                                  4                                                                          \n209                                                  4                                                                          \n210                                                  4                                                                          \n211                                                  4                                                                          \n212                                                  4                                                                          \n\n    1.3 El plan de estudio incluye actividades básicas de ofimática y/o alfabetización digital, programación y/o desarrollo del pensamiento computacional.  \\\n0                                                    4                                                                                                       \n1                                                    4                                                                                                       \n2                                                    4                                                                                                       \n3                                                    4                                                                                                       \n4                                                    4                                                                                                       \n..                                                 ...                                                                                                       \n208                                                  4                                                                                                       \n209                                                  4                                                                                                       \n210                                                  4                                                                                                       \n211                                                  4                                                                                                       \n212                                                  4                                                                                                       \n\n    1.4 En el plan de estudio se da mayor relevancia al pensamiento computacional  \\\n0                                                    3                              \n1                                                    3                              \n2                                                    3                              \n3                                                    4                              \n4                                                    3                              \n..                                                 ...                              \n208                                                  3                              \n209                                                  4                              \n210                                                  3                              \n211                                                  3                              \n212                                                  3                              \n\n    1.5 El plan de estudio del área promueve la transición desde la alfabetización digital a las ciencias de la computación  \\\n0                                                    3                                                                        \n1                                                    3                                                                        \n2                                                    3                                                                        \n3                                                    4                                                                        \n4                                                    4                                                                        \n..                                                 ...                                                                        \n208                                                  3                                                                        \n209                                                  4                                                                        \n210                                                  4                                                                        \n211                                                  4                                                                        \n212                                                  4                                                                        \n\n    1.6 El plan de estudios del área comprende el pensamiento computacional y su impacto dentro del proceso enseñanza-aprendizaje  \\\n0                                                    4                                                                              \n1                                                    4                                                                              \n2                                                   2A                                                                              \n3                                                    4                                                                              \n4                                                    4                                                                              \n..                                                 ...                                                                              \n208                                                 2A                                                                              \n209                                                  4                                                                              \n210                                                 2A                                                                              \n211                                                 2A                                                                              \n212                                                 2A                                                                              \n\n    1.7 El plan de estudios del área es coherente con la transición de un grado a otro y permite al estudiante desarrollar conocimientos, habilidades y comprensión del pensamiento computacional  \\\n0                                                   2B                                                                                                                                              \n1                                                    4                                                                                                                                              \n2                                                   2B                                                                                                                                              \n3                                                    4                                                                                                                                              \n4                                                    4                                                                                                                                              \n..                                                 ...                                                                                                                                              \n208                                                 2B                                                                                                                                              \n209                                                  4                                                                                                                                              \n210                                                  4                                                                                                                                              \n211                                                  4                                                                                                                                              \n212                                                  4                                                                                                                                              \n\n    1.8 El plan de estudios del área incluye trabajo práctico para el desarrollo del pensamiento computacional.  \\\n0                                                   2B                                                            \n1                                                    4                                                            \n2                                                   2B                                                            \n3                                                    4                                                            \n4                                                    4                                                            \n..                                                 ...                                                            \n208                                                 2B                                                            \n209                                                  4                                                            \n210                                                  4                                                            \n211                                                  4                                                            \n212                                                  4                                                            \n\n    1.10 El plan de estudio de las asignaturas No-STEM integran eficientemente los aprendizajes adquiridos por sus estudiantes sobre pensamiento computacional  \\\n0                                                   2A                                                                                                           \n1                                                   2A                                                                                                           \n2                                                   2A                                                                                                           \n3                                                    4                                                                                                           \n4                                                   2A                                                                                                           \n..                                                 ...                                                                                                           \n208                                                 2A                                                                                                           \n209                                                  4                                                                                                           \n210                                                 2A                                                                                                           \n211                                                 2A                                                                                                           \n212                                                 2A                                                                                                           \n\n    Nivel lider Dimensión 2  \n0            2A          1B  \n1            2A          1B  \n2            2A          1B  \n3             4          1B  \n4            2A          1B  \n..          ...         ...  \n208          2A          1B  \n209           4          1B  \n210          2A          1B  \n211          2A          1B  \n212          2A          1B  \n\n[213 rows x 18 columns]",
      "text/html": "<div>\n<style scoped>\n    .dataframe tbody tr th:only-of-type {\n        vertical-align: middle;\n    }\n\n    .dataframe tbody tr th {\n        vertical-align: top;\n    }\n\n    .dataframe thead th {\n        text-align: right;\n    }\n</style>\n<table border=\"1\" class=\"dataframe\">\n  <thead>\n    <tr style=\"text-align: right;\">\n      <th></th>\n      <th>Código IE</th>\n      <th>1.2 El plan de estudio incluye actividades básicas de ofimática y/o alfabetización digital, y de programación y/o desarrollo del pensamiento computacional.</th>\n      <th>1.3 En el plan de estudio se da mayor relevancia al pensamiento computacional</th>\n      <th>1.4 El plan de estudio del área promueve la transición desde la alfabetización digital a las ciencias de la computación.</th>\n      <th>1.6 El plan de estudios del área es coherente con la transición de un grado a otro y permite al estudiante desarrollar conocimientos, habilidades y comprensión del pensamiento computacional</th>\n      <th>1.7 El plan de estudios del área incluye trabajo práctico para el desarrollo del pensamiento computacional.</th>\n      <th>1.9 El plan de estudio incluye actividades transversales con áreas No-STEM, para el desarrollo del pensamiento computacional</th>\n      <th>Nivel Revision Plan</th>\n      <th>1.2 El plan de estudios del área cuenta con mejoras realizadas por los docentes de la IE gracias a espacios colaborativos</th>\n      <th>1.3 El plan de estudio incluye actividades básicas de ofimática y/o alfabetización digital, programación y/o desarrollo del pensamiento computacional.</th>\n      <th>1.4 En el plan de estudio se da mayor relevancia al pensamiento computacional</th>\n      <th>1.5 El plan de estudio del área promueve la transición desde la alfabetización digital a las ciencias de la computación</th>\n      <th>1.6 El plan de estudios del área comprende el pensamiento computacional y su impacto dentro del proceso enseñanza-aprendizaje</th>\n      <th>1.7 El plan de estudios del área es coherente con la transición de un grado a otro y permite al estudiante desarrollar conocimientos, habilidades y comprensión del pensamiento computacional</th>\n      <th>1.8 El plan de estudios del área incluye trabajo práctico para el desarrollo del pensamiento computacional.</th>\n      <th>1.10 El plan de estudio de las asignaturas No-STEM integran eficientemente los aprendizajes adquiridos por sus estudiantes sobre pensamiento computacional</th>\n      <th>Nivel lider</th>\n      <th>Dimensión 2</th>\n    </tr>\n  </thead>\n  <tbody>\n    <tr>\n      <th>0</th>\n      <td>2</td>\n      <td>4</td>\n      <td>1B</td>\n      <td>3</td>\n      <td>2B</td>\n      <td>2B</td>\n      <td>2A</td>\n      <td>1B</td>\n      <td>4</td>\n      <td>4</td>\n      <td>3</td>\n      <td>3</td>\n      <td>4</td>\n      <td>2B</td>\n      <td>2B</td>\n      <td>2A</td>\n      <td>2A</td>\n      <td>1B</td>\n    </tr>\n    <tr>\n      <th>1</th>\n      <td>3</td>\n      <td>4</td>\n      <td>1B</td>\n      <td>3</td>\n      <td>2B</td>\n      <td>2B</td>\n      <td>2A</td>\n      <td>1B</td>\n      <td>4</td>\n      <td>4</td>\n      <td>3</td>\n      <td>3</td>\n      <td>4</td>\n      <td>4</td>\n      <td>4</td>\n      <td>2A</td>\n      <td>2A</td>\n      <td>1B</td>\n    </tr>\n    <tr>\n      <th>2</th>\n      <td>4</td>\n      <td>4</td>\n      <td>1B</td>\n      <td>3</td>\n      <td>2B</td>\n      <td>2B</td>\n      <td>2A</td>\n      <td>1B</td>\n      <td>2B</td>\n      <td>4</td>\n      <td>3</td>\n      <td>3</td>\n      <td>2A</td>\n      <td>2B</td>\n      <td>2B</td>\n      <td>2A</td>\n      <td>2A</td>\n      <td>1B</td>\n    </tr>\n    <tr>\n      <th>3</th>\n      <td>5</td>\n      <td>4</td>\n      <td>1B</td>\n      <td>3</td>\n      <td>2B</td>\n      <td>2B</td>\n      <td>2A</td>\n      <td>1B</td>\n      <td>4</td>\n      <td>4</td>\n      <td>4</td>\n      <td>4</td>\n      <td>4</td>\n      <td>4</td>\n      <td>4</td>\n      <td>4</td>\n      <td>4</td>\n      <td>1B</td>\n    </tr>\n    <tr>\n      <th>4</th>\n      <td>6</td>\n      <td>4</td>\n      <td>1B</td>\n      <td>3</td>\n      <td>2B</td>\n      <td>2B</td>\n      <td>2A</td>\n      <td>1B</td>\n      <td>4</td>\n      <td>4</td>\n      <td>3</td>\n      <td>4</td>\n      <td>4</td>\n      <td>4</td>\n      <td>4</td>\n      <td>2A</td>\n      <td>2A</td>\n      <td>1B</td>\n    </tr>\n    <tr>\n      <th>...</th>\n      <td>...</td>\n      <td>...</td>\n      <td>...</td>\n      <td>...</td>\n      <td>...</td>\n      <td>...</td>\n      <td>...</td>\n      <td>...</td>\n      <td>...</td>\n      <td>...</td>\n      <td>...</td>\n      <td>...</td>\n      <td>...</td>\n      <td>...</td>\n      <td>...</td>\n      <td>...</td>\n      <td>...</td>\n      <td>...</td>\n    </tr>\n    <tr>\n      <th>208</th>\n      <td>248</td>\n      <td>4</td>\n      <td>1B</td>\n      <td>3</td>\n      <td>4</td>\n      <td>2B</td>\n      <td>2A</td>\n      <td>1B</td>\n      <td>4</td>\n      <td>4</td>\n      <td>3</td>\n      <td>3</td>\n      <td>2A</td>\n      <td>2B</td>\n      <td>2B</td>\n      <td>2A</td>\n      <td>2A</td>\n      <td>1B</td>\n    </tr>\n    <tr>\n      <th>209</th>\n      <td>249</td>\n      <td>4</td>\n      <td>1B</td>\n      <td>4</td>\n      <td>4</td>\n      <td>4</td>\n      <td>4</td>\n      <td>1B</td>\n      <td>4</td>\n      <td>4</td>\n      <td>4</td>\n      <td>4</td>\n      <td>4</td>\n      <td>4</td>\n      <td>4</td>\n      <td>4</td>\n      <td>4</td>\n      <td>1B</td>\n    </tr>\n    <tr>\n      <th>210</th>\n      <td>250</td>\n      <td>4</td>\n      <td>1B</td>\n      <td>4</td>\n      <td>4</td>\n      <td>4</td>\n      <td>2A</td>\n      <td>1B</td>\n      <td>4</td>\n      <td>4</td>\n      <td>3</td>\n      <td>4</td>\n      <td>2A</td>\n      <td>4</td>\n      <td>4</td>\n      <td>2A</td>\n      <td>2A</td>\n      <td>1B</td>\n    </tr>\n    <tr>\n      <th>211</th>\n      <td>251</td>\n      <td>1B</td>\n      <td>1B</td>\n      <td>4</td>\n      <td>2B</td>\n      <td>2B</td>\n      <td>2A</td>\n      <td>1B</td>\n      <td>4</td>\n      <td>4</td>\n      <td>3</td>\n      <td>4</td>\n      <td>2A</td>\n      <td>4</td>\n      <td>4</td>\n      <td>2A</td>\n      <td>2A</td>\n      <td>1B</td>\n    </tr>\n    <tr>\n      <th>212</th>\n      <td>252</td>\n      <td>4</td>\n      <td>1B</td>\n      <td>4</td>\n      <td>4</td>\n      <td>4</td>\n      <td>2A</td>\n      <td>1B</td>\n      <td>4</td>\n      <td>4</td>\n      <td>3</td>\n      <td>4</td>\n      <td>2A</td>\n      <td>4</td>\n      <td>4</td>\n      <td>2A</td>\n      <td>2A</td>\n      <td>1B</td>\n    </tr>\n  </tbody>\n</table>\n<p>213 rows × 18 columns</p>\n</div>"
     },
     "execution_count": 16,
     "metadata": {},
     "output_type": "execute_result"
    }
   ],
   "source": [
    "df_institucion = pd.merge(plan1_d2, plan2_d2, on='Código IE', how='inner')\n",
    "df_institucion['Dimensión 2'] = df_institucion.filter(regex='Nivel', axis=1).min(axis=1)\n",
    "df_institucion"
   ],
   "metadata": {
    "collapsed": false,
    "pycharm": {
     "name": "#%%\n"
    }
   }
  },
  {
   "cell_type": "code",
   "execution_count": 17,
   "outputs": [],
   "source": [
    "df_institucion.to_excel('Dimensión 2.xlsx', index=False)"
   ],
   "metadata": {
    "collapsed": false,
    "pycharm": {
     "name": "#%%\n"
    }
   }
  },
  {
   "cell_type": "markdown",
   "source": [
    "## Docentes"
   ],
   "metadata": {
    "collapsed": false,
    "pycharm": {
     "name": "#%% md\n"
    }
   }
  },
  {
   "cell_type": "code",
   "execution_count": 18,
   "outputs": [
    {
     "ename": "FileNotFoundError",
     "evalue": "[Errno 2] No such file or directory: 'Docentes_numerico_11052022.xlsx'",
     "output_type": "error",
     "traceback": [
      "\u001B[0;31m---------------------------------------------------------------------------\u001B[0m",
      "\u001B[0;31mFileNotFoundError\u001B[0m                         Traceback (most recent call last)",
      "Input \u001B[0;32mIn [18]\u001B[0m, in \u001B[0;36m<cell line: 1>\u001B[0;34m()\u001B[0m\n\u001B[0;32m----> 1\u001B[0m doc \u001B[38;5;241m=\u001B[39m \u001B[43mpd\u001B[49m\u001B[38;5;241;43m.\u001B[39;49m\u001B[43mread_excel\u001B[49m\u001B[43m(\u001B[49m\u001B[38;5;124;43m'\u001B[39;49m\u001B[38;5;124;43mDocentes_numerico_11052022.xlsx\u001B[39;49m\u001B[38;5;124;43m'\u001B[39;49m\u001B[43m)\u001B[49m\n",
      "File \u001B[0;32m~/anaconda3/envs/cfk22_env/lib/python3.10/site-packages/pandas/util/_decorators.py:311\u001B[0m, in \u001B[0;36mdeprecate_nonkeyword_arguments.<locals>.decorate.<locals>.wrapper\u001B[0;34m(*args, **kwargs)\u001B[0m\n\u001B[1;32m    305\u001B[0m \u001B[38;5;28;01mif\u001B[39;00m \u001B[38;5;28mlen\u001B[39m(args) \u001B[38;5;241m>\u001B[39m num_allow_args:\n\u001B[1;32m    306\u001B[0m     warnings\u001B[38;5;241m.\u001B[39mwarn(\n\u001B[1;32m    307\u001B[0m         msg\u001B[38;5;241m.\u001B[39mformat(arguments\u001B[38;5;241m=\u001B[39marguments),\n\u001B[1;32m    308\u001B[0m         \u001B[38;5;167;01mFutureWarning\u001B[39;00m,\n\u001B[1;32m    309\u001B[0m         stacklevel\u001B[38;5;241m=\u001B[39mstacklevel,\n\u001B[1;32m    310\u001B[0m     )\n\u001B[0;32m--> 311\u001B[0m \u001B[38;5;28;01mreturn\u001B[39;00m \u001B[43mfunc\u001B[49m\u001B[43m(\u001B[49m\u001B[38;5;241;43m*\u001B[39;49m\u001B[43margs\u001B[49m\u001B[43m,\u001B[49m\u001B[43m \u001B[49m\u001B[38;5;241;43m*\u001B[39;49m\u001B[38;5;241;43m*\u001B[39;49m\u001B[43mkwargs\u001B[49m\u001B[43m)\u001B[49m\n",
      "File \u001B[0;32m~/anaconda3/envs/cfk22_env/lib/python3.10/site-packages/pandas/io/excel/_base.py:457\u001B[0m, in \u001B[0;36mread_excel\u001B[0;34m(io, sheet_name, header, names, index_col, usecols, squeeze, dtype, engine, converters, true_values, false_values, skiprows, nrows, na_values, keep_default_na, na_filter, verbose, parse_dates, date_parser, thousands, decimal, comment, skipfooter, convert_float, mangle_dupe_cols, storage_options)\u001B[0m\n\u001B[1;32m    455\u001B[0m \u001B[38;5;28;01mif\u001B[39;00m \u001B[38;5;129;01mnot\u001B[39;00m \u001B[38;5;28misinstance\u001B[39m(io, ExcelFile):\n\u001B[1;32m    456\u001B[0m     should_close \u001B[38;5;241m=\u001B[39m \u001B[38;5;28;01mTrue\u001B[39;00m\n\u001B[0;32m--> 457\u001B[0m     io \u001B[38;5;241m=\u001B[39m \u001B[43mExcelFile\u001B[49m\u001B[43m(\u001B[49m\u001B[43mio\u001B[49m\u001B[43m,\u001B[49m\u001B[43m \u001B[49m\u001B[43mstorage_options\u001B[49m\u001B[38;5;241;43m=\u001B[39;49m\u001B[43mstorage_options\u001B[49m\u001B[43m,\u001B[49m\u001B[43m \u001B[49m\u001B[43mengine\u001B[49m\u001B[38;5;241;43m=\u001B[39;49m\u001B[43mengine\u001B[49m\u001B[43m)\u001B[49m\n\u001B[1;32m    458\u001B[0m \u001B[38;5;28;01melif\u001B[39;00m engine \u001B[38;5;129;01mand\u001B[39;00m engine \u001B[38;5;241m!=\u001B[39m io\u001B[38;5;241m.\u001B[39mengine:\n\u001B[1;32m    459\u001B[0m     \u001B[38;5;28;01mraise\u001B[39;00m \u001B[38;5;167;01mValueError\u001B[39;00m(\n\u001B[1;32m    460\u001B[0m         \u001B[38;5;124m\"\u001B[39m\u001B[38;5;124mEngine should not be specified when passing \u001B[39m\u001B[38;5;124m\"\u001B[39m\n\u001B[1;32m    461\u001B[0m         \u001B[38;5;124m\"\u001B[39m\u001B[38;5;124man ExcelFile - ExcelFile already has the engine set\u001B[39m\u001B[38;5;124m\"\u001B[39m\n\u001B[1;32m    462\u001B[0m     )\n",
      "File \u001B[0;32m~/anaconda3/envs/cfk22_env/lib/python3.10/site-packages/pandas/io/excel/_base.py:1376\u001B[0m, in \u001B[0;36mExcelFile.__init__\u001B[0;34m(self, path_or_buffer, engine, storage_options)\u001B[0m\n\u001B[1;32m   1374\u001B[0m     ext \u001B[38;5;241m=\u001B[39m \u001B[38;5;124m\"\u001B[39m\u001B[38;5;124mxls\u001B[39m\u001B[38;5;124m\"\u001B[39m\n\u001B[1;32m   1375\u001B[0m \u001B[38;5;28;01melse\u001B[39;00m:\n\u001B[0;32m-> 1376\u001B[0m     ext \u001B[38;5;241m=\u001B[39m \u001B[43minspect_excel_format\u001B[49m\u001B[43m(\u001B[49m\n\u001B[1;32m   1377\u001B[0m \u001B[43m        \u001B[49m\u001B[43mcontent_or_path\u001B[49m\u001B[38;5;241;43m=\u001B[39;49m\u001B[43mpath_or_buffer\u001B[49m\u001B[43m,\u001B[49m\u001B[43m \u001B[49m\u001B[43mstorage_options\u001B[49m\u001B[38;5;241;43m=\u001B[39;49m\u001B[43mstorage_options\u001B[49m\n\u001B[1;32m   1378\u001B[0m \u001B[43m    \u001B[49m\u001B[43m)\u001B[49m\n\u001B[1;32m   1379\u001B[0m     \u001B[38;5;28;01mif\u001B[39;00m ext \u001B[38;5;129;01mis\u001B[39;00m \u001B[38;5;28;01mNone\u001B[39;00m:\n\u001B[1;32m   1380\u001B[0m         \u001B[38;5;28;01mraise\u001B[39;00m \u001B[38;5;167;01mValueError\u001B[39;00m(\n\u001B[1;32m   1381\u001B[0m             \u001B[38;5;124m\"\u001B[39m\u001B[38;5;124mExcel file format cannot be determined, you must specify \u001B[39m\u001B[38;5;124m\"\u001B[39m\n\u001B[1;32m   1382\u001B[0m             \u001B[38;5;124m\"\u001B[39m\u001B[38;5;124man engine manually.\u001B[39m\u001B[38;5;124m\"\u001B[39m\n\u001B[1;32m   1383\u001B[0m         )\n",
      "File \u001B[0;32m~/anaconda3/envs/cfk22_env/lib/python3.10/site-packages/pandas/io/excel/_base.py:1250\u001B[0m, in \u001B[0;36minspect_excel_format\u001B[0;34m(content_or_path, storage_options)\u001B[0m\n\u001B[1;32m   1247\u001B[0m \u001B[38;5;28;01mif\u001B[39;00m \u001B[38;5;28misinstance\u001B[39m(content_or_path, \u001B[38;5;28mbytes\u001B[39m):\n\u001B[1;32m   1248\u001B[0m     content_or_path \u001B[38;5;241m=\u001B[39m BytesIO(content_or_path)\n\u001B[0;32m-> 1250\u001B[0m \u001B[38;5;28;01mwith\u001B[39;00m \u001B[43mget_handle\u001B[49m\u001B[43m(\u001B[49m\n\u001B[1;32m   1251\u001B[0m \u001B[43m    \u001B[49m\u001B[43mcontent_or_path\u001B[49m\u001B[43m,\u001B[49m\u001B[43m \u001B[49m\u001B[38;5;124;43m\"\u001B[39;49m\u001B[38;5;124;43mrb\u001B[39;49m\u001B[38;5;124;43m\"\u001B[39;49m\u001B[43m,\u001B[49m\u001B[43m \u001B[49m\u001B[43mstorage_options\u001B[49m\u001B[38;5;241;43m=\u001B[39;49m\u001B[43mstorage_options\u001B[49m\u001B[43m,\u001B[49m\u001B[43m \u001B[49m\u001B[43mis_text\u001B[49m\u001B[38;5;241;43m=\u001B[39;49m\u001B[38;5;28;43;01mFalse\u001B[39;49;00m\n\u001B[1;32m   1252\u001B[0m \u001B[43m\u001B[49m\u001B[43m)\u001B[49m \u001B[38;5;28;01mas\u001B[39;00m handle:\n\u001B[1;32m   1253\u001B[0m     stream \u001B[38;5;241m=\u001B[39m handle\u001B[38;5;241m.\u001B[39mhandle\n\u001B[1;32m   1254\u001B[0m     stream\u001B[38;5;241m.\u001B[39mseek(\u001B[38;5;241m0\u001B[39m)\n",
      "File \u001B[0;32m~/anaconda3/envs/cfk22_env/lib/python3.10/site-packages/pandas/io/common.py:798\u001B[0m, in \u001B[0;36mget_handle\u001B[0;34m(path_or_buf, mode, encoding, compression, memory_map, is_text, errors, storage_options)\u001B[0m\n\u001B[1;32m    789\u001B[0m         handle \u001B[38;5;241m=\u001B[39m \u001B[38;5;28mopen\u001B[39m(\n\u001B[1;32m    790\u001B[0m             handle,\n\u001B[1;32m    791\u001B[0m             ioargs\u001B[38;5;241m.\u001B[39mmode,\n\u001B[0;32m   (...)\u001B[0m\n\u001B[1;32m    794\u001B[0m             newline\u001B[38;5;241m=\u001B[39m\u001B[38;5;124m\"\u001B[39m\u001B[38;5;124m\"\u001B[39m,\n\u001B[1;32m    795\u001B[0m         )\n\u001B[1;32m    796\u001B[0m     \u001B[38;5;28;01melse\u001B[39;00m:\n\u001B[1;32m    797\u001B[0m         \u001B[38;5;66;03m# Binary mode\u001B[39;00m\n\u001B[0;32m--> 798\u001B[0m         handle \u001B[38;5;241m=\u001B[39m \u001B[38;5;28;43mopen\u001B[39;49m\u001B[43m(\u001B[49m\u001B[43mhandle\u001B[49m\u001B[43m,\u001B[49m\u001B[43m \u001B[49m\u001B[43mioargs\u001B[49m\u001B[38;5;241;43m.\u001B[39;49m\u001B[43mmode\u001B[49m\u001B[43m)\u001B[49m\n\u001B[1;32m    799\u001B[0m     handles\u001B[38;5;241m.\u001B[39mappend(handle)\n\u001B[1;32m    801\u001B[0m \u001B[38;5;66;03m# Convert BytesIO or file objects passed with an encoding\u001B[39;00m\n",
      "\u001B[0;31mFileNotFoundError\u001B[0m: [Errno 2] No such file or directory: 'Docentes_numerico_11052022.xlsx'"
     ]
    }
   ],
   "source": [
    "doc = pd.read_excel('Docentes_numerico_11052022.xlsx')"
   ],
   "metadata": {
    "collapsed": false,
    "pycharm": {
     "name": "#%%\n"
    }
   }
  },
  {
   "cell_type": "code",
   "execution_count": null,
   "outputs": [],
   "source": [
    "intentos = doc.filter(regex=r'^3.3|^3.5|^3.8').columns.tolist()\n",
    "doc[intentos]"
   ],
   "metadata": {
    "collapsed": false,
    "pycharm": {
     "name": "#%%\n"
    }
   }
  },
  {
   "cell_type": "code",
   "execution_count": null,
   "outputs": [],
   "source": [
    "intentos_df = doc[['Código IE','ID']+intentos].groupby(['Código IE','ID'])[intentos].mean().mean(axis=1)\n",
    "intentos_df = intentos_df.reset_index()\n",
    "intentos_df.columns=['Código IE','ID','Intentos esporadicos']\n",
    "intentos_df"
   ],
   "metadata": {
    "collapsed": false,
    "pycharm": {
     "name": "#%%\n"
    }
   }
  },
  {
   "cell_type": "code",
   "execution_count": 19,
   "outputs": [
    {
     "ename": "NameError",
     "evalue": "name 'intentos_df' is not defined",
     "output_type": "error",
     "traceback": [
      "\u001B[0;31m---------------------------------------------------------------------------\u001B[0m",
      "\u001B[0;31mNameError\u001B[0m                                 Traceback (most recent call last)",
      "Input \u001B[0;32mIn [19]\u001B[0m, in \u001B[0;36m<cell line: 1>\u001B[0;34m()\u001B[0m\n\u001B[0;32m----> 1\u001B[0m \u001B[43mintentos_df\u001B[49m\u001B[38;5;241m.\u001B[39mpivot_table(index\u001B[38;5;241m=\u001B[39m\u001B[38;5;124m'\u001B[39m\u001B[38;5;124mCódigo IE\u001B[39m\u001B[38;5;124m'\u001B[39m, values\u001B[38;5;241m=\u001B[39m[\u001B[38;5;124m'\u001B[39m\u001B[38;5;124mID\u001B[39m\u001B[38;5;124m'\u001B[39m, \u001B[38;5;124m\"\u001B[39m\u001B[38;5;124mIntentos esporadicos\u001B[39m\u001B[38;5;124m\"\u001B[39m],\n\u001B[1;32m      2\u001B[0m                         aggfunc\u001B[38;5;241m=\u001B[39m{\u001B[38;5;124m'\u001B[39m\u001B[38;5;124mID\u001B[39m\u001B[38;5;124m'\u001B[39m:\u001B[38;5;124m'\u001B[39m\u001B[38;5;124mcount\u001B[39m\u001B[38;5;124m'\u001B[39m, \u001B[38;5;124m\"\u001B[39m\u001B[38;5;124mIntentos esporadicos\u001B[39m\u001B[38;5;124m\"\u001B[39m:\u001B[38;5;124m'\u001B[39m\u001B[38;5;124mmean\u001B[39m\u001B[38;5;124m'\u001B[39m})\n",
      "\u001B[0;31mNameError\u001B[0m: name 'intentos_df' is not defined"
     ]
    }
   ],
   "source": [
    "intentos_df.pivot_table(index='Código IE', values=['ID', \"Intentos esporadicos\"],\n",
    "                        aggfunc={'ID':'count', \"Intentos esporadicos\":'mean'})"
   ],
   "metadata": {
    "collapsed": false,
    "pycharm": {
     "name": "#%%\n"
    }
   }
  },
  {
   "cell_type": "code",
   "execution_count": 19,
   "outputs": [],
   "source": [],
   "metadata": {
    "collapsed": false,
    "pycharm": {
     "name": "#%%\n"
    }
   }
  },
  {
   "cell_type": "code",
   "execution_count": null,
   "outputs": [],
   "source": [],
   "metadata": {
    "collapsed": false,
    "pycharm": {
     "name": "#%%\n"
    }
   }
  }
 ],
 "metadata": {
  "kernelspec": {
   "display_name": "Python 3",
   "language": "python",
   "name": "python3"
  },
  "language_info": {
   "codemirror_mode": {
    "name": "ipython",
    "version": 2
   },
   "file_extension": ".py",
   "mimetype": "text/x-python",
   "name": "python",
   "nbconvert_exporter": "python",
   "pygments_lexer": "ipython2",
   "version": "2.7.6"
  }
 },
 "nbformat": 4,
 "nbformat_minor": 0
}