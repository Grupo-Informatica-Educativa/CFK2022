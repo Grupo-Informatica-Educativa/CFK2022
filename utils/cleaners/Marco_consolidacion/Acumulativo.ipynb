{
 "cells": [
  {
   "cell_type": "markdown",
   "source": [
    "## Cuaderno para leer todas las dimensiones y unirlas"
   ],
   "metadata": {
    "collapsed": false,
    "pycharm": {
     "name": "#%% md\n"
    }
   }
  },
  {
   "cell_type": "code",
   "execution_count": 37,
   "metadata": {
    "collapsed": true,
    "pycharm": {
     "name": "#%%\n"
    }
   },
   "outputs": [],
   "source": [
    "import pandas as pd"
   ]
  },
  {
   "cell_type": "code",
   "execution_count": 38,
   "outputs": [],
   "source": [
    "D1 = pd.read_excel('Dimensión 1.xlsx')\n",
    "D1 = D1.loc[:,['Código IE', 'Dimensión 1']]\n",
    "D1['Código IE'] = D1['Código IE'].astype(float).astype(int)\n",
    "D1 = D1.set_index('Código IE')"
   ],
   "metadata": {
    "collapsed": false,
    "pycharm": {
     "name": "#%%\n"
    }
   }
  },
  {
   "cell_type": "code",
   "execution_count": 39,
   "outputs": [
    {
     "data": {
      "text/plain": "          Dimensión 1\nCódigo IE            \n143                1A",
      "text/html": "<div>\n<style scoped>\n    .dataframe tbody tr th:only-of-type {\n        vertical-align: middle;\n    }\n\n    .dataframe tbody tr th {\n        vertical-align: top;\n    }\n\n    .dataframe thead th {\n        text-align: right;\n    }\n</style>\n<table border=\"1\" class=\"dataframe\">\n  <thead>\n    <tr style=\"text-align: right;\">\n      <th></th>\n      <th>Dimensión 1</th>\n    </tr>\n    <tr>\n      <th>Código IE</th>\n      <th></th>\n    </tr>\n  </thead>\n  <tbody>\n    <tr>\n      <th>143</th>\n      <td>1A</td>\n    </tr>\n  </tbody>\n</table>\n</div>"
     },
     "execution_count": 39,
     "metadata": {},
     "output_type": "execute_result"
    }
   ],
   "source": [
    "D1[D1.index==143]"
   ],
   "metadata": {
    "collapsed": false,
    "pycharm": {
     "name": "#%%\n"
    }
   }
  },
  {
   "cell_type": "code",
   "execution_count": 40,
   "outputs": [
    {
     "data": {
      "text/plain": "     Código IE  \\\n0            1   \n1            2   \n2            3   \n3            4   \n4            5   \n..         ...   \n245        248   \n246        249   \n247        250   \n248        251   \n249        252   \n\n    1.2 El plan de estudio incluye actividades básicas de ofimática y/o alfabetización digital, y de programación y/o desarrollo del pensamiento computacional.  \\\n0                                                   1B                                                                                                            \n1                                                    4                                                                                                            \n2                                                    4                                                                                                            \n3                                                    4                                                                                                            \n4                                                    4                                                                                                            \n..                                                 ...                                                                                                            \n245                                                  4                                                                                                            \n246                                                  4                                                                                                            \n247                                                  4                                                                                                            \n248                                                 1B                                                                                                            \n249                                                  4                                                                                                            \n\n    1.3 En el plan de estudio se da mayor relevancia al pensamiento computacional  \\\n0                                                   1B                              \n1                                                   1B                              \n2                                                   1B                              \n3                                                   1B                              \n4                                                   1B                              \n..                                                 ...                              \n245                                                 1B                              \n246                                                 1B                              \n247                                                 1B                              \n248                                                 1B                              \n249                                                 1B                              \n\n     1.4 El plan de estudio del área promueve la transición desde la alfabetización digital a las ciencias de la computación.  \\\n0                                                    3                                                                          \n1                                                    3                                                                          \n2                                                    3                                                                          \n3                                                    3                                                                          \n4                                                    3                                                                          \n..                                                 ...                                                                          \n245                                                  3                                                                          \n246                                                  4                                                                          \n247                                                  4                                                                          \n248                                                  4                                                                          \n249                                                  4                                                                          \n\n    1.6 El plan de estudios del área es coherente con la transición de un grado a otro y permite al estudiante desarrollar conocimientos, habilidades y comprensión del pensamiento computacional  \\\n0                                                   2B                                                                                                                                              \n1                                                   2B                                                                                                                                              \n2                                                   2B                                                                                                                                              \n3                                                   2B                                                                                                                                              \n4                                                   2B                                                                                                                                              \n..                                                 ...                                                                                                                                              \n245                                                  4                                                                                                                                              \n246                                                  4                                                                                                                                              \n247                                                  4                                                                                                                                              \n248                                                 2B                                                                                                                                              \n249                                                  4                                                                                                                                              \n\n    1.7 El plan de estudios del área incluye trabajo práctico para el desarrollo del pensamiento computacional.  \\\n0                                                   2B                                                            \n1                                                   2B                                                            \n2                                                   2B                                                            \n3                                                   2B                                                            \n4                                                   2B                                                            \n..                                                 ...                                                            \n245                                                 2B                                                            \n246                                                  4                                                            \n247                                                  4                                                            \n248                                                 2B                                                            \n249                                                  4                                                            \n\n    1.9 El plan de estudio incluye actividades transversales con áreas No-STEM, para el desarrollo del pensamiento computacional  \\\n0                                                   2A                                                                             \n1                                                   2A                                                                             \n2                                                   2A                                                                             \n3                                                   2A                                                                             \n4                                                   2A                                                                             \n..                                                 ...                                                                             \n245                                                 2A                                                                             \n246                                                  4                                                                             \n247                                                 2A                                                                             \n248                                                 2A                                                                             \n249                                                 2A                                                                             \n\n    Nivel Revision Plan  \\\n0                    1B   \n1                    1B   \n2                    1B   \n3                    1B   \n4                    1B   \n..                  ...   \n245                  1B   \n246                  1B   \n247                  1B   \n248                  1B   \n249                  1B   \n\n    1.2 El plan de estudios del área cuenta con mejoras realizadas por los docentes de la IE gracias a espacios colaborativos  \\\n0                                                    4                                                                          \n1                                                    4                                                                          \n2                                                    4                                                                          \n3                                                   2B                                                                          \n4                                                    4                                                                          \n..                                                 ...                                                                          \n245                                                 2B                                                                          \n246                                                  4                                                                          \n247                                                  4                                                                          \n248                                                  4                                                                          \n249                                                  4                                                                          \n\n    1.3 El plan de estudio incluye actividades básicas de ofimática y/o alfabetización digital, programación y/o desarrollo del pensamiento computacional.  \\\n0                                                   1B                                                                                                       \n1                                                    4                                                                                                       \n2                                                    4                                                                                                       \n3                                                    4                                                                                                       \n4                                                    4                                                                                                       \n..                                                 ...                                                                                                       \n245                                                 1B                                                                                                       \n246                                                  4                                                                                                       \n247                                                  4                                                                                                       \n248                                                  4                                                                                                       \n249                                                  4                                                                                                       \n\n     1.4 En el plan de estudio se da mayor relevancia al pensamiento computacional  \\\n0                                                    3                               \n1                                                    3                               \n2                                                    3                               \n3                                                    3                               \n4                                                    4                               \n..                                                 ...                               \n245                                                  3                               \n246                                                  4                               \n247                                                  3                               \n248                                                  3                               \n249                                                  3                               \n\n     1.5 El plan de estudio del área promueve la transición desde la alfabetización digital a las ciencias de la computación  \\\n0                                                    3                                                                         \n1                                                    3                                                                         \n2                                                    3                                                                         \n3                                                    3                                                                         \n4                                                    4                                                                         \n..                                                 ...                                                                         \n245                                                  3                                                                         \n246                                                  4                                                                         \n247                                                  4                                                                         \n248                                                  4                                                                         \n249                                                  4                                                                         \n\n    1.6 El plan de estudios del área comprende el pensamiento computacional y su impacto dentro del proceso enseñanza-aprendizaje  \\\n0                                                   2A                                                                              \n1                                                    4                                                                              \n2                                                    4                                                                              \n3                                                   2A                                                                              \n4                                                    4                                                                              \n..                                                 ...                                                                              \n245                                                 2A                                                                              \n246                                                  4                                                                              \n247                                                 2A                                                                              \n248                                                 2A                                                                              \n249                                                 2A                                                                              \n\n    1.7 El plan de estudios del área es coherente con la transición de un grado a otro y permite al estudiante desarrollar conocimientos, habilidades y comprensión del pensamiento computacional  \\\n0                                                   2B                                                                                                                                              \n1                                                   2B                                                                                                                                              \n2                                                    4                                                                                                                                              \n3                                                   2B                                                                                                                                              \n4                                                    4                                                                                                                                              \n..                                                 ...                                                                                                                                              \n245                                                 2B                                                                                                                                              \n246                                                  4                                                                                                                                              \n247                                                  4                                                                                                                                              \n248                                                  4                                                                                                                                              \n249                                                  4                                                                                                                                              \n\n    1.8 El plan de estudios del área incluye trabajo práctico para el desarrollo del pensamiento computacional.  \\\n0                                                   2B                                                            \n1                                                   2B                                                            \n2                                                    4                                                            \n3                                                   2B                                                            \n4                                                    4                                                            \n..                                                 ...                                                            \n245                                                 2B                                                            \n246                                                  4                                                            \n247                                                  4                                                            \n248                                                  4                                                            \n249                                                  4                                                            \n\n    1.10 El plan de estudio de las asignaturas No-STEM integran eficientemente los aprendizajes adquiridos por sus estudiantes sobre pensamiento computacional  \\\n0                                                   2A                                                                                                           \n1                                                   2A                                                                                                           \n2                                                   2A                                                                                                           \n3                                                   2A                                                                                                           \n4                                                    4                                                                                                           \n..                                                 ...                                                                                                           \n245                                                 2A                                                                                                           \n246                                                  4                                                                                                           \n247                                                 2A                                                                                                           \n248                                                 2A                                                                                                           \n249                                                 2A                                                                                                           \n\n    Nivel lider Dimensión 2  \n0            1B          1B  \n1            2A          1B  \n2            2A          1B  \n3            2A          1B  \n4             4          1B  \n..          ...         ...  \n245          1B          1B  \n246           4          1B  \n247          2A          1B  \n248          2A          1B  \n249          2A          1B  \n\n[250 rows x 18 columns]",
      "text/html": "<div>\n<style scoped>\n    .dataframe tbody tr th:only-of-type {\n        vertical-align: middle;\n    }\n\n    .dataframe tbody tr th {\n        vertical-align: top;\n    }\n\n    .dataframe thead th {\n        text-align: right;\n    }\n</style>\n<table border=\"1\" class=\"dataframe\">\n  <thead>\n    <tr style=\"text-align: right;\">\n      <th></th>\n      <th>Código IE</th>\n      <th>1.2 El plan de estudio incluye actividades básicas de ofimática y/o alfabetización digital, y de programación y/o desarrollo del pensamiento computacional.</th>\n      <th>1.3 En el plan de estudio se da mayor relevancia al pensamiento computacional</th>\n      <th>1.4 El plan de estudio del área promueve la transición desde la alfabetización digital a las ciencias de la computación.</th>\n      <th>1.6 El plan de estudios del área es coherente con la transición de un grado a otro y permite al estudiante desarrollar conocimientos, habilidades y comprensión del pensamiento computacional</th>\n      <th>1.7 El plan de estudios del área incluye trabajo práctico para el desarrollo del pensamiento computacional.</th>\n      <th>1.9 El plan de estudio incluye actividades transversales con áreas No-STEM, para el desarrollo del pensamiento computacional</th>\n      <th>Nivel Revision Plan</th>\n      <th>1.2 El plan de estudios del área cuenta con mejoras realizadas por los docentes de la IE gracias a espacios colaborativos</th>\n      <th>1.3 El plan de estudio incluye actividades básicas de ofimática y/o alfabetización digital, programación y/o desarrollo del pensamiento computacional.</th>\n      <th>1.4 En el plan de estudio se da mayor relevancia al pensamiento computacional</th>\n      <th>1.5 El plan de estudio del área promueve la transición desde la alfabetización digital a las ciencias de la computación</th>\n      <th>1.6 El plan de estudios del área comprende el pensamiento computacional y su impacto dentro del proceso enseñanza-aprendizaje</th>\n      <th>1.7 El plan de estudios del área es coherente con la transición de un grado a otro y permite al estudiante desarrollar conocimientos, habilidades y comprensión del pensamiento computacional</th>\n      <th>1.8 El plan de estudios del área incluye trabajo práctico para el desarrollo del pensamiento computacional.</th>\n      <th>1.10 El plan de estudio de las asignaturas No-STEM integran eficientemente los aprendizajes adquiridos por sus estudiantes sobre pensamiento computacional</th>\n      <th>Nivel lider</th>\n      <th>Dimensión 2</th>\n    </tr>\n  </thead>\n  <tbody>\n    <tr>\n      <th>0</th>\n      <td>1</td>\n      <td>1B</td>\n      <td>1B</td>\n      <td>3</td>\n      <td>2B</td>\n      <td>2B</td>\n      <td>2A</td>\n      <td>1B</td>\n      <td>4</td>\n      <td>1B</td>\n      <td>3</td>\n      <td>3</td>\n      <td>2A</td>\n      <td>2B</td>\n      <td>2B</td>\n      <td>2A</td>\n      <td>1B</td>\n      <td>1B</td>\n    </tr>\n    <tr>\n      <th>1</th>\n      <td>2</td>\n      <td>4</td>\n      <td>1B</td>\n      <td>3</td>\n      <td>2B</td>\n      <td>2B</td>\n      <td>2A</td>\n      <td>1B</td>\n      <td>4</td>\n      <td>4</td>\n      <td>3</td>\n      <td>3</td>\n      <td>4</td>\n      <td>2B</td>\n      <td>2B</td>\n      <td>2A</td>\n      <td>2A</td>\n      <td>1B</td>\n    </tr>\n    <tr>\n      <th>2</th>\n      <td>3</td>\n      <td>4</td>\n      <td>1B</td>\n      <td>3</td>\n      <td>2B</td>\n      <td>2B</td>\n      <td>2A</td>\n      <td>1B</td>\n      <td>4</td>\n      <td>4</td>\n      <td>3</td>\n      <td>3</td>\n      <td>4</td>\n      <td>4</td>\n      <td>4</td>\n      <td>2A</td>\n      <td>2A</td>\n      <td>1B</td>\n    </tr>\n    <tr>\n      <th>3</th>\n      <td>4</td>\n      <td>4</td>\n      <td>1B</td>\n      <td>3</td>\n      <td>2B</td>\n      <td>2B</td>\n      <td>2A</td>\n      <td>1B</td>\n      <td>2B</td>\n      <td>4</td>\n      <td>3</td>\n      <td>3</td>\n      <td>2A</td>\n      <td>2B</td>\n      <td>2B</td>\n      <td>2A</td>\n      <td>2A</td>\n      <td>1B</td>\n    </tr>\n    <tr>\n      <th>4</th>\n      <td>5</td>\n      <td>4</td>\n      <td>1B</td>\n      <td>3</td>\n      <td>2B</td>\n      <td>2B</td>\n      <td>2A</td>\n      <td>1B</td>\n      <td>4</td>\n      <td>4</td>\n      <td>4</td>\n      <td>4</td>\n      <td>4</td>\n      <td>4</td>\n      <td>4</td>\n      <td>4</td>\n      <td>4</td>\n      <td>1B</td>\n    </tr>\n    <tr>\n      <th>...</th>\n      <td>...</td>\n      <td>...</td>\n      <td>...</td>\n      <td>...</td>\n      <td>...</td>\n      <td>...</td>\n      <td>...</td>\n      <td>...</td>\n      <td>...</td>\n      <td>...</td>\n      <td>...</td>\n      <td>...</td>\n      <td>...</td>\n      <td>...</td>\n      <td>...</td>\n      <td>...</td>\n      <td>...</td>\n      <td>...</td>\n    </tr>\n    <tr>\n      <th>245</th>\n      <td>248</td>\n      <td>4</td>\n      <td>1B</td>\n      <td>3</td>\n      <td>4</td>\n      <td>2B</td>\n      <td>2A</td>\n      <td>1B</td>\n      <td>2B</td>\n      <td>1B</td>\n      <td>3</td>\n      <td>3</td>\n      <td>2A</td>\n      <td>2B</td>\n      <td>2B</td>\n      <td>2A</td>\n      <td>1B</td>\n      <td>1B</td>\n    </tr>\n    <tr>\n      <th>246</th>\n      <td>249</td>\n      <td>4</td>\n      <td>1B</td>\n      <td>4</td>\n      <td>4</td>\n      <td>4</td>\n      <td>4</td>\n      <td>1B</td>\n      <td>4</td>\n      <td>4</td>\n      <td>4</td>\n      <td>4</td>\n      <td>4</td>\n      <td>4</td>\n      <td>4</td>\n      <td>4</td>\n      <td>4</td>\n      <td>1B</td>\n    </tr>\n    <tr>\n      <th>247</th>\n      <td>250</td>\n      <td>4</td>\n      <td>1B</td>\n      <td>4</td>\n      <td>4</td>\n      <td>4</td>\n      <td>2A</td>\n      <td>1B</td>\n      <td>4</td>\n      <td>4</td>\n      <td>3</td>\n      <td>4</td>\n      <td>2A</td>\n      <td>4</td>\n      <td>4</td>\n      <td>2A</td>\n      <td>2A</td>\n      <td>1B</td>\n    </tr>\n    <tr>\n      <th>248</th>\n      <td>251</td>\n      <td>1B</td>\n      <td>1B</td>\n      <td>4</td>\n      <td>2B</td>\n      <td>2B</td>\n      <td>2A</td>\n      <td>1B</td>\n      <td>4</td>\n      <td>4</td>\n      <td>3</td>\n      <td>4</td>\n      <td>2A</td>\n      <td>4</td>\n      <td>4</td>\n      <td>2A</td>\n      <td>2A</td>\n      <td>1B</td>\n    </tr>\n    <tr>\n      <th>249</th>\n      <td>252</td>\n      <td>4</td>\n      <td>1B</td>\n      <td>4</td>\n      <td>4</td>\n      <td>4</td>\n      <td>2A</td>\n      <td>1B</td>\n      <td>4</td>\n      <td>4</td>\n      <td>3</td>\n      <td>4</td>\n      <td>2A</td>\n      <td>4</td>\n      <td>4</td>\n      <td>2A</td>\n      <td>2A</td>\n      <td>1B</td>\n    </tr>\n  </tbody>\n</table>\n<p>250 rows × 18 columns</p>\n</div>"
     },
     "execution_count": 40,
     "metadata": {},
     "output_type": "execute_result"
    }
   ],
   "source": [
    "D2 = pd.read_excel('Dimensión 2.xlsx')\n",
    "D2"
   ],
   "metadata": {
    "collapsed": false,
    "pycharm": {
     "name": "#%%\n"
    }
   }
  },
  {
   "cell_type": "code",
   "execution_count": 41,
   "outputs": [],
   "source": [
    "D2 = D2.loc[:,['Código IE', 'Dimensión 2']]\n",
    "D2['Código IE'] = D2['Código IE'].astype(float).astype(int)\n",
    "D2 = D2.set_index('Código IE')"
   ],
   "metadata": {
    "collapsed": false,
    "pycharm": {
     "name": "#%%\n"
    }
   }
  },
  {
   "cell_type": "code",
   "execution_count": 42,
   "outputs": [
    {
     "data": {
      "text/plain": "          Dimensión 2\nCódigo IE            \n195                1B",
      "text/html": "<div>\n<style scoped>\n    .dataframe tbody tr th:only-of-type {\n        vertical-align: middle;\n    }\n\n    .dataframe tbody tr th {\n        vertical-align: top;\n    }\n\n    .dataframe thead th {\n        text-align: right;\n    }\n</style>\n<table border=\"1\" class=\"dataframe\">\n  <thead>\n    <tr style=\"text-align: right;\">\n      <th></th>\n      <th>Dimensión 2</th>\n    </tr>\n    <tr>\n      <th>Código IE</th>\n      <th></th>\n    </tr>\n  </thead>\n  <tbody>\n    <tr>\n      <th>195</th>\n      <td>1B</td>\n    </tr>\n  </tbody>\n</table>\n</div>"
     },
     "execution_count": 42,
     "metadata": {},
     "output_type": "execute_result"
    }
   ],
   "source": [
    "D2[D2.index==195]"
   ],
   "metadata": {
    "collapsed": false,
    "pycharm": {
     "name": "#%%\n"
    }
   }
  },
  {
   "cell_type": "code",
   "execution_count": 43,
   "outputs": [],
   "source": [
    "D3 = pd.read_excel('Dimensión 3.xlsx')\n",
    "D3 = D3.loc[:,['Código IE', 'Dimensión 3']]\n",
    "D3['Código IE'] = D3['Código IE'].astype(float).astype(int)\n",
    "D3 = D3.set_index('Código IE')"
   ],
   "metadata": {
    "collapsed": false,
    "pycharm": {
     "name": "#%%\n"
    }
   }
  },
  {
   "cell_type": "code",
   "execution_count": 44,
   "outputs": [
    {
     "data": {
      "text/plain": "          Dimensión 3\nCódigo IE            \n195                2A",
      "text/html": "<div>\n<style scoped>\n    .dataframe tbody tr th:only-of-type {\n        vertical-align: middle;\n    }\n\n    .dataframe tbody tr th {\n        vertical-align: top;\n    }\n\n    .dataframe thead th {\n        text-align: right;\n    }\n</style>\n<table border=\"1\" class=\"dataframe\">\n  <thead>\n    <tr style=\"text-align: right;\">\n      <th></th>\n      <th>Dimensión 3</th>\n    </tr>\n    <tr>\n      <th>Código IE</th>\n      <th></th>\n    </tr>\n  </thead>\n  <tbody>\n    <tr>\n      <th>195</th>\n      <td>2A</td>\n    </tr>\n  </tbody>\n</table>\n</div>"
     },
     "execution_count": 44,
     "metadata": {},
     "output_type": "execute_result"
    }
   ],
   "source": [
    "D3[D3.index==195]"
   ],
   "metadata": {
    "collapsed": false,
    "pycharm": {
     "name": "#%%\n"
    }
   }
  },
  {
   "cell_type": "code",
   "execution_count": 45,
   "outputs": [],
   "source": [
    "D4 = pd.read_excel('Dimension 4.xlsx')\n",
    "D4 = D4.loc[:,['Código IE', 'Dimensión 4']]\n",
    "D4['Código IE'] = D4['Código IE'].astype(float).astype(int)\n",
    "D4 = D4.set_index('Código IE')"
   ],
   "metadata": {
    "collapsed": false,
    "pycharm": {
     "name": "#%%\n"
    }
   }
  },
  {
   "cell_type": "code",
   "execution_count": 46,
   "outputs": [],
   "source": [
    "D5 = pd.read_excel('Dimensión 5.xlsx')\n",
    "D5 = D5.loc[:,['Código IE', 'Dimensión 5']]\n",
    "D5['Código IE'] = D5['Código IE'].astype(float).astype(int)\n",
    "D5 = D5.set_index('Código IE')"
   ],
   "metadata": {
    "collapsed": false,
    "pycharm": {
     "name": "#%%\n"
    }
   }
  },
  {
   "cell_type": "code",
   "execution_count": 47,
   "outputs": [],
   "source": [
    "D6 = pd.read_excel('Dimensión 6.xlsx')\n",
    "D6 = D6.loc[:,['Código IE', 'Dimensión 6']]\n",
    "D6['Código IE'] = D6['Código IE'].astype(float).astype(int)\n",
    "D6 = D6.set_index('Código IE')"
   ],
   "metadata": {
    "collapsed": false,
    "pycharm": {
     "name": "#%%\n"
    }
   }
  },
  {
   "cell_type": "code",
   "execution_count": 48,
   "outputs": [],
   "source": [
    "D7 = pd.read_excel('Dimensión 7.xlsx')\n",
    "D7 = D7.loc[:,['Código IE', 'Dimensión 7']]\n",
    "D7['Código IE'] = D7['Código IE'].astype(float).astype(int)\n",
    "D7 = D7.set_index('Código IE')"
   ],
   "metadata": {
    "collapsed": false,
    "pycharm": {
     "name": "#%%\n"
    }
   }
  },
  {
   "cell_type": "code",
   "execution_count": 49,
   "outputs": [],
   "source": [
    "D8 = pd.read_excel('Dimensión 8.xlsx')\n",
    "D8 = D8.loc[:,['Código IE', 'Dimensión 8']]\n",
    "D8['Código IE'] = D8['Código IE'].astype(float).astype(int)\n",
    "D8 = D8.set_index('Código IE')"
   ],
   "metadata": {
    "collapsed": false,
    "pycharm": {
     "name": "#%%\n"
    }
   }
  },
  {
   "cell_type": "code",
   "execution_count": 50,
   "outputs": [],
   "source": [
    "marco = pd.concat([D1,D2,D3,D4,D5,D6,D7,D8],ignore_index=False, axis=1)\n",
    "marco = marco.fillna(\"0\")\n",
    "marco = marco.reset_index()"
   ],
   "metadata": {
    "collapsed": false,
    "pycharm": {
     "name": "#%%\n"
    }
   }
  },
  {
   "cell_type": "code",
   "execution_count": 51,
   "outputs": [
    {
     "data": {
      "text/plain": "     Código IE Dimensión 1 Dimensión 2 Dimensión 3 Dimensión 4 Dimensión 5  \\\n0            1          1A          1B          1A          2B          1A   \n1            2          1A          1B          2A          2A          1A   \n2            3          1A          1B          2A           3          1A   \n3            4          1B          1B          2A          1A          1A   \n4            5          1A          1B          1A          2B          1A   \n..         ...         ...         ...         ...         ...         ...   \n247        248          1A          1B          1A          1A          1A   \n248        249          1A          1B          1A          2B          1A   \n249        250          1A          1B          1A          2A          1A   \n250        251          1A          1B          1A          2B          1A   \n251        252          1A          1B          1A          2B          1A   \n\n    Dimensión 6 Dimensión 7 Dimensión 8  \n0            1B          2A          1B  \n1            1B          2A          1A  \n2            1B          2A          1A  \n3            1B          2A          1A  \n4            1B          2B           4  \n..          ...         ...         ...  \n247          1B          2A          1A  \n248          1B          1B          1A  \n249          1B          1B          1A  \n250          1B          1B          2A  \n251          1B          2A          1A  \n\n[252 rows x 9 columns]",
      "text/html": "<div>\n<style scoped>\n    .dataframe tbody tr th:only-of-type {\n        vertical-align: middle;\n    }\n\n    .dataframe tbody tr th {\n        vertical-align: top;\n    }\n\n    .dataframe thead th {\n        text-align: right;\n    }\n</style>\n<table border=\"1\" class=\"dataframe\">\n  <thead>\n    <tr style=\"text-align: right;\">\n      <th></th>\n      <th>Código IE</th>\n      <th>Dimensión 1</th>\n      <th>Dimensión 2</th>\n      <th>Dimensión 3</th>\n      <th>Dimensión 4</th>\n      <th>Dimensión 5</th>\n      <th>Dimensión 6</th>\n      <th>Dimensión 7</th>\n      <th>Dimensión 8</th>\n    </tr>\n  </thead>\n  <tbody>\n    <tr>\n      <th>0</th>\n      <td>1</td>\n      <td>1A</td>\n      <td>1B</td>\n      <td>1A</td>\n      <td>2B</td>\n      <td>1A</td>\n      <td>1B</td>\n      <td>2A</td>\n      <td>1B</td>\n    </tr>\n    <tr>\n      <th>1</th>\n      <td>2</td>\n      <td>1A</td>\n      <td>1B</td>\n      <td>2A</td>\n      <td>2A</td>\n      <td>1A</td>\n      <td>1B</td>\n      <td>2A</td>\n      <td>1A</td>\n    </tr>\n    <tr>\n      <th>2</th>\n      <td>3</td>\n      <td>1A</td>\n      <td>1B</td>\n      <td>2A</td>\n      <td>3</td>\n      <td>1A</td>\n      <td>1B</td>\n      <td>2A</td>\n      <td>1A</td>\n    </tr>\n    <tr>\n      <th>3</th>\n      <td>4</td>\n      <td>1B</td>\n      <td>1B</td>\n      <td>2A</td>\n      <td>1A</td>\n      <td>1A</td>\n      <td>1B</td>\n      <td>2A</td>\n      <td>1A</td>\n    </tr>\n    <tr>\n      <th>4</th>\n      <td>5</td>\n      <td>1A</td>\n      <td>1B</td>\n      <td>1A</td>\n      <td>2B</td>\n      <td>1A</td>\n      <td>1B</td>\n      <td>2B</td>\n      <td>4</td>\n    </tr>\n    <tr>\n      <th>...</th>\n      <td>...</td>\n      <td>...</td>\n      <td>...</td>\n      <td>...</td>\n      <td>...</td>\n      <td>...</td>\n      <td>...</td>\n      <td>...</td>\n      <td>...</td>\n    </tr>\n    <tr>\n      <th>247</th>\n      <td>248</td>\n      <td>1A</td>\n      <td>1B</td>\n      <td>1A</td>\n      <td>1A</td>\n      <td>1A</td>\n      <td>1B</td>\n      <td>2A</td>\n      <td>1A</td>\n    </tr>\n    <tr>\n      <th>248</th>\n      <td>249</td>\n      <td>1A</td>\n      <td>1B</td>\n      <td>1A</td>\n      <td>2B</td>\n      <td>1A</td>\n      <td>1B</td>\n      <td>1B</td>\n      <td>1A</td>\n    </tr>\n    <tr>\n      <th>249</th>\n      <td>250</td>\n      <td>1A</td>\n      <td>1B</td>\n      <td>1A</td>\n      <td>2A</td>\n      <td>1A</td>\n      <td>1B</td>\n      <td>1B</td>\n      <td>1A</td>\n    </tr>\n    <tr>\n      <th>250</th>\n      <td>251</td>\n      <td>1A</td>\n      <td>1B</td>\n      <td>1A</td>\n      <td>2B</td>\n      <td>1A</td>\n      <td>1B</td>\n      <td>1B</td>\n      <td>2A</td>\n    </tr>\n    <tr>\n      <th>251</th>\n      <td>252</td>\n      <td>1A</td>\n      <td>1B</td>\n      <td>1A</td>\n      <td>2B</td>\n      <td>1A</td>\n      <td>1B</td>\n      <td>2A</td>\n      <td>1A</td>\n    </tr>\n  </tbody>\n</table>\n<p>252 rows × 9 columns</p>\n</div>"
     },
     "execution_count": 51,
     "metadata": {},
     "output_type": "execute_result"
    }
   ],
   "source": [
    "marco"
   ],
   "metadata": {
    "collapsed": false,
    "pycharm": {
     "name": "#%%\n"
    }
   }
  },
  {
   "cell_type": "code",
   "execution_count": 52,
   "outputs": [
    {
     "data": {
      "text/plain": "     Código IE Dimensión 1 Dimensión 2 Dimensión 3 Dimensión 4 Dimensión 5  \\\n241        242          1A          2A          2B          2A          1A   \n\n    Dimensión 6 Dimensión 7 Dimensión 8  \n241          1B          2A          1A  ",
      "text/html": "<div>\n<style scoped>\n    .dataframe tbody tr th:only-of-type {\n        vertical-align: middle;\n    }\n\n    .dataframe tbody tr th {\n        vertical-align: top;\n    }\n\n    .dataframe thead th {\n        text-align: right;\n    }\n</style>\n<table border=\"1\" class=\"dataframe\">\n  <thead>\n    <tr style=\"text-align: right;\">\n      <th></th>\n      <th>Código IE</th>\n      <th>Dimensión 1</th>\n      <th>Dimensión 2</th>\n      <th>Dimensión 3</th>\n      <th>Dimensión 4</th>\n      <th>Dimensión 5</th>\n      <th>Dimensión 6</th>\n      <th>Dimensión 7</th>\n      <th>Dimensión 8</th>\n    </tr>\n  </thead>\n  <tbody>\n    <tr>\n      <th>241</th>\n      <td>242</td>\n      <td>1A</td>\n      <td>2A</td>\n      <td>2B</td>\n      <td>2A</td>\n      <td>1A</td>\n      <td>1B</td>\n      <td>2A</td>\n      <td>1A</td>\n    </tr>\n  </tbody>\n</table>\n</div>"
     },
     "execution_count": 52,
     "metadata": {},
     "output_type": "execute_result"
    }
   ],
   "source": [
    "marco[marco['Código IE']==242]"
   ],
   "metadata": {
    "collapsed": false,
    "pycharm": {
     "name": "#%%\n"
    }
   }
  },
  {
   "cell_type": "code",
   "execution_count": 53,
   "outputs": [
    {
     "data": {
      "text/plain": "Empty DataFrame\nColumns: [Código IE, Dimensión 1, Dimensión 2, Dimensión 3, Dimensión 4, Dimensión 5, Dimensión 6, Dimensión 7, Dimensión 8]\nIndex: []",
      "text/html": "<div>\n<style scoped>\n    .dataframe tbody tr th:only-of-type {\n        vertical-align: middle;\n    }\n\n    .dataframe tbody tr th {\n        vertical-align: top;\n    }\n\n    .dataframe thead th {\n        text-align: right;\n    }\n</style>\n<table border=\"1\" class=\"dataframe\">\n  <thead>\n    <tr style=\"text-align: right;\">\n      <th></th>\n      <th>Código IE</th>\n      <th>Dimensión 1</th>\n      <th>Dimensión 2</th>\n      <th>Dimensión 3</th>\n      <th>Dimensión 4</th>\n      <th>Dimensión 5</th>\n      <th>Dimensión 6</th>\n      <th>Dimensión 7</th>\n      <th>Dimensión 8</th>\n    </tr>\n  </thead>\n  <tbody>\n  </tbody>\n</table>\n</div>"
     },
     "execution_count": 53,
     "metadata": {},
     "output_type": "execute_result"
    }
   ],
   "source": [
    "marco[marco['Dimensión 7']=='0']"
   ],
   "metadata": {
    "collapsed": false,
    "pycharm": {
     "name": "#%%\n"
    }
   }
  },
  {
   "cell_type": "code",
   "execution_count": 54,
   "outputs": [
    {
     "data": {
      "text/plain": "    Código IE Dimensión 1 Dimensión 2 Dimensión 3 Dimensión 4 Dimensión 5  \\\n0           1          1A          1B          1A          2B          1A   \n1           2          1A          1B          2A          2A          1A   \n2           3          1A          1B          2A           3          1A   \n3           4          1B          1B          2A          1A          1A   \n4           5          1A          1B          1A          2B          1A   \n..        ...         ...         ...         ...         ...         ...   \n248       249          1A          1B          1A          2B          1A   \n249       250          1A          1B          1A          2A          1A   \n250       251          1A          1B          1A          2B          1A   \n251       252          1A          1B          1A          2B          1A   \n0        Moda          1A          1B          1A          2A          1A   \n\n    Dimensión 6 Dimensión 7 Dimensión 8  \n0            1B          2A          1B  \n1            1B          2A          1A  \n2            1B          2A          1A  \n3            1B          2A          1A  \n4            1B          2B           4  \n..          ...         ...         ...  \n248          1B          1B          1A  \n249          1B          1B          1A  \n250          1B          1B          2A  \n251          1B          2A          1A  \n0            1B          2A          1A  \n\n[253 rows x 9 columns]",
      "text/html": "<div>\n<style scoped>\n    .dataframe tbody tr th:only-of-type {\n        vertical-align: middle;\n    }\n\n    .dataframe tbody tr th {\n        vertical-align: top;\n    }\n\n    .dataframe thead th {\n        text-align: right;\n    }\n</style>\n<table border=\"1\" class=\"dataframe\">\n  <thead>\n    <tr style=\"text-align: right;\">\n      <th></th>\n      <th>Código IE</th>\n      <th>Dimensión 1</th>\n      <th>Dimensión 2</th>\n      <th>Dimensión 3</th>\n      <th>Dimensión 4</th>\n      <th>Dimensión 5</th>\n      <th>Dimensión 6</th>\n      <th>Dimensión 7</th>\n      <th>Dimensión 8</th>\n    </tr>\n  </thead>\n  <tbody>\n    <tr>\n      <th>0</th>\n      <td>1</td>\n      <td>1A</td>\n      <td>1B</td>\n      <td>1A</td>\n      <td>2B</td>\n      <td>1A</td>\n      <td>1B</td>\n      <td>2A</td>\n      <td>1B</td>\n    </tr>\n    <tr>\n      <th>1</th>\n      <td>2</td>\n      <td>1A</td>\n      <td>1B</td>\n      <td>2A</td>\n      <td>2A</td>\n      <td>1A</td>\n      <td>1B</td>\n      <td>2A</td>\n      <td>1A</td>\n    </tr>\n    <tr>\n      <th>2</th>\n      <td>3</td>\n      <td>1A</td>\n      <td>1B</td>\n      <td>2A</td>\n      <td>3</td>\n      <td>1A</td>\n      <td>1B</td>\n      <td>2A</td>\n      <td>1A</td>\n    </tr>\n    <tr>\n      <th>3</th>\n      <td>4</td>\n      <td>1B</td>\n      <td>1B</td>\n      <td>2A</td>\n      <td>1A</td>\n      <td>1A</td>\n      <td>1B</td>\n      <td>2A</td>\n      <td>1A</td>\n    </tr>\n    <tr>\n      <th>4</th>\n      <td>5</td>\n      <td>1A</td>\n      <td>1B</td>\n      <td>1A</td>\n      <td>2B</td>\n      <td>1A</td>\n      <td>1B</td>\n      <td>2B</td>\n      <td>4</td>\n    </tr>\n    <tr>\n      <th>...</th>\n      <td>...</td>\n      <td>...</td>\n      <td>...</td>\n      <td>...</td>\n      <td>...</td>\n      <td>...</td>\n      <td>...</td>\n      <td>...</td>\n      <td>...</td>\n    </tr>\n    <tr>\n      <th>248</th>\n      <td>249</td>\n      <td>1A</td>\n      <td>1B</td>\n      <td>1A</td>\n      <td>2B</td>\n      <td>1A</td>\n      <td>1B</td>\n      <td>1B</td>\n      <td>1A</td>\n    </tr>\n    <tr>\n      <th>249</th>\n      <td>250</td>\n      <td>1A</td>\n      <td>1B</td>\n      <td>1A</td>\n      <td>2A</td>\n      <td>1A</td>\n      <td>1B</td>\n      <td>1B</td>\n      <td>1A</td>\n    </tr>\n    <tr>\n      <th>250</th>\n      <td>251</td>\n      <td>1A</td>\n      <td>1B</td>\n      <td>1A</td>\n      <td>2B</td>\n      <td>1A</td>\n      <td>1B</td>\n      <td>1B</td>\n      <td>2A</td>\n    </tr>\n    <tr>\n      <th>251</th>\n      <td>252</td>\n      <td>1A</td>\n      <td>1B</td>\n      <td>1A</td>\n      <td>2B</td>\n      <td>1A</td>\n      <td>1B</td>\n      <td>2A</td>\n      <td>1A</td>\n    </tr>\n    <tr>\n      <th>0</th>\n      <td>Moda</td>\n      <td>1A</td>\n      <td>1B</td>\n      <td>1A</td>\n      <td>2A</td>\n      <td>1A</td>\n      <td>1B</td>\n      <td>2A</td>\n      <td>1A</td>\n    </tr>\n  </tbody>\n</table>\n<p>253 rows × 9 columns</p>\n</div>"
     },
     "execution_count": 54,
     "metadata": {},
     "output_type": "execute_result"
    }
   ],
   "source": [
    "moda = marco.filter(regex='Dimen').mode(axis=0)\n",
    "moda['Código IE'] = 'Moda'\n",
    "marco = pd.concat([marco,moda])\n",
    "marco"
   ],
   "metadata": {
    "collapsed": false,
    "pycharm": {
     "name": "#%%\n"
    }
   }
  },
  {
   "cell_type": "code",
   "execution_count": 55,
   "outputs": [
    {
     "data": {
      "text/plain": "{'1A': 1, '1B': 2, '2A': 3, '2B': 4, '3': 5}"
     },
     "execution_count": 55,
     "metadata": {},
     "output_type": "execute_result"
    }
   ],
   "source": [
    "niveles_num = dict(zip(['1A','1B', '2A', '2B', '3', '4', '5'],list(range(1,6))))\n",
    "num_niveles = dict(zip(list(range(1,6)), ['1A','1B', '2A', '2B', '3', '4', '5']))\n",
    "niveles_num"
   ],
   "metadata": {
    "collapsed": false,
    "pycharm": {
     "name": "#%%\n"
    }
   }
  },
  {
   "cell_type": "code",
   "execution_count": 56,
   "outputs": [
    {
     "data": {
      "text/plain": "    Código IE Dimensión 1 Dimensión 2 Dimensión 3 Dimensión 4 Dimensión 5  \\\n0           1           1           2           1           4           1   \n1           2           1           2           3           3           1   \n2           3           1           2           3           5           1   \n3           4           2           2           3           1           1   \n4           5           1           2           1           4           1   \n..        ...         ...         ...         ...         ...         ...   \n248       249           1           2           1           4           1   \n249       250           1           2           1           3           1   \n250       251           1           2           1           4           1   \n251       252           1           2           1           4           1   \n0        Moda           1           2           1           3           1   \n\n    Dimensión 6  Dimensión 7 Dimensión 8  \n0             2            3           2  \n1             2            3           1  \n2             2            3           1  \n3             2            3           1  \n4             2            4           4  \n..          ...          ...         ...  \n248           2            2           1  \n249           2            2           1  \n250           2            2           3  \n251           2            3           1  \n0             2            3           1  \n\n[253 rows x 9 columns]",
      "text/html": "<div>\n<style scoped>\n    .dataframe tbody tr th:only-of-type {\n        vertical-align: middle;\n    }\n\n    .dataframe tbody tr th {\n        vertical-align: top;\n    }\n\n    .dataframe thead th {\n        text-align: right;\n    }\n</style>\n<table border=\"1\" class=\"dataframe\">\n  <thead>\n    <tr style=\"text-align: right;\">\n      <th></th>\n      <th>Código IE</th>\n      <th>Dimensión 1</th>\n      <th>Dimensión 2</th>\n      <th>Dimensión 3</th>\n      <th>Dimensión 4</th>\n      <th>Dimensión 5</th>\n      <th>Dimensión 6</th>\n      <th>Dimensión 7</th>\n      <th>Dimensión 8</th>\n    </tr>\n  </thead>\n  <tbody>\n    <tr>\n      <th>0</th>\n      <td>1</td>\n      <td>1</td>\n      <td>2</td>\n      <td>1</td>\n      <td>4</td>\n      <td>1</td>\n      <td>2</td>\n      <td>3</td>\n      <td>2</td>\n    </tr>\n    <tr>\n      <th>1</th>\n      <td>2</td>\n      <td>1</td>\n      <td>2</td>\n      <td>3</td>\n      <td>3</td>\n      <td>1</td>\n      <td>2</td>\n      <td>3</td>\n      <td>1</td>\n    </tr>\n    <tr>\n      <th>2</th>\n      <td>3</td>\n      <td>1</td>\n      <td>2</td>\n      <td>3</td>\n      <td>5</td>\n      <td>1</td>\n      <td>2</td>\n      <td>3</td>\n      <td>1</td>\n    </tr>\n    <tr>\n      <th>3</th>\n      <td>4</td>\n      <td>2</td>\n      <td>2</td>\n      <td>3</td>\n      <td>1</td>\n      <td>1</td>\n      <td>2</td>\n      <td>3</td>\n      <td>1</td>\n    </tr>\n    <tr>\n      <th>4</th>\n      <td>5</td>\n      <td>1</td>\n      <td>2</td>\n      <td>1</td>\n      <td>4</td>\n      <td>1</td>\n      <td>2</td>\n      <td>4</td>\n      <td>4</td>\n    </tr>\n    <tr>\n      <th>...</th>\n      <td>...</td>\n      <td>...</td>\n      <td>...</td>\n      <td>...</td>\n      <td>...</td>\n      <td>...</td>\n      <td>...</td>\n      <td>...</td>\n      <td>...</td>\n    </tr>\n    <tr>\n      <th>248</th>\n      <td>249</td>\n      <td>1</td>\n      <td>2</td>\n      <td>1</td>\n      <td>4</td>\n      <td>1</td>\n      <td>2</td>\n      <td>2</td>\n      <td>1</td>\n    </tr>\n    <tr>\n      <th>249</th>\n      <td>250</td>\n      <td>1</td>\n      <td>2</td>\n      <td>1</td>\n      <td>3</td>\n      <td>1</td>\n      <td>2</td>\n      <td>2</td>\n      <td>1</td>\n    </tr>\n    <tr>\n      <th>250</th>\n      <td>251</td>\n      <td>1</td>\n      <td>2</td>\n      <td>1</td>\n      <td>4</td>\n      <td>1</td>\n      <td>2</td>\n      <td>2</td>\n      <td>3</td>\n    </tr>\n    <tr>\n      <th>251</th>\n      <td>252</td>\n      <td>1</td>\n      <td>2</td>\n      <td>1</td>\n      <td>4</td>\n      <td>1</td>\n      <td>2</td>\n      <td>3</td>\n      <td>1</td>\n    </tr>\n    <tr>\n      <th>0</th>\n      <td>Moda</td>\n      <td>1</td>\n      <td>2</td>\n      <td>1</td>\n      <td>3</td>\n      <td>1</td>\n      <td>2</td>\n      <td>3</td>\n      <td>1</td>\n    </tr>\n  </tbody>\n</table>\n<p>253 rows × 9 columns</p>\n</div>"
     },
     "execution_count": 56,
     "metadata": {},
     "output_type": "execute_result"
    }
   ],
   "source": [
    "marco_num = marco.replace(niveles_num)\n",
    "marco_num"
   ],
   "metadata": {
    "collapsed": false,
    "pycharm": {
     "name": "#%%\n"
    }
   }
  },
  {
   "cell_type": "code",
   "execution_count": 57,
   "outputs": [
    {
     "data": {
      "text/plain": "  Dimensión 1 Dimensión 2 Dimensión 3 Dimensión 4 Dimensión 5 Dimensión 6  \\\n0          1A          1B          1B          2A          1A          1B   \n\n  Dimensión 7 Dimensión 8 Código IE  \n0          2A          1A  Promedio  ",
      "text/html": "<div>\n<style scoped>\n    .dataframe tbody tr th:only-of-type {\n        vertical-align: middle;\n    }\n\n    .dataframe tbody tr th {\n        vertical-align: top;\n    }\n\n    .dataframe thead th {\n        text-align: right;\n    }\n</style>\n<table border=\"1\" class=\"dataframe\">\n  <thead>\n    <tr style=\"text-align: right;\">\n      <th></th>\n      <th>Dimensión 1</th>\n      <th>Dimensión 2</th>\n      <th>Dimensión 3</th>\n      <th>Dimensión 4</th>\n      <th>Dimensión 5</th>\n      <th>Dimensión 6</th>\n      <th>Dimensión 7</th>\n      <th>Dimensión 8</th>\n      <th>Código IE</th>\n    </tr>\n  </thead>\n  <tbody>\n    <tr>\n      <th>0</th>\n      <td>1A</td>\n      <td>1B</td>\n      <td>1B</td>\n      <td>2A</td>\n      <td>1A</td>\n      <td>1B</td>\n      <td>2A</td>\n      <td>1A</td>\n      <td>Promedio</td>\n    </tr>\n  </tbody>\n</table>\n</div>"
     },
     "execution_count": 57,
     "metadata": {},
     "output_type": "execute_result"
    }
   ],
   "source": [
    "media = round(marco_num.filter(regex='Dimen*').astype(int).mean())\n",
    "media['Código IE'] = 'Promedio'\n",
    "media = media.replace(num_niveles)\n",
    "media = pd.DataFrame(media)\n",
    "media.T"
   ],
   "metadata": {
    "collapsed": false,
    "pycharm": {
     "name": "#%%\n"
    }
   }
  },
  {
   "cell_type": "code",
   "execution_count": 58,
   "outputs": [
    {
     "data": {
      "text/plain": "    Código IE Dimensión 1 Dimensión 2 Dimensión 3 Dimensión 4 Dimensión 5  \\\n0           1          1A          1B          1A          2B          1A   \n1           2          1A          1B          2A          2A          1A   \n2           3          1A          1B          2A           3          1A   \n3           4          1B          1B          2A          1A          1A   \n4           5          1A          1B          1A          2B          1A   \n..        ...         ...         ...         ...         ...         ...   \n249       250          1A          1B          1A          2A          1A   \n250       251          1A          1B          1A          2B          1A   \n251       252          1A          1B          1A          2B          1A   \n0        Moda          1A          1B          1A          2A          1A   \n0    Promedio          1A          1B          1B          2A          1A   \n\n    Dimensión 6 Dimensión 7 Dimensión 8  \n0            1B          2A          1B  \n1            1B          2A          1A  \n2            1B          2A          1A  \n3            1B          2A          1A  \n4            1B          2B           4  \n..          ...         ...         ...  \n249          1B          1B          1A  \n250          1B          1B          2A  \n251          1B          2A          1A  \n0            1B          2A          1A  \n0            1B          2A          1A  \n\n[254 rows x 9 columns]",
      "text/html": "<div>\n<style scoped>\n    .dataframe tbody tr th:only-of-type {\n        vertical-align: middle;\n    }\n\n    .dataframe tbody tr th {\n        vertical-align: top;\n    }\n\n    .dataframe thead th {\n        text-align: right;\n    }\n</style>\n<table border=\"1\" class=\"dataframe\">\n  <thead>\n    <tr style=\"text-align: right;\">\n      <th></th>\n      <th>Código IE</th>\n      <th>Dimensión 1</th>\n      <th>Dimensión 2</th>\n      <th>Dimensión 3</th>\n      <th>Dimensión 4</th>\n      <th>Dimensión 5</th>\n      <th>Dimensión 6</th>\n      <th>Dimensión 7</th>\n      <th>Dimensión 8</th>\n    </tr>\n  </thead>\n  <tbody>\n    <tr>\n      <th>0</th>\n      <td>1</td>\n      <td>1A</td>\n      <td>1B</td>\n      <td>1A</td>\n      <td>2B</td>\n      <td>1A</td>\n      <td>1B</td>\n      <td>2A</td>\n      <td>1B</td>\n    </tr>\n    <tr>\n      <th>1</th>\n      <td>2</td>\n      <td>1A</td>\n      <td>1B</td>\n      <td>2A</td>\n      <td>2A</td>\n      <td>1A</td>\n      <td>1B</td>\n      <td>2A</td>\n      <td>1A</td>\n    </tr>\n    <tr>\n      <th>2</th>\n      <td>3</td>\n      <td>1A</td>\n      <td>1B</td>\n      <td>2A</td>\n      <td>3</td>\n      <td>1A</td>\n      <td>1B</td>\n      <td>2A</td>\n      <td>1A</td>\n    </tr>\n    <tr>\n      <th>3</th>\n      <td>4</td>\n      <td>1B</td>\n      <td>1B</td>\n      <td>2A</td>\n      <td>1A</td>\n      <td>1A</td>\n      <td>1B</td>\n      <td>2A</td>\n      <td>1A</td>\n    </tr>\n    <tr>\n      <th>4</th>\n      <td>5</td>\n      <td>1A</td>\n      <td>1B</td>\n      <td>1A</td>\n      <td>2B</td>\n      <td>1A</td>\n      <td>1B</td>\n      <td>2B</td>\n      <td>4</td>\n    </tr>\n    <tr>\n      <th>...</th>\n      <td>...</td>\n      <td>...</td>\n      <td>...</td>\n      <td>...</td>\n      <td>...</td>\n      <td>...</td>\n      <td>...</td>\n      <td>...</td>\n      <td>...</td>\n    </tr>\n    <tr>\n      <th>249</th>\n      <td>250</td>\n      <td>1A</td>\n      <td>1B</td>\n      <td>1A</td>\n      <td>2A</td>\n      <td>1A</td>\n      <td>1B</td>\n      <td>1B</td>\n      <td>1A</td>\n    </tr>\n    <tr>\n      <th>250</th>\n      <td>251</td>\n      <td>1A</td>\n      <td>1B</td>\n      <td>1A</td>\n      <td>2B</td>\n      <td>1A</td>\n      <td>1B</td>\n      <td>1B</td>\n      <td>2A</td>\n    </tr>\n    <tr>\n      <th>251</th>\n      <td>252</td>\n      <td>1A</td>\n      <td>1B</td>\n      <td>1A</td>\n      <td>2B</td>\n      <td>1A</td>\n      <td>1B</td>\n      <td>2A</td>\n      <td>1A</td>\n    </tr>\n    <tr>\n      <th>0</th>\n      <td>Moda</td>\n      <td>1A</td>\n      <td>1B</td>\n      <td>1A</td>\n      <td>2A</td>\n      <td>1A</td>\n      <td>1B</td>\n      <td>2A</td>\n      <td>1A</td>\n    </tr>\n    <tr>\n      <th>0</th>\n      <td>Promedio</td>\n      <td>1A</td>\n      <td>1B</td>\n      <td>1B</td>\n      <td>2A</td>\n      <td>1A</td>\n      <td>1B</td>\n      <td>2A</td>\n      <td>1A</td>\n    </tr>\n  </tbody>\n</table>\n<p>254 rows × 9 columns</p>\n</div>"
     },
     "execution_count": 58,
     "metadata": {},
     "output_type": "execute_result"
    }
   ],
   "source": [
    "\n",
    "marco = pd.concat([marco,media.T])\n",
    "\n",
    "marco"
   ],
   "metadata": {
    "collapsed": false,
    "pycharm": {
     "name": "#%%\n"
    }
   }
  },
  {
   "cell_type": "code",
   "execution_count": 59,
   "outputs": [],
   "source": [
    "marco.to_excel('Marco acumulativo.xlsx', index=False)"
   ],
   "metadata": {
    "collapsed": false,
    "pycharm": {
     "name": "#%%\n"
    }
   }
  },
  {
   "cell_type": "code",
   "execution_count": null,
   "outputs": [],
   "source": [],
   "metadata": {
    "collapsed": false,
    "pycharm": {
     "name": "#%%\n"
    }
   }
  }
 ],
 "metadata": {
  "kernelspec": {
   "display_name": "Python 3",
   "language": "python",
   "name": "python3"
  },
  "language_info": {
   "codemirror_mode": {
    "name": "ipython",
    "version": 2
   },
   "file_extension": ".py",
   "mimetype": "text/x-python",
   "name": "python",
   "nbconvert_exporter": "python",
   "pygments_lexer": "ipython2",
   "version": "2.7.6"
  }
 },
 "nbformat": 4,
 "nbformat_minor": 0
}