{
 "cells": [
  {
   "cell_type": "markdown",
   "source": [
    "## Cuaderno para leer todas las dimensiones y unirlas"
   ],
   "metadata": {
    "collapsed": false,
    "pycharm": {
     "name": "#%% md\n"
    }
   }
  },
  {
   "cell_type": "code",
   "execution_count": 6,
   "metadata": {
    "collapsed": true
   },
   "outputs": [],
   "source": [
    "import pandas as pd"
   ]
  },
  {
   "cell_type": "code",
   "execution_count": 7,
   "outputs": [],
   "source": [
    "D1 = pd.read_excel('Dimensión 1.xlsx')\n",
    "D1 = D1.loc[:,['Código IE', 'Dimensión 1']]\n",
    "D1['Código IE'] = D1['Código IE'].astype(float).astype(int)\n",
    "D1 = D1.set_index('Código IE')"
   ],
   "metadata": {
    "collapsed": false,
    "pycharm": {
     "name": "#%%\n"
    }
   }
  },
  {
   "cell_type": "code",
   "execution_count": 8,
   "outputs": [],
   "source": [
    "D2 = pd.read_excel('Dimensión 2.xlsx')\n",
    "D2 = D2.loc[:,['Código IE', 'Dimensión 2']]\n",
    "D2['Código IE'] = D2['Código IE'].astype(float).astype(int)\n",
    "D2 = D2.set_index('Código IE')"
   ],
   "metadata": {
    "collapsed": false,
    "pycharm": {
     "name": "#%%\n"
    }
   }
  },
  {
   "cell_type": "code",
   "execution_count": 9,
   "outputs": [],
   "source": [
    "D4 = pd.read_excel('Dimension 4.xlsx')\n",
    "D4 = D4.loc[:,['Código IE', 'Dimensión 4']]\n",
    "D4['Código IE'] = D4['Código IE'].astype(float).astype(int)\n",
    "D4 = D4.set_index('Código IE')"
   ],
   "metadata": {
    "collapsed": false,
    "pycharm": {
     "name": "#%%\n"
    }
   }
  },
  {
   "cell_type": "code",
   "execution_count": 10,
   "outputs": [],
   "source": [
    "D5 = pd.read_excel('Dimensión 5.xlsx')\n",
    "D5 = D5.loc[:,['Código IE', 'Dimensión 5']]\n",
    "D5['Código IE'] = D5['Código IE'].astype(float).astype(int)\n",
    "D5 = D5.set_index('Código IE')"
   ],
   "metadata": {
    "collapsed": false,
    "pycharm": {
     "name": "#%%\n"
    }
   }
  },
  {
   "cell_type": "code",
   "execution_count": 11,
   "outputs": [],
   "source": [
    "D7 = pd.read_excel('Dimensión 7.xlsx')\n",
    "D7 = D7.loc[:,['Código IE', 'Dimensión 7']]\n",
    "D7['Código IE'] = D7['Código IE'].astype(float).astype(int)\n",
    "D7 = D7.set_index('Código IE')"
   ],
   "metadata": {
    "collapsed": false,
    "pycharm": {
     "name": "#%%\n"
    }
   }
  },
  {
   "cell_type": "code",
   "execution_count": 12,
   "outputs": [],
   "source": [
    "D8 = pd.read_excel('Dimensión 8.xlsx')\n",
    "D8 = D8.loc[:,['Código IE', 'Dimensión 8']]\n",
    "D8['Código IE'] = D8['Código IE'].astype(float).astype(int)\n",
    "D8 = D8.set_index('Código IE')"
   ],
   "metadata": {
    "collapsed": false,
    "pycharm": {
     "name": "#%%\n"
    }
   }
  },
  {
   "cell_type": "code",
   "execution_count": 14,
   "outputs": [],
   "source": [
    "marco = pd.concat([D1,D2,D4,D5,D7,D8],ignore_index=False, axis=1)\n",
    "marco = marco.fillna(\"0\")\n",
    "marco = marco.reset_index()"
   ],
   "metadata": {
    "collapsed": false,
    "pycharm": {
     "name": "#%%\n"
    }
   }
  },
  {
   "cell_type": "code",
   "execution_count": 15,
   "outputs": [
    {
     "data": {
      "text/plain": "     Código IE Dimensión 1 Dimensión 2 Dimensión 4 Dimensión 5 Dimensión 7  \\\n0            1           0           0          2B          1A          2A   \n1            2          1A          1B          2A          1A          2A   \n2            3          1A          1B           3          1A          2A   \n3            4          1B          1B          1A          1A          2A   \n4            5          1A          1B          2B          1A          2B   \n..         ...         ...         ...         ...         ...         ...   \n246        250          1A          1B          2A          1A          1B   \n247        251          1A          1B          2B          1A          1B   \n248        252          1A          1B          2B          1A          2A   \n249        192           0           0           0           0           0   \n250        234           0           0           0           0          2A   \n\n    Dimensión 8  \n0            1B  \n1            1A  \n2            1A  \n3            1A  \n4             4  \n..          ...  \n246          1A  \n247          2A  \n248          1A  \n249           0  \n250           0  \n\n[251 rows x 7 columns]",
      "text/html": "<div>\n<style scoped>\n    .dataframe tbody tr th:only-of-type {\n        vertical-align: middle;\n    }\n\n    .dataframe tbody tr th {\n        vertical-align: top;\n    }\n\n    .dataframe thead th {\n        text-align: right;\n    }\n</style>\n<table border=\"1\" class=\"dataframe\">\n  <thead>\n    <tr style=\"text-align: right;\">\n      <th></th>\n      <th>Código IE</th>\n      <th>Dimensión 1</th>\n      <th>Dimensión 2</th>\n      <th>Dimensión 4</th>\n      <th>Dimensión 5</th>\n      <th>Dimensión 7</th>\n      <th>Dimensión 8</th>\n    </tr>\n  </thead>\n  <tbody>\n    <tr>\n      <th>0</th>\n      <td>1</td>\n      <td>0</td>\n      <td>0</td>\n      <td>2B</td>\n      <td>1A</td>\n      <td>2A</td>\n      <td>1B</td>\n    </tr>\n    <tr>\n      <th>1</th>\n      <td>2</td>\n      <td>1A</td>\n      <td>1B</td>\n      <td>2A</td>\n      <td>1A</td>\n      <td>2A</td>\n      <td>1A</td>\n    </tr>\n    <tr>\n      <th>2</th>\n      <td>3</td>\n      <td>1A</td>\n      <td>1B</td>\n      <td>3</td>\n      <td>1A</td>\n      <td>2A</td>\n      <td>1A</td>\n    </tr>\n    <tr>\n      <th>3</th>\n      <td>4</td>\n      <td>1B</td>\n      <td>1B</td>\n      <td>1A</td>\n      <td>1A</td>\n      <td>2A</td>\n      <td>1A</td>\n    </tr>\n    <tr>\n      <th>4</th>\n      <td>5</td>\n      <td>1A</td>\n      <td>1B</td>\n      <td>2B</td>\n      <td>1A</td>\n      <td>2B</td>\n      <td>4</td>\n    </tr>\n    <tr>\n      <th>...</th>\n      <td>...</td>\n      <td>...</td>\n      <td>...</td>\n      <td>...</td>\n      <td>...</td>\n      <td>...</td>\n      <td>...</td>\n    </tr>\n    <tr>\n      <th>246</th>\n      <td>250</td>\n      <td>1A</td>\n      <td>1B</td>\n      <td>2A</td>\n      <td>1A</td>\n      <td>1B</td>\n      <td>1A</td>\n    </tr>\n    <tr>\n      <th>247</th>\n      <td>251</td>\n      <td>1A</td>\n      <td>1B</td>\n      <td>2B</td>\n      <td>1A</td>\n      <td>1B</td>\n      <td>2A</td>\n    </tr>\n    <tr>\n      <th>248</th>\n      <td>252</td>\n      <td>1A</td>\n      <td>1B</td>\n      <td>2B</td>\n      <td>1A</td>\n      <td>2A</td>\n      <td>1A</td>\n    </tr>\n    <tr>\n      <th>249</th>\n      <td>192</td>\n      <td>0</td>\n      <td>0</td>\n      <td>0</td>\n      <td>0</td>\n      <td>0</td>\n      <td>0</td>\n    </tr>\n    <tr>\n      <th>250</th>\n      <td>234</td>\n      <td>0</td>\n      <td>0</td>\n      <td>0</td>\n      <td>0</td>\n      <td>2A</td>\n      <td>0</td>\n    </tr>\n  </tbody>\n</table>\n<p>251 rows × 7 columns</p>\n</div>"
     },
     "execution_count": 15,
     "metadata": {},
     "output_type": "execute_result"
    }
   ],
   "source": [
    "marco"
   ],
   "metadata": {
    "collapsed": false,
    "pycharm": {
     "name": "#%%\n"
    }
   }
  },
  {
   "cell_type": "code",
   "execution_count": 16,
   "outputs": [
    {
     "data": {
      "text/plain": "    Código IE Dimensión 1 Dimensión 2 Dimensión 4 Dimensión 5 Dimensión 7  \\\n0           1           0           0          2B          1A          2A   \n1           2          1A          1B          2A          1A          2A   \n2           3          1A          1B           3          1A          2A   \n3           4          1B          1B          1A          1A          2A   \n4           5          1A          1B          2B          1A          2B   \n..        ...         ...         ...         ...         ...         ...   \n247       251          1A          1B          2B          1A          1B   \n248       252          1A          1B          2B          1A          2A   \n249       192           0           0           0           0           0   \n250       234           0           0           0           0          2A   \n0        Moda          1A          1B          2A          1A          2A   \n\n    Dimensión 8  \n0            1B  \n1            1A  \n2            1A  \n3            1A  \n4             4  \n..          ...  \n247          2A  \n248          1A  \n249           0  \n250           0  \n0            1A  \n\n[252 rows x 7 columns]",
      "text/html": "<div>\n<style scoped>\n    .dataframe tbody tr th:only-of-type {\n        vertical-align: middle;\n    }\n\n    .dataframe tbody tr th {\n        vertical-align: top;\n    }\n\n    .dataframe thead th {\n        text-align: right;\n    }\n</style>\n<table border=\"1\" class=\"dataframe\">\n  <thead>\n    <tr style=\"text-align: right;\">\n      <th></th>\n      <th>Código IE</th>\n      <th>Dimensión 1</th>\n      <th>Dimensión 2</th>\n      <th>Dimensión 4</th>\n      <th>Dimensión 5</th>\n      <th>Dimensión 7</th>\n      <th>Dimensión 8</th>\n    </tr>\n  </thead>\n  <tbody>\n    <tr>\n      <th>0</th>\n      <td>1</td>\n      <td>0</td>\n      <td>0</td>\n      <td>2B</td>\n      <td>1A</td>\n      <td>2A</td>\n      <td>1B</td>\n    </tr>\n    <tr>\n      <th>1</th>\n      <td>2</td>\n      <td>1A</td>\n      <td>1B</td>\n      <td>2A</td>\n      <td>1A</td>\n      <td>2A</td>\n      <td>1A</td>\n    </tr>\n    <tr>\n      <th>2</th>\n      <td>3</td>\n      <td>1A</td>\n      <td>1B</td>\n      <td>3</td>\n      <td>1A</td>\n      <td>2A</td>\n      <td>1A</td>\n    </tr>\n    <tr>\n      <th>3</th>\n      <td>4</td>\n      <td>1B</td>\n      <td>1B</td>\n      <td>1A</td>\n      <td>1A</td>\n      <td>2A</td>\n      <td>1A</td>\n    </tr>\n    <tr>\n      <th>4</th>\n      <td>5</td>\n      <td>1A</td>\n      <td>1B</td>\n      <td>2B</td>\n      <td>1A</td>\n      <td>2B</td>\n      <td>4</td>\n    </tr>\n    <tr>\n      <th>...</th>\n      <td>...</td>\n      <td>...</td>\n      <td>...</td>\n      <td>...</td>\n      <td>...</td>\n      <td>...</td>\n      <td>...</td>\n    </tr>\n    <tr>\n      <th>247</th>\n      <td>251</td>\n      <td>1A</td>\n      <td>1B</td>\n      <td>2B</td>\n      <td>1A</td>\n      <td>1B</td>\n      <td>2A</td>\n    </tr>\n    <tr>\n      <th>248</th>\n      <td>252</td>\n      <td>1A</td>\n      <td>1B</td>\n      <td>2B</td>\n      <td>1A</td>\n      <td>2A</td>\n      <td>1A</td>\n    </tr>\n    <tr>\n      <th>249</th>\n      <td>192</td>\n      <td>0</td>\n      <td>0</td>\n      <td>0</td>\n      <td>0</td>\n      <td>0</td>\n      <td>0</td>\n    </tr>\n    <tr>\n      <th>250</th>\n      <td>234</td>\n      <td>0</td>\n      <td>0</td>\n      <td>0</td>\n      <td>0</td>\n      <td>2A</td>\n      <td>0</td>\n    </tr>\n    <tr>\n      <th>0</th>\n      <td>Moda</td>\n      <td>1A</td>\n      <td>1B</td>\n      <td>2A</td>\n      <td>1A</td>\n      <td>2A</td>\n      <td>1A</td>\n    </tr>\n  </tbody>\n</table>\n<p>252 rows × 7 columns</p>\n</div>"
     },
     "execution_count": 16,
     "metadata": {},
     "output_type": "execute_result"
    }
   ],
   "source": [
    "moda = marco.filter(regex='Dimen').mode(axis=0)\n",
    "moda['Código IE'] = 'Moda'\n",
    "marco = pd.concat([marco,moda])\n",
    "marco"
   ],
   "metadata": {
    "collapsed": false,
    "pycharm": {
     "name": "#%%\n"
    }
   }
  },
  {
   "cell_type": "code",
   "execution_count": 17,
   "outputs": [
    {
     "data": {
      "text/plain": "{'1A': 1, '1B': 2, '2A': 3, '2B': 4, '3': 5}"
     },
     "execution_count": 17,
     "metadata": {},
     "output_type": "execute_result"
    }
   ],
   "source": [
    "niveles_num = dict(zip(['1A','1B', '2A', '2B', '3', '4', '5'],list(range(1,6))))\n",
    "num_niveles = dict(zip(list(range(1,6)), ['1A','1B', '2A', '2B', '3', '4', '5']))\n",
    "niveles_num"
   ],
   "metadata": {
    "collapsed": false,
    "pycharm": {
     "name": "#%%\n"
    }
   }
  },
  {
   "cell_type": "code",
   "execution_count": 18,
   "outputs": [
    {
     "data": {
      "text/plain": "    Código IE Dimensión 1 Dimensión 2 Dimensión 4 Dimensión 5 Dimensión 7  \\\n0           1           0           0           4           1           3   \n1           2           1           2           3           1           3   \n2           3           1           2           5           1           3   \n3           4           2           2           1           1           3   \n4           5           1           2           4           1           4   \n..        ...         ...         ...         ...         ...         ...   \n247       251           1           2           4           1           2   \n248       252           1           2           4           1           3   \n249       192           0           0           0           0           0   \n250       234           0           0           0           0           3   \n0        Moda           1           2           3           1           3   \n\n    Dimensión 8  \n0             2  \n1             1  \n2             1  \n3             1  \n4             4  \n..          ...  \n247           3  \n248           1  \n249           0  \n250           0  \n0             1  \n\n[252 rows x 7 columns]",
      "text/html": "<div>\n<style scoped>\n    .dataframe tbody tr th:only-of-type {\n        vertical-align: middle;\n    }\n\n    .dataframe tbody tr th {\n        vertical-align: top;\n    }\n\n    .dataframe thead th {\n        text-align: right;\n    }\n</style>\n<table border=\"1\" class=\"dataframe\">\n  <thead>\n    <tr style=\"text-align: right;\">\n      <th></th>\n      <th>Código IE</th>\n      <th>Dimensión 1</th>\n      <th>Dimensión 2</th>\n      <th>Dimensión 4</th>\n      <th>Dimensión 5</th>\n      <th>Dimensión 7</th>\n      <th>Dimensión 8</th>\n    </tr>\n  </thead>\n  <tbody>\n    <tr>\n      <th>0</th>\n      <td>1</td>\n      <td>0</td>\n      <td>0</td>\n      <td>4</td>\n      <td>1</td>\n      <td>3</td>\n      <td>2</td>\n    </tr>\n    <tr>\n      <th>1</th>\n      <td>2</td>\n      <td>1</td>\n      <td>2</td>\n      <td>3</td>\n      <td>1</td>\n      <td>3</td>\n      <td>1</td>\n    </tr>\n    <tr>\n      <th>2</th>\n      <td>3</td>\n      <td>1</td>\n      <td>2</td>\n      <td>5</td>\n      <td>1</td>\n      <td>3</td>\n      <td>1</td>\n    </tr>\n    <tr>\n      <th>3</th>\n      <td>4</td>\n      <td>2</td>\n      <td>2</td>\n      <td>1</td>\n      <td>1</td>\n      <td>3</td>\n      <td>1</td>\n    </tr>\n    <tr>\n      <th>4</th>\n      <td>5</td>\n      <td>1</td>\n      <td>2</td>\n      <td>4</td>\n      <td>1</td>\n      <td>4</td>\n      <td>4</td>\n    </tr>\n    <tr>\n      <th>...</th>\n      <td>...</td>\n      <td>...</td>\n      <td>...</td>\n      <td>...</td>\n      <td>...</td>\n      <td>...</td>\n      <td>...</td>\n    </tr>\n    <tr>\n      <th>247</th>\n      <td>251</td>\n      <td>1</td>\n      <td>2</td>\n      <td>4</td>\n      <td>1</td>\n      <td>2</td>\n      <td>3</td>\n    </tr>\n    <tr>\n      <th>248</th>\n      <td>252</td>\n      <td>1</td>\n      <td>2</td>\n      <td>4</td>\n      <td>1</td>\n      <td>3</td>\n      <td>1</td>\n    </tr>\n    <tr>\n      <th>249</th>\n      <td>192</td>\n      <td>0</td>\n      <td>0</td>\n      <td>0</td>\n      <td>0</td>\n      <td>0</td>\n      <td>0</td>\n    </tr>\n    <tr>\n      <th>250</th>\n      <td>234</td>\n      <td>0</td>\n      <td>0</td>\n      <td>0</td>\n      <td>0</td>\n      <td>3</td>\n      <td>0</td>\n    </tr>\n    <tr>\n      <th>0</th>\n      <td>Moda</td>\n      <td>1</td>\n      <td>2</td>\n      <td>3</td>\n      <td>1</td>\n      <td>3</td>\n      <td>1</td>\n    </tr>\n  </tbody>\n</table>\n<p>252 rows × 7 columns</p>\n</div>"
     },
     "execution_count": 18,
     "metadata": {},
     "output_type": "execute_result"
    }
   ],
   "source": [
    "marco_num = marco.replace(niveles_num)\n",
    "marco_num"
   ],
   "metadata": {
    "collapsed": false,
    "pycharm": {
     "name": "#%%\n"
    }
   }
  },
  {
   "cell_type": "code",
   "execution_count": 19,
   "outputs": [
    {
     "data": {
      "text/plain": "  Dimensión 1 Dimensión 2 Dimensión 4 Dimensión 5 Dimensión 7 Dimensión 8  \\\n0          1A          1B          1B          1A          1B          1A   \n\n  Código IE  \n0  Promedio  ",
      "text/html": "<div>\n<style scoped>\n    .dataframe tbody tr th:only-of-type {\n        vertical-align: middle;\n    }\n\n    .dataframe tbody tr th {\n        vertical-align: top;\n    }\n\n    .dataframe thead th {\n        text-align: right;\n    }\n</style>\n<table border=\"1\" class=\"dataframe\">\n  <thead>\n    <tr style=\"text-align: right;\">\n      <th></th>\n      <th>Dimensión 1</th>\n      <th>Dimensión 2</th>\n      <th>Dimensión 4</th>\n      <th>Dimensión 5</th>\n      <th>Dimensión 7</th>\n      <th>Dimensión 8</th>\n      <th>Código IE</th>\n    </tr>\n  </thead>\n  <tbody>\n    <tr>\n      <th>0</th>\n      <td>1A</td>\n      <td>1B</td>\n      <td>1B</td>\n      <td>1A</td>\n      <td>1B</td>\n      <td>1A</td>\n      <td>Promedio</td>\n    </tr>\n  </tbody>\n</table>\n</div>"
     },
     "execution_count": 19,
     "metadata": {},
     "output_type": "execute_result"
    }
   ],
   "source": [
    "media = round(marco_num.filter(regex='Dimen*').astype(int).mean())\n",
    "media['Código IE'] = 'Promedio'\n",
    "media = media.replace(num_niveles)\n",
    "media = pd.DataFrame(media)\n",
    "media.T"
   ],
   "metadata": {
    "collapsed": false,
    "pycharm": {
     "name": "#%%\n"
    }
   }
  },
  {
   "cell_type": "code",
   "execution_count": 20,
   "outputs": [
    {
     "data": {
      "text/plain": "    Código IE Dimensión 1 Dimensión 2 Dimensión 4 Dimensión 5 Dimensión 7  \\\n0           1           0           0          2B          1A          2A   \n1           2          1A          1B          2A          1A          2A   \n2           3          1A          1B           3          1A          2A   \n3           4          1B          1B          1A          1A          2A   \n4           5          1A          1B          2B          1A          2B   \n..        ...         ...         ...         ...         ...         ...   \n248       252          1A          1B          2B          1A          2A   \n249       192           0           0           0           0           0   \n250       234           0           0           0           0          2A   \n0        Moda          1A          1B          2A          1A          2A   \n0    Promedio          1A          1B          1B          1A          1B   \n\n    Dimensión 8  \n0            1B  \n1            1A  \n2            1A  \n3            1A  \n4             4  \n..          ...  \n248          1A  \n249           0  \n250           0  \n0            1A  \n0            1A  \n\n[253 rows x 7 columns]",
      "text/html": "<div>\n<style scoped>\n    .dataframe tbody tr th:only-of-type {\n        vertical-align: middle;\n    }\n\n    .dataframe tbody tr th {\n        vertical-align: top;\n    }\n\n    .dataframe thead th {\n        text-align: right;\n    }\n</style>\n<table border=\"1\" class=\"dataframe\">\n  <thead>\n    <tr style=\"text-align: right;\">\n      <th></th>\n      <th>Código IE</th>\n      <th>Dimensión 1</th>\n      <th>Dimensión 2</th>\n      <th>Dimensión 4</th>\n      <th>Dimensión 5</th>\n      <th>Dimensión 7</th>\n      <th>Dimensión 8</th>\n    </tr>\n  </thead>\n  <tbody>\n    <tr>\n      <th>0</th>\n      <td>1</td>\n      <td>0</td>\n      <td>0</td>\n      <td>2B</td>\n      <td>1A</td>\n      <td>2A</td>\n      <td>1B</td>\n    </tr>\n    <tr>\n      <th>1</th>\n      <td>2</td>\n      <td>1A</td>\n      <td>1B</td>\n      <td>2A</td>\n      <td>1A</td>\n      <td>2A</td>\n      <td>1A</td>\n    </tr>\n    <tr>\n      <th>2</th>\n      <td>3</td>\n      <td>1A</td>\n      <td>1B</td>\n      <td>3</td>\n      <td>1A</td>\n      <td>2A</td>\n      <td>1A</td>\n    </tr>\n    <tr>\n      <th>3</th>\n      <td>4</td>\n      <td>1B</td>\n      <td>1B</td>\n      <td>1A</td>\n      <td>1A</td>\n      <td>2A</td>\n      <td>1A</td>\n    </tr>\n    <tr>\n      <th>4</th>\n      <td>5</td>\n      <td>1A</td>\n      <td>1B</td>\n      <td>2B</td>\n      <td>1A</td>\n      <td>2B</td>\n      <td>4</td>\n    </tr>\n    <tr>\n      <th>...</th>\n      <td>...</td>\n      <td>...</td>\n      <td>...</td>\n      <td>...</td>\n      <td>...</td>\n      <td>...</td>\n      <td>...</td>\n    </tr>\n    <tr>\n      <th>248</th>\n      <td>252</td>\n      <td>1A</td>\n      <td>1B</td>\n      <td>2B</td>\n      <td>1A</td>\n      <td>2A</td>\n      <td>1A</td>\n    </tr>\n    <tr>\n      <th>249</th>\n      <td>192</td>\n      <td>0</td>\n      <td>0</td>\n      <td>0</td>\n      <td>0</td>\n      <td>0</td>\n      <td>0</td>\n    </tr>\n    <tr>\n      <th>250</th>\n      <td>234</td>\n      <td>0</td>\n      <td>0</td>\n      <td>0</td>\n      <td>0</td>\n      <td>2A</td>\n      <td>0</td>\n    </tr>\n    <tr>\n      <th>0</th>\n      <td>Moda</td>\n      <td>1A</td>\n      <td>1B</td>\n      <td>2A</td>\n      <td>1A</td>\n      <td>2A</td>\n      <td>1A</td>\n    </tr>\n    <tr>\n      <th>0</th>\n      <td>Promedio</td>\n      <td>1A</td>\n      <td>1B</td>\n      <td>1B</td>\n      <td>1A</td>\n      <td>1B</td>\n      <td>1A</td>\n    </tr>\n  </tbody>\n</table>\n<p>253 rows × 7 columns</p>\n</div>"
     },
     "execution_count": 20,
     "metadata": {},
     "output_type": "execute_result"
    }
   ],
   "source": [
    "\n",
    "marco = pd.concat([marco,media.T])\n",
    "\n",
    "marco"
   ],
   "metadata": {
    "collapsed": false,
    "pycharm": {
     "name": "#%%\n"
    }
   }
  },
  {
   "cell_type": "code",
   "execution_count": 21,
   "outputs": [],
   "source": [
    "marco.to_excel('Marco acumulativo.xlsx', index=False)"
   ],
   "metadata": {
    "collapsed": false,
    "pycharm": {
     "name": "#%%\n"
    }
   }
  },
  {
   "cell_type": "code",
   "execution_count": null,
   "outputs": [],
   "source": [],
   "metadata": {
    "collapsed": false,
    "pycharm": {
     "name": "#%%\n"
    }
   }
  }
 ],
 "metadata": {
  "kernelspec": {
   "display_name": "Python 3",
   "language": "python",
   "name": "python3"
  },
  "language_info": {
   "codemirror_mode": {
    "name": "ipython",
    "version": 2
   },
   "file_extension": ".py",
   "mimetype": "text/x-python",
   "name": "python",
   "nbconvert_exporter": "python",
   "pygments_lexer": "ipython2",
   "version": "2.7.6"
  }
 },
 "nbformat": 4,
 "nbformat_minor": 0
}