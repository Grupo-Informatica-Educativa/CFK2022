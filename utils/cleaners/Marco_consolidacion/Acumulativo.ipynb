{
 "cells": [
  {
   "cell_type": "markdown",
   "source": [
    "## Cuaderno para leer todas las dimensiones y unirlas"
   ],
   "metadata": {
    "collapsed": false,
    "pycharm": {
     "name": "#%% md\n"
    }
   }
  },
  {
   "cell_type": "code",
   "execution_count": 1,
   "metadata": {
    "collapsed": true,
    "pycharm": {
     "name": "#%%\n"
    }
   },
   "outputs": [],
   "source": [
    "import pandas as pd"
   ]
  },
  {
   "cell_type": "code",
   "execution_count": 2,
   "outputs": [
    {
     "data": {
      "text/plain": "     Código IE  Nivel apoyo Nivel frustracion  Nivel SentidoC  \\\n0            1            3                 3               4   \n1            2            3                 3               4   \n2            3            3                 3               5   \n3            4            3                 3               3   \n4            5            4                 3               5   \n..         ...          ...               ...             ...   \n247        248            3                 3               4   \n248        249            4                 3               4   \n249        250            3                 3               5   \n250        251            4                 3               4   \n251        252            3                 3               4   \n\n    Nivel Directivos Nivel Revision Plan Nivel lider Dimensión 1  \n0                  3                  1B          1A          1A  \n1                  5                  1B          1A          1A  \n2                  3                  1B          1A          1A  \n3                  3                  1B          1B          1B  \n4                  5                  1B          1A          1A  \n..               ...                 ...         ...         ...  \n247                5                  1A          1A          1A  \n248                3                  2B          1A          1A  \n249                3                  1A          1A          1A  \n250                3                  1A          1A          1A  \n251                3                  1A          1A          1A  \n\n[252 rows x 8 columns]",
      "text/html": "<div>\n<style scoped>\n    .dataframe tbody tr th:only-of-type {\n        vertical-align: middle;\n    }\n\n    .dataframe tbody tr th {\n        vertical-align: top;\n    }\n\n    .dataframe thead th {\n        text-align: right;\n    }\n</style>\n<table border=\"1\" class=\"dataframe\">\n  <thead>\n    <tr style=\"text-align: right;\">\n      <th></th>\n      <th>Código IE</th>\n      <th>Nivel apoyo</th>\n      <th>Nivel frustracion</th>\n      <th>Nivel SentidoC</th>\n      <th>Nivel Directivos</th>\n      <th>Nivel Revision Plan</th>\n      <th>Nivel lider</th>\n      <th>Dimensión 1</th>\n    </tr>\n  </thead>\n  <tbody>\n    <tr>\n      <th>0</th>\n      <td>1</td>\n      <td>3</td>\n      <td>3</td>\n      <td>4</td>\n      <td>3</td>\n      <td>1B</td>\n      <td>1A</td>\n      <td>1A</td>\n    </tr>\n    <tr>\n      <th>1</th>\n      <td>2</td>\n      <td>3</td>\n      <td>3</td>\n      <td>4</td>\n      <td>5</td>\n      <td>1B</td>\n      <td>1A</td>\n      <td>1A</td>\n    </tr>\n    <tr>\n      <th>2</th>\n      <td>3</td>\n      <td>3</td>\n      <td>3</td>\n      <td>5</td>\n      <td>3</td>\n      <td>1B</td>\n      <td>1A</td>\n      <td>1A</td>\n    </tr>\n    <tr>\n      <th>3</th>\n      <td>4</td>\n      <td>3</td>\n      <td>3</td>\n      <td>3</td>\n      <td>3</td>\n      <td>1B</td>\n      <td>1B</td>\n      <td>1B</td>\n    </tr>\n    <tr>\n      <th>4</th>\n      <td>5</td>\n      <td>4</td>\n      <td>3</td>\n      <td>5</td>\n      <td>5</td>\n      <td>1B</td>\n      <td>1A</td>\n      <td>1A</td>\n    </tr>\n    <tr>\n      <th>...</th>\n      <td>...</td>\n      <td>...</td>\n      <td>...</td>\n      <td>...</td>\n      <td>...</td>\n      <td>...</td>\n      <td>...</td>\n      <td>...</td>\n    </tr>\n    <tr>\n      <th>247</th>\n      <td>248</td>\n      <td>3</td>\n      <td>3</td>\n      <td>4</td>\n      <td>5</td>\n      <td>1A</td>\n      <td>1A</td>\n      <td>1A</td>\n    </tr>\n    <tr>\n      <th>248</th>\n      <td>249</td>\n      <td>4</td>\n      <td>3</td>\n      <td>4</td>\n      <td>3</td>\n      <td>2B</td>\n      <td>1A</td>\n      <td>1A</td>\n    </tr>\n    <tr>\n      <th>249</th>\n      <td>250</td>\n      <td>3</td>\n      <td>3</td>\n      <td>5</td>\n      <td>3</td>\n      <td>1A</td>\n      <td>1A</td>\n      <td>1A</td>\n    </tr>\n    <tr>\n      <th>250</th>\n      <td>251</td>\n      <td>4</td>\n      <td>3</td>\n      <td>4</td>\n      <td>3</td>\n      <td>1A</td>\n      <td>1A</td>\n      <td>1A</td>\n    </tr>\n    <tr>\n      <th>251</th>\n      <td>252</td>\n      <td>3</td>\n      <td>3</td>\n      <td>4</td>\n      <td>3</td>\n      <td>1A</td>\n      <td>1A</td>\n      <td>1A</td>\n    </tr>\n  </tbody>\n</table>\n<p>252 rows × 8 columns</p>\n</div>"
     },
     "execution_count": 2,
     "metadata": {},
     "output_type": "execute_result"
    }
   ],
   "source": [
    "D1 = pd.read_excel('Dimensión 1.xlsx')\n",
    "D1"
   ],
   "metadata": {
    "collapsed": false,
    "pycharm": {
     "name": "#%%\n"
    }
   }
  },
  {
   "cell_type": "code",
   "execution_count": 3,
   "outputs": [],
   "source": [
    "\n",
    "D1 = D1.loc[:,['Código IE', 'Dimensión 1']]\n",
    "D1['Código IE'] = D1['Código IE'].astype(float).astype(int)\n",
    "D1 = D1.set_index('Código IE')"
   ],
   "metadata": {
    "collapsed": false,
    "pycharm": {
     "name": "#%%\n"
    }
   }
  },
  {
   "cell_type": "code",
   "execution_count": 4,
   "outputs": [
    {
     "data": {
      "text/plain": "          Dimensión 1\nCódigo IE            \n143                1A",
      "text/html": "<div>\n<style scoped>\n    .dataframe tbody tr th:only-of-type {\n        vertical-align: middle;\n    }\n\n    .dataframe tbody tr th {\n        vertical-align: top;\n    }\n\n    .dataframe thead th {\n        text-align: right;\n    }\n</style>\n<table border=\"1\" class=\"dataframe\">\n  <thead>\n    <tr style=\"text-align: right;\">\n      <th></th>\n      <th>Dimensión 1</th>\n    </tr>\n    <tr>\n      <th>Código IE</th>\n      <th></th>\n    </tr>\n  </thead>\n  <tbody>\n    <tr>\n      <th>143</th>\n      <td>1A</td>\n    </tr>\n  </tbody>\n</table>\n</div>"
     },
     "execution_count": 4,
     "metadata": {},
     "output_type": "execute_result"
    }
   ],
   "source": [
    "D1[D1.index==143]"
   ],
   "metadata": {
    "collapsed": false,
    "pycharm": {
     "name": "#%%\n"
    }
   }
  },
  {
   "cell_type": "code",
   "execution_count": 5,
   "outputs": [
    {
     "data": {
      "text/plain": "     Código IE  \\\n0            1   \n1            2   \n2            3   \n3            4   \n4            5   \n..         ...   \n247        248   \n248        249   \n249        250   \n250        251   \n251        252   \n\n    1.2 El plan de estudio incluye actividades básicas de ofimática y/o alfabetización digital, y de programación y/o desarrollo del pensamiento computacional.  \\\n0                                                   1B                                                                                                            \n1                                                    4                                                                                                            \n2                                                    4                                                                                                            \n3                                                    4                                                                                                            \n4                                                    4                                                                                                            \n..                                                 ...                                                                                                            \n247                                                  4                                                                                                            \n248                                                  4                                                                                                            \n249                                                  4                                                                                                            \n250                                                 1B                                                                                                            \n251                                                  4                                                                                                            \n\n    1.3 En el plan de estudio se da mayor relevancia al pensamiento computacional  \\\n0                                                   1B                              \n1                                                   1B                              \n2                                                   1B                              \n3                                                   1B                              \n4                                                   1B                              \n..                                                 ...                              \n247                                                 1B                              \n248                                                 1B                              \n249                                                 1B                              \n250                                                 1B                              \n251                                                 1B                              \n\n     1.4 El plan de estudio del área promueve la transición desde la alfabetización digital a las ciencias de la computación.  \\\n0                                                    3                                                                          \n1                                                    3                                                                          \n2                                                    3                                                                          \n3                                                    3                                                                          \n4                                                    3                                                                          \n..                                                 ...                                                                          \n247                                                  3                                                                          \n248                                                  4                                                                          \n249                                                  4                                                                          \n250                                                  4                                                                          \n251                                                  4                                                                          \n\n    1.6 El plan de estudios del área es coherente con la transición de un grado a otro y permite al estudiante desarrollar conocimientos, habilidades y comprensión del pensamiento computacional  \\\n0                                                   2B                                                                                                                                              \n1                                                   2B                                                                                                                                              \n2                                                   2B                                                                                                                                              \n3                                                   2B                                                                                                                                              \n4                                                   2B                                                                                                                                              \n..                                                 ...                                                                                                                                              \n247                                                  4                                                                                                                                              \n248                                                  4                                                                                                                                              \n249                                                  4                                                                                                                                              \n250                                                 2B                                                                                                                                              \n251                                                  4                                                                                                                                              \n\n    1.7 El plan de estudios del área incluye trabajo práctico para el desarrollo del pensamiento computacional.  \\\n0                                                   2B                                                            \n1                                                   2B                                                            \n2                                                   2B                                                            \n3                                                   2B                                                            \n4                                                   2B                                                            \n..                                                 ...                                                            \n247                                                 2B                                                            \n248                                                  4                                                            \n249                                                  4                                                            \n250                                                 2B                                                            \n251                                                  4                                                            \n\n    1.9 El plan de estudio incluye actividades transversales con áreas No-STEM, para el desarrollo del pensamiento computacional  \\\n0                                                   2A                                                                             \n1                                                   2A                                                                             \n2                                                   2A                                                                             \n3                                                   2A                                                                             \n4                                                   2A                                                                             \n..                                                 ...                                                                             \n247                                                 2A                                                                             \n248                                                  4                                                                             \n249                                                 2A                                                                             \n250                                                 2A                                                                             \n251                                                 2A                                                                             \n\n    Nivel Revision Plan  \\\n0                    1B   \n1                    1B   \n2                    1B   \n3                    1B   \n4                    1B   \n..                  ...   \n247                  1B   \n248                  1B   \n249                  1B   \n250                  1B   \n251                  1B   \n\n    1.2 El plan de estudios del área cuenta con mejoras realizadas por los docentes de la IE gracias a espacios colaborativos  \\\n0                                                    4                                                                          \n1                                                    4                                                                          \n2                                                    4                                                                          \n3                                                   2B                                                                          \n4                                                    4                                                                          \n..                                                 ...                                                                          \n247                                                 2B                                                                          \n248                                                  4                                                                          \n249                                                  4                                                                          \n250                                                  4                                                                          \n251                                                  4                                                                          \n\n    1.3 El plan de estudio incluye actividades básicas de ofimática y/o alfabetización digital, programación y/o desarrollo del pensamiento computacional.  \\\n0                                                   1B                                                                                                       \n1                                                    4                                                                                                       \n2                                                    4                                                                                                       \n3                                                    4                                                                                                       \n4                                                    4                                                                                                       \n..                                                 ...                                                                                                       \n247                                                 1B                                                                                                       \n248                                                  4                                                                                                       \n249                                                  4                                                                                                       \n250                                                  4                                                                                                       \n251                                                  4                                                                                                       \n\n     1.4 En el plan de estudio se da mayor relevancia al pensamiento computacional  \\\n0                                                    3                               \n1                                                    3                               \n2                                                    3                               \n3                                                    3                               \n4                                                    4                               \n..                                                 ...                               \n247                                                  3                               \n248                                                  4                               \n249                                                  3                               \n250                                                  3                               \n251                                                  3                               \n\n     1.5 El plan de estudio del área promueve la transición desde la alfabetización digital a las ciencias de la computación  \\\n0                                                    3                                                                         \n1                                                    3                                                                         \n2                                                    3                                                                         \n3                                                    3                                                                         \n4                                                    4                                                                         \n..                                                 ...                                                                         \n247                                                  3                                                                         \n248                                                  4                                                                         \n249                                                  4                                                                         \n250                                                  4                                                                         \n251                                                  4                                                                         \n\n    1.6 El plan de estudios del área comprende el pensamiento computacional y su impacto dentro del proceso enseñanza-aprendizaje  \\\n0                                                   2A                                                                              \n1                                                    4                                                                              \n2                                                    4                                                                              \n3                                                   2A                                                                              \n4                                                    4                                                                              \n..                                                 ...                                                                              \n247                                                 2A                                                                              \n248                                                  4                                                                              \n249                                                 2A                                                                              \n250                                                 2A                                                                              \n251                                                 2A                                                                              \n\n    1.7 El plan de estudios del área es coherente con la transición de un grado a otro y permite al estudiante desarrollar conocimientos, habilidades y comprensión del pensamiento computacional  \\\n0                                                   2B                                                                                                                                              \n1                                                   2B                                                                                                                                              \n2                                                    4                                                                                                                                              \n3                                                   2B                                                                                                                                              \n4                                                    4                                                                                                                                              \n..                                                 ...                                                                                                                                              \n247                                                 2B                                                                                                                                              \n248                                                  4                                                                                                                                              \n249                                                  4                                                                                                                                              \n250                                                  4                                                                                                                                              \n251                                                  4                                                                                                                                              \n\n    1.8 El plan de estudios del área incluye trabajo práctico para el desarrollo del pensamiento computacional.  \\\n0                                                   2B                                                            \n1                                                   2B                                                            \n2                                                    4                                                            \n3                                                   2B                                                            \n4                                                    4                                                            \n..                                                 ...                                                            \n247                                                 2B                                                            \n248                                                  4                                                            \n249                                                  4                                                            \n250                                                  4                                                            \n251                                                  4                                                            \n\n    1.10 El plan de estudio de las asignaturas No-STEM integran eficientemente los aprendizajes adquiridos por sus estudiantes sobre pensamiento computacional  \\\n0                                                   2A                                                                                                           \n1                                                   2A                                                                                                           \n2                                                   2A                                                                                                           \n3                                                   2A                                                                                                           \n4                                                    4                                                                                                           \n..                                                 ...                                                                                                           \n247                                                 2A                                                                                                           \n248                                                  4                                                                                                           \n249                                                 2A                                                                                                           \n250                                                 2A                                                                                                           \n251                                                 2A                                                                                                           \n\n    Nivel lider Dimensión 2  \n0            1B          1B  \n1            2A          1B  \n2            2A          1B  \n3            2A          1B  \n4             4          1B  \n..          ...         ...  \n247          1B          1B  \n248           4          1B  \n249          2A          1B  \n250          2A          1B  \n251          2A          1B  \n\n[252 rows x 18 columns]",
      "text/html": "<div>\n<style scoped>\n    .dataframe tbody tr th:only-of-type {\n        vertical-align: middle;\n    }\n\n    .dataframe tbody tr th {\n        vertical-align: top;\n    }\n\n    .dataframe thead th {\n        text-align: right;\n    }\n</style>\n<table border=\"1\" class=\"dataframe\">\n  <thead>\n    <tr style=\"text-align: right;\">\n      <th></th>\n      <th>Código IE</th>\n      <th>1.2 El plan de estudio incluye actividades básicas de ofimática y/o alfabetización digital, y de programación y/o desarrollo del pensamiento computacional.</th>\n      <th>1.3 En el plan de estudio se da mayor relevancia al pensamiento computacional</th>\n      <th>1.4 El plan de estudio del área promueve la transición desde la alfabetización digital a las ciencias de la computación.</th>\n      <th>1.6 El plan de estudios del área es coherente con la transición de un grado a otro y permite al estudiante desarrollar conocimientos, habilidades y comprensión del pensamiento computacional</th>\n      <th>1.7 El plan de estudios del área incluye trabajo práctico para el desarrollo del pensamiento computacional.</th>\n      <th>1.9 El plan de estudio incluye actividades transversales con áreas No-STEM, para el desarrollo del pensamiento computacional</th>\n      <th>Nivel Revision Plan</th>\n      <th>1.2 El plan de estudios del área cuenta con mejoras realizadas por los docentes de la IE gracias a espacios colaborativos</th>\n      <th>1.3 El plan de estudio incluye actividades básicas de ofimática y/o alfabetización digital, programación y/o desarrollo del pensamiento computacional.</th>\n      <th>1.4 En el plan de estudio se da mayor relevancia al pensamiento computacional</th>\n      <th>1.5 El plan de estudio del área promueve la transición desde la alfabetización digital a las ciencias de la computación</th>\n      <th>1.6 El plan de estudios del área comprende el pensamiento computacional y su impacto dentro del proceso enseñanza-aprendizaje</th>\n      <th>1.7 El plan de estudios del área es coherente con la transición de un grado a otro y permite al estudiante desarrollar conocimientos, habilidades y comprensión del pensamiento computacional</th>\n      <th>1.8 El plan de estudios del área incluye trabajo práctico para el desarrollo del pensamiento computacional.</th>\n      <th>1.10 El plan de estudio de las asignaturas No-STEM integran eficientemente los aprendizajes adquiridos por sus estudiantes sobre pensamiento computacional</th>\n      <th>Nivel lider</th>\n      <th>Dimensión 2</th>\n    </tr>\n  </thead>\n  <tbody>\n    <tr>\n      <th>0</th>\n      <td>1</td>\n      <td>1B</td>\n      <td>1B</td>\n      <td>3</td>\n      <td>2B</td>\n      <td>2B</td>\n      <td>2A</td>\n      <td>1B</td>\n      <td>4</td>\n      <td>1B</td>\n      <td>3</td>\n      <td>3</td>\n      <td>2A</td>\n      <td>2B</td>\n      <td>2B</td>\n      <td>2A</td>\n      <td>1B</td>\n      <td>1B</td>\n    </tr>\n    <tr>\n      <th>1</th>\n      <td>2</td>\n      <td>4</td>\n      <td>1B</td>\n      <td>3</td>\n      <td>2B</td>\n      <td>2B</td>\n      <td>2A</td>\n      <td>1B</td>\n      <td>4</td>\n      <td>4</td>\n      <td>3</td>\n      <td>3</td>\n      <td>4</td>\n      <td>2B</td>\n      <td>2B</td>\n      <td>2A</td>\n      <td>2A</td>\n      <td>1B</td>\n    </tr>\n    <tr>\n      <th>2</th>\n      <td>3</td>\n      <td>4</td>\n      <td>1B</td>\n      <td>3</td>\n      <td>2B</td>\n      <td>2B</td>\n      <td>2A</td>\n      <td>1B</td>\n      <td>4</td>\n      <td>4</td>\n      <td>3</td>\n      <td>3</td>\n      <td>4</td>\n      <td>4</td>\n      <td>4</td>\n      <td>2A</td>\n      <td>2A</td>\n      <td>1B</td>\n    </tr>\n    <tr>\n      <th>3</th>\n      <td>4</td>\n      <td>4</td>\n      <td>1B</td>\n      <td>3</td>\n      <td>2B</td>\n      <td>2B</td>\n      <td>2A</td>\n      <td>1B</td>\n      <td>2B</td>\n      <td>4</td>\n      <td>3</td>\n      <td>3</td>\n      <td>2A</td>\n      <td>2B</td>\n      <td>2B</td>\n      <td>2A</td>\n      <td>2A</td>\n      <td>1B</td>\n    </tr>\n    <tr>\n      <th>4</th>\n      <td>5</td>\n      <td>4</td>\n      <td>1B</td>\n      <td>3</td>\n      <td>2B</td>\n      <td>2B</td>\n      <td>2A</td>\n      <td>1B</td>\n      <td>4</td>\n      <td>4</td>\n      <td>4</td>\n      <td>4</td>\n      <td>4</td>\n      <td>4</td>\n      <td>4</td>\n      <td>4</td>\n      <td>4</td>\n      <td>1B</td>\n    </tr>\n    <tr>\n      <th>...</th>\n      <td>...</td>\n      <td>...</td>\n      <td>...</td>\n      <td>...</td>\n      <td>...</td>\n      <td>...</td>\n      <td>...</td>\n      <td>...</td>\n      <td>...</td>\n      <td>...</td>\n      <td>...</td>\n      <td>...</td>\n      <td>...</td>\n      <td>...</td>\n      <td>...</td>\n      <td>...</td>\n      <td>...</td>\n      <td>...</td>\n    </tr>\n    <tr>\n      <th>247</th>\n      <td>248</td>\n      <td>4</td>\n      <td>1B</td>\n      <td>3</td>\n      <td>4</td>\n      <td>2B</td>\n      <td>2A</td>\n      <td>1B</td>\n      <td>2B</td>\n      <td>1B</td>\n      <td>3</td>\n      <td>3</td>\n      <td>2A</td>\n      <td>2B</td>\n      <td>2B</td>\n      <td>2A</td>\n      <td>1B</td>\n      <td>1B</td>\n    </tr>\n    <tr>\n      <th>248</th>\n      <td>249</td>\n      <td>4</td>\n      <td>1B</td>\n      <td>4</td>\n      <td>4</td>\n      <td>4</td>\n      <td>4</td>\n      <td>1B</td>\n      <td>4</td>\n      <td>4</td>\n      <td>4</td>\n      <td>4</td>\n      <td>4</td>\n      <td>4</td>\n      <td>4</td>\n      <td>4</td>\n      <td>4</td>\n      <td>1B</td>\n    </tr>\n    <tr>\n      <th>249</th>\n      <td>250</td>\n      <td>4</td>\n      <td>1B</td>\n      <td>4</td>\n      <td>4</td>\n      <td>4</td>\n      <td>2A</td>\n      <td>1B</td>\n      <td>4</td>\n      <td>4</td>\n      <td>3</td>\n      <td>4</td>\n      <td>2A</td>\n      <td>4</td>\n      <td>4</td>\n      <td>2A</td>\n      <td>2A</td>\n      <td>1B</td>\n    </tr>\n    <tr>\n      <th>250</th>\n      <td>251</td>\n      <td>1B</td>\n      <td>1B</td>\n      <td>4</td>\n      <td>2B</td>\n      <td>2B</td>\n      <td>2A</td>\n      <td>1B</td>\n      <td>4</td>\n      <td>4</td>\n      <td>3</td>\n      <td>4</td>\n      <td>2A</td>\n      <td>4</td>\n      <td>4</td>\n      <td>2A</td>\n      <td>2A</td>\n      <td>1B</td>\n    </tr>\n    <tr>\n      <th>251</th>\n      <td>252</td>\n      <td>4</td>\n      <td>1B</td>\n      <td>4</td>\n      <td>4</td>\n      <td>4</td>\n      <td>2A</td>\n      <td>1B</td>\n      <td>4</td>\n      <td>4</td>\n      <td>3</td>\n      <td>4</td>\n      <td>2A</td>\n      <td>4</td>\n      <td>4</td>\n      <td>2A</td>\n      <td>2A</td>\n      <td>1B</td>\n    </tr>\n  </tbody>\n</table>\n<p>252 rows × 18 columns</p>\n</div>"
     },
     "execution_count": 5,
     "metadata": {},
     "output_type": "execute_result"
    }
   ],
   "source": [
    "D2 = pd.read_excel('Dimensión 2.xlsx')\n",
    "D2"
   ],
   "metadata": {
    "collapsed": false,
    "pycharm": {
     "name": "#%%\n"
    }
   }
  },
  {
   "cell_type": "code",
   "execution_count": 6,
   "outputs": [],
   "source": [
    "D2 = D2.loc[:,['Código IE', 'Dimensión 2']]\n",
    "D2['Código IE'] = D2['Código IE'].astype(float).astype(int)\n",
    "D2 = D2.set_index('Código IE')"
   ],
   "metadata": {
    "collapsed": false,
    "pycharm": {
     "name": "#%%\n"
    }
   }
  },
  {
   "cell_type": "code",
   "execution_count": 7,
   "outputs": [
    {
     "data": {
      "text/plain": "          Dimensión 2\nCódigo IE            \n195                1B",
      "text/html": "<div>\n<style scoped>\n    .dataframe tbody tr th:only-of-type {\n        vertical-align: middle;\n    }\n\n    .dataframe tbody tr th {\n        vertical-align: top;\n    }\n\n    .dataframe thead th {\n        text-align: right;\n    }\n</style>\n<table border=\"1\" class=\"dataframe\">\n  <thead>\n    <tr style=\"text-align: right;\">\n      <th></th>\n      <th>Dimensión 2</th>\n    </tr>\n    <tr>\n      <th>Código IE</th>\n      <th></th>\n    </tr>\n  </thead>\n  <tbody>\n    <tr>\n      <th>195</th>\n      <td>1B</td>\n    </tr>\n  </tbody>\n</table>\n</div>"
     },
     "execution_count": 7,
     "metadata": {},
     "output_type": "execute_result"
    }
   ],
   "source": [
    "D2[D2.index==195]"
   ],
   "metadata": {
    "collapsed": false,
    "pycharm": {
     "name": "#%%\n"
    }
   }
  },
  {
   "cell_type": "code",
   "execution_count": 8,
   "outputs": [
    {
     "data": {
      "text/plain": "     Código IE  7.1 Le explicaría la respuesta correcta  \\\n0            1                                 4.630435   \n1            2                                 5.000000   \n2            3                                 4.636364   \n3            4                                 1.833333   \n4            5                                 5.420000   \n..         ...                                      ...   \n247        248                                 4.000000   \n248        249                                 4.888889   \n249        250                                 5.023256   \n250        251                                 4.865385   \n251        252                                 2.863636   \n\n     7.2 Le sugeriría ir paso a paso por el programa simulando su ejecución  \\\n0                                             5.847826                        \n1                                             5.266667                        \n2                                             6.454545                        \n3                                             2.916667                        \n4                                             6.240000                        \n..                                                 ...                        \n247                                           4.500000                        \n248                                           5.833333                        \n249                                           6.511628                        \n250                                           6.288462                        \n251                                           3.681818                        \n\n     Cantidad_PracticasE  Cantidad_PracticasP  Docente_TeI  Err_conceptuales  \\\n0               4.804348             3.630435            6          0.282609   \n1               4.066667             3.466667            3          0.233333   \n2               5.090909             3.772727            3          0.090909   \n3               3.166667             3.416667            1          0.208333   \n4               5.260000             4.140000            8          0.160000   \n..                   ...                  ...          ...               ...   \n247             3.625000             2.875000            3          0.062500   \n248             5.333333             3.722222            4          0.222222   \n249             5.534884             3.325581           14          0.151163   \n250             5.230769             3.480769           13          0.105769   \n251             4.272727             3.363636            3          0.136364   \n\n     Formado  Formado_noI  Frecuencia_PracticasE  ...  Fraccion_formadoPC  \\\n0          4            3               5.757246  ...           33.333333   \n1          4            2               4.777778  ...           66.666667   \n2          5            2               6.416667  ...           66.666667   \n3          1            0               3.291667  ...            0.000000   \n4         11            8               6.180000  ...           50.000000   \n..       ...          ...                    ...  ...                 ...   \n247        1            1               5.145833  ...            0.000000   \n248        5            4               6.027778  ...           75.000000   \n249        9            6               6.302326  ...           28.571429   \n250       12           12               5.891026  ...           15.384615   \n251        4            3               4.196970  ...            0.000000   \n\n     Nivel conocimiento_area  Nivel autoeficaciaPC_area  Nivel sentidoC_area  \\\n0                          5                         2A                    5   \n1                          5                          4                    5   \n2                          5                          5                    5   \n3                         2A                         2A                    5   \n4                          5                          5                    5   \n..                       ...                        ...                  ...   \n247                        4                         2A                    5   \n248                        5                         2A                    5   \n249                        5                          4                    5   \n250                        5                         2A                    5   \n251                        5                         2A                    5   \n\n     Nivel_formadoPC_area  Nivel_fr_practicas_ped_area  \\\n0                       3                            5   \n1                       3                            5   \n2                       3                            5   \n3                       3                            3   \n4                       3                            5   \n..                    ...                          ...   \n247                     3                            3   \n248                     5                            5   \n249                     3                            3   \n250                     3                            3   \n251                     3                            3   \n\n     Nivel_cant_practicas_ped_area  Nivel_fr_practicas_ev_area  \\\n0                                5                           5   \n1                                5                           5   \n2                                5                           5   \n3                                3                          2B   \n4                                5                           5   \n..                             ...                         ...   \n247                              5                          2B   \n248                              5                           5   \n249                              5                           5   \n250                              5                           3   \n251                              5                          2B   \n\n     Nivel_cant_practicas_ev_area  Dimensión 3  \n0                               5           1A  \n1                               5           2A  \n2                               5           2A  \n3                               3           2A  \n4                               5           1A  \n..                            ...          ...  \n247                             3           1A  \n248                             5           1A  \n249                             5           1A  \n250                             5           1A  \n251                             3           1A  \n\n[252 rows x 71 columns]",
      "text/html": "<div>\n<style scoped>\n    .dataframe tbody tr th:only-of-type {\n        vertical-align: middle;\n    }\n\n    .dataframe tbody tr th {\n        vertical-align: top;\n    }\n\n    .dataframe thead th {\n        text-align: right;\n    }\n</style>\n<table border=\"1\" class=\"dataframe\">\n  <thead>\n    <tr style=\"text-align: right;\">\n      <th></th>\n      <th>Código IE</th>\n      <th>7.1 Le explicaría la respuesta correcta</th>\n      <th>7.2 Le sugeriría ir paso a paso por el programa simulando su ejecución</th>\n      <th>Cantidad_PracticasE</th>\n      <th>Cantidad_PracticasP</th>\n      <th>Docente_TeI</th>\n      <th>Err_conceptuales</th>\n      <th>Formado</th>\n      <th>Formado_noI</th>\n      <th>Frecuencia_PracticasE</th>\n      <th>...</th>\n      <th>Fraccion_formadoPC</th>\n      <th>Nivel conocimiento_area</th>\n      <th>Nivel autoeficaciaPC_area</th>\n      <th>Nivel sentidoC_area</th>\n      <th>Nivel_formadoPC_area</th>\n      <th>Nivel_fr_practicas_ped_area</th>\n      <th>Nivel_cant_practicas_ped_area</th>\n      <th>Nivel_fr_practicas_ev_area</th>\n      <th>Nivel_cant_practicas_ev_area</th>\n      <th>Dimensión 3</th>\n    </tr>\n  </thead>\n  <tbody>\n    <tr>\n      <th>0</th>\n      <td>1</td>\n      <td>4.630435</td>\n      <td>5.847826</td>\n      <td>4.804348</td>\n      <td>3.630435</td>\n      <td>6</td>\n      <td>0.282609</td>\n      <td>4</td>\n      <td>3</td>\n      <td>5.757246</td>\n      <td>...</td>\n      <td>33.333333</td>\n      <td>5</td>\n      <td>2A</td>\n      <td>5</td>\n      <td>3</td>\n      <td>5</td>\n      <td>5</td>\n      <td>5</td>\n      <td>5</td>\n      <td>1A</td>\n    </tr>\n    <tr>\n      <th>1</th>\n      <td>2</td>\n      <td>5.000000</td>\n      <td>5.266667</td>\n      <td>4.066667</td>\n      <td>3.466667</td>\n      <td>3</td>\n      <td>0.233333</td>\n      <td>4</td>\n      <td>2</td>\n      <td>4.777778</td>\n      <td>...</td>\n      <td>66.666667</td>\n      <td>5</td>\n      <td>4</td>\n      <td>5</td>\n      <td>3</td>\n      <td>5</td>\n      <td>5</td>\n      <td>5</td>\n      <td>5</td>\n      <td>2A</td>\n    </tr>\n    <tr>\n      <th>2</th>\n      <td>3</td>\n      <td>4.636364</td>\n      <td>6.454545</td>\n      <td>5.090909</td>\n      <td>3.772727</td>\n      <td>3</td>\n      <td>0.090909</td>\n      <td>5</td>\n      <td>2</td>\n      <td>6.416667</td>\n      <td>...</td>\n      <td>66.666667</td>\n      <td>5</td>\n      <td>5</td>\n      <td>5</td>\n      <td>3</td>\n      <td>5</td>\n      <td>5</td>\n      <td>5</td>\n      <td>5</td>\n      <td>2A</td>\n    </tr>\n    <tr>\n      <th>3</th>\n      <td>4</td>\n      <td>1.833333</td>\n      <td>2.916667</td>\n      <td>3.166667</td>\n      <td>3.416667</td>\n      <td>1</td>\n      <td>0.208333</td>\n      <td>1</td>\n      <td>0</td>\n      <td>3.291667</td>\n      <td>...</td>\n      <td>0.000000</td>\n      <td>2A</td>\n      <td>2A</td>\n      <td>5</td>\n      <td>3</td>\n      <td>3</td>\n      <td>3</td>\n      <td>2B</td>\n      <td>3</td>\n      <td>2A</td>\n    </tr>\n    <tr>\n      <th>4</th>\n      <td>5</td>\n      <td>5.420000</td>\n      <td>6.240000</td>\n      <td>5.260000</td>\n      <td>4.140000</td>\n      <td>8</td>\n      <td>0.160000</td>\n      <td>11</td>\n      <td>8</td>\n      <td>6.180000</td>\n      <td>...</td>\n      <td>50.000000</td>\n      <td>5</td>\n      <td>5</td>\n      <td>5</td>\n      <td>3</td>\n      <td>5</td>\n      <td>5</td>\n      <td>5</td>\n      <td>5</td>\n      <td>1A</td>\n    </tr>\n    <tr>\n      <th>...</th>\n      <td>...</td>\n      <td>...</td>\n      <td>...</td>\n      <td>...</td>\n      <td>...</td>\n      <td>...</td>\n      <td>...</td>\n      <td>...</td>\n      <td>...</td>\n      <td>...</td>\n      <td>...</td>\n      <td>...</td>\n      <td>...</td>\n      <td>...</td>\n      <td>...</td>\n      <td>...</td>\n      <td>...</td>\n      <td>...</td>\n      <td>...</td>\n      <td>...</td>\n      <td>...</td>\n    </tr>\n    <tr>\n      <th>247</th>\n      <td>248</td>\n      <td>4.000000</td>\n      <td>4.500000</td>\n      <td>3.625000</td>\n      <td>2.875000</td>\n      <td>3</td>\n      <td>0.062500</td>\n      <td>1</td>\n      <td>1</td>\n      <td>5.145833</td>\n      <td>...</td>\n      <td>0.000000</td>\n      <td>4</td>\n      <td>2A</td>\n      <td>5</td>\n      <td>3</td>\n      <td>3</td>\n      <td>5</td>\n      <td>2B</td>\n      <td>3</td>\n      <td>1A</td>\n    </tr>\n    <tr>\n      <th>248</th>\n      <td>249</td>\n      <td>4.888889</td>\n      <td>5.833333</td>\n      <td>5.333333</td>\n      <td>3.722222</td>\n      <td>4</td>\n      <td>0.222222</td>\n      <td>5</td>\n      <td>4</td>\n      <td>6.027778</td>\n      <td>...</td>\n      <td>75.000000</td>\n      <td>5</td>\n      <td>2A</td>\n      <td>5</td>\n      <td>5</td>\n      <td>5</td>\n      <td>5</td>\n      <td>5</td>\n      <td>5</td>\n      <td>1A</td>\n    </tr>\n    <tr>\n      <th>249</th>\n      <td>250</td>\n      <td>5.023256</td>\n      <td>6.511628</td>\n      <td>5.534884</td>\n      <td>3.325581</td>\n      <td>14</td>\n      <td>0.151163</td>\n      <td>9</td>\n      <td>6</td>\n      <td>6.302326</td>\n      <td>...</td>\n      <td>28.571429</td>\n      <td>5</td>\n      <td>4</td>\n      <td>5</td>\n      <td>3</td>\n      <td>3</td>\n      <td>5</td>\n      <td>5</td>\n      <td>5</td>\n      <td>1A</td>\n    </tr>\n    <tr>\n      <th>250</th>\n      <td>251</td>\n      <td>4.865385</td>\n      <td>6.288462</td>\n      <td>5.230769</td>\n      <td>3.480769</td>\n      <td>13</td>\n      <td>0.105769</td>\n      <td>12</td>\n      <td>12</td>\n      <td>5.891026</td>\n      <td>...</td>\n      <td>15.384615</td>\n      <td>5</td>\n      <td>2A</td>\n      <td>5</td>\n      <td>3</td>\n      <td>3</td>\n      <td>5</td>\n      <td>3</td>\n      <td>5</td>\n      <td>1A</td>\n    </tr>\n    <tr>\n      <th>251</th>\n      <td>252</td>\n      <td>2.863636</td>\n      <td>3.681818</td>\n      <td>4.272727</td>\n      <td>3.363636</td>\n      <td>3</td>\n      <td>0.136364</td>\n      <td>4</td>\n      <td>3</td>\n      <td>4.196970</td>\n      <td>...</td>\n      <td>0.000000</td>\n      <td>5</td>\n      <td>2A</td>\n      <td>5</td>\n      <td>3</td>\n      <td>3</td>\n      <td>5</td>\n      <td>2B</td>\n      <td>3</td>\n      <td>1A</td>\n    </tr>\n  </tbody>\n</table>\n<p>252 rows × 71 columns</p>\n</div>"
     },
     "execution_count": 8,
     "metadata": {},
     "output_type": "execute_result"
    }
   ],
   "source": [
    "D3 = pd.read_excel('Dimensión 3.xlsx')\n",
    "D3"
   ],
   "metadata": {
    "collapsed": false,
    "pycharm": {
     "name": "#%%\n"
    }
   }
  },
  {
   "cell_type": "code",
   "execution_count": 9,
   "outputs": [],
   "source": [
    "\n",
    "D3 = D3.loc[:,['Código IE', 'Dimensión 3']]\n",
    "D3['Código IE'] = D3['Código IE'].astype(float).astype(int)\n",
    "D3 = D3.set_index('Código IE')"
   ],
   "metadata": {
    "collapsed": false,
    "pycharm": {
     "name": "#%%\n"
    }
   }
  },
  {
   "cell_type": "code",
   "execution_count": 10,
   "outputs": [
    {
     "data": {
      "text/plain": "          Dimensión 3\nCódigo IE            \n195                2A",
      "text/html": "<div>\n<style scoped>\n    .dataframe tbody tr th:only-of-type {\n        vertical-align: middle;\n    }\n\n    .dataframe tbody tr th {\n        vertical-align: top;\n    }\n\n    .dataframe thead th {\n        text-align: right;\n    }\n</style>\n<table border=\"1\" class=\"dataframe\">\n  <thead>\n    <tr style=\"text-align: right;\">\n      <th></th>\n      <th>Dimensión 3</th>\n    </tr>\n    <tr>\n      <th>Código IE</th>\n      <th></th>\n    </tr>\n  </thead>\n  <tbody>\n    <tr>\n      <th>195</th>\n      <td>2A</td>\n    </tr>\n  </tbody>\n</table>\n</div>"
     },
     "execution_count": 10,
     "metadata": {},
     "output_type": "execute_result"
    }
   ],
   "source": [
    "D3[D3.index==195]"
   ],
   "metadata": {
    "collapsed": false,
    "pycharm": {
     "name": "#%%\n"
    }
   }
  },
  {
   "cell_type": "code",
   "execution_count": 11,
   "outputs": [
    {
     "data": {
      "text/plain": "          Dimensión 3\nCódigo IE            \n195                2A",
      "text/html": "<div>\n<style scoped>\n    .dataframe tbody tr th:only-of-type {\n        vertical-align: middle;\n    }\n\n    .dataframe tbody tr th {\n        vertical-align: top;\n    }\n\n    .dataframe thead th {\n        text-align: right;\n    }\n</style>\n<table border=\"1\" class=\"dataframe\">\n  <thead>\n    <tr style=\"text-align: right;\">\n      <th></th>\n      <th>Dimensión 3</th>\n    </tr>\n    <tr>\n      <th>Código IE</th>\n      <th></th>\n    </tr>\n  </thead>\n  <tbody>\n    <tr>\n      <th>195</th>\n      <td>2A</td>\n    </tr>\n  </tbody>\n</table>\n</div>"
     },
     "execution_count": 11,
     "metadata": {},
     "output_type": "execute_result"
    }
   ],
   "source": [
    "D3[D3.index==195]"
   ],
   "metadata": {
    "collapsed": false,
    "pycharm": {
     "name": "#%%\n"
    }
   }
  },
  {
   "cell_type": "code",
   "execution_count": 12,
   "outputs": [],
   "source": [
    "D4 = pd.read_excel('Dimension 4.xlsx')\n",
    "D4 = D4.loc[:,['Código IE', 'Dimensión 4']]\n",
    "D4['Código IE'] = D4['Código IE'].astype(float).astype(int)\n",
    "D4 = D4.set_index('Código IE')"
   ],
   "metadata": {
    "collapsed": false,
    "pycharm": {
     "name": "#%%\n"
    }
   }
  },
  {
   "cell_type": "code",
   "execution_count": 13,
   "outputs": [],
   "source": [
    "D5 = pd.read_excel('Dimensión 5.xlsx')\n",
    "D5 = D5.loc[:,['Código IE', 'Dimensión 5']]\n",
    "D5['Código IE'] = D5['Código IE'].astype(float).astype(int)\n",
    "D5 = D5.set_index('Código IE')"
   ],
   "metadata": {
    "collapsed": false,
    "pycharm": {
     "name": "#%%\n"
    }
   }
  },
  {
   "cell_type": "code",
   "execution_count": 14,
   "outputs": [],
   "source": [
    "D6 = pd.read_excel('Dimensión 6.xlsx')\n",
    "D6 = D6.loc[:,['Código IE', 'Dimensión 6']]\n",
    "D6['Código IE'] = D6['Código IE'].astype(float).astype(int)\n",
    "D6 = D6.set_index('Código IE')"
   ],
   "metadata": {
    "collapsed": false,
    "pycharm": {
     "name": "#%%\n"
    }
   }
  },
  {
   "cell_type": "code",
   "execution_count": 15,
   "outputs": [],
   "source": [
    "D7 = pd.read_excel('Dimensión 7.xlsx')\n",
    "D7 = D7.loc[:,['Código IE', 'Dimensión 7']]\n",
    "D7['Código IE'] = D7['Código IE'].astype(float).astype(int)\n",
    "D7 = D7.set_index('Código IE')"
   ],
   "metadata": {
    "collapsed": false,
    "pycharm": {
     "name": "#%%\n"
    }
   }
  },
  {
   "cell_type": "code",
   "execution_count": 16,
   "outputs": [],
   "source": [
    "D8 = pd.read_excel('Dimensión 8.xlsx')\n",
    "D8 = D8.loc[:,['Código IE', 'Dimensión 8']]\n",
    "D8['Código IE'] = D8['Código IE'].astype(float).astype(int)\n",
    "D8 = D8.set_index('Código IE')"
   ],
   "metadata": {
    "collapsed": false,
    "pycharm": {
     "name": "#%%\n"
    }
   }
  },
  {
   "cell_type": "code",
   "execution_count": 17,
   "outputs": [],
   "source": [
    "marco = pd.concat([D1,D2,D3,D4,D5,D6,D7,D8],ignore_index=False, axis=1)\n",
    "marco = marco.fillna(\"0\")\n",
    "marco = marco.reset_index()"
   ],
   "metadata": {
    "collapsed": false,
    "pycharm": {
     "name": "#%%\n"
    }
   }
  },
  {
   "cell_type": "code",
   "execution_count": 18,
   "outputs": [
    {
     "data": {
      "text/plain": "     Código IE Dimensión 1 Dimensión 2 Dimensión 3 Dimensión 4 Dimensión 5  \\\n0            1          1A          1B          1A          2B          1A   \n1            2          1A          1B          2A          2A          1A   \n2            3          1A          1B          2A           3          1A   \n3            4          1B          1B          2A          1A          1A   \n4            5          1A          1B          1A          2B          1A   \n..         ...         ...         ...         ...         ...         ...   \n247        248          1A          1B          1A          1A          1A   \n248        249          1A          1B          1A          2B          1A   \n249        250          1A          1B          1A          2A          1A   \n250        251          1A          1B          1A          2B          1A   \n251        252          1A          1B          1A          2B          1A   \n\n    Dimensión 6 Dimensión 7 Dimensión 8  \n0            1B          2A          1B  \n1            1B          2A          1A  \n2            1B          2A          1A  \n3            1B          2A          1A  \n4            1B          2B           4  \n..          ...         ...         ...  \n247          1B          2A          1A  \n248          1B          1B          1A  \n249          1B          1B          1A  \n250          1B          1B          2A  \n251          1B          2A          1A  \n\n[252 rows x 9 columns]",
      "text/html": "<div>\n<style scoped>\n    .dataframe tbody tr th:only-of-type {\n        vertical-align: middle;\n    }\n\n    .dataframe tbody tr th {\n        vertical-align: top;\n    }\n\n    .dataframe thead th {\n        text-align: right;\n    }\n</style>\n<table border=\"1\" class=\"dataframe\">\n  <thead>\n    <tr style=\"text-align: right;\">\n      <th></th>\n      <th>Código IE</th>\n      <th>Dimensión 1</th>\n      <th>Dimensión 2</th>\n      <th>Dimensión 3</th>\n      <th>Dimensión 4</th>\n      <th>Dimensión 5</th>\n      <th>Dimensión 6</th>\n      <th>Dimensión 7</th>\n      <th>Dimensión 8</th>\n    </tr>\n  </thead>\n  <tbody>\n    <tr>\n      <th>0</th>\n      <td>1</td>\n      <td>1A</td>\n      <td>1B</td>\n      <td>1A</td>\n      <td>2B</td>\n      <td>1A</td>\n      <td>1B</td>\n      <td>2A</td>\n      <td>1B</td>\n    </tr>\n    <tr>\n      <th>1</th>\n      <td>2</td>\n      <td>1A</td>\n      <td>1B</td>\n      <td>2A</td>\n      <td>2A</td>\n      <td>1A</td>\n      <td>1B</td>\n      <td>2A</td>\n      <td>1A</td>\n    </tr>\n    <tr>\n      <th>2</th>\n      <td>3</td>\n      <td>1A</td>\n      <td>1B</td>\n      <td>2A</td>\n      <td>3</td>\n      <td>1A</td>\n      <td>1B</td>\n      <td>2A</td>\n      <td>1A</td>\n    </tr>\n    <tr>\n      <th>3</th>\n      <td>4</td>\n      <td>1B</td>\n      <td>1B</td>\n      <td>2A</td>\n      <td>1A</td>\n      <td>1A</td>\n      <td>1B</td>\n      <td>2A</td>\n      <td>1A</td>\n    </tr>\n    <tr>\n      <th>4</th>\n      <td>5</td>\n      <td>1A</td>\n      <td>1B</td>\n      <td>1A</td>\n      <td>2B</td>\n      <td>1A</td>\n      <td>1B</td>\n      <td>2B</td>\n      <td>4</td>\n    </tr>\n    <tr>\n      <th>...</th>\n      <td>...</td>\n      <td>...</td>\n      <td>...</td>\n      <td>...</td>\n      <td>...</td>\n      <td>...</td>\n      <td>...</td>\n      <td>...</td>\n      <td>...</td>\n    </tr>\n    <tr>\n      <th>247</th>\n      <td>248</td>\n      <td>1A</td>\n      <td>1B</td>\n      <td>1A</td>\n      <td>1A</td>\n      <td>1A</td>\n      <td>1B</td>\n      <td>2A</td>\n      <td>1A</td>\n    </tr>\n    <tr>\n      <th>248</th>\n      <td>249</td>\n      <td>1A</td>\n      <td>1B</td>\n      <td>1A</td>\n      <td>2B</td>\n      <td>1A</td>\n      <td>1B</td>\n      <td>1B</td>\n      <td>1A</td>\n    </tr>\n    <tr>\n      <th>249</th>\n      <td>250</td>\n      <td>1A</td>\n      <td>1B</td>\n      <td>1A</td>\n      <td>2A</td>\n      <td>1A</td>\n      <td>1B</td>\n      <td>1B</td>\n      <td>1A</td>\n    </tr>\n    <tr>\n      <th>250</th>\n      <td>251</td>\n      <td>1A</td>\n      <td>1B</td>\n      <td>1A</td>\n      <td>2B</td>\n      <td>1A</td>\n      <td>1B</td>\n      <td>1B</td>\n      <td>2A</td>\n    </tr>\n    <tr>\n      <th>251</th>\n      <td>252</td>\n      <td>1A</td>\n      <td>1B</td>\n      <td>1A</td>\n      <td>2B</td>\n      <td>1A</td>\n      <td>1B</td>\n      <td>2A</td>\n      <td>1A</td>\n    </tr>\n  </tbody>\n</table>\n<p>252 rows × 9 columns</p>\n</div>"
     },
     "execution_count": 18,
     "metadata": {},
     "output_type": "execute_result"
    }
   ],
   "source": [
    "marco"
   ],
   "metadata": {
    "collapsed": false,
    "pycharm": {
     "name": "#%%\n"
    }
   }
  },
  {
   "cell_type": "code",
   "execution_count": 19,
   "outputs": [
    {
     "data": {
      "text/plain": "     Código IE Dimensión 1 Dimensión 2 Dimensión 3 Dimensión 4 Dimensión 5  \\\n241        242          1A          2A          2B          2A          1A   \n\n    Dimensión 6 Dimensión 7 Dimensión 8  \n241          1B          2A          1A  ",
      "text/html": "<div>\n<style scoped>\n    .dataframe tbody tr th:only-of-type {\n        vertical-align: middle;\n    }\n\n    .dataframe tbody tr th {\n        vertical-align: top;\n    }\n\n    .dataframe thead th {\n        text-align: right;\n    }\n</style>\n<table border=\"1\" class=\"dataframe\">\n  <thead>\n    <tr style=\"text-align: right;\">\n      <th></th>\n      <th>Código IE</th>\n      <th>Dimensión 1</th>\n      <th>Dimensión 2</th>\n      <th>Dimensión 3</th>\n      <th>Dimensión 4</th>\n      <th>Dimensión 5</th>\n      <th>Dimensión 6</th>\n      <th>Dimensión 7</th>\n      <th>Dimensión 8</th>\n    </tr>\n  </thead>\n  <tbody>\n    <tr>\n      <th>241</th>\n      <td>242</td>\n      <td>1A</td>\n      <td>2A</td>\n      <td>2B</td>\n      <td>2A</td>\n      <td>1A</td>\n      <td>1B</td>\n      <td>2A</td>\n      <td>1A</td>\n    </tr>\n  </tbody>\n</table>\n</div>"
     },
     "execution_count": 19,
     "metadata": {},
     "output_type": "execute_result"
    }
   ],
   "source": [
    "marco[marco['Código IE']==242]"
   ],
   "metadata": {
    "collapsed": false,
    "pycharm": {
     "name": "#%%\n"
    }
   }
  },
  {
   "cell_type": "code",
   "execution_count": 20,
   "outputs": [
    {
     "data": {
      "text/plain": "Empty DataFrame\nColumns: [Código IE, Dimensión 1, Dimensión 2, Dimensión 3, Dimensión 4, Dimensión 5, Dimensión 6, Dimensión 7, Dimensión 8]\nIndex: []",
      "text/html": "<div>\n<style scoped>\n    .dataframe tbody tr th:only-of-type {\n        vertical-align: middle;\n    }\n\n    .dataframe tbody tr th {\n        vertical-align: top;\n    }\n\n    .dataframe thead th {\n        text-align: right;\n    }\n</style>\n<table border=\"1\" class=\"dataframe\">\n  <thead>\n    <tr style=\"text-align: right;\">\n      <th></th>\n      <th>Código IE</th>\n      <th>Dimensión 1</th>\n      <th>Dimensión 2</th>\n      <th>Dimensión 3</th>\n      <th>Dimensión 4</th>\n      <th>Dimensión 5</th>\n      <th>Dimensión 6</th>\n      <th>Dimensión 7</th>\n      <th>Dimensión 8</th>\n    </tr>\n  </thead>\n  <tbody>\n  </tbody>\n</table>\n</div>"
     },
     "execution_count": 20,
     "metadata": {},
     "output_type": "execute_result"
    }
   ],
   "source": [
    "marco[marco['Dimensión 1']=='0']"
   ],
   "metadata": {
    "collapsed": false,
    "pycharm": {
     "name": "#%%\n"
    }
   }
  },
  {
   "cell_type": "code",
   "execution_count": 21,
   "outputs": [
    {
     "data": {
      "text/plain": "    Código IE Dimensión 1 Dimensión 2 Dimensión 3 Dimensión 4 Dimensión 5  \\\n0           1          1A          1B          1A          2B          1A   \n1           2          1A          1B          2A          2A          1A   \n2           3          1A          1B          2A           3          1A   \n3           4          1B          1B          2A          1A          1A   \n4           5          1A          1B          1A          2B          1A   \n..        ...         ...         ...         ...         ...         ...   \n248       249          1A          1B          1A          2B          1A   \n249       250          1A          1B          1A          2A          1A   \n250       251          1A          1B          1A          2B          1A   \n251       252          1A          1B          1A          2B          1A   \n0        Moda          1A          1B          1A          2A          1A   \n\n    Dimensión 6 Dimensión 7 Dimensión 8  \n0            1B          2A          1B  \n1            1B          2A          1A  \n2            1B          2A          1A  \n3            1B          2A          1A  \n4            1B          2B           4  \n..          ...         ...         ...  \n248          1B          1B          1A  \n249          1B          1B          1A  \n250          1B          1B          2A  \n251          1B          2A          1A  \n0            1B          2A          1A  \n\n[253 rows x 9 columns]",
      "text/html": "<div>\n<style scoped>\n    .dataframe tbody tr th:only-of-type {\n        vertical-align: middle;\n    }\n\n    .dataframe tbody tr th {\n        vertical-align: top;\n    }\n\n    .dataframe thead th {\n        text-align: right;\n    }\n</style>\n<table border=\"1\" class=\"dataframe\">\n  <thead>\n    <tr style=\"text-align: right;\">\n      <th></th>\n      <th>Código IE</th>\n      <th>Dimensión 1</th>\n      <th>Dimensión 2</th>\n      <th>Dimensión 3</th>\n      <th>Dimensión 4</th>\n      <th>Dimensión 5</th>\n      <th>Dimensión 6</th>\n      <th>Dimensión 7</th>\n      <th>Dimensión 8</th>\n    </tr>\n  </thead>\n  <tbody>\n    <tr>\n      <th>0</th>\n      <td>1</td>\n      <td>1A</td>\n      <td>1B</td>\n      <td>1A</td>\n      <td>2B</td>\n      <td>1A</td>\n      <td>1B</td>\n      <td>2A</td>\n      <td>1B</td>\n    </tr>\n    <tr>\n      <th>1</th>\n      <td>2</td>\n      <td>1A</td>\n      <td>1B</td>\n      <td>2A</td>\n      <td>2A</td>\n      <td>1A</td>\n      <td>1B</td>\n      <td>2A</td>\n      <td>1A</td>\n    </tr>\n    <tr>\n      <th>2</th>\n      <td>3</td>\n      <td>1A</td>\n      <td>1B</td>\n      <td>2A</td>\n      <td>3</td>\n      <td>1A</td>\n      <td>1B</td>\n      <td>2A</td>\n      <td>1A</td>\n    </tr>\n    <tr>\n      <th>3</th>\n      <td>4</td>\n      <td>1B</td>\n      <td>1B</td>\n      <td>2A</td>\n      <td>1A</td>\n      <td>1A</td>\n      <td>1B</td>\n      <td>2A</td>\n      <td>1A</td>\n    </tr>\n    <tr>\n      <th>4</th>\n      <td>5</td>\n      <td>1A</td>\n      <td>1B</td>\n      <td>1A</td>\n      <td>2B</td>\n      <td>1A</td>\n      <td>1B</td>\n      <td>2B</td>\n      <td>4</td>\n    </tr>\n    <tr>\n      <th>...</th>\n      <td>...</td>\n      <td>...</td>\n      <td>...</td>\n      <td>...</td>\n      <td>...</td>\n      <td>...</td>\n      <td>...</td>\n      <td>...</td>\n      <td>...</td>\n    </tr>\n    <tr>\n      <th>248</th>\n      <td>249</td>\n      <td>1A</td>\n      <td>1B</td>\n      <td>1A</td>\n      <td>2B</td>\n      <td>1A</td>\n      <td>1B</td>\n      <td>1B</td>\n      <td>1A</td>\n    </tr>\n    <tr>\n      <th>249</th>\n      <td>250</td>\n      <td>1A</td>\n      <td>1B</td>\n      <td>1A</td>\n      <td>2A</td>\n      <td>1A</td>\n      <td>1B</td>\n      <td>1B</td>\n      <td>1A</td>\n    </tr>\n    <tr>\n      <th>250</th>\n      <td>251</td>\n      <td>1A</td>\n      <td>1B</td>\n      <td>1A</td>\n      <td>2B</td>\n      <td>1A</td>\n      <td>1B</td>\n      <td>1B</td>\n      <td>2A</td>\n    </tr>\n    <tr>\n      <th>251</th>\n      <td>252</td>\n      <td>1A</td>\n      <td>1B</td>\n      <td>1A</td>\n      <td>2B</td>\n      <td>1A</td>\n      <td>1B</td>\n      <td>2A</td>\n      <td>1A</td>\n    </tr>\n    <tr>\n      <th>0</th>\n      <td>Moda</td>\n      <td>1A</td>\n      <td>1B</td>\n      <td>1A</td>\n      <td>2A</td>\n      <td>1A</td>\n      <td>1B</td>\n      <td>2A</td>\n      <td>1A</td>\n    </tr>\n  </tbody>\n</table>\n<p>253 rows × 9 columns</p>\n</div>"
     },
     "execution_count": 21,
     "metadata": {},
     "output_type": "execute_result"
    }
   ],
   "source": [
    "moda = marco.filter(regex='Dimen').mode(axis=0)\n",
    "moda['Código IE'] = 'Moda'\n",
    "marco = pd.concat([marco,moda])\n",
    "marco"
   ],
   "metadata": {
    "collapsed": false,
    "pycharm": {
     "name": "#%%\n"
    }
   }
  },
  {
   "cell_type": "code",
   "execution_count": 22,
   "outputs": [
    {
     "data": {
      "text/plain": "{'1A': 1, '1B': 2, '2A': 3, '2B': 4, '3': 5}"
     },
     "execution_count": 22,
     "metadata": {},
     "output_type": "execute_result"
    }
   ],
   "source": [
    "niveles_num = dict(zip(['1A','1B', '2A', '2B', '3', '4', '5'],list(range(1,6))))\n",
    "num_niveles = dict(zip(list(range(1,6)), ['1A','1B', '2A', '2B', '3', '4', '5']))\n",
    "niveles_num"
   ],
   "metadata": {
    "collapsed": false,
    "pycharm": {
     "name": "#%%\n"
    }
   }
  },
  {
   "cell_type": "code",
   "execution_count": 23,
   "outputs": [
    {
     "data": {
      "text/plain": "    Código IE  Dimensión 1  Dimensión 2 Dimensión 3 Dimensión 4 Dimensión 5  \\\n0           1            1            2           1           4           1   \n1           2            1            2           3           3           1   \n2           3            1            2           3           5           1   \n3           4            2            2           3           1           1   \n4           5            1            2           1           4           1   \n..        ...          ...          ...         ...         ...         ...   \n248       249            1            2           1           4           1   \n249       250            1            2           1           3           1   \n250       251            1            2           1           4           1   \n251       252            1            2           1           4           1   \n0        Moda            1            2           1           3           1   \n\n    Dimensión 6  Dimensión 7 Dimensión 8  \n0             2            3           2  \n1             2            3           1  \n2             2            3           1  \n3             2            3           1  \n4             2            4           4  \n..          ...          ...         ...  \n248           2            2           1  \n249           2            2           1  \n250           2            2           3  \n251           2            3           1  \n0             2            3           1  \n\n[253 rows x 9 columns]",
      "text/html": "<div>\n<style scoped>\n    .dataframe tbody tr th:only-of-type {\n        vertical-align: middle;\n    }\n\n    .dataframe tbody tr th {\n        vertical-align: top;\n    }\n\n    .dataframe thead th {\n        text-align: right;\n    }\n</style>\n<table border=\"1\" class=\"dataframe\">\n  <thead>\n    <tr style=\"text-align: right;\">\n      <th></th>\n      <th>Código IE</th>\n      <th>Dimensión 1</th>\n      <th>Dimensión 2</th>\n      <th>Dimensión 3</th>\n      <th>Dimensión 4</th>\n      <th>Dimensión 5</th>\n      <th>Dimensión 6</th>\n      <th>Dimensión 7</th>\n      <th>Dimensión 8</th>\n    </tr>\n  </thead>\n  <tbody>\n    <tr>\n      <th>0</th>\n      <td>1</td>\n      <td>1</td>\n      <td>2</td>\n      <td>1</td>\n      <td>4</td>\n      <td>1</td>\n      <td>2</td>\n      <td>3</td>\n      <td>2</td>\n    </tr>\n    <tr>\n      <th>1</th>\n      <td>2</td>\n      <td>1</td>\n      <td>2</td>\n      <td>3</td>\n      <td>3</td>\n      <td>1</td>\n      <td>2</td>\n      <td>3</td>\n      <td>1</td>\n    </tr>\n    <tr>\n      <th>2</th>\n      <td>3</td>\n      <td>1</td>\n      <td>2</td>\n      <td>3</td>\n      <td>5</td>\n      <td>1</td>\n      <td>2</td>\n      <td>3</td>\n      <td>1</td>\n    </tr>\n    <tr>\n      <th>3</th>\n      <td>4</td>\n      <td>2</td>\n      <td>2</td>\n      <td>3</td>\n      <td>1</td>\n      <td>1</td>\n      <td>2</td>\n      <td>3</td>\n      <td>1</td>\n    </tr>\n    <tr>\n      <th>4</th>\n      <td>5</td>\n      <td>1</td>\n      <td>2</td>\n      <td>1</td>\n      <td>4</td>\n      <td>1</td>\n      <td>2</td>\n      <td>4</td>\n      <td>4</td>\n    </tr>\n    <tr>\n      <th>...</th>\n      <td>...</td>\n      <td>...</td>\n      <td>...</td>\n      <td>...</td>\n      <td>...</td>\n      <td>...</td>\n      <td>...</td>\n      <td>...</td>\n      <td>...</td>\n    </tr>\n    <tr>\n      <th>248</th>\n      <td>249</td>\n      <td>1</td>\n      <td>2</td>\n      <td>1</td>\n      <td>4</td>\n      <td>1</td>\n      <td>2</td>\n      <td>2</td>\n      <td>1</td>\n    </tr>\n    <tr>\n      <th>249</th>\n      <td>250</td>\n      <td>1</td>\n      <td>2</td>\n      <td>1</td>\n      <td>3</td>\n      <td>1</td>\n      <td>2</td>\n      <td>2</td>\n      <td>1</td>\n    </tr>\n    <tr>\n      <th>250</th>\n      <td>251</td>\n      <td>1</td>\n      <td>2</td>\n      <td>1</td>\n      <td>4</td>\n      <td>1</td>\n      <td>2</td>\n      <td>2</td>\n      <td>3</td>\n    </tr>\n    <tr>\n      <th>251</th>\n      <td>252</td>\n      <td>1</td>\n      <td>2</td>\n      <td>1</td>\n      <td>4</td>\n      <td>1</td>\n      <td>2</td>\n      <td>3</td>\n      <td>1</td>\n    </tr>\n    <tr>\n      <th>0</th>\n      <td>Moda</td>\n      <td>1</td>\n      <td>2</td>\n      <td>1</td>\n      <td>3</td>\n      <td>1</td>\n      <td>2</td>\n      <td>3</td>\n      <td>1</td>\n    </tr>\n  </tbody>\n</table>\n<p>253 rows × 9 columns</p>\n</div>"
     },
     "execution_count": 23,
     "metadata": {},
     "output_type": "execute_result"
    }
   ],
   "source": [
    "marco_num = marco.replace(niveles_num)\n",
    "marco_num"
   ],
   "metadata": {
    "collapsed": false,
    "pycharm": {
     "name": "#%%\n"
    }
   }
  },
  {
   "cell_type": "code",
   "execution_count": 24,
   "outputs": [
    {
     "data": {
      "text/plain": "  Dimensión 1 Dimensión 2 Dimensión 3 Dimensión 4 Dimensión 5 Dimensión 6  \\\n0          1A          1B          1B          2A          1A          1B   \n\n  Dimensión 7 Dimensión 8 Código IE  \n0          2A          1A  Promedio  ",
      "text/html": "<div>\n<style scoped>\n    .dataframe tbody tr th:only-of-type {\n        vertical-align: middle;\n    }\n\n    .dataframe tbody tr th {\n        vertical-align: top;\n    }\n\n    .dataframe thead th {\n        text-align: right;\n    }\n</style>\n<table border=\"1\" class=\"dataframe\">\n  <thead>\n    <tr style=\"text-align: right;\">\n      <th></th>\n      <th>Dimensión 1</th>\n      <th>Dimensión 2</th>\n      <th>Dimensión 3</th>\n      <th>Dimensión 4</th>\n      <th>Dimensión 5</th>\n      <th>Dimensión 6</th>\n      <th>Dimensión 7</th>\n      <th>Dimensión 8</th>\n      <th>Código IE</th>\n    </tr>\n  </thead>\n  <tbody>\n    <tr>\n      <th>0</th>\n      <td>1A</td>\n      <td>1B</td>\n      <td>1B</td>\n      <td>2A</td>\n      <td>1A</td>\n      <td>1B</td>\n      <td>2A</td>\n      <td>1A</td>\n      <td>Promedio</td>\n    </tr>\n  </tbody>\n</table>\n</div>"
     },
     "execution_count": 24,
     "metadata": {},
     "output_type": "execute_result"
    }
   ],
   "source": [
    "media = round(marco_num.filter(regex='Dimen*').astype(int).mean())\n",
    "media['Código IE'] = 'Promedio'\n",
    "media = media.replace(num_niveles)\n",
    "media = pd.DataFrame(media)\n",
    "media.T"
   ],
   "metadata": {
    "collapsed": false,
    "pycharm": {
     "name": "#%%\n"
    }
   }
  },
  {
   "cell_type": "code",
   "execution_count": 25,
   "outputs": [
    {
     "data": {
      "text/plain": "    Código IE Dimensión 1 Dimensión 2 Dimensión 3 Dimensión 4 Dimensión 5  \\\n0           1          1A          1B          1A          2B          1A   \n1           2          1A          1B          2A          2A          1A   \n2           3          1A          1B          2A           3          1A   \n3           4          1B          1B          2A          1A          1A   \n4           5          1A          1B          1A          2B          1A   \n..        ...         ...         ...         ...         ...         ...   \n249       250          1A          1B          1A          2A          1A   \n250       251          1A          1B          1A          2B          1A   \n251       252          1A          1B          1A          2B          1A   \n0        Moda          1A          1B          1A          2A          1A   \n0    Promedio          1A          1B          1B          2A          1A   \n\n    Dimensión 6 Dimensión 7 Dimensión 8  \n0            1B          2A          1B  \n1            1B          2A          1A  \n2            1B          2A          1A  \n3            1B          2A          1A  \n4            1B          2B           4  \n..          ...         ...         ...  \n249          1B          1B          1A  \n250          1B          1B          2A  \n251          1B          2A          1A  \n0            1B          2A          1A  \n0            1B          2A          1A  \n\n[254 rows x 9 columns]",
      "text/html": "<div>\n<style scoped>\n    .dataframe tbody tr th:only-of-type {\n        vertical-align: middle;\n    }\n\n    .dataframe tbody tr th {\n        vertical-align: top;\n    }\n\n    .dataframe thead th {\n        text-align: right;\n    }\n</style>\n<table border=\"1\" class=\"dataframe\">\n  <thead>\n    <tr style=\"text-align: right;\">\n      <th></th>\n      <th>Código IE</th>\n      <th>Dimensión 1</th>\n      <th>Dimensión 2</th>\n      <th>Dimensión 3</th>\n      <th>Dimensión 4</th>\n      <th>Dimensión 5</th>\n      <th>Dimensión 6</th>\n      <th>Dimensión 7</th>\n      <th>Dimensión 8</th>\n    </tr>\n  </thead>\n  <tbody>\n    <tr>\n      <th>0</th>\n      <td>1</td>\n      <td>1A</td>\n      <td>1B</td>\n      <td>1A</td>\n      <td>2B</td>\n      <td>1A</td>\n      <td>1B</td>\n      <td>2A</td>\n      <td>1B</td>\n    </tr>\n    <tr>\n      <th>1</th>\n      <td>2</td>\n      <td>1A</td>\n      <td>1B</td>\n      <td>2A</td>\n      <td>2A</td>\n      <td>1A</td>\n      <td>1B</td>\n      <td>2A</td>\n      <td>1A</td>\n    </tr>\n    <tr>\n      <th>2</th>\n      <td>3</td>\n      <td>1A</td>\n      <td>1B</td>\n      <td>2A</td>\n      <td>3</td>\n      <td>1A</td>\n      <td>1B</td>\n      <td>2A</td>\n      <td>1A</td>\n    </tr>\n    <tr>\n      <th>3</th>\n      <td>4</td>\n      <td>1B</td>\n      <td>1B</td>\n      <td>2A</td>\n      <td>1A</td>\n      <td>1A</td>\n      <td>1B</td>\n      <td>2A</td>\n      <td>1A</td>\n    </tr>\n    <tr>\n      <th>4</th>\n      <td>5</td>\n      <td>1A</td>\n      <td>1B</td>\n      <td>1A</td>\n      <td>2B</td>\n      <td>1A</td>\n      <td>1B</td>\n      <td>2B</td>\n      <td>4</td>\n    </tr>\n    <tr>\n      <th>...</th>\n      <td>...</td>\n      <td>...</td>\n      <td>...</td>\n      <td>...</td>\n      <td>...</td>\n      <td>...</td>\n      <td>...</td>\n      <td>...</td>\n      <td>...</td>\n    </tr>\n    <tr>\n      <th>249</th>\n      <td>250</td>\n      <td>1A</td>\n      <td>1B</td>\n      <td>1A</td>\n      <td>2A</td>\n      <td>1A</td>\n      <td>1B</td>\n      <td>1B</td>\n      <td>1A</td>\n    </tr>\n    <tr>\n      <th>250</th>\n      <td>251</td>\n      <td>1A</td>\n      <td>1B</td>\n      <td>1A</td>\n      <td>2B</td>\n      <td>1A</td>\n      <td>1B</td>\n      <td>1B</td>\n      <td>2A</td>\n    </tr>\n    <tr>\n      <th>251</th>\n      <td>252</td>\n      <td>1A</td>\n      <td>1B</td>\n      <td>1A</td>\n      <td>2B</td>\n      <td>1A</td>\n      <td>1B</td>\n      <td>2A</td>\n      <td>1A</td>\n    </tr>\n    <tr>\n      <th>0</th>\n      <td>Moda</td>\n      <td>1A</td>\n      <td>1B</td>\n      <td>1A</td>\n      <td>2A</td>\n      <td>1A</td>\n      <td>1B</td>\n      <td>2A</td>\n      <td>1A</td>\n    </tr>\n    <tr>\n      <th>0</th>\n      <td>Promedio</td>\n      <td>1A</td>\n      <td>1B</td>\n      <td>1B</td>\n      <td>2A</td>\n      <td>1A</td>\n      <td>1B</td>\n      <td>2A</td>\n      <td>1A</td>\n    </tr>\n  </tbody>\n</table>\n<p>254 rows × 9 columns</p>\n</div>"
     },
     "execution_count": 25,
     "metadata": {},
     "output_type": "execute_result"
    }
   ],
   "source": [
    "\n",
    "marco = pd.concat([marco,media.T])\n",
    "\n",
    "marco"
   ],
   "metadata": {
    "collapsed": false,
    "pycharm": {
     "name": "#%%\n"
    }
   }
  },
  {
   "cell_type": "code",
   "execution_count": 26,
   "outputs": [],
   "source": [
    "marco.to_excel('Marco acumulativo.xlsx', index=False)"
   ],
   "metadata": {
    "collapsed": false,
    "pycharm": {
     "name": "#%%\n"
    }
   }
  },
  {
   "cell_type": "code",
   "execution_count": null,
   "outputs": [],
   "source": [],
   "metadata": {
    "collapsed": false,
    "pycharm": {
     "name": "#%%\n"
    }
   }
  }
 ],
 "metadata": {
  "kernelspec": {
   "display_name": "Python 3",
   "language": "python",
   "name": "python3"
  },
  "language_info": {
   "codemirror_mode": {
    "name": "ipython",
    "version": 2
   },
   "file_extension": ".py",
   "mimetype": "text/x-python",
   "name": "python",
   "nbconvert_exporter": "python",
   "pygments_lexer": "ipython2",
   "version": "2.7.6"
  }
 },
 "nbformat": 4,
 "nbformat_minor": 0
}