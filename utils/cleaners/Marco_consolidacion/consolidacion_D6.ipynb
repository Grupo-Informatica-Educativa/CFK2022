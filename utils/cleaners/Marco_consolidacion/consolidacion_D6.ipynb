{
 "cells": [
  {
   "cell_type": "code",
   "execution_count": 2,
   "outputs": [],
   "source": [
    "import pandas as pd\n",
    "import pathlib\n"
   ],
   "metadata": {
    "collapsed": false,
    "pycharm": {
     "name": "#%%\n"
    }
   }
  },
  {
   "cell_type": "code",
   "execution_count": 3,
   "outputs": [],
   "source": [
    "from pandas.api.types import CategoricalDtype\n",
    "cat_type = CategoricalDtype(categories=['0', '1A', '1B', '2A', '2B', '3','4', '5'],\n",
    "               ordered=True)"
   ],
   "metadata": {
    "collapsed": false,
    "pycharm": {
     "name": "#%%\n"
    }
   }
  },
  {
   "cell_type": "markdown",
   "source": [
    "## Educación terciaria: Dimensión 6\n",
    "#### Directivos"
   ],
   "metadata": {
    "collapsed": false,
    "pycharm": {
     "name": "#%% md\n"
    }
   }
  },
  {
   "cell_type": "code",
   "source": [
    "ruta_git = pathlib.Path().cwd().parent.parent.parent"
   ],
   "metadata": {
    "collapsed": false,
    "pycharm": {
     "name": "#%%\n"
    }
   },
   "execution_count": 4,
   "outputs": []
  },
  {
   "cell_type": "code",
   "execution_count": 5,
   "outputs": [
    {
     "name": "stdout",
     "output_type": "stream",
     "text": [
      "(661, 42)\n"
     ]
    }
   ],
   "source": [
    "dir = pd.read_excel(ruta_git/'data/descargables/DirectivosCFK.xlsx')\n",
    "\n",
    "print(dir.shape)"
   ],
   "metadata": {
    "collapsed": false,
    "pycharm": {
     "name": "#%%\n"
    }
   }
  },
  {
   "cell_type": "code",
   "execution_count": 6,
   "outputs": [
    {
     "data": {
      "text/plain": "['N registro',\n 'Instrumento',\n 'Fecha',\n 'Política de datos',\n 'ID',\n 'Edad',\n 'Sexo',\n 'Cabeza de hogar',\n 'Estado civil',\n 'Líder comunitario',\n 'Formación STEM',\n 'Rol en IE',\n '¿En su institución hay estudiantes con algún tipo de discapacidad?',\n 'Estudiantes  con discapacidad intelectual',\n 'Estudiantes con Discapacidad física o motora',\n 'Estudiantes con Discapacidad auditiva',\n 'Estudiantes con Discapacidad visual',\n 'Estudiantes con Discapacidad psicosocial',\n 'Estudiantes con Discapacidad múltiple',\n 'Estudiante con Trastornos Específicos del Aprendizaje',\n 'Considera importante enseñar el pensamiento computacional desde los primeros niveles educativos',\n 'Conceptos que deben incluirse en la clase de tecnología e informática',\n 'Comentarios autorreporte',\n '1.1 Los maestros de esta Institución educativa incorporan el pensamiento computacional en sus clases',\n '1.2 Los esfuerzos de los maestros para enseñar conceptos de pensamiento computacional son muy valorados en esta institución educativa',\n '1.3 Animo a los maestros de otras disciplinas a asistir a oportunidades de desarrollo profesional enfocadas en pensamiento computacional.',\n '1.4 Hay alguien en mi colegio que puede asesorar a los estudiantes sobre los caminos hacia una carrera en STEM',\n '1.5 En los próximos tres años, espero que la cantidad de oportunidades para aprender sobre pensamiento computacional en este colegio aumenten',\n '1.6 Es extremadamente importante que todos los estudiantes aprendan pensamiento computacional.',\n '1.7 Tener educación en pensamiento computacional mejoraría significativamente las futuras opciones de carrera para los estudiantes de mi escuela.',\n '1.8 El pensamiento computacional se utiliza en muchos tipos diferentes de trabajos.',\n '1.9 Ofrecer oportunidades para aprender de pensamiento computacional tiene el mismo valor o más para el éxito futuro de un estudiante que otros cursos obligatorios como matemáticas, biología, ciencias sociales, historia e inglés',\n '1.10 Conozco y puedo recomendar a mis estudiantes diferentes programas de formación relacionadas al pensamiento computacional y/o ciencias de la computación',\n '1.11 Los estudiantes reciben asesoría vocacional sobre alternativas u oportunidades relacionadas a carreras STEM',\n '1.12 Informo a mis estudiantes sobre oportunidades que existen para continuar los estudios en áreas relacionadas al pensamiento computacional y/o ciencias de la computación',\n 'Comentarios autodiagnóstico',\n 'Actividades que se promueven en esta institución educativa para apoyar la formación docente enfocadas en pensamiento computacional',\n '¿La rotación de los docentes de tecnología e informática influye sobre la calidad y el aprendizaje del área de los estudiantes en los diferentes grados?',\n 'Código IE',\n 'Tipo de ID',\n 'Número de estudiantes matriculados',\n 'Número de docentes que laboran']"
     },
     "execution_count": 6,
     "metadata": {},
     "output_type": "execute_result"
    }
   ],
   "source": [
    "dir.columns.tolist()"
   ],
   "metadata": {
    "collapsed": false,
    "pycharm": {
     "name": "#%%\n"
    }
   }
  },
  {
   "cell_type": "code",
   "execution_count": 87,
   "outputs": [
    {
     "data": {
      "text/plain": "array(['Sí', 'No'], dtype=object)"
     },
     "execution_count": 87,
     "metadata": {},
     "output_type": "execute_result"
    }
   ],
   "source": [
    "dir['1.9 Ofrecer oportunidades para aprender de pensamiento computacional tiene el mismo valor o más para el éxito futuro de un estudiante que otros cursos obligatorios como matemáticas, biología, ciencias sociales, historia e inglés'].unique()"
   ],
   "metadata": {
    "collapsed": false,
    "pycharm": {
     "name": "#%%\n"
    }
   }
  },
  {
   "cell_type": "code",
   "execution_count": 7,
   "outputs": [],
   "source": [
    "cols_dir_d6 = {\n",
    "    '1.8 El pensamiento computacional se utiliza en muchos tipos diferentes de trabajos.': {\n",
    "        \"Sí\":\"5\",\"No\": \"1B\"   },\n",
    "    'Considera importante enseñar el pensamiento computacional desde los primeros niveles educativos': {\n",
    "        \"Importante para todas las áreas y niveles\":\"5\",\n",
    "        \"Algo importante, pero solo para los docentes de tecnología\": \"3\",\n",
    "        \"Poco importante, solo es relevante para los niveles superiores\":\"3\",\n",
    "        \"No sé qué es el pensamiento computacional.\":\"1A\"},\n",
    "       '1.10 Conozco y puedo recomendar a mis estudiantes diferentes programas de formación relacionadas al pensamiento computacional y/o ciencias de la computación': {\n",
    "       \"Sí\":\"5\",\"No\":\"1B\" },\n",
    "    '1.11 Los estudiantes reciben asesoría vocacional sobre alternativas u oportunidades relacionadas a carreras STEM':{\n",
    "       \"Sí\":\"5\",\"No\":\"1B\" },\n",
    "    '1.7 Tener educación en pensamiento computacional mejoraría significativamente las futuras opciones de carrera para los estudiantes de mi escuela.':{\n",
    "       \"Sí\":\"5\",\"No\":\"1B\" },\n",
    "    '1.12 Informo a mis estudiantes sobre oportunidades que existen para continuar los estudios en áreas relacionadas al pensamiento computacional y/o ciencias de la computación':{\n",
    "       \"Sí\":\"5\",\"No\":\"2A\" },\n",
    "    '1.4 Hay alguien en mi colegio que puede asesorar a los estudiantes sobre los caminos hacia una carrera en STEM':{\n",
    "       \"Sí\":\"5\",\"No\":\"2A\" },\n",
    "    '1.6 Es extremadamente importante que todos los estudiantes aprendan pensamiento computacional.':{\n",
    "       \"Sí\":\"5\",\"No\":\"4\" },\n",
    "    '1.9 Ofrecer oportunidades para aprender de pensamiento computacional tiene el mismo valor o más para el éxito futuro de un estudiante que otros cursos obligatorios como matemáticas, biología, ciencias sociales, historia e inglés':{\n",
    "       \"Sí\":\"5\",\"No\":\"4\" }\n",
    "\n",
    "}"
   ],
   "metadata": {
    "collapsed": false,
    "pycharm": {
     "name": "#%%\n"
    }
   }
  },
  {
   "cell_type": "code",
   "execution_count": 8,
   "outputs": [
    {
     "data": {
      "text/plain": "     Código IE  \\\n0            1   \n1            2   \n2            3   \n3            4   \n4            5   \n..         ...   \n243        248   \n244        249   \n245        250   \n246        251   \n247        252   \n\n    1.8 El pensamiento computacional se utiliza en muchos tipos diferentes de trabajos.  \\\n0                                                    5                                    \n1                                                    5                                    \n2                                                   1B                                    \n3                                                    5                                    \n4                                                    5                                    \n..                                                 ...                                    \n243                                                  5                                    \n244                                                  5                                    \n245                                                  5                                    \n246                                                  5                                    \n247                                                  5                                    \n\n    Considera importante enseñar el pensamiento computacional desde los primeros niveles educativos  \\\n0                                                    5                                                \n1                                                    5                                                \n2                                                    5                                                \n3                                                    5                                                \n4                                                    5                                                \n..                                                 ...                                                \n243                                                  5                                                \n244                                                  5                                                \n245                                                  5                                                \n246                                                  5                                                \n247                                                  5                                                \n\n    1.10 Conozco y puedo recomendar a mis estudiantes diferentes programas de formación relacionadas al pensamiento computacional y/o ciencias de la computación  \\\n0                                                    5                                                                                                             \n1                                                    5                                                                                                             \n2                                                   1B                                                                                                             \n3                                                   1B                                                                                                             \n4                                                    5                                                                                                             \n..                                                 ...                                                                                                             \n243                                                  5                                                                                                             \n244                                                 1B                                                                                                             \n245                                                 1B                                                                                                             \n246                                                 1B                                                                                                             \n247                                                  5                                                                                                             \n\n    1.11 Los estudiantes reciben asesoría vocacional sobre alternativas u oportunidades relacionadas a carreras STEM  \\\n0                                                   1B                                                                 \n1                                                    5                                                                 \n2                                                    5                                                                 \n3                                                   1B                                                                 \n4                                                    5                                                                 \n..                                                 ...                                                                 \n243                                                 1B                                                                 \n244                                                 1B                                                                 \n245                                                 1B                                                                 \n246                                                  5                                                                 \n247                                                  5                                                                 \n\n    1.7 Tener educación en pensamiento computacional mejoraría significativamente las futuras opciones de carrera para los estudiantes de mi escuela.  \\\n0                                                    5                                                                                                  \n1                                                    5                                                                                                  \n2                                                    5                                                                                                  \n3                                                    5                                                                                                  \n4                                                    5                                                                                                  \n..                                                 ...                                                                                                  \n243                                                  5                                                                                                  \n244                                                  5                                                                                                  \n245                                                  5                                                                                                  \n246                                                  5                                                                                                  \n247                                                  5                                                                                                  \n\n    1.12 Informo a mis estudiantes sobre oportunidades que existen para continuar los estudios en áreas relacionadas al pensamiento computacional y/o ciencias de la computación  \\\n0                                                    5                                                                                                                             \n1                                                    5                                                                                                                             \n2                                                    5                                                                                                                             \n3                                                   2A                                                                                                                             \n4                                                    5                                                                                                                             \n..                                                 ...                                                                                                                             \n243                                                  5                                                                                                                             \n244                                                 2A                                                                                                                             \n245                                                  5                                                                                                                             \n246                                                 2A                                                                                                                             \n247                                                  5                                                                                                                             \n\n    1.4 Hay alguien en mi colegio que puede asesorar a los estudiantes sobre los caminos hacia una carrera en STEM  \\\n0                                                   2A                                                               \n1                                                    5                                                               \n2                                                    5                                                               \n3                                                   2A                                                               \n4                                                    5                                                               \n..                                                 ...                                                               \n243                                                  5                                                               \n244                                                 2A                                                               \n245                                                 2A                                                               \n246                                                  5                                                               \n247                                                  5                                                               \n\n    1.6 Es extremadamente importante que todos los estudiantes aprendan pensamiento computacional.  \\\n0                                                    5                                               \n1                                                    5                                               \n2                                                    5                                               \n3                                                    5                                               \n4                                                    5                                               \n..                                                 ...                                               \n243                                                  5                                               \n244                                                  4                                               \n245                                                  5                                               \n246                                                  5                                               \n247                                                  5                                               \n\n    1.9 Ofrecer oportunidades para aprender de pensamiento computacional tiene el mismo valor o más para el éxito futuro de un estudiante que otros cursos obligatorios como matemáticas, biología, ciencias sociales, historia e inglés  \n0                                                    4                                                                                                                                                                                    \n1                                                    5                                                                                                                                                                                    \n2                                                    4                                                                                                                                                                                    \n3                                                    4                                                                                                                                                                                    \n4                                                    5                                                                                                                                                                                    \n..                                                 ...                                                                                                                                                                                    \n243                                                  5                                                                                                                                                                                    \n244                                                  5                                                                                                                                                                                    \n245                                                  5                                                                                                                                                                                    \n246                                                  5                                                                                                                                                                                    \n247                                                  5                                                                                                                                                                                    \n\n[248 rows x 10 columns]",
      "text/html": "<div>\n<style scoped>\n    .dataframe tbody tr th:only-of-type {\n        vertical-align: middle;\n    }\n\n    .dataframe tbody tr th {\n        vertical-align: top;\n    }\n\n    .dataframe thead th {\n        text-align: right;\n    }\n</style>\n<table border=\"1\" class=\"dataframe\">\n  <thead>\n    <tr style=\"text-align: right;\">\n      <th></th>\n      <th>Código IE</th>\n      <th>1.8 El pensamiento computacional se utiliza en muchos tipos diferentes de trabajos.</th>\n      <th>Considera importante enseñar el pensamiento computacional desde los primeros niveles educativos</th>\n      <th>1.10 Conozco y puedo recomendar a mis estudiantes diferentes programas de formación relacionadas al pensamiento computacional y/o ciencias de la computación</th>\n      <th>1.11 Los estudiantes reciben asesoría vocacional sobre alternativas u oportunidades relacionadas a carreras STEM</th>\n      <th>1.7 Tener educación en pensamiento computacional mejoraría significativamente las futuras opciones de carrera para los estudiantes de mi escuela.</th>\n      <th>1.12 Informo a mis estudiantes sobre oportunidades que existen para continuar los estudios en áreas relacionadas al pensamiento computacional y/o ciencias de la computación</th>\n      <th>1.4 Hay alguien en mi colegio que puede asesorar a los estudiantes sobre los caminos hacia una carrera en STEM</th>\n      <th>1.6 Es extremadamente importante que todos los estudiantes aprendan pensamiento computacional.</th>\n      <th>1.9 Ofrecer oportunidades para aprender de pensamiento computacional tiene el mismo valor o más para el éxito futuro de un estudiante que otros cursos obligatorios como matemáticas, biología, ciencias sociales, historia e inglés</th>\n    </tr>\n  </thead>\n  <tbody>\n    <tr>\n      <th>0</th>\n      <td>1</td>\n      <td>5</td>\n      <td>5</td>\n      <td>5</td>\n      <td>1B</td>\n      <td>5</td>\n      <td>5</td>\n      <td>2A</td>\n      <td>5</td>\n      <td>4</td>\n    </tr>\n    <tr>\n      <th>1</th>\n      <td>2</td>\n      <td>5</td>\n      <td>5</td>\n      <td>5</td>\n      <td>5</td>\n      <td>5</td>\n      <td>5</td>\n      <td>5</td>\n      <td>5</td>\n      <td>5</td>\n    </tr>\n    <tr>\n      <th>2</th>\n      <td>3</td>\n      <td>1B</td>\n      <td>5</td>\n      <td>1B</td>\n      <td>5</td>\n      <td>5</td>\n      <td>5</td>\n      <td>5</td>\n      <td>5</td>\n      <td>4</td>\n    </tr>\n    <tr>\n      <th>3</th>\n      <td>4</td>\n      <td>5</td>\n      <td>5</td>\n      <td>1B</td>\n      <td>1B</td>\n      <td>5</td>\n      <td>2A</td>\n      <td>2A</td>\n      <td>5</td>\n      <td>4</td>\n    </tr>\n    <tr>\n      <th>4</th>\n      <td>5</td>\n      <td>5</td>\n      <td>5</td>\n      <td>5</td>\n      <td>5</td>\n      <td>5</td>\n      <td>5</td>\n      <td>5</td>\n      <td>5</td>\n      <td>5</td>\n    </tr>\n    <tr>\n      <th>...</th>\n      <td>...</td>\n      <td>...</td>\n      <td>...</td>\n      <td>...</td>\n      <td>...</td>\n      <td>...</td>\n      <td>...</td>\n      <td>...</td>\n      <td>...</td>\n      <td>...</td>\n    </tr>\n    <tr>\n      <th>243</th>\n      <td>248</td>\n      <td>5</td>\n      <td>5</td>\n      <td>5</td>\n      <td>1B</td>\n      <td>5</td>\n      <td>5</td>\n      <td>5</td>\n      <td>5</td>\n      <td>5</td>\n    </tr>\n    <tr>\n      <th>244</th>\n      <td>249</td>\n      <td>5</td>\n      <td>5</td>\n      <td>1B</td>\n      <td>1B</td>\n      <td>5</td>\n      <td>2A</td>\n      <td>2A</td>\n      <td>4</td>\n      <td>5</td>\n    </tr>\n    <tr>\n      <th>245</th>\n      <td>250</td>\n      <td>5</td>\n      <td>5</td>\n      <td>1B</td>\n      <td>1B</td>\n      <td>5</td>\n      <td>5</td>\n      <td>2A</td>\n      <td>5</td>\n      <td>5</td>\n    </tr>\n    <tr>\n      <th>246</th>\n      <td>251</td>\n      <td>5</td>\n      <td>5</td>\n      <td>1B</td>\n      <td>5</td>\n      <td>5</td>\n      <td>2A</td>\n      <td>5</td>\n      <td>5</td>\n      <td>5</td>\n    </tr>\n    <tr>\n      <th>247</th>\n      <td>252</td>\n      <td>5</td>\n      <td>5</td>\n      <td>5</td>\n      <td>5</td>\n      <td>5</td>\n      <td>5</td>\n      <td>5</td>\n      <td>5</td>\n      <td>5</td>\n    </tr>\n  </tbody>\n</table>\n<p>248 rows × 10 columns</p>\n</div>"
     },
     "execution_count": 8,
     "metadata": {},
     "output_type": "execute_result"
    }
   ],
   "source": [
    "dir_d6 = dir[['Código IE']+list(cols_dir_d6.keys())]\n",
    "dir_d6 = dir_d6.replace(cols_dir_d6)\n",
    "dir_d6 = dir_d6.groupby('Código IE').min().reset_index()\n",
    "dir_d6"
   ],
   "metadata": {
    "collapsed": false,
    "pycharm": {
     "name": "#%%\n"
    }
   }
  },
  {
   "cell_type": "code",
   "execution_count": 9,
   "outputs": [
    {
     "data": {
      "text/plain": "          1.8 El pensamiento computacional se utiliza en muchos tipos diferentes de trabajos.  \\\nCódigo IE                                                                                       \n1                                                          5                                    \n2                                                          5                                    \n3                                                         1B                                    \n4                                                          5                                    \n5                                                          5                                    \n...                                                      ...                                    \n248                                                        5                                    \n249                                                        5                                    \n250                                                        5                                    \n251                                                        5                                    \n252                                                        5                                    \n\n          Considera importante enseñar el pensamiento computacional desde los primeros niveles educativos  \\\nCódigo IE                                                                                                   \n1                                                          5                                                \n2                                                          5                                                \n3                                                          5                                                \n4                                                          5                                                \n5                                                          5                                                \n...                                                      ...                                                \n248                                                        5                                                \n249                                                        5                                                \n250                                                        5                                                \n251                                                        5                                                \n252                                                        5                                                \n\n          1.10 Conozco y puedo recomendar a mis estudiantes diferentes programas de formación relacionadas al pensamiento computacional y/o ciencias de la computación  \\\nCódigo IE                                                                                                                                                                \n1                                                          5                                                                                                             \n2                                                          5                                                                                                             \n3                                                         1B                                                                                                             \n4                                                         1B                                                                                                             \n5                                                          5                                                                                                             \n...                                                      ...                                                                                                             \n248                                                        5                                                                                                             \n249                                                       1B                                                                                                             \n250                                                       1B                                                                                                             \n251                                                       1B                                                                                                             \n252                                                        5                                                                                                             \n\n          1.11 Los estudiantes reciben asesoría vocacional sobre alternativas u oportunidades relacionadas a carreras STEM  \\\nCódigo IE                                                                                                                    \n1                                                         1B                                                                 \n2                                                          5                                                                 \n3                                                          5                                                                 \n4                                                         1B                                                                 \n5                                                          5                                                                 \n...                                                      ...                                                                 \n248                                                       1B                                                                 \n249                                                       1B                                                                 \n250                                                       1B                                                                 \n251                                                        5                                                                 \n252                                                        5                                                                 \n\n          1.7 Tener educación en pensamiento computacional mejoraría significativamente las futuras opciones de carrera para los estudiantes de mi escuela.  \\\nCódigo IE                                                                                                                                                     \n1                                                          5                                                                                                  \n2                                                          5                                                                                                  \n3                                                          5                                                                                                  \n4                                                          5                                                                                                  \n5                                                          5                                                                                                  \n...                                                      ...                                                                                                  \n248                                                        5                                                                                                  \n249                                                        5                                                                                                  \n250                                                        5                                                                                                  \n251                                                        5                                                                                                  \n252                                                        5                                                                                                  \n\n          1.12 Informo a mis estudiantes sobre oportunidades que existen para continuar los estudios en áreas relacionadas al pensamiento computacional y/o ciencias de la computación  \\\nCódigo IE                                                                                                                                                                                \n1                                                          5                                                                                                                             \n2                                                          5                                                                                                                             \n3                                                          5                                                                                                                             \n4                                                         2A                                                                                                                             \n5                                                          5                                                                                                                             \n...                                                      ...                                                                                                                             \n248                                                        5                                                                                                                             \n249                                                       2A                                                                                                                             \n250                                                        5                                                                                                                             \n251                                                       2A                                                                                                                             \n252                                                        5                                                                                                                             \n\n          1.4 Hay alguien en mi colegio que puede asesorar a los estudiantes sobre los caminos hacia una carrera en STEM  \\\nCódigo IE                                                                                                                  \n1                                                         2A                                                               \n2                                                          5                                                               \n3                                                          5                                                               \n4                                                         2A                                                               \n5                                                          5                                                               \n...                                                      ...                                                               \n248                                                        5                                                               \n249                                                       2A                                                               \n250                                                       2A                                                               \n251                                                        5                                                               \n252                                                        5                                                               \n\n          1.6 Es extremadamente importante que todos los estudiantes aprendan pensamiento computacional.  \\\nCódigo IE                                                                                                  \n1                                                          5                                               \n2                                                          5                                               \n3                                                          5                                               \n4                                                          5                                               \n5                                                          5                                               \n...                                                      ...                                               \n248                                                        5                                               \n249                                                        4                                               \n250                                                        5                                               \n251                                                        5                                               \n252                                                        5                                               \n\n          1.9 Ofrecer oportunidades para aprender de pensamiento computacional tiene el mismo valor o más para el éxito futuro de un estudiante que otros cursos obligatorios como matemáticas, biología, ciencias sociales, historia e inglés  \\\nCódigo IE                                                                                                                                                                                                                                        \n1                                                          4                                                                                                                                                                                     \n2                                                          5                                                                                                                                                                                     \n3                                                          4                                                                                                                                                                                     \n4                                                          4                                                                                                                                                                                     \n5                                                          5                                                                                                                                                                                     \n...                                                      ...                                                                                                                                                                                     \n248                                                        5                                                                                                                                                                                     \n249                                                        5                                                                                                                                                                                     \n250                                                        5                                                                                                                                                                                     \n251                                                        5                                                                                                                                                                                     \n252                                                        5                                                                                                                                                                                     \n\n          Nivel Directivos  \nCódigo IE                   \n1                       1B  \n2                        5  \n3                       1B  \n4                       1B  \n5                        5  \n...                    ...  \n248                     1B  \n249                     1B  \n250                     1B  \n251                     1B  \n252                      5  \n\n[248 rows x 10 columns]",
      "text/html": "<div>\n<style scoped>\n    .dataframe tbody tr th:only-of-type {\n        vertical-align: middle;\n    }\n\n    .dataframe tbody tr th {\n        vertical-align: top;\n    }\n\n    .dataframe thead th {\n        text-align: right;\n    }\n</style>\n<table border=\"1\" class=\"dataframe\">\n  <thead>\n    <tr style=\"text-align: right;\">\n      <th></th>\n      <th>1.8 El pensamiento computacional se utiliza en muchos tipos diferentes de trabajos.</th>\n      <th>Considera importante enseñar el pensamiento computacional desde los primeros niveles educativos</th>\n      <th>1.10 Conozco y puedo recomendar a mis estudiantes diferentes programas de formación relacionadas al pensamiento computacional y/o ciencias de la computación</th>\n      <th>1.11 Los estudiantes reciben asesoría vocacional sobre alternativas u oportunidades relacionadas a carreras STEM</th>\n      <th>1.7 Tener educación en pensamiento computacional mejoraría significativamente las futuras opciones de carrera para los estudiantes de mi escuela.</th>\n      <th>1.12 Informo a mis estudiantes sobre oportunidades que existen para continuar los estudios en áreas relacionadas al pensamiento computacional y/o ciencias de la computación</th>\n      <th>1.4 Hay alguien en mi colegio que puede asesorar a los estudiantes sobre los caminos hacia una carrera en STEM</th>\n      <th>1.6 Es extremadamente importante que todos los estudiantes aprendan pensamiento computacional.</th>\n      <th>1.9 Ofrecer oportunidades para aprender de pensamiento computacional tiene el mismo valor o más para el éxito futuro de un estudiante que otros cursos obligatorios como matemáticas, biología, ciencias sociales, historia e inglés</th>\n      <th>Nivel Directivos</th>\n    </tr>\n    <tr>\n      <th>Código IE</th>\n      <th></th>\n      <th></th>\n      <th></th>\n      <th></th>\n      <th></th>\n      <th></th>\n      <th></th>\n      <th></th>\n      <th></th>\n      <th></th>\n    </tr>\n  </thead>\n  <tbody>\n    <tr>\n      <th>1</th>\n      <td>5</td>\n      <td>5</td>\n      <td>5</td>\n      <td>1B</td>\n      <td>5</td>\n      <td>5</td>\n      <td>2A</td>\n      <td>5</td>\n      <td>4</td>\n      <td>1B</td>\n    </tr>\n    <tr>\n      <th>2</th>\n      <td>5</td>\n      <td>5</td>\n      <td>5</td>\n      <td>5</td>\n      <td>5</td>\n      <td>5</td>\n      <td>5</td>\n      <td>5</td>\n      <td>5</td>\n      <td>5</td>\n    </tr>\n    <tr>\n      <th>3</th>\n      <td>1B</td>\n      <td>5</td>\n      <td>1B</td>\n      <td>5</td>\n      <td>5</td>\n      <td>5</td>\n      <td>5</td>\n      <td>5</td>\n      <td>4</td>\n      <td>1B</td>\n    </tr>\n    <tr>\n      <th>4</th>\n      <td>5</td>\n      <td>5</td>\n      <td>1B</td>\n      <td>1B</td>\n      <td>5</td>\n      <td>2A</td>\n      <td>2A</td>\n      <td>5</td>\n      <td>4</td>\n      <td>1B</td>\n    </tr>\n    <tr>\n      <th>5</th>\n      <td>5</td>\n      <td>5</td>\n      <td>5</td>\n      <td>5</td>\n      <td>5</td>\n      <td>5</td>\n      <td>5</td>\n      <td>5</td>\n      <td>5</td>\n      <td>5</td>\n    </tr>\n    <tr>\n      <th>...</th>\n      <td>...</td>\n      <td>...</td>\n      <td>...</td>\n      <td>...</td>\n      <td>...</td>\n      <td>...</td>\n      <td>...</td>\n      <td>...</td>\n      <td>...</td>\n      <td>...</td>\n    </tr>\n    <tr>\n      <th>248</th>\n      <td>5</td>\n      <td>5</td>\n      <td>5</td>\n      <td>1B</td>\n      <td>5</td>\n      <td>5</td>\n      <td>5</td>\n      <td>5</td>\n      <td>5</td>\n      <td>1B</td>\n    </tr>\n    <tr>\n      <th>249</th>\n      <td>5</td>\n      <td>5</td>\n      <td>1B</td>\n      <td>1B</td>\n      <td>5</td>\n      <td>2A</td>\n      <td>2A</td>\n      <td>4</td>\n      <td>5</td>\n      <td>1B</td>\n    </tr>\n    <tr>\n      <th>250</th>\n      <td>5</td>\n      <td>5</td>\n      <td>1B</td>\n      <td>1B</td>\n      <td>5</td>\n      <td>5</td>\n      <td>2A</td>\n      <td>5</td>\n      <td>5</td>\n      <td>1B</td>\n    </tr>\n    <tr>\n      <th>251</th>\n      <td>5</td>\n      <td>5</td>\n      <td>1B</td>\n      <td>5</td>\n      <td>5</td>\n      <td>2A</td>\n      <td>5</td>\n      <td>5</td>\n      <td>5</td>\n      <td>1B</td>\n    </tr>\n    <tr>\n      <th>252</th>\n      <td>5</td>\n      <td>5</td>\n      <td>5</td>\n      <td>5</td>\n      <td>5</td>\n      <td>5</td>\n      <td>5</td>\n      <td>5</td>\n      <td>5</td>\n      <td>5</td>\n    </tr>\n  </tbody>\n</table>\n<p>248 rows × 10 columns</p>\n</div>"
     },
     "execution_count": 9,
     "metadata": {},
     "output_type": "execute_result"
    }
   ],
   "source": [
    "dir_d6 = dir_d6.set_index('Código IE')\n",
    "dir_d6['Nivel Directivos'] = dir_d6.min(axis=1)\n",
    "\n",
    "dir_d6"
   ],
   "metadata": {
    "collapsed": false,
    "pycharm": {
     "name": "#%%\n"
    }
   }
  },
  {
   "cell_type": "markdown",
   "source": [
    "#### Revisión plan de estudios"
   ],
   "metadata": {
    "collapsed": false,
    "pycharm": {
     "name": "#%% md\n"
    }
   }
  },
  {
   "cell_type": "code",
   "execution_count": 10,
   "outputs": [
    {
     "name": "stdout",
     "output_type": "stream",
     "text": [
      "(257, 22)\n"
     ]
    },
    {
     "data": {
      "text/plain": "Index(['N registro', 'Instrumento', 'Fecha', 'Código IE', 'ID',\n       '1.1 En el plan de estudios se especifica como responsables de su elaboración a los docentes encargados del área',\n       '1.2 El plan de estudio incluye actividades básicas de ofimática y/o alfabetización digital, y de programación y/o desarrollo del pensamiento computacional.',\n       '1.3 En el plan de estudio se da mayor relevancia al pensamiento computacional',\n       '1.4 El plan de estudio del área promueve la transición desde la alfabetización digital a las ciencias de la computación.',\n       '1.5 El plan de estudios del área le permite al docente destacar la importancia del pensamiento computacional y su influencia en la formación de los estudiantes',\n       '1.6 El plan de estudios del área es coherente con la transición de un grado a otro y permite al estudiante desarrollar conocimientos, habilidades y comprensión del pensamiento computacional',\n       '1.7 El plan de estudios del área incluye trabajo práctico para el desarrollo del pensamiento computacional.',\n       '1.8 El plan de estudio del área plantea espacios en los que personas que trabajan en ocupaciones relacionadas con áreas STEM socialicen sus experiencias con los/las estudiantes',\n       '1.9 El plan de estudio incluye actividades transversales con áreas No-STEM, para el desarrollo del pensamiento computacional',\n       '1.10 El plan de estudio considera aspectos para la inclusión de estudiantes con trastornos de aprendizaje y/o discapacidad',\n       '1.11 Entre los responsables del plan de estudios del área y los recursos educativos se incluye personal experto en la atención a estudiantes con necesidades educativas especiales',\n       '1.12 El plan de estudios del área hace explícita la pedagogía a utilizar y las adaptaciones para estudiantes con trastornos del aprendizaje y/o con discapacidad',\n       '1.13 El plan de estudio del área cuenta con una estructura clara que permite disminuir las diferencias en el desempeño de niños y niñas',\n       'Comentarios P1', 'Información otro plan de estudios',\n       'Misión de la institución educativa',\n       'Visión de la institución educativa'],\n      dtype='object')"
     },
     "execution_count": 10,
     "metadata": {},
     "output_type": "execute_result"
    }
   ],
   "source": [
    "plan1 = pd.read_excel(ruta_git/'data/descargables/PlanCFK.xlsx')\n",
    "print(plan1.shape)\n",
    "plan1.columns"
   ],
   "metadata": {
    "collapsed": false,
    "pycharm": {
     "name": "#%%\n"
    }
   }
  },
  {
   "cell_type": "code",
   "execution_count": 11,
   "outputs": [
    {
     "data": {
      "text/plain": "(257, 22)"
     },
     "execution_count": 11,
     "metadata": {},
     "output_type": "execute_result"
    }
   ],
   "source": [
    "plan1.shape"
   ],
   "metadata": {
    "collapsed": false,
    "pycharm": {
     "name": "#%%\n"
    }
   }
  },
  {
   "cell_type": "code",
   "execution_count": 12,
   "outputs": [
    {
     "data": {
      "text/plain": "Index(['1.1 En el plan de estudios se especifica como responsables de su elaboración a los docentes encargados del área',\n       '1.2 El plan de estudio incluye actividades básicas de ofimática y/o alfabetización digital, y de programación y/o desarrollo del pensamiento computacional.',\n       '1.3 En el plan de estudio se da mayor relevancia al pensamiento computacional',\n       '1.4 El plan de estudio del área promueve la transición desde la alfabetización digital a las ciencias de la computación.',\n       '1.5 El plan de estudios del área le permite al docente destacar la importancia del pensamiento computacional y su influencia en la formación de los estudiantes',\n       '1.6 El plan de estudios del área es coherente con la transición de un grado a otro y permite al estudiante desarrollar conocimientos, habilidades y comprensión del pensamiento computacional',\n       '1.7 El plan de estudios del área incluye trabajo práctico para el desarrollo del pensamiento computacional.',\n       '1.8 El plan de estudio del área plantea espacios en los que personas que trabajan en ocupaciones relacionadas con áreas STEM socialicen sus experiencias con los/las estudiantes',\n       '1.9 El plan de estudio incluye actividades transversales con áreas No-STEM, para el desarrollo del pensamiento computacional',\n       '1.10 El plan de estudio considera aspectos para la inclusión de estudiantes con trastornos de aprendizaje y/o discapacidad',\n       '1.11 Entre los responsables del plan de estudios del área y los recursos educativos se incluye personal experto en la atención a estudiantes con necesidades educativas especiales',\n       '1.12 El plan de estudios del área hace explícita la pedagogía a utilizar y las adaptaciones para estudiantes con trastornos del aprendizaje y/o con discapacidad',\n       '1.13 El plan de estudio del área cuenta con una estructura clara que permite disminuir las diferencias en el desempeño de niños y niñas'],\n      dtype='object')"
     },
     "execution_count": 12,
     "metadata": {},
     "output_type": "execute_result"
    }
   ],
   "source": [
    "plan1.filter(regex=r'^1.').columns"
   ],
   "metadata": {
    "collapsed": false,
    "pycharm": {
     "name": "#%%\n"
    }
   }
  },
  {
   "cell_type": "markdown",
   "source": [],
   "metadata": {
    "collapsed": false
   }
  },
  {
   "cell_type": "code",
   "execution_count": 13,
   "outputs": [
    {
     "data": {
      "text/plain": "Index(['N registro', 'Instrumento', 'Fecha', 'Código IE', 'ID',\n       '1.1 En el plan de estudios se especifica como responsables de su elaboración a los docentes encargados del área',\n       '1.2 El plan de estudio incluye actividades básicas de ofimática y/o alfabetización digital, y de programación y/o desarrollo del pensamiento computacional.',\n       '1.3 En el plan de estudio se da mayor relevancia al pensamiento computacional',\n       '1.4 El plan de estudio del área promueve la transición desde la alfabetización digital a las ciencias de la computación.',\n       '1.5 El plan de estudios del área le permite al docente destacar la importancia del pensamiento computacional y su influencia en la formación de los estudiantes',\n       '1.6 El plan de estudios del área es coherente con la transición de un grado a otro y permite al estudiante desarrollar conocimientos, habilidades y comprensión del pensamiento computacional',\n       '1.7 El plan de estudios del área incluye trabajo práctico para el desarrollo del pensamiento computacional.',\n       '1.8 El plan de estudio del área plantea espacios en los que personas que trabajan en ocupaciones relacionadas con áreas STEM socialicen sus experiencias con los/las estudiantes',\n       '1.9 El plan de estudio incluye actividades transversales con áreas No-STEM, para el desarrollo del pensamiento computacional',\n       '1.10 El plan de estudio considera aspectos para la inclusión de estudiantes con trastornos de aprendizaje y/o discapacidad',\n       '1.11 Entre los responsables del plan de estudios del área y los recursos educativos se incluye personal experto en la atención a estudiantes con necesidades educativas especiales',\n       '1.12 El plan de estudios del área hace explícita la pedagogía a utilizar y las adaptaciones para estudiantes con trastornos del aprendizaje y/o con discapacidad',\n       '1.13 El plan de estudio del área cuenta con una estructura clara que permite disminuir las diferencias en el desempeño de niños y niñas',\n       'Comentarios P1', 'Información otro plan de estudios',\n       'Misión de la institución educativa',\n       'Visión de la institución educativa'],\n      dtype='object')"
     },
     "execution_count": 13,
     "metadata": {},
     "output_type": "execute_result"
    }
   ],
   "source": [
    "plan1.columns"
   ],
   "metadata": {
    "collapsed": false,
    "pycharm": {
     "name": "#%%\n"
    }
   }
  },
  {
   "cell_type": "code",
   "execution_count": 14,
   "outputs": [],
   "source": [
    "col_index = ['Código IE']"
   ],
   "metadata": {
    "collapsed": false,
    "pycharm": {
     "name": "#%%\n"
    }
   }
  },
  {
   "cell_type": "code",
   "execution_count": null,
   "outputs": [],
   "source": [
    "plan1['1.8 El plan de estudio del área plantea espacios en los que personas que trabajan en ocupaciones relacionadas con áreas STEM socialicen sus experiencias con los/las estudiantes']"
   ],
   "metadata": {
    "collapsed": false,
    "pycharm": {
     "name": "#%%\n"
    }
   }
  },
  {
   "cell_type": "code",
   "execution_count": 15,
   "outputs": [],
   "source": [
    "cols_plan1_d6 = {\n",
    "    '1.5 El plan de estudios del área le permite al docente destacar la importancia del pensamiento computacional y su influencia en la formación de los estudiantes': {\n",
    "        \"Sí\":\"5\",\"No\": \"1B\"   },\n",
    "    '1.8 El plan de estudio del área plantea espacios en los que personas que trabajan en ocupaciones relacionadas con áreas STEM socialicen sus experiencias con los/las estudiantes': {\n",
    "        \"Sí\":\"5\",\"No\": \"2B\"   }}"
   ],
   "metadata": {
    "collapsed": false,
    "pycharm": {
     "name": "#%%\n"
    }
   }
  },
  {
   "cell_type": "code",
   "execution_count": 17,
   "outputs": [
    {
     "data": {
      "text/plain": "          1.5 El plan de estudios del área le permite al docente destacar la importancia del pensamiento computacional y su influencia en la formación de los estudiantes  \\\nCódigo IE                                                                                                                                                                   \n1                                                         1B                                                                                                                \n2                                                         1B                                                                                                                \n3                                                         1B                                                                                                                \n4                                                         1B                                                                                                                \n5                                                         1B                                                                                                                \n...                                                      ...                                                                                                                \n248                                                       1B                                                                                                                \n249                                                        5                                                                                                                \n250                                                        5                                                                                                                \n251                                                       1B                                                                                                                \n252                                                       1B                                                                                                                \n\n          1.8 El plan de estudio del área plantea espacios en los que personas que trabajan en ocupaciones relacionadas con áreas STEM socialicen sus experiencias con los/las estudiantes  \\\nCódigo IE                                                                                                                                                                                    \n1                                                         2B                                                                                                                                 \n2                                                         2B                                                                                                                                 \n3                                                         2B                                                                                                                                 \n4                                                         2B                                                                                                                                 \n5                                                         2B                                                                                                                                 \n...                                                      ...                                                                                                                                 \n248                                                       2B                                                                                                                                 \n249                                                       2B                                                                                                                                 \n250                                                       2B                                                                                                                                 \n251                                                       2B                                                                                                                                 \n252                                                       2B                                                                                                                                 \n\n          Nivel Revision Plan  \nCódigo IE                      \n1                          1B  \n2                          1B  \n3                          1B  \n4                          1B  \n5                          1B  \n...                       ...  \n248                        1B  \n249                        2B  \n250                        2B  \n251                        1B  \n252                        1B  \n\n[246 rows x 3 columns]",
      "text/html": "<div>\n<style scoped>\n    .dataframe tbody tr th:only-of-type {\n        vertical-align: middle;\n    }\n\n    .dataframe tbody tr th {\n        vertical-align: top;\n    }\n\n    .dataframe thead th {\n        text-align: right;\n    }\n</style>\n<table border=\"1\" class=\"dataframe\">\n  <thead>\n    <tr style=\"text-align: right;\">\n      <th></th>\n      <th>1.5 El plan de estudios del área le permite al docente destacar la importancia del pensamiento computacional y su influencia en la formación de los estudiantes</th>\n      <th>1.8 El plan de estudio del área plantea espacios en los que personas que trabajan en ocupaciones relacionadas con áreas STEM socialicen sus experiencias con los/las estudiantes</th>\n      <th>Nivel Revision Plan</th>\n    </tr>\n    <tr>\n      <th>Código IE</th>\n      <th></th>\n      <th></th>\n      <th></th>\n    </tr>\n  </thead>\n  <tbody>\n    <tr>\n      <th>1</th>\n      <td>1B</td>\n      <td>2B</td>\n      <td>1B</td>\n    </tr>\n    <tr>\n      <th>2</th>\n      <td>1B</td>\n      <td>2B</td>\n      <td>1B</td>\n    </tr>\n    <tr>\n      <th>3</th>\n      <td>1B</td>\n      <td>2B</td>\n      <td>1B</td>\n    </tr>\n    <tr>\n      <th>4</th>\n      <td>1B</td>\n      <td>2B</td>\n      <td>1B</td>\n    </tr>\n    <tr>\n      <th>5</th>\n      <td>1B</td>\n      <td>2B</td>\n      <td>1B</td>\n    </tr>\n    <tr>\n      <th>...</th>\n      <td>...</td>\n      <td>...</td>\n      <td>...</td>\n    </tr>\n    <tr>\n      <th>248</th>\n      <td>1B</td>\n      <td>2B</td>\n      <td>1B</td>\n    </tr>\n    <tr>\n      <th>249</th>\n      <td>5</td>\n      <td>2B</td>\n      <td>2B</td>\n    </tr>\n    <tr>\n      <th>250</th>\n      <td>5</td>\n      <td>2B</td>\n      <td>2B</td>\n    </tr>\n    <tr>\n      <th>251</th>\n      <td>1B</td>\n      <td>2B</td>\n      <td>1B</td>\n    </tr>\n    <tr>\n      <th>252</th>\n      <td>1B</td>\n      <td>2B</td>\n      <td>1B</td>\n    </tr>\n  </tbody>\n</table>\n<p>246 rows × 3 columns</p>\n</div>"
     },
     "execution_count": 17,
     "metadata": {},
     "output_type": "execute_result"
    }
   ],
   "source": [
    "plan1_d6 = plan1[['Código IE']+list(cols_plan1_d6.keys())]\n",
    "plan1_d6 = plan1_d6.replace(cols_plan1_d6)\n",
    "plan1_d6 = plan1_d6.groupby('Código IE').max().reset_index()\n",
    "plan1_d6['Nivel Revision Plan'] = plan1_d6.iloc[:,1:].min(axis=1)\n",
    "plan1_d6 = plan1_d6.set_index('Código IE')\n",
    "plan1_d6"
   ],
   "metadata": {
    "collapsed": false,
    "pycharm": {
     "name": "#%%\n"
    }
   }
  },
  {
   "cell_type": "markdown",
   "source": [
    "#### Líder del área"
   ],
   "metadata": {
    "collapsed": false,
    "pycharm": {
     "name": "#%% md\n"
    }
   }
  },
  {
   "cell_type": "code",
   "execution_count": 18,
   "outputs": [
    {
     "name": "stdout",
     "output_type": "stream",
     "text": [
      "(244, 52)\n"
     ]
    },
    {
     "data": {
      "text/plain": "   N registro  Fecha       Instrumento  ID  Código IE  \\\n5           5  18/04  Encuesta Líderes   5         33   \n6           6  18/04  Encuesta Líderes   6          4   \n7           7  19/04  Encuesta Líderes   7        129   \n8           8  19/04  Encuesta Líderes   8          7   \n9           9  19/04  Encuesta Líderes   9        231   \n\n  1.1 Los docentes encargados del área son los responsables de definir lo que se enseña  \\\n5                                                 Sí                                      \n6                                                 No                                      \n7                                                 Sí                                      \n8                                                 Sí                                      \n9                                                 Sí                                      \n\n  1.2 El plan de estudios del área cuenta con mejoras realizadas por los docentes de la IE gracias a espacios colaborativos  \\\n5                                                 Sí                                                                          \n6                                                 No                                                                          \n7                                                 Sí                                                                          \n8                                                 Sí                                                                          \n9                                                 Sí                                                                          \n\n  1.3 El plan de estudio incluye actividades básicas de ofimática y/o alfabetización digital, programación y/o desarrollo del pensamiento computacional.  \\\n5                                                 Sí                                                                                                       \n6                                                 Sí                                                                                                       \n7                                                 Sí                                                                                                       \n8                                                 Sí                                                                                                       \n9                                                 Sí                                                                                                       \n\n  1.4 En el plan de estudio se da mayor relevancia al pensamiento computacional  \\\n5                                                 Sí                              \n6                                                 No                              \n7                                                 No                              \n8                                                 No                              \n9                                                 No                              \n\n  1.5 El plan de estudio del área promueve la transición desde la alfabetización digital a las ciencias de la computación  \\\n5                                                 Sí                                                                        \n6                                                 No                                                                        \n7                                                 Sí                                                                        \n8                                                 Sí                                                                        \n9                                                 No                                                                        \n\n   ...  \\\n5  ...   \n6  ...   \n7  ...   \n8  ...   \n9  ...   \n\n  4.3 La IE cuenta con espacios de discusión y planeación para actividades de desarrollo profesional  \\\n5                                                 Sí                                                   \n6                                                 No                                                   \n7                                                 Sí                                                   \n8                                                 Sí                                                   \n9                                                 No                                                   \n\n  4.4 La IE capacita a los docentes en temas de equidad de género y apoya la implementación de acciones afirmativas en el aula de clases  \\\n5                                                 Sí                                                                                       \n6                                                 No                                                                                       \n7                                                 No                                                                                       \n8                                                 Sí                                                                                       \n9                                                 No                                                                                       \n\n  4.5 La IE lleva un registro formal de las necesidades y participación de los docentes en actividades de desarrollo profesional  \\\n5                                                 Sí                                                                               \n6                                                 No                                                                               \n7                                                 Sí                                                                               \n8                                                 Sí                                                                               \n9                                                 No                                                                               \n\n  4.6 Los docentes de otras áreas se interesan por el área de tecnología e informática y la integran a su enseñanza  \\\n5                                                 Sí                                                                  \n6                                                 No                                                                  \n7                                                 Sí                                                                  \n8                                                 Sí                                                                  \n9                                                 No                                                                  \n\n  4.7 La IE incentiva el trabajo coordinado entre los/las responsables del área  \\\n5                                                 Sí                              \n6                                                 No                              \n7                                                 Sí                              \n8                                                 Sí                              \n9                                                 Sí                              \n\n  4.8 La IE tiene en cuenta los conocimientos del personal docente para enriquecer la visión institucional sobre la enseñanza de la computación y potenciar la comprensión de las/los estudiantes y desarrollo  \\\n5                                                 Sí                                                                                                                                                             \n6                                                 No                                                                                                                                                             \n7                                                 Sí                                                                                                                                                             \n8                                                 Sí                                                                                                                                                             \n9                                                 No                                                                                                                                                             \n\n  4.9 La IE promueve al trabajo conjunto entre los docente y profesionales líderes externos para impulsar prácticas inclusivas en la enseñanza de la computación y/o pensamiento computacional  \\\n5                                                 Sí                                                                                                                                             \n6                                                 No                                                                                                                                             \n7                                                 Sí                                                                                                                                             \n8                                                 Sí                                                                                                                                             \n9                                                 No                                                                                                                                             \n\n  4.10 El Consejo Directivo del colegio está al tanto de que en la institución se está enseñando ciencias de la computación, y se encuentran involucrados en el proceso.  \\\n5                                                 Sí                                                                                                                       \n6                                                 No                                                                                                                       \n7                                                 Sí                                                                                                                       \n8                                                 Sí                                                                                                                       \n9                                                 No                                                                                                                       \n\n  4.11 Las directivas y el Consejo Directivo participan y evalúan la implementación de sistemas eficientes del plan de estudios del área.]  \\\n5                                                 Sí                                                                                         \n6                                                 Sí                                                                                         \n7                                                 Sí                                                                                         \n8                                                 Sí                                                                                         \n9                                                 No                                                                                         \n\n                                      Comentarios P4  \n5                                                NaN  \n6                                                NaN  \n7                                           Ninguna   \n8                                                NaN  \n9  La institución esta presta a las capacitacione...  \n\n[5 rows x 52 columns]",
      "text/html": "<div>\n<style scoped>\n    .dataframe tbody tr th:only-of-type {\n        vertical-align: middle;\n    }\n\n    .dataframe tbody tr th {\n        vertical-align: top;\n    }\n\n    .dataframe thead th {\n        text-align: right;\n    }\n</style>\n<table border=\"1\" class=\"dataframe\">\n  <thead>\n    <tr style=\"text-align: right;\">\n      <th></th>\n      <th>N registro</th>\n      <th>Fecha</th>\n      <th>Instrumento</th>\n      <th>ID</th>\n      <th>Código IE</th>\n      <th>1.1 Los docentes encargados del área son los responsables de definir lo que se enseña</th>\n      <th>1.2 El plan de estudios del área cuenta con mejoras realizadas por los docentes de la IE gracias a espacios colaborativos</th>\n      <th>1.3 El plan de estudio incluye actividades básicas de ofimática y/o alfabetización digital, programación y/o desarrollo del pensamiento computacional.</th>\n      <th>1.4 En el plan de estudio se da mayor relevancia al pensamiento computacional</th>\n      <th>1.5 El plan de estudio del área promueve la transición desde la alfabetización digital a las ciencias de la computación</th>\n      <th>...</th>\n      <th>4.3 La IE cuenta con espacios de discusión y planeación para actividades de desarrollo profesional</th>\n      <th>4.4 La IE capacita a los docentes en temas de equidad de género y apoya la implementación de acciones afirmativas en el aula de clases</th>\n      <th>4.5 La IE lleva un registro formal de las necesidades y participación de los docentes en actividades de desarrollo profesional</th>\n      <th>4.6 Los docentes de otras áreas se interesan por el área de tecnología e informática y la integran a su enseñanza</th>\n      <th>4.7 La IE incentiva el trabajo coordinado entre los/las responsables del área</th>\n      <th>4.8 La IE tiene en cuenta los conocimientos del personal docente para enriquecer la visión institucional sobre la enseñanza de la computación y potenciar la comprensión de las/los estudiantes y desarrollo</th>\n      <th>4.9 La IE promueve al trabajo conjunto entre los docente y profesionales líderes externos para impulsar prácticas inclusivas en la enseñanza de la computación y/o pensamiento computacional</th>\n      <th>4.10 El Consejo Directivo del colegio está al tanto de que en la institución se está enseñando ciencias de la computación, y se encuentran involucrados en el proceso.</th>\n      <th>4.11 Las directivas y el Consejo Directivo participan y evalúan la implementación de sistemas eficientes del plan de estudios del área.]</th>\n      <th>Comentarios P4</th>\n    </tr>\n  </thead>\n  <tbody>\n    <tr>\n      <th>5</th>\n      <td>5</td>\n      <td>18/04</td>\n      <td>Encuesta Líderes</td>\n      <td>5</td>\n      <td>33</td>\n      <td>Sí</td>\n      <td>Sí</td>\n      <td>Sí</td>\n      <td>Sí</td>\n      <td>Sí</td>\n      <td>...</td>\n      <td>Sí</td>\n      <td>Sí</td>\n      <td>Sí</td>\n      <td>Sí</td>\n      <td>Sí</td>\n      <td>Sí</td>\n      <td>Sí</td>\n      <td>Sí</td>\n      <td>Sí</td>\n      <td>NaN</td>\n    </tr>\n    <tr>\n      <th>6</th>\n      <td>6</td>\n      <td>18/04</td>\n      <td>Encuesta Líderes</td>\n      <td>6</td>\n      <td>4</td>\n      <td>No</td>\n      <td>No</td>\n      <td>Sí</td>\n      <td>No</td>\n      <td>No</td>\n      <td>...</td>\n      <td>No</td>\n      <td>No</td>\n      <td>No</td>\n      <td>No</td>\n      <td>No</td>\n      <td>No</td>\n      <td>No</td>\n      <td>No</td>\n      <td>Sí</td>\n      <td>NaN</td>\n    </tr>\n    <tr>\n      <th>7</th>\n      <td>7</td>\n      <td>19/04</td>\n      <td>Encuesta Líderes</td>\n      <td>7</td>\n      <td>129</td>\n      <td>Sí</td>\n      <td>Sí</td>\n      <td>Sí</td>\n      <td>No</td>\n      <td>Sí</td>\n      <td>...</td>\n      <td>Sí</td>\n      <td>No</td>\n      <td>Sí</td>\n      <td>Sí</td>\n      <td>Sí</td>\n      <td>Sí</td>\n      <td>Sí</td>\n      <td>Sí</td>\n      <td>Sí</td>\n      <td>Ninguna</td>\n    </tr>\n    <tr>\n      <th>8</th>\n      <td>8</td>\n      <td>19/04</td>\n      <td>Encuesta Líderes</td>\n      <td>8</td>\n      <td>7</td>\n      <td>Sí</td>\n      <td>Sí</td>\n      <td>Sí</td>\n      <td>No</td>\n      <td>Sí</td>\n      <td>...</td>\n      <td>Sí</td>\n      <td>Sí</td>\n      <td>Sí</td>\n      <td>Sí</td>\n      <td>Sí</td>\n      <td>Sí</td>\n      <td>Sí</td>\n      <td>Sí</td>\n      <td>Sí</td>\n      <td>NaN</td>\n    </tr>\n    <tr>\n      <th>9</th>\n      <td>9</td>\n      <td>19/04</td>\n      <td>Encuesta Líderes</td>\n      <td>9</td>\n      <td>231</td>\n      <td>Sí</td>\n      <td>Sí</td>\n      <td>Sí</td>\n      <td>No</td>\n      <td>No</td>\n      <td>...</td>\n      <td>No</td>\n      <td>No</td>\n      <td>No</td>\n      <td>No</td>\n      <td>Sí</td>\n      <td>No</td>\n      <td>No</td>\n      <td>No</td>\n      <td>No</td>\n      <td>La institución esta presta a las capacitacione...</td>\n    </tr>\n  </tbody>\n</table>\n<p>5 rows × 52 columns</p>\n</div>"
     },
     "execution_count": 18,
     "metadata": {},
     "output_type": "execute_result"
    }
   ],
   "source": [
    "plan2 = pd.read_excel(ruta_git/'data/descargables/LiderCFK.xlsx', index_col=0)\n",
    "plan2 = plan2.dropna(subset='1.1 Los docentes encargados del área son los responsables de definir lo que se enseña')\n",
    "plan2[plan2.filter(regex=r'^1.').columns.tolist()] = plan2[plan2.filter(regex=r'^1.').columns.tolist()].fillna(\"No\")\n",
    "print(plan2.shape)\n",
    "plan2.head()"
   ],
   "metadata": {
    "collapsed": false,
    "pycharm": {
     "name": "#%%\n"
    }
   }
  },
  {
   "cell_type": "code",
   "execution_count": 19,
   "outputs": [
    {
     "data": {
      "text/plain": "     N registro  Fecha       Instrumento   ID  Código IE  \\\n113         113  03/05  Encuesta Líderes  113         82   \n\n    1.1 Los docentes encargados del área son los responsables de definir lo que se enseña  \\\n113                                                 Sí                                      \n\n    1.2 El plan de estudios del área cuenta con mejoras realizadas por los docentes de la IE gracias a espacios colaborativos  \\\n113                                                 Sí                                                                          \n\n    1.3 El plan de estudio incluye actividades básicas de ofimática y/o alfabetización digital, programación y/o desarrollo del pensamiento computacional.  \\\n113                                                 Sí                                                                                                       \n\n    1.4 En el plan de estudio se da mayor relevancia al pensamiento computacional  \\\n113                                                 No                              \n\n    1.5 El plan de estudio del área promueve la transición desde la alfabetización digital a las ciencias de la computación  \\\n113                                                 No                                                                        \n\n     ...  \\\n113  ...   \n\n    4.3 La IE cuenta con espacios de discusión y planeación para actividades de desarrollo profesional  \\\n113                                                 Sí                                                   \n\n    4.4 La IE capacita a los docentes en temas de equidad de género y apoya la implementación de acciones afirmativas en el aula de clases  \\\n113                                                 Sí                                                                                       \n\n    4.5 La IE lleva un registro formal de las necesidades y participación de los docentes en actividades de desarrollo profesional  \\\n113                                                 No                                                                               \n\n    4.6 Los docentes de otras áreas se interesan por el área de tecnología e informática y la integran a su enseñanza  \\\n113                                                 Sí                                                                  \n\n    4.7 La IE incentiva el trabajo coordinado entre los/las responsables del área  \\\n113                                                 Sí                              \n\n    4.8 La IE tiene en cuenta los conocimientos del personal docente para enriquecer la visión institucional sobre la enseñanza de la computación y potenciar la comprensión de las/los estudiantes y desarrollo  \\\n113                                                 No                                                                                                                                                             \n\n    4.9 La IE promueve al trabajo conjunto entre los docente y profesionales líderes externos para impulsar prácticas inclusivas en la enseñanza de la computación y/o pensamiento computacional  \\\n113                                                 Sí                                                                                                                                             \n\n    4.10 El Consejo Directivo del colegio está al tanto de que en la institución se está enseñando ciencias de la computación, y se encuentran involucrados en el proceso.  \\\n113                                                 Sí                                                                                                                       \n\n    4.11 Las directivas y el Consejo Directivo participan y evalúan la implementación de sistemas eficientes del plan de estudios del área.]  \\\n113                                                 Sí                                                                                         \n\n    Comentarios P4  \n113            NaN  \n\n[1 rows x 52 columns]",
      "text/html": "<div>\n<style scoped>\n    .dataframe tbody tr th:only-of-type {\n        vertical-align: middle;\n    }\n\n    .dataframe tbody tr th {\n        vertical-align: top;\n    }\n\n    .dataframe thead th {\n        text-align: right;\n    }\n</style>\n<table border=\"1\" class=\"dataframe\">\n  <thead>\n    <tr style=\"text-align: right;\">\n      <th></th>\n      <th>N registro</th>\n      <th>Fecha</th>\n      <th>Instrumento</th>\n      <th>ID</th>\n      <th>Código IE</th>\n      <th>1.1 Los docentes encargados del área son los responsables de definir lo que se enseña</th>\n      <th>1.2 El plan de estudios del área cuenta con mejoras realizadas por los docentes de la IE gracias a espacios colaborativos</th>\n      <th>1.3 El plan de estudio incluye actividades básicas de ofimática y/o alfabetización digital, programación y/o desarrollo del pensamiento computacional.</th>\n      <th>1.4 En el plan de estudio se da mayor relevancia al pensamiento computacional</th>\n      <th>1.5 El plan de estudio del área promueve la transición desde la alfabetización digital a las ciencias de la computación</th>\n      <th>...</th>\n      <th>4.3 La IE cuenta con espacios de discusión y planeación para actividades de desarrollo profesional</th>\n      <th>4.4 La IE capacita a los docentes en temas de equidad de género y apoya la implementación de acciones afirmativas en el aula de clases</th>\n      <th>4.5 La IE lleva un registro formal de las necesidades y participación de los docentes en actividades de desarrollo profesional</th>\n      <th>4.6 Los docentes de otras áreas se interesan por el área de tecnología e informática y la integran a su enseñanza</th>\n      <th>4.7 La IE incentiva el trabajo coordinado entre los/las responsables del área</th>\n      <th>4.8 La IE tiene en cuenta los conocimientos del personal docente para enriquecer la visión institucional sobre la enseñanza de la computación y potenciar la comprensión de las/los estudiantes y desarrollo</th>\n      <th>4.9 La IE promueve al trabajo conjunto entre los docente y profesionales líderes externos para impulsar prácticas inclusivas en la enseñanza de la computación y/o pensamiento computacional</th>\n      <th>4.10 El Consejo Directivo del colegio está al tanto de que en la institución se está enseñando ciencias de la computación, y se encuentran involucrados en el proceso.</th>\n      <th>4.11 Las directivas y el Consejo Directivo participan y evalúan la implementación de sistemas eficientes del plan de estudios del área.]</th>\n      <th>Comentarios P4</th>\n    </tr>\n  </thead>\n  <tbody>\n    <tr>\n      <th>113</th>\n      <td>113</td>\n      <td>03/05</td>\n      <td>Encuesta Líderes</td>\n      <td>113</td>\n      <td>82</td>\n      <td>Sí</td>\n      <td>Sí</td>\n      <td>Sí</td>\n      <td>No</td>\n      <td>No</td>\n      <td>...</td>\n      <td>Sí</td>\n      <td>Sí</td>\n      <td>No</td>\n      <td>Sí</td>\n      <td>Sí</td>\n      <td>No</td>\n      <td>Sí</td>\n      <td>Sí</td>\n      <td>Sí</td>\n      <td>NaN</td>\n    </tr>\n  </tbody>\n</table>\n<p>1 rows × 52 columns</p>\n</div>"
     },
     "execution_count": 19,
     "metadata": {},
     "output_type": "execute_result"
    }
   ],
   "source": [
    "plan2[plan2['Código IE']==82]"
   ],
   "metadata": {
    "collapsed": false,
    "pycharm": {
     "name": "#%%\n"
    }
   }
  },
  {
   "cell_type": "code",
   "execution_count": 100,
   "outputs": [
    {
     "data": {
      "text/plain": "5             Sí\n6      No aplica\n7             Sí\n8             Sí\n9             No\n         ...    \n246           Sí\n247           Sí\n248    No aplica\n249           No\n250           No\nName: 2.7 La IE promueve al trabajo conjunto entre los docente y profesionales externos para impulsar prácticas inclusivas en la enseñanza de la computación y/o pensamiento computacional, Length: 244, dtype: object"
     },
     "execution_count": 100,
     "metadata": {},
     "output_type": "execute_result"
    }
   ],
   "source": [
    "plan2['3.6 La institución posee una propuesta estructurada donde garantiza que los niños y niñas continúen su trayectoria de formación educativa en pensamiento computacional y/o ciencias de la computación.']"
   ],
   "metadata": {
    "collapsed": false,
    "pycharm": {
     "name": "#%%\n"
    }
   }
  },
  {
   "cell_type": "code",
   "execution_count": 20,
   "outputs": [],
   "source": [
    "cols_plan2_d6 = {\n",
    "    '3.7 El plan de estudios del área promueve en niños y niñas el desarrollo de sus conocimientos, habilidades y actitudes':{\n",
    "        \"Sí\":\"5\", \"No\":\"2B\", \"No aplica\":\"2B\"\n",
    "    },\n",
    "    '1.9 El plan de estudio del área cuenta con espacios de socialización a los estudiantes de personas que trabajan en ocupaciones relacionadas al área STEM':{\n",
    "        \"Sí\":\"5\", \"No\":\"2B\", \"No aplica\":\"2B\"\n",
    "    },\n",
    "    '2.7 La IE promueve al trabajo conjunto entre los docente y profesionales externos para impulsar prácticas inclusivas en la enseñanza de la computación y/o pensamiento computacional':{\n",
    "        \"Sí\":\"5\", \"No\":\"3\", \"No aplica\":\"3\"\n",
    "    },\n",
    "    '3.6 La institución posee una propuesta estructurada donde garantiza que los niños y niñas continúen su trayectoria de formación educativa en pensamiento computacional y/o ciencias de la computación.':{\n",
    "        \"Sí\":\"5\", \"No\":\"3\", \"No aplica\":\"3\"\n",
    "    }\n",
    "}"
   ],
   "metadata": {
    "collapsed": false,
    "pycharm": {
     "name": "#%%\n"
    }
   }
  },
  {
   "cell_type": "code",
   "execution_count": 21,
   "outputs": [
    {
     "data": {
      "text/plain": "          3.7 El plan de estudios del área promueve en niños y niñas el desarrollo de sus conocimientos, habilidades y actitudes  \\\nCódigo IE                                                                                                                          \n2                                                          5                                                                       \n3                                                          5                                                                       \n4                                                          5                                                                       \n5                                                          5                                                                       \n6                                                          5                                                                       \n...                                                      ...                                                                       \n248                                                       2B                                                                       \n249                                                        5                                                                       \n250                                                       2B                                                                       \n251                                                        5                                                                       \n252                                                        5                                                                       \n\n          1.9 El plan de estudio del área cuenta con espacios de socialización a los estudiantes de personas que trabajan en ocupaciones relacionadas al área STEM  \\\nCódigo IE                                                                                                                                                            \n2                                                         2B                                                                                                         \n3                                                          5                                                                                                         \n4                                                         2B                                                                                                         \n5                                                          5                                                                                                         \n6                                                         2B                                                                                                         \n...                                                      ...                                                                                                         \n248                                                       2B                                                                                                         \n249                                                       2B                                                                                                         \n250                                                       2B                                                                                                         \n251                                                       2B                                                                                                         \n252                                                       2B                                                                                                         \n\n          2.7 La IE promueve al trabajo conjunto entre los docente y profesionales externos para impulsar prácticas inclusivas en la enseñanza de la computación y/o pensamiento computacional  \\\nCódigo IE                                                                                                                                                                                        \n2                                                          5                                                                                                                                     \n3                                                          5                                                                                                                                     \n4                                                          3                                                                                                                                     \n5                                                          5                                                                                                                                     \n6                                                          5                                                                                                                                     \n...                                                      ...                                                                                                                                     \n248                                                        3                                                                                                                                     \n249                                                        3                                                                                                                                     \n250                                                        5                                                                                                                                     \n251                                                        3                                                                                                                                     \n252                                                        3                                                                                                                                     \n\n          3.6 La institución posee una propuesta estructurada donde garantiza que los niños y niñas continúen su trayectoria de formación educativa en pensamiento computacional y/o ciencias de la computación.  \\\nCódigo IE                                                                                                                                                                                                          \n2                                                          3                                                                                                                                                       \n3                                                          5                                                                                                                                                       \n4                                                          3                                                                                                                                                       \n5                                                          5                                                                                                                                                       \n6                                                          3                                                                                                                                                       \n...                                                      ...                                                                                                                                                       \n248                                                        3                                                                                                                                                       \n249                                                        5                                                                                                                                                       \n250                                                        3                                                                                                                                                       \n251                                                        3                                                                                                                                                       \n252                                                        3                                                                                                                                                       \n\n          Nivel lider  \nCódigo IE              \n2                  2B  \n3                   5  \n4                  2B  \n5                   5  \n6                  2B  \n...               ...  \n248                2B  \n249                2B  \n250                2B  \n251                2B  \n252                2B  \n\n[227 rows x 5 columns]",
      "text/html": "<div>\n<style scoped>\n    .dataframe tbody tr th:only-of-type {\n        vertical-align: middle;\n    }\n\n    .dataframe tbody tr th {\n        vertical-align: top;\n    }\n\n    .dataframe thead th {\n        text-align: right;\n    }\n</style>\n<table border=\"1\" class=\"dataframe\">\n  <thead>\n    <tr style=\"text-align: right;\">\n      <th></th>\n      <th>3.7 El plan de estudios del área promueve en niños y niñas el desarrollo de sus conocimientos, habilidades y actitudes</th>\n      <th>1.9 El plan de estudio del área cuenta con espacios de socialización a los estudiantes de personas que trabajan en ocupaciones relacionadas al área STEM</th>\n      <th>2.7 La IE promueve al trabajo conjunto entre los docente y profesionales externos para impulsar prácticas inclusivas en la enseñanza de la computación y/o pensamiento computacional</th>\n      <th>3.6 La institución posee una propuesta estructurada donde garantiza que los niños y niñas continúen su trayectoria de formación educativa en pensamiento computacional y/o ciencias de la computación.</th>\n      <th>Nivel lider</th>\n    </tr>\n    <tr>\n      <th>Código IE</th>\n      <th></th>\n      <th></th>\n      <th></th>\n      <th></th>\n      <th></th>\n    </tr>\n  </thead>\n  <tbody>\n    <tr>\n      <th>2</th>\n      <td>5</td>\n      <td>2B</td>\n      <td>5</td>\n      <td>3</td>\n      <td>2B</td>\n    </tr>\n    <tr>\n      <th>3</th>\n      <td>5</td>\n      <td>5</td>\n      <td>5</td>\n      <td>5</td>\n      <td>5</td>\n    </tr>\n    <tr>\n      <th>4</th>\n      <td>5</td>\n      <td>2B</td>\n      <td>3</td>\n      <td>3</td>\n      <td>2B</td>\n    </tr>\n    <tr>\n      <th>5</th>\n      <td>5</td>\n      <td>5</td>\n      <td>5</td>\n      <td>5</td>\n      <td>5</td>\n    </tr>\n    <tr>\n      <th>6</th>\n      <td>5</td>\n      <td>2B</td>\n      <td>5</td>\n      <td>3</td>\n      <td>2B</td>\n    </tr>\n    <tr>\n      <th>...</th>\n      <td>...</td>\n      <td>...</td>\n      <td>...</td>\n      <td>...</td>\n      <td>...</td>\n    </tr>\n    <tr>\n      <th>248</th>\n      <td>2B</td>\n      <td>2B</td>\n      <td>3</td>\n      <td>3</td>\n      <td>2B</td>\n    </tr>\n    <tr>\n      <th>249</th>\n      <td>5</td>\n      <td>2B</td>\n      <td>3</td>\n      <td>5</td>\n      <td>2B</td>\n    </tr>\n    <tr>\n      <th>250</th>\n      <td>2B</td>\n      <td>2B</td>\n      <td>5</td>\n      <td>3</td>\n      <td>2B</td>\n    </tr>\n    <tr>\n      <th>251</th>\n      <td>5</td>\n      <td>2B</td>\n      <td>3</td>\n      <td>3</td>\n      <td>2B</td>\n    </tr>\n    <tr>\n      <th>252</th>\n      <td>5</td>\n      <td>2B</td>\n      <td>3</td>\n      <td>3</td>\n      <td>2B</td>\n    </tr>\n  </tbody>\n</table>\n<p>227 rows × 5 columns</p>\n</div>"
     },
     "execution_count": 21,
     "metadata": {},
     "output_type": "execute_result"
    }
   ],
   "source": [
    "plan2_d6 = plan2[['Código IE']+list(cols_plan2_d6.keys())]\n",
    "plan2_d6 = plan2_d6.replace(cols_plan2_d6)\n",
    "plan2_d6 = plan2_d6.groupby('Código IE').max().reset_index()\n",
    "plan2_d6 = plan2_d6.set_index('Código IE')\n",
    "plan2_d6['Nivel lider'] = plan2_d6.min(axis=1)\n",
    "\n",
    "plan2_d6"
   ],
   "metadata": {
    "collapsed": false,
    "pycharm": {
     "name": "#%%\n"
    }
   }
  },
  {
   "cell_type": "code",
   "execution_count": 23,
   "outputs": [
    {
     "data": {
      "text/plain": "2B    192\n3      20\n5      15\nName: Nivel lider, dtype: int64"
     },
     "execution_count": 23,
     "metadata": {},
     "output_type": "execute_result"
    }
   ],
   "source": [
    "plan2_d6['Nivel lider'].value_counts()"
   ],
   "metadata": {
    "collapsed": false,
    "pycharm": {
     "name": "#%%\n"
    }
   }
  },
  {
   "cell_type": "markdown",
   "source": [
    "### Docentes"
   ],
   "metadata": {
    "collapsed": false,
    "pycharm": {
     "name": "#%% md\n"
    }
   }
  },
  {
   "cell_type": "code",
   "execution_count": 25,
   "outputs": [
    {
     "data": {
      "text/plain": "      N registro        Instrumento  Fecha Política de datos  Código IE  \\\n0              4  Encuesta docentes  18/04                Sí        206   \n1              5  Encuesta docentes  18/04                Sí        206   \n2              6  Encuesta docentes  18/04                Sí        206   \n3              7  Encuesta docentes  18/04                Sí        206   \n4              8  Encuesta docentes  18/04                Sí        206   \n...          ...                ...    ...               ...        ...   \n6630        6883  Encuesta docentes  03/06                Sí        123   \n6631        6884  Encuesta docentes  05/06                Sí         33   \n6632        6885  Encuesta docentes  05/06                Sí        134   \n6633        6886  Encuesta docentes  06/06                Sí        125   \n6634        6887  Encuesta docentes  06/06                Sí        125   \n\n                   Tipo ID          ID                              Email  \\\n0     Cédula de ciudadanía     5828243          Mosquera.fabio@gmail.com    \n1     Cédula de ciudadanía    93377927                   nixong@yahoo.com   \n2     Cédula de ciudadanía    38363769        ivonne.saavedrab@nep.edu.co   \n3     Cédula de ciudadanía     5827991    javierlunarodriguez@hotmail.com   \n4     Cédula de ciudadanía  1110495748           pipe.edufisica@gmail.com   \n...                    ...         ...                                ...   \n6630  Cédula de ciudadanía    32799684  amarilisjimenezbatista@gmail.com    \n6631  Cédula de ciudadanía  1110463752           liliana.2003@hotmail.com   \n6632  Cédula de ciudadanía    84007686          charrles.brito@gmail.com    \n6633  Cédula de ciudadanía    25800742                  vmont81@gmail.com   \n6634  Cédula de ciudadanía    19955385            pedrovanbat@hotmail.com   \n\n      Edad       Sexo  ...  \\\n0     40.0  Masculino  ...   \n1     52.0  Masculino  ...   \n2     38.0   Femenino  ...   \n3     42.0  Masculino  ...   \n4     32.0  Masculino  ...   \n...    ...        ...  ...   \n6630  45.0   Femenino  ...   \n6631  35.0   Femenino  ...   \n6632  45.0  Masculino  ...   \n6633  41.0   Femenino  ...   \n6634  37.0  Masculino  ...   \n\n     8.8 Que la mayoría de personas en artes y humanidades sean mujeres es muestra de su sensibilidad.  \\\n0                                                Neutro                                                  \n1                              Totalmente en desacuerdo                                                  \n2                              Totalmente en desacuerdo                                                  \n3                                         En desacuerdo                                                  \n4                              Totalmente en desacuerdo                                                  \n...                                                 ...                                                  \n6630                                      En desacuerdo                                                  \n6631                                             Neutro                                                  \n6632                                      En desacuerdo                                                  \n6633                           Totalmente en desacuerdo                                                  \n6634                                             Neutro                                                  \n\n     8.9 Es natural que los hombres sean buenos para los números y las mujeres para las letras.  \\\n0                                                Neutro                                           \n1                              Totalmente en desacuerdo                                           \n2                              Totalmente en desacuerdo                                           \n3                                         En desacuerdo                                           \n4                              Totalmente en desacuerdo                                           \n...                                                 ...                                           \n6630                                      En desacuerdo                                           \n6631                           Totalmente en desacuerdo                                           \n6632                           Totalmente en desacuerdo                                           \n6633                           Totalmente en desacuerdo                                           \n6634                                      En desacuerdo                                           \n\n     8.10 Los hombres son muy ágiles tomando decisiones importantes.  \\\n0                                                Neutro                \n1                              Totalmente en desacuerdo                \n2                              Totalmente en desacuerdo                \n3                                         En desacuerdo                \n4                              Totalmente en desacuerdo                \n...                                                 ...                \n6630                                      En desacuerdo                \n6631                                             Neutro                \n6632                           Totalmente en desacuerdo                \n6633                                             Neutro                \n6634                                      En desacuerdo                \n\n     8.11 Las niñas son más ordenadas que los niños.  \\\n0                                             Neutro   \n1                                         De acuerdo   \n2                           Totalmente en desacuerdo   \n3                                      En desacuerdo   \n4                              Totalmente de acuerdo   \n...                                              ...   \n6630                                   En desacuerdo   \n6631                                          Neutro   \n6632                        Totalmente en desacuerdo   \n6633                        Totalmente en desacuerdo   \n6634                                          Neutro   \n\n     8.12 Muchas mujeres se caracterizan por una pureza que pocos hombres poseen.  \\\n0                                                Neutro                             \n1                                                Neutro                             \n2                              Totalmente en desacuerdo                             \n3                                         En desacuerdo                             \n4                                                Neutro                             \n...                                                 ...                             \n6630                                      En desacuerdo                             \n6631                           Totalmente en desacuerdo                             \n6632                           Totalmente en desacuerdo                             \n6633                           Totalmente en desacuerdo                             \n6634                                         De acuerdo                             \n\n     8.13 Las mujeres deben ser queridas y protegidas por los hombres.  \\\n0                                                Neutro                  \n1                                                Neutro                  \n2                              Totalmente en desacuerdo                  \n3                                         En desacuerdo                  \n4                                            De acuerdo                  \n...                                                 ...                  \n6630                                         De acuerdo                  \n6631                                             Neutro                  \n6632                              Totalmente de acuerdo                  \n6633                                             Neutro                  \n6634                                         De acuerdo                  \n\n     8.14 Todo hombre debe tener una mujer a quien amar.  \\\n0                                                Neutro    \n1                              Totalmente en desacuerdo    \n2                              Totalmente en desacuerdo    \n3                                         En desacuerdo    \n4                                         En desacuerdo    \n...                                                 ...    \n6630                                      En desacuerdo    \n6631                                             Neutro    \n6632                              Totalmente de acuerdo    \n6633                           Totalmente en desacuerdo    \n6634                                         De acuerdo    \n\n     8.15 El hombre está incompleto sin la mujer.  \\\n0                                          Neutro   \n1                        Totalmente en desacuerdo   \n2                        Totalmente en desacuerdo   \n3                                   En desacuerdo   \n4                                   En desacuerdo   \n...                                           ...   \n6630                                En desacuerdo   \n6631                     Totalmente en desacuerdo   \n6632                        Totalmente de acuerdo   \n6633                     Totalmente en desacuerdo   \n6634                                       Neutro   \n\n     8.16 Las mujeres en comparación con los hombres, tienden a tener un sentido más refinado de la cultura y el buen gusto.  \\\n0                                                Neutro                                                                        \n1                              Totalmente en desacuerdo                                                                        \n2                              Totalmente en desacuerdo                                                                        \n3                                         En desacuerdo                                                                        \n4                                            De acuerdo                                                                        \n...                                                 ...                                                                        \n6630                                      En desacuerdo                                                                        \n6631                           Totalmente en desacuerdo                                                                        \n6632                                             Neutro                                                                        \n6633                           Totalmente en desacuerdo                                                                        \n6634                                         De acuerdo                                                                        \n\n     Comentarios género  \n0               Ninguno  \n1                   NaN  \n2                   NaN  \n3                   NaN  \n4                   NaN  \n...                 ...  \n6630   Sin comentarios   \n6631                NaN  \n6632                NaN  \n6633                NaN  \n6634                 No  \n\n[6635 rows x 91 columns]",
      "text/html": "<div>\n<style scoped>\n    .dataframe tbody tr th:only-of-type {\n        vertical-align: middle;\n    }\n\n    .dataframe tbody tr th {\n        vertical-align: top;\n    }\n\n    .dataframe thead th {\n        text-align: right;\n    }\n</style>\n<table border=\"1\" class=\"dataframe\">\n  <thead>\n    <tr style=\"text-align: right;\">\n      <th></th>\n      <th>N registro</th>\n      <th>Instrumento</th>\n      <th>Fecha</th>\n      <th>Política de datos</th>\n      <th>Código IE</th>\n      <th>Tipo ID</th>\n      <th>ID</th>\n      <th>Email</th>\n      <th>Edad</th>\n      <th>Sexo</th>\n      <th>...</th>\n      <th>8.8 Que la mayoría de personas en artes y humanidades sean mujeres es muestra de su sensibilidad.</th>\n      <th>8.9 Es natural que los hombres sean buenos para los números y las mujeres para las letras.</th>\n      <th>8.10 Los hombres son muy ágiles tomando decisiones importantes.</th>\n      <th>8.11 Las niñas son más ordenadas que los niños.</th>\n      <th>8.12 Muchas mujeres se caracterizan por una pureza que pocos hombres poseen.</th>\n      <th>8.13 Las mujeres deben ser queridas y protegidas por los hombres.</th>\n      <th>8.14 Todo hombre debe tener una mujer a quien amar.</th>\n      <th>8.15 El hombre está incompleto sin la mujer.</th>\n      <th>8.16 Las mujeres en comparación con los hombres, tienden a tener un sentido más refinado de la cultura y el buen gusto.</th>\n      <th>Comentarios género</th>\n    </tr>\n  </thead>\n  <tbody>\n    <tr>\n      <th>0</th>\n      <td>4</td>\n      <td>Encuesta docentes</td>\n      <td>18/04</td>\n      <td>Sí</td>\n      <td>206</td>\n      <td>Cédula de ciudadanía</td>\n      <td>5828243</td>\n      <td>Mosquera.fabio@gmail.com</td>\n      <td>40.0</td>\n      <td>Masculino</td>\n      <td>...</td>\n      <td>Neutro</td>\n      <td>Neutro</td>\n      <td>Neutro</td>\n      <td>Neutro</td>\n      <td>Neutro</td>\n      <td>Neutro</td>\n      <td>Neutro</td>\n      <td>Neutro</td>\n      <td>Neutro</td>\n      <td>Ninguno</td>\n    </tr>\n    <tr>\n      <th>1</th>\n      <td>5</td>\n      <td>Encuesta docentes</td>\n      <td>18/04</td>\n      <td>Sí</td>\n      <td>206</td>\n      <td>Cédula de ciudadanía</td>\n      <td>93377927</td>\n      <td>nixong@yahoo.com</td>\n      <td>52.0</td>\n      <td>Masculino</td>\n      <td>...</td>\n      <td>Totalmente en desacuerdo</td>\n      <td>Totalmente en desacuerdo</td>\n      <td>Totalmente en desacuerdo</td>\n      <td>De acuerdo</td>\n      <td>Neutro</td>\n      <td>Neutro</td>\n      <td>Totalmente en desacuerdo</td>\n      <td>Totalmente en desacuerdo</td>\n      <td>Totalmente en desacuerdo</td>\n      <td>NaN</td>\n    </tr>\n    <tr>\n      <th>2</th>\n      <td>6</td>\n      <td>Encuesta docentes</td>\n      <td>18/04</td>\n      <td>Sí</td>\n      <td>206</td>\n      <td>Cédula de ciudadanía</td>\n      <td>38363769</td>\n      <td>ivonne.saavedrab@nep.edu.co</td>\n      <td>38.0</td>\n      <td>Femenino</td>\n      <td>...</td>\n      <td>Totalmente en desacuerdo</td>\n      <td>Totalmente en desacuerdo</td>\n      <td>Totalmente en desacuerdo</td>\n      <td>Totalmente en desacuerdo</td>\n      <td>Totalmente en desacuerdo</td>\n      <td>Totalmente en desacuerdo</td>\n      <td>Totalmente en desacuerdo</td>\n      <td>Totalmente en desacuerdo</td>\n      <td>Totalmente en desacuerdo</td>\n      <td>NaN</td>\n    </tr>\n    <tr>\n      <th>3</th>\n      <td>7</td>\n      <td>Encuesta docentes</td>\n      <td>18/04</td>\n      <td>Sí</td>\n      <td>206</td>\n      <td>Cédula de ciudadanía</td>\n      <td>5827991</td>\n      <td>javierlunarodriguez@hotmail.com</td>\n      <td>42.0</td>\n      <td>Masculino</td>\n      <td>...</td>\n      <td>En desacuerdo</td>\n      <td>En desacuerdo</td>\n      <td>En desacuerdo</td>\n      <td>En desacuerdo</td>\n      <td>En desacuerdo</td>\n      <td>En desacuerdo</td>\n      <td>En desacuerdo</td>\n      <td>En desacuerdo</td>\n      <td>En desacuerdo</td>\n      <td>NaN</td>\n    </tr>\n    <tr>\n      <th>4</th>\n      <td>8</td>\n      <td>Encuesta docentes</td>\n      <td>18/04</td>\n      <td>Sí</td>\n      <td>206</td>\n      <td>Cédula de ciudadanía</td>\n      <td>1110495748</td>\n      <td>pipe.edufisica@gmail.com</td>\n      <td>32.0</td>\n      <td>Masculino</td>\n      <td>...</td>\n      <td>Totalmente en desacuerdo</td>\n      <td>Totalmente en desacuerdo</td>\n      <td>Totalmente en desacuerdo</td>\n      <td>Totalmente de acuerdo</td>\n      <td>Neutro</td>\n      <td>De acuerdo</td>\n      <td>En desacuerdo</td>\n      <td>En desacuerdo</td>\n      <td>De acuerdo</td>\n      <td>NaN</td>\n    </tr>\n    <tr>\n      <th>...</th>\n      <td>...</td>\n      <td>...</td>\n      <td>...</td>\n      <td>...</td>\n      <td>...</td>\n      <td>...</td>\n      <td>...</td>\n      <td>...</td>\n      <td>...</td>\n      <td>...</td>\n      <td>...</td>\n      <td>...</td>\n      <td>...</td>\n      <td>...</td>\n      <td>...</td>\n      <td>...</td>\n      <td>...</td>\n      <td>...</td>\n      <td>...</td>\n      <td>...</td>\n      <td>...</td>\n    </tr>\n    <tr>\n      <th>6630</th>\n      <td>6883</td>\n      <td>Encuesta docentes</td>\n      <td>03/06</td>\n      <td>Sí</td>\n      <td>123</td>\n      <td>Cédula de ciudadanía</td>\n      <td>32799684</td>\n      <td>amarilisjimenezbatista@gmail.com</td>\n      <td>45.0</td>\n      <td>Femenino</td>\n      <td>...</td>\n      <td>En desacuerdo</td>\n      <td>En desacuerdo</td>\n      <td>En desacuerdo</td>\n      <td>En desacuerdo</td>\n      <td>En desacuerdo</td>\n      <td>De acuerdo</td>\n      <td>En desacuerdo</td>\n      <td>En desacuerdo</td>\n      <td>En desacuerdo</td>\n      <td>Sin comentarios</td>\n    </tr>\n    <tr>\n      <th>6631</th>\n      <td>6884</td>\n      <td>Encuesta docentes</td>\n      <td>05/06</td>\n      <td>Sí</td>\n      <td>33</td>\n      <td>Cédula de ciudadanía</td>\n      <td>1110463752</td>\n      <td>liliana.2003@hotmail.com</td>\n      <td>35.0</td>\n      <td>Femenino</td>\n      <td>...</td>\n      <td>Neutro</td>\n      <td>Totalmente en desacuerdo</td>\n      <td>Neutro</td>\n      <td>Neutro</td>\n      <td>Totalmente en desacuerdo</td>\n      <td>Neutro</td>\n      <td>Neutro</td>\n      <td>Totalmente en desacuerdo</td>\n      <td>Totalmente en desacuerdo</td>\n      <td>NaN</td>\n    </tr>\n    <tr>\n      <th>6632</th>\n      <td>6885</td>\n      <td>Encuesta docentes</td>\n      <td>05/06</td>\n      <td>Sí</td>\n      <td>134</td>\n      <td>Cédula de ciudadanía</td>\n      <td>84007686</td>\n      <td>charrles.brito@gmail.com</td>\n      <td>45.0</td>\n      <td>Masculino</td>\n      <td>...</td>\n      <td>En desacuerdo</td>\n      <td>Totalmente en desacuerdo</td>\n      <td>Totalmente en desacuerdo</td>\n      <td>Totalmente en desacuerdo</td>\n      <td>Totalmente en desacuerdo</td>\n      <td>Totalmente de acuerdo</td>\n      <td>Totalmente de acuerdo</td>\n      <td>Totalmente de acuerdo</td>\n      <td>Neutro</td>\n      <td>NaN</td>\n    </tr>\n    <tr>\n      <th>6633</th>\n      <td>6886</td>\n      <td>Encuesta docentes</td>\n      <td>06/06</td>\n      <td>Sí</td>\n      <td>125</td>\n      <td>Cédula de ciudadanía</td>\n      <td>25800742</td>\n      <td>vmont81@gmail.com</td>\n      <td>41.0</td>\n      <td>Femenino</td>\n      <td>...</td>\n      <td>Totalmente en desacuerdo</td>\n      <td>Totalmente en desacuerdo</td>\n      <td>Neutro</td>\n      <td>Totalmente en desacuerdo</td>\n      <td>Totalmente en desacuerdo</td>\n      <td>Neutro</td>\n      <td>Totalmente en desacuerdo</td>\n      <td>Totalmente en desacuerdo</td>\n      <td>Totalmente en desacuerdo</td>\n      <td>NaN</td>\n    </tr>\n    <tr>\n      <th>6634</th>\n      <td>6887</td>\n      <td>Encuesta docentes</td>\n      <td>06/06</td>\n      <td>Sí</td>\n      <td>125</td>\n      <td>Cédula de ciudadanía</td>\n      <td>19955385</td>\n      <td>pedrovanbat@hotmail.com</td>\n      <td>37.0</td>\n      <td>Masculino</td>\n      <td>...</td>\n      <td>Neutro</td>\n      <td>En desacuerdo</td>\n      <td>En desacuerdo</td>\n      <td>Neutro</td>\n      <td>De acuerdo</td>\n      <td>De acuerdo</td>\n      <td>De acuerdo</td>\n      <td>Neutro</td>\n      <td>De acuerdo</td>\n      <td>No</td>\n    </tr>\n  </tbody>\n</table>\n<p>6635 rows × 91 columns</p>\n</div>"
     },
     "execution_count": 25,
     "metadata": {},
     "output_type": "execute_result"
    }
   ],
   "source": [
    "doc = pd.read_excel(ruta_git/'data/descargables/DocentesCFK.xlsx')\n",
    "doc"
   ],
   "metadata": {
    "collapsed": false,
    "pycharm": {
     "name": "#%%\n"
    }
   }
  },
  {
   "cell_type": "code",
   "execution_count": 31,
   "outputs": [
    {
     "data": {
      "text/plain": "      N registro        Instrumento  Fecha Política de datos  Código IE  \\\n0              4  Encuesta docentes  18/04                Sí        206   \n1              5  Encuesta docentes  18/04                Sí        206   \n2              6  Encuesta docentes  18/04                Sí        206   \n3              7  Encuesta docentes  18/04                Sí        206   \n4              8  Encuesta docentes  18/04                Sí        206   \n...          ...                ...    ...               ...        ...   \n6630        6883  Encuesta docentes  03/06                Sí        123   \n6631        6884  Encuesta docentes  05/06                Sí         33   \n6632        6885  Encuesta docentes  05/06                Sí        134   \n6633        6886  Encuesta docentes  06/06                Sí        125   \n6634        6887  Encuesta docentes  06/06                Sí        125   \n\n                   Tipo ID          ID                              Email  \\\n0     Cédula de ciudadanía     5828243          Mosquera.fabio@gmail.com    \n1     Cédula de ciudadanía    93377927                   nixong@yahoo.com   \n2     Cédula de ciudadanía    38363769        ivonne.saavedrab@nep.edu.co   \n3     Cédula de ciudadanía     5827991    javierlunarodriguez@hotmail.com   \n4     Cédula de ciudadanía  1110495748           pipe.edufisica@gmail.com   \n...                    ...         ...                                ...   \n6630  Cédula de ciudadanía    32799684  amarilisjimenezbatista@gmail.com    \n6631  Cédula de ciudadanía  1110463752           liliana.2003@hotmail.com   \n6632  Cédula de ciudadanía    84007686          charrles.brito@gmail.com    \n6633  Cédula de ciudadanía    25800742                  vmont81@gmail.com   \n6634  Cédula de ciudadanía    19955385            pedrovanbat@hotmail.com   \n\n      Edad       Sexo  ...  \\\n0     40.0  Masculino  ...   \n1     52.0  Masculino  ...   \n2     38.0   Femenino  ...   \n3     42.0  Masculino  ...   \n4     32.0  Masculino  ...   \n...    ...        ...  ...   \n6630  45.0   Femenino  ...   \n6631  35.0   Femenino  ...   \n6632  45.0  Masculino  ...   \n6633  41.0   Femenino  ...   \n6634  37.0  Masculino  ...   \n\n     8.8 Que la mayoría de personas en artes y humanidades sean mujeres es muestra de su sensibilidad.  \\\n0                                                Neutro                                                  \n1                              Totalmente en desacuerdo                                                  \n2                              Totalmente en desacuerdo                                                  \n3                                         En desacuerdo                                                  \n4                              Totalmente en desacuerdo                                                  \n...                                                 ...                                                  \n6630                                      En desacuerdo                                                  \n6631                                             Neutro                                                  \n6632                                      En desacuerdo                                                  \n6633                           Totalmente en desacuerdo                                                  \n6634                                             Neutro                                                  \n\n     8.9 Es natural que los hombres sean buenos para los números y las mujeres para las letras.  \\\n0                                                Neutro                                           \n1                              Totalmente en desacuerdo                                           \n2                              Totalmente en desacuerdo                                           \n3                                         En desacuerdo                                           \n4                              Totalmente en desacuerdo                                           \n...                                                 ...                                           \n6630                                      En desacuerdo                                           \n6631                           Totalmente en desacuerdo                                           \n6632                           Totalmente en desacuerdo                                           \n6633                           Totalmente en desacuerdo                                           \n6634                                      En desacuerdo                                           \n\n     8.10 Los hombres son muy ágiles tomando decisiones importantes.  \\\n0                                                Neutro                \n1                              Totalmente en desacuerdo                \n2                              Totalmente en desacuerdo                \n3                                         En desacuerdo                \n4                              Totalmente en desacuerdo                \n...                                                 ...                \n6630                                      En desacuerdo                \n6631                                             Neutro                \n6632                           Totalmente en desacuerdo                \n6633                                             Neutro                \n6634                                      En desacuerdo                \n\n     8.11 Las niñas son más ordenadas que los niños.  \\\n0                                             Neutro   \n1                                         De acuerdo   \n2                           Totalmente en desacuerdo   \n3                                      En desacuerdo   \n4                              Totalmente de acuerdo   \n...                                              ...   \n6630                                   En desacuerdo   \n6631                                          Neutro   \n6632                        Totalmente en desacuerdo   \n6633                        Totalmente en desacuerdo   \n6634                                          Neutro   \n\n     8.12 Muchas mujeres se caracterizan por una pureza que pocos hombres poseen.  \\\n0                                                Neutro                             \n1                                                Neutro                             \n2                              Totalmente en desacuerdo                             \n3                                         En desacuerdo                             \n4                                                Neutro                             \n...                                                 ...                             \n6630                                      En desacuerdo                             \n6631                           Totalmente en desacuerdo                             \n6632                           Totalmente en desacuerdo                             \n6633                           Totalmente en desacuerdo                             \n6634                                         De acuerdo                             \n\n     8.13 Las mujeres deben ser queridas y protegidas por los hombres.  \\\n0                                                Neutro                  \n1                                                Neutro                  \n2                              Totalmente en desacuerdo                  \n3                                         En desacuerdo                  \n4                                            De acuerdo                  \n...                                                 ...                  \n6630                                         De acuerdo                  \n6631                                             Neutro                  \n6632                              Totalmente de acuerdo                  \n6633                                             Neutro                  \n6634                                         De acuerdo                  \n\n     8.14 Todo hombre debe tener una mujer a quien amar.  \\\n0                                                Neutro    \n1                              Totalmente en desacuerdo    \n2                              Totalmente en desacuerdo    \n3                                         En desacuerdo    \n4                                         En desacuerdo    \n...                                                 ...    \n6630                                      En desacuerdo    \n6631                                             Neutro    \n6632                              Totalmente de acuerdo    \n6633                           Totalmente en desacuerdo    \n6634                                         De acuerdo    \n\n     8.15 El hombre está incompleto sin la mujer.  \\\n0                                          Neutro   \n1                        Totalmente en desacuerdo   \n2                        Totalmente en desacuerdo   \n3                                   En desacuerdo   \n4                                   En desacuerdo   \n...                                           ...   \n6630                                En desacuerdo   \n6631                     Totalmente en desacuerdo   \n6632                        Totalmente de acuerdo   \n6633                     Totalmente en desacuerdo   \n6634                                       Neutro   \n\n     8.16 Las mujeres en comparación con los hombres, tienden a tener un sentido más refinado de la cultura y el buen gusto.  \\\n0                                                Neutro                                                                        \n1                              Totalmente en desacuerdo                                                                        \n2                              Totalmente en desacuerdo                                                                        \n3                                         En desacuerdo                                                                        \n4                                            De acuerdo                                                                        \n...                                                 ...                                                                        \n6630                                      En desacuerdo                                                                        \n6631                           Totalmente en desacuerdo                                                                        \n6632                                             Neutro                                                                        \n6633                           Totalmente en desacuerdo                                                                        \n6634                                         De acuerdo                                                                        \n\n     Comentarios género  \n0               Ninguno  \n1                   NaN  \n2                   NaN  \n3                   NaN  \n4                   NaN  \n...                 ...  \n6630   Sin comentarios   \n6631                NaN  \n6632                NaN  \n6633                NaN  \n6634                 No  \n\n[6635 rows x 91 columns]",
      "text/html": "<div>\n<style scoped>\n    .dataframe tbody tr th:only-of-type {\n        vertical-align: middle;\n    }\n\n    .dataframe tbody tr th {\n        vertical-align: top;\n    }\n\n    .dataframe thead th {\n        text-align: right;\n    }\n</style>\n<table border=\"1\" class=\"dataframe\">\n  <thead>\n    <tr style=\"text-align: right;\">\n      <th></th>\n      <th>N registro</th>\n      <th>Instrumento</th>\n      <th>Fecha</th>\n      <th>Política de datos</th>\n      <th>Código IE</th>\n      <th>Tipo ID</th>\n      <th>ID</th>\n      <th>Email</th>\n      <th>Edad</th>\n      <th>Sexo</th>\n      <th>...</th>\n      <th>8.8 Que la mayoría de personas en artes y humanidades sean mujeres es muestra de su sensibilidad.</th>\n      <th>8.9 Es natural que los hombres sean buenos para los números y las mujeres para las letras.</th>\n      <th>8.10 Los hombres son muy ágiles tomando decisiones importantes.</th>\n      <th>8.11 Las niñas son más ordenadas que los niños.</th>\n      <th>8.12 Muchas mujeres se caracterizan por una pureza que pocos hombres poseen.</th>\n      <th>8.13 Las mujeres deben ser queridas y protegidas por los hombres.</th>\n      <th>8.14 Todo hombre debe tener una mujer a quien amar.</th>\n      <th>8.15 El hombre está incompleto sin la mujer.</th>\n      <th>8.16 Las mujeres en comparación con los hombres, tienden a tener un sentido más refinado de la cultura y el buen gusto.</th>\n      <th>Comentarios género</th>\n    </tr>\n  </thead>\n  <tbody>\n    <tr>\n      <th>0</th>\n      <td>4</td>\n      <td>Encuesta docentes</td>\n      <td>18/04</td>\n      <td>Sí</td>\n      <td>206</td>\n      <td>Cédula de ciudadanía</td>\n      <td>5828243</td>\n      <td>Mosquera.fabio@gmail.com</td>\n      <td>40.0</td>\n      <td>Masculino</td>\n      <td>...</td>\n      <td>Neutro</td>\n      <td>Neutro</td>\n      <td>Neutro</td>\n      <td>Neutro</td>\n      <td>Neutro</td>\n      <td>Neutro</td>\n      <td>Neutro</td>\n      <td>Neutro</td>\n      <td>Neutro</td>\n      <td>Ninguno</td>\n    </tr>\n    <tr>\n      <th>1</th>\n      <td>5</td>\n      <td>Encuesta docentes</td>\n      <td>18/04</td>\n      <td>Sí</td>\n      <td>206</td>\n      <td>Cédula de ciudadanía</td>\n      <td>93377927</td>\n      <td>nixong@yahoo.com</td>\n      <td>52.0</td>\n      <td>Masculino</td>\n      <td>...</td>\n      <td>Totalmente en desacuerdo</td>\n      <td>Totalmente en desacuerdo</td>\n      <td>Totalmente en desacuerdo</td>\n      <td>De acuerdo</td>\n      <td>Neutro</td>\n      <td>Neutro</td>\n      <td>Totalmente en desacuerdo</td>\n      <td>Totalmente en desacuerdo</td>\n      <td>Totalmente en desacuerdo</td>\n      <td>NaN</td>\n    </tr>\n    <tr>\n      <th>2</th>\n      <td>6</td>\n      <td>Encuesta docentes</td>\n      <td>18/04</td>\n      <td>Sí</td>\n      <td>206</td>\n      <td>Cédula de ciudadanía</td>\n      <td>38363769</td>\n      <td>ivonne.saavedrab@nep.edu.co</td>\n      <td>38.0</td>\n      <td>Femenino</td>\n      <td>...</td>\n      <td>Totalmente en desacuerdo</td>\n      <td>Totalmente en desacuerdo</td>\n      <td>Totalmente en desacuerdo</td>\n      <td>Totalmente en desacuerdo</td>\n      <td>Totalmente en desacuerdo</td>\n      <td>Totalmente en desacuerdo</td>\n      <td>Totalmente en desacuerdo</td>\n      <td>Totalmente en desacuerdo</td>\n      <td>Totalmente en desacuerdo</td>\n      <td>NaN</td>\n    </tr>\n    <tr>\n      <th>3</th>\n      <td>7</td>\n      <td>Encuesta docentes</td>\n      <td>18/04</td>\n      <td>Sí</td>\n      <td>206</td>\n      <td>Cédula de ciudadanía</td>\n      <td>5827991</td>\n      <td>javierlunarodriguez@hotmail.com</td>\n      <td>42.0</td>\n      <td>Masculino</td>\n      <td>...</td>\n      <td>En desacuerdo</td>\n      <td>En desacuerdo</td>\n      <td>En desacuerdo</td>\n      <td>En desacuerdo</td>\n      <td>En desacuerdo</td>\n      <td>En desacuerdo</td>\n      <td>En desacuerdo</td>\n      <td>En desacuerdo</td>\n      <td>En desacuerdo</td>\n      <td>NaN</td>\n    </tr>\n    <tr>\n      <th>4</th>\n      <td>8</td>\n      <td>Encuesta docentes</td>\n      <td>18/04</td>\n      <td>Sí</td>\n      <td>206</td>\n      <td>Cédula de ciudadanía</td>\n      <td>1110495748</td>\n      <td>pipe.edufisica@gmail.com</td>\n      <td>32.0</td>\n      <td>Masculino</td>\n      <td>...</td>\n      <td>Totalmente en desacuerdo</td>\n      <td>Totalmente en desacuerdo</td>\n      <td>Totalmente en desacuerdo</td>\n      <td>Totalmente de acuerdo</td>\n      <td>Neutro</td>\n      <td>De acuerdo</td>\n      <td>En desacuerdo</td>\n      <td>En desacuerdo</td>\n      <td>De acuerdo</td>\n      <td>NaN</td>\n    </tr>\n    <tr>\n      <th>...</th>\n      <td>...</td>\n      <td>...</td>\n      <td>...</td>\n      <td>...</td>\n      <td>...</td>\n      <td>...</td>\n      <td>...</td>\n      <td>...</td>\n      <td>...</td>\n      <td>...</td>\n      <td>...</td>\n      <td>...</td>\n      <td>...</td>\n      <td>...</td>\n      <td>...</td>\n      <td>...</td>\n      <td>...</td>\n      <td>...</td>\n      <td>...</td>\n      <td>...</td>\n      <td>...</td>\n    </tr>\n    <tr>\n      <th>6630</th>\n      <td>6883</td>\n      <td>Encuesta docentes</td>\n      <td>03/06</td>\n      <td>Sí</td>\n      <td>123</td>\n      <td>Cédula de ciudadanía</td>\n      <td>32799684</td>\n      <td>amarilisjimenezbatista@gmail.com</td>\n      <td>45.0</td>\n      <td>Femenino</td>\n      <td>...</td>\n      <td>En desacuerdo</td>\n      <td>En desacuerdo</td>\n      <td>En desacuerdo</td>\n      <td>En desacuerdo</td>\n      <td>En desacuerdo</td>\n      <td>De acuerdo</td>\n      <td>En desacuerdo</td>\n      <td>En desacuerdo</td>\n      <td>En desacuerdo</td>\n      <td>Sin comentarios</td>\n    </tr>\n    <tr>\n      <th>6631</th>\n      <td>6884</td>\n      <td>Encuesta docentes</td>\n      <td>05/06</td>\n      <td>Sí</td>\n      <td>33</td>\n      <td>Cédula de ciudadanía</td>\n      <td>1110463752</td>\n      <td>liliana.2003@hotmail.com</td>\n      <td>35.0</td>\n      <td>Femenino</td>\n      <td>...</td>\n      <td>Neutro</td>\n      <td>Totalmente en desacuerdo</td>\n      <td>Neutro</td>\n      <td>Neutro</td>\n      <td>Totalmente en desacuerdo</td>\n      <td>Neutro</td>\n      <td>Neutro</td>\n      <td>Totalmente en desacuerdo</td>\n      <td>Totalmente en desacuerdo</td>\n      <td>NaN</td>\n    </tr>\n    <tr>\n      <th>6632</th>\n      <td>6885</td>\n      <td>Encuesta docentes</td>\n      <td>05/06</td>\n      <td>Sí</td>\n      <td>134</td>\n      <td>Cédula de ciudadanía</td>\n      <td>84007686</td>\n      <td>charrles.brito@gmail.com</td>\n      <td>45.0</td>\n      <td>Masculino</td>\n      <td>...</td>\n      <td>En desacuerdo</td>\n      <td>Totalmente en desacuerdo</td>\n      <td>Totalmente en desacuerdo</td>\n      <td>Totalmente en desacuerdo</td>\n      <td>Totalmente en desacuerdo</td>\n      <td>Totalmente de acuerdo</td>\n      <td>Totalmente de acuerdo</td>\n      <td>Totalmente de acuerdo</td>\n      <td>Neutro</td>\n      <td>NaN</td>\n    </tr>\n    <tr>\n      <th>6633</th>\n      <td>6886</td>\n      <td>Encuesta docentes</td>\n      <td>06/06</td>\n      <td>Sí</td>\n      <td>125</td>\n      <td>Cédula de ciudadanía</td>\n      <td>25800742</td>\n      <td>vmont81@gmail.com</td>\n      <td>41.0</td>\n      <td>Femenino</td>\n      <td>...</td>\n      <td>Totalmente en desacuerdo</td>\n      <td>Totalmente en desacuerdo</td>\n      <td>Neutro</td>\n      <td>Totalmente en desacuerdo</td>\n      <td>Totalmente en desacuerdo</td>\n      <td>Neutro</td>\n      <td>Totalmente en desacuerdo</td>\n      <td>Totalmente en desacuerdo</td>\n      <td>Totalmente en desacuerdo</td>\n      <td>NaN</td>\n    </tr>\n    <tr>\n      <th>6634</th>\n      <td>6887</td>\n      <td>Encuesta docentes</td>\n      <td>06/06</td>\n      <td>Sí</td>\n      <td>125</td>\n      <td>Cédula de ciudadanía</td>\n      <td>19955385</td>\n      <td>pedrovanbat@hotmail.com</td>\n      <td>37.0</td>\n      <td>Masculino</td>\n      <td>...</td>\n      <td>Neutro</td>\n      <td>En desacuerdo</td>\n      <td>En desacuerdo</td>\n      <td>Neutro</td>\n      <td>De acuerdo</td>\n      <td>De acuerdo</td>\n      <td>De acuerdo</td>\n      <td>Neutro</td>\n      <td>De acuerdo</td>\n      <td>No</td>\n    </tr>\n  </tbody>\n</table>\n<p>6635 rows × 91 columns</p>\n</div>"
     },
     "execution_count": 31,
     "metadata": {},
     "output_type": "execute_result"
    }
   ],
   "source": [
    "columnas_no_conoce_pc = doc.filter(regex=r'^1.|^2.', axis=1).columns.tolist()\n",
    "columnas_institucion = doc.filter(regex=r'^3.',axis=1).columns.tolist()\n",
    "\n",
    "doc[columnas_no_conoce_pc] = doc[columnas_no_conoce_pc].fillna('Totalmente en Desacuerdo')\n",
    "doc[columnas_institucion] = doc[columnas_institucion].fillna(\"Neutro\")\n",
    "doc"
   ],
   "metadata": {
    "collapsed": false,
    "pycharm": {
     "name": "#%%\n"
    }
   }
  },
  {
   "cell_type": "code",
   "execution_count": 32,
   "outputs": [
    {
     "data": {
      "text/plain": "['Neutro',\n 'En Desacuerdo',\n 'Totalmente en desacuerdo',\n 'De Acuerdo',\n 'Totalmente de Acuerdo']"
     },
     "execution_count": 32,
     "metadata": {},
     "output_type": "execute_result"
    }
   ],
   "source": [
    "list(doc['3.2 En la programación anual del colegio existen actividades asociadas al pensamiento computacional'].unique())"
   ],
   "metadata": {
    "collapsed": false,
    "pycharm": {
     "name": "#%%\n"
    }
   }
  },
  {
   "cell_type": "code",
   "execution_count": 33,
   "outputs": [],
   "source": [
    "cols_doc_d6 = {\n",
    "   'Considera importante enseñar el pensamiento computacional desde los primeros niveles educativos': {\n",
    "        \"Importante para todas las áreas y niveles\":\"5\",\n",
    "        \"Algo importante, pero solo para los docentes de tecnología\": \"3\",\n",
    "        \"Poco importante, solo es relevante para los niveles superiores\":\"3\",\n",
    "       \"Nada importante, no creo que se ajuste al plan educativo\":\"1B\",\n",
    "        \"No sé qué es el pensamiento computacional.\":\"1A\"},\n",
    "    '3.9 Tener educación en pensamiento computacional mejoraría significativamente las futuras opciones de ocupación para los estudiantes de mi escuela.':{\n",
    "        'Neutro':\"2A\",\n",
    " 'Totalmente en desacuerdo':\"1A\",\n",
    " 'Totalmente de Acuerdo':\"5\",\n",
    " 'En Desacuerdo':\"1A\",\n",
    " 'De Acuerdo':\"5\"\n",
    "    },\n",
    "   '3.2 En la programación anual del colegio existen actividades asociadas al pensamiento computacional':{\n",
    "       'Neutro':\"2A\",\n",
    " 'En Desacuerdo':\"1B\",\n",
    " 'Totalmente en desacuerdo':\"1B\",\n",
    " 'De Acuerdo':'5',\n",
    " 'Totalmente de Acuerdo' :\"5\"\n",
    "    }\n",
    "}"
   ],
   "metadata": {
    "collapsed": false,
    "pycharm": {
     "name": "#%%\n"
    }
   }
  },
  {
   "cell_type": "code",
   "execution_count": 34,
   "outputs": [
    {
     "data": {
      "text/plain": "          Considera importante enseñar el pensamiento computacional desde los primeros niveles educativos  \\\nCódigo IE                                                                                                   \n1                                                          5                                                \n2                                                          5                                                \n3                                                          5                                                \n4                                                          5                                                \n5                                                          5                                                \n...                                                      ...                                                \n248                                                        5                                                \n249                                                        5                                                \n250                                                        5                                                \n251                                                        5                                                \n252                                                        5                                                \n\n          3.9 Tener educación en pensamiento computacional mejoraría significativamente las futuras opciones de ocupación para los estudiantes de mi escuela.  \\\nCódigo IE                                                                                                                                                       \n1                                                          5                                                                                                    \n2                                                          5                                                                                                    \n3                                                          5                                                                                                    \n4                                                          5                                                                                                    \n5                                                          5                                                                                                    \n...                                                      ...                                                                                                    \n248                                                        5                                                                                                    \n249                                                        5                                                                                                    \n250                                                        5                                                                                                    \n251                                                        5                                                                                                    \n252                                                        5                                                                                                    \n\n          3.2 En la programación anual del colegio existen actividades asociadas al pensamiento computacional  \\\nCódigo IE                                                                                                       \n1                                                          5                                                    \n2                                                          5                                                    \n3                                                          5                                                    \n4                                                          5                                                    \n5                                                          5                                                    \n...                                                      ...                                                    \n248                                                       2A                                                    \n249                                                        5                                                    \n250                                                        5                                                    \n251                                                        5                                                    \n252                                                        5                                                    \n\n          Nivel lider  \nCódigo IE              \n1                   5  \n2                   5  \n3                   5  \n4                   5  \n5                   5  \n...               ...  \n248                2A  \n249                 5  \n250                 5  \n251                 5  \n252                 5  \n\n[249 rows x 4 columns]",
      "text/html": "<div>\n<style scoped>\n    .dataframe tbody tr th:only-of-type {\n        vertical-align: middle;\n    }\n\n    .dataframe tbody tr th {\n        vertical-align: top;\n    }\n\n    .dataframe thead th {\n        text-align: right;\n    }\n</style>\n<table border=\"1\" class=\"dataframe\">\n  <thead>\n    <tr style=\"text-align: right;\">\n      <th></th>\n      <th>Considera importante enseñar el pensamiento computacional desde los primeros niveles educativos</th>\n      <th>3.9 Tener educación en pensamiento computacional mejoraría significativamente las futuras opciones de ocupación para los estudiantes de mi escuela.</th>\n      <th>3.2 En la programación anual del colegio existen actividades asociadas al pensamiento computacional</th>\n      <th>Nivel lider</th>\n    </tr>\n    <tr>\n      <th>Código IE</th>\n      <th></th>\n      <th></th>\n      <th></th>\n      <th></th>\n    </tr>\n  </thead>\n  <tbody>\n    <tr>\n      <th>1</th>\n      <td>5</td>\n      <td>5</td>\n      <td>5</td>\n      <td>5</td>\n    </tr>\n    <tr>\n      <th>2</th>\n      <td>5</td>\n      <td>5</td>\n      <td>5</td>\n      <td>5</td>\n    </tr>\n    <tr>\n      <th>3</th>\n      <td>5</td>\n      <td>5</td>\n      <td>5</td>\n      <td>5</td>\n    </tr>\n    <tr>\n      <th>4</th>\n      <td>5</td>\n      <td>5</td>\n      <td>5</td>\n      <td>5</td>\n    </tr>\n    <tr>\n      <th>5</th>\n      <td>5</td>\n      <td>5</td>\n      <td>5</td>\n      <td>5</td>\n    </tr>\n    <tr>\n      <th>...</th>\n      <td>...</td>\n      <td>...</td>\n      <td>...</td>\n      <td>...</td>\n    </tr>\n    <tr>\n      <th>248</th>\n      <td>5</td>\n      <td>5</td>\n      <td>2A</td>\n      <td>2A</td>\n    </tr>\n    <tr>\n      <th>249</th>\n      <td>5</td>\n      <td>5</td>\n      <td>5</td>\n      <td>5</td>\n    </tr>\n    <tr>\n      <th>250</th>\n      <td>5</td>\n      <td>5</td>\n      <td>5</td>\n      <td>5</td>\n    </tr>\n    <tr>\n      <th>251</th>\n      <td>5</td>\n      <td>5</td>\n      <td>5</td>\n      <td>5</td>\n    </tr>\n    <tr>\n      <th>252</th>\n      <td>5</td>\n      <td>5</td>\n      <td>5</td>\n      <td>5</td>\n    </tr>\n  </tbody>\n</table>\n<p>249 rows × 4 columns</p>\n</div>"
     },
     "execution_count": 34,
     "metadata": {},
     "output_type": "execute_result"
    }
   ],
   "source": [
    "doc_d6 = doc[['Código IE']+list(cols_doc_d6.keys())]\n",
    "doc_d6 = doc_d6.replace(cols_doc_d6)\n",
    "doc_d6 = doc_d6.groupby('Código IE').max().reset_index()\n",
    "doc_d6 = doc_d6.set_index('Código IE')\n",
    "doc_d6['Nivel lider'] = doc_d6.min(axis=1)\n",
    "\n",
    "doc_d6"
   ],
   "metadata": {
    "collapsed": false,
    "pycharm": {
     "name": "#%%\n"
    }
   }
  },
  {
   "cell_type": "markdown",
   "source": [],
   "metadata": {
    "collapsed": false
   }
  },
  {
   "cell_type": "code",
   "execution_count": 50,
   "outputs": [],
   "source": [
    "dimension6= pd.concat([doc_d6,dir_d6,plan1_d6, plan2_d6],ignore_index=False, axis=1)\n",
    "#dimension6 = dimension6.reset_index()\n"
   ],
   "metadata": {
    "collapsed": false,
    "pycharm": {
     "name": "#%%\n"
    }
   }
  },
  {
   "cell_type": "code",
   "execution_count": 51,
   "outputs": [],
   "source": [
    "dimension6 = dimension6.filter(regex='^Nivel|Dimens')"
   ],
   "metadata": {
    "collapsed": false,
    "pycharm": {
     "name": "#%%\n"
    }
   }
  },
  {
   "cell_type": "code",
   "execution_count": 52,
   "outputs": [
    {
     "data": {
      "text/plain": "          Nivel lider Nivel Directivos Nivel Revision Plan Nivel lider\nCódigo IE                                                             \n1                   5               1B                  1B           0\n2                   5                5                  1B          2B\n3                   5               1B                  1B           5\n4                   5               1B                  1B          2B\n5                   5                5                  1B           5\n...               ...              ...                 ...         ...\n250                 5               1B                  2B          2B\n251                 5               1B                  1B          2B\n252                 5                5                  1B          2B\n192                 0               2A                   0           0\n234                 0               1A                  1B           0\n\n[251 rows x 4 columns]",
      "text/html": "<div>\n<style scoped>\n    .dataframe tbody tr th:only-of-type {\n        vertical-align: middle;\n    }\n\n    .dataframe tbody tr th {\n        vertical-align: top;\n    }\n\n    .dataframe thead th {\n        text-align: right;\n    }\n</style>\n<table border=\"1\" class=\"dataframe\">\n  <thead>\n    <tr style=\"text-align: right;\">\n      <th></th>\n      <th>Nivel lider</th>\n      <th>Nivel Directivos</th>\n      <th>Nivel Revision Plan</th>\n      <th>Nivel lider</th>\n    </tr>\n    <tr>\n      <th>Código IE</th>\n      <th></th>\n      <th></th>\n      <th></th>\n      <th></th>\n    </tr>\n  </thead>\n  <tbody>\n    <tr>\n      <th>1</th>\n      <td>5</td>\n      <td>1B</td>\n      <td>1B</td>\n      <td>0</td>\n    </tr>\n    <tr>\n      <th>2</th>\n      <td>5</td>\n      <td>5</td>\n      <td>1B</td>\n      <td>2B</td>\n    </tr>\n    <tr>\n      <th>3</th>\n      <td>5</td>\n      <td>1B</td>\n      <td>1B</td>\n      <td>5</td>\n    </tr>\n    <tr>\n      <th>4</th>\n      <td>5</td>\n      <td>1B</td>\n      <td>1B</td>\n      <td>2B</td>\n    </tr>\n    <tr>\n      <th>5</th>\n      <td>5</td>\n      <td>5</td>\n      <td>1B</td>\n      <td>5</td>\n    </tr>\n    <tr>\n      <th>...</th>\n      <td>...</td>\n      <td>...</td>\n      <td>...</td>\n      <td>...</td>\n    </tr>\n    <tr>\n      <th>250</th>\n      <td>5</td>\n      <td>1B</td>\n      <td>2B</td>\n      <td>2B</td>\n    </tr>\n    <tr>\n      <th>251</th>\n      <td>5</td>\n      <td>1B</td>\n      <td>1B</td>\n      <td>2B</td>\n    </tr>\n    <tr>\n      <th>252</th>\n      <td>5</td>\n      <td>5</td>\n      <td>1B</td>\n      <td>2B</td>\n    </tr>\n    <tr>\n      <th>192</th>\n      <td>0</td>\n      <td>2A</td>\n      <td>0</td>\n      <td>0</td>\n    </tr>\n    <tr>\n      <th>234</th>\n      <td>0</td>\n      <td>1A</td>\n      <td>1B</td>\n      <td>0</td>\n    </tr>\n  </tbody>\n</table>\n<p>251 rows × 4 columns</p>\n</div>"
     },
     "execution_count": 52,
     "metadata": {},
     "output_type": "execute_result"
    }
   ],
   "source": [
    "dimension6 = dimension6.fillna(\"0\")\n",
    "dimension6"
   ],
   "metadata": {
    "collapsed": false,
    "pycharm": {
     "name": "#%%\n"
    }
   }
  },
  {
   "cell_type": "code",
   "execution_count": 53,
   "outputs": [
    {
     "data": {
      "text/plain": "          Nivel lider Nivel Directivos Nivel Revision Plan Nivel lider  \\\nCódigo IE                                                                \n1                   5               1B                  1B           0   \n2                   5                5                  1B          2B   \n3                   5               1B                  1B           5   \n4                   5               1B                  1B          2B   \n5                   5                5                  1B           5   \n...               ...              ...                 ...         ...   \n250                 5               1B                  2B          2B   \n251                 5               1B                  1B          2B   \n252                 5                5                  1B          2B   \n192                 0               2A                   0           0   \n234                 0               1A                  1B           0   \n\n          Dimensión 6  \nCódigo IE              \n1                   0  \n2                  1B  \n3                  1B  \n4                  1B  \n5                  1B  \n...               ...  \n250                1B  \n251                1B  \n252                1B  \n192                 0  \n234                 0  \n\n[251 rows x 5 columns]",
      "text/html": "<div>\n<style scoped>\n    .dataframe tbody tr th:only-of-type {\n        vertical-align: middle;\n    }\n\n    .dataframe tbody tr th {\n        vertical-align: top;\n    }\n\n    .dataframe thead th {\n        text-align: right;\n    }\n</style>\n<table border=\"1\" class=\"dataframe\">\n  <thead>\n    <tr style=\"text-align: right;\">\n      <th></th>\n      <th>Nivel lider</th>\n      <th>Nivel Directivos</th>\n      <th>Nivel Revision Plan</th>\n      <th>Nivel lider</th>\n      <th>Dimensión 6</th>\n    </tr>\n    <tr>\n      <th>Código IE</th>\n      <th></th>\n      <th></th>\n      <th></th>\n      <th></th>\n      <th></th>\n    </tr>\n  </thead>\n  <tbody>\n    <tr>\n      <th>1</th>\n      <td>5</td>\n      <td>1B</td>\n      <td>1B</td>\n      <td>0</td>\n      <td>0</td>\n    </tr>\n    <tr>\n      <th>2</th>\n      <td>5</td>\n      <td>5</td>\n      <td>1B</td>\n      <td>2B</td>\n      <td>1B</td>\n    </tr>\n    <tr>\n      <th>3</th>\n      <td>5</td>\n      <td>1B</td>\n      <td>1B</td>\n      <td>5</td>\n      <td>1B</td>\n    </tr>\n    <tr>\n      <th>4</th>\n      <td>5</td>\n      <td>1B</td>\n      <td>1B</td>\n      <td>2B</td>\n      <td>1B</td>\n    </tr>\n    <tr>\n      <th>5</th>\n      <td>5</td>\n      <td>5</td>\n      <td>1B</td>\n      <td>5</td>\n      <td>1B</td>\n    </tr>\n    <tr>\n      <th>...</th>\n      <td>...</td>\n      <td>...</td>\n      <td>...</td>\n      <td>...</td>\n      <td>...</td>\n    </tr>\n    <tr>\n      <th>250</th>\n      <td>5</td>\n      <td>1B</td>\n      <td>2B</td>\n      <td>2B</td>\n      <td>1B</td>\n    </tr>\n    <tr>\n      <th>251</th>\n      <td>5</td>\n      <td>1B</td>\n      <td>1B</td>\n      <td>2B</td>\n      <td>1B</td>\n    </tr>\n    <tr>\n      <th>252</th>\n      <td>5</td>\n      <td>5</td>\n      <td>1B</td>\n      <td>2B</td>\n      <td>1B</td>\n    </tr>\n    <tr>\n      <th>192</th>\n      <td>0</td>\n      <td>2A</td>\n      <td>0</td>\n      <td>0</td>\n      <td>0</td>\n    </tr>\n    <tr>\n      <th>234</th>\n      <td>0</td>\n      <td>1A</td>\n      <td>1B</td>\n      <td>0</td>\n      <td>0</td>\n    </tr>\n  </tbody>\n</table>\n<p>251 rows × 5 columns</p>\n</div>"
     },
     "execution_count": 53,
     "metadata": {},
     "output_type": "execute_result"
    }
   ],
   "source": [
    "dimension6['Dimensión 6'] = dimension6.filter(regex='^Nivel').min(axis=1)\n",
    "dimension6"
   ],
   "metadata": {
    "collapsed": false,
    "pycharm": {
     "name": "#%%\n"
    }
   }
  },
  {
   "cell_type": "code",
   "execution_count": 54,
   "outputs": [
    {
     "data": {
      "text/plain": "     Código IE Dimensión 6\n0            1           0\n1            2          1B\n2            3          1B\n3            4          1B\n4            5          1B\n..         ...         ...\n246        250          1B\n247        251          1B\n248        252          1B\n249        192           0\n250        234           0\n\n[251 rows x 2 columns]",
      "text/html": "<div>\n<style scoped>\n    .dataframe tbody tr th:only-of-type {\n        vertical-align: middle;\n    }\n\n    .dataframe tbody tr th {\n        vertical-align: top;\n    }\n\n    .dataframe thead th {\n        text-align: right;\n    }\n</style>\n<table border=\"1\" class=\"dataframe\">\n  <thead>\n    <tr style=\"text-align: right;\">\n      <th></th>\n      <th>Código IE</th>\n      <th>Dimensión 6</th>\n    </tr>\n  </thead>\n  <tbody>\n    <tr>\n      <th>0</th>\n      <td>1</td>\n      <td>0</td>\n    </tr>\n    <tr>\n      <th>1</th>\n      <td>2</td>\n      <td>1B</td>\n    </tr>\n    <tr>\n      <th>2</th>\n      <td>3</td>\n      <td>1B</td>\n    </tr>\n    <tr>\n      <th>3</th>\n      <td>4</td>\n      <td>1B</td>\n    </tr>\n    <tr>\n      <th>4</th>\n      <td>5</td>\n      <td>1B</td>\n    </tr>\n    <tr>\n      <th>...</th>\n      <td>...</td>\n      <td>...</td>\n    </tr>\n    <tr>\n      <th>246</th>\n      <td>250</td>\n      <td>1B</td>\n    </tr>\n    <tr>\n      <th>247</th>\n      <td>251</td>\n      <td>1B</td>\n    </tr>\n    <tr>\n      <th>248</th>\n      <td>252</td>\n      <td>1B</td>\n    </tr>\n    <tr>\n      <th>249</th>\n      <td>192</td>\n      <td>0</td>\n    </tr>\n    <tr>\n      <th>250</th>\n      <td>234</td>\n      <td>0</td>\n    </tr>\n  </tbody>\n</table>\n<p>251 rows × 2 columns</p>\n</div>"
     },
     "execution_count": 54,
     "metadata": {},
     "output_type": "execute_result"
    }
   ],
   "source": [
    "dimension = dimension6['Dimensión 6']\n",
    "dimension = dimension.reset_index()\n",
    "dimension"
   ],
   "metadata": {
    "collapsed": false,
    "pycharm": {
     "name": "#%%\n"
    }
   }
  },
  {
   "cell_type": "code",
   "execution_count": 55,
   "outputs": [],
   "source": [
    "dimension.to_excel('Dimensión 6.xlsx', index=False)"
   ],
   "metadata": {
    "collapsed": false,
    "pycharm": {
     "name": "#%%\n"
    }
   }
  }
 ],
 "metadata": {
  "kernelspec": {
   "display_name": "Python 3",
   "language": "python",
   "name": "python3"
  },
  "language_info": {
   "codemirror_mode": {
    "name": "ipython",
    "version": 2
   },
   "file_extension": ".py",
   "mimetype": "text/x-python",
   "name": "python",
   "nbconvert_exporter": "python",
   "pygments_lexer": "ipython2",
   "version": "2.7.6"
  }
 },
 "nbformat": 4,
 "nbformat_minor": 0
}