{
 "cells": [
  {
   "cell_type": "code",
   "execution_count": 41,
   "metadata": {
    "collapsed": true,
    "jupyter": {
     "outputs_hidden": true
    },
    "pycharm": {
     "name": "#%%\n"
    }
   },
   "outputs": [],
   "source": [
    "import pandas as pd\n",
    "import pathlib"
   ]
  },
  {
   "cell_type": "markdown",
   "source": [
    "## Calificar examen estudiantes: Dimensión 7"
   ],
   "metadata": {
    "collapsed": false,
    "pycharm": {
     "name": "#%% md\n"
    }
   }
  },
  {
   "cell_type": "code",
   "execution_count": 42,
   "outputs": [],
   "source": [
    "ruta_git = pathlib.Path().cwd().parent.parent.parent"
   ],
   "metadata": {
    "collapsed": false,
    "pycharm": {
     "name": "#%%\n"
    }
   }
  },
  {
   "cell_type": "code",
   "execution_count": 79,
   "metadata": {
    "collapsed": false,
    "jupyter": {
     "outputs_hidden": false
    },
    "pycharm": {
     "name": "#%%\n"
    }
   },
   "outputs": [
    {
     "name": "stdout",
     "output_type": "stream",
     "text": [
      "(23067, 74)\n"
     ]
    },
    {
     "data": {
      "text/plain": "Index(['N registro', 'Deseo participar en el estudio', 'Código IE', 'Grupo',\n       'Nombre', 'Fecha', 'ID', 'Número de lista', 'Edad', 'Sexo',\n       'Sector vivienda', 'Internet', 'Uso del dispositivo móvil',\n       'Nivel escolaridad madre', 'Nivel escolaridad padre', 'Ocupación madre',\n       'Ocupación padre', '¿Con quién vives?', 'Grado', '1.1. Ingeniería',\n       '1.2 Matemáticas', '1.3 Educación', '1.4 Medicina',\n       '1.5 Diseño gráfico', '1.6 Química', '1.7 Enfermería',\n       '1.8 Desarrollo de software',\n       '2.1 Soy capaz de sacar buenas notas en esta asignatura',\n       '2.2 Si me va bien en esta asignatura, me ayudará en mi futura ocupación',\n       '2.3 A mis padres les gustaría que eligiera un futuro profesional relacionado a esta asignatura',\n       '2.4 Sé de alguien en mi familia que utiliza conocimientos relacionados a esta asignatura en su ocupación',\n       'Comentarios 1-2', 'Un algoritmo es:',\n       '¿Para qué sirven los algoritmos?', 'Un bucle es:',\n       '3.1 Siento que soy capaz de explicar lo que es el pensamiento computacional',\n       '3.2 Siento que puedo enumerar las sub-habilidades que componen el pensamiento computacional',\n       '3.3 Siento que soy capaz de dar ejemplos para explicar las sub-habilidades del pensamiento computacional',\n       '3.4 Siento que puedo explicar la forma en que las sub-habilidades del pensamiento computacional se correlacionan con la programación',\n       '3.5 Siento que puedo analizar un ejercicio y determinar qué sub-habilidades de pensamiento computacional busca desarrollar',\n       '3.6 Siento que puedo resolver problemas a través de programación',\n       '3.7 Siento que puedo implementar algoritmos',\n       '3.8 Siento que puedo crear un programa de computador',\n       '3.9 Siento que puedo automatizar tareas a través de la programación',\n       '3.10 Siento que puedo utilizar la computación para resolver problemas simples',\n       'Comentarios P3',\n       '¿Cuál de las siguientes opciones sí le permite al robot completar la misión de fotografiar cada tortuga?',\n       '¿Qué mensaje deseaba enviar la líder Wayuú?',\n       '¿Cuál de los siguientes códigos permite que el robot complete su misión sembrando café?',\n       '¿Cuál será la foto con más vistas?',\n       'Ayuda al robot verde a salir del laberinto',\n       'Óscar lleva 2 loncheras a la escuela todos los días ¿Cuál de las siguientes afirmaciones es falsa?',\n       '¿Cuál de las siguientes hamburguesas tiene los ingredientes A, E y F?',\n       '¿Qué botella debe cambiarse de color para que el resultado final sea una botella de color blanco?',\n       'Comentarios conocimiento',\n       '5.1 ¿Quién crees que ganará el concurso de matemáticas?',\n       '5.2 ¿Quién crees que es capitán del barco?',\n       '5.3 ¿Quién es la persona excluida de la construcción de la casa de madera?',\n       '5.4 ¿Quién crees que es el personaje que está sentado y esperando junto a la ventana?',\n       '5.5 ¿Quién es la persona que trabaja en educación?',\n       '5.6 ¿Quién crees que es la persona que prefiere estudiar ingeniería?',\n       'Comentarios género',\n       '4.1 Es alarmante que el ritmo de desaparición de especies en la Amazonia Colombiana sea cada vez mayor.',\n       '4.2 El aumento de la temperatura atmosférica se debe al uso creciente y continuado de combustibles fósiles (carbón, petróleo…).',\n       '4.3 La acumulación de basura procedente de las ciudades es un problema realmente grave.',\n       '4.4 Hay una disminución de la superficie forestal y de áreas naturales en el país.',\n       '4.5 El planeta está tan contaminado por productos químicos que ya supone un problema para la salud.',\n       '4.6 Conozco los riesgos que representa para la vida humana la desaparición de especies animales y vegetales.',\n       '4.7 Me preocupa lo que sucede con la tala de árboles.',\n       'Comentarios medioambiente', 'Tipo de discapacidad',\n       '¿Te reconoces como una persona con algún tipo de discapacidad?',\n       'Conoce GreenTIC', 'Instrumento'],\n      dtype='object')"
     },
     "execution_count": 79,
     "metadata": {},
     "output_type": "execute_result"
    }
   ],
   "source": [
    "est = pd.read_excel(ruta_git/'data/descargables/EstudiantesCFK.xlsx')\n",
    "\n",
    "print(est.shape)\n",
    "est.columns"
   ]
  },
  {
   "cell_type": "code",
   "execution_count": null,
   "outputs": [],
   "source": [
    "est[est['Código IE']==65]"
   ],
   "metadata": {
    "collapsed": false,
    "pycharm": {
     "name": "#%%\n"
    }
   }
  },
  {
   "cell_type": "markdown",
   "source": [
    "##### Pasar respuestas a números"
   ],
   "metadata": {
    "collapsed": false,
    "pycharm": {
     "name": "#%% md\n"
    }
   }
  },
  {
   "cell_type": "code",
   "execution_count": null,
   "outputs": [],
   "source": [
    "respuestas_correctas = {\n",
    "    \"Un algoritmo es:\":\"Una secuencia lógica de pasos para realizar una tarea\",\n",
    "    \"¿Para qué sirven los algoritmos?\":\"Para planificar la solución a un problema\",\n",
    "    \"Un bucle es:\":\"Un conjunto de instrucciones que se ejecuta mientras se cumpla una condición\",\n",
    "    \"¿Cuál de las siguientes opciones sí le permite al robot completar la misión de fotografiar cada tortuga?\":\"a.\",\n",
    "    \"¿Qué mensaje deseaba enviar la líder Wayuú?\":\"c. Nublado\",\n",
    "    \"¿Cuál de los siguientes códigos permite que el robot complete su misión sembrando café?\":\"a.\",\n",
    "    \"¿Cuál será la foto con más vistas?\":\"c) Julio\",\n",
    "    \"Ayuda al robot verde a salir del laberinto\":\"b.\",\n",
    "    \"Óscar lleva 2 loncheras a la escuela todos los días ¿Cuál de las siguientes afirmaciones es falsa?\":\"c) Si Óscar empaca Deditos para merendar, puede hacer Arroz de pollo para almorzar\",\n",
    "    \"¿Cuál de las siguientes hamburguesas tiene los ingredientes A, E y F?\":\"a.\",\n",
    "    \"¿Qué botella debe cambiarse de color para que el resultado final sea una botella de color blanco?\":\"a) La botella B debe ser verde\"}\n",
    "\n",
    "de_acuerdo = {\"Totalmente en desacuerdo\":1,\"En desacuerdo\":2, \"Neutro\":3,\n",
    "\"De acuerdo\":4,\"Totalmente de acuerdo\":5}\n",
    "\n",
    "interesa_carreras = {\"No la conozco\":0,\"La evitaría\":1,\"Me interesa poco\":2,\"Está entre mis preferidas\":3}\n",
    "\n",
    "estereotipo_h = {'a) Seguramente un hombre':2, 'b) Quizás un hombre':1,\n",
    "                 'c) Creo que puede ser un hombre o una mujer':0,\n",
    "                 'd) Quizás una mujer': -1, 'e) Seguramente una mujer':-2}\n",
    "\n",
    "estereotipo_m = {'a) Seguramente un hombre':-2, 'b) Quizás un hombre':-1,\n",
    "                 'c) Creo que puede ser un hombre o una mujer':0,\n",
    "                 'd) Quizás una mujer': 1, 'e) Seguramente una mujer':2}\n",
    "#The scores range from -2= ‘counter- stereotypic answer’ to 2= ‘stereotype congruent answer’ for all items.\n",
    "genero_estereotipos = {'5.1 ¿Quién crees que ganará el concurso de matemáticas?':estereotipo_h,\n",
    "                       '5.2 ¿Quién crees que es capitán del barco?':estereotipo_h,\n",
    "                       '5.3 ¿Quién es la persona excluida de la construcción de la casa de madera?':estereotipo_m,\n",
    "                       '5.4 ¿Quién crees que es el personaje que está sentado y esperando junto a la ventana?':estereotipo_m,\n",
    "                       '5.5 ¿Quién es la persona que trabaja en educación?':estereotipo_m,\n",
    "                       '5.6 ¿Quién crees que es la persona que prefiere estudiar ingeniería?':estereotipo_h}\n"
   ],
   "metadata": {
    "collapsed": false,
    "pycharm": {
     "name": "#%%\n"
    }
   }
  },
  {
   "cell_type": "code",
   "execution_count": null,
   "outputs": [],
   "source": [
    "col_index = ['Edad', 'Sexo', 'Código IE', '¿Te reconoces como una persona con algún tipo de discapacidad?']\n",
    "col_caract = ['N registro','Edad', 'Sexo', 'Sector vivienda', 'Internet', 'Uso del dispositivo móvil',\n",
    "              'Nivel escolaridad madre', 'Nivel escolaridad padre', 'Ocupación madre',\n",
    "              'Ocupación padre', '¿Con quién vives?', 'Grado', 'Código IE',\n",
    "              'Grupo', 'Conoce GreenTIC', 'Número de lista', '¿Te reconoces como una persona con algún tipo de discapacidad?']\n",
    "#col_conocePC = est.filter(regex=r'^3.*', axis=1).columns.tolist()[0]\n",
    "#col_PC = est.filter(regex=r'^3.*', axis=1).columns.tolist()[1:5]\n",
    "col_autoeficacia = est.filter(regex=r'^3.*', axis=1).columns.tolist()\n",
    "col_carreras = est.filter(regex=r'^1.', axis=1).columns.tolist()\n",
    "col_interes = est.filter(regex=r'^2.1|2.2', axis=1).columns.tolist()\n",
    "col_conocimiento = list(respuestas_correctas.keys())\n",
    "col_ambiental = est.filter(regex=r'^4.', axis=1).columns.tolist()\n",
    "col_genero = est.filter(regex=r'^5.', axis=1).columns.tolist()\n",
    "col_genero"
   ],
   "metadata": {
    "collapsed": false,
    "pycharm": {
     "name": "#%%\n"
    }
   }
  },
  {
   "cell_type": "code",
   "execution_count": null,
   "outputs": [],
   "source": [
    "df_conocimientos = est[['N registro']+col_conocimiento].melt(id_vars='N registro', value_name='Respuesta estudiante', var_name='Pregunta')\n",
    "df_conocimientos['Respuesta correcta'] = df_conocimientos['Pregunta'].replace(respuestas_correctas)\n",
    "df_conocimientos['Puntaje conocimiento'] = 1*(df_conocimientos['Respuesta estudiante'] == df_conocimientos['Respuesta correcta'])\n",
    "df_estudiantes = df_conocimientos.pivot_table(index='N registro', columns='Pregunta', values='Puntaje conocimiento').reset_index()\n",
    "\n",
    "\n",
    "\n",
    "df_estudiantes= pd.merge(est[col_caract], df_estudiantes, on='N registro')\n",
    "df_estudiantes"
   ],
   "metadata": {
    "collapsed": false,
    "pycharm": {
     "name": "#%%\n"
    }
   }
  },
  {
   "cell_type": "code",
   "execution_count": null,
   "outputs": [],
   "source": [
    "df_estudiantes['Código IE'].unique()"
   ],
   "metadata": {
    "collapsed": false,
    "pycharm": {
     "name": "#%%\n"
    }
   }
  },
  {
   "cell_type": "markdown",
   "source": [],
   "metadata": {
    "collapsed": false,
    "pycharm": {
     "name": "#%% md\n"
    }
   }
  },
  {
   "cell_type": "code",
   "execution_count": null,
   "outputs": [],
   "source": [
    "# carreras_df = est[['N registro'] + col_carreras].replace(interesa_carreras)\n",
    "# df_estudiantes = pd.merge(df_estudiantes, carreras_df, on='N registro')\n",
    "#\n",
    "# genero_df = est[['N registro']+col_genero].replace(genero_estereotipos)\n",
    "# df_estudiantes = pd.merge(df_estudiantes, genero_df, on='N registro')\n",
    "\n",
    "df_ambiente = est[['N registro']+col_ambiental].replace(de_acuerdo)\n",
    "\n"
   ],
   "metadata": {
    "collapsed": false,
    "pycharm": {
     "name": "#%%\n"
    }
   }
  },
  {
   "cell_type": "code",
   "execution_count": null,
   "outputs": [],
   "source": [
    "df_estudiantes = pd.merge(df_estudiantes, df_ambiente, on='N registro')\n"
   ],
   "metadata": {
    "collapsed": false,
    "pycharm": {
     "name": "#%%\n"
    }
   }
  },
  {
   "cell_type": "code",
   "execution_count": null,
   "outputs": [],
   "source": [
    "\n",
    "df_estudiantes = pd.merge(df_estudiantes, est[['N registro']+col_autoeficacia], on='N registro')\n",
    "\n",
    "df_estudiantes"
   ],
   "metadata": {
    "collapsed": false,
    "pycharm": {
     "name": "#%%\n"
    }
   }
  },
  {
   "cell_type": "markdown",
   "source": [
    "#### Calcular escalas"
   ],
   "metadata": {
    "collapsed": false,
    "pycharm": {
     "name": "#%% md\n"
    }
   }
  },
  {
   "cell_type": "code",
   "execution_count": null,
   "outputs": [],
   "source": [
    "escalas_dict = {'medioambiente':\n",
    "                    {'cols':list(est.filter(regex='^4.*').columns),\n",
    "                     'cargas':[0.620,0.648,0.732,0.638,0.705,0.707,0.670]},\n",
    "                'autoeficaciaPC':\n",
    "                    {'cols':list(est.filter(regex='^3.1 |3.[2-5]|^3.7').columns),\n",
    "                'cargas':[0.724,0.822,0.782,0.745,0.574,0.390]},\n",
    "                'autoeficaciaProg':{\n",
    "                    'cols':list(est.filter(regex='^3.6 |3.[8-9]|3.10').columns),\n",
    "                    'cargas':[0.637,0.490,0.755,0.753]\n",
    "                }}"
   ],
   "metadata": {
    "collapsed": false,
    "pycharm": {
     "name": "#%%\n"
    }
   }
  },
  {
   "cell_type": "code",
   "execution_count": null,
   "outputs": [],
   "source": [
    "df_estudiantes[col_ambiental[0]].value_counts().sum()"
   ],
   "metadata": {
    "collapsed": false,
    "pycharm": {
     "name": "#%%\n"
    }
   }
  },
  {
   "cell_type": "code",
   "execution_count": null,
   "outputs": [],
   "source": [
    "df_estudiantes[col_ambiental+col_autoeficacia] = df_estudiantes[col_ambiental+col_autoeficacia].apply(pd.to_numeric, errors='coerce')\n"
   ],
   "metadata": {
    "collapsed": false,
    "pycharm": {
     "name": "#%%\n"
    }
   }
  },
  {
   "cell_type": "code",
   "execution_count": null,
   "outputs": [],
   "source": [
    "df_estudiantes = df_estudiantes.dropna(subset=col_ambiental+col_autoeficacia)\n",
    "df_estudiantes"
   ],
   "metadata": {
    "collapsed": false,
    "pycharm": {
     "name": "#%%\n"
    }
   }
  },
  {
   "cell_type": "code",
   "execution_count": null,
   "outputs": [],
   "source": [
    "for k in list(escalas_dict.keys()):\n",
    "    try:\n",
    "        df_estudiantes[k] = 100*df_estudiantes[escalas_dict[k]['cols']].add(-1).multiply(escalas_dict[k]['cargas']).sum(axis=1)/(4*sum(escalas_dict[k]['cargas']))\n",
    "    except:\n",
    "        print('Fallo en ', k)"
   ],
   "metadata": {
    "collapsed": false,
    "pycharm": {
     "name": "#%%\n"
    }
   }
  },
  {
   "cell_type": "code",
   "execution_count": null,
   "outputs": [],
   "source": [
    "resultados = df_estudiantes[col_conocimiento].sum(axis=1)\n",
    "media = resultados.mean()\n",
    "desv = resultados.std()\n",
    "\n",
    "df_estudiantes['conocimiento'] = 50+(10*(resultados - media)/desv)\n",
    "\n"
   ],
   "metadata": {
    "collapsed": false,
    "pycharm": {
     "name": "#%%\n"
    }
   }
  },
  {
   "cell_type": "code",
   "execution_count": null,
   "outputs": [],
   "source": [
    "df_estudiantes"
   ],
   "metadata": {
    "collapsed": false,
    "pycharm": {
     "name": "#%%\n"
    }
   }
  },
  {
   "cell_type": "code",
   "execution_count": null,
   "outputs": [],
   "source": [
    "estudiantes = pd.merge(est, df_estudiantes[['N registro', 'conocimiento', 'autoeficaciaPC', 'autoeficaciaProg', 'medioambiente']])"
   ],
   "metadata": {
    "collapsed": false,
    "pycharm": {
     "name": "#%%\n"
    }
   }
  },
  {
   "cell_type": "code",
   "execution_count": null,
   "outputs": [],
   "source": [
    "df_interes = est[['N registro']+col_interes].melt(id_vars='N registro', value_name='Seleccion', var_name='Pregunta')\n",
    "df_interes['Interes en tecnologia'] = 1*(df_interes['Seleccion'].str.contains('Tecnología'))\n",
    "df_puntaje_interes = df_interes.pivot_table(index='N registro', values=['Interes en tecnologia'], aggfunc=['sum', 'max']).reset_index()\n",
    "df_puntaje_interes.columns = ['N registro', 'Puntaje interes', 'Interesado en tecnologia']\n",
    "df_puntaje_interes['Puntaje interes'] = 100*(df_puntaje_interes['Puntaje interes']/2)\n",
    "#df_puntaje_interes = (100*df_interes.groupby('index')['Interes en tecnologia'].sum()/4).reset_index()\n",
    "df_puntaje_interes"
   ],
   "metadata": {
    "collapsed": false,
    "pycharm": {
     "name": "#%%\n"
    }
   }
  },
  {
   "cell_type": "code",
   "execution_count": null,
   "outputs": [],
   "source": [
    "df_7 = pd.merge(estudiantes, df_puntaje_interes, on='N registro')\n",
    "df_7"
   ],
   "metadata": {
    "collapsed": false,
    "pycharm": {
     "name": "#%%\n"
    }
   }
  },
  {
   "cell_type": "code",
   "execution_count": null,
   "outputs": [],
   "source": [
    "df_estudiantes[df_estudiantes['Código IE']==248]"
   ],
   "metadata": {
    "collapsed": false,
    "pycharm": {
     "name": "#%%\n"
    }
   }
  },
  {
   "cell_type": "code",
   "execution_count": null,
   "outputs": [],
   "source": [
    "df_7['autoeficaciaProg'].mean()"
   ],
   "metadata": {
    "collapsed": false,
    "pycharm": {
     "name": "#%%\n"
    }
   }
  },
  {
   "cell_type": "code",
   "execution_count": null,
   "outputs": [],
   "source": [
    "df_7['Media autoeficaciaProg'] = df_7['autoeficaciaProg'].mean()\n",
    "df_7['Std autoeficaciaProg'] = df_7['autoeficaciaProg'].std()\n",
    "df_7['Media autoeficaciaPC'] = df_7['autoeficaciaPC'].mean()\n",
    "df_7['Std autoeficaciaPC'] = df_7['autoeficaciaPC'].std()"
   ],
   "metadata": {
    "collapsed": false,
    "pycharm": {
     "name": "#%%\n"
    }
   }
  },
  {
   "cell_type": "code",
   "execution_count": null,
   "outputs": [],
   "source": [
    "df_7['Media nacional interés'] = df_7['Puntaje interes'].mean()\n",
    "df_7['Std interes'] = df_7['Puntaje interes'].std()"
   ],
   "metadata": {
    "collapsed": false,
    "pycharm": {
     "name": "#%%\n"
    }
   }
  },
  {
   "cell_type": "markdown",
   "source": [
    "### Calificar Dimensión"
   ],
   "metadata": {
    "collapsed": false,
    "pycharm": {
     "name": "#%% md\n"
    }
   }
  },
  {
   "cell_type": "code",
   "execution_count": null,
   "outputs": [],
   "source": [
    "cols_dimension7 = ['conocimiento', 'Media autoeficaciaProg','Puntaje interes', 'Interesado en tecnologia', 'Media autoeficaciaPC', 'autoeficaciaPC', 'autoeficaciaProg', 'Media nacional interés','Std interes','Std autoeficaciaPC','Std autoeficaciaProg', 'N registro']\n",
    "agrupadores_dimension7 = ['mean', 'max', 'mean', 'sum', 'max', 'mean','mean', 'max','max','max','max', 'count']\n",
    "agg_funcs = dict(zip(cols_dimension7, agrupadores_dimension7))"
   ],
   "metadata": {
    "collapsed": false,
    "pycharm": {
     "name": "#%%\n"
    }
   }
  },
  {
   "cell_type": "code",
   "execution_count": null,
   "outputs": [],
   "source": [
    "agg_funcs"
   ],
   "metadata": {
    "collapsed": false,
    "pycharm": {
     "name": "#%%\n"
    }
   }
  },
  {
   "cell_type": "code",
   "execution_count": null,
   "outputs": [],
   "source": [
    "df_institucion = df_7.pivot_table(index=['Código IE'], values=cols_dimension7, aggfunc=agg_funcs).rename(columns={'N registro':'Cantidad estudiantes'})\n",
    "df_institucion['% Interesado'] = (df_institucion['Interesado en tecnologia']/df_institucion['Cantidad estudiantes'])*100"
   ],
   "metadata": {
    "collapsed": false,
    "pycharm": {
     "name": "#%%\n"
    }
   }
  },
  {
   "cell_type": "code",
   "execution_count": null,
   "outputs": [],
   "source": [
    "## Cuántas desviaciones estándar respecto a la media\n",
    "df_institucion['Diff autoeficaciaPC'] = (df_institucion['autoeficaciaPC'] - df_institucion['Media autoeficaciaPC'])/df_institucion['Std autoeficaciaPC']\n",
    "\n",
    "df_institucion['Diff autoeficaciaProg'] = (df_institucion['autoeficaciaProg'] - df_institucion['Media autoeficaciaProg'])/df_institucion['Std autoeficaciaProg']\n",
    "\n",
    "df_institucion['Diferencia interes'] = (df_institucion['Puntaje interes'] - df_institucion['Media nacional interés'])/df_institucion['Std interes']"
   ],
   "metadata": {
    "collapsed": false,
    "pycharm": {
     "name": "#%%\n"
    }
   }
  },
  {
   "cell_type": "code",
   "execution_count": null,
   "outputs": [],
   "source": [
    "df_institucion['Media autoeficaciaProg']"
   ],
   "metadata": {
    "collapsed": false,
    "pycharm": {
     "name": "#%%\n"
    }
   }
  },
  {
   "cell_type": "code",
   "execution_count": null,
   "outputs": [],
   "source": [
    "df_institucion['Nivel autoeficaciaPC'] =  pd.cut(df_institucion['autoeficaciaPC'], bins=[0, 20, 30, 50, 60, 80,100], labels=['1A', '1B', '2A', '2B','3', '5'], include_lowest=True)\n",
    "\n",
    "df_institucion['Nivel autoeficaciaProg'] =  pd.cut(df_institucion['autoeficaciaProg'], bins=[0, 20, 30, 50, 60, 100], labels=['1A', '1B', '2A', '2B', '5'], include_lowest=True)\n",
    "\n",
    "df_institucion['Nivel conocimiento'] =  pd.cut(df_institucion['conocimiento'], bins=[0, 30, 40, 50, 60, 100], labels=['1A', '1B', '2A', '2B', '5'], include_lowest=True)\n",
    "\n",
    "df_institucion['Nivel Interes'] = pd.cut(df_institucion['% Interesado'], bins=[0, 20, 40, 60, 80, 100], labels=['1A', '1B', \"2A\", \"2B\", '5'], include_lowest=True)\n",
    "\n",
    "df_institucion['Nivel Interes pares'] = pd.cut(df_institucion['Diferencia interes'], bins=[-3,-1,0,1,2,3], labels=['1B', \"2A\", \"3\", '4','5'], include_lowest=True)\n",
    "\n",
    "df_institucion['Nivel AutoeficaciaPC pares'] = pd.cut(df_institucion['Diff autoeficaciaPC'], bins=[-3, 0, 1.5, 2, 4], labels=['2A',\"2B\", \"3\", '4'], include_lowest=True)\n",
    "\n",
    "df_institucion['Nivel AutoeficaciaProg pares'] = pd.cut(df_institucion['Diff autoeficaciaProg'], bins=[-3, 0, 1.5, 2, 4], labels=['2A',\"2B\", \"3\", '4'], include_lowest=True)\n",
    "\n",
    "\n",
    "df_institucion"
   ],
   "metadata": {
    "collapsed": false,
    "pycharm": {
     "name": "#%%\n"
    }
   }
  },
  {
   "cell_type": "code",
   "execution_count": null,
   "outputs": [],
   "source": [
    "df_institucion['Dimensión 7'] = df_institucion.filter(regex='^Nivel').min(axis=1)"
   ],
   "metadata": {
    "collapsed": false,
    "pycharm": {
     "name": "#%%\n"
    }
   }
  },
  {
   "cell_type": "code",
   "execution_count": null,
   "outputs": [],
   "source": [
    "df_estudiantes[df_estudiantes['Código IE']==65]"
   ],
   "metadata": {
    "collapsed": false,
    "pycharm": {
     "name": "#%%\n"
    }
   }
  },
  {
   "cell_type": "code",
   "execution_count": null,
   "outputs": [],
   "source": [
    "df_dimension = df_institucion.filter(regex='^Nivel|Dim')\n",
    "df_dimension.reset_index().to_excel('Dimensión 7.xlsx')"
   ],
   "metadata": {
    "collapsed": false,
    "pycharm": {
     "name": "#%%\n"
    }
   }
  },
  {
   "cell_type": "code",
   "execution_count": null,
   "outputs": [],
   "source": [
    "df_dimension[df_dimension['Dimensión 7']=='0']"
   ],
   "metadata": {
    "collapsed": false,
    "pycharm": {
     "name": "#%%\n"
    }
   }
  },
  {
   "cell_type": "code",
   "execution_count": 106,
   "metadata": {
    "collapsed": false,
    "jupyter": {
     "outputs_hidden": false
    },
    "pycharm": {
     "name": "#%%\n"
    }
   },
   "outputs": [],
   "source": [
    "df_institucion = df_7.pivot_table(index=['Código IE'], values=cols_dimension7, aggfunc=agg_funcs).rename(columns={'N registro':'Cantidad estudiantes'})\n",
    "df_institucion['% Interesado'] = (df_institucion['Interesado en tecnologia']/df_institucion['Cantidad estudiantes'])*100"
   ]
  },
  {
   "cell_type": "code",
   "execution_count": 107,
   "metadata": {
    "collapsed": false,
    "jupyter": {
     "outputs_hidden": false
    },
    "pycharm": {
     "name": "#%%\n"
    }
   },
   "outputs": [],
   "source": [
    "## Cuántas desviaciones estándar respecto a la media\n",
    "df_institucion['Diff autoeficaciaPC'] = (df_institucion['autoeficaciaPC'] - df_institucion['Media autoeficaciaPC'])/df_institucion['Std autoeficaciaPC']\n",
    "\n",
    "df_institucion['Diff autoeficaciaProg'] = (df_institucion['autoeficaciaProg'] - df_institucion['Media autoeficaciaProg'])/df_institucion['Std autoeficaciaProg']\n",
    "\n",
    "df_institucion['Diferencia interes'] = (df_institucion['Puntaje interes'] - df_institucion['Media nacional interés'])/df_institucion['Std interes']"
   ]
  },
  {
   "cell_type": "code",
   "execution_count": 108,
   "metadata": {
    "collapsed": false,
    "jupyter": {
     "outputs_hidden": false
    },
    "pycharm": {
     "name": "#%%\n"
    }
   },
   "outputs": [
    {
     "data": {
      "text/plain": "Código IE\n1      61.949027\n2      61.949027\n3      61.949027\n4      61.949027\n5      61.949027\n         ...    \n248    61.949027\n249    61.949027\n250    61.949027\n251    61.949027\n252    61.949027\nName: Media autoeficaciaProg, Length: 252, dtype: float64"
     },
     "execution_count": 108,
     "metadata": {},
     "output_type": "execute_result"
    }
   ],
   "source": [
    "df_institucion['Media autoeficaciaProg']"
   ]
  },
  {
   "cell_type": "code",
   "execution_count": 109,
   "metadata": {
    "collapsed": false,
    "jupyter": {
     "outputs_hidden": false
    },
    "pycharm": {
     "name": "#%%\n"
    }
   },
   "outputs": [
    {
     "data": {
      "text/plain": "           Interesado en tecnologia  Media autoeficaciaPC  \\\nCódigo IE                                                   \n1                                60             44.495368   \n2                                27             44.495368   \n3                                34             44.495368   \n4                                30             44.495368   \n5                                81             44.495368   \n...                             ...                   ...   \n248                              25             44.495368   \n249                              50             44.495368   \n250                              27             44.495368   \n251                              46             44.495368   \n252                              27             44.495368   \n\n           Media autoeficaciaProg  Media nacional interés  \\\nCódigo IE                                                   \n1                       61.949027                31.94547   \n2                       61.949027                31.94547   \n3                       61.949027                31.94547   \n4                       61.949027                31.94547   \n5                       61.949027                31.94547   \n...                           ...                     ...   \n248                     61.949027                31.94547   \n249                     61.949027                31.94547   \n250                     61.949027                31.94547   \n251                     61.949027                31.94547   \n252                     61.949027                31.94547   \n\n           Cantidad estudiantes  Puntaje interes  Std autoeficaciaPC  \\\nCódigo IE                                                              \n1                           122        36.065574           26.853438   \n2                            39        52.564103           26.853438   \n3                            59        39.830508           26.853438   \n4                            46        51.086957           26.853438   \n5                           105        56.666667           26.853438   \n...                         ...              ...                 ...   \n248                          56        28.571429           26.853438   \n249                         149        20.805369           26.853438   \n250                          83        20.481928           26.853438   \n251                         121        22.314050           26.853438   \n252                          56        31.250000           26.853438   \n\n           Std autoeficaciaProg  Std interes  autoeficaciaPC  ...  \\\nCódigo IE                                                     ...   \n1                     27.360612    37.914963       46.299039  ...   \n2                     27.360612    37.914963       40.420184  ...   \n3                     27.360612    37.914963       49.334125  ...   \n4                     27.360612    37.914963       47.185948  ...   \n5                     27.360612    37.914963       50.755747  ...   \n...                         ...          ...             ...  ...   \n248                   27.360612    37.914963       32.815430  ...   \n249                   27.360612    37.914963       39.210915  ...   \n250                   27.360612    37.914963       40.542378  ...   \n251                   27.360612    37.914963       49.230005  ...   \n252                   27.360612    37.914963       46.147135  ...   \n\n           Diff autoeficaciaPC  Diff autoeficaciaProg  Diferencia interes  \\\nCódigo IE                                                                   \n1                     0.067167               0.175311            0.108667   \n2                    -0.151757              -0.414273            0.543813   \n3                     0.180191               0.267060            0.207966   \n4                     0.100195               0.052047            0.504853   \n5                     0.233131               0.437299            0.652017   \n...                        ...                    ...                 ...   \n248                  -0.434951              -0.272271           -0.088990   \n249                  -0.196789              -0.152336           -0.293818   \n250                  -0.147206              -0.131467           -0.302349   \n251                   0.176314               0.049207           -0.254027   \n252                   0.061510              -0.095013           -0.018343   \n\n           Nivel autoeficaciaPC  Nivel autoeficaciaProg  Nivel conocimiento  \\\nCódigo IE                                                                     \n1                            2A                       5                  2B   \n2                            2A                      2B                  2A   \n3                            2A                       5                  2B   \n4                            2A                       5                  2B   \n5                            2B                       5                  2B   \n...                         ...                     ...                 ...   \n248                          2A                      2B                  2A   \n249                          2A                      2B                  2A   \n250                          2A                      2B                  2A   \n251                          2A                       5                  2A   \n252                          2A                      2B                  2A   \n\n          Nivel Interes Nivel Interes pares Nivel AutoeficaciaPC pares  \\\nCódigo IE                                                                \n1                    2A                   3                         2B   \n2                    2B                   3                         2A   \n3                    2A                   3                         2B   \n4                    2B                   3                         2B   \n5                    2B                   3                         2B   \n...                 ...                 ...                        ...   \n248                  2A                  2A                         2A   \n249                  1B                  2A                         2A   \n250                  1B                  2A                         2A   \n251                  1B                  2A                         2B   \n252                  2A                  2A                         2B   \n\n          Nivel AutoeficaciaProg pares  \nCódigo IE                               \n1                                   2B  \n2                                   2A  \n3                                   2B  \n4                                   2B  \n5                                   2B  \n...                                ...  \n248                                 2A  \n249                                 2A  \n250                                 2A  \n251                                 2B  \n252                                 2A  \n\n[252 rows x 23 columns]",
      "text/html": "<div>\n<style scoped>\n    .dataframe tbody tr th:only-of-type {\n        vertical-align: middle;\n    }\n\n    .dataframe tbody tr th {\n        vertical-align: top;\n    }\n\n    .dataframe thead th {\n        text-align: right;\n    }\n</style>\n<table border=\"1\" class=\"dataframe\">\n  <thead>\n    <tr style=\"text-align: right;\">\n      <th></th>\n      <th>Interesado en tecnologia</th>\n      <th>Media autoeficaciaPC</th>\n      <th>Media autoeficaciaProg</th>\n      <th>Media nacional interés</th>\n      <th>Cantidad estudiantes</th>\n      <th>Puntaje interes</th>\n      <th>Std autoeficaciaPC</th>\n      <th>Std autoeficaciaProg</th>\n      <th>Std interes</th>\n      <th>autoeficaciaPC</th>\n      <th>...</th>\n      <th>Diff autoeficaciaPC</th>\n      <th>Diff autoeficaciaProg</th>\n      <th>Diferencia interes</th>\n      <th>Nivel autoeficaciaPC</th>\n      <th>Nivel autoeficaciaProg</th>\n      <th>Nivel conocimiento</th>\n      <th>Nivel Interes</th>\n      <th>Nivel Interes pares</th>\n      <th>Nivel AutoeficaciaPC pares</th>\n      <th>Nivel AutoeficaciaProg pares</th>\n    </tr>\n    <tr>\n      <th>Código IE</th>\n      <th></th>\n      <th></th>\n      <th></th>\n      <th></th>\n      <th></th>\n      <th></th>\n      <th></th>\n      <th></th>\n      <th></th>\n      <th></th>\n      <th></th>\n      <th></th>\n      <th></th>\n      <th></th>\n      <th></th>\n      <th></th>\n      <th></th>\n      <th></th>\n      <th></th>\n      <th></th>\n      <th></th>\n    </tr>\n  </thead>\n  <tbody>\n    <tr>\n      <th>1</th>\n      <td>60</td>\n      <td>44.495368</td>\n      <td>61.949027</td>\n      <td>31.94547</td>\n      <td>122</td>\n      <td>36.065574</td>\n      <td>26.853438</td>\n      <td>27.360612</td>\n      <td>37.914963</td>\n      <td>46.299039</td>\n      <td>...</td>\n      <td>0.067167</td>\n      <td>0.175311</td>\n      <td>0.108667</td>\n      <td>2A</td>\n      <td>5</td>\n      <td>2B</td>\n      <td>2A</td>\n      <td>3</td>\n      <td>2B</td>\n      <td>2B</td>\n    </tr>\n    <tr>\n      <th>2</th>\n      <td>27</td>\n      <td>44.495368</td>\n      <td>61.949027</td>\n      <td>31.94547</td>\n      <td>39</td>\n      <td>52.564103</td>\n      <td>26.853438</td>\n      <td>27.360612</td>\n      <td>37.914963</td>\n      <td>40.420184</td>\n      <td>...</td>\n      <td>-0.151757</td>\n      <td>-0.414273</td>\n      <td>0.543813</td>\n      <td>2A</td>\n      <td>2B</td>\n      <td>2A</td>\n      <td>2B</td>\n      <td>3</td>\n      <td>2A</td>\n      <td>2A</td>\n    </tr>\n    <tr>\n      <th>3</th>\n      <td>34</td>\n      <td>44.495368</td>\n      <td>61.949027</td>\n      <td>31.94547</td>\n      <td>59</td>\n      <td>39.830508</td>\n      <td>26.853438</td>\n      <td>27.360612</td>\n      <td>37.914963</td>\n      <td>49.334125</td>\n      <td>...</td>\n      <td>0.180191</td>\n      <td>0.267060</td>\n      <td>0.207966</td>\n      <td>2A</td>\n      <td>5</td>\n      <td>2B</td>\n      <td>2A</td>\n      <td>3</td>\n      <td>2B</td>\n      <td>2B</td>\n    </tr>\n    <tr>\n      <th>4</th>\n      <td>30</td>\n      <td>44.495368</td>\n      <td>61.949027</td>\n      <td>31.94547</td>\n      <td>46</td>\n      <td>51.086957</td>\n      <td>26.853438</td>\n      <td>27.360612</td>\n      <td>37.914963</td>\n      <td>47.185948</td>\n      <td>...</td>\n      <td>0.100195</td>\n      <td>0.052047</td>\n      <td>0.504853</td>\n      <td>2A</td>\n      <td>5</td>\n      <td>2B</td>\n      <td>2B</td>\n      <td>3</td>\n      <td>2B</td>\n      <td>2B</td>\n    </tr>\n    <tr>\n      <th>5</th>\n      <td>81</td>\n      <td>44.495368</td>\n      <td>61.949027</td>\n      <td>31.94547</td>\n      <td>105</td>\n      <td>56.666667</td>\n      <td>26.853438</td>\n      <td>27.360612</td>\n      <td>37.914963</td>\n      <td>50.755747</td>\n      <td>...</td>\n      <td>0.233131</td>\n      <td>0.437299</td>\n      <td>0.652017</td>\n      <td>2B</td>\n      <td>5</td>\n      <td>2B</td>\n      <td>2B</td>\n      <td>3</td>\n      <td>2B</td>\n      <td>2B</td>\n    </tr>\n    <tr>\n      <th>...</th>\n      <td>...</td>\n      <td>...</td>\n      <td>...</td>\n      <td>...</td>\n      <td>...</td>\n      <td>...</td>\n      <td>...</td>\n      <td>...</td>\n      <td>...</td>\n      <td>...</td>\n      <td>...</td>\n      <td>...</td>\n      <td>...</td>\n      <td>...</td>\n      <td>...</td>\n      <td>...</td>\n      <td>...</td>\n      <td>...</td>\n      <td>...</td>\n      <td>...</td>\n      <td>...</td>\n    </tr>\n    <tr>\n      <th>248</th>\n      <td>25</td>\n      <td>44.495368</td>\n      <td>61.949027</td>\n      <td>31.94547</td>\n      <td>56</td>\n      <td>28.571429</td>\n      <td>26.853438</td>\n      <td>27.360612</td>\n      <td>37.914963</td>\n      <td>32.815430</td>\n      <td>...</td>\n      <td>-0.434951</td>\n      <td>-0.272271</td>\n      <td>-0.088990</td>\n      <td>2A</td>\n      <td>2B</td>\n      <td>2A</td>\n      <td>2A</td>\n      <td>2A</td>\n      <td>2A</td>\n      <td>2A</td>\n    </tr>\n    <tr>\n      <th>249</th>\n      <td>50</td>\n      <td>44.495368</td>\n      <td>61.949027</td>\n      <td>31.94547</td>\n      <td>149</td>\n      <td>20.805369</td>\n      <td>26.853438</td>\n      <td>27.360612</td>\n      <td>37.914963</td>\n      <td>39.210915</td>\n      <td>...</td>\n      <td>-0.196789</td>\n      <td>-0.152336</td>\n      <td>-0.293818</td>\n      <td>2A</td>\n      <td>2B</td>\n      <td>2A</td>\n      <td>1B</td>\n      <td>2A</td>\n      <td>2A</td>\n      <td>2A</td>\n    </tr>\n    <tr>\n      <th>250</th>\n      <td>27</td>\n      <td>44.495368</td>\n      <td>61.949027</td>\n      <td>31.94547</td>\n      <td>83</td>\n      <td>20.481928</td>\n      <td>26.853438</td>\n      <td>27.360612</td>\n      <td>37.914963</td>\n      <td>40.542378</td>\n      <td>...</td>\n      <td>-0.147206</td>\n      <td>-0.131467</td>\n      <td>-0.302349</td>\n      <td>2A</td>\n      <td>2B</td>\n      <td>2A</td>\n      <td>1B</td>\n      <td>2A</td>\n      <td>2A</td>\n      <td>2A</td>\n    </tr>\n    <tr>\n      <th>251</th>\n      <td>46</td>\n      <td>44.495368</td>\n      <td>61.949027</td>\n      <td>31.94547</td>\n      <td>121</td>\n      <td>22.314050</td>\n      <td>26.853438</td>\n      <td>27.360612</td>\n      <td>37.914963</td>\n      <td>49.230005</td>\n      <td>...</td>\n      <td>0.176314</td>\n      <td>0.049207</td>\n      <td>-0.254027</td>\n      <td>2A</td>\n      <td>5</td>\n      <td>2A</td>\n      <td>1B</td>\n      <td>2A</td>\n      <td>2B</td>\n      <td>2B</td>\n    </tr>\n    <tr>\n      <th>252</th>\n      <td>27</td>\n      <td>44.495368</td>\n      <td>61.949027</td>\n      <td>31.94547</td>\n      <td>56</td>\n      <td>31.250000</td>\n      <td>26.853438</td>\n      <td>27.360612</td>\n      <td>37.914963</td>\n      <td>46.147135</td>\n      <td>...</td>\n      <td>0.061510</td>\n      <td>-0.095013</td>\n      <td>-0.018343</td>\n      <td>2A</td>\n      <td>2B</td>\n      <td>2A</td>\n      <td>2A</td>\n      <td>2A</td>\n      <td>2B</td>\n      <td>2A</td>\n    </tr>\n  </tbody>\n</table>\n<p>252 rows × 23 columns</p>\n</div>"
     },
     "execution_count": 109,
     "metadata": {},
     "output_type": "execute_result"
    }
   ],
   "source": [
    "df_institucion['Nivel autoeficaciaPC'] =  pd.cut(df_institucion['autoeficaciaPC'], bins=[0, 20, 30, 50, 60, 80,100], labels=['1A', '1B', '2A', '2B','3', '5'], include_lowest=True)\n",
    "\n",
    "df_institucion['Nivel autoeficaciaProg'] =  pd.cut(df_institucion['autoeficaciaProg'], bins=[0, 20, 30, 50, 60, 100], labels=['1A', '1B', '2A', '2B', '5'], include_lowest=True)\n",
    "\n",
    "df_institucion['Nivel conocimiento'] =  pd.cut(df_institucion['conocimiento'], bins=[0, 30, 40, 50, 60, 100], labels=['1A', '1B', '2A', '2B', '5'], include_lowest=True)\n",
    "\n",
    "df_institucion['Nivel Interes'] = pd.cut(df_institucion['% Interesado'], bins=[0, 20, 40, 60, 80, 100], labels=['1A', '1B', \"2A\", \"2B\", '5'], include_lowest=True)\n",
    "\n",
    "df_institucion['Nivel Interes pares'] = pd.cut(df_institucion['Diferencia interes'], bins=[-3,-1,0,1,2,3], labels=['1B', \"2A\", \"3\", '4','5'], include_lowest=True)\n",
    "\n",
    "df_institucion['Nivel AutoeficaciaPC pares'] = pd.cut(df_institucion['Diff autoeficaciaPC'], bins=[-3, 0, 1.5, 2, 4], labels=['2A',\"2B\", \"3\", '4'], include_lowest=True)\n",
    "\n",
    "df_institucion['Nivel AutoeficaciaProg pares'] = pd.cut(df_institucion['Diff autoeficaciaProg'], bins=[-3, 0, 1.5, 2, 4], labels=['2A',\"2B\", \"3\", '4'], include_lowest=True)\n",
    "\n",
    "\n",
    "df_institucion"
   ]
  },
  {
   "cell_type": "code",
   "execution_count": 110,
   "metadata": {
    "collapsed": false,
    "jupyter": {
     "outputs_hidden": false
    },
    "pycharm": {
     "name": "#%%\n"
    }
   },
   "outputs": [],
   "source": [
    "df_institucion['Dimensión 7'] = df_institucion.filter(regex='^Nivel').min(axis=1)"
   ]
  },
  {
   "cell_type": "code",
   "execution_count": 111,
   "outputs": [
    {
     "data": {
      "text/plain": "      N registro  Edad                 Sexo Sector vivienda Internet  \\\n21184         D2    10            Masculino          Urbana       Sí   \n21185         D4    11            Masculino          Urbana       Sí   \n21186         D5    11            Masculino          Urbana       Sí   \n21187         D6    10             Femenino          Urbana       No   \n21188         D7    10            Masculino          Urbana       No   \n...          ...   ...                  ...             ...      ...   \n21262        D92    16             Femenino          Urbana       Sí   \n21263        D93    16  Prefiero no decirlo           Rural       Sí   \n21264        D94    16            Masculino          Urbana       No   \n21266        D96    16            Masculino          Urbana       Sí   \n21267        D97    15             Femenino          Urbana       Sí   \n\n               Uso del dispositivo móvil Nivel escolaridad madre  \\\n21184       Uso propio (solo lo usas tú)                Maestría   \n21185       Uso propio (solo lo usas tú)              Secundaría   \n21186  Uso compartido con otras personas    Titulo universitario   \n21187       Uso propio (solo lo usas tú)              Secundaría   \n21188       Uso propio (solo lo usas tú)                   No sé   \n...                                  ...                     ...   \n21262  Uso compartido con otras personas    Titulo universitario   \n21263       Uso propio (solo lo usas tú)                   No sé   \n21264       Uso propio (solo lo usas tú)                   No sé   \n21266  Uso compartido con otras personas              Secundaría   \n21267       Uso propio (solo lo usas tú)                   No sé   \n\n      Nivel escolaridad padre Ocupación madre Ocupación padre  ...  \\\n21184     Técnico o tecnólogo         Trabaja         Trabaja  ...   \n21185                Primaria         Trabaja         Trabaja  ...   \n21186              Secundaría         Trabaja         Trabaja  ...   \n21187                   No sé         Trabaja         Trabaja  ...   \n21188                   No sé         Trabaja         Trabaja  ...   \n...                       ...             ...             ...  ...   \n21262    Titulo universitario         Trabaja         Trabaja  ...   \n21263                   No sé  Cuida el hogar         Trabaja  ...   \n21264                   No sé           No sé         Trabaja  ...   \n21266              Secundaría         Trabaja         Trabaja  ...   \n21267                   No sé         Trabaja         Trabaja  ...   \n\n      3.5 Siento que puedo analizar un ejercicio y determinar qué sub-habilidades de pensamiento computacional busca desarrollar  \\\n21184                                                  5                                                                           \n21185                                                  3                                                                           \n21186                                                  5                                                                           \n21187                                                  3                                                                           \n21188                                                  2                                                                           \n...                                                  ...                                                                           \n21262                                                  5                                                                           \n21263                                                  2                                                                           \n21264                                                  1                                                                           \n21266                                                  4                                                                           \n21267                                                  4                                                                           \n\n       3.6 Siento que puedo resolver problemas a través de programación  \\\n21184                                                5.0                  \n21185                                                3.0                  \n21186                                                3.0                  \n21187                                                2.0                  \n21188                                                5.0                  \n...                                                  ...                  \n21262                                                4.0                  \n21263                                                2.0                  \n21264                                                5.0                  \n21266                                                5.0                  \n21267                                                4.0                  \n\n       3.7 Siento que puedo implementar algoritmos  \\\n21184                                          5.0   \n21185                                          1.0   \n21186                                          2.0   \n21187                                          1.0   \n21188                                          1.0   \n...                                            ...   \n21262                                          5.0   \n21263                                          3.0   \n21264                                          1.0   \n21266                                          5.0   \n21267                                          4.0   \n\n       3.8 Siento que puedo crear un programa de computador  \\\n21184                                                  5      \n21185                                                  2      \n21186                                                  1      \n21187                                                  2      \n21188                                                  1      \n...                                                  ...      \n21262                                                  4      \n21263                                                  3      \n21264                                                  2      \n21266                                                  4      \n21267                                                  4      \n\n      3.9 Siento que puedo automatizar tareas a través de la programación  \\\n21184                                                5.0                    \n21185                                                1.0                    \n21186                                                4.0                    \n21187                                                1.0                    \n21188                                                4.0                    \n...                                                  ...                    \n21262                                                3.0                    \n21263                                                4.0                    \n21264                                                5.0                    \n21266                                                5.0                    \n21267                                                4.0                    \n\n       3.10 Siento que puedo utilizar la computación para resolver problemas simples  \\\n21184                                                5.0                               \n21185                                                3.0                               \n21186                                                2.0                               \n21187                                                3.0                               \n21188                                                5.0                               \n...                                                  ...                               \n21262                                                3.0                               \n21263                                                5.0                               \n21264                                                1.0                               \n21266                                                5.0                               \n21267                                                4.0                               \n\n      medioambiente  autoeficaciaPC  autoeficaciaProg  conocimiento  \n21184     74.226695      100.000000        100.000000     40.205286  \n21185     89.788136       40.196928         31.024668     35.566426  \n21186     38.649364       73.365123         40.721063     44.844145  \n21187     20.852754       25.532574         24.981025     35.566426  \n21188     63.416314       60.267525         74.240987     40.205286  \n...             ...             ...               ...           ...  \n21262     68.045551       38.902650         60.692600     40.205286  \n21263     82.319915        8.384939         65.407970     40.205286  \n21264     83.241525        5.090414         57.476281     35.566426  \n21266     77.653602       67.333416         95.351044     40.205286  \n21267    100.000000       41.324003         75.000000     44.844145  \n\n[80 rows x 49 columns]",
      "text/html": "<div>\n<style scoped>\n    .dataframe tbody tr th:only-of-type {\n        vertical-align: middle;\n    }\n\n    .dataframe tbody tr th {\n        vertical-align: top;\n    }\n\n    .dataframe thead th {\n        text-align: right;\n    }\n</style>\n<table border=\"1\" class=\"dataframe\">\n  <thead>\n    <tr style=\"text-align: right;\">\n      <th></th>\n      <th>N registro</th>\n      <th>Edad</th>\n      <th>Sexo</th>\n      <th>Sector vivienda</th>\n      <th>Internet</th>\n      <th>Uso del dispositivo móvil</th>\n      <th>Nivel escolaridad madre</th>\n      <th>Nivel escolaridad padre</th>\n      <th>Ocupación madre</th>\n      <th>Ocupación padre</th>\n      <th>...</th>\n      <th>3.5 Siento que puedo analizar un ejercicio y determinar qué sub-habilidades de pensamiento computacional busca desarrollar</th>\n      <th>3.6 Siento que puedo resolver problemas a través de programación</th>\n      <th>3.7 Siento que puedo implementar algoritmos</th>\n      <th>3.8 Siento que puedo crear un programa de computador</th>\n      <th>3.9 Siento que puedo automatizar tareas a través de la programación</th>\n      <th>3.10 Siento que puedo utilizar la computación para resolver problemas simples</th>\n      <th>medioambiente</th>\n      <th>autoeficaciaPC</th>\n      <th>autoeficaciaProg</th>\n      <th>conocimiento</th>\n    </tr>\n  </thead>\n  <tbody>\n    <tr>\n      <th>21184</th>\n      <td>D2</td>\n      <td>10</td>\n      <td>Masculino</td>\n      <td>Urbana</td>\n      <td>Sí</td>\n      <td>Uso propio (solo lo usas tú)</td>\n      <td>Maestría</td>\n      <td>Técnico o tecnólogo</td>\n      <td>Trabaja</td>\n      <td>Trabaja</td>\n      <td>...</td>\n      <td>5</td>\n      <td>5.0</td>\n      <td>5.0</td>\n      <td>5</td>\n      <td>5.0</td>\n      <td>5.0</td>\n      <td>74.226695</td>\n      <td>100.000000</td>\n      <td>100.000000</td>\n      <td>40.205286</td>\n    </tr>\n    <tr>\n      <th>21185</th>\n      <td>D4</td>\n      <td>11</td>\n      <td>Masculino</td>\n      <td>Urbana</td>\n      <td>Sí</td>\n      <td>Uso propio (solo lo usas tú)</td>\n      <td>Secundaría</td>\n      <td>Primaria</td>\n      <td>Trabaja</td>\n      <td>Trabaja</td>\n      <td>...</td>\n      <td>3</td>\n      <td>3.0</td>\n      <td>1.0</td>\n      <td>2</td>\n      <td>1.0</td>\n      <td>3.0</td>\n      <td>89.788136</td>\n      <td>40.196928</td>\n      <td>31.024668</td>\n      <td>35.566426</td>\n    </tr>\n    <tr>\n      <th>21186</th>\n      <td>D5</td>\n      <td>11</td>\n      <td>Masculino</td>\n      <td>Urbana</td>\n      <td>Sí</td>\n      <td>Uso compartido con otras personas</td>\n      <td>Titulo universitario</td>\n      <td>Secundaría</td>\n      <td>Trabaja</td>\n      <td>Trabaja</td>\n      <td>...</td>\n      <td>5</td>\n      <td>3.0</td>\n      <td>2.0</td>\n      <td>1</td>\n      <td>4.0</td>\n      <td>2.0</td>\n      <td>38.649364</td>\n      <td>73.365123</td>\n      <td>40.721063</td>\n      <td>44.844145</td>\n    </tr>\n    <tr>\n      <th>21187</th>\n      <td>D6</td>\n      <td>10</td>\n      <td>Femenino</td>\n      <td>Urbana</td>\n      <td>No</td>\n      <td>Uso propio (solo lo usas tú)</td>\n      <td>Secundaría</td>\n      <td>No sé</td>\n      <td>Trabaja</td>\n      <td>Trabaja</td>\n      <td>...</td>\n      <td>3</td>\n      <td>2.0</td>\n      <td>1.0</td>\n      <td>2</td>\n      <td>1.0</td>\n      <td>3.0</td>\n      <td>20.852754</td>\n      <td>25.532574</td>\n      <td>24.981025</td>\n      <td>35.566426</td>\n    </tr>\n    <tr>\n      <th>21188</th>\n      <td>D7</td>\n      <td>10</td>\n      <td>Masculino</td>\n      <td>Urbana</td>\n      <td>No</td>\n      <td>Uso propio (solo lo usas tú)</td>\n      <td>No sé</td>\n      <td>No sé</td>\n      <td>Trabaja</td>\n      <td>Trabaja</td>\n      <td>...</td>\n      <td>2</td>\n      <td>5.0</td>\n      <td>1.0</td>\n      <td>1</td>\n      <td>4.0</td>\n      <td>5.0</td>\n      <td>63.416314</td>\n      <td>60.267525</td>\n      <td>74.240987</td>\n      <td>40.205286</td>\n    </tr>\n    <tr>\n      <th>...</th>\n      <td>...</td>\n      <td>...</td>\n      <td>...</td>\n      <td>...</td>\n      <td>...</td>\n      <td>...</td>\n      <td>...</td>\n      <td>...</td>\n      <td>...</td>\n      <td>...</td>\n      <td>...</td>\n      <td>...</td>\n      <td>...</td>\n      <td>...</td>\n      <td>...</td>\n      <td>...</td>\n      <td>...</td>\n      <td>...</td>\n      <td>...</td>\n      <td>...</td>\n      <td>...</td>\n    </tr>\n    <tr>\n      <th>21262</th>\n      <td>D92</td>\n      <td>16</td>\n      <td>Femenino</td>\n      <td>Urbana</td>\n      <td>Sí</td>\n      <td>Uso compartido con otras personas</td>\n      <td>Titulo universitario</td>\n      <td>Titulo universitario</td>\n      <td>Trabaja</td>\n      <td>Trabaja</td>\n      <td>...</td>\n      <td>5</td>\n      <td>4.0</td>\n      <td>5.0</td>\n      <td>4</td>\n      <td>3.0</td>\n      <td>3.0</td>\n      <td>68.045551</td>\n      <td>38.902650</td>\n      <td>60.692600</td>\n      <td>40.205286</td>\n    </tr>\n    <tr>\n      <th>21263</th>\n      <td>D93</td>\n      <td>16</td>\n      <td>Prefiero no decirlo</td>\n      <td>Rural</td>\n      <td>Sí</td>\n      <td>Uso propio (solo lo usas tú)</td>\n      <td>No sé</td>\n      <td>No sé</td>\n      <td>Cuida el hogar</td>\n      <td>Trabaja</td>\n      <td>...</td>\n      <td>2</td>\n      <td>2.0</td>\n      <td>3.0</td>\n      <td>3</td>\n      <td>4.0</td>\n      <td>5.0</td>\n      <td>82.319915</td>\n      <td>8.384939</td>\n      <td>65.407970</td>\n      <td>40.205286</td>\n    </tr>\n    <tr>\n      <th>21264</th>\n      <td>D94</td>\n      <td>16</td>\n      <td>Masculino</td>\n      <td>Urbana</td>\n      <td>No</td>\n      <td>Uso propio (solo lo usas tú)</td>\n      <td>No sé</td>\n      <td>No sé</td>\n      <td>No sé</td>\n      <td>Trabaja</td>\n      <td>...</td>\n      <td>1</td>\n      <td>5.0</td>\n      <td>1.0</td>\n      <td>2</td>\n      <td>5.0</td>\n      <td>1.0</td>\n      <td>83.241525</td>\n      <td>5.090414</td>\n      <td>57.476281</td>\n      <td>35.566426</td>\n    </tr>\n    <tr>\n      <th>21266</th>\n      <td>D96</td>\n      <td>16</td>\n      <td>Masculino</td>\n      <td>Urbana</td>\n      <td>Sí</td>\n      <td>Uso compartido con otras personas</td>\n      <td>Secundaría</td>\n      <td>Secundaría</td>\n      <td>Trabaja</td>\n      <td>Trabaja</td>\n      <td>...</td>\n      <td>4</td>\n      <td>5.0</td>\n      <td>5.0</td>\n      <td>4</td>\n      <td>5.0</td>\n      <td>5.0</td>\n      <td>77.653602</td>\n      <td>67.333416</td>\n      <td>95.351044</td>\n      <td>40.205286</td>\n    </tr>\n    <tr>\n      <th>21267</th>\n      <td>D97</td>\n      <td>15</td>\n      <td>Femenino</td>\n      <td>Urbana</td>\n      <td>Sí</td>\n      <td>Uso propio (solo lo usas tú)</td>\n      <td>No sé</td>\n      <td>No sé</td>\n      <td>Trabaja</td>\n      <td>Trabaja</td>\n      <td>...</td>\n      <td>4</td>\n      <td>4.0</td>\n      <td>4.0</td>\n      <td>4</td>\n      <td>4.0</td>\n      <td>4.0</td>\n      <td>100.000000</td>\n      <td>41.324003</td>\n      <td>75.000000</td>\n      <td>44.844145</td>\n    </tr>\n  </tbody>\n</table>\n<p>80 rows × 49 columns</p>\n</div>"
     },
     "execution_count": 111,
     "metadata": {},
     "output_type": "execute_result"
    }
   ],
   "source": [
    "df_estudiantes[df_estudiantes['Código IE']==65]"
   ],
   "metadata": {
    "collapsed": false,
    "pycharm": {
     "name": "#%%\n"
    }
   }
  },
  {
   "cell_type": "code",
   "execution_count": 112,
   "metadata": {
    "collapsed": false,
    "jupyter": {
     "outputs_hidden": false
    },
    "pycharm": {
     "name": "#%%\n"
    }
   },
   "outputs": [],
   "source": [
    "df_dimension = df_institucion.filter(regex='^Nivel|Dim')\n",
    "df_dimension.reset_index().to_excel('Dimensión 7.xlsx')"
   ]
  },
  {
   "cell_type": "code",
   "execution_count": 113,
   "outputs": [
    {
     "data": {
      "text/plain": "Empty DataFrame\nColumns: [Nivel autoeficaciaPC, Nivel autoeficaciaProg, Nivel conocimiento, Nivel Interes, Nivel Interes pares, Nivel AutoeficaciaPC pares, Nivel AutoeficaciaProg pares, Dimensión 7]\nIndex: []",
      "text/html": "<div>\n<style scoped>\n    .dataframe tbody tr th:only-of-type {\n        vertical-align: middle;\n    }\n\n    .dataframe tbody tr th {\n        vertical-align: top;\n    }\n\n    .dataframe thead th {\n        text-align: right;\n    }\n</style>\n<table border=\"1\" class=\"dataframe\">\n  <thead>\n    <tr style=\"text-align: right;\">\n      <th></th>\n      <th>Nivel autoeficaciaPC</th>\n      <th>Nivel autoeficaciaProg</th>\n      <th>Nivel conocimiento</th>\n      <th>Nivel Interes</th>\n      <th>Nivel Interes pares</th>\n      <th>Nivel AutoeficaciaPC pares</th>\n      <th>Nivel AutoeficaciaProg pares</th>\n      <th>Dimensión 7</th>\n    </tr>\n    <tr>\n      <th>Código IE</th>\n      <th></th>\n      <th></th>\n      <th></th>\n      <th></th>\n      <th></th>\n      <th></th>\n      <th></th>\n      <th></th>\n    </tr>\n  </thead>\n  <tbody>\n  </tbody>\n</table>\n</div>"
     },
     "execution_count": 113,
     "metadata": {},
     "output_type": "execute_result"
    }
   ],
   "source": [
    "df_dimension[df_dimension['Dimensión 7']=='0']"
   ],
   "metadata": {
    "collapsed": false,
    "pycharm": {
     "name": "#%%\n"
    }
   }
  },
  {
   "cell_type": "code",
   "execution_count": null,
   "outputs": [],
   "source": [],
   "metadata": {
    "collapsed": false,
    "pycharm": {
     "name": "#%%\n"
    }
   }
  }
 ],
 "metadata": {
  "kernelspec": {
   "display_name": "Python 3 (ipykernel)",
   "language": "python",
   "name": "python3"
  },
  "language_info": {
   "codemirror_mode": {
    "name": "ipython",
    "version": 3
   },
   "file_extension": ".py",
   "mimetype": "text/x-python",
   "name": "python",
   "nbconvert_exporter": "python",
   "pygments_lexer": "ipython3",
   "version": "3.10.4"
  }
 },
 "nbformat": 4,
 "nbformat_minor": 4
}