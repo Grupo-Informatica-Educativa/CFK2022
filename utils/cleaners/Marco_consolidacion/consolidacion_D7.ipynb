{
 "cells": [
  {
   "cell_type": "code",
   "execution_count": 237,
   "metadata": {
    "collapsed": true
   },
   "outputs": [],
   "source": [
    "import pandas as pd\n",
    "import plotly.express as px"
   ]
  },
  {
   "cell_type": "markdown",
   "source": [
    "## Calificar examen estudiantes: Dimensión 7"
   ],
   "metadata": {
    "collapsed": false,
    "pycharm": {
     "name": "#%% md\n"
    }
   }
  },
  {
   "cell_type": "code",
   "execution_count": 238,
   "outputs": [
    {
     "ename": "FileNotFoundError",
     "evalue": "[Errno 2] No such file or directory: '../../../data/raw/Est_Con_Pre_020522.xlsx'",
     "output_type": "error",
     "traceback": [
      "\u001B[0;31m---------------------------------------------------------------------------\u001B[0m",
      "\u001B[0;31mFileNotFoundError\u001B[0m                         Traceback (most recent call last)",
      "Input \u001B[0;32mIn [238]\u001B[0m, in \u001B[0;36m<cell line: 1>\u001B[0;34m()\u001B[0m\n\u001B[0;32m----> 1\u001B[0m est \u001B[38;5;241m=\u001B[39m \u001B[43mpd\u001B[49m\u001B[38;5;241;43m.\u001B[39;49m\u001B[43mread_excel\u001B[49m\u001B[43m(\u001B[49m\u001B[38;5;124;43m'\u001B[39;49m\u001B[38;5;124;43m../../../data/raw/Est_Con_Pre_020522.xlsx\u001B[39;49m\u001B[38;5;124;43m'\u001B[39;49m\u001B[43m)\u001B[49m\n\u001B[1;32m      2\u001B[0m \u001B[38;5;28mprint\u001B[39m(est\u001B[38;5;241m.\u001B[39mshape)\n\u001B[1;32m      3\u001B[0m est\u001B[38;5;241m.\u001B[39mcolumns\n",
      "File \u001B[0;32m~/anaconda3/envs/cfk22_env/lib/python3.10/site-packages/pandas/util/_decorators.py:311\u001B[0m, in \u001B[0;36mdeprecate_nonkeyword_arguments.<locals>.decorate.<locals>.wrapper\u001B[0;34m(*args, **kwargs)\u001B[0m\n\u001B[1;32m    305\u001B[0m \u001B[38;5;28;01mif\u001B[39;00m \u001B[38;5;28mlen\u001B[39m(args) \u001B[38;5;241m>\u001B[39m num_allow_args:\n\u001B[1;32m    306\u001B[0m     warnings\u001B[38;5;241m.\u001B[39mwarn(\n\u001B[1;32m    307\u001B[0m         msg\u001B[38;5;241m.\u001B[39mformat(arguments\u001B[38;5;241m=\u001B[39marguments),\n\u001B[1;32m    308\u001B[0m         \u001B[38;5;167;01mFutureWarning\u001B[39;00m,\n\u001B[1;32m    309\u001B[0m         stacklevel\u001B[38;5;241m=\u001B[39mstacklevel,\n\u001B[1;32m    310\u001B[0m     )\n\u001B[0;32m--> 311\u001B[0m \u001B[38;5;28;01mreturn\u001B[39;00m \u001B[43mfunc\u001B[49m\u001B[43m(\u001B[49m\u001B[38;5;241;43m*\u001B[39;49m\u001B[43margs\u001B[49m\u001B[43m,\u001B[49m\u001B[43m \u001B[49m\u001B[38;5;241;43m*\u001B[39;49m\u001B[38;5;241;43m*\u001B[39;49m\u001B[43mkwargs\u001B[49m\u001B[43m)\u001B[49m\n",
      "File \u001B[0;32m~/anaconda3/envs/cfk22_env/lib/python3.10/site-packages/pandas/io/excel/_base.py:457\u001B[0m, in \u001B[0;36mread_excel\u001B[0;34m(io, sheet_name, header, names, index_col, usecols, squeeze, dtype, engine, converters, true_values, false_values, skiprows, nrows, na_values, keep_default_na, na_filter, verbose, parse_dates, date_parser, thousands, decimal, comment, skipfooter, convert_float, mangle_dupe_cols, storage_options)\u001B[0m\n\u001B[1;32m    455\u001B[0m \u001B[38;5;28;01mif\u001B[39;00m \u001B[38;5;129;01mnot\u001B[39;00m \u001B[38;5;28misinstance\u001B[39m(io, ExcelFile):\n\u001B[1;32m    456\u001B[0m     should_close \u001B[38;5;241m=\u001B[39m \u001B[38;5;28;01mTrue\u001B[39;00m\n\u001B[0;32m--> 457\u001B[0m     io \u001B[38;5;241m=\u001B[39m \u001B[43mExcelFile\u001B[49m\u001B[43m(\u001B[49m\u001B[43mio\u001B[49m\u001B[43m,\u001B[49m\u001B[43m \u001B[49m\u001B[43mstorage_options\u001B[49m\u001B[38;5;241;43m=\u001B[39;49m\u001B[43mstorage_options\u001B[49m\u001B[43m,\u001B[49m\u001B[43m \u001B[49m\u001B[43mengine\u001B[49m\u001B[38;5;241;43m=\u001B[39;49m\u001B[43mengine\u001B[49m\u001B[43m)\u001B[49m\n\u001B[1;32m    458\u001B[0m \u001B[38;5;28;01melif\u001B[39;00m engine \u001B[38;5;129;01mand\u001B[39;00m engine \u001B[38;5;241m!=\u001B[39m io\u001B[38;5;241m.\u001B[39mengine:\n\u001B[1;32m    459\u001B[0m     \u001B[38;5;28;01mraise\u001B[39;00m \u001B[38;5;167;01mValueError\u001B[39;00m(\n\u001B[1;32m    460\u001B[0m         \u001B[38;5;124m\"\u001B[39m\u001B[38;5;124mEngine should not be specified when passing \u001B[39m\u001B[38;5;124m\"\u001B[39m\n\u001B[1;32m    461\u001B[0m         \u001B[38;5;124m\"\u001B[39m\u001B[38;5;124man ExcelFile - ExcelFile already has the engine set\u001B[39m\u001B[38;5;124m\"\u001B[39m\n\u001B[1;32m    462\u001B[0m     )\n",
      "File \u001B[0;32m~/anaconda3/envs/cfk22_env/lib/python3.10/site-packages/pandas/io/excel/_base.py:1376\u001B[0m, in \u001B[0;36mExcelFile.__init__\u001B[0;34m(self, path_or_buffer, engine, storage_options)\u001B[0m\n\u001B[1;32m   1374\u001B[0m     ext \u001B[38;5;241m=\u001B[39m \u001B[38;5;124m\"\u001B[39m\u001B[38;5;124mxls\u001B[39m\u001B[38;5;124m\"\u001B[39m\n\u001B[1;32m   1375\u001B[0m \u001B[38;5;28;01melse\u001B[39;00m:\n\u001B[0;32m-> 1376\u001B[0m     ext \u001B[38;5;241m=\u001B[39m \u001B[43minspect_excel_format\u001B[49m\u001B[43m(\u001B[49m\n\u001B[1;32m   1377\u001B[0m \u001B[43m        \u001B[49m\u001B[43mcontent_or_path\u001B[49m\u001B[38;5;241;43m=\u001B[39;49m\u001B[43mpath_or_buffer\u001B[49m\u001B[43m,\u001B[49m\u001B[43m \u001B[49m\u001B[43mstorage_options\u001B[49m\u001B[38;5;241;43m=\u001B[39;49m\u001B[43mstorage_options\u001B[49m\n\u001B[1;32m   1378\u001B[0m \u001B[43m    \u001B[49m\u001B[43m)\u001B[49m\n\u001B[1;32m   1379\u001B[0m     \u001B[38;5;28;01mif\u001B[39;00m ext \u001B[38;5;129;01mis\u001B[39;00m \u001B[38;5;28;01mNone\u001B[39;00m:\n\u001B[1;32m   1380\u001B[0m         \u001B[38;5;28;01mraise\u001B[39;00m \u001B[38;5;167;01mValueError\u001B[39;00m(\n\u001B[1;32m   1381\u001B[0m             \u001B[38;5;124m\"\u001B[39m\u001B[38;5;124mExcel file format cannot be determined, you must specify \u001B[39m\u001B[38;5;124m\"\u001B[39m\n\u001B[1;32m   1382\u001B[0m             \u001B[38;5;124m\"\u001B[39m\u001B[38;5;124man engine manually.\u001B[39m\u001B[38;5;124m\"\u001B[39m\n\u001B[1;32m   1383\u001B[0m         )\n",
      "File \u001B[0;32m~/anaconda3/envs/cfk22_env/lib/python3.10/site-packages/pandas/io/excel/_base.py:1250\u001B[0m, in \u001B[0;36minspect_excel_format\u001B[0;34m(content_or_path, storage_options)\u001B[0m\n\u001B[1;32m   1247\u001B[0m \u001B[38;5;28;01mif\u001B[39;00m \u001B[38;5;28misinstance\u001B[39m(content_or_path, \u001B[38;5;28mbytes\u001B[39m):\n\u001B[1;32m   1248\u001B[0m     content_or_path \u001B[38;5;241m=\u001B[39m BytesIO(content_or_path)\n\u001B[0;32m-> 1250\u001B[0m \u001B[38;5;28;01mwith\u001B[39;00m \u001B[43mget_handle\u001B[49m\u001B[43m(\u001B[49m\n\u001B[1;32m   1251\u001B[0m \u001B[43m    \u001B[49m\u001B[43mcontent_or_path\u001B[49m\u001B[43m,\u001B[49m\u001B[43m \u001B[49m\u001B[38;5;124;43m\"\u001B[39;49m\u001B[38;5;124;43mrb\u001B[39;49m\u001B[38;5;124;43m\"\u001B[39;49m\u001B[43m,\u001B[49m\u001B[43m \u001B[49m\u001B[43mstorage_options\u001B[49m\u001B[38;5;241;43m=\u001B[39;49m\u001B[43mstorage_options\u001B[49m\u001B[43m,\u001B[49m\u001B[43m \u001B[49m\u001B[43mis_text\u001B[49m\u001B[38;5;241;43m=\u001B[39;49m\u001B[38;5;28;43;01mFalse\u001B[39;49;00m\n\u001B[1;32m   1252\u001B[0m \u001B[43m\u001B[49m\u001B[43m)\u001B[49m \u001B[38;5;28;01mas\u001B[39;00m handle:\n\u001B[1;32m   1253\u001B[0m     stream \u001B[38;5;241m=\u001B[39m handle\u001B[38;5;241m.\u001B[39mhandle\n\u001B[1;32m   1254\u001B[0m     stream\u001B[38;5;241m.\u001B[39mseek(\u001B[38;5;241m0\u001B[39m)\n",
      "File \u001B[0;32m~/anaconda3/envs/cfk22_env/lib/python3.10/site-packages/pandas/io/common.py:798\u001B[0m, in \u001B[0;36mget_handle\u001B[0;34m(path_or_buf, mode, encoding, compression, memory_map, is_text, errors, storage_options)\u001B[0m\n\u001B[1;32m    789\u001B[0m         handle \u001B[38;5;241m=\u001B[39m \u001B[38;5;28mopen\u001B[39m(\n\u001B[1;32m    790\u001B[0m             handle,\n\u001B[1;32m    791\u001B[0m             ioargs\u001B[38;5;241m.\u001B[39mmode,\n\u001B[0;32m   (...)\u001B[0m\n\u001B[1;32m    794\u001B[0m             newline\u001B[38;5;241m=\u001B[39m\u001B[38;5;124m\"\u001B[39m\u001B[38;5;124m\"\u001B[39m,\n\u001B[1;32m    795\u001B[0m         )\n\u001B[1;32m    796\u001B[0m     \u001B[38;5;28;01melse\u001B[39;00m:\n\u001B[1;32m    797\u001B[0m         \u001B[38;5;66;03m# Binary mode\u001B[39;00m\n\u001B[0;32m--> 798\u001B[0m         handle \u001B[38;5;241m=\u001B[39m \u001B[38;5;28;43mopen\u001B[39;49m\u001B[43m(\u001B[49m\u001B[43mhandle\u001B[49m\u001B[43m,\u001B[49m\u001B[43m \u001B[49m\u001B[43mioargs\u001B[49m\u001B[38;5;241;43m.\u001B[39;49m\u001B[43mmode\u001B[49m\u001B[43m)\u001B[49m\n\u001B[1;32m    799\u001B[0m     handles\u001B[38;5;241m.\u001B[39mappend(handle)\n\u001B[1;32m    801\u001B[0m \u001B[38;5;66;03m# Convert BytesIO or file objects passed with an encoding\u001B[39;00m\n",
      "\u001B[0;31mFileNotFoundError\u001B[0m: [Errno 2] No such file or directory: '../../../data/raw/Est_Con_Pre_020522.xlsx'"
     ]
    }
   ],
   "source": [
    "est = pd.read_excel('../../../data/raw/Est_Con_Pre_020522.xlsx')\n",
    "print(est.shape)\n",
    "est.columns"
   ],
   "metadata": {
    "collapsed": false,
    "pycharm": {
     "name": "#%%\n"
    }
   }
  },
  {
   "cell_type": "code",
   "execution_count": 66,
   "outputs": [
    {
     "data": {
      "text/plain": "0    19/04\n1    19/04\n2    19/04\n3    19/04\n4    19/04\nName: Fecha, dtype: object"
     },
     "execution_count": 66,
     "metadata": {},
     "output_type": "execute_result"
    }
   ],
   "source": [
    "est['Timestamp'] = pd.to_datetime(est['Timestamp'])\n",
    "est = est[est.Timestamp>'2022-04-14']\n",
    "est['Fecha'] = est.Timestamp.dt.strftime('%d/%m')\n",
    "est['Fecha'][:5]"
   ],
   "metadata": {
    "collapsed": false,
    "pycharm": {
     "name": "#%%\n"
    }
   }
  },
  {
   "cell_type": "code",
   "execution_count": 67,
   "outputs": [
    {
     "data": {
      "text/plain": "(5082, 71)"
     },
     "execution_count": 67,
     "metadata": {},
     "output_type": "execute_result"
    }
   ],
   "source": [
    "est = est.drop(columns=est.filter(regex=r'eliminar').columns)\n",
    "est = est.drop(columns='Timestamp')\n",
    "est = est.dropna(subset='Número de lista')\n",
    "est = est[est['Código IE']<300]\n",
    "est.shape"
   ],
   "metadata": {
    "collapsed": false,
    "pycharm": {
     "name": "#%%\n"
    }
   }
  },
  {
   "cell_type": "code",
   "execution_count": 68,
   "outputs": [],
   "source": [
    "respuestas_correctas = {\n",
    "    \"Un algoritmo es:\":\"Una secuencia lógica de pasos para realizar una tarea\",\n",
    "    \"¿Para qué sirven los algoritmos?\":\"Para planificar la solución a un problema\",\n",
    "    \"Un bucle es:\":\"Un conjunto de instrucciones que se ejecuta mientras se cumpla una condición\",\n",
    "    \"¿Cuál de las siguientes opciones sí le permite al robot completar la misión de fotografiar cada tortuga?\":\"a.\",\n",
    "    \"¿Qué mensaje deseaba enviar la líder Wayuú?\":\"c. Nublado\",\n",
    "    \"¿Cuál de los siguientes códigos permite que el robot complete su misión sembrando café?\":\"a.\",\n",
    "    \"¿Cuál será la foto con más vistas?\":\"c) Julio\",\n",
    "    \"Ayuda al robot verde a salir del laberinto\":\"b.\",\n",
    "    \"Óscar lleva 2 loncheras a la escuela todos los días ¿Cuál de las siguientes afirmaciones es falsa?\":\"c) Si Óscar empaca Deditos para merendar, puede hacer Arroz de pollo para almorzar\",\n",
    "    \"¿Cuál de las siguientes hamburguesas tiene los ingredientes A, E y F?\":\"a.\",\n",
    "    \"¿Qué botella debe cambiarse de color para que el resultado final sea una botella de color blanco?\":\"a) La botella B debe ser verde\"}"
   ],
   "metadata": {
    "collapsed": false,
    "pycharm": {
     "name": "#%%\n"
    }
   }
  },
  {
   "cell_type": "code",
   "execution_count": 69,
   "outputs": [
    {
     "data": {
      "text/plain": "['Número de lista',\n 'Edad',\n 'Sexo',\n 'Sector vivienda',\n 'Internet',\n 'Uso del dispositivo móvil',\n 'Nivel escolaridad madre',\n 'Nivel escolaridad padre',\n 'Ocupación madre',\n 'Ocupación padre',\n '¿Con quién vives?',\n 'Grado',\n '1.1. Ingeniería',\n '2.1 Soy capaz de sacar buenas notas en esta asignatura',\n '2.2 Si me va bien en esta asignatura, me ayudará en mi futura ocupación',\n '2.3 A mis padres les gustaría que eligiera un futuro profesional relacionado a esta asignatura',\n '2.4 Sé de alguien en mi familia que utiliza conocimientos relacionados a esta asignatura en su ocupación',\n 'comentarios 1-2',\n 'Un algoritmo es:',\n '¿Para qué sirven los algoritmos?',\n 'Un bucle es:',\n '3.1 Siento que soy capaz de explicar lo que es el pensamiento computacional',\n '3.2 Siento que puedo enumerar las sub-habilidades que componen el pensamiento computacional',\n '3.3 Siento que soy capaz de dar ejemplos para explicar las sub-habilidades del pensamiento computacional',\n '3.4 Siento que puedo explicar la forma en que las sub-habilidades del pensamiento computacional se correlacionan con la programación',\n '3.5 Siento que puedo analizar un ejercicio y determinar qué sub-habilidades de pensamiento computacional busca desarrollar',\n '3.6 Siento que puedo resolver problemas a través de programación',\n '3.7 Siento que puedo implementar algoritmos',\n '3.8 Siento que puedo crear un programa de computador',\n '3.9 Siento que puedo automatizar tareas a través de la programación',\n '3.10 Siento que puedo utilizar la computación para resolver problemas simples',\n 'Comentarios P3',\n '¿Cuál de las siguientes opciones sí le permite al robot completar la misión de fotografiar cada tortuga?',\n '¿Qué mensaje deseaba enviar la líder Wayuú?',\n '¿Cuál de los siguientes códigos permite que el robot complete su misión sembrando café?',\n '¿Cuál será la foto con más vistas?',\n 'Ayuda al robot verde a salir del laberinto',\n 'Óscar lleva 2 loncheras a la escuela todos los días ¿Cuál de las siguientes afirmaciones es falsa?',\n '¿Cuál de las siguientes hamburguesas tiene los ingredientes A, E y F?',\n '¿Qué botella debe cambiarse de color para que el resultado final sea una botella de color blanco?',\n 'Comentarios conocimiento',\n '¿Quién crees que ganará el concurso de matemáticas?',\n ' ¿Quién crees que es capitán del barco?',\n '¿Quién es la persona excluida de la construcción de la casa de madera?',\n '¿Quién crees que es el personaje que está sentado y esperando junto a la ventana?',\n '¿Quién es la persona que trabaja en educación?',\n '¿Quién crees que es la persona que prefiere estudiar ingeniería?',\n '¿Quién crees que toma el curso de historia del arte?',\n 'Comentarios género',\n '4.1 Es alarmante que el ritmo de desaparición de especies en la Amazonia Colombiana sea cada vez mayor.',\n '4.2 El aumento de la temperatura atmosférica se debe al uso creciente y continuado de combustibles fósiles (carbón, petróleo…).',\n '4.3 La acumulación de basura procedente de las ciudades es un problema realmente grave.',\n '4.4 Hay una disminución de la superficie forestal y de áreas naturales en el país.',\n '4.5 El planeta está tan contaminado por productos químicos que ya supone un problema para la salud.',\n '4.6 Conozco los riesgos que representa para la vida humana la desaparición de especies animales y vegetales.',\n '4.7 Me preocupa lo que sucede con la tala de árboles.',\n 'Comenarios medioambiente',\n 'Deseo participar en el estudio',\n '1.2 Matemáticas',\n '1.3 Educación',\n '1.4 Medicina',\n '1.5 Diseño gráfico',\n '1.6 Química',\n '1.7 Enfermería',\n 'Tipo de discapacidad',\n '¿Te reconoces como una persona con algún tipo de discapacidad?',\n '1.8 Desarrollo de software',\n 'Conoce GreenTIC',\n 'Código IE',\n 'Grupo',\n 'Fecha']"
     },
     "execution_count": 69,
     "metadata": {},
     "output_type": "execute_result"
    }
   ],
   "source": [
    "est.columns.tolist()"
   ],
   "metadata": {
    "collapsed": false,
    "pycharm": {
     "name": "#%%\n"
    }
   }
  },
  {
   "cell_type": "markdown",
   "source": [],
   "metadata": {
    "collapsed": false
   }
  },
  {
   "cell_type": "code",
   "execution_count": null,
   "outputs": [],
   "source": [],
   "metadata": {
    "collapsed": false,
    "pycharm": {
     "name": "#%%\n"
    }
   }
  },
  {
   "cell_type": "code",
   "execution_count": 136,
   "outputs": [
    {
     "data": {
      "text/plain": "['3.2 Siento que puedo enumerar las sub-habilidades que componen el pensamiento computacional',\n '3.3 Siento que soy capaz de dar ejemplos para explicar las sub-habilidades del pensamiento computacional',\n '3.4 Siento que puedo explicar la forma en que las sub-habilidades del pensamiento computacional se correlacionan con la programación',\n '3.5 Siento que puedo analizar un ejercicio y determinar qué sub-habilidades de pensamiento computacional busca desarrollar']"
     },
     "execution_count": 136,
     "metadata": {},
     "output_type": "execute_result"
    }
   ],
   "source": [
    "col_index = ['Edad', 'Sexo', 'Código IE', '¿Te reconoces como una persona con algún tipo de discapacidad?']\n",
    "col_conocePC = est.filter(regex=r'^3.*', axis=1).columns.tolist()[0]\n",
    "col_PC = est.filter(regex=r'^3.*', axis=1).columns.tolist()[1:5]\n",
    "col_autoeficacia = est.filter(regex=r'^3.*', axis=1).columns.tolist()[-5:]\n",
    "col_interes = est.filter(regex=r'^2.*', axis=1).columns.tolist()\n",
    "col_conocimiento = list(respuestas_correctas.keys())\n",
    "col_PC"
   ],
   "metadata": {
    "collapsed": false,
    "pycharm": {
     "name": "#%%\n"
    }
   }
  },
  {
   "cell_type": "code",
   "execution_count": 71,
   "outputs": [],
   "source": [
    "est = est.reset_index()"
   ],
   "metadata": {
    "collapsed": false,
    "pycharm": {
     "name": "#%%\n"
    }
   }
  },
  {
   "cell_type": "code",
   "execution_count": null,
   "outputs": [],
   "source": [],
   "metadata": {
    "collapsed": false,
    "pycharm": {
     "name": "#%%\n"
    }
   }
  },
  {
   "cell_type": "code",
   "execution_count": 156,
   "outputs": [
    {
     "data": {
      "text/plain": "      index  Puntaje interes  Interesado en tecnologia\n0         1            100.0                         1\n1         2             75.0                         1\n2         3             25.0                         1\n3         4            100.0                         1\n4         5             25.0                         1\n...     ...              ...                       ...\n5077   5253            100.0                         1\n5078   5254             25.0                         1\n5079   5255             25.0                         1\n5080   5256             50.0                         1\n5081   5257              0.0                         0\n\n[5082 rows x 3 columns]",
      "text/html": "<div>\n<style scoped>\n    .dataframe tbody tr th:only-of-type {\n        vertical-align: middle;\n    }\n\n    .dataframe tbody tr th {\n        vertical-align: top;\n    }\n\n    .dataframe thead th {\n        text-align: right;\n    }\n</style>\n<table border=\"1\" class=\"dataframe\">\n  <thead>\n    <tr style=\"text-align: right;\">\n      <th></th>\n      <th>index</th>\n      <th>Puntaje interes</th>\n      <th>Interesado en tecnologia</th>\n    </tr>\n  </thead>\n  <tbody>\n    <tr>\n      <th>0</th>\n      <td>1</td>\n      <td>100.0</td>\n      <td>1</td>\n    </tr>\n    <tr>\n      <th>1</th>\n      <td>2</td>\n      <td>75.0</td>\n      <td>1</td>\n    </tr>\n    <tr>\n      <th>2</th>\n      <td>3</td>\n      <td>25.0</td>\n      <td>1</td>\n    </tr>\n    <tr>\n      <th>3</th>\n      <td>4</td>\n      <td>100.0</td>\n      <td>1</td>\n    </tr>\n    <tr>\n      <th>4</th>\n      <td>5</td>\n      <td>25.0</td>\n      <td>1</td>\n    </tr>\n    <tr>\n      <th>...</th>\n      <td>...</td>\n      <td>...</td>\n      <td>...</td>\n    </tr>\n    <tr>\n      <th>5077</th>\n      <td>5253</td>\n      <td>100.0</td>\n      <td>1</td>\n    </tr>\n    <tr>\n      <th>5078</th>\n      <td>5254</td>\n      <td>25.0</td>\n      <td>1</td>\n    </tr>\n    <tr>\n      <th>5079</th>\n      <td>5255</td>\n      <td>25.0</td>\n      <td>1</td>\n    </tr>\n    <tr>\n      <th>5080</th>\n      <td>5256</td>\n      <td>50.0</td>\n      <td>1</td>\n    </tr>\n    <tr>\n      <th>5081</th>\n      <td>5257</td>\n      <td>0.0</td>\n      <td>0</td>\n    </tr>\n  </tbody>\n</table>\n<p>5082 rows × 3 columns</p>\n</div>"
     },
     "execution_count": 156,
     "metadata": {},
     "output_type": "execute_result"
    }
   ],
   "source": [
    "df_interes = est[['index']+col_interes].melt(id_vars='index', value_name='Seleccion', var_name='Pregunta')\n",
    "df_interes['Interes en tecnologia'] = 1*(df_interes['Seleccion'].str.contains('Tecnología'))\n",
    "df_puntaje_interes = df_interes.pivot_table(index='index', values=['Interes en tecnologia'], aggfunc=['sum', 'max']).reset_index()\n",
    "df_puntaje_interes.columns = ['index', 'Puntaje interes', 'Interesado en tecnologia']\n",
    "df_puntaje_interes['Puntaje interes'] = 100*(df_puntaje_interes['Puntaje interes']/4)\n",
    "#df_puntaje_interes = (100*df_interes.groupby('index')['Interes en tecnologia'].sum()/4).reset_index()\n",
    "df_puntaje_interes"
   ],
   "metadata": {
    "collapsed": false,
    "pycharm": {
     "name": "#%%\n"
    }
   }
  },
  {
   "cell_type": "code",
   "execution_count": 157,
   "outputs": [
    {
     "data": {
      "text/plain": "             index  Puntaje conocimiento\ncount  5082.000000           5082.000000\nmean   2619.399646             31.195664\nstd    1510.114305             19.302506\nmin       1.000000              0.000000\n25%    1324.250000             18.181818\n50%    2610.500000             27.272727\n75%    3934.750000             45.454545\nmax    5257.000000            100.000000",
      "text/html": "<div>\n<style scoped>\n    .dataframe tbody tr th:only-of-type {\n        vertical-align: middle;\n    }\n\n    .dataframe tbody tr th {\n        vertical-align: top;\n    }\n\n    .dataframe thead th {\n        text-align: right;\n    }\n</style>\n<table border=\"1\" class=\"dataframe\">\n  <thead>\n    <tr style=\"text-align: right;\">\n      <th></th>\n      <th>index</th>\n      <th>Puntaje conocimiento</th>\n    </tr>\n  </thead>\n  <tbody>\n    <tr>\n      <th>count</th>\n      <td>5082.000000</td>\n      <td>5082.000000</td>\n    </tr>\n    <tr>\n      <th>mean</th>\n      <td>2619.399646</td>\n      <td>31.195664</td>\n    </tr>\n    <tr>\n      <th>std</th>\n      <td>1510.114305</td>\n      <td>19.302506</td>\n    </tr>\n    <tr>\n      <th>min</th>\n      <td>1.000000</td>\n      <td>0.000000</td>\n    </tr>\n    <tr>\n      <th>25%</th>\n      <td>1324.250000</td>\n      <td>18.181818</td>\n    </tr>\n    <tr>\n      <th>50%</th>\n      <td>2610.500000</td>\n      <td>27.272727</td>\n    </tr>\n    <tr>\n      <th>75%</th>\n      <td>3934.750000</td>\n      <td>45.454545</td>\n    </tr>\n    <tr>\n      <th>max</th>\n      <td>5257.000000</td>\n      <td>100.000000</td>\n    </tr>\n  </tbody>\n</table>\n</div>"
     },
     "execution_count": 157,
     "metadata": {},
     "output_type": "execute_result"
    }
   ],
   "source": [
    "\n",
    "df_conocimientos = est[['index']+col_conocimiento].melt(id_vars='index', value_name='Respuesta estudiante', var_name='Pregunta')\n",
    "df_conocimientos['Respuesta correcta'] = df_conocimientos['Pregunta'].replace(respuestas_correctas)\n",
    "df_conocimientos['Puntaje conocimiento'] = 1*(df_conocimientos['Respuesta estudiante'] == df_conocimientos['Respuesta correcta'])\n",
    "df_puntaje = (df_conocimientos.groupby('index')['Puntaje conocimiento'].sum()*100/11).reset_index()\n",
    "df_puntaje.describe()"
   ],
   "metadata": {
    "collapsed": false,
    "pycharm": {
     "name": "#%%\n"
    }
   }
  },
  {
   "cell_type": "code",
   "execution_count": 158,
   "outputs": [
    {
     "data": {
      "text/plain": "      index  Número de lista  Edad                 Sexo Sector vivienda  \\\n0         1              3.0  14.0            Masculino          Urbana   \n1         2              7.0  16.0            Masculino          Urbana   \n2         3             30.0  14.0             Femenino          Urbana   \n3         4              6.0  15.0            Masculino          Urbana   \n4         5             10.0  14.0             Femenino          Urbana   \n...     ...              ...   ...                  ...             ...   \n5077   5253             17.0  15.0             Femenino           Rural   \n5078   5254             24.0  15.0             Femenino          Urbana   \n5079   5255             31.0  13.0             Femenino           Rural   \n5080   5256              5.0  14.0             Femenino          Urbana   \n5081   5257             40.0  14.0  Prefiero no decirlo          Urbana   \n\n     Internet                         Uso del dispositivo móvil  \\\n0          Sí                      Uso propio (solo lo usas tú)   \n1          Sí                      Uso propio (solo lo usas tú)   \n2          Sí                 Uso compartido con otras personas   \n3          No  No tengo acceso a ningún dispositivo electrónico   \n4          Sí                 Uso compartido con otras personas   \n...       ...                                               ...   \n5077       No                 Uso compartido con otras personas   \n5078       Sí                 Uso compartido con otras personas   \n5079       Sí                 Uso compartido con otras personas   \n5080       Sí                      Uso propio (solo lo usas tú)   \n5081       Sí  No tengo acceso a ningún dispositivo electrónico   \n\n     Nivel escolaridad madre Nivel escolaridad padre Ocupación madre  ...  \\\n0        Técnico o tecnólogo    Titulo universitario         Trabaja  ...   \n1       Titulo universitario     Técnico o tecnólogo         Trabaja  ...   \n2                 Secundaría              Secundaría         Trabaja  ...   \n3                      No sé                   No sé         Trabaja  ...   \n4       Titulo universitario              Secundaría         Trabaja  ...   \n...                      ...                     ...             ...  ...   \n5077              Secundaría                 Ninguno  Cuida el hogar  ...   \n5078              Secundaría                Primaria         Trabaja  ...   \n5079              Secundaría              Secundaría  Cuida el hogar  ...   \n5080              Secundaría              Secundaría         Trabaja  ...   \n5081                Primaria              Secundaría  Cuida el hogar  ...   \n\n     Tipo de discapacidad  \\\n0                     NaN   \n1                     NaN   \n2                     NaN   \n3                     NaN   \n4                     NaN   \n...                   ...   \n5077                  NaN   \n5078                  NaN   \n5079                  NaN   \n5080                  NaN   \n5081                  NaN   \n\n     ¿Te reconoces como una persona con algún tipo de discapacidad?  \\\n0                                                    No               \n1                                                    No               \n2                                                    No               \n3                                                    No               \n4                                                    No               \n...                                                 ...               \n5077                                                 No               \n5078                                                 No               \n5079                                                 No               \n5080                                                 No               \n5081                                                 No               \n\n     1.8 Desarrollo de software Conoce GreenTIC Código IE   Grupo  Fecha  \\\n0              Me interesa poco              No     166.0  B o 02  19/04   \n1     Está entre mis preferidas              No     166.0  B o 02  19/04   \n2              Me interesa poco              No     166.0  B o 02  19/04   \n3     Está entre mis preferidas              No     166.0  B o 02  19/04   \n4                   La evitaría              No     166.0  B o 02  19/04   \n...                         ...             ...       ...     ...    ...   \n5077           Me interesa poco              No      36.0  I o 09  02/05   \n5078                La evitaría              No     173.0  E o 05  02/05   \n5079              No la conozco              No      36.0  I o 09  02/05   \n5080                La evitaría              No       6.0  C o 03  02/05   \n5081                La evitaría              No     173.0  E o 05  02/05   \n\n     Puntaje conocimiento Puntaje interes Interesado en tecnologia  \n0               45.454545           100.0                        1  \n1               18.181818            75.0                        1  \n2               36.363636            25.0                        1  \n3               18.181818           100.0                        1  \n4               36.363636            25.0                        1  \n...                   ...             ...                      ...  \n5077            18.181818           100.0                        1  \n5078            18.181818            25.0                        1  \n5079            45.454545            25.0                        1  \n5080            45.454545            50.0                        1  \n5081            27.272727             0.0                        0  \n\n[5082 rows x 75 columns]",
      "text/html": "<div>\n<style scoped>\n    .dataframe tbody tr th:only-of-type {\n        vertical-align: middle;\n    }\n\n    .dataframe tbody tr th {\n        vertical-align: top;\n    }\n\n    .dataframe thead th {\n        text-align: right;\n    }\n</style>\n<table border=\"1\" class=\"dataframe\">\n  <thead>\n    <tr style=\"text-align: right;\">\n      <th></th>\n      <th>index</th>\n      <th>Número de lista</th>\n      <th>Edad</th>\n      <th>Sexo</th>\n      <th>Sector vivienda</th>\n      <th>Internet</th>\n      <th>Uso del dispositivo móvil</th>\n      <th>Nivel escolaridad madre</th>\n      <th>Nivel escolaridad padre</th>\n      <th>Ocupación madre</th>\n      <th>...</th>\n      <th>Tipo de discapacidad</th>\n      <th>¿Te reconoces como una persona con algún tipo de discapacidad?</th>\n      <th>1.8 Desarrollo de software</th>\n      <th>Conoce GreenTIC</th>\n      <th>Código IE</th>\n      <th>Grupo</th>\n      <th>Fecha</th>\n      <th>Puntaje conocimiento</th>\n      <th>Puntaje interes</th>\n      <th>Interesado en tecnologia</th>\n    </tr>\n  </thead>\n  <tbody>\n    <tr>\n      <th>0</th>\n      <td>1</td>\n      <td>3.0</td>\n      <td>14.0</td>\n      <td>Masculino</td>\n      <td>Urbana</td>\n      <td>Sí</td>\n      <td>Uso propio (solo lo usas tú)</td>\n      <td>Técnico o tecnólogo</td>\n      <td>Titulo universitario</td>\n      <td>Trabaja</td>\n      <td>...</td>\n      <td>NaN</td>\n      <td>No</td>\n      <td>Me interesa poco</td>\n      <td>No</td>\n      <td>166.0</td>\n      <td>B o 02</td>\n      <td>19/04</td>\n      <td>45.454545</td>\n      <td>100.0</td>\n      <td>1</td>\n    </tr>\n    <tr>\n      <th>1</th>\n      <td>2</td>\n      <td>7.0</td>\n      <td>16.0</td>\n      <td>Masculino</td>\n      <td>Urbana</td>\n      <td>Sí</td>\n      <td>Uso propio (solo lo usas tú)</td>\n      <td>Titulo universitario</td>\n      <td>Técnico o tecnólogo</td>\n      <td>Trabaja</td>\n      <td>...</td>\n      <td>NaN</td>\n      <td>No</td>\n      <td>Está entre mis preferidas</td>\n      <td>No</td>\n      <td>166.0</td>\n      <td>B o 02</td>\n      <td>19/04</td>\n      <td>18.181818</td>\n      <td>75.0</td>\n      <td>1</td>\n    </tr>\n    <tr>\n      <th>2</th>\n      <td>3</td>\n      <td>30.0</td>\n      <td>14.0</td>\n      <td>Femenino</td>\n      <td>Urbana</td>\n      <td>Sí</td>\n      <td>Uso compartido con otras personas</td>\n      <td>Secundaría</td>\n      <td>Secundaría</td>\n      <td>Trabaja</td>\n      <td>...</td>\n      <td>NaN</td>\n      <td>No</td>\n      <td>Me interesa poco</td>\n      <td>No</td>\n      <td>166.0</td>\n      <td>B o 02</td>\n      <td>19/04</td>\n      <td>36.363636</td>\n      <td>25.0</td>\n      <td>1</td>\n    </tr>\n    <tr>\n      <th>3</th>\n      <td>4</td>\n      <td>6.0</td>\n      <td>15.0</td>\n      <td>Masculino</td>\n      <td>Urbana</td>\n      <td>No</td>\n      <td>No tengo acceso a ningún dispositivo electrónico</td>\n      <td>No sé</td>\n      <td>No sé</td>\n      <td>Trabaja</td>\n      <td>...</td>\n      <td>NaN</td>\n      <td>No</td>\n      <td>Está entre mis preferidas</td>\n      <td>No</td>\n      <td>166.0</td>\n      <td>B o 02</td>\n      <td>19/04</td>\n      <td>18.181818</td>\n      <td>100.0</td>\n      <td>1</td>\n    </tr>\n    <tr>\n      <th>4</th>\n      <td>5</td>\n      <td>10.0</td>\n      <td>14.0</td>\n      <td>Femenino</td>\n      <td>Urbana</td>\n      <td>Sí</td>\n      <td>Uso compartido con otras personas</td>\n      <td>Titulo universitario</td>\n      <td>Secundaría</td>\n      <td>Trabaja</td>\n      <td>...</td>\n      <td>NaN</td>\n      <td>No</td>\n      <td>La evitaría</td>\n      <td>No</td>\n      <td>166.0</td>\n      <td>B o 02</td>\n      <td>19/04</td>\n      <td>36.363636</td>\n      <td>25.0</td>\n      <td>1</td>\n    </tr>\n    <tr>\n      <th>...</th>\n      <td>...</td>\n      <td>...</td>\n      <td>...</td>\n      <td>...</td>\n      <td>...</td>\n      <td>...</td>\n      <td>...</td>\n      <td>...</td>\n      <td>...</td>\n      <td>...</td>\n      <td>...</td>\n      <td>...</td>\n      <td>...</td>\n      <td>...</td>\n      <td>...</td>\n      <td>...</td>\n      <td>...</td>\n      <td>...</td>\n      <td>...</td>\n      <td>...</td>\n      <td>...</td>\n    </tr>\n    <tr>\n      <th>5077</th>\n      <td>5253</td>\n      <td>17.0</td>\n      <td>15.0</td>\n      <td>Femenino</td>\n      <td>Rural</td>\n      <td>No</td>\n      <td>Uso compartido con otras personas</td>\n      <td>Secundaría</td>\n      <td>Ninguno</td>\n      <td>Cuida el hogar</td>\n      <td>...</td>\n      <td>NaN</td>\n      <td>No</td>\n      <td>Me interesa poco</td>\n      <td>No</td>\n      <td>36.0</td>\n      <td>I o 09</td>\n      <td>02/05</td>\n      <td>18.181818</td>\n      <td>100.0</td>\n      <td>1</td>\n    </tr>\n    <tr>\n      <th>5078</th>\n      <td>5254</td>\n      <td>24.0</td>\n      <td>15.0</td>\n      <td>Femenino</td>\n      <td>Urbana</td>\n      <td>Sí</td>\n      <td>Uso compartido con otras personas</td>\n      <td>Secundaría</td>\n      <td>Primaria</td>\n      <td>Trabaja</td>\n      <td>...</td>\n      <td>NaN</td>\n      <td>No</td>\n      <td>La evitaría</td>\n      <td>No</td>\n      <td>173.0</td>\n      <td>E o 05</td>\n      <td>02/05</td>\n      <td>18.181818</td>\n      <td>25.0</td>\n      <td>1</td>\n    </tr>\n    <tr>\n      <th>5079</th>\n      <td>5255</td>\n      <td>31.0</td>\n      <td>13.0</td>\n      <td>Femenino</td>\n      <td>Rural</td>\n      <td>Sí</td>\n      <td>Uso compartido con otras personas</td>\n      <td>Secundaría</td>\n      <td>Secundaría</td>\n      <td>Cuida el hogar</td>\n      <td>...</td>\n      <td>NaN</td>\n      <td>No</td>\n      <td>No la conozco</td>\n      <td>No</td>\n      <td>36.0</td>\n      <td>I o 09</td>\n      <td>02/05</td>\n      <td>45.454545</td>\n      <td>25.0</td>\n      <td>1</td>\n    </tr>\n    <tr>\n      <th>5080</th>\n      <td>5256</td>\n      <td>5.0</td>\n      <td>14.0</td>\n      <td>Femenino</td>\n      <td>Urbana</td>\n      <td>Sí</td>\n      <td>Uso propio (solo lo usas tú)</td>\n      <td>Secundaría</td>\n      <td>Secundaría</td>\n      <td>Trabaja</td>\n      <td>...</td>\n      <td>NaN</td>\n      <td>No</td>\n      <td>La evitaría</td>\n      <td>No</td>\n      <td>6.0</td>\n      <td>C o 03</td>\n      <td>02/05</td>\n      <td>45.454545</td>\n      <td>50.0</td>\n      <td>1</td>\n    </tr>\n    <tr>\n      <th>5081</th>\n      <td>5257</td>\n      <td>40.0</td>\n      <td>14.0</td>\n      <td>Prefiero no decirlo</td>\n      <td>Urbana</td>\n      <td>Sí</td>\n      <td>No tengo acceso a ningún dispositivo electrónico</td>\n      <td>Primaria</td>\n      <td>Secundaría</td>\n      <td>Cuida el hogar</td>\n      <td>...</td>\n      <td>NaN</td>\n      <td>No</td>\n      <td>La evitaría</td>\n      <td>No</td>\n      <td>173.0</td>\n      <td>E o 05</td>\n      <td>02/05</td>\n      <td>27.272727</td>\n      <td>0.0</td>\n      <td>0</td>\n    </tr>\n  </tbody>\n</table>\n<p>5082 rows × 75 columns</p>\n</div>"
     },
     "execution_count": 158,
     "metadata": {},
     "output_type": "execute_result"
    }
   ],
   "source": [
    "df_7 = pd.merge(est, df_puntaje, on='index')\n",
    "df_7 = pd.merge(df_7, df_puntaje_interes, on='index')\n",
    "df_7"
   ],
   "metadata": {
    "collapsed": false,
    "pycharm": {
     "name": "#%%\n"
    }
   }
  },
  {
   "cell_type": "code",
   "execution_count": 179,
   "outputs": [],
   "source": [
    "df_7['Media nacional resultados'] = df_7['Puntaje conocimiento'].mean()\n",
    "df_7['Conoce PC'] = 1*(df_7[col_conocePC] > 2)\n",
    "df_7['Puntaje conocimientos PC'] = 100*(df_7[col_PC].mean(axis=1)/5)\n",
    "df_7['Puntaje autoeficacia'] = (df_7[col_autoeficacia].mean(axis=1)*100/5)\n",
    "df_7['Media nacional autoeficacia'] = df_7['Puntaje autoeficacia'].mean()\n"
   ],
   "metadata": {
    "collapsed": false,
    "pycharm": {
     "name": "#%%\n"
    }
   }
  },
  {
   "cell_type": "code",
   "execution_count": 180,
   "outputs": [],
   "source": [
    "df_7['Media nacional interés'] = df_7['Puntaje interes'].mean()\n"
   ],
   "metadata": {
    "collapsed": false,
    "pycharm": {
     "name": "#%%\n"
    }
   }
  },
  {
   "cell_type": "code",
   "execution_count": 181,
   "outputs": [],
   "source": [
    "cols_dimension7 = ['Puntaje conocimiento', 'Media nacional resultados','Puntaje interes', 'Interesado en tecnologia', 'Conoce PC', 'Puntaje conocimientos PC', 'Puntaje autoeficacia', 'Media nacional autoeficacia', 'Media nacional interés', 'index']\n",
    "agrupadores_dimension7 = ['mean', 'max', 'mean', 'sum', 'sum', 'mean','mean', 'max', 'max', 'count']\n",
    "agg_funcs = dict(zip(cols_dimension7, agrupadores_dimension7))"
   ],
   "metadata": {
    "collapsed": false,
    "pycharm": {
     "name": "#%%\n"
    }
   }
  },
  {
   "cell_type": "code",
   "execution_count": 213,
   "outputs": [],
   "source": [
    "df_institucion = df_7.pivot_table(index=['Código IE'], values=cols_dimension7, aggfunc=agg_funcs).rename(columns={'index':'Cantidad estudiantes'})\n",
    "df_institucion['% Conoce PC'] = (df_institucion['Conoce PC']/df_institucion['Cantidad estudiantes'])*100\n",
    "df_institucion['% Interesado'] = (df_institucion['Interesado en tecnologia']/df_institucion['Cantidad estudiantes'])*100"
   ],
   "metadata": {
    "collapsed": false,
    "pycharm": {
     "name": "#%%\n"
    }
   }
  },
  {
   "cell_type": "code",
   "execution_count": 214,
   "outputs": [],
   "source": [
    "df_institucion['Diferencia resultados'] = (df_institucion['Puntaje conocimiento'] - df_institucion['Media nacional resultados'])*100/df_institucion['Media nacional resultados']\n",
    "\n",
    "df_institucion['Diferencia Autoeficacia'] = (df_institucion['Puntaje autoeficacia'] - df_institucion['Media nacional autoeficacia'])*100/df_institucion['Media nacional autoeficacia']\n",
    "\n",
    "df_institucion['Diferencia interes'] = (df_institucion['Puntaje interes'] - df_institucion['Media nacional interés'])*100/df_institucion['Media nacional interés']"
   ],
   "metadata": {
    "collapsed": false,
    "pycharm": {
     "name": "#%%\n"
    }
   }
  },
  {
   "cell_type": "code",
   "execution_count": 215,
   "outputs": [
    {
     "data": {
      "text/plain": "           Conoce PC  Interesado en tecnologia  Media nacional autoeficacia  \\\nCódigo IE                                                                     \n1.0               70                        86                     66.61708   \n2.0               35                        53                     66.61708   \n3.0               41                        43                     66.61708   \n4.0                1                         1                     66.61708   \n6.0               30                        48                     66.61708   \n...              ...                       ...                          ...   \n241.0             47                        59                     66.61708   \n247.0             27                        28                     66.61708   \n248.0              7                         8                     66.61708   \n252.0             36                        41                     66.61708   \n297.0              1                         1                     66.61708   \n\n           Media nacional interés  Media nacional resultados  \\\nCódigo IE                                                      \n1.0                      40.69756                  31.195664   \n2.0                      40.69756                  31.195664   \n3.0                      40.69756                  31.195664   \n4.0                      40.69756                  31.195664   \n6.0                      40.69756                  31.195664   \n...                           ...                        ...   \n241.0                    40.69756                  31.195664   \n247.0                    40.69756                  31.195664   \n248.0                    40.69756                  31.195664   \n252.0                    40.69756                  31.195664   \n297.0                    40.69756                  31.195664   \n\n           Puntaje autoeficacia  Puntaje conocimiento  \\\nCódigo IE                                               \n1.0                   70.137931             30.250784   \n2.0                   59.104478             24.830393   \n3.0                   69.904762             29.870130   \n4.0                   92.000000             18.181818   \n6.0                   63.698113             22.469983   \n...                         ...                   ...   \n241.0                 68.450000             32.954545   \n247.0                 64.947368             11.244019   \n248.0                 67.000000             22.727273   \n252.0                 62.400000             24.297521   \n297.0                 76.000000             27.272727   \n\n           Puntaje conocimientos PC  Puntaje interes  Cantidad estudiantes  \\\nCódigo IE                                                                    \n1.0                       58.836207        38.146552                   116   \n2.0                       51.492537        47.388060                    67   \n3.0                       59.761905        39.285714                    63   \n4.0                       95.000000       100.000000                     1   \n6.0                       59.905660        55.188679                    53   \n...                             ...              ...                   ...   \n241.0                     57.625000        38.750000                    80   \n247.0                     64.736842        33.552632                    38   \n248.0                     57.916667        33.333333                    12   \n252.0                     57.363636        33.181818                    55   \n297.0                     70.000000        25.000000                     1   \n\n           % Conoce PC  % Interesado  Diferencia resultados  \\\nCódigo IE                                                     \n1.0          60.344828     74.137931              -3.028883   \n2.0          52.238806     79.104478             -20.404343   \n3.0          65.079365     68.253968              -4.249097   \n4.0         100.000000    100.000000             -41.716842   \n6.0          56.603774     90.566038             -27.970814   \n...                ...           ...                    ...   \n241.0        58.750000     73.750000               5.638225   \n247.0        71.052632     73.684211             -63.956468   \n248.0        58.333333     66.666667             -27.146052   \n252.0        65.454545     74.545455             -22.112506   \n297.0       100.000000    100.000000             -12.575262   \n\n           Diferencia Autoeficacia  Diferencia interes  \nCódigo IE                                               \n1.0                       5.285208           -6.268209  \n2.0                     -11.277291           16.439560  \n3.0                       4.935194           -3.469116  \n4.0                      38.102721          145.714976  \n6.0                      -4.381709           35.606850  \n...                            ...                 ...  \n241.0                     2.751427           -4.785447  \n247.0                    -2.506431          -17.556159  \n248.0                     0.574808          -18.095008  \n252.0                    -6.330328          -18.467303  \n297.0                    14.084857          -38.571256  \n\n[104 rows x 15 columns]",
      "text/html": "<div>\n<style scoped>\n    .dataframe tbody tr th:only-of-type {\n        vertical-align: middle;\n    }\n\n    .dataframe tbody tr th {\n        vertical-align: top;\n    }\n\n    .dataframe thead th {\n        text-align: right;\n    }\n</style>\n<table border=\"1\" class=\"dataframe\">\n  <thead>\n    <tr style=\"text-align: right;\">\n      <th></th>\n      <th>Conoce PC</th>\n      <th>Interesado en tecnologia</th>\n      <th>Media nacional autoeficacia</th>\n      <th>Media nacional interés</th>\n      <th>Media nacional resultados</th>\n      <th>Puntaje autoeficacia</th>\n      <th>Puntaje conocimiento</th>\n      <th>Puntaje conocimientos PC</th>\n      <th>Puntaje interes</th>\n      <th>Cantidad estudiantes</th>\n      <th>% Conoce PC</th>\n      <th>% Interesado</th>\n      <th>Diferencia resultados</th>\n      <th>Diferencia Autoeficacia</th>\n      <th>Diferencia interes</th>\n    </tr>\n    <tr>\n      <th>Código IE</th>\n      <th></th>\n      <th></th>\n      <th></th>\n      <th></th>\n      <th></th>\n      <th></th>\n      <th></th>\n      <th></th>\n      <th></th>\n      <th></th>\n      <th></th>\n      <th></th>\n      <th></th>\n      <th></th>\n      <th></th>\n    </tr>\n  </thead>\n  <tbody>\n    <tr>\n      <th>1.0</th>\n      <td>70</td>\n      <td>86</td>\n      <td>66.61708</td>\n      <td>40.69756</td>\n      <td>31.195664</td>\n      <td>70.137931</td>\n      <td>30.250784</td>\n      <td>58.836207</td>\n      <td>38.146552</td>\n      <td>116</td>\n      <td>60.344828</td>\n      <td>74.137931</td>\n      <td>-3.028883</td>\n      <td>5.285208</td>\n      <td>-6.268209</td>\n    </tr>\n    <tr>\n      <th>2.0</th>\n      <td>35</td>\n      <td>53</td>\n      <td>66.61708</td>\n      <td>40.69756</td>\n      <td>31.195664</td>\n      <td>59.104478</td>\n      <td>24.830393</td>\n      <td>51.492537</td>\n      <td>47.388060</td>\n      <td>67</td>\n      <td>52.238806</td>\n      <td>79.104478</td>\n      <td>-20.404343</td>\n      <td>-11.277291</td>\n      <td>16.439560</td>\n    </tr>\n    <tr>\n      <th>3.0</th>\n      <td>41</td>\n      <td>43</td>\n      <td>66.61708</td>\n      <td>40.69756</td>\n      <td>31.195664</td>\n      <td>69.904762</td>\n      <td>29.870130</td>\n      <td>59.761905</td>\n      <td>39.285714</td>\n      <td>63</td>\n      <td>65.079365</td>\n      <td>68.253968</td>\n      <td>-4.249097</td>\n      <td>4.935194</td>\n      <td>-3.469116</td>\n    </tr>\n    <tr>\n      <th>4.0</th>\n      <td>1</td>\n      <td>1</td>\n      <td>66.61708</td>\n      <td>40.69756</td>\n      <td>31.195664</td>\n      <td>92.000000</td>\n      <td>18.181818</td>\n      <td>95.000000</td>\n      <td>100.000000</td>\n      <td>1</td>\n      <td>100.000000</td>\n      <td>100.000000</td>\n      <td>-41.716842</td>\n      <td>38.102721</td>\n      <td>145.714976</td>\n    </tr>\n    <tr>\n      <th>6.0</th>\n      <td>30</td>\n      <td>48</td>\n      <td>66.61708</td>\n      <td>40.69756</td>\n      <td>31.195664</td>\n      <td>63.698113</td>\n      <td>22.469983</td>\n      <td>59.905660</td>\n      <td>55.188679</td>\n      <td>53</td>\n      <td>56.603774</td>\n      <td>90.566038</td>\n      <td>-27.970814</td>\n      <td>-4.381709</td>\n      <td>35.606850</td>\n    </tr>\n    <tr>\n      <th>...</th>\n      <td>...</td>\n      <td>...</td>\n      <td>...</td>\n      <td>...</td>\n      <td>...</td>\n      <td>...</td>\n      <td>...</td>\n      <td>...</td>\n      <td>...</td>\n      <td>...</td>\n      <td>...</td>\n      <td>...</td>\n      <td>...</td>\n      <td>...</td>\n      <td>...</td>\n    </tr>\n    <tr>\n      <th>241.0</th>\n      <td>47</td>\n      <td>59</td>\n      <td>66.61708</td>\n      <td>40.69756</td>\n      <td>31.195664</td>\n      <td>68.450000</td>\n      <td>32.954545</td>\n      <td>57.625000</td>\n      <td>38.750000</td>\n      <td>80</td>\n      <td>58.750000</td>\n      <td>73.750000</td>\n      <td>5.638225</td>\n      <td>2.751427</td>\n      <td>-4.785447</td>\n    </tr>\n    <tr>\n      <th>247.0</th>\n      <td>27</td>\n      <td>28</td>\n      <td>66.61708</td>\n      <td>40.69756</td>\n      <td>31.195664</td>\n      <td>64.947368</td>\n      <td>11.244019</td>\n      <td>64.736842</td>\n      <td>33.552632</td>\n      <td>38</td>\n      <td>71.052632</td>\n      <td>73.684211</td>\n      <td>-63.956468</td>\n      <td>-2.506431</td>\n      <td>-17.556159</td>\n    </tr>\n    <tr>\n      <th>248.0</th>\n      <td>7</td>\n      <td>8</td>\n      <td>66.61708</td>\n      <td>40.69756</td>\n      <td>31.195664</td>\n      <td>67.000000</td>\n      <td>22.727273</td>\n      <td>57.916667</td>\n      <td>33.333333</td>\n      <td>12</td>\n      <td>58.333333</td>\n      <td>66.666667</td>\n      <td>-27.146052</td>\n      <td>0.574808</td>\n      <td>-18.095008</td>\n    </tr>\n    <tr>\n      <th>252.0</th>\n      <td>36</td>\n      <td>41</td>\n      <td>66.61708</td>\n      <td>40.69756</td>\n      <td>31.195664</td>\n      <td>62.400000</td>\n      <td>24.297521</td>\n      <td>57.363636</td>\n      <td>33.181818</td>\n      <td>55</td>\n      <td>65.454545</td>\n      <td>74.545455</td>\n      <td>-22.112506</td>\n      <td>-6.330328</td>\n      <td>-18.467303</td>\n    </tr>\n    <tr>\n      <th>297.0</th>\n      <td>1</td>\n      <td>1</td>\n      <td>66.61708</td>\n      <td>40.69756</td>\n      <td>31.195664</td>\n      <td>76.000000</td>\n      <td>27.272727</td>\n      <td>70.000000</td>\n      <td>25.000000</td>\n      <td>1</td>\n      <td>100.000000</td>\n      <td>100.000000</td>\n      <td>-12.575262</td>\n      <td>14.084857</td>\n      <td>-38.571256</td>\n    </tr>\n  </tbody>\n</table>\n<p>104 rows × 15 columns</p>\n</div>"
     },
     "execution_count": 215,
     "metadata": {},
     "output_type": "execute_result"
    }
   ],
   "source": [
    "df_institucion"
   ],
   "metadata": {
    "collapsed": false,
    "pycharm": {
     "name": "#%%\n"
    }
   }
  },
  {
   "cell_type": "code",
   "execution_count": 236,
   "outputs": [
    {
     "data": {
      "text/plain": "           Conoce PC  Interesado en tecnologia  Media nacional autoeficacia  \\\nCódigo IE                                                                     \n1.0               70                        86                     66.61708   \n2.0               35                        53                     66.61708   \n3.0               41                        43                     66.61708   \n4.0                1                         1                     66.61708   \n6.0               30                        48                     66.61708   \n...              ...                       ...                          ...   \n241.0             47                        59                     66.61708   \n247.0             27                        28                     66.61708   \n248.0              7                         8                     66.61708   \n252.0             36                        41                     66.61708   \n297.0              1                         1                     66.61708   \n\n           Media nacional interés  Media nacional resultados  \\\nCódigo IE                                                      \n1.0                      40.69756                  31.195664   \n2.0                      40.69756                  31.195664   \n3.0                      40.69756                  31.195664   \n4.0                      40.69756                  31.195664   \n6.0                      40.69756                  31.195664   \n...                           ...                        ...   \n241.0                    40.69756                  31.195664   \n247.0                    40.69756                  31.195664   \n248.0                    40.69756                  31.195664   \n252.0                    40.69756                  31.195664   \n297.0                    40.69756                  31.195664   \n\n           Puntaje autoeficacia  Puntaje conocimiento  \\\nCódigo IE                                               \n1.0                   70.137931             30.250784   \n2.0                   59.104478             24.830393   \n3.0                   69.904762             29.870130   \n4.0                   92.000000             18.181818   \n6.0                   63.698113             22.469983   \n...                         ...                   ...   \n241.0                 68.450000             32.954545   \n247.0                 64.947368             11.244019   \n248.0                 67.000000             22.727273   \n252.0                 62.400000             24.297521   \n297.0                 76.000000             27.272727   \n\n           Puntaje conocimientos PC  Puntaje interes  Cantidad estudiantes  \\\nCódigo IE                                                                    \n1.0                       58.836207        38.146552                   116   \n2.0                       51.492537        47.388060                    67   \n3.0                       59.761905        39.285714                    63   \n4.0                       95.000000       100.000000                     1   \n6.0                       59.905660        55.188679                    53   \n...                             ...              ...                   ...   \n241.0                     57.625000        38.750000                    80   \n247.0                     64.736842        33.552632                    38   \n248.0                     57.916667        33.333333                    12   \n252.0                     57.363636        33.181818                    55   \n297.0                     70.000000        25.000000                     1   \n\n           ...  Diferencia Autoeficacia  Diferencia interes  Nivel ConocePC  \\\nCódigo IE  ...                                                                \n1.0        ...                 5.285208           -6.268209               3   \n2.0        ...               -11.277291           16.439560              2B   \n3.0        ...                 4.935194           -3.469116               3   \n4.0        ...                38.102721          145.714976               3   \n6.0        ...                -4.381709           35.606850              2B   \n...        ...                      ...                 ...             ...   \n241.0      ...                 2.751427           -4.785447              2B   \n247.0      ...                -2.506431          -17.556159               3   \n248.0      ...                 0.574808          -18.095008              2B   \n252.0      ...                -6.330328          -18.467303               3   \n297.0      ...                14.084857          -38.571256               3   \n\n           Nivel PuntajePC  Nivel Resultados Nivel Interes  \\\nCódigo IE                                                    \n1.0                     1B                2A            2B   \n2.0                     1B                2A            2B   \n3.0                     1B                2A            2B   \n4.0                      3                1B             4   \n6.0                     1B                2A             4   \n...                    ...               ...           ...   \n241.0                   1B                2B            2B   \n247.0                   2A                1A            2B   \n248.0                   1B                2A            2B   \n252.0                   1B                2A            2B   \n297.0                   2A                2A             4   \n\n          Nivel Interes pares Nivel Autoeficacia Nivel Autoeficacia pares  \\\nCódigo IE                                                                   \n1.0                        2B                  4                       2B   \n2.0                         4                 2A                       2A   \n3.0                        2B                  4                       2B   \n4.0                         4                  4                        4   \n6.0                         4                  4                       2A   \n...                       ...                ...                      ...   \n241.0                      2B                  4                       2B   \n247.0                      2B                  4                       2A   \n248.0                      2B                  4                       2B   \n252.0                      2B                  4                       2A   \n297.0                      2A                  4                        3   \n\n          Dimensión 7  \nCódigo IE              \n1.0                1B  \n2.0                1B  \n3.0                1B  \n4.0                1B  \n6.0                1B  \n...               ...  \n241.0              1B  \n247.0              1A  \n248.0              1B  \n252.0              1B  \n297.0              2A  \n\n[104 rows x 23 columns]",
      "text/html": "<div>\n<style scoped>\n    .dataframe tbody tr th:only-of-type {\n        vertical-align: middle;\n    }\n\n    .dataframe tbody tr th {\n        vertical-align: top;\n    }\n\n    .dataframe thead th {\n        text-align: right;\n    }\n</style>\n<table border=\"1\" class=\"dataframe\">\n  <thead>\n    <tr style=\"text-align: right;\">\n      <th></th>\n      <th>Conoce PC</th>\n      <th>Interesado en tecnologia</th>\n      <th>Media nacional autoeficacia</th>\n      <th>Media nacional interés</th>\n      <th>Media nacional resultados</th>\n      <th>Puntaje autoeficacia</th>\n      <th>Puntaje conocimiento</th>\n      <th>Puntaje conocimientos PC</th>\n      <th>Puntaje interes</th>\n      <th>Cantidad estudiantes</th>\n      <th>...</th>\n      <th>Diferencia Autoeficacia</th>\n      <th>Diferencia interes</th>\n      <th>Nivel ConocePC</th>\n      <th>Nivel PuntajePC</th>\n      <th>Nivel Resultados</th>\n      <th>Nivel Interes</th>\n      <th>Nivel Interes pares</th>\n      <th>Nivel Autoeficacia</th>\n      <th>Nivel Autoeficacia pares</th>\n      <th>Dimensión 7</th>\n    </tr>\n    <tr>\n      <th>Código IE</th>\n      <th></th>\n      <th></th>\n      <th></th>\n      <th></th>\n      <th></th>\n      <th></th>\n      <th></th>\n      <th></th>\n      <th></th>\n      <th></th>\n      <th></th>\n      <th></th>\n      <th></th>\n      <th></th>\n      <th></th>\n      <th></th>\n      <th></th>\n      <th></th>\n      <th></th>\n      <th></th>\n      <th></th>\n    </tr>\n  </thead>\n  <tbody>\n    <tr>\n      <th>1.0</th>\n      <td>70</td>\n      <td>86</td>\n      <td>66.61708</td>\n      <td>40.69756</td>\n      <td>31.195664</td>\n      <td>70.137931</td>\n      <td>30.250784</td>\n      <td>58.836207</td>\n      <td>38.146552</td>\n      <td>116</td>\n      <td>...</td>\n      <td>5.285208</td>\n      <td>-6.268209</td>\n      <td>3</td>\n      <td>1B</td>\n      <td>2A</td>\n      <td>2B</td>\n      <td>2B</td>\n      <td>4</td>\n      <td>2B</td>\n      <td>1B</td>\n    </tr>\n    <tr>\n      <th>2.0</th>\n      <td>35</td>\n      <td>53</td>\n      <td>66.61708</td>\n      <td>40.69756</td>\n      <td>31.195664</td>\n      <td>59.104478</td>\n      <td>24.830393</td>\n      <td>51.492537</td>\n      <td>47.388060</td>\n      <td>67</td>\n      <td>...</td>\n      <td>-11.277291</td>\n      <td>16.439560</td>\n      <td>2B</td>\n      <td>1B</td>\n      <td>2A</td>\n      <td>2B</td>\n      <td>4</td>\n      <td>2A</td>\n      <td>2A</td>\n      <td>1B</td>\n    </tr>\n    <tr>\n      <th>3.0</th>\n      <td>41</td>\n      <td>43</td>\n      <td>66.61708</td>\n      <td>40.69756</td>\n      <td>31.195664</td>\n      <td>69.904762</td>\n      <td>29.870130</td>\n      <td>59.761905</td>\n      <td>39.285714</td>\n      <td>63</td>\n      <td>...</td>\n      <td>4.935194</td>\n      <td>-3.469116</td>\n      <td>3</td>\n      <td>1B</td>\n      <td>2A</td>\n      <td>2B</td>\n      <td>2B</td>\n      <td>4</td>\n      <td>2B</td>\n      <td>1B</td>\n    </tr>\n    <tr>\n      <th>4.0</th>\n      <td>1</td>\n      <td>1</td>\n      <td>66.61708</td>\n      <td>40.69756</td>\n      <td>31.195664</td>\n      <td>92.000000</td>\n      <td>18.181818</td>\n      <td>95.000000</td>\n      <td>100.000000</td>\n      <td>1</td>\n      <td>...</td>\n      <td>38.102721</td>\n      <td>145.714976</td>\n      <td>3</td>\n      <td>3</td>\n      <td>1B</td>\n      <td>4</td>\n      <td>4</td>\n      <td>4</td>\n      <td>4</td>\n      <td>1B</td>\n    </tr>\n    <tr>\n      <th>6.0</th>\n      <td>30</td>\n      <td>48</td>\n      <td>66.61708</td>\n      <td>40.69756</td>\n      <td>31.195664</td>\n      <td>63.698113</td>\n      <td>22.469983</td>\n      <td>59.905660</td>\n      <td>55.188679</td>\n      <td>53</td>\n      <td>...</td>\n      <td>-4.381709</td>\n      <td>35.606850</td>\n      <td>2B</td>\n      <td>1B</td>\n      <td>2A</td>\n      <td>4</td>\n      <td>4</td>\n      <td>4</td>\n      <td>2A</td>\n      <td>1B</td>\n    </tr>\n    <tr>\n      <th>...</th>\n      <td>...</td>\n      <td>...</td>\n      <td>...</td>\n      <td>...</td>\n      <td>...</td>\n      <td>...</td>\n      <td>...</td>\n      <td>...</td>\n      <td>...</td>\n      <td>...</td>\n      <td>...</td>\n      <td>...</td>\n      <td>...</td>\n      <td>...</td>\n      <td>...</td>\n      <td>...</td>\n      <td>...</td>\n      <td>...</td>\n      <td>...</td>\n      <td>...</td>\n      <td>...</td>\n    </tr>\n    <tr>\n      <th>241.0</th>\n      <td>47</td>\n      <td>59</td>\n      <td>66.61708</td>\n      <td>40.69756</td>\n      <td>31.195664</td>\n      <td>68.450000</td>\n      <td>32.954545</td>\n      <td>57.625000</td>\n      <td>38.750000</td>\n      <td>80</td>\n      <td>...</td>\n      <td>2.751427</td>\n      <td>-4.785447</td>\n      <td>2B</td>\n      <td>1B</td>\n      <td>2B</td>\n      <td>2B</td>\n      <td>2B</td>\n      <td>4</td>\n      <td>2B</td>\n      <td>1B</td>\n    </tr>\n    <tr>\n      <th>247.0</th>\n      <td>27</td>\n      <td>28</td>\n      <td>66.61708</td>\n      <td>40.69756</td>\n      <td>31.195664</td>\n      <td>64.947368</td>\n      <td>11.244019</td>\n      <td>64.736842</td>\n      <td>33.552632</td>\n      <td>38</td>\n      <td>...</td>\n      <td>-2.506431</td>\n      <td>-17.556159</td>\n      <td>3</td>\n      <td>2A</td>\n      <td>1A</td>\n      <td>2B</td>\n      <td>2B</td>\n      <td>4</td>\n      <td>2A</td>\n      <td>1A</td>\n    </tr>\n    <tr>\n      <th>248.0</th>\n      <td>7</td>\n      <td>8</td>\n      <td>66.61708</td>\n      <td>40.69756</td>\n      <td>31.195664</td>\n      <td>67.000000</td>\n      <td>22.727273</td>\n      <td>57.916667</td>\n      <td>33.333333</td>\n      <td>12</td>\n      <td>...</td>\n      <td>0.574808</td>\n      <td>-18.095008</td>\n      <td>2B</td>\n      <td>1B</td>\n      <td>2A</td>\n      <td>2B</td>\n      <td>2B</td>\n      <td>4</td>\n      <td>2B</td>\n      <td>1B</td>\n    </tr>\n    <tr>\n      <th>252.0</th>\n      <td>36</td>\n      <td>41</td>\n      <td>66.61708</td>\n      <td>40.69756</td>\n      <td>31.195664</td>\n      <td>62.400000</td>\n      <td>24.297521</td>\n      <td>57.363636</td>\n      <td>33.181818</td>\n      <td>55</td>\n      <td>...</td>\n      <td>-6.330328</td>\n      <td>-18.467303</td>\n      <td>3</td>\n      <td>1B</td>\n      <td>2A</td>\n      <td>2B</td>\n      <td>2B</td>\n      <td>4</td>\n      <td>2A</td>\n      <td>1B</td>\n    </tr>\n    <tr>\n      <th>297.0</th>\n      <td>1</td>\n      <td>1</td>\n      <td>66.61708</td>\n      <td>40.69756</td>\n      <td>31.195664</td>\n      <td>76.000000</td>\n      <td>27.272727</td>\n      <td>70.000000</td>\n      <td>25.000000</td>\n      <td>1</td>\n      <td>...</td>\n      <td>14.084857</td>\n      <td>-38.571256</td>\n      <td>3</td>\n      <td>2A</td>\n      <td>2A</td>\n      <td>4</td>\n      <td>2A</td>\n      <td>4</td>\n      <td>3</td>\n      <td>2A</td>\n    </tr>\n  </tbody>\n</table>\n<p>104 rows × 23 columns</p>\n</div>"
     },
     "execution_count": 236,
     "metadata": {},
     "output_type": "execute_result"
    }
   ],
   "source": [
    "df_institucion['Nivel ConocePC'] =  pd.cut(df_institucion['% Conoce PC'], bins=[0, 20, 40, 50, 60, 100], labels=['1A', '1B', '2A', '2B', '3'], include_lowest=True)\n",
    "\n",
    "df_institucion['Nivel PuntajePC'] =  pd.cut(df_institucion['Puntaje conocimientos PC'], bins=[0, 50, 60,70, 100], labels=['1A', '1B',\"2A\",'3'], include_lowest=True)\n",
    "\n",
    "df_institucion['Nivel Resultados'] = pd.cut(df_institucion['Diferencia resultados'], bins=[-100, -50, -30,  0, 10,20, 100], labels=['1A', '1B', \"2A\", \"2B\", '3', '4'], include_lowest=True)\n",
    "\n",
    "df_institucion['Nivel Interes'] = pd.cut(df_institucion['% Interesado'], bins=[0, 20, 40, 60, 80, 100], labels=['1A', '1B', \"2A\", \"2B\", '4'], include_lowest=True)\n",
    "\n",
    "df_institucion['Nivel Interes pares'] = pd.cut(df_institucion['Diferencia interes'], bins=[-100,-50, -30, 0 , 200], labels=['1B', \"2A\", \"2B\", '4'], include_lowest=True)\n",
    "\n",
    "df_institucion['Nivel Autoeficacia'] = pd.cut(df_institucion['Puntaje autoeficacia'], bins=[0, 30, 60, 100], labels=['1B', \"2A\", '4'], include_lowest=True)\n",
    "\n",
    "df_institucion['Nivel Autoeficacia pares'] = pd.cut(df_institucion['Diferencia Autoeficacia'], bins=[-100, 0, 10, 20, 100], labels=['2A',\"2B\", \"3\", '4'], include_lowest=True)\n",
    "\n",
    "\n",
    "df_institucion"
   ],
   "metadata": {
    "collapsed": false,
    "pycharm": {
     "name": "#%%\n"
    }
   }
  },
  {
   "cell_type": "code",
   "execution_count": 234,
   "outputs": [],
   "source": [
    "df_institucion['Dimensión 7'] = df_institucion.filter(regex='^Nivel').min(axis=1)"
   ],
   "metadata": {
    "collapsed": false,
    "pycharm": {
     "name": "#%%\n"
    }
   }
  },
  {
   "cell_type": "code",
   "execution_count": 231,
   "outputs": [],
   "source": [
    "df_institucion[['Dimensión 7']].to_excel('Dimensión 7.xlsx')"
   ],
   "metadata": {
    "collapsed": false,
    "pycharm": {
     "name": "#%%\n"
    }
   }
  },
  {
   "cell_type": "code",
   "execution_count": 235,
   "outputs": [
    {
     "data": {
      "text/plain": "Código IE\n1.0      1B\n2.0      1B\n3.0      1B\n4.0      1B\n6.0      1B\n         ..\n241.0    1B\n247.0    1A\n248.0    1B\n252.0    1B\n297.0    2A\nName: Dimensión 7, Length: 104, dtype: object"
     },
     "execution_count": 235,
     "metadata": {},
     "output_type": "execute_result"
    }
   ],
   "source": [
    "df_institucion['Dimensión 7']"
   ],
   "metadata": {
    "collapsed": false,
    "pycharm": {
     "name": "#%%\n"
    }
   }
  },
  {
   "cell_type": "code",
   "execution_count": null,
   "outputs": [],
   "source": [],
   "metadata": {
    "collapsed": false,
    "pycharm": {
     "name": "#%%\n"
    }
   }
  }
 ],
 "metadata": {
  "kernelspec": {
   "display_name": "Python 3",
   "language": "python",
   "name": "python3"
  },
  "language_info": {
   "codemirror_mode": {
    "name": "ipython",
    "version": 2
   },
   "file_extension": ".py",
   "mimetype": "text/x-python",
   "name": "python",
   "nbconvert_exporter": "python",
   "pygments_lexer": "ipython2",
   "version": "2.7.6"
  }
 },
 "nbformat": 4,
 "nbformat_minor": 0
}