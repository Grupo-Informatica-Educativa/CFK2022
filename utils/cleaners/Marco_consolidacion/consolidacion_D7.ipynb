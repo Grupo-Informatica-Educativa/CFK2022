{
 "cells": [
  {
   "cell_type": "code",
   "execution_count": 1,
   "metadata": {
    "collapsed": true,
    "jupyter": {
     "outputs_hidden": true
    }
   },
   "outputs": [],
   "source": [
    "import pandas as pd\n",
    "import pathlib"
   ]
  },
  {
   "cell_type": "markdown",
   "source": [
    "## Calificar examen estudiantes: Dimensión 7"
   ],
   "metadata": {
    "collapsed": false
   }
  },
  {
   "cell_type": "code",
   "execution_count": 2,
   "outputs": [],
   "source": [
    "ruta_git = pathlib.Path().cwd().parent.parent.parent"
   ],
   "metadata": {
    "collapsed": false,
    "pycharm": {
     "name": "#%%\n"
    }
   }
  },
  {
   "cell_type": "code",
   "execution_count": 3,
   "metadata": {
    "collapsed": false,
    "jupyter": {
     "outputs_hidden": false
    },
    "pycharm": {
     "name": "#%%\n"
    }
   },
   "outputs": [
    {
     "name": "stdout",
     "output_type": "stream",
     "text": [
      "(20750, 74)\n"
     ]
    },
    {
     "data": {
      "text/plain": "Index(['N registro', 'Deseo participar en el estudio', 'Código IE', 'Grupo',\n       'Nombre', 'Fecha', 'ID', 'Número de lista', 'Edad', 'Sexo',\n       'Sector vivienda', 'Internet', 'Uso del dispositivo móvil',\n       'Nivel escolaridad madre', 'Nivel escolaridad padre', 'Ocupación madre',\n       'Ocupación padre', '¿Con quién vives?', 'Grado', '1.1. Ingeniería',\n       '1.2 Matemáticas', '1.3 Educación', '1.4 Medicina',\n       '1.5 Diseño gráfico', '1.6 Química', '1.7 Enfermería',\n       '1.8 Desarrollo de software',\n       '2.1 Soy capaz de sacar buenas notas en esta asignatura',\n       '2.2 Si me va bien en esta asignatura, me ayudará en mi futura ocupación',\n       '2.3 A mis padres les gustaría que eligiera un futuro profesional relacionado a esta asignatura',\n       '2.4 Sé de alguien en mi familia que utiliza conocimientos relacionados a esta asignatura en su ocupación',\n       'Comentarios 1-2', 'Un algoritmo es:',\n       '¿Para qué sirven los algoritmos?', 'Un bucle es:',\n       '3.1 Siento que soy capaz de explicar lo que es el pensamiento computacional',\n       '3.2 Siento que puedo enumerar las sub-habilidades que componen el pensamiento computacional',\n       '3.3 Siento que soy capaz de dar ejemplos para explicar las sub-habilidades del pensamiento computacional',\n       '3.4 Siento que puedo explicar la forma en que las sub-habilidades del pensamiento computacional se correlacionan con la programación',\n       '3.5 Siento que puedo analizar un ejercicio y determinar qué sub-habilidades de pensamiento computacional busca desarrollar',\n       '3.6 Siento que puedo resolver problemas a través de programación',\n       '3.7 Siento que puedo implementar algoritmos',\n       '3.8 Siento que puedo crear un programa de computador',\n       '3.9 Siento que puedo automatizar tareas a través de la programación',\n       '3.10 Siento que puedo utilizar la computación para resolver problemas simples',\n       'Comentarios P3',\n       '¿Cuál de las siguientes opciones sí le permite al robot completar la misión de fotografiar cada tortuga?',\n       '¿Qué mensaje deseaba enviar la líder Wayuú?',\n       '¿Cuál de los siguientes códigos permite que el robot complete su misión sembrando café?',\n       '¿Cuál será la foto con más vistas?',\n       'Ayuda al robot verde a salir del laberinto',\n       'Óscar lleva 2 loncheras a la escuela todos los días ¿Cuál de las siguientes afirmaciones es falsa?',\n       '¿Cuál de las siguientes hamburguesas tiene los ingredientes A, E y F?',\n       '¿Qué botella debe cambiarse de color para que el resultado final sea una botella de color blanco?',\n       'Comentarios conocimiento',\n       '5.1 ¿Quién crees que ganará el concurso de matemáticas?',\n       '5.2 ¿Quién crees que es capitán del barco?',\n       '5.3 ¿Quién es la persona excluida de la construcción de la casa de madera?',\n       '5.4 ¿Quién crees que es el personaje que está sentado y esperando junto a la ventana?',\n       '5.5 ¿Quién es la persona que trabaja en educación?',\n       '5.6 ¿Quién crees que es la persona que prefiere estudiar ingeniería?',\n       'Comentarios género',\n       '4.1 Es alarmante que el ritmo de desaparición de especies en la Amazonia Colombiana sea cada vez mayor.',\n       '4.2 El aumento de la temperatura atmosférica se debe al uso creciente y continuado de combustibles fósiles (carbón, petróleo…).',\n       '4.3 La acumulación de basura procedente de las ciudades es un problema realmente grave.',\n       '4.4 Hay una disminución de la superficie forestal y de áreas naturales en el país.',\n       '4.5 El planeta está tan contaminado por productos químicos que ya supone un problema para la salud.',\n       '4.6 Conozco los riesgos que representa para la vida humana la desaparición de especies animales y vegetales.',\n       '4.7 Me preocupa lo que sucede con la tala de árboles.',\n       'Comentarios medioambiente', 'Tipo de discapacidad',\n       '¿Te reconoces como una persona con algún tipo de discapacidad?',\n       'Conoce GreenTIC', 'Instrumento'],\n      dtype='object')"
     },
     "execution_count": 3,
     "metadata": {},
     "output_type": "execute_result"
    }
   ],
   "source": [
    "est = pd.read_excel(ruta_git/'data/descargables/EstudiantesCFK.xlsx')\n",
    "\n",
    "print(est.shape)\n",
    "est.columns"
   ]
  },
  {
   "cell_type": "markdown",
   "source": [
    "##### Pasar respuestas a números"
   ],
   "metadata": {
    "collapsed": false,
    "pycharm": {
     "name": "#%% md\n"
    }
   }
  },
  {
   "cell_type": "code",
   "execution_count": 4,
   "metadata": {
    "collapsed": false,
    "jupyter": {
     "outputs_hidden": false
    },
    "pycharm": {
     "name": "#%%\n"
    }
   },
   "outputs": [],
   "source": [
    "respuestas_correctas = {\n",
    "    \"Un algoritmo es:\":\"Una secuencia lógica de pasos para realizar una tarea\",\n",
    "    \"¿Para qué sirven los algoritmos?\":\"Para planificar la solución a un problema\",\n",
    "    \"Un bucle es:\":\"Un conjunto de instrucciones que se ejecuta mientras se cumpla una condición\",\n",
    "    \"¿Cuál de las siguientes opciones sí le permite al robot completar la misión de fotografiar cada tortuga?\":\"a.\",\n",
    "    \"¿Qué mensaje deseaba enviar la líder Wayuú?\":\"c. Nublado\",\n",
    "    \"¿Cuál de los siguientes códigos permite que el robot complete su misión sembrando café?\":\"a.\",\n",
    "    \"¿Cuál será la foto con más vistas?\":\"c) Julio\",\n",
    "    \"Ayuda al robot verde a salir del laberinto\":\"b.\",\n",
    "    \"Óscar lleva 2 loncheras a la escuela todos los días ¿Cuál de las siguientes afirmaciones es falsa?\":\"c) Si Óscar empaca Deditos para merendar, puede hacer Arroz de pollo para almorzar\",\n",
    "    \"¿Cuál de las siguientes hamburguesas tiene los ingredientes A, E y F?\":\"a.\",\n",
    "    \"¿Qué botella debe cambiarse de color para que el resultado final sea una botella de color blanco?\":\"a) La botella B debe ser verde\"}\n",
    "\n",
    "de_acuerdo = {\"Totalmente en desacuerdo\":1,\"En desacuerdo\":2, \"Neutro\":3,\n",
    "\"De acuerdo\":4,\"Totalmente de acuerdo\":5}\n",
    "\n",
    "interesa_carreras = {\"No la conozco\":0,\"La evitaría\":1,\"Me interesa poco\":2,\"Está entre mis preferidas\":3}\n",
    "\n",
    "estereotipo_h = {'a) Seguramente un hombre':2, 'b) Quizás un hombre':1,\n",
    "                 'c) Creo que puede ser un hombre o una mujer':0,\n",
    "                 'd) Quizás una mujer': -1, 'e) Seguramente una mujer':-2}\n",
    "\n",
    "estereotipo_m = {'a) Seguramente un hombre':-2, 'b) Quizás un hombre':-1,\n",
    "                 'c) Creo que puede ser un hombre o una mujer':0,\n",
    "                 'd) Quizás una mujer': 1, 'e) Seguramente una mujer':2}\n",
    "#The scores range from -2= ‘counter- stereotypic answer’ to 2= ‘stereotype congruent answer’ for all items.\n",
    "genero_estereotipos = {'5.1 ¿Quién crees que ganará el concurso de matemáticas?':estereotipo_h,\n",
    "                       '5.2 ¿Quién crees que es capitán del barco?':estereotipo_h,\n",
    "                       '5.3 ¿Quién es la persona excluida de la construcción de la casa de madera?':estereotipo_m,\n",
    "                       '5.4 ¿Quién crees que es el personaje que está sentado y esperando junto a la ventana?':estereotipo_m,\n",
    "                       '5.5 ¿Quién es la persona que trabaja en educación?':estereotipo_m,\n",
    "                       '5.6 ¿Quién crees que es la persona que prefiere estudiar ingeniería?':estereotipo_h}\n"
   ]
  },
  {
   "cell_type": "code",
   "execution_count": 5,
   "metadata": {
    "collapsed": false,
    "jupyter": {
     "outputs_hidden": false
    },
    "pycharm": {
     "name": "#%%\n"
    }
   },
   "outputs": [
    {
     "data": {
      "text/plain": "['5.1 ¿Quién crees que ganará el concurso de matemáticas?',\n '5.2 ¿Quién crees que es capitán del barco?',\n '5.3 ¿Quién es la persona excluida de la construcción de la casa de madera?',\n '5.4 ¿Quién crees que es el personaje que está sentado y esperando junto a la ventana?',\n '5.5 ¿Quién es la persona que trabaja en educación?',\n '5.6 ¿Quién crees que es la persona que prefiere estudiar ingeniería?']"
     },
     "execution_count": 5,
     "metadata": {},
     "output_type": "execute_result"
    }
   ],
   "source": [
    "col_index = ['Edad', 'Sexo', 'Código IE', '¿Te reconoces como una persona con algún tipo de discapacidad?']\n",
    "col_caract = ['N registro','Edad', 'Sexo', 'Sector vivienda', 'Internet', 'Uso del dispositivo móvil',\n",
    "              'Nivel escolaridad madre', 'Nivel escolaridad padre', 'Ocupación madre',\n",
    "              'Ocupación padre', '¿Con quién vives?', 'Grado', 'Código IE',\n",
    "              'Grupo', 'Conoce GreenTIC', 'Número de lista', '¿Te reconoces como una persona con algún tipo de discapacidad?']\n",
    "#col_conocePC = est.filter(regex=r'^3.*', axis=1).columns.tolist()[0]\n",
    "#col_PC = est.filter(regex=r'^3.*', axis=1).columns.tolist()[1:5]\n",
    "col_autoeficacia = est.filter(regex=r'^3.*', axis=1).columns.tolist()\n",
    "col_carreras = est.filter(regex=r'^1.', axis=1).columns.tolist()\n",
    "col_interes = est.filter(regex=r'^2.1|2.2', axis=1).columns.tolist()\n",
    "col_conocimiento = list(respuestas_correctas.keys())\n",
    "col_ambiental = est.filter(regex=r'^4.', axis=1).columns.tolist()\n",
    "col_genero = est.filter(regex=r'^5.', axis=1).columns.tolist()\n",
    "col_genero"
   ]
  },
  {
   "cell_type": "code",
   "execution_count": 6,
   "outputs": [
    {
     "data": {
      "text/plain": "       N registro  Edad       Sexo Sector vivienda Internet  \\\n0               1  14.0  Masculino          Urbana       Sí   \n1               2  16.0  Masculino          Urbana       Sí   \n2               3  14.0   Femenino          Urbana       Sí   \n3               4  15.0  Masculino          Urbana       No   \n4               5  14.0   Femenino          Urbana       Sí   \n...           ...   ...        ...             ...      ...   \n20745       21389  11.0   Femenino          Urbana       Sí   \n20746       21390  12.0   Femenino          Urbana       Sí   \n20747       21391  13.0  Masculino          Urbana       Sí   \n20748       21392  13.0  Masculino          Urbana       Sí   \n20749       21393  12.0   Femenino           Rural       Sí   \n\n                              Uso del dispositivo móvil  \\\n0                          Uso propio (solo lo usas tú)   \n1                          Uso propio (solo lo usas tú)   \n2                     Uso compartido con otras personas   \n3      No tengo acceso a ningún dispositivo electrónico   \n4                     Uso compartido con otras personas   \n...                                                 ...   \n20745                      Uso propio (solo lo usas tú)   \n20746                      Uso propio (solo lo usas tú)   \n20747                      Uso propio (solo lo usas tú)   \n20748                 Uso compartido con otras personas   \n20749                      Uso propio (solo lo usas tú)   \n\n      Nivel escolaridad madre Nivel escolaridad padre Ocupación madre  \\\n0         Técnico o tecnólogo    Titulo universitario         Trabaja   \n1        Titulo universitario     Técnico o tecnólogo         Trabaja   \n2                  Secundaría              Secundaría         Trabaja   \n3                       No sé                   No sé         Trabaja   \n4        Titulo universitario              Secundaría         Trabaja   \n...                       ...                     ...             ...   \n20745                   No sé                   No sé         Trabaja   \n20746              Secundaría                   No sé         Trabaja   \n20747              Secundaría              Secundaría         Trabaja   \n20748              Secundaría              Secundaría  Cuida el hogar   \n20749              Secundaría              Secundaría         Trabaja   \n\n      Ocupación padre  ... Un algoritmo es:  Un bucle es:  \\\n0             Trabaja  ...                0             0   \n1             Trabaja  ...                0             1   \n2             Trabaja  ...                1             0   \n3             Trabaja  ...                1             0   \n4             Trabaja  ...                1             0   \n...               ...  ...              ...           ...   \n20745         Trabaja  ...                0             0   \n20746         Trabaja  ...                0             0   \n20747         Trabaja  ...                0             0   \n20748         Trabaja  ...                1             0   \n20749         Trabaja  ...                0             0   \n\n       ¿Cuál de las siguientes hamburguesas tiene los ingredientes A, E y F?  \\\n0                                                      1                       \n1                                                      0                       \n2                                                      1                       \n3                                                      0                       \n4                                                      1                       \n...                                                  ...                       \n20745                                                  0                       \n20746                                                  1                       \n20747                                                  1                       \n20748                                                  1                       \n20749                                                  0                       \n\n       ¿Cuál de las siguientes opciones sí le permite al robot completar la misión de fotografiar cada tortuga?  \\\n0                                                      1                                                          \n1                                                      0                                                          \n2                                                      1                                                          \n3                                                      0                                                          \n4                                                      0                                                          \n...                                                  ...                                                          \n20745                                                  0                                                          \n20746                                                  0                                                          \n20747                                                  1                                                          \n20748                                                  1                                                          \n20749                                                  1                                                          \n\n      ¿Cuál de los siguientes códigos permite que el robot complete su misión sembrando café?  \\\n0                                                      1                                        \n1                                                      1                                        \n2                                                      0                                        \n3                                                      0                                        \n4                                                      0                                        \n...                                                  ...                                        \n20745                                                  0                                        \n20746                                                  0                                        \n20747                                                  0                                        \n20748                                                  0                                        \n20749                                                  0                                        \n\n       ¿Cuál será la foto con más vistas? ¿Para qué sirven los algoritmos?  \\\n0                                       0                                0   \n1                                       0                                0   \n2                                       0                                1   \n3                                       0                                0   \n4                                       0                                1   \n...                                   ...                              ...   \n20745                                   0                                0   \n20746                                   0                                0   \n20747                                   0                                0   \n20748                                   0                                1   \n20749                                   0                                0   \n\n       ¿Qué botella debe cambiarse de color para que el resultado final sea una botella de color blanco?  \\\n0                                                      1                                                   \n1                                                      0                                                   \n2                                                      0                                                   \n3                                                      0                                                   \n4                                                      0                                                   \n...                                                  ...                                                   \n20745                                                  0                                                   \n20746                                                  0                                                   \n20747                                                  0                                                   \n20748                                                  1                                                   \n20749                                                  0                                                   \n\n       ¿Qué mensaje deseaba enviar la líder Wayuú?  \\\n0                                                0   \n1                                                0   \n2                                                0   \n3                                                1   \n4                                                1   \n...                                            ...   \n20745                                            0   \n20746                                            0   \n20747                                            1   \n20748                                            1   \n20749                                            0   \n\n       Óscar lleva 2 loncheras a la escuela todos los días ¿Cuál de las siguientes afirmaciones es falsa?  \n0                                                      1                                                   \n1                                                      0                                                   \n2                                                      0                                                   \n3                                                      0                                                   \n4                                                      0                                                   \n...                                                  ...                                                   \n20745                                                  0                                                   \n20746                                                  0                                                   \n20747                                                  0                                                   \n20748                                                  1                                                   \n20749                                                  0                                                   \n\n[20750 rows x 28 columns]",
      "text/html": "<div>\n<style scoped>\n    .dataframe tbody tr th:only-of-type {\n        vertical-align: middle;\n    }\n\n    .dataframe tbody tr th {\n        vertical-align: top;\n    }\n\n    .dataframe thead th {\n        text-align: right;\n    }\n</style>\n<table border=\"1\" class=\"dataframe\">\n  <thead>\n    <tr style=\"text-align: right;\">\n      <th></th>\n      <th>N registro</th>\n      <th>Edad</th>\n      <th>Sexo</th>\n      <th>Sector vivienda</th>\n      <th>Internet</th>\n      <th>Uso del dispositivo móvil</th>\n      <th>Nivel escolaridad madre</th>\n      <th>Nivel escolaridad padre</th>\n      <th>Ocupación madre</th>\n      <th>Ocupación padre</th>\n      <th>...</th>\n      <th>Un algoritmo es:</th>\n      <th>Un bucle es:</th>\n      <th>¿Cuál de las siguientes hamburguesas tiene los ingredientes A, E y F?</th>\n      <th>¿Cuál de las siguientes opciones sí le permite al robot completar la misión de fotografiar cada tortuga?</th>\n      <th>¿Cuál de los siguientes códigos permite que el robot complete su misión sembrando café?</th>\n      <th>¿Cuál será la foto con más vistas?</th>\n      <th>¿Para qué sirven los algoritmos?</th>\n      <th>¿Qué botella debe cambiarse de color para que el resultado final sea una botella de color blanco?</th>\n      <th>¿Qué mensaje deseaba enviar la líder Wayuú?</th>\n      <th>Óscar lleva 2 loncheras a la escuela todos los días ¿Cuál de las siguientes afirmaciones es falsa?</th>\n    </tr>\n  </thead>\n  <tbody>\n    <tr>\n      <th>0</th>\n      <td>1</td>\n      <td>14.0</td>\n      <td>Masculino</td>\n      <td>Urbana</td>\n      <td>Sí</td>\n      <td>Uso propio (solo lo usas tú)</td>\n      <td>Técnico o tecnólogo</td>\n      <td>Titulo universitario</td>\n      <td>Trabaja</td>\n      <td>Trabaja</td>\n      <td>...</td>\n      <td>0</td>\n      <td>0</td>\n      <td>1</td>\n      <td>1</td>\n      <td>1</td>\n      <td>0</td>\n      <td>0</td>\n      <td>1</td>\n      <td>0</td>\n      <td>1</td>\n    </tr>\n    <tr>\n      <th>1</th>\n      <td>2</td>\n      <td>16.0</td>\n      <td>Masculino</td>\n      <td>Urbana</td>\n      <td>Sí</td>\n      <td>Uso propio (solo lo usas tú)</td>\n      <td>Titulo universitario</td>\n      <td>Técnico o tecnólogo</td>\n      <td>Trabaja</td>\n      <td>Trabaja</td>\n      <td>...</td>\n      <td>0</td>\n      <td>1</td>\n      <td>0</td>\n      <td>0</td>\n      <td>1</td>\n      <td>0</td>\n      <td>0</td>\n      <td>0</td>\n      <td>0</td>\n      <td>0</td>\n    </tr>\n    <tr>\n      <th>2</th>\n      <td>3</td>\n      <td>14.0</td>\n      <td>Femenino</td>\n      <td>Urbana</td>\n      <td>Sí</td>\n      <td>Uso compartido con otras personas</td>\n      <td>Secundaría</td>\n      <td>Secundaría</td>\n      <td>Trabaja</td>\n      <td>Trabaja</td>\n      <td>...</td>\n      <td>1</td>\n      <td>0</td>\n      <td>1</td>\n      <td>1</td>\n      <td>0</td>\n      <td>0</td>\n      <td>1</td>\n      <td>0</td>\n      <td>0</td>\n      <td>0</td>\n    </tr>\n    <tr>\n      <th>3</th>\n      <td>4</td>\n      <td>15.0</td>\n      <td>Masculino</td>\n      <td>Urbana</td>\n      <td>No</td>\n      <td>No tengo acceso a ningún dispositivo electrónico</td>\n      <td>No sé</td>\n      <td>No sé</td>\n      <td>Trabaja</td>\n      <td>Trabaja</td>\n      <td>...</td>\n      <td>1</td>\n      <td>0</td>\n      <td>0</td>\n      <td>0</td>\n      <td>0</td>\n      <td>0</td>\n      <td>0</td>\n      <td>0</td>\n      <td>1</td>\n      <td>0</td>\n    </tr>\n    <tr>\n      <th>4</th>\n      <td>5</td>\n      <td>14.0</td>\n      <td>Femenino</td>\n      <td>Urbana</td>\n      <td>Sí</td>\n      <td>Uso compartido con otras personas</td>\n      <td>Titulo universitario</td>\n      <td>Secundaría</td>\n      <td>Trabaja</td>\n      <td>Trabaja</td>\n      <td>...</td>\n      <td>1</td>\n      <td>0</td>\n      <td>1</td>\n      <td>0</td>\n      <td>0</td>\n      <td>0</td>\n      <td>1</td>\n      <td>0</td>\n      <td>1</td>\n      <td>0</td>\n    </tr>\n    <tr>\n      <th>...</th>\n      <td>...</td>\n      <td>...</td>\n      <td>...</td>\n      <td>...</td>\n      <td>...</td>\n      <td>...</td>\n      <td>...</td>\n      <td>...</td>\n      <td>...</td>\n      <td>...</td>\n      <td>...</td>\n      <td>...</td>\n      <td>...</td>\n      <td>...</td>\n      <td>...</td>\n      <td>...</td>\n      <td>...</td>\n      <td>...</td>\n      <td>...</td>\n      <td>...</td>\n      <td>...</td>\n    </tr>\n    <tr>\n      <th>20745</th>\n      <td>21389</td>\n      <td>11.0</td>\n      <td>Femenino</td>\n      <td>Urbana</td>\n      <td>Sí</td>\n      <td>Uso propio (solo lo usas tú)</td>\n      <td>No sé</td>\n      <td>No sé</td>\n      <td>Trabaja</td>\n      <td>Trabaja</td>\n      <td>...</td>\n      <td>0</td>\n      <td>0</td>\n      <td>0</td>\n      <td>0</td>\n      <td>0</td>\n      <td>0</td>\n      <td>0</td>\n      <td>0</td>\n      <td>0</td>\n      <td>0</td>\n    </tr>\n    <tr>\n      <th>20746</th>\n      <td>21390</td>\n      <td>12.0</td>\n      <td>Femenino</td>\n      <td>Urbana</td>\n      <td>Sí</td>\n      <td>Uso propio (solo lo usas tú)</td>\n      <td>Secundaría</td>\n      <td>No sé</td>\n      <td>Trabaja</td>\n      <td>Trabaja</td>\n      <td>...</td>\n      <td>0</td>\n      <td>0</td>\n      <td>1</td>\n      <td>0</td>\n      <td>0</td>\n      <td>0</td>\n      <td>0</td>\n      <td>0</td>\n      <td>0</td>\n      <td>0</td>\n    </tr>\n    <tr>\n      <th>20747</th>\n      <td>21391</td>\n      <td>13.0</td>\n      <td>Masculino</td>\n      <td>Urbana</td>\n      <td>Sí</td>\n      <td>Uso propio (solo lo usas tú)</td>\n      <td>Secundaría</td>\n      <td>Secundaría</td>\n      <td>Trabaja</td>\n      <td>Trabaja</td>\n      <td>...</td>\n      <td>0</td>\n      <td>0</td>\n      <td>1</td>\n      <td>1</td>\n      <td>0</td>\n      <td>0</td>\n      <td>0</td>\n      <td>0</td>\n      <td>1</td>\n      <td>0</td>\n    </tr>\n    <tr>\n      <th>20748</th>\n      <td>21392</td>\n      <td>13.0</td>\n      <td>Masculino</td>\n      <td>Urbana</td>\n      <td>Sí</td>\n      <td>Uso compartido con otras personas</td>\n      <td>Secundaría</td>\n      <td>Secundaría</td>\n      <td>Cuida el hogar</td>\n      <td>Trabaja</td>\n      <td>...</td>\n      <td>1</td>\n      <td>0</td>\n      <td>1</td>\n      <td>1</td>\n      <td>0</td>\n      <td>0</td>\n      <td>1</td>\n      <td>1</td>\n      <td>1</td>\n      <td>1</td>\n    </tr>\n    <tr>\n      <th>20749</th>\n      <td>21393</td>\n      <td>12.0</td>\n      <td>Femenino</td>\n      <td>Rural</td>\n      <td>Sí</td>\n      <td>Uso propio (solo lo usas tú)</td>\n      <td>Secundaría</td>\n      <td>Secundaría</td>\n      <td>Trabaja</td>\n      <td>Trabaja</td>\n      <td>...</td>\n      <td>0</td>\n      <td>0</td>\n      <td>0</td>\n      <td>1</td>\n      <td>0</td>\n      <td>0</td>\n      <td>0</td>\n      <td>0</td>\n      <td>0</td>\n      <td>0</td>\n    </tr>\n  </tbody>\n</table>\n<p>20750 rows × 28 columns</p>\n</div>"
     },
     "execution_count": 6,
     "metadata": {},
     "output_type": "execute_result"
    }
   ],
   "source": [
    "df_conocimientos = est[['N registro']+col_conocimiento].melt(id_vars='N registro', value_name='Respuesta estudiante', var_name='Pregunta')\n",
    "df_conocimientos['Respuesta correcta'] = df_conocimientos['Pregunta'].replace(respuestas_correctas)\n",
    "df_conocimientos['Puntaje conocimiento'] = 1*(df_conocimientos['Respuesta estudiante'] == df_conocimientos['Respuesta correcta'])\n",
    "df_estudiantes = df_conocimientos.pivot_table(index='N registro', columns='Pregunta', values='Puntaje conocimiento').reset_index()\n",
    "\n",
    "\n",
    "\n",
    "df_estudiantes= pd.merge(est[col_caract], df_estudiantes, on='N registro')\n",
    "df_estudiantes"
   ],
   "metadata": {
    "collapsed": false,
    "pycharm": {
     "name": "#%%\n"
    }
   }
  },
  {
   "cell_type": "markdown",
   "metadata": {},
   "source": []
  },
  {
   "cell_type": "code",
   "execution_count": 7,
   "outputs": [
    {
     "data": {
      "text/plain": "       N registro  Edad       Sexo Sector vivienda Internet  \\\n0               1  14.0  Masculino          Urbana       Sí   \n1               2  16.0  Masculino          Urbana       Sí   \n2               3  14.0   Femenino          Urbana       Sí   \n3               4  15.0  Masculino          Urbana       No   \n4               5  14.0   Femenino          Urbana       Sí   \n...           ...   ...        ...             ...      ...   \n20745       21389  11.0   Femenino          Urbana       Sí   \n20746       21390  12.0   Femenino          Urbana       Sí   \n20747       21391  13.0  Masculino          Urbana       Sí   \n20748       21392  13.0  Masculino          Urbana       Sí   \n20749       21393  12.0   Femenino           Rural       Sí   \n\n                              Uso del dispositivo móvil  \\\n0                          Uso propio (solo lo usas tú)   \n1                          Uso propio (solo lo usas tú)   \n2                     Uso compartido con otras personas   \n3      No tengo acceso a ningún dispositivo electrónico   \n4                     Uso compartido con otras personas   \n...                                                 ...   \n20745                      Uso propio (solo lo usas tú)   \n20746                      Uso propio (solo lo usas tú)   \n20747                      Uso propio (solo lo usas tú)   \n20748                 Uso compartido con otras personas   \n20749                      Uso propio (solo lo usas tú)   \n\n      Nivel escolaridad madre Nivel escolaridad padre Ocupación madre  \\\n0         Técnico o tecnólogo    Titulo universitario         Trabaja   \n1        Titulo universitario     Técnico o tecnólogo         Trabaja   \n2                  Secundaría              Secundaría         Trabaja   \n3                       No sé                   No sé         Trabaja   \n4        Titulo universitario              Secundaría         Trabaja   \n...                       ...                     ...             ...   \n20745                   No sé                   No sé         Trabaja   \n20746              Secundaría                   No sé         Trabaja   \n20747              Secundaría              Secundaría         Trabaja   \n20748              Secundaría              Secundaría  Cuida el hogar   \n20749              Secundaría              Secundaría         Trabaja   \n\n      Ocupación padre  ...  \\\n0             Trabaja  ...   \n1             Trabaja  ...   \n2             Trabaja  ...   \n3             Trabaja  ...   \n4             Trabaja  ...   \n...               ...  ...   \n20745         Trabaja  ...   \n20746         Trabaja  ...   \n20747         Trabaja  ...   \n20748         Trabaja  ...   \n20749         Trabaja  ...   \n\n      3.1 Siento que soy capaz de explicar lo que es el pensamiento computacional  \\\n0                                                      3                            \n1                                                      5                            \n2                                                      1                            \n3                                                      2                            \n4                                                      3                            \n...                                                  ...                            \n20745                                                  5                            \n20746                                                  5                            \n20747                                                  1                            \n20748                                                  4                            \n20749                                                  2                            \n\n       3.2 Siento que puedo enumerar las sub-habilidades que componen el pensamiento computacional  \\\n0                                                      1                                             \n1                                                      4                                             \n2                                                      1                                             \n3                                                      3                                             \n4                                                      3                                             \n...                                                  ...                                             \n20745                                                  4                                             \n20746                                                  3                                             \n20747                                                  1                                             \n20748                                                  4                                             \n20749                                                  1                                             \n\n       3.3 Siento que soy capaz de dar ejemplos para explicar las sub-habilidades del pensamiento computacional  \\\n0                                                      2                                                          \n1                                                      5                                                          \n2                                                      2                                                          \n3                                                      2                                                          \n4                                                      3                                                          \n...                                                  ...                                                          \n20745                                                  1                                                          \n20746                                                  4                                                          \n20747                                                  1                                                          \n20748                                                  4                                                          \n20749                                                  1                                                          \n\n       3.4 Siento que puedo explicar la forma en que las sub-habilidades del pensamiento computacional se correlacionan con la programación  \\\n0                                                      2                                                                                      \n1                                                      5                                                                                      \n2                                                      1                                                                                      \n3                                                      3                                                                                      \n4                                                      3                                                                                      \n...                                                  ...                                                                                      \n20745                                                  1                                                                                      \n20746                                                  3                                                                                      \n20747                                                  1                                                                                      \n20748                                                  4                                                                                      \n20749                                                  3                                                                                      \n\n      3.5 Siento que puedo analizar un ejercicio y determinar qué sub-habilidades de pensamiento computacional busca desarrollar  \\\n0                                                      3                                                                           \n1                                                      5                                                                           \n2                                                      1                                                                           \n3                                                      4                                                                           \n4                                                      3                                                                           \n...                                                  ...                                                                           \n20745                                                  2                                                                           \n20746                                                  5                                                                           \n20747                                                  1                                                                           \n20748                                                  5                                                                           \n20749                                                  2                                                                           \n\n       3.6 Siento que puedo resolver problemas a través de programación  \\\n0                                                      3                  \n1                                                      5                  \n2                                                      1                  \n3                                                      4                  \n4                                                      3                  \n...                                                  ...                  \n20745                                                  4                  \n20746                                                  4                  \n20747                                                  1                  \n20748                                                  5                  \n20749                                                  2                  \n\n      3.7 Siento que puedo implementar algoritmos  \\\n0                                               2   \n1                                               5   \n2                                               3   \n3                                               4   \n4                                               4   \n...                                           ...   \n20745                                           2   \n20746                                           2   \n20747                                           1   \n20748                                           4   \n20749                                           1   \n\n       3.8 Siento que puedo crear un programa de computador  \\\n0                                                      1      \n1                                                      5      \n2                                                      2      \n3                                                      1      \n4                                                      3      \n...                                                  ...      \n20745                                                  5      \n20746                                                  4      \n20747                                                  2      \n20748                                                  5      \n20749                                                  1      \n\n       3.9 Siento que puedo automatizar tareas a través de la programación  \\\n0                                                      2                     \n1                                                      5                     \n2                                                      2                     \n3                                                      3                     \n4                                                      3                     \n...                                                  ...                     \n20745                                                  1                     \n20746                                                  5                     \n20747                                                  2                     \n20748                                                  4                     \n20749                                                  5                     \n\n       3.10 Siento que puedo utilizar la computación para resolver problemas simples  \n0                                                      3                              \n1                                                      5                              \n2                                                      2                              \n3                                                      5                              \n4                                                      3                              \n...                                                  ...                              \n20745                                                  4                              \n20746                                                  5                              \n20747                                                  3                              \n20748                                                  5                              \n20749                                                  5                              \n\n[20750 rows x 45 columns]",
      "text/html": "<div>\n<style scoped>\n    .dataframe tbody tr th:only-of-type {\n        vertical-align: middle;\n    }\n\n    .dataframe tbody tr th {\n        vertical-align: top;\n    }\n\n    .dataframe thead th {\n        text-align: right;\n    }\n</style>\n<table border=\"1\" class=\"dataframe\">\n  <thead>\n    <tr style=\"text-align: right;\">\n      <th></th>\n      <th>N registro</th>\n      <th>Edad</th>\n      <th>Sexo</th>\n      <th>Sector vivienda</th>\n      <th>Internet</th>\n      <th>Uso del dispositivo móvil</th>\n      <th>Nivel escolaridad madre</th>\n      <th>Nivel escolaridad padre</th>\n      <th>Ocupación madre</th>\n      <th>Ocupación padre</th>\n      <th>...</th>\n      <th>3.1 Siento que soy capaz de explicar lo que es el pensamiento computacional</th>\n      <th>3.2 Siento que puedo enumerar las sub-habilidades que componen el pensamiento computacional</th>\n      <th>3.3 Siento que soy capaz de dar ejemplos para explicar las sub-habilidades del pensamiento computacional</th>\n      <th>3.4 Siento que puedo explicar la forma en que las sub-habilidades del pensamiento computacional se correlacionan con la programación</th>\n      <th>3.5 Siento que puedo analizar un ejercicio y determinar qué sub-habilidades de pensamiento computacional busca desarrollar</th>\n      <th>3.6 Siento que puedo resolver problemas a través de programación</th>\n      <th>3.7 Siento que puedo implementar algoritmos</th>\n      <th>3.8 Siento que puedo crear un programa de computador</th>\n      <th>3.9 Siento que puedo automatizar tareas a través de la programación</th>\n      <th>3.10 Siento que puedo utilizar la computación para resolver problemas simples</th>\n    </tr>\n  </thead>\n  <tbody>\n    <tr>\n      <th>0</th>\n      <td>1</td>\n      <td>14.0</td>\n      <td>Masculino</td>\n      <td>Urbana</td>\n      <td>Sí</td>\n      <td>Uso propio (solo lo usas tú)</td>\n      <td>Técnico o tecnólogo</td>\n      <td>Titulo universitario</td>\n      <td>Trabaja</td>\n      <td>Trabaja</td>\n      <td>...</td>\n      <td>3</td>\n      <td>1</td>\n      <td>2</td>\n      <td>2</td>\n      <td>3</td>\n      <td>3</td>\n      <td>2</td>\n      <td>1</td>\n      <td>2</td>\n      <td>3</td>\n    </tr>\n    <tr>\n      <th>1</th>\n      <td>2</td>\n      <td>16.0</td>\n      <td>Masculino</td>\n      <td>Urbana</td>\n      <td>Sí</td>\n      <td>Uso propio (solo lo usas tú)</td>\n      <td>Titulo universitario</td>\n      <td>Técnico o tecnólogo</td>\n      <td>Trabaja</td>\n      <td>Trabaja</td>\n      <td>...</td>\n      <td>5</td>\n      <td>4</td>\n      <td>5</td>\n      <td>5</td>\n      <td>5</td>\n      <td>5</td>\n      <td>5</td>\n      <td>5</td>\n      <td>5</td>\n      <td>5</td>\n    </tr>\n    <tr>\n      <th>2</th>\n      <td>3</td>\n      <td>14.0</td>\n      <td>Femenino</td>\n      <td>Urbana</td>\n      <td>Sí</td>\n      <td>Uso compartido con otras personas</td>\n      <td>Secundaría</td>\n      <td>Secundaría</td>\n      <td>Trabaja</td>\n      <td>Trabaja</td>\n      <td>...</td>\n      <td>1</td>\n      <td>1</td>\n      <td>2</td>\n      <td>1</td>\n      <td>1</td>\n      <td>1</td>\n      <td>3</td>\n      <td>2</td>\n      <td>2</td>\n      <td>2</td>\n    </tr>\n    <tr>\n      <th>3</th>\n      <td>4</td>\n      <td>15.0</td>\n      <td>Masculino</td>\n      <td>Urbana</td>\n      <td>No</td>\n      <td>No tengo acceso a ningún dispositivo electrónico</td>\n      <td>No sé</td>\n      <td>No sé</td>\n      <td>Trabaja</td>\n      <td>Trabaja</td>\n      <td>...</td>\n      <td>2</td>\n      <td>3</td>\n      <td>2</td>\n      <td>3</td>\n      <td>4</td>\n      <td>4</td>\n      <td>4</td>\n      <td>1</td>\n      <td>3</td>\n      <td>5</td>\n    </tr>\n    <tr>\n      <th>4</th>\n      <td>5</td>\n      <td>14.0</td>\n      <td>Femenino</td>\n      <td>Urbana</td>\n      <td>Sí</td>\n      <td>Uso compartido con otras personas</td>\n      <td>Titulo universitario</td>\n      <td>Secundaría</td>\n      <td>Trabaja</td>\n      <td>Trabaja</td>\n      <td>...</td>\n      <td>3</td>\n      <td>3</td>\n      <td>3</td>\n      <td>3</td>\n      <td>3</td>\n      <td>3</td>\n      <td>4</td>\n      <td>3</td>\n      <td>3</td>\n      <td>3</td>\n    </tr>\n    <tr>\n      <th>...</th>\n      <td>...</td>\n      <td>...</td>\n      <td>...</td>\n      <td>...</td>\n      <td>...</td>\n      <td>...</td>\n      <td>...</td>\n      <td>...</td>\n      <td>...</td>\n      <td>...</td>\n      <td>...</td>\n      <td>...</td>\n      <td>...</td>\n      <td>...</td>\n      <td>...</td>\n      <td>...</td>\n      <td>...</td>\n      <td>...</td>\n      <td>...</td>\n      <td>...</td>\n      <td>...</td>\n    </tr>\n    <tr>\n      <th>20745</th>\n      <td>21389</td>\n      <td>11.0</td>\n      <td>Femenino</td>\n      <td>Urbana</td>\n      <td>Sí</td>\n      <td>Uso propio (solo lo usas tú)</td>\n      <td>No sé</td>\n      <td>No sé</td>\n      <td>Trabaja</td>\n      <td>Trabaja</td>\n      <td>...</td>\n      <td>5</td>\n      <td>4</td>\n      <td>1</td>\n      <td>1</td>\n      <td>2</td>\n      <td>4</td>\n      <td>2</td>\n      <td>5</td>\n      <td>1</td>\n      <td>4</td>\n    </tr>\n    <tr>\n      <th>20746</th>\n      <td>21390</td>\n      <td>12.0</td>\n      <td>Femenino</td>\n      <td>Urbana</td>\n      <td>Sí</td>\n      <td>Uso propio (solo lo usas tú)</td>\n      <td>Secundaría</td>\n      <td>No sé</td>\n      <td>Trabaja</td>\n      <td>Trabaja</td>\n      <td>...</td>\n      <td>5</td>\n      <td>3</td>\n      <td>4</td>\n      <td>3</td>\n      <td>5</td>\n      <td>4</td>\n      <td>2</td>\n      <td>4</td>\n      <td>5</td>\n      <td>5</td>\n    </tr>\n    <tr>\n      <th>20747</th>\n      <td>21391</td>\n      <td>13.0</td>\n      <td>Masculino</td>\n      <td>Urbana</td>\n      <td>Sí</td>\n      <td>Uso propio (solo lo usas tú)</td>\n      <td>Secundaría</td>\n      <td>Secundaría</td>\n      <td>Trabaja</td>\n      <td>Trabaja</td>\n      <td>...</td>\n      <td>1</td>\n      <td>1</td>\n      <td>1</td>\n      <td>1</td>\n      <td>1</td>\n      <td>1</td>\n      <td>1</td>\n      <td>2</td>\n      <td>2</td>\n      <td>3</td>\n    </tr>\n    <tr>\n      <th>20748</th>\n      <td>21392</td>\n      <td>13.0</td>\n      <td>Masculino</td>\n      <td>Urbana</td>\n      <td>Sí</td>\n      <td>Uso compartido con otras personas</td>\n      <td>Secundaría</td>\n      <td>Secundaría</td>\n      <td>Cuida el hogar</td>\n      <td>Trabaja</td>\n      <td>...</td>\n      <td>4</td>\n      <td>4</td>\n      <td>4</td>\n      <td>4</td>\n      <td>5</td>\n      <td>5</td>\n      <td>4</td>\n      <td>5</td>\n      <td>4</td>\n      <td>5</td>\n    </tr>\n    <tr>\n      <th>20749</th>\n      <td>21393</td>\n      <td>12.0</td>\n      <td>Femenino</td>\n      <td>Rural</td>\n      <td>Sí</td>\n      <td>Uso propio (solo lo usas tú)</td>\n      <td>Secundaría</td>\n      <td>Secundaría</td>\n      <td>Trabaja</td>\n      <td>Trabaja</td>\n      <td>...</td>\n      <td>2</td>\n      <td>1</td>\n      <td>1</td>\n      <td>3</td>\n      <td>2</td>\n      <td>2</td>\n      <td>1</td>\n      <td>1</td>\n      <td>5</td>\n      <td>5</td>\n    </tr>\n  </tbody>\n</table>\n<p>20750 rows × 45 columns</p>\n</div>"
     },
     "execution_count": 7,
     "metadata": {},
     "output_type": "execute_result"
    }
   ],
   "source": [
    "# carreras_df = est[['N registro'] + col_carreras].replace(interesa_carreras)\n",
    "# df_estudiantes = pd.merge(df_estudiantes, carreras_df, on='N registro')\n",
    "#\n",
    "# genero_df = est[['N registro']+col_genero].replace(genero_estereotipos)\n",
    "# df_estudiantes = pd.merge(df_estudiantes, genero_df, on='N registro')\n",
    "\n",
    "df_ambiente = est[['N registro']+col_ambiental].replace(de_acuerdo)\n",
    "\n",
    "df_estudiantes = pd.merge(df_estudiantes, df_ambiente, on='N registro')\n",
    "\n",
    "df_estudiantes = pd.merge(df_estudiantes, est[['N registro']+col_autoeficacia].astype(int), on='N registro')\n",
    "\n",
    "df_estudiantes"
   ],
   "metadata": {
    "collapsed": false,
    "pycharm": {
     "name": "#%%\n"
    }
   }
  },
  {
   "cell_type": "markdown",
   "source": [
    "#### Calcular escalas"
   ],
   "metadata": {
    "collapsed": false,
    "pycharm": {
     "name": "#%% md\n"
    }
   }
  },
  {
   "cell_type": "code",
   "execution_count": 8,
   "outputs": [],
   "source": [
    "escalas_dict = {'medioambiente':\n",
    "                    {'cols':list(est.filter(regex='^4.*').columns),\n",
    "                     'cargas':[0.620,0.648,0.732,0.638,0.705,0.707,0.670]},\n",
    "                'autoeficaciaPC':\n",
    "                    {'cols':list(est.filter(regex='^3.1 |3.[2-5]|^3.7').columns),\n",
    "                'cargas':[0.724,0.822,0.782,0.745,0.574,0.390]},\n",
    "                'autoeficaciaProg':{\n",
    "                    'cols':list(est.filter(regex='^3.6 |3.[8-9]|3.10').columns),\n",
    "                    'cargas':[0.637,0.490,0.755,0.753]\n",
    "                }}"
   ],
   "metadata": {
    "collapsed": false,
    "pycharm": {
     "name": "#%%\n"
    }
   }
  },
  {
   "cell_type": "code",
   "execution_count": 9,
   "outputs": [],
   "source": [
    "for k in list(escalas_dict.keys()):\n",
    "    df_estudiantes[k] = 100*df_estudiantes[escalas_dict[k]['cols']].add(-1).multiply(escalas_dict[k]['cargas']).sum(axis=1)/(4*sum(escalas_dict[k]['cargas']))"
   ],
   "metadata": {
    "collapsed": false,
    "pycharm": {
     "name": "#%%\n"
    }
   }
  },
  {
   "cell_type": "code",
   "execution_count": 10,
   "outputs": [],
   "source": [
    "resultados = df_estudiantes[col_conocimiento].sum(axis=1)\n",
    "media = resultados.mean()\n",
    "desv = resultados.std()\n",
    "\n",
    "df_estudiantes['conocimiento'] = 50+(10*(resultados - media)/desv)\n",
    "\n"
   ],
   "metadata": {
    "collapsed": false,
    "pycharm": {
     "name": "#%%\n"
    }
   }
  },
  {
   "cell_type": "code",
   "execution_count": 11,
   "outputs": [
    {
     "data": {
      "text/plain": "       N registro  Edad       Sexo Sector vivienda Internet  \\\n0               1  14.0  Masculino          Urbana       Sí   \n1               2  16.0  Masculino          Urbana       Sí   \n2               3  14.0   Femenino          Urbana       Sí   \n3               4  15.0  Masculino          Urbana       No   \n4               5  14.0   Femenino          Urbana       Sí   \n...           ...   ...        ...             ...      ...   \n20745       21389  11.0   Femenino          Urbana       Sí   \n20746       21390  12.0   Femenino          Urbana       Sí   \n20747       21391  13.0  Masculino          Urbana       Sí   \n20748       21392  13.0  Masculino          Urbana       Sí   \n20749       21393  12.0   Femenino           Rural       Sí   \n\n                              Uso del dispositivo móvil  \\\n0                          Uso propio (solo lo usas tú)   \n1                          Uso propio (solo lo usas tú)   \n2                     Uso compartido con otras personas   \n3      No tengo acceso a ningún dispositivo electrónico   \n4                     Uso compartido con otras personas   \n...                                                 ...   \n20745                      Uso propio (solo lo usas tú)   \n20746                      Uso propio (solo lo usas tú)   \n20747                      Uso propio (solo lo usas tú)   \n20748                 Uso compartido con otras personas   \n20749                      Uso propio (solo lo usas tú)   \n\n      Nivel escolaridad madre Nivel escolaridad padre Ocupación madre  \\\n0         Técnico o tecnólogo    Titulo universitario         Trabaja   \n1        Titulo universitario     Técnico o tecnólogo         Trabaja   \n2                  Secundaría              Secundaría         Trabaja   \n3                       No sé                   No sé         Trabaja   \n4        Titulo universitario              Secundaría         Trabaja   \n...                       ...                     ...             ...   \n20745                   No sé                   No sé         Trabaja   \n20746              Secundaría                   No sé         Trabaja   \n20747              Secundaría              Secundaría         Trabaja   \n20748              Secundaría              Secundaría  Cuida el hogar   \n20749              Secundaría              Secundaría         Trabaja   \n\n      Ocupación padre  ...  \\\n0             Trabaja  ...   \n1             Trabaja  ...   \n2             Trabaja  ...   \n3             Trabaja  ...   \n4             Trabaja  ...   \n...               ...  ...   \n20745         Trabaja  ...   \n20746         Trabaja  ...   \n20747         Trabaja  ...   \n20748         Trabaja  ...   \n20749         Trabaja  ...   \n\n      3.5 Siento que puedo analizar un ejercicio y determinar qué sub-habilidades de pensamiento computacional busca desarrollar  \\\n0                                                      3                                                                           \n1                                                      5                                                                           \n2                                                      1                                                                           \n3                                                      4                                                                           \n4                                                      3                                                                           \n...                                                  ...                                                                           \n20745                                                  2                                                                           \n20746                                                  5                                                                           \n20747                                                  1                                                                           \n20748                                                  5                                                                           \n20749                                                  2                                                                           \n\n       3.6 Siento que puedo resolver problemas a través de programación  \\\n0                                                      3                  \n1                                                      5                  \n2                                                      1                  \n3                                                      4                  \n4                                                      3                  \n...                                                  ...                  \n20745                                                  4                  \n20746                                                  4                  \n20747                                                  1                  \n20748                                                  5                  \n20749                                                  2                  \n\n       3.7 Siento que puedo implementar algoritmos  \\\n0                                                2   \n1                                                5   \n2                                                3   \n3                                                4   \n4                                                4   \n...                                            ...   \n20745                                            2   \n20746                                            2   \n20747                                            1   \n20748                                            4   \n20749                                            1   \n\n       3.8 Siento que puedo crear un programa de computador  \\\n0                                                      1      \n1                                                      5      \n2                                                      2      \n3                                                      1      \n4                                                      3      \n...                                                  ...      \n20745                                                  5      \n20746                                                  4      \n20747                                                  2      \n20748                                                  5      \n20749                                                  1      \n\n      3.9 Siento que puedo automatizar tareas a través de la programación  \\\n0                                                      2                    \n1                                                      5                    \n2                                                      2                    \n3                                                      3                    \n4                                                      3                    \n...                                                  ...                    \n20745                                                  1                    \n20746                                                  5                    \n20747                                                  2                    \n20748                                                  4                    \n20749                                                  5                    \n\n       3.10 Siento que puedo utilizar la computación para resolver problemas simples  \\\n0                                                      3                               \n1                                                      5                               \n2                                                      2                               \n3                                                      5                               \n4                                                      3                               \n...                                                  ...                               \n20745                                                  4                               \n20746                                                  5                               \n20747                                                  3                               \n20748                                                  5                               \n20749                                                  5                               \n\n      medioambiente  autoeficaciaPC  autoeficaciaProg  conocimiento  \n0         57.621822       27.947733         33.538899     57.920200  \n1         75.000000       94.909586        100.000000     43.662878  \n2         79.713983        9.673025         18.956357     53.167759  \n3         92.521186       46.643547         61.034156     43.662878  \n4         71.461864       52.415160         50.000000     53.167759  \n...             ...             ...               ...           ...  \n20745     93.135593       39.175130         58.159393     34.157996  \n20746     85.709746       68.503839         89.307400     43.662878  \n20747    100.000000        0.000000         26.100569     48.415319  \n20748     89.592161       78.554620         92.836812     67.425082  \n20749     71.716102       17.265296         63.273245     38.910437  \n\n[20750 rows x 49 columns]",
      "text/html": "<div>\n<style scoped>\n    .dataframe tbody tr th:only-of-type {\n        vertical-align: middle;\n    }\n\n    .dataframe tbody tr th {\n        vertical-align: top;\n    }\n\n    .dataframe thead th {\n        text-align: right;\n    }\n</style>\n<table border=\"1\" class=\"dataframe\">\n  <thead>\n    <tr style=\"text-align: right;\">\n      <th></th>\n      <th>N registro</th>\n      <th>Edad</th>\n      <th>Sexo</th>\n      <th>Sector vivienda</th>\n      <th>Internet</th>\n      <th>Uso del dispositivo móvil</th>\n      <th>Nivel escolaridad madre</th>\n      <th>Nivel escolaridad padre</th>\n      <th>Ocupación madre</th>\n      <th>Ocupación padre</th>\n      <th>...</th>\n      <th>3.5 Siento que puedo analizar un ejercicio y determinar qué sub-habilidades de pensamiento computacional busca desarrollar</th>\n      <th>3.6 Siento que puedo resolver problemas a través de programación</th>\n      <th>3.7 Siento que puedo implementar algoritmos</th>\n      <th>3.8 Siento que puedo crear un programa de computador</th>\n      <th>3.9 Siento que puedo automatizar tareas a través de la programación</th>\n      <th>3.10 Siento que puedo utilizar la computación para resolver problemas simples</th>\n      <th>medioambiente</th>\n      <th>autoeficaciaPC</th>\n      <th>autoeficaciaProg</th>\n      <th>conocimiento</th>\n    </tr>\n  </thead>\n  <tbody>\n    <tr>\n      <th>0</th>\n      <td>1</td>\n      <td>14.0</td>\n      <td>Masculino</td>\n      <td>Urbana</td>\n      <td>Sí</td>\n      <td>Uso propio (solo lo usas tú)</td>\n      <td>Técnico o tecnólogo</td>\n      <td>Titulo universitario</td>\n      <td>Trabaja</td>\n      <td>Trabaja</td>\n      <td>...</td>\n      <td>3</td>\n      <td>3</td>\n      <td>2</td>\n      <td>1</td>\n      <td>2</td>\n      <td>3</td>\n      <td>57.621822</td>\n      <td>27.947733</td>\n      <td>33.538899</td>\n      <td>57.920200</td>\n    </tr>\n    <tr>\n      <th>1</th>\n      <td>2</td>\n      <td>16.0</td>\n      <td>Masculino</td>\n      <td>Urbana</td>\n      <td>Sí</td>\n      <td>Uso propio (solo lo usas tú)</td>\n      <td>Titulo universitario</td>\n      <td>Técnico o tecnólogo</td>\n      <td>Trabaja</td>\n      <td>Trabaja</td>\n      <td>...</td>\n      <td>5</td>\n      <td>5</td>\n      <td>5</td>\n      <td>5</td>\n      <td>5</td>\n      <td>5</td>\n      <td>75.000000</td>\n      <td>94.909586</td>\n      <td>100.000000</td>\n      <td>43.662878</td>\n    </tr>\n    <tr>\n      <th>2</th>\n      <td>3</td>\n      <td>14.0</td>\n      <td>Femenino</td>\n      <td>Urbana</td>\n      <td>Sí</td>\n      <td>Uso compartido con otras personas</td>\n      <td>Secundaría</td>\n      <td>Secundaría</td>\n      <td>Trabaja</td>\n      <td>Trabaja</td>\n      <td>...</td>\n      <td>1</td>\n      <td>1</td>\n      <td>3</td>\n      <td>2</td>\n      <td>2</td>\n      <td>2</td>\n      <td>79.713983</td>\n      <td>9.673025</td>\n      <td>18.956357</td>\n      <td>53.167759</td>\n    </tr>\n    <tr>\n      <th>3</th>\n      <td>4</td>\n      <td>15.0</td>\n      <td>Masculino</td>\n      <td>Urbana</td>\n      <td>No</td>\n      <td>No tengo acceso a ningún dispositivo electrónico</td>\n      <td>No sé</td>\n      <td>No sé</td>\n      <td>Trabaja</td>\n      <td>Trabaja</td>\n      <td>...</td>\n      <td>4</td>\n      <td>4</td>\n      <td>4</td>\n      <td>1</td>\n      <td>3</td>\n      <td>5</td>\n      <td>92.521186</td>\n      <td>46.643547</td>\n      <td>61.034156</td>\n      <td>43.662878</td>\n    </tr>\n    <tr>\n      <th>4</th>\n      <td>5</td>\n      <td>14.0</td>\n      <td>Femenino</td>\n      <td>Urbana</td>\n      <td>Sí</td>\n      <td>Uso compartido con otras personas</td>\n      <td>Titulo universitario</td>\n      <td>Secundaría</td>\n      <td>Trabaja</td>\n      <td>Trabaja</td>\n      <td>...</td>\n      <td>3</td>\n      <td>3</td>\n      <td>4</td>\n      <td>3</td>\n      <td>3</td>\n      <td>3</td>\n      <td>71.461864</td>\n      <td>52.415160</td>\n      <td>50.000000</td>\n      <td>53.167759</td>\n    </tr>\n    <tr>\n      <th>...</th>\n      <td>...</td>\n      <td>...</td>\n      <td>...</td>\n      <td>...</td>\n      <td>...</td>\n      <td>...</td>\n      <td>...</td>\n      <td>...</td>\n      <td>...</td>\n      <td>...</td>\n      <td>...</td>\n      <td>...</td>\n      <td>...</td>\n      <td>...</td>\n      <td>...</td>\n      <td>...</td>\n      <td>...</td>\n      <td>...</td>\n      <td>...</td>\n      <td>...</td>\n      <td>...</td>\n    </tr>\n    <tr>\n      <th>20745</th>\n      <td>21389</td>\n      <td>11.0</td>\n      <td>Femenino</td>\n      <td>Urbana</td>\n      <td>Sí</td>\n      <td>Uso propio (solo lo usas tú)</td>\n      <td>No sé</td>\n      <td>No sé</td>\n      <td>Trabaja</td>\n      <td>Trabaja</td>\n      <td>...</td>\n      <td>2</td>\n      <td>4</td>\n      <td>2</td>\n      <td>5</td>\n      <td>1</td>\n      <td>4</td>\n      <td>93.135593</td>\n      <td>39.175130</td>\n      <td>58.159393</td>\n      <td>34.157996</td>\n    </tr>\n    <tr>\n      <th>20746</th>\n      <td>21390</td>\n      <td>12.0</td>\n      <td>Femenino</td>\n      <td>Urbana</td>\n      <td>Sí</td>\n      <td>Uso propio (solo lo usas tú)</td>\n      <td>Secundaría</td>\n      <td>No sé</td>\n      <td>Trabaja</td>\n      <td>Trabaja</td>\n      <td>...</td>\n      <td>5</td>\n      <td>4</td>\n      <td>2</td>\n      <td>4</td>\n      <td>5</td>\n      <td>5</td>\n      <td>85.709746</td>\n      <td>68.503839</td>\n      <td>89.307400</td>\n      <td>43.662878</td>\n    </tr>\n    <tr>\n      <th>20747</th>\n      <td>21391</td>\n      <td>13.0</td>\n      <td>Masculino</td>\n      <td>Urbana</td>\n      <td>Sí</td>\n      <td>Uso propio (solo lo usas tú)</td>\n      <td>Secundaría</td>\n      <td>Secundaría</td>\n      <td>Trabaja</td>\n      <td>Trabaja</td>\n      <td>...</td>\n      <td>1</td>\n      <td>1</td>\n      <td>1</td>\n      <td>2</td>\n      <td>2</td>\n      <td>3</td>\n      <td>100.000000</td>\n      <td>0.000000</td>\n      <td>26.100569</td>\n      <td>48.415319</td>\n    </tr>\n    <tr>\n      <th>20748</th>\n      <td>21392</td>\n      <td>13.0</td>\n      <td>Masculino</td>\n      <td>Urbana</td>\n      <td>Sí</td>\n      <td>Uso compartido con otras personas</td>\n      <td>Secundaría</td>\n      <td>Secundaría</td>\n      <td>Cuida el hogar</td>\n      <td>Trabaja</td>\n      <td>...</td>\n      <td>5</td>\n      <td>5</td>\n      <td>4</td>\n      <td>5</td>\n      <td>4</td>\n      <td>5</td>\n      <td>89.592161</td>\n      <td>78.554620</td>\n      <td>92.836812</td>\n      <td>67.425082</td>\n    </tr>\n    <tr>\n      <th>20749</th>\n      <td>21393</td>\n      <td>12.0</td>\n      <td>Femenino</td>\n      <td>Rural</td>\n      <td>Sí</td>\n      <td>Uso propio (solo lo usas tú)</td>\n      <td>Secundaría</td>\n      <td>Secundaría</td>\n      <td>Trabaja</td>\n      <td>Trabaja</td>\n      <td>...</td>\n      <td>2</td>\n      <td>2</td>\n      <td>1</td>\n      <td>1</td>\n      <td>5</td>\n      <td>5</td>\n      <td>71.716102</td>\n      <td>17.265296</td>\n      <td>63.273245</td>\n      <td>38.910437</td>\n    </tr>\n  </tbody>\n</table>\n<p>20750 rows × 49 columns</p>\n</div>"
     },
     "execution_count": 11,
     "metadata": {},
     "output_type": "execute_result"
    }
   ],
   "source": [
    "df_estudiantes"
   ],
   "metadata": {
    "collapsed": false,
    "pycharm": {
     "name": "#%%\n"
    }
   }
  },
  {
   "cell_type": "code",
   "execution_count": 12,
   "outputs": [],
   "source": [
    "estudiantes = pd.merge(est, df_estudiantes[['N registro', 'conocimiento', 'autoeficaciaPC', 'autoeficaciaProg', 'medioambiente']])"
   ],
   "metadata": {
    "collapsed": false,
    "pycharm": {
     "name": "#%%\n"
    }
   }
  },
  {
   "cell_type": "code",
   "execution_count": 13,
   "metadata": {
    "collapsed": false,
    "jupyter": {
     "outputs_hidden": false
    },
    "pycharm": {
     "name": "#%%\n"
    }
   },
   "outputs": [
    {
     "data": {
      "text/plain": "       N registro  Puntaje interes  Interesado en tecnologia\n0               1            100.0                         1\n1               2             50.0                         1\n2               3             50.0                         1\n3               4            100.0                         1\n4               5              0.0                         0\n...           ...              ...                       ...\n20745       21389              0.0                         0\n20746       21390              0.0                         0\n20747       21391              0.0                         0\n20748       21392            100.0                         1\n20749       21393              0.0                         0\n\n[20750 rows x 3 columns]",
      "text/html": "<div>\n<style scoped>\n    .dataframe tbody tr th:only-of-type {\n        vertical-align: middle;\n    }\n\n    .dataframe tbody tr th {\n        vertical-align: top;\n    }\n\n    .dataframe thead th {\n        text-align: right;\n    }\n</style>\n<table border=\"1\" class=\"dataframe\">\n  <thead>\n    <tr style=\"text-align: right;\">\n      <th></th>\n      <th>N registro</th>\n      <th>Puntaje interes</th>\n      <th>Interesado en tecnologia</th>\n    </tr>\n  </thead>\n  <tbody>\n    <tr>\n      <th>0</th>\n      <td>1</td>\n      <td>100.0</td>\n      <td>1</td>\n    </tr>\n    <tr>\n      <th>1</th>\n      <td>2</td>\n      <td>50.0</td>\n      <td>1</td>\n    </tr>\n    <tr>\n      <th>2</th>\n      <td>3</td>\n      <td>50.0</td>\n      <td>1</td>\n    </tr>\n    <tr>\n      <th>3</th>\n      <td>4</td>\n      <td>100.0</td>\n      <td>1</td>\n    </tr>\n    <tr>\n      <th>4</th>\n      <td>5</td>\n      <td>0.0</td>\n      <td>0</td>\n    </tr>\n    <tr>\n      <th>...</th>\n      <td>...</td>\n      <td>...</td>\n      <td>...</td>\n    </tr>\n    <tr>\n      <th>20745</th>\n      <td>21389</td>\n      <td>0.0</td>\n      <td>0</td>\n    </tr>\n    <tr>\n      <th>20746</th>\n      <td>21390</td>\n      <td>0.0</td>\n      <td>0</td>\n    </tr>\n    <tr>\n      <th>20747</th>\n      <td>21391</td>\n      <td>0.0</td>\n      <td>0</td>\n    </tr>\n    <tr>\n      <th>20748</th>\n      <td>21392</td>\n      <td>100.0</td>\n      <td>1</td>\n    </tr>\n    <tr>\n      <th>20749</th>\n      <td>21393</td>\n      <td>0.0</td>\n      <td>0</td>\n    </tr>\n  </tbody>\n</table>\n<p>20750 rows × 3 columns</p>\n</div>"
     },
     "execution_count": 13,
     "metadata": {},
     "output_type": "execute_result"
    }
   ],
   "source": [
    "df_interes = est[['N registro']+col_interes].melt(id_vars='N registro', value_name='Seleccion', var_name='Pregunta')\n",
    "df_interes['Interes en tecnologia'] = 1*(df_interes['Seleccion'].str.contains('Tecnología'))\n",
    "df_puntaje_interes = df_interes.pivot_table(index='N registro', values=['Interes en tecnologia'], aggfunc=['sum', 'max']).reset_index()\n",
    "df_puntaje_interes.columns = ['N registro', 'Puntaje interes', 'Interesado en tecnologia']\n",
    "df_puntaje_interes['Puntaje interes'] = 100*(df_puntaje_interes['Puntaje interes']/2)\n",
    "#df_puntaje_interes = (100*df_interes.groupby('index')['Interes en tecnologia'].sum()/4).reset_index()\n",
    "df_puntaje_interes"
   ]
  },
  {
   "cell_type": "code",
   "execution_count": 14,
   "metadata": {
    "collapsed": false,
    "jupyter": {
     "outputs_hidden": false
    },
    "pycharm": {
     "name": "#%%\n"
    }
   },
   "outputs": [
    {
     "data": {
      "text/plain": "       N registro Deseo participar en el estudio  Código IE  Grupo  \\\n0               1                             Sí        166      2   \n1               2                             Sí        166      2   \n2               3                             Sí        166      2   \n3               4                             Sí        166      2   \n4               5                             Sí        166      2   \n...           ...                            ...        ...    ...   \n20745       21389                             Sí         33      2   \n20746       21390                             Sí         33      2   \n20747       21391                             Sí         33      2   \n20748       21392                             Sí        125      1   \n20749       21393                             Sí         33      2   \n\n                             Nombre  Fecha         ID  Número de lista  Edad  \\\n0                               NaN  19/04  166090203                3  14.0   \n1                               NaN  19/04  166090207                7  16.0   \n2                               NaN  19/04  166090230               30  14.0   \n3                               NaN  19/04  166090206                6  15.0   \n4                               NaN  19/04  166090210               10  14.0   \n...                             ...    ...        ...              ...   ...   \n20745       Sara Sofia Vargas Avila  06/06   33060241               41  11.0   \n20746           Deivid Forero Lemus  06/06   33060208                8  12.0   \n20747        Alejandro Padilla Rios  06/06   33060225               25  13.0   \n20748  Camilo Andrés Herrera Corcho  06/06  125090121               21  13.0   \n20749  Maria Juliana Canacue Moreno  06/06   33060204                4  12.0   \n\n            Sexo  ... Tipo de discapacidad  \\\n0      Masculino  ...                  NaN   \n1      Masculino  ...                  NaN   \n2       Femenino  ...                  NaN   \n3      Masculino  ...                  NaN   \n4       Femenino  ...                  NaN   \n...          ...  ...                  ...   \n20745   Femenino  ...                  NaN   \n20746   Femenino  ...                  NaN   \n20747  Masculino  ...                  NaN   \n20748  Masculino  ...                  NaN   \n20749   Femenino  ...                  NaN   \n\n      ¿Te reconoces como una persona con algún tipo de discapacidad?  \\\n0                                                     No               \n1                                                     No               \n2                                                     No               \n3                                                     No               \n4                                                     No               \n...                                                  ...               \n20745                                                 No               \n20746                                                 No               \n20747                                                 No               \n20748                                                 No               \n20749                                                 No               \n\n      Conoce GreenTIC           Instrumento conocimiento autoeficaciaPC  \\\n0                  No  Encuesta estudiantes    57.920200      27.947733   \n1                  No  Encuesta estudiantes    43.662878      94.909586   \n2                  No  Encuesta estudiantes    53.167759       9.673025   \n3                  No  Encuesta estudiantes    43.662878      46.643547   \n4                  No  Encuesta estudiantes    53.167759      52.415160   \n...               ...                   ...          ...            ...   \n20745              No  Encuesta estudiantes    34.157996      39.175130   \n20746              No  Encuesta estudiantes    43.662878      68.503839   \n20747              No  Encuesta estudiantes    48.415319       0.000000   \n20748              Sí  Encuesta estudiantes    67.425082      78.554620   \n20749              No  Encuesta estudiantes    38.910437      17.265296   \n\n      autoeficaciaProg medioambiente  Puntaje interes Interesado en tecnologia  \n0            33.538899     57.621822            100.0                        1  \n1           100.000000     75.000000             50.0                        1  \n2            18.956357     79.713983             50.0                        1  \n3            61.034156     92.521186            100.0                        1  \n4            50.000000     71.461864              0.0                        0  \n...                ...           ...              ...                      ...  \n20745        58.159393     93.135593              0.0                        0  \n20746        89.307400     85.709746              0.0                        0  \n20747        26.100569    100.000000              0.0                        0  \n20748        92.836812     89.592161            100.0                        1  \n20749        63.273245     71.716102              0.0                        0  \n\n[20750 rows x 80 columns]",
      "text/html": "<div>\n<style scoped>\n    .dataframe tbody tr th:only-of-type {\n        vertical-align: middle;\n    }\n\n    .dataframe tbody tr th {\n        vertical-align: top;\n    }\n\n    .dataframe thead th {\n        text-align: right;\n    }\n</style>\n<table border=\"1\" class=\"dataframe\">\n  <thead>\n    <tr style=\"text-align: right;\">\n      <th></th>\n      <th>N registro</th>\n      <th>Deseo participar en el estudio</th>\n      <th>Código IE</th>\n      <th>Grupo</th>\n      <th>Nombre</th>\n      <th>Fecha</th>\n      <th>ID</th>\n      <th>Número de lista</th>\n      <th>Edad</th>\n      <th>Sexo</th>\n      <th>...</th>\n      <th>Tipo de discapacidad</th>\n      <th>¿Te reconoces como una persona con algún tipo de discapacidad?</th>\n      <th>Conoce GreenTIC</th>\n      <th>Instrumento</th>\n      <th>conocimiento</th>\n      <th>autoeficaciaPC</th>\n      <th>autoeficaciaProg</th>\n      <th>medioambiente</th>\n      <th>Puntaje interes</th>\n      <th>Interesado en tecnologia</th>\n    </tr>\n  </thead>\n  <tbody>\n    <tr>\n      <th>0</th>\n      <td>1</td>\n      <td>Sí</td>\n      <td>166</td>\n      <td>2</td>\n      <td>NaN</td>\n      <td>19/04</td>\n      <td>166090203</td>\n      <td>3</td>\n      <td>14.0</td>\n      <td>Masculino</td>\n      <td>...</td>\n      <td>NaN</td>\n      <td>No</td>\n      <td>No</td>\n      <td>Encuesta estudiantes</td>\n      <td>57.920200</td>\n      <td>27.947733</td>\n      <td>33.538899</td>\n      <td>57.621822</td>\n      <td>100.0</td>\n      <td>1</td>\n    </tr>\n    <tr>\n      <th>1</th>\n      <td>2</td>\n      <td>Sí</td>\n      <td>166</td>\n      <td>2</td>\n      <td>NaN</td>\n      <td>19/04</td>\n      <td>166090207</td>\n      <td>7</td>\n      <td>16.0</td>\n      <td>Masculino</td>\n      <td>...</td>\n      <td>NaN</td>\n      <td>No</td>\n      <td>No</td>\n      <td>Encuesta estudiantes</td>\n      <td>43.662878</td>\n      <td>94.909586</td>\n      <td>100.000000</td>\n      <td>75.000000</td>\n      <td>50.0</td>\n      <td>1</td>\n    </tr>\n    <tr>\n      <th>2</th>\n      <td>3</td>\n      <td>Sí</td>\n      <td>166</td>\n      <td>2</td>\n      <td>NaN</td>\n      <td>19/04</td>\n      <td>166090230</td>\n      <td>30</td>\n      <td>14.0</td>\n      <td>Femenino</td>\n      <td>...</td>\n      <td>NaN</td>\n      <td>No</td>\n      <td>No</td>\n      <td>Encuesta estudiantes</td>\n      <td>53.167759</td>\n      <td>9.673025</td>\n      <td>18.956357</td>\n      <td>79.713983</td>\n      <td>50.0</td>\n      <td>1</td>\n    </tr>\n    <tr>\n      <th>3</th>\n      <td>4</td>\n      <td>Sí</td>\n      <td>166</td>\n      <td>2</td>\n      <td>NaN</td>\n      <td>19/04</td>\n      <td>166090206</td>\n      <td>6</td>\n      <td>15.0</td>\n      <td>Masculino</td>\n      <td>...</td>\n      <td>NaN</td>\n      <td>No</td>\n      <td>No</td>\n      <td>Encuesta estudiantes</td>\n      <td>43.662878</td>\n      <td>46.643547</td>\n      <td>61.034156</td>\n      <td>92.521186</td>\n      <td>100.0</td>\n      <td>1</td>\n    </tr>\n    <tr>\n      <th>4</th>\n      <td>5</td>\n      <td>Sí</td>\n      <td>166</td>\n      <td>2</td>\n      <td>NaN</td>\n      <td>19/04</td>\n      <td>166090210</td>\n      <td>10</td>\n      <td>14.0</td>\n      <td>Femenino</td>\n      <td>...</td>\n      <td>NaN</td>\n      <td>No</td>\n      <td>No</td>\n      <td>Encuesta estudiantes</td>\n      <td>53.167759</td>\n      <td>52.415160</td>\n      <td>50.000000</td>\n      <td>71.461864</td>\n      <td>0.0</td>\n      <td>0</td>\n    </tr>\n    <tr>\n      <th>...</th>\n      <td>...</td>\n      <td>...</td>\n      <td>...</td>\n      <td>...</td>\n      <td>...</td>\n      <td>...</td>\n      <td>...</td>\n      <td>...</td>\n      <td>...</td>\n      <td>...</td>\n      <td>...</td>\n      <td>...</td>\n      <td>...</td>\n      <td>...</td>\n      <td>...</td>\n      <td>...</td>\n      <td>...</td>\n      <td>...</td>\n      <td>...</td>\n      <td>...</td>\n      <td>...</td>\n    </tr>\n    <tr>\n      <th>20745</th>\n      <td>21389</td>\n      <td>Sí</td>\n      <td>33</td>\n      <td>2</td>\n      <td>Sara Sofia Vargas Avila</td>\n      <td>06/06</td>\n      <td>33060241</td>\n      <td>41</td>\n      <td>11.0</td>\n      <td>Femenino</td>\n      <td>...</td>\n      <td>NaN</td>\n      <td>No</td>\n      <td>No</td>\n      <td>Encuesta estudiantes</td>\n      <td>34.157996</td>\n      <td>39.175130</td>\n      <td>58.159393</td>\n      <td>93.135593</td>\n      <td>0.0</td>\n      <td>0</td>\n    </tr>\n    <tr>\n      <th>20746</th>\n      <td>21390</td>\n      <td>Sí</td>\n      <td>33</td>\n      <td>2</td>\n      <td>Deivid Forero Lemus</td>\n      <td>06/06</td>\n      <td>33060208</td>\n      <td>8</td>\n      <td>12.0</td>\n      <td>Femenino</td>\n      <td>...</td>\n      <td>NaN</td>\n      <td>No</td>\n      <td>No</td>\n      <td>Encuesta estudiantes</td>\n      <td>43.662878</td>\n      <td>68.503839</td>\n      <td>89.307400</td>\n      <td>85.709746</td>\n      <td>0.0</td>\n      <td>0</td>\n    </tr>\n    <tr>\n      <th>20747</th>\n      <td>21391</td>\n      <td>Sí</td>\n      <td>33</td>\n      <td>2</td>\n      <td>Alejandro Padilla Rios</td>\n      <td>06/06</td>\n      <td>33060225</td>\n      <td>25</td>\n      <td>13.0</td>\n      <td>Masculino</td>\n      <td>...</td>\n      <td>NaN</td>\n      <td>No</td>\n      <td>No</td>\n      <td>Encuesta estudiantes</td>\n      <td>48.415319</td>\n      <td>0.000000</td>\n      <td>26.100569</td>\n      <td>100.000000</td>\n      <td>0.0</td>\n      <td>0</td>\n    </tr>\n    <tr>\n      <th>20748</th>\n      <td>21392</td>\n      <td>Sí</td>\n      <td>125</td>\n      <td>1</td>\n      <td>Camilo Andrés Herrera Corcho</td>\n      <td>06/06</td>\n      <td>125090121</td>\n      <td>21</td>\n      <td>13.0</td>\n      <td>Masculino</td>\n      <td>...</td>\n      <td>NaN</td>\n      <td>No</td>\n      <td>Sí</td>\n      <td>Encuesta estudiantes</td>\n      <td>67.425082</td>\n      <td>78.554620</td>\n      <td>92.836812</td>\n      <td>89.592161</td>\n      <td>100.0</td>\n      <td>1</td>\n    </tr>\n    <tr>\n      <th>20749</th>\n      <td>21393</td>\n      <td>Sí</td>\n      <td>33</td>\n      <td>2</td>\n      <td>Maria Juliana Canacue Moreno</td>\n      <td>06/06</td>\n      <td>33060204</td>\n      <td>4</td>\n      <td>12.0</td>\n      <td>Femenino</td>\n      <td>...</td>\n      <td>NaN</td>\n      <td>No</td>\n      <td>No</td>\n      <td>Encuesta estudiantes</td>\n      <td>38.910437</td>\n      <td>17.265296</td>\n      <td>63.273245</td>\n      <td>71.716102</td>\n      <td>0.0</td>\n      <td>0</td>\n    </tr>\n  </tbody>\n</table>\n<p>20750 rows × 80 columns</p>\n</div>"
     },
     "execution_count": 14,
     "metadata": {},
     "output_type": "execute_result"
    }
   ],
   "source": [
    "df_7 = pd.merge(estudiantes, df_puntaje_interes, on='N registro')\n",
    "df_7"
   ]
  },
  {
   "cell_type": "code",
   "execution_count": 15,
   "outputs": [
    {
     "data": {
      "text/plain": "61.9480702315905"
     },
     "execution_count": 15,
     "metadata": {},
     "output_type": "execute_result"
    }
   ],
   "source": [
    "df_7['autoeficaciaProg'].mean()"
   ],
   "metadata": {
    "collapsed": false,
    "pycharm": {
     "name": "#%%\n"
    }
   }
  },
  {
   "cell_type": "code",
   "execution_count": 16,
   "metadata": {
    "collapsed": false,
    "jupyter": {
     "outputs_hidden": false
    },
    "pycharm": {
     "name": "#%%\n"
    }
   },
   "outputs": [],
   "source": [
    "df_7['Media autoeficaciaProg'] = df_7['autoeficaciaProg'].mean()\n",
    "df_7['Std autoeficaciaProg'] = df_7['autoeficaciaProg'].std()\n",
    "df_7['Media autoeficaciaPC'] = df_7['autoeficaciaPC'].mean()\n",
    "df_7['Std autoeficaciaPC'] = df_7['autoeficaciaPC'].std()"
   ]
  },
  {
   "cell_type": "code",
   "execution_count": 17,
   "metadata": {
    "collapsed": false,
    "jupyter": {
     "outputs_hidden": false
    },
    "pycharm": {
     "name": "#%%\n"
    }
   },
   "outputs": [],
   "source": [
    "df_7['Media nacional interés'] = df_7['Puntaje interes'].mean()\n",
    "df_7['Std interes'] = df_7['Puntaje interes'].std()"
   ]
  },
  {
   "cell_type": "markdown",
   "metadata": {
    "collapsed": false,
    "jupyter": {
     "outputs_hidden": false
    },
    "pycharm": {
     "name": "#%% md\n"
    }
   },
   "source": [
    "### Calificar Dimensión"
   ]
  },
  {
   "cell_type": "code",
   "execution_count": 18,
   "metadata": {
    "collapsed": false,
    "jupyter": {
     "outputs_hidden": false
    },
    "pycharm": {
     "name": "#%%\n"
    }
   },
   "outputs": [],
   "source": [
    "cols_dimension7 = ['conocimiento', 'Media autoeficaciaProg','Puntaje interes', 'Interesado en tecnologia', 'Media autoeficaciaPC', 'autoeficaciaPC', 'autoeficaciaProg', 'Media nacional interés','Std interes','Std autoeficaciaPC','Std autoeficaciaProg', 'N registro']\n",
    "agrupadores_dimension7 = ['mean', 'max', 'mean', 'sum', 'max', 'mean','mean', 'max','max','max','max', 'count']\n",
    "agg_funcs = dict(zip(cols_dimension7, agrupadores_dimension7))"
   ]
  },
  {
   "cell_type": "code",
   "execution_count": 19,
   "outputs": [
    {
     "data": {
      "text/plain": "{'conocimiento': 'mean',\n 'Media autoeficaciaProg': 'max',\n 'Puntaje interes': 'mean',\n 'Interesado en tecnologia': 'sum',\n 'Media autoeficaciaPC': 'max',\n 'autoeficaciaPC': 'mean',\n 'autoeficaciaProg': 'mean',\n 'Media nacional interés': 'max',\n 'Std interes': 'max',\n 'Std autoeficaciaPC': 'max',\n 'Std autoeficaciaProg': 'max',\n 'N registro': 'count'}"
     },
     "execution_count": 19,
     "metadata": {},
     "output_type": "execute_result"
    }
   ],
   "source": [
    "agg_funcs"
   ],
   "metadata": {
    "collapsed": false,
    "pycharm": {
     "name": "#%%\n"
    }
   }
  },
  {
   "cell_type": "code",
   "execution_count": 20,
   "metadata": {
    "collapsed": false,
    "jupyter": {
     "outputs_hidden": false
    },
    "pycharm": {
     "name": "#%%\n"
    }
   },
   "outputs": [],
   "source": [
    "df_institucion = df_7.pivot_table(index=['Código IE'], values=cols_dimension7, aggfunc=agg_funcs).rename(columns={'N registro':'Cantidad estudiantes'})\n",
    "df_institucion['% Interesado'] = (df_institucion['Interesado en tecnologia']/df_institucion['Cantidad estudiantes'])*100"
   ]
  },
  {
   "cell_type": "code",
   "execution_count": 21,
   "metadata": {
    "collapsed": false,
    "jupyter": {
     "outputs_hidden": false
    },
    "pycharm": {
     "name": "#%%\n"
    }
   },
   "outputs": [],
   "source": [
    "## Cuántas desviaciones estándar respecto a la media\n",
    "df_institucion['Diff autoeficaciaPC'] = (df_institucion['autoeficaciaPC'] - df_institucion['Media autoeficaciaPC'])/df_institucion['Std autoeficaciaPC']\n",
    "\n",
    "df_institucion['Diff autoeficaciaProg'] = (df_institucion['autoeficaciaProg'] - df_institucion['Media autoeficaciaProg'])/df_institucion['Std autoeficaciaProg']\n",
    "\n",
    "df_institucion['Diferencia interes'] = (df_institucion['Puntaje interes'] - df_institucion['Media nacional interés'])/df_institucion['Std interes']"
   ]
  },
  {
   "cell_type": "code",
   "execution_count": 22,
   "metadata": {
    "collapsed": false,
    "jupyter": {
     "outputs_hidden": false
    },
    "pycharm": {
     "name": "#%%\n"
    }
   },
   "outputs": [
    {
     "data": {
      "text/plain": "Código IE\n1      61.94807\n2      61.94807\n3      61.94807\n4      61.94807\n5      61.94807\n         ...   \n248    61.94807\n249    61.94807\n250    61.94807\n251    61.94807\n252    61.94807\nName: Media autoeficaciaProg, Length: 234, dtype: float64"
     },
     "execution_count": 22,
     "metadata": {},
     "output_type": "execute_result"
    }
   ],
   "source": [
    "df_institucion['Media autoeficaciaProg']"
   ]
  },
  {
   "cell_type": "code",
   "execution_count": 23,
   "metadata": {
    "collapsed": false,
    "jupyter": {
     "outputs_hidden": false
    },
    "pycharm": {
     "name": "#%%\n"
    }
   },
   "outputs": [
    {
     "data": {
      "text/plain": "           Interesado en tecnologia  Media autoeficaciaPC  \\\nCódigo IE                                                   \n1                                57             44.330723   \n2                                26             44.330723   \n3                                32             44.330723   \n4                                30             44.330723   \n5                                77             44.330723   \n...                             ...                   ...   \n248                              27             44.330723   \n249                              50             44.330723   \n250                              27             44.330723   \n251                              46             44.330723   \n252                              27             44.330723   \n\n           Media autoeficaciaProg  Media nacional interés  \\\nCódigo IE                                                   \n1                        61.94807               33.595181   \n2                        61.94807               33.595181   \n3                        61.94807               33.595181   \n4                        61.94807               33.595181   \n5                        61.94807               33.595181   \n...                           ...                     ...   \n248                      61.94807               33.595181   \n249                      61.94807               33.595181   \n250                      61.94807               33.595181   \n251                      61.94807               33.595181   \n252                      61.94807               33.595181   \n\n           Cantidad estudiantes  Puntaje interes  Std autoeficaciaPC  \\\nCódigo IE                                                              \n1                           119        35.294118           26.755191   \n2                            38        51.315789           26.755191   \n3                            57        39.473684           26.755191   \n4                            46        51.086957           26.755191   \n5                            99        57.070707           26.755191   \n...                         ...              ...                 ...   \n248                          58        29.310345           26.755191   \n249                         149        20.805369           26.755191   \n250                          83        20.481928           26.755191   \n251                         121        22.314050           26.755191   \n252                          56        31.250000           26.755191   \n\n           Std autoeficaciaProg  Std interes  autoeficaciaPC  ...  \\\nCódigo IE                                                     ...   \n1                     27.277686    38.390682       45.524227  ...   \n2                     27.277686    38.390682       40.168083  ...   \n3                     27.277686    38.390682       48.697900  ...   \n4                     27.277686    38.390682       47.185948  ...   \n5                     27.277686    38.390682       50.908265  ...   \n...                         ...          ...             ...  ...   \n248                   27.277686    38.390682       33.630086  ...   \n249                   27.277686    38.390682       39.210915  ...   \n250                   27.277686    38.390682       40.542378  ...   \n251                   27.277686    38.390682       49.230005  ...   \n252                   27.277686    38.390682       46.147135  ...   \n\n           Diff autoeficaciaPC  Diff autoeficaciaProg  Diferencia interes  \\\nCódigo IE                                                                   \n1                     0.044608               0.158348            0.044254   \n2                    -0.155583              -0.414905            0.461586   \n3                     0.163227               0.250608            0.153123   \n4                     0.106717               0.052241            0.455626   \n5                     0.245842               0.453339            0.611490   \n...                        ...                    ...                 ...   \n248                  -0.399946              -0.263430           -0.111611   \n249                  -0.191358              -0.152764           -0.333149   \n250                  -0.141593              -0.131832           -0.341574   \n251                   0.183115               0.049392           -0.293851   \n252                   0.067890              -0.095267           -0.061087   \n\n           Nivel autoeficaciaPC  Nivel autoeficaciaProg  Nivel conocimiento  \\\nCódigo IE                                                                     \n1                            2A                       5                  2A   \n2                            2A                      2B                  2A   \n3                            2A                       5                  2A   \n4                            2A                       5                  2B   \n5                            2B                       5                  2B   \n...                         ...                     ...                 ...   \n248                          2A                      2B                  2A   \n249                          2A                      2B                  2A   \n250                          2A                      2B                  2A   \n251                          2A                       5                  2A   \n252                          2A                      2B                  2A   \n\n          Nivel Interes Nivel Interes pares Nivel AutoeficaciaPC pares  \\\nCódigo IE                                                                \n1                    2A                   3                         2B   \n2                    2B                   3                         2A   \n3                    2A                   3                         2B   \n4                    2B                   3                         2B   \n5                    2B                   3                         2B   \n...                 ...                 ...                        ...   \n248                  2A                  2A                         2A   \n249                  1B                  2A                         2A   \n250                  1B                  2A                         2A   \n251                  1B                  2A                         2B   \n252                  2A                  2A                         2B   \n\n          Nivel AutoeficaciaProg pares  \nCódigo IE                               \n1                                   2B  \n2                                   2A  \n3                                   2B  \n4                                   2B  \n5                                   2B  \n...                                ...  \n248                                 2A  \n249                                 2A  \n250                                 2A  \n251                                 2B  \n252                                 2A  \n\n[234 rows x 23 columns]",
      "text/html": "<div>\n<style scoped>\n    .dataframe tbody tr th:only-of-type {\n        vertical-align: middle;\n    }\n\n    .dataframe tbody tr th {\n        vertical-align: top;\n    }\n\n    .dataframe thead th {\n        text-align: right;\n    }\n</style>\n<table border=\"1\" class=\"dataframe\">\n  <thead>\n    <tr style=\"text-align: right;\">\n      <th></th>\n      <th>Interesado en tecnologia</th>\n      <th>Media autoeficaciaPC</th>\n      <th>Media autoeficaciaProg</th>\n      <th>Media nacional interés</th>\n      <th>Cantidad estudiantes</th>\n      <th>Puntaje interes</th>\n      <th>Std autoeficaciaPC</th>\n      <th>Std autoeficaciaProg</th>\n      <th>Std interes</th>\n      <th>autoeficaciaPC</th>\n      <th>...</th>\n      <th>Diff autoeficaciaPC</th>\n      <th>Diff autoeficaciaProg</th>\n      <th>Diferencia interes</th>\n      <th>Nivel autoeficaciaPC</th>\n      <th>Nivel autoeficaciaProg</th>\n      <th>Nivel conocimiento</th>\n      <th>Nivel Interes</th>\n      <th>Nivel Interes pares</th>\n      <th>Nivel AutoeficaciaPC pares</th>\n      <th>Nivel AutoeficaciaProg pares</th>\n    </tr>\n    <tr>\n      <th>Código IE</th>\n      <th></th>\n      <th></th>\n      <th></th>\n      <th></th>\n      <th></th>\n      <th></th>\n      <th></th>\n      <th></th>\n      <th></th>\n      <th></th>\n      <th></th>\n      <th></th>\n      <th></th>\n      <th></th>\n      <th></th>\n      <th></th>\n      <th></th>\n      <th></th>\n      <th></th>\n      <th></th>\n      <th></th>\n    </tr>\n  </thead>\n  <tbody>\n    <tr>\n      <th>1</th>\n      <td>57</td>\n      <td>44.330723</td>\n      <td>61.94807</td>\n      <td>33.595181</td>\n      <td>119</td>\n      <td>35.294118</td>\n      <td>26.755191</td>\n      <td>27.277686</td>\n      <td>38.390682</td>\n      <td>45.524227</td>\n      <td>...</td>\n      <td>0.044608</td>\n      <td>0.158348</td>\n      <td>0.044254</td>\n      <td>2A</td>\n      <td>5</td>\n      <td>2A</td>\n      <td>2A</td>\n      <td>3</td>\n      <td>2B</td>\n      <td>2B</td>\n    </tr>\n    <tr>\n      <th>2</th>\n      <td>26</td>\n      <td>44.330723</td>\n      <td>61.94807</td>\n      <td>33.595181</td>\n      <td>38</td>\n      <td>51.315789</td>\n      <td>26.755191</td>\n      <td>27.277686</td>\n      <td>38.390682</td>\n      <td>40.168083</td>\n      <td>...</td>\n      <td>-0.155583</td>\n      <td>-0.414905</td>\n      <td>0.461586</td>\n      <td>2A</td>\n      <td>2B</td>\n      <td>2A</td>\n      <td>2B</td>\n      <td>3</td>\n      <td>2A</td>\n      <td>2A</td>\n    </tr>\n    <tr>\n      <th>3</th>\n      <td>32</td>\n      <td>44.330723</td>\n      <td>61.94807</td>\n      <td>33.595181</td>\n      <td>57</td>\n      <td>39.473684</td>\n      <td>26.755191</td>\n      <td>27.277686</td>\n      <td>38.390682</td>\n      <td>48.697900</td>\n      <td>...</td>\n      <td>0.163227</td>\n      <td>0.250608</td>\n      <td>0.153123</td>\n      <td>2A</td>\n      <td>5</td>\n      <td>2A</td>\n      <td>2A</td>\n      <td>3</td>\n      <td>2B</td>\n      <td>2B</td>\n    </tr>\n    <tr>\n      <th>4</th>\n      <td>30</td>\n      <td>44.330723</td>\n      <td>61.94807</td>\n      <td>33.595181</td>\n      <td>46</td>\n      <td>51.086957</td>\n      <td>26.755191</td>\n      <td>27.277686</td>\n      <td>38.390682</td>\n      <td>47.185948</td>\n      <td>...</td>\n      <td>0.106717</td>\n      <td>0.052241</td>\n      <td>0.455626</td>\n      <td>2A</td>\n      <td>5</td>\n      <td>2B</td>\n      <td>2B</td>\n      <td>3</td>\n      <td>2B</td>\n      <td>2B</td>\n    </tr>\n    <tr>\n      <th>5</th>\n      <td>77</td>\n      <td>44.330723</td>\n      <td>61.94807</td>\n      <td>33.595181</td>\n      <td>99</td>\n      <td>57.070707</td>\n      <td>26.755191</td>\n      <td>27.277686</td>\n      <td>38.390682</td>\n      <td>50.908265</td>\n      <td>...</td>\n      <td>0.245842</td>\n      <td>0.453339</td>\n      <td>0.611490</td>\n      <td>2B</td>\n      <td>5</td>\n      <td>2B</td>\n      <td>2B</td>\n      <td>3</td>\n      <td>2B</td>\n      <td>2B</td>\n    </tr>\n    <tr>\n      <th>...</th>\n      <td>...</td>\n      <td>...</td>\n      <td>...</td>\n      <td>...</td>\n      <td>...</td>\n      <td>...</td>\n      <td>...</td>\n      <td>...</td>\n      <td>...</td>\n      <td>...</td>\n      <td>...</td>\n      <td>...</td>\n      <td>...</td>\n      <td>...</td>\n      <td>...</td>\n      <td>...</td>\n      <td>...</td>\n      <td>...</td>\n      <td>...</td>\n      <td>...</td>\n      <td>...</td>\n    </tr>\n    <tr>\n      <th>248</th>\n      <td>27</td>\n      <td>44.330723</td>\n      <td>61.94807</td>\n      <td>33.595181</td>\n      <td>58</td>\n      <td>29.310345</td>\n      <td>26.755191</td>\n      <td>27.277686</td>\n      <td>38.390682</td>\n      <td>33.630086</td>\n      <td>...</td>\n      <td>-0.399946</td>\n      <td>-0.263430</td>\n      <td>-0.111611</td>\n      <td>2A</td>\n      <td>2B</td>\n      <td>2A</td>\n      <td>2A</td>\n      <td>2A</td>\n      <td>2A</td>\n      <td>2A</td>\n    </tr>\n    <tr>\n      <th>249</th>\n      <td>50</td>\n      <td>44.330723</td>\n      <td>61.94807</td>\n      <td>33.595181</td>\n      <td>149</td>\n      <td>20.805369</td>\n      <td>26.755191</td>\n      <td>27.277686</td>\n      <td>38.390682</td>\n      <td>39.210915</td>\n      <td>...</td>\n      <td>-0.191358</td>\n      <td>-0.152764</td>\n      <td>-0.333149</td>\n      <td>2A</td>\n      <td>2B</td>\n      <td>2A</td>\n      <td>1B</td>\n      <td>2A</td>\n      <td>2A</td>\n      <td>2A</td>\n    </tr>\n    <tr>\n      <th>250</th>\n      <td>27</td>\n      <td>44.330723</td>\n      <td>61.94807</td>\n      <td>33.595181</td>\n      <td>83</td>\n      <td>20.481928</td>\n      <td>26.755191</td>\n      <td>27.277686</td>\n      <td>38.390682</td>\n      <td>40.542378</td>\n      <td>...</td>\n      <td>-0.141593</td>\n      <td>-0.131832</td>\n      <td>-0.341574</td>\n      <td>2A</td>\n      <td>2B</td>\n      <td>2A</td>\n      <td>1B</td>\n      <td>2A</td>\n      <td>2A</td>\n      <td>2A</td>\n    </tr>\n    <tr>\n      <th>251</th>\n      <td>46</td>\n      <td>44.330723</td>\n      <td>61.94807</td>\n      <td>33.595181</td>\n      <td>121</td>\n      <td>22.314050</td>\n      <td>26.755191</td>\n      <td>27.277686</td>\n      <td>38.390682</td>\n      <td>49.230005</td>\n      <td>...</td>\n      <td>0.183115</td>\n      <td>0.049392</td>\n      <td>-0.293851</td>\n      <td>2A</td>\n      <td>5</td>\n      <td>2A</td>\n      <td>1B</td>\n      <td>2A</td>\n      <td>2B</td>\n      <td>2B</td>\n    </tr>\n    <tr>\n      <th>252</th>\n      <td>27</td>\n      <td>44.330723</td>\n      <td>61.94807</td>\n      <td>33.595181</td>\n      <td>56</td>\n      <td>31.250000</td>\n      <td>26.755191</td>\n      <td>27.277686</td>\n      <td>38.390682</td>\n      <td>46.147135</td>\n      <td>...</td>\n      <td>0.067890</td>\n      <td>-0.095267</td>\n      <td>-0.061087</td>\n      <td>2A</td>\n      <td>2B</td>\n      <td>2A</td>\n      <td>2A</td>\n      <td>2A</td>\n      <td>2B</td>\n      <td>2A</td>\n    </tr>\n  </tbody>\n</table>\n<p>234 rows × 23 columns</p>\n</div>"
     },
     "execution_count": 23,
     "metadata": {},
     "output_type": "execute_result"
    }
   ],
   "source": [
    "df_institucion['Nivel autoeficaciaPC'] =  pd.cut(df_institucion['autoeficaciaPC'], bins=[0, 20, 30, 50, 60, 80,100], labels=['1A', '1B', '2A', '2B','3', '5'], include_lowest=True)\n",
    "\n",
    "df_institucion['Nivel autoeficaciaProg'] =  pd.cut(df_institucion['autoeficaciaProg'], bins=[0, 20, 30, 50, 60, 100], labels=['1A', '1B', '2A', '2B', '5'], include_lowest=True)\n",
    "\n",
    "df_institucion['Nivel conocimiento'] =  pd.cut(df_institucion['conocimiento'], bins=[0, 30, 40, 50, 60, 100], labels=['1A', '1B', '2A', '2B', '5'], include_lowest=True)\n",
    "\n",
    "df_institucion['Nivel Interes'] = pd.cut(df_institucion['% Interesado'], bins=[0, 20, 40, 60, 80, 100], labels=['1A', '1B', \"2A\", \"2B\", '5'], include_lowest=True)\n",
    "\n",
    "df_institucion['Nivel Interes pares'] = pd.cut(df_institucion['Diferencia interes'], bins=[-3,-1,0,1,2,3], labels=['1B', \"2A\", \"3\", '4','5'], include_lowest=True)\n",
    "\n",
    "df_institucion['Nivel AutoeficaciaPC pares'] = pd.cut(df_institucion['Diff autoeficaciaPC'], bins=[-3, 0, 1.5, 2, 4], labels=['2A',\"2B\", \"3\", '4'], include_lowest=True)\n",
    "\n",
    "df_institucion['Nivel AutoeficaciaProg pares'] = pd.cut(df_institucion['Diff autoeficaciaProg'], bins=[-3, 0, 1.5, 2, 4], labels=['2A',\"2B\", \"3\", '4'], include_lowest=True)\n",
    "\n",
    "\n",
    "df_institucion"
   ]
  },
  {
   "cell_type": "code",
   "execution_count": 26,
   "metadata": {
    "collapsed": false,
    "jupyter": {
     "outputs_hidden": false
    },
    "pycharm": {
     "name": "#%%\n"
    }
   },
   "outputs": [],
   "source": [
    "df_institucion['Dimensión 7'] = df_institucion.filter(regex='^Nivel').min(axis=1)"
   ]
  },
  {
   "cell_type": "code",
   "execution_count": 27,
   "metadata": {
    "collapsed": false,
    "jupyter": {
     "outputs_hidden": false
    },
    "pycharm": {
     "name": "#%%\n"
    }
   },
   "outputs": [],
   "source": [
    "df_dimension = df_institucion.filter(regex='^Nivel|Dim')\n",
    "df_dimension.reset_index().to_excel('Dimensión 7.xlsx')"
   ]
  },
  {
   "cell_type": "code",
   "execution_count": 28,
   "metadata": {
    "collapsed": false,
    "jupyter": {
     "outputs_hidden": false
    },
    "pycharm": {
     "name": "#%%\n"
    }
   },
   "outputs": [
    {
     "data": {
      "text/plain": "          Nivel autoeficaciaPC Nivel autoeficaciaProg Nivel conocimiento  \\\nCódigo IE                                                                  \n1                           2A                      5                 2A   \n2                           2A                     2B                 2A   \n3                           2A                      5                 2A   \n4                           2A                      5                 2B   \n5                           2B                      5                 2B   \n...                        ...                    ...                ...   \n248                         2A                     2B                 2A   \n249                         2A                     2B                 2A   \n250                         2A                     2B                 2A   \n251                         2A                      5                 2A   \n252                         2A                     2B                 2A   \n\n          Nivel Interes Nivel Interes pares Nivel AutoeficaciaPC pares  \\\nCódigo IE                                                                \n1                    2A                   3                         2B   \n2                    2B                   3                         2A   \n3                    2A                   3                         2B   \n4                    2B                   3                         2B   \n5                    2B                   3                         2B   \n...                 ...                 ...                        ...   \n248                  2A                  2A                         2A   \n249                  1B                  2A                         2A   \n250                  1B                  2A                         2A   \n251                  1B                  2A                         2B   \n252                  2A                  2A                         2B   \n\n          Nivel AutoeficaciaProg pares Dimensión 7  \nCódigo IE                                           \n1                                   2B          2A  \n2                                   2A          2A  \n3                                   2B          2A  \n4                                   2B          2A  \n5                                   2B          2B  \n...                                ...         ...  \n248                                 2A          2A  \n249                                 2A          1B  \n250                                 2A          1B  \n251                                 2B          1B  \n252                                 2A          2A  \n\n[234 rows x 8 columns]",
      "text/html": "<div>\n<style scoped>\n    .dataframe tbody tr th:only-of-type {\n        vertical-align: middle;\n    }\n\n    .dataframe tbody tr th {\n        vertical-align: top;\n    }\n\n    .dataframe thead th {\n        text-align: right;\n    }\n</style>\n<table border=\"1\" class=\"dataframe\">\n  <thead>\n    <tr style=\"text-align: right;\">\n      <th></th>\n      <th>Nivel autoeficaciaPC</th>\n      <th>Nivel autoeficaciaProg</th>\n      <th>Nivel conocimiento</th>\n      <th>Nivel Interes</th>\n      <th>Nivel Interes pares</th>\n      <th>Nivel AutoeficaciaPC pares</th>\n      <th>Nivel AutoeficaciaProg pares</th>\n      <th>Dimensión 7</th>\n    </tr>\n    <tr>\n      <th>Código IE</th>\n      <th></th>\n      <th></th>\n      <th></th>\n      <th></th>\n      <th></th>\n      <th></th>\n      <th></th>\n      <th></th>\n    </tr>\n  </thead>\n  <tbody>\n    <tr>\n      <th>1</th>\n      <td>2A</td>\n      <td>5</td>\n      <td>2A</td>\n      <td>2A</td>\n      <td>3</td>\n      <td>2B</td>\n      <td>2B</td>\n      <td>2A</td>\n    </tr>\n    <tr>\n      <th>2</th>\n      <td>2A</td>\n      <td>2B</td>\n      <td>2A</td>\n      <td>2B</td>\n      <td>3</td>\n      <td>2A</td>\n      <td>2A</td>\n      <td>2A</td>\n    </tr>\n    <tr>\n      <th>3</th>\n      <td>2A</td>\n      <td>5</td>\n      <td>2A</td>\n      <td>2A</td>\n      <td>3</td>\n      <td>2B</td>\n      <td>2B</td>\n      <td>2A</td>\n    </tr>\n    <tr>\n      <th>4</th>\n      <td>2A</td>\n      <td>5</td>\n      <td>2B</td>\n      <td>2B</td>\n      <td>3</td>\n      <td>2B</td>\n      <td>2B</td>\n      <td>2A</td>\n    </tr>\n    <tr>\n      <th>5</th>\n      <td>2B</td>\n      <td>5</td>\n      <td>2B</td>\n      <td>2B</td>\n      <td>3</td>\n      <td>2B</td>\n      <td>2B</td>\n      <td>2B</td>\n    </tr>\n    <tr>\n      <th>...</th>\n      <td>...</td>\n      <td>...</td>\n      <td>...</td>\n      <td>...</td>\n      <td>...</td>\n      <td>...</td>\n      <td>...</td>\n      <td>...</td>\n    </tr>\n    <tr>\n      <th>248</th>\n      <td>2A</td>\n      <td>2B</td>\n      <td>2A</td>\n      <td>2A</td>\n      <td>2A</td>\n      <td>2A</td>\n      <td>2A</td>\n      <td>2A</td>\n    </tr>\n    <tr>\n      <th>249</th>\n      <td>2A</td>\n      <td>2B</td>\n      <td>2A</td>\n      <td>1B</td>\n      <td>2A</td>\n      <td>2A</td>\n      <td>2A</td>\n      <td>1B</td>\n    </tr>\n    <tr>\n      <th>250</th>\n      <td>2A</td>\n      <td>2B</td>\n      <td>2A</td>\n      <td>1B</td>\n      <td>2A</td>\n      <td>2A</td>\n      <td>2A</td>\n      <td>1B</td>\n    </tr>\n    <tr>\n      <th>251</th>\n      <td>2A</td>\n      <td>5</td>\n      <td>2A</td>\n      <td>1B</td>\n      <td>2A</td>\n      <td>2B</td>\n      <td>2B</td>\n      <td>1B</td>\n    </tr>\n    <tr>\n      <th>252</th>\n      <td>2A</td>\n      <td>2B</td>\n      <td>2A</td>\n      <td>2A</td>\n      <td>2A</td>\n      <td>2B</td>\n      <td>2A</td>\n      <td>2A</td>\n    </tr>\n  </tbody>\n</table>\n<p>234 rows × 8 columns</p>\n</div>"
     },
     "execution_count": 28,
     "metadata": {},
     "output_type": "execute_result"
    }
   ],
   "source": [
    "df_dimension"
   ]
  },
  {
   "cell_type": "code",
   "execution_count": null,
   "outputs": [],
   "source": [],
   "metadata": {
    "collapsed": false,
    "pycharm": {
     "name": "#%%\n"
    }
   }
  }
 ],
 "metadata": {
  "kernelspec": {
   "display_name": "Python 3 (ipykernel)",
   "language": "python",
   "name": "python3"
  },
  "language_info": {
   "codemirror_mode": {
    "name": "ipython",
    "version": 3
   },
   "file_extension": ".py",
   "mimetype": "text/x-python",
   "name": "python",
   "nbconvert_exporter": "python",
   "pygments_lexer": "ipython3",
   "version": "3.10.4"
  }
 },
 "nbformat": 4,
 "nbformat_minor": 4
}