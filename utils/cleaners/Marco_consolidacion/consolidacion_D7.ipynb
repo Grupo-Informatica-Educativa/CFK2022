{
 "cells": [
  {
   "cell_type": "code",
   "execution_count": 30,
   "metadata": {
    "collapsed": true
   },
   "outputs": [],
   "source": [
    "import pandas as pd\n",
    "import plotly.express as px"
   ]
  },
  {
   "cell_type": "markdown",
   "source": [
    "## Calificar examen estudiantes: Dimensión 7"
   ],
   "metadata": {
    "collapsed": false,
    "pycharm": {
     "name": "#%% md\n"
    }
   }
  },
  {
   "cell_type": "code",
   "execution_count": 49,
   "outputs": [
    {
     "name": "stdout",
     "output_type": "stream",
     "text": [
      "(9500, 102)\n"
     ]
    },
    {
     "data": {
      "text/plain": "Index(['Timestamp', 'Número de lista', 'Edad', 'Sexo', 'Sector vivienda',\n       'Internet', 'Uso del dispositivo móvil', 'Nivel escolaridad madre',\n       'Nivel escolaridad padre', 'Ocupación madre',\n       ...\n       'Tipo de discapacidad',\n       '¿Te reconoces como una persona con algún tipo de discapacidad?',\n       '1.8 Desarrollo de software', 'Conoce GreenTIC', 'Código IE', 'Grupo',\n       'eliminar - ¿Qué opinas de cada una de estas carreras? [Fila 8]',\n       'eliminar - ¿Qué opinas de cada una de estas carreras? [Fila 7]',\n       'eliminar - ¿Qué opinas de cada una de estas carreras? [0,/]',\n       'eliminar - ¿Qué opinas de cada una de estas carreras? [Fila 3]'],\n      dtype='object', length=102)"
     },
     "execution_count": 49,
     "metadata": {},
     "output_type": "execute_result"
    }
   ],
   "source": [
    "est = pd.read_excel('../../../data/raw/Est_Con_Pre_110522.xlsx')\n",
    "print(est.shape)\n",
    "est.columns"
   ],
   "metadata": {
    "collapsed": false,
    "pycharm": {
     "name": "#%%\n"
    }
   }
  },
  {
   "cell_type": "code",
   "execution_count": 50,
   "outputs": [
    {
     "data": {
      "text/plain": "0    19/04\n1    19/04\n2    19/04\n3    19/04\n4    19/04\nName: Fecha, dtype: object"
     },
     "execution_count": 50,
     "metadata": {},
     "output_type": "execute_result"
    }
   ],
   "source": [
    "est['Timestamp'] = pd.to_datetime(est['Timestamp'])\n",
    "est = est[est.Timestamp>'2022-04-14']\n",
    "est['Fecha'] = est.Timestamp.dt.strftime('%d/%m')\n",
    "est['Fecha'][:5]"
   ],
   "metadata": {
    "collapsed": false,
    "pycharm": {
     "name": "#%%\n"
    }
   }
  },
  {
   "cell_type": "code",
   "execution_count": 51,
   "outputs": [
    {
     "data": {
      "text/plain": "(9254, 71)"
     },
     "execution_count": 51,
     "metadata": {},
     "output_type": "execute_result"
    }
   ],
   "source": [
    "est = est.drop(columns=est.filter(regex=r'eliminar').columns)\n",
    "est = est.drop(columns='Timestamp')\n",
    "est = est.dropna(subset='Número de lista')\n",
    "est = est[est['Código IE']<300]\n",
    "est.shape"
   ],
   "metadata": {
    "collapsed": false,
    "pycharm": {
     "name": "#%%\n"
    }
   }
  },
  {
   "cell_type": "code",
   "execution_count": 52,
   "outputs": [],
   "source": [
    "respuestas_correctas = {\n",
    "    \"Un algoritmo es:\":\"Una secuencia lógica de pasos para realizar una tarea\",\n",
    "    \"¿Para qué sirven los algoritmos?\":\"Para planificar la solución a un problema\",\n",
    "    \"Un bucle es:\":\"Un conjunto de instrucciones que se ejecuta mientras se cumpla una condición\",\n",
    "    \"¿Cuál de las siguientes opciones sí le permite al robot completar la misión de fotografiar cada tortuga?\":\"a.\",\n",
    "    \"¿Qué mensaje deseaba enviar la líder Wayuú?\":\"c. Nublado\",\n",
    "    \"¿Cuál de los siguientes códigos permite que el robot complete su misión sembrando café?\":\"a.\",\n",
    "    \"¿Cuál será la foto con más vistas?\":\"c) Julio\",\n",
    "    \"Ayuda al robot verde a salir del laberinto\":\"b.\",\n",
    "    \"Óscar lleva 2 loncheras a la escuela todos los días ¿Cuál de las siguientes afirmaciones es falsa?\":\"c) Si Óscar empaca Deditos para merendar, puede hacer Arroz de pollo para almorzar\",\n",
    "    \"¿Cuál de las siguientes hamburguesas tiene los ingredientes A, E y F?\":\"a.\",\n",
    "    \"¿Qué botella debe cambiarse de color para que el resultado final sea una botella de color blanco?\":\"a) La botella B debe ser verde\"}"
   ],
   "metadata": {
    "collapsed": false,
    "pycharm": {
     "name": "#%%\n"
    }
   }
  },
  {
   "cell_type": "code",
   "execution_count": 53,
   "outputs": [
    {
     "data": {
      "text/plain": "['Número de lista',\n 'Edad',\n 'Sexo',\n 'Sector vivienda',\n 'Internet',\n 'Uso del dispositivo móvil',\n 'Nivel escolaridad madre',\n 'Nivel escolaridad padre',\n 'Ocupación madre',\n 'Ocupación padre',\n '¿Con quién vives?',\n 'Grado',\n '1.1. Ingeniería',\n '2.1 Soy capaz de sacar buenas notas en esta asignatura',\n '2.2 Si me va bien en esta asignatura, me ayudará en mi futura ocupación',\n '2.3 A mis padres les gustaría que eligiera un futuro profesional relacionado a esta asignatura',\n '2.4 Sé de alguien en mi familia que utiliza conocimientos relacionados a esta asignatura en su ocupación',\n 'comentarios 1-2',\n 'Un algoritmo es:',\n '¿Para qué sirven los algoritmos?',\n 'Un bucle es:',\n '3.1 Siento que soy capaz de explicar lo que es el pensamiento computacional',\n '3.2 Siento que puedo enumerar las sub-habilidades que componen el pensamiento computacional',\n '3.3 Siento que soy capaz de dar ejemplos para explicar las sub-habilidades del pensamiento computacional',\n '3.4 Siento que puedo explicar la forma en que las sub-habilidades del pensamiento computacional se correlacionan con la programación',\n '3.5 Siento que puedo analizar un ejercicio y determinar qué sub-habilidades de pensamiento computacional busca desarrollar',\n '3.6 Siento que puedo resolver problemas a través de programación',\n '3.7 Siento que puedo implementar algoritmos',\n '3.8 Siento que puedo crear un programa de computador',\n '3.9 Siento que puedo automatizar tareas a través de la programación',\n '3.10 Siento que puedo utilizar la computación para resolver problemas simples',\n 'Comentarios P3',\n '¿Cuál de las siguientes opciones sí le permite al robot completar la misión de fotografiar cada tortuga?',\n '¿Qué mensaje deseaba enviar la líder Wayuú?',\n '¿Cuál de los siguientes códigos permite que el robot complete su misión sembrando café?',\n '¿Cuál será la foto con más vistas?',\n 'Ayuda al robot verde a salir del laberinto',\n 'Óscar lleva 2 loncheras a la escuela todos los días ¿Cuál de las siguientes afirmaciones es falsa?',\n '¿Cuál de las siguientes hamburguesas tiene los ingredientes A, E y F?',\n '¿Qué botella debe cambiarse de color para que el resultado final sea una botella de color blanco?',\n 'Comentarios conocimiento',\n '¿Quién crees que ganará el concurso de matemáticas?',\n ' ¿Quién crees que es capitán del barco?',\n '¿Quién es la persona excluida de la construcción de la casa de madera?',\n '¿Quién crees que es el personaje que está sentado y esperando junto a la ventana?',\n '¿Quién es la persona que trabaja en educación?',\n '¿Quién crees que es la persona que prefiere estudiar ingeniería?',\n '¿Quién crees que toma el curso de historia del arte?',\n 'Comentarios género',\n '4.1 Es alarmante que el ritmo de desaparición de especies en la Amazonia Colombiana sea cada vez mayor.',\n '4.2 El aumento de la temperatura atmosférica se debe al uso creciente y continuado de combustibles fósiles (carbón, petróleo…).',\n '4.3 La acumulación de basura procedente de las ciudades es un problema realmente grave.',\n '4.4 Hay una disminución de la superficie forestal y de áreas naturales en el país.',\n '4.5 El planeta está tan contaminado por productos químicos que ya supone un problema para la salud.',\n '4.6 Conozco los riesgos que representa para la vida humana la desaparición de especies animales y vegetales.',\n '4.7 Me preocupa lo que sucede con la tala de árboles.',\n 'Comenarios medioambiente',\n 'Deseo participar en el estudio',\n '1.2 Matemáticas',\n '1.3 Educación',\n '1.4 Medicina',\n '1.5 Diseño gráfico',\n '1.6 Química',\n '1.7 Enfermería',\n 'Tipo de discapacidad',\n '¿Te reconoces como una persona con algún tipo de discapacidad?',\n '1.8 Desarrollo de software',\n 'Conoce GreenTIC',\n 'Código IE',\n 'Grupo',\n 'Fecha']"
     },
     "execution_count": 53,
     "metadata": {},
     "output_type": "execute_result"
    }
   ],
   "source": [
    "est.columns.tolist()"
   ],
   "metadata": {
    "collapsed": false,
    "pycharm": {
     "name": "#%%\n"
    }
   }
  },
  {
   "cell_type": "markdown",
   "source": [],
   "metadata": {
    "collapsed": false
   }
  },
  {
   "cell_type": "code",
   "execution_count": 54,
   "outputs": [
    {
     "data": {
      "text/plain": "['3.2 Siento que puedo enumerar las sub-habilidades que componen el pensamiento computacional',\n '3.3 Siento que soy capaz de dar ejemplos para explicar las sub-habilidades del pensamiento computacional',\n '3.4 Siento que puedo explicar la forma en que las sub-habilidades del pensamiento computacional se correlacionan con la programación',\n '3.5 Siento que puedo analizar un ejercicio y determinar qué sub-habilidades de pensamiento computacional busca desarrollar']"
     },
     "execution_count": 54,
     "metadata": {},
     "output_type": "execute_result"
    }
   ],
   "source": [
    "col_index = ['Edad', 'Sexo', 'Código IE', '¿Te reconoces como una persona con algún tipo de discapacidad?']\n",
    "col_conocePC = est.filter(regex=r'^3.*', axis=1).columns.tolist()[0]\n",
    "col_PC = est.filter(regex=r'^3.*', axis=1).columns.tolist()[1:5]\n",
    "col_autoeficacia = est.filter(regex=r'^3.*', axis=1).columns.tolist()[-5:]\n",
    "col_interes = est.filter(regex=r'^2.1|2.2', axis=1).columns.tolist()\n",
    "col_conocimiento = list(respuestas_correctas.keys())\n",
    "col_PC"
   ],
   "metadata": {
    "collapsed": false,
    "pycharm": {
     "name": "#%%\n"
    }
   }
  },
  {
   "cell_type": "code",
   "execution_count": 55,
   "outputs": [],
   "source": [
    "est = est.reset_index()"
   ],
   "metadata": {
    "collapsed": false,
    "pycharm": {
     "name": "#%%\n"
    }
   }
  },
  {
   "cell_type": "code",
   "execution_count": 56,
   "outputs": [
    {
     "data": {
      "text/plain": "      index  Puntaje interes  Interesado en tecnologia\n0         1            100.0                         1\n1         2             50.0                         1\n2         3             50.0                         1\n3         4            100.0                         1\n4         5              0.0                         0\n...     ...              ...                       ...\n9249   9495             50.0                         1\n9250   9496              0.0                         0\n9251   9497            100.0                         1\n9252   9498              0.0                         0\n9253   9499             50.0                         1\n\n[9254 rows x 3 columns]",
      "text/html": "<div>\n<style scoped>\n    .dataframe tbody tr th:only-of-type {\n        vertical-align: middle;\n    }\n\n    .dataframe tbody tr th {\n        vertical-align: top;\n    }\n\n    .dataframe thead th {\n        text-align: right;\n    }\n</style>\n<table border=\"1\" class=\"dataframe\">\n  <thead>\n    <tr style=\"text-align: right;\">\n      <th></th>\n      <th>index</th>\n      <th>Puntaje interes</th>\n      <th>Interesado en tecnologia</th>\n    </tr>\n  </thead>\n  <tbody>\n    <tr>\n      <th>0</th>\n      <td>1</td>\n      <td>100.0</td>\n      <td>1</td>\n    </tr>\n    <tr>\n      <th>1</th>\n      <td>2</td>\n      <td>50.0</td>\n      <td>1</td>\n    </tr>\n    <tr>\n      <th>2</th>\n      <td>3</td>\n      <td>50.0</td>\n      <td>1</td>\n    </tr>\n    <tr>\n      <th>3</th>\n      <td>4</td>\n      <td>100.0</td>\n      <td>1</td>\n    </tr>\n    <tr>\n      <th>4</th>\n      <td>5</td>\n      <td>0.0</td>\n      <td>0</td>\n    </tr>\n    <tr>\n      <th>...</th>\n      <td>...</td>\n      <td>...</td>\n      <td>...</td>\n    </tr>\n    <tr>\n      <th>9249</th>\n      <td>9495</td>\n      <td>50.0</td>\n      <td>1</td>\n    </tr>\n    <tr>\n      <th>9250</th>\n      <td>9496</td>\n      <td>0.0</td>\n      <td>0</td>\n    </tr>\n    <tr>\n      <th>9251</th>\n      <td>9497</td>\n      <td>100.0</td>\n      <td>1</td>\n    </tr>\n    <tr>\n      <th>9252</th>\n      <td>9498</td>\n      <td>0.0</td>\n      <td>0</td>\n    </tr>\n    <tr>\n      <th>9253</th>\n      <td>9499</td>\n      <td>50.0</td>\n      <td>1</td>\n    </tr>\n  </tbody>\n</table>\n<p>9254 rows × 3 columns</p>\n</div>"
     },
     "execution_count": 56,
     "metadata": {},
     "output_type": "execute_result"
    }
   ],
   "source": [
    "df_interes = est[['index']+col_interes].melt(id_vars='index', value_name='Seleccion', var_name='Pregunta')\n",
    "df_interes['Interes en tecnologia'] = 1*(df_interes['Seleccion'].str.contains('Tecnología'))\n",
    "df_puntaje_interes = df_interes.pivot_table(index='index', values=['Interes en tecnologia'], aggfunc=['sum', 'max']).reset_index()\n",
    "df_puntaje_interes.columns = ['index', 'Puntaje interes', 'Interesado en tecnologia']\n",
    "df_puntaje_interes['Puntaje interes'] = 100*(df_puntaje_interes['Puntaje interes']/2)\n",
    "#df_puntaje_interes = (100*df_interes.groupby('index')['Interes en tecnologia'].sum()/4).reset_index()\n",
    "df_puntaje_interes"
   ],
   "metadata": {
    "collapsed": false,
    "pycharm": {
     "name": "#%%\n"
    }
   }
  },
  {
   "cell_type": "code",
   "execution_count": 57,
   "outputs": [
    {
     "data": {
      "text/plain": "             index  Puntaje conocimiento\ncount  9254.000000           9254.000000\nmean   4764.779123             32.538264\nstd    2745.684477             19.742658\nmin       1.000000              0.000000\n25%    2379.250000             18.181818\n50%    4757.500000             27.272727\n75%    7144.750000             45.454545\nmax    9499.000000            100.000000",
      "text/html": "<div>\n<style scoped>\n    .dataframe tbody tr th:only-of-type {\n        vertical-align: middle;\n    }\n\n    .dataframe tbody tr th {\n        vertical-align: top;\n    }\n\n    .dataframe thead th {\n        text-align: right;\n    }\n</style>\n<table border=\"1\" class=\"dataframe\">\n  <thead>\n    <tr style=\"text-align: right;\">\n      <th></th>\n      <th>index</th>\n      <th>Puntaje conocimiento</th>\n    </tr>\n  </thead>\n  <tbody>\n    <tr>\n      <th>count</th>\n      <td>9254.000000</td>\n      <td>9254.000000</td>\n    </tr>\n    <tr>\n      <th>mean</th>\n      <td>4764.779123</td>\n      <td>32.538264</td>\n    </tr>\n    <tr>\n      <th>std</th>\n      <td>2745.684477</td>\n      <td>19.742658</td>\n    </tr>\n    <tr>\n      <th>min</th>\n      <td>1.000000</td>\n      <td>0.000000</td>\n    </tr>\n    <tr>\n      <th>25%</th>\n      <td>2379.250000</td>\n      <td>18.181818</td>\n    </tr>\n    <tr>\n      <th>50%</th>\n      <td>4757.500000</td>\n      <td>27.272727</td>\n    </tr>\n    <tr>\n      <th>75%</th>\n      <td>7144.750000</td>\n      <td>45.454545</td>\n    </tr>\n    <tr>\n      <th>max</th>\n      <td>9499.000000</td>\n      <td>100.000000</td>\n    </tr>\n  </tbody>\n</table>\n</div>"
     },
     "execution_count": 57,
     "metadata": {},
     "output_type": "execute_result"
    }
   ],
   "source": [
    "\n",
    "df_conocimientos = est[['index']+col_conocimiento].melt(id_vars='index', value_name='Respuesta estudiante', var_name='Pregunta')\n",
    "df_conocimientos['Respuesta correcta'] = df_conocimientos['Pregunta'].replace(respuestas_correctas)\n",
    "df_conocimientos['Puntaje conocimiento'] = 1*(df_conocimientos['Respuesta estudiante'] == df_conocimientos['Respuesta correcta'])\n",
    "df_puntaje = (df_conocimientos.groupby('index')['Puntaje conocimiento'].sum()*100/11).reset_index()\n",
    "df_puntaje.describe()"
   ],
   "metadata": {
    "collapsed": false,
    "pycharm": {
     "name": "#%%\n"
    }
   }
  },
  {
   "cell_type": "code",
   "execution_count": 58,
   "outputs": [
    {
     "data": {
      "text/plain": "      index  Número de lista  Edad       Sexo Sector vivienda Internet  \\\n0         1              3.0  14.0  Masculino          Urbana       Sí   \n1         2              7.0  16.0  Masculino          Urbana       Sí   \n2         3             30.0  14.0   Femenino          Urbana       Sí   \n3         4              6.0  15.0  Masculino          Urbana       No   \n4         5             10.0  14.0   Femenino          Urbana       Sí   \n...     ...              ...   ...        ...             ...      ...   \n9249   9495             19.0  12.0  Masculino          Urbana       Sí   \n9250   9496             13.0  16.0   Femenino          Urbana       Sí   \n9251   9497              8.0  14.0   Femenino          Urbana       Sí   \n9252   9498             12.0  14.0   Femenino           Rural       Sí   \n9253   9499              3.0  11.0   Femenino          Urbana       Sí   \n\n                             Uso del dispositivo móvil  \\\n0                         Uso propio (solo lo usas tú)   \n1                         Uso propio (solo lo usas tú)   \n2                    Uso compartido con otras personas   \n3     No tengo acceso a ningún dispositivo electrónico   \n4                    Uso compartido con otras personas   \n...                                                ...   \n9249                 Uso compartido con otras personas   \n9250                      Uso propio (solo lo usas tú)   \n9251                      Uso propio (solo lo usas tú)   \n9252                      Uso propio (solo lo usas tú)   \n9253                 Uso compartido con otras personas   \n\n     Nivel escolaridad madre Nivel escolaridad padre Ocupación madre  ...  \\\n0        Técnico o tecnólogo    Titulo universitario         Trabaja  ...   \n1       Titulo universitario     Técnico o tecnólogo         Trabaja  ...   \n2                 Secundaría              Secundaría         Trabaja  ...   \n3                      No sé                   No sé         Trabaja  ...   \n4       Titulo universitario              Secundaría         Trabaja  ...   \n...                      ...                     ...             ...  ...   \n9249              Secundaría              Secundaría  Cuida el hogar  ...   \n9250    Titulo universitario     Técnico o tecnólogo  Cuida el hogar  ...   \n9251              Secundaría    Titulo universitario         Trabaja  ...   \n9252                Primaria              Secundaría         Trabaja  ...   \n9253                   No sé              Secundaría  Cuida el hogar  ...   \n\n     Tipo de discapacidad  \\\n0                     NaN   \n1                     NaN   \n2                     NaN   \n3                     NaN   \n4                     NaN   \n...                   ...   \n9249                  NaN   \n9250                  NaN   \n9251                  NaN   \n9252                  NaN   \n9253                  NaN   \n\n     ¿Te reconoces como una persona con algún tipo de discapacidad?  \\\n0                                                    No               \n1                                                    No               \n2                                                    No               \n3                                                    No               \n4                                                    No               \n...                                                 ...               \n9249                                                 No               \n9250                                                 No               \n9251                                                 Sí               \n9252                                                 No               \n9253                                                 No               \n\n     1.8 Desarrollo de software Conoce GreenTIC Código IE   Grupo  Fecha  \\\n0              Me interesa poco              No     166.0  B o 02  19/04   \n1     Está entre mis preferidas              No     166.0  B o 02  19/04   \n2              Me interesa poco              No     166.0  B o 02  19/04   \n3     Está entre mis preferidas              No     166.0  B o 02  19/04   \n4                   La evitaría              No     166.0  B o 02  19/04   \n...                         ...             ...       ...     ...    ...   \n9249                La evitaría              No     246.0  D o 04  11/05   \n9250                La evitaría              No      55.0  A o 01  11/05   \n9251              No la conozco              No     103.0  G o 07  11/05   \n9252              No la conozco              No     189.0  A o 01  11/05   \n9253                La evitaría              No     246.0  D o 04  11/05   \n\n     Puntaje conocimiento Puntaje interes Interesado en tecnologia  \n0               45.454545           100.0                        1  \n1               18.181818            50.0                        1  \n2               36.363636            50.0                        1  \n3               18.181818           100.0                        1  \n4               36.363636             0.0                        0  \n...                   ...             ...                      ...  \n9249            36.363636            50.0                        1  \n9250            27.272727             0.0                        0  \n9251            72.727273           100.0                        1  \n9252             9.090909             0.0                        0  \n9253             9.090909            50.0                        1  \n\n[9254 rows x 75 columns]",
      "text/html": "<div>\n<style scoped>\n    .dataframe tbody tr th:only-of-type {\n        vertical-align: middle;\n    }\n\n    .dataframe tbody tr th {\n        vertical-align: top;\n    }\n\n    .dataframe thead th {\n        text-align: right;\n    }\n</style>\n<table border=\"1\" class=\"dataframe\">\n  <thead>\n    <tr style=\"text-align: right;\">\n      <th></th>\n      <th>index</th>\n      <th>Número de lista</th>\n      <th>Edad</th>\n      <th>Sexo</th>\n      <th>Sector vivienda</th>\n      <th>Internet</th>\n      <th>Uso del dispositivo móvil</th>\n      <th>Nivel escolaridad madre</th>\n      <th>Nivel escolaridad padre</th>\n      <th>Ocupación madre</th>\n      <th>...</th>\n      <th>Tipo de discapacidad</th>\n      <th>¿Te reconoces como una persona con algún tipo de discapacidad?</th>\n      <th>1.8 Desarrollo de software</th>\n      <th>Conoce GreenTIC</th>\n      <th>Código IE</th>\n      <th>Grupo</th>\n      <th>Fecha</th>\n      <th>Puntaje conocimiento</th>\n      <th>Puntaje interes</th>\n      <th>Interesado en tecnologia</th>\n    </tr>\n  </thead>\n  <tbody>\n    <tr>\n      <th>0</th>\n      <td>1</td>\n      <td>3.0</td>\n      <td>14.0</td>\n      <td>Masculino</td>\n      <td>Urbana</td>\n      <td>Sí</td>\n      <td>Uso propio (solo lo usas tú)</td>\n      <td>Técnico o tecnólogo</td>\n      <td>Titulo universitario</td>\n      <td>Trabaja</td>\n      <td>...</td>\n      <td>NaN</td>\n      <td>No</td>\n      <td>Me interesa poco</td>\n      <td>No</td>\n      <td>166.0</td>\n      <td>B o 02</td>\n      <td>19/04</td>\n      <td>45.454545</td>\n      <td>100.0</td>\n      <td>1</td>\n    </tr>\n    <tr>\n      <th>1</th>\n      <td>2</td>\n      <td>7.0</td>\n      <td>16.0</td>\n      <td>Masculino</td>\n      <td>Urbana</td>\n      <td>Sí</td>\n      <td>Uso propio (solo lo usas tú)</td>\n      <td>Titulo universitario</td>\n      <td>Técnico o tecnólogo</td>\n      <td>Trabaja</td>\n      <td>...</td>\n      <td>NaN</td>\n      <td>No</td>\n      <td>Está entre mis preferidas</td>\n      <td>No</td>\n      <td>166.0</td>\n      <td>B o 02</td>\n      <td>19/04</td>\n      <td>18.181818</td>\n      <td>50.0</td>\n      <td>1</td>\n    </tr>\n    <tr>\n      <th>2</th>\n      <td>3</td>\n      <td>30.0</td>\n      <td>14.0</td>\n      <td>Femenino</td>\n      <td>Urbana</td>\n      <td>Sí</td>\n      <td>Uso compartido con otras personas</td>\n      <td>Secundaría</td>\n      <td>Secundaría</td>\n      <td>Trabaja</td>\n      <td>...</td>\n      <td>NaN</td>\n      <td>No</td>\n      <td>Me interesa poco</td>\n      <td>No</td>\n      <td>166.0</td>\n      <td>B o 02</td>\n      <td>19/04</td>\n      <td>36.363636</td>\n      <td>50.0</td>\n      <td>1</td>\n    </tr>\n    <tr>\n      <th>3</th>\n      <td>4</td>\n      <td>6.0</td>\n      <td>15.0</td>\n      <td>Masculino</td>\n      <td>Urbana</td>\n      <td>No</td>\n      <td>No tengo acceso a ningún dispositivo electrónico</td>\n      <td>No sé</td>\n      <td>No sé</td>\n      <td>Trabaja</td>\n      <td>...</td>\n      <td>NaN</td>\n      <td>No</td>\n      <td>Está entre mis preferidas</td>\n      <td>No</td>\n      <td>166.0</td>\n      <td>B o 02</td>\n      <td>19/04</td>\n      <td>18.181818</td>\n      <td>100.0</td>\n      <td>1</td>\n    </tr>\n    <tr>\n      <th>4</th>\n      <td>5</td>\n      <td>10.0</td>\n      <td>14.0</td>\n      <td>Femenino</td>\n      <td>Urbana</td>\n      <td>Sí</td>\n      <td>Uso compartido con otras personas</td>\n      <td>Titulo universitario</td>\n      <td>Secundaría</td>\n      <td>Trabaja</td>\n      <td>...</td>\n      <td>NaN</td>\n      <td>No</td>\n      <td>La evitaría</td>\n      <td>No</td>\n      <td>166.0</td>\n      <td>B o 02</td>\n      <td>19/04</td>\n      <td>36.363636</td>\n      <td>0.0</td>\n      <td>0</td>\n    </tr>\n    <tr>\n      <th>...</th>\n      <td>...</td>\n      <td>...</td>\n      <td>...</td>\n      <td>...</td>\n      <td>...</td>\n      <td>...</td>\n      <td>...</td>\n      <td>...</td>\n      <td>...</td>\n      <td>...</td>\n      <td>...</td>\n      <td>...</td>\n      <td>...</td>\n      <td>...</td>\n      <td>...</td>\n      <td>...</td>\n      <td>...</td>\n      <td>...</td>\n      <td>...</td>\n      <td>...</td>\n      <td>...</td>\n    </tr>\n    <tr>\n      <th>9249</th>\n      <td>9495</td>\n      <td>19.0</td>\n      <td>12.0</td>\n      <td>Masculino</td>\n      <td>Urbana</td>\n      <td>Sí</td>\n      <td>Uso compartido con otras personas</td>\n      <td>Secundaría</td>\n      <td>Secundaría</td>\n      <td>Cuida el hogar</td>\n      <td>...</td>\n      <td>NaN</td>\n      <td>No</td>\n      <td>La evitaría</td>\n      <td>No</td>\n      <td>246.0</td>\n      <td>D o 04</td>\n      <td>11/05</td>\n      <td>36.363636</td>\n      <td>50.0</td>\n      <td>1</td>\n    </tr>\n    <tr>\n      <th>9250</th>\n      <td>9496</td>\n      <td>13.0</td>\n      <td>16.0</td>\n      <td>Femenino</td>\n      <td>Urbana</td>\n      <td>Sí</td>\n      <td>Uso propio (solo lo usas tú)</td>\n      <td>Titulo universitario</td>\n      <td>Técnico o tecnólogo</td>\n      <td>Cuida el hogar</td>\n      <td>...</td>\n      <td>NaN</td>\n      <td>No</td>\n      <td>La evitaría</td>\n      <td>No</td>\n      <td>55.0</td>\n      <td>A o 01</td>\n      <td>11/05</td>\n      <td>27.272727</td>\n      <td>0.0</td>\n      <td>0</td>\n    </tr>\n    <tr>\n      <th>9251</th>\n      <td>9497</td>\n      <td>8.0</td>\n      <td>14.0</td>\n      <td>Femenino</td>\n      <td>Urbana</td>\n      <td>Sí</td>\n      <td>Uso propio (solo lo usas tú)</td>\n      <td>Secundaría</td>\n      <td>Titulo universitario</td>\n      <td>Trabaja</td>\n      <td>...</td>\n      <td>NaN</td>\n      <td>Sí</td>\n      <td>No la conozco</td>\n      <td>No</td>\n      <td>103.0</td>\n      <td>G o 07</td>\n      <td>11/05</td>\n      <td>72.727273</td>\n      <td>100.0</td>\n      <td>1</td>\n    </tr>\n    <tr>\n      <th>9252</th>\n      <td>9498</td>\n      <td>12.0</td>\n      <td>14.0</td>\n      <td>Femenino</td>\n      <td>Rural</td>\n      <td>Sí</td>\n      <td>Uso propio (solo lo usas tú)</td>\n      <td>Primaria</td>\n      <td>Secundaría</td>\n      <td>Trabaja</td>\n      <td>...</td>\n      <td>NaN</td>\n      <td>No</td>\n      <td>No la conozco</td>\n      <td>No</td>\n      <td>189.0</td>\n      <td>A o 01</td>\n      <td>11/05</td>\n      <td>9.090909</td>\n      <td>0.0</td>\n      <td>0</td>\n    </tr>\n    <tr>\n      <th>9253</th>\n      <td>9499</td>\n      <td>3.0</td>\n      <td>11.0</td>\n      <td>Femenino</td>\n      <td>Urbana</td>\n      <td>Sí</td>\n      <td>Uso compartido con otras personas</td>\n      <td>No sé</td>\n      <td>Secundaría</td>\n      <td>Cuida el hogar</td>\n      <td>...</td>\n      <td>NaN</td>\n      <td>No</td>\n      <td>La evitaría</td>\n      <td>No</td>\n      <td>246.0</td>\n      <td>D o 04</td>\n      <td>11/05</td>\n      <td>9.090909</td>\n      <td>50.0</td>\n      <td>1</td>\n    </tr>\n  </tbody>\n</table>\n<p>9254 rows × 75 columns</p>\n</div>"
     },
     "execution_count": 58,
     "metadata": {},
     "output_type": "execute_result"
    }
   ],
   "source": [
    "df_7 = pd.merge(est, df_puntaje, on='index')\n",
    "df_7 = pd.merge(df_7, df_puntaje_interes, on='index')\n",
    "df_7"
   ],
   "metadata": {
    "collapsed": false,
    "pycharm": {
     "name": "#%%\n"
    }
   }
  },
  {
   "cell_type": "code",
   "execution_count": 59,
   "outputs": [],
   "source": [
    "df_7['Media nacional resultados'] = df_7['Puntaje conocimiento'].mean()\n",
    "df_7['Conoce PC'] = 1*(df_7[col_conocePC] > 2)\n",
    "df_7['Puntaje conocimientos PC'] = 100*(df_7[col_PC].mean(axis=1)/5)\n",
    "df_7['Puntaje autoeficacia'] = (df_7[col_autoeficacia].mean(axis=1)*100/5)\n",
    "df_7['Media nacional autoeficacia'] = df_7['Puntaje autoeficacia'].mean()\n"
   ],
   "metadata": {
    "collapsed": false,
    "pycharm": {
     "name": "#%%\n"
    }
   }
  },
  {
   "cell_type": "code",
   "execution_count": 16,
   "outputs": [
    {
     "data": {
      "text/plain": "3.0    2317\n1.0    1663\n2.0    1441\n4.0    1419\n5.0    1106\nName: 3.1 Siento que soy capaz de explicar lo que es el pensamiento computacional, dtype: int64"
     },
     "execution_count": 16,
     "metadata": {},
     "output_type": "execute_result"
    }
   ],
   "source": [
    "df_7[col_conocePC].value_counts()"
   ],
   "metadata": {
    "collapsed": false,
    "pycharm": {
     "name": "#%%\n"
    }
   }
  },
  {
   "cell_type": "code",
   "execution_count": 21,
   "outputs": [],
   "source": [
    "df_7['Media nacional interés'] = df_7['Puntaje interes'].mean()\n"
   ],
   "metadata": {
    "collapsed": false,
    "pycharm": {
     "name": "#%%\n"
    }
   }
  },
  {
   "cell_type": "code",
   "execution_count": 22,
   "outputs": [],
   "source": [
    "df_7.to_excel('Estudiantes_10052022.xlsx', index=False)"
   ],
   "metadata": {
    "collapsed": false,
    "pycharm": {
     "name": "#%%\n"
    }
   }
  },
  {
   "cell_type": "code",
   "execution_count": 23,
   "outputs": [],
   "source": [
    "cols_dimension7 = ['Puntaje conocimiento', 'Media nacional resultados','Puntaje interes', 'Interesado en tecnologia', 'Conoce PC', 'Puntaje conocimientos PC', 'Puntaje autoeficacia', 'Media nacional autoeficacia', 'Media nacional interés', 'index']\n",
    "agrupadores_dimension7 = ['mean', 'max', 'mean', 'sum', 'sum', 'mean','mean', 'max', 'max', 'count']\n",
    "agg_funcs = dict(zip(cols_dimension7, agrupadores_dimension7))"
   ],
   "metadata": {
    "collapsed": false,
    "pycharm": {
     "name": "#%%\n"
    }
   }
  },
  {
   "cell_type": "code",
   "execution_count": 24,
   "outputs": [],
   "source": [
    "df_institucion = df_7.pivot_table(index=['Código IE'], values=cols_dimension7, aggfunc=agg_funcs).rename(columns={'index':'Cantidad estudiantes'})\n",
    "df_institucion['% Conoce PC'] = (df_institucion['Conoce PC']/df_institucion['Cantidad estudiantes'])*100\n",
    "df_institucion['% Interesado'] = (df_institucion['Interesado en tecnologia']/df_institucion['Cantidad estudiantes'])*100"
   ],
   "metadata": {
    "collapsed": false,
    "pycharm": {
     "name": "#%%\n"
    }
   }
  },
  {
   "cell_type": "code",
   "execution_count": 25,
   "outputs": [],
   "source": [
    "df_institucion['Diferencia resultados'] = (df_institucion['Puntaje conocimiento'] - df_institucion['Media nacional resultados'])*100/df_institucion['Media nacional resultados']\n",
    "\n",
    "df_institucion['Diferencia Autoeficacia'] = (df_institucion['Puntaje autoeficacia'] - df_institucion['Media nacional autoeficacia'])*100/df_institucion['Media nacional autoeficacia']\n",
    "\n",
    "df_institucion['Diferencia interes'] = (df_institucion['Puntaje interes'] - df_institucion['Media nacional interés'])*100/df_institucion['Media nacional interés']"
   ],
   "metadata": {
    "collapsed": false,
    "pycharm": {
     "name": "#%%\n"
    }
   }
  },
  {
   "cell_type": "code",
   "execution_count": 26,
   "outputs": [
    {
     "data": {
      "text/plain": "           Conoce PC  Interesado en tecnologia  Media nacional autoeficacia  \\\nCódigo IE                                                                     \n1.0               90                       109                    66.752077   \n2.0               35                        53                    66.752077   \n3.0               41                        43                    66.752077   \n4.0               24                        35                    66.752077   \n5.0               69                        99                    66.752077   \n...              ...                       ...                          ...   \n250.0             37                        50                    66.752077   \n251.0             81                        77                    66.752077   \n252.0             37                        42                    66.752077   \n259.0              1                         0                    66.752077   \n297.0              1                         1                    66.752077   \n\n           Media nacional interés  Media nacional resultados  \\\nCódigo IE                                                      \n1.0                     40.633652                  32.216324   \n2.0                     40.633652                  32.216324   \n3.0                     40.633652                  32.216324   \n4.0                     40.633652                  32.216324   \n5.0                     40.633652                  32.216324   \n...                           ...                        ...   \n250.0                   40.633652                  32.216324   \n251.0                   40.633652                  32.216324   \n252.0                   40.633652                  32.216324   \n259.0                   40.633652                  32.216324   \n297.0                   40.633652                  32.216324   \n\n           Puntaje autoeficacia  Puntaje conocimiento  \\\nCódigo IE                                               \n1.0                   69.466667             28.363636   \n2.0                   59.104478             24.830393   \n3.0                   69.904762             29.870130   \n4.0                   66.222222             33.737374   \n5.0                   73.981651             30.942452   \n...                         ...                   ...   \n250.0                 62.024096             23.767798   \n251.0                 66.909091             25.770098   \n252.0                 62.714286             24.188312   \n259.0                 60.000000              9.090909   \n297.0                 76.000000             27.272727   \n\n           Puntaje conocimientos PC  Puntaje interes  Cantidad estudiantes  \\\nCódigo IE                                                                    \n1.0                       58.566667        36.333333                   150   \n2.0                       51.492537        47.388060                    67   \n3.0                       59.761905        39.285714                    63   \n4.0                       59.555556        46.666667                    45   \n5.0                       61.422018        55.504587                   109   \n...                             ...              ...                   ...   \n250.0                     54.337349        24.397590                    83   \n251.0                     59.504132        27.479339                   121   \n252.0                     57.946429        33.035714                    56   \n259.0                     85.000000         0.000000                     1   \n297.0                     70.000000        25.000000                     1   \n\n           % Conoce PC  % Interesado  Diferencia resultados  \\\nCódigo IE                                                     \n1.0          60.000000     72.666667             -11.958805   \n2.0          52.238806     79.104478             -22.926049   \n3.0          65.079365     68.253968              -7.282625   \n4.0          53.333333     77.777778               4.721364   \n5.0          63.302752     90.825688              -3.954119   \n...                ...           ...                    ...   \n250.0        44.578313     60.240964             -26.224362   \n251.0        66.942149     63.636364             -20.009192   \n252.0        66.071429     75.000000             -24.919082   \n259.0       100.000000      0.000000             -71.781668   \n297.0       100.000000    100.000000             -15.345005   \n\n           Diferencia Autoeficacia  Diferencia interes  \nCódigo IE                                               \n1.0                       4.066675          -10.583146  \n2.0                     -11.456721           16.622694  \n3.0                       4.722977           -3.317294  \n4.0                      -0.793765           14.847335  \n5.0                      10.830487           36.597584  \n...                            ...                 ...  \n250.0                    -7.082896          -39.957181  \n251.0                     0.235220          -32.372953  \n252.0                    -6.048937          -18.698634  \n259.0                   -10.115156         -100.000000  \n297.0                    13.854136          -38.474642  \n\n[135 rows x 15 columns]",
      "text/html": "<div>\n<style scoped>\n    .dataframe tbody tr th:only-of-type {\n        vertical-align: middle;\n    }\n\n    .dataframe tbody tr th {\n        vertical-align: top;\n    }\n\n    .dataframe thead th {\n        text-align: right;\n    }\n</style>\n<table border=\"1\" class=\"dataframe\">\n  <thead>\n    <tr style=\"text-align: right;\">\n      <th></th>\n      <th>Conoce PC</th>\n      <th>Interesado en tecnologia</th>\n      <th>Media nacional autoeficacia</th>\n      <th>Media nacional interés</th>\n      <th>Media nacional resultados</th>\n      <th>Puntaje autoeficacia</th>\n      <th>Puntaje conocimiento</th>\n      <th>Puntaje conocimientos PC</th>\n      <th>Puntaje interes</th>\n      <th>Cantidad estudiantes</th>\n      <th>% Conoce PC</th>\n      <th>% Interesado</th>\n      <th>Diferencia resultados</th>\n      <th>Diferencia Autoeficacia</th>\n      <th>Diferencia interes</th>\n    </tr>\n    <tr>\n      <th>Código IE</th>\n      <th></th>\n      <th></th>\n      <th></th>\n      <th></th>\n      <th></th>\n      <th></th>\n      <th></th>\n      <th></th>\n      <th></th>\n      <th></th>\n      <th></th>\n      <th></th>\n      <th></th>\n      <th></th>\n      <th></th>\n    </tr>\n  </thead>\n  <tbody>\n    <tr>\n      <th>1.0</th>\n      <td>90</td>\n      <td>109</td>\n      <td>66.752077</td>\n      <td>40.633652</td>\n      <td>32.216324</td>\n      <td>69.466667</td>\n      <td>28.363636</td>\n      <td>58.566667</td>\n      <td>36.333333</td>\n      <td>150</td>\n      <td>60.000000</td>\n      <td>72.666667</td>\n      <td>-11.958805</td>\n      <td>4.066675</td>\n      <td>-10.583146</td>\n    </tr>\n    <tr>\n      <th>2.0</th>\n      <td>35</td>\n      <td>53</td>\n      <td>66.752077</td>\n      <td>40.633652</td>\n      <td>32.216324</td>\n      <td>59.104478</td>\n      <td>24.830393</td>\n      <td>51.492537</td>\n      <td>47.388060</td>\n      <td>67</td>\n      <td>52.238806</td>\n      <td>79.104478</td>\n      <td>-22.926049</td>\n      <td>-11.456721</td>\n      <td>16.622694</td>\n    </tr>\n    <tr>\n      <th>3.0</th>\n      <td>41</td>\n      <td>43</td>\n      <td>66.752077</td>\n      <td>40.633652</td>\n      <td>32.216324</td>\n      <td>69.904762</td>\n      <td>29.870130</td>\n      <td>59.761905</td>\n      <td>39.285714</td>\n      <td>63</td>\n      <td>65.079365</td>\n      <td>68.253968</td>\n      <td>-7.282625</td>\n      <td>4.722977</td>\n      <td>-3.317294</td>\n    </tr>\n    <tr>\n      <th>4.0</th>\n      <td>24</td>\n      <td>35</td>\n      <td>66.752077</td>\n      <td>40.633652</td>\n      <td>32.216324</td>\n      <td>66.222222</td>\n      <td>33.737374</td>\n      <td>59.555556</td>\n      <td>46.666667</td>\n      <td>45</td>\n      <td>53.333333</td>\n      <td>77.777778</td>\n      <td>4.721364</td>\n      <td>-0.793765</td>\n      <td>14.847335</td>\n    </tr>\n    <tr>\n      <th>5.0</th>\n      <td>69</td>\n      <td>99</td>\n      <td>66.752077</td>\n      <td>40.633652</td>\n      <td>32.216324</td>\n      <td>73.981651</td>\n      <td>30.942452</td>\n      <td>61.422018</td>\n      <td>55.504587</td>\n      <td>109</td>\n      <td>63.302752</td>\n      <td>90.825688</td>\n      <td>-3.954119</td>\n      <td>10.830487</td>\n      <td>36.597584</td>\n    </tr>\n    <tr>\n      <th>...</th>\n      <td>...</td>\n      <td>...</td>\n      <td>...</td>\n      <td>...</td>\n      <td>...</td>\n      <td>...</td>\n      <td>...</td>\n      <td>...</td>\n      <td>...</td>\n      <td>...</td>\n      <td>...</td>\n      <td>...</td>\n      <td>...</td>\n      <td>...</td>\n      <td>...</td>\n    </tr>\n    <tr>\n      <th>250.0</th>\n      <td>37</td>\n      <td>50</td>\n      <td>66.752077</td>\n      <td>40.633652</td>\n      <td>32.216324</td>\n      <td>62.024096</td>\n      <td>23.767798</td>\n      <td>54.337349</td>\n      <td>24.397590</td>\n      <td>83</td>\n      <td>44.578313</td>\n      <td>60.240964</td>\n      <td>-26.224362</td>\n      <td>-7.082896</td>\n      <td>-39.957181</td>\n    </tr>\n    <tr>\n      <th>251.0</th>\n      <td>81</td>\n      <td>77</td>\n      <td>66.752077</td>\n      <td>40.633652</td>\n      <td>32.216324</td>\n      <td>66.909091</td>\n      <td>25.770098</td>\n      <td>59.504132</td>\n      <td>27.479339</td>\n      <td>121</td>\n      <td>66.942149</td>\n      <td>63.636364</td>\n      <td>-20.009192</td>\n      <td>0.235220</td>\n      <td>-32.372953</td>\n    </tr>\n    <tr>\n      <th>252.0</th>\n      <td>37</td>\n      <td>42</td>\n      <td>66.752077</td>\n      <td>40.633652</td>\n      <td>32.216324</td>\n      <td>62.714286</td>\n      <td>24.188312</td>\n      <td>57.946429</td>\n      <td>33.035714</td>\n      <td>56</td>\n      <td>66.071429</td>\n      <td>75.000000</td>\n      <td>-24.919082</td>\n      <td>-6.048937</td>\n      <td>-18.698634</td>\n    </tr>\n    <tr>\n      <th>259.0</th>\n      <td>1</td>\n      <td>0</td>\n      <td>66.752077</td>\n      <td>40.633652</td>\n      <td>32.216324</td>\n      <td>60.000000</td>\n      <td>9.090909</td>\n      <td>85.000000</td>\n      <td>0.000000</td>\n      <td>1</td>\n      <td>100.000000</td>\n      <td>0.000000</td>\n      <td>-71.781668</td>\n      <td>-10.115156</td>\n      <td>-100.000000</td>\n    </tr>\n    <tr>\n      <th>297.0</th>\n      <td>1</td>\n      <td>1</td>\n      <td>66.752077</td>\n      <td>40.633652</td>\n      <td>32.216324</td>\n      <td>76.000000</td>\n      <td>27.272727</td>\n      <td>70.000000</td>\n      <td>25.000000</td>\n      <td>1</td>\n      <td>100.000000</td>\n      <td>100.000000</td>\n      <td>-15.345005</td>\n      <td>13.854136</td>\n      <td>-38.474642</td>\n    </tr>\n  </tbody>\n</table>\n<p>135 rows × 15 columns</p>\n</div>"
     },
     "execution_count": 26,
     "metadata": {},
     "output_type": "execute_result"
    }
   ],
   "source": [
    "df_institucion"
   ],
   "metadata": {
    "collapsed": false,
    "pycharm": {
     "name": "#%%\n"
    }
   }
  },
  {
   "cell_type": "code",
   "execution_count": 27,
   "outputs": [
    {
     "data": {
      "text/plain": "           Conoce PC  Interesado en tecnologia  Media nacional autoeficacia  \\\nCódigo IE                                                                     \n1.0               90                       109                    66.752077   \n2.0               35                        53                    66.752077   \n3.0               41                        43                    66.752077   \n4.0               24                        35                    66.752077   \n5.0               69                        99                    66.752077   \n...              ...                       ...                          ...   \n250.0             37                        50                    66.752077   \n251.0             81                        77                    66.752077   \n252.0             37                        42                    66.752077   \n259.0              1                         0                    66.752077   \n297.0              1                         1                    66.752077   \n\n           Media nacional interés  Media nacional resultados  \\\nCódigo IE                                                      \n1.0                     40.633652                  32.216324   \n2.0                     40.633652                  32.216324   \n3.0                     40.633652                  32.216324   \n4.0                     40.633652                  32.216324   \n5.0                     40.633652                  32.216324   \n...                           ...                        ...   \n250.0                   40.633652                  32.216324   \n251.0                   40.633652                  32.216324   \n252.0                   40.633652                  32.216324   \n259.0                   40.633652                  32.216324   \n297.0                   40.633652                  32.216324   \n\n           Puntaje autoeficacia  Puntaje conocimiento  \\\nCódigo IE                                               \n1.0                   69.466667             28.363636   \n2.0                   59.104478             24.830393   \n3.0                   69.904762             29.870130   \n4.0                   66.222222             33.737374   \n5.0                   73.981651             30.942452   \n...                         ...                   ...   \n250.0                 62.024096             23.767798   \n251.0                 66.909091             25.770098   \n252.0                 62.714286             24.188312   \n259.0                 60.000000              9.090909   \n297.0                 76.000000             27.272727   \n\n           Puntaje conocimientos PC  Puntaje interes  Cantidad estudiantes  \\\nCódigo IE                                                                    \n1.0                       58.566667        36.333333                   150   \n2.0                       51.492537        47.388060                    67   \n3.0                       59.761905        39.285714                    63   \n4.0                       59.555556        46.666667                    45   \n5.0                       61.422018        55.504587                   109   \n...                             ...              ...                   ...   \n250.0                     54.337349        24.397590                    83   \n251.0                     59.504132        27.479339                   121   \n252.0                     57.946429        33.035714                    56   \n259.0                     85.000000         0.000000                     1   \n297.0                     70.000000        25.000000                     1   \n\n           ...  Diferencia resultados  Diferencia Autoeficacia  \\\nCódigo IE  ...                                                   \n1.0        ...             -11.958805                 4.066675   \n2.0        ...             -22.926049               -11.456721   \n3.0        ...              -7.282625                 4.722977   \n4.0        ...               4.721364                -0.793765   \n5.0        ...              -3.954119                10.830487   \n...        ...                    ...                      ...   \n250.0      ...             -26.224362                -7.082896   \n251.0      ...             -20.009192                 0.235220   \n252.0      ...             -24.919082                -6.048937   \n259.0      ...             -71.781668               -10.115156   \n297.0      ...             -15.345005                13.854136   \n\n           Diferencia interes  Nivel ConocePC  Nivel PuntajePC  \\\nCódigo IE                                                        \n1.0                -10.583146              2B               1B   \n2.0                 16.622694              2B               1B   \n3.0                 -3.317294               3               1B   \n4.0                 14.847335              2B               1B   \n5.0                 36.597584               3               2A   \n...                       ...             ...              ...   \n250.0              -39.957181              2A               1B   \n251.0              -32.372953               3               1B   \n252.0              -18.698634               3               1B   \n259.0             -100.000000               3                3   \n297.0              -38.474642               3               2A   \n\n          Nivel Resultados Nivel Interes Nivel Interes pares  \\\nCódigo IE                                                      \n1.0                     2A            2B                  2B   \n2.0                     2A            2B                   4   \n3.0                     2A            2B                  2B   \n4.0                     2B            2B                   4   \n5.0                     2A             4                   4   \n...                    ...           ...                 ...   \n250.0                   2A            2B                  2A   \n251.0                   2A            2B                  2A   \n252.0                   2A            2B                  2B   \n259.0                   1A            1A                  1B   \n297.0                   2A             4                  2A   \n\n          Nivel Autoeficacia Nivel Autoeficacia pares  \nCódigo IE                                              \n1.0                        4                       2B  \n2.0                       2A                       2A  \n3.0                        4                       2B  \n4.0                        4                       2A  \n5.0                        4                        3  \n...                      ...                      ...  \n250.0                      4                       2A  \n251.0                      4                       2B  \n252.0                      4                       2A  \n259.0                     2A                       2A  \n297.0                      4                        3  \n\n[135 rows x 22 columns]",
      "text/html": "<div>\n<style scoped>\n    .dataframe tbody tr th:only-of-type {\n        vertical-align: middle;\n    }\n\n    .dataframe tbody tr th {\n        vertical-align: top;\n    }\n\n    .dataframe thead th {\n        text-align: right;\n    }\n</style>\n<table border=\"1\" class=\"dataframe\">\n  <thead>\n    <tr style=\"text-align: right;\">\n      <th></th>\n      <th>Conoce PC</th>\n      <th>Interesado en tecnologia</th>\n      <th>Media nacional autoeficacia</th>\n      <th>Media nacional interés</th>\n      <th>Media nacional resultados</th>\n      <th>Puntaje autoeficacia</th>\n      <th>Puntaje conocimiento</th>\n      <th>Puntaje conocimientos PC</th>\n      <th>Puntaje interes</th>\n      <th>Cantidad estudiantes</th>\n      <th>...</th>\n      <th>Diferencia resultados</th>\n      <th>Diferencia Autoeficacia</th>\n      <th>Diferencia interes</th>\n      <th>Nivel ConocePC</th>\n      <th>Nivel PuntajePC</th>\n      <th>Nivel Resultados</th>\n      <th>Nivel Interes</th>\n      <th>Nivel Interes pares</th>\n      <th>Nivel Autoeficacia</th>\n      <th>Nivel Autoeficacia pares</th>\n    </tr>\n    <tr>\n      <th>Código IE</th>\n      <th></th>\n      <th></th>\n      <th></th>\n      <th></th>\n      <th></th>\n      <th></th>\n      <th></th>\n      <th></th>\n      <th></th>\n      <th></th>\n      <th></th>\n      <th></th>\n      <th></th>\n      <th></th>\n      <th></th>\n      <th></th>\n      <th></th>\n      <th></th>\n      <th></th>\n      <th></th>\n      <th></th>\n    </tr>\n  </thead>\n  <tbody>\n    <tr>\n      <th>1.0</th>\n      <td>90</td>\n      <td>109</td>\n      <td>66.752077</td>\n      <td>40.633652</td>\n      <td>32.216324</td>\n      <td>69.466667</td>\n      <td>28.363636</td>\n      <td>58.566667</td>\n      <td>36.333333</td>\n      <td>150</td>\n      <td>...</td>\n      <td>-11.958805</td>\n      <td>4.066675</td>\n      <td>-10.583146</td>\n      <td>2B</td>\n      <td>1B</td>\n      <td>2A</td>\n      <td>2B</td>\n      <td>2B</td>\n      <td>4</td>\n      <td>2B</td>\n    </tr>\n    <tr>\n      <th>2.0</th>\n      <td>35</td>\n      <td>53</td>\n      <td>66.752077</td>\n      <td>40.633652</td>\n      <td>32.216324</td>\n      <td>59.104478</td>\n      <td>24.830393</td>\n      <td>51.492537</td>\n      <td>47.388060</td>\n      <td>67</td>\n      <td>...</td>\n      <td>-22.926049</td>\n      <td>-11.456721</td>\n      <td>16.622694</td>\n      <td>2B</td>\n      <td>1B</td>\n      <td>2A</td>\n      <td>2B</td>\n      <td>4</td>\n      <td>2A</td>\n      <td>2A</td>\n    </tr>\n    <tr>\n      <th>3.0</th>\n      <td>41</td>\n      <td>43</td>\n      <td>66.752077</td>\n      <td>40.633652</td>\n      <td>32.216324</td>\n      <td>69.904762</td>\n      <td>29.870130</td>\n      <td>59.761905</td>\n      <td>39.285714</td>\n      <td>63</td>\n      <td>...</td>\n      <td>-7.282625</td>\n      <td>4.722977</td>\n      <td>-3.317294</td>\n      <td>3</td>\n      <td>1B</td>\n      <td>2A</td>\n      <td>2B</td>\n      <td>2B</td>\n      <td>4</td>\n      <td>2B</td>\n    </tr>\n    <tr>\n      <th>4.0</th>\n      <td>24</td>\n      <td>35</td>\n      <td>66.752077</td>\n      <td>40.633652</td>\n      <td>32.216324</td>\n      <td>66.222222</td>\n      <td>33.737374</td>\n      <td>59.555556</td>\n      <td>46.666667</td>\n      <td>45</td>\n      <td>...</td>\n      <td>4.721364</td>\n      <td>-0.793765</td>\n      <td>14.847335</td>\n      <td>2B</td>\n      <td>1B</td>\n      <td>2B</td>\n      <td>2B</td>\n      <td>4</td>\n      <td>4</td>\n      <td>2A</td>\n    </tr>\n    <tr>\n      <th>5.0</th>\n      <td>69</td>\n      <td>99</td>\n      <td>66.752077</td>\n      <td>40.633652</td>\n      <td>32.216324</td>\n      <td>73.981651</td>\n      <td>30.942452</td>\n      <td>61.422018</td>\n      <td>55.504587</td>\n      <td>109</td>\n      <td>...</td>\n      <td>-3.954119</td>\n      <td>10.830487</td>\n      <td>36.597584</td>\n      <td>3</td>\n      <td>2A</td>\n      <td>2A</td>\n      <td>4</td>\n      <td>4</td>\n      <td>4</td>\n      <td>3</td>\n    </tr>\n    <tr>\n      <th>...</th>\n      <td>...</td>\n      <td>...</td>\n      <td>...</td>\n      <td>...</td>\n      <td>...</td>\n      <td>...</td>\n      <td>...</td>\n      <td>...</td>\n      <td>...</td>\n      <td>...</td>\n      <td>...</td>\n      <td>...</td>\n      <td>...</td>\n      <td>...</td>\n      <td>...</td>\n      <td>...</td>\n      <td>...</td>\n      <td>...</td>\n      <td>...</td>\n      <td>...</td>\n      <td>...</td>\n    </tr>\n    <tr>\n      <th>250.0</th>\n      <td>37</td>\n      <td>50</td>\n      <td>66.752077</td>\n      <td>40.633652</td>\n      <td>32.216324</td>\n      <td>62.024096</td>\n      <td>23.767798</td>\n      <td>54.337349</td>\n      <td>24.397590</td>\n      <td>83</td>\n      <td>...</td>\n      <td>-26.224362</td>\n      <td>-7.082896</td>\n      <td>-39.957181</td>\n      <td>2A</td>\n      <td>1B</td>\n      <td>2A</td>\n      <td>2B</td>\n      <td>2A</td>\n      <td>4</td>\n      <td>2A</td>\n    </tr>\n    <tr>\n      <th>251.0</th>\n      <td>81</td>\n      <td>77</td>\n      <td>66.752077</td>\n      <td>40.633652</td>\n      <td>32.216324</td>\n      <td>66.909091</td>\n      <td>25.770098</td>\n      <td>59.504132</td>\n      <td>27.479339</td>\n      <td>121</td>\n      <td>...</td>\n      <td>-20.009192</td>\n      <td>0.235220</td>\n      <td>-32.372953</td>\n      <td>3</td>\n      <td>1B</td>\n      <td>2A</td>\n      <td>2B</td>\n      <td>2A</td>\n      <td>4</td>\n      <td>2B</td>\n    </tr>\n    <tr>\n      <th>252.0</th>\n      <td>37</td>\n      <td>42</td>\n      <td>66.752077</td>\n      <td>40.633652</td>\n      <td>32.216324</td>\n      <td>62.714286</td>\n      <td>24.188312</td>\n      <td>57.946429</td>\n      <td>33.035714</td>\n      <td>56</td>\n      <td>...</td>\n      <td>-24.919082</td>\n      <td>-6.048937</td>\n      <td>-18.698634</td>\n      <td>3</td>\n      <td>1B</td>\n      <td>2A</td>\n      <td>2B</td>\n      <td>2B</td>\n      <td>4</td>\n      <td>2A</td>\n    </tr>\n    <tr>\n      <th>259.0</th>\n      <td>1</td>\n      <td>0</td>\n      <td>66.752077</td>\n      <td>40.633652</td>\n      <td>32.216324</td>\n      <td>60.000000</td>\n      <td>9.090909</td>\n      <td>85.000000</td>\n      <td>0.000000</td>\n      <td>1</td>\n      <td>...</td>\n      <td>-71.781668</td>\n      <td>-10.115156</td>\n      <td>-100.000000</td>\n      <td>3</td>\n      <td>3</td>\n      <td>1A</td>\n      <td>1A</td>\n      <td>1B</td>\n      <td>2A</td>\n      <td>2A</td>\n    </tr>\n    <tr>\n      <th>297.0</th>\n      <td>1</td>\n      <td>1</td>\n      <td>66.752077</td>\n      <td>40.633652</td>\n      <td>32.216324</td>\n      <td>76.000000</td>\n      <td>27.272727</td>\n      <td>70.000000</td>\n      <td>25.000000</td>\n      <td>1</td>\n      <td>...</td>\n      <td>-15.345005</td>\n      <td>13.854136</td>\n      <td>-38.474642</td>\n      <td>3</td>\n      <td>2A</td>\n      <td>2A</td>\n      <td>4</td>\n      <td>2A</td>\n      <td>4</td>\n      <td>3</td>\n    </tr>\n  </tbody>\n</table>\n<p>135 rows × 22 columns</p>\n</div>"
     },
     "execution_count": 27,
     "metadata": {},
     "output_type": "execute_result"
    }
   ],
   "source": [
    "df_institucion['Nivel ConocePC'] =  pd.cut(df_institucion['% Conoce PC'], bins=[0, 20, 40, 50, 60, 100], labels=['1A', '1B', '2A', '2B', '3'], include_lowest=True)\n",
    "\n",
    "df_institucion['Nivel PuntajePC'] =  pd.cut(df_institucion['Puntaje conocimientos PC'], bins=[0, 50, 60,70, 100], labels=['1A', '1B',\"2A\",'3'], include_lowest=True)\n",
    "\n",
    "df_institucion['Nivel Resultados'] = pd.cut(df_institucion['Diferencia resultados'], bins=[-100, -50, -30,  0, 10,20, 100], labels=['1A', '1B', \"2A\", \"2B\", '3', '4'], include_lowest=True)\n",
    "\n",
    "df_institucion['Nivel Interes'] = pd.cut(df_institucion['% Interesado'], bins=[0, 20, 40, 60, 80, 100], labels=['1A', '1B', \"2A\", \"2B\", '4'], include_lowest=True)\n",
    "\n",
    "df_institucion['Nivel Interes pares'] = pd.cut(df_institucion['Diferencia interes'], bins=[-100,-50, -30, 0 , 200], labels=['1B', \"2A\", \"2B\", '4'], include_lowest=True)\n",
    "\n",
    "df_institucion['Nivel Autoeficacia'] = pd.cut(df_institucion['Puntaje autoeficacia'], bins=[0, 30, 60, 100], labels=['1B', \"2A\", '4'], include_lowest=True)\n",
    "\n",
    "df_institucion['Nivel Autoeficacia pares'] = pd.cut(df_institucion['Diferencia Autoeficacia'], bins=[-100, 0, 10, 20, 100], labels=['2A',\"2B\", \"3\", '4'], include_lowest=True)\n",
    "\n",
    "\n",
    "df_institucion"
   ],
   "metadata": {
    "collapsed": false,
    "pycharm": {
     "name": "#%%\n"
    }
   }
  },
  {
   "cell_type": "code",
   "execution_count": 29,
   "outputs": [
    {
     "data": {
      "text/plain": "3     78\n2B    37\n2A    11\n1A     6\n1B     3\nName: Nivel ConocePC, dtype: int64"
     },
     "execution_count": 29,
     "metadata": {},
     "output_type": "execute_result"
    }
   ],
   "source": [
    "df_institucion['Nivel ConocePC'].value_counts()"
   ],
   "metadata": {
    "collapsed": false,
    "pycharm": {
     "name": "#%%\n"
    }
   }
  },
  {
   "cell_type": "code",
   "execution_count": 28,
   "outputs": [],
   "source": [
    "df_institucion['Dimensión 7'] = df_institucion.filter(regex='^Nivel').min(axis=1)"
   ],
   "metadata": {
    "collapsed": false,
    "pycharm": {
     "name": "#%%\n"
    }
   }
  },
  {
   "cell_type": "code",
   "execution_count": 30,
   "outputs": [],
   "source": [
    "df_institucion.to_excel('Dimensión 7.xlsx')"
   ],
   "metadata": {
    "collapsed": false,
    "pycharm": {
     "name": "#%%\n"
    }
   }
  },
  {
   "cell_type": "code",
   "execution_count": 29,
   "outputs": [
    {
     "data": {
      "text/plain": "Código IE\n1.0      1B\n2.0      1B\n3.0      1B\n4.0      1B\n5.0      2A\n         ..\n250.0    1B\n251.0    1B\n252.0    1B\n259.0    1A\n297.0    2A\nName: Dimensión 7, Length: 135, dtype: object"
     },
     "execution_count": 29,
     "metadata": {},
     "output_type": "execute_result"
    }
   ],
   "source": [
    "df_institucion['Dimensión 7']"
   ],
   "metadata": {
    "collapsed": false,
    "pycharm": {
     "name": "#%%\n"
    }
   }
  },
  {
   "cell_type": "code",
   "execution_count": null,
   "outputs": [],
   "source": [],
   "metadata": {
    "collapsed": false,
    "pycharm": {
     "name": "#%%\n"
    }
   }
  }
 ],
 "metadata": {
  "kernelspec": {
   "display_name": "Python 3",
   "language": "python",
   "name": "python3"
  },
  "language_info": {
   "codemirror_mode": {
    "name": "ipython",
    "version": 2
   },
   "file_extension": ".py",
   "mimetype": "text/x-python",
   "name": "python",
   "nbconvert_exporter": "python",
   "pygments_lexer": "ipython2",
   "version": "2.7.6"
  }
 },
 "nbformat": 4,
 "nbformat_minor": 0
}