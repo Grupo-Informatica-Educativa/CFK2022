{
 "cells": [
  {
   "cell_type": "code",
   "execution_count": 1,
   "metadata": {
    "collapsed": true
   },
   "outputs": [],
   "source": [
    "import pandas as pd\n",
    "import plotly.express as px"
   ]
  },
  {
   "cell_type": "markdown",
   "source": [
    "## Desarrollo profesional Dimensión 4"
   ],
   "metadata": {
    "collapsed": false,
    "pycharm": {
     "name": "#%% md\n"
    }
   }
  },
  {
   "cell_type": "markdown",
   "source": [
    "#### Docentes"
   ],
   "metadata": {
    "collapsed": false,
    "pycharm": {
     "name": "#%% md\n"
    }
   }
  },
  {
   "cell_type": "code",
   "source": [
    "doc = pd.read_excel('/home/mariana/Documents/GitHub/CFK2022/data/raw/Doc_Con_Pre_100522.xlsx')\n",
    "print(doc.shape)\n",
    "print(doc.columns)\n",
    "doc['Timestamp'] = pd.to_datetime(doc['Timestamp'])\n",
    "doc = doc[doc.Timestamp>'2022-04-14']\n",
    "doc['Fecha'] = doc.Timestamp.dt.strftime('%d/%m')\n",
    "doc['Fecha'][:5]"
   ],
   "metadata": {
    "collapsed": false,
    "pycharm": {
     "name": "#%%\n"
    }
   },
   "execution_count": 2,
   "outputs": [
    {
     "name": "stdout",
     "output_type": "stream",
     "text": [
      "(4477, 89)\n",
      "Index(['Timestamp', 'Política de datos', 'Código IE', 'Tipo ID', 'ID', 'Email',\n",
      "       'Edad', 'Sexo', 'Cabeza de hogar', 'Estado civil', 'Líder comunitario',\n",
      "       'Formado CFK', 'Implementa fichas', 'Formado tecnología e informática',\n",
      "       '¿Cuáles de las siguientes áreas enseña y en qué grado? [Ciencias naturales y educación ambiental.]',\n",
      "       '¿Cuáles de las siguientes áreas enseña y en qué grado? [Ciencias sociales, historia, geografía, constitución política y democracia.]',\n",
      "       '¿Cuáles de las siguientes áreas enseña y en qué grado? [Educación artística.]',\n",
      "       '¿Cuáles de las siguientes áreas enseña y en qué grado? [Educación ética y en valores humanos.]',\n",
      "       '¿Cuáles de las siguientes áreas enseña y en qué grado? [Educación física, recreación y deportes.]',\n",
      "       '¿Cuáles de las siguientes áreas enseña y en qué grado? [Educación religiosa.]',\n",
      "       '¿Cuáles de las siguientes áreas enseña y en qué grado? [Humanidades, lengua castellana e idiomas extranjeros.]',\n",
      "       '¿Cuáles de las siguientes áreas enseña y en qué grado? [Matemáticas.]',\n",
      "       '¿Cuáles de las siguientes áreas enseña y en qué grado? [Tecnología e informática.]',\n",
      "       '¿Cuáles de las siguientes áreas enseña y en qué grado? [Otro]',\n",
      "       'Enseña STEM', 'Formado STEM',\n",
      "       'Considera importante enseñar el pensamiento computacional desde los primeros niveles educativos',\n",
      "       '1.1 Siento que puedo aplicar las prácticas y habilidades del pensamiento computacional a mi trabajo',\n",
      "       '1.2 Siento que puedo definir el pensamiento computacional',\n",
      "       '1.3 Siento que puedo describir las prácticas y habilidades que componen el pensamiento computacional a mis estudiantes',\n",
      "       '1.4 Siento que puedo aplicar las prácticas y habilidades del pensamiento computacional a mi vida diaria',\n",
      "       '2.1 Creo que tengo las habilidades para desarrollar el pensamiento computacional en mis estudiantes',\n",
      "       '2.2 Siento que puedo enseñar fácilmente sobre nuevas prácticas computacionales',\n",
      "       '2.3 Siento que puedo diseñar una clase que desarrolle el pensamiento computacional en los estudiantes',\n",
      "       '2.4 Siento que puedo aplicar mis habilidades en pensamiento computacional para ayudar a los estudiantes a perseguir sus intereses individuales',\n",
      "       '2.5 Siento que puedo evaluar la idoneidad de una estrategia pedagógica para desarrollar pensamiento computacional',\n",
      "       '3.1 El colegio ofrece espacios adicionales para fomentar el pensamiento computacional',\n",
      "       '3.2 En la programación anual del colegio existen actividades asociadas al pensamiento computacional',\n",
      "       '3.3 Cuando he intentado enseñar pensamiento computacional me he encontrado con obstáculos para gestionar espacios y materiales en el colegio.',\n",
      "       '3.4 Recibo apoyo del colegio cuando propongo nuevas ideas y temáticas afines al pensamiento computacional',\n",
      "       '3.5 Siento que por más que lo he intentado mis esfuerzos por incluir pensamiento computacional en las clases no han sido efectivos por la rigidez del plan de estudio',\n",
      "       '3.6 Los directivos incentivan la implementación de nuevas prácticas pedagógicas sobre pensamiento computacional en el aula',\n",
      "       '3.7 Puedo incluir espacios en mis clases para implementar actividades sobre el pensamiento computacional',\n",
      "       '3.8 Me siento frustrado porque la programación de las clases y compromisos institucionales no me permite incluir actividades de pensamiento computacional',\n",
      "       '3.9 Tener educación en pensamiento computacional mejoraría significativamente las futuras opciones de ocupación para los estudiantes de mi escuela.',\n",
      "       '4.1 Creo que sé cómo resolver los problemas técnicos cuando fallan las TIC',\n",
      "       '4.2 Siento que puedo aprender sobre nuevas tecnologías fácilmente',\n",
      "       '4.3 Creo que sé cómo usar las TIC con los estudiantes en clase',\n",
      "       '5.1 Me apoyo en mis colegas para resolver problemas sobre cómo trabajar algún tema',\n",
      "       '5.2 Puedo hablar con otros docentes sobre el diseño de cursos',\n",
      "       '5.3 Siento que tengo apoyo de otros docentes para el diseño de mis cursos',\n",
      "       '5.4 Siento que no tengo con quién conversar sobre el diseño de mis cursos',\n",
      "       '6.1 Actividades desconectadas', '6.2 Usa-Modifica-Crea',\n",
      "       '6.3 Clase magistral', '6.4 Programación en pares',\n",
      "       '6.5 Lectura del código', '6.6 Le explicaría la respuesta correcta',\n",
      "       '6.7 Le sugeriría ir paso a paso por el programa simulando su ejecución',\n",
      "       '6.8 Le diría que revise sus notas',\n",
      "       '6.9 Le sugeriría que revise las memorias colectivas',\n",
      "       '7.1 Le sugeriría volver a leer el problema',\n",
      "       '7.2 Le sugeriría intentar con varios valores para evaluar el programa',\n",
      "       '7.3 Le explicaría el problema nuevamente', 'Comentarios P1-7',\n",
      "       'Un algoritmo es:', '¿Para qué sirven los algoritmos?', 'Un bucle es:',\n",
      "       '¿Cuál es el error conceptual de Tim?',\n",
      "       '¿Cuál es el error conceptual de Ana?', 'Comentarios Conocimientos',\n",
      "       '¿Cuáles de las siguientes estrategias usted ha usado en sus clases?',\n",
      "       '8.1 Es preferible que las mujeres enseñen ciencias sociales y los hombres ciencias exactas.',\n",
      "       '8.2 Es normal que la mayoría de ingenieros mecánicos sean varones porque los hombres son mejores para los números.',\n",
      "       '8.3 Por su esencia una mujer tiene mejor desempeño en un proyecto de alto impacto social que en un proyecto de robótica industrial.',\n",
      "       '8.4 Los hombres son mejores para la tecnología que las mujeres.',\n",
      "       '8.5 Las mujeres tienen mayores habilidades para proyectos sociales que tecnológicos.',\n",
      "       '8.6 Los grandes aportes en la computación han sido hechos por hombres.',\n",
      "       '8.7 Que la mayoría de mujeres no opte por áreas exactas es simplemente una cuestión de preferencias.',\n",
      "       '8.8 Que la mayoría de personas en artes y humanidades sean mujeres es muestra de su sensibilidad.',\n",
      "       '8.9 Es natural que los hombres sean buenos para los números y las mujeres para las letras.',\n",
      "       '8.10 Los hombres son muy ágiles tomando decisiones importantes.',\n",
      "       '8.11 Las niñas son más ordenadas que los niños.',\n",
      "       '8.12 Muchas mujeres se caracterizan por una pureza que pocos hombres poseen.',\n",
      "       '8.13 Las mujeres deben ser queridas y protegidas por los hombres.',\n",
      "       '8.14 Todo hombre debe tener una mujer a quien amar.',\n",
      "       '8.15 El hombre está incompleto sin la mujer.',\n",
      "       '8.16 Las mujeres en comparación con los hombres, tienden a tener un sentido más refinado de la cultura y el buen gusto.',\n",
      "       'Comentarios género'],\n",
      "      dtype='object')\n"
     ]
    },
    {
     "data": {
      "text/plain": "3    18/04\n4    18/04\n5    18/04\n6    18/04\n7    18/04\nName: Fecha, dtype: object"
     },
     "execution_count": 2,
     "metadata": {},
     "output_type": "execute_result"
    }
   ]
  },
  {
   "cell_type": "code",
   "execution_count": 3,
   "outputs": [
    {
     "data": {
      "text/plain": "                Timestamp Política de datos                  Código IE  \\\n3 2022-04-18 07:59:42.646                Sí  Nueva Esperanza La Palma    \n4 2022-04-18 08:03:32.288                Sí                        206   \n5 2022-04-18 08:05:14.497                Sí                        206   \n6 2022-04-18 08:07:11.041                Sí                        206   \n7 2022-04-18 08:07:35.471                Sí                        206   \n\n                Tipo ID            ID                            Email  Edad  \\\n3  Cédula de ciudadanía  1.110475e+09               ydur912@gmail.com   33.0   \n4  Cédula de ciudadanía  5.828243e+06        Mosquera.fabio@gmail.com   40.0   \n5  Cédula de ciudadanía  9.337793e+07                 nixong@yahoo.com  52.0   \n6  Cédula de ciudadanía  3.836377e+07      ivonne.saavedrab@nep.edu.co  38.0   \n7  Cédula de ciudadanía  5.827991e+06  javierlunarodriguez@hotmail.com  42.0   \n\n        Sexo Cabeza de hogar                Estado civil  ...  \\\n3  Masculino              Sí                   Soltero/a  ...   \n4  Masculino              Sí  Casado/a o  En unión libre  ...   \n5  Masculino              Sí  Casado/a o  En unión libre  ...   \n6   Femenino              No                   Soltero/a  ...   \n7  Masculino              Sí  Casado/a o  En unión libre  ...   \n\n  8.9 Es natural que los hombres sean buenos para los números y las mujeres para las letras.  \\\n3                                             Neutro                                           \n4                                             Neutro                                           \n5                           Totalmente en desacuerdo                                           \n6                           Totalmente en desacuerdo                                           \n7                                      En desacuerdo                                           \n\n  8.10 Los hombres son muy ágiles tomando decisiones importantes.  \\\n3                                             Neutro                \n4                                             Neutro                \n5                           Totalmente en desacuerdo                \n6                           Totalmente en desacuerdo                \n7                                      En desacuerdo                \n\n  8.11 Las niñas son más ordenadas que los niños.  \\\n3                                          Neutro   \n4                                          Neutro   \n5                                      De acuerdo   \n6                        Totalmente en desacuerdo   \n7                                   En desacuerdo   \n\n  8.12 Muchas mujeres se caracterizan por una pureza que pocos hombres poseen.  \\\n3                                             Neutro                             \n4                                             Neutro                             \n5                                             Neutro                             \n6                           Totalmente en desacuerdo                             \n7                                      En desacuerdo                             \n\n  8.13 Las mujeres deben ser queridas y protegidas por los hombres.  \\\n3                                             Neutro                  \n4                                             Neutro                  \n5                                             Neutro                  \n6                           Totalmente en desacuerdo                  \n7                                      En desacuerdo                  \n\n  8.14 Todo hombre debe tener una mujer a quien amar.  \\\n3                                             Neutro    \n4                                             Neutro    \n5                           Totalmente en desacuerdo    \n6                           Totalmente en desacuerdo    \n7                                      En desacuerdo    \n\n  8.15 El hombre está incompleto sin la mujer.  \\\n3                                       Neutro   \n4                                       Neutro   \n5                     Totalmente en desacuerdo   \n6                     Totalmente en desacuerdo   \n7                                En desacuerdo   \n\n  8.16 Las mujeres en comparación con los hombres, tienden a tener un sentido más refinado de la cultura y el buen gusto.  \\\n3                                             Neutro                                                                        \n4                                             Neutro                                                                        \n5                           Totalmente en desacuerdo                                                                        \n6                           Totalmente en desacuerdo                                                                        \n7                                      En desacuerdo                                                                        \n\n  Comentarios género  Fecha  \n3                NaN  18/04  \n4            Ninguno  18/04  \n5                NaN  18/04  \n6                NaN  18/04  \n7                NaN  18/04  \n\n[5 rows x 90 columns]",
      "text/html": "<div>\n<style scoped>\n    .dataframe tbody tr th:only-of-type {\n        vertical-align: middle;\n    }\n\n    .dataframe tbody tr th {\n        vertical-align: top;\n    }\n\n    .dataframe thead th {\n        text-align: right;\n    }\n</style>\n<table border=\"1\" class=\"dataframe\">\n  <thead>\n    <tr style=\"text-align: right;\">\n      <th></th>\n      <th>Timestamp</th>\n      <th>Política de datos</th>\n      <th>Código IE</th>\n      <th>Tipo ID</th>\n      <th>ID</th>\n      <th>Email</th>\n      <th>Edad</th>\n      <th>Sexo</th>\n      <th>Cabeza de hogar</th>\n      <th>Estado civil</th>\n      <th>...</th>\n      <th>8.9 Es natural que los hombres sean buenos para los números y las mujeres para las letras.</th>\n      <th>8.10 Los hombres son muy ágiles tomando decisiones importantes.</th>\n      <th>8.11 Las niñas son más ordenadas que los niños.</th>\n      <th>8.12 Muchas mujeres se caracterizan por una pureza que pocos hombres poseen.</th>\n      <th>8.13 Las mujeres deben ser queridas y protegidas por los hombres.</th>\n      <th>8.14 Todo hombre debe tener una mujer a quien amar.</th>\n      <th>8.15 El hombre está incompleto sin la mujer.</th>\n      <th>8.16 Las mujeres en comparación con los hombres, tienden a tener un sentido más refinado de la cultura y el buen gusto.</th>\n      <th>Comentarios género</th>\n      <th>Fecha</th>\n    </tr>\n  </thead>\n  <tbody>\n    <tr>\n      <th>3</th>\n      <td>2022-04-18 07:59:42.646</td>\n      <td>Sí</td>\n      <td>Nueva Esperanza La Palma</td>\n      <td>Cédula de ciudadanía</td>\n      <td>1.110475e+09</td>\n      <td>ydur912@gmail.com</td>\n      <td>33.0</td>\n      <td>Masculino</td>\n      <td>Sí</td>\n      <td>Soltero/a</td>\n      <td>...</td>\n      <td>Neutro</td>\n      <td>Neutro</td>\n      <td>Neutro</td>\n      <td>Neutro</td>\n      <td>Neutro</td>\n      <td>Neutro</td>\n      <td>Neutro</td>\n      <td>Neutro</td>\n      <td>NaN</td>\n      <td>18/04</td>\n    </tr>\n    <tr>\n      <th>4</th>\n      <td>2022-04-18 08:03:32.288</td>\n      <td>Sí</td>\n      <td>206</td>\n      <td>Cédula de ciudadanía</td>\n      <td>5.828243e+06</td>\n      <td>Mosquera.fabio@gmail.com</td>\n      <td>40.0</td>\n      <td>Masculino</td>\n      <td>Sí</td>\n      <td>Casado/a o  En unión libre</td>\n      <td>...</td>\n      <td>Neutro</td>\n      <td>Neutro</td>\n      <td>Neutro</td>\n      <td>Neutro</td>\n      <td>Neutro</td>\n      <td>Neutro</td>\n      <td>Neutro</td>\n      <td>Neutro</td>\n      <td>Ninguno</td>\n      <td>18/04</td>\n    </tr>\n    <tr>\n      <th>5</th>\n      <td>2022-04-18 08:05:14.497</td>\n      <td>Sí</td>\n      <td>206</td>\n      <td>Cédula de ciudadanía</td>\n      <td>9.337793e+07</td>\n      <td>nixong@yahoo.com</td>\n      <td>52.0</td>\n      <td>Masculino</td>\n      <td>Sí</td>\n      <td>Casado/a o  En unión libre</td>\n      <td>...</td>\n      <td>Totalmente en desacuerdo</td>\n      <td>Totalmente en desacuerdo</td>\n      <td>De acuerdo</td>\n      <td>Neutro</td>\n      <td>Neutro</td>\n      <td>Totalmente en desacuerdo</td>\n      <td>Totalmente en desacuerdo</td>\n      <td>Totalmente en desacuerdo</td>\n      <td>NaN</td>\n      <td>18/04</td>\n    </tr>\n    <tr>\n      <th>6</th>\n      <td>2022-04-18 08:07:11.041</td>\n      <td>Sí</td>\n      <td>206</td>\n      <td>Cédula de ciudadanía</td>\n      <td>3.836377e+07</td>\n      <td>ivonne.saavedrab@nep.edu.co</td>\n      <td>38.0</td>\n      <td>Femenino</td>\n      <td>No</td>\n      <td>Soltero/a</td>\n      <td>...</td>\n      <td>Totalmente en desacuerdo</td>\n      <td>Totalmente en desacuerdo</td>\n      <td>Totalmente en desacuerdo</td>\n      <td>Totalmente en desacuerdo</td>\n      <td>Totalmente en desacuerdo</td>\n      <td>Totalmente en desacuerdo</td>\n      <td>Totalmente en desacuerdo</td>\n      <td>Totalmente en desacuerdo</td>\n      <td>NaN</td>\n      <td>18/04</td>\n    </tr>\n    <tr>\n      <th>7</th>\n      <td>2022-04-18 08:07:35.471</td>\n      <td>Sí</td>\n      <td>206</td>\n      <td>Cédula de ciudadanía</td>\n      <td>5.827991e+06</td>\n      <td>javierlunarodriguez@hotmail.com</td>\n      <td>42.0</td>\n      <td>Masculino</td>\n      <td>Sí</td>\n      <td>Casado/a o  En unión libre</td>\n      <td>...</td>\n      <td>En desacuerdo</td>\n      <td>En desacuerdo</td>\n      <td>En desacuerdo</td>\n      <td>En desacuerdo</td>\n      <td>En desacuerdo</td>\n      <td>En desacuerdo</td>\n      <td>En desacuerdo</td>\n      <td>En desacuerdo</td>\n      <td>NaN</td>\n      <td>18/04</td>\n    </tr>\n  </tbody>\n</table>\n<p>5 rows × 90 columns</p>\n</div>"
     },
     "execution_count": 3,
     "metadata": {},
     "output_type": "execute_result"
    }
   ],
   "source": [
    "doc.head()"
   ],
   "metadata": {
    "collapsed": false,
    "pycharm": {
     "name": "#%%\n"
    }
   }
  },
  {
   "cell_type": "code",
   "execution_count": 4,
   "outputs": [],
   "source": [
    "doc = doc.drop(columns='Timestamp')\n",
    "doc = doc.dropna(subset='Código IE')\n",
    "doc = doc.drop_duplicates(subset='ID', keep='last')"
   ],
   "metadata": {
    "collapsed": false,
    "pycharm": {
     "name": "#%%\n"
    }
   }
  },
  {
   "cell_type": "code",
   "execution_count": 5,
   "outputs": [],
   "source": [
    "doc = doc[doc['Código IE'].astype(str).str.isdigit()]\n",
    "doc['Código IE'] = doc['Código IE'].astype(int)"
   ],
   "metadata": {
    "collapsed": false,
    "pycharm": {
     "name": "#%%\n"
    }
   }
  },
  {
   "cell_type": "code",
   "execution_count": 6,
   "outputs": [
    {
     "data": {
      "text/plain": "(4322, 89)"
     },
     "execution_count": 6,
     "metadata": {},
     "output_type": "execute_result"
    }
   ],
   "source": [
    "doc = doc[doc['Código IE']<300]\n",
    "doc.shape"
   ],
   "metadata": {
    "collapsed": false,
    "pycharm": {
     "name": "#%%\n"
    }
   }
  },
  {
   "cell_type": "code",
   "execution_count": 7,
   "outputs": [
    {
     "data": {
      "text/plain": "                       Formado tecnología e informática  Formacion en el area\n4     Sí, otro tipo de formación (diplomados, especi...                     1\n5     Sí, otro tipo de formación (diplomados, especi...                     1\n6                                                    No                     0\n7                                                    No                     0\n8     Sí, otro tipo de formación (diplomados, especi...                     1\n...                                                 ...                   ...\n4472                                                 No                     0\n4473  Sí, otro tipo de formación (diplomados, especi...                     1\n4474                                                 No                     0\n4475  Sí, otro tipo de formación (diplomados, especi...                     1\n4476  Sí, otro tipo de formación (diplomados, especi...                     1\n\n[4322 rows x 2 columns]",
      "text/html": "<div>\n<style scoped>\n    .dataframe tbody tr th:only-of-type {\n        vertical-align: middle;\n    }\n\n    .dataframe tbody tr th {\n        vertical-align: top;\n    }\n\n    .dataframe thead th {\n        text-align: right;\n    }\n</style>\n<table border=\"1\" class=\"dataframe\">\n  <thead>\n    <tr style=\"text-align: right;\">\n      <th></th>\n      <th>Formado tecnología e informática</th>\n      <th>Formacion en el area</th>\n    </tr>\n  </thead>\n  <tbody>\n    <tr>\n      <th>4</th>\n      <td>Sí, otro tipo de formación (diplomados, especi...</td>\n      <td>1</td>\n    </tr>\n    <tr>\n      <th>5</th>\n      <td>Sí, otro tipo de formación (diplomados, especi...</td>\n      <td>1</td>\n    </tr>\n    <tr>\n      <th>6</th>\n      <td>No</td>\n      <td>0</td>\n    </tr>\n    <tr>\n      <th>7</th>\n      <td>No</td>\n      <td>0</td>\n    </tr>\n    <tr>\n      <th>8</th>\n      <td>Sí, otro tipo de formación (diplomados, especi...</td>\n      <td>1</td>\n    </tr>\n    <tr>\n      <th>...</th>\n      <td>...</td>\n      <td>...</td>\n    </tr>\n    <tr>\n      <th>4472</th>\n      <td>No</td>\n      <td>0</td>\n    </tr>\n    <tr>\n      <th>4473</th>\n      <td>Sí, otro tipo de formación (diplomados, especi...</td>\n      <td>1</td>\n    </tr>\n    <tr>\n      <th>4474</th>\n      <td>No</td>\n      <td>0</td>\n    </tr>\n    <tr>\n      <th>4475</th>\n      <td>Sí, otro tipo de formación (diplomados, especi...</td>\n      <td>1</td>\n    </tr>\n    <tr>\n      <th>4476</th>\n      <td>Sí, otro tipo de formación (diplomados, especi...</td>\n      <td>1</td>\n    </tr>\n  </tbody>\n</table>\n<p>4322 rows × 2 columns</p>\n</div>"
     },
     "execution_count": 7,
     "metadata": {},
     "output_type": "execute_result"
    }
   ],
   "source": [
    "doc['Formacion en el area'] = 1*(~doc['Formado tecnología e informática'].str.contains(\"No\"))\n",
    "doc[['Formado tecnología e informática', 'Formacion en el area']]"
   ],
   "metadata": {
    "collapsed": false,
    "pycharm": {
     "name": "#%%\n"
    }
   }
  },
  {
   "cell_type": "code",
   "execution_count": 8,
   "outputs": [
    {
     "data": {
      "text/plain": "      Enseña TI  \\\n4             0   \n5             0   \n6             1   \n7             0   \n8             0   \n...         ...   \n4472          0   \n4473          0   \n4474          0   \n4475          0   \n4476          0   \n\n     ¿Cuáles de las siguientes áreas enseña y en qué grado? [Tecnología e informática.]  \n4                                                   NaN                                  \n5                                                   NaN                                  \n6                                                    1°                                  \n7                                                   NaN                                  \n8                                                   NaN                                  \n...                                                 ...                                  \n4472                                                NaN                                  \n4473                                                NaN                                  \n4474                                                NaN                                  \n4475                                                NaN                                  \n4476                                                NaN                                  \n\n[4322 rows x 2 columns]",
      "text/html": "<div>\n<style scoped>\n    .dataframe tbody tr th:only-of-type {\n        vertical-align: middle;\n    }\n\n    .dataframe tbody tr th {\n        vertical-align: top;\n    }\n\n    .dataframe thead th {\n        text-align: right;\n    }\n</style>\n<table border=\"1\" class=\"dataframe\">\n  <thead>\n    <tr style=\"text-align: right;\">\n      <th></th>\n      <th>Enseña TI</th>\n      <th>¿Cuáles de las siguientes áreas enseña y en qué grado? [Tecnología e informática.]</th>\n    </tr>\n  </thead>\n  <tbody>\n    <tr>\n      <th>4</th>\n      <td>0</td>\n      <td>NaN</td>\n    </tr>\n    <tr>\n      <th>5</th>\n      <td>0</td>\n      <td>NaN</td>\n    </tr>\n    <tr>\n      <th>6</th>\n      <td>1</td>\n      <td>1°</td>\n    </tr>\n    <tr>\n      <th>7</th>\n      <td>0</td>\n      <td>NaN</td>\n    </tr>\n    <tr>\n      <th>8</th>\n      <td>0</td>\n      <td>NaN</td>\n    </tr>\n    <tr>\n      <th>...</th>\n      <td>...</td>\n      <td>...</td>\n    </tr>\n    <tr>\n      <th>4472</th>\n      <td>0</td>\n      <td>NaN</td>\n    </tr>\n    <tr>\n      <th>4473</th>\n      <td>0</td>\n      <td>NaN</td>\n    </tr>\n    <tr>\n      <th>4474</th>\n      <td>0</td>\n      <td>NaN</td>\n    </tr>\n    <tr>\n      <th>4475</th>\n      <td>0</td>\n      <td>NaN</td>\n    </tr>\n    <tr>\n      <th>4476</th>\n      <td>0</td>\n      <td>NaN</td>\n    </tr>\n  </tbody>\n</table>\n<p>4322 rows × 2 columns</p>\n</div>"
     },
     "execution_count": 8,
     "metadata": {},
     "output_type": "execute_result"
    }
   ],
   "source": [
    "doc['Enseña TI'] = 1*(~doc['¿Cuáles de las siguientes áreas enseña y en qué grado? [Tecnología e informática.]'].isna())\n",
    "doc[[ 'Enseña TI', '¿Cuáles de las siguientes áreas enseña y en qué grado? [Tecnología e informática.]']]"
   ],
   "metadata": {
    "collapsed": false,
    "pycharm": {
     "name": "#%%\n"
    }
   }
  },
  {
   "cell_type": "code",
   "execution_count": 9,
   "outputs": [
    {
     "data": {
      "text/plain": "      Enseña TI  Formacion en el area  Enseña y tiene formacion\n4             0                     1                         0\n5             0                     1                         0\n6             1                     0                         0\n7             0                     0                         0\n8             0                     1                         0\n...         ...                   ...                       ...\n4472          0                     0                         0\n4473          0                     1                         0\n4474          0                     0                         0\n4475          0                     1                         0\n4476          0                     1                         0\n\n[4322 rows x 3 columns]",
      "text/html": "<div>\n<style scoped>\n    .dataframe tbody tr th:only-of-type {\n        vertical-align: middle;\n    }\n\n    .dataframe tbody tr th {\n        vertical-align: top;\n    }\n\n    .dataframe thead th {\n        text-align: right;\n    }\n</style>\n<table border=\"1\" class=\"dataframe\">\n  <thead>\n    <tr style=\"text-align: right;\">\n      <th></th>\n      <th>Enseña TI</th>\n      <th>Formacion en el area</th>\n      <th>Enseña y tiene formacion</th>\n    </tr>\n  </thead>\n  <tbody>\n    <tr>\n      <th>4</th>\n      <td>0</td>\n      <td>1</td>\n      <td>0</td>\n    </tr>\n    <tr>\n      <th>5</th>\n      <td>0</td>\n      <td>1</td>\n      <td>0</td>\n    </tr>\n    <tr>\n      <th>6</th>\n      <td>1</td>\n      <td>0</td>\n      <td>0</td>\n    </tr>\n    <tr>\n      <th>7</th>\n      <td>0</td>\n      <td>0</td>\n      <td>0</td>\n    </tr>\n    <tr>\n      <th>8</th>\n      <td>0</td>\n      <td>1</td>\n      <td>0</td>\n    </tr>\n    <tr>\n      <th>...</th>\n      <td>...</td>\n      <td>...</td>\n      <td>...</td>\n    </tr>\n    <tr>\n      <th>4472</th>\n      <td>0</td>\n      <td>0</td>\n      <td>0</td>\n    </tr>\n    <tr>\n      <th>4473</th>\n      <td>0</td>\n      <td>1</td>\n      <td>0</td>\n    </tr>\n    <tr>\n      <th>4474</th>\n      <td>0</td>\n      <td>0</td>\n      <td>0</td>\n    </tr>\n    <tr>\n      <th>4475</th>\n      <td>0</td>\n      <td>1</td>\n      <td>0</td>\n    </tr>\n    <tr>\n      <th>4476</th>\n      <td>0</td>\n      <td>1</td>\n      <td>0</td>\n    </tr>\n  </tbody>\n</table>\n<p>4322 rows × 3 columns</p>\n</div>"
     },
     "execution_count": 9,
     "metadata": {},
     "output_type": "execute_result"
    }
   ],
   "source": [
    "doc['Enseña y tiene formacion'] = 1*((doc['Enseña TI'] + doc['Formacion en el area'])==2)\n",
    "doc[['Enseña TI', 'Formacion en el area', 'Enseña y tiene formacion']]"
   ],
   "metadata": {
    "collapsed": false,
    "pycharm": {
     "name": "#%%\n"
    }
   }
  },
  {
   "cell_type": "code",
   "execution_count": 10,
   "outputs": [
    {
     "data": {
      "text/plain": "           Enseña TI  Enseña y tiene formacion  Formacion en el area  ID\nCódigo IE                                                               \n0                  2                         2                     3   5\n1                  6                         5                    29  44\n2                  3                         2                     8  16\n3                  2                         2                    14  23\n4                  1                         0                     4  13\n...              ...                       ...                   ...  ..\n250               14                         9                    30  43\n251               13                        11                    32  53\n252                3                         2                    11  22\n255                1                         1                     3   4\n288                0                         0                     0   1\n\n[196 rows x 4 columns]",
      "text/html": "<div>\n<style scoped>\n    .dataframe tbody tr th:only-of-type {\n        vertical-align: middle;\n    }\n\n    .dataframe tbody tr th {\n        vertical-align: top;\n    }\n\n    .dataframe thead th {\n        text-align: right;\n    }\n</style>\n<table border=\"1\" class=\"dataframe\">\n  <thead>\n    <tr style=\"text-align: right;\">\n      <th></th>\n      <th>Enseña TI</th>\n      <th>Enseña y tiene formacion</th>\n      <th>Formacion en el area</th>\n      <th>ID</th>\n    </tr>\n    <tr>\n      <th>Código IE</th>\n      <th></th>\n      <th></th>\n      <th></th>\n      <th></th>\n    </tr>\n  </thead>\n  <tbody>\n    <tr>\n      <th>0</th>\n      <td>2</td>\n      <td>2</td>\n      <td>3</td>\n      <td>5</td>\n    </tr>\n    <tr>\n      <th>1</th>\n      <td>6</td>\n      <td>5</td>\n      <td>29</td>\n      <td>44</td>\n    </tr>\n    <tr>\n      <th>2</th>\n      <td>3</td>\n      <td>2</td>\n      <td>8</td>\n      <td>16</td>\n    </tr>\n    <tr>\n      <th>3</th>\n      <td>2</td>\n      <td>2</td>\n      <td>14</td>\n      <td>23</td>\n    </tr>\n    <tr>\n      <th>4</th>\n      <td>1</td>\n      <td>0</td>\n      <td>4</td>\n      <td>13</td>\n    </tr>\n    <tr>\n      <th>...</th>\n      <td>...</td>\n      <td>...</td>\n      <td>...</td>\n      <td>...</td>\n    </tr>\n    <tr>\n      <th>250</th>\n      <td>14</td>\n      <td>9</td>\n      <td>30</td>\n      <td>43</td>\n    </tr>\n    <tr>\n      <th>251</th>\n      <td>13</td>\n      <td>11</td>\n      <td>32</td>\n      <td>53</td>\n    </tr>\n    <tr>\n      <th>252</th>\n      <td>3</td>\n      <td>2</td>\n      <td>11</td>\n      <td>22</td>\n    </tr>\n    <tr>\n      <th>255</th>\n      <td>1</td>\n      <td>1</td>\n      <td>3</td>\n      <td>4</td>\n    </tr>\n    <tr>\n      <th>288</th>\n      <td>0</td>\n      <td>0</td>\n      <td>0</td>\n      <td>1</td>\n    </tr>\n  </tbody>\n</table>\n<p>196 rows × 4 columns</p>\n</div>"
     },
     "execution_count": 10,
     "metadata": {},
     "output_type": "execute_result"
    }
   ],
   "source": [
    "doc_D4 = doc.pivot_table(index='Código IE', values=['Enseña TI', 'Formacion en el area', 'Enseña y tiene formacion', 'ID'], aggfunc={'Enseña TI': 'sum','Formacion en el area': 'sum','Enseña y tiene formacion': 'sum', 'ID': 'count'})\n",
    "doc_D4"
   ],
   "metadata": {
    "collapsed": false,
    "pycharm": {
     "name": "#%%\n"
    }
   }
  },
  {
   "cell_type": "code",
   "execution_count": 11,
   "outputs": [],
   "source": [
    "doc_D4['% docentes de informatica que tienen formacion'] = (doc_D4['Enseña y tiene formacion'] / doc_D4[ 'Enseña TI'])*100\n",
    "\n",
    "\n",
    "doc_D4['Nivel docentes'] = pd.cut(doc_D4['% docentes de informatica que tienen formacion'], bins=[0, 20, 60, 100], labels=['1A', \"1B\", '4'], include_lowest=True)\n",
    "doc_D4 = doc_D4.reset_index()"
   ],
   "metadata": {
    "collapsed": false,
    "pycharm": {
     "name": "#%%\n"
    }
   }
  },
  {
   "cell_type": "code",
   "execution_count": 12,
   "outputs": [
    {
     "data": {
      "text/plain": "     Código IE Nivel docentes\n0            0              4\n1            1              4\n2            2              4\n3            3              4\n4            4             1A\n..         ...            ...\n190        247              4\n191        250              4\n192        251              4\n193        252              4\n194        255              4\n\n[177 rows x 2 columns]",
      "text/html": "<div>\n<style scoped>\n    .dataframe tbody tr th:only-of-type {\n        vertical-align: middle;\n    }\n\n    .dataframe tbody tr th {\n        vertical-align: top;\n    }\n\n    .dataframe thead th {\n        text-align: right;\n    }\n</style>\n<table border=\"1\" class=\"dataframe\">\n  <thead>\n    <tr style=\"text-align: right;\">\n      <th></th>\n      <th>Código IE</th>\n      <th>Nivel docentes</th>\n    </tr>\n  </thead>\n  <tbody>\n    <tr>\n      <th>0</th>\n      <td>0</td>\n      <td>4</td>\n    </tr>\n    <tr>\n      <th>1</th>\n      <td>1</td>\n      <td>4</td>\n    </tr>\n    <tr>\n      <th>2</th>\n      <td>2</td>\n      <td>4</td>\n    </tr>\n    <tr>\n      <th>3</th>\n      <td>3</td>\n      <td>4</td>\n    </tr>\n    <tr>\n      <th>4</th>\n      <td>4</td>\n      <td>1A</td>\n    </tr>\n    <tr>\n      <th>...</th>\n      <td>...</td>\n      <td>...</td>\n    </tr>\n    <tr>\n      <th>190</th>\n      <td>247</td>\n      <td>4</td>\n    </tr>\n    <tr>\n      <th>191</th>\n      <td>250</td>\n      <td>4</td>\n    </tr>\n    <tr>\n      <th>192</th>\n      <td>251</td>\n      <td>4</td>\n    </tr>\n    <tr>\n      <th>193</th>\n      <td>252</td>\n      <td>4</td>\n    </tr>\n    <tr>\n      <th>194</th>\n      <td>255</td>\n      <td>4</td>\n    </tr>\n  </tbody>\n</table>\n<p>177 rows × 2 columns</p>\n</div>"
     },
     "execution_count": 12,
     "metadata": {},
     "output_type": "execute_result"
    }
   ],
   "source": [
    "df_institucion = doc_D4.loc[~doc_D4['Nivel docentes'].isna(),['Código IE', 'Nivel docentes']]\n",
    "df_institucion"
   ],
   "metadata": {
    "collapsed": false,
    "pycharm": {
     "name": "#%%\n"
    }
   }
  },
  {
   "cell_type": "markdown",
   "source": [
    "#### Lista chequeo lider"
   ],
   "metadata": {
    "collapsed": false,
    "pycharm": {
     "name": "#%% md\n"
    }
   }
  },
  {
   "cell_type": "code",
   "source": [
    "lid = pd.read_excel('../../../data/raw/Lid_Con_Pre_100522.xlsx')\n",
    "print(lid.shape)\n",
    "print(lid.columns)\n",
    "lid['Timestamp'] = pd.to_datetime(lid['Timestamp'])\n",
    "lid = lid[lid.Timestamp>'2022-04-14']\n",
    "lid['Fecha'] = lid.Timestamp.dt.strftime('%d/%m')\n",
    "lid['Fecha'][:5]"
   ],
   "metadata": {
    "collapsed": false,
    "pycharm": {
     "name": "#%%\n"
    }
   },
   "execution_count": 13,
   "outputs": [
    {
     "name": "stdout",
     "output_type": "stream",
     "text": [
      "(159, 49)\n",
      "Index(['Timestamp', 'Código IE',\n",
      "       '1.1 Los docentes encargados del área son los responsables de definir lo que se enseña',\n",
      "       '1.2 El plan de estudios del área cuenta con mejoras realizadas por los docentes de la IE gracias a espacios colaborativos',\n",
      "       '1.3 El plan de estudio incluye actividades básicas de ofimática y/o alfabetización digital, programación y/o desarrollo del pensamiento computacional.',\n",
      "       '1.4 En el plan de estudio se da mayor relevancia al pensamiento computacional',\n",
      "       '1.5 El plan de estudio del área promueve la transición desde la alfabetización digital a las ciencias de la computación',\n",
      "       '1.6 El plan de estudios del área comprende el pensamiento computacional y su impacto dentro del proceso enseñanza-aprendizaje',\n",
      "       '1.7 El plan de estudios del área es coherente con la transición de un grado a otro y permite al estudiante desarrollar conocimientos, habilidades y comprensión del pensamiento computacional',\n",
      "       '1.8 El plan de estudios del área incluye trabajo práctico para el desarrollo del pensamiento computacional.',\n",
      "       '1.9 El plan de estudio del área cuenta con espacios de socialización a los estudiantes de personas que trabajan en ocupaciones relacionadas al área STEM',\n",
      "       '1.10 El plan de estudio de las asignaturas No-STEM integran eficientemente los aprendizajes adquiridos por sus estudiantes sobre pensamiento computacional',\n",
      "       '1.11 La visión institucional menciona el impacto y lugar de la enseñanza del desarrollo del pensamiento computacional dentro del plan de estudios.',\n",
      "       'Comentarios P1',\n",
      "       '2.1 La IE identifica a los estudiantes que cuentan con necesidades educativas especiales',\n",
      "       '2.2 La IE implementa algunas acciones para brindar apoyo a los estudiantes con necesidades educativas especiales en su participación en el área',\n",
      "       '2.3 La IE establece un plan para la atención de estudiantes con necesidades educativas especiales para su participación en actividades asociadas al pensamiento computacional',\n",
      "       '2.4 La IE promueve la participación de personas con necesidades educativas especiales en actividades extracurricules para garantiza la inclusión y participación en áreas STEM',\n",
      "       '2.5 La IE genera estrategias que visibilizan modelos a seguir en carreras en áreas STEM en estudiantes con necesidades educativas especiales',\n",
      "       '2.6 Los docentes del área que incluyen pensamiento computacional y/o ciencias de la computación muestran la asignatura como accesible para todos(as)',\n",
      "       '2.7 La IE promueve al trabajo conjunto entre los docente y profesionales externos para impulsar prácticas inclusivas en la enseñanza de la computación y/o pensamiento computacional',\n",
      "       '2.8 El plan de estudio considera aspectos para la inclusión de estudiantes con trastornos de aprendizaje y/o discapacidad',\n",
      "       '2.9 El plan de estudios del área incluye acciones de apoyo y adecuaciones a los materiales educativos articuladas con las estrategias de atención de estudiantes con necesidades educativas especiales',\n",
      "       '2.10  El plan de estudios del área y los recursos educativos se revisan con apoyo de personal experto en la atención a estudiantes con necesidades educativas especiales',\n",
      "       '2.11 El plan de estudios del área hace explícita la pedagogía a utilizar que incluye adaptaciones para estudiantes con necesidades educativas especiales',\n",
      "       'Comentarios P2',\n",
      "       '3.1 La IE hace seguimiento de las diferencias de género en los resultados y el desempeño académico de niños y niñas en áreas STEM',\n",
      "       '3.2 La IE crea espacios de reflexión sobre las causas y orígenes de las diferencias entre niños y niñas',\n",
      "       '3.3 La IE realiza iniciativas cívicas y campañas comunicativas con estudiantes para visibilizar las diferencias de género en áreas STEM',\n",
      "       '3.4 La IE toma acciones concretas para disminuir la diferencias de resultados entre niños y niñas Por ejemplo: organizar competencias diferenciadas entre niños y niñas en áreas STEM',\n",
      "       '3.5 La IE tiene alianzas con entidades externas que promuevan la equidad género en las áreas STEM',\n",
      "       '3.6 La institución posee una propuesta estructurada donde garantiza que los niños y niñas continúen su trayectoria de formación educativa en pensamiento computacional y/o ciencias de la computación.',\n",
      "       '3.7 El plan de estudios del área promueve en niños y niñas el desarrollo de sus conocimientos, habilidades y actitudes',\n",
      "       '3.8 El plan de estudio del área cuentan con una estructura clara que permite disminuir las diferencias en el desempeño de niños y niñas',\n",
      "       '3.9 El plan de estudio del área se encuentran en constante revisión e incorporan nuevas estrategias para promover la igualdad en el desempeño de niños y niñas',\n",
      "       '3.10 El plan de estudio considera aspectos para disminuir las diferencias entre niños y niñas y la inclusión de estudiantes con trastornos de aprendizaje y/o discapacidad',\n",
      "       'Comentarios P3',\n",
      "       '4.1 La IE tiene en cuenta el plan de estudios para determinar las actividades de desarrollo profesional',\n",
      "       '4.2 La IE identifica las necesidades de los docentes para determinar actividades de desarrollo profesional',\n",
      "       '4.3 La IE cuenta con espacios de discusión y planeación para actividades de desarrollo profesional',\n",
      "       '4.4 La IE capacita a los docentes en temas de equidad de género y apoya la implementación de acciones afirmativas en el aula de clases',\n",
      "       '4.5 La IE lleva un registro formal de las necesidades y participación de los docentes en actividades de desarrollo profesional',\n",
      "       '4.6 Los docentes de otras áreas se interesan por el área de tecnología e informática y la integran a su enseñanza',\n",
      "       '4.7 La IE incentiva el trabajo coordinado entre los/las responsables del área',\n",
      "       '4.8 La IE tiene en cuenta los conocimientos del personal docente para enriquecer la visión institucional sobre la enseñanza de la computación y potenciar la comprensión de las/los estudiantes y desarrollo',\n",
      "       '4.9 La IE promueve al trabajo conjunto entre los docente y profesionales líderes externos para impulsar prácticas inclusivas en la enseñanza de la computación y/o pensamiento computacional',\n",
      "       '4.10 El Consejo Directivo del colegio está al tanto de que en la institución se está enseñando ciencias de la computación, y se encuentran involucrados en el proceso.',\n",
      "       '4.11 Las directivas y el Consejo Directivo participan y evalúan la implementación de sistemas eficientes del plan de estudios del área.]',\n",
      "       'Comentarios P4'],\n",
      "      dtype='object')\n"
     ]
    },
    {
     "data": {
      "text/plain": "4    17/04\n5    18/04\n6    18/04\n7    19/04\n8    19/04\nName: Fecha, dtype: object"
     },
     "execution_count": 13,
     "metadata": {},
     "output_type": "execute_result"
    }
   ]
  },
  {
   "cell_type": "code",
   "execution_count": 14,
   "outputs": [
    {
     "data": {
      "text/plain": "array(['Sí', 'No', 'No aplica'], dtype=object)"
     },
     "execution_count": 14,
     "metadata": {},
     "output_type": "execute_result"
    }
   ],
   "source": [
    "lid['4.1 La IE tiene en cuenta el plan de estudios para determinar las actividades de desarrollo profesional'].unique()"
   ],
   "metadata": {
    "collapsed": false,
    "pycharm": {
     "name": "#%%\n"
    }
   }
  },
  {
   "cell_type": "code",
   "execution_count": 15,
   "outputs": [],
   "source": [
    "cols_lid_d4 = {\n",
    "                  '4.1 La IE tiene en cuenta el plan de estudios para determinar las actividades de desarrollo profesional':\n",
    "                      { \"No\":\"2A\", \"No aplica\": \"2A\", \"Sí\": \"4\"},\n",
    "                  '4.2 La IE identifica las necesidades de los docentes para determinar actividades de desarrollo profesional':\n",
    "                      {\"No\":\"2B\", \"No aplica\": \"2B\", \"Sí\": \"4\"},\n",
    "                  '4.3 La IE cuenta con espacios de discusión y planeación para actividades de desarrollo profesional':\n",
    "                      {\"No\":\"2A\", \"No aplica\": \"2A\", \"Sí\": \"4\"},\n",
    "                  '4.5 La IE lleva un registro formal de las necesidades y participación de los docentes en actividades de desarrollo profesional':\n",
    "                      {\"No\":\"2A\", \"No aplica\": \"2A\", \"Sí\": \"4\"}}"
   ],
   "metadata": {
    "collapsed": false,
    "pycharm": {
     "name": "#%%\n"
    }
   }
  },
  {
   "cell_type": "code",
   "execution_count": 16,
   "outputs": [
    {
     "data": {
      "text/plain": "163    2\n36     2\n252    2\n123    2\n42     2\n      ..\n53     1\n3      1\n96     1\n228    1\n45     1\nName: Código IE, Length: 143, dtype: int64"
     },
     "execution_count": 16,
     "metadata": {},
     "output_type": "execute_result"
    }
   ],
   "source": [
    "lid['Código IE'].value_counts()"
   ],
   "metadata": {
    "collapsed": false,
    "pycharm": {
     "name": "#%%\n"
    }
   }
  },
  {
   "cell_type": "code",
   "execution_count": 17,
   "outputs": [
    {
     "data": {
      "text/plain": "                 Timestamp  Código IE  \\\n12 2022-04-19 10:18:58.798        166   \n15 2022-04-19 13:24:50.679        166   \n\n   1.1 Los docentes encargados del área son los responsables de definir lo que se enseña  \\\n12                                                 Sí                                      \n15                                                 Sí                                      \n\n   1.2 El plan de estudios del área cuenta con mejoras realizadas por los docentes de la IE gracias a espacios colaborativos  \\\n12                                                 Sí                                                                          \n15                                                 Sí                                                                          \n\n   1.3 El plan de estudio incluye actividades básicas de ofimática y/o alfabetización digital, programación y/o desarrollo del pensamiento computacional.  \\\n12                                                 Sí                                                                                                       \n15                                                 Sí                                                                                                       \n\n   1.4 En el plan de estudio se da mayor relevancia al pensamiento computacional  \\\n12                                                 Sí                              \n15                                                 Sí                              \n\n   1.5 El plan de estudio del área promueve la transición desde la alfabetización digital a las ciencias de la computación  \\\n12                                                 Sí                                                                        \n15                                                 Sí                                                                        \n\n   1.6 El plan de estudios del área comprende el pensamiento computacional y su impacto dentro del proceso enseñanza-aprendizaje  \\\n12                                                 Sí                                                                              \n15                                                 Sí                                                                              \n\n   1.7 El plan de estudios del área es coherente con la transición de un grado a otro y permite al estudiante desarrollar conocimientos, habilidades y comprensión del pensamiento computacional  \\\n12                                                 Sí                                                                                                                                              \n15                                                 No                                                                                                                                              \n\n   1.8 El plan de estudios del área incluye trabajo práctico para el desarrollo del pensamiento computacional.  \\\n12                                                 Sí                                                            \n15                                                 Sí                                                            \n\n    ...  \\\n12  ...   \n15  ...   \n\n   4.4 La IE capacita a los docentes en temas de equidad de género y apoya la implementación de acciones afirmativas en el aula de clases  \\\n12                                                 No                                                                                       \n15                                                 Sí                                                                                       \n\n   4.5 La IE lleva un registro formal de las necesidades y participación de los docentes en actividades de desarrollo profesional  \\\n12                                          No aplica                                                                               \n15                                                 Sí                                                                               \n\n   4.6 Los docentes de otras áreas se interesan por el área de tecnología e informática y la integran a su enseñanza  \\\n12                                                 Sí                                                                  \n15                                                 No                                                                  \n\n   4.7 La IE incentiva el trabajo coordinado entre los/las responsables del área  \\\n12                                                 Sí                              \n15                                                 Sí                              \n\n   4.8 La IE tiene en cuenta los conocimientos del personal docente para enriquecer la visión institucional sobre la enseñanza de la computación y potenciar la comprensión de las/los estudiantes y desarrollo  \\\n12                                                 Sí                                                                                                                                                             \n15                                                 Sí                                                                                                                                                             \n\n   4.9 La IE promueve al trabajo conjunto entre los docente y profesionales líderes externos para impulsar prácticas inclusivas en la enseñanza de la computación y/o pensamiento computacional  \\\n12                                                 No                                                                                                                                             \n15                                                 Sí                                                                                                                                             \n\n   4.10 El Consejo Directivo del colegio está al tanto de que en la institución se está enseñando ciencias de la computación, y se encuentran involucrados en el proceso.  \\\n12                                                 Sí                                                                                                                       \n15                                                 No                                                                                                                       \n\n   4.11 Las directivas y el Consejo Directivo participan y evalúan la implementación de sistemas eficientes del plan de estudios del área.]  \\\n12                                                 No                                                                                         \n15                                                 Sí                                                                                         \n\n   Comentarios P4  Fecha  \n12            NaN  19/04  \n15            NaN  19/04  \n\n[2 rows x 50 columns]",
      "text/html": "<div>\n<style scoped>\n    .dataframe tbody tr th:only-of-type {\n        vertical-align: middle;\n    }\n\n    .dataframe tbody tr th {\n        vertical-align: top;\n    }\n\n    .dataframe thead th {\n        text-align: right;\n    }\n</style>\n<table border=\"1\" class=\"dataframe\">\n  <thead>\n    <tr style=\"text-align: right;\">\n      <th></th>\n      <th>Timestamp</th>\n      <th>Código IE</th>\n      <th>1.1 Los docentes encargados del área son los responsables de definir lo que se enseña</th>\n      <th>1.2 El plan de estudios del área cuenta con mejoras realizadas por los docentes de la IE gracias a espacios colaborativos</th>\n      <th>1.3 El plan de estudio incluye actividades básicas de ofimática y/o alfabetización digital, programación y/o desarrollo del pensamiento computacional.</th>\n      <th>1.4 En el plan de estudio se da mayor relevancia al pensamiento computacional</th>\n      <th>1.5 El plan de estudio del área promueve la transición desde la alfabetización digital a las ciencias de la computación</th>\n      <th>1.6 El plan de estudios del área comprende el pensamiento computacional y su impacto dentro del proceso enseñanza-aprendizaje</th>\n      <th>1.7 El plan de estudios del área es coherente con la transición de un grado a otro y permite al estudiante desarrollar conocimientos, habilidades y comprensión del pensamiento computacional</th>\n      <th>1.8 El plan de estudios del área incluye trabajo práctico para el desarrollo del pensamiento computacional.</th>\n      <th>...</th>\n      <th>4.4 La IE capacita a los docentes en temas de equidad de género y apoya la implementación de acciones afirmativas en el aula de clases</th>\n      <th>4.5 La IE lleva un registro formal de las necesidades y participación de los docentes en actividades de desarrollo profesional</th>\n      <th>4.6 Los docentes de otras áreas se interesan por el área de tecnología e informática y la integran a su enseñanza</th>\n      <th>4.7 La IE incentiva el trabajo coordinado entre los/las responsables del área</th>\n      <th>4.8 La IE tiene en cuenta los conocimientos del personal docente para enriquecer la visión institucional sobre la enseñanza de la computación y potenciar la comprensión de las/los estudiantes y desarrollo</th>\n      <th>4.9 La IE promueve al trabajo conjunto entre los docente y profesionales líderes externos para impulsar prácticas inclusivas en la enseñanza de la computación y/o pensamiento computacional</th>\n      <th>4.10 El Consejo Directivo del colegio está al tanto de que en la institución se está enseñando ciencias de la computación, y se encuentran involucrados en el proceso.</th>\n      <th>4.11 Las directivas y el Consejo Directivo participan y evalúan la implementación de sistemas eficientes del plan de estudios del área.]</th>\n      <th>Comentarios P4</th>\n      <th>Fecha</th>\n    </tr>\n  </thead>\n  <tbody>\n    <tr>\n      <th>12</th>\n      <td>2022-04-19 10:18:58.798</td>\n      <td>166</td>\n      <td>Sí</td>\n      <td>Sí</td>\n      <td>Sí</td>\n      <td>Sí</td>\n      <td>Sí</td>\n      <td>Sí</td>\n      <td>Sí</td>\n      <td>Sí</td>\n      <td>...</td>\n      <td>No</td>\n      <td>No aplica</td>\n      <td>Sí</td>\n      <td>Sí</td>\n      <td>Sí</td>\n      <td>No</td>\n      <td>Sí</td>\n      <td>No</td>\n      <td>NaN</td>\n      <td>19/04</td>\n    </tr>\n    <tr>\n      <th>15</th>\n      <td>2022-04-19 13:24:50.679</td>\n      <td>166</td>\n      <td>Sí</td>\n      <td>Sí</td>\n      <td>Sí</td>\n      <td>Sí</td>\n      <td>Sí</td>\n      <td>Sí</td>\n      <td>No</td>\n      <td>Sí</td>\n      <td>...</td>\n      <td>Sí</td>\n      <td>Sí</td>\n      <td>No</td>\n      <td>Sí</td>\n      <td>Sí</td>\n      <td>Sí</td>\n      <td>No</td>\n      <td>Sí</td>\n      <td>NaN</td>\n      <td>19/04</td>\n    </tr>\n  </tbody>\n</table>\n<p>2 rows × 50 columns</p>\n</div>"
     },
     "execution_count": 17,
     "metadata": {},
     "output_type": "execute_result"
    }
   ],
   "source": [
    "lid[lid['Código IE']==166]"
   ],
   "metadata": {
    "collapsed": false,
    "pycharm": {
     "name": "#%%\n"
    }
   }
  },
  {
   "cell_type": "code",
   "execution_count": 18,
   "outputs": [
    {
     "data": {
      "text/plain": "        Código IE  \\\n0               1   \n1               2   \n2               3   \n3               4   \n4               5   \n..            ...   \n138           248   \n139           250   \n140           251   \n141           252   \n142  176001001770   \n\n    4.1 La IE tiene en cuenta el plan de estudios para determinar las actividades de desarrollo profesional  \\\n0                                                    4                                                        \n1                                                    4                                                        \n2                                                    4                                                        \n3                                                   2A                                                        \n4                                                    4                                                        \n..                                                 ...                                                        \n138                                                 2A                                                        \n139                                                 2A                                                        \n140                                                  4                                                        \n141                                                  4                                                        \n142                                                  4                                                        \n\n    4.2 La IE identifica las necesidades de los docentes para determinar actividades de desarrollo profesional  \\\n0                                                   2B                                                           \n1                                                    4                                                           \n2                                                    4                                                           \n3                                                   2B                                                           \n4                                                    4                                                           \n..                                                 ...                                                           \n138                                                  4                                                           \n139                                                 2B                                                           \n140                                                  4                                                           \n141                                                  4                                                           \n142                                                  4                                                           \n\n    4.3 La IE cuenta con espacios de discusión y planeación para actividades de desarrollo profesional  \\\n0                                                    4                                                   \n1                                                    4                                                   \n2                                                    4                                                   \n3                                                   2A                                                   \n4                                                    4                                                   \n..                                                 ...                                                   \n138                                                  4                                                   \n139                                                 2A                                                   \n140                                                  4                                                   \n141                                                  4                                                   \n142                                                  4                                                   \n\n    4.5 La IE lleva un registro formal de las necesidades y participación de los docentes en actividades de desarrollo profesional  \n0                                                    4                                                                              \n1                                                   2A                                                                              \n2                                                    4                                                                              \n3                                                   2A                                                                              \n4                                                    4                                                                              \n..                                                 ...                                                                              \n138                                                  4                                                                              \n139                                                 2A                                                                              \n140                                                  4                                                                              \n141                                                  4                                                                              \n142                                                  4                                                                              \n\n[143 rows x 5 columns]",
      "text/html": "<div>\n<style scoped>\n    .dataframe tbody tr th:only-of-type {\n        vertical-align: middle;\n    }\n\n    .dataframe tbody tr th {\n        vertical-align: top;\n    }\n\n    .dataframe thead th {\n        text-align: right;\n    }\n</style>\n<table border=\"1\" class=\"dataframe\">\n  <thead>\n    <tr style=\"text-align: right;\">\n      <th></th>\n      <th>Código IE</th>\n      <th>4.1 La IE tiene en cuenta el plan de estudios para determinar las actividades de desarrollo profesional</th>\n      <th>4.2 La IE identifica las necesidades de los docentes para determinar actividades de desarrollo profesional</th>\n      <th>4.3 La IE cuenta con espacios de discusión y planeación para actividades de desarrollo profesional</th>\n      <th>4.5 La IE lleva un registro formal de las necesidades y participación de los docentes en actividades de desarrollo profesional</th>\n    </tr>\n  </thead>\n  <tbody>\n    <tr>\n      <th>0</th>\n      <td>1</td>\n      <td>4</td>\n      <td>2B</td>\n      <td>4</td>\n      <td>4</td>\n    </tr>\n    <tr>\n      <th>1</th>\n      <td>2</td>\n      <td>4</td>\n      <td>4</td>\n      <td>4</td>\n      <td>2A</td>\n    </tr>\n    <tr>\n      <th>2</th>\n      <td>3</td>\n      <td>4</td>\n      <td>4</td>\n      <td>4</td>\n      <td>4</td>\n    </tr>\n    <tr>\n      <th>3</th>\n      <td>4</td>\n      <td>2A</td>\n      <td>2B</td>\n      <td>2A</td>\n      <td>2A</td>\n    </tr>\n    <tr>\n      <th>4</th>\n      <td>5</td>\n      <td>4</td>\n      <td>4</td>\n      <td>4</td>\n      <td>4</td>\n    </tr>\n    <tr>\n      <th>...</th>\n      <td>...</td>\n      <td>...</td>\n      <td>...</td>\n      <td>...</td>\n      <td>...</td>\n    </tr>\n    <tr>\n      <th>138</th>\n      <td>248</td>\n      <td>2A</td>\n      <td>4</td>\n      <td>4</td>\n      <td>4</td>\n    </tr>\n    <tr>\n      <th>139</th>\n      <td>250</td>\n      <td>2A</td>\n      <td>2B</td>\n      <td>2A</td>\n      <td>2A</td>\n    </tr>\n    <tr>\n      <th>140</th>\n      <td>251</td>\n      <td>4</td>\n      <td>4</td>\n      <td>4</td>\n      <td>4</td>\n    </tr>\n    <tr>\n      <th>141</th>\n      <td>252</td>\n      <td>4</td>\n      <td>4</td>\n      <td>4</td>\n      <td>4</td>\n    </tr>\n    <tr>\n      <th>142</th>\n      <td>176001001770</td>\n      <td>4</td>\n      <td>4</td>\n      <td>4</td>\n      <td>4</td>\n    </tr>\n  </tbody>\n</table>\n<p>143 rows × 5 columns</p>\n</div>"
     },
     "execution_count": 18,
     "metadata": {},
     "output_type": "execute_result"
    }
   ],
   "source": [
    "lid_D4 = lid[['Código IE']+list(cols_lid_d4.keys())]\n",
    "lid_D4 = lid_D4.replace(cols_lid_d4)\n",
    "lid_D4 = lid_D4.groupby('Código IE').max().reset_index()\n",
    "lid_D4"
   ],
   "metadata": {
    "collapsed": false,
    "pycharm": {
     "name": "#%%\n"
    }
   }
  },
  {
   "cell_type": "code",
   "execution_count": 19,
   "outputs": [
    {
     "data": {
      "text/plain": "     Código IE Nivel docentes  \\\n0            1              4   \n1            2              4   \n2            3              4   \n3            4             1A   \n4            5              4   \n..         ...            ...   \n120        237              4   \n121        238             1B   \n122        250              4   \n123        251              4   \n124        252              4   \n\n    4.1 La IE tiene en cuenta el plan de estudios para determinar las actividades de desarrollo profesional  \\\n0                                                    4                                                        \n1                                                    4                                                        \n2                                                    4                                                        \n3                                                   2A                                                        \n4                                                    4                                                        \n..                                                 ...                                                        \n120                                                 2A                                                        \n121                                                  4                                                        \n122                                                 2A                                                        \n123                                                  4                                                        \n124                                                  4                                                        \n\n    4.2 La IE identifica las necesidades de los docentes para determinar actividades de desarrollo profesional  \\\n0                                                   2B                                                           \n1                                                    4                                                           \n2                                                    4                                                           \n3                                                   2B                                                           \n4                                                    4                                                           \n..                                                 ...                                                           \n120                                                 2B                                                           \n121                                                  4                                                           \n122                                                 2B                                                           \n123                                                  4                                                           \n124                                                  4                                                           \n\n    4.3 La IE cuenta con espacios de discusión y planeación para actividades de desarrollo profesional  \\\n0                                                    4                                                   \n1                                                    4                                                   \n2                                                    4                                                   \n3                                                   2A                                                   \n4                                                    4                                                   \n..                                                 ...                                                   \n120                                                 2A                                                   \n121                                                  4                                                   \n122                                                 2A                                                   \n123                                                  4                                                   \n124                                                  4                                                   \n\n    4.5 La IE lleva un registro formal de las necesidades y participación de los docentes en actividades de desarrollo profesional  \n0                                                    4                                                                              \n1                                                   2A                                                                              \n2                                                    4                                                                              \n3                                                   2A                                                                              \n4                                                    4                                                                              \n..                                                 ...                                                                              \n120                                                 2A                                                                              \n121                                                 2A                                                                              \n122                                                 2A                                                                              \n123                                                  4                                                                              \n124                                                  4                                                                              \n\n[125 rows x 6 columns]",
      "text/html": "<div>\n<style scoped>\n    .dataframe tbody tr th:only-of-type {\n        vertical-align: middle;\n    }\n\n    .dataframe tbody tr th {\n        vertical-align: top;\n    }\n\n    .dataframe thead th {\n        text-align: right;\n    }\n</style>\n<table border=\"1\" class=\"dataframe\">\n  <thead>\n    <tr style=\"text-align: right;\">\n      <th></th>\n      <th>Código IE</th>\n      <th>Nivel docentes</th>\n      <th>4.1 La IE tiene en cuenta el plan de estudios para determinar las actividades de desarrollo profesional</th>\n      <th>4.2 La IE identifica las necesidades de los docentes para determinar actividades de desarrollo profesional</th>\n      <th>4.3 La IE cuenta con espacios de discusión y planeación para actividades de desarrollo profesional</th>\n      <th>4.5 La IE lleva un registro formal de las necesidades y participación de los docentes en actividades de desarrollo profesional</th>\n    </tr>\n  </thead>\n  <tbody>\n    <tr>\n      <th>0</th>\n      <td>1</td>\n      <td>4</td>\n      <td>4</td>\n      <td>2B</td>\n      <td>4</td>\n      <td>4</td>\n    </tr>\n    <tr>\n      <th>1</th>\n      <td>2</td>\n      <td>4</td>\n      <td>4</td>\n      <td>4</td>\n      <td>4</td>\n      <td>2A</td>\n    </tr>\n    <tr>\n      <th>2</th>\n      <td>3</td>\n      <td>4</td>\n      <td>4</td>\n      <td>4</td>\n      <td>4</td>\n      <td>4</td>\n    </tr>\n    <tr>\n      <th>3</th>\n      <td>4</td>\n      <td>1A</td>\n      <td>2A</td>\n      <td>2B</td>\n      <td>2A</td>\n      <td>2A</td>\n    </tr>\n    <tr>\n      <th>4</th>\n      <td>5</td>\n      <td>4</td>\n      <td>4</td>\n      <td>4</td>\n      <td>4</td>\n      <td>4</td>\n    </tr>\n    <tr>\n      <th>...</th>\n      <td>...</td>\n      <td>...</td>\n      <td>...</td>\n      <td>...</td>\n      <td>...</td>\n      <td>...</td>\n    </tr>\n    <tr>\n      <th>120</th>\n      <td>237</td>\n      <td>4</td>\n      <td>2A</td>\n      <td>2B</td>\n      <td>2A</td>\n      <td>2A</td>\n    </tr>\n    <tr>\n      <th>121</th>\n      <td>238</td>\n      <td>1B</td>\n      <td>4</td>\n      <td>4</td>\n      <td>4</td>\n      <td>2A</td>\n    </tr>\n    <tr>\n      <th>122</th>\n      <td>250</td>\n      <td>4</td>\n      <td>2A</td>\n      <td>2B</td>\n      <td>2A</td>\n      <td>2A</td>\n    </tr>\n    <tr>\n      <th>123</th>\n      <td>251</td>\n      <td>4</td>\n      <td>4</td>\n      <td>4</td>\n      <td>4</td>\n      <td>4</td>\n    </tr>\n    <tr>\n      <th>124</th>\n      <td>252</td>\n      <td>4</td>\n      <td>4</td>\n      <td>4</td>\n      <td>4</td>\n      <td>4</td>\n    </tr>\n  </tbody>\n</table>\n<p>125 rows × 6 columns</p>\n</div>"
     },
     "execution_count": 19,
     "metadata": {},
     "output_type": "execute_result"
    }
   ],
   "source": [
    "df_institucion = pd.merge(df_institucion, lid_D4, on='Código IE', how='inner')\n",
    "df_institucion"
   ],
   "metadata": {
    "collapsed": false,
    "pycharm": {
     "name": "#%%\n"
    }
   }
  },
  {
   "cell_type": "markdown",
   "source": [
    "#### Directivos"
   ],
   "metadata": {
    "collapsed": false,
    "pycharm": {
     "name": "#%% md\n"
    }
   }
  },
  {
   "cell_type": "code",
   "execution_count": 20,
   "outputs": [
    {
     "name": "stdout",
     "output_type": "stream",
     "text": [
      "(386, 62)\n",
      "Index(['Timestamp', 'Política de datos', 'ID', 'Edad', 'Sexo',\n",
      "       'Cabeza de hogar', 'Estado civil', 'Líder comunitario',\n",
      "       'Formación STEM', 'Rol en IE',\n",
      "       '¿En su institución hay estudiantes con algún tipo de discapacidad?',\n",
      "       'Estudiantes  con discapacidad intelectual',\n",
      "       'eliminar - Discapacidad intelectual (deficiencias en las capacidades mentales generales, como el razonamiento, la resolución de problemas, la planificación, el pensamiento abstracto, el juicio, el aprendizaje académico y el aprendizaje de la experiencia)',\n",
      "       'Estudiantes con Discapacidad física o motora',\n",
      "       'Estudiantes con Discapacidad auditiva',\n",
      "       'Estudiantes con Discapacidad visual',\n",
      "       'Estudiantes con Discapacidad psicosocial',\n",
      "       'Estudiantes con Discapacidad múltiple',\n",
      "       'Estudiante con Trastornos Específicos del Aprendizaje',\n",
      "       'eliminar - ¿Su colegio está en un contexto?',\n",
      "       'eliminar - ¿En qué departamento está tu colegio?',\n",
      "       'eliminar - Nombre de tu colegio', 'eliminar - Nombre de tu colegio.1',\n",
      "       'eliminar - Nombre de tu colegio.2',\n",
      "       'eliminar - Nombre de tu colegio.3',\n",
      "       'eliminar - Nombre de tu colegio.4',\n",
      "       'eliminar - Nombre de tu colegio.5',\n",
      "       'eliminar - Nombre de tu colegio.6',\n",
      "       'eliminar - Nombre de tu colegio.7',\n",
      "       'eliminar - Nombre de tu colegio.8',\n",
      "       'eliminar - Nombre de tu colegio.9',\n",
      "       'eliminar - Nombre de tu colegio.10',\n",
      "       'eliminar - Nombre de tu colegio.11',\n",
      "       'eliminar - Nombre de tu colegio.12',\n",
      "       'eliminar - Nombre de tu colegio.13',\n",
      "       'eliminar - Nombre de tu colegio.14',\n",
      "       'eliminar - Nombre de tu colegio.15',\n",
      "       'eliminar - Nombre de tu colegio.16',\n",
      "       'eliminar - Nombre de tu colegio.17',\n",
      "       'eliminar - Nombre de tu colegio.18',\n",
      "       'Considera importante enseñar el pensamiento computacional desde los primeros niveles educativos',\n",
      "       'Conceptos que deben incluirse en la clase de tecnología e informática',\n",
      "       'Comentarios autorreporte',\n",
      "       '1.1 Los maestros de esta Institución educativa incorporan el pensamiento computacional en sus clases',\n",
      "       '1.2 Los esfuerzos de los maestros para enseñar conceptos de pensamiento computacional son muy valorados en esta institución educativa',\n",
      "       '1.3 Animo a los maestros de otras disciplinas a asistir a oportunidades de desarrollo profesional enfocadas en pensamiento computacional.',\n",
      "       '1.4 Hay alguien en mi colegio que puede asesorar a los estudiantes sobre los caminos hacia una carrera en STEM',\n",
      "       '1.5 En los próximos tres años, espero que la cantidad de oportunidades para aprender sobre pensamiento computacional en este colegio aumenten',\n",
      "       '1.6 Es extremadamente importante que todos los estudiantes aprendan pensamiento computacional.',\n",
      "       '1.7 Tener educación en pensamiento computacional mejoraría significativamente las futuras opciones de carrera para los estudiantes de mi escuela.',\n",
      "       '1.8 El pensamiento computacional se utiliza en muchos tipos diferentes de trabajos.',\n",
      "       '1.9 Ofrecer oportunidades para aprender de pensamiento computacional tiene el mismo valor o más para el éxito futuro de un estudiante que otros cursos obligatorios como matemáticas, biología, ciencias sociales, historia e inglés',\n",
      "       '1.10 Conozco y puedo recomendar a mis estudiantes diferentes programas de formación relacionadas al pensamiento computacional y/o ciencias de la computación',\n",
      "       '1.11 Los estudiantes reciben asesoría vocacional sobre alternativas u oportunidades relacionadas a carreras STEM',\n",
      "       '1.12 Informo a mis estudiantes sobre oportunidades que existen para continuar los estudios en áreas relacionadas al pensamiento computacional y/o ciencias de la computación',\n",
      "       'Comentarios autodiagnóstico',\n",
      "       'Actividades que se promueven en esta institución educativa para apoyar la formación docente enfocadas en pensamiento computacional',\n",
      "       '¿La rotación de los docentes de tecnología e informática influye sobre la calidad y el aprendizaje del área de los estudiantes en los diferentes grados?',\n",
      "       'Código IE', 'Tipo de ID', 'Número de estudiantes matriculados',\n",
      "       'Unnamed: 61'],\n",
      "      dtype='object')\n"
     ]
    },
    {
     "data": {
      "text/plain": "3    18/04\n4    18/04\n5    18/04\n6    18/04\n7    18/04\nName: Fecha, dtype: object"
     },
     "execution_count": 20,
     "metadata": {},
     "output_type": "execute_result"
    }
   ],
   "source": [
    "dir = pd.read_excel('../../../data/raw/Dir_Con_Pre_100522.xlsx')\n",
    "print(dir.shape)\n",
    "print(dir.columns)\n",
    "dir['Timestamp'] = pd.to_datetime(dir['Timestamp'])\n",
    "dir = dir[dir.Timestamp>'2022-04-14']\n",
    "dir['Fecha'] = dir.Timestamp.dt.strftime('%d/%m')\n",
    "dir['Fecha'][:5]\n"
   ],
   "metadata": {
    "collapsed": false,
    "pycharm": {
     "name": "#%%\n"
    }
   }
  },
  {
   "cell_type": "code",
   "execution_count": 21,
   "outputs": [
    {
     "data": {
      "text/plain": "                  Timestamp Política de datos          ID  Edad       Sexo  \\\n3   2022-04-18 08:06:15.218                Sí  93410609.0  43.0  Masculino   \n4   2022-04-18 08:11:58.704                Sí   5933717.0  66.0  Masculino   \n5   2022-04-18 09:43:31.179                Sí  60311721.0  56.0   Femenino   \n6   2022-04-18 09:49:03.031                Sí  98525547.0  52.0  Masculino   \n7   2022-04-18 10:09:20.861                Sí  14244219.0  59.0  Masculino   \n..                      ...               ...         ...   ...        ...   \n380 2022-05-09 17:10:12.832                Sí  52754025.0  40.0   Femenino   \n382 2022-05-09 17:57:32.804                Sí  31524665.0  56.0   Femenino   \n383 2022-05-10 00:04:44.753                Sí  31148522.0  65.0   Femenino   \n384 2022-05-10 10:19:43.988                Sí  14219417.0  65.0  Masculino   \n385 2022-05-10 10:32:30.719                Sí  13472540.0  40.0  Masculino   \n\n    Cabeza de hogar               Estado civil Líder comunitario  \\\n3                Sí  Casado/a - En unión libre                No   \n4                Sí  Casado/a - En unión libre                Sí   \n5                Sí                  Soltero/a                Sí   \n6                Sí  Casado/a - En unión libre                No   \n7                Sí  Casado/a - En unión libre                No   \n..              ...                        ...               ...   \n380              Sí  Separado/a - Divorciado/a                No   \n382              No  Casado/a - En unión libre                No   \n383              Sí                    Viudo/a                No   \n384              No  Casado/a - En unión libre                No   \n385              No  Casado/a - En unión libre                No   \n\n    Formación STEM              Rol en IE  ...  \\\n3          No STEM    Directivo/a docente  ...   \n4          No STEM               Rector/a  ...   \n5             STEM               Rector/a  ...   \n6          No STEM  Coordinador/a de área  ...   \n7          No STEM    Directivo/a docente  ...   \n..             ...                    ...  ...   \n380        No STEM    Directivo/a docente  ...   \n382           STEM    Directivo/a docente  ...   \n383        No STEM    Directivo/a docente  ...   \n384           STEM    Directivo/a docente  ...   \n385        No STEM    Directivo/a docente  ...   \n\n    1.11 Los estudiantes reciben asesoría vocacional sobre alternativas u oportunidades relacionadas a carreras STEM  \\\n3                                                   No                                                                 \n4                                                   No                                                                 \n5                                                   Sí                                                                 \n6                                                   No                                                                 \n7                                                   Sí                                                                 \n..                                                 ...                                                                 \n380                                                 No                                                                 \n382                                                 No                                                                 \n383                                                 No                                                                 \n384                                                 Sí                                                                 \n385                                                 No                                                                 \n\n    1.12 Informo a mis estudiantes sobre oportunidades que existen para continuar los estudios en áreas relacionadas al pensamiento computacional y/o ciencias de la computación  \\\n3                                                   No                                                                                                                             \n4                                                   Sí                                                                                                                             \n5                                                   Sí                                                                                                                             \n6                                                   Sí                                                                                                                             \n7                                                   No                                                                                                                             \n..                                                 ...                                                                                                                             \n380                                                 No                                                                                                                             \n382                                                 No                                                                                                                             \n383                                                 No                                                                                                                             \n384                                                 Sí                                                                                                                             \n385                                                 No                                                                                                                             \n\n                           Comentarios autodiagnóstico  \\\n3    Hay ítems que no se hacen porque desconozco la...   \n4                       Es interesante abordar el yema   \n5    Hay compromisos con la media tecnica y con ñro...   \n6    Es necesario cualificar el acompañamiento a lo...   \n7                                              Ninguno   \n..                                                 ...   \n380                                                NaN   \n382                                                NaN   \n383                                No tengo Comentario   \n384                                                NaN   \n385                                                NaN   \n\n    Actividades que se promueven en esta institución educativa para apoyar la formación docente enfocadas en pensamiento computacional  \\\n3                                  Observación de aula                                                                                   \n4                                  Observación de aula                                                                                   \n5                        Observación de aula, Mentoría                                                                                   \n6                                 Investigación-Acción                                                                                   \n7                                          Autoestudio                                                                                   \n..                                                 ...                                                                                   \n380                                           Mentoría                                                                                   \n382                          Ninguna de las anteriores                                                                                   \n383                                Observación de aula                                                                                   \n384                                        Autoestudio                                                                                   \n385                                        Autoestudio                                                                                   \n\n    ¿La rotación de los docentes de tecnología e informática influye sobre la calidad y el aprendizaje del área de los estudiantes en los diferentes grados?  \\\n3                                         Casi siempre                                                                                                         \n4                                                Nunca                                                                                                         \n5                                              A veces                                                                                                         \n6                                         Casi siempre                                                                                                         \n7                                           Casi nunca                                                                                                         \n..                                                 ...                                                                                                         \n380                                         Casi nunca                                                                                                         \n382                                         Casi nunca                                                                                                         \n383                                       Casi siempre                                                                                                         \n384                                       Casi siempre                                                                                                         \n385                                       Casi siempre                                                                                                         \n\n    Código IE            Tipo de ID Número de estudiantes matriculados  \\\n3       206.0  Cédula de ciudadanía                                NaN   \n4       206.0  Cédula de ciudadanía                                NaN   \n5       235.0  Cédula de ciudadanía                                NaN   \n6       235.0  Cédula de ciudadanía                                NaN   \n7        32.0  Cédula de ciudadanía                               2000   \n..        ...                   ...                                ...   \n380     208.0  Cédula de ciudadanía                               2970   \n382      16.0  Cédula de ciudadanía                               1800   \n383      19.0  Cédula de ciudadanía                               2400   \n384     204.0  Cédula de ciudadanía                               1200   \n385     225.0  Cédula de ciudadanía                                963   \n\n    Unnamed: 61  Fecha  \n3           NaN  18/04  \n4           NaN  18/04  \n5           NaN  18/04  \n6           NaN  18/04  \n7           NaN  18/04  \n..          ...    ...  \n380       177.0  09/05  \n382        60.0  09/05  \n383        40.0  10/05  \n384        42.0  10/05  \n385        27.0  10/05  \n\n[378 rows x 41 columns]",
      "text/html": "<div>\n<style scoped>\n    .dataframe tbody tr th:only-of-type {\n        vertical-align: middle;\n    }\n\n    .dataframe tbody tr th {\n        vertical-align: top;\n    }\n\n    .dataframe thead th {\n        text-align: right;\n    }\n</style>\n<table border=\"1\" class=\"dataframe\">\n  <thead>\n    <tr style=\"text-align: right;\">\n      <th></th>\n      <th>Timestamp</th>\n      <th>Política de datos</th>\n      <th>ID</th>\n      <th>Edad</th>\n      <th>Sexo</th>\n      <th>Cabeza de hogar</th>\n      <th>Estado civil</th>\n      <th>Líder comunitario</th>\n      <th>Formación STEM</th>\n      <th>Rol en IE</th>\n      <th>...</th>\n      <th>1.11 Los estudiantes reciben asesoría vocacional sobre alternativas u oportunidades relacionadas a carreras STEM</th>\n      <th>1.12 Informo a mis estudiantes sobre oportunidades que existen para continuar los estudios en áreas relacionadas al pensamiento computacional y/o ciencias de la computación</th>\n      <th>Comentarios autodiagnóstico</th>\n      <th>Actividades que se promueven en esta institución educativa para apoyar la formación docente enfocadas en pensamiento computacional</th>\n      <th>¿La rotación de los docentes de tecnología e informática influye sobre la calidad y el aprendizaje del área de los estudiantes en los diferentes grados?</th>\n      <th>Código IE</th>\n      <th>Tipo de ID</th>\n      <th>Número de estudiantes matriculados</th>\n      <th>Unnamed: 61</th>\n      <th>Fecha</th>\n    </tr>\n  </thead>\n  <tbody>\n    <tr>\n      <th>3</th>\n      <td>2022-04-18 08:06:15.218</td>\n      <td>Sí</td>\n      <td>93410609.0</td>\n      <td>43.0</td>\n      <td>Masculino</td>\n      <td>Sí</td>\n      <td>Casado/a - En unión libre</td>\n      <td>No</td>\n      <td>No STEM</td>\n      <td>Directivo/a docente</td>\n      <td>...</td>\n      <td>No</td>\n      <td>No</td>\n      <td>Hay ítems que no se hacen porque desconozco la...</td>\n      <td>Observación de aula</td>\n      <td>Casi siempre</td>\n      <td>206.0</td>\n      <td>Cédula de ciudadanía</td>\n      <td>NaN</td>\n      <td>NaN</td>\n      <td>18/04</td>\n    </tr>\n    <tr>\n      <th>4</th>\n      <td>2022-04-18 08:11:58.704</td>\n      <td>Sí</td>\n      <td>5933717.0</td>\n      <td>66.0</td>\n      <td>Masculino</td>\n      <td>Sí</td>\n      <td>Casado/a - En unión libre</td>\n      <td>Sí</td>\n      <td>No STEM</td>\n      <td>Rector/a</td>\n      <td>...</td>\n      <td>No</td>\n      <td>Sí</td>\n      <td>Es interesante abordar el yema</td>\n      <td>Observación de aula</td>\n      <td>Nunca</td>\n      <td>206.0</td>\n      <td>Cédula de ciudadanía</td>\n      <td>NaN</td>\n      <td>NaN</td>\n      <td>18/04</td>\n    </tr>\n    <tr>\n      <th>5</th>\n      <td>2022-04-18 09:43:31.179</td>\n      <td>Sí</td>\n      <td>60311721.0</td>\n      <td>56.0</td>\n      <td>Femenino</td>\n      <td>Sí</td>\n      <td>Soltero/a</td>\n      <td>Sí</td>\n      <td>STEM</td>\n      <td>Rector/a</td>\n      <td>...</td>\n      <td>Sí</td>\n      <td>Sí</td>\n      <td>Hay compromisos con la media tecnica y con ñro...</td>\n      <td>Observación de aula, Mentoría</td>\n      <td>A veces</td>\n      <td>235.0</td>\n      <td>Cédula de ciudadanía</td>\n      <td>NaN</td>\n      <td>NaN</td>\n      <td>18/04</td>\n    </tr>\n    <tr>\n      <th>6</th>\n      <td>2022-04-18 09:49:03.031</td>\n      <td>Sí</td>\n      <td>98525547.0</td>\n      <td>52.0</td>\n      <td>Masculino</td>\n      <td>Sí</td>\n      <td>Casado/a - En unión libre</td>\n      <td>No</td>\n      <td>No STEM</td>\n      <td>Coordinador/a de área</td>\n      <td>...</td>\n      <td>No</td>\n      <td>Sí</td>\n      <td>Es necesario cualificar el acompañamiento a lo...</td>\n      <td>Investigación-Acción</td>\n      <td>Casi siempre</td>\n      <td>235.0</td>\n      <td>Cédula de ciudadanía</td>\n      <td>NaN</td>\n      <td>NaN</td>\n      <td>18/04</td>\n    </tr>\n    <tr>\n      <th>7</th>\n      <td>2022-04-18 10:09:20.861</td>\n      <td>Sí</td>\n      <td>14244219.0</td>\n      <td>59.0</td>\n      <td>Masculino</td>\n      <td>Sí</td>\n      <td>Casado/a - En unión libre</td>\n      <td>No</td>\n      <td>No STEM</td>\n      <td>Directivo/a docente</td>\n      <td>...</td>\n      <td>Sí</td>\n      <td>No</td>\n      <td>Ninguno</td>\n      <td>Autoestudio</td>\n      <td>Casi nunca</td>\n      <td>32.0</td>\n      <td>Cédula de ciudadanía</td>\n      <td>2000</td>\n      <td>NaN</td>\n      <td>18/04</td>\n    </tr>\n    <tr>\n      <th>...</th>\n      <td>...</td>\n      <td>...</td>\n      <td>...</td>\n      <td>...</td>\n      <td>...</td>\n      <td>...</td>\n      <td>...</td>\n      <td>...</td>\n      <td>...</td>\n      <td>...</td>\n      <td>...</td>\n      <td>...</td>\n      <td>...</td>\n      <td>...</td>\n      <td>...</td>\n      <td>...</td>\n      <td>...</td>\n      <td>...</td>\n      <td>...</td>\n      <td>...</td>\n      <td>...</td>\n    </tr>\n    <tr>\n      <th>380</th>\n      <td>2022-05-09 17:10:12.832</td>\n      <td>Sí</td>\n      <td>52754025.0</td>\n      <td>40.0</td>\n      <td>Femenino</td>\n      <td>Sí</td>\n      <td>Separado/a - Divorciado/a</td>\n      <td>No</td>\n      <td>No STEM</td>\n      <td>Directivo/a docente</td>\n      <td>...</td>\n      <td>No</td>\n      <td>No</td>\n      <td>NaN</td>\n      <td>Mentoría</td>\n      <td>Casi nunca</td>\n      <td>208.0</td>\n      <td>Cédula de ciudadanía</td>\n      <td>2970</td>\n      <td>177.0</td>\n      <td>09/05</td>\n    </tr>\n    <tr>\n      <th>382</th>\n      <td>2022-05-09 17:57:32.804</td>\n      <td>Sí</td>\n      <td>31524665.0</td>\n      <td>56.0</td>\n      <td>Femenino</td>\n      <td>No</td>\n      <td>Casado/a - En unión libre</td>\n      <td>No</td>\n      <td>STEM</td>\n      <td>Directivo/a docente</td>\n      <td>...</td>\n      <td>No</td>\n      <td>No</td>\n      <td>NaN</td>\n      <td>Ninguna de las anteriores</td>\n      <td>Casi nunca</td>\n      <td>16.0</td>\n      <td>Cédula de ciudadanía</td>\n      <td>1800</td>\n      <td>60.0</td>\n      <td>09/05</td>\n    </tr>\n    <tr>\n      <th>383</th>\n      <td>2022-05-10 00:04:44.753</td>\n      <td>Sí</td>\n      <td>31148522.0</td>\n      <td>65.0</td>\n      <td>Femenino</td>\n      <td>Sí</td>\n      <td>Viudo/a</td>\n      <td>No</td>\n      <td>No STEM</td>\n      <td>Directivo/a docente</td>\n      <td>...</td>\n      <td>No</td>\n      <td>No</td>\n      <td>No tengo Comentario</td>\n      <td>Observación de aula</td>\n      <td>Casi siempre</td>\n      <td>19.0</td>\n      <td>Cédula de ciudadanía</td>\n      <td>2400</td>\n      <td>40.0</td>\n      <td>10/05</td>\n    </tr>\n    <tr>\n      <th>384</th>\n      <td>2022-05-10 10:19:43.988</td>\n      <td>Sí</td>\n      <td>14219417.0</td>\n      <td>65.0</td>\n      <td>Masculino</td>\n      <td>No</td>\n      <td>Casado/a - En unión libre</td>\n      <td>No</td>\n      <td>STEM</td>\n      <td>Directivo/a docente</td>\n      <td>...</td>\n      <td>Sí</td>\n      <td>Sí</td>\n      <td>NaN</td>\n      <td>Autoestudio</td>\n      <td>Casi siempre</td>\n      <td>204.0</td>\n      <td>Cédula de ciudadanía</td>\n      <td>1200</td>\n      <td>42.0</td>\n      <td>10/05</td>\n    </tr>\n    <tr>\n      <th>385</th>\n      <td>2022-05-10 10:32:30.719</td>\n      <td>Sí</td>\n      <td>13472540.0</td>\n      <td>40.0</td>\n      <td>Masculino</td>\n      <td>No</td>\n      <td>Casado/a - En unión libre</td>\n      <td>No</td>\n      <td>No STEM</td>\n      <td>Directivo/a docente</td>\n      <td>...</td>\n      <td>No</td>\n      <td>No</td>\n      <td>NaN</td>\n      <td>Autoestudio</td>\n      <td>Casi siempre</td>\n      <td>225.0</td>\n      <td>Cédula de ciudadanía</td>\n      <td>963</td>\n      <td>27.0</td>\n      <td>10/05</td>\n    </tr>\n  </tbody>\n</table>\n<p>378 rows × 41 columns</p>\n</div>"
     },
     "execution_count": 21,
     "metadata": {},
     "output_type": "execute_result"
    }
   ],
   "source": [
    "dir = dir.drop(columns=dir.filter(regex=r'eliminar').columns)\n",
    "dir = dir.dropna(subset='Código IE')\n",
    "dir"
   ],
   "metadata": {
    "collapsed": false,
    "pycharm": {
     "name": "#%%\n"
    }
   }
  },
  {
   "cell_type": "code",
   "execution_count": 22,
   "outputs": [],
   "source": [
    "cols_dir_d4 = ['Código IE']"
   ],
   "metadata": {
    "collapsed": false,
    "pycharm": {
     "name": "#%%\n"
    }
   }
  },
  {
   "cell_type": "code",
   "execution_count": 23,
   "outputs": [],
   "source": [
    "dir['Actividades PC'] = 1*(dir['Actividades que se promueven en esta institución educativa para apoyar la formación docente enfocadas en pensamiento computacional'].str.contains(\"Ninguna de las anteriores\"))\n",
    "dir['Actividades PC'] = dir['Actividades PC'].replace({1:'2A', 0:\"4\"})\n",
    "dir['Actividades PC']\n",
    "\n",
    "cols_dir_d4.append('Actividades PC')"
   ],
   "metadata": {
    "collapsed": false,
    "pycharm": {
     "name": "#%%\n"
    }
   }
  },
  {
   "cell_type": "code",
   "execution_count": 24,
   "outputs": [
    {
     "data": {
      "text/plain": "['Casi siempre', 'Nunca', 'A veces', 'Casi nunca', 'Siempre']"
     },
     "execution_count": 24,
     "metadata": {},
     "output_type": "execute_result"
    }
   ],
   "source": [
    "list(dir['¿La rotación de los docentes de tecnología e informática influye sobre la calidad y el aprendizaje del área de los estudiantes en los diferentes grados?'].unique())"
   ],
   "metadata": {
    "collapsed": false,
    "pycharm": {
     "name": "#%%\n"
    }
   }
  },
  {
   "cell_type": "code",
   "execution_count": 25,
   "outputs": [
    {
     "data": {
      "text/plain": "3      Casi siempre\n4             Nunca\n5           A veces\n6      Casi siempre\n7        Casi nunca\n           ...     \n380      Casi nunca\n382      Casi nunca\n383    Casi siempre\n384    Casi siempre\n385    Casi siempre\nName: ¿La rotación de los docentes de tecnología e informática influye sobre la calidad y el aprendizaje del área de los estudiantes en los diferentes grados?, Length: 378, dtype: object"
     },
     "execution_count": 25,
     "metadata": {},
     "output_type": "execute_result"
    }
   ],
   "source": [
    "dir['¿La rotación de los docentes de tecnología e informática influye sobre la calidad y el aprendizaje del área de los estudiantes en los diferentes grados?']"
   ],
   "metadata": {
    "collapsed": false,
    "pycharm": {
     "name": "#%%\n"
    }
   }
  },
  {
   "cell_type": "code",
   "execution_count": 26,
   "outputs": [],
   "source": [
    "dir['Rotación influye'] = dir['¿La rotación de los docentes de tecnología e informática influye sobre la calidad y el aprendizaje del área de los estudiantes en los diferentes grados?'].isin(['Nunca', 'Casi nunca']).replace({True:\"3\", False: \"2B\"})\n",
    "dir['Rotación influye']\n",
    "\n",
    "cols_dir_d4.append('Rotación influye')"
   ],
   "metadata": {
    "collapsed": false,
    "pycharm": {
     "name": "#%%\n"
    }
   }
  },
  {
   "cell_type": "code",
   "execution_count": 27,
   "outputs": [],
   "source": [
    "dict_d4 = {\n",
    "                  '1.3 Animo a los maestros de otras disciplinas a asistir a oportunidades de desarrollo profesional enfocadas en pensamiento computacional.':\n",
    "                      { \"No\":\"2B\", \"No aplica\": \"2B\", \"Sí\": \"3\"},\n",
    "}\n",
    "cols_dir_d4.append(list(dict_d4.keys())[0])"
   ],
   "metadata": {
    "collapsed": false,
    "pycharm": {
     "name": "#%%\n"
    }
   }
  },
  {
   "cell_type": "code",
   "execution_count": 28,
   "outputs": [
    {
     "data": {
      "text/plain": "['Código IE',\n 'Actividades PC',\n 'Rotación influye',\n '1.3 Animo a los maestros de otras disciplinas a asistir a oportunidades de desarrollo profesional enfocadas en pensamiento computacional.']"
     },
     "execution_count": 28,
     "metadata": {},
     "output_type": "execute_result"
    }
   ],
   "source": [
    "cols_dir_d4"
   ],
   "metadata": {
    "collapsed": false,
    "pycharm": {
     "name": "#%%\n"
    }
   }
  },
  {
   "cell_type": "code",
   "execution_count": 29,
   "outputs": [
    {
     "data": {
      "text/plain": "     Código IE Actividades PC Rotación influye  \\\n0          0.0              4               2B   \n1          1.0              4               2B   \n2          2.0              4               2B   \n3          3.0              4                3   \n4          4.0              4                3   \n..         ...            ...              ...   \n170      247.0              4               2B   \n171      248.0              4               2B   \n172      250.0              4                3   \n173      251.0              4               2B   \n174      252.0              4               2B   \n\n    1.3 Animo a los maestros de otras disciplinas a asistir a oportunidades de desarrollo profesional enfocadas en pensamiento computacional.  \n0                                                    3                                                                                         \n1                                                    3                                                                                         \n2                                                    3                                                                                         \n3                                                    3                                                                                         \n4                                                   2B                                                                                         \n..                                                 ...                                                                                         \n170                                                  3                                                                                         \n171                                                  3                                                                                         \n172                                                  3                                                                                         \n173                                                  3                                                                                         \n174                                                  3                                                                                         \n\n[175 rows x 4 columns]",
      "text/html": "<div>\n<style scoped>\n    .dataframe tbody tr th:only-of-type {\n        vertical-align: middle;\n    }\n\n    .dataframe tbody tr th {\n        vertical-align: top;\n    }\n\n    .dataframe thead th {\n        text-align: right;\n    }\n</style>\n<table border=\"1\" class=\"dataframe\">\n  <thead>\n    <tr style=\"text-align: right;\">\n      <th></th>\n      <th>Código IE</th>\n      <th>Actividades PC</th>\n      <th>Rotación influye</th>\n      <th>1.3 Animo a los maestros de otras disciplinas a asistir a oportunidades de desarrollo profesional enfocadas en pensamiento computacional.</th>\n    </tr>\n  </thead>\n  <tbody>\n    <tr>\n      <th>0</th>\n      <td>0.0</td>\n      <td>4</td>\n      <td>2B</td>\n      <td>3</td>\n    </tr>\n    <tr>\n      <th>1</th>\n      <td>1.0</td>\n      <td>4</td>\n      <td>2B</td>\n      <td>3</td>\n    </tr>\n    <tr>\n      <th>2</th>\n      <td>2.0</td>\n      <td>4</td>\n      <td>2B</td>\n      <td>3</td>\n    </tr>\n    <tr>\n      <th>3</th>\n      <td>3.0</td>\n      <td>4</td>\n      <td>3</td>\n      <td>3</td>\n    </tr>\n    <tr>\n      <th>4</th>\n      <td>4.0</td>\n      <td>4</td>\n      <td>3</td>\n      <td>2B</td>\n    </tr>\n    <tr>\n      <th>...</th>\n      <td>...</td>\n      <td>...</td>\n      <td>...</td>\n      <td>...</td>\n    </tr>\n    <tr>\n      <th>170</th>\n      <td>247.0</td>\n      <td>4</td>\n      <td>2B</td>\n      <td>3</td>\n    </tr>\n    <tr>\n      <th>171</th>\n      <td>248.0</td>\n      <td>4</td>\n      <td>2B</td>\n      <td>3</td>\n    </tr>\n    <tr>\n      <th>172</th>\n      <td>250.0</td>\n      <td>4</td>\n      <td>3</td>\n      <td>3</td>\n    </tr>\n    <tr>\n      <th>173</th>\n      <td>251.0</td>\n      <td>4</td>\n      <td>2B</td>\n      <td>3</td>\n    </tr>\n    <tr>\n      <th>174</th>\n      <td>252.0</td>\n      <td>4</td>\n      <td>2B</td>\n      <td>3</td>\n    </tr>\n  </tbody>\n</table>\n<p>175 rows × 4 columns</p>\n</div>"
     },
     "execution_count": 29,
     "metadata": {},
     "output_type": "execute_result"
    }
   ],
   "source": [
    "dir = dir.replace(dict_d4)\n",
    "dir_d4 = dir[cols_dir_d4]\n",
    "dir_d4 = dir_d4.groupby('Código IE').max().reset_index()\n",
    "dir_d4\n"
   ],
   "metadata": {
    "collapsed": false,
    "pycharm": {
     "name": "#%%\n"
    }
   }
  },
  {
   "cell_type": "code",
   "execution_count": 30,
   "outputs": [
    {
     "data": {
      "text/plain": "     Código IE Nivel docentes  \\\n0            1              4   \n1            2              4   \n2            3              4   \n3            4             1A   \n4            5              4   \n..         ...            ...   \n107        237              4   \n108        238             1B   \n109        250              4   \n110        251              4   \n111        252              4   \n\n    4.1 La IE tiene en cuenta el plan de estudios para determinar las actividades de desarrollo profesional  \\\n0                                                    4                                                        \n1                                                    4                                                        \n2                                                    4                                                        \n3                                                   2A                                                        \n4                                                    4                                                        \n..                                                 ...                                                        \n107                                                 2A                                                        \n108                                                  4                                                        \n109                                                 2A                                                        \n110                                                  4                                                        \n111                                                  4                                                        \n\n    4.2 La IE identifica las necesidades de los docentes para determinar actividades de desarrollo profesional  \\\n0                                                   2B                                                           \n1                                                    4                                                           \n2                                                    4                                                           \n3                                                   2B                                                           \n4                                                    4                                                           \n..                                                 ...                                                           \n107                                                 2B                                                           \n108                                                  4                                                           \n109                                                 2B                                                           \n110                                                  4                                                           \n111                                                  4                                                           \n\n    4.3 La IE cuenta con espacios de discusión y planeación para actividades de desarrollo profesional  \\\n0                                                    4                                                   \n1                                                    4                                                   \n2                                                    4                                                   \n3                                                   2A                                                   \n4                                                    4                                                   \n..                                                 ...                                                   \n107                                                 2A                                                   \n108                                                  4                                                   \n109                                                 2A                                                   \n110                                                  4                                                   \n111                                                  4                                                   \n\n    4.5 La IE lleva un registro formal de las necesidades y participación de los docentes en actividades de desarrollo profesional  \\\n0                                                    4                                                                               \n1                                                   2A                                                                               \n2                                                    4                                                                               \n3                                                   2A                                                                               \n4                                                    4                                                                               \n..                                                 ...                                                                               \n107                                                 2A                                                                               \n108                                                 2A                                                                               \n109                                                 2A                                                                               \n110                                                  4                                                                               \n111                                                  4                                                                               \n\n    Actividades PC Rotación influye  \\\n0                4               2B   \n1                4               2B   \n2                4                3   \n3                4                3   \n4                4               2B   \n..             ...              ...   \n107              4               2B   \n108              4               2B   \n109              4                3   \n110              4               2B   \n111              4               2B   \n\n    1.3 Animo a los maestros de otras disciplinas a asistir a oportunidades de desarrollo profesional enfocadas en pensamiento computacional.  \n0                                                    3                                                                                         \n1                                                    3                                                                                         \n2                                                    3                                                                                         \n3                                                   2B                                                                                         \n4                                                    3                                                                                         \n..                                                 ...                                                                                         \n107                                                 2B                                                                                         \n108                                                  3                                                                                         \n109                                                  3                                                                                         \n110                                                  3                                                                                         \n111                                                  3                                                                                         \n\n[112 rows x 9 columns]",
      "text/html": "<div>\n<style scoped>\n    .dataframe tbody tr th:only-of-type {\n        vertical-align: middle;\n    }\n\n    .dataframe tbody tr th {\n        vertical-align: top;\n    }\n\n    .dataframe thead th {\n        text-align: right;\n    }\n</style>\n<table border=\"1\" class=\"dataframe\">\n  <thead>\n    <tr style=\"text-align: right;\">\n      <th></th>\n      <th>Código IE</th>\n      <th>Nivel docentes</th>\n      <th>4.1 La IE tiene en cuenta el plan de estudios para determinar las actividades de desarrollo profesional</th>\n      <th>4.2 La IE identifica las necesidades de los docentes para determinar actividades de desarrollo profesional</th>\n      <th>4.3 La IE cuenta con espacios de discusión y planeación para actividades de desarrollo profesional</th>\n      <th>4.5 La IE lleva un registro formal de las necesidades y participación de los docentes en actividades de desarrollo profesional</th>\n      <th>Actividades PC</th>\n      <th>Rotación influye</th>\n      <th>1.3 Animo a los maestros de otras disciplinas a asistir a oportunidades de desarrollo profesional enfocadas en pensamiento computacional.</th>\n    </tr>\n  </thead>\n  <tbody>\n    <tr>\n      <th>0</th>\n      <td>1</td>\n      <td>4</td>\n      <td>4</td>\n      <td>2B</td>\n      <td>4</td>\n      <td>4</td>\n      <td>4</td>\n      <td>2B</td>\n      <td>3</td>\n    </tr>\n    <tr>\n      <th>1</th>\n      <td>2</td>\n      <td>4</td>\n      <td>4</td>\n      <td>4</td>\n      <td>4</td>\n      <td>2A</td>\n      <td>4</td>\n      <td>2B</td>\n      <td>3</td>\n    </tr>\n    <tr>\n      <th>2</th>\n      <td>3</td>\n      <td>4</td>\n      <td>4</td>\n      <td>4</td>\n      <td>4</td>\n      <td>4</td>\n      <td>4</td>\n      <td>3</td>\n      <td>3</td>\n    </tr>\n    <tr>\n      <th>3</th>\n      <td>4</td>\n      <td>1A</td>\n      <td>2A</td>\n      <td>2B</td>\n      <td>2A</td>\n      <td>2A</td>\n      <td>4</td>\n      <td>3</td>\n      <td>2B</td>\n    </tr>\n    <tr>\n      <th>4</th>\n      <td>5</td>\n      <td>4</td>\n      <td>4</td>\n      <td>4</td>\n      <td>4</td>\n      <td>4</td>\n      <td>4</td>\n      <td>2B</td>\n      <td>3</td>\n    </tr>\n    <tr>\n      <th>...</th>\n      <td>...</td>\n      <td>...</td>\n      <td>...</td>\n      <td>...</td>\n      <td>...</td>\n      <td>...</td>\n      <td>...</td>\n      <td>...</td>\n      <td>...</td>\n    </tr>\n    <tr>\n      <th>107</th>\n      <td>237</td>\n      <td>4</td>\n      <td>2A</td>\n      <td>2B</td>\n      <td>2A</td>\n      <td>2A</td>\n      <td>4</td>\n      <td>2B</td>\n      <td>2B</td>\n    </tr>\n    <tr>\n      <th>108</th>\n      <td>238</td>\n      <td>1B</td>\n      <td>4</td>\n      <td>4</td>\n      <td>4</td>\n      <td>2A</td>\n      <td>4</td>\n      <td>2B</td>\n      <td>3</td>\n    </tr>\n    <tr>\n      <th>109</th>\n      <td>250</td>\n      <td>4</td>\n      <td>2A</td>\n      <td>2B</td>\n      <td>2A</td>\n      <td>2A</td>\n      <td>4</td>\n      <td>3</td>\n      <td>3</td>\n    </tr>\n    <tr>\n      <th>110</th>\n      <td>251</td>\n      <td>4</td>\n      <td>4</td>\n      <td>4</td>\n      <td>4</td>\n      <td>4</td>\n      <td>4</td>\n      <td>2B</td>\n      <td>3</td>\n    </tr>\n    <tr>\n      <th>111</th>\n      <td>252</td>\n      <td>4</td>\n      <td>4</td>\n      <td>4</td>\n      <td>4</td>\n      <td>4</td>\n      <td>4</td>\n      <td>2B</td>\n      <td>3</td>\n    </tr>\n  </tbody>\n</table>\n<p>112 rows × 9 columns</p>\n</div>"
     },
     "execution_count": 30,
     "metadata": {},
     "output_type": "execute_result"
    }
   ],
   "source": [
    "df_institucion = pd.merge(df_institucion, dir_d4, on='Código IE')\n",
    "df_institucion"
   ],
   "metadata": {
    "collapsed": false,
    "pycharm": {
     "name": "#%%\n"
    }
   }
  },
  {
   "cell_type": "code",
   "execution_count": 31,
   "outputs": [],
   "source": [
    "df_institucion['Dimensión 4'] = df_institucion.iloc[:,1:].min(axis=1)"
   ],
   "metadata": {
    "collapsed": false,
    "pycharm": {
     "name": "#%%\n"
    }
   }
  },
  {
   "cell_type": "code",
   "execution_count": 32,
   "outputs": [],
   "source": [
    "df_institucion.to_excel(\"Dimension 4.xlsx\")"
   ],
   "metadata": {
    "collapsed": false,
    "pycharm": {
     "name": "#%%\n"
    }
   }
  },
  {
   "cell_type": "code",
   "execution_count": 33,
   "outputs": [
    {
     "data": {
      "text/plain": "     Código IE  Conoce PC  Interesado en tecnologia  \\\n0            1         90                       109   \n1            2         35                        53   \n2            3         41                        43   \n3            4         24                        35   \n4            5         69                        99   \n..         ...        ...                       ...   \n130        250         37                        50   \n131        251         81                        77   \n132        252         37                        42   \n133        259          1                         0   \n134        297          1                         1   \n\n     Media nacional autoeficacia  Media nacional interés  \\\n0                      66.752077               40.633652   \n1                      66.752077               40.633652   \n2                      66.752077               40.633652   \n3                      66.752077               40.633652   \n4                      66.752077               40.633652   \n..                           ...                     ...   \n130                    66.752077               40.633652   \n131                    66.752077               40.633652   \n132                    66.752077               40.633652   \n133                    66.752077               40.633652   \n134                    66.752077               40.633652   \n\n     Media nacional resultados  Puntaje autoeficacia  Puntaje conocimiento  \\\n0                    32.216324             69.466667             28.363636   \n1                    32.216324             59.104478             24.830393   \n2                    32.216324             69.904762             29.870130   \n3                    32.216324             66.222222             33.737374   \n4                    32.216324             73.981651             30.942452   \n..                         ...                   ...                   ...   \n130                  32.216324             62.024096             23.767798   \n131                  32.216324             66.909091             25.770098   \n132                  32.216324             62.714286             24.188312   \n133                  32.216324             60.000000              9.090909   \n134                  32.216324             76.000000             27.272727   \n\n     Puntaje conocimientos PC  Puntaje interes  ...  Diferencia Autoeficacia  \\\n0                   58.566667        36.333333  ...                 4.066675   \n1                   51.492537        47.388060  ...               -11.456721   \n2                   59.761905        39.285714  ...                 4.722977   \n3                   59.555556        46.666667  ...                -0.793765   \n4                   61.422018        55.504587  ...                10.830487   \n..                        ...              ...  ...                      ...   \n130                 54.337349        24.397590  ...                -7.082896   \n131                 59.504132        27.479339  ...                 0.235220   \n132                 57.946429        33.035714  ...                -6.048937   \n133                 85.000000         0.000000  ...               -10.115156   \n134                 70.000000        25.000000  ...                13.854136   \n\n     Diferencia interes  Nivel ConocePC  Nivel PuntajePC  Nivel Resultados  \\\n0            -10.583146              2B               1B                2A   \n1             16.622694              2B               1B                2A   \n2             -3.317294               3               1B                2A   \n3             14.847335              2B               1B                2B   \n4             36.597584               3               2A                2A   \n..                  ...             ...              ...               ...   \n130          -39.957181              2A               1B                2A   \n131          -32.372953               3               1B                2A   \n132          -18.698634               3               1B                2A   \n133         -100.000000               3                3                1A   \n134          -38.474642               3               2A                2A   \n\n     Nivel Interes Nivel Interes pares Nivel Autoeficacia  \\\n0               2B                  2B                  4   \n1               2B                   4                 2A   \n2               2B                  2B                  4   \n3               2B                   4                  4   \n4                4                   4                  4   \n..             ...                 ...                ...   \n130             2B                  2A                  4   \n131             2B                  2A                  4   \n132             2B                  2B                  4   \n133             1A                  1B                 2A   \n134              4                  2A                  4   \n\n    Nivel Autoeficacia pares Dimensión 7  \n0                         2B          1B  \n1                         2A          1B  \n2                         2B          1B  \n3                         2A          1B  \n4                          3          2A  \n..                       ...         ...  \n130                       2A          1B  \n131                       2B          1B  \n132                       2A          1B  \n133                       2A          1A  \n134                        3          2A  \n\n[135 rows x 24 columns]",
      "text/html": "<div>\n<style scoped>\n    .dataframe tbody tr th:only-of-type {\n        vertical-align: middle;\n    }\n\n    .dataframe tbody tr th {\n        vertical-align: top;\n    }\n\n    .dataframe thead th {\n        text-align: right;\n    }\n</style>\n<table border=\"1\" class=\"dataframe\">\n  <thead>\n    <tr style=\"text-align: right;\">\n      <th></th>\n      <th>Código IE</th>\n      <th>Conoce PC</th>\n      <th>Interesado en tecnologia</th>\n      <th>Media nacional autoeficacia</th>\n      <th>Media nacional interés</th>\n      <th>Media nacional resultados</th>\n      <th>Puntaje autoeficacia</th>\n      <th>Puntaje conocimiento</th>\n      <th>Puntaje conocimientos PC</th>\n      <th>Puntaje interes</th>\n      <th>...</th>\n      <th>Diferencia Autoeficacia</th>\n      <th>Diferencia interes</th>\n      <th>Nivel ConocePC</th>\n      <th>Nivel PuntajePC</th>\n      <th>Nivel Resultados</th>\n      <th>Nivel Interes</th>\n      <th>Nivel Interes pares</th>\n      <th>Nivel Autoeficacia</th>\n      <th>Nivel Autoeficacia pares</th>\n      <th>Dimensión 7</th>\n    </tr>\n  </thead>\n  <tbody>\n    <tr>\n      <th>0</th>\n      <td>1</td>\n      <td>90</td>\n      <td>109</td>\n      <td>66.752077</td>\n      <td>40.633652</td>\n      <td>32.216324</td>\n      <td>69.466667</td>\n      <td>28.363636</td>\n      <td>58.566667</td>\n      <td>36.333333</td>\n      <td>...</td>\n      <td>4.066675</td>\n      <td>-10.583146</td>\n      <td>2B</td>\n      <td>1B</td>\n      <td>2A</td>\n      <td>2B</td>\n      <td>2B</td>\n      <td>4</td>\n      <td>2B</td>\n      <td>1B</td>\n    </tr>\n    <tr>\n      <th>1</th>\n      <td>2</td>\n      <td>35</td>\n      <td>53</td>\n      <td>66.752077</td>\n      <td>40.633652</td>\n      <td>32.216324</td>\n      <td>59.104478</td>\n      <td>24.830393</td>\n      <td>51.492537</td>\n      <td>47.388060</td>\n      <td>...</td>\n      <td>-11.456721</td>\n      <td>16.622694</td>\n      <td>2B</td>\n      <td>1B</td>\n      <td>2A</td>\n      <td>2B</td>\n      <td>4</td>\n      <td>2A</td>\n      <td>2A</td>\n      <td>1B</td>\n    </tr>\n    <tr>\n      <th>2</th>\n      <td>3</td>\n      <td>41</td>\n      <td>43</td>\n      <td>66.752077</td>\n      <td>40.633652</td>\n      <td>32.216324</td>\n      <td>69.904762</td>\n      <td>29.870130</td>\n      <td>59.761905</td>\n      <td>39.285714</td>\n      <td>...</td>\n      <td>4.722977</td>\n      <td>-3.317294</td>\n      <td>3</td>\n      <td>1B</td>\n      <td>2A</td>\n      <td>2B</td>\n      <td>2B</td>\n      <td>4</td>\n      <td>2B</td>\n      <td>1B</td>\n    </tr>\n    <tr>\n      <th>3</th>\n      <td>4</td>\n      <td>24</td>\n      <td>35</td>\n      <td>66.752077</td>\n      <td>40.633652</td>\n      <td>32.216324</td>\n      <td>66.222222</td>\n      <td>33.737374</td>\n      <td>59.555556</td>\n      <td>46.666667</td>\n      <td>...</td>\n      <td>-0.793765</td>\n      <td>14.847335</td>\n      <td>2B</td>\n      <td>1B</td>\n      <td>2B</td>\n      <td>2B</td>\n      <td>4</td>\n      <td>4</td>\n      <td>2A</td>\n      <td>1B</td>\n    </tr>\n    <tr>\n      <th>4</th>\n      <td>5</td>\n      <td>69</td>\n      <td>99</td>\n      <td>66.752077</td>\n      <td>40.633652</td>\n      <td>32.216324</td>\n      <td>73.981651</td>\n      <td>30.942452</td>\n      <td>61.422018</td>\n      <td>55.504587</td>\n      <td>...</td>\n      <td>10.830487</td>\n      <td>36.597584</td>\n      <td>3</td>\n      <td>2A</td>\n      <td>2A</td>\n      <td>4</td>\n      <td>4</td>\n      <td>4</td>\n      <td>3</td>\n      <td>2A</td>\n    </tr>\n    <tr>\n      <th>...</th>\n      <td>...</td>\n      <td>...</td>\n      <td>...</td>\n      <td>...</td>\n      <td>...</td>\n      <td>...</td>\n      <td>...</td>\n      <td>...</td>\n      <td>...</td>\n      <td>...</td>\n      <td>...</td>\n      <td>...</td>\n      <td>...</td>\n      <td>...</td>\n      <td>...</td>\n      <td>...</td>\n      <td>...</td>\n      <td>...</td>\n      <td>...</td>\n      <td>...</td>\n      <td>...</td>\n    </tr>\n    <tr>\n      <th>130</th>\n      <td>250</td>\n      <td>37</td>\n      <td>50</td>\n      <td>66.752077</td>\n      <td>40.633652</td>\n      <td>32.216324</td>\n      <td>62.024096</td>\n      <td>23.767798</td>\n      <td>54.337349</td>\n      <td>24.397590</td>\n      <td>...</td>\n      <td>-7.082896</td>\n      <td>-39.957181</td>\n      <td>2A</td>\n      <td>1B</td>\n      <td>2A</td>\n      <td>2B</td>\n      <td>2A</td>\n      <td>4</td>\n      <td>2A</td>\n      <td>1B</td>\n    </tr>\n    <tr>\n      <th>131</th>\n      <td>251</td>\n      <td>81</td>\n      <td>77</td>\n      <td>66.752077</td>\n      <td>40.633652</td>\n      <td>32.216324</td>\n      <td>66.909091</td>\n      <td>25.770098</td>\n      <td>59.504132</td>\n      <td>27.479339</td>\n      <td>...</td>\n      <td>0.235220</td>\n      <td>-32.372953</td>\n      <td>3</td>\n      <td>1B</td>\n      <td>2A</td>\n      <td>2B</td>\n      <td>2A</td>\n      <td>4</td>\n      <td>2B</td>\n      <td>1B</td>\n    </tr>\n    <tr>\n      <th>132</th>\n      <td>252</td>\n      <td>37</td>\n      <td>42</td>\n      <td>66.752077</td>\n      <td>40.633652</td>\n      <td>32.216324</td>\n      <td>62.714286</td>\n      <td>24.188312</td>\n      <td>57.946429</td>\n      <td>33.035714</td>\n      <td>...</td>\n      <td>-6.048937</td>\n      <td>-18.698634</td>\n      <td>3</td>\n      <td>1B</td>\n      <td>2A</td>\n      <td>2B</td>\n      <td>2B</td>\n      <td>4</td>\n      <td>2A</td>\n      <td>1B</td>\n    </tr>\n    <tr>\n      <th>133</th>\n      <td>259</td>\n      <td>1</td>\n      <td>0</td>\n      <td>66.752077</td>\n      <td>40.633652</td>\n      <td>32.216324</td>\n      <td>60.000000</td>\n      <td>9.090909</td>\n      <td>85.000000</td>\n      <td>0.000000</td>\n      <td>...</td>\n      <td>-10.115156</td>\n      <td>-100.000000</td>\n      <td>3</td>\n      <td>3</td>\n      <td>1A</td>\n      <td>1A</td>\n      <td>1B</td>\n      <td>2A</td>\n      <td>2A</td>\n      <td>1A</td>\n    </tr>\n    <tr>\n      <th>134</th>\n      <td>297</td>\n      <td>1</td>\n      <td>1</td>\n      <td>66.752077</td>\n      <td>40.633652</td>\n      <td>32.216324</td>\n      <td>76.000000</td>\n      <td>27.272727</td>\n      <td>70.000000</td>\n      <td>25.000000</td>\n      <td>...</td>\n      <td>13.854136</td>\n      <td>-38.474642</td>\n      <td>3</td>\n      <td>2A</td>\n      <td>2A</td>\n      <td>4</td>\n      <td>2A</td>\n      <td>4</td>\n      <td>3</td>\n      <td>2A</td>\n    </tr>\n  </tbody>\n</table>\n<p>135 rows × 24 columns</p>\n</div>"
     },
     "execution_count": 33,
     "metadata": {},
     "output_type": "execute_result"
    }
   ],
   "source": [
    "D7 = pd.read_excel('Dimensión 7.xlsx')\n",
    "D7"
   ],
   "metadata": {
    "collapsed": false,
    "pycharm": {
     "name": "#%%\n"
    }
   }
  },
  {
   "cell_type": "code",
   "execution_count": 34,
   "outputs": [],
   "source": [
    "marco = pd.merge(D7, df_institucion.loc[:, ['Código IE', 'Dimensión 4']])\n",
    "marco.to_excel('Marco acumulativo.xlsx')"
   ],
   "metadata": {
    "collapsed": false,
    "pycharm": {
     "name": "#%%\n"
    }
   }
  },
  {
   "cell_type": "code",
   "execution_count": 35,
   "outputs": [
    {
     "data": {
      "text/plain": "    Código IE  Conoce PC  Interesado en tecnologia  \\\n0           1         90                       109   \n1           2         35                        53   \n2           3         41                        43   \n3           4         24                        35   \n4           5         69                        99   \n..        ...        ...                       ...   \n67        231         34                        45   \n68        235         64                        96   \n69        250         37                        50   \n70        251         81                        77   \n71        252         37                        42   \n\n    Media nacional autoeficacia  Media nacional interés  \\\n0                     66.752077               40.633652   \n1                     66.752077               40.633652   \n2                     66.752077               40.633652   \n3                     66.752077               40.633652   \n4                     66.752077               40.633652   \n..                          ...                     ...   \n67                    66.752077               40.633652   \n68                    66.752077               40.633652   \n69                    66.752077               40.633652   \n70                    66.752077               40.633652   \n71                    66.752077               40.633652   \n\n    Media nacional resultados  Puntaje autoeficacia  Puntaje conocimiento  \\\n0                   32.216324             69.466667             28.363636   \n1                   32.216324             59.104478             24.830393   \n2                   32.216324             69.904762             29.870130   \n3                   32.216324             66.222222             33.737374   \n4                   32.216324             73.981651             30.942452   \n..                        ...                   ...                   ...   \n67                  32.216324             58.648649             23.710074   \n68                  32.216324             65.508197             30.104322   \n69                  32.216324             62.024096             23.767798   \n70                  32.216324             66.909091             25.770098   \n71                  32.216324             62.714286             24.188312   \n\n    Puntaje conocimientos PC  Puntaje interes  ...  Diferencia interes  \\\n0                  58.566667        36.333333  ...          -10.583146   \n1                  51.492537        47.388060  ...           16.622694   \n2                  59.761905        39.285714  ...           -3.317294   \n3                  59.555556        46.666667  ...           14.847335   \n4                  61.422018        55.504587  ...           36.597584   \n..                       ...              ...  ...                 ...   \n67                 51.621622        26.013514  ...          -35.980371   \n68                 52.377049        42.418033  ...            4.391386   \n69                 54.337349        24.397590  ...          -39.957181   \n70                 59.504132        27.479339  ...          -32.372953   \n71                 57.946429        33.035714  ...          -18.698634   \n\n    Nivel ConocePC  Nivel PuntajePC  Nivel Resultados  Nivel Interes  \\\n0               2B               1B                2A             2B   \n1               2B               1B                2A             2B   \n2                3               1B                2A             2B   \n3               2B               1B                2B             2B   \n4                3               2A                2A              4   \n..             ...              ...               ...            ...   \n67              2A               1B                2A             2B   \n68              2B               1B                2A             2B   \n69              2A               1B                2A             2B   \n70               3               1B                2A             2B   \n71               3               1B                2A             2B   \n\n    Nivel Interes pares Nivel Autoeficacia Nivel Autoeficacia pares  \\\n0                    2B                  4                       2B   \n1                     4                 2A                       2A   \n2                    2B                  4                       2B   \n3                     4                  4                       2A   \n4                     4                  4                        3   \n..                  ...                ...                      ...   \n67                   2A                 2A                       2A   \n68                    4                  4                       2A   \n69                   2A                  4                       2A   \n70                   2A                  4                       2B   \n71                   2B                  4                       2A   \n\n   Dimensión 7 Dimensión 4  \n0           1B          2B  \n1           1B          2A  \n2           1B           3  \n3           1B          1A  \n4           2A          2B  \n..         ...         ...  \n67          1B          2A  \n68          1B          2A  \n69          1B          2A  \n70          1B          2B  \n71          1B          2B  \n\n[72 rows x 25 columns]",
      "text/html": "<div>\n<style scoped>\n    .dataframe tbody tr th:only-of-type {\n        vertical-align: middle;\n    }\n\n    .dataframe tbody tr th {\n        vertical-align: top;\n    }\n\n    .dataframe thead th {\n        text-align: right;\n    }\n</style>\n<table border=\"1\" class=\"dataframe\">\n  <thead>\n    <tr style=\"text-align: right;\">\n      <th></th>\n      <th>Código IE</th>\n      <th>Conoce PC</th>\n      <th>Interesado en tecnologia</th>\n      <th>Media nacional autoeficacia</th>\n      <th>Media nacional interés</th>\n      <th>Media nacional resultados</th>\n      <th>Puntaje autoeficacia</th>\n      <th>Puntaje conocimiento</th>\n      <th>Puntaje conocimientos PC</th>\n      <th>Puntaje interes</th>\n      <th>...</th>\n      <th>Diferencia interes</th>\n      <th>Nivel ConocePC</th>\n      <th>Nivel PuntajePC</th>\n      <th>Nivel Resultados</th>\n      <th>Nivel Interes</th>\n      <th>Nivel Interes pares</th>\n      <th>Nivel Autoeficacia</th>\n      <th>Nivel Autoeficacia pares</th>\n      <th>Dimensión 7</th>\n      <th>Dimensión 4</th>\n    </tr>\n  </thead>\n  <tbody>\n    <tr>\n      <th>0</th>\n      <td>1</td>\n      <td>90</td>\n      <td>109</td>\n      <td>66.752077</td>\n      <td>40.633652</td>\n      <td>32.216324</td>\n      <td>69.466667</td>\n      <td>28.363636</td>\n      <td>58.566667</td>\n      <td>36.333333</td>\n      <td>...</td>\n      <td>-10.583146</td>\n      <td>2B</td>\n      <td>1B</td>\n      <td>2A</td>\n      <td>2B</td>\n      <td>2B</td>\n      <td>4</td>\n      <td>2B</td>\n      <td>1B</td>\n      <td>2B</td>\n    </tr>\n    <tr>\n      <th>1</th>\n      <td>2</td>\n      <td>35</td>\n      <td>53</td>\n      <td>66.752077</td>\n      <td>40.633652</td>\n      <td>32.216324</td>\n      <td>59.104478</td>\n      <td>24.830393</td>\n      <td>51.492537</td>\n      <td>47.388060</td>\n      <td>...</td>\n      <td>16.622694</td>\n      <td>2B</td>\n      <td>1B</td>\n      <td>2A</td>\n      <td>2B</td>\n      <td>4</td>\n      <td>2A</td>\n      <td>2A</td>\n      <td>1B</td>\n      <td>2A</td>\n    </tr>\n    <tr>\n      <th>2</th>\n      <td>3</td>\n      <td>41</td>\n      <td>43</td>\n      <td>66.752077</td>\n      <td>40.633652</td>\n      <td>32.216324</td>\n      <td>69.904762</td>\n      <td>29.870130</td>\n      <td>59.761905</td>\n      <td>39.285714</td>\n      <td>...</td>\n      <td>-3.317294</td>\n      <td>3</td>\n      <td>1B</td>\n      <td>2A</td>\n      <td>2B</td>\n      <td>2B</td>\n      <td>4</td>\n      <td>2B</td>\n      <td>1B</td>\n      <td>3</td>\n    </tr>\n    <tr>\n      <th>3</th>\n      <td>4</td>\n      <td>24</td>\n      <td>35</td>\n      <td>66.752077</td>\n      <td>40.633652</td>\n      <td>32.216324</td>\n      <td>66.222222</td>\n      <td>33.737374</td>\n      <td>59.555556</td>\n      <td>46.666667</td>\n      <td>...</td>\n      <td>14.847335</td>\n      <td>2B</td>\n      <td>1B</td>\n      <td>2B</td>\n      <td>2B</td>\n      <td>4</td>\n      <td>4</td>\n      <td>2A</td>\n      <td>1B</td>\n      <td>1A</td>\n    </tr>\n    <tr>\n      <th>4</th>\n      <td>5</td>\n      <td>69</td>\n      <td>99</td>\n      <td>66.752077</td>\n      <td>40.633652</td>\n      <td>32.216324</td>\n      <td>73.981651</td>\n      <td>30.942452</td>\n      <td>61.422018</td>\n      <td>55.504587</td>\n      <td>...</td>\n      <td>36.597584</td>\n      <td>3</td>\n      <td>2A</td>\n      <td>2A</td>\n      <td>4</td>\n      <td>4</td>\n      <td>4</td>\n      <td>3</td>\n      <td>2A</td>\n      <td>2B</td>\n    </tr>\n    <tr>\n      <th>...</th>\n      <td>...</td>\n      <td>...</td>\n      <td>...</td>\n      <td>...</td>\n      <td>...</td>\n      <td>...</td>\n      <td>...</td>\n      <td>...</td>\n      <td>...</td>\n      <td>...</td>\n      <td>...</td>\n      <td>...</td>\n      <td>...</td>\n      <td>...</td>\n      <td>...</td>\n      <td>...</td>\n      <td>...</td>\n      <td>...</td>\n      <td>...</td>\n      <td>...</td>\n      <td>...</td>\n    </tr>\n    <tr>\n      <th>67</th>\n      <td>231</td>\n      <td>34</td>\n      <td>45</td>\n      <td>66.752077</td>\n      <td>40.633652</td>\n      <td>32.216324</td>\n      <td>58.648649</td>\n      <td>23.710074</td>\n      <td>51.621622</td>\n      <td>26.013514</td>\n      <td>...</td>\n      <td>-35.980371</td>\n      <td>2A</td>\n      <td>1B</td>\n      <td>2A</td>\n      <td>2B</td>\n      <td>2A</td>\n      <td>2A</td>\n      <td>2A</td>\n      <td>1B</td>\n      <td>2A</td>\n    </tr>\n    <tr>\n      <th>68</th>\n      <td>235</td>\n      <td>64</td>\n      <td>96</td>\n      <td>66.752077</td>\n      <td>40.633652</td>\n      <td>32.216324</td>\n      <td>65.508197</td>\n      <td>30.104322</td>\n      <td>52.377049</td>\n      <td>42.418033</td>\n      <td>...</td>\n      <td>4.391386</td>\n      <td>2B</td>\n      <td>1B</td>\n      <td>2A</td>\n      <td>2B</td>\n      <td>4</td>\n      <td>4</td>\n      <td>2A</td>\n      <td>1B</td>\n      <td>2A</td>\n    </tr>\n    <tr>\n      <th>69</th>\n      <td>250</td>\n      <td>37</td>\n      <td>50</td>\n      <td>66.752077</td>\n      <td>40.633652</td>\n      <td>32.216324</td>\n      <td>62.024096</td>\n      <td>23.767798</td>\n      <td>54.337349</td>\n      <td>24.397590</td>\n      <td>...</td>\n      <td>-39.957181</td>\n      <td>2A</td>\n      <td>1B</td>\n      <td>2A</td>\n      <td>2B</td>\n      <td>2A</td>\n      <td>4</td>\n      <td>2A</td>\n      <td>1B</td>\n      <td>2A</td>\n    </tr>\n    <tr>\n      <th>70</th>\n      <td>251</td>\n      <td>81</td>\n      <td>77</td>\n      <td>66.752077</td>\n      <td>40.633652</td>\n      <td>32.216324</td>\n      <td>66.909091</td>\n      <td>25.770098</td>\n      <td>59.504132</td>\n      <td>27.479339</td>\n      <td>...</td>\n      <td>-32.372953</td>\n      <td>3</td>\n      <td>1B</td>\n      <td>2A</td>\n      <td>2B</td>\n      <td>2A</td>\n      <td>4</td>\n      <td>2B</td>\n      <td>1B</td>\n      <td>2B</td>\n    </tr>\n    <tr>\n      <th>71</th>\n      <td>252</td>\n      <td>37</td>\n      <td>42</td>\n      <td>66.752077</td>\n      <td>40.633652</td>\n      <td>32.216324</td>\n      <td>62.714286</td>\n      <td>24.188312</td>\n      <td>57.946429</td>\n      <td>33.035714</td>\n      <td>...</td>\n      <td>-18.698634</td>\n      <td>3</td>\n      <td>1B</td>\n      <td>2A</td>\n      <td>2B</td>\n      <td>2B</td>\n      <td>4</td>\n      <td>2A</td>\n      <td>1B</td>\n      <td>2B</td>\n    </tr>\n  </tbody>\n</table>\n<p>72 rows × 25 columns</p>\n</div>"
     },
     "execution_count": 35,
     "metadata": {},
     "output_type": "execute_result"
    }
   ],
   "source": [
    "marco"
   ],
   "metadata": {
    "collapsed": false,
    "pycharm": {
     "name": "#%%\n"
    }
   }
  },
  {
   "cell_type": "code",
   "execution_count": null,
   "outputs": [],
   "source": [],
   "metadata": {
    "collapsed": false,
    "pycharm": {
     "name": "#%%\n"
    }
   }
  }
 ],
 "metadata": {
  "kernelspec": {
   "display_name": "Python 3",
   "language": "python",
   "name": "python3"
  },
  "language_info": {
   "codemirror_mode": {
    "name": "ipython",
    "version": 2
   },
   "file_extension": ".py",
   "mimetype": "text/x-python",
   "name": "python",
   "nbconvert_exporter": "python",
   "pygments_lexer": "ipython2",
   "version": "2.7.6"
  }
 },
 "nbformat": 4,
 "nbformat_minor": 0
}