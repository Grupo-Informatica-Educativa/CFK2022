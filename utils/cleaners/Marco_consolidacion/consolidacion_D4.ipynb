{
 "cells": [
  {
   "cell_type": "code",
   "execution_count": 181,
   "metadata": {
    "collapsed": true
   },
   "outputs": [],
   "source": [
    "import pandas as pd\n",
    "import plotly.express as px"
   ]
  },
  {
   "cell_type": "markdown",
   "source": [
    "## Desarrollo profesional Dimensión 4"
   ],
   "metadata": {
    "collapsed": false,
    "pycharm": {
     "name": "#%% md\n"
    }
   }
  },
  {
   "cell_type": "markdown",
   "source": [
    "#### Docentes"
   ],
   "metadata": {
    "collapsed": false,
    "pycharm": {
     "name": "#%% md\n"
    }
   }
  },
  {
   "cell_type": "code",
   "source": [
    "doc = pd.read_excel('/home/mariana/Documents/GitHub/CFK2022/data/raw/Doc_Con_Pre_020522.xlsx')\n",
    "print(doc.shape)\n",
    "print(doc.columns)\n",
    "doc['Timestamp'] = pd.to_datetime(doc['Timestamp'])\n",
    "doc = doc[doc.Timestamp>'2022-04-14']\n",
    "doc['Fecha'] = doc.Timestamp.dt.strftime('%d/%m')\n",
    "doc['Fecha'][:5]"
   ],
   "metadata": {
    "collapsed": false,
    "pycharm": {
     "name": "#%%\n"
    }
   },
   "execution_count": 182,
   "outputs": [
    {
     "name": "stdout",
     "output_type": "stream",
     "text": [
      "(2628, 89)\n",
      "Index(['Timestamp', 'Política de datos', 'Código IE', 'Tipo ID', 'ID', 'Email',\n",
      "       'Edad', 'Sexo', 'Cabeza de hogar', 'Estado civil', 'Líder comunitario',\n",
      "       'Formado CFK', 'Implementa fichas', 'Formado tecnología e informática',\n",
      "       '¿Cuáles de las siguientes áreas enseña y en qué grado? [Ciencias naturales y educación ambiental.]',\n",
      "       '¿Cuáles de las siguientes áreas enseña y en qué grado? [Ciencias sociales, historia, geografía, constitución política y democracia.]',\n",
      "       '¿Cuáles de las siguientes áreas enseña y en qué grado? [Educación artística.]',\n",
      "       '¿Cuáles de las siguientes áreas enseña y en qué grado? [Educación ética y en valores humanos.]',\n",
      "       '¿Cuáles de las siguientes áreas enseña y en qué grado? [Educación física, recreación y deportes.]',\n",
      "       '¿Cuáles de las siguientes áreas enseña y en qué grado? [Educación religiosa.]',\n",
      "       '¿Cuáles de las siguientes áreas enseña y en qué grado? [Humanidades, lengua castellana e idiomas extranjeros.]',\n",
      "       '¿Cuáles de las siguientes áreas enseña y en qué grado? [Matemáticas.]',\n",
      "       '¿Cuáles de las siguientes áreas enseña y en qué grado? [Tecnología e informática.]',\n",
      "       '¿Cuáles de las siguientes áreas enseña y en qué grado? [Otro]',\n",
      "       'Enseña STEM', 'Formado STEM',\n",
      "       'Considera importante enseñar el pensamiento computacional desde los primeros niveles educativos',\n",
      "       '1.1 Siento que puedo aplicar las prácticas y habilidades del pensamiento computacional a mi trabajo',\n",
      "       '1.2 Siento que puedo definir el pensamiento computacional',\n",
      "       '1.3 Siento que puedo describir las prácticas y habilidades que componen el pensamiento computacional a mis estudiantes',\n",
      "       '1.4 Siento que puedo aplicar las prácticas y habilidades del pensamiento computacional a mi vida diaria',\n",
      "       '2.1 Creo que tengo las habilidades para desarrollar el pensamiento computacional en mis estudiantes',\n",
      "       '2.2 Siento que puedo enseñar fácilmente sobre nuevas prácticas computacionales',\n",
      "       '2.3 Siento que puedo diseñar una clase que desarrolle el pensamiento computacional en los estudiantes',\n",
      "       '2.4 Siento que puedo aplicar mis habilidades en pensamiento computacional para ayudar a los estudiantes a perseguir sus intereses individuales',\n",
      "       '2.5 Siento que puedo evaluar la idoneidad de una estrategia pedagógica para desarrollar pensamiento computacional',\n",
      "       '3.1 El colegio ofrece espacios adicionales para fomentar el pensamiento computacional',\n",
      "       '3.2 En la programación anual del colegio existen actividades asociadas al pensamiento computacional',\n",
      "       '3.3 Cuando he intentado enseñar pensamiento computacional me he encontrado con obstáculos para gestionar espacios y materiales en el colegio.',\n",
      "       '3.4 Recibo apoyo del colegio cuando propongo nuevas ideas y temáticas afines al pensamiento computacional',\n",
      "       '3.5 Siento que por más que lo he intentado mis esfuerzos por incluir pensamiento computacional en las clases no han sido efectivos por la rigidez del plan de estudio',\n",
      "       '3.6 Los directivos incentivan la implementación de nuevas prácticas pedagógicas sobre pensamiento computacional en el aula',\n",
      "       '3.7 Puedo incluir espacios en mis clases para implementar actividades sobre el pensamiento computacional',\n",
      "       '3.8 Me siento frustrado porque la programación de las clases y compromisos institucionales no me permite incluir actividades de pensamiento computacional',\n",
      "       '3.9 Tener educación en pensamiento computacional mejoraría significativamente las futuras opciones de ocupación para los estudiantes de mi escuela.',\n",
      "       '4.1 Creo que sé cómo resolver los problemas técnicos cuando fallan las TIC',\n",
      "       '4.2 Siento que puedo aprender sobre nuevas tecnologías fácilmente',\n",
      "       '4.3 Creo que sé cómo usar las TIC con los estudiantes en clase',\n",
      "       '5.1 Me apoyo en mis colegas para resolver problemas sobre cómo trabajar algún tema',\n",
      "       '5.2 Puedo hablar con otros docentes sobre el diseño de cursos',\n",
      "       '5.3 Siento que tengo apoyo de otros docentes para el diseño de mis cursos',\n",
      "       '5.4 Siento que no tengo con quién conversar sobre el diseño de mis cursos',\n",
      "       '6.1 Actividades desconectadas', '6.2 Usa-Modifica-Crea',\n",
      "       '6.3 Clase magistral', '6.4 Programación en pares',\n",
      "       '6.5 Lectura del código', '6.6 Le explicaría la respuesta correcta',\n",
      "       '6.7 Le sugeriría ir paso a paso por el programa simulando su ejecución',\n",
      "       '6.8 Le diría que revise sus notas',\n",
      "       '6.9 Le sugeriría que revise las memorias colectivas',\n",
      "       '7.1 Le sugeriría volver a leer el problema',\n",
      "       '7.2 Le sugeriría intentar con varios valores para evaluar el programa',\n",
      "       '7.3 Le explicaría el problema nuevamente', 'Comentarios P1-7',\n",
      "       'Un algoritmo es:', '¿Para qué sirven los algoritmos?', 'Un bucle es:',\n",
      "       '¿Cuál es el error conceptual de Tim?',\n",
      "       '¿Cuál es el error conceptual de Ana?', 'Comentarios Conocimientos',\n",
      "       '¿Cuáles de las siguientes estrategias usted ha usado en sus clases?',\n",
      "       '8.1 Es preferible que las mujeres enseñen ciencias sociales y los hombres ciencias exactas.',\n",
      "       '8.2 Es normal que la mayoría de ingenieros mecánicos sean varones porque los hombres son mejores para los números.',\n",
      "       '8.3 Por su esencia una mujer tiene mejor desempeño en un proyecto de alto impacto social que en un proyecto de robótica industrial.',\n",
      "       '8.4 Los hombres son mejores para la tecnología que las mujeres.',\n",
      "       '8.5 Las mujeres tienen mayores habilidades para proyectos sociales que tecnológicos.',\n",
      "       '8.6 Los grandes aportes en la computación han sido hechos por hombres.',\n",
      "       '8.7 Que la mayoría de mujeres no opte por áreas exactas es simplemente una cuestión de preferencias.',\n",
      "       '8.8 Que la mayoría de personas en artes y humanidades sean mujeres es muestra de su sensibilidad.',\n",
      "       '8.9 Es natural que los hombres sean buenos para los números y las mujeres para las letras.',\n",
      "       '8.10 Los hombres son muy ágiles tomando decisiones importantes.',\n",
      "       '8.11 Las niñas son más ordenadas que los niños.',\n",
      "       '8.12 Muchas mujeres se caracterizan por una pureza que pocos hombres poseen.',\n",
      "       '8.13 Las mujeres deben ser queridas y protegidas por los hombres.',\n",
      "       '8.14 Todo hombre debe tener una mujer a quien amar.',\n",
      "       '8.15 El hombre está incompleto sin la mujer.',\n",
      "       '8.16 Las mujeres en comparación con los hombres, tienden a tener un sentido más refinado de la cultura y el buen gusto.',\n",
      "       'Comentarios género'],\n",
      "      dtype='object')\n"
     ]
    },
    {
     "data": {
      "text/plain": "3    18/04\n4    18/04\n5    18/04\n6    18/04\n7    18/04\nName: Fecha, dtype: object"
     },
     "execution_count": 182,
     "metadata": {},
     "output_type": "execute_result"
    }
   ]
  },
  {
   "cell_type": "code",
   "execution_count": 183,
   "outputs": [
    {
     "data": {
      "text/plain": "                Timestamp Política de datos                  Código IE  \\\n3 2022-04-18 07:59:42.646                Sí  Nueva Esperanza La Palma    \n4 2022-04-18 08:03:32.288                Sí                        206   \n5 2022-04-18 08:05:14.497                Sí                        206   \n6 2022-04-18 08:07:11.041                Sí                        206   \n7 2022-04-18 08:07:35.471                Sí                        206   \n\n                Tipo ID            ID                            Email  Edad  \\\n3  Cédula de ciudadanía  1.110475e+09               ydur912@gmail.com   33.0   \n4  Cédula de ciudadanía  5.828243e+06        Mosquera.fabio@gmail.com   40.0   \n5  Cédula de ciudadanía  9.337793e+07                 nixong@yahoo.com  52.0   \n6  Cédula de ciudadanía  3.836377e+07      ivonne.saavedrab@nep.edu.co  38.0   \n7  Cédula de ciudadanía  5.827991e+06  javierlunarodriguez@hotmail.com  42.0   \n\n        Sexo Cabeza de hogar                Estado civil  ...  \\\n3  Masculino              Sí                   Soltero/a  ...   \n4  Masculino              Sí  Casado/a o  En unión libre  ...   \n5  Masculino              Sí  Casado/a o  En unión libre  ...   \n6   Femenino              No                   Soltero/a  ...   \n7  Masculino              Sí  Casado/a o  En unión libre  ...   \n\n  8.9 Es natural que los hombres sean buenos para los números y las mujeres para las letras.  \\\n3                                             Neutro                                           \n4                                             Neutro                                           \n5                           Totalmente en desacuerdo                                           \n6                           Totalmente en desacuerdo                                           \n7                                      En desacuerdo                                           \n\n  8.10 Los hombres son muy ágiles tomando decisiones importantes.  \\\n3                                             Neutro                \n4                                             Neutro                \n5                           Totalmente en desacuerdo                \n6                           Totalmente en desacuerdo                \n7                                      En desacuerdo                \n\n  8.11 Las niñas son más ordenadas que los niños.  \\\n3                                          Neutro   \n4                                          Neutro   \n5                                      De acuerdo   \n6                        Totalmente en desacuerdo   \n7                                   En desacuerdo   \n\n  8.12 Muchas mujeres se caracterizan por una pureza que pocos hombres poseen.  \\\n3                                             Neutro                             \n4                                             Neutro                             \n5                                             Neutro                             \n6                           Totalmente en desacuerdo                             \n7                                      En desacuerdo                             \n\n  8.13 Las mujeres deben ser queridas y protegidas por los hombres.  \\\n3                                             Neutro                  \n4                                             Neutro                  \n5                                             Neutro                  \n6                           Totalmente en desacuerdo                  \n7                                      En desacuerdo                  \n\n  8.14 Todo hombre debe tener una mujer a quien amar.  \\\n3                                             Neutro    \n4                                             Neutro    \n5                           Totalmente en desacuerdo    \n6                           Totalmente en desacuerdo    \n7                                      En desacuerdo    \n\n  8.15 El hombre está incompleto sin la mujer.  \\\n3                                       Neutro   \n4                                       Neutro   \n5                     Totalmente en desacuerdo   \n6                     Totalmente en desacuerdo   \n7                                En desacuerdo   \n\n  8.16 Las mujeres en comparación con los hombres, tienden a tener un sentido más refinado de la cultura y el buen gusto.  \\\n3                                             Neutro                                                                        \n4                                             Neutro                                                                        \n5                           Totalmente en desacuerdo                                                                        \n6                           Totalmente en desacuerdo                                                                        \n7                                      En desacuerdo                                                                        \n\n  Comentarios género  Fecha  \n3                NaN  18/04  \n4            Ninguno  18/04  \n5                NaN  18/04  \n6                NaN  18/04  \n7                NaN  18/04  \n\n[5 rows x 90 columns]",
      "text/html": "<div>\n<style scoped>\n    .dataframe tbody tr th:only-of-type {\n        vertical-align: middle;\n    }\n\n    .dataframe tbody tr th {\n        vertical-align: top;\n    }\n\n    .dataframe thead th {\n        text-align: right;\n    }\n</style>\n<table border=\"1\" class=\"dataframe\">\n  <thead>\n    <tr style=\"text-align: right;\">\n      <th></th>\n      <th>Timestamp</th>\n      <th>Política de datos</th>\n      <th>Código IE</th>\n      <th>Tipo ID</th>\n      <th>ID</th>\n      <th>Email</th>\n      <th>Edad</th>\n      <th>Sexo</th>\n      <th>Cabeza de hogar</th>\n      <th>Estado civil</th>\n      <th>...</th>\n      <th>8.9 Es natural que los hombres sean buenos para los números y las mujeres para las letras.</th>\n      <th>8.10 Los hombres son muy ágiles tomando decisiones importantes.</th>\n      <th>8.11 Las niñas son más ordenadas que los niños.</th>\n      <th>8.12 Muchas mujeres se caracterizan por una pureza que pocos hombres poseen.</th>\n      <th>8.13 Las mujeres deben ser queridas y protegidas por los hombres.</th>\n      <th>8.14 Todo hombre debe tener una mujer a quien amar.</th>\n      <th>8.15 El hombre está incompleto sin la mujer.</th>\n      <th>8.16 Las mujeres en comparación con los hombres, tienden a tener un sentido más refinado de la cultura y el buen gusto.</th>\n      <th>Comentarios género</th>\n      <th>Fecha</th>\n    </tr>\n  </thead>\n  <tbody>\n    <tr>\n      <th>3</th>\n      <td>2022-04-18 07:59:42.646</td>\n      <td>Sí</td>\n      <td>Nueva Esperanza La Palma</td>\n      <td>Cédula de ciudadanía</td>\n      <td>1.110475e+09</td>\n      <td>ydur912@gmail.com</td>\n      <td>33.0</td>\n      <td>Masculino</td>\n      <td>Sí</td>\n      <td>Soltero/a</td>\n      <td>...</td>\n      <td>Neutro</td>\n      <td>Neutro</td>\n      <td>Neutro</td>\n      <td>Neutro</td>\n      <td>Neutro</td>\n      <td>Neutro</td>\n      <td>Neutro</td>\n      <td>Neutro</td>\n      <td>NaN</td>\n      <td>18/04</td>\n    </tr>\n    <tr>\n      <th>4</th>\n      <td>2022-04-18 08:03:32.288</td>\n      <td>Sí</td>\n      <td>206</td>\n      <td>Cédula de ciudadanía</td>\n      <td>5.828243e+06</td>\n      <td>Mosquera.fabio@gmail.com</td>\n      <td>40.0</td>\n      <td>Masculino</td>\n      <td>Sí</td>\n      <td>Casado/a o  En unión libre</td>\n      <td>...</td>\n      <td>Neutro</td>\n      <td>Neutro</td>\n      <td>Neutro</td>\n      <td>Neutro</td>\n      <td>Neutro</td>\n      <td>Neutro</td>\n      <td>Neutro</td>\n      <td>Neutro</td>\n      <td>Ninguno</td>\n      <td>18/04</td>\n    </tr>\n    <tr>\n      <th>5</th>\n      <td>2022-04-18 08:05:14.497</td>\n      <td>Sí</td>\n      <td>206</td>\n      <td>Cédula de ciudadanía</td>\n      <td>9.337793e+07</td>\n      <td>nixong@yahoo.com</td>\n      <td>52.0</td>\n      <td>Masculino</td>\n      <td>Sí</td>\n      <td>Casado/a o  En unión libre</td>\n      <td>...</td>\n      <td>Totalmente en desacuerdo</td>\n      <td>Totalmente en desacuerdo</td>\n      <td>De acuerdo</td>\n      <td>Neutro</td>\n      <td>Neutro</td>\n      <td>Totalmente en desacuerdo</td>\n      <td>Totalmente en desacuerdo</td>\n      <td>Totalmente en desacuerdo</td>\n      <td>NaN</td>\n      <td>18/04</td>\n    </tr>\n    <tr>\n      <th>6</th>\n      <td>2022-04-18 08:07:11.041</td>\n      <td>Sí</td>\n      <td>206</td>\n      <td>Cédula de ciudadanía</td>\n      <td>3.836377e+07</td>\n      <td>ivonne.saavedrab@nep.edu.co</td>\n      <td>38.0</td>\n      <td>Femenino</td>\n      <td>No</td>\n      <td>Soltero/a</td>\n      <td>...</td>\n      <td>Totalmente en desacuerdo</td>\n      <td>Totalmente en desacuerdo</td>\n      <td>Totalmente en desacuerdo</td>\n      <td>Totalmente en desacuerdo</td>\n      <td>Totalmente en desacuerdo</td>\n      <td>Totalmente en desacuerdo</td>\n      <td>Totalmente en desacuerdo</td>\n      <td>Totalmente en desacuerdo</td>\n      <td>NaN</td>\n      <td>18/04</td>\n    </tr>\n    <tr>\n      <th>7</th>\n      <td>2022-04-18 08:07:35.471</td>\n      <td>Sí</td>\n      <td>206</td>\n      <td>Cédula de ciudadanía</td>\n      <td>5.827991e+06</td>\n      <td>javierlunarodriguez@hotmail.com</td>\n      <td>42.0</td>\n      <td>Masculino</td>\n      <td>Sí</td>\n      <td>Casado/a o  En unión libre</td>\n      <td>...</td>\n      <td>En desacuerdo</td>\n      <td>En desacuerdo</td>\n      <td>En desacuerdo</td>\n      <td>En desacuerdo</td>\n      <td>En desacuerdo</td>\n      <td>En desacuerdo</td>\n      <td>En desacuerdo</td>\n      <td>En desacuerdo</td>\n      <td>NaN</td>\n      <td>18/04</td>\n    </tr>\n  </tbody>\n</table>\n<p>5 rows × 90 columns</p>\n</div>"
     },
     "execution_count": 183,
     "metadata": {},
     "output_type": "execute_result"
    }
   ],
   "source": [
    "doc.head()"
   ],
   "metadata": {
    "collapsed": false,
    "pycharm": {
     "name": "#%%\n"
    }
   }
  },
  {
   "cell_type": "code",
   "execution_count": 46,
   "outputs": [],
   "source": [
    "doc = doc.drop(columns='Timestamp')\n",
    "doc = doc.dropna(subset='Código IE')\n",
    "doc = doc.drop_duplicates(subset='ID', keep='last')"
   ],
   "metadata": {
    "collapsed": false,
    "pycharm": {
     "name": "#%%\n"
    }
   }
  },
  {
   "cell_type": "code",
   "execution_count": 47,
   "outputs": [],
   "source": [
    "doc = doc[doc['Código IE'].astype(str).str.isdigit()]\n",
    "doc['Código IE'] = doc['Código IE'].astype(int)"
   ],
   "metadata": {
    "collapsed": false,
    "pycharm": {
     "name": "#%%\n"
    }
   }
  },
  {
   "cell_type": "code",
   "execution_count": 48,
   "outputs": [
    {
     "data": {
      "text/plain": "(2530, 89)"
     },
     "execution_count": 48,
     "metadata": {},
     "output_type": "execute_result"
    }
   ],
   "source": [
    "doc = doc[doc['Código IE']<300]\n",
    "doc.shape"
   ],
   "metadata": {
    "collapsed": false,
    "pycharm": {
     "name": "#%%\n"
    }
   }
  },
  {
   "cell_type": "code",
   "execution_count": 49,
   "outputs": [
    {
     "data": {
      "text/plain": "                       Formado tecnología e informática  Formacion en el area\n4     Sí, otro tipo de formación (diplomados, especi...                     1\n5     Sí, otro tipo de formación (diplomados, especi...                     1\n6                                                    No                     0\n7                                                    No                     0\n8     Sí, otro tipo de formación (diplomados, especi...                     1\n...                                                 ...                   ...\n2623                                                 No                     0\n2624                                                 No                     0\n2625                                                 No                     0\n2626                        Sí, licenciatura o pregrado                     1\n2627  Sí, otro tipo de formación (diplomados, especi...                     1\n\n[2530 rows x 2 columns]",
      "text/html": "<div>\n<style scoped>\n    .dataframe tbody tr th:only-of-type {\n        vertical-align: middle;\n    }\n\n    .dataframe tbody tr th {\n        vertical-align: top;\n    }\n\n    .dataframe thead th {\n        text-align: right;\n    }\n</style>\n<table border=\"1\" class=\"dataframe\">\n  <thead>\n    <tr style=\"text-align: right;\">\n      <th></th>\n      <th>Formado tecnología e informática</th>\n      <th>Formacion en el area</th>\n    </tr>\n  </thead>\n  <tbody>\n    <tr>\n      <th>4</th>\n      <td>Sí, otro tipo de formación (diplomados, especi...</td>\n      <td>1</td>\n    </tr>\n    <tr>\n      <th>5</th>\n      <td>Sí, otro tipo de formación (diplomados, especi...</td>\n      <td>1</td>\n    </tr>\n    <tr>\n      <th>6</th>\n      <td>No</td>\n      <td>0</td>\n    </tr>\n    <tr>\n      <th>7</th>\n      <td>No</td>\n      <td>0</td>\n    </tr>\n    <tr>\n      <th>8</th>\n      <td>Sí, otro tipo de formación (diplomados, especi...</td>\n      <td>1</td>\n    </tr>\n    <tr>\n      <th>...</th>\n      <td>...</td>\n      <td>...</td>\n    </tr>\n    <tr>\n      <th>2623</th>\n      <td>No</td>\n      <td>0</td>\n    </tr>\n    <tr>\n      <th>2624</th>\n      <td>No</td>\n      <td>0</td>\n    </tr>\n    <tr>\n      <th>2625</th>\n      <td>No</td>\n      <td>0</td>\n    </tr>\n    <tr>\n      <th>2626</th>\n      <td>Sí, licenciatura o pregrado</td>\n      <td>1</td>\n    </tr>\n    <tr>\n      <th>2627</th>\n      <td>Sí, otro tipo de formación (diplomados, especi...</td>\n      <td>1</td>\n    </tr>\n  </tbody>\n</table>\n<p>2530 rows × 2 columns</p>\n</div>"
     },
     "execution_count": 49,
     "metadata": {},
     "output_type": "execute_result"
    }
   ],
   "source": [
    "doc['Formacion en el area'] = 1*(~doc['Formado tecnología e informática'].str.contains(\"No\"))\n",
    "doc[['Formado tecnología e informática', 'Formacion en el area']]"
   ],
   "metadata": {
    "collapsed": false,
    "pycharm": {
     "name": "#%%\n"
    }
   }
  },
  {
   "cell_type": "code",
   "execution_count": 50,
   "outputs": [
    {
     "data": {
      "text/plain": "      Enseña TI  \\\n4             0   \n5             0   \n6             1   \n7             0   \n8             0   \n...         ...   \n2623          1   \n2624          0   \n2625          0   \n2626          1   \n2627          0   \n\n     ¿Cuáles de las siguientes áreas enseña y en qué grado? [Tecnología e informática.]  \n4                                                   NaN                                  \n5                                                   NaN                                  \n6                                                    1°                                  \n7                                                   NaN                                  \n8                                                   NaN                                  \n...                                                 ...                                  \n2623                                                 2°                                  \n2624                                                NaN                                  \n2625                                                NaN                                  \n2626                                   6°, 9°, 10°, 11°                                  \n2627                                                NaN                                  \n\n[2530 rows x 2 columns]",
      "text/html": "<div>\n<style scoped>\n    .dataframe tbody tr th:only-of-type {\n        vertical-align: middle;\n    }\n\n    .dataframe tbody tr th {\n        vertical-align: top;\n    }\n\n    .dataframe thead th {\n        text-align: right;\n    }\n</style>\n<table border=\"1\" class=\"dataframe\">\n  <thead>\n    <tr style=\"text-align: right;\">\n      <th></th>\n      <th>Enseña TI</th>\n      <th>¿Cuáles de las siguientes áreas enseña y en qué grado? [Tecnología e informática.]</th>\n    </tr>\n  </thead>\n  <tbody>\n    <tr>\n      <th>4</th>\n      <td>0</td>\n      <td>NaN</td>\n    </tr>\n    <tr>\n      <th>5</th>\n      <td>0</td>\n      <td>NaN</td>\n    </tr>\n    <tr>\n      <th>6</th>\n      <td>1</td>\n      <td>1°</td>\n    </tr>\n    <tr>\n      <th>7</th>\n      <td>0</td>\n      <td>NaN</td>\n    </tr>\n    <tr>\n      <th>8</th>\n      <td>0</td>\n      <td>NaN</td>\n    </tr>\n    <tr>\n      <th>...</th>\n      <td>...</td>\n      <td>...</td>\n    </tr>\n    <tr>\n      <th>2623</th>\n      <td>1</td>\n      <td>2°</td>\n    </tr>\n    <tr>\n      <th>2624</th>\n      <td>0</td>\n      <td>NaN</td>\n    </tr>\n    <tr>\n      <th>2625</th>\n      <td>0</td>\n      <td>NaN</td>\n    </tr>\n    <tr>\n      <th>2626</th>\n      <td>1</td>\n      <td>6°, 9°, 10°, 11°</td>\n    </tr>\n    <tr>\n      <th>2627</th>\n      <td>0</td>\n      <td>NaN</td>\n    </tr>\n  </tbody>\n</table>\n<p>2530 rows × 2 columns</p>\n</div>"
     },
     "execution_count": 50,
     "metadata": {},
     "output_type": "execute_result"
    }
   ],
   "source": [
    "doc['Enseña TI'] = 1*(~doc['¿Cuáles de las siguientes áreas enseña y en qué grado? [Tecnología e informática.]'].isna())\n",
    "doc[[ 'Enseña TI', '¿Cuáles de las siguientes áreas enseña y en qué grado? [Tecnología e informática.]']]"
   ],
   "metadata": {
    "collapsed": false,
    "pycharm": {
     "name": "#%%\n"
    }
   }
  },
  {
   "cell_type": "code",
   "execution_count": 51,
   "outputs": [
    {
     "data": {
      "text/plain": "      Enseña TI  Formacion en el area  Enseña y tiene formacion\n4             0                     1                         0\n5             0                     1                         0\n6             1                     0                         0\n7             0                     0                         0\n8             0                     1                         0\n...         ...                   ...                       ...\n2623          1                     0                         0\n2624          0                     0                         0\n2625          0                     0                         0\n2626          1                     1                         1\n2627          0                     1                         0\n\n[2530 rows x 3 columns]",
      "text/html": "<div>\n<style scoped>\n    .dataframe tbody tr th:only-of-type {\n        vertical-align: middle;\n    }\n\n    .dataframe tbody tr th {\n        vertical-align: top;\n    }\n\n    .dataframe thead th {\n        text-align: right;\n    }\n</style>\n<table border=\"1\" class=\"dataframe\">\n  <thead>\n    <tr style=\"text-align: right;\">\n      <th></th>\n      <th>Enseña TI</th>\n      <th>Formacion en el area</th>\n      <th>Enseña y tiene formacion</th>\n    </tr>\n  </thead>\n  <tbody>\n    <tr>\n      <th>4</th>\n      <td>0</td>\n      <td>1</td>\n      <td>0</td>\n    </tr>\n    <tr>\n      <th>5</th>\n      <td>0</td>\n      <td>1</td>\n      <td>0</td>\n    </tr>\n    <tr>\n      <th>6</th>\n      <td>1</td>\n      <td>0</td>\n      <td>0</td>\n    </tr>\n    <tr>\n      <th>7</th>\n      <td>0</td>\n      <td>0</td>\n      <td>0</td>\n    </tr>\n    <tr>\n      <th>8</th>\n      <td>0</td>\n      <td>1</td>\n      <td>0</td>\n    </tr>\n    <tr>\n      <th>...</th>\n      <td>...</td>\n      <td>...</td>\n      <td>...</td>\n    </tr>\n    <tr>\n      <th>2623</th>\n      <td>1</td>\n      <td>0</td>\n      <td>0</td>\n    </tr>\n    <tr>\n      <th>2624</th>\n      <td>0</td>\n      <td>0</td>\n      <td>0</td>\n    </tr>\n    <tr>\n      <th>2625</th>\n      <td>0</td>\n      <td>0</td>\n      <td>0</td>\n    </tr>\n    <tr>\n      <th>2626</th>\n      <td>1</td>\n      <td>1</td>\n      <td>1</td>\n    </tr>\n    <tr>\n      <th>2627</th>\n      <td>0</td>\n      <td>1</td>\n      <td>0</td>\n    </tr>\n  </tbody>\n</table>\n<p>2530 rows × 3 columns</p>\n</div>"
     },
     "execution_count": 51,
     "metadata": {},
     "output_type": "execute_result"
    }
   ],
   "source": [
    "doc['Enseña y tiene formacion'] = 1*((doc['Enseña TI'] + doc['Formacion en el area'])==2)\n",
    "doc[['Enseña TI', 'Formacion en el area', 'Enseña y tiene formacion']]"
   ],
   "metadata": {
    "collapsed": false,
    "pycharm": {
     "name": "#%%\n"
    }
   }
  },
  {
   "cell_type": "code",
   "execution_count": 52,
   "outputs": [
    {
     "data": {
      "text/plain": "           Enseña TI  Enseña y tiene formacion  Formacion en el area  ID\nCódigo IE                                                               \n0                  2                         2                     3   3\n1                  6                         5                    27  42\n2                  3                         2                     7  15\n3                  0                         0                     1   1\n5                  5                         5                    15  15\n...              ...                       ...                   ...  ..\n244                4                         3                     5   7\n247                2                         2                     7  10\n252                3                         2                    11  22\n255                0                         0                     1   2\n288                0                         0                     0   1\n\n[138 rows x 4 columns]",
      "text/html": "<div>\n<style scoped>\n    .dataframe tbody tr th:only-of-type {\n        vertical-align: middle;\n    }\n\n    .dataframe tbody tr th {\n        vertical-align: top;\n    }\n\n    .dataframe thead th {\n        text-align: right;\n    }\n</style>\n<table border=\"1\" class=\"dataframe\">\n  <thead>\n    <tr style=\"text-align: right;\">\n      <th></th>\n      <th>Enseña TI</th>\n      <th>Enseña y tiene formacion</th>\n      <th>Formacion en el area</th>\n      <th>ID</th>\n    </tr>\n    <tr>\n      <th>Código IE</th>\n      <th></th>\n      <th></th>\n      <th></th>\n      <th></th>\n    </tr>\n  </thead>\n  <tbody>\n    <tr>\n      <th>0</th>\n      <td>2</td>\n      <td>2</td>\n      <td>3</td>\n      <td>3</td>\n    </tr>\n    <tr>\n      <th>1</th>\n      <td>6</td>\n      <td>5</td>\n      <td>27</td>\n      <td>42</td>\n    </tr>\n    <tr>\n      <th>2</th>\n      <td>3</td>\n      <td>2</td>\n      <td>7</td>\n      <td>15</td>\n    </tr>\n    <tr>\n      <th>3</th>\n      <td>0</td>\n      <td>0</td>\n      <td>1</td>\n      <td>1</td>\n    </tr>\n    <tr>\n      <th>5</th>\n      <td>5</td>\n      <td>5</td>\n      <td>15</td>\n      <td>15</td>\n    </tr>\n    <tr>\n      <th>...</th>\n      <td>...</td>\n      <td>...</td>\n      <td>...</td>\n      <td>...</td>\n    </tr>\n    <tr>\n      <th>244</th>\n      <td>4</td>\n      <td>3</td>\n      <td>5</td>\n      <td>7</td>\n    </tr>\n    <tr>\n      <th>247</th>\n      <td>2</td>\n      <td>2</td>\n      <td>7</td>\n      <td>10</td>\n    </tr>\n    <tr>\n      <th>252</th>\n      <td>3</td>\n      <td>2</td>\n      <td>11</td>\n      <td>22</td>\n    </tr>\n    <tr>\n      <th>255</th>\n      <td>0</td>\n      <td>0</td>\n      <td>1</td>\n      <td>2</td>\n    </tr>\n    <tr>\n      <th>288</th>\n      <td>0</td>\n      <td>0</td>\n      <td>0</td>\n      <td>1</td>\n    </tr>\n  </tbody>\n</table>\n<p>138 rows × 4 columns</p>\n</div>"
     },
     "execution_count": 52,
     "metadata": {},
     "output_type": "execute_result"
    }
   ],
   "source": [
    "doc_D4 = doc.pivot_table(index='Código IE', values=['Enseña TI', 'Formacion en el area', 'Enseña y tiene formacion', 'ID'], aggfunc={'Enseña TI': 'sum','Formacion en el area': 'sum','Enseña y tiene formacion': 'sum', 'ID': 'count'})\n",
    "doc_D4"
   ],
   "metadata": {
    "collapsed": false,
    "pycharm": {
     "name": "#%%\n"
    }
   }
  },
  {
   "cell_type": "code",
   "execution_count": 59,
   "outputs": [],
   "source": [
    "doc_D4['% docentes de informatica que tienen formacion'] = (doc_D4['Enseña y tiene formacion'] / doc_D4[ 'Enseña TI'])*100\n",
    "\n",
    "\n",
    "doc_D4['Nivel docentes'] = pd.cut(doc_D4['% docentes de informatica que tienen formacion'], bins=[0, 20, 60, 100], labels=['1A', \"1B\", '4'], include_lowest=True)\n",
    "doc_D4 = doc_D4.reset_index()"
   ],
   "metadata": {
    "collapsed": false,
    "pycharm": {
     "name": "#%%\n"
    }
   }
  },
  {
   "cell_type": "code",
   "execution_count": 81,
   "outputs": [
    {
     "data": {
      "text/plain": "     Código IE Nivel docentes\n0            0              4\n1            1              4\n2            2              4\n4            5              4\n5            6              4\n..         ...            ...\n130        240              4\n131        241              4\n133        244              4\n134        247              4\n135        252              4\n\n[118 rows x 2 columns]",
      "text/html": "<div>\n<style scoped>\n    .dataframe tbody tr th:only-of-type {\n        vertical-align: middle;\n    }\n\n    .dataframe tbody tr th {\n        vertical-align: top;\n    }\n\n    .dataframe thead th {\n        text-align: right;\n    }\n</style>\n<table border=\"1\" class=\"dataframe\">\n  <thead>\n    <tr style=\"text-align: right;\">\n      <th></th>\n      <th>Código IE</th>\n      <th>Nivel docentes</th>\n    </tr>\n  </thead>\n  <tbody>\n    <tr>\n      <th>0</th>\n      <td>0</td>\n      <td>4</td>\n    </tr>\n    <tr>\n      <th>1</th>\n      <td>1</td>\n      <td>4</td>\n    </tr>\n    <tr>\n      <th>2</th>\n      <td>2</td>\n      <td>4</td>\n    </tr>\n    <tr>\n      <th>4</th>\n      <td>5</td>\n      <td>4</td>\n    </tr>\n    <tr>\n      <th>5</th>\n      <td>6</td>\n      <td>4</td>\n    </tr>\n    <tr>\n      <th>...</th>\n      <td>...</td>\n      <td>...</td>\n    </tr>\n    <tr>\n      <th>130</th>\n      <td>240</td>\n      <td>4</td>\n    </tr>\n    <tr>\n      <th>131</th>\n      <td>241</td>\n      <td>4</td>\n    </tr>\n    <tr>\n      <th>133</th>\n      <td>244</td>\n      <td>4</td>\n    </tr>\n    <tr>\n      <th>134</th>\n      <td>247</td>\n      <td>4</td>\n    </tr>\n    <tr>\n      <th>135</th>\n      <td>252</td>\n      <td>4</td>\n    </tr>\n  </tbody>\n</table>\n<p>118 rows × 2 columns</p>\n</div>"
     },
     "execution_count": 81,
     "metadata": {},
     "output_type": "execute_result"
    }
   ],
   "source": [
    "df_institucion = doc_D4.loc[~doc_D4['Nivel docentes'].isna(),['Código IE', 'Nivel docentes']]\n",
    "df_institucion"
   ],
   "metadata": {
    "collapsed": false,
    "pycharm": {
     "name": "#%%\n"
    }
   }
  },
  {
   "cell_type": "markdown",
   "source": [
    "#### Lista chequeo lider"
   ],
   "metadata": {
    "collapsed": false,
    "pycharm": {
     "name": "#%% md\n"
    }
   }
  },
  {
   "cell_type": "code",
   "source": [
    "lid = pd.read_excel('../../data/raw/Lid_Con_Pre_020522.xlsx')\n",
    "print(lid.shape)\n",
    "print(lid.columns)\n",
    "lid['Timestamp'] = pd.to_datetime(lid['Timestamp'])\n",
    "lid = lid[lid.Timestamp>'2022-04-14']\n",
    "lid['Fecha'] = lid.Timestamp.dt.strftime('%d/%m')\n",
    "lid['Fecha'][:5]"
   ],
   "metadata": {
    "collapsed": false,
    "pycharm": {
     "name": "#%%\n"
    }
   },
   "execution_count": 82,
   "outputs": [
    {
     "name": "stdout",
     "output_type": "stream",
     "text": [
      "(97, 49)\n",
      "Index(['Timestamp', 'Código IE',\n",
      "       '1.1 Los docentes encargados del área son los responsables de definir lo que se enseña',\n",
      "       '1.2 El plan de estudios del área cuenta con mejoras realizadas por los docentes de la IE gracias a espacios colaborativos',\n",
      "       '1.3 El plan de estudio incluye actividades básicas de ofimática y/o alfabetización digital, programación y/o desarrollo del pensamiento computacional.',\n",
      "       '1.4 En el plan de estudio se da mayor relevancia al pensamiento computacional',\n",
      "       '1.5 El plan de estudio del área promueve la transición desde la alfabetización digital a las ciencias de la computación',\n",
      "       '1.6 El plan de estudios del área comprende el pensamiento computacional y su impacto dentro del proceso enseñanza-aprendizaje',\n",
      "       '1.7 El plan de estudios del área es coherente con la transición de un grado a otro y permite al estudiante desarrollar conocimientos, habilidades y comprensión del pensamiento computacional',\n",
      "       '1.8 El plan de estudios del área incluye trabajo práctico para el desarrollo del pensamiento computacional.',\n",
      "       '1.9 El plan de estudio del área cuenta con espacios de socialización a los estudiantes de personas que trabajan en ocupaciones relacionadas al área STEM',\n",
      "       '1.10 El plan de estudio de las asignaturas No-STEM integran eficientemente los aprendizajes adquiridos por sus estudiantes sobre pensamiento computacional',\n",
      "       '1.11 La visión institucional menciona el impacto y lugar de la enseñanza del desarrollo del pensamiento computacional dentro del plan de estudios.',\n",
      "       'Comentarios P1',\n",
      "       '2.1 La IE identifica a los estudiantes que cuentan con necesidades educativas especiales',\n",
      "       '2.2 La IE implementa algunas acciones para brindar apoyo a los estudiantes con necesidades educativas especiales en su participación en el área',\n",
      "       '2.3 La IE establece un plan para la atención de estudiantes con necesidades educativas especiales para su participación en actividades asociadas al pensamiento computacional',\n",
      "       '2.4 La IE promueve la participación de personas con necesidades educativas especiales en actividades extracurricules para garantiza la inclusión y participación en áreas STEM',\n",
      "       '2.5 La IE genera estrategias que visibilizan modelos a seguir en carreras en áreas STEM en estudiantes con necesidades educativas especiales',\n",
      "       '2.6 Los docentes del área que incluyen pensamiento computacional y/o ciencias de la computación muestran la asignatura como accesible para todos(as)',\n",
      "       '2.7 La IE promueve al trabajo conjunto entre los docente y profesionales externos para impulsar prácticas inclusivas en la enseñanza de la computación y/o pensamiento computacional',\n",
      "       '2.8 El plan de estudio considera aspectos para la inclusión de estudiantes con trastornos de aprendizaje y/o discapacidad',\n",
      "       '2.9 El plan de estudios del área incluye acciones de apoyo y adecuaciones a los materiales educativos articuladas con las estrategias de atención de estudiantes con necesidades educativas especiales',\n",
      "       '2.10  El plan de estudios del área y los recursos educativos se revisan con apoyo de personal experto en la atención a estudiantes con necesidades educativas especiales',\n",
      "       '2.11 El plan de estudios del área hace explícita la pedagogía a utilizar que incluye adaptaciones para estudiantes con necesidades educativas especiales',\n",
      "       'Comentarios P2',\n",
      "       '3.1 La IE hace seguimiento de las diferencias de género en los resultados y el desempeño académico de niños y niñas en áreas STEM',\n",
      "       '3.2 La IE crea espacios de reflexión sobre las causas y orígenes de las diferencias entre niños y niñas',\n",
      "       '3.3 La IE realiza iniciativas cívicas y campañas comunicativas con estudiantes para visibilizar las diferencias de género en áreas STEM',\n",
      "       '3.4 La IE toma acciones concretas para disminuir la diferencias de resultados entre niños y niñas Por ejemplo: organizar competencias diferenciadas entre niños y niñas en áreas STEM',\n",
      "       '3.5 La IE tiene alianzas con entidades externas que promuevan la equidad género en las áreas STEM',\n",
      "       '3.6 La institución posee una propuesta estructurada donde garantiza que los niños y niñas continúen su trayectoria de formación educativa en pensamiento computacional y/o ciencias de la computación.',\n",
      "       '3.7 El plan de estudios del área promueve en niños y niñas el desarrollo de sus conocimientos, habilidades y actitudes',\n",
      "       '3.8 El plan de estudio del área cuentan con una estructura clara que permite disminuir las diferencias en el desempeño de niños y niñas',\n",
      "       '3.9 El plan de estudio del área se encuentran en constante revisión e incorporan nuevas estrategias para promover la igualdad en el desempeño de niños y niñas',\n",
      "       '3.10 El plan de estudio considera aspectos para disminuir las diferencias entre niños y niñas y la inclusión de estudiantes con trastornos de aprendizaje y/o discapacidad',\n",
      "       'Comentarios P3',\n",
      "       '4.1 La IE tiene en cuenta el plan de estudios para determinar las actividades de desarrollo profesional',\n",
      "       '4.2 La IE identifica las necesidades de los docentes para determinar actividades de desarrollo profesional',\n",
      "       '4.3 La IE cuenta con espacios de discusión y planeación para actividades de desarrollo profesional',\n",
      "       '4.4 La IE capacita a los docentes en temas de equidad de género y apoya la implementación de acciones afirmativas en el aula de clases',\n",
      "       '4.5 La IE lleva un registro formal de las necesidades y participación de los docentes en actividades de desarrollo profesional',\n",
      "       '4.6 Los docentes de otras áreas se interesan por el área de tecnología e informática y la integran a su enseñanza',\n",
      "       '4.7 La IE incentiva el trabajo coordinado entre los/las responsables del área',\n",
      "       '4.8 La IE tiene en cuenta los conocimientos del personal docente para enriquecer la visión institucional sobre la enseñanza de la computación y potenciar la comprensión de las/los estudiantes y desarrollo',\n",
      "       '4.9 La IE promueve al trabajo conjunto entre los docente y profesionales líderes externos para impulsar prácticas inclusivas en la enseñanza de la computación y/o pensamiento computacional',\n",
      "       '4.10 El Consejo Directivo del colegio está al tanto de que en la institución se está enseñando ciencias de la computación, y se encuentran involucrados en el proceso.',\n",
      "       '4.11 Las directivas y el Consejo Directivo participan y evalúan la implementación de sistemas eficientes del plan de estudios del área.]',\n",
      "       'Comentarios P4'],\n",
      "      dtype='object')\n"
     ]
    },
    {
     "data": {
      "text/plain": "0    18/04\n1    18/04\n2    19/04\n3    19/04\n4    19/04\nName: Fecha, dtype: object"
     },
     "execution_count": 82,
     "metadata": {},
     "output_type": "execute_result"
    }
   ]
  },
  {
   "cell_type": "code",
   "execution_count": 83,
   "outputs": [
    {
     "data": {
      "text/plain": "array(['Sí', 'No', 'No aplica'], dtype=object)"
     },
     "execution_count": 83,
     "metadata": {},
     "output_type": "execute_result"
    }
   ],
   "source": [
    "lid['4.1 La IE tiene en cuenta el plan de estudios para determinar las actividades de desarrollo profesional'].unique()"
   ],
   "metadata": {
    "collapsed": false,
    "pycharm": {
     "name": "#%%\n"
    }
   }
  },
  {
   "cell_type": "code",
   "execution_count": 84,
   "outputs": [],
   "source": [
    "cols_lid_d4 = {\n",
    "                  '4.1 La IE tiene en cuenta el plan de estudios para determinar las actividades de desarrollo profesional':\n",
    "                      { \"No\":\"2A\", \"No aplica\": \"2A\", \"Sí\": \"4\"},\n",
    "                  '4.2 La IE identifica las necesidades de los docentes para determinar actividades de desarrollo profesional':\n",
    "                      {\"No\":\"2B\", \"No aplica\": \"2B\", \"Sí\": \"4\"},\n",
    "                  '4.3 La IE cuenta con espacios de discusión y planeación para actividades de desarrollo profesional':\n",
    "                      {\"No\":\"2A\", \"No aplica\": \"2A\", \"Sí\": \"4\"},\n",
    "                  '4.5 La IE lleva un registro formal de las necesidades y participación de los docentes en actividades de desarrollo profesional':\n",
    "                      {\"No\":\"2A\", \"No aplica\": \"2A\", \"Sí\": \"4\"}}"
   ],
   "metadata": {
    "collapsed": false,
    "pycharm": {
     "name": "#%%\n"
    }
   }
  },
  {
   "cell_type": "code",
   "execution_count": 85,
   "outputs": [
    {
     "data": {
      "text/plain": "162    2\n166    2\n163    2\n218    2\n46     2\n      ..\n183    1\n150    1\n54     1\n130    1\n122    1\nName: Código IE, Length: 89, dtype: int64"
     },
     "execution_count": 85,
     "metadata": {},
     "output_type": "execute_result"
    }
   ],
   "source": [
    "lid['Código IE'].value_counts()"
   ],
   "metadata": {
    "collapsed": false,
    "pycharm": {
     "name": "#%%\n"
    }
   }
  },
  {
   "cell_type": "code",
   "execution_count": 86,
   "outputs": [
    {
     "data": {
      "text/plain": "                 Timestamp  Código IE  \\\n7  2022-04-19 10:18:58.798        166   \n10 2022-04-19 13:24:50.679        166   \n\n   1.1 Los docentes encargados del área son los responsables de definir lo que se enseña  \\\n7                                                  Sí                                      \n10                                                 Sí                                      \n\n   1.2 El plan de estudios del área cuenta con mejoras realizadas por los docentes de la IE gracias a espacios colaborativos  \\\n7                                                  Sí                                                                          \n10                                                 Sí                                                                          \n\n   1.3 El plan de estudio incluye actividades básicas de ofimática y/o alfabetización digital, programación y/o desarrollo del pensamiento computacional.  \\\n7                                                  Sí                                                                                                       \n10                                                 Sí                                                                                                       \n\n   1.4 En el plan de estudio se da mayor relevancia al pensamiento computacional  \\\n7                                                  Sí                              \n10                                                 Sí                              \n\n   1.5 El plan de estudio del área promueve la transición desde la alfabetización digital a las ciencias de la computación  \\\n7                                                  Sí                                                                        \n10                                                 Sí                                                                        \n\n   1.6 El plan de estudios del área comprende el pensamiento computacional y su impacto dentro del proceso enseñanza-aprendizaje  \\\n7                                                  Sí                                                                              \n10                                                 Sí                                                                              \n\n   1.7 El plan de estudios del área es coherente con la transición de un grado a otro y permite al estudiante desarrollar conocimientos, habilidades y comprensión del pensamiento computacional  \\\n7                                                  Sí                                                                                                                                              \n10                                                 No                                                                                                                                              \n\n   1.8 El plan de estudios del área incluye trabajo práctico para el desarrollo del pensamiento computacional.  \\\n7                                                  Sí                                                            \n10                                                 Sí                                                            \n\n    ...  \\\n7   ...   \n10  ...   \n\n   4.4 La IE capacita a los docentes en temas de equidad de género y apoya la implementación de acciones afirmativas en el aula de clases  \\\n7                                                  No                                                                                       \n10                                                 Sí                                                                                       \n\n   4.5 La IE lleva un registro formal de las necesidades y participación de los docentes en actividades de desarrollo profesional  \\\n7                                           No aplica                                                                               \n10                                                 Sí                                                                               \n\n   4.6 Los docentes de otras áreas se interesan por el área de tecnología e informática y la integran a su enseñanza  \\\n7                                                  Sí                                                                  \n10                                                 No                                                                  \n\n   4.7 La IE incentiva el trabajo coordinado entre los/las responsables del área  \\\n7                                                  Sí                              \n10                                                 Sí                              \n\n   4.8 La IE tiene en cuenta los conocimientos del personal docente para enriquecer la visión institucional sobre la enseñanza de la computación y potenciar la comprensión de las/los estudiantes y desarrollo  \\\n7                                                  Sí                                                                                                                                                             \n10                                                 Sí                                                                                                                                                             \n\n   4.9 La IE promueve al trabajo conjunto entre los docente y profesionales líderes externos para impulsar prácticas inclusivas en la enseñanza de la computación y/o pensamiento computacional  \\\n7                                                  No                                                                                                                                             \n10                                                 Sí                                                                                                                                             \n\n   4.10 El Consejo Directivo del colegio está al tanto de que en la institución se está enseñando ciencias de la computación, y se encuentran involucrados en el proceso.  \\\n7                                                  Sí                                                                                                                       \n10                                                 No                                                                                                                       \n\n   4.11 Las directivas y el Consejo Directivo participan y evalúan la implementación de sistemas eficientes del plan de estudios del área.]  \\\n7                                                  No                                                                                         \n10                                                 Sí                                                                                         \n\n   Comentarios P4  Fecha  \n7             NaN  19/04  \n10            NaN  19/04  \n\n[2 rows x 50 columns]",
      "text/html": "<div>\n<style scoped>\n    .dataframe tbody tr th:only-of-type {\n        vertical-align: middle;\n    }\n\n    .dataframe tbody tr th {\n        vertical-align: top;\n    }\n\n    .dataframe thead th {\n        text-align: right;\n    }\n</style>\n<table border=\"1\" class=\"dataframe\">\n  <thead>\n    <tr style=\"text-align: right;\">\n      <th></th>\n      <th>Timestamp</th>\n      <th>Código IE</th>\n      <th>1.1 Los docentes encargados del área son los responsables de definir lo que se enseña</th>\n      <th>1.2 El plan de estudios del área cuenta con mejoras realizadas por los docentes de la IE gracias a espacios colaborativos</th>\n      <th>1.3 El plan de estudio incluye actividades básicas de ofimática y/o alfabetización digital, programación y/o desarrollo del pensamiento computacional.</th>\n      <th>1.4 En el plan de estudio se da mayor relevancia al pensamiento computacional</th>\n      <th>1.5 El plan de estudio del área promueve la transición desde la alfabetización digital a las ciencias de la computación</th>\n      <th>1.6 El plan de estudios del área comprende el pensamiento computacional y su impacto dentro del proceso enseñanza-aprendizaje</th>\n      <th>1.7 El plan de estudios del área es coherente con la transición de un grado a otro y permite al estudiante desarrollar conocimientos, habilidades y comprensión del pensamiento computacional</th>\n      <th>1.8 El plan de estudios del área incluye trabajo práctico para el desarrollo del pensamiento computacional.</th>\n      <th>...</th>\n      <th>4.4 La IE capacita a los docentes en temas de equidad de género y apoya la implementación de acciones afirmativas en el aula de clases</th>\n      <th>4.5 La IE lleva un registro formal de las necesidades y participación de los docentes en actividades de desarrollo profesional</th>\n      <th>4.6 Los docentes de otras áreas se interesan por el área de tecnología e informática y la integran a su enseñanza</th>\n      <th>4.7 La IE incentiva el trabajo coordinado entre los/las responsables del área</th>\n      <th>4.8 La IE tiene en cuenta los conocimientos del personal docente para enriquecer la visión institucional sobre la enseñanza de la computación y potenciar la comprensión de las/los estudiantes y desarrollo</th>\n      <th>4.9 La IE promueve al trabajo conjunto entre los docente y profesionales líderes externos para impulsar prácticas inclusivas en la enseñanza de la computación y/o pensamiento computacional</th>\n      <th>4.10 El Consejo Directivo del colegio está al tanto de que en la institución se está enseñando ciencias de la computación, y se encuentran involucrados en el proceso.</th>\n      <th>4.11 Las directivas y el Consejo Directivo participan y evalúan la implementación de sistemas eficientes del plan de estudios del área.]</th>\n      <th>Comentarios P4</th>\n      <th>Fecha</th>\n    </tr>\n  </thead>\n  <tbody>\n    <tr>\n      <th>7</th>\n      <td>2022-04-19 10:18:58.798</td>\n      <td>166</td>\n      <td>Sí</td>\n      <td>Sí</td>\n      <td>Sí</td>\n      <td>Sí</td>\n      <td>Sí</td>\n      <td>Sí</td>\n      <td>Sí</td>\n      <td>Sí</td>\n      <td>...</td>\n      <td>No</td>\n      <td>No aplica</td>\n      <td>Sí</td>\n      <td>Sí</td>\n      <td>Sí</td>\n      <td>No</td>\n      <td>Sí</td>\n      <td>No</td>\n      <td>NaN</td>\n      <td>19/04</td>\n    </tr>\n    <tr>\n      <th>10</th>\n      <td>2022-04-19 13:24:50.679</td>\n      <td>166</td>\n      <td>Sí</td>\n      <td>Sí</td>\n      <td>Sí</td>\n      <td>Sí</td>\n      <td>Sí</td>\n      <td>Sí</td>\n      <td>No</td>\n      <td>Sí</td>\n      <td>...</td>\n      <td>Sí</td>\n      <td>Sí</td>\n      <td>No</td>\n      <td>Sí</td>\n      <td>Sí</td>\n      <td>Sí</td>\n      <td>No</td>\n      <td>Sí</td>\n      <td>NaN</td>\n      <td>19/04</td>\n    </tr>\n  </tbody>\n</table>\n<p>2 rows × 50 columns</p>\n</div>"
     },
     "execution_count": 86,
     "metadata": {},
     "output_type": "execute_result"
    }
   ],
   "source": [
    "lid[lid['Código IE']==166]"
   ],
   "metadata": {
    "collapsed": false,
    "pycharm": {
     "name": "#%%\n"
    }
   }
  },
  {
   "cell_type": "code",
   "execution_count": 87,
   "outputs": [
    {
     "data": {
      "text/plain": "    Código IE  \\\n0           2   \n1           3   \n2           4   \n3           5   \n4           6   \n..        ...   \n84        231   \n85        235   \n86        237   \n87        248   \n88        252   \n\n   4.1 La IE tiene en cuenta el plan de estudios para determinar las actividades de desarrollo profesional  \\\n0                                                   4                                                        \n1                                                   4                                                        \n2                                                  2A                                                        \n3                                                   4                                                        \n4                                                  2A                                                        \n..                                                ...                                                        \n84                                                  4                                                        \n85                                                  4                                                        \n86                                                 2A                                                        \n87                                                 2A                                                        \n88                                                  4                                                        \n\n   4.2 La IE identifica las necesidades de los docentes para determinar actividades de desarrollo profesional  \\\n0                                                   4                                                           \n1                                                   4                                                           \n2                                                  2B                                                           \n3                                                   4                                                           \n4                                                  2B                                                           \n..                                                ...                                                           \n84                                                 2B                                                           \n85                                                  4                                                           \n86                                                 2B                                                           \n87                                                  4                                                           \n88                                                  4                                                           \n\n   4.3 La IE cuenta con espacios de discusión y planeación para actividades de desarrollo profesional  \\\n0                                                   4                                                   \n1                                                   4                                                   \n2                                                  2A                                                   \n3                                                   4                                                   \n4                                                   4                                                   \n..                                                ...                                                   \n84                                                 2A                                                   \n85                                                  4                                                   \n86                                                 2A                                                   \n87                                                  4                                                   \n88                                                  4                                                   \n\n   4.5 La IE lleva un registro formal de las necesidades y participación de los docentes en actividades de desarrollo profesional  \n0                                                  2A                                                                              \n1                                                   4                                                                              \n2                                                  2A                                                                              \n3                                                   4                                                                              \n4                                                  2A                                                                              \n..                                                ...                                                                              \n84                                                 2A                                                                              \n85                                                 2A                                                                              \n86                                                 2A                                                                              \n87                                                  4                                                                              \n88                                                  4                                                                              \n\n[89 rows x 5 columns]",
      "text/html": "<div>\n<style scoped>\n    .dataframe tbody tr th:only-of-type {\n        vertical-align: middle;\n    }\n\n    .dataframe tbody tr th {\n        vertical-align: top;\n    }\n\n    .dataframe thead th {\n        text-align: right;\n    }\n</style>\n<table border=\"1\" class=\"dataframe\">\n  <thead>\n    <tr style=\"text-align: right;\">\n      <th></th>\n      <th>Código IE</th>\n      <th>4.1 La IE tiene en cuenta el plan de estudios para determinar las actividades de desarrollo profesional</th>\n      <th>4.2 La IE identifica las necesidades de los docentes para determinar actividades de desarrollo profesional</th>\n      <th>4.3 La IE cuenta con espacios de discusión y planeación para actividades de desarrollo profesional</th>\n      <th>4.5 La IE lleva un registro formal de las necesidades y participación de los docentes en actividades de desarrollo profesional</th>\n    </tr>\n  </thead>\n  <tbody>\n    <tr>\n      <th>0</th>\n      <td>2</td>\n      <td>4</td>\n      <td>4</td>\n      <td>4</td>\n      <td>2A</td>\n    </tr>\n    <tr>\n      <th>1</th>\n      <td>3</td>\n      <td>4</td>\n      <td>4</td>\n      <td>4</td>\n      <td>4</td>\n    </tr>\n    <tr>\n      <th>2</th>\n      <td>4</td>\n      <td>2A</td>\n      <td>2B</td>\n      <td>2A</td>\n      <td>2A</td>\n    </tr>\n    <tr>\n      <th>3</th>\n      <td>5</td>\n      <td>4</td>\n      <td>4</td>\n      <td>4</td>\n      <td>4</td>\n    </tr>\n    <tr>\n      <th>4</th>\n      <td>6</td>\n      <td>2A</td>\n      <td>2B</td>\n      <td>4</td>\n      <td>2A</td>\n    </tr>\n    <tr>\n      <th>...</th>\n      <td>...</td>\n      <td>...</td>\n      <td>...</td>\n      <td>...</td>\n      <td>...</td>\n    </tr>\n    <tr>\n      <th>84</th>\n      <td>231</td>\n      <td>4</td>\n      <td>2B</td>\n      <td>2A</td>\n      <td>2A</td>\n    </tr>\n    <tr>\n      <th>85</th>\n      <td>235</td>\n      <td>4</td>\n      <td>4</td>\n      <td>4</td>\n      <td>2A</td>\n    </tr>\n    <tr>\n      <th>86</th>\n      <td>237</td>\n      <td>2A</td>\n      <td>2B</td>\n      <td>2A</td>\n      <td>2A</td>\n    </tr>\n    <tr>\n      <th>87</th>\n      <td>248</td>\n      <td>2A</td>\n      <td>4</td>\n      <td>4</td>\n      <td>4</td>\n    </tr>\n    <tr>\n      <th>88</th>\n      <td>252</td>\n      <td>4</td>\n      <td>4</td>\n      <td>4</td>\n      <td>4</td>\n    </tr>\n  </tbody>\n</table>\n<p>89 rows × 5 columns</p>\n</div>"
     },
     "execution_count": 87,
     "metadata": {},
     "output_type": "execute_result"
    }
   ],
   "source": [
    "lid_D4 = lid[['Código IE']+list(cols_lid_d4.keys())]\n",
    "lid_D4 = lid_D4.replace(cols_lid_d4)\n",
    "lid_D4 = lid_D4.groupby('Código IE').max().reset_index()\n",
    "lid_D4"
   ],
   "metadata": {
    "collapsed": false,
    "pycharm": {
     "name": "#%%\n"
    }
   }
  },
  {
   "cell_type": "code",
   "execution_count": 88,
   "outputs": [
    {
     "data": {
      "text/plain": "    Código IE Nivel docentes  \\\n0           2              4   \n1           5              4   \n2           6              4   \n3           7             1B   \n4          27              4   \n..        ...            ...   \n67        230              4   \n68        231              4   \n69        235              4   \n70        237              4   \n71        252              4   \n\n   4.1 La IE tiene en cuenta el plan de estudios para determinar las actividades de desarrollo profesional  \\\n0                                                   4                                                        \n1                                                   4                                                        \n2                                                  2A                                                        \n3                                                   4                                                        \n4                                                   4                                                        \n..                                                ...                                                        \n67                                                  4                                                        \n68                                                  4                                                        \n69                                                  4                                                        \n70                                                 2A                                                        \n71                                                  4                                                        \n\n   4.2 La IE identifica las necesidades de los docentes para determinar actividades de desarrollo profesional  \\\n0                                                   4                                                           \n1                                                   4                                                           \n2                                                  2B                                                           \n3                                                   4                                                           \n4                                                   4                                                           \n..                                                ...                                                           \n67                                                 2B                                                           \n68                                                 2B                                                           \n69                                                  4                                                           \n70                                                 2B                                                           \n71                                                  4                                                           \n\n   4.3 La IE cuenta con espacios de discusión y planeación para actividades de desarrollo profesional  \\\n0                                                   4                                                   \n1                                                   4                                                   \n2                                                   4                                                   \n3                                                   4                                                   \n4                                                   4                                                   \n..                                                ...                                                   \n67                                                 2A                                                   \n68                                                 2A                                                   \n69                                                  4                                                   \n70                                                 2A                                                   \n71                                                  4                                                   \n\n   4.5 La IE lleva un registro formal de las necesidades y participación de los docentes en actividades de desarrollo profesional  \n0                                                  2A                                                                              \n1                                                   4                                                                              \n2                                                  2A                                                                              \n3                                                   4                                                                              \n4                                                  2A                                                                              \n..                                                ...                                                                              \n67                                                 2A                                                                              \n68                                                 2A                                                                              \n69                                                 2A                                                                              \n70                                                 2A                                                                              \n71                                                  4                                                                              \n\n[72 rows x 6 columns]",
      "text/html": "<div>\n<style scoped>\n    .dataframe tbody tr th:only-of-type {\n        vertical-align: middle;\n    }\n\n    .dataframe tbody tr th {\n        vertical-align: top;\n    }\n\n    .dataframe thead th {\n        text-align: right;\n    }\n</style>\n<table border=\"1\" class=\"dataframe\">\n  <thead>\n    <tr style=\"text-align: right;\">\n      <th></th>\n      <th>Código IE</th>\n      <th>Nivel docentes</th>\n      <th>4.1 La IE tiene en cuenta el plan de estudios para determinar las actividades de desarrollo profesional</th>\n      <th>4.2 La IE identifica las necesidades de los docentes para determinar actividades de desarrollo profesional</th>\n      <th>4.3 La IE cuenta con espacios de discusión y planeación para actividades de desarrollo profesional</th>\n      <th>4.5 La IE lleva un registro formal de las necesidades y participación de los docentes en actividades de desarrollo profesional</th>\n    </tr>\n  </thead>\n  <tbody>\n    <tr>\n      <th>0</th>\n      <td>2</td>\n      <td>4</td>\n      <td>4</td>\n      <td>4</td>\n      <td>4</td>\n      <td>2A</td>\n    </tr>\n    <tr>\n      <th>1</th>\n      <td>5</td>\n      <td>4</td>\n      <td>4</td>\n      <td>4</td>\n      <td>4</td>\n      <td>4</td>\n    </tr>\n    <tr>\n      <th>2</th>\n      <td>6</td>\n      <td>4</td>\n      <td>2A</td>\n      <td>2B</td>\n      <td>4</td>\n      <td>2A</td>\n    </tr>\n    <tr>\n      <th>3</th>\n      <td>7</td>\n      <td>1B</td>\n      <td>4</td>\n      <td>4</td>\n      <td>4</td>\n      <td>4</td>\n    </tr>\n    <tr>\n      <th>4</th>\n      <td>27</td>\n      <td>4</td>\n      <td>4</td>\n      <td>4</td>\n      <td>4</td>\n      <td>2A</td>\n    </tr>\n    <tr>\n      <th>...</th>\n      <td>...</td>\n      <td>...</td>\n      <td>...</td>\n      <td>...</td>\n      <td>...</td>\n      <td>...</td>\n    </tr>\n    <tr>\n      <th>67</th>\n      <td>230</td>\n      <td>4</td>\n      <td>4</td>\n      <td>2B</td>\n      <td>2A</td>\n      <td>2A</td>\n    </tr>\n    <tr>\n      <th>68</th>\n      <td>231</td>\n      <td>4</td>\n      <td>4</td>\n      <td>2B</td>\n      <td>2A</td>\n      <td>2A</td>\n    </tr>\n    <tr>\n      <th>69</th>\n      <td>235</td>\n      <td>4</td>\n      <td>4</td>\n      <td>4</td>\n      <td>4</td>\n      <td>2A</td>\n    </tr>\n    <tr>\n      <th>70</th>\n      <td>237</td>\n      <td>4</td>\n      <td>2A</td>\n      <td>2B</td>\n      <td>2A</td>\n      <td>2A</td>\n    </tr>\n    <tr>\n      <th>71</th>\n      <td>252</td>\n      <td>4</td>\n      <td>4</td>\n      <td>4</td>\n      <td>4</td>\n      <td>4</td>\n    </tr>\n  </tbody>\n</table>\n<p>72 rows × 6 columns</p>\n</div>"
     },
     "execution_count": 88,
     "metadata": {},
     "output_type": "execute_result"
    }
   ],
   "source": [
    "df_institucion = pd.merge(df_institucion, lid_D4, on='Código IE', how='inner')\n",
    "df_institucion"
   ],
   "metadata": {
    "collapsed": false,
    "pycharm": {
     "name": "#%%\n"
    }
   }
  },
  {
   "cell_type": "markdown",
   "source": [
    "#### Directivos"
   ],
   "metadata": {
    "collapsed": false,
    "pycharm": {
     "name": "#%% md\n"
    }
   }
  },
  {
   "cell_type": "code",
   "execution_count": 114,
   "outputs": [
    {
     "name": "stdout",
     "output_type": "stream",
     "text": [
      "(258, 61)\n",
      "Index(['Timestamp', 'Política de datos', 'ID', 'Edad', 'Sexo',\n",
      "       'Cabeza de hogar', 'Estado civil', 'Líder comunitario',\n",
      "       'Formación STEM', 'Rol en IE',\n",
      "       '¿En su institución hay estudiantes con algún tipo de discapacidad?',\n",
      "       'Estudiantes  con discapacidad intelectual',\n",
      "       'eliminar - Discapacidad intelectual (deficiencias en las capacidades mentales generales, como el razonamiento, la resolución de problemas, la planificación, el pensamiento abstracto, el juicio, el aprendizaje académico y el aprendizaje de la experiencia)',\n",
      "       'Estudiantes con Discapacidad física o motora',\n",
      "       'Estudiantes con Discapacidad auditiva',\n",
      "       'Estudiantes con Discapacidad visual',\n",
      "       'Estudiantes con Discapacidad psicosocial',\n",
      "       'Estudiantes con Discapacidad múltiple',\n",
      "       'Estudiante con Trastornos Específicos del Aprendizaje',\n",
      "       'eliminar - ¿Su colegio está en un contexto?',\n",
      "       'eliminar - ¿En qué departamento está tu colegio?',\n",
      "       'eliminar - Nombre de tu colegio', 'eliminar - Nombre de tu colegio.1',\n",
      "       'eliminar - Nombre de tu colegio.2',\n",
      "       'eliminar - Nombre de tu colegio.3',\n",
      "       'eliminar - Nombre de tu colegio.4',\n",
      "       'eliminar - Nombre de tu colegio.5',\n",
      "       'eliminar - Nombre de tu colegio.6',\n",
      "       'eliminar - Nombre de tu colegio.7',\n",
      "       'eliminar - Nombre de tu colegio.8',\n",
      "       'eliminar - Nombre de tu colegio.9',\n",
      "       'eliminar - Nombre de tu colegio.10',\n",
      "       'eliminar - Nombre de tu colegio.11',\n",
      "       'eliminar - Nombre de tu colegio.12',\n",
      "       'eliminar - Nombre de tu colegio.13',\n",
      "       'eliminar - Nombre de tu colegio.14',\n",
      "       'eliminar - Nombre de tu colegio.15',\n",
      "       'eliminar - Nombre de tu colegio.16',\n",
      "       'eliminar - Nombre de tu colegio.17',\n",
      "       'eliminar - Nombre de tu colegio.18',\n",
      "       'Considera importante enseñar el pensamiento computacional desde los primeros niveles educativos',\n",
      "       'Conceptos que deben incluirse en la clase de tecnología e informática',\n",
      "       'Comentarios autorreporte',\n",
      "       '1.1 Los maestros de esta Institución educativa incorporan el pensamiento computacional en sus clases',\n",
      "       '1.2 Los esfuerzos de los maestros para enseñar conceptos de pensamiento computacional son muy valorados en esta institución educativa',\n",
      "       '1.3 Animo a los maestros de otras disciplinas a asistir a oportunidades de desarrollo profesional enfocadas en pensamiento computacional.',\n",
      "       '1.4 Hay alguien en mi colegio que puede asesorar a los estudiantes sobre los caminos hacia una carrera en STEM',\n",
      "       '1.5 En los próximos tres años, espero que la cantidad de oportunidades para aprender sobre pensamiento computacional en este colegio aumenten',\n",
      "       '1.6 Es extremadamente importante que todos los estudiantes aprendan pensamiento computacional.',\n",
      "       '1.7 Tener educación en pensamiento computacional mejoraría significativamente las futuras opciones de carrera para los estudiantes de mi escuela.',\n",
      "       '1.8 El pensamiento computacional se utiliza en muchos tipos diferentes de trabajos.',\n",
      "       '1.9 Ofrecer oportunidades para aprender de pensamiento computacional tiene el mismo valor o más para el éxito futuro de un estudiante que otros cursos obligatorios como matemáticas, biología, ciencias sociales, historia e inglés',\n",
      "       '1.10 Conozco y puedo recomendar a mis estudiantes diferentes programas de formación relacionadas al pensamiento computacional y/o ciencias de la computación',\n",
      "       '1.11 Los estudiantes reciben asesoría vocacional sobre alternativas u oportunidades relacionadas a carreras STEM',\n",
      "       '1.12 Informo a mis estudiantes sobre oportunidades que existen para continuar los estudios en áreas relacionadas al pensamiento computacional y/o ciencias de la computación',\n",
      "       'Comentarios autodiagnóstico',\n",
      "       'Actividades que se promueven en esta institución educativa para apoyar la formación docente enfocadas en pensamiento computacional',\n",
      "       '¿La rotación de los docentes de tecnología e informática influye sobre la calidad y el aprendizaje del área de los estudiantes en los diferentes grados?',\n",
      "       'Código IE', 'Tipo de ID', 'Número de estudiantes matriculados'],\n",
      "      dtype='object')\n"
     ]
    },
    {
     "data": {
      "text/plain": "3    18/04\n4    18/04\n5    18/04\n6    18/04\n7    18/04\nName: Fecha, dtype: object"
     },
     "execution_count": 114,
     "metadata": {},
     "output_type": "execute_result"
    }
   ],
   "source": [
    "dir = pd.read_excel('../../data/raw/Dir_Con_Pre_020522.xlsx')\n",
    "print(dir.shape)\n",
    "print(dir.columns)\n",
    "dir['Timestamp'] = pd.to_datetime(dir['Timestamp'])\n",
    "dir = dir[dir.Timestamp>'2022-04-14']\n",
    "dir['Fecha'] = dir.Timestamp.dt.strftime('%d/%m')\n",
    "dir['Fecha'][:5]\n"
   ],
   "metadata": {
    "collapsed": false,
    "pycharm": {
     "name": "#%%\n"
    }
   }
  },
  {
   "cell_type": "code",
   "execution_count": 115,
   "outputs": [
    {
     "data": {
      "text/plain": "                  Timestamp Política de datos          ID  Edad       Sexo  \\\n3   2022-04-18 08:06:15.218                Sí  93410609.0  43.0  Masculino   \n4   2022-04-18 08:11:58.704                Sí   5933717.0  66.0  Masculino   \n5   2022-04-18 09:43:31.179                Sí  60311721.0  56.0   Femenino   \n6   2022-04-18 09:49:03.031                Sí  98525547.0  52.0  Masculino   \n7   2022-04-18 10:09:20.861                Sí  14244219.0  59.0  Masculino   \n..                      ...               ...         ...   ...        ...   \n253 2022-05-02 10:52:51.880                Sí  31972681.0  54.0   Femenino   \n254 2022-05-02 11:14:05.318                Sí  38941750.0  63.0   Femenino   \n255 2022-05-02 12:29:21.917                Sí  15899546.0  64.0  Masculino   \n256 2022-05-02 13:19:20.868                Sí  84071899.0  48.0  Masculino   \n257 2022-05-02 17:41:37.831                Sí  31913255.0  57.0   Femenino   \n\n    Cabeza de hogar               Estado civil Líder comunitario  \\\n3                Sí  Casado/a - En unión libre                No   \n4                Sí  Casado/a - En unión libre                Sí   \n5                Sí                  Soltero/a                Sí   \n6                Sí  Casado/a - En unión libre                No   \n7                Sí  Casado/a - En unión libre                No   \n..              ...                        ...               ...   \n253              No                  Soltero/a                No   \n254              Sí                    Viudo/a                No   \n255              Sí  Casado/a - En unión libre                Sí   \n256              Sí  Casado/a - En unión libre                Sí   \n257              No  Casado/a - En unión libre                No   \n\n    Formación STEM              Rol en IE  ...  \\\n3          No STEM    Directivo/a docente  ...   \n4          No STEM               Rector/a  ...   \n5             STEM               Rector/a  ...   \n6          No STEM  Coordinador/a de área  ...   \n7          No STEM    Directivo/a docente  ...   \n..             ...                    ...  ...   \n253           STEM               Rector/a  ...   \n254        No STEM  Coordinador/a de área  ...   \n255        No STEM               Rector/a  ...   \n256           STEM               Rector/a  ...   \n257        No STEM               Rector/a  ...   \n\n    1.10 Conozco y puedo recomendar a mis estudiantes diferentes programas de formación relacionadas al pensamiento computacional y/o ciencias de la computación  \\\n3                                                   No                                                                                                             \n4                                                   Sí                                                                                                             \n5                                                   Sí                                                                                                             \n6                                                   Sí                                                                                                             \n7                                                   No                                                                                                             \n..                                                 ...                                                                                                             \n253                                                 Sí                                                                                                             \n254                                                 Sí                                                                                                             \n255                                                 Sí                                                                                                             \n256                                                 Sí                                                                                                             \n257                                                 Sí                                                                                                             \n\n    1.11 Los estudiantes reciben asesoría vocacional sobre alternativas u oportunidades relacionadas a carreras STEM  \\\n3                                                   No                                                                 \n4                                                   No                                                                 \n5                                                   Sí                                                                 \n6                                                   No                                                                 \n7                                                   Sí                                                                 \n..                                                 ...                                                                 \n253                                                 Sí                                                                 \n254                                                 Sí                                                                 \n255                                                 Sí                                                                 \n256                                                 Sí                                                                 \n257                                                 Sí                                                                 \n\n    1.12 Informo a mis estudiantes sobre oportunidades que existen para continuar los estudios en áreas relacionadas al pensamiento computacional y/o ciencias de la computación  \\\n3                                                   No                                                                                                                             \n4                                                   Sí                                                                                                                             \n5                                                   Sí                                                                                                                             \n6                                                   Sí                                                                                                                             \n7                                                   No                                                                                                                             \n..                                                 ...                                                                                                                             \n253                                                 Sí                                                                                                                             \n254                                                 No                                                                                                                             \n255                                                 Sí                                                                                                                             \n256                                                 Sí                                                                                                                             \n257                                                 Sí                                                                                                                             \n\n                           Comentarios autodiagnóstico  \\\n3    Hay ítems que no se hacen porque desconozco la...   \n4                       Es interesante abordar el yema   \n5    Hay compromisos con la media tecnica y con ñro...   \n6    Es necesario cualificar el acompañamiento a lo...   \n7                                              Ninguno   \n..                                                 ...   \n253                                                NaN   \n254  Nuevamente afirmó en la básica primaria deberí...   \n255  Soy consciente de que el pensamiento computaci...   \n256                                                NaN   \n257                                                NaN   \n\n    Actividades que se promueven en esta institución educativa para apoyar la formación docente enfocadas en pensamiento computacional  \\\n3                                  Observación de aula                                                                                   \n4                                  Observación de aula                                                                                   \n5                        Observación de aula, Mentoría                                                                                   \n6                                 Investigación-Acción                                                                                   \n7                                          Autoestudio                                                                                   \n..                                                 ...                                                                                   \n253         Observación de aula, Mentoría, Autoestudio                                                                                   \n254                                Observación de aula                                                                                   \n255                   Observación de aula, Autoestudio                                                                                   \n256                                Observación de aula                                                                                   \n257                                        Autoestudio                                                                                   \n\n    ¿La rotación de los docentes de tecnología e informática influye sobre la calidad y el aprendizaje del área de los estudiantes en los diferentes grados?  \\\n3                                         Casi siempre                                                                                                         \n4                                                Nunca                                                                                                         \n5                                              A veces                                                                                                         \n6                                         Casi siempre                                                                                                         \n7                                           Casi nunca                                                                                                         \n..                                                 ...                                                                                                         \n253                                            A veces                                                                                                         \n254                                              Nunca                                                                                                         \n255                                            Siempre                                                                                                         \n256                                       Casi siempre                                                                                                         \n257                                            A veces                                                                                                         \n\n    Código IE            Tipo de ID Número de estudiantes matriculados  Fecha  \n3       206.0  Cédula de ciudadanía                                NaN  18/04  \n4       206.0  Cédula de ciudadanía                                NaN  18/04  \n5       235.0  Cédula de ciudadanía                                NaN  18/04  \n6       235.0  Cédula de ciudadanía                                NaN  18/04  \n7        32.0  Cédula de ciudadanía                               2000  18/04  \n..        ...                   ...                                ...    ...  \n253       5.0  Cédula de ciudadanía                                 36  02/05  \n254      15.0  Cédula de ciudadanía                                539  02/05  \n255     233.0  Cédula de ciudadanía                               1500  02/05  \n256      94.0  Cédula de ciudadanía                               2662  02/05  \n257      75.0  Cédula de ciudadanía                               1515  02/05  \n\n[252 rows x 40 columns]",
      "text/html": "<div>\n<style scoped>\n    .dataframe tbody tr th:only-of-type {\n        vertical-align: middle;\n    }\n\n    .dataframe tbody tr th {\n        vertical-align: top;\n    }\n\n    .dataframe thead th {\n        text-align: right;\n    }\n</style>\n<table border=\"1\" class=\"dataframe\">\n  <thead>\n    <tr style=\"text-align: right;\">\n      <th></th>\n      <th>Timestamp</th>\n      <th>Política de datos</th>\n      <th>ID</th>\n      <th>Edad</th>\n      <th>Sexo</th>\n      <th>Cabeza de hogar</th>\n      <th>Estado civil</th>\n      <th>Líder comunitario</th>\n      <th>Formación STEM</th>\n      <th>Rol en IE</th>\n      <th>...</th>\n      <th>1.10 Conozco y puedo recomendar a mis estudiantes diferentes programas de formación relacionadas al pensamiento computacional y/o ciencias de la computación</th>\n      <th>1.11 Los estudiantes reciben asesoría vocacional sobre alternativas u oportunidades relacionadas a carreras STEM</th>\n      <th>1.12 Informo a mis estudiantes sobre oportunidades que existen para continuar los estudios en áreas relacionadas al pensamiento computacional y/o ciencias de la computación</th>\n      <th>Comentarios autodiagnóstico</th>\n      <th>Actividades que se promueven en esta institución educativa para apoyar la formación docente enfocadas en pensamiento computacional</th>\n      <th>¿La rotación de los docentes de tecnología e informática influye sobre la calidad y el aprendizaje del área de los estudiantes en los diferentes grados?</th>\n      <th>Código IE</th>\n      <th>Tipo de ID</th>\n      <th>Número de estudiantes matriculados</th>\n      <th>Fecha</th>\n    </tr>\n  </thead>\n  <tbody>\n    <tr>\n      <th>3</th>\n      <td>2022-04-18 08:06:15.218</td>\n      <td>Sí</td>\n      <td>93410609.0</td>\n      <td>43.0</td>\n      <td>Masculino</td>\n      <td>Sí</td>\n      <td>Casado/a - En unión libre</td>\n      <td>No</td>\n      <td>No STEM</td>\n      <td>Directivo/a docente</td>\n      <td>...</td>\n      <td>No</td>\n      <td>No</td>\n      <td>No</td>\n      <td>Hay ítems que no se hacen porque desconozco la...</td>\n      <td>Observación de aula</td>\n      <td>Casi siempre</td>\n      <td>206.0</td>\n      <td>Cédula de ciudadanía</td>\n      <td>NaN</td>\n      <td>18/04</td>\n    </tr>\n    <tr>\n      <th>4</th>\n      <td>2022-04-18 08:11:58.704</td>\n      <td>Sí</td>\n      <td>5933717.0</td>\n      <td>66.0</td>\n      <td>Masculino</td>\n      <td>Sí</td>\n      <td>Casado/a - En unión libre</td>\n      <td>Sí</td>\n      <td>No STEM</td>\n      <td>Rector/a</td>\n      <td>...</td>\n      <td>Sí</td>\n      <td>No</td>\n      <td>Sí</td>\n      <td>Es interesante abordar el yema</td>\n      <td>Observación de aula</td>\n      <td>Nunca</td>\n      <td>206.0</td>\n      <td>Cédula de ciudadanía</td>\n      <td>NaN</td>\n      <td>18/04</td>\n    </tr>\n    <tr>\n      <th>5</th>\n      <td>2022-04-18 09:43:31.179</td>\n      <td>Sí</td>\n      <td>60311721.0</td>\n      <td>56.0</td>\n      <td>Femenino</td>\n      <td>Sí</td>\n      <td>Soltero/a</td>\n      <td>Sí</td>\n      <td>STEM</td>\n      <td>Rector/a</td>\n      <td>...</td>\n      <td>Sí</td>\n      <td>Sí</td>\n      <td>Sí</td>\n      <td>Hay compromisos con la media tecnica y con ñro...</td>\n      <td>Observación de aula, Mentoría</td>\n      <td>A veces</td>\n      <td>235.0</td>\n      <td>Cédula de ciudadanía</td>\n      <td>NaN</td>\n      <td>18/04</td>\n    </tr>\n    <tr>\n      <th>6</th>\n      <td>2022-04-18 09:49:03.031</td>\n      <td>Sí</td>\n      <td>98525547.0</td>\n      <td>52.0</td>\n      <td>Masculino</td>\n      <td>Sí</td>\n      <td>Casado/a - En unión libre</td>\n      <td>No</td>\n      <td>No STEM</td>\n      <td>Coordinador/a de área</td>\n      <td>...</td>\n      <td>Sí</td>\n      <td>No</td>\n      <td>Sí</td>\n      <td>Es necesario cualificar el acompañamiento a lo...</td>\n      <td>Investigación-Acción</td>\n      <td>Casi siempre</td>\n      <td>235.0</td>\n      <td>Cédula de ciudadanía</td>\n      <td>NaN</td>\n      <td>18/04</td>\n    </tr>\n    <tr>\n      <th>7</th>\n      <td>2022-04-18 10:09:20.861</td>\n      <td>Sí</td>\n      <td>14244219.0</td>\n      <td>59.0</td>\n      <td>Masculino</td>\n      <td>Sí</td>\n      <td>Casado/a - En unión libre</td>\n      <td>No</td>\n      <td>No STEM</td>\n      <td>Directivo/a docente</td>\n      <td>...</td>\n      <td>No</td>\n      <td>Sí</td>\n      <td>No</td>\n      <td>Ninguno</td>\n      <td>Autoestudio</td>\n      <td>Casi nunca</td>\n      <td>32.0</td>\n      <td>Cédula de ciudadanía</td>\n      <td>2000</td>\n      <td>18/04</td>\n    </tr>\n    <tr>\n      <th>...</th>\n      <td>...</td>\n      <td>...</td>\n      <td>...</td>\n      <td>...</td>\n      <td>...</td>\n      <td>...</td>\n      <td>...</td>\n      <td>...</td>\n      <td>...</td>\n      <td>...</td>\n      <td>...</td>\n      <td>...</td>\n      <td>...</td>\n      <td>...</td>\n      <td>...</td>\n      <td>...</td>\n      <td>...</td>\n      <td>...</td>\n      <td>...</td>\n      <td>...</td>\n      <td>...</td>\n    </tr>\n    <tr>\n      <th>253</th>\n      <td>2022-05-02 10:52:51.880</td>\n      <td>Sí</td>\n      <td>31972681.0</td>\n      <td>54.0</td>\n      <td>Femenino</td>\n      <td>No</td>\n      <td>Soltero/a</td>\n      <td>No</td>\n      <td>STEM</td>\n      <td>Rector/a</td>\n      <td>...</td>\n      <td>Sí</td>\n      <td>Sí</td>\n      <td>Sí</td>\n      <td>NaN</td>\n      <td>Observación de aula, Mentoría, Autoestudio</td>\n      <td>A veces</td>\n      <td>5.0</td>\n      <td>Cédula de ciudadanía</td>\n      <td>36</td>\n      <td>02/05</td>\n    </tr>\n    <tr>\n      <th>254</th>\n      <td>2022-05-02 11:14:05.318</td>\n      <td>Sí</td>\n      <td>38941750.0</td>\n      <td>63.0</td>\n      <td>Femenino</td>\n      <td>Sí</td>\n      <td>Viudo/a</td>\n      <td>No</td>\n      <td>No STEM</td>\n      <td>Coordinador/a de área</td>\n      <td>...</td>\n      <td>Sí</td>\n      <td>Sí</td>\n      <td>No</td>\n      <td>Nuevamente afirmó en la básica primaria deberí...</td>\n      <td>Observación de aula</td>\n      <td>Nunca</td>\n      <td>15.0</td>\n      <td>Cédula de ciudadanía</td>\n      <td>539</td>\n      <td>02/05</td>\n    </tr>\n    <tr>\n      <th>255</th>\n      <td>2022-05-02 12:29:21.917</td>\n      <td>Sí</td>\n      <td>15899546.0</td>\n      <td>64.0</td>\n      <td>Masculino</td>\n      <td>Sí</td>\n      <td>Casado/a - En unión libre</td>\n      <td>Sí</td>\n      <td>No STEM</td>\n      <td>Rector/a</td>\n      <td>...</td>\n      <td>Sí</td>\n      <td>Sí</td>\n      <td>Sí</td>\n      <td>Soy consciente de que el pensamiento computaci...</td>\n      <td>Observación de aula, Autoestudio</td>\n      <td>Siempre</td>\n      <td>233.0</td>\n      <td>Cédula de ciudadanía</td>\n      <td>1500</td>\n      <td>02/05</td>\n    </tr>\n    <tr>\n      <th>256</th>\n      <td>2022-05-02 13:19:20.868</td>\n      <td>Sí</td>\n      <td>84071899.0</td>\n      <td>48.0</td>\n      <td>Masculino</td>\n      <td>Sí</td>\n      <td>Casado/a - En unión libre</td>\n      <td>Sí</td>\n      <td>STEM</td>\n      <td>Rector/a</td>\n      <td>...</td>\n      <td>Sí</td>\n      <td>Sí</td>\n      <td>Sí</td>\n      <td>NaN</td>\n      <td>Observación de aula</td>\n      <td>Casi siempre</td>\n      <td>94.0</td>\n      <td>Cédula de ciudadanía</td>\n      <td>2662</td>\n      <td>02/05</td>\n    </tr>\n    <tr>\n      <th>257</th>\n      <td>2022-05-02 17:41:37.831</td>\n      <td>Sí</td>\n      <td>31913255.0</td>\n      <td>57.0</td>\n      <td>Femenino</td>\n      <td>No</td>\n      <td>Casado/a - En unión libre</td>\n      <td>No</td>\n      <td>No STEM</td>\n      <td>Rector/a</td>\n      <td>...</td>\n      <td>Sí</td>\n      <td>Sí</td>\n      <td>Sí</td>\n      <td>NaN</td>\n      <td>Autoestudio</td>\n      <td>A veces</td>\n      <td>75.0</td>\n      <td>Cédula de ciudadanía</td>\n      <td>1515</td>\n      <td>02/05</td>\n    </tr>\n  </tbody>\n</table>\n<p>252 rows × 40 columns</p>\n</div>"
     },
     "execution_count": 115,
     "metadata": {},
     "output_type": "execute_result"
    }
   ],
   "source": [
    "dir = dir.drop(columns=dir.filter(regex=r'eliminar').columns)\n",
    "dir = dir.dropna(subset='Código IE')\n",
    "dir"
   ],
   "metadata": {
    "collapsed": false,
    "pycharm": {
     "name": "#%%\n"
    }
   }
  },
  {
   "cell_type": "code",
   "execution_count": 124,
   "outputs": [],
   "source": [
    "cols_dir_d4 = ['Código IE']"
   ],
   "metadata": {
    "collapsed": false,
    "pycharm": {
     "name": "#%%\n"
    }
   }
  },
  {
   "cell_type": "code",
   "execution_count": 125,
   "outputs": [],
   "source": [
    "dir['Actividades PC'] = 1*(dir['Actividades que se promueven en esta institución educativa para apoyar la formación docente enfocadas en pensamiento computacional'].str.contains(\"Ninguna de las anteriores\"))\n",
    "dir['Actividades PC'] = dir['Actividades PC'].replace({1:'2A', 0:\"4\"})\n",
    "dir['Actividades PC']\n",
    "\n",
    "cols_dir_d4.append('Actividades PC')"
   ],
   "metadata": {
    "collapsed": false,
    "pycharm": {
     "name": "#%%\n"
    }
   }
  },
  {
   "cell_type": "code",
   "execution_count": 126,
   "outputs": [
    {
     "data": {
      "text/plain": "['Casi siempre', 'Nunca', 'A veces', 'Casi nunca', 'Siempre']"
     },
     "execution_count": 126,
     "metadata": {},
     "output_type": "execute_result"
    }
   ],
   "source": [
    "list(dir['¿La rotación de los docentes de tecnología e informática influye sobre la calidad y el aprendizaje del área de los estudiantes en los diferentes grados?'].unique())"
   ],
   "metadata": {
    "collapsed": false,
    "pycharm": {
     "name": "#%%\n"
    }
   }
  },
  {
   "cell_type": "code",
   "execution_count": 127,
   "outputs": [
    {
     "data": {
      "text/plain": "3      Casi siempre\n4             Nunca\n5           A veces\n6      Casi siempre\n7        Casi nunca\n           ...     \n253         A veces\n254           Nunca\n255         Siempre\n256    Casi siempre\n257         A veces\nName: ¿La rotación de los docentes de tecnología e informática influye sobre la calidad y el aprendizaje del área de los estudiantes en los diferentes grados?, Length: 252, dtype: object"
     },
     "execution_count": 127,
     "metadata": {},
     "output_type": "execute_result"
    }
   ],
   "source": [
    "dir['¿La rotación de los docentes de tecnología e informática influye sobre la calidad y el aprendizaje del área de los estudiantes en los diferentes grados?']"
   ],
   "metadata": {
    "collapsed": false,
    "pycharm": {
     "name": "#%%\n"
    }
   }
  },
  {
   "cell_type": "code",
   "execution_count": 128,
   "outputs": [],
   "source": [
    "dir['Rotación influye'] = dir['¿La rotación de los docentes de tecnología e informática influye sobre la calidad y el aprendizaje del área de los estudiantes en los diferentes grados?'].isin(['Nunca', 'Casi nunca']).replace({True:\"3\", False: \"2B\"})\n",
    "dir['Rotación influye']\n",
    "\n",
    "cols_dir_d4.append('Rotación influye')"
   ],
   "metadata": {
    "collapsed": false,
    "pycharm": {
     "name": "#%%\n"
    }
   }
  },
  {
   "cell_type": "code",
   "execution_count": 129,
   "outputs": [],
   "source": [
    "dict_d4 = {\n",
    "                  '1.3 Animo a los maestros de otras disciplinas a asistir a oportunidades de desarrollo profesional enfocadas en pensamiento computacional.':\n",
    "                      { \"No\":\"2B\", \"No aplica\": \"2B\", \"Sí\": \"3\"},\n",
    "}\n",
    "cols_dir_d4.append(list(dict_d4.keys())[0])"
   ],
   "metadata": {
    "collapsed": false,
    "pycharm": {
     "name": "#%%\n"
    }
   }
  },
  {
   "cell_type": "code",
   "execution_count": 130,
   "outputs": [
    {
     "data": {
      "text/plain": "['Código IE',\n 'Actividades PC',\n 'Rotación influye',\n '1.3 Animo a los maestros de otras disciplinas a asistir a oportunidades de desarrollo profesional enfocadas en pensamiento computacional.']"
     },
     "execution_count": 130,
     "metadata": {},
     "output_type": "execute_result"
    }
   ],
   "source": [
    "cols_dir_d4"
   ],
   "metadata": {
    "collapsed": false,
    "pycharm": {
     "name": "#%%\n"
    }
   }
  },
  {
   "cell_type": "code",
   "execution_count": 135,
   "outputs": [
    {
     "data": {
      "text/plain": "     Código IE Actividades PC Rotación influye  \\\n0          0.0              4               2B   \n1          1.0              4               2B   \n2          2.0              4               2B   \n3          3.0              4                3   \n4          4.0              4                3   \n..         ...            ...              ...   \n119      241.0              4                3   \n120      244.0              4               2B   \n121      247.0              4               2B   \n122      248.0              4               2B   \n123      252.0              4               2B   \n\n    1.3 Animo a los maestros de otras disciplinas a asistir a oportunidades de desarrollo profesional enfocadas en pensamiento computacional.  \n0                                                    3                                                                                         \n1                                                    3                                                                                         \n2                                                    3                                                                                         \n3                                                    3                                                                                         \n4                                                   2B                                                                                         \n..                                                 ...                                                                                         \n119                                                 2B                                                                                         \n120                                                  3                                                                                         \n121                                                  3                                                                                         \n122                                                  3                                                                                         \n123                                                  3                                                                                         \n\n[124 rows x 4 columns]",
      "text/html": "<div>\n<style scoped>\n    .dataframe tbody tr th:only-of-type {\n        vertical-align: middle;\n    }\n\n    .dataframe tbody tr th {\n        vertical-align: top;\n    }\n\n    .dataframe thead th {\n        text-align: right;\n    }\n</style>\n<table border=\"1\" class=\"dataframe\">\n  <thead>\n    <tr style=\"text-align: right;\">\n      <th></th>\n      <th>Código IE</th>\n      <th>Actividades PC</th>\n      <th>Rotación influye</th>\n      <th>1.3 Animo a los maestros de otras disciplinas a asistir a oportunidades de desarrollo profesional enfocadas en pensamiento computacional.</th>\n    </tr>\n  </thead>\n  <tbody>\n    <tr>\n      <th>0</th>\n      <td>0.0</td>\n      <td>4</td>\n      <td>2B</td>\n      <td>3</td>\n    </tr>\n    <tr>\n      <th>1</th>\n      <td>1.0</td>\n      <td>4</td>\n      <td>2B</td>\n      <td>3</td>\n    </tr>\n    <tr>\n      <th>2</th>\n      <td>2.0</td>\n      <td>4</td>\n      <td>2B</td>\n      <td>3</td>\n    </tr>\n    <tr>\n      <th>3</th>\n      <td>3.0</td>\n      <td>4</td>\n      <td>3</td>\n      <td>3</td>\n    </tr>\n    <tr>\n      <th>4</th>\n      <td>4.0</td>\n      <td>4</td>\n      <td>3</td>\n      <td>2B</td>\n    </tr>\n    <tr>\n      <th>...</th>\n      <td>...</td>\n      <td>...</td>\n      <td>...</td>\n      <td>...</td>\n    </tr>\n    <tr>\n      <th>119</th>\n      <td>241.0</td>\n      <td>4</td>\n      <td>3</td>\n      <td>2B</td>\n    </tr>\n    <tr>\n      <th>120</th>\n      <td>244.0</td>\n      <td>4</td>\n      <td>2B</td>\n      <td>3</td>\n    </tr>\n    <tr>\n      <th>121</th>\n      <td>247.0</td>\n      <td>4</td>\n      <td>2B</td>\n      <td>3</td>\n    </tr>\n    <tr>\n      <th>122</th>\n      <td>248.0</td>\n      <td>4</td>\n      <td>2B</td>\n      <td>3</td>\n    </tr>\n    <tr>\n      <th>123</th>\n      <td>252.0</td>\n      <td>4</td>\n      <td>2B</td>\n      <td>3</td>\n    </tr>\n  </tbody>\n</table>\n<p>124 rows × 4 columns</p>\n</div>"
     },
     "execution_count": 135,
     "metadata": {},
     "output_type": "execute_result"
    }
   ],
   "source": [
    "dir = dir.replace(dict_d4)\n",
    "dir_d4 = dir[cols_dir_d4]\n",
    "dir_d4 = dir_d4.groupby('Código IE').max().reset_index()\n",
    "dir_d4\n"
   ],
   "metadata": {
    "collapsed": false,
    "pycharm": {
     "name": "#%%\n"
    }
   }
  },
  {
   "cell_type": "code",
   "execution_count": 136,
   "outputs": [
    {
     "data": {
      "text/plain": "    Código IE Nivel docentes  \\\n0           2              4   \n1           5              4   \n2           7             1B   \n3          27              4   \n4          36              4   \n..        ...            ...   \n57        229              4   \n58        231              4   \n59        235              4   \n60        237              4   \n61        252              4   \n\n   4.1 La IE tiene en cuenta el plan de estudios para determinar las actividades de desarrollo profesional  \\\n0                                                   4                                                        \n1                                                   4                                                        \n2                                                   4                                                        \n3                                                   4                                                        \n4                                                   4                                                        \n..                                                ...                                                        \n57                                                  4                                                        \n58                                                  4                                                        \n59                                                  4                                                        \n60                                                 2A                                                        \n61                                                  4                                                        \n\n   4.2 La IE identifica las necesidades de los docentes para determinar actividades de desarrollo profesional  \\\n0                                                   4                                                           \n1                                                   4                                                           \n2                                                   4                                                           \n3                                                   4                                                           \n4                                                   4                                                           \n..                                                ...                                                           \n57                                                 2B                                                           \n58                                                 2B                                                           \n59                                                  4                                                           \n60                                                 2B                                                           \n61                                                  4                                                           \n\n   4.3 La IE cuenta con espacios de discusión y planeación para actividades de desarrollo profesional  \\\n0                                                   4                                                   \n1                                                   4                                                   \n2                                                   4                                                   \n3                                                   4                                                   \n4                                                   4                                                   \n..                                                ...                                                   \n57                                                 2A                                                   \n58                                                 2A                                                   \n59                                                  4                                                   \n60                                                 2A                                                   \n61                                                  4                                                   \n\n   4.5 La IE lleva un registro formal de las necesidades y participación de los docentes en actividades de desarrollo profesional  \\\n0                                                  2A                                                                               \n1                                                   4                                                                               \n2                                                   4                                                                               \n3                                                  2A                                                                               \n4                                                  2A                                                                               \n..                                                ...                                                                               \n57                                                 2A                                                                               \n58                                                 2A                                                                               \n59                                                 2A                                                                               \n60                                                 2A                                                                               \n61                                                  4                                                                               \n\n   Actividades PC Rotación influye  \\\n0               4               2B   \n1               4               2B   \n2               4                3   \n3               4               2B   \n4               4                3   \n..            ...              ...   \n57              4               2B   \n58              4               2B   \n59              4               2B   \n60              4               2B   \n61              4               2B   \n\n   1.3 Animo a los maestros de otras disciplinas a asistir a oportunidades de desarrollo profesional enfocadas en pensamiento computacional.  \n0                                                   3                                                                                         \n1                                                   3                                                                                         \n2                                                   3                                                                                         \n3                                                   3                                                                                         \n4                                                   3                                                                                         \n..                                                ...                                                                                         \n57                                                  3                                                                                         \n58                                                  3                                                                                         \n59                                                  3                                                                                         \n60                                                 2B                                                                                         \n61                                                  3                                                                                         \n\n[62 rows x 9 columns]",
      "text/html": "<div>\n<style scoped>\n    .dataframe tbody tr th:only-of-type {\n        vertical-align: middle;\n    }\n\n    .dataframe tbody tr th {\n        vertical-align: top;\n    }\n\n    .dataframe thead th {\n        text-align: right;\n    }\n</style>\n<table border=\"1\" class=\"dataframe\">\n  <thead>\n    <tr style=\"text-align: right;\">\n      <th></th>\n      <th>Código IE</th>\n      <th>Nivel docentes</th>\n      <th>4.1 La IE tiene en cuenta el plan de estudios para determinar las actividades de desarrollo profesional</th>\n      <th>4.2 La IE identifica las necesidades de los docentes para determinar actividades de desarrollo profesional</th>\n      <th>4.3 La IE cuenta con espacios de discusión y planeación para actividades de desarrollo profesional</th>\n      <th>4.5 La IE lleva un registro formal de las necesidades y participación de los docentes en actividades de desarrollo profesional</th>\n      <th>Actividades PC</th>\n      <th>Rotación influye</th>\n      <th>1.3 Animo a los maestros de otras disciplinas a asistir a oportunidades de desarrollo profesional enfocadas en pensamiento computacional.</th>\n    </tr>\n  </thead>\n  <tbody>\n    <tr>\n      <th>0</th>\n      <td>2</td>\n      <td>4</td>\n      <td>4</td>\n      <td>4</td>\n      <td>4</td>\n      <td>2A</td>\n      <td>4</td>\n      <td>2B</td>\n      <td>3</td>\n    </tr>\n    <tr>\n      <th>1</th>\n      <td>5</td>\n      <td>4</td>\n      <td>4</td>\n      <td>4</td>\n      <td>4</td>\n      <td>4</td>\n      <td>4</td>\n      <td>2B</td>\n      <td>3</td>\n    </tr>\n    <tr>\n      <th>2</th>\n      <td>7</td>\n      <td>1B</td>\n      <td>4</td>\n      <td>4</td>\n      <td>4</td>\n      <td>4</td>\n      <td>4</td>\n      <td>3</td>\n      <td>3</td>\n    </tr>\n    <tr>\n      <th>3</th>\n      <td>27</td>\n      <td>4</td>\n      <td>4</td>\n      <td>4</td>\n      <td>4</td>\n      <td>2A</td>\n      <td>4</td>\n      <td>2B</td>\n      <td>3</td>\n    </tr>\n    <tr>\n      <th>4</th>\n      <td>36</td>\n      <td>4</td>\n      <td>4</td>\n      <td>4</td>\n      <td>4</td>\n      <td>2A</td>\n      <td>4</td>\n      <td>3</td>\n      <td>3</td>\n    </tr>\n    <tr>\n      <th>...</th>\n      <td>...</td>\n      <td>...</td>\n      <td>...</td>\n      <td>...</td>\n      <td>...</td>\n      <td>...</td>\n      <td>...</td>\n      <td>...</td>\n      <td>...</td>\n    </tr>\n    <tr>\n      <th>57</th>\n      <td>229</td>\n      <td>4</td>\n      <td>4</td>\n      <td>2B</td>\n      <td>2A</td>\n      <td>2A</td>\n      <td>4</td>\n      <td>2B</td>\n      <td>3</td>\n    </tr>\n    <tr>\n      <th>58</th>\n      <td>231</td>\n      <td>4</td>\n      <td>4</td>\n      <td>2B</td>\n      <td>2A</td>\n      <td>2A</td>\n      <td>4</td>\n      <td>2B</td>\n      <td>3</td>\n    </tr>\n    <tr>\n      <th>59</th>\n      <td>235</td>\n      <td>4</td>\n      <td>4</td>\n      <td>4</td>\n      <td>4</td>\n      <td>2A</td>\n      <td>4</td>\n      <td>2B</td>\n      <td>3</td>\n    </tr>\n    <tr>\n      <th>60</th>\n      <td>237</td>\n      <td>4</td>\n      <td>2A</td>\n      <td>2B</td>\n      <td>2A</td>\n      <td>2A</td>\n      <td>4</td>\n      <td>2B</td>\n      <td>2B</td>\n    </tr>\n    <tr>\n      <th>61</th>\n      <td>252</td>\n      <td>4</td>\n      <td>4</td>\n      <td>4</td>\n      <td>4</td>\n      <td>4</td>\n      <td>4</td>\n      <td>2B</td>\n      <td>3</td>\n    </tr>\n  </tbody>\n</table>\n<p>62 rows × 9 columns</p>\n</div>"
     },
     "execution_count": 136,
     "metadata": {},
     "output_type": "execute_result"
    }
   ],
   "source": [
    "df_institucion = pd.merge(df_institucion, dir_d4, on='Código IE')\n",
    "df_institucion"
   ],
   "metadata": {
    "collapsed": false,
    "pycharm": {
     "name": "#%%\n"
    }
   }
  },
  {
   "cell_type": "code",
   "execution_count": 138,
   "outputs": [],
   "source": [
    "df_institucion['Dimensión 4'] = df_institucion.iloc[:,1:].min(axis=1)"
   ],
   "metadata": {
    "collapsed": false,
    "pycharm": {
     "name": "#%%\n"
    }
   }
  },
  {
   "cell_type": "code",
   "execution_count": 139,
   "outputs": [
    {
     "data": {
      "text/plain": "     Código IE Dimensión 7\n0            1          1B\n1            2          1B\n2            3          1B\n3            4          1B\n4            6          1B\n..         ...         ...\n99         241          1B\n100        247          1A\n101        248          1B\n102        252          1B\n103        297          2A\n\n[104 rows x 2 columns]",
      "text/html": "<div>\n<style scoped>\n    .dataframe tbody tr th:only-of-type {\n        vertical-align: middle;\n    }\n\n    .dataframe tbody tr th {\n        vertical-align: top;\n    }\n\n    .dataframe thead th {\n        text-align: right;\n    }\n</style>\n<table border=\"1\" class=\"dataframe\">\n  <thead>\n    <tr style=\"text-align: right;\">\n      <th></th>\n      <th>Código IE</th>\n      <th>Dimensión 7</th>\n    </tr>\n  </thead>\n  <tbody>\n    <tr>\n      <th>0</th>\n      <td>1</td>\n      <td>1B</td>\n    </tr>\n    <tr>\n      <th>1</th>\n      <td>2</td>\n      <td>1B</td>\n    </tr>\n    <tr>\n      <th>2</th>\n      <td>3</td>\n      <td>1B</td>\n    </tr>\n    <tr>\n      <th>3</th>\n      <td>4</td>\n      <td>1B</td>\n    </tr>\n    <tr>\n      <th>4</th>\n      <td>6</td>\n      <td>1B</td>\n    </tr>\n    <tr>\n      <th>...</th>\n      <td>...</td>\n      <td>...</td>\n    </tr>\n    <tr>\n      <th>99</th>\n      <td>241</td>\n      <td>1B</td>\n    </tr>\n    <tr>\n      <th>100</th>\n      <td>247</td>\n      <td>1A</td>\n    </tr>\n    <tr>\n      <th>101</th>\n      <td>248</td>\n      <td>1B</td>\n    </tr>\n    <tr>\n      <th>102</th>\n      <td>252</td>\n      <td>1B</td>\n    </tr>\n    <tr>\n      <th>103</th>\n      <td>297</td>\n      <td>2A</td>\n    </tr>\n  </tbody>\n</table>\n<p>104 rows × 2 columns</p>\n</div>"
     },
     "execution_count": 139,
     "metadata": {},
     "output_type": "execute_result"
    }
   ],
   "source": [
    "D7 = pd.read_excel('Dimensión 7.xlsx')\n",
    "D7"
   ],
   "metadata": {
    "collapsed": false,
    "pycharm": {
     "name": "#%%\n"
    }
   }
  },
  {
   "cell_type": "code",
   "execution_count": 157,
   "outputs": [],
   "source": [
    "marco = pd.merge(D7, df_institucion.loc[:, ['Código IE', 'Dimensión 4']])\n",
    "marco.to_excel('Marco acumulativo.xlsx')"
   ],
   "metadata": {
    "collapsed": false,
    "pycharm": {
     "name": "#%%\n"
    }
   }
  }
 ],
 "metadata": {
  "kernelspec": {
   "display_name": "Python 3",
   "language": "python",
   "name": "python3"
  },
  "language_info": {
   "codemirror_mode": {
    "name": "ipython",
    "version": 2
   },
   "file_extension": ".py",
   "mimetype": "text/x-python",
   "name": "python",
   "nbconvert_exporter": "python",
   "pygments_lexer": "ipython2",
   "version": "2.7.6"
  }
 },
 "nbformat": 4,
 "nbformat_minor": 0
}