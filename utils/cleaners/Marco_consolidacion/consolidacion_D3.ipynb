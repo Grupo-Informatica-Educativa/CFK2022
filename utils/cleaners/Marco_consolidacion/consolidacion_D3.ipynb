{
 "cells": [
  {
   "cell_type": "code",
   "execution_count": 56,
   "outputs": [],
   "source": [
    "import pandas as pd\n",
    "import pathlib\n"
   ],
   "metadata": {
    "collapsed": false,
    "pycharm": {
     "name": "#%%\n"
    }
   }
  },
  {
   "cell_type": "code",
   "execution_count": 57,
   "outputs": [],
   "source": [
    "from pandas.api.types import CategoricalDtype\n",
    "cat_type = CategoricalDtype(categories=['0', '1A', '1B', '2A', '2B', '3','4', '5'],\n",
    "               ordered=True)"
   ],
   "metadata": {
    "collapsed": false,
    "pycharm": {
     "name": "#%%\n"
    }
   }
  },
  {
   "cell_type": "markdown",
   "source": [
    "## Enseñanza: Dimensión 3"
   ],
   "metadata": {
    "collapsed": false,
    "pycharm": {
     "name": "#%% md\n"
    }
   }
  },
  {
   "cell_type": "code",
   "source": [
    "#### Directivos\n",
    "ruta_git = pathlib.Path().cwd().parent.parent.parent"
   ],
   "metadata": {
    "collapsed": false,
    "pycharm": {
     "name": "#%%\n"
    }
   },
   "execution_count": 58,
   "outputs": []
  },
  {
   "cell_type": "markdown",
   "source": [
    "#### Revisión plan de estudios"
   ],
   "metadata": {
    "collapsed": false,
    "pycharm": {
     "name": "#%% md\n"
    }
   }
  },
  {
   "cell_type": "code",
   "execution_count": 59,
   "outputs": [
    {
     "name": "stdout",
     "output_type": "stream",
     "text": [
      "(256, 22)\n"
     ]
    },
    {
     "data": {
      "text/plain": "Index(['N registro', 'Instrumento', 'Fecha', 'Código IE', 'ID',\n       '1.1 En el plan de estudios se especifica como responsables de su elaboración a los docentes encargados del área',\n       '1.2 El plan de estudio incluye actividades básicas de ofimática y/o alfabetización digital, y de programación y/o desarrollo del pensamiento computacional.',\n       '1.3 En el plan de estudio se da mayor relevancia al pensamiento computacional',\n       '1.4 El plan de estudio del área promueve la transición desde la alfabetización digital a las ciencias de la computación.',\n       '1.5 El plan de estudios del área le permite al docente destacar la importancia del pensamiento computacional y su influencia en la formación de los estudiantes',\n       '1.6 El plan de estudios del área es coherente con la transición de un grado a otro y permite al estudiante desarrollar conocimientos, habilidades y comprensión del pensamiento computacional',\n       '1.7 El plan de estudios del área incluye trabajo práctico para el desarrollo del pensamiento computacional.',\n       '1.8 El plan de estudio del área plantea espacios en los que personas que trabajan en ocupaciones relacionadas con áreas STEM socialicen sus experiencias con los/las estudiantes',\n       '1.9 El plan de estudio incluye actividades transversales con áreas No-STEM, para el desarrollo del pensamiento computacional',\n       '1.10 El plan de estudio considera aspectos para la inclusión de estudiantes con trastornos de aprendizaje y/o discapacidad',\n       '1.11 Entre los responsables del plan de estudios del área y los recursos educativos se incluye personal experto en la atención a estudiantes con necesidades educativas especiales',\n       '1.12 El plan de estudios del área hace explícita la pedagogía a utilizar y las adaptaciones para estudiantes con trastornos del aprendizaje y/o con discapacidad',\n       '1.13 El plan de estudio del área cuenta con una estructura clara que permite disminuir las diferencias en el desempeño de niños y niñas',\n       'Comentarios P1', 'Información otro plan de estudios',\n       'Misión de la institución educativa',\n       'Visión de la institución educativa'],\n      dtype='object')"
     },
     "execution_count": 59,
     "metadata": {},
     "output_type": "execute_result"
    }
   ],
   "source": [
    "plan1 = pd.read_excel(ruta_git/'data/descargables/PlanCFK.xlsx')\n",
    "print(plan1.shape)\n",
    "plan1.columns"
   ],
   "metadata": {
    "collapsed": false,
    "pycharm": {
     "name": "#%%\n"
    }
   }
  },
  {
   "cell_type": "code",
   "execution_count": 60,
   "outputs": [
    {
     "data": {
      "text/plain": "(256, 22)"
     },
     "execution_count": 60,
     "metadata": {},
     "output_type": "execute_result"
    }
   ],
   "source": [
    "plan1.shape"
   ],
   "metadata": {
    "collapsed": false,
    "pycharm": {
     "name": "#%%\n"
    }
   }
  },
  {
   "cell_type": "code",
   "execution_count": 61,
   "outputs": [
    {
     "data": {
      "text/plain": "Index(['N registro', 'Instrumento', 'Fecha', 'Código IE', 'ID',\n       '1.1 En el plan de estudios se especifica como responsables de su elaboración a los docentes encargados del área',\n       '1.2 El plan de estudio incluye actividades básicas de ofimática y/o alfabetización digital, y de programación y/o desarrollo del pensamiento computacional.',\n       '1.3 En el plan de estudio se da mayor relevancia al pensamiento computacional',\n       '1.4 El plan de estudio del área promueve la transición desde la alfabetización digital a las ciencias de la computación.',\n       '1.5 El plan de estudios del área le permite al docente destacar la importancia del pensamiento computacional y su influencia en la formación de los estudiantes',\n       '1.6 El plan de estudios del área es coherente con la transición de un grado a otro y permite al estudiante desarrollar conocimientos, habilidades y comprensión del pensamiento computacional',\n       '1.7 El plan de estudios del área incluye trabajo práctico para el desarrollo del pensamiento computacional.',\n       '1.8 El plan de estudio del área plantea espacios en los que personas que trabajan en ocupaciones relacionadas con áreas STEM socialicen sus experiencias con los/las estudiantes',\n       '1.9 El plan de estudio incluye actividades transversales con áreas No-STEM, para el desarrollo del pensamiento computacional',\n       '1.10 El plan de estudio considera aspectos para la inclusión de estudiantes con trastornos de aprendizaje y/o discapacidad',\n       '1.11 Entre los responsables del plan de estudios del área y los recursos educativos se incluye personal experto en la atención a estudiantes con necesidades educativas especiales',\n       '1.12 El plan de estudios del área hace explícita la pedagogía a utilizar y las adaptaciones para estudiantes con trastornos del aprendizaje y/o con discapacidad',\n       '1.13 El plan de estudio del área cuenta con una estructura clara que permite disminuir las diferencias en el desempeño de niños y niñas',\n       'Comentarios P1', 'Información otro plan de estudios',\n       'Misión de la institución educativa',\n       'Visión de la institución educativa'],\n      dtype='object')"
     },
     "execution_count": 61,
     "metadata": {},
     "output_type": "execute_result"
    }
   ],
   "source": [
    "plan1.columns"
   ],
   "metadata": {
    "collapsed": false,
    "pycharm": {
     "name": "#%%\n"
    }
   }
  },
  {
   "cell_type": "code",
   "execution_count": 62,
   "outputs": [
    {
     "data": {
      "text/plain": "0      Sí\n1      Sí\n2      Sí\n3      Sí\n4      Sí\n       ..\n251    Sí\n252    No\n253    No\n254    No\n255    No\nName: 1.2 El plan de estudio incluye actividades básicas de ofimática y/o alfabetización digital, y de programación y/o desarrollo del pensamiento computacional., Length: 256, dtype: object"
     },
     "execution_count": 62,
     "metadata": {},
     "output_type": "execute_result"
    }
   ],
   "source": [
    "plan1['1.2 El plan de estudio incluye actividades básicas de ofimática y/o alfabetización digital, y de programación y/o desarrollo del pensamiento computacional.']"
   ],
   "metadata": {
    "collapsed": false,
    "pycharm": {
     "name": "#%%\n"
    }
   }
  },
  {
   "cell_type": "code",
   "execution_count": 63,
   "outputs": [],
   "source": [
    "col_index = ['Código IE']"
   ],
   "metadata": {
    "collapsed": false,
    "pycharm": {
     "name": "#%%\n"
    }
   }
  },
  {
   "cell_type": "code",
   "execution_count": 64,
   "outputs": [],
   "source": [
    "cols_plan1_d3 = {\n",
    "    '1.6 El plan de estudios del área es coherente con la transición de un grado a otro y permite al estudiante desarrollar conocimientos, habilidades y comprensión del pensamiento computacional': {\n",
    "        \"Sí\":\"5\",\"No\": \"2A\"   },\n",
    "    '1.2 El plan de estudio incluye actividades básicas de ofimática y/o alfabetización digital, y de programación y/o desarrollo del pensamiento computacional.': {\n",
    "        \"Sí\":\"5\",\"No\": \"1A\"   }}"
   ],
   "metadata": {
    "collapsed": false,
    "pycharm": {
     "name": "#%%\n"
    }
   }
  },
  {
   "cell_type": "code",
   "execution_count": 65,
   "outputs": [
    {
     "data": {
      "text/plain": "          1.6 El plan de estudios del área es coherente con la transición de un grado a otro y permite al estudiante desarrollar conocimientos, habilidades y comprensión del pensamiento computacional  \\\nCódigo IE                                                                                                                                                                                                 \n1                                                         2A                                                                                                                                              \n2                                                         2A                                                                                                                                              \n3                                                         2A                                                                                                                                              \n4                                                         2A                                                                                                                                              \n5                                                         2A                                                                                                                                              \n...                                                      ...                                                                                                                                              \n248                                                        5                                                                                                                                              \n249                                                        5                                                                                                                                              \n250                                                        5                                                                                                                                              \n251                                                       2A                                                                                                                                              \n252                                                        5                                                                                                                                              \n\n          1.2 El plan de estudio incluye actividades básicas de ofimática y/o alfabetización digital, y de programación y/o desarrollo del pensamiento computacional.  \\\nCódigo IE                                                                                                                                                               \n1                                                         1A                                                                                                            \n2                                                          5                                                                                                            \n3                                                          5                                                                                                            \n4                                                          5                                                                                                            \n5                                                          5                                                                                                            \n...                                                      ...                                                                                                            \n248                                                        5                                                                                                            \n249                                                        5                                                                                                            \n250                                                        5                                                                                                            \n251                                                       1A                                                                                                            \n252                                                        5                                                                                                            \n\n          Nivel Revision Plan  \nCódigo IE                      \n1                          1A  \n2                          2A  \n3                          2A  \n4                          2A  \n5                          2A  \n...                       ...  \n248                         5  \n249                         5  \n250                         5  \n251                        1A  \n252                         5  \n\n[246 rows x 3 columns]",
      "text/html": "<div>\n<style scoped>\n    .dataframe tbody tr th:only-of-type {\n        vertical-align: middle;\n    }\n\n    .dataframe tbody tr th {\n        vertical-align: top;\n    }\n\n    .dataframe thead th {\n        text-align: right;\n    }\n</style>\n<table border=\"1\" class=\"dataframe\">\n  <thead>\n    <tr style=\"text-align: right;\">\n      <th></th>\n      <th>1.6 El plan de estudios del área es coherente con la transición de un grado a otro y permite al estudiante desarrollar conocimientos, habilidades y comprensión del pensamiento computacional</th>\n      <th>1.2 El plan de estudio incluye actividades básicas de ofimática y/o alfabetización digital, y de programación y/o desarrollo del pensamiento computacional.</th>\n      <th>Nivel Revision Plan</th>\n    </tr>\n    <tr>\n      <th>Código IE</th>\n      <th></th>\n      <th></th>\n      <th></th>\n    </tr>\n  </thead>\n  <tbody>\n    <tr>\n      <th>1</th>\n      <td>2A</td>\n      <td>1A</td>\n      <td>1A</td>\n    </tr>\n    <tr>\n      <th>2</th>\n      <td>2A</td>\n      <td>5</td>\n      <td>2A</td>\n    </tr>\n    <tr>\n      <th>3</th>\n      <td>2A</td>\n      <td>5</td>\n      <td>2A</td>\n    </tr>\n    <tr>\n      <th>4</th>\n      <td>2A</td>\n      <td>5</td>\n      <td>2A</td>\n    </tr>\n    <tr>\n      <th>5</th>\n      <td>2A</td>\n      <td>5</td>\n      <td>2A</td>\n    </tr>\n    <tr>\n      <th>...</th>\n      <td>...</td>\n      <td>...</td>\n      <td>...</td>\n    </tr>\n    <tr>\n      <th>248</th>\n      <td>5</td>\n      <td>5</td>\n      <td>5</td>\n    </tr>\n    <tr>\n      <th>249</th>\n      <td>5</td>\n      <td>5</td>\n      <td>5</td>\n    </tr>\n    <tr>\n      <th>250</th>\n      <td>5</td>\n      <td>5</td>\n      <td>5</td>\n    </tr>\n    <tr>\n      <th>251</th>\n      <td>2A</td>\n      <td>1A</td>\n      <td>1A</td>\n    </tr>\n    <tr>\n      <th>252</th>\n      <td>5</td>\n      <td>5</td>\n      <td>5</td>\n    </tr>\n  </tbody>\n</table>\n<p>246 rows × 3 columns</p>\n</div>"
     },
     "execution_count": 65,
     "metadata": {},
     "output_type": "execute_result"
    }
   ],
   "source": [
    "plan1_d3 = plan1[['Código IE']+list(cols_plan1_d3.keys())]\n",
    "plan1_d3 = plan1_d3.replace(cols_plan1_d3)\n",
    "plan1_d3 = plan1_d3.groupby('Código IE').max().reset_index()\n",
    "plan1_d3['Nivel Revision Plan'] = plan1_d3.iloc[:,1:].min(axis=1)\n",
    "plan1_d3 = plan1_d3.set_index('Código IE')\n",
    "plan1_d3"
   ],
   "metadata": {
    "collapsed": false,
    "pycharm": {
     "name": "#%%\n"
    }
   }
  },
  {
   "cell_type": "markdown",
   "source": [
    "#### Líder del área"
   ],
   "metadata": {
    "collapsed": false,
    "pycharm": {
     "name": "#%% md\n"
    }
   }
  },
  {
   "cell_type": "code",
   "execution_count": 66,
   "outputs": [
    {
     "name": "stdout",
     "output_type": "stream",
     "text": [
      "(244, 52)\n"
     ]
    },
    {
     "data": {
      "text/plain": "   N registro  Fecha       Instrumento  ID  Código IE  \\\n5           5  18/04  Encuesta Líderes   5         33   \n6           6  18/04  Encuesta Líderes   6          4   \n7           7  19/04  Encuesta Líderes   7        129   \n8           8  19/04  Encuesta Líderes   8          7   \n9           9  19/04  Encuesta Líderes   9        231   \n\n  1.1 Los docentes encargados del área son los responsables de definir lo que se enseña  \\\n5                                                 Sí                                      \n6                                                 No                                      \n7                                                 Sí                                      \n8                                                 Sí                                      \n9                                                 Sí                                      \n\n  1.2 El plan de estudios del área cuenta con mejoras realizadas por los docentes de la IE gracias a espacios colaborativos  \\\n5                                                 Sí                                                                          \n6                                                 No                                                                          \n7                                                 Sí                                                                          \n8                                                 Sí                                                                          \n9                                                 Sí                                                                          \n\n  1.3 El plan de estudio incluye actividades básicas de ofimática y/o alfabetización digital, programación y/o desarrollo del pensamiento computacional.  \\\n5                                                 Sí                                                                                                       \n6                                                 Sí                                                                                                       \n7                                                 Sí                                                                                                       \n8                                                 Sí                                                                                                       \n9                                                 Sí                                                                                                       \n\n  1.4 En el plan de estudio se da mayor relevancia al pensamiento computacional  \\\n5                                                 Sí                              \n6                                                 No                              \n7                                                 No                              \n8                                                 No                              \n9                                                 No                              \n\n  1.5 El plan de estudio del área promueve la transición desde la alfabetización digital a las ciencias de la computación  \\\n5                                                 Sí                                                                        \n6                                                 No                                                                        \n7                                                 Sí                                                                        \n8                                                 Sí                                                                        \n9                                                 No                                                                        \n\n   ...  \\\n5  ...   \n6  ...   \n7  ...   \n8  ...   \n9  ...   \n\n  4.3 La IE cuenta con espacios de discusión y planeación para actividades de desarrollo profesional  \\\n5                                                 Sí                                                   \n6                                                 No                                                   \n7                                                 Sí                                                   \n8                                                 Sí                                                   \n9                                                 No                                                   \n\n  4.4 La IE capacita a los docentes en temas de equidad de género y apoya la implementación de acciones afirmativas en el aula de clases  \\\n5                                                 Sí                                                                                       \n6                                                 No                                                                                       \n7                                                 No                                                                                       \n8                                                 Sí                                                                                       \n9                                                 No                                                                                       \n\n  4.5 La IE lleva un registro formal de las necesidades y participación de los docentes en actividades de desarrollo profesional  \\\n5                                                 Sí                                                                               \n6                                                 No                                                                               \n7                                                 Sí                                                                               \n8                                                 Sí                                                                               \n9                                                 No                                                                               \n\n  4.6 Los docentes de otras áreas se interesan por el área de tecnología e informática y la integran a su enseñanza  \\\n5                                                 Sí                                                                  \n6                                                 No                                                                  \n7                                                 Sí                                                                  \n8                                                 Sí                                                                  \n9                                                 No                                                                  \n\n  4.7 La IE incentiva el trabajo coordinado entre los/las responsables del área  \\\n5                                                 Sí                              \n6                                                 No                              \n7                                                 Sí                              \n8                                                 Sí                              \n9                                                 Sí                              \n\n  4.8 La IE tiene en cuenta los conocimientos del personal docente para enriquecer la visión institucional sobre la enseñanza de la computación y potenciar la comprensión de las/los estudiantes y desarrollo  \\\n5                                                 Sí                                                                                                                                                             \n6                                                 No                                                                                                                                                             \n7                                                 Sí                                                                                                                                                             \n8                                                 Sí                                                                                                                                                             \n9                                                 No                                                                                                                                                             \n\n  4.9 La IE promueve al trabajo conjunto entre los docente y profesionales líderes externos para impulsar prácticas inclusivas en la enseñanza de la computación y/o pensamiento computacional  \\\n5                                                 Sí                                                                                                                                             \n6                                                 No                                                                                                                                             \n7                                                 Sí                                                                                                                                             \n8                                                 Sí                                                                                                                                             \n9                                                 No                                                                                                                                             \n\n  4.10 El Consejo Directivo del colegio está al tanto de que en la institución se está enseñando ciencias de la computación, y se encuentran involucrados en el proceso.  \\\n5                                                 Sí                                                                                                                       \n6                                                 No                                                                                                                       \n7                                                 Sí                                                                                                                       \n8                                                 Sí                                                                                                                       \n9                                                 No                                                                                                                       \n\n  4.11 Las directivas y el Consejo Directivo participan y evalúan la implementación de sistemas eficientes del plan de estudios del área.]  \\\n5                                                 Sí                                                                                         \n6                                                 Sí                                                                                         \n7                                                 Sí                                                                                         \n8                                                 Sí                                                                                         \n9                                                 No                                                                                         \n\n                                      Comentarios P4  \n5                                                NaN  \n6                                                NaN  \n7                                           Ninguna   \n8                                                NaN  \n9  La institución esta presta a las capacitacione...  \n\n[5 rows x 52 columns]",
      "text/html": "<div>\n<style scoped>\n    .dataframe tbody tr th:only-of-type {\n        vertical-align: middle;\n    }\n\n    .dataframe tbody tr th {\n        vertical-align: top;\n    }\n\n    .dataframe thead th {\n        text-align: right;\n    }\n</style>\n<table border=\"1\" class=\"dataframe\">\n  <thead>\n    <tr style=\"text-align: right;\">\n      <th></th>\n      <th>N registro</th>\n      <th>Fecha</th>\n      <th>Instrumento</th>\n      <th>ID</th>\n      <th>Código IE</th>\n      <th>1.1 Los docentes encargados del área son los responsables de definir lo que se enseña</th>\n      <th>1.2 El plan de estudios del área cuenta con mejoras realizadas por los docentes de la IE gracias a espacios colaborativos</th>\n      <th>1.3 El plan de estudio incluye actividades básicas de ofimática y/o alfabetización digital, programación y/o desarrollo del pensamiento computacional.</th>\n      <th>1.4 En el plan de estudio se da mayor relevancia al pensamiento computacional</th>\n      <th>1.5 El plan de estudio del área promueve la transición desde la alfabetización digital a las ciencias de la computación</th>\n      <th>...</th>\n      <th>4.3 La IE cuenta con espacios de discusión y planeación para actividades de desarrollo profesional</th>\n      <th>4.4 La IE capacita a los docentes en temas de equidad de género y apoya la implementación de acciones afirmativas en el aula de clases</th>\n      <th>4.5 La IE lleva un registro formal de las necesidades y participación de los docentes en actividades de desarrollo profesional</th>\n      <th>4.6 Los docentes de otras áreas se interesan por el área de tecnología e informática y la integran a su enseñanza</th>\n      <th>4.7 La IE incentiva el trabajo coordinado entre los/las responsables del área</th>\n      <th>4.8 La IE tiene en cuenta los conocimientos del personal docente para enriquecer la visión institucional sobre la enseñanza de la computación y potenciar la comprensión de las/los estudiantes y desarrollo</th>\n      <th>4.9 La IE promueve al trabajo conjunto entre los docente y profesionales líderes externos para impulsar prácticas inclusivas en la enseñanza de la computación y/o pensamiento computacional</th>\n      <th>4.10 El Consejo Directivo del colegio está al tanto de que en la institución se está enseñando ciencias de la computación, y se encuentran involucrados en el proceso.</th>\n      <th>4.11 Las directivas y el Consejo Directivo participan y evalúan la implementación de sistemas eficientes del plan de estudios del área.]</th>\n      <th>Comentarios P4</th>\n    </tr>\n  </thead>\n  <tbody>\n    <tr>\n      <th>5</th>\n      <td>5</td>\n      <td>18/04</td>\n      <td>Encuesta Líderes</td>\n      <td>5</td>\n      <td>33</td>\n      <td>Sí</td>\n      <td>Sí</td>\n      <td>Sí</td>\n      <td>Sí</td>\n      <td>Sí</td>\n      <td>...</td>\n      <td>Sí</td>\n      <td>Sí</td>\n      <td>Sí</td>\n      <td>Sí</td>\n      <td>Sí</td>\n      <td>Sí</td>\n      <td>Sí</td>\n      <td>Sí</td>\n      <td>Sí</td>\n      <td>NaN</td>\n    </tr>\n    <tr>\n      <th>6</th>\n      <td>6</td>\n      <td>18/04</td>\n      <td>Encuesta Líderes</td>\n      <td>6</td>\n      <td>4</td>\n      <td>No</td>\n      <td>No</td>\n      <td>Sí</td>\n      <td>No</td>\n      <td>No</td>\n      <td>...</td>\n      <td>No</td>\n      <td>No</td>\n      <td>No</td>\n      <td>No</td>\n      <td>No</td>\n      <td>No</td>\n      <td>No</td>\n      <td>No</td>\n      <td>Sí</td>\n      <td>NaN</td>\n    </tr>\n    <tr>\n      <th>7</th>\n      <td>7</td>\n      <td>19/04</td>\n      <td>Encuesta Líderes</td>\n      <td>7</td>\n      <td>129</td>\n      <td>Sí</td>\n      <td>Sí</td>\n      <td>Sí</td>\n      <td>No</td>\n      <td>Sí</td>\n      <td>...</td>\n      <td>Sí</td>\n      <td>No</td>\n      <td>Sí</td>\n      <td>Sí</td>\n      <td>Sí</td>\n      <td>Sí</td>\n      <td>Sí</td>\n      <td>Sí</td>\n      <td>Sí</td>\n      <td>Ninguna</td>\n    </tr>\n    <tr>\n      <th>8</th>\n      <td>8</td>\n      <td>19/04</td>\n      <td>Encuesta Líderes</td>\n      <td>8</td>\n      <td>7</td>\n      <td>Sí</td>\n      <td>Sí</td>\n      <td>Sí</td>\n      <td>No</td>\n      <td>Sí</td>\n      <td>...</td>\n      <td>Sí</td>\n      <td>Sí</td>\n      <td>Sí</td>\n      <td>Sí</td>\n      <td>Sí</td>\n      <td>Sí</td>\n      <td>Sí</td>\n      <td>Sí</td>\n      <td>Sí</td>\n      <td>NaN</td>\n    </tr>\n    <tr>\n      <th>9</th>\n      <td>9</td>\n      <td>19/04</td>\n      <td>Encuesta Líderes</td>\n      <td>9</td>\n      <td>231</td>\n      <td>Sí</td>\n      <td>Sí</td>\n      <td>Sí</td>\n      <td>No</td>\n      <td>No</td>\n      <td>...</td>\n      <td>No</td>\n      <td>No</td>\n      <td>No</td>\n      <td>No</td>\n      <td>Sí</td>\n      <td>No</td>\n      <td>No</td>\n      <td>No</td>\n      <td>No</td>\n      <td>La institución esta presta a las capacitacione...</td>\n    </tr>\n  </tbody>\n</table>\n<p>5 rows × 52 columns</p>\n</div>"
     },
     "execution_count": 66,
     "metadata": {},
     "output_type": "execute_result"
    }
   ],
   "source": [
    "plan2 = pd.read_excel(ruta_git/'data/descargables/LiderCFK.xlsx', index_col=0)\n",
    "plan2 = plan2.dropna(subset='1.1 Los docentes encargados del área son los responsables de definir lo que se enseña')\n",
    "plan2[plan2.filter(regex=r'^1.').columns.tolist()] = plan2[plan2.filter(regex=r'^1.').columns.tolist()].fillna(\"No\")\n",
    "print(plan2.shape)\n",
    "plan2.head()"
   ],
   "metadata": {
    "collapsed": false,
    "pycharm": {
     "name": "#%%\n"
    }
   }
  },
  {
   "cell_type": "code",
   "execution_count": 67,
   "outputs": [
    {
     "data": {
      "text/plain": "5      Sí\n6      No\n7      No\n8      Sí\n9      No\n       ..\n246    Sí\n247    Sí\n248    Sí\n249    Sí\n250    Sí\nName: 1.7 El plan de estudios del área es coherente con la transición de un grado a otro y permite al estudiante desarrollar conocimientos, habilidades y comprensión del pensamiento computacional, Length: 244, dtype: object"
     },
     "execution_count": 67,
     "metadata": {},
     "output_type": "execute_result"
    }
   ],
   "source": [
    "plan2['1.7 El plan de estudios del área es coherente con la transición de un grado a otro y permite al estudiante desarrollar conocimientos, habilidades y comprensión del pensamiento computacional']"
   ],
   "metadata": {
    "collapsed": false,
    "pycharm": {
     "name": "#%%\n"
    }
   }
  },
  {
   "cell_type": "code",
   "execution_count": 68,
   "outputs": [],
   "source": [
    "cols_plan2_d3 = {\n",
    "    '1.3 El plan de estudio incluye actividades básicas de ofimática y/o alfabetización digital, programación y/o desarrollo del pensamiento computacional.':{\n",
    "        \"Sí\":\"5\", \"No\":\"1A\", \"No aplica\":\"1A\"\n",
    "    },\n",
    "    '1.7 El plan de estudios del área es coherente con la transición de un grado a otro y permite al estudiante desarrollar conocimientos, habilidades y comprensión del pensamiento computacional':{\n",
    "        \"Sí\":\"5\", \"No\":\"2A\", \"No aplica\":\"2A\"\n",
    "    }}"
   ],
   "metadata": {
    "collapsed": false,
    "pycharm": {
     "name": "#%%\n"
    }
   }
  },
  {
   "cell_type": "code",
   "execution_count": 69,
   "outputs": [
    {
     "data": {
      "text/plain": "          1.3 El plan de estudio incluye actividades básicas de ofimática y/o alfabetización digital, programación y/o desarrollo del pensamiento computacional.  \\\nCódigo IE                                                                                                                                                          \n2                                                          5                                                                                                       \n3                                                          5                                                                                                       \n4                                                          5                                                                                                       \n5                                                          5                                                                                                       \n6                                                          5                                                                                                       \n...                                                      ...                                                                                                       \n248                                                        5                                                                                                       \n249                                                        5                                                                                                       \n250                                                        5                                                                                                       \n251                                                        5                                                                                                       \n252                                                        5                                                                                                       \n\n          1.7 El plan de estudios del área es coherente con la transición de un grado a otro y permite al estudiante desarrollar conocimientos, habilidades y comprensión del pensamiento computacional  \\\nCódigo IE                                                                                                                                                                                                 \n2                                                         2A                                                                                                                                              \n3                                                          5                                                                                                                                              \n4                                                         2A                                                                                                                                              \n5                                                          5                                                                                                                                              \n6                                                          5                                                                                                                                              \n...                                                      ...                                                                                                                                              \n248                                                       2A                                                                                                                                              \n249                                                        5                                                                                                                                              \n250                                                        5                                                                                                                                              \n251                                                        5                                                                                                                                              \n252                                                        5                                                                                                                                              \n\n          Nivel lider  \nCódigo IE              \n2                  2A  \n3                   5  \n4                  2A  \n5                   5  \n6                   5  \n...               ...  \n248                2A  \n249                 5  \n250                 5  \n251                 5  \n252                 5  \n\n[227 rows x 3 columns]",
      "text/html": "<div>\n<style scoped>\n    .dataframe tbody tr th:only-of-type {\n        vertical-align: middle;\n    }\n\n    .dataframe tbody tr th {\n        vertical-align: top;\n    }\n\n    .dataframe thead th {\n        text-align: right;\n    }\n</style>\n<table border=\"1\" class=\"dataframe\">\n  <thead>\n    <tr style=\"text-align: right;\">\n      <th></th>\n      <th>1.3 El plan de estudio incluye actividades básicas de ofimática y/o alfabetización digital, programación y/o desarrollo del pensamiento computacional.</th>\n      <th>1.7 El plan de estudios del área es coherente con la transición de un grado a otro y permite al estudiante desarrollar conocimientos, habilidades y comprensión del pensamiento computacional</th>\n      <th>Nivel lider</th>\n    </tr>\n    <tr>\n      <th>Código IE</th>\n      <th></th>\n      <th></th>\n      <th></th>\n    </tr>\n  </thead>\n  <tbody>\n    <tr>\n      <th>2</th>\n      <td>5</td>\n      <td>2A</td>\n      <td>2A</td>\n    </tr>\n    <tr>\n      <th>3</th>\n      <td>5</td>\n      <td>5</td>\n      <td>5</td>\n    </tr>\n    <tr>\n      <th>4</th>\n      <td>5</td>\n      <td>2A</td>\n      <td>2A</td>\n    </tr>\n    <tr>\n      <th>5</th>\n      <td>5</td>\n      <td>5</td>\n      <td>5</td>\n    </tr>\n    <tr>\n      <th>6</th>\n      <td>5</td>\n      <td>5</td>\n      <td>5</td>\n    </tr>\n    <tr>\n      <th>...</th>\n      <td>...</td>\n      <td>...</td>\n      <td>...</td>\n    </tr>\n    <tr>\n      <th>248</th>\n      <td>5</td>\n      <td>2A</td>\n      <td>2A</td>\n    </tr>\n    <tr>\n      <th>249</th>\n      <td>5</td>\n      <td>5</td>\n      <td>5</td>\n    </tr>\n    <tr>\n      <th>250</th>\n      <td>5</td>\n      <td>5</td>\n      <td>5</td>\n    </tr>\n    <tr>\n      <th>251</th>\n      <td>5</td>\n      <td>5</td>\n      <td>5</td>\n    </tr>\n    <tr>\n      <th>252</th>\n      <td>5</td>\n      <td>5</td>\n      <td>5</td>\n    </tr>\n  </tbody>\n</table>\n<p>227 rows × 3 columns</p>\n</div>"
     },
     "execution_count": 69,
     "metadata": {},
     "output_type": "execute_result"
    }
   ],
   "source": [
    "plan2_d3 = plan2[['Código IE']+list(cols_plan2_d3.keys())]\n",
    "plan2_d3 = plan2_d3.replace(cols_plan2_d3)\n",
    "plan2_d3 = plan2_d3.groupby('Código IE').max().reset_index()\n",
    "plan2_d3 = plan2_d3.set_index('Código IE')\n",
    "plan2_d3['Nivel lider'] = plan2_d3.min(axis=1)\n",
    "\n",
    "plan2_d3"
   ],
   "metadata": {
    "collapsed": false,
    "pycharm": {
     "name": "#%%\n"
    }
   }
  },
  {
   "cell_type": "code",
   "execution_count": 70,
   "outputs": [
    {
     "data": {
      "text/plain": "5     123\n2A     86\n1A     18\nName: Nivel lider, dtype: int64"
     },
     "execution_count": 70,
     "metadata": {},
     "output_type": "execute_result"
    }
   ],
   "source": [
    "plan2_d3['Nivel lider'].value_counts()"
   ],
   "metadata": {
    "collapsed": false,
    "pycharm": {
     "name": "#%%\n"
    }
   }
  },
  {
   "cell_type": "markdown",
   "source": [
    "### Docentes"
   ],
   "metadata": {
    "collapsed": false,
    "pycharm": {
     "name": "#%% md\n"
    }
   }
  },
  {
   "cell_type": "code",
   "execution_count": 73,
   "outputs": [
    {
     "data": {
      "text/plain": "      N registro        Instrumento  Fecha Política de datos  Código IE  \\\n0              4  Encuesta docentes  18/04                Sí        206   \n1              5  Encuesta docentes  18/04                Sí        206   \n2              6  Encuesta docentes  18/04                Sí        206   \n3              7  Encuesta docentes  18/04                Sí        206   \n4              8  Encuesta docentes  18/04                Sí        206   \n...          ...                ...    ...               ...        ...   \n6635        6888  Encuesta docentes  06/06                Sí        125   \n6636        6889  Encuesta docentes  06/06                Sí        123   \n6637        6890  Encuesta docentes  06/06                Sí         37   \n6638        6891  Encuesta docentes  06/06                Sí         33   \n6639        6892  Encuesta docentes  06/06                Sí         37   \n\n                    Tipo ID          ID  \\\n0      Cédula de ciudadanía     5828243   \n1      Cédula de ciudadanía    93377927   \n2      Cédula de ciudadanía    38363769   \n3      Cédula de ciudadanía     5827991   \n4      Cédula de ciudadanía  1110495748   \n...                     ...         ...   \n6635   Cédula de ciudadanía    73572371   \n6636  Cédula de extranjería  1047365297   \n6637   Cédula de ciudadanía    77036870   \n6638   Cédula de ciudadanía    93395426   \n6639   Cédula de ciudadanía    42494164   \n\n                                          Email  Edad       Sexo  ...  \\\n0                     Mosquera.fabio@gmail.com   40.0  Masculino  ...   \n1                              nixong@yahoo.com  52.0  Masculino  ...   \n2                   ivonne.saavedrab@nep.edu.co  38.0   Femenino  ...   \n3               javierlunarodriguez@hotmail.com  42.0  Masculino  ...   \n4                      pipe.edufisica@gmail.com  32.0  Masculino  ...   \n...                                         ...   ...        ...  ...   \n6635  fernandovitola@antonioramoslasalle.edu.co  46.0  Masculino  ...   \n6636                        madiarr@hotmail.com  32.0   Femenino  ...   \n6637                  ieleonidasacuna@gmail.com  54.0  Masculino  ...   \n6638                     nabuitrago@hotmail.com  47.0  Masculino  ...   \n6639                  ieleonidasacuna@gmail.com  67.0   Femenino  ...   \n\n     8.8 Que la mayoría de personas en artes y humanidades sean mujeres es muestra de su sensibilidad.  \\\n0                                                Neutro                                                  \n1                              Totalmente en desacuerdo                                                  \n2                              Totalmente en desacuerdo                                                  \n3                                         En desacuerdo                                                  \n4                              Totalmente en desacuerdo                                                  \n...                                                 ...                                                  \n6635                              Totalmente de acuerdo                                                  \n6636                           Totalmente en desacuerdo                                                  \n6637                                             Neutro                                                  \n6638                           Totalmente en desacuerdo                                                  \n6639                                             Neutro                                                  \n\n     8.9 Es natural que los hombres sean buenos para los números y las mujeres para las letras.  \\\n0                                                Neutro                                           \n1                              Totalmente en desacuerdo                                           \n2                              Totalmente en desacuerdo                                           \n3                                         En desacuerdo                                           \n4                              Totalmente en desacuerdo                                           \n...                                                 ...                                           \n6635                           Totalmente en desacuerdo                                           \n6636                           Totalmente en desacuerdo                                           \n6637                                             Neutro                                           \n6638                           Totalmente en desacuerdo                                           \n6639                                             Neutro                                           \n\n     8.10 Los hombres son muy ágiles tomando decisiones importantes.  \\\n0                                                Neutro                \n1                              Totalmente en desacuerdo                \n2                              Totalmente en desacuerdo                \n3                                         En desacuerdo                \n4                              Totalmente en desacuerdo                \n...                                                 ...                \n6635                           Totalmente en desacuerdo                \n6636                           Totalmente en desacuerdo                \n6637                                             Neutro                \n6638                           Totalmente en desacuerdo                \n6639                                             Neutro                \n\n     8.11 Las niñas son más ordenadas que los niños.  \\\n0                                             Neutro   \n1                                         De acuerdo   \n2                           Totalmente en desacuerdo   \n3                                      En desacuerdo   \n4                              Totalmente de acuerdo   \n...                                              ...   \n6635                                      De acuerdo   \n6636                        Totalmente en desacuerdo   \n6637                                          Neutro   \n6638                                          Neutro   \n6639                                          Neutro   \n\n     8.12 Muchas mujeres se caracterizan por una pureza que pocos hombres poseen.  \\\n0                                                Neutro                             \n1                                                Neutro                             \n2                              Totalmente en desacuerdo                             \n3                                         En desacuerdo                             \n4                                                Neutro                             \n...                                                 ...                             \n6635                                         De acuerdo                             \n6636                           Totalmente en desacuerdo                             \n6637                                             Neutro                             \n6638                           Totalmente en desacuerdo                             \n6639                                             Neutro                             \n\n     8.13 Las mujeres deben ser queridas y protegidas por los hombres.  \\\n0                                                Neutro                  \n1                                                Neutro                  \n2                              Totalmente en desacuerdo                  \n3                                         En desacuerdo                  \n4                                            De acuerdo                  \n...                                                 ...                  \n6635                              Totalmente de acuerdo                  \n6636                           Totalmente en desacuerdo                  \n6637                                             Neutro                  \n6638                                             Neutro                  \n6639                                             Neutro                  \n\n     8.14 Todo hombre debe tener una mujer a quien amar.  \\\n0                                                Neutro    \n1                              Totalmente en desacuerdo    \n2                              Totalmente en desacuerdo    \n3                                         En desacuerdo    \n4                                         En desacuerdo    \n...                                                 ...    \n6635                              Totalmente de acuerdo    \n6636                           Totalmente en desacuerdo    \n6637                                             Neutro    \n6638                                             Neutro    \n6639                                             Neutro    \n\n     8.15 El hombre está incompleto sin la mujer.  \\\n0                                          Neutro   \n1                        Totalmente en desacuerdo   \n2                        Totalmente en desacuerdo   \n3                                   En desacuerdo   \n4                                   En desacuerdo   \n...                                           ...   \n6635                        Totalmente de acuerdo   \n6636                     Totalmente en desacuerdo   \n6637                                       Neutro   \n6638                                       Neutro   \n6639                                       Neutro   \n\n     8.16 Las mujeres en comparación con los hombres, tienden a tener un sentido más refinado de la cultura y el buen gusto.  \\\n0                                                Neutro                                                                        \n1                              Totalmente en desacuerdo                                                                        \n2                              Totalmente en desacuerdo                                                                        \n3                                         En desacuerdo                                                                        \n4                                            De acuerdo                                                                        \n...                                                 ...                                                                        \n6635                           Totalmente en desacuerdo                                                                        \n6636                           Totalmente en desacuerdo                                                                        \n6637                                             Neutro                                                                        \n6638                           Totalmente en desacuerdo                                                                        \n6639                                             Neutro                                                                        \n\n                                     Comentarios género  \n0                                               Ninguno  \n1                                                   NaN  \n2                                                   NaN  \n3                                                   NaN  \n4                                                   NaN  \n...                                                 ...  \n6635  Creo que tanto hombres como mujeres pueden ten...  \n6636                                                NaN  \n6637                                                NaN  \n6638                                                NaN  \n6639                                                NaN  \n\n[6640 rows x 91 columns]",
      "text/html": "<div>\n<style scoped>\n    .dataframe tbody tr th:only-of-type {\n        vertical-align: middle;\n    }\n\n    .dataframe tbody tr th {\n        vertical-align: top;\n    }\n\n    .dataframe thead th {\n        text-align: right;\n    }\n</style>\n<table border=\"1\" class=\"dataframe\">\n  <thead>\n    <tr style=\"text-align: right;\">\n      <th></th>\n      <th>N registro</th>\n      <th>Instrumento</th>\n      <th>Fecha</th>\n      <th>Política de datos</th>\n      <th>Código IE</th>\n      <th>Tipo ID</th>\n      <th>ID</th>\n      <th>Email</th>\n      <th>Edad</th>\n      <th>Sexo</th>\n      <th>...</th>\n      <th>8.8 Que la mayoría de personas en artes y humanidades sean mujeres es muestra de su sensibilidad.</th>\n      <th>8.9 Es natural que los hombres sean buenos para los números y las mujeres para las letras.</th>\n      <th>8.10 Los hombres son muy ágiles tomando decisiones importantes.</th>\n      <th>8.11 Las niñas son más ordenadas que los niños.</th>\n      <th>8.12 Muchas mujeres se caracterizan por una pureza que pocos hombres poseen.</th>\n      <th>8.13 Las mujeres deben ser queridas y protegidas por los hombres.</th>\n      <th>8.14 Todo hombre debe tener una mujer a quien amar.</th>\n      <th>8.15 El hombre está incompleto sin la mujer.</th>\n      <th>8.16 Las mujeres en comparación con los hombres, tienden a tener un sentido más refinado de la cultura y el buen gusto.</th>\n      <th>Comentarios género</th>\n    </tr>\n  </thead>\n  <tbody>\n    <tr>\n      <th>0</th>\n      <td>4</td>\n      <td>Encuesta docentes</td>\n      <td>18/04</td>\n      <td>Sí</td>\n      <td>206</td>\n      <td>Cédula de ciudadanía</td>\n      <td>5828243</td>\n      <td>Mosquera.fabio@gmail.com</td>\n      <td>40.0</td>\n      <td>Masculino</td>\n      <td>...</td>\n      <td>Neutro</td>\n      <td>Neutro</td>\n      <td>Neutro</td>\n      <td>Neutro</td>\n      <td>Neutro</td>\n      <td>Neutro</td>\n      <td>Neutro</td>\n      <td>Neutro</td>\n      <td>Neutro</td>\n      <td>Ninguno</td>\n    </tr>\n    <tr>\n      <th>1</th>\n      <td>5</td>\n      <td>Encuesta docentes</td>\n      <td>18/04</td>\n      <td>Sí</td>\n      <td>206</td>\n      <td>Cédula de ciudadanía</td>\n      <td>93377927</td>\n      <td>nixong@yahoo.com</td>\n      <td>52.0</td>\n      <td>Masculino</td>\n      <td>...</td>\n      <td>Totalmente en desacuerdo</td>\n      <td>Totalmente en desacuerdo</td>\n      <td>Totalmente en desacuerdo</td>\n      <td>De acuerdo</td>\n      <td>Neutro</td>\n      <td>Neutro</td>\n      <td>Totalmente en desacuerdo</td>\n      <td>Totalmente en desacuerdo</td>\n      <td>Totalmente en desacuerdo</td>\n      <td>NaN</td>\n    </tr>\n    <tr>\n      <th>2</th>\n      <td>6</td>\n      <td>Encuesta docentes</td>\n      <td>18/04</td>\n      <td>Sí</td>\n      <td>206</td>\n      <td>Cédula de ciudadanía</td>\n      <td>38363769</td>\n      <td>ivonne.saavedrab@nep.edu.co</td>\n      <td>38.0</td>\n      <td>Femenino</td>\n      <td>...</td>\n      <td>Totalmente en desacuerdo</td>\n      <td>Totalmente en desacuerdo</td>\n      <td>Totalmente en desacuerdo</td>\n      <td>Totalmente en desacuerdo</td>\n      <td>Totalmente en desacuerdo</td>\n      <td>Totalmente en desacuerdo</td>\n      <td>Totalmente en desacuerdo</td>\n      <td>Totalmente en desacuerdo</td>\n      <td>Totalmente en desacuerdo</td>\n      <td>NaN</td>\n    </tr>\n    <tr>\n      <th>3</th>\n      <td>7</td>\n      <td>Encuesta docentes</td>\n      <td>18/04</td>\n      <td>Sí</td>\n      <td>206</td>\n      <td>Cédula de ciudadanía</td>\n      <td>5827991</td>\n      <td>javierlunarodriguez@hotmail.com</td>\n      <td>42.0</td>\n      <td>Masculino</td>\n      <td>...</td>\n      <td>En desacuerdo</td>\n      <td>En desacuerdo</td>\n      <td>En desacuerdo</td>\n      <td>En desacuerdo</td>\n      <td>En desacuerdo</td>\n      <td>En desacuerdo</td>\n      <td>En desacuerdo</td>\n      <td>En desacuerdo</td>\n      <td>En desacuerdo</td>\n      <td>NaN</td>\n    </tr>\n    <tr>\n      <th>4</th>\n      <td>8</td>\n      <td>Encuesta docentes</td>\n      <td>18/04</td>\n      <td>Sí</td>\n      <td>206</td>\n      <td>Cédula de ciudadanía</td>\n      <td>1110495748</td>\n      <td>pipe.edufisica@gmail.com</td>\n      <td>32.0</td>\n      <td>Masculino</td>\n      <td>...</td>\n      <td>Totalmente en desacuerdo</td>\n      <td>Totalmente en desacuerdo</td>\n      <td>Totalmente en desacuerdo</td>\n      <td>Totalmente de acuerdo</td>\n      <td>Neutro</td>\n      <td>De acuerdo</td>\n      <td>En desacuerdo</td>\n      <td>En desacuerdo</td>\n      <td>De acuerdo</td>\n      <td>NaN</td>\n    </tr>\n    <tr>\n      <th>...</th>\n      <td>...</td>\n      <td>...</td>\n      <td>...</td>\n      <td>...</td>\n      <td>...</td>\n      <td>...</td>\n      <td>...</td>\n      <td>...</td>\n      <td>...</td>\n      <td>...</td>\n      <td>...</td>\n      <td>...</td>\n      <td>...</td>\n      <td>...</td>\n      <td>...</td>\n      <td>...</td>\n      <td>...</td>\n      <td>...</td>\n      <td>...</td>\n      <td>...</td>\n      <td>...</td>\n    </tr>\n    <tr>\n      <th>6635</th>\n      <td>6888</td>\n      <td>Encuesta docentes</td>\n      <td>06/06</td>\n      <td>Sí</td>\n      <td>125</td>\n      <td>Cédula de ciudadanía</td>\n      <td>73572371</td>\n      <td>fernandovitola@antonioramoslasalle.edu.co</td>\n      <td>46.0</td>\n      <td>Masculino</td>\n      <td>...</td>\n      <td>Totalmente de acuerdo</td>\n      <td>Totalmente en desacuerdo</td>\n      <td>Totalmente en desacuerdo</td>\n      <td>De acuerdo</td>\n      <td>De acuerdo</td>\n      <td>Totalmente de acuerdo</td>\n      <td>Totalmente de acuerdo</td>\n      <td>Totalmente de acuerdo</td>\n      <td>Totalmente en desacuerdo</td>\n      <td>Creo que tanto hombres como mujeres pueden ten...</td>\n    </tr>\n    <tr>\n      <th>6636</th>\n      <td>6889</td>\n      <td>Encuesta docentes</td>\n      <td>06/06</td>\n      <td>Sí</td>\n      <td>123</td>\n      <td>Cédula de extranjería</td>\n      <td>1047365297</td>\n      <td>madiarr@hotmail.com</td>\n      <td>32.0</td>\n      <td>Femenino</td>\n      <td>...</td>\n      <td>Totalmente en desacuerdo</td>\n      <td>Totalmente en desacuerdo</td>\n      <td>Totalmente en desacuerdo</td>\n      <td>Totalmente en desacuerdo</td>\n      <td>Totalmente en desacuerdo</td>\n      <td>Totalmente en desacuerdo</td>\n      <td>Totalmente en desacuerdo</td>\n      <td>Totalmente en desacuerdo</td>\n      <td>Totalmente en desacuerdo</td>\n      <td>NaN</td>\n    </tr>\n    <tr>\n      <th>6637</th>\n      <td>6890</td>\n      <td>Encuesta docentes</td>\n      <td>06/06</td>\n      <td>Sí</td>\n      <td>37</td>\n      <td>Cédula de ciudadanía</td>\n      <td>77036870</td>\n      <td>ieleonidasacuna@gmail.com</td>\n      <td>54.0</td>\n      <td>Masculino</td>\n      <td>...</td>\n      <td>Neutro</td>\n      <td>Neutro</td>\n      <td>Neutro</td>\n      <td>Neutro</td>\n      <td>Neutro</td>\n      <td>Neutro</td>\n      <td>Neutro</td>\n      <td>Neutro</td>\n      <td>Neutro</td>\n      <td>NaN</td>\n    </tr>\n    <tr>\n      <th>6638</th>\n      <td>6891</td>\n      <td>Encuesta docentes</td>\n      <td>06/06</td>\n      <td>Sí</td>\n      <td>33</td>\n      <td>Cédula de ciudadanía</td>\n      <td>93395426</td>\n      <td>nabuitrago@hotmail.com</td>\n      <td>47.0</td>\n      <td>Masculino</td>\n      <td>...</td>\n      <td>Totalmente en desacuerdo</td>\n      <td>Totalmente en desacuerdo</td>\n      <td>Totalmente en desacuerdo</td>\n      <td>Neutro</td>\n      <td>Totalmente en desacuerdo</td>\n      <td>Neutro</td>\n      <td>Neutro</td>\n      <td>Neutro</td>\n      <td>Totalmente en desacuerdo</td>\n      <td>NaN</td>\n    </tr>\n    <tr>\n      <th>6639</th>\n      <td>6892</td>\n      <td>Encuesta docentes</td>\n      <td>06/06</td>\n      <td>Sí</td>\n      <td>37</td>\n      <td>Cédula de ciudadanía</td>\n      <td>42494164</td>\n      <td>ieleonidasacuna@gmail.com</td>\n      <td>67.0</td>\n      <td>Femenino</td>\n      <td>...</td>\n      <td>Neutro</td>\n      <td>Neutro</td>\n      <td>Neutro</td>\n      <td>Neutro</td>\n      <td>Neutro</td>\n      <td>Neutro</td>\n      <td>Neutro</td>\n      <td>Neutro</td>\n      <td>Neutro</td>\n      <td>NaN</td>\n    </tr>\n  </tbody>\n</table>\n<p>6640 rows × 91 columns</p>\n</div>"
     },
     "execution_count": 73,
     "metadata": {},
     "output_type": "execute_result"
    }
   ],
   "source": [
    "doc = pd.read_excel(ruta_git/'data/descargables/DocentesCFK.xlsx')\n",
    "doc"
   ],
   "metadata": {
    "collapsed": false,
    "pycharm": {
     "name": "#%%\n"
    }
   }
  },
  {
   "cell_type": "code",
   "execution_count": 76,
   "outputs": [
    {
     "data": {
      "text/plain": "['6.1 Actividades desconectadas',\n '6.2 Usa-Modifica-Crea',\n '6.3 Clase magistral',\n '6.4 Programación en pares',\n '6.5 Lectura del código']"
     },
     "execution_count": 76,
     "metadata": {},
     "output_type": "execute_result"
    }
   ],
   "source": [
    "doc.filter(regex=r'^6.', axis=1).columns.tolist()"
   ],
   "metadata": {
    "collapsed": false,
    "pycharm": {
     "name": "#%%\n"
    }
   }
  },
  {
   "cell_type": "code",
   "execution_count": 77,
   "outputs": [
    {
     "data": {
      "text/plain": "['8.1 Es preferible que las mujeres enseñen ciencias sociales y los hombres ciencias exactas.',\n '8.2 Es normal que la mayoría de ingenieros mecánicos sean varones porque los hombres son mejores para los números.',\n '8.3 Por su esencia una mujer tiene mejor desempeño en un proyecto de alto impacto social que en un proyecto de robótica industrial.',\n '8.4 Los hombres son mejores para la tecnología que las mujeres.',\n '8.5 Las mujeres tienen mayores habilidades para proyectos sociales que tecnológicos.',\n '8.6 Los grandes aportes en la computación han sido hechos por hombres.',\n '8.7 Que la mayoría de mujeres no opte por áreas exactas es simplemente una cuestión de preferencias.',\n '8.8 Que la mayoría de personas en artes y humanidades sean mujeres es muestra de su sensibilidad.',\n '8.9 Es natural que los hombres sean buenos para los números y las mujeres para las letras.',\n '8.10 Los hombres son muy ágiles tomando decisiones importantes.',\n '8.11 Las niñas son más ordenadas que los niños.',\n '8.12 Muchas mujeres se caracterizan por una pureza que pocos hombres poseen.',\n '8.13 Las mujeres deben ser queridas y protegidas por los hombres.',\n '8.14 Todo hombre debe tener una mujer a quien amar.',\n '8.15 El hombre está incompleto sin la mujer.',\n '8.16 Las mujeres en comparación con los hombres, tienden a tener un sentido más refinado de la cultura y el buen gusto.']"
     },
     "execution_count": 77,
     "metadata": {},
     "output_type": "execute_result"
    }
   ],
   "source": [
    "respuestas_correctas = {\n",
    "    \"Un algoritmo es:\":\"Una secuencia lógica de pasos para realizar una tarea.\",\n",
    "    \"¿Para qué sirven los algoritmos?\":\"Para planificar la solución a un problema\",\n",
    "    \"Un bucle es:\":\"Un conjunto de instrucciones que se ejecuta mientras se cumpla una condición\",\n",
    "    '¿Cuál es el error conceptual de Tim?':\"Cree que, si la condición se cumple, todo lo que sigue se va a ejecutar\",\n",
    "    '¿Cuál es el error conceptual de Ana?':\"No tiene claro el concepto de bucle y por eso no logra identificar que A y C hacen lo mismo\"}\n",
    "\n",
    "de_acuerdo = {\"Totalmente en Desacuerdo\":1,\"En Desacuerdo\":2, \"Neutro\":3, \"De acuerdo\":4,\"Totalmente de acuerdo\":5,\n",
    "\"De Acuerdo\":4,\"Totalmente de Acuerdo\":5, \"Totalmente Desacuerdo\":1, \"Totalmente en desacuerdo\":1, \"En desacuerdo\":2}\n",
    "\n",
    "no_sabe_conoce = {\"No la conozco\":0, \"No sé\":0}\n",
    "\n",
    "col_index = ['Edad', 'Sexo', 'Código IE', '¿Te reconoces como una persona con algún tipo de discapacidad?']\n",
    "col_caract = ['index','Código IE', 'Tipo ID', 'ID', 'Email', 'Edad', 'Sexo','Cabeza de hogar',\n",
    "              'Estado civil', 'Líder comunitario', 'Formado CFK', 'Implementa fichas',\n",
    "              'Formado tecnología e informática', 'Enseña STEM', 'Formado STEM']\n",
    "\n",
    "col_autoeficacia_PC = doc.filter(regex=r'^1.|^2.*', axis=1).columns.tolist()\n",
    "col_apoyo_inst= doc.filter(regex=r'^3.[1,2,4,6,7,9]', axis=1).columns.tolist()\n",
    "col_frust_inst = doc.filter(regex=r'^3.[3,5,8]', axis=1).columns.tolist()\n",
    "col_autoeficacia_tec = doc.filter(regex=r'^4.', axis=1).columns.tolist()\n",
    "col_sentido_com = doc.filter(regex=r'^5.', axis=1).columns.tolist()\n",
    "col_practicas_ped = doc.filter(regex=r'^6.', axis=1).columns.tolist()\n",
    "col_practicas_eval = doc.filter(regex=r'^7.', axis=1).columns.tolist()\n",
    "col_conocimiento = list(respuestas_correctas.keys())\n",
    "col_sexismo_stem = doc.filter(regex=r'^8.1 |^8.[2,3,4,5,6,9]', axis=1).columns.tolist()\n",
    "col_sexismo_ben =  doc.filter(regex=r'^8.8 |^8.1[0,1,2,16]', axis=1).columns.tolist()\n",
    "col_estereotipo =  doc.filter(regex=r'^8.1[3,4,5]', axis=1).columns.tolist()\n",
    "col_genero = doc.filter(regex=r'^8.', axis=1).columns.tolist()\n",
    "col_genero"
   ],
   "metadata": {
    "collapsed": false,
    "pycharm": {
     "name": "#%%\n"
    }
   }
  },
  {
   "cell_type": "code",
   "execution_count": 78,
   "outputs": [
    {
     "data": {
      "text/plain": "      N registro        Instrumento  Fecha Política de datos  Código IE  \\\n0              4  Encuesta docentes  18/04                Sí        206   \n1              5  Encuesta docentes  18/04                Sí        206   \n2              6  Encuesta docentes  18/04                Sí        206   \n3              7  Encuesta docentes  18/04                Sí        206   \n4              8  Encuesta docentes  18/04                Sí        206   \n...          ...                ...    ...               ...        ...   \n6635        6888  Encuesta docentes  06/06                Sí        125   \n6636        6889  Encuesta docentes  06/06                Sí        123   \n6637        6890  Encuesta docentes  06/06                Sí         37   \n6638        6891  Encuesta docentes  06/06                Sí         33   \n6639        6892  Encuesta docentes  06/06                Sí         37   \n\n                    Tipo ID          ID  \\\n0      Cédula de ciudadanía     5828243   \n1      Cédula de ciudadanía    93377927   \n2      Cédula de ciudadanía    38363769   \n3      Cédula de ciudadanía     5827991   \n4      Cédula de ciudadanía  1110495748   \n...                     ...         ...   \n6635   Cédula de ciudadanía    73572371   \n6636  Cédula de extranjería  1047365297   \n6637   Cédula de ciudadanía    77036870   \n6638   Cédula de ciudadanía    93395426   \n6639   Cédula de ciudadanía    42494164   \n\n                                          Email  Edad       Sexo  ...  \\\n0                     Mosquera.fabio@gmail.com   40.0  Masculino  ...   \n1                              nixong@yahoo.com  52.0  Masculino  ...   \n2                   ivonne.saavedrab@nep.edu.co  38.0   Femenino  ...   \n3               javierlunarodriguez@hotmail.com  42.0  Masculino  ...   \n4                      pipe.edufisica@gmail.com  32.0  Masculino  ...   \n...                                         ...   ...        ...  ...   \n6635  fernandovitola@antonioramoslasalle.edu.co  46.0  Masculino  ...   \n6636                        madiarr@hotmail.com  32.0   Femenino  ...   \n6637                  ieleonidasacuna@gmail.com  54.0  Masculino  ...   \n6638                     nabuitrago@hotmail.com  47.0  Masculino  ...   \n6639                  ieleonidasacuna@gmail.com  67.0   Femenino  ...   \n\n     8.8 Que la mayoría de personas en artes y humanidades sean mujeres es muestra de su sensibilidad.  \\\n0                                                Neutro                                                  \n1                              Totalmente en desacuerdo                                                  \n2                              Totalmente en desacuerdo                                                  \n3                                         En desacuerdo                                                  \n4                              Totalmente en desacuerdo                                                  \n...                                                 ...                                                  \n6635                              Totalmente de acuerdo                                                  \n6636                           Totalmente en desacuerdo                                                  \n6637                                             Neutro                                                  \n6638                           Totalmente en desacuerdo                                                  \n6639                                             Neutro                                                  \n\n     8.9 Es natural que los hombres sean buenos para los números y las mujeres para las letras.  \\\n0                                                Neutro                                           \n1                              Totalmente en desacuerdo                                           \n2                              Totalmente en desacuerdo                                           \n3                                         En desacuerdo                                           \n4                              Totalmente en desacuerdo                                           \n...                                                 ...                                           \n6635                           Totalmente en desacuerdo                                           \n6636                           Totalmente en desacuerdo                                           \n6637                                             Neutro                                           \n6638                           Totalmente en desacuerdo                                           \n6639                                             Neutro                                           \n\n     8.10 Los hombres son muy ágiles tomando decisiones importantes.  \\\n0                                                Neutro                \n1                              Totalmente en desacuerdo                \n2                              Totalmente en desacuerdo                \n3                                         En desacuerdo                \n4                              Totalmente en desacuerdo                \n...                                                 ...                \n6635                           Totalmente en desacuerdo                \n6636                           Totalmente en desacuerdo                \n6637                                             Neutro                \n6638                           Totalmente en desacuerdo                \n6639                                             Neutro                \n\n     8.11 Las niñas son más ordenadas que los niños.  \\\n0                                             Neutro   \n1                                         De acuerdo   \n2                           Totalmente en desacuerdo   \n3                                      En desacuerdo   \n4                              Totalmente de acuerdo   \n...                                              ...   \n6635                                      De acuerdo   \n6636                        Totalmente en desacuerdo   \n6637                                          Neutro   \n6638                                          Neutro   \n6639                                          Neutro   \n\n     8.12 Muchas mujeres se caracterizan por una pureza que pocos hombres poseen.  \\\n0                                                Neutro                             \n1                                                Neutro                             \n2                              Totalmente en desacuerdo                             \n3                                         En desacuerdo                             \n4                                                Neutro                             \n...                                                 ...                             \n6635                                         De acuerdo                             \n6636                           Totalmente en desacuerdo                             \n6637                                             Neutro                             \n6638                           Totalmente en desacuerdo                             \n6639                                             Neutro                             \n\n     8.13 Las mujeres deben ser queridas y protegidas por los hombres.  \\\n0                                                Neutro                  \n1                                                Neutro                  \n2                              Totalmente en desacuerdo                  \n3                                         En desacuerdo                  \n4                                            De acuerdo                  \n...                                                 ...                  \n6635                              Totalmente de acuerdo                  \n6636                           Totalmente en desacuerdo                  \n6637                                             Neutro                  \n6638                                             Neutro                  \n6639                                             Neutro                  \n\n     8.14 Todo hombre debe tener una mujer a quien amar.  \\\n0                                                Neutro    \n1                              Totalmente en desacuerdo    \n2                              Totalmente en desacuerdo    \n3                                         En desacuerdo    \n4                                         En desacuerdo    \n...                                                 ...    \n6635                              Totalmente de acuerdo    \n6636                           Totalmente en desacuerdo    \n6637                                             Neutro    \n6638                                             Neutro    \n6639                                             Neutro    \n\n     8.15 El hombre está incompleto sin la mujer.  \\\n0                                          Neutro   \n1                        Totalmente en desacuerdo   \n2                        Totalmente en desacuerdo   \n3                                   En desacuerdo   \n4                                   En desacuerdo   \n...                                           ...   \n6635                        Totalmente de acuerdo   \n6636                     Totalmente en desacuerdo   \n6637                                       Neutro   \n6638                                       Neutro   \n6639                                       Neutro   \n\n     8.16 Las mujeres en comparación con los hombres, tienden a tener un sentido más refinado de la cultura y el buen gusto.  \\\n0                                                Neutro                                                                        \n1                              Totalmente en desacuerdo                                                                        \n2                              Totalmente en desacuerdo                                                                        \n3                                         En desacuerdo                                                                        \n4                                            De acuerdo                                                                        \n...                                                 ...                                                                        \n6635                           Totalmente en desacuerdo                                                                        \n6636                           Totalmente en desacuerdo                                                                        \n6637                                             Neutro                                                                        \n6638                           Totalmente en desacuerdo                                                                        \n6639                                             Neutro                                                                        \n\n                                     Comentarios género  \n0                                               Ninguno  \n1                                                   NaN  \n2                                                   NaN  \n3                                                   NaN  \n4                                                   NaN  \n...                                                 ...  \n6635  Creo que tanto hombres como mujeres pueden ten...  \n6636                                                NaN  \n6637                                                NaN  \n6638                                                NaN  \n6639                                                NaN  \n\n[6640 rows x 91 columns]",
      "text/html": "<div>\n<style scoped>\n    .dataframe tbody tr th:only-of-type {\n        vertical-align: middle;\n    }\n\n    .dataframe tbody tr th {\n        vertical-align: top;\n    }\n\n    .dataframe thead th {\n        text-align: right;\n    }\n</style>\n<table border=\"1\" class=\"dataframe\">\n  <thead>\n    <tr style=\"text-align: right;\">\n      <th></th>\n      <th>N registro</th>\n      <th>Instrumento</th>\n      <th>Fecha</th>\n      <th>Política de datos</th>\n      <th>Código IE</th>\n      <th>Tipo ID</th>\n      <th>ID</th>\n      <th>Email</th>\n      <th>Edad</th>\n      <th>Sexo</th>\n      <th>...</th>\n      <th>8.8 Que la mayoría de personas en artes y humanidades sean mujeres es muestra de su sensibilidad.</th>\n      <th>8.9 Es natural que los hombres sean buenos para los números y las mujeres para las letras.</th>\n      <th>8.10 Los hombres son muy ágiles tomando decisiones importantes.</th>\n      <th>8.11 Las niñas son más ordenadas que los niños.</th>\n      <th>8.12 Muchas mujeres se caracterizan por una pureza que pocos hombres poseen.</th>\n      <th>8.13 Las mujeres deben ser queridas y protegidas por los hombres.</th>\n      <th>8.14 Todo hombre debe tener una mujer a quien amar.</th>\n      <th>8.15 El hombre está incompleto sin la mujer.</th>\n      <th>8.16 Las mujeres en comparación con los hombres, tienden a tener un sentido más refinado de la cultura y el buen gusto.</th>\n      <th>Comentarios género</th>\n    </tr>\n  </thead>\n  <tbody>\n    <tr>\n      <th>0</th>\n      <td>4</td>\n      <td>Encuesta docentes</td>\n      <td>18/04</td>\n      <td>Sí</td>\n      <td>206</td>\n      <td>Cédula de ciudadanía</td>\n      <td>5828243</td>\n      <td>Mosquera.fabio@gmail.com</td>\n      <td>40.0</td>\n      <td>Masculino</td>\n      <td>...</td>\n      <td>Neutro</td>\n      <td>Neutro</td>\n      <td>Neutro</td>\n      <td>Neutro</td>\n      <td>Neutro</td>\n      <td>Neutro</td>\n      <td>Neutro</td>\n      <td>Neutro</td>\n      <td>Neutro</td>\n      <td>Ninguno</td>\n    </tr>\n    <tr>\n      <th>1</th>\n      <td>5</td>\n      <td>Encuesta docentes</td>\n      <td>18/04</td>\n      <td>Sí</td>\n      <td>206</td>\n      <td>Cédula de ciudadanía</td>\n      <td>93377927</td>\n      <td>nixong@yahoo.com</td>\n      <td>52.0</td>\n      <td>Masculino</td>\n      <td>...</td>\n      <td>Totalmente en desacuerdo</td>\n      <td>Totalmente en desacuerdo</td>\n      <td>Totalmente en desacuerdo</td>\n      <td>De acuerdo</td>\n      <td>Neutro</td>\n      <td>Neutro</td>\n      <td>Totalmente en desacuerdo</td>\n      <td>Totalmente en desacuerdo</td>\n      <td>Totalmente en desacuerdo</td>\n      <td>NaN</td>\n    </tr>\n    <tr>\n      <th>2</th>\n      <td>6</td>\n      <td>Encuesta docentes</td>\n      <td>18/04</td>\n      <td>Sí</td>\n      <td>206</td>\n      <td>Cédula de ciudadanía</td>\n      <td>38363769</td>\n      <td>ivonne.saavedrab@nep.edu.co</td>\n      <td>38.0</td>\n      <td>Femenino</td>\n      <td>...</td>\n      <td>Totalmente en desacuerdo</td>\n      <td>Totalmente en desacuerdo</td>\n      <td>Totalmente en desacuerdo</td>\n      <td>Totalmente en desacuerdo</td>\n      <td>Totalmente en desacuerdo</td>\n      <td>Totalmente en desacuerdo</td>\n      <td>Totalmente en desacuerdo</td>\n      <td>Totalmente en desacuerdo</td>\n      <td>Totalmente en desacuerdo</td>\n      <td>NaN</td>\n    </tr>\n    <tr>\n      <th>3</th>\n      <td>7</td>\n      <td>Encuesta docentes</td>\n      <td>18/04</td>\n      <td>Sí</td>\n      <td>206</td>\n      <td>Cédula de ciudadanía</td>\n      <td>5827991</td>\n      <td>javierlunarodriguez@hotmail.com</td>\n      <td>42.0</td>\n      <td>Masculino</td>\n      <td>...</td>\n      <td>En desacuerdo</td>\n      <td>En desacuerdo</td>\n      <td>En desacuerdo</td>\n      <td>En desacuerdo</td>\n      <td>En desacuerdo</td>\n      <td>En desacuerdo</td>\n      <td>En desacuerdo</td>\n      <td>En desacuerdo</td>\n      <td>En desacuerdo</td>\n      <td>NaN</td>\n    </tr>\n    <tr>\n      <th>4</th>\n      <td>8</td>\n      <td>Encuesta docentes</td>\n      <td>18/04</td>\n      <td>Sí</td>\n      <td>206</td>\n      <td>Cédula de ciudadanía</td>\n      <td>1110495748</td>\n      <td>pipe.edufisica@gmail.com</td>\n      <td>32.0</td>\n      <td>Masculino</td>\n      <td>...</td>\n      <td>Totalmente en desacuerdo</td>\n      <td>Totalmente en desacuerdo</td>\n      <td>Totalmente en desacuerdo</td>\n      <td>Totalmente de acuerdo</td>\n      <td>Neutro</td>\n      <td>De acuerdo</td>\n      <td>En desacuerdo</td>\n      <td>En desacuerdo</td>\n      <td>De acuerdo</td>\n      <td>NaN</td>\n    </tr>\n    <tr>\n      <th>...</th>\n      <td>...</td>\n      <td>...</td>\n      <td>...</td>\n      <td>...</td>\n      <td>...</td>\n      <td>...</td>\n      <td>...</td>\n      <td>...</td>\n      <td>...</td>\n      <td>...</td>\n      <td>...</td>\n      <td>...</td>\n      <td>...</td>\n      <td>...</td>\n      <td>...</td>\n      <td>...</td>\n      <td>...</td>\n      <td>...</td>\n      <td>...</td>\n      <td>...</td>\n      <td>...</td>\n    </tr>\n    <tr>\n      <th>6635</th>\n      <td>6888</td>\n      <td>Encuesta docentes</td>\n      <td>06/06</td>\n      <td>Sí</td>\n      <td>125</td>\n      <td>Cédula de ciudadanía</td>\n      <td>73572371</td>\n      <td>fernandovitola@antonioramoslasalle.edu.co</td>\n      <td>46.0</td>\n      <td>Masculino</td>\n      <td>...</td>\n      <td>Totalmente de acuerdo</td>\n      <td>Totalmente en desacuerdo</td>\n      <td>Totalmente en desacuerdo</td>\n      <td>De acuerdo</td>\n      <td>De acuerdo</td>\n      <td>Totalmente de acuerdo</td>\n      <td>Totalmente de acuerdo</td>\n      <td>Totalmente de acuerdo</td>\n      <td>Totalmente en desacuerdo</td>\n      <td>Creo que tanto hombres como mujeres pueden ten...</td>\n    </tr>\n    <tr>\n      <th>6636</th>\n      <td>6889</td>\n      <td>Encuesta docentes</td>\n      <td>06/06</td>\n      <td>Sí</td>\n      <td>123</td>\n      <td>Cédula de extranjería</td>\n      <td>1047365297</td>\n      <td>madiarr@hotmail.com</td>\n      <td>32.0</td>\n      <td>Femenino</td>\n      <td>...</td>\n      <td>Totalmente en desacuerdo</td>\n      <td>Totalmente en desacuerdo</td>\n      <td>Totalmente en desacuerdo</td>\n      <td>Totalmente en desacuerdo</td>\n      <td>Totalmente en desacuerdo</td>\n      <td>Totalmente en desacuerdo</td>\n      <td>Totalmente en desacuerdo</td>\n      <td>Totalmente en desacuerdo</td>\n      <td>Totalmente en desacuerdo</td>\n      <td>NaN</td>\n    </tr>\n    <tr>\n      <th>6637</th>\n      <td>6890</td>\n      <td>Encuesta docentes</td>\n      <td>06/06</td>\n      <td>Sí</td>\n      <td>37</td>\n      <td>Cédula de ciudadanía</td>\n      <td>77036870</td>\n      <td>ieleonidasacuna@gmail.com</td>\n      <td>54.0</td>\n      <td>Masculino</td>\n      <td>...</td>\n      <td>Neutro</td>\n      <td>Neutro</td>\n      <td>Neutro</td>\n      <td>Neutro</td>\n      <td>Neutro</td>\n      <td>Neutro</td>\n      <td>Neutro</td>\n      <td>Neutro</td>\n      <td>Neutro</td>\n      <td>NaN</td>\n    </tr>\n    <tr>\n      <th>6638</th>\n      <td>6891</td>\n      <td>Encuesta docentes</td>\n      <td>06/06</td>\n      <td>Sí</td>\n      <td>33</td>\n      <td>Cédula de ciudadanía</td>\n      <td>93395426</td>\n      <td>nabuitrago@hotmail.com</td>\n      <td>47.0</td>\n      <td>Masculino</td>\n      <td>...</td>\n      <td>Totalmente en desacuerdo</td>\n      <td>Totalmente en desacuerdo</td>\n      <td>Totalmente en desacuerdo</td>\n      <td>Neutro</td>\n      <td>Totalmente en desacuerdo</td>\n      <td>Neutro</td>\n      <td>Neutro</td>\n      <td>Neutro</td>\n      <td>Totalmente en desacuerdo</td>\n      <td>NaN</td>\n    </tr>\n    <tr>\n      <th>6639</th>\n      <td>6892</td>\n      <td>Encuesta docentes</td>\n      <td>06/06</td>\n      <td>Sí</td>\n      <td>37</td>\n      <td>Cédula de ciudadanía</td>\n      <td>42494164</td>\n      <td>ieleonidasacuna@gmail.com</td>\n      <td>67.0</td>\n      <td>Femenino</td>\n      <td>...</td>\n      <td>Neutro</td>\n      <td>Neutro</td>\n      <td>Neutro</td>\n      <td>Neutro</td>\n      <td>Neutro</td>\n      <td>Neutro</td>\n      <td>Neutro</td>\n      <td>Neutro</td>\n      <td>Neutro</td>\n      <td>NaN</td>\n    </tr>\n  </tbody>\n</table>\n<p>6640 rows × 91 columns</p>\n</div>"
     },
     "execution_count": 78,
     "metadata": {},
     "output_type": "execute_result"
    }
   ],
   "source": [
    "columnas_no_conoce_pc = doc.filter(regex=r'^1.|^2.', axis=1).columns.tolist()\n",
    "columnas_institucion = doc.filter(regex=r'^3.',axis=1).columns.tolist()\n",
    "\n",
    "doc[columnas_no_conoce_pc] = doc[columnas_no_conoce_pc].fillna('Totalmente en Desacuerdo')\n",
    "doc[columnas_institucion] = doc[columnas_institucion].fillna(\"Neutro\")\n",
    "doc"
   ],
   "metadata": {
    "collapsed": false,
    "pycharm": {
     "name": "#%%\n"
    }
   }
  },
  {
   "cell_type": "code",
   "execution_count": 92,
   "outputs": [
    {
     "data": {
      "text/plain": "      N registro        Instrumento  Fecha Política de datos  Código IE  \\\n0              4  Encuesta docentes  18/04                Sí        206   \n1              5  Encuesta docentes  18/04                Sí        206   \n2              6  Encuesta docentes  18/04                Sí        206   \n3              7  Encuesta docentes  18/04                Sí        206   \n4              8  Encuesta docentes  18/04                Sí        206   \n...          ...                ...    ...               ...        ...   \n6635        6888  Encuesta docentes  06/06                Sí        125   \n6636        6889  Encuesta docentes  06/06                Sí        123   \n6637        6890  Encuesta docentes  06/06                Sí         37   \n6638        6891  Encuesta docentes  06/06                Sí         33   \n6639        6892  Encuesta docentes  06/06                Sí         37   \n\n                    Tipo ID          ID  \\\n0      Cédula de ciudadanía     5828243   \n1      Cédula de ciudadanía    93377927   \n2      Cédula de ciudadanía    38363769   \n3      Cédula de ciudadanía     5827991   \n4      Cédula de ciudadanía  1110495748   \n...                     ...         ...   \n6635   Cédula de ciudadanía    73572371   \n6636  Cédula de extranjería  1047365297   \n6637   Cédula de ciudadanía    77036870   \n6638   Cédula de ciudadanía    93395426   \n6639   Cédula de ciudadanía    42494164   \n\n                                          Email  Edad       Sexo  ...  \\\n0                     Mosquera.fabio@gmail.com   40.0  Masculino  ...   \n1                              nixong@yahoo.com  52.0  Masculino  ...   \n2                   ivonne.saavedrab@nep.edu.co  38.0   Femenino  ...   \n3               javierlunarodriguez@hotmail.com  42.0  Masculino  ...   \n4                      pipe.edufisica@gmail.com  32.0  Masculino  ...   \n...                                         ...   ...        ...  ...   \n6635  fernandovitola@antonioramoslasalle.edu.co  46.0  Masculino  ...   \n6636                        madiarr@hotmail.com  32.0   Femenino  ...   \n6637                  ieleonidasacuna@gmail.com  54.0  Masculino  ...   \n6638                     nabuitrago@hotmail.com  47.0  Masculino  ...   \n6639                  ieleonidasacuna@gmail.com  67.0   Femenino  ...   \n\n     8.8 Que la mayoría de personas en artes y humanidades sean mujeres es muestra de su sensibilidad.  \\\n0                                                     3                                                  \n1                                                     1                                                  \n2                                                     1                                                  \n3                                                     2                                                  \n4                                                     1                                                  \n...                                                 ...                                                  \n6635                                                  5                                                  \n6636                                                  1                                                  \n6637                                                  3                                                  \n6638                                                  1                                                  \n6639                                                  3                                                  \n\n     8.9 Es natural que los hombres sean buenos para los números y las mujeres para las letras.  \\\n0                                                     3                                           \n1                                                     1                                           \n2                                                     1                                           \n3                                                     2                                           \n4                                                     1                                           \n...                                                 ...                                           \n6635                                                  1                                           \n6636                                                  1                                           \n6637                                                  3                                           \n6638                                                  1                                           \n6639                                                  3                                           \n\n     8.10 Los hombres son muy ágiles tomando decisiones importantes.  \\\n0                                                     3                \n1                                                     1                \n2                                                     1                \n3                                                     2                \n4                                                     1                \n...                                                 ...                \n6635                                                  1                \n6636                                                  1                \n6637                                                  3                \n6638                                                  1                \n6639                                                  3                \n\n     8.11 Las niñas son más ordenadas que los niños.  \\\n0                                                  3   \n1                                                  4   \n2                                                  1   \n3                                                  2   \n4                                                  5   \n...                                              ...   \n6635                                               4   \n6636                                               1   \n6637                                               3   \n6638                                               3   \n6639                                               3   \n\n     8.12 Muchas mujeres se caracterizan por una pureza que pocos hombres poseen.  \\\n0                                                     3                             \n1                                                     3                             \n2                                                     1                             \n3                                                     2                             \n4                                                     3                             \n...                                                 ...                             \n6635                                                  4                             \n6636                                                  1                             \n6637                                                  3                             \n6638                                                  1                             \n6639                                                  3                             \n\n     8.13 Las mujeres deben ser queridas y protegidas por los hombres.  \\\n0                                                     3                  \n1                                                     3                  \n2                                                     1                  \n3                                                     2                  \n4                                                     4                  \n...                                                 ...                  \n6635                                                  5                  \n6636                                                  1                  \n6637                                                  3                  \n6638                                                  3                  \n6639                                                  3                  \n\n     8.14 Todo hombre debe tener una mujer a quien amar.  \\\n0                                                     3    \n1                                                     1    \n2                                                     1    \n3                                                     2    \n4                                                     2    \n...                                                 ...    \n6635                                                  5    \n6636                                                  1    \n6637                                                  3    \n6638                                                  3    \n6639                                                  3    \n\n     8.15 El hombre está incompleto sin la mujer.  \\\n0                                               3   \n1                                               1   \n2                                               1   \n3                                               2   \n4                                               2   \n...                                           ...   \n6635                                            5   \n6636                                            1   \n6637                                            3   \n6638                                            3   \n6639                                            3   \n\n     8.16 Las mujeres en comparación con los hombres, tienden a tener un sentido más refinado de la cultura y el buen gusto.  \\\n0                                                     3                                                                        \n1                                                     1                                                                        \n2                                                     1                                                                        \n3                                                     2                                                                        \n4                                                     4                                                                        \n...                                                 ...                                                                        \n6635                                                  1                                                                        \n6636                                                  1                                                                        \n6637                                                  3                                                                        \n6638                                                  1                                                                        \n6639                                                  3                                                                        \n\n                                     Comentarios género  \n0                                               Ninguno  \n1                                                   NaN  \n2                                                   NaN  \n3                                                   NaN  \n4                                                   NaN  \n...                                                 ...  \n6635  Creo que tanto hombres como mujeres pueden ten...  \n6636                                                NaN  \n6637                                                NaN  \n6638                                                NaN  \n6639                                                NaN  \n\n[6640 rows x 91 columns]",
      "text/html": "<div>\n<style scoped>\n    .dataframe tbody tr th:only-of-type {\n        vertical-align: middle;\n    }\n\n    .dataframe tbody tr th {\n        vertical-align: top;\n    }\n\n    .dataframe thead th {\n        text-align: right;\n    }\n</style>\n<table border=\"1\" class=\"dataframe\">\n  <thead>\n    <tr style=\"text-align: right;\">\n      <th></th>\n      <th>N registro</th>\n      <th>Instrumento</th>\n      <th>Fecha</th>\n      <th>Política de datos</th>\n      <th>Código IE</th>\n      <th>Tipo ID</th>\n      <th>ID</th>\n      <th>Email</th>\n      <th>Edad</th>\n      <th>Sexo</th>\n      <th>...</th>\n      <th>8.8 Que la mayoría de personas en artes y humanidades sean mujeres es muestra de su sensibilidad.</th>\n      <th>8.9 Es natural que los hombres sean buenos para los números y las mujeres para las letras.</th>\n      <th>8.10 Los hombres son muy ágiles tomando decisiones importantes.</th>\n      <th>8.11 Las niñas son más ordenadas que los niños.</th>\n      <th>8.12 Muchas mujeres se caracterizan por una pureza que pocos hombres poseen.</th>\n      <th>8.13 Las mujeres deben ser queridas y protegidas por los hombres.</th>\n      <th>8.14 Todo hombre debe tener una mujer a quien amar.</th>\n      <th>8.15 El hombre está incompleto sin la mujer.</th>\n      <th>8.16 Las mujeres en comparación con los hombres, tienden a tener un sentido más refinado de la cultura y el buen gusto.</th>\n      <th>Comentarios género</th>\n    </tr>\n  </thead>\n  <tbody>\n    <tr>\n      <th>0</th>\n      <td>4</td>\n      <td>Encuesta docentes</td>\n      <td>18/04</td>\n      <td>Sí</td>\n      <td>206</td>\n      <td>Cédula de ciudadanía</td>\n      <td>5828243</td>\n      <td>Mosquera.fabio@gmail.com</td>\n      <td>40.0</td>\n      <td>Masculino</td>\n      <td>...</td>\n      <td>3</td>\n      <td>3</td>\n      <td>3</td>\n      <td>3</td>\n      <td>3</td>\n      <td>3</td>\n      <td>3</td>\n      <td>3</td>\n      <td>3</td>\n      <td>Ninguno</td>\n    </tr>\n    <tr>\n      <th>1</th>\n      <td>5</td>\n      <td>Encuesta docentes</td>\n      <td>18/04</td>\n      <td>Sí</td>\n      <td>206</td>\n      <td>Cédula de ciudadanía</td>\n      <td>93377927</td>\n      <td>nixong@yahoo.com</td>\n      <td>52.0</td>\n      <td>Masculino</td>\n      <td>...</td>\n      <td>1</td>\n      <td>1</td>\n      <td>1</td>\n      <td>4</td>\n      <td>3</td>\n      <td>3</td>\n      <td>1</td>\n      <td>1</td>\n      <td>1</td>\n      <td>NaN</td>\n    </tr>\n    <tr>\n      <th>2</th>\n      <td>6</td>\n      <td>Encuesta docentes</td>\n      <td>18/04</td>\n      <td>Sí</td>\n      <td>206</td>\n      <td>Cédula de ciudadanía</td>\n      <td>38363769</td>\n      <td>ivonne.saavedrab@nep.edu.co</td>\n      <td>38.0</td>\n      <td>Femenino</td>\n      <td>...</td>\n      <td>1</td>\n      <td>1</td>\n      <td>1</td>\n      <td>1</td>\n      <td>1</td>\n      <td>1</td>\n      <td>1</td>\n      <td>1</td>\n      <td>1</td>\n      <td>NaN</td>\n    </tr>\n    <tr>\n      <th>3</th>\n      <td>7</td>\n      <td>Encuesta docentes</td>\n      <td>18/04</td>\n      <td>Sí</td>\n      <td>206</td>\n      <td>Cédula de ciudadanía</td>\n      <td>5827991</td>\n      <td>javierlunarodriguez@hotmail.com</td>\n      <td>42.0</td>\n      <td>Masculino</td>\n      <td>...</td>\n      <td>2</td>\n      <td>2</td>\n      <td>2</td>\n      <td>2</td>\n      <td>2</td>\n      <td>2</td>\n      <td>2</td>\n      <td>2</td>\n      <td>2</td>\n      <td>NaN</td>\n    </tr>\n    <tr>\n      <th>4</th>\n      <td>8</td>\n      <td>Encuesta docentes</td>\n      <td>18/04</td>\n      <td>Sí</td>\n      <td>206</td>\n      <td>Cédula de ciudadanía</td>\n      <td>1110495748</td>\n      <td>pipe.edufisica@gmail.com</td>\n      <td>32.0</td>\n      <td>Masculino</td>\n      <td>...</td>\n      <td>1</td>\n      <td>1</td>\n      <td>1</td>\n      <td>5</td>\n      <td>3</td>\n      <td>4</td>\n      <td>2</td>\n      <td>2</td>\n      <td>4</td>\n      <td>NaN</td>\n    </tr>\n    <tr>\n      <th>...</th>\n      <td>...</td>\n      <td>...</td>\n      <td>...</td>\n      <td>...</td>\n      <td>...</td>\n      <td>...</td>\n      <td>...</td>\n      <td>...</td>\n      <td>...</td>\n      <td>...</td>\n      <td>...</td>\n      <td>...</td>\n      <td>...</td>\n      <td>...</td>\n      <td>...</td>\n      <td>...</td>\n      <td>...</td>\n      <td>...</td>\n      <td>...</td>\n      <td>...</td>\n      <td>...</td>\n    </tr>\n    <tr>\n      <th>6635</th>\n      <td>6888</td>\n      <td>Encuesta docentes</td>\n      <td>06/06</td>\n      <td>Sí</td>\n      <td>125</td>\n      <td>Cédula de ciudadanía</td>\n      <td>73572371</td>\n      <td>fernandovitola@antonioramoslasalle.edu.co</td>\n      <td>46.0</td>\n      <td>Masculino</td>\n      <td>...</td>\n      <td>5</td>\n      <td>1</td>\n      <td>1</td>\n      <td>4</td>\n      <td>4</td>\n      <td>5</td>\n      <td>5</td>\n      <td>5</td>\n      <td>1</td>\n      <td>Creo que tanto hombres como mujeres pueden ten...</td>\n    </tr>\n    <tr>\n      <th>6636</th>\n      <td>6889</td>\n      <td>Encuesta docentes</td>\n      <td>06/06</td>\n      <td>Sí</td>\n      <td>123</td>\n      <td>Cédula de extranjería</td>\n      <td>1047365297</td>\n      <td>madiarr@hotmail.com</td>\n      <td>32.0</td>\n      <td>Femenino</td>\n      <td>...</td>\n      <td>1</td>\n      <td>1</td>\n      <td>1</td>\n      <td>1</td>\n      <td>1</td>\n      <td>1</td>\n      <td>1</td>\n      <td>1</td>\n      <td>1</td>\n      <td>NaN</td>\n    </tr>\n    <tr>\n      <th>6637</th>\n      <td>6890</td>\n      <td>Encuesta docentes</td>\n      <td>06/06</td>\n      <td>Sí</td>\n      <td>37</td>\n      <td>Cédula de ciudadanía</td>\n      <td>77036870</td>\n      <td>ieleonidasacuna@gmail.com</td>\n      <td>54.0</td>\n      <td>Masculino</td>\n      <td>...</td>\n      <td>3</td>\n      <td>3</td>\n      <td>3</td>\n      <td>3</td>\n      <td>3</td>\n      <td>3</td>\n      <td>3</td>\n      <td>3</td>\n      <td>3</td>\n      <td>NaN</td>\n    </tr>\n    <tr>\n      <th>6638</th>\n      <td>6891</td>\n      <td>Encuesta docentes</td>\n      <td>06/06</td>\n      <td>Sí</td>\n      <td>33</td>\n      <td>Cédula de ciudadanía</td>\n      <td>93395426</td>\n      <td>nabuitrago@hotmail.com</td>\n      <td>47.0</td>\n      <td>Masculino</td>\n      <td>...</td>\n      <td>1</td>\n      <td>1</td>\n      <td>1</td>\n      <td>3</td>\n      <td>1</td>\n      <td>3</td>\n      <td>3</td>\n      <td>3</td>\n      <td>1</td>\n      <td>NaN</td>\n    </tr>\n    <tr>\n      <th>6639</th>\n      <td>6892</td>\n      <td>Encuesta docentes</td>\n      <td>06/06</td>\n      <td>Sí</td>\n      <td>37</td>\n      <td>Cédula de ciudadanía</td>\n      <td>42494164</td>\n      <td>ieleonidasacuna@gmail.com</td>\n      <td>67.0</td>\n      <td>Femenino</td>\n      <td>...</td>\n      <td>3</td>\n      <td>3</td>\n      <td>3</td>\n      <td>3</td>\n      <td>3</td>\n      <td>3</td>\n      <td>3</td>\n      <td>3</td>\n      <td>3</td>\n      <td>NaN</td>\n    </tr>\n  </tbody>\n</table>\n<p>6640 rows × 91 columns</p>\n</div>"
     },
     "execution_count": 92,
     "metadata": {},
     "output_type": "execute_result"
    }
   ],
   "source": [
    "doc[col_genero+col_autoeficacia_PC+col_autoeficacia_tec+col_sentido_com+col_apoyo_inst+col_frust_inst] = doc[col_genero+col_autoeficacia_PC+col_autoeficacia_tec+col_sentido_com+col_apoyo_inst+col_frust_inst].replace(de_acuerdo)\n",
    "doc[col_practicas_ped+col_practicas_eval] = doc[col_practicas_ped+col_practicas_eval].replace(no_sabe_conoce)\n",
    "doc"
   ],
   "metadata": {
    "collapsed": false,
    "pycharm": {
     "name": "#%%\n"
    }
   }
  },
  {
   "cell_type": "code",
   "execution_count": 93,
   "outputs": [
    {
     "data": {
      "text/plain": "               ID                              Pregunta  \\\n0         5828243                      Un algoritmo es:   \n1        93377927                      Un algoritmo es:   \n2        38363769                      Un algoritmo es:   \n3         5827991                      Un algoritmo es:   \n4      1110495748                      Un algoritmo es:   \n...           ...                                   ...   \n33195    73572371  ¿Cuál es el error conceptual de Ana?   \n33196  1047365297  ¿Cuál es el error conceptual de Ana?   \n33197    77036870  ¿Cuál es el error conceptual de Ana?   \n33198    93395426  ¿Cuál es el error conceptual de Ana?   \n33199    42494164  ¿Cuál es el error conceptual de Ana?   \n\n                                               Respuesta  \\\n0      Una secuencia lógica de pasos para realizar un...   \n1                                   No sé/ No lo conozco   \n2                                   No sé/ No lo conozco   \n3      Una secuencia lógica de pasos para realizar un...   \n4      Una secuencia lógica de pasos para realizar un...   \n...                                                  ...   \n33195  No tiene claro el concepto de bucle y por eso ...   \n33196  No tiene claro el concepto de bucle y por eso ...   \n33197                               No sé/ No lo conozco   \n33198                               No sé/ No lo conozco   \n33199                               No sé/ No lo conozco   \n\n                                      Respuesta correcta  Correcta  \n0      Una secuencia lógica de pasos para realizar un...         1  \n1      Una secuencia lógica de pasos para realizar un...         0  \n2      Una secuencia lógica de pasos para realizar un...         0  \n3      Una secuencia lógica de pasos para realizar un...         1  \n4      Una secuencia lógica de pasos para realizar un...         1  \n...                                                  ...       ...  \n33195  No tiene claro el concepto de bucle y por eso ...         1  \n33196  No tiene claro el concepto de bucle y por eso ...         1  \n33197  No tiene claro el concepto de bucle y por eso ...         0  \n33198  No tiene claro el concepto de bucle y por eso ...         0  \n33199  No tiene claro el concepto de bucle y por eso ...         0  \n\n[33200 rows x 5 columns]",
      "text/html": "<div>\n<style scoped>\n    .dataframe tbody tr th:only-of-type {\n        vertical-align: middle;\n    }\n\n    .dataframe tbody tr th {\n        vertical-align: top;\n    }\n\n    .dataframe thead th {\n        text-align: right;\n    }\n</style>\n<table border=\"1\" class=\"dataframe\">\n  <thead>\n    <tr style=\"text-align: right;\">\n      <th></th>\n      <th>ID</th>\n      <th>Pregunta</th>\n      <th>Respuesta</th>\n      <th>Respuesta correcta</th>\n      <th>Correcta</th>\n    </tr>\n  </thead>\n  <tbody>\n    <tr>\n      <th>0</th>\n      <td>5828243</td>\n      <td>Un algoritmo es:</td>\n      <td>Una secuencia lógica de pasos para realizar un...</td>\n      <td>Una secuencia lógica de pasos para realizar un...</td>\n      <td>1</td>\n    </tr>\n    <tr>\n      <th>1</th>\n      <td>93377927</td>\n      <td>Un algoritmo es:</td>\n      <td>No sé/ No lo conozco</td>\n      <td>Una secuencia lógica de pasos para realizar un...</td>\n      <td>0</td>\n    </tr>\n    <tr>\n      <th>2</th>\n      <td>38363769</td>\n      <td>Un algoritmo es:</td>\n      <td>No sé/ No lo conozco</td>\n      <td>Una secuencia lógica de pasos para realizar un...</td>\n      <td>0</td>\n    </tr>\n    <tr>\n      <th>3</th>\n      <td>5827991</td>\n      <td>Un algoritmo es:</td>\n      <td>Una secuencia lógica de pasos para realizar un...</td>\n      <td>Una secuencia lógica de pasos para realizar un...</td>\n      <td>1</td>\n    </tr>\n    <tr>\n      <th>4</th>\n      <td>1110495748</td>\n      <td>Un algoritmo es:</td>\n      <td>Una secuencia lógica de pasos para realizar un...</td>\n      <td>Una secuencia lógica de pasos para realizar un...</td>\n      <td>1</td>\n    </tr>\n    <tr>\n      <th>...</th>\n      <td>...</td>\n      <td>...</td>\n      <td>...</td>\n      <td>...</td>\n      <td>...</td>\n    </tr>\n    <tr>\n      <th>33195</th>\n      <td>73572371</td>\n      <td>¿Cuál es el error conceptual de Ana?</td>\n      <td>No tiene claro el concepto de bucle y por eso ...</td>\n      <td>No tiene claro el concepto de bucle y por eso ...</td>\n      <td>1</td>\n    </tr>\n    <tr>\n      <th>33196</th>\n      <td>1047365297</td>\n      <td>¿Cuál es el error conceptual de Ana?</td>\n      <td>No tiene claro el concepto de bucle y por eso ...</td>\n      <td>No tiene claro el concepto de bucle y por eso ...</td>\n      <td>1</td>\n    </tr>\n    <tr>\n      <th>33197</th>\n      <td>77036870</td>\n      <td>¿Cuál es el error conceptual de Ana?</td>\n      <td>No sé/ No lo conozco</td>\n      <td>No tiene claro el concepto de bucle y por eso ...</td>\n      <td>0</td>\n    </tr>\n    <tr>\n      <th>33198</th>\n      <td>93395426</td>\n      <td>¿Cuál es el error conceptual de Ana?</td>\n      <td>No sé/ No lo conozco</td>\n      <td>No tiene claro el concepto de bucle y por eso ...</td>\n      <td>0</td>\n    </tr>\n    <tr>\n      <th>33199</th>\n      <td>42494164</td>\n      <td>¿Cuál es el error conceptual de Ana?</td>\n      <td>No sé/ No lo conozco</td>\n      <td>No tiene claro el concepto de bucle y por eso ...</td>\n      <td>0</td>\n    </tr>\n  </tbody>\n</table>\n<p>33200 rows × 5 columns</p>\n</div>"
     },
     "execution_count": 93,
     "metadata": {},
     "output_type": "execute_result"
    }
   ],
   "source": [
    "doc_conocimientos = doc[['ID']+col_conocimiento].melt(id_vars='ID', value_name='Respuesta', var_name='Pregunta')\n",
    "doc_conocimientos['Respuesta correcta'] = doc_conocimientos['Pregunta'].replace(respuestas_correctas)\n",
    "doc_conocimientos['Correcta'] = 1*(doc_conocimientos['Respuesta'] == doc_conocimientos['Respuesta correcta'])\n",
    "doc_conocimientos"
   ],
   "metadata": {
    "collapsed": false,
    "pycharm": {
     "name": "#%%\n"
    }
   }
  },
  {
   "cell_type": "code",
   "execution_count": 94,
   "outputs": [
    {
     "data": {
      "text/plain": "Pregunta          ID  Un algoritmo es:  Un bucle es:  \\\n0            1007328                 1             1   \n1            1628643                 1             0   \n2            1632813                 1             0   \n3            1674678                 1             1   \n4            1963203                 0             0   \n...              ...               ...           ...   \n6551      1193544128                 1             1   \n6552      1233194106                 1             0   \n6553      1233343276                 1             1   \n6554      1234198588                 1             0   \n6555      2088303685                 1             1   \n\nPregunta  ¿Cuál es el error conceptual de Ana?  \\\n0                                            0   \n1                                            0   \n2                                            0   \n3                                            0   \n4                                            0   \n...                                        ...   \n6551                                         0   \n6552                                         0   \n6553                                         1   \n6554                                         0   \n6555                                         1   \n\nPregunta  ¿Cuál es el error conceptual de Tim?  \\\n0                                            0   \n1                                            0   \n2                                            0   \n3                                            0   \n4                                            0   \n...                                        ...   \n6551                                         1   \n6552                                         0   \n6553                                         0   \n6554                                         1   \n6555                                         1   \n\nPregunta  ¿Para qué sirven los algoritmos?  \n0                                        0  \n1                                        1  \n2                                        1  \n3                                        1  \n4                                        1  \n...                                    ...  \n6551                                     1  \n6552                                     0  \n6553                                     1  \n6554                                     0  \n6555                                     0  \n\n[6556 rows x 6 columns]",
      "text/html": "<div>\n<style scoped>\n    .dataframe tbody tr th:only-of-type {\n        vertical-align: middle;\n    }\n\n    .dataframe tbody tr th {\n        vertical-align: top;\n    }\n\n    .dataframe thead th {\n        text-align: right;\n    }\n</style>\n<table border=\"1\" class=\"dataframe\">\n  <thead>\n    <tr style=\"text-align: right;\">\n      <th>Pregunta</th>\n      <th>ID</th>\n      <th>Un algoritmo es:</th>\n      <th>Un bucle es:</th>\n      <th>¿Cuál es el error conceptual de Ana?</th>\n      <th>¿Cuál es el error conceptual de Tim?</th>\n      <th>¿Para qué sirven los algoritmos?</th>\n    </tr>\n  </thead>\n  <tbody>\n    <tr>\n      <th>0</th>\n      <td>1007328</td>\n      <td>1</td>\n      <td>1</td>\n      <td>0</td>\n      <td>0</td>\n      <td>0</td>\n    </tr>\n    <tr>\n      <th>1</th>\n      <td>1628643</td>\n      <td>1</td>\n      <td>0</td>\n      <td>0</td>\n      <td>0</td>\n      <td>1</td>\n    </tr>\n    <tr>\n      <th>2</th>\n      <td>1632813</td>\n      <td>1</td>\n      <td>0</td>\n      <td>0</td>\n      <td>0</td>\n      <td>1</td>\n    </tr>\n    <tr>\n      <th>3</th>\n      <td>1674678</td>\n      <td>1</td>\n      <td>1</td>\n      <td>0</td>\n      <td>0</td>\n      <td>1</td>\n    </tr>\n    <tr>\n      <th>4</th>\n      <td>1963203</td>\n      <td>0</td>\n      <td>0</td>\n      <td>0</td>\n      <td>0</td>\n      <td>1</td>\n    </tr>\n    <tr>\n      <th>...</th>\n      <td>...</td>\n      <td>...</td>\n      <td>...</td>\n      <td>...</td>\n      <td>...</td>\n      <td>...</td>\n    </tr>\n    <tr>\n      <th>6551</th>\n      <td>1193544128</td>\n      <td>1</td>\n      <td>1</td>\n      <td>0</td>\n      <td>1</td>\n      <td>1</td>\n    </tr>\n    <tr>\n      <th>6552</th>\n      <td>1233194106</td>\n      <td>1</td>\n      <td>0</td>\n      <td>0</td>\n      <td>0</td>\n      <td>0</td>\n    </tr>\n    <tr>\n      <th>6553</th>\n      <td>1233343276</td>\n      <td>1</td>\n      <td>1</td>\n      <td>1</td>\n      <td>0</td>\n      <td>1</td>\n    </tr>\n    <tr>\n      <th>6554</th>\n      <td>1234198588</td>\n      <td>1</td>\n      <td>0</td>\n      <td>0</td>\n      <td>1</td>\n      <td>0</td>\n    </tr>\n    <tr>\n      <th>6555</th>\n      <td>2088303685</td>\n      <td>1</td>\n      <td>1</td>\n      <td>1</td>\n      <td>1</td>\n      <td>0</td>\n    </tr>\n  </tbody>\n</table>\n<p>6556 rows × 6 columns</p>\n</div>"
     },
     "execution_count": 94,
     "metadata": {},
     "output_type": "execute_result"
    }
   ],
   "source": [
    "doc_cono_pivot = doc_conocimientos.pivot_table(index='ID', columns='Pregunta', values='Correcta', aggfunc='max').reset_index()\n",
    "doc_cono_pivot"
   ],
   "metadata": {
    "collapsed": false,
    "pycharm": {
     "name": "#%%\n"
    }
   }
  },
  {
   "cell_type": "code",
   "execution_count": 95,
   "outputs": [
    {
     "data": {
      "text/plain": "      N registro        Instrumento  Fecha Política de datos  Código IE  \\\n0              4  Encuesta docentes  18/04                Sí        206   \n1              5  Encuesta docentes  18/04                Sí        206   \n2              6  Encuesta docentes  18/04                Sí        206   \n3              7  Encuesta docentes  18/04                Sí        206   \n4              8  Encuesta docentes  18/04                Sí        206   \n...          ...                ...    ...               ...        ...   \n6635        6888  Encuesta docentes  06/06                Sí        125   \n6636        6889  Encuesta docentes  06/06                Sí        123   \n6637        6890  Encuesta docentes  06/06                Sí         37   \n6638        6891  Encuesta docentes  06/06                Sí         33   \n6639        6892  Encuesta docentes  06/06                Sí         37   \n\n                    Tipo ID          ID  \\\n0      Cédula de ciudadanía     5828243   \n1      Cédula de ciudadanía    93377927   \n2      Cédula de ciudadanía    38363769   \n3      Cédula de ciudadanía     5827991   \n4      Cédula de ciudadanía  1110495748   \n...                     ...         ...   \n6635   Cédula de ciudadanía    73572371   \n6636  Cédula de extranjería  1047365297   \n6637   Cédula de ciudadanía    77036870   \n6638   Cédula de ciudadanía    93395426   \n6639   Cédula de ciudadanía    42494164   \n\n                                          Email  Edad       Sexo  ...  \\\n0                     Mosquera.fabio@gmail.com   40.0  Masculino  ...   \n1                              nixong@yahoo.com  52.0  Masculino  ...   \n2                   ivonne.saavedrab@nep.edu.co  38.0   Femenino  ...   \n3               javierlunarodriguez@hotmail.com  42.0  Masculino  ...   \n4                      pipe.edufisica@gmail.com  32.0  Masculino  ...   \n...                                         ...   ...        ...  ...   \n6635  fernandovitola@antonioramoslasalle.edu.co  46.0  Masculino  ...   \n6636                        madiarr@hotmail.com  32.0   Femenino  ...   \n6637                  ieleonidasacuna@gmail.com  54.0  Masculino  ...   \n6638                     nabuitrago@hotmail.com  47.0  Masculino  ...   \n6639                  ieleonidasacuna@gmail.com  67.0   Femenino  ...   \n\n     8.13 Las mujeres deben ser queridas y protegidas por los hombres.  \\\n0                                                     3                  \n1                                                     3                  \n2                                                     1                  \n3                                                     2                  \n4                                                     4                  \n...                                                 ...                  \n6635                                                  5                  \n6636                                                  1                  \n6637                                                  3                  \n6638                                                  3                  \n6639                                                  3                  \n\n     8.14 Todo hombre debe tener una mujer a quien amar.  \\\n0                                                     3    \n1                                                     1    \n2                                                     1    \n3                                                     2    \n4                                                     2    \n...                                                 ...    \n6635                                                  5    \n6636                                                  1    \n6637                                                  3    \n6638                                                  3    \n6639                                                  3    \n\n     8.15 El hombre está incompleto sin la mujer.  \\\n0                                               3   \n1                                               1   \n2                                               1   \n3                                               2   \n4                                               2   \n...                                           ...   \n6635                                            5   \n6636                                            1   \n6637                                            3   \n6638                                            3   \n6639                                            3   \n\n     8.16 Las mujeres en comparación con los hombres, tienden a tener un sentido más refinado de la cultura y el buen gusto.  \\\n0                                                     3                                                                        \n1                                                     1                                                                        \n2                                                     1                                                                        \n3                                                     2                                                                        \n4                                                     4                                                                        \n...                                                 ...                                                                        \n6635                                                  1                                                                        \n6636                                                  1                                                                        \n6637                                                  3                                                                        \n6638                                                  1                                                                        \n6639                                                  3                                                                        \n\n                                     Comentarios género Un algoritmo es:  \\\n0                                               Ninguno                1   \n1                                                   NaN                0   \n2                                                   NaN                0   \n3                                                   NaN                1   \n4                                                   NaN                1   \n...                                                 ...              ...   \n6635  Creo que tanto hombres como mujeres pueden ten...                1   \n6636                                                NaN                1   \n6637                                                NaN                0   \n6638                                                NaN                1   \n6639                                                NaN                0   \n\n     Un bucle es: ¿Cuál es el error conceptual de Ana?  \\\n0               0                                    0   \n1               0                                    0   \n2               0                                    0   \n3               0                                    0   \n4               0                                    0   \n...           ...                                  ...   \n6635            1                                    1   \n6636            0                                    1   \n6637            0                                    0   \n6638            0                                    0   \n6639            0                                    0   \n\n     ¿Cuál es el error conceptual de Tim? ¿Para qué sirven los algoritmos?  \n0                                       0                                1  \n1                                       0                                0  \n2                                       0                                0  \n3                                       0                                0  \n4                                       0                                1  \n...                                   ...                              ...  \n6635                                    1                                1  \n6636                                    0                                1  \n6637                                    0                                0  \n6638                                    0                                1  \n6639                                    0                                0  \n\n[6640 rows x 91 columns]",
      "text/html": "<div>\n<style scoped>\n    .dataframe tbody tr th:only-of-type {\n        vertical-align: middle;\n    }\n\n    .dataframe tbody tr th {\n        vertical-align: top;\n    }\n\n    .dataframe thead th {\n        text-align: right;\n    }\n</style>\n<table border=\"1\" class=\"dataframe\">\n  <thead>\n    <tr style=\"text-align: right;\">\n      <th></th>\n      <th>N registro</th>\n      <th>Instrumento</th>\n      <th>Fecha</th>\n      <th>Política de datos</th>\n      <th>Código IE</th>\n      <th>Tipo ID</th>\n      <th>ID</th>\n      <th>Email</th>\n      <th>Edad</th>\n      <th>Sexo</th>\n      <th>...</th>\n      <th>8.13 Las mujeres deben ser queridas y protegidas por los hombres.</th>\n      <th>8.14 Todo hombre debe tener una mujer a quien amar.</th>\n      <th>8.15 El hombre está incompleto sin la mujer.</th>\n      <th>8.16 Las mujeres en comparación con los hombres, tienden a tener un sentido más refinado de la cultura y el buen gusto.</th>\n      <th>Comentarios género</th>\n      <th>Un algoritmo es:</th>\n      <th>Un bucle es:</th>\n      <th>¿Cuál es el error conceptual de Ana?</th>\n      <th>¿Cuál es el error conceptual de Tim?</th>\n      <th>¿Para qué sirven los algoritmos?</th>\n    </tr>\n  </thead>\n  <tbody>\n    <tr>\n      <th>0</th>\n      <td>4</td>\n      <td>Encuesta docentes</td>\n      <td>18/04</td>\n      <td>Sí</td>\n      <td>206</td>\n      <td>Cédula de ciudadanía</td>\n      <td>5828243</td>\n      <td>Mosquera.fabio@gmail.com</td>\n      <td>40.0</td>\n      <td>Masculino</td>\n      <td>...</td>\n      <td>3</td>\n      <td>3</td>\n      <td>3</td>\n      <td>3</td>\n      <td>Ninguno</td>\n      <td>1</td>\n      <td>0</td>\n      <td>0</td>\n      <td>0</td>\n      <td>1</td>\n    </tr>\n    <tr>\n      <th>1</th>\n      <td>5</td>\n      <td>Encuesta docentes</td>\n      <td>18/04</td>\n      <td>Sí</td>\n      <td>206</td>\n      <td>Cédula de ciudadanía</td>\n      <td>93377927</td>\n      <td>nixong@yahoo.com</td>\n      <td>52.0</td>\n      <td>Masculino</td>\n      <td>...</td>\n      <td>3</td>\n      <td>1</td>\n      <td>1</td>\n      <td>1</td>\n      <td>NaN</td>\n      <td>0</td>\n      <td>0</td>\n      <td>0</td>\n      <td>0</td>\n      <td>0</td>\n    </tr>\n    <tr>\n      <th>2</th>\n      <td>6</td>\n      <td>Encuesta docentes</td>\n      <td>18/04</td>\n      <td>Sí</td>\n      <td>206</td>\n      <td>Cédula de ciudadanía</td>\n      <td>38363769</td>\n      <td>ivonne.saavedrab@nep.edu.co</td>\n      <td>38.0</td>\n      <td>Femenino</td>\n      <td>...</td>\n      <td>1</td>\n      <td>1</td>\n      <td>1</td>\n      <td>1</td>\n      <td>NaN</td>\n      <td>0</td>\n      <td>0</td>\n      <td>0</td>\n      <td>0</td>\n      <td>0</td>\n    </tr>\n    <tr>\n      <th>3</th>\n      <td>7</td>\n      <td>Encuesta docentes</td>\n      <td>18/04</td>\n      <td>Sí</td>\n      <td>206</td>\n      <td>Cédula de ciudadanía</td>\n      <td>5827991</td>\n      <td>javierlunarodriguez@hotmail.com</td>\n      <td>42.0</td>\n      <td>Masculino</td>\n      <td>...</td>\n      <td>2</td>\n      <td>2</td>\n      <td>2</td>\n      <td>2</td>\n      <td>NaN</td>\n      <td>1</td>\n      <td>0</td>\n      <td>0</td>\n      <td>0</td>\n      <td>0</td>\n    </tr>\n    <tr>\n      <th>4</th>\n      <td>8</td>\n      <td>Encuesta docentes</td>\n      <td>18/04</td>\n      <td>Sí</td>\n      <td>206</td>\n      <td>Cédula de ciudadanía</td>\n      <td>1110495748</td>\n      <td>pipe.edufisica@gmail.com</td>\n      <td>32.0</td>\n      <td>Masculino</td>\n      <td>...</td>\n      <td>4</td>\n      <td>2</td>\n      <td>2</td>\n      <td>4</td>\n      <td>NaN</td>\n      <td>1</td>\n      <td>0</td>\n      <td>0</td>\n      <td>0</td>\n      <td>1</td>\n    </tr>\n    <tr>\n      <th>...</th>\n      <td>...</td>\n      <td>...</td>\n      <td>...</td>\n      <td>...</td>\n      <td>...</td>\n      <td>...</td>\n      <td>...</td>\n      <td>...</td>\n      <td>...</td>\n      <td>...</td>\n      <td>...</td>\n      <td>...</td>\n      <td>...</td>\n      <td>...</td>\n      <td>...</td>\n      <td>...</td>\n      <td>...</td>\n      <td>...</td>\n      <td>...</td>\n      <td>...</td>\n      <td>...</td>\n    </tr>\n    <tr>\n      <th>6635</th>\n      <td>6888</td>\n      <td>Encuesta docentes</td>\n      <td>06/06</td>\n      <td>Sí</td>\n      <td>125</td>\n      <td>Cédula de ciudadanía</td>\n      <td>73572371</td>\n      <td>fernandovitola@antonioramoslasalle.edu.co</td>\n      <td>46.0</td>\n      <td>Masculino</td>\n      <td>...</td>\n      <td>5</td>\n      <td>5</td>\n      <td>5</td>\n      <td>1</td>\n      <td>Creo que tanto hombres como mujeres pueden ten...</td>\n      <td>1</td>\n      <td>1</td>\n      <td>1</td>\n      <td>1</td>\n      <td>1</td>\n    </tr>\n    <tr>\n      <th>6636</th>\n      <td>6889</td>\n      <td>Encuesta docentes</td>\n      <td>06/06</td>\n      <td>Sí</td>\n      <td>123</td>\n      <td>Cédula de extranjería</td>\n      <td>1047365297</td>\n      <td>madiarr@hotmail.com</td>\n      <td>32.0</td>\n      <td>Femenino</td>\n      <td>...</td>\n      <td>1</td>\n      <td>1</td>\n      <td>1</td>\n      <td>1</td>\n      <td>NaN</td>\n      <td>1</td>\n      <td>0</td>\n      <td>1</td>\n      <td>0</td>\n      <td>1</td>\n    </tr>\n    <tr>\n      <th>6637</th>\n      <td>6890</td>\n      <td>Encuesta docentes</td>\n      <td>06/06</td>\n      <td>Sí</td>\n      <td>37</td>\n      <td>Cédula de ciudadanía</td>\n      <td>77036870</td>\n      <td>ieleonidasacuna@gmail.com</td>\n      <td>54.0</td>\n      <td>Masculino</td>\n      <td>...</td>\n      <td>3</td>\n      <td>3</td>\n      <td>3</td>\n      <td>3</td>\n      <td>NaN</td>\n      <td>0</td>\n      <td>0</td>\n      <td>0</td>\n      <td>0</td>\n      <td>0</td>\n    </tr>\n    <tr>\n      <th>6638</th>\n      <td>6891</td>\n      <td>Encuesta docentes</td>\n      <td>06/06</td>\n      <td>Sí</td>\n      <td>33</td>\n      <td>Cédula de ciudadanía</td>\n      <td>93395426</td>\n      <td>nabuitrago@hotmail.com</td>\n      <td>47.0</td>\n      <td>Masculino</td>\n      <td>...</td>\n      <td>3</td>\n      <td>3</td>\n      <td>3</td>\n      <td>1</td>\n      <td>NaN</td>\n      <td>1</td>\n      <td>0</td>\n      <td>0</td>\n      <td>0</td>\n      <td>1</td>\n    </tr>\n    <tr>\n      <th>6639</th>\n      <td>6892</td>\n      <td>Encuesta docentes</td>\n      <td>06/06</td>\n      <td>Sí</td>\n      <td>37</td>\n      <td>Cédula de ciudadanía</td>\n      <td>42494164</td>\n      <td>ieleonidasacuna@gmail.com</td>\n      <td>67.0</td>\n      <td>Femenino</td>\n      <td>...</td>\n      <td>3</td>\n      <td>3</td>\n      <td>3</td>\n      <td>3</td>\n      <td>NaN</td>\n      <td>0</td>\n      <td>0</td>\n      <td>0</td>\n      <td>0</td>\n      <td>0</td>\n    </tr>\n  </tbody>\n</table>\n<p>6640 rows × 91 columns</p>\n</div>"
     },
     "execution_count": 95,
     "metadata": {},
     "output_type": "execute_result"
    }
   ],
   "source": [
    "docentes = doc.drop(columns=col_conocimiento)\n",
    "docentes = pd.merge(docentes,doc_cono_pivot, on='ID' )\n",
    "docentes"
   ],
   "metadata": {
    "collapsed": false,
    "pycharm": {
     "name": "#%%\n"
    }
   }
  },
  {
   "cell_type": "code",
   "execution_count": 96,
   "outputs": [
    {
     "data": {
      "text/plain": "count    6640.000000\nmean        1.979669\nstd         1.321623\nmin         0.000000\n25%         1.000000\n50%         2.000000\n75%         3.000000\nmax         5.000000\ndtype: float64"
     },
     "execution_count": 96,
     "metadata": {},
     "output_type": "execute_result"
    }
   ],
   "source": [
    "resultados = docentes[col_conocimiento].sum(axis=1)\n",
    "media = resultados.mean()\n",
    "desv = resultados.std()\n",
    "resultados.describe()"
   ],
   "metadata": {
    "collapsed": false,
    "pycharm": {
     "name": "#%%\n"
    }
   }
  },
  {
   "cell_type": "code",
   "execution_count": 97,
   "outputs": [
    {
     "data": {
      "text/plain": "0       50.153836\n1       35.020926\n2       35.020926\n3       42.587381\n4       50.153836\n          ...    \n6635    72.853201\n6636    57.720291\n6637    35.020926\n6638    50.153836\n6639    35.020926\nName: conocimiento, Length: 6640, dtype: float64"
     },
     "execution_count": 97,
     "metadata": {},
     "output_type": "execute_result"
    }
   ],
   "source": [
    "docentes['conocimiento'] = 50+(10*(resultados - media)/desv)\n",
    "docentes['conocimiento']"
   ],
   "metadata": {
    "collapsed": false,
    "pycharm": {
     "name": "#%%\n"
    }
   }
  },
  {
   "cell_type": "code",
   "execution_count": 98,
   "outputs": [],
   "source": [
    "escalas_dict = {'apoyo':\n",
    "                    {'cols':col_apoyo_inst,\n",
    "                     'cargas':[0.776,0.773,0.798,0.827,0.671,0.502]},\n",
    "                'frustracion':\n",
    "                    {'cols':col_frust_inst,\n",
    "                'cargas':[0.499,0.749,0.736]},\n",
    "                'sexismoSTEM':{\n",
    "                    'cols':col_sexismo_stem,\n",
    "                    'cargas':[0.933,0.936,0.776,0.929,0.755,0.523,0.753]},\n",
    "                'sexismoBenev':{\n",
    "                    'cols':col_sexismo_ben,\n",
    "                    'cargas':[0.782,0.527,0.96,0.82,0.629]},\n",
    "                'estereoBenev':{\n",
    "                    'cols':col_estereotipo,\n",
    "                    'cargas':[0.824,0.892,0.825]},\n",
    "                'autoeficaciaPC':{\n",
    "                    'cols':col_autoeficacia_PC,\n",
    "                    'cargas':[0.807,0.767,0.839,0.881,0.820,0.840,0.892,0.912,0.912]},\n",
    "                'autoeficaciaTec':{\n",
    "                    'cols':col_autoeficacia_tec,\n",
    "                    'cargas':[0.689,0.501,0.887]},\n",
    "                'sentidoComunidad':{\n",
    "                    'cols':col_sentido_com,\n",
    "                    'cargas':[0.687,0.749,0.834,0.441]},\n",
    "}"
   ],
   "metadata": {
    "collapsed": false,
    "pycharm": {
     "name": "#%%\n"
    }
   }
  },
  {
   "cell_type": "code",
   "execution_count": 99,
   "outputs": [
    {
     "data": {
      "text/plain": "['8.13 Las mujeres deben ser queridas y protegidas por los hombres.',\n '8.14 Todo hombre debe tener una mujer a quien amar.',\n '8.15 El hombre está incompleto sin la mujer.']"
     },
     "execution_count": 99,
     "metadata": {},
     "output_type": "execute_result"
    }
   ],
   "source": [
    "col_estereotipo"
   ],
   "metadata": {
    "collapsed": false,
    "pycharm": {
     "name": "#%%\n"
    }
   }
  },
  {
   "cell_type": "code",
   "execution_count": 100,
   "outputs": [],
   "source": [
    "nombres_escalas = list(escalas_dict.keys())\n",
    "for k in nombres_escalas:\n",
    "    assert len(escalas_dict[k]['cols']) == len(escalas_dict[k]['cargas']), f'Hay un error en la longitud de {k}'\n",
    "    docentes[k] = 100*docentes[escalas_dict[k]['cols']].add(-1).multiply(escalas_dict[k]['cargas']).sum(axis=1)/(4*sum(escalas_dict[k]['cargas']))"
   ],
   "metadata": {
    "collapsed": false,
    "pycharm": {
     "name": "#%%\n"
    }
   }
  },
  {
   "cell_type": "code",
   "execution_count": 101,
   "outputs": [
    {
     "data": {
      "text/plain": "      N registro        Instrumento  Fecha Política de datos  Código IE  \\\n0              4  Encuesta docentes  18/04                Sí        206   \n1              5  Encuesta docentes  18/04                Sí        206   \n2              6  Encuesta docentes  18/04                Sí        206   \n3              7  Encuesta docentes  18/04                Sí        206   \n4              8  Encuesta docentes  18/04                Sí        206   \n...          ...                ...    ...               ...        ...   \n6635        6888  Encuesta docentes  06/06                Sí        125   \n6636        6889  Encuesta docentes  06/06                Sí        123   \n6637        6890  Encuesta docentes  06/06                Sí         37   \n6638        6891  Encuesta docentes  06/06                Sí         33   \n6639        6892  Encuesta docentes  06/06                Sí         37   \n\n                    Tipo ID          ID  \\\n0      Cédula de ciudadanía     5828243   \n1      Cédula de ciudadanía    93377927   \n2      Cédula de ciudadanía    38363769   \n3      Cédula de ciudadanía     5827991   \n4      Cédula de ciudadanía  1110495748   \n...                     ...         ...   \n6635   Cédula de ciudadanía    73572371   \n6636  Cédula de extranjería  1047365297   \n6637   Cédula de ciudadanía    77036870   \n6638   Cédula de ciudadanía    93395426   \n6639   Cédula de ciudadanía    42494164   \n\n                                          Email  Edad       Sexo  ...  \\\n0                     Mosquera.fabio@gmail.com   40.0  Masculino  ...   \n1                              nixong@yahoo.com  52.0  Masculino  ...   \n2                   ivonne.saavedrab@nep.edu.co  38.0   Femenino  ...   \n3               javierlunarodriguez@hotmail.com  42.0  Masculino  ...   \n4                      pipe.edufisica@gmail.com  32.0  Masculino  ...   \n...                                         ...   ...        ...  ...   \n6635  fernandovitola@antonioramoslasalle.edu.co  46.0  Masculino  ...   \n6636                        madiarr@hotmail.com  32.0   Femenino  ...   \n6637                  ieleonidasacuna@gmail.com  54.0  Masculino  ...   \n6638                     nabuitrago@hotmail.com  47.0  Masculino  ...   \n6639                  ieleonidasacuna@gmail.com  67.0   Femenino  ...   \n\n     8.16 Las mujeres en comparación con los hombres, tienden a tener un sentido más refinado de la cultura y el buen gusto.  \\\n0                                                     3                                                                        \n1                                                     1                                                                        \n2                                                     1                                                                        \n3                                                     2                                                                        \n4                                                     4                                                                        \n...                                                 ...                                                                        \n6635                                                  1                                                                        \n6636                                                  1                                                                        \n6637                                                  3                                                                        \n6638                                                  1                                                                        \n6639                                                  3                                                                        \n\n                                     Comentarios género      apoyo  \\\n0                                               Ninguno  50.000000   \n1                                                   NaN  36.507937   \n2                                                   NaN  46.572349   \n3                                                   NaN  25.000000   \n4                                                   NaN  59.029216   \n...                                                 ...        ...   \n6635  Creo que tanto hombres como mujeres pueden ten...  95.537152   \n6636                                                NaN  41.361859   \n6637                                                NaN  79.462848   \n6638                                                NaN  55.187486   \n6639                                                NaN  79.756154   \n\n     frustracion sexismoSTEM sexismoBenev estereoBenev autoeficaciaPC  \\\n0      50.000000   50.000000    50.000000    50.000000      61.290743   \n1      50.000000    0.000000    30.392684    16.214089      44.256845   \n2      34.438004    0.000000     0.000000     0.000000      47.294654   \n3      25.000000   25.000000    25.000000    25.000000      16.958931   \n4      47.013609    0.000000    49.536041    41.214089      38.784224   \n...          ...         ...          ...          ...            ...   \n6635   37.575605    2.332739    56.939215   100.000000     100.000000   \n6636   28.150202    0.000000     0.000000     0.000000     100.000000   \n6637   84.438004   50.000000    50.000000    50.000000      80.642112   \n6638   50.000000    4.665477    12.910167    50.000000      72.128422   \n6639   75.000000   50.000000    50.000000    50.000000      25.000000   \n\n     autoeficaciaTec sentidoComunidad  \n0          66.706789        64.597934  \n1          66.706789        62.799705  \n2          28.767453        55.763556  \n3           8.293211         6.335301  \n4          62.060664        60.531169  \n...              ...              ...  \n6635      100.000000        83.732940  \n6636      100.000000        78.052379  \n6637      100.000000        93.092955  \n6638      100.000000        50.000000  \n6639       64.323544        67.309111  \n\n[6640 rows x 99 columns]",
      "text/html": "<div>\n<style scoped>\n    .dataframe tbody tr th:only-of-type {\n        vertical-align: middle;\n    }\n\n    .dataframe tbody tr th {\n        vertical-align: top;\n    }\n\n    .dataframe thead th {\n        text-align: right;\n    }\n</style>\n<table border=\"1\" class=\"dataframe\">\n  <thead>\n    <tr style=\"text-align: right;\">\n      <th></th>\n      <th>N registro</th>\n      <th>Instrumento</th>\n      <th>Fecha</th>\n      <th>Política de datos</th>\n      <th>Código IE</th>\n      <th>Tipo ID</th>\n      <th>ID</th>\n      <th>Email</th>\n      <th>Edad</th>\n      <th>Sexo</th>\n      <th>...</th>\n      <th>8.16 Las mujeres en comparación con los hombres, tienden a tener un sentido más refinado de la cultura y el buen gusto.</th>\n      <th>Comentarios género</th>\n      <th>apoyo</th>\n      <th>frustracion</th>\n      <th>sexismoSTEM</th>\n      <th>sexismoBenev</th>\n      <th>estereoBenev</th>\n      <th>autoeficaciaPC</th>\n      <th>autoeficaciaTec</th>\n      <th>sentidoComunidad</th>\n    </tr>\n  </thead>\n  <tbody>\n    <tr>\n      <th>0</th>\n      <td>4</td>\n      <td>Encuesta docentes</td>\n      <td>18/04</td>\n      <td>Sí</td>\n      <td>206</td>\n      <td>Cédula de ciudadanía</td>\n      <td>5828243</td>\n      <td>Mosquera.fabio@gmail.com</td>\n      <td>40.0</td>\n      <td>Masculino</td>\n      <td>...</td>\n      <td>3</td>\n      <td>Ninguno</td>\n      <td>50.000000</td>\n      <td>50.000000</td>\n      <td>50.000000</td>\n      <td>50.000000</td>\n      <td>50.000000</td>\n      <td>61.290743</td>\n      <td>66.706789</td>\n      <td>64.597934</td>\n    </tr>\n    <tr>\n      <th>1</th>\n      <td>5</td>\n      <td>Encuesta docentes</td>\n      <td>18/04</td>\n      <td>Sí</td>\n      <td>206</td>\n      <td>Cédula de ciudadanía</td>\n      <td>93377927</td>\n      <td>nixong@yahoo.com</td>\n      <td>52.0</td>\n      <td>Masculino</td>\n      <td>...</td>\n      <td>1</td>\n      <td>NaN</td>\n      <td>36.507937</td>\n      <td>50.000000</td>\n      <td>0.000000</td>\n      <td>30.392684</td>\n      <td>16.214089</td>\n      <td>44.256845</td>\n      <td>66.706789</td>\n      <td>62.799705</td>\n    </tr>\n    <tr>\n      <th>2</th>\n      <td>6</td>\n      <td>Encuesta docentes</td>\n      <td>18/04</td>\n      <td>Sí</td>\n      <td>206</td>\n      <td>Cédula de ciudadanía</td>\n      <td>38363769</td>\n      <td>ivonne.saavedrab@nep.edu.co</td>\n      <td>38.0</td>\n      <td>Femenino</td>\n      <td>...</td>\n      <td>1</td>\n      <td>NaN</td>\n      <td>46.572349</td>\n      <td>34.438004</td>\n      <td>0.000000</td>\n      <td>0.000000</td>\n      <td>0.000000</td>\n      <td>47.294654</td>\n      <td>28.767453</td>\n      <td>55.763556</td>\n    </tr>\n    <tr>\n      <th>3</th>\n      <td>7</td>\n      <td>Encuesta docentes</td>\n      <td>18/04</td>\n      <td>Sí</td>\n      <td>206</td>\n      <td>Cédula de ciudadanía</td>\n      <td>5827991</td>\n      <td>javierlunarodriguez@hotmail.com</td>\n      <td>42.0</td>\n      <td>Masculino</td>\n      <td>...</td>\n      <td>2</td>\n      <td>NaN</td>\n      <td>25.000000</td>\n      <td>25.000000</td>\n      <td>25.000000</td>\n      <td>25.000000</td>\n      <td>25.000000</td>\n      <td>16.958931</td>\n      <td>8.293211</td>\n      <td>6.335301</td>\n    </tr>\n    <tr>\n      <th>4</th>\n      <td>8</td>\n      <td>Encuesta docentes</td>\n      <td>18/04</td>\n      <td>Sí</td>\n      <td>206</td>\n      <td>Cédula de ciudadanía</td>\n      <td>1110495748</td>\n      <td>pipe.edufisica@gmail.com</td>\n      <td>32.0</td>\n      <td>Masculino</td>\n      <td>...</td>\n      <td>4</td>\n      <td>NaN</td>\n      <td>59.029216</td>\n      <td>47.013609</td>\n      <td>0.000000</td>\n      <td>49.536041</td>\n      <td>41.214089</td>\n      <td>38.784224</td>\n      <td>62.060664</td>\n      <td>60.531169</td>\n    </tr>\n    <tr>\n      <th>...</th>\n      <td>...</td>\n      <td>...</td>\n      <td>...</td>\n      <td>...</td>\n      <td>...</td>\n      <td>...</td>\n      <td>...</td>\n      <td>...</td>\n      <td>...</td>\n      <td>...</td>\n      <td>...</td>\n      <td>...</td>\n      <td>...</td>\n      <td>...</td>\n      <td>...</td>\n      <td>...</td>\n      <td>...</td>\n      <td>...</td>\n      <td>...</td>\n      <td>...</td>\n      <td>...</td>\n    </tr>\n    <tr>\n      <th>6635</th>\n      <td>6888</td>\n      <td>Encuesta docentes</td>\n      <td>06/06</td>\n      <td>Sí</td>\n      <td>125</td>\n      <td>Cédula de ciudadanía</td>\n      <td>73572371</td>\n      <td>fernandovitola@antonioramoslasalle.edu.co</td>\n      <td>46.0</td>\n      <td>Masculino</td>\n      <td>...</td>\n      <td>1</td>\n      <td>Creo que tanto hombres como mujeres pueden ten...</td>\n      <td>95.537152</td>\n      <td>37.575605</td>\n      <td>2.332739</td>\n      <td>56.939215</td>\n      <td>100.000000</td>\n      <td>100.000000</td>\n      <td>100.000000</td>\n      <td>83.732940</td>\n    </tr>\n    <tr>\n      <th>6636</th>\n      <td>6889</td>\n      <td>Encuesta docentes</td>\n      <td>06/06</td>\n      <td>Sí</td>\n      <td>123</td>\n      <td>Cédula de extranjería</td>\n      <td>1047365297</td>\n      <td>madiarr@hotmail.com</td>\n      <td>32.0</td>\n      <td>Femenino</td>\n      <td>...</td>\n      <td>1</td>\n      <td>NaN</td>\n      <td>41.361859</td>\n      <td>28.150202</td>\n      <td>0.000000</td>\n      <td>0.000000</td>\n      <td>0.000000</td>\n      <td>100.000000</td>\n      <td>100.000000</td>\n      <td>78.052379</td>\n    </tr>\n    <tr>\n      <th>6637</th>\n      <td>6890</td>\n      <td>Encuesta docentes</td>\n      <td>06/06</td>\n      <td>Sí</td>\n      <td>37</td>\n      <td>Cédula de ciudadanía</td>\n      <td>77036870</td>\n      <td>ieleonidasacuna@gmail.com</td>\n      <td>54.0</td>\n      <td>Masculino</td>\n      <td>...</td>\n      <td>3</td>\n      <td>NaN</td>\n      <td>79.462848</td>\n      <td>84.438004</td>\n      <td>50.000000</td>\n      <td>50.000000</td>\n      <td>50.000000</td>\n      <td>80.642112</td>\n      <td>100.000000</td>\n      <td>93.092955</td>\n    </tr>\n    <tr>\n      <th>6638</th>\n      <td>6891</td>\n      <td>Encuesta docentes</td>\n      <td>06/06</td>\n      <td>Sí</td>\n      <td>33</td>\n      <td>Cédula de ciudadanía</td>\n      <td>93395426</td>\n      <td>nabuitrago@hotmail.com</td>\n      <td>47.0</td>\n      <td>Masculino</td>\n      <td>...</td>\n      <td>1</td>\n      <td>NaN</td>\n      <td>55.187486</td>\n      <td>50.000000</td>\n      <td>4.665477</td>\n      <td>12.910167</td>\n      <td>50.000000</td>\n      <td>72.128422</td>\n      <td>100.000000</td>\n      <td>50.000000</td>\n    </tr>\n    <tr>\n      <th>6639</th>\n      <td>6892</td>\n      <td>Encuesta docentes</td>\n      <td>06/06</td>\n      <td>Sí</td>\n      <td>37</td>\n      <td>Cédula de ciudadanía</td>\n      <td>42494164</td>\n      <td>ieleonidasacuna@gmail.com</td>\n      <td>67.0</td>\n      <td>Femenino</td>\n      <td>...</td>\n      <td>3</td>\n      <td>NaN</td>\n      <td>79.756154</td>\n      <td>75.000000</td>\n      <td>50.000000</td>\n      <td>50.000000</td>\n      <td>50.000000</td>\n      <td>25.000000</td>\n      <td>64.323544</td>\n      <td>67.309111</td>\n    </tr>\n  </tbody>\n</table>\n<p>6640 rows × 99 columns</p>\n</div>"
     },
     "execution_count": 101,
     "metadata": {},
     "output_type": "execute_result"
    }
   ],
   "source": [
    "doc_escalas = pd.merge(doc, docentes[['N registro']+nombres_escalas])\n",
    "doc_escalas"
   ],
   "metadata": {
    "collapsed": false,
    "pycharm": {
     "name": "#%%\n"
    }
   }
  },
  {
   "cell_type": "code",
   "execution_count": 104,
   "outputs": [],
   "source": [
    "doc_escalas[col_practicas_ped] = doc_escalas[col_practicas_ped].fillna(0)"
   ],
   "metadata": {
    "collapsed": false,
    "pycharm": {
     "name": "#%%\n"
    }
   }
  },
  {
   "cell_type": "code",
   "execution_count": 103,
   "outputs": [],
   "source": [
    "doc_escalas['No conocePC']=1*(doc_escalas['Considera importante enseñar el pensamiento computacional desde los primeros niveles educativos']=='No sé qué es el pensamiento computacional.')\n",
    "\n",
    "doc_escalas['ReconoceImportancia']=1*(doc_escalas['Considera importante enseñar el pensamiento computacional desde los primeros niveles educativos'].isin(['Algo importante, pero solo para los docentes de tecnología', 'Importante para todas las áreas y niveles']))\n",
    "doc_escalas['Formado'] = 1*(doc_escalas['Formado CFK']==\"Sí\")\n",
    "doc_escalas['Formado_noI'] = 1*((doc_escalas['Formado CFK']==\"Sí\")&(doc_escalas['Implementa fichas']==\"No\"))\n"
   ],
   "metadata": {
    "collapsed": false,
    "pycharm": {
     "name": "#%%\n"
    }
   }
  },
  {
   "cell_type": "code",
   "execution_count": 50,
   "outputs": [
    {
     "data": {
      "text/plain": "{'apoyo': 'mean',\n 'frustracion': 'mean',\n 'sexismoSTEM': 'mean',\n 'sexismoBenev': 'mean',\n 'estereoBenev': 'mean',\n 'autoeficaciaPC': 'mean',\n 'autoeficaciaTec': 'mean',\n 'sentidoComunidad': 'mean',\n 'N registro': 'count',\n 'Formado': 'count',\n 'No conocePC': 'sum',\n 'Formado_noI': 'sum',\n 'ReconoceImportancia': 'sum'}"
     },
     "execution_count": 50,
     "metadata": {},
     "output_type": "execute_result"
    }
   ],
   "source": [
    "agg_funcs = dict(zip(nombres_escalas,[\"mean\"]*len(nombres_escalas)))\n",
    "agg_funcs['N registro'] = 'count'\n",
    "agg_funcs['Formado'] = 'count'\n",
    "agg_funcs['No conocePC']='sum'\n",
    "agg_funcs['Formado_noI']='sum'\n",
    "agg_funcs['ReconoceImportancia']='sum'\n",
    "agg_funcs"
   ],
   "metadata": {
    "collapsed": false,
    "pycharm": {
     "name": "#%%\n"
    }
   }
  },
  {
   "cell_type": "code",
   "execution_count": 38,
   "outputs": [
    {
     "data": {
      "text/plain": "      N registro        Instrumento  Fecha Política de datos  Código IE  \\\n0              4  Encuesta docentes  18/04                Sí        206   \n1              5  Encuesta docentes  18/04                Sí        206   \n2              6  Encuesta docentes  18/04                Sí        206   \n3              7  Encuesta docentes  18/04                Sí        206   \n4              8  Encuesta docentes  18/04                Sí        206   \n...          ...                ...    ...               ...        ...   \n6630        6883  Encuesta docentes  03/06                Sí        123   \n6631        6884  Encuesta docentes  05/06                Sí         33   \n6632        6885  Encuesta docentes  05/06                Sí        134   \n6633        6886  Encuesta docentes  06/06                Sí        125   \n6634        6887  Encuesta docentes  06/06                Sí        125   \n\n                   Tipo ID          ID                              Email  \\\n0     Cédula de ciudadanía     5828243          Mosquera.fabio@gmail.com    \n1     Cédula de ciudadanía    93377927                   nixong@yahoo.com   \n2     Cédula de ciudadanía    38363769        ivonne.saavedrab@nep.edu.co   \n3     Cédula de ciudadanía     5827991    javierlunarodriguez@hotmail.com   \n4     Cédula de ciudadanía  1110495748           pipe.edufisica@gmail.com   \n...                    ...         ...                                ...   \n6630  Cédula de ciudadanía    32799684  amarilisjimenezbatista@gmail.com    \n6631  Cédula de ciudadanía  1110463752           liliana.2003@hotmail.com   \n6632  Cédula de ciudadanía    84007686          charrles.brito@gmail.com    \n6633  Cédula de ciudadanía    25800742                  vmont81@gmail.com   \n6634  Cédula de ciudadanía    19955385            pedrovanbat@hotmail.com   \n\n      Edad       Sexo  ... Comentarios género      apoyo frustracion  \\\n0     40.0  Masculino  ...            Ninguno  50.000000   50.000000   \n1     52.0  Masculino  ...                NaN  36.507937   50.000000   \n2     38.0   Femenino  ...                NaN  46.572349   34.438004   \n3     42.0  Masculino  ...                NaN  25.000000   25.000000   \n4     32.0  Masculino  ...                NaN  59.029216   47.013609   \n...    ...        ...  ...                ...        ...         ...   \n6630  45.0   Femenino  ...   Sin comentarios   50.000000   50.000000   \n6631  35.0   Femenino  ...                NaN  52.887049    0.000000   \n6632  45.0  Masculino  ...                NaN  74.028065   28.301411   \n6633  41.0   Femenino  ...                NaN  68.230964   25.000000   \n6634  37.0  Masculino  ...                 No  61.645963   37.575605   \n\n     sexismoSTEM sexismoBenev estereoBenev autoeficaciaPC autoeficaciaTec  \\\n0      50.000000    50.000000    50.000000      61.290743       66.706789   \n1       0.000000    30.392684    16.214089      44.256845       66.706789   \n2       0.000000     0.000000     0.000000      47.294654       28.767453   \n3      25.000000    25.000000    25.000000      16.958931        8.293211   \n4       0.000000    49.536041    41.214089      38.784224       62.060664   \n...          ...          ...          ...            ...             ...   \n6630   25.000000    25.000000    41.214089      67.369622       56.030332   \n6631    2.332739    30.513717    33.766234      58.213820       66.706789   \n6632    2.332739    13.717052   100.000000      80.410691       85.676456   \n6633    0.000000     7.087144    16.214089      69.119948       91.706789   \n6634   25.000000    56.199570    66.883117      75.000000       75.000000   \n\n     sentidoComunidad No conocePC  \n0           64.597934           0  \n1           62.799705           0  \n2           55.763556           0  \n3            6.335301           0  \n4           60.531169           0  \n...               ...         ...  \n6630        70.933235           0  \n6631        62.799705           0  \n6632        75.000000           0  \n6633        75.000000           0  \n6634        66.866470           0  \n\n[6635 rows x 100 columns]",
      "text/html": "<div>\n<style scoped>\n    .dataframe tbody tr th:only-of-type {\n        vertical-align: middle;\n    }\n\n    .dataframe tbody tr th {\n        vertical-align: top;\n    }\n\n    .dataframe thead th {\n        text-align: right;\n    }\n</style>\n<table border=\"1\" class=\"dataframe\">\n  <thead>\n    <tr style=\"text-align: right;\">\n      <th></th>\n      <th>N registro</th>\n      <th>Instrumento</th>\n      <th>Fecha</th>\n      <th>Política de datos</th>\n      <th>Código IE</th>\n      <th>Tipo ID</th>\n      <th>ID</th>\n      <th>Email</th>\n      <th>Edad</th>\n      <th>Sexo</th>\n      <th>...</th>\n      <th>Comentarios género</th>\n      <th>apoyo</th>\n      <th>frustracion</th>\n      <th>sexismoSTEM</th>\n      <th>sexismoBenev</th>\n      <th>estereoBenev</th>\n      <th>autoeficaciaPC</th>\n      <th>autoeficaciaTec</th>\n      <th>sentidoComunidad</th>\n      <th>No conocePC</th>\n    </tr>\n  </thead>\n  <tbody>\n    <tr>\n      <th>0</th>\n      <td>4</td>\n      <td>Encuesta docentes</td>\n      <td>18/04</td>\n      <td>Sí</td>\n      <td>206</td>\n      <td>Cédula de ciudadanía</td>\n      <td>5828243</td>\n      <td>Mosquera.fabio@gmail.com</td>\n      <td>40.0</td>\n      <td>Masculino</td>\n      <td>...</td>\n      <td>Ninguno</td>\n      <td>50.000000</td>\n      <td>50.000000</td>\n      <td>50.000000</td>\n      <td>50.000000</td>\n      <td>50.000000</td>\n      <td>61.290743</td>\n      <td>66.706789</td>\n      <td>64.597934</td>\n      <td>0</td>\n    </tr>\n    <tr>\n      <th>1</th>\n      <td>5</td>\n      <td>Encuesta docentes</td>\n      <td>18/04</td>\n      <td>Sí</td>\n      <td>206</td>\n      <td>Cédula de ciudadanía</td>\n      <td>93377927</td>\n      <td>nixong@yahoo.com</td>\n      <td>52.0</td>\n      <td>Masculino</td>\n      <td>...</td>\n      <td>NaN</td>\n      <td>36.507937</td>\n      <td>50.000000</td>\n      <td>0.000000</td>\n      <td>30.392684</td>\n      <td>16.214089</td>\n      <td>44.256845</td>\n      <td>66.706789</td>\n      <td>62.799705</td>\n      <td>0</td>\n    </tr>\n    <tr>\n      <th>2</th>\n      <td>6</td>\n      <td>Encuesta docentes</td>\n      <td>18/04</td>\n      <td>Sí</td>\n      <td>206</td>\n      <td>Cédula de ciudadanía</td>\n      <td>38363769</td>\n      <td>ivonne.saavedrab@nep.edu.co</td>\n      <td>38.0</td>\n      <td>Femenino</td>\n      <td>...</td>\n      <td>NaN</td>\n      <td>46.572349</td>\n      <td>34.438004</td>\n      <td>0.000000</td>\n      <td>0.000000</td>\n      <td>0.000000</td>\n      <td>47.294654</td>\n      <td>28.767453</td>\n      <td>55.763556</td>\n      <td>0</td>\n    </tr>\n    <tr>\n      <th>3</th>\n      <td>7</td>\n      <td>Encuesta docentes</td>\n      <td>18/04</td>\n      <td>Sí</td>\n      <td>206</td>\n      <td>Cédula de ciudadanía</td>\n      <td>5827991</td>\n      <td>javierlunarodriguez@hotmail.com</td>\n      <td>42.0</td>\n      <td>Masculino</td>\n      <td>...</td>\n      <td>NaN</td>\n      <td>25.000000</td>\n      <td>25.000000</td>\n      <td>25.000000</td>\n      <td>25.000000</td>\n      <td>25.000000</td>\n      <td>16.958931</td>\n      <td>8.293211</td>\n      <td>6.335301</td>\n      <td>0</td>\n    </tr>\n    <tr>\n      <th>4</th>\n      <td>8</td>\n      <td>Encuesta docentes</td>\n      <td>18/04</td>\n      <td>Sí</td>\n      <td>206</td>\n      <td>Cédula de ciudadanía</td>\n      <td>1110495748</td>\n      <td>pipe.edufisica@gmail.com</td>\n      <td>32.0</td>\n      <td>Masculino</td>\n      <td>...</td>\n      <td>NaN</td>\n      <td>59.029216</td>\n      <td>47.013609</td>\n      <td>0.000000</td>\n      <td>49.536041</td>\n      <td>41.214089</td>\n      <td>38.784224</td>\n      <td>62.060664</td>\n      <td>60.531169</td>\n      <td>0</td>\n    </tr>\n    <tr>\n      <th>...</th>\n      <td>...</td>\n      <td>...</td>\n      <td>...</td>\n      <td>...</td>\n      <td>...</td>\n      <td>...</td>\n      <td>...</td>\n      <td>...</td>\n      <td>...</td>\n      <td>...</td>\n      <td>...</td>\n      <td>...</td>\n      <td>...</td>\n      <td>...</td>\n      <td>...</td>\n      <td>...</td>\n      <td>...</td>\n      <td>...</td>\n      <td>...</td>\n      <td>...</td>\n      <td>...</td>\n    </tr>\n    <tr>\n      <th>6630</th>\n      <td>6883</td>\n      <td>Encuesta docentes</td>\n      <td>03/06</td>\n      <td>Sí</td>\n      <td>123</td>\n      <td>Cédula de ciudadanía</td>\n      <td>32799684</td>\n      <td>amarilisjimenezbatista@gmail.com</td>\n      <td>45.0</td>\n      <td>Femenino</td>\n      <td>...</td>\n      <td>Sin comentarios</td>\n      <td>50.000000</td>\n      <td>50.000000</td>\n      <td>25.000000</td>\n      <td>25.000000</td>\n      <td>41.214089</td>\n      <td>67.369622</td>\n      <td>56.030332</td>\n      <td>70.933235</td>\n      <td>0</td>\n    </tr>\n    <tr>\n      <th>6631</th>\n      <td>6884</td>\n      <td>Encuesta docentes</td>\n      <td>05/06</td>\n      <td>Sí</td>\n      <td>33</td>\n      <td>Cédula de ciudadanía</td>\n      <td>1110463752</td>\n      <td>liliana.2003@hotmail.com</td>\n      <td>35.0</td>\n      <td>Femenino</td>\n      <td>...</td>\n      <td>NaN</td>\n      <td>52.887049</td>\n      <td>0.000000</td>\n      <td>2.332739</td>\n      <td>30.513717</td>\n      <td>33.766234</td>\n      <td>58.213820</td>\n      <td>66.706789</td>\n      <td>62.799705</td>\n      <td>0</td>\n    </tr>\n    <tr>\n      <th>6632</th>\n      <td>6885</td>\n      <td>Encuesta docentes</td>\n      <td>05/06</td>\n      <td>Sí</td>\n      <td>134</td>\n      <td>Cédula de ciudadanía</td>\n      <td>84007686</td>\n      <td>charrles.brito@gmail.com</td>\n      <td>45.0</td>\n      <td>Masculino</td>\n      <td>...</td>\n      <td>NaN</td>\n      <td>74.028065</td>\n      <td>28.301411</td>\n      <td>2.332739</td>\n      <td>13.717052</td>\n      <td>100.000000</td>\n      <td>80.410691</td>\n      <td>85.676456</td>\n      <td>75.000000</td>\n      <td>0</td>\n    </tr>\n    <tr>\n      <th>6633</th>\n      <td>6886</td>\n      <td>Encuesta docentes</td>\n      <td>06/06</td>\n      <td>Sí</td>\n      <td>125</td>\n      <td>Cédula de ciudadanía</td>\n      <td>25800742</td>\n      <td>vmont81@gmail.com</td>\n      <td>41.0</td>\n      <td>Femenino</td>\n      <td>...</td>\n      <td>NaN</td>\n      <td>68.230964</td>\n      <td>25.000000</td>\n      <td>0.000000</td>\n      <td>7.087144</td>\n      <td>16.214089</td>\n      <td>69.119948</td>\n      <td>91.706789</td>\n      <td>75.000000</td>\n      <td>0</td>\n    </tr>\n    <tr>\n      <th>6634</th>\n      <td>6887</td>\n      <td>Encuesta docentes</td>\n      <td>06/06</td>\n      <td>Sí</td>\n      <td>125</td>\n      <td>Cédula de ciudadanía</td>\n      <td>19955385</td>\n      <td>pedrovanbat@hotmail.com</td>\n      <td>37.0</td>\n      <td>Masculino</td>\n      <td>...</td>\n      <td>No</td>\n      <td>61.645963</td>\n      <td>37.575605</td>\n      <td>25.000000</td>\n      <td>56.199570</td>\n      <td>66.883117</td>\n      <td>75.000000</td>\n      <td>75.000000</td>\n      <td>66.866470</td>\n      <td>0</td>\n    </tr>\n  </tbody>\n</table>\n<p>6635 rows × 100 columns</p>\n</div>"
     },
     "execution_count": 38,
     "metadata": {},
     "output_type": "execute_result"
    }
   ],
   "source": [
    "doc_escalas"
   ],
   "metadata": {
    "collapsed": false,
    "pycharm": {
     "name": "#%%\n"
    }
   }
  },
  {
   "cell_type": "code",
   "execution_count": 46,
   "outputs": [
    {
     "data": {
      "text/plain": "count    6635.000000\nmean       60.750810\nstd        20.901791\nmin         0.000000\n25%        50.000000\n50%        63.242346\n75%        75.000000\nmax       100.000000\nName: sentidoComunidad, dtype: float64"
     },
     "execution_count": 46,
     "metadata": {},
     "output_type": "execute_result"
    }
   ],
   "source": [
    "doc_escalas['sentidoComunidad'].describe()"
   ],
   "metadata": {
    "collapsed": false,
    "pycharm": {
     "name": "#%%\n"
    }
   }
  },
  {
   "cell_type": "code",
   "execution_count": 38,
   "outputs": [
    {
     "data": {
      "text/plain": "           Cantidad docentes      apoyo  autoeficaciaPC  autoeficaciaTec  \\\nCódigo IE                                                                  \n1                         46  49.622803       59.814707        64.918832   \n2                         15  47.972548       48.757279        60.643556   \n3                         22  49.260723       55.244607        62.115923   \n4                         12  45.975194       38.564483        45.873455   \n5                         50  54.381643       63.013233        67.174771   \n...                      ...        ...             ...              ...   \n248                        8  44.436537       45.079042        60.158883   \n249                       18  55.111763       57.871759        58.122024   \n250                       43  45.164134       62.150708        72.927187   \n251                       52  51.679651       59.324667        62.264824   \n252                       22  44.281323       57.156572        62.395501   \n\n           estereoBenev  frustracion  sentidoComunidad  sexismoBenev  \\\nCódigo IE                                                              \n1             46.089994    41.741815         58.390134     28.686969   \n2             31.751279    42.681452         59.362474     18.985117   \n3             26.810311    43.917247         61.971430     21.364125   \n4             45.830874    41.914483         48.333948     24.652591   \n5             41.471271    47.581149         62.450387     27.630984   \n...                 ...          ...               ...           ...   \n248           51.174488    40.602949         55.572206     29.781637   \n249           46.132865    40.259577         59.913316     29.546575   \n250           40.159752    44.851252         69.700745     26.855680   \n251           40.134298    43.411232         59.369236     31.374395   \n252           38.385478    44.904692         56.637101     23.066837   \n\n           sexismoSTEM  \nCódigo IE               \n1            16.854904  \n2            14.718109  \n3            11.899076  \n4            18.008475  \n5            15.133185  \n...                ...  \n248          22.421387  \n249          10.066409  \n250          17.527021  \n251          22.222861  \n252          18.692726  \n\n[249 rows x 9 columns]",
      "text/html": "<div>\n<style scoped>\n    .dataframe tbody tr th:only-of-type {\n        vertical-align: middle;\n    }\n\n    .dataframe tbody tr th {\n        vertical-align: top;\n    }\n\n    .dataframe thead th {\n        text-align: right;\n    }\n</style>\n<table border=\"1\" class=\"dataframe\">\n  <thead>\n    <tr style=\"text-align: right;\">\n      <th></th>\n      <th>Cantidad docentes</th>\n      <th>apoyo</th>\n      <th>autoeficaciaPC</th>\n      <th>autoeficaciaTec</th>\n      <th>estereoBenev</th>\n      <th>frustracion</th>\n      <th>sentidoComunidad</th>\n      <th>sexismoBenev</th>\n      <th>sexismoSTEM</th>\n    </tr>\n    <tr>\n      <th>Código IE</th>\n      <th></th>\n      <th></th>\n      <th></th>\n      <th></th>\n      <th></th>\n      <th></th>\n      <th></th>\n      <th></th>\n      <th></th>\n    </tr>\n  </thead>\n  <tbody>\n    <tr>\n      <th>1</th>\n      <td>46</td>\n      <td>49.622803</td>\n      <td>59.814707</td>\n      <td>64.918832</td>\n      <td>46.089994</td>\n      <td>41.741815</td>\n      <td>58.390134</td>\n      <td>28.686969</td>\n      <td>16.854904</td>\n    </tr>\n    <tr>\n      <th>2</th>\n      <td>15</td>\n      <td>47.972548</td>\n      <td>48.757279</td>\n      <td>60.643556</td>\n      <td>31.751279</td>\n      <td>42.681452</td>\n      <td>59.362474</td>\n      <td>18.985117</td>\n      <td>14.718109</td>\n    </tr>\n    <tr>\n      <th>3</th>\n      <td>22</td>\n      <td>49.260723</td>\n      <td>55.244607</td>\n      <td>62.115923</td>\n      <td>26.810311</td>\n      <td>43.917247</td>\n      <td>61.971430</td>\n      <td>21.364125</td>\n      <td>11.899076</td>\n    </tr>\n    <tr>\n      <th>4</th>\n      <td>12</td>\n      <td>45.975194</td>\n      <td>38.564483</td>\n      <td>45.873455</td>\n      <td>45.830874</td>\n      <td>41.914483</td>\n      <td>48.333948</td>\n      <td>24.652591</td>\n      <td>18.008475</td>\n    </tr>\n    <tr>\n      <th>5</th>\n      <td>50</td>\n      <td>54.381643</td>\n      <td>63.013233</td>\n      <td>67.174771</td>\n      <td>41.471271</td>\n      <td>47.581149</td>\n      <td>62.450387</td>\n      <td>27.630984</td>\n      <td>15.133185</td>\n    </tr>\n    <tr>\n      <th>...</th>\n      <td>...</td>\n      <td>...</td>\n      <td>...</td>\n      <td>...</td>\n      <td>...</td>\n      <td>...</td>\n      <td>...</td>\n      <td>...</td>\n      <td>...</td>\n    </tr>\n    <tr>\n      <th>248</th>\n      <td>8</td>\n      <td>44.436537</td>\n      <td>45.079042</td>\n      <td>60.158883</td>\n      <td>51.174488</td>\n      <td>40.602949</td>\n      <td>55.572206</td>\n      <td>29.781637</td>\n      <td>22.421387</td>\n    </tr>\n    <tr>\n      <th>249</th>\n      <td>18</td>\n      <td>55.111763</td>\n      <td>57.871759</td>\n      <td>58.122024</td>\n      <td>46.132865</td>\n      <td>40.259577</td>\n      <td>59.913316</td>\n      <td>29.546575</td>\n      <td>10.066409</td>\n    </tr>\n    <tr>\n      <th>250</th>\n      <td>43</td>\n      <td>45.164134</td>\n      <td>62.150708</td>\n      <td>72.927187</td>\n      <td>40.159752</td>\n      <td>44.851252</td>\n      <td>69.700745</td>\n      <td>26.855680</td>\n      <td>17.527021</td>\n    </tr>\n    <tr>\n      <th>251</th>\n      <td>52</td>\n      <td>51.679651</td>\n      <td>59.324667</td>\n      <td>62.264824</td>\n      <td>40.134298</td>\n      <td>43.411232</td>\n      <td>59.369236</td>\n      <td>31.374395</td>\n      <td>22.222861</td>\n    </tr>\n    <tr>\n      <th>252</th>\n      <td>22</td>\n      <td>44.281323</td>\n      <td>57.156572</td>\n      <td>62.395501</td>\n      <td>38.385478</td>\n      <td>44.904692</td>\n      <td>56.637101</td>\n      <td>23.066837</td>\n      <td>18.692726</td>\n    </tr>\n  </tbody>\n</table>\n<p>249 rows × 9 columns</p>\n</div>"
     },
     "execution_count": 38,
     "metadata": {},
     "output_type": "execute_result"
    }
   ],
   "source": [
    "doc_d1 = doc_escalas.pivot_table(index=['Código IE'], values=['N registro','No conocePC','Formado','Formado_noI']+nombres_escalas, aggfunc=agg_funcs).rename(columns={'N registro':'Cantidad docentes'})\n",
    "doc_d1"
   ],
   "metadata": {
    "collapsed": false,
    "pycharm": {
     "name": "#%%\n"
    }
   }
  },
  {
   "cell_type": "code",
   "execution_count": 39,
   "outputs": [],
   "source": [
    "doc_d1['Nivel apoyo'] =  pd.cut(doc_d1['apoyo'], bins=[0, 20, 50, 80,100], labels=['2B','3', '4','5'], include_lowest=True)\n",
    "\n",
    "doc_d1['Nivel frustracion'] =  pd.cut(doc_d1['frustracion'], bins=[0, 20,40, 50, 70,80,100], labels=['5','4', '3','2B','2A','1B'], include_lowest=True)\n",
    "\n",
    "doc_d1['Nivel SentidoC'] =  pd.cut(doc_d1['sentidoComunidad'], bins=[0, 50, 60,100], labels=['3','4', '5'], include_lowest=True)\n"
   ],
   "metadata": {
    "collapsed": false,
    "pycharm": {
     "name": "#%%\n"
    }
   }
  },
  {
   "cell_type": "markdown",
   "source": [],
   "metadata": {
    "collapsed": false
   }
  },
  {
   "cell_type": "code",
   "execution_count": 40,
   "outputs": [],
   "source": [
    "dimension1 = pd.concat([doc_d1,dir_d1,plan1_d1, plan2_d1],ignore_index=False, axis=1)\n",
    "dimension1[dimension1.filter(regex='^Nivel').columns]= dimension1[dimension1.filter(regex='^Nivel').columns].astype(cat_type).fillna(\"0\")\n"
   ],
   "metadata": {
    "collapsed": false,
    "pycharm": {
     "name": "#%%\n"
    }
   }
  },
  {
   "cell_type": "code",
   "execution_count": 41,
   "outputs": [
    {
     "data": {
      "text/plain": "          Nivel apoyo Nivel frustracion Nivel SentidoC Nivel Directivos  \\\nCódigo IE                                                                 \n1                   3                 3              4                3   \n2                   3                 3              4                5   \n3                   3                 3              5                3   \n4                   3                 3              3                3   \n5                   4                 3              5                5   \n...               ...               ...            ...              ...   \n250                 3                 3              5                3   \n251                 4                 3              4                3   \n252                 3                 3              4                5   \n192                 0                 0              0                5   \n234                 0                 0              0               2A   \n\n          Nivel Revision Plan Nivel lider  \nCódigo IE                                  \n1                          1B           0  \n2                          1B          1A  \n3                          1B          1A  \n4                          1B          1B  \n5                          1B          1A  \n...                       ...         ...  \n250                        1A          1A  \n251                        1A          1A  \n252                        1A          1A  \n192                         0           0  \n234                        2B           0  \n\n[251 rows x 6 columns]",
      "text/html": "<div>\n<style scoped>\n    .dataframe tbody tr th:only-of-type {\n        vertical-align: middle;\n    }\n\n    .dataframe tbody tr th {\n        vertical-align: top;\n    }\n\n    .dataframe thead th {\n        text-align: right;\n    }\n</style>\n<table border=\"1\" class=\"dataframe\">\n  <thead>\n    <tr style=\"text-align: right;\">\n      <th></th>\n      <th>Nivel apoyo</th>\n      <th>Nivel frustracion</th>\n      <th>Nivel SentidoC</th>\n      <th>Nivel Directivos</th>\n      <th>Nivel Revision Plan</th>\n      <th>Nivel lider</th>\n    </tr>\n    <tr>\n      <th>Código IE</th>\n      <th></th>\n      <th></th>\n      <th></th>\n      <th></th>\n      <th></th>\n      <th></th>\n    </tr>\n  </thead>\n  <tbody>\n    <tr>\n      <th>1</th>\n      <td>3</td>\n      <td>3</td>\n      <td>4</td>\n      <td>3</td>\n      <td>1B</td>\n      <td>0</td>\n    </tr>\n    <tr>\n      <th>2</th>\n      <td>3</td>\n      <td>3</td>\n      <td>4</td>\n      <td>5</td>\n      <td>1B</td>\n      <td>1A</td>\n    </tr>\n    <tr>\n      <th>3</th>\n      <td>3</td>\n      <td>3</td>\n      <td>5</td>\n      <td>3</td>\n      <td>1B</td>\n      <td>1A</td>\n    </tr>\n    <tr>\n      <th>4</th>\n      <td>3</td>\n      <td>3</td>\n      <td>3</td>\n      <td>3</td>\n      <td>1B</td>\n      <td>1B</td>\n    </tr>\n    <tr>\n      <th>5</th>\n      <td>4</td>\n      <td>3</td>\n      <td>5</td>\n      <td>5</td>\n      <td>1B</td>\n      <td>1A</td>\n    </tr>\n    <tr>\n      <th>...</th>\n      <td>...</td>\n      <td>...</td>\n      <td>...</td>\n      <td>...</td>\n      <td>...</td>\n      <td>...</td>\n    </tr>\n    <tr>\n      <th>250</th>\n      <td>3</td>\n      <td>3</td>\n      <td>5</td>\n      <td>3</td>\n      <td>1A</td>\n      <td>1A</td>\n    </tr>\n    <tr>\n      <th>251</th>\n      <td>4</td>\n      <td>3</td>\n      <td>4</td>\n      <td>3</td>\n      <td>1A</td>\n      <td>1A</td>\n    </tr>\n    <tr>\n      <th>252</th>\n      <td>3</td>\n      <td>3</td>\n      <td>4</td>\n      <td>5</td>\n      <td>1A</td>\n      <td>1A</td>\n    </tr>\n    <tr>\n      <th>192</th>\n      <td>0</td>\n      <td>0</td>\n      <td>0</td>\n      <td>5</td>\n      <td>0</td>\n      <td>0</td>\n    </tr>\n    <tr>\n      <th>234</th>\n      <td>0</td>\n      <td>0</td>\n      <td>0</td>\n      <td>2A</td>\n      <td>2B</td>\n      <td>0</td>\n    </tr>\n  </tbody>\n</table>\n<p>251 rows × 6 columns</p>\n</div>"
     },
     "execution_count": 41,
     "metadata": {},
     "output_type": "execute_result"
    }
   ],
   "source": [
    "dimension1.filter(regex='^Nivel|Dimens')"
   ],
   "metadata": {
    "collapsed": false,
    "pycharm": {
     "name": "#%%\n"
    }
   }
  },
  {
   "cell_type": "code",
   "execution_count": 42,
   "outputs": [
    {
     "data": {
      "text/plain": "           Cantidad docentes      apoyo  autoeficaciaPC  autoeficaciaTec  \\\nCódigo IE                                                                  \n1                       46.0  49.622803       59.814707        64.918832   \n2                       15.0  47.972548       48.757279        60.643556   \n3                       22.0  49.260723       55.244607        62.115923   \n4                       12.0  45.975194       38.564483        45.873455   \n5                       50.0  54.381643       63.013233        67.174771   \n...                      ...        ...             ...              ...   \n250                     43.0  45.164134       62.150708        72.927187   \n251                     52.0  51.679651       59.324667        62.264824   \n252                     22.0  44.281323       57.156572        62.395501   \n192                      NaN        NaN             NaN              NaN   \n234                      NaN        NaN             NaN              NaN   \n\n           estereoBenev  frustracion  sentidoComunidad  sexismoBenev  \\\nCódigo IE                                                              \n1             46.089994    41.741815         58.390134     28.686969   \n2             31.751279    42.681452         59.362474     18.985117   \n3             26.810311    43.917247         61.971430     21.364125   \n4             45.830874    41.914483         48.333948     24.652591   \n5             41.471271    47.581149         62.450387     27.630984   \n...                 ...          ...               ...           ...   \n250           40.159752    44.851252         69.700745     26.855680   \n251           40.134298    43.411232         59.369236     31.374395   \n252           38.385478    44.904692         56.637101     23.066837   \n192                 NaN          NaN               NaN           NaN   \n234                 NaN          NaN               NaN           NaN   \n\n           sexismoSTEM Nivel apoyo  ...  \\\nCódigo IE                           ...   \n1            16.854904           3  ...   \n2            14.718109           3  ...   \n3            11.899076           3  ...   \n4            18.008475           3  ...   \n5            15.133185           4  ...   \n...                ...         ...  ...   \n250          17.527021           3  ...   \n251          22.222861           4  ...   \n252          18.692726           3  ...   \n192                NaN           0  ...   \n234                NaN           0  ...   \n\n          1.6 El plan de estudios del área comprende el pensamiento computacional y su impacto dentro del proceso enseñanza-aprendizaje  \\\nCódigo IE                                                                                                                                 \n1                                                        NaN                                                                              \n2                                                          5                                                                              \n3                                                          5                                                                              \n4                                                         1B                                                                              \n5                                                          5                                                                              \n...                                                      ...                                                                              \n250                                                       1B                                                                              \n251                                                       1B                                                                              \n252                                                       1B                                                                              \n192                                                      NaN                                                                              \n234                                                      NaN                                                                              \n\n          4.11 Las directivas y el Consejo Directivo participan y evalúan la implementación de sistemas eficientes del plan de estudios del área.]  \\\nCódigo IE                                                                                                                                            \n1                                                        NaN                                                                                         \n2                                                         2B                                                                                         \n3                                                         2B                                                                                         \n4                                                          5                                                                                         \n5                                                          5                                                                                         \n...                                                      ...                                                                                         \n250                                                        5                                                                                         \n251                                                        5                                                                                         \n252                                                        5                                                                                         \n192                                                      NaN                                                                                         \n234                                                      NaN                                                                                         \n\n          4.8 La IE tiene en cuenta los conocimientos del personal docente para enriquecer la visión institucional sobre la enseñanza de la computación y potenciar la comprensión de las/los estudiantes y desarrollo  \\\nCódigo IE                                                                                                                                                                                                                \n1                                                        NaN                                                                                                                                                             \n2                                                          5                                                                                                                                                             \n3                                                          5                                                                                                                                                             \n4                                                         2A                                                                                                                                                             \n5                                                          5                                                                                                                                                             \n...                                                      ...                                                                                                                                                             \n250                                                       2A                                                                                                                                                             \n251                                                        5                                                                                                                                                             \n252                                                        5                                                                                                                                                             \n192                                                      NaN                                                                                                                                                             \n234                                                      NaN                                                                                                                                                             \n\n          4.7 La IE incentiva el trabajo coordinado entre los/las responsables del área  \\\nCódigo IE                                                                                 \n1                                                        NaN                              \n2                                                          5                              \n3                                                          5                              \n4                                                         2B                              \n5                                                          5                              \n...                                                      ...                              \n250                                                        5                              \n251                                                        5                              \n252                                                        5                              \n192                                                      NaN                              \n234                                                      NaN                              \n\n          4.1 La IE tiene en cuenta el plan de estudios para determinar las actividades de desarrollo profesional  \\\nCódigo IE                                                                                                           \n1                                                        NaN                                                        \n2                                                          5                                                        \n3                                                          5                                                        \n4                                                         2B                                                        \n5                                                          5                                                        \n...                                                      ...                                                        \n250                                                       2B                                                        \n251                                                        5                                                        \n252                                                        5                                                        \n192                                                      NaN                                                        \n234                                                      NaN                                                        \n\n          4.10 El Consejo Directivo del colegio está al tanto de que en la institución se está enseñando ciencias de la computación, y se encuentran involucrados en el proceso.  \\\nCódigo IE                                                                                                                                                                          \n1                                                        NaN                                                                                                                       \n2                                                          5                                                                                                                       \n3                                                          5                                                                                                                       \n4                                                         2A                                                                                                                       \n5                                                          5                                                                                                                       \n...                                                      ...                                                                                                                       \n250                                                        5                                                                                                                       \n251                                                        5                                                                                                                       \n252                                                        5                                                                                                                       \n192                                                      NaN                                                                                                                       \n234                                                      NaN                                                                                                                       \n\n          4.3 La IE cuenta con espacios de discusión y planeación para actividades de desarrollo profesional  \\\nCódigo IE                                                                                                      \n1                                                        NaN                                                   \n2                                                          5                                                   \n3                                                          5                                                   \n4                                                         2B                                                   \n5                                                          5                                                   \n...                                                      ...                                                   \n250                                                       2B                                                   \n251                                                        5                                                   \n252                                                        5                                                   \n192                                                      NaN                                                   \n234                                                      NaN                                                   \n\n          2.7 La IE promueve al trabajo conjunto entre los docente y profesionales externos para impulsar prácticas inclusivas en la enseñanza de la computación y/o pensamiento computacional  \\\nCódigo IE                                                                                                                                                                                        \n1                                                        NaN                                                                                                                                     \n2                                                          5                                                                                                                                     \n3                                                          5                                                                                                                                     \n4                                                          4                                                                                                                                     \n5                                                          5                                                                                                                                     \n...                                                      ...                                                                                                                                     \n250                                                        5                                                                                                                                     \n251                                                        4                                                                                                                                     \n252                                                        4                                                                                                                                     \n192                                                      NaN                                                                                                                                     \n234                                                      NaN                                                                                                                                     \n\n          Nivel lider Dimensión 1  \nCódigo IE                          \n1                   0           0  \n2                  1A          1A  \n3                  1A          1A  \n4                  1B          1B  \n5                  1A          1A  \n...               ...         ...  \n250                1A          1A  \n251                1A          1A  \n252                1A          1A  \n192                 0           0  \n234                 0           0  \n\n[251 rows x 36 columns]",
      "text/html": "<div>\n<style scoped>\n    .dataframe tbody tr th:only-of-type {\n        vertical-align: middle;\n    }\n\n    .dataframe tbody tr th {\n        vertical-align: top;\n    }\n\n    .dataframe thead th {\n        text-align: right;\n    }\n</style>\n<table border=\"1\" class=\"dataframe\">\n  <thead>\n    <tr style=\"text-align: right;\">\n      <th></th>\n      <th>Cantidad docentes</th>\n      <th>apoyo</th>\n      <th>autoeficaciaPC</th>\n      <th>autoeficaciaTec</th>\n      <th>estereoBenev</th>\n      <th>frustracion</th>\n      <th>sentidoComunidad</th>\n      <th>sexismoBenev</th>\n      <th>sexismoSTEM</th>\n      <th>Nivel apoyo</th>\n      <th>...</th>\n      <th>1.6 El plan de estudios del área comprende el pensamiento computacional y su impacto dentro del proceso enseñanza-aprendizaje</th>\n      <th>4.11 Las directivas y el Consejo Directivo participan y evalúan la implementación de sistemas eficientes del plan de estudios del área.]</th>\n      <th>4.8 La IE tiene en cuenta los conocimientos del personal docente para enriquecer la visión institucional sobre la enseñanza de la computación y potenciar la comprensión de las/los estudiantes y desarrollo</th>\n      <th>4.7 La IE incentiva el trabajo coordinado entre los/las responsables del área</th>\n      <th>4.1 La IE tiene en cuenta el plan de estudios para determinar las actividades de desarrollo profesional</th>\n      <th>4.10 El Consejo Directivo del colegio está al tanto de que en la institución se está enseñando ciencias de la computación, y se encuentran involucrados en el proceso.</th>\n      <th>4.3 La IE cuenta con espacios de discusión y planeación para actividades de desarrollo profesional</th>\n      <th>2.7 La IE promueve al trabajo conjunto entre los docente y profesionales externos para impulsar prácticas inclusivas en la enseñanza de la computación y/o pensamiento computacional</th>\n      <th>Nivel lider</th>\n      <th>Dimensión 1</th>\n    </tr>\n    <tr>\n      <th>Código IE</th>\n      <th></th>\n      <th></th>\n      <th></th>\n      <th></th>\n      <th></th>\n      <th></th>\n      <th></th>\n      <th></th>\n      <th></th>\n      <th></th>\n      <th></th>\n      <th></th>\n      <th></th>\n      <th></th>\n      <th></th>\n      <th></th>\n      <th></th>\n      <th></th>\n      <th></th>\n      <th></th>\n      <th></th>\n    </tr>\n  </thead>\n  <tbody>\n    <tr>\n      <th>1</th>\n      <td>46.0</td>\n      <td>49.622803</td>\n      <td>59.814707</td>\n      <td>64.918832</td>\n      <td>46.089994</td>\n      <td>41.741815</td>\n      <td>58.390134</td>\n      <td>28.686969</td>\n      <td>16.854904</td>\n      <td>3</td>\n      <td>...</td>\n      <td>NaN</td>\n      <td>NaN</td>\n      <td>NaN</td>\n      <td>NaN</td>\n      <td>NaN</td>\n      <td>NaN</td>\n      <td>NaN</td>\n      <td>NaN</td>\n      <td>0</td>\n      <td>0</td>\n    </tr>\n    <tr>\n      <th>2</th>\n      <td>15.0</td>\n      <td>47.972548</td>\n      <td>48.757279</td>\n      <td>60.643556</td>\n      <td>31.751279</td>\n      <td>42.681452</td>\n      <td>59.362474</td>\n      <td>18.985117</td>\n      <td>14.718109</td>\n      <td>3</td>\n      <td>...</td>\n      <td>5</td>\n      <td>2B</td>\n      <td>5</td>\n      <td>5</td>\n      <td>5</td>\n      <td>5</td>\n      <td>5</td>\n      <td>5</td>\n      <td>1A</td>\n      <td>1A</td>\n    </tr>\n    <tr>\n      <th>3</th>\n      <td>22.0</td>\n      <td>49.260723</td>\n      <td>55.244607</td>\n      <td>62.115923</td>\n      <td>26.810311</td>\n      <td>43.917247</td>\n      <td>61.971430</td>\n      <td>21.364125</td>\n      <td>11.899076</td>\n      <td>3</td>\n      <td>...</td>\n      <td>5</td>\n      <td>2B</td>\n      <td>5</td>\n      <td>5</td>\n      <td>5</td>\n      <td>5</td>\n      <td>5</td>\n      <td>5</td>\n      <td>1A</td>\n      <td>1A</td>\n    </tr>\n    <tr>\n      <th>4</th>\n      <td>12.0</td>\n      <td>45.975194</td>\n      <td>38.564483</td>\n      <td>45.873455</td>\n      <td>45.830874</td>\n      <td>41.914483</td>\n      <td>48.333948</td>\n      <td>24.652591</td>\n      <td>18.008475</td>\n      <td>3</td>\n      <td>...</td>\n      <td>1B</td>\n      <td>5</td>\n      <td>2A</td>\n      <td>2B</td>\n      <td>2B</td>\n      <td>2A</td>\n      <td>2B</td>\n      <td>4</td>\n      <td>1B</td>\n      <td>1B</td>\n    </tr>\n    <tr>\n      <th>5</th>\n      <td>50.0</td>\n      <td>54.381643</td>\n      <td>63.013233</td>\n      <td>67.174771</td>\n      <td>41.471271</td>\n      <td>47.581149</td>\n      <td>62.450387</td>\n      <td>27.630984</td>\n      <td>15.133185</td>\n      <td>4</td>\n      <td>...</td>\n      <td>5</td>\n      <td>5</td>\n      <td>5</td>\n      <td>5</td>\n      <td>5</td>\n      <td>5</td>\n      <td>5</td>\n      <td>5</td>\n      <td>1A</td>\n      <td>1A</td>\n    </tr>\n    <tr>\n      <th>...</th>\n      <td>...</td>\n      <td>...</td>\n      <td>...</td>\n      <td>...</td>\n      <td>...</td>\n      <td>...</td>\n      <td>...</td>\n      <td>...</td>\n      <td>...</td>\n      <td>...</td>\n      <td>...</td>\n      <td>...</td>\n      <td>...</td>\n      <td>...</td>\n      <td>...</td>\n      <td>...</td>\n      <td>...</td>\n      <td>...</td>\n      <td>...</td>\n      <td>...</td>\n      <td>...</td>\n    </tr>\n    <tr>\n      <th>250</th>\n      <td>43.0</td>\n      <td>45.164134</td>\n      <td>62.150708</td>\n      <td>72.927187</td>\n      <td>40.159752</td>\n      <td>44.851252</td>\n      <td>69.700745</td>\n      <td>26.855680</td>\n      <td>17.527021</td>\n      <td>3</td>\n      <td>...</td>\n      <td>1B</td>\n      <td>5</td>\n      <td>2A</td>\n      <td>5</td>\n      <td>2B</td>\n      <td>5</td>\n      <td>2B</td>\n      <td>5</td>\n      <td>1A</td>\n      <td>1A</td>\n    </tr>\n    <tr>\n      <th>251</th>\n      <td>52.0</td>\n      <td>51.679651</td>\n      <td>59.324667</td>\n      <td>62.264824</td>\n      <td>40.134298</td>\n      <td>43.411232</td>\n      <td>59.369236</td>\n      <td>31.374395</td>\n      <td>22.222861</td>\n      <td>4</td>\n      <td>...</td>\n      <td>1B</td>\n      <td>5</td>\n      <td>5</td>\n      <td>5</td>\n      <td>5</td>\n      <td>5</td>\n      <td>5</td>\n      <td>4</td>\n      <td>1A</td>\n      <td>1A</td>\n    </tr>\n    <tr>\n      <th>252</th>\n      <td>22.0</td>\n      <td>44.281323</td>\n      <td>57.156572</td>\n      <td>62.395501</td>\n      <td>38.385478</td>\n      <td>44.904692</td>\n      <td>56.637101</td>\n      <td>23.066837</td>\n      <td>18.692726</td>\n      <td>3</td>\n      <td>...</td>\n      <td>1B</td>\n      <td>5</td>\n      <td>5</td>\n      <td>5</td>\n      <td>5</td>\n      <td>5</td>\n      <td>5</td>\n      <td>4</td>\n      <td>1A</td>\n      <td>1A</td>\n    </tr>\n    <tr>\n      <th>192</th>\n      <td>NaN</td>\n      <td>NaN</td>\n      <td>NaN</td>\n      <td>NaN</td>\n      <td>NaN</td>\n      <td>NaN</td>\n      <td>NaN</td>\n      <td>NaN</td>\n      <td>NaN</td>\n      <td>0</td>\n      <td>...</td>\n      <td>NaN</td>\n      <td>NaN</td>\n      <td>NaN</td>\n      <td>NaN</td>\n      <td>NaN</td>\n      <td>NaN</td>\n      <td>NaN</td>\n      <td>NaN</td>\n      <td>0</td>\n      <td>0</td>\n    </tr>\n    <tr>\n      <th>234</th>\n      <td>NaN</td>\n      <td>NaN</td>\n      <td>NaN</td>\n      <td>NaN</td>\n      <td>NaN</td>\n      <td>NaN</td>\n      <td>NaN</td>\n      <td>NaN</td>\n      <td>NaN</td>\n      <td>0</td>\n      <td>...</td>\n      <td>NaN</td>\n      <td>NaN</td>\n      <td>NaN</td>\n      <td>NaN</td>\n      <td>NaN</td>\n      <td>NaN</td>\n      <td>NaN</td>\n      <td>NaN</td>\n      <td>0</td>\n      <td>0</td>\n    </tr>\n  </tbody>\n</table>\n<p>251 rows × 36 columns</p>\n</div>"
     },
     "execution_count": 42,
     "metadata": {},
     "output_type": "execute_result"
    }
   ],
   "source": [
    "dimension1['Dimensión 1'] = dimension1.filter(regex='^Nivel').min(axis=1)\n",
    "dimension1"
   ],
   "metadata": {
    "collapsed": false,
    "pycharm": {
     "name": "#%%\n"
    }
   }
  },
  {
   "cell_type": "code",
   "execution_count": 43,
   "outputs": [
    {
     "data": {
      "text/plain": "     Código IE Dimensión 1\n0            1           0\n1            2          1A\n2            3          1A\n3            4          1B\n4            5          1A\n..         ...         ...\n246        250          1A\n247        251          1A\n248        252          1A\n249        192           0\n250        234           0\n\n[251 rows x 2 columns]",
      "text/html": "<div>\n<style scoped>\n    .dataframe tbody tr th:only-of-type {\n        vertical-align: middle;\n    }\n\n    .dataframe tbody tr th {\n        vertical-align: top;\n    }\n\n    .dataframe thead th {\n        text-align: right;\n    }\n</style>\n<table border=\"1\" class=\"dataframe\">\n  <thead>\n    <tr style=\"text-align: right;\">\n      <th></th>\n      <th>Código IE</th>\n      <th>Dimensión 1</th>\n    </tr>\n  </thead>\n  <tbody>\n    <tr>\n      <th>0</th>\n      <td>1</td>\n      <td>0</td>\n    </tr>\n    <tr>\n      <th>1</th>\n      <td>2</td>\n      <td>1A</td>\n    </tr>\n    <tr>\n      <th>2</th>\n      <td>3</td>\n      <td>1A</td>\n    </tr>\n    <tr>\n      <th>3</th>\n      <td>4</td>\n      <td>1B</td>\n    </tr>\n    <tr>\n      <th>4</th>\n      <td>5</td>\n      <td>1A</td>\n    </tr>\n    <tr>\n      <th>...</th>\n      <td>...</td>\n      <td>...</td>\n    </tr>\n    <tr>\n      <th>246</th>\n      <td>250</td>\n      <td>1A</td>\n    </tr>\n    <tr>\n      <th>247</th>\n      <td>251</td>\n      <td>1A</td>\n    </tr>\n    <tr>\n      <th>248</th>\n      <td>252</td>\n      <td>1A</td>\n    </tr>\n    <tr>\n      <th>249</th>\n      <td>192</td>\n      <td>0</td>\n    </tr>\n    <tr>\n      <th>250</th>\n      <td>234</td>\n      <td>0</td>\n    </tr>\n  </tbody>\n</table>\n<p>251 rows × 2 columns</p>\n</div>"
     },
     "execution_count": 43,
     "metadata": {},
     "output_type": "execute_result"
    }
   ],
   "source": [
    "dimension = dimension1['Dimensión 1']\n",
    "dimension = dimension.reset_index()\n",
    "dimension"
   ],
   "metadata": {
    "collapsed": false,
    "pycharm": {
     "name": "#%%\n"
    }
   }
  },
  {
   "cell_type": "code",
   "execution_count": 44,
   "outputs": [],
   "source": [
    "dimension.to_excel('Dimensión 1.xlsx', index=False)"
   ],
   "metadata": {
    "collapsed": false,
    "pycharm": {
     "name": "#%%\n"
    }
   }
  },
  {
   "cell_type": "code",
   "execution_count": null,
   "outputs": [],
   "source": [],
   "metadata": {
    "collapsed": false,
    "pycharm": {
     "name": "#%%\n"
    }
   }
  }
 ],
 "metadata": {
  "kernelspec": {
   "display_name": "Python 3",
   "language": "python",
   "name": "python3"
  },
  "language_info": {
   "codemirror_mode": {
    "name": "ipython",
    "version": 2
   },
   "file_extension": ".py",
   "mimetype": "text/x-python",
   "name": "python",
   "nbconvert_exporter": "python",
   "pygments_lexer": "ipython2",
   "version": "2.7.6"
  }
 },
 "nbformat": 4,
 "nbformat_minor": 0
}