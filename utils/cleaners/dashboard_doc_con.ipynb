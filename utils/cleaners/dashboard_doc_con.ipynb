{
 "cells": [
  {
   "cell_type": "code",
   "execution_count": 1,
   "metadata": {
    "collapsed": true
   },
   "outputs": [],
   "source": [
    "import pandas as pd\n",
    "import plotly.express as px"
   ]
  },
  {
   "cell_type": "code",
   "execution_count": 43,
   "outputs": [
    {
     "data": {
      "text/plain": "           ID                                     Clases Grados     Nivel_x  \\\n0  57440504.0  Ciencias naturales y educación ambiental.    10°  Secundaria   \n1  57440504.0  Ciencias naturales y educación ambiental.    11°  Secundaria   \n2  57440504.0  Ciencias naturales y educación ambiental.     9°  Secundaria   \n3  35895805.0  Ciencias naturales y educación ambiental.    10°  Secundaria   \n4  35895805.0  Ciencias naturales y educación ambiental.    11°  Secundaria   \n\n      Nivel_y  Fecha Política de datos  Código IE               Tipo ID  Edad  \\\n0  Secundaria  19/04                Sí        129  Cédula de ciudadanía  48.0   \n1  Secundaria  19/04                Sí        129  Cédula de ciudadanía  48.0   \n2  Secundaria  19/04                Sí        129  Cédula de ciudadanía  48.0   \n3  Secundaria  19/04                Sí          7  Cédula de ciudadanía  37.0   \n4  Secundaria  19/04                Sí          7  Cédula de ciudadanía  37.0   \n\n       Sexo Cabeza de hogar                Estado civil Líder comunitario  \\\n0  Femenino              Sí   Separado/a o Divorciado/a                No   \n1  Femenino              Sí   Separado/a o Divorciado/a                No   \n2  Femenino              Sí   Separado/a o Divorciado/a                No   \n3  Femenino              Sí  Casado/a o  En unión libre                No   \n4  Femenino              Sí  Casado/a o  En unión libre                No   \n\n  Formado CFK Implementa fichas Enseña STEM Formado STEM  \\\n0          No                No        STEM         STEM   \n1          No                No        STEM         STEM   \n2          No                No        STEM         STEM   \n3          No                No        STEM         STEM   \n4          No                No        STEM         STEM   \n\n  Formado tecnología e informática  \n0                               No  \n1                               No  \n2                               No  \n3                               No  \n4                               No  ",
      "text/html": "<div>\n<style scoped>\n    .dataframe tbody tr th:only-of-type {\n        vertical-align: middle;\n    }\n\n    .dataframe tbody tr th {\n        vertical-align: top;\n    }\n\n    .dataframe thead th {\n        text-align: right;\n    }\n</style>\n<table border=\"1\" class=\"dataframe\">\n  <thead>\n    <tr style=\"text-align: right;\">\n      <th></th>\n      <th>ID</th>\n      <th>Clases</th>\n      <th>Grados</th>\n      <th>Nivel_x</th>\n      <th>Nivel_y</th>\n      <th>Fecha</th>\n      <th>Política de datos</th>\n      <th>Código IE</th>\n      <th>Tipo ID</th>\n      <th>Edad</th>\n      <th>Sexo</th>\n      <th>Cabeza de hogar</th>\n      <th>Estado civil</th>\n      <th>Líder comunitario</th>\n      <th>Formado CFK</th>\n      <th>Implementa fichas</th>\n      <th>Enseña STEM</th>\n      <th>Formado STEM</th>\n      <th>Formado tecnología e informática</th>\n    </tr>\n  </thead>\n  <tbody>\n    <tr>\n      <th>0</th>\n      <td>57440504.0</td>\n      <td>Ciencias naturales y educación ambiental.</td>\n      <td>10°</td>\n      <td>Secundaria</td>\n      <td>Secundaria</td>\n      <td>19/04</td>\n      <td>Sí</td>\n      <td>129</td>\n      <td>Cédula de ciudadanía</td>\n      <td>48.0</td>\n      <td>Femenino</td>\n      <td>Sí</td>\n      <td>Separado/a o Divorciado/a</td>\n      <td>No</td>\n      <td>No</td>\n      <td>No</td>\n      <td>STEM</td>\n      <td>STEM</td>\n      <td>No</td>\n    </tr>\n    <tr>\n      <th>1</th>\n      <td>57440504.0</td>\n      <td>Ciencias naturales y educación ambiental.</td>\n      <td>11°</td>\n      <td>Secundaria</td>\n      <td>Secundaria</td>\n      <td>19/04</td>\n      <td>Sí</td>\n      <td>129</td>\n      <td>Cédula de ciudadanía</td>\n      <td>48.0</td>\n      <td>Femenino</td>\n      <td>Sí</td>\n      <td>Separado/a o Divorciado/a</td>\n      <td>No</td>\n      <td>No</td>\n      <td>No</td>\n      <td>STEM</td>\n      <td>STEM</td>\n      <td>No</td>\n    </tr>\n    <tr>\n      <th>2</th>\n      <td>57440504.0</td>\n      <td>Ciencias naturales y educación ambiental.</td>\n      <td>9°</td>\n      <td>Secundaria</td>\n      <td>Secundaria</td>\n      <td>19/04</td>\n      <td>Sí</td>\n      <td>129</td>\n      <td>Cédula de ciudadanía</td>\n      <td>48.0</td>\n      <td>Femenino</td>\n      <td>Sí</td>\n      <td>Separado/a o Divorciado/a</td>\n      <td>No</td>\n      <td>No</td>\n      <td>No</td>\n      <td>STEM</td>\n      <td>STEM</td>\n      <td>No</td>\n    </tr>\n    <tr>\n      <th>3</th>\n      <td>35895805.0</td>\n      <td>Ciencias naturales y educación ambiental.</td>\n      <td>10°</td>\n      <td>Secundaria</td>\n      <td>Secundaria</td>\n      <td>19/04</td>\n      <td>Sí</td>\n      <td>7</td>\n      <td>Cédula de ciudadanía</td>\n      <td>37.0</td>\n      <td>Femenino</td>\n      <td>Sí</td>\n      <td>Casado/a o  En unión libre</td>\n      <td>No</td>\n      <td>No</td>\n      <td>No</td>\n      <td>STEM</td>\n      <td>STEM</td>\n      <td>No</td>\n    </tr>\n    <tr>\n      <th>4</th>\n      <td>35895805.0</td>\n      <td>Ciencias naturales y educación ambiental.</td>\n      <td>11°</td>\n      <td>Secundaria</td>\n      <td>Secundaria</td>\n      <td>19/04</td>\n      <td>Sí</td>\n      <td>7</td>\n      <td>Cédula de ciudadanía</td>\n      <td>37.0</td>\n      <td>Femenino</td>\n      <td>Sí</td>\n      <td>Casado/a o  En unión libre</td>\n      <td>No</td>\n      <td>No</td>\n      <td>No</td>\n      <td>STEM</td>\n      <td>STEM</td>\n      <td>No</td>\n    </tr>\n  </tbody>\n</table>\n</div>"
     },
     "execution_count": 43,
     "metadata": {},
     "output_type": "execute_result"
    }
   ],
   "source": [
    "df = pd.read_feather('../../data/Doc_Con_Pre_sociodemo.feather')\n",
    "df.head()"
   ],
   "metadata": {
    "collapsed": false,
    "pycharm": {
     "name": "#%%\n"
    }
   }
  },
  {
   "cell_type": "code",
   "execution_count": 44,
   "outputs": [
    {
     "data": {
      "application/vnd.plotly.v1+json": {
       "data": [
        {
         "alignmentgroup": "True",
         "hovertemplate": "Sexo=%{x}<br>ID=%{text}<extra></extra>",
         "legendgroup": "Femenino",
         "marker": {
          "color": "rgb(102,194,165)",
          "pattern": {
           "shape": ""
          }
         },
         "name": "Femenino",
         "offsetgroup": "Femenino",
         "orientation": "v",
         "showlegend": true,
         "text": [
          613.0
         ],
         "textposition": "outside",
         "x": [
          "Femenino"
         ],
         "xaxis": "x",
         "y": [
          613
         ],
         "yaxis": "y",
         "type": "bar",
         "texttemplate": "%{text}"
        },
        {
         "alignmentgroup": "True",
         "hovertemplate": "Sexo=%{x}<br>ID=%{text}<extra></extra>",
         "legendgroup": "Masculino",
         "marker": {
          "color": "rgb(252,141,98)",
          "pattern": {
           "shape": ""
          }
         },
         "name": "Masculino",
         "offsetgroup": "Masculino",
         "orientation": "v",
         "showlegend": true,
         "text": [
          363.0
         ],
         "textposition": "outside",
         "x": [
          "Masculino"
         ],
         "xaxis": "x",
         "y": [
          363
         ],
         "yaxis": "y",
         "type": "bar",
         "texttemplate": "%{text}"
        },
        {
         "alignmentgroup": "True",
         "hovertemplate": "Sexo=%{x}<br>ID=%{text}<extra></extra>",
         "legendgroup": "Prefiero no responder",
         "marker": {
          "color": "rgb(141,160,203)",
          "pattern": {
           "shape": ""
          }
         },
         "name": "Prefiero no responder",
         "offsetgroup": "Prefiero no responder",
         "orientation": "v",
         "showlegend": true,
         "text": [
          3.0
         ],
         "textposition": "outside",
         "x": [
          "Prefiero no responder"
         ],
         "xaxis": "x",
         "y": [
          3
         ],
         "yaxis": "y",
         "type": "bar",
         "texttemplate": "%{text}"
        }
       ],
       "layout": {
        "template": {
         "data": {
          "histogram2dcontour": [
           {
            "type": "histogram2dcontour",
            "colorbar": {
             "outlinewidth": 0,
             "ticks": ""
            },
            "colorscale": [
             [
              0.0,
              "#0d0887"
             ],
             [
              0.1111111111111111,
              "#46039f"
             ],
             [
              0.2222222222222222,
              "#7201a8"
             ],
             [
              0.3333333333333333,
              "#9c179e"
             ],
             [
              0.4444444444444444,
              "#bd3786"
             ],
             [
              0.5555555555555556,
              "#d8576b"
             ],
             [
              0.6666666666666666,
              "#ed7953"
             ],
             [
              0.7777777777777778,
              "#fb9f3a"
             ],
             [
              0.8888888888888888,
              "#fdca26"
             ],
             [
              1.0,
              "#f0f921"
             ]
            ]
           }
          ],
          "choropleth": [
           {
            "type": "choropleth",
            "colorbar": {
             "outlinewidth": 0,
             "ticks": ""
            }
           }
          ],
          "histogram2d": [
           {
            "type": "histogram2d",
            "colorbar": {
             "outlinewidth": 0,
             "ticks": ""
            },
            "colorscale": [
             [
              0.0,
              "#0d0887"
             ],
             [
              0.1111111111111111,
              "#46039f"
             ],
             [
              0.2222222222222222,
              "#7201a8"
             ],
             [
              0.3333333333333333,
              "#9c179e"
             ],
             [
              0.4444444444444444,
              "#bd3786"
             ],
             [
              0.5555555555555556,
              "#d8576b"
             ],
             [
              0.6666666666666666,
              "#ed7953"
             ],
             [
              0.7777777777777778,
              "#fb9f3a"
             ],
             [
              0.8888888888888888,
              "#fdca26"
             ],
             [
              1.0,
              "#f0f921"
             ]
            ]
           }
          ],
          "heatmap": [
           {
            "type": "heatmap",
            "colorbar": {
             "outlinewidth": 0,
             "ticks": ""
            },
            "colorscale": [
             [
              0.0,
              "#0d0887"
             ],
             [
              0.1111111111111111,
              "#46039f"
             ],
             [
              0.2222222222222222,
              "#7201a8"
             ],
             [
              0.3333333333333333,
              "#9c179e"
             ],
             [
              0.4444444444444444,
              "#bd3786"
             ],
             [
              0.5555555555555556,
              "#d8576b"
             ],
             [
              0.6666666666666666,
              "#ed7953"
             ],
             [
              0.7777777777777778,
              "#fb9f3a"
             ],
             [
              0.8888888888888888,
              "#fdca26"
             ],
             [
              1.0,
              "#f0f921"
             ]
            ]
           }
          ],
          "heatmapgl": [
           {
            "type": "heatmapgl",
            "colorbar": {
             "outlinewidth": 0,
             "ticks": ""
            },
            "colorscale": [
             [
              0.0,
              "#0d0887"
             ],
             [
              0.1111111111111111,
              "#46039f"
             ],
             [
              0.2222222222222222,
              "#7201a8"
             ],
             [
              0.3333333333333333,
              "#9c179e"
             ],
             [
              0.4444444444444444,
              "#bd3786"
             ],
             [
              0.5555555555555556,
              "#d8576b"
             ],
             [
              0.6666666666666666,
              "#ed7953"
             ],
             [
              0.7777777777777778,
              "#fb9f3a"
             ],
             [
              0.8888888888888888,
              "#fdca26"
             ],
             [
              1.0,
              "#f0f921"
             ]
            ]
           }
          ],
          "contourcarpet": [
           {
            "type": "contourcarpet",
            "colorbar": {
             "outlinewidth": 0,
             "ticks": ""
            }
           }
          ],
          "contour": [
           {
            "type": "contour",
            "colorbar": {
             "outlinewidth": 0,
             "ticks": ""
            },
            "colorscale": [
             [
              0.0,
              "#0d0887"
             ],
             [
              0.1111111111111111,
              "#46039f"
             ],
             [
              0.2222222222222222,
              "#7201a8"
             ],
             [
              0.3333333333333333,
              "#9c179e"
             ],
             [
              0.4444444444444444,
              "#bd3786"
             ],
             [
              0.5555555555555556,
              "#d8576b"
             ],
             [
              0.6666666666666666,
              "#ed7953"
             ],
             [
              0.7777777777777778,
              "#fb9f3a"
             ],
             [
              0.8888888888888888,
              "#fdca26"
             ],
             [
              1.0,
              "#f0f921"
             ]
            ]
           }
          ],
          "surface": [
           {
            "type": "surface",
            "colorbar": {
             "outlinewidth": 0,
             "ticks": ""
            },
            "colorscale": [
             [
              0.0,
              "#0d0887"
             ],
             [
              0.1111111111111111,
              "#46039f"
             ],
             [
              0.2222222222222222,
              "#7201a8"
             ],
             [
              0.3333333333333333,
              "#9c179e"
             ],
             [
              0.4444444444444444,
              "#bd3786"
             ],
             [
              0.5555555555555556,
              "#d8576b"
             ],
             [
              0.6666666666666666,
              "#ed7953"
             ],
             [
              0.7777777777777778,
              "#fb9f3a"
             ],
             [
              0.8888888888888888,
              "#fdca26"
             ],
             [
              1.0,
              "#f0f921"
             ]
            ]
           }
          ],
          "mesh3d": [
           {
            "type": "mesh3d",
            "colorbar": {
             "outlinewidth": 0,
             "ticks": ""
            }
           }
          ],
          "scatter": [
           {
            "fillpattern": {
             "fillmode": "overlay",
             "size": 10,
             "solidity": 0.2
            },
            "type": "scatter"
           }
          ],
          "parcoords": [
           {
            "type": "parcoords",
            "line": {
             "colorbar": {
              "outlinewidth": 0,
              "ticks": ""
             }
            }
           }
          ],
          "scatterpolargl": [
           {
            "type": "scatterpolargl",
            "marker": {
             "colorbar": {
              "outlinewidth": 0,
              "ticks": ""
             }
            }
           }
          ],
          "bar": [
           {
            "error_x": {
             "color": "#2a3f5f"
            },
            "error_y": {
             "color": "#2a3f5f"
            },
            "marker": {
             "line": {
              "color": "#E5ECF6",
              "width": 0.5
             },
             "pattern": {
              "fillmode": "overlay",
              "size": 10,
              "solidity": 0.2
             }
            },
            "type": "bar"
           }
          ],
          "scattergeo": [
           {
            "type": "scattergeo",
            "marker": {
             "colorbar": {
              "outlinewidth": 0,
              "ticks": ""
             }
            }
           }
          ],
          "scatterpolar": [
           {
            "type": "scatterpolar",
            "marker": {
             "colorbar": {
              "outlinewidth": 0,
              "ticks": ""
             }
            }
           }
          ],
          "histogram": [
           {
            "marker": {
             "pattern": {
              "fillmode": "overlay",
              "size": 10,
              "solidity": 0.2
             }
            },
            "type": "histogram"
           }
          ],
          "scattergl": [
           {
            "type": "scattergl",
            "marker": {
             "colorbar": {
              "outlinewidth": 0,
              "ticks": ""
             }
            }
           }
          ],
          "scatter3d": [
           {
            "type": "scatter3d",
            "line": {
             "colorbar": {
              "outlinewidth": 0,
              "ticks": ""
             }
            },
            "marker": {
             "colorbar": {
              "outlinewidth": 0,
              "ticks": ""
             }
            }
           }
          ],
          "scattermapbox": [
           {
            "type": "scattermapbox",
            "marker": {
             "colorbar": {
              "outlinewidth": 0,
              "ticks": ""
             }
            }
           }
          ],
          "scatterternary": [
           {
            "type": "scatterternary",
            "marker": {
             "colorbar": {
              "outlinewidth": 0,
              "ticks": ""
             }
            }
           }
          ],
          "scattercarpet": [
           {
            "type": "scattercarpet",
            "marker": {
             "colorbar": {
              "outlinewidth": 0,
              "ticks": ""
             }
            }
           }
          ],
          "carpet": [
           {
            "aaxis": {
             "endlinecolor": "#2a3f5f",
             "gridcolor": "white",
             "linecolor": "white",
             "minorgridcolor": "white",
             "startlinecolor": "#2a3f5f"
            },
            "baxis": {
             "endlinecolor": "#2a3f5f",
             "gridcolor": "white",
             "linecolor": "white",
             "minorgridcolor": "white",
             "startlinecolor": "#2a3f5f"
            },
            "type": "carpet"
           }
          ],
          "table": [
           {
            "cells": {
             "fill": {
              "color": "#EBF0F8"
             },
             "line": {
              "color": "white"
             }
            },
            "header": {
             "fill": {
              "color": "#C8D4E3"
             },
             "line": {
              "color": "white"
             }
            },
            "type": "table"
           }
          ],
          "barpolar": [
           {
            "marker": {
             "line": {
              "color": "#E5ECF6",
              "width": 0.5
             },
             "pattern": {
              "fillmode": "overlay",
              "size": 10,
              "solidity": 0.2
             }
            },
            "type": "barpolar"
           }
          ],
          "pie": [
           {
            "automargin": true,
            "type": "pie"
           }
          ]
         },
         "layout": {
          "autotypenumbers": "strict",
          "colorway": [
           "#636efa",
           "#EF553B",
           "#00cc96",
           "#ab63fa",
           "#FFA15A",
           "#19d3f3",
           "#FF6692",
           "#B6E880",
           "#FF97FF",
           "#FECB52"
          ],
          "font": {
           "color": "#2a3f5f"
          },
          "hovermode": "closest",
          "hoverlabel": {
           "align": "left"
          },
          "paper_bgcolor": "white",
          "plot_bgcolor": "#E5ECF6",
          "polar": {
           "bgcolor": "#E5ECF6",
           "angularaxis": {
            "gridcolor": "white",
            "linecolor": "white",
            "ticks": ""
           },
           "radialaxis": {
            "gridcolor": "white",
            "linecolor": "white",
            "ticks": ""
           }
          },
          "ternary": {
           "bgcolor": "#E5ECF6",
           "aaxis": {
            "gridcolor": "white",
            "linecolor": "white",
            "ticks": ""
           },
           "baxis": {
            "gridcolor": "white",
            "linecolor": "white",
            "ticks": ""
           },
           "caxis": {
            "gridcolor": "white",
            "linecolor": "white",
            "ticks": ""
           }
          },
          "coloraxis": {
           "colorbar": {
            "outlinewidth": 0,
            "ticks": ""
           }
          },
          "colorscale": {
           "sequential": [
            [
             0.0,
             "#0d0887"
            ],
            [
             0.1111111111111111,
             "#46039f"
            ],
            [
             0.2222222222222222,
             "#7201a8"
            ],
            [
             0.3333333333333333,
             "#9c179e"
            ],
            [
             0.4444444444444444,
             "#bd3786"
            ],
            [
             0.5555555555555556,
             "#d8576b"
            ],
            [
             0.6666666666666666,
             "#ed7953"
            ],
            [
             0.7777777777777778,
             "#fb9f3a"
            ],
            [
             0.8888888888888888,
             "#fdca26"
            ],
            [
             1.0,
             "#f0f921"
            ]
           ],
           "sequentialminus": [
            [
             0.0,
             "#0d0887"
            ],
            [
             0.1111111111111111,
             "#46039f"
            ],
            [
             0.2222222222222222,
             "#7201a8"
            ],
            [
             0.3333333333333333,
             "#9c179e"
            ],
            [
             0.4444444444444444,
             "#bd3786"
            ],
            [
             0.5555555555555556,
             "#d8576b"
            ],
            [
             0.6666666666666666,
             "#ed7953"
            ],
            [
             0.7777777777777778,
             "#fb9f3a"
            ],
            [
             0.8888888888888888,
             "#fdca26"
            ],
            [
             1.0,
             "#f0f921"
            ]
           ],
           "diverging": [
            [
             0,
             "#8e0152"
            ],
            [
             0.1,
             "#c51b7d"
            ],
            [
             0.2,
             "#de77ae"
            ],
            [
             0.3,
             "#f1b6da"
            ],
            [
             0.4,
             "#fde0ef"
            ],
            [
             0.5,
             "#f7f7f7"
            ],
            [
             0.6,
             "#e6f5d0"
            ],
            [
             0.7,
             "#b8e186"
            ],
            [
             0.8,
             "#7fbc41"
            ],
            [
             0.9,
             "#4d9221"
            ],
            [
             1,
             "#276419"
            ]
           ]
          },
          "xaxis": {
           "gridcolor": "white",
           "linecolor": "white",
           "ticks": "",
           "title": {
            "standoff": 15
           },
           "zerolinecolor": "white",
           "automargin": true,
           "zerolinewidth": 2
          },
          "yaxis": {
           "gridcolor": "white",
           "linecolor": "white",
           "ticks": "",
           "title": {
            "standoff": 15
           },
           "zerolinecolor": "white",
           "automargin": true,
           "zerolinewidth": 2
          },
          "scene": {
           "xaxis": {
            "backgroundcolor": "#E5ECF6",
            "gridcolor": "white",
            "linecolor": "white",
            "showbackground": true,
            "ticks": "",
            "zerolinecolor": "white",
            "gridwidth": 2
           },
           "yaxis": {
            "backgroundcolor": "#E5ECF6",
            "gridcolor": "white",
            "linecolor": "white",
            "showbackground": true,
            "ticks": "",
            "zerolinecolor": "white",
            "gridwidth": 2
           },
           "zaxis": {
            "backgroundcolor": "#E5ECF6",
            "gridcolor": "white",
            "linecolor": "white",
            "showbackground": true,
            "ticks": "",
            "zerolinecolor": "white",
            "gridwidth": 2
           }
          },
          "shapedefaults": {
           "line": {
            "color": "#2a3f5f"
           }
          },
          "annotationdefaults": {
           "arrowcolor": "#2a3f5f",
           "arrowhead": 0,
           "arrowwidth": 1
          },
          "geo": {
           "bgcolor": "white",
           "landcolor": "#E5ECF6",
           "subunitcolor": "white",
           "showland": true,
           "showlakes": true,
           "lakecolor": "white"
          },
          "title": {
           "x": 0.05
          },
          "mapbox": {
           "style": "light"
          }
         }
        },
        "xaxis": {
         "anchor": "y",
         "domain": [
          0.0,
          1.0
         ],
         "title": {
          "text": "Sexo"
         },
         "categoryorder": "array",
         "categoryarray": [
          "Femenino",
          "Masculino",
          "Prefiero no responder"
         ]
        },
        "yaxis": {
         "anchor": "x",
         "domain": [
          0.0,
          1.0
         ],
         "title": {
          "text": "ID"
         }
        },
        "legend": {
         "title": {
          "text": "Sexo"
         },
         "tracegroupgap": 0
        },
        "title": {
         "text": "Docentes participantes"
        },
        "barmode": "relative"
       },
       "config": {
        "plotlyServerURL": "https://plot.ly"
       }
      },
      "text/html": "<div>                            <div id=\"2ad3b2df-9cc7-4bcc-9c2c-49902b052414\" class=\"plotly-graph-div\" style=\"height:525px; width:100%;\"></div>            <script type=\"text/javascript\">                require([\"plotly\"], function(Plotly) {                    window.PLOTLYENV=window.PLOTLYENV || {};                                    if (document.getElementById(\"2ad3b2df-9cc7-4bcc-9c2c-49902b052414\")) {                    Plotly.newPlot(                        \"2ad3b2df-9cc7-4bcc-9c2c-49902b052414\",                        [{\"alignmentgroup\":\"True\",\"hovertemplate\":\"Sexo=%{x}<br>ID=%{text}<extra></extra>\",\"legendgroup\":\"Femenino\",\"marker\":{\"color\":\"rgb(102,194,165)\",\"pattern\":{\"shape\":\"\"}},\"name\":\"Femenino\",\"offsetgroup\":\"Femenino\",\"orientation\":\"v\",\"showlegend\":true,\"text\":[613.0],\"textposition\":\"outside\",\"x\":[\"Femenino\"],\"xaxis\":\"x\",\"y\":[613],\"yaxis\":\"y\",\"type\":\"bar\",\"texttemplate\":\"%{text}\"},{\"alignmentgroup\":\"True\",\"hovertemplate\":\"Sexo=%{x}<br>ID=%{text}<extra></extra>\",\"legendgroup\":\"Masculino\",\"marker\":{\"color\":\"rgb(252,141,98)\",\"pattern\":{\"shape\":\"\"}},\"name\":\"Masculino\",\"offsetgroup\":\"Masculino\",\"orientation\":\"v\",\"showlegend\":true,\"text\":[363.0],\"textposition\":\"outside\",\"x\":[\"Masculino\"],\"xaxis\":\"x\",\"y\":[363],\"yaxis\":\"y\",\"type\":\"bar\",\"texttemplate\":\"%{text}\"},{\"alignmentgroup\":\"True\",\"hovertemplate\":\"Sexo=%{x}<br>ID=%{text}<extra></extra>\",\"legendgroup\":\"Prefiero no responder\",\"marker\":{\"color\":\"rgb(141,160,203)\",\"pattern\":{\"shape\":\"\"}},\"name\":\"Prefiero no responder\",\"offsetgroup\":\"Prefiero no responder\",\"orientation\":\"v\",\"showlegend\":true,\"text\":[3.0],\"textposition\":\"outside\",\"x\":[\"Prefiero no responder\"],\"xaxis\":\"x\",\"y\":[3],\"yaxis\":\"y\",\"type\":\"bar\",\"texttemplate\":\"%{text}\"}],                        {\"template\":{\"data\":{\"histogram2dcontour\":[{\"type\":\"histogram2dcontour\",\"colorbar\":{\"outlinewidth\":0,\"ticks\":\"\"},\"colorscale\":[[0.0,\"#0d0887\"],[0.1111111111111111,\"#46039f\"],[0.2222222222222222,\"#7201a8\"],[0.3333333333333333,\"#9c179e\"],[0.4444444444444444,\"#bd3786\"],[0.5555555555555556,\"#d8576b\"],[0.6666666666666666,\"#ed7953\"],[0.7777777777777778,\"#fb9f3a\"],[0.8888888888888888,\"#fdca26\"],[1.0,\"#f0f921\"]]}],\"choropleth\":[{\"type\":\"choropleth\",\"colorbar\":{\"outlinewidth\":0,\"ticks\":\"\"}}],\"histogram2d\":[{\"type\":\"histogram2d\",\"colorbar\":{\"outlinewidth\":0,\"ticks\":\"\"},\"colorscale\":[[0.0,\"#0d0887\"],[0.1111111111111111,\"#46039f\"],[0.2222222222222222,\"#7201a8\"],[0.3333333333333333,\"#9c179e\"],[0.4444444444444444,\"#bd3786\"],[0.5555555555555556,\"#d8576b\"],[0.6666666666666666,\"#ed7953\"],[0.7777777777777778,\"#fb9f3a\"],[0.8888888888888888,\"#fdca26\"],[1.0,\"#f0f921\"]]}],\"heatmap\":[{\"type\":\"heatmap\",\"colorbar\":{\"outlinewidth\":0,\"ticks\":\"\"},\"colorscale\":[[0.0,\"#0d0887\"],[0.1111111111111111,\"#46039f\"],[0.2222222222222222,\"#7201a8\"],[0.3333333333333333,\"#9c179e\"],[0.4444444444444444,\"#bd3786\"],[0.5555555555555556,\"#d8576b\"],[0.6666666666666666,\"#ed7953\"],[0.7777777777777778,\"#fb9f3a\"],[0.8888888888888888,\"#fdca26\"],[1.0,\"#f0f921\"]]}],\"heatmapgl\":[{\"type\":\"heatmapgl\",\"colorbar\":{\"outlinewidth\":0,\"ticks\":\"\"},\"colorscale\":[[0.0,\"#0d0887\"],[0.1111111111111111,\"#46039f\"],[0.2222222222222222,\"#7201a8\"],[0.3333333333333333,\"#9c179e\"],[0.4444444444444444,\"#bd3786\"],[0.5555555555555556,\"#d8576b\"],[0.6666666666666666,\"#ed7953\"],[0.7777777777777778,\"#fb9f3a\"],[0.8888888888888888,\"#fdca26\"],[1.0,\"#f0f921\"]]}],\"contourcarpet\":[{\"type\":\"contourcarpet\",\"colorbar\":{\"outlinewidth\":0,\"ticks\":\"\"}}],\"contour\":[{\"type\":\"contour\",\"colorbar\":{\"outlinewidth\":0,\"ticks\":\"\"},\"colorscale\":[[0.0,\"#0d0887\"],[0.1111111111111111,\"#46039f\"],[0.2222222222222222,\"#7201a8\"],[0.3333333333333333,\"#9c179e\"],[0.4444444444444444,\"#bd3786\"],[0.5555555555555556,\"#d8576b\"],[0.6666666666666666,\"#ed7953\"],[0.7777777777777778,\"#fb9f3a\"],[0.8888888888888888,\"#fdca26\"],[1.0,\"#f0f921\"]]}],\"surface\":[{\"type\":\"surface\",\"colorbar\":{\"outlinewidth\":0,\"ticks\":\"\"},\"colorscale\":[[0.0,\"#0d0887\"],[0.1111111111111111,\"#46039f\"],[0.2222222222222222,\"#7201a8\"],[0.3333333333333333,\"#9c179e\"],[0.4444444444444444,\"#bd3786\"],[0.5555555555555556,\"#d8576b\"],[0.6666666666666666,\"#ed7953\"],[0.7777777777777778,\"#fb9f3a\"],[0.8888888888888888,\"#fdca26\"],[1.0,\"#f0f921\"]]}],\"mesh3d\":[{\"type\":\"mesh3d\",\"colorbar\":{\"outlinewidth\":0,\"ticks\":\"\"}}],\"scatter\":[{\"fillpattern\":{\"fillmode\":\"overlay\",\"size\":10,\"solidity\":0.2},\"type\":\"scatter\"}],\"parcoords\":[{\"type\":\"parcoords\",\"line\":{\"colorbar\":{\"outlinewidth\":0,\"ticks\":\"\"}}}],\"scatterpolargl\":[{\"type\":\"scatterpolargl\",\"marker\":{\"colorbar\":{\"outlinewidth\":0,\"ticks\":\"\"}}}],\"bar\":[{\"error_x\":{\"color\":\"#2a3f5f\"},\"error_y\":{\"color\":\"#2a3f5f\"},\"marker\":{\"line\":{\"color\":\"#E5ECF6\",\"width\":0.5},\"pattern\":{\"fillmode\":\"overlay\",\"size\":10,\"solidity\":0.2}},\"type\":\"bar\"}],\"scattergeo\":[{\"type\":\"scattergeo\",\"marker\":{\"colorbar\":{\"outlinewidth\":0,\"ticks\":\"\"}}}],\"scatterpolar\":[{\"type\":\"scatterpolar\",\"marker\":{\"colorbar\":{\"outlinewidth\":0,\"ticks\":\"\"}}}],\"histogram\":[{\"marker\":{\"pattern\":{\"fillmode\":\"overlay\",\"size\":10,\"solidity\":0.2}},\"type\":\"histogram\"}],\"scattergl\":[{\"type\":\"scattergl\",\"marker\":{\"colorbar\":{\"outlinewidth\":0,\"ticks\":\"\"}}}],\"scatter3d\":[{\"type\":\"scatter3d\",\"line\":{\"colorbar\":{\"outlinewidth\":0,\"ticks\":\"\"}},\"marker\":{\"colorbar\":{\"outlinewidth\":0,\"ticks\":\"\"}}}],\"scattermapbox\":[{\"type\":\"scattermapbox\",\"marker\":{\"colorbar\":{\"outlinewidth\":0,\"ticks\":\"\"}}}],\"scatterternary\":[{\"type\":\"scatterternary\",\"marker\":{\"colorbar\":{\"outlinewidth\":0,\"ticks\":\"\"}}}],\"scattercarpet\":[{\"type\":\"scattercarpet\",\"marker\":{\"colorbar\":{\"outlinewidth\":0,\"ticks\":\"\"}}}],\"carpet\":[{\"aaxis\":{\"endlinecolor\":\"#2a3f5f\",\"gridcolor\":\"white\",\"linecolor\":\"white\",\"minorgridcolor\":\"white\",\"startlinecolor\":\"#2a3f5f\"},\"baxis\":{\"endlinecolor\":\"#2a3f5f\",\"gridcolor\":\"white\",\"linecolor\":\"white\",\"minorgridcolor\":\"white\",\"startlinecolor\":\"#2a3f5f\"},\"type\":\"carpet\"}],\"table\":[{\"cells\":{\"fill\":{\"color\":\"#EBF0F8\"},\"line\":{\"color\":\"white\"}},\"header\":{\"fill\":{\"color\":\"#C8D4E3\"},\"line\":{\"color\":\"white\"}},\"type\":\"table\"}],\"barpolar\":[{\"marker\":{\"line\":{\"color\":\"#E5ECF6\",\"width\":0.5},\"pattern\":{\"fillmode\":\"overlay\",\"size\":10,\"solidity\":0.2}},\"type\":\"barpolar\"}],\"pie\":[{\"automargin\":true,\"type\":\"pie\"}]},\"layout\":{\"autotypenumbers\":\"strict\",\"colorway\":[\"#636efa\",\"#EF553B\",\"#00cc96\",\"#ab63fa\",\"#FFA15A\",\"#19d3f3\",\"#FF6692\",\"#B6E880\",\"#FF97FF\",\"#FECB52\"],\"font\":{\"color\":\"#2a3f5f\"},\"hovermode\":\"closest\",\"hoverlabel\":{\"align\":\"left\"},\"paper_bgcolor\":\"white\",\"plot_bgcolor\":\"#E5ECF6\",\"polar\":{\"bgcolor\":\"#E5ECF6\",\"angularaxis\":{\"gridcolor\":\"white\",\"linecolor\":\"white\",\"ticks\":\"\"},\"radialaxis\":{\"gridcolor\":\"white\",\"linecolor\":\"white\",\"ticks\":\"\"}},\"ternary\":{\"bgcolor\":\"#E5ECF6\",\"aaxis\":{\"gridcolor\":\"white\",\"linecolor\":\"white\",\"ticks\":\"\"},\"baxis\":{\"gridcolor\":\"white\",\"linecolor\":\"white\",\"ticks\":\"\"},\"caxis\":{\"gridcolor\":\"white\",\"linecolor\":\"white\",\"ticks\":\"\"}},\"coloraxis\":{\"colorbar\":{\"outlinewidth\":0,\"ticks\":\"\"}},\"colorscale\":{\"sequential\":[[0.0,\"#0d0887\"],[0.1111111111111111,\"#46039f\"],[0.2222222222222222,\"#7201a8\"],[0.3333333333333333,\"#9c179e\"],[0.4444444444444444,\"#bd3786\"],[0.5555555555555556,\"#d8576b\"],[0.6666666666666666,\"#ed7953\"],[0.7777777777777778,\"#fb9f3a\"],[0.8888888888888888,\"#fdca26\"],[1.0,\"#f0f921\"]],\"sequentialminus\":[[0.0,\"#0d0887\"],[0.1111111111111111,\"#46039f\"],[0.2222222222222222,\"#7201a8\"],[0.3333333333333333,\"#9c179e\"],[0.4444444444444444,\"#bd3786\"],[0.5555555555555556,\"#d8576b\"],[0.6666666666666666,\"#ed7953\"],[0.7777777777777778,\"#fb9f3a\"],[0.8888888888888888,\"#fdca26\"],[1.0,\"#f0f921\"]],\"diverging\":[[0,\"#8e0152\"],[0.1,\"#c51b7d\"],[0.2,\"#de77ae\"],[0.3,\"#f1b6da\"],[0.4,\"#fde0ef\"],[0.5,\"#f7f7f7\"],[0.6,\"#e6f5d0\"],[0.7,\"#b8e186\"],[0.8,\"#7fbc41\"],[0.9,\"#4d9221\"],[1,\"#276419\"]]},\"xaxis\":{\"gridcolor\":\"white\",\"linecolor\":\"white\",\"ticks\":\"\",\"title\":{\"standoff\":15},\"zerolinecolor\":\"white\",\"automargin\":true,\"zerolinewidth\":2},\"yaxis\":{\"gridcolor\":\"white\",\"linecolor\":\"white\",\"ticks\":\"\",\"title\":{\"standoff\":15},\"zerolinecolor\":\"white\",\"automargin\":true,\"zerolinewidth\":2},\"scene\":{\"xaxis\":{\"backgroundcolor\":\"#E5ECF6\",\"gridcolor\":\"white\",\"linecolor\":\"white\",\"showbackground\":true,\"ticks\":\"\",\"zerolinecolor\":\"white\",\"gridwidth\":2},\"yaxis\":{\"backgroundcolor\":\"#E5ECF6\",\"gridcolor\":\"white\",\"linecolor\":\"white\",\"showbackground\":true,\"ticks\":\"\",\"zerolinecolor\":\"white\",\"gridwidth\":2},\"zaxis\":{\"backgroundcolor\":\"#E5ECF6\",\"gridcolor\":\"white\",\"linecolor\":\"white\",\"showbackground\":true,\"ticks\":\"\",\"zerolinecolor\":\"white\",\"gridwidth\":2}},\"shapedefaults\":{\"line\":{\"color\":\"#2a3f5f\"}},\"annotationdefaults\":{\"arrowcolor\":\"#2a3f5f\",\"arrowhead\":0,\"arrowwidth\":1},\"geo\":{\"bgcolor\":\"white\",\"landcolor\":\"#E5ECF6\",\"subunitcolor\":\"white\",\"showland\":true,\"showlakes\":true,\"lakecolor\":\"white\"},\"title\":{\"x\":0.05},\"mapbox\":{\"style\":\"light\"}}},\"xaxis\":{\"anchor\":\"y\",\"domain\":[0.0,1.0],\"title\":{\"text\":\"Sexo\"},\"categoryorder\":\"array\",\"categoryarray\":[\"Femenino\",\"Masculino\",\"Prefiero no responder\"]},\"yaxis\":{\"anchor\":\"x\",\"domain\":[0.0,1.0],\"title\":{\"text\":\"ID\"}},\"legend\":{\"title\":{\"text\":\"Sexo\"},\"tracegroupgap\":0},\"title\":{\"text\":\"Docentes participantes\"},\"barmode\":\"relative\"},                        {\"responsive\": true}                    ).then(function(){\n                            \nvar gd = document.getElementById('2ad3b2df-9cc7-4bcc-9c2c-49902b052414');\nvar x = new MutationObserver(function (mutations, observer) {{\n        var display = window.getComputedStyle(gd).display;\n        if (!display || display === 'none') {{\n            console.log([gd, 'removed!']);\n            Plotly.purge(gd);\n            observer.disconnect();\n        }}\n}});\n\n// Listen for the removal of the full notebook cells\nvar notebookContainer = gd.closest('#notebook-container');\nif (notebookContainer) {{\n    x.observe(notebookContainer, {childList: true});\n}}\n\n// Listen for the clearing of the current output cell\nvar outputEl = gd.closest('.output');\nif (outputEl) {{\n    x.observe(outputEl, {childList: true});\n}}\n\n                        })                };                });            </script>        </div>"
     },
     "metadata": {},
     "output_type": "display_data"
    }
   ],
   "source": [
    "pivot_1 = pd.pivot_table(df, index='Sexo', values='ID', aggfunc='nunique').reset_index()\n",
    "fig_1 = px.bar(pivot_1, x='Sexo', y ='ID',  color='Sexo', text='ID', color_discrete_sequence= px.colors.qualitative.Set2, title='Docentes participantes')\n",
    "fig_1.update_traces(textposition='outside',\n",
    "                    texttemplate='%{text}')\n",
    "fig_1.show()"
   ],
   "metadata": {
    "collapsed": false,
    "pycharm": {
     "name": "#%%\n"
    }
   }
  },
  {
   "cell_type": "code",
   "execution_count": 45,
   "outputs": [
    {
     "data": {
      "text/plain": "        ID                                             Clases Grados  \\\n1046  66.0          Ciencias naturales y educación ambiental.     2°   \n1047  66.0  Ciencias sociales, historia, geografía, consti...     2°   \n1048  66.0                               Educación artística.     2°   \n1049  66.0              Educación ética y en valores humanos.     2°   \n1050  66.0           Educación física, recreación y deportes.     2°   \n1051  66.0                               Educación religiosa.     2°   \n1052  66.0                               Educación religiosa.     2°   \n1053  66.0  Humanidades, lengua castellana e idiomas extra...     2°   \n1054  66.0                                       Matemáticas.     2°   \n\n       Nivel_x   Nivel_y  Fecha Política de datos  Código IE  \\\n1046  Primaria  Primaria  22/04                Sí         67   \n1047  Primaria  Primaria  22/04                Sí         67   \n1048  Primaria  Primaria  22/04                Sí         67   \n1049  Primaria  Primaria  22/04                Sí         67   \n1050  Primaria  Primaria  22/04                Sí         67   \n1051  Primaria  Primaria  22/04                Sí         67   \n1052  Primaria  Primaria  22/04                Sí         67   \n1053  Primaria  Primaria  22/04                Sí         67   \n1054  Primaria  Primaria  22/04                Sí         67   \n\n                   Tipo ID  Edad      Sexo Cabeza de hogar  \\\n1046  Cédula de ciudadanía  51.0  Femenino              Sí   \n1047  Cédula de ciudadanía  51.0  Femenino              Sí   \n1048  Cédula de ciudadanía  51.0  Femenino              Sí   \n1049  Cédula de ciudadanía  51.0  Femenino              Sí   \n1050  Cédula de ciudadanía  51.0  Femenino              Sí   \n1051  Cédula de ciudadanía  51.0  Femenino              Sí   \n1052  Cédula de ciudadanía  51.0  Femenino              Sí   \n1053  Cédula de ciudadanía  51.0  Femenino              Sí   \n1054  Cédula de ciudadanía  51.0  Femenino              Sí   \n\n                    Estado civil Líder comunitario Formado CFK  \\\n1046  Casado/a o  En unión libre                No          No   \n1047  Casado/a o  En unión libre                No          No   \n1048  Casado/a o  En unión libre                No          No   \n1049  Casado/a o  En unión libre                No          No   \n1050  Casado/a o  En unión libre                No          No   \n1051  Casado/a o  En unión libre                No          No   \n1052  Casado/a o  En unión libre                No          No   \n1053  Casado/a o  En unión libre                No          No   \n1054  Casado/a o  En unión libre                No          No   \n\n     Implementa fichas Enseña STEM Formado STEM  \\\n1046                No     No STEM      No STEM   \n1047                No     No STEM      No STEM   \n1048                No     No STEM      No STEM   \n1049                No     No STEM      No STEM   \n1050                No     No STEM      No STEM   \n1051                No     No STEM      No STEM   \n1052                No     No STEM      No STEM   \n1053                No     No STEM      No STEM   \n1054                No     No STEM      No STEM   \n\n     Formado tecnología e informática  \n1046                               No  \n1047                               No  \n1048                               No  \n1049                               No  \n1050                               No  \n1051                               No  \n1052                               No  \n1053                               No  \n1054                               No  ",
      "text/html": "<div>\n<style scoped>\n    .dataframe tbody tr th:only-of-type {\n        vertical-align: middle;\n    }\n\n    .dataframe tbody tr th {\n        vertical-align: top;\n    }\n\n    .dataframe thead th {\n        text-align: right;\n    }\n</style>\n<table border=\"1\" class=\"dataframe\">\n  <thead>\n    <tr style=\"text-align: right;\">\n      <th></th>\n      <th>ID</th>\n      <th>Clases</th>\n      <th>Grados</th>\n      <th>Nivel_x</th>\n      <th>Nivel_y</th>\n      <th>Fecha</th>\n      <th>Política de datos</th>\n      <th>Código IE</th>\n      <th>Tipo ID</th>\n      <th>Edad</th>\n      <th>Sexo</th>\n      <th>Cabeza de hogar</th>\n      <th>Estado civil</th>\n      <th>Líder comunitario</th>\n      <th>Formado CFK</th>\n      <th>Implementa fichas</th>\n      <th>Enseña STEM</th>\n      <th>Formado STEM</th>\n      <th>Formado tecnología e informática</th>\n    </tr>\n  </thead>\n  <tbody>\n    <tr>\n      <th>1046</th>\n      <td>66.0</td>\n      <td>Ciencias naturales y educación ambiental.</td>\n      <td>2°</td>\n      <td>Primaria</td>\n      <td>Primaria</td>\n      <td>22/04</td>\n      <td>Sí</td>\n      <td>67</td>\n      <td>Cédula de ciudadanía</td>\n      <td>51.0</td>\n      <td>Femenino</td>\n      <td>Sí</td>\n      <td>Casado/a o  En unión libre</td>\n      <td>No</td>\n      <td>No</td>\n      <td>No</td>\n      <td>No STEM</td>\n      <td>No STEM</td>\n      <td>No</td>\n    </tr>\n    <tr>\n      <th>1047</th>\n      <td>66.0</td>\n      <td>Ciencias sociales, historia, geografía, consti...</td>\n      <td>2°</td>\n      <td>Primaria</td>\n      <td>Primaria</td>\n      <td>22/04</td>\n      <td>Sí</td>\n      <td>67</td>\n      <td>Cédula de ciudadanía</td>\n      <td>51.0</td>\n      <td>Femenino</td>\n      <td>Sí</td>\n      <td>Casado/a o  En unión libre</td>\n      <td>No</td>\n      <td>No</td>\n      <td>No</td>\n      <td>No STEM</td>\n      <td>No STEM</td>\n      <td>No</td>\n    </tr>\n    <tr>\n      <th>1048</th>\n      <td>66.0</td>\n      <td>Educación artística.</td>\n      <td>2°</td>\n      <td>Primaria</td>\n      <td>Primaria</td>\n      <td>22/04</td>\n      <td>Sí</td>\n      <td>67</td>\n      <td>Cédula de ciudadanía</td>\n      <td>51.0</td>\n      <td>Femenino</td>\n      <td>Sí</td>\n      <td>Casado/a o  En unión libre</td>\n      <td>No</td>\n      <td>No</td>\n      <td>No</td>\n      <td>No STEM</td>\n      <td>No STEM</td>\n      <td>No</td>\n    </tr>\n    <tr>\n      <th>1049</th>\n      <td>66.0</td>\n      <td>Educación ética y en valores humanos.</td>\n      <td>2°</td>\n      <td>Primaria</td>\n      <td>Primaria</td>\n      <td>22/04</td>\n      <td>Sí</td>\n      <td>67</td>\n      <td>Cédula de ciudadanía</td>\n      <td>51.0</td>\n      <td>Femenino</td>\n      <td>Sí</td>\n      <td>Casado/a o  En unión libre</td>\n      <td>No</td>\n      <td>No</td>\n      <td>No</td>\n      <td>No STEM</td>\n      <td>No STEM</td>\n      <td>No</td>\n    </tr>\n    <tr>\n      <th>1050</th>\n      <td>66.0</td>\n      <td>Educación física, recreación y deportes.</td>\n      <td>2°</td>\n      <td>Primaria</td>\n      <td>Primaria</td>\n      <td>22/04</td>\n      <td>Sí</td>\n      <td>67</td>\n      <td>Cédula de ciudadanía</td>\n      <td>51.0</td>\n      <td>Femenino</td>\n      <td>Sí</td>\n      <td>Casado/a o  En unión libre</td>\n      <td>No</td>\n      <td>No</td>\n      <td>No</td>\n      <td>No STEM</td>\n      <td>No STEM</td>\n      <td>No</td>\n    </tr>\n    <tr>\n      <th>1051</th>\n      <td>66.0</td>\n      <td>Educación religiosa.</td>\n      <td>2°</td>\n      <td>Primaria</td>\n      <td>Primaria</td>\n      <td>22/04</td>\n      <td>Sí</td>\n      <td>67</td>\n      <td>Cédula de ciudadanía</td>\n      <td>51.0</td>\n      <td>Femenino</td>\n      <td>Sí</td>\n      <td>Casado/a o  En unión libre</td>\n      <td>No</td>\n      <td>No</td>\n      <td>No</td>\n      <td>No STEM</td>\n      <td>No STEM</td>\n      <td>No</td>\n    </tr>\n    <tr>\n      <th>1052</th>\n      <td>66.0</td>\n      <td>Educación religiosa.</td>\n      <td>2°</td>\n      <td>Primaria</td>\n      <td>Primaria</td>\n      <td>22/04</td>\n      <td>Sí</td>\n      <td>67</td>\n      <td>Cédula de ciudadanía</td>\n      <td>51.0</td>\n      <td>Femenino</td>\n      <td>Sí</td>\n      <td>Casado/a o  En unión libre</td>\n      <td>No</td>\n      <td>No</td>\n      <td>No</td>\n      <td>No STEM</td>\n      <td>No STEM</td>\n      <td>No</td>\n    </tr>\n    <tr>\n      <th>1053</th>\n      <td>66.0</td>\n      <td>Humanidades, lengua castellana e idiomas extra...</td>\n      <td>2°</td>\n      <td>Primaria</td>\n      <td>Primaria</td>\n      <td>22/04</td>\n      <td>Sí</td>\n      <td>67</td>\n      <td>Cédula de ciudadanía</td>\n      <td>51.0</td>\n      <td>Femenino</td>\n      <td>Sí</td>\n      <td>Casado/a o  En unión libre</td>\n      <td>No</td>\n      <td>No</td>\n      <td>No</td>\n      <td>No STEM</td>\n      <td>No STEM</td>\n      <td>No</td>\n    </tr>\n    <tr>\n      <th>1054</th>\n      <td>66.0</td>\n      <td>Matemáticas.</td>\n      <td>2°</td>\n      <td>Primaria</td>\n      <td>Primaria</td>\n      <td>22/04</td>\n      <td>Sí</td>\n      <td>67</td>\n      <td>Cédula de ciudadanía</td>\n      <td>51.0</td>\n      <td>Femenino</td>\n      <td>Sí</td>\n      <td>Casado/a o  En unión libre</td>\n      <td>No</td>\n      <td>No</td>\n      <td>No</td>\n      <td>No STEM</td>\n      <td>No STEM</td>\n      <td>No</td>\n    </tr>\n  </tbody>\n</table>\n</div>"
     },
     "execution_count": 45,
     "metadata": {},
     "output_type": "execute_result"
    }
   ],
   "source": [
    "df[df.ID == 66]"
   ],
   "metadata": {
    "collapsed": false,
    "pycharm": {
     "name": "#%%\n"
    }
   }
  },
  {
   "cell_type": "code",
   "execution_count": 46,
   "outputs": [
    {
     "data": {
      "text/plain": "                ID                     Clases     Grados     Nivel_x  \\\n17    1.741525e+07  Tecnología e informática.        10°  Secundaria   \n20    1.741525e+07  Tecnología e informática.        11°  Secundaria   \n140   9.855474e+07  Tecnología e informática.        10°  Secundaria   \n141   9.855474e+07  Tecnología e informática.        11°  Secundaria   \n142   9.855474e+07  Tecnología e informática.         3°  Secundaria   \n...            ...                        ...        ...         ...   \n4706  1.033782e+09  Tecnología e informática.  Prescolar    Primaria   \n4707  4.288423e+07  Tecnología e informática.  Prescolar    Primaria   \n4708  4.076487e+07  Tecnología e informática.  Prescolar    Primaria   \n4709  5.157516e+07  Tecnología e informática.  Prescolar    Primaria   \n4710  4.192372e+07  Tecnología e informática.  Prescolar    Primaria   \n\n         Nivel_y  Fecha Política de datos  Código IE               Tipo ID  \\\n17    Secundaria  19/04                Sí        107  Cédula de ciudadanía   \n20    Secundaria  19/04                Sí        107  Cédula de ciudadanía   \n140        Ambos  22/04                Sí        235  Cédula de ciudadanía   \n141        Ambos  22/04                Sí        235  Cédula de ciudadanía   \n142        Ambos  22/04                Sí        235  Cédula de ciudadanía   \n...          ...    ...               ...        ...                   ...   \n4706    Primaria  21/04                Sí        107  Cédula de ciudadanía   \n4707    Primaria  22/04                Sí        235  Cédula de ciudadanía   \n4708    Primaria  22/04                Sí         47  Cédula de ciudadanía   \n4709    Primaria  22/04                Sí         10  Cédula de ciudadanía   \n4710    Primaria  22/04                Sí        110  Cédula de ciudadanía   \n\n      Edad       Sexo Cabeza de hogar                Estado civil  \\\n17    51.0  Masculino              Sí  Casado/a o  En unión libre   \n20    51.0  Masculino              Sí  Casado/a o  En unión libre   \n140   51.0  Masculino              Sí   Separado/a o Divorciado/a   \n141   51.0  Masculino              Sí   Separado/a o Divorciado/a   \n142   51.0  Masculino              Sí   Separado/a o Divorciado/a   \n...    ...        ...             ...                         ...   \n4706  26.0   Femenino              No                   Soltero/a   \n4707  57.0   Femenino              Sí                   Soltero/a   \n4708  56.0   Femenino              No  Casado/a o  En unión libre   \n4709  64.0   Femenino              No  Casado/a o  En unión libre   \n4710  45.0   Femenino              Sí   Separado/a o Divorciado/a   \n\n     Líder comunitario Formado CFK Implementa fichas   Enseña STEM  \\\n17                  No          Sí                No          STEM   \n20                  No          Sí                No          STEM   \n140                 No          No                No       No STEM   \n141                 No          No                No       No STEM   \n142                 No          No                No       No STEM   \n...                ...         ...               ...           ...   \n4706                No          No                No       No STEM   \n4707                No          No                No          STEM   \n4708                No          Sí                No  Enseña ambos   \n4709                Sí          Sí                No  Enseña ambos   \n4710                No          No                No       No STEM   \n\n     Formado STEM Formado tecnología e informática  \n17           STEM                               No  \n20           STEM                               No  \n140       No STEM                               No  \n141       No STEM                               No  \n142       No STEM                               No  \n...           ...                              ...  \n4706      No STEM                         Sí, otro  \n4707         STEM                         Sí, otro  \n4708      No STEM                         Sí, otro  \n4709      No STEM                         Sí, otro  \n4710      No STEM                         Sí, otro  \n\n[291 rows x 19 columns]",
      "text/html": "<div>\n<style scoped>\n    .dataframe tbody tr th:only-of-type {\n        vertical-align: middle;\n    }\n\n    .dataframe tbody tr th {\n        vertical-align: top;\n    }\n\n    .dataframe thead th {\n        text-align: right;\n    }\n</style>\n<table border=\"1\" class=\"dataframe\">\n  <thead>\n    <tr style=\"text-align: right;\">\n      <th></th>\n      <th>ID</th>\n      <th>Clases</th>\n      <th>Grados</th>\n      <th>Nivel_x</th>\n      <th>Nivel_y</th>\n      <th>Fecha</th>\n      <th>Política de datos</th>\n      <th>Código IE</th>\n      <th>Tipo ID</th>\n      <th>Edad</th>\n      <th>Sexo</th>\n      <th>Cabeza de hogar</th>\n      <th>Estado civil</th>\n      <th>Líder comunitario</th>\n      <th>Formado CFK</th>\n      <th>Implementa fichas</th>\n      <th>Enseña STEM</th>\n      <th>Formado STEM</th>\n      <th>Formado tecnología e informática</th>\n    </tr>\n  </thead>\n  <tbody>\n    <tr>\n      <th>17</th>\n      <td>1.741525e+07</td>\n      <td>Tecnología e informática.</td>\n      <td>10°</td>\n      <td>Secundaria</td>\n      <td>Secundaria</td>\n      <td>19/04</td>\n      <td>Sí</td>\n      <td>107</td>\n      <td>Cédula de ciudadanía</td>\n      <td>51.0</td>\n      <td>Masculino</td>\n      <td>Sí</td>\n      <td>Casado/a o  En unión libre</td>\n      <td>No</td>\n      <td>Sí</td>\n      <td>No</td>\n      <td>STEM</td>\n      <td>STEM</td>\n      <td>No</td>\n    </tr>\n    <tr>\n      <th>20</th>\n      <td>1.741525e+07</td>\n      <td>Tecnología e informática.</td>\n      <td>11°</td>\n      <td>Secundaria</td>\n      <td>Secundaria</td>\n      <td>19/04</td>\n      <td>Sí</td>\n      <td>107</td>\n      <td>Cédula de ciudadanía</td>\n      <td>51.0</td>\n      <td>Masculino</td>\n      <td>Sí</td>\n      <td>Casado/a o  En unión libre</td>\n      <td>No</td>\n      <td>Sí</td>\n      <td>No</td>\n      <td>STEM</td>\n      <td>STEM</td>\n      <td>No</td>\n    </tr>\n    <tr>\n      <th>140</th>\n      <td>9.855474e+07</td>\n      <td>Tecnología e informática.</td>\n      <td>10°</td>\n      <td>Secundaria</td>\n      <td>Ambos</td>\n      <td>22/04</td>\n      <td>Sí</td>\n      <td>235</td>\n      <td>Cédula de ciudadanía</td>\n      <td>51.0</td>\n      <td>Masculino</td>\n      <td>Sí</td>\n      <td>Separado/a o Divorciado/a</td>\n      <td>No</td>\n      <td>No</td>\n      <td>No</td>\n      <td>No STEM</td>\n      <td>No STEM</td>\n      <td>No</td>\n    </tr>\n    <tr>\n      <th>141</th>\n      <td>9.855474e+07</td>\n      <td>Tecnología e informática.</td>\n      <td>11°</td>\n      <td>Secundaria</td>\n      <td>Ambos</td>\n      <td>22/04</td>\n      <td>Sí</td>\n      <td>235</td>\n      <td>Cédula de ciudadanía</td>\n      <td>51.0</td>\n      <td>Masculino</td>\n      <td>Sí</td>\n      <td>Separado/a o Divorciado/a</td>\n      <td>No</td>\n      <td>No</td>\n      <td>No</td>\n      <td>No STEM</td>\n      <td>No STEM</td>\n      <td>No</td>\n    </tr>\n    <tr>\n      <th>142</th>\n      <td>9.855474e+07</td>\n      <td>Tecnología e informática.</td>\n      <td>3°</td>\n      <td>Secundaria</td>\n      <td>Ambos</td>\n      <td>22/04</td>\n      <td>Sí</td>\n      <td>235</td>\n      <td>Cédula de ciudadanía</td>\n      <td>51.0</td>\n      <td>Masculino</td>\n      <td>Sí</td>\n      <td>Separado/a o Divorciado/a</td>\n      <td>No</td>\n      <td>No</td>\n      <td>No</td>\n      <td>No STEM</td>\n      <td>No STEM</td>\n      <td>No</td>\n    </tr>\n    <tr>\n      <th>...</th>\n      <td>...</td>\n      <td>...</td>\n      <td>...</td>\n      <td>...</td>\n      <td>...</td>\n      <td>...</td>\n      <td>...</td>\n      <td>...</td>\n      <td>...</td>\n      <td>...</td>\n      <td>...</td>\n      <td>...</td>\n      <td>...</td>\n      <td>...</td>\n      <td>...</td>\n      <td>...</td>\n      <td>...</td>\n      <td>...</td>\n      <td>...</td>\n    </tr>\n    <tr>\n      <th>4706</th>\n      <td>1.033782e+09</td>\n      <td>Tecnología e informática.</td>\n      <td>Prescolar</td>\n      <td>Primaria</td>\n      <td>Primaria</td>\n      <td>21/04</td>\n      <td>Sí</td>\n      <td>107</td>\n      <td>Cédula de ciudadanía</td>\n      <td>26.0</td>\n      <td>Femenino</td>\n      <td>No</td>\n      <td>Soltero/a</td>\n      <td>No</td>\n      <td>No</td>\n      <td>No</td>\n      <td>No STEM</td>\n      <td>No STEM</td>\n      <td>Sí, otro</td>\n    </tr>\n    <tr>\n      <th>4707</th>\n      <td>4.288423e+07</td>\n      <td>Tecnología e informática.</td>\n      <td>Prescolar</td>\n      <td>Primaria</td>\n      <td>Primaria</td>\n      <td>22/04</td>\n      <td>Sí</td>\n      <td>235</td>\n      <td>Cédula de ciudadanía</td>\n      <td>57.0</td>\n      <td>Femenino</td>\n      <td>Sí</td>\n      <td>Soltero/a</td>\n      <td>No</td>\n      <td>No</td>\n      <td>No</td>\n      <td>STEM</td>\n      <td>STEM</td>\n      <td>Sí, otro</td>\n    </tr>\n    <tr>\n      <th>4708</th>\n      <td>4.076487e+07</td>\n      <td>Tecnología e informática.</td>\n      <td>Prescolar</td>\n      <td>Primaria</td>\n      <td>Primaria</td>\n      <td>22/04</td>\n      <td>Sí</td>\n      <td>47</td>\n      <td>Cédula de ciudadanía</td>\n      <td>56.0</td>\n      <td>Femenino</td>\n      <td>No</td>\n      <td>Casado/a o  En unión libre</td>\n      <td>No</td>\n      <td>Sí</td>\n      <td>No</td>\n      <td>Enseña ambos</td>\n      <td>No STEM</td>\n      <td>Sí, otro</td>\n    </tr>\n    <tr>\n      <th>4709</th>\n      <td>5.157516e+07</td>\n      <td>Tecnología e informática.</td>\n      <td>Prescolar</td>\n      <td>Primaria</td>\n      <td>Primaria</td>\n      <td>22/04</td>\n      <td>Sí</td>\n      <td>10</td>\n      <td>Cédula de ciudadanía</td>\n      <td>64.0</td>\n      <td>Femenino</td>\n      <td>No</td>\n      <td>Casado/a o  En unión libre</td>\n      <td>Sí</td>\n      <td>Sí</td>\n      <td>No</td>\n      <td>Enseña ambos</td>\n      <td>No STEM</td>\n      <td>Sí, otro</td>\n    </tr>\n    <tr>\n      <th>4710</th>\n      <td>4.192372e+07</td>\n      <td>Tecnología e informática.</td>\n      <td>Prescolar</td>\n      <td>Primaria</td>\n      <td>Primaria</td>\n      <td>22/04</td>\n      <td>Sí</td>\n      <td>110</td>\n      <td>Cédula de ciudadanía</td>\n      <td>45.0</td>\n      <td>Femenino</td>\n      <td>Sí</td>\n      <td>Separado/a o Divorciado/a</td>\n      <td>No</td>\n      <td>No</td>\n      <td>No</td>\n      <td>No STEM</td>\n      <td>No STEM</td>\n      <td>Sí, otro</td>\n    </tr>\n  </tbody>\n</table>\n<p>291 rows × 19 columns</p>\n</div>"
     },
     "execution_count": 46,
     "metadata": {},
     "output_type": "execute_result"
    }
   ],
   "source": [
    "df[df.Clases == 'Tecnología e informática.']"
   ],
   "metadata": {
    "collapsed": false,
    "pycharm": {
     "name": "#%%\n"
    }
   }
  },
  {
   "cell_type": "code",
   "execution_count": null,
   "outputs": [],
   "source": [],
   "metadata": {
    "collapsed": false,
    "pycharm": {
     "name": "#%%\n"
    }
   }
  }
 ],
 "metadata": {
  "kernelspec": {
   "display_name": "Python 3",
   "language": "python",
   "name": "python3"
  },
  "language_info": {
   "codemirror_mode": {
    "name": "ipython",
    "version": 2
   },
   "file_extension": ".py",
   "mimetype": "text/x-python",
   "name": "python",
   "nbconvert_exporter": "python",
   "pygments_lexer": "ipython2",
   "version": "2.7.6"
  }
 },
 "nbformat": 4,
 "nbformat_minor": 0
}