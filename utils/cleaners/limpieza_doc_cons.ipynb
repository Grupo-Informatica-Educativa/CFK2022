{
 "cells": [
  {
   "cell_type": "code",
   "execution_count": 1,
   "outputs": [],
   "source": [
    "preguntas = '''1. Por favor evalúe las siguientes afirmaciones según su experiencia;\n",
    "2. Por favor evalúe las siguientes afirmaciones según su experiencia;\n",
    "3. Por favor evalúe las siguientes afirmaciones según su experiencia;\n",
    "4. Por favor evalúe los siguientes enunciados de acuerdo con su experiencia;\n",
    "5. Por favor evalúe los siguientes enunciados de acuerdo con su experiencia;\n",
    "6. En una escala de 1 a 10 (donde 10 es muy a menudo), con qué frecuencia utilizaría las siguientes prácticas pedagógicas para enseñar pensamiento computacional;\n",
    "7. Cuando un estudiante se enfrenta a una dificultad creando un programa y no sabe si está correcto, qué tan a menudo, en una escala de 1-10 (donde 10 es siempre), usted:;\n",
    "Tim examina cada una de las siguientes piezas de código y responde que la primera termina con X siendo igual a 5, y la segunda con X siendo igual a 16. ¿Cuál es el error conceptual de Tim?;\n",
    "Ana elaboró tres bloques de código y cree que ninguno de estos hace exactamente lo mismo;\n",
    "8. Por favor evalúe los siguientes enunciados de acuerdo con su experiencia:'''"
   ],
   "metadata": {
    "collapsed": false,
    "pycharm": {
     "name": "#%%\n"
    }
   }
  },
  {
   "cell_type": "code",
   "execution_count": 2,
   "outputs": [],
   "source": [
    "import pandas as pd"
   ],
   "metadata": {
    "collapsed": false,
    "pycharm": {
     "name": "#%%\n"
    }
   }
  },
  {
   "cell_type": "code",
   "execution_count": 3,
   "outputs": [
    {
     "data": {
      "text/plain": "                Timestamp Política de datos                  Código IE  \\\n0 2022-04-07 09:45:52.944                Sí                        NaN   \n1 2022-04-07 16:10:19.537                Sí                        NaN   \n2 2022-04-13 09:48:26.189                Sí                        163   \n3 2022-04-18 07:59:42.646                Sí  Nueva Esperanza La Palma    \n4 2022-04-18 08:03:32.288                Sí                        206   \n\n                Tipo ID            ID                      Email  Edad  \\\n0                   NaN  1.233000e+03                        NaN   1.0   \n1                   NaN  9.999900e+04                        NaN  77.0   \n2  Cédula de ciudadanía  7.805000e+03         mariaf494@gmai.com  25.0   \n3  Cédula de ciudadanía  1.110475e+09         ydur912@gmail.com   33.0   \n4  Cédula de ciudadanía  5.828243e+06  Mosquera.fabio@gmail.com   40.0   \n\n        Sexo Cabeza de hogar                Estado civil  ...  \\\n0  Masculino              No   Separado/a o Divorciado/a  ...   \n1  Masculino              Sí   Separado/a o Divorciado/a  ...   \n2   Femenino              Sí  Casado/a o  En unión libre  ...   \n3  Masculino              Sí                   Soltero/a  ...   \n4  Masculino              Sí  Casado/a o  En unión libre  ...   \n\n  8.8 Que la mayoría de personas en artes y humanidades sean mujeres es muestra de su sensibilidad.  \\\n0                              Totalmente de acuerdo                                                  \n1                              Totalmente de acuerdo                                                  \n2                           Totalmente en desacuerdo                                                  \n3                                             Neutro                                                  \n4                                             Neutro                                                  \n\n  8.9 Es natural que los hombres sean buenos para los números y las mujeres para las letras.  \\\n0                                                NaN                                           \n1                                                NaN                                           \n2                                      En desacuerdo                                           \n3                                             Neutro                                           \n4                                             Neutro                                           \n\n  8.10 Los hombres son muy ágiles tomando decisiones importantes.  \\\n0                                                NaN                \n1                                                NaN                \n2                                      En desacuerdo                \n3                                             Neutro                \n4                                             Neutro                \n\n  8.11 Las niñas son más ordenadas que los niños.  \\\n0                                             NaN   \n1                                             NaN   \n2                                   En desacuerdo   \n3                                          Neutro   \n4                                          Neutro   \n\n  8.12 Muchas mujeres se caracterizan por una pureza que pocos hombres poseen.  \\\n0                                                NaN                             \n1                                                NaN                             \n2                           Totalmente en desacuerdo                             \n3                                             Neutro                             \n4                                             Neutro                             \n\n  8.13 Las mujeres deben ser queridas y protegidas por los hombres.  \\\n0                                                NaN                  \n1                                                NaN                  \n2                           Totalmente en desacuerdo                  \n3                                             Neutro                  \n4                                             Neutro                  \n\n  8.14 Todo hombre debe tener una mujer a quien amar.  \\\n0                                                NaN    \n1                                                NaN    \n2                           Totalmente en desacuerdo    \n3                                             Neutro    \n4                                             Neutro    \n\n  8.15 El hombre está incompleto sin la mujer.  \\\n0                                          NaN   \n1                                          NaN   \n2                     Totalmente en desacuerdo   \n3                                       Neutro   \n4                                       Neutro   \n\n  8.16 Las mujeres en comparación con los hombres, tienden a tener un sentido más refinado de la cultura y el buen gusto.  \\\n0                                                NaN                                                                        \n1                                                NaN                                                                        \n2                           Totalmente en desacuerdo                                                                        \n3                                             Neutro                                                                        \n4                                             Neutro                                                                        \n\n  Comentarios género  \n0                NaN  \n1                NaN  \n2                NaN  \n3                NaN  \n4            Ninguno  \n\n[5 rows x 89 columns]",
      "text/html": "<div>\n<style scoped>\n    .dataframe tbody tr th:only-of-type {\n        vertical-align: middle;\n    }\n\n    .dataframe tbody tr th {\n        vertical-align: top;\n    }\n\n    .dataframe thead th {\n        text-align: right;\n    }\n</style>\n<table border=\"1\" class=\"dataframe\">\n  <thead>\n    <tr style=\"text-align: right;\">\n      <th></th>\n      <th>Timestamp</th>\n      <th>Política de datos</th>\n      <th>Código IE</th>\n      <th>Tipo ID</th>\n      <th>ID</th>\n      <th>Email</th>\n      <th>Edad</th>\n      <th>Sexo</th>\n      <th>Cabeza de hogar</th>\n      <th>Estado civil</th>\n      <th>...</th>\n      <th>8.8 Que la mayoría de personas en artes y humanidades sean mujeres es muestra de su sensibilidad.</th>\n      <th>8.9 Es natural que los hombres sean buenos para los números y las mujeres para las letras.</th>\n      <th>8.10 Los hombres son muy ágiles tomando decisiones importantes.</th>\n      <th>8.11 Las niñas son más ordenadas que los niños.</th>\n      <th>8.12 Muchas mujeres se caracterizan por una pureza que pocos hombres poseen.</th>\n      <th>8.13 Las mujeres deben ser queridas y protegidas por los hombres.</th>\n      <th>8.14 Todo hombre debe tener una mujer a quien amar.</th>\n      <th>8.15 El hombre está incompleto sin la mujer.</th>\n      <th>8.16 Las mujeres en comparación con los hombres, tienden a tener un sentido más refinado de la cultura y el buen gusto.</th>\n      <th>Comentarios género</th>\n    </tr>\n  </thead>\n  <tbody>\n    <tr>\n      <th>0</th>\n      <td>2022-04-07 09:45:52.944</td>\n      <td>Sí</td>\n      <td>NaN</td>\n      <td>NaN</td>\n      <td>1.233000e+03</td>\n      <td>NaN</td>\n      <td>1.0</td>\n      <td>Masculino</td>\n      <td>No</td>\n      <td>Separado/a o Divorciado/a</td>\n      <td>...</td>\n      <td>Totalmente de acuerdo</td>\n      <td>NaN</td>\n      <td>NaN</td>\n      <td>NaN</td>\n      <td>NaN</td>\n      <td>NaN</td>\n      <td>NaN</td>\n      <td>NaN</td>\n      <td>NaN</td>\n      <td>NaN</td>\n    </tr>\n    <tr>\n      <th>1</th>\n      <td>2022-04-07 16:10:19.537</td>\n      <td>Sí</td>\n      <td>NaN</td>\n      <td>NaN</td>\n      <td>9.999900e+04</td>\n      <td>NaN</td>\n      <td>77.0</td>\n      <td>Masculino</td>\n      <td>Sí</td>\n      <td>Separado/a o Divorciado/a</td>\n      <td>...</td>\n      <td>Totalmente de acuerdo</td>\n      <td>NaN</td>\n      <td>NaN</td>\n      <td>NaN</td>\n      <td>NaN</td>\n      <td>NaN</td>\n      <td>NaN</td>\n      <td>NaN</td>\n      <td>NaN</td>\n      <td>NaN</td>\n    </tr>\n    <tr>\n      <th>2</th>\n      <td>2022-04-13 09:48:26.189</td>\n      <td>Sí</td>\n      <td>163</td>\n      <td>Cédula de ciudadanía</td>\n      <td>7.805000e+03</td>\n      <td>mariaf494@gmai.com</td>\n      <td>25.0</td>\n      <td>Femenino</td>\n      <td>Sí</td>\n      <td>Casado/a o  En unión libre</td>\n      <td>...</td>\n      <td>Totalmente en desacuerdo</td>\n      <td>En desacuerdo</td>\n      <td>En desacuerdo</td>\n      <td>En desacuerdo</td>\n      <td>Totalmente en desacuerdo</td>\n      <td>Totalmente en desacuerdo</td>\n      <td>Totalmente en desacuerdo</td>\n      <td>Totalmente en desacuerdo</td>\n      <td>Totalmente en desacuerdo</td>\n      <td>NaN</td>\n    </tr>\n    <tr>\n      <th>3</th>\n      <td>2022-04-18 07:59:42.646</td>\n      <td>Sí</td>\n      <td>Nueva Esperanza La Palma</td>\n      <td>Cédula de ciudadanía</td>\n      <td>1.110475e+09</td>\n      <td>ydur912@gmail.com</td>\n      <td>33.0</td>\n      <td>Masculino</td>\n      <td>Sí</td>\n      <td>Soltero/a</td>\n      <td>...</td>\n      <td>Neutro</td>\n      <td>Neutro</td>\n      <td>Neutro</td>\n      <td>Neutro</td>\n      <td>Neutro</td>\n      <td>Neutro</td>\n      <td>Neutro</td>\n      <td>Neutro</td>\n      <td>Neutro</td>\n      <td>NaN</td>\n    </tr>\n    <tr>\n      <th>4</th>\n      <td>2022-04-18 08:03:32.288</td>\n      <td>Sí</td>\n      <td>206</td>\n      <td>Cédula de ciudadanía</td>\n      <td>5.828243e+06</td>\n      <td>Mosquera.fabio@gmail.com</td>\n      <td>40.0</td>\n      <td>Masculino</td>\n      <td>Sí</td>\n      <td>Casado/a o  En unión libre</td>\n      <td>...</td>\n      <td>Neutro</td>\n      <td>Neutro</td>\n      <td>Neutro</td>\n      <td>Neutro</td>\n      <td>Neutro</td>\n      <td>Neutro</td>\n      <td>Neutro</td>\n      <td>Neutro</td>\n      <td>Neutro</td>\n      <td>Ninguno</td>\n    </tr>\n  </tbody>\n</table>\n<p>5 rows × 89 columns</p>\n</div>"
     },
     "execution_count": 3,
     "metadata": {},
     "output_type": "execute_result"
    }
   ],
   "source": [
    "df = pd.read_excel('../../data/raw/Doc_Con_Pre_230322.xlsx')\n",
    "df.head()"
   ],
   "metadata": {
    "collapsed": false,
    "pycharm": {
     "name": "#%%\n"
    }
   }
  },
  {
   "cell_type": "code",
   "execution_count": 4,
   "outputs": [
    {
     "name": "stdout",
     "output_type": "stream",
     "text": [
      "<class 'pandas.core.frame.DataFrame'>\n",
      "RangeIndex: 1044 entries, 0 to 1043\n",
      "Data columns (total 89 columns):\n",
      " #   Column                                                                                                                                                                 Non-Null Count  Dtype         \n",
      "---  ------                                                                                                                                                                 --------------  -----         \n",
      " 0   Timestamp                                                                                                                                                              1044 non-null   datetime64[ns]\n",
      " 1   Política de datos                                                                                                                                                      1043 non-null   object        \n",
      " 2   Código IE                                                                                                                                                              1019 non-null   object        \n",
      " 3   Tipo ID                                                                                                                                                                1019 non-null   object        \n",
      " 4   ID                                                                                                                                                                     1021 non-null   float64       \n",
      " 5   Email                                                                                                                                                                  1019 non-null   object        \n",
      " 6   Edad                                                                                                                                                                   1021 non-null   float64       \n",
      " 7   Sexo                                                                                                                                                                   1021 non-null   object        \n",
      " 8   Cabeza de hogar                                                                                                                                                        1021 non-null   object        \n",
      " 9   Estado civil                                                                                                                                                           1021 non-null   object        \n",
      " 10  Líder comunitario                                                                                                                                                      1021 non-null   object        \n",
      " 11  Formado CFK                                                                                                                                                            1021 non-null   object        \n",
      " 12  Implementa fichas                                                                                                                                                      189 non-null    object        \n",
      " 13  Formado tecnología e informática                                                                                                                                       1021 non-null   object        \n",
      " 14  ¿Cuáles de las siguientes áreas enseña y en qué grado? [Ciencias naturales y educación ambiental.]                                                                     368 non-null    object        \n",
      " 15  ¿Cuáles de las siguientes áreas enseña y en qué grado? [Ciencias sociales, historia, geografía, constitución política y democracia.]                                   303 non-null    object        \n",
      " 16  ¿Cuáles de las siguientes áreas enseña y en qué grado? [Educación artística.]                                                                                          265 non-null    object        \n",
      " 17  ¿Cuáles de las siguientes áreas enseña y en qué grado? [Educación ética y en valores humanos.]                                                                         281 non-null    object        \n",
      " 18  ¿Cuáles de las siguientes áreas enseña y en qué grado? [Educación física, recreación y deportes.]                                                                      240 non-null    object        \n",
      " 19  ¿Cuáles de las siguientes áreas enseña y en qué grado? [Educación religiosa.]                                                                                          259 non-null    object        \n",
      " 20  ¿Cuáles de las siguientes áreas enseña y en qué grado? [Humanidades, lengua castellana e idiomas extranjeros.]                                                         403 non-null    object        \n",
      " 21  ¿Cuáles de las siguientes áreas enseña y en qué grado? [Matemáticas.]                                                                                                  349 non-null    object        \n",
      " 22  ¿Cuáles de las siguientes áreas enseña y en qué grado? [Tecnología e informática.]                                                                                     304 non-null    object        \n",
      " 23  ¿Cuáles de las siguientes áreas enseña y en qué grado? [Otro]                                                                                                          158 non-null    object        \n",
      " 24  Enseña STEM                                                                                                                                                            1021 non-null   object        \n",
      " 25  Formado STEM                                                                                                                                                           1021 non-null   object        \n",
      " 26  Considera importante enseñar el pensamiento computacional desde los primeros niveles educativos                                                                        1021 non-null   object        \n",
      " 27  1.1 Siento que puedo aplicar las prácticas y habilidades del pensamiento computacional a mi trabajo                                                                    936 non-null    object        \n",
      " 28  1.2 Siento que puedo definir el pensamiento computacional                                                                                                              936 non-null    object        \n",
      " 29  1.3 Siento que puedo describir las prácticas y habilidades que componen el pensamiento computacional a mis estudiantes                                                 936 non-null    object        \n",
      " 30  1.4 Siento que puedo aplicar las prácticas y habilidades del pensamiento computacional a mi vida diaria                                                                936 non-null    object        \n",
      " 31  2.1 Creo que tengo las habilidades para desarrollar el pensamiento computacional en mis estudiantes                                                                    936 non-null    object        \n",
      " 32  2.2 Siento que puedo enseñar fácilmente sobre nuevas prácticas computacionales                                                                                         936 non-null    object        \n",
      " 33  2.3 Siento que puedo diseñar una clase que desarrolle el pensamiento computacional en los estudiantes                                                                  936 non-null    object        \n",
      " 34  2.4 Siento que puedo aplicar mis habilidades en pensamiento computacional para ayudar a los estudiantes a perseguir sus intereses individuales                         936 non-null    object        \n",
      " 35  2.5 Siento que puedo evaluar la idoneidad de una estrategia pedagógica para desarrollar pensamiento computacional                                                      936 non-null    object        \n",
      " 36  3.1 El colegio ofrece espacios adicionales para fomentar el pensamiento computacional                                                                                  936 non-null    object        \n",
      " 37  3.2 En la programación anual del colegio existen actividades asociadas al pensamiento computacional                                                                    936 non-null    object        \n",
      " 38  3.3 Cuando he intentado enseñar pensamiento computacional me he encontrado con obstáculos para gestionar espacios y materiales en el colegio.                          936 non-null    object        \n",
      " 39  3.4 Recibo apoyo del colegio cuando propongo nuevas ideas y temáticas afines al pensamiento computacional                                                              936 non-null    object        \n",
      " 40  3.5 Siento que por más que lo he intentado mis esfuerzos por incluir pensamiento computacional en las clases no han sido efectivos por la rigidez del plan de estudio  936 non-null    object        \n",
      " 41  3.6 Los directivos incentivan la implementación de nuevas prácticas pedagógicas sobre pensamiento computacional en el aula                                             936 non-null    object        \n",
      " 42  3.7 Puedo incluir espacios en mis clases para implementar actividades sobre el pensamiento computacional                                                               936 non-null    object        \n",
      " 43  3.8 Me siento frustrado porque la programación de las clases y compromisos institucionales no me permite incluir actividades de pensamiento computacional              936 non-null    object        \n",
      " 44  3.9 Tener educación en pensamiento computacional mejoraría significativamente las futuras opciones de ocupación para los estudiantes de mi escuela.                    936 non-null    object        \n",
      " 45  4.1 Creo que sé cómo resolver los problemas técnicos cuando fallan las TIC                                                                                             1019 non-null   object        \n",
      " 46  4.2 Siento que puedo aprender sobre nuevas tecnologías fácilmente                                                                                                      1019 non-null   object        \n",
      " 47  4.3 Creo que sé cómo usar las TIC con los estudiantes en clase                                                                                                         1019 non-null   object        \n",
      " 48  5.1 Me apoyo en mis colegas para resolver problemas sobre cómo trabajar algún tema                                                                                     1019 non-null   object        \n",
      " 49  5.2 Puedo hablar con otros docentes sobre el diseño de cursos                                                                                                          1019 non-null   object        \n",
      " 50  5.3 Siento que tengo apoyo de otros docentes para el diseño de mis cursos                                                                                              1019 non-null   object        \n",
      " 51  5.4 Siento que no tengo con quién conversar sobre el diseño de mis cursos                                                                                              1019 non-null   object        \n",
      " 52  6.1 Actividades desconectadas                                                                                                                                          1021 non-null   object        \n",
      " 53  6.2 Usa-Modifica-Crea                                                                                                                                                  1021 non-null   object        \n",
      " 54  6.3 Clase magistral                                                                                                                                                    1021 non-null   object        \n",
      " 55  6.4 Programación en pares                                                                                                                                              1021 non-null   object        \n",
      " 56  6.5 Lectura del código                                                                                                                                                 1021 non-null   object        \n",
      " 57  6.6 Le explicaría la respuesta correcta                                                                                                                                1021 non-null   object        \n",
      " 58  6.7 Le sugeriría ir paso a paso por el programa simulando su ejecución                                                                                                 1021 non-null   object        \n",
      " 59  6.8 Le diría que revise sus notas                                                                                                                                      1021 non-null   object        \n",
      " 60  6.9 Le sugeriría que revise las memorias colectivas                                                                                                                    1021 non-null   object        \n",
      " 61  7.1 Le sugeriría volver a leer el problema                                                                                                                             1021 non-null   object        \n",
      " 62  7.2 Le sugeriría intentar con varios valores para evaluar el programa                                                                                                  1021 non-null   object        \n",
      " 63  7.3 Le explicaría el problema nuevamente                                                                                                                               1021 non-null   object        \n",
      " 64  Comentarios P1-7                                                                                                                                                       274 non-null    object        \n",
      " 65  Un algoritmo es:                                                                                                                                                       1021 non-null   object        \n",
      " 66  ¿Para qué sirven los algoritmos?                                                                                                                                       1021 non-null   object        \n",
      " 67  Un bucle es:                                                                                                                                                           1021 non-null   object        \n",
      " 68  ¿Cuál es el error conceptual de Tim?                                                                                                                                   1021 non-null   object        \n",
      " 69  ¿Cuál es el error conceptual de Ana?                                                                                                                                   1020 non-null   object        \n",
      " 70  Comentarios Conocimientos                                                                                                                                              242 non-null    object        \n",
      " 71  ¿Cuáles de las siguientes estrategias usted ha usado en sus clases?                                                                                                    1021 non-null   object        \n",
      " 72  8.1 Es preferible que las mujeres enseñen ciencias sociales y los hombres ciencias exactas.                                                                            1021 non-null   object        \n",
      " 73  8.2 Es normal que la mayoría de ingenieros mecánicos sean varones porque los hombres son mejores para los números.                                                     1021 non-null   object        \n",
      " 74  8.3 Por su esencia una mujer tiene mejor desempeño en un proyecto de alto impacto social que en un proyecto de robótica industrial.                                    1021 non-null   object        \n",
      " 75  8.4 Los hombres son mejores para la tecnología que las mujeres.                                                                                                        1021 non-null   object        \n",
      " 76  8.5 Las mujeres tienen mayores habilidades para proyectos sociales que tecnológicos.                                                                                   1021 non-null   object        \n",
      " 77  8.6 Los grandes aportes en la computación han sido hechos por hombres.                                                                                                 1021 non-null   object        \n",
      " 78  8.7 Que la mayoría de mujeres no opte por áreas exactas es simplemente una cuestión de preferencias.                                                                   1021 non-null   object        \n",
      " 79  8.8 Que la mayoría de personas en artes y humanidades sean mujeres es muestra de su sensibilidad.                                                                      1021 non-null   object        \n",
      " 80  8.9 Es natural que los hombres sean buenos para los números y las mujeres para las letras.                                                                             1019 non-null   object        \n",
      " 81  8.10 Los hombres son muy ágiles tomando decisiones importantes.                                                                                                        1019 non-null   object        \n",
      " 82  8.11 Las niñas son más ordenadas que los niños.                                                                                                                        1019 non-null   object        \n",
      " 83  8.12 Muchas mujeres se caracterizan por una pureza que pocos hombres poseen.                                                                                           1019 non-null   object        \n",
      " 84  8.13 Las mujeres deben ser queridas y protegidas por los hombres.                                                                                                      1019 non-null   object        \n",
      " 85  8.14 Todo hombre debe tener una mujer a quien amar.                                                                                                                    1019 non-null   object        \n",
      " 86  8.15 El hombre está incompleto sin la mujer.                                                                                                                           1019 non-null   object        \n",
      " 87  8.16 Las mujeres en comparación con los hombres, tienden a tener un sentido más refinado de la cultura y el buen gusto.                                                1019 non-null   object        \n",
      " 88  Comentarios género                                                                                                                                                     182 non-null    object        \n",
      "dtypes: datetime64[ns](1), float64(2), object(86)\n",
      "memory usage: 726.0+ KB\n"
     ]
    }
   ],
   "source": [
    "df.info()"
   ],
   "metadata": {
    "collapsed": false,
    "pycharm": {
     "name": "#%%\n"
    }
   }
  },
  {
   "cell_type": "code",
   "execution_count": 5,
   "outputs": [
    {
     "data": {
      "text/plain": "(1019, 89)"
     },
     "execution_count": 5,
     "metadata": {},
     "output_type": "execute_result"
    }
   ],
   "source": [
    "df.dropna(subset='Tipo ID', inplace=True)\n",
    "df.shape"
   ],
   "metadata": {
    "collapsed": false,
    "pycharm": {
     "name": "#%%\n"
    }
   }
  },
  {
   "cell_type": "code",
   "execution_count": 6,
   "outputs": [
    {
     "data": {
      "text/plain": "3    18/04\n4    18/04\n5    18/04\n6    18/04\n7    18/04\nName: Fecha, dtype: object"
     },
     "execution_count": 6,
     "metadata": {},
     "output_type": "execute_result"
    }
   ],
   "source": [
    "df['Timestamp'] = pd.to_datetime(df['Timestamp'])\n",
    "df = df[df.Timestamp>'2022-04-14']\n",
    "df['Fecha'] = df.Timestamp.dt.strftime('%d/%m')\n",
    "df['Fecha'][:5]"
   ],
   "metadata": {
    "collapsed": false,
    "pycharm": {
     "name": "#%%\n"
    }
   }
  },
  {
   "cell_type": "code",
   "execution_count": 7,
   "outputs": [
    {
     "data": {
      "text/plain": "40276881.0    2\n27603761.0    2\n31979159.0    2\n42270041.0    2\n14475839.0    2\n             ..\n35418083.0    1\n51804587.0    1\n15047114.0    1\n51796496.0    1\n60444546.0    1\nName: ID, Length: 1011, dtype: int64"
     },
     "execution_count": 7,
     "metadata": {},
     "output_type": "execute_result"
    }
   ],
   "source": [
    "df.ID.value_counts()"
   ],
   "metadata": {
    "collapsed": false,
    "pycharm": {
     "name": "#%%\n"
    }
   }
  },
  {
   "cell_type": "code",
   "execution_count": 8,
   "outputs": [
    {
     "data": {
      "text/plain": "                  Timestamp Política de datos     Código IE  \\\n129 2022-04-19 11:48:57.191                Sí  176109000311   \n138 2022-04-19 11:57:00.497                Sí           151   \n158 2022-04-19 12:14:25.021                Sí           151   \n220 2022-04-19 13:12:53.789                Sí            67   \n246 2022-04-19 14:56:38.018                Sí            76   \n348 2022-04-19 20:48:51.741                Sí            66   \n390 2022-04-20 09:53:33.538                Sí           179   \n791 2022-04-21 18:20:38.108                Sí           179   \n899 2022-04-22 12:50:21.179                Sí            20   \n966 2022-04-22 14:12:52.286                Sí            20   \n\n                  Tipo ID          ID  \\\n129  Cédula de ciudadanía  14475839.0   \n138  Cédula de ciudadanía  42270041.0   \n158  Cédula de ciudadanía  42270041.0   \n220  Cédula de ciudadanía  40276881.0   \n246  Cédula de ciudadanía  40276881.0   \n348  Cédula de ciudadanía  14475839.0   \n390  Cédula de ciudadanía  27603761.0   \n791  Cédula de ciudadanía  27603761.0   \n899  Cédula de ciudadanía  31979159.0   \n966  Cédula de ciudadanía  31979159.0   \n\n                                                 Email  Edad       Sexo  \\\n129                               billyjhoan@gmail.com  37.0  Masculino   \n138         claribel.batista41@sincelejoaprende.edu.co  65.0   Femenino   \n158          Claribel.batista41sincelejoaprende.edu.co  65.0   Femenino   \n220                               bertapaez@gmail.com   50.0   Femenino   \n246                               bertapaez@gmail.com   50.0   Femenino   \n348                              billyjhoan@gmail.com   37.0  Masculino   \n390  oding For Kids   lady.jcaballeroj@instenalcocu...  40.0   Femenino   \n791       alexander.benavidesc@instenalcocucuta.edu.co  49.0  Masculino   \n899      mariapenaloza@ierodrigolloredacaicedo.edu.co   53.0   Femenino   \n966      numandiaortiz@ierodrigolloredacaicedo.edu.co   53.0   Femenino   \n\n    Cabeza de hogar                Estado civil  ...  \\\n129              Sí  Casado/a o  En unión libre  ...   \n138              Sí                   Soltero/a  ...   \n158              Sí   Separado/a o Divorciado/a  ...   \n220              No  Casado/a o  En unión libre  ...   \n246              No  Casado/a o  En unión libre  ...   \n348              Sí  Casado/a o  En unión libre  ...   \n390              No  Casado/a o  En unión libre  ...   \n791              Sí  Casado/a o  En unión libre  ...   \n899              No  Casado/a o  En unión libre  ...   \n966              No  Casado/a o  En unión libre  ...   \n\n    8.9 Es natural que los hombres sean buenos para los números y las mujeres para las letras.  \\\n129                           Totalmente en desacuerdo                                           \n138                           Totalmente en desacuerdo                                           \n158                           Totalmente en desacuerdo                                           \n220                           Totalmente en desacuerdo                                           \n246                           Totalmente en desacuerdo                                           \n348                           Totalmente en desacuerdo                                           \n390                           Totalmente en desacuerdo                                           \n791                           Totalmente en desacuerdo                                           \n899                                             Neutro                                           \n966                           Totalmente en desacuerdo                                           \n\n    8.10 Los hombres son muy ágiles tomando decisiones importantes.  \\\n129                           Totalmente en desacuerdo                \n138                           Totalmente en desacuerdo                \n158                           Totalmente en desacuerdo                \n220                           Totalmente en desacuerdo                \n246                           Totalmente en desacuerdo                \n348                           Totalmente en desacuerdo                \n390                           Totalmente en desacuerdo                \n791                           Totalmente en desacuerdo                \n899                                      En desacuerdo                \n966                                      En desacuerdo                \n\n    8.11 Las niñas son más ordenadas que los niños.  \\\n129                        Totalmente en desacuerdo   \n138                        Totalmente en desacuerdo   \n158                        Totalmente en desacuerdo   \n220                        Totalmente en desacuerdo   \n246                        Totalmente en desacuerdo   \n348                        Totalmente en desacuerdo   \n390                        Totalmente en desacuerdo   \n791                        Totalmente en desacuerdo   \n899                                      De acuerdo   \n966                                          Neutro   \n\n    8.12 Muchas mujeres se caracterizan por una pureza que pocos hombres poseen.  \\\n129                           Totalmente en desacuerdo                             \n138                           Totalmente en desacuerdo                             \n158                           Totalmente en desacuerdo                             \n220                           Totalmente en desacuerdo                             \n246                           Totalmente en desacuerdo                             \n348                           Totalmente en desacuerdo                             \n390                           Totalmente en desacuerdo                             \n791                           Totalmente en desacuerdo                             \n899                                      En desacuerdo                             \n966                                      En desacuerdo                             \n\n    8.13 Las mujeres deben ser queridas y protegidas por los hombres.  \\\n129                           Totalmente en desacuerdo                  \n138                           Totalmente en desacuerdo                  \n158                           Totalmente en desacuerdo                  \n220                                             Neutro                  \n246                           Totalmente en desacuerdo                  \n348                           Totalmente en desacuerdo                  \n390                           Totalmente en desacuerdo                  \n791                           Totalmente en desacuerdo                  \n899                                         De acuerdo                  \n966                                         De acuerdo                  \n\n    8.14 Todo hombre debe tener una mujer a quien amar.  \\\n129                           Totalmente en desacuerdo    \n138                                             Neutro    \n158                           Totalmente en desacuerdo    \n220                                             Neutro    \n246                           Totalmente en desacuerdo    \n348                                      En desacuerdo    \n390                           Totalmente en desacuerdo    \n791                           Totalmente en desacuerdo    \n899                                         De acuerdo    \n966                                             Neutro    \n\n    8.15 El hombre está incompleto sin la mujer.  \\\n129                     Totalmente en desacuerdo   \n138                                       Neutro   \n158                     Totalmente en desacuerdo   \n220                     Totalmente en desacuerdo   \n246                     Totalmente en desacuerdo   \n348                     Totalmente en desacuerdo   \n390                     Totalmente en desacuerdo   \n791                     Totalmente en desacuerdo   \n899                                En desacuerdo   \n966                                   De acuerdo   \n\n    8.16 Las mujeres en comparación con los hombres, tienden a tener un sentido más refinado de la cultura y el buen gusto.  \\\n129                           Totalmente en desacuerdo                                                                        \n138                                             Neutro                                                                        \n158                           Totalmente en desacuerdo                                                                        \n220                                      En desacuerdo                                                                        \n246                           Totalmente en desacuerdo                                                                        \n348                           Totalmente en desacuerdo                                                                        \n390                           Totalmente en desacuerdo                                                                        \n791                           Totalmente en desacuerdo                                                                        \n899                                      En desacuerdo                                                                        \n966                                      En desacuerdo                                                                        \n\n    Comentarios género  Fecha  \n129                NaN  19/04  \n138                NaN  19/04  \n158                NaN  19/04  \n220                NaN  19/04  \n246                NaN  19/04  \n348                NaN  19/04  \n390                NaN  20/04  \n791                     21/04  \n899                NaN  22/04  \n966                NaN  22/04  \n\n[10 rows x 90 columns]",
      "text/html": "<div>\n<style scoped>\n    .dataframe tbody tr th:only-of-type {\n        vertical-align: middle;\n    }\n\n    .dataframe tbody tr th {\n        vertical-align: top;\n    }\n\n    .dataframe thead th {\n        text-align: right;\n    }\n</style>\n<table border=\"1\" class=\"dataframe\">\n  <thead>\n    <tr style=\"text-align: right;\">\n      <th></th>\n      <th>Timestamp</th>\n      <th>Política de datos</th>\n      <th>Código IE</th>\n      <th>Tipo ID</th>\n      <th>ID</th>\n      <th>Email</th>\n      <th>Edad</th>\n      <th>Sexo</th>\n      <th>Cabeza de hogar</th>\n      <th>Estado civil</th>\n      <th>...</th>\n      <th>8.9 Es natural que los hombres sean buenos para los números y las mujeres para las letras.</th>\n      <th>8.10 Los hombres son muy ágiles tomando decisiones importantes.</th>\n      <th>8.11 Las niñas son más ordenadas que los niños.</th>\n      <th>8.12 Muchas mujeres se caracterizan por una pureza que pocos hombres poseen.</th>\n      <th>8.13 Las mujeres deben ser queridas y protegidas por los hombres.</th>\n      <th>8.14 Todo hombre debe tener una mujer a quien amar.</th>\n      <th>8.15 El hombre está incompleto sin la mujer.</th>\n      <th>8.16 Las mujeres en comparación con los hombres, tienden a tener un sentido más refinado de la cultura y el buen gusto.</th>\n      <th>Comentarios género</th>\n      <th>Fecha</th>\n    </tr>\n  </thead>\n  <tbody>\n    <tr>\n      <th>129</th>\n      <td>2022-04-19 11:48:57.191</td>\n      <td>Sí</td>\n      <td>176109000311</td>\n      <td>Cédula de ciudadanía</td>\n      <td>14475839.0</td>\n      <td>billyjhoan@gmail.com</td>\n      <td>37.0</td>\n      <td>Masculino</td>\n      <td>Sí</td>\n      <td>Casado/a o  En unión libre</td>\n      <td>...</td>\n      <td>Totalmente en desacuerdo</td>\n      <td>Totalmente en desacuerdo</td>\n      <td>Totalmente en desacuerdo</td>\n      <td>Totalmente en desacuerdo</td>\n      <td>Totalmente en desacuerdo</td>\n      <td>Totalmente en desacuerdo</td>\n      <td>Totalmente en desacuerdo</td>\n      <td>Totalmente en desacuerdo</td>\n      <td>NaN</td>\n      <td>19/04</td>\n    </tr>\n    <tr>\n      <th>138</th>\n      <td>2022-04-19 11:57:00.497</td>\n      <td>Sí</td>\n      <td>151</td>\n      <td>Cédula de ciudadanía</td>\n      <td>42270041.0</td>\n      <td>claribel.batista41@sincelejoaprende.edu.co</td>\n      <td>65.0</td>\n      <td>Femenino</td>\n      <td>Sí</td>\n      <td>Soltero/a</td>\n      <td>...</td>\n      <td>Totalmente en desacuerdo</td>\n      <td>Totalmente en desacuerdo</td>\n      <td>Totalmente en desacuerdo</td>\n      <td>Totalmente en desacuerdo</td>\n      <td>Totalmente en desacuerdo</td>\n      <td>Neutro</td>\n      <td>Neutro</td>\n      <td>Neutro</td>\n      <td>NaN</td>\n      <td>19/04</td>\n    </tr>\n    <tr>\n      <th>158</th>\n      <td>2022-04-19 12:14:25.021</td>\n      <td>Sí</td>\n      <td>151</td>\n      <td>Cédula de ciudadanía</td>\n      <td>42270041.0</td>\n      <td>Claribel.batista41sincelejoaprende.edu.co</td>\n      <td>65.0</td>\n      <td>Femenino</td>\n      <td>Sí</td>\n      <td>Separado/a o Divorciado/a</td>\n      <td>...</td>\n      <td>Totalmente en desacuerdo</td>\n      <td>Totalmente en desacuerdo</td>\n      <td>Totalmente en desacuerdo</td>\n      <td>Totalmente en desacuerdo</td>\n      <td>Totalmente en desacuerdo</td>\n      <td>Totalmente en desacuerdo</td>\n      <td>Totalmente en desacuerdo</td>\n      <td>Totalmente en desacuerdo</td>\n      <td>NaN</td>\n      <td>19/04</td>\n    </tr>\n    <tr>\n      <th>220</th>\n      <td>2022-04-19 13:12:53.789</td>\n      <td>Sí</td>\n      <td>67</td>\n      <td>Cédula de ciudadanía</td>\n      <td>40276881.0</td>\n      <td>bertapaez@gmail.com</td>\n      <td>50.0</td>\n      <td>Femenino</td>\n      <td>No</td>\n      <td>Casado/a o  En unión libre</td>\n      <td>...</td>\n      <td>Totalmente en desacuerdo</td>\n      <td>Totalmente en desacuerdo</td>\n      <td>Totalmente en desacuerdo</td>\n      <td>Totalmente en desacuerdo</td>\n      <td>Neutro</td>\n      <td>Neutro</td>\n      <td>Totalmente en desacuerdo</td>\n      <td>En desacuerdo</td>\n      <td>NaN</td>\n      <td>19/04</td>\n    </tr>\n    <tr>\n      <th>246</th>\n      <td>2022-04-19 14:56:38.018</td>\n      <td>Sí</td>\n      <td>76</td>\n      <td>Cédula de ciudadanía</td>\n      <td>40276881.0</td>\n      <td>bertapaez@gmail.com</td>\n      <td>50.0</td>\n      <td>Femenino</td>\n      <td>No</td>\n      <td>Casado/a o  En unión libre</td>\n      <td>...</td>\n      <td>Totalmente en desacuerdo</td>\n      <td>Totalmente en desacuerdo</td>\n      <td>Totalmente en desacuerdo</td>\n      <td>Totalmente en desacuerdo</td>\n      <td>Totalmente en desacuerdo</td>\n      <td>Totalmente en desacuerdo</td>\n      <td>Totalmente en desacuerdo</td>\n      <td>Totalmente en desacuerdo</td>\n      <td>NaN</td>\n      <td>19/04</td>\n    </tr>\n    <tr>\n      <th>348</th>\n      <td>2022-04-19 20:48:51.741</td>\n      <td>Sí</td>\n      <td>66</td>\n      <td>Cédula de ciudadanía</td>\n      <td>14475839.0</td>\n      <td>billyjhoan@gmail.com</td>\n      <td>37.0</td>\n      <td>Masculino</td>\n      <td>Sí</td>\n      <td>Casado/a o  En unión libre</td>\n      <td>...</td>\n      <td>Totalmente en desacuerdo</td>\n      <td>Totalmente en desacuerdo</td>\n      <td>Totalmente en desacuerdo</td>\n      <td>Totalmente en desacuerdo</td>\n      <td>Totalmente en desacuerdo</td>\n      <td>En desacuerdo</td>\n      <td>Totalmente en desacuerdo</td>\n      <td>Totalmente en desacuerdo</td>\n      <td>NaN</td>\n      <td>19/04</td>\n    </tr>\n    <tr>\n      <th>390</th>\n      <td>2022-04-20 09:53:33.538</td>\n      <td>Sí</td>\n      <td>179</td>\n      <td>Cédula de ciudadanía</td>\n      <td>27603761.0</td>\n      <td>oding For Kids   lady.jcaballeroj@instenalcocu...</td>\n      <td>40.0</td>\n      <td>Femenino</td>\n      <td>No</td>\n      <td>Casado/a o  En unión libre</td>\n      <td>...</td>\n      <td>Totalmente en desacuerdo</td>\n      <td>Totalmente en desacuerdo</td>\n      <td>Totalmente en desacuerdo</td>\n      <td>Totalmente en desacuerdo</td>\n      <td>Totalmente en desacuerdo</td>\n      <td>Totalmente en desacuerdo</td>\n      <td>Totalmente en desacuerdo</td>\n      <td>Totalmente en desacuerdo</td>\n      <td>NaN</td>\n      <td>20/04</td>\n    </tr>\n    <tr>\n      <th>791</th>\n      <td>2022-04-21 18:20:38.108</td>\n      <td>Sí</td>\n      <td>179</td>\n      <td>Cédula de ciudadanía</td>\n      <td>27603761.0</td>\n      <td>alexander.benavidesc@instenalcocucuta.edu.co</td>\n      <td>49.0</td>\n      <td>Masculino</td>\n      <td>Sí</td>\n      <td>Casado/a o  En unión libre</td>\n      <td>...</td>\n      <td>Totalmente en desacuerdo</td>\n      <td>Totalmente en desacuerdo</td>\n      <td>Totalmente en desacuerdo</td>\n      <td>Totalmente en desacuerdo</td>\n      <td>Totalmente en desacuerdo</td>\n      <td>Totalmente en desacuerdo</td>\n      <td>Totalmente en desacuerdo</td>\n      <td>Totalmente en desacuerdo</td>\n      <td></td>\n      <td>21/04</td>\n    </tr>\n    <tr>\n      <th>899</th>\n      <td>2022-04-22 12:50:21.179</td>\n      <td>Sí</td>\n      <td>20</td>\n      <td>Cédula de ciudadanía</td>\n      <td>31979159.0</td>\n      <td>mariapenaloza@ierodrigolloredacaicedo.edu.co</td>\n      <td>53.0</td>\n      <td>Femenino</td>\n      <td>No</td>\n      <td>Casado/a o  En unión libre</td>\n      <td>...</td>\n      <td>Neutro</td>\n      <td>En desacuerdo</td>\n      <td>De acuerdo</td>\n      <td>En desacuerdo</td>\n      <td>De acuerdo</td>\n      <td>De acuerdo</td>\n      <td>En desacuerdo</td>\n      <td>En desacuerdo</td>\n      <td>NaN</td>\n      <td>22/04</td>\n    </tr>\n    <tr>\n      <th>966</th>\n      <td>2022-04-22 14:12:52.286</td>\n      <td>Sí</td>\n      <td>20</td>\n      <td>Cédula de ciudadanía</td>\n      <td>31979159.0</td>\n      <td>numandiaortiz@ierodrigolloredacaicedo.edu.co</td>\n      <td>53.0</td>\n      <td>Femenino</td>\n      <td>No</td>\n      <td>Casado/a o  En unión libre</td>\n      <td>...</td>\n      <td>Totalmente en desacuerdo</td>\n      <td>En desacuerdo</td>\n      <td>Neutro</td>\n      <td>En desacuerdo</td>\n      <td>De acuerdo</td>\n      <td>Neutro</td>\n      <td>De acuerdo</td>\n      <td>En desacuerdo</td>\n      <td>NaN</td>\n      <td>22/04</td>\n    </tr>\n  </tbody>\n</table>\n<p>10 rows × 90 columns</p>\n</div>"
     },
     "execution_count": 8,
     "metadata": {},
     "output_type": "execute_result"
    }
   ],
   "source": [
    "df[df.ID.isin([27603761.0, 31979159.0, 40276881.0, 42270041.0, 14475839.0])]"
   ],
   "metadata": {
    "collapsed": false,
    "pycharm": {
     "name": "#%%\n"
    }
   }
  },
  {
   "cell_type": "code",
   "execution_count": 9,
   "outputs": [
    {
     "data": {
      "text/plain": "                   Timestamp Política de datos                  Código IE  \\\n3    2022-04-18 07:59:42.646                Sí  Nueva Esperanza La Palma    \n4    2022-04-18 08:03:32.288                Sí                        206   \n5    2022-04-18 08:05:14.497                Sí                        206   \n6    2022-04-18 08:07:11.041                Sí                        206   \n7    2022-04-18 08:07:35.471                Sí                        206   \n...                      ...               ...                        ...   \n1039 2022-04-23 09:51:53.271                Sí                        110   \n1040 2022-04-23 09:53:24.612                Sí                        252   \n1041 2022-04-23 10:46:13.110                Sí                         27   \n1042 2022-04-23 10:56:03.001                Sí                         54   \n1043 2022-04-23 11:38:26.864                Sí                        179   \n\n                   Tipo ID            ID                            Email  \\\n3     Cédula de ciudadanía  1.110475e+09               ydur912@gmail.com    \n4     Cédula de ciudadanía  5.828243e+06        Mosquera.fabio@gmail.com    \n5     Cédula de ciudadanía  9.337793e+07                 nixong@yahoo.com   \n6     Cédula de ciudadanía  3.836377e+07      ivonne.saavedrab@nep.edu.co   \n7     Cédula de ciudadanía  5.827991e+06  javierlunarodriguez@hotmail.com   \n...                    ...           ...                              ...   \n1039  Cédula de ciudadanía  2.245846e+07           irolongariza@yahoo.com   \n1040  Cédula de ciudadanía  3.286344e+07       mjnvillarreal38@outlook.es   \n1041  Cédula de ciudadanía  8.746958e+06          Ojimenez2731@gmail.com    \n1042  Cédula de ciudadanía  1.253830e+07        silcharcristo2@gmail.com    \n1043  Cédula de ciudadanía  6.044455e+07         luzkalopez43@hotmail.com   \n\n      Edad       Sexo Cabeza de hogar                Estado civil  ...  \\\n3     33.0  Masculino              Sí                   Soltero/a  ...   \n4     40.0  Masculino              Sí  Casado/a o  En unión libre  ...   \n5     52.0  Masculino              Sí  Casado/a o  En unión libre  ...   \n6     38.0   Femenino              No                   Soltero/a  ...   \n7     42.0  Masculino              Sí  Casado/a o  En unión libre  ...   \n...    ...        ...             ...                         ...  ...   \n1039  57.0   Femenino              No  Casado/a o  En unión libre  ...   \n1040  50.0   Femenino              Sí                   Soltero/a  ...   \n1041  57.0  Masculino              Sí  Casado/a o  En unión libre  ...   \n1042  66.0  Masculino              Sí  Casado/a o  En unión libre  ...   \n1043  38.0   Femenino              No  Casado/a o  En unión libre  ...   \n\n     8.9 Es natural que los hombres sean buenos para los números y las mujeres para las letras.  \\\n3                                                Neutro                                           \n4                                                Neutro                                           \n5                              Totalmente en desacuerdo                                           \n6                              Totalmente en desacuerdo                                           \n7                                         En desacuerdo                                           \n...                                                 ...                                           \n1039                           Totalmente en desacuerdo                                           \n1040                                      En desacuerdo                                           \n1041                           Totalmente en desacuerdo                                           \n1042                                      En desacuerdo                                           \n1043                           Totalmente en desacuerdo                                           \n\n     8.10 Los hombres son muy ágiles tomando decisiones importantes.  \\\n3                                                Neutro                \n4                                                Neutro                \n5                              Totalmente en desacuerdo                \n6                              Totalmente en desacuerdo                \n7                                         En desacuerdo                \n...                                                 ...                \n1039                           Totalmente en desacuerdo                \n1040                                      En desacuerdo                \n1041                           Totalmente en desacuerdo                \n1042                                      En desacuerdo                \n1043                           Totalmente en desacuerdo                \n\n     8.11 Las niñas son más ordenadas que los niños.  \\\n3                                             Neutro   \n4                                             Neutro   \n5                                         De acuerdo   \n6                           Totalmente en desacuerdo   \n7                                      En desacuerdo   \n...                                              ...   \n1039                        Totalmente en desacuerdo   \n1040                                   En desacuerdo   \n1041                                      De acuerdo   \n1042                                   En desacuerdo   \n1043                                          Neutro   \n\n     8.12 Muchas mujeres se caracterizan por una pureza que pocos hombres poseen.  \\\n3                                                Neutro                             \n4                                                Neutro                             \n5                                                Neutro                             \n6                              Totalmente en desacuerdo                             \n7                                         En desacuerdo                             \n...                                                 ...                             \n1039                           Totalmente en desacuerdo                             \n1040                                      En desacuerdo                             \n1041                                      En desacuerdo                             \n1042                                      En desacuerdo                             \n1043                                             Neutro                             \n\n     8.13 Las mujeres deben ser queridas y protegidas por los hombres.  \\\n3                                                Neutro                  \n4                                                Neutro                  \n5                                                Neutro                  \n6                              Totalmente en desacuerdo                  \n7                                         En desacuerdo                  \n...                                                 ...                  \n1039                           Totalmente en desacuerdo                  \n1040                                             Neutro                  \n1041                              Totalmente de acuerdo                  \n1042                              Totalmente de acuerdo                  \n1043                                             Neutro                  \n\n     8.14 Todo hombre debe tener una mujer a quien amar.  \\\n3                                                Neutro    \n4                                                Neutro    \n5                              Totalmente en desacuerdo    \n6                              Totalmente en desacuerdo    \n7                                         En desacuerdo    \n...                                                 ...    \n1039                           Totalmente en desacuerdo    \n1040                                      En desacuerdo    \n1041                                             Neutro    \n1042                              Totalmente de acuerdo    \n1043                                             Neutro    \n\n     8.15 El hombre está incompleto sin la mujer.  \\\n3                                          Neutro   \n4                                          Neutro   \n5                        Totalmente en desacuerdo   \n6                        Totalmente en desacuerdo   \n7                                   En desacuerdo   \n...                                           ...   \n1039                     Totalmente en desacuerdo   \n1040                     Totalmente en desacuerdo   \n1041                                       Neutro   \n1042                        Totalmente de acuerdo   \n1043                                       Neutro   \n\n     8.16 Las mujeres en comparación con los hombres, tienden a tener un sentido más refinado de la cultura y el buen gusto.  \\\n3                                                Neutro                                                                        \n4                                                Neutro                                                                        \n5                              Totalmente en desacuerdo                                                                        \n6                              Totalmente en desacuerdo                                                                        \n7                                         En desacuerdo                                                                        \n...                                                 ...                                                                        \n1039                           Totalmente en desacuerdo                                                                        \n1040                           Totalmente en desacuerdo                                                                        \n1041                                             Neutro                                                                        \n1042                              Totalmente de acuerdo                                                                        \n1043                                      En desacuerdo                                                                        \n\n                                     Comentarios género  Fecha  \n3                                                   NaN  18/04  \n4                                               Ninguno  18/04  \n5                                                   NaN  18/04  \n6                                                   NaN  18/04  \n7                                                   NaN  18/04  \n...                                                 ...    ...  \n1039  Las instituciones educativas deben continuar c...  23/04  \n1040                                                NaN  23/04  \n1041  No se debe tener en cuenta el género para real...  23/04  \n1042                                                NaN  23/04  \n1043                                                NaN  23/04  \n\n[1011 rows x 90 columns]",
      "text/html": "<div>\n<style scoped>\n    .dataframe tbody tr th:only-of-type {\n        vertical-align: middle;\n    }\n\n    .dataframe tbody tr th {\n        vertical-align: top;\n    }\n\n    .dataframe thead th {\n        text-align: right;\n    }\n</style>\n<table border=\"1\" class=\"dataframe\">\n  <thead>\n    <tr style=\"text-align: right;\">\n      <th></th>\n      <th>Timestamp</th>\n      <th>Política de datos</th>\n      <th>Código IE</th>\n      <th>Tipo ID</th>\n      <th>ID</th>\n      <th>Email</th>\n      <th>Edad</th>\n      <th>Sexo</th>\n      <th>Cabeza de hogar</th>\n      <th>Estado civil</th>\n      <th>...</th>\n      <th>8.9 Es natural que los hombres sean buenos para los números y las mujeres para las letras.</th>\n      <th>8.10 Los hombres son muy ágiles tomando decisiones importantes.</th>\n      <th>8.11 Las niñas son más ordenadas que los niños.</th>\n      <th>8.12 Muchas mujeres se caracterizan por una pureza que pocos hombres poseen.</th>\n      <th>8.13 Las mujeres deben ser queridas y protegidas por los hombres.</th>\n      <th>8.14 Todo hombre debe tener una mujer a quien amar.</th>\n      <th>8.15 El hombre está incompleto sin la mujer.</th>\n      <th>8.16 Las mujeres en comparación con los hombres, tienden a tener un sentido más refinado de la cultura y el buen gusto.</th>\n      <th>Comentarios género</th>\n      <th>Fecha</th>\n    </tr>\n  </thead>\n  <tbody>\n    <tr>\n      <th>3</th>\n      <td>2022-04-18 07:59:42.646</td>\n      <td>Sí</td>\n      <td>Nueva Esperanza La Palma</td>\n      <td>Cédula de ciudadanía</td>\n      <td>1.110475e+09</td>\n      <td>ydur912@gmail.com</td>\n      <td>33.0</td>\n      <td>Masculino</td>\n      <td>Sí</td>\n      <td>Soltero/a</td>\n      <td>...</td>\n      <td>Neutro</td>\n      <td>Neutro</td>\n      <td>Neutro</td>\n      <td>Neutro</td>\n      <td>Neutro</td>\n      <td>Neutro</td>\n      <td>Neutro</td>\n      <td>Neutro</td>\n      <td>NaN</td>\n      <td>18/04</td>\n    </tr>\n    <tr>\n      <th>4</th>\n      <td>2022-04-18 08:03:32.288</td>\n      <td>Sí</td>\n      <td>206</td>\n      <td>Cédula de ciudadanía</td>\n      <td>5.828243e+06</td>\n      <td>Mosquera.fabio@gmail.com</td>\n      <td>40.0</td>\n      <td>Masculino</td>\n      <td>Sí</td>\n      <td>Casado/a o  En unión libre</td>\n      <td>...</td>\n      <td>Neutro</td>\n      <td>Neutro</td>\n      <td>Neutro</td>\n      <td>Neutro</td>\n      <td>Neutro</td>\n      <td>Neutro</td>\n      <td>Neutro</td>\n      <td>Neutro</td>\n      <td>Ninguno</td>\n      <td>18/04</td>\n    </tr>\n    <tr>\n      <th>5</th>\n      <td>2022-04-18 08:05:14.497</td>\n      <td>Sí</td>\n      <td>206</td>\n      <td>Cédula de ciudadanía</td>\n      <td>9.337793e+07</td>\n      <td>nixong@yahoo.com</td>\n      <td>52.0</td>\n      <td>Masculino</td>\n      <td>Sí</td>\n      <td>Casado/a o  En unión libre</td>\n      <td>...</td>\n      <td>Totalmente en desacuerdo</td>\n      <td>Totalmente en desacuerdo</td>\n      <td>De acuerdo</td>\n      <td>Neutro</td>\n      <td>Neutro</td>\n      <td>Totalmente en desacuerdo</td>\n      <td>Totalmente en desacuerdo</td>\n      <td>Totalmente en desacuerdo</td>\n      <td>NaN</td>\n      <td>18/04</td>\n    </tr>\n    <tr>\n      <th>6</th>\n      <td>2022-04-18 08:07:11.041</td>\n      <td>Sí</td>\n      <td>206</td>\n      <td>Cédula de ciudadanía</td>\n      <td>3.836377e+07</td>\n      <td>ivonne.saavedrab@nep.edu.co</td>\n      <td>38.0</td>\n      <td>Femenino</td>\n      <td>No</td>\n      <td>Soltero/a</td>\n      <td>...</td>\n      <td>Totalmente en desacuerdo</td>\n      <td>Totalmente en desacuerdo</td>\n      <td>Totalmente en desacuerdo</td>\n      <td>Totalmente en desacuerdo</td>\n      <td>Totalmente en desacuerdo</td>\n      <td>Totalmente en desacuerdo</td>\n      <td>Totalmente en desacuerdo</td>\n      <td>Totalmente en desacuerdo</td>\n      <td>NaN</td>\n      <td>18/04</td>\n    </tr>\n    <tr>\n      <th>7</th>\n      <td>2022-04-18 08:07:35.471</td>\n      <td>Sí</td>\n      <td>206</td>\n      <td>Cédula de ciudadanía</td>\n      <td>5.827991e+06</td>\n      <td>javierlunarodriguez@hotmail.com</td>\n      <td>42.0</td>\n      <td>Masculino</td>\n      <td>Sí</td>\n      <td>Casado/a o  En unión libre</td>\n      <td>...</td>\n      <td>En desacuerdo</td>\n      <td>En desacuerdo</td>\n      <td>En desacuerdo</td>\n      <td>En desacuerdo</td>\n      <td>En desacuerdo</td>\n      <td>En desacuerdo</td>\n      <td>En desacuerdo</td>\n      <td>En desacuerdo</td>\n      <td>NaN</td>\n      <td>18/04</td>\n    </tr>\n    <tr>\n      <th>...</th>\n      <td>...</td>\n      <td>...</td>\n      <td>...</td>\n      <td>...</td>\n      <td>...</td>\n      <td>...</td>\n      <td>...</td>\n      <td>...</td>\n      <td>...</td>\n      <td>...</td>\n      <td>...</td>\n      <td>...</td>\n      <td>...</td>\n      <td>...</td>\n      <td>...</td>\n      <td>...</td>\n      <td>...</td>\n      <td>...</td>\n      <td>...</td>\n      <td>...</td>\n      <td>...</td>\n    </tr>\n    <tr>\n      <th>1039</th>\n      <td>2022-04-23 09:51:53.271</td>\n      <td>Sí</td>\n      <td>110</td>\n      <td>Cédula de ciudadanía</td>\n      <td>2.245846e+07</td>\n      <td>irolongariza@yahoo.com</td>\n      <td>57.0</td>\n      <td>Femenino</td>\n      <td>No</td>\n      <td>Casado/a o  En unión libre</td>\n      <td>...</td>\n      <td>Totalmente en desacuerdo</td>\n      <td>Totalmente en desacuerdo</td>\n      <td>Totalmente en desacuerdo</td>\n      <td>Totalmente en desacuerdo</td>\n      <td>Totalmente en desacuerdo</td>\n      <td>Totalmente en desacuerdo</td>\n      <td>Totalmente en desacuerdo</td>\n      <td>Totalmente en desacuerdo</td>\n      <td>Las instituciones educativas deben continuar c...</td>\n      <td>23/04</td>\n    </tr>\n    <tr>\n      <th>1040</th>\n      <td>2022-04-23 09:53:24.612</td>\n      <td>Sí</td>\n      <td>252</td>\n      <td>Cédula de ciudadanía</td>\n      <td>3.286344e+07</td>\n      <td>mjnvillarreal38@outlook.es</td>\n      <td>50.0</td>\n      <td>Femenino</td>\n      <td>Sí</td>\n      <td>Soltero/a</td>\n      <td>...</td>\n      <td>En desacuerdo</td>\n      <td>En desacuerdo</td>\n      <td>En desacuerdo</td>\n      <td>En desacuerdo</td>\n      <td>Neutro</td>\n      <td>En desacuerdo</td>\n      <td>Totalmente en desacuerdo</td>\n      <td>Totalmente en desacuerdo</td>\n      <td>NaN</td>\n      <td>23/04</td>\n    </tr>\n    <tr>\n      <th>1041</th>\n      <td>2022-04-23 10:46:13.110</td>\n      <td>Sí</td>\n      <td>27</td>\n      <td>Cédula de ciudadanía</td>\n      <td>8.746958e+06</td>\n      <td>Ojimenez2731@gmail.com</td>\n      <td>57.0</td>\n      <td>Masculino</td>\n      <td>Sí</td>\n      <td>Casado/a o  En unión libre</td>\n      <td>...</td>\n      <td>Totalmente en desacuerdo</td>\n      <td>Totalmente en desacuerdo</td>\n      <td>De acuerdo</td>\n      <td>En desacuerdo</td>\n      <td>Totalmente de acuerdo</td>\n      <td>Neutro</td>\n      <td>Neutro</td>\n      <td>Neutro</td>\n      <td>No se debe tener en cuenta el género para real...</td>\n      <td>23/04</td>\n    </tr>\n    <tr>\n      <th>1042</th>\n      <td>2022-04-23 10:56:03.001</td>\n      <td>Sí</td>\n      <td>54</td>\n      <td>Cédula de ciudadanía</td>\n      <td>1.253830e+07</td>\n      <td>silcharcristo2@gmail.com</td>\n      <td>66.0</td>\n      <td>Masculino</td>\n      <td>Sí</td>\n      <td>Casado/a o  En unión libre</td>\n      <td>...</td>\n      <td>En desacuerdo</td>\n      <td>En desacuerdo</td>\n      <td>En desacuerdo</td>\n      <td>En desacuerdo</td>\n      <td>Totalmente de acuerdo</td>\n      <td>Totalmente de acuerdo</td>\n      <td>Totalmente de acuerdo</td>\n      <td>Totalmente de acuerdo</td>\n      <td>NaN</td>\n      <td>23/04</td>\n    </tr>\n    <tr>\n      <th>1043</th>\n      <td>2022-04-23 11:38:26.864</td>\n      <td>Sí</td>\n      <td>179</td>\n      <td>Cédula de ciudadanía</td>\n      <td>6.044455e+07</td>\n      <td>luzkalopez43@hotmail.com</td>\n      <td>38.0</td>\n      <td>Femenino</td>\n      <td>No</td>\n      <td>Casado/a o  En unión libre</td>\n      <td>...</td>\n      <td>Totalmente en desacuerdo</td>\n      <td>Totalmente en desacuerdo</td>\n      <td>Neutro</td>\n      <td>Neutro</td>\n      <td>Neutro</td>\n      <td>Neutro</td>\n      <td>Neutro</td>\n      <td>En desacuerdo</td>\n      <td>NaN</td>\n      <td>23/04</td>\n    </tr>\n  </tbody>\n</table>\n<p>1011 rows × 90 columns</p>\n</div>"
     },
     "execution_count": 9,
     "metadata": {},
     "output_type": "execute_result"
    }
   ],
   "source": [
    "df = df.drop_duplicates(subset='ID', keep='last')\n",
    "df"
   ],
   "metadata": {
    "collapsed": false,
    "pycharm": {
     "name": "#%%\n"
    }
   }
  },
  {
   "cell_type": "code",
   "execution_count": 10,
   "outputs": [
    {
     "data": {
      "text/plain": "     1.1 Siento que puedo aplicar las prácticas y habilidades del pensamiento computacional a mi trabajo  \\\n3                                 Totalmente de Acuerdo                                                    \n4                                                Neutro                                                    \n5                                                Neutro                                                    \n6                                            De Acuerdo                                                    \n7                              Totalmente en Desacuerdo                                                    \n...                                                 ...                                                    \n1039                              Totalmente de Acuerdo                                                    \n1040                                             Neutro                                                    \n1041                                         De Acuerdo                                                    \n1042                              Totalmente de Acuerdo                                                    \n1043                              Totalmente de Acuerdo                                                    \n\n     1.2 Siento que puedo definir el pensamiento computacional  \\\n3                                            De Acuerdo          \n4                                                Neutro          \n5                                                Neutro          \n6                                         En Desacuerdo          \n7                                         En Desacuerdo          \n...                                                 ...          \n1039                              Totalmente de Acuerdo          \n1040                                             Neutro          \n1041                                             Neutro          \n1042                                         De Acuerdo          \n1043                                         De Acuerdo          \n\n     1.3 Siento que puedo describir las prácticas y habilidades que componen el pensamiento computacional a mis estudiantes  \\\n3                                            De Acuerdo                                                                       \n4                                                Neutro                                                                       \n5                                                Neutro                                                                       \n6                                         En Desacuerdo                                                                       \n7                                         En Desacuerdo                                                                       \n...                                                 ...                                                                       \n1039                              Totalmente de Acuerdo                                                                       \n1040                                             Neutro                                                                       \n1041                                         De Acuerdo                                                                       \n1042                                         De Acuerdo                                                                       \n1043                                         De Acuerdo                                                                       \n\n     1.4 Siento que puedo aplicar las prácticas y habilidades del pensamiento computacional a mi vida diaria  \n3                                            De Acuerdo                                                       \n4                                                Neutro                                                       \n5                              Totalmente en Desacuerdo                                                       \n6                                            De Acuerdo                                                       \n7                                         En Desacuerdo                                                       \n...                                                 ...                                                       \n1039                              Totalmente de Acuerdo                                                       \n1040                                             Neutro                                                       \n1041                                         De Acuerdo                                                       \n1042                                         De Acuerdo                                                       \n1043                                         De Acuerdo                                                       \n\n[1011 rows x 4 columns]",
      "text/html": "<div>\n<style scoped>\n    .dataframe tbody tr th:only-of-type {\n        vertical-align: middle;\n    }\n\n    .dataframe tbody tr th {\n        vertical-align: top;\n    }\n\n    .dataframe thead th {\n        text-align: right;\n    }\n</style>\n<table border=\"1\" class=\"dataframe\">\n  <thead>\n    <tr style=\"text-align: right;\">\n      <th></th>\n      <th>1.1 Siento que puedo aplicar las prácticas y habilidades del pensamiento computacional a mi trabajo</th>\n      <th>1.2 Siento que puedo definir el pensamiento computacional</th>\n      <th>1.3 Siento que puedo describir las prácticas y habilidades que componen el pensamiento computacional a mis estudiantes</th>\n      <th>1.4 Siento que puedo aplicar las prácticas y habilidades del pensamiento computacional a mi vida diaria</th>\n    </tr>\n  </thead>\n  <tbody>\n    <tr>\n      <th>3</th>\n      <td>Totalmente de Acuerdo</td>\n      <td>De Acuerdo</td>\n      <td>De Acuerdo</td>\n      <td>De Acuerdo</td>\n    </tr>\n    <tr>\n      <th>4</th>\n      <td>Neutro</td>\n      <td>Neutro</td>\n      <td>Neutro</td>\n      <td>Neutro</td>\n    </tr>\n    <tr>\n      <th>5</th>\n      <td>Neutro</td>\n      <td>Neutro</td>\n      <td>Neutro</td>\n      <td>Totalmente en Desacuerdo</td>\n    </tr>\n    <tr>\n      <th>6</th>\n      <td>De Acuerdo</td>\n      <td>En Desacuerdo</td>\n      <td>En Desacuerdo</td>\n      <td>De Acuerdo</td>\n    </tr>\n    <tr>\n      <th>7</th>\n      <td>Totalmente en Desacuerdo</td>\n      <td>En Desacuerdo</td>\n      <td>En Desacuerdo</td>\n      <td>En Desacuerdo</td>\n    </tr>\n    <tr>\n      <th>...</th>\n      <td>...</td>\n      <td>...</td>\n      <td>...</td>\n      <td>...</td>\n    </tr>\n    <tr>\n      <th>1039</th>\n      <td>Totalmente de Acuerdo</td>\n      <td>Totalmente de Acuerdo</td>\n      <td>Totalmente de Acuerdo</td>\n      <td>Totalmente de Acuerdo</td>\n    </tr>\n    <tr>\n      <th>1040</th>\n      <td>Neutro</td>\n      <td>Neutro</td>\n      <td>Neutro</td>\n      <td>Neutro</td>\n    </tr>\n    <tr>\n      <th>1041</th>\n      <td>De Acuerdo</td>\n      <td>Neutro</td>\n      <td>De Acuerdo</td>\n      <td>De Acuerdo</td>\n    </tr>\n    <tr>\n      <th>1042</th>\n      <td>Totalmente de Acuerdo</td>\n      <td>De Acuerdo</td>\n      <td>De Acuerdo</td>\n      <td>De Acuerdo</td>\n    </tr>\n    <tr>\n      <th>1043</th>\n      <td>Totalmente de Acuerdo</td>\n      <td>De Acuerdo</td>\n      <td>De Acuerdo</td>\n      <td>De Acuerdo</td>\n    </tr>\n  </tbody>\n</table>\n<p>1011 rows × 4 columns</p>\n</div>"
     },
     "execution_count": 10,
     "metadata": {},
     "output_type": "execute_result"
    }
   ],
   "source": [
    "df[df.filter(regex='^1.*').columns]"
   ],
   "metadata": {
    "collapsed": false,
    "pycharm": {
     "name": "#%%\n"
    }
   }
  },
  {
   "cell_type": "code",
   "execution_count": 11,
   "outputs": [
    {
     "name": "stderr",
     "output_type": "stream",
     "text": [
      "/tmp/ipykernel_112409/3379693710.py:2: SettingWithCopyWarning: \n",
      "A value is trying to be set on a copy of a slice from a DataFrame.\n",
      "Try using .loc[row_indexer,col_indexer] = value instead\n",
      "\n",
      "See the caveats in the documentation: https://pandas.pydata.org/pandas-docs/stable/user_guide/indexing.html#returning-a-view-versus-a-copy\n",
      "  df['Código IE'] = df['Código IE'].astype(int)\n",
      "/tmp/ipykernel_112409/3379693710.py:5: SettingWithCopyWarning: \n",
      "A value is trying to be set on a copy of a slice from a DataFrame.\n",
      "Try using .loc[row_indexer,col_indexer] = value instead\n",
      "\n",
      "See the caveats in the documentation: https://pandas.pydata.org/pandas-docs/stable/user_guide/indexing.html#returning-a-view-versus-a-copy\n",
      "  df['Implementa fichas'] = df['Implementa fichas'].fillna(\"No\")\n",
      "/tmp/ipykernel_112409/3379693710.py:6: SettingWithCopyWarning: \n",
      "A value is trying to be set on a copy of a slice from a DataFrame.\n",
      "Try using .loc[row_indexer,col_indexer] = value instead\n",
      "\n",
      "See the caveats in the documentation: https://pandas.pydata.org/pandas-docs/stable/user_guide/indexing.html#returning-a-view-versus-a-copy\n",
      "  df[df.filter(regex='^1.*').columns] = df[df.filter(regex='^1.*').columns].fillna(\"Totalmente en Desacuerdo\")\n",
      "/tmp/ipykernel_112409/3379693710.py:7: SettingWithCopyWarning: \n",
      "A value is trying to be set on a copy of a slice from a DataFrame.\n",
      "Try using .loc[row_indexer,col_indexer] = value instead\n",
      "\n",
      "See the caveats in the documentation: https://pandas.pydata.org/pandas-docs/stable/user_guide/indexing.html#returning-a-view-versus-a-copy\n",
      "  df[df.filter(regex='^2.*').columns] = df[df.filter(regex='^2.*').columns].fillna(\"Totalmente en Desacuerdo\")\n",
      "/tmp/ipykernel_112409/3379693710.py:8: SettingWithCopyWarning: \n",
      "A value is trying to be set on a copy of a slice from a DataFrame.\n",
      "Try using .loc[row_indexer,col_indexer] = value instead\n",
      "\n",
      "See the caveats in the documentation: https://pandas.pydata.org/pandas-docs/stable/user_guide/indexing.html#returning-a-view-versus-a-copy\n",
      "  df[df.filter(regex='^Comentarios*').columns] = df[df.filter(regex='^Comentarios*').columns].fillna(\"\")\n"
     ]
    },
    {
     "data": {
      "text/plain": "                   Timestamp Política de datos  Código IE  \\\n4    2022-04-18 08:03:32.288                Sí        206   \n5    2022-04-18 08:05:14.497                Sí        206   \n6    2022-04-18 08:07:11.041                Sí        206   \n7    2022-04-18 08:07:35.471                Sí        206   \n8    2022-04-18 08:08:04.450                Sí        206   \n...                      ...               ...        ...   \n1039 2022-04-23 09:51:53.271                Sí        110   \n1040 2022-04-23 09:53:24.612                Sí        252   \n1041 2022-04-23 10:46:13.110                Sí         27   \n1042 2022-04-23 10:56:03.001                Sí         54   \n1043 2022-04-23 11:38:26.864                Sí        179   \n\n                   Tipo ID            ID                            Email  \\\n4     Cédula de ciudadanía  5.828243e+06        Mosquera.fabio@gmail.com    \n5     Cédula de ciudadanía  9.337793e+07                 nixong@yahoo.com   \n6     Cédula de ciudadanía  3.836377e+07      ivonne.saavedrab@nep.edu.co   \n7     Cédula de ciudadanía  5.827991e+06  javierlunarodriguez@hotmail.com   \n8     Cédula de ciudadanía  1.110496e+09         pipe.edufisica@gmail.com   \n...                    ...           ...                              ...   \n1039  Cédula de ciudadanía  2.245846e+07           irolongariza@yahoo.com   \n1040  Cédula de ciudadanía  3.286344e+07       mjnvillarreal38@outlook.es   \n1041  Cédula de ciudadanía  8.746958e+06          Ojimenez2731@gmail.com    \n1042  Cédula de ciudadanía  1.253830e+07        silcharcristo2@gmail.com    \n1043  Cédula de ciudadanía  6.044455e+07         luzkalopez43@hotmail.com   \n\n      Edad       Sexo Cabeza de hogar                Estado civil  ...  \\\n4     40.0  Masculino              Sí  Casado/a o  En unión libre  ...   \n5     52.0  Masculino              Sí  Casado/a o  En unión libre  ...   \n6     38.0   Femenino              No                   Soltero/a  ...   \n7     42.0  Masculino              Sí  Casado/a o  En unión libre  ...   \n8     32.0  Masculino              No  Casado/a o  En unión libre  ...   \n...    ...        ...             ...                         ...  ...   \n1039  57.0   Femenino              No  Casado/a o  En unión libre  ...   \n1040  50.0   Femenino              Sí                   Soltero/a  ...   \n1041  57.0  Masculino              Sí  Casado/a o  En unión libre  ...   \n1042  66.0  Masculino              Sí  Casado/a o  En unión libre  ...   \n1043  38.0   Femenino              No  Casado/a o  En unión libre  ...   \n\n     8.9 Es natural que los hombres sean buenos para los números y las mujeres para las letras.  \\\n4                                                Neutro                                           \n5                              Totalmente en desacuerdo                                           \n6                              Totalmente en desacuerdo                                           \n7                                         En desacuerdo                                           \n8                              Totalmente en desacuerdo                                           \n...                                                 ...                                           \n1039                           Totalmente en desacuerdo                                           \n1040                                      En desacuerdo                                           \n1041                           Totalmente en desacuerdo                                           \n1042                                      En desacuerdo                                           \n1043                           Totalmente en desacuerdo                                           \n\n     8.10 Los hombres son muy ágiles tomando decisiones importantes.  \\\n4                                                Neutro                \n5                              Totalmente en desacuerdo                \n6                              Totalmente en desacuerdo                \n7                                         En desacuerdo                \n8                              Totalmente en desacuerdo                \n...                                                 ...                \n1039                           Totalmente en desacuerdo                \n1040                                      En desacuerdo                \n1041                           Totalmente en desacuerdo                \n1042                                      En desacuerdo                \n1043                           Totalmente en desacuerdo                \n\n     8.11 Las niñas son más ordenadas que los niños.  \\\n4                                             Neutro   \n5                                         De acuerdo   \n6                           Totalmente en desacuerdo   \n7                                      En desacuerdo   \n8                              Totalmente de acuerdo   \n...                                              ...   \n1039                        Totalmente en desacuerdo   \n1040                                   En desacuerdo   \n1041                                      De acuerdo   \n1042                                   En desacuerdo   \n1043                                          Neutro   \n\n     8.12 Muchas mujeres se caracterizan por una pureza que pocos hombres poseen.  \\\n4                                                Neutro                             \n5                                                Neutro                             \n6                              Totalmente en desacuerdo                             \n7                                         En desacuerdo                             \n8                                                Neutro                             \n...                                                 ...                             \n1039                           Totalmente en desacuerdo                             \n1040                                      En desacuerdo                             \n1041                                      En desacuerdo                             \n1042                                      En desacuerdo                             \n1043                                             Neutro                             \n\n     8.13 Las mujeres deben ser queridas y protegidas por los hombres.  \\\n4                                                Neutro                  \n5                                                Neutro                  \n6                              Totalmente en desacuerdo                  \n7                                         En desacuerdo                  \n8                                            De acuerdo                  \n...                                                 ...                  \n1039                           Totalmente en desacuerdo                  \n1040                                             Neutro                  \n1041                              Totalmente de acuerdo                  \n1042                              Totalmente de acuerdo                  \n1043                                             Neutro                  \n\n     8.14 Todo hombre debe tener una mujer a quien amar.  \\\n4                                                Neutro    \n5                              Totalmente en desacuerdo    \n6                              Totalmente en desacuerdo    \n7                                         En desacuerdo    \n8                                         En desacuerdo    \n...                                                 ...    \n1039                           Totalmente en desacuerdo    \n1040                                      En desacuerdo    \n1041                                             Neutro    \n1042                              Totalmente de acuerdo    \n1043                                             Neutro    \n\n     8.15 El hombre está incompleto sin la mujer.  \\\n4                                          Neutro   \n5                        Totalmente en desacuerdo   \n6                        Totalmente en desacuerdo   \n7                                   En desacuerdo   \n8                                   En desacuerdo   \n...                                           ...   \n1039                     Totalmente en desacuerdo   \n1040                     Totalmente en desacuerdo   \n1041                                       Neutro   \n1042                        Totalmente de acuerdo   \n1043                                       Neutro   \n\n     8.16 Las mujeres en comparación con los hombres, tienden a tener un sentido más refinado de la cultura y el buen gusto.  \\\n4                                                Neutro                                                                        \n5                              Totalmente en desacuerdo                                                                        \n6                              Totalmente en desacuerdo                                                                        \n7                                         En desacuerdo                                                                        \n8                                            De acuerdo                                                                        \n...                                                 ...                                                                        \n1039                           Totalmente en desacuerdo                                                                        \n1040                           Totalmente en desacuerdo                                                                        \n1041                                             Neutro                                                                        \n1042                              Totalmente de acuerdo                                                                        \n1043                                      En desacuerdo                                                                        \n\n                                     Comentarios género  Fecha  \n4                                               Ninguno  18/04  \n5                                                        18/04  \n6                                                        18/04  \n7                                                        18/04  \n8                                                        18/04  \n...                                                 ...    ...  \n1039  Las instituciones educativas deben continuar c...  23/04  \n1040                                                     23/04  \n1041  No se debe tener en cuenta el género para real...  23/04  \n1042                                                     23/04  \n1043                                                     23/04  \n\n[1005 rows x 90 columns]",
      "text/html": "<div>\n<style scoped>\n    .dataframe tbody tr th:only-of-type {\n        vertical-align: middle;\n    }\n\n    .dataframe tbody tr th {\n        vertical-align: top;\n    }\n\n    .dataframe thead th {\n        text-align: right;\n    }\n</style>\n<table border=\"1\" class=\"dataframe\">\n  <thead>\n    <tr style=\"text-align: right;\">\n      <th></th>\n      <th>Timestamp</th>\n      <th>Política de datos</th>\n      <th>Código IE</th>\n      <th>Tipo ID</th>\n      <th>ID</th>\n      <th>Email</th>\n      <th>Edad</th>\n      <th>Sexo</th>\n      <th>Cabeza de hogar</th>\n      <th>Estado civil</th>\n      <th>...</th>\n      <th>8.9 Es natural que los hombres sean buenos para los números y las mujeres para las letras.</th>\n      <th>8.10 Los hombres son muy ágiles tomando decisiones importantes.</th>\n      <th>8.11 Las niñas son más ordenadas que los niños.</th>\n      <th>8.12 Muchas mujeres se caracterizan por una pureza que pocos hombres poseen.</th>\n      <th>8.13 Las mujeres deben ser queridas y protegidas por los hombres.</th>\n      <th>8.14 Todo hombre debe tener una mujer a quien amar.</th>\n      <th>8.15 El hombre está incompleto sin la mujer.</th>\n      <th>8.16 Las mujeres en comparación con los hombres, tienden a tener un sentido más refinado de la cultura y el buen gusto.</th>\n      <th>Comentarios género</th>\n      <th>Fecha</th>\n    </tr>\n  </thead>\n  <tbody>\n    <tr>\n      <th>4</th>\n      <td>2022-04-18 08:03:32.288</td>\n      <td>Sí</td>\n      <td>206</td>\n      <td>Cédula de ciudadanía</td>\n      <td>5.828243e+06</td>\n      <td>Mosquera.fabio@gmail.com</td>\n      <td>40.0</td>\n      <td>Masculino</td>\n      <td>Sí</td>\n      <td>Casado/a o  En unión libre</td>\n      <td>...</td>\n      <td>Neutro</td>\n      <td>Neutro</td>\n      <td>Neutro</td>\n      <td>Neutro</td>\n      <td>Neutro</td>\n      <td>Neutro</td>\n      <td>Neutro</td>\n      <td>Neutro</td>\n      <td>Ninguno</td>\n      <td>18/04</td>\n    </tr>\n    <tr>\n      <th>5</th>\n      <td>2022-04-18 08:05:14.497</td>\n      <td>Sí</td>\n      <td>206</td>\n      <td>Cédula de ciudadanía</td>\n      <td>9.337793e+07</td>\n      <td>nixong@yahoo.com</td>\n      <td>52.0</td>\n      <td>Masculino</td>\n      <td>Sí</td>\n      <td>Casado/a o  En unión libre</td>\n      <td>...</td>\n      <td>Totalmente en desacuerdo</td>\n      <td>Totalmente en desacuerdo</td>\n      <td>De acuerdo</td>\n      <td>Neutro</td>\n      <td>Neutro</td>\n      <td>Totalmente en desacuerdo</td>\n      <td>Totalmente en desacuerdo</td>\n      <td>Totalmente en desacuerdo</td>\n      <td></td>\n      <td>18/04</td>\n    </tr>\n    <tr>\n      <th>6</th>\n      <td>2022-04-18 08:07:11.041</td>\n      <td>Sí</td>\n      <td>206</td>\n      <td>Cédula de ciudadanía</td>\n      <td>3.836377e+07</td>\n      <td>ivonne.saavedrab@nep.edu.co</td>\n      <td>38.0</td>\n      <td>Femenino</td>\n      <td>No</td>\n      <td>Soltero/a</td>\n      <td>...</td>\n      <td>Totalmente en desacuerdo</td>\n      <td>Totalmente en desacuerdo</td>\n      <td>Totalmente en desacuerdo</td>\n      <td>Totalmente en desacuerdo</td>\n      <td>Totalmente en desacuerdo</td>\n      <td>Totalmente en desacuerdo</td>\n      <td>Totalmente en desacuerdo</td>\n      <td>Totalmente en desacuerdo</td>\n      <td></td>\n      <td>18/04</td>\n    </tr>\n    <tr>\n      <th>7</th>\n      <td>2022-04-18 08:07:35.471</td>\n      <td>Sí</td>\n      <td>206</td>\n      <td>Cédula de ciudadanía</td>\n      <td>5.827991e+06</td>\n      <td>javierlunarodriguez@hotmail.com</td>\n      <td>42.0</td>\n      <td>Masculino</td>\n      <td>Sí</td>\n      <td>Casado/a o  En unión libre</td>\n      <td>...</td>\n      <td>En desacuerdo</td>\n      <td>En desacuerdo</td>\n      <td>En desacuerdo</td>\n      <td>En desacuerdo</td>\n      <td>En desacuerdo</td>\n      <td>En desacuerdo</td>\n      <td>En desacuerdo</td>\n      <td>En desacuerdo</td>\n      <td></td>\n      <td>18/04</td>\n    </tr>\n    <tr>\n      <th>8</th>\n      <td>2022-04-18 08:08:04.450</td>\n      <td>Sí</td>\n      <td>206</td>\n      <td>Cédula de ciudadanía</td>\n      <td>1.110496e+09</td>\n      <td>pipe.edufisica@gmail.com</td>\n      <td>32.0</td>\n      <td>Masculino</td>\n      <td>No</td>\n      <td>Casado/a o  En unión libre</td>\n      <td>...</td>\n      <td>Totalmente en desacuerdo</td>\n      <td>Totalmente en desacuerdo</td>\n      <td>Totalmente de acuerdo</td>\n      <td>Neutro</td>\n      <td>De acuerdo</td>\n      <td>En desacuerdo</td>\n      <td>En desacuerdo</td>\n      <td>De acuerdo</td>\n      <td></td>\n      <td>18/04</td>\n    </tr>\n    <tr>\n      <th>...</th>\n      <td>...</td>\n      <td>...</td>\n      <td>...</td>\n      <td>...</td>\n      <td>...</td>\n      <td>...</td>\n      <td>...</td>\n      <td>...</td>\n      <td>...</td>\n      <td>...</td>\n      <td>...</td>\n      <td>...</td>\n      <td>...</td>\n      <td>...</td>\n      <td>...</td>\n      <td>...</td>\n      <td>...</td>\n      <td>...</td>\n      <td>...</td>\n      <td>...</td>\n      <td>...</td>\n    </tr>\n    <tr>\n      <th>1039</th>\n      <td>2022-04-23 09:51:53.271</td>\n      <td>Sí</td>\n      <td>110</td>\n      <td>Cédula de ciudadanía</td>\n      <td>2.245846e+07</td>\n      <td>irolongariza@yahoo.com</td>\n      <td>57.0</td>\n      <td>Femenino</td>\n      <td>No</td>\n      <td>Casado/a o  En unión libre</td>\n      <td>...</td>\n      <td>Totalmente en desacuerdo</td>\n      <td>Totalmente en desacuerdo</td>\n      <td>Totalmente en desacuerdo</td>\n      <td>Totalmente en desacuerdo</td>\n      <td>Totalmente en desacuerdo</td>\n      <td>Totalmente en desacuerdo</td>\n      <td>Totalmente en desacuerdo</td>\n      <td>Totalmente en desacuerdo</td>\n      <td>Las instituciones educativas deben continuar c...</td>\n      <td>23/04</td>\n    </tr>\n    <tr>\n      <th>1040</th>\n      <td>2022-04-23 09:53:24.612</td>\n      <td>Sí</td>\n      <td>252</td>\n      <td>Cédula de ciudadanía</td>\n      <td>3.286344e+07</td>\n      <td>mjnvillarreal38@outlook.es</td>\n      <td>50.0</td>\n      <td>Femenino</td>\n      <td>Sí</td>\n      <td>Soltero/a</td>\n      <td>...</td>\n      <td>En desacuerdo</td>\n      <td>En desacuerdo</td>\n      <td>En desacuerdo</td>\n      <td>En desacuerdo</td>\n      <td>Neutro</td>\n      <td>En desacuerdo</td>\n      <td>Totalmente en desacuerdo</td>\n      <td>Totalmente en desacuerdo</td>\n      <td></td>\n      <td>23/04</td>\n    </tr>\n    <tr>\n      <th>1041</th>\n      <td>2022-04-23 10:46:13.110</td>\n      <td>Sí</td>\n      <td>27</td>\n      <td>Cédula de ciudadanía</td>\n      <td>8.746958e+06</td>\n      <td>Ojimenez2731@gmail.com</td>\n      <td>57.0</td>\n      <td>Masculino</td>\n      <td>Sí</td>\n      <td>Casado/a o  En unión libre</td>\n      <td>...</td>\n      <td>Totalmente en desacuerdo</td>\n      <td>Totalmente en desacuerdo</td>\n      <td>De acuerdo</td>\n      <td>En desacuerdo</td>\n      <td>Totalmente de acuerdo</td>\n      <td>Neutro</td>\n      <td>Neutro</td>\n      <td>Neutro</td>\n      <td>No se debe tener en cuenta el género para real...</td>\n      <td>23/04</td>\n    </tr>\n    <tr>\n      <th>1042</th>\n      <td>2022-04-23 10:56:03.001</td>\n      <td>Sí</td>\n      <td>54</td>\n      <td>Cédula de ciudadanía</td>\n      <td>1.253830e+07</td>\n      <td>silcharcristo2@gmail.com</td>\n      <td>66.0</td>\n      <td>Masculino</td>\n      <td>Sí</td>\n      <td>Casado/a o  En unión libre</td>\n      <td>...</td>\n      <td>En desacuerdo</td>\n      <td>En desacuerdo</td>\n      <td>En desacuerdo</td>\n      <td>En desacuerdo</td>\n      <td>Totalmente de acuerdo</td>\n      <td>Totalmente de acuerdo</td>\n      <td>Totalmente de acuerdo</td>\n      <td>Totalmente de acuerdo</td>\n      <td></td>\n      <td>23/04</td>\n    </tr>\n    <tr>\n      <th>1043</th>\n      <td>2022-04-23 11:38:26.864</td>\n      <td>Sí</td>\n      <td>179</td>\n      <td>Cédula de ciudadanía</td>\n      <td>6.044455e+07</td>\n      <td>luzkalopez43@hotmail.com</td>\n      <td>38.0</td>\n      <td>Femenino</td>\n      <td>No</td>\n      <td>Casado/a o  En unión libre</td>\n      <td>...</td>\n      <td>Totalmente en desacuerdo</td>\n      <td>Totalmente en desacuerdo</td>\n      <td>Neutro</td>\n      <td>Neutro</td>\n      <td>Neutro</td>\n      <td>Neutro</td>\n      <td>Neutro</td>\n      <td>En desacuerdo</td>\n      <td></td>\n      <td>23/04</td>\n    </tr>\n  </tbody>\n</table>\n<p>1005 rows × 90 columns</p>\n</div>"
     },
     "execution_count": 11,
     "metadata": {},
     "output_type": "execute_result"
    }
   ],
   "source": [
    "df = df[df['Código IE'].astype(str).str.isnumeric()]\n",
    "df['Código IE'] = df['Código IE'].astype(int)\n",
    "df = df[(df['Código IE'] >0)&(df['Código IE'] <255)]\n",
    "\n",
    "df['Implementa fichas'] = df['Implementa fichas'].fillna(\"No\")\n",
    "df[df.filter(regex='^1.*').columns] = df[df.filter(regex='^1.*').columns].fillna(\"Totalmente en Desacuerdo\")\n",
    "df[df.filter(regex='^2.*').columns] = df[df.filter(regex='^2.*').columns].fillna(\"Totalmente en Desacuerdo\")\n",
    "df[df.filter(regex='^Comentarios*').columns] = df[df.filter(regex='^Comentarios*').columns].fillna(\"\")\n",
    "df"
   ],
   "metadata": {
    "collapsed": false,
    "pycharm": {
     "name": "#%%\n"
    }
   }
  },
  {
   "cell_type": "code",
   "execution_count": 12,
   "outputs": [
    {
     "data": {
      "text/plain": "Index(['Timestamp', 'Política de datos', 'Código IE', 'Tipo ID', 'ID', 'Email',\n       'Edad', 'Sexo', 'Cabeza de hogar', 'Estado civil', 'Líder comunitario',\n       'Formado CFK', 'Implementa fichas', 'Formado tecnología e informática',\n       '¿Cuáles de las siguientes áreas enseña y en qué grado? [Ciencias naturales y educación ambiental.]',\n       '¿Cuáles de las siguientes áreas enseña y en qué grado? [Ciencias sociales, historia, geografía, constitución política y democracia.]',\n       '¿Cuáles de las siguientes áreas enseña y en qué grado? [Educación artística.]',\n       '¿Cuáles de las siguientes áreas enseña y en qué grado? [Educación ética y en valores humanos.]',\n       '¿Cuáles de las siguientes áreas enseña y en qué grado? [Educación física, recreación y deportes.]',\n       '¿Cuáles de las siguientes áreas enseña y en qué grado? [Educación religiosa.]',\n       '¿Cuáles de las siguientes áreas enseña y en qué grado? [Humanidades, lengua castellana e idiomas extranjeros.]',\n       '¿Cuáles de las siguientes áreas enseña y en qué grado? [Matemáticas.]',\n       '¿Cuáles de las siguientes áreas enseña y en qué grado? [Tecnología e informática.]',\n       '¿Cuáles de las siguientes áreas enseña y en qué grado? [Otro]',\n       'Enseña STEM', 'Formado STEM',\n       'Considera importante enseñar el pensamiento computacional desde los primeros niveles educativos',\n       '1.1 Siento que puedo aplicar las prácticas y habilidades del pensamiento computacional a mi trabajo',\n       '1.2 Siento que puedo definir el pensamiento computacional',\n       '1.3 Siento que puedo describir las prácticas y habilidades que componen el pensamiento computacional a mis estudiantes',\n       '1.4 Siento que puedo aplicar las prácticas y habilidades del pensamiento computacional a mi vida diaria',\n       '2.1 Creo que tengo las habilidades para desarrollar el pensamiento computacional en mis estudiantes',\n       '2.2 Siento que puedo enseñar fácilmente sobre nuevas prácticas computacionales',\n       '2.3 Siento que puedo diseñar una clase que desarrolle el pensamiento computacional en los estudiantes',\n       '2.4 Siento que puedo aplicar mis habilidades en pensamiento computacional para ayudar a los estudiantes a perseguir sus intereses individuales',\n       '2.5 Siento que puedo evaluar la idoneidad de una estrategia pedagógica para desarrollar pensamiento computacional',\n       '3.1 El colegio ofrece espacios adicionales para fomentar el pensamiento computacional',\n       '3.2 En la programación anual del colegio existen actividades asociadas al pensamiento computacional',\n       '3.3 Cuando he intentado enseñar pensamiento computacional me he encontrado con obstáculos para gestionar espacios y materiales en el colegio.',\n       '3.4 Recibo apoyo del colegio cuando propongo nuevas ideas y temáticas afines al pensamiento computacional',\n       '3.5 Siento que por más que lo he intentado mis esfuerzos por incluir pensamiento computacional en las clases no han sido efectivos por la rigidez del plan de estudio',\n       '3.6 Los directivos incentivan la implementación de nuevas prácticas pedagógicas sobre pensamiento computacional en el aula',\n       '3.7 Puedo incluir espacios en mis clases para implementar actividades sobre el pensamiento computacional',\n       '3.8 Me siento frustrado porque la programación de las clases y compromisos institucionales no me permite incluir actividades de pensamiento computacional',\n       '3.9 Tener educación en pensamiento computacional mejoraría significativamente las futuras opciones de ocupación para los estudiantes de mi escuela.',\n       '4.1 Creo que sé cómo resolver los problemas técnicos cuando fallan las TIC',\n       '4.2 Siento que puedo aprender sobre nuevas tecnologías fácilmente',\n       '4.3 Creo que sé cómo usar las TIC con los estudiantes en clase',\n       '5.1 Me apoyo en mis colegas para resolver problemas sobre cómo trabajar algún tema',\n       '5.2 Puedo hablar con otros docentes sobre el diseño de cursos',\n       '5.3 Siento que tengo apoyo de otros docentes para el diseño de mis cursos',\n       '5.4 Siento que no tengo con quién conversar sobre el diseño de mis cursos',\n       '6.1 Actividades desconectadas', '6.2 Usa-Modifica-Crea',\n       '6.3 Clase magistral', '6.4 Programación en pares',\n       '6.5 Lectura del código', '6.6 Le explicaría la respuesta correcta',\n       '6.7 Le sugeriría ir paso a paso por el programa simulando su ejecución',\n       '6.8 Le diría que revise sus notas',\n       '6.9 Le sugeriría que revise las memorias colectivas',\n       '7.1 Le sugeriría volver a leer el problema',\n       '7.2 Le sugeriría intentar con varios valores para evaluar el programa',\n       '7.3 Le explicaría el problema nuevamente', 'Comentarios P1-7',\n       'Un algoritmo es:', '¿Para qué sirven los algoritmos?', 'Un bucle es:',\n       '¿Cuál es el error conceptual de Tim?',\n       '¿Cuál es el error conceptual de Ana?', 'Comentarios Conocimientos',\n       '¿Cuáles de las siguientes estrategias usted ha usado en sus clases?',\n       '8.1 Es preferible que las mujeres enseñen ciencias sociales y los hombres ciencias exactas.',\n       '8.2 Es normal que la mayoría de ingenieros mecánicos sean varones porque los hombres son mejores para los números.',\n       '8.3 Por su esencia una mujer tiene mejor desempeño en un proyecto de alto impacto social que en un proyecto de robótica industrial.',\n       '8.4 Los hombres son mejores para la tecnología que las mujeres.',\n       '8.5 Las mujeres tienen mayores habilidades para proyectos sociales que tecnológicos.',\n       '8.6 Los grandes aportes en la computación han sido hechos por hombres.',\n       '8.7 Que la mayoría de mujeres no opte por áreas exactas es simplemente una cuestión de preferencias.',\n       '8.8 Que la mayoría de personas en artes y humanidades sean mujeres es muestra de su sensibilidad.',\n       '8.9 Es natural que los hombres sean buenos para los números y las mujeres para las letras.',\n       '8.10 Los hombres son muy ágiles tomando decisiones importantes.',\n       '8.11 Las niñas son más ordenadas que los niños.',\n       '8.12 Muchas mujeres se caracterizan por una pureza que pocos hombres poseen.',\n       '8.13 Las mujeres deben ser queridas y protegidas por los hombres.',\n       '8.14 Todo hombre debe tener una mujer a quien amar.',\n       '8.15 El hombre está incompleto sin la mujer.',\n       '8.16 Las mujeres en comparación con los hombres, tienden a tener un sentido más refinado de la cultura y el buen gusto.',\n       'Comentarios género', 'Fecha'],\n      dtype='object')"
     },
     "execution_count": 12,
     "metadata": {},
     "output_type": "execute_result"
    }
   ],
   "source": [
    "df.columns"
   ],
   "metadata": {
    "collapsed": false,
    "pycharm": {
     "name": "#%%\n"
    }
   }
  },
  {
   "cell_type": "code",
   "execution_count": 13,
   "outputs": [],
   "source": [
    "sd_cols = ['Fecha', 'Política de datos', 'Código IE', 'Tipo ID', 'ID',\n",
    "           'Edad', 'Sexo', 'Cabeza de hogar', 'Estado civil', 'Líder comunitario',\n",
    "           'Formado CFK', 'Implementa fichas', 'Formado tecnología e informática',\n",
    "           'Enseña STEM', 'Formado STEM']"
   ],
   "metadata": {
    "collapsed": false,
    "pycharm": {
     "name": "#%%\n"
    }
   }
  },
  {
   "cell_type": "code",
   "execution_count": 14,
   "outputs": [],
   "source": [
    "clases = df.filter(regex='^ID|¿Cuáles de las siguientes áre*')"
   ],
   "metadata": {
    "collapsed": false,
    "pycharm": {
     "name": "#%%\n"
    }
   }
  },
  {
   "cell_type": "code",
   "execution_count": 15,
   "outputs": [
    {
     "data": {
      "text/plain": "{'¿Cuáles de las siguientes áreas enseña y en qué grado? [Ciencias naturales y educación ambiental.]': 'Ciencias naturales y educación ambiental.',\n '¿Cuáles de las siguientes áreas enseña y en qué grado? [Ciencias sociales, historia, geografía, constitución política y democracia.]': 'Ciencias sociales, historia, geografía, constitución política y democracia.',\n '¿Cuáles de las siguientes áreas enseña y en qué grado? [Educación artística.]': 'Educación artística.',\n '¿Cuáles de las siguientes áreas enseña y en qué grado? [Educación ética y en valores humanos.]': 'Educación ética y en valores humanos.',\n '¿Cuáles de las siguientes áreas enseña y en qué grado? [Educación física, recreación y deportes.]': 'Educación física, recreación y deportes.',\n '¿Cuáles de las siguientes áreas enseña y en qué grado? [Humanidades, lengua castellana e idiomas extranjeros.]': 'Educación religiosa.',\n '¿Cuáles de las siguientes áreas enseña y en qué grado? [Matemáticas.]': 'Humanidades, lengua castellana e idiomas extranjeros.',\n '¿Cuáles de las siguientes áreas enseña y en qué grado? [Tecnología e informática.]': 'Matemáticas.',\n '¿Cuáles de las siguientes áreas enseña y en qué grado? [Otro]': 'Tecnología e informática.'}"
     },
     "execution_count": 15,
     "metadata": {},
     "output_type": "execute_result"
    }
   ],
   "source": [
    "clases_dict= dict(zip(['¿Cuáles de las siguientes áreas enseña y en qué grado? [Ciencias naturales y educación ambiental.]',\n",
    " '¿Cuáles de las siguientes áreas enseña y en qué grado? [Ciencias sociales, historia, geografía, constitución política y democracia.]',\n",
    " '¿Cuáles de las siguientes áreas enseña y en qué grado? [Educación artística.]',\n",
    " '¿Cuáles de las siguientes áreas enseña y en qué grado? [Educación ética y en valores humanos.]',\n",
    " '¿Cuáles de las siguientes áreas enseña y en qué grado? [Educación física, recreación y deportes.]',\n",
    " '¿Cuáles de las siguientes áreas enseña y en qué grado? [Humanidades, lengua castellana e idiomas extranjeros.]',\n",
    " '¿Cuáles de las siguientes áreas enseña y en qué grado? [Matemáticas.]',\n",
    " '¿Cuáles de las siguientes áreas enseña y en qué grado? [Tecnología e informática.]',\n",
    " '¿Cuáles de las siguientes áreas enseña y en qué grado? [Otro]'],['Ciencias naturales y educación ambiental.',\n",
    "                                                                   'Ciencias sociales, historia, geografía, constitución política y democracia.',\n",
    "                                                                   'Educación artística.',\n",
    "                                                                   'Educación ética y en valores humanos.',\n",
    "                                                                   'Educación física, recreación y deportes.',\n",
    "                                                                   'Educación religiosa.',\n",
    "                                                                   'Humanidades, lengua castellana e idiomas extranjeros.',\n",
    "                                                                   'Matemáticas.',\n",
    "                                                                   'Tecnología e informática.',\n",
    "                                                                   'Otro']))\n",
    "clases_dict"
   ],
   "metadata": {
    "collapsed": false,
    "pycharm": {
     "name": "#%%\n"
    }
   }
  },
  {
   "cell_type": "code",
   "execution_count": 16,
   "outputs": [],
   "source": [
    "clases = clases.rename(clases_dict,axis=1)"
   ],
   "metadata": {
    "collapsed": false,
    "pycharm": {
     "name": "#%%\n"
    }
   }
  },
  {
   "cell_type": "code",
   "execution_count": 17,
   "outputs": [],
   "source": [
    "def concat_dummies(df, column):\n",
    "    '''Toma una respuesta de selección múltiple y la divide en observaciones individuales'''\n",
    "    df_new =pd.concat([df,df[column].str.get_dummies(sep=\";\")], axis=1).drop(column, axis=1)\n",
    "    id_vars = [x for x in df_new.columns if x not in df[column].str.get_dummies(sep=\";\")]\n",
    "    df_new = df_new.melt(id_vars=id_vars, var_name=column)\n",
    "    df_new = df_new[df_new['value'] ==1]\n",
    "    df_new = df_new.drop('value', axis=1)\n",
    "    return df_new"
   ],
   "metadata": {
    "collapsed": false,
    "pycharm": {
     "name": "#%%\n"
    }
   }
  },
  {
   "cell_type": "code",
   "execution_count": 18,
   "outputs": [
    {
     "data": {
      "text/plain": "               ID                                     Clases     Grados\n3       5924602.0  Ciencias naturales y educación ambiental.        10°\n13     57440504.0  Ciencias naturales y educación ambiental.        10°\n22     13275304.0  Ciencias naturales y educación ambiental.        10°\n34     16731398.0  Ciencias naturales y educación ambiental.        10°\n57     66916616.0  Ciencias naturales y educación ambiental.        10°\n...           ...                                        ...        ...\n34619  40776538.0                  Tecnología e informática.  Prescolar\n34620  51575161.0                  Tecnología e informática.  Prescolar\n34622  32730597.0                  Tecnología e informática.  Prescolar\n34624  41923724.0                  Tecnología e informática.  Prescolar\n34631  22458456.0                  Tecnología e informática.  Prescolar\n\n[4488 rows x 3 columns]",
      "text/html": "<div>\n<style scoped>\n    .dataframe tbody tr th:only-of-type {\n        vertical-align: middle;\n    }\n\n    .dataframe tbody tr th {\n        vertical-align: top;\n    }\n\n    .dataframe thead th {\n        text-align: right;\n    }\n</style>\n<table border=\"1\" class=\"dataframe\">\n  <thead>\n    <tr style=\"text-align: right;\">\n      <th></th>\n      <th>ID</th>\n      <th>Clases</th>\n      <th>Grados</th>\n    </tr>\n  </thead>\n  <tbody>\n    <tr>\n      <th>3</th>\n      <td>5924602.0</td>\n      <td>Ciencias naturales y educación ambiental.</td>\n      <td>10°</td>\n    </tr>\n    <tr>\n      <th>13</th>\n      <td>57440504.0</td>\n      <td>Ciencias naturales y educación ambiental.</td>\n      <td>10°</td>\n    </tr>\n    <tr>\n      <th>22</th>\n      <td>13275304.0</td>\n      <td>Ciencias naturales y educación ambiental.</td>\n      <td>10°</td>\n    </tr>\n    <tr>\n      <th>34</th>\n      <td>16731398.0</td>\n      <td>Ciencias naturales y educación ambiental.</td>\n      <td>10°</td>\n    </tr>\n    <tr>\n      <th>57</th>\n      <td>66916616.0</td>\n      <td>Ciencias naturales y educación ambiental.</td>\n      <td>10°</td>\n    </tr>\n    <tr>\n      <th>...</th>\n      <td>...</td>\n      <td>...</td>\n      <td>...</td>\n    </tr>\n    <tr>\n      <th>34619</th>\n      <td>40776538.0</td>\n      <td>Tecnología e informática.</td>\n      <td>Prescolar</td>\n    </tr>\n    <tr>\n      <th>34620</th>\n      <td>51575161.0</td>\n      <td>Tecnología e informática.</td>\n      <td>Prescolar</td>\n    </tr>\n    <tr>\n      <th>34622</th>\n      <td>32730597.0</td>\n      <td>Tecnología e informática.</td>\n      <td>Prescolar</td>\n    </tr>\n    <tr>\n      <th>34624</th>\n      <td>41923724.0</td>\n      <td>Tecnología e informática.</td>\n      <td>Prescolar</td>\n    </tr>\n    <tr>\n      <th>34631</th>\n      <td>22458456.0</td>\n      <td>Tecnología e informática.</td>\n      <td>Prescolar</td>\n    </tr>\n  </tbody>\n</table>\n<p>4488 rows × 3 columns</p>\n</div>"
     },
     "execution_count": 18,
     "metadata": {},
     "output_type": "execute_result"
    }
   ],
   "source": [
    "clases_m=clases.melt(id_vars='ID', var_name='Clases',value_name='Grados').dropna()\n",
    "clases_m['Grados'] = clases_m.Grados.str.strip().str.replace(\" \", \"\").str.replace(\",\", \";\")\n",
    "clases_m = concat_dummies(clases_m, 'Grados')\n",
    "clases_m"
   ],
   "metadata": {
    "collapsed": false,
    "pycharm": {
     "name": "#%%\n"
    }
   }
  },
  {
   "cell_type": "code",
   "execution_count": 19,
   "outputs": [],
   "source": [
    "sociodemo = clases_m.merge(df[sd_cols], on='ID')\n",
    "sociodemo['Formado tecnología e informática'] = sociodemo['Formado tecnología e informática'].str.replace(', Sí',\";Sí\").str.replace(\", No\",\";No\").str.strip()\n",
    "formado = concat_dummies(sociodemo, 'Formado tecnología e informática')\n",
    "formado = formado.reset_index().drop('index', axis=1)"
   ],
   "metadata": {
    "collapsed": false,
    "pycharm": {
     "name": "#%%\n"
    }
   }
  },
  {
   "cell_type": "code",
   "execution_count": 21,
   "outputs": [
    {
     "data": {
      "text/plain": "array(['No', 'Sí, licenciatura o pregrado', 'Sí, otro'], dtype=object)"
     },
     "execution_count": 21,
     "metadata": {},
     "output_type": "execute_result"
    }
   ],
   "source": [
    "formado['Formado tecnología e informática'] = formado['Formado tecnología e informática'].replace(\"Sí, otro tipo de formación (diplomados, especializaciones, formación complementaria)\", 'Sí, otro')\n",
    "\n",
    "formado['Formado tecnología e informática'].unique()"
   ],
   "metadata": {
    "collapsed": false,
    "pycharm": {
     "name": "#%%\n"
    }
   }
  },
  {
   "cell_type": "code",
   "execution_count": 22,
   "outputs": [],
   "source": [
    "categorical_columns = ['Política de datos', 'Tipo ID', 'Sexo', 'Cabeza de hogar',\n",
    "                       'Estado civil', 'Líder comunitario', 'Formado CFK',\n",
    "                       'Implementa fichas', 'Formado tecnología e informática',\n",
    "                       'Enseña STEM', 'Formado STEM','Clases',  'Grados']\n",
    "int_columns = ['ID', 'Edad', 'Código IE']\n",
    "#formado[categorical_columns] =formado[categorical_columns].str.strip()\n",
    "formado[categorical_columns] = formado[categorical_columns].astype(\"category\")\n",
    "formado[int_columns] = formado[int_columns].astype(\"int\")"
   ],
   "metadata": {
    "collapsed": false,
    "pycharm": {
     "name": "#%%\n"
    }
   }
  },
  {
   "cell_type": "code",
   "execution_count": 23,
   "outputs": [
    {
     "name": "stdout",
     "output_type": "stream",
     "text": [
      "<class 'pandas.core.frame.DataFrame'>\n",
      "RangeIndex: 4711 entries, 0 to 4710\n",
      "Data columns (total 17 columns):\n",
      " #   Column                            Non-Null Count  Dtype   \n",
      "---  ------                            --------------  -----   \n",
      " 0   ID                                4711 non-null   int64   \n",
      " 1   Clases                            4711 non-null   category\n",
      " 2   Grados                            4711 non-null   category\n",
      " 3   Fecha                             4711 non-null   object  \n",
      " 4   Política de datos                 4701 non-null   category\n",
      " 5   Código IE                         4711 non-null   int64   \n",
      " 6   Tipo ID                           4711 non-null   category\n",
      " 7   Edad                              4711 non-null   int64   \n",
      " 8   Sexo                              4711 non-null   category\n",
      " 9   Cabeza de hogar                   4711 non-null   category\n",
      " 10  Estado civil                      4711 non-null   category\n",
      " 11  Líder comunitario                 4711 non-null   category\n",
      " 12  Formado CFK                       4711 non-null   category\n",
      " 13  Implementa fichas                 4711 non-null   category\n",
      " 14  Enseña STEM                       4711 non-null   category\n",
      " 15  Formado STEM                      4711 non-null   category\n",
      " 16  Formado tecnología e informática  4711 non-null   category\n",
      "dtypes: category(13), int64(3), object(1)\n",
      "memory usage: 209.3+ KB\n"
     ]
    }
   ],
   "source": [
    "formado.info()"
   ],
   "metadata": {
    "collapsed": false,
    "pycharm": {
     "name": "#%%\n"
    }
   }
  },
  {
   "cell_type": "markdown",
   "source": [],
   "metadata": {
    "collapsed": false
   }
  },
  {
   "cell_type": "code",
   "execution_count": 26,
   "outputs": [],
   "source": [
    "formado.to_csv('../../data/Doc_Con_Pre_sociodemo.csv', sep=';')"
   ],
   "metadata": {
    "collapsed": false,
    "pycharm": {
     "name": "#%%\n"
    }
   }
  },
  {
   "cell_type": "code",
   "execution_count": 24,
   "outputs": [],
   "source": [
    "formado.to_feather('../../data/Doc_Con_Pre_sociodemo.feather')"
   ],
   "metadata": {
    "collapsed": false,
    "pycharm": {
     "name": "#%%\n"
    }
   }
  },
  {
   "cell_type": "code",
   "execution_count": 25,
   "outputs": [
    {
     "data": {
      "text/plain": "              ID                                     Clases     Grados  Fecha  \\\n0       57440504  Ciencias naturales y educación ambiental.        10°  19/04   \n1       57440504  Ciencias naturales y educación ambiental.        11°  19/04   \n2       57440504  Ciencias naturales y educación ambiental.         9°  19/04   \n3       35895805  Ciencias naturales y educación ambiental.        10°  19/04   \n4       35895805  Ciencias naturales y educación ambiental.        11°  19/04   \n...          ...                                        ...        ...    ...   \n4706  1033781890                  Tecnología e informática.  Prescolar  21/04   \n4707    42884226                  Tecnología e informática.  Prescolar  22/04   \n4708    40764873                  Tecnología e informática.  Prescolar  22/04   \n4709    51575161                  Tecnología e informática.  Prescolar  22/04   \n4710    41923724                  Tecnología e informática.  Prescolar  22/04   \n\n     Política de datos  Código IE               Tipo ID  Edad      Sexo  \\\n0                   Sí        129  Cédula de ciudadanía    48  Femenino   \n1                   Sí        129  Cédula de ciudadanía    48  Femenino   \n2                   Sí        129  Cédula de ciudadanía    48  Femenino   \n3                   Sí          7  Cédula de ciudadanía    37  Femenino   \n4                   Sí          7  Cédula de ciudadanía    37  Femenino   \n...                ...        ...                   ...   ...       ...   \n4706                Sí        107  Cédula de ciudadanía    26  Femenino   \n4707                Sí        235  Cédula de ciudadanía    57  Femenino   \n4708                Sí         47  Cédula de ciudadanía    56  Femenino   \n4709                Sí         10  Cédula de ciudadanía    64  Femenino   \n4710                Sí        110  Cédula de ciudadanía    45  Femenino   \n\n     Cabeza de hogar                Estado civil Líder comunitario  \\\n0                 Sí   Separado/a o Divorciado/a                No   \n1                 Sí   Separado/a o Divorciado/a                No   \n2                 Sí   Separado/a o Divorciado/a                No   \n3                 Sí  Casado/a o  En unión libre                No   \n4                 Sí  Casado/a o  En unión libre                No   \n...              ...                         ...               ...   \n4706              No                   Soltero/a                No   \n4707              Sí                   Soltero/a                No   \n4708              No  Casado/a o  En unión libre                No   \n4709              No  Casado/a o  En unión libre                Sí   \n4710              Sí   Separado/a o Divorciado/a                No   \n\n     Formado CFK Implementa fichas   Enseña STEM Formado STEM  \\\n0             No                No          STEM         STEM   \n1             No                No          STEM         STEM   \n2             No                No          STEM         STEM   \n3             No                No          STEM         STEM   \n4             No                No          STEM         STEM   \n...          ...               ...           ...          ...   \n4706          No                No       No STEM      No STEM   \n4707          No                No          STEM         STEM   \n4708          Sí                No  Enseña ambos      No STEM   \n4709          Sí                No  Enseña ambos      No STEM   \n4710          No                No       No STEM      No STEM   \n\n     Formado tecnología e informática  \n0                                  No  \n1                                  No  \n2                                  No  \n3                                  No  \n4                                  No  \n...                               ...  \n4706                         Sí, otro  \n4707                         Sí, otro  \n4708                         Sí, otro  \n4709                         Sí, otro  \n4710                         Sí, otro  \n\n[4711 rows x 17 columns]",
      "text/html": "<div>\n<style scoped>\n    .dataframe tbody tr th:only-of-type {\n        vertical-align: middle;\n    }\n\n    .dataframe tbody tr th {\n        vertical-align: top;\n    }\n\n    .dataframe thead th {\n        text-align: right;\n    }\n</style>\n<table border=\"1\" class=\"dataframe\">\n  <thead>\n    <tr style=\"text-align: right;\">\n      <th></th>\n      <th>ID</th>\n      <th>Clases</th>\n      <th>Grados</th>\n      <th>Fecha</th>\n      <th>Política de datos</th>\n      <th>Código IE</th>\n      <th>Tipo ID</th>\n      <th>Edad</th>\n      <th>Sexo</th>\n      <th>Cabeza de hogar</th>\n      <th>Estado civil</th>\n      <th>Líder comunitario</th>\n      <th>Formado CFK</th>\n      <th>Implementa fichas</th>\n      <th>Enseña STEM</th>\n      <th>Formado STEM</th>\n      <th>Formado tecnología e informática</th>\n    </tr>\n  </thead>\n  <tbody>\n    <tr>\n      <th>0</th>\n      <td>57440504</td>\n      <td>Ciencias naturales y educación ambiental.</td>\n      <td>10°</td>\n      <td>19/04</td>\n      <td>Sí</td>\n      <td>129</td>\n      <td>Cédula de ciudadanía</td>\n      <td>48</td>\n      <td>Femenino</td>\n      <td>Sí</td>\n      <td>Separado/a o Divorciado/a</td>\n      <td>No</td>\n      <td>No</td>\n      <td>No</td>\n      <td>STEM</td>\n      <td>STEM</td>\n      <td>No</td>\n    </tr>\n    <tr>\n      <th>1</th>\n      <td>57440504</td>\n      <td>Ciencias naturales y educación ambiental.</td>\n      <td>11°</td>\n      <td>19/04</td>\n      <td>Sí</td>\n      <td>129</td>\n      <td>Cédula de ciudadanía</td>\n      <td>48</td>\n      <td>Femenino</td>\n      <td>Sí</td>\n      <td>Separado/a o Divorciado/a</td>\n      <td>No</td>\n      <td>No</td>\n      <td>No</td>\n      <td>STEM</td>\n      <td>STEM</td>\n      <td>No</td>\n    </tr>\n    <tr>\n      <th>2</th>\n      <td>57440504</td>\n      <td>Ciencias naturales y educación ambiental.</td>\n      <td>9°</td>\n      <td>19/04</td>\n      <td>Sí</td>\n      <td>129</td>\n      <td>Cédula de ciudadanía</td>\n      <td>48</td>\n      <td>Femenino</td>\n      <td>Sí</td>\n      <td>Separado/a o Divorciado/a</td>\n      <td>No</td>\n      <td>No</td>\n      <td>No</td>\n      <td>STEM</td>\n      <td>STEM</td>\n      <td>No</td>\n    </tr>\n    <tr>\n      <th>3</th>\n      <td>35895805</td>\n      <td>Ciencias naturales y educación ambiental.</td>\n      <td>10°</td>\n      <td>19/04</td>\n      <td>Sí</td>\n      <td>7</td>\n      <td>Cédula de ciudadanía</td>\n      <td>37</td>\n      <td>Femenino</td>\n      <td>Sí</td>\n      <td>Casado/a o  En unión libre</td>\n      <td>No</td>\n      <td>No</td>\n      <td>No</td>\n      <td>STEM</td>\n      <td>STEM</td>\n      <td>No</td>\n    </tr>\n    <tr>\n      <th>4</th>\n      <td>35895805</td>\n      <td>Ciencias naturales y educación ambiental.</td>\n      <td>11°</td>\n      <td>19/04</td>\n      <td>Sí</td>\n      <td>7</td>\n      <td>Cédula de ciudadanía</td>\n      <td>37</td>\n      <td>Femenino</td>\n      <td>Sí</td>\n      <td>Casado/a o  En unión libre</td>\n      <td>No</td>\n      <td>No</td>\n      <td>No</td>\n      <td>STEM</td>\n      <td>STEM</td>\n      <td>No</td>\n    </tr>\n    <tr>\n      <th>...</th>\n      <td>...</td>\n      <td>...</td>\n      <td>...</td>\n      <td>...</td>\n      <td>...</td>\n      <td>...</td>\n      <td>...</td>\n      <td>...</td>\n      <td>...</td>\n      <td>...</td>\n      <td>...</td>\n      <td>...</td>\n      <td>...</td>\n      <td>...</td>\n      <td>...</td>\n      <td>...</td>\n      <td>...</td>\n    </tr>\n    <tr>\n      <th>4706</th>\n      <td>1033781890</td>\n      <td>Tecnología e informática.</td>\n      <td>Prescolar</td>\n      <td>21/04</td>\n      <td>Sí</td>\n      <td>107</td>\n      <td>Cédula de ciudadanía</td>\n      <td>26</td>\n      <td>Femenino</td>\n      <td>No</td>\n      <td>Soltero/a</td>\n      <td>No</td>\n      <td>No</td>\n      <td>No</td>\n      <td>No STEM</td>\n      <td>No STEM</td>\n      <td>Sí, otro</td>\n    </tr>\n    <tr>\n      <th>4707</th>\n      <td>42884226</td>\n      <td>Tecnología e informática.</td>\n      <td>Prescolar</td>\n      <td>22/04</td>\n      <td>Sí</td>\n      <td>235</td>\n      <td>Cédula de ciudadanía</td>\n      <td>57</td>\n      <td>Femenino</td>\n      <td>Sí</td>\n      <td>Soltero/a</td>\n      <td>No</td>\n      <td>No</td>\n      <td>No</td>\n      <td>STEM</td>\n      <td>STEM</td>\n      <td>Sí, otro</td>\n    </tr>\n    <tr>\n      <th>4708</th>\n      <td>40764873</td>\n      <td>Tecnología e informática.</td>\n      <td>Prescolar</td>\n      <td>22/04</td>\n      <td>Sí</td>\n      <td>47</td>\n      <td>Cédula de ciudadanía</td>\n      <td>56</td>\n      <td>Femenino</td>\n      <td>No</td>\n      <td>Casado/a o  En unión libre</td>\n      <td>No</td>\n      <td>Sí</td>\n      <td>No</td>\n      <td>Enseña ambos</td>\n      <td>No STEM</td>\n      <td>Sí, otro</td>\n    </tr>\n    <tr>\n      <th>4709</th>\n      <td>51575161</td>\n      <td>Tecnología e informática.</td>\n      <td>Prescolar</td>\n      <td>22/04</td>\n      <td>Sí</td>\n      <td>10</td>\n      <td>Cédula de ciudadanía</td>\n      <td>64</td>\n      <td>Femenino</td>\n      <td>No</td>\n      <td>Casado/a o  En unión libre</td>\n      <td>Sí</td>\n      <td>Sí</td>\n      <td>No</td>\n      <td>Enseña ambos</td>\n      <td>No STEM</td>\n      <td>Sí, otro</td>\n    </tr>\n    <tr>\n      <th>4710</th>\n      <td>41923724</td>\n      <td>Tecnología e informática.</td>\n      <td>Prescolar</td>\n      <td>22/04</td>\n      <td>Sí</td>\n      <td>110</td>\n      <td>Cédula de ciudadanía</td>\n      <td>45</td>\n      <td>Femenino</td>\n      <td>Sí</td>\n      <td>Separado/a o Divorciado/a</td>\n      <td>No</td>\n      <td>No</td>\n      <td>No</td>\n      <td>No STEM</td>\n      <td>No STEM</td>\n      <td>Sí, otro</td>\n    </tr>\n  </tbody>\n</table>\n<p>4711 rows × 17 columns</p>\n</div>"
     },
     "execution_count": 25,
     "metadata": {},
     "output_type": "execute_result"
    }
   ],
   "source": [
    "formado"
   ],
   "metadata": {
    "collapsed": false,
    "pycharm": {
     "name": "#%%\n"
    }
   }
  },
  {
   "cell_type": "code",
   "execution_count": null,
   "outputs": [],
   "source": [],
   "metadata": {
    "collapsed": false,
    "pycharm": {
     "name": "#%%\n"
    }
   }
  }
 ],
 "metadata": {
  "kernelspec": {
   "display_name": "Python 3 (ipykernel)",
   "language": "python",
   "name": "python3"
  },
  "language_info": {
   "codemirror_mode": {
    "name": "ipython",
    "version": 3
   },
   "file_extension": ".py",
   "mimetype": "text/x-python",
   "name": "python",
   "nbconvert_exporter": "python",
   "pygments_lexer": "ipython3",
   "version": "3.10.4"
  }
 },
 "nbformat": 4,
 "nbformat_minor": 1
}