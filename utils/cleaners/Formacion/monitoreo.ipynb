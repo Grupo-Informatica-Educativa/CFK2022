{
 "cells": [
  {
   "cell_type": "code",
   "execution_count": 87,
   "outputs": [],
   "source": [
    "import pandas as pd\n",
    "from genderize import Genderize\n",
    "\n",
    "import plotly.express as px"
   ],
   "metadata": {
    "collapsed": false,
    "pycharm": {
     "name": "#%%\n"
    }
   }
  },
  {
   "cell_type": "code",
   "execution_count": 88,
   "outputs": [],
   "source": [
    "caracterizacion = pd.read_csv('Detalles de Cuestionario.csv', sep=',',on_bad_lines='skip',low_memory=False)\n",
    "caracterizacion = caracterizacion[caracterizacion['Encuesta']=='Encuesta caracterización (10 puntos)']"
   ],
   "metadata": {
    "collapsed": false,
    "pycharm": {
     "name": "#%%\n"
    }
   }
  },
  {
   "cell_type": "code",
   "execution_count": 63,
   "outputs": [
    {
     "data": {
      "text/plain": "Pregunta          CC Rango de edad\n0           91509888         35-44\n1           98568469           45+\n2           78757042           45+\n3           13747723         35-44\n4         1084735373         25-34\n...              ...           ...\n2183      1143153704         25-34\n2184        54251653           45+\n2185      1018417159         25-34\n2186        43718435         35-44\n2187      3144326432         35-44\n\n[2188 rows x 2 columns]",
      "text/html": "<div>\n<style scoped>\n    .dataframe tbody tr th:only-of-type {\n        vertical-align: middle;\n    }\n\n    .dataframe tbody tr th {\n        vertical-align: top;\n    }\n\n    .dataframe thead th {\n        text-align: right;\n    }\n</style>\n<table border=\"1\" class=\"dataframe\">\n  <thead>\n    <tr style=\"text-align: right;\">\n      <th>Pregunta</th>\n      <th>CC</th>\n      <th>Rango de edad</th>\n    </tr>\n  </thead>\n  <tbody>\n    <tr>\n      <th>0</th>\n      <td>91509888</td>\n      <td>35-44</td>\n    </tr>\n    <tr>\n      <th>1</th>\n      <td>98568469</td>\n      <td>45+</td>\n    </tr>\n    <tr>\n      <th>2</th>\n      <td>78757042</td>\n      <td>45+</td>\n    </tr>\n    <tr>\n      <th>3</th>\n      <td>13747723</td>\n      <td>35-44</td>\n    </tr>\n    <tr>\n      <th>4</th>\n      <td>1084735373</td>\n      <td>25-34</td>\n    </tr>\n    <tr>\n      <th>...</th>\n      <td>...</td>\n      <td>...</td>\n    </tr>\n    <tr>\n      <th>2183</th>\n      <td>1143153704</td>\n      <td>25-34</td>\n    </tr>\n    <tr>\n      <th>2184</th>\n      <td>54251653</td>\n      <td>45+</td>\n    </tr>\n    <tr>\n      <th>2185</th>\n      <td>1018417159</td>\n      <td>25-34</td>\n    </tr>\n    <tr>\n      <th>2186</th>\n      <td>43718435</td>\n      <td>35-44</td>\n    </tr>\n    <tr>\n      <th>2187</th>\n      <td>3144326432</td>\n      <td>35-44</td>\n    </tr>\n  </tbody>\n</table>\n<p>2188 rows × 2 columns</p>\n</div>"
     },
     "execution_count": 63,
     "metadata": {},
     "output_type": "execute_result"
    }
   ],
   "source": [
    "caract = caracterizacion.pivot_table(index=['Nombre', 'Apellido', 'Correo Electrónico'], columns='Pregunta',\n",
    "                                     values='Respuesta', aggfunc='first').reset_index()\n",
    "caract = caract.loc[:,['Número de Cédula','Rango de edad']].rename(columns={'Número de Cédula':'CC'})\n",
    "caract"
   ],
   "metadata": {
    "collapsed": false,
    "pycharm": {
     "name": "#%%\n"
    }
   }
  },
  {
   "cell_type": "code",
   "execution_count": 64,
   "outputs": [],
   "source": [
    "reporte = pd.read_excel('Seguimiento_2106.xlsx', sheet_name='Reporte')"
   ],
   "metadata": {
    "collapsed": false,
    "pycharm": {
     "name": "#%%\n"
    }
   }
  },
  {
   "cell_type": "code",
   "execution_count": 65,
   "outputs": [
    {
     "data": {
      "text/plain": "         Nombre Del Curso          CC Nombres del estudiante  \\\n0  Curso Inicial 2022 I01  1122133825          Lina Fernanda   \n1  Curso Inicial 2022 I01  1067906311         Hector Enrique   \n2  Curso Inicial 2022 I01  1118020734            Omar Andres   \n3  Curso Inicial 2022 I01     4803365            Jose Ovidio   \n4  Curso Inicial 2022 I01    86052555           Luis Antonio   \n\n  Apellidos del estudiante                         Email Grupo  \\\n0      Montenegro Cardenas    lunaofseptiembre@gmail.com   I01   \n1            Lopez Cavadia              helc20@gmail.com   I01   \n2      Trujillo Santamaria  otrujillo@ieesperanza.edu.co   I01   \n3           Martínez Parra             Josomap@gmail.com   I01   \n4          Burgos Bermúdez      amparoisaza1@hotmail.com   I01   \n\n                    Tutor          Coordinador  Status Ingresó a Plataforma?  \\\n0  Vladimir Ortiz Herrera  Juan Camilo Londoño  Active                     0   \n1  Vladimir Ortiz Herrera  Juan Camilo Londoño  Active                     0   \n2  Vladimir Ortiz Herrera  Juan Camilo Londoño  Active                     0   \n3  Vladimir Ortiz Herrera  Juan Camilo Londoño  Active                     0   \n4  Vladimir Ortiz Herrera  Juan Camilo Londoño  Active                     0   \n\n   ... Asistencia Level UP  Diferencia  Grupo.1  Usuario en plantilla  \\\n0  ...        2.0     50.0     -0.2500      I01          1.122134e+09   \n1  ...        3.0    253.0     -0.1003      I01          1.067906e+09   \n2  ...        2.0    374.0     -0.2003      I01          1.118021e+09   \n3  ...        1.0      0.0      0.0000      I01          4.803365e+06   \n4  ...        2.0    433.0      0.2479      I01          8.605256e+07   \n\n   Pts reporte  Tipo Certificado  Cer entregados  Certificado en plataforma  \\\n0      50.2500                 0             1.0                        0.0   \n1     253.1003                 0             1.0                        0.0   \n2     374.2003                 0             1.0                        0.0   \n3       0.0000                 0             0.0                        0.0   \n4     432.7521                 0             0.0                        0.0   \n\n   Puntos en tarea calificable  \n0                          0.0  \n1                          0.0  \n2                          0.0  \n3                          0.0  \n4                          0.0  \n\n[5 rows x 170 columns]",
      "text/html": "<div>\n<style scoped>\n    .dataframe tbody tr th:only-of-type {\n        vertical-align: middle;\n    }\n\n    .dataframe tbody tr th {\n        vertical-align: top;\n    }\n\n    .dataframe thead th {\n        text-align: right;\n    }\n</style>\n<table border=\"1\" class=\"dataframe\">\n  <thead>\n    <tr style=\"text-align: right;\">\n      <th></th>\n      <th>Nombre Del Curso</th>\n      <th>CC</th>\n      <th>Nombres del estudiante</th>\n      <th>Apellidos del estudiante</th>\n      <th>Email</th>\n      <th>Grupo</th>\n      <th>Tutor</th>\n      <th>Coordinador</th>\n      <th>Status</th>\n      <th>Ingresó a Plataforma?</th>\n      <th>...</th>\n      <th>Asistencia</th>\n      <th>Level UP</th>\n      <th>Diferencia</th>\n      <th>Grupo.1</th>\n      <th>Usuario en plantilla</th>\n      <th>Pts reporte</th>\n      <th>Tipo Certificado</th>\n      <th>Cer entregados</th>\n      <th>Certificado en plataforma</th>\n      <th>Puntos en tarea calificable</th>\n    </tr>\n  </thead>\n  <tbody>\n    <tr>\n      <th>0</th>\n      <td>Curso Inicial 2022 I01</td>\n      <td>1122133825</td>\n      <td>Lina Fernanda</td>\n      <td>Montenegro Cardenas</td>\n      <td>lunaofseptiembre@gmail.com</td>\n      <td>I01</td>\n      <td>Vladimir Ortiz Herrera</td>\n      <td>Juan Camilo Londoño</td>\n      <td>Active</td>\n      <td>0</td>\n      <td>...</td>\n      <td>2.0</td>\n      <td>50.0</td>\n      <td>-0.2500</td>\n      <td>I01</td>\n      <td>1.122134e+09</td>\n      <td>50.2500</td>\n      <td>0</td>\n      <td>1.0</td>\n      <td>0.0</td>\n      <td>0.0</td>\n    </tr>\n    <tr>\n      <th>1</th>\n      <td>Curso Inicial 2022 I01</td>\n      <td>1067906311</td>\n      <td>Hector Enrique</td>\n      <td>Lopez Cavadia</td>\n      <td>helc20@gmail.com</td>\n      <td>I01</td>\n      <td>Vladimir Ortiz Herrera</td>\n      <td>Juan Camilo Londoño</td>\n      <td>Active</td>\n      <td>0</td>\n      <td>...</td>\n      <td>3.0</td>\n      <td>253.0</td>\n      <td>-0.1003</td>\n      <td>I01</td>\n      <td>1.067906e+09</td>\n      <td>253.1003</td>\n      <td>0</td>\n      <td>1.0</td>\n      <td>0.0</td>\n      <td>0.0</td>\n    </tr>\n    <tr>\n      <th>2</th>\n      <td>Curso Inicial 2022 I01</td>\n      <td>1118020734</td>\n      <td>Omar Andres</td>\n      <td>Trujillo Santamaria</td>\n      <td>otrujillo@ieesperanza.edu.co</td>\n      <td>I01</td>\n      <td>Vladimir Ortiz Herrera</td>\n      <td>Juan Camilo Londoño</td>\n      <td>Active</td>\n      <td>0</td>\n      <td>...</td>\n      <td>2.0</td>\n      <td>374.0</td>\n      <td>-0.2003</td>\n      <td>I01</td>\n      <td>1.118021e+09</td>\n      <td>374.2003</td>\n      <td>0</td>\n      <td>1.0</td>\n      <td>0.0</td>\n      <td>0.0</td>\n    </tr>\n    <tr>\n      <th>3</th>\n      <td>Curso Inicial 2022 I01</td>\n      <td>4803365</td>\n      <td>Jose Ovidio</td>\n      <td>Martínez Parra</td>\n      <td>Josomap@gmail.com</td>\n      <td>I01</td>\n      <td>Vladimir Ortiz Herrera</td>\n      <td>Juan Camilo Londoño</td>\n      <td>Active</td>\n      <td>0</td>\n      <td>...</td>\n      <td>1.0</td>\n      <td>0.0</td>\n      <td>0.0000</td>\n      <td>I01</td>\n      <td>4.803365e+06</td>\n      <td>0.0000</td>\n      <td>0</td>\n      <td>0.0</td>\n      <td>0.0</td>\n      <td>0.0</td>\n    </tr>\n    <tr>\n      <th>4</th>\n      <td>Curso Inicial 2022 I01</td>\n      <td>86052555</td>\n      <td>Luis Antonio</td>\n      <td>Burgos Bermúdez</td>\n      <td>amparoisaza1@hotmail.com</td>\n      <td>I01</td>\n      <td>Vladimir Ortiz Herrera</td>\n      <td>Juan Camilo Londoño</td>\n      <td>Active</td>\n      <td>0</td>\n      <td>...</td>\n      <td>2.0</td>\n      <td>433.0</td>\n      <td>0.2479</td>\n      <td>I01</td>\n      <td>8.605256e+07</td>\n      <td>432.7521</td>\n      <td>0</td>\n      <td>0.0</td>\n      <td>0.0</td>\n      <td>0.0</td>\n    </tr>\n  </tbody>\n</table>\n<p>5 rows × 170 columns</p>\n</div>"
     },
     "execution_count": 65,
     "metadata": {},
     "output_type": "execute_result"
    }
   ],
   "source": [
    "reporte = reporte.rename(columns ={'No. de documento del estudiante':\"CC\"})\n",
    "reporte.head()"
   ],
   "metadata": {
    "collapsed": false,
    "pycharm": {
     "name": "#%%\n"
    }
   }
  },
  {
   "cell_type": "code",
   "execution_count": 66,
   "outputs": [],
   "source": [
    "asistencia = pd.read_excel('asistencia_presencial.xlsx')\n",
    "asistencia = asistencia.rename(columns ={'CC Docente': \"CC\"})\n",
    "asistencia = asistencia.drop(columns=['Tutor(a)','Coordinador de tutores','Nombres Docente','Apellidos Docente','Nombre tallerista'])"
   ],
   "metadata": {
    "collapsed": false,
    "pycharm": {
     "name": "#%%\n"
    }
   }
  },
  {
   "cell_type": "code",
   "execution_count": 67,
   "outputs": [],
   "source": [
    "prepost = pd.read_excel('Conocimiento.xlsx', index_col=0)\n",
    "prepost = prepost.loc[prepost['Tipo']=='Pretest']\n",
    "prepost = prepost.rename(columns ={'1. Cédula':\"CC\", '4. Género':\"Genero\",\"10. Es docente STEM\":\"Docente STEM\"})\n",
    "prepost = prepost.loc[:,['CC','Genero','Docente STEM']]"
   ],
   "metadata": {
    "collapsed": false,
    "pycharm": {
     "name": "#%%\n"
    }
   }
  },
  {
   "cell_type": "code",
   "execution_count": 68,
   "outputs": [
    {
     "data": {
      "text/plain": "['Nombre Del Curso',\n 'CC',\n 'Nombres del estudiante',\n 'Apellidos del estudiante',\n 'Email',\n 'Grupo',\n 'Tutor',\n 'Coordinador',\n 'Status',\n 'Ingresó a Plataforma?',\n 'Puntaje acumulado',\n '% avance vs. contenido cargado',\n 'Alerta de evidencias U0',\n 'Alerta de evidencias U1',\n 'Alerta de asistencias',\n '% avance vs. puntaje total',\n 'U0',\n '% U0',\n 'U1',\n '% U1',\n 'U2',\n '% U2',\n 'U3',\n '% U3',\n 'U4',\n '% U4',\n 'Q1',\n 'Q2',\n 'Q3',\n 'Q4',\n 'Alerta Avance Roja intensa',\n 'Alerta Avance Roja',\n 'Alerta Avance Amarilla',\n 'Alerta Avance Verde',\n 'Alerta Evidencias U0 Roja',\n 'Alerta Evidencias U0 Verde',\n 'Alerta Evidencias U1 Roja',\n 'Alerta Evidencias U1 Verde',\n 'Alerta Asistencias Roja',\n 'Alerta Asistencias Amarilla',\n 'Alerta Asistencias Verde',\n 'Puntaje planeado sem 1',\n 'Puntaje planeado sem 2',\n 'Puntaje planeado sem 3',\n 'Puntaje planeado sem 4',\n 'Puntaje planeado sem 6',\n '-',\n '-.1',\n 'Bienvenida general (1 punto)',\n 'Carta ministra',\n 'Estructura navegación del curso (1 punto)',\n 'Estructura de navegación del curso',\n 'Aprendizajes y aprobación (1 punto)',\n 'Carta aval rector(a) (3 puntos)',\n 'Encuesta caracterización (10 puntos)',\n 'Cuestionario Inicial (10 puntos)',\n 'Video TPACK (1 punto)',\n 'Foro de presentación U0 (1 punto)',\n 'Ficha 0 (1 punto)',\n 'Videos uso de fichas (1 punto)',\n 'Aprendizajes (1 punto)',\n 'Video lo que es (1 punto)',\n 'Video lo que se sabe (1 punto)',\n 'Video prácticas pedagógicas (1 punto)',\n 'Lecturas asignadas (2 punto)',\n 'Lecturas complementarias (1 punto)',\n 'Revisión aprendizajes (10 puntos)',\n '¡Ingresa a nuestra comunidad de aprendizaje! (4 puntos)',\n 'U1 Aprendizajes de la unidad (1 punto)',\n 'U1 Presentación de la unidad',\n 'U1 Ficha 1 (1 punto)',\n 'U1 Video lo que debemos saber (1 punto)',\n 'U1 Video desconectadas (1 punto)',\n 'U1 Video MakeCode (1 punto)',\n 'U1 Video conectadas (1 punto)',\n 'U1 Video aplicando lo aprendido (1 punto)',\n 'U1 Evidencias de trabajo con la ficha (20 puntos)',\n 'U1 Memorias colectivas (1 punto)',\n 'U1 Guía didáctica de uso ficha 1 (1 punto)',\n 'U1 Taller (20 puntos)',\n 'U1 Aprendizajes (1 punto)',\n 'U1 Video lo que es (1 punto)',\n 'U1 Video lo que se sabe (1 punto)',\n 'U1 Video prácticas pedagógicas (1 punto)',\n 'U1 Lecturas asignadas (1 punto)',\n 'U1 Lecturas complementarias (1 punto)',\n 'U1 Evaluación Pensamiento Computacional (10 puntos)',\n 'U1 Foro (18 puntos)',\n 'U1 Revisión de aprendizajes (20 puntos)',\n 'U2 Aprendizajes de la unidad (1 punto)',\n 'U2 Presentación de la unidad (1 punto)',\n 'U2 Ficha 2 (1 punto)',\n 'U2 Video lo que debemos saber (1 punto)',\n 'U2 Video desconectadas (1 punto)',\n 'U2 Video conectadas (1 punto)',\n 'U2 Video aplicando lo aprendido (1 punto)',\n 'U2 Evidencias de trabajo con la ficha (20 puntos)',\n 'U2 Memorias colectivas (1 punto)',\n 'U2 Guía didáctica de uso ficha 2 (1 punto)',\n 'U2 Taller U2 (20 puntos)',\n 'U2 Aprendizajes (1 punto)',\n 'U2 Video lo que es (1 punto)',\n 'U2 Video lo que se sabe (1 punto)',\n 'U2 Video prácticas pedagógicas (1 punto)',\n 'U2 Lecturas asignadas (1 punto)',\n 'U2 Lecturas complementarias (1 punto)',\n 'U2 Evaluación Educación STEM (10 puntos)',\n 'U2 Foro (15 puntos)',\n 'U2 Revisión de aprendizajes U2 (20 puntos)',\n 'U2 Validación para taller presencial',\n 'U3 Formato de actividad Unidad 3 (106 puntos)',\n 'U3 Aprendizajes de la unidad (1 punto)',\n 'U3 Presentación de la unidad (1 punto)',\n 'U3 Ficha 3 (1 punto)',\n 'U3 Video lo que debemos saber (1 punto)',\n 'U3 Video desconectadas (1 punto)',\n 'U3 Video conectadas (1 punto)',\n 'U3 Video aplicando lo aprendido (1 punto)',\n 'U3 Evidencias de trabajo con la ficha (20 puntos)',\n 'U3 Memorias colectivas (1 punto)',\n 'U3 Guía didáctica de uso ficha 3 (1 punto)',\n 'U3 Taller U3 (20 puntos)',\n 'U3 Aprendizajes (1 punto)',\n 'U3 Video lo que es (1 punto)',\n 'U3 Video lo que se sabe (1 punto)',\n 'U3 Video prácticas pedagógicas (1 punto)',\n 'U3 Lecturas asignadas (1 punto)',\n 'U3 Lecturas complementarias (1 punto)',\n 'U3 Evaluación Metacognición y Pensamiento Visible (10 puntos)',\n 'U3 Foro (15 puntos)',\n 'U3 Evaluación (20 puntos)',\n 'U4 Formato de actividad Unidad 4 (156 puntos)',\n 'U4 Aprendizajes de la unidad (1 punto)',\n 'U4 Presentación de la unidad (1 punto)',\n 'U4 Ficha 4 (1 punto)',\n 'U4 Video lo que debemos saber (1 punto)',\n 'U4 Video desconectadas (1 punto)',\n 'U4 Video conectadas (1 punto)',\n 'U4 Video aplicando lo aprendido (1 punto)',\n 'U4 Evidencias de trabajo con la ficha (20 puntos)',\n 'U4 Memorias colectivas (1 punto)',\n 'U4 Guía didáctica de uso ficha 4 (1 punto)',\n 'U4 Taller U4 (20 puntos)',\n 'U4 Aprendizajes (1 punto)',\n 'U4 Video lo que es (1 punto)',\n 'U4 Video lo que se sabe (1 punto)',\n 'U4 Video prácticas pedagógicas (1 punto)',\n 'U4 Lecturas asignadas (1 punto)',\n 'U4 Lecturas complementarias (1 punto)',\n 'U4 Evaluación Gestión de Aula (10 puntos)',\n 'U4 Evaluación Final (20 puntos)',\n 'U4 Cuestionario Final (25 puntos)',\n 'U4 Encuesta de satisfacción (23 puntos)',\n 'U4 Material complementario',\n 'Formato de Transferencia de Conocimientos Estudiantes U4',\n 'U4 Calificar Progreso evidencias y sesiones sincrónicas (17 puntos)',\n 'Carta aval rector',\n 'U1 Foro (18 puntos).1',\n 'Enrolamiento',\n 'Retiro',\n 'Asistencia',\n 'Level UP',\n 'Diferencia',\n 'Grupo.1',\n 'Usuario en plantilla',\n 'Pts reporte',\n 'Tipo Certificado',\n 'Cer entregados',\n 'Certificado en plataforma',\n 'Puntos en tarea calificable']"
     },
     "execution_count": 68,
     "metadata": {},
     "output_type": "execute_result"
    }
   ],
   "source": [
    "reporte.columns.tolist()"
   ],
   "metadata": {
    "collapsed": false,
    "pycharm": {
     "name": "#%%\n"
    }
   }
  },
  {
   "cell_type": "code",
   "execution_count": 69,
   "outputs": [
    {
     "data": {
      "text/plain": "            Nombre Del Curso          CC Nombres del estudiante  \\\n0     Curso Inicial 2022 I01  1122133825          Lina Fernanda   \n1     Curso Inicial 2022 I01  1067906311         Hector Enrique   \n2     Curso Inicial 2022 I01  1118020734            Omar Andres   \n3     Curso Inicial 2022 I01     4803365            Jose Ovidio   \n4     Curso Inicial 2022 I01    86052555           Luis Antonio   \n...                      ...         ...                    ...   \n2432  Curso Inicial 2022 I13    11311497          Harold Wilson   \n2433  Curso Inicial 2022 I22    91514164          Wilkin Alexis   \n2434  Curso Inicial 2022 I11    38211942                Yorleny   \n2435  Curso Inicial 2022 I11    52355154          Yeny Carolina   \n2436  Curso Inicial 2022 I22     7172426                  Jaime   \n\n     Apellidos del estudiante                                 Email Grupo  \\\n0         Montenegro Cardenas            lunaofseptiembre@gmail.com   I01   \n1               Lopez Cavadia                      helc20@gmail.com   I01   \n2         Trujillo Santamaria          otrujillo@ieesperanza.edu.co   I01   \n3              Martínez Parra                     Josomap@gmail.com   I01   \n4             Burgos Bermúdez              amparoisaza1@hotmail.com   I01   \n...                       ...                                   ...   ...   \n2432             Cetares Ruiz                     hacer_12@yahoo.es   I13   \n2433          Pedraza Fonseca                 lexsocial@hotmail.com   I22   \n2434            Benítez Varón      yorleny.benitez@sedtolima.edu.co   I11   \n2435             Riaño Zamora  yeny.riano154@educacionbogota.edu.co   I11   \n2436             Orjuela Diaz            jaimeorjueladiaz@gmail.com   I22   \n\n                            Tutor                 Coordinador  Status  \\\n0          Vladimir Ortiz Herrera         Juan Camilo Londoño  Active   \n1          Vladimir Ortiz Herrera         Juan Camilo Londoño  Active   \n2          Vladimir Ortiz Herrera         Juan Camilo Londoño  Active   \n3          Vladimir Ortiz Herrera         Juan Camilo Londoño  Active   \n4          Vladimir Ortiz Herrera         Juan Camilo Londoño  Active   \n...                           ...                         ...     ...   \n2432   Juan Dario Timaran Jimenez  Paula Andrea López Morales  Active   \n2433   Nidian Yoana Bastidas Alba          Elcy Rosa Galarcio  Active   \n2434  Jose Brayam Rodriguez Arias  Paula Andrea López Morales  Active   \n2435  Jose Brayam Rodriguez Arias  Paula Andrea López Morales  Active   \n2436   Nidian Yoana Bastidas Alba          Elcy Rosa Galarcio  Active   \n\n     Ingresó a Plataforma?  ... Asistencia Level UP  Diferencia  Grupo.1  \\\n0                        0  ...        2.0     50.0     -0.2500      I01   \n1                        0  ...        3.0    253.0     -0.1003      I01   \n2                        0  ...        2.0    374.0     -0.2003      I01   \n3                        0  ...        1.0      0.0      0.0000      I01   \n4                        0  ...        2.0    433.0      0.2479      I01   \n...                    ...  ...        ...      ...         ...      ...   \n2432                     0  ...        1.0      0.0      0.0000      I13   \n2433                     0  ...        0.0      0.0      0.0000      I22   \n2434                     0  ...        1.0    176.0      0.5000      I11   \n2435                     0  ...        0.0    175.0     -0.2500      I11   \n2436                     0  ...        1.0    127.0      0.0000      I22   \n\n      Usuario en plantilla  Pts reporte  Tipo Certificado  Cer entregados  \\\n0             1.122134e+09      50.2500                 0             1.0   \n1             1.067906e+09     253.1003                 0             1.0   \n2             1.118021e+09     374.2003                 0             1.0   \n3             4.803365e+06       0.0000                 0             0.0   \n4             8.605256e+07     432.7521                 0             0.0   \n...                    ...          ...               ...             ...   \n2432          1.131150e+07       0.0000                 0           673.0   \n2433          9.151416e+07       0.0000                 0           674.0   \n2434          3.821194e+07     175.5000                 0           675.0   \n2435          5.235515e+07     175.2500                 0           676.0   \n2436          7.172426e+06     127.0000                 0           481.0   \n\n      Certificado en plataforma  Puntos en tarea calificable  \n0                           0.0                          0.0  \n1                           0.0                          0.0  \n2                           0.0                          0.0  \n3                           0.0                          0.0  \n4                           0.0                          0.0  \n...                         ...                          ...  \n2432                        0.0                          0.0  \n2433                        0.0                          0.0  \n2434                        0.0                          0.0  \n2435                        0.0                          0.0  \n2436                        0.0                          0.0  \n\n[2437 rows x 170 columns]",
      "text/html": "<div>\n<style scoped>\n    .dataframe tbody tr th:only-of-type {\n        vertical-align: middle;\n    }\n\n    .dataframe tbody tr th {\n        vertical-align: top;\n    }\n\n    .dataframe thead th {\n        text-align: right;\n    }\n</style>\n<table border=\"1\" class=\"dataframe\">\n  <thead>\n    <tr style=\"text-align: right;\">\n      <th></th>\n      <th>Nombre Del Curso</th>\n      <th>CC</th>\n      <th>Nombres del estudiante</th>\n      <th>Apellidos del estudiante</th>\n      <th>Email</th>\n      <th>Grupo</th>\n      <th>Tutor</th>\n      <th>Coordinador</th>\n      <th>Status</th>\n      <th>Ingresó a Plataforma?</th>\n      <th>...</th>\n      <th>Asistencia</th>\n      <th>Level UP</th>\n      <th>Diferencia</th>\n      <th>Grupo.1</th>\n      <th>Usuario en plantilla</th>\n      <th>Pts reporte</th>\n      <th>Tipo Certificado</th>\n      <th>Cer entregados</th>\n      <th>Certificado en plataforma</th>\n      <th>Puntos en tarea calificable</th>\n    </tr>\n  </thead>\n  <tbody>\n    <tr>\n      <th>0</th>\n      <td>Curso Inicial 2022 I01</td>\n      <td>1122133825</td>\n      <td>Lina Fernanda</td>\n      <td>Montenegro Cardenas</td>\n      <td>lunaofseptiembre@gmail.com</td>\n      <td>I01</td>\n      <td>Vladimir Ortiz Herrera</td>\n      <td>Juan Camilo Londoño</td>\n      <td>Active</td>\n      <td>0</td>\n      <td>...</td>\n      <td>2.0</td>\n      <td>50.0</td>\n      <td>-0.2500</td>\n      <td>I01</td>\n      <td>1.122134e+09</td>\n      <td>50.2500</td>\n      <td>0</td>\n      <td>1.0</td>\n      <td>0.0</td>\n      <td>0.0</td>\n    </tr>\n    <tr>\n      <th>1</th>\n      <td>Curso Inicial 2022 I01</td>\n      <td>1067906311</td>\n      <td>Hector Enrique</td>\n      <td>Lopez Cavadia</td>\n      <td>helc20@gmail.com</td>\n      <td>I01</td>\n      <td>Vladimir Ortiz Herrera</td>\n      <td>Juan Camilo Londoño</td>\n      <td>Active</td>\n      <td>0</td>\n      <td>...</td>\n      <td>3.0</td>\n      <td>253.0</td>\n      <td>-0.1003</td>\n      <td>I01</td>\n      <td>1.067906e+09</td>\n      <td>253.1003</td>\n      <td>0</td>\n      <td>1.0</td>\n      <td>0.0</td>\n      <td>0.0</td>\n    </tr>\n    <tr>\n      <th>2</th>\n      <td>Curso Inicial 2022 I01</td>\n      <td>1118020734</td>\n      <td>Omar Andres</td>\n      <td>Trujillo Santamaria</td>\n      <td>otrujillo@ieesperanza.edu.co</td>\n      <td>I01</td>\n      <td>Vladimir Ortiz Herrera</td>\n      <td>Juan Camilo Londoño</td>\n      <td>Active</td>\n      <td>0</td>\n      <td>...</td>\n      <td>2.0</td>\n      <td>374.0</td>\n      <td>-0.2003</td>\n      <td>I01</td>\n      <td>1.118021e+09</td>\n      <td>374.2003</td>\n      <td>0</td>\n      <td>1.0</td>\n      <td>0.0</td>\n      <td>0.0</td>\n    </tr>\n    <tr>\n      <th>3</th>\n      <td>Curso Inicial 2022 I01</td>\n      <td>4803365</td>\n      <td>Jose Ovidio</td>\n      <td>Martínez Parra</td>\n      <td>Josomap@gmail.com</td>\n      <td>I01</td>\n      <td>Vladimir Ortiz Herrera</td>\n      <td>Juan Camilo Londoño</td>\n      <td>Active</td>\n      <td>0</td>\n      <td>...</td>\n      <td>1.0</td>\n      <td>0.0</td>\n      <td>0.0000</td>\n      <td>I01</td>\n      <td>4.803365e+06</td>\n      <td>0.0000</td>\n      <td>0</td>\n      <td>0.0</td>\n      <td>0.0</td>\n      <td>0.0</td>\n    </tr>\n    <tr>\n      <th>4</th>\n      <td>Curso Inicial 2022 I01</td>\n      <td>86052555</td>\n      <td>Luis Antonio</td>\n      <td>Burgos Bermúdez</td>\n      <td>amparoisaza1@hotmail.com</td>\n      <td>I01</td>\n      <td>Vladimir Ortiz Herrera</td>\n      <td>Juan Camilo Londoño</td>\n      <td>Active</td>\n      <td>0</td>\n      <td>...</td>\n      <td>2.0</td>\n      <td>433.0</td>\n      <td>0.2479</td>\n      <td>I01</td>\n      <td>8.605256e+07</td>\n      <td>432.7521</td>\n      <td>0</td>\n      <td>0.0</td>\n      <td>0.0</td>\n      <td>0.0</td>\n    </tr>\n    <tr>\n      <th>...</th>\n      <td>...</td>\n      <td>...</td>\n      <td>...</td>\n      <td>...</td>\n      <td>...</td>\n      <td>...</td>\n      <td>...</td>\n      <td>...</td>\n      <td>...</td>\n      <td>...</td>\n      <td>...</td>\n      <td>...</td>\n      <td>...</td>\n      <td>...</td>\n      <td>...</td>\n      <td>...</td>\n      <td>...</td>\n      <td>...</td>\n      <td>...</td>\n      <td>...</td>\n      <td>...</td>\n    </tr>\n    <tr>\n      <th>2432</th>\n      <td>Curso Inicial 2022 I13</td>\n      <td>11311497</td>\n      <td>Harold Wilson</td>\n      <td>Cetares Ruiz</td>\n      <td>hacer_12@yahoo.es</td>\n      <td>I13</td>\n      <td>Juan Dario Timaran Jimenez</td>\n      <td>Paula Andrea López Morales</td>\n      <td>Active</td>\n      <td>0</td>\n      <td>...</td>\n      <td>1.0</td>\n      <td>0.0</td>\n      <td>0.0000</td>\n      <td>I13</td>\n      <td>1.131150e+07</td>\n      <td>0.0000</td>\n      <td>0</td>\n      <td>673.0</td>\n      <td>0.0</td>\n      <td>0.0</td>\n    </tr>\n    <tr>\n      <th>2433</th>\n      <td>Curso Inicial 2022 I22</td>\n      <td>91514164</td>\n      <td>Wilkin Alexis</td>\n      <td>Pedraza Fonseca</td>\n      <td>lexsocial@hotmail.com</td>\n      <td>I22</td>\n      <td>Nidian Yoana Bastidas Alba</td>\n      <td>Elcy Rosa Galarcio</td>\n      <td>Active</td>\n      <td>0</td>\n      <td>...</td>\n      <td>0.0</td>\n      <td>0.0</td>\n      <td>0.0000</td>\n      <td>I22</td>\n      <td>9.151416e+07</td>\n      <td>0.0000</td>\n      <td>0</td>\n      <td>674.0</td>\n      <td>0.0</td>\n      <td>0.0</td>\n    </tr>\n    <tr>\n      <th>2434</th>\n      <td>Curso Inicial 2022 I11</td>\n      <td>38211942</td>\n      <td>Yorleny</td>\n      <td>Benítez Varón</td>\n      <td>yorleny.benitez@sedtolima.edu.co</td>\n      <td>I11</td>\n      <td>Jose Brayam Rodriguez Arias</td>\n      <td>Paula Andrea López Morales</td>\n      <td>Active</td>\n      <td>0</td>\n      <td>...</td>\n      <td>1.0</td>\n      <td>176.0</td>\n      <td>0.5000</td>\n      <td>I11</td>\n      <td>3.821194e+07</td>\n      <td>175.5000</td>\n      <td>0</td>\n      <td>675.0</td>\n      <td>0.0</td>\n      <td>0.0</td>\n    </tr>\n    <tr>\n      <th>2435</th>\n      <td>Curso Inicial 2022 I11</td>\n      <td>52355154</td>\n      <td>Yeny Carolina</td>\n      <td>Riaño Zamora</td>\n      <td>yeny.riano154@educacionbogota.edu.co</td>\n      <td>I11</td>\n      <td>Jose Brayam Rodriguez Arias</td>\n      <td>Paula Andrea López Morales</td>\n      <td>Active</td>\n      <td>0</td>\n      <td>...</td>\n      <td>0.0</td>\n      <td>175.0</td>\n      <td>-0.2500</td>\n      <td>I11</td>\n      <td>5.235515e+07</td>\n      <td>175.2500</td>\n      <td>0</td>\n      <td>676.0</td>\n      <td>0.0</td>\n      <td>0.0</td>\n    </tr>\n    <tr>\n      <th>2436</th>\n      <td>Curso Inicial 2022 I22</td>\n      <td>7172426</td>\n      <td>Jaime</td>\n      <td>Orjuela Diaz</td>\n      <td>jaimeorjueladiaz@gmail.com</td>\n      <td>I22</td>\n      <td>Nidian Yoana Bastidas Alba</td>\n      <td>Elcy Rosa Galarcio</td>\n      <td>Active</td>\n      <td>0</td>\n      <td>...</td>\n      <td>1.0</td>\n      <td>127.0</td>\n      <td>0.0000</td>\n      <td>I22</td>\n      <td>7.172426e+06</td>\n      <td>127.0000</td>\n      <td>0</td>\n      <td>481.0</td>\n      <td>0.0</td>\n      <td>0.0</td>\n    </tr>\n  </tbody>\n</table>\n<p>2437 rows × 170 columns</p>\n</div>"
     },
     "execution_count": 69,
     "metadata": {},
     "output_type": "execute_result"
    }
   ],
   "source": [
    "reporte = reporte[reporte['Encuesta caracterización (10 puntos)'].isin([1,0])]\n",
    "#reporte['Genderize'] = Genderize().get(reporte['Nombres del estudiante'])\n",
    "reporte"
   ],
   "metadata": {
    "collapsed": false,
    "pycharm": {
     "name": "#%%\n"
    }
   }
  },
  {
   "cell_type": "code",
   "execution_count": 70,
   "outputs": [
    {
     "name": "stderr",
     "output_type": "stream",
     "text": [
      "C:\\Users\\marianaarboleda\\AppData\\Local\\Temp\\ipykernel_24836\\2871821650.py:1: FutureWarning: Dropping of nuisance columns in DataFrame reductions (with 'numeric_only=None') is deprecated; in a future version this will raise TypeError.  Select only valid columns before calling the reduction.\n",
      "  reporte.sum()\n"
     ]
    },
    {
     "data": {
      "text/plain": "Nombre Del Curso               Curso Inicial 2022 I01Curso Inicial 2022 I01Cu...\nCC                                                                 1038094053254\nNombres del estudiante         Lina FernandaHector EnriqueOmar AndresJose Ovi...\nApellidos del estudiante       Montenegro CardenasLopez CavadiaTrujillo Santa...\nEmail                          lunaofseptiembre@gmail.comhelc20@gmail.comotru...\n                                                     ...                        \nUsuario en plantilla                                             1038094053254.0\nPts reporte                                                          570471.0221\nCer entregados                                                          226189.0\nCertificado en plataforma                                                    0.0\nPuntos en tarea calificable                                                 65.0\nLength: 169, dtype: object"
     },
     "execution_count": 70,
     "metadata": {},
     "output_type": "execute_result"
    }
   ],
   "source": [
    "reporte.sum()"
   ],
   "metadata": {
    "collapsed": false,
    "pycharm": {
     "name": "#%%\n"
    }
   }
  },
  {
   "cell_type": "code",
   "execution_count": 84,
   "outputs": [
    {
     "data": {
      "text/plain": "              CC Grupo  Status  Retiro  ID del taller Ciudad del taller  \\\n0     1122133825   I01  Active     0.0  No Disponible     No Disponible   \n1     1067906311   I01  Active     0.0  No Disponible     No Disponible   \n2     1118020734   I01  Active     0.0  No Disponible     No Disponible   \n3        4803365   I01  Active     0.0  No Disponible     No Disponible   \n4       86052555   I01  Active     0.0  No Disponible     No Disponible   \n...          ...   ...     ...     ...            ...               ...   \n2432    11311497   I13  Active     0.0  No Disponible     No Disponible   \n2433    91514164   I22  Active     0.0  No Disponible     No Disponible   \n2434    38211942   I11  Active     0.0  No Disponible     No Disponible   \n2435    52355154   I11  Active     0.0  No Disponible     No Disponible   \n2436     7172426   I22  Active     0.0  No Disponible     No Disponible   \n\n     Fecha talleres Control de asistencia día 1 AM  \\\n0     No Disponible                  No Disponible   \n1     No Disponible                  No Disponible   \n2     No Disponible                  No Disponible   \n3     No Disponible                  No Disponible   \n4     No Disponible                  No Disponible   \n...             ...                            ...   \n2432  No Disponible                  No Disponible   \n2433  No Disponible                  No Disponible   \n2434  No Disponible                  No Disponible   \n2435  No Disponible                  No Disponible   \n2436  No Disponible                  No Disponible   \n\n     Control de asistencia día 1 PM Control de asistencia día 2 AM  \\\n0                     No Disponible                  No Disponible   \n1                     No Disponible                  No Disponible   \n2                     No Disponible                  No Disponible   \n3                     No Disponible                  No Disponible   \n4                     No Disponible                  No Disponible   \n...                             ...                            ...   \n2432                  No Disponible                  No Disponible   \n2433                  No Disponible                  No Disponible   \n2434                  No Disponible                  No Disponible   \n2435                  No Disponible                  No Disponible   \n2436                  No Disponible                  No Disponible   \n\n     Control de asistencia día 2 PM Recibió incentivo adicional  \\\n0                     No Disponible               No Disponible   \n1                     No Disponible               No Disponible   \n2                     No Disponible               No Disponible   \n3                     No Disponible               No Disponible   \n4                     No Disponible               No Disponible   \n...                             ...                         ...   \n2432                  No Disponible               No Disponible   \n2433                  No Disponible               No Disponible   \n2434                  No Disponible               No Disponible   \n2435                  No Disponible               No Disponible   \n2436                  No Disponible               No Disponible   \n\n     Recibió Material Pedagógico (4 micro:bits y 3 cartillas)  Puntaje final  \\\n0                                         No Disponible        No Disponible   \n1                                         No Disponible        No Disponible   \n2                                         No Disponible        No Disponible   \n3                                         No Disponible        No Disponible   \n4                                         No Disponible        No Disponible   \n...                                                 ...                  ...   \n2432                                      No Disponible        No Disponible   \n2433                                      No Disponible        No Disponible   \n2434                                      No Disponible        No Disponible   \n2435                                      No Disponible        No Disponible   \n2436                                      No Disponible        No Disponible   \n\n     ¿Se certifica? Asiste presencialmente         Genero   Docente STEM  \\\n0     No Disponible                     No  No Disponible  No Disponible   \n1     No Disponible                     No  No Disponible  No Disponible   \n2     No Disponible                     No  No Disponible  No Disponible   \n3     No Disponible                     No  No Disponible  No Disponible   \n4     No Disponible                     No  No Disponible  No Disponible   \n...             ...                    ...            ...            ...   \n2432  No Disponible                     No  No Disponible  No Disponible   \n2433  No Disponible                     No  No Disponible  No Disponible   \n2434  No Disponible                     No  No Disponible  No Disponible   \n2435  No Disponible                     No  No Disponible  No Disponible   \n2436  No Disponible                     No  No Disponible  No Disponible   \n\n     Cuestionario de salida  \n0                        No  \n1                        No  \n2                        No  \n3                        No  \n4                        No  \n...                     ...  \n2432                     No  \n2433                     No  \n2434                     No  \n2435                     No  \n2436                     No  \n\n[2437 rows x 19 columns]",
      "text/html": "<div>\n<style scoped>\n    .dataframe tbody tr th:only-of-type {\n        vertical-align: middle;\n    }\n\n    .dataframe tbody tr th {\n        vertical-align: top;\n    }\n\n    .dataframe thead th {\n        text-align: right;\n    }\n</style>\n<table border=\"1\" class=\"dataframe\">\n  <thead>\n    <tr style=\"text-align: right;\">\n      <th></th>\n      <th>CC</th>\n      <th>Grupo</th>\n      <th>Status</th>\n      <th>Retiro</th>\n      <th>ID del taller</th>\n      <th>Ciudad del taller</th>\n      <th>Fecha talleres</th>\n      <th>Control de asistencia día 1 AM</th>\n      <th>Control de asistencia día 1 PM</th>\n      <th>Control de asistencia día 2 AM</th>\n      <th>Control de asistencia día 2 PM</th>\n      <th>Recibió incentivo adicional</th>\n      <th>Recibió Material Pedagógico (4 micro:bits y 3 cartillas)</th>\n      <th>Puntaje final</th>\n      <th>¿Se certifica?</th>\n      <th>Asiste presencialmente</th>\n      <th>Genero</th>\n      <th>Docente STEM</th>\n      <th>Cuestionario de salida</th>\n    </tr>\n  </thead>\n  <tbody>\n    <tr>\n      <th>0</th>\n      <td>1122133825</td>\n      <td>I01</td>\n      <td>Active</td>\n      <td>0.0</td>\n      <td>No Disponible</td>\n      <td>No Disponible</td>\n      <td>No Disponible</td>\n      <td>No Disponible</td>\n      <td>No Disponible</td>\n      <td>No Disponible</td>\n      <td>No Disponible</td>\n      <td>No Disponible</td>\n      <td>No Disponible</td>\n      <td>No Disponible</td>\n      <td>No Disponible</td>\n      <td>No</td>\n      <td>No Disponible</td>\n      <td>No Disponible</td>\n      <td>No</td>\n    </tr>\n    <tr>\n      <th>1</th>\n      <td>1067906311</td>\n      <td>I01</td>\n      <td>Active</td>\n      <td>0.0</td>\n      <td>No Disponible</td>\n      <td>No Disponible</td>\n      <td>No Disponible</td>\n      <td>No Disponible</td>\n      <td>No Disponible</td>\n      <td>No Disponible</td>\n      <td>No Disponible</td>\n      <td>No Disponible</td>\n      <td>No Disponible</td>\n      <td>No Disponible</td>\n      <td>No Disponible</td>\n      <td>No</td>\n      <td>No Disponible</td>\n      <td>No Disponible</td>\n      <td>No</td>\n    </tr>\n    <tr>\n      <th>2</th>\n      <td>1118020734</td>\n      <td>I01</td>\n      <td>Active</td>\n      <td>0.0</td>\n      <td>No Disponible</td>\n      <td>No Disponible</td>\n      <td>No Disponible</td>\n      <td>No Disponible</td>\n      <td>No Disponible</td>\n      <td>No Disponible</td>\n      <td>No Disponible</td>\n      <td>No Disponible</td>\n      <td>No Disponible</td>\n      <td>No Disponible</td>\n      <td>No Disponible</td>\n      <td>No</td>\n      <td>No Disponible</td>\n      <td>No Disponible</td>\n      <td>No</td>\n    </tr>\n    <tr>\n      <th>3</th>\n      <td>4803365</td>\n      <td>I01</td>\n      <td>Active</td>\n      <td>0.0</td>\n      <td>No Disponible</td>\n      <td>No Disponible</td>\n      <td>No Disponible</td>\n      <td>No Disponible</td>\n      <td>No Disponible</td>\n      <td>No Disponible</td>\n      <td>No Disponible</td>\n      <td>No Disponible</td>\n      <td>No Disponible</td>\n      <td>No Disponible</td>\n      <td>No Disponible</td>\n      <td>No</td>\n      <td>No Disponible</td>\n      <td>No Disponible</td>\n      <td>No</td>\n    </tr>\n    <tr>\n      <th>4</th>\n      <td>86052555</td>\n      <td>I01</td>\n      <td>Active</td>\n      <td>0.0</td>\n      <td>No Disponible</td>\n      <td>No Disponible</td>\n      <td>No Disponible</td>\n      <td>No Disponible</td>\n      <td>No Disponible</td>\n      <td>No Disponible</td>\n      <td>No Disponible</td>\n      <td>No Disponible</td>\n      <td>No Disponible</td>\n      <td>No Disponible</td>\n      <td>No Disponible</td>\n      <td>No</td>\n      <td>No Disponible</td>\n      <td>No Disponible</td>\n      <td>No</td>\n    </tr>\n    <tr>\n      <th>...</th>\n      <td>...</td>\n      <td>...</td>\n      <td>...</td>\n      <td>...</td>\n      <td>...</td>\n      <td>...</td>\n      <td>...</td>\n      <td>...</td>\n      <td>...</td>\n      <td>...</td>\n      <td>...</td>\n      <td>...</td>\n      <td>...</td>\n      <td>...</td>\n      <td>...</td>\n      <td>...</td>\n      <td>...</td>\n      <td>...</td>\n      <td>...</td>\n    </tr>\n    <tr>\n      <th>2432</th>\n      <td>11311497</td>\n      <td>I13</td>\n      <td>Active</td>\n      <td>0.0</td>\n      <td>No Disponible</td>\n      <td>No Disponible</td>\n      <td>No Disponible</td>\n      <td>No Disponible</td>\n      <td>No Disponible</td>\n      <td>No Disponible</td>\n      <td>No Disponible</td>\n      <td>No Disponible</td>\n      <td>No Disponible</td>\n      <td>No Disponible</td>\n      <td>No Disponible</td>\n      <td>No</td>\n      <td>No Disponible</td>\n      <td>No Disponible</td>\n      <td>No</td>\n    </tr>\n    <tr>\n      <th>2433</th>\n      <td>91514164</td>\n      <td>I22</td>\n      <td>Active</td>\n      <td>0.0</td>\n      <td>No Disponible</td>\n      <td>No Disponible</td>\n      <td>No Disponible</td>\n      <td>No Disponible</td>\n      <td>No Disponible</td>\n      <td>No Disponible</td>\n      <td>No Disponible</td>\n      <td>No Disponible</td>\n      <td>No Disponible</td>\n      <td>No Disponible</td>\n      <td>No Disponible</td>\n      <td>No</td>\n      <td>No Disponible</td>\n      <td>No Disponible</td>\n      <td>No</td>\n    </tr>\n    <tr>\n      <th>2434</th>\n      <td>38211942</td>\n      <td>I11</td>\n      <td>Active</td>\n      <td>0.0</td>\n      <td>No Disponible</td>\n      <td>No Disponible</td>\n      <td>No Disponible</td>\n      <td>No Disponible</td>\n      <td>No Disponible</td>\n      <td>No Disponible</td>\n      <td>No Disponible</td>\n      <td>No Disponible</td>\n      <td>No Disponible</td>\n      <td>No Disponible</td>\n      <td>No Disponible</td>\n      <td>No</td>\n      <td>No Disponible</td>\n      <td>No Disponible</td>\n      <td>No</td>\n    </tr>\n    <tr>\n      <th>2435</th>\n      <td>52355154</td>\n      <td>I11</td>\n      <td>Active</td>\n      <td>0.0</td>\n      <td>No Disponible</td>\n      <td>No Disponible</td>\n      <td>No Disponible</td>\n      <td>No Disponible</td>\n      <td>No Disponible</td>\n      <td>No Disponible</td>\n      <td>No Disponible</td>\n      <td>No Disponible</td>\n      <td>No Disponible</td>\n      <td>No Disponible</td>\n      <td>No Disponible</td>\n      <td>No</td>\n      <td>No Disponible</td>\n      <td>No Disponible</td>\n      <td>No</td>\n    </tr>\n    <tr>\n      <th>2436</th>\n      <td>7172426</td>\n      <td>I22</td>\n      <td>Active</td>\n      <td>0.0</td>\n      <td>No Disponible</td>\n      <td>No Disponible</td>\n      <td>No Disponible</td>\n      <td>No Disponible</td>\n      <td>No Disponible</td>\n      <td>No Disponible</td>\n      <td>No Disponible</td>\n      <td>No Disponible</td>\n      <td>No Disponible</td>\n      <td>No Disponible</td>\n      <td>No Disponible</td>\n      <td>No</td>\n      <td>No Disponible</td>\n      <td>No Disponible</td>\n      <td>No</td>\n    </tr>\n  </tbody>\n</table>\n<p>2437 rows × 19 columns</p>\n</div>"
     },
     "execution_count": 84,
     "metadata": {},
     "output_type": "execute_result"
    }
   ],
   "source": [
    "inscritos = reporte.loc[:,['CC','Grupo','Status','Retiro']]\n",
    "inscritos = inscritos.merge(asistencia,on='CC', how='outer').fillna(\"No Disponible\")\n",
    "inscritos['Asiste presencialmente'] = \"Sí\"\n",
    "inscritos.loc[inscritos['ID del taller']=='No Disponible','Asiste presencialmente'] = \"No\"\n",
    "inscritos = inscritos.merge(prepost, on='CC', how='outer').fillna(\"No Disponible\")\n",
    "inscritos['Cuestionario de salida'] = \"Sí\"\n",
    "inscritos.loc[inscritos['Genero']=='No Disponible','Cuestionario de salida'] = \"No\"\n",
    "inscritos"
   ],
   "metadata": {
    "collapsed": false,
    "pycharm": {
     "name": "#%%\n"
    }
   }
  },
  {
   "cell_type": "code",
   "execution_count": 85,
   "outputs": [
    {
     "data": {
      "text/plain": "              CC Grupo  Status  Retiro  ID del taller Ciudad del taller  \\\n0     1122133825   I01  Active     0.0  No Disponible     No Disponible   \n1     1067906311   I01  Active     0.0  No Disponible     No Disponible   \n2     1118020734   I01  Active     0.0  No Disponible     No Disponible   \n3        4803365   I01  Active     0.0  No Disponible     No Disponible   \n4       86052555   I01  Active     0.0  No Disponible     No Disponible   \n...          ...   ...     ...     ...            ...               ...   \n2432    11311497   I13  Active     0.0  No Disponible     No Disponible   \n2433    91514164   I22  Active     0.0  No Disponible     No Disponible   \n2434    38211942   I11  Active     0.0  No Disponible     No Disponible   \n2435    52355154   I11  Active     0.0  No Disponible     No Disponible   \n2436     7172426   I22  Active     0.0  No Disponible     No Disponible   \n\n     Fecha talleres Control de asistencia día 1 AM  \\\n0     No Disponible                  No Disponible   \n1     No Disponible                  No Disponible   \n2     No Disponible                  No Disponible   \n3     No Disponible                  No Disponible   \n4     No Disponible                  No Disponible   \n...             ...                            ...   \n2432  No Disponible                  No Disponible   \n2433  No Disponible                  No Disponible   \n2434  No Disponible                  No Disponible   \n2435  No Disponible                  No Disponible   \n2436  No Disponible                  No Disponible   \n\n     Control de asistencia día 1 PM Control de asistencia día 2 AM  \\\n0                     No Disponible                  No Disponible   \n1                     No Disponible                  No Disponible   \n2                     No Disponible                  No Disponible   \n3                     No Disponible                  No Disponible   \n4                     No Disponible                  No Disponible   \n...                             ...                            ...   \n2432                  No Disponible                  No Disponible   \n2433                  No Disponible                  No Disponible   \n2434                  No Disponible                  No Disponible   \n2435                  No Disponible                  No Disponible   \n2436                  No Disponible                  No Disponible   \n\n     Control de asistencia día 2 PM Recibió incentivo adicional  \\\n0                     No Disponible               No Disponible   \n1                     No Disponible               No Disponible   \n2                     No Disponible               No Disponible   \n3                     No Disponible               No Disponible   \n4                     No Disponible               No Disponible   \n...                             ...                         ...   \n2432                  No Disponible               No Disponible   \n2433                  No Disponible               No Disponible   \n2434                  No Disponible               No Disponible   \n2435                  No Disponible               No Disponible   \n2436                  No Disponible               No Disponible   \n\n     Recibió Material Pedagógico (4 micro:bits y 3 cartillas)  Puntaje final  \\\n0                                         No Disponible        No Disponible   \n1                                         No Disponible        No Disponible   \n2                                         No Disponible        No Disponible   \n3                                         No Disponible        No Disponible   \n4                                         No Disponible        No Disponible   \n...                                                 ...                  ...   \n2432                                      No Disponible        No Disponible   \n2433                                      No Disponible        No Disponible   \n2434                                      No Disponible        No Disponible   \n2435                                      No Disponible        No Disponible   \n2436                                      No Disponible        No Disponible   \n\n     ¿Se certifica? Asiste presencialmente         Genero   Docente STEM  \\\n0     No Disponible                     No  No Disponible  No Disponible   \n1     No Disponible                     No  No Disponible  No Disponible   \n2     No Disponible                     No  No Disponible  No Disponible   \n3     No Disponible                     No  No Disponible  No Disponible   \n4     No Disponible                     No  No Disponible  No Disponible   \n...             ...                    ...            ...            ...   \n2432  No Disponible                     No  No Disponible  No Disponible   \n2433  No Disponible                     No  No Disponible  No Disponible   \n2434  No Disponible                     No  No Disponible  No Disponible   \n2435  No Disponible                     No  No Disponible  No Disponible   \n2436  No Disponible                     No  No Disponible  No Disponible   \n\n     Cuestionario de salida  Asistencia a sesiones  \n0                        No                      0  \n1                        No                      0  \n2                        No                      0  \n3                        No                      0  \n4                        No                      0  \n...                     ...                    ...  \n2432                     No                      0  \n2433                     No                      0  \n2434                     No                      0  \n2435                     No                      0  \n2436                     No                      0  \n\n[2437 rows x 20 columns]",
      "text/html": "<div>\n<style scoped>\n    .dataframe tbody tr th:only-of-type {\n        vertical-align: middle;\n    }\n\n    .dataframe tbody tr th {\n        vertical-align: top;\n    }\n\n    .dataframe thead th {\n        text-align: right;\n    }\n</style>\n<table border=\"1\" class=\"dataframe\">\n  <thead>\n    <tr style=\"text-align: right;\">\n      <th></th>\n      <th>CC</th>\n      <th>Grupo</th>\n      <th>Status</th>\n      <th>Retiro</th>\n      <th>ID del taller</th>\n      <th>Ciudad del taller</th>\n      <th>Fecha talleres</th>\n      <th>Control de asistencia día 1 AM</th>\n      <th>Control de asistencia día 1 PM</th>\n      <th>Control de asistencia día 2 AM</th>\n      <th>Control de asistencia día 2 PM</th>\n      <th>Recibió incentivo adicional</th>\n      <th>Recibió Material Pedagógico (4 micro:bits y 3 cartillas)</th>\n      <th>Puntaje final</th>\n      <th>¿Se certifica?</th>\n      <th>Asiste presencialmente</th>\n      <th>Genero</th>\n      <th>Docente STEM</th>\n      <th>Cuestionario de salida</th>\n      <th>Asistencia a sesiones</th>\n    </tr>\n  </thead>\n  <tbody>\n    <tr>\n      <th>0</th>\n      <td>1122133825</td>\n      <td>I01</td>\n      <td>Active</td>\n      <td>0.0</td>\n      <td>No Disponible</td>\n      <td>No Disponible</td>\n      <td>No Disponible</td>\n      <td>No Disponible</td>\n      <td>No Disponible</td>\n      <td>No Disponible</td>\n      <td>No Disponible</td>\n      <td>No Disponible</td>\n      <td>No Disponible</td>\n      <td>No Disponible</td>\n      <td>No Disponible</td>\n      <td>No</td>\n      <td>No Disponible</td>\n      <td>No Disponible</td>\n      <td>No</td>\n      <td>0</td>\n    </tr>\n    <tr>\n      <th>1</th>\n      <td>1067906311</td>\n      <td>I01</td>\n      <td>Active</td>\n      <td>0.0</td>\n      <td>No Disponible</td>\n      <td>No Disponible</td>\n      <td>No Disponible</td>\n      <td>No Disponible</td>\n      <td>No Disponible</td>\n      <td>No Disponible</td>\n      <td>No Disponible</td>\n      <td>No Disponible</td>\n      <td>No Disponible</td>\n      <td>No Disponible</td>\n      <td>No Disponible</td>\n      <td>No</td>\n      <td>No Disponible</td>\n      <td>No Disponible</td>\n      <td>No</td>\n      <td>0</td>\n    </tr>\n    <tr>\n      <th>2</th>\n      <td>1118020734</td>\n      <td>I01</td>\n      <td>Active</td>\n      <td>0.0</td>\n      <td>No Disponible</td>\n      <td>No Disponible</td>\n      <td>No Disponible</td>\n      <td>No Disponible</td>\n      <td>No Disponible</td>\n      <td>No Disponible</td>\n      <td>No Disponible</td>\n      <td>No Disponible</td>\n      <td>No Disponible</td>\n      <td>No Disponible</td>\n      <td>No Disponible</td>\n      <td>No</td>\n      <td>No Disponible</td>\n      <td>No Disponible</td>\n      <td>No</td>\n      <td>0</td>\n    </tr>\n    <tr>\n      <th>3</th>\n      <td>4803365</td>\n      <td>I01</td>\n      <td>Active</td>\n      <td>0.0</td>\n      <td>No Disponible</td>\n      <td>No Disponible</td>\n      <td>No Disponible</td>\n      <td>No Disponible</td>\n      <td>No Disponible</td>\n      <td>No Disponible</td>\n      <td>No Disponible</td>\n      <td>No Disponible</td>\n      <td>No Disponible</td>\n      <td>No Disponible</td>\n      <td>No Disponible</td>\n      <td>No</td>\n      <td>No Disponible</td>\n      <td>No Disponible</td>\n      <td>No</td>\n      <td>0</td>\n    </tr>\n    <tr>\n      <th>4</th>\n      <td>86052555</td>\n      <td>I01</td>\n      <td>Active</td>\n      <td>0.0</td>\n      <td>No Disponible</td>\n      <td>No Disponible</td>\n      <td>No Disponible</td>\n      <td>No Disponible</td>\n      <td>No Disponible</td>\n      <td>No Disponible</td>\n      <td>No Disponible</td>\n      <td>No Disponible</td>\n      <td>No Disponible</td>\n      <td>No Disponible</td>\n      <td>No Disponible</td>\n      <td>No</td>\n      <td>No Disponible</td>\n      <td>No Disponible</td>\n      <td>No</td>\n      <td>0</td>\n    </tr>\n    <tr>\n      <th>...</th>\n      <td>...</td>\n      <td>...</td>\n      <td>...</td>\n      <td>...</td>\n      <td>...</td>\n      <td>...</td>\n      <td>...</td>\n      <td>...</td>\n      <td>...</td>\n      <td>...</td>\n      <td>...</td>\n      <td>...</td>\n      <td>...</td>\n      <td>...</td>\n      <td>...</td>\n      <td>...</td>\n      <td>...</td>\n      <td>...</td>\n      <td>...</td>\n      <td>...</td>\n    </tr>\n    <tr>\n      <th>2432</th>\n      <td>11311497</td>\n      <td>I13</td>\n      <td>Active</td>\n      <td>0.0</td>\n      <td>No Disponible</td>\n      <td>No Disponible</td>\n      <td>No Disponible</td>\n      <td>No Disponible</td>\n      <td>No Disponible</td>\n      <td>No Disponible</td>\n      <td>No Disponible</td>\n      <td>No Disponible</td>\n      <td>No Disponible</td>\n      <td>No Disponible</td>\n      <td>No Disponible</td>\n      <td>No</td>\n      <td>No Disponible</td>\n      <td>No Disponible</td>\n      <td>No</td>\n      <td>0</td>\n    </tr>\n    <tr>\n      <th>2433</th>\n      <td>91514164</td>\n      <td>I22</td>\n      <td>Active</td>\n      <td>0.0</td>\n      <td>No Disponible</td>\n      <td>No Disponible</td>\n      <td>No Disponible</td>\n      <td>No Disponible</td>\n      <td>No Disponible</td>\n      <td>No Disponible</td>\n      <td>No Disponible</td>\n      <td>No Disponible</td>\n      <td>No Disponible</td>\n      <td>No Disponible</td>\n      <td>No Disponible</td>\n      <td>No</td>\n      <td>No Disponible</td>\n      <td>No Disponible</td>\n      <td>No</td>\n      <td>0</td>\n    </tr>\n    <tr>\n      <th>2434</th>\n      <td>38211942</td>\n      <td>I11</td>\n      <td>Active</td>\n      <td>0.0</td>\n      <td>No Disponible</td>\n      <td>No Disponible</td>\n      <td>No Disponible</td>\n      <td>No Disponible</td>\n      <td>No Disponible</td>\n      <td>No Disponible</td>\n      <td>No Disponible</td>\n      <td>No Disponible</td>\n      <td>No Disponible</td>\n      <td>No Disponible</td>\n      <td>No Disponible</td>\n      <td>No</td>\n      <td>No Disponible</td>\n      <td>No Disponible</td>\n      <td>No</td>\n      <td>0</td>\n    </tr>\n    <tr>\n      <th>2435</th>\n      <td>52355154</td>\n      <td>I11</td>\n      <td>Active</td>\n      <td>0.0</td>\n      <td>No Disponible</td>\n      <td>No Disponible</td>\n      <td>No Disponible</td>\n      <td>No Disponible</td>\n      <td>No Disponible</td>\n      <td>No Disponible</td>\n      <td>No Disponible</td>\n      <td>No Disponible</td>\n      <td>No Disponible</td>\n      <td>No Disponible</td>\n      <td>No Disponible</td>\n      <td>No</td>\n      <td>No Disponible</td>\n      <td>No Disponible</td>\n      <td>No</td>\n      <td>0</td>\n    </tr>\n    <tr>\n      <th>2436</th>\n      <td>7172426</td>\n      <td>I22</td>\n      <td>Active</td>\n      <td>0.0</td>\n      <td>No Disponible</td>\n      <td>No Disponible</td>\n      <td>No Disponible</td>\n      <td>No Disponible</td>\n      <td>No Disponible</td>\n      <td>No Disponible</td>\n      <td>No Disponible</td>\n      <td>No Disponible</td>\n      <td>No Disponible</td>\n      <td>No Disponible</td>\n      <td>No Disponible</td>\n      <td>No</td>\n      <td>No Disponible</td>\n      <td>No Disponible</td>\n      <td>No</td>\n      <td>0</td>\n    </tr>\n  </tbody>\n</table>\n<p>2437 rows × 20 columns</p>\n</div>"
     },
     "execution_count": 85,
     "metadata": {},
     "output_type": "execute_result"
    }
   ],
   "source": [
    "inscritos['Asistencia a sesiones'] = inscritos.filter(regex='^Control de').replace({'Si':1,                                                                                 'No':0,                                                                                 'No Disponible':0}).sum(axis=1)\n",
    "inscritos"
   ],
   "metadata": {
    "collapsed": false,
    "pycharm": {
     "name": "#%%\n"
    }
   }
  },
  {
   "cell_type": "code",
   "execution_count": 86,
   "outputs": [
    {
     "data": {
      "text/plain": "0    2083\n4     333\n3      14\n2       7\nName: Asistencia a sesiones, dtype: int64"
     },
     "execution_count": 86,
     "metadata": {},
     "output_type": "execute_result"
    }
   ],
   "source": [
    "inscritos['Asistencia a sesiones'].value_counts()"
   ],
   "metadata": {
    "collapsed": false,
    "pycharm": {
     "name": "#%%\n"
    }
   }
  },
  {
   "cell_type": "markdown",
   "source": [
    "## Asiste"
   ],
   "metadata": {
    "collapsed": false,
    "pycharm": {
     "name": "#%% md\n"
    }
   }
  },
  {
   "cell_type": "code",
   "execution_count": null,
   "outputs": [],
   "source": [],
   "metadata": {
    "collapsed": false,
    "pycharm": {
     "name": "#%%\n"
    }
   }
  }
 ],
 "metadata": {
  "kernelspec": {
   "display_name": "Python 3",
   "language": "python",
   "name": "python3"
  },
  "language_info": {
   "codemirror_mode": {
    "name": "ipython",
    "version": 2
   },
   "file_extension": ".py",
   "mimetype": "text/x-python",
   "name": "python",
   "nbconvert_exporter": "python",
   "pygments_lexer": "ipython2",
   "version": "2.7.6"
  }
 },
 "nbformat": 4,
 "nbformat_minor": 0
}