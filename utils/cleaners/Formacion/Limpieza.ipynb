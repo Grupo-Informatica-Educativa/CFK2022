{
 "cells": [
  {
   "cell_type": "markdown",
   "id": "87cfc4b5",
   "metadata": {
    "pycharm": {
     "name": "#%% md\n"
    }
   },
   "source": [
    "## ¿Qué cosas encontramos en este Notebook?\n",
    "\n",
    "- Descarga de datos Intelliboard (05/06/2021) Curso Inicial 1 - Cohorte 1\n",
    "    Filtrados por:    \n",
    "        - Cuestionario Inicial (10 puntos)\n",
    "        - U4 Cuestionario Final (25 puntos)\n",
    "\n",
    "    ¿Qué hacemos con estos datos?\n",
    "    \n",
    "        Hacer coincidir prepost en sus columnas y agregar la variable Instrumento que diferencie cual es cual.\n",
    "        Validar con la información que nos entrega David British, en el excel adjunto en la hoja Reporte, columnas Cuestionario Inicial, Cuestionario Final"
   ]
  },
  {
   "cell_type": "code",
   "execution_count": 1,
   "id": "7ebc44e8",
   "metadata": {
    "pycharm": {
     "name": "#%%\n"
    }
   },
   "outputs": [],
   "source": [
    "import pandas as pd\n",
    "import numpy as np\n",
    "pd.set_option('display.max_columns', None)"
   ]
  },
  {
   "cell_type": "code",
   "execution_count": 2,
   "id": "e3f450ce",
   "metadata": {
    "pycharm": {
     "name": "#%%\n"
    }
   },
   "outputs": [],
   "source": [
    "## Cargamos los datos  Intelliboard (05/06/2021) \n",
    "df_og = pd.read_csv(\"Inicial_C1_30062021.csv\",on_bad_lines='skip',low_memory=False)"
   ]
  },
  {
   "cell_type": "code",
   "execution_count": 3,
   "id": "72162a09",
   "metadata": {
    "pycharm": {
     "name": "#%%\n"
    }
   },
   "outputs": [],
   "source": [
    "df = df_og.copy()"
   ]
  },
  {
   "cell_type": "markdown",
   "id": "2be68655",
   "metadata": {
    "pycharm": {
     "name": "#%% md\n"
    }
   },
   "source": [
    "## Seleccionamos Pre y Post\n",
    "\n",
    "- Pre = 'Cuestionario Inicial (10 puntos)'\n",
    "- Post = 'U4 Cuestionario Final (25 puntos)'"
   ]
  },
  {
   "cell_type": "code",
   "execution_count": 4,
   "id": "ac87599a",
   "metadata": {
    "pycharm": {
     "name": "#%%\n"
    }
   },
   "outputs": [],
   "source": [
    "# The columns that we want right now\n",
    "# df.Encuesta.unique()\n",
    "cols = ['Cuestionario Inicial (10 puntos)','U4 Cuestionario Final (25 puntos)']\n",
    "\n",
    "df_pre = df[df['Encuesta'] == 'Cuestionario Inicial (10 puntos)'].copy()\n",
    "df_post = df[df['Encuesta'] == 'U4 Cuestionario Final (25 puntos)'].copy()"
   ]
  },
  {
   "cell_type": "markdown",
   "id": "5254981d",
   "metadata": {
    "pycharm": {
     "name": "#%% md\n"
    }
   },
   "source": [
    "### Buscando columnas repetidas - Pre\n"
   ]
  },
  {
   "cell_type": "code",
   "execution_count": 5,
   "id": "dc28181b",
   "metadata": {
    "pycharm": {
     "name": "#%%\n"
    }
   },
   "outputs": [],
   "source": [
    "# 13 y 15 en Pre\n",
    "df_pre_preg13 = df_pre[df_pre[\"Pregunta\"] == 'Por favor evalúe los\\nsiguientes enunciados de acuerdo con su experiencia:\\n'].copy()\n",
    "\n",
    "df_pre_preg13 = df_pre[df_pre.Respuesta.str.contains(\"Es preferible que las mujeres enseñen ciencias sociales y los hombres ciencias exactas.\").fillna(False)][['Nombre' ,'Apellido','Correo Electrónico', 'Pregunta', 'Respuesta']]\n",
    "df_pre_preg15 = df_pre[df_pre.Respuesta.str.contains(\"Sé cómo resolver los problemas técnicos \").fillna(False)][['Nombre' ,'Apellido','Correo Electrónico', 'Pregunta', 'Respuesta']]\n",
    "\n",
    "pivot_preg13 = df_pre_preg13.pivot_table(\n",
    "    index=['Nombre' ,'Apellido','Correo Electrónico'],\n",
    "    columns='Pregunta', \n",
    "    values='Respuesta', \n",
    "    aggfunc='first').reset_index()\n",
    "pivot_preg13.rename(columns={'Por favor evalúe los\\nsiguientes enunciados de acuerdo con su experiencia:\\n': \n",
    "                              \"13. Afirmaciones de Género\"},inplace=True)\n",
    "\n",
    "pivot_preg15 = df_pre_preg15.pivot_table(\n",
    "    index=['Nombre' ,'Apellido','Correo Electrónico'],\n",
    "    columns='Pregunta', \n",
    "    values='Respuesta', \n",
    "    aggfunc='first').reset_index()\n",
    "\n",
    "pivot_preg15.rename(columns={'Por favor evalúe los\\nsiguientes enunciados de acuerdo con su experiencia:\\n':\n",
    "                             \"15. Afirmaciones autoeficacia técnologica\"},inplace=True)\n",
    "\n",
    "\n",
    "# Eliminamos la columna en Pre para evitar repetidos\n",
    "\n",
    "df_pre = df_pre[df_pre['Pregunta'] != 'Por favor evalúe los\\nsiguientes enunciados de acuerdo con su experiencia:\\n']\n"
   ]
  },
  {
   "cell_type": "markdown",
   "id": "bfdef9ff",
   "metadata": {
    "pycharm": {
     "name": "#%% md\n"
    }
   },
   "source": [
    "### Buscando columnas repetidas - Post\n"
   ]
  },
  {
   "cell_type": "code",
   "execution_count": 6,
   "id": "50011cb0",
   "metadata": {
    "pycharm": {
     "name": "#%%\n"
    }
   },
   "outputs": [],
   "source": [
    "# 3 y 5 en Post\n",
    "df_post_rep = df_post[df_post[\"Pregunta\"] == 'Por favor evalúe los\\nsiguientes enunciados de acuerdo con su experiencia:\\n'].copy()\n",
    "\n",
    "df_post_rep3 = df_post_rep[df_post_rep.Respuesta.str.contains(\"Es preferible que las mujeres enseñen ciencias sociales y los hombres ciencias exactas.\").fillna(False)][['Nombre' ,'Apellido','Correo Electrónico', 'Pregunta', 'Respuesta']]\n",
    "df_post_rep5 = df_post_rep[df_post_rep.Respuesta.str.contains(\"Sé cómo resolver los problemas técnicos\").fillna(False)][['Nombre' ,'Apellido','Correo Electrónico', 'Pregunta', 'Respuesta']]\n",
    "\n",
    "pivot_preg3 = df_post_rep3.pivot_table(\n",
    "    index=['Nombre' ,'Apellido','Correo Electrónico'],\n",
    "    columns='Pregunta', \n",
    "    values='Respuesta', \n",
    "    aggfunc='first').reset_index()\n",
    "pivot_preg3.rename(columns={'Por favor evalúe los\\nsiguientes enunciados de acuerdo con su experiencia:\\n': \n",
    "                            \"13. Afirmaciones de Género\"},inplace=True)\n",
    "\n",
    "\n",
    "\n",
    "pivot_preg5 = df_post_rep5.pivot_table(\n",
    "    index=['Nombre' ,'Apellido','Correo Electrónico'],\n",
    "    columns='Pregunta', \n",
    "    values='Respuesta', \n",
    "    aggfunc='first').reset_index()\n",
    "\n",
    "pivot_preg5.rename(columns={'Por favor evalúe los\\nsiguientes enunciados de acuerdo con su experiencia:\\n': \n",
    "                            \"15. Afirmaciones autoeficacia técnologica\"},inplace=True)\n",
    "\n",
    "\n",
    "# Eliminamos la columna en Post para evitar repetidos\n",
    "\n",
    "df_post = df_post[df_post['Pregunta'] != 'Por favor evalúe los\\nsiguientes enunciados de acuerdo con su experiencia:\\n']\n"
   ]
  },
  {
   "cell_type": "markdown",
   "id": "f6446f6d",
   "metadata": {
    "pycharm": {
     "name": "#%% md\n"
    }
   },
   "source": [
    "### Pivot a todos los DataFrames"
   ]
  },
  {
   "cell_type": "code",
   "execution_count": 7,
   "id": "03a49ba1",
   "metadata": {
    "pycharm": {
     "name": "#%%\n"
    }
   },
   "outputs": [],
   "source": [
    "df_pre = df_pre.pivot_table(\n",
    "    index=['Nombre', 'Apellido', 'Correo Electrónico', 'Curso','Hora','Encuesta','ID Asignado Por Moodle'],\n",
    "    columns='Pregunta', \n",
    "    values='Respuesta', \n",
    "    aggfunc='first').reset_index()\n",
    "\n",
    "df_post = df_post.pivot_table(\n",
    "    index=['Nombre', 'Apellido', 'Correo Electrónico', 'Curso','Hora','Encuesta','ID Asignado Por Moodle'],\n",
    "    columns='Pregunta', \n",
    "    values='Respuesta', \n",
    "    aggfunc='first').reset_index()"
   ]
  },
  {
   "cell_type": "markdown",
   "id": "0f81e96d",
   "metadata": {
    "pycharm": {
     "name": "#%% md\n"
    }
   },
   "source": [
    "### Cambiando nombres a columnas"
   ]
  },
  {
   "cell_type": "code",
   "execution_count": 8,
   "id": "042b4cbc",
   "metadata": {
    "scrolled": false,
    "pycharm": {
     "name": "#%%\n"
    }
   },
   "outputs": [],
   "source": [
    "new_col_names = {\n",
    "    #'Nombre',\n",
    "    #'Apellido',\n",
    "    #'Correo Electrónico',\n",
    "    #'Curso',\n",
    "    #'Hora',\n",
    "    #'Encuesta',\n",
    "    #'ID Asignado Por Moodle',\n",
    "    \"Número de Cédula\": \"1. Cédula\",\n",
    "    \"Edad (Años)\": \"2. Edad\",\n",
    "    \"Su institución está en\\nun contexto:\": \"3. Contexto IDE\",\n",
    "    \"Género:\": \"4. Género\",\n",
    "    \"¿Es usted cabeza de hogar?\\n\\n\": \"5. Cabeza de Hogar\",\n",
    "    \"¿Cuál es su estado civil?\": \"6. Estado Civil\",\n",
    "    \"Número de horas de clases semanales que orienta (Solo números)\": \"7. Horas semanales\",\n",
    "    \"¿Es usted líder comunitario?\": \"8. ¿Es usted líder comunitario?\",\n",
    "    \"¿Cuáles de las siguientes\\náreas enseña y en qué grado? (Marque 'NS/NC' si no enseña el área)\": \"9. Áreas en las que enseña\",\n",
    "    \"¿De acuerdo con lo\\nanterior, usted es docente de áreas STEM (ciencias naturales, matemática,\\ntecnología e informática) o No STEM (ciencias sociales, educación artística,\\neducación física, educación religiosa, humanidades e idiomas extranjeros)?\": \"10. Es docente STEM\",\n",
    "    \"Su formación es en áreas \": \"11. Formación\",\n",
    "    \"¿Cuáles de las siguientes estrategias usted ha usado en sus clases? (Opción múltiple)\": \"12. Estrategias en clase\",\n",
    "    '¿Cuáles de las siguientes estrategias ha usado usted en sus clases? (Opción múltiple)': \"12. Estrategias en clase\", \n",
    "    \"Agregue cualquier comentario o aclaración sobre las preguntas anteriores.\": \"14. Comentarios.\",\n",
    "    \"Agregue cualquier comentario o aclaración sobre las preguntas anteriores. \": \"16. Comentarios.\",\n",
    "    \"Por favor evalúe las siguientes afirmaciones\\nsegún qué tan de acuerdo está usted con enseñar las siguientes prácticas como\\nobjetivos de aprendizaje relacionados con el pensamiento\\ncomputacional:\\n\": \"17. Practicas\",\n",
    "    \"Por favor evalúe los\\nsiguientes enunciados de acuerdo con qué tan preparado(a) se siente para\\nintegrar el pensamiento computacional en sus cursos: \": \"18. Integración Pensamiento Computacional\",\n",
    "    \"Agregue cualquier comentario\\no aclaración sobre las preguntas anteriores.\": \"19. Comentarios.\",\n",
    "    \"En una escala de 1 a 10\\n(donde 10 es muy a menudo), con qué frecuencia utilizarías las siguientes\\nprácticas pedagógicas para enseñar pensamiento computacional. Si no conoce alguna práctica pedagógica, por favor elija la opción NS/NC.\": \"20. Prácticas pedagógicas\",\n",
    "    'En una escala de 1 a 10\\n(donde 10 es muy a menudo), con qué frecuencia utilizarías las siguientes\\nprácticas pedagógicas para enseñar pensamiento computacional.\\xa0': \"20. Prácticas pedagógicas\",\n",
    "    'Agregue cualquier comentario\\no aclaración adicional sobre las estrategias de enseñanza de la pregunta\\nanterior.':  \"21. Comentarios.\",\n",
    "    \"Agregue cualquier comentario o aclaración adicional sobre las estrategias de enseñanza de la pregunta\\nanterior.\": \"21. Comentarios.\",\n",
    "    \"Cuando un estudiante se\\nenfrenta a una dificultad creando un programa y no sabe si está correcto, qué\\ntan a menudo, en una escala de 1-10 (donde 10 es siempre), usted:\": \"22. Estrategias contra dificultades\",\n",
    "    \"La docente Margarita decidió hacer que sus estudiantes de segundo de primaria utilicen los computadores del colegio para predecir el clima de una semana (temperatura, precipitaciones, y viento). Cada estudiante debe dibujar cómo se verá el clima en la\\n    ciudad en dicha semana. Margarita, creó un archivo compartido donde los estudiantes ingresarán la información. Luego tomaron las predicciones de modelos de Internet y los ingresaron en el mismo documento compartido. Durante una semana tomaron los\\n    datos reales, y luego, proyectaron en el tablero los datos predichos por los estudiantes, los del modelo de Internet, y los datos reales. Al finalizar, Margarita les mostró a los estudiantes cómo hacer un gráfico para comparar los diferentes datos.\\n\\n\\n\\n¿Está Margarita desarrollando el pensamiento computacional de sus estudiantes? Seleccione todas las respuestas que considere correctas.\\n\": \"24. Margarita\",\n",
    "    \"La cafetería del colegio\\nempacó almuerzos iguales para todos los estudiantes, menos los de Juan Arias y\\nMaría Vásquez que no pueden comer huevo. Los almuerzos están marcados con el apellido\\nde los estudiantes y organizados alfabéticamente. Para verificar que su\\nalmuerzo cumple con la restricción alimenticia María con ayuda de su profesor\\nbuscan en las cajas. María sabe que su almuerzo debe estar al final, así que\\nbusca hasta que encuentre una caja que comience por una letra cerca de la V. Cuando encuentra una que comienza con Trujillo, mira el último almuerzo de esa caja y se da\\ncuenta que termina en Zapata. Así, María se da cuenta que su almuerzo debe\\nestar allí.\\n\\n¿Está María usando el pensamiento computacional para encontrar su\\nalmuerzo? Seleccione todas las respuestas que considere correctas.\": \"25. Cafeteria del Colegio\",\n",
    "    \"Un ratón robot ha sido programado para\\nseguir las siguientes instrucciones:\\n\\n(1) Sigue hacia abajo hasta que haya un cruce\\na uno de los lados\\n(2) Cuando encuentres un cruce, atraviésalo\\n(3) Vuelve al paso (1).\\n\\nConsidera el siguiente laberinto para\\nnuestro ratón robot. ¿En cuál de los tubos debería comenzar el robot para\\nllegar al queso?\": \"26. Raton robot\",\n",
    "    \"Andrea hizo un diagrama\\nde flujo para diseñar el algoritmo que le permitirá encender automáticamente el\\nventilador cuando esté muy caliente su habitación. Sin embargo, no está segura\\nde que funcione. ¿Qué le podrías recomendar?\": \"27. Diagrama de flujo\",\n",
    "    \"Considera el siguiente\\nsegmento de código¿Después de que el anterior\\ncódigo se ejecuta, cual es el valor de la variable secuela?\": \"28. Variable secuela\",\n",
    "    \"Considera el siguiente\\ncódigo: Si a=3, b=8\\ny c=10, ¿Qué imprimirá el programa?\": \"29. A B C\",\n",
    "    \"Considera el siguiente\\ncódigo: Después de que se ejecute el código anterior, ¿Cuáles de los siguientes enunciados son\\xa0verdaderos?\\xa0\": \"30. Manzana Uvas Bananas\",\n",
    "    \"Suponiendo que “a” y “b”\\nson variables booleanas. Considera la siguiente expresión lógica:¿Cuál de las siguientes\\nafirmaciones describe de manera más precisa la evaluación de las expresiones?\": \"31. Variables booleanas\",\n",
    "    \"La alcaldía acaba de contratar a Valeria para hacer un programa en la Micro:bit que controle el alumbrado público de su ciudad. Utilizando el sensor de luz de la tarjeta Micro:bit, ella se dio cuenta que cuando mide niveles de luz con un valor por debajo\\n    de 100, ya está suficientemente oscuro como para prender el alumbrado público. El programa que hizo funciona bien para prender el alumbrado de la ciudad, pero luego cuando amanece, las luces siguen encendidas durante todo el día.\\n\\n\\nValeria no está segura cómo solucionarlo, pero tiene algunas ideas que cree que podrían funcionar. ¿Cuál de las siguientes opciones crees que debería usar Valeria?\\n\\n\\n  \\n    \\n      Imagen 1\\n    \\n    \\n      Imagen 2\\n    \\n  \\n  \\n    \\n      Imagen 3\\n    \\n    \\n      Imagen 4\\n    \\n  \\n\": \"32. Alcaldía Valeria\",\n",
    "    \"¿Qué botella debe cambiarse\\nde color para que el resultado final sea una botella de color blanco?\\xa0 Tenga en cuenta lo que hace cada máquina\\nrecicladora que se usa en este sistema.\": \"33. Botella de Color\",\n",
    "    \"Teniendo en cuenta el\\nsiguiente fragmento de código, Alejandra responde a la pregunta ¿Cuál será el\\nvalor final de “Y”? afirmando que el valor final será 44. El código retorna 120¿Qué opinas de la\\nrespuesta de Alejandra?\": \"34. Alejandra codigo bloque\",\n",
    "     'Agregue cualquier comentario o aclaración sobre las preguntas anteriores.\\xa0': \"35. Comentarios\"\n",
    "}\n",
    "\n",
    "\n",
    "df_pre.rename(columns=new_col_names,inplace=True)\n",
    "df_post.rename(columns=new_col_names,inplace=True)\n"
   ]
  },
  {
   "cell_type": "markdown",
   "id": "3536dbae",
   "metadata": {
    "pycharm": {
     "name": "#%% md\n"
    }
   },
   "source": [
    "### Uniendo columna 13 y 15"
   ]
  },
  {
   "cell_type": "code",
   "execution_count": 9,
   "id": "b73cea20",
   "metadata": {
    "pycharm": {
     "name": "#%%\n"
    }
   },
   "outputs": [],
   "source": [
    "df_pre = df_pre.merge(pivot_preg13.copy(),on=['Nombre', 'Apellido', 'Correo Electrónico']).copy()\n",
    "df_pre = df_pre.merge(pivot_preg15.copy(),on=['Nombre', 'Apellido', 'Correo Electrónico']).copy()\n",
    "\n",
    "df_post = df_post.merge(pivot_preg3.copy(),on=['Nombre', 'Apellido', 'Correo Electrónico']).copy()\n",
    "df_post = df_post.merge(pivot_preg5.copy(),on=['Nombre', 'Apellido', 'Correo Electrónico']).copy()"
   ]
  },
  {
   "cell_type": "markdown",
   "id": "684d45f2",
   "metadata": {
    "pycharm": {
     "name": "#%% md\n"
    }
   },
   "source": [
    "### Eliminando columnas que se colaron*"
   ]
  },
  {
   "cell_type": "code",
   "execution_count": 10,
   "id": "a489a859",
   "metadata": {
    "pycharm": {
     "name": "#%%\n"
    }
   },
   "outputs": [],
   "source": [
    "df_pre.drop('Agregue cualquier comentario\\no aclaración sobre las preguntas anteriores.',axis=1,inplace=True)"
   ]
  },
  {
   "cell_type": "markdown",
   "id": "68659657",
   "metadata": {
    "pycharm": {
     "name": "#%% md\n"
    }
   },
   "source": [
    "# Limpiando y extendiendo columnas\n",
    "\n",
    "- 8. ¿Es usted líder comunitario?\n",
    "- 9. Áreas en las que enseña\n",
    "- 12. Estrategias en clase\n",
    "- 13. Afirmaciones de Género\n",
    "- 15. Afirmaciones autoeficacia técnologica\n",
    "- 17. Practicas\n",
    "- 18. Integración Pensamiento Computacional\n",
    "- 20. Prácticas pedagógicas\n",
    "- 22. Estrategias contra dificultades\n",
    "- 24. Margarita\n",
    "- 25. Cafeteria del Colegio"
   ]
  },
  {
   "cell_type": "markdown",
   "id": "fec2751b",
   "metadata": {
    "pycharm": {
     "name": "#%% md\n"
    }
   },
   "source": [
    "## Pregunta 8\n",
    "\n",
    "### Pre"
   ]
  },
  {
   "cell_type": "code",
   "execution_count": 11,
   "id": "e268f06c",
   "metadata": {
    "pycharm": {
     "name": "#%%\n"
    }
   },
   "outputs": [],
   "source": [
    "### nadie nos paró bolas\n",
    "\n",
    "#col = \"8. ¿Es usted líder comunitario?\"\n",
    "#df_pre[col].fillna(\"No\").value_counts()\n"
   ]
  },
  {
   "cell_type": "markdown",
   "id": "64b1770a",
   "metadata": {
    "pycharm": {
     "name": "#%% md\n"
    }
   },
   "source": [
    "## Pregunta 9\n",
    "\n",
    "### Pre"
   ]
  },
  {
   "cell_type": "code",
   "execution_count": 12,
   "id": "27288828",
   "metadata": {
    "pycharm": {
     "name": "#%%\n"
    }
   },
   "outputs": [],
   "source": [
    "col = \"9. Áreas en las que enseña\"\n",
    "df_pre[col] = df_pre[col].str.replace('-1', '0')\n",
    "temp = df_pre[col].str.split(r'\\b\\D+\\b', expand=True)\n",
    "temp.rename({\n",
    "    1: '9.1 Ciencias naturales y educación ambiental',\n",
    "    2: '9.2 Ciencias sociales, historia, geografía, constitución política y democracia',\n",
    "    3: '9.3 Educación artística',\n",
    "    4: '9.4 Educación ética y en valores humanos',\n",
    "    5: '9.5 Educación física, recreación y deportes',\n",
    "    6: '9.6 Educación religiosa',\n",
    "    7: '9.7 Humanidades, lengua castellana e idiomas extranjeros',\n",
    "    8: '9.8 Matemáticas',\n",
    "    9: '9.9 Tecnología e informática',\n",
    "    10: '9.10 Otro'\n",
    "}, axis=1, inplace=True)\n",
    "temp.drop([0], axis=1, inplace=True)\n",
    "for col in temp.columns:\n",
    "        df_pre[col] = temp[col]"
   ]
  },
  {
   "cell_type": "markdown",
   "id": "203b72c0",
   "metadata": {
    "pycharm": {
     "name": "#%% md\n"
    }
   },
   "source": [
    "## Pregunta 12\n",
    "\n",
    "### Preparación"
   ]
  },
  {
   "cell_type": "code",
   "execution_count": 13,
   "id": "d5d16d65",
   "metadata": {
    "pycharm": {
     "name": "#%%\n"
    }
   },
   "outputs": [],
   "source": [
    "def divide_question_YES_NO(num_col, str_col, opciones, df):\n",
    "    for i, op in enumerate(opciones):\n",
    "        #print(num_col, i)\n",
    "        subpreg = f'{num_col}.{i+1} {op}'\n",
    "        mask = df[str_col].str.contains(op, na=False)\n",
    "        df[subpreg] = mask.copy()\n",
    "        df.loc[:, subpreg] = df.loc[:, subpreg].replace({True: 'SI', False: 'NO'}).copy()\n",
    "        \n",
    "        \n",
    "opciones_g =[\n",
    "    \"Realizar clubes y actividades extracurriculares para niñas y jóvenes como refuerzo de lo visto en las class de áreas STEM.\",\n",
    "    \"Destacar y reconocer los logros de las niñas y jóvenes, por ejemplo, promover concursos diferenciados por género, como, premio la niña científica y el niño científico.\"\n",
    "    'Dar referencias o modelos de mujeres destacadas en las áreas STEM, por ejemplo, mostrar la película de Marie Curie.',## Esta no apareceeeeee\n",
    "    \"Motivar que las niñas participen y sean escuchadas, por ejemplo, alternándolas con los niños.\",\n",
    "    \"Estimular el liderazgo femenino, por ejemplo, que las niñas y adolescentes sean representantes de grupo.\",\n",
    "    \"Generar espacios de confianza para las niñas, por ejemplo, realizando reflexiones sobre el género al comienzo de la clase.\",\n",
    "    \"Prohibir y corregir los comentarios, actitudes y acciones sexistas.\",\n",
    "    'Utilizar lenguaje inclusivo y no realizar estereotipos de género, por ejemplo, decir \"todas las personas* en vez de \"todos los niños\" evitar decir que las niñas son delicadas.',\n",
    "    \"Tratos y estímulos igualitarios a toda y todo estudiante independientemente de su género.\",\n",
    "    \"Observar el comportamiento de los niños hacia las niñas porque a ellas no se les puede tocar ni con el pétalo de una rosa.\"\n",
    "]\n",
    "\n",
    "de_acuerdo= {\n",
    "    1: 'Totalmente en desacuerdo', \n",
    "    2: 'En desacuerdo',\n",
    "    3: 'Neutro',\n",
    "    4: 'De acuerdo',\n",
    "    5: 'Totalmente de acuerdo'\n",
    "}\n",
    "\n",
    "col = \"12. Estrategias en clase\""
   ]
  },
  {
   "cell_type": "markdown",
   "id": "9654b461",
   "metadata": {
    "pycharm": {
     "name": "#%% md\n"
    }
   },
   "source": [
    "### Pre"
   ]
  },
  {
   "cell_type": "code",
   "execution_count": 14,
   "id": "b71992ff",
   "metadata": {
    "pycharm": {
     "name": "#%%\n"
    }
   },
   "outputs": [],
   "source": [
    "divide_question_YES_NO(12, col, opciones_g, df_pre)"
   ]
  },
  {
   "cell_type": "markdown",
   "id": "dcc508b7",
   "metadata": {
    "pycharm": {
     "name": "#%% md\n"
    }
   },
   "source": [
    "### Post"
   ]
  },
  {
   "cell_type": "code",
   "execution_count": 15,
   "id": "d2e10374",
   "metadata": {
    "pycharm": {
     "name": "#%%\n"
    }
   },
   "outputs": [],
   "source": [
    "divide_question_YES_NO(12, col, opciones_g, df_post)"
   ]
  },
  {
   "cell_type": "code",
   "execution_count": 16,
   "outputs": [
    {
     "data": {
      "text/plain": "'Dar referencias o modelos de mujeres destacadas en las áreas STEM, por ejemplo, mostrar la película de Marie Curie., Motivar que las niñas participen y sean escuchadas, por ejemplo, alternándolas con los niños., Estimular el liderazgo femenino, por ejemplo, que las niñas y adolescentes sean representantes de grupo.'"
     },
     "execution_count": 16,
     "metadata": {},
     "output_type": "execute_result"
    }
   ],
   "source": [
    "df_post['12. Estrategias en clase'].unique()[3]"
   ],
   "metadata": {
    "collapsed": false,
    "pycharm": {
     "name": "#%%\n"
    }
   }
  },
  {
   "cell_type": "code",
   "execution_count": 17,
   "outputs": [
    {
     "data": {
      "text/plain": "Pregunta          Nombre           Apellido         Correo Electrónico  \\\n0         ANGEL HERNANDO       Cruz  Aldana     angelhcruz@hotmail.com   \n1                 Adrian       Armero Muñoz           adr33a@gmail.com   \n2                Adriana  Lasprilla Herrera         arranala@gmail.com   \n3         Adriana Esther       Ortega Avila      esther8mayo@gmail.com   \n4          Adriana Maria       Peña Bolivar   adriana.mapb@hotmail.com   \n..                   ...                ...                        ...   \n486          Yuly Andrea    Barahona Pinzón      andrebp19@hotmail.com   \n487         Zaida Yamile     Alvarez Sierra      zayda1982@hotmail.com   \n488              Zenaida    Vergel Boli Var    zenaidavergel@gmail.com   \n489        Yeison Andres    Guerrero Osorio  yeisondigital@hotmail.com   \n490         Óscar  David     Palacio  Muñoz      palacio2805@gmail.com   \n\nPregunta                   Curso                 Hora  \\\n0         Curso Inicial 2022 I18  10/06/2022 15:29:54   \n1         Curso Inicial 2022 I12  08/06/2022 22:11:33   \n2         Curso Inicial 2022 I08  09/06/2022 16:38:14   \n3         Curso Inicial 2022 I04  09/06/2022 21:47:01   \n4         Curso Inicial 2022 I19  07/06/2022 13:23:33   \n..                           ...                  ...   \n486       Curso Inicial 2022 I06  24/05/2022 22:44:54   \n487       Curso Inicial 2022 I18  03/06/2022 18:21:18   \n488       Curso Inicial 2022 I19  07/06/2022 14:58:02   \n489       Curso Inicial 2022 I02  31/05/2022 19:01:09   \n490       Curso Inicial 2022 I07  10/06/2022 10:35:15   \n\nPregunta                           Encuesta  ID Asignado Por Moodle  \\\n0         U4 Cuestionario Final (25 puntos)                  1575.0   \n1         U4 Cuestionario Final (25 puntos)                  1052.0   \n2         U4 Cuestionario Final (25 puntos)                   702.0   \n3         U4 Cuestionario Final (25 puntos)                   353.0   \n4         U4 Cuestionario Final (25 puntos)                  1700.0   \n..                                      ...                     ...   \n486       U4 Cuestionario Final (25 puntos)                   555.0   \n487       U4 Cuestionario Final (25 puntos)                  2132.0   \n488       U4 Cuestionario Final (25 puntos)                  1699.0   \n489       U4 Cuestionario Final (25 puntos)                   256.0   \n490       U4 Cuestionario Final (25 puntos)                   611.0   \n\nPregunta                                   19. Comentarios. 21. Comentarios.  \\\n0                                                       NaN              NaN   \n1                                                       NaN              NaN   \n2                                                       NaN              NaN   \n3         La encuesta se considera desde mis principios ...  Sin Comentarios   \n4                                                       NaN              NaN   \n..                                                      ...              ...   \n486                                                     NaN              NaN   \n487                                                 NINGUNO              NaN   \n488       La equidad de género implica que debe existir ...              NaN   \n489                                                     NaN              NaN   \n490        Las interrogantes son sexistas en muchos casos.           Ninguna   \n\nPregunta 14. Comentarios.  35. Comentarios  \\\n0                     NaN              NaN   \n1                     NaN              NaN   \n2                     NaN              NaN   \n3         Sin Comentarios  Sin comentarios   \n4                     NaN              NaN   \n..                    ...              ...   \n486                   NaN              NaN   \n487               NINGUNO          NINGUNO   \n488                   NaN              NaN   \n489                   NaN              NaN   \n490              Ninguna.        Ninguna.    \n\nPregunta                              27. Diagrama de flujo  \\\n0         El programa no funciona, no debería apagar el ...   \n1         El programa si funciona y lo puede implementar...   \n2             El programa no funciona, falta incluir el Fin   \n3             El programa no funciona, falta incluir el Fin   \n4         El programa no funciona, debe capturar nuevame...   \n..                                                      ...   \n486       El programa si funciona y lo puede implementar...   \n487           El programa no funciona, falta incluir el Fin   \n488       El programa si funciona y lo puede implementar...   \n489       El programa no funciona, debe capturar nuevame...   \n490       El programa si funciona y lo puede implementar...   \n\nPregunta 30. Manzana Uvas Bananas 29. A B C 28. Variable secuela  \\\n0             No sé/No lo conozco        10                    3   \n1                        II y III        10                    3   \n2                    II solamente        10                    3   \n3             No sé/No lo conozco        10                    3   \n4                        II y III         8                    2   \n..                            ...       ...                  ...   \n486                   I, II y III        10                    3   \n487                  II solamente        10  No sé/No lo conozco   \n488                      II y III        10                    6   \n489           No sé/No lo conozco        10  No sé/No lo conozco   \n490                      II y III        10                    6   \n\nPregunta                22. Estrategias contra dificultades  \\\n0         Le explicaría la respuesta correcta - 7, Le su...   \n1         Le explicaría la respuesta correcta - 5, Le su...   \n2         Le explicaría la respuesta correcta - 6, Le su...   \n3         Le explicaría la respuesta correcta - 9, Le su...   \n4         Le explicaría la respuesta correcta - 10, Le s...   \n..                                                      ...   \n486       Le explicaría la respuesta correcta - 5, Le su...   \n487       Le explicaría la respuesta correcta - 3, Le su...   \n488       Le explicaría la respuesta correcta - 1, Le su...   \n489       Le explicaría la respuesta correcta - 1, Le su...   \n490       Le explicaría la respuesta correcta - 10, Le s...   \n\nPregunta                          20. Prácticas pedagógicas  \\\n0         Actividades desconectadas - 10, Usa-Modifica-C...   \n1         Actividades desconectadas - 7, Usa-Modifica-Cr...   \n2         Actividades desconectadas - 9, Usa-Modifica-Cr...   \n3         Actividades desconectadas - 10, Usa-Modifica-C...   \n4         Actividades desconectadas - 10, Usa-Modifica-C...   \n..                                                      ...   \n486       Actividades desconectadas - 8, Usa-Modifica-Cr...   \n487       Actividades desconectadas - 10, Usa-Modifica-C...   \n488       Actividades desconectadas - 7, Usa-Modifica-Cr...   \n489       Actividades desconectadas - 10, Usa-Modifica-C...   \n490       Actividades desconectadas - 3, Usa-Modifica-Cr...   \n\nPregunta 32. Alcaldía Valeria  \\\n0                    Imagen 3   \n1                    Imagen 3   \n2                    Imagen 2   \n3                    Imagen 2   \n4                    Imagen 3   \n..                        ...   \n486                  Imagen 3   \n487                  Imagen 4   \n488                  Imagen 1   \n489                  Imagen 3   \n490                  Imagen 3   \n\nPregunta                          25. Cafeteria del Colegio  \\\n0         Si, María está dividiendo el problema en probl...   \n1         Si, María está dividiendo el problema en probl...   \n2         Si, María está usando un algoritmo para encont...   \n3         Si, María está dividiendo el problema en probl...   \n4         Si, María está dividiendo el problema en probl...   \n..                                                      ...   \n486       Si, María está dividiendo el problema en probl...   \n487       Si, María está usando un algoritmo para encont...   \n488       Si, María está dividiendo el problema en probl...   \n489       Si, María está dividiendo el problema en probl...   \n490       Si, María está usando un algoritmo para encont...   \n\nPregunta                                      24. Margarita   1. Cédula  \\\n0         Si, los estudiantes están aprendiendo sobre mo...    13747723   \n1         Si, los estudiantes están aprendiendo sobre mo...     5230968   \n2         Si, los estudiantes están aprendiendo a recole...    52745094   \n3         Si, los estudiantes están aprendiendo sobre mo...    26202775   \n4         Si, los estudiantes están aprendiendo sobre mo...    60264510   \n..                                                      ...         ...   \n486       Si, los estudiantes están aprendiendo sobre mo...  1072466102   \n487       Si, los estudiantes están aprendiendo sobre mo...    37294417   \n488       Si, los estudiantes están aprendiendo sobre mo...    27592101   \n489       No, los estudiantes sólo están aprendiendo a c...  1022953021   \n490       Si, los estudiantes están aprendiendo sobre mo...  1035415429   \n\nPregunta                                      17. Practicas  \\\n0         Usar el correo electrónico - 5, Crear y usar d...   \n1         Usar el correo electrónico - 4, Crear y usar d...   \n2         Usar el correo electrónico - 5, Crear y usar d...   \n3         Usar el correo electrónico - 4, Crear y usar d...   \n4         Usar el correo electrónico - 4, Crear y usar d...   \n..                                                      ...   \n486       Usar el correo electrónico - 2, Crear y usar d...   \n487       Usar el correo electrónico - 5, Crear y usar d...   \n488       Usar el correo electrónico - 1, Crear y usar d...   \n489       Usar el correo electrónico - 3, Crear y usar d...   \n490       Usar el correo electrónico - 5, Crear y usar d...   \n\nPregunta          18. Integración Pensamiento Computacional  \\\n0         Puedo aplicar las prácticas y habilidades del ...   \n1         Puedo aplicar las prácticas y habilidades del ...   \n2         Puedo aplicar las prácticas y habilidades del ...   \n3         Puedo aplicar las prácticas y habilidades del ...   \n4         Puedo aplicar las prácticas y habilidades del ...   \n..                                                      ...   \n486       Puedo aplicar las prácticas y habilidades del ...   \n487       Puedo aplicar las prácticas y habilidades del ...   \n488       Puedo aplicar las prácticas y habilidades del ...   \n489       Puedo aplicar las prácticas y habilidades del ...   \n490       Puedo aplicar las prácticas y habilidades del ...   \n\nPregunta                            31. Variables booleanas  \\\n0         La segunda expresión es verdadera si “(a O b)”...   \n1         La primera expresión es verdadera si “((NO a) ...   \n2                                       No sé/No lo conozco   \n3         La segunda expresión es verdadera si “(a O b)”...   \n4         La segunda expresión es verdadera solamente si...   \n..                                                      ...   \n486       La segunda expresión es verdadera solamente si...   \n487                                     No sé/No lo conozco   \n488       La segunda expresión es verdadera si “(a O b)”...   \n489                                     No sé/No lo conozco   \n490       La primera expresión es verdadera si “((NO a) ...   \n\nPregunta            34. Alejandra codigo bloque 26. Raton robot  \\\n0         Está equivocada, el resultado es 120.               3   \n1         Está equivocada, el resultado es 120.               4   \n2                           No sé/No lo conozco               3   \n3            Está correcta, el resultado es 44.               4   \n4            Está correcta, el resultado es 44.               4   \n..                                          ...             ...   \n486       Está equivocada, el resultado es 120.               3   \n487       Está equivocada, el resultado es 120.               4   \n488       Está equivocada, el resultado es 120.               3   \n489       Está equivocada, el resultado es 120.               3   \n490       Está equivocada, el resultado es 120.               3   \n\nPregunta                           12. Estrategias en clase  \\\n0         Dar referencias o modelos de mujeres destacada...   \n1         Estimular el liderazgo femenino, por ejemplo, ...   \n2         Motivar que las niñas participen y sean escuch...   \n3         Dar referencias o modelos de mujeres destacada...   \n4         Realizar clubes y actividades extracurriculare...   \n..                                                      ...   \n486       Motivar que las niñas participen y sean escuch...   \n487       Realizar clubes y actividades extracurriculare...   \n488       Dar referencias o modelos de mujeres destacada...   \n489       Motivar que las niñas participen y sean escuch...   \n490       Estimular el liderazgo femenino, por ejemplo, ...   \n\nPregunta                   33. Botella de Color  \\\n0                   La botella C debe ser verde   \n1                   La botella C debe ser verde   \n2                   La botella D debe ser verde   \n3                   La botella D debe ser verde   \n4                   La botella C debe ser verde   \n..                                          ...   \n486       Ninguna botella debe cambiar de color   \n487                 La botella B debe ser verde   \n488                 La botella B debe ser verde   \n489                 La botella B debe ser verde   \n490                 La botella D debe ser verde   \n\nPregunta                         13. Afirmaciones de Género  \\\n0         Es preferible que las mujeres enseñen ciencias...   \n1         Es preferible que las mujeres enseñen ciencias...   \n2         Es preferible que las mujeres enseñen ciencias...   \n3         Es preferible que las mujeres enseñen ciencias...   \n4         Es preferible que las mujeres enseñen ciencias...   \n..                                                      ...   \n486       Es preferible que las mujeres enseñen ciencias...   \n487       Es preferible que las mujeres enseñen ciencias...   \n488       Es preferible que las mujeres enseñen ciencias...   \n489       Es preferible que las mujeres enseñen ciencias...   \n490       Es preferible que las mujeres enseñen ciencias...   \n\nPregunta          15. Afirmaciones autoeficacia técnologica  \\\n0         Sé cómo resolver los problemas técnicos cuando...   \n1         Sé cómo resolver los problemas técnicos cuando...   \n2         Sé cómo resolver los problemas técnicos cuando...   \n3         Sé cómo resolver los problemas técnicos cuando...   \n4         Sé cómo resolver los problemas técnicos cuando...   \n..                                                      ...   \n486       Sé cómo resolver los problemas técnicos cuando...   \n487       Sé cómo resolver los problemas técnicos cuando...   \n488       Sé cómo resolver los problemas técnicos cuando...   \n489       Sé cómo resolver los problemas técnicos cuando...   \n490       Sé cómo resolver los problemas técnicos cuando...   \n\nPregunta 12.1 Realizar clubes y actividades extracurriculares para niñas y jóvenes como refuerzo de lo visto en las class de áreas STEM.  \\\n0                                                        NO                                                                                \n1                                                        NO                                                                                \n2                                                        NO                                                                                \n3                                                        NO                                                                                \n4                                                        NO                                                                                \n..                                                      ...                                                                                \n486                                                      NO                                                                                \n487                                                      NO                                                                                \n488                                                      NO                                                                                \n489                                                      NO                                                                                \n490                                                      NO                                                                                \n\nPregunta 12.2 Destacar y reconocer los logros de las niñas y jóvenes, por ejemplo, promover concursos diferenciados por género, como, premio la niña científica y el niño científico.Dar referencias o modelos de mujeres destacadas en las áreas STEM, por ejemplo, mostrar la película de Marie Curie.  \\\n0                                                        NO                                                                                                                                                                                                                                                \n1                                                        NO                                                                                                                                                                                                                                                \n2                                                        NO                                                                                                                                                                                                                                                \n3                                                        NO                                                                                                                                                                                                                                                \n4                                                        NO                                                                                                                                                                                                                                                \n..                                                      ...                                                                                                                                                                                                                                                \n486                                                      NO                                                                                                                                                                                                                                                \n487                                                      NO                                                                                                                                                                                                                                                \n488                                                      NO                                                                                                                                                                                                                                                \n489                                                      NO                                                                                                                                                                                                                                                \n490                                                      NO                                                                                                                                                                                                                                                \n\nPregunta 12.3 Motivar que las niñas participen y sean escuchadas, por ejemplo, alternándolas con los niños.  \\\n0                                                        SI                                                   \n1                                                        NO                                                   \n2                                                        SI                                                   \n3                                                        SI                                                   \n4                                                        SI                                                   \n..                                                      ...                                                   \n486                                                      SI                                                   \n487                                                      SI                                                   \n488                                                      NO                                                   \n489                                                      SI                                                   \n490                                                      NO                                                   \n\nPregunta 12.4 Estimular el liderazgo femenino, por ejemplo, que las niñas y adolescentes sean representantes de grupo.  \\\n0                                                        NO                                                              \n1                                                        SI                                                              \n2                                                        SI                                                              \n3                                                        SI                                                              \n4                                                        SI                                                              \n..                                                      ...                                                              \n486                                                      SI                                                              \n487                                                      SI                                                              \n488                                                      SI                                                              \n489                                                      SI                                                              \n490                                                      SI                                                              \n\nPregunta 12.5 Generar espacios de confianza para las niñas, por ejemplo, realizando reflexiones sobre el género al comienzo de la clase.  \\\n0                                                        SI                                                                                \n1                                                        NO                                                                                \n2                                                        NO                                                                                \n3                                                        NO                                                                                \n4                                                        SI                                                                                \n..                                                      ...                                                                                \n486                                                      SI                                                                                \n487                                                      SI                                                                                \n488                                                      SI                                                                                \n489                                                      SI                                                                                \n490                                                      SI                                                                                \n\nPregunta 12.6 Prohibir y corregir los comentarios, actitudes y acciones sexistas.  \\\n0                                                        NO                         \n1                                                        SI                         \n2                                                        SI                         \n3                                                        NO                         \n4                                                        SI                         \n..                                                      ...                         \n486                                                      SI                         \n487                                                      SI                         \n488                                                      NO                         \n489                                                      SI                         \n490                                                      SI                         \n\nPregunta 12.7 Utilizar lenguaje inclusivo y no realizar estereotipos de género, por ejemplo, decir \"todas las personas* en vez de \"todos los niños\" evitar decir que las niñas son delicadas.  \\\n0                                                        NO                                                                                                                                     \n1                                                        NO                                                                                                                                     \n2                                                        NO                                                                                                                                     \n3                                                        NO                                                                                                                                     \n4                                                        NO                                                                                                                                     \n..                                                      ...                                                                                                                                     \n486                                                      NO                                                                                                                                     \n487                                                      NO                                                                                                                                     \n488                                                      NO                                                                                                                                     \n489                                                      NO                                                                                                                                     \n490                                                      NO                                                                                                                                     \n\nPregunta 12.8 Tratos y estímulos igualitarios a toda y todo estudiante independientemente de su género.  \\\n0                                                        NO                                               \n1                                                        SI                                               \n2                                                        SI                                               \n3                                                        NO                                               \n4                                                        SI                                               \n..                                                      ...                                               \n486                                                      SI                                               \n487                                                      SI                                               \n488                                                      SI                                               \n489                                                      SI                                               \n490                                                      SI                                               \n\nPregunta 12.9 Observar el comportamiento de los niños hacia las niñas porque a ellas no se les puede tocar ni con el pétalo de una rosa.  \n0                                                        NO                                                                               \n1                                                        NO                                                                               \n2                                                        NO                                                                               \n3                                                        NO                                                                               \n4                                                        SI                                                                               \n..                                                      ...                                                                               \n486                                                      NO                                                                               \n487                                                      SI                                                                               \n488                                                      NO                                                                               \n489                                                      NO                                                                               \n490                                                      NO                                                                               \n\n[491 rows x 39 columns]",
      "text/html": "<div>\n<style scoped>\n    .dataframe tbody tr th:only-of-type {\n        vertical-align: middle;\n    }\n\n    .dataframe tbody tr th {\n        vertical-align: top;\n    }\n\n    .dataframe thead th {\n        text-align: right;\n    }\n</style>\n<table border=\"1\" class=\"dataframe\">\n  <thead>\n    <tr style=\"text-align: right;\">\n      <th>Pregunta</th>\n      <th>Nombre</th>\n      <th>Apellido</th>\n      <th>Correo Electrónico</th>\n      <th>Curso</th>\n      <th>Hora</th>\n      <th>Encuesta</th>\n      <th>ID Asignado Por Moodle</th>\n      <th>19. Comentarios.</th>\n      <th>21. Comentarios.</th>\n      <th>14. Comentarios.</th>\n      <th>35. Comentarios</th>\n      <th>27. Diagrama de flujo</th>\n      <th>30. Manzana Uvas Bananas</th>\n      <th>29. A B C</th>\n      <th>28. Variable secuela</th>\n      <th>22. Estrategias contra dificultades</th>\n      <th>20. Prácticas pedagógicas</th>\n      <th>32. Alcaldía Valeria</th>\n      <th>25. Cafeteria del Colegio</th>\n      <th>24. Margarita</th>\n      <th>1. Cédula</th>\n      <th>17. Practicas</th>\n      <th>18. Integración Pensamiento Computacional</th>\n      <th>31. Variables booleanas</th>\n      <th>34. Alejandra codigo bloque</th>\n      <th>26. Raton robot</th>\n      <th>12. Estrategias en clase</th>\n      <th>33. Botella de Color</th>\n      <th>13. Afirmaciones de Género</th>\n      <th>15. Afirmaciones autoeficacia técnologica</th>\n      <th>12.1 Realizar clubes y actividades extracurriculares para niñas y jóvenes como refuerzo de lo visto en las class de áreas STEM.</th>\n      <th>12.2 Destacar y reconocer los logros de las niñas y jóvenes, por ejemplo, promover concursos diferenciados por género, como, premio la niña científica y el niño científico.Dar referencias o modelos de mujeres destacadas en las áreas STEM, por ejemplo, mostrar la película de Marie Curie.</th>\n      <th>12.3 Motivar que las niñas participen y sean escuchadas, por ejemplo, alternándolas con los niños.</th>\n      <th>12.4 Estimular el liderazgo femenino, por ejemplo, que las niñas y adolescentes sean representantes de grupo.</th>\n      <th>12.5 Generar espacios de confianza para las niñas, por ejemplo, realizando reflexiones sobre el género al comienzo de la clase.</th>\n      <th>12.6 Prohibir y corregir los comentarios, actitudes y acciones sexistas.</th>\n      <th>12.7 Utilizar lenguaje inclusivo y no realizar estereotipos de género, por ejemplo, decir \"todas las personas* en vez de \"todos los niños\" evitar decir que las niñas son delicadas.</th>\n      <th>12.8 Tratos y estímulos igualitarios a toda y todo estudiante independientemente de su género.</th>\n      <th>12.9 Observar el comportamiento de los niños hacia las niñas porque a ellas no se les puede tocar ni con el pétalo de una rosa.</th>\n    </tr>\n  </thead>\n  <tbody>\n    <tr>\n      <th>0</th>\n      <td>ANGEL HERNANDO</td>\n      <td>Cruz  Aldana</td>\n      <td>angelhcruz@hotmail.com</td>\n      <td>Curso Inicial 2022 I18</td>\n      <td>10/06/2022 15:29:54</td>\n      <td>U4 Cuestionario Final (25 puntos)</td>\n      <td>1575.0</td>\n      <td>NaN</td>\n      <td>NaN</td>\n      <td>NaN</td>\n      <td>NaN</td>\n      <td>El programa no funciona, no debería apagar el ...</td>\n      <td>No sé/No lo conozco</td>\n      <td>10</td>\n      <td>3</td>\n      <td>Le explicaría la respuesta correcta - 7, Le su...</td>\n      <td>Actividades desconectadas - 10, Usa-Modifica-C...</td>\n      <td>Imagen 3</td>\n      <td>Si, María está dividiendo el problema en probl...</td>\n      <td>Si, los estudiantes están aprendiendo sobre mo...</td>\n      <td>13747723</td>\n      <td>Usar el correo electrónico - 5, Crear y usar d...</td>\n      <td>Puedo aplicar las prácticas y habilidades del ...</td>\n      <td>La segunda expresión es verdadera si “(a O b)”...</td>\n      <td>Está equivocada, el resultado es 120.</td>\n      <td>3</td>\n      <td>Dar referencias o modelos de mujeres destacada...</td>\n      <td>La botella C debe ser verde</td>\n      <td>Es preferible que las mujeres enseñen ciencias...</td>\n      <td>Sé cómo resolver los problemas técnicos cuando...</td>\n      <td>NO</td>\n      <td>NO</td>\n      <td>SI</td>\n      <td>NO</td>\n      <td>SI</td>\n      <td>NO</td>\n      <td>NO</td>\n      <td>NO</td>\n      <td>NO</td>\n    </tr>\n    <tr>\n      <th>1</th>\n      <td>Adrian</td>\n      <td>Armero Muñoz</td>\n      <td>adr33a@gmail.com</td>\n      <td>Curso Inicial 2022 I12</td>\n      <td>08/06/2022 22:11:33</td>\n      <td>U4 Cuestionario Final (25 puntos)</td>\n      <td>1052.0</td>\n      <td>NaN</td>\n      <td>NaN</td>\n      <td>NaN</td>\n      <td>NaN</td>\n      <td>El programa si funciona y lo puede implementar...</td>\n      <td>II y III</td>\n      <td>10</td>\n      <td>3</td>\n      <td>Le explicaría la respuesta correcta - 5, Le su...</td>\n      <td>Actividades desconectadas - 7, Usa-Modifica-Cr...</td>\n      <td>Imagen 3</td>\n      <td>Si, María está dividiendo el problema en probl...</td>\n      <td>Si, los estudiantes están aprendiendo sobre mo...</td>\n      <td>5230968</td>\n      <td>Usar el correo electrónico - 4, Crear y usar d...</td>\n      <td>Puedo aplicar las prácticas y habilidades del ...</td>\n      <td>La primera expresión es verdadera si “((NO a) ...</td>\n      <td>Está equivocada, el resultado es 120.</td>\n      <td>4</td>\n      <td>Estimular el liderazgo femenino, por ejemplo, ...</td>\n      <td>La botella C debe ser verde</td>\n      <td>Es preferible que las mujeres enseñen ciencias...</td>\n      <td>Sé cómo resolver los problemas técnicos cuando...</td>\n      <td>NO</td>\n      <td>NO</td>\n      <td>NO</td>\n      <td>SI</td>\n      <td>NO</td>\n      <td>SI</td>\n      <td>NO</td>\n      <td>SI</td>\n      <td>NO</td>\n    </tr>\n    <tr>\n      <th>2</th>\n      <td>Adriana</td>\n      <td>Lasprilla Herrera</td>\n      <td>arranala@gmail.com</td>\n      <td>Curso Inicial 2022 I08</td>\n      <td>09/06/2022 16:38:14</td>\n      <td>U4 Cuestionario Final (25 puntos)</td>\n      <td>702.0</td>\n      <td>NaN</td>\n      <td>NaN</td>\n      <td>NaN</td>\n      <td>NaN</td>\n      <td>El programa no funciona, falta incluir el Fin</td>\n      <td>II solamente</td>\n      <td>10</td>\n      <td>3</td>\n      <td>Le explicaría la respuesta correcta - 6, Le su...</td>\n      <td>Actividades desconectadas - 9, Usa-Modifica-Cr...</td>\n      <td>Imagen 2</td>\n      <td>Si, María está usando un algoritmo para encont...</td>\n      <td>Si, los estudiantes están aprendiendo a recole...</td>\n      <td>52745094</td>\n      <td>Usar el correo electrónico - 5, Crear y usar d...</td>\n      <td>Puedo aplicar las prácticas y habilidades del ...</td>\n      <td>No sé/No lo conozco</td>\n      <td>No sé/No lo conozco</td>\n      <td>3</td>\n      <td>Motivar que las niñas participen y sean escuch...</td>\n      <td>La botella D debe ser verde</td>\n      <td>Es preferible que las mujeres enseñen ciencias...</td>\n      <td>Sé cómo resolver los problemas técnicos cuando...</td>\n      <td>NO</td>\n      <td>NO</td>\n      <td>SI</td>\n      <td>SI</td>\n      <td>NO</td>\n      <td>SI</td>\n      <td>NO</td>\n      <td>SI</td>\n      <td>NO</td>\n    </tr>\n    <tr>\n      <th>3</th>\n      <td>Adriana Esther</td>\n      <td>Ortega Avila</td>\n      <td>esther8mayo@gmail.com</td>\n      <td>Curso Inicial 2022 I04</td>\n      <td>09/06/2022 21:47:01</td>\n      <td>U4 Cuestionario Final (25 puntos)</td>\n      <td>353.0</td>\n      <td>La encuesta se considera desde mis principios ...</td>\n      <td>Sin Comentarios</td>\n      <td>Sin Comentarios</td>\n      <td>Sin comentarios</td>\n      <td>El programa no funciona, falta incluir el Fin</td>\n      <td>No sé/No lo conozco</td>\n      <td>10</td>\n      <td>3</td>\n      <td>Le explicaría la respuesta correcta - 9, Le su...</td>\n      <td>Actividades desconectadas - 10, Usa-Modifica-C...</td>\n      <td>Imagen 2</td>\n      <td>Si, María está dividiendo el problema en probl...</td>\n      <td>Si, los estudiantes están aprendiendo sobre mo...</td>\n      <td>26202775</td>\n      <td>Usar el correo electrónico - 4, Crear y usar d...</td>\n      <td>Puedo aplicar las prácticas y habilidades del ...</td>\n      <td>La segunda expresión es verdadera si “(a O b)”...</td>\n      <td>Está correcta, el resultado es 44.</td>\n      <td>4</td>\n      <td>Dar referencias o modelos de mujeres destacada...</td>\n      <td>La botella D debe ser verde</td>\n      <td>Es preferible que las mujeres enseñen ciencias...</td>\n      <td>Sé cómo resolver los problemas técnicos cuando...</td>\n      <td>NO</td>\n      <td>NO</td>\n      <td>SI</td>\n      <td>SI</td>\n      <td>NO</td>\n      <td>NO</td>\n      <td>NO</td>\n      <td>NO</td>\n      <td>NO</td>\n    </tr>\n    <tr>\n      <th>4</th>\n      <td>Adriana Maria</td>\n      <td>Peña Bolivar</td>\n      <td>adriana.mapb@hotmail.com</td>\n      <td>Curso Inicial 2022 I19</td>\n      <td>07/06/2022 13:23:33</td>\n      <td>U4 Cuestionario Final (25 puntos)</td>\n      <td>1700.0</td>\n      <td>NaN</td>\n      <td>NaN</td>\n      <td>NaN</td>\n      <td>NaN</td>\n      <td>El programa no funciona, debe capturar nuevame...</td>\n      <td>II y III</td>\n      <td>8</td>\n      <td>2</td>\n      <td>Le explicaría la respuesta correcta - 10, Le s...</td>\n      <td>Actividades desconectadas - 10, Usa-Modifica-C...</td>\n      <td>Imagen 3</td>\n      <td>Si, María está dividiendo el problema en probl...</td>\n      <td>Si, los estudiantes están aprendiendo sobre mo...</td>\n      <td>60264510</td>\n      <td>Usar el correo electrónico - 4, Crear y usar d...</td>\n      <td>Puedo aplicar las prácticas y habilidades del ...</td>\n      <td>La segunda expresión es verdadera solamente si...</td>\n      <td>Está correcta, el resultado es 44.</td>\n      <td>4</td>\n      <td>Realizar clubes y actividades extracurriculare...</td>\n      <td>La botella C debe ser verde</td>\n      <td>Es preferible que las mujeres enseñen ciencias...</td>\n      <td>Sé cómo resolver los problemas técnicos cuando...</td>\n      <td>NO</td>\n      <td>NO</td>\n      <td>SI</td>\n      <td>SI</td>\n      <td>SI</td>\n      <td>SI</td>\n      <td>NO</td>\n      <td>SI</td>\n      <td>SI</td>\n    </tr>\n    <tr>\n      <th>...</th>\n      <td>...</td>\n      <td>...</td>\n      <td>...</td>\n      <td>...</td>\n      <td>...</td>\n      <td>...</td>\n      <td>...</td>\n      <td>...</td>\n      <td>...</td>\n      <td>...</td>\n      <td>...</td>\n      <td>...</td>\n      <td>...</td>\n      <td>...</td>\n      <td>...</td>\n      <td>...</td>\n      <td>...</td>\n      <td>...</td>\n      <td>...</td>\n      <td>...</td>\n      <td>...</td>\n      <td>...</td>\n      <td>...</td>\n      <td>...</td>\n      <td>...</td>\n      <td>...</td>\n      <td>...</td>\n      <td>...</td>\n      <td>...</td>\n      <td>...</td>\n      <td>...</td>\n      <td>...</td>\n      <td>...</td>\n      <td>...</td>\n      <td>...</td>\n      <td>...</td>\n      <td>...</td>\n      <td>...</td>\n      <td>...</td>\n    </tr>\n    <tr>\n      <th>486</th>\n      <td>Yuly Andrea</td>\n      <td>Barahona Pinzón</td>\n      <td>andrebp19@hotmail.com</td>\n      <td>Curso Inicial 2022 I06</td>\n      <td>24/05/2022 22:44:54</td>\n      <td>U4 Cuestionario Final (25 puntos)</td>\n      <td>555.0</td>\n      <td>NaN</td>\n      <td>NaN</td>\n      <td>NaN</td>\n      <td>NaN</td>\n      <td>El programa si funciona y lo puede implementar...</td>\n      <td>I, II y III</td>\n      <td>10</td>\n      <td>3</td>\n      <td>Le explicaría la respuesta correcta - 5, Le su...</td>\n      <td>Actividades desconectadas - 8, Usa-Modifica-Cr...</td>\n      <td>Imagen 3</td>\n      <td>Si, María está dividiendo el problema en probl...</td>\n      <td>Si, los estudiantes están aprendiendo sobre mo...</td>\n      <td>1072466102</td>\n      <td>Usar el correo electrónico - 2, Crear y usar d...</td>\n      <td>Puedo aplicar las prácticas y habilidades del ...</td>\n      <td>La segunda expresión es verdadera solamente si...</td>\n      <td>Está equivocada, el resultado es 120.</td>\n      <td>3</td>\n      <td>Motivar que las niñas participen y sean escuch...</td>\n      <td>Ninguna botella debe cambiar de color</td>\n      <td>Es preferible que las mujeres enseñen ciencias...</td>\n      <td>Sé cómo resolver los problemas técnicos cuando...</td>\n      <td>NO</td>\n      <td>NO</td>\n      <td>SI</td>\n      <td>SI</td>\n      <td>SI</td>\n      <td>SI</td>\n      <td>NO</td>\n      <td>SI</td>\n      <td>NO</td>\n    </tr>\n    <tr>\n      <th>487</th>\n      <td>Zaida Yamile</td>\n      <td>Alvarez Sierra</td>\n      <td>zayda1982@hotmail.com</td>\n      <td>Curso Inicial 2022 I18</td>\n      <td>03/06/2022 18:21:18</td>\n      <td>U4 Cuestionario Final (25 puntos)</td>\n      <td>2132.0</td>\n      <td>NINGUNO</td>\n      <td>NaN</td>\n      <td>NINGUNO</td>\n      <td>NINGUNO</td>\n      <td>El programa no funciona, falta incluir el Fin</td>\n      <td>II solamente</td>\n      <td>10</td>\n      <td>No sé/No lo conozco</td>\n      <td>Le explicaría la respuesta correcta - 3, Le su...</td>\n      <td>Actividades desconectadas - 10, Usa-Modifica-C...</td>\n      <td>Imagen 4</td>\n      <td>Si, María está usando un algoritmo para encont...</td>\n      <td>Si, los estudiantes están aprendiendo sobre mo...</td>\n      <td>37294417</td>\n      <td>Usar el correo electrónico - 5, Crear y usar d...</td>\n      <td>Puedo aplicar las prácticas y habilidades del ...</td>\n      <td>No sé/No lo conozco</td>\n      <td>Está equivocada, el resultado es 120.</td>\n      <td>4</td>\n      <td>Realizar clubes y actividades extracurriculare...</td>\n      <td>La botella B debe ser verde</td>\n      <td>Es preferible que las mujeres enseñen ciencias...</td>\n      <td>Sé cómo resolver los problemas técnicos cuando...</td>\n      <td>NO</td>\n      <td>NO</td>\n      <td>SI</td>\n      <td>SI</td>\n      <td>SI</td>\n      <td>SI</td>\n      <td>NO</td>\n      <td>SI</td>\n      <td>SI</td>\n    </tr>\n    <tr>\n      <th>488</th>\n      <td>Zenaida</td>\n      <td>Vergel Boli Var</td>\n      <td>zenaidavergel@gmail.com</td>\n      <td>Curso Inicial 2022 I19</td>\n      <td>07/06/2022 14:58:02</td>\n      <td>U4 Cuestionario Final (25 puntos)</td>\n      <td>1699.0</td>\n      <td>La equidad de género implica que debe existir ...</td>\n      <td>NaN</td>\n      <td>NaN</td>\n      <td>NaN</td>\n      <td>El programa si funciona y lo puede implementar...</td>\n      <td>II y III</td>\n      <td>10</td>\n      <td>6</td>\n      <td>Le explicaría la respuesta correcta - 1, Le su...</td>\n      <td>Actividades desconectadas - 7, Usa-Modifica-Cr...</td>\n      <td>Imagen 1</td>\n      <td>Si, María está dividiendo el problema en probl...</td>\n      <td>Si, los estudiantes están aprendiendo sobre mo...</td>\n      <td>27592101</td>\n      <td>Usar el correo electrónico - 1, Crear y usar d...</td>\n      <td>Puedo aplicar las prácticas y habilidades del ...</td>\n      <td>La segunda expresión es verdadera si “(a O b)”...</td>\n      <td>Está equivocada, el resultado es 120.</td>\n      <td>3</td>\n      <td>Dar referencias o modelos de mujeres destacada...</td>\n      <td>La botella B debe ser verde</td>\n      <td>Es preferible que las mujeres enseñen ciencias...</td>\n      <td>Sé cómo resolver los problemas técnicos cuando...</td>\n      <td>NO</td>\n      <td>NO</td>\n      <td>NO</td>\n      <td>SI</td>\n      <td>SI</td>\n      <td>NO</td>\n      <td>NO</td>\n      <td>SI</td>\n      <td>NO</td>\n    </tr>\n    <tr>\n      <th>489</th>\n      <td>Yeison Andres</td>\n      <td>Guerrero Osorio</td>\n      <td>yeisondigital@hotmail.com</td>\n      <td>Curso Inicial 2022 I02</td>\n      <td>31/05/2022 19:01:09</td>\n      <td>U4 Cuestionario Final (25 puntos)</td>\n      <td>256.0</td>\n      <td>NaN</td>\n      <td>NaN</td>\n      <td>NaN</td>\n      <td>NaN</td>\n      <td>El programa no funciona, debe capturar nuevame...</td>\n      <td>No sé/No lo conozco</td>\n      <td>10</td>\n      <td>No sé/No lo conozco</td>\n      <td>Le explicaría la respuesta correcta - 1, Le su...</td>\n      <td>Actividades desconectadas - 10, Usa-Modifica-C...</td>\n      <td>Imagen 3</td>\n      <td>Si, María está dividiendo el problema en probl...</td>\n      <td>No, los estudiantes sólo están aprendiendo a c...</td>\n      <td>1022953021</td>\n      <td>Usar el correo electrónico - 3, Crear y usar d...</td>\n      <td>Puedo aplicar las prácticas y habilidades del ...</td>\n      <td>No sé/No lo conozco</td>\n      <td>Está equivocada, el resultado es 120.</td>\n      <td>3</td>\n      <td>Motivar que las niñas participen y sean escuch...</td>\n      <td>La botella B debe ser verde</td>\n      <td>Es preferible que las mujeres enseñen ciencias...</td>\n      <td>Sé cómo resolver los problemas técnicos cuando...</td>\n      <td>NO</td>\n      <td>NO</td>\n      <td>SI</td>\n      <td>SI</td>\n      <td>SI</td>\n      <td>SI</td>\n      <td>NO</td>\n      <td>SI</td>\n      <td>NO</td>\n    </tr>\n    <tr>\n      <th>490</th>\n      <td>Óscar  David</td>\n      <td>Palacio  Muñoz</td>\n      <td>palacio2805@gmail.com</td>\n      <td>Curso Inicial 2022 I07</td>\n      <td>10/06/2022 10:35:15</td>\n      <td>U4 Cuestionario Final (25 puntos)</td>\n      <td>611.0</td>\n      <td>Las interrogantes son sexistas en muchos casos.</td>\n      <td>Ninguna</td>\n      <td>Ninguna.</td>\n      <td>Ninguna.</td>\n      <td>El programa si funciona y lo puede implementar...</td>\n      <td>II y III</td>\n      <td>10</td>\n      <td>6</td>\n      <td>Le explicaría la respuesta correcta - 10, Le s...</td>\n      <td>Actividades desconectadas - 3, Usa-Modifica-Cr...</td>\n      <td>Imagen 3</td>\n      <td>Si, María está usando un algoritmo para encont...</td>\n      <td>Si, los estudiantes están aprendiendo sobre mo...</td>\n      <td>1035415429</td>\n      <td>Usar el correo electrónico - 5, Crear y usar d...</td>\n      <td>Puedo aplicar las prácticas y habilidades del ...</td>\n      <td>La primera expresión es verdadera si “((NO a) ...</td>\n      <td>Está equivocada, el resultado es 120.</td>\n      <td>3</td>\n      <td>Estimular el liderazgo femenino, por ejemplo, ...</td>\n      <td>La botella D debe ser verde</td>\n      <td>Es preferible que las mujeres enseñen ciencias...</td>\n      <td>Sé cómo resolver los problemas técnicos cuando...</td>\n      <td>NO</td>\n      <td>NO</td>\n      <td>NO</td>\n      <td>SI</td>\n      <td>SI</td>\n      <td>SI</td>\n      <td>NO</td>\n      <td>SI</td>\n      <td>NO</td>\n    </tr>\n  </tbody>\n</table>\n<p>491 rows × 39 columns</p>\n</div>"
     },
     "execution_count": 17,
     "metadata": {},
     "output_type": "execute_result"
    }
   ],
   "source": [
    "df_post"
   ],
   "metadata": {
    "collapsed": false,
    "pycharm": {
     "name": "#%%\n"
    }
   }
  },
  {
   "cell_type": "markdown",
   "id": "560467d3",
   "metadata": {
    "pycharm": {
     "name": "#%% md\n"
    }
   },
   "source": [
    "## Pregunta 13\n"
   ]
  },
  {
   "cell_type": "code",
   "execution_count": 18,
   "id": "747eaca1",
   "metadata": {
    "pycharm": {
     "name": "#%%\n"
    }
   },
   "outputs": [],
   "source": [
    "col = \"13. Afirmaciones de Género\"\n",
    "\n",
    "replaced_values = {\n",
    "    1:\"13.1 Es preferible que las mujeres enseñen ciencias sociales y los hombres ciencias exactas.\",\n",
    "    2:\"13.2 Es normal que la mayoria de ingenieros mecánicos sean varones porque los hombres son mejores para los números.\",\n",
    "    3:\"13.3 Por su esencia una mujer tiene mejor desempeño en un proyecto de alto impacto social que en un proyecto de robótica industrial.\",\n",
    "    4:\"13.4 Los hombres son mejores para la tecnologia que las mujeres.\",\n",
    "    5:\"13.5 Las mujeres tienen mayores habilidades para provectos sociales que tecnológicos\",\n",
    "    6:\"13.6 Los grandes aportes en la computación han sido hechos por hombres.\",\n",
    "    7:\"13.7 Que la mayoria de mujeres no opte por areas exactas es simplemente una cuestión de preferencias.\",\n",
    "    8:\"13.8 Que la mayoria de personas en artes y humanidades sean mujeres es muestra de su sensibilidad.\",\n",
    "    9:\"13.9 Es natural que los hombres sean buenos para los números y las mujeres para las letras.\",\n",
    "    10:\"13.10 Los hombres son muy âgiles tomando decisions importantes.\",\n",
    "    11:\"13.11 Las niñas son más ordenadas que los niños.\",\n",
    "    12:\"13.12 Muchas mujeres se caracterizan por una pureza que pocos hombres poseen.\",\n",
    "    13:\"13.13 Las mujeres deben ser queridas y protegidas por los hombres.\",\n",
    "    14:\"13.14 Todo hombre debe tener una mujer a quien amar.\",\n",
    "    15:\"13.15 El hombre está incompleto sin la mujer.\",\n",
    "    16:\"13.16 Las mujeres en comparación con los hombres, tienden a tener un sentido más refinado de la cultura y el buen gusto.\",\n",
    "}"
   ]
  },
  {
   "cell_type": "markdown",
   "id": "528f92b3",
   "metadata": {
    "pycharm": {
     "name": "#%% md\n"
    }
   },
   "source": [
    "### Pre"
   ]
  },
  {
   "cell_type": "code",
   "execution_count": 19,
   "id": "30aa2d0b",
   "metadata": {
    "pycharm": {
     "name": "#%%\n"
    }
   },
   "outputs": [],
   "source": [
    "df_pre[col] = df_pre[col].str.replace('-1', '0').copy()\n",
    "temp = df_pre[col].str.split(r'\\b\\D+\\b', expand=True)\n",
    "temp.iloc[:, 1:] = temp.iloc[:, 1:].astype(int).replace(de_acuerdo)\n",
    "temp.rename(replaced_values, axis=1, inplace=True)\n",
    "temp.drop([0], axis=1, inplace=True)\n",
    "for cole in temp.columns:\n",
    "        df_pre[cole] = temp[cole]\n",
    "\n"
   ]
  },
  {
   "cell_type": "markdown",
   "id": "24a786ac",
   "metadata": {
    "pycharm": {
     "name": "#%% md\n"
    }
   },
   "source": [
    "### Post"
   ]
  },
  {
   "cell_type": "code",
   "execution_count": 20,
   "id": "b001787a",
   "metadata": {
    "pycharm": {
     "name": "#%%\n"
    }
   },
   "outputs": [],
   "source": [
    "df_post[col] = df_post[col].str.replace('-1', '0').copy()\n",
    "temp = df_post[col].str.split(r'\\b\\D+\\b', expand=True)\n",
    "temp.iloc[:, 1:] = temp.iloc[:, 1:].astype(int).replace(de_acuerdo)\n",
    "temp.rename(replaced_values, axis=1, inplace=True)\n",
    "temp.drop([0], axis=1, inplace=True)\n",
    "for cole in temp.columns:\n",
    "        df_post[cole] = temp[cole]"
   ]
  },
  {
   "cell_type": "markdown",
   "id": "781937fe",
   "metadata": {
    "pycharm": {
     "name": "#%% md\n"
    }
   },
   "source": [
    "## Pregunta 15"
   ]
  },
  {
   "cell_type": "code",
   "execution_count": 21,
   "id": "5e72989e",
   "metadata": {
    "pycharm": {
     "name": "#%%\n"
    }
   },
   "outputs": [],
   "source": [
    "col = \"15. Afirmaciones autoeficacia técnologica\"\n",
    "replaced_values = {\n",
    "    1: '15.1 Sé cómo resolver los problemas técnicos cuando fallan las TIC',\n",
    "    2: '15.2 Puedo aprender sobre nuevas tecnologías fácilmente',\n",
    "    3: '15.3 Sé cómo usar las TIC con los estudiantes en clase',\n",
    "    4: '15.4 Me apoyo en mis colegas para resolver problemas sobre cómo trabajar algún tema',\n",
    "    5: '15.5 Puedo hablar con otros docentes sobre el diseño de cursos',\n",
    "    6: '15.6 Siento que tengo apoyo de otros docentes para el diseño de mis cursos',\n",
    "    7: '15.7 No tengo con quién conversar sobre el diseño de mis cursos'\n",
    "}"
   ]
  },
  {
   "cell_type": "markdown",
   "id": "e6f5087b",
   "metadata": {
    "pycharm": {
     "name": "#%% md\n"
    }
   },
   "source": [
    "### Pre"
   ]
  },
  {
   "cell_type": "code",
   "execution_count": 22,
   "id": "2bebea4b",
   "metadata": {
    "pycharm": {
     "name": "#%%\n"
    }
   },
   "outputs": [],
   "source": [
    "df_pre[col] = df_pre[col].str.replace('-1', '0').copy()\n",
    "temp = df_pre[col].str.split(r'\\b\\D+\\b', expand=True)\n",
    "temp.iloc[:, 1:] = temp.iloc[:, 1:].astype(int).replace(de_acuerdo)\n",
    "temp.rename(replaced_values, axis=1, inplace=True)\n",
    "temp.drop([0], axis=1, inplace=True)\n",
    "for cole in temp.columns:\n",
    "        df_pre[cole] = temp[cole]"
   ]
  },
  {
   "cell_type": "markdown",
   "id": "15cf281f",
   "metadata": {
    "pycharm": {
     "name": "#%% md\n"
    }
   },
   "source": [
    "### Post"
   ]
  },
  {
   "cell_type": "code",
   "execution_count": 23,
   "id": "174868a6",
   "metadata": {
    "pycharm": {
     "name": "#%%\n"
    }
   },
   "outputs": [],
   "source": [
    "df_post[col] = df_post[col].str.replace('-1', '0').copy()\n",
    "temp = df_post[col].str.split(r'\\b\\D+\\b', expand=True)\n",
    "temp.iloc[:, 1:] = temp.iloc[:, 1:].astype(int).replace(de_acuerdo)\n",
    "temp.rename(replaced_values, axis=1, inplace=True)\n",
    "temp.drop([0], axis=1, inplace=True)\n",
    "\n",
    "for cole in temp.columns:\n",
    "        df_post[cole] = temp[cole]"
   ]
  },
  {
   "cell_type": "markdown",
   "id": "9e622607",
   "metadata": {
    "pycharm": {
     "name": "#%% md\n"
    }
   },
   "source": [
    "## Pregunta 17"
   ]
  },
  {
   "cell_type": "code",
   "execution_count": 24,
   "id": "0215e1d1",
   "metadata": {
    "pycharm": {
     "name": "#%%\n"
    }
   },
   "outputs": [],
   "source": [
    "col = \"17. Practicas\"\n",
    "replaced_values = {\n",
    "    1: '17.1 Usar el correo electrónico',\n",
    "    2: '17.2 Crear y usar de modelos y simulaciones',\n",
    "    3: '17.3 Automatizar tareas',\n",
    "    4: '17.4 Usar Word',\n",
    "    5: '17.5 Procesar Datos',\n",
    "    6: '17.6 Resolver problemas a través de herramientas computacionales (como simulaciones)',\n",
    "    7: '17.7 Resolver problemas a través de herramientas computacionales (como lenguajes de programación)'\n",
    "}"
   ]
  },
  {
   "cell_type": "markdown",
   "id": "54fc73af",
   "metadata": {
    "pycharm": {
     "name": "#%% md\n"
    }
   },
   "source": [
    "### Pre"
   ]
  },
  {
   "cell_type": "code",
   "execution_count": 25,
   "id": "b90f1ac6",
   "metadata": {
    "pycharm": {
     "name": "#%%\n"
    }
   },
   "outputs": [],
   "source": [
    "df_pre[col] = df_pre[col].str.replace('-1', '0').copy()\n",
    "temp = df_pre[col].str.split(r'\\b\\D+\\b', expand=True).copy()\n",
    "temp.iloc[:, 1:] = temp.iloc[:, 1:].astype(float).replace(de_acuerdo)\n",
    "temp.rename(replaced_values, axis=1, inplace=True)\n",
    "temp.drop([0], axis=1, inplace=True)\n",
    "for cole in temp.columns:\n",
    "        df_pre[cole] = temp[cole]"
   ]
  },
  {
   "cell_type": "markdown",
   "id": "60d34775",
   "metadata": {
    "pycharm": {
     "name": "#%% md\n"
    }
   },
   "source": [
    "### Post"
   ]
  },
  {
   "cell_type": "code",
   "execution_count": 26,
   "id": "a1293d40",
   "metadata": {
    "pycharm": {
     "name": "#%%\n"
    }
   },
   "outputs": [],
   "source": [
    "df_post[col] = df_post[col].str.replace('-1', '0').copy()\n",
    "temp = df_post[col].str.split(r'\\b\\D+\\b', expand=True)\n",
    "temp.iloc[:, 1:] = temp.iloc[:, 1:].astype(float).replace(de_acuerdo)\n",
    "temp.rename(replaced_values, axis=1, inplace=True)\n",
    "temp.drop([0], axis=1, inplace=True)\n",
    "\n",
    "for cole in temp.columns:\n",
    "        df_post[cole] = temp[cole]"
   ]
  },
  {
   "cell_type": "markdown",
   "id": "e0f74f44",
   "metadata": {
    "pycharm": {
     "name": "#%% md\n"
    }
   },
   "source": [
    "## Pregunta 18\n"
   ]
  },
  {
   "cell_type": "code",
   "execution_count": 27,
   "id": "ae8a5820",
   "metadata": {
    "pycharm": {
     "name": "#%%\n"
    }
   },
   "outputs": [],
   "source": [
    "col = \"18. Integración Pensamiento Computacional\"\n",
    "\n",
    "replaced_values = {\n",
    "    1: '18.1 Puedo aplicar las prácticas y habilidades del pensamiento computacional a mi trabajo',\n",
    "    2: '18.2 Puedo definir el pensamiento computacional',\n",
    "    3: '18.3 Puedo describir las prácticas y habilidades que componen el pensamiento computacional a mis estudiantes',\n",
    "    4: '18.4 Puedo aplicar las prácticas y habilidades del pensamiento computacional a mi vida diaria',\n",
    "    5: '18.5 Creo que tengo las habilidades para desarrollar el pensamiento computacional en mis estudiantes',\n",
    "    6: '18.6 Puedo enseñar fácilmente sobre nuevas prácticas computacionales',\n",
    "    7: '18.7 Puedo diseñar una clase que desarrolle el pensamiento computacional en los estudiantes',\n",
    "    8: '18.8 Puedo seleccionar tecnologías para usar en mi salón de clases, que me permitan mejorar qué enseño y cómo enseño pensamiento computacional.',\n",
    "    9: '18.9 Puedo aplicar mis habilidades en pensamiento computacional para ayudar a los estudiantes a perseguir sus intereses individuales',\n",
    "    10:'18.10 Puedo implementar y evaluar la idoneidad de una estrategia pedagógica que le permita a los estudiantes desarrollar pensamiento computacional'\n",
    "}"
   ]
  },
  {
   "cell_type": "markdown",
   "id": "81827541",
   "metadata": {
    "pycharm": {
     "name": "#%% md\n"
    }
   },
   "source": [
    "### Pre"
   ]
  },
  {
   "cell_type": "code",
   "execution_count": 28,
   "id": "6fcf4140",
   "metadata": {
    "pycharm": {
     "name": "#%%\n"
    }
   },
   "outputs": [],
   "source": [
    "df_pre[col] = df_pre[col].str.replace('-1', '0').copy()\n",
    "temp = df_pre[col].str.split(r'\\b\\D+\\b', expand=True).copy()\n",
    "temp.iloc[:, 1:] = temp.iloc[:, 1:].astype(float).replace(de_acuerdo)\n",
    "temp.rename(replaced_values, axis=1, inplace=True)\n",
    "temp.drop([0], axis=1, inplace=True)\n",
    "for cole in temp.columns:\n",
    "        df_pre[cole] = temp[cole]"
   ]
  },
  {
   "cell_type": "markdown",
   "id": "050333ce",
   "metadata": {
    "pycharm": {
     "name": "#%% md\n"
    }
   },
   "source": [
    "### Post"
   ]
  },
  {
   "cell_type": "code",
   "execution_count": 29,
   "id": "978f5550",
   "metadata": {
    "pycharm": {
     "name": "#%%\n"
    }
   },
   "outputs": [],
   "source": [
    "df_post[col] = df_post[col].str.replace('-1', '0').copy()\n",
    "temp = df_post[col].str.split(r'\\b\\D+\\b', expand=True)\n",
    "temp.iloc[:, 1:] = temp.iloc[:, 1:].astype(float).replace(de_acuerdo)\n",
    "temp.rename(replaced_values, axis=1, inplace=True)\n",
    "temp.drop([0], axis=1, inplace=True)\n",
    "\n",
    "for cole in temp.columns:\n",
    "        df_post[cole] = temp[cole]"
   ]
  },
  {
   "cell_type": "markdown",
   "id": "95dcc0f5",
   "metadata": {
    "pycharm": {
     "name": "#%% md\n"
    }
   },
   "source": [
    "## Pregunta 20\n"
   ]
  },
  {
   "cell_type": "code",
   "execution_count": 30,
   "id": "d8b2cf1d",
   "metadata": {
    "pycharm": {
     "name": "#%%\n"
    }
   },
   "outputs": [],
   "source": [
    "col = \"20. Prácticas pedagógicas\"\n",
    "\n",
    "replaced_values = {\n",
    "    1: '20.1 Actividades desconectadas',\n",
    "    2: '20.2 Usa-Modifica-Crea',\n",
    "    3: '20.3 Clase magistral',\n",
    "    4: '20.4 Enseñanza explícita y sin ambigüedades',\n",
    "    5: '20.5 Marcha Silenciosa',\n",
    "    6: '20.6 Aprendizaje basado en proyectos',\n",
    "}"
   ]
  },
  {
   "cell_type": "markdown",
   "id": "d99c3157",
   "metadata": {
    "pycharm": {
     "name": "#%% md\n"
    }
   },
   "source": [
    "### Pre"
   ]
  },
  {
   "cell_type": "code",
   "execution_count": 31,
   "id": "5e52b758",
   "metadata": {
    "pycharm": {
     "name": "#%%\n"
    }
   },
   "outputs": [],
   "source": [
    "df_pre[col] = df_pre[col].str.replace('-1', '0').copy()\n",
    "temp = df_pre[col].str.split(r'\\b\\D+\\b', expand=True).copy()\n",
    "temp.iloc[:, 1:] = temp.iloc[:, 1:].astype(float)\n",
    "temp.rename(replaced_values, axis=1, inplace=True)\n",
    "temp.drop([0], axis=1, inplace=True)\n",
    "for cole in temp.columns:\n",
    "        df_pre[cole] = temp[cole]"
   ]
  },
  {
   "cell_type": "markdown",
   "id": "3b95abea",
   "metadata": {
    "pycharm": {
     "name": "#%% md\n"
    }
   },
   "source": [
    "### Post"
   ]
  },
  {
   "cell_type": "code",
   "execution_count": 32,
   "id": "065b8229",
   "metadata": {
    "pycharm": {
     "name": "#%%\n"
    }
   },
   "outputs": [],
   "source": [
    "df_post[col] = df_post[col].str.replace('-1', '0').copy()\n",
    "temp = df_post[col].str.split(r'\\b\\D+\\b', expand=True)\n",
    "temp.iloc[:, 1:] = temp.iloc[:, 1:].astype(int)\n",
    "temp.rename(replaced_values, axis=1, inplace=True)\n",
    "temp.drop([0], axis=1, inplace=True)\n",
    "\n",
    "for cole in temp.columns:\n",
    "        df_post[cole] = temp[cole]"
   ]
  },
  {
   "cell_type": "markdown",
   "id": "de807f8e",
   "metadata": {
    "pycharm": {
     "name": "#%% md\n"
    }
   },
   "source": [
    "## Pregunta 22\n"
   ]
  },
  {
   "cell_type": "code",
   "execution_count": 33,
   "id": "9b058c4c",
   "metadata": {
    "pycharm": {
     "name": "#%%\n"
    }
   },
   "outputs": [],
   "source": [
    "col = \"22. Estrategias contra dificultades\"\n",
    "\n",
    "replaced_values = {\n",
    "    1: '22.1 Le explicaría la respuesta correcta',\n",
    "    2: '22.2 Le sugeriría ir paso a paso por el programa simulando su ejecución',\n",
    "    3: '22.3 Le diría que revise sus notas',\n",
    "    4: '22.4 Le sugeriría que revise las memorias colectivas',\n",
    "    5: '22.5 Le sugeriría volver a leer el problema',\n",
    "    6: '22.6 Le sugeriría intentar con varios valores para evaluar el programa',\n",
    "    7: '22.7 Le explicaría el problema nuevamente'\n",
    "}"
   ]
  },
  {
   "cell_type": "markdown",
   "id": "08dc6bf4",
   "metadata": {
    "pycharm": {
     "name": "#%% md\n"
    }
   },
   "source": [
    "### Pre"
   ]
  },
  {
   "cell_type": "code",
   "execution_count": 34,
   "id": "ce02e63f",
   "metadata": {
    "pycharm": {
     "name": "#%%\n"
    }
   },
   "outputs": [],
   "source": [
    "df_pre[col] = df_pre[col].str.replace('-1', '0').copy()\n",
    "temp = df_pre[col].str.split(r'\\b\\D+\\b', expand=True).copy()\n",
    "temp.iloc[:, 1:] = temp.iloc[:, 1:].astype(float)\n",
    "temp.rename(replaced_values, axis=1, inplace=True)\n",
    "temp.drop([0], axis=1, inplace=True)\n",
    "for cole in temp.columns:\n",
    "        df_pre[cole] = temp[cole]"
   ]
  },
  {
   "cell_type": "markdown",
   "id": "6ed930f9",
   "metadata": {
    "pycharm": {
     "name": "#%% md\n"
    }
   },
   "source": [
    "### Post"
   ]
  },
  {
   "cell_type": "code",
   "execution_count": 35,
   "id": "051d247c",
   "metadata": {
    "pycharm": {
     "name": "#%%\n"
    }
   },
   "outputs": [],
   "source": [
    "df_post[col] = df_post[col].str.replace('-1', '0').copy()\n",
    "temp = df_post[col].str.split(r'\\b\\D+\\b', expand=True)\n",
    "temp.iloc[:, 1:] = temp.iloc[:, 1:].astype(int)\n",
    "temp.rename(replaced_values, axis=1, inplace=True)\n",
    "temp.drop([0], axis=1, inplace=True)\n",
    "\n",
    "for cole in temp.columns:\n",
    "        df_post[cole] = temp[cole]"
   ]
  },
  {
   "cell_type": "markdown",
   "id": "eb528e1d",
   "metadata": {
    "pycharm": {
     "name": "#%% md\n"
    }
   },
   "source": [
    "## Pregunta 24"
   ]
  },
  {
   "cell_type": "code",
   "execution_count": 36,
   "id": "9ea8fca8",
   "metadata": {
    "pycharm": {
     "name": "#%%\n"
    }
   },
   "outputs": [],
   "source": [
    "opciones =[\n",
    "    \"No, solo está usando computadores\",\n",
    "    \"No, los estudiantes sólo están aprendiendo a cargar cosas en un archivo compartido y crear un gráfico\",\n",
    "    \"Si, los estudiantes están aprendiendo sobre modelos computacionales para la predicción del clima\",\n",
    "    \"Si, los estudiantes están aprendiendo a recolectar, organizar, y analizar datos.\",\n",
    "    \"Otra:\"\n",
    "]\n",
    "\n",
    "\n",
    "col = \"24. Margarita\""
   ]
  },
  {
   "cell_type": "markdown",
   "id": "01b03dee",
   "metadata": {
    "pycharm": {
     "name": "#%% md\n"
    }
   },
   "source": [
    "### Pre"
   ]
  },
  {
   "cell_type": "code",
   "execution_count": 37,
   "id": "db25c615",
   "metadata": {
    "pycharm": {
     "name": "#%%\n"
    }
   },
   "outputs": [],
   "source": [
    "divide_question_YES_NO(24, col, opciones, df_pre)"
   ]
  },
  {
   "cell_type": "markdown",
   "id": "0129fb9a",
   "metadata": {
    "pycharm": {
     "name": "#%% md\n"
    }
   },
   "source": [
    "### Post"
   ]
  },
  {
   "cell_type": "code",
   "execution_count": 38,
   "id": "89d89381",
   "metadata": {
    "pycharm": {
     "name": "#%%\n"
    }
   },
   "outputs": [],
   "source": [
    "divide_question_YES_NO(24, col, opciones, df_post)"
   ]
  },
  {
   "cell_type": "markdown",
   "id": "4268bd02",
   "metadata": {
    "pycharm": {
     "name": "#%% md\n"
    }
   },
   "source": [
    "## Pregunta 25"
   ]
  },
  {
   "cell_type": "code",
   "execution_count": 39,
   "id": "8ffc72b9",
   "metadata": {
    "pycharm": {
     "name": "#%%\n"
    }
   },
   "outputs": [],
   "source": [
    "opciones = [\n",
    "    \"No, en ningún momento de habla de computadores\",\n",
    "    \"Si, María está dividiendo el problema en problemas más sencillos\",\n",
    "    \"Si, María está usando un algoritmo para encontrar su almuerzo\",\n",
    "    \"No, María solo está buscando su almuerzo\",\n",
    "    \"Otra:\"\n",
    "]\n",
    "\n",
    "\n",
    "col = \"25. Cafeteria del Colegio\""
   ]
  },
  {
   "cell_type": "markdown",
   "id": "2df81923",
   "metadata": {
    "pycharm": {
     "name": "#%% md\n"
    }
   },
   "source": [
    "### Pre"
   ]
  },
  {
   "cell_type": "code",
   "execution_count": 40,
   "id": "c4ee4fe7",
   "metadata": {
    "pycharm": {
     "name": "#%%\n"
    }
   },
   "outputs": [],
   "source": [
    "divide_question_YES_NO(25, col, opciones, df_pre)"
   ]
  },
  {
   "cell_type": "markdown",
   "id": "f3de2b32",
   "metadata": {
    "pycharm": {
     "name": "#%% md\n"
    }
   },
   "source": [
    "### Post"
   ]
  },
  {
   "cell_type": "code",
   "execution_count": 41,
   "id": "8c88da07",
   "metadata": {
    "pycharm": {
     "name": "#%%\n"
    }
   },
   "outputs": [],
   "source": [
    "divide_question_YES_NO(25, col, opciones, df_post)"
   ]
  },
  {
   "cell_type": "markdown",
   "id": "3a4e2d1c",
   "metadata": {
    "pycharm": {
     "name": "#%% md\n"
    }
   },
   "source": [
    "## Eliminando todos los que no tengan conocimientos\n"
   ]
  },
  {
   "cell_type": "code",
   "execution_count": 42,
   "id": "1eacc91a",
   "metadata": {
    "pycharm": {
     "name": "#%%\n"
    }
   },
   "outputs": [],
   "source": [
    "filas_conocimientos = [\n",
    "    \"24. Margarita\" ,\n",
    "    \"25. Cafeteria del Colegio\",\n",
    "    \"26. Raton robot\",\n",
    "    \"27. Diagrama de flujo\",\n",
    "    \"28. Variable secuela\",\n",
    "    \"29. A B C\",\n",
    "    \"30. Manzana Uvas Bananas\",\n",
    "    \"31. Variables booleanas\",\n",
    "    \"32. Alcaldía Valeria\",\n",
    "    \"33. Botella de Color\",\n",
    "    \"34. Alejandra codigo bloque\"\n",
    "]\n",
    "df_pre.dropna(axis=0,subset=filas_conocimientos, inplace=True)\n",
    "df_post.dropna(axis=0,subset=filas_conocimientos, inplace=True)"
   ]
  },
  {
   "cell_type": "markdown",
   "id": "60bf1295",
   "metadata": {
    "pycharm": {
     "name": "#%% md\n"
    }
   },
   "source": [
    "## Acomodando filas"
   ]
  },
  {
   "cell_type": "code",
   "execution_count": 43,
   "id": "9d5c2889",
   "metadata": {
    "pycharm": {
     "name": "#%%\n"
    }
   },
   "outputs": [],
   "source": [
    "df_pre = df_pre[sorted(df_pre.columns)].copy()"
   ]
  },
  {
   "cell_type": "code",
   "execution_count": 44,
   "id": "884ac680",
   "metadata": {
    "pycharm": {
     "name": "#%%\n"
    }
   },
   "outputs": [],
   "source": [
    "df_post = df_post[sorted(df_post.columns)].copy()"
   ]
  },
  {
   "cell_type": "code",
   "execution_count": 45,
   "id": "bb37cd72",
   "metadata": {
    "pycharm": {
     "name": "#%%\n"
    }
   },
   "outputs": [],
   "source": [
    "cedulas = set(df_pre[\"1. Cédula\"]).intersection(set(df_post[\"1. Cédula\"]))\n",
    "\n",
    "df_pre = df_pre[df_pre[\"1. Cédula\"].isin(cedulas)]\n",
    "df_post = df_post[df_post[\"1. Cédula\"].isin(cedulas)]\n",
    "\n",
    "df_pre[\"Tipo\"] = \"Prestest\"\n",
    "df_post[\"Tipo\"] = \"Postest\"\n"
   ]
  },
  {
   "cell_type": "code",
   "execution_count": 46,
   "outputs": [
    {
     "data": {
      "text/plain": "Pregunta   1. Cédula 10. Es docente STEM 11. Formación  \\\n3           13747723                STEM          STEM   \n5            5230968                STEM          STEM   \n9           52745094                STEM          STEM   \n14          26202775                STEM          STEM   \n16          60264510             No STEM       No STEM   \n...              ...                 ...           ...   \n2141      1072466102                STEM          STEM   \n2146        37294417                STEM          STEM   \n2148        27592101             No STEM       No STEM   \n2165      1022953021                STEM          STEM   \n2171      1035415429                STEM          STEM   \n\nPregunta                           12. Estrategias en clase  \\\n3         Tratos y estímulos igualitarios a toda y todo ...   \n5         Prohibir y corregir los comentarios, actitudes...   \n9         Motivar que las niñas participen y sean escuch...   \n14        Realizar clubes y actividades extracurriculare...   \n16        Estimular el liderazgo femenino, por ejemplo, ...   \n...                                                     ...   \n2141      Dar referencias o modelos de mujeres destacada...   \n2146      Realizar clubes y actividades extracurriculare...   \n2148      Estimular el liderazgo femenino, por ejemplo, ...   \n2165      Destacar y reconocer los logros de las niñas y...   \n2171      Destacar y reconocer los logros de las niñas y...   \n\nPregunta 12.1 Realizar clubes y actividades extracurriculares para niñas y jóvenes como refuerzo de lo visto en las class de áreas STEM.  \\\n3                                                        NO                                                                                \n5                                                        NO                                                                                \n9                                                        NO                                                                                \n14                                                       NO                                                                                \n16                                                       NO                                                                                \n...                                                     ...                                                                                \n2141                                                     NO                                                                                \n2146                                                     NO                                                                                \n2148                                                     NO                                                                                \n2165                                                     NO                                                                                \n2171                                                     NO                                                                                \n\nPregunta 12.2 Destacar y reconocer los logros de las niñas y jóvenes, por ejemplo, promover concursos diferenciados por género, como, premio la niña científica y el niño científico.Dar referencias o modelos de mujeres destacadas en las áreas STEM, por ejemplo, mostrar la película de Marie Curie.  \\\n3                                                        NO                                                                                                                                                                                                                                                \n5                                                        NO                                                                                                                                                                                                                                                \n9                                                        NO                                                                                                                                                                                                                                                \n14                                                       NO                                                                                                                                                                                                                                                \n16                                                       NO                                                                                                                                                                                                                                                \n...                                                     ...                                                                                                                                                                                                                                                \n2141                                                     NO                                                                                                                                                                                                                                                \n2146                                                     NO                                                                                                                                                                                                                                                \n2148                                                     NO                                                                                                                                                                                                                                                \n2165                                                     NO                                                                                                                                                                                                                                                \n2171                                                     NO                                                                                                                                                                                                                                                \n\nPregunta 12.3 Motivar que las niñas participen y sean escuchadas, por ejemplo, alternándolas con los niños.  \\\n3                                                        NO                                                   \n5                                                        NO                                                   \n9                                                        SI                                                   \n14                                                       NO                                                   \n16                                                       NO                                                   \n...                                                     ...                                                   \n2141                                                     SI                                                   \n2146                                                     SI                                                   \n2148                                                     NO                                                   \n2165                                                     SI                                                   \n2171                                                     SI                                                   \n\nPregunta 12.4 Estimular el liderazgo femenino, por ejemplo, que las niñas y adolescentes sean representantes de grupo.  \\\n3                                                        NO                                                              \n5                                                        NO                                                              \n9                                                        SI                                                              \n14                                                       NO                                                              \n16                                                       SI                                                              \n...                                                     ...                                                              \n2141                                                     SI                                                              \n2146                                                     SI                                                              \n2148                                                     SI                                                              \n2165                                                     SI                                                              \n2171                                                     SI                                                              \n\nPregunta 12.5 Generar espacios de confianza para las niñas, por ejemplo, realizando reflexiones sobre el género al comienzo de la clase.  \\\n3                                                        NO                                                                                \n5                                                        NO                                                                                \n9                                                        SI                                                                                \n14                                                       NO                                                                                \n16                                                       SI                                                                                \n...                                                     ...                                                                                \n2141                                                     SI                                                                                \n2146                                                     SI                                                                                \n2148                                                     NO                                                                                \n2165                                                     SI                                                                                \n2171                                                     SI                                                                                \n\nPregunta 12.6 Prohibir y corregir los comentarios, actitudes y acciones sexistas.  \\\n3                                                        NO                         \n5                                                        SI                         \n9                                                        SI                         \n14                                                       NO                         \n16                                                       SI                         \n...                                                     ...                         \n2141                                                     SI                         \n2146                                                     NO                         \n2148                                                     SI                         \n2165                                                     SI                         \n2171                                                     NO                         \n\nPregunta 12.7 Utilizar lenguaje inclusivo y no realizar estereotipos de género, por ejemplo, decir \"todas las personas* en vez de \"todos los niños\" evitar decir que las niñas son delicadas.  \\\n3                                                        NO                                                                                                                                     \n5                                                        NO                                                                                                                                     \n9                                                        NO                                                                                                                                     \n14                                                       NO                                                                                                                                     \n16                                                       NO                                                                                                                                     \n...                                                     ...                                                                                                                                     \n2141                                                     NO                                                                                                                                     \n2146                                                     NO                                                                                                                                     \n2148                                                     NO                                                                                                                                     \n2165                                                     NO                                                                                                                                     \n2171                                                     NO                                                                                                                                     \n\nPregunta 12.8 Tratos y estímulos igualitarios a toda y todo estudiante independientemente de su género.  \\\n3                                                        SI                                               \n5                                                        SI                                               \n9                                                        SI                                               \n14                                                       SI                                               \n16                                                       SI                                               \n...                                                     ...                                               \n2141                                                     SI                                               \n2146                                                     SI                                               \n2148                                                     SI                                               \n2165                                                     SI                                               \n2171                                                     NO                                               \n\nPregunta 12.9 Observar el comportamiento de los niños hacia las niñas porque a ellas no se les puede tocar ni con el pétalo de una rosa.  \\\n3                                                        NO                                                                                \n5                                                        NO                                                                                \n9                                                        NO                                                                                \n14                                                       NO                                                                                \n16                                                       NO                                                                                \n...                                                     ...                                                                                \n2141                                                     NO                                                                                \n2146                                                     SI                                                                                \n2148                                                     NO                                                                                \n2165                                                     NO                                                                                \n2171                                                     NO                                                                                \n\nPregunta                         13. Afirmaciones de Género  \\\n3         Es preferible que las mujeres enseñen ciencias...   \n5         Es preferible que las mujeres enseñen ciencias...   \n9         Es preferible que las mujeres enseñen ciencias...   \n14        Es preferible que las mujeres enseñen ciencias...   \n16        Es preferible que las mujeres enseñen ciencias...   \n...                                                     ...   \n2141      Es preferible que las mujeres enseñen ciencias...   \n2146      Es preferible que las mujeres enseñen ciencias...   \n2148      Es preferible que las mujeres enseñen ciencias...   \n2165      Es preferible que las mujeres enseñen ciencias...   \n2171      Es preferible que las mujeres enseñen ciencias...   \n\nPregunta 13.1 Es preferible que las mujeres enseñen ciencias sociales y los hombres ciencias exactas.  \\\n3                                  Totalmente en desacuerdo                                             \n5                                  Totalmente en desacuerdo                                             \n9                                  Totalmente en desacuerdo                                             \n14                                 Totalmente en desacuerdo                                             \n16                                            En desacuerdo                                             \n...                                                     ...                                             \n2141                               Totalmente en desacuerdo                                             \n2146                               Totalmente en desacuerdo                                             \n2148                                                 Neutro                                             \n2165                               Totalmente en desacuerdo                                             \n2171                               Totalmente en desacuerdo                                             \n\nPregunta 13.10 Los hombres son muy âgiles tomando decisions importantes.  \\\n3                                  Totalmente en desacuerdo                \n5                                  Totalmente en desacuerdo                \n9                                  Totalmente en desacuerdo                \n14                                 Totalmente en desacuerdo                \n16                                            En desacuerdo                \n...                                                     ...                \n2141                               Totalmente en desacuerdo                \n2146                               Totalmente en desacuerdo                \n2148                                                 Neutro                \n2165                               Totalmente en desacuerdo                \n2171                               Totalmente en desacuerdo                \n\nPregunta 13.11 Las niñas son más ordenadas que los niños.  \\\n3                                Totalmente en desacuerdo   \n5                                                  Neutro   \n9                                Totalmente en desacuerdo   \n14                               Totalmente en desacuerdo   \n16                                          En desacuerdo   \n...                                                   ...   \n2141                             Totalmente en desacuerdo   \n2146                             Totalmente en desacuerdo   \n2148                                               Neutro   \n2165                             Totalmente en desacuerdo   \n2171                                               Neutro   \n\nPregunta 13.12 Muchas mujeres se caracterizan por una pureza que pocos hombres poseen.  \\\n3                                                    Neutro                              \n5                                                    Neutro                              \n9                                  Totalmente en desacuerdo                              \n14                                            En desacuerdo                              \n16                                            En desacuerdo                              \n...                                                     ...                              \n2141                                          En desacuerdo                              \n2146                               Totalmente en desacuerdo                              \n2148                                                 Neutro                              \n2165                                                 Neutro                              \n2171                               Totalmente en desacuerdo                              \n\nPregunta 13.13 Las mujeres deben ser queridas y protegidas por los hombres.  \\\n3                                                De acuerdo                   \n5                                                    Neutro                   \n9                                  Totalmente en desacuerdo                   \n14                                 Totalmente en desacuerdo                   \n16                                            En desacuerdo                   \n...                                                     ...                   \n2141                                          En desacuerdo                   \n2146                                  Totalmente de acuerdo                   \n2148                                                 Neutro                   \n2165                                                 Neutro                   \n2171                                                 Neutro                   \n\nPregunta 13.14 Todo hombre debe tener una mujer a quien amar.  \\\n3                                                    Neutro     \n5                                                    Neutro     \n9                                  Totalmente en desacuerdo     \n14                                 Totalmente en desacuerdo     \n16                                            En desacuerdo     \n...                                                     ...     \n2141                               Totalmente en desacuerdo     \n2146                                             De acuerdo     \n2148                                                 Neutro     \n2165                                                 Neutro     \n2171                                                 Neutro     \n\nPregunta 13.15 El hombre está incompleto sin la mujer.  \\\n3                             Totalmente en desacuerdo   \n5                                               Neutro   \n9                             Totalmente en desacuerdo   \n14                            Totalmente en desacuerdo   \n16                                       En desacuerdo   \n...                                                ...   \n2141                          Totalmente en desacuerdo   \n2146                                     En desacuerdo   \n2148                                            Neutro   \n2165                                            Neutro   \n2171                                            Neutro   \n\nPregunta 13.16 Las mujeres en comparación con los hombres, tienden a tener un sentido más refinado de la cultura y el buen gusto.  \\\n3                                                    Neutro                                                                         \n5                                                    Neutro                                                                         \n9                                  Totalmente en desacuerdo                                                                         \n14                                 Totalmente en desacuerdo                                                                         \n16                                            En desacuerdo                                                                         \n...                                                     ...                                                                         \n2141                                          En desacuerdo                                                                         \n2146                                          En desacuerdo                                                                         \n2148                                                 Neutro                                                                         \n2165                                                 Neutro                                                                         \n2171                                                 Neutro                                                                         \n\nPregunta 13.2 Es normal que la mayoria de ingenieros mecánicos sean varones porque los hombres son mejores para los números.  \\\n3                                  Totalmente en desacuerdo                                                                    \n5                                  Totalmente en desacuerdo                                                                    \n9                                  Totalmente en desacuerdo                                                                    \n14                                 Totalmente en desacuerdo                                                                    \n16                                            En desacuerdo                                                                    \n...                                                     ...                                                                    \n2141                               Totalmente en desacuerdo                                                                    \n2146                               Totalmente en desacuerdo                                                                    \n2148                                                 Neutro                                                                    \n2165                               Totalmente en desacuerdo                                                                    \n2171                               Totalmente en desacuerdo                                                                    \n\nPregunta 13.3 Por su esencia una mujer tiene mejor desempeño en un proyecto de alto impacto social que en un proyecto de robótica industrial.  \\\n3                                  Totalmente en desacuerdo                                                                                     \n5                                                    Neutro                                                                                     \n9                                  Totalmente en desacuerdo                                                                                     \n14                                 Totalmente en desacuerdo                                                                                     \n16                                            En desacuerdo                                                                                     \n...                                                     ...                                                                                     \n2141                                          En desacuerdo                                                                                     \n2146                                  Totalmente de acuerdo                                                                                     \n2148                                                 Neutro                                                                                     \n2165                               Totalmente en desacuerdo                                                                                     \n2171                               Totalmente en desacuerdo                                                                                     \n\nPregunta 13.4 Los hombres son mejores para la tecnologia que las mujeres.  \\\n3                                  Totalmente en desacuerdo                 \n5                                                    Neutro                 \n9                                  Totalmente en desacuerdo                 \n14                                 Totalmente en desacuerdo                 \n16                                            En desacuerdo                 \n...                                                     ...                 \n2141                               Totalmente en desacuerdo                 \n2146                               Totalmente en desacuerdo                 \n2148                                                 Neutro                 \n2165                               Totalmente en desacuerdo                 \n2171                               Totalmente en desacuerdo                 \n\nPregunta 13.5 Las mujeres tienen mayores habilidades para provectos sociales que tecnológicos  \\\n3                                  Totalmente en desacuerdo                                     \n5                                                    Neutro                                     \n9                                             En desacuerdo                                     \n14                                 Totalmente en desacuerdo                                     \n16                                            En desacuerdo                                     \n...                                                     ...                                     \n2141                                          En desacuerdo                                     \n2146                               Totalmente en desacuerdo                                     \n2148                                                 Neutro                                     \n2165                               Totalmente en desacuerdo                                     \n2171                               Totalmente en desacuerdo                                     \n\nPregunta 13.6 Los grandes aportes en la computación han sido hechos por hombres.  \\\n3                                             En desacuerdo                        \n5                                                    Neutro                        \n9                                  Totalmente en desacuerdo                        \n14                                 Totalmente en desacuerdo                        \n16                                            En desacuerdo                        \n...                                                     ...                        \n2141                               Totalmente en desacuerdo                        \n2146                                                 Neutro                        \n2148                                                 Neutro                        \n2165                                                 Neutro                        \n2171                                                 Neutro                        \n\nPregunta 13.7 Que la mayoria de mujeres no opte por areas exactas es simplemente una cuestión de preferencias.  \\\n3                                                De acuerdo                                                      \n5                                  Totalmente en desacuerdo                                                      \n9                                                    Neutro                                                      \n14                                            En desacuerdo                                                      \n16                                            En desacuerdo                                                      \n...                                                     ...                                                      \n2141                                          En desacuerdo                                                      \n2146                                          En desacuerdo                                                      \n2148                                          En desacuerdo                                                      \n2165                                                 Neutro                                                      \n2171                                          En desacuerdo                                                      \n\nPregunta 13.8 Que la mayoria de personas en artes y humanidades sean mujeres es muestra de su sensibilidad.  \\\n3                                                De acuerdo                                                   \n5                                  Totalmente en desacuerdo                                                   \n9                                                    Neutro                                                   \n14                                 Totalmente en desacuerdo                                                   \n16                                            En desacuerdo                                                   \n...                                                     ...                                                   \n2141                                          En desacuerdo                                                   \n2146                                                 Neutro                                                   \n2148                                                 Neutro                                                   \n2165                               Totalmente en desacuerdo                                                   \n2171                                          En desacuerdo                                                   \n\nPregunta 13.9 Es natural que los hombres sean buenos para los números y las mujeres para las letras.  \\\n3                                  Totalmente en desacuerdo                                            \n5                                                    Neutro                                            \n9                                  Totalmente en desacuerdo                                            \n14                                 Totalmente en desacuerdo                                            \n16                                            En desacuerdo                                            \n...                                                     ...                                            \n2141                               Totalmente en desacuerdo                                            \n2146                               Totalmente en desacuerdo                                            \n2148                                                 Neutro                                            \n2165                               Totalmente en desacuerdo                                            \n2171                               Totalmente en desacuerdo                                            \n\nPregunta          15. Afirmaciones autoeficacia técnologica  \\\n3         Sé cómo resolver los problemas técnicos cuando...   \n5         Sé cómo resolver los problemas técnicos cuando...   \n9         Sé cómo resolver los problemas técnicos cuando...   \n14        Sé cómo resolver los problemas técnicos cuando...   \n16        Sé cómo resolver los problemas técnicos cuando...   \n...                                                     ...   \n2141      Sé cómo resolver los problemas técnicos cuando...   \n2146      Sé cómo resolver los problemas técnicos cuando...   \n2148      Sé cómo resolver los problemas técnicos cuando...   \n2165      Sé cómo resolver los problemas técnicos cuando...   \n2171      Sé cómo resolver los problemas técnicos cuando...   \n\nPregunta 15.1 Sé cómo resolver los problemas técnicos cuando fallan las TIC  \\\n3                                     Totalmente de acuerdo                   \n5                                                    Neutro                   \n9                                                De acuerdo                   \n14                                               De acuerdo                   \n16                                            En desacuerdo                   \n...                                                     ...                   \n2141                                          En desacuerdo                   \n2146                                             De acuerdo                   \n2148                                          En desacuerdo                   \n2165                                             De acuerdo                   \n2171                                             De acuerdo                   \n\nPregunta 15.2 Puedo aprender sobre nuevas tecnologías fácilmente  \\\n3                                     Totalmente de acuerdo        \n5                                             En desacuerdo        \n9                                     Totalmente de acuerdo        \n14                                    Totalmente de acuerdo        \n16                                                   Neutro        \n...                                                     ...        \n2141                                             De acuerdo        \n2146                                             De acuerdo        \n2148                                          En desacuerdo        \n2165                                  Totalmente de acuerdo        \n2171                                  Totalmente de acuerdo        \n\nPregunta 15.3 Sé cómo usar las TIC con los estudiantes en clase  \\\n3                                     Totalmente de acuerdo       \n5                                             En desacuerdo       \n9                                                De acuerdo       \n14                                               De acuerdo       \n16                                                   Neutro       \n...                                                     ...       \n2141                                             De acuerdo       \n2146                                             De acuerdo       \n2148                                             De acuerdo       \n2165                                             De acuerdo       \n2171                                                 Neutro       \n\nPregunta 15.4 Me apoyo en mis colegas para resolver problemas sobre cómo trabajar algún tema  \\\n3                                     Totalmente de acuerdo                                    \n5                                             En desacuerdo                                    \n9                                                    Neutro                                    \n14                                    Totalmente de acuerdo                                    \n16                                               De acuerdo                                    \n...                                                     ...                                    \n2141                                             De acuerdo                                    \n2146                               Totalmente en desacuerdo                                    \n2148                                             De acuerdo                                    \n2165                                             De acuerdo                                    \n2171                                          En desacuerdo                                    \n\nPregunta 15.5 Puedo hablar con otros docentes sobre el diseño de cursos  \\\n3                                                De acuerdo               \n5                                                    Neutro               \n9                                                De acuerdo               \n14                                    Totalmente de acuerdo               \n16                                                   Neutro               \n...                                                     ...               \n2141                                             De acuerdo               \n2146                                                 Neutro               \n2148                                             De acuerdo               \n2165                                  Totalmente de acuerdo               \n2171                                  Totalmente de acuerdo               \n\nPregunta 15.6 Siento que tengo apoyo de otros docentes para el diseño de mis cursos  \\\n3                                                De acuerdo                           \n5                                                    Neutro                           \n9                                                De acuerdo                           \n14                                    Totalmente de acuerdo                           \n16                                                   Neutro                           \n...                                                     ...                           \n2141                                             De acuerdo                           \n2146                               Totalmente en desacuerdo                           \n2148                                             De acuerdo                           \n2165                                  Totalmente de acuerdo                           \n2171                               Totalmente en desacuerdo                           \n\nPregunta 15.7 No tengo con quién conversar sobre el diseño de mis cursos  \\\n3                                  Totalmente en desacuerdo                \n5                                  Totalmente en desacuerdo                \n9                                  Totalmente en desacuerdo                \n14                                 Totalmente en desacuerdo                \n16                                                   Neutro                \n...                                                     ...                \n2141                                          En desacuerdo                \n2146                                                 Neutro                \n2148                                             De acuerdo                \n2165                               Totalmente en desacuerdo                \n2171                                                 Neutro                \n\nPregunta                                      17. Practicas  \\\n3         Usar el correo electrónico - 5, Crear y usar d...   \n5         Usar el correo electrónico - 3, Crear y usar d...   \n9         Usar el correo electrónico - 5, Crear y usar d...   \n14        Usar el correo electrónico - 5, Crear y usar d...   \n16        Usar el correo electrónico - 4, Crear y usar d...   \n...                                                     ...   \n2141      Usar el correo electrónico - 4, Crear y usar d...   \n2146      Usar el correo electrónico - 5, Crear y usar d...   \n2148      Usar el correo electrónico - 4, Crear y usar d...   \n2165      Usar el correo electrónico - 3, Crear y usar d...   \n2171      Usar el correo electrónico - 5, Crear y usar d...   \n\nPregunta 17.1 Usar el correo electrónico  \\\n3                  Totalmente de acuerdo   \n5                                 Neutro   \n9                  Totalmente de acuerdo   \n14                 Totalmente de acuerdo   \n16                            De acuerdo   \n...                                  ...   \n2141                          De acuerdo   \n2146               Totalmente de acuerdo   \n2148                          De acuerdo   \n2165                              Neutro   \n2171               Totalmente de acuerdo   \n\nPregunta 17.2 Crear y usar de modelos y simulaciones  \\\n3                              Totalmente de acuerdo   \n5                              Totalmente de acuerdo   \n9                              Totalmente de acuerdo   \n14                                        De acuerdo   \n16                          Totalmente en desacuerdo   \n...                                              ...   \n2141                                      De acuerdo   \n2146                           Totalmente de acuerdo   \n2148                                   En desacuerdo   \n2165                           Totalmente de acuerdo   \n2171                           Totalmente de acuerdo   \n\nPregunta   17.3 Automatizar tareas         17.4 Usar Word  \\\n3            Totalmente de acuerdo  Totalmente de acuerdo   \n5            Totalmente de acuerdo                 Neutro   \n9            Totalmente de acuerdo  Totalmente de acuerdo   \n14                      De acuerdo  Totalmente de acuerdo   \n16        Totalmente en desacuerdo             De acuerdo   \n...                            ...                    ...   \n2141                    De acuerdo             De acuerdo   \n2146         Totalmente de acuerdo  Totalmente de acuerdo   \n2148                 En desacuerdo             De acuerdo   \n2165         Totalmente de acuerdo                 Neutro   \n2171                    De acuerdo                 Neutro   \n\nPregunta       17.5 Procesar Datos  \\\n3            Totalmente de acuerdo   \n5            Totalmente de acuerdo   \n9            Totalmente de acuerdo   \n14           Totalmente de acuerdo   \n16        Totalmente en desacuerdo   \n...                            ...   \n2141         Totalmente de acuerdo   \n2146         Totalmente de acuerdo   \n2148                        Neutro   \n2165         Totalmente de acuerdo   \n2171                    De acuerdo   \n\nPregunta 17.6 Resolver problemas a través de herramientas computacionales (como simulaciones)  \\\n3                                     Totalmente de acuerdo                                     \n5                                     Totalmente de acuerdo                                     \n9                                     Totalmente de acuerdo                                     \n14                                    Totalmente de acuerdo                                     \n16                                 Totalmente en desacuerdo                                     \n...                                                     ...                                     \n2141                                  Totalmente de acuerdo                                     \n2146                                  Totalmente de acuerdo                                     \n2148                                          En desacuerdo                                     \n2165                                  Totalmente de acuerdo                                     \n2171                                  Totalmente de acuerdo                                     \n\nPregunta 17.7 Resolver problemas a través de herramientas computacionales (como lenguajes de programación)  \\\n3                                     Totalmente de acuerdo                                                  \n5                                     Totalmente de acuerdo                                                  \n9                                     Totalmente de acuerdo                                                  \n14                                    Totalmente de acuerdo                                                  \n16                                 Totalmente en desacuerdo                                                  \n...                                                     ...                                                  \n2141                                             De acuerdo                                                  \n2146                                  Totalmente de acuerdo                                                  \n2148                                          En desacuerdo                                                  \n2165                                  Totalmente de acuerdo                                                  \n2171                                  Totalmente de acuerdo                                                  \n\nPregunta          18. Integración Pensamiento Computacional  \\\n3         Puedo aplicar las prácticas y habilidades del ...   \n5         Puedo aplicar las prácticas y habilidades del ...   \n9         Puedo aplicar las prácticas y habilidades del ...   \n14        Puedo aplicar las prácticas y habilidades del ...   \n16        Puedo aplicar las prácticas y habilidades del ...   \n...                                                     ...   \n2141      Puedo aplicar las prácticas y habilidades del ...   \n2146      Puedo aplicar las prácticas y habilidades del ...   \n2148      Puedo aplicar las prácticas y habilidades del ...   \n2165      Puedo aplicar las prácticas y habilidades del ...   \n2171      Puedo aplicar las prácticas y habilidades del ...   \n\nPregunta 18.1 Puedo aplicar las prácticas y habilidades del pensamiento computacional a mi trabajo  \\\n3                                     Totalmente de acuerdo                                          \n5                                                De acuerdo                                          \n9                                                De acuerdo                                          \n14                                               De acuerdo                                          \n16                                                   Neutro                                          \n...                                                     ...                                          \n2141                                             De acuerdo                                          \n2146                                             De acuerdo                                          \n2148                                             De acuerdo                                          \n2165                                          En desacuerdo                                          \n2171                                             De acuerdo                                          \n\nPregunta 18.10 Puedo implementar y evaluar la idoneidad de una estrategia pedagógica que le permita a los estudiantes desarrollar pensamiento computacional  \\\n3                                                De acuerdo                                                                                                   \n5                                                    Neutro                                                                                                   \n9                                             En desacuerdo                                                                                                   \n14                                            En desacuerdo                                                                                                   \n16                                                   Neutro                                                                                                   \n...                                                     ...                                                                                                   \n2141                                          En desacuerdo                                                                                                   \n2146                                             De acuerdo                                                                                                   \n2148                                                 Neutro                                                                                                   \n2165                                                 Neutro                                                                                                   \n2171                                             De acuerdo                                                                                                   \n\nPregunta 18.2 Puedo definir el pensamiento computacional  \\\n3                                  Totalmente de acuerdo   \n5                                             De acuerdo   \n9                                                 Neutro   \n14                                                Neutro   \n16                                                Neutro   \n...                                                  ...   \n2141                                          De acuerdo   \n2146                                          De acuerdo   \n2148                                          De acuerdo   \n2165                                              Neutro   \n2171                                              Neutro   \n\nPregunta 18.3 Puedo describir las prácticas y habilidades que componen el pensamiento computacional a mis estudiantes  \\\n3                                                De acuerdo                                                             \n5                                                De acuerdo                                                             \n9                                                    Neutro                                                             \n14                                                   Neutro                                                             \n16                                                   Neutro                                                             \n...                                                     ...                                                             \n2141                                             De acuerdo                                                             \n2146                                             De acuerdo                                                             \n2148                                             De acuerdo                                                             \n2165                                                 Neutro                                                             \n2171                                          En desacuerdo                                                             \n\nPregunta 18.4 Puedo aplicar las prácticas y habilidades del pensamiento computacional a mi vida diaria  \\\n3                                                De acuerdo                                              \n5                                                De acuerdo                                              \n9                                                    Neutro                                              \n14                                                   Neutro                                              \n16                                                   Neutro                                              \n...                                                     ...                                              \n2141                                             De acuerdo                                              \n2146                                             De acuerdo                                              \n2148                                             De acuerdo                                              \n2165                                                 Neutro                                              \n2171                                             De acuerdo                                              \n\nPregunta 18.5 Creo que tengo las habilidades para desarrollar el pensamiento computacional en mis estudiantes  \\\n3                                                De acuerdo                                                     \n5                                                De acuerdo                                                     \n9                                             En desacuerdo                                                     \n14                                            En desacuerdo                                                     \n16                                                   Neutro                                                     \n...                                                     ...                                                     \n2141                                             De acuerdo                                                     \n2146                                             De acuerdo                                                     \n2148                                                 Neutro                                                     \n2165                                             De acuerdo                                                     \n2171                                             De acuerdo                                                     \n\nPregunta 18.6 Puedo enseñar fácilmente sobre nuevas prácticas computacionales  \\\n3                                                De acuerdo                     \n5                                                De acuerdo                     \n9                                             En desacuerdo                     \n14                                                   Neutro                     \n16                                                   Neutro                     \n...                                                     ...                     \n2141                                          En desacuerdo                     \n2146                                             De acuerdo                     \n2148                                                 Neutro                     \n2165                                             De acuerdo                     \n2171                                             De acuerdo                     \n\nPregunta 18.7 Puedo diseñar una clase que desarrolle el pensamiento computacional en los estudiantes  \\\n3                                                De acuerdo                                            \n5                                                De acuerdo                                            \n9                                             En desacuerdo                                            \n14                                                   Neutro                                            \n16                                                   Neutro                                            \n...                                                     ...                                            \n2141                                          En desacuerdo                                            \n2146                                             De acuerdo                                            \n2148                                                 Neutro                                            \n2165                                             De acuerdo                                            \n2171                                  Totalmente de acuerdo                                            \n\nPregunta 18.8 Puedo seleccionar tecnologías para usar en mi salón de clases, que me permitan mejorar qué enseño y cómo enseño pensamiento computacional.  \\\n3                                                De acuerdo                                                                                                \n5                                                    Neutro                                                                                                \n9                                                De acuerdo                                                                                                \n14                                                   Neutro                                                                                                \n16                                                   Neutro                                                                                                \n...                                                     ...                                                                                                \n2141                                             De acuerdo                                                                                                \n2146                                             De acuerdo                                                                                                \n2148                                                 Neutro                                                                                                \n2165                                             De acuerdo                                                                                                \n2171                                             De acuerdo                                                                                                \n\nPregunta 18.9 Puedo aplicar mis habilidades en pensamiento computacional para ayudar a los estudiantes a perseguir sus intereses individuales  \\\n3                                                De acuerdo                                                                                     \n5                                                    Neutro                                                                                     \n9                                             En desacuerdo                                                                                     \n14                                            En desacuerdo                                                                                     \n16                                                   Neutro                                                                                     \n...                                                     ...                                                                                     \n2141                                          En desacuerdo                                                                                     \n2146                                             De acuerdo                                                                                     \n2148                                                 Neutro                                                                                     \n2165                                                 Neutro                                                                                     \n2171                                             De acuerdo                                                                                     \n\nPregunta                                   19. Comentarios. 2. Edad  \\\n3                                            Todo Entendido      41   \n5                                                        NR      42   \n9         Las preguntas específicas de programación no t...      39   \n14        Considero que fueron una afirmasiones muy sexi...      38   \n16                                                  NINGUNO      41   \n...                                                     ...     ...   \n2141      Como docentes guiamos y orientamos los proceso...      35   \n2146                                                Ninguna      38   \n2148                                      Equidad de género      40   \n2165      He contestado las últimas preguntas de acuerdo...      32   \n2171      Me gastaría que me mencionaras el nombre del p...      35   \n\nPregunta                          20. Prácticas pedagógicas  \\\n3         Actividades desconectadas - 9, Usa-Modifica-Cr...   \n5         Actividades desconectadas - 5, Usa-Modifica-Cr...   \n9         Actividades desconectadas - 0, Usa-Modifica-Cr...   \n14        Actividades desconectadas - 8, Usa-Modifica-Cr...   \n16        Actividades desconectadas - 10, Usa-Modifica-C...   \n...                                                     ...   \n2141      Actividades desconectadas - 7, Usa-Modifica-Cr...   \n2146      Actividades desconectadas - 10, Usa-Modifica-C...   \n2148      Actividades desconectadas - 5, Usa-Modifica-Cr...   \n2165      Actividades desconectadas - 10, Usa-Modifica-C...   \n2171      Actividades desconectadas - 8, Usa-Modifica-Cr...   \n\nPregunta 20.1 Actividades desconectadas 20.2 Usa-Modifica-Crea  \\\n3                                   9.0                    9.0   \n5                                   5.0                    8.0   \n9                                   0.0                    0.0   \n14                                  8.0                    1.0   \n16                                 10.0                    6.0   \n...                                 ...                    ...   \n2141                                7.0                    1.0   \n2146                               10.0                   10.0   \n2148                                5.0                    7.0   \n2165                               10.0                    0.0   \n2171                                8.0                    7.0   \n\nPregunta 20.3 Clase magistral 20.4 Enseñanza explícita y sin ambigüedades  \\\n3                        10.0                                        10.0   \n5                         5.0                                         0.0   \n9                         5.0                                         5.0   \n14                        8.0                                         0.0   \n16                        9.0                                         8.0   \n...                       ...                                         ...   \n2141                      4.0                                         4.0   \n2146                     10.0                                        10.0   \n2148                      4.0                                         9.0   \n2165                      6.0                                         0.0   \n2171                     10.0                                        10.0   \n\nPregunta 20.5 Marcha Silenciosa 20.6 Aprendizaje basado en proyectos  \\\n3                           0.0                                 10.0   \n5                           0.0                                  0.0   \n9                           0.0                                  5.0   \n14                          0.0                                  1.0   \n16                          7.0                                  3.0   \n...                         ...                                  ...   \n2141                        0.0                                  5.0   \n2146                       10.0                                 10.0   \n2148                        7.0                                  8.0   \n2165                        0.0                                 10.0   \n2171                        6.0                                 10.0   \n\nPregunta                                   21. Comentarios.  \\\n3                                            Todo Entendido   \n5                                                        NR   \n9         entendiendo pensamiento computacional el uso d...   \n14        No tengo conocimientos sobre Enseñanza explíci...   \n16                                                  NINGUNO   \n...                                                     ...   \n2141      En los grados de básica primaria se buscan que...   \n2146                                                Ninguna   \n2148                                             Innovación   \n2165      existe un desconocimiento de las prácticas ped...   \n2171      El aprendizaje basado en proyectos, es una com...   \n\nPregunta                22. Estrategias contra dificultades  \\\n3         Le explicaría la respuesta correcta - 8, Le su...   \n5         Le explicaría la respuesta correcta - 2, Le su...   \n9         Le explicaría la respuesta correcta - 0, Le su...   \n14        Le explicaría la respuesta correcta - 8, Le su...   \n16        Le explicaría la respuesta correcta - 1, Le su...   \n...                                                     ...   \n2141      Le explicaría la respuesta correcta - 9, Le su...   \n2146      Le explicaría la respuesta correcta - 10, Le s...   \n2148      Le explicaría la respuesta correcta - 9, Le su...   \n2165      Le explicaría la respuesta correcta - 6, Le su...   \n2171      Le explicaría la respuesta correcta - 5, Le su...   \n\nPregunta 22.1 Le explicaría la respuesta correcta  \\\n3                                             8.0   \n5                                             2.0   \n9                                             0.0   \n14                                            8.0   \n16                                            1.0   \n...                                           ...   \n2141                                          9.0   \n2146                                         10.0   \n2148                                          9.0   \n2165                                          6.0   \n2171                                          5.0   \n\nPregunta 22.2 Le sugeriría ir paso a paso por el programa simulando su ejecución  \\\n3                                                      10.0                        \n5                                                       8.0                        \n9                                                       0.0                        \n14                                                      8.0                        \n16                                                     10.0                        \n...                                                     ...                        \n2141                                                   10.0                        \n2146                                                   10.0                        \n2148                                                    8.0                        \n2165                                                   10.0                        \n2171                                                   10.0                        \n\nPregunta 22.3 Le diría que revise sus notas  \\\n3                                       8.0   \n5                                       8.0   \n9                                       0.0   \n14                                      7.0   \n16                                     10.0   \n...                                     ...   \n2141                                    9.0   \n2146                                   10.0   \n2148                                    5.0   \n2165                                    0.0   \n2171                                   10.0   \n\nPregunta 22.4 Le sugeriría que revise las memorias colectivas  \\\n3                                                      10.0     \n5                                                       8.0     \n9                                                       0.0     \n14                                                     10.0     \n16                                                      8.0     \n...                                                     ...     \n2141                                                    9.0     \n2146                                                   10.0     \n2148                                                    4.0     \n2165                                                    0.0     \n2171                                                   10.0     \n\nPregunta 22.5 Le sugeriría volver a leer el problema  \\\n3                                               10.0   \n5                                                8.0   \n9                                                0.0   \n14                                               8.0   \n16                                               8.0   \n...                                              ...   \n2141                                             9.0   \n2146                                            10.0   \n2148                                             7.0   \n2165                                             8.0   \n2171                                            10.0   \n\nPregunta 22.6 Le sugeriría intentar con varios valores para evaluar el programa  \\\n3                                                      10.0                       \n5                                                       8.0                       \n9                                                       0.0                       \n14                                                      9.0                       \n16                                                      6.0                       \n...                                                     ...                       \n2141                                                    8.0                       \n2146                                                   10.0                       \n2148                                                    7.0                       \n2165                                                   10.0                       \n2171                                                   10.0                       \n\nPregunta 22.7 Le explicaría el problema nuevamente  \\\n3                                             10.0   \n5                                              8.0   \n9                                              0.0   \n14                                             8.0   \n16                                             8.0   \n...                                            ...   \n2141                                           9.0   \n2146                                          10.0   \n2148                                           7.0   \n2165                                          10.0   \n2171                                          10.0   \n\nPregunta                                      24. Margarita  \\\n3         Si, los estudiantes están aprendiendo a recole...   \n5         Si, los estudiantes están aprendiendo sobre mo...   \n9         Si, los estudiantes están aprendiendo sobre mo...   \n14        Si, los estudiantes están aprendiendo a recole...   \n16        Si, los estudiantes están aprendiendo a recole...   \n...                                                     ...   \n2141      Si, los estudiantes están aprendiendo a recole...   \n2146      Si, los estudiantes están aprendiendo sobre mo...   \n2148      Si, los estudiantes están aprendiendo sobre mo...   \n2165      Si, los estudiantes están aprendiendo a recole...   \n2171      Si, los estudiantes están aprendiendo sobre mo...   \n\nPregunta 24.1 No, solo está usando computadores  \\\n3                                            NO   \n5                                            NO   \n9                                            NO   \n14                                           NO   \n16                                           NO   \n...                                         ...   \n2141                                         NO   \n2146                                         NO   \n2148                                         NO   \n2165                                         NO   \n2171                                         NO   \n\nPregunta 24.2 No, los estudiantes sólo están aprendiendo a cargar cosas en un archivo compartido y crear un gráfico  \\\n3                                                        NO                                                           \n5                                                        NO                                                           \n9                                                        NO                                                           \n14                                                       NO                                                           \n16                                                       NO                                                           \n...                                                     ...                                                           \n2141                                                     NO                                                           \n2146                                                     NO                                                           \n2148                                                     NO                                                           \n2165                                                     NO                                                           \n2171                                                     NO                                                           \n\nPregunta 24.3 Si, los estudiantes están aprendiendo sobre modelos computacionales para la predicción del clima  \\\n3                                                        NO                                                      \n5                                                        SI                                                      \n9                                                        SI                                                      \n14                                                       NO                                                      \n16                                                       NO                                                      \n...                                                     ...                                                      \n2141                                                     NO                                                      \n2146                                                     SI                                                      \n2148                                                     SI                                                      \n2165                                                     NO                                                      \n2171                                                     SI                                                      \n\nPregunta 24.4 Si, los estudiantes están aprendiendo a recolectar, organizar, y analizar datos.  \\\n3                                                        SI                                      \n5                                                        SI                                      \n9                                                        SI                                      \n14                                                       SI                                      \n16                                                       SI                                      \n...                                                     ...                                      \n2141                                                     SI                                      \n2146                                                     SI                                      \n2148                                                     NO                                      \n2165                                                     SI                                      \n2171                                                     SI                                      \n\nPregunta 24.5 Otra:                          25. Cafeteria del Colegio  \\\n3                NO           No, María solo está buscando su almuerzo   \n5                NO  Si, María está dividiendo el problema en probl...   \n9                NO  Si, María está dividiendo el problema en probl...   \n14               NO  Si, María está usando un algoritmo para encont...   \n16               NO  Si, María está dividiendo el problema en probl...   \n...             ...                                                ...   \n2141             NO  Si, María está dividiendo el problema en probl...   \n2146             NO  Si, María está usando un algoritmo para encont...   \n2148             NO  Si, María está usando un algoritmo para encont...   \n2165             NO  Si, María está usando un algoritmo para encont...   \n2171             NO  Si, María está usando un algoritmo para encont...   \n\nPregunta 25.1 No, en ningún momento de habla de computadores  \\\n3                                                        NO    \n5                                                        NO    \n9                                                        NO    \n14                                                       NO    \n16                                                       NO    \n...                                                     ...    \n2141                                                     NO    \n2146                                                     NO    \n2148                                                     NO    \n2165                                                     NO    \n2171                                                     NO    \n\nPregunta 25.2 Si, María está dividiendo el problema en problemas más sencillos  \\\n3                                                        NO                      \n5                                                        SI                      \n9                                                        SI                      \n14                                                       NO                      \n16                                                       SI                      \n...                                                     ...                      \n2141                                                     SI                      \n2146                                                     NO                      \n2148                                                     NO                      \n2165                                                     NO                      \n2171                                                     NO                      \n\nPregunta 25.3 Si, María está usando un algoritmo para encontrar su almuerzo  \\\n3                                                        NO                   \n5                                                        SI                   \n9                                                        SI                   \n14                                                       SI                   \n16                                                       NO                   \n...                                                     ...                   \n2141                                                     SI                   \n2146                                                     SI                   \n2148                                                     SI                   \n2165                                                     SI                   \n2171                                                     SI                   \n\nPregunta 25.4 No, María solo está buscando su almuerzo 25.5 Otra:  \\\n3                                                   SI         NO   \n5                                                   NO         NO   \n9                                                   NO         NO   \n14                                                  NO         NO   \n16                                                  NO         NO   \n...                                                ...        ...   \n2141                                                NO         NO   \n2146                                                SI         NO   \n2148                                                NO         NO   \n2165                                                NO         NO   \n2171                                                NO         NO   \n\nPregunta 26. Raton robot                              27. Diagrama de flujo  \\\n3                      4      El programa no funciona, falta incluir el Fin   \n5                      3      El programa no funciona, falta incluir el Fin   \n9                      1                                No sé/No lo conozco   \n14                     5  El programa si funciona y lo puede implementar...   \n16                     2                                No sé/No lo conozco   \n...                  ...                                                ...   \n2141                   3  El programa no funciona, debe capturar nuevame...   \n2146                   5  El programa si funciona y lo puede implementar...   \n2148                   5                                No sé/No lo conozco   \n2165                   3  El programa no funciona, debe capturar nuevame...   \n2171                   4  El programa si funciona y lo puede implementar...   \n\nPregunta 28. Variable secuela            29. A B C 3. Contexto IDE  \\\n3         No sé/No lo conozco                   10          Urbano   \n5                           9                   10          Urbano   \n9         No sé/No lo conozco                   10          Urbano   \n14        No sé/No lo conozco                   10          Urbano   \n16        No sé/No lo conozco  No sé/No lo conozco          Urbano   \n...                       ...                  ...             ...   \n2141                        9               10 y 3          Urbano   \n2146                        3                    3           Rural   \n2148      No sé/No lo conozco  No sé/No lo conozco          Urbano   \n2165      No sé/No lo conozco                   10          Urbano   \n2171                        3               10 y 3           Rural   \n\nPregunta 30. Manzana Uvas Bananas  \\\n3             No sé/No lo conozco   \n5                    II solamente   \n9                          I y II   \n14            No sé/No lo conozco   \n16            No sé/No lo conozco   \n...                           ...   \n2141                       I y II   \n2146                  I solamente   \n2148          No sé/No lo conozco   \n2165          No sé/No lo conozco   \n2171          No sé/No lo conozco   \n\nPregunta                            31. Variables booleanas  \\\n3                                       No sé/No lo conozco   \n5                                       No sé/No lo conozco   \n9         Las expresiones son ambas verdaderas solamente...   \n14                                      No sé/No lo conozco   \n16                                      No sé/No lo conozco   \n...                                                     ...   \n2141      La segunda expresión es verdadera solamente si...   \n2146      La segunda expresión es verdadera si “(a O b)”...   \n2148                                    No sé/No lo conozco   \n2165                                    No sé/No lo conozco   \n2171      La segunda expresión es verdadera solamente si...   \n\nPregunta 32. Alcaldía Valeria                   33. Botella de Color  \\\n3                    Imagen 3            La botella D debe ser verde   \n5                    Imagen 3            La botella D debe ser verde   \n9                    Imagen 3            La botella B debe ser verde   \n14                   Imagen 3            La botella C debe ser verde   \n16        No sé/No lo conozco                   No sé/ No lo conozco   \n...                       ...                                    ...   \n2141                 Imagen 3  Ninguna botella debe cambiar de color   \n2146                 Imagen 2  Ninguna botella debe cambiar de color   \n2148      No sé/No lo conozco                   No sé/ No lo conozco   \n2165                 Imagen 3            La botella B debe ser verde   \n2171                 Imagen 2            La botella C debe ser verde   \n\nPregunta            34. Alejandra codigo bloque  4. Género 5. Cabeza de Hogar  \\\n3         Está equivocada, el resultado es 120.  Masculino                 No   \n5         Está equivocada, el resultado es 120.  Masculino                 Sí   \n9                           No sé/No lo conozco   Femenino                 Sí   \n14                          No sé/No lo conozco   Femenino                 Sí   \n16                          No sé/No lo conozco   Femenino                 Sí   \n...                                         ...        ...                ...   \n2141      Está equivocada, el resultado es 120.   Femenino                 No   \n2146                        No sé/No lo conozco   Femenino                 Sí   \n2148                        No sé/No lo conozco   Femenino                 Sí   \n2165      Está equivocada, el resultado es 120.  Masculino                 No   \n2171      Está equivocada, el resultado es 120.  Masculino                 No   \n\nPregunta 6. Estado Civil 7. Horas semanales 8. ¿Es usted líder comunitario?  \\\n3              Soltero/a                 22                              Sí   \n5         En unión libre                 22                              Sí   \n9              Soltero/a                 20                              Sí   \n14             Soltero/a                 22                              Sí   \n16              Casado/a                 24                              Sí   \n...                  ...                ...                             ...   \n2141           Soltero/a                 23                              Sí   \n2146            Casado/a                 30                              Sí   \n2148            Casado/a                 23                              Sí   \n2165           Soltero/a                  2                              Sí   \n2171           Soltero/a                 22                              Sí   \n\nPregunta                         9. Áreas en las que enseña  \\\n3         Ciencias naturales y educación ambiental. - 0,...   \n5         Ciencias naturales y educación ambiental. - 0,...   \n9         Ciencias naturales y educación ambiental. - 0,...   \n14        Ciencias naturales y educación ambiental. - 0,...   \n16        Ciencias naturales y educación ambiental. - 0,...   \n...                                                     ...   \n2141      Ciencias naturales y educación ambiental. - 0,...   \n2146      Ciencias naturales y educación ambiental. - 4,...   \n2148      Ciencias naturales y educación ambiental. - 0,...   \n2165      Ciencias naturales y educación ambiental. - 0,...   \n2171      Ciencias naturales y educación ambiental. - 0,...   \n\nPregunta 9.1 Ciencias naturales y educación ambiental 9.10 Otro  \\\n3                                                   0         0   \n5                                                   0         0   \n9                                                   0         0   \n14                                                  0         0   \n16                                                  0         0   \n...                                               ...       ...   \n2141                                                0         0   \n2146                                                4         0   \n2148                                                0         0   \n2165                                                0        10   \n2171                                                0         0   \n\nPregunta 9.2 Ciencias sociales, historia, geografía, constitución política y democracia  \\\n3                                                         0                               \n5                                                         0                               \n9                                                         0                               \n14                                                        0                               \n16                                                        0                               \n...                                                     ...                               \n2141                                                      0                               \n2146                                                      0                               \n2148                                                      0                               \n2165                                                      0                               \n2171                                                      0                               \n\nPregunta 9.3 Educación artística 9.4 Educación ética y en valores humanos  \\\n3                              0                                        0   \n5                              0                                        0   \n9                              0                                        0   \n14                             0                                        0   \n16                             0                                        0   \n...                          ...                                      ...   \n2141                           0                                        0   \n2146                           0                                        0   \n2148                           0                                        0   \n2165                           0                                        0   \n2171                           0                                        0   \n\nPregunta 9.5 Educación física, recreación y deportes 9.6 Educación religiosa  \\\n3                                                  0                       0   \n5                                                  0                       0   \n9                                                  0                       0   \n14                                                 0                       0   \n16                                                 0                       0   \n...                                              ...                     ...   \n2141                                               0                       0   \n2146                                               0                       0   \n2148                                               0                       0   \n2165                                               0                       0   \n2171                                               0                       0   \n\nPregunta 9.7 Humanidades, lengua castellana e idiomas extranjeros  \\\n3                                                         0         \n5                                                         0         \n9                                                         0         \n14                                                        0         \n16                                                        7         \n...                                                     ...         \n2141                                                      0         \n2146                                                      0         \n2148                                                      9         \n2165                                                      0         \n2171                                                      0         \n\nPregunta 9.8 Matemáticas 9.9 Tecnología e informática           Apellido  \\\n3                      5                            5       Cruz  Aldana   \n5                      0                            6       Armero Muñoz   \n9                      3                            0  Lasprilla Herrera   \n14                     0                            6       Ortega Avila   \n16                     0                            0       Peña Bolivar   \n...                  ...                          ...                ...   \n2141                   1                            1    Barahona Pinzón   \n2146                   0                            0     Alvarez Sierra   \n2148                   0                            0    Vergel Boli Var   \n2165                   9                            0    Guerrero Osorio   \n2171                   5                            0     Palacio  Muñoz   \n\nPregunta         Correo Electrónico                   Curso  \\\n3            angelhcruz@hotmail.com  Curso Inicial 2022 I18   \n5                  adr33a@gmail.com  Curso Inicial 2022 I12   \n9                arranala@gmail.com  Curso Inicial 2022 I08   \n14            esther8mayo@gmail.com  Curso Inicial 2022 I04   \n16         adriana.mapb@hotmail.com  Curso Inicial 2022 I19   \n...                             ...                     ...   \n2141          andrebp19@hotmail.com  Curso Inicial 2022 I06   \n2146          zayda1982@hotmail.com  Curso Inicial 2022 I18   \n2148        zenaidavergel@gmail.com  Curso Inicial 2022 I19   \n2165      yeisondigital@hotmail.com  Curso Inicial 2022 I02   \n2171          palacio2805@gmail.com  Curso Inicial 2022 I07   \n\nPregunta                          Encuesta                 Hora  \\\n3         Cuestionario Inicial (10 puntos)  05/05/2022 16:59:24   \n5         Cuestionario Inicial (10 puntos)  04/05/2022 22:20:27   \n9         Cuestionario Inicial (10 puntos)  26/04/2022 11:02:21   \n14        Cuestionario Inicial (10 puntos)  25/04/2022 17:41:23   \n16        Cuestionario Inicial (10 puntos)  01/05/2022 23:39:55   \n...                                    ...                  ...   \n2141      Cuestionario Inicial (10 puntos)  29/04/2022 21:40:01   \n2146      Cuestionario Inicial (10 puntos)  02/05/2022 20:15:31   \n2148      Cuestionario Inicial (10 puntos)  27/04/2022 17:27:29   \n2165      Cuestionario Inicial (10 puntos)  01/05/2022 16:52:58   \n2171      Cuestionario Inicial (10 puntos)  05/05/2022 20:02:27   \n\nPregunta  ID Asignado Por Moodle          Nombre      Tipo  \n3                         1575.0  ANGEL HERNANDO  Prestest  \n5                         1052.0          Adrian  Prestest  \n9                          702.0         Adriana  Prestest  \n14                         353.0  Adriana Esther  Prestest  \n16                        1700.0   Adriana Maria  Prestest  \n...                          ...             ...       ...  \n2141                       555.0     Yuly Andrea  Prestest  \n2146                      2132.0    Zaida Yamile  Prestest  \n2148                      1699.0         Zenaida  Prestest  \n2165                       256.0   Yeison Andres  Prestest  \n2171                       611.0    Óscar  David  Prestest  \n\n[472 rows x 121 columns]",
      "text/html": "<div>\n<style scoped>\n    .dataframe tbody tr th:only-of-type {\n        vertical-align: middle;\n    }\n\n    .dataframe tbody tr th {\n        vertical-align: top;\n    }\n\n    .dataframe thead th {\n        text-align: right;\n    }\n</style>\n<table border=\"1\" class=\"dataframe\">\n  <thead>\n    <tr style=\"text-align: right;\">\n      <th>Pregunta</th>\n      <th>1. Cédula</th>\n      <th>10. Es docente STEM</th>\n      <th>11. Formación</th>\n      <th>12. Estrategias en clase</th>\n      <th>12.1 Realizar clubes y actividades extracurriculares para niñas y jóvenes como refuerzo de lo visto en las class de áreas STEM.</th>\n      <th>12.2 Destacar y reconocer los logros de las niñas y jóvenes, por ejemplo, promover concursos diferenciados por género, como, premio la niña científica y el niño científico.Dar referencias o modelos de mujeres destacadas en las áreas STEM, por ejemplo, mostrar la película de Marie Curie.</th>\n      <th>12.3 Motivar que las niñas participen y sean escuchadas, por ejemplo, alternándolas con los niños.</th>\n      <th>12.4 Estimular el liderazgo femenino, por ejemplo, que las niñas y adolescentes sean representantes de grupo.</th>\n      <th>12.5 Generar espacios de confianza para las niñas, por ejemplo, realizando reflexiones sobre el género al comienzo de la clase.</th>\n      <th>12.6 Prohibir y corregir los comentarios, actitudes y acciones sexistas.</th>\n      <th>12.7 Utilizar lenguaje inclusivo y no realizar estereotipos de género, por ejemplo, decir \"todas las personas* en vez de \"todos los niños\" evitar decir que las niñas son delicadas.</th>\n      <th>12.8 Tratos y estímulos igualitarios a toda y todo estudiante independientemente de su género.</th>\n      <th>12.9 Observar el comportamiento de los niños hacia las niñas porque a ellas no se les puede tocar ni con el pétalo de una rosa.</th>\n      <th>13. Afirmaciones de Género</th>\n      <th>13.1 Es preferible que las mujeres enseñen ciencias sociales y los hombres ciencias exactas.</th>\n      <th>13.10 Los hombres son muy âgiles tomando decisions importantes.</th>\n      <th>13.11 Las niñas son más ordenadas que los niños.</th>\n      <th>13.12 Muchas mujeres se caracterizan por una pureza que pocos hombres poseen.</th>\n      <th>13.13 Las mujeres deben ser queridas y protegidas por los hombres.</th>\n      <th>13.14 Todo hombre debe tener una mujer a quien amar.</th>\n      <th>13.15 El hombre está incompleto sin la mujer.</th>\n      <th>13.16 Las mujeres en comparación con los hombres, tienden a tener un sentido más refinado de la cultura y el buen gusto.</th>\n      <th>13.2 Es normal que la mayoria de ingenieros mecánicos sean varones porque los hombres son mejores para los números.</th>\n      <th>13.3 Por su esencia una mujer tiene mejor desempeño en un proyecto de alto impacto social que en un proyecto de robótica industrial.</th>\n      <th>13.4 Los hombres son mejores para la tecnologia que las mujeres.</th>\n      <th>13.5 Las mujeres tienen mayores habilidades para provectos sociales que tecnológicos</th>\n      <th>13.6 Los grandes aportes en la computación han sido hechos por hombres.</th>\n      <th>13.7 Que la mayoria de mujeres no opte por areas exactas es simplemente una cuestión de preferencias.</th>\n      <th>13.8 Que la mayoria de personas en artes y humanidades sean mujeres es muestra de su sensibilidad.</th>\n      <th>13.9 Es natural que los hombres sean buenos para los números y las mujeres para las letras.</th>\n      <th>15. Afirmaciones autoeficacia técnologica</th>\n      <th>15.1 Sé cómo resolver los problemas técnicos cuando fallan las TIC</th>\n      <th>15.2 Puedo aprender sobre nuevas tecnologías fácilmente</th>\n      <th>15.3 Sé cómo usar las TIC con los estudiantes en clase</th>\n      <th>15.4 Me apoyo en mis colegas para resolver problemas sobre cómo trabajar algún tema</th>\n      <th>15.5 Puedo hablar con otros docentes sobre el diseño de cursos</th>\n      <th>15.6 Siento que tengo apoyo de otros docentes para el diseño de mis cursos</th>\n      <th>15.7 No tengo con quién conversar sobre el diseño de mis cursos</th>\n      <th>17. Practicas</th>\n      <th>17.1 Usar el correo electrónico</th>\n      <th>17.2 Crear y usar de modelos y simulaciones</th>\n      <th>17.3 Automatizar tareas</th>\n      <th>17.4 Usar Word</th>\n      <th>17.5 Procesar Datos</th>\n      <th>17.6 Resolver problemas a través de herramientas computacionales (como simulaciones)</th>\n      <th>17.7 Resolver problemas a través de herramientas computacionales (como lenguajes de programación)</th>\n      <th>18. Integración Pensamiento Computacional</th>\n      <th>18.1 Puedo aplicar las prácticas y habilidades del pensamiento computacional a mi trabajo</th>\n      <th>18.10 Puedo implementar y evaluar la idoneidad de una estrategia pedagógica que le permita a los estudiantes desarrollar pensamiento computacional</th>\n      <th>18.2 Puedo definir el pensamiento computacional</th>\n      <th>18.3 Puedo describir las prácticas y habilidades que componen el pensamiento computacional a mis estudiantes</th>\n      <th>18.4 Puedo aplicar las prácticas y habilidades del pensamiento computacional a mi vida diaria</th>\n      <th>18.5 Creo que tengo las habilidades para desarrollar el pensamiento computacional en mis estudiantes</th>\n      <th>18.6 Puedo enseñar fácilmente sobre nuevas prácticas computacionales</th>\n      <th>18.7 Puedo diseñar una clase que desarrolle el pensamiento computacional en los estudiantes</th>\n      <th>18.8 Puedo seleccionar tecnologías para usar en mi salón de clases, que me permitan mejorar qué enseño y cómo enseño pensamiento computacional.</th>\n      <th>18.9 Puedo aplicar mis habilidades en pensamiento computacional para ayudar a los estudiantes a perseguir sus intereses individuales</th>\n      <th>19. Comentarios.</th>\n      <th>2. Edad</th>\n      <th>20. Prácticas pedagógicas</th>\n      <th>20.1 Actividades desconectadas</th>\n      <th>20.2 Usa-Modifica-Crea</th>\n      <th>20.3 Clase magistral</th>\n      <th>20.4 Enseñanza explícita y sin ambigüedades</th>\n      <th>20.5 Marcha Silenciosa</th>\n      <th>20.6 Aprendizaje basado en proyectos</th>\n      <th>21. Comentarios.</th>\n      <th>22. Estrategias contra dificultades</th>\n      <th>22.1 Le explicaría la respuesta correcta</th>\n      <th>22.2 Le sugeriría ir paso a paso por el programa simulando su ejecución</th>\n      <th>22.3 Le diría que revise sus notas</th>\n      <th>22.4 Le sugeriría que revise las memorias colectivas</th>\n      <th>22.5 Le sugeriría volver a leer el problema</th>\n      <th>22.6 Le sugeriría intentar con varios valores para evaluar el programa</th>\n      <th>22.7 Le explicaría el problema nuevamente</th>\n      <th>24. Margarita</th>\n      <th>24.1 No, solo está usando computadores</th>\n      <th>24.2 No, los estudiantes sólo están aprendiendo a cargar cosas en un archivo compartido y crear un gráfico</th>\n      <th>24.3 Si, los estudiantes están aprendiendo sobre modelos computacionales para la predicción del clima</th>\n      <th>24.4 Si, los estudiantes están aprendiendo a recolectar, organizar, y analizar datos.</th>\n      <th>24.5 Otra:</th>\n      <th>25. Cafeteria del Colegio</th>\n      <th>25.1 No, en ningún momento de habla de computadores</th>\n      <th>25.2 Si, María está dividiendo el problema en problemas más sencillos</th>\n      <th>25.3 Si, María está usando un algoritmo para encontrar su almuerzo</th>\n      <th>25.4 No, María solo está buscando su almuerzo</th>\n      <th>25.5 Otra:</th>\n      <th>26. Raton robot</th>\n      <th>27. Diagrama de flujo</th>\n      <th>28. Variable secuela</th>\n      <th>29. A B C</th>\n      <th>3. Contexto IDE</th>\n      <th>30. Manzana Uvas Bananas</th>\n      <th>31. Variables booleanas</th>\n      <th>32. Alcaldía Valeria</th>\n      <th>33. Botella de Color</th>\n      <th>34. Alejandra codigo bloque</th>\n      <th>4. Género</th>\n      <th>5. Cabeza de Hogar</th>\n      <th>6. Estado Civil</th>\n      <th>7. Horas semanales</th>\n      <th>8. ¿Es usted líder comunitario?</th>\n      <th>9. Áreas en las que enseña</th>\n      <th>9.1 Ciencias naturales y educación ambiental</th>\n      <th>9.10 Otro</th>\n      <th>9.2 Ciencias sociales, historia, geografía, constitución política y democracia</th>\n      <th>9.3 Educación artística</th>\n      <th>9.4 Educación ética y en valores humanos</th>\n      <th>9.5 Educación física, recreación y deportes</th>\n      <th>9.6 Educación religiosa</th>\n      <th>9.7 Humanidades, lengua castellana e idiomas extranjeros</th>\n      <th>9.8 Matemáticas</th>\n      <th>9.9 Tecnología e informática</th>\n      <th>Apellido</th>\n      <th>Correo Electrónico</th>\n      <th>Curso</th>\n      <th>Encuesta</th>\n      <th>Hora</th>\n      <th>ID Asignado Por Moodle</th>\n      <th>Nombre</th>\n      <th>Tipo</th>\n    </tr>\n  </thead>\n  <tbody>\n    <tr>\n      <th>3</th>\n      <td>13747723</td>\n      <td>STEM</td>\n      <td>STEM</td>\n      <td>Tratos y estímulos igualitarios a toda y todo ...</td>\n      <td>NO</td>\n      <td>NO</td>\n      <td>NO</td>\n      <td>NO</td>\n      <td>NO</td>\n      <td>NO</td>\n      <td>NO</td>\n      <td>SI</td>\n      <td>NO</td>\n      <td>Es preferible que las mujeres enseñen ciencias...</td>\n      <td>Totalmente en desacuerdo</td>\n      <td>Totalmente en desacuerdo</td>\n      <td>Totalmente en desacuerdo</td>\n      <td>Neutro</td>\n      <td>De acuerdo</td>\n      <td>Neutro</td>\n      <td>Totalmente en desacuerdo</td>\n      <td>Neutro</td>\n      <td>Totalmente en desacuerdo</td>\n      <td>Totalmente en desacuerdo</td>\n      <td>Totalmente en desacuerdo</td>\n      <td>Totalmente en desacuerdo</td>\n      <td>En desacuerdo</td>\n      <td>De acuerdo</td>\n      <td>De acuerdo</td>\n      <td>Totalmente en desacuerdo</td>\n      <td>Sé cómo resolver los problemas técnicos cuando...</td>\n      <td>Totalmente de acuerdo</td>\n      <td>Totalmente de acuerdo</td>\n      <td>Totalmente de acuerdo</td>\n      <td>Totalmente de acuerdo</td>\n      <td>De acuerdo</td>\n      <td>De acuerdo</td>\n      <td>Totalmente en desacuerdo</td>\n      <td>Usar el correo electrónico - 5, Crear y usar d...</td>\n      <td>Totalmente de acuerdo</td>\n      <td>Totalmente de acuerdo</td>\n      <td>Totalmente de acuerdo</td>\n      <td>Totalmente de acuerdo</td>\n      <td>Totalmente de acuerdo</td>\n      <td>Totalmente de acuerdo</td>\n      <td>Totalmente de acuerdo</td>\n      <td>Puedo aplicar las prácticas y habilidades del ...</td>\n      <td>Totalmente de acuerdo</td>\n      <td>De acuerdo</td>\n      <td>Totalmente de acuerdo</td>\n      <td>De acuerdo</td>\n      <td>De acuerdo</td>\n      <td>De acuerdo</td>\n      <td>De acuerdo</td>\n      <td>De acuerdo</td>\n      <td>De acuerdo</td>\n      <td>De acuerdo</td>\n      <td>Todo Entendido</td>\n      <td>41</td>\n      <td>Actividades desconectadas - 9, Usa-Modifica-Cr...</td>\n      <td>9.0</td>\n      <td>9.0</td>\n      <td>10.0</td>\n      <td>10.0</td>\n      <td>0.0</td>\n      <td>10.0</td>\n      <td>Todo Entendido</td>\n      <td>Le explicaría la respuesta correcta - 8, Le su...</td>\n      <td>8.0</td>\n      <td>10.0</td>\n      <td>8.0</td>\n      <td>10.0</td>\n      <td>10.0</td>\n      <td>10.0</td>\n      <td>10.0</td>\n      <td>Si, los estudiantes están aprendiendo a recole...</td>\n      <td>NO</td>\n      <td>NO</td>\n      <td>NO</td>\n      <td>SI</td>\n      <td>NO</td>\n      <td>No, María solo está buscando su almuerzo</td>\n      <td>NO</td>\n      <td>NO</td>\n      <td>NO</td>\n      <td>SI</td>\n      <td>NO</td>\n      <td>4</td>\n      <td>El programa no funciona, falta incluir el Fin</td>\n      <td>No sé/No lo conozco</td>\n      <td>10</td>\n      <td>Urbano</td>\n      <td>No sé/No lo conozco</td>\n      <td>No sé/No lo conozco</td>\n      <td>Imagen 3</td>\n      <td>La botella D debe ser verde</td>\n      <td>Está equivocada, el resultado es 120.</td>\n      <td>Masculino</td>\n      <td>No</td>\n      <td>Soltero/a</td>\n      <td>22</td>\n      <td>Sí</td>\n      <td>Ciencias naturales y educación ambiental. - 0,...</td>\n      <td>0</td>\n      <td>0</td>\n      <td>0</td>\n      <td>0</td>\n      <td>0</td>\n      <td>0</td>\n      <td>0</td>\n      <td>0</td>\n      <td>5</td>\n      <td>5</td>\n      <td>Cruz  Aldana</td>\n      <td>angelhcruz@hotmail.com</td>\n      <td>Curso Inicial 2022 I18</td>\n      <td>Cuestionario Inicial (10 puntos)</td>\n      <td>05/05/2022 16:59:24</td>\n      <td>1575.0</td>\n      <td>ANGEL HERNANDO</td>\n      <td>Prestest</td>\n    </tr>\n    <tr>\n      <th>5</th>\n      <td>5230968</td>\n      <td>STEM</td>\n      <td>STEM</td>\n      <td>Prohibir y corregir los comentarios, actitudes...</td>\n      <td>NO</td>\n      <td>NO</td>\n      <td>NO</td>\n      <td>NO</td>\n      <td>NO</td>\n      <td>SI</td>\n      <td>NO</td>\n      <td>SI</td>\n      <td>NO</td>\n      <td>Es preferible que las mujeres enseñen ciencias...</td>\n      <td>Totalmente en desacuerdo</td>\n      <td>Totalmente en desacuerdo</td>\n      <td>Neutro</td>\n      <td>Neutro</td>\n      <td>Neutro</td>\n      <td>Neutro</td>\n      <td>Neutro</td>\n      <td>Neutro</td>\n      <td>Totalmente en desacuerdo</td>\n      <td>Neutro</td>\n      <td>Neutro</td>\n      <td>Neutro</td>\n      <td>Neutro</td>\n      <td>Totalmente en desacuerdo</td>\n      <td>Totalmente en desacuerdo</td>\n      <td>Neutro</td>\n      <td>Sé cómo resolver los problemas técnicos cuando...</td>\n      <td>Neutro</td>\n      <td>En desacuerdo</td>\n      <td>En desacuerdo</td>\n      <td>En desacuerdo</td>\n      <td>Neutro</td>\n      <td>Neutro</td>\n      <td>Totalmente en desacuerdo</td>\n      <td>Usar el correo electrónico - 3, Crear y usar d...</td>\n      <td>Neutro</td>\n      <td>Totalmente de acuerdo</td>\n      <td>Totalmente de acuerdo</td>\n      <td>Neutro</td>\n      <td>Totalmente de acuerdo</td>\n      <td>Totalmente de acuerdo</td>\n      <td>Totalmente de acuerdo</td>\n      <td>Puedo aplicar las prácticas y habilidades del ...</td>\n      <td>De acuerdo</td>\n      <td>Neutro</td>\n      <td>De acuerdo</td>\n      <td>De acuerdo</td>\n      <td>De acuerdo</td>\n      <td>De acuerdo</td>\n      <td>De acuerdo</td>\n      <td>De acuerdo</td>\n      <td>Neutro</td>\n      <td>Neutro</td>\n      <td>NR</td>\n      <td>42</td>\n      <td>Actividades desconectadas - 5, Usa-Modifica-Cr...</td>\n      <td>5.0</td>\n      <td>8.0</td>\n      <td>5.0</td>\n      <td>0.0</td>\n      <td>0.0</td>\n      <td>0.0</td>\n      <td>NR</td>\n      <td>Le explicaría la respuesta correcta - 2, Le su...</td>\n      <td>2.0</td>\n      <td>8.0</td>\n      <td>8.0</td>\n      <td>8.0</td>\n      <td>8.0</td>\n      <td>8.0</td>\n      <td>8.0</td>\n      <td>Si, los estudiantes están aprendiendo sobre mo...</td>\n      <td>NO</td>\n      <td>NO</td>\n      <td>SI</td>\n      <td>SI</td>\n      <td>NO</td>\n      <td>Si, María está dividiendo el problema en probl...</td>\n      <td>NO</td>\n      <td>SI</td>\n      <td>SI</td>\n      <td>NO</td>\n      <td>NO</td>\n      <td>3</td>\n      <td>El programa no funciona, falta incluir el Fin</td>\n      <td>9</td>\n      <td>10</td>\n      <td>Urbano</td>\n      <td>II solamente</td>\n      <td>No sé/No lo conozco</td>\n      <td>Imagen 3</td>\n      <td>La botella D debe ser verde</td>\n      <td>Está equivocada, el resultado es 120.</td>\n      <td>Masculino</td>\n      <td>Sí</td>\n      <td>En unión libre</td>\n      <td>22</td>\n      <td>Sí</td>\n      <td>Ciencias naturales y educación ambiental. - 0,...</td>\n      <td>0</td>\n      <td>0</td>\n      <td>0</td>\n      <td>0</td>\n      <td>0</td>\n      <td>0</td>\n      <td>0</td>\n      <td>0</td>\n      <td>0</td>\n      <td>6</td>\n      <td>Armero Muñoz</td>\n      <td>adr33a@gmail.com</td>\n      <td>Curso Inicial 2022 I12</td>\n      <td>Cuestionario Inicial (10 puntos)</td>\n      <td>04/05/2022 22:20:27</td>\n      <td>1052.0</td>\n      <td>Adrian</td>\n      <td>Prestest</td>\n    </tr>\n    <tr>\n      <th>9</th>\n      <td>52745094</td>\n      <td>STEM</td>\n      <td>STEM</td>\n      <td>Motivar que las niñas participen y sean escuch...</td>\n      <td>NO</td>\n      <td>NO</td>\n      <td>SI</td>\n      <td>SI</td>\n      <td>SI</td>\n      <td>SI</td>\n      <td>NO</td>\n      <td>SI</td>\n      <td>NO</td>\n      <td>Es preferible que las mujeres enseñen ciencias...</td>\n      <td>Totalmente en desacuerdo</td>\n      <td>Totalmente en desacuerdo</td>\n      <td>Totalmente en desacuerdo</td>\n      <td>Totalmente en desacuerdo</td>\n      <td>Totalmente en desacuerdo</td>\n      <td>Totalmente en desacuerdo</td>\n      <td>Totalmente en desacuerdo</td>\n      <td>Totalmente en desacuerdo</td>\n      <td>Totalmente en desacuerdo</td>\n      <td>Totalmente en desacuerdo</td>\n      <td>Totalmente en desacuerdo</td>\n      <td>En desacuerdo</td>\n      <td>Totalmente en desacuerdo</td>\n      <td>Neutro</td>\n      <td>Neutro</td>\n      <td>Totalmente en desacuerdo</td>\n      <td>Sé cómo resolver los problemas técnicos cuando...</td>\n      <td>De acuerdo</td>\n      <td>Totalmente de acuerdo</td>\n      <td>De acuerdo</td>\n      <td>Neutro</td>\n      <td>De acuerdo</td>\n      <td>De acuerdo</td>\n      <td>Totalmente en desacuerdo</td>\n      <td>Usar el correo electrónico - 5, Crear y usar d...</td>\n      <td>Totalmente de acuerdo</td>\n      <td>Totalmente de acuerdo</td>\n      <td>Totalmente de acuerdo</td>\n      <td>Totalmente de acuerdo</td>\n      <td>Totalmente de acuerdo</td>\n      <td>Totalmente de acuerdo</td>\n      <td>Totalmente de acuerdo</td>\n      <td>Puedo aplicar las prácticas y habilidades del ...</td>\n      <td>De acuerdo</td>\n      <td>En desacuerdo</td>\n      <td>Neutro</td>\n      <td>Neutro</td>\n      <td>Neutro</td>\n      <td>En desacuerdo</td>\n      <td>En desacuerdo</td>\n      <td>En desacuerdo</td>\n      <td>De acuerdo</td>\n      <td>En desacuerdo</td>\n      <td>Las preguntas específicas de programación no t...</td>\n      <td>39</td>\n      <td>Actividades desconectadas - 0, Usa-Modifica-Cr...</td>\n      <td>0.0</td>\n      <td>0.0</td>\n      <td>5.0</td>\n      <td>5.0</td>\n      <td>0.0</td>\n      <td>5.0</td>\n      <td>entendiendo pensamiento computacional el uso d...</td>\n      <td>Le explicaría la respuesta correcta - 0, Le su...</td>\n      <td>0.0</td>\n      <td>0.0</td>\n      <td>0.0</td>\n      <td>0.0</td>\n      <td>0.0</td>\n      <td>0.0</td>\n      <td>0.0</td>\n      <td>Si, los estudiantes están aprendiendo sobre mo...</td>\n      <td>NO</td>\n      <td>NO</td>\n      <td>SI</td>\n      <td>SI</td>\n      <td>NO</td>\n      <td>Si, María está dividiendo el problema en probl...</td>\n      <td>NO</td>\n      <td>SI</td>\n      <td>SI</td>\n      <td>NO</td>\n      <td>NO</td>\n      <td>1</td>\n      <td>No sé/No lo conozco</td>\n      <td>No sé/No lo conozco</td>\n      <td>10</td>\n      <td>Urbano</td>\n      <td>I y II</td>\n      <td>Las expresiones son ambas verdaderas solamente...</td>\n      <td>Imagen 3</td>\n      <td>La botella B debe ser verde</td>\n      <td>No sé/No lo conozco</td>\n      <td>Femenino</td>\n      <td>Sí</td>\n      <td>Soltero/a</td>\n      <td>20</td>\n      <td>Sí</td>\n      <td>Ciencias naturales y educación ambiental. - 0,...</td>\n      <td>0</td>\n      <td>0</td>\n      <td>0</td>\n      <td>0</td>\n      <td>0</td>\n      <td>0</td>\n      <td>0</td>\n      <td>0</td>\n      <td>3</td>\n      <td>0</td>\n      <td>Lasprilla Herrera</td>\n      <td>arranala@gmail.com</td>\n      <td>Curso Inicial 2022 I08</td>\n      <td>Cuestionario Inicial (10 puntos)</td>\n      <td>26/04/2022 11:02:21</td>\n      <td>702.0</td>\n      <td>Adriana</td>\n      <td>Prestest</td>\n    </tr>\n    <tr>\n      <th>14</th>\n      <td>26202775</td>\n      <td>STEM</td>\n      <td>STEM</td>\n      <td>Realizar clubes y actividades extracurriculare...</td>\n      <td>NO</td>\n      <td>NO</td>\n      <td>NO</td>\n      <td>NO</td>\n      <td>NO</td>\n      <td>NO</td>\n      <td>NO</td>\n      <td>SI</td>\n      <td>NO</td>\n      <td>Es preferible que las mujeres enseñen ciencias...</td>\n      <td>Totalmente en desacuerdo</td>\n      <td>Totalmente en desacuerdo</td>\n      <td>Totalmente en desacuerdo</td>\n      <td>En desacuerdo</td>\n      <td>Totalmente en desacuerdo</td>\n      <td>Totalmente en desacuerdo</td>\n      <td>Totalmente en desacuerdo</td>\n      <td>Totalmente en desacuerdo</td>\n      <td>Totalmente en desacuerdo</td>\n      <td>Totalmente en desacuerdo</td>\n      <td>Totalmente en desacuerdo</td>\n      <td>Totalmente en desacuerdo</td>\n      <td>Totalmente en desacuerdo</td>\n      <td>En desacuerdo</td>\n      <td>Totalmente en desacuerdo</td>\n      <td>Totalmente en desacuerdo</td>\n      <td>Sé cómo resolver los problemas técnicos cuando...</td>\n      <td>De acuerdo</td>\n      <td>Totalmente de acuerdo</td>\n      <td>De acuerdo</td>\n      <td>Totalmente de acuerdo</td>\n      <td>Totalmente de acuerdo</td>\n      <td>Totalmente de acuerdo</td>\n      <td>Totalmente en desacuerdo</td>\n      <td>Usar el correo electrónico - 5, Crear y usar d...</td>\n      <td>Totalmente de acuerdo</td>\n      <td>De acuerdo</td>\n      <td>De acuerdo</td>\n      <td>Totalmente de acuerdo</td>\n      <td>Totalmente de acuerdo</td>\n      <td>Totalmente de acuerdo</td>\n      <td>Totalmente de acuerdo</td>\n      <td>Puedo aplicar las prácticas y habilidades del ...</td>\n      <td>De acuerdo</td>\n      <td>En desacuerdo</td>\n      <td>Neutro</td>\n      <td>Neutro</td>\n      <td>Neutro</td>\n      <td>En desacuerdo</td>\n      <td>Neutro</td>\n      <td>Neutro</td>\n      <td>Neutro</td>\n      <td>En desacuerdo</td>\n      <td>Considero que fueron una afirmasiones muy sexi...</td>\n      <td>38</td>\n      <td>Actividades desconectadas - 8, Usa-Modifica-Cr...</td>\n      <td>8.0</td>\n      <td>1.0</td>\n      <td>8.0</td>\n      <td>0.0</td>\n      <td>0.0</td>\n      <td>1.0</td>\n      <td>No tengo conocimientos sobre Enseñanza explíci...</td>\n      <td>Le explicaría la respuesta correcta - 8, Le su...</td>\n      <td>8.0</td>\n      <td>8.0</td>\n      <td>7.0</td>\n      <td>10.0</td>\n      <td>8.0</td>\n      <td>9.0</td>\n      <td>8.0</td>\n      <td>Si, los estudiantes están aprendiendo a recole...</td>\n      <td>NO</td>\n      <td>NO</td>\n      <td>NO</td>\n      <td>SI</td>\n      <td>NO</td>\n      <td>Si, María está usando un algoritmo para encont...</td>\n      <td>NO</td>\n      <td>NO</td>\n      <td>SI</td>\n      <td>NO</td>\n      <td>NO</td>\n      <td>5</td>\n      <td>El programa si funciona y lo puede implementar...</td>\n      <td>No sé/No lo conozco</td>\n      <td>10</td>\n      <td>Urbano</td>\n      <td>No sé/No lo conozco</td>\n      <td>No sé/No lo conozco</td>\n      <td>Imagen 3</td>\n      <td>La botella C debe ser verde</td>\n      <td>No sé/No lo conozco</td>\n      <td>Femenino</td>\n      <td>Sí</td>\n      <td>Soltero/a</td>\n      <td>22</td>\n      <td>Sí</td>\n      <td>Ciencias naturales y educación ambiental. - 0,...</td>\n      <td>0</td>\n      <td>0</td>\n      <td>0</td>\n      <td>0</td>\n      <td>0</td>\n      <td>0</td>\n      <td>0</td>\n      <td>0</td>\n      <td>0</td>\n      <td>6</td>\n      <td>Ortega Avila</td>\n      <td>esther8mayo@gmail.com</td>\n      <td>Curso Inicial 2022 I04</td>\n      <td>Cuestionario Inicial (10 puntos)</td>\n      <td>25/04/2022 17:41:23</td>\n      <td>353.0</td>\n      <td>Adriana Esther</td>\n      <td>Prestest</td>\n    </tr>\n    <tr>\n      <th>16</th>\n      <td>60264510</td>\n      <td>No STEM</td>\n      <td>No STEM</td>\n      <td>Estimular el liderazgo femenino, por ejemplo, ...</td>\n      <td>NO</td>\n      <td>NO</td>\n      <td>NO</td>\n      <td>SI</td>\n      <td>SI</td>\n      <td>SI</td>\n      <td>NO</td>\n      <td>SI</td>\n      <td>NO</td>\n      <td>Es preferible que las mujeres enseñen ciencias...</td>\n      <td>En desacuerdo</td>\n      <td>En desacuerdo</td>\n      <td>En desacuerdo</td>\n      <td>En desacuerdo</td>\n      <td>En desacuerdo</td>\n      <td>En desacuerdo</td>\n      <td>En desacuerdo</td>\n      <td>En desacuerdo</td>\n      <td>En desacuerdo</td>\n      <td>En desacuerdo</td>\n      <td>En desacuerdo</td>\n      <td>En desacuerdo</td>\n      <td>En desacuerdo</td>\n      <td>En desacuerdo</td>\n      <td>En desacuerdo</td>\n      <td>En desacuerdo</td>\n      <td>Sé cómo resolver los problemas técnicos cuando...</td>\n      <td>En desacuerdo</td>\n      <td>Neutro</td>\n      <td>Neutro</td>\n      <td>De acuerdo</td>\n      <td>Neutro</td>\n      <td>Neutro</td>\n      <td>Neutro</td>\n      <td>Usar el correo electrónico - 4, Crear y usar d...</td>\n      <td>De acuerdo</td>\n      <td>Totalmente en desacuerdo</td>\n      <td>Totalmente en desacuerdo</td>\n      <td>De acuerdo</td>\n      <td>Totalmente en desacuerdo</td>\n      <td>Totalmente en desacuerdo</td>\n      <td>Totalmente en desacuerdo</td>\n      <td>Puedo aplicar las prácticas y habilidades del ...</td>\n      <td>Neutro</td>\n      <td>Neutro</td>\n      <td>Neutro</td>\n      <td>Neutro</td>\n      <td>Neutro</td>\n      <td>Neutro</td>\n      <td>Neutro</td>\n      <td>Neutro</td>\n      <td>Neutro</td>\n      <td>Neutro</td>\n      <td>NINGUNO</td>\n      <td>41</td>\n      <td>Actividades desconectadas - 10, Usa-Modifica-C...</td>\n      <td>10.0</td>\n      <td>6.0</td>\n      <td>9.0</td>\n      <td>8.0</td>\n      <td>7.0</td>\n      <td>3.0</td>\n      <td>NINGUNO</td>\n      <td>Le explicaría la respuesta correcta - 1, Le su...</td>\n      <td>1.0</td>\n      <td>10.0</td>\n      <td>10.0</td>\n      <td>8.0</td>\n      <td>8.0</td>\n      <td>6.0</td>\n      <td>8.0</td>\n      <td>Si, los estudiantes están aprendiendo a recole...</td>\n      <td>NO</td>\n      <td>NO</td>\n      <td>NO</td>\n      <td>SI</td>\n      <td>NO</td>\n      <td>Si, María está dividiendo el problema en probl...</td>\n      <td>NO</td>\n      <td>SI</td>\n      <td>NO</td>\n      <td>NO</td>\n      <td>NO</td>\n      <td>2</td>\n      <td>No sé/No lo conozco</td>\n      <td>No sé/No lo conozco</td>\n      <td>No sé/No lo conozco</td>\n      <td>Urbano</td>\n      <td>No sé/No lo conozco</td>\n      <td>No sé/No lo conozco</td>\n      <td>No sé/No lo conozco</td>\n      <td>No sé/ No lo conozco</td>\n      <td>No sé/No lo conozco</td>\n      <td>Femenino</td>\n      <td>Sí</td>\n      <td>Casado/a</td>\n      <td>24</td>\n      <td>Sí</td>\n      <td>Ciencias naturales y educación ambiental. - 0,...</td>\n      <td>0</td>\n      <td>0</td>\n      <td>0</td>\n      <td>0</td>\n      <td>0</td>\n      <td>0</td>\n      <td>0</td>\n      <td>7</td>\n      <td>0</td>\n      <td>0</td>\n      <td>Peña Bolivar</td>\n      <td>adriana.mapb@hotmail.com</td>\n      <td>Curso Inicial 2022 I19</td>\n      <td>Cuestionario Inicial (10 puntos)</td>\n      <td>01/05/2022 23:39:55</td>\n      <td>1700.0</td>\n      <td>Adriana Maria</td>\n      <td>Prestest</td>\n    </tr>\n    <tr>\n      <th>...</th>\n      <td>...</td>\n      <td>...</td>\n      <td>...</td>\n      <td>...</td>\n      <td>...</td>\n      <td>...</td>\n      <td>...</td>\n      <td>...</td>\n      <td>...</td>\n      <td>...</td>\n      <td>...</td>\n      <td>...</td>\n      <td>...</td>\n      <td>...</td>\n      <td>...</td>\n      <td>...</td>\n      <td>...</td>\n      <td>...</td>\n      <td>...</td>\n      <td>...</td>\n      <td>...</td>\n      <td>...</td>\n      <td>...</td>\n      <td>...</td>\n      <td>...</td>\n      <td>...</td>\n      <td>...</td>\n      <td>...</td>\n      <td>...</td>\n      <td>...</td>\n      <td>...</td>\n      <td>...</td>\n      <td>...</td>\n      <td>...</td>\n      <td>...</td>\n      <td>...</td>\n      <td>...</td>\n      <td>...</td>\n      <td>...</td>\n      <td>...</td>\n      <td>...</td>\n      <td>...</td>\n      <td>...</td>\n      <td>...</td>\n      <td>...</td>\n      <td>...</td>\n      <td>...</td>\n      <td>...</td>\n      <td>...</td>\n      <td>...</td>\n      <td>...</td>\n      <td>...</td>\n      <td>...</td>\n      <td>...</td>\n      <td>...</td>\n      <td>...</td>\n      <td>...</td>\n      <td>...</td>\n      <td>...</td>\n      <td>...</td>\n      <td>...</td>\n      <td>...</td>\n      <td>...</td>\n      <td>...</td>\n      <td>...</td>\n      <td>...</td>\n      <td>...</td>\n      <td>...</td>\n      <td>...</td>\n      <td>...</td>\n      <td>...</td>\n      <td>...</td>\n      <td>...</td>\n      <td>...</td>\n      <td>...</td>\n      <td>...</td>\n      <td>...</td>\n      <td>...</td>\n      <td>...</td>\n      <td>...</td>\n      <td>...</td>\n      <td>...</td>\n      <td>...</td>\n      <td>...</td>\n      <td>...</td>\n      <td>...</td>\n      <td>...</td>\n      <td>...</td>\n      <td>...</td>\n      <td>...</td>\n      <td>...</td>\n      <td>...</td>\n      <td>...</td>\n      <td>...</td>\n      <td>...</td>\n      <td>...</td>\n      <td>...</td>\n      <td>...</td>\n      <td>...</td>\n      <td>...</td>\n      <td>...</td>\n      <td>...</td>\n      <td>...</td>\n      <td>...</td>\n      <td>...</td>\n      <td>...</td>\n      <td>...</td>\n      <td>...</td>\n      <td>...</td>\n      <td>...</td>\n      <td>...</td>\n      <td>...</td>\n      <td>...</td>\n      <td>...</td>\n      <td>...</td>\n      <td>...</td>\n      <td>...</td>\n      <td>...</td>\n      <td>...</td>\n      <td>...</td>\n      <td>...</td>\n    </tr>\n    <tr>\n      <th>2141</th>\n      <td>1072466102</td>\n      <td>STEM</td>\n      <td>STEM</td>\n      <td>Dar referencias o modelos de mujeres destacada...</td>\n      <td>NO</td>\n      <td>NO</td>\n      <td>SI</td>\n      <td>SI</td>\n      <td>SI</td>\n      <td>SI</td>\n      <td>NO</td>\n      <td>SI</td>\n      <td>NO</td>\n      <td>Es preferible que las mujeres enseñen ciencias...</td>\n      <td>Totalmente en desacuerdo</td>\n      <td>Totalmente en desacuerdo</td>\n      <td>Totalmente en desacuerdo</td>\n      <td>En desacuerdo</td>\n      <td>En desacuerdo</td>\n      <td>Totalmente en desacuerdo</td>\n      <td>Totalmente en desacuerdo</td>\n      <td>En desacuerdo</td>\n      <td>Totalmente en desacuerdo</td>\n      <td>En desacuerdo</td>\n      <td>Totalmente en desacuerdo</td>\n      <td>En desacuerdo</td>\n      <td>Totalmente en desacuerdo</td>\n      <td>En desacuerdo</td>\n      <td>En desacuerdo</td>\n      <td>Totalmente en desacuerdo</td>\n      <td>Sé cómo resolver los problemas técnicos cuando...</td>\n      <td>En desacuerdo</td>\n      <td>De acuerdo</td>\n      <td>De acuerdo</td>\n      <td>De acuerdo</td>\n      <td>De acuerdo</td>\n      <td>De acuerdo</td>\n      <td>En desacuerdo</td>\n      <td>Usar el correo electrónico - 4, Crear y usar d...</td>\n      <td>De acuerdo</td>\n      <td>De acuerdo</td>\n      <td>De acuerdo</td>\n      <td>De acuerdo</td>\n      <td>Totalmente de acuerdo</td>\n      <td>Totalmente de acuerdo</td>\n      <td>De acuerdo</td>\n      <td>Puedo aplicar las prácticas y habilidades del ...</td>\n      <td>De acuerdo</td>\n      <td>En desacuerdo</td>\n      <td>De acuerdo</td>\n      <td>De acuerdo</td>\n      <td>De acuerdo</td>\n      <td>De acuerdo</td>\n      <td>En desacuerdo</td>\n      <td>En desacuerdo</td>\n      <td>De acuerdo</td>\n      <td>En desacuerdo</td>\n      <td>Como docentes guiamos y orientamos los proceso...</td>\n      <td>35</td>\n      <td>Actividades desconectadas - 7, Usa-Modifica-Cr...</td>\n      <td>7.0</td>\n      <td>1.0</td>\n      <td>4.0</td>\n      <td>4.0</td>\n      <td>0.0</td>\n      <td>5.0</td>\n      <td>En los grados de básica primaria se buscan que...</td>\n      <td>Le explicaría la respuesta correcta - 9, Le su...</td>\n      <td>9.0</td>\n      <td>10.0</td>\n      <td>9.0</td>\n      <td>9.0</td>\n      <td>9.0</td>\n      <td>8.0</td>\n      <td>9.0</td>\n      <td>Si, los estudiantes están aprendiendo a recole...</td>\n      <td>NO</td>\n      <td>NO</td>\n      <td>NO</td>\n      <td>SI</td>\n      <td>NO</td>\n      <td>Si, María está dividiendo el problema en probl...</td>\n      <td>NO</td>\n      <td>SI</td>\n      <td>SI</td>\n      <td>NO</td>\n      <td>NO</td>\n      <td>3</td>\n      <td>El programa no funciona, debe capturar nuevame...</td>\n      <td>9</td>\n      <td>10 y 3</td>\n      <td>Urbano</td>\n      <td>I y II</td>\n      <td>La segunda expresión es verdadera solamente si...</td>\n      <td>Imagen 3</td>\n      <td>Ninguna botella debe cambiar de color</td>\n      <td>Está equivocada, el resultado es 120.</td>\n      <td>Femenino</td>\n      <td>No</td>\n      <td>Soltero/a</td>\n      <td>23</td>\n      <td>Sí</td>\n      <td>Ciencias naturales y educación ambiental. - 0,...</td>\n      <td>0</td>\n      <td>0</td>\n      <td>0</td>\n      <td>0</td>\n      <td>0</td>\n      <td>0</td>\n      <td>0</td>\n      <td>0</td>\n      <td>1</td>\n      <td>1</td>\n      <td>Barahona Pinzón</td>\n      <td>andrebp19@hotmail.com</td>\n      <td>Curso Inicial 2022 I06</td>\n      <td>Cuestionario Inicial (10 puntos)</td>\n      <td>29/04/2022 21:40:01</td>\n      <td>555.0</td>\n      <td>Yuly Andrea</td>\n      <td>Prestest</td>\n    </tr>\n    <tr>\n      <th>2146</th>\n      <td>37294417</td>\n      <td>STEM</td>\n      <td>STEM</td>\n      <td>Realizar clubes y actividades extracurriculare...</td>\n      <td>NO</td>\n      <td>NO</td>\n      <td>SI</td>\n      <td>SI</td>\n      <td>SI</td>\n      <td>NO</td>\n      <td>NO</td>\n      <td>SI</td>\n      <td>SI</td>\n      <td>Es preferible que las mujeres enseñen ciencias...</td>\n      <td>Totalmente en desacuerdo</td>\n      <td>Totalmente en desacuerdo</td>\n      <td>Totalmente en desacuerdo</td>\n      <td>Totalmente en desacuerdo</td>\n      <td>Totalmente de acuerdo</td>\n      <td>De acuerdo</td>\n      <td>En desacuerdo</td>\n      <td>En desacuerdo</td>\n      <td>Totalmente en desacuerdo</td>\n      <td>Totalmente de acuerdo</td>\n      <td>Totalmente en desacuerdo</td>\n      <td>Totalmente en desacuerdo</td>\n      <td>Neutro</td>\n      <td>En desacuerdo</td>\n      <td>Neutro</td>\n      <td>Totalmente en desacuerdo</td>\n      <td>Sé cómo resolver los problemas técnicos cuando...</td>\n      <td>De acuerdo</td>\n      <td>De acuerdo</td>\n      <td>De acuerdo</td>\n      <td>Totalmente en desacuerdo</td>\n      <td>Neutro</td>\n      <td>Totalmente en desacuerdo</td>\n      <td>Neutro</td>\n      <td>Usar el correo electrónico - 5, Crear y usar d...</td>\n      <td>Totalmente de acuerdo</td>\n      <td>Totalmente de acuerdo</td>\n      <td>Totalmente de acuerdo</td>\n      <td>Totalmente de acuerdo</td>\n      <td>Totalmente de acuerdo</td>\n      <td>Totalmente de acuerdo</td>\n      <td>Totalmente de acuerdo</td>\n      <td>Puedo aplicar las prácticas y habilidades del ...</td>\n      <td>De acuerdo</td>\n      <td>De acuerdo</td>\n      <td>De acuerdo</td>\n      <td>De acuerdo</td>\n      <td>De acuerdo</td>\n      <td>De acuerdo</td>\n      <td>De acuerdo</td>\n      <td>De acuerdo</td>\n      <td>De acuerdo</td>\n      <td>De acuerdo</td>\n      <td>Ninguna</td>\n      <td>38</td>\n      <td>Actividades desconectadas - 10, Usa-Modifica-C...</td>\n      <td>10.0</td>\n      <td>10.0</td>\n      <td>10.0</td>\n      <td>10.0</td>\n      <td>10.0</td>\n      <td>10.0</td>\n      <td>Ninguna</td>\n      <td>Le explicaría la respuesta correcta - 10, Le s...</td>\n      <td>10.0</td>\n      <td>10.0</td>\n      <td>10.0</td>\n      <td>10.0</td>\n      <td>10.0</td>\n      <td>10.0</td>\n      <td>10.0</td>\n      <td>Si, los estudiantes están aprendiendo sobre mo...</td>\n      <td>NO</td>\n      <td>NO</td>\n      <td>SI</td>\n      <td>SI</td>\n      <td>NO</td>\n      <td>Si, María está usando un algoritmo para encont...</td>\n      <td>NO</td>\n      <td>NO</td>\n      <td>SI</td>\n      <td>SI</td>\n      <td>NO</td>\n      <td>5</td>\n      <td>El programa si funciona y lo puede implementar...</td>\n      <td>3</td>\n      <td>3</td>\n      <td>Rural</td>\n      <td>I solamente</td>\n      <td>La segunda expresión es verdadera si “(a O b)”...</td>\n      <td>Imagen 2</td>\n      <td>Ninguna botella debe cambiar de color</td>\n      <td>No sé/No lo conozco</td>\n      <td>Femenino</td>\n      <td>Sí</td>\n      <td>Casado/a</td>\n      <td>30</td>\n      <td>Sí</td>\n      <td>Ciencias naturales y educación ambiental. - 4,...</td>\n      <td>4</td>\n      <td>0</td>\n      <td>0</td>\n      <td>0</td>\n      <td>0</td>\n      <td>0</td>\n      <td>0</td>\n      <td>0</td>\n      <td>0</td>\n      <td>0</td>\n      <td>Alvarez Sierra</td>\n      <td>zayda1982@hotmail.com</td>\n      <td>Curso Inicial 2022 I18</td>\n      <td>Cuestionario Inicial (10 puntos)</td>\n      <td>02/05/2022 20:15:31</td>\n      <td>2132.0</td>\n      <td>Zaida Yamile</td>\n      <td>Prestest</td>\n    </tr>\n    <tr>\n      <th>2148</th>\n      <td>27592101</td>\n      <td>No STEM</td>\n      <td>No STEM</td>\n      <td>Estimular el liderazgo femenino, por ejemplo, ...</td>\n      <td>NO</td>\n      <td>NO</td>\n      <td>NO</td>\n      <td>SI</td>\n      <td>NO</td>\n      <td>SI</td>\n      <td>NO</td>\n      <td>SI</td>\n      <td>NO</td>\n      <td>Es preferible que las mujeres enseñen ciencias...</td>\n      <td>Neutro</td>\n      <td>Neutro</td>\n      <td>Neutro</td>\n      <td>Neutro</td>\n      <td>Neutro</td>\n      <td>Neutro</td>\n      <td>Neutro</td>\n      <td>Neutro</td>\n      <td>Neutro</td>\n      <td>Neutro</td>\n      <td>Neutro</td>\n      <td>Neutro</td>\n      <td>Neutro</td>\n      <td>En desacuerdo</td>\n      <td>Neutro</td>\n      <td>Neutro</td>\n      <td>Sé cómo resolver los problemas técnicos cuando...</td>\n      <td>En desacuerdo</td>\n      <td>En desacuerdo</td>\n      <td>De acuerdo</td>\n      <td>De acuerdo</td>\n      <td>De acuerdo</td>\n      <td>De acuerdo</td>\n      <td>De acuerdo</td>\n      <td>Usar el correo electrónico - 4, Crear y usar d...</td>\n      <td>De acuerdo</td>\n      <td>En desacuerdo</td>\n      <td>En desacuerdo</td>\n      <td>De acuerdo</td>\n      <td>Neutro</td>\n      <td>En desacuerdo</td>\n      <td>En desacuerdo</td>\n      <td>Puedo aplicar las prácticas y habilidades del ...</td>\n      <td>De acuerdo</td>\n      <td>Neutro</td>\n      <td>De acuerdo</td>\n      <td>De acuerdo</td>\n      <td>De acuerdo</td>\n      <td>Neutro</td>\n      <td>Neutro</td>\n      <td>Neutro</td>\n      <td>Neutro</td>\n      <td>Neutro</td>\n      <td>Equidad de género</td>\n      <td>40</td>\n      <td>Actividades desconectadas - 5, Usa-Modifica-Cr...</td>\n      <td>5.0</td>\n      <td>7.0</td>\n      <td>4.0</td>\n      <td>9.0</td>\n      <td>7.0</td>\n      <td>8.0</td>\n      <td>Innovación</td>\n      <td>Le explicaría la respuesta correcta - 9, Le su...</td>\n      <td>9.0</td>\n      <td>8.0</td>\n      <td>5.0</td>\n      <td>4.0</td>\n      <td>7.0</td>\n      <td>7.0</td>\n      <td>7.0</td>\n      <td>Si, los estudiantes están aprendiendo sobre mo...</td>\n      <td>NO</td>\n      <td>NO</td>\n      <td>SI</td>\n      <td>NO</td>\n      <td>NO</td>\n      <td>Si, María está usando un algoritmo para encont...</td>\n      <td>NO</td>\n      <td>NO</td>\n      <td>SI</td>\n      <td>NO</td>\n      <td>NO</td>\n      <td>5</td>\n      <td>No sé/No lo conozco</td>\n      <td>No sé/No lo conozco</td>\n      <td>No sé/No lo conozco</td>\n      <td>Urbano</td>\n      <td>No sé/No lo conozco</td>\n      <td>No sé/No lo conozco</td>\n      <td>No sé/No lo conozco</td>\n      <td>No sé/ No lo conozco</td>\n      <td>No sé/No lo conozco</td>\n      <td>Femenino</td>\n      <td>Sí</td>\n      <td>Casado/a</td>\n      <td>23</td>\n      <td>Sí</td>\n      <td>Ciencias naturales y educación ambiental. - 0,...</td>\n      <td>0</td>\n      <td>0</td>\n      <td>0</td>\n      <td>0</td>\n      <td>0</td>\n      <td>0</td>\n      <td>0</td>\n      <td>9</td>\n      <td>0</td>\n      <td>0</td>\n      <td>Vergel Boli Var</td>\n      <td>zenaidavergel@gmail.com</td>\n      <td>Curso Inicial 2022 I19</td>\n      <td>Cuestionario Inicial (10 puntos)</td>\n      <td>27/04/2022 17:27:29</td>\n      <td>1699.0</td>\n      <td>Zenaida</td>\n      <td>Prestest</td>\n    </tr>\n    <tr>\n      <th>2165</th>\n      <td>1022953021</td>\n      <td>STEM</td>\n      <td>STEM</td>\n      <td>Destacar y reconocer los logros de las niñas y...</td>\n      <td>NO</td>\n      <td>NO</td>\n      <td>SI</td>\n      <td>SI</td>\n      <td>SI</td>\n      <td>SI</td>\n      <td>NO</td>\n      <td>SI</td>\n      <td>NO</td>\n      <td>Es preferible que las mujeres enseñen ciencias...</td>\n      <td>Totalmente en desacuerdo</td>\n      <td>Totalmente en desacuerdo</td>\n      <td>Totalmente en desacuerdo</td>\n      <td>Neutro</td>\n      <td>Neutro</td>\n      <td>Neutro</td>\n      <td>Neutro</td>\n      <td>Neutro</td>\n      <td>Totalmente en desacuerdo</td>\n      <td>Totalmente en desacuerdo</td>\n      <td>Totalmente en desacuerdo</td>\n      <td>Totalmente en desacuerdo</td>\n      <td>Neutro</td>\n      <td>Neutro</td>\n      <td>Totalmente en desacuerdo</td>\n      <td>Totalmente en desacuerdo</td>\n      <td>Sé cómo resolver los problemas técnicos cuando...</td>\n      <td>De acuerdo</td>\n      <td>Totalmente de acuerdo</td>\n      <td>De acuerdo</td>\n      <td>De acuerdo</td>\n      <td>Totalmente de acuerdo</td>\n      <td>Totalmente de acuerdo</td>\n      <td>Totalmente en desacuerdo</td>\n      <td>Usar el correo electrónico - 3, Crear y usar d...</td>\n      <td>Neutro</td>\n      <td>Totalmente de acuerdo</td>\n      <td>Totalmente de acuerdo</td>\n      <td>Neutro</td>\n      <td>Totalmente de acuerdo</td>\n      <td>Totalmente de acuerdo</td>\n      <td>Totalmente de acuerdo</td>\n      <td>Puedo aplicar las prácticas y habilidades del ...</td>\n      <td>En desacuerdo</td>\n      <td>Neutro</td>\n      <td>Neutro</td>\n      <td>Neutro</td>\n      <td>Neutro</td>\n      <td>De acuerdo</td>\n      <td>De acuerdo</td>\n      <td>De acuerdo</td>\n      <td>De acuerdo</td>\n      <td>Neutro</td>\n      <td>He contestado las últimas preguntas de acuerdo...</td>\n      <td>32</td>\n      <td>Actividades desconectadas - 10, Usa-Modifica-C...</td>\n      <td>10.0</td>\n      <td>0.0</td>\n      <td>6.0</td>\n      <td>0.0</td>\n      <td>0.0</td>\n      <td>10.0</td>\n      <td>existe un desconocimiento de las prácticas ped...</td>\n      <td>Le explicaría la respuesta correcta - 6, Le su...</td>\n      <td>6.0</td>\n      <td>10.0</td>\n      <td>0.0</td>\n      <td>0.0</td>\n      <td>8.0</td>\n      <td>10.0</td>\n      <td>10.0</td>\n      <td>Si, los estudiantes están aprendiendo a recole...</td>\n      <td>NO</td>\n      <td>NO</td>\n      <td>NO</td>\n      <td>SI</td>\n      <td>NO</td>\n      <td>Si, María está usando un algoritmo para encont...</td>\n      <td>NO</td>\n      <td>NO</td>\n      <td>SI</td>\n      <td>NO</td>\n      <td>NO</td>\n      <td>3</td>\n      <td>El programa no funciona, debe capturar nuevame...</td>\n      <td>No sé/No lo conozco</td>\n      <td>10</td>\n      <td>Urbano</td>\n      <td>No sé/No lo conozco</td>\n      <td>No sé/No lo conozco</td>\n      <td>Imagen 3</td>\n      <td>La botella B debe ser verde</td>\n      <td>Está equivocada, el resultado es 120.</td>\n      <td>Masculino</td>\n      <td>No</td>\n      <td>Soltero/a</td>\n      <td>2</td>\n      <td>Sí</td>\n      <td>Ciencias naturales y educación ambiental. - 0,...</td>\n      <td>0</td>\n      <td>10</td>\n      <td>0</td>\n      <td>0</td>\n      <td>0</td>\n      <td>0</td>\n      <td>0</td>\n      <td>0</td>\n      <td>9</td>\n      <td>0</td>\n      <td>Guerrero Osorio</td>\n      <td>yeisondigital@hotmail.com</td>\n      <td>Curso Inicial 2022 I02</td>\n      <td>Cuestionario Inicial (10 puntos)</td>\n      <td>01/05/2022 16:52:58</td>\n      <td>256.0</td>\n      <td>Yeison Andres</td>\n      <td>Prestest</td>\n    </tr>\n    <tr>\n      <th>2171</th>\n      <td>1035415429</td>\n      <td>STEM</td>\n      <td>STEM</td>\n      <td>Destacar y reconocer los logros de las niñas y...</td>\n      <td>NO</td>\n      <td>NO</td>\n      <td>SI</td>\n      <td>SI</td>\n      <td>SI</td>\n      <td>NO</td>\n      <td>NO</td>\n      <td>NO</td>\n      <td>NO</td>\n      <td>Es preferible que las mujeres enseñen ciencias...</td>\n      <td>Totalmente en desacuerdo</td>\n      <td>Totalmente en desacuerdo</td>\n      <td>Neutro</td>\n      <td>Totalmente en desacuerdo</td>\n      <td>Neutro</td>\n      <td>Neutro</td>\n      <td>Neutro</td>\n      <td>Neutro</td>\n      <td>Totalmente en desacuerdo</td>\n      <td>Totalmente en desacuerdo</td>\n      <td>Totalmente en desacuerdo</td>\n      <td>Totalmente en desacuerdo</td>\n      <td>Neutro</td>\n      <td>En desacuerdo</td>\n      <td>En desacuerdo</td>\n      <td>Totalmente en desacuerdo</td>\n      <td>Sé cómo resolver los problemas técnicos cuando...</td>\n      <td>De acuerdo</td>\n      <td>Totalmente de acuerdo</td>\n      <td>Neutro</td>\n      <td>En desacuerdo</td>\n      <td>Totalmente de acuerdo</td>\n      <td>Totalmente en desacuerdo</td>\n      <td>Neutro</td>\n      <td>Usar el correo electrónico - 5, Crear y usar d...</td>\n      <td>Totalmente de acuerdo</td>\n      <td>Totalmente de acuerdo</td>\n      <td>De acuerdo</td>\n      <td>Neutro</td>\n      <td>De acuerdo</td>\n      <td>Totalmente de acuerdo</td>\n      <td>Totalmente de acuerdo</td>\n      <td>Puedo aplicar las prácticas y habilidades del ...</td>\n      <td>De acuerdo</td>\n      <td>De acuerdo</td>\n      <td>Neutro</td>\n      <td>En desacuerdo</td>\n      <td>De acuerdo</td>\n      <td>De acuerdo</td>\n      <td>De acuerdo</td>\n      <td>Totalmente de acuerdo</td>\n      <td>De acuerdo</td>\n      <td>De acuerdo</td>\n      <td>Me gastaría que me mencionaras el nombre del p...</td>\n      <td>35</td>\n      <td>Actividades desconectadas - 8, Usa-Modifica-Cr...</td>\n      <td>8.0</td>\n      <td>7.0</td>\n      <td>10.0</td>\n      <td>10.0</td>\n      <td>6.0</td>\n      <td>10.0</td>\n      <td>El aprendizaje basado en proyectos, es una com...</td>\n      <td>Le explicaría la respuesta correcta - 5, Le su...</td>\n      <td>5.0</td>\n      <td>10.0</td>\n      <td>10.0</td>\n      <td>10.0</td>\n      <td>10.0</td>\n      <td>10.0</td>\n      <td>10.0</td>\n      <td>Si, los estudiantes están aprendiendo sobre mo...</td>\n      <td>NO</td>\n      <td>NO</td>\n      <td>SI</td>\n      <td>SI</td>\n      <td>NO</td>\n      <td>Si, María está usando un algoritmo para encont...</td>\n      <td>NO</td>\n      <td>NO</td>\n      <td>SI</td>\n      <td>NO</td>\n      <td>NO</td>\n      <td>4</td>\n      <td>El programa si funciona y lo puede implementar...</td>\n      <td>3</td>\n      <td>10 y 3</td>\n      <td>Rural</td>\n      <td>No sé/No lo conozco</td>\n      <td>La segunda expresión es verdadera solamente si...</td>\n      <td>Imagen 2</td>\n      <td>La botella C debe ser verde</td>\n      <td>Está equivocada, el resultado es 120.</td>\n      <td>Masculino</td>\n      <td>No</td>\n      <td>Soltero/a</td>\n      <td>22</td>\n      <td>Sí</td>\n      <td>Ciencias naturales y educación ambiental. - 0,...</td>\n      <td>0</td>\n      <td>0</td>\n      <td>0</td>\n      <td>0</td>\n      <td>0</td>\n      <td>0</td>\n      <td>0</td>\n      <td>0</td>\n      <td>5</td>\n      <td>0</td>\n      <td>Palacio  Muñoz</td>\n      <td>palacio2805@gmail.com</td>\n      <td>Curso Inicial 2022 I07</td>\n      <td>Cuestionario Inicial (10 puntos)</td>\n      <td>05/05/2022 20:02:27</td>\n      <td>611.0</td>\n      <td>Óscar  David</td>\n      <td>Prestest</td>\n    </tr>\n  </tbody>\n</table>\n<p>472 rows × 121 columns</p>\n</div>"
     },
     "execution_count": 46,
     "metadata": {},
     "output_type": "execute_result"
    }
   ],
   "source": [
    "df_pre"
   ],
   "metadata": {
    "collapsed": false,
    "pycharm": {
     "name": "#%%\n"
    }
   }
  },
  {
   "cell_type": "code",
   "execution_count": 47,
   "id": "886316d4",
   "metadata": {
    "pycharm": {
     "name": "#%%\n"
    }
   },
   "outputs": [],
   "source": [
    "col_caracterizacion=  [\n",
    "    \"1. Cédula\",\n",
    "    \"2. Edad\",\n",
    "    \"3. Contexto IDE\",\n",
    "    \"4. Género\",\n",
    "    \"5. Cabeza de Hogar\",\n",
    "    \"6. Estado Civil\",\n",
    "    \"7. Horas semanales\",\n",
    "    \"8. ¿Es usted líder comunitario?\",\n",
    "    \"9. Áreas en las que enseña\",\n",
    "    \"10. Es docente STEM\",\n",
    "    \"11. Formación\",\n",
    "]\n",
    "\n",
    "temp = df_pre[col_caracterizacion]\n",
    "df_post = df_post.merge(temp, on=\"1. Cédula\")\n",
    "df_combined = pd.concat([df_pre,df_post])"
   ]
  },
  {
   "cell_type": "markdown",
   "id": "1669b747",
   "metadata": {
    "pycharm": {
     "name": "#%% md\n"
    }
   },
   "source": [
    "## Añadiendo scripts"
   ]
  },
  {
   "cell_type": "code",
   "execution_count": 48,
   "id": "da5a3d5b",
   "metadata": {
    "pycharm": {
     "name": "#%%\n"
    }
   },
   "outputs": [],
   "source": [
    "escalas_iniciales = pd.read_excel(\"inicial_escalas.xlsx\")\n",
    "escalas_iniciales.rename(columns={'CC':'1. Cédula'},inplace=True)\n",
    "df_combined[\"1. Cédula\"] = df_combined[\"1. Cédula\"].astype(int)"
   ]
  },
  {
   "cell_type": "code",
   "execution_count": 201,
   "id": "cb83ce3e",
   "metadata": {
    "pycharm": {
     "name": "#%%\n"
    }
   },
   "outputs": [],
   "source": [
    "df_combined = df_combined.merge(escalas_iniciales, on=['1. Cédula','Tipo'])"
   ]
  },
  {
   "cell_type": "code",
   "execution_count": 202,
   "id": "5077c194",
   "metadata": {
    "pycharm": {
     "name": "#%%\n"
    }
   },
   "outputs": [
    {
     "data": {
      "text/plain": "['1. Cédula',\n '10. Es docente STEM',\n '11. Formación',\n '12. Estrategias en clase',\n '12.1 Realizar clubes y actividades extracurriculares para niñas y jóvenes como refuerzo de lo visto en las class de áreas STEM.',\n '12.2 Destacar y reconocer los logros de las niñas y jóvenes, por ejemplo, promover concursos diferenciados por género, como, premio la niña científica y el niño científico.Dar referencias o modelos de mujeres destacadas en las áreas STEM, por ejemplo, mostrar la pelicula de Marie Curie.',\n '12.3 Motivar que las niñas participen y sean escuchadas, por ejemplo, alternándolas con los niños.',\n '12.4 Estimular el liderazgo femenino, por ejemplo, que las niñas y adolescentes sean representantes de grupo.',\n '12.5 Generar espacios de confianza para las niñas, por ejemplo, realizando reflexiones sobre el género al comienzo de la clase.',\n '12.6 Prohibir y corregir los comentarios, actitudes y acciones sexistas.',\n '12.7 Utilizar lenguaje inclusivo y no realizar estereotipos de género, por ejemplo, decir \"todas las personas* en vez de \"todos los niños\" evitar decir que las niñas son delicadas.',\n '12.8 Tratos y estímulos igualitarios a toda y todo estudiante independientemente de su género.',\n '12.9 Observar el comportamiento de los niños hacia las niñas porque a ellas no se les puede tocar ni con el pétalo de una rosa.',\n '13. Afirmaciones de Género',\n '13.1 Es preferible que las mujeres enseñen ciencias sociales y los hombres ciencias exactas.',\n '13.10 Los hombres son muy âgiles tomando decisions importantes.',\n '13.11 Las niñas son más ordenadas que los niños.',\n '13.12 Muchas mujeres se caracterizan por una pureza que pocos hombres poseen.',\n '13.13 Las mujeres deben ser queridas y protegidas por los hombres.',\n '13.14 Todo hombre debe tener una mujer a quien amar.',\n '13.15 El hombre está incompleto sin la mujer.',\n '13.16 Las mujeres en comparación con los hombres, tienden a tener un sentido más refinado de la cultura y el buen gusto.',\n '13.2 Es normal que la mayoria de ingenieros mecánicos sean varones porque los hombres son mejores para los números.',\n '13.3 Por su esencia una mujer tiene mejor desempeño en un proyecto de alto impacto social que en un proyecto de robótica industrial.',\n '13.4 Los hombres son mejores para la tecnologia que las mujeres.',\n '13.5 Las mujeres tienen mayores habilidades para provectos sociales que tecnológicos',\n '13.6 Los grandes aportes en la computación han sido hechos por hombres.',\n '13.7 Que la mayoria de mujeres no opte por areas exactas es simplemente una cuestión de preferencias.',\n '13.8 Que la mayoria de personas en artes y humanidades sean mujeres es muestra de su sensibilidad.',\n '13.9 Es natural que los hombres sean buenos para los números y las mujeres para las letras.',\n '14. Comentarios.',\n '15. Afirmaciones autoeficacia técnologica',\n '15.1 Sé cómo resolver los problemas técnicos cuando fallan las TIC',\n '15.2 Puedo aprender sobre nuevas tecnologías fácilmente',\n '15.3 Sé cómo usar las TIC con los estudiantes en clase',\n '15.4 Me apoyo en mis colegas para resolver problemas sobre cómo trabajar algún tema',\n '15.5 Puedo hablar con otros docentes sobre el diseño de cursos',\n '15.6 Siento que tengo apoyo de otros docentes para el diseño de mis cursos',\n '15.7 No tengo con quién conversar sobre el diseño de mis cursos',\n '17. Practicas',\n '17.1 Usar el correo electrónico',\n '17.2 Crear y usar de modelos y simulaciones',\n '17.3 Automatizar tareas',\n '17.4 Usar Word',\n '17.5 Procesar Datos',\n '17.6 Resolver problemas a través de herramientas computacionales (como simulaciones)',\n '17.7 Resolver problemas a través de herramientas computacionales (como lenguajes de programación)',\n '18. Integración Pensamiento Computacional',\n '18.1 Puedo aplicar las prácticas y habilidades del pensamiento computacional a mi trabajo',\n '18.10 Puedo implementar y evaluar la idoneidad de una estrategia pedagógica que le permita a los estudiantes desarrollar pensamiento computacional',\n '18.2 Puedo definir el pensamiento computacional',\n '18.3 Puedo describir las prácticas y habilidades que componen el pensamiento computacional a mis estudiantes',\n '18.4 Puedo aplicar las prácticas y habilidades del pensamiento computacional a mi vida diaria',\n '18.5 Creo que tengo las habilidades para desarrollar el pensamiento computacional en mis estudiantes',\n '18.6 Puedo enseñar fácilmente sobre nuevas prácticas computacionales',\n '18.7 Puedo diseñar una clase que desarrolle el pensamiento computacional en los estudiantes',\n '18.8 Puedo seleccionar tecnologías para usar en mi salón de clases, que me permitan mejorar qué enseño y cómo enseño pensamiento computacional.',\n '18.9 Puedo aplicar mis habilidades en pensamiento computacional para ayudar a los estudiantes a perseguir sus intereses individuales',\n '19. Comentarios.',\n '2. Edad',\n '20. Prácticas pedagógicas',\n '20.1 Actividades desconectadas',\n '20.2 Usa-Modifica-Crea',\n '20.3 Clase magistral',\n '20.4 Enseñanza explícita y sin ambigüedades',\n '20.5 Marcha Silenciosa',\n '20.6 Aprendizaje basado en proyectos',\n '21. Comentarios.',\n '22. Estrategias contra dificultades',\n '22.1 Le explicaría la respuesta correcta',\n '22.2 Le sugeriría ir paso a paso por el programa simulando su ejecución',\n '22.3 Le diría que revise sus notas',\n '22.4 Le sugeriría que revise las memorias colectivas',\n '22.5 Le sugeriría volver a leer el problema',\n '22.6 Le sugeriría intentar con varios valores para evaluar el programa',\n '22.7 Le explicaría el problema nuevamente',\n '24. Margarita',\n '24.1 No, solo está usando computadores',\n '24.2 No, los estudiantes sólo están aprendiendo a cargar cosas en un archivo compartido y crear un gráfico',\n '24.3 Si, los estudiantes están aprendiendo sobre modelos computacionales para la predicción del clima',\n '24.4 Si, los estudiantes están aprendiendo a recolectar, organizar, y analizar datos.',\n '24.5 Otra:',\n '25. Cafeteria del Colegio',\n '25.1 No, en ningún momento de habla de computadores',\n '25.2 Si, María está dividiendo el problema en problemas más sencillos',\n '25.3 Si, María está usando un algoritmo para encontrar su almuerzo',\n '25.4 No, María solo está buscando su almuerzo',\n '25.5 Otra:',\n '26. Raton robot',\n '27. Diagrama de flujo',\n '28. Variable secuela',\n '29. A B C',\n '3. Contexto IDE',\n '30. Manzana Uvas Bananas',\n '31. Variables booleanas',\n '32. Alcaldía Valeria',\n '33. Botella de Color',\n '34. Alejandra codigo bloque',\n '35. Comentarios',\n '4. Género',\n '5. Cabeza de Hogar',\n '6. Estado Civil',\n '7. Horas semanales',\n '8. ¿Es usted líder comunitario?',\n '9. Áreas en las que enseña',\n '9.1 Ciencias naturales y educación ambiental',\n '9.10 Otro',\n '9.2 Ciencias sociales, historia, geografía, constitución política y democracia',\n '9.3 Educación artística',\n '9.4 Educación ética y en valores humanos',\n '9.5 Educación física, recreación y deportes',\n '9.6 Educación religiosa',\n '9.7 Humanidades, lengua castellana e idiomas extranjeros',\n '9.8 Matemáticas',\n '9.9 Tecnología e informática',\n 'Apellido',\n 'Correo Electrónico',\n 'Curso',\n 'Encuesta',\n 'Hora',\n 'ID Asignado Por Moodle',\n 'Nombre',\n 'Tipo',\n 'autoeficaciaPC',\n 'autoeficaciaTecno',\n 'conocimie_pedag',\n 'conocimientoTotal',\n 'estereoBenevol',\n 'sentidoComuni',\n 'sexismoBenevol',\n 'sexismoSTEM']"
     },
     "execution_count": 202,
     "metadata": {},
     "output_type": "execute_result"
    }
   ],
   "source": [
    "sorted(df_combined.columns)"
   ]
  },
  {
   "cell_type": "code",
   "execution_count": 203,
   "id": "18bc19af",
   "metadata": {
    "pycharm": {
     "name": "#%%\n"
    }
   },
   "outputs": [],
   "source": [
    "#Dividiendo\n",
    "inicial =[\n",
    "    '1. Cédula',\n",
    "    '2. Edad',\n",
    "    '4. Género',\n",
    "    '5. Cabeza de Hogar',\n",
    "    '6. Estado Civil',\n",
    "    '7. Horas semanales',\n",
    "    '8. ¿Es usted líder comunitario?',\n",
    "    '9. Áreas en las que enseña',\n",
    "    '3. Contexto IDE',\n",
    "    '10. Es docente STEM',\n",
    "    '11. Formación',\n",
    "    'Apellido',\n",
    "    'Correo Electrónico',\n",
    "    'Curso',\n",
    "    'Encuesta',\n",
    "    'Hora',\n",
    "    'ID Asignado Por Moodle',\n",
    "    'Nombre',\n",
    "    'Tipo',\n",
    "\n",
    "    ]\n",
    "\n",
    "numbers = [15,17,18,20,22]\n",
    "escalas = ['autoeficaciaPC','autoeficaciaTecno','conocimie_pedag','sentidoComuni']\n",
    "cols = []\n",
    "for number in numbers:\n",
    "    for col in df_combined.columns:\n",
    "        if (f\"{number}.\" in col):\n",
    "            cols.append(col)\n",
    "\n",
    "df_combined[inicial+cols+escalas].to_excel(\"Autoeficacia.xlsx\")\n",
    "\n",
    "col = [\n",
    "    \"24. Margarita\",\n",
    "    \"25. Cafeteria del Colegio\",\n",
    "    \"26. Raton robot\",\n",
    "    \"27. Diagrama de flujo\",\n",
    "    \"28. Variable secuela\",\n",
    "    \"29. A B C\",\n",
    "    \"30. Manzana Uvas Bananas\",\n",
    "    \"31. Variables booleanas\",\n",
    "    \"32. Alcaldía Valeria\",\n",
    "    \"33. Botella de Color\",\n",
    "    \"34. Alejandra codigo bloque\"\n",
    "]\n",
    "escalas = ['conocimientoTotal']\n",
    "df_combined[inicial+col+escalas].to_excel(\"Conocimiento.xlsx\")\n",
    "\n",
    "numbers = [12, 13]\n",
    "cols = []\n",
    "escalas = ['estereoBenevol', 'sexismoBenevol','sexismoSTEM']\n",
    "for number in numbers:\n",
    "    for col in df_combined.columns:\n",
    "        if (f\"{number}.\" in col):\n",
    "            cols.append(col)\n",
    "\n",
    "df_combined[inicial+cols+escalas].to_excel(\"Género.xlsx\")\n"
   ]
  },
  {
   "cell_type": "markdown",
   "source": [
    "## Exportando"
   ],
   "metadata": {
    "collapsed": false,
    "pycharm": {
     "name": "#%% md\n"
    }
   }
  },
  {
   "cell_type": "code",
   "execution_count": null,
   "outputs": [],
   "source": [
    "df_pre.to_excel(\"Inicial_Pre_Cohorte1.xlsx\")\n",
    "df_post.to_excel(\"Inicial_Post_Cohorte1.xlsx\")\n",
    "df_combined.to_excel(\"Inicial_Pre_Y_Post_Cohorte1.xlsx\")"
   ],
   "metadata": {
    "collapsed": false,
    "pycharm": {
     "name": "#%%\n"
    }
   }
  },
  {
   "cell_type": "code",
   "execution_count": null,
   "outputs": [],
   "source": [],
   "metadata": {
    "collapsed": false,
    "pycharm": {
     "name": "#%%\n"
    }
   }
  }
 ],
 "metadata": {
  "kernelspec": {
   "display_name": "Python 3 (ipykernel)",
   "language": "python",
   "name": "python3"
  },
  "language_info": {
   "codemirror_mode": {
    "name": "ipython",
    "version": 3
   },
   "file_extension": ".py",
   "mimetype": "text/x-python",
   "name": "python",
   "nbconvert_exporter": "python",
   "pygments_lexer": "ipython3",
   "version": "3.9.13"
  }
 },
 "nbformat": 4,
 "nbformat_minor": 5
}