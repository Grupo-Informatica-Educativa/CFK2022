{
 "cells": [
  {
   "cell_type": "markdown",
   "id": "87cfc4b5",
   "metadata": {
    "pycharm": {
     "name": "#%% md\n"
    }
   },
   "source": [
    "## ¿Qué cosas encontramos en este Notebook?\n",
    "\n",
    "- Descarga de datos Intelliboard (05/06/2021) Curso Inicial 1 - Cohorte 1\n",
    "    Filtrados por:    \n",
    "        - Cuestionario Inicial (10 puntos)\n",
    "        - U4 Cuestionario Final (25 puntos)\n",
    "\n",
    "    ¿Qué hacemos con estos datos?\n",
    "    \n",
    "        Hacer coincidir prepost en sus columnas y agregar la variable Instrumento que diferencie cual es cual.\n",
    "        Validar con la información que nos entrega David British, en el excel adjunto en la hoja Reporte, columnas Cuestionario Inicial, Cuestionario Final"
   ]
  },
  {
   "cell_type": "code",
   "execution_count": 99,
   "id": "7ebc44e8",
   "metadata": {
    "pycharm": {
     "name": "#%%\n"
    }
   },
   "outputs": [],
   "source": [
    "import pandas as pd\n",
    "import numpy as np\n",
    "pd.set_option('display.max_columns', None)"
   ]
  },
  {
   "cell_type": "code",
   "execution_count": 100,
   "id": "e3f450ce",
   "metadata": {
    "pycharm": {
     "name": "#%%\n"
    }
   },
   "outputs": [],
   "source": [
    "## Cargamos los datos  Intelliboard (05/06/2021) \n",
    "df_og = pd.read_csv(\"Inicial_C1_05062021.csv\",on_bad_lines='skip',low_memory=False)"
   ]
  },
  {
   "cell_type": "code",
   "execution_count": 101,
   "id": "72162a09",
   "metadata": {
    "pycharm": {
     "name": "#%%\n"
    }
   },
   "outputs": [],
   "source": [
    "df = df_og.copy()"
   ]
  },
  {
   "cell_type": "markdown",
   "id": "2be68655",
   "metadata": {
    "pycharm": {
     "name": "#%% md\n"
    }
   },
   "source": [
    "## Seleccionamos Pre y Post\n",
    "\n",
    "- Pre = 'Cuestionario Inicial (10 puntos)'\n",
    "- Post = 'U4 Cuestionario Final (25 puntos)'"
   ]
  },
  {
   "cell_type": "code",
   "execution_count": 102,
   "id": "ac87599a",
   "metadata": {
    "pycharm": {
     "name": "#%%\n"
    }
   },
   "outputs": [],
   "source": [
    "# The columns that we want right now\n",
    "# df.Encuesta.unique()\n",
    "cols = ['Cuestionario Inicial (10 puntos)','U4 Cuestionario Final (25 puntos)']\n",
    "\n",
    "df_pre = df[df['Encuesta'] == 'Cuestionario Inicial (10 puntos)'].copy()\n",
    "df_post = df[df['Encuesta'] == 'U4 Cuestionario Final (25 puntos)'].copy()"
   ]
  },
  {
   "cell_type": "markdown",
   "id": "5254981d",
   "metadata": {
    "pycharm": {
     "name": "#%% md\n"
    }
   },
   "source": [
    "### Buscando columnas repetidas - Pre\n"
   ]
  },
  {
   "cell_type": "code",
   "execution_count": 104,
   "id": "dc28181b",
   "metadata": {
    "pycharm": {
     "name": "#%%\n"
    }
   },
   "outputs": [],
   "source": [
    "# 13 y 15 en Pre\n",
    "df_pre_preg13 = df_pre[df_pre[\"Pregunta\"] == 'Por favor evalúe los\\nsiguientes enunciados de acuerdo con su experiencia:\\n'].copy()\n",
    "\n",
    "df_pre_preg13 = df_pre[df_pre.Respuesta.str.contains(\"Es preferible que las mujeres enseñen ciencias sociales y los hombres ciencias exactas.\").fillna(False)][['Nombre' ,'Apellido','Correo Electrónico', 'Pregunta', 'Respuesta']]\n",
    "df_pre_preg15 = df_pre[df_pre.Respuesta.str.contains(\"Sé cómo resolver los problemas técnicos \").fillna(False)][['Nombre' ,'Apellido','Correo Electrónico', 'Pregunta', 'Respuesta']]\n",
    "\n",
    "pivot_preg13 = df_pre_preg13.pivot_table(\n",
    "    index=['Nombre' ,'Apellido','Correo Electrónico'],\n",
    "    columns='Pregunta', \n",
    "    values='Respuesta', \n",
    "    aggfunc='first').reset_index()\n",
    "pivot_preg13.rename(columns={'Por favor evalúe los\\nsiguientes enunciados de acuerdo con su experiencia:\\n': \n",
    "                              \"13. Afirmaciones de Género\"},inplace=True)\n",
    "\n",
    "pivot_preg15 = df_pre_preg15.pivot_table(\n",
    "    index=['Nombre' ,'Apellido','Correo Electrónico'],\n",
    "    columns='Pregunta', \n",
    "    values='Respuesta', \n",
    "    aggfunc='first').reset_index()\n",
    "\n",
    "pivot_preg15.rename(columns={'Por favor evalúe los\\nsiguientes enunciados de acuerdo con su experiencia:\\n':\n",
    "                             \"15. Afirmaciones autoeficacia técnologica\"},inplace=True)\n",
    "\n",
    "\n",
    "# Eliminamos la columna en Pre para evitar repetidos\n",
    "\n",
    "df_pre = df_pre[df_pre['Pregunta'] != 'Por favor evalúe los\\nsiguientes enunciados de acuerdo con su experiencia:\\n']\n"
   ]
  },
  {
   "cell_type": "markdown",
   "id": "bfdef9ff",
   "metadata": {
    "pycharm": {
     "name": "#%% md\n"
    }
   },
   "source": [
    "### Buscando columnas repetidas - Post\n"
   ]
  },
  {
   "cell_type": "code",
   "execution_count": 105,
   "id": "50011cb0",
   "metadata": {
    "pycharm": {
     "name": "#%%\n"
    }
   },
   "outputs": [],
   "source": [
    "# 3 y 5 en Post\n",
    "df_post_rep = df_post[df_post[\"Pregunta\"] == 'Por favor evalúe los\\nsiguientes enunciados de acuerdo con su experiencia:\\n'].copy()\n",
    "\n",
    "df_post_rep3 = df_post_rep[df_post_rep.Respuesta.str.contains(\"Es preferible que las mujeres enseñen ciencias sociales y los hombres ciencias exactas.\").fillna(False)][['Nombre' ,'Apellido','Correo Electrónico', 'Pregunta', 'Respuesta']]\n",
    "df_post_rep5 = df_post_rep[df_post_rep.Respuesta.str.contains(\"Sé cómo resolver los problemas técnicos\").fillna(False)][['Nombre' ,'Apellido','Correo Electrónico', 'Pregunta', 'Respuesta']]\n",
    "\n",
    "pivot_preg3 = df_post_rep3.pivot_table(\n",
    "    index=['Nombre' ,'Apellido','Correo Electrónico'],\n",
    "    columns='Pregunta', \n",
    "    values='Respuesta', \n",
    "    aggfunc='first').reset_index()\n",
    "pivot_preg3.rename(columns={'Por favor evalúe los\\nsiguientes enunciados de acuerdo con su experiencia:\\n': \n",
    "                            \"13. Afirmaciones de Género\"},inplace=True)\n",
    "\n",
    "\n",
    "\n",
    "pivot_preg5 = df_post_rep5.pivot_table(\n",
    "    index=['Nombre' ,'Apellido','Correo Electrónico'],\n",
    "    columns='Pregunta', \n",
    "    values='Respuesta', \n",
    "    aggfunc='first').reset_index()\n",
    "\n",
    "pivot_preg5.rename(columns={'Por favor evalúe los\\nsiguientes enunciados de acuerdo con su experiencia:\\n': \n",
    "                            \"15. Afirmaciones autoeficacia técnologica\"},inplace=True)\n",
    "\n",
    "\n",
    "# Eliminamos la columna en Post para evitar repetidos\n",
    "\n",
    "df_post = df_post[df_post['Pregunta'] != 'Por favor evalúe los\\nsiguientes enunciados de acuerdo con su experiencia:\\n']\n"
   ]
  },
  {
   "cell_type": "markdown",
   "id": "f6446f6d",
   "metadata": {
    "pycharm": {
     "name": "#%% md\n"
    }
   },
   "source": [
    "### Pivot a todos los DataFrames"
   ]
  },
  {
   "cell_type": "code",
   "execution_count": 106,
   "id": "03a49ba1",
   "metadata": {
    "pycharm": {
     "name": "#%%\n"
    }
   },
   "outputs": [],
   "source": [
    "df_pre = df_pre.pivot_table(\n",
    "    index=['Nombre', 'Apellido', 'Correo Electrónico', 'Curso','Hora','Encuesta','ID Asignado Por Moodle'],\n",
    "    columns='Pregunta', \n",
    "    values='Respuesta', \n",
    "    aggfunc='first').reset_index()\n",
    "\n",
    "df_post = df_post.pivot_table(\n",
    "    index=['Nombre', 'Apellido', 'Correo Electrónico', 'Curso','Hora','Encuesta','ID Asignado Por Moodle'],\n",
    "    columns='Pregunta', \n",
    "    values='Respuesta', \n",
    "    aggfunc='first').reset_index()"
   ]
  },
  {
   "cell_type": "markdown",
   "id": "0f81e96d",
   "metadata": {
    "pycharm": {
     "name": "#%% md\n"
    }
   },
   "source": [
    "### Cambiando nombres a columnas"
   ]
  },
  {
   "cell_type": "code",
   "execution_count": 107,
   "id": "042b4cbc",
   "metadata": {
    "scrolled": false,
    "pycharm": {
     "name": "#%%\n"
    }
   },
   "outputs": [],
   "source": [
    "new_col_names = {\n",
    "    #'Nombre',\n",
    "    #'Apellido',\n",
    "    #'Correo Electrónico',\n",
    "    #'Curso',\n",
    "    #'Hora',\n",
    "    #'Encuesta',\n",
    "    #'ID Asignado Por Moodle',\n",
    "    \"Número de Cédula\": \"1. Cédula\",\n",
    "    \"Edad (Años)\": \"2. Edad\",\n",
    "    \"Su institución está en\\nun contexto:\": \"3. Contexto IDE\",\n",
    "    \"Género:\": \"4. Género\",\n",
    "    \"¿Es usted cabeza de hogar?\\n\\n\": \"5. Cabeza de Hogar\",\n",
    "    \"¿Cuál es su estado civil?\": \"6. Estado Civil\",\n",
    "    \"Número de horas de clases semanales que orienta (Solo números)\": \"7. Horas semanales\",\n",
    "    \"¿Es usted líder comunitario?\": \"8. ¿Es usted líder comunitario?\",\n",
    "    \"¿Cuáles de las siguientes\\náreas enseña y en qué grado? (Marque 'NS/NC' si no enseña el área)\": \"9. Áreas en las que enseña\",\n",
    "    \"¿De acuerdo con lo\\nanterior, usted es docente de áreas STEM (ciencias naturales, matemática,\\ntecnología e informática) o No STEM (ciencias sociales, educación artística,\\neducación física, educación religiosa, humanidades e idiomas extranjeros)?\": \"10. Es docente STEM\",\n",
    "    \"Su formación es en áreas \": \"11. Formación\",\n",
    "    \"¿Cuáles de las siguientes estrategias usted ha usado en sus clases? (Opción múltiple)\": \"12. Estrategias en clase\",\n",
    "    '¿Cuáles de las siguientes estrategias ha usado usted en sus clases? (Opción múltiple)': \"12. Estrategias en clase\", \n",
    "    \"Agregue cualquier comentario o aclaración sobre las preguntas anteriores.\": \"14. Comentarios.\",\n",
    "    \"Agregue cualquier comentario o aclaración sobre las preguntas anteriores. \": \"16. Comentarios.\",\n",
    "    \"Por favor evalúe las siguientes afirmaciones\\nsegún qué tan de acuerdo está usted con enseñar las siguientes prácticas como\\nobjetivos de aprendizaje relacionados con el pensamiento\\ncomputacional:\\n\": \"17. Practicas\",\n",
    "    \"Por favor evalúe los\\nsiguientes enunciados de acuerdo con qué tan preparado(a) se siente para\\nintegrar el pensamiento computacional en sus cursos: \": \"18. Integración Pensamiento Computacional\",\n",
    "    \"Agregue cualquier comentario\\no aclaración sobre las preguntas anteriores.\": \"19. Comentarios.\",\n",
    "    \"En una escala de 1 a 10\\n(donde 10 es muy a menudo), con qué frecuencia utilizarías las siguientes\\nprácticas pedagógicas para enseñar pensamiento computacional. Si no conoce alguna práctica pedagógica, por favor elija la opción NS/NC.\": \"20. Prácticas pedagógicas\",\n",
    "    'En una escala de 1 a 10\\n(donde 10 es muy a menudo), con qué frecuencia utilizarías las siguientes\\nprácticas pedagógicas para enseñar pensamiento computacional.\\xa0': \"20. Prácticas pedagógicas\",\n",
    "    'Agregue cualquier comentario\\no aclaración adicional sobre las estrategias de enseñanza de la pregunta\\nanterior.':  \"21. Comentarios.\",\n",
    "    \"Agregue cualquier comentario o aclaración adicional sobre las estrategias de enseñanza de la pregunta\\nanterior.\": \"21. Comentarios.\",\n",
    "    \"Cuando un estudiante se\\nenfrenta a una dificultad creando un programa y no sabe si está correcto, qué\\ntan a menudo, en una escala de 1-10 (donde 10 es siempre), usted:\": \"22. Estrategias contra dificultades\",\n",
    "    \"La docente Margarita decidió hacer que sus estudiantes de segundo de primaria utilicen los computadores del colegio para predecir el clima de una semana (temperatura, precipitaciones, y viento). Cada estudiante debe dibujar cómo se verá el clima en la\\n    ciudad en dicha semana. Margarita, creó un archivo compartido donde los estudiantes ingresarán la información. Luego tomaron las predicciones de modelos de Internet y los ingresaron en el mismo documento compartido. Durante una semana tomaron los\\n    datos reales, y luego, proyectaron en el tablero los datos predichos por los estudiantes, los del modelo de Internet, y los datos reales. Al finalizar, Margarita les mostró a los estudiantes cómo hacer un gráfico para comparar los diferentes datos.\\n\\n\\n\\n¿Está Margarita desarrollando el pensamiento computacional de sus estudiantes? Seleccione todas las respuestas que considere correctas.\\n\": \"24. Margarita\",\n",
    "    \"La cafetería del colegio\\nempacó almuerzos iguales para todos los estudiantes, menos los de Juan Arias y\\nMaría Vásquez que no pueden comer huevo. Los almuerzos están marcados con el apellido\\nde los estudiantes y organizados alfabéticamente. Para verificar que su\\nalmuerzo cumple con la restricción alimenticia María con ayuda de su profesor\\nbuscan en las cajas. María sabe que su almuerzo debe estar al final, así que\\nbusca hasta que encuentre una caja que comience por una letra cerca de la V. Cuando encuentra una que comienza con Trujillo, mira el último almuerzo de esa caja y se da\\ncuenta que termina en Zapata. Así, María se da cuenta que su almuerzo debe\\nestar allí.\\n\\n¿Está María usando el pensamiento computacional para encontrar su\\nalmuerzo? Seleccione todas las respuestas que considere correctas.\": \"25. Cafeteria del Colegio\",\n",
    "    \"Un ratón robot ha sido programado para\\nseguir las siguientes instrucciones:\\n\\n(1) Sigue hacia abajo hasta que haya un cruce\\na uno de los lados\\n(2) Cuando encuentres un cruce, atraviésalo\\n(3) Vuelve al paso (1).\\n\\nConsidera el siguiente laberinto para\\nnuestro ratón robot. ¿En cuál de los tubos debería comenzar el robot para\\nllegar al queso?\": \"26. Raton robot\",\n",
    "    \"Andrea hizo un diagrama\\nde flujo para diseñar el algoritmo que le permitirá encender automáticamente el\\nventilador cuando esté muy caliente su habitación. Sin embargo, no está segura\\nde que funcione. ¿Qué le podrías recomendar?\": \"27. Diagrama de flujo\",\n",
    "    \"Considera el siguiente\\nsegmento de código¿Después de que el anterior\\ncódigo se ejecuta, cual es el valor de la variable secuela?\": \"28. Variable secuela\",\n",
    "    \"Considera el siguiente\\ncódigo: Si a=3, b=8\\ny c=10, ¿Qué imprimirá el programa?\": \"29. A B C\",\n",
    "    \"Considera el siguiente\\ncódigo: Después de que se ejecute el código anterior, ¿Cuáles de los siguientes enunciados son\\xa0verdaderos?\\xa0\": \"30. Manzana Uvas Bananas\",\n",
    "    \"Suponiendo que “a” y “b”\\nson variables booleanas. Considera la siguiente expresión lógica:¿Cuál de las siguientes\\nafirmaciones describe de manera más precisa la evaluación de las expresiones?\": \"31. Variables booleanas\",\n",
    "    \"La alcaldía acaba de contratar a Valeria para hacer un programa en la Micro:bit que controle el alumbrado público de su ciudad. Utilizando el sensor de luz de la tarjeta Micro:bit, ella se dio cuenta que cuando mide niveles de luz con un valor por debajo\\n    de 100, ya está suficientemente oscuro como para prender el alumbrado público. El programa que hizo funciona bien para prender el alumbrado de la ciudad, pero luego cuando amanece, las luces siguen encendidas durante todo el día.\\n\\n\\nValeria no está segura cómo solucionarlo, pero tiene algunas ideas que cree que podrían funcionar. ¿Cuál de las siguientes opciones crees que debería usar Valeria?\\n\\n\\n  \\n    \\n      Imagen 1\\n    \\n    \\n      Imagen 2\\n    \\n  \\n  \\n    \\n      Imagen 3\\n    \\n    \\n      Imagen 4\\n    \\n  \\n\": \"32. Alcaldía Valeria\",\n",
    "    \"¿Qué botella debe cambiarse\\nde color para que el resultado final sea una botella de color blanco?\\xa0 Tenga en cuenta lo que hace cada máquina\\nrecicladora que se usa en este sistema.\": \"33. Botella de Color\",\n",
    "    \"Teniendo en cuenta el\\nsiguiente fragmento de código, Alejandra responde a la pregunta ¿Cuál será el\\nvalor final de “Y”? afirmando que el valor final será 44. El código retorna 120¿Qué opinas de la\\nrespuesta de Alejandra?\": \"34. Alejandra codigo bloque\",\n",
    "     'Agregue cualquier comentario o aclaración sobre las preguntas anteriores.\\xa0': \"35. Comentarios\"\n",
    "}\n",
    "\n",
    "\n",
    "df_pre.rename(columns=new_col_names,inplace=True)\n",
    "df_post.rename(columns=new_col_names,inplace=True)\n"
   ]
  },
  {
   "cell_type": "markdown",
   "id": "3536dbae",
   "metadata": {
    "pycharm": {
     "name": "#%% md\n"
    }
   },
   "source": [
    "### Uniendo columna 13 y 15"
   ]
  },
  {
   "cell_type": "code",
   "execution_count": 108,
   "id": "b73cea20",
   "metadata": {
    "pycharm": {
     "name": "#%%\n"
    }
   },
   "outputs": [],
   "source": [
    "df_pre = df_pre.merge(pivot_preg13.copy(),on=['Nombre', 'Apellido', 'Correo Electrónico']).copy()\n",
    "df_pre = df_pre.merge(pivot_preg15.copy(),on=['Nombre', 'Apellido', 'Correo Electrónico']).copy()\n",
    "\n",
    "df_post = df_post.merge(pivot_preg3.copy(),on=['Nombre', 'Apellido', 'Correo Electrónico']).copy()\n",
    "df_post = df_post.merge(pivot_preg5.copy(),on=['Nombre', 'Apellido', 'Correo Electrónico']).copy()"
   ]
  },
  {
   "cell_type": "markdown",
   "id": "684d45f2",
   "metadata": {
    "pycharm": {
     "name": "#%% md\n"
    }
   },
   "source": [
    "### Eliminando columnas que se colaron*"
   ]
  },
  {
   "cell_type": "code",
   "execution_count": 109,
   "id": "a489a859",
   "metadata": {
    "pycharm": {
     "name": "#%%\n"
    }
   },
   "outputs": [],
   "source": [
    "df_pre.drop('Agregue cualquier comentario\\no aclaración sobre las preguntas anteriores.',axis=1,inplace=True)"
   ]
  },
  {
   "cell_type": "markdown",
   "id": "68659657",
   "metadata": {
    "pycharm": {
     "name": "#%% md\n"
    }
   },
   "source": [
    "# Limpiando y extendiendo columnas\n",
    "\n",
    "- 8. ¿Es usted líder comunitario?\n",
    "- 9. Áreas en las que enseña\n",
    "- 12. Estrategias en clase\n",
    "- 13. Afirmaciones de Género\n",
    "- 15. Afirmaciones autoeficacia técnologica\n",
    "- 17. Practicas\n",
    "- 18. Integración Pensamiento Computacional\n",
    "- 20. Prácticas pedagógicas\n",
    "- 22. Estrategias contra dificultades\n",
    "- 24. Margarita\n",
    "- 25. Cafeteria del Colegio"
   ]
  },
  {
   "cell_type": "markdown",
   "id": "fec2751b",
   "metadata": {
    "pycharm": {
     "name": "#%% md\n"
    }
   },
   "source": [
    "## Pregunta 8\n",
    "\n",
    "### Pre"
   ]
  },
  {
   "cell_type": "code",
   "execution_count": 110,
   "id": "e268f06c",
   "metadata": {
    "pycharm": {
     "name": "#%%\n"
    }
   },
   "outputs": [],
   "source": [
    "### nadie nos paró bolas\n",
    "\n",
    "#col = \"8. ¿Es usted líder comunitario?\"\n",
    "#df_pre[col].fillna(\"No\").value_counts()\n"
   ]
  },
  {
   "cell_type": "markdown",
   "id": "64b1770a",
   "metadata": {
    "pycharm": {
     "name": "#%% md\n"
    }
   },
   "source": [
    "## Pregunta 9\n",
    "\n",
    "### Pre"
   ]
  },
  {
   "cell_type": "code",
   "execution_count": 111,
   "id": "27288828",
   "metadata": {
    "pycharm": {
     "name": "#%%\n"
    }
   },
   "outputs": [],
   "source": [
    "col = \"9. Áreas en las que enseña\"\n",
    "df_pre[col] = df_pre[col].str.replace('-1', '0')\n",
    "temp = df_pre[col].str.split(r'\\b\\D+\\b', expand=True)\n",
    "temp.rename({\n",
    "    1: '9.1 Ciencias naturales y educación ambiental',\n",
    "    2: '9.2 Ciencias sociales, historia, geografía, constitución política y democracia',\n",
    "    3: '9.3 Educación artística',\n",
    "    4: '9.4 Educación ética y en valores humanos',\n",
    "    5: '9.5 Educación física, recreación y deportes',\n",
    "    6: '9.6 Educación religiosa',\n",
    "    7: '9.7 Humanidades, lengua castellana e idiomas extranjeros',\n",
    "    8: '9.8 Matemáticas',\n",
    "    9: '9.9 Tecnología e informática',\n",
    "    10: '9.10 Otro'\n",
    "}, axis=1, inplace=True)\n",
    "temp.drop([0], axis=1, inplace=True)\n",
    "for col in temp.columns:\n",
    "        df_pre[col] = temp[col]"
   ]
  },
  {
   "cell_type": "markdown",
   "id": "203b72c0",
   "metadata": {
    "pycharm": {
     "name": "#%% md\n"
    }
   },
   "source": [
    "## Pregunta 12\n",
    "\n",
    "### Preparación"
   ]
  },
  {
   "cell_type": "code",
   "execution_count": 112,
   "id": "d5d16d65",
   "metadata": {
    "pycharm": {
     "name": "#%%\n"
    }
   },
   "outputs": [],
   "source": [
    "def divide_question_YES_NO(num_col, str_col, opciones, df):\n",
    "    for i, op in enumerate(opciones):\n",
    "        #print(num_col, i)\n",
    "        subpreg = f'{num_col}.{i+1} {op}'\n",
    "        mask = df[str_col].str.contains(op, na=False)\n",
    "        df[subpreg] = mask.copy()\n",
    "        df.loc[:, subpreg] = df.loc[:, subpreg].replace({True: 'SI', False: 'NO'}).copy()\n",
    "        \n",
    "        \n",
    "opciones =[\n",
    "    \"Realizar clubes y actividades extracurriculares para niñas y jóvenes como refuerzo de lo visto en las class de áreas STEM.\",\n",
    "    \"Destacar y reconocer los logros de las niñas y jóvenes, por ejemplo, promover concursos diferenciados por género, como, premio la niña científica y el niño científico.\"\n",
    "    \"Dar referencias o modelos de mujeres destacadas en las áreas STEM, por ejemplo, mostrar la pelicula de Marie Curie.\",\n",
    "    \"Motivar que las niñas participen y sean escuchadas, por ejemplo, alternándolas con los niños.\",\n",
    "    \"Estimular el liderazgo femenino, por ejemplo, que las niñas y adolescentes sean representantes de grupo.\",\n",
    "    \"Generar espacios de confianza para las niñas, por ejemplo, realizando reflexiones sobre el género al comienzo de la clase.\",\n",
    "    \"Prohibir y corregir los comentarios, actitudes y acciones sexistas.\",\n",
    "    'Utilizar lenguaje inclusivo y no realizar estereotipos de género, por ejemplo, decir \"todas las personas* en vez de \"todos los niños\" evitar decir que las niñas son delicadas.',\n",
    "    \"Tratos y estímulos igualitarios a toda y todo estudiante independientemente de su género.\",\n",
    "    \"Observar el comportamiento de los niños hacia las niñas porque a ellas no se les puede tocar ni con el pétalo de una rosa.\"\n",
    "]\n",
    "\n",
    "de_acuerdo= {\n",
    "    1: 'Totalmente en desacuerdo', \n",
    "    2: 'En desacuerdo',\n",
    "    3: 'Neutro',\n",
    "    4: 'De acuerdo',\n",
    "    5: 'Totalmente de acuerdo'\n",
    "}\n",
    "\n",
    "col = \"12. Estrategias en clase\""
   ]
  },
  {
   "cell_type": "markdown",
   "id": "9654b461",
   "metadata": {
    "pycharm": {
     "name": "#%% md\n"
    }
   },
   "source": [
    "### Pre"
   ]
  },
  {
   "cell_type": "code",
   "execution_count": 113,
   "id": "b71992ff",
   "metadata": {
    "pycharm": {
     "name": "#%%\n"
    }
   },
   "outputs": [],
   "source": [
    "divide_question_YES_NO(12, col, opciones, df_pre)"
   ]
  },
  {
   "cell_type": "markdown",
   "id": "dcc508b7",
   "metadata": {
    "pycharm": {
     "name": "#%% md\n"
    }
   },
   "source": [
    "### Post"
   ]
  },
  {
   "cell_type": "code",
   "execution_count": 114,
   "id": "d2e10374",
   "metadata": {
    "pycharm": {
     "name": "#%%\n"
    }
   },
   "outputs": [],
   "source": [
    "divide_question_YES_NO(12, col, opciones, df_post)"
   ]
  },
  {
   "cell_type": "markdown",
   "id": "560467d3",
   "metadata": {
    "pycharm": {
     "name": "#%% md\n"
    }
   },
   "source": [
    "## Pregunta 13\n"
   ]
  },
  {
   "cell_type": "code",
   "execution_count": 115,
   "id": "747eaca1",
   "metadata": {
    "pycharm": {
     "name": "#%%\n"
    }
   },
   "outputs": [],
   "source": [
    "col = \"13. Afirmaciones de Género\"\n",
    "\n",
    "replaced_values = {\n",
    "    1:\"13.1 Es preferible que las mujeres enseñen ciencias sociales y los hombres ciencias exactas.\",\n",
    "    2:\"13.2 Es normal que la mayoria de ingenieros mecánicos sean varones porque los hombres son mejores para los números.\",\n",
    "    3:\"13.3 Por su esencia una mujer tiene mejor desempeño en un proyecto de alto impacto social que en un proyecto de robótica industrial.\",\n",
    "    4:\"13.4 Los hombres son mejores para la tecnologia que las mujeres.\",\n",
    "    5:\"13.5 Las mujeres tienen mayores habilidades para provectos sociales que tecnológicos\",\n",
    "    6:\"13.6 Los grandes aportes en la computación han sido hechos por hombres.\",\n",
    "    7:\"13.7 Que la mayoria de mujeres no opte por areas exactas es simplemente una cuestión de preferencias.\",\n",
    "    8:\"13.8 Que la mayoria de personas en artes y humanidades sean mujeres es muestra de su sensibilidad.\",\n",
    "    9:\"13.9 Es natural que los hombres sean buenos para los números y las mujeres para las letras.\",\n",
    "    10:\"13.10 Los hombres son muy âgiles tomando decisions importantes.\",\n",
    "    11:\"13.11 Las niñas son más ordenadas que los niños.\",\n",
    "    12:\"13.12 Muchas mujeres se caracterizan por una pureza que pocos hombres poseen.\",\n",
    "    13:\"13.13 Las mujeres deben ser queridas y protegidas por los hombres.\",\n",
    "    14:\"13.14 Todo hombre debe tener una mujer a quien amar.\",\n",
    "    15:\"13.15 El hombre está incompleto sin la mujer.\",\n",
    "    16:\"13.16 Las mujeres en comparación con los hombres, tienden a tener un sentido más refinado de la cultura y el buen gusto.\",\n",
    "}"
   ]
  },
  {
   "cell_type": "markdown",
   "id": "528f92b3",
   "metadata": {
    "pycharm": {
     "name": "#%% md\n"
    }
   },
   "source": [
    "### Pre"
   ]
  },
  {
   "cell_type": "code",
   "execution_count": 116,
   "id": "30aa2d0b",
   "metadata": {
    "pycharm": {
     "name": "#%%\n"
    }
   },
   "outputs": [],
   "source": [
    "df_pre[col] = df_pre[col].str.replace('-1', '0').copy()\n",
    "temp = df_pre[col].str.split(r'\\b\\D+\\b', expand=True)\n",
    "temp.iloc[:, 1:] = temp.iloc[:, 1:].astype(int).replace(de_acuerdo)\n",
    "temp.rename(replaced_values, axis=1, inplace=True)\n",
    "temp.drop([0], axis=1, inplace=True)\n",
    "for cole in temp.columns:\n",
    "        df_pre[cole] = temp[cole]\n",
    "\n"
   ]
  },
  {
   "cell_type": "markdown",
   "id": "24a786ac",
   "metadata": {
    "pycharm": {
     "name": "#%% md\n"
    }
   },
   "source": [
    "### Post"
   ]
  },
  {
   "cell_type": "code",
   "execution_count": 117,
   "id": "b001787a",
   "metadata": {
    "pycharm": {
     "name": "#%%\n"
    }
   },
   "outputs": [],
   "source": [
    "df_post[col] = df_post[col].str.replace('-1', '0').copy()\n",
    "temp = df_post[col].str.split(r'\\b\\D+\\b', expand=True)\n",
    "temp.iloc[:, 1:] = temp.iloc[:, 1:].astype(int).replace(de_acuerdo)\n",
    "temp.rename(replaced_values, axis=1, inplace=True)\n",
    "temp.drop([0], axis=1, inplace=True)\n",
    "for cole in temp.columns:\n",
    "        df_post[cole] = temp[cole]"
   ]
  },
  {
   "cell_type": "markdown",
   "id": "781937fe",
   "metadata": {
    "pycharm": {
     "name": "#%% md\n"
    }
   },
   "source": [
    "## Pregunta 15"
   ]
  },
  {
   "cell_type": "code",
   "execution_count": 118,
   "id": "5e72989e",
   "metadata": {
    "pycharm": {
     "name": "#%%\n"
    }
   },
   "outputs": [],
   "source": [
    "col = \"15. Afirmaciones autoeficacia técnologica\"\n",
    "replaced_values = {\n",
    "    1: '15.1 Sé cómo resolver los problemas técnicos cuando fallan las TIC',\n",
    "    2: '15.2 Puedo aprender sobre nuevas tecnologías fácilmente',\n",
    "    3: '15.3 Sé cómo usar las TIC con los estudiantes en clase',\n",
    "    4: '15.4 Me apoyo en mis colegas para resolver problemas sobre cómo trabajar algún tema',\n",
    "    5: '15.5 Puedo hablar con otros docentes sobre el diseño de cursos',\n",
    "    6: '15.6 Siento que tengo apoyo de otros docentes para el diseño de mis cursos',\n",
    "    7: '15.7 No tengo con quién conversar sobre el diseño de mis cursos'\n",
    "}"
   ]
  },
  {
   "cell_type": "markdown",
   "id": "e6f5087b",
   "metadata": {
    "pycharm": {
     "name": "#%% md\n"
    }
   },
   "source": [
    "### Pre"
   ]
  },
  {
   "cell_type": "code",
   "execution_count": 119,
   "id": "2bebea4b",
   "metadata": {
    "pycharm": {
     "name": "#%%\n"
    }
   },
   "outputs": [],
   "source": [
    "df_pre[col] = df_pre[col].str.replace('-1', '0').copy()\n",
    "temp = df_pre[col].str.split(r'\\b\\D+\\b', expand=True)\n",
    "temp.iloc[:, 1:] = temp.iloc[:, 1:].astype(int).replace(de_acuerdo)\n",
    "temp.rename(replaced_values, axis=1, inplace=True)\n",
    "temp.drop([0], axis=1, inplace=True)\n",
    "for cole in temp.columns:\n",
    "        df_pre[cole] = temp[cole]"
   ]
  },
  {
   "cell_type": "markdown",
   "id": "15cf281f",
   "metadata": {
    "pycharm": {
     "name": "#%% md\n"
    }
   },
   "source": [
    "### Post"
   ]
  },
  {
   "cell_type": "code",
   "execution_count": 120,
   "id": "174868a6",
   "metadata": {
    "pycharm": {
     "name": "#%%\n"
    }
   },
   "outputs": [],
   "source": [
    "df_post[col] = df_post[col].str.replace('-1', '0').copy()\n",
    "temp = df_post[col].str.split(r'\\b\\D+\\b', expand=True)\n",
    "temp.iloc[:, 1:] = temp.iloc[:, 1:].astype(int).replace(de_acuerdo)\n",
    "temp.rename(replaced_values, axis=1, inplace=True)\n",
    "temp.drop([0], axis=1, inplace=True)\n",
    "\n",
    "for cole in temp.columns:\n",
    "        df_post[cole] = temp[cole]"
   ]
  },
  {
   "cell_type": "markdown",
   "id": "9e622607",
   "metadata": {
    "pycharm": {
     "name": "#%% md\n"
    }
   },
   "source": [
    "## Pregunta 17"
   ]
  },
  {
   "cell_type": "code",
   "execution_count": 121,
   "id": "0215e1d1",
   "metadata": {
    "pycharm": {
     "name": "#%%\n"
    }
   },
   "outputs": [],
   "source": [
    "col = \"17. Practicas\"\n",
    "replaced_values = {\n",
    "    1: '17.1 Usar el correo electrónico',\n",
    "    2: '17.2 Crear y usar de modelos y simulaciones',\n",
    "    3: '17.3 Automatizar tareas',\n",
    "    4: '17.4 Usar Word',\n",
    "    5: '17.5 Procesar Datos',\n",
    "    6: '17.6 Resolver problemas a través de herramientas computacionales (como simulaciones)',\n",
    "    7: '17.7 Resolver problemas a través de herramientas computacionales (como lenguajes de programación)'\n",
    "}"
   ]
  },
  {
   "cell_type": "markdown",
   "id": "54fc73af",
   "metadata": {
    "pycharm": {
     "name": "#%% md\n"
    }
   },
   "source": [
    "### Pre"
   ]
  },
  {
   "cell_type": "code",
   "execution_count": 122,
   "id": "b90f1ac6",
   "metadata": {
    "pycharm": {
     "name": "#%%\n"
    }
   },
   "outputs": [],
   "source": [
    "df_pre[col] = df_pre[col].str.replace('-1', '0').copy()\n",
    "temp = df_pre[col].str.split(r'\\b\\D+\\b', expand=True).copy()\n",
    "temp.iloc[:, 1:] = temp.iloc[:, 1:].astype(float).replace(de_acuerdo)\n",
    "temp.rename(replaced_values, axis=1, inplace=True)\n",
    "temp.drop([0], axis=1, inplace=True)\n",
    "for cole in temp.columns:\n",
    "        df_pre[cole] = temp[cole]"
   ]
  },
  {
   "cell_type": "markdown",
   "id": "60d34775",
   "metadata": {
    "pycharm": {
     "name": "#%% md\n"
    }
   },
   "source": [
    "### Post"
   ]
  },
  {
   "cell_type": "code",
   "execution_count": 123,
   "id": "a1293d40",
   "metadata": {
    "pycharm": {
     "name": "#%%\n"
    }
   },
   "outputs": [],
   "source": [
    "df_post[col] = df_post[col].str.replace('-1', '0').copy()\n",
    "temp = df_post[col].str.split(r'\\b\\D+\\b', expand=True)\n",
    "temp.iloc[:, 1:] = temp.iloc[:, 1:].astype(float).replace(de_acuerdo)\n",
    "temp.rename(replaced_values, axis=1, inplace=True)\n",
    "temp.drop([0], axis=1, inplace=True)\n",
    "\n",
    "for cole in temp.columns:\n",
    "        df_post[cole] = temp[cole]"
   ]
  },
  {
   "cell_type": "markdown",
   "id": "e0f74f44",
   "metadata": {
    "pycharm": {
     "name": "#%% md\n"
    }
   },
   "source": [
    "## Pregunta 18\n"
   ]
  },
  {
   "cell_type": "code",
   "execution_count": 124,
   "id": "ae8a5820",
   "metadata": {
    "pycharm": {
     "name": "#%%\n"
    }
   },
   "outputs": [],
   "source": [
    "col = \"18. Integración Pensamiento Computacional\"\n",
    "\n",
    "replaced_values = {\n",
    "    1: '18.1 Puedo aplicar las prácticas y habilidades del pensamiento computacional a mi trabajo',\n",
    "    2: '18.2 Puedo definir el pensamiento computacional',\n",
    "    3: '18.3 Puedo describir las prácticas y habilidades que componen el pensamiento computacional a mis estudiantes',\n",
    "    4: '18.4 Puedo aplicar las prácticas y habilidades del pensamiento computacional a mi vida diaria',\n",
    "    5: '18.5 Creo que tengo las habilidades para desarrollar el pensamiento computacional en mis estudiantes',\n",
    "    6: '18.6 Puedo enseñar fácilmente sobre nuevas prácticas computacionales',\n",
    "    7: '18.7 Puedo diseñar una clase que desarrolle el pensamiento computacional en los estudiantes',\n",
    "    8: '18.8 Puedo seleccionar tecnologías para usar en mi salón de clases, que me permitan mejorar qué enseño y cómo enseño pensamiento computacional.',\n",
    "    9: '18.9 Puedo aplicar mis habilidades en pensamiento computacional para ayudar a los estudiantes a perseguir sus intereses individuales',\n",
    "    10:'18.10 Puedo implementar y evaluar la idoneidad de una estrategia pedagógica que le permita a los estudiantes desarrollar pensamiento computacional'\n",
    "}"
   ]
  },
  {
   "cell_type": "markdown",
   "id": "81827541",
   "metadata": {
    "pycharm": {
     "name": "#%% md\n"
    }
   },
   "source": [
    "### Pre"
   ]
  },
  {
   "cell_type": "code",
   "execution_count": 125,
   "id": "6fcf4140",
   "metadata": {
    "pycharm": {
     "name": "#%%\n"
    }
   },
   "outputs": [],
   "source": [
    "df_pre[col] = df_pre[col].str.replace('-1', '0').copy()\n",
    "temp = df_pre[col].str.split(r'\\b\\D+\\b', expand=True).copy()\n",
    "temp.iloc[:, 1:] = temp.iloc[:, 1:].astype(float).replace(de_acuerdo)\n",
    "temp.rename(replaced_values, axis=1, inplace=True)\n",
    "temp.drop([0], axis=1, inplace=True)\n",
    "for cole in temp.columns:\n",
    "        df_pre[cole] = temp[cole]"
   ]
  },
  {
   "cell_type": "markdown",
   "id": "050333ce",
   "metadata": {
    "pycharm": {
     "name": "#%% md\n"
    }
   },
   "source": [
    "### Post"
   ]
  },
  {
   "cell_type": "code",
   "execution_count": 126,
   "id": "978f5550",
   "metadata": {
    "pycharm": {
     "name": "#%%\n"
    }
   },
   "outputs": [],
   "source": [
    "df_post[col] = df_post[col].str.replace('-1', '0').copy()\n",
    "temp = df_post[col].str.split(r'\\b\\D+\\b', expand=True)\n",
    "temp.iloc[:, 1:] = temp.iloc[:, 1:].astype(float).replace(de_acuerdo)\n",
    "temp.rename(replaced_values, axis=1, inplace=True)\n",
    "temp.drop([0], axis=1, inplace=True)\n",
    "\n",
    "for cole in temp.columns:\n",
    "        df_post[cole] = temp[cole]"
   ]
  },
  {
   "cell_type": "markdown",
   "id": "95dcc0f5",
   "metadata": {
    "pycharm": {
     "name": "#%% md\n"
    }
   },
   "source": [
    "## Pregunta 20\n"
   ]
  },
  {
   "cell_type": "code",
   "execution_count": 127,
   "id": "d8b2cf1d",
   "metadata": {
    "pycharm": {
     "name": "#%%\n"
    }
   },
   "outputs": [],
   "source": [
    "col = \"20. Prácticas pedagógicas\"\n",
    "\n",
    "replaced_values = {\n",
    "    1: '20.1 Actividades desconectadas',\n",
    "    2: '20.2 Usa-Modifica-Crea',\n",
    "    3: '20.3 Clase magistral',\n",
    "    4: '20.4 Enseñanza explícita y sin ambigüedades',\n",
    "    5: '20.5 Marcha Silenciosa',\n",
    "    6: '20.6 Aprendizaje basado en proyectos',\n",
    "}"
   ]
  },
  {
   "cell_type": "markdown",
   "id": "d99c3157",
   "metadata": {
    "pycharm": {
     "name": "#%% md\n"
    }
   },
   "source": [
    "### Pre"
   ]
  },
  {
   "cell_type": "code",
   "execution_count": 128,
   "id": "5e52b758",
   "metadata": {
    "pycharm": {
     "name": "#%%\n"
    }
   },
   "outputs": [],
   "source": [
    "df_pre[col] = df_pre[col].str.replace('-1', '0').copy()\n",
    "temp = df_pre[col].str.split(r'\\b\\D+\\b', expand=True).copy()\n",
    "temp.iloc[:, 1:] = temp.iloc[:, 1:].astype(float)\n",
    "temp.rename(replaced_values, axis=1, inplace=True)\n",
    "temp.drop([0], axis=1, inplace=True)\n",
    "for cole in temp.columns:\n",
    "        df_pre[cole] = temp[cole]"
   ]
  },
  {
   "cell_type": "markdown",
   "id": "3b95abea",
   "metadata": {
    "pycharm": {
     "name": "#%% md\n"
    }
   },
   "source": [
    "### Post"
   ]
  },
  {
   "cell_type": "code",
   "execution_count": 129,
   "id": "065b8229",
   "metadata": {
    "pycharm": {
     "name": "#%%\n"
    }
   },
   "outputs": [],
   "source": [
    "df_post[col] = df_post[col].str.replace('-1', '0').copy()\n",
    "temp = df_post[col].str.split(r'\\b\\D+\\b', expand=True)\n",
    "temp.iloc[:, 1:] = temp.iloc[:, 1:].astype(int)\n",
    "temp.rename(replaced_values, axis=1, inplace=True)\n",
    "temp.drop([0], axis=1, inplace=True)\n",
    "\n",
    "for cole in temp.columns:\n",
    "        df_post[cole] = temp[cole]"
   ]
  },
  {
   "cell_type": "markdown",
   "id": "de807f8e",
   "metadata": {
    "pycharm": {
     "name": "#%% md\n"
    }
   },
   "source": [
    "## Pregunta 22\n"
   ]
  },
  {
   "cell_type": "code",
   "execution_count": 130,
   "id": "9b058c4c",
   "metadata": {
    "pycharm": {
     "name": "#%%\n"
    }
   },
   "outputs": [],
   "source": [
    "col = \"22. Estrategias contra dificultades\"\n",
    "\n",
    "replaced_values = {\n",
    "    1: '22.1 Le explicaría la respuesta correcta',\n",
    "    2: '22.2 Le sugeriría ir paso a paso por el programa simulando su ejecución',\n",
    "    3: '22.3 Le diría que revise sus notas',\n",
    "    4: '22.4 Le sugeriría que revise las memorias colectivas',\n",
    "    5: '22.5 Le sugeriría volver a leer el problema',\n",
    "    6: '22.6 Le sugeriría intentar con varios valores para evaluar el programa',\n",
    "    7: '22.7 Le explicaría el problema nuevamente'\n",
    "}"
   ]
  },
  {
   "cell_type": "markdown",
   "id": "08dc6bf4",
   "metadata": {
    "pycharm": {
     "name": "#%% md\n"
    }
   },
   "source": [
    "### Pre"
   ]
  },
  {
   "cell_type": "code",
   "execution_count": 131,
   "id": "ce02e63f",
   "metadata": {
    "pycharm": {
     "name": "#%%\n"
    }
   },
   "outputs": [],
   "source": [
    "df_pre[col] = df_pre[col].str.replace('-1', '0').copy()\n",
    "temp = df_pre[col].str.split(r'\\b\\D+\\b', expand=True).copy()\n",
    "temp.iloc[:, 1:] = temp.iloc[:, 1:].astype(float)\n",
    "temp.rename(replaced_values, axis=1, inplace=True)\n",
    "temp.drop([0], axis=1, inplace=True)\n",
    "for cole in temp.columns:\n",
    "        df_pre[cole] = temp[cole]"
   ]
  },
  {
   "cell_type": "markdown",
   "id": "6ed930f9",
   "metadata": {
    "pycharm": {
     "name": "#%% md\n"
    }
   },
   "source": [
    "### Post"
   ]
  },
  {
   "cell_type": "code",
   "execution_count": 132,
   "id": "051d247c",
   "metadata": {
    "pycharm": {
     "name": "#%%\n"
    }
   },
   "outputs": [],
   "source": [
    "df_post[col] = df_post[col].str.replace('-1', '0').copy()\n",
    "temp = df_post[col].str.split(r'\\b\\D+\\b', expand=True)\n",
    "temp.iloc[:, 1:] = temp.iloc[:, 1:].astype(int)\n",
    "temp.rename(replaced_values, axis=1, inplace=True)\n",
    "temp.drop([0], axis=1, inplace=True)\n",
    "\n",
    "for cole in temp.columns:\n",
    "        df_post[cole] = temp[cole]"
   ]
  },
  {
   "cell_type": "markdown",
   "id": "eb528e1d",
   "metadata": {
    "pycharm": {
     "name": "#%% md\n"
    }
   },
   "source": [
    "## Pregunta 24"
   ]
  },
  {
   "cell_type": "code",
   "execution_count": 133,
   "id": "9ea8fca8",
   "metadata": {
    "pycharm": {
     "name": "#%%\n"
    }
   },
   "outputs": [],
   "source": [
    "opciones =[\n",
    "    \"No, solo está usando computadores\",\n",
    "    \"No, los estudiantes sólo están aprendiendo a cargar cosas en un archivo compartido y crear un gráfico\",\n",
    "    \"Si, los estudiantes están aprendiendo sobre modelos computacionales para la predicción del clima\",\n",
    "    \"Si, los estudiantes están aprendiendo a recolectar, organizar, y analizar datos.\",\n",
    "    \"Otra:\"\n",
    "]\n",
    "\n",
    "\n",
    "col = \"24. Margarita\""
   ]
  },
  {
   "cell_type": "markdown",
   "id": "01b03dee",
   "metadata": {
    "pycharm": {
     "name": "#%% md\n"
    }
   },
   "source": [
    "### Pre"
   ]
  },
  {
   "cell_type": "code",
   "execution_count": 134,
   "id": "db25c615",
   "metadata": {
    "pycharm": {
     "name": "#%%\n"
    }
   },
   "outputs": [],
   "source": [
    "divide_question_YES_NO(24, col, opciones, df_pre)"
   ]
  },
  {
   "cell_type": "markdown",
   "id": "0129fb9a",
   "metadata": {
    "pycharm": {
     "name": "#%% md\n"
    }
   },
   "source": [
    "### Post"
   ]
  },
  {
   "cell_type": "code",
   "execution_count": 135,
   "id": "89d89381",
   "metadata": {
    "pycharm": {
     "name": "#%%\n"
    }
   },
   "outputs": [],
   "source": [
    "divide_question_YES_NO(24, col, opciones, df_post)"
   ]
  },
  {
   "cell_type": "markdown",
   "id": "4268bd02",
   "metadata": {
    "pycharm": {
     "name": "#%% md\n"
    }
   },
   "source": [
    "## Pregunta 25"
   ]
  },
  {
   "cell_type": "code",
   "execution_count": 136,
   "id": "8ffc72b9",
   "metadata": {
    "pycharm": {
     "name": "#%%\n"
    }
   },
   "outputs": [],
   "source": [
    "opciones = [\n",
    "    \"No, en ningún momento de habla de computadores\",\n",
    "    \"Si, María está dividiendo el problema en problemas más sencillos\",\n",
    "    \"Si, María está usando un algoritmo para encontrar su almuerzo\",\n",
    "    \"No, María solo está buscando su almuerzo\",\n",
    "    \"Otra:\"\n",
    "]\n",
    "\n",
    "\n",
    "col = \"25. Cafeteria del Colegio\""
   ]
  },
  {
   "cell_type": "markdown",
   "id": "2df81923",
   "metadata": {
    "pycharm": {
     "name": "#%% md\n"
    }
   },
   "source": [
    "### Pre"
   ]
  },
  {
   "cell_type": "code",
   "execution_count": 137,
   "id": "c4ee4fe7",
   "metadata": {
    "pycharm": {
     "name": "#%%\n"
    }
   },
   "outputs": [],
   "source": [
    "divide_question_YES_NO(25, col, opciones, df_pre)"
   ]
  },
  {
   "cell_type": "markdown",
   "id": "f3de2b32",
   "metadata": {
    "pycharm": {
     "name": "#%% md\n"
    }
   },
   "source": [
    "### Post"
   ]
  },
  {
   "cell_type": "code",
   "execution_count": 138,
   "id": "8c88da07",
   "metadata": {
    "pycharm": {
     "name": "#%%\n"
    }
   },
   "outputs": [],
   "source": [
    "divide_question_YES_NO(25, col, opciones, df_post)"
   ]
  },
  {
   "cell_type": "markdown",
   "id": "3a4e2d1c",
   "metadata": {
    "pycharm": {
     "name": "#%% md\n"
    }
   },
   "source": [
    "## Eliminando todos los que no tengan conocimientos\n"
   ]
  },
  {
   "cell_type": "code",
   "execution_count": 139,
   "id": "1eacc91a",
   "metadata": {
    "pycharm": {
     "name": "#%%\n"
    }
   },
   "outputs": [],
   "source": [
    "filas_conocimientos = [\n",
    "    \"24. Margarita\" ,\n",
    "    \"25. Cafeteria del Colegio\",\n",
    "    \"26. Raton robot\",\n",
    "    \"27. Diagrama de flujo\",\n",
    "    \"28. Variable secuela\",\n",
    "    \"29. A B C\",\n",
    "    \"30. Manzana Uvas Bananas\",\n",
    "    \"31. Variables booleanas\",\n",
    "    \"32. Alcaldía Valeria\",\n",
    "    \"33. Botella de Color\",\n",
    "    \"34. Alejandra codigo bloque\"\n",
    "]\n",
    "df_pre.dropna(axis=0,subset=filas_conocimientos, inplace=True)\n",
    "df_post.dropna(axis=0,subset=filas_conocimientos, inplace=True)"
   ]
  },
  {
   "cell_type": "markdown",
   "id": "60bf1295",
   "metadata": {
    "pycharm": {
     "name": "#%% md\n"
    }
   },
   "source": [
    "## Acomodando filas"
   ]
  },
  {
   "cell_type": "code",
   "execution_count": 140,
   "id": "9d5c2889",
   "metadata": {
    "pycharm": {
     "name": "#%%\n"
    }
   },
   "outputs": [],
   "source": [
    "df_pre = df_pre[sorted(df_pre.columns)].copy()"
   ]
  },
  {
   "cell_type": "code",
   "execution_count": 141,
   "id": "884ac680",
   "metadata": {
    "pycharm": {
     "name": "#%%\n"
    }
   },
   "outputs": [],
   "source": [
    "df_post = df_post[sorted(df_post.columns)].copy()"
   ]
  },
  {
   "cell_type": "code",
   "execution_count": 142,
   "id": "bb37cd72",
   "metadata": {
    "pycharm": {
     "name": "#%%\n"
    }
   },
   "outputs": [],
   "source": [
    "cedulas = set(df_pre[\"1. Cédula\"]).intersection(set(df_post[\"1. Cédula\"]))\n",
    "\n",
    "df_pre = df_pre[df_pre[\"1. Cédula\"].isin(cedulas)]\n",
    "df_post = df_post[df_post[\"1. Cédula\"].isin(cedulas)]\n",
    "\n",
    "df_pre[\"Tipo\"] = \"Prestest\"\n",
    "df_post[\"Tipo\"] = \"Postest\"\n"
   ]
  },
  {
   "cell_type": "code",
   "execution_count": 150,
   "id": "886316d4",
   "metadata": {
    "pycharm": {
     "name": "#%%\n"
    }
   },
   "outputs": [],
   "source": [
    "col_caracterizacion=  [\n",
    "    \"1. Cédula\",\n",
    "    \"2. Edad\",\n",
    "    \"3. Contexto IDE\",\n",
    "    \"4. Género\",\n",
    "    \"5. Cabeza de Hogar\",\n",
    "    \"6. Estado Civil\",\n",
    "    \"7. Horas semanales\",\n",
    "    \"8. ¿Es usted líder comunitario?\",\n",
    "    \"9. Áreas en las que enseña\",\n",
    "    \"10. Es docente STEM\",\n",
    "    \"11. Formación\",\n",
    "]\n",
    "\n",
    "temp = df_pre[col_caracterizacion]\n",
    "df_post = df_post.merge(temp, on=\"1. Cédula\")\n",
    "df_combined = pd.concat([df_pre,df_post])"
   ]
  },
  {
   "cell_type": "markdown",
   "id": "1669b747",
   "metadata": {
    "pycharm": {
     "name": "#%% md\n"
    }
   },
   "source": [
    "## Añadiendo scripts"
   ]
  },
  {
   "cell_type": "code",
   "execution_count": 151,
   "id": "da5a3d5b",
   "metadata": {
    "pycharm": {
     "name": "#%%\n"
    }
   },
   "outputs": [],
   "source": [
    "escalas_iniciales = pd.read_excel(\"inicial_escalas.xlsx\")\n",
    "escalas_iniciales.rename(columns={'CC':'1. Cédula'},inplace=True)\n",
    "df_combined[\"1. Cédula\"] = df_combined[\"1. Cédula\"].astype(int)"
   ]
  },
  {
   "cell_type": "code",
   "execution_count": 152,
   "id": "cb83ce3e",
   "metadata": {
    "pycharm": {
     "name": "#%%\n"
    }
   },
   "outputs": [],
   "source": [
    "df_combined = df_combined.merge(escalas_iniciales, on=['1. Cédula','Tipo'])"
   ]
  },
  {
   "cell_type": "code",
   "execution_count": 153,
   "id": "5077c194",
   "metadata": {
    "pycharm": {
     "name": "#%%\n"
    }
   },
   "outputs": [
    {
     "data": {
      "text/plain": "['1. Cédula',\n '10. Es docente STEM',\n '10. Es docente STEM_x',\n '10. Es docente STEM_y',\n '11. Formación',\n '11. Formación_x',\n '11. Formación_y',\n '12. Estrategias en clase',\n '12.1 Realizar clubes y actividades extracurriculares para niñas y jóvenes como refuerzo de lo visto en las class de áreas STEM.',\n '12.2 Destacar y reconocer los logros de las niñas y jóvenes, por ejemplo, promover concursos diferenciados por género, como, premio la niña científica y el niño científico.Dar referencias o modelos de mujeres destacadas en las áreas STEM, por ejemplo, mostrar la pelicula de Marie Curie.',\n '12.3 Motivar que las niñas participen y sean escuchadas, por ejemplo, alternándolas con los niños.',\n '12.4 Estimular el liderazgo femenino, por ejemplo, que las niñas y adolescentes sean representantes de grupo.',\n '12.5 Generar espacios de confianza para las niñas, por ejemplo, realizando reflexiones sobre el género al comienzo de la clase.',\n '12.6 Prohibir y corregir los comentarios, actitudes y acciones sexistas.',\n '12.7 Utilizar lenguaje inclusivo y no realizar estereotipos de género, por ejemplo, decir \"todas las personas* en vez de \"todos los niños\" evitar decir que las niñas son delicadas.',\n '12.8 Tratos y estímulos igualitarios a toda y todo estudiante independientemente de su género.',\n '12.9 Observar el comportamiento de los niños hacia las niñas porque a ellas no se les puede tocar ni con el pétalo de una rosa.',\n '13. Afirmaciones de Género',\n '13.1 Es preferible que las mujeres enseñen ciencias sociales y los hombres ciencias exactas.',\n '13.10 Los hombres son muy âgiles tomando decisions importantes.',\n '13.11 Las niñas son más ordenadas que los niños.',\n '13.12 Muchas mujeres se caracterizan por una pureza que pocos hombres poseen.',\n '13.13 Las mujeres deben ser queridas y protegidas por los hombres.',\n '13.14 Todo hombre debe tener una mujer a quien amar.',\n '13.15 El hombre está incompleto sin la mujer.',\n '13.16 Las mujeres en comparación con los hombres, tienden a tener un sentido más refinado de la cultura y el buen gusto.',\n '13.2 Es normal que la mayoria de ingenieros mecánicos sean varones porque los hombres son mejores para los números.',\n '13.3 Por su esencia una mujer tiene mejor desempeño en un proyecto de alto impacto social que en un proyecto de robótica industrial.',\n '13.4 Los hombres son mejores para la tecnologia que las mujeres.',\n '13.5 Las mujeres tienen mayores habilidades para provectos sociales que tecnológicos',\n '13.6 Los grandes aportes en la computación han sido hechos por hombres.',\n '13.7 Que la mayoria de mujeres no opte por areas exactas es simplemente una cuestión de preferencias.',\n '13.8 Que la mayoria de personas en artes y humanidades sean mujeres es muestra de su sensibilidad.',\n '13.9 Es natural que los hombres sean buenos para los números y las mujeres para las letras.',\n '14. Comentarios.',\n '15. Afirmaciones autoeficacia técnologica',\n '15.1 Sé cómo resolver los problemas técnicos cuando fallan las TIC',\n '15.2 Puedo aprender sobre nuevas tecnologías fácilmente',\n '15.3 Sé cómo usar las TIC con los estudiantes en clase',\n '15.4 Me apoyo en mis colegas para resolver problemas sobre cómo trabajar algún tema',\n '15.5 Puedo hablar con otros docentes sobre el diseño de cursos',\n '15.6 Siento que tengo apoyo de otros docentes para el diseño de mis cursos',\n '15.7 No tengo con quién conversar sobre el diseño de mis cursos',\n '17. Practicas',\n '17.1 Usar el correo electrónico',\n '17.2 Crear y usar de modelos y simulaciones',\n '17.3 Automatizar tareas',\n '17.4 Usar Word',\n '17.5 Procesar Datos',\n '17.6 Resolver problemas a través de herramientas computacionales (como simulaciones)',\n '17.7 Resolver problemas a través de herramientas computacionales (como lenguajes de programación)',\n '18. Integración Pensamiento Computacional',\n '18.1 Puedo aplicar las prácticas y habilidades del pensamiento computacional a mi trabajo',\n '18.10 Puedo implementar y evaluar la idoneidad de una estrategia pedagógica que le permita a los estudiantes desarrollar pensamiento computacional',\n '18.2 Puedo definir el pensamiento computacional',\n '18.3 Puedo describir las prácticas y habilidades que componen el pensamiento computacional a mis estudiantes',\n '18.4 Puedo aplicar las prácticas y habilidades del pensamiento computacional a mi vida diaria',\n '18.5 Creo que tengo las habilidades para desarrollar el pensamiento computacional en mis estudiantes',\n '18.6 Puedo enseñar fácilmente sobre nuevas prácticas computacionales',\n '18.7 Puedo diseñar una clase que desarrolle el pensamiento computacional en los estudiantes',\n '18.8 Puedo seleccionar tecnologías para usar en mi salón de clases, que me permitan mejorar qué enseño y cómo enseño pensamiento computacional.',\n '18.9 Puedo aplicar mis habilidades en pensamiento computacional para ayudar a los estudiantes a perseguir sus intereses individuales',\n '19. Comentarios.',\n '2. Edad',\n '2. Edad_x',\n '2. Edad_y',\n '20. Prácticas pedagógicas',\n '20.1 Actividades desconectadas',\n '20.2 Usa-Modifica-Crea',\n '20.3 Clase magistral',\n '20.4 Enseñanza explícita y sin ambigüedades',\n '20.5 Marcha Silenciosa',\n '20.6 Aprendizaje basado en proyectos',\n '21. Comentarios.',\n '22. Estrategias contra dificultades',\n '22.1 Le explicaría la respuesta correcta',\n '22.2 Le sugeriría ir paso a paso por el programa simulando su ejecución',\n '22.3 Le diría que revise sus notas',\n '22.4 Le sugeriría que revise las memorias colectivas',\n '22.5 Le sugeriría volver a leer el problema',\n '22.6 Le sugeriría intentar con varios valores para evaluar el programa',\n '22.7 Le explicaría el problema nuevamente',\n '24. Margarita',\n '24.1 No, solo está usando computadores',\n '24.2 No, los estudiantes sólo están aprendiendo a cargar cosas en un archivo compartido y crear un gráfico',\n '24.3 Si, los estudiantes están aprendiendo sobre modelos computacionales para la predicción del clima',\n '24.4 Si, los estudiantes están aprendiendo a recolectar, organizar, y analizar datos.',\n '24.5 Otra:',\n '25. Cafeteria del Colegio',\n '25.1 No, en ningún momento de habla de computadores',\n '25.2 Si, María está dividiendo el problema en problemas más sencillos',\n '25.3 Si, María está usando un algoritmo para encontrar su almuerzo',\n '25.4 No, María solo está buscando su almuerzo',\n '25.5 Otra:',\n '26. Raton robot',\n '27. Diagrama de flujo',\n '28. Variable secuela',\n '29. A B C',\n '3. Contexto IDE',\n '3. Contexto IDE_x',\n '3. Contexto IDE_y',\n '30. Manzana Uvas Bananas',\n '31. Variables booleanas',\n '32. Alcaldía Valeria',\n '33. Botella de Color',\n '34. Alejandra codigo bloque',\n '35. Comentarios',\n '4. Género',\n '4. Género_x',\n '4. Género_y',\n '5. Cabeza de Hogar',\n '5. Cabeza de Hogar_x',\n '5. Cabeza de Hogar_y',\n '6. Estado Civil',\n '6. Estado Civil_x',\n '6. Estado Civil_y',\n '7. Horas semanales',\n '7. Horas semanales_x',\n '7. Horas semanales_y',\n '8. ¿Es usted líder comunitario?',\n '8. ¿Es usted líder comunitario?_x',\n '8. ¿Es usted líder comunitario?_y',\n '9. Áreas en las que enseña',\n '9. Áreas en las que enseña_x',\n '9. Áreas en las que enseña_y',\n '9.1 Ciencias naturales y educación ambiental',\n '9.10 Otro',\n '9.2 Ciencias sociales, historia, geografía, constitución política y democracia',\n '9.3 Educación artística',\n '9.4 Educación ética y en valores humanos',\n '9.5 Educación física, recreación y deportes',\n '9.6 Educación religiosa',\n '9.7 Humanidades, lengua castellana e idiomas extranjeros',\n '9.8 Matemáticas',\n '9.9 Tecnología e informática',\n 'Apellido',\n 'Correo Electrónico',\n 'Curso',\n 'Encuesta',\n 'Hora',\n 'ID Asignado Por Moodle',\n 'Nombre',\n 'Tipo',\n 'autoeficaciaPC',\n 'autoeficaciaTecno',\n 'conocimie_pedag',\n 'conocimientoTotal',\n 'estereoBenevol',\n 'sentidoComuni',\n 'sexismoBenevol',\n 'sexismoSTEM']"
     },
     "execution_count": 153,
     "metadata": {},
     "output_type": "execute_result"
    }
   ],
   "source": [
    "sorted(df_combined.columns)"
   ]
  },
  {
   "cell_type": "code",
   "execution_count": 154,
   "id": "18bc19af",
   "metadata": {
    "pycharm": {
     "name": "#%%\n"
    }
   },
   "outputs": [],
   "source": [
    "#Dividiendo\n",
    "inicial =[\n",
    "    '1. Cédula',\n",
    "    '2. Edad',\n",
    "    '4. Género',\n",
    "    '5. Cabeza de Hogar',\n",
    "    '6. Estado Civil',\n",
    "    '7. Horas semanales',\n",
    "    '8. ¿Es usted líder comunitario?',\n",
    "    '9. Áreas en las que enseña',\n",
    "    '3. Contexto IDE',\n",
    "    '10. Es docente STEM',\n",
    "    '11. Formación',\n",
    "    'Apellido',\n",
    "    'Correo Electrónico',\n",
    "    'Curso',\n",
    "    'Encuesta',\n",
    "    'Hora',\n",
    "    'ID Asignado Por Moodle',\n",
    "    'Nombre',\n",
    "    'Tipo',\n",
    "\n",
    "    ]\n",
    "\n",
    "numbers = [15,17,18,20,22]\n",
    "escalas = ['autoeficaciaPC','autoeficaciaTecno','conocimie_pedag','sentidoComuni']\n",
    "cols = []\n",
    "for number in numbers:\n",
    "    for col in df_combined.columns:\n",
    "        if (f\"{number}.\" in col):\n",
    "            cols.append(col)\n",
    "\n",
    "df_combined[inicial+cols+escalas].to_excel(\"Autoeficacia.xlsx\")\n",
    "\n",
    "col = [\n",
    "    \"24. Margarita\",\n",
    "    \"25. Cafeteria del Colegio\",\n",
    "    \"26. Raton robot\",\n",
    "    \"27. Diagrama de flujo\",\n",
    "    \"28. Variable secuela\",\n",
    "    \"29. A B C\",\n",
    "    \"30. Manzana Uvas Bananas\",\n",
    "    \"31. Variables booleanas\",\n",
    "    \"32. Alcaldía Valeria\",\n",
    "    \"33. Botella de Color\",\n",
    "    \"34. Alejandra codigo bloque\"\n",
    "]\n",
    "escalas = ['conocimientoTotal']\n",
    "df_combined[inicial+col+escalas].to_excel(\"Conocimiento.xlsx\")\n",
    "\n",
    "numbers = [13]\n",
    "cols = []\n",
    "escalas = ['estereoBenevol', 'sexismoBenevol','sexismoSTEM']\n",
    "for number in numbers:\n",
    "    for col in df_combined.columns:\n",
    "        if (f\"{number}.\" in col):\n",
    "            cols.append(col)\n",
    "\n",
    "df_combined[inicial+cols+escalas].to_excel(\"Género.xlsx\")\n"
   ]
  },
  {
   "cell_type": "markdown",
   "id": "e6495084",
   "metadata": {
    "pycharm": {
     "name": "#%% md\n"
    }
   },
   "source": [
    "## Exportando"
   ]
  },
  {
   "cell_type": "code",
   "execution_count": 148,
   "outputs": [],
   "source": [
    "df_pre.to_excel(\"Inicial_Pre_Cohorte1.xlsx\")\n",
    "df_post.to_excel(\"Inicial_Post_Cohorte1.xlsx\")\n",
    "df_combined.to_excel(\"Inicial_Pre_Y_Post_Cohorte1.xlsx\")"
   ],
   "metadata": {
    "collapsed": false,
    "pycharm": {
     "name": "#%%\n"
    }
   }
  },
  {
   "cell_type": "code",
   "execution_count": null,
   "outputs": [],
   "source": [],
   "metadata": {
    "collapsed": false,
    "pycharm": {
     "name": "#%%\n"
    }
   }
  }
 ],
 "metadata": {
  "kernelspec": {
   "display_name": "Python 3 (ipykernel)",
   "language": "python",
   "name": "python3"
  },
  "language_info": {
   "codemirror_mode": {
    "name": "ipython",
    "version": 3
   },
   "file_extension": ".py",
   "mimetype": "text/x-python",
   "name": "python",
   "nbconvert_exporter": "python",
   "pygments_lexer": "ipython3",
   "version": "3.9.13"
  }
 },
 "nbformat": 4,
 "nbformat_minor": 5
}